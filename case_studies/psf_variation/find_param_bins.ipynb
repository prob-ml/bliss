{
 "cells": [
  {
   "cell_type": "code",
   "execution_count": 1,
   "metadata": {},
   "outputs": [],
   "source": [
    "%load_ext autoreload\n",
    "%autoreload 2\n",
    "%matplotlib inline"
   ]
  },
  {
   "cell_type": "code",
   "execution_count": 2,
   "metadata": {},
   "outputs": [],
   "source": [
    "from os import environ\n",
    "\n",
    "import torch\n",
    "from torch.utils.data import DataLoader\n",
    "import pandas as pd\n",
    "import numpy as np\n",
    "\n",
    "import matplotlib\n",
    "import matplotlib.pyplot as plt\n",
    "import seaborn as sns\n",
    "\n",
    "from tqdm.notebook import tqdm\n",
    "\n",
    "from hydra import initialize, compose\n",
    "from hydra.utils import instantiate\n",
    "\n",
    "from bliss.catalog import TileCatalog, convert_mag_to_nmgy, convert_nmgy_to_mag"
   ]
  },
  {
   "cell_type": "code",
   "execution_count": 9,
   "metadata": {},
   "outputs": [],
   "source": [
    "with initialize(config_path=\"./conf\", version_base=None):\n",
    "    cfg = compose(\"config\")\n",
    "\n",
    "data_path = \"/data/scratch/aakash/multi_field\"\n",
    "cached_dataset = instantiate(cfg.cached_simulator, cached_data_path=data_path, splits=\"0:0/0:0/90:100\")\n",
    "cached_dataset.setup(stage=\"test\")\n",
    "test_size = len(cached_dataset.test_dataset)"
   ]
  },
  {
   "cell_type": "code",
   "execution_count": 10,
   "metadata": {},
   "outputs": [
    {
     "data": {
      "application/vnd.jupyter.widget-view+json": {
       "model_id": "b570547e31ef478ea6ac2e65cd37b6ce",
       "version_major": 2,
       "version_minor": 0
      },
      "text/plain": [
       "Getting fluxes:   0%|          | 0/416 [00:00<?, ?it/s]"
      ]
     },
     "metadata": {},
     "output_type": "display_data"
    },
    {
     "name": "stdout",
     "output_type": "stream",
     "text": [
      "77689\n"
     ]
    }
   ],
   "source": [
    "all_mags = []\n",
    "for batch in tqdm(cached_dataset.test_dataloader(), desc=\"Getting fluxes\"):\n",
    "    tile_cat = TileCatalog(4, batch[\"tile_catalog\"])\n",
    "    mags = tile_cat.magnitudes[..., 2]\n",
    "    mags = torch.masked_select(mags, tile_cat.is_on_mask * (mags < 22))\n",
    "    all_mags += mags.tolist()\n",
    "print(len(all_mags))"
   ]
  },
  {
   "cell_type": "code",
   "execution_count": 11,
   "metadata": {},
   "outputs": [
    {
     "name": "stdout",
     "output_type": "stream",
     "text": [
      "Quantiles   0.000  0.100  0.200  0.300  0.400  0.500  0.600  0.700  0.800  0.900  1.000\n",
      "------------\n",
      "mags        7.868, 17.777, 19.101, 19.781, 20.258, 20.625, 20.940, 21.227, 21.495, 21.746, 22.000\n"
     ]
    }
   ],
   "source": [
    "qs = torch.linspace(0, 1, 11)\n",
    "print_qs = \"  \".join([f\"{q:<02.3f}\" for q in qs])\n",
    "print(f\"{'Quantiles':<12s}{print_qs}\\n------------\")\n",
    "\n",
    "mag_quantiles = torch.quantile(torch.tensor(all_mags), qs)\n",
    "print_qt = \", \".join([f\"{qt:<2.3f}\" for qt in mag_quantiles])\n",
    "print(f\"{'mags':<12s}{print_qt}\")"
   ]
  },
  {
   "cell_type": "code",
   "execution_count": 12,
   "metadata": {},
   "outputs": [
    {
     "data": {
      "image/png": "[encoded data removed]",
      "text/plain": [
       "<Figure size 640x480 with 1 Axes>"
      ]
     },
     "metadata": {},
     "output_type": "display_data"
    }
   ],
   "source": [
    "plt.hist(all_mags, bins=50);"
   ]
  }
 ],
 "metadata": {
  "kernelspec": {
   "display_name": "bliss-toolkit-av05Bskt-py3.10",
   "language": "python",
   "name": "python3"
  },
  "language_info": {
   "codemirror_mode": {
    "name": "ipython",
    "version": 3
   },
   "file_extension": ".py",
   "mimetype": "text/x-python",
   "name": "python",
   "nbconvert_exporter": "python",
   "pygments_lexer": "ipython3",
   "version": "3.10.12"
  }
 },
 "nbformat": 4,
 "nbformat_minor": 2
}

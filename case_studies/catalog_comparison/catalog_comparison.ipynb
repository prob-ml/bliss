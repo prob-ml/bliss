{
 "cells": [
  {
   "attachments": {},
   "cell_type": "markdown",
   "metadata": {},
   "source": [
    "# Compare BLISS and Photo Catalog against DECaLS on SDSS image"
   ]
  },
  {
   "cell_type": "code",
   "execution_count": null,
   "metadata": {},
   "outputs": [],
   "source": [
    "%load_ext autoreload\n",
    "%autoreload 2\n",
    "%matplotlib inline"
   ]
  },
  {
   "cell_type": "code",
   "execution_count": null,
   "metadata": {},
   "outputs": [],
   "source": [
    "from os import environ\n",
    "import torch\n",
    "import numpy as np\n",
    "import pandas as pd\n",
    "from matplotlib.markers import MarkerStyle\n",
    "import matplotlib.pyplot as plt\n",
    "\n",
    "from pathlib import Path\n",
    "\n",
    "from hydra import initialize, compose\n",
    "from hydra.utils import instantiate\n",
    "\n",
    "from bliss.encoder.encoder import Encoder\n",
    "from bliss.surveys.sdss import PhotoFullCatalog, SloanDigitalSkySurvey\n",
    "from bliss.surveys.decals import TractorFullCatalog\n",
    "from bliss.align import align\n",
    "from bliss.encoder.plots import plot_plocs\n",
    "from bliss.encoder.metrics import CatalogMetrics"
   ]
  },
  {
   "cell_type": "code",
   "execution_count": null,
   "metadata": {},
   "outputs": [],
   "source": [
    "environ[\"BLISS_HOME\"] = str(Path().resolve().parents[1])\n",
    "with initialize(config_path=\".\", version_base=None):\n",
    "    cfg = compose(\"config\")"
   ]
  },
  {
   "attachments": {},
   "cell_type": "markdown",
   "metadata": {},
   "source": [
    "## Load model and data"
   ]
  },
  {
   "cell_type": "code",
   "execution_count": null,
   "metadata": {},
   "outputs": [],
   "source": [
    "model: Encoder = instantiate(cfg.encoder)\n",
    "model.load_state_dict(torch.load(\"../../data/pretrained_models/psf_aware.pt\"))\n",
    "model.eval();"
   ]
  },
  {
   "cell_type": "code",
   "execution_count": null,
   "metadata": {},
   "outputs": [],
   "source": [
    "# load SDSS catalog, image and background, and WCS\n",
    "run, camcol, field = 94, 1, 12\n",
    "sdss = SloanDigitalSkySurvey(\"/data/sdss\", run, camcol, (field,))\n",
    "wcs = sdss[0][\"wcs\"]\n",
    "\n",
    "image = align(sdss[0]['image'], wcs)[None]\n",
    "background = align(sdss[0]['background'], wcs)[None]\n",
    "\n",
    "# crop to center, ensure dims are multiples of 16\n",
    "_, _, height, width = image.shape\n",
    "min_h, min_w = (height // 64) * 16, (width // 64) * 16\n",
    "max_h, max_w = min_h * 3, min_w * 3\n",
    "cropped_image = image[:, :, min_h:max_h, min_w:max_w]\n",
    "cropped_background = background[:, :, min_h:max_h, min_w:max_w]"
   ]
  },
  {
   "attachments": {},
   "cell_type": "markdown",
   "metadata": {},
   "source": [
    "### Load PSF parameters"
   ]
  },
  {
   "cell_type": "code",
   "execution_count": null,
   "metadata": {},
   "outputs": [],
   "source": [
    "simulator = instantiate(cfg.simulator)\n",
    "decoder = simulator.image_decoder\n",
    "\n",
    "psfs = [decoder.psf_galsim[(run, camcol, field)]]\n",
    "psf_params = decoder.psf_params[(run, camcol, field)][None]"
   ]
  },
  {
   "attachments": {},
   "cell_type": "markdown",
   "metadata": {},
   "source": [
    "### Load Photo and DECaLS catalogs based on SDSS image"
   ]
  },
  {
   "cell_type": "code",
   "execution_count": null,
   "metadata": {},
   "outputs": [],
   "source": [
    "crop_px = model.tiles_to_crop * model.tile_slen\n",
    "ra_lim, dec_lim = wcs[2].all_pix2world((min_w + crop_px, max_w - crop_px), (min_h + crop_px, max_h - crop_px), 0)  # don't include areas that will be cropped\n",
    "\n",
    "photo_cat = PhotoFullCatalog.from_file(\n",
    "    cfg.paths.sdss,\n",
    "    run=run, camcol=camcol, field=field, sdss_obj=sdss\n",
    ").restrict_by_ra_dec(ra_lim, dec_lim)\n",
    "\n",
    "decals_path = Path(cfg.paths.decals) / \"tractor-3366m010.fits\"\n",
    "decals_cat = TractorFullCatalog.from_file(decals_path, ra_lim, dec_lim, wcs=wcs[2])"
   ]
  },
  {
   "attachments": {},
   "cell_type": "markdown",
   "metadata": {},
   "source": [
    "## Make predictions"
   ]
  },
  {
   "cell_type": "code",
   "execution_count": null,
   "metadata": {},
   "outputs": [],
   "source": [
    "batch = {\n",
    "    \"images\": torch.from_numpy(cropped_image).float(),\n",
    "    \"background\": torch.from_numpy(cropped_background).float(),\n",
    "    \"psf_params\": psf_params.float()\n",
    "}"
   ]
  },
  {
   "cell_type": "code",
   "execution_count": null,
   "metadata": {},
   "outputs": [],
   "source": [
    "with torch.no_grad():\n",
    "    x_cat_marginal, _ = encoder.get_marginal(batch)\n",
    "    pred = encoder.get_predicted_dist(x_cat_marginal)\n",
    "    bliss_cat = model.variational_mode(pred)\n",
    "\n",
    "# adjust locations to account for cropped tiles and cropped image\n",
    "bliss_cat[\"plocs\"] = bliss_cat[\"plocs\"] + torch.tensor([crop_px + min_h, crop_px + min_w])"
   ]
  },
  {
   "cell_type": "code",
   "execution_count": null,
   "metadata": {},
   "outputs": [],
   "source": [
    "print(f\"{bliss_cat[\"n_sources\"].item()} light sources predicted by bliss\")\n",
    "print(f\"{photo_cat[\"n_sources\"].item()} light sources in PhotoCatalog\")\n",
    "print(f\"{decals_cat[\"n_sources\"].item()} light sources in DECaLS catalog\")"
   ]
  },
  {
   "attachments": {},
   "cell_type": "markdown",
   "metadata": {},
   "source": [
    "### Plot predictions"
   ]
  },
  {
   "cell_type": "code",
   "execution_count": null,
   "metadata": {},
   "outputs": [],
   "source": [
    "def three_way_matching(pred_cat, comp_cat, gt_cat, slack=1):\n",
    "    \"\"\"Performs a 3-way matching between two catalogs and a ground truth catalog.\n",
    "\n",
    "    Args:\n",
    "        pred_cat: predicted catalog\n",
    "        comp_cat: catalog to compare to\n",
    "        gt_cat: catalog to use as \"ground truth\"\n",
    "        slack: L2 distance threshold for matching objects\n",
    "\n",
    "    Returns:\n",
    "        Dict: a dictionary of matches between sets of catalogs.\n",
    "            gt_all: all gt sources that matched either pred or comp\n",
    "            gt_pred_only: gt sources that matched pred but not comp\n",
    "            gt_comp_only: gt sources that matched comp but not pred\n",
    "            pred_only: pred sources that did not match gt\n",
    "            comp_only: comp sources that did not match gt\n",
    "    \"\"\"\n",
    "    gt_locs, pred_locs, comp_locs = gt_cat[\"plocs\"][0], pred_cat[\"plocs\"][0], comp_cat[\"plocs\"][0]\n",
    "    # compute matches for both catalogs against gt\n",
    "    metrics = CatalogMetrics(\"dummy\", slack=slack)\n",
    "    match_gt_pred = metrics.match_catalogs(gt_locs, pred_locs)\n",
    "    match_gt_comp = metrics.match_catalogs(gt_locs, comp_locs)\n",
    "\n",
    "    gt_pred_matches = match_gt_pred[0][match_gt_pred[2]]  # get indices to keep based on distance\n",
    "    pred_gt_matches = match_gt_pred[1][match_gt_pred[2]]\n",
    "    gt_comp_matches = match_gt_comp[0][match_gt_comp[2]]\n",
    "    comp_gt_matches = match_gt_comp[1][match_gt_comp[2]]\n",
    "\n",
    "    return {\n",
    "        # in gt and pred or comp\n",
    "        \"gt_all\": set(match_gt_pred[0]).union(match_gt_comp[0]),\n",
    "        # in pred and gt, not in comp\n",
    "        \"gt_pred_only\": set(gt_pred_matches).difference(gt_comp_matches),\n",
    "        # in comp and gt, not in pred\n",
    "        \"gt_comp_only\": set(gt_comp_matches).difference(gt_pred_matches),\n",
    "        # in pred, not in gt\n",
    "        \"pred_only\": set(range(pred_cat[\"n_sources\"].item())).difference(pred_gt_matches),\n",
    "        # in comp, not in gt\n",
    "        \"comp_only\": set(range(comp_cat[\"n_sources\"].item())).difference(comp_gt_matches),\n",
    "    }\n"
   ]
  },
  {
   "cell_type": "code",
   "execution_count": null,
   "metadata": {},
   "outputs": [],
   "source": [
    "# compare bliss and photo against union of detectable sources in decals\n",
    "matches = three_way_matching(bliss_cat, photo_cat, decals_cat, slack=2)"
   ]
  },
  {
   "cell_type": "code",
   "execution_count": null,
   "metadata": {},
   "outputs": [],
   "source": [
    "fig, ax = plt.subplots(figsize=(16, 12))\n",
    "extent = np.array([min_w, max_w, min_h, max_h]) - 0.5\n",
    "ax.imshow(np.log(cropped_image[0, 2] - cropped_image[0, 2].min() + 20), cmap=\"gray\", extent=extent, origin=\"lower\")\n",
    "\n",
    "plot_plocs(decals_cat, ax, 0, list(matches[\"gt_all\"]), color=\"r\", marker=\"o\", s=60, edgecolor=\"black\", alpha=0.7, linewidth=0.5, label=\"DECaLS\")\n",
    "plot_plocs(photo_cat, ax, 0, \"all\", color=\"g\", marker=\"X\", s=50, edgecolor=\"black\", linewidth=0.5, label=\"SDSS\")\n",
    "plot_plocs(bliss_cat, ax, 0, \"all\", color=\"y\", marker=\"P\", s=30, edgecolor=\"black\", linewidth=0.5, label=\"BLISS\")\n",
    "\n",
    "params = {\n",
    "    \"marker\": MarkerStyle(\"o\", fillstyle=\"none\"),\n",
    "    \"s\": 200,\n",
    "    \"linewidth\": 0.7,\n",
    "}\n",
    "colors = [\n",
    "    '#08F7FE',  # cyan\n",
    "    '#FE53BB',  # pink\n",
    "    '#F5D300',  # yellow\n",
    "    '#00ff41', # matrix green\n",
    "]\n",
    "#plot_plocs(decals_cat, ax, 0, matches[\"all\"], c=colors[0], label=\"all\", **params)\n",
    "plot_plocs(decals_cat, ax, 0, list(matches[\"gt_pred_only\"]), c=colors[0], label=r\"(BLISS $\\cup$ DECaLS) - SDSS\", **params)\n",
    "plot_plocs(decals_cat, ax, 0, list(matches[\"gt_comp_only\"]), c=colors[1], label=r\"(SDSS $\\cup$ DECaLS) - BLISS\", **params)\n",
    "plot_plocs(bliss_cat, ax, 0, list(matches[\"pred_only\"]), c=colors[2], label=r\"BLISS - DECaLS\", **params)\n",
    "plot_plocs(photo_cat, ax, 0, list(matches[\"comp_only\"]), c=colors[3], label=r\"SDSS - DECaLS\", **params)\n",
    "\n",
    "handles, labels = ax.get_legend_handles_labels()\n",
    "ax.legend(handles=handles, labels=labels, loc=\"upper center\", ncol=7, bbox_to_anchor=(0.0, 0.06, 1, 1), fontsize=10)"
   ]
  },
  {
   "attachments": {},
   "cell_type": "markdown",
   "metadata": {},
   "source": [
    "The sources circled in light blue are BLISS predictions that match a source in DECaLS, but are not present in SDSS. Conversely, the light purple circles indicate sources present in SDSS and DECaLS but not predicted by BLISS. Yellow circles are false positives predicted by BLISS, and green circles denote false positives in SDSS."
   ]
  },
  {
   "attachments": {},
   "cell_type": "markdown",
   "metadata": {},
   "source": [
    "## 3-way metrics computation"
   ]
  },
  {
   "cell_type": "code",
   "execution_count": null,
   "metadata": {},
   "outputs": [],
   "source": [
    "metrics = CatalogMetrics(mode=\"matching\", slack=3)\n",
    "bliss_metrics = metrics(decals_cat, bliss_cat)\n",
    "photo_metrics = metrics(decals_cat, photo_cat)\n",
    "\n",
    "df = pd.DataFrame.from_dict({\"bliss\": bliss_metrics, \"sdss\": photo_metrics}, orient=\"index\")\n",
    "df"
   ]
  }
 ],
 "metadata": {
  "kernelspec": {
   "display_name": "bliss-deblender-av05Bskt-py3.10",
   "language": "python",
   "name": "python3"
  },
  "language_info": {
   "codemirror_mode": {
    "name": "ipython",
    "version": 3
   },
   "file_extension": ".py",
   "mimetype": "text/x-python",
   "name": "python",
   "nbconvert_exporter": "python",
   "pygments_lexer": "ipython3",
   "version": "3.10.12"
  }
 },
 "nbformat": 4,
 "nbformat_minor": 2
}

{
 "cells": [
  {
   "cell_type": "code",
   "execution_count": 1,
   "id": "cba1ad4b",
   "metadata": {},
   "outputs": [],
   "source": [
    "import bliss"
   ]
  },
  {
   "cell_type": "code",
   "execution_count": 2,
   "id": "662e1dfc",
   "metadata": {},
   "outputs": [],
   "source": [
    "from case_studies import NVAE"
   ]
  },
  {
   "cell_type": "code",
   "execution_count": 3,
   "id": "e2940d30",
   "metadata": {},
   "outputs": [],
   "source": [
    "from case_studies.NVAE.model import AutoEncoder"
   ]
  },
  {
   "cell_type": "code",
   "execution_count": 4,
   "id": "54fce2cf",
   "metadata": {},
   "outputs": [],
   "source": [
    "import bliss.datasets.galsim_galaxies as galaxies"
   ]
  },
  {
   "cell_type": "code",
   "execution_count": 5,
   "id": "563331a2",
   "metadata": {},
   "outputs": [
    {
     "ename": "TypeError",
     "evalue": "__init__() missing 3 required positional arguments: 'args', 'writer', and 'arch_instance'",
     "output_type": "error",
     "traceback": [
      "\u001b[0;31m---------------------------------------------------------------------------\u001b[0m",
      "\u001b[0;31mTypeError\u001b[0m                                 Traceback (most recent call last)",
      "\u001b[0;32m/tmp/ipykernel_1357199/2008521932.py\u001b[0m in \u001b[0;36m<module>\u001b[0;34m\u001b[0m\n\u001b[0;32m----> 1\u001b[0;31m \u001b[0mae\u001b[0m \u001b[0;34m=\u001b[0m \u001b[0mAutoEncoder\u001b[0m\u001b[0;34m(\u001b[0m\u001b[0;34m)\u001b[0m\u001b[0;34m\u001b[0m\u001b[0;34m\u001b[0m\u001b[0m\n\u001b[0m",
      "\u001b[0;31mTypeError\u001b[0m: __init__() missing 3 required positional arguments: 'args', 'writer', and 'arch_instance'"
     ]
    }
   ],
   "source": [
    "ae = AutoEncoder()"
   ]
  },
  {
   "cell_type": "code",
   "execution_count": 10,
   "id": "526937a9",
   "metadata": {},
   "outputs": [],
   "source": [
    "import case_studies.NVAE.model as nvae"
   ]
  },
  {
   "cell_type": "code",
   "execution_count": 11,
   "id": "40b62e1c",
   "metadata": {},
   "outputs": [],
   "source": [
    "from importlib import reload"
   ]
  },
  {
   "cell_type": "code",
   "execution_count": 12,
   "id": "f4050571",
   "metadata": {},
   "outputs": [
    {
     "data": {
      "text/plain": [
       "<module 'case_studies.NVAE.model' from '/home/dereklh/projects/bliss/case_studies/NVAE/model.py'>"
      ]
     },
     "execution_count": 12,
     "metadata": {},
     "output_type": "execute_result"
    }
   ],
   "source": [
    "reload(nvae)"
   ]
  },
  {
   "cell_type": "code",
   "execution_count": 13,
   "id": "08c270dd",
   "metadata": {},
   "outputs": [
    {
     "data": {
      "text/plain": [
       "<module 'case_studies.NVAE.model' from '/home/dereklh/projects/bliss/case_studies/NVAE/model.py'>"
      ]
     },
     "execution_count": 13,
     "metadata": {},
     "output_type": "execute_result"
    }
   ],
   "source": [
    "reload(nvae)"
   ]
  },
  {
   "cell_type": "code",
   "execution_count": 14,
   "id": "82ce9803",
   "metadata": {},
   "outputs": [
    {
     "data": {
      "text/plain": [
       "<module 'case_studies.NVAE.model' from '/home/dereklh/projects/bliss/case_studies/NVAE/model.py'>"
      ]
     },
     "execution_count": 14,
     "metadata": {},
     "output_type": "execute_result"
    }
   ],
   "source": [
    "reload(nvae)"
   ]
  },
  {
   "cell_type": "code",
   "execution_count": 22,
   "id": "8a18b62c",
   "metadata": {},
   "outputs": [
    {
     "name": "stdout",
     "output_type": "stream",
     "text": [
      "len log norm: 128\n",
      "len bn: 92\n"
     ]
    }
   ],
   "source": [
    "nvae_model = nvae.NVAE(input_size=64)"
   ]
  },
  {
   "cell_type": "code",
   "execution_count": 16,
   "id": "6e52641b",
   "metadata": {},
   "outputs": [],
   "source": [
    "import os; os.chdir(\"../..\")"
   ]
  },
  {
   "cell_type": "code",
   "execution_count": 21,
   "id": "db2492b3",
   "metadata": {},
   "outputs": [],
   "source": [
    "g = galaxies.SDSSGalaxies({\"bands\": [2]}, slen=64)"
   ]
  },
  {
   "cell_type": "code",
   "execution_count": 32,
   "id": "77e94660",
   "metadata": {},
   "outputs": [],
   "source": [
    "xxx = g[0]['images'][0].unsqueeze(0).unsqueeze(0).repeat(1,3,1,1).cuda()"
   ]
  },
  {
   "cell_type": "code",
   "execution_count": 33,
   "id": "c4e6af8e",
   "metadata": {},
   "outputs": [],
   "source": [
    "xxx = (xxx - xxx.mean()) / xxx.std()"
   ]
  },
  {
   "cell_type": "code",
   "execution_count": 34,
   "id": "cd9af7a6",
   "metadata": {},
   "outputs": [
    {
     "data": {
      "text/plain": [
       "tensor([[[[-0.1841, -0.1627, -0.1724,  ..., -0.1716, -0.1864, -0.1503],\n",
       "          [-0.1714, -0.1637, -0.1901,  ..., -0.1572, -0.1878, -0.1630],\n",
       "          [-0.1712, -0.1747, -0.1797,  ..., -0.1566, -0.1774, -0.1789],\n",
       "          ...,\n",
       "          [-0.1702, -0.1769, -0.1667,  ..., -0.1719, -0.1658, -0.1792],\n",
       "          [-0.1855, -0.1676, -0.1743,  ..., -0.1789, -0.1623, -0.1614],\n",
       "          [-0.1711, -0.1749, -0.1782,  ..., -0.1710, -0.1646, -0.1599]],\n",
       "\n",
       "         [[-0.1841, -0.1627, -0.1724,  ..., -0.1716, -0.1864, -0.1503],\n",
       "          [-0.1714, -0.1637, -0.1901,  ..., -0.1572, -0.1878, -0.1630],\n",
       "          [-0.1712, -0.1747, -0.1797,  ..., -0.1566, -0.1774, -0.1789],\n",
       "          ...,\n",
       "          [-0.1702, -0.1769, -0.1667,  ..., -0.1719, -0.1658, -0.1792],\n",
       "          [-0.1855, -0.1676, -0.1743,  ..., -0.1789, -0.1623, -0.1614],\n",
       "          [-0.1711, -0.1749, -0.1782,  ..., -0.1710, -0.1646, -0.1599]],\n",
       "\n",
       "         [[-0.1841, -0.1627, -0.1724,  ..., -0.1716, -0.1864, -0.1503],\n",
       "          [-0.1714, -0.1637, -0.1901,  ..., -0.1572, -0.1878, -0.1630],\n",
       "          [-0.1712, -0.1747, -0.1797,  ..., -0.1566, -0.1774, -0.1789],\n",
       "          ...,\n",
       "          [-0.1702, -0.1769, -0.1667,  ..., -0.1719, -0.1658, -0.1792],\n",
       "          [-0.1855, -0.1676, -0.1743,  ..., -0.1789, -0.1623, -0.1614],\n",
       "          [-0.1711, -0.1749, -0.1782,  ..., -0.1710, -0.1646, -0.1599]]]],\n",
       "       device='cuda:0')"
      ]
     },
     "execution_count": 34,
     "metadata": {},
     "output_type": "execute_result"
    }
   ],
   "source": [
    "xxx"
   ]
  },
  {
   "cell_type": "code",
   "execution_count": 35,
   "id": "1a292f6f",
   "metadata": {},
   "outputs": [],
   "source": [
    "nvae_model = nvae_model.cuda()"
   ]
  },
  {
   "cell_type": "code",
   "execution_count": 36,
   "id": "0872954a",
   "metadata": {},
   "outputs": [
    {
     "ename": "RuntimeError",
     "evalue": "The following operation failed in the TorchScript interpreter.\nTraceback of TorchScript (most recent call last):\n  File \"/home/dereklh/projects/bliss/case_studies/NVAE/distributions.py\", line 17, in soft_clamp5\n@torch.jit.script\ndef soft_clamp5(x: torch.Tensor):\n    return x.div_(5.).tanh_().mul(5.)    #  5. * torch.tanh(x / 5.) <--> soft differentiable clamp between [-5, 5]\n           ~~~~~~ <--- HERE\nRuntimeError: diff_view_meta->output_nr_ == 0 INTERNAL ASSERT FAILED at \"/pytorch/torch/csrc/autograd/variable.cpp\":363, please report a bug to PyTorch. \n",
     "output_type": "error",
     "traceback": [
      "\u001b[0;31m---------------------------------------------------------------------------\u001b[0m",
      "\u001b[0;31mRuntimeError\u001b[0m                              Traceback (most recent call last)",
      "\u001b[0;32m/tmp/ipykernel_1357199/713714553.py\u001b[0m in \u001b[0;36m<module>\u001b[0;34m\u001b[0m\n\u001b[0;32m----> 1\u001b[0;31m \u001b[0mnvae_model\u001b[0m\u001b[0;34m(\u001b[0m\u001b[0mxxx\u001b[0m\u001b[0;34m)\u001b[0m\u001b[0;34m\u001b[0m\u001b[0;34m\u001b[0m\u001b[0m\n\u001b[0m",
      "\u001b[0;32m~/.cache/pypoetry/virtualenvs/bliss-FSmgvuKM-py3.8/lib/python3.8/site-packages/torch/nn/modules/module.py\u001b[0m in \u001b[0;36m_call_impl\u001b[0;34m(self, *input, **kwargs)\u001b[0m\n\u001b[1;32m    725\u001b[0m             \u001b[0mresult\u001b[0m \u001b[0;34m=\u001b[0m \u001b[0mself\u001b[0m\u001b[0;34m.\u001b[0m\u001b[0m_slow_forward\u001b[0m\u001b[0;34m(\u001b[0m\u001b[0;34m*\u001b[0m\u001b[0minput\u001b[0m\u001b[0;34m,\u001b[0m \u001b[0;34m**\u001b[0m\u001b[0mkwargs\u001b[0m\u001b[0;34m)\u001b[0m\u001b[0;34m\u001b[0m\u001b[0;34m\u001b[0m\u001b[0m\n\u001b[1;32m    726\u001b[0m         \u001b[0;32melse\u001b[0m\u001b[0;34m:\u001b[0m\u001b[0;34m\u001b[0m\u001b[0;34m\u001b[0m\u001b[0m\n\u001b[0;32m--> 727\u001b[0;31m             \u001b[0mresult\u001b[0m \u001b[0;34m=\u001b[0m \u001b[0mself\u001b[0m\u001b[0;34m.\u001b[0m\u001b[0mforward\u001b[0m\u001b[0;34m(\u001b[0m\u001b[0;34m*\u001b[0m\u001b[0minput\u001b[0m\u001b[0;34m,\u001b[0m \u001b[0;34m**\u001b[0m\u001b[0mkwargs\u001b[0m\u001b[0;34m)\u001b[0m\u001b[0;34m\u001b[0m\u001b[0;34m\u001b[0m\u001b[0m\n\u001b[0m\u001b[1;32m    728\u001b[0m         for hook in itertools.chain(\n\u001b[1;32m    729\u001b[0m                 \u001b[0m_global_forward_hooks\u001b[0m\u001b[0;34m.\u001b[0m\u001b[0mvalues\u001b[0m\u001b[0;34m(\u001b[0m\u001b[0;34m)\u001b[0m\u001b[0;34m,\u001b[0m\u001b[0;34m\u001b[0m\u001b[0;34m\u001b[0m\u001b[0m\n",
      "\u001b[0;32m~/projects/bliss/case_studies/NVAE/model.py\u001b[0m in \u001b[0;36mforward\u001b[0;34m(self, x)\u001b[0m\n\u001b[1;32m    403\u001b[0m         \u001b[0mparam0\u001b[0m \u001b[0;34m=\u001b[0m \u001b[0mself\u001b[0m\u001b[0;34m.\u001b[0m\u001b[0menc_sampler\u001b[0m\u001b[0;34m[\u001b[0m\u001b[0midx_dec\u001b[0m\u001b[0;34m]\u001b[0m\u001b[0;34m(\u001b[0m\u001b[0mftr\u001b[0m\u001b[0;34m)\u001b[0m\u001b[0;34m\u001b[0m\u001b[0;34m\u001b[0m\u001b[0m\n\u001b[1;32m    404\u001b[0m         \u001b[0mmu_q\u001b[0m\u001b[0;34m,\u001b[0m \u001b[0mlog_sig_q\u001b[0m \u001b[0;34m=\u001b[0m \u001b[0mtorch\u001b[0m\u001b[0;34m.\u001b[0m\u001b[0mchunk\u001b[0m\u001b[0;34m(\u001b[0m\u001b[0mparam0\u001b[0m\u001b[0;34m,\u001b[0m \u001b[0;36m2\u001b[0m\u001b[0;34m,\u001b[0m \u001b[0mdim\u001b[0m\u001b[0;34m=\u001b[0m\u001b[0;36m1\u001b[0m\u001b[0;34m)\u001b[0m\u001b[0;34m\u001b[0m\u001b[0;34m\u001b[0m\u001b[0m\n\u001b[0;32m--> 405\u001b[0;31m         \u001b[0mdist\u001b[0m \u001b[0;34m=\u001b[0m \u001b[0mNormal\u001b[0m\u001b[0;34m(\u001b[0m\u001b[0mmu_q\u001b[0m\u001b[0;34m,\u001b[0m \u001b[0mlog_sig_q\u001b[0m\u001b[0;34m)\u001b[0m   \u001b[0;31m# for the first approx. posterior\u001b[0m\u001b[0;34m\u001b[0m\u001b[0;34m\u001b[0m\u001b[0m\n\u001b[0m\u001b[1;32m    406\u001b[0m         \u001b[0mz\u001b[0m\u001b[0;34m,\u001b[0m \u001b[0m_\u001b[0m \u001b[0;34m=\u001b[0m \u001b[0mdist\u001b[0m\u001b[0;34m.\u001b[0m\u001b[0msample\u001b[0m\u001b[0;34m(\u001b[0m\u001b[0;34m)\u001b[0m\u001b[0;34m\u001b[0m\u001b[0;34m\u001b[0m\u001b[0m\n\u001b[1;32m    407\u001b[0m         \u001b[0mlog_q_conv\u001b[0m \u001b[0;34m=\u001b[0m \u001b[0mdist\u001b[0m\u001b[0;34m.\u001b[0m\u001b[0mlog_p\u001b[0m\u001b[0;34m(\u001b[0m\u001b[0mz\u001b[0m\u001b[0;34m)\u001b[0m\u001b[0;34m\u001b[0m\u001b[0;34m\u001b[0m\u001b[0m\n",
      "\u001b[0;32m~/projects/bliss/case_studies/NVAE/distributions.py\u001b[0m in \u001b[0;36m__init__\u001b[0;34m(self, mu, log_sigma, temp)\u001b[0m\n\u001b[1;32m     28\u001b[0m     \u001b[0;32mdef\u001b[0m \u001b[0m__init__\u001b[0m\u001b[0;34m(\u001b[0m\u001b[0mself\u001b[0m\u001b[0;34m,\u001b[0m \u001b[0mmu\u001b[0m\u001b[0;34m,\u001b[0m \u001b[0mlog_sigma\u001b[0m\u001b[0;34m,\u001b[0m \u001b[0mtemp\u001b[0m\u001b[0;34m=\u001b[0m\u001b[0;36m1.\u001b[0m\u001b[0;34m)\u001b[0m\u001b[0;34m:\u001b[0m\u001b[0;34m\u001b[0m\u001b[0;34m\u001b[0m\u001b[0m\n\u001b[1;32m     29\u001b[0m         \u001b[0mself\u001b[0m\u001b[0;34m.\u001b[0m\u001b[0mmu\u001b[0m \u001b[0;34m=\u001b[0m \u001b[0msoft_clamp5\u001b[0m\u001b[0;34m(\u001b[0m\u001b[0mmu\u001b[0m\u001b[0;34m)\u001b[0m\u001b[0;34m\u001b[0m\u001b[0;34m\u001b[0m\u001b[0m\n\u001b[0;32m---> 30\u001b[0;31m         \u001b[0mlog_sigma\u001b[0m \u001b[0;34m=\u001b[0m \u001b[0msoft_clamp5\u001b[0m\u001b[0;34m(\u001b[0m\u001b[0mlog_sigma\u001b[0m\u001b[0;34m)\u001b[0m\u001b[0;34m\u001b[0m\u001b[0;34m\u001b[0m\u001b[0m\n\u001b[0m\u001b[1;32m     31\u001b[0m         \u001b[0mself\u001b[0m\u001b[0;34m.\u001b[0m\u001b[0msigma\u001b[0m \u001b[0;34m=\u001b[0m \u001b[0mtorch\u001b[0m\u001b[0;34m.\u001b[0m\u001b[0mexp\u001b[0m\u001b[0;34m(\u001b[0m\u001b[0mlog_sigma\u001b[0m\u001b[0;34m)\u001b[0m \u001b[0;34m+\u001b[0m \u001b[0;36m1e-2\u001b[0m      \u001b[0;31m# we don't need this after soft clamp\u001b[0m\u001b[0;34m\u001b[0m\u001b[0;34m\u001b[0m\u001b[0m\n\u001b[1;32m     32\u001b[0m         \u001b[0;32mif\u001b[0m \u001b[0mtemp\u001b[0m \u001b[0;34m!=\u001b[0m \u001b[0;36m1.\u001b[0m\u001b[0;34m:\u001b[0m\u001b[0;34m\u001b[0m\u001b[0;34m\u001b[0m\u001b[0m\n",
      "\u001b[0;31mRuntimeError\u001b[0m: The following operation failed in the TorchScript interpreter.\nTraceback of TorchScript (most recent call last):\n  File \"/home/dereklh/projects/bliss/case_studies/NVAE/distributions.py\", line 17, in soft_clamp5\n@torch.jit.script\ndef soft_clamp5(x: torch.Tensor):\n    return x.div_(5.).tanh_().mul(5.)    #  5. * torch.tanh(x / 5.) <--> soft differentiable clamp between [-5, 5]\n           ~~~~~~ <--- HERE\nRuntimeError: diff_view_meta->output_nr_ == 0 INTERNAL ASSERT FAILED at \"/pytorch/torch/csrc/autograd/variable.cpp\":363, please report a bug to PyTorch. \n"
     ]
    }
   ],
   "source": [
    "nvae_model(xxx)"
   ]
  },
  {
   "cell_type": "code",
   "execution_count": null,
   "id": "b63ed07e",
   "metadata": {},
   "outputs": [],
   "source": []
  }
 ],
 "metadata": {
  "kernelspec": {
   "display_name": "Python 3 (ipykernel)",
   "language": "python",
   "name": "python3"
  },
  "language_info": {
   "codemirror_mode": {
    "name": "ipython",
    "version": 3
   },
   "file_extension": ".py",
   "mimetype": "text/x-python",
   "name": "python",
   "nbconvert_exporter": "python",
   "pygments_lexer": "ipython3",
   "version": "3.8.10"
  }
 },
 "nbformat": 4,
 "nbformat_minor": 5
}

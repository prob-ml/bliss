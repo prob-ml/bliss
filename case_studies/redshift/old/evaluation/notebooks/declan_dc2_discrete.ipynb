{
 "cells": [
  {
   "cell_type": "code",
   "execution_count": 1,
   "metadata": {},
   "outputs": [],
   "source": [
    "%load_ext autoreload\n",
    "\n",
    "%autoreload 2"
   ]
  },
  {
   "cell_type": "code",
   "execution_count": 2,
   "metadata": {},
   "outputs": [],
   "source": [
    "import torch\n",
    "from os import environ\n",
    "from pathlib import Path\n",
    "from einops import rearrange\n",
    "import pickle\n",
    "from tqdm import tqdm\n",
    "import numpy as np\n",
    "\n",
    "import matplotlib.pyplot as plt\n",
    "import seaborn as sns\n",
    "import pandas as pd\n",
    "\n",
    "from hydra import initialize, compose\n",
    "from hydra.utils import instantiate\n",
    "\n",
    "from pytorch_lightning.utilities import move_data_to_device\n",
    "\n",
    "from bliss.catalog import FullCatalog, BaseTileCatalog, TileCatalog\n",
    "from bliss.surveys.dc2 import DC2DataModule\n",
    "from case_studies.redshift.evaluation.utils.load_lsst import get_lsst_full_cat\n",
    "from case_studies.redshift.evaluation.utils.safe_metric_collection import SafeMetricCollection as MetricCollection\n",
    "from case_studies.redshift.redshift_from_img.encoder.metrics import RedshiftMeanSquaredErrorBin\n",
    "\n",
    "environ[\"BLISS_HOME\"] = str(Path().resolve().parents[2])\n",
    "\n",
    "output_dir = Path(\"/data/scratch/declan/redshift\")\n",
    "output_dir.mkdir(parents=True, exist_ok=True)\n",
    "\n",
    "# change this model path according to your training setting\n",
    "model_path = \"/data/scratch/jaloper/redshift/encoder_0.133145.ckpt\"\n",
    "lsst_root_dir = \"/data/scratch/dc2_nfs/\"\n",
    "\n",
    "device = torch.device(\"cuda:0\" if torch.cuda.is_available() else \"cpu\")"
   ]
  },
  {
   "cell_type": "code",
   "execution_count": 3,
   "metadata": {},
   "outputs": [],
   "source": [
    "with initialize(config_path=\".\", version_base=None):\n",
    "    notebook_cfg = compose(\"discrete_eval\")\n",
    "\n",
    "# with initialize(config_path=\".\", version_base=None):\n",
    "#     notebook_cfg = compose(\"notebook_discrete_plot\")"
   ]
  },
  {
   "cell_type": "code",
   "execution_count": 4,
   "metadata": {},
   "outputs": [],
   "source": [
    "# set up testing dataset\n",
    "dataset = instantiate(notebook_cfg.train.data_source)\n",
    "dataset.setup(\"test\")\n"
   ]
  },
  {
   "cell_type": "code",
   "execution_count": 5,
   "metadata": {},
   "outputs": [
    {
     "data": {
      "text/plain": [
       "25000"
      ]
     },
     "execution_count": 5,
     "metadata": {},
     "output_type": "execute_result"
    }
   ],
   "source": [
    "len(dataset.test_dataset)"
   ]
  },
  {
   "cell_type": "code",
   "execution_count": 6,
   "metadata": {},
   "outputs": [],
   "source": [
    "import os\n",
    "os.environ['OMP_NUM_THREADS'] = '16'\n",
    "os.environ['MKL_NUM_THREADS'] = '16'\n",
    "os.environ['NUMEXPR_NUM_THREADS'] = '16'"
   ]
  },
  {
   "cell_type": "code",
   "execution_count": 7,
   "metadata": {},
   "outputs": [
    {
     "data": {
      "text/plain": [
       "<bliss.surveys.dc2.DC2DataModule at 0x7f56124a9000>"
      ]
     },
     "execution_count": 7,
     "metadata": {},
     "output_type": "execute_result"
    }
   ],
   "source": [
    "dataset"
   ]
  },
  {
   "cell_type": "code",
   "execution_count": null,
   "metadata": {},
   "outputs": [],
   "source": [
    "for batch_idx, batch in tqdm(enumerate(dataset.test_dataloader()), total=len(dataset.test_dataloader())):\n",
    "        batch[\"images\"] = batch[\"images\"].to(device)"
   ]
  },
  {
   "cell_type": "markdown",
   "metadata": {},
   "source": [
    "### bliss using discrete varational dist"
   ]
  },
  {
   "cell_type": "code",
   "execution_count": 8,
   "metadata": {},
   "outputs": [
    {
     "data": {
      "text/plain": [
       "{'_target_': 'torchmetrics.MetricCollection', '_convert_': 'partial', 'metrics': '${mode_sample_metrics}'}"
      ]
     },
     "execution_count": 8,
     "metadata": {},
     "output_type": "execute_result"
    }
   ],
   "source": [
    "notebook_cfg.encoder.mode_metrics"
   ]
  },
  {
   "cell_type": "code",
   "execution_count": 9,
   "metadata": {},
   "outputs": [
    {
     "data": {
      "text/plain": [
       "{'_target_': 'torchmetrics.MetricCollection', '_convert_': 'partial', 'metrics': '${mode_sample_metrics}'}"
      ]
     },
     "execution_count": 9,
     "metadata": {},
     "output_type": "execute_result"
    }
   ],
   "source": [
    "notebook_cfg.encoder.sample_metrics"
   ]
  },
  {
   "cell_type": "code",
   "execution_count": 10,
   "metadata": {},
   "outputs": [
    {
     "data": {
      "text/plain": [
       "{'_target_': 'torchmetrics.MetricCollection', '_convert_': 'partial', 'metrics': '${discrete_metrics}'}"
      ]
     },
     "execution_count": 10,
     "metadata": {},
     "output_type": "execute_result"
    }
   ],
   "source": [
    "notebook_cfg.encoder.discrete_metrics"
   ]
  },
  {
   "cell_type": "code",
   "execution_count": 11,
   "metadata": {},
   "outputs": [
    {
     "data": {
      "text/plain": [
       "{'_target_': 'torchmetrics.MetricCollection', '_convert_': 'partial', 'metrics': '${mode_sample_metrics}'}"
      ]
     },
     "execution_count": 11,
     "metadata": {},
     "output_type": "execute_result"
    }
   ],
   "source": [
    "notebook_cfg.encoder.mode_metrics"
   ]
  },
  {
   "cell_type": "code",
   "execution_count": null,
   "metadata": {},
   "outputs": [],
   "source": [
    "with initialize(config_path=\"../redshift_from_img\", version_base=None):\n",
    "    notebook_cfg = compose(\"discrete\")"
   ]
  },
  {
   "cell_type": "code",
   "execution_count": 12,
   "metadata": {},
   "outputs": [
    {
     "name": "stderr",
     "output_type": "stream",
     "text": [
      "WARNING: please don't use str as nll_gating; it will be deprecated\n"
     ]
    }
   ],
   "source": [
    "# Loop through the test set and update the metric\n",
    "# load bliss trained model\n",
    "bliss_encoder = instantiate(notebook_cfg.encoder).to(device=device)\n",
    "pretrained_weights = torch.load(model_path, device)[\"state_dict\"]\n",
    "bliss_encoder.load_state_dict(pretrained_weights)\n",
    "bliss_encoder.eval();"
   ]
  },
  {
   "cell_type": "code",
   "execution_count": null,
   "metadata": {},
   "outputs": [],
   "source": [
    "bliss_encoder.mode_metrics"
   ]
  },
  {
   "cell_type": "code",
   "execution_count": null,
   "metadata": {},
   "outputs": [],
   "source": [
    "bliss_encoder.discrete_metrics"
   ]
  },
  {
   "cell_type": "code",
   "execution_count": null,
   "metadata": {},
   "outputs": [],
   "source": [
    "bliss_encoder"
   ]
  },
  {
   "cell_type": "code",
   "execution_count": null,
   "metadata": {},
   "outputs": [],
   "source": [
    "bliss_encoder.var_dist.sample"
   ]
  },
  {
   "cell_type": "code",
   "execution_count": null,
   "metadata": {},
   "outputs": [],
   "source": [
    "bliss_encoder.var_dist.discrete_sample"
   ]
  },
  {
   "cell_type": "code",
   "execution_count": null,
   "metadata": {},
   "outputs": [],
   "source": [
    "import torch\n",
    "\n",
    "from bliss.catalog import TileCatalog\n",
    "from bliss.encoder.encoder import Encoder"
   ]
  },
  {
   "cell_type": "code",
   "execution_count": null,
   "metadata": {},
   "outputs": [],
   "source": [
    "target_cat = TileCatalog(batch[\"tile_catalog\"]).get_brightest_sources_per_tile()"
   ]
  },
  {
   "cell_type": "code",
   "execution_count": null,
   "metadata": {},
   "outputs": [],
   "source": [
    "_, x_cat_marginal = bliss_encoder.get_features_and_parameters(batch)"
   ]
  },
  {
   "cell_type": "code",
   "execution_count": null,
   "metadata": {},
   "outputs": [],
   "source": [
    "bliss_encoder.var_dist"
   ]
  },
  {
   "cell_type": "code",
   "execution_count": null,
   "metadata": {},
   "outputs": [],
   "source": [
    "fp_pairs = bliss_encoder.var_dist._factor_param_pairs(x_cat_marginal)"
   ]
  },
  {
   "cell_type": "code",
   "execution_count": null,
   "metadata": {},
   "outputs": [],
   "source": [
    "factor = list(fp_pairs)[0][0]"
   ]
  },
  {
   "cell_type": "code",
   "execution_count": null,
   "metadata": {},
   "outputs": [],
   "source": [
    "factor"
   ]
  },
  {
   "cell_type": "code",
   "execution_count": null,
   "metadata": {},
   "outputs": [],
   "source": [
    "factor.discrete_sample"
   ]
  },
  {
   "cell_type": "code",
   "execution_count": null,
   "metadata": {},
   "outputs": [],
   "source": [
    "factor.sample"
   ]
  },
  {
   "cell_type": "code",
   "execution_count": 13,
   "metadata": {},
   "outputs": [
    {
     "name": "stderr",
     "output_type": "stream",
     "text": [
      "  0%|▏                                                                                                           | 9/6250 [00:07<1:28:04,  1.18it/s]\n"
     ]
    },
    {
     "ename": "KeyboardInterrupt",
     "evalue": "",
     "output_type": "error",
     "traceback": [
      "\u001b[0;31m---------------------------------------------------------------------------\u001b[0m",
      "\u001b[0;31mKeyboardInterrupt\u001b[0m                         Traceback (most recent call last)",
      "Cell \u001b[0;32mIn[13], line 7\u001b[0m\n\u001b[1;32m      5\u001b[0m \u001b[38;5;28;01mfor\u001b[39;00m batch_idx, batch \u001b[38;5;129;01min\u001b[39;00m tqdm(\u001b[38;5;28menumerate\u001b[39m(dataset\u001b[38;5;241m.\u001b[39mtest_dataloader()), total\u001b[38;5;241m=\u001b[39m\u001b[38;5;28mlen\u001b[39m(dataset\u001b[38;5;241m.\u001b[39mtest_dataloader())):\n\u001b[1;32m      6\u001b[0m     batch[\u001b[38;5;124m\"\u001b[39m\u001b[38;5;124mimages\u001b[39m\u001b[38;5;124m\"\u001b[39m] \u001b[38;5;241m=\u001b[39m batch[\u001b[38;5;124m\"\u001b[39m\u001b[38;5;124mimages\u001b[39m\u001b[38;5;124m\"\u001b[39m]\u001b[38;5;241m.\u001b[39mto(device)\n\u001b[0;32m----> 7\u001b[0m     \u001b[43mbliss_encoder\u001b[49m\u001b[38;5;241;43m.\u001b[39;49m\u001b[43mupdate_metrics\u001b[49m\u001b[43m(\u001b[49m\u001b[43mbatch\u001b[49m\u001b[43m,\u001b[49m\u001b[43m \u001b[49m\u001b[43mbatch_idx\u001b[49m\u001b[43m)\u001b[49m\n\u001b[1;32m      8\u001b[0m bliss_mode_out_dict \u001b[38;5;241m=\u001b[39m bliss_encoder\u001b[38;5;241m.\u001b[39mmode_metrics\u001b[38;5;241m.\u001b[39mcompute()\n\u001b[1;32m      9\u001b[0m bliss_discrete_out_dict \u001b[38;5;241m=\u001b[39m bliss_encoder\u001b[38;5;241m.\u001b[39mdiscrete_metrics\u001b[38;5;241m.\u001b[39mcompute()\n",
      "File \u001b[0;32m~/bliss/case_studies/redshift/redshift_from_img/encoder/encoder.py:15\u001b[0m, in \u001b[0;36mRedshiftsEncoder.update_metrics\u001b[0;34m(self, batch, batch_idx)\u001b[0m\n\u001b[1;32m     12\u001b[0m target_cat \u001b[38;5;241m=\u001b[39m TileCatalog(batch[\u001b[38;5;124m\"\u001b[39m\u001b[38;5;124mtile_catalog\u001b[39m\u001b[38;5;124m\"\u001b[39m])\u001b[38;5;241m.\u001b[39mget_brightest_sources_per_tile()\n\u001b[1;32m     14\u001b[0m \u001b[38;5;28;01mfor\u001b[39;00m risk_type \u001b[38;5;129;01min\u001b[39;00m \u001b[38;5;28mself\u001b[39m\u001b[38;5;241m.\u001b[39mdiscrete_metrics\u001b[38;5;241m.\u001b[39mkeys():\n\u001b[0;32m---> 15\u001b[0m     mode_cat \u001b[38;5;241m=\u001b[39m \u001b[38;5;28;43mself\u001b[39;49m\u001b[38;5;241;43m.\u001b[39;49m\u001b[43mdiscrete_sample\u001b[49m\u001b[43m(\u001b[49m\u001b[43mbatch\u001b[49m\u001b[43m,\u001b[49m\u001b[43m \u001b[49m\u001b[43muse_mode\u001b[49m\u001b[38;5;241;43m=\u001b[39;49m\u001b[38;5;28;43;01mTrue\u001b[39;49;00m\u001b[43m,\u001b[49m\u001b[43m \u001b[49m\u001b[43mrisk_type\u001b[49m\u001b[38;5;241;43m=\u001b[39;49m\u001b[43mrisk_type\u001b[49m\u001b[43m)\u001b[49m\n\u001b[1;32m     16\u001b[0m     matching \u001b[38;5;241m=\u001b[39m \u001b[38;5;28mself\u001b[39m\u001b[38;5;241m.\u001b[39mmatcher\u001b[38;5;241m.\u001b[39mmatch_catalogs(target_cat, mode_cat)\n\u001b[1;32m     17\u001b[0m     \u001b[38;5;28mself\u001b[39m\u001b[38;5;241m.\u001b[39mdiscrete_metrics[risk_type]\u001b[38;5;241m.\u001b[39mupdate(target_cat, mode_cat, matching)\n",
      "File \u001b[0;32m~/bliss/case_studies/redshift/redshift_from_img/encoder/encoder.py:60\u001b[0m, in \u001b[0;36mRedshiftsEncoder.discrete_sample\u001b[0;34m(self, batch, use_mode, risk_type)\u001b[0m\n\u001b[1;32m     58\u001b[0m \u001b[38;5;28;01mdef\u001b[39;00m \u001b[38;5;21mdiscrete_sample\u001b[39m(\u001b[38;5;28mself\u001b[39m, batch, use_mode\u001b[38;5;241m=\u001b[39m\u001b[38;5;28;01mTrue\u001b[39;00m, risk_type\u001b[38;5;241m=\u001b[39m\u001b[38;5;28;01mNone\u001b[39;00m):\n\u001b[1;32m     59\u001b[0m     _, x_cat_marginal \u001b[38;5;241m=\u001b[39m \u001b[38;5;28mself\u001b[39m\u001b[38;5;241m.\u001b[39mget_features_and_parameters(batch)\n\u001b[0;32m---> 60\u001b[0m     \u001b[38;5;28;01mreturn\u001b[39;00m \u001b[38;5;28;43mself\u001b[39;49m\u001b[38;5;241;43m.\u001b[39;49m\u001b[43mvar_dist\u001b[49m\u001b[38;5;241;43m.\u001b[39;49m\u001b[43mdiscrete_sample\u001b[49m\u001b[43m(\u001b[49m\u001b[43mx_cat_marginal\u001b[49m\u001b[43m,\u001b[49m\u001b[43m \u001b[49m\u001b[43muse_mode\u001b[49m\u001b[38;5;241;43m=\u001b[39;49m\u001b[43muse_mode\u001b[49m\u001b[43m,\u001b[49m\u001b[43m \u001b[49m\u001b[43mrisk_type\u001b[49m\u001b[38;5;241;43m=\u001b[39;49m\u001b[43mrisk_type\u001b[49m\u001b[43m)\u001b[49m\n",
      "File \u001b[0;32m~/bliss/bliss/encoder/variational_dist.py:42\u001b[0m, in \u001b[0;36mVariationalDist.discrete_sample\u001b[0;34m(self, x_cat, use_mode, risk_type)\u001b[0m\n\u001b[1;32m     40\u001b[0m \u001b[38;5;28;01mdef\u001b[39;00m \u001b[38;5;21mdiscrete_sample\u001b[39m(\u001b[38;5;28mself\u001b[39m, x_cat, use_mode\u001b[38;5;241m=\u001b[39m\u001b[38;5;28;01mFalse\u001b[39;00m, risk_type\u001b[38;5;241m=\u001b[39m\u001b[38;5;28;01mNone\u001b[39;00m):\n\u001b[1;32m     41\u001b[0m     fp_pairs \u001b[38;5;241m=\u001b[39m \u001b[38;5;28mself\u001b[39m\u001b[38;5;241m.\u001b[39m_factor_param_pairs(x_cat)\n\u001b[0;32m---> 42\u001b[0m     d \u001b[38;5;241m=\u001b[39m {qk\u001b[38;5;241m.\u001b[39mname: qk\u001b[38;5;241m.\u001b[39mdiscrete_sample(params, use_mode, risk_type) \u001b[38;5;28;01mfor\u001b[39;00m qk, params \u001b[38;5;129;01min\u001b[39;00m fp_pairs}\n\u001b[1;32m     43\u001b[0m     \u001b[38;5;28;01mreturn\u001b[39;00m BaseTileCatalog(d)\n",
      "File \u001b[0;32m~/bliss/bliss/encoder/variational_dist.py:42\u001b[0m, in \u001b[0;36m<dictcomp>\u001b[0;34m(.0)\u001b[0m\n\u001b[1;32m     40\u001b[0m \u001b[38;5;28;01mdef\u001b[39;00m \u001b[38;5;21mdiscrete_sample\u001b[39m(\u001b[38;5;28mself\u001b[39m, x_cat, use_mode\u001b[38;5;241m=\u001b[39m\u001b[38;5;28;01mFalse\u001b[39;00m, risk_type\u001b[38;5;241m=\u001b[39m\u001b[38;5;28;01mNone\u001b[39;00m):\n\u001b[1;32m     41\u001b[0m     fp_pairs \u001b[38;5;241m=\u001b[39m \u001b[38;5;28mself\u001b[39m\u001b[38;5;241m.\u001b[39m_factor_param_pairs(x_cat)\n\u001b[0;32m---> 42\u001b[0m     d \u001b[38;5;241m=\u001b[39m {qk\u001b[38;5;241m.\u001b[39mname: \u001b[43mqk\u001b[49m\u001b[38;5;241;43m.\u001b[39;49m\u001b[43mdiscrete_sample\u001b[49m\u001b[43m(\u001b[49m\u001b[43mparams\u001b[49m\u001b[43m,\u001b[49m\u001b[43m \u001b[49m\u001b[43muse_mode\u001b[49m\u001b[43m,\u001b[49m\u001b[43m \u001b[49m\u001b[43mrisk_type\u001b[49m\u001b[43m)\u001b[49m \u001b[38;5;28;01mfor\u001b[39;00m qk, params \u001b[38;5;129;01min\u001b[39;00m fp_pairs}\n\u001b[1;32m     43\u001b[0m     \u001b[38;5;28;01mreturn\u001b[39;00m BaseTileCatalog(d)\n",
      "File \u001b[0;32m~/bliss/bliss/encoder/variational_dist.py:126\u001b[0m, in \u001b[0;36mVariationalFactor.discrete_sample\u001b[0;34m(self, params, use_mode, risk_type)\u001b[0m\n\u001b[1;32m    124\u001b[0m \u001b[38;5;28;01mdef\u001b[39;00m \u001b[38;5;21mdiscrete_sample\u001b[39m(\u001b[38;5;28mself\u001b[39m, params, use_mode\u001b[38;5;241m=\u001b[39m\u001b[38;5;28;01mFalse\u001b[39;00m, risk_type\u001b[38;5;241m=\u001b[39m\u001b[38;5;124m\"\u001b[39m\u001b[38;5;124mredshift_outlier_fraction_catastrophic_bin\u001b[39m\u001b[38;5;124m\"\u001b[39m):\n\u001b[1;32m    125\u001b[0m     qk \u001b[38;5;241m=\u001b[39m \u001b[38;5;28mself\u001b[39m\u001b[38;5;241m.\u001b[39m_get_dist(params)\n\u001b[0;32m--> 126\u001b[0m     sample_cat \u001b[38;5;241m=\u001b[39m \u001b[43mqk\u001b[49m\u001b[38;5;241;43m.\u001b[39;49m\u001b[43mget_lowest_risk_bin\u001b[49m\u001b[43m(\u001b[49m\u001b[43mrisk_type\u001b[49m\u001b[38;5;241;43m=\u001b[39;49m\u001b[43mrisk_type\u001b[49m\u001b[43m)\u001b[49m\n\u001b[1;32m    127\u001b[0m     \u001b[38;5;28;01mif\u001b[39;00m \u001b[38;5;28mself\u001b[39m\u001b[38;5;241m.\u001b[39msample_rearrange \u001b[38;5;129;01mis\u001b[39;00m \u001b[38;5;129;01mnot\u001b[39;00m \u001b[38;5;28;01mNone\u001b[39;00m:\n\u001b[1;32m    128\u001b[0m         sample_cat \u001b[38;5;241m=\u001b[39m rearrange(sample_cat, \u001b[38;5;28mself\u001b[39m\u001b[38;5;241m.\u001b[39msample_rearrange)\n",
      "File \u001b[0;32m~/bliss/bliss/encoder/variational_dist.py:368\u001b[0m, in \u001b[0;36mDiscretized1D.get_lowest_risk_bin\u001b[0;34m(self, risk_type)\u001b[0m\n\u001b[1;32m    366\u001b[0m     risk \u001b[38;5;241m=\u001b[39m \u001b[38;5;28mself\u001b[39m\u001b[38;5;241m.\u001b[39mcompute_MSE_risk(z_pred, bin_centers, bin_probs)\n\u001b[1;32m    367\u001b[0m \u001b[38;5;28;01melif\u001b[39;00m risk_type \u001b[38;5;241m==\u001b[39m \u001b[38;5;124m\"\u001b[39m\u001b[38;5;124mredshift_abs_bias_bin\u001b[39m\u001b[38;5;124m\"\u001b[39m:\n\u001b[0;32m--> 368\u001b[0m     risk \u001b[38;5;241m=\u001b[39m \u001b[38;5;28;43mself\u001b[39;49m\u001b[38;5;241;43m.\u001b[39;49m\u001b[43mcompute_abs_bias_risk\u001b[49m\u001b[43m(\u001b[49m\u001b[43mz_pred\u001b[49m\u001b[43m,\u001b[49m\u001b[43m \u001b[49m\u001b[43mbin_centers\u001b[49m\u001b[43m,\u001b[49m\u001b[43m \u001b[49m\u001b[43mbin_probs\u001b[49m\u001b[43m)\u001b[49m\n\u001b[1;32m    369\u001b[0m \u001b[38;5;28;01melse\u001b[39;00m:\n\u001b[1;32m    370\u001b[0m     \u001b[38;5;28;01mraise\u001b[39;00m \u001b[38;5;167;01mValueError\u001b[39;00m(\u001b[38;5;124mf\u001b[39m\u001b[38;5;124m\"\u001b[39m\u001b[38;5;124mInvalid risk type: \u001b[39m\u001b[38;5;132;01m{\u001b[39;00mrisk_type\u001b[38;5;132;01m}\u001b[39;00m\u001b[38;5;124m\"\u001b[39m)\n",
      "File \u001b[0;32m~/bliss/bliss/encoder/variational_dist.py:341\u001b[0m, in \u001b[0;36mDiscretized1D.compute_abs_bias_risk\u001b[0;34m(self, z_pred, bin_centers, bin_probs)\u001b[0m\n\u001b[1;32m    338\u001b[0m \u001b[38;5;28;01mfor\u001b[39;00m i \u001b[38;5;129;01min\u001b[39;00m \u001b[38;5;28mrange\u001b[39m(\u001b[38;5;28mself\u001b[39m\u001b[38;5;241m.\u001b[39mnum_bins):\n\u001b[1;32m    339\u001b[0m     z_i \u001b[38;5;241m=\u001b[39m bin_centers[i]\n\u001b[0;32m--> 341\u001b[0m     risk \u001b[38;5;241m+\u001b[39m\u001b[38;5;241m=\u001b[39m bin_probs[\u001b[38;5;241m.\u001b[39m\u001b[38;5;241m.\u001b[39m\u001b[38;5;241m.\u001b[39m, i] \u001b[38;5;241m*\u001b[39m \u001b[43mtorch\u001b[49m\u001b[38;5;241;43m.\u001b[39;49m\u001b[43mabs\u001b[49m\u001b[43m(\u001b[49m\u001b[43mz_pred\u001b[49m\u001b[43m \u001b[49m\u001b[38;5;241;43m-\u001b[39;49m\u001b[43m \u001b[49m\u001b[43mz_i\u001b[49m\u001b[43m)\u001b[49m\n\u001b[1;32m    343\u001b[0m \u001b[38;5;28;01mreturn\u001b[39;00m risk\n",
      "\u001b[0;31mKeyboardInterrupt\u001b[0m: "
     ]
    }
   ],
   "source": [
    "bliss_discrete_output_path = output_dir / \"bliss_output_discrete_large_split.pkl\"\n",
    "bliss_discrete_grid_output_path = output_dir / \"bliss_output_discrete_grid_large_split.pkl\"\n",
    "\n",
    "if not bliss_discrete_output_path.exists():\n",
    "    for batch_idx, batch in tqdm(enumerate(dataset.test_dataloader()), total=len(dataset.test_dataloader())):\n",
    "        batch[\"images\"] = batch[\"images\"].to(device)\n",
    "        bliss_encoder.update_metrics(batch, batch_idx)\n",
    "    bliss_mode_out_dict = bliss_encoder.mode_metrics.compute()\n",
    "    bliss_discrete_out_dict = bliss_encoder.discrete_metrics.compute()\n",
    "\n",
    "    with open(bliss_discrete_output_path, \"wb\") as outp:  # Overwrites any existing file.\n",
    "        pickle.dump(bliss_mode_out_dict, outp, pickle.HIGHEST_PROTOCOL)\n",
    "    with open(bliss_discrete_grid_output_path, \"wb\") as outp:  # Overwrites any existing file.\n",
    "        pickle.dump(bliss_discrete_out_dict, outp, pickle.HIGHEST_PROTOCOL)\n",
    "else:\n",
    "    with open(bliss_discrete_output_path, \"rb\") as inputp:\n",
    "        bliss_mode_out_dict = pickle.load(inputp)\n",
    "    with open(bliss_discrete_grid_output_path, \"rb\") as inputp:\n",
    "        bliss_discrete_out_dict = pickle.load(inputp)\n",
    "    "
   ]
  },
  {
   "cell_type": "code",
   "execution_count": null,
   "metadata": {},
   "outputs": [],
   "source": [
    "bliss_output_path = output_dir / \"bliss_output_large_split.pkl\"\n",
    "\n",
    "if not bliss_output_path.exists():\n",
    "    for batch_idx, batch in tqdm(enumerate(dataset.test_dataloader()), total=len(dataset.test_dataloader())):\n",
    "        batch[\"images\"] = batch[\"images\"].to(device)\n",
    "        bliss_encoder.update_metrics(batch, batch_idx)\n",
    "    bliss_out_dict = bliss_encoder.mode_metrics.compute()\n",
    "\n",
    "    with open(bliss_output_path, \"wb\") as outp:  # Overwrites any existing file.\n",
    "        pickle.dump(bliss_out_dict, outp, pickle.HIGHEST_PROTOCOL)\n",
    "else:\n",
    "    with open(bliss_output_path, \"rb\") as inputp:\n",
    "        bliss_out_dict = pickle.load(inputp)"
   ]
  },
  {
   "cell_type": "code",
   "execution_count": null,
   "metadata": {},
   "outputs": [],
   "source": [
    "from matplotlib.ticker import FormatStrFormatter\n",
    "metrics = ['outlier_fraction_cata', 'outlier_fraction', 'nmad', 'bias_abs', 'mse']\n",
    "metric_labels = ['Catastrophic Outlier Fraction', 'Outlier Fraction', 'NMAD', 'Absolute Bias', 'MSE']\n",
    "sns.set_theme()\n",
    "for i, metric in enumerate(metrics):\n",
    "    mag_ranges = ['<23.9', '23.9-24.1', '24.1-24.5', '24.5-24.9', '24.9-25.6', '>25.6']\n",
    "    bliss_values = [bliss_out_dict[f'redshifts/{metric}_bin_{i}'] for i in reversed(range(6))]\n",
    "    bliss_discrete = [bliss_mode_out_dict[f'redshifts/{metric}_bin_{i}'] for i in range(6)]\n",
    "    bliss_discrete_grid = [bliss_discrete_out_dict[f'redshifts/{metric}_bin_{i}'] for i in range(6)]\n",
    "\n",
    "    plt.figure(figsize=(6, 6))\n",
    "    plt.plot(mag_ranges, bliss_values, label=\"BLISS+Normal\", marker='o', c=\"blue\")\n",
    "    # plt.plot(mag_ranges, bliss_discrete, label=\"BLISS+Discrete Bin\", marker='o', c=\"green\")\n",
    "    plt.plot(mag_ranges, bliss_discrete_grid, label=\"BLISS+Discrete Bin w/ Grid Search\", marker='o', c=\"orange\")\n",
    "    plt.xlabel('Magnitude')\n",
    "    plt.xticks(rotation=45)\n",
    "    plt.ylabel(metric_labels[i])\n",
    "    plt.ylim([0, None])\n",
    "    ax = plt.gca()\n",
    "    ax.yaxis.set_major_formatter(FormatStrFormatter('%.3f'))\n",
    "    plt.legend(loc='upper left')\n",
    "    plt.tight_layout()\n",
    "    plt.grid(True)\n",
    "    plt.savefig(os.path.join(\"/home/qiaozhih/bliss/case_studies/redshift/evaluation/plot\",f'different_dist_Bliss_{metrics[i]}.pdf'))"
   ]
  },
  {
   "cell_type": "code",
   "execution_count": null,
   "metadata": {},
   "outputs": [],
   "source": []
  }
 ],
 "metadata": {
  "kernelspec": {
   "display_name": "Python 3 (ipykernel)",
   "language": "python",
   "name": "python3"
  },
  "language_info": {
   "codemirror_mode": {
    "name": "ipython",
    "version": 3
   },
   "file_extension": ".py",
   "mimetype": "text/x-python",
   "name": "python",
   "nbconvert_exporter": "python",
   "pygments_lexer": "ipython3",
   "version": "3.10.12"
  }
 },
 "nbformat": 4,
 "nbformat_minor": 2
}

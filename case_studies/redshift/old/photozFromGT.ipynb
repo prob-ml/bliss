{
 "cells": [
  {
   "cell_type": "code",
   "execution_count": 1,
   "metadata": {},
   "outputs": [],
   "source": [
    "from network_rs import PhotoZFromMag\n",
    "import os\n",
    "import pandas as pd\n",
    "import numpy as np\n",
    "import torch\n",
    "from torch.utils.data import TensorDataset, DataLoader\n",
    "from tqdm import tqdm\n",
    "import re\n",
    "import matplotlib.pyplot as plt\n",
    "from sklearn.metrics import mean_squared_error\n",
    "import torch.nn as nn"
   ]
  },
  {
   "cell_type": "code",
   "execution_count": 2,
   "metadata": {},
   "outputs": [],
   "source": [
    "num_bins = 1\n",
    "group_size = 128\n",
    "batch_size = 512\n",
    "in_dim = 6\n",
    "device = \"cuda\"\n",
    "path = \"/home/qiaozhih/bliss/case_studies/redshift/training_runs/00120-run/tensorboard_logs/version_0/checkpoints/reg_val_loss=0.000367_epoch=29.ckpt\"\n",
    "network_options = {\n",
    "    \"hidden_dim\": 256,\n",
    "    \"out_dim\": num_bins,\n",
    "    \"n_epochs\": 50001,\n",
    "    \"outdir\": \"/home/qiaozhih/bliss/case_studies/redshift/training_runs/\",\n",
    "    \"snap\": 1,  # how many epoches to save one model once\n",
    "    \"loss_fcn\": torch.nn.MSELoss(),  # loss func\n",
    "    # 'loss_fcn': torch.nn.CrossEntropyLoss(),                     # loss func\n",
    "    \"dropout_rate\": 0.5,\n",
    "    \"learning_rate\": 1e-3,\n",
    "    \"group_size\": group_size,\n",
    "    \"num_gpu\": 1,\n",
    "    \"gpu_device\": [0],\n",
    "}"
   ]
  },
  {
   "cell_type": "code",
   "execution_count": 3,
   "metadata": {},
   "outputs": [
    {
     "data": {
      "text/plain": [
       "PhotoZFromMag(\n",
       "  (loss_fcn): MSELoss()\n",
       "  (net): Sequential(\n",
       "    (0): Linear(in_features=6, out_features=256, bias=True)\n",
       "    (1): BatchNorm1d(256, eps=1e-05, momentum=0.1, affine=True, track_running_stats=True)\n",
       "    (2): ReLU()\n",
       "    (3): Linear(in_features=256, out_features=256, bias=True)\n",
       "    (4): BatchNorm1d(256, eps=1e-05, momentum=0.1, affine=True, track_running_stats=True)\n",
       "    (5): ReLU()\n",
       "    (6): Linear(in_features=256, out_features=256, bias=True)\n",
       "    (7): BatchNorm1d(256, eps=1e-05, momentum=0.1, affine=True, track_running_stats=True)\n",
       "    (8): ReLU()\n",
       "    (9): Linear(in_features=256, out_features=256, bias=True)\n",
       "    (10): BatchNorm1d(256, eps=1e-05, momentum=0.1, affine=True, track_running_stats=True)\n",
       "    (11): ReLU()\n",
       "    (12): Linear(in_features=256, out_features=1, bias=True)\n",
       "  )\n",
       ")"
      ]
     },
     "execution_count": 3,
     "metadata": {},
     "output_type": "execute_result"
    }
   ],
   "source": [
    "reg = PhotoZFromMag(\n",
    "    in_dim,\n",
    "    network_options[\"hidden_dim\"],\n",
    "    network_options[\"out_dim\"],\n",
    "    network_options[\"dropout_rate\"],\n",
    "    network_options[\"learning_rate\"],\n",
    "    network_options[\"loss_fcn\"],\n",
    ")\n",
    "reg = reg.load_from_checkpoint(\n",
    "    path,\n",
    "    in_dim=in_dim,\n",
    "    hidden_dim=network_options[\"hidden_dim\"],\n",
    "    out_dim=network_options[\"out_dim\"],\n",
    "    dropout_rate=network_options[\"dropout_rate\"],\n",
    "    learning_rate=network_options[\"learning_rate\"],\n",
    "    loss_fcn=network_options[\"loss_fcn\"],\n",
    ")\n",
    "reg.to(device)\n",
    "reg.eval()"
   ]
  },
  {
   "cell_type": "markdown",
   "metadata": {},
   "source": [
    "# PhotoZ from GT"
   ]
  },
  {
   "cell_type": "markdown",
   "metadata": {},
   "source": [
    "Prepare test dataset"
   ]
  },
  {
   "cell_type": "code",
   "execution_count": 4,
   "metadata": {},
   "outputs": [
    {
     "name": "stdout",
     "output_type": "stream",
     "text": [
      "finish reading dataset!\n",
      "start tensor dataset preparation!\n"
     ]
    }
   ],
   "source": [
    "dataset_name = \"desc_dc2_run2.2i_dr6_truth_nona_test\"\n",
    "path = f\"/home/qiaozhih/bliss/data/redshift/dc2/{dataset_name}.pkl\"\n",
    "photo_z = pd.read_pickle(path)\n",
    "print(\"finish reading dataset!\")\n",
    "device = \"cuda\"\n",
    "\n",
    "\n",
    "print(\"start tensor dataset preparation!\")\n",
    "x = photo_z.values[:, :-1].astype(float)\n",
    "y = photo_z.values[:, -1].astype(float)\n",
    "n_samples, n_features_x = x.shape\n",
    "n_features_y = 1\n",
    "n_samples = n_samples // group_size * group_size\n",
    "\n",
    "x_train = np.array(x[:n_samples])\n",
    "y_train = np.array(y[:n_samples])\n",
    "tensor_x = torch.Tensor(x_train).view(-1, group_size, n_features_x)\n",
    "tensor_y = torch.Tensor(y_train).view(-1, group_size, n_features_y)\n",
    "tensor_x = torch.Tensor(x_train)\n",
    "tensor_y = torch.Tensor(y_train)\n",
    "custom_dataset = TensorDataset(tensor_x, tensor_y)\n",
    "dataloader = DataLoader(custom_dataset, batch_size=batch_size)"
   ]
  },
  {
   "cell_type": "code",
   "execution_count": 5,
   "metadata": {},
   "outputs": [
    {
     "data": {
      "text/html": [
       "<div>\n",
       "<style scoped>\n",
       "    .dataframe tbody tr th:only-of-type {\n",
       "        vertical-align: middle;\n",
       "    }\n",
       "\n",
       "    .dataframe tbody tr th {\n",
       "        vertical-align: top;\n",
       "    }\n",
       "\n",
       "    .dataframe thead th {\n",
       "        text-align: right;\n",
       "    }\n",
       "</style>\n",
       "<table border=\"1\" class=\"dataframe\">\n",
       "  <thead>\n",
       "    <tr style=\"text-align: right;\">\n",
       "      <th></th>\n",
       "      <th>mag_u</th>\n",
       "      <th>mag_g</th>\n",
       "      <th>mag_r</th>\n",
       "      <th>mag_i</th>\n",
       "      <th>mag_z</th>\n",
       "      <th>mag_y</th>\n",
       "      <th>redshift</th>\n",
       "    </tr>\n",
       "  </thead>\n",
       "  <tbody>\n",
       "    <tr>\n",
       "      <th>0</th>\n",
       "      <td>26.556507</td>\n",
       "      <td>26.084435</td>\n",
       "      <td>26.276703</td>\n",
       "      <td>26.065144</td>\n",
       "      <td>25.826366</td>\n",
       "      <td>25.695995</td>\n",
       "      <td>1.908901</td>\n",
       "    </tr>\n",
       "    <tr>\n",
       "      <th>1</th>\n",
       "      <td>28.220398</td>\n",
       "      <td>28.234966</td>\n",
       "      <td>27.881527</td>\n",
       "      <td>27.486027</td>\n",
       "      <td>26.717588</td>\n",
       "      <td>26.489946</td>\n",
       "      <td>1.137981</td>\n",
       "    </tr>\n",
       "    <tr>\n",
       "      <th>2</th>\n",
       "      <td>28.722860</td>\n",
       "      <td>28.479860</td>\n",
       "      <td>28.304796</td>\n",
       "      <td>28.019051</td>\n",
       "      <td>27.849899</td>\n",
       "      <td>27.109158</td>\n",
       "      <td>1.470551</td>\n",
       "    </tr>\n",
       "    <tr>\n",
       "      <th>3</th>\n",
       "      <td>28.768080</td>\n",
       "      <td>28.587730</td>\n",
       "      <td>28.665817</td>\n",
       "      <td>28.758175</td>\n",
       "      <td>28.785480</td>\n",
       "      <td>28.820072</td>\n",
       "      <td>2.083512</td>\n",
       "    </tr>\n",
       "    <tr>\n",
       "      <th>4</th>\n",
       "      <td>26.372501</td>\n",
       "      <td>26.218693</td>\n",
       "      <td>26.290922</td>\n",
       "      <td>25.878529</td>\n",
       "      <td>25.457048</td>\n",
       "      <td>25.099941</td>\n",
       "      <td>1.711168</td>\n",
       "    </tr>\n",
       "    <tr>\n",
       "      <th>...</th>\n",
       "      <td>...</td>\n",
       "      <td>...</td>\n",
       "      <td>...</td>\n",
       "      <td>...</td>\n",
       "      <td>...</td>\n",
       "      <td>...</td>\n",
       "      <td>...</td>\n",
       "    </tr>\n",
       "    <tr>\n",
       "      <th>152726434</th>\n",
       "      <td>30.219604</td>\n",
       "      <td>28.971169</td>\n",
       "      <td>28.734722</td>\n",
       "      <td>28.654079</td>\n",
       "      <td>28.446175</td>\n",
       "      <td>28.262957</td>\n",
       "      <td>2.119694</td>\n",
       "    </tr>\n",
       "    <tr>\n",
       "      <th>152726435</th>\n",
       "      <td>27.391014</td>\n",
       "      <td>27.371552</td>\n",
       "      <td>27.193888</td>\n",
       "      <td>26.565735</td>\n",
       "      <td>26.325401</td>\n",
       "      <td>26.309673</td>\n",
       "      <td>0.916443</td>\n",
       "    </tr>\n",
       "    <tr>\n",
       "      <th>152726436</th>\n",
       "      <td>25.903921</td>\n",
       "      <td>25.944452</td>\n",
       "      <td>26.039276</td>\n",
       "      <td>26.093750</td>\n",
       "      <td>26.147596</td>\n",
       "      <td>26.072247</td>\n",
       "      <td>1.650670</td>\n",
       "    </tr>\n",
       "    <tr>\n",
       "      <th>152726437</th>\n",
       "      <td>27.049362</td>\n",
       "      <td>27.165443</td>\n",
       "      <td>27.322468</td>\n",
       "      <td>27.452419</td>\n",
       "      <td>27.195011</td>\n",
       "      <td>27.065498</td>\n",
       "      <td>1.289484</td>\n",
       "    </tr>\n",
       "    <tr>\n",
       "      <th>152726438</th>\n",
       "      <td>29.803997</td>\n",
       "      <td>29.446127</td>\n",
       "      <td>28.899895</td>\n",
       "      <td>27.987387</td>\n",
       "      <td>27.850273</td>\n",
       "      <td>27.812197</td>\n",
       "      <td>0.809508</td>\n",
       "    </tr>\n",
       "  </tbody>\n",
       "</table>\n",
       "<p>152726439 rows × 7 columns</p>\n",
       "</div>"
      ],
      "text/plain": [
       "               mag_u      mag_g      mag_r      mag_i      mag_z      mag_y  \\\n",
       "0          26.556507  26.084435  26.276703  26.065144  25.826366  25.695995   \n",
       "1          28.220398  28.234966  27.881527  27.486027  26.717588  26.489946   \n",
       "2          28.722860  28.479860  28.304796  28.019051  27.849899  27.109158   \n",
       "3          28.768080  28.587730  28.665817  28.758175  28.785480  28.820072   \n",
       "4          26.372501  26.218693  26.290922  25.878529  25.457048  25.099941   \n",
       "...              ...        ...        ...        ...        ...        ...   \n",
       "152726434  30.219604  28.971169  28.734722  28.654079  28.446175  28.262957   \n",
       "152726435  27.391014  27.371552  27.193888  26.565735  26.325401  26.309673   \n",
       "152726436  25.903921  25.944452  26.039276  26.093750  26.147596  26.072247   \n",
       "152726437  27.049362  27.165443  27.322468  27.452419  27.195011  27.065498   \n",
       "152726438  29.803997  29.446127  28.899895  27.987387  27.850273  27.812197   \n",
       "\n",
       "           redshift  \n",
       "0          1.908901  \n",
       "1          1.137981  \n",
       "2          1.470551  \n",
       "3          2.083512  \n",
       "4          1.711168  \n",
       "...             ...  \n",
       "152726434  2.119694  \n",
       "152726435  0.916443  \n",
       "152726436  1.650670  \n",
       "152726437  1.289484  \n",
       "152726438  0.809508  \n",
       "\n",
       "[152726439 rows x 7 columns]"
      ]
     },
     "execution_count": 5,
     "metadata": {},
     "output_type": "execute_result"
    }
   ],
   "source": [
    "photo_z"
   ]
  },
  {
   "cell_type": "markdown",
   "metadata": {},
   "source": [
    "## Regressor"
   ]
  },
  {
   "cell_type": "code",
   "execution_count": 6,
   "metadata": {},
   "outputs": [
    {
     "name": "stderr",
     "output_type": "stream",
     "text": [
      "1001batch [00:06, 160.94batch/s]\n"
     ]
    }
   ],
   "source": [
    "preds = []\n",
    "trues = []\n",
    "reg.eval()\n",
    "with torch.no_grad():\n",
    "    for idx, (x, y) in tqdm(enumerate(dataloader), unit=\"batch\"):\n",
    "        x = x.to(device)\n",
    "        y = y.to(device)\n",
    "        pred_this_batch = reg.net(x)\n",
    "        preds.append(pred_this_batch)\n",
    "        trues.append(y)\n",
    "\n",
    "        if idx > 1000:\n",
    "            break"
   ]
  },
  {
   "cell_type": "code",
   "execution_count": 7,
   "metadata": {},
   "outputs": [],
   "source": [
    "preds = torch.cat(preds)\n",
    "trues = torch.cat(trues)\n",
    "preds = preds.reshape(-1, 1)\n",
    "trues = trues.reshape(-1, 1)"
   ]
  },
  {
   "cell_type": "code",
   "execution_count": 8,
   "metadata": {},
   "outputs": [
    {
     "data": {
      "text/plain": [
       "<matplotlib.collections.PathCollection at 0x7f376cd0d090>"
      ]
     },
     "execution_count": 8,
     "metadata": {},
     "output_type": "execute_result"
    },
    {
     "data": {
      "image/png": "[encoded data removed]",
      "text/plain": [
       "<Figure size 640x480 with 1 Axes>"
      ]
     },
     "metadata": {},
     "output_type": "display_data"
    }
   ],
   "source": [
    "plt.xlim(0, 3)\n",
    "plt.ylim(0, 3)\n",
    "plt.axline((0, 0), slope=1)\n",
    "preds = preds.detach().cpu().numpy()\n",
    "trues = trues.detach().cpu().numpy()\n",
    "plt.scatter(preds, trues, alpha=0.1, s=3)"
   ]
  },
  {
   "cell_type": "code",
   "execution_count": 9,
   "metadata": {},
   "outputs": [
    {
     "name": "stdout",
     "output_type": "stream",
     "text": [
      "mse:0.000358\n"
     ]
    }
   ],
   "source": [
    "mse = mean_squared_error(trues, preds)\n",
    "print(f\"mse:{mse:03f}\")"
   ]
  },
  {
   "cell_type": "code",
   "execution_count": null,
   "metadata": {},
   "outputs": [],
   "source": []
  }
 ],
 "metadata": {
  "kernelspec": {
   "display_name": ".venv",
   "language": "python",
   "name": "python3"
  },
  "language_info": {
   "codemirror_mode": {
    "name": "ipython",
    "version": 3
   },
   "file_extension": ".py",
   "mimetype": "text/x-python",
   "name": "python",
   "nbconvert_exporter": "python",
   "pygments_lexer": "ipython3",
   "version": "3.10.12"
  }
 },
 "nbformat": 4,
 "nbformat_minor": 2
}

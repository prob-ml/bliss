{
 "cells": [
  {
   "cell_type": "markdown",
   "metadata": {},
   "source": [
    "## DC2 Generate Cat and Split Data "
   ]
  },
  {
   "cell_type": "code",
   "execution_count": 3,
   "metadata": {},
   "outputs": [],
   "source": [
    "%load_ext autoreload\n",
    "%autoreload 2"
   ]
  },
  {
   "cell_type": "code",
   "execution_count": 1,
   "metadata": {},
   "outputs": [],
   "source": [
    "from os import environ\n",
    "from pathlib import Path\n",
    "\n",
    "import GCRCatalogs\n",
    "import pandas as pd\n",
    "import torch\n",
    "from hydra import compose, initialize\n",
    "from hydra.utils import instantiate\n",
    "import pickle\n",
    "\n",
    "from bliss.catalog import SourceType\n",
    "from bliss.surveys.dc2 import DC2DataModule, wcs_from_wcs_header_str"
   ]
  },
  {
   "cell_type": "markdown",
   "metadata": {},
   "source": [
    "# Generate Cat data"
   ]
  },
  {
   "cell_type": "code",
   "execution_count": 2,
   "metadata": {},
   "outputs": [],
   "source": [
    "output_dir = Path(\"./DC2_generate_catalog_output/\")\n",
    "output_dir.mkdir(parents=True, exist_ok=True)"
   ]
  },
  {
   "cell_type": "code",
   "execution_count": 8,
   "metadata": {},
   "outputs": [],
   "source": [
    "truth_catalog_pickle_file = output_dir / \"truth_catalog.pkl\"\n",
    "GCRCatalogs.set_root_dir(\"/nfs/turbo/lsa-regier/lsstdesc-public/dc2\")\n",
    "if truth_catalog_pickle_file.exists():\n",
    "    with open(truth_catalog_pickle_file, \"rb\") as inputp: \n",
    "        truth_cat_data = pickle.load(inputp)\n",
    "else:   \n",
    "    truth_cat = GCRCatalogs.load_catalog(\"desc_dc2_run2.2i_dr6_truth\") \n",
    "    print(sorted(truth_cat.list_all_quantities()))\n",
    "    truth_cat_data = truth_cat.get_quantities([\n",
    "        \"id\", \"match_objectId\", \"cosmodc2_id\", \"ra\", \"dec\", \"truth_type\", \n",
    "        \"flux_g\", \"flux_i\", \"flux_r\", \"flux_u\", \"flux_y\", \"flux_z\",\n",
    "        \"redshift\",\n",
    "    ])\n",
    "    with open(truth_catalog_pickle_file, \"wb\") as outp:\n",
    "        pickle.dump(truth_cat_data, outp, pickle.HIGHEST_PROTOCOL)\n",
    "\n",
    "truth_cat_df = pd.DataFrame(truth_cat_data)\n",
    "truth_cat_df.rename(columns={\"redshift\": \"redshifts\"}, inplace=True)"
   ]
  },
  {
   "cell_type": "code",
   "execution_count": 11,
   "metadata": {},
   "outputs": [
    {
     "name": "stdout",
     "output_type": "stream",
     "text": [
      "['A_v', 'A_v_bulge', 'A_v_disk', 'Mag_true_Y_lsst_z0', 'Mag_true_Y_lsst_z0_no_host_extinction', 'Mag_true_g_lsst_z0', 'Mag_true_g_lsst_z0_no_host_extinction', 'Mag_true_g_sdss_z0', 'Mag_true_g_sdss_z0_no_host_extinction', 'Mag_true_i_lsst_z0', 'Mag_true_i_lsst_z0_no_host_extinction', 'Mag_true_i_sdss_z0', 'Mag_true_i_sdss_z0_no_host_extinction', 'Mag_true_r_lsst_z0', 'Mag_true_r_lsst_z0_no_host_extinction', 'Mag_true_r_sdss_z0', 'Mag_true_r_sdss_z0_no_host_extinction', 'Mag_true_u_lsst_z0', 'Mag_true_u_lsst_z0_no_host_extinction', 'Mag_true_u_sdss_z0', 'Mag_true_u_sdss_z0_no_host_extinction', 'Mag_true_y_lsst_z0', 'Mag_true_y_lsst_z0_no_host_extinction', 'Mag_true_z_lsst_z0', 'Mag_true_z_lsst_z0_no_host_extinction', 'Mag_true_z_sdss_z0', 'Mag_true_z_sdss_z0_no_host_extinction', 'R_v', 'R_v_bulge', 'R_v_disk', 'bulge_to_total_ratio_i', 'convergence', 'dec', 'dec_true', 'ellipticity_1_bulge_true', 'ellipticity_1_bulge_true_dc2', 'ellipticity_1_disk_true', 'ellipticity_1_disk_true_dc2', 'ellipticity_1_true', 'ellipticity_1_true_dc2', 'ellipticity_2_bulge_true', 'ellipticity_2_bulge_true_dc2', 'ellipticity_2_disk_true', 'ellipticity_2_disk_true_dc2', 'ellipticity_2_true', 'ellipticity_2_true_dc2', 'ellipticity_bulge_true', 'ellipticity_disk_true', 'ellipticity_true', 'galaxy_id', 'halo_id', 'halo_mass', 'is_central', 'mag_Y_lsst', 'mag_Y_lsst_no_host_extinction', 'mag_g', 'mag_g_lsst', 'mag_g_lsst_no_host_extinction', 'mag_g_sdss', 'mag_g_sdss_no_host_extinction', 'mag_i', 'mag_i_lsst', 'mag_i_lsst_no_host_extinction', 'mag_i_sdss', 'mag_i_sdss_no_host_extinction', 'mag_r', 'mag_r_lsst', 'mag_r_lsst_no_host_extinction', 'mag_r_sdss', 'mag_r_sdss_no_host_extinction', 'mag_true_Y_lsst', 'mag_true_Y_lsst_no_host_extinction', 'mag_true_g', 'mag_true_g_lsst', 'mag_true_g_lsst_no_host_extinction', 'mag_true_g_sdss', 'mag_true_g_sdss_no_host_extinction', 'mag_true_i', 'mag_true_i_lsst', 'mag_true_i_lsst_no_host_extinction', 'mag_true_i_sdss', 'mag_true_i_sdss_no_host_extinction', 'mag_true_r', 'mag_true_r_lsst', 'mag_true_r_lsst_no_host_extinction', 'mag_true_r_sdss', 'mag_true_r_sdss_no_host_extinction', 'mag_true_u', 'mag_true_u_lsst', 'mag_true_u_lsst_no_host_extinction', 'mag_true_u_sdss', 'mag_true_u_sdss_no_host_extinction', 'mag_true_y', 'mag_true_y_lsst', 'mag_true_y_lsst_no_host_extinction', 'mag_true_z', 'mag_true_z_lsst', 'mag_true_z_lsst_no_host_extinction', 'mag_true_z_sdss', 'mag_true_z_sdss_no_host_extinction', 'mag_u', 'mag_u_lsst', 'mag_u_lsst_no_host_extinction', 'mag_u_sdss', 'mag_u_sdss_no_host_extinction', 'mag_y', 'mag_y_lsst', 'mag_y_lsst_no_host_extinction', 'mag_z', 'mag_z_lsst', 'mag_z_lsst_no_host_extinction', 'mag_z_sdss', 'mag_z_sdss_no_host_extinction', 'magnification', 'position_angle_true', 'position_angle_true_dc2', 'position_angle_true_phosim', 'position_x', 'position_y', 'position_z', 'ra', 'ra_true', 'redshift', 'redshift_true', 'sed_1000_246', 'sed_1000_246_bulge', 'sed_1000_246_bulge_no_host_extinction', 'sed_1000_246_disk', 'sed_1000_246_disk_no_host_extinction', 'sed_1000_246_no_host_extinction', 'sed_11467_1710', 'sed_11467_1710_bulge', 'sed_11467_1710_bulge_no_host_extinction', 'sed_11467_1710_disk', 'sed_11467_1710_disk_no_host_extinction', 'sed_11467_1710_no_host_extinction', 'sed_1246_306', 'sed_1246_306_bulge', 'sed_1246_306_bulge_no_host_extinction', 'sed_1246_306_disk', 'sed_1246_306_disk_no_host_extinction', 'sed_1246_306_no_host_extinction', 'sed_13177_1966', 'sed_13177_1966_bulge', 'sed_13177_1966_bulge_no_host_extinction', 'sed_13177_1966_disk', 'sed_13177_1966_disk_no_host_extinction', 'sed_13177_1966_no_host_extinction', 'sed_15143_2259', 'sed_15143_2259_bulge', 'sed_15143_2259_bulge_no_host_extinction', 'sed_15143_2259_disk', 'sed_15143_2259_disk_no_host_extinction', 'sed_15143_2259_no_host_extinction', 'sed_1552_381', 'sed_1552_381_bulge', 'sed_1552_381_bulge_no_host_extinction', 'sed_1552_381_disk', 'sed_1552_381_disk_no_host_extinction', 'sed_1552_381_no_host_extinction', 'sed_17402_2596', 'sed_17402_2596_bulge', 'sed_17402_2596_bulge_no_host_extinction', 'sed_17402_2596_disk', 'sed_17402_2596_disk_no_host_extinction', 'sed_17402_2596_no_host_extinction', 'sed_1933_474', 'sed_1933_474_bulge', 'sed_1933_474_bulge_no_host_extinction', 'sed_1933_474_disk', 'sed_1933_474_disk_no_host_extinction', 'sed_1933_474_no_host_extinction', 'sed_2407_591', 'sed_2407_591_bulge', 'sed_2407_591_bulge_no_host_extinction', 'sed_2407_591_disk', 'sed_2407_591_disk_no_host_extinction', 'sed_2407_591_no_host_extinction', 'sed_2998_186', 'sed_2998_186_bulge', 'sed_2998_186_bulge_no_host_extinction', 'sed_2998_186_disk', 'sed_2998_186_disk_no_host_extinction', 'sed_2998_186_no_host_extinction', 'sed_3184_197', 'sed_3184_197_bulge', 'sed_3184_197_bulge_no_host_extinction', 'sed_3184_197_disk', 'sed_3184_197_disk_no_host_extinction', 'sed_3184_197_no_host_extinction', 'sed_3381_209', 'sed_3381_209_bulge', 'sed_3381_209_bulge_no_host_extinction', 'sed_3381_209_disk', 'sed_3381_209_disk_no_host_extinction', 'sed_3381_209_no_host_extinction', 'sed_3590_222', 'sed_3590_222_bulge', 'sed_3590_222_bulge_no_host_extinction', 'sed_3590_222_disk', 'sed_3590_222_disk_no_host_extinction', 'sed_3590_222_no_host_extinction', 'sed_3812_236', 'sed_3812_236_bulge', 'sed_3812_236_bulge_no_host_extinction', 'sed_3812_236_disk', 'sed_3812_236_disk_no_host_extinction', 'sed_3812_236_no_host_extinction', 'sed_4048_251', 'sed_4048_251_bulge', 'sed_4048_251_bulge_no_host_extinction', 'sed_4048_251_disk', 'sed_4048_251_disk_no_host_extinction', 'sed_4048_251_no_host_extinction', 'sed_4299_266', 'sed_4299_266_bulge', 'sed_4299_266_bulge_no_host_extinction', 'sed_4299_266_disk', 'sed_4299_266_disk_no_host_extinction', 'sed_4299_266_no_host_extinction', 'sed_4565_283', 'sed_4565_283_bulge', 'sed_4565_283_bulge_no_host_extinction', 'sed_4565_283_disk', 'sed_4565_283_disk_no_host_extinction', 'sed_4565_283_no_host_extinction', 'sed_4848_300', 'sed_4848_300_bulge', 'sed_4848_300_bulge_no_host_extinction', 'sed_4848_300_disk', 'sed_4848_300_disk_no_host_extinction', 'sed_4848_300_no_host_extinction', 'sed_5148_319', 'sed_5148_319_bulge', 'sed_5148_319_bulge_no_host_extinction', 'sed_5148_319_disk', 'sed_5148_319_disk_no_host_extinction', 'sed_5148_319_no_host_extinction', 'sed_5467_339', 'sed_5467_339_bulge', 'sed_5467_339_bulge_no_host_extinction', 'sed_5467_339_disk', 'sed_5467_339_disk_no_host_extinction', 'sed_5467_339_no_host_extinction', 'sed_5806_360', 'sed_5806_360_bulge', 'sed_5806_360_bulge_no_host_extinction', 'sed_5806_360_disk', 'sed_5806_360_disk_no_host_extinction', 'sed_5806_360_no_host_extinction', 'sed_6166_382', 'sed_6166_382_bulge', 'sed_6166_382_bulge_no_host_extinction', 'sed_6166_382_disk', 'sed_6166_382_disk_no_host_extinction', 'sed_6166_382_no_host_extinction', 'sed_6548_406', 'sed_6548_406_bulge', 'sed_6548_406_bulge_no_host_extinction', 'sed_6548_406_disk', 'sed_6548_406_disk_no_host_extinction', 'sed_6548_406_no_host_extinction', 'sed_6954_431', 'sed_6954_431_bulge', 'sed_6954_431_bulge_no_host_extinction', 'sed_6954_431_disk', 'sed_6954_431_disk_no_host_extinction', 'sed_6954_431_no_host_extinction', 'sed_7385_458', 'sed_7385_458_bulge', 'sed_7385_458_bulge_no_host_extinction', 'sed_7385_458_disk', 'sed_7385_458_disk_no_host_extinction', 'sed_7385_458_no_host_extinction', 'sed_7843_486', 'sed_7843_486_bulge', 'sed_7843_486_bulge_no_host_extinction', 'sed_7843_486_disk', 'sed_7843_486_disk_no_host_extinction', 'sed_7843_486_no_host_extinction', 'sed_8329_517', 'sed_8329_517_bulge', 'sed_8329_517_bulge_no_host_extinction', 'sed_8329_517_disk', 'sed_8329_517_disk_no_host_extinction', 'sed_8329_517_no_host_extinction', 'sed_8846_549', 'sed_8846_549_bulge', 'sed_8846_549_bulge_no_host_extinction', 'sed_8846_549_disk', 'sed_8846_549_disk_no_host_extinction', 'sed_8846_549_no_host_extinction', 'sed_9395_583', 'sed_9395_583_bulge', 'sed_9395_583_bulge_no_host_extinction', 'sed_9395_583_disk', 'sed_9395_583_disk_no_host_extinction', 'sed_9395_583_no_host_extinction', 'sed_9978_1489', 'sed_9978_1489_bulge', 'sed_9978_1489_bulge_no_host_extinction', 'sed_9978_1489_disk', 'sed_9978_1489_disk_no_host_extinction', 'sed_9978_1489_no_host_extinction', 'sersic_bulge', 'sersic_disk', 'shear_1', 'shear_2', 'shear_2_phosim', 'shear_2_treecorr', 'size_bulge_true', 'size_disk_true', 'size_minor_bulge_true', 'size_minor_disk_true', 'size_minor_true', 'size_true', 'stellar_mass', 'stellar_mass_bulge', 'stellar_mass_disk', 'velocity_x', 'velocity_y', 'velocity_z']\n"
     ]
    }
   ],
   "source": [
    "galaxy_params_pickle_file = output_dir / \"galaxy_params.pkl\"\n",
    "if galaxy_params_pickle_file.exists():\n",
    "    with open(galaxy_params_pickle_file, \"rb\") as inputp: \n",
    "        galaxy_params_data = pickle.load(inputp)\n",
    "else:\n",
    "    GCRCatalogs.set_root_dir(\"/nfs/turbo/lsa-regier\")\n",
    "    galaxy_params = GCRCatalogs.load_catalog(\"desc_cosmodc2\")\n",
    "    print(sorted(galaxy_params.list_all_quantities()))\n",
    "    galaxy_params_data = galaxy_params.get_quantities([\n",
    "        \"galaxy_id\",\n",
    "        \"shear_1\", \"shear_2\",\n",
    "        \"ellipticity_1_true\", \"ellipticity_2_true\",\n",
    "    ])\n",
    "    with open(galaxy_params_pickle_file, \"wb\") as outp:\n",
    "        pickle.dump(galaxy_params_data, outp, pickle.HIGHEST_PROTOCOL)\n",
    "\n",
    "galaxy_params_df = pd.DataFrame(galaxy_params_data)"
   ]
  },
  {
   "cell_type": "code",
   "execution_count": 6,
   "metadata": {},
   "outputs": [],
   "source": [
    "psf_params_pickle_file = output_dir / \"psf_params.pkl\"\n",
    "if psf_params_pickle_file.exists():\n",
    "    with open(psf_params_pickle_file, \"rb\") as inputp: \n",
    "        psf_params_data = pickle.load(inputp)\n",
    "else:\n",
    "    psf_params = GCRCatalogs.load_catalog(\"desc_dc2_run2.2i_dr6_object_with_truth_match\")\n",
    "    psf_params_data = psf_params.get_quantities([\n",
    "        \"objectId\", \"blendedness\", \"IxxPSF_pixel_g\", \"IxxPSF_pixel_z\", \n",
    "        \"IxxPSF_pixel_r\", \"IxxPSF_pixel_i\", \"IxxPSF_pixel_u\", \n",
    "        \"IxxPSF_pixel_y\", \"IyyPSF_pixel_g\", \"IyyPSF_pixel_z\", \n",
    "        \"IyyPSF_pixel_r\", \"IyyPSF_pixel_i\", \"IyyPSF_pixel_u\", \n",
    "        \"IyyPSF_pixel_y\", \"IxyPSF_pixel_g\", \"IxyPSF_pixel_z\", \n",
    "        \"IxyPSF_pixel_r\", \"IxyPSF_pixel_i\", \"IxyPSF_pixel_u\", \n",
    "        \"IxyPSF_pixel_y\", \"psf_fwhm_g\", \"psf_fwhm_z\", \"psf_fwhm_r\",\n",
    "        \"psf_fwhm_i\", \"psf_fwhm_u\", \"psf_fwhm_y\"\n",
    "    ])\n",
    "    with open(psf_params_pickle_file, \"wb\") as outp:\n",
    "        pickle.dump(psf_params_data, outp, pickle.HIGHEST_PROTOCOL)"
   ]
  },
  {
   "cell_type": "markdown",
   "metadata": {},
   "source": [
    "### Merge Catalog"
   ]
  },
  {
   "cell_type": "code",
   "execution_count": 7,
   "metadata": {},
   "outputs": [],
   "source": [
    "truth_cat_df = pd.DataFrame(truth_cat_data)\n",
    "galaxy_params_df = pd.DataFrame(galaxy_params_data)\n",
    "psf_params_df = pd.DataFrame(psf_params_data)\n",
    "truth_galaxy_df = truth_cat_df.merge(\n",
    "    galaxy_params_df, \n",
    "    left_on=\"cosmodc2_id\", \n",
    "    right_on=\"galaxy_id\", \n",
    "    how=\"left\" \n",
    ")\n",
    "truth_galaxy_psf_df = truth_galaxy_df.merge(\n",
    "    psf_params_df, \n",
    "    left_on=\"match_objectId\", \n",
    "    right_on=\"objectId\", \n",
    "    how=\"left\" \n",
    ")"
   ]
  },
  {
   "cell_type": "code",
   "execution_count": 8,
   "metadata": {},
   "outputs": [],
   "source": [
    "truth_galaxy_psf_df = truth_galaxy_df.merge(\n",
    "    psf_params_df, \n",
    "    left_on=\"match_objectId\", \n",
    "    right_on=\"objectId\", \n",
    "    how=\"left\" \n",
    ")"
   ]
  },
  {
   "cell_type": "code",
   "execution_count": 7,
   "metadata": {},
   "outputs": [],
   "source": [
    "merged_catalog_pikle_file = output_dir / \"merged_catalog.pkl\"\n",
    "if merged_catalog_pikle_file.exists():\n",
    "    with open(merged_catalog_pikle_file, \"rb\") as inputp: \n",
    "        truth_galaxy_psf_df = pickle.load(inputp)\n",
    "else:\n",
    "    truth_cat_df = pd.DataFrame(truth_cat_data)\n",
    "    galaxy_params_df = pd.DataFrame(galaxy_params_data)\n",
    "    psf_params_df = pd.DataFrame(psf_params_data)\n",
    "    truth_galaxy_df = truth_cat_df.merge(\n",
    "        galaxy_params_df, \n",
    "        left_on=\"cosmodc2_id\", \n",
    "        right_on=\"galaxy_id\", \n",
    "        how=\"left\" \n",
    "    )\n",
    "    truth_galaxy_psf_df = truth_galaxy_df.merge(\n",
    "        psf_params_df, \n",
    "        left_on=\"match_objectId\", \n",
    "        right_on=\"objectId\", \n",
    "        how=\"left\" \n",
    "    )\n",
    "    with open(merged_catalog_pikle_file, \"wb\") as outp:\n",
    "        pickle.dump(truth_galaxy_psf_df, outp, pickle.HIGHEST_PROTOCOL)"
   ]
  },
  {
   "cell_type": "code",
   "execution_count": 11,
   "metadata": {},
   "outputs": [],
   "source": [
    "# filter the object by flux\n",
    "flux_min = 50\n",
    "truth_galaxy_psf_df = truth_galaxy_psf_df.loc[truth_galaxy_psf_df[\"flux_r\"] > flux_min]"
   ]
  },
  {
   "cell_type": "code",
   "execution_count": 13,
   "metadata": {},
   "outputs": [
    {
     "data": {
      "text/plain": [
       "count    9.160922e+06\n",
       "mean     3.976622e-02\n",
       "std      1.079735e-01\n",
       "min     -1.678246e+00\n",
       "25%      0.000000e+00\n",
       "50%      1.636379e-03\n",
       "75%      2.584892e-02\n",
       "max      1.000000e+00\n",
       "Name: blendedness, dtype: float64"
      ]
     },
     "execution_count": 13,
     "metadata": {},
     "output_type": "execute_result"
    }
   ],
   "source": [
    "truth_galaxy_psf_df[\"blendedness\"].describe()"
   ]
  },
  {
   "cell_type": "code",
   "execution_count": 14,
   "metadata": {},
   "outputs": [
    {
     "data": {
      "text/plain": [
       "3452525"
      ]
     },
     "execution_count": 14,
     "metadata": {},
     "output_type": "execute_result"
    }
   ],
   "source": [
    "truth_galaxy_psf_df[\"blendedness\"].isna().sum()"
   ]
  },
  {
   "cell_type": "code",
   "execution_count": 15,
   "metadata": {},
   "outputs": [
    {
     "data": {
      "text/plain": [
       "12613447"
      ]
     },
     "execution_count": 15,
     "metadata": {},
     "output_type": "execute_result"
    }
   ],
   "source": [
    "len(truth_galaxy_psf_df)"
   ]
  },
  {
   "cell_type": "code",
   "execution_count": 16,
   "metadata": {},
   "outputs": [],
   "source": [
    "truth_galaxy_psf_df[\"blendedness\"] = np.clip(truth_galaxy_psf_df[\"blendedness\"].values, a_min=0.0, a_max=1.0)"
   ]
  },
  {
   "cell_type": "code",
   "execution_count": 17,
   "metadata": {},
   "outputs": [
    {
     "data": {
      "text/plain": [
       "count    9.160922e+06\n",
       "mean     4.019095e-02\n",
       "std      1.076950e-01\n",
       "min      0.000000e+00\n",
       "25%      0.000000e+00\n",
       "50%      1.636379e-03\n",
       "75%      2.584892e-02\n",
       "max      1.000000e+00\n",
       "Name: blendedness, dtype: float64"
      ]
     },
     "execution_count": 17,
     "metadata": {},
     "output_type": "execute_result"
    }
   ],
   "source": [
    "truth_galaxy_psf_df[\"blendedness\"].describe()"
   ]
  },
  {
   "cell_type": "code",
   "execution_count": 18,
   "metadata": {},
   "outputs": [],
   "source": [
    "# # create a pickle file \n",
    "truth_galaxy_psf_df.to_pickle(output_dir / f\"merged_catalog_with_flux_over_{flux_min}.pkl\")"
   ]
  },
  {
   "cell_type": "code",
   "execution_count": null,
   "metadata": {},
   "outputs": [],
   "source": [
    "truth_galaxy_psf_df"
   ]
  },
  {
   "cell_type": "markdown",
   "metadata": {},
   "source": [
    "# generate split file"
   ]
  },
  {
   "cell_type": "code",
   "execution_count": 22,
   "metadata": {},
   "outputs": [
    {
     "name": "stdout",
     "output_type": "stream",
     "text": [
      "++++++++++++++++++++++++++++++++++++++++++++++++++++++++++++++++++++++++++++++++++++++++++++++++++++\n",
      "initialization begins\n"
     ]
    },
    {
     "name": "stdout",
     "output_type": "stream",
     "text": [
      "initialization ends\n",
      "++++++++++++++++++++++++++++++++++++++++++++++++++++++++++++++++++++++++++++++++++++++++++++++++++++\n",
      "++++++++++++++++++++++++++++++++++++++++++++++++++++++++++++++++++++++++++++++++++++++++++++++++++++\n",
      "load dc2\n"
     ]
    },
    {
     "ename": "InstantiationException",
     "evalue": "Error locating target 'bliss.cached_dataset.FluxFilterTransform', set env var HYDRA_FULL_ERROR=1 to see chained exception.\nfull_key: surveys.dc2.train_transforms2",
     "output_type": "error",
     "traceback": [
      "\u001b[0;31m---------------------------------------------------------------------------\u001b[0m",
      "\u001b[0;31mModuleNotFoundError\u001b[0m                       Traceback (most recent call last)",
      "File \u001b[0;32m~/bliss/.venv/lib/python3.10/site-packages/hydra/_internal/utils.py:650\u001b[0m, in \u001b[0;36m_locate\u001b[0;34m(path)\u001b[0m\n\u001b[1;32m    649\u001b[0m \u001b[38;5;28;01mtry\u001b[39;00m:\n\u001b[0;32m--> 650\u001b[0m     obj \u001b[38;5;241m=\u001b[39m \u001b[43mimport_module\u001b[49m\u001b[43m(\u001b[49m\u001b[43mmod\u001b[49m\u001b[43m)\u001b[49m\n\u001b[1;32m    651\u001b[0m     \u001b[38;5;28;01mcontinue\u001b[39;00m\n",
      "File \u001b[0;32m/usr/lib/python3.10/importlib/__init__.py:126\u001b[0m, in \u001b[0;36mimport_module\u001b[0;34m(name, package)\u001b[0m\n\u001b[1;32m    125\u001b[0m         level \u001b[38;5;241m+\u001b[39m\u001b[38;5;241m=\u001b[39m \u001b[38;5;241m1\u001b[39m\n\u001b[0;32m--> 126\u001b[0m \u001b[38;5;28;01mreturn\u001b[39;00m \u001b[43m_bootstrap\u001b[49m\u001b[38;5;241;43m.\u001b[39;49m\u001b[43m_gcd_import\u001b[49m\u001b[43m(\u001b[49m\u001b[43mname\u001b[49m\u001b[43m[\u001b[49m\u001b[43mlevel\u001b[49m\u001b[43m:\u001b[49m\u001b[43m]\u001b[49m\u001b[43m,\u001b[49m\u001b[43m \u001b[49m\u001b[43mpackage\u001b[49m\u001b[43m,\u001b[49m\u001b[43m \u001b[49m\u001b[43mlevel\u001b[49m\u001b[43m)\u001b[49m\n",
      "File \u001b[0;32m<frozen importlib._bootstrap>:1050\u001b[0m, in \u001b[0;36m_gcd_import\u001b[0;34m(name, package, level)\u001b[0m\n",
      "File \u001b[0;32m<frozen importlib._bootstrap>:1027\u001b[0m, in \u001b[0;36m_find_and_load\u001b[0;34m(name, import_)\u001b[0m\n",
      "File \u001b[0;32m<frozen importlib._bootstrap>:1001\u001b[0m, in \u001b[0;36m_find_and_load_unlocked\u001b[0;34m(name, import_)\u001b[0m\n",
      "\u001b[0;31mModuleNotFoundError\u001b[0m: No module named 'bliss.cached_dataset.FluxFilterTransform'; 'bliss.cached_dataset' is not a package",
      "\nThe above exception was the direct cause of the following exception:\n",
      "\u001b[0;31mImportError\u001b[0m                               Traceback (most recent call last)",
      "File \u001b[0;32m~/bliss/.venv/lib/python3.10/site-packages/hydra/_internal/instantiate/_instantiate2.py:134\u001b[0m, in \u001b[0;36m_resolve_target\u001b[0;34m(target, full_key)\u001b[0m\n\u001b[1;32m    133\u001b[0m \u001b[38;5;28;01mtry\u001b[39;00m:\n\u001b[0;32m--> 134\u001b[0m     target \u001b[38;5;241m=\u001b[39m \u001b[43m_locate\u001b[49m\u001b[43m(\u001b[49m\u001b[43mtarget\u001b[49m\u001b[43m)\u001b[49m\n\u001b[1;32m    135\u001b[0m \u001b[38;5;28;01mexcept\u001b[39;00m \u001b[38;5;167;01mException\u001b[39;00m \u001b[38;5;28;01mas\u001b[39;00m e:\n",
      "File \u001b[0;32m~/bliss/.venv/lib/python3.10/site-packages/hydra/_internal/utils.py:653\u001b[0m, in \u001b[0;36m_locate\u001b[0;34m(path)\u001b[0m\n\u001b[1;32m    652\u001b[0m \u001b[38;5;28;01mexcept\u001b[39;00m \u001b[38;5;167;01mModuleNotFoundError\u001b[39;00m \u001b[38;5;28;01mas\u001b[39;00m exc_import:\n\u001b[0;32m--> 653\u001b[0m     \u001b[38;5;28;01mraise\u001b[39;00m \u001b[38;5;167;01mImportError\u001b[39;00m(\n\u001b[1;32m    654\u001b[0m         \u001b[38;5;124mf\u001b[39m\u001b[38;5;124m\"\u001b[39m\u001b[38;5;124mError loading \u001b[39m\u001b[38;5;124m'\u001b[39m\u001b[38;5;132;01m{\u001b[39;00mpath\u001b[38;5;132;01m}\u001b[39;00m\u001b[38;5;124m'\u001b[39m\u001b[38;5;124m:\u001b[39m\u001b[38;5;130;01m\\n\u001b[39;00m\u001b[38;5;132;01m{\u001b[39;00m\u001b[38;5;28mrepr\u001b[39m(exc_import)\u001b[38;5;132;01m}\u001b[39;00m\u001b[38;5;124m\"\u001b[39m\n\u001b[1;32m    655\u001b[0m         \u001b[38;5;241m+\u001b[39m \u001b[38;5;124mf\u001b[39m\u001b[38;5;124m\"\u001b[39m\u001b[38;5;130;01m\\n\u001b[39;00m\u001b[38;5;124mAre you sure that \u001b[39m\u001b[38;5;124m'\u001b[39m\u001b[38;5;132;01m{\u001b[39;00mpart\u001b[38;5;132;01m}\u001b[39;00m\u001b[38;5;124m'\u001b[39m\u001b[38;5;124m is importable from module \u001b[39m\u001b[38;5;124m'\u001b[39m\u001b[38;5;132;01m{\u001b[39;00mparent_dotpath\u001b[38;5;132;01m}\u001b[39;00m\u001b[38;5;124m'\u001b[39m\u001b[38;5;124m?\u001b[39m\u001b[38;5;124m\"\u001b[39m\n\u001b[1;32m    656\u001b[0m     ) \u001b[38;5;28;01mfrom\u001b[39;00m \u001b[38;5;21;01mexc_import\u001b[39;00m\n\u001b[1;32m    657\u001b[0m \u001b[38;5;28;01mexcept\u001b[39;00m \u001b[38;5;167;01mException\u001b[39;00m \u001b[38;5;28;01mas\u001b[39;00m exc_import:\n",
      "\u001b[0;31mImportError\u001b[0m: Error loading 'bliss.cached_dataset.FluxFilterTransform':\nModuleNotFoundError(\"No module named 'bliss.cached_dataset.FluxFilterTransform'; 'bliss.cached_dataset' is not a package\")\nAre you sure that 'FluxFilterTransform' is importable from module 'bliss.cached_dataset'?",
      "\nThe above exception was the direct cause of the following exception:\n",
      "\u001b[0;31mInstantiationException\u001b[0m                    Traceback (most recent call last)",
      "Cell \u001b[0;32mIn[22], line 11\u001b[0m\n\u001b[1;32m      9\u001b[0m \u001b[38;5;28mprint\u001b[39m(\u001b[38;5;124m\"\u001b[39m\u001b[38;5;124m+\u001b[39m\u001b[38;5;124m\"\u001b[39m \u001b[38;5;241m*\u001b[39m \u001b[38;5;241m100\u001b[39m, flush\u001b[38;5;241m=\u001b[39m\u001b[38;5;28;01mTrue\u001b[39;00m)\n\u001b[1;32m     10\u001b[0m \u001b[38;5;28mprint\u001b[39m(\u001b[38;5;124m\"\u001b[39m\u001b[38;5;124mload dc2\u001b[39m\u001b[38;5;124m\"\u001b[39m, flush\u001b[38;5;241m=\u001b[39m\u001b[38;5;28;01mTrue\u001b[39;00m)\n\u001b[0;32m---> 11\u001b[0m dc2: DC2DataModule \u001b[38;5;241m=\u001b[39m \u001b[43minstantiate\u001b[49m\u001b[43m(\u001b[49m\u001b[43mnotebook_cfg\u001b[49m\u001b[38;5;241;43m.\u001b[39;49m\u001b[43msurveys\u001b[49m\u001b[38;5;241;43m.\u001b[39;49m\u001b[43mdc2\u001b[49m\u001b[43m)\u001b[49m\n\u001b[1;32m     12\u001b[0m dc2\u001b[38;5;241m.\u001b[39mprepare_data()\n\u001b[1;32m     13\u001b[0m \u001b[38;5;28mprint\u001b[39m(\u001b[38;5;124m\"\u001b[39m\u001b[38;5;124m+\u001b[39m\u001b[38;5;124m\"\u001b[39m \u001b[38;5;241m*\u001b[39m \u001b[38;5;241m100\u001b[39m, flush\u001b[38;5;241m=\u001b[39m\u001b[38;5;28;01mTrue\u001b[39;00m)\n",
      "File \u001b[0;32m~/bliss/.venv/lib/python3.10/site-packages/hydra/_internal/instantiate/_instantiate2.py:226\u001b[0m, in \u001b[0;36minstantiate\u001b[0;34m(config, *args, **kwargs)\u001b[0m\n\u001b[1;32m    223\u001b[0m     _convert_ \u001b[38;5;241m=\u001b[39m config\u001b[38;5;241m.\u001b[39mpop(_Keys\u001b[38;5;241m.\u001b[39mCONVERT, ConvertMode\u001b[38;5;241m.\u001b[39mNONE)\n\u001b[1;32m    224\u001b[0m     _partial_ \u001b[38;5;241m=\u001b[39m config\u001b[38;5;241m.\u001b[39mpop(_Keys\u001b[38;5;241m.\u001b[39mPARTIAL, \u001b[38;5;28;01mFalse\u001b[39;00m)\n\u001b[0;32m--> 226\u001b[0m     \u001b[38;5;28;01mreturn\u001b[39;00m \u001b[43minstantiate_node\u001b[49m\u001b[43m(\u001b[49m\n\u001b[1;32m    227\u001b[0m \u001b[43m        \u001b[49m\u001b[43mconfig\u001b[49m\u001b[43m,\u001b[49m\u001b[43m \u001b[49m\u001b[38;5;241;43m*\u001b[39;49m\u001b[43margs\u001b[49m\u001b[43m,\u001b[49m\u001b[43m \u001b[49m\u001b[43mrecursive\u001b[49m\u001b[38;5;241;43m=\u001b[39;49m\u001b[43m_recursive_\u001b[49m\u001b[43m,\u001b[49m\u001b[43m \u001b[49m\u001b[43mconvert\u001b[49m\u001b[38;5;241;43m=\u001b[39;49m\u001b[43m_convert_\u001b[49m\u001b[43m,\u001b[49m\u001b[43m \u001b[49m\u001b[43mpartial\u001b[49m\u001b[38;5;241;43m=\u001b[39;49m\u001b[43m_partial_\u001b[49m\n\u001b[1;32m    228\u001b[0m \u001b[43m    \u001b[49m\u001b[43m)\u001b[49m\n\u001b[1;32m    229\u001b[0m \u001b[38;5;28;01melif\u001b[39;00m OmegaConf\u001b[38;5;241m.\u001b[39mis_list(config):\n\u001b[1;32m    230\u001b[0m     \u001b[38;5;66;03m# Finalize config (convert targets to strings, merge with kwargs)\u001b[39;00m\n\u001b[1;32m    231\u001b[0m     config_copy \u001b[38;5;241m=\u001b[39m copy\u001b[38;5;241m.\u001b[39mdeepcopy(config)\n",
      "File \u001b[0;32m~/bliss/.venv/lib/python3.10/site-packages/hydra/_internal/instantiate/_instantiate2.py:342\u001b[0m, in \u001b[0;36minstantiate_node\u001b[0;34m(node, convert, recursive, partial, *args)\u001b[0m\n\u001b[1;32m    340\u001b[0m         value \u001b[38;5;241m=\u001b[39m node[key]\n\u001b[1;32m    341\u001b[0m         \u001b[38;5;28;01mif\u001b[39;00m recursive:\n\u001b[0;32m--> 342\u001b[0m             value \u001b[38;5;241m=\u001b[39m \u001b[43minstantiate_node\u001b[49m\u001b[43m(\u001b[49m\n\u001b[1;32m    343\u001b[0m \u001b[43m                \u001b[49m\u001b[43mvalue\u001b[49m\u001b[43m,\u001b[49m\u001b[43m \u001b[49m\u001b[43mconvert\u001b[49m\u001b[38;5;241;43m=\u001b[39;49m\u001b[43mconvert\u001b[49m\u001b[43m,\u001b[49m\u001b[43m \u001b[49m\u001b[43mrecursive\u001b[49m\u001b[38;5;241;43m=\u001b[39;49m\u001b[43mrecursive\u001b[49m\n\u001b[1;32m    344\u001b[0m \u001b[43m            \u001b[49m\u001b[43m)\u001b[49m\n\u001b[1;32m    345\u001b[0m         kwargs[key] \u001b[38;5;241m=\u001b[39m _convert_node(value, convert)\n\u001b[1;32m    347\u001b[0m \u001b[38;5;28;01mreturn\u001b[39;00m _call_target(_target_, partial, args, kwargs, full_key)\n",
      "File \u001b[0;32m~/bliss/.venv/lib/python3.10/site-packages/hydra/_internal/instantiate/_instantiate2.py:316\u001b[0m, in \u001b[0;36minstantiate_node\u001b[0;34m(node, convert, recursive, partial, *args)\u001b[0m\n\u001b[1;32m    314\u001b[0m \u001b[38;5;66;03m# If OmegaConf list, create new list of instances if recursive\u001b[39;00m\n\u001b[1;32m    315\u001b[0m \u001b[38;5;28;01mif\u001b[39;00m OmegaConf\u001b[38;5;241m.\u001b[39mis_list(node):\n\u001b[0;32m--> 316\u001b[0m     items \u001b[38;5;241m=\u001b[39m [\n\u001b[1;32m    317\u001b[0m         instantiate_node(item, convert\u001b[38;5;241m=\u001b[39mconvert, recursive\u001b[38;5;241m=\u001b[39mrecursive)\n\u001b[1;32m    318\u001b[0m         \u001b[38;5;28;01mfor\u001b[39;00m item \u001b[38;5;129;01min\u001b[39;00m node\u001b[38;5;241m.\u001b[39m_iter_ex(resolve\u001b[38;5;241m=\u001b[39m\u001b[38;5;28;01mTrue\u001b[39;00m)\n\u001b[1;32m    319\u001b[0m     ]\n\u001b[1;32m    321\u001b[0m     \u001b[38;5;28;01mif\u001b[39;00m convert \u001b[38;5;129;01min\u001b[39;00m (ConvertMode\u001b[38;5;241m.\u001b[39mALL, ConvertMode\u001b[38;5;241m.\u001b[39mPARTIAL, ConvertMode\u001b[38;5;241m.\u001b[39mOBJECT):\n\u001b[1;32m    322\u001b[0m         \u001b[38;5;66;03m# If ALL or PARTIAL or OBJECT, use plain list as container\u001b[39;00m\n\u001b[1;32m    323\u001b[0m         \u001b[38;5;28;01mreturn\u001b[39;00m items\n",
      "File \u001b[0;32m~/bliss/.venv/lib/python3.10/site-packages/hydra/_internal/instantiate/_instantiate2.py:317\u001b[0m, in \u001b[0;36m<listcomp>\u001b[0;34m(.0)\u001b[0m\n\u001b[1;32m    314\u001b[0m \u001b[38;5;66;03m# If OmegaConf list, create new list of instances if recursive\u001b[39;00m\n\u001b[1;32m    315\u001b[0m \u001b[38;5;28;01mif\u001b[39;00m OmegaConf\u001b[38;5;241m.\u001b[39mis_list(node):\n\u001b[1;32m    316\u001b[0m     items \u001b[38;5;241m=\u001b[39m [\n\u001b[0;32m--> 317\u001b[0m         \u001b[43minstantiate_node\u001b[49m\u001b[43m(\u001b[49m\u001b[43mitem\u001b[49m\u001b[43m,\u001b[49m\u001b[43m \u001b[49m\u001b[43mconvert\u001b[49m\u001b[38;5;241;43m=\u001b[39;49m\u001b[43mconvert\u001b[49m\u001b[43m,\u001b[49m\u001b[43m \u001b[49m\u001b[43mrecursive\u001b[49m\u001b[38;5;241;43m=\u001b[39;49m\u001b[43mrecursive\u001b[49m\u001b[43m)\u001b[49m\n\u001b[1;32m    318\u001b[0m         \u001b[38;5;28;01mfor\u001b[39;00m item \u001b[38;5;129;01min\u001b[39;00m node\u001b[38;5;241m.\u001b[39m_iter_ex(resolve\u001b[38;5;241m=\u001b[39m\u001b[38;5;28;01mTrue\u001b[39;00m)\n\u001b[1;32m    319\u001b[0m     ]\n\u001b[1;32m    321\u001b[0m     \u001b[38;5;28;01mif\u001b[39;00m convert \u001b[38;5;129;01min\u001b[39;00m (ConvertMode\u001b[38;5;241m.\u001b[39mALL, ConvertMode\u001b[38;5;241m.\u001b[39mPARTIAL, ConvertMode\u001b[38;5;241m.\u001b[39mOBJECT):\n\u001b[1;32m    322\u001b[0m         \u001b[38;5;66;03m# If ALL or PARTIAL or OBJECT, use plain list as container\u001b[39;00m\n\u001b[1;32m    323\u001b[0m         \u001b[38;5;28;01mreturn\u001b[39;00m items\n",
      "File \u001b[0;32m~/bliss/.venv/lib/python3.10/site-packages/hydra/_internal/instantiate/_instantiate2.py:333\u001b[0m, in \u001b[0;36minstantiate_node\u001b[0;34m(node, convert, recursive, partial, *args)\u001b[0m\n\u001b[1;32m    331\u001b[0m exclude_keys \u001b[38;5;241m=\u001b[39m \u001b[38;5;28mset\u001b[39m({\u001b[38;5;124m\"\u001b[39m\u001b[38;5;124m_target_\u001b[39m\u001b[38;5;124m\"\u001b[39m, \u001b[38;5;124m\"\u001b[39m\u001b[38;5;124m_convert_\u001b[39m\u001b[38;5;124m\"\u001b[39m, \u001b[38;5;124m\"\u001b[39m\u001b[38;5;124m_recursive_\u001b[39m\u001b[38;5;124m\"\u001b[39m, \u001b[38;5;124m\"\u001b[39m\u001b[38;5;124m_partial_\u001b[39m\u001b[38;5;124m\"\u001b[39m})\n\u001b[1;32m    332\u001b[0m \u001b[38;5;28;01mif\u001b[39;00m _is_target(node):\n\u001b[0;32m--> 333\u001b[0m     _target_ \u001b[38;5;241m=\u001b[39m \u001b[43m_resolve_target\u001b[49m\u001b[43m(\u001b[49m\u001b[43mnode\u001b[49m\u001b[38;5;241;43m.\u001b[39;49m\u001b[43mget\u001b[49m\u001b[43m(\u001b[49m\u001b[43m_Keys\u001b[49m\u001b[38;5;241;43m.\u001b[39;49m\u001b[43mTARGET\u001b[49m\u001b[43m)\u001b[49m\u001b[43m,\u001b[49m\u001b[43m \u001b[49m\u001b[43mfull_key\u001b[49m\u001b[43m)\u001b[49m\n\u001b[1;32m    334\u001b[0m     kwargs \u001b[38;5;241m=\u001b[39m {}\n\u001b[1;32m    335\u001b[0m     is_partial \u001b[38;5;241m=\u001b[39m node\u001b[38;5;241m.\u001b[39mget(\u001b[38;5;124m\"\u001b[39m\u001b[38;5;124m_partial_\u001b[39m\u001b[38;5;124m\"\u001b[39m, \u001b[38;5;28;01mFalse\u001b[39;00m) \u001b[38;5;129;01mor\u001b[39;00m partial\n",
      "File \u001b[0;32m~/bliss/.venv/lib/python3.10/site-packages/hydra/_internal/instantiate/_instantiate2.py:139\u001b[0m, in \u001b[0;36m_resolve_target\u001b[0;34m(target, full_key)\u001b[0m\n\u001b[1;32m    137\u001b[0m         \u001b[38;5;28;01mif\u001b[39;00m full_key:\n\u001b[1;32m    138\u001b[0m             msg \u001b[38;5;241m+\u001b[39m\u001b[38;5;241m=\u001b[39m \u001b[38;5;124mf\u001b[39m\u001b[38;5;124m\"\u001b[39m\u001b[38;5;130;01m\\n\u001b[39;00m\u001b[38;5;124mfull_key: \u001b[39m\u001b[38;5;132;01m{\u001b[39;00mfull_key\u001b[38;5;132;01m}\u001b[39;00m\u001b[38;5;124m\"\u001b[39m\n\u001b[0;32m--> 139\u001b[0m         \u001b[38;5;28;01mraise\u001b[39;00m InstantiationException(msg) \u001b[38;5;28;01mfrom\u001b[39;00m \u001b[38;5;21;01me\u001b[39;00m\n\u001b[1;32m    140\u001b[0m \u001b[38;5;28;01mif\u001b[39;00m \u001b[38;5;129;01mnot\u001b[39;00m callable(target):\n\u001b[1;32m    141\u001b[0m     msg \u001b[38;5;241m=\u001b[39m \u001b[38;5;124mf\u001b[39m\u001b[38;5;124m\"\u001b[39m\u001b[38;5;124mExpected a callable target, got \u001b[39m\u001b[38;5;124m'\u001b[39m\u001b[38;5;132;01m{\u001b[39;00mtarget\u001b[38;5;132;01m}\u001b[39;00m\u001b[38;5;124m'\u001b[39m\u001b[38;5;124m of type \u001b[39m\u001b[38;5;124m'\u001b[39m\u001b[38;5;132;01m{\u001b[39;00m\u001b[38;5;28mtype\u001b[39m(target)\u001b[38;5;241m.\u001b[39m\u001b[38;5;18m__name__\u001b[39m\u001b[38;5;132;01m}\u001b[39;00m\u001b[38;5;124m'\u001b[39m\u001b[38;5;124m\"\u001b[39m\n",
      "\u001b[0;31mInstantiationException\u001b[0m: Error locating target 'bliss.cached_dataset.FluxFilterTransform', set env var HYDRA_FULL_ERROR=1 to see chained exception.\nfull_key: surveys.dc2.train_transforms2"
     ]
    }
   ],
   "source": [
    "print(\"+\" * 100, flush=True)\n",
    "print(\"initialization begins\", flush=True)\n",
    "\n",
    "with initialize(config_path=\".\", version_base=None):\n",
    "    notebook_cfg = compose(\"notebook_config\")\n",
    "print(\"initialization ends\", flush=True)\n",
    "print(\"+\" * 100, flush=True)\n",
    "\n",
    "print(\"+\" * 100, flush=True)\n",
    "print(\"load dc2\", flush=True)\n",
    "dc2: DC2DataModule = instantiate(notebook_cfg.surveys.dc2)\n",
    "dc2.prepare_data()\n",
    "print(\"+\" * 100, flush=True)"
   ]
  },
  {
   "cell_type": "code",
   "execution_count": null,
   "metadata": {},
   "outputs": [],
   "source": []
  }
 ],
 "metadata": {
  "kernelspec": {
   "display_name": ".venv",
   "language": "python",
   "name": "python3"
  },
  "language_info": {
   "codemirror_mode": {
    "name": "ipython",
    "version": 3
   },
   "file_extension": ".py",
   "mimetype": "text/x-python",
   "name": "python",
   "nbconvert_exporter": "python",
   "pygments_lexer": "ipython3",
   "version": "3.10.12"
  }
 },
 "nbformat": 4,
 "nbformat_minor": 2
}

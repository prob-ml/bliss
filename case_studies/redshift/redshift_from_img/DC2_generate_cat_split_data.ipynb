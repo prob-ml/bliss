{
 "cells": [
  {
   "cell_type": "markdown",
   "metadata": {},
   "source": [
    "## DC2 Generate Cat and Split Data "
   ]
  },
  {
   "cell_type": "code",
   "execution_count": 14,
   "metadata": {},
   "outputs": [
    {
     "name": "stdout",
     "output_type": "stream",
     "text": [
      "The autoreload extension is already loaded. To reload it, use:\n",
      "  %reload_ext autoreload\n"
     ]
    }
   ],
   "source": [
    "%load_ext autoreload\n",
    "%autoreload 2"
   ]
  },
  {
   "cell_type": "code",
   "execution_count": 8,
   "metadata": {},
   "outputs": [],
   "source": [
    "from os import environ\n",
    "from pathlib import Path\n",
    "\n",
    "import GCRCatalogs\n",
    "import pandas as pd\n",
    "import torch\n",
    "from hydra import compose, initialize\n",
    "from hydra.utils import instantiate\n",
    "import pickle\n",
    "\n",
    "from bliss.catalog import SourceType\n",
    "from bliss.surveys.dc2 import DC2, from_wcs_header_str_to_wcs"
   ]
  },
  {
   "cell_type": "markdown",
   "metadata": {},
   "source": [
    "# Generate Cat data"
   ]
  },
  {
   "cell_type": "code",
   "execution_count": 2,
   "metadata": {},
   "outputs": [],
   "source": [
    "output_dir = Path(\"./DC2_generate_catalog_output/\")\n",
    "output_dir.mkdir(parents=True, exist_ok=True)"
   ]
  },
  {
   "cell_type": "code",
   "execution_count": 10,
   "metadata": {},
   "outputs": [],
   "source": [
    "truth_catalog_pickle_file = output_dir / \"truth_catalog.pkl\"\n",
    "GCRCatalogs.set_root_dir(\"/nfs/turbo/lsa-regier/lsstdesc-public/dc2\")\n",
    "if truth_catalog_pickle_file.exists():\n",
    "    with open(truth_catalog_pickle_file, \"rb\") as inputp: \n",
    "        truth_cat_data = pickle.load(inputp)\n",
    "else:   \n",
    "    truth_cat = GCRCatalogs.load_catalog(\"desc_dc2_run2.2i_dr6_truth\") \n",
    "    truth_cat_data = truth_cat.get_quantities([\n",
    "        \"id\", \"match_objectId\", \"cosmodc2_id\", \"ra\", \"dec\", \"truth_type\", \n",
    "        \"flux_g\", \"flux_i\", \"flux_r\", \"flux_u\", \"flux_y\", \"flux_z\", \"redshift\"\n",
    "    ])\n",
    "    truth_cat_data[\"redshifts\"] = truth_cat_data.pop(\"redshift\")\n",
    "    with open(truth_catalog_pickle_file, \"wb\") as outp:\n",
    "        pickle.dump(truth_cat_data, outp, pickle.HIGHEST_PROTOCOL)\n",
    "    "
   ]
  },
  {
   "cell_type": "code",
   "execution_count": 11,
   "metadata": {},
   "outputs": [],
   "source": [
    "galaxy_params_pickle_file = output_dir / \"galaxy_params.pkl\"\n",
    "if galaxy_params_pickle_file.exists():\n",
    "    with open(galaxy_params_pickle_file, \"rb\") as inputp: \n",
    "        galaxy_params_data = pickle.load(inputp)\n",
    "else:\n",
    "    galaxy_params = GCRCatalogs.load_catalog(\"desc_cosmodc2\", {\n",
    "        \"catalog_root_dir\": \"/nfs/turbo/lsa-regier/lsstdesc-public/dc2/cosmoDC2\",\n",
    "    })\n",
    "    galaxy_params_data = galaxy_params.get_quantities([\n",
    "        \"galaxy_id\", \"position_angle_true\", \"size_minor_disk_true\", \n",
    "        \"size_disk_true\", \"size_minor_bulge_true\", \n",
    "        \"size_bulge_true\", \"bulge_to_total_ratio_i\"\n",
    "    ])\n",
    "    with open(galaxy_params_pickle_file, \"wb\") as outp:\n",
    "        pickle.dump(galaxy_params_data, outp, pickle.HIGHEST_PROTOCOL)"
   ]
  },
  {
   "cell_type": "code",
   "execution_count": 12,
   "metadata": {},
   "outputs": [],
   "source": [
    "psf_params_pickle_file = output_dir / \"psf_params.pkl\"\n",
    "if psf_params_pickle_file.exists():\n",
    "    with open(psf_params_pickle_file, \"rb\") as inputp: \n",
    "        psf_params_data = pickle.load(inputp)\n",
    "else:\n",
    "    psf_params = GCRCatalogs.load_catalog(\"desc_dc2_run2.2i_dr6_object_with_truth_match\")\n",
    "    psf_params_data = psf_params.get_quantities([\n",
    "        \"objectId\", \"IxxPSF_pixel_g\", \"IxxPSF_pixel_z\", \n",
    "        \"IxxPSF_pixel_r\", \"IxxPSF_pixel_i\", \"IxxPSF_pixel_u\", \n",
    "        \"IxxPSF_pixel_y\", \"IyyPSF_pixel_g\", \"IyyPSF_pixel_z\", \n",
    "        \"IyyPSF_pixel_r\", \"IyyPSF_pixel_i\", \"IyyPSF_pixel_u\", \n",
    "        \"IyyPSF_pixel_y\", \"IxyPSF_pixel_g\", \"IxyPSF_pixel_z\", \n",
    "        \"IxyPSF_pixel_r\", \"IxyPSF_pixel_i\", \"IxyPSF_pixel_u\", \n",
    "        \"IxyPSF_pixel_y\", \"psf_fwhm_g\", \"psf_fwhm_z\", \"psf_fwhm_r\",\n",
    "        \"psf_fwhm_i\", \"psf_fwhm_u\", \"psf_fwhm_y\"\n",
    "    ])\n",
    "    with open(psf_params_pickle_file, \"wb\") as outp:\n",
    "        pickle.dump(psf_params_data, outp, pickle.HIGHEST_PROTOCOL)"
   ]
  },
  {
   "cell_type": "markdown",
   "metadata": {},
   "source": [
    "### Merge Catalog"
   ]
  },
  {
   "cell_type": "code",
   "execution_count": 13,
   "metadata": {},
   "outputs": [],
   "source": [
    "merged_catalog_pikle_file = output_dir / \"merged_catalog.pkl\"\n",
    "if merged_catalog_pikle_file.exists():\n",
    "    with open(merged_catalog_pikle_file, \"rb\") as inputp: \n",
    "        truth_galaxy_psf_df = pickle.load(inputp)\n",
    "else:\n",
    "    truth_cat_df = pd.DataFrame(truth_cat_data)\n",
    "    galaxy_params_df = pd.DataFrame(galaxy_params_data)\n",
    "    psf_params_df = pd.DataFrame(psf_params_data)\n",
    "    truth_galaxy_df = truth_cat_df.merge(\n",
    "        galaxy_params_df, \n",
    "        left_on=\"cosmodc2_id\", \n",
    "        right_on=\"galaxy_id\", \n",
    "        how=\"left\" \n",
    "    )\n",
    "    truth_galaxy_psf_df = truth_galaxy_df.fillna(-1).merge(\n",
    "        psf_params_df, \n",
    "        left_on=\"match_objectId\", \n",
    "        right_on=\"objectId\", \n",
    "        how=\"left\" \n",
    "    )\n",
    "    with open(merged_catalog_pikle_file, \"wb\") as outp:\n",
    "        pickle.dump(truth_galaxy_psf_df, outp, pickle.HIGHEST_PROTOCOL)"
   ]
  },
  {
   "cell_type": "code",
   "execution_count": 14,
   "metadata": {},
   "outputs": [],
   "source": [
    "# filter the object by flux\n",
    "flux_min = 50\n",
    "truth_galaxy_psf_df = truth_galaxy_psf_df.loc[truth_galaxy_psf_df[\"flux_r\"] > flux_min]"
   ]
  },
  {
   "cell_type": "code",
   "execution_count": 15,
   "metadata": {},
   "outputs": [],
   "source": [
    "# # create a pickle file \n",
    "truth_galaxy_psf_df.to_pickle(output_dir / f\"merged_catalog_with_flux_over_{flux_min}.pkl\")"
   ]
  },
  {
   "cell_type": "markdown",
   "metadata": {},
   "source": [
    "# generate split file"
   ]
  },
  {
   "cell_type": "code",
   "execution_count": 16,
   "metadata": {},
   "outputs": [
    {
     "name": "stdout",
     "output_type": "stream",
     "text": [
      "++++++++++++++++++++++++++++++++++++++++++++++++++++++++++++++++++++++++++++++++++++++++++++++++++++\n",
      "initialization begins\n"
     ]
    },
    {
     "name": "stdout",
     "output_type": "stream",
     "text": [
      "initialization ends\n",
      "++++++++++++++++++++++++++++++++++++++++++++++++++++++++++++++++++++++++++++++++++++++++++++++++++++\n",
      "++++++++++++++++++++++++++++++++++++++++++++++++++++++++++++++++++++++++++++++++++++++++++++++++++++\n",
      "load dc2\n",
      "++++++++++++++++++++++++++++++++++++++++++++++++++++++++++++++++++++++++++++++++++++++++++++++++++++\n"
     ]
    }
   ],
   "source": [
    "print(\"+\" * 100, flush=True)\n",
    "print(\"initialization begins\", flush=True)\n",
    "\n",
    "with initialize(config_path=\".\", version_base=None):\n",
    "    notebook_cfg = compose(\"notebook_config\")\n",
    "print(\"initialization ends\", flush=True)\n",
    "print(\"+\" * 100, flush=True)\n",
    "\n",
    "print(\"+\" * 100, flush=True)\n",
    "print(\"load dc2\", flush=True)\n",
    "dc2: DC2 = instantiate(notebook_cfg.surveys.dc2)\n",
    "dc2.prepare_data()\n",
    "dc2.setup()\n",
    "dc2_test_dataset = dc2.test_dataset\n",
    "print(\"+\" * 100, flush=True)"
   ]
  }
 ],
 "metadata": {
  "kernelspec": {
   "display_name": ".venv",
   "language": "python",
   "name": "python3"
  },
  "language_info": {
   "codemirror_mode": {
    "name": "ipython",
    "version": 3
   },
   "file_extension": ".py",
   "mimetype": "text/x-python",
   "name": "python",
   "nbconvert_exporter": "python",
   "pygments_lexer": "ipython3",
   "version": "3.10.12"
  }
 },
 "nbformat": 4,
 "nbformat_minor": 2
}

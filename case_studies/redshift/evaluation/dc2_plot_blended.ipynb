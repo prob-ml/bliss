{
 "cells": [
  {
   "cell_type": "code",
   "execution_count": 1,
   "metadata": {},
   "outputs": [],
   "source": [
    "%load_ext autoreload\n",
    "\n",
    "%autoreload 2"
   ]
  },
  {
   "cell_type": "code",
   "execution_count": 2,
   "metadata": {},
   "outputs": [],
   "source": [
    "import torch\n",
    "from os import environ\n",
    "from pathlib import Path\n",
    "from einops import rearrange\n",
    "import pickle\n",
    "from tqdm import tqdm\n",
    "\n",
    "import matplotlib.pyplot as plt\n",
    "import seaborn as sns\n",
    "\n",
    "from hydra import initialize, compose\n",
    "from hydra.utils import instantiate\n",
    "\n",
    "from pytorch_lightning.utilities import move_data_to_device\n",
    "\n",
    "from bliss.catalog import FullCatalog, BaseTileCatalog, TileCatalog\n",
    "from bliss.surveys.dc2 import DC2DataModule\n",
    "from case_studies.redshift.evaluation.utils.load_lsst import get_lsst_full_cat\n",
    "from case_studies.redshift.evaluation.utils.safe_metric_collection import SafeMetricCollection as MetricCollection\n",
    "from case_studies.redshift.redshift_from_img.encoder.metrics import RedshiftMeanSquaredErrorBin\n",
    "\n",
    "environ[\"BLISS_HOME\"] = str(Path().resolve().parents[2])\n",
    "\n",
    "output_dir = Path(\"./DC2output/\")\n",
    "output_dir.mkdir(parents=True, exist_ok=True)\n",
    "\n",
    "# change this model path according to your training setting\n",
    "model_path = \"/home/qiaozhih/bliss/case_studies/redshift/redshift_from_img/DC2_redshift_training/DC2_redshift_only_bin_allmetrics/checkpoints/encoder_0.162013.ckpt\"\n",
    "lsst_root_dir = \"/data/scratch/dc2_nfs/\"\n",
    "\n",
    "device = torch.device(\"cuda:0\" if torch.cuda.is_available() else \"cpu\")\n",
    "# device = torch.device(\"cpu\")"
   ]
  },
  {
   "cell_type": "code",
   "execution_count": 3,
   "metadata": {},
   "outputs": [],
   "source": [
    "with initialize(config_path=\".\", version_base=None):\n",
    "    notebook_cfg = compose(\"notebook_plot\")"
   ]
  },
  {
   "cell_type": "code",
   "execution_count": 4,
   "metadata": {},
   "outputs": [],
   "source": [
    "# set up testing dataset\n",
    "dataset = instantiate(notebook_cfg.train.data_source)\n",
    "dataset.setup(\"test\")\n"
   ]
  },
  {
   "cell_type": "code",
   "execution_count": 5,
   "metadata": {},
   "outputs": [
    {
     "data": {
      "text/plain": [
       "<bliss.cached_dataset.ChunkingDataset at 0x7f43540e64a0>"
      ]
     },
     "execution_count": 5,
     "metadata": {},
     "output_type": "execute_result"
    }
   ],
   "source": [
    "dataset.test_dataset"
   ]
  },
  {
   "cell_type": "code",
   "execution_count": 6,
   "metadata": {},
   "outputs": [],
   "source": [
    "import os\n",
    "os.environ['OMP_NUM_THREADS'] = '16'\n",
    "os.environ['MKL_NUM_THREADS'] = '16'\n",
    "os.environ['NUMEXPR_NUM_THREADS'] = '16'"
   ]
  },
  {
   "cell_type": "code",
   "execution_count": 7,
   "metadata": {},
   "outputs": [
    {
     "data": {
      "text/plain": [
       "25000"
      ]
     },
     "execution_count": 7,
     "metadata": {},
     "output_type": "execute_result"
    }
   ],
   "source": [
    "len(dataset.test_dataset)"
   ]
  },
  {
   "cell_type": "code",
   "execution_count": 8,
   "metadata": {},
   "outputs": [
    {
     "data": {
      "text/plain": [
       "[{'_target_': 'bliss.encoder.variational_dist.NormalFactor', 'name': 'redshifts', 'sample_rearrange': 'b ht wt -> b ht wt 1 1', 'nll_rearrange': 'b ht wt 1 1 -> b ht wt', 'nll_gating': 'is_galaxy'}]"
      ]
     },
     "execution_count": 8,
     "metadata": {},
     "output_type": "execute_result"
    }
   ],
   "source": [
    "notebook_cfg.encoder.var_dist.factors"
   ]
  },
  {
   "cell_type": "markdown",
   "metadata": {},
   "source": [
    "# blendedness for bliss"
   ]
  },
  {
   "cell_type": "code",
   "execution_count": 71,
   "metadata": {},
   "outputs": [
    {
     "name": "stderr",
     "output_type": "stream",
     "text": [
      "WARNING: please don't use str as nll_gating; it will be deprecated\n"
     ]
    }
   ],
   "source": [
    "# Loop through the test set and update the metric\n",
    "# load bliss trained model\n",
    "bliss_encoder = instantiate(notebook_cfg.encoder).to(device=device)\n",
    "pretrained_weights = torch.load(model_path, device)[\"state_dict\"]\n",
    "bliss_encoder.load_state_dict(pretrained_weights)\n",
    "bliss_encoder.eval();"
   ]
  },
  {
   "cell_type": "code",
   "execution_count": 13,
   "metadata": {},
   "outputs": [],
   "source": [
    "bliss_output_path = output_dir / \"bliss_output_large_split_blend.pkl\"\n",
    "\n",
    "if not bliss_output_path.exists():\n",
    "    for batch_idx, batch in tqdm(enumerate(dataset.test_dataloader()), total=len(dataset.test_dataloader())):\n",
    "        batch[\"images\"] = batch[\"images\"].to(device)\n",
    "        bliss_encoder.update_metrics(batch, batch_idx)\n",
    "    bliss_out_dict = bliss_encoder.mode_metrics.compute()\n",
    "\n",
    "    with open(bliss_output_path, \"wb\") as outp:  # Overwrites any existing file.\n",
    "        pickle.dump(bliss_out_dict, outp, pickle.HIGHEST_PROTOCOL)\n",
    "else:\n",
    "    with open(bliss_output_path, \"rb\") as inputp:\n",
    "        bliss_out_dict = pickle.load(inputp)"
   ]
  },
  {
   "cell_type": "code",
   "execution_count": 83,
   "metadata": {},
   "outputs": [
    {
     "data": {
      "text/plain": [
       "{'redshifts/mse': 0.1655571311712265,\n",
       " 'redshifts/mse_blend_0': 0.14102621376514435,\n",
       " 'redshifts/mse_blend_1': 0.11978103965520859,\n",
       " 'redshifts/mse_blend_2': 0.18335068225860596,\n",
       " 'redshifts/mse_blend_3': 0.1890207827091217,\n",
       " 'redshifts/mse_blend_4': 0.17960305511951447,\n",
       " 'redshifts/mse_blend_5': 0.35343727469444275,\n",
       " 'redshifts/mse_bin_0': 0.03979261964559555,\n",
       " 'redshifts/mse_bin_1': 0.05944311246275902,\n",
       " 'redshifts/mse_bin_2': 0.06494078040122986,\n",
       " 'redshifts/mse_bin_3': 0.08477448672056198,\n",
       " 'redshifts/mse_bin_4': 0.128226175904274,\n",
       " 'redshifts/mse_bin_5': 0.2462797313928604}"
      ]
     },
     "execution_count": 83,
     "metadata": {},
     "output_type": "execute_result"
    }
   ],
   "source": [
    "bliss_out_dict"
   ]
  },
  {
   "cell_type": "markdown",
   "metadata": {},
   "source": [
    "# blendedness for lsst"
   ]
  },
  {
   "cell_type": "code",
   "execution_count": 9,
   "metadata": {},
   "outputs": [],
   "source": [
    "import GCRCatalogs\n",
    "import pandas as pd\n",
    "import torch\n",
    "from case_studies.redshift.network_rs import PhotoZFromMag\n",
    "import os\n",
    "import pandas as pd\n",
    "import numpy as np\n",
    "import torch\n",
    "from torch.utils.data import TensorDataset, DataLoader\n",
    "from tqdm import tqdm\n",
    "import re\n",
    "import matplotlib.pyplot as plt\n",
    "from sklearn.metrics import mean_squared_error\n",
    "import torch.nn as nn\n",
    "from bliss.catalog import FullCatalog, SourceType\n",
    "\n",
    "num_bins = 1\n",
    "group_size = 128\n",
    "batch_size = 1\n",
    "in_dim = 6\n",
    "device = \"cuda\"\n",
    "path = \"/data/scratch/qiaozhih/training_runs/00120-run/tensorboard_logs/version_0/checkpoints/reg_val_loss=0.000367_epoch=29.ckpt\"\n",
    "network_options = {\n",
    "    \"hidden_dim\": 256,\n",
    "    \"out_dim\": num_bins,\n",
    "    \"n_epochs\": 50001,\n",
    "    \"outdir\": \"/home/qiaozhih/bliss/case_studies/redshift/training_runs/\",\n",
    "    \"snap\": 1,  # how many epoches to save one model once\n",
    "    \"loss_fcn\": torch.nn.MSELoss(),  # loss func\n",
    "    # 'loss_fcn': torch.nn.CrossEntropyLoss(),                     # loss func\n",
    "    \"dropout_rate\": 0.5,\n",
    "    \"learning_rate\": 1e-3,\n",
    "    \"group_size\": group_size,\n",
    "    \"num_gpu\": 1,\n",
    "    \"gpu_device\": [0],\n",
    "}\n",
    "\n",
    "reg = PhotoZFromMag.load_from_checkpoint(\n",
    "    path,\n",
    "    in_dim=in_dim,\n",
    "    hidden_dim=network_options[\"hidden_dim\"],\n",
    "    out_dim=network_options[\"out_dim\"],\n",
    "    dropout_rate=network_options[\"dropout_rate\"],\n",
    "    learning_rate=network_options[\"learning_rate\"],\n",
    "    loss_fcn=network_options[\"loss_fcn\"],\n",
    ")\n",
    "reg.to(device)\n",
    "reg.eval()\n",
    "\n",
    "def est_redshifts_with_reg_change_to_cat(cat: TileCatalog, reg: PhotoZFromMag, tile_slen: int, min_flux_for_loss: int=50, reference_band: int=2) -> BaseTileCatalog | FullCatalog:\n",
    "    \"\"\"estimate redshift by inputting true mag using regressor, then convert them to Basetilecatalog\n",
    "\n",
    "    Args:\n",
    "        cat: catalog\n",
    "        reg: regressor that accept ugrizy mag\n",
    "\n",
    "    Returns:\n",
    "        Catalog that containing pred redshifts\n",
    "    \"\"\"\n",
    "    cat = cat.filter_by_flux(\n",
    "        min_flux=min_flux_for_loss,\n",
    "        band=reference_band,\n",
    "    )\n",
    "    mag = cat.on_njymag\n",
    "\n",
    "    new_order = [3, 0, 2, 1, 5, 4] # change giruyz to ugrizy\n",
    "    mag = mag[..., new_order]\n",
    "    is_galaxy = cat.galaxy_bools.to(device)\n",
    "    N, H, W, M, _ = mag.shape\n",
    "    mag = mag.reshape(-1, 6)\n",
    "    is_galaxy = is_galaxy.reshape(-1, 1)\n",
    "    pred_rs = torch.zeros_like(mag[..., 0])\n",
    "    for i in range(len(mag)):\n",
    "        if is_galaxy[i][0]: \n",
    "            x = mag[i].unsqueeze(0).to(device) # 1, 6\n",
    "            pred_rs[i] = reg.net(x).squeeze(0)\n",
    "    pred_rs = pred_rs.to('cpu')\n",
    "    pred_rs = {\"redshifts\": pred_rs.reshape((N, H, W, M, 1))}\n",
    "\n",
    "    cat[\"redshifts\"] = pred_rs[\"redshifts\"]\n",
    "    return cat\n",
    "\n",
    "# load lsst data\n",
    "def get_lsst_catalog_tensors_dict(lsst_root_dir: str):\n",
    "    GCRCatalogs.set_root_dir(lsst_root_dir)\n",
    "    lsst_catalog_gcr = GCRCatalogs.load_catalog(\"desc_dc2_run2.2i_dr6_object_with_truth_match\")\n",
    "    lsst_catalog_sub = lsst_catalog_gcr.get_quantities(\n",
    "        [\n",
    "            \"id_truth\",\n",
    "            \"objectId\",\n",
    "            \"ra\",\n",
    "            \"dec\",\n",
    "            \"truth_type\",\n",
    "            \"cModelFlux_u\",\n",
    "            \"cModelFluxErr_u\",\n",
    "            \"cModelFlux_g\",\n",
    "            \"cModelFluxErr_g\",\n",
    "            \"cModelFlux_r\",\n",
    "            \"cModelFluxErr_r\",\n",
    "            \"cModelFlux_i\",\n",
    "            \"cModelFluxErr_i\",\n",
    "            \"cModelFlux_z\",\n",
    "            \"cModelFluxErr_z\",\n",
    "            \"cModelFlux_y\",\n",
    "            \"cModelFluxErr_y\",\n",
    "        ]\n",
    "    )\n",
    "    lsst_catalog_df = pd.DataFrame(lsst_catalog_sub)\n",
    "    lsst_flux_lst = [\n",
    "        lsst_catalog_df[\"cModelFlux_g\"],\n",
    "        lsst_catalog_df[\"cModelFlux_i\"],\n",
    "        lsst_catalog_df[\"cModelFlux_r\"],\n",
    "        lsst_catalog_df[\"cModelFlux_u\"],\n",
    "        lsst_catalog_df[\"cModelFlux_y\"],\n",
    "        lsst_catalog_df[\"cModelFlux_z\"],\n",
    "    ]\n",
    "    lsst_flux_tensors_lst = [torch.tensor(flux.values).view(-1, 1) for flux in lsst_flux_lst]\n",
    "    return {\n",
    "        \"truth_type\": torch.tensor(lsst_catalog_df[\"truth_type\"].values).view(-1, 1),\n",
    "        \"flux\": torch.cat(lsst_flux_tensors_lst, dim=1),\n",
    "        \"ra\": torch.tensor(lsst_catalog_df[\"ra\"].values),\n",
    "        \"dec\": torch.tensor(lsst_catalog_df[\"dec\"].values),\n",
    "    }\n",
    "    \n",
    "def get_lsst_catalog_tensors_dict(lsst_root_dir: str):\n",
    "    GCRCatalogs.set_root_dir(lsst_root_dir)\n",
    "    lsst_catalog_gcr = GCRCatalogs.load_catalog(\"desc_dc2_run2.2i_dr6_object_with_truth_match\")\n",
    "    lsst_catalog_sub = lsst_catalog_gcr.get_quantities(\n",
    "        [\n",
    "            \"id_truth\",\n",
    "            \"objectId\",\n",
    "            \"ra\",\n",
    "            \"dec\",\n",
    "            \"truth_type\",\n",
    "            \"cModelFlux_u\",\n",
    "            \"cModelFluxErr_u\",\n",
    "            \"cModelFlux_g\",\n",
    "            \"cModelFluxErr_g\",\n",
    "            \"cModelFlux_r\",\n",
    "            \"cModelFluxErr_r\",\n",
    "            \"cModelFlux_i\",\n",
    "            \"cModelFluxErr_i\",\n",
    "            \"cModelFlux_z\",\n",
    "            \"cModelFluxErr_z\",\n",
    "            \"cModelFlux_y\",\n",
    "            \"cModelFluxErr_y\",\n",
    "        ]\n",
    "    )\n",
    "    lsst_catalog_df = pd.DataFrame(lsst_catalog_sub)\n",
    "    lsst_flux_lst = [\n",
    "        lsst_catalog_df[\"cModelFlux_g\"],\n",
    "        lsst_catalog_df[\"cModelFlux_i\"],\n",
    "        lsst_catalog_df[\"cModelFlux_r\"],\n",
    "        lsst_catalog_df[\"cModelFlux_u\"],\n",
    "        lsst_catalog_df[\"cModelFlux_y\"],\n",
    "        lsst_catalog_df[\"cModelFlux_z\"],\n",
    "    ]\n",
    "    lsst_flux_tensors_lst = [torch.tensor(flux.values).view(-1, 1) for flux in lsst_flux_lst]\n",
    "    return {\n",
    "        \"truth_type\": torch.tensor(lsst_catalog_df[\"truth_type\"].values).view(-1, 1),\n",
    "        \"flux\": torch.cat(lsst_flux_tensors_lst, dim=1),\n",
    "        \"ra\": torch.tensor(lsst_catalog_df[\"ra\"].values),\n",
    "        \"dec\": torch.tensor(lsst_catalog_df[\"dec\"].values),\n",
    "    }\n",
    "\n",
    "import torch\n",
    "\n",
    "from bliss.catalog import FullCatalog, SourceType, TileCatalog\n",
    "from bliss.surveys.dc2 import wcs_from_wcs_header_str\n",
    "\n",
    "def concatenate_tile_dicts(tile_dict_list):\n",
    "    output_tile_cat_dict = {}\n",
    "    for k in tile_dict_list[0].keys():\n",
    "        if k not in output_tile_cat_dict:\n",
    "            output_tile_cat_dict[k] = []\n",
    "        for tile_dict in tile_dict_list:\n",
    "            output_tile_cat_dict[k].append(tile_dict[k])\n",
    "\n",
    "    for k, v in output_tile_cat_dict.items():\n",
    "        output_tile_cat_dict[k] = torch.cat(v, dim=0)\n",
    "\n",
    "    return output_tile_cat_dict\n",
    "\n",
    "\n",
    "class LSSTPredictor:\n",
    "    def __init__(\n",
    "        self, lsst_root_dir, r_band_min_flux, tile_slen, max_sources_per_tile,\n",
    "    ) -> None:\n",
    "        self.lsst_data = get_lsst_catalog_tensors_dict(lsst_root_dir)\n",
    "        self.r_band_min_flux = r_band_min_flux\n",
    "        self.tile_slen = tile_slen\n",
    "        self.max_sources_per_tile = max_sources_per_tile\n",
    "\n",
    "        self.buffered_wcs_header_str = None\n",
    "        self.buffered_lsst_plocs = None\n",
    "\n",
    "    def _predict_one_image(self, wcs_header_str, image_lim, height_index, width_index):\n",
    "        if wcs_header_str != self.buffered_wcs_header_str:\n",
    "            lsst_ra = self.lsst_data[\"ra\"]\n",
    "            lsst_dec = self.lsst_data[\"dec\"]\n",
    "            cur_image_wcs = wcs_from_wcs_header_str(wcs_header_str)\n",
    "            lsst_plocs = FullCatalog.plocs_from_ra_dec(lsst_ra, lsst_dec, cur_image_wcs)\n",
    "            self.buffered_wcs_header_str = wcs_header_str\n",
    "            self.buffered_lsst_plocs = lsst_plocs\n",
    "        else:\n",
    "            lsst_plocs = self.buffered_lsst_plocs\n",
    "    \n",
    "        lsst_source_type = self.lsst_data[\"truth_type\"]\n",
    "        lsst_flux = self.lsst_data[\"flux\"]\n",
    "\n",
    "        x0_mask = (lsst_plocs[:, 0] > height_index * image_lim) & (\n",
    "            lsst_plocs[:, 0] < (height_index + 1) * image_lim\n",
    "        )\n",
    "        x1_mask = (lsst_plocs[:, 1] > width_index * image_lim) & (\n",
    "            lsst_plocs[:, 1] < (width_index + 1) * image_lim\n",
    "        )\n",
    "        lsst_x_mask = x0_mask * x1_mask\n",
    "        # filter r band\n",
    "        filter_band = [\"g\", \"i\", \"r\", \"u\", \"y\", \"z\"]\n",
    "        for i in range(len(filter_band)):\n",
    "            lsst_flux_mask = (lsst_flux[:, i] > self.r_band_min_flux) & (lsst_flux[:, i] < torch.inf)\n",
    "            lsst_x_mask = lsst_x_mask * lsst_flux_mask\n",
    "\n",
    "        lsst_mask = lsst_x_mask\n",
    "        lsst_plocs = lsst_plocs[lsst_mask, :] % image_lim\n",
    "        lsst_source_type = torch.where(\n",
    "            lsst_source_type[lsst_mask] == SourceType.STAR, SourceType.STAR, SourceType.GALAXY\n",
    "        )\n",
    "        lsst_flux = lsst_flux[lsst_mask, :]\n",
    "        lsst_n_sources = torch.tensor([lsst_plocs.shape[0]])\n",
    "\n",
    "        return FullCatalog(\n",
    "            height=image_lim,\n",
    "            width=image_lim,\n",
    "            d={\n",
    "                \"plocs\": lsst_plocs.unsqueeze(0),\n",
    "                \"n_sources\": lsst_n_sources,\n",
    "                \"source_type\": lsst_source_type.unsqueeze(0),\n",
    "                \"galaxy_fluxes\": lsst_flux.unsqueeze(0),\n",
    "                \"star_fluxes\": lsst_flux.unsqueeze(0).clone(),\n",
    "            },\n",
    "        ).to_tile_catalog(self.tile_slen, self.max_sources_per_tile, ignore_extra_sources=True)\n",
    "\n",
    "    def predict(self, wcs_header_str_list, image_lim, height_index_list, width_index_list):\n",
    "        assert len(wcs_header_str_list) == len(height_index_list), \"unequal input list size\"\n",
    "        assert len(wcs_header_str_list) == len(width_index_list), \"unequal input list size\"\n",
    "        tile_dict_list = []\n",
    "        predict_input_data = zip(wcs_header_str_list, height_index_list, width_index_list)\n",
    "        for wcs_header_str, height_index, width_index in predict_input_data:\n",
    "            tile_dict_list.append(\n",
    "                self._predict_one_image(wcs_header_str, image_lim, height_index, width_index).data\n",
    "            )\n",
    "\n",
    "        merged_tile_dict = concatenate_tile_dicts(tile_dict_list)\n",
    "        return TileCatalog(merged_tile_dict)\n"
   ]
  },
  {
   "cell_type": "code",
   "execution_count": 10,
   "metadata": {},
   "outputs": [
    {
     "name": "stderr",
     "output_type": "stream",
     "text": [
      "  5%|▍         | 300/6250 [03:23<1:07:13,  1.47it/s]"
     ]
    },
    {
     "name": "stdout",
     "output_type": "stream",
     "text": [
      "total num of pts: tensor([4692.])\n",
      "total num of pts: tensor([1692., 1897.,  662.,  229.,  169.,   43.])\n",
      "total num of pts: tensor([1026.,  137.,  359.,  490., 1210., 1470.])\n"
     ]
    },
    {
     "name": "stderr",
     "output_type": "stream",
     "text": [
      "\n"
     ]
    }
   ],
   "source": [
    "lsst_output_path = output_dir / \"lsst_output_large_split_blend.pkl\"\n",
    "if not lsst_output_path.exists():\n",
    "    metrics = instantiate(notebook_cfg.encoder.mode_metrics)\n",
    "    matcher = instantiate(notebook_cfg.encoder.matcher)\n",
    "    metrics.reset()\n",
    "    # args\n",
    "    lsst_root_dir = \"/data/scratch/dc2_nfs/\"\n",
    "    image_lim = 80\n",
    "    r_band_min_flux = 50\n",
    "    tile_slen = 4\n",
    "    max_sources_per_tile = 1\n",
    "    max_batch = 300\n",
    "\n",
    "    lsst_predictor = LSSTPredictor(lsst_root_dir, r_band_min_flux, tile_slen, max_sources_per_tile)\n",
    "    for batch_idx, batch in tqdm(enumerate(dataset.test_dataloader()), total=len(dataset.test_dataloader())):\n",
    "        true_cat = TileCatalog(d=batch[\"tile_catalog\"]).get_brightest_sources_per_tile()\n",
    "        lsst_cat = lsst_predictor.predict(batch[\"wcs_header_str\"], image_lim, batch[\"image_height_index\"], batch[\"image_width_index\"])\n",
    "        est_cat = est_redshifts_with_reg_change_to_cat(lsst_cat, reg, tile_slen=4)\n",
    "        est_cat = est_cat.to_full_catalog(tile_slen=4)\n",
    "        true_cat = true_cat.to_full_catalog(tile_slen=4)\n",
    "        matching = matcher.match_catalogs(true_cat, est_cat)\n",
    "        metrics.update(true_cat, est_cat, matching)\n",
    "        if not (batch_idx < max_batch or max_batch < 0):\n",
    "            break\n",
    "\n",
    "    lsst_out_dict = metrics.compute()\n",
    "\n",
    "    with open(lsst_output_path, \"wb\") as outp:  # Overwrites any existing file.\n",
    "        pickle.dump(lsst_out_dict, outp, pickle.HIGHEST_PROTOCOL)\n",
    "else:\n",
    "    with open(lsst_output_path, \"rb\") as inputp:\n",
    "        lsst_out_dict = pickle.load(inputp)"
   ]
  },
  {
   "cell_type": "markdown",
   "metadata": {},
   "source": [
    "# plot"
   ]
  },
  {
   "cell_type": "code",
   "execution_count": 33,
   "metadata": {},
   "outputs": [
    {
     "data": {
      "image/png": "[encoded data removed]",
      "text/plain": [
       "<Figure size 1000x600 with 1 Axes>"
      ]
     },
     "metadata": {},
     "output_type": "display_data"
    }
   ],
   "source": [
    "metrics = ['mse_blend_bin']\n",
    "fig, ax = plt.subplots(len(metrics), figsize=(10, 6))\n",
    "for i, metric in enumerate(metrics):\n",
    "    blendedness_ranges = ['[<0.0001]', '[0.0001-0.02]', '[0.02-0.1]', '[0.1-0.2]', '[0.2-0.6]', '[>0.6]']\n",
    "    bliss_values = [bliss_out_dict[f'redshifts/{metric}_{i}'] for i in range(len(blendedness_ranges))]\n",
    "    lsst_values = [lsst_out_dict[f'redshifts/{metric}_{i}'] for i in range(len(blendedness_ranges))]\n",
    "    if len(metrics) == 1:\n",
    "        ax.plot(blendedness_ranges, bliss_values, label=\"bliss\", marker='o')\n",
    "        ax.plot(blendedness_ranges, lsst_values, label=\"lsst\", marker='o')\n",
    "        ax.set_xlabel('blendedness')\n",
    "        ax.set_ylabel(metric)\n",
    "        ax.set_title(f'{metric} per blendedness')\n",
    "        ax.legend(loc='upper left')\n",
    "    else:\n",
    "        ax[i].plot(blendedness_ranges, bliss_values, label=\"bliss\", marker='o')\n",
    "        ax[i].plot(blendedness_ranges, lsst_values, label=\"lsst\", marker='o')\n",
    "        ax[i].set_xlabel('blendedness')\n",
    "        ax[i].set_ylabel(metric)\n",
    "        ax[i].set_title(f'{metric} per blendedness')\n",
    "        ax[i].legend(loc='upper left')\n",
    "plt.show()"
   ]
  },
  {
   "cell_type": "code",
   "execution_count": null,
   "metadata": {},
   "outputs": [],
   "source": []
  }
 ],
 "metadata": {
  "kernelspec": {
   "display_name": ".venv",
   "language": "python",
   "name": "python3"
  },
  "language_info": {
   "codemirror_mode": {
    "name": "ipython",
    "version": 3
   },
   "file_extension": ".py",
   "mimetype": "text/x-python",
   "name": "python",
   "nbconvert_exporter": "python",
   "pygments_lexer": "ipython3",
   "version": "3.10.12"
  }
 },
 "nbformat": 4,
 "nbformat_minor": 2
}

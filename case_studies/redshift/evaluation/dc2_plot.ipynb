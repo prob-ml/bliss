{
 "cells": [
  {
   "cell_type": "markdown",
   "metadata": {},
   "source": [
    "In this notebook, we will do some plots to estimate redshift results for 3 methods below:\n",
    "1. bliss redshift estimate directly from images\n",
    "2. redshift estimate based on GT mag \n",
    "3. redshift estimate based on LSST predicted flux\n",
    "\n",
    "each plot should have metrics vs galaxy fluxes"
   ]
  },
  {
   "cell_type": "code",
   "execution_count": 1,
   "metadata": {},
   "outputs": [],
   "source": [
    "%load_ext autoreload\n",
    "\n",
    "%autoreload 2"
   ]
  },
  {
   "cell_type": "code",
   "execution_count": 2,
   "metadata": {},
   "outputs": [],
   "source": [
    "import torch\n",
    "from os import environ\n",
    "from pathlib import Path\n",
    "from einops import rearrange\n",
    "import pickle\n",
    "from tqdm import tqdm\n",
    "\n",
    "import matplotlib.pyplot as plt\n",
    "import seaborn as sns\n",
    "\n",
    "from hydra import initialize, compose\n",
    "from hydra.utils import instantiate\n",
    "\n",
    "from pytorch_lightning.utilities import move_data_to_device\n",
    "\n",
    "from bliss.catalog import FullCatalog, BaseTileCatalog, TileCatalog\n",
    "from bliss.surveys.dc2 import DC2, unsqueeze_tile_dict\n",
    "from case_studies.redshift.evaluation.utils.load_lsst import get_lsst_full_cat\n",
    "from case_studies.redshift.evaluation.utils.safe_metric_collection import SafeMetricCollection as MetricCollection\n",
    "from case_studies.redshift.redshift_from_img.encoder.metrics import RedshiftMeanSquaredErrorBin\n",
    "\n",
    "environ[\"BLISS_HOME\"] = str(Path().resolve().parents[2])\n",
    "\n",
    "output_dir = Path(\"./DC2output/\")\n",
    "output_dir.mkdir(parents=True, exist_ok=True)\n",
    "\n",
    "# change this model path according to your training setting\n",
    "model_path = \"/home/qiaozhih/bliss/case_studies/redshift/redshift_from_img/DC2_redshift_training/DC2_redshift_only_bin/checkpoints/encoder_0.174964.ckpt\"\n",
    "lsst_root_dir = \"/data/scratch/dc2_nfs/\"\n",
    "\n",
    "device = torch.device(\"cuda:0\" if torch.cuda.is_available() else \"cpu\")\n",
    "# device = torch.device(\"cpu\")"
   ]
  },
  {
   "cell_type": "code",
   "execution_count": 3,
   "metadata": {},
   "outputs": [],
   "source": [
    "with initialize(config_path=\".\", version_base=None):\n",
    "    notebook_cfg = compose(\"notebook_plot\")"
   ]
  },
  {
   "cell_type": "code",
   "execution_count": 4,
   "metadata": {},
   "outputs": [],
   "source": [
    "# set up testing dataset\n",
    "dataset = instantiate(notebook_cfg.train.data_source)\n",
    "dataset.setup()\n"
   ]
  },
  {
   "cell_type": "code",
   "execution_count": 5,
   "metadata": {},
   "outputs": [],
   "source": [
    "import os\n",
    "os.environ['OMP_NUM_THREADS'] = '16'\n",
    "os.environ['MKL_NUM_THREADS'] = '16'\n",
    "os.environ['NUMEXPR_NUM_THREADS'] = '16'"
   ]
  },
  {
   "cell_type": "markdown",
   "metadata": {},
   "source": [
    "# example of test dataset"
   ]
  },
  {
   "cell_type": "code",
   "execution_count": 9,
   "metadata": {},
   "outputs": [
    {
     "data": {
      "text/plain": [
       "245000"
      ]
     },
     "execution_count": 9,
     "metadata": {},
     "output_type": "execute_result"
    }
   ],
   "source": [
    "len(dataset.image_ids())"
   ]
  },
  {
   "cell_type": "code",
   "execution_count": 10,
   "metadata": {},
   "outputs": [
    {
     "data": {
      "text/plain": [
       "24500"
      ]
     },
     "execution_count": 10,
     "metadata": {},
     "output_type": "execute_result"
    }
   ],
   "source": [
    "len(dataset.test_dataset)"
   ]
  },
  {
   "cell_type": "markdown",
   "metadata": {},
   "source": [
    "### 1. bliss redshift estimate directly from images"
   ]
  },
  {
   "cell_type": "code",
   "execution_count": 6,
   "metadata": {},
   "outputs": [],
   "source": [
    "# Loop through the test set and update the metric\n",
    "# load bliss trained model\n",
    "bliss_encoder = instantiate(notebook_cfg.encoder).to(device=device)\n",
    "pretrained_weights = torch.load(model_path, device)[\"state_dict\"]\n",
    "bliss_encoder.load_state_dict(pretrained_weights)\n",
    "bliss_encoder.eval();\n",
    "# for batch_idx, batch in tqdm(enumerate(dataset.test_dataloader()), total=len(dataset.test_dataloader())):\n",
    "#     batch[\"images\"] = batch[\"images\"].to(device)\n",
    "#     bliss_encoder.update_metrics(batch, batch_idx)\n",
    "\n",
    "# bliss_out_dict = bliss_encoder.mode_metrics.compute()"
   ]
  },
  {
   "cell_type": "code",
   "execution_count": 7,
   "metadata": {},
   "outputs": [],
   "source": [
    "bliss_output_path = output_dir / \"bliss_output_all.pkl\"\n",
    "\n",
    "if not bliss_output_path.exists():\n",
    "    for batch_idx, batch in tqdm(enumerate(dataset.test_dataloader()), total=len(dataset.test_dataloader())):\n",
    "        batch[\"images\"] = batch[\"images\"].to(device)\n",
    "        bliss_encoder.update_metrics(batch, batch_idx)\n",
    "    bliss_out_dict = bliss_encoder.mode_metrics.compute()\n",
    "\n",
    "    with open(bliss_output_path, \"wb\") as outp:  # Overwrites any existing file.\n",
    "        pickle.dump(bliss_out_dict, outp, pickle.HIGHEST_PROTOCOL)\n",
    "else:\n",
    "    with open(bliss_output_path, \"rb\") as inputp:\n",
    "        bliss_out_dict = pickle.load(inputp)"
   ]
  },
  {
   "cell_type": "code",
   "execution_count": null,
   "metadata": {},
   "outputs": [],
   "source": [
    "bliss_out_dict"
   ]
  },
  {
   "cell_type": "code",
   "execution_count": null,
   "metadata": {},
   "outputs": [],
   "source": [
    "flux_ranges = ['[100-200]', '[200-400]', '[400-600]', '[600-1000]', '[>1000]']\n",
    "mse_values = [bliss_out_dict[f'redshifts/mse_bin_{i}'] for i in range(5)]\n",
    "\n",
    "plt.figure(figsize=(10, 6))\n",
    "plt.plot(flux_ranges, mse_values)\n",
    "plt.xlabel('Flux Range')\n",
    "plt.ylabel('Mean Squared Error')\n",
    "plt.title('Mean Squared Error per Flux Range')\n",
    "plt.show()\n"
   ]
  },
  {
   "cell_type": "code",
   "execution_count": null,
   "metadata": {},
   "outputs": [],
   "source": [
    "flux_ranges = ['[100-200]', '[200-400]', '[400-600]', '[600-1000]', '[>1000]']\n",
    "bias_values = [bliss_out_dict[f'redshifts/bias_bin_{i}'] for i in range(5)]\n",
    "\n",
    "plt.figure(figsize=(10, 6))\n",
    "plt.plot(flux_ranges, bias_values)\n",
    "plt.xlabel('Flux Range')\n",
    "plt.ylabel('Bias')\n",
    "plt.title('Bias per Flux Range')\n",
    "plt.show()"
   ]
  },
  {
   "cell_type": "code",
   "execution_count": null,
   "metadata": {},
   "outputs": [],
   "source": [
    "flux_ranges = ['[100-200]', '[200-400]', '[400-600]', '[600-1000]', '[>1000]']\n",
    "nmad_values = [bliss_out_dict[f'redshifts/nmad_bin_{i}'] for i in range(5)]\n",
    "\n",
    "plt.figure(figsize=(10, 6))\n",
    "plt.plot(flux_ranges, nmad_values)\n",
    "plt.xlabel('Flux Range')\n",
    "plt.ylabel('NMAD')\n",
    "plt.title('NMAD per Flux Range')\n",
    "plt.show()"
   ]
  },
  {
   "cell_type": "code",
   "execution_count": null,
   "metadata": {},
   "outputs": [],
   "source": [
    "flux_ranges = ['[100-200]', '[200-400]', '[400-600]', '[600-1000]', '[>1000]']\n",
    "outlier_fraction_values = [bliss_out_dict[f'redshifts/outlier_fraction_bin_{i}'] for i in range(5)]\n",
    "\n",
    "plt.figure(figsize=(10, 6))\n",
    "plt.plot(flux_ranges, outlier_fraction_values)\n",
    "plt.xlabel('Flux Range')\n",
    "plt.ylabel('Outlier Fraction')\n",
    "plt.title('Outlier Fraction per Flux Range')\n",
    "plt.show()\n"
   ]
  },
  {
   "cell_type": "code",
   "execution_count": null,
   "metadata": {},
   "outputs": [],
   "source": [
    "flux_ranges = ['[100-200]', '[200-400]', '[400-600]', '[600-1000]', '[>1000]']\n",
    "outlier_fraction_cata_values = [bliss_out_dict[f'redshifts/outlier_fraction_cata_bin_{i}'] for i in range(5)]\n",
    "\n",
    "plt.figure(figsize=(10, 6))\n",
    "plt.plot(flux_ranges, outlier_fraction_cata_values)\n",
    "plt.xlabel('Flux Range')\n",
    "plt.ylabel('Outlier Fraction Catastrophic')\n",
    "plt.title('Outlier Fraction Catastrophic per Flux Range')\n",
    "plt.show()"
   ]
  },
  {
   "cell_type": "markdown",
   "metadata": {},
   "source": [
    "### 2. redshift estimate based on GT mag"
   ]
  },
  {
   "cell_type": "code",
   "execution_count": 7,
   "metadata": {},
   "outputs": [],
   "source": [
    "from case_studies.redshift.network_rs import PhotoZFromMag\n",
    "import os\n",
    "import pandas as pd\n",
    "import numpy as np\n",
    "import torch\n",
    "from torch.utils.data import TensorDataset, DataLoader\n",
    "from tqdm import tqdm\n",
    "import re\n",
    "import matplotlib.pyplot as plt\n",
    "from sklearn.metrics import mean_squared_error\n",
    "import torch.nn as nn"
   ]
  },
  {
   "cell_type": "code",
   "execution_count": 8,
   "metadata": {},
   "outputs": [],
   "source": [
    "num_bins = 1\n",
    "group_size = 128\n",
    "batch_size = 1\n",
    "in_dim = 6\n",
    "device = \"cuda\"\n",
    "path = \"/data/scratch/qiaozhih/training_runs/00120-run/tensorboard_logs/version_0/checkpoints/reg_val_loss=0.000367_epoch=29.ckpt\"\n",
    "network_options = {\n",
    "    \"hidden_dim\": 256,\n",
    "    \"out_dim\": num_bins,\n",
    "    \"n_epochs\": 50001,\n",
    "    \"outdir\": \"/home/qiaozhih/bliss/case_studies/redshift/training_runs/\",\n",
    "    \"snap\": 1,  # how many epoches to save one model once\n",
    "    \"loss_fcn\": torch.nn.MSELoss(),  # loss func\n",
    "    # 'loss_fcn': torch.nn.CrossEntropyLoss(),                     # loss func\n",
    "    \"dropout_rate\": 0.5,\n",
    "    \"learning_rate\": 1e-3,\n",
    "    \"group_size\": group_size,\n",
    "    \"num_gpu\": 1,\n",
    "    \"gpu_device\": [0],\n",
    "}"
   ]
  },
  {
   "cell_type": "code",
   "execution_count": 9,
   "metadata": {},
   "outputs": [
    {
     "data": {
      "text/plain": [
       "PhotoZFromMag(\n",
       "  (loss_fcn): MSELoss()\n",
       "  (net): Sequential(\n",
       "    (0): Linear(in_features=6, out_features=256, bias=True)\n",
       "    (1): BatchNorm1d(256, eps=1e-05, momentum=0.1, affine=True, track_running_stats=True)\n",
       "    (2): ReLU()\n",
       "    (3): Linear(in_features=256, out_features=256, bias=True)\n",
       "    (4): BatchNorm1d(256, eps=1e-05, momentum=0.1, affine=True, track_running_stats=True)\n",
       "    (5): ReLU()\n",
       "    (6): Linear(in_features=256, out_features=256, bias=True)\n",
       "    (7): BatchNorm1d(256, eps=1e-05, momentum=0.1, affine=True, track_running_stats=True)\n",
       "    (8): ReLU()\n",
       "    (9): Linear(in_features=256, out_features=256, bias=True)\n",
       "    (10): BatchNorm1d(256, eps=1e-05, momentum=0.1, affine=True, track_running_stats=True)\n",
       "    (11): ReLU()\n",
       "    (12): Linear(in_features=256, out_features=1, bias=True)\n",
       "  )\n",
       ")"
      ]
     },
     "execution_count": 9,
     "metadata": {},
     "output_type": "execute_result"
    }
   ],
   "source": [
    "reg = PhotoZFromMag(\n",
    "    in_dim,\n",
    "    network_options[\"hidden_dim\"],\n",
    "    network_options[\"out_dim\"],\n",
    "    network_options[\"dropout_rate\"],\n",
    "    network_options[\"learning_rate\"],\n",
    "    network_options[\"loss_fcn\"],\n",
    ")\n",
    "reg = reg.load_from_checkpoint(\n",
    "    path,\n",
    "    in_dim=in_dim,\n",
    "    hidden_dim=network_options[\"hidden_dim\"],\n",
    "    out_dim=network_options[\"out_dim\"],\n",
    "    dropout_rate=network_options[\"dropout_rate\"],\n",
    "    learning_rate=network_options[\"learning_rate\"],\n",
    "    loss_fcn=network_options[\"loss_fcn\"],\n",
    ")\n",
    "reg.to(device)\n",
    "reg.eval()"
   ]
  },
  {
   "cell_type": "code",
   "execution_count": 10,
   "metadata": {},
   "outputs": [],
   "source": [
    "def est_redshifts_with_reg_change_to_cat(cat: TileCatalog, reg: PhotoZFromMag, tile_slen: int, min_flux_for_loss: int=50, reference_band: int=2) -> BaseTileCatalog | FullCatalog:\n",
    "    \"\"\"estimate redshift by inputting true mag using regressor, then convert them to Basetilecatalog\n",
    "\n",
    "    Args:\n",
    "        cat: catalog\n",
    "        reg: regressor that accept ugrizy mag\n",
    "\n",
    "    Returns:\n",
    "        Catalog that containing pred redshifts\n",
    "    \"\"\"\n",
    "    cat = cat.filter_tile_catalog_by_flux(\n",
    "        min_flux=min_flux_for_loss,\n",
    "        band=reference_band,\n",
    "    )\n",
    "    mag = cat.magnitudes_njy.to(device)\n",
    "    new_order = [3, 0, 2, 1, 5, 4] # change giruyz to ugrizy\n",
    "    mag = mag[..., new_order]\n",
    "    is_galaxy = cat.galaxy_bools.to(device)\n",
    "    N, H, W, M, _ = mag.shape\n",
    "    mag = mag.reshape(-1, 6)\n",
    "    is_galaxy = is_galaxy.reshape(-1, 1)\n",
    "    pred_rs = torch.zeros_like(mag[..., 0])\n",
    "    for i in range(len(mag)):\n",
    "        if is_galaxy[i][0]: \n",
    "            x = mag[i].unsqueeze(0) # 1, 6\n",
    "            a = reg.net(x) # 1, 1\n",
    "            pred_rs[i] = reg.net(mag[i].unsqueeze(0)).squeeze(0)\n",
    "    pred_rs = pred_rs.to(cat.device)\n",
    "    pred_rs = {\"redshifts\": pred_rs.reshape((N, H, W, M, 1))}\n",
    "\n",
    "    cat[\"redshifts\"] = pred_rs[\"redshifts\"]\n",
    "    return cat"
   ]
  },
  {
   "cell_type": "markdown",
   "metadata": {},
   "source": [
    "GT data preparation"
   ]
  },
  {
   "cell_type": "code",
   "execution_count": null,
   "metadata": {},
   "outputs": [],
   "source": [
    "gt_output_path = output_dir / \"gt_output_all.pkl\"\n",
    "if not gt_output_path.exists():\n",
    "    metrics = instantiate(notebook_cfg.encoder.metrics)\n",
    "    matcher = instantiate(notebook_cfg.encoder.matcher)\n",
    "    metrics.reset()\n",
    "    for batch_idx, batch in tqdm(enumerate(dataset.test_dataloader()), total=len(dataset.test_dataloader())):\n",
    "        true_cat = TileCatalog(tile_slen=4, d=batch[\"tile_catalog\"]) # TODO tile_slen\n",
    "        est_cat = est_redshifts_with_reg_change_to_cat(true_cat, reg, tile_slen=4)# TODO\n",
    "        matching = matcher.match_catalogs(true_cat, est_cat)\n",
    "        metrics.update(true_cat, est_cat, matching)\n",
    "\n",
    "    gt_out_dict = metrics.compute()\n",
    "\n",
    "    with open(gt_output_path, \"wb\") as outp:  # Overwrites any existing file.\n",
    "        pickle.dump(gt_out_dict, outp, pickle.HIGHEST_PROTOCOL)\n",
    "else:\n",
    "    with open(gt_output_path, \"rb\") as inputp:\n",
    "        gt_out_dict = pickle.load(inputp)"
   ]
  },
  {
   "cell_type": "code",
   "execution_count": null,
   "metadata": {},
   "outputs": [],
   "source": [
    "bliss_out_dict"
   ]
  },
  {
   "cell_type": "code",
   "execution_count": null,
   "metadata": {},
   "outputs": [],
   "source": [
    "metrics = ['mse', 'nmad', 'outlier_fraction_cata', 'outlier_fraction', 'bias']\n",
    "fig, ax = plt.subplots(len(metrics), figsize=(10, 30))\n",
    "for i, metric in enumerate(metrics):\n",
    "    flux_ranges = ['[100-200]', '[200-400]', '[400-600]', '[600-1000]', '[>1000]']\n",
    "    gt_mse_values = [gt_out_dict[f'redshifts/{metric}_bin_{i}'] for i in range(5)]\n",
    "    bliss_mse_values = [bliss_out_dict[f'redshifts/{metric}_bin_{i}'] for i in range(5)]\n",
    "\n",
    "    ax[i].plot(flux_ranges, bliss_mse_values, label=\"bliss\")\n",
    "    ax[i].plot(flux_ranges, gt_mse_values, label=\"gt_reg\")\n",
    "    if metric != 'bias':\n",
    "        ax[i].set_yscale(\"log\")\n",
    "    ax[i].set_xlabel('Flux Range')\n",
    "    ax[i].set_ylabel(metric)\n",
    "    ax[i].set_title(f'{metric} per Flux Range')\n",
    "    ax[i].legend()\n",
    "plt.show()"
   ]
  },
  {
   "cell_type": "code",
   "execution_count": null,
   "metadata": {},
   "outputs": [],
   "source": [
    "gt_out_dict"
   ]
  },
  {
   "cell_type": "markdown",
   "metadata": {},
   "source": [
    "### 3. redshift estimate based on LSST predicted flux"
   ]
  },
  {
   "cell_type": "code",
   "execution_count": 11,
   "metadata": {},
   "outputs": [],
   "source": [
    "import GCRCatalogs\n",
    "import pandas as pd\n",
    "import torch\n",
    "\n",
    "from bliss.catalog import FullCatalog, SourceType\n",
    "\n",
    "# load lsst data\n",
    "def get_lsst_catalog_tensors_dict(lsst_root_dir: str):\n",
    "    GCRCatalogs.set_root_dir(lsst_root_dir)\n",
    "    lsst_catalog_gcr = GCRCatalogs.load_catalog(\"desc_dc2_run2.2i_dr6_object_with_truth_match\")\n",
    "    lsst_catalog_sub = lsst_catalog_gcr.get_quantities(\n",
    "        [\n",
    "            \"id_truth\",\n",
    "            \"objectId\",\n",
    "            \"ra\",\n",
    "            \"dec\",\n",
    "            \"truth_type\",\n",
    "            \"cModelFlux_u\",\n",
    "            \"cModelFluxErr_u\",\n",
    "            \"cModelFlux_g\",\n",
    "            \"cModelFluxErr_g\",\n",
    "            \"cModelFlux_r\",\n",
    "            \"cModelFluxErr_r\",\n",
    "            \"cModelFlux_i\",\n",
    "            \"cModelFluxErr_i\",\n",
    "            \"cModelFlux_z\",\n",
    "            \"cModelFluxErr_z\",\n",
    "            \"cModelFlux_y\",\n",
    "            \"cModelFluxErr_y\",\n",
    "        ]\n",
    "    )\n",
    "    lsst_catalog_df = pd.DataFrame(lsst_catalog_sub)\n",
    "    lsst_flux_lst = [\n",
    "        lsst_catalog_df[\"cModelFlux_g\"],\n",
    "        lsst_catalog_df[\"cModelFlux_i\"],\n",
    "        lsst_catalog_df[\"cModelFlux_r\"],\n",
    "        lsst_catalog_df[\"cModelFlux_u\"],\n",
    "        lsst_catalog_df[\"cModelFlux_y\"],\n",
    "        lsst_catalog_df[\"cModelFlux_z\"],\n",
    "    ]\n",
    "    lsst_flux_tensors_lst = [torch.tensor(flux.values).view(-1, 1) for flux in lsst_flux_lst]\n",
    "    return {\n",
    "        \"truth_type\": torch.tensor(lsst_catalog_df[\"truth_type\"].values).view(-1, 1),\n",
    "        \"flux\": torch.cat(lsst_flux_tensors_lst, dim=1),\n",
    "        \"ra\": torch.tensor(lsst_catalog_df[\"ra\"].values),\n",
    "        \"dec\": torch.tensor(lsst_catalog_df[\"dec\"].values),\n",
    "    }\n",
    "    \n",
    "def get_lsst_catalog_tensors_dict(lsst_root_dir: str):\n",
    "    GCRCatalogs.set_root_dir(lsst_root_dir)\n",
    "    lsst_catalog_gcr = GCRCatalogs.load_catalog(\"desc_dc2_run2.2i_dr6_object_with_truth_match\")\n",
    "    lsst_catalog_sub = lsst_catalog_gcr.get_quantities(\n",
    "        [\n",
    "            \"id_truth\",\n",
    "            \"objectId\",\n",
    "            \"ra\",\n",
    "            \"dec\",\n",
    "            \"truth_type\",\n",
    "            \"cModelFlux_u\",\n",
    "            \"cModelFluxErr_u\",\n",
    "            \"cModelFlux_g\",\n",
    "            \"cModelFluxErr_g\",\n",
    "            \"cModelFlux_r\",\n",
    "            \"cModelFluxErr_r\",\n",
    "            \"cModelFlux_i\",\n",
    "            \"cModelFluxErr_i\",\n",
    "            \"cModelFlux_z\",\n",
    "            \"cModelFluxErr_z\",\n",
    "            \"cModelFlux_y\",\n",
    "            \"cModelFluxErr_y\",\n",
    "        ]\n",
    "    )\n",
    "    lsst_catalog_df = pd.DataFrame(lsst_catalog_sub)\n",
    "    lsst_flux_lst = [\n",
    "        lsst_catalog_df[\"cModelFlux_g\"],\n",
    "        lsst_catalog_df[\"cModelFlux_i\"],\n",
    "        lsst_catalog_df[\"cModelFlux_r\"],\n",
    "        lsst_catalog_df[\"cModelFlux_u\"],\n",
    "        lsst_catalog_df[\"cModelFlux_y\"],\n",
    "        lsst_catalog_df[\"cModelFlux_z\"],\n",
    "    ]\n",
    "    lsst_flux_tensors_lst = [torch.tensor(flux.values).view(-1, 1) for flux in lsst_flux_lst]\n",
    "    return {\n",
    "        \"truth_type\": torch.tensor(lsst_catalog_df[\"truth_type\"].values).view(-1, 1),\n",
    "        \"flux\": torch.cat(lsst_flux_tensors_lst, dim=1),\n",
    "        \"ra\": torch.tensor(lsst_catalog_df[\"ra\"].values),\n",
    "        \"dec\": torch.tensor(lsst_catalog_df[\"dec\"].values),\n",
    "    }\n"
   ]
  },
  {
   "cell_type": "code",
   "execution_count": 18,
   "metadata": {},
   "outputs": [],
   "source": [
    "import torch\n",
    "\n",
    "from bliss.catalog import FullCatalog, SourceType, TileCatalog\n",
    "from bliss.surveys.dc2 import from_wcs_header_str_to_wcs\n",
    "\n",
    "def concatenate_tile_dicts(tile_dict_list):\n",
    "    output_tile_cat_dict = {}\n",
    "    for k in tile_dict_list[0].keys():\n",
    "        if k not in output_tile_cat_dict:\n",
    "            output_tile_cat_dict[k] = []\n",
    "        for tile_dict in tile_dict_list:\n",
    "            output_tile_cat_dict[k].append(tile_dict[k])\n",
    "\n",
    "    for k, v in output_tile_cat_dict.items():\n",
    "        output_tile_cat_dict[k] = torch.cat(v, dim=0)\n",
    "\n",
    "    return output_tile_cat_dict\n",
    "\n",
    "\n",
    "class LSSTPredictor:\n",
    "    def __init__(\n",
    "        self, lsst_root_dir, r_band_min_flux, tile_slen, max_sources_per_tile, tiles_to_crop\n",
    "    ) -> None:\n",
    "        self.lsst_data = get_lsst_catalog_tensors_dict(lsst_root_dir)\n",
    "        self.r_band_min_flux = r_band_min_flux\n",
    "        self.tile_slen = tile_slen\n",
    "        self.max_sources_per_tile = max_sources_per_tile\n",
    "        self.tiles_to_crop = tiles_to_crop\n",
    "\n",
    "        self.buffered_wcs_header_str = None\n",
    "        self.buffered_lsst_plocs = None\n",
    "\n",
    "    def _predict_one_image(self, wcs_header_str, image_lim, height_index, width_index):\n",
    "        if wcs_header_str != self.buffered_wcs_header_str:\n",
    "            lsst_ra = self.lsst_data[\"ra\"]\n",
    "            lsst_dec = self.lsst_data[\"dec\"]\n",
    "            cur_image_wcs = from_wcs_header_str_to_wcs(wcs_header_str)\n",
    "            lsst_plocs = FullCatalog.plocs_from_ra_dec(lsst_ra, lsst_dec, cur_image_wcs)\n",
    "            self.buffered_wcs_header_str = wcs_header_str\n",
    "            self.buffered_lsst_plocs = lsst_plocs\n",
    "        else:\n",
    "            lsst_plocs = self.buffered_lsst_plocs\n",
    "    \n",
    "        lsst_source_type = self.lsst_data[\"truth_type\"]\n",
    "        lsst_flux = self.lsst_data[\"flux\"]\n",
    "\n",
    "        x0_mask = (lsst_plocs[:, 0] > height_index * image_lim) & (\n",
    "            lsst_plocs[:, 0] < (height_index + 1) * image_lim\n",
    "        )\n",
    "        x1_mask = (lsst_plocs[:, 1] > width_index * image_lim) & (\n",
    "            lsst_plocs[:, 1] < (width_index + 1) * image_lim\n",
    "        )\n",
    "        lsst_x_mask = x0_mask * x1_mask\n",
    "        # filter r band\n",
    "        filter_band = [\"g\", \"i\", \"r\", \"u\", \"y\", \"z\"]\n",
    "        for i in range(len(filter_band)):\n",
    "            lsst_flux_mask = (lsst_flux[:, i] > self.r_band_min_flux) & (lsst_flux[:, i] < torch.inf)\n",
    "            lsst_x_mask = lsst_x_mask * lsst_flux_mask\n",
    "\n",
    "        lsst_mask = lsst_x_mask\n",
    "        lsst_plocs = lsst_plocs[lsst_mask, :] % image_lim\n",
    "        lsst_source_type = torch.where(\n",
    "            lsst_source_type[lsst_mask] == SourceType.STAR, SourceType.STAR, SourceType.GALAXY\n",
    "        )\n",
    "        lsst_flux = lsst_flux[lsst_mask, :]\n",
    "        lsst_n_sources = torch.tensor([lsst_plocs.shape[0]])\n",
    "\n",
    "        return FullCatalog(\n",
    "            height=image_lim,\n",
    "            width=image_lim,\n",
    "            d={\n",
    "                \"plocs\": lsst_plocs.unsqueeze(0),\n",
    "                \"n_sources\": lsst_n_sources,\n",
    "                \"source_type\": lsst_source_type.unsqueeze(0),\n",
    "                \"galaxy_fluxes\": lsst_flux.unsqueeze(0),\n",
    "                \"star_fluxes\": lsst_flux.unsqueeze(0).clone(),\n",
    "            },\n",
    "        ).to_tile_catalog(self.tile_slen, self.max_sources_per_tile, ignore_extra_sources=True)\n",
    "\n",
    "    def predict(self, wcs_header_str_list, image_lim, height_index_list, width_index_list):\n",
    "        assert len(wcs_header_str_list) == len(height_index_list), \"unequal input list size\"\n",
    "        assert len(wcs_header_str_list) == len(width_index_list), \"unequal input list size\"\n",
    "        tile_dict_list = []\n",
    "        predict_input_data = zip(wcs_header_str_list, height_index_list, width_index_list)\n",
    "        for wcs_header_str, height_index, width_index in predict_input_data:\n",
    "            tile_dict_list.append(\n",
    "                self._predict_one_image(wcs_header_str, image_lim, height_index, width_index).data\n",
    "            )\n",
    "\n",
    "        merged_tile_dict = concatenate_tile_dicts(tile_dict_list)\n",
    "        return TileCatalog(self.tile_slen, merged_tile_dict)"
   ]
  },
  {
   "cell_type": "code",
   "execution_count": 19,
   "metadata": {},
   "outputs": [],
   "source": [
    "lsst_output_path = output_dir / \"lsst_output_all.pkl\"\n",
    "if not lsst_output_path.exists():\n",
    "    metrics = instantiate(notebook_cfg.encoder.metrics)\n",
    "    matcher = instantiate(notebook_cfg.encoder.matcher)\n",
    "    metrics.reset()\n",
    "    # args\n",
    "    lsst_root_dir = \"/data/scratch/dc2_nfs/\"\n",
    "    image_lim = 80\n",
    "    r_band_min_flux = 50\n",
    "    tile_slen = 4\n",
    "    max_sources_per_tile = 1\n",
    "    tiles_to_crop = 1\n",
    "\n",
    "    lsst_predictor = LSSTPredictor(lsst_root_dir, r_band_min_flux, tile_slen, max_sources_per_tile, tiles_to_crop)\n",
    "    for batch_idx, batch in tqdm(enumerate(dataset.val_dataloader()), total=len(dataset.test_dataloader())):\n",
    "        true_cat = TileCatalog(tile_slen=4, d=batch[\"tile_catalog\"])\n",
    "        lsst_cat = lsst_predictor.predict(batch[\"wcs_header_str\"], image_lim, batch[\"image_height_index\"], batch[\"image_width_index\"])\n",
    "        lsst_cat = lsst_cat.to_full_catalog()\n",
    "        est_cat = est_redshifts_with_reg_change_to_cat(lsst_cat, reg, tile_slen=4)\n",
    "        matching = matcher.match_catalogs(true_cat, est_cat)\n",
    "        metrics.update(true_cat, est_cat, matching)\n",
    "\n",
    "    lsst_out_dict = metrics.compute()\n",
    "\n",
    "    with open(lsst_output_path, \"wb\") as outp:  # Overwrites any existing file.\n",
    "        pickle.dump(lsst_out_dict, outp, pickle.HIGHEST_PROTOCOL)\n",
    "else:\n",
    "    with open(lsst_output_path, \"rb\") as inputp:\n",
    "        lsst_out_dict = pickle.load(inputp)"
   ]
  },
  {
   "cell_type": "code",
   "execution_count": 20,
   "metadata": {},
   "outputs": [
    {
     "name": "stderr",
     "output_type": "stream",
     "text": [
      "  2%|▏         | 6/383 [04:12<6:42:31, 64.06s/it]"
     ]
    },
    {
     "name": "stdout",
     "output_type": "stream",
     "text": [
      "total num of pts: tensor([1220.])\n",
      "{'redshifts/mse': 0.2829994857311249}\n"
     ]
    },
    {
     "name": "stderr",
     "output_type": "stream",
     "text": [
      "  2%|▏         | 7/383 [07:38<10:38:29, 101.89s/it]"
     ]
    },
    {
     "name": "stdout",
     "output_type": "stream",
     "text": [
      "total num of pts: tensor([1405.])\n",
      "{'redshifts/mse': 0.2839999794960022}\n"
     ]
    },
    {
     "name": "stderr",
     "output_type": "stream",
     "text": [
      "  2%|▏         | 8/383 [11:27<14:15:18, 136.85s/it]"
     ]
    },
    {
     "name": "stdout",
     "output_type": "stream",
     "text": [
      "total num of pts: tensor([1613.])\n",
      "{'redshifts/mse': 0.28922975063323975}\n"
     ]
    },
    {
     "name": "stderr",
     "output_type": "stream",
     "text": [
      "  2%|▏         | 9/383 [15:04<16:34:28, 159.54s/it]"
     ]
    },
    {
     "name": "stdout",
     "output_type": "stream",
     "text": [
      "total num of pts: tensor([1817.])\n",
      "{'redshifts/mse': 0.29322031140327454}\n"
     ]
    },
    {
     "name": "stderr",
     "output_type": "stream",
     "text": [
      "  3%|▎         | 10/383 [18:24<17:44:20, 171.21s/it]"
     ]
    },
    {
     "name": "stdout",
     "output_type": "stream",
     "text": [
      "total num of pts: tensor([2017.])\n",
      "{'redshifts/mse': 0.2950949966907501}\n"
     ]
    },
    {
     "name": "stderr",
     "output_type": "stream",
     "text": [
      "  3%|▎         | 11/383 [21:41<18:29:04, 178.88s/it]"
     ]
    },
    {
     "name": "stdout",
     "output_type": "stream",
     "text": [
      "total num of pts: tensor([2203.])\n",
      "{'redshifts/mse': 0.28720027208328247}\n"
     ]
    },
    {
     "name": "stderr",
     "output_type": "stream",
     "text": [
      "  3%|▎         | 12/383 [25:13<19:24:46, 188.37s/it]"
     ]
    },
    {
     "name": "stdout",
     "output_type": "stream",
     "text": [
      "total num of pts: tensor([2401.])\n",
      "{'redshifts/mse': 0.2854820787906647}\n"
     ]
    },
    {
     "name": "stderr",
     "output_type": "stream",
     "text": [
      "  3%|▎         | 13/383 [28:40<19:57:13, 194.14s/it]"
     ]
    },
    {
     "name": "stdout",
     "output_type": "stream",
     "text": [
      "total num of pts: tensor([2604.])\n",
      "{'redshifts/mse': 0.2850421369075775}\n"
     ]
    },
    {
     "name": "stderr",
     "output_type": "stream",
     "text": [
      "  4%|▎         | 14/383 [32:10<20:21:28, 198.61s/it]"
     ]
    },
    {
     "name": "stdout",
     "output_type": "stream",
     "text": [
      "total num of pts: tensor([2804.])\n",
      "{'redshifts/mse': 0.2759419083595276}\n"
     ]
    },
    {
     "name": "stderr",
     "output_type": "stream",
     "text": [
      "  4%|▍         | 15/383 [35:43<20:45:08, 203.01s/it]"
     ]
    },
    {
     "name": "stdout",
     "output_type": "stream",
     "text": [
      "total num of pts: tensor([3004.])\n",
      "{'redshifts/mse': 0.2769933342933655}\n"
     ]
    },
    {
     "name": "stderr",
     "output_type": "stream",
     "text": [
      "  4%|▍         | 16/383 [39:08<20:45:47, 203.67s/it]"
     ]
    },
    {
     "name": "stdout",
     "output_type": "stream",
     "text": [
      "total num of pts: tensor([3182.])\n",
      "{'redshifts/mse': 0.27461814880371094}\n"
     ]
    },
    {
     "name": "stderr",
     "output_type": "stream",
     "text": [
      "  4%|▍         | 17/383 [42:35<20:47:49, 204.56s/it]"
     ]
    },
    {
     "name": "stdout",
     "output_type": "stream",
     "text": [
      "total num of pts: tensor([3370.])\n",
      "{'redshifts/mse': 0.2775980234146118}\n"
     ]
    },
    {
     "name": "stderr",
     "output_type": "stream",
     "text": [
      "  5%|▍         | 18/383 [46:08<21:00:02, 207.13s/it]"
     ]
    },
    {
     "name": "stdout",
     "output_type": "stream",
     "text": [
      "total num of pts: tensor([3579.])\n",
      "{'redshifts/mse': 0.27918562293052673}\n"
     ]
    },
    {
     "name": "stderr",
     "output_type": "stream",
     "text": [
      "  5%|▍         | 19/383 [49:43<21:11:17, 209.55s/it]"
     ]
    },
    {
     "name": "stdout",
     "output_type": "stream",
     "text": [
      "total num of pts: tensor([3751.])\n",
      "{'redshifts/mse': 0.2762680947780609}\n"
     ]
    },
    {
     "name": "stderr",
     "output_type": "stream",
     "text": [
      "  5%|▌         | 20/383 [53:14<21:09:36, 209.85s/it]"
     ]
    },
    {
     "name": "stdout",
     "output_type": "stream",
     "text": [
      "total num of pts: tensor([3960.])\n",
      "{'redshifts/mse': 0.27258771657943726}\n"
     ]
    },
    {
     "name": "stderr",
     "output_type": "stream",
     "text": [
      "  5%|▌         | 21/383 [56:45<21:08:16, 210.21s/it]"
     ]
    },
    {
     "name": "stdout",
     "output_type": "stream",
     "text": [
      "total num of pts: tensor([4167.])\n",
      "{'redshifts/mse': 0.2704818546772003}\n"
     ]
    },
    {
     "name": "stderr",
     "output_type": "stream",
     "text": [
      "  6%|▌         | 22/383 [1:00:18<21:10:45, 211.21s/it]"
     ]
    },
    {
     "name": "stdout",
     "output_type": "stream",
     "text": [
      "total num of pts: tensor([4358.])\n",
      "{'redshifts/mse': 0.271992951631546}\n"
     ]
    },
    {
     "name": "stderr",
     "output_type": "stream",
     "text": [
      "  6%|▌         | 23/383 [1:03:46<21:00:24, 210.07s/it]"
     ]
    },
    {
     "name": "stdout",
     "output_type": "stream",
     "text": [
      "total num of pts: tensor([4548.])\n",
      "{'redshifts/mse': 0.27400505542755127}\n"
     ]
    },
    {
     "name": "stderr",
     "output_type": "stream",
     "text": [
      "  6%|▋         | 24/383 [1:07:15<20:54:30, 209.67s/it]"
     ]
    },
    {
     "name": "stdout",
     "output_type": "stream",
     "text": [
      "total num of pts: tensor([4742.])\n",
      "{'redshifts/mse': 0.2718529999256134}\n"
     ]
    },
    {
     "name": "stderr",
     "output_type": "stream",
     "text": [
      "  7%|▋         | 25/383 [1:10:47<20:56:33, 210.60s/it]"
     ]
    },
    {
     "name": "stdout",
     "output_type": "stream",
     "text": [
      "total num of pts: tensor([4950.])\n",
      "{'redshifts/mse': 0.27389198541641235}\n"
     ]
    },
    {
     "name": "stderr",
     "output_type": "stream",
     "text": [
      "  7%|▋         | 26/383 [1:14:08<20:36:09, 207.76s/it]"
     ]
    },
    {
     "name": "stdout",
     "output_type": "stream",
     "text": [
      "total num of pts: tensor([5141.])\n",
      "{'redshifts/mse': 0.2767364978790283}\n"
     ]
    },
    {
     "name": "stderr",
     "output_type": "stream",
     "text": [
      "  7%|▋         | 27/383 [1:17:34<20:29:38, 207.24s/it]"
     ]
    },
    {
     "name": "stdout",
     "output_type": "stream",
     "text": [
      "total num of pts: tensor([5351.])\n",
      "{'redshifts/mse': 0.27592378854751587}\n"
     ]
    },
    {
     "name": "stderr",
     "output_type": "stream",
     "text": [
      "  7%|▋         | 28/383 [1:20:55<20:14:37, 205.29s/it]"
     ]
    },
    {
     "name": "stdout",
     "output_type": "stream",
     "text": [
      "total num of pts: tensor([5535.])\n",
      "{'redshifts/mse': 0.2757168412208557}\n"
     ]
    },
    {
     "name": "stderr",
     "output_type": "stream",
     "text": [
      "  8%|▊         | 29/383 [1:24:24<20:17:42, 206.39s/it]"
     ]
    },
    {
     "name": "stdout",
     "output_type": "stream",
     "text": [
      "total num of pts: tensor([5714.])\n",
      "{'redshifts/mse': 0.2731398940086365}\n"
     ]
    },
    {
     "name": "stderr",
     "output_type": "stream",
     "text": [
      "  8%|▊         | 30/383 [1:28:00<20:31:27, 209.31s/it]"
     ]
    },
    {
     "name": "stdout",
     "output_type": "stream",
     "text": [
      "total num of pts: tensor([5922.])\n",
      "{'redshifts/mse': 0.2731919586658478}\n"
     ]
    },
    {
     "name": "stderr",
     "output_type": "stream",
     "text": [
      "  8%|▊         | 31/383 [1:31:34<20:35:53, 210.66s/it]"
     ]
    },
    {
     "name": "stdout",
     "output_type": "stream",
     "text": [
      "total num of pts: tensor([6117.])\n",
      "{'redshifts/mse': 0.27404195070266724}\n"
     ]
    },
    {
     "name": "stderr",
     "output_type": "stream",
     "text": [
      "  8%|▊         | 32/383 [1:35:02<20:26:52, 209.72s/it]"
     ]
    },
    {
     "name": "stdout",
     "output_type": "stream",
     "text": [
      "total num of pts: tensor([6303.])\n",
      "{'redshifts/mse': 0.27350279688835144}\n"
     ]
    },
    {
     "name": "stderr",
     "output_type": "stream",
     "text": [
      "  9%|▊         | 33/383 [1:38:29<20:19:49, 209.11s/it]"
     ]
    },
    {
     "name": "stdout",
     "output_type": "stream",
     "text": [
      "total num of pts: tensor([6484.])\n",
      "{'redshifts/mse': 0.2762101888656616}\n"
     ]
    },
    {
     "name": "stderr",
     "output_type": "stream",
     "text": [
      "  9%|▉         | 34/383 [1:41:16<19:02:41, 196.45s/it]"
     ]
    },
    {
     "name": "stdout",
     "output_type": "stream",
     "text": [
      "total num of pts: tensor([6689.])\n",
      "{'redshifts/mse': 0.2766212522983551}\n"
     ]
    },
    {
     "name": "stderr",
     "output_type": "stream",
     "text": [
      "  9%|▉         | 35/383 [1:43:52<17:48:43, 184.26s/it]"
     ]
    },
    {
     "name": "stdout",
     "output_type": "stream",
     "text": [
      "total num of pts: tensor([6885.])\n",
      "{'redshifts/mse': 0.27558615803718567}\n"
     ]
    },
    {
     "name": "stderr",
     "output_type": "stream",
     "text": [
      "  9%|▉         | 36/383 [1:46:29<16:59:00, 176.20s/it]"
     ]
    },
    {
     "name": "stdout",
     "output_type": "stream",
     "text": [
      "total num of pts: tensor([7107.])\n",
      "{'redshifts/mse': 0.2749757468700409}\n"
     ]
    },
    {
     "name": "stderr",
     "output_type": "stream",
     "text": [
      " 10%|▉         | 37/383 [1:49:10<16:28:33, 171.43s/it]"
     ]
    },
    {
     "name": "stdout",
     "output_type": "stream",
     "text": [
      "total num of pts: tensor([7307.])\n",
      "{'redshifts/mse': 0.2736644148826599}\n"
     ]
    },
    {
     "name": "stderr",
     "output_type": "stream",
     "text": [
      " 10%|▉         | 38/383 [1:51:42<15:52:08, 165.59s/it]"
     ]
    },
    {
     "name": "stdout",
     "output_type": "stream",
     "text": [
      "total num of pts: tensor([7466.])\n",
      "{'redshifts/mse': 0.273353636264801}\n"
     ]
    },
    {
     "name": "stderr",
     "output_type": "stream",
     "text": [
      " 10%|█         | 39/383 [1:54:19<15:35:38, 163.19s/it]"
     ]
    },
    {
     "name": "stdout",
     "output_type": "stream",
     "text": [
      "total num of pts: tensor([7672.])\n",
      "{'redshifts/mse': 0.27207791805267334}\n"
     ]
    },
    {
     "name": "stderr",
     "output_type": "stream",
     "text": [
      " 10%|█         | 40/383 [1:56:58<15:26:01, 161.99s/it]"
     ]
    },
    {
     "name": "stdout",
     "output_type": "stream",
     "text": [
      "total num of pts: tensor([7871.])\n",
      "{'redshifts/mse': 0.2715124487876892}\n"
     ]
    },
    {
     "name": "stderr",
     "output_type": "stream",
     "text": [
      " 11%|█         | 41/383 [1:59:35<15:13:33, 160.27s/it]"
     ]
    },
    {
     "name": "stdout",
     "output_type": "stream",
     "text": [
      "total num of pts: tensor([8080.])\n",
      "{'redshifts/mse': 0.2706906795501709}\n"
     ]
    },
    {
     "name": "stderr",
     "output_type": "stream",
     "text": [
      " 11%|█         | 42/383 [2:02:08<14:58:21, 158.07s/it]"
     ]
    },
    {
     "name": "stdout",
     "output_type": "stream",
     "text": [
      "total num of pts: tensor([8260.])\n",
      "{'redshifts/mse': 0.2720809578895569}\n"
     ]
    },
    {
     "name": "stderr",
     "output_type": "stream",
     "text": [
      " 11%|█         | 43/383 [2:04:41<14:48:31, 156.80s/it]"
     ]
    },
    {
     "name": "stdout",
     "output_type": "stream",
     "text": [
      "total num of pts: tensor([8450.])\n",
      "{'redshifts/mse': 0.2741279602050781}\n"
     ]
    },
    {
     "name": "stderr",
     "output_type": "stream",
     "text": [
      " 11%|█▏        | 44/383 [2:07:22<14:51:54, 157.86s/it]"
     ]
    },
    {
     "name": "stdout",
     "output_type": "stream",
     "text": [
      "total num of pts: tensor([8674.])\n",
      "{'redshifts/mse': 0.2760537564754486}\n"
     ]
    },
    {
     "name": "stderr",
     "output_type": "stream",
     "text": [
      " 12%|█▏        | 45/383 [2:10:00<14:49:26, 157.89s/it]"
     ]
    },
    {
     "name": "stdout",
     "output_type": "stream",
     "text": [
      "total num of pts: tensor([8863.])\n",
      "{'redshifts/mse': 0.2760542929172516}\n"
     ]
    },
    {
     "name": "stderr",
     "output_type": "stream",
     "text": [
      " 12%|█▏        | 46/383 [2:12:41<14:52:00, 158.82s/it]"
     ]
    },
    {
     "name": "stdout",
     "output_type": "stream",
     "text": [
      "total num of pts: tensor([9043.])\n",
      "{'redshifts/mse': 0.27582424879074097}\n"
     ]
    },
    {
     "name": "stderr",
     "output_type": "stream",
     "text": [
      " 12%|█▏        | 47/383 [2:15:17<14:45:13, 158.08s/it]"
     ]
    },
    {
     "name": "stdout",
     "output_type": "stream",
     "text": [
      "total num of pts: tensor([9224.])\n",
      "{'redshifts/mse': 0.2763923406600952}\n"
     ]
    },
    {
     "name": "stderr",
     "output_type": "stream",
     "text": [
      " 13%|█▎        | 48/383 [2:17:56<14:44:08, 158.35s/it]"
     ]
    },
    {
     "name": "stdout",
     "output_type": "stream",
     "text": [
      "total num of pts: tensor([9428.])\n",
      "{'redshifts/mse': 0.2783355414867401}\n"
     ]
    },
    {
     "name": "stderr",
     "output_type": "stream",
     "text": [
      " 13%|█▎        | 49/383 [2:20:34<14:40:00, 158.09s/it]"
     ]
    },
    {
     "name": "stdout",
     "output_type": "stream",
     "text": [
      "total num of pts: tensor([9629.])\n",
      "{'redshifts/mse': 0.27730461955070496}\n"
     ]
    },
    {
     "name": "stderr",
     "output_type": "stream",
     "text": [
      " 13%|█▎        | 50/383 [2:23:14<14:40:27, 158.64s/it]"
     ]
    },
    {
     "name": "stdout",
     "output_type": "stream",
     "text": [
      "total num of pts: tensor([9827.])\n",
      "{'redshifts/mse': 0.2763218581676483}\n"
     ]
    },
    {
     "name": "stderr",
     "output_type": "stream",
     "text": [
      " 13%|█▎        | 51/383 [2:25:48<14:30:37, 157.34s/it]"
     ]
    },
    {
     "name": "stdout",
     "output_type": "stream",
     "text": [
      "total num of pts: tensor([10016.])\n",
      "{'redshifts/mse': 0.2763940691947937}\n"
     ]
    },
    {
     "name": "stderr",
     "output_type": "stream",
     "text": [
      " 14%|█▎        | 52/383 [2:28:23<14:24:10, 156.65s/it]"
     ]
    },
    {
     "name": "stdout",
     "output_type": "stream",
     "text": [
      "total num of pts: tensor([10224.])\n",
      "{'redshifts/mse': 0.2774251401424408}\n"
     ]
    },
    {
     "name": "stderr",
     "output_type": "stream",
     "text": [
      " 14%|█▍        | 53/383 [2:30:55<14:13:38, 155.21s/it]"
     ]
    },
    {
     "name": "stdout",
     "output_type": "stream",
     "text": [
      "total num of pts: tensor([10414.])\n",
      "{'redshifts/mse': 0.275399774312973}\n"
     ]
    },
    {
     "name": "stderr",
     "output_type": "stream",
     "text": [
      " 14%|█▍        | 54/383 [2:33:31<14:12:51, 155.54s/it]"
     ]
    },
    {
     "name": "stdout",
     "output_type": "stream",
     "text": [
      "total num of pts: tensor([10596.])\n",
      "{'redshifts/mse': 0.2770192325115204}\n"
     ]
    },
    {
     "name": "stderr",
     "output_type": "stream",
     "text": [
      " 14%|█▍        | 55/383 [2:36:07<14:11:03, 155.68s/it]"
     ]
    },
    {
     "name": "stdout",
     "output_type": "stream",
     "text": [
      "total num of pts: tensor([10778.])\n",
      "{'redshifts/mse': 0.27683141827583313}\n"
     ]
    },
    {
     "name": "stderr",
     "output_type": "stream",
     "text": [
      " 15%|█▍        | 56/383 [2:38:47<14:14:57, 156.87s/it]"
     ]
    },
    {
     "name": "stdout",
     "output_type": "stream",
     "text": [
      "total num of pts: tensor([10975.])\n",
      "{'redshifts/mse': 0.27752697467803955}\n"
     ]
    },
    {
     "name": "stderr",
     "output_type": "stream",
     "text": [
      " 15%|█▍        | 57/383 [2:41:28<14:20:17, 158.34s/it]"
     ]
    },
    {
     "name": "stdout",
     "output_type": "stream",
     "text": [
      "total num of pts: tensor([11158.])\n",
      "{'redshifts/mse': 0.27785077691078186}\n"
     ]
    },
    {
     "name": "stderr",
     "output_type": "stream",
     "text": [
      " 15%|█▌        | 58/383 [2:44:05<14:14:34, 157.77s/it]"
     ]
    },
    {
     "name": "stdout",
     "output_type": "stream",
     "text": [
      "total num of pts: tensor([11338.])\n",
      "{'redshifts/mse': 0.27709847688674927}\n"
     ]
    },
    {
     "name": "stderr",
     "output_type": "stream",
     "text": [
      " 15%|█▌        | 59/383 [2:46:42<14:10:27, 157.49s/it]"
     ]
    },
    {
     "name": "stdout",
     "output_type": "stream",
     "text": [
      "total num of pts: tensor([11543.])\n",
      "{'redshifts/mse': 0.27692925930023193}\n"
     ]
    },
    {
     "name": "stderr",
     "output_type": "stream",
     "text": [
      " 16%|█▌        | 60/383 [2:49:21<14:10:40, 158.02s/it]"
     ]
    },
    {
     "name": "stdout",
     "output_type": "stream",
     "text": [
      "total num of pts: tensor([11734.])\n",
      "{'redshifts/mse': 0.27648234367370605}\n"
     ]
    },
    {
     "name": "stderr",
     "output_type": "stream",
     "text": [
      " 16%|█▌        | 61/383 [2:52:03<14:14:31, 159.23s/it]"
     ]
    },
    {
     "name": "stdout",
     "output_type": "stream",
     "text": [
      "total num of pts: tensor([11916.])\n",
      "{'redshifts/mse': 0.2762136459350586}\n"
     ]
    },
    {
     "name": "stderr",
     "output_type": "stream",
     "text": [
      " 16%|█▌        | 62/383 [2:54:42<14:11:00, 159.07s/it]"
     ]
    },
    {
     "name": "stdout",
     "output_type": "stream",
     "text": [
      "total num of pts: tensor([12103.])\n",
      "{'redshifts/mse': 0.2754592001438141}\n"
     ]
    },
    {
     "name": "stderr",
     "output_type": "stream",
     "text": [
      " 16%|█▋        | 63/383 [2:57:18<14:04:34, 158.36s/it]"
     ]
    },
    {
     "name": "stdout",
     "output_type": "stream",
     "text": [
      "total num of pts: tensor([12287.])\n",
      "{'redshifts/mse': 0.27367785573005676}\n"
     ]
    },
    {
     "name": "stderr",
     "output_type": "stream",
     "text": [
      " 17%|█▋        | 64/383 [2:59:53<13:55:53, 157.22s/it]"
     ]
    },
    {
     "name": "stdout",
     "output_type": "stream",
     "text": [
      "total num of pts: tensor([12486.])\n",
      "{'redshifts/mse': 0.27682745456695557}\n"
     ]
    },
    {
     "name": "stderr",
     "output_type": "stream",
     "text": [
      " 17%|█▋        | 65/383 [3:02:28<13:50:29, 156.70s/it]"
     ]
    },
    {
     "name": "stdout",
     "output_type": "stream",
     "text": [
      "total num of pts: tensor([12653.])\n",
      "{'redshifts/mse': 0.2767159938812256}\n"
     ]
    },
    {
     "name": "stderr",
     "output_type": "stream",
     "text": [
      " 17%|█▋        | 66/383 [3:05:06<13:49:09, 156.94s/it]"
     ]
    },
    {
     "name": "stdout",
     "output_type": "stream",
     "text": [
      "total num of pts: tensor([12844.])\n",
      "{'redshifts/mse': 0.27705514430999756}\n"
     ]
    },
    {
     "name": "stderr",
     "output_type": "stream",
     "text": [
      " 17%|█▋        | 67/383 [3:07:45<13:49:48, 157.56s/it]"
     ]
    },
    {
     "name": "stdout",
     "output_type": "stream",
     "text": [
      "total num of pts: tensor([13028.])\n",
      "{'redshifts/mse': 0.2759016454219818}\n"
     ]
    },
    {
     "name": "stderr",
     "output_type": "stream",
     "text": [
      " 18%|█▊        | 68/383 [3:10:21<13:45:05, 157.16s/it]"
     ]
    },
    {
     "name": "stdout",
     "output_type": "stream",
     "text": [
      "total num of pts: tensor([13214.])\n",
      "{'redshifts/mse': 0.2755977213382721}\n"
     ]
    },
    {
     "name": "stderr",
     "output_type": "stream",
     "text": [
      " 18%|█▊        | 69/383 [3:13:01<13:47:03, 158.04s/it]"
     ]
    },
    {
     "name": "stdout",
     "output_type": "stream",
     "text": [
      "total num of pts: tensor([13402.])\n",
      "{'redshifts/mse': 0.274779736995697}\n"
     ]
    },
    {
     "name": "stderr",
     "output_type": "stream",
     "text": [
      " 18%|█▊        | 70/383 [3:15:38<13:42:31, 157.67s/it]"
     ]
    },
    {
     "name": "stdout",
     "output_type": "stream",
     "text": [
      "total num of pts: tensor([13593.])\n",
      "{'redshifts/mse': 0.27404719591140747}\n"
     ]
    },
    {
     "name": "stderr",
     "output_type": "stream",
     "text": [
      " 19%|█▊        | 71/383 [3:18:16<13:39:48, 157.66s/it]"
     ]
    },
    {
     "name": "stdout",
     "output_type": "stream",
     "text": [
      "total num of pts: tensor([13774.])\n",
      "{'redshifts/mse': 0.2744234502315521}\n"
     ]
    },
    {
     "name": "stderr",
     "output_type": "stream",
     "text": [
      " 19%|█▉        | 72/383 [3:20:54<13:38:15, 157.86s/it]"
     ]
    },
    {
     "name": "stdout",
     "output_type": "stream",
     "text": [
      "total num of pts: tensor([13961.])\n",
      "{'redshifts/mse': 0.27402982115745544}\n"
     ]
    },
    {
     "name": "stderr",
     "output_type": "stream",
     "text": [
      " 19%|█▉        | 73/383 [3:23:32<13:36:29, 158.03s/it]"
     ]
    },
    {
     "name": "stdout",
     "output_type": "stream",
     "text": [
      "total num of pts: tensor([14155.])\n",
      "{'redshifts/mse': 0.27483895421028137}\n"
     ]
    },
    {
     "name": "stderr",
     "output_type": "stream",
     "text": [
      " 19%|█▉        | 74/383 [3:26:05<13:25:51, 156.48s/it]"
     ]
    },
    {
     "name": "stdout",
     "output_type": "stream",
     "text": [
      "total num of pts: tensor([14352.])\n",
      "{'redshifts/mse': 0.27365055680274963}\n"
     ]
    },
    {
     "name": "stderr",
     "output_type": "stream",
     "text": [
      " 20%|█▉        | 75/383 [3:28:42<13:23:05, 156.45s/it]"
     ]
    },
    {
     "name": "stdout",
     "output_type": "stream",
     "text": [
      "total num of pts: tensor([14562.])\n",
      "{'redshifts/mse': 0.27314701676368713}\n"
     ]
    },
    {
     "name": "stderr",
     "output_type": "stream",
     "text": [
      " 20%|█▉        | 76/383 [3:31:19<13:21:41, 156.68s/it]"
     ]
    },
    {
     "name": "stdout",
     "output_type": "stream",
     "text": [
      "total num of pts: tensor([14772.])\n",
      "{'redshifts/mse': 0.27415546774864197}\n"
     ]
    },
    {
     "name": "stderr",
     "output_type": "stream",
     "text": [
      " 20%|██        | 77/383 [3:33:52<13:14:18, 155.75s/it]"
     ]
    },
    {
     "name": "stdout",
     "output_type": "stream",
     "text": [
      "total num of pts: tensor([14960.])\n",
      "{'redshifts/mse': 0.2733745574951172}\n"
     ]
    },
    {
     "name": "stderr",
     "output_type": "stream",
     "text": [
      " 20%|██        | 78/383 [3:36:25<13:07:00, 154.82s/it]"
     ]
    },
    {
     "name": "stdout",
     "output_type": "stream",
     "text": [
      "total num of pts: tensor([15164.])\n",
      "{'redshifts/mse': 0.27255457639694214}\n"
     ]
    },
    {
     "name": "stderr",
     "output_type": "stream",
     "text": [
      " 21%|██        | 79/383 [3:38:57<13:00:25, 154.03s/it]"
     ]
    },
    {
     "name": "stdout",
     "output_type": "stream",
     "text": [
      "total num of pts: tensor([15368.])\n",
      "{'redshifts/mse': 0.2720263600349426}\n"
     ]
    },
    {
     "name": "stderr",
     "output_type": "stream",
     "text": [
      " 21%|██        | 80/383 [3:41:30<12:56:23, 153.74s/it]"
     ]
    },
    {
     "name": "stdout",
     "output_type": "stream",
     "text": [
      "total num of pts: tensor([15543.])\n",
      "{'redshifts/mse': 0.2728593051433563}\n"
     ]
    },
    {
     "name": "stderr",
     "output_type": "stream",
     "text": [
      " 21%|██        | 81/383 [3:44:05<12:54:56, 153.96s/it]"
     ]
    },
    {
     "name": "stdout",
     "output_type": "stream",
     "text": [
      "total num of pts: tensor([15740.])\n",
      "{'redshifts/mse': 0.2717433571815491}\n"
     ]
    },
    {
     "name": "stderr",
     "output_type": "stream",
     "text": [
      " 21%|██▏       | 82/383 [3:46:38<12:50:56, 153.68s/it]"
     ]
    },
    {
     "name": "stdout",
     "output_type": "stream",
     "text": [
      "total num of pts: tensor([15940.])\n",
      "{'redshifts/mse': 0.27268296480178833}\n"
     ]
    },
    {
     "name": "stderr",
     "output_type": "stream",
     "text": [
      " 22%|██▏       | 83/383 [3:49:08<12:42:38, 152.53s/it]"
     ]
    },
    {
     "name": "stdout",
     "output_type": "stream",
     "text": [
      "total num of pts: tensor([16154.])\n",
      "{'redshifts/mse': 0.2724474370479584}\n"
     ]
    },
    {
     "name": "stderr",
     "output_type": "stream",
     "text": [
      " 22%|██▏       | 84/383 [3:51:41<12:40:37, 152.63s/it]"
     ]
    },
    {
     "name": "stdout",
     "output_type": "stream",
     "text": [
      "total num of pts: tensor([16335.])\n",
      "{'redshifts/mse': 0.27178680896759033}\n"
     ]
    },
    {
     "name": "stderr",
     "output_type": "stream",
     "text": [
      " 22%|██▏       | 85/383 [3:54:12<12:35:38, 152.14s/it]"
     ]
    },
    {
     "name": "stdout",
     "output_type": "stream",
     "text": [
      "total num of pts: tensor([16521.])\n",
      "{'redshifts/mse': 0.27168917655944824}\n"
     ]
    },
    {
     "name": "stderr",
     "output_type": "stream",
     "text": [
      " 22%|██▏       | 86/383 [3:56:41<12:28:53, 151.29s/it]"
     ]
    },
    {
     "name": "stdout",
     "output_type": "stream",
     "text": [
      "total num of pts: tensor([16705.])\n",
      "{'redshifts/mse': 0.27365842461586}\n"
     ]
    },
    {
     "name": "stderr",
     "output_type": "stream",
     "text": [
      " 23%|██▎       | 87/383 [3:59:15<12:30:44, 152.18s/it]"
     ]
    },
    {
     "name": "stdout",
     "output_type": "stream",
     "text": [
      "total num of pts: tensor([16885.])\n",
      "{'redshifts/mse': 0.27360573410987854}\n"
     ]
    },
    {
     "name": "stderr",
     "output_type": "stream",
     "text": [
      " 23%|██▎       | 88/383 [4:01:46<12:26:50, 151.90s/it]"
     ]
    },
    {
     "name": "stdout",
     "output_type": "stream",
     "text": [
      "total num of pts: tensor([17083.])\n",
      "{'redshifts/mse': 0.2734867334365845}\n"
     ]
    },
    {
     "name": "stderr",
     "output_type": "stream",
     "text": [
      " 23%|██▎       | 89/383 [4:04:14<12:18:25, 150.70s/it]"
     ]
    },
    {
     "name": "stdout",
     "output_type": "stream",
     "text": [
      "total num of pts: tensor([17271.])\n",
      "{'redshifts/mse': 0.2740374207496643}\n"
     ]
    },
    {
     "name": "stderr",
     "output_type": "stream",
     "text": [
      " 23%|██▎       | 90/383 [4:06:46<12:17:21, 150.99s/it]"
     ]
    },
    {
     "name": "stdout",
     "output_type": "stream",
     "text": [
      "total num of pts: tensor([17475.])\n",
      "{'redshifts/mse': 0.2732391953468323}\n"
     ]
    },
    {
     "name": "stderr",
     "output_type": "stream",
     "text": [
      " 24%|██▍       | 91/383 [4:09:18<12:15:41, 151.17s/it]"
     ]
    },
    {
     "name": "stdout",
     "output_type": "stream",
     "text": [
      "total num of pts: tensor([17641.])\n",
      "{'redshifts/mse': 0.2733822762966156}\n"
     ]
    },
    {
     "name": "stderr",
     "output_type": "stream",
     "text": [
      " 24%|██▍       | 92/383 [4:11:50<12:15:20, 151.62s/it]"
     ]
    },
    {
     "name": "stdout",
     "output_type": "stream",
     "text": [
      "total num of pts: tensor([17845.])\n",
      "{'redshifts/mse': 0.27414247393608093}\n"
     ]
    },
    {
     "name": "stderr",
     "output_type": "stream",
     "text": [
      " 24%|██▍       | 93/383 [4:14:27<12:20:04, 153.12s/it]"
     ]
    },
    {
     "name": "stdout",
     "output_type": "stream",
     "text": [
      "total num of pts: tensor([18027.])\n",
      "{'redshifts/mse': 0.2736857533454895}\n"
     ]
    },
    {
     "name": "stderr",
     "output_type": "stream",
     "text": [
      " 25%|██▍       | 94/383 [4:16:58<12:15:01, 152.60s/it]"
     ]
    },
    {
     "name": "stdout",
     "output_type": "stream",
     "text": [
      "total num of pts: tensor([18214.])\n",
      "{'redshifts/mse': 0.2756184935569763}\n"
     ]
    },
    {
     "name": "stderr",
     "output_type": "stream",
     "text": [
      " 25%|██▍       | 95/383 [4:19:29<12:09:06, 151.90s/it]"
     ]
    },
    {
     "name": "stdout",
     "output_type": "stream",
     "text": [
      "total num of pts: tensor([18414.])\n",
      "{'redshifts/mse': 0.27508309483528137}\n"
     ]
    },
    {
     "name": "stderr",
     "output_type": "stream",
     "text": [
      " 25%|██▌       | 96/383 [4:22:04<12:11:51, 153.00s/it]"
     ]
    },
    {
     "name": "stdout",
     "output_type": "stream",
     "text": [
      "total num of pts: tensor([18609.])\n",
      "{'redshifts/mse': 0.2748367190361023}\n"
     ]
    },
    {
     "name": "stderr",
     "output_type": "stream",
     "text": [
      " 25%|██▌       | 97/383 [4:24:37<12:08:46, 152.89s/it]"
     ]
    },
    {
     "name": "stdout",
     "output_type": "stream",
     "text": [
      "total num of pts: tensor([18778.])\n",
      "{'redshifts/mse': 0.27507245540618896}\n"
     ]
    },
    {
     "name": "stderr",
     "output_type": "stream",
     "text": [
      " 26%|██▌       | 98/383 [4:27:05<11:59:01, 151.37s/it]"
     ]
    },
    {
     "name": "stdout",
     "output_type": "stream",
     "text": [
      "total num of pts: tensor([18953.])\n",
      "{'redshifts/mse': 0.27435043454170227}\n"
     ]
    },
    {
     "name": "stderr",
     "output_type": "stream",
     "text": [
      " 26%|██▌       | 99/383 [4:29:42<12:05:02, 153.18s/it]"
     ]
    },
    {
     "name": "stdout",
     "output_type": "stream",
     "text": [
      "total num of pts: tensor([19134.])\n",
      "{'redshifts/mse': 0.27453646063804626}\n"
     ]
    },
    {
     "name": "stderr",
     "output_type": "stream",
     "text": [
      " 26%|██▌       | 100/383 [4:32:17<12:04:28, 153.60s/it]"
     ]
    },
    {
     "name": "stdout",
     "output_type": "stream",
     "text": [
      "total num of pts: tensor([19318.])\n",
      "{'redshifts/mse': 0.27529585361480713}\n"
     ]
    },
    {
     "name": "stderr",
     "output_type": "stream",
     "text": [
      " 26%|██▋       | 101/383 [4:34:48<11:58:46, 152.93s/it]"
     ]
    },
    {
     "name": "stdout",
     "output_type": "stream",
     "text": [
      "total num of pts: tensor([19504.])\n",
      "{'redshifts/mse': 0.2762150764465332}\n"
     ]
    },
    {
     "name": "stderr",
     "output_type": "stream",
     "text": [
      " 27%|██▋       | 102/383 [4:37:21<11:56:25, 152.97s/it]"
     ]
    },
    {
     "name": "stdout",
     "output_type": "stream",
     "text": [
      "total num of pts: tensor([19706.])\n",
      "{'redshifts/mse': 0.276243656873703}\n"
     ]
    },
    {
     "name": "stderr",
     "output_type": "stream",
     "text": [
      " 27%|██▋       | 103/383 [4:39:52<11:50:55, 152.34s/it]"
     ]
    },
    {
     "name": "stdout",
     "output_type": "stream",
     "text": [
      "total num of pts: tensor([19888.])\n",
      "{'redshifts/mse': 0.2757378816604614}\n"
     ]
    },
    {
     "name": "stderr",
     "output_type": "stream",
     "text": [
      " 27%|██▋       | 104/383 [4:42:22<11:45:08, 151.64s/it]"
     ]
    },
    {
     "name": "stdout",
     "output_type": "stream",
     "text": [
      "total num of pts: tensor([20102.])\n",
      "{'redshifts/mse': 0.2746131122112274}\n"
     ]
    },
    {
     "name": "stderr",
     "output_type": "stream",
     "text": [
      " 27%|██▋       | 105/383 [4:44:50<11:38:23, 150.73s/it]"
     ]
    },
    {
     "name": "stdout",
     "output_type": "stream",
     "text": [
      "total num of pts: tensor([20289.])\n",
      "{'redshifts/mse': 0.27430376410484314}\n"
     ]
    },
    {
     "name": "stderr",
     "output_type": "stream",
     "text": [
      " 28%|██▊       | 106/383 [4:47:26<11:42:49, 152.24s/it]"
     ]
    },
    {
     "name": "stdout",
     "output_type": "stream",
     "text": [
      "total num of pts: tensor([20512.])\n",
      "{'redshifts/mse': 0.27424904704093933}\n"
     ]
    },
    {
     "name": "stderr",
     "output_type": "stream",
     "text": [
      " 28%|██▊       | 107/383 [4:49:57<11:37:51, 151.71s/it]"
     ]
    },
    {
     "name": "stdout",
     "output_type": "stream",
     "text": [
      "total num of pts: tensor([20720.])\n",
      "{'redshifts/mse': 0.27474766969680786}\n"
     ]
    },
    {
     "name": "stderr",
     "output_type": "stream",
     "text": [
      " 28%|██▊       | 108/383 [4:52:32<11:40:10, 152.77s/it]"
     ]
    },
    {
     "name": "stdout",
     "output_type": "stream",
     "text": [
      "total num of pts: tensor([20903.])\n",
      "{'redshifts/mse': 0.27472421526908875}\n"
     ]
    },
    {
     "name": "stderr",
     "output_type": "stream",
     "text": [
      " 28%|██▊       | 109/383 [4:55:03<11:35:25, 152.28s/it]"
     ]
    },
    {
     "name": "stdout",
     "output_type": "stream",
     "text": [
      "total num of pts: tensor([21114.])\n",
      "{'redshifts/mse': 0.27431511878967285}\n"
     ]
    },
    {
     "name": "stderr",
     "output_type": "stream",
     "text": [
      " 29%|██▊       | 110/383 [4:57:37<11:34:40, 152.67s/it]"
     ]
    },
    {
     "name": "stdout",
     "output_type": "stream",
     "text": [
      "total num of pts: tensor([21315.])\n",
      "{'redshifts/mse': 0.27374327182769775}\n"
     ]
    },
    {
     "name": "stderr",
     "output_type": "stream",
     "text": [
      " 29%|██▉       | 111/383 [5:00:15<11:39:43, 154.35s/it]"
     ]
    },
    {
     "name": "stdout",
     "output_type": "stream",
     "text": [
      "total num of pts: tensor([21496.])\n",
      "{'redshifts/mse': 0.27307993173599243}\n"
     ]
    },
    {
     "name": "stderr",
     "output_type": "stream",
     "text": [
      " 29%|██▉       | 112/383 [5:03:31<12:33:19, 166.79s/it]"
     ]
    },
    {
     "name": "stdout",
     "output_type": "stream",
     "text": [
      "total num of pts: tensor([21684.])\n",
      "{'redshifts/mse': 0.2731064260005951}\n"
     ]
    },
    {
     "name": "stderr",
     "output_type": "stream",
     "text": [
      " 30%|██▉       | 113/383 [5:06:20<12:33:29, 167.44s/it]"
     ]
    },
    {
     "name": "stdout",
     "output_type": "stream",
     "text": [
      "total num of pts: tensor([21870.])\n",
      "{'redshifts/mse': 0.27326273918151855}\n"
     ]
    },
    {
     "name": "stderr",
     "output_type": "stream",
     "text": [
      " 30%|██▉       | 114/383 [5:08:59<12:19:59, 165.05s/it]"
     ]
    },
    {
     "name": "stdout",
     "output_type": "stream",
     "text": [
      "total num of pts: tensor([22063.])\n",
      "{'redshifts/mse': 0.27285948395729065}\n"
     ]
    },
    {
     "name": "stderr",
     "output_type": "stream",
     "text": [
      " 30%|███       | 115/383 [5:11:41<12:13:17, 164.17s/it]"
     ]
    },
    {
     "name": "stdout",
     "output_type": "stream",
     "text": [
      "total num of pts: tensor([22240.])\n",
      "{'redshifts/mse': 0.27333468198776245}\n"
     ]
    },
    {
     "name": "stderr",
     "output_type": "stream",
     "text": [
      " 30%|███       | 116/383 [5:14:39<12:28:32, 168.21s/it]"
     ]
    },
    {
     "name": "stdout",
     "output_type": "stream",
     "text": [
      "total num of pts: tensor([22450.])\n",
      "{'redshifts/mse': 0.2741289436817169}\n"
     ]
    },
    {
     "name": "stderr",
     "output_type": "stream",
     "text": [
      " 31%|███       | 117/383 [5:17:30<12:29:33, 169.07s/it]"
     ]
    },
    {
     "name": "stdout",
     "output_type": "stream",
     "text": [
      "total num of pts: tensor([22644.])\n",
      "{'redshifts/mse': 0.2747633755207062}\n"
     ]
    },
    {
     "name": "stderr",
     "output_type": "stream",
     "text": [
      " 31%|███       | 118/383 [5:20:48<13:05:31, 177.85s/it]"
     ]
    },
    {
     "name": "stdout",
     "output_type": "stream",
     "text": [
      "total num of pts: tensor([22854.])\n",
      "{'redshifts/mse': 0.27510568499565125}\n"
     ]
    },
    {
     "name": "stderr",
     "output_type": "stream",
     "text": [
      " 31%|███       | 119/383 [5:23:20<12:28:30, 170.12s/it]"
     ]
    },
    {
     "name": "stdout",
     "output_type": "stream",
     "text": [
      "total num of pts: tensor([23040.])\n",
      "{'redshifts/mse': 0.2747151553630829}\n"
     ]
    },
    {
     "name": "stderr",
     "output_type": "stream",
     "text": [
      " 31%|███▏      | 120/383 [5:25:51<11:59:56, 164.25s/it]"
     ]
    },
    {
     "name": "stdout",
     "output_type": "stream",
     "text": [
      "total num of pts: tensor([23219.])\n",
      "{'redshifts/mse': 0.2752317786216736}\n"
     ]
    },
    {
     "name": "stderr",
     "output_type": "stream",
     "text": [
      " 32%|███▏      | 121/383 [5:28:26<11:44:29, 161.33s/it]"
     ]
    },
    {
     "name": "stdout",
     "output_type": "stream",
     "text": [
      "total num of pts: tensor([23421.])\n",
      "{'redshifts/mse': 0.2745645344257355}\n"
     ]
    },
    {
     "name": "stderr",
     "output_type": "stream",
     "text": [
      " 32%|███▏      | 122/383 [5:31:01<11:33:51, 159.51s/it]"
     ]
    },
    {
     "name": "stdout",
     "output_type": "stream",
     "text": [
      "total num of pts: tensor([23612.])\n",
      "{'redshifts/mse': 0.27451467514038086}\n"
     ]
    },
    {
     "name": "stderr",
     "output_type": "stream",
     "text": [
      " 32%|███▏      | 123/383 [5:33:38<11:27:57, 158.76s/it]"
     ]
    },
    {
     "name": "stdout",
     "output_type": "stream",
     "text": [
      "total num of pts: tensor([23799.])\n",
      "{'redshifts/mse': 0.2749808728694916}\n"
     ]
    },
    {
     "name": "stderr",
     "output_type": "stream",
     "text": [
      " 32%|███▏      | 124/383 [5:36:11<11:18:27, 157.17s/it]"
     ]
    },
    {
     "name": "stdout",
     "output_type": "stream",
     "text": [
      "total num of pts: tensor([24009.])\n",
      "{'redshifts/mse': 0.2760658860206604}\n"
     ]
    },
    {
     "name": "stderr",
     "output_type": "stream",
     "text": [
      " 33%|███▎      | 125/383 [5:38:58<11:27:44, 159.94s/it]"
     ]
    },
    {
     "name": "stdout",
     "output_type": "stream",
     "text": [
      "total num of pts: tensor([24179.])\n",
      "{'redshifts/mse': 0.27623042464256287}\n"
     ]
    },
    {
     "name": "stderr",
     "output_type": "stream",
     "text": [
      " 33%|███▎      | 126/383 [5:41:53<11:44:47, 164.54s/it]"
     ]
    },
    {
     "name": "stdout",
     "output_type": "stream",
     "text": [
      "total num of pts: tensor([24368.])\n",
      "{'redshifts/mse': 0.2757148742675781}\n"
     ]
    },
    {
     "name": "stderr",
     "output_type": "stream",
     "text": [
      " 33%|███▎      | 127/383 [5:44:31<11:33:58, 162.65s/it]"
     ]
    },
    {
     "name": "stdout",
     "output_type": "stream",
     "text": [
      "total num of pts: tensor([24557.])\n",
      "{'redshifts/mse': 0.2755697965621948}\n"
     ]
    },
    {
     "name": "stderr",
     "output_type": "stream",
     "text": [
      " 33%|███▎      | 128/383 [5:47:27<11:48:15, 166.65s/it]"
     ]
    },
    {
     "name": "stdout",
     "output_type": "stream",
     "text": [
      "total num of pts: tensor([24738.])\n",
      "{'redshifts/mse': 0.2770693898200989}\n"
     ]
    },
    {
     "name": "stderr",
     "output_type": "stream",
     "text": [
      " 34%|███▎      | 129/383 [5:51:16<13:04:45, 185.37s/it]"
     ]
    },
    {
     "name": "stdout",
     "output_type": "stream",
     "text": [
      "total num of pts: tensor([24914.])\n",
      "{'redshifts/mse': 0.27674034237861633}\n"
     ]
    },
    {
     "name": "stderr",
     "output_type": "stream",
     "text": [
      " 34%|███▍      | 130/383 [5:54:46<13:32:31, 192.69s/it]"
     ]
    },
    {
     "name": "stdout",
     "output_type": "stream",
     "text": [
      "total num of pts: tensor([25099.])\n",
      "{'redshifts/mse': 0.2765654921531677}\n"
     ]
    },
    {
     "name": "stderr",
     "output_type": "stream",
     "text": [
      " 34%|███▍      | 131/383 [5:57:33<12:56:54, 184.98s/it]"
     ]
    },
    {
     "name": "stdout",
     "output_type": "stream",
     "text": [
      "total num of pts: tensor([25286.])\n",
      "{'redshifts/mse': 0.2764308452606201}\n"
     ]
    },
    {
     "name": "stderr",
     "output_type": "stream",
     "text": [
      " 34%|███▍      | 132/383 [6:00:25<12:37:59, 181.19s/it]"
     ]
    },
    {
     "name": "stdout",
     "output_type": "stream",
     "text": [
      "total num of pts: tensor([25461.])\n",
      "{'redshifts/mse': 0.27621832489967346}\n"
     ]
    },
    {
     "name": "stderr",
     "output_type": "stream",
     "text": [
      " 35%|███▍      | 133/383 [6:03:28<12:37:22, 181.77s/it]"
     ]
    },
    {
     "name": "stdout",
     "output_type": "stream",
     "text": [
      "total num of pts: tensor([25670.])\n",
      "{'redshifts/mse': 0.2762337327003479}\n"
     ]
    },
    {
     "name": "stderr",
     "output_type": "stream",
     "text": [
      " 35%|███▍      | 134/383 [6:06:12<12:11:23, 176.24s/it]"
     ]
    },
    {
     "name": "stdout",
     "output_type": "stream",
     "text": [
      "total num of pts: tensor([25858.])\n",
      "{'redshifts/mse': 0.2766938805580139}\n"
     ]
    },
    {
     "name": "stderr",
     "output_type": "stream",
     "text": [
      " 35%|███▌      | 135/383 [6:09:11<12:11:41, 177.02s/it]"
     ]
    },
    {
     "name": "stdout",
     "output_type": "stream",
     "text": [
      "total num of pts: tensor([26046.])\n",
      "{'redshifts/mse': 0.27712708711624146}\n"
     ]
    },
    {
     "name": "stderr",
     "output_type": "stream",
     "text": [
      " 36%|███▌      | 136/383 [6:12:05<12:05:30, 176.24s/it]"
     ]
    },
    {
     "name": "stdout",
     "output_type": "stream",
     "text": [
      "total num of pts: tensor([26238.])\n",
      "{'redshifts/mse': 0.2766481935977936}\n"
     ]
    },
    {
     "name": "stderr",
     "output_type": "stream",
     "text": [
      " 36%|███▌      | 137/383 [6:14:49<11:47:16, 172.50s/it]"
     ]
    },
    {
     "name": "stdout",
     "output_type": "stream",
     "text": [
      "total num of pts: tensor([26439.])\n",
      "{'redshifts/mse': 0.27619150280952454}\n"
     ]
    },
    {
     "name": "stderr",
     "output_type": "stream",
     "text": [
      " 36%|███▌      | 138/383 [6:17:34<11:35:03, 170.22s/it]"
     ]
    },
    {
     "name": "stdout",
     "output_type": "stream",
     "text": [
      "total num of pts: tensor([26625.])\n",
      "{'redshifts/mse': 0.276684433221817}\n"
     ]
    },
    {
     "name": "stderr",
     "output_type": "stream",
     "text": [
      " 36%|███▋      | 139/383 [6:20:08<11:12:44, 165.43s/it]"
     ]
    },
    {
     "name": "stdout",
     "output_type": "stream",
     "text": [
      "total num of pts: tensor([26812.])\n",
      "{'redshifts/mse': 0.27686211466789246}\n"
     ]
    },
    {
     "name": "stderr",
     "output_type": "stream",
     "text": [
      " 37%|███▋      | 140/383 [6:23:12<11:32:55, 171.09s/it]"
     ]
    },
    {
     "name": "stdout",
     "output_type": "stream",
     "text": [
      "total num of pts: tensor([27017.])\n",
      "{'redshifts/mse': 0.2771953046321869}\n"
     ]
    },
    {
     "name": "stderr",
     "output_type": "stream",
     "text": [
      " 37%|███▋      | 141/383 [6:25:57<11:22:47, 169.29s/it]"
     ]
    },
    {
     "name": "stdout",
     "output_type": "stream",
     "text": [
      "total num of pts: tensor([27226.])\n",
      "{'redshifts/mse': 0.27676403522491455}\n"
     ]
    },
    {
     "name": "stderr",
     "output_type": "stream",
     "text": [
      " 37%|███▋      | 142/383 [6:28:52<11:25:53, 170.76s/it]"
     ]
    },
    {
     "name": "stdout",
     "output_type": "stream",
     "text": [
      "total num of pts: tensor([27444.])\n",
      "{'redshifts/mse': 0.27737748622894287}\n"
     ]
    },
    {
     "name": "stderr",
     "output_type": "stream",
     "text": [
      " 37%|███▋      | 143/383 [6:31:58<11:41:34, 175.39s/it]"
     ]
    },
    {
     "name": "stdout",
     "output_type": "stream",
     "text": [
      "total num of pts: tensor([27612.])\n",
      "{'redshifts/mse': 0.27713146805763245}\n"
     ]
    },
    {
     "name": "stderr",
     "output_type": "stream",
     "text": [
      " 38%|███▊      | 144/383 [6:35:02<11:49:01, 178.00s/it]"
     ]
    },
    {
     "name": "stdout",
     "output_type": "stream",
     "text": [
      "total num of pts: tensor([27838.])\n",
      "{'redshifts/mse': 0.27673813700675964}\n"
     ]
    },
    {
     "name": "stderr",
     "output_type": "stream",
     "text": [
      " 38%|███▊      | 145/383 [6:37:46<11:29:52, 173.92s/it]"
     ]
    },
    {
     "name": "stdout",
     "output_type": "stream",
     "text": [
      "total num of pts: tensor([28030.])\n",
      "{'redshifts/mse': 0.2775000035762787}\n"
     ]
    },
    {
     "name": "stderr",
     "output_type": "stream",
     "text": [
      " 38%|███▊      | 146/383 [6:40:40<11:26:36, 173.83s/it]"
     ]
    },
    {
     "name": "stdout",
     "output_type": "stream",
     "text": [
      "total num of pts: tensor([28209.])\n",
      "{'redshifts/mse': 0.2771627902984619}\n"
     ]
    },
    {
     "name": "stderr",
     "output_type": "stream",
     "text": [
      " 38%|███▊      | 147/383 [6:43:28<11:17:12, 172.17s/it]"
     ]
    },
    {
     "name": "stdout",
     "output_type": "stream",
     "text": [
      "total num of pts: tensor([28403.])\n",
      "{'redshifts/mse': 0.27675527334213257}\n"
     ]
    },
    {
     "name": "stderr",
     "output_type": "stream",
     "text": [
      " 39%|███▊      | 148/383 [6:46:34<11:29:57, 176.16s/it]"
     ]
    },
    {
     "name": "stdout",
     "output_type": "stream",
     "text": [
      "total num of pts: tensor([28572.])\n",
      "{'redshifts/mse': 0.2766258716583252}\n"
     ]
    },
    {
     "name": "stderr",
     "output_type": "stream",
     "text": [
      " 39%|███▉      | 149/383 [6:49:37<11:35:33, 178.35s/it]"
     ]
    },
    {
     "name": "stdout",
     "output_type": "stream",
     "text": [
      "total num of pts: tensor([28780.])\n",
      "{'redshifts/mse': 0.2762463390827179}\n"
     ]
    },
    {
     "name": "stderr",
     "output_type": "stream",
     "text": [
      " 39%|███▉      | 150/383 [6:52:29<11:25:13, 176.45s/it]"
     ]
    },
    {
     "name": "stdout",
     "output_type": "stream",
     "text": [
      "total num of pts: tensor([28987.])\n",
      "{'redshifts/mse': 0.27630263566970825}\n"
     ]
    },
    {
     "name": "stderr",
     "output_type": "stream",
     "text": [
      " 39%|███▉      | 151/383 [6:55:10<11:03:47, 171.67s/it]"
     ]
    },
    {
     "name": "stdout",
     "output_type": "stream",
     "text": [
      "total num of pts: tensor([29165.])\n",
      "{'redshifts/mse': 0.2762867212295532}\n"
     ]
    },
    {
     "name": "stderr",
     "output_type": "stream",
     "text": [
      " 40%|███▉      | 152/383 [6:58:02<11:01:17, 171.76s/it]"
     ]
    },
    {
     "name": "stdout",
     "output_type": "stream",
     "text": [
      "total num of pts: tensor([29355.])\n",
      "{'redshifts/mse': 0.2764818072319031}\n"
     ]
    },
    {
     "name": "stderr",
     "output_type": "stream",
     "text": [
      " 40%|███▉      | 153/383 [7:00:45<10:48:31, 169.18s/it]"
     ]
    },
    {
     "name": "stdout",
     "output_type": "stream",
     "text": [
      "total num of pts: tensor([29565.])\n",
      "{'redshifts/mse': 0.27749279141426086}\n"
     ]
    },
    {
     "name": "stderr",
     "output_type": "stream",
     "text": [
      " 40%|████      | 154/383 [7:03:35<10:47:16, 169.59s/it]"
     ]
    },
    {
     "name": "stdout",
     "output_type": "stream",
     "text": [
      "total num of pts: tensor([29752.])\n",
      "{'redshifts/mse': 0.27785423398017883}\n"
     ]
    },
    {
     "name": "stderr",
     "output_type": "stream",
     "text": [
      " 40%|████      | 155/383 [7:06:42<11:03:44, 174.67s/it]"
     ]
    },
    {
     "name": "stdout",
     "output_type": "stream",
     "text": [
      "total num of pts: tensor([29918.])\n",
      "{'redshifts/mse': 0.2780396640300751}\n"
     ]
    },
    {
     "name": "stderr",
     "output_type": "stream",
     "text": [
      " 41%|████      | 156/383 [7:09:31<10:54:27, 172.98s/it]"
     ]
    },
    {
     "name": "stdout",
     "output_type": "stream",
     "text": [
      "total num of pts: tensor([30142.])\n",
      "{'redshifts/mse': 0.27855461835861206}\n"
     ]
    },
    {
     "name": "stderr",
     "output_type": "stream",
     "text": [
      " 41%|████      | 157/383 [7:12:20<10:47:26, 171.89s/it]"
     ]
    },
    {
     "name": "stdout",
     "output_type": "stream",
     "text": [
      "total num of pts: tensor([30339.])\n",
      "{'redshifts/mse': 0.2788507342338562}\n"
     ]
    },
    {
     "name": "stderr",
     "output_type": "stream",
     "text": [
      " 41%|████▏     | 158/383 [7:16:07<11:46:33, 188.41s/it]"
     ]
    },
    {
     "name": "stdout",
     "output_type": "stream",
     "text": [
      "total num of pts: tensor([30552.])\n",
      "{'redshifts/mse': 0.27823010087013245}\n"
     ]
    },
    {
     "name": "stderr",
     "output_type": "stream",
     "text": [
      " 42%|████▏     | 159/383 [7:19:15<11:42:31, 188.18s/it]"
     ]
    },
    {
     "name": "stdout",
     "output_type": "stream",
     "text": [
      "total num of pts: tensor([30726.])\n",
      "{'redshifts/mse': 0.27867305278778076}\n"
     ]
    },
    {
     "name": "stderr",
     "output_type": "stream",
     "text": [
      " 42%|████▏     | 160/383 [7:22:21<11:36:56, 187.52s/it]"
     ]
    },
    {
     "name": "stdout",
     "output_type": "stream",
     "text": [
      "total num of pts: tensor([30904.])\n",
      "{'redshifts/mse': 0.27827659249305725}\n"
     ]
    },
    {
     "name": "stderr",
     "output_type": "stream",
     "text": [
      " 42%|████▏     | 161/383 [7:26:07<12:17:04, 199.21s/it]"
     ]
    },
    {
     "name": "stdout",
     "output_type": "stream",
     "text": [
      "total num of pts: tensor([31079.])\n",
      "{'redshifts/mse': 0.27782294154167175}\n"
     ]
    },
    {
     "name": "stderr",
     "output_type": "stream",
     "text": [
      " 42%|████▏     | 162/383 [7:29:40<12:28:51, 203.31s/it]"
     ]
    },
    {
     "name": "stdout",
     "output_type": "stream",
     "text": [
      "total num of pts: tensor([31279.])\n",
      "{'redshifts/mse': 0.27805331349372864}\n"
     ]
    },
    {
     "name": "stderr",
     "output_type": "stream",
     "text": [
      " 43%|████▎     | 163/383 [7:32:59<12:20:26, 201.94s/it]"
     ]
    },
    {
     "name": "stdout",
     "output_type": "stream",
     "text": [
      "total num of pts: tensor([31478.])\n",
      "{'redshifts/mse': 0.277985543012619}\n"
     ]
    },
    {
     "name": "stderr",
     "output_type": "stream",
     "text": [
      " 43%|████▎     | 164/383 [7:36:42<12:40:25, 208.33s/it]"
     ]
    },
    {
     "name": "stdout",
     "output_type": "stream",
     "text": [
      "total num of pts: tensor([31697.])\n",
      "{'redshifts/mse': 0.2777807414531708}\n"
     ]
    },
    {
     "name": "stderr",
     "output_type": "stream",
     "text": [
      " 43%|████▎     | 165/383 [7:39:57<12:22:45, 204.43s/it]"
     ]
    },
    {
     "name": "stdout",
     "output_type": "stream",
     "text": [
      "total num of pts: tensor([31885.])\n",
      "{'redshifts/mse': 0.27793216705322266}\n"
     ]
    },
    {
     "name": "stderr",
     "output_type": "stream",
     "text": [
      " 43%|████▎     | 166/383 [7:43:02<11:58:08, 198.56s/it]"
     ]
    },
    {
     "name": "stdout",
     "output_type": "stream",
     "text": [
      "total num of pts: tensor([32077.])\n",
      "{'redshifts/mse': 0.27792343497276306}\n"
     ]
    },
    {
     "name": "stderr",
     "output_type": "stream",
     "text": [
      " 44%|████▎     | 167/383 [7:46:27<12:01:35, 200.44s/it]"
     ]
    },
    {
     "name": "stdout",
     "output_type": "stream",
     "text": [
      "total num of pts: tensor([32295.])\n",
      "{'redshifts/mse': 0.27813559770584106}\n"
     ]
    },
    {
     "name": "stderr",
     "output_type": "stream",
     "text": [
      " 44%|████▍     | 168/383 [7:49:44<11:54:08, 199.30s/it]"
     ]
    },
    {
     "name": "stdout",
     "output_type": "stream",
     "text": [
      "total num of pts: tensor([32480.])\n",
      "{'redshifts/mse': 0.27855950593948364}\n"
     ]
    },
    {
     "name": "stderr",
     "output_type": "stream",
     "text": [
      " 44%|████▍     | 169/383 [7:53:01<11:48:43, 198.71s/it]"
     ]
    },
    {
     "name": "stdout",
     "output_type": "stream",
     "text": [
      "total num of pts: tensor([32671.])\n",
      "{'redshifts/mse': 0.2786380648612976}\n"
     ]
    },
    {
     "name": "stderr",
     "output_type": "stream",
     "text": [
      " 44%|████▍     | 170/383 [7:56:06<11:31:10, 194.70s/it]"
     ]
    },
    {
     "name": "stdout",
     "output_type": "stream",
     "text": [
      "total num of pts: tensor([32887.])\n",
      "{'redshifts/mse': 0.2785065174102783}\n"
     ]
    },
    {
     "name": "stderr",
     "output_type": "stream",
     "text": [
      " 45%|████▍     | 171/383 [7:58:56<11:01:39, 187.26s/it]"
     ]
    },
    {
     "name": "stdout",
     "output_type": "stream",
     "text": [
      "total num of pts: tensor([33060.])\n",
      "{'redshifts/mse': 0.2782737612724304}\n"
     ]
    },
    {
     "name": "stderr",
     "output_type": "stream",
     "text": [
      " 45%|████▍     | 172/383 [8:01:43<10:36:19, 180.94s/it]"
     ]
    },
    {
     "name": "stdout",
     "output_type": "stream",
     "text": [
      "total num of pts: tensor([33270.])\n",
      "{'redshifts/mse': 0.27848848700523376}\n"
     ]
    },
    {
     "name": "stderr",
     "output_type": "stream",
     "text": [
      " 45%|████▌     | 173/383 [8:04:29<10:18:24, 176.69s/it]"
     ]
    },
    {
     "name": "stdout",
     "output_type": "stream",
     "text": [
      "total num of pts: tensor([33483.])\n",
      "{'redshifts/mse': 0.27831339836120605}\n"
     ]
    },
    {
     "name": "stderr",
     "output_type": "stream",
     "text": [
      " 45%|████▌     | 174/383 [8:07:19<10:08:04, 174.57s/it]"
     ]
    },
    {
     "name": "stdout",
     "output_type": "stream",
     "text": [
      "total num of pts: tensor([33686.])\n",
      "{'redshifts/mse': 0.2778158187866211}\n"
     ]
    },
    {
     "name": "stderr",
     "output_type": "stream",
     "text": [
      " 46%|████▌     | 175/383 [8:10:28<10:19:49, 178.80s/it]"
     ]
    },
    {
     "name": "stdout",
     "output_type": "stream",
     "text": [
      "total num of pts: tensor([33904.])\n",
      "{'redshifts/mse': 0.2779826521873474}\n"
     ]
    },
    {
     "name": "stderr",
     "output_type": "stream",
     "text": [
      " 46%|████▌     | 176/383 [8:13:16<10:06:10, 175.70s/it]"
     ]
    },
    {
     "name": "stdout",
     "output_type": "stream",
     "text": [
      "total num of pts: tensor([34091.])\n",
      "{'redshifts/mse': 0.27767542004585266}\n"
     ]
    },
    {
     "name": "stderr",
     "output_type": "stream",
     "text": [
      " 46%|████▌     | 177/383 [8:15:53<9:44:17, 170.18s/it] "
     ]
    },
    {
     "name": "stdout",
     "output_type": "stream",
     "text": [
      "total num of pts: tensor([34282.])\n",
      "{'redshifts/mse': 0.2773036062717438}\n"
     ]
    },
    {
     "name": "stderr",
     "output_type": "stream",
     "text": [
      " 46%|████▋     | 178/383 [8:18:32<9:30:07, 166.87s/it]"
     ]
    },
    {
     "name": "stdout",
     "output_type": "stream",
     "text": [
      "total num of pts: tensor([34480.])\n",
      "{'redshifts/mse': 0.2776397466659546}\n"
     ]
    },
    {
     "name": "stderr",
     "output_type": "stream",
     "text": [
      " 47%|████▋     | 179/383 [8:21:35<9:43:05, 171.50s/it]"
     ]
    },
    {
     "name": "stdout",
     "output_type": "stream",
     "text": [
      "total num of pts: tensor([34659.])\n",
      "{'redshifts/mse': 0.277694970369339}\n"
     ]
    },
    {
     "name": "stderr",
     "output_type": "stream",
     "text": [
      " 47%|████▋     | 180/383 [8:24:30<9:44:17, 172.70s/it]"
     ]
    },
    {
     "name": "stdout",
     "output_type": "stream",
     "text": [
      "total num of pts: tensor([34860.])\n",
      "{'redshifts/mse': 0.2775800824165344}\n"
     ]
    },
    {
     "name": "stderr",
     "output_type": "stream",
     "text": [
      " 47%|████▋     | 181/383 [8:27:20<9:38:43, 171.90s/it]"
     ]
    },
    {
     "name": "stdout",
     "output_type": "stream",
     "text": [
      "total num of pts: tensor([35070.])\n",
      "{'redshifts/mse': 0.27738621830940247}\n"
     ]
    },
    {
     "name": "stderr",
     "output_type": "stream",
     "text": [
      " 48%|████▊     | 182/383 [8:29:57<9:20:27, 167.30s/it]"
     ]
    },
    {
     "name": "stdout",
     "output_type": "stream",
     "text": [
      "total num of pts: tensor([35273.])\n",
      "{'redshifts/mse': 0.2774305045604706}\n"
     ]
    },
    {
     "name": "stderr",
     "output_type": "stream",
     "text": [
      " 48%|████▊     | 183/383 [8:32:43<9:16:41, 167.01s/it]"
     ]
    },
    {
     "name": "stdout",
     "output_type": "stream",
     "text": [
      "total num of pts: tensor([35475.])\n",
      "{'redshifts/mse': 0.2776359021663666}\n"
     ]
    },
    {
     "name": "stderr",
     "output_type": "stream",
     "text": [
      " 48%|████▊     | 184/383 [8:35:24<9:07:57, 165.21s/it]"
     ]
    },
    {
     "name": "stdout",
     "output_type": "stream",
     "text": [
      "total num of pts: tensor([35684.])\n",
      "{'redshifts/mse': 0.27794528007507324}\n"
     ]
    },
    {
     "name": "stderr",
     "output_type": "stream",
     "text": [
      " 48%|████▊     | 185/383 [8:38:01<8:57:02, 162.74s/it]"
     ]
    },
    {
     "name": "stdout",
     "output_type": "stream",
     "text": [
      "total num of pts: tensor([35898.])\n",
      "{'redshifts/mse': 0.27842745184898376}\n"
     ]
    },
    {
     "name": "stderr",
     "output_type": "stream",
     "text": [
      " 49%|████▊     | 186/383 [8:40:43<8:53:31, 162.49s/it]"
     ]
    },
    {
     "name": "stdout",
     "output_type": "stream",
     "text": [
      "total num of pts: tensor([36112.])\n",
      "{'redshifts/mse': 0.2783653736114502}\n"
     ]
    },
    {
     "name": "stderr",
     "output_type": "stream",
     "text": [
      " 49%|████▉     | 187/383 [8:43:24<8:49:31, 162.10s/it]"
     ]
    },
    {
     "name": "stdout",
     "output_type": "stream",
     "text": [
      "total num of pts: tensor([36322.])\n",
      "{'redshifts/mse': 0.27874600887298584}\n"
     ]
    },
    {
     "name": "stderr",
     "output_type": "stream",
     "text": [
      " 49%|████▉     | 188/383 [8:46:10<8:50:19, 163.18s/it]"
     ]
    },
    {
     "name": "stdout",
     "output_type": "stream",
     "text": [
      "total num of pts: tensor([36524.])\n",
      "{'redshifts/mse': 0.2787007689476013}\n"
     ]
    },
    {
     "name": "stderr",
     "output_type": "stream",
     "text": [
      " 49%|████▉     | 189/383 [8:48:47<8:41:40, 161.34s/it]"
     ]
    },
    {
     "name": "stdout",
     "output_type": "stream",
     "text": [
      "total num of pts: tensor([36707.])\n",
      "{'redshifts/mse': 0.27902624011039734}\n"
     ]
    },
    {
     "name": "stderr",
     "output_type": "stream",
     "text": [
      " 50%|████▉     | 190/383 [8:51:23<8:33:21, 159.59s/it]"
     ]
    },
    {
     "name": "stdout",
     "output_type": "stream",
     "text": [
      "total num of pts: tensor([36889.])\n",
      "{'redshifts/mse': 0.27914342284202576}\n"
     ]
    },
    {
     "name": "stderr",
     "output_type": "stream",
     "text": [
      " 50%|████▉     | 191/383 [8:53:56<8:24:51, 157.77s/it]"
     ]
    },
    {
     "name": "stdout",
     "output_type": "stream",
     "text": [
      "total num of pts: tensor([37066.])\n",
      "{'redshifts/mse': 0.2793019413948059}\n"
     ]
    },
    {
     "name": "stderr",
     "output_type": "stream",
     "text": [
      " 50%|█████     | 192/383 [8:56:33<8:20:59, 157.38s/it]"
     ]
    },
    {
     "name": "stdout",
     "output_type": "stream",
     "text": [
      "total num of pts: tensor([37252.])\n",
      "{'redshifts/mse': 0.2793755531311035}\n"
     ]
    },
    {
     "name": "stderr",
     "output_type": "stream",
     "text": [
      " 50%|█████     | 193/383 [8:59:13<8:21:20, 158.32s/it]"
     ]
    },
    {
     "name": "stdout",
     "output_type": "stream",
     "text": [
      "total num of pts: tensor([37436.])\n",
      "{'redshifts/mse': 0.2794560492038727}\n"
     ]
    },
    {
     "name": "stderr",
     "output_type": "stream",
     "text": [
      " 51%|█████     | 194/383 [9:02:03<8:29:52, 161.87s/it]"
     ]
    },
    {
     "name": "stdout",
     "output_type": "stream",
     "text": [
      "total num of pts: tensor([37636.])\n",
      "{'redshifts/mse': 0.2794688940048218}\n"
     ]
    },
    {
     "name": "stderr",
     "output_type": "stream",
     "text": [
      " 51%|█████     | 195/383 [9:04:45<8:26:56, 161.79s/it]"
     ]
    },
    {
     "name": "stdout",
     "output_type": "stream",
     "text": [
      "total num of pts: tensor([37850.])\n",
      "{'redshifts/mse': 0.2795233726501465}\n"
     ]
    },
    {
     "name": "stderr",
     "output_type": "stream",
     "text": [
      " 51%|█████     | 196/383 [9:07:31<8:28:44, 163.23s/it]"
     ]
    },
    {
     "name": "stdout",
     "output_type": "stream",
     "text": [
      "total num of pts: tensor([38056.])\n",
      "{'redshifts/mse': 0.27924251556396484}\n"
     ]
    },
    {
     "name": "stderr",
     "output_type": "stream",
     "text": [
      " 51%|█████▏    | 197/383 [9:10:15<8:26:27, 163.37s/it]"
     ]
    },
    {
     "name": "stdout",
     "output_type": "stream",
     "text": [
      "total num of pts: tensor([38238.])\n",
      "{'redshifts/mse': 0.2790345251560211}\n"
     ]
    },
    {
     "name": "stderr",
     "output_type": "stream",
     "text": [
      " 52%|█████▏    | 198/383 [9:12:57<8:22:00, 162.81s/it]"
     ]
    },
    {
     "name": "stdout",
     "output_type": "stream",
     "text": [
      "total num of pts: tensor([38440.])\n",
      "{'redshifts/mse': 0.2791990637779236}\n"
     ]
    },
    {
     "name": "stderr",
     "output_type": "stream",
     "text": [
      " 52%|█████▏    | 199/383 [9:15:45<8:24:39, 164.56s/it]"
     ]
    },
    {
     "name": "stdout",
     "output_type": "stream",
     "text": [
      "total num of pts: tensor([38608.])\n",
      "{'redshifts/mse': 0.27913007140159607}\n"
     ]
    },
    {
     "name": "stderr",
     "output_type": "stream",
     "text": [
      " 52%|█████▏    | 200/383 [9:18:48<8:38:43, 170.07s/it]"
     ]
    },
    {
     "name": "stdout",
     "output_type": "stream",
     "text": [
      "total num of pts: tensor([38820.])\n",
      "{'redshifts/mse': 0.2793092727661133}\n"
     ]
    },
    {
     "name": "stderr",
     "output_type": "stream",
     "text": [
      " 52%|█████▏    | 201/383 [9:21:31<8:29:40, 168.02s/it]"
     ]
    },
    {
     "name": "stdout",
     "output_type": "stream",
     "text": [
      "total num of pts: tensor([39029.])\n",
      "{'redshifts/mse': 0.2788919508457184}\n"
     ]
    },
    {
     "name": "stderr",
     "output_type": "stream",
     "text": [
      " 53%|█████▎    | 202/383 [9:24:09<8:17:02, 164.77s/it]"
     ]
    },
    {
     "name": "stdout",
     "output_type": "stream",
     "text": [
      "total num of pts: tensor([39219.])\n",
      "{'redshifts/mse': 0.2791582942008972}\n"
     ]
    },
    {
     "name": "stderr",
     "output_type": "stream",
     "text": [
      " 53%|█████▎    | 203/383 [9:26:48<8:09:44, 163.25s/it]"
     ]
    },
    {
     "name": "stdout",
     "output_type": "stream",
     "text": [
      "total num of pts: tensor([39419.])\n",
      "{'redshifts/mse': 0.2791384160518646}\n"
     ]
    },
    {
     "name": "stderr",
     "output_type": "stream",
     "text": [
      " 53%|█████▎    | 204/383 [9:29:26<8:02:11, 161.63s/it]"
     ]
    },
    {
     "name": "stdout",
     "output_type": "stream",
     "text": [
      "total num of pts: tensor([39622.])\n",
      "{'redshifts/mse': 0.2792584002017975}\n"
     ]
    },
    {
     "name": "stderr",
     "output_type": "stream",
     "text": [
      " 54%|█████▎    | 205/383 [9:32:07<7:58:25, 161.26s/it]"
     ]
    },
    {
     "name": "stdout",
     "output_type": "stream",
     "text": [
      "total num of pts: tensor([39797.])\n",
      "{'redshifts/mse': 0.27913469076156616}\n"
     ]
    },
    {
     "name": "stderr",
     "output_type": "stream",
     "text": [
      " 54%|█████▍    | 206/383 [9:34:44<7:52:23, 160.13s/it]"
     ]
    },
    {
     "name": "stdout",
     "output_type": "stream",
     "text": [
      "total num of pts: tensor([39981.])\n",
      "{'redshifts/mse': 0.27928367257118225}\n"
     ]
    },
    {
     "name": "stderr",
     "output_type": "stream",
     "text": [
      " 54%|█████▍    | 207/383 [9:37:34<7:58:23, 163.09s/it]"
     ]
    },
    {
     "name": "stdout",
     "output_type": "stream",
     "text": [
      "total num of pts: tensor([40159.])\n",
      "{'redshifts/mse': 0.2797401547431946}\n"
     ]
    },
    {
     "name": "stderr",
     "output_type": "stream",
     "text": [
      " 54%|█████▍    | 208/383 [9:40:28<8:04:46, 166.21s/it]"
     ]
    },
    {
     "name": "stdout",
     "output_type": "stream",
     "text": [
      "total num of pts: tensor([40354.])\n",
      "{'redshifts/mse': 0.2798706889152527}\n"
     ]
    },
    {
     "name": "stderr",
     "output_type": "stream",
     "text": [
      " 55%|█████▍    | 209/383 [9:43:22<8:08:47, 168.55s/it]"
     ]
    },
    {
     "name": "stdout",
     "output_type": "stream",
     "text": [
      "total num of pts: tensor([40526.])\n",
      "{'redshifts/mse': 0.2798321843147278}\n"
     ]
    },
    {
     "name": "stderr",
     "output_type": "stream",
     "text": [
      " 55%|█████▍    | 210/383 [9:46:04<8:00:45, 166.74s/it]"
     ]
    },
    {
     "name": "stdout",
     "output_type": "stream",
     "text": [
      "total num of pts: tensor([40705.])\n",
      "{'redshifts/mse': 0.28043144941329956}\n"
     ]
    },
    {
     "name": "stderr",
     "output_type": "stream",
     "text": [
      " 55%|█████▌    | 211/383 [9:48:52<7:58:36, 166.96s/it]"
     ]
    },
    {
     "name": "stdout",
     "output_type": "stream",
     "text": [
      "total num of pts: tensor([40919.])\n",
      "{'redshifts/mse': 0.28044095635414124}\n"
     ]
    },
    {
     "name": "stderr",
     "output_type": "stream",
     "text": [
      " 55%|█████▌    | 212/383 [9:51:34<7:51:58, 165.61s/it]"
     ]
    },
    {
     "name": "stdout",
     "output_type": "stream",
     "text": [
      "total num of pts: tensor([41131.])\n",
      "{'redshifts/mse': 0.2807062566280365}\n"
     ]
    },
    {
     "name": "stderr",
     "output_type": "stream",
     "text": [
      " 56%|█████▌    | 213/383 [9:54:17<7:47:10, 164.88s/it]"
     ]
    },
    {
     "name": "stdout",
     "output_type": "stream",
     "text": [
      "total num of pts: tensor([41324.])\n",
      "{'redshifts/mse': 0.2808399200439453}\n"
     ]
    },
    {
     "name": "stderr",
     "output_type": "stream",
     "text": [
      " 56%|█████▌    | 214/383 [9:56:56<7:39:10, 163.02s/it]"
     ]
    },
    {
     "name": "stdout",
     "output_type": "stream",
     "text": [
      "total num of pts: tensor([41510.])\n",
      "{'redshifts/mse': 0.28068336844444275}\n"
     ]
    },
    {
     "name": "stderr",
     "output_type": "stream",
     "text": [
      " 56%|█████▌    | 215/383 [9:59:34<7:32:36, 161.65s/it]"
     ]
    },
    {
     "name": "stdout",
     "output_type": "stream",
     "text": [
      "total num of pts: tensor([41705.])\n",
      "{'redshifts/mse': 0.28094589710235596}\n"
     ]
    },
    {
     "name": "stderr",
     "output_type": "stream",
     "text": [
      " 56%|█████▋    | 216/383 [10:02:08<7:22:58, 159.15s/it]"
     ]
    },
    {
     "name": "stdout",
     "output_type": "stream",
     "text": [
      "total num of pts: tensor([41900.])\n",
      "{'redshifts/mse': 0.28107452392578125}\n"
     ]
    },
    {
     "name": "stderr",
     "output_type": "stream",
     "text": [
      " 57%|█████▋    | 217/383 [10:04:58<7:29:54, 162.62s/it]"
     ]
    },
    {
     "name": "stdout",
     "output_type": "stream",
     "text": [
      "total num of pts: tensor([42106.])\n",
      "{'redshifts/mse': 0.28156688809394836}\n"
     ]
    },
    {
     "name": "stderr",
     "output_type": "stream",
     "text": [
      " 57%|█████▋    | 218/383 [10:07:41<7:27:35, 162.76s/it]"
     ]
    },
    {
     "name": "stdout",
     "output_type": "stream",
     "text": [
      "total num of pts: tensor([42306.])\n",
      "{'redshifts/mse': 0.2816145122051239}\n"
     ]
    },
    {
     "name": "stderr",
     "output_type": "stream",
     "text": [
      " 57%|█████▋    | 219/383 [10:10:14<7:16:38, 159.74s/it]"
     ]
    },
    {
     "name": "stdout",
     "output_type": "stream",
     "text": [
      "total num of pts: tensor([42518.])\n",
      "{'redshifts/mse': 0.28143319487571716}\n"
     ]
    },
    {
     "name": "stderr",
     "output_type": "stream",
     "text": [
      " 57%|█████▋    | 220/383 [10:12:51<7:11:22, 158.79s/it]"
     ]
    },
    {
     "name": "stdout",
     "output_type": "stream",
     "text": [
      "total num of pts: tensor([42713.])\n",
      "{'redshifts/mse': 0.28130054473876953}\n"
     ]
    },
    {
     "name": "stderr",
     "output_type": "stream",
     "text": [
      " 58%|█████▊    | 221/383 [10:15:32<7:10:30, 159.45s/it]"
     ]
    },
    {
     "name": "stdout",
     "output_type": "stream",
     "text": [
      "total num of pts: tensor([42916.])\n",
      "{'redshifts/mse': 0.28097638487815857}\n"
     ]
    },
    {
     "name": "stderr",
     "output_type": "stream",
     "text": [
      " 58%|█████▊    | 222/383 [10:18:25<7:18:50, 163.55s/it]"
     ]
    },
    {
     "name": "stdout",
     "output_type": "stream",
     "text": [
      "total num of pts: tensor([43106.])\n",
      "{'redshifts/mse': 0.2807941138744354}\n"
     ]
    },
    {
     "name": "stderr",
     "output_type": "stream",
     "text": [
      " 58%|█████▊    | 223/383 [10:21:10<7:17:24, 164.03s/it]"
     ]
    },
    {
     "name": "stdout",
     "output_type": "stream",
     "text": [
      "total num of pts: tensor([43315.])\n",
      "{'redshifts/mse': 0.2808741331100464}\n"
     ]
    },
    {
     "name": "stderr",
     "output_type": "stream",
     "text": [
      " 58%|█████▊    | 224/383 [10:23:53<7:13:51, 163.72s/it]"
     ]
    },
    {
     "name": "stdout",
     "output_type": "stream",
     "text": [
      "total num of pts: tensor([43497.])\n",
      "{'redshifts/mse': 0.28110814094543457}\n"
     ]
    },
    {
     "name": "stderr",
     "output_type": "stream",
     "text": [
      " 59%|█████▊    | 225/383 [10:26:41<7:14:16, 164.91s/it]"
     ]
    },
    {
     "name": "stdout",
     "output_type": "stream",
     "text": [
      "total num of pts: tensor([43678.])\n",
      "{'redshifts/mse': 0.2814843952655792}\n"
     ]
    },
    {
     "name": "stderr",
     "output_type": "stream",
     "text": [
      " 59%|█████▉    | 226/383 [10:29:19<7:06:21, 162.94s/it]"
     ]
    },
    {
     "name": "stdout",
     "output_type": "stream",
     "text": [
      "total num of pts: tensor([43874.])\n",
      "{'redshifts/mse': 0.28120169043540955}\n"
     ]
    },
    {
     "name": "stderr",
     "output_type": "stream",
     "text": [
      " 59%|█████▉    | 227/383 [10:32:06<7:06:26, 164.02s/it]"
     ]
    },
    {
     "name": "stdout",
     "output_type": "stream",
     "text": [
      "total num of pts: tensor([44071.])\n",
      "{'redshifts/mse': 0.2811962068080902}\n"
     ]
    },
    {
     "name": "stderr",
     "output_type": "stream",
     "text": [
      " 60%|█████▉    | 228/383 [10:34:43<6:58:31, 162.01s/it]"
     ]
    },
    {
     "name": "stdout",
     "output_type": "stream",
     "text": [
      "total num of pts: tensor([44273.])\n",
      "{'redshifts/mse': 0.2808944284915924}\n"
     ]
    },
    {
     "name": "stderr",
     "output_type": "stream",
     "text": [
      " 60%|█████▉    | 229/383 [10:37:27<6:57:39, 162.72s/it]"
     ]
    },
    {
     "name": "stdout",
     "output_type": "stream",
     "text": [
      "total num of pts: tensor([44456.])\n",
      "{'redshifts/mse': 0.2810107469558716}\n"
     ]
    },
    {
     "name": "stderr",
     "output_type": "stream",
     "text": [
      " 60%|██████    | 230/383 [10:40:02<6:48:41, 160.27s/it]"
     ]
    },
    {
     "name": "stdout",
     "output_type": "stream",
     "text": [
      "total num of pts: tensor([44651.])\n",
      "{'redshifts/mse': 0.2815176248550415}\n"
     ]
    },
    {
     "name": "stderr",
     "output_type": "stream",
     "text": [
      " 60%|██████    | 231/383 [10:42:41<6:45:33, 160.09s/it]"
     ]
    },
    {
     "name": "stdout",
     "output_type": "stream",
     "text": [
      "total num of pts: tensor([44867.])\n",
      "{'redshifts/mse': 0.28165826201438904}\n"
     ]
    },
    {
     "name": "stderr",
     "output_type": "stream",
     "text": [
      " 61%|██████    | 232/383 [10:45:20<6:41:51, 159.68s/it]"
     ]
    },
    {
     "name": "stdout",
     "output_type": "stream",
     "text": [
      "total num of pts: tensor([45058.])\n",
      "{'redshifts/mse': 0.2817554771900177}\n"
     ]
    },
    {
     "name": "stderr",
     "output_type": "stream",
     "text": [
      " 61%|██████    | 233/383 [10:48:00<6:39:16, 159.71s/it]"
     ]
    },
    {
     "name": "stdout",
     "output_type": "stream",
     "text": [
      "total num of pts: tensor([45260.])\n",
      "{'redshifts/mse': 0.28189176321029663}\n"
     ]
    },
    {
     "name": "stderr",
     "output_type": "stream",
     "text": [
      " 61%|██████    | 234/383 [10:50:38<6:35:18, 159.18s/it]"
     ]
    },
    {
     "name": "stdout",
     "output_type": "stream",
     "text": [
      "total num of pts: tensor([45458.])\n",
      "{'redshifts/mse': 0.28215646743774414}\n"
     ]
    },
    {
     "name": "stderr",
     "output_type": "stream",
     "text": [
      " 61%|██████▏   | 235/383 [10:53:08<6:25:44, 156.38s/it]"
     ]
    },
    {
     "name": "stdout",
     "output_type": "stream",
     "text": [
      "total num of pts: tensor([45645.])\n",
      "{'redshifts/mse': 0.28218093514442444}\n"
     ]
    },
    {
     "name": "stderr",
     "output_type": "stream",
     "text": [
      " 62%|██████▏   | 236/383 [10:55:48<6:25:52, 157.50s/it]"
     ]
    },
    {
     "name": "stdout",
     "output_type": "stream",
     "text": [
      "total num of pts: tensor([45816.])\n",
      "{'redshifts/mse': 0.2825356423854828}\n"
     ]
    },
    {
     "name": "stderr",
     "output_type": "stream",
     "text": [
      " 62%|██████▏   | 237/383 [10:58:30<6:26:29, 158.83s/it]"
     ]
    },
    {
     "name": "stdout",
     "output_type": "stream",
     "text": [
      "total num of pts: tensor([46019.])\n",
      "{'redshifts/mse': 0.2828160226345062}\n"
     ]
    },
    {
     "name": "stderr",
     "output_type": "stream",
     "text": [
      " 62%|██████▏   | 238/383 [11:01:09<6:24:02, 158.91s/it]"
     ]
    },
    {
     "name": "stdout",
     "output_type": "stream",
     "text": [
      "total num of pts: tensor([46224.])\n",
      "{'redshifts/mse': 0.2826530635356903}\n"
     ]
    },
    {
     "name": "stderr",
     "output_type": "stream",
     "text": [
      " 62%|██████▏   | 239/383 [11:03:49<6:22:21, 159.32s/it]"
     ]
    },
    {
     "name": "stdout",
     "output_type": "stream",
     "text": [
      "total num of pts: tensor([46439.])\n",
      "{'redshifts/mse': 0.2827703654766083}\n"
     ]
    },
    {
     "name": "stderr",
     "output_type": "stream",
     "text": [
      " 63%|██████▎   | 240/383 [11:06:27<6:18:25, 158.78s/it]"
     ]
    },
    {
     "name": "stdout",
     "output_type": "stream",
     "text": [
      "total num of pts: tensor([46641.])\n",
      "{'redshifts/mse': 0.28265973925590515}\n"
     ]
    },
    {
     "name": "stderr",
     "output_type": "stream",
     "text": [
      " 63%|██████▎   | 241/383 [11:09:04<6:14:32, 158.26s/it]"
     ]
    },
    {
     "name": "stdout",
     "output_type": "stream",
     "text": [
      "total num of pts: tensor([46834.])\n",
      "{'redshifts/mse': 0.2826167345046997}\n"
     ]
    },
    {
     "name": "stderr",
     "output_type": "stream",
     "text": [
      " 63%|██████▎   | 242/383 [11:11:40<6:10:26, 157.63s/it]"
     ]
    },
    {
     "name": "stdout",
     "output_type": "stream",
     "text": [
      "total num of pts: tensor([47016.])\n",
      "{'redshifts/mse': 0.2824993133544922}\n"
     ]
    },
    {
     "name": "stderr",
     "output_type": "stream",
     "text": [
      " 63%|██████▎   | 243/383 [11:14:15<6:05:54, 156.82s/it]"
     ]
    },
    {
     "name": "stdout",
     "output_type": "stream",
     "text": [
      "total num of pts: tensor([47226.])\n",
      "{'redshifts/mse': 0.2824075520038605}\n"
     ]
    },
    {
     "name": "stderr",
     "output_type": "stream",
     "text": [
      " 64%|██████▎   | 244/383 [11:16:51<6:03:00, 156.70s/it]"
     ]
    },
    {
     "name": "stdout",
     "output_type": "stream",
     "text": [
      "total num of pts: tensor([47430.])\n",
      "{'redshifts/mse': 0.28209277987480164}\n"
     ]
    },
    {
     "name": "stderr",
     "output_type": "stream",
     "text": [
      " 64%|██████▍   | 245/383 [11:19:29<6:01:18, 157.09s/it]"
     ]
    },
    {
     "name": "stdout",
     "output_type": "stream",
     "text": [
      "total num of pts: tensor([47621.])\n",
      "{'redshifts/mse': 0.2817919850349426}\n"
     ]
    },
    {
     "name": "stderr",
     "output_type": "stream",
     "text": [
      " 64%|██████▍   | 246/383 [11:22:01<5:54:45, 155.37s/it]"
     ]
    },
    {
     "name": "stdout",
     "output_type": "stream",
     "text": [
      "total num of pts: tensor([47800.])\n",
      "{'redshifts/mse': 0.28198447823524475}\n"
     ]
    },
    {
     "name": "stderr",
     "output_type": "stream",
     "text": [
      " 64%|██████▍   | 247/383 [11:24:37<5:52:58, 155.72s/it]"
     ]
    },
    {
     "name": "stdout",
     "output_type": "stream",
     "text": [
      "total num of pts: tensor([48003.])\n",
      "{'redshifts/mse': 0.28202635049819946}\n"
     ]
    },
    {
     "name": "stderr",
     "output_type": "stream",
     "text": [
      " 65%|██████▍   | 248/383 [11:27:18<5:53:54, 157.29s/it]"
     ]
    },
    {
     "name": "stdout",
     "output_type": "stream",
     "text": [
      "total num of pts: tensor([48200.])\n",
      "{'redshifts/mse': 0.28187480568885803}\n"
     ]
    },
    {
     "name": "stderr",
     "output_type": "stream",
     "text": [
      " 65%|██████▌   | 249/383 [11:29:56<5:51:39, 157.46s/it]"
     ]
    },
    {
     "name": "stdout",
     "output_type": "stream",
     "text": [
      "total num of pts: tensor([48380.])\n",
      "{'redshifts/mse': 0.281570166349411}\n"
     ]
    },
    {
     "name": "stderr",
     "output_type": "stream",
     "text": [
      " 65%|██████▌   | 250/383 [11:32:34<5:49:26, 157.64s/it]"
     ]
    },
    {
     "name": "stdout",
     "output_type": "stream",
     "text": [
      "total num of pts: tensor([48580.])\n",
      "{'redshifts/mse': 0.2816677391529083}\n"
     ]
    },
    {
     "name": "stderr",
     "output_type": "stream",
     "text": [
      " 66%|██████▌   | 251/383 [11:35:13<5:47:56, 158.15s/it]"
     ]
    },
    {
     "name": "stdout",
     "output_type": "stream",
     "text": [
      "total num of pts: tensor([48776.])\n",
      "{'redshifts/mse': 0.28130286931991577}\n"
     ]
    },
    {
     "name": "stderr",
     "output_type": "stream",
     "text": [
      " 66%|██████▌   | 252/383 [11:37:51<5:44:58, 158.01s/it]"
     ]
    },
    {
     "name": "stdout",
     "output_type": "stream",
     "text": [
      "total num of pts: tensor([48962.])\n",
      "{'redshifts/mse': 0.28156667947769165}\n"
     ]
    },
    {
     "name": "stderr",
     "output_type": "stream",
     "text": [
      " 66%|██████▌   | 253/383 [11:40:25<5:39:42, 156.79s/it]"
     ]
    },
    {
     "name": "stdout",
     "output_type": "stream",
     "text": [
      "total num of pts: tensor([49149.])\n",
      "{'redshifts/mse': 0.28192710876464844}\n"
     ]
    },
    {
     "name": "stderr",
     "output_type": "stream",
     "text": [
      " 66%|██████▋   | 254/383 [11:43:05<5:39:04, 157.71s/it]"
     ]
    },
    {
     "name": "stdout",
     "output_type": "stream",
     "text": [
      "total num of pts: tensor([49351.])\n",
      "{'redshifts/mse': 0.2816864848136902}\n"
     ]
    },
    {
     "name": "stderr",
     "output_type": "stream",
     "text": [
      " 67%|██████▋   | 255/383 [11:45:37<5:32:56, 156.07s/it]"
     ]
    },
    {
     "name": "stdout",
     "output_type": "stream",
     "text": [
      "total num of pts: tensor([49535.])\n",
      "{'redshifts/mse': 0.282036155462265}\n"
     ]
    },
    {
     "name": "stderr",
     "output_type": "stream",
     "text": [
      " 67%|██████▋   | 256/383 [11:48:08<5:27:08, 154.56s/it]"
     ]
    },
    {
     "name": "stdout",
     "output_type": "stream",
     "text": [
      "total num of pts: tensor([49736.])\n",
      "{'redshifts/mse': 0.2821928560733795}\n"
     ]
    },
    {
     "name": "stderr",
     "output_type": "stream",
     "text": [
      " 67%|██████▋   | 257/383 [11:50:45<5:25:47, 155.14s/it]"
     ]
    },
    {
     "name": "stdout",
     "output_type": "stream",
     "text": [
      "total num of pts: tensor([49945.])\n",
      "{'redshifts/mse': 0.2820329964160919}\n"
     ]
    },
    {
     "name": "stderr",
     "output_type": "stream",
     "text": [
      " 67%|██████▋   | 258/383 [11:53:22<5:24:34, 155.80s/it]"
     ]
    },
    {
     "name": "stdout",
     "output_type": "stream",
     "text": [
      "total num of pts: tensor([50157.])\n",
      "{'redshifts/mse': 0.2817539870738983}\n"
     ]
    },
    {
     "name": "stderr",
     "output_type": "stream",
     "text": [
      " 68%|██████▊   | 259/383 [11:55:50<5:17:18, 153.53s/it]"
     ]
    },
    {
     "name": "stdout",
     "output_type": "stream",
     "text": [
      "total num of pts: tensor([50344.])\n",
      "{'redshifts/mse': 0.28167638182640076}\n"
     ]
    },
    {
     "name": "stderr",
     "output_type": "stream",
     "text": [
      " 68%|██████▊   | 260/383 [11:58:26<5:15:58, 154.14s/it]"
     ]
    },
    {
     "name": "stdout",
     "output_type": "stream",
     "text": [
      "total num of pts: tensor([50505.])\n",
      "{'redshifts/mse': 0.2815144658088684}\n"
     ]
    },
    {
     "name": "stderr",
     "output_type": "stream",
     "text": [
      " 68%|██████▊   | 261/383 [12:01:03<5:15:35, 155.21s/it]"
     ]
    },
    {
     "name": "stdout",
     "output_type": "stream",
     "text": [
      "total num of pts: tensor([50703.])\n",
      "{'redshifts/mse': 0.28191089630126953}\n"
     ]
    },
    {
     "name": "stderr",
     "output_type": "stream",
     "text": [
      " 68%|██████▊   | 262/383 [12:03:30<5:07:57, 152.70s/it]"
     ]
    },
    {
     "name": "stdout",
     "output_type": "stream",
     "text": [
      "total num of pts: tensor([50913.])\n",
      "{'redshifts/mse': 0.2822813391685486}\n"
     ]
    },
    {
     "name": "stderr",
     "output_type": "stream",
     "text": [
      " 69%|██████▊   | 263/383 [12:06:06<5:07:02, 153.52s/it]"
     ]
    },
    {
     "name": "stdout",
     "output_type": "stream",
     "text": [
      "total num of pts: tensor([51089.])\n",
      "{'redshifts/mse': 0.28225743770599365}\n"
     ]
    },
    {
     "name": "stderr",
     "output_type": "stream",
     "text": [
      " 69%|██████▉   | 264/383 [12:08:37<5:02:53, 152.72s/it]"
     ]
    },
    {
     "name": "stdout",
     "output_type": "stream",
     "text": [
      "total num of pts: tensor([51279.])\n",
      "{'redshifts/mse': 0.2824348211288452}\n"
     ]
    },
    {
     "name": "stderr",
     "output_type": "stream",
     "text": [
      " 69%|██████▉   | 265/383 [12:11:12<5:01:43, 153.42s/it]"
     ]
    },
    {
     "name": "stdout",
     "output_type": "stream",
     "text": [
      "total num of pts: tensor([51471.])\n",
      "{'redshifts/mse': 0.28258368372917175}\n"
     ]
    },
    {
     "name": "stderr",
     "output_type": "stream",
     "text": [
      " 69%|██████▉   | 266/383 [12:13:42<4:57:13, 152.42s/it]"
     ]
    },
    {
     "name": "stdout",
     "output_type": "stream",
     "text": [
      "total num of pts: tensor([51669.])\n",
      "{'redshifts/mse': 0.28248369693756104}\n"
     ]
    },
    {
     "name": "stderr",
     "output_type": "stream",
     "text": [
      " 70%|██████▉   | 267/383 [12:16:15<4:55:06, 152.64s/it]"
     ]
    },
    {
     "name": "stdout",
     "output_type": "stream",
     "text": [
      "total num of pts: tensor([51859.])\n",
      "{'redshifts/mse': 0.28224122524261475}\n"
     ]
    },
    {
     "name": "stderr",
     "output_type": "stream",
     "text": [
      " 70%|██████▉   | 268/383 [12:18:49<4:53:15, 153.01s/it]"
     ]
    },
    {
     "name": "stdout",
     "output_type": "stream",
     "text": [
      "total num of pts: tensor([52071.])\n",
      "{'redshifts/mse': 0.2822440564632416}\n"
     ]
    },
    {
     "name": "stderr",
     "output_type": "stream",
     "text": [
      " 70%|███████   | 269/383 [12:21:23<4:51:37, 153.49s/it]"
     ]
    },
    {
     "name": "stdout",
     "output_type": "stream",
     "text": [
      "total num of pts: tensor([52272.])\n",
      "{'redshifts/mse': 0.28257784247398376}\n"
     ]
    },
    {
     "name": "stderr",
     "output_type": "stream",
     "text": [
      " 70%|███████   | 270/383 [12:23:56<4:48:38, 153.26s/it]"
     ]
    },
    {
     "name": "stdout",
     "output_type": "stream",
     "text": [
      "total num of pts: tensor([52449.])\n",
      "{'redshifts/mse': 0.282272607088089}\n"
     ]
    },
    {
     "name": "stderr",
     "output_type": "stream",
     "text": [
      " 71%|███████   | 271/383 [12:26:31<4:46:47, 153.64s/it]"
     ]
    },
    {
     "name": "stdout",
     "output_type": "stream",
     "text": [
      "total num of pts: tensor([52661.])\n",
      "{'redshifts/mse': 0.28218671679496765}\n"
     ]
    },
    {
     "name": "stderr",
     "output_type": "stream",
     "text": [
      " 71%|███████   | 272/383 [12:28:56<4:39:26, 151.05s/it]"
     ]
    },
    {
     "name": "stdout",
     "output_type": "stream",
     "text": [
      "total num of pts: tensor([52857.])\n",
      "{'redshifts/mse': 0.2820563316345215}\n"
     ]
    },
    {
     "name": "stderr",
     "output_type": "stream",
     "text": [
      " 71%|███████▏  | 273/383 [12:31:30<4:39:02, 152.21s/it]"
     ]
    },
    {
     "name": "stdout",
     "output_type": "stream",
     "text": [
      "total num of pts: tensor([53073.])\n",
      "{'redshifts/mse': 0.2823679447174072}\n"
     ]
    },
    {
     "name": "stderr",
     "output_type": "stream",
     "text": [
      " 72%|███████▏  | 274/383 [12:34:02<4:36:23, 152.15s/it]"
     ]
    },
    {
     "name": "stdout",
     "output_type": "stream",
     "text": [
      "total num of pts: tensor([53270.])\n",
      "{'redshifts/mse': 0.2824800908565521}\n"
     ]
    },
    {
     "name": "stderr",
     "output_type": "stream",
     "text": [
      " 72%|███████▏  | 275/383 [12:36:36<4:34:41, 152.60s/it]"
     ]
    },
    {
     "name": "stdout",
     "output_type": "stream",
     "text": [
      "total num of pts: tensor([53436.])\n",
      "{'redshifts/mse': 0.28233620524406433}\n"
     ]
    },
    {
     "name": "stderr",
     "output_type": "stream",
     "text": [
      " 72%|███████▏  | 276/383 [12:39:14<4:35:04, 154.24s/it]"
     ]
    },
    {
     "name": "stdout",
     "output_type": "stream",
     "text": [
      "total num of pts: tensor([53639.])\n",
      "{'redshifts/mse': 0.2823083698749542}\n"
     ]
    },
    {
     "name": "stderr",
     "output_type": "stream",
     "text": [
      " 72%|███████▏  | 277/383 [12:41:50<4:33:33, 154.84s/it]"
     ]
    },
    {
     "name": "stdout",
     "output_type": "stream",
     "text": [
      "total num of pts: tensor([53842.])\n",
      "{'redshifts/mse': 0.2824001610279083}\n"
     ]
    },
    {
     "name": "stderr",
     "output_type": "stream",
     "text": [
      " 73%|███████▎  | 278/383 [12:44:26<4:31:34, 155.19s/it]"
     ]
    },
    {
     "name": "stdout",
     "output_type": "stream",
     "text": [
      "total num of pts: tensor([54026.])\n",
      "{'redshifts/mse': 0.2830885648727417}\n"
     ]
    },
    {
     "name": "stderr",
     "output_type": "stream",
     "text": [
      " 73%|███████▎  | 279/383 [12:47:02<4:29:04, 155.23s/it]"
     ]
    },
    {
     "name": "stdout",
     "output_type": "stream",
     "text": [
      "total num of pts: tensor([54214.])\n",
      "{'redshifts/mse': 0.2832166254520416}\n"
     ]
    },
    {
     "name": "stderr",
     "output_type": "stream",
     "text": [
      " 73%|███████▎  | 280/383 [12:49:39<4:27:26, 155.79s/it]"
     ]
    },
    {
     "name": "stdout",
     "output_type": "stream",
     "text": [
      "total num of pts: tensor([54399.])\n",
      "{'redshifts/mse': 0.2833171486854553}\n"
     ]
    },
    {
     "name": "stderr",
     "output_type": "stream",
     "text": [
      " 73%|███████▎  | 281/383 [12:52:15<4:24:57, 155.86s/it]"
     ]
    },
    {
     "name": "stdout",
     "output_type": "stream",
     "text": [
      "total num of pts: tensor([54591.])\n",
      "{'redshifts/mse': 0.28351685404777527}\n"
     ]
    },
    {
     "name": "stderr",
     "output_type": "stream",
     "text": [
      " 74%|███████▎  | 282/383 [12:54:50<4:21:43, 155.48s/it]"
     ]
    },
    {
     "name": "stdout",
     "output_type": "stream",
     "text": [
      "total num of pts: tensor([54775.])\n",
      "{'redshifts/mse': 0.28328800201416016}\n"
     ]
    },
    {
     "name": "stderr",
     "output_type": "stream",
     "text": [
      " 74%|███████▍  | 283/383 [12:57:22<4:17:31, 154.52s/it]"
     ]
    },
    {
     "name": "stdout",
     "output_type": "stream",
     "text": [
      "total num of pts: tensor([54975.])\n",
      "{'redshifts/mse': 0.28328752517700195}\n"
     ]
    },
    {
     "name": "stderr",
     "output_type": "stream",
     "text": [
      " 74%|███████▍  | 284/383 [12:59:52<4:12:46, 153.20s/it]"
     ]
    },
    {
     "name": "stdout",
     "output_type": "stream",
     "text": [
      "total num of pts: tensor([55159.])\n",
      "{'redshifts/mse': 0.28346583247184753}\n"
     ]
    },
    {
     "name": "stderr",
     "output_type": "stream",
     "text": [
      " 74%|███████▍  | 285/383 [13:02:27<4:11:09, 153.77s/it]"
     ]
    },
    {
     "name": "stdout",
     "output_type": "stream",
     "text": [
      "total num of pts: tensor([55338.])\n",
      "{'redshifts/mse': 0.28378617763519287}\n"
     ]
    },
    {
     "name": "stderr",
     "output_type": "stream",
     "text": [
      " 75%|███████▍  | 286/383 [13:04:55<4:05:43, 151.99s/it]"
     ]
    },
    {
     "name": "stdout",
     "output_type": "stream",
     "text": [
      "total num of pts: tensor([55527.])\n",
      "{'redshifts/mse': 0.2842683792114258}\n"
     ]
    },
    {
     "name": "stderr",
     "output_type": "stream",
     "text": [
      " 75%|███████▍  | 287/383 [13:07:27<4:03:22, 152.11s/it]"
     ]
    },
    {
     "name": "stdout",
     "output_type": "stream",
     "text": [
      "total num of pts: tensor([55736.])\n",
      "{'redshifts/mse': 0.2846372425556183}\n"
     ]
    },
    {
     "name": "stderr",
     "output_type": "stream",
     "text": [
      " 75%|███████▌  | 288/383 [13:09:59<4:00:50, 152.11s/it]"
     ]
    },
    {
     "name": "stdout",
     "output_type": "stream",
     "text": [
      "total num of pts: tensor([55913.])\n",
      "{'redshifts/mse': 0.28499463200569153}\n"
     ]
    },
    {
     "name": "stderr",
     "output_type": "stream",
     "text": [
      " 75%|███████▌  | 289/383 [13:12:33<3:58:53, 152.48s/it]"
     ]
    },
    {
     "name": "stdout",
     "output_type": "stream",
     "text": [
      "total num of pts: tensor([56134.])\n",
      "{'redshifts/mse': 0.28450945019721985}\n"
     ]
    },
    {
     "name": "stderr",
     "output_type": "stream",
     "text": [
      " 76%|███████▌  | 290/383 [13:15:10<3:58:38, 153.96s/it]"
     ]
    },
    {
     "name": "stdout",
     "output_type": "stream",
     "text": [
      "total num of pts: tensor([56342.])\n",
      "{'redshifts/mse': 0.2847840189933777}\n"
     ]
    },
    {
     "name": "stderr",
     "output_type": "stream",
     "text": [
      " 76%|███████▌  | 291/383 [13:17:47<3:57:19, 154.78s/it]"
     ]
    },
    {
     "name": "stdout",
     "output_type": "stream",
     "text": [
      "total num of pts: tensor([56549.])\n",
      "{'redshifts/mse': 0.28462928533554077}\n"
     ]
    },
    {
     "name": "stderr",
     "output_type": "stream",
     "text": [
      " 76%|███████▌  | 292/383 [13:20:24<3:55:52, 155.52s/it]"
     ]
    },
    {
     "name": "stdout",
     "output_type": "stream",
     "text": [
      "total num of pts: tensor([56756.])\n",
      "{'redshifts/mse': 0.284385621547699}\n"
     ]
    },
    {
     "name": "stderr",
     "output_type": "stream",
     "text": [
      " 77%|███████▋  | 293/383 [13:22:59<3:52:56, 155.29s/it]"
     ]
    },
    {
     "name": "stdout",
     "output_type": "stream",
     "text": [
      "total num of pts: tensor([56964.])\n",
      "{'redshifts/mse': 0.28450947999954224}\n"
     ]
    },
    {
     "name": "stderr",
     "output_type": "stream",
     "text": [
      " 77%|███████▋  | 294/383 [13:25:34<3:50:07, 155.14s/it]"
     ]
    },
    {
     "name": "stdout",
     "output_type": "stream",
     "text": [
      "total num of pts: tensor([57138.])\n",
      "{'redshifts/mse': 0.28455835580825806}\n"
     ]
    },
    {
     "name": "stderr",
     "output_type": "stream",
     "text": [
      " 77%|███████▋  | 295/383 [13:28:10<3:48:02, 155.48s/it]"
     ]
    },
    {
     "name": "stdout",
     "output_type": "stream",
     "text": [
      "total num of pts: tensor([57341.])\n",
      "{'redshifts/mse': 0.28449830412864685}\n"
     ]
    },
    {
     "name": "stderr",
     "output_type": "stream",
     "text": [
      " 77%|███████▋  | 296/383 [13:30:43<3:44:36, 154.90s/it]"
     ]
    },
    {
     "name": "stdout",
     "output_type": "stream",
     "text": [
      "total num of pts: tensor([57522.])\n",
      "{'redshifts/mse': 0.2844482958316803}\n"
     ]
    },
    {
     "name": "stderr",
     "output_type": "stream",
     "text": [
      " 78%|███████▊  | 297/383 [13:33:20<3:42:34, 155.29s/it]"
     ]
    },
    {
     "name": "stdout",
     "output_type": "stream",
     "text": [
      "total num of pts: tensor([57709.])\n",
      "{'redshifts/mse': 0.28442391753196716}\n"
     ]
    },
    {
     "name": "stderr",
     "output_type": "stream",
     "text": [
      " 78%|███████▊  | 298/383 [13:35:54<3:39:40, 155.06s/it]"
     ]
    },
    {
     "name": "stdout",
     "output_type": "stream",
     "text": [
      "total num of pts: tensor([57879.])\n",
      "{'redshifts/mse': 0.2841504216194153}\n"
     ]
    },
    {
     "name": "stderr",
     "output_type": "stream",
     "text": [
      " 78%|███████▊  | 299/383 [13:38:29<3:36:55, 154.95s/it]"
     ]
    },
    {
     "name": "stdout",
     "output_type": "stream",
     "text": [
      "total num of pts: tensor([58068.])\n",
      "{'redshifts/mse': 0.28393590450286865}\n"
     ]
    },
    {
     "name": "stderr",
     "output_type": "stream",
     "text": [
      " 78%|███████▊  | 300/383 [13:41:00<3:32:54, 153.91s/it]"
     ]
    },
    {
     "name": "stdout",
     "output_type": "stream",
     "text": [
      "total num of pts: tensor([58245.])\n",
      "{'redshifts/mse': 0.28361976146698}\n"
     ]
    },
    {
     "name": "stderr",
     "output_type": "stream",
     "text": [
      " 79%|███████▊  | 301/383 [13:43:31<3:28:50, 152.81s/it]"
     ]
    },
    {
     "name": "stdout",
     "output_type": "stream",
     "text": [
      "total num of pts: tensor([58444.])\n",
      "{'redshifts/mse': 0.28359752893447876}\n"
     ]
    },
    {
     "name": "stderr",
     "output_type": "stream",
     "text": [
      " 79%|███████▉  | 302/383 [13:46:04<3:26:36, 153.04s/it]"
     ]
    },
    {
     "name": "stdout",
     "output_type": "stream",
     "text": [
      "total num of pts: tensor([58622.])\n",
      "{'redshifts/mse': 0.2835890054702759}\n"
     ]
    },
    {
     "name": "stderr",
     "output_type": "stream",
     "text": [
      " 79%|███████▉  | 303/383 [13:48:36<3:23:34, 152.68s/it]"
     ]
    },
    {
     "name": "stdout",
     "output_type": "stream",
     "text": [
      "total num of pts: tensor([58818.])\n",
      "{'redshifts/mse': 0.28362131118774414}\n"
     ]
    },
    {
     "name": "stderr",
     "output_type": "stream",
     "text": [
      " 79%|███████▉  | 304/383 [13:51:12<3:22:21, 153.69s/it]"
     ]
    },
    {
     "name": "stdout",
     "output_type": "stream",
     "text": [
      "total num of pts: tensor([59025.])\n",
      "{'redshifts/mse': 0.28341642022132874}\n"
     ]
    },
    {
     "name": "stderr",
     "output_type": "stream",
     "text": [
      " 80%|███████▉  | 305/383 [13:53:50<3:21:26, 154.96s/it]"
     ]
    },
    {
     "name": "stdout",
     "output_type": "stream",
     "text": [
      "total num of pts: tensor([59208.])\n",
      "{'redshifts/mse': 0.2831074297428131}\n"
     ]
    },
    {
     "name": "stderr",
     "output_type": "stream",
     "text": [
      " 80%|███████▉  | 306/383 [13:56:26<3:19:20, 155.33s/it]"
     ]
    },
    {
     "name": "stdout",
     "output_type": "stream",
     "text": [
      "total num of pts: tensor([59395.])\n",
      "{'redshifts/mse': 0.283471941947937}\n"
     ]
    },
    {
     "name": "stderr",
     "output_type": "stream",
     "text": [
      " 80%|████████  | 307/383 [13:58:59<3:15:43, 154.52s/it]"
     ]
    },
    {
     "name": "stdout",
     "output_type": "stream",
     "text": [
      "total num of pts: tensor([59581.])\n",
      "{'redshifts/mse': 0.2832668423652649}\n"
     ]
    },
    {
     "name": "stderr",
     "output_type": "stream",
     "text": [
      " 80%|████████  | 308/383 [14:01:31<3:12:08, 153.71s/it]"
     ]
    },
    {
     "name": "stdout",
     "output_type": "stream",
     "text": [
      "total num of pts: tensor([59752.])\n",
      "{'redshifts/mse': 0.2830873727798462}\n"
     ]
    },
    {
     "name": "stderr",
     "output_type": "stream",
     "text": [
      " 81%|████████  | 309/383 [14:04:01<3:08:11, 152.58s/it]"
     ]
    },
    {
     "name": "stdout",
     "output_type": "stream",
     "text": [
      "total num of pts: tensor([59973.])\n",
      "{'redshifts/mse': 0.2831418216228485}\n"
     ]
    },
    {
     "name": "stderr",
     "output_type": "stream",
     "text": [
      " 81%|████████  | 310/383 [14:06:33<3:05:43, 152.65s/it]"
     ]
    },
    {
     "name": "stdout",
     "output_type": "stream",
     "text": [
      "total num of pts: tensor([60158.])\n",
      "{'redshifts/mse': 0.2832246422767639}\n"
     ]
    },
    {
     "name": "stderr",
     "output_type": "stream",
     "text": [
      " 81%|████████  | 311/383 [14:09:05<3:02:43, 152.27s/it]"
     ]
    },
    {
     "name": "stdout",
     "output_type": "stream",
     "text": [
      "total num of pts: tensor([60341.])\n",
      "{'redshifts/mse': 0.28316816687583923}\n"
     ]
    },
    {
     "name": "stderr",
     "output_type": "stream",
     "text": [
      " 81%|████████▏ | 312/383 [14:11:37<3:00:14, 152.32s/it]"
     ]
    },
    {
     "name": "stdout",
     "output_type": "stream",
     "text": [
      "total num of pts: tensor([60541.])\n",
      "{'redshifts/mse': 0.28324395418167114}\n"
     ]
    },
    {
     "name": "stderr",
     "output_type": "stream",
     "text": [
      " 82%|████████▏ | 313/383 [14:14:09<2:57:36, 152.23s/it]"
     ]
    },
    {
     "name": "stdout",
     "output_type": "stream",
     "text": [
      "total num of pts: tensor([60736.])\n",
      "{'redshifts/mse': 0.28326839208602905}\n"
     ]
    },
    {
     "name": "stderr",
     "output_type": "stream",
     "text": [
      " 82%|████████▏ | 314/383 [14:16:43<2:55:28, 152.59s/it]"
     ]
    },
    {
     "name": "stdout",
     "output_type": "stream",
     "text": [
      "total num of pts: tensor([60902.])\n",
      "{'redshifts/mse': 0.2834608852863312}\n"
     ]
    },
    {
     "name": "stderr",
     "output_type": "stream",
     "text": [
      " 82%|████████▏ | 315/383 [14:19:19<2:54:13, 153.73s/it]"
     ]
    },
    {
     "name": "stdout",
     "output_type": "stream",
     "text": [
      "total num of pts: tensor([61074.])\n",
      "{'redshifts/mse': 0.28365764021873474}\n"
     ]
    },
    {
     "name": "stderr",
     "output_type": "stream",
     "text": [
      " 83%|████████▎ | 316/383 [14:21:54<2:52:13, 154.24s/it]"
     ]
    },
    {
     "name": "stdout",
     "output_type": "stream",
     "text": [
      "total num of pts: tensor([61274.])\n",
      "{'redshifts/mse': 0.28374165296554565}\n"
     ]
    },
    {
     "name": "stderr",
     "output_type": "stream",
     "text": [
      " 83%|████████▎ | 317/383 [14:24:26<2:48:49, 153.48s/it]"
     ]
    },
    {
     "name": "stdout",
     "output_type": "stream",
     "text": [
      "total num of pts: tensor([61480.])\n",
      "{'redshifts/mse': 0.2840006351470947}\n"
     ]
    },
    {
     "name": "stderr",
     "output_type": "stream",
     "text": [
      " 83%|████████▎ | 318/383 [14:27:02<2:46:57, 154.12s/it]"
     ]
    },
    {
     "name": "stdout",
     "output_type": "stream",
     "text": [
      "total num of pts: tensor([61727.])\n",
      "{'redshifts/mse': 0.28374114632606506}\n"
     ]
    },
    {
     "name": "stderr",
     "output_type": "stream",
     "text": [
      " 83%|████████▎ | 319/383 [14:29:35<2:44:06, 153.85s/it]"
     ]
    },
    {
     "name": "stdout",
     "output_type": "stream",
     "text": [
      "total num of pts: tensor([61925.])\n",
      "{'redshifts/mse': 0.28397780656814575}\n"
     ]
    },
    {
     "name": "stderr",
     "output_type": "stream",
     "text": [
      " 84%|████████▎ | 320/383 [14:32:12<2:42:27, 154.72s/it]"
     ]
    },
    {
     "name": "stdout",
     "output_type": "stream",
     "text": [
      "total num of pts: tensor([62125.])\n",
      "{'redshifts/mse': 0.2841787338256836}\n"
     ]
    },
    {
     "name": "stderr",
     "output_type": "stream",
     "text": [
      " 84%|████████▍ | 321/383 [14:34:49<2:40:42, 155.53s/it]"
     ]
    },
    {
     "name": "stdout",
     "output_type": "stream",
     "text": [
      "total num of pts: tensor([62307.])\n",
      "{'redshifts/mse': 0.28421348333358765}\n"
     ]
    },
    {
     "name": "stderr",
     "output_type": "stream",
     "text": [
      " 84%|████████▍ | 322/383 [14:37:24<2:37:59, 155.41s/it]"
     ]
    },
    {
     "name": "stdout",
     "output_type": "stream",
     "text": [
      "total num of pts: tensor([62481.])\n",
      "{'redshifts/mse': 0.2842971086502075}\n"
     ]
    },
    {
     "name": "stderr",
     "output_type": "stream",
     "text": [
      " 84%|████████▍ | 323/383 [14:39:59<2:35:21, 155.36s/it]"
     ]
    },
    {
     "name": "stdout",
     "output_type": "stream",
     "text": [
      "total num of pts: tensor([62687.])\n",
      "{'redshifts/mse': 0.284268856048584}\n"
     ]
    },
    {
     "name": "stderr",
     "output_type": "stream",
     "text": [
      " 85%|████████▍ | 324/383 [14:42:36<2:33:06, 155.71s/it]"
     ]
    },
    {
     "name": "stdout",
     "output_type": "stream",
     "text": [
      "total num of pts: tensor([62851.])\n",
      "{'redshifts/mse': 0.2846909463405609}\n"
     ]
    },
    {
     "name": "stderr",
     "output_type": "stream",
     "text": [
      " 85%|████████▍ | 325/383 [14:45:10<2:29:59, 155.17s/it]"
     ]
    },
    {
     "name": "stdout",
     "output_type": "stream",
     "text": [
      "total num of pts: tensor([63021.])\n",
      "{'redshifts/mse': 0.284566193819046}\n"
     ]
    },
    {
     "name": "stderr",
     "output_type": "stream",
     "text": [
      " 85%|████████▌ | 326/383 [14:47:46<2:27:38, 155.42s/it]"
     ]
    },
    {
     "name": "stdout",
     "output_type": "stream",
     "text": [
      "total num of pts: tensor([63212.])\n",
      "{'redshifts/mse': 0.28460973501205444}\n"
     ]
    },
    {
     "name": "stderr",
     "output_type": "stream",
     "text": [
      " 85%|████████▌ | 327/383 [14:50:23<2:25:34, 155.97s/it]"
     ]
    },
    {
     "name": "stdout",
     "output_type": "stream",
     "text": [
      "total num of pts: tensor([63403.])\n",
      "{'redshifts/mse': 0.2847566306591034}\n"
     ]
    },
    {
     "name": "stderr",
     "output_type": "stream",
     "text": [
      " 86%|████████▌ | 328/383 [14:52:56<2:22:07, 155.05s/it]"
     ]
    },
    {
     "name": "stdout",
     "output_type": "stream",
     "text": [
      "total num of pts: tensor([63591.])\n",
      "{'redshifts/mse': 0.285031795501709}\n"
     ]
    },
    {
     "name": "stderr",
     "output_type": "stream",
     "text": [
      " 86%|████████▌ | 329/383 [14:55:31<2:19:36, 155.12s/it]"
     ]
    },
    {
     "name": "stdout",
     "output_type": "stream",
     "text": [
      "total num of pts: tensor([63777.])\n",
      "{'redshifts/mse': 0.28508737683296204}\n"
     ]
    },
    {
     "name": "stderr",
     "output_type": "stream",
     "text": [
      " 86%|████████▌ | 330/383 [14:58:07<2:17:17, 155.42s/it]"
     ]
    },
    {
     "name": "stdout",
     "output_type": "stream",
     "text": [
      "total num of pts: tensor([63958.])\n",
      "{'redshifts/mse': 0.2851140797138214}\n"
     ]
    },
    {
     "name": "stderr",
     "output_type": "stream",
     "text": [
      " 86%|████████▋ | 331/383 [15:00:40<2:13:51, 154.46s/it]"
     ]
    },
    {
     "name": "stdout",
     "output_type": "stream",
     "text": [
      "total num of pts: tensor([64139.])\n",
      "{'redshifts/mse': 0.2854297459125519}\n"
     ]
    },
    {
     "name": "stderr",
     "output_type": "stream",
     "text": [
      " 87%|████████▋ | 332/383 [15:03:16<2:11:44, 154.99s/it]"
     ]
    },
    {
     "name": "stdout",
     "output_type": "stream",
     "text": [
      "total num of pts: tensor([64360.])\n",
      "{'redshifts/mse': 0.2851499319076538}\n"
     ]
    },
    {
     "name": "stderr",
     "output_type": "stream",
     "text": [
      " 87%|████████▋ | 333/383 [15:05:52<2:09:19, 155.19s/it]"
     ]
    },
    {
     "name": "stdout",
     "output_type": "stream",
     "text": [
      "total num of pts: tensor([64568.])\n",
      "{'redshifts/mse': 0.28523755073547363}\n"
     ]
    },
    {
     "name": "stderr",
     "output_type": "stream",
     "text": [
      " 87%|████████▋ | 334/383 [15:08:26<2:06:36, 155.03s/it]"
     ]
    },
    {
     "name": "stdout",
     "output_type": "stream",
     "text": [
      "total num of pts: tensor([64778.])\n",
      "{'redshifts/mse': 0.28547948598861694}\n"
     ]
    },
    {
     "name": "stderr",
     "output_type": "stream",
     "text": [
      " 87%|████████▋ | 335/383 [15:11:00<2:03:44, 154.68s/it]"
     ]
    },
    {
     "name": "stdout",
     "output_type": "stream",
     "text": [
      "total num of pts: tensor([64981.])\n",
      "{'redshifts/mse': 0.2853909730911255}\n"
     ]
    },
    {
     "name": "stderr",
     "output_type": "stream",
     "text": [
      " 88%|████████▊ | 336/383 [15:13:28<1:59:32, 152.61s/it]"
     ]
    },
    {
     "name": "stdout",
     "output_type": "stream",
     "text": [
      "total num of pts: tensor([65172.])\n",
      "{'redshifts/mse': 0.2850951850414276}\n"
     ]
    },
    {
     "name": "stderr",
     "output_type": "stream",
     "text": [
      " 88%|████████▊ | 337/383 [15:16:03<1:57:32, 153.31s/it]"
     ]
    },
    {
     "name": "stdout",
     "output_type": "stream",
     "text": [
      "total num of pts: tensor([65371.])\n",
      "{'redshifts/mse': 0.28512924909591675}\n"
     ]
    },
    {
     "name": "stderr",
     "output_type": "stream",
     "text": [
      " 88%|████████▊ | 338/383 [15:18:36<1:54:53, 153.20s/it]"
     ]
    },
    {
     "name": "stdout",
     "output_type": "stream",
     "text": [
      "total num of pts: tensor([65552.])\n",
      "{'redshifts/mse': 0.28490257263183594}\n"
     ]
    },
    {
     "name": "stderr",
     "output_type": "stream",
     "text": [
      " 89%|████████▊ | 339/383 [15:21:09<1:52:15, 153.08s/it]"
     ]
    },
    {
     "name": "stdout",
     "output_type": "stream",
     "text": [
      "total num of pts: tensor([65744.])\n",
      "{'redshifts/mse': 0.2845468819141388}\n"
     ]
    },
    {
     "name": "stderr",
     "output_type": "stream",
     "text": [
      " 89%|████████▉ | 340/383 [15:23:41<1:49:30, 152.79s/it]"
     ]
    },
    {
     "name": "stdout",
     "output_type": "stream",
     "text": [
      "total num of pts: tensor([65958.])\n",
      "{'redshifts/mse': 0.2843233644962311}\n"
     ]
    },
    {
     "name": "stderr",
     "output_type": "stream",
     "text": [
      " 89%|████████▉ | 341/383 [15:26:13<1:46:49, 152.61s/it]"
     ]
    },
    {
     "name": "stdout",
     "output_type": "stream",
     "text": [
      "total num of pts: tensor([66162.])\n",
      "{'redshifts/mse': 0.2843347489833832}\n"
     ]
    },
    {
     "name": "stderr",
     "output_type": "stream",
     "text": [
      " 89%|████████▉ | 342/383 [15:28:48<1:44:42, 153.24s/it]"
     ]
    },
    {
     "name": "stdout",
     "output_type": "stream",
     "text": [
      "total num of pts: tensor([66353.])\n",
      "{'redshifts/mse': 0.28420376777648926}\n"
     ]
    },
    {
     "name": "stderr",
     "output_type": "stream",
     "text": [
      " 90%|████████▉ | 343/383 [15:31:24<1:42:50, 154.26s/it]"
     ]
    },
    {
     "name": "stdout",
     "output_type": "stream",
     "text": [
      "total num of pts: tensor([66563.])\n",
      "{'redshifts/mse': 0.28401434421539307}\n"
     ]
    },
    {
     "name": "stderr",
     "output_type": "stream",
     "text": [
      " 90%|████████▉ | 344/383 [15:33:59<1:40:17, 154.29s/it]"
     ]
    },
    {
     "name": "stdout",
     "output_type": "stream",
     "text": [
      "total num of pts: tensor([66757.])\n",
      "{'redshifts/mse': 0.28414300084114075}\n"
     ]
    },
    {
     "name": "stderr",
     "output_type": "stream",
     "text": [
      " 90%|█████████ | 345/383 [15:36:30<1:37:08, 153.39s/it]"
     ]
    },
    {
     "name": "stdout",
     "output_type": "stream",
     "text": [
      "total num of pts: tensor([66966.])\n",
      "{'redshifts/mse': 0.28434136509895325}\n"
     ]
    },
    {
     "name": "stderr",
     "output_type": "stream",
     "text": [
      " 90%|█████████ | 346/383 [15:39:08<1:35:27, 154.81s/it]"
     ]
    },
    {
     "name": "stdout",
     "output_type": "stream",
     "text": [
      "total num of pts: tensor([67157.])\n",
      "{'redshifts/mse': 0.284228652715683}\n"
     ]
    },
    {
     "name": "stderr",
     "output_type": "stream",
     "text": [
      " 91%|█████████ | 347/383 [15:41:41<1:32:33, 154.25s/it]"
     ]
    },
    {
     "name": "stdout",
     "output_type": "stream",
     "text": [
      "total num of pts: tensor([67376.])\n",
      "{'redshifts/mse': 0.2841498851776123}\n"
     ]
    },
    {
     "name": "stderr",
     "output_type": "stream",
     "text": [
      " 91%|█████████ | 348/383 [15:44:15<1:29:53, 154.09s/it]"
     ]
    },
    {
     "name": "stdout",
     "output_type": "stream",
     "text": [
      "total num of pts: tensor([67579.])\n",
      "{'redshifts/mse': 0.2839873731136322}\n"
     ]
    },
    {
     "name": "stderr",
     "output_type": "stream",
     "text": [
      " 91%|█████████ | 349/383 [15:46:49<1:27:17, 154.06s/it]"
     ]
    },
    {
     "name": "stdout",
     "output_type": "stream",
     "text": [
      "total num of pts: tensor([67747.])\n",
      "{'redshifts/mse': 0.2842117249965668}\n"
     ]
    },
    {
     "name": "stderr",
     "output_type": "stream",
     "text": [
      " 91%|█████████▏| 350/383 [15:49:22<1:24:38, 153.91s/it]"
     ]
    },
    {
     "name": "stdout",
     "output_type": "stream",
     "text": [
      "total num of pts: tensor([67934.])\n",
      "{'redshifts/mse': 0.28411608934402466}\n"
     ]
    },
    {
     "name": "stderr",
     "output_type": "stream",
     "text": [
      " 92%|█████████▏| 351/383 [15:51:55<1:21:50, 153.44s/it]"
     ]
    },
    {
     "name": "stdout",
     "output_type": "stream",
     "text": [
      "total num of pts: tensor([68121.])\n",
      "{'redshifts/mse': 0.284496933221817}\n"
     ]
    },
    {
     "name": "stderr",
     "output_type": "stream",
     "text": [
      " 92%|█████████▏| 352/383 [15:54:28<1:19:19, 153.54s/it]"
     ]
    },
    {
     "name": "stdout",
     "output_type": "stream",
     "text": [
      "total num of pts: tensor([68319.])\n",
      "{'redshifts/mse': 0.28441986441612244}\n"
     ]
    },
    {
     "name": "stderr",
     "output_type": "stream",
     "text": [
      " 92%|█████████▏| 353/383 [15:56:58<1:16:13, 152.44s/it]"
     ]
    },
    {
     "name": "stdout",
     "output_type": "stream",
     "text": [
      "total num of pts: tensor([68513.])\n",
      "{'redshifts/mse': 0.2842010259628296}\n"
     ]
    },
    {
     "name": "stderr",
     "output_type": "stream",
     "text": [
      " 92%|█████████▏| 354/383 [15:59:35<1:14:17, 153.70s/it]"
     ]
    },
    {
     "name": "stdout",
     "output_type": "stream",
     "text": [
      "total num of pts: tensor([68693.])\n",
      "{'redshifts/mse': 0.2841116487979889}\n"
     ]
    },
    {
     "name": "stderr",
     "output_type": "stream",
     "text": [
      " 93%|█████████▎| 355/383 [16:02:12<1:12:12, 154.74s/it]"
     ]
    },
    {
     "name": "stdout",
     "output_type": "stream",
     "text": [
      "total num of pts: tensor([68891.])\n",
      "{'redshifts/mse': 0.28410670161247253}\n"
     ]
    },
    {
     "name": "stderr",
     "output_type": "stream",
     "text": [
      " 93%|█████████▎| 356/383 [16:04:48<1:09:50, 155.22s/it]"
     ]
    },
    {
     "name": "stdout",
     "output_type": "stream",
     "text": [
      "total num of pts: tensor([69091.])\n",
      "{'redshifts/mse': 0.28421878814697266}\n"
     ]
    },
    {
     "name": "stderr",
     "output_type": "stream",
     "text": [
      " 93%|█████████▎| 357/383 [16:07:25<1:07:27, 155.69s/it]"
     ]
    },
    {
     "name": "stdout",
     "output_type": "stream",
     "text": [
      "total num of pts: tensor([69277.])\n",
      "{'redshifts/mse': 0.2843468189239502}\n"
     ]
    },
    {
     "name": "stderr",
     "output_type": "stream",
     "text": [
      " 93%|█████████▎| 358/383 [16:10:01<1:04:54, 155.77s/it]"
     ]
    },
    {
     "name": "stdout",
     "output_type": "stream",
     "text": [
      "total num of pts: tensor([69447.])\n",
      "{'redshifts/mse': 0.28426840901374817}\n"
     ]
    },
    {
     "name": "stderr",
     "output_type": "stream",
     "text": [
      " 94%|█████████▎| 359/383 [16:12:31<1:01:38, 154.12s/it]"
     ]
    },
    {
     "name": "stdout",
     "output_type": "stream",
     "text": [
      "total num of pts: tensor([69640.])\n",
      "{'redshifts/mse': 0.28432977199554443}\n"
     ]
    },
    {
     "name": "stderr",
     "output_type": "stream",
     "text": [
      " 94%|█████████▍| 360/383 [16:15:04<58:55, 153.70s/it]  "
     ]
    },
    {
     "name": "stdout",
     "output_type": "stream",
     "text": [
      "total num of pts: tensor([69830.])\n",
      "{'redshifts/mse': 0.2844697833061218}\n"
     ]
    },
    {
     "name": "stderr",
     "output_type": "stream",
     "text": [
      " 94%|█████████▍| 361/383 [16:17:40<56:38, 154.48s/it]"
     ]
    },
    {
     "name": "stdout",
     "output_type": "stream",
     "text": [
      "total num of pts: tensor([70026.])\n",
      "{'redshifts/mse': 0.2843700051307678}\n"
     ]
    },
    {
     "name": "stderr",
     "output_type": "stream",
     "text": [
      " 95%|█████████▍| 362/383 [16:20:15<54:04, 154.50s/it]"
     ]
    },
    {
     "name": "stdout",
     "output_type": "stream",
     "text": [
      "total num of pts: tensor([70211.])\n",
      "{'redshifts/mse': 0.28438523411750793}\n"
     ]
    },
    {
     "name": "stderr",
     "output_type": "stream",
     "text": [
      " 95%|█████████▍| 363/383 [16:22:49<51:25, 154.27s/it]"
     ]
    },
    {
     "name": "stdout",
     "output_type": "stream",
     "text": [
      "total num of pts: tensor([70392.])\n",
      "{'redshifts/mse': 0.2845216691493988}\n"
     ]
    },
    {
     "name": "stderr",
     "output_type": "stream",
     "text": [
      " 95%|█████████▌| 364/383 [16:25:24<48:56, 154.55s/it]"
     ]
    },
    {
     "name": "stdout",
     "output_type": "stream",
     "text": [
      "total num of pts: tensor([70600.])\n",
      "{'redshifts/mse': 0.28473836183547974}\n"
     ]
    },
    {
     "name": "stderr",
     "output_type": "stream",
     "text": [
      " 95%|█████████▌| 365/383 [16:28:00<46:31, 155.10s/it]"
     ]
    },
    {
     "name": "stdout",
     "output_type": "stream",
     "text": [
      "total num of pts: tensor([70797.])\n",
      "{'redshifts/mse': 0.28446370363235474}\n"
     ]
    },
    {
     "name": "stderr",
     "output_type": "stream",
     "text": [
      " 96%|█████████▌| 366/383 [16:30:36<44:01, 155.36s/it]"
     ]
    },
    {
     "name": "stdout",
     "output_type": "stream",
     "text": [
      "total num of pts: tensor([70989.])\n",
      "{'redshifts/mse': 0.2843175530433655}\n"
     ]
    },
    {
     "name": "stderr",
     "output_type": "stream",
     "text": [
      " 96%|█████████▌| 367/383 [16:33:11<41:20, 155.04s/it]"
     ]
    },
    {
     "name": "stdout",
     "output_type": "stream",
     "text": [
      "total num of pts: tensor([71182.])\n",
      "{'redshifts/mse': 0.28401046991348267}\n"
     ]
    },
    {
     "name": "stderr",
     "output_type": "stream",
     "text": [
      " 96%|█████████▌| 368/383 [16:35:47<38:51, 155.43s/it]"
     ]
    },
    {
     "name": "stdout",
     "output_type": "stream",
     "text": [
      "total num of pts: tensor([71383.])\n",
      "{'redshifts/mse': 0.2841472923755646}\n"
     ]
    },
    {
     "name": "stderr",
     "output_type": "stream",
     "text": [
      " 96%|█████████▋| 369/383 [16:38:21<36:11, 155.14s/it]"
     ]
    },
    {
     "name": "stdout",
     "output_type": "stream",
     "text": [
      "total num of pts: tensor([71560.])\n",
      "{'redshifts/mse': 0.2841913104057312}\n"
     ]
    },
    {
     "name": "stderr",
     "output_type": "stream",
     "text": [
      " 97%|█████████▋| 370/383 [16:40:54<33:25, 154.28s/it]"
     ]
    },
    {
     "name": "stdout",
     "output_type": "stream",
     "text": [
      "total num of pts: tensor([71749.])\n",
      "{'redshifts/mse': 0.2843191623687744}\n"
     ]
    },
    {
     "name": "stderr",
     "output_type": "stream",
     "text": [
      " 97%|█████████▋| 371/383 [16:43:33<31:11, 155.93s/it]"
     ]
    },
    {
     "name": "stdout",
     "output_type": "stream",
     "text": [
      "total num of pts: tensor([71960.])\n",
      "{'redshifts/mse': 0.28461411595344543}\n"
     ]
    },
    {
     "name": "stderr",
     "output_type": "stream",
     "text": [
      " 97%|█████████▋| 372/383 [16:46:12<28:42, 156.59s/it]"
     ]
    },
    {
     "name": "stdout",
     "output_type": "stream",
     "text": [
      "total num of pts: tensor([72151.])\n",
      "{'redshifts/mse': 0.28479310870170593}\n"
     ]
    },
    {
     "name": "stderr",
     "output_type": "stream",
     "text": [
      " 97%|█████████▋| 373/383 [16:48:47<26:03, 156.37s/it]"
     ]
    },
    {
     "name": "stdout",
     "output_type": "stream",
     "text": [
      "total num of pts: tensor([72371.])\n",
      "{'redshifts/mse': 0.28469061851501465}\n"
     ]
    },
    {
     "name": "stderr",
     "output_type": "stream",
     "text": [
      " 98%|█████████▊| 374/383 [16:51:26<23:34, 157.15s/it]"
     ]
    },
    {
     "name": "stdout",
     "output_type": "stream",
     "text": [
      "total num of pts: tensor([72559.])\n",
      "{'redshifts/mse': 0.28455954790115356}\n"
     ]
    },
    {
     "name": "stderr",
     "output_type": "stream",
     "text": [
      " 98%|█████████▊| 375/383 [16:54:08<21:07, 158.43s/it]"
     ]
    },
    {
     "name": "stdout",
     "output_type": "stream",
     "text": [
      "total num of pts: tensor([72743.])\n",
      "{'redshifts/mse': 0.2849094271659851}\n"
     ]
    },
    {
     "name": "stderr",
     "output_type": "stream",
     "text": [
      " 98%|█████████▊| 376/383 [16:56:48<18:32, 158.88s/it]"
     ]
    },
    {
     "name": "stdout",
     "output_type": "stream",
     "text": [
      "total num of pts: tensor([72944.])\n",
      "{'redshifts/mse': 0.2850492000579834}\n"
     ]
    },
    {
     "name": "stderr",
     "output_type": "stream",
     "text": [
      " 98%|█████████▊| 377/383 [16:59:24<15:47, 157.98s/it]"
     ]
    },
    {
     "name": "stdout",
     "output_type": "stream",
     "text": [
      "total num of pts: tensor([73123.])\n",
      "{'redshifts/mse': 0.2851126492023468}\n"
     ]
    },
    {
     "name": "stderr",
     "output_type": "stream",
     "text": [
      " 99%|█████████▊| 378/383 [17:02:00<13:07, 157.59s/it]"
     ]
    },
    {
     "name": "stdout",
     "output_type": "stream",
     "text": [
      "total num of pts: tensor([73315.])\n",
      "{'redshifts/mse': 0.28506597876548767}\n"
     ]
    },
    {
     "name": "stderr",
     "output_type": "stream",
     "text": [
      " 99%|█████████▉| 379/383 [17:04:44<10:38, 159.57s/it]"
     ]
    },
    {
     "name": "stdout",
     "output_type": "stream",
     "text": [
      "total num of pts: tensor([73533.])\n",
      "{'redshifts/mse': 0.28489241003990173}\n"
     ]
    },
    {
     "name": "stderr",
     "output_type": "stream",
     "text": [
      " 99%|█████████▉| 380/383 [17:07:22<07:57, 159.09s/it]"
     ]
    },
    {
     "name": "stdout",
     "output_type": "stream",
     "text": [
      "total num of pts: tensor([73741.])\n",
      "{'redshifts/mse': 0.2848207354545593}\n"
     ]
    },
    {
     "name": "stderr",
     "output_type": "stream",
     "text": [
      " 99%|█████████▉| 381/383 [17:09:58<05:15, 157.96s/it]"
     ]
    },
    {
     "name": "stdout",
     "output_type": "stream",
     "text": [
      "total num of pts: tensor([73928.])\n",
      "{'redshifts/mse': 0.28465771675109863}\n"
     ]
    },
    {
     "name": "stderr",
     "output_type": "stream",
     "text": [
      "100%|█████████▉| 382/383 [17:12:34<02:37, 157.55s/it]"
     ]
    },
    {
     "name": "stdout",
     "output_type": "stream",
     "text": [
      "total num of pts: tensor([74138.])\n",
      "{'redshifts/mse': 0.2848495543003082}\n"
     ]
    },
    {
     "name": "stderr",
     "output_type": "stream",
     "text": [
      "100%|██████████| 383/383 [17:14:40<00:00, 147.94s/it]"
     ]
    },
    {
     "name": "stdout",
     "output_type": "stream",
     "text": [
      "total num of pts: tensor([74290.])\n",
      "{'redshifts/mse': 0.2848811149597168}\n"
     ]
    },
    {
     "name": "stderr",
     "output_type": "stream",
     "text": [
      "100%|██████████| 383/383 [17:14:40<00:00, 162.09s/it]\n"
     ]
    }
   ],
   "source": [
    "\n",
    "# metrics = instantiate(notebook_cfg.encoder.metrics)\n",
    "# matcher = instantiate(notebook_cfg.encoder.matcher)\n",
    "# metrics.reset()\n",
    "# # args\n",
    "# lsst_root_dir = \"/data/scratch/dc2_nfs/\"\n",
    "# image_lim = 80\n",
    "# r_band_min_flux = 50\n",
    "# tile_slen = 4\n",
    "# max_sources_per_tile = 1\n",
    "# tiles_to_crop = 1\n",
    "\n",
    "# lsst_predictor = LSSTPredictor(lsst_root_dir, r_band_min_flux, tile_slen, max_sources_per_tile, tiles_to_crop)\n",
    "# for batch_idx, batch in tqdm(enumerate(dataset.val_dataloader()), total=len(dataset.test_dataloader())):\n",
    "#     if batch_idx >= 5:\n",
    "#         true_cat = TileCatalog(tile_slen=4, d=batch[\"tile_catalog\"])\n",
    "#         lsst_cat = lsst_predictor.predict(batch[\"wcs_header_str\"], image_lim, batch[\"image_height_index\"], batch[\"image_width_index\"])\n",
    "#         est_cat = est_redshifts_with_reg_change_to_cat(lsst_cat, reg, tile_slen=4)\n",
    "#         est_cat = est_cat.to_full_catalog()\n",
    "#         true_cat = true_cat.to_full_catalog()\n",
    "#         matching = matcher.match_catalogs(true_cat, est_cat)\n",
    "#         metrics.update(true_cat, est_cat, matching)\n",
    "#         print(metrics.compute())\n",
    "\n",
    "# lsst_out_dict = metrics.compute()\n"
   ]
  },
  {
   "cell_type": "code",
   "execution_count": 22,
   "metadata": {},
   "outputs": [
    {
     "data": {
      "text/plain": [
       "{'redshifts/mse': 0.2848811149597168}"
      ]
     },
     "execution_count": 22,
     "metadata": {},
     "output_type": "execute_result"
    }
   ],
   "source": [
    "lsst_out_dict"
   ]
  },
  {
   "cell_type": "markdown",
   "metadata": {},
   "source": [
    "# LSST flux using table and Reg"
   ]
  },
  {
   "cell_type": "code",
   "execution_count": 27,
   "metadata": {},
   "outputs": [],
   "source": [
    "# load lsst\n",
    "GCRCatalogs.set_root_dir(lsst_root_dir)\n",
    "lsst_catalog_gcr = GCRCatalogs.load_catalog(\"desc_dc2_run2.2i_dr6_object_with_truth_match\")\n",
    "lsst_catalog_sub = lsst_catalog_gcr.get_quantities(\n",
    "    [\n",
    "        \"id_truth\",\n",
    "        \"objectId\",\n",
    "        \"ra\",\n",
    "        \"dec\",\n",
    "        \"truth_type\",\n",
    "        \"cModelFlux_u\",\n",
    "        \"cModelFluxErr_u\",\n",
    "        \"cModelFlux_g\",\n",
    "        \"cModelFluxErr_g\",\n",
    "        \"cModelFlux_r\",\n",
    "        \"cModelFluxErr_r\",\n",
    "        \"cModelFlux_i\",\n",
    "        \"cModelFluxErr_i\",\n",
    "        \"cModelFlux_z\",\n",
    "        \"cModelFluxErr_z\",\n",
    "        \"cModelFlux_y\",\n",
    "        \"cModelFluxErr_y\",\n",
    "    ]\n",
    ")\n",
    "lsst_catalog_df = pd.DataFrame(lsst_catalog_sub)"
   ]
  },
  {
   "cell_type": "code",
   "execution_count": 28,
   "metadata": {},
   "outputs": [
    {
     "data": {
      "text/html": [
       "<div>\n",
       "<style scoped>\n",
       "    .dataframe tbody tr th:only-of-type {\n",
       "        vertical-align: middle;\n",
       "    }\n",
       "\n",
       "    .dataframe tbody tr th {\n",
       "        vertical-align: top;\n",
       "    }\n",
       "\n",
       "    .dataframe thead th {\n",
       "        text-align: right;\n",
       "    }\n",
       "</style>\n",
       "<table border=\"1\" class=\"dataframe\">\n",
       "  <thead>\n",
       "    <tr style=\"text-align: right;\">\n",
       "      <th></th>\n",
       "      <th>cModelFlux_u</th>\n",
       "      <th>cModelFluxErr_i</th>\n",
       "      <th>cModelFlux_i</th>\n",
       "      <th>cModelFlux_r</th>\n",
       "      <th>cModelFluxErr_z</th>\n",
       "      <th>objectId</th>\n",
       "      <th>cModelFlux_z</th>\n",
       "      <th>cModelFlux_y</th>\n",
       "      <th>ra</th>\n",
       "      <th>cModelFluxErr_g</th>\n",
       "      <th>truth_type</th>\n",
       "      <th>cModelFluxErr_u</th>\n",
       "      <th>cModelFluxErr_r</th>\n",
       "      <th>cModelFluxErr_y</th>\n",
       "      <th>cModelFlux_g</th>\n",
       "      <th>dec</th>\n",
       "      <th>id_truth</th>\n",
       "    </tr>\n",
       "  </thead>\n",
       "  <tbody>\n",
       "    <tr>\n",
       "      <th>0</th>\n",
       "      <td>146.454617</td>\n",
       "      <td>34.417397</td>\n",
       "      <td>348.178418</td>\n",
       "      <td>292.783253</td>\n",
       "      <td>97.712447</td>\n",
       "      <td>15982501021353368</td>\n",
       "      <td>494.325910</td>\n",
       "      <td>1082.446667</td>\n",
       "      <td>56.851861</td>\n",
       "      <td>16.475798</td>\n",
       "      <td>1</td>\n",
       "      <td>46.146050</td>\n",
       "      <td>19.407432</td>\n",
       "      <td>181.637104</td>\n",
       "      <td>304.932765</td>\n",
       "      <td>-38.677585</td>\n",
       "      <td>8757401501</td>\n",
       "    </tr>\n",
       "    <tr>\n",
       "      <th>1</th>\n",
       "      <td>78.795684</td>\n",
       "      <td>23.461088</td>\n",
       "      <td>135.422623</td>\n",
       "      <td>52.530998</td>\n",
       "      <td>66.623090</td>\n",
       "      <td>15982501021353393</td>\n",
       "      <td>-42.737415</td>\n",
       "      <td>49.059334</td>\n",
       "      <td>56.799465</td>\n",
       "      <td>11.117315</td>\n",
       "      <td>1</td>\n",
       "      <td>31.512319</td>\n",
       "      <td>12.540611</td>\n",
       "      <td>141.247208</td>\n",
       "      <td>92.324142</td>\n",
       "      <td>-38.677672</td>\n",
       "      <td>8750694182</td>\n",
       "    </tr>\n",
       "    <tr>\n",
       "      <th>2</th>\n",
       "      <td>612.543642</td>\n",
       "      <td>30.441242</td>\n",
       "      <td>610.091646</td>\n",
       "      <td>546.735183</td>\n",
       "      <td>79.490015</td>\n",
       "      <td>15982501021353397</td>\n",
       "      <td>602.223260</td>\n",
       "      <td>528.330959</td>\n",
       "      <td>56.883249</td>\n",
       "      <td>14.003504</td>\n",
       "      <td>1</td>\n",
       "      <td>38.914347</td>\n",
       "      <td>16.139224</td>\n",
       "      <td>145.991693</td>\n",
       "      <td>587.438707</td>\n",
       "      <td>-38.676880</td>\n",
       "      <td>8752812073</td>\n",
       "    </tr>\n",
       "    <tr>\n",
       "      <th>3</th>\n",
       "      <td>-5.466089</td>\n",
       "      <td>28.489701</td>\n",
       "      <td>279.301964</td>\n",
       "      <td>222.320940</td>\n",
       "      <td>76.762579</td>\n",
       "      <td>15982501021353414</td>\n",
       "      <td>348.821004</td>\n",
       "      <td>162.723413</td>\n",
       "      <td>56.858169</td>\n",
       "      <td>12.518181</td>\n",
       "      <td>1</td>\n",
       "      <td>35.499721</td>\n",
       "      <td>16.376210</td>\n",
       "      <td>148.953503</td>\n",
       "      <td>108.903666</td>\n",
       "      <td>-38.676676</td>\n",
       "      <td>8750045581</td>\n",
       "    </tr>\n",
       "    <tr>\n",
       "      <th>4</th>\n",
       "      <td>-65.586734</td>\n",
       "      <td>23.782355</td>\n",
       "      <td>128.880600</td>\n",
       "      <td>73.148219</td>\n",
       "      <td>73.401924</td>\n",
       "      <td>15982501021353419</td>\n",
       "      <td>54.891883</td>\n",
       "      <td>-6.050043</td>\n",
       "      <td>56.889778</td>\n",
       "      <td>12.093521</td>\n",
       "      <td>1</td>\n",
       "      <td>34.342534</td>\n",
       "      <td>13.494841</td>\n",
       "      <td>135.012985</td>\n",
       "      <td>33.328147</td>\n",
       "      <td>-38.676430</td>\n",
       "      <td>8751841300</td>\n",
       "    </tr>\n",
       "    <tr>\n",
       "      <th>...</th>\n",
       "      <td>...</td>\n",
       "      <td>...</td>\n",
       "      <td>...</td>\n",
       "      <td>...</td>\n",
       "      <td>...</td>\n",
       "      <td>...</td>\n",
       "      <td>...</td>\n",
       "      <td>...</td>\n",
       "      <td>...</td>\n",
       "      <td>...</td>\n",
       "      <td>...</td>\n",
       "      <td>...</td>\n",
       "      <td>...</td>\n",
       "      <td>...</td>\n",
       "      <td>...</td>\n",
       "      <td>...</td>\n",
       "      <td>...</td>\n",
       "    </tr>\n",
       "    <tr>\n",
       "      <th>11116201</th>\n",
       "      <td>NaN</td>\n",
       "      <td>NaN</td>\n",
       "      <td>0.000000</td>\n",
       "      <td>5.017072</td>\n",
       "      <td>69.755711</td>\n",
       "      <td>17711783703784922</td>\n",
       "      <td>120.353329</td>\n",
       "      <td>0.000000</td>\n",
       "      <td>58.390577</td>\n",
       "      <td>11.847116</td>\n",
       "      <td>1</td>\n",
       "      <td>NaN</td>\n",
       "      <td>12.534509</td>\n",
       "      <td>NaN</td>\n",
       "      <td>46.852902</td>\n",
       "      <td>-34.232391</td>\n",
       "      <td>5941110663</td>\n",
       "    </tr>\n",
       "    <tr>\n",
       "      <th>11116202</th>\n",
       "      <td>85.149412</td>\n",
       "      <td>22.113112</td>\n",
       "      <td>-1.573018</td>\n",
       "      <td>48.853637</td>\n",
       "      <td>69.902011</td>\n",
       "      <td>17711783703784923</td>\n",
       "      <td>44.586495</td>\n",
       "      <td>133.593291</td>\n",
       "      <td>58.390443</td>\n",
       "      <td>11.887254</td>\n",
       "      <td>1</td>\n",
       "      <td>32.060514</td>\n",
       "      <td>12.581314</td>\n",
       "      <td>142.156849</td>\n",
       "      <td>48.240569</td>\n",
       "      <td>-34.232552</td>\n",
       "      <td>5941110663</td>\n",
       "    </tr>\n",
       "    <tr>\n",
       "      <th>11116203</th>\n",
       "      <td>11.215623</td>\n",
       "      <td>22.103942</td>\n",
       "      <td>27.372585</td>\n",
       "      <td>21.041774</td>\n",
       "      <td>NaN</td>\n",
       "      <td>17711783703784924</td>\n",
       "      <td>0.000000</td>\n",
       "      <td>222.788788</td>\n",
       "      <td>58.390942</td>\n",
       "      <td>11.841447</td>\n",
       "      <td>1</td>\n",
       "      <td>32.054039</td>\n",
       "      <td>12.525000</td>\n",
       "      <td>140.849430</td>\n",
       "      <td>60.196099</td>\n",
       "      <td>-34.232415</td>\n",
       "      <td>5952753448</td>\n",
       "    </tr>\n",
       "    <tr>\n",
       "      <th>11116204</th>\n",
       "      <td>130.080544</td>\n",
       "      <td>35.409613</td>\n",
       "      <td>127.994723</td>\n",
       "      <td>79.995871</td>\n",
       "      <td>99.524767</td>\n",
       "      <td>17711783703784925</td>\n",
       "      <td>215.643587</td>\n",
       "      <td>6.311934</td>\n",
       "      <td>58.421559</td>\n",
       "      <td>16.643941</td>\n",
       "      <td>1</td>\n",
       "      <td>47.152890</td>\n",
       "      <td>19.900337</td>\n",
       "      <td>182.670056</td>\n",
       "      <td>139.175022</td>\n",
       "      <td>-34.222802</td>\n",
       "      <td>5939749788</td>\n",
       "    </tr>\n",
       "    <tr>\n",
       "      <th>11116205</th>\n",
       "      <td>-3.731375</td>\n",
       "      <td>32.530474</td>\n",
       "      <td>119.349993</td>\n",
       "      <td>86.027198</td>\n",
       "      <td>103.518277</td>\n",
       "      <td>17711783703784926</td>\n",
       "      <td>116.488390</td>\n",
       "      <td>227.205884</td>\n",
       "      <td>58.422097</td>\n",
       "      <td>15.728824</td>\n",
       "      <td>1</td>\n",
       "      <td>49.140953</td>\n",
       "      <td>17.668650</td>\n",
       "      <td>192.092610</td>\n",
       "      <td>119.395623</td>\n",
       "      <td>-34.223370</td>\n",
       "      <td>5939718612</td>\n",
       "    </tr>\n",
       "  </tbody>\n",
       "</table>\n",
       "<p>11116206 rows × 17 columns</p>\n",
       "</div>"
      ],
      "text/plain": [
       "          cModelFlux_u  cModelFluxErr_i  cModelFlux_i  cModelFlux_r  \\\n",
       "0           146.454617        34.417397    348.178418    292.783253   \n",
       "1            78.795684        23.461088    135.422623     52.530998   \n",
       "2           612.543642        30.441242    610.091646    546.735183   \n",
       "3            -5.466089        28.489701    279.301964    222.320940   \n",
       "4           -65.586734        23.782355    128.880600     73.148219   \n",
       "...                ...              ...           ...           ...   \n",
       "11116201           NaN              NaN      0.000000      5.017072   \n",
       "11116202     85.149412        22.113112     -1.573018     48.853637   \n",
       "11116203     11.215623        22.103942     27.372585     21.041774   \n",
       "11116204    130.080544        35.409613    127.994723     79.995871   \n",
       "11116205     -3.731375        32.530474    119.349993     86.027198   \n",
       "\n",
       "          cModelFluxErr_z           objectId  cModelFlux_z  cModelFlux_y  \\\n",
       "0               97.712447  15982501021353368    494.325910   1082.446667   \n",
       "1               66.623090  15982501021353393    -42.737415     49.059334   \n",
       "2               79.490015  15982501021353397    602.223260    528.330959   \n",
       "3               76.762579  15982501021353414    348.821004    162.723413   \n",
       "4               73.401924  15982501021353419     54.891883     -6.050043   \n",
       "...                   ...                ...           ...           ...   \n",
       "11116201        69.755711  17711783703784922    120.353329      0.000000   \n",
       "11116202        69.902011  17711783703784923     44.586495    133.593291   \n",
       "11116203              NaN  17711783703784924      0.000000    222.788788   \n",
       "11116204        99.524767  17711783703784925    215.643587      6.311934   \n",
       "11116205       103.518277  17711783703784926    116.488390    227.205884   \n",
       "\n",
       "                 ra  cModelFluxErr_g  truth_type  cModelFluxErr_u  \\\n",
       "0         56.851861        16.475798           1        46.146050   \n",
       "1         56.799465        11.117315           1        31.512319   \n",
       "2         56.883249        14.003504           1        38.914347   \n",
       "3         56.858169        12.518181           1        35.499721   \n",
       "4         56.889778        12.093521           1        34.342534   \n",
       "...             ...              ...         ...              ...   \n",
       "11116201  58.390577        11.847116           1              NaN   \n",
       "11116202  58.390443        11.887254           1        32.060514   \n",
       "11116203  58.390942        11.841447           1        32.054039   \n",
       "11116204  58.421559        16.643941           1        47.152890   \n",
       "11116205  58.422097        15.728824           1        49.140953   \n",
       "\n",
       "          cModelFluxErr_r  cModelFluxErr_y  cModelFlux_g        dec  \\\n",
       "0               19.407432       181.637104    304.932765 -38.677585   \n",
       "1               12.540611       141.247208     92.324142 -38.677672   \n",
       "2               16.139224       145.991693    587.438707 -38.676880   \n",
       "3               16.376210       148.953503    108.903666 -38.676676   \n",
       "4               13.494841       135.012985     33.328147 -38.676430   \n",
       "...                   ...              ...           ...        ...   \n",
       "11116201        12.534509              NaN     46.852902 -34.232391   \n",
       "11116202        12.581314       142.156849     48.240569 -34.232552   \n",
       "11116203        12.525000       140.849430     60.196099 -34.232415   \n",
       "11116204        19.900337       182.670056    139.175022 -34.222802   \n",
       "11116205        17.668650       192.092610    119.395623 -34.223370   \n",
       "\n",
       "            id_truth  \n",
       "0         8757401501  \n",
       "1         8750694182  \n",
       "2         8752812073  \n",
       "3         8750045581  \n",
       "4         8751841300  \n",
       "...              ...  \n",
       "11116201  5941110663  \n",
       "11116202  5941110663  \n",
       "11116203  5952753448  \n",
       "11116204  5939749788  \n",
       "11116205  5939718612  \n",
       "\n",
       "[11116206 rows x 17 columns]"
      ]
     },
     "execution_count": 28,
     "metadata": {},
     "output_type": "execute_result"
    }
   ],
   "source": [
    "lsst_catalog_df"
   ]
  },
  {
   "cell_type": "code",
   "execution_count": 29,
   "metadata": {},
   "outputs": [],
   "source": [
    "gt_path = \"/home/qiaozhih/bliss/case_studies/redshift/redshift_from_img/DC2_generate_catalog_output/merged_catalog_with_flux_over_50.pkl\"\n",
    "gt_catalog_df = pd.read_pickle(gt_path)"
   ]
  },
  {
   "cell_type": "code",
   "execution_count": 30,
   "metadata": {},
   "outputs": [
    {
     "data": {
      "text/html": [
       "<div>\n",
       "<style scoped>\n",
       "    .dataframe tbody tr th:only-of-type {\n",
       "        vertical-align: middle;\n",
       "    }\n",
       "\n",
       "    .dataframe tbody tr th {\n",
       "        vertical-align: top;\n",
       "    }\n",
       "\n",
       "    .dataframe thead th {\n",
       "        text-align: right;\n",
       "    }\n",
       "</style>\n",
       "<table border=\"1\" class=\"dataframe\">\n",
       "  <thead>\n",
       "    <tr style=\"text-align: right;\">\n",
       "      <th></th>\n",
       "      <th>cosmodc2_id</th>\n",
       "      <th>id</th>\n",
       "      <th>flux_i</th>\n",
       "      <th>flux_r</th>\n",
       "      <th>dec</th>\n",
       "      <th>match_objectId</th>\n",
       "      <th>flux_u</th>\n",
       "      <th>flux_g</th>\n",
       "      <th>flux_y</th>\n",
       "      <th>ra</th>\n",
       "      <th>...</th>\n",
       "      <th>IxxPSF_pixel_i</th>\n",
       "      <th>IyyPSF_pixel_g</th>\n",
       "      <th>IxyPSF_pixel_g</th>\n",
       "      <th>objectId</th>\n",
       "      <th>IxyPSF_pixel_y</th>\n",
       "      <th>psf_fwhm_i</th>\n",
       "      <th>IxyPSF_pixel_z</th>\n",
       "      <th>IxxPSF_pixel_r</th>\n",
       "      <th>IyyPSF_pixel_z</th>\n",
       "      <th>psf_fwhm_z</th>\n",
       "    </tr>\n",
       "  </thead>\n",
       "  <tbody>\n",
       "    <tr>\n",
       "      <th>0</th>\n",
       "      <td>8757401501</td>\n",
       "      <td>8757401501</td>\n",
       "      <td>182.194626</td>\n",
       "      <td>144.206085</td>\n",
       "      <td>-38.677521</td>\n",
       "      <td>15982501021353368</td>\n",
       "      <td>123.476219</td>\n",
       "      <td>160.843887</td>\n",
       "      <td>263.547424</td>\n",
       "      <td>56.851958</td>\n",
       "      <td>...</td>\n",
       "      <td>3.042581</td>\n",
       "      <td>3.090587</td>\n",
       "      <td>0.006627</td>\n",
       "      <td>1.598250e+16</td>\n",
       "      <td>-0.000988</td>\n",
       "      <td>0.819964</td>\n",
       "      <td>0.001858</td>\n",
       "      <td>3.108767</td>\n",
       "      <td>3.866399</td>\n",
       "      <td>0.926216</td>\n",
       "    </tr>\n",
       "    <tr>\n",
       "      <th>1</th>\n",
       "      <td>8750694182</td>\n",
       "      <td>8750694182</td>\n",
       "      <td>99.906235</td>\n",
       "      <td>59.634422</td>\n",
       "      <td>-38.677104</td>\n",
       "      <td>15982501021353393</td>\n",
       "      <td>10.705873</td>\n",
       "      <td>21.402449</td>\n",
       "      <td>125.482666</td>\n",
       "      <td>56.799616</td>\n",
       "      <td>...</td>\n",
       "      <td>3.046197</td>\n",
       "      <td>3.213237</td>\n",
       "      <td>-0.003806</td>\n",
       "      <td>1.598250e+16</td>\n",
       "      <td>-0.003311</td>\n",
       "      <td>0.820432</td>\n",
       "      <td>0.001210</td>\n",
       "      <td>3.145637</td>\n",
       "      <td>4.014515</td>\n",
       "      <td>0.943202</td>\n",
       "    </tr>\n",
       "    <tr>\n",
       "      <th>2</th>\n",
       "      <td>8752812073</td>\n",
       "      <td>8752812073</td>\n",
       "      <td>503.124298</td>\n",
       "      <td>499.428711</td>\n",
       "      <td>-38.676882</td>\n",
       "      <td>15982501021353397</td>\n",
       "      <td>594.172546</td>\n",
       "      <td>550.806763</td>\n",
       "      <td>577.899048</td>\n",
       "      <td>56.883238</td>\n",
       "      <td>...</td>\n",
       "      <td>3.037378</td>\n",
       "      <td>3.067176</td>\n",
       "      <td>0.006382</td>\n",
       "      <td>1.598250e+16</td>\n",
       "      <td>-0.000901</td>\n",
       "      <td>0.819285</td>\n",
       "      <td>0.009736</td>\n",
       "      <td>3.135766</td>\n",
       "      <td>3.903795</td>\n",
       "      <td>0.931271</td>\n",
       "    </tr>\n",
       "    <tr>\n",
       "      <th>3</th>\n",
       "      <td>8750045581</td>\n",
       "      <td>8750045581</td>\n",
       "      <td>266.654419</td>\n",
       "      <td>216.263962</td>\n",
       "      <td>-38.676674</td>\n",
       "      <td>15982501021353414</td>\n",
       "      <td>51.661514</td>\n",
       "      <td>117.508293</td>\n",
       "      <td>336.939270</td>\n",
       "      <td>56.858170</td>\n",
       "      <td>...</td>\n",
       "      <td>3.042726</td>\n",
       "      <td>3.061446</td>\n",
       "      <td>0.008114</td>\n",
       "      <td>1.598250e+16</td>\n",
       "      <td>-0.002844</td>\n",
       "      <td>0.819805</td>\n",
       "      <td>0.003223</td>\n",
       "      <td>3.072602</td>\n",
       "      <td>3.884826</td>\n",
       "      <td>0.928279</td>\n",
       "    </tr>\n",
       "    <tr>\n",
       "      <th>4</th>\n",
       "      <td>8751841300</td>\n",
       "      <td>8751841300</td>\n",
       "      <td>127.011505</td>\n",
       "      <td>56.280338</td>\n",
       "      <td>-38.676423</td>\n",
       "      <td>15982501021353419</td>\n",
       "      <td>33.597462</td>\n",
       "      <td>40.201370</td>\n",
       "      <td>148.962173</td>\n",
       "      <td>56.889715</td>\n",
       "      <td>...</td>\n",
       "      <td>3.037196</td>\n",
       "      <td>3.022018</td>\n",
       "      <td>0.005205</td>\n",
       "      <td>1.598250e+16</td>\n",
       "      <td>-0.007553</td>\n",
       "      <td>0.819277</td>\n",
       "      <td>0.001210</td>\n",
       "      <td>3.111783</td>\n",
       "      <td>4.014515</td>\n",
       "      <td>0.943202</td>\n",
       "    </tr>\n",
       "  </tbody>\n",
       "</table>\n",
       "<p>5 rows × 45 columns</p>\n",
       "</div>"
      ],
      "text/plain": [
       "   cosmodc2_id          id      flux_i      flux_r        dec  \\\n",
       "0   8757401501  8757401501  182.194626  144.206085 -38.677521   \n",
       "1   8750694182  8750694182   99.906235   59.634422 -38.677104   \n",
       "2   8752812073  8752812073  503.124298  499.428711 -38.676882   \n",
       "3   8750045581  8750045581  266.654419  216.263962 -38.676674   \n",
       "4   8751841300  8751841300  127.011505   56.280338 -38.676423   \n",
       "\n",
       "      match_objectId      flux_u      flux_g      flux_y         ra  ...  \\\n",
       "0  15982501021353368  123.476219  160.843887  263.547424  56.851958  ...   \n",
       "1  15982501021353393   10.705873   21.402449  125.482666  56.799616  ...   \n",
       "2  15982501021353397  594.172546  550.806763  577.899048  56.883238  ...   \n",
       "3  15982501021353414   51.661514  117.508293  336.939270  56.858170  ...   \n",
       "4  15982501021353419   33.597462   40.201370  148.962173  56.889715  ...   \n",
       "\n",
       "   IxxPSF_pixel_i  IyyPSF_pixel_g  IxyPSF_pixel_g      objectId  \\\n",
       "0        3.042581        3.090587        0.006627  1.598250e+16   \n",
       "1        3.046197        3.213237       -0.003806  1.598250e+16   \n",
       "2        3.037378        3.067176        0.006382  1.598250e+16   \n",
       "3        3.042726        3.061446        0.008114  1.598250e+16   \n",
       "4        3.037196        3.022018        0.005205  1.598250e+16   \n",
       "\n",
       "   IxyPSF_pixel_y  psf_fwhm_i  IxyPSF_pixel_z  IxxPSF_pixel_r  IyyPSF_pixel_z  \\\n",
       "0       -0.000988    0.819964        0.001858        3.108767        3.866399   \n",
       "1       -0.003311    0.820432        0.001210        3.145637        4.014515   \n",
       "2       -0.000901    0.819285        0.009736        3.135766        3.903795   \n",
       "3       -0.002844    0.819805        0.003223        3.072602        3.884826   \n",
       "4       -0.007553    0.819277        0.001210        3.111783        4.014515   \n",
       "\n",
       "   psf_fwhm_z  \n",
       "0    0.926216  \n",
       "1    0.943202  \n",
       "2    0.931271  \n",
       "3    0.928279  \n",
       "4    0.943202  \n",
       "\n",
       "[5 rows x 45 columns]"
      ]
     },
     "execution_count": 30,
     "metadata": {},
     "output_type": "execute_result"
    }
   ],
   "source": [
    "gt_catalog_df.head()"
   ]
  },
  {
   "cell_type": "code",
   "execution_count": 31,
   "metadata": {},
   "outputs": [],
   "source": [
    "gt_test_df = gt_catalog_df[gt_catalog_df.flux_r < 200].sample(10000)"
   ]
  },
  {
   "cell_type": "code",
   "execution_count": 32,
   "metadata": {},
   "outputs": [
    {
     "data": {
      "text/plain": [
       "Index(['cosmodc2_id', 'id', 'flux_i', 'flux_r', 'dec', 'match_objectId',\n",
       "       'flux_u', 'flux_g', 'flux_y', 'ra', 'truth_type', 'flux_z', 'redshifts',\n",
       "       'size_bulge_true', 'position_angle_true', 'galaxy_id',\n",
       "       'size_minor_disk_true', 'size_disk_true', 'size_minor_bulge_true',\n",
       "       'bulge_to_total_ratio_i', 'psf_fwhm_g', 'psf_fwhm_r', 'IxxPSF_pixel_g',\n",
       "       'psf_fwhm_y', 'IxyPSF_pixel_i', 'IyyPSF_pixel_i', 'IxyPSF_pixel_u',\n",
       "       'IyyPSF_pixel_u', 'IxyPSF_pixel_r', 'IxxPSF_pixel_y', 'IxxPSF_pixel_z',\n",
       "       'psf_fwhm_u', 'IxxPSF_pixel_u', 'IyyPSF_pixel_y', 'IyyPSF_pixel_r',\n",
       "       'IxxPSF_pixel_i', 'IyyPSF_pixel_g', 'IxyPSF_pixel_g', 'objectId',\n",
       "       'IxyPSF_pixel_y', 'psf_fwhm_i', 'IxyPSF_pixel_z', 'IxxPSF_pixel_r',\n",
       "       'IyyPSF_pixel_z', 'psf_fwhm_z'],\n",
       "      dtype='object')"
      ]
     },
     "execution_count": 32,
     "metadata": {},
     "output_type": "execute_result"
    }
   ],
   "source": [
    "gt_test_df.columns"
   ]
  },
  {
   "cell_type": "code",
   "execution_count": 62,
   "metadata": {},
   "outputs": [],
   "source": [
    "lsst_test_df = lsst_catalog_df.merge(gt_test_df, left_on=\"id_truth\", right_on=\"id\")"
   ]
  },
  {
   "cell_type": "code",
   "execution_count": 64,
   "metadata": {},
   "outputs": [],
   "source": [
    "column = [\"id\", \"cModelFlux_u\", \"cModelFlux_g\", \"cModelFlux_r\", \"cModelFlux_i\", \"cModelFlux_z\", \"cModelFlux_y\", \"redshifts\"]\n",
    "lsst_test_df = lsst_test_df[column].dropna()\n",
    "lsst_test_df = lsst_test_df[lsst_test_df.cModelFlux_r < 200]"
   ]
  },
  {
   "cell_type": "code",
   "execution_count": null,
   "metadata": {},
   "outputs": [],
   "source": [
    "lsst_test_df = lsst_test_df[(lsst_test_df > 0).all(axis=1)]"
   ]
  },
  {
   "cell_type": "code",
   "execution_count": 81,
   "metadata": {},
   "outputs": [],
   "source": [
    "survey_band = [\"u\", \"g\", \"r\", \"i\", \"z\", \"y\"]\n",
    "flux_names = [f\"cModelFlux_{band}\" for band in survey_band]\n",
    "lsst_flux_lists = [torch.tensor(lsst_test_df[flux_name].values, device=device) for flux_name in flux_names]\n",
    "lsst_mag_lists = [22.5 - 2.5 * torch.log10(lsst_flux_list / 3631) for lsst_flux_list in lsst_flux_lists]\n",
    "redshifts_gt = lsst_test_df.redshifts.values\n"
   ]
  },
  {
   "cell_type": "code",
   "execution_count": 83,
   "metadata": {},
   "outputs": [],
   "source": [
    "lsst_mags = torch.stack(lsst_mag_lists, dim=-1)"
   ]
  },
  {
   "cell_type": "code",
   "execution_count": 84,
   "metadata": {},
   "outputs": [],
   "source": [
    "reg.eval()\n",
    "preds = reg.net(lsst_mags.float()).cpu().detach().numpy()\n",
    "trues = redshifts_gt"
   ]
  },
  {
   "cell_type": "code",
   "execution_count": null,
   "metadata": {},
   "outputs": [],
   "source": [
    "plt.xlim(0, 3)\n",
    "plt.ylim(0, 3)\n",
    "plt.axline((0, 0), slope=1)\n",
    "plt.scatter(preds, trues, alpha=0.1, s=3)"
   ]
  },
  {
   "cell_type": "code",
   "execution_count": null,
   "metadata": {},
   "outputs": [],
   "source": []
  }
 ],
 "metadata": {
  "kernelspec": {
   "display_name": "Python 3 (ipykernel)",
   "language": "python",
   "name": "python3"
  },
  "language_info": {
   "codemirror_mode": {
    "name": "ipython",
    "version": 3
   },
   "file_extension": ".py",
   "mimetype": "text/x-python",
   "name": "python",
   "nbconvert_exporter": "python",
   "pygments_lexer": "ipython3",
   "version": "3.10.12"
  }
 },
 "nbformat": 4,
 "nbformat_minor": 2
}

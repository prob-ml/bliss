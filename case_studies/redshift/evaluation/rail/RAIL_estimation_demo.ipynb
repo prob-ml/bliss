{
 "cells": [
  {
   "cell_type": "markdown",
   "metadata": {},
   "source": [
    "# important: This notebook is used as baseline for bliss paper!!! make sure you setup rail through https://rail-hub.readthedocs.io/en/latest/source/installation.html. and run cooresponding environment instead of bliss"
   ]
  },
  {
   "cell_type": "markdown",
   "metadata": {},
   "source": [
    "# RAIL Estimation Tutorial Notebook\n",
    "\n",
    "**Authors:** Sam Schmidt, Eric Charles, Alex Malz, others...\n",
    "\n",
    "**Last run successfully:** August 15, 2023"
   ]
  },
  {
   "cell_type": "markdown",
   "metadata": {},
   "source": [
    "This is a notebook demonstrating some of the `estimation` features of the LSST-DESC `RAIL`-iverse packages.  \n",
    "\n",
    "The `rail.estimation` subpackage contains infrastructure to run multiple production-level photo-z codes.  There is a minimimal superclass that sets up some file paths and variable names. Each specific photo-z code resides in a subclass in `rail.estimation.algos` with algorithm-specific setup variables.  More extensive documentation is available on Read the Docs here:\n",
    "https://rail-hub.readthedocs.io/en/latest/\n",
    "\n"
   ]
  },
  {
   "cell_type": "code",
   "execution_count": 1,
   "metadata": {},
   "outputs": [],
   "source": [
    "%load_ext autoreload\n",
    "%autoreload 2"
   ]
  },
  {
   "cell_type": "code",
   "execution_count": 2,
   "metadata": {},
   "outputs": [],
   "source": [
    "import os\n",
    "import matplotlib.pyplot as plt\n",
    "import numpy as np\n",
    "%matplotlib inline "
   ]
  },
  {
   "cell_type": "code",
   "execution_count": 3,
   "metadata": {},
   "outputs": [],
   "source": [
    "import rail\n",
    "import qp\n",
    "from rail.core.data import TableHandle\n",
    "from rail.core.stage import RailStage"
   ]
  },
  {
   "cell_type": "markdown",
   "metadata": {},
   "source": [
    "We'll start by setting up the `DataStore`.  RAIL uses [`ceci`](https://github.com/LSSTDESC/ceci) as a back-end for pipelines of RAIL stages run at the command line. The `DataStore` is a workaround to enable `ceci` to interact with data files in an interactive notebook environment.   Some files will appear in the `DataStore` with the prefix \"inprogress_\" as they are stored in memory for use in the notebook, but the data will also be written out to file with the prefix \"output_\".  See the Golden Spike end-to-end demo notebook for more details on the `DataStore`."
   ]
  },
  {
   "cell_type": "code",
   "execution_count": 4,
   "metadata": {},
   "outputs": [],
   "source": [
    "DS = RailStage.data_store\n",
    "DS.__class__.allow_overwrite = True"
   ]
  },
  {
   "cell_type": "markdown",
   "metadata": {},
   "source": [
    "## Importing all available estimators\n",
    "\n",
    "There is some handy functionality in `rail.stages` to import all available stages that are installed in your environment.  `RailStage` knows about all of the sub-types of stages.  By looping through the values in  the `RailStage.pipeline_stages` dictionary, we can isolate those that are sub-classes of `rail.estimation.estimator.CatEstimator`, which operate on catalog-like inputs.  Let's run this `import_and_attach_all()` command, and then print out the subclasses that are now available for use (though in this demo we only take advantage of two specific estimators):"
   ]
  },
  {
   "cell_type": "code",
   "execution_count": 5,
   "metadata": {},
   "outputs": [
    {
     "name": "stdout",
     "output_type": "stream",
     "text": [
      "Imported rail.hub\n",
      "Imported rail.astro_tools\n",
      "Imported rail.core\n",
      "Imported rail.stages\n",
      "Imported rail.bpz\n",
      "Imported rail.cmnn\n",
      "Failed to import rail.delight because: No module named 'rail.estimation.algos.delightPZ'\n"
     ]
    },
    {
     "name": "stderr",
     "output_type": "stream",
     "text": [
      "An NVIDIA GPU may be present on this machine, but a CUDA-enabled jaxlib is not installed. Falling back to cpu.\n"
     ]
    },
    {
     "name": "stdout",
     "output_type": "stream",
     "text": [
      "Imported rail.dsps\n",
      "Imported rail.flexzboost\n",
      "Install FSPS with the following commands:\n",
      "pip uninstall fsps\n",
      "git clone --recursive https://github.com/dfm/python-fsps.git\n",
      "cd python-fsps\n",
      "python -m pip install .\n",
      "export SPS_HOME=$(pwd)/src/fsps/libfsps\n",
      "\n",
      "Imported rail.fsps\n",
      "Imported rail.gpz\n",
      "Imported rail.pipelines\n",
      "Imported rail.pzflow\n",
      "Imported rail.sklearn\n",
      "Imported rail.som\n",
      "Attached 12 base classes and 75 fully formed stages to rail.stages\n",
      "<class 'rail.estimation.estimator.CatEstimator'>\n",
      "<class 'rail.estimation.algos.random_gauss.RandomGaussEstimator'>\n",
      "<class 'rail.estimation.algos.train_z.TrainZEstimator'>\n",
      "<class 'rail.estimation.algos.bpz_lite.BPZliteEstimator'>\n",
      "<class 'rail.estimation.algos.cmnn.CMNNEstimator'>\n",
      "<class 'rail.estimation.algos.flexzboost.FlexZBoostEstimator'>\n",
      "<class 'rail.estimation.algos.gpz.GPzEstimator'>\n",
      "<class 'rail.estimation.algos.pzflow_nf.PZFlowEstimator'>\n",
      "<class 'rail.estimation.algos.k_nearneigh.KNearNeighEstimator'>\n",
      "<class 'rail.estimation.algos.sklearn_neurnet.SklNeurNetEstimator'>\n",
      "<class 'rail.estimation.algos.nz_dir.NZDirSummarizer'>\n"
     ]
    }
   ],
   "source": [
    "import rail.stages\n",
    "rail.stages.import_and_attach_all()\n",
    "\n",
    "for val in RailStage.pipeline_stages.values():\n",
    "    if issubclass(val[0], rail.estimation.estimator.CatEstimator):\n",
    "        print(val[0])"
   ]
  },
  {
   "cell_type": "markdown",
   "metadata": {},
   "source": [
    "You should see a list of the available subclasses corresponding to specific photo-z algorithms, as printed out above.  These currently include:\n",
    "\n",
    "- `bpz_lite` is a template-based code that outputs the posterior estimated given a specific template set and Bayesian prior. See [Benitez (2000)](http://stacks.iop.org/0004-637X/536/i=2/a=571) for more details.\n",
    "- `cmnn` is an implementation of the \"colour-matched nearest neighbour` estimator described in [Graham et al 2018](https://ui.adsabs.harvard.edu/abs/2018AJ....155....1G/abstract).  It returns a single Gaussian for each galaxy.\n",
    "- `delight_hybrid` (currently `delightPZ`) is a hybrid gaussian process/template-based code. See the [Leistedt & Hogg (2017)](https://doi.org/10.3847%2F1538-3881%2Faa91d5) for more details.\n",
    "- `flexzboost` is a fully functional photo-z algorithm, implementing the FlexZBoost conditional density estimate method from [Izbicki, Lee & Freeman (2017)](https://doi.org/10.1214/16-AOAS1013) that performed well in the LSST-DESC Photo-Z Data Challenge 1 paper ([Schmidt, Malz & Soo, et al. (2020)](https://academic.oup.com/mnras/article/499/2/1587/5905416)).  FlexZBoost and some specialized metrics for it are available in Python and R through [FlexCode](https://github.com/lee-group-cmu/FlexCode).\n",
    "- `gpz` is a Gaussian Process-based estimator. See [Almosallam et al 2016](https://ui.adsabs.harvard.edu/abs/2016MNRAS.462..726A/abstract) for details on the algorithm.  It currently returns a single Gaussian for each PDF.\n",
    "- `k_nearneigh` is a simple implementation of a weighted k-nearest neighbor photo-z code. It stores each PDF as a weighted sum of Gaussians based on the distance from neighbors in color-space.<br>\n",
    "- `pzflow_nf` uses the same normalizing flow code [pzflow](https://github.com/jfcrenshaw/pzflow), the same one that appears in `rail.creation`, to predict redshift PDFs.\n",
    "- `random_gauss` is a very simple class that does not actually predict a meaningful photo-z but can be useful for quick null tests when developing a pipeline. Instead it produces a randomly drawn Gaussian for each galaxy.\n",
    "- `sklearn_neurnet` is another toy model using `sklearn`'s neural network to predict a point estimate redshift from the training data, then assigns a sigma width based on the estimated redshift.\n",
    "- `trainz` is our \"pathological\" estimator. It makes a PDF from a histogram of the training data and assigns that PDF to every galaxy without considering its photometry.\n",
    "\n",
    "\n",
    "Each code should have two specific classes associated with it: one to `inform()` using a set of training data or explicit priors and one to `estimate()` the per-galaxy photo-z PDFs.  These should be imported from the `src/rail/estimation/algos/[name_of_code]` module using the above names. The naming pattern is `[NameOfCode]Estimator` for the estimating class, and `[NameOfCode]Informer` for the training/ingesting class, for example `FlexZBoostEstimator` and  `FlexZBoostInformer`.  \n",
    "\n",
    "For each of these two classes, we follow the pattern to first run a `make_stage()` method for the class in order to set up the `ceci` infrastructure and then invoke the `inform()` or `estimate()` method for the class in question.  We show examples of this below."
   ]
  },
  {
   "cell_type": "markdown",
   "metadata": {},
   "source": [
    "Now, let's load our training data, which is stored in hdf5 format.  We'll load it into the `DataStore` so that the `ceci` stages are able to access it."
   ]
  },
  {
   "cell_type": "code",
   "execution_count": 6,
   "metadata": {},
   "outputs": [],
   "source": [
    "from rail.utils.path_utils import find_rail_file\n",
    "trainFile = os.path.abspath(\"/data/scratch/qiaozhih/data/redshift/dc2/rail_train_lsst_2000k.hdf5\")\n",
    "testFile = os.path.abspath(\"/data/scratch/qiaozhih/data/redshift/dc2/rail_test_lsst.hdf5\")\n",
    "\n",
    "training_data = DS.read_file(\"training_data\", TableHandle, trainFile)\n",
    "test_data = DS.read_file(\"test_data\", TableHandle, testFile)"
   ]
  },
  {
   "cell_type": "code",
   "execution_count": 7,
   "metadata": {},
   "outputs": [],
   "source": [
    "zgrid = np.linspace(0, 3., 301)"
   ]
  },
  {
   "cell_type": "markdown",
   "metadata": {},
   "source": [
    "## FlexZBoost"
   ]
  },
  {
   "cell_type": "markdown",
   "metadata": {},
   "source": [
    "That illustrates the basics. Now let's try the `FlexZBoostEstimator` estimator.  FlexZBoost is available in the [rail_flexzboost](https://github.com/LSSTDESC/rail_flexzboost/) repo and can be installed with\n",
    "\n",
    "`pip install pz-rail-flexzboost`\n",
    "\n",
    "on the command line or from source.  Once installed, it will function the same as any of the other estimators included in the primary `rail` repo.\n",
    "\n",
    "`FlexZBoostEstimator` approximates the conditional density estimate for each PDF with a set of weights on a set of basis functions.  This can save space relative to a gridded parameterization, but it also leads to residual \"bumps\" in the PDF intrinsic to the underlying cosine or fourier parameterization.  For this reason, `FlexZBoostEstimator` has a post-processing stage where it \"trims\" (i.e. sets to zero) any small peaks, or \"bumps\", below a certain `bump_thresh` threshold.\n",
    "\n",
    "One of the dominant features seen in our PhotoZDC1 analysis of multiple photo-z codes (Schmidt, Malz et al. 2020) was that photo-z estimates were often, in general, overconfident or underconfident in their overall uncertainty in PDFs.  To remedy this, `FlexZBoostEstimator` has an additional post-processing step where it applies a \"sharpening\" parameter `sharpen` that modulates the width of the PDFs according to a power law.\n",
    "\n",
    "A portion of the training data is held in reserve to determine best-fit values for both `bump_thresh` and `sharpening`, which we currently find by simply calculating the CDE loss for a grid of `bump_thresh` and `sharpening` values; once those values are set FlexZBoost will re-train its density estimate model with the full dataset. A more sophisticated hyperparameter fitting procedure may be implemented in the future.\n",
    "\n",
    "We'll start with a dictionary of setup parameters for FlexZBoostEstimator, just as we had for the k-nearest neighbor estimator.  Some of the parameters are the same as in k-nearest neighbor above, `zmin`, `zmax`, `nzbins`.  However, FlexZBoostEstimator performs a more in depth training and as such has more input parameters to control its behavior.  These parameters are:\n",
    "\n",
    "- `basis_system`: which basis system to use in the density estimate. The default is `cosine` but `fourier` is also an option\n",
    "- `max_basis`: the maximum number of basis functions parameters to use for PDFs\n",
    "- `regression_params`: a dictionary of options fed to `xgboost` that control the maximum depth and the `objective` function.  An update in `xgboost` means that `objective` should now be set to `reg:squarederror` for proper functioning.\n",
    "- `trainfrac`: The fraction of the training data to use for training the density estimate.  The remaining galaxies will be used for validation of `bump_thresh` and `sharpening`.\n",
    "- `bumpmin`: the minimum value to test in the `bump_thresh` grid\n",
    "- `bumpmax`: the maximum value to test in the `bump_thresh` grid\n",
    "- `nbump`: how many points to test in the `bump_thresh` grid\n",
    "- `sharpmin`, `sharpmax`, `nsharp`: same as equivalent `bump_thresh` params, but for `sharpening` parameter"
   ]
  },
  {
   "cell_type": "code",
   "execution_count": 8,
   "metadata": {},
   "outputs": [],
   "source": [
    "fz_dict = dict(zmin=0.0, zmax=3.0, nzbins=301,\n",
    "               trainfrac=0.75, bumpmin=0.02, bumpmax=0.35,\n",
    "               nbump=20, sharpmin=0.7, sharpmax=2.1, nsharp=15,\n",
    "               max_basis=35, basis_system='cosine',\n",
    "               hdf5_groupname='photometry',\n",
    "               regression_params={'max_depth': 8,'objective':'reg:squarederror'})\n",
    "fz_modelfile = 'demo_FZB_model_2000k.pkl'"
   ]
  },
  {
   "cell_type": "code",
   "execution_count": 9,
   "metadata": {},
   "outputs": [],
   "source": [
    "from rail.estimation.algos.flexzboost import FlexZBoostInformer, FlexZBoostEstimator\n",
    "inform_pzflex = FlexZBoostInformer.make_stage(name='inform_fzboost', model=fz_modelfile, **fz_dict)"
   ]
  },
  {
   "cell_type": "markdown",
   "metadata": {},
   "source": [
    "`FlexZBoostInformer` operates on the training set and writes a file containing the estimation model.  `FlexZBoost` uses xgboost to determine a conditional density estimate model, and also fits the `bump_thresh` and `sharpen` parameters described above.\n",
    "\n",
    "`FlexZBoost` is a bit more sophisticated than the earlier k-nearest neighbor estimator, so it will take a bit longer to train, but not drastically so, still under a minute on a semi-new laptop.  We specified the name of the model file, `demo_FZB_model.pkl`, which will store our trained model for use with the estimation stage."
   ]
  },
  {
   "cell_type": "code",
   "execution_count": 10,
   "metadata": {},
   "outputs": [
    {
     "name": "stdout",
     "output_type": "stream",
     "text": [
      "stacking some data...\n",
      "read in training data\n",
      "fit the model...\n"
     ]
    },
    {
     "name": "stderr",
     "output_type": "stream",
     "text": [
      "/home/qiaozhih/rail/.env/lib/python3.10/site-packages/joblib/externals/loky/backend/fork_exec.py:38: RuntimeWarning: os.fork() was called. os.fork() is incompatible with multithreaded code, and JAX is multithreaded, so this will likely lead to a deadlock.\n",
      "  pid = os.fork()\n",
      "/home/qiaozhih/rail/.env/lib/python3.10/site-packages/xgboost/core.py:158: UserWarning: [17:12:51] WARNING: /workspace/src/learner.cc:740: \n",
      "Parameters: { \"silent\" } are not used.\n",
      "\n",
      "  warnings.warn(smsg, UserWarning)\n",
      "/home/qiaozhih/rail/.env/lib/python3.10/site-packages/xgboost/core.py:158: UserWarning: [17:12:52] WARNING: /workspace/src/learner.cc:740: \n",
      "Parameters: { \"silent\" } are not used.\n",
      "\n",
      "  warnings.warn(smsg, UserWarning)\n",
      "/home/qiaozhih/rail/.env/lib/python3.10/site-packages/xgboost/core.py:158: UserWarning: [17:12:53] WARNING: /workspace/src/learner.cc:740: \n",
      "Parameters: { \"silent\" } are not used.\n",
      "\n",
      "  warnings.warn(smsg, UserWarning)\n",
      "/home/qiaozhih/rail/.env/lib/python3.10/site-packages/xgboost/core.py:158: UserWarning: [17:12:53] WARNING: /workspace/src/learner.cc:740: \n",
      "Parameters: { \"silent\" } are not used.\n",
      "\n",
      "  warnings.warn(smsg, UserWarning)\n",
      "/home/qiaozhih/rail/.env/lib/python3.10/site-packages/xgboost/core.py:158: UserWarning: [17:12:53] WARNING: /workspace/src/learner.cc:740: \n",
      "Parameters: { \"silent\" } are not used.\n",
      "\n",
      "  warnings.warn(smsg, UserWarning)\n",
      "/home/qiaozhih/rail/.env/lib/python3.10/site-packages/xgboost/core.py:158: UserWarning: [17:12:54] WARNING: /workspace/src/learner.cc:740: \n",
      "Parameters: { \"silent\" } are not used.\n",
      "\n",
      "  warnings.warn(smsg, UserWarning)\n",
      "/home/qiaozhih/rail/.env/lib/python3.10/site-packages/xgboost/core.py:158: UserWarning: [17:12:54] WARNING: /workspace/src/learner.cc:740: \n",
      "Parameters: { \"silent\" } are not used.\n",
      "\n",
      "  warnings.warn(smsg, UserWarning)\n",
      "/home/qiaozhih/rail/.env/lib/python3.10/site-packages/xgboost/core.py:158: UserWarning: [17:12:54] WARNING: /workspace/src/learner.cc:740: \n",
      "Parameters: { \"silent\" } are not used.\n",
      "\n",
      "  warnings.warn(smsg, UserWarning)\n",
      "/home/qiaozhih/rail/.env/lib/python3.10/site-packages/xgboost/core.py:158: UserWarning: [17:12:54] WARNING: /workspace/src/learner.cc:740: \n",
      "Parameters: { \"silent\" } are not used.\n",
      "\n",
      "  warnings.warn(smsg, UserWarning)\n",
      "/home/qiaozhih/rail/.env/lib/python3.10/site-packages/xgboost/core.py:158: UserWarning: [17:12:54] WARNING: /workspace/src/learner.cc:740: \n",
      "Parameters: { \"silent\" } are not used.\n",
      "\n",
      "  warnings.warn(smsg, UserWarning)\n",
      "/home/qiaozhih/rail/.env/lib/python3.10/site-packages/xgboost/core.py:158: UserWarning: [17:12:54] WARNING: /workspace/src/learner.cc:740: \n",
      "Parameters: { \"silent\" } are not used.\n",
      "\n",
      "  warnings.warn(smsg, UserWarning)\n"
     ]
    }
   ],
   "source": [
    "%%time\n",
    "inform_pzflex.inform(training_data)"
   ]
  },
  {
   "cell_type": "markdown",
   "metadata": {},
   "source": [
    "## Loading a pre-trained model"
   ]
  },
  {
   "cell_type": "markdown",
   "metadata": {},
   "source": [
    "If we have an existing pretrained model, for example the one in the file `demo_FZB_model.pkl`, we can skip this step in subsequent runs of an estimator; that is, we load this pickled model without having to repeat the training stage for this specific training data, and that can save time for larger training sets that would take longer to create the model.\n",
    "\n",
    "There are two supported model output representations, `interp` (default) and `flexzboost`. Using `flexzboost` will store the output basis function weights from FlexCode, resulting in a smaller storage size on disk and giving the user the option to tune the sharpening and bump-removal parameters as a post-processing step. However, if you know that you will be performing operations on PDFs evaluated on a redshift grid that is known before performing the estimation, you can peform that post-processing up front by employing `interp` to store the output as interpolated y values for a given set of x values, requiring more storage space but eliminating the need to evaluate the PDFs upon downstream usage. \n",
    "\n",
    "For additional comparisons of the approaches, see the documentation for `qp_flexzboost` here: https://qp-flexzboost.readthedocs.io/en/latest/source/performance_comparison.html"
   ]
  },
  {
   "cell_type": "code",
   "execution_count": 10,
   "metadata": {},
   "outputs": [
    {
     "name": "stdout",
     "output_type": "stream",
     "text": [
      "Inserting handle into data store.  model_inform_fzboost: inprogress_demo_FZB_model_2000k.pkl, inform_fzboost\n"
     ]
    },
    {
     "data": {
      "text/plain": [
       "\"\\npzflex = FlexZBoostEstimator.make_stage(name='fzboost', hdf5_groupname='photometry',\\n                            model=inform_pzflex.get_handle('model'),\\n                            qp_representation='interp')\\n\\npzflex = FlexZBoostEstimator.make_stage(name='fzboost', hdf5_groupname='photometry',\\n                            model=inform_pzflex.get_handle('model'),\\n                            qp_representation='flexzboost')\\n\""
      ]
     },
     "execution_count": 10,
     "metadata": {},
     "output_type": "execute_result"
    }
   ],
   "source": [
    "# %%time\n",
    "pzflex = FlexZBoostEstimator.make_stage(name='fzboost', hdf5_groupname='photometry',\n",
    "                            model=inform_pzflex.get_handle('model', allow_missing=True))\n",
    "\n",
    "# For this notebook, we will use the default value of qp_representation as shown\n",
    "# above due to the additional computation time that would be required in the\n",
    "# later steps when working with the flexzboost representation.\n",
    "# Below are two examples showing the explicit use of the qp_representation argument.\n",
    "\"\"\"\n",
    "pzflex = FlexZBoostEstimator.make_stage(name='fzboost', hdf5_groupname='photometry',\n",
    "                            model=inform_pzflex.get_handle('model'),\n",
    "                            qp_representation='interp')\n",
    "\n",
    "pzflex = FlexZBoostEstimator.make_stage(name='fzboost', hdf5_groupname='photometry',\n",
    "                            model=inform_pzflex.get_handle('model'),\n",
    "                            qp_representation='flexzboost')\n",
    "\"\"\""
   ]
  },
  {
   "cell_type": "markdown",
   "metadata": {},
   "source": [
    "It takes only a few seconds, so, if you are running an algorithm with a burdensome training requirement, saving a trained copy of the model for later repeated use can be a real time saver."
   ]
  },
  {
   "cell_type": "markdown",
   "metadata": {},
   "source": [
    "Now, let's compute photo-z's using with the `estimate` method.  "
   ]
  },
  {
   "cell_type": "code",
   "execution_count": 12,
   "metadata": {},
   "outputs": [
    {
     "name": "stdout",
     "output_type": "stream",
     "text": [
      "Process 0 running estimator on chunk 0 - 10000\n",
      "Process 0 estimating PZ PDF for rows 0 - 10,000\n"
     ]
    },
    {
     "name": "stderr",
     "output_type": "stream",
     "text": [
      "/home/qiaozhih/rail/.env/lib/python3.10/site-packages/joblib/externals/loky/backend/fork_exec.py:38: RuntimeWarning: os.fork() was called. os.fork() is incompatible with multithreaded code, and JAX is multithreaded, so this will likely lead to a deadlock.\n",
      "  pid = os.fork()\n"
     ]
    },
    {
     "name": "stdout",
     "output_type": "stream",
     "text": [
      "Inserting handle into data store.  output_fzboost: inprogress_output_fzboost.hdf5, fzboost\n",
      "Process 0 running estimator on chunk 10000 - 20000\n",
      "Process 0 estimating PZ PDF for rows 10,000 - 20,000\n",
      "Process 0 running estimator on chunk 20000 - 30000\n",
      "Process 0 estimating PZ PDF for rows 20,000 - 30,000\n",
      "Process 0 running estimator on chunk 30000 - 40000\n",
      "Process 0 estimating PZ PDF for rows 30,000 - 40,000\n",
      "Process 0 running estimator on chunk 40000 - 50000\n",
      "Process 0 estimating PZ PDF for rows 40,000 - 50,000\n",
      "Process 0 running estimator on chunk 50000 - 60000\n",
      "Process 0 estimating PZ PDF for rows 50,000 - 60,000\n",
      "Process 0 running estimator on chunk 60000 - 70000\n",
      "Process 0 estimating PZ PDF for rows 60,000 - 70,000\n",
      "Process 0 running estimator on chunk 70000 - 80000\n",
      "Process 0 estimating PZ PDF for rows 70,000 - 80,000\n",
      "Process 0 running estimator on chunk 80000 - 90000\n",
      "Process 0 estimating PZ PDF for rows 80,000 - 90,000\n",
      "Process 0 running estimator on chunk 90000 - 100000\n",
      "Process 0 estimating PZ PDF for rows 90,000 - 100,000\n",
      "Process 0 running estimator on chunk 100000 - 110000\n",
      "Process 0 estimating PZ PDF for rows 100,000 - 110,000\n",
      "Process 0 running estimator on chunk 110000 - 120000\n",
      "Process 0 estimating PZ PDF for rows 110,000 - 120,000\n",
      "Process 0 running estimator on chunk 120000 - 130000\n",
      "Process 0 estimating PZ PDF for rows 120,000 - 130,000\n",
      "Process 0 running estimator on chunk 130000 - 140000\n",
      "Process 0 estimating PZ PDF for rows 130,000 - 140,000\n",
      "Process 0 running estimator on chunk 140000 - 150000\n",
      "Process 0 estimating PZ PDF for rows 140,000 - 150,000\n",
      "Process 0 running estimator on chunk 150000 - 159204\n",
      "Process 0 estimating PZ PDF for rows 150,000 - 159,204\n"
     ]
    }
   ],
   "source": [
    "# %%time\n",
    "fzresults = pzflex.estimate(test_data)"
   ]
  },
  {
   "cell_type": "markdown",
   "metadata": {},
   "source": [
    "We can calculate the median and mode values of the PDFs and plot their distribution (in this case the modes are already stored in the qp.Ensemble's ancillary data, but here is an example of computing the point estimates via qp directly):"
   ]
  },
  {
   "cell_type": "code",
   "execution_count": 13,
   "metadata": {},
   "outputs": [],
   "source": [
    "fz_medians = fzresults().median()\n",
    "fz_modes = fzresults().mode(grid=zgrid)"
   ]
  },
  {
   "cell_type": "markdown",
   "metadata": {},
   "source": [
    "We can also plot a point estimaten against the truth as a visual diagnostic:"
   ]
  },
  {
   "cell_type": "code",
   "execution_count": 14,
   "metadata": {},
   "outputs": [
    {
     "data": {
      "text/plain": [
       "Text(0, 0.5, 'estimated photoz')"
      ]
     },
     "execution_count": 14,
     "metadata": {},
     "output_type": "execute_result"
    },
    {
     "data": {
      "image/png": "[encoded data removed]",
      "text/plain": [
       "<Figure size 600x600 with 1 Axes>"
      ]
     },
     "metadata": {},
     "output_type": "display_data"
    }
   ],
   "source": [
    "import seaborn as sns\n",
    "sns.set_theme()\n",
    "plt.figure(figsize=(6,6))\n",
    "plt.scatter(test_data()['photometry']['redshift'],fz_modes,s=1,c='k')\n",
    "plt.plot([0,3],[0,3],'r--')\n",
    "plt.xlabel(\"true redshift\")\n",
    "plt.ylabel(\"estimated photoz\")\n",
    "# plt.savefig('train_2000k_gt_testset.pdf')"
   ]
  },
  {
   "cell_type": "code",
   "execution_count": 16,
   "metadata": {},
   "outputs": [
    {
     "data": {
      "text/plain": [
       "np.float64(0.6649825424164433)"
      ]
     },
     "execution_count": 16,
     "metadata": {},
     "output_type": "execute_result"
    }
   ],
   "source": [
    "from sklearn.metrics import mean_squared_error\n",
    "mean_squared_error(test_data()['photometry']['redshift'], fz_modes)"
   ]
  },
  {
   "cell_type": "markdown",
   "metadata": {},
   "source": [
    "## metrics for evaluation"
   ]
  },
  {
   "cell_type": "code",
   "execution_count": 20,
   "metadata": {},
   "outputs": [],
   "source": [
    "import pandas as pd\n",
    "rail_df = pd.DataFrame({\n",
    "    \"true_red\": test_data()['photometry']['redshift'],\n",
    "    \"est_red\": fz_modes.squeeze(-1),\n",
    "    \"mag_r\": test_data()['photometry']['mag_r_lsst'],\n",
    "    \"id\": test_data()['photometry']['objid'],\n",
    "    \"blendedness\": test_data()['photometry']['blendedness'],\n",
    "})"
   ]
  },
  {
   "cell_type": "code",
   "execution_count": 21,
   "metadata": {},
   "outputs": [
    {
     "data": {
      "text/plain": [
       "odict_keys(['blendedness', 'mag_g_lsst', 'mag_i_lsst', 'mag_r_lsst', 'mag_u_lsst', 'mag_y_lsst', 'mag_z_lsst', 'magerr_g_lsst', 'magerr_i_lsst', 'magerr_r_lsst', 'magerr_u_lsst', 'magerr_y_lsst', 'magerr_z_lsst', 'objid', 'redshift'])"
      ]
     },
     "execution_count": 21,
     "metadata": {},
     "output_type": "execute_result"
    }
   ],
   "source": [
    "test_data()['photometry'].keys()"
   ]
  },
  {
   "cell_type": "code",
   "execution_count": 22,
   "metadata": {},
   "outputs": [],
   "source": [
    "mag_bins = [-np.inf, 23.9, 24.1, 24.5, 24.9, 25.6, np.inf]\n",
    "mag_labels = [\"<23.9\", \"23.9-24.1\", \"24.1-24.5\", \"24.5-24.9\", \"24.9-25.6\", \">25.6\"]\n",
    "true_red_bins = [0, 0.5, 1, 1.5, 2, 2.5, 3, np.inf]\n",
    "true_red_labels = [\"<0.5\", \"0.5-1.0\", \"1.0-1.5\", \"1.5-2.0\", \"2.0-2.5\", \"2.5-3.0\",\">3.0\"]\n",
    "blendedness_bins = [-np.inf ,0.0001, 0.02, 0.1, 0.2, 0.6, np.inf]\n",
    "blendedness_labels = [\"<0.0001\", \"0.0001-0.02\", \"0.02-0.1\", \"0.1-0.2\", \"0.2-0.6\",\">0.6\"]\n",
    "rail_df['mag_bins'] = pd.cut(rail_df['mag_r'], bins=mag_bins, labels=mag_labels, include_lowest=True)\n",
    "rail_df['true_red_bins'] = pd.cut(rail_df['true_red'], bins=true_red_bins, labels=true_red_labels, include_lowest=True)\n",
    "rail_df['blendedness_bins'] = pd.cut(rail_df['blendedness'], bins=blendedness_bins, labels=blendedness_labels, include_lowest=True)\n",
    "\n",
    "def calculate_mse(group):\n",
    "    return ((group['true_red'] - group['est_red']) ** 2).mean()\n",
    "\n",
    "def calculate_outlier_fraction(group):\n",
    "    metric_outlier = np.abs(group['true_red'] - group['est_red']) / (1 + group['true_red'])\n",
    "    num_outlier = (metric_outlier > 0.15).sum()\n",
    "    return num_outlier / len(metric_outlier)\n",
    "\n",
    "def calculate_outlier_fraction_cata(group):\n",
    "    metric_outlier = np.abs(group['true_red'] - group['est_red']) / (1 + group['true_red'])\n",
    "    num_outlier = (metric_outlier > 1).sum()\n",
    "    return num_outlier / len(metric_outlier)\n",
    "\n",
    "def calculate_nmad(group):\n",
    "    metric = (group['true_red'] - group['est_red']) / (1 + group['true_red'])\n",
    "    bias = np.median(metric)\n",
    "    nmad_all = np.abs(metric - bias)\n",
    "    nmad = 1.4826 * np.median(nmad_all)\n",
    "    return nmad\n",
    "\n",
    "def calculate_bias_abs(group):\n",
    "    metric = np.abs(group['true_red'] - group['est_red']) / (1 + group['true_red'])\n",
    "    return np.median(metric)"
   ]
  },
  {
   "cell_type": "code",
   "execution_count": 23,
   "metadata": {},
   "outputs": [],
   "source": [
    "out_dir = \"/data/scratch/qiaozhih/data/redshift/metrics_result\"\n",
    "os.makedirs(out_dir, exist_ok=True)"
   ]
  },
  {
   "cell_type": "code",
   "execution_count": 24,
   "metadata": {},
   "outputs": [
    {
     "name": "stderr",
     "output_type": "stream",
     "text": [
      "/tmp/ipykernel_1029249/660124161.py:2: FutureWarning: The default of observed=False is deprecated and will be changed to True in a future version of pandas. Pass observed=False to retain current behavior or observed=True to adopt the future default and silence this warning.\n",
      "  mse_by_mag_range = rail_df.groupby('mag_bins').apply(calculate_mse).reset_index(name='mse')\n",
      "/tmp/ipykernel_1029249/660124161.py:2: DeprecationWarning: DataFrameGroupBy.apply operated on the grouping columns. This behavior is deprecated, and in a future version of pandas the grouping columns will be excluded from the operation. Either pass `include_groups=False` to exclude the groupings or explicitly select the grouping columns after groupby to silence this warning.\n",
      "  mse_by_mag_range = rail_df.groupby('mag_bins').apply(calculate_mse).reset_index(name='mse')\n",
      "/tmp/ipykernel_1029249/660124161.py:3: FutureWarning: The default of observed=False is deprecated and will be changed to True in a future version of pandas. Pass observed=False to retain current behavior or observed=True to adopt the future default and silence this warning.\n",
      "  outlier_fraction_by_mag_range = rail_df.groupby('mag_bins').apply(calculate_outlier_fraction).reset_index(name='outlier_fraction')\n",
      "/tmp/ipykernel_1029249/660124161.py:3: DeprecationWarning: DataFrameGroupBy.apply operated on the grouping columns. This behavior is deprecated, and in a future version of pandas the grouping columns will be excluded from the operation. Either pass `include_groups=False` to exclude the groupings or explicitly select the grouping columns after groupby to silence this warning.\n",
      "  outlier_fraction_by_mag_range = rail_df.groupby('mag_bins').apply(calculate_outlier_fraction).reset_index(name='outlier_fraction')\n",
      "/tmp/ipykernel_1029249/660124161.py:4: FutureWarning: The default of observed=False is deprecated and will be changed to True in a future version of pandas. Pass observed=False to retain current behavior or observed=True to adopt the future default and silence this warning.\n",
      "  outlier_fraction_cata_by_mag_range = rail_df.groupby('mag_bins').apply(calculate_outlier_fraction_cata).reset_index(name='outlier_fraction')\n",
      "/tmp/ipykernel_1029249/660124161.py:4: DeprecationWarning: DataFrameGroupBy.apply operated on the grouping columns. This behavior is deprecated, and in a future version of pandas the grouping columns will be excluded from the operation. Either pass `include_groups=False` to exclude the groupings or explicitly select the grouping columns after groupby to silence this warning.\n",
      "  outlier_fraction_cata_by_mag_range = rail_df.groupby('mag_bins').apply(calculate_outlier_fraction_cata).reset_index(name='outlier_fraction')\n",
      "/tmp/ipykernel_1029249/660124161.py:5: FutureWarning: The default of observed=False is deprecated and will be changed to True in a future version of pandas. Pass observed=False to retain current behavior or observed=True to adopt the future default and silence this warning.\n",
      "  nmad_by_mag_range = rail_df.groupby('mag_bins').apply(calculate_nmad).reset_index(name='nmad')\n",
      "/tmp/ipykernel_1029249/660124161.py:5: DeprecationWarning: DataFrameGroupBy.apply operated on the grouping columns. This behavior is deprecated, and in a future version of pandas the grouping columns will be excluded from the operation. Either pass `include_groups=False` to exclude the groupings or explicitly select the grouping columns after groupby to silence this warning.\n",
      "  nmad_by_mag_range = rail_df.groupby('mag_bins').apply(calculate_nmad).reset_index(name='nmad')\n",
      "/tmp/ipykernel_1029249/660124161.py:6: FutureWarning: The default of observed=False is deprecated and will be changed to True in a future version of pandas. Pass observed=False to retain current behavior or observed=True to adopt the future default and silence this warning.\n",
      "  bias_abs_by_mag_range = rail_df.groupby('mag_bins').apply(calculate_bias_abs).reset_index(name='bias_abs')\n",
      "/tmp/ipykernel_1029249/660124161.py:6: DeprecationWarning: DataFrameGroupBy.apply operated on the grouping columns. This behavior is deprecated, and in a future version of pandas the grouping columns will be excluded from the operation. Either pass `include_groups=False` to exclude the groupings or explicitly select the grouping columns after groupby to silence this warning.\n",
      "  bias_abs_by_mag_range = rail_df.groupby('mag_bins').apply(calculate_bias_abs).reset_index(name='bias_abs')\n"
     ]
    }
   ],
   "source": [
    "# mag\n",
    "mse_by_mag_range = rail_df.groupby('mag_bins').apply(calculate_mse).reset_index(name='mse')\n",
    "outlier_fraction_by_mag_range = rail_df.groupby('mag_bins').apply(calculate_outlier_fraction).reset_index(name='outlier_fraction')\n",
    "outlier_fraction_cata_by_mag_range = rail_df.groupby('mag_bins').apply(calculate_outlier_fraction_cata).reset_index(name='outlier_fraction')\n",
    "nmad_by_mag_range = rail_df.groupby('mag_bins').apply(calculate_nmad).reset_index(name='nmad')\n",
    "bias_abs_by_mag_range = rail_df.groupby('mag_bins').apply(calculate_bias_abs).reset_index(name='bias_abs')\n",
    "merged_df = mse_by_mag_range.merge(outlier_fraction_by_mag_range, on='mag_bins')\n",
    "merged_df = merged_df.merge(outlier_fraction_cata_by_mag_range, on='mag_bins', suffixes=('', '_cata'))\n",
    "merged_df = merged_df.merge(nmad_by_mag_range, on='mag_bins')\n"
   ]
  },
  {
   "cell_type": "code",
   "execution_count": 25,
   "metadata": {},
   "outputs": [],
   "source": [
    "save_path = os.path.join(out_dir, \"lsst_flexzboost_metrics_mag.csv\")\n",
    "if os.path.exists(save_path):\n",
    "    metrics_df_stratified_by_mag = merged_df.merge(bias_abs_by_mag_range, on='mag_bins')\n",
    "    metrics_df_stratified_by_mag.to_csv(save_path)\n",
    "else:\n",
    "    metrics_df_stratified_by_mag = pd.read_csv(save_path, index_col=0)"
   ]
  },
  {
   "cell_type": "code",
   "execution_count": 26,
   "metadata": {},
   "outputs": [
    {
     "data": {
      "text/html": [
       "<div>\n",
       "<style scoped>\n",
       "    .dataframe tbody tr th:only-of-type {\n",
       "        vertical-align: middle;\n",
       "    }\n",
       "\n",
       "    .dataframe tbody tr th {\n",
       "        vertical-align: top;\n",
       "    }\n",
       "\n",
       "    .dataframe thead th {\n",
       "        text-align: right;\n",
       "    }\n",
       "</style>\n",
       "<table border=\"1\" class=\"dataframe\">\n",
       "  <thead>\n",
       "    <tr style=\"text-align: right;\">\n",
       "      <th></th>\n",
       "      <th>mag_bins</th>\n",
       "      <th>mse</th>\n",
       "      <th>outlier_fraction</th>\n",
       "      <th>outlier_fraction_cata</th>\n",
       "      <th>nmad</th>\n",
       "      <th>bias_abs</th>\n",
       "    </tr>\n",
       "  </thead>\n",
       "  <tbody>\n",
       "    <tr>\n",
       "      <th>0</th>\n",
       "      <td>&lt;23.9</td>\n",
       "      <td>0.312682</td>\n",
       "      <td>0.137891</td>\n",
       "      <td>0.039014</td>\n",
       "      <td>0.029221</td>\n",
       "      <td>0.020070</td>\n",
       "    </tr>\n",
       "    <tr>\n",
       "      <th>1</th>\n",
       "      <td>23.9-24.1</td>\n",
       "      <td>0.537919</td>\n",
       "      <td>0.232978</td>\n",
       "      <td>0.071344</td>\n",
       "      <td>0.056320</td>\n",
       "      <td>0.038440</td>\n",
       "    </tr>\n",
       "    <tr>\n",
       "      <th>2</th>\n",
       "      <td>24.1-24.5</td>\n",
       "      <td>0.568038</td>\n",
       "      <td>0.248760</td>\n",
       "      <td>0.073940</td>\n",
       "      <td>0.062480</td>\n",
       "      <td>0.042392</td>\n",
       "    </tr>\n",
       "    <tr>\n",
       "      <th>3</th>\n",
       "      <td>24.5-24.9</td>\n",
       "      <td>0.616942</td>\n",
       "      <td>0.301162</td>\n",
       "      <td>0.077630</td>\n",
       "      <td>0.080132</td>\n",
       "      <td>0.054845</td>\n",
       "    </tr>\n",
       "    <tr>\n",
       "      <th>4</th>\n",
       "      <td>24.9-25.6</td>\n",
       "      <td>0.708274</td>\n",
       "      <td>0.398283</td>\n",
       "      <td>0.080509</td>\n",
       "      <td>0.133543</td>\n",
       "      <td>0.090257</td>\n",
       "    </tr>\n",
       "    <tr>\n",
       "      <th>5</th>\n",
       "      <td>&gt;25.6</td>\n",
       "      <td>0.767819</td>\n",
       "      <td>0.551018</td>\n",
       "      <td>0.057545</td>\n",
       "      <td>0.276814</td>\n",
       "      <td>0.184987</td>\n",
       "    </tr>\n",
       "  </tbody>\n",
       "</table>\n",
       "</div>"
      ],
      "text/plain": [
       "    mag_bins       mse  outlier_fraction  outlier_fraction_cata      nmad  \\\n",
       "0      <23.9  0.312682          0.137891               0.039014  0.029221   \n",
       "1  23.9-24.1  0.537919          0.232978               0.071344  0.056320   \n",
       "2  24.1-24.5  0.568038          0.248760               0.073940  0.062480   \n",
       "3  24.5-24.9  0.616942          0.301162               0.077630  0.080132   \n",
       "4  24.9-25.6  0.708274          0.398283               0.080509  0.133543   \n",
       "5      >25.6  0.767819          0.551018               0.057545  0.276814   \n",
       "\n",
       "   bias_abs  \n",
       "0  0.020070  \n",
       "1  0.038440  \n",
       "2  0.042392  \n",
       "3  0.054845  \n",
       "4  0.090257  \n",
       "5  0.184987  "
      ]
     },
     "execution_count": 26,
     "metadata": {},
     "output_type": "execute_result"
    }
   ],
   "source": [
    "metrics_df_stratified_by_mag"
   ]
  },
  {
   "cell_type": "code",
   "execution_count": 27,
   "metadata": {},
   "outputs": [
    {
     "name": "stderr",
     "output_type": "stream",
     "text": [
      "/tmp/ipykernel_1029249/1228670815.py:4: FutureWarning: The default of observed=False is deprecated and will be changed to True in a future version of pandas. Pass observed=False to retain current behavior or observed=True to adopt the future default and silence this warning.\n",
      "  mse_by_true_red_range = rail_df.groupby('true_red_bins').apply(calculate_mse).reset_index(name='mse')\n",
      "/tmp/ipykernel_1029249/1228670815.py:4: DeprecationWarning: DataFrameGroupBy.apply operated on the grouping columns. This behavior is deprecated, and in a future version of pandas the grouping columns will be excluded from the operation. Either pass `include_groups=False` to exclude the groupings or explicitly select the grouping columns after groupby to silence this warning.\n",
      "  mse_by_true_red_range = rail_df.groupby('true_red_bins').apply(calculate_mse).reset_index(name='mse')\n"
     ]
    }
   ],
   "source": [
    "# true red\n",
    "save_path = os.path.join(out_dir, \"lsst_flexzboost_metrics_truered.csv\")\n",
    "if os.path.exists(save_path):\n",
    "    mse_by_true_red_range = rail_df.groupby('true_red_bins').apply(calculate_mse).reset_index(name='mse')\n",
    "    mse_by_true_red_range.to_csv(save_path)\n",
    "else:\n",
    "    mse_by_true_red_range = pd.read_csv(save_path, index_col=0)"
   ]
  },
  {
   "cell_type": "code",
   "execution_count": 28,
   "metadata": {},
   "outputs": [
    {
     "data": {
      "text/html": [
       "<div>\n",
       "<style scoped>\n",
       "    .dataframe tbody tr th:only-of-type {\n",
       "        vertical-align: middle;\n",
       "    }\n",
       "\n",
       "    .dataframe tbody tr th {\n",
       "        vertical-align: top;\n",
       "    }\n",
       "\n",
       "    .dataframe thead th {\n",
       "        text-align: right;\n",
       "    }\n",
       "</style>\n",
       "<table border=\"1\" class=\"dataframe\">\n",
       "  <thead>\n",
       "    <tr style=\"text-align: right;\">\n",
       "      <th></th>\n",
       "      <th>true_red_bins</th>\n",
       "      <th>mse</th>\n",
       "    </tr>\n",
       "  </thead>\n",
       "  <tbody>\n",
       "    <tr>\n",
       "      <th>0</th>\n",
       "      <td>&lt;0.5</td>\n",
       "      <td>1.464552</td>\n",
       "    </tr>\n",
       "    <tr>\n",
       "      <th>1</th>\n",
       "      <td>0.5-1.0</td>\n",
       "      <td>0.577115</td>\n",
       "    </tr>\n",
       "    <tr>\n",
       "      <th>2</th>\n",
       "      <td>1.0-1.5</td>\n",
       "      <td>0.267938</td>\n",
       "    </tr>\n",
       "    <tr>\n",
       "      <th>3</th>\n",
       "      <td>1.5-2.0</td>\n",
       "      <td>0.431604</td>\n",
       "    </tr>\n",
       "    <tr>\n",
       "      <th>4</th>\n",
       "      <td>2.0-2.5</td>\n",
       "      <td>1.056610</td>\n",
       "    </tr>\n",
       "    <tr>\n",
       "      <th>5</th>\n",
       "      <td>2.5-3.0</td>\n",
       "      <td>2.018993</td>\n",
       "    </tr>\n",
       "    <tr>\n",
       "      <th>6</th>\n",
       "      <td>&gt;3.0</td>\n",
       "      <td>2.683679</td>\n",
       "    </tr>\n",
       "  </tbody>\n",
       "</table>\n",
       "</div>"
      ],
      "text/plain": [
       "  true_red_bins       mse\n",
       "0          <0.5  1.464552\n",
       "1       0.5-1.0  0.577115\n",
       "2       1.0-1.5  0.267938\n",
       "3       1.5-2.0  0.431604\n",
       "4       2.0-2.5  1.056610\n",
       "5       2.5-3.0  2.018993\n",
       "6          >3.0  2.683679"
      ]
     },
     "execution_count": 28,
     "metadata": {},
     "output_type": "execute_result"
    }
   ],
   "source": [
    "mse_by_true_red_range"
   ]
  },
  {
   "cell_type": "code",
   "execution_count": 29,
   "metadata": {},
   "outputs": [
    {
     "name": "stderr",
     "output_type": "stream",
     "text": [
      "/tmp/ipykernel_1029249/958567973.py:4: FutureWarning: The default of observed=False is deprecated and will be changed to True in a future version of pandas. Pass observed=False to retain current behavior or observed=True to adopt the future default and silence this warning.\n",
      "  mse_by_blendedness_range = rail_df.groupby('blendedness_bins').apply(calculate_mse).reset_index(name='mse')\n",
      "/tmp/ipykernel_1029249/958567973.py:4: DeprecationWarning: DataFrameGroupBy.apply operated on the grouping columns. This behavior is deprecated, and in a future version of pandas the grouping columns will be excluded from the operation. Either pass `include_groups=False` to exclude the groupings or explicitly select the grouping columns after groupby to silence this warning.\n",
      "  mse_by_blendedness_range = rail_df.groupby('blendedness_bins').apply(calculate_mse).reset_index(name='mse')\n"
     ]
    }
   ],
   "source": [
    "# blendedness\n",
    "save_path = os.path.join(out_dir, \"lsst_flexzboost_metrics_blendedness.csv\")\n",
    "if os.path.exists(save_path):\n",
    "    mse_by_blendedness_range = rail_df.groupby('blendedness_bins').apply(calculate_mse).reset_index(name='mse')\n",
    "    mse_by_blendedness_range.to_csv(save_path)\n",
    "else:\n",
    "    mse_by_blendedness_range = pd.read_csv(save_path, index_col=0)"
   ]
  },
  {
   "cell_type": "code",
   "execution_count": 31,
   "metadata": {},
   "outputs": [
    {
     "data": {
      "text/html": [
       "<div>\n",
       "<style scoped>\n",
       "    .dataframe tbody tr th:only-of-type {\n",
       "        vertical-align: middle;\n",
       "    }\n",
       "\n",
       "    .dataframe tbody tr th {\n",
       "        vertical-align: top;\n",
       "    }\n",
       "\n",
       "    .dataframe thead th {\n",
       "        text-align: right;\n",
       "    }\n",
       "</style>\n",
       "<table border=\"1\" class=\"dataframe\">\n",
       "  <thead>\n",
       "    <tr style=\"text-align: right;\">\n",
       "      <th></th>\n",
       "      <th>blendedness_bins</th>\n",
       "      <th>mse</th>\n",
       "    </tr>\n",
       "  </thead>\n",
       "  <tbody>\n",
       "    <tr>\n",
       "      <th>0</th>\n",
       "      <td>&lt;0.0001</td>\n",
       "      <td>0.661265</td>\n",
       "    </tr>\n",
       "    <tr>\n",
       "      <th>1</th>\n",
       "      <td>0.0001-0.02</td>\n",
       "      <td>0.623434</td>\n",
       "    </tr>\n",
       "    <tr>\n",
       "      <th>2</th>\n",
       "      <td>0.02-0.1</td>\n",
       "      <td>0.697646</td>\n",
       "    </tr>\n",
       "    <tr>\n",
       "      <th>3</th>\n",
       "      <td>0.1-0.2</td>\n",
       "      <td>0.684080</td>\n",
       "    </tr>\n",
       "    <tr>\n",
       "      <th>4</th>\n",
       "      <td>0.2-0.6</td>\n",
       "      <td>0.680728</td>\n",
       "    </tr>\n",
       "    <tr>\n",
       "      <th>5</th>\n",
       "      <td>&gt;0.6</td>\n",
       "      <td>0.764544</td>\n",
       "    </tr>\n",
       "  </tbody>\n",
       "</table>\n",
       "</div>"
      ],
      "text/plain": [
       "  blendedness_bins       mse\n",
       "0          <0.0001  0.661265\n",
       "1      0.0001-0.02  0.623434\n",
       "2         0.02-0.1  0.697646\n",
       "3          0.1-0.2  0.684080\n",
       "4          0.2-0.6  0.680728\n",
       "5             >0.6  0.764544"
      ]
     },
     "execution_count": 31,
     "metadata": {},
     "output_type": "execute_result"
    }
   ],
   "source": [
    "mse_by_blendedness_range"
   ]
  }
 ],
 "metadata": {
  "kernelspec": {
   "display_name": "Python 3 (ipykernel)",
   "language": "python",
   "name": "python3"
  },
  "language_info": {
   "codemirror_mode": {
    "name": "ipython",
    "version": 3
   },
   "file_extension": ".py",
   "mimetype": "text/x-python",
   "name": "python",
   "nbconvert_exporter": "python",
   "pygments_lexer": "ipython3",
   "version": "3.10.12"
  }
 },
 "nbformat": 4,
 "nbformat_minor": 4
}

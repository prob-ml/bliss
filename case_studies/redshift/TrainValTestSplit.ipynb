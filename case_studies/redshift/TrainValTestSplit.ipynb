{
 "cells": [
  {
   "cell_type": "code",
   "execution_count": 1,
   "id": "be73c764",
   "metadata": {},
   "outputs": [],
   "source": [
    "import torch\n",
    "import numpy as np\n",
    "from os import environ\n",
    "from pathlib import Path\n",
    "from einops import rearrange\n",
    "import pickle\n",
    "from tqdm import tqdm \n",
    "\n",
    "import matplotlib.pyplot as plt\n",
    "import seaborn as sns\n",
    "import pandas as pd\n",
    "\n",
    "from hydra import initialize, compose\n",
    "from hydra.utils import instantiate\n",
    "\n",
    "from pathlib import Path\n",
    "from sklearn.metrics import mean_squared_error\n"
   ]
  },
  {
   "cell_type": "code",
   "execution_count": 2,
   "id": "f64359e6",
   "metadata": {},
   "outputs": [],
   "source": [
    "with initialize(config_path=\".\", version_base=None):\n",
    "    notebook_cfg = compose(\"redshift\")"
   ]
  },
  {
   "cell_type": "code",
   "execution_count": 10,
   "id": "195b5c68",
   "metadata": {},
   "outputs": [
    {
     "name": "stderr",
     "output_type": "stream",
     "text": [
      "WARNING: cached data already exists at [/data/scratch/declan/redshift/dc2/processed_dc2], we directly use it\n",
      "\n"
     ]
    }
   ],
   "source": [
    "dc2 = instantiate(notebook_cfg.surveys.dc2)\n",
    "dc2.prepare_data()"
   ]
  },
  {
   "cell_type": "code",
   "execution_count": 12,
   "id": "0a336fd4",
   "metadata": {},
   "outputs": [],
   "source": [
    "dc2.setup(\"fit\")"
   ]
  },
  {
   "cell_type": "code",
   "execution_count": 13,
   "id": "27f2a70b",
   "metadata": {},
   "outputs": [
    {
     "data": {
      "text/plain": [
       "[slice(0, 156, None), slice(156, 176, None), slice(176, 196, None)]"
      ]
     },
     "execution_count": 13,
     "metadata": {},
     "output_type": "execute_result"
    }
   ],
   "source": [
    "dc2.slices"
   ]
  },
  {
   "cell_type": "code",
   "execution_count": 15,
   "id": "c66c53c2",
   "metadata": {},
   "outputs": [],
   "source": [
    "train_paths, val_paths, test_paths = dc2.file_paths[dc2.slices[0]], dc2.file_paths[dc2.slices[1]], dc2.file_paths[dc2.slices[2]]"
   ]
  },
  {
   "cell_type": "code",
   "execution_count": 16,
   "id": "bc913f3c",
   "metadata": {
    "scrolled": false
   },
   "outputs": [
    {
     "data": {
      "text/plain": [
       "['/data/scratch/declan/redshift/dc2/processed_dc2/cached_data_3828_0,0_0000_size_1250.pt',\n",
       " '/data/scratch/declan/redshift/dc2/processed_dc2/cached_data_3828_0,0_0001_size_1250.pt',\n",
       " '/data/scratch/declan/redshift/dc2/processed_dc2/cached_data_3828_0,1_0000_size_1250.pt',\n",
       " '/data/scratch/declan/redshift/dc2/processed_dc2/cached_data_3828_0,1_0001_size_1250.pt',\n",
       " '/data/scratch/declan/redshift/dc2/processed_dc2/cached_data_3828_0,2_0000_size_1250.pt',\n",
       " '/data/scratch/declan/redshift/dc2/processed_dc2/cached_data_3828_0,2_0001_size_1250.pt',\n",
       " '/data/scratch/declan/redshift/dc2/processed_dc2/cached_data_3828_0,3_0000_size_1250.pt',\n",
       " '/data/scratch/declan/redshift/dc2/processed_dc2/cached_data_3828_0,3_0001_size_1250.pt',\n",
       " '/data/scratch/declan/redshift/dc2/processed_dc2/cached_data_3828_0,4_0000_size_1250.pt',\n",
       " '/data/scratch/declan/redshift/dc2/processed_dc2/cached_data_3828_0,4_0001_size_1250.pt',\n",
       " '/data/scratch/declan/redshift/dc2/processed_dc2/cached_data_3828_0,5_0000_size_1250.pt',\n",
       " '/data/scratch/declan/redshift/dc2/processed_dc2/cached_data_3828_0,5_0001_size_1250.pt',\n",
       " '/data/scratch/declan/redshift/dc2/processed_dc2/cached_data_3828_0,6_0000_size_1250.pt',\n",
       " '/data/scratch/declan/redshift/dc2/processed_dc2/cached_data_3828_0,6_0001_size_1250.pt',\n",
       " '/data/scratch/declan/redshift/dc2/processed_dc2/cached_data_3828_1,0_0000_size_1250.pt',\n",
       " '/data/scratch/declan/redshift/dc2/processed_dc2/cached_data_3828_1,0_0001_size_1250.pt',\n",
       " '/data/scratch/declan/redshift/dc2/processed_dc2/cached_data_3828_1,1_0000_size_1250.pt',\n",
       " '/data/scratch/declan/redshift/dc2/processed_dc2/cached_data_3828_1,1_0001_size_1250.pt',\n",
       " '/data/scratch/declan/redshift/dc2/processed_dc2/cached_data_3828_1,2_0000_size_1250.pt',\n",
       " '/data/scratch/declan/redshift/dc2/processed_dc2/cached_data_3828_1,2_0001_size_1250.pt',\n",
       " '/data/scratch/declan/redshift/dc2/processed_dc2/cached_data_3828_1,3_0000_size_1250.pt',\n",
       " '/data/scratch/declan/redshift/dc2/processed_dc2/cached_data_3828_1,3_0001_size_1250.pt',\n",
       " '/data/scratch/declan/redshift/dc2/processed_dc2/cached_data_3828_1,4_0000_size_1250.pt',\n",
       " '/data/scratch/declan/redshift/dc2/processed_dc2/cached_data_3828_1,4_0001_size_1250.pt',\n",
       " '/data/scratch/declan/redshift/dc2/processed_dc2/cached_data_3828_1,5_0000_size_1250.pt',\n",
       " '/data/scratch/declan/redshift/dc2/processed_dc2/cached_data_3828_1,5_0001_size_1250.pt',\n",
       " '/data/scratch/declan/redshift/dc2/processed_dc2/cached_data_3828_1,6_0000_size_1250.pt',\n",
       " '/data/scratch/declan/redshift/dc2/processed_dc2/cached_data_3828_1,6_0001_size_1250.pt',\n",
       " '/data/scratch/declan/redshift/dc2/processed_dc2/cached_data_3828_2,0_0000_size_1250.pt',\n",
       " '/data/scratch/declan/redshift/dc2/processed_dc2/cached_data_3828_2,0_0001_size_1250.pt',\n",
       " '/data/scratch/declan/redshift/dc2/processed_dc2/cached_data_3828_2,1_0000_size_1250.pt',\n",
       " '/data/scratch/declan/redshift/dc2/processed_dc2/cached_data_3828_2,1_0001_size_1250.pt',\n",
       " '/data/scratch/declan/redshift/dc2/processed_dc2/cached_data_3828_2,2_0000_size_1250.pt',\n",
       " '/data/scratch/declan/redshift/dc2/processed_dc2/cached_data_3828_2,2_0001_size_1250.pt',\n",
       " '/data/scratch/declan/redshift/dc2/processed_dc2/cached_data_3828_2,3_0000_size_1250.pt',\n",
       " '/data/scratch/declan/redshift/dc2/processed_dc2/cached_data_3828_2,3_0001_size_1250.pt',\n",
       " '/data/scratch/declan/redshift/dc2/processed_dc2/cached_data_3828_2,4_0000_size_1250.pt',\n",
       " '/data/scratch/declan/redshift/dc2/processed_dc2/cached_data_3828_2,4_0001_size_1250.pt',\n",
       " '/data/scratch/declan/redshift/dc2/processed_dc2/cached_data_3828_2,5_0000_size_1250.pt',\n",
       " '/data/scratch/declan/redshift/dc2/processed_dc2/cached_data_3828_2,5_0001_size_1250.pt',\n",
       " '/data/scratch/declan/redshift/dc2/processed_dc2/cached_data_3828_2,6_0000_size_1250.pt',\n",
       " '/data/scratch/declan/redshift/dc2/processed_dc2/cached_data_3828_2,6_0001_size_1250.pt',\n",
       " '/data/scratch/declan/redshift/dc2/processed_dc2/cached_data_3828_3,0_0000_size_1250.pt',\n",
       " '/data/scratch/declan/redshift/dc2/processed_dc2/cached_data_3828_3,0_0001_size_1250.pt',\n",
       " '/data/scratch/declan/redshift/dc2/processed_dc2/cached_data_3828_3,1_0000_size_1250.pt',\n",
       " '/data/scratch/declan/redshift/dc2/processed_dc2/cached_data_3828_3,1_0001_size_1250.pt',\n",
       " '/data/scratch/declan/redshift/dc2/processed_dc2/cached_data_3828_3,2_0000_size_1250.pt',\n",
       " '/data/scratch/declan/redshift/dc2/processed_dc2/cached_data_3828_3,2_0001_size_1250.pt',\n",
       " '/data/scratch/declan/redshift/dc2/processed_dc2/cached_data_3828_3,3_0000_size_1250.pt',\n",
       " '/data/scratch/declan/redshift/dc2/processed_dc2/cached_data_3828_3,3_0001_size_1250.pt',\n",
       " '/data/scratch/declan/redshift/dc2/processed_dc2/cached_data_3828_3,4_0000_size_1250.pt',\n",
       " '/data/scratch/declan/redshift/dc2/processed_dc2/cached_data_3828_3,4_0001_size_1250.pt',\n",
       " '/data/scratch/declan/redshift/dc2/processed_dc2/cached_data_3828_3,5_0000_size_1250.pt',\n",
       " '/data/scratch/declan/redshift/dc2/processed_dc2/cached_data_3828_3,5_0001_size_1250.pt',\n",
       " '/data/scratch/declan/redshift/dc2/processed_dc2/cached_data_3828_3,6_0000_size_1250.pt',\n",
       " '/data/scratch/declan/redshift/dc2/processed_dc2/cached_data_3828_3,6_0001_size_1250.pt',\n",
       " '/data/scratch/declan/redshift/dc2/processed_dc2/cached_data_3828_4,0_0000_size_1250.pt',\n",
       " '/data/scratch/declan/redshift/dc2/processed_dc2/cached_data_3828_4,0_0001_size_1250.pt',\n",
       " '/data/scratch/declan/redshift/dc2/processed_dc2/cached_data_3828_4,1_0000_size_1250.pt',\n",
       " '/data/scratch/declan/redshift/dc2/processed_dc2/cached_data_3828_4,1_0001_size_1250.pt',\n",
       " '/data/scratch/declan/redshift/dc2/processed_dc2/cached_data_3828_4,2_0000_size_1250.pt',\n",
       " '/data/scratch/declan/redshift/dc2/processed_dc2/cached_data_3828_4,2_0001_size_1250.pt',\n",
       " '/data/scratch/declan/redshift/dc2/processed_dc2/cached_data_3828_4,3_0000_size_1250.pt',\n",
       " '/data/scratch/declan/redshift/dc2/processed_dc2/cached_data_3828_4,3_0001_size_1250.pt',\n",
       " '/data/scratch/declan/redshift/dc2/processed_dc2/cached_data_3828_4,4_0000_size_1250.pt',\n",
       " '/data/scratch/declan/redshift/dc2/processed_dc2/cached_data_3828_4,4_0001_size_1250.pt',\n",
       " '/data/scratch/declan/redshift/dc2/processed_dc2/cached_data_3828_4,5_0000_size_1250.pt',\n",
       " '/data/scratch/declan/redshift/dc2/processed_dc2/cached_data_3828_4,5_0001_size_1250.pt',\n",
       " '/data/scratch/declan/redshift/dc2/processed_dc2/cached_data_3828_4,6_0000_size_1250.pt',\n",
       " '/data/scratch/declan/redshift/dc2/processed_dc2/cached_data_3828_4,6_0001_size_1250.pt',\n",
       " '/data/scratch/declan/redshift/dc2/processed_dc2/cached_data_3828_5,0_0000_size_1250.pt',\n",
       " '/data/scratch/declan/redshift/dc2/processed_dc2/cached_data_3828_5,0_0001_size_1250.pt',\n",
       " '/data/scratch/declan/redshift/dc2/processed_dc2/cached_data_3828_5,1_0000_size_1250.pt',\n",
       " '/data/scratch/declan/redshift/dc2/processed_dc2/cached_data_3828_5,1_0001_size_1250.pt',\n",
       " '/data/scratch/declan/redshift/dc2/processed_dc2/cached_data_3828_5,2_0000_size_1250.pt',\n",
       " '/data/scratch/declan/redshift/dc2/processed_dc2/cached_data_3828_5,2_0001_size_1250.pt',\n",
       " '/data/scratch/declan/redshift/dc2/processed_dc2/cached_data_3828_5,3_0000_size_1250.pt',\n",
       " '/data/scratch/declan/redshift/dc2/processed_dc2/cached_data_3828_5,3_0001_size_1250.pt',\n",
       " '/data/scratch/declan/redshift/dc2/processed_dc2/cached_data_3828_5,4_0000_size_1250.pt',\n",
       " '/data/scratch/declan/redshift/dc2/processed_dc2/cached_data_3828_5,4_0001_size_1250.pt',\n",
       " '/data/scratch/declan/redshift/dc2/processed_dc2/cached_data_3828_5,5_0000_size_1250.pt',\n",
       " '/data/scratch/declan/redshift/dc2/processed_dc2/cached_data_3828_5,5_0001_size_1250.pt',\n",
       " '/data/scratch/declan/redshift/dc2/processed_dc2/cached_data_3828_5,6_0000_size_1250.pt',\n",
       " '/data/scratch/declan/redshift/dc2/processed_dc2/cached_data_3828_5,6_0001_size_1250.pt',\n",
       " '/data/scratch/declan/redshift/dc2/processed_dc2/cached_data_3828_6,0_0000_size_1250.pt',\n",
       " '/data/scratch/declan/redshift/dc2/processed_dc2/cached_data_3828_6,0_0001_size_1250.pt',\n",
       " '/data/scratch/declan/redshift/dc2/processed_dc2/cached_data_3828_6,1_0000_size_1250.pt',\n",
       " '/data/scratch/declan/redshift/dc2/processed_dc2/cached_data_3828_6,1_0001_size_1250.pt',\n",
       " '/data/scratch/declan/redshift/dc2/processed_dc2/cached_data_3828_6,2_0000_size_1250.pt',\n",
       " '/data/scratch/declan/redshift/dc2/processed_dc2/cached_data_3828_6,2_0001_size_1250.pt',\n",
       " '/data/scratch/declan/redshift/dc2/processed_dc2/cached_data_3828_6,3_0000_size_1250.pt',\n",
       " '/data/scratch/declan/redshift/dc2/processed_dc2/cached_data_3828_6,3_0001_size_1250.pt',\n",
       " '/data/scratch/declan/redshift/dc2/processed_dc2/cached_data_3828_6,4_0000_size_1250.pt',\n",
       " '/data/scratch/declan/redshift/dc2/processed_dc2/cached_data_3828_6,4_0001_size_1250.pt',\n",
       " '/data/scratch/declan/redshift/dc2/processed_dc2/cached_data_3828_6,5_0000_size_1250.pt',\n",
       " '/data/scratch/declan/redshift/dc2/processed_dc2/cached_data_3828_6,5_0001_size_1250.pt',\n",
       " '/data/scratch/declan/redshift/dc2/processed_dc2/cached_data_3828_6,6_0000_size_1250.pt',\n",
       " '/data/scratch/declan/redshift/dc2/processed_dc2/cached_data_3828_6,6_0001_size_1250.pt',\n",
       " '/data/scratch/declan/redshift/dc2/processed_dc2/cached_data_3829_0,0_0000_size_1250.pt',\n",
       " '/data/scratch/declan/redshift/dc2/processed_dc2/cached_data_3829_0,0_0001_size_1250.pt',\n",
       " '/data/scratch/declan/redshift/dc2/processed_dc2/cached_data_3829_0,1_0000_size_1250.pt',\n",
       " '/data/scratch/declan/redshift/dc2/processed_dc2/cached_data_3829_0,1_0001_size_1250.pt',\n",
       " '/data/scratch/declan/redshift/dc2/processed_dc2/cached_data_3829_0,2_0000_size_1250.pt',\n",
       " '/data/scratch/declan/redshift/dc2/processed_dc2/cached_data_3829_0,2_0001_size_1250.pt',\n",
       " '/data/scratch/declan/redshift/dc2/processed_dc2/cached_data_3829_0,3_0000_size_1250.pt',\n",
       " '/data/scratch/declan/redshift/dc2/processed_dc2/cached_data_3829_0,3_0001_size_1250.pt',\n",
       " '/data/scratch/declan/redshift/dc2/processed_dc2/cached_data_3829_0,4_0000_size_1250.pt',\n",
       " '/data/scratch/declan/redshift/dc2/processed_dc2/cached_data_3829_0,4_0001_size_1250.pt',\n",
       " '/data/scratch/declan/redshift/dc2/processed_dc2/cached_data_3829_0,5_0000_size_1250.pt',\n",
       " '/data/scratch/declan/redshift/dc2/processed_dc2/cached_data_3829_0,5_0001_size_1250.pt',\n",
       " '/data/scratch/declan/redshift/dc2/processed_dc2/cached_data_3829_0,6_0000_size_1250.pt',\n",
       " '/data/scratch/declan/redshift/dc2/processed_dc2/cached_data_3829_0,6_0001_size_1250.pt',\n",
       " '/data/scratch/declan/redshift/dc2/processed_dc2/cached_data_3829_1,0_0000_size_1250.pt',\n",
       " '/data/scratch/declan/redshift/dc2/processed_dc2/cached_data_3829_1,0_0001_size_1250.pt',\n",
       " '/data/scratch/declan/redshift/dc2/processed_dc2/cached_data_3829_1,1_0000_size_1250.pt',\n",
       " '/data/scratch/declan/redshift/dc2/processed_dc2/cached_data_3829_1,1_0001_size_1250.pt',\n",
       " '/data/scratch/declan/redshift/dc2/processed_dc2/cached_data_3829_1,2_0000_size_1250.pt',\n",
       " '/data/scratch/declan/redshift/dc2/processed_dc2/cached_data_3829_1,2_0001_size_1250.pt',\n",
       " '/data/scratch/declan/redshift/dc2/processed_dc2/cached_data_3829_1,3_0000_size_1250.pt',\n",
       " '/data/scratch/declan/redshift/dc2/processed_dc2/cached_data_3829_1,3_0001_size_1250.pt',\n",
       " '/data/scratch/declan/redshift/dc2/processed_dc2/cached_data_3829_1,4_0000_size_1250.pt',\n",
       " '/data/scratch/declan/redshift/dc2/processed_dc2/cached_data_3829_1,4_0001_size_1250.pt',\n",
       " '/data/scratch/declan/redshift/dc2/processed_dc2/cached_data_3829_1,5_0000_size_1250.pt',\n",
       " '/data/scratch/declan/redshift/dc2/processed_dc2/cached_data_3829_1,5_0001_size_1250.pt',\n",
       " '/data/scratch/declan/redshift/dc2/processed_dc2/cached_data_3829_1,6_0000_size_1250.pt',\n",
       " '/data/scratch/declan/redshift/dc2/processed_dc2/cached_data_3829_1,6_0001_size_1250.pt',\n",
       " '/data/scratch/declan/redshift/dc2/processed_dc2/cached_data_3829_2,0_0000_size_1250.pt',\n",
       " '/data/scratch/declan/redshift/dc2/processed_dc2/cached_data_3829_2,0_0001_size_1250.pt',\n",
       " '/data/scratch/declan/redshift/dc2/processed_dc2/cached_data_3829_2,1_0000_size_1250.pt',\n",
       " '/data/scratch/declan/redshift/dc2/processed_dc2/cached_data_3829_2,1_0001_size_1250.pt',\n",
       " '/data/scratch/declan/redshift/dc2/processed_dc2/cached_data_3829_2,2_0000_size_1250.pt',\n",
       " '/data/scratch/declan/redshift/dc2/processed_dc2/cached_data_3829_2,2_0001_size_1250.pt',\n",
       " '/data/scratch/declan/redshift/dc2/processed_dc2/cached_data_3829_2,3_0000_size_1250.pt',\n",
       " '/data/scratch/declan/redshift/dc2/processed_dc2/cached_data_3829_2,3_0001_size_1250.pt',\n",
       " '/data/scratch/declan/redshift/dc2/processed_dc2/cached_data_3829_2,4_0000_size_1250.pt',\n",
       " '/data/scratch/declan/redshift/dc2/processed_dc2/cached_data_3829_2,4_0001_size_1250.pt',\n",
       " '/data/scratch/declan/redshift/dc2/processed_dc2/cached_data_3829_2,5_0000_size_1250.pt',\n",
       " '/data/scratch/declan/redshift/dc2/processed_dc2/cached_data_3829_2,5_0001_size_1250.pt',\n",
       " '/data/scratch/declan/redshift/dc2/processed_dc2/cached_data_3829_2,6_0000_size_1250.pt',\n",
       " '/data/scratch/declan/redshift/dc2/processed_dc2/cached_data_3829_2,6_0001_size_1250.pt',\n",
       " '/data/scratch/declan/redshift/dc2/processed_dc2/cached_data_3829_3,0_0000_size_1250.pt',\n",
       " '/data/scratch/declan/redshift/dc2/processed_dc2/cached_data_3829_3,0_0001_size_1250.pt',\n",
       " '/data/scratch/declan/redshift/dc2/processed_dc2/cached_data_3829_3,1_0000_size_1250.pt',\n",
       " '/data/scratch/declan/redshift/dc2/processed_dc2/cached_data_3829_3,1_0001_size_1250.pt',\n",
       " '/data/scratch/declan/redshift/dc2/processed_dc2/cached_data_3829_3,2_0000_size_1250.pt',\n",
       " '/data/scratch/declan/redshift/dc2/processed_dc2/cached_data_3829_3,2_0001_size_1250.pt',\n",
       " '/data/scratch/declan/redshift/dc2/processed_dc2/cached_data_3829_3,3_0000_size_1250.pt',\n",
       " '/data/scratch/declan/redshift/dc2/processed_dc2/cached_data_3829_3,3_0001_size_1250.pt',\n",
       " '/data/scratch/declan/redshift/dc2/processed_dc2/cached_data_3829_3,4_0000_size_1250.pt',\n",
       " '/data/scratch/declan/redshift/dc2/processed_dc2/cached_data_3829_3,4_0001_size_1250.pt',\n",
       " '/data/scratch/declan/redshift/dc2/processed_dc2/cached_data_3829_3,5_0000_size_1250.pt',\n",
       " '/data/scratch/declan/redshift/dc2/processed_dc2/cached_data_3829_3,5_0001_size_1250.pt',\n",
       " '/data/scratch/declan/redshift/dc2/processed_dc2/cached_data_3829_3,6_0000_size_1250.pt',\n",
       " '/data/scratch/declan/redshift/dc2/processed_dc2/cached_data_3829_3,6_0001_size_1250.pt',\n",
       " '/data/scratch/declan/redshift/dc2/processed_dc2/cached_data_3829_4,0_0000_size_1250.pt',\n",
       " '/data/scratch/declan/redshift/dc2/processed_dc2/cached_data_3829_4,0_0001_size_1250.pt']"
      ]
     },
     "execution_count": 16,
     "metadata": {},
     "output_type": "execute_result"
    }
   ],
   "source": [
    "train_paths"
   ]
  },
  {
   "cell_type": "code",
   "execution_count": 17,
   "id": "3419d819",
   "metadata": {},
   "outputs": [
    {
     "data": {
      "text/plain": [
       "['/data/scratch/declan/redshift/dc2/processed_dc2/cached_data_3829_4,1_0000_size_1250.pt',\n",
       " '/data/scratch/declan/redshift/dc2/processed_dc2/cached_data_3829_4,1_0001_size_1250.pt',\n",
       " '/data/scratch/declan/redshift/dc2/processed_dc2/cached_data_3829_4,2_0000_size_1250.pt',\n",
       " '/data/scratch/declan/redshift/dc2/processed_dc2/cached_data_3829_4,2_0001_size_1250.pt',\n",
       " '/data/scratch/declan/redshift/dc2/processed_dc2/cached_data_3829_4,3_0000_size_1250.pt',\n",
       " '/data/scratch/declan/redshift/dc2/processed_dc2/cached_data_3829_4,3_0001_size_1250.pt',\n",
       " '/data/scratch/declan/redshift/dc2/processed_dc2/cached_data_3829_4,4_0000_size_1250.pt',\n",
       " '/data/scratch/declan/redshift/dc2/processed_dc2/cached_data_3829_4,4_0001_size_1250.pt',\n",
       " '/data/scratch/declan/redshift/dc2/processed_dc2/cached_data_3829_4,5_0000_size_1250.pt',\n",
       " '/data/scratch/declan/redshift/dc2/processed_dc2/cached_data_3829_4,5_0001_size_1250.pt',\n",
       " '/data/scratch/declan/redshift/dc2/processed_dc2/cached_data_3829_4,6_0000_size_1250.pt',\n",
       " '/data/scratch/declan/redshift/dc2/processed_dc2/cached_data_3829_4,6_0001_size_1250.pt',\n",
       " '/data/scratch/declan/redshift/dc2/processed_dc2/cached_data_3829_5,0_0000_size_1250.pt',\n",
       " '/data/scratch/declan/redshift/dc2/processed_dc2/cached_data_3829_5,0_0001_size_1250.pt',\n",
       " '/data/scratch/declan/redshift/dc2/processed_dc2/cached_data_3829_5,1_0000_size_1250.pt',\n",
       " '/data/scratch/declan/redshift/dc2/processed_dc2/cached_data_3829_5,1_0001_size_1250.pt',\n",
       " '/data/scratch/declan/redshift/dc2/processed_dc2/cached_data_3829_5,2_0000_size_1250.pt',\n",
       " '/data/scratch/declan/redshift/dc2/processed_dc2/cached_data_3829_5,2_0001_size_1250.pt',\n",
       " '/data/scratch/declan/redshift/dc2/processed_dc2/cached_data_3829_5,3_0000_size_1250.pt',\n",
       " '/data/scratch/declan/redshift/dc2/processed_dc2/cached_data_3829_5,3_0001_size_1250.pt']"
      ]
     },
     "execution_count": 17,
     "metadata": {},
     "output_type": "execute_result"
    }
   ],
   "source": [
    "val_paths"
   ]
  },
  {
   "cell_type": "code",
   "execution_count": 18,
   "id": "211d398b",
   "metadata": {},
   "outputs": [
    {
     "data": {
      "text/plain": [
       "['/data/scratch/declan/redshift/dc2/processed_dc2/cached_data_3829_5,4_0000_size_1250.pt',\n",
       " '/data/scratch/declan/redshift/dc2/processed_dc2/cached_data_3829_5,4_0001_size_1250.pt',\n",
       " '/data/scratch/declan/redshift/dc2/processed_dc2/cached_data_3829_5,5_0000_size_1250.pt',\n",
       " '/data/scratch/declan/redshift/dc2/processed_dc2/cached_data_3829_5,5_0001_size_1250.pt',\n",
       " '/data/scratch/declan/redshift/dc2/processed_dc2/cached_data_3829_5,6_0000_size_1250.pt',\n",
       " '/data/scratch/declan/redshift/dc2/processed_dc2/cached_data_3829_5,6_0001_size_1250.pt',\n",
       " '/data/scratch/declan/redshift/dc2/processed_dc2/cached_data_3829_6,0_0000_size_1250.pt',\n",
       " '/data/scratch/declan/redshift/dc2/processed_dc2/cached_data_3829_6,0_0001_size_1250.pt',\n",
       " '/data/scratch/declan/redshift/dc2/processed_dc2/cached_data_3829_6,1_0000_size_1250.pt',\n",
       " '/data/scratch/declan/redshift/dc2/processed_dc2/cached_data_3829_6,1_0001_size_1250.pt',\n",
       " '/data/scratch/declan/redshift/dc2/processed_dc2/cached_data_3829_6,2_0000_size_1250.pt',\n",
       " '/data/scratch/declan/redshift/dc2/processed_dc2/cached_data_3829_6,2_0001_size_1250.pt',\n",
       " '/data/scratch/declan/redshift/dc2/processed_dc2/cached_data_3829_6,3_0000_size_1250.pt',\n",
       " '/data/scratch/declan/redshift/dc2/processed_dc2/cached_data_3829_6,3_0001_size_1250.pt',\n",
       " '/data/scratch/declan/redshift/dc2/processed_dc2/cached_data_3829_6,4_0000_size_1250.pt',\n",
       " '/data/scratch/declan/redshift/dc2/processed_dc2/cached_data_3829_6,4_0001_size_1250.pt',\n",
       " '/data/scratch/declan/redshift/dc2/processed_dc2/cached_data_3829_6,5_0000_size_1250.pt',\n",
       " '/data/scratch/declan/redshift/dc2/processed_dc2/cached_data_3829_6,5_0001_size_1250.pt',\n",
       " '/data/scratch/declan/redshift/dc2/processed_dc2/cached_data_3829_6,6_0000_size_1250.pt',\n",
       " '/data/scratch/declan/redshift/dc2/processed_dc2/cached_data_3829_6,6_0001_size_1250.pt']"
      ]
     },
     "execution_count": 18,
     "metadata": {},
     "output_type": "execute_result"
    }
   ],
   "source": [
    "test_paths"
   ]
  },
  {
   "cell_type": "code",
   "execution_count": null,
   "id": "c368fb45",
   "metadata": {},
   "outputs": [],
   "source": []
  }
 ],
 "metadata": {
  "kernelspec": {
   "display_name": "bliss_kernel",
   "language": "python",
   "name": "bliss_kernel"
  },
  "language_info": {
   "codemirror_mode": {
    "name": "ipython",
    "version": 3
   },
   "file_extension": ".py",
   "mimetype": "text/x-python",
   "name": "python",
   "nbconvert_exporter": "python",
   "pygments_lexer": "ipython3",
   "version": "3.10.12"
  }
 },
 "nbformat": 4,
 "nbformat_minor": 5
}

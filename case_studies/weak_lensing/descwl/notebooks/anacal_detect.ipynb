{
 "cells": [
  {
   "cell_type": "code",
   "execution_count": null,
   "metadata": {},
   "outputs": [],
   "source": [
    "import torch\n",
    "import fitsio\n",
    "import numpy as np\n",
    "import anacal\n",
    "import matplotlib.pyplot as plt\n",
    "\n",
    "import logging\n",
    "\n",
    "logging.basicConfig(level=logging.INFO)\n",
    "logger = logging.getLogger(__name__)"
   ]
  },
  {
   "cell_type": "code",
   "execution_count": null,
   "metadata": {},
   "outputs": [],
   "source": [
    "# path to one batch of generated images and psf parameters\n",
    "image = torch.load('/data/scratch/taodingr/AnaCal/batch_1_images.pt')\n",
    "psf = torch.load('/data/scratch/taodingr/AnaCal/batch_1_psf_params.pt')"
   ]
  },
  {
   "cell_type": "code",
   "execution_count": null,
   "metadata": {},
   "outputs": [],
   "source": [
    "def extract_psf_for_anacal(batch_psf_file, image_idx_in_batch):\n",
    "    \"\"\"Extract PSF image for a specific image to use with AnaCal\"\"\"\n",
    "    \n",
    "    # Load the batch PSF data\n",
    "    psf_data = torch.load(batch_psf_file, map_location='cpu')\n",
    "    \n",
    "    if image_idx_in_batch not in psf_data:\n",
    "        raise ValueError(f\"Image index {image_idx_in_batch} not found in PSF data\")\n",
    "    \n",
    "    psf_info = psf_data[image_idx_in_batch]\n",
    "    \n",
    "    if 'psf_image' not in psf_info:\n",
    "        raise ValueError(\"No PSF image found in data - need to regenerate with updated code\")\n",
    "    \n",
    "    # Get the PSF image\n",
    "    if isinstance(psf_info['psf_image'], torch.Tensor):\n",
    "        psf_image = psf_info['psf_image'].numpy()\n",
    "    else:\n",
    "        psf_image = psf_info['psf_image']\n",
    "    \n",
    "    # Ensure proper normalization (AnaCal requirement)\n",
    "    psf_sum = np.sum(psf_image)\n",
    "    if psf_sum > 0:\n",
    "        psf_image = psf_image / psf_sum\n",
    "    else:\n",
    "        raise ValueError(\"PSF image has zero or negative sum!\")\n",
    "    \n",
    "    logger.info(f\"PSF shape: {psf_image.shape}, PSF sum: {psf_sum:.6f}\")\n",
    "    return psf_image.astype(np.float32)\n",
    "\n",
    "def extract_galaxy_image(batch_image_file, image_idx_in_batch, band_idx=0):\n",
    "    \"\"\"Extract galaxy image for a specific image\"\"\"\n",
    "    \n",
    "    # Load batch images\n",
    "    batch_images = torch.load(batch_image_file, map_location='cpu')\n",
    "    \n",
    "    # Get specific image \n",
    "    galaxy_image = batch_images[image_idx_in_batch].numpy()\n",
    "    \n",
    "    # AnaCal typically works with single-band images\n",
    "    # Select the band you want to analyze (0 = first band)\n",
    "    if len(galaxy_image.shape) == 3:  # [bands, height, width]\n",
    "        galaxy_image = galaxy_image[band_idx]\n",
    "    \n",
    "    logger.info(f\"Galaxy image shape: {galaxy_image.shape}\")\n",
    "    return galaxy_image.astype(np.float32)"
   ]
  },
  {
   "cell_type": "code",
   "execution_count": null,
   "metadata": {},
   "outputs": [],
   "source": [
    "def run_anacal_with_fits_exact(save_folder, batch_num, image_idx_in_batch):\n",
    "    \"\"\"Use FITS files exactly like the working example\"\"\"\n",
    "    \n",
    "    # Extract your data\n",
    "    batch_image_file = f\"{save_folder}/batch_{batch_num}_images.pt\"\n",
    "    batch_psf_file = f\"{save_folder}/batch_{batch_num}_psf_params.pt\"\n",
    "    \n",
    "    galaxy_image = extract_galaxy_image(batch_image_file, image_idx_in_batch, band_idx=0)\n",
    "    psf_array = extract_psf_for_anacal(batch_psf_file, image_idx_in_batch)\n",
    "    \n",
    "    # Create temporary FITS files\n",
    "    temp_gal_file = f\"temp_galaxy_{batch_num}_{image_idx_in_batch}.fits\"\n",
    "    temp_psf_file = f\"temp_psf_{batch_num}_{image_idx_in_batch}.fits\"\n",
    "    \n",
    "    try:\n",
    "        # Save to FITS\n",
    "        fitsio.write(temp_gal_file, galaxy_image, clobber=True)\n",
    "        fitsio.write(temp_psf_file, psf_array, clobber=True)\n",
    "        \n",
    "        # Now run the EXACT same code as the working example\n",
    "        fpfs_config = anacal.fpfs.FpfsConfig(\n",
    "            sigma_arcsec=0.52,  # The first measurement scale (also for detection)\n",
    "            sigma_arcsec1=0.45,  # The second measurement scale\n",
    "            sigma_arcsec2=0.55,  # The second measurement scale\n",
    "        )\n",
    "        \n",
    "        gal_array = fitsio.read(temp_gal_file)  # Read exactly like the example\n",
    "        psf_array = fitsio.read(temp_psf_file)  # Read exactly like the example\n",
    "        \n",
    "        logger.info(f\"FITS galaxy shape: {gal_array.shape}, dtype: {gal_array.dtype}\")\n",
    "        logger.info(f\"FITS PSF shape: {psf_array.shape}, dtype: {psf_array.dtype}\")\n",
    "        \n",
    "        mag_zero = 30.0\n",
    "        pixel_scale = 0.2\n",
    "        noise_variance = 0.23**2.0\n",
    "        noise_array = None\n",
    "        detection = None\n",
    "        \n",
    "        out = anacal.fpfs.process_image(\n",
    "            fpfs_config=fpfs_config,\n",
    "            mag_zero=mag_zero,\n",
    "            gal_array=gal_array,\n",
    "            psf_array=psf_array,\n",
    "            pixel_scale=pixel_scale,\n",
    "            noise_variance=noise_variance,\n",
    "            noise_array=noise_array,\n",
    "            detection=detection,\n",
    "        )\n",
    "        \n",
    "        # Print results exactly like the example\n",
    "        logger.info(\"\\n=== RESULTS (EXACT EXAMPLE FORMAT) ===\")\n",
    "        \n",
    "        # base kernel scale\n",
    "        e1 = out[\"fpfs_w\"] * out[\"fpfs_e1\"]\n",
    "        e1g1 = out[\"fpfs_dw_dg1\"] * out[\"fpfs_e1\"] + out[\"fpfs_w\"] * out[\"fpfs_de1_dg1\"]\n",
    "        logger.info(np.sum(e1) / np.sum(e1g1))\n",
    "\n",
    "        # kernel 1\n",
    "        e1 = out[\"fpfs_w\"] * out[\"fpfs1_e1\"]\n",
    "        e1g1 = out[\"fpfs_dw_dg1\"] * out[\"fpfs1_e1\"] + out[\"fpfs_w\"] * out[\"fpfs1_de1_dg1\"]\n",
    "        logger.info(np.sum(e1) / np.sum(e1g1))\n",
    "\n",
    "        # kernel 2\n",
    "        e1 = out[\"fpfs_w\"] * out[\"fpfs2_e1\"]\n",
    "        e1g1 = out[\"fpfs_dw_dg1\"] * out[\"fpfs2_e1\"] + out[\"fpfs_w\"] * out[\"fpfs2_de1_dg1\"]\n",
    "        logger.info(np.sum(e1) / np.sum(e1g1))\n",
    "        \n",
    "        return out\n",
    "        \n",
    "    finally:\n",
    "        # Clean up\n",
    "        import os\n",
    "        for temp_file in [temp_gal_file, temp_psf_file]:\n",
    "            if os.path.exists(temp_file):\n",
    "                os.remove(temp_file)"
   ]
  },
  {
   "cell_type": "code",
   "execution_count": null,
   "metadata": {},
   "outputs": [],
   "source": [
    "config = {'pixel_scale': 0.2, 'mag_zero': 30.0, 'noise_factor': 0.23}\n",
    "save_folder = \"/data/scratch/taodingr/AnaCal\""
   ]
  },
  {
   "cell_type": "code",
   "execution_count": null,
   "metadata": {},
   "outputs": [],
   "source": [
    "batch_num = 1\n",
    "for image_idx in range(10):  # Test first 10 images in batch 1\n",
    "    results = run_anacal_with_fits_exact(\n",
    "        save_folder=save_folder,\n",
    "        batch_num=batch_num, \n",
    "        image_idx_in_batch=image_idx,\n",
    "    )        \n"
   ]
  },
  {
   "cell_type": "markdown",
   "metadata": {},
   "source": [
    "# True shear values"
   ]
  },
  {
   "cell_type": "code",
   "execution_count": null,
   "metadata": {},
   "outputs": [],
   "source": [
    "# path to the stored catalog \n",
    "catalog = torch.load('/data/scratch/taodingr/AnaCal/batch_1_catalog.pt')"
   ]
  },
  {
   "cell_type": "code",
   "execution_count": null,
   "metadata": {},
   "outputs": [],
   "source": [
    "# True shear 1 values from the catalog\n",
    "catalog['shear_1'][:10, :, :, 0, :].squeeze()"
   ]
  },
  {
   "cell_type": "code",
   "execution_count": null,
   "metadata": {},
   "outputs": [],
   "source": [
    "# True shear 2 values from the catalog\n",
    "catalog['shear_2'][:10, :, :, 0, :].squeeze()"
   ]
  },
  {
   "cell_type": "code",
   "execution_count": null,
   "metadata": {},
   "outputs": [],
   "source": []
  }
 ],
 "metadata": {
  "kernelspec": {
   "display_name": ".venv",
   "language": "python",
   "name": "python3"
  },
  "language_info": {
   "codemirror_mode": {
    "name": "ipython",
    "version": 3
   },
   "file_extension": ".py",
   "mimetype": "text/x-python",
   "name": "python",
   "nbconvert_exporter": "python",
   "pygments_lexer": "ipython3",
   "version": "3.12.3"
  },
  "orig_nbformat": 4
 },
 "nbformat": 4,
 "nbformat_minor": 2
}

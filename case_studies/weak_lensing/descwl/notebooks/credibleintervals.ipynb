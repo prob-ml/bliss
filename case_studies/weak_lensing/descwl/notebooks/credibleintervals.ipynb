{
 "cells": [
  {
   "cell_type": "code",
   "execution_count": null,
   "metadata": {},
   "outputs": [],
   "source": [
    "from hydra import initialize, compose\n",
    "from hydra.utils import instantiate\n",
    "\n",
    "import numpy as np\n",
    "import torch\n",
    "import matplotlib.pyplot as plt\n",
    "\n",
    "import pytorch_lightning as pl\n",
    "from pytorch_lightning.utilities import move_data_to_device\n",
    "\n",
    "from bliss.global_env import GlobalEnv\n",
    "\n",
    "device = torch.device(\"cuda:0\" if torch.cuda.is_available() else \"cpu\")"
   ]
  },
  {
   "cell_type": "markdown",
   "metadata": {},
   "source": [
    "Configure encoder to make predictions using weights from a previous training run:"
   ]
  },
  {
   "cell_type": "code",
   "execution_count": null,
   "metadata": {},
   "outputs": [],
   "source": [
    "ckpt = \"/home/taodingr/bliss/case_studies/weak_lensing/descwl/checkpoints/WLD_80_no_star_vary_psf_point_85_best_model_146_epoch.ckpt\"\n",
    "setting = \"WLD_80_no_star_vary_psf_point_85\"\n",
    "\n",
    "\n",
    "# test data path in congif_descwl, make sure to change that each time !!!\n",
    "with initialize(config_path=\"../\", version_base=None):\n",
    "    cfg = compose(\"config_descwl\", {\n",
    "        \"train.pretrained_weights=\" + ckpt,\n",
    "        })\n",
    "\n",
    "seed = pl.seed_everything(cfg.train.seed)\n",
    "GlobalEnv.seed_in_this_program = seed"
   ]
  },
  {
   "cell_type": "markdown",
   "metadata": {},
   "source": [
    "Configure the test dataloader:"
   ]
  },
  {
   "cell_type": "code",
   "execution_count": null,
   "metadata": {},
   "outputs": [],
   "source": [
    "data_source = instantiate(cfg.train.data_source)\n",
    "data_source.setup(\"test\")\n",
    "test_dl = data_source.test_dataloader()"
   ]
  },
  {
   "cell_type": "markdown",
   "metadata": {},
   "source": [
    "Load in encoder weights:"
   ]
  },
  {
   "cell_type": "code",
   "execution_count": null,
   "metadata": {},
   "outputs": [],
   "source": [
    "encoder = instantiate(cfg.encoder).to(device)\n",
    "encoder_state_dict = torch.load(cfg.train.pretrained_weights, map_location=device)[\"state_dict\"]\n",
    "encoder.load_state_dict(encoder_state_dict)\n",
    "encoder = encoder.eval()"
   ]
  },
  {
   "cell_type": "code",
   "execution_count": null,
   "metadata": {},
   "outputs": [],
   "source": [
    "confidence_levels = torch.linspace(0.05, 0.95, steps = 19)\n",
    "\n",
    "ci_quantiles = torch.distributions.Normal(0, 1).icdf(1 - (1 - confidence_levels)/2).to(device)"
   ]
  },
  {
   "cell_type": "code",
   "execution_count": null,
   "metadata": {},
   "outputs": [],
   "source": [
    "shear1_true = torch.zeros(len(test_dl), device='cpu')\n",
    "shear2_true = torch.zeros(len(test_dl), device='cpu')\n",
    "\n",
    "shear1_ci_lower = torch.zeros(len(test_dl), len(ci_quantiles), device='cpu')\n",
    "shear1_ci_upper = torch.zeros(len(test_dl), len(ci_quantiles), device='cpu')\n",
    "shear2_ci_lower = torch.zeros(len(test_dl), len(ci_quantiles), device='cpu')\n",
    "shear2_ci_upper = torch.zeros(len(test_dl), len(ci_quantiles), device='cpu')\n",
    "\n",
    "i = -1\n",
    "for b in test_dl:\n",
    "    i += 1\n",
    "    batch = move_data_to_device(b, device)\n",
    "    \n",
    "    with torch.no_grad():\n",
    "        shear1_true[i] = batch['tile_catalog']['shear_1'].squeeze().flatten()\n",
    "        shear2_true[i] = batch['tile_catalog']['shear_2'].squeeze().flatten()\n",
    "        \n",
    "        input_lst = [inorm.get_input_tensor(batch) for inorm in encoder.image_normalizers]\n",
    "        inputs = torch.cat(input_lst, dim=2)\n",
    "\n",
    "        x_cat_marginal = encoder.net(inputs).squeeze()\n",
    "        \n",
    "        shear1_ci_lower[i] = x_cat_marginal[0] - ci_quantiles * x_cat_marginal[1].exp().sqrt()\n",
    "        shear1_ci_upper[i] = x_cat_marginal[0] + ci_quantiles * x_cat_marginal[1].exp().sqrt()\n",
    "        shear2_ci_lower[i] = x_cat_marginal[2] - ci_quantiles * x_cat_marginal[3].exp().sqrt()\n",
    "        shear2_ci_upper[i] = x_cat_marginal[2] + ci_quantiles * x_cat_marginal[3].exp().sqrt()"
   ]
  },
  {
   "cell_type": "code",
   "execution_count": null,
   "metadata": {},
   "outputs": [],
   "source": [
    "shear1_coverage_probs = ((shear1_ci_lower <= shear1_true.unsqueeze(-1)) * (shear1_true.unsqueeze(-1) <= shear1_ci_upper)).float().mean(0)\n",
    "shear2_coverage_probs = ((shear2_ci_lower <= shear2_true.unsqueeze(-1)) * (shear2_true.unsqueeze(-1) <= shear2_ci_upper)).float().mean(0)"
   ]
  },
  {
   "cell_type": "code",
   "execution_count": null,
   "metadata": {},
   "outputs": [],
   "source": [
    "for i, ci in enumerate(confidence_levels):\n",
    "    print(f'Confidence level: {ci:.2f}, Shear 1: {shear1_coverage_probs[i]:.4f}, Shear 2: {shear2_coverage_probs[i]:.4f}')"
   ]
  },
  {
   "cell_type": "code",
   "execution_count": null,
   "metadata": {},
   "outputs": [],
   "source": [
    "fig, ax = plt.subplots(1, 2, figsize=(13, 6))\n",
    "fontsize = 20\n",
    "ticklabelsize = 16\n",
    "color = 'darkorchid'\n",
    "s = 80\n",
    "\n",
    "_ = ax[0].axline((0,0), slope = 1, linestyle = 'dotted', color = 'black', linewidth=2, zorder=0)\n",
    "_ = ax[0].scatter(confidence_levels, shear1_coverage_probs, color=color, s=s, zorder=1)\n",
    "_ = ax[0].set_title('$\\gamma_1$', fontsize=1.5*fontsize)\n",
    "_ = ax[0].set_xlabel('Nominal coverage probability', fontsize = fontsize)\n",
    "_ = ax[0].set_ylabel('Empirical coverage probability', fontsize = fontsize)\n",
    "_ = ax[0].tick_params(axis='both', which='major', labelsize=ticklabelsize)\n",
    "_ = ax[0].set_xlim(0, 1)\n",
    "_ = ax[0].set_ylim(0, 1)\n",
    "\n",
    "_ = ax[1].axline((0,0), slope = 1, linestyle = 'dotted', color = 'black', linewidth=2, zorder=0)\n",
    "_ = ax[1].scatter(confidence_levels, shear2_coverage_probs, color=color, s=s, zorder=1)\n",
    "_ = ax[1].set_title('$\\gamma_2$', fontsize=1.5*fontsize)\n",
    "_ = ax[1].set_xlabel('Nominal coverage probability', fontsize = fontsize)\n",
    "_ = ax[1].set_ylabel('Empirical coverage probability', fontsize = fontsize)\n",
    "_ = ax[1].tick_params(axis='both', which='major', labelsize=ticklabelsize)\n",
    "_ = ax[1].set_xlim(0, 1)\n",
    "_ = ax[1].set_ylim(0, 1)\n",
    "\n",
    "for a in ax.flat:\n",
    "    _ = a.spines[['top', 'right']].set_visible(False)\n",
    "\n",
    "fig.tight_layout()\n",
    "\n",
    "fig.savefig(f\"figures/{setting}_coverageprobs.png\", dpi = 300, transparent = True, bbox_inches = 'tight', pad_inches = 0)"
   ]
  },
  {
   "cell_type": "code",
   "execution_count": null,
   "metadata": {},
   "outputs": [],
   "source": [
    "fig, ax = plt.subplots(1, 2, figsize=(13,6))\n",
    "fontsize = 20\n",
    "ticklabelsize = 16\n",
    "color = np.array(['darkgoldenrod','darkorchid'])\n",
    "alpha = 0.5\n",
    "\n",
    "axmin = min(shear1_ci_lower.min(), shear2_ci_lower.min()).cpu() - 0.01\n",
    "axmax = max(shear1_ci_upper.max(), shear2_ci_upper.max()).cpu() + 0.01\n",
    "\n",
    "np.random.seed(0)\n",
    "indexes = np.arange(len(test_dl))\n",
    "\n",
    "interval_idx = 17 # 90% credible interval\n",
    "\n",
    "_ = ax[0].axline((0,0), slope = 1, linestyle = 'dotted', color = 'black', linewidth=2)\n",
    "shear1_coverage = (\n",
    "    ((shear1_ci_lower <= shear1_true.unsqueeze(-1)\n",
    "        ) * (shear1_true.unsqueeze(-1) <= shear1_ci_upper))[...,interval_idx]\n",
    "    )\n",
    "\n",
    "covered_legend = False\n",
    "uncovered_legend = False\n",
    "\n",
    "for i in range(len(test_dl)):\n",
    "    if (shear1_coverage[indexes[i]]) and (not covered_legend):\n",
    "        covered_legend = True\n",
    "        _ = ax[0].vlines(x = shear1_true[indexes[i]],\n",
    "                        ymin = shear1_ci_lower[...,interval_idx][indexes[i]],\n",
    "                        ymax = shear1_ci_upper[...,interval_idx][indexes[i]],\n",
    "                        alpha = alpha, color = color[shear1_coverage[indexes[i]]],\n",
    "                        label = f\"covers ({round(100 * shear1_coverage_probs[interval_idx].item(), 1)}%)\")\n",
    "    elif (not shear1_coverage[indexes[i]]) and (not uncovered_legend):\n",
    "        uncovered_legend = True\n",
    "        _ = ax[0].vlines(x = shear1_true[indexes[i]],\n",
    "                        ymin = shear1_ci_lower[...,interval_idx][indexes[i]],\n",
    "                        ymax = shear1_ci_upper[...,interval_idx][indexes[i]],\n",
    "                        alpha = alpha, color = color[shear1_coverage[indexes[i]]],\n",
    "                        label = f\"does not cover ({round(100 * (1 - shear1_coverage_probs[interval_idx].item()), 1)}%)\")\n",
    "    else:\n",
    "        _ = ax[0].vlines(x = shear1_true[indexes[i]],\n",
    "                        ymin = shear1_ci_lower[...,interval_idx][indexes[i]],\n",
    "                        ymax = shear1_ci_upper[...,interval_idx][indexes[i]],\n",
    "                        alpha = alpha, color = color[shear1_coverage[indexes[i]]])\n",
    "_ = ax[0].set_xlabel('$\\gamma_1$', fontsize=fontsize)\n",
    "_ = ax[0].set_ylabel(r'$\\widehat{\\gamma}_1$', fontsize=fontsize)\n",
    "_ = ax[0].tick_params(axis='both', which='major', labelsize=ticklabelsize)\n",
    "_ = ax[0].legend(loc = 'upper left', prop = {'size': ticklabelsize})\n",
    "_ = ax[0].set_xlim(axmin, axmax)\n",
    "_ = ax[0].set_ylim(axmin, axmax)\n",
    "\n",
    "\n",
    "\n",
    "_ = ax[1].axline((0,0), slope = 1, linestyle = 'dotted', color = 'black', linewidth=2)\n",
    "shear2_coverage = (\n",
    "    ((shear2_ci_lower <= shear2_true.unsqueeze(-1)\n",
    "        ) * (shear2_true.unsqueeze(-1) <= shear2_ci_upper))[...,interval_idx]\n",
    "    )\n",
    "\n",
    "covered_legend = False\n",
    "uncovered_legend = False\n",
    "\n",
    "for i in range(len(indexes)):\n",
    "    if (shear2_coverage[indexes[i]]) and (not covered_legend):\n",
    "        covered_legend = True\n",
    "        _ = ax[1].vlines(x = shear2_true[indexes[i]],\n",
    "                        ymin = shear2_ci_lower[...,interval_idx][indexes[i]],\n",
    "                        ymax = shear2_ci_upper[...,interval_idx][indexes[i]],\n",
    "                        alpha = alpha, color = color[shear2_coverage[indexes[i]]],\n",
    "                        label = f\"covers ({round(100 * shear2_coverage_probs[interval_idx].item(), 1)}%)\")\n",
    "    elif (not shear2_coverage[indexes[i]]) and (not uncovered_legend):\n",
    "        uncovered_legend = True\n",
    "        _ = ax[1].vlines(x = shear2_true[indexes[i]],\n",
    "                        ymin = shear2_ci_lower[...,interval_idx][indexes[i]],\n",
    "                        ymax = shear2_ci_upper[...,interval_idx][indexes[i]],\n",
    "                        alpha = alpha, color = color[shear2_coverage[indexes[i]]],\n",
    "                        label = f\"does not cover ({round(100 * (1 - shear2_coverage_probs[interval_idx].item()), 1)}%)\")\n",
    "    else:\n",
    "        _ = ax[1].vlines(x = shear2_true[indexes[i]],\n",
    "                        ymin = shear2_ci_lower[...,interval_idx][indexes[i]],\n",
    "                        ymax = shear2_ci_upper[...,interval_idx][indexes[i]],\n",
    "                        alpha = alpha, color = color[shear2_coverage[indexes[i]]])\n",
    "_ = ax[1].set_xlabel('$\\gamma_2$', fontsize=fontsize)\n",
    "_ = ax[1].set_ylabel(r'$\\widehat{\\gamma}_2$', fontsize=fontsize)\n",
    "_ = ax[1].tick_params(axis='both', which='major', labelsize=ticklabelsize)\n",
    "_ = ax[1].legend(loc = 'upper left', prop = {'size': ticklabelsize})\n",
    "_ = ax[1].set_xlim(axmin, axmax)\n",
    "_ = ax[1].set_ylim(axmin, axmax)\n",
    "\n",
    "for a in ax.flat:\n",
    "    _ = a.spines[['top', 'right']].set_visible(False)\n",
    "\n",
    "_ = fig.tight_layout()\n",
    "\n",
    "fig.savefig(f\"figures/{setting}_credibleintervals.png\", dpi = 300, transparent = True, bbox_inches = 'tight', pad_inches = 0)"
   ]
  }
 ],
 "metadata": {
  "kernelspec": {
   "display_name": "Python 3.10.12 ('.venv': poetry)",
   "language": "python",
   "name": "python3"
  },
  "language_info": {
   "name": "python",
   "version": "3.10.12"
  },
  "vscode": {
   "interpreter": {
    "hash": "b4661855a00534d33d8816bb82c2c10cdb213ba54673534b85238a4e726f8227"
   }
  }
 },
 "nbformat": 4,
 "nbformat_minor": 2
}

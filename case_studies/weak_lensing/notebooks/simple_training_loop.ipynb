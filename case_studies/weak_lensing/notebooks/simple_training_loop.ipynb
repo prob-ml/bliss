{
 "cells": [
  {
   "cell_type": "markdown",
   "id": "5270d44e",
   "metadata": {},
   "source": [
    "### (1) Imports, paths, and config"
   ]
  },
  {
   "cell_type": "code",
   "execution_count": null,
   "id": "1117d3c5",
   "metadata": {},
   "outputs": [],
   "source": [
    "import sys\n",
    "import os\n",
    "from os import environ\n",
    "from pathlib import Path\n",
    "\n",
    "import torch\n",
    "import numpy as np\n",
    "import matplotlib.pyplot as plt\n",
    "\n",
    "from hydra import initialize, compose\n",
    "from hydra.utils import instantiate\n",
    "from omegaconf import DictConfig, OmegaConf\n",
    "\n",
    "# Change twhit to your username (and rest of path as necessary)\n",
    "os.chdir('/home/twhit/bliss/case_studies/weak_lensing/')\n",
    "from lensing_catalog import LensingTileCatalog\n",
    "from lensing_variational_dist import LensingVariationalDistSpec, LensingVariationalDist"
   ]
  },
  {
   "cell_type": "code",
   "execution_count": null,
   "id": "ea53e030",
   "metadata": {},
   "outputs": [],
   "source": [
    "environ[\"BLISS_HOME\"] = \"/home/twhit/bliss\"\n",
    "with initialize(config_path=\"../\", version_base=None):\n",
    "    cfg = compose(\"lensing_config\", overrides={\"surveys.sdss.load_image_data=true\"})"
   ]
  },
  {
   "cell_type": "markdown",
   "id": "a5af86d4",
   "metadata": {},
   "source": [
    "---"
   ]
  },
  {
   "cell_type": "markdown",
   "id": "39f286c7",
   "metadata": {},
   "source": [
    "### (2) Generate synthetic images"
   ]
  },
  {
   "cell_type": "code",
   "execution_count": null,
   "id": "7eb385b5",
   "metadata": {},
   "outputs": [],
   "source": [
    "simulator = instantiate(cfg.simulator)\n",
    "batch = simulator.get_batch()"
   ]
  },
  {
   "cell_type": "code",
   "execution_count": null,
   "id": "13037e3a",
   "metadata": {},
   "outputs": [],
   "source": [
    "_ = plt.imshow(batch['images'][0][2])"
   ]
  },
  {
   "cell_type": "markdown",
   "id": "597dc836",
   "metadata": {},
   "source": [
    "---"
   ]
  },
  {
   "cell_type": "markdown",
   "id": "5ebb9a5a",
   "metadata": {},
   "source": [
    "### (3) Instantiate encoder"
   ]
  },
  {
   "cell_type": "code",
   "execution_count": null,
   "id": "ee2fb778",
   "metadata": {},
   "outputs": [],
   "source": [
    "encoder = instantiate(cfg.train.encoder)\n",
    "target_cat = LensingTileCatalog(encoder.tile_slen, batch[\"tile_catalog\"])\n",
    "truth_callback = lambda _: target_cat"
   ]
  },
  {
   "cell_type": "markdown",
   "id": "a1b13a44",
   "metadata": {},
   "source": [
    "---"
   ]
  },
  {
   "cell_type": "markdown",
   "id": "0522acc0",
   "metadata": {},
   "source": [
    "### (4) Train encoder on a single batch of synthetic images"
   ]
  },
  {
   "cell_type": "markdown",
   "id": "9ed22873",
   "metadata": {},
   "source": [
    "Here we'll just try to learn the shear and convergence for the single batch of synthetic images we generated above.\n",
    "\n",
    "Later, we'll generate a new batch inside the training loop in each iteration."
   ]
  },
  {
   "cell_type": "code",
   "execution_count": null,
   "id": "ac582a2f",
   "metadata": {},
   "outputs": [],
   "source": [
    "num_iters = 1000\n",
    "optimizer = torch.optim.Adam(encoder.parameters(), lr=1e-3)\n",
    "\n",
    "for i in range(num_iters):\n",
    "    # Forward pass of encoder\n",
    "    pred = encoder.infer(batch, truth_callback)\n",
    "    lvd = pred['marginal']\n",
    "    \n",
    "    # Compute loss and take optimizer step\n",
    "    optimizer.zero_grad()\n",
    "    loss = lvd.compute_nll(target_cat).mean()\n",
    "    loss.backward()\n",
    "    optimizer.step()\n",
    "    \n",
    "    if i % 10 == 0:\n",
    "        print('Iteration {}: Loss {}'.format(i, loss.item()))"
   ]
  },
  {
   "cell_type": "markdown",
   "id": "e86bd889",
   "metadata": {},
   "source": [
    "---"
   ]
  },
  {
   "cell_type": "markdown",
   "id": "b5be1ea0",
   "metadata": {},
   "source": [
    "### (5) Summarize results"
   ]
  },
  {
   "cell_type": "code",
   "execution_count": null,
   "id": "621703e0",
   "metadata": {},
   "outputs": [],
   "source": [
    "# Optimized variational distribution\n",
    "q = lvd.factors"
   ]
  },
  {
   "cell_type": "markdown",
   "id": "41178242",
   "metadata": {},
   "source": [
    "#### Horizontal shear"
   ]
  },
  {
   "cell_type": "code",
   "execution_count": null,
   "id": "c85c7b31",
   "metadata": {},
   "outputs": [],
   "source": [
    "true_shear1_map = batch[\"tile_catalog\"][\"shear\"].squeeze()[0][:,:,0]\n",
    "posterior_mean_shear1_map = q[\"shear\"].mean[0][:,:,0].detach()"
   ]
  },
  {
   "cell_type": "code",
   "execution_count": null,
   "id": "b8a55d53",
   "metadata": {},
   "outputs": [],
   "source": [
    "np.corrcoef(true_shear1_map.flatten(), posterior_mean_shear1_map.flatten())"
   ]
  },
  {
   "cell_type": "code",
   "execution_count": null,
   "id": "07a9a15c",
   "metadata": {},
   "outputs": [],
   "source": [
    "fig, (true, posterior) = plt.subplots(nrows=1, ncols=2)\n",
    "_ = true.imshow(true_shear1_map)\n",
    "_ = posterior.imshow(posterior_mean_shear1_map)"
   ]
  },
  {
   "cell_type": "markdown",
   "id": "e17ada01",
   "metadata": {},
   "source": [
    "#### Diagonal shear"
   ]
  },
  {
   "cell_type": "code",
   "execution_count": null,
   "id": "282472fc",
   "metadata": {},
   "outputs": [],
   "source": [
    "true_shear2_map = batch[\"tile_catalog\"][\"shear\"].squeeze()[0][:,:,1]\n",
    "posterior_mean_shear2_map = q[\"shear\"].mean[0][:,:,1].detach()"
   ]
  },
  {
   "cell_type": "code",
   "execution_count": null,
   "id": "15bec519",
   "metadata": {},
   "outputs": [],
   "source": [
    "np.corrcoef(true_shear2_map.flatten(), posterior_mean_shear2_map.flatten())"
   ]
  },
  {
   "cell_type": "code",
   "execution_count": null,
   "id": "2934ff56",
   "metadata": {},
   "outputs": [],
   "source": [
    "fig, (true, posterior) = plt.subplots(nrows=1, ncols=2)\n",
    "_ = true.imshow(true_shear2_map)\n",
    "_ = posterior.imshow(posterior_mean_shear2_map)"
   ]
  },
  {
   "cell_type": "markdown",
   "id": "afe8a975",
   "metadata": {},
   "source": [
    "#### Convergence"
   ]
  },
  {
   "cell_type": "code",
   "execution_count": null,
   "id": "1b8d19ae",
   "metadata": {},
   "outputs": [],
   "source": [
    "true_convergence_map = batch[\"tile_catalog\"][\"convergence\"].squeeze()[0]\n",
    "posterior_mean_convergence_map = q[\"convergence\"].base_dist.mean.sigmoid()[0].detach()"
   ]
  },
  {
   "cell_type": "code",
   "execution_count": null,
   "id": "d40efed4",
   "metadata": {},
   "outputs": [],
   "source": [
    "np.corrcoef(true_convergence_map.flatten(), posterior_mean_convergence_map.flatten())"
   ]
  },
  {
   "cell_type": "code",
   "execution_count": null,
   "id": "f7c1ee64",
   "metadata": {},
   "outputs": [],
   "source": [
    "fig, (true, posterior) = plt.subplots(nrows=1, ncols=2)\n",
    "_ = true.imshow(true_convergence_map)\n",
    "_ = posterior.imshow(posterior_mean_convergence_map)"
   ]
  }
 ],
 "metadata": {
  "kernelspec": {
   "display_name": "Python 3 (ipykernel)",
   "language": "python",
   "name": "python3"
  },
  "language_info": {
   "codemirror_mode": {
    "name": "ipython",
    "version": 3
   },
   "file_extension": ".py",
   "mimetype": "text/x-python",
   "name": "python",
   "nbconvert_exporter": "python",
   "pygments_lexer": "ipython3",
   "version": "3.10.12"
  }
 },
 "nbformat": 4,
 "nbformat_minor": 5
}

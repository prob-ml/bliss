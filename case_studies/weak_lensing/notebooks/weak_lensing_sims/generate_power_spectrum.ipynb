{
 "cells": [
  {
   "cell_type": "code",
   "execution_count": 4,
   "metadata": {},
   "outputs": [],
   "source": [
    "import galsim\n",
    "import numpy as np\n",
    "import matplotlib.pyplot as plt\n",
    "from torch.distributions import Uniform, Beta, Normal\n",
    "import pyccl\n",
    "# import torch"
   ]
  },
  {
   "cell_type": "code",
   "execution_count": 2,
   "metadata": {},
   "outputs": [
    {
     "name": "stdout",
     "output_type": "stream",
     "text": [
      "0.8161540031433105\n"
     ]
    }
   ],
   "source": [
    "dist = Normal(torch.tensor([0.8159]), torch.tensor([0.001]))\n",
    "sigma_8 = dist.sample().item()\n",
    "print(sigma_8)"
   ]
  },
  {
   "cell_type": "code",
   "execution_count": 5,
   "metadata": {},
   "outputs": [],
   "source": [
    "# cosmology = pyccl.cosmology.Cosmology(sigma8=sigma_8,\n",
    "#                                       Omega_c=0.25,\n",
    "#                                       Omega_b=0.0486,\n",
    "#                                       h=67.7, # order of magnitude is wrong\n",
    "#                                       n_s=1,\n",
    "# )\n",
    "cosmology = pyccl.cosmology.CosmologyVanillaLCDM()"
   ]
  },
  {
   "cell_type": "code",
   "execution_count": 6,
   "metadata": {},
   "outputs": [],
   "source": [
    "cosmology.compute_linear_power()\n",
    "power_spectrum = cosmology.get_linear_power()"
   ]
  },
  {
   "cell_type": "code",
   "execution_count": 7,
   "metadata": {},
   "outputs": [
    {
     "name": "stdout",
     "output_type": "stream",
     "text": [
      "<pyccl.pk2d.Pk2D>\n",
      "\t+==============+=================================================================+\n",
      "\t| a \\ log10(k) | -4.30e+00 -4.16e+00 -4.01e+00 ...  8.37e-01  9.29e-01  1.02e+00 |\n",
      "\t+==============+=================================================================+\n",
      "\t|  1.00e-02    |  1.84e-01  2.53e-01  3.49e-01 ...  1.09e-04  6.25e-05  3.56e-05 |\n",
      "\t|  1.26e-02    |  2.98e-01  4.11e-01  5.66e-01 ...  1.72e-04  9.82e-05  5.59e-05 |\n",
      "\t|  1.58e-02    |  4.82e-01  6.64e-01  9.14e-01 ...  2.71e-04  1.55e-04  8.81e-05 |\n",
      "\t|     ...      |                               ...                               |\n",
      "\t|  9.54e-01    |  1.19e+03  1.64e+03  2.26e+03 ...  6.06e-01  3.46e-01  1.97e-01 |\n",
      "\t|  9.77e-01    |  1.22e+03  1.68e+03  2.32e+03 ...  6.22e-01  3.55e-01  2.02e-01 |\n",
      "\t|  1.00e+00    |  1.25e+03  1.73e+03  2.38e+03 ...  6.37e-01  3.64e-01  2.07e-01 |\n",
      "\t+==============+=================================================================+\n",
      "\t| is_log = True , extrap_orders = (1, 2)                                         |\n",
      "\t| HASH_ARRS = 0x18c4d70135207690f                                                |\n",
      "\t+==============+=================================================================+\n"
     ]
    }
   ],
   "source": [
    "print(power_spectrum)"
   ]
  },
  {
   "cell_type": "code",
   "execution_count": 27,
   "metadata": {},
   "outputs": [
    {
     "name": "stdout",
     "output_type": "stream",
     "text": [
      "(193, 1)\n",
      "(193, 1) (193, 1)\n",
      "(193, 2)\n"
     ]
    }
   ],
   "source": [
    "# power_spectrum.get_spline_arrays[2] returns P(k, a), but we want k for a fixed a\n",
    "\n",
    "power_spectrum_vals_pk = power_spectrum.get_spline_arrays()[2][0]\n",
    "power_spectrum_vals_k = np.exp(power_spectrum.get_spline_arrays()[1])\n",
    "\n",
    "power_spectrum_vals_pk = np.array([power_spectrum_vals_pk]).T\n",
    "power_spectrum_vals_k = np.array([power_spectrum_vals_k]).T\n",
    "print(power_spectrum_vals_pk.shape)\n",
    "\n",
    "with open('./sample_ps_vals.txt', 'w') as f:\n",
    "    print(power_spectrum_vals_k.shape, power_spectrum_vals_pk.shape)\n",
    "    x = np.hstack((power_spectrum_vals_k, power_spectrum_vals_pk))\n",
    "    print(x.shape)\n",
    "    np.savetxt(f, x)"
   ]
  },
  {
   "cell_type": "code",
   "execution_count": 28,
   "metadata": {},
   "outputs": [],
   "source": [
    "lookup = galsim.LookupTable(x=power_spectrum_vals_k, f=power_spectrum_vals_pk, x_log=False, f_log=False)"
   ]
  },
  {
   "cell_type": "code",
   "execution_count": 32,
   "metadata": {},
   "outputs": [
    {
     "ename": "AttributeError",
     "evalue": "module 'galsim' has no attribute 'megaparsecs'",
     "output_type": "error",
     "traceback": [
      "\u001b[0;31m---------------------------------------------------------------------------\u001b[0m",
      "\u001b[0;31mAttributeError\u001b[0m                            Traceback (most recent call last)",
      "Cell \u001b[0;32mIn[32], line 1\u001b[0m\n\u001b[0;32m----> 1\u001b[0m galsim_ps \u001b[38;5;241m=\u001b[39m galsim\u001b[38;5;241m.\u001b[39mPowerSpectrum(lookup, units\u001b[38;5;241m=\u001b[39m\u001b[43mgalsim\u001b[49m\u001b[38;5;241;43m.\u001b[39;49m\u001b[43mmegaparsecs\u001b[49m)\n",
      "\u001b[0;31mAttributeError\u001b[0m: module 'galsim' has no attribute 'megaparsecs'"
     ]
    }
   ],
   "source": [
    "galsim_ps = galsim.PowerSpectrum(lookup, units=galsim.megaparsecs)"
   ]
  },
  {
   "cell_type": "code",
   "execution_count": 31,
   "metadata": {},
   "outputs": [
    {
     "name": "stdout",
     "output_type": "stream",
     "text": [
      "[[-0.01304533 -0.0071632   0.03646001  0.02982726 -0.01106775  0.03783289\n",
      "   0.07399546 -0.06162    -0.11838782 -0.05166791 -0.06037739 -0.12001942\n",
      "  -0.11881912 -0.10102937 -0.13584369 -0.02302954  0.02001953 -0.04962233\n",
      "  -0.04986112 -0.0304356 ]\n",
      " [-0.07932569 -0.0845991  -0.00959946  0.05147901  0.0254158   0.04586127\n",
      "   0.05887111 -0.02971559 -0.0697657   0.01864924  0.0060788  -0.09293778\n",
      "  -0.0864997  -0.11427855 -0.09704248  0.01819811 -0.00222672 -0.00936688\n",
      "  -0.01260119 -0.06998497]\n",
      " [-0.01361281 -0.02164229  0.00312194 -0.03344436 -0.03572004  0.04330715\n",
      "   0.03460594  0.02779772  0.00046113  0.00264051  0.03099731 -0.02915795\n",
      "  -0.07946194 -0.11246291 -0.06159711  0.03389991  0.01993795 -0.00117938\n",
      "  -0.01603732 -0.02706333]\n",
      " [-0.0126045  -0.00671553  0.01058514 -0.02598866  0.0008321   0.04245213\n",
      "   0.02041418  0.06069601  0.08493083  0.06427212  0.05728127 -0.02207342\n",
      "  -0.09075161 -0.0333129   0.00141084  0.05677154  0.05721239 -0.02802752\n",
      "  -0.06621911 -0.04498224]\n",
      " [ 0.03778117 -0.02131781 -0.01386918 -0.0023107  -0.00943771 -0.02269212\n",
      "  -0.02250864 -0.01430095 -0.00467004 -0.06019454 -0.08830164 -0.06707524\n",
      "  -0.11465597 -0.05918007  0.02327122  0.07746537  0.03934117 -0.01152077\n",
      "  -0.02976757 -0.00169035]\n",
      " [ 0.05205298 -0.05232973 -0.05111702 -0.01208205 -0.01593807 -0.01176451\n",
      "  -0.04250371 -0.0661815  -0.05783033 -0.11406331 -0.12055129 -0.05813915\n",
      "  -0.0698935  -0.01797356  0.06218248  0.00687146 -0.03016553  0.0306529\n",
      "   0.00554105  0.02678653]\n",
      " [ 0.01621255  0.00906666 -0.00131112  0.04185336  0.04963606  0.02042822\n",
      "  -0.04302564 -0.01196388 -0.02347531 -0.08161898 -0.04060514 -0.0128086\n",
      "  -0.00183233  0.05103463  0.12274806 -0.02779795 -0.07663933 -0.0364783\n",
      "  -0.07379618 -0.02380356]\n",
      " [ 0.02378772  0.05755261  0.01754325  0.04277593  0.02528685  0.02674337\n",
      "   0.05942997  0.08249114 -0.01667565 -0.07673535 -0.03812688 -0.02081648\n",
      "   0.00964133 -0.02049109  0.04968894 -0.00829906 -0.02425751 -0.0343356\n",
      "  -0.00745134  0.04998121]\n",
      " [ 0.03296915  0.05203443  0.01310737  0.05698193  0.05826297  0.04347853\n",
      "   0.08155813  0.0722103  -0.00677302 -0.00437276 -0.01665599 -0.06885568\n",
      "  -0.08200298 -0.13059722 -0.06001227 -0.02431991 -0.00334301  0.02124741\n",
      "   0.07733031  0.07663363]\n",
      " [ 0.07857612  0.04238828  0.01365815  0.01238377  0.03976138  0.02127654\n",
      "   0.07775977  0.10083493  0.02151026  0.01891243 -0.00168242 -0.04706224\n",
      "  -0.06156293 -0.05359469 -0.07643019 -0.05540749  0.00963847  0.03547633\n",
      "   0.0374699   0.06349063]\n",
      " [ 0.0742851   0.00516459  0.0413213   0.02312791  0.04346746  0.01002645\n",
      "   0.04019521  0.07673912  0.06608347  0.06183678  0.00044228  0.02263465\n",
      "   0.05964738  0.07779158 -0.04243051 -0.05378274  0.05098781  0.05206156\n",
      "   0.04077049  0.09917007]\n",
      " [ 0.0763655   0.06823612  0.01357667 -0.03676533 -0.01271688  0.04503536\n",
      "   0.07759973  0.03642802  0.03913206  0.01447493 -0.0438791   0.04882836\n",
      "   0.06357929  0.01583423 -0.00387501  0.04342685  0.10958782  0.0977768\n",
      "   0.06720523  0.05329998]\n",
      " [ 0.13355601  0.10654151 -0.01055693 -0.03381794 -0.06809785  0.03183819\n",
      "   0.04753533 -0.04460651 -0.04740096 -0.05486642 -0.0536606   0.00444158\n",
      "   0.07437672  0.06305171  0.07182355  0.09280184  0.11758192  0.12997954\n",
      "   0.07843083  0.04822453]\n",
      " [ 0.14403068  0.08062855  0.04992822  0.07023326  0.02733889  0.05398565\n",
      "  -0.02331079 -0.04458956 -0.0280293  -0.07609044 -0.03183045 -0.02353515\n",
      "   0.06196999  0.05327113  0.03565638  0.09159895  0.14200149  0.19961871\n",
      "   0.18422804  0.15686207]\n",
      " [ 0.13509164  0.08824632  0.06873827  0.0471346   0.01558091  0.01101099\n",
      "  -0.03233803 -0.02761385 -0.0025047  -0.04496636  0.00706159  0.02865118\n",
      "   0.03059406 -0.01490844  0.03389359  0.14673756  0.1139484   0.1137269\n",
      "   0.17204989  0.19409671]\n",
      " [ 0.1327646   0.09836684  0.07319207  0.05765858 -0.04191594 -0.08324779\n",
      "  -0.04379955 -0.0791184  -0.04751196 -0.05542466 -0.03349111  0.03233205\n",
      "   0.00683811 -0.01816422  0.00150476  0.05773801  0.05174175  0.01080579\n",
      "   0.03292293  0.11129946]\n",
      " [ 0.06668885  0.01066046 -0.00819539  0.01149674 -0.0392623  -0.07633493\n",
      "  -0.05813492 -0.0420815  -0.06884989 -0.15131324 -0.12107246 -0.06087848\n",
      "  -0.10146285 -0.07661141 -0.03879221 -0.00259969  0.06220925  0.06267662\n",
      "   0.04147013  0.05958367]\n",
      " [ 0.07103502  0.06649739  0.04815036 -0.00124253 -0.04406787 -0.04306075\n",
      "  -0.05327115 -0.04671782 -0.17769836 -0.19959994 -0.11387049 -0.14747111\n",
      "  -0.16530736 -0.12535419 -0.05579509  0.00257686  0.0458494   0.08241786\n",
      "   0.04973208  0.01671078]\n",
      " [ 0.08048144  0.09553997  0.08395333  0.02270251 -0.03096661 -0.00420645\n",
      "  -0.00383754 -0.03729632 -0.17897896 -0.18622819 -0.10502407 -0.09043641\n",
      "  -0.08935663 -0.11942427 -0.10361501 -0.04157075  0.01381379  0.05840811\n",
      "  -0.00684454 -0.03786302]\n",
      " [ 0.06372534  0.04710521  0.04685223  0.00509935 -0.03160112 -0.00259234\n",
      "  -0.01314424 -0.07686309 -0.13255795 -0.16514613 -0.12712444 -0.06262944\n",
      "  -0.09098728 -0.10827191 -0.10785502 -0.03567114 -0.00152408 -0.04571903\n",
      "  -0.05708267 -0.00661069]]\n"
     ]
    },
    {
     "data": {
      "image/png": "[encoded data removed]",
      "text/plain": [
       "<Figure size 640x480 with 2 Axes>"
      ]
     },
     "metadata": {},
     "output_type": "display_data"
    }
   ],
   "source": [
    "grid_size = 10.  # Define the total grid extent, in degrees\n",
    "ngrid = 20      # Define the number of grid points in each dimension: (ngrid x ngrid)\n",
    "n_ell = 15  \n",
    "\n",
    "g1, g2, kappa = galsim_ps.buildGrid(grid_spacing=grid_size/ngrid, ngrid=ngrid, units=galsim.degrees, get_convergence=True)\n",
    "\n",
    "fig, (one, two) = plt.subplots(nrows=1,ncols=2)\n",
    "_ = one.imshow(g1)\n",
    "_ = two.imshow(g2)\n",
    "print(kappa)"
   ]
  }
 ],
 "metadata": {
  "kernelspec": {
   "display_name": "env",
   "language": "python",
   "name": "python3"
  },
  "language_info": {
   "codemirror_mode": {
    "name": "ipython",
    "version": 3
   },
   "file_extension": ".py",
   "mimetype": "text/x-python",
   "name": "python",
   "nbconvert_exporter": "python",
   "pygments_lexer": "ipython3",
   "version": "3.10.12"
  }
 },
 "nbformat": 4,
 "nbformat_minor": 2
}

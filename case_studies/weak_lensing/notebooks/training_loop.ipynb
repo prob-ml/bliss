{
 "cells": [
  {
   "cell_type": "markdown",
   "id": "5270d44e",
   "metadata": {},
   "source": [
    "### (1) Imports, paths, and config"
   ]
  },
  {
   "cell_type": "code",
   "execution_count": 1,
   "id": "1117d3c5",
   "metadata": {},
   "outputs": [],
   "source": [
    "import sys\n",
    "import os\n",
    "from os import environ\n",
    "from pathlib import Path\n",
    "\n",
    "import torch\n",
    "import numpy as np\n",
    "import matplotlib.pyplot as plt\n",
    "\n",
    "from hydra import initialize, compose\n",
    "from hydra.utils import instantiate\n",
    "from omegaconf import DictConfig, OmegaConf\n",
    "\n",
    "# Change twhit to your username (and rest of path as necessary)\n",
    "os.chdir('/home/twhit/bliss/case_studies/weak_lensing/')\n",
    "from bliss.catalog import TileCatalog\n",
    "from lensing_variational_dist import LensingVariationalDistSpec, LensingVariationalDist"
   ]
  },
  {
   "cell_type": "code",
   "execution_count": 2,
   "id": "ea53e030",
   "metadata": {},
   "outputs": [],
   "source": [
    "environ[\"BLISS_HOME\"] = \"/home/twhit/bliss\"\n",
    "with initialize(config_path=\"../\", version_base=None):\n",
    "    cfg = compose(\"lensing_config\",\n",
    "                  {\"prior.batch_size=4\"})"
   ]
  },
  {
   "cell_type": "markdown",
   "id": "a5af86d4",
   "metadata": {},
   "source": [
    "---"
   ]
  },
  {
   "cell_type": "markdown",
   "id": "39f286c7",
   "metadata": {},
   "source": [
    "### (2) Generate synthetic images"
   ]
  },
  {
   "cell_type": "code",
   "execution_count": 3,
   "id": "7eb385b5",
   "metadata": {},
   "outputs": [],
   "source": [
    "simulator = instantiate(cfg.simulator)\n",
    "batch = simulator.get_batch()"
   ]
  },
  {
   "cell_type": "code",
   "execution_count": 4,
   "id": "13037e3a",
   "metadata": {},
   "outputs": [
    {
     "data": {
      "image/png": "[encoded data removed]",
      "text/plain": [
       "<Figure size 640x480 with 1 Axes>"
      ]
     },
     "metadata": {},
     "output_type": "display_data"
    }
   ],
   "source": [
    "_ = plt.imshow(batch['images'][0][2])"
   ]
  },
  {
   "cell_type": "markdown",
   "id": "597dc836",
   "metadata": {},
   "source": [
    "---"
   ]
  },
  {
   "cell_type": "markdown",
   "id": "5ebb9a5a",
   "metadata": {},
   "source": [
    "### (3) Instantiate encoder"
   ]
  },
  {
   "cell_type": "code",
   "execution_count": 5,
   "id": "ee2fb778",
   "metadata": {},
   "outputs": [],
   "source": [
    "encoder = instantiate(cfg.train.encoder)\n",
    "target_cat = TileCatalog(encoder.tile_slen, batch[\"tile_catalog\"])\n",
    "truth_callback = lambda _: target_cat"
   ]
  },
  {
   "cell_type": "markdown",
   "id": "a1b13a44",
   "metadata": {},
   "source": [
    "---"
   ]
  },
  {
   "cell_type": "markdown",
   "id": "0522acc0",
   "metadata": {},
   "source": [
    "### (4) Train encoder on a single batch of synthetic images"
   ]
  },
  {
   "cell_type": "markdown",
   "id": "9ed22873",
   "metadata": {},
   "source": [
    "Here we'll just try to learn the shear and convergence for the single batch of synthetic images we generated above. When we actually train via the terminal, we'll do so by pulling in batches from a cached data set. With this single batch, we should be able to infer shear and convergence almost exactly after a sufficient number of iterations."
   ]
  },
  {
   "cell_type": "code",
   "execution_count": 6,
   "id": "ac582a2f",
   "metadata": {},
   "outputs": [
    {
     "name": "stdout",
     "output_type": "stream",
     "text": [
      "Iteration 0: Loss 11.630597114562988\n",
      "Iteration 10: Loss 7.091146469116211\n",
      "Iteration 20: Loss 5.688786029815674\n",
      "Iteration 30: Loss 4.659934043884277\n",
      "Iteration 40: Loss 3.1241958141326904\n",
      "Iteration 50: Loss 1.9068711996078491\n",
      "Iteration 60: Loss 1.079552173614502\n",
      "Iteration 70: Loss 44.36319351196289\n",
      "Iteration 80: Loss 4.023122787475586\n",
      "Iteration 90: Loss 3.8739213943481445\n",
      "Iteration 100: Loss 2.447209119796753\n",
      "Iteration 110: Loss 1.939577579498291\n",
      "Iteration 120: Loss 1.7265675067901611\n",
      "Iteration 130: Loss 1.5885006189346313\n",
      "Iteration 140: Loss 1.4842100143432617\n",
      "Iteration 150: Loss 1.3993427753448486\n",
      "Iteration 160: Loss 1.3207505941390991\n",
      "Iteration 170: Loss 1.2449935674667358\n",
      "Iteration 180: Loss 1.1696940660476685\n",
      "Iteration 190: Loss 1.1004647016525269\n",
      "Iteration 200: Loss 1.0426630973815918\n",
      "Iteration 210: Loss 0.9878763556480408\n",
      "Iteration 220: Loss 0.9358384609222412\n",
      "Iteration 230: Loss 0.8870247602462769\n",
      "Iteration 240: Loss 0.8404273986816406\n",
      "Iteration 250: Loss 0.7936021685600281\n",
      "Iteration 260: Loss 0.7485965490341187\n",
      "Iteration 270: Loss 0.7051040530204773\n",
      "Iteration 280: Loss 0.6623775362968445\n",
      "Iteration 290: Loss 0.621367871761322\n",
      "Iteration 300: Loss 0.5820434093475342\n",
      "Iteration 310: Loss 0.5437456369400024\n",
      "Iteration 320: Loss 0.5059505105018616\n",
      "Iteration 330: Loss 0.4706694483757019\n",
      "Iteration 340: Loss 0.43697747588157654\n",
      "Iteration 350: Loss 0.4041079580783844\n",
      "Iteration 360: Loss 0.3717813789844513\n",
      "Iteration 370: Loss 0.34018492698669434\n",
      "Iteration 380: Loss 0.3080101013183594\n",
      "Iteration 390: Loss 0.2763255834579468\n",
      "Iteration 400: Loss 0.24388454854488373\n",
      "Iteration 410: Loss 0.211183562874794\n",
      "Iteration 420: Loss 0.17763853073120117\n",
      "Iteration 430: Loss 0.14430184662342072\n",
      "Iteration 440: Loss 0.11017083376646042\n",
      "Iteration 450: Loss 0.07690378278493881\n",
      "Iteration 460: Loss 0.0404655821621418\n",
      "Iteration 470: Loss 0.0035472107119858265\n",
      "Iteration 480: Loss -0.03414786234498024\n",
      "Iteration 490: Loss -0.07554370164871216\n",
      "Iteration 500: Loss -0.11999044567346573\n",
      "Iteration 510: Loss -0.1615695208311081\n",
      "Iteration 520: Loss -0.2171441912651062\n",
      "Iteration 530: Loss -0.2726078927516937\n",
      "Iteration 540: Loss -0.33562201261520386\n",
      "Iteration 550: Loss -0.40159469842910767\n",
      "Iteration 560: Loss -0.4560804069042206\n",
      "Iteration 570: Loss -0.5138978958129883\n",
      "Iteration 580: Loss -0.5600824952125549\n",
      "Iteration 590: Loss -0.6552797555923462\n",
      "Iteration 600: Loss -0.7726732492446899\n",
      "Iteration 610: Loss -0.6925528049468994\n",
      "Iteration 620: Loss -1.00211763381958\n",
      "Iteration 630: Loss -1.1910758018493652\n",
      "Iteration 640: Loss -1.3531383275985718\n",
      "Iteration 650: Loss -1.466678261756897\n",
      "Iteration 660: Loss -1.4250754117965698\n",
      "Iteration 670: Loss -1.5410187244415283\n",
      "Iteration 680: Loss -1.628371000289917\n",
      "Iteration 690: Loss -1.6686601638793945\n",
      "Iteration 700: Loss -1.7063297033309937\n",
      "Iteration 710: Loss -1.7619134187698364\n",
      "Iteration 720: Loss -1.6121777296066284\n",
      "Iteration 730: Loss -1.7692091464996338\n",
      "Iteration 740: Loss -1.8724894523620605\n",
      "Iteration 750: Loss -1.9275561571121216\n",
      "Iteration 760: Loss -1.974035382270813\n",
      "Iteration 770: Loss -1.9750993251800537\n",
      "Iteration 780: Loss -2.0631072521209717\n",
      "Iteration 790: Loss -1.9643902778625488\n",
      "Iteration 800: Loss -2.073594808578491\n",
      "Iteration 810: Loss -2.1643478870391846\n",
      "Iteration 820: Loss -2.1670141220092773\n",
      "Iteration 830: Loss -1.9053210020065308\n",
      "Iteration 840: Loss -2.0716936588287354\n",
      "Iteration 850: Loss -2.2057530879974365\n",
      "Iteration 860: Loss -2.3053982257843018\n",
      "Iteration 870: Loss -2.3825182914733887\n",
      "Iteration 880: Loss -2.103182077407837\n",
      "Iteration 890: Loss -2.3134121894836426\n",
      "Iteration 900: Loss -2.438211679458618\n",
      "Iteration 910: Loss -2.540715217590332\n",
      "Iteration 920: Loss -2.502978801727295\n",
      "Iteration 930: Loss -2.5358567237854004\n",
      "Iteration 940: Loss -2.6564581394195557\n",
      "Iteration 950: Loss -2.754652500152588\n",
      "Iteration 960: Loss -2.355553388595581\n",
      "Iteration 970: Loss -2.580904960632324\n",
      "Iteration 980: Loss -2.7298333644866943\n",
      "Iteration 990: Loss -2.853776454925537\n",
      "Iteration 1000: Loss -2.3804972171783447\n",
      "Iteration 1010: Loss -2.6315832138061523\n",
      "Iteration 1020: Loss -2.816479206085205\n",
      "Iteration 1030: Loss -2.9834280014038086\n",
      "Iteration 1040: Loss -2.7324106693267822\n",
      "Iteration 1050: Loss -2.8325281143188477\n",
      "Iteration 1060: Loss -3.053835391998291\n",
      "Iteration 1070: Loss -3.191159963607788\n",
      "Iteration 1080: Loss -2.3636651039123535\n",
      "Iteration 1090: Loss -2.6668832302093506\n",
      "Iteration 1100: Loss -2.8900439739227295\n",
      "Iteration 1110: Loss -3.1235098838806152\n",
      "Iteration 1120: Loss -3.3115670680999756\n",
      "Iteration 1130: Loss -3.4165704250335693\n",
      "Iteration 1140: Loss -2.6476354598999023\n",
      "Iteration 1150: Loss -2.9329614639282227\n",
      "Iteration 1160: Loss -3.1721792221069336\n",
      "Iteration 1170: Loss -3.3910880088806152\n",
      "Iteration 1180: Loss -3.563173532485962\n",
      "Iteration 1190: Loss -3.5381603240966797\n",
      "Iteration 1200: Loss -3.6650094985961914\n",
      "Iteration 1210: Loss -3.748612880706787\n",
      "Iteration 1220: Loss -3.8686513900756836\n",
      "Iteration 1230: Loss -3.028583288192749\n",
      "Iteration 1240: Loss -3.456604242324829\n",
      "Iteration 1250: Loss -3.6955857276916504\n",
      "Iteration 1260: Loss -3.9220471382141113\n",
      "Iteration 1270: Loss -3.1979897022247314\n",
      "Iteration 1280: Loss -3.8124990463256836\n",
      "Iteration 1290: Loss -4.060544967651367\n",
      "Iteration 1300: Loss -4.263518810272217\n",
      "Iteration 1310: Loss 2.0606091022491455\n",
      "Iteration 1320: Loss -1.6670680046081543\n",
      "Iteration 1330: Loss -2.017359733581543\n",
      "Iteration 1340: Loss -2.279086112976074\n",
      "Iteration 1350: Loss -2.568840742111206\n",
      "Iteration 1360: Loss -2.815720796585083\n",
      "Iteration 1370: Loss -3.033534288406372\n",
      "Iteration 1380: Loss -3.2329764366149902\n",
      "Iteration 1390: Loss -3.4148471355438232\n",
      "Iteration 1400: Loss -3.5843417644500732\n",
      "Iteration 1410: Loss -3.6871581077575684\n",
      "Iteration 1420: Loss -2.6770529747009277\n",
      "Iteration 1430: Loss -3.1728408336639404\n",
      "Iteration 1440: Loss -3.5081839561462402\n",
      "Iteration 1450: Loss -3.7520458698272705\n",
      "Iteration 1460: Loss -3.9433038234710693\n",
      "Iteration 1470: Loss -4.104601860046387\n",
      "Iteration 1480: Loss -4.251104354858398\n",
      "Iteration 1490: Loss -3.903487205505371\n",
      "Iteration 1500: Loss -4.125547409057617\n",
      "Iteration 1510: Loss -4.3786091804504395\n",
      "Iteration 1520: Loss -4.55577278137207\n",
      "Iteration 1530: Loss -4.639604568481445\n",
      "Iteration 1540: Loss -4.1986494064331055\n",
      "Iteration 1550: Loss -4.632757186889648\n",
      "Iteration 1560: Loss -4.834257125854492\n",
      "Iteration 1570: Loss -4.999648571014404\n",
      "Iteration 1580: Loss -4.337333679199219\n",
      "Iteration 1590: Loss -4.691620349884033\n",
      "Iteration 1600: Loss -4.9106550216674805\n",
      "Iteration 1610: Loss -5.066519260406494\n",
      "Iteration 1620: Loss -4.05826997756958\n",
      "Iteration 1630: Loss -4.741227626800537\n",
      "Iteration 1640: Loss -5.058701515197754\n",
      "Iteration 1650: Loss -5.275636196136475\n",
      "Iteration 1660: Loss -5.1531782150268555\n",
      "Iteration 1670: Loss -5.38583517074585\n",
      "Iteration 1680: Loss -5.608953952789307\n",
      "Iteration 1690: Loss -1.5844273567199707\n",
      "Iteration 1700: Loss -3.3682384490966797\n",
      "Iteration 1710: Loss -4.2276153564453125\n",
      "Iteration 1720: Loss -4.638128280639648\n",
      "Iteration 1730: Loss -4.962322235107422\n",
      "Iteration 1740: Loss -5.217572212219238\n",
      "Iteration 1750: Loss -5.452368259429932\n",
      "Iteration 1760: Loss -5.646432876586914\n",
      "Iteration 1770: Loss -4.148035049438477\n",
      "Iteration 1780: Loss -5.177183151245117\n",
      "Iteration 1790: Loss -5.50363302230835\n",
      "Iteration 1800: Loss -5.814200401306152\n",
      "Iteration 1810: Loss -6.019023418426514\n",
      "Iteration 1820: Loss -5.210569381713867\n",
      "Iteration 1830: Loss -4.84061336517334\n",
      "Iteration 1840: Loss -5.2763471603393555\n",
      "Iteration 1850: Loss -5.785862922668457\n",
      "Iteration 1860: Loss -6.053680896759033\n",
      "Iteration 1870: Loss -6.249307632446289\n",
      "Iteration 1880: Loss -5.981916427612305\n",
      "Iteration 1890: Loss -6.293241024017334\n",
      "Iteration 1900: Loss -5.153120517730713\n",
      "Iteration 1910: Loss -5.956232070922852\n",
      "Iteration 1920: Loss -6.338141918182373\n",
      "Iteration 1930: Loss -6.6320953369140625\n",
      "Iteration 1940: Loss -5.008798599243164\n",
      "Iteration 1950: Loss 2.2863385677337646\n",
      "Iteration 1960: Loss -3.6271958351135254\n",
      "Iteration 1970: Loss -4.152326583862305\n",
      "Iteration 1980: Loss -4.627860069274902\n",
      "Iteration 1990: Loss -5.026739120483398\n"
     ]
    }
   ],
   "source": [
    "num_iters = 2000\n",
    "optimizer = torch.optim.Adam(encoder.parameters(), lr=1e-3)\n",
    "\n",
    "for i in range(num_iters):\n",
    "    # Forward pass of encoder\n",
    "    pred = encoder.infer(batch, truth_callback)\n",
    "    lvd = pred['marginal']\n",
    "    \n",
    "    # Compute loss and take optimizer step\n",
    "    optimizer.zero_grad()\n",
    "    loss = lvd.compute_nll(target_cat).mean()\n",
    "    loss.backward()\n",
    "    optimizer.step()\n",
    "    \n",
    "    if i % 10 == 0:\n",
    "        print('Iteration {}: Loss {}'.format(i, loss.item()))"
   ]
  },
  {
   "cell_type": "markdown",
   "id": "e86bd889",
   "metadata": {},
   "source": [
    "---"
   ]
  },
  {
   "cell_type": "markdown",
   "id": "b5be1ea0",
   "metadata": {},
   "source": [
    "### (5) Summarize results"
   ]
  },
  {
   "cell_type": "code",
   "execution_count": 7,
   "id": "621703e0",
   "metadata": {},
   "outputs": [],
   "source": [
    "# Optimized variational distribution\n",
    "q = lvd.factors"
   ]
  },
  {
   "cell_type": "markdown",
   "id": "41178242",
   "metadata": {},
   "source": [
    "#### Horizontal shear"
   ]
  },
  {
   "cell_type": "code",
   "execution_count": 8,
   "id": "c85c7b31",
   "metadata": {},
   "outputs": [],
   "source": [
    "true_shear1_map = batch[\"tile_catalog\"][\"shear\"].squeeze()[0][:,:,0]\n",
    "posterior_mean_shear1_map = q[\"shear\"].mean[0][:,:,0].detach()"
   ]
  },
  {
   "cell_type": "code",
   "execution_count": 9,
   "id": "b8a55d53",
   "metadata": {},
   "outputs": [
    {
     "data": {
      "text/plain": [
       "array([[1.        , 0.90768065],\n",
       "       [0.90768065, 1.        ]])"
      ]
     },
     "execution_count": 9,
     "metadata": {},
     "output_type": "execute_result"
    }
   ],
   "source": [
    "np.corrcoef(true_shear1_map.flatten(), posterior_mean_shear1_map.flatten())"
   ]
  },
  {
   "cell_type": "code",
   "execution_count": 10,
   "id": "07a9a15c",
   "metadata": {},
   "outputs": [
    {
     "data": {
      "image/png": "[encoded data removed]",
      "text/plain": [
       "<Figure size 640x480 with 2 Axes>"
      ]
     },
     "metadata": {},
     "output_type": "display_data"
    }
   ],
   "source": [
    "fig, (true, posterior) = plt.subplots(nrows=1, ncols=2)\n",
    "_ = true.imshow(true_shear1_map)\n",
    "_ = posterior.imshow(posterior_mean_shear1_map)"
   ]
  },
  {
   "cell_type": "markdown",
   "id": "e17ada01",
   "metadata": {},
   "source": [
    "#### Diagonal shear"
   ]
  },
  {
   "cell_type": "code",
   "execution_count": 11,
   "id": "282472fc",
   "metadata": {},
   "outputs": [],
   "source": [
    "true_shear2_map = batch[\"tile_catalog\"][\"shear\"].squeeze()[0][:,:,1]\n",
    "posterior_mean_shear2_map = q[\"shear\"].mean[0][:,:,1].detach()"
   ]
  },
  {
   "cell_type": "code",
   "execution_count": 12,
   "id": "15bec519",
   "metadata": {},
   "outputs": [
    {
     "data": {
      "text/plain": [
       "array([[1.        , 0.93095038],\n",
       "       [0.93095038, 1.        ]])"
      ]
     },
     "execution_count": 12,
     "metadata": {},
     "output_type": "execute_result"
    }
   ],
   "source": [
    "np.corrcoef(true_shear2_map.flatten(), posterior_mean_shear2_map.flatten())"
   ]
  },
  {
   "cell_type": "code",
   "execution_count": 13,
   "id": "2934ff56",
   "metadata": {},
   "outputs": [
    {
     "data": {
      "image/png": "[encoded data removed]",
      "text/plain": [
       "<Figure size 640x480 with 2 Axes>"
      ]
     },
     "metadata": {},
     "output_type": "display_data"
    }
   ],
   "source": [
    "fig, (true, posterior) = plt.subplots(nrows=1, ncols=2)\n",
    "_ = true.imshow(true_shear2_map)\n",
    "_ = posterior.imshow(posterior_mean_shear2_map)"
   ]
  },
  {
   "cell_type": "markdown",
   "id": "afe8a975",
   "metadata": {},
   "source": [
    "#### Convergence"
   ]
  },
  {
   "cell_type": "code",
   "execution_count": 14,
   "id": "1b8d19ae",
   "metadata": {},
   "outputs": [],
   "source": [
    "true_convergence_map = batch[\"tile_catalog\"][\"convergence\"].squeeze()[0]\n",
    "posterior_mean_convergence_map = q[\"convergence\"].mean[0].detach()"
   ]
  },
  {
   "cell_type": "code",
   "execution_count": 15,
   "id": "d40efed4",
   "metadata": {},
   "outputs": [
    {
     "data": {
      "text/plain": [
       "array([[1.        , 0.96826602],\n",
       "       [0.96826602, 1.        ]])"
      ]
     },
     "execution_count": 15,
     "metadata": {},
     "output_type": "execute_result"
    }
   ],
   "source": [
    "np.corrcoef(true_convergence_map.flatten(), posterior_mean_convergence_map.flatten())"
   ]
  },
  {
   "cell_type": "code",
   "execution_count": 16,
   "id": "f7c1ee64",
   "metadata": {},
   "outputs": [
    {
     "data": {
      "image/png": "[encoded data removed]",
      "text/plain": [
       "<Figure size 640x480 with 2 Axes>"
      ]
     },
     "metadata": {},
     "output_type": "display_data"
    }
   ],
   "source": [
    "fig, (true, posterior) = plt.subplots(nrows=1, ncols=2)\n",
    "_ = true.imshow(true_convergence_map)\n",
    "_ = posterior.imshow(posterior_mean_convergence_map)"
   ]
  }
 ],
 "metadata": {
  "kernelspec": {
   "display_name": "Python 3 (ipykernel)",
   "language": "python",
   "name": "python3"
  },
  "language_info": {
   "codemirror_mode": {
    "name": "ipython",
    "version": 3
   },
   "file_extension": ".py",
   "mimetype": "text/x-python",
   "name": "python",
   "nbconvert_exporter": "python",
   "pygments_lexer": "ipython3",
   "version": "3.10.12"
  }
 },
 "nbformat": 4,
 "nbformat_minor": 5
}

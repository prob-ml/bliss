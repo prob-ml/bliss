{
 "cells": [
  {
   "cell_type": "markdown",
   "id": "936ad551",
   "metadata": {},
   "source": [
    "### (1) Imports, paths, and config"
   ]
  },
  {
   "cell_type": "code",
   "execution_count": 1,
   "id": "f4d18e46",
   "metadata": {},
   "outputs": [],
   "source": [
    "import sys\n",
    "import os\n",
    "from os import environ\n",
    "from pathlib import Path\n",
    "\n",
    "import torch\n",
    "import numpy as np\n",
    "import matplotlib.pyplot as plt\n",
    "\n",
    "from hydra import initialize, compose\n",
    "from hydra.utils import instantiate\n",
    "from omegaconf import DictConfig, OmegaConf"
   ]
  },
  {
   "cell_type": "code",
   "execution_count": 2,
   "id": "8b9bdce6",
   "metadata": {},
   "outputs": [],
   "source": [
    "# Change twhit to your username\n",
    "os.chdir('/home/twhit/bliss/case_studies/weak_lensing/')\n",
    "environ[\"BLISS_HOME\"] = \"/home/twhit/bliss\"\n",
    "\n",
    "# Compose lensing_config.yaml\n",
    "with initialize(config_path=\"../\", version_base=None):\n",
    "    cfg = compose(\"lensing_config\", overrides={\"surveys.sdss.load_image_data=true\"})"
   ]
  },
  {
   "cell_type": "markdown",
   "id": "d0354c26",
   "metadata": {},
   "source": [
    "We now have a lensing-specific config that uses a lensing-specific prior and simulator. Here's what `lensing_config.yaml` looks like:\n",
    "\n",
    "```\n",
    "defaults:\n",
    "    - ../../bliss/conf@_here_: base_config\n",
    "    - _self_\n",
    "    - override hydra/job_logging: stdout\n",
    "\n",
    "prior:\n",
    "    _target_: case_studies.weak_lensing.lensing_prior.LensingPrior\n",
    "    n_tiles_h: 20\n",
    "    n_tiles_w: 20\n",
    "    tile_slen: 4\n",
    "    batch_size: 32\n",
    "    prob_galaxy: 1.0\n",
    "    shear_min: 0.249\n",
    "    shear_max: 0.251\n",
    "    convergence_a: 1\n",
    "    convergence_b: 25\n",
    "\n",
    "simulator:\n",
    "    _target_: case_studies.weak_lensing.lensing_simulated_dataset.LensingSimulatedDataset\n",
    "```"
   ]
  },
  {
   "cell_type": "markdown",
   "id": "2f0da5bd",
   "metadata": {},
   "source": [
    "We see that lensing_config pulls from `bliss/conf/base_config.yaml`. For now, there are only a few things we need to change in the config to incorporate our lensing parameters."
   ]
  },
  {
   "cell_type": "markdown",
   "id": "06c9d1d3",
   "metadata": {},
   "source": [
    "---"
   ]
  },
  {
   "cell_type": "markdown",
   "id": "e8245855",
   "metadata": {},
   "source": [
    "### (2) Changes to the prior"
   ]
  },
  {
   "cell_type": "markdown",
   "id": "cafeaecf",
   "metadata": {},
   "source": [
    "If you look in `lensing_prior.py`, you'll see that I created a new subclass of `CatalogPrior` called `LensingPrior`. This lensing prior is the target of the new lensing config printed above. The number of tiles, tile side length, and batch size are all the same as the base config, but I changed `prob_galaxy` so that we generate all galaxies and no stars.\n",
    "\n",
    "In `LensingPrior`, I overrode the `__init__` method to add hyperparameters for the shear and convergence priors:\n",
    "```\n",
    "def __init__(\n",
    "        self,\n",
    "        *args,\n",
    "        shear_min: float,\n",
    "        shear_max: float,\n",
    "        convergence_a: float,\n",
    "        convergence_b: float,\n",
    "        **kwargs,\n",
    "    ):\n",
    "        super().__init__(*args, **kwargs)\n",
    "        self.shear_min = shear_min\n",
    "        self.shear_max = shear_max\n",
    "        self.convergence_a = convergence_a\n",
    "        self.convergence_b = convergence_b\n",
    "```"
   ]
  },
  {
   "cell_type": "markdown",
   "id": "cf5a8424",
   "metadata": {},
   "source": [
    "As we discussed in the .tex file for the generative model, we're going to assume a `Uniform(shear_min, shear_max)` prior for each component of shear in each tile, and a `Beta(a,b)` prior for the convergence in each tile. In the lensing config, I specified these as `Uniform(0.249, 0.251)` and `Beta(1, 25)` for now.\n",
    "\n",
    "I've also added the following two methods to `LensingPrior`:\n",
    "```\n",
    "def _sample_shear(self):\n",
    "        latent_dims = (self.batch_size, self.n_tiles_h, self.n_tiles_w, self.max_sources, 2)\n",
    "        return Uniform(self.shear_min, self.shear_max).sample(latent_dims)\n",
    "\n",
    "def _sample_convergence(self):\n",
    "    latent_dims = (self.batch_size, self.n_tiles_h, self.n_tiles_w, self.max_sources, 1)\n",
    "    return Beta(self.convergence_a, self.convergence_b).sample(latent_dims)\n",
    "```\n",
    "\n",
    "And I've overridden the `sample` method so it includes `_sample_shear` and `_sample_convergence`.\n",
    "\n",
    "I've also overridden the `_sample_galaxy_prior` method and changed the galaxy angle (`beta_radians`) to be zero. Nothing else is changed inside that method.\n",
    "\n",
    "So for now, we're going to generate galaxies with no angle and a shear of roughly 0.25 in each direction (from the `Uniform(0.249, 0.251)` prior). This will let us verify that we're generating things correctly, because all galaxies in our images should have a very slight horizontal stretch and a very slight diagonal stretch."
   ]
  },
  {
   "cell_type": "markdown",
   "id": "fbf50699",
   "metadata": {},
   "source": [
    "---"
   ]
  },
  {
   "cell_type": "markdown",
   "id": "9f9e27ec",
   "metadata": {},
   "source": [
    "### (3) Changes to the catalog"
   ]
  },
  {
   "cell_type": "markdown",
   "id": "effd4250",
   "metadata": {},
   "source": [
    "In `lensing_catalog.py`, I created a subclass of `TileCatalog` called `LensingCatalog`. It really doesn't look much different from `TileCatalog`. The only important change is that I added shear (as a two-dimensional vector) and convergence to the list of allowed parameters."
   ]
  },
  {
   "cell_type": "markdown",
   "id": "99579849",
   "metadata": {},
   "source": [
    "---"
   ]
  },
  {
   "cell_type": "markdown",
   "id": "34b0d663",
   "metadata": {},
   "source": [
    "### (4) Changes to the decoder"
   ]
  },
  {
   "cell_type": "markdown",
   "id": "11a1ead1",
   "metadata": {},
   "source": [
    "I created a subclass of `ImageDecoder` called `LensingDecoder`. The only thing we need to update is the `render_galaxy` method. We'll take the shear and convergence that we sample from the prior for each tile and plug them into GalSim's `lens` method to alter the shape and brightness of each galaxy in that tile.\n",
    "\n",
    "Here are the new parts of `render_galaxy`:\n",
    "\n",
    "```\n",
    "shear = source_params[\"shear\"]\n",
    "shear1, shear2 = shear\n",
    "convergence = source_params[\"convergence\"]\n",
    "\n",
    "reduced_shear1 = shear1 / (1 - convergence)\n",
    "reduced_shear2 = shear2 / (1 - convergence)\n",
    "magnification = 1 / ((1 - convergence) ** 2 - shear1**2 - shear2**2)\n",
    "\n",
    ".\n",
    ".\n",
    ".\n",
    "\n",
    "lensed_galaxy = galaxy.lens(\n",
    "    g1=reduced_shear1.item(), g2=reduced_shear2.item(), mu=magnification.item()\n",
    ")\n",
    "```"
   ]
  },
  {
   "cell_type": "markdown",
   "id": "95dcb395",
   "metadata": {},
   "source": [
    "---"
   ]
  },
  {
   "cell_type": "markdown",
   "id": "f9f6f57c",
   "metadata": {},
   "source": [
    "### (5) Changes to the simulator"
   ]
  },
  {
   "cell_type": "markdown",
   "id": "a7f383c8",
   "metadata": {},
   "source": [
    "I copied the `SimulatedDataset` class in `bliss/simulator/simulated_dataset.py` into a new class called `LensingSimulatedDataset`. You can find this new class in `lensing_simulated_dataset.py`. It's basically the same as the original class except it refers to the lensing tile catalog and the lensing decoder instead of the non-lensing versions."
   ]
  },
  {
   "cell_type": "markdown",
   "id": "340206ef",
   "metadata": {},
   "source": [
    "---"
   ]
  },
  {
   "cell_type": "markdown",
   "id": "71867f20",
   "metadata": {},
   "source": [
    "### (6) Generating images"
   ]
  },
  {
   "cell_type": "markdown",
   "id": "2e76f453",
   "metadata": {},
   "source": [
    "We can now generate images in basically the same way as `example.ipynb`, except now we're drawing from the lensing prior. This means that galaxies will be rendered with shear and convergence.\n",
    "\n",
    "Let's get a batch of 32 images:"
   ]
  },
  {
   "cell_type": "code",
   "execution_count": 3,
   "id": "04e0f4fd",
   "metadata": {},
   "outputs": [],
   "source": [
    "simulated_dataset = instantiate(cfg.simulator)\n",
    "\n",
    "batch = simulated_dataset.get_batch()"
   ]
  },
  {
   "cell_type": "markdown",
   "id": "23b8184f",
   "metadata": {},
   "source": [
    "We can see that shear and convergence are now in the tile catalogs:"
   ]
  },
  {
   "cell_type": "code",
   "execution_count": 4,
   "id": "2ea7188d",
   "metadata": {},
   "outputs": [
    {
     "data": {
      "text/plain": [
       "dict_keys(['locs', 'n_sources', 'shear', 'convergence', 'source_type', 'galaxy_fluxes', 'galaxy_params', 'star_fluxes'])"
      ]
     },
     "execution_count": 4,
     "metadata": {},
     "output_type": "execute_result"
    }
   ],
   "source": [
    "# Shear and convergence are now in the tile catalog\n",
    "tile_catalogs = batch['tile_catalog']\n",
    "tile_catalogs.keys()"
   ]
  },
  {
   "cell_type": "markdown",
   "id": "d6536119",
   "metadata": {},
   "source": [
    "Here's the r-band of the first image in the batch (80 pixels by 80 pixels), as well as the shear1 map, shear2 map, and convergence map (which are all 20 tiles by 20 tiles):"
   ]
  },
  {
   "cell_type": "code",
   "execution_count": 5,
   "id": "ddcdfbd6",
   "metadata": {},
   "outputs": [
    {
     "data": {
      "image/png": "[encoded data removed]",
      "text/plain": [
       "<Figure size 640x480 with 1 Axes>"
      ]
     },
     "metadata": {},
     "output_type": "display_data"
    },
    {
     "data": {
      "image/png": "[encoded data removed]",
      "text/plain": [
       "<Figure size 640x480 with 3 Axes>"
      ]
     },
     "metadata": {},
     "output_type": "display_data"
    }
   ],
   "source": [
    "# r-band\n",
    "fig, img = plt.subplots(nrows=1, ncols=1)\n",
    "_ = plt.imshow(batch['images'][0][2])\n",
    "\n",
    "# shear1 (horizontal) map\n",
    "fig, (map1, map2, map3) = plt.subplots(nrows=1, ncols=3)\n",
    "_ = map1.imshow(tile_catalogs['shear'][0].squeeze()[:,:,0])\n",
    "_ = map1.set_title('horizontal shear')\n",
    "\n",
    "# shear2 (diagonal) map\n",
    "_ = map2.imshow(tile_catalogs['shear'][0].squeeze()[:,:,1])\n",
    "_ = map2.set_title('diagonal shear')\n",
    "\n",
    "# convergence map\n",
    "_ = map3.imshow(tile_catalogs['convergence'][0].squeeze())\n",
    "_ = map3.set_title('convergence')"
   ]
  }
 ],
 "metadata": {
  "kernelspec": {
   "display_name": "Python 3 (ipykernel)",
   "language": "python",
   "name": "python3"
  },
  "language_info": {
   "codemirror_mode": {
    "name": "ipython",
    "version": 3
   },
   "file_extension": ".py",
   "mimetype": "text/x-python",
   "name": "python",
   "nbconvert_exporter": "python",
   "pygments_lexer": "ipython3",
   "version": "3.10.12"
  }
 },
 "nbformat": 4,
 "nbformat_minor": 5
}

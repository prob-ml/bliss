{
 "cells": [
  {
   "cell_type": "markdown",
   "metadata": {},
   "source": [
    "# Using DC2 and CosmoDC2 to Extract Shear and Convergence #"
   ]
  },
  {
   "cell_type": "code",
   "execution_count": 1,
   "metadata": {},
   "outputs": [],
   "source": [
    "%load_ext autoreload\n",
    "%autoreload 2\n",
    "%matplotlib inline"
   ]
  },
  {
   "cell_type": "markdown",
   "metadata": {},
   "source": [
    "note: commented portions of cells below to illustrate attempted methods that were suboptimal (esp. from dc2-linked tutorials), included for future observation"
   ]
  },
  {
   "cell_type": "code",
   "execution_count": 2,
   "metadata": {},
   "outputs": [],
   "source": [
    "import torch\n",
    "import numpy as np\n",
    "from os import environ\n",
    "from pathlib import Path\n",
    "from einops import rearrange\n",
    "\n",
    "import matplotlib.pyplot as plt\n",
    "import seaborn as sns\n",
    "import pandas as pd\n",
    "\n",
    "from hydra import initialize, compose\n",
    "from hydra.utils import instantiate\n",
    "import healpy as hp"
   ]
  },
  {
   "cell_type": "code",
   "execution_count": 3,
   "metadata": {},
   "outputs": [],
   "source": [
    "with initialize(config_path=\".\", version_base=None):\n",
    "    cfg = compose(\"config\")\n",
    "train_dc2_cfg = cfg.copy()"
   ]
  },
  {
   "cell_type": "markdown",
   "metadata": {},
   "source": [
    "CosmoDC2 is REALLY big so we don't want to load all of its data into memory when accessing attributes. We set filters below that match dc2's piece of the sky since it's a subset of Cosmo's coverage. In the below cell, we load our DC2 catalog with the fields we are interested in and find the relevant sky quadrant, allowing us to build the filters."
   ]
  },
  {
   "cell_type": "code",
   "execution_count": 4,
   "metadata": {},
   "outputs": [
    {
     "name": "stdout",
     "output_type": "stream",
     "text": [
      "dict_keys(['truth_type', 'match_objectId', 'ra', 'cosmodc2_id', 'dec', 'id'])\n"
     ]
    }
   ],
   "source": [
    "import GCRCatalogs\n",
    "from GCRCatalogs import GCRQuery\n",
    "GCRCatalogs.set_root_dir(\"/data/dc2/\")\n",
    "truth_cat = GCRCatalogs.load_catalog('desc_dc2_run2.2i_dr6_truth')\n",
    "truth_data = truth_cat.get_quantities([\"id\", \"cosmodc2_id\", \"match_objectId\", \"ra\", \"dec\", \"truth_type\"])\n",
    "\n",
    "max_ra = np.nanmax(truth_data['ra'])\n",
    "min_ra = np.nanmin(truth_data['ra'])\n",
    "max_dec = np.nanmax(truth_data['dec'])\n",
    "min_dec = np.nanmin(truth_data['dec'])\n",
    "pos_filters = [f'ra >= {min_ra}',f'ra <= {max_ra}', f'dec >= {min_dec}', f'dec <= {max_dec}']\n",
    "\n",
    "vertices = hp.ang2vec(np.array([min_ra, max_ra, max_ra, min_ra]),\n",
    "                      np.array([min_dec, min_dec, max_dec, max_dec]), lonlat=True)\n",
    "ipix = hp.query_polygon(32, vertices, inclusive=True)\n",
    "healpix_filter = GCRQuery((lambda h: np.isin(h, ipix, True), \"healpix_pixel\"))\n",
    "\n",
    "print(truth_data.keys())"
   ]
  },
  {
   "cell_type": "markdown",
   "metadata": {},
   "source": [
    "Next, load in CosmoDC2 and select the quantities we want bounded by the aforementioned filters"
   ]
  },
  {
   "cell_type": "code",
   "execution_count": 5,
   "metadata": {},
   "outputs": [],
   "source": [
    "config_overwrite = dict(\n",
    "    catalog_root_dir='/data/dc2/cosmoDC2'\n",
    ")\n",
    "\n",
    "cosmo_cat = GCRCatalogs.load_catalog('desc_cosmodc2', config_overwrite)"
   ]
  },
  {
   "cell_type": "code",
   "execution_count": 6,
   "metadata": {},
   "outputs": [
    {
     "name": "stdout",
     "output_type": "stream",
     "text": [
      "dict_keys(['shear_2', 'ra', 'galaxy_id', 'dec', 'convergence', 'shear_1'])\n"
     ]
    }
   ],
   "source": [
    "cosmo_data = cosmo_cat.get_quantities(quantities = [\"galaxy_id\", \"ra\", \"dec\", \"shear_1\", \"shear_2\", \"convergence\"], filters=pos_filters, native_filters=healpix_filter)\n",
    "print(cosmo_data.keys())"
   ]
  },
  {
   "cell_type": "markdown",
   "metadata": {},
   "source": [
    "#### Matching Attempt 1: Using example code from ####\n",
    "https://github.com/LSSTDESC/DC2-analysis/blob/253625a230d545f4ceb529aae58416ef7a768648/tutorials/matching_fof.ipynb\n",
    "\n",
    "Note: Do not actually run the commented cells below, takes forever and does not converge."
   ]
  },
  {
   "cell_type": "code",
   "execution_count": 7,
   "metadata": {},
   "outputs": [],
   "source": [
    "# cosmo = pd.DataFrame(cosmo_data)\n",
    "# tru = pd.DataFrame(truth_data)\n",
    "# import FoFCatalogMatching\n",
    "# results = FoFCatalogMatching.match(\n",
    "#     catalog_dict={'truth': tru, 'object': cosmo}, \n",
    "#     linking_lengths=1.0,\n",
    "# )"
   ]
  },
  {
   "cell_type": "code",
   "execution_count": 8,
   "metadata": {},
   "outputs": [],
   "source": [
    "# truth_mask = results['catalog_key'] == 'truth'\n",
    "# object_mask = ~truth_mask\n",
    "\n",
    "# # then np.bincount will give up the number of id occurrences (like historgram but with integer input)\n",
    "# n_groups = results['group_id'].max() + 1\n",
    "# n_truth = np.bincount(results['group_id'][truth_mask], minlength=n_groups)\n",
    "# print(n_truth[n_truth>10])\n",
    "# n_object = np.bincount(results['group_id'][object_mask], minlength=n_groups)\n",
    "\n",
    "# # now n_truth and n_object are the number of truth/object objects in each group\n",
    "# # we want to make a 2d histrogram of (n_truth, n_object). \n",
    "# n_max = max(n_truth.max(), n_object.max()) + 1\n",
    "# hist_2d = np.bincount(n_object * n_max + n_truth, minlength=n_max*n_max).reshape(n_max, n_max)\n",
    "\n",
    "# plt.imshow(np.log10(hist_2d+1), extent=(-0.5, n_max-0.5, -0.5, n_max-0.5), origin='lower');\n",
    "# plt.xlabel('Number of truth objects');\n",
    "# plt.ylabel('Number of object objects');\n",
    "# plt.colorbar(label=r'$\\log(N_{\\rm groups} \\, + \\, 1)$');"
   ]
  },
  {
   "cell_type": "code",
   "execution_count": 9,
   "metadata": {},
   "outputs": [],
   "source": [
    "# # Let's further inspect the objects in the groups that have 1-to-1 truth/object match.\n",
    "\n",
    "# # first, let's find our the IDs of the groups that have 1-to-1 truth/object match:\n",
    "# one_to_one_group_mask = np.in1d(results['group_id'], np.flatnonzero((n_truth == 1) & (n_object == 1)))\n",
    "\n",
    "# # and then we can find the row indices in the *original* truth/object catalogs for those 1-to-1 groups\n",
    "# truth_idx = results['row_index'][one_to_one_group_mask & truth_mask]\n",
    "# object_idx = results['row_index'][one_to_one_group_mask & object_mask]"
   ]
  },
  {
   "cell_type": "code",
   "execution_count": 10,
   "metadata": {},
   "outputs": [],
   "source": [
    "# with open(\"friends.pkl\", \"wb\") as f:\n",
    "#     pickle.dump(results, f)\n",
    "# print(\"saved friends\")"
   ]
  },
  {
   "cell_type": "markdown",
   "metadata": {},
   "source": [
    "#### Now, since that approach didn't work, let's try something that was attempted by @Xinyue: ####\n",
    "https://github.com/prob-ml/bliss/blob/master/case_studies/dc2/DC2_galaxy_psf_params.ipynb\n",
    "\n",
    "merging on galaxy_id and cosmodc2_id\n"
   ]
  },
  {
   "cell_type": "code",
   "execution_count": 11,
   "metadata": {},
   "outputs": [],
   "source": [
    "import pandas as pd\n",
    "df_data = pd.DataFrame(truth_data)\n",
    "df_galaxy = pd.DataFrame(cosmo_data)\n",
    "\n",
    "merge_data = df_data.merge(\n",
    "    df_galaxy, \n",
    "    left_on = \"cosmodc2_id\", \n",
    "    right_on = \"galaxy_id\", \n",
    "    how = \"inner\" \n",
    ")\n",
    "merge_data_fill = merge_data.dropna()"
   ]
  },
  {
   "cell_type": "code",
   "execution_count": 12,
   "metadata": {},
   "outputs": [],
   "source": [
    "merge_data.to_csv('/data/scratch/shreyasc/combined_idmatch_truth.csv')"
   ]
  },
  {
   "cell_type": "code",
   "execution_count": 13,
   "metadata": {},
   "outputs": [
    {
     "data": {
      "text/plain": [
       "(43408507, 12)"
      ]
     },
     "execution_count": 13,
     "metadata": {},
     "output_type": "execute_result"
    }
   ],
   "source": [
    "merge_data.shape"
   ]
  },
  {
   "cell_type": "markdown",
   "metadata": {},
   "source": [
    "#### Now, since we actually just care about shear and convergence at locations defined by {ra, dec}, let's try explicitly merging on those ####"
   ]
  },
  {
   "cell_type": "code",
   "execution_count": 14,
   "metadata": {},
   "outputs": [],
   "source": [
    "ra_dec_explicit_merge = pd.merge(df_data, df_galaxy, on=[\"ra\", \"dec\"], how='inner')"
   ]
  },
  {
   "cell_type": "code",
   "execution_count": null,
   "metadata": {},
   "outputs": [],
   "source": [
    "ra_dec_explicit_merge.to_csv('/data/scratch/shreyasc/combined_ra_dec_merge_truth.csv')"
   ]
  },
  {
   "cell_type": "code",
   "execution_count": null,
   "metadata": {},
   "outputs": [
    {
     "data": {
      "text/plain": [
       "(43408508, 10)"
      ]
     },
     "execution_count": 15,
     "metadata": {},
     "output_type": "execute_result"
    }
   ],
   "source": [
    "ra_dec_explicit_merge.shape"
   ]
  },
  {
   "cell_type": "code",
   "execution_count": null,
   "metadata": {},
   "outputs": [
    {
     "data": {
      "text/html": [
       "<div>\n",
       "<style scoped>\n",
       "    .dataframe tbody tr th:only-of-type {\n",
       "        vertical-align: middle;\n",
       "    }\n",
       "\n",
       "    .dataframe tbody tr th {\n",
       "        vertical-align: top;\n",
       "    }\n",
       "\n",
       "    .dataframe thead th {\n",
       "        text-align: right;\n",
       "    }\n",
       "</style>\n",
       "<table border=\"1\" class=\"dataframe\">\n",
       "  <thead>\n",
       "    <tr style=\"text-align: right;\">\n",
       "      <th></th>\n",
       "      <th>id</th>\n",
       "      <th>ra_x</th>\n",
       "      <th>truth_type</th>\n",
       "      <th>dec_x</th>\n",
       "      <th>match_objectId</th>\n",
       "      <th>cosmodc2_id</th>\n",
       "      <th>ra_y</th>\n",
       "      <th>convergence</th>\n",
       "      <th>shear_1</th>\n",
       "      <th>shear_2</th>\n",
       "      <th>dec_y</th>\n",
       "      <th>galaxy_id</th>\n",
       "    </tr>\n",
       "  </thead>\n",
       "  <tbody>\n",
       "    <tr>\n",
       "      <th>0</th>\n",
       "      <td>8757401501</td>\n",
       "      <td>56.851958</td>\n",
       "      <td>1</td>\n",
       "      <td>-38.677521</td>\n",
       "      <td>15982501021353368</td>\n",
       "      <td>8757401501</td>\n",
       "      <td>56.851958</td>\n",
       "      <td>-0.022032</td>\n",
       "      <td>-0.022370</td>\n",
       "      <td>0.041324</td>\n",
       "      <td>-38.677521</td>\n",
       "      <td>8.757402e+09</td>\n",
       "    </tr>\n",
       "    <tr>\n",
       "      <th>1</th>\n",
       "      <td>8750694182</td>\n",
       "      <td>56.799616</td>\n",
       "      <td>1</td>\n",
       "      <td>-38.677104</td>\n",
       "      <td>15982501021353393</td>\n",
       "      <td>8750694182</td>\n",
       "      <td>56.799616</td>\n",
       "      <td>0.004835</td>\n",
       "      <td>-0.000660</td>\n",
       "      <td>-0.000362</td>\n",
       "      <td>-38.677104</td>\n",
       "      <td>8.750694e+09</td>\n",
       "    </tr>\n",
       "    <tr>\n",
       "      <th>2</th>\n",
       "      <td>8752812073</td>\n",
       "      <td>56.883238</td>\n",
       "      <td>1</td>\n",
       "      <td>-38.676882</td>\n",
       "      <td>15982501021353397</td>\n",
       "      <td>8752812073</td>\n",
       "      <td>56.883238</td>\n",
       "      <td>-0.006825</td>\n",
       "      <td>-0.009312</td>\n",
       "      <td>0.014221</td>\n",
       "      <td>-38.676882</td>\n",
       "      <td>8.752812e+09</td>\n",
       "    </tr>\n",
       "    <tr>\n",
       "      <th>3</th>\n",
       "      <td>8750045581</td>\n",
       "      <td>56.858170</td>\n",
       "      <td>1</td>\n",
       "      <td>-38.676674</td>\n",
       "      <td>15982501021353414</td>\n",
       "      <td>8750045581</td>\n",
       "      <td>56.858170</td>\n",
       "      <td>-0.000179</td>\n",
       "      <td>-0.001958</td>\n",
       "      <td>0.000761</td>\n",
       "      <td>-38.676674</td>\n",
       "      <td>8.750046e+09</td>\n",
       "    </tr>\n",
       "    <tr>\n",
       "      <th>4</th>\n",
       "      <td>8751841300</td>\n",
       "      <td>56.889715</td>\n",
       "      <td>1</td>\n",
       "      <td>-38.676423</td>\n",
       "      <td>15982501021353419</td>\n",
       "      <td>8751841300</td>\n",
       "      <td>56.889715</td>\n",
       "      <td>-0.004813</td>\n",
       "      <td>-0.008540</td>\n",
       "      <td>0.007185</td>\n",
       "      <td>-38.676423</td>\n",
       "      <td>8.751841e+09</td>\n",
       "    </tr>\n",
       "  </tbody>\n",
       "</table>\n",
       "</div>"
      ],
      "text/plain": [
       "           id       ra_x  truth_type      dec_x     match_objectId  \\\n",
       "0  8757401501  56.851958           1 -38.677521  15982501021353368   \n",
       "1  8750694182  56.799616           1 -38.677104  15982501021353393   \n",
       "2  8752812073  56.883238           1 -38.676882  15982501021353397   \n",
       "3  8750045581  56.858170           1 -38.676674  15982501021353414   \n",
       "4  8751841300  56.889715           1 -38.676423  15982501021353419   \n",
       "\n",
       "   cosmodc2_id       ra_y  convergence   shear_1   shear_2      dec_y  \\\n",
       "0   8757401501  56.851958    -0.022032 -0.022370  0.041324 -38.677521   \n",
       "1   8750694182  56.799616     0.004835 -0.000660 -0.000362 -38.677104   \n",
       "2   8752812073  56.883238    -0.006825 -0.009312  0.014221 -38.676882   \n",
       "3   8750045581  56.858170    -0.000179 -0.001958  0.000761 -38.676674   \n",
       "4   8751841300  56.889715    -0.004813 -0.008540  0.007185 -38.676423   \n",
       "\n",
       "      galaxy_id  \n",
       "0  8.757402e+09  \n",
       "1  8.750694e+09  \n",
       "2  8.752812e+09  \n",
       "3  8.750046e+09  \n",
       "4  8.751841e+09  "
      ]
     },
     "execution_count": 16,
     "metadata": {},
     "output_type": "execute_result"
    }
   ],
   "source": [
    "merge_data.head()"
   ]
  },
  {
   "cell_type": "code",
   "execution_count": null,
   "metadata": {},
   "outputs": [
    {
     "data": {
      "text/html": [
       "<div>\n",
       "<style scoped>\n",
       "    .dataframe tbody tr th:only-of-type {\n",
       "        vertical-align: middle;\n",
       "    }\n",
       "\n",
       "    .dataframe tbody tr th {\n",
       "        vertical-align: top;\n",
       "    }\n",
       "\n",
       "    .dataframe thead th {\n",
       "        text-align: right;\n",
       "    }\n",
       "</style>\n",
       "<table border=\"1\" class=\"dataframe\">\n",
       "  <thead>\n",
       "    <tr style=\"text-align: right;\">\n",
       "      <th></th>\n",
       "      <th>id</th>\n",
       "      <th>ra</th>\n",
       "      <th>truth_type</th>\n",
       "      <th>dec</th>\n",
       "      <th>match_objectId</th>\n",
       "      <th>cosmodc2_id</th>\n",
       "      <th>convergence</th>\n",
       "      <th>shear_1</th>\n",
       "      <th>shear_2</th>\n",
       "      <th>galaxy_id</th>\n",
       "    </tr>\n",
       "  </thead>\n",
       "  <tbody>\n",
       "    <tr>\n",
       "      <th>0</th>\n",
       "      <td>8757401501</td>\n",
       "      <td>56.851958</td>\n",
       "      <td>1</td>\n",
       "      <td>-38.677521</td>\n",
       "      <td>15982501021353368</td>\n",
       "      <td>8757401501</td>\n",
       "      <td>-0.022032</td>\n",
       "      <td>-0.022370</td>\n",
       "      <td>0.041324</td>\n",
       "      <td>8757401501</td>\n",
       "    </tr>\n",
       "    <tr>\n",
       "      <th>1</th>\n",
       "      <td>8750694182</td>\n",
       "      <td>56.799616</td>\n",
       "      <td>1</td>\n",
       "      <td>-38.677104</td>\n",
       "      <td>15982501021353393</td>\n",
       "      <td>8750694182</td>\n",
       "      <td>0.004835</td>\n",
       "      <td>-0.000660</td>\n",
       "      <td>-0.000362</td>\n",
       "      <td>8750694182</td>\n",
       "    </tr>\n",
       "    <tr>\n",
       "      <th>2</th>\n",
       "      <td>8752812073</td>\n",
       "      <td>56.883238</td>\n",
       "      <td>1</td>\n",
       "      <td>-38.676882</td>\n",
       "      <td>15982501021353397</td>\n",
       "      <td>8752812073</td>\n",
       "      <td>-0.006825</td>\n",
       "      <td>-0.009312</td>\n",
       "      <td>0.014221</td>\n",
       "      <td>8752812073</td>\n",
       "    </tr>\n",
       "    <tr>\n",
       "      <th>3</th>\n",
       "      <td>8750045581</td>\n",
       "      <td>56.858170</td>\n",
       "      <td>1</td>\n",
       "      <td>-38.676674</td>\n",
       "      <td>15982501021353414</td>\n",
       "      <td>8750045581</td>\n",
       "      <td>-0.000179</td>\n",
       "      <td>-0.001958</td>\n",
       "      <td>0.000761</td>\n",
       "      <td>8750045581</td>\n",
       "    </tr>\n",
       "    <tr>\n",
       "      <th>4</th>\n",
       "      <td>8751841300</td>\n",
       "      <td>56.889715</td>\n",
       "      <td>1</td>\n",
       "      <td>-38.676423</td>\n",
       "      <td>15982501021353419</td>\n",
       "      <td>8751841300</td>\n",
       "      <td>-0.004813</td>\n",
       "      <td>-0.008540</td>\n",
       "      <td>0.007185</td>\n",
       "      <td>8751841300</td>\n",
       "    </tr>\n",
       "  </tbody>\n",
       "</table>\n",
       "</div>"
      ],
      "text/plain": [
       "           id         ra  truth_type        dec     match_objectId  \\\n",
       "0  8757401501  56.851958           1 -38.677521  15982501021353368   \n",
       "1  8750694182  56.799616           1 -38.677104  15982501021353393   \n",
       "2  8752812073  56.883238           1 -38.676882  15982501021353397   \n",
       "3  8750045581  56.858170           1 -38.676674  15982501021353414   \n",
       "4  8751841300  56.889715           1 -38.676423  15982501021353419   \n",
       "\n",
       "   cosmodc2_id  convergence   shear_1   shear_2   galaxy_id  \n",
       "0   8757401501    -0.022032 -0.022370  0.041324  8757401501  \n",
       "1   8750694182     0.004835 -0.000660 -0.000362  8750694182  \n",
       "2   8752812073    -0.006825 -0.009312  0.014221  8752812073  \n",
       "3   8750045581    -0.000179 -0.001958  0.000761  8750045581  \n",
       "4   8751841300    -0.004813 -0.008540  0.007185  8751841300  "
      ]
     },
     "execution_count": 17,
     "metadata": {},
     "output_type": "execute_result"
    }
   ],
   "source": [
    "ra_dec_explicit_merge.head()"
   ]
  },
  {
   "cell_type": "markdown",
   "metadata": {},
   "source": [
    "#### Sanity Check of the ra / dec from the initial merge ####"
   ]
  },
  {
   "cell_type": "code",
   "execution_count": null,
   "metadata": {},
   "outputs": [
    {
     "data": {
      "text/plain": [
       "0.0"
      ]
     },
     "execution_count": 25,
     "metadata": {},
     "output_type": "execute_result"
    }
   ],
   "source": [
    "(merge_data[\"ra_x\"] - merge_data[\"ra_y\"]).mean()"
   ]
  },
  {
   "cell_type": "code",
   "execution_count": null,
   "metadata": {},
   "outputs": [
    {
     "data": {
      "text/plain": [
       "0.0"
      ]
     },
     "execution_count": 26,
     "metadata": {},
     "output_type": "execute_result"
    }
   ],
   "source": [
    "(merge_data[\"dec_x\"] - merge_data[\"dec_y\"]).mean()"
   ]
  },
  {
   "cell_type": "markdown",
   "metadata": {},
   "source": [
    "Note via @declan: redshift in cosmoDC2 and DC2 truth table were significantly different for common id's. Could be a possible bug in the id-matching."
   ]
  }
 ],
 "metadata": {
  "kernelspec": {
   "display_name": ".venv",
   "language": "python",
   "name": "python3"
  },
  "language_info": {
   "codemirror_mode": {
    "name": "ipython",
    "version": 3
   },
   "file_extension": ".py",
   "mimetype": "text/x-python",
   "name": "python",
   "nbconvert_exporter": "python",
   "pygments_lexer": "ipython3",
   "version": "3.10.12"
  }
 },
 "nbformat": 4,
 "nbformat_minor": 2
}

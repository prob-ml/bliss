{
 "cells": [
  {
   "cell_type": "markdown",
   "id": "07fd2dff",
   "metadata": {},
   "source": [
    "### Libraries and paths"
   ]
  },
  {
   "cell_type": "code",
   "execution_count": null,
   "id": "bfe73319",
   "metadata": {},
   "outputs": [],
   "source": [
    "from os import environ\n",
    "environ[\"CUDA_VISIBLE_DEVICES\"] = \"2\"\n",
    "\n",
    "from pathlib import Path\n",
    "from hydra import initialize, compose\n",
    "from hydra.utils import instantiate\n",
    "from bliss.main import predict\n",
    "import torch\n",
    "import matplotlib.pyplot as plt\n",
    "import numpy as np\n",
    "\n",
    "with initialize(config_path=\"../\", version_base=None):\n",
    "    cfg = compose(\"lensing_config\", {\n",
    "        \"train.trainer.logger=null\",\n",
    "        \"train.trainer.max_epochs=0\",\n",
    "        \"train.pretrained_weights=/home/twhit/bliss/output/version_18/checkpoints/best_encoder.ckpt\",\n",
    "        \"+train.trainer.num_sanity_val_steps=0\",\n",
    "        \"cached_simulator.cached_data_path=/data/scratch/twhit/weak_lensing_48x16x16_toy\"\n",
    "        })"
   ]
  },
  {
   "cell_type": "markdown",
   "id": "207b52a3",
   "metadata": {},
   "source": [
    "### Get test metrics"
   ]
  },
  {
   "cell_type": "code",
   "execution_count": null,
   "id": "dcf81e77",
   "metadata": {},
   "outputs": [],
   "source": [
    "from bliss.main import train\n",
    "\n",
    "train(cfg.train)"
   ]
  },
  {
   "cell_type": "markdown",
   "id": "24601d2f",
   "metadata": {},
   "source": [
    "### Plots for individual validation images"
   ]
  },
  {
   "cell_type": "code",
   "execution_count": null,
   "id": "dcf81e77",
   "metadata": {},
   "outputs": [],
   "source": [
    "dataset = instantiate(cfg.train.data_source)\n",
    "test_dataloader = dataset.test_dataloader()\n",
    "test = next(iter(test_dataloader))"
   ]
  },
  {
   "cell_type": "code",
   "execution_count": null,
   "id": "8af378c9",
   "metadata": {},
   "outputs": [],
   "source": [
    "encoder = instantiate(cfg.train.encoder)"
   ]
  },
  {
   "cell_type": "code",
   "execution_count": null,
   "id": "1c90f6d3",
   "metadata": {},
   "outputs": [],
   "source": [
    "est_cat = encoder.sample(test, use_mode=True)\n",
    "est_cat = est_cat\n",
    "est_cat['convergence'] = est_cat['convergence'].detach()\n",
    "est_cat['shear'] = est_cat['shear'].detach()\n",
    "est_cat['locs'] = est_cat['locs'].detach()\n",
    "est_cat['n_sources'] = est_cat['n_sources'].detach()"
   ]
  }
 ],
 "metadata": {
  "kernelspec": {
   "display_name": "Python 3 (ipykernel)",
   "language": "python",
   "name": "python3"
  },
  "language_info": {
   "codemirror_mode": {
    "name": "ipython",
    "version": 3
   },
   "file_extension": ".py",
   "mimetype": "text/x-python",
   "name": "python",
   "nbconvert_exporter": "python",
   "pygments_lexer": "ipython3",
   "version": "3.10.12"
  }
 },
 "nbformat": 4,
 "nbformat_minor": 5
}

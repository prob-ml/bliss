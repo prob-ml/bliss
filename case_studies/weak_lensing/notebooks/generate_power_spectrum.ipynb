{
 "cells": [
  {
   "cell_type": "code",
   "execution_count": 1,
   "metadata": {},
   "outputs": [],
   "source": [
    "import galsim\n",
    "import numpy as np\n",
    "import matplotlib.pyplot as plt\n",
    "from torch.distributions import Uniform, Beta, Normal\n",
    "import pyccl\n",
    "import torch"
   ]
  },
  {
   "cell_type": "code",
   "execution_count": 2,
   "metadata": {},
   "outputs": [
    {
     "name": "stdout",
     "output_type": "stream",
     "text": [
      "0.8161540031433105\n"
     ]
    }
   ],
   "source": [
    "dist = Normal(torch.tensor([0.8159]), torch.tensor([0.001]))\n",
    "sigma_8 = dist.sample().item()\n",
    "print(sigma_8)"
   ]
  },
  {
   "cell_type": "code",
   "execution_count": 3,
   "metadata": {},
   "outputs": [],
   "source": [
    "# cosmology = pyccl.cosmology.Cosmology(sigma8=sigma_8,\n",
    "#                                       Omega_c=0.25,\n",
    "#                                       Omega_b=0.0486,\n",
    "#                                       h=67.7, # order of magnitude is wrong\n",
    "#                                       n_s=1,\n",
    "# )\n",
    "cosmology = pyccl.cosmology.CosmologyVanillaLCDM()"
   ]
  },
  {
   "cell_type": "code",
   "execution_count": 4,
   "metadata": {},
   "outputs": [],
   "source": [
    "cosmology.compute_linear_power()\n",
    "power_spectrum = cosmology.get_linear_power()"
   ]
  },
  {
   "cell_type": "code",
   "execution_count": 5,
   "metadata": {},
   "outputs": [
    {
     "name": "stdout",
     "output_type": "stream",
     "text": [
      "(193, 1)\n",
      "(193, 1) (193, 1)\n",
      "(193, 2)\n"
     ]
    }
   ],
   "source": [
    "# power_spectrum.get_spline_arrays[2] returns P(k, a), but we want k for a fixed a\n",
    "\n",
    "power_spectrum_vals_pk = power_spectrum.get_spline_arrays()[2][0]\n",
    "power_spectrum_vals_k = power_spectrum.get_spline_arrays()[1]\n",
    "\n",
    "power_spectrum_vals_pk = np.array([power_spectrum_vals_pk]).T\n",
    "power_spectrum_vals_k = np.array([power_spectrum_vals_k]).T\n",
    "print(power_spectrum_vals_pk.shape)\n",
    "\n",
    "with open('./sample_ps_vals.txt', 'w') as f:\n",
    "    print(power_spectrum_vals_k.shape, power_spectrum_vals_pk.shape)\n",
    "    x = np.hstack((power_spectrum_vals_k, power_spectrum_vals_pk))\n",
    "    print(x.shape)\n",
    "    np.savetxt(f, x)"
   ]
  },
  {
   "cell_type": "code",
   "execution_count": 11,
   "metadata": {},
   "outputs": [],
   "source": [
    "lookup = galsim.LookupTable(x=power_spectrum_vals_k, f=power_spectrum_vals_pk, x_log=False, f_log=False)"
   ]
  },
  {
   "cell_type": "code",
   "execution_count": 12,
   "metadata": {},
   "outputs": [],
   "source": [
    "galsim_ps = galsim.PowerSpectrum(lookup, units=galsim.radians)"
   ]
  },
  {
   "cell_type": "code",
   "execution_count": 14,
   "metadata": {},
   "outputs": [
    {
     "ename": "GalSimRangeError",
     "evalue": "x value(s) above the range of the LookupTable. Value [[ 36.          36.          72.         108.         144.\n  180.         216.         252.         288.         324.\n  360.        ]\n [ 36.          50.91168825  80.49844719 113.84199577 148.43180252\n  183.56470249 218.97945109 254.55844123 290.24127894 325.99386497\n  361.79552236]\n [ 72.          80.49844719 101.82337649 129.79984592 160.99689438\n  193.86593306 227.68399153 262.08395601 296.86360504 331.90360046\n  367.12940498]\n [108.         113.84199577 129.79984592 152.73506474 180.\n  209.91426821 241.49534157 274.16783181 307.58413483 341.5259873\n  375.85103432]\n [144.         148.43180252 160.99689438 180.         203.64675298\n  230.51247255 259.59969183 290.24127894 321.99378876 354.55888086\n  387.73186611]\n [180.         183.56470249 193.86593306 209.91426821 230.51247255\n  254.55844123 281.16898833 309.68370961 339.62332075 370.64268508\n  402.49223595]\n [216.         218.97945109 227.68399153 241.49534157 259.59969183\n  281.16898833 305.47012947 331.90360046 360.         389.39953775\n  419.82853643]\n [252.         254.55844123 262.08395601 274.16783181 290.24127894\n  309.68370961 331.90360046 356.38181772 382.68524926 410.46315304\n  439.43600217]\n [288.         290.24127894 296.86360504 307.58413483 321.99378876\n  339.62332075 360.         382.68524926 407.29350596 433.49740484\n  461.0249451 ]\n [324.         325.99386497 331.90360046 341.5259873  354.55888086\n  370.64268508 389.39953775 410.46315304 433.49740484 458.20519421\n  484.33046569]\n [360.         361.79552236 367.12940498 375.85103432 387.73186611\n  402.49223595 419.82853643 439.43600217 461.0249451  484.33046569\n  509.11688245]] not in range [[-9.90348758], [2.35137523]]",
     "output_type": "error",
     "traceback": [
      "\u001b[0;31m---------------------------------------------------------------------------\u001b[0m",
      "\u001b[0;31mRuntimeError\u001b[0m                              Traceback (most recent call last)",
      "File \u001b[0;32m~/env/lib/python3.10/site-packages/galsim/table.py:231\u001b[0m, in \u001b[0;36mLookupTable.__call__\u001b[0;34m(self, x)\u001b[0m\n\u001b[1;32m    230\u001b[0m _f \u001b[38;5;241m=\u001b[39m f\u001b[38;5;241m.\u001b[39m__array_interface__[\u001b[38;5;124m'\u001b[39m\u001b[38;5;124mdata\u001b[39m\u001b[38;5;124m'\u001b[39m][\u001b[38;5;241m0\u001b[39m]\n\u001b[0;32m--> 231\u001b[0m \u001b[38;5;28;43mself\u001b[39;49m\u001b[38;5;241;43m.\u001b[39;49m\u001b[43m_tab\u001b[49m\u001b[38;5;241;43m.\u001b[39;49m\u001b[43minterpMany\u001b[49m\u001b[43m(\u001b[49m\u001b[43m_xx\u001b[49m\u001b[43m,\u001b[49m\u001b[43m \u001b[49m\u001b[43m_f\u001b[49m\u001b[43m,\u001b[49m\u001b[43m \u001b[49m\u001b[38;5;28;43mlen\u001b[39;49m\u001b[43m(\u001b[49m\u001b[43mxx\u001b[49m\u001b[43m)\u001b[49m\u001b[43m)\u001b[49m\n\u001b[1;32m    232\u001b[0m f \u001b[38;5;241m=\u001b[39m f\u001b[38;5;241m.\u001b[39mreshape(x\u001b[38;5;241m.\u001b[39mshape)\n",
      "\u001b[0;31mRuntimeError\u001b[0m: invalid argument to Table.interp",
      "\nDuring handling of the above exception, another exception occurred:\n",
      "\u001b[0;31mGalSimRangeError\u001b[0m                          Traceback (most recent call last)",
      "Cell \u001b[0;32mIn[14], line 5\u001b[0m\n\u001b[1;32m      2\u001b[0m ngrid \u001b[38;5;241m=\u001b[39m \u001b[38;5;241m20\u001b[39m      \u001b[38;5;66;03m# Define the number of grid points in each dimension: (ngrid x ngrid)\u001b[39;00m\n\u001b[1;32m      3\u001b[0m n_ell \u001b[38;5;241m=\u001b[39m \u001b[38;5;241m15\u001b[39m  \n\u001b[0;32m----> 5\u001b[0m g1, g2, kappa \u001b[38;5;241m=\u001b[39m \u001b[43mgalsim_ps\u001b[49m\u001b[38;5;241;43m.\u001b[39;49m\u001b[43mbuildGrid\u001b[49m\u001b[43m(\u001b[49m\u001b[43mgrid_spacing\u001b[49m\u001b[38;5;241;43m=\u001b[39;49m\u001b[43mgrid_size\u001b[49m\u001b[38;5;241;43m/\u001b[39;49m\u001b[43mngrid\u001b[49m\u001b[43m,\u001b[49m\u001b[43m \u001b[49m\u001b[43mngrid\u001b[49m\u001b[38;5;241;43m=\u001b[39;49m\u001b[43mngrid\u001b[49m\u001b[43m,\u001b[49m\u001b[43m \u001b[49m\u001b[43munits\u001b[49m\u001b[38;5;241;43m=\u001b[39;49m\u001b[43mgalsim\u001b[49m\u001b[38;5;241;43m.\u001b[39;49m\u001b[43mdegrees\u001b[49m\u001b[43m,\u001b[49m\u001b[43m \u001b[49m\u001b[43mget_convergence\u001b[49m\u001b[38;5;241;43m=\u001b[39;49m\u001b[38;5;28;43;01mTrue\u001b[39;49;00m\u001b[43m)\u001b[49m\n\u001b[1;32m      7\u001b[0m fig, (one, two) \u001b[38;5;241m=\u001b[39m plt\u001b[38;5;241m.\u001b[39msubplots(nrows\u001b[38;5;241m=\u001b[39m\u001b[38;5;241m1\u001b[39m,ncols\u001b[38;5;241m=\u001b[39m\u001b[38;5;241m2\u001b[39m)\n\u001b[1;32m      8\u001b[0m _ \u001b[38;5;241m=\u001b[39m one\u001b[38;5;241m.\u001b[39mimshow(g1)\n",
      "File \u001b[0;32m~/env/lib/python3.10/site-packages/galsim/lensing_ps.py:548\u001b[0m, in \u001b[0;36mPowerSpectrum.buildGrid\u001b[0;34m(self, grid_spacing, ngrid, rng, interpolant, center, units, get_convergence, kmax_factor, kmin_factor, bandlimit, variance)\u001b[0m\n\u001b[1;32m    546\u001b[0m \u001b[38;5;28mself\u001b[39m\u001b[38;5;241m.\u001b[39mngrid_tot \u001b[38;5;241m=\u001b[39m ngrid \u001b[38;5;241m*\u001b[39m kmin_factor \u001b[38;5;241m*\u001b[39m kmax_factor\n\u001b[1;32m    547\u001b[0m \u001b[38;5;28mself\u001b[39m\u001b[38;5;241m.\u001b[39mpixel_size \u001b[38;5;241m=\u001b[39m grid_spacing\u001b[38;5;241m/\u001b[39mkmax_factor\n\u001b[0;32m--> 548\u001b[0m psr \u001b[38;5;241m=\u001b[39m \u001b[43mPowerSpectrumRealizer\u001b[49m\u001b[43m(\u001b[49m\u001b[38;5;28;43mself\u001b[39;49m\u001b[38;5;241;43m.\u001b[39;49m\u001b[43mngrid_tot\u001b[49m\u001b[43m,\u001b[49m\u001b[43m \u001b[49m\u001b[38;5;28;43mself\u001b[39;49m\u001b[38;5;241;43m.\u001b[39;49m\u001b[43mpixel_size\u001b[49m\u001b[43m,\u001b[49m\u001b[43m \u001b[49m\u001b[43mp_E\u001b[49m\u001b[43m,\u001b[49m\u001b[43m \u001b[49m\u001b[43mp_B\u001b[49m\u001b[43m)\u001b[49m\n\u001b[1;32m    549\u001b[0m \u001b[38;5;28mself\u001b[39m\u001b[38;5;241m.\u001b[39mgrid_g1, \u001b[38;5;28mself\u001b[39m\u001b[38;5;241m.\u001b[39mgrid_g2, \u001b[38;5;28mself\u001b[39m\u001b[38;5;241m.\u001b[39mgrid_kappa \u001b[38;5;241m=\u001b[39m psr(gd, variance)\n\u001b[1;32m    550\u001b[0m \u001b[38;5;28;01mif\u001b[39;00m kmin_factor \u001b[38;5;241m!=\u001b[39m \u001b[38;5;241m1\u001b[39m \u001b[38;5;129;01mor\u001b[39;00m kmax_factor \u001b[38;5;241m!=\u001b[39m \u001b[38;5;241m1\u001b[39m:\n\u001b[1;32m    551\u001b[0m     \u001b[38;5;66;03m# Need to make sure the rows are contiguous so we can use it in the constructor\u001b[39;00m\n\u001b[1;32m    552\u001b[0m     \u001b[38;5;66;03m# of the ImageD objects below.  This requires a copy.\u001b[39;00m\n",
      "File \u001b[0;32m~/env/lib/python3.10/site-packages/galsim/lensing_ps.py:1131\u001b[0m, in \u001b[0;36mPowerSpectrumRealizer.__init__\u001b[0;34m(self, ngrid, pixel_size, p_E, p_B)\u001b[0m\n\u001b[1;32m   1128\u001b[0m \u001b[38;5;28;01mdef\u001b[39;00m \u001b[38;5;21m__init__\u001b[39m(\u001b[38;5;28mself\u001b[39m, ngrid, pixel_size, p_E, p_B):\n\u001b[1;32m   1129\u001b[0m     \u001b[38;5;66;03m# Set up the k grids in x and y, and the instance variables\u001b[39;00m\n\u001b[1;32m   1130\u001b[0m     \u001b[38;5;28mself\u001b[39m\u001b[38;5;241m.\u001b[39mset_size(ngrid, pixel_size)\n\u001b[0;32m-> 1131\u001b[0m     \u001b[38;5;28;43mself\u001b[39;49m\u001b[38;5;241;43m.\u001b[39;49m\u001b[43mset_power\u001b[49m\u001b[43m(\u001b[49m\u001b[43mp_E\u001b[49m\u001b[43m,\u001b[49m\u001b[43m \u001b[49m\u001b[43mp_B\u001b[49m\u001b[43m)\u001b[49m\n",
      "File \u001b[0;32m~/env/lib/python3.10/site-packages/galsim/lensing_ps.py:1172\u001b[0m, in \u001b[0;36mPowerSpectrumRealizer.set_power\u001b[0;34m(self, p_E, p_B)\u001b[0m\n\u001b[1;32m   1170\u001b[0m \u001b[38;5;28mself\u001b[39m\u001b[38;5;241m.\u001b[39mp_B \u001b[38;5;241m=\u001b[39m p_B\n\u001b[1;32m   1171\u001b[0m \u001b[38;5;28;01mif\u001b[39;00m p_E \u001b[38;5;129;01mis\u001b[39;00m \u001b[38;5;28;01mNone\u001b[39;00m:  \u001b[38;5;28mself\u001b[39m\u001b[38;5;241m.\u001b[39mamplitude_E \u001b[38;5;241m=\u001b[39m \u001b[38;5;28;01mNone\u001b[39;00m\n\u001b[0;32m-> 1172\u001b[0m \u001b[38;5;28;01melse\u001b[39;00m:            \u001b[38;5;28mself\u001b[39m\u001b[38;5;241m.\u001b[39mamplitude_E \u001b[38;5;241m=\u001b[39m np\u001b[38;5;241m.\u001b[39msqrt(\u001b[38;5;28;43mself\u001b[39;49m\u001b[38;5;241;43m.\u001b[39;49m\u001b[43m_generate_power_array\u001b[49m\u001b[43m(\u001b[49m\u001b[43mp_E\u001b[49m\u001b[43m)\u001b[49m)\u001b[38;5;241m/\u001b[39m\u001b[38;5;28mself\u001b[39m\u001b[38;5;241m.\u001b[39mpixel_size\n\u001b[1;32m   1173\u001b[0m \u001b[38;5;28;01mif\u001b[39;00m p_B \u001b[38;5;129;01mis\u001b[39;00m \u001b[38;5;28;01mNone\u001b[39;00m:  \u001b[38;5;28mself\u001b[39m\u001b[38;5;241m.\u001b[39mamplitude_B \u001b[38;5;241m=\u001b[39m \u001b[38;5;28;01mNone\u001b[39;00m\n\u001b[1;32m   1174\u001b[0m \u001b[38;5;28;01melse\u001b[39;00m:            \u001b[38;5;28mself\u001b[39m\u001b[38;5;241m.\u001b[39mamplitude_B \u001b[38;5;241m=\u001b[39m np\u001b[38;5;241m.\u001b[39msqrt(\u001b[38;5;28mself\u001b[39m\u001b[38;5;241m.\u001b[39m_generate_power_array(p_B))\u001b[38;5;241m/\u001b[39m\u001b[38;5;28mself\u001b[39m\u001b[38;5;241m.\u001b[39mpixel_size\n",
      "File \u001b[0;32m~/env/lib/python3.10/site-packages/galsim/lensing_ps.py:1294\u001b[0m, in \u001b[0;36mPowerSpectrumRealizer._generate_power_array\u001b[0;34m(self, power_function)\u001b[0m\n\u001b[1;32m   1292\u001b[0m k[\u001b[38;5;241m0\u001b[39m,\u001b[38;5;241m0\u001b[39m] \u001b[38;5;241m=\u001b[39m k[\u001b[38;5;241m1\u001b[39m,\u001b[38;5;241m0\u001b[39m]\n\u001b[1;32m   1293\u001b[0m P_k \u001b[38;5;241m=\u001b[39m np\u001b[38;5;241m.\u001b[39mempty_like(k)\n\u001b[0;32m-> 1294\u001b[0m P_k[:,:] \u001b[38;5;241m=\u001b[39m \u001b[43mpower_function\u001b[49m\u001b[43m(\u001b[49m\u001b[43mk\u001b[49m\u001b[43m)\u001b[49m\n\u001b[1;32m   1296\u001b[0m \u001b[38;5;66;03m# Now fix the k=0 value of power to zero\u001b[39;00m\n\u001b[1;32m   1297\u001b[0m P_k[\u001b[38;5;241m0\u001b[39m,\u001b[38;5;241m0\u001b[39m] \u001b[38;5;241m=\u001b[39m \u001b[38;5;28mtype\u001b[39m(P_k[\u001b[38;5;241m0\u001b[39m,\u001b[38;5;241m1\u001b[39m])(\u001b[38;5;241m0.\u001b[39m)\n",
      "File \u001b[0;32m~/env/lib/python3.10/site-packages/galsim/lensing_ps.py:268\u001b[0m, in \u001b[0;36mPowerSpectrum._get_pk.<locals>.<lambda>\u001b[0;34m(k)\u001b[0m\n\u001b[1;32m    259\u001b[0m     \u001b[38;5;28;01mreturn\u001b[39;00m \u001b[38;5;28;01mlambda\u001b[39;00m k : (\u001b[38;5;241m2.\u001b[39m\u001b[38;5;241m*\u001b[39mnp\u001b[38;5;241m.\u001b[39mpi) \u001b[38;5;241m*\u001b[39m power_function(\u001b[38;5;28mself\u001b[39m\u001b[38;5;241m.\u001b[39mscale\u001b[38;5;241m*\u001b[39mk)\u001b[38;5;241m/\u001b[39m(k\u001b[38;5;241m*\u001b[39m\u001b[38;5;241m*\u001b[39m\u001b[38;5;241m2\u001b[39m) \u001b[38;5;241m*\u001b[39m \\\n\u001b[1;32m    260\u001b[0m         bandlimit_func(\u001b[38;5;28mself\u001b[39m\u001b[38;5;241m.\u001b[39mscale\u001b[38;5;241m*\u001b[39mk, \u001b[38;5;28mself\u001b[39m\u001b[38;5;241m.\u001b[39mscale\u001b[38;5;241m*\u001b[39mk_max)\n\u001b[1;32m    261\u001b[0m \u001b[38;5;28;01melif\u001b[39;00m \u001b[38;5;28mself\u001b[39m\u001b[38;5;241m.\u001b[39mscale \u001b[38;5;241m!=\u001b[39m \u001b[38;5;241m1\u001b[39m:\n\u001b[1;32m    262\u001b[0m     \u001b[38;5;66;03m# Here, the scale comes in two places:\u001b[39;00m\n\u001b[1;32m    263\u001b[0m     \u001b[38;5;66;03m# The units of k have to be converted from 1/arcsec, which GalSim wants to use, into\u001b[39;00m\n\u001b[0;32m   (...)\u001b[0m\n\u001b[1;32m    266\u001b[0m     \u001b[38;5;66;03m# function, to Galsim's units of arcsec^2.\u001b[39;00m\n\u001b[1;32m    267\u001b[0m     \u001b[38;5;66;03m# Recall that scale is (input units)/arcsec.\u001b[39;00m\n\u001b[0;32m--> 268\u001b[0m     \u001b[38;5;28;01mreturn\u001b[39;00m \u001b[38;5;28;01mlambda\u001b[39;00m k : \u001b[43mpower_function\u001b[49m\u001b[43m(\u001b[49m\u001b[38;5;28;43mself\u001b[39;49m\u001b[38;5;241;43m.\u001b[39;49m\u001b[43mscale\u001b[49m\u001b[38;5;241;43m*\u001b[39;49m\u001b[43mk\u001b[49m\u001b[43m)\u001b[49m\u001b[38;5;241m*\u001b[39m(\u001b[38;5;28mself\u001b[39m\u001b[38;5;241m.\u001b[39mscale\u001b[38;5;241m*\u001b[39m\u001b[38;5;241m*\u001b[39m\u001b[38;5;241m2\u001b[39m) \u001b[38;5;241m*\u001b[39m \\\n\u001b[1;32m    269\u001b[0m         bandlimit_func(\u001b[38;5;28mself\u001b[39m\u001b[38;5;241m.\u001b[39mscale\u001b[38;5;241m*\u001b[39mk, \u001b[38;5;28mself\u001b[39m\u001b[38;5;241m.\u001b[39mscale\u001b[38;5;241m*\u001b[39mk_max)\n\u001b[1;32m    270\u001b[0m \u001b[38;5;28;01melse\u001b[39;00m:\n\u001b[1;32m    271\u001b[0m     \u001b[38;5;28;01mreturn\u001b[39;00m \u001b[38;5;28;01mlambda\u001b[39;00m k : power_function(k) \u001b[38;5;241m*\u001b[39m bandlimit_func(k, k_max)\n",
      "File \u001b[0;32m~/env/lib/python3.10/site-packages/galsim/table.py:242\u001b[0m, in \u001b[0;36mLookupTable.__call__\u001b[0;34m(self, x)\u001b[0m\n\u001b[1;32m    238\u001b[0m             \u001b[38;5;28mself\u001b[39m\u001b[38;5;241m.\u001b[39m_tab\u001b[38;5;241m.\u001b[39minterpMany(_xx, _f, \u001b[38;5;28mlen\u001b[39m(xx))\n\u001b[1;32m    239\u001b[0m \u001b[38;5;28;01mexcept\u001b[39;00m \u001b[38;5;167;01mRuntimeError\u001b[39;00m:\n\u001b[1;32m    240\u001b[0m     \u001b[38;5;66;03m# If there were points outside the valid range, this will have raised an exception.\u001b[39;00m\n\u001b[1;32m    241\u001b[0m     \u001b[38;5;66;03m# so call _check_range to give a better error message.\u001b[39;00m\n\u001b[0;32m--> 242\u001b[0m     \u001b[38;5;28;43mself\u001b[39;49m\u001b[38;5;241;43m.\u001b[39;49m\u001b[43m_check_range\u001b[49m\u001b[43m(\u001b[49m\u001b[43morig_x\u001b[49m\u001b[43m)\u001b[49m\n\u001b[1;32m    243\u001b[0m     \u001b[38;5;28;01mraise\u001b[39;00m  \u001b[38;5;66;03m# pragma: no cover (shouldn't be able to reach here, but just in case.)\u001b[39;00m\n\u001b[1;32m    245\u001b[0m \u001b[38;5;66;03m# Handle the log(f) if necessary\u001b[39;00m\n",
      "File \u001b[0;32m~/env/lib/python3.10/site-packages/galsim/table.py:390\u001b[0m, in \u001b[0;36mLookupTable._check_range\u001b[0;34m(self, x)\u001b[0m\n\u001b[1;32m    387\u001b[0m     \u001b[38;5;28;01mraise\u001b[39;00m GalSimRangeError(\u001b[38;5;124m\"\u001b[39m\u001b[38;5;124mx value(s) below the range of the LookupTable.\u001b[39m\u001b[38;5;124m\"\u001b[39m,\n\u001b[1;32m    388\u001b[0m                            x, \u001b[38;5;28mself\u001b[39m\u001b[38;5;241m.\u001b[39mx_min, \u001b[38;5;28mself\u001b[39m\u001b[38;5;241m.\u001b[39mx_max)\n\u001b[1;32m    389\u001b[0m \u001b[38;5;28;01mif\u001b[39;00m np\u001b[38;5;241m.\u001b[39mmax(x,initial\u001b[38;5;241m=\u001b[39m\u001b[38;5;28mself\u001b[39m\u001b[38;5;241m.\u001b[39mx_max) \u001b[38;5;241m>\u001b[39m \u001b[38;5;28mself\u001b[39m\u001b[38;5;241m.\u001b[39mx_max \u001b[38;5;241m+\u001b[39m slop:  \u001b[38;5;66;03m# pragma: no branch\u001b[39;00m\n\u001b[0;32m--> 390\u001b[0m     \u001b[38;5;28;01mraise\u001b[39;00m GalSimRangeError(\u001b[38;5;124m\"\u001b[39m\u001b[38;5;124mx value(s) above the range of the LookupTable.\u001b[39m\u001b[38;5;124m\"\u001b[39m,\n\u001b[1;32m    391\u001b[0m                            x, \u001b[38;5;28mself\u001b[39m\u001b[38;5;241m.\u001b[39mx_min, \u001b[38;5;28mself\u001b[39m\u001b[38;5;241m.\u001b[39mx_max)\n",
      "\u001b[0;31mGalSimRangeError\u001b[0m: x value(s) above the range of the LookupTable. Value [[ 36.          36.          72.         108.         144.\n  180.         216.         252.         288.         324.\n  360.        ]\n [ 36.          50.91168825  80.49844719 113.84199577 148.43180252\n  183.56470249 218.97945109 254.55844123 290.24127894 325.99386497\n  361.79552236]\n [ 72.          80.49844719 101.82337649 129.79984592 160.99689438\n  193.86593306 227.68399153 262.08395601 296.86360504 331.90360046\n  367.12940498]\n [108.         113.84199577 129.79984592 152.73506474 180.\n  209.91426821 241.49534157 274.16783181 307.58413483 341.5259873\n  375.85103432]\n [144.         148.43180252 160.99689438 180.         203.64675298\n  230.51247255 259.59969183 290.24127894 321.99378876 354.55888086\n  387.73186611]\n [180.         183.56470249 193.86593306 209.91426821 230.51247255\n  254.55844123 281.16898833 309.68370961 339.62332075 370.64268508\n  402.49223595]\n [216.         218.97945109 227.68399153 241.49534157 259.59969183\n  281.16898833 305.47012947 331.90360046 360.         389.39953775\n  419.82853643]\n [252.         254.55844123 262.08395601 274.16783181 290.24127894\n  309.68370961 331.90360046 356.38181772 382.68524926 410.46315304\n  439.43600217]\n [288.         290.24127894 296.86360504 307.58413483 321.99378876\n  339.62332075 360.         382.68524926 407.29350596 433.49740484\n  461.0249451 ]\n [324.         325.99386497 331.90360046 341.5259873  354.55888086\n  370.64268508 389.39953775 410.46315304 433.49740484 458.20519421\n  484.33046569]\n [360.         361.79552236 367.12940498 375.85103432 387.73186611\n  402.49223595 419.82853643 439.43600217 461.0249451  484.33046569\n  509.11688245]] not in range [[-9.90348758], [2.35137523]]"
     ]
    }
   ],
   "source": [
    "grid_size = 10.  # Define the total grid extent, in degrees\n",
    "ngrid = 20      # Define the number of grid points in each dimension: (ngrid x ngrid)\n",
    "n_ell = 15  \n",
    "\n",
    "g1, g2, kappa = galsim_ps.buildGrid(grid_spacing=grid_size/ngrid, ngrid=ngrid, units=galsim.degrees, get_convergence=True)\n",
    "\n",
    "fig, (one, two) = plt.subplots(nrows=1,ncols=2)\n",
    "_ = one.imshow(g1)\n",
    "_ = two.imshow(g2)"
   ]
  }
 ],
 "metadata": {
  "kernelspec": {
   "display_name": "env",
   "language": "python",
   "name": "python3"
  },
  "language_info": {
   "codemirror_mode": {
    "name": "ipython",
    "version": 3
   },
   "file_extension": ".py",
   "mimetype": "text/x-python",
   "name": "python",
   "nbconvert_exporter": "python",
   "pygments_lexer": "ipython3",
   "version": "3.10.12"
  }
 },
 "nbformat": 4,
 "nbformat_minor": 2
}

{
 "cells": [
  {
   "cell_type": "code",
   "execution_count": 1,
   "metadata": {},
   "outputs": [],
   "source": [
    "import galsim\n",
    "import numpy as np\n",
    "import matplotlib.pyplot as plt\n",
    "from torch.distributions import Uniform, Beta, Normal\n",
    "import pyccl\n",
    "import torch"
   ]
  },
  {
   "cell_type": "code",
   "execution_count": 3,
   "metadata": {},
   "outputs": [
    {
     "name": "stdout",
     "output_type": "stream",
     "text": [
      "0.8168158531188965\n"
     ]
    }
   ],
   "source": [
    "dist = Normal(torch.tensor([0.8159]), torch.tensor([0.001]))\n",
    "sigma_8 = dist.sample().item()\n",
    "print(sigma_8)"
   ]
  },
  {
   "cell_type": "code",
   "execution_count": 11,
   "metadata": {},
   "outputs": [],
   "source": [
    "cosmology = pyccl.cosmology.Cosmology(sigma8=sigma_8,\n",
    "                                      Omega_c=2.6,\n",
    "                                      Omega_b=0.0486,\n",
    "                                      h=67.7,\n",
    "                                      n_s=1,\n",
    ")"
   ]
  },
  {
   "cell_type": "code",
   "execution_count": 13,
   "metadata": {},
   "outputs": [
    {
     "name": "stdout",
     "output_type": "stream",
     "text": [
      " Warning: Integrate_Romberg failed to converge; \n",
      " integral, error, tol:   57.829814798906504       -3.5592934681583088E-005   1.0000000000000001E-007\n"
     ]
    }
   ],
   "source": [
    "cosmology.compute_linear_power()\n",
    "power_spectrum = cosmology.get_linear_power()"
   ]
  },
  {
   "cell_type": "code",
   "execution_count": 31,
   "metadata": {},
   "outputs": [
    {
     "ename": "AttributeError",
     "evalue": "module 'numpy' has no attribute 'cat'",
     "output_type": "error",
     "traceback": [
      "\u001b[0;31m---------------------------------------------------------------------------\u001b[0m",
      "\u001b[0;31mAttributeError\u001b[0m                            Traceback (most recent call last)",
      "Cell \u001b[0;32mIn[31], line 6\u001b[0m\n\u001b[1;32m      3\u001b[0m \u001b[38;5;66;03m# print(len(power_spectrum_vals))\u001b[39;00m\n\u001b[1;32m      4\u001b[0m \u001b[38;5;66;03m# print(len(power_spectrum_vals[0]))\u001b[39;00m\n\u001b[1;32m      5\u001b[0m \u001b[38;5;28;01mwith\u001b[39;00m \u001b[38;5;28mopen\u001b[39m(\u001b[38;5;124m'\u001b[39m\u001b[38;5;124m./sample_ps_vals.txt\u001b[39m\u001b[38;5;124m'\u001b[39m, \u001b[38;5;124m'\u001b[39m\u001b[38;5;124mw\u001b[39m\u001b[38;5;124m'\u001b[39m) \u001b[38;5;28;01mas\u001b[39;00m f:\n\u001b[0;32m----> 6\u001b[0m     np\u001b[38;5;241m.\u001b[39msavetxt(f, \u001b[43mnp\u001b[49m\u001b[38;5;241;43m.\u001b[39;49m\u001b[43mcat\u001b[49m(power_spectrum_vals_k[\u001b[38;5;241m0\u001b[39m], power_spectrum_vals_pk[\u001b[38;5;241m0\u001b[39m], axis\u001b[38;5;241m=\u001b[39m\u001b[38;5;241m1\u001b[39m))\n",
      "File \u001b[0;32m~/env/lib/python3.10/site-packages/numpy/__init__.py:320\u001b[0m, in \u001b[0;36m__getattr__\u001b[0;34m(attr)\u001b[0m\n\u001b[1;32m    317\u001b[0m     \u001b[38;5;28;01mfrom\u001b[39;00m \u001b[38;5;21;01m.\u001b[39;00m\u001b[38;5;21;01mtesting\u001b[39;00m \u001b[38;5;28;01mimport\u001b[39;00m Tester\n\u001b[1;32m    318\u001b[0m     \u001b[38;5;28;01mreturn\u001b[39;00m Tester\n\u001b[0;32m--> 320\u001b[0m \u001b[38;5;28;01mraise\u001b[39;00m \u001b[38;5;167;01mAttributeError\u001b[39;00m(\u001b[38;5;124m\"\u001b[39m\u001b[38;5;124mmodule \u001b[39m\u001b[38;5;132;01m{!r}\u001b[39;00m\u001b[38;5;124m has no attribute \u001b[39m\u001b[38;5;124m\"\u001b[39m\n\u001b[1;32m    321\u001b[0m                      \u001b[38;5;124m\"\u001b[39m\u001b[38;5;132;01m{!r}\u001b[39;00m\u001b[38;5;124m\"\u001b[39m\u001b[38;5;241m.\u001b[39mformat(\u001b[38;5;18m__name__\u001b[39m, attr))\n",
      "\u001b[0;31mAttributeError\u001b[0m: module 'numpy' has no attribute 'cat'"
     ]
    }
   ],
   "source": [
    "power_spectrum_vals_pk = power_spectrum.get_spline_arrays()[2]\n",
    "power_spectrum_vals_k = power_spectrum.get_spline_arrays()[1]\n",
    "# print(len(power_spectrum_vals))\n",
    "# print(len(power_spectrum_vals[0]))\n",
    "with open('./sample_ps_vals.txt', 'w') as f:\n",
    "    np.savetxt(f, np.concat(power_spectrum_vals_k[0], power_spectrum_vals_pk[0], axis=1))"
   ]
  },
  {
   "cell_type": "code",
   "execution_count": 24,
   "metadata": {},
   "outputs": [],
   "source": [
    "def get_ps():\n",
    "    return power_spectrum_vals"
   ]
  },
  {
   "cell_type": "code",
   "execution_count": null,
   "metadata": {},
   "outputs": [],
   "source": [
    "for arg in args:\n",
    "    val = calculateVal(arg)\n",
    "    vals.append(val)\n",
    "table = galsim.LookupTable(x=args,f=vals)"
   ]
  },
  {
   "cell_type": "code",
   "execution_count": 25,
   "metadata": {},
   "outputs": [
    {
     "ename": "TypeError",
     "evalue": "get_ps() takes 0 positional arguments but 1 was given",
     "output_type": "error",
     "traceback": [
      "\u001b[0;31m---------------------------------------------------------------------------\u001b[0m",
      "\u001b[0;31mTypeError\u001b[0m                                 Traceback (most recent call last)",
      "Cell \u001b[0;32mIn[25], line 1\u001b[0m\n\u001b[0;32m----> 1\u001b[0m galsim_ps \u001b[38;5;241m=\u001b[39m \u001b[43mgalsim\u001b[49m\u001b[38;5;241;43m.\u001b[39;49m\u001b[43mPowerSpectrum\u001b[49m\u001b[43m(\u001b[49m\u001b[43mget_ps\u001b[49m\u001b[43m,\u001b[49m\u001b[43m \u001b[49m\u001b[43munits\u001b[49m\u001b[38;5;241;43m=\u001b[39;49m\u001b[43mgalsim\u001b[49m\u001b[38;5;241;43m.\u001b[39;49m\u001b[43mradians\u001b[49m\u001b[43m)\u001b[49m\n",
      "File \u001b[0;32m~/env/lib/python3.10/site-packages/galsim/lensing_ps.py:187\u001b[0m, in \u001b[0;36mPowerSpectrum.__init__\u001b[0;34m(self, e_power_function, b_power_function, delta2, units)\u001b[0m\n\u001b[1;32m    180\u001b[0m \u001b[38;5;28mself\u001b[39m\u001b[38;5;241m.\u001b[39munits \u001b[38;5;241m=\u001b[39m units\n\u001b[1;32m    182\u001b[0m \u001b[38;5;66;03m# Try these conversions, but we don't actually keep the output.  This just\u001b[39;00m\n\u001b[1;32m    183\u001b[0m \u001b[38;5;66;03m# provides a way to test if the arguments are sane.\u001b[39;00m\n\u001b[1;32m    184\u001b[0m \u001b[38;5;66;03m# Note: we redo this in buildGrid for real rather than keeping the outputs\u001b[39;00m\n\u001b[1;32m    185\u001b[0m \u001b[38;5;66;03m# (e.g. in self.e_power_function, self.b_power_function) so that PowerSpectrum is\u001b[39;00m\n\u001b[1;32m    186\u001b[0m \u001b[38;5;66;03m# picklable.  It turns out lambda functions are not picklable.\u001b[39;00m\n\u001b[0;32m--> 187\u001b[0m \u001b[38;5;28;43mself\u001b[39;49m\u001b[38;5;241;43m.\u001b[39;49m\u001b[43m_convert_power_function\u001b[49m\u001b[43m(\u001b[49m\u001b[38;5;28;43mself\u001b[39;49m\u001b[38;5;241;43m.\u001b[39;49m\u001b[43me_power_function\u001b[49m\u001b[43m,\u001b[49m\u001b[38;5;124;43m'\u001b[39;49m\u001b[38;5;124;43me_power_function\u001b[39;49m\u001b[38;5;124;43m'\u001b[39;49m\u001b[43m)\u001b[49m\n\u001b[1;32m    188\u001b[0m \u001b[38;5;28mself\u001b[39m\u001b[38;5;241m.\u001b[39m_convert_power_function(\u001b[38;5;28mself\u001b[39m\u001b[38;5;241m.\u001b[39mb_power_function,\u001b[38;5;124m'\u001b[39m\u001b[38;5;124mb_power_function\u001b[39m\u001b[38;5;124m'\u001b[39m)\n\u001b[1;32m    190\u001b[0m \u001b[38;5;66;03m# Check validity of units\u001b[39;00m\n",
      "File \u001b[0;32m~/env/lib/python3.10/site-packages/galsim/lensing_ps.py:614\u001b[0m, in \u001b[0;36mPowerSpectrum._convert_power_function\u001b[0;34m(self, pf, pf_str)\u001b[0m\n\u001b[1;32m    609\u001b[0m \u001b[38;5;66;03m# Check that the function is sane.\u001b[39;00m\n\u001b[1;32m    610\u001b[0m \u001b[38;5;66;03m# Note: Only try tests below if it's not a LookupTable.\u001b[39;00m\n\u001b[1;32m    611\u001b[0m \u001b[38;5;66;03m#       (If it's a LookupTable, then it could be a valid function that isn't\u001b[39;00m\n\u001b[1;32m    612\u001b[0m \u001b[38;5;66;03m#        defined at k=1.)\u001b[39;00m\n\u001b[1;32m    613\u001b[0m \u001b[38;5;28;01mif\u001b[39;00m \u001b[38;5;129;01mnot\u001b[39;00m \u001b[38;5;28misinstance\u001b[39m(pf, LookupTable):\n\u001b[0;32m--> 614\u001b[0m     \u001b[43mpf\u001b[49m\u001b[43m(\u001b[49m\u001b[43mnp\u001b[49m\u001b[38;5;241;43m.\u001b[39;49m\u001b[43marray\u001b[49m\u001b[43m(\u001b[49m\u001b[43m(\u001b[49m\u001b[38;5;241;43m0.1\u001b[39;49m\u001b[43m,\u001b[49m\u001b[38;5;241;43m1.\u001b[39;49m\u001b[43m)\u001b[49m\u001b[43m)\u001b[49m\u001b[43m)\u001b[49m\n\u001b[1;32m    615\u001b[0m \u001b[38;5;28;01mreturn\u001b[39;00m pf\n",
      "\u001b[0;31mTypeError\u001b[0m: get_ps() takes 0 positional arguments but 1 was given"
     ]
    }
   ],
   "source": [
    "galsim_ps = galsim.PowerSpectrum(get_ps, units=galsim.radians)"
   ]
  },
  {
   "cell_type": "code",
   "execution_count": null,
   "metadata": {},
   "outputs": [],
   "source": []
  }
 ],
 "metadata": {
  "kernelspec": {
   "display_name": "env",
   "language": "python",
   "name": "python3"
  },
  "language_info": {
   "codemirror_mode": {
    "name": "ipython",
    "version": 3
   },
   "file_extension": ".py",
   "mimetype": "text/x-python",
   "name": "python",
   "nbconvert_exporter": "python",
   "pygments_lexer": "ipython3",
   "version": "3.10.12"
  }
 },
 "nbformat": 4,
 "nbformat_minor": 2
}

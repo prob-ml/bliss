{
 "cells": [
  {
   "cell_type": "code",
   "execution_count": 1,
   "id": "23914c65",
   "metadata": {},
   "outputs": [],
   "source": [
    "from hydra import compose, initialize\n",
    "from hydra.utils import instantiate\n",
    "\n",
    "import torch\n",
    "from torch.distributions import Normal\n",
    "\n",
    "import bliss"
   ]
  },
  {
   "cell_type": "code",
   "execution_count": 2,
   "id": "84051516",
   "metadata": {},
   "outputs": [],
   "source": [
    "with initialize(config_path=\"./config\"):\n",
    "     cfg = compose(config_name=\"config\")"
   ]
  },
  {
   "cell_type": "code",
   "execution_count": 3,
   "id": "4980917a",
   "metadata": {},
   "outputs": [
    {
     "data": {
      "text/plain": [
       "{'mode': 'train', 'gpus': 1, 'paths': {'root': '${oc.env:BLISS_HOME}', 'sdss': '${paths.root}/data/sdss', 'data': '${paths.root}/data', 'project': '${paths.root}/case_studies/sdss_galaxies_vae', 'output': '${paths.project}/output'}, 'datasets': {'sdss_blended_galaxies': {'_target_': 'bliss.datasets.sdss_blended_galaxies.SdssBlendedGalaxies', 'sleep': '${models.sleep}', 'binary_encoder': '${models.binary}', 'sleep_ckpt': '${paths.project}/models/sdss_sleep.pt', 'binary_ckpt': '${paths.project}/models/sdss_binary.pt', 'sdss_dir': '${paths.sdss}', 'prerender_device': 'cuda', 'stride_factor': 0.25}, 'sdss_galaxies': {'_target_': 'bliss.datasets.galsim_galaxies.SDSSGalaxies', 'num_workers': 5, 'batch_size': 64, 'n_batches': 10, 'background': 865, 'slen': 53, 'min_flux': 1000.0, 'max_flux': 350000.0, 'min_a_d': 0.8, 'max_a_d': 6.5, 'min_a_b': 0.8, 'max_a_b': 3.6, 'flux_sample': 'uniform', 'psf_image_file': '${paths.data}/psField-000094-1-0012-PSF-image.npy'}, 'simulated': {'_target_': 'bliss.datasets.simulated.SimulatedDataset', 'decoder': '${models.decoder}', 'prior': '${models.prior}', 'background': [865.0], 'n_batches': 10, 'batch_size': 32, 'generate_device': 'cuda:0', 'testing_file': None}, 'toy_gaussian': {'_target_': 'bliss.datasets.galsim_galaxies.ToyGaussian', 'num_workers': 0, 'n_batches': 10, 'batch_size': 64, 'slen': 53, 'background': 865.0, 'psf_fwhm': 0.8, 'pixel_scale': 0.4, 'min_flux': 300, 'max_flux': 10000, 'min_hlr': 0.8, 'max_hlr': 3.0, 'max_e': 0.6}}, 'models': {'binary': {'_target_': 'bliss.models.binary.BinaryEncoder', 'n_bands': 1, 'tile_slen': 4, 'ptile_slen': 52, 'channel': 8, 'hidden': 128, 'spatial_dropout': 0.0, 'dropout': 0.0}, 'decoder': {'_target_': 'bliss.models.decoder.ImageDecoder', 'n_bands': 1, 'tile_slen': 4, 'ptile_slen': 52, 'border_padding': 24, 'psf_params_file': '${paths.data}/sdss/94/1/12/psField-000094-1-0012.fits', 'galaxy_ae': '${models.galaxy_vae}', 'galaxy_ae_ckpt': '${paths.project}/models/sdss_vae.pt', 'sdss_bands': [2]}, 'encoder': {'_target_': 'bliss.models.location_encoder.LocationEncoder', 'n_bands': '${models.decoder.n_bands}', 'tile_slen': '${models.decoder.tile_slen}', 'ptile_slen': 52, 'max_detections': '${models.prior.max_sources}', 'channel': 8, 'spatial_dropout': 0.0, 'dropout': 0.0, 'hidden': 128}, 'galaxy_encoder': {'_target_': 'bliss.models.galaxy_encoder.GalaxyEncoder', 'decoder': '${models.decoder}', 'autoencoder': '${models.galaxy_vae}', 'hidden': '${models.galaxy_vae.hidden}'}, 'galaxy_flow': {'_target_': 'bliss.models.vae.galaxy_flow.CenteredGalaxyLatentFlow', 'vae': '${models.galaxy_vae}', 'vae_ckpt': '${paths.project}/models/sdss_vae.pt'}, 'galaxy_vae': {'_target_': 'bliss.models.vae.galaxy_vae.OneCenteredGalaxyVAE', 'slen': 53, 'latent_dim': 32, 'hidden': 256, 'n_bands': 1}, 'prior': {'_target_': 'bliss.models.prior.ImagePrior', 'n_bands': 1, 'slen': 40, 'tile_slen': 4, 'max_sources': 1, 'mean_sources': 0.03, 'min_sources': 0, 'f_min': 1000.0, 'f_max': 1000000.0, 'alpha': 0.5, 'prob_galaxy': 0.7, 'galaxy_prior': {'_target_': 'bliss.models.vae.prior.GalaxyVAEPrior', 'latent_dim': '${models.galaxy_vae.latent_dim}'}}, 'sleep': {'_target_': 'bliss.sleep.SleepPhase', 'encoder': '${models.encoder}', 'decoder': '${models.decoder}', 'annotate_probs': True}}, 'generate': {'dataset': None, 'file': None, 'common': None, 'n_plots': 25}, 'predict': {'sdss': {'_target_': 'bliss.datasets.sdss.SloanDigitalSkySurvey', 'sdss_dir': '${paths.sdss}', 'run': 94, 'camcol': 1, 'fields': [12]}, 'bands': [2], 'clen': 300, 'sleep_checkpoint': '${paths.project}/models/sdss_sleep.pt', 'galaxy_checkpoint': '${paths.project}/models/sdss_galaxy_encoder.pt', 'galaxy_checkpoint_real': '${paths.project}/models/sdss_galaxy_encoder_real.pt', 'binary_checkpoint': '${paths.project}/models/sdss_binary.pt', 'device': 'cuda:0', 'output_file': None, 'testing': False}, 'training': {'n_epochs': 1001, 'experiment': 'default', 'version': None, 'save_top_k': 1, 'trainer': {'_target_': 'pytorch_lightning.Trainer', 'logger': True, 'enable_checkpointing': True, 'profiler': None, 'reload_dataloaders_every_epoch': False, 'max_epochs': '${training.n_epochs}', 'min_epochs': '${training.n_epochs}', 'gpus': '${gpus}', 'limit_train_batches': 1.0, 'limit_val_batches': 1.0, 'check_val_every_n_epoch': 10, 'log_every_n_steps': 10, 'deterministic': False}, 'testing': {'file': None, 'batch_size': 32, 'num_workers': 0}, 'weight_save_path': '${paths.project}/models/${training.name}.pt', 'name': 'sdss_vae', 'model': '${models.galaxy_vae}', 'dataset': '${datasets.sdss_galaxies}', 'optimizer_params': {'lr': 0.001}}, 'reconstruct': {'sdss_pixel_scale': 0.396, 'device': 'cuda:0', 'coadd_cat': '${paths.data}/coadd_catalog_94_1_12.fits', 'psf_file': '${paths.data}/psField-000094-1-0012-PSF-image.npy', 'real': False, 'slen': 300, 'outdir': None, 'scenes': None}}"
      ]
     },
     "execution_count": 3,
     "metadata": {},
     "output_type": "execute_result"
    }
   ],
   "source": [
    "cfg"
   ]
  },
  {
   "cell_type": "code",
   "execution_count": 4,
   "id": "1c18e586",
   "metadata": {},
   "outputs": [],
   "source": [
    "vae = instantiate(cfg.models.galaxy_vae)"
   ]
  },
  {
   "cell_type": "code",
   "execution_count": 6,
   "id": "11f3938d",
   "metadata": {},
   "outputs": [
    {
     "data": {
      "text/plain": [
       "<All keys matched successfully>"
      ]
     },
     "execution_count": 6,
     "metadata": {},
     "output_type": "execute_result"
    }
   ],
   "source": [
    "vae.load_state_dict(torch.load(cfg.models.decoder.galaxy_ae_ckpt))"
   ]
  },
  {
   "cell_type": "code",
   "execution_count": 64,
   "id": "638dcacc",
   "metadata": {},
   "outputs": [],
   "source": [
    "import numpy as np\n",
    "r = np.random.RandomState(1234)\n",
    "samples = r.standard_normal((10, vae.latent_dim))\n",
    "samples = torch.from_numpy(samples).to(torch.float32)"
   ]
  },
  {
   "cell_type": "code",
   "execution_count": 65,
   "id": "c01f52d2",
   "metadata": {},
   "outputs": [
    {
     "data": {
      "text/plain": [
       "torch.Size([10, 32])"
      ]
     },
     "execution_count": 65,
     "metadata": {},
     "output_type": "execute_result"
    }
   ],
   "source": [
    "samples.shape"
   ]
  },
  {
   "cell_type": "code",
   "execution_count": 66,
   "id": "ecc0886c",
   "metadata": {},
   "outputs": [],
   "source": [
    "with torch.no_grad():\n",
    "    images = vae.get_decoder()(samples)"
   ]
  },
  {
   "cell_type": "code",
   "execution_count": 67,
   "id": "4b8c5f30",
   "metadata": {},
   "outputs": [
    {
     "data": {
      "text/plain": [
       "torch.Size([10, 1, 53, 53])"
      ]
     },
     "execution_count": 67,
     "metadata": {},
     "output_type": "execute_result"
    }
   ],
   "source": [
    "images.shape"
   ]
  },
  {
   "cell_type": "code",
   "execution_count": 154,
   "id": "fa464823",
   "metadata": {},
   "outputs": [],
   "source": [
    "import numpy as np\n",
    "from matplotlib import pyplot as plt"
   ]
  },
  {
   "cell_type": "code",
   "execution_count": 164,
   "id": "755a1f5e",
   "metadata": {},
   "outputs": [
    {
     "data": {
      "text/plain": [
       "<matplotlib.image.AxesImage at 0x7f655e9b9340>"
      ]
     },
     "execution_count": 164,
     "metadata": {},
     "output_type": "execute_result"
    },
    {
     "data": {
      "image/png": "[encoded data removed]",
      "text/plain": [
       "<Figure size 432x288 with 1 Axes>"
      ]
     },
     "metadata": {
      "needs_background": "light"
     },
     "output_type": "display_data"
    }
   ],
   "source": [
    "%matplotlib inline\n",
    "plt.imshow(images[5,0].numpy())"
   ]
  },
  {
   "cell_type": "code",
   "execution_count": 166,
   "id": "4fc0ceec",
   "metadata": {},
   "outputs": [
    {
     "data": {
      "text/plain": [
       "tensor([ 0.5368, -0.7438, -0.3202, -0.9162, -0.8597,  0.2260,  0.6288,  0.1865,\n",
       "         0.9525,  0.9881, -0.0726, -0.5506, -0.9382, -1.2391,  0.1397, -0.2230,\n",
       "         2.1237,  0.1223, -1.4094,  1.4230, -2.1479, -1.3475,  0.3636, -0.0148,\n",
       "         1.2724, -1.4496, -1.1955, -0.5919, -0.4145, -1.4258,  0.2094, -0.5929])"
      ]
     },
     "execution_count": 166,
     "metadata": {},
     "output_type": "execute_result"
    }
   ],
   "source": [
    "samples[5]"
   ]
  },
  {
   "cell_type": "code",
   "execution_count": 167,
   "id": "ff4c64ee",
   "metadata": {},
   "outputs": [
    {
     "data": {
      "text/plain": [
       "<matplotlib.image.AxesImage at 0x7f655e91c430>"
      ]
     },
     "execution_count": 167,
     "metadata": {},
     "output_type": "execute_result"
    },
    {
     "data": {
      "image/png": "[encoded data removed]",
      "text/plain": [
       "<Figure size 432x288 with 1 Axes>"
      ]
     },
     "metadata": {
      "needs_background": "light"
     },
     "output_type": "display_data"
    }
   ],
   "source": [
    "%matplotlib inline\n",
    "images_noisy = images + images.sqrt() * torch.randn_like(images)\n",
    "plt.imshow(images_noisy[5,0].numpy())"
   ]
  },
  {
   "cell_type": "code",
   "execution_count": 168,
   "id": "a4ec33e9",
   "metadata": {},
   "outputs": [
    {
     "name": "stdout",
     "output_type": "stream",
     "text": [
      "tensor([[-0.2286, -0.1901,  0.1358,  0.0177,  1.1454,  0.1924, -1.1612, -0.8904,\n",
      "          0.9802,  0.4502, -0.8152, -0.7946,  0.3675, -1.1746, -0.9747, -0.1077,\n",
      "          1.9009,  0.4146, -0.3397, -1.1035, -1.0474,  0.2878,  0.2197, -0.5771,\n",
      "          0.0781,  0.7441,  0.3550, -0.1884, -1.2131, -0.5655,  0.1395, -0.0625]])\n"
     ]
    }
   ],
   "source": [
    "with torch.no_grad():\n",
    "    z, _ = vae.get_encoder()(images_noisy[5:6])\n",
    "    recon_z = vae.get_decoder()(z)\n",
    "print(z)"
   ]
  },
  {
   "cell_type": "code",
   "execution_count": 169,
   "id": "11ef334d",
   "metadata": {},
   "outputs": [
    {
     "name": "stdout",
     "output_type": "stream",
     "text": [
      "tensor([[-7.1554e-01, -1.0931e-01,  1.0318e+00,  ...,  4.2211e-01,\n",
      "          2.5825e-01, -2.0247e-01],\n",
      "        [-4.8203e-01,  4.5949e-02,  3.1836e-02,  ..., -1.1036e+00,\n",
      "          1.8002e-01,  6.3733e-02],\n",
      "        [-9.0856e-04, -2.2717e-01, -1.0003e+00,  ...,  1.1309e+00,\n",
      "          8.2503e-02, -3.8701e-01],\n",
      "        ...,\n",
      "        [-3.8134e-01, -8.8384e-02, -1.3145e+00,  ..., -1.3494e-01,\n",
      "          9.6220e-02, -5.1271e-01],\n",
      "        [-1.0609e+00, -1.9552e-01, -4.9447e-01,  ...,  1.5135e+00,\n",
      "          3.4997e-01, -3.4285e-01],\n",
      "        [-6.8710e-01, -2.5906e-01, -1.7564e-01,  ..., -2.6806e-01,\n",
      "          3.3631e-01, -9.0711e-02]])\n",
      "torch.Size([10000, 32])\n"
     ]
    }
   ],
   "source": [
    "with torch.no_grad():\n",
    "    z_list = []\n",
    "    for _ in range(10000):\n",
    "        z, _ = vae.get_encoder()(images_noisy[5:6])\n",
    "        z_list.append(z)\n",
    "    z = torch.cat(z_list, 0)\n",
    "print(z)\n",
    "print(z.shape)"
   ]
  },
  {
   "cell_type": "code",
   "execution_count": 174,
   "id": "61600bab",
   "metadata": {},
   "outputs": [
    {
     "data": {
      "text/plain": [
       "<matplotlib.collections.PathCollection at 0x7f655e714d90>"
      ]
     },
     "execution_count": 174,
     "metadata": {},
     "output_type": "execute_result"
    },
    {
     "data": {
      "image/png": "[encoded data removed]",
      "text/plain": [
       "<Figure size 432x288 with 1 Axes>"
      ]
     },
     "metadata": {
      "needs_background": "light"
     },
     "output_type": "display_data"
    }
   ],
   "source": [
    "plt.scatter(z[:, 0], z[:, 1])\n",
    "plt.scatter(samples[5, 0], samples[5, 1])"
   ]
  },
  {
   "cell_type": "code",
   "execution_count": 176,
   "id": "49e8e488",
   "metadata": {},
   "outputs": [
    {
     "data": {
      "text/plain": [
       "<matplotlib.collections.PathCollection at 0x7f655e66a580>"
      ]
     },
     "execution_count": 176,
     "metadata": {},
     "output_type": "execute_result"
    },
    {
     "data": {
      "image/png": "[encoded data removed]",
      "text/plain": [
       "<Figure size 432x288 with 1 Axes>"
      ]
     },
     "metadata": {
      "needs_background": "light"
     },
     "output_type": "display_data"
    }
   ],
   "source": [
    "plt.scatter(z[:, 0], z[:, 2])\n",
    "plt.scatter(samples[5, 0], samples[5, 2])"
   ]
  },
  {
   "cell_type": "code",
   "execution_count": 178,
   "id": "cdca1057",
   "metadata": {},
   "outputs": [
    {
     "data": {
      "text/plain": [
       "<matplotlib.collections.PathCollection at 0x7f655e55c820>"
      ]
     },
     "execution_count": 178,
     "metadata": {},
     "output_type": "execute_result"
    },
    {
     "data": {
      "image/png": "[encoded data removed]",
      "text/plain": [
       "<Figure size 432x288 with 1 Axes>"
      ]
     },
     "metadata": {
      "needs_background": "light"
     },
     "output_type": "display_data"
    }
   ],
   "source": [
    "plt.scatter(z[:, 1], z[:, 2])\n",
    "plt.scatter(samples[5, 1], samples[5, 2])"
   ]
  },
  {
   "cell_type": "code",
   "execution_count": 163,
   "id": "63ec94c1",
   "metadata": {
    "scrolled": true
   },
   "outputs": [
    {
     "data": {
      "text/plain": [
       "<matplotlib.image.AxesImage at 0x7f655e9cd790>"
      ]
     },
     "execution_count": 163,
     "metadata": {},
     "output_type": "execute_result"
    },
    {
     "data": {
      "image/png": "[encoded data removed]",
      "text/plain": [
       "<Figure size 432x288 with 1 Axes>"
      ]
     },
     "metadata": {
      "needs_background": "light"
     },
     "output_type": "display_data"
    }
   ],
   "source": [
    "plt.imshow(recon_z[0,0].numpy())"
   ]
  },
  {
   "cell_type": "code",
   "execution_count": 183,
   "id": "2d12f80c",
   "metadata": {},
   "outputs": [
    {
     "data": {
      "text/plain": [
       "<module 'reconstruction' from '/home/dereklh/projects/bliss/case_studies/sdss_galaxies_vae/reconstruction.py'>"
      ]
     },
     "execution_count": 183,
     "metadata": {},
     "output_type": "execute_result"
    }
   ],
   "source": [
    "from importlib import reload\n",
    "reload(reconstruction)"
   ]
  },
  {
   "cell_type": "code",
   "execution_count": 328,
   "id": "a5e9e602",
   "metadata": {},
   "outputs": [],
   "source": [
    "from reconstruction import get_sdss_data, Table, load_models, reconstruct_scene_at_coordinates\n",
    "from bliss.models.location_encoder import get_images_in_tiles, subtract_bg_and_log_transform"
   ]
  },
  {
   "cell_type": "code",
   "execution_count": 329,
   "id": "aab25473",
   "metadata": {},
   "outputs": [],
   "source": [
    "    sdss_data = get_sdss_data(cfg.paths.sdss, cfg.reconstruct.sdss_pixel_scale)\n",
    "    my_image = torch.from_numpy(sdss_data[\"image\"]).unsqueeze(0).unsqueeze(0)\n",
    "    my_background = torch.from_numpy(sdss_data[\"background\"]).unsqueeze(0).unsqueeze(0)\n",
    "    coadd_cat = Table.read(cfg.reconstruct.coadd_cat, format=\"fits\")\n",
    "    device = torch.device(cfg.reconstruct.device)\n",
    "    dec, encoder = load_models(cfg, device)"
   ]
  },
  {
   "cell_type": "code",
   "execution_count": 330,
   "id": "d5b7ac98",
   "metadata": {},
   "outputs": [
    {
     "name": "stderr",
     "output_type": "stream",
     "text": [
      "Reconstructing chunks: 1it [00:00, 67.50it/s]\n"
     ]
    }
   ],
   "source": [
    "slen=40\n",
    "h = 1400\n",
    "h_end = h + slen\n",
    "w = 1710\n",
    "w_end = w + slen\n",
    "recon, tile_map_recon = reconstruct_scene_at_coordinates(\n",
    "    encoder,\n",
    "    dec,\n",
    "    my_image,\n",
    "    my_background,\n",
    "    (h, h_end),\n",
    "    (w, w_end),\n",
    "    slen=slen,\n",
    "    device=device,\n",
    ")"
   ]
  },
  {
   "cell_type": "code",
   "execution_count": 331,
   "id": "27d64dd2",
   "metadata": {},
   "outputs": [
    {
     "data": {
      "text/plain": [
       "<matplotlib.image.AxesImage at 0x7f6522fcdf40>"
      ]
     },
     "execution_count": 331,
     "metadata": {},
     "output_type": "execute_result"
    },
    {
     "data": {
      "image/png": "[encoded data removed]",
      "text/plain": [
       "<Figure size 432x288 with 1 Axes>"
      ]
     },
     "metadata": {
      "needs_background": "light"
     },
     "output_type": "display_data"
    }
   ],
   "source": [
    "plt.imshow(recon[0,0])"
   ]
  },
  {
   "cell_type": "code",
   "execution_count": 332,
   "id": "277db81a",
   "metadata": {},
   "outputs": [
    {
     "data": {
      "text/plain": [
       "<matplotlib.image.AxesImage at 0x7f6522ea7550>"
      ]
     },
     "execution_count": 332,
     "metadata": {},
     "output_type": "execute_result"
    },
    {
     "data": {
      "image/png": "[encoded data removed]",
      "text/plain": [
       "<Figure size 432x288 with 1 Axes>"
      ]
     },
     "metadata": {
      "needs_background": "light"
     },
     "output_type": "display_data"
    }
   ],
   "source": [
    "plt.imshow(my_image[0,0,h:h_end,w:w_end])"
   ]
  },
  {
   "cell_type": "code",
   "execution_count": 436,
   "id": "d3ef0ed5",
   "metadata": {},
   "outputs": [
    {
     "name": "stdout",
     "output_type": "stream",
     "text": [
      "tensor([[0., 0., 0., 0., 0., 0., 0., 0., 0., 0.],\n",
      "        [0., 0., 0., 0., 0., 0., 0., 0., 0., 0.],\n",
      "        [0., 0., 0., 0., 0., 0., 0., 0., 0., 0.],\n",
      "        [0., 0., 0., 0., 0., 0., 0., 1., 0., 0.],\n",
      "        [0., 0., 0., 0., 0., 1., 0., 0., 0., 0.],\n",
      "        [0., 0., 0., 0., 0., 0., 0., 0., 0., 0.],\n",
      "        [0., 0., 0., 0., 0., 0., 0., 0., 0., 0.],\n",
      "        [0., 0., 0., 0., 0., 0., 0., 0., 0., 0.],\n",
      "        [0., 0., 0., 0., 0., 0., 0., 0., 0., 0.],\n",
      "        [0., 0., 0., 0., 0., 0., 0., 0., 0., 0.]])\n"
     ]
    }
   ],
   "source": [
    "# for k, v in tile_map_recon.items():\n",
    "#     print(f\"{k}\\t: {v.shape}\")\n",
    "    \n",
    "print(tile_map_recon[\"galaxy_bools\"][0, :, :, 0, 0])\n",
    "\n",
    "h_mask = 4\n",
    "w_mask = 5\n",
    "\n",
    "# h_mask = 3\n",
    "# w_mask = 7\n",
    "\n",
    "tile_map_one_galaxy = tile_map_recon.copy()\n",
    "tile_map_one_galaxy['is_on_array'] = tile_map_one_galaxy['is_on_array'].clone()\n",
    "tile_map_one_galaxy['galaxy_bools'] = tile_map_one_galaxy['galaxy_bools'].clone()\n",
    "tile_map_one_galaxy['n_sources'] = tile_map_one_galaxy['n_sources'].clone()\n",
    "tile_map_one_galaxy['galaxy_bools'][:, h_mask, w_mask] = 0.0\n",
    "tile_map_one_galaxy['is_on_array'][:, h_mask, w_mask] = 0.0\n",
    "tile_map_one_galaxy[\"n_sources\"][0, h_mask, w_mask] = 0\n",
    "\n",
    "# print(tile_map_recon[\"galaxy_bools\"][0, :, :, 0, 0])\n",
    "# print(tile_map_one_galaxy[\"galaxy_bools\"][0, :, :, 0, 0])\n",
    "# print(tile_map_one_galaxy[\"is_on_array\"][0, :, :, 0, 0])\n",
    "# print(tile_map_one_galaxy[\"star_bools\"][0, :, :, 0, 0])\n"
   ]
  },
  {
   "cell_type": "code",
   "execution_count": 437,
   "id": "8f81f6c8",
   "metadata": {},
   "outputs": [],
   "source": [
    "recon_one_galaxy = dec.cpu().render_images(\n",
    "        tile_map_one_galaxy[\"n_sources\"],\n",
    "        tile_map_one_galaxy[\"locs\"],\n",
    "        tile_map_one_galaxy[\"galaxy_bools\"],\n",
    "        tile_map_one_galaxy[\"galaxy_params\"],\n",
    "        tile_map_one_galaxy[\"fluxes\"],\n",
    ")\n",
    "recon_one_galaxy = recon_one_galaxy[:, :, bp:-bp, bp:-bp]"
   ]
  },
  {
   "cell_type": "code",
   "execution_count": 438,
   "id": "9b46b01a",
   "metadata": {},
   "outputs": [
    {
     "data": {
      "text/plain": [
       "<matplotlib.image.AxesImage at 0x7f651dbcb880>"
      ]
     },
     "execution_count": 438,
     "metadata": {},
     "output_type": "execute_result"
    },
    {
     "data": {
      "image/png": "[encoded data removed]",
      "text/plain": [
       "<Figure size 432x288 with 1 Axes>"
      ]
     },
     "metadata": {
      "needs_background": "light"
     },
     "output_type": "display_data"
    }
   ],
   "source": [
    "plt.imshow(recon_one_galaxy[0,0] + my_background[0,0,h:h_end,w:w_end], vmax=recon[0,0].max())"
   ]
  },
  {
   "cell_type": "code",
   "execution_count": 406,
   "id": "49277110",
   "metadata": {},
   "outputs": [
    {
     "data": {
      "text/plain": [
       "torch.Size([1, 10, 10, 1, 52, 52])"
      ]
     },
     "execution_count": 406,
     "metadata": {},
     "output_type": "execute_result"
    }
   ],
   "source": [
    "# Get padded tiles\n",
    "bp = 24\n",
    "example_blend = my_image[:,:,(h - bp):(h_end + bp),(w - bp):(w_end + bp)]\n",
    "example_bg = my_background[:,:,(h - bp):(h_end + bp),(w - bp):(w_end + bp)]\n",
    "example_ptiles = get_images_in_tiles(\n",
    "    subtract_bg_and_log_transform(example_blend, example_bg),\n",
    "    cfg.models.decoder.tile_slen, \n",
    "    cfg.models.decoder.ptile_slen\n",
    ") \n",
    "example_ptiles.shape"
   ]
  },
  {
   "cell_type": "code",
   "execution_count": 335,
   "id": "fca4742c",
   "metadata": {},
   "outputs": [
    {
     "data": {
      "text/plain": [
       "<matplotlib.image.AxesImage at 0x7f6522e13ee0>"
      ]
     },
     "execution_count": 335,
     "metadata": {},
     "output_type": "execute_result"
    },
    {
     "data": {
      "image/png": "[encoded data removed]",
      "text/plain": [
       "<Figure size 432x288 with 1 Axes>"
      ]
     },
     "metadata": {
      "needs_background": "light"
     },
     "output_type": "display_data"
    }
   ],
   "source": [
    "plt.imshow(example_ptiles[0, 4,5, 0])"
   ]
  },
  {
   "cell_type": "code",
   "execution_count": 336,
   "id": "8ed79c03",
   "metadata": {},
   "outputs": [],
   "source": [
    "var_params = encoder.location_encoder.encode(example_ptiles.cuda())"
   ]
  },
  {
   "cell_type": "code",
   "execution_count": 337,
   "id": "68091ef5",
   "metadata": {},
   "outputs": [],
   "source": [
    "locs = encoder.location_encoder.max_a_post(var_params)"
   ]
  },
  {
   "cell_type": "code",
   "execution_count": 338,
   "id": "f108559a",
   "metadata": {},
   "outputs": [],
   "source": [
    "centered_ptiles = encoder.galaxy_encoder.flatten_and_center_ptiles(example_ptiles.cuda(), locs['locs'])"
   ]
  },
  {
   "cell_type": "code",
   "execution_count": 339,
   "id": "92b430aa",
   "metadata": {},
   "outputs": [
    {
     "data": {
      "text/plain": [
       "tensor([[0., 0., 0., 0., 0., 0., 0., 0., 0., 0.],\n",
       "        [0., 0., 0., 0., 0., 0., 0., 0., 0., 0.],\n",
       "        [0., 0., 0., 0., 0., 0., 0., 0., 0., 0.],\n",
       "        [0., 0., 0., 0., 0., 0., 0., 1., 0., 0.],\n",
       "        [0., 0., 0., 0., 0., 1., 0., 0., 0., 0.],\n",
       "        [0., 0., 0., 0., 0., 0., 0., 0., 0., 0.],\n",
       "        [0., 0., 0., 0., 0., 0., 0., 0., 0., 0.],\n",
       "        [0., 0., 0., 0., 0., 0., 0., 0., 0., 0.],\n",
       "        [0., 0., 0., 0., 0., 0., 0., 0., 0., 0.],\n",
       "        [0., 0., 0., 0., 0., 0., 0., 0., 0., 0.]], device='cuda:0')"
      ]
     },
     "execution_count": 339,
     "metadata": {},
     "output_type": "execute_result"
    }
   ],
   "source": [
    "locs['is_on_array'][0, :, :, 0, 0]"
   ]
  },
  {
   "cell_type": "code",
   "execution_count": 342,
   "id": "0a022c2f",
   "metadata": {},
   "outputs": [
    {
     "data": {
      "text/plain": [
       "<matplotlib.image.AxesImage at 0x7f6522d328b0>"
      ]
     },
     "execution_count": 342,
     "metadata": {},
     "output_type": "execute_result"
    },
    {
     "data": {
      "image/png": "[encoded data removed]",
      "text/plain": [
       "<Figure size 432x288 with 1 Axes>"
      ]
     },
     "metadata": {
      "needs_background": "light"
     },
     "output_type": "display_data"
    }
   ],
   "source": [
    "plt.imshow(centered_ptiles[7 + 3 * 10, 0].detach().cpu())"
   ]
  },
  {
   "cell_type": "code",
   "execution_count": 343,
   "id": "2d7ae5ab",
   "metadata": {},
   "outputs": [
    {
     "data": {
      "text/plain": [
       "<matplotlib.image.AxesImage at 0x7f6522c9ecd0>"
      ]
     },
     "execution_count": 343,
     "metadata": {},
     "output_type": "execute_result"
    },
    {
     "data": {
      "image/png": "[encoded data removed]",
      "text/plain": [
       "<Figure size 432x288 with 1 Axes>"
      ]
     },
     "metadata": {
      "needs_background": "light"
     },
     "output_type": "display_data"
    }
   ],
   "source": [
    "plt.imshow(centered_ptiles[5 + 4 * 10, 0].detach().cpu())"
   ]
  },
  {
   "cell_type": "code",
   "execution_count": 346,
   "id": "da7f0544",
   "metadata": {},
   "outputs": [
    {
     "data": {
      "text/plain": [
       "tensor([[0.0000, 0.0000, 0.0000, 0.0000, 0.0000, 0.0000, 0.0000, 0.0000, 0.0000,\n",
       "         0.0000],\n",
       "        [0.0000, 0.0000, 0.0000, 0.0000, 0.0000, 0.0000, 0.0000, 0.0000, 0.0000,\n",
       "         0.0000],\n",
       "        [0.0000, 0.0000, 0.0000, 0.0000, 0.0000, 0.0000, 0.0000, 0.0000, 0.0000,\n",
       "         0.0000],\n",
       "        [0.0000, 0.0000, 0.0000, 0.0000, 0.0000, 0.0000, 0.0000, 0.9925, 0.0000,\n",
       "         0.0000],\n",
       "        [0.0000, 0.0000, 0.0000, 0.0000, 0.0000, 0.9999, 0.0000, 0.0000, 0.0000,\n",
       "         0.0000],\n",
       "        [0.0000, 0.0000, 0.0000, 0.0000, 0.0000, 0.0000, 0.0000, 0.0000, 0.0000,\n",
       "         0.0000],\n",
       "        [0.0000, 0.0000, 0.0000, 0.0000, 0.0000, 0.0000, 0.0000, 0.0000, 0.0000,\n",
       "         0.0000],\n",
       "        [0.0000, 0.0000, 0.0000, 0.0000, 0.0000, 0.0000, 0.0000, 0.0000, 0.0000,\n",
       "         0.0000],\n",
       "        [0.0000, 0.0000, 0.0000, 0.0000, 0.0000, 0.0000, 0.0000, 0.0000, 0.0000,\n",
       "         0.0000],\n",
       "        [0.0000, 0.0000, 0.0000, 0.0000, 0.0000, 0.0000, 0.0000, 0.0000, 0.0000,\n",
       "         0.0000]], device='cuda:0', grad_fn=<SelectBackward>)"
      ]
     },
     "execution_count": 346,
     "metadata": {},
     "output_type": "execute_result"
    }
   ],
   "source": [
    "galaxy_probs = encoder.binary_encoder(example_ptiles.cuda(), locs['locs'])\n",
    "locs['is_on_array'][0, :, :, 0, 0]\n",
    "(galaxy_probs * locs['is_on_array'])[0, :, :, 0, 0]"
   ]
  },
  {
   "cell_type": "code",
   "execution_count": 450,
   "id": "29f05442",
   "metadata": {},
   "outputs": [],
   "source": [
    "with torch.no_grad():\n",
    "    example_ptiles_no_log = get_images_in_tiles(\n",
    "        example_blend - example_bg,\n",
    "        cfg.models.decoder.tile_slen, \n",
    "        cfg.models.decoder.ptile_slen\n",
    "    ) \n",
    "    example_bg_tiles = get_images_in_tiles(\n",
    "        example_bg,\n",
    "        cfg.models.decoder.tile_slen, \n",
    "        cfg.models.decoder.ptile_slen\n",
    "    )\n",
    "    centered_ptiles_no_log = encoder.galaxy_encoder.flatten_and_center_ptiles(example_ptiles_no_log.cuda(), locs['locs'])\n",
    "    galaxy_params = encoder.galaxy_encoder.max_a_post(example_ptiles_no_log.cuda(), locs['locs'])"
   ]
  },
  {
   "cell_type": "code",
   "execution_count": 451,
   "id": "a7f46409",
   "metadata": {},
   "outputs": [
    {
     "data": {
      "text/plain": [
       "torch.Size([1, 10, 10, 1, 32])"
      ]
     },
     "execution_count": 451,
     "metadata": {},
     "output_type": "execute_result"
    }
   ],
   "source": [
    "galaxy_params.shape"
   ]
  },
  {
   "cell_type": "code",
   "execution_count": 480,
   "id": "76ca345b",
   "metadata": {},
   "outputs": [],
   "source": [
    "galaxy_shapes = dec.galaxy_tile_decoder.galaxy_decoder(galaxy_params.cpu() * locs['is_on_array'].cpu())"
   ]
  },
  {
   "cell_type": "code",
   "execution_count": 481,
   "id": "8f554f18",
   "metadata": {},
   "outputs": [],
   "source": [
    "galaxy_shapes = galaxy_shapes.reshape(1, 10, 10, 1, 53, 53)"
   ]
  },
  {
   "cell_type": "code",
   "execution_count": 484,
   "id": "eadca2ca",
   "metadata": {},
   "outputs": [
    {
     "name": "stdout",
     "output_type": "stream",
     "text": [
      "9\n"
     ]
    },
    {
     "data": {
      "text/plain": [
       "<matplotlib.image.AxesImage at 0x7f652256bd00>"
      ]
     },
     "execution_count": 484,
     "metadata": {},
     "output_type": "execute_result"
    },
    {
     "data": {
      "image/png": "[encoded data removed]",
      "text/plain": [
       "<Figure size 432x288 with 1 Axes>"
      ]
     },
     "metadata": {
      "needs_background": "light"
     },
     "output_type": "display_data"
    }
   ],
   "source": [
    "bp = galaxy_shapes.shape[-1] - centered_ptiles.shape[-1]\n",
    "print(bp)\n",
    "plt.imshow(galaxy_shapes.detach().cpu()[0, 4, 5, 0])"
   ]
  },
  {
   "cell_type": "code",
   "execution_count": 483,
   "id": "391c18ad",
   "metadata": {},
   "outputs": [
    {
     "data": {
      "text/plain": [
       "<matplotlib.image.AxesImage at 0x7f651d9a8490>"
      ]
     },
     "execution_count": 483,
     "metadata": {},
     "output_type": "execute_result"
    },
    {
     "data": {
      "image/png": "[encoded data removed]",
      "text/plain": [
       "<Figure size 432x288 with 1 Axes>"
      ]
     },
     "metadata": {
      "needs_background": "light"
     },
     "output_type": "display_data"
    }
   ],
   "source": [
    "plt.imshow(centered_ptiles_no_log[5 + 4 * 10, 0].detach().cpu())"
   ]
  },
  {
   "cell_type": "code",
   "execution_count": 473,
   "id": "45efb41e",
   "metadata": {},
   "outputs": [
    {
     "data": {
      "text/plain": [
       "tensor([     0.0018,      0.8023,      0.0333,      0.2268,     -0.0483,\n",
       "             0.0058,     -0.0008,      0.0132,      0.1535,     -0.0083,\n",
       "             0.0224,     -0.0769,      0.3641,     -0.0984,      0.0027,\n",
       "            -0.0234,     -0.0799,      0.0240,      0.0079,      0.0164,\n",
       "            -0.1033,     -0.0074,     -0.0057,     -0.0074,     -0.0095,\n",
       "            -0.4544,     -0.0435,     -0.0306,     -0.0086,     -0.0164,\n",
       "             0.0540,     -0.4650])"
      ]
     },
     "execution_count": 473,
     "metadata": {},
     "output_type": "execute_result"
    }
   ],
   "source": [
    "galaxy_params[0, 4, 5, 0].cpu()"
   ]
  },
  {
   "cell_type": "code",
   "execution_count": 440,
   "id": "ff6cca15",
   "metadata": {},
   "outputs": [
    {
     "data": {
      "text/plain": [
       "<matplotlib.image.AxesImage at 0x7f651db25610>"
      ]
     },
     "execution_count": 440,
     "metadata": {},
     "output_type": "execute_result"
    },
    {
     "data": {
      "image/png": "[encoded data removed]",
      "text/plain": [
       "<Figure size 432x288 with 1 Axes>"
      ]
     },
     "metadata": {
      "needs_background": "light"
     },
     "output_type": "display_data"
    }
   ],
   "source": [
    "plt.imshow(centered_ptiles_no_log[7 + 3 * 10, 0].detach().cpu())"
   ]
  },
  {
   "cell_type": "code",
   "execution_count": 469,
   "id": "8524b7eb",
   "metadata": {},
   "outputs": [
    {
     "data": {
      "text/plain": [
       "tensor([-0.0920,  0.8323, -0.0119,  0.3795, -0.0200,  0.0382,  0.0251,  0.0354,\n",
       "         0.0628,  0.0068, -0.0412,  0.0260,  0.5876,  0.0036,  0.0283,  0.0026,\n",
       "        -0.3035,  0.0174,  0.0283,  0.1693,  0.0819,  0.0078, -0.1913, -0.0334,\n",
       "        -0.0603, -0.5298, -0.0083, -0.0214, -0.0242, -0.0132,  0.2987, -0.4653])"
      ]
     },
     "execution_count": 469,
     "metadata": {},
     "output_type": "execute_result"
    }
   ],
   "source": [
    "torch.set_printoptions(sci_mode=False)\n",
    "galaxy_params[0, 3, 7, 0].cpu()"
   ]
  },
  {
   "cell_type": "code",
   "execution_count": 509,
   "id": "73ceba5e",
   "metadata": {},
   "outputs": [],
   "source": [
    "dec.cuda()\n",
    "image_ptiles_recon = dec._render_ptiles(\n",
    "    locs['n_sources'], locs['locs'], locs['is_on_array'], galaxy_params.cuda(), locs['fluxes']\n",
    ")\n",
    "centered_image_ptiles_recon = encoder.galaxy_encoder.flatten_and_center_ptiles(image_ptiles_recon, locs['locs'])"
   ]
  },
  {
   "cell_type": "code",
   "execution_count": 517,
   "id": "90928d91",
   "metadata": {},
   "outputs": [
    {
     "data": {
      "text/plain": [
       "<matplotlib.image.AxesImage at 0x7f651d5ac700>"
      ]
     },
     "execution_count": 517,
     "metadata": {},
     "output_type": "execute_result"
    },
    {
     "data": {
      "image/png": "[encoded data removed]",
      "text/plain": [
       "<Figure size 432x288 with 1 Axes>"
      ]
     },
     "metadata": {
      "needs_background": "light"
     },
     "output_type": "display_data"
    }
   ],
   "source": [
    "plt.imshow(\n",
    "    centered_image_ptiles_recon[3*10 + 7, 0].detach().cpu() + my_background[0,0,h:h_end,w:w_end].mean(), \n",
    "    vmax=recon[0,0].max()\n",
    ")"
   ]
  },
  {
   "cell_type": "code",
   "execution_count": 518,
   "id": "e452b37c",
   "metadata": {},
   "outputs": [
    {
     "data": {
      "text/plain": [
       "<matplotlib.image.AxesImage at 0x7f651d51a610>"
      ]
     },
     "execution_count": 518,
     "metadata": {},
     "output_type": "execute_result"
    },
    {
     "data": {
      "image/png": "[encoded data removed]",
      "text/plain": [
       "<Figure size 432x288 with 1 Axes>"
      ]
     },
     "metadata": {
      "needs_background": "light"
     },
     "output_type": "display_data"
    }
   ],
   "source": [
    "plt.imshow(\n",
    "    centered_image_ptiles_recon[4*10 + 5, 0].detach().cpu() + my_background[0,0,h:h_end,w:w_end].mean(), \n",
    "    vmax=recon[0,0].max()\n",
    ")"
   ]
  },
  {
   "cell_type": "code",
   "execution_count": null,
   "id": "96725504",
   "metadata": {},
   "outputs": [],
   "source": []
  }
 ],
 "metadata": {
  "kernelspec": {
   "display_name": "Python 3 (ipykernel)",
   "language": "python",
   "name": "python3"
  },
  "language_info": {
   "codemirror_mode": {
    "name": "ipython",
    "version": 3
   },
   "file_extension": ".py",
   "mimetype": "text/x-python",
   "name": "python",
   "nbconvert_exporter": "python",
   "pygments_lexer": "ipython3",
   "version": "3.8.10"
  }
 },
 "nbformat": 4,
 "nbformat_minor": 5
}

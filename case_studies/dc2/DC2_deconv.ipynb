{
 "cells": [
  {
   "cell_type": "markdown",
   "metadata": {},
   "source": [
    "### Generate Deconvolution Image"
   ]
  },
  {
   "cell_type": "code",
   "execution_count": 1,
   "metadata": {},
   "outputs": [],
   "source": [
    "import torch\n",
    "import numpy as np\n",
    "from os import environ\n",
    "from pathlib import Path\n",
    "\n",
    "from hydra import initialize, compose\n",
    "from hydra.utils import instantiate"
   ]
  },
  {
   "cell_type": "code",
   "execution_count": 19,
   "metadata": {},
   "outputs": [],
   "source": [
    "environ[\"BLISS_HOME\"] = str(Path().resolve().parents[1])\n",
    "with initialize(config_path=\".\", version_base=None):\n",
    "    cfg = compose(\"config\")\n",
    "\n",
    "dc2 = instantiate(cfg.surveys.dc2)\n",
    "dc2.prepare_data()"
   ]
  },
  {
   "cell_type": "code",
   "execution_count": 3,
   "metadata": {},
   "outputs": [],
   "source": [
    "def generate_gaussian_psf(size, center, sigma_x, sigma_y, sigma_xy):\n",
    "    x, y = np.meshgrid(np.arange(size[0]), np.arange(size[1]))\n",
    "    x_c, y_c = center\n",
    "    exponent = -((x - x_c) ** 2 / (2 * sigma_x ** 2) +\n",
    "                 (y - y_c) ** 2 / (2 * sigma_y ** 2) -\n",
    "                 sigma_xy * (x - x_c) * (y - y_c) / (sigma_x * sigma_y))\n",
    "    psf = np.exp(exponent)\n",
    "    return psf / torch.sum(psf)\n",
    "\n",
    "def generate_psf_image(avg_asm_x, avg_asm_y, avg_asm_xy):\n",
    "    size = (25, 25)  # Size of the PSF image\n",
    "\n",
    "    # Assuming the center of the PSF is at the center of the image\n",
    "    center = (size[0] // 2, size[1] // 2)\n",
    "\n",
    "    # Calculate standard deviations from the average ASM values\n",
    "    sigma_x = np.sqrt(avg_asm_x)\n",
    "    sigma_y = np.sqrt(avg_asm_y)\n",
    "\n",
    "    # Calculate covariance from the average ASM_xy value\n",
    "    sigma_xy = avg_asm_xy / (sigma_x * sigma_y)\n",
    "\n",
    "    psf = generate_gaussian_psf(size, center, sigma_x, sigma_y, sigma_xy)\n",
    "    return psf\n",
    "\n",
    "def get_psf_band(psf_params):\n",
    "    psf_image = []\n",
    "    for i in range(6):\n",
    "        psf_image.append(generate_psf_image(psf_params[i][0], psf_params[i][1], psf_params[i][2]))\n",
    "    \n",
    "    return psf_image\n",
    "\n",
    "from skimage.restoration import richardson_lucy\n",
    "def get_deconvolved_images(images, backgrounds, psfs):\n",
    "    deconv_images = np.zeros_like(images)\n",
    "    for band in range(6):\n",
    "        deconv_images[band] = deconvolve_image(\n",
    "            images[band], backgrounds[band], psfs[band]\n",
    "        )\n",
    "    return torch.from_numpy(deconv_images)\n",
    "\n",
    "def deconvolve_image(image, background, psf, pad=10):\n",
    "    padded_image = np.pad(image, pad, mode=\"constant\", constant_values=background.mean().item())\n",
    "    normalized = padded_image / np.max(padded_image)\n",
    "    deconv = richardson_lucy(normalized, psf)\n",
    "    return deconv[pad:-pad, pad:-pad]\n"
   ]
  },
  {
   "cell_type": "code",
   "execution_count": 23,
   "metadata": {},
   "outputs": [],
   "source": [
    "# save generated image to file\n",
    "psf_image = get_psf_band(dc2.dc2_data[0]['psf_params'])\n",
    "decolve = get_deconvolved_images(\n",
    "    dc2[0]['images'], \n",
    "    dc2[0]['background'], \n",
    "    torch.stack(psf_image).numpy()\n",
    ")\n",
    "torch.save(decolve, 'g-3828-0,0.pt')"
   ]
  }
 ],
 "metadata": {
  "kernelspec": {
   "display_name": "bliss-deblender-IlvvpPLR-py3.10",
   "language": "python",
   "name": "python3"
  },
  "language_info": {
   "codemirror_mode": {
    "name": "ipython",
    "version": 3
   },
   "file_extension": ".py",
   "mimetype": "text/x-python",
   "name": "python",
   "nbconvert_exporter": "python",
   "pygments_lexer": "ipython3",
   "version": "3.10.12"
  },
  "orig_nbformat": 4
 },
 "nbformat": 4,
 "nbformat_minor": 2
}

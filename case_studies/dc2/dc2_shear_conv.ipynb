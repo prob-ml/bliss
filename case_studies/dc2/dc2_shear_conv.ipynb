{
 "cells": [
  {
   "cell_type": "markdown",
   "metadata": {},
   "source": [
    "# Using DC2 and CosmoDC2 to Extract Shear and Convergence #"
   ]
  },
  {
   "cell_type": "code",
   "execution_count": 1,
   "metadata": {},
   "outputs": [],
   "source": [
    "%load_ext autoreload\n",
    "%autoreload 2\n",
    "%matplotlib inline"
   ]
  },
  {
   "cell_type": "markdown",
   "metadata": {},
   "source": [
    "note: commented portions of cells below to illustrate attempted methods that were suboptimal (esp. from dc2-linked tutorials), included for future observation"
   ]
  },
  {
   "cell_type": "code",
   "execution_count": 2,
   "metadata": {},
   "outputs": [],
   "source": [
    "import torch\n",
    "import numpy as np\n",
    "from os import environ\n",
    "from pathlib import Path\n",
    "from einops import rearrange\n",
    "\n",
    "import matplotlib.pyplot as plt\n",
    "import seaborn as sns\n",
    "import pandas as pd\n",
    "\n",
    "from hydra import initialize, compose\n",
    "from hydra.utils import instantiate\n",
    "import healpy as hp"
   ]
  },
  {
   "cell_type": "code",
   "execution_count": 3,
   "metadata": {},
   "outputs": [],
   "source": [
    "environ[\"BLISS_HOME\"] = str(Path().resolve().parents[1])\n",
    "with initialize(config_path=\".\", version_base=None):\n",
    "    cfg = compose(\"config\")\n",
    "train_dc2_cfg = cfg.copy()"
   ]
  },
  {
   "cell_type": "markdown",
   "metadata": {},
   "source": [
    "CosmoDC2 is REALLY big so we don't want to load all of its data into memory when accessing attributes. We set filters below that match dc2's piece of the sky since it's a subset of Cosmo's coverage. In the below cell, we load our DC2 catalog with the fields we are interested in and find the relevant sky quadrant, allowing us to build the filters."
   ]
  },
  {
   "cell_type": "code",
   "execution_count": 4,
   "metadata": {},
   "outputs": [
    {
     "name": "stdout",
     "output_type": "stream",
     "text": [
      "dict_keys(['ra', 'match_objectId', 'dec', 'redshift', 'cosmodc2_id', 'id', 'truth_type'])\n"
     ]
    }
   ],
   "source": [
    "import GCRCatalogs\n",
    "from GCRCatalogs import GCRQuery\n",
    "GCRCatalogs.set_root_dir(\"/data/dc2/\")\n",
    "truth_cat = GCRCatalogs.load_catalog('desc_dc2_run2.2i_dr6_truth')\n",
    "truth_data = truth_cat.get_quantities([\"id\", \"cosmodc2_id\", \"match_objectId\", \"ra\", \"dec\", \"truth_type\", \"redshift\"])\n",
    "\n",
    "max_ra = np.nanmax(truth_data['ra'])\n",
    "min_ra = np.nanmin(truth_data['ra'])\n",
    "max_dec = np.nanmax(truth_data['dec'])\n",
    "min_dec = np.nanmin(truth_data['dec'])\n",
    "pos_filters = [f'ra >= {min_ra}',f'ra <= {max_ra}', f'dec >= {min_dec}', f'dec <= {max_dec}']\n",
    "\n",
    "vertices = hp.ang2vec(np.array([min_ra, max_ra, max_ra, min_ra]),\n",
    "                      np.array([min_dec, min_dec, max_dec, max_dec]), lonlat=True)\n",
    "ipix = hp.query_polygon(32, vertices, inclusive=True)\n",
    "healpix_filter = GCRQuery((lambda h: np.isin(h, ipix, True), \"healpix_pixel\"))\n",
    "\n",
    "print(truth_data.keys())"
   ]
  },
  {
   "cell_type": "markdown",
   "metadata": {},
   "source": [
    "Next, load in CosmoDC2 and select the quantities we want bounded by the aforementioned filters"
   ]
  },
  {
   "cell_type": "code",
   "execution_count": 5,
   "metadata": {},
   "outputs": [],
   "source": [
    "config_overwrite = dict(\n",
    "    catalog_root_dir='/data/dc2/cosmoDC2'\n",
    ")\n",
    "\n",
    "cosmo_cat = GCRCatalogs.load_catalog('desc_cosmodc2', config_overwrite)"
   ]
  },
  {
   "cell_type": "code",
   "execution_count": 6,
   "metadata": {},
   "outputs": [
    {
     "name": "stdout",
     "output_type": "stream",
     "text": [
      "['A_v', 'sed_7843_486_bulge', 'mag_i_lsst', 'is_central', 'mag_Y_lsst_no_host_extinction', 'mag_z_lsst_no_host_extinction', 'Mag_true_r_sdss_z0', 'mag_z', 'mag_r_lsst_no_host_extinction', 'sed_3184_197_bulge', 'sed_3590_222_disk', 'sed_5467_339_bulge', 'sed_3812_236', 'size_minor_disk_true', 'sersic_disk', 'Mag_true_g_lsst_z0_no_host_extinction', 'Mag_true_r_lsst_z0_no_host_extinction', 'Mag_true_g_sdss_z0', 'size_minor_true', 'position_x', 'sed_5148_319_disk_no_host_extinction', 'sed_1246_306_bulge', 'sed_17402_2596_disk', 'mag_i', 'Mag_true_r_lsst_z0', 'sed_6166_382_bulge', 'sed_1246_306_disk', 'sed_7385_458', 'sed_3812_236_bulge', 'Mag_true_g_lsst_z0', 'mag_true_r_lsst_no_host_extinction', 'mag_true_g_sdss', 'sed_6166_382_disk', 'convergence', 'sed_2998_186_no_host_extinction', 'mag_true_Y_lsst_no_host_extinction', 'mag_true_g', 'sed_9978_1489_disk', 'sed_13177_1966_bulge_no_host_extinction', 'sed_5806_360', 'sed_2407_591_disk', 'sed_2407_591', 'mag_true_u_lsst', 'Mag_true_u_lsst_z0', 'redshift_true', 'sed_9978_1489_bulge', 'sed_4848_300_disk_no_host_extinction', 'sed_4565_283_disk', 'mag_true_u_sdss_no_host_extinction', 'Mag_true_y_lsst_z0', 'sed_17402_2596_no_host_extinction', 'A_v_bulge', 'sed_5467_339_disk', 'sed_1246_306', 'sed_8329_517_disk_no_host_extinction', 'sed_3381_209_bulge', 'sed_6166_382_no_host_extinction', 'sed_4848_300_no_host_extinction', 'sed_13177_1966_disk', 'sed_4848_300_disk', 'sed_11467_1710_bulge_no_host_extinction', 'mag_Y_lsst', 'ellipticity_true', 'Mag_true_z_lsst_z0_no_host_extinction', 'mag_true_g_lsst_no_host_extinction', 'mag_true_z', 'mag_true_u_lsst_no_host_extinction', 'sed_5806_360_no_host_extinction', 'sed_1552_381_bulge', 'mag_true_y', 'sed_13177_1966_disk_no_host_extinction', 'sed_5148_319_no_host_extinction', 'sed_1246_306_no_host_extinction', 'mag_g_sdss_no_host_extinction', 'sed_9978_1489_no_host_extinction', 'sed_5467_339_bulge_no_host_extinction', 'sed_15143_2259_bulge', 'ellipticity_2_disk_true_dc2', 'velocity_y', 'sed_6166_382_bulge_no_host_extinction', 'sed_5148_319_bulge_no_host_extinction', 'sed_6548_406', 'sed_11467_1710_disk_no_host_extinction', 'position_angle_true_phosim', 'sed_5467_339', 'Mag_true_z_sdss_z0_no_host_extinction', 'sed_6548_406_no_host_extinction', 'sed_3381_209_no_host_extinction', 'sed_9395_583_no_host_extinction', 'ellipticity_2_true', 'sed_5467_339_disk_no_host_extinction', 'mag_true_y_lsst_no_host_extinction', 'sed_2407_591_bulge', 'mag_true_r_sdss_no_host_extinction', 'sed_3381_209_disk', 'ra_true', 'sed_8846_549_disk', 'sed_3590_222_disk_no_host_extinction', 'sed_11467_1710_bulge', 'sed_17402_2596', 'sed_4565_283_no_host_extinction', 'mag_g_sdss', 'sed_8846_549_no_host_extinction', 'sed_1552_381_bulge_no_host_extinction', 'sed_15143_2259_disk_no_host_extinction', 'mag_u_sdss_no_host_extinction', 'R_v_bulge', 'mag_true_z_lsst_no_host_extinction', 'ellipticity_1_true', 'position_z', 'Mag_true_y_lsst_z0_no_host_extinction', 'sed_8329_517_disk', 'sed_7385_458_disk', 'sed_5148_319_disk', 'dec', 'sed_8329_517', 'Mag_true_u_lsst_z0_no_host_extinction', 'sed_3590_222', 'sed_7843_486_no_host_extinction', 'mag_true_y_lsst', 'sed_4299_266_disk_no_host_extinction', 'sed_13177_1966', 'sed_4048_251_disk', 'sed_9978_1489', 'sed_4299_266_bulge', 'galaxy_id', 'sed_17402_2596_bulge', 'sed_15143_2259', 'mag_true_i', 'mag_u_sdss', 'sed_2407_591_disk_no_host_extinction', 'sed_6954_431_no_host_extinction', 'sed_1246_306_disk_no_host_extinction', 'ellipticity_2_true_dc2', 'mag_true_z_sdss_no_host_extinction', 'sed_7843_486_bulge_no_host_extinction', 'sed_1552_381_disk', 'stellar_mass_bulge', 'mag_u_lsst', 'sed_4565_283_bulge_no_host_extinction', 'sed_6548_406_bulge', 'sed_4299_266_bulge_no_host_extinction', 'sed_2407_591_no_host_extinction', 'mag_true_r_sdss', 'sed_3184_197', 'sed_8846_549_disk_no_host_extinction', 'mag_true_r', 'mag_y_lsst_no_host_extinction', 'Mag_true_u_sdss_z0_no_host_extinction', 'halo_id', 'position_y', 'sed_2998_186_disk_no_host_extinction', 'sed_4048_251', 'sed_9978_1489_disk_no_host_extinction', 'sed_6954_431_disk', 'sed_2998_186_bulge', 'stellar_mass_disk', 'redshift', 'mag_y_lsst', 'Mag_true_i_lsst_z0', 'position_angle_true', 'sed_4848_300_bulge', 'sed_6548_406_disk', 'sed_1000_246_disk_no_host_extinction', 'mag_true_u_sdss', 'sed_9978_1489_bulge_no_host_extinction', 'sed_7385_458_bulge_no_host_extinction', 'mag_r_sdss', 'sed_5806_360_bulge', 'stellar_mass', 'bulge_to_total_ratio_i', 'Mag_true_z_lsst_z0', 'sed_5148_319', 'sed_13177_1966_bulge', 'sed_5806_360_disk', 'sed_6548_406_disk_no_host_extinction', 'mag_y', 'sed_7843_486_disk', 'mag_r', 'sed_5148_319_bulge', 'sed_9395_583_bulge', 'ellipticity_2_bulge_true_dc2', 'sed_9395_583_disk', 'mag_u', 'sed_11467_1710_no_host_extinction', 'shear_1', 'magnification', 'Mag_true_i_sdss_z0', 'sed_8846_549_bulge_no_host_extinction', 'mag_g', 'sed_4299_266_disk', 'mag_i_lsst_no_host_extinction', 'sed_1933_474', 'ellipticity_2_disk_true', 'sed_17402_2596_disk_no_host_extinction', 'sed_13177_1966_no_host_extinction', 'mag_true_u', 'A_v_disk', 'mag_z_lsst', 'Mag_true_Y_lsst_z0', 'Mag_true_Y_lsst_z0_no_host_extinction', 'sed_3184_197_bulge_no_host_extinction', 'mag_r_lsst', 'sed_5806_360_bulge_no_host_extinction', 'sed_2998_186_bulge_no_host_extinction', 'sed_3812_236_disk_no_host_extinction', 'mag_g_lsst_no_host_extinction', 'sed_1000_246_bulge', 'sed_8329_517_bulge_no_host_extinction', 'velocity_x', 'mag_g_lsst', 'sed_6954_431', 'shear_2_treecorr', 'sed_11467_1710', 'sed_4048_251_bulge_no_host_extinction', 'velocity_z', 'sed_3381_209_bulge_no_host_extinction', 'sed_4048_251_disk_no_host_extinction', 'sed_4565_283_disk_no_host_extinction', 'mag_true_i_lsst', 'sed_1246_306_bulge_no_host_extinction', 'sed_3812_236_bulge_no_host_extinction', 'ellipticity_2_bulge_true', 'sed_4048_251_no_host_extinction', 'sed_3590_222_bulge_no_host_extinction', 'sed_2998_186_disk', 'sed_6166_382_disk_no_host_extinction', 'sed_3590_222_no_host_extinction', 'ellipticity_disk_true', 'sed_8846_549', 'sed_3381_209', 'sed_1000_246_no_host_extinction', 'sed_9395_583_disk_no_host_extinction', 'sed_7385_458_disk_no_host_extinction', 'mag_true_z_sdss', 'sed_1000_246_disk', 'sed_1552_381', 'sed_3381_209_disk_no_host_extinction', 'ellipticity_1_disk_true_dc2', 'ellipticity_1_true_dc2', 'mag_true_i_sdss', 'sed_7385_458_no_host_extinction', 'R_v', 'sed_4048_251_bulge', 'sed_3184_197_no_host_extinction', 'sed_1000_246_bulge_no_host_extinction', 'sed_8329_517_no_host_extinction', 'mag_true_z_lsst', 'sed_3812_236_disk', 'sed_1552_381_no_host_extinction', 'sed_11467_1710_disk', 'sed_1933_474_disk', 'mag_true_r_lsst', 'mag_z_sdss_no_host_extinction', 'ellipticity_1_bulge_true_dc2', 'sed_6954_431_bulge', 'sed_1933_474_bulge_no_host_extinction', 'Mag_true_g_sdss_z0_no_host_extinction', 'ra', 'mag_u_lsst_no_host_extinction', 'Mag_true_i_sdss_z0_no_host_extinction', 'sed_1933_474_disk_no_host_extinction', 'sed_7843_486', 'mag_true_g_sdss_no_host_extinction', 'Mag_true_i_lsst_z0_no_host_extinction', 'sed_4299_266', 'sed_17402_2596_bulge_no_host_extinction', 'Mag_true_r_sdss_z0_no_host_extinction', 'sed_6954_431_disk_no_host_extinction', 'sed_15143_2259_bulge_no_host_extinction', 'sed_7843_486_disk_no_host_extinction', 'sed_5806_360_disk_no_host_extinction', 'halo_mass', 'sed_1933_474_no_host_extinction', 'ellipticity_bulge_true', 'position_angle_true_dc2', 'sed_7385_458_bulge', 'size_bulge_true', 'sed_1933_474_bulge', 'shear_2', 'shear_2_phosim', 'sed_4299_266_no_host_extinction', 'size_minor_bulge_true', 'size_disk_true', 'sed_1000_246', 'sed_4565_283', 'sed_4565_283_bulge', 'mag_true_i_lsst_no_host_extinction', 'size_true', 'mag_r_sdss_no_host_extinction', 'sed_3590_222_bulge', 'sed_4848_300', 'sed_3184_197_disk_no_host_extinction', 'sed_2998_186', 'sed_3812_236_no_host_extinction', 'sed_6166_382', 'sed_1552_381_disk_no_host_extinction', 'ellipticity_1_disk_true', 'sed_8846_549_bulge', 'Mag_true_z_sdss_z0', 'R_v_disk', 'sed_4848_300_bulge_no_host_extinction', 'sed_15143_2259_no_host_extinction', 'mag_i_sdss_no_host_extinction', 'mag_true_i_sdss_no_host_extinction', 'ellipticity_1_bulge_true', 'mag_true_g_lsst', 'sed_8329_517_bulge', 'sed_3184_197_disk', 'mag_true_Y_lsst', 'sed_5467_339_no_host_extinction', 'dec_true', 'sersic_bulge', 'sed_6954_431_bulge_no_host_extinction', 'sed_2407_591_bulge_no_host_extinction', 'Mag_true_u_sdss_z0', 'mag_z_sdss', 'sed_9395_583_bulge_no_host_extinction', 'mag_i_sdss', 'sed_6548_406_bulge_no_host_extinction', 'sed_9395_583', 'sed_15143_2259_disk']\n",
      "['flux_z', 'mag_i', 'match_objectId', 'tract', 'rv', 'mag_g', 'mag_z', 'host_galaxy', 'cosmodc2_id', 'flux_y', 'patch', 'mag_y', 'flux_u', 'flux_r', 'is_unique_truth_entry', 'is_good_match', 'ra', 'flux_g', 'dec', 'mag_r', 'match_sep', 'av', 'redshift', 'cosmodc2_hp', 'mag_u', 'id', 'truth_type', 'is_nearest_neighbor', 'id_string', 'flux_i']\n"
     ]
    }
   ],
   "source": [
    "print(cosmo_cat.list_all_quantities())\n",
    "print(truth_cat.list_all_quantities())"
   ]
  },
  {
   "cell_type": "code",
   "execution_count": 7,
   "metadata": {},
   "outputs": [
    {
     "name": "stdout",
     "output_type": "stream",
     "text": [
      "dict_keys(['galaxy_id', 'redshift_true', 'ra', 'shear_1', 'dec', 'convergence', 'redshift', 'shear_2'])\n"
     ]
    }
   ],
   "source": [
    "cosmo_data = cosmo_cat.get_quantities(quantities = [\"galaxy_id\", \"redshift\", \"redshift_true\", \"ra\", \"dec\", \"shear_1\", \"shear_2\", \"convergence\"], filters=pos_filters, native_filters=healpix_filter)\n",
    "print(cosmo_data.keys())"
   ]
  },
  {
   "cell_type": "markdown",
   "metadata": {},
   "source": [
    "#### Matching Attempt 1: Using example code from ####\n",
    "https://github.com/LSSTDESC/DC2-analysis/blob/253625a230d545f4ceb529aae58416ef7a768648/tutorials/matching_fof.ipynb\n",
    "\n",
    "Note: Do not actually run the commented cells below, takes forever and does not converge."
   ]
  },
  {
   "cell_type": "code",
   "execution_count": 8,
   "metadata": {},
   "outputs": [],
   "source": [
    "# cosmo = pd.DataFrame(cosmo_data)\n",
    "# tru = pd.DataFrame(truth_data)\n",
    "# import FoFCatalogMatching\n",
    "# results = FoFCatalogMatching.match(\n",
    "#     catalog_dict={'truth': tru, 'object': cosmo}, \n",
    "#     linking_lengths=1.0,\n",
    "# )"
   ]
  },
  {
   "cell_type": "code",
   "execution_count": 9,
   "metadata": {},
   "outputs": [],
   "source": [
    "# truth_mask = results['catalog_key'] == 'truth'\n",
    "# object_mask = ~truth_mask\n",
    "\n",
    "# # then np.bincount will give up the number of id occurrences (like historgram but with integer input)\n",
    "# n_groups = results['group_id'].max() + 1\n",
    "# n_truth = np.bincount(results['group_id'][truth_mask], minlength=n_groups)\n",
    "# print(n_truth[n_truth>10])\n",
    "# n_object = np.bincount(results['group_id'][object_mask], minlength=n_groups)\n",
    "\n",
    "# # now n_truth and n_object are the number of truth/object objects in each group\n",
    "# # we want to make a 2d histrogram of (n_truth, n_object). \n",
    "# n_max = max(n_truth.max(), n_object.max()) + 1\n",
    "# hist_2d = np.bincount(n_object * n_max + n_truth, minlength=n_max*n_max).reshape(n_max, n_max)\n",
    "\n",
    "# plt.imshow(np.log10(hist_2d+1), extent=(-0.5, n_max-0.5, -0.5, n_max-0.5), origin='lower');\n",
    "# plt.xlabel('Number of truth objects');\n",
    "# plt.ylabel('Number of object objects');\n",
    "# plt.colorbar(label=r'$\\log(N_{\\rm groups} \\, + \\, 1)$');"
   ]
  },
  {
   "cell_type": "code",
   "execution_count": 10,
   "metadata": {},
   "outputs": [],
   "source": [
    "# # Let's further inspect the objects in the groups that have 1-to-1 truth/object match.\n",
    "\n",
    "# # first, let's find our the IDs of the groups that have 1-to-1 truth/object match:\n",
    "# one_to_one_group_mask = np.in1d(results['group_id'], np.flatnonzero((n_truth == 1) & (n_object == 1)))\n",
    "\n",
    "# # and then we can find the row indices in the *original* truth/object catalogs for those 1-to-1 groups\n",
    "# truth_idx = results['row_index'][one_to_one_group_mask & truth_mask]\n",
    "# object_idx = results['row_index'][one_to_one_group_mask & object_mask]"
   ]
  },
  {
   "cell_type": "code",
   "execution_count": 11,
   "metadata": {},
   "outputs": [],
   "source": [
    "# with open(\"friends.pkl\", \"wb\") as f:\n",
    "#     pickle.dump(results, f)\n",
    "# print(\"saved friends\")"
   ]
  },
  {
   "cell_type": "markdown",
   "metadata": {},
   "source": [
    "#### Now, since that approach didn't work, let's try something that was attempted by @Xinyue: ####\n",
    "https://github.com/prob-ml/bliss/blob/master/case_studies/dc2/DC2_galaxy_psf_params.ipynb\n",
    "\n",
    "merging on galaxy_id and cosmodc2_id\n"
   ]
  },
  {
   "cell_type": "code",
   "execution_count": 12,
   "metadata": {},
   "outputs": [],
   "source": [
    "import pandas as pd\n",
    "df_data = pd.DataFrame(truth_data)\n",
    "df_galaxy = pd.DataFrame(cosmo_data)\n",
    "\n",
    "merge_data = df_data.merge(\n",
    "    df_galaxy, \n",
    "    left_on = \"cosmodc2_id\", \n",
    "    right_on = \"galaxy_id\", \n",
    "    how = \"inner\" \n",
    ")\n",
    "merge_data_fill = merge_data.dropna()"
   ]
  },
  {
   "cell_type": "code",
   "execution_count": 13,
   "metadata": {},
   "outputs": [],
   "source": [
    "merge_data.to_csv('/data/scratch/shreyasc/combined_idmatch_truth.csv')"
   ]
  },
  {
   "cell_type": "code",
   "execution_count": 14,
   "metadata": {},
   "outputs": [
    {
     "data": {
      "text/plain": [
       "(43408507, 15)"
      ]
     },
     "execution_count": 14,
     "metadata": {},
     "output_type": "execute_result"
    }
   ],
   "source": [
    "merge_data.shape"
   ]
  },
  {
   "cell_type": "markdown",
   "metadata": {},
   "source": [
    "#### Now, since we actually just care about shear and convergence at locations defined by {ra, dec}, let's try explicitly merging on those ####"
   ]
  },
  {
   "cell_type": "code",
   "execution_count": 15,
   "metadata": {},
   "outputs": [],
   "source": [
    "ra_dec_explicit_merge = pd.merge(df_data, df_galaxy, on=[\"ra\", \"dec\"], how='inner')"
   ]
  },
  {
   "cell_type": "code",
   "execution_count": 16,
   "metadata": {},
   "outputs": [],
   "source": [
    "ra_dec_explicit_merge.to_csv('/data/scratch/shreyasc/combined_ra_dec_merge_truth.csv')"
   ]
  },
  {
   "cell_type": "code",
   "execution_count": 17,
   "metadata": {},
   "outputs": [
    {
     "data": {
      "text/plain": [
       "(43408508, 13)"
      ]
     },
     "execution_count": 17,
     "metadata": {},
     "output_type": "execute_result"
    }
   ],
   "source": [
    "ra_dec_explicit_merge.shape"
   ]
  },
  {
   "cell_type": "code",
   "execution_count": 18,
   "metadata": {},
   "outputs": [
    {
     "data": {
      "text/html": [
       "<div>\n",
       "<style scoped>\n",
       "    .dataframe tbody tr th:only-of-type {\n",
       "        vertical-align: middle;\n",
       "    }\n",
       "\n",
       "    .dataframe tbody tr th {\n",
       "        vertical-align: top;\n",
       "    }\n",
       "\n",
       "    .dataframe thead th {\n",
       "        text-align: right;\n",
       "    }\n",
       "</style>\n",
       "<table border=\"1\" class=\"dataframe\">\n",
       "  <thead>\n",
       "    <tr style=\"text-align: right;\">\n",
       "      <th></th>\n",
       "      <th>ra_x</th>\n",
       "      <th>match_objectId</th>\n",
       "      <th>dec_x</th>\n",
       "      <th>redshift_x</th>\n",
       "      <th>cosmodc2_id</th>\n",
       "      <th>id</th>\n",
       "      <th>truth_type</th>\n",
       "      <th>galaxy_id</th>\n",
       "      <th>redshift_true</th>\n",
       "      <th>ra_y</th>\n",
       "      <th>shear_1</th>\n",
       "      <th>dec_y</th>\n",
       "      <th>convergence</th>\n",
       "      <th>redshift_y</th>\n",
       "      <th>shear_2</th>\n",
       "    </tr>\n",
       "  </thead>\n",
       "  <tbody>\n",
       "    <tr>\n",
       "      <th>0</th>\n",
       "      <td>56.851958</td>\n",
       "      <td>15982501021353368</td>\n",
       "      <td>-38.677521</td>\n",
       "      <td>1.782795</td>\n",
       "      <td>8757401501</td>\n",
       "      <td>8757401501</td>\n",
       "      <td>1</td>\n",
       "      <td>8757401501</td>\n",
       "      <td>1.779265</td>\n",
       "      <td>56.851958</td>\n",
       "      <td>-0.022370</td>\n",
       "      <td>-38.677521</td>\n",
       "      <td>-0.022032</td>\n",
       "      <td>1.782795</td>\n",
       "      <td>0.041324</td>\n",
       "    </tr>\n",
       "    <tr>\n",
       "      <th>1</th>\n",
       "      <td>56.799616</td>\n",
       "      <td>15982501021353393</td>\n",
       "      <td>-38.677104</td>\n",
       "      <td>0.592967</td>\n",
       "      <td>8750694182</td>\n",
       "      <td>8750694182</td>\n",
       "      <td>1</td>\n",
       "      <td>8750694182</td>\n",
       "      <td>0.593389</td>\n",
       "      <td>56.799616</td>\n",
       "      <td>-0.000660</td>\n",
       "      <td>-38.677104</td>\n",
       "      <td>0.004835</td>\n",
       "      <td>0.592967</td>\n",
       "      <td>-0.000362</td>\n",
       "    </tr>\n",
       "    <tr>\n",
       "      <th>2</th>\n",
       "      <td>56.883238</td>\n",
       "      <td>15982501021353397</td>\n",
       "      <td>-38.676882</td>\n",
       "      <td>1.072259</td>\n",
       "      <td>8752812073</td>\n",
       "      <td>8752812073</td>\n",
       "      <td>1</td>\n",
       "      <td>8752812073</td>\n",
       "      <td>1.072098</td>\n",
       "      <td>56.883238</td>\n",
       "      <td>-0.009312</td>\n",
       "      <td>-38.676882</td>\n",
       "      <td>-0.006825</td>\n",
       "      <td>1.072259</td>\n",
       "      <td>0.014221</td>\n",
       "    </tr>\n",
       "    <tr>\n",
       "      <th>3</th>\n",
       "      <td>56.858170</td>\n",
       "      <td>15982501021353414</td>\n",
       "      <td>-38.676674</td>\n",
       "      <td>0.232714</td>\n",
       "      <td>8750045581</td>\n",
       "      <td>8750045581</td>\n",
       "      <td>1</td>\n",
       "      <td>8750045581</td>\n",
       "      <td>0.232546</td>\n",
       "      <td>56.858170</td>\n",
       "      <td>-0.001958</td>\n",
       "      <td>-38.676674</td>\n",
       "      <td>-0.000179</td>\n",
       "      <td>0.232714</td>\n",
       "      <td>0.000761</td>\n",
       "    </tr>\n",
       "    <tr>\n",
       "      <th>4</th>\n",
       "      <td>56.889715</td>\n",
       "      <td>15982501021353419</td>\n",
       "      <td>-38.676423</td>\n",
       "      <td>0.865789</td>\n",
       "      <td>8751841300</td>\n",
       "      <td>8751841300</td>\n",
       "      <td>1</td>\n",
       "      <td>8751841300</td>\n",
       "      <td>0.865677</td>\n",
       "      <td>56.889715</td>\n",
       "      <td>-0.008540</td>\n",
       "      <td>-38.676423</td>\n",
       "      <td>-0.004813</td>\n",
       "      <td>0.865789</td>\n",
       "      <td>0.007185</td>\n",
       "    </tr>\n",
       "  </tbody>\n",
       "</table>\n",
       "</div>"
      ],
      "text/plain": [
       "        ra_x     match_objectId      dec_x  redshift_x  cosmodc2_id  \\\n",
       "0  56.851958  15982501021353368 -38.677521    1.782795   8757401501   \n",
       "1  56.799616  15982501021353393 -38.677104    0.592967   8750694182   \n",
       "2  56.883238  15982501021353397 -38.676882    1.072259   8752812073   \n",
       "3  56.858170  15982501021353414 -38.676674    0.232714   8750045581   \n",
       "4  56.889715  15982501021353419 -38.676423    0.865789   8751841300   \n",
       "\n",
       "           id  truth_type   galaxy_id  redshift_true       ra_y   shear_1  \\\n",
       "0  8757401501           1  8757401501       1.779265  56.851958 -0.022370   \n",
       "1  8750694182           1  8750694182       0.593389  56.799616 -0.000660   \n",
       "2  8752812073           1  8752812073       1.072098  56.883238 -0.009312   \n",
       "3  8750045581           1  8750045581       0.232546  56.858170 -0.001958   \n",
       "4  8751841300           1  8751841300       0.865677  56.889715 -0.008540   \n",
       "\n",
       "       dec_y  convergence  redshift_y   shear_2  \n",
       "0 -38.677521    -0.022032    1.782795  0.041324  \n",
       "1 -38.677104     0.004835    0.592967 -0.000362  \n",
       "2 -38.676882    -0.006825    1.072259  0.014221  \n",
       "3 -38.676674    -0.000179    0.232714  0.000761  \n",
       "4 -38.676423    -0.004813    0.865789  0.007185  "
      ]
     },
     "execution_count": 18,
     "metadata": {},
     "output_type": "execute_result"
    }
   ],
   "source": [
    "merge_data.head()"
   ]
  },
  {
   "cell_type": "code",
   "execution_count": 19,
   "metadata": {},
   "outputs": [
    {
     "data": {
      "text/html": [
       "<div>\n",
       "<style scoped>\n",
       "    .dataframe tbody tr th:only-of-type {\n",
       "        vertical-align: middle;\n",
       "    }\n",
       "\n",
       "    .dataframe tbody tr th {\n",
       "        vertical-align: top;\n",
       "    }\n",
       "\n",
       "    .dataframe thead th {\n",
       "        text-align: right;\n",
       "    }\n",
       "</style>\n",
       "<table border=\"1\" class=\"dataframe\">\n",
       "  <thead>\n",
       "    <tr style=\"text-align: right;\">\n",
       "      <th></th>\n",
       "      <th>ra</th>\n",
       "      <th>match_objectId</th>\n",
       "      <th>dec</th>\n",
       "      <th>redshift_x</th>\n",
       "      <th>cosmodc2_id</th>\n",
       "      <th>id</th>\n",
       "      <th>truth_type</th>\n",
       "      <th>galaxy_id</th>\n",
       "      <th>redshift_true</th>\n",
       "      <th>shear_1</th>\n",
       "      <th>convergence</th>\n",
       "      <th>redshift_y</th>\n",
       "      <th>shear_2</th>\n",
       "    </tr>\n",
       "  </thead>\n",
       "  <tbody>\n",
       "    <tr>\n",
       "      <th>0</th>\n",
       "      <td>56.851958</td>\n",
       "      <td>15982501021353368</td>\n",
       "      <td>-38.677521</td>\n",
       "      <td>1.782795</td>\n",
       "      <td>8757401501</td>\n",
       "      <td>8757401501</td>\n",
       "      <td>1</td>\n",
       "      <td>8757401501</td>\n",
       "      <td>1.779265</td>\n",
       "      <td>-0.022370</td>\n",
       "      <td>-0.022032</td>\n",
       "      <td>1.782795</td>\n",
       "      <td>0.041324</td>\n",
       "    </tr>\n",
       "    <tr>\n",
       "      <th>1</th>\n",
       "      <td>56.799616</td>\n",
       "      <td>15982501021353393</td>\n",
       "      <td>-38.677104</td>\n",
       "      <td>0.592967</td>\n",
       "      <td>8750694182</td>\n",
       "      <td>8750694182</td>\n",
       "      <td>1</td>\n",
       "      <td>8750694182</td>\n",
       "      <td>0.593389</td>\n",
       "      <td>-0.000660</td>\n",
       "      <td>0.004835</td>\n",
       "      <td>0.592967</td>\n",
       "      <td>-0.000362</td>\n",
       "    </tr>\n",
       "    <tr>\n",
       "      <th>2</th>\n",
       "      <td>56.883238</td>\n",
       "      <td>15982501021353397</td>\n",
       "      <td>-38.676882</td>\n",
       "      <td>1.072259</td>\n",
       "      <td>8752812073</td>\n",
       "      <td>8752812073</td>\n",
       "      <td>1</td>\n",
       "      <td>8752812073</td>\n",
       "      <td>1.072098</td>\n",
       "      <td>-0.009312</td>\n",
       "      <td>-0.006825</td>\n",
       "      <td>1.072259</td>\n",
       "      <td>0.014221</td>\n",
       "    </tr>\n",
       "    <tr>\n",
       "      <th>3</th>\n",
       "      <td>56.858170</td>\n",
       "      <td>15982501021353414</td>\n",
       "      <td>-38.676674</td>\n",
       "      <td>0.232714</td>\n",
       "      <td>8750045581</td>\n",
       "      <td>8750045581</td>\n",
       "      <td>1</td>\n",
       "      <td>8750045581</td>\n",
       "      <td>0.232546</td>\n",
       "      <td>-0.001958</td>\n",
       "      <td>-0.000179</td>\n",
       "      <td>0.232714</td>\n",
       "      <td>0.000761</td>\n",
       "    </tr>\n",
       "    <tr>\n",
       "      <th>4</th>\n",
       "      <td>56.889715</td>\n",
       "      <td>15982501021353419</td>\n",
       "      <td>-38.676423</td>\n",
       "      <td>0.865789</td>\n",
       "      <td>8751841300</td>\n",
       "      <td>8751841300</td>\n",
       "      <td>1</td>\n",
       "      <td>8751841300</td>\n",
       "      <td>0.865677</td>\n",
       "      <td>-0.008540</td>\n",
       "      <td>-0.004813</td>\n",
       "      <td>0.865789</td>\n",
       "      <td>0.007185</td>\n",
       "    </tr>\n",
       "  </tbody>\n",
       "</table>\n",
       "</div>"
      ],
      "text/plain": [
       "          ra     match_objectId        dec  redshift_x  cosmodc2_id  \\\n",
       "0  56.851958  15982501021353368 -38.677521    1.782795   8757401501   \n",
       "1  56.799616  15982501021353393 -38.677104    0.592967   8750694182   \n",
       "2  56.883238  15982501021353397 -38.676882    1.072259   8752812073   \n",
       "3  56.858170  15982501021353414 -38.676674    0.232714   8750045581   \n",
       "4  56.889715  15982501021353419 -38.676423    0.865789   8751841300   \n",
       "\n",
       "           id  truth_type   galaxy_id  redshift_true   shear_1  convergence  \\\n",
       "0  8757401501           1  8757401501       1.779265 -0.022370    -0.022032   \n",
       "1  8750694182           1  8750694182       0.593389 -0.000660     0.004835   \n",
       "2  8752812073           1  8752812073       1.072098 -0.009312    -0.006825   \n",
       "3  8750045581           1  8750045581       0.232546 -0.001958    -0.000179   \n",
       "4  8751841300           1  8751841300       0.865677 -0.008540    -0.004813   \n",
       "\n",
       "   redshift_y   shear_2  \n",
       "0    1.782795  0.041324  \n",
       "1    0.592967 -0.000362  \n",
       "2    1.072259  0.014221  \n",
       "3    0.232714  0.000761  \n",
       "4    0.865789  0.007185  "
      ]
     },
     "execution_count": 19,
     "metadata": {},
     "output_type": "execute_result"
    }
   ],
   "source": [
    "ra_dec_explicit_merge.head()"
   ]
  },
  {
   "cell_type": "markdown",
   "metadata": {},
   "source": [
    "#### Sanity Check of the ra / dec from the initial merge ####"
   ]
  },
  {
   "cell_type": "code",
   "execution_count": 20,
   "metadata": {},
   "outputs": [
    {
     "data": {
      "text/plain": [
       "0.0"
      ]
     },
     "execution_count": 20,
     "metadata": {},
     "output_type": "execute_result"
    }
   ],
   "source": [
    "(merge_data[\"ra_x\"] - merge_data[\"ra_y\"]).mean()"
   ]
  },
  {
   "cell_type": "code",
   "execution_count": 21,
   "metadata": {},
   "outputs": [
    {
     "data": {
      "text/plain": [
       "0.0"
      ]
     },
     "execution_count": 21,
     "metadata": {},
     "output_type": "execute_result"
    }
   ],
   "source": [
    "(merge_data[\"dec_x\"] - merge_data[\"dec_y\"]).mean()"
   ]
  },
  {
   "cell_type": "code",
   "execution_count": 22,
   "metadata": {},
   "outputs": [
    {
     "data": {
      "text/plain": [
       "0.0001810707004943611"
      ]
     },
     "execution_count": 22,
     "metadata": {},
     "output_type": "execute_result"
    }
   ],
   "source": [
    "(merge_data[\"redshift_true\"] - merge_data[\"redshift_x\"]).mean()"
   ]
  },
  {
   "cell_type": "markdown",
   "metadata": {},
   "source": [
    "Note via @declan: redshift in cosmoDC2 and DC2 truth table were significantly different for common id's. Could be a possible bug in the id-matching. Update: this is not the case in our findings."
   ]
  }
 ],
 "metadata": {
  "kernelspec": {
   "display_name": ".venv",
   "language": "python",
   "name": "python3"
  },
  "language_info": {
   "codemirror_mode": {
    "name": "ipython",
    "version": 3
   },
   "file_extension": ".py",
   "mimetype": "text/x-python",
   "name": "python",
   "nbconvert_exporter": "python",
   "pygments_lexer": "ipython3",
   "version": "3.10.12"
  }
 },
 "nbformat": 4,
 "nbformat_minor": 2
}

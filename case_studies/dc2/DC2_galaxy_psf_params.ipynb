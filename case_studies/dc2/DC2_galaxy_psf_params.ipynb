{
 "cells": [
  {
   "cell_type": "markdown",
   "metadata": {},
   "source": [
    "This notebook present the steps to generate merged catalog files. The reason that we need to generate such files is that:\n",
    "\n",
    "1. Bliss needs input parameters that contains psf, fluxes, location, source type, galaxy related parameters, but the truth catalog in DC2 does not provide galaxy parameters or psf\n",
    "2. To get those parameter, we need to use CosmoDC2 dataset and truth-match table, where the galaxy parameters and psf are stored.\n",
    "3. To save the time for multiple merging when loading the data, we store the merged dataset into corresponding merged_catalog_{}.pkl files"
   ]
  },
  {
   "cell_type": "markdown",
   "metadata": {},
   "source": [
    "### Load Catalog"
   ]
  },
  {
   "cell_type": "markdown",
   "metadata": {},
   "source": [
    "Use [GCRCatalogs](https://data.lsstdesc.org/doc/install_gcr) package to load the dc2 truth catalog and CosomoDC2.\n",
    "\n",
    "\n"
   ]
  },
  {
   "cell_type": "code",
   "execution_count": 4,
   "metadata": {},
   "outputs": [],
   "source": [
    "import pickle"
   ]
  },
  {
   "cell_type": "code",
   "execution_count": 1,
   "metadata": {},
   "outputs": [],
   "source": [
    "import GCRCatalogs\n",
    "GCRCatalogs.set_root_dir(\"/nfs/turbo/lsa-regier/lsstdesc-public/dc2\")\n",
    "truth_cat = GCRCatalogs.load_catalog('desc_dc2_run2.2i_dr6_truth') \n",
    "data = truth_cat.get_quantities([\n",
    "    \"id\", \"match_objectId\", \"cosmodc2_id\", \"ra\", \"dec\", \"truth_type\", \n",
    "    \"flux_g\", \"flux_i\", \"flux_r\", \"flux_u\", \"flux_y\", \"flux_z\"\n",
    "])"
   ]
  },
  {
   "cell_type": "code",
   "execution_count": null,
   "metadata": {},
   "outputs": [],
   "source": [
    "# with open(\"truth_catalog.pkl\", \"rb\") as inputp: \n",
    "#     data = pickle.load(inputp)"
   ]
  },
  {
   "cell_type": "code",
   "execution_count": 5,
   "metadata": {},
   "outputs": [],
   "source": [
    "with open(\"truth_catalog.pkl\", \"wb\") as outp:  # Overwrites any existing file.\n",
    "    pickle.dump(data, outp, pickle.HIGHEST_PROTOCOL)"
   ]
  },
  {
   "cell_type": "code",
   "execution_count": 2,
   "metadata": {},
   "outputs": [
    {
     "data": {
      "text/plain": [
       "(array([3.175377e+06, 1.132889e+06, 5.899460e+05, 3.596190e+05,\n",
       "        2.381400e+05, 1.828870e+05, 1.343980e+05, 1.002880e+05,\n",
       "        8.036700e+04, 6.964100e+04, 6.158800e+04, 5.298700e+04,\n",
       "        4.649800e+04, 4.028000e+04, 3.553400e+04, 3.230400e+04,\n",
       "        2.993200e+04, 2.708800e+04, 2.480700e+04, 2.285300e+04,\n",
       "        2.125400e+04, 1.940200e+04, 1.818500e+04, 1.666500e+04,\n",
       "        1.565800e+04, 1.442600e+04, 1.351000e+04, 1.272700e+04,\n",
       "        1.207000e+04, 1.127800e+04, 1.054500e+04, 1.018200e+04,\n",
       "        9.575000e+03, 9.251000e+03, 8.921000e+03, 8.425000e+03,\n",
       "        7.872000e+03, 7.439000e+03, 7.145000e+03, 6.899000e+03,\n",
       "        6.521000e+03, 6.382000e+03, 5.963000e+03, 5.804000e+03,\n",
       "        5.551000e+03, 5.158000e+03, 5.053000e+03, 4.933000e+03,\n",
       "        4.578000e+03, 4.533000e+03, 4.317000e+03, 4.112000e+03,\n",
       "        4.096000e+03, 3.888000e+03, 3.724000e+03, 3.515000e+03,\n",
       "        3.467000e+03, 3.278000e+03, 3.084000e+03, 3.104000e+03,\n",
       "        2.929000e+03, 2.899000e+03, 2.791000e+03, 2.663000e+03,\n",
       "        2.654000e+03, 2.472000e+03, 2.450000e+03, 2.329000e+03,\n",
       "        2.339000e+03, 2.305000e+03, 2.299000e+03, 2.120000e+03,\n",
       "        2.156000e+03, 2.028000e+03, 2.003000e+03, 2.002000e+03,\n",
       "        1.948000e+03, 1.829000e+03, 1.864000e+03, 1.854000e+03,\n",
       "        1.684000e+03, 1.645000e+03, 1.675000e+03, 1.560000e+03,\n",
       "        1.530000e+03, 1.456000e+03, 1.449000e+03, 1.440000e+03,\n",
       "        1.382000e+03, 1.341000e+03, 1.390000e+03, 1.298000e+03,\n",
       "        1.268000e+03, 1.227000e+03, 1.245000e+03, 1.262000e+03,\n",
       "        1.178000e+03, 1.185000e+03, 1.167000e+03]),\n",
       " array([  100.,   200.,   300.,   400.,   500.,   600.,   700.,   800.,\n",
       "          900.,  1000.,  1100.,  1200.,  1300.,  1400.,  1500.,  1600.,\n",
       "         1700.,  1800.,  1900.,  2000.,  2100.,  2200.,  2300.,  2400.,\n",
       "         2500.,  2600.,  2700.,  2800.,  2900.,  3000.,  3100.,  3200.,\n",
       "         3300.,  3400.,  3500.,  3600.,  3700.,  3800.,  3900.,  4000.,\n",
       "         4100.,  4200.,  4300.,  4400.,  4500.,  4600.,  4700.,  4800.,\n",
       "         4900.,  5000.,  5100.,  5200.,  5300.,  5400.,  5500.,  5600.,\n",
       "         5700.,  5800.,  5900.,  6000.,  6100.,  6200.,  6300.,  6400.,\n",
       "         6500.,  6600.,  6700.,  6800.,  6900.,  7000.,  7100.,  7200.,\n",
       "         7300.,  7400.,  7500.,  7600.,  7700.,  7800.,  7900.,  8000.,\n",
       "         8100.,  8200.,  8300.,  8400.,  8500.,  8600.,  8700.,  8800.,\n",
       "         8900.,  9000.,  9100.,  9200.,  9300.,  9400.,  9500.,  9600.,\n",
       "         9700.,  9800.,  9900., 10000.]),\n",
       " <BarContainer object of 99 artists>)"
      ]
     },
     "execution_count": 2,
     "metadata": {},
     "output_type": "execute_result"
    },
    {
     "data": {
      "image/png": "[encoded data removed]",
      "text/plain": [
       "<Figure size 640x480 with 1 Axes>"
      ]
     },
     "metadata": {},
     "output_type": "display_data"
    }
   ],
   "source": [
    "import matplotlib.pyplot as plt\n",
    "import numpy as np\n",
    "plt.hist(data[\"flux_r\"], np.linspace(100, 10000, num=100))"
   ]
  },
  {
   "cell_type": "code",
   "execution_count": 3,
   "metadata": {},
   "outputs": [],
   "source": [
    "config_overwrite = dict(\n",
    "    catalog_root_dir='/nfs/turbo/lsa-regier/lsstdesc-public/dc2/cosmoDC2'\n",
    ")\n",
    "# take long time to load (around 10 mins for 59 files)\n",
    "galaxy_cat = GCRCatalogs.load_catalog('desc_cosmodc2', config_overwrite)\n",
    "galaxy = galaxy_cat.get_quantities([\n",
    "    \"galaxy_id\", \"position_angle_true\", \"size_minor_disk_true\", \n",
    "    \"size_disk_true\", \"size_minor_bulge_true\", \n",
    "    \"size_bulge_true\", \"bulge_to_total_ratio_i\"\n",
    "])"
   ]
  },
  {
   "cell_type": "code",
   "execution_count": null,
   "metadata": {},
   "outputs": [],
   "source": [
    "# with open(\"galaxy_catalog.pkl\", \"rb\") as inputp: \n",
    "#     galaxy = pickle.load(inputp)"
   ]
  },
  {
   "cell_type": "code",
   "execution_count": 6,
   "metadata": {},
   "outputs": [],
   "source": [
    "with open(\"galaxy_catalog.pkl\", \"wb\") as outp:  # Overwrites any existing file.\n",
    "    pickle.dump(galaxy, outp, pickle.HIGHEST_PROTOCOL)"
   ]
  },
  {
   "cell_type": "code",
   "execution_count": 7,
   "metadata": {},
   "outputs": [
    {
     "data": {
      "text/plain": [
       "{'size_disk_true': array([4.85925128, 2.69879709, 2.92465794, ..., 0.08521226, 0.12658006,\n",
       "        0.02880655]),\n",
       " 'galaxy_id': array([4875000000, 4875000001, 4875000002, ..., 8833313730, 8833313731,\n",
       "        8833313732]),\n",
       " 'size_minor_disk_true': array([3.7313538 , 1.9438807 , 1.9659876 , ..., 0.07458806, 0.09246379,\n",
       "        0.027417  ], dtype=float32),\n",
       " 'position_angle_true': array([ -13.96177   , -132.93484   , -139.4315    , ...,   -0.59160334,\n",
       "        -106.06896   ,  -61.614918  ], dtype=float32),\n",
       " 'bulge_to_total_ratio_i': array([0.        , 0.19726579, 0.        , ..., 0.        , 0.9996779 ,\n",
       "        0.87273836], dtype=float32),\n",
       " 'size_minor_bulge_true': array([2.193533  , 1.4420476 , 1.4618797 , ..., 0.0412369 , 0.05520297,\n",
       "        0.01542215], dtype=float32),\n",
       " 'size_bulge_true': array([2.25638078, 1.46839025, 1.47312816, ..., 0.04164793, 0.06016316,\n",
       "        0.01544732])}"
      ]
     },
     "execution_count": 7,
     "metadata": {},
     "output_type": "execute_result"
    }
   ],
   "source": [
    "galaxy"
   ]
  },
  {
   "cell_type": "code",
   "execution_count": 8,
   "metadata": {},
   "outputs": [],
   "source": [
    "import GCRCatalogs\n",
    "match_cat = GCRCatalogs.load_catalog('desc_dc2_run2.2i_dr6_object_with_truth_match')\n",
    "psf_params = match_cat.get_quantities([\n",
    "    \"objectId\", \"IxxPSF_pixel_g\", \"IxxPSF_pixel_z\", \n",
    "    \"IxxPSF_pixel_r\", \"IxxPSF_pixel_i\", \"IxxPSF_pixel_u\", \n",
    "    \"IxxPSF_pixel_y\", \"IyyPSF_pixel_g\", \"IyyPSF_pixel_z\", \n",
    "    \"IyyPSF_pixel_r\", \"IyyPSF_pixel_i\", \"IyyPSF_pixel_u\", \n",
    "    \"IyyPSF_pixel_y\", \"IxyPSF_pixel_g\", \"IxyPSF_pixel_z\", \n",
    "    \"IxyPSF_pixel_r\", \"IxyPSF_pixel_i\", \"IxyPSF_pixel_u\", \n",
    "    \"IxyPSF_pixel_y\", \"psf_fwhm_g\", \"psf_fwhm_z\", \"psf_fwhm_r\",\n",
    "    \"psf_fwhm_i\", \"psf_fwhm_u\", \"psf_fwhm_y\"\n",
    "])"
   ]
  },
  {
   "cell_type": "code",
   "execution_count": null,
   "metadata": {},
   "outputs": [],
   "source": [
    "# with open(\"match_catalog.pkl\", \"rb\") as inputp: \n",
    "#     psf_params = pickle.load(inputp)"
   ]
  },
  {
   "cell_type": "code",
   "execution_count": 9,
   "metadata": {},
   "outputs": [],
   "source": [
    "with open(\"psf_catalog.pkl\", \"wb\") as outp:  # Overwrites any existing file.\n",
    "    pickle.dump(psf_params, outp, pickle.HIGHEST_PROTOCOL)"
   ]
  },
  {
   "cell_type": "code",
   "execution_count": 10,
   "metadata": {},
   "outputs": [
    {
     "data": {
      "text/plain": [
       "{'objectId': array([15982501021353368, 15982501021353393, 15982501021353397, ...,\n",
       "        17711783703784924, 17711783703784925, 17711783703784926]),\n",
       " 'psf_fwhm_y': array([1.18745327, 1.18189992, 1.18361326, ..., 1.17228399, 1.18068899,\n",
       "        1.18480986]),\n",
       " 'IxyPSF_pixel_y': array([-0.00098774, -0.00331132, -0.00090126, ...,  0.01116652,\n",
       "         0.0050286 ,  0.00807303]),\n",
       " 'IxyPSF_pixel_u': array([ 0.00633279, -0.00346212, -0.00858512, ..., -0.06341346,\n",
       "        -0.07466684, -0.06341346]),\n",
       " 'IxxPSF_pixel_i': array([3.04258083, 3.04619726, 3.03737801, ..., 2.98516432, 2.99806998,\n",
       "        2.99806784]),\n",
       " 'IyyPSF_pixel_u': array([3.66753625, 3.59678558, 3.6212905 , ..., 3.56181499, 3.71226116,\n",
       "        3.56181499]),\n",
       " 'IxyPSF_pixel_i': array([ 0.00109012,  0.00133839,  0.00078231, ..., -0.00015337,\n",
       "         0.00023225,  0.00024658]),\n",
       " 'IyyPSF_pixel_g': array([3.09058663, 3.21323694, 3.06717577, ..., 3.50173742, 3.39988389,\n",
       "        3.47086688]),\n",
       " 'IxyPSF_pixel_z': array([ 0.00185848,  0.00121015,  0.00973631, ..., -0.00326858,\n",
       "         0.00528858,  0.00475723]),\n",
       " 'psf_fwhm_i': array([0.81996402, 0.82043243, 0.81928485, ..., 0.81247516, 0.81423787,\n",
       "        0.81423972]),\n",
       " 'IyyPSF_pixel_z': array([3.86639905, 4.01451532, 3.9037945 , ..., 3.91949953, 3.80949891,\n",
       "        3.82600798]),\n",
       " 'IxxPSF_pixel_u': array([4.160385  , 4.07596782, 4.09110526, ..., 4.1145291 , 4.25599682,\n",
       "        4.1145291 ]),\n",
       " 'IxyPSF_pixel_r': array([ 0.00104744,  0.00091297,  0.00353907, ..., -0.00716225,\n",
       "        -0.00654441, -0.00729363]),\n",
       " 'psf_fwhm_g': array([0.85125767, 0.86777895, 0.84734194, ..., 0.90226414, 0.89034038,\n",
       "        0.8997597 ]),\n",
       " 'IxxPSF_pixel_y': array([6.35885706, 6.2967858 , 6.32108364, ..., 6.20523206, 6.2914209 ,\n",
       "        6.33589891]),\n",
       " 'IxxPSF_pixel_z': array([3.86775033, 4.00591329, 3.91503851, ..., 3.92223656, 3.79702252,\n",
       "        3.81283667]),\n",
       " 'IyyPSF_pixel_r': array([3.05899988, 3.09366755, 3.08246534, ..., 3.17134421, 3.18125573,\n",
       "        3.16619417]),\n",
       " 'IyyPSF_pixel_i': array([3.01893312, 3.02224524, 3.01409722, ..., 2.9661185 , 2.97906383,\n",
       "        2.97909292]),\n",
       " 'IyyPSF_pixel_y': array([6.35335951, 6.29680707, 6.30905227, ..., 6.18430761, 6.27639061,\n",
       "        6.31980206]),\n",
       " 'IxxPSF_pixel_r': array([3.10876697, 3.14563675, 3.13576554, ..., 3.21437567, 3.23581953,\n",
       "        3.21907278]),\n",
       " 'IxyPSF_pixel_g': array([ 0.00662666, -0.0038062 ,  0.00638183, ..., -0.03116488,\n",
       "        -0.02835334, -0.02994671]),\n",
       " 'psf_fwhm_z': array([0.92621574, 0.94320167, 0.93127079, ..., 0.93263548, 0.9185408 ,\n",
       "        0.92049039]),\n",
       " 'IxxPSF_pixel_g': array([3.45240219, 3.58600265, 3.41518475, ..., 3.84590812, 3.75581263,\n",
       "        3.83719447]),\n",
       " 'psf_fwhm_r': array([0.82710911, 0.83189105, 0.83048389, ..., 0.8415993 , 0.8436575 ,\n",
       "        0.84156454]),\n",
       " 'psf_fwhm_u': array([0.93088837, 0.92163114, 0.92405192, ..., 0.92148652, 0.93895016,\n",
       "        0.92148652])}"
      ]
     },
     "execution_count": 10,
     "metadata": {},
     "output_type": "execute_result"
    }
   ],
   "source": [
    "psf_params"
   ]
  },
  {
   "cell_type": "markdown",
   "metadata": {},
   "source": [
    "### Merge Catalog "
   ]
  },
  {
   "cell_type": "code",
   "execution_count": 11,
   "metadata": {},
   "outputs": [],
   "source": [
    "import pandas as pd\n",
    "df_data = pd.DataFrame(data)\n",
    "df_galaxy = pd.DataFrame(galaxy)\n",
    "df_psf = pd.DataFrame(psf_params)\n",
    "merge_data = df_data.merge(\n",
    "    df_galaxy, \n",
    "    left_on = \"cosmodc2_id\", \n",
    "    right_on = \"galaxy_id\", \n",
    "    how = \"left\" \n",
    ")\n",
    "merge_data_fill = merge_data.fillna(-1)\n",
    "data_psf = merge_data_fill.merge(\n",
    "    df_psf, \n",
    "    left_on = \"match_objectId\", \n",
    "    right_on = \"objectId\", \n",
    "    how = \"left\" \n",
    ")"
   ]
  },
  {
   "cell_type": "code",
   "execution_count": null,
   "metadata": {},
   "outputs": [],
   "source": [
    "# with open(\"merged_data.pkl\", \"rb\") as inputp: \n",
    "#     data_psf = pickle.load(inputp)"
   ]
  },
  {
   "cell_type": "code",
   "execution_count": 12,
   "metadata": {},
   "outputs": [],
   "source": [
    "with open(\"merged_data.pkl\", \"wb\") as outp:  # Overwrites any existing file.\n",
    "    pickle.dump(data_psf, outp, pickle.HIGHEST_PROTOCOL)"
   ]
  },
  {
   "cell_type": "code",
   "execution_count": 22,
   "metadata": {},
   "outputs": [],
   "source": [
    "# filter the object by flux\n",
    "flux_min = 100\n",
    "bright_merge = data_psf[data_psf['flux_r'] > flux_min]"
   ]
  },
  {
   "cell_type": "code",
   "execution_count": 23,
   "metadata": {},
   "outputs": [
    {
     "data": {
      "text/plain": [
       "(array([   0.,    0.,    0.,    0.,    0.,    0.,    0.,    0.,    0.,\n",
       "         187., 1776., 1518., 1305., 1130.,  999.,  883.,  821.,  753.,\n",
       "         702.,  622.,  548.,  493.,  509.,  454.,  426.,  413.,  352.,\n",
       "         340.,  331.,  277.,  321.,  291.,  286.,  251.,  256.,  233.,\n",
       "         204.,  220.,  187.,  215.,  180.,  192.,  186.,  155.,  164.,\n",
       "         173.,  147.,  162.,  152.,  127.,  134.,  122.,  149.,  127.,\n",
       "         126.,  113.,  112.,  108.,  128.,   99.,   96.,   86.,   88.,\n",
       "          87.,   98.,   84.,   82.,   69.,   85.,   85.,   69.,   70.,\n",
       "          88.,   67.,   67.,   81.,   89.,   78.,   75.,   60.,   74.,\n",
       "          64.,   55.,   60.,   64.,   72.,   56.,   54.,   55.,   50.,\n",
       "          59.,   60.,   55.,   64.,   68.,   47.,   51.,   58.,   64.]),\n",
       " array([1.000e+02, 1.020e+04, 2.030e+04, 3.040e+04, 4.050e+04, 5.060e+04,\n",
       "        6.070e+04, 7.080e+04, 8.090e+04, 9.100e+04, 1.011e+05, 1.112e+05,\n",
       "        1.213e+05, 1.314e+05, 1.415e+05, 1.516e+05, 1.617e+05, 1.718e+05,\n",
       "        1.819e+05, 1.920e+05, 2.021e+05, 2.122e+05, 2.223e+05, 2.324e+05,\n",
       "        2.425e+05, 2.526e+05, 2.627e+05, 2.728e+05, 2.829e+05, 2.930e+05,\n",
       "        3.031e+05, 3.132e+05, 3.233e+05, 3.334e+05, 3.435e+05, 3.536e+05,\n",
       "        3.637e+05, 3.738e+05, 3.839e+05, 3.940e+05, 4.041e+05, 4.142e+05,\n",
       "        4.243e+05, 4.344e+05, 4.445e+05, 4.546e+05, 4.647e+05, 4.748e+05,\n",
       "        4.849e+05, 4.950e+05, 5.051e+05, 5.152e+05, 5.253e+05, 5.354e+05,\n",
       "        5.455e+05, 5.556e+05, 5.657e+05, 5.758e+05, 5.859e+05, 5.960e+05,\n",
       "        6.061e+05, 6.162e+05, 6.263e+05, 6.364e+05, 6.465e+05, 6.566e+05,\n",
       "        6.667e+05, 6.768e+05, 6.869e+05, 6.970e+05, 7.071e+05, 7.172e+05,\n",
       "        7.273e+05, 7.374e+05, 7.475e+05, 7.576e+05, 7.677e+05, 7.778e+05,\n",
       "        7.879e+05, 7.980e+05, 8.081e+05, 8.182e+05, 8.283e+05, 8.384e+05,\n",
       "        8.485e+05, 8.586e+05, 8.687e+05, 8.788e+05, 8.889e+05, 8.990e+05,\n",
       "        9.091e+05, 9.192e+05, 9.293e+05, 9.394e+05, 9.495e+05, 9.596e+05,\n",
       "        9.697e+05, 9.798e+05, 9.899e+05, 1.000e+06]),\n",
       " <BarContainer object of 99 artists>)"
      ]
     },
     "execution_count": 23,
     "metadata": {},
     "output_type": "execute_result"
    },
    {
     "data": {
      "image/png": "[encoded data removed]",
      "text/plain": [
       "<Figure size 640x480 with 1 Axes>"
      ]
     },
     "metadata": {},
     "output_type": "display_data"
    }
   ],
   "source": [
    "plt.hist(bright_merge[\"flux_r\"], np.linspace(100, flux_min * 1000, num=100))"
   ]
  },
  {
   "cell_type": "markdown",
   "metadata": {},
   "source": [
    "### Save to File"
   ]
  },
  {
   "cell_type": "code",
   "execution_count": 24,
   "metadata": {},
   "outputs": [
    {
     "ename": "",
     "evalue": "",
     "output_type": "error",
     "traceback": [
      "\u001b[1;31mThe Kernel crashed while executing code in the current cell or a previous cell. \n",
      "\u001b[1;31mPlease review the code in the cell(s) to identify a possible cause of the failure. \n",
      "\u001b[1;31mClick <a href='https://aka.ms/vscodeJupyterKernelCrash'>here</a> for more info. \n",
      "\u001b[1;31mView Jupyter <a href='command:jupyter.viewOutput'>log</a> for further details."
     ]
    }
   ],
   "source": [
    "# create a pickle file \n",
    "bright_merge.to_pickle(f\"merged_catalog_with_flux_over_{flux_min}.pkl\")"
   ]
  }
 ],
 "metadata": {
  "kernelspec": {
   "display_name": "bliss-deblender-IlvvpPLR-py3.10",
   "language": "python",
   "name": "python3"
  },
  "language_info": {
   "codemirror_mode": {
    "name": "ipython",
    "version": 3
   },
   "file_extension": ".py",
   "mimetype": "text/x-python",
   "name": "python",
   "nbconvert_exporter": "python",
   "pygments_lexer": "ipython3",
   "version": "3.10.12"
  },
  "orig_nbformat": 4
 },
 "nbformat": 4,
 "nbformat_minor": 2
}

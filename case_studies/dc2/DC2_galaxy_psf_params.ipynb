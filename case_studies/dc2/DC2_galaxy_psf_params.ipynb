{
 "cells": [
  {
   "cell_type": "markdown",
   "metadata": {},
   "source": [
    "This notebook present the steps to generatea merged catalog files. The reason that we need to generate such files is that:\n",
    "\n",
    "1. Bliss needs input parameters that contains psf, fluxes, location, source type, galaxy related parameters, but the truth catalog in DC2 does not provide galaxy parameters or psf\n",
    "2. To get those parameter, we need to use CosmoDC2 dataset and truth-match table, where the galaxy parameters  and psf arestores.\n",
    "3. To save the time for multiple merging when loading the data, we store the merged dataset into corresponding merged_catalog_{}.pkl files\n"
   ]
  },
  {
   "cell_type": "markdown",
   "metadata": {},
   "source": [
    "### Load Catalog"
   ]
  },
  {
   "cell_type": "markdown",
   "metadata": {},
   "source": [
    "Use [GCRCatalogs](https://data.lsstdesc.org/doc/install_gcr) package to load the dc2 truth catalog and CosomoDC2.\n",
    "\n",
    "\n"
   ]
  },
  {
   "cell_type": "code",
   "execution_count": 1,
   "metadata": {},
   "outputs": [],
   "source": [
    "import GCRCatalogs\n",
    "GCRCatalogs.set_root_dir(\"/nfs/turbo/lsa-regier/lsstdesc-public/dc2\")\n",
    "truth_cat = GCRCatalogs.load_catalog('desc_dc2_run2.2i_dr6_truth') \n",
    "data = truth_cat.get_quantities([\n",
    "    \"id\", \"match_objectId\", \"cosmodc2_id\", \"ra\", \"dec\", \"truth_type\", \n",
    "    \"flux_g\", \"flux_i\", \"flux_r\", \"flux_u\", \"flux_y\", \"flux_z\"\n",
    "])"
   ]
  },
  {
   "cell_type": "code",
   "execution_count": 2,
   "metadata": {},
   "outputs": [],
   "source": [
    "config_overwrite = dict(\n",
    "    catalog_root_dir='/nfs/turbo/lsa-regier/lsstdesc-public/dc2/cosmoDC2'\n",
    ")\n",
    "# take long time to load (around 10 mins for 59 files)\n",
    "galaxy_cat = GCRCatalogs.load_catalog('desc_cosmodc2', config_overwrite)\n",
    "galaxy = galaxy_cat.get_quantities([\n",
    "    \"galaxy_id\", \"position_angle_true\", \"size_minor_disk_true\", \n",
    "    \"size_disk_true\", \"size_minor_bulge_true\", \n",
    "    \"size_bulge_true\", \"bulge_to_total_ratio_i\"\n",
    "])"
   ]
  },
  {
   "cell_type": "code",
   "execution_count": 3,
   "metadata": {},
   "outputs": [],
   "source": [
    "import GCRCatalogs\n",
    "match_cat = GCRCatalogs.load_catalog('desc_dc2_run2.2i_dr6_object_with_truth_match')\n",
    "psf_params = match_cat.get_quantities([\n",
    "    \"objectId\", \"IxxPSF_pixel_g\", \"IxxPSF_pixel_z\", \n",
    "    \"IxxPSF_pixel_r\", \"IxxPSF_pixel_i\", \"IxxPSF_pixel_u\", \n",
    "    \"IxxPSF_pixel_y\", \"IyyPSF_pixel_g\", \"IyyPSF_pixel_z\", \n",
    "    \"IyyPSF_pixel_r\", \"IyyPSF_pixel_i\", \"IyyPSF_pixel_u\", \n",
    "    \"IyyPSF_pixel_y\", \"IxyPSF_pixel_g\", \"IxyPSF_pixel_z\", \n",
    "    \"IxyPSF_pixel_r\", \"IxyPSF_pixel_i\", \"IxyPSF_pixel_u\", \n",
    "    \"IxyPSF_pixel_y\", \"psf_fwhm_g\", \"psf_fwhm_z\", \"psf_fwhm_r\",\n",
    "    \"psf_fwhm_i\", \"psf_fwhm_u\", \"psf_fwhm_y\"\n",
    "])"
   ]
  },
  {
   "cell_type": "markdown",
   "metadata": {},
   "source": [
    "### Merge Catalog "
   ]
  },
  {
   "cell_type": "code",
   "execution_count": 4,
   "metadata": {},
   "outputs": [],
   "source": [
    "import pandas as pd\n",
    "df_data = pd.DataFrame(data)\n",
    "df_galaxy = pd.DataFrame(galaxy)\n",
    "df_psf = pd.DataFrame(psf_params)\n",
    "merge_data = df_data.merge(\n",
    "    df_galaxy, \n",
    "    left_on = \"cosmodc2_id\", \n",
    "    right_on = \"galaxy_id\", \n",
    "    how = \"left\" \n",
    ")\n",
    "merge_data_fill = merge_data.fillna(-1)\n",
    "data_psf = merge_data_fill.merge(\n",
    "    df_psf, \n",
    "    left_on = \"match_objectId\", \n",
    "    right_on = \"objectId\", \n",
    "    how = \"left\" \n",
    ")\n",
    "\n",
    "# filter the object by flix\n",
    "bright_merge = data_psf[data_psf['flux_r'] > 50]\n"
   ]
  },
  {
   "cell_type": "markdown",
   "metadata": {},
   "source": [
    "### Save to File"
   ]
  },
  {
   "cell_type": "code",
   "execution_count": 5,
   "metadata": {},
   "outputs": [],
   "source": [
    "import pickle\n",
    "\n",
    "# create a pickle file \n",
    "f = bright_merge.to_pickle(\"merged_catalog_psf_50.pkl\")"
   ]
  }
 ],
 "metadata": {
  "kernelspec": {
   "display_name": "bliss-deblender-IlvvpPLR-py3.10",
   "language": "python",
   "name": "python3"
  },
  "language_info": {
   "codemirror_mode": {
    "name": "ipython",
    "version": 3
   },
   "file_extension": ".py",
   "mimetype": "text/x-python",
   "name": "python",
   "nbconvert_exporter": "python",
   "pygments_lexer": "ipython3",
   "version": "3.10.12"
  },
  "orig_nbformat": 4
 },
 "nbformat": 4,
 "nbformat_minor": 2
}

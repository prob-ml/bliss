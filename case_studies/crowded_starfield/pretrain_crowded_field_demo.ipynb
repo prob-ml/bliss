{
 "cells": [
  {
   "cell_type": "markdown",
   "metadata": {},
   "source": [
    "# Demo: Pretraining on a Crowded Starfield"
   ]
  },
  {
   "cell_type": "markdown",
   "metadata": {},
   "source": [
    "This notebook demonstrates the improvement in BLISS' performance if the encoder model is pretrained on a crowded starfield. Intuitively, the encoder is expected to perform better due to having more opportunities to learn latent properties of light sources from images that are littered with more light sources."
   ]
  },
  {
   "cell_type": "code",
   "execution_count": 1,
   "metadata": {
    "vscode": {
     "languageId": "shellscript"
    }
   },
   "outputs": [],
   "source": [
    "%matplotlib inline\n",
    "%load_ext autoreload\n",
    "%autoreload 2"
   ]
  },
  {
   "cell_type": "code",
   "execution_count": 2,
   "metadata": {
    "vscode": {
     "languageId": "shellscript"
    }
   },
   "outputs": [],
   "source": [
    "import hydra\n",
    "import torch\n",
    "from hydra.utils import instantiate\n",
    "from matplotlib import pyplot as plt\n",
    "\n",
    "from bliss.catalog import FullCatalog\n",
    "from bliss.metrics import BlissMetrics, MetricsMode\n",
    "from bliss.surveys.sdss import SDSS, PhotoFullCatalog\n",
    "from bliss.predict import crop_plocs"
   ]
  },
  {
   "cell_type": "code",
   "execution_count": 3,
   "metadata": {
    "vscode": {
     "languageId": "shellscript"
    }
   },
   "outputs": [],
   "source": [
    "ra, dec = SDSS.radec_for_rcf(94, 1, 12)"
   ]
  },
  {
   "cell_type": "markdown",
   "metadata": {},
   "source": [
    "## Generate Disk Datasets for Different Crowding Levels"
   ]
  },
  {
   "cell_type": "code",
   "execution_count": null,
   "metadata": {
    "vscode": {
     "languageId": "shellscript"
    }
   },
   "outputs": [],
   "source": [
    "MEAN_SOURCES_ARR=((0.06, 0.1, 0.2, 0.5, 0.6))\n",
    "\n",
    "for mean_sources in ${MEAN_SOURCES_ARR[@]}; do\n",
    "    ./scripts/generate_data_in_parallel.sh -n 32 -cp ../case_studies/crowded_starfield -cn config \"prior.mean_sources=$mean_sources\"\n",
    "done"
   ]
  },
  {
   "cell_type": "code",
   "execution_count": 1,
   "metadata": {
    "vscode": {
     "languageId": "shellscript"
    }
   },
   "outputs": [
    {
     "name": "stdout",
     "output_type": "stream",
     "text": [
      "14G\t/data/scratch/zhteoh/case_studies/crowded_starfield/data/cached_dataset_mean_sources_0.06\n"
     ]
    }
   ],
   "source": [
    "!du -sh /data/scratch/zhteoh/case_studies/crowded_starfield/data/cached_dataset_mean_sources_0.06"
   ]
  },
  {
   "cell_type": "markdown",
   "metadata": {},
   "source": [
    "## Pretrain Encoder on Crowded Field"
   ]
  },
  {
   "cell_type": "code",
   "execution_count": null,
   "metadata": {
    "vscode": {
     "languageId": "shellscript"
    }
   },
   "outputs": [],
   "source": [
    "for mean_sources in ${MEAN_SOURCES_ARR[@]}; do\n",
    "    bliss -cp ../case_studies/crowded_starfield -cn config 'mode=train' \"prior.mean_sources=$mean_sources\"\n",
    "done"
   ]
  },
  {
   "cell_type": "markdown",
   "metadata": {},
   "source": [
    "## Training Performance"
   ]
  },
  {
   "cell_type": "markdown",
   "metadata": {},
   "source": [
    "Train an encoder model on default `prior.mean_sources=0.02` dataset, using the pretrained weights from training on the different `prior.mean_sources` datasets."
   ]
  },
  {
   "cell_type": "code",
   "execution_count": null,
   "metadata": {
    "vscode": {
     "languageId": "shellscript"
    }
   },
   "outputs": [],
   "source": [
    "bliss -cp ../case_studies/crowded_starfield -cn config_train --multirun"
   ]
  },
  {
   "cell_type": "markdown",
   "metadata": {},
   "source": [
    "|mean sources|best val loss|||\n",
    "|---|---|---|---|\n",
    "|0.06|0.19754|||\n",
    "|0.1|0.20112|||\n",
    "|0.2|0.19274|||\n",
    "|0.5|0.19363|||\n",
    "|0.6|0.19832|||"
   ]
  },
  {
   "cell_type": "markdown",
   "metadata": {},
   "source": [
    "## Prediction Performance"
   ]
  },
  {
   "cell_type": "markdown",
   "metadata": {},
   "source": [
    "Run predictions on real images using best models from each experiment setup."
   ]
  },
  {
   "cell_type": "code",
   "execution_count": 3,
   "metadata": {
    "vscode": {
     "languageId": "shellscript"
    }
   },
   "outputs": [],
   "source": [
    "from os import environ\n",
    "\n",
    "# set bliss home directory and load config\n",
    "environ[\"BLISS_HOME\"] = \"/data/scratch/zhteoh/case_studies/crowded_starfield\"\n",
    "with hydra.initialize(config_path=\".\", version_base=None):\n",
    "    cfg = hydra.compose(\"config_predict\")"
   ]
  },
  {
   "cell_type": "code",
   "execution_count": 7,
   "metadata": {
    "vscode": {
     "languageId": "shellscript"
    }
   },
   "outputs": [
    {
     "name": "stderr",
     "output_type": "stream",
     "text": [
      "GPU available: True (cuda), used: True\n",
      "TPU available: False, using: 0 TPU cores\n",
      "IPU available: False, using: 0 IPUs\n",
      "HPU available: False, using: 0 HPUs\n",
      "Missing logger folder: /home/zhteoh/case-study-crowded-starfield/case_studies/crowded_starfield/lightning_logs\n",
      "LOCAL_RANK: 0 - CUDA_VISIBLE_DEVICES: [0,1,2,3,4,5,6,7]\n"
     ]
    },
    {
     "data": {
      "application/vnd.jupyter.widget-view+json": {
       "model_id": "d5fcfa5752e442ffa8f01d7c192746da",
       "version_major": 2,
       "version_minor": 0
      },
      "text/plain": [
       "Predicting: 0it [00:00, ?it/s]"
      ]
     },
     "metadata": {},
     "output_type": "display_data"
    },
    {
     "name": "stderr",
     "output_type": "stream",
     "text": [
      "GPU available: True (cuda), used: True\n",
      "TPU available: False, using: 0 TPU cores\n",
      "IPU available: False, using: 0 IPUs\n",
      "HPU available: False, using: 0 HPUs\n",
      "LOCAL_RANK: 0 - CUDA_VISIBLE_DEVICES: [0,1,2,3,4,5,6,7]\n"
     ]
    },
    {
     "data": {
      "application/vnd.jupyter.widget-view+json": {
       "model_id": "e138b44930634da0945437c1ae91595d",
       "version_major": 2,
       "version_minor": 0
      },
      "text/plain": [
       "Predicting: 0it [00:00, ?it/s]"
      ]
     },
     "metadata": {},
     "output_type": "display_data"
    },
    {
     "name": "stderr",
     "output_type": "stream",
     "text": [
      "GPU available: True (cuda), used: True\n",
      "TPU available: False, using: 0 TPU cores\n",
      "IPU available: False, using: 0 IPUs\n",
      "HPU available: False, using: 0 HPUs\n",
      "LOCAL_RANK: 0 - CUDA_VISIBLE_DEVICES: [0,1,2,3,4,5,6,7]\n"
     ]
    },
    {
     "data": {
      "application/vnd.jupyter.widget-view+json": {
       "model_id": "982ae6415db645fb89070a6ba4559b90",
       "version_major": 2,
       "version_minor": 0
      },
      "text/plain": [
       "Predicting: 0it [00:00, ?it/s]"
      ]
     },
     "metadata": {},
     "output_type": "display_data"
    },
    {
     "name": "stderr",
     "output_type": "stream",
     "text": [
      "GPU available: True (cuda), used: True\n",
      "TPU available: False, using: 0 TPU cores\n",
      "IPU available: False, using: 0 IPUs\n",
      "HPU available: False, using: 0 HPUs\n",
      "LOCAL_RANK: 0 - CUDA_VISIBLE_DEVICES: [0,1,2,3,4,5,6,7]\n"
     ]
    },
    {
     "data": {
      "application/vnd.jupyter.widget-view+json": {
       "model_id": "db6698e51bc649409a998c5ea4f32781",
       "version_major": 2,
       "version_minor": 0
      },
      "text/plain": [
       "Predicting: 0it [00:00, ?it/s]"
      ]
     },
     "metadata": {},
     "output_type": "display_data"
    },
    {
     "name": "stderr",
     "output_type": "stream",
     "text": [
      "GPU available: True (cuda), used: True\n",
      "TPU available: False, using: 0 TPU cores\n",
      "IPU available: False, using: 0 IPUs\n",
      "HPU available: False, using: 0 HPUs\n",
      "LOCAL_RANK: 0 - CUDA_VISIBLE_DEVICES: [0,1,2,3,4,5,6,7]\n"
     ]
    },
    {
     "data": {
      "application/vnd.jupyter.widget-view+json": {
       "model_id": "94c1bc82a1a547babab8df92ad79cb53",
       "version_major": 2,
       "version_minor": 0
      },
      "text/plain": [
       "Predicting: 0it [00:00, ?it/s]"
      ]
     },
     "metadata": {},
     "output_type": "display_data"
    }
   ],
   "source": [
    "from bliss.predict import predict\n",
    "from omegaconf import OmegaConf\n",
    "\n",
    "MEAN_SOURCES_ARR = [0.06, 0.1, 0.2, 0.5, 0.6]\n",
    "experiments = {\n",
    "    k: {} for k in MEAN_SOURCES_ARR\n",
    "}\n",
    "for mean_sources in MEAN_SOURCES_ARR:\n",
    "    OmegaConf.update(cfg, 'pretrained_mean_sources', mean_sources, force_add=True)\n",
    "    est_cat = predict(cfg)[0]\n",
    "    experiments[mean_sources]['est_cat'] = est_cat"
   ]
  },
  {
   "cell_type": "markdown",
   "metadata": {},
   "source": [
    "Get predictions for control group"
   ]
  },
  {
   "cell_type": "code",
   "execution_count": 9,
   "metadata": {
    "vscode": {
     "languageId": "shellscript"
    }
   },
   "outputs": [
    {
     "name": "stderr",
     "output_type": "stream",
     "text": [
      "GPU available: True (cuda), used: True\n",
      "TPU available: False, using: 0 TPU cores\n",
      "IPU available: False, using: 0 IPUs\n",
      "HPU available: False, using: 0 HPUs\n",
      "LOCAL_RANK: 0 - CUDA_VISIBLE_DEVICES: [0,1,2,3,4,5,6,7]\n"
     ]
    },
    {
     "data": {
      "application/vnd.jupyter.widget-view+json": {
       "model_id": "d333e2723ae24036be65b093f53d80db",
       "version_major": 2,
       "version_minor": 0
      },
      "text/plain": [
       "Predicting: 0it [00:00, ?it/s]"
      ]
     },
     "metadata": {},
     "output_type": "display_data"
    }
   ],
   "source": [
    "experiments[\"control\"] = {}\n",
    "\n",
    "control_cfg = cfg.copy()\n",
    "OmegaConf.update(control_cfg, 'predict.weight_save_path', '${paths.output}/${training.name}/weights_0.02.pt')\n",
    "experiments[\"control\"][\"est_cat\"] = predict(control_cfg)[0]"
   ]
  },
  {
   "cell_type": "markdown",
   "metadata": {},
   "source": [
    "Write out these predictions to a file for later use."
   ]
  },
  {
   "cell_type": "code",
   "execution_count": 13,
   "metadata": {
    "vscode": {
     "languageId": "shellscript"
    }
   },
   "outputs": [],
   "source": [
    "experiments_filepath = \"/data/scratch/zhteoh/case_studies/crowded_starfield/experiments.pt\"\n",
    "with open(experiments_filepath, \"wb\") as f:\n",
    "    torch.save(experiments, f)"
   ]
  },
  {
   "cell_type": "markdown",
   "metadata": {},
   "source": [
    "Read in these predictions for use."
   ]
  },
  {
   "cell_type": "code",
   "execution_count": 14,
   "metadata": {
    "vscode": {
     "languageId": "shellscript"
    }
   },
   "outputs": [],
   "source": [
    "experiments_filepath = \"/data/scratch/zhteoh/case_studies/crowded_starfield/experiments.pt\"\n",
    "with open(experiments_filepath, \"rb\") as f:\n",
    "    experiments = torch.load(f)"
   ]
  },
  {
   "cell_type": "code",
   "execution_count": 16,
   "metadata": {
    "vscode": {
     "languageId": "shellscript"
    }
   },
   "outputs": [],
   "source": [
    "def compute_get_metrics(true_cat: FullCatalog, est_cat: FullCatalog, survey_bands: list[int]):\n",
    "    metrics = BlissMetrics(survey_bands=survey_bands, mode=MetricsMode.FULL)\n",
    "    return metrics(true_cat, est_cat)"
   ]
  },
  {
   "cell_type": "code",
   "execution_count": 29,
   "metadata": {
    "vscode": {
     "languageId": "shellscript"
    }
   },
   "outputs": [],
   "source": [
    "# Get true SDSS photo full catalog\n",
    "run, camcol, field = SDSS.rcf_for_radec(ra, dec)\n",
    "sdss = instantiate(\n",
    "    cfg.surveys.sdss, fields=[{\"run\": run, \"camcol\": camcol, \"fields\": [field]}]\n",
    ")\n",
    "photocat_filename = sdss.downloader.download_catalog((run, camcol, field))\n",
    "img_h, img_w = sdss[0][\"image\"].shape[1], sdss[0][\"image\"].shape[2]\n",
    "photo_true_cat = PhotoFullCatalog.from_file(\n",
    "    photocat_filename,\n",
    "    wcs=sdss[0][\"wcs\"][cfg.simulator.prior.reference_band],\n",
    "    height=img_h,\n",
    "    width=img_w,\n",
    ")"
   ]
  },
  {
   "cell_type": "code",
   "execution_count": 33,
   "metadata": {
    "vscode": {
     "languageId": "shellscript"
    }
   },
   "outputs": [],
   "source": [
    "# Hack to crop survey catalog true plocs to match the crop of BLISS' predicted catalog plocs\n",
    "def crop_true_plocs(cfg, true_plocs):\n",
    "    ptc = cfg.encoder.tiles_to_crop * cfg.encoder.tile_slen\n",
    "    w = cfg.predict.crop.width - 2 * ptc\n",
    "    h = cfg.predict.crop.height - 2 * ptc\n",
    "\n",
    "    cropped_true_plocs = crop_plocs(cfg, w, h, true_plocs[0], do_crop=True).cpu()\n",
    "\n",
    "    new_plocs = torch.zeros_like(true_plocs)\n",
    "    new_plocs[:, : cropped_true_plocs.shape[0], :] = cropped_true_plocs\n",
    "\n",
    "    return new_plocs\n",
    "\n",
    "cropped_sdss_true_plocs = crop_true_plocs(cfg, photo_true_cat.plocs)"
   ]
  },
  {
   "cell_type": "markdown",
   "metadata": {},
   "source": [
    "Plot **uncropped** survey-specific catalog plocs"
   ]
  },
  {
   "cell_type": "code",
   "execution_count": null,
   "metadata": {
    "vscode": {
     "languageId": "shellscript"
    }
   },
   "outputs": [],
   "source": [
    "fig, ax = plt.subplots(figsize=(10, 10))\n",
    "ax.scatter(photo_true_cat.plocs[0, :, 1], photo_true_cat.plocs[0, :, 0], s=30, c='r', marker=\"x\")\n",
    "ax.scatter(experiments[\"control\"][\"est_cat\"].plocs[0, :, 1], experiments[\"control\"][\"est_cat\"].plocs[0, :, 0], s=30, c='orange', marker=\"x\")\n",
    "\n",
    "# add legend\n",
    "ax.legend(['SDSS', 'Control (est)'], loc='best')"
   ]
  },
  {
   "cell_type": "markdown",
   "metadata": {},
   "source": [
    "Plot **cropped** survey-specific catalog plocs"
   ]
  },
  {
   "cell_type": "code",
   "execution_count": 42,
   "metadata": {
    "vscode": {
     "languageId": "shellscript"
    }
   },
   "outputs": [
    {
     "data": {
      "text/plain": [
       "<matplotlib.legend.Legend at 0x7f58c0329bd0>"
      ]
     },
     "execution_count": 42,
     "metadata": {},
     "output_type": "execute_result"
    },
    {
     "data": {
      "image/png": "[encoded data removed]",
      "text/plain": [
       "<Figure size 1000x1000 with 1 Axes>"
      ]
     },
     "metadata": {},
     "output_type": "display_data"
    }
   ],
   "source": [
    "fig, ax = plt.subplots(figsize=(10, 10))\n",
    "# SDSS\n",
    "ax.scatter(cropped_sdss_true_plocs[0, :, 1], cropped_sdss_true_plocs[0, :, 0], s=30, c='r', marker=\".\")\n",
    "ax.scatter(experiments[\"control\"][\"est_cat\"].plocs[0, :, 1], experiments[\"control\"][\"est_cat\"].plocs[0, :, 0], s=30, edgecolors='orange', marker=\"o\", facecolors='none')\n",
    "ax.legend(['SDSS', 'Control (est)'], loc='best')"
   ]
  },
  {
   "cell_type": "code",
   "execution_count": 44,
   "metadata": {
    "vscode": {
     "languageId": "shellscript"
    }
   },
   "outputs": [],
   "source": [
    "import copy\n",
    "\n",
    "def n_sources(true_plocs):\n",
    "    mask = true_plocs != torch.tensor([0, 0])\n",
    "    return int(torch.nonzero(mask).shape[0] / 2)\n",
    "\n",
    "cropped_sdss_true_cat = copy.deepcopy(photo_true_cat)\n",
    "cropped_sdss_true_cat.plocs = cropped_sdss_true_plocs\n",
    "cropped_sdss_true_cat.n_sources = torch.tensor([n_sources(cropped_sdss_true_plocs)])"
   ]
  },
  {
   "cell_type": "code",
   "execution_count": 51,
   "metadata": {
    "vscode": {
     "languageId": "shellscript"
    }
   },
   "outputs": [
    {
     "data": {
      "text/plain": [
       "{'detection_precision': 0.4751381278038025,\n",
       " 'detection_recall': 0.8775510191917419,\n",
       " 'f1': 0.616487443447113,\n",
       " 'avg_distance': 2.5956714153289795,\n",
       " 'avg_keep_distance': 0.296264111995697,\n",
       " 'gal_tp': 11.0,\n",
       " 'gal_fp': 7.0,\n",
       " 'star_tp': 31.0,\n",
       " 'star_fp': 37.0,\n",
       " 'class_acc': 0.4883720874786377}"
      ]
     },
     "execution_count": 51,
     "metadata": {},
     "output_type": "execute_result"
    }
   ],
   "source": [
    "compute_get_metrics(cropped_sdss_true_cat, experiments[\"control\"][\"est_cat\"], list(range(len(SDSS.BANDS))))"
   ]
  },
  {
   "cell_type": "code",
   "execution_count": 52,
   "metadata": {
    "vscode": {
     "languageId": "shellscript"
    }
   },
   "outputs": [
    {
     "data": {
      "text/plain": [
       "{'detection_precision': 0.5414012670516968,\n",
       " 'detection_recall': 0.8673469424247742,\n",
       " 'f1': 0.6666666865348816,\n",
       " 'avg_distance': 4.6877121925354,\n",
       " 'avg_keep_distance': 0.2746175229549408,\n",
       " 'gal_tp': 8.0,\n",
       " 'gal_fp': 9.0,\n",
       " 'star_tp': 34.0,\n",
       " 'star_fp': 34.0,\n",
       " 'class_acc': 0.4941176474094391}"
      ]
     },
     "execution_count": 52,
     "metadata": {},
     "output_type": "execute_result"
    }
   ],
   "source": [
    "compute_get_metrics(cropped_sdss_true_cat, experiments[0.06][\"est_cat\"], list(range(len(SDSS.BANDS))))"
   ]
  },
  {
   "cell_type": "code",
   "execution_count": 53,
   "metadata": {
    "vscode": {
     "languageId": "shellscript"
    }
   },
   "outputs": [
    {
     "data": {
      "text/plain": [
       "{'detection_precision': 0.5503355860710144,\n",
       " 'detection_recall': 0.8367347121238708,\n",
       " 'f1': 0.6639676094055176,\n",
       " 'avg_distance': 3.435736656188965,\n",
       " 'avg_keep_distance': 0.30103495717048645,\n",
       " 'gal_tp': 9.0,\n",
       " 'gal_fp': 8.0,\n",
       " 'star_tp': 34.0,\n",
       " 'star_fp': 31.0,\n",
       " 'class_acc': 0.5243902206420898}"
      ]
     },
     "execution_count": 53,
     "metadata": {},
     "output_type": "execute_result"
    }
   ],
   "source": [
    "compute_get_metrics(cropped_sdss_true_cat, experiments[0.1][\"est_cat\"], list(range(len(SDSS.BANDS))))"
   ]
  },
  {
   "cell_type": "code",
   "execution_count": 54,
   "metadata": {
    "vscode": {
     "languageId": "shellscript"
    }
   },
   "outputs": [
    {
     "data": {
      "text/plain": [
       "{'detection_precision': 0.4969325065612793,\n",
       " 'detection_recall': 0.8265306353569031,\n",
       " 'f1': 0.6206896305084229,\n",
       " 'avg_distance': 4.525688648223877,\n",
       " 'avg_keep_distance': 0.2728244364261627,\n",
       " 'gal_tp': 13.0,\n",
       " 'gal_fp': 6.0,\n",
       " 'star_tp': 30.0,\n",
       " 'star_fp': 32.0,\n",
       " 'class_acc': 0.5308641791343689}"
      ]
     },
     "execution_count": 54,
     "metadata": {},
     "output_type": "execute_result"
    }
   ],
   "source": [
    "compute_get_metrics(cropped_sdss_true_cat, experiments[0.2][\"est_cat\"], list(range(len(SDSS.BANDS))))"
   ]
  },
  {
   "cell_type": "code",
   "execution_count": 55,
   "metadata": {
    "vscode": {
     "languageId": "shellscript"
    }
   },
   "outputs": [
    {
     "data": {
      "text/plain": [
       "{'detection_precision': 0.4644808769226074,\n",
       " 'detection_recall': 0.8673469424247742,\n",
       " 'f1': 0.6049821972846985,\n",
       " 'avg_distance': 2.316220760345459,\n",
       " 'avg_keep_distance': 0.3173627257347107,\n",
       " 'gal_tp': 11.0,\n",
       " 'gal_fp': 8.0,\n",
       " 'star_tp': 32.0,\n",
       " 'star_fp': 34.0,\n",
       " 'class_acc': 0.5058823823928833}"
      ]
     },
     "execution_count": 55,
     "metadata": {},
     "output_type": "execute_result"
    }
   ],
   "source": [
    "compute_get_metrics(cropped_sdss_true_cat, experiments[0.5][\"est_cat\"], list(range(len(SDSS.BANDS))))"
   ]
  },
  {
   "cell_type": "code",
   "execution_count": 56,
   "metadata": {
    "vscode": {
     "languageId": "shellscript"
    }
   },
   "outputs": [
    {
     "data": {
      "text/plain": [
       "{'detection_precision': 0.4427083432674408,\n",
       " 'detection_recall': 0.8673469424247742,\n",
       " 'f1': 0.5862069129943848,\n",
       " 'avg_distance': 2.070014476776123,\n",
       " 'avg_keep_distance': 0.28491801023483276,\n",
       " 'gal_tp': 11.0,\n",
       " 'gal_fp': 8.0,\n",
       " 'star_tp': 34.0,\n",
       " 'star_fp': 32.0,\n",
       " 'class_acc': 0.529411792755127}"
      ]
     },
     "execution_count": 56,
     "metadata": {},
     "output_type": "execute_result"
    }
   ],
   "source": [
    "compute_get_metrics(cropped_sdss_true_cat, experiments[0.6][\"est_cat\"], list(range(len(SDSS.BANDS))))"
   ]
  },
  {
   "cell_type": "markdown",
   "metadata": {
    "vscode": {
     "languageId": "shellscript"
    }
   },
   "source": [
    "### Detection Results"
   ]
  },
  {
   "cell_type": "markdown",
   "metadata": {},
   "source": [
    "|Experiment Setup|Control, No Pretrained Weights|Pretraining Configuration|"
   ]
  },
  {
   "cell_type": "markdown",
   "metadata": {},
   "source": [
    "|Experiment Setup|Control, No Pretrained Weights|`mean_sources=0.06`|`mean_sources=0.1`|`mean_sources=0.2`|\n"
   ]
  },
  {
   "cell_type": "code",
   "execution_count": null,
   "metadata": {
    "vscode": {
     "languageId": "shellscript"
    }
   },
   "outputs": [],
   "source": []
  }
 ],
 "metadata": {
  "kernelspec": {
   "display_name": ".venv",
   "language": "python",
   "name": "python3"
  },
  "language_info": {
   "codemirror_mode": {
    "name": "ipython",
    "version": 3
   },
   "file_extension": ".py",
   "mimetype": "text/x-python",
   "name": "python",
   "nbconvert_exporter": "python",
   "pygments_lexer": "ipython3",
   "version": "3.10.12"
  },
  "orig_nbformat": 4
 },
 "nbformat": 4,
 "nbformat_minor": 2
}

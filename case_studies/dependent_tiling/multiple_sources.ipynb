{
 "cells": [
  {
   "cell_type": "code",
   "execution_count": null,
   "metadata": {},
   "outputs": [],
   "source": [
    "%matplotlib inline"
   ]
  },
  {
   "cell_type": "code",
   "execution_count": null,
   "metadata": {},
   "outputs": [],
   "source": [
    "from os import environ\n",
    "environ[\"CUDA_VISIBLE_DEVICES\"] = \"3\"\n",
    "\n",
    "from pathlib import Path\n",
    "import torch\n",
    "from hydra import initialize, compose\n",
    "from hydra.utils import instantiate\n",
    "from bliss.encoder.encoder import Encoder\n",
    "from bliss.catalog import TileCatalog\n",
    "from matplotlib import pyplot as plt"
   ]
  },
  {
   "cell_type": "code",
   "execution_count": null,
   "metadata": {},
   "outputs": [],
   "source": [
    "environ[\"BLISS_HOME\"] = str(Path().resolve().parents[1])\n",
    "with initialize(config_path=\"../../bliss/conf\", version_base=None):\n",
    "    cfg = compose(\"base_config\")\n",
    "\n",
    "encoder: Encoder = instantiate(cfg.encoder)\n",
    "# TODO: use the 2 percent model (changed here to check the notebook runs without errors)\n",
    "encoder.load_state_dict(torch.load(\"../../data/pretrained_models/clahed_logged_20percent.pt\"))\n",
    "encoder.eval()\n",
    "encoder.cuda()\n",
    "\n",
    "simulator = instantiate(cfg.simulator)\n",
    "\n",
    "torch.set_grad_enabled(False)"
   ]
  },
  {
   "cell_type": "markdown",
   "metadata": {},
   "source": [
    "## One bright (easily detected) star at various positions\n",
    "\n",
    "Compare samples with independent and dependent tiling"
   ]
  },
  {
   "cell_type": "code",
   "execution_count": null,
   "metadata": {},
   "outputs": [],
   "source": [
    "n = 50\n",
    "n_sources = torch.zeros(n, 20, 20, dtype=torch.long)\n",
    "n_sources[:, 10, 10] = 1\n",
    "n_sources[:, 11, 10] = 1\n",
    "\n",
    "locs = torch.ones(n, 20, 20, 1, 2) * 0.5\n",
    "locs[:, 10, 10, 0, 0] = 0.7\n",
    "locs[:, 11, 10, 0, 0] = 0.3\n",
    "\n",
    "source_type = torch.zeros(n, 20, 20, 1, 1, dtype=torch.long)\n",
    "\n",
    "true_catalog_dict = {\n",
    "    \"n_sources\": n_sources,\n",
    "    \"source_type\": source_type,\n",
    "    \"locs\": locs,\n",
    "    \"star_fluxes\": torch.ones(n, 20, 20, 1, 5) * 4,\n",
    "    \"galaxy_fluxes\": torch.ones(n, 20, 20, 1, 5),\n",
    "}\n",
    "true_catalog = TileCatalog(4, true_catalog_dict)"
   ]
  },
  {
   "cell_type": "code",
   "execution_count": null,
   "metadata": {},
   "outputs": [],
   "source": [
    "rcfs, rcf_indices = simulator.randomized_image_ids(true_catalog.n_sources.size(0))"
   ]
  },
  {
   "cell_type": "code",
   "execution_count": null,
   "metadata": {},
   "outputs": [],
   "source": [
    "image, background, _, _ = simulator.simulate_images(true_catalog, rcfs, rcf_indices)"
   ]
  },
  {
   "cell_type": "code",
   "execution_count": null,
   "metadata": {},
   "outputs": [],
   "source": [
    "# plot a coadd image\n",
    "plt.imshow(image[3].sum(0).numpy())\n",
    "plt.colorbar()"
   ]
  },
  {
   "cell_type": "code",
   "execution_count": null,
   "metadata": {},
   "outputs": [],
   "source": [
    "batch = {\"images\": image.cuda(), \"background\": background.cuda()}"
   ]
  },
  {
   "cell_type": "markdown",
   "metadata": {},
   "source": [
    "# comparing joint and marginal"
   ]
  },
  {
   "cell_type": "code",
   "execution_count": null,
   "metadata": {},
   "outputs": [],
   "source": [
    "joint_cats = encoder.sample(batch)"
   ]
  },
  {
   "cell_type": "code",
   "execution_count": null,
   "metadata": {},
   "outputs": [],
   "source": [
    "marginal_cats = encoder.sample(batch, cat_type=\"marginal\")"
   ]
  },
  {
   "cell_type": "code",
   "execution_count": null,
   "metadata": {},
   "outputs": [],
   "source": [
    "joint_cats[\"n_sources\"][:, 9:11, 9].sum(1).float().mean()"
   ]
  },
  {
   "cell_type": "code",
   "execution_count": null,
   "metadata": {},
   "outputs": [],
   "source": [
    "marginal_cats[\"n_sources\"][:, 9:11, 9].sum(1).float().mean()"
   ]
  },
  {
   "cell_type": "code",
   "execution_count": null,
   "metadata": {},
   "outputs": [],
   "source": [
    "# percent of detections misclassified as galaxies\n",
    "((marginal_cats[\"source_type\"][:, 9:11, 9, 0, 0] == 1) * marginal_cats[\"n_sources\"][:, 9:11, 9]).sum() / marginal_cats[\"n_sources\"][:, 9:11, 9].sum()"
   ]
  },
  {
   "cell_type": "code",
   "execution_count": null,
   "metadata": {},
   "outputs": [],
   "source": [
    "# percent of detections misclassified as galaxies\n",
    "((joint_cats[\"source_type\"][:, 9:11, 9, 0, 0] == 1) * joint_cats[\"n_sources\"][:, 9:11, 9]).sum() / joint_cats[\"n_sources\"][:, 9:11, 9].sum()"
   ]
  },
  {
   "cell_type": "markdown",
   "metadata": {},
   "source": [
    "Conclusions from several runs:\n",
    " * When both star are 4 pixels apart, joint is slightly likely to detect both. This is surprising because only joint can surpress one light source if has already detected another nearby. But probably 4 pixels is so far that there's minimal ambiguity.\n",
    " * When stars get closer, to within 2.4 pixels, there's quite a bit of ambiguity. Many stars are classified as galaxies, and then only one galaxy is detected. The flux needs to increase a lot (to 4 or so, whereas only 0.5 flux is needed for a single detection) before close stars are both usually (>50%) detected.\n",
    " * Joint seems to make many fewer (~30% fewer) misclassifications of stars as galaxies."
   ]
  },
  {
   "cell_type": "markdown",
   "metadata": {},
   "source": []
  }
 ],
 "metadata": {
  "kernelspec": {
   "display_name": ".venv",
   "language": "python",
   "name": "python3"
  },
  "language_info": {
   "codemirror_mode": {
    "name": "ipython",
    "version": 3
   },
   "file_extension": ".py",
   "mimetype": "text/x-python",
   "name": "python",
   "nbconvert_exporter": "python",
   "pygments_lexer": "ipython3",
   "version": "3.10.12"
  }
 },
 "nbformat": 4,
 "nbformat_minor": 2
}

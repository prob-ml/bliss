{
 "cells": [
  {
   "cell_type": "markdown",
   "metadata": {},
   "source": [
    "# Multiple light sources\n",
    "\n",
    "Two bright (easily detected) stars in adjacent tiles. Comparing samples with independent and dependent tiling."
   ]
  },
  {
   "cell_type": "markdown",
   "metadata": {},
   "source": [
    "### Preliminaries"
   ]
  },
  {
   "cell_type": "code",
   "execution_count": null,
   "metadata": {},
   "outputs": [],
   "source": [
    "%matplotlib inline"
   ]
  },
  {
   "cell_type": "code",
   "execution_count": null,
   "metadata": {},
   "outputs": [],
   "source": [
    "from os import environ\n",
    "environ[\"CUDA_VISIBLE_DEVICES\"] = \"3\"\n",
    "\n",
    "from pathlib import Path\n",
    "import torch\n",
    "from hydra import initialize, compose\n",
    "from hydra.utils import instantiate\n",
    "from bliss.encoder.encoder import Encoder\n",
    "from bliss.catalog import TileCatalog\n",
    "from matplotlib import pyplot as plt"
   ]
  },
  {
   "cell_type": "code",
   "execution_count": null,
   "metadata": {},
   "outputs": [],
   "source": [
    "environ[\"BLISS_HOME\"] = str(Path().resolve().parents[1])\n",
    "with initialize(config_path=\"../../bliss/conf\", version_base=None):\n",
    "    cfg = compose(\"base_config\")\n",
    "\n",
    "encoder: Encoder = instantiate(cfg.encoder)\n",
    "encoder.load_state_dict(torch.load(\"../../data/pretrained_models/clahed_logged_20percent.pt\"))\n",
    "encoder.eval()\n",
    "encoder.cuda()\n",
    "torch.set_grad_enabled(False)\n",
    "\n",
    "simulator = instantiate(cfg.simulator)"
   ]
  },
  {
   "cell_type": "markdown",
   "metadata": {},
   "source": [
    "### Generating Data"
   ]
  },
  {
   "cell_type": "code",
   "execution_count": null,
   "metadata": {},
   "outputs": [],
   "source": [
    "n = 50\n",
    "n_sources = torch.zeros(n, 20, 20, dtype=torch.long)\n",
    "n_sources[:, 9, 10] = 1\n",
    "n_sources[:, 10, 10] = 1\n",
    "\n",
    "locs = torch.ones(n, 20, 20, 1, 2) * 0.5\n",
    "locs[:, 9, 10, 0, 0] = 0.7\n",
    "locs[:, 10, 10, 0, 0] = 0.01\n",
    "\n",
    "source_type = torch.zeros(n, 20, 20, 1, 1, dtype=torch.long)\n",
    "\n",
    "true_catalog_dict = {\n",
    "    \"n_sources\": n_sources,\n",
    "    \"source_type\": source_type,\n",
    "    \"locs\": locs,\n",
    "    \"star_fluxes\": torch.ones(n, 20, 20, 1, 5) * 4,  # 21 magnitude\n",
    "    \"galaxy_fluxes\": torch.ones(n, 20, 20, 1, 5),\n",
    "}\n",
    "true_catalog = TileCatalog(4, true_catalog_dict)"
   ]
  },
  {
   "cell_type": "code",
   "execution_count": null,
   "metadata": {},
   "outputs": [],
   "source": [
    "rcfs, rcf_indices = simulator.randomized_image_ids(true_catalog.n_sources.size(0))"
   ]
  },
  {
   "cell_type": "code",
   "execution_count": null,
   "metadata": {},
   "outputs": [],
   "source": [
    "image, background, _, _ = simulator.simulate_images(true_catalog, rcfs, rcf_indices)"
   ]
  },
  {
   "cell_type": "code",
   "execution_count": null,
   "metadata": {},
   "outputs": [],
   "source": [
    "import numpy as np\n",
    "\n",
    "plt.imshow(image[1, 2, 32:48, 32:48].numpy())\n",
    "plt.xticks(np.arange(4) * 4 + 3.5)\n",
    "plt.yticks(np.arange(4) * 4 + 3.5)\n",
    "ax = plt.gca()\n",
    "ax.set_xticklabels([])\n",
    "ax.set_yticklabels([])\n",
    "ax.tick_params(axis='both', which='both', length=0)\n",
    "plt.colorbar();"
   ]
  },
  {
   "cell_type": "code",
   "execution_count": null,
   "metadata": {},
   "outputs": [],
   "source": [
    "import numpy as np\n",
    "\n",
    "plt.imshow(image[1, 2, 32:48, 32:48].numpy())\n",
    "plt.grid(color='white', linewidth=1, linestyle='dotted')\n",
    "plt.xticks(np.arange(4) * 4 + 3.5)\n",
    "plt.yticks(np.arange(4) * 4 + 3.5)\n",
    "\n",
    "plt.plot(7.5 + 0.5 * 4, 3.5 + locs[1, 9, 10, 0, 0] * 4, 'ro', markersize=7)\n",
    "plt.plot(7.5 + 0.5 * 4, 7.5 + locs[1, 10, 10, 0, 0] * 4, 'ro', markersize=7)\n",
    "ax = plt.gca()\n",
    "ax.set_xticklabels([])\n",
    "ax.set_yticklabels([])\n",
    "ax.tick_params(axis='both', which='both', length=0)\n",
    "plt.colorbar();"
   ]
  },
  {
   "cell_type": "code",
   "execution_count": null,
   "metadata": {},
   "outputs": [],
   "source": [
    "batch = {\"images\": image.cuda(), \"background\": background.cuda()}"
   ]
  },
  {
   "cell_type": "markdown",
   "metadata": {},
   "source": [
    "### Comparing joint and marginal"
   ]
  },
  {
   "cell_type": "code",
   "execution_count": null,
   "metadata": {},
   "outputs": [],
   "source": [
    "dependent_cat = encoder.sample(batch, use_mode=False)"
   ]
  },
  {
   "cell_type": "code",
   "execution_count": null,
   "metadata": {},
   "outputs": [],
   "source": [
    "encoder.use_checkerboard = False\n",
    "independent_cat = encoder.sample(batch, use_mode=False)"
   ]
  },
  {
   "cell_type": "code",
   "execution_count": null,
   "metadata": {},
   "outputs": [],
   "source": [
    "dependent_cat[\"n_sources\"][:, 8:10, 9].sum(dim=0)"
   ]
  },
  {
   "cell_type": "code",
   "execution_count": null,
   "metadata": {},
   "outputs": [],
   "source": [
    "independent_cat[\"n_sources\"][:, 8:10, 9].sum(dim=0)"
   ]
  },
  {
   "cell_type": "code",
   "execution_count": null,
   "metadata": {},
   "outputs": [],
   "source": [
    "(\n",
    "    dependent_cat[\"n_sources\"][:, 8:10, 9].sum(1).float().mean().item(),\n",
    "    independent_cat[\"n_sources\"][:, 8:10, 9].sum(1).float().mean().item()\n",
    ")"
   ]
  },
  {
   "cell_type": "code",
   "execution_count": null,
   "metadata": {},
   "outputs": [],
   "source": [
    "# percent of detections misclassified as galaxies\n",
    "is_on = independent_cat[\"n_sources\"][:, 8:10, 9]\n",
    "((independent_cat[\"source_type\"][:, 8:10, 9, 0, 0] == 1) * is_on).sum() / is_on.sum()"
   ]
  },
  {
   "cell_type": "code",
   "execution_count": null,
   "metadata": {},
   "outputs": [],
   "source": [
    "# percent of detections misclassified as galaxies\n",
    "is_on = dependent_cat[\"n_sources\"][:, 8:10, 9]\n",
    "((dependent_cat[\"source_type\"][:, 8:10, 9, 0, 0] == 1) * is_on).sum() / is_on.sum()"
   ]
  },
  {
   "cell_type": "markdown",
   "metadata": {},
   "source": [
    "Conclusions from several runs:\n",
    " * When both star are 4 pixels apart, joint is slightly likely to detect both. This is surprising because only joint can surpress one light source if has already detected another nearby. But probably 4 pixels is so far that there's minimal ambiguity.\n",
    " * When stars get closer, to within 2.4 pixels, there's quite a bit of ambiguity. Many stars are classified as galaxies, and then only one galaxy is detected. The flux needs to increase a lot (to 4 or so, whereas only 0.5 flux is needed for a single detection) before close stars are both usually (>50%) detected.\n",
    " * Joint seems to make many fewer (~30% fewer) misclassifications of stars as galaxies."
   ]
  },
  {
   "cell_type": "markdown",
   "metadata": {},
   "source": []
  }
 ],
 "metadata": {
  "kernelspec": {
   "display_name": ".venv",
   "language": "python",
   "name": "python3"
  },
  "language_info": {
   "codemirror_mode": {
    "name": "ipython",
    "version": 3
   },
   "file_extension": ".py",
   "mimetype": "text/x-python",
   "name": "python",
   "nbconvert_exporter": "python",
   "pygments_lexer": "ipython3",
   "version": "3.10.12"
  }
 },
 "nbformat": 4,
 "nbformat_minor": 2
}

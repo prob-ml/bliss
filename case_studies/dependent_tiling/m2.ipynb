{
 "cells": [
  {
   "cell_type": "code",
   "execution_count": null,
   "metadata": {},
   "outputs": [],
   "source": [
    "from astropy.io import fits\n",
    "from astropy.wcs import WCS\n",
    "\n",
    "f = fits.open('/home/regier/bliss/data/sdss/2583/2/136/frame-r-002583-2-0136.fits')\n",
    "w = WCS(f[0].header)\n",
    "\n",
    "# lower-left corner of the 100x100-pixel study area is at pixel (310, 630)\n",
    "w.pixel_to_world(310, 630)"
   ]
  },
  {
   "cell_type": "code",
   "execution_count": null,
   "metadata": {},
   "outputs": [],
   "source": [
    "import pandas as pd\n",
    "\n",
    "# catalog from https://catalogs.mast.stsci.edu/hsc/\n",
    "# target: 323.3357504,-0.807026\n",
    "# radius of 32 arcsec; v3; detailed; MagAuto <= 24\n",
    "fn = '/home/regier/bliss/case_studies/dependent_tiling/HSC-10_20_2023.csv'\n",
    "hst_catalog = pd.read_csv(fn)\n",
    "hst_catalog"
   ]
  },
  {
   "cell_type": "code",
   "execution_count": null,
   "metadata": {},
   "outputs": [],
   "source": [
    "from astropy.coordinates import SkyCoord\n",
    "\n",
    "hst_coords = SkyCoord(ra=hst_catalog['MatchRA'], dec=hst_catalog['MatchDec'], unit='deg')\n",
    "hst_pix = w.world_to_pixel(hst_coords)"
   ]
  },
  {
   "cell_type": "code",
   "execution_count": null,
   "metadata": {},
   "outputs": [],
   "source": [
    "from matplotlib import pyplot as plt\n",
    "\n",
    "plt.imshow(f[0].data, origin='lower', cmap='gray_r')"
   ]
  },
  {
   "cell_type": "code",
   "execution_count": null,
   "metadata": {},
   "outputs": [],
   "source": [
    "from matplotlib.patches import Rectangle\n",
    "\n",
    "plt.imshow(f[0].data, origin='lower', cmap='gray_r')\n",
    "plt.scatter(hst_pix[0], hst_pix[1], s=10, c='r')\n",
    "rect = Rectangle((310, 630), 100, 100, linewidth=1, edgecolor='b', facecolor='none')\n",
    "plt.gca().add_patch(rect)\n"
   ]
  },
  {
   "cell_type": "code",
   "execution_count": null,
   "metadata": {},
   "outputs": [],
   "source": [
    "in_bounds = (hst_pix[0] > 310) & (hst_pix[0] < 410) & (hst_pix[1] > 630) & (hst_pix[1] < 730)\n",
    "hst_inbounds = hst_catalog[in_bounds]"
   ]
  },
  {
   "cell_type": "code",
   "execution_count": null,
   "metadata": {},
   "outputs": [],
   "source": [
    "plt.imshow(f[0].data, origin='lower', cmap='gray_r')\n",
    "plt.scatter(hst_pix[0][in_bounds], hst_pix[1][in_bounds], s=10, c='r')\n",
    "rect = Rectangle((310, 630), 100, 100, linewidth=1, edgecolor='b', facecolor='none')\n",
    "plt.gca().add_patch(rect)"
   ]
  },
  {
   "cell_type": "code",
   "execution_count": null,
   "metadata": {},
   "outputs": [],
   "source": [
    "hst_inbounds[\"MatchID\"].unique().shape"
   ]
  },
  {
   "cell_type": "code",
   "execution_count": null,
   "metadata": {},
   "outputs": [],
   "source": [
    "hst_inbounds"
   ]
  },
  {
   "cell_type": "code",
   "execution_count": null,
   "metadata": {},
   "outputs": [],
   "source": [
    "import numpy as np\n",
    "np.median(f[0].data)"
   ]
  },
  {
   "cell_type": "code",
   "execution_count": null,
   "metadata": {},
   "outputs": [],
   "source": [
    "from bliss.surveys.sdss import SloanDigitalSkySurvey\n",
    "\n",
    "psf_config = {\"pixel_scale\": 0.396, \"psf_slen\": 25}\n",
    "rcf_conf = [{\"run\": 2583, \"camcol\": 2, \"fields\": [136,]}]\n",
    "\n",
    "sdss_obj = SloanDigitalSkySurvey(\n",
    "    psf_config,\n",
    "    rcf_conf,\n",
    "    dir_path=\"/data/sdss\",\n",
    "    load_image_data = True,\n",
    ")\n",
    "\n",
    "img = sdss_obj.items[0][\"image\"][2][630:730, 310:410]\n",
    "bkgd = sdss_obj.items[0][\"background\"][2][630:730, 310:410]"
   ]
  },
  {
   "cell_type": "code",
   "execution_count": null,
   "metadata": {},
   "outputs": [],
   "source": [
    "np.median(img - bkgd)"
   ]
  },
  {
   "cell_type": "code",
   "execution_count": null,
   "metadata": {},
   "outputs": [],
   "source": [
    "np.mean(img - bkgd)"
   ]
  },
  {
   "cell_type": "code",
   "execution_count": null,
   "metadata": {},
   "outputs": [],
   "source": [
    "from os import environ\n",
    "environ[\"CUDA_VISIBLE_DEVICES\"] = \"1\"\n",
    "\n",
    "from pathlib import Path\n",
    "import torch\n",
    "from hydra import initialize, compose\n",
    "from hydra.utils import instantiate\n",
    "from bliss.encoder import Encoder\n",
    "\n",
    "\n",
    "environ[\"BLISS_HOME\"] = str(Path().resolve().parents[1])\n",
    "with initialize(config_path=\"../../case_studies/dependent_tiling/\", version_base=None):\n",
    "    cfg = compose(\"config\", {\"encoder.two_layers=true\"})\n",
    "\n",
    "encoder: Encoder = instantiate(cfg.encoder)\n",
    "encoder.load_state_dict(torch.load(\"../../case_studies/dependent_tiling/m2.pt\"))\n",
    "encoder.eval()\n",
    "encoder.cuda()\n",
    "\n",
    "torch.set_grad_enabled(False)"
   ]
  },
  {
   "cell_type": "code",
   "execution_count": null,
   "metadata": {},
   "outputs": [],
   "source": [
    "#batch = {\n",
    "#    \"images\": torch.from_numpy(img).unsqueeze(0).cuda(),\n",
    "#    \"background\": torch.from_numpy(bkgd).unsqueeze(0).cuda(),\n",
    "#}\n",
    "#encoder.predict_step(batch, None, None)"
   ]
  },
  {
   "cell_type": "code",
   "execution_count": 18,
   "metadata": {},
   "outputs": [
    {
     "name": "stdout",
     "output_type": "stream",
     "text": [
      "Unexpected exception formatting exception. Falling back to standard exception\n"
     ]
    },
    {
     "name": "stderr",
     "output_type": "stream",
     "text": [
      "Traceback (most recent call last):\n",
      "  File \"/home/regier/bliss/.venv/lib/python3.10/site-packages/hydra/_internal/instantiate/_instantiate2.py\", line 92, in _call_target\n",
      "    return _target_(*args, **kwargs)\n",
      "  File \"/home/regier/bliss/bliss/surveys/decals.py\", line 134, in __init__\n",
      "    self.psf = DECaLS_PSF(\n",
      "  File \"/home/regier/bliss/bliss/surveys/decals.py\", line 532, in __init__\n",
      "    self.psf_galsim[brickname] = self._get_psf_coadded(\n",
      "  File \"/home/regier/bliss/bliss/surveys/decals.py\", line 551, in _get_psf_coadded\n",
      "    des_obj, idx = DECaLS.constituent_obj(\n",
      "  File \"/home/regier/bliss/bliss/surveys/decals.py\", line 98, in constituent_obj\n",
      "    idx = cls.constituent_objs.idx(des_image_id)\n",
      "  File \"/home/regier/bliss/bliss/surveys/des.py\", line 122, in idx\n",
      "    return self.image_id_list.index(self.to_dictconfig(image_id))\n",
      "ValueError: {'sky_coord': {'ra': 337.05042330944565, 'dec': -0.8148310474424231}, 'decals_brickname': '3368m010', 'ccdname': 'S15', 'g': 'decam/CP/V4.8.2a/CP20141020/c4d_141021_015854_ooi_g_ls9', 'r': '', 'i': '', 'z': ''} is not in list\n",
      "\n",
      "The above exception was the direct cause of the following exception:\n",
      "\n",
      "Traceback (most recent call last):\n",
      "  File \"/home/regier/bliss/.venv/lib/python3.10/site-packages/IPython/core/interactiveshell.py\", line 3460, in run_code\n",
      "    exec(code_obj, self.user_global_ns, self.user_ns)\n",
      "  File \"/tmp/ipykernel_208085/2122137399.py\", line 3, in <module>\n",
      "    align_predict_eval(cfg)\n",
      "  File \"/home/regier/bliss/bliss/predict.py\", line 177, in align_predict_eval\n",
      "  File \"/home/regier/bliss/bliss/predict.py\", line 362, in plot_predict\n",
      "  File \"/home/regier/bliss/bliss/predict.py\", line 269, in plot_image\n",
      "    images_for_frame,\n",
      "  File \"/home/regier/bliss/.venv/lib/python3.10/site-packages/hydra/_internal/instantiate/_instantiate2.py\", line 226, in instantiate\n",
      "    return instantiate_node(\n",
      "  File \"/home/regier/bliss/.venv/lib/python3.10/site-packages/hydra/_internal/instantiate/_instantiate2.py\", line 347, in instantiate_node\n",
      "    return _call_target(_target_, partial, args, kwargs, full_key)\n",
      "  File \"/home/regier/bliss/.venv/lib/python3.10/site-packages/hydra/_internal/instantiate/_instantiate2.py\", line 97, in _call_target\n",
      "    raise InstantiationException(msg) from e\n",
      "hydra.errors.InstantiationException: Error in call to target 'bliss.surveys.decals.DarkEnergyCameraLegacySurvey':\n",
      "ValueError(\"{'sky_coord': {'ra': 337.05042330944565, 'dec': -0.8148310474424231}, 'decals_brickname': '3368m010', 'ccdname': 'S15', 'g': 'decam/CP/V4.8.2a/CP20141020/c4d_141021_015854_ooi_g_ls9', 'r': '', 'i': '', 'z': ''} is not in list\")\n",
      "full_key: surveys.decals\n",
      "\n",
      "During handling of the above exception, another exception occurred:\n",
      "\n",
      "Traceback (most recent call last):\n",
      "  File \"/home/regier/bliss/.venv/lib/python3.10/site-packages/IPython/core/interactiveshell.py\", line 2057, in showtraceback\n",
      "    stb = self.InteractiveTB.structured_traceback(\n",
      "  File \"/home/regier/bliss/.venv/lib/python3.10/site-packages/IPython/core/ultratb.py\", line 1288, in structured_traceback\n",
      "    return FormattedTB.structured_traceback(\n",
      "  File \"/home/regier/bliss/.venv/lib/python3.10/site-packages/IPython/core/ultratb.py\", line 1177, in structured_traceback\n",
      "    return VerboseTB.structured_traceback(\n",
      "  File \"/home/regier/bliss/.venv/lib/python3.10/site-packages/IPython/core/ultratb.py\", line 1030, in structured_traceback\n",
      "    formatted_exception = self.format_exception_as_a_whole(etype, evalue, etb, number_of_lines_of_context,\n",
      "  File \"/home/regier/bliss/.venv/lib/python3.10/site-packages/IPython/core/ultratb.py\", line 960, in format_exception_as_a_whole\n",
      "    frames.append(self.format_record(record))\n",
      "  File \"/home/regier/bliss/.venv/lib/python3.10/site-packages/IPython/core/ultratb.py\", line 870, in format_record\n",
      "    frame_info.lines, Colors, self.has_colors, lvals\n",
      "  File \"/home/regier/bliss/.venv/lib/python3.10/site-packages/IPython/core/ultratb.py\", line 704, in lines\n",
      "    return self._sd.lines\n",
      "  File \"/home/regier/bliss/.venv/lib/python3.10/site-packages/stack_data/utils.py\", line 144, in cached_property_wrapper\n",
      "    value = obj.__dict__[self.func.__name__] = self.func(obj)\n",
      "  File \"/home/regier/bliss/.venv/lib/python3.10/site-packages/stack_data/core.py\", line 734, in lines\n",
      "    pieces = self.included_pieces\n",
      "  File \"/home/regier/bliss/.venv/lib/python3.10/site-packages/stack_data/utils.py\", line 144, in cached_property_wrapper\n",
      "    value = obj.__dict__[self.func.__name__] = self.func(obj)\n",
      "  File \"/home/regier/bliss/.venv/lib/python3.10/site-packages/stack_data/core.py\", line 681, in included_pieces\n",
      "    pos = scope_pieces.index(self.executing_piece)\n",
      "  File \"/home/regier/bliss/.venv/lib/python3.10/site-packages/stack_data/utils.py\", line 144, in cached_property_wrapper\n",
      "    value = obj.__dict__[self.func.__name__] = self.func(obj)\n",
      "  File \"/home/regier/bliss/.venv/lib/python3.10/site-packages/stack_data/core.py\", line 660, in executing_piece\n",
      "    return only(\n",
      "  File \"/home/regier/bliss/.venv/lib/python3.10/site-packages/executing/executing.py\", line 190, in only\n",
      "    raise NotOneValueFound('Expected one value, found 0')\n",
      "executing.executing.NotOneValueFound: Expected one value, found 0\n"
     ]
    }
   ],
   "source": [
    "from bliss.predict import predict_dataset\n",
    "\n",
    "predict_dataset(cfg)"
   ]
  },
  {
   "cell_type": "code",
   "execution_count": null,
   "metadata": {},
   "outputs": [],
   "source": []
  }
 ],
 "metadata": {
  "kernelspec": {
   "display_name": ".venv",
   "language": "python",
   "name": "python3"
  },
  "language_info": {
   "codemirror_mode": {
    "name": "ipython",
    "version": 3
   },
   "file_extension": ".py",
   "mimetype": "text/x-python",
   "name": "python",
   "nbconvert_exporter": "python",
   "pygments_lexer": "ipython3",
   "version": "3.10.12"
  }
 },
 "nbformat": 4,
 "nbformat_minor": 2
}

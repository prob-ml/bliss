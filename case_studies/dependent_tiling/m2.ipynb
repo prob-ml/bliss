{
 "cells": [
  {
   "cell_type": "markdown",
   "metadata": {},
   "source": [
    "## Load SDSS image data"
   ]
  },
  {
   "cell_type": "code",
   "execution_count": null,
   "metadata": {},
   "outputs": [],
   "source": [
    "from astropy.io import fits\n",
    "from astropy.wcs import WCS\n",
    "\n",
    "f = fits.open('/home/regier/bliss/data/sdss/2583/2/136/frame-r-002583-2-0136.fits')\n",
    "w = WCS(f[0].header)\n",
    "\n",
    "# lower-left corner of the 100x100-pixel study area is at pixel (310, 630)\n",
    "w.pixel_to_world(310, 630)"
   ]
  },
  {
   "cell_type": "code",
   "execution_count": null,
   "metadata": {},
   "outputs": [],
   "source": [
    "from matplotlib import pyplot as plt\n",
    "\n",
    "plt.imshow(f[0].data, origin='lower', cmap='gray_r')"
   ]
  },
  {
   "cell_type": "markdown",
   "metadata": {},
   "source": [
    "## Loading/viewing HST predictions"
   ]
  },
  {
   "cell_type": "code",
   "execution_count": null,
   "metadata": {},
   "outputs": [],
   "source": [
    "from bliss.catalog import FullCatalog\n",
    "import torch\n",
    "import numpy as np\n",
    "\n",
    "hubble_cat_file = \"/home/regier/hlsp_acsggct_hst_acs-wfc_ngc7089_r.rdviq.cal.adj.zpt\"\n",
    "hubble_cat = np.loadtxt(hubble_cat_file, skiprows=3, usecols=(9,21,22))\n",
    "\n",
    "rmag = torch.from_numpy(hubble_cat[:, 0])\n",
    "ra = torch.from_numpy(hubble_cat[:, 1])\n",
    "dec = torch.from_numpy(hubble_cat[:, 2])\n",
    "\n",
    "plocs = FullCatalog.plocs_from_ra_dec(ra, dec, w)"
   ]
  },
  {
   "cell_type": "code",
   "execution_count": null,
   "metadata": {},
   "outputs": [],
   "source": [
    "from matplotlib.patches import Rectangle\n",
    "\n",
    "plt.imshow(f[0].data, origin='lower', cmap='gray_r')\n",
    "plt.scatter(plocs[:, 1], plocs[:, 0], s=10, c='r')\n",
    "rect = Rectangle((310, 630), 100, 100, linewidth=1, edgecolor='b', facecolor='none')\n",
    "plt.gca().add_patch(rect)"
   ]
  },
  {
   "cell_type": "code",
   "execution_count": null,
   "metadata": {},
   "outputs": [],
   "source": [
    "in_bounds = (plocs[:, 1] > 310) & (plocs[:, 1] < 410) & (plocs[:, 0] > 630) & (plocs[:, 0] < 730)\n",
    "in_bounds.sum()"
   ]
  },
  {
   "cell_type": "code",
   "execution_count": null,
   "metadata": {},
   "outputs": [],
   "source": [
    "plt.imshow(f[0].data, origin='lower', cmap='gray_r')\n",
    "plt.scatter(plocs[:, 1][in_bounds], plocs[:, 0][in_bounds], s=10, c='r')\n",
    "rect = Rectangle((310, 630), 100, 100, linewidth=1, edgecolor='b', facecolor='none')\n",
    "plt.gca().add_patch(rect)"
   ]
  },
  {
   "cell_type": "code",
   "execution_count": null,
   "metadata": {},
   "outputs": [],
   "source": [
    "rmag = rmag[in_bounds]\n",
    "plocs = plocs[in_bounds]"
   ]
  },
  {
   "cell_type": "code",
   "execution_count": null,
   "metadata": {},
   "outputs": [],
   "source": [
    "plocs_square = plocs - torch.tensor([630, 310])\n",
    "\n",
    "from bliss.utils.flux_units import convert_mag_to_nmgy\n",
    "r_fluxes_nmgy = convert_mag_to_nmgy(rmag, nelec_per_nmgy=1)\n",
    "\n",
    "# these magnitudes are about 22% off: the hubble fw606 band filter curve\n",
    "#  isn't exactly the sdss r band filter curve\n",
    "r_fluxes_nmgy *= 1.22"
   ]
  },
  {
   "cell_type": "code",
   "execution_count": null,
   "metadata": {},
   "outputs": [],
   "source": [
    "d = {\n",
    "    \"plocs\": plocs_square.unsqueeze(0),\n",
    "    \"star_fluxes\": r_fluxes_nmgy.unsqueeze(0).unsqueeze(2).expand([-1, -1, 5]),\n",
    "    \"galaxy_fluxes\": r_fluxes_nmgy.unsqueeze(0).unsqueeze(2).expand([-1, -1, 5]) * 0.0,\n",
    "    \"n_sources\": torch.tensor(plocs.shape[0]).unsqueeze(0),\n",
    "    \"source_type\": torch.zeros(plocs.shape[0]).unsqueeze(0).unsqueeze(2).long(),\n",
    "}"
   ]
  },
  {
   "cell_type": "code",
   "execution_count": null,
   "metadata": {},
   "outputs": [],
   "source": [
    "true_cat_all = FullCatalog(100, 100, d)\n",
    "true_cat_all.n_sources.sum()"
   ]
  },
  {
   "cell_type": "code",
   "execution_count": null,
   "metadata": {},
   "outputs": [],
   "source": [
    "true_tile_cat_all = true_cat_all.to_tile_catalog(2, 11)\n",
    "true_tile_cat_all.n_sources.sum()"
   ]
  },
  {
   "cell_type": "code",
   "execution_count": null,
   "metadata": {},
   "outputs": [],
   "source": [
    "# TODO: figure out Bryan's cutoff (1114 stars) and training the corresponding min_flux_threshold\n",
    "is_bright = rmag < 22\n",
    "is_bright.sum()"
   ]
  },
  {
   "cell_type": "code",
   "execution_count": null,
   "metadata": {},
   "outputs": [],
   "source": [
    "d = {\n",
    "    \"plocs\": plocs_square[is_bright].unsqueeze(0),\n",
    "    \"star_fluxes\": r_fluxes_nmgy[is_bright].unsqueeze(0).unsqueeze(2).expand([-1, -1, 5]),\n",
    "    \"galaxy_fluxes\": r_fluxes_nmgy[is_bright].unsqueeze(0).unsqueeze(2).expand([-1, -1, 5]) * 0.0,\n",
    "    \"n_sources\": torch.tensor(plocs[is_bright].shape[0]).unsqueeze(0),\n",
    "    \"source_type\": torch.zeros(plocs[is_bright].shape[0]).unsqueeze(0).unsqueeze(2).long(),\n",
    "}\n",
    "true_cat = FullCatalog(100, 100, d)\n",
    "true_cat.n_sources.sum()"
   ]
  },
  {
   "cell_type": "code",
   "execution_count": null,
   "metadata": {},
   "outputs": [],
   "source": [
    "true_tile_cat = true_cat.to_tile_catalog(2, 5)\n",
    "true_tile_cat.n_sources.sum()"
   ]
  },
  {
   "cell_type": "code",
   "execution_count": null,
   "metadata": {},
   "outputs": [],
   "source": [
    "true_tile_cat1 = true_tile_cat.get_brightest_sources_per_tile(band=2, exclude_num=0)\n",
    "true_tile_cat1.n_sources.sum()"
   ]
  },
  {
   "cell_type": "markdown",
   "metadata": {},
   "source": [
    "## Making predictions with BLISS"
   ]
  },
  {
   "cell_type": "code",
   "execution_count": null,
   "metadata": {},
   "outputs": [],
   "source": [
    "from os import environ\n",
    "environ[\"CUDA_VISIBLE_DEVICES\"] = \"4\"\n",
    "\n",
    "from pathlib import Path\n",
    "from hydra import initialize, compose\n",
    "from bliss.main import predict\n",
    "\n",
    "environ[\"BLISS_HOME\"] = str(Path().resolve().parents[1])\n",
    "with initialize(config_path=\"../../case_studies/dependent_tiling/\", version_base=None):\n",
    "    cfg = compose(\"m2_config\", {\n",
    "        \"encoder.tiles_to_crop=3\",\n",
    "        \"predict.weight_save_path=/home/regier/bliss/output/sample2fixed/version_0/checkpoints/best_encoder.ckpt\"\n",
    "        })\n",
    "\n",
    "bliss_cats = predict(cfg.predict)\n",
    "bliss_cat, = bliss_cats.values()"
   ]
  },
  {
   "cell_type": "code",
   "execution_count": null,
   "metadata": {},
   "outputs": [],
   "source": [
    "true_cat.n_sources.sum(), bliss_cat.n_sources.sum()"
   ]
  },
  {
   "cell_type": "code",
   "execution_count": null,
   "metadata": {},
   "outputs": [],
   "source": [
    "from bliss.encoder.metrics import CatalogMetrics\n",
    "\n",
    "metrics = CatalogMetrics(\n",
    "    mode=\"matching\", slack=1, survey_bands=[0, 1, 2, 3, 4]\n",
    ")"
   ]
  },
  {
   "cell_type": "code",
   "execution_count": null,
   "metadata": {},
   "outputs": [],
   "source": [
    "# TODO: require flux within 0.5 mag (as in Bryan's code) for matches and use 0.5 distance (L2?)\n",
    "metric = metrics(true_cat, bliss_cat)\n",
    "metric[\"detection_recall\"], metric[\"detection_precision\"], metric[\"f1\"]"
   ]
  },
  {
   "cell_type": "code",
   "execution_count": null,
   "metadata": {},
   "outputs": [],
   "source": [
    "metric = metrics(true_tile_cat1.to_full_catalog(), bliss_cat)\n",
    "metric[\"detection_recall\"], metric[\"detection_precision\"], metric[\"f1\"]"
   ]
  },
  {
   "cell_type": "markdown",
   "metadata": {},
   "source": [
    "### marginal\n",
    "\n",
    "marginal: (0.5738866329193115, 0.47767481207847595, 0.521379292011261)\n",
    "\n",
    "marginal (brightest): (0.5853960514068604, 0.3984835743904114, 0.4741854667663574)\n",
    "\n",
    "### dependent\n",
    "\n",
    "dependent: (0.5829959511756897, 0.5092838406562805, 0.5436526536941528)\n",
    "\n",
    "dependent (brightest): (0.5952970385551453, 0.4252873659133911, 0.4961320757865906)\n",
    "\n"
   ]
  },
  {
   "cell_type": "code",
   "execution_count": null,
   "metadata": {},
   "outputs": [],
   "source": [
    "from hydra.utils import instantiate\n",
    "\n",
    "encoder = instantiate(cfg.encoder)\n",
    "encoder.load_state_dict(torch.load(cfg.predict.weight_save_path)[\"state_dict\"])\n",
    "dataset = instantiate(cfg.predict.dataset)\n",
    "dataset.prepare_data()"
   ]
  },
  {
   "cell_type": "markdown",
   "metadata": {},
   "source": [
    "## Tune the prior\n",
    "\n",
    "summary statistics for default prior\n",
    "\n",
    "### real m2 ###\n",
    "\n",
    "```raw_images[0, 0].min().item()\n",
    "740.6287841796875\n",
    "\n",
    "raw_images[0, 0].max().item()\n",
    "123561.09375\n",
    "\n",
    "(raw_images[0, 0, 0,20:100,20:100] < 740).sum()\n",
    "tensor(0, device='cuda:0')\n",
    "\n",
    "(raw_images[0, 0, 0,20:100,20:100] < 800).sum()\n",
    "tensor(1, device='cuda:0')\n",
    "\n",
    "(raw_images[0, 0, 0,20:100,20:100] < 900).sum()\n",
    "tensor(166, device='cuda:0')\n",
    "```\n",
    "\n",
    "\n",
    "### synthetic m2 ###\n",
    "\n",
    "```[raw_images[i, 0].min().item() for i in range(5)]\n",
    "[606.47802734375, 609.2470703125, 578.3068237304688, 605.1005859375, 603.1253662109375]\n",
    "\n",
    "[raw_images[i, 0].max().item() for i in range(5)]\n",
    "[110249.140625, 114663.9453125, 113192.21875, 108567.078125, 102371\n",
    "\n",
    "(raw_images[0, 0, 0,20:100,20:100] < 640).sum()\n",
    "tensor(1, device='cuda:0')\n",
    "\n",
    "(raw_images[0, 0, 0,20:100,20:100] < 740).sum()\n",
    "tensor(64, device='cuda:0')\n",
    "\n",
    "(raw_images[0, 0, 0,20:100,20:100] < 800).sum()\n",
    "tensor(253, device='cuda:0')\n",
    "\n",
    "(raw_images[0, 0, 0,20:100,20:100] < 900).sum()\n",
    "tensor(756, device='cuda:0')\n",
    "```"
   ]
  },
  {
   "cell_type": "code",
   "execution_count": null,
   "metadata": {},
   "outputs": [],
   "source": [
    "obs_image = torch.from_numpy(dataset[0][\"image\"][2][6:-6, 6:-6])\n",
    "plt.imshow(obs_image)\n",
    "(obs_image - dataset[0][\"background\"][2, 6:-6, 6:-6]).abs().sum() / obs_image.sum()"
   ]
  },
  {
   "cell_type": "code",
   "execution_count": null,
   "metadata": {},
   "outputs": [],
   "source": [
    "simulator = instantiate(cfg.simulator)\n",
    "truth_images, _, _, _ = simulator.image_decoder.render_images(true_tile_cat_all, [(2583, 2, 136)])"
   ]
  },
  {
   "cell_type": "code",
   "execution_count": null,
   "metadata": {},
   "outputs": [],
   "source": [
    "true_recon = truth_images[0][2] + dataset[0][\"background\"][2][6:-6, 6:-6]\n",
    "plt.imshow(true_recon)\n",
    "(true_recon - obs_image).abs().sum() / obs_image.sum()"
   ]
  },
  {
   "cell_type": "code",
   "execution_count": null,
   "metadata": {},
   "outputs": [],
   "source": [
    "true_cat_all[\"star_fluxes\"][0, :, 2].max() * 856, truth_images[0][2][74:83, 64:73].sum()"
   ]
  },
  {
   "cell_type": "code",
   "execution_count": null,
   "metadata": {},
   "outputs": [],
   "source": [
    "(obs_image - truth_images[0][2]).median(), (obs_image - truth_images[0][2]).mean()"
   ]
  },
  {
   "cell_type": "code",
   "execution_count": null,
   "metadata": {},
   "outputs": [],
   "source": [
    "ss_obs = (obs_image - dataset[0][\"background\"][2, 6:-6, 6:-6])\n",
    "ss_obs[74:83, 63:73].sum()"
   ]
  },
  {
   "cell_type": "code",
   "execution_count": null,
   "metadata": {},
   "outputs": [],
   "source": [
    "simulator = instantiate(cfg.simulator)\n",
    "truth_images, _, _, _ = simulator.image_decoder.render_images(true_tile_cat, [(2583, 2, 136)])\n",
    "(obs_image - truth_images[0][2]).median(), (obs_image - truth_images[0][2]).mean()"
   ]
  },
  {
   "cell_type": "code",
   "execution_count": null,
   "metadata": {},
   "outputs": [],
   "source": [
    "bliss_tile_cat = bliss_cat.to_tile_catalog(2, 2)\n",
    "bliss_images, _, _, _ = simulator.image_decoder.render_images(bliss_tile_cat, [(2583, 2, 136)])\n"
   ]
  },
  {
   "cell_type": "code",
   "execution_count": null,
   "metadata": {},
   "outputs": [],
   "source": [
    "bliss_recon = 1.1 * bliss_images[0][2] + dataset[0][\"background\"][2, 6:-6, 6:-6]\n",
    "(obs_image - bliss_recon).median(), (obs_image - bliss_recon).mean()"
   ]
  },
  {
   "cell_type": "code",
   "execution_count": null,
   "metadata": {},
   "outputs": [],
   "source": [
    "dataset[0][\"background\"][2, 6:-6, 6:-6]"
   ]
  },
  {
   "cell_type": "code",
   "execution_count": null,
   "metadata": {},
   "outputs": [],
   "source": [
    "plt.imshow(bliss_recon)\n",
    "# TODO: use the rescaled bliss catalog to infer than ~710 is a better background; regenerate data; retrain (why?)\n",
    "# TODO: compare marginal bliss catalog, checkerboard, and multidetect in terms of f1 (synthetic & m2)\n",
    "# TODO: repeat analysis with samples of the approximate posterior (synthetic & m2)\n",
    "# TODO: boxplot of diff in f1 for synthetic frames of various methods?\n",
    "# TODO: require flux match of 0.5 mag"
   ]
  },
  {
   "cell_type": "code",
   "execution_count": null,
   "metadata": {},
   "outputs": [],
   "source": [
    "(\n",
    "    r_fluxes_nmgy[is_bright].sum() * 856 / obs_image.sum(),  # flux prop from bright sources\n",
    "    r_fluxes_nmgy[(rmag > 22) & (rmag < 23)].sum() * 856 / obs_image.sum(),  # flux prop from dim sources\n",
    "    r_fluxes_nmgy[rmag > 23].sum() * 856 / obs_image.sum(),  # flux prop from very dim sources\n",
    "    dataset[0][\"background\"][2, 6:-6, 6:-6].sum() / obs_image.sum()  # flux prop from background\n",
    ")"
   ]
  },
  {
   "cell_type": "code",
   "execution_count": null,
   "metadata": {},
   "outputs": [],
   "source": [
    "(r_fluxes_nmgy[rmag > 23].sum() * 856) / 100"
   ]
  },
  {
   "cell_type": "code",
   "execution_count": null,
   "metadata": {},
   "outputs": [],
   "source": [
    "plt.hist(r_fluxes_nmgy, log=True)"
   ]
  },
  {
   "cell_type": "code",
   "execution_count": null,
   "metadata": {},
   "outputs": [],
   "source": [
    "from scipy.stats import truncpareto\n",
    "rv = truncpareto(0.5, 1014)"
   ]
  },
  {
   "cell_type": "code",
   "execution_count": null,
   "metadata": {},
   "outputs": [],
   "source": [
    "r_counts = r_fluxes_nmgy * 856\n",
    "r_counts = r_counts[r_counts > 1]"
   ]
  },
  {
   "cell_type": "code",
   "execution_count": null,
   "metadata": {},
   "outputs": [],
   "source": [
    "rv.cdf(10)"
   ]
  },
  {
   "cell_type": "code",
   "execution_count": null,
   "metadata": {},
   "outputs": [],
   "source": [
    "(r_counts < 10).sum()"
   ]
  }
 ],
 "metadata": {
  "kernelspec": {
   "display_name": ".venv",
   "language": "python",
   "name": "python3"
  },
  "language_info": {
   "codemirror_mode": {
    "name": "ipython",
    "version": 3
   },
   "file_extension": ".py",
   "mimetype": "text/x-python",
   "name": "python",
   "nbconvert_exporter": "python",
   "pygments_lexer": "ipython3",
   "version": "3.10.12"
  }
 },
 "nbformat": 4,
 "nbformat_minor": 2
}

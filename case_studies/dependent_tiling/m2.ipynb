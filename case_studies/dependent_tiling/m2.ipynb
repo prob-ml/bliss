{
 "cells": [
  {
   "cell_type": "code",
   "execution_count": null,
   "metadata": {},
   "outputs": [],
   "source": [
    "from astropy.io import fits\n",
    "from astropy.wcs import WCS\n",
    "\n",
    "f = fits.open('/home/regier/bliss/data/sdss/2583/2/136/frame-r-002583-2-0136.fits')\n",
    "w = WCS(f[0].header)\n",
    "\n",
    "# lower-left corner of the 100x100-pixel study area is at pixel (310, 630)\n",
    "w.pixel_to_world(310, 630)"
   ]
  },
  {
   "cell_type": "code",
   "execution_count": null,
   "metadata": {},
   "outputs": [],
   "source": [
    "import pandas as pd\n",
    "\n",
    "# catalog from https://catalogs.mast.stsci.edu/hsc/\n",
    "# target: 323.3357504,-0.807026\n",
    "# radius of 32 arcsec; v3; detailed; MagAuto <= 24\n",
    "fn = '/home/regier/bliss/case_studies/dependent_tiling/HSC-10_20_2023.csv'\n",
    "hst_catalog = pd.read_csv(fn)\n",
    "hst_catalog"
   ]
  },
  {
   "cell_type": "code",
   "execution_count": null,
   "metadata": {},
   "outputs": [],
   "source": [
    "from astropy.coordinates import SkyCoord\n",
    "\n",
    "hst_coords = SkyCoord(ra=hst_catalog['MatchRA'], dec=hst_catalog['MatchDec'], unit='deg')\n",
    "hst_pix = w.world_to_pixel(hst_coords)"
   ]
  },
  {
   "cell_type": "code",
   "execution_count": null,
   "metadata": {},
   "outputs": [],
   "source": [
    "from matplotlib import pyplot as plt\n",
    "\n",
    "plt.imshow(f[0].data, origin='lower', cmap='gray_r')"
   ]
  },
  {
   "cell_type": "code",
   "execution_count": null,
   "metadata": {},
   "outputs": [],
   "source": [
    "from matplotlib.patches import Rectangle\n",
    "\n",
    "plt.imshow(f[0].data, origin='lower', cmap='gray_r')\n",
    "plt.scatter(hst_pix[0], hst_pix[1], s=10, c='r')\n",
    "rect = Rectangle((310, 630), 100, 100, linewidth=1, edgecolor='b', facecolor='none')\n",
    "plt.gca().add_patch(rect)\n"
   ]
  },
  {
   "cell_type": "code",
   "execution_count": null,
   "metadata": {},
   "outputs": [],
   "source": [
    "in_bounds = (hst_pix[0] > 310) & (hst_pix[0] < 410) & (hst_pix[1] > 630) & (hst_pix[1] < 730)\n",
    "hst_inbounds = hst_catalog[in_bounds]"
   ]
  },
  {
   "cell_type": "code",
   "execution_count": null,
   "metadata": {},
   "outputs": [],
   "source": [
    "plt.imshow(f[0].data, origin='lower', cmap='gray_r')\n",
    "plt.scatter(hst_pix[0][in_bounds], hst_pix[1][in_bounds], s=10, c='r')\n",
    "rect = Rectangle((310, 630), 100, 100, linewidth=1, edgecolor='b', facecolor='none')\n",
    "plt.gca().add_patch(rect)"
   ]
  },
  {
   "cell_type": "code",
   "execution_count": null,
   "metadata": {},
   "outputs": [],
   "source": [
    "hst_inbounds[\"MatchID\"].unique().shape"
   ]
  },
  {
   "cell_type": "code",
   "execution_count": null,
   "metadata": {},
   "outputs": [],
   "source": [
    "hst_inbounds"
   ]
  },
  {
   "cell_type": "code",
   "execution_count": null,
   "metadata": {},
   "outputs": [],
   "source": [
    "import numpy as np\n",
    "np.median(f[0].data)"
   ]
  },
  {
   "cell_type": "code",
   "execution_count": null,
   "metadata": {},
   "outputs": [],
   "source": [
    "from bliss.surveys.sdss import SloanDigitalSkySurvey\n",
    "\n",
    "psf_config = {\"pixel_scale\": 0.396, \"psf_slen\": 25}\n",
    "rcf_conf = [{\"run\": 2583, \"camcol\": 2, \"fields\": [136,]}]\n",
    "\n",
    "sdss_obj = SloanDigitalSkySurvey(\n",
    "    psf_config,\n",
    "    rcf_conf,\n",
    "    dir_path=\"/data/sdss\",\n",
    "    load_image_data = True,\n",
    ")\n",
    "\n",
    "img = sdss_obj.items[0][\"image\"][2][630:730, 310:410]\n",
    "bkgd = sdss_obj.items[0][\"background\"][2][630:730, 310:410]"
   ]
  },
  {
   "cell_type": "code",
   "execution_count": null,
   "metadata": {},
   "outputs": [],
   "source": [
    "np.median(img - bkgd)"
   ]
  },
  {
   "cell_type": "code",
   "execution_count": null,
   "metadata": {},
   "outputs": [],
   "source": [
    "np.mean(img - bkgd)"
   ]
  },
  {
   "cell_type": "code",
   "execution_count": null,
   "metadata": {},
   "outputs": [],
   "source": [
    "from os import environ\n",
    "environ[\"CUDA_VISIBLE_DEVICES\"] = \"1\"\n",
    "\n",
    "from pathlib import Path\n",
    "import torch\n",
    "from hydra import initialize, compose\n",
    "from hydra.utils import instantiate\n",
    "from bliss.encoder import Encoder\n",
    "\n",
    "\n",
    "environ[\"BLISS_HOME\"] = str(Path().resolve().parents[1])\n",
    "with initialize(config_path=\"../../case_studies/dependent_tiling/\", version_base=None):\n",
    "    cfg = compose(\"config\", {\"encoder.two_layers=true\"})\n",
    "\n",
    "encoder: Encoder = instantiate(cfg.encoder)\n",
    "encoder.load_state_dict(torch.load(\"../../case_studies/dependent_tiling/m2.pt\"))\n",
    "encoder.eval()\n",
    "encoder.cuda()\n",
    "\n",
    "torch.set_grad_enabled(False)"
   ]
  },
  {
   "cell_type": "code",
   "execution_count": null,
   "metadata": {},
   "outputs": [],
   "source": [
    "from bliss.predict import predict_frame\n",
    "\n",
    "dataset = instantiate(cfg.predict.dataset, load_image_data=True)\n",
    "frame = dataset[0]\n",
    "est_full, pred, images, backgrounds = predict_frame(cfg, frame, encoder)"
   ]
  },
  {
   "cell_type": "code",
   "execution_count": null,
   "metadata": {},
   "outputs": [],
   "source": [
    "est_full.n_sources.sum()"
   ]
  },
  {
   "cell_type": "code",
   "execution_count": null,
   "metadata": {},
   "outputs": [],
   "source": [
    "from bliss.metrics import BlissMetrics, MetricsMode\n",
    "\n",
    "metrics = BlissMetrics(\n",
    "    mode=MetricsMode.FULL, slack=1.0, survey_bands=[0, 1, 2, 3, 4]\n",
    ").cuda()"
   ]
  },
  {
   "cell_type": "code",
   "execution_count": null,
   "metadata": {},
   "outputs": [],
   "source": [
    "metrics(est_full, est_full)"
   ]
  },
  {
   "cell_type": "code",
   "execution_count": null,
   "metadata": {},
   "outputs": [],
   "source": [
    "hcat = hst_inbounds[hst_inbounds.Filter == \"F606W\"]\n",
    "hcat"
   ]
  },
  {
   "cell_type": "code",
   "execution_count": null,
   "metadata": {},
   "outputs": [],
   "source": [
    "ra = torch.from_numpy(hcat.MatchRA.values)\n",
    "dec = torch.from_numpy(hcat.MatchRA.values)\n",
    "mag = torch.from_numpy(hcat.MagAuto.values)"
   ]
  },
  {
   "cell_type": "code",
   "execution_count": null,
   "metadata": {},
   "outputs": [],
   "source": [
    "mag"
   ]
  },
  {
   "cell_type": "code",
   "execution_count": null,
   "metadata": {},
   "outputs": [],
   "source": [
    "from bliss.catalog import FullCatalog\n",
    "\n",
    "plocs = FullCatalog.plocs_from_ra_dec(ra, dec, frame[\"wcs\"][2])\n",
    "plocs.shape"
   ]
  },
  {
   "cell_type": "code",
   "execution_count": null,
   "metadata": {},
   "outputs": [],
   "source": [
    "d = {\n",
    "    \"plocs\": plocs.unsqueeze(0),\n",
    "    \"star_fluxes\": mag.unsqueeze(0).unsqueeze(2),\n",
    "    \"n_sources\": torch.tensor(plocs.shape[0]).unsqueeze(0),\n",
    "    \"source_type\": torch.zeros(plocs.shape[0]).unsqueeze(0).unsqueeze(2).long(),\n",
    "}\n",
    "true_cat = FullCatalog(112, 112, d).to(\"cuda\")"
   ]
  },
  {
   "cell_type": "code",
   "execution_count": null,
   "metadata": {},
   "outputs": [],
   "source": [
    "metric = metrics(est_full, true_cat)"
   ]
  },
  {
   "cell_type": "code",
   "execution_count": null,
   "metadata": {},
   "outputs": [],
   "source": [
    "metric[\"detection_recall\"]"
   ]
  },
  {
   "cell_type": "code",
   "execution_count": null,
   "metadata": {},
   "outputs": [],
   "source": []
  }
 ],
 "metadata": {
  "kernelspec": {
   "display_name": ".venv",
   "language": "python",
   "name": "python3"
  },
  "language_info": {
   "codemirror_mode": {
    "name": "ipython",
    "version": 3
   },
   "file_extension": ".py",
   "mimetype": "text/x-python",
   "name": "python",
   "nbconvert_exporter": "python",
   "pygments_lexer": "ipython3",
   "version": "3.10.12"
  }
 },
 "nbformat": 4,
 "nbformat_minor": 2
}

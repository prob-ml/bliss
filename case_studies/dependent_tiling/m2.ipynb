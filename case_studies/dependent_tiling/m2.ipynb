{
 "cells": [
  {
   "cell_type": "markdown",
   "metadata": {},
   "source": [
    "## Load SDSS image data"
   ]
  },
  {
   "cell_type": "code",
   "execution_count": null,
   "metadata": {},
   "outputs": [],
   "source": [
    "from astropy.io import fits\n",
    "from astropy.wcs import WCS\n",
    "\n",
    "f = fits.open('/home/regier/bliss/data/sdss/2583/2/136/frame-r-002583-2-0136.fits')\n",
    "w = WCS(f[0].header)\n",
    "\n",
    "# lower-left corner of the 100x100-pixel study area is at pixel (310, 630)\n",
    "w.pixel_to_world(310, 630)"
   ]
  },
  {
   "cell_type": "code",
   "execution_count": null,
   "metadata": {},
   "outputs": [],
   "source": [
    "from matplotlib import pyplot as plt\n",
    "\n",
    "plt.imshow(f[0].data, origin='lower', cmap='gray_r')"
   ]
  },
  {
   "cell_type": "markdown",
   "metadata": {},
   "source": [
    "## Loading/viewing HST predictions"
   ]
  },
  {
   "cell_type": "code",
   "execution_count": null,
   "metadata": {},
   "outputs": [],
   "source": [
    "import pandas as pd\n",
    "\n",
    "# catalog from https://catalogs.mast.stsci.edu/hsc/\n",
    "# target: 323.3357504,-0.807026\n",
    "# radius of 32 arcsec; v3; detailed; MagAuto <= 24\n",
    "fn = '/home/regier/bliss/case_studies/dependent_tiling/HSC-10_20_2023.csv'\n",
    "hst_catalog = pd.read_csv(fn)\n",
    "hst_catalog.head()"
   ]
  },
  {
   "cell_type": "code",
   "execution_count": null,
   "metadata": {},
   "outputs": [],
   "source": [
    "from bliss.catalog import FullCatalog\n",
    "import torch\n",
    "\n",
    "ra = torch.from_numpy(hst_catalog['MatchRA'].to_numpy())\n",
    "dec = torch.from_numpy(hst_catalog['MatchDec'].to_numpy())\n",
    "plocs = FullCatalog.plocs_from_ra_dec(ra, dec, w)"
   ]
  },
  {
   "cell_type": "code",
   "execution_count": null,
   "metadata": {},
   "outputs": [],
   "source": [
    "from matplotlib.patches import Rectangle\n",
    "\n",
    "plt.imshow(f[0].data, origin='lower', cmap='gray_r')\n",
    "plt.scatter(plocs[:, 1], plocs[:, 0], s=10, c='r')\n",
    "rect = Rectangle((310, 630), 100, 100, linewidth=1, edgecolor='b', facecolor='none')\n",
    "plt.gca().add_patch(rect)"
   ]
  },
  {
   "cell_type": "code",
   "execution_count": null,
   "metadata": {},
   "outputs": [],
   "source": [
    "in_bounds = (plocs[:, 1] > 310) & (plocs[:, 1] < 410) & (plocs[:, 0] > 630) & (plocs[:, 0] < 730)"
   ]
  },
  {
   "cell_type": "code",
   "execution_count": null,
   "metadata": {},
   "outputs": [],
   "source": [
    "plt.imshow(f[0].data, origin='lower', cmap='gray_r')\n",
    "plt.scatter(plocs[:, 1][in_bounds], plocs[:, 0][in_bounds], s=10, c='r')\n",
    "rect = Rectangle((310, 630), 100, 100, linewidth=1, edgecolor='b', facecolor='none')\n",
    "plt.gca().add_patch(rect)"
   ]
  },
  {
   "cell_type": "code",
   "execution_count": null,
   "metadata": {},
   "outputs": [],
   "source": [
    "hst_inbounds = hst_catalog[in_bounds.numpy()]\n",
    "hst_inbounds"
   ]
  },
  {
   "cell_type": "code",
   "execution_count": null,
   "metadata": {},
   "outputs": [],
   "source": [
    "hcat_f814w = hst_inbounds[hst_inbounds.Filter == \"F814W\"]\n",
    "hcat_f814w.shape"
   ]
  },
  {
   "cell_type": "code",
   "execution_count": null,
   "metadata": {},
   "outputs": [],
   "source": [
    "# The HST's F606W band is like the SDSS r band, but a bit broader\n",
    "hcat_f606w = hst_inbounds[hst_inbounds.Filter == \"F606W\"]\n",
    "hcat_f606w.shape"
   ]
  },
  {
   "cell_type": "code",
   "execution_count": null,
   "metadata": {},
   "outputs": [],
   "source": [
    "import torch\n",
    "\n",
    "hcat = hcat_f814w\n",
    "# TODO: figure out Bryan's cutoff (1114 stars) and training the corresponding min_flux_threshold\n",
    "hcat_bright = hcat[hcat.MagAper2 < 22.2]\n",
    "\n",
    "ra = torch.from_numpy(hcat_bright.MatchRA.values)\n",
    "dec = torch.from_numpy(hcat_bright.MatchDec.values)\n",
    "mag = torch.from_numpy(hcat_bright.MagAper2.values)\n",
    "\n",
    "plocs = FullCatalog.plocs_from_ra_dec(ra, dec, w)\n",
    "plocs_square = plocs - torch.tensor([630, 310])"
   ]
  },
  {
   "cell_type": "code",
   "execution_count": null,
   "metadata": {},
   "outputs": [],
   "source": [
    "hcat.shape, hcat_bright.shape"
   ]
  },
  {
   "cell_type": "code",
   "execution_count": null,
   "metadata": {},
   "outputs": [],
   "source": [
    "d = {\n",
    "    \"plocs\": plocs_square.unsqueeze(0),\n",
    "    \"star_fluxes\": mag.unsqueeze(0).unsqueeze(2).expand([-1, -1, 5]),\n",
    "    \"galaxy_fluxes\": mag.unsqueeze(0).unsqueeze(2).expand([-1, -1, 5]) * 0.0,\n",
    "    \"n_sources\": torch.tensor(plocs.shape[0]).unsqueeze(0),\n",
    "    \"source_type\": torch.zeros(plocs.shape[0]).unsqueeze(0).unsqueeze(2).long(),\n",
    "}\n",
    "true_cat = FullCatalog(100, 100, d)\n",
    "true_cat.n_sources.sum()"
   ]
  },
  {
   "cell_type": "code",
   "execution_count": null,
   "metadata": {},
   "outputs": [],
   "source": [
    "true_tile_cat = true_cat.to_tile_catalog(2, 5)\n",
    "true_tile_cat.n_sources.sum()"
   ]
  },
  {
   "cell_type": "code",
   "execution_count": null,
   "metadata": {},
   "outputs": [],
   "source": [
    "true_tile_cat1 = true_tile_cat.get_brightest_sources_per_tile(band=2, exclude_num=0)\n",
    "true_tile_cat1.n_sources.sum()"
   ]
  },
  {
   "cell_type": "markdown",
   "metadata": {},
   "source": [
    "## Making predictions with BLISS"
   ]
  },
  {
   "cell_type": "code",
   "execution_count": null,
   "metadata": {},
   "outputs": [],
   "source": [
    "from os import environ\n",
    "environ[\"CUDA_VISIBLE_DEVICES\"] = \"1\"\n",
    "\n",
    "from pathlib import Path\n",
    "from hydra import initialize, compose\n",
    "from bliss.main import predict\n",
    "\n",
    "\n",
    "environ[\"BLISS_HOME\"] = str(Path().resolve().parents[1])\n",
    "with initialize(config_path=\"../../case_studies/dependent_tiling/\", version_base=None):\n",
    "    cfg = compose(\"config\", {\"encoder.tiles_to_crop=3\"})\n",
    "\n",
    "bliss_cats = predict(cfg.predict)\n",
    "bliss_cat, = bliss_cats.values()"
   ]
  },
  {
   "cell_type": "code",
   "execution_count": null,
   "metadata": {},
   "outputs": [],
   "source": [
    "from bliss.encoder.metrics import BlissMetrics, MetricsMode\n",
    "\n",
    "metrics = BlissMetrics(\n",
    "    mode=MetricsMode.FULL, slack=0.5, survey_bands=[0, 1, 2, 3, 4]\n",
    ")"
   ]
  },
  {
   "cell_type": "code",
   "execution_count": null,
   "metadata": {},
   "outputs": [],
   "source": [
    "# TODO: require flux within 0.5 mag (as in Bryan's code) for matches and use L2 distance?\n",
    "metric = metrics(true_cat, bliss_cat)\n",
    "metric[\"detection_recall\"], metric[\"detection_precision\"], metric[\"f1\"]"
   ]
  },
  {
   "cell_type": "code",
   "execution_count": null,
   "metadata": {},
   "outputs": [],
   "source": [
    "metric = metrics(true_tile_cat1.to_full_catalog(), bliss_cat)\n",
    "metric[\"detection_recall\"], metric[\"detection_precision\"], metric[\"f1\"]"
   ]
  },
  {
   "cell_type": "markdown",
   "metadata": {},
   "source": [
    "### marginal\n",
    "\n",
    "marginal: (0.5738866329193115, 0.47767481207847595, 0.521379292011261)\n",
    "\n",
    "marginal (brightest): (0.5853960514068604, 0.3984835743904114, 0.4741854667663574)\n",
    "\n",
    "### dependent\n",
    "\n",
    "dependent: (0.5829959511756897, 0.5092838406562805, 0.5436526536941528)\n",
    "\n",
    "dependent (brightest): (0.5952970385551453, 0.4252873659133911, 0.4961320757865906)\n",
    "\n"
   ]
  },
  {
   "cell_type": "code",
   "execution_count": null,
   "metadata": {},
   "outputs": [],
   "source": [
    "from hydra.utils import instantiate\n",
    "\n",
    "encoder = instantiate(cfg.encoder)\n",
    "encoder.load_state_dict(torch.load(cfg.predict.weight_save_path))\n",
    "dataset = instantiate(cfg.predict.dataset)\n",
    "dataset.prepare_data()"
   ]
  },
  {
   "cell_type": "code",
   "execution_count": null,
   "metadata": {},
   "outputs": [],
   "source": [
    "batch = {\n",
    "    \"images\": torch.from_numpy(dataset[0][\"image\"]).unsqueeze(0),\n",
    "    \"background\": torch.from_numpy(dataset[0][\"background\"]).unsqueeze(0),\n",
    "}\n",
    "x_features = encoder.get_features(batch)\n",
    "x_cat_second = encoder.second_net(x_features)\n",
    "pred_second = encoder.make_layer(x_cat_second)\n",
    "est_cat2_uncropped = pred_second.sample(use_mode=True)\n",
    "est_cat2 = est_cat2_uncropped.symmetric_crop(cfg.encoder.tiles_to_crop)\n"
   ]
  },
  {
   "cell_type": "code",
   "execution_count": null,
   "metadata": {},
   "outputs": [],
   "source": [
    "metric = metrics(true_cat, est_cat2.to_full_catalog())\n",
    "metric[\"detection_recall\"], metric[\"detection_precision\"], metric[\"f1\"]"
   ]
  },
  {
   "cell_type": "code",
   "execution_count": null,
   "metadata": {},
   "outputs": [],
   "source": []
  }
 ],
 "metadata": {
  "kernelspec": {
   "display_name": ".venv",
   "language": "python",
   "name": "python3"
  },
  "language_info": {
   "codemirror_mode": {
    "name": "ipython",
    "version": 3
   },
   "file_extension": ".py",
   "mimetype": "text/x-python",
   "name": "python",
   "nbconvert_exporter": "python",
   "pygments_lexer": "ipython3",
   "version": "3.10.12"
  }
 },
 "nbformat": 4,
 "nbformat_minor": 2
}

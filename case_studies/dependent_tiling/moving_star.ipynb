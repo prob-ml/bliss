{
 "cells": [
  {
   "cell_type": "markdown",
   "metadata": {},
   "source": [
    "# One Star Example\n",
    "\n",
    "Demonstrates that\n",
    "1) the independent tiling posterior approximation becomes increasingly bad as a star approaches a tile border\n",
    "2) the dependent tiling posterior approximation remains reasonable regardless of star position"
   ]
  },
  {
   "cell_type": "code",
   "execution_count": null,
   "metadata": {},
   "outputs": [],
   "source": [
    "%matplotlib inline"
   ]
  },
  {
   "cell_type": "markdown",
   "metadata": {},
   "source": [
    "Import necessary packages and pick a GPU"
   ]
  },
  {
   "cell_type": "code",
   "execution_count": null,
   "metadata": {},
   "outputs": [],
   "source": [
    "from os import environ\n",
    "environ[\"CUDA_VISIBLE_DEVICES\"] = \"3\"\n",
    "\n",
    "import torch\n",
    "from hydra import initialize, compose\n",
    "from hydra.utils import instantiate\n",
    "from bliss.encoder.encoder import Encoder\n",
    "from bliss.catalog import TileCatalog\n",
    "from matplotlib import pyplot as plt"
   ]
  },
  {
   "cell_type": "markdown",
   "metadata": {},
   "source": [
    "Load the encoder with pre-trained weights. (This encoder was trained with 20% of tiles contain sources, which is quite high for one-star data, but the incorrect rate shouldn't detract from this example.)"
   ]
  },
  {
   "cell_type": "code",
   "execution_count": null,
   "metadata": {},
   "outputs": [],
   "source": [
    "with initialize(config_path=\"../../bliss/conf\", version_base=None):\n",
    "    cfg = compose(\"base_config\")\n",
    "\n",
    "encoder: Encoder = instantiate(cfg.encoder)\n",
    "encoder.load_state_dict(torch.load(\"../../data/pretrained_models/clahed_logged_20percent.pt\"))\n",
    "encoder.cuda()\n",
    "encoder.eval()\n",
    "torch.set_grad_enabled(False)\n",
    "\n",
    "simulator = instantiate(cfg.simulator)"
   ]
  },
  {
   "cell_type": "markdown",
   "metadata": {},
   "source": [
    "## Bright star"
   ]
  },
  {
   "cell_type": "markdown",
   "metadata": {},
   "source": [
    "Create a batch synethic catalogs of one bright star at three positions: 0, 0.667, and 0.133 pixels from the border. (The first position is perfectly ambiguous, the second is somewhat ambiguous, the third is unambiguous.)\n",
    "\n",
    "The nice thing about this setting is the lack of ambiguity in the (exact) posterior: there should be about one star detected. But is there with each of these posterior approximations?"
   ]
  },
  {
   "cell_type": "code",
   "execution_count": null,
   "metadata": {},
   "outputs": [],
   "source": [
    "loc_grid_size = 3\n",
    "loc_replicates = 20\n",
    "n = loc_grid_size * loc_replicates\n",
    "n_sources = torch.zeros(n, 20, 20, dtype=torch.long)\n",
    "n_sources[:, 10, 10] = 1\n",
    "locs = torch.arange(loc_grid_size) / (loc_grid_size * 5)\n",
    "locs = torch.stack([locs, torch.ones(loc_grid_size) * 0.5], dim=1)\n",
    "locs = locs.view(loc_grid_size, 1, 1, 1, 1, 2).expand([-1, loc_replicates, 20, 20, 1, -1])\n",
    "locs = locs.reshape(n, 20, 20, 1, 2)\n",
    "true_catalog_dict = {\n",
    "    \"n_sources\": n_sources,\n",
    "    \"source_type\": torch.zeros(n, 20, 20, 1, 1, dtype=torch.long),\n",
    "    \"locs\": locs,\n",
    "    \"star_fluxes\": torch.ones(n, 20, 20, 1, 5) * 5,  # 20.75 magnitude\n",
    "    \"galaxy_fluxes\": torch.ones(n, 20, 20, 1, 5),\n",
    "}\n",
    "true_catalog = TileCatalog(4, true_catalog_dict)"
   ]
  },
  {
   "cell_type": "markdown",
   "metadata": {},
   "source": [
    "Simulate one image for each catalog"
   ]
  },
  {
   "cell_type": "code",
   "execution_count": null,
   "metadata": {},
   "outputs": [],
   "source": [
    "rcfs, rcf_indices = simulator.randomized_image_ids(true_catalog.n_sources.size(0))\n",
    "image, background, _, _ = simulator.simulate_images(true_catalog, rcfs, rcf_indices)\n",
    "batch = {\"images\": image.cuda(), \"background\": background.cuda()}"
   ]
  },
  {
   "cell_type": "markdown",
   "metadata": {},
   "source": [
    "Show the r-band of one image"
   ]
  },
  {
   "cell_type": "code",
   "execution_count": null,
   "metadata": {},
   "outputs": [],
   "source": [
    "plt.imshow(image[8, 2].numpy())\n",
    "plt.colorbar();"
   ]
  },
  {
   "cell_type": "markdown",
   "metadata": {},
   "source": [
    "Clear the GPU memory so we don't run out in case we re-run this notebook"
   ]
  },
  {
   "cell_type": "code",
   "execution_count": null,
   "metadata": {},
   "outputs": [],
   "source": [
    "import gc\n",
    "gc.collect()\n",
    "torch.cuda.empty_cache()\n",
    "torch.cuda.memory_allocated() / 1e9  # show current memory usage in GB"
   ]
  },
  {
   "cell_type": "markdown",
   "metadata": {},
   "source": [
    "### Dependent Tiling"
   ]
  },
  {
   "cell_type": "markdown",
   "metadata": {},
   "source": [
    "Predict two catalogs: one the mode of the variational distribution and the other a sample of it"
   ]
  },
  {
   "cell_type": "code",
   "execution_count": null,
   "metadata": {},
   "outputs": [],
   "source": [
    "mode_cat, sample_cat = encoder.predict_step(batch, 0, 0).values()"
   ]
  },
  {
   "cell_type": "markdown",
   "metadata": {},
   "source": [
    "One tile is cropped, so the source should be found in tile [9,9], moving in the first dimension\n",
    "from 0 to 0.5. We restrict our attention to a 36 tiles to avoid spurious detections which are inevitable in a large enough image due to Gaussian noise.\n",
    "\n",
    "For all three locations, all 20 replicates show 1 source in the variational distribution mode."
   ]
  },
  {
   "cell_type": "code",
   "execution_count": null,
   "metadata": {},
   "outputs": [],
   "source": [
    "mode_cat.n_sources[:, 6:12, 6:12].sum([1, 2]).view(3, 20)"
   ]
  },
  {
   "cell_type": "markdown",
   "metadata": {},
   "source": [
    "The sample cat isn't as consistent, but there's clear dependence on the location (border vs interior). The twos are low-flux detections."
   ]
  },
  {
   "cell_type": "code",
   "execution_count": null,
   "metadata": {},
   "outputs": [],
   "source": [
    "sample_cat.n_sources[:, 6:12, 6:12].sum([1, 2]).view(3, 20)"
   ]
  },
  {
   "cell_type": "markdown",
   "metadata": {},
   "source": [
    "### Independent Tiling"
   ]
  },
  {
   "cell_type": "code",
   "execution_count": null,
   "metadata": {},
   "outputs": [],
   "source": [
    "encoder.use_checkerboard = False\n",
    "mode_cat, sample_cat = encoder.predict_step(batch, 0, 0).values()"
   ]
  },
  {
   "cell_type": "code",
   "execution_count": null,
   "metadata": {},
   "outputs": [],
   "source": [
    "mode_cat.n_sources[:, 6:12, 6:12].sum([1, 2]).view(3, 20)"
   ]
  },
  {
   "cell_type": "code",
   "execution_count": null,
   "metadata": {},
   "outputs": [],
   "source": [
    "sample_cat.n_sources[:, 6:12, 6:12].sum([1, 2]).view(3, 20)"
   ]
  },
  {
   "cell_type": "markdown",
   "metadata": {},
   "source": [
    "Let's look at the underlying probabilities without sampling, which is possible for independent tiling.\n",
    "\n",
    "Oh, these are actually pretty well calibrated regardless of star position."
   ]
  },
  {
   "cell_type": "code",
   "execution_count": null,
   "metadata": {},
   "outputs": [],
   "source": [
    "pred = encoder.infer(batch, lambda _: _)\n",
    "\n",
    "on_prob = pred[\"marginal\"].factors[\"on_prob\"].probs[:, :, :, 1]\n",
    "plt.imshow(on_prob[0].cpu().numpy())\n",
    "plt.colorbar();\n",
    "on_prob[:, 9:11, 10].sum(1)"
   ]
  },
  {
   "cell_type": "markdown",
   "metadata": {},
   "source": [
    "## Dim Star\n",
    "\n",
    "An ambiguous detection (~80% detection prob) at the border and at the center.\n",
    "\n",
    "First, we generate a true catalog."
   ]
  },
  {
   "cell_type": "code",
   "execution_count": null,
   "metadata": {},
   "outputs": [],
   "source": [
    "# because there are 4 pixels in a tile column, these stars appear in the same offsets\n",
    "# within pixels\n",
    "loc_grid_size = 4\n",
    "loc_replicates = 100\n",
    "n = loc_grid_size * loc_replicates\n",
    "n_sources = torch.zeros(n, 20, 20, dtype=torch.long)\n",
    "n_sources[:, 10, 10] = 1\n",
    "locs = torch.arange(loc_grid_size) / loc_grid_size + 0.0\n",
    "locs = torch.stack([locs, torch.ones(loc_grid_size) * 0.5], dim=1)\n",
    "locs = locs.view(loc_grid_size, 1, 1, 1, 1, 2).expand([-1, loc_replicates, 20, 20, 1, -1])\n",
    "locs = locs.reshape(n, 20, 20, 1, 2)\n",
    "true_catalog_dict = {\n",
    "    \"n_sources\": n_sources,\n",
    "    \"source_type\": torch.zeros(n, 20, 20, 1, 1, dtype=torch.long),\n",
    "    \"locs\": locs,\n",
    "    # with flux of 1.5, stars at all positions are detected easily (prob > 0.97 for leftmost, 1. for rest)\n",
    "    # with flux of 0.3, stars at no position are detected (prob < 0.25 for all)\n",
    "    # with flux of 0.5, stars at all positions are detected with prob in [0.7, 0.8]\n",
    "    \"star_fluxes\": torch.ones(n, 20, 20, 1, 5) * 0.5,\n",
    "    \"galaxy_fluxes\": torch.ones(n, 20, 20, 1, 5),\n",
    "}\n",
    "true_catalog = TileCatalog(4, true_catalog_dict)"
   ]
  },
  {
   "cell_type": "markdown",
   "metadata": {},
   "source": [
    "Now we render the images and backgrounds."
   ]
  },
  {
   "cell_type": "code",
   "execution_count": null,
   "metadata": {},
   "outputs": [],
   "source": [
    "rcfs, rcf_indices = simulator.randomized_image_ids(true_catalog.n_sources.size(0))\n",
    "image, background, _, _ = simulator.simulate_images(true_catalog, rcfs, rcf_indices)\n",
    "batch = {\"images\": image.cuda(), \"background\": background.cuda()}"
   ]
  },
  {
   "cell_type": "markdown",
   "metadata": {},
   "source": [
    "### Independent tiling"
   ]
  },
  {
   "cell_type": "code",
   "execution_count": null,
   "metadata": {},
   "outputs": [],
   "source": [
    "mode_cat, sample_cat = encoder.predict_step(batch, 0, 0).values()"
   ]
  },
  {
   "cell_type": "markdown",
   "metadata": {},
   "source": [
    "It looks like the expected light source count is similar regardless of light source position"
   ]
  },
  {
   "cell_type": "code",
   "execution_count": null,
   "metadata": {},
   "outputs": [],
   "source": [
    "mode_cat.n_sources[:, 6:12, 6:12].sum([1, 2]).view(4, 100)"
   ]
  },
  {
   "cell_type": "markdown",
   "metadata": {},
   "source": [
    "Remind me, what are the 4 locations we're considering?"
   ]
  },
  {
   "cell_type": "code",
   "execution_count": null,
   "metadata": {},
   "outputs": [],
   "source": [
    "locs[:, 10, 10, 0, 0].view(4, 100)[:, 0]"
   ]
  },
  {
   "cell_type": "markdown",
   "metadata": {},
   "source": [
    "We're \"right\" most often when the source is exactly in the middle, and wrong most often when the source is at the border. These disparities are concerning because tiling is solely a construct of our inference procedure.\n",
    "\n",
    "Note that this is about the mode, the samples. For an ambiguous source, the mass is being split between tile and therefore it never exceeds 50%."
   ]
  },
  {
   "cell_type": "code",
   "execution_count": null,
   "metadata": {},
   "outputs": [],
   "source": [
    "(mode_cat.n_sources[:, 6:12, 6:12].sum([1, 2]).view(4, 100) == 1).sum(1)"
   ]
  },
  {
   "cell_type": "markdown",
   "metadata": {},
   "source": [
    "### Dependent tiling"
   ]
  },
  {
   "cell_type": "code",
   "execution_count": null,
   "metadata": {},
   "outputs": [],
   "source": [
    "encoder.use_checkerboard = True\n",
    "mode_cat, sample_cat = encoder.predict_step(batch, 0, 0).values()"
   ]
  },
  {
   "cell_type": "markdown",
   "metadata": {},
   "source": [
    "There's no pattern here for which position leads to the best mode; the centered tile is not clearly better than the border."
   ]
  },
  {
   "cell_type": "code",
   "execution_count": null,
   "metadata": {},
   "outputs": [],
   "source": [
    "(mode_cat.n_sources[:, 6:12, 6:12].sum([1, 2]).view(4, 100) == 1).sum(1)"
   ]
  },
  {
   "cell_type": "markdown",
   "metadata": {},
   "source": [
    "What about the samples? They just tell the same story as the bright-star samples. The point of looking at a dim star was to see how even the mode is bad with independent tiling."
   ]
  },
  {
   "cell_type": "code",
   "execution_count": null,
   "metadata": {},
   "outputs": [],
   "source": []
  }
 ],
 "metadata": {
  "kernelspec": {
   "display_name": ".venv",
   "language": "python",
   "name": "python3"
  },
  "language_info": {
   "codemirror_mode": {
    "name": "ipython",
    "version": 3
   },
   "file_extension": ".py",
   "mimetype": "text/x-python",
   "name": "python",
   "nbconvert_exporter": "python",
   "pygments_lexer": "ipython3",
   "version": "3.10.12"
  }
 },
 "nbformat": 4,
 "nbformat_minor": 2
}

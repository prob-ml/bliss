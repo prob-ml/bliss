{
 "cells": [
  {
   "cell_type": "code",
   "execution_count": null,
   "metadata": {},
   "outputs": [],
   "source": [
    "%matplotlib inline"
   ]
  },
  {
   "cell_type": "code",
   "execution_count": null,
   "metadata": {},
   "outputs": [],
   "source": [
    "from os import environ\n",
    "environ[\"CUDA_VISIBLE_DEVICES\"] = \"3\"\n",
    "\n",
    "from pathlib import Path\n",
    "import torch\n",
    "from hydra import initialize, compose\n",
    "from hydra.utils import instantiate\n",
    "from bliss.encoder.encoder import Encoder\n",
    "from bliss.catalog import TileCatalog\n",
    "from matplotlib import pyplot as plt"
   ]
  },
  {
   "cell_type": "code",
   "execution_count": null,
   "metadata": {},
   "outputs": [],
   "source": [
    "environ[\"BLISS_HOME\"] = str(Path().resolve().parents[1])\n",
    "with initialize(config_path=\"../../bliss/conf\", version_base=None):\n",
    "    cfg = compose(\"base_config\")\n",
    "\n",
    "encoder: Encoder = instantiate(cfg.encoder)\n",
    "# TODO: use the 2 percent model (changed here to check the notebook runs without errors)\n",
    "encoder.load_state_dict(torch.load(\"../../data/pretrained_models/clahed_logged_20percent.pt\"))\n",
    "encoder.eval()\n",
    "encoder.cuda()\n",
    "\n",
    "simulator = instantiate(cfg.simulator)\n",
    "\n",
    "torch.set_grad_enabled(False)"
   ]
  },
  {
   "cell_type": "markdown",
   "metadata": {},
   "source": [
    "## One bright (easily detected) star at various positions\n",
    "\n",
    "Compare samples with independent and dependent tiling"
   ]
  },
  {
   "cell_type": "code",
   "execution_count": null,
   "metadata": {},
   "outputs": [],
   "source": [
    "loc_grid_size = 3\n",
    "loc_replicates = 20\n",
    "n = loc_grid_size * loc_replicates\n",
    "n_sources = torch.zeros(n, 20, 20, dtype=torch.long)\n",
    "n_sources[:, 10, 10] = 1\n",
    "locs = torch.arange(loc_grid_size) / (loc_grid_size * 5)\n",
    "locs = torch.stack([locs, torch.ones(loc_grid_size) * 0.5], dim=1)\n",
    "locs = locs.view(loc_grid_size, 1, 1, 1, 1, 2).expand([-1, loc_replicates, 20, 20, 1, -1])\n",
    "locs = locs.reshape(n, 20, 20, 1, 2)\n",
    "true_catalog_dict = {\n",
    "    \"n_sources\": n_sources,\n",
    "    \"source_type\": torch.zeros(n, 20, 20, 1, 1, dtype=torch.long),\n",
    "    \"locs\": locs,\n",
    "    \"star_fluxes\": torch.ones(n, 20, 20, 1, 5) * 5,\n",
    "    \"galaxy_fluxes\": torch.ones(n, 20, 20, 1, 5),\n",
    "}\n",
    "true_catalog = TileCatalog(4, true_catalog_dict)\n"
   ]
  },
  {
   "cell_type": "code",
   "execution_count": null,
   "metadata": {},
   "outputs": [],
   "source": [
    "rcfs, rcf_indices = simulator.randomized_image_ids(true_catalog.n_sources.size(0))\n"
   ]
  },
  {
   "cell_type": "code",
   "execution_count": null,
   "metadata": {},
   "outputs": [],
   "source": [
    "image, background, _, _ = simulator.simulate_image(true_catalog, rcfs, rcf_indices)"
   ]
  },
  {
   "cell_type": "code",
   "execution_count": null,
   "metadata": {},
   "outputs": [],
   "source": [
    "plt.imshow(image[8, 2].numpy())\n",
    "plt.colorbar()"
   ]
  },
  {
   "cell_type": "code",
   "execution_count": null,
   "metadata": {},
   "outputs": [],
   "source": [
    "import gc\n",
    "gc.collect()\n",
    "torch.cuda.empty_cache()\n",
    "torch.cuda.memory_allocated() / 1e9"
   ]
  },
  {
   "cell_type": "code",
   "execution_count": null,
   "metadata": {},
   "outputs": [],
   "source": [
    "batch = {\"images\": image.cuda(), \"background\": background.cuda()}\n",
    "est_cat, pred = encoder.predict_step(batch, 0, 0).values()"
   ]
  },
  {
   "cell_type": "code",
   "execution_count": null,
   "metadata": {},
   "outputs": [],
   "source": [
    "est_cat.n_sources.sum(1).sum(1)"
   ]
  },
  {
   "cell_type": "code",
   "execution_count": null,
   "metadata": {},
   "outputs": [],
   "source": [
    "on_prob = pred[\"on_prob\"].probs[:, :, :, 1].cpu()\n",
    "on_prob = on_prob.view(loc_grid_size, loc_replicates, 18, 18).mean(1)[0]\n",
    "plt.imshow(on_prob, vmin=0, vmax=1)\n",
    "plt.colorbar()\n",
    "on_prob.max()"
   ]
  },
  {
   "cell_type": "code",
   "execution_count": null,
   "metadata": {},
   "outputs": [],
   "source": [
    "joint_cats = encoder.sample(batch)"
   ]
  },
  {
   "cell_type": "code",
   "execution_count": null,
   "metadata": {},
   "outputs": [],
   "source": [
    "marginal_cats = encoder.sample(batch, cat_type=\"marginal\")"
   ]
  },
  {
   "cell_type": "code",
   "execution_count": null,
   "metadata": {},
   "outputs": [],
   "source": [
    "joint_cats[\"n_sources\"].sum(1).sum(1)[:20]"
   ]
  },
  {
   "cell_type": "code",
   "execution_count": null,
   "metadata": {},
   "outputs": [],
   "source": [
    "marginal_cats[\"n_sources\"].sum(1).sum(1)[:20]"
   ]
  },
  {
   "cell_type": "code",
   "execution_count": null,
   "metadata": {},
   "outputs": [],
   "source": [
    "plt.imshow(image[2, 2].cpu())\n",
    "plt.colorbar()"
   ]
  },
  {
   "cell_type": "markdown",
   "metadata": {},
   "source": [
    "## An ambiguous detection (~80% detection prob) at the border and at the center\n",
    "\n",
    "### Generate a true catalog, backgrounds, and images"
   ]
  },
  {
   "cell_type": "code",
   "execution_count": null,
   "metadata": {},
   "outputs": [],
   "source": [
    "# because there are 4 pixels in a tile column, these stars appear in the same offsets\n",
    "# within pixels\n",
    "loc_grid_size = 4\n",
    "loc_replicates = 100\n",
    "n = loc_grid_size * loc_replicates\n",
    "n_sources = torch.zeros(n, 20, 20, dtype=torch.long)\n",
    "n_sources[:, 10, 10] = 1\n",
    "locs = torch.arange(loc_grid_size) / loc_grid_size + 0.0\n",
    "locs = torch.stack([locs, torch.ones(loc_grid_size) * 0.5], dim=1)\n",
    "locs = locs.view(loc_grid_size, 1, 1, 1, 1, 2).expand([-1, loc_replicates, 20, 20, 1, -1])\n",
    "locs = locs.reshape(n, 20, 20, 1, 2)\n",
    "true_catalog_dict = {\n",
    "    \"n_sources\": n_sources,\n",
    "    \"source_type\": torch.zeros(n, 20, 20, 1, 1, dtype=torch.long),\n",
    "    \"locs\": locs,\n",
    "    # with flux of 1.5, stars at all positions are detected easily (prob > 0.97 for leftmost, 1. for rest)\n",
    "    # with flux of 0.3, stars at no position are detected (prob < 0.25 for all)\n",
    "    # with flux of 0.5, stars at all positions are detected with prob in [0.7, 0.8]\n",
    "    \"star_fluxes\": torch.ones(n, 20, 20, 1, 5) * 0.5,\n",
    "    \"galaxy_fluxes\": torch.ones(n, 20, 20, 1, 5),\n",
    "}\n",
    "true_catalog = TileCatalog(4, true_catalog_dict)\n"
   ]
  },
  {
   "cell_type": "code",
   "execution_count": null,
   "metadata": {},
   "outputs": [],
   "source": [
    "rcfs, rcf_indices = simulator.randomized_image_ids(true_catalog.n_sources.size(0))\n",
    "image, background, _, _ = simulator.simulate_image(true_catalog, rcfs, rcf_indices)"
   ]
  },
  {
   "cell_type": "markdown",
   "metadata": {},
   "source": [
    "### Make predictions with independent tiling"
   ]
  },
  {
   "cell_type": "code",
   "execution_count": null,
   "metadata": {},
   "outputs": [],
   "source": [
    "batch = {\"images\": image.cuda(), \"background\": background.cuda()}\n",
    "x_cat_marginal, x_features = encoder.get_marginal(batch)\n",
    "pred_marginal = encoder.get_predicted_dist(x_cat_marginal)"
   ]
  },
  {
   "cell_type": "markdown",
   "metadata": {},
   "source": [
    "It looks like the expected light source count is similar regardless of light source possition"
   ]
  },
  {
   "cell_type": "code",
   "execution_count": null,
   "metadata": {},
   "outputs": [],
   "source": [
    "reps = pred_marginal[\"on_prob\"].probs[:, 8:11, 9, 1].sum(1).view(loc_grid_size, loc_replicates)\n",
    "reps.mean(1), (reps.var(1) / loc_replicates).sqrt()"
   ]
  },
  {
   "cell_type": "markdown",
   "metadata": {},
   "source": [
    "### Make predictions with dependent tiling"
   ]
  },
  {
   "cell_type": "code",
   "execution_count": null,
   "metadata": {},
   "outputs": [],
   "source": [
    "running_mean = torch.zeros(loc_grid_size).cuda()\n",
    "running_var = torch.zeros(loc_grid_size).cuda()\n",
    "\n",
    "for i in range(100):\n",
    "    marginal_detections = pred_marginal[\"on_prob\"].sample()\n",
    "    # must pad because encoder.tiles_to_crop = 1\n",
    "    padded_detections = torch.nn.functional.pad(marginal_detections, [1, 1, 1, 1])\n",
    "    preds = encoder.get_conditional(x_cat_marginal, x_features, padded_detections)\n",
    "    conditional_detections = preds[\"conditional\"][\"on_prob\"].sample()\n",
    "    reps = conditional_detections[:, 8:10, 9].sum(1).view(loc_grid_size, loc_replicates).float()\n",
    "    running_mean += reps.mean(1)\n",
    "    running_var += reps.var(1)"
   ]
  },
  {
   "cell_type": "code",
   "execution_count": null,
   "metadata": {},
   "outputs": [],
   "source": [
    "running_mean / 100, (running_var / (loc_replicates * 100)).sqrt()"
   ]
  },
  {
   "cell_type": "code",
   "execution_count": null,
   "metadata": {},
   "outputs": [],
   "source": [
    "marginal_detections[:150, 8:10, 9].float().mean(0)"
   ]
  },
  {
   "cell_type": "code",
   "execution_count": null,
   "metadata": {},
   "outputs": [],
   "source": [
    "preds = encoder.get_conditional(x_cat_marginal, x_features, torch.ones_like(padded_detections))\n",
    "conditional_detections = preds[\"conditional\"][\"on_prob\"].sample()\n",
    "conditional_detections[:150, 8:10, 9].float().mean(0)"
   ]
  },
  {
   "cell_type": "code",
   "execution_count": null,
   "metadata": {},
   "outputs": [],
   "source": [
    "preds = encoder.get_conditional(x_cat_marginal, x_features, torch.zeros_like(padded_detections))\n",
    "conditional_detections = preds[\"conditional\"][\"on_prob\"].sample()\n",
    "conditional_detections[:150, 8:10, 9].float().mean(0)"
   ]
  },
  {
   "cell_type": "code",
   "execution_count": null,
   "metadata": {},
   "outputs": [],
   "source": []
  }
 ],
 "metadata": {
  "kernelspec": {
   "display_name": ".venv",
   "language": "python",
   "name": "python3"
  },
  "language_info": {
   "codemirror_mode": {
    "name": "ipython",
    "version": 3
   },
   "file_extension": ".py",
   "mimetype": "text/x-python",
   "name": "python",
   "nbconvert_exporter": "python",
   "pygments_lexer": "ipython3",
   "version": "3.10.12"
  },
  "orig_nbformat": 4
 },
 "nbformat": 4,
 "nbformat_minor": 2
}

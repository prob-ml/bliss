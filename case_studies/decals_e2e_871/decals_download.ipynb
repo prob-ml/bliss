{
 "cells": [
  {
   "cell_type": "markdown",
   "metadata": {},
   "source": [
    "# Setup"
   ]
  },
  {
   "cell_type": "code",
   "execution_count": null,
   "metadata": {},
   "outputs": [],
   "source": [
    "import numpy as np\n",
    "import gzip\n",
    "\n",
    "from astropy.utils.data import download_file\n",
    "from astropy.io import fits\n",
    "from astropy.table import Table\n",
    "from astropy.wcs import WCS\n",
    "\n",
    "import matplotlib.pyplot as plt\n",
    "\n",
    "from bliss.utils.download_utils import download_file_to_dst\n",
    "\n",
    "def plot_image(hdu):\n",
    "    ax = plt.subplot(projection=WCS(hdu.header))\n",
    "    ax.imshow(hdu.data,cmap='gray',vmin=hdu.data.min(),vmax=hdu.data.min()+(hdu.data.max()-hdu.data.min())/100.)\n",
    "\n",
    "URLBASE = \"https://portal.nersc.gov/cfs/cosmo/data/legacysurvey/dr9\"\n",
    "\n",
    "ra, dec = 336.635, -0.96\n",
    "\n",
    "# Basic (RA, Dec) <--> Brick conversion\n",
    "survey_bricks_filename = download_file(f\"{URLBASE}/south/survey-bricks-dr9-south.fits.gz\", cache=True, show_progress=True, timeout=120)\n",
    "\n",
    "# ra1 - lower RA boundary\n",
    "# ra2 - upper RA boundary\n",
    "# dec1 - lower Dec boundary\n",
    "# dec2 - upper Dec boundary\n",
    "survey_bricks = Table.read(survey_bricks_filename)\n",
    "brickname = survey_bricks[\n",
    "            (survey_bricks[\"ra1\"] <= ra)\n",
    "            & (survey_bricks[\"ra2\"] >= ra)\n",
    "            & (survey_bricks[\"dec1\"] <= dec)\n",
    "            & (survey_bricks[\"dec2\"] >= dec)\n",
    "        ][\"brickname\"][0]\n",
    "print(f\"Brick for RA, Dec ({ra}, {dec}):\", brickname)"
   ]
  },
  {
   "cell_type": "markdown",
   "metadata": {},
   "source": [
    "# DECaLS Co-added Images"
   ]
  },
  {
   "cell_type": "markdown",
   "metadata": {},
   "source": [
    "Get images"
   ]
  },
  {
   "cell_type": "code",
   "execution_count": null,
   "metadata": {},
   "outputs": [],
   "source": [
    "image_g_filename = download_file(\"{}/south/coadd/{}/{}/legacysurvey-{}-image-g.fits.fz\".format(URLBASE, brickname[:3], brickname, brickname), cache=False)\n",
    "image_r_filename = download_file(\"{}/south/coadd/{}/{}/legacysurvey-{}-image-r.fits.fz\".format(URLBASE, brickname[:3], brickname, brickname), cache=False)\n",
    "image_z_filename = download_file(\"{}/south/coadd/{}/{}/legacysurvey-{}-image-z.fits.fz\".format(URLBASE, brickname[:3], brickname, brickname), cache=False)"
   ]
  },
  {
   "cell_type": "code",
   "execution_count": null,
   "metadata": {},
   "outputs": [],
   "source": [
    "image_g = fits.open(image_g_filename)\n",
    "image_r = fits.open(image_r_filename)\n",
    "image_z = fits.open(image_z_filename)"
   ]
  },
  {
   "cell_type": "markdown",
   "metadata": {},
   "source": [
    "Get background (via `ccdskycounts`) or `*sky` fields in `ccds-annotated-decam-dr9.fits.gz` summary file"
   ]
  },
  {
   "cell_type": "code",
   "execution_count": null,
   "metadata": {},
   "outputs": [],
   "source": [
    "ccds_filename = download_file(f\"{URLBASE}/south/coadd/{brickname[:3]}/{brickname}/legacysurvey-{brickname}-ccds.fits\", cache=False, show_progress=True, timeout=120)\n",
    "ccds = Table.read(ccds_filename)"
   ]
  },
  {
   "cell_type": "code",
   "execution_count": null,
   "metadata": {},
   "outputs": [],
   "source": [
    "ccds_g = ccds[ccds[\"filter\"] == 'g']\n",
    "ccds_r = ccds[ccds[\"filter\"] == 'r']\n",
    "ccds_z = ccds[ccds[\"filter\"] == 'z']\n",
    "\n",
    "median_sky_nelec_g = np.median(ccds_g[\"ccdskycounts\"])\n",
    "median_sky_nelec_r = np.median(ccds_r[\"ccdskycounts\"])\n",
    "median_sky_nelec_z = np.median(ccds_z[\"ccdskycounts\"])\n",
    "\n",
    "print(\"Median sky background in g band (nelec):\", median_sky_nelec_g)\n",
    "print(\"Median sky background in r band (nelec):\", median_sky_nelec_r)\n",
    "print(\"Median sky background in z band (nelec):\", median_sky_nelec_z)\n",
    "\n",
    "# ccds.show_in_notebook(display_length=5)\n",
    "\n",
    "ccds_g.show_in_notebook()"
   ]
  },
  {
   "cell_type": "markdown",
   "metadata": {},
   "source": [
    "# DECaLS Tractor Catalogs"
   ]
  },
  {
   "cell_type": "code",
   "execution_count": null,
   "metadata": {},
   "outputs": [],
   "source": [
    "tractor_filename = \"/home/zhteoh/871-decals-e2e/data/decals/tractor-3366m010.fits\"\n",
    "tractor = Table.read(tractor_filename)\n",
    "\n",
    "tractor[:5].show_in_notebook()"
   ]
  }
 ],
 "metadata": {
  "kernelspec": {
   "display_name": "bliss-deblender-MD82Mbmq-py3.10",
   "language": "python",
   "name": "python3"
  },
  "language_info": {
   "codemirror_mode": {
    "name": "ipython",
    "version": 3
   },
   "file_extension": ".py",
   "mimetype": "text/x-python",
   "name": "python",
   "nbconvert_exporter": "python",
   "pygments_lexer": "ipython3",
   "version": "3.10.6"
  },
  "orig_nbformat": 4
 },
 "nbformat": 4,
 "nbformat_minor": 2
}

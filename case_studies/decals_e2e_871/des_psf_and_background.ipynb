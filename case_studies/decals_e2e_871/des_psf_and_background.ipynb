{
 "cells": [
  {
   "cell_type": "markdown",
   "metadata": {},
   "source": [
    "## Setup"
   ]
  },
  {
   "cell_type": "code",
   "execution_count": null,
   "metadata": {},
   "outputs": [],
   "source": [
    "import numpy as np\n",
    "import gzip\n",
    "\n",
    "from astropy.utils.data import download_file\n",
    "from astropy.io import fits\n",
    "from astropy.table import Table\n",
    "from astropy.wcs import WCS\n",
    "\n",
    "import matplotlib.pyplot as plt\n",
    "\n",
    "from bliss.utils.download_utils import download_file_to_dst\n",
    "\n",
    "def plot_image(hdu):\n",
    "    ax = plt.subplot(projection=WCS(hdu.header))\n",
    "    ax.imshow(hdu.data,cmap='gray',vmin=hdu.data.min(),vmax=hdu.data.min()+(hdu.data.max()-hdu.data.min())/100.)\n",
    "\n",
    "URLBASE = \"https://portal.nersc.gov/cfs/cosmo/data/legacysurvey/dr9\"\n",
    "ra, dec = 336.635, -0.96\n",
    "\n",
    "survey_bricks_filename = download_file(f\"{URLBASE}/south/survey-bricks-dr9-south.fits.gz\", cache=True, show_progress=True, timeout=120)\n",
    "\n",
    "# ra1 - lower RA boundary\n",
    "# ra2 - upper RA boundary\n",
    "# dec1 - lower Dec boundary\n",
    "# dec2 - upper Dec boundary\n",
    "survey_bricks = Table.read(survey_bricks_filename)\n",
    "\n",
    "# Basic (RA, Dec) <--> Brick conversion\n",
    "brickname = survey_bricks[\n",
    "            (survey_bricks[\"ra1\"] <= ra)\n",
    "            & (survey_bricks[\"ra2\"] >= ra)\n",
    "            & (survey_bricks[\"dec1\"] <= dec)\n",
    "            & (survey_bricks[\"dec2\"] >= dec)\n",
    "        ][\"brickname\"][0]\n",
    "print(f\"Brick for RA, Dec ({ra}, {dec}):\", brickname)"
   ]
  },
  {
   "cell_type": "markdown",
   "metadata": {},
   "source": [
    "## DECaLS Co-added Images"
   ]
  },
  {
   "cell_type": "markdown",
   "metadata": {},
   "source": [
    "Get images"
   ]
  },
  {
   "cell_type": "code",
   "execution_count": null,
   "metadata": {},
   "outputs": [],
   "source": [
    "image_g_filename = download_file(\"{}/south/coadd/{}/{}/legacysurvey-{}-image-g.fits.fz\".format(URLBASE, brickname[:3], brickname, brickname), cache=False)\n",
    "image_r_filename = download_file(\"{}/south/coadd/{}/{}/legacysurvey-{}-image-r.fits.fz\".format(URLBASE, brickname[:3], brickname, brickname), cache=False)\n",
    "image_z_filename = download_file(\"{}/south/coadd/{}/{}/legacysurvey-{}-image-z.fits.fz\".format(URLBASE, brickname[:3], brickname, brickname), cache=False)"
   ]
  },
  {
   "cell_type": "code",
   "execution_count": null,
   "metadata": {},
   "outputs": [],
   "source": [
    "image_g = fits.open(image_g_filename)\n",
    "image_r = fits.open(image_r_filename)\n",
    "image_z = fits.open(image_z_filename)"
   ]
  },
  {
   "cell_type": "code",
   "execution_count": null,
   "metadata": {},
   "outputs": [],
   "source": [
    "image_g[1].header[\"BRICK\"]"
   ]
  },
  {
   "cell_type": "markdown",
   "metadata": {},
   "source": [
    "Inspect SDSS images and catalog"
   ]
  },
  {
   "cell_type": "code",
   "execution_count": null,
   "metadata": {},
   "outputs": [],
   "source": [
    "fitsfile = fits.open(\"/home/zhteoh/871-decals-e2e/data/sdss/94/1/12/frame-g-000094-1-0012.fits\")"
   ]
  },
  {
   "cell_type": "code",
   "execution_count": null,
   "metadata": {},
   "outputs": [],
   "source": [
    "hdu0 = fitsfile[0]\n",
    "hdu1 = fitsfile[1]\n",
    "hdu2 = fitsfile[2]\n",
    "hdu3 = fitsfile[3]"
   ]
  },
  {
   "cell_type": "code",
   "execution_count": null,
   "metadata": {},
   "outputs": [],
   "source": [
    "plot_image(hdu0)"
   ]
  },
  {
   "cell_type": "code",
   "execution_count": null,
   "metadata": {},
   "outputs": [],
   "source": [
    "hdu0.data # sky-subtracted nmgy/pixel"
   ]
  },
  {
   "cell_type": "markdown",
   "metadata": {},
   "source": [
    "## DECaLS PSF"
   ]
  },
  {
   "cell_type": "markdown",
   "metadata": {},
   "source": [
    "Get DECaLS PSF model"
   ]
  },
  {
   "cell_type": "code",
   "execution_count": null,
   "metadata": {},
   "outputs": [],
   "source": [
    "brick_model_g_filename = download_file(f\"{URLBASE}/south/coadd/{brickname[:3]}/{brickname}/legacysurvey-{brickname}-model-g.fits.fz\", cache=True, show_progress=True, timeout=120)\n",
    "brick_model_r_filename = download_file(f\"{URLBASE}/south/coadd/{brickname[:3]}/{brickname}/legacysurvey-{brickname}-model-r.fits.fz\", cache=True, show_progress=True, timeout=120)\n",
    "brick_model_z_filename = download_file(f\"{URLBASE}/south/coadd/{brickname[:3]}/{brickname}/legacysurvey-{brickname}-model-z.fits.fz\", cache=True, show_progress=True, timeout=120)"
   ]
  },
  {
   "cell_type": "code",
   "execution_count": null,
   "metadata": {},
   "outputs": [],
   "source": [
    "psfsize_g_filename = download_file(f\"{URLBASE}/south/coadd/{brickname[:3]}/{brickname}/legacysurvey-{brickname}-psfsize-g.fits.fz\", cache=True, show_progress=True, timeout=120)\n",
    "psfsize_r_filename = download_file(f\"{URLBASE}/south/coadd/{brickname[:3]}/{brickname}/legacysurvey-{brickname}-psfsize-r.fits.fz\", cache=True, show_progress=True, timeout=120)\n",
    "psfsize_z_filename = download_file(f\"{URLBASE}/south/coadd/{brickname[:3]}/{brickname}/legacysurvey-{brickname}-psfsize-z.fits.fz\", cache=True, show_progress=True, timeout=120)"
   ]
  },
  {
   "cell_type": "code",
   "execution_count": null,
   "metadata": {},
   "outputs": [],
   "source": [
    "tractor_g_fitsfile = fits.open(brick_model_r_filename)\n",
    "tractor_r_fitsfile = fits.open(brick_model_r_filename)\n",
    "tractor_z_fitsfile = fits.open(brick_model_r_filename)"
   ]
  },
  {
   "cell_type": "markdown",
   "metadata": {},
   "source": [
    "PSF via params in `ccds-annotated-decam-dr9.fits.gz`"
   ]
  },
  {
   "cell_type": "code",
   "execution_count": null,
   "metadata": {},
   "outputs": [],
   "source": [
    "# WARNING: DOWNLOAD TAKES A LONG TIME - 1.71GB\n",
    "from bliss.utils.download_utils import download_file_to_dst\n",
    "import gzip\n",
    "\n",
    "# REPLACE THIS WITH YOUR ${workspaceFolder}\n",
    "WORKSPACE_FOLDER = \"/home/zhteoh/871-decals-e2e\"\n",
    "dst_filename = f\"{WORKSPACE_FOLDER}/data/ccds-annotated-decam-dr9.fits.gz\"\n",
    "ccds_annotated_filename = download_file_to_dst(f\"{URLBASE}/ccds-annotated-decam-dr9.fits.gz\", \n",
    "                                               dst_filename,\n",
    "                                               gzip.decompress)"
   ]
  },
  {
   "cell_type": "code",
   "execution_count": null,
   "metadata": {},
   "outputs": [],
   "source": [
    "ccds_annotated = Table.read(\"/home/zhteoh/871-decals-e2e/data/decals/ccds-annotated-decam-dr9.fits\")"
   ]
  },
  {
   "cell_type": "code",
   "execution_count": null,
   "metadata": {},
   "outputs": [],
   "source": [
    "select_cols = [\"ccdname\", \"ra\", \"dec\"]\n",
    "psf_cols = [col for col in ccds_annotated.colnames if col.startswith(\"psf\") or col.startswith(\"gal\") or col.startswith(\"gauss\") or col in select_cols]\n",
    "ccds_annotated[psf_cols][:5].show_in_notebook()"
   ]
  },
  {
   "cell_type": "markdown",
   "metadata": {},
   "source": [
    "Get CCDs used for brick"
   ]
  },
  {
   "cell_type": "code",
   "execution_count": null,
   "metadata": {},
   "outputs": [],
   "source": [
    "brick_ccds_filename = download_file(\"{}/south/coadd/{}/{}/legacysurvey-{}-ccds.fits\".format(URLBASE, brickname[:3], brickname, brickname), cache=False)\n",
    "brick_ccds = Table.read(brick_ccds_filename)"
   ]
  },
  {
   "cell_type": "code",
   "execution_count": null,
   "metadata": {},
   "outputs": [],
   "source": [
    "ccds_for_brick = brick_ccds[\"ccdname\"]"
   ]
  },
  {
   "cell_type": "code",
   "execution_count": null,
   "metadata": {},
   "outputs": [],
   "source": [
    "# Show rows in ccds_annotated that match the ccds_for_brick\n",
    "mask = np.isin(ccds_annotated[\"ccdname\"], ccds_for_brick)\n",
    "ccds_psf_r = ccds_annotated[mask & (ccds_annotated[\"filter\"] == 'r')][psf_cols]"
   ]
  },
  {
   "cell_type": "markdown",
   "metadata": {},
   "source": [
    "Create PSF model based on these CCDs"
   ]
  },
  {
   "cell_type": "code",
   "execution_count": null,
   "metadata": {},
   "outputs": [],
   "source": [
    "psf_mx2 = np.median(ccds_psf_r[\"psf_mx2\"])\n",
    "psf_my2 = np.median(ccds_psf_r[\"psf_my2\"])\n",
    "psf_mxy = np.median(ccds_psf_r[\"psf_mxy\"])\n",
    "psf_a = np.median(ccds_psf_r[\"psf_a\"])\n",
    "psf_b = np.median(ccds_psf_r[\"psf_b\"])\n",
    "psf_theta = np.median(ccds_psf_r[\"psf_theta\"])\n",
    "psf_ell = np.median(ccds_psf_r[\"psf_ell\"])\n",
    "\n",
    "psfnorm_mean = np.median(ccds_psf_r[\"psfnorm_mean\"])\n",
    "psfnorm_std = np.median(ccds_psf_r[\"psfnorm_std\"])\n",
    "\n",
    "psfdepth = np.median(ccds_psf_r[\"psfdepth\"])\n",
    "galdepth = np.median(ccds_psf_r[\"galdepth\"])\n",
    "gausspsfdepth = np.median(ccds_psf_r[\"gausspsfdepth\"])\n",
    "gaussgaldepth = np.median(ccds_psf_r[\"gaussgaldepth\"])"
   ]
  },
  {
   "cell_type": "markdown",
   "metadata": {},
   "source": [
    "Or use FWHM for brick"
   ]
  },
  {
   "cell_type": "code",
   "execution_count": null,
   "metadata": {},
   "outputs": [],
   "source": [
    "brick_fwhm_g_filename = download_file(\"{}/south/coadd/{}/{}/legacysurvey-{}-psfsize-g.fits.fz\".format(URLBASE, brickname[:3], brickname, brickname), cache=False)\n",
    "brick_fwhm_r_filename = download_file(\"{}/south/coadd/{}/{}/legacysurvey-{}-psfsize-r.fits.fz\".format(URLBASE, brickname[:3], brickname, brickname), cache=False)\n",
    "brick_fwhm_z_filename = download_file(\"{}/south/coadd/{}/{}/legacysurvey-{}-psfsize-z.fits.fz\".format(URLBASE, brickname[:3], brickname, brickname), cache=False)"
   ]
  },
  {
   "cell_type": "code",
   "execution_count": null,
   "metadata": {},
   "outputs": [],
   "source": [
    "brick_fwhm_g = fits.open(brick_fwhm_g_filename)\n",
    "brick_fwhm_r = fits.open(brick_fwhm_r_filename)\n",
    "brick_fwhm_z = fits.open(brick_fwhm_z_filename)\n",
    "\n",
    "psf_fwhm = np.median(brick_fwhm_r[1].data)"
   ]
  },
  {
   "cell_type": "code",
   "execution_count": null,
   "metadata": {},
   "outputs": [],
   "source": [
    "psf_fwhm.shape"
   ]
  },
  {
   "cell_type": "code",
   "execution_count": null,
   "metadata": {},
   "outputs": [],
   "source": [
    "pixel_scale = 0.262\n",
    "psf_slen = 63"
   ]
  },
  {
   "cell_type": "code",
   "execution_count": null,
   "metadata": {},
   "outputs": [],
   "source": [
    "import numpy as np\n",
    "import torch\n",
    "\n",
    "def _get_mgrid():\n",
    "    \"\"\"Construct the base grid for the PSF.\"\"\"\n",
    "    offset = (psf_slen - 1) / 2\n",
    "    x, y = np.mgrid[-offset : (offset + 1), -offset : (offset + 1)]\n",
    "    mgrid = torch.tensor(np.dstack((y, x))) / offset\n",
    "    return mgrid.float()"
   ]
  },
  {
   "cell_type": "code",
   "execution_count": null,
   "metadata": {},
   "outputs": [],
   "source": [
    "import galsim\n",
    "import math\n",
    "\n",
    "# Create the PSF model\n",
    "\n",
    "# Inner Moffat profile\n",
    "psf_inner = galsim.Moffat(beta=psf_b, fwhm=psf_fwhm)\n",
    "\n",
    "# Outer profile - Moffat or Power-law\n",
    "band = 'r'\n",
    "if band == 'z':\n",
    "    alpha, beta, weight = 17.650, 1.7, 0.0145\n",
    "    compact_z_ccds = ['N20', 'S8', 'S10', 'S18', 'S21', 'S27']\n",
    "    if ccds_for_brick in compact_z_ccds:\n",
    "        alpha, beta, weight = 16, 2.3, 0.0095\n",
    "    # Create the first Moffat PSF component\n",
    "    moffat1 = galsim.Moffat(beta=beta, fwhm=2 * alpha * math.sqrt(2**(1/beta) - 1))\n",
    "    # Create the second Moffat PSF component\n",
    "    moffat2 = galsim.Moffat(beta=beta, fwhm=2 * alpha * math.sqrt(2**(1/beta) - 1) / weight)\n",
    "    # Combine the two Moffat components using Moffat weighting\n",
    "    weighted_moffat = weight * moffat1 + (1 - weight) * moffat2\n",
    "    psf_outer = weighted_moffat\n",
    "else:\n",
    "    assert band in ['g', 'r', 'i']\n",
    "    grid = _get_mgrid() * (psf_slen - 1) / 2\n",
    "    radii_grid = (grid**2).sum(2).sqrt()\n",
    "    if band == 'g':\n",
    "        outer = 0.00045 * radii_grid**(-2)\n",
    "    elif band == 'r':\n",
    "        outer = 0.00033 * radii_grid**(-2)\n",
    "    elif band == 'i':\n",
    "        outer = 0.00033 * radii_grid**(-2)\n",
    "    psf_outer = galsim.InterpolatedImage(galsim.Image(outer.numpy(), scale=pixel_scale)).withFlux(1.0)\n",
    "\n",
    "# Combine the inner and outer profiles\n",
    "psf_combined = galsim.Convolve([psf_inner, psf_outer])\n",
    "\n",
    "# Apply ellipticity and position angle to the PSF model\n",
    "psf_combined = psf_combined.shear(e=psf_ell, beta=psf_theta * galsim.degrees)\n",
    "\n",
    "psf_image = galsim.Image(psf_combined.detach().numpy(), scale=pixel_scale)\n",
    "psf_image /= psfnorm_mean\n",
    "\n",
    "psf = galsim.InterpolatedImage(psf_image).withFlux(1.0)\n"
   ]
  },
  {
   "cell_type": "markdown",
   "metadata": {},
   "source": [
    "## SDSS PSF"
   ]
  },
  {
   "cell_type": "markdown",
   "metadata": {},
   "source": [
    "Inspect SDSS PSF"
   ]
  },
  {
   "cell_type": "code",
   "execution_count": null,
   "metadata": {},
   "outputs": [],
   "source": [
    "bands = [0, 1, 2, 3, 4]\n",
    "pixel_scale=0.396\n",
    "psf_slen=25"
   ]
  },
  {
   "cell_type": "code",
   "execution_count": null,
   "metadata": {},
   "outputs": [],
   "source": [
    "import torch\n",
    "\n",
    "def _psf_fun(r, sigma1, sigma2, sigmap, beta, b, p0):\n",
    "    term1 = torch.exp(-(r**2) / (2 * sigma1))\n",
    "    term2 = b * torch.exp(-(r**2) / (2 * sigma2))\n",
    "    term3 = p0 * (1 + r**2 / (beta * sigmap)) ** (-beta / 2)\n",
    "    return (term1 + term2 + term3) / (1 + b + p0)"
   ]
  },
  {
   "cell_type": "code",
   "execution_count": null,
   "metadata": {},
   "outputs": [],
   "source": [
    "import numpy as np\n",
    "\n",
    "def _get_mgrid():\n",
    "    \"\"\"Construct the base grid for the PSF.\"\"\"\n",
    "    offset = (psf_slen - 1) / 2\n",
    "    x, y = np.mgrid[-offset : (offset + 1), -offset : (offset + 1)]\n",
    "    mgrid = torch.tensor(np.dstack((y, x))) / offset\n",
    "    return mgrid.float()"
   ]
  },
  {
   "cell_type": "code",
   "execution_count": null,
   "metadata": {},
   "outputs": [],
   "source": [
    "from einops import rearrange, reduce\n",
    "import torch\n",
    "\n",
    "def get_psf(params):\n",
    "    \"\"\"Construct PSF image from parameters. This is the main entry point for generating the psf.\n",
    "\n",
    "    Args:\n",
    "        params: list of psf parameters, loaded from _get_fit_file_psf_params\n",
    "\n",
    "    Returns:\n",
    "        images (List[InterpolatedImage]): list of psf transformations for each band\n",
    "    \"\"\"\n",
    "    # get psf in each band\n",
    "    psf_list = []\n",
    "    for i in range(n_bands):\n",
    "        grid = _get_mgrid() * (psf_slen - 1) / 2\n",
    "        radii_grid = (grid**2).sum(2).sqrt()\n",
    "        band_psf = _psf_fun(radii_grid, *params[i])\n",
    "        psf_list.append(band_psf.unsqueeze(0))\n",
    "    psf = torch.cat(psf_list)\n",
    "    assert (psf > 0).all()\n",
    "\n",
    "    # ensure it's normalized\n",
    "    norm = reduce(psf, \"b m k -> b\", \"sum\")\n",
    "    psf *= rearrange(1 / norm, \"b -> b 1 1\")\n",
    "\n",
    "    # check format\n",
    "    n_bands, psf_slen, _ = psf.shape\n",
    "    assert n_bands == n_bands and (psf_slen % 2) == 1 and psf_slen == psf.shape[2]\n",
    "\n",
    "    # convert to image\n",
    "    images = []\n",
    "    for i in range(n_bands):\n",
    "        psf_image = galsim.Image(psf.detach().numpy()[i], scale=pixel_scale)\n",
    "        images.append(galsim.InterpolatedImage(psf_image).withFlux(1.0))\n",
    "\n",
    "    return images"
   ]
  },
  {
   "cell_type": "code",
   "execution_count": null,
   "metadata": {},
   "outputs": [],
   "source": [
    "from typing import Tuple\n",
    "from pathlib import Path\n",
    "\n",
    "def _get_fit_file_psf_params(psf_fit_file: str, bands: Tuple[int, ...]):\n",
    "    \"\"\"Load psf parameters from fits file.\n",
    "\n",
    "    See https://data.sdss.org/datamodel/files/PHOTO_REDUX/RERUN/RUN/objcs/CAMCOL/psField.html\n",
    "    for details on the parameters.\n",
    "\n",
    "    Args:\n",
    "        psf_fit_file (str): file to load from\n",
    "        bands (Tuple[int, ...]): SDSS bands to load\n",
    "\n",
    "    Returns:\n",
    "        psf_params: tensor of parameters for each band\n",
    "    \"\"\"\n",
    "    msg = (\n",
    "        f\"{psf_fit_file} does not exist. \"\n",
    "        + \"Make sure data files are available for fields specified in config.\"\n",
    "    )\n",
    "    assert Path(psf_fit_file).exists(), msg\n",
    "    # HDU 6 contains the PSF header (after primary and eigenimages)\n",
    "    data = fits.open(psf_fit_file, ignore_missing_end=True).pop(6).data\n",
    "    psf_params = torch.zeros(len(bands), 6)\n",
    "    for i, band in enumerate(bands):\n",
    "        sigma1 = data[\"psf_sigma1\"][0][band] ** 2\n",
    "        sigma2 = data[\"psf_sigma2\"][0][band] ** 2\n",
    "        sigmap = data[\"psf_sigmap\"][0][band] ** 2\n",
    "        beta = data[\"psf_beta\"][0][band]\n",
    "        b = data[\"psf_b\"][0][band]\n",
    "        p0 = data[\"psf_p0\"][0][band]\n",
    "\n",
    "        psf_params[i] = torch.tensor([sigma1, sigma2, sigmap, beta, b, p0])\n",
    "\n",
    "    return psf_params\n",
    "\n",
    "psf_fit_file = \"/home/zhteoh/871-decals-e2e/data/sdss/94/1/12/psField-000094-1-0012.fits\""
   ]
  },
  {
   "cell_type": "code",
   "execution_count": null,
   "metadata": {},
   "outputs": [],
   "source": [
    "data = fits.open(psf_fit_file, ignore_missing_end=True).pop(6).data\n",
    "psf_params = torch.zeros(len(bands), 6)\n",
    "\n",
    "data[\"psf_sigma2\"][0]"
   ]
  },
  {
   "cell_type": "markdown",
   "metadata": {},
   "source": [
    "## DECaLS Prior via single-exposure DECam CCDs"
   ]
  },
  {
   "cell_type": "code",
   "execution_count": null,
   "metadata": {},
   "outputs": [],
   "source": [
    "BRICKNAME = brickname\n",
    "BRICKNAME"
   ]
  },
  {
   "cell_type": "code",
   "execution_count": null,
   "metadata": {},
   "outputs": [],
   "source": [
    "brick_ccds_filename = download_file(f\"{URLBASE}/south/coadd/{BRICKNAME[:3]}/{BRICKNAME}/legacysurvey-{BRICKNAME}-ccds.fits\", cache=False, show_progress=True, timeout=120)\n",
    "brick_ccds = Table.read(brick_ccds_filename)\n",
    "brick_ccds.show_in_notebook(display_length=2)"
   ]
  },
  {
   "cell_type": "code",
   "execution_count": null,
   "metadata": {},
   "outputs": [],
   "source": [
    "# Choose a CCD (i.e., given image)\n",
    "CCDNAME = \"S28\"\n",
    "\n",
    "# NOTE: make sure images exist for these filters\n",
    "BANDS = [\"g\", \"r\", \"z\"]"
   ]
  },
  {
   "cell_type": "code",
   "execution_count": null,
   "metadata": {},
   "outputs": [],
   "source": [
    "brick_ccds_fits = fits.open(brick_ccds_filename)\n",
    "\n",
    "# Get image data from `CCDNAME`, for each band\n",
    "image_basenames_without_ext = {}\n",
    "matching_rows = []\n",
    "for band in BANDS:\n",
    "    matching_row = np.where((brick_ccds[\"ccdname\"] == CCDNAME) & (brick_ccds[\"filter\"] == band))[0][0]\n",
    "    image_basenames_without_ext[band] = brick_ccds[\"image_filename\"][matching_row].replace(\".fits.fz\", \"\")\n",
    "    matching_rows.append(matching_row)\n",
    "\n",
    "print(image_basenames_without_ext)\n",
    "brick_ccds[matching_rows].show_in_notebook()"
   ]
  },
  {
   "cell_type": "markdown",
   "metadata": {},
   "source": [
    "Get single calibrated images (for each band) for this CCD"
   ]
  },
  {
   "cell_type": "code",
   "execution_count": null,
   "metadata": {},
   "outputs": [],
   "source": [
    "from numpy.core.defchararray import find\n",
    "\n",
    "from pyvo.dal import sia\n",
    "\n",
    "DEF_ACCESS_URL = \"https://datalab.noirlab.edu/sia/calibrated_all\"\n",
    "svc = sia.SIAService(DEF_ACCESS_URL)\n",
    "\n",
    "imgTable = svc.search((ra,dec)).to_table()\n",
    "img_access_urls = {} # indexed by band\n",
    "for b, basename in image_basenames_without_ext.items():\n",
    "    # remove everything except filename (i.e., after last '/'), and after _`b` character\n",
    "    img_filename = basename.split(\"/\")[-1].split(f\"_{b}\")[0] + f\"_{b}\"\n",
    "    # print(f\"Searching for {img_filename} in {b}-band\")\n",
    "    b_access_url = imgTable[find(imgTable[\"access_url\"].astype(str), img_filename) != -1][0][\"access_url\"]\n",
    "    img_access_urls[b] = b_access_url\n",
    "\n",
    "img_access_urls"
   ]
  },
  {
   "cell_type": "code",
   "execution_count": null,
   "metadata": {},
   "outputs": [],
   "source": [
    "imgTable"
   ]
  },
  {
   "cell_type": "code",
   "execution_count": null,
   "metadata": {},
   "outputs": [],
   "source": [
    "# Download single images\n",
    "ccd_images = {} # indexed by band\n",
    "ccd_image_filenames = {} # indexed by band\n",
    "\n",
    "for band, img_access_url in img_access_urls.items():\n",
    "    img_fits_filename = download_file(img_access_url, cache=True, show_progress=True, timeout=120)\n",
    "    ccd_image_filenames[band] = img_fits_filename\n",
    "    img_fits = fits.open(img_fits_filename)\n",
    "    ccd_images[band] = img_fits[0].data\n"
   ]
  },
  {
   "cell_type": "code",
   "execution_count": null,
   "metadata": {},
   "outputs": [],
   "source": [
    "img_fits[0].header"
   ]
  },
  {
   "cell_type": "code",
   "execution_count": null,
   "metadata": {},
   "outputs": [],
   "source": [
    "# Shape of each single image\n",
    "ccd_images[\"g\"].shape"
   ]
  },
  {
   "cell_type": "code",
   "execution_count": null,
   "metadata": {},
   "outputs": [],
   "source": [
    "print(\"g-band MAGZERO from downloaded image header:\", fits.open(ccd_image_filenames[\"g\"])[0].header[\"MAGZERO\"])\n",
    "print(\"g-band MAGZPT from downloaded image header:\", fits.open(ccd_image_filenames[\"g\"])[0].header[\"MAGZPT\"])\n",
    "\n",
    "print(\"g-band CCDZPT from brick-ccds:\", brick_ccds[np.where((brick_ccds[\"ccdname\"] == CCDNAME) & (brick_ccds[\"filter\"] == \"g\"))[0][0]][\"ccdzpt\"])"
   ]
  },
  {
   "cell_type": "markdown",
   "metadata": {},
   "source": [
    "### DECaLS PSF via single-exposure PSFEx FITS"
   ]
  },
  {
   "cell_type": "code",
   "execution_count": null,
   "metadata": {},
   "outputs": [],
   "source": [
    "# Get PSFEx fits, for each band\n",
    "psfex_hdus = {}\n",
    "for band in BANDS:\n",
    "    psfex_fits_fn = download_file(f\"{URLBASE}/calib/psfex/{image_basenames_without_ext[band]}-psfex.fits\", cache=False)\n",
    "    psfex_fits = fits.open(psfex_fits_fn)\n",
    "\n",
    "    psfex_table_hdu = psfex_fits[1]\n",
    "\n",
    "    # Get `row` corresponding to DECam image (i.e., CCD)\n",
    "    rows = np.where(psfex_table_hdu.data[\"ccdname\"] == CCDNAME)[0]\n",
    "    assert len(rows) == 1\n",
    "    row = rows[0]\n",
    "    # print(\"Row:\", row)\n",
    "\n",
    "    # Get single values for the following parameters\n",
    "    params = [\"polnaxis\", \"polzero1\", \"polzero2\", \"polscal1\", \"polscal2\", \"polname1\", \"polname2\", \"polngrp\", \"polgrp1\", \"polgrp2\", \"poldeg1\", \"psfnaxis\", \"psfaxis1\", \"psfaxis2\", \"psfaxis3\", \"psf_samp\"]\n",
    "\n",
    "    # Create new BinTableHDU with just the row corresponding to the DECam image\n",
    "    with fits.open(psfex_fits_fn, mode=\"update\") as hdul:\n",
    "        bintable = hdul[1]\n",
    "\n",
    "        # Add to HDU header\n",
    "        for param in params:\n",
    "            bintable.header[param.upper()] = psfex_table_hdu.data[row][param]\n",
    "        \n",
    "        bintable.data = bintable.data[row:row+1]\n",
    "        bintable.header[\"NAXIS2\"] = 1\n",
    "        bintable.header[\"NAXIS1\"] = len(bintable.columns)\n",
    "\n",
    "        hdul.flush()\n",
    "\n",
    "    psfex_fits = fits.open(psfex_fits_fn)\n",
    "    psfex_table_hdu = psfex_fits[1]\n",
    "    psfex_hdus[band] = psfex_table_hdu\n",
    "\n",
    "psfex_hdus"
   ]
  },
  {
   "cell_type": "code",
   "execution_count": null,
   "metadata": {},
   "outputs": [],
   "source": [
    "for b, hdu in psfex_hdus.items():\n",
    "    t = Table.read(hdu)\n",
    "    cols = t.colnames\n",
    "    cols.sort()\n",
    "    print(cols)"
   ]
  },
  {
   "cell_type": "markdown",
   "metadata": {},
   "source": [
    "Create the PSF model, passing in the PSFEx and image HDUs"
   ]
  },
  {
   "cell_type": "code",
   "execution_count": null,
   "metadata": {},
   "outputs": [],
   "source": [
    "image_filename_r = \"/home/zhteoh/871-decals-e2e-des/data/des/336/3366m010/c4d_170927_025457_ooi_r.fits\"\n",
    "\n",
    "image_r_fits = fits.open(image_filename_r)"
   ]
  },
  {
   "cell_type": "code",
   "execution_count": null,
   "metadata": {},
   "outputs": [],
   "source": [
    "ccd_r_fits = fits.open(ccd_image_filenames[\"r\"])"
   ]
  },
  {
   "cell_type": "code",
   "execution_count": null,
   "metadata": {},
   "outputs": [],
   "source": [
    "ccd_image_filenames[\"r\"]"
   ]
  },
  {
   "cell_type": "code",
   "execution_count": null,
   "metadata": {},
   "outputs": [],
   "source": [
    "import galsim.des\n",
    "\n",
    "des_psfex_r = galsim.des.DES_PSFEx(psfex_hdus[\"r\"], image_filename_r)"
   ]
  },
  {
   "cell_type": "code",
   "execution_count": null,
   "metadata": {},
   "outputs": [],
   "source": [
    "image_pos = galsim.PositionD(0, 0)\n",
    "psf_r = des_psfex_r.getPSF(image_pos)"
   ]
  },
  {
   "cell_type": "code",
   "execution_count": null,
   "metadata": {},
   "outputs": [],
   "source": [
    "psf_r"
   ]
  },
  {
   "cell_type": "markdown",
   "metadata": {},
   "source": [
    "### DECaLS background for CCD"
   ]
  },
  {
   "cell_type": "code",
   "execution_count": null,
   "metadata": {},
   "outputs": [],
   "source": [
    "background_hdus = {}\n",
    "for band in BANDS:\n",
    "    background_fits_fn = download_file(f\"{URLBASE}/calib/sky/{image_basenames_without_ext[band]}-splinesky.fits\", cache=False)\n",
    "    background_fits = fits.open(background_fits_fn)\n",
    "\n",
    "    background_table_hdu = background_fits[1]\n",
    "    background_table = Table.read(background_table_hdu)\n",
    "\n",
    "    # Get `row` corresponding to DECam image (i.e., CCD)\n",
    "    rows = np.where(background_table[\"ccdname\"] == CCDNAME)[0]\n",
    "    assert len(rows) == 1\n",
    "    row = rows[0]\n",
    "    # print(\"Row:\", row)\n",
    "\n",
    "    # Create new BinTableHDU with just the row corresponding to the DECam image\n",
    "    with fits.open(background_fits_fn, mode=\"update\") as hdul:\n",
    "        bintable = hdul[1]\n",
    "        bintable.data = bintable.data[row:row+1]\n",
    "        bintable.header[\"NAXIS2\"] = 1\n",
    "        bintable.header[\"NAXIS1\"] = len(bintable.columns)\n",
    "\n",
    "        hdul.flush()\n",
    "\n",
    "    background_fits = fits.open(background_fits_fn)\n",
    "    background_table_hdu = background_fits[1]\n",
    "    background_hdus[band] = background_table_hdu\n",
    "\n",
    "background_hdus"
   ]
  },
  {
   "cell_type": "code",
   "execution_count": null,
   "metadata": {},
   "outputs": [],
   "source": [
    "bg_r = Table.read(background_hdus[\"r\"])\n",
    "\n",
    "bg_r[0]"
   ]
  },
  {
   "cell_type": "code",
   "execution_count": null,
   "metadata": {},
   "outputs": [],
   "source": [
    "from scipy.interpolate import RectBivariateSpline\n",
    "from scipy.ndimage import zoom\n",
    "\n",
    "splinesky_params = bg_r[0]\n",
    "gridw = splinesky_params[\"gridw\"]\n",
    "gridh = splinesky_params[\"gridh\"]\n",
    "gridvals = splinesky_params[\"gridvals\"]\n",
    "xgrid = splinesky_params[\"xgrid\"]\n",
    "ygrid = splinesky_params[\"ygrid\"]\n",
    "order = splinesky_params[\"order\"]\n",
    "\n",
    "print(\"Spline grid shape:\", (gridw, gridh))\n",
    "print(\"Spline interpolation order:\", order)\n",
    "\n",
    "# Example image data\n",
    "image_w, image_h = 3600, 3600\n",
    "image = np.random.rand(image_w, image_h)\n",
    "\n",
    "# Meshgrid for pixel coordinates on smaller grid\n",
    "x, y = np.meshgrid(np.arange(gridw), np.arange(gridh))\n",
    "# Initialize the B-spline sky model with the extracted parameters\n",
    "splinesky_x = RectBivariateSpline(ygrid, xgrid, gridvals, kx=order, ky=order)\n",
    "splinesky_y = RectBivariateSpline(ygrid, xgrid, gridvals, kx=order, ky=order)\n",
    "\n",
    "# Evaluate the sky model at the given pixel coordinates\n",
    "background_values_grid = splinesky_x(y.flatten(), x.flatten(), grid=False).reshape(gridh, gridw)\n",
    "\n",
    "# Upscale the background values from the smaller grid to the original image size using bilinear interpolation\n",
    "background_values = zoom(background_values_grid, zoom=(image_h / gridh, image_w / gridw), order=order, mode='nearest')\n",
    "\n",
    "print(\"===\")\n",
    "print(\"B-spline interpolated background shape:\", background_values.shape)\n",
    "background_values"
   ]
  }
 ],
 "metadata": {
  "kernelspec": {
   "display_name": "bliss-deblender-MD82Mbmq-py3.10",
   "language": "python",
   "name": "python3"
  },
  "language_info": {
   "codemirror_mode": {
    "name": "ipython",
    "version": 3
   },
   "file_extension": ".py",
   "mimetype": "text/x-python",
   "name": "python",
   "nbconvert_exporter": "python",
   "pygments_lexer": "ipython3",
   "version": "3.10.6"
  },
  "orig_nbformat": 4
 },
 "nbformat": 4,
 "nbformat_minor": 2
}

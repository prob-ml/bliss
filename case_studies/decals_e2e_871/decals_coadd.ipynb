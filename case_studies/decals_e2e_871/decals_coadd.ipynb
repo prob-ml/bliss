{
 "cells": [
  {
   "cell_type": "markdown",
   "metadata": {},
   "source": [
    "# Setup"
   ]
  },
  {
   "cell_type": "code",
   "execution_count": null,
   "metadata": {},
   "outputs": [],
   "source": [
    "import numpy as np\n",
    "import gzip\n",
    "\n",
    "from astropy.utils.data import download_file\n",
    "from astropy.io import fits\n",
    "from astropy.table import Table\n",
    "from astropy.wcs import WCS\n",
    "\n",
    "import matplotlib.pyplot as plt\n",
    "\n",
    "from bliss.utils.download_utils import download_file_to_dst\n",
    "\n",
    "def plot_image(hdu):\n",
    "    ax = plt.subplot(projection=WCS(hdu.header))\n",
    "    ax.imshow(hdu.data,cmap='gray',vmin=hdu.data.min(),vmax=hdu.data.min()+(hdu.data.max()-hdu.data.min())/100.)\n",
    "\n",
    "URLBASE = \"https://portal.nersc.gov/cfs/cosmo/data/legacysurvey/dr9\"\n",
    "\n",
    "ra, dec = 336.635, -0.96\n",
    "\n",
    "# Basic (RA, Dec) <--> Brick conversion\n",
    "survey_bricks_filename = download_file(f\"{URLBASE}/south/survey-bricks-dr9-south.fits.gz\", cache=True, show_progress=True, timeout=120)\n",
    "\n",
    "# ra1 - lower RA boundary\n",
    "# ra2 - upper RA boundary\n",
    "# dec1 - lower Dec boundary\n",
    "# dec2 - upper Dec boundary\n",
    "survey_bricks = Table.read(survey_bricks_filename)\n",
    "brickname = survey_bricks[\n",
    "            (survey_bricks[\"ra1\"] <= ra)\n",
    "            & (survey_bricks[\"ra2\"] >= ra)\n",
    "            & (survey_bricks[\"dec1\"] <= dec)\n",
    "            & (survey_bricks[\"dec2\"] >= dec)\n",
    "        ][\"brickname\"][0]\n",
    "print(f\"Brick for RA, Dec ({ra}, {dec}):\", brickname)"
   ]
  },
  {
   "cell_type": "markdown",
   "metadata": {},
   "source": [
    "# DECaLS Original Co-added Images"
   ]
  },
  {
   "cell_type": "markdown",
   "metadata": {},
   "source": [
    "Get images"
   ]
  },
  {
   "cell_type": "code",
   "execution_count": null,
   "metadata": {},
   "outputs": [],
   "source": [
    "image_g_filename = download_file(\"{}/south/coadd/{}/{}/legacysurvey-{}-image-g.fits.fz\".format(URLBASE, brickname[:3], brickname, brickname), cache=False)\n",
    "image_r_filename = download_file(\"{}/south/coadd/{}/{}/legacysurvey-{}-image-r.fits.fz\".format(URLBASE, brickname[:3], brickname, brickname), cache=False)\n",
    "image_z_filename = download_file(\"{}/south/coadd/{}/{}/legacysurvey-{}-image-z.fits.fz\".format(URLBASE, brickname[:3], brickname, brickname), cache=False)"
   ]
  },
  {
   "cell_type": "code",
   "execution_count": null,
   "metadata": {},
   "outputs": [],
   "source": [
    "image_g = fits.open(image_g_filename)\n",
    "image_r = fits.open(image_r_filename)\n",
    "image_z = fits.open(image_z_filename)"
   ]
  },
  {
   "cell_type": "markdown",
   "metadata": {},
   "source": [
    "# DECaLS Tractor Catalogs"
   ]
  },
  {
   "cell_type": "code",
   "execution_count": null,
   "metadata": {},
   "outputs": [],
   "source": [
    "tractor_filename = \"/home/zhteoh/871-decals-e2e/data/decals/tractor-3366m010.fits\"\n",
    "tractor = Table.read(tractor_filename)\n",
    "\n",
    "tractor[:5].show_in_notebook()"
   ]
  },
  {
   "cell_type": "markdown",
   "metadata": {},
   "source": [
    "# Simulate DECaLS Co-Added Images"
   ]
  },
  {
   "cell_type": "markdown",
   "metadata": {},
   "source": [
    "inverse-variance weighted coadd, units of nanomaggies/pixel"
   ]
  },
  {
   "cell_type": "code",
   "execution_count": null,
   "metadata": {},
   "outputs": [],
   "source": [
    "# Get (some) CCDs for this brick\n",
    "\n",
    "# b_ccds for b in bands (all unique filters for this brick)\n",
    "\n",
    "# coadded weight map\n",
    "# cow    = np.zeros((H,W), np.float32)\n",
    "# coadded weighted image map\n",
    "# cowimg = np.zeros((H,W), np.float32)\n",
    "\n",
    "# for b in bands:\n",
    "#    for ccd in b_ccds:\n",
    "#        cowimg\n",
    "#        # surface-brightness correction\n",
    "#        cowimg.sbscale = (targetwcs.pixel_scale() / ccd image wcs.pixel_scale()) ** 2\n",
    "#        # align CCD to target wcs => get output Y, X coords; and corresponding input Y, X coords\n",
    "#        Yo, Xo, Yi, Xi = align_wcs(ccd.wcs, targetwcs, co_img)\n",
    "#        \n",
    "#        im = ccd[Yi, Xi]\n",
    "#        iv = ccd.invvar[Yi, Xi]\n",
    "#        # apply surface-brightness scaling (if present)\n",
    "#        if cowimg.sbscale:\n",
    "#           im *= cowimg.sbscale\n",
    "#           iv /= (cowimg.sbscale**2)\n",
    "#        cowimg[Yo, Xo] += im * iv\n",
    "#        cow   [Yo, Xo] += iv\n",
    "#        \n",
    "#    # per-band normalization\n",
    "#    tinyw = 1e-30\n",
    "#    cowimg /= np.maximum(cow, tinyw)"
   ]
  },
  {
   "cell_type": "markdown",
   "metadata": {},
   "source": [
    "Get CCDs used for this brick"
   ]
  },
  {
   "cell_type": "code",
   "execution_count": null,
   "metadata": {},
   "outputs": [],
   "source": [
    "brick_ccds_filename = download_file(f\"{URLBASE}/south/coadd/{brickname[:3]}/{brickname}/legacysurvey-{brickname}-ccds.fits\", cache=False, show_progress=True, timeout=120)\n",
    "brick_ccds = Table.read(brick_ccds_filename)\n",
    "print(\"legacysurvey-{brick}-ccds columns: \", brick_ccds.colnames)\n",
    "\n",
    "# Get unique expnums for each band\n",
    "# uniformly sample one exposure per band\n",
    "all_expnums = {}\n",
    "expnums = {}\n",
    "for b in [\"g\", \"r\", \"z\"]:\n",
    "    all_expnums[b] = np.unique(brick_ccds[\"expnum\"][brick_ccds[\"filter\"] == b])\n",
    "    expnums[b] = np.random.choice(all_expnums[b])\n",
    "\n",
    "print(\"uniformly sampled expnums:\", expnums)\n",
    "\n",
    "# filter ccds to only include the selected exposures\n",
    "brick_ccds_filtered = brick_ccds[np.isin(brick_ccds[\"expnum\"], list(expnums.values()))]"
   ]
  },
  {
   "cell_type": "code",
   "execution_count": null,
   "metadata": {},
   "outputs": [],
   "source": [
    "from bliss.surveys.decals import DECaLS\n",
    "from bliss.surveys.des import DES\n",
    "\n",
    "DECaLS.create_des_objs(\"/data/scratch/zhteoh/871-decals-e2e/data/decals\", {brickname: row0})\n",
    "des_obj, idx = DECaLS.des_obj(\n",
    "    brickname,\n",
    "    {\"ra\": row0[\"ra\"], \"dec\": row0[\"dec\"]},\n",
    "    row0[\"ccdname\"],\n",
    "    row0[\"filter\"],\n",
    "    row0[\"image_filename\"].split(\".fits.fz\")[0],\n",
    ")\n",
    "des_img = des_obj[\"image\"]\n",
    "image_h, image_w = des_img.shape\n",
    "px, py = image_w // 2, image_h // 2\n",
    "psf_img = DECaLS.des_objs.psf.get_psf_via_despsfex(\n",
    "    des_image_id=DECaLS.des_objs[idx], px=px, py=py\n",
    ")[DES.BANDS.index(brick_ccds[\"filter\"])]"
   ]
  },
  {
   "cell_type": "markdown",
   "metadata": {},
   "source": [
    "Inspect depth of brick band images"
   ]
  },
  {
   "cell_type": "code",
   "execution_count": null,
   "metadata": {},
   "outputs": [],
   "source": [
    "image_g[1].header"
   ]
  },
  {
   "cell_type": "markdown",
   "metadata": {},
   "source": [
    "Constant sky level (subtracted from co-added image)"
   ]
  },
  {
   "cell_type": "code",
   "execution_count": null,
   "metadata": {},
   "outputs": [],
   "source": [
    "sky_g = image_g[1].header[\"COSKY_G\"]\n",
    "sky_r = image_r[1].header[\"COSKY_R\"]\n",
    "sky_z = image_z[1].header[\"COSKY_Z\"]\n",
    "\n",
    "print(\"(Constant) Sky Levels: \")\n",
    "print(\" g: \", sky_g)\n",
    "print(\" r: \", sky_r)\n",
    "print(\" z: \", sky_z)"
   ]
  },
  {
   "cell_type": "markdown",
   "metadata": {},
   "source": [
    "Co-add PSF"
   ]
  },
  {
   "cell_type": "code",
   "execution_count": null,
   "metadata": {},
   "outputs": [],
   "source": [
    "# See https://github.com/legacysurvey/legacypipe/blob/ba1ffd4969c1f920566e780118c542d103cbd9a5/py/legacypipe/coadds.py#L486-L519\n",
    "# See tractor/psf.py `getPointSourcePatch` (https://github.com/dstndstn/tractor/blob/cdb82000422e85c9c97b134edadff31d68bced0c/tractor/psf.py#L446-L516)\n",
    "\n",
    "# `tractor/psf.py PixelizedPSF::getPointSourcePatch`:\n",
    "# let center of psf patch be: px = w//2, py = h//2\n",
    "# get PSF image at desired pixel location\n",
    "# psf_img = psf.getImage(px, py)\n",
    "# H, W = psf_img.shape\n",
    "# ix = round(float(px))\n",
    "# iy = round(float(py))\n",
    "# dx = px - ix\n",
    "# dy = py - iy\n",
    "# x0 = ix - W//2\n",
    "# y0 = iy - H//2\n",
    "\n",
    "# align psf_img "
   ]
  }
 ],
 "metadata": {
  "kernelspec": {
   "display_name": "bliss-deblender-MD82Mbmq-py3.10",
   "language": "python",
   "name": "python3"
  },
  "language_info": {
   "codemirror_mode": {
    "name": "ipython",
    "version": 3
   },
   "file_extension": ".py",
   "mimetype": "text/x-python",
   "name": "python",
   "nbconvert_exporter": "python",
   "pygments_lexer": "ipython3",
   "version": "3.10.6"
  },
  "orig_nbformat": 4
 },
 "nbformat": 4,
 "nbformat_minor": 2
}

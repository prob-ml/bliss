{
 "cells": [
  {
   "cell_type": "markdown",
   "metadata": {},
   "source": [
    "# Setup"
   ]
  },
  {
   "cell_type": "code",
   "execution_count": 1,
   "metadata": {},
   "outputs": [
    {
     "name": "stdout",
     "output_type": "stream",
     "text": [
      "Brick for RA, Dec (336.635, -0.96): 3366m010\n"
     ]
    }
   ],
   "source": [
    "import numpy as np\n",
    "import gzip\n",
    "\n",
    "from astropy.utils.data import download_file\n",
    "from astropy.io import fits\n",
    "from astropy.table import Table\n",
    "from astropy.wcs import WCS\n",
    "\n",
    "import matplotlib.pyplot as plt\n",
    "\n",
    "from bliss.utils.download_utils import download_file_to_dst\n",
    "\n",
    "def plot_image(hdu):\n",
    "    ax = plt.subplot(projection=WCS(hdu.header))\n",
    "    ax.imshow(hdu.data,cmap='gray',vmin=hdu.data.min(),vmax=hdu.data.min()+(hdu.data.max()-hdu.data.min())/100.)\n",
    "\n",
    "URLBASE = \"https://portal.nersc.gov/cfs/cosmo/data/legacysurvey/dr9\"\n",
    "\n",
    "ra, dec = 336.635, -0.96\n",
    "\n",
    "# Basic (RA, Dec) <--> Brick conversion\n",
    "survey_bricks_filename = download_file(f\"{URLBASE}/south/survey-bricks-dr9-south.fits.gz\", cache=True, show_progress=True, timeout=120)\n",
    "\n",
    "# ra1 - lower RA boundary\n",
    "# ra2 - upper RA boundary\n",
    "# dec1 - lower Dec boundary\n",
    "# dec2 - upper Dec boundary\n",
    "survey_bricks = Table.read(survey_bricks_filename)\n",
    "brickname = survey_bricks[\n",
    "            (survey_bricks[\"ra1\"] <= ra)\n",
    "            & (survey_bricks[\"ra2\"] >= ra)\n",
    "            & (survey_bricks[\"dec1\"] <= dec)\n",
    "            & (survey_bricks[\"dec2\"] >= dec)\n",
    "        ][\"brickname\"][0]\n",
    "print(f\"Brick for RA, Dec ({ra}, {dec}):\", brickname)"
   ]
  },
  {
   "cell_type": "markdown",
   "metadata": {},
   "source": [
    "# DECaLS Original Co-added Images"
   ]
  },
  {
   "cell_type": "markdown",
   "metadata": {},
   "source": [
    "Get images"
   ]
  },
  {
   "cell_type": "code",
   "execution_count": 3,
   "metadata": {},
   "outputs": [],
   "source": [
    "image_g_filename = download_file(\"{}/south/coadd/{}/{}/legacysurvey-{}-image-g.fits.fz\".format(URLBASE, brickname[:3], brickname, brickname), cache=False)\n",
    "image_r_filename = download_file(\"{}/south/coadd/{}/{}/legacysurvey-{}-image-r.fits.fz\".format(URLBASE, brickname[:3], brickname, brickname), cache=False)\n",
    "image_z_filename = download_file(\"{}/south/coadd/{}/{}/legacysurvey-{}-image-z.fits.fz\".format(URLBASE, brickname[:3], brickname, brickname), cache=False)"
   ]
  },
  {
   "cell_type": "code",
   "execution_count": 4,
   "metadata": {},
   "outputs": [],
   "source": [
    "image_g = fits.open(image_g_filename)\n",
    "image_r = fits.open(image_r_filename)\n",
    "image_z = fits.open(image_z_filename)"
   ]
  },
  {
   "cell_type": "markdown",
   "metadata": {},
   "source": [
    "# DECaLS Tractor Catalogs"
   ]
  },
  {
   "cell_type": "code",
   "execution_count": null,
   "metadata": {},
   "outputs": [],
   "source": [
    "tractor_filename = \"/home/zhteoh/871-decals-e2e/data/decals/tractor-3366m010.fits\"\n",
    "tractor = Table.read(tractor_filename)\n",
    "\n",
    "tractor[:5].show_in_notebook()"
   ]
  },
  {
   "cell_type": "markdown",
   "metadata": {},
   "source": [
    "# Simulate DECaLS Co-Added Images"
   ]
  },
  {
   "cell_type": "markdown",
   "metadata": {},
   "source": [
    "inverse-variance weighted coadd, units of nanomaggies/pixel"
   ]
  },
  {
   "cell_type": "code",
   "execution_count": null,
   "metadata": {},
   "outputs": [],
   "source": [
    "# Get (some) CCDs for this brick\n",
    "\n",
    "# b_ccds for b in bands (all unique filters for this brick)\n",
    "\n",
    "# coadded weight map\n",
    "# cow    = np.zeros((H,W), np.float32)\n",
    "# coadded weighted image map\n",
    "# cowimg = np.zeros((H,W), np.float32)\n",
    "\n",
    "# for b in bands:\n",
    "#    for ccd in b_ccds:\n",
    "#        cowimg\n",
    "#        # surface-brightness correction\n",
    "#        cowimg.sbscale = (targetwcs.pixel_scale() / ccd image wcs.pixel_scale()) ** 2\n",
    "#        # align CCD to target wcs => get output Y, X coords; and corresponding input Y, X coords\n",
    "#        Yo, Xo, Yi, Xi = align_wcs(ccd.wcs, targetwcs, co_img)\n",
    "#        \n",
    "#        im = ccd[Yi, Xi]\n",
    "#        iv = ccd.invvar[Yi, Xi]\n",
    "#        # apply surface-brightness scaling (if present)\n",
    "#        if cowimg.sbscale:\n",
    "#           im *= cowimg.sbscale\n",
    "#           iv /= (cowimg.sbscale**2)\n",
    "#        cowimg[Yo, Xo] += im * iv\n",
    "#        cow   [Yo, Xo] += iv\n",
    "#        \n",
    "#        # per-band normalization\n",
    "#        tinyw = 1e-30\n",
    "#        cowimg /= np.maximum(cow, 1e-30)"
   ]
  },
  {
   "cell_type": "markdown",
   "metadata": {},
   "source": [
    "Get CCDs used for this brick"
   ]
  },
  {
   "cell_type": "code",
   "execution_count": 2,
   "metadata": {},
   "outputs": [
    {
     "ename": "NameError",
     "evalue": "name 'download_file' is not defined",
     "output_type": "error",
     "traceback": [
      "\u001b[0;31m---------------------------------------------------------------------------\u001b[0m",
      "\u001b[0;31mNameError\u001b[0m                                 Traceback (most recent call last)",
      "Cell \u001b[0;32mIn[2], line 1\u001b[0m\n\u001b[0;32m----> 1\u001b[0m brick_ccds_filename \u001b[39m=\u001b[39m download_file(\u001b[39mf\u001b[39m\u001b[39m\"\u001b[39m\u001b[39m{\u001b[39;00mURLBASE\u001b[39m}\u001b[39;00m\u001b[39m/south/coadd/\u001b[39m\u001b[39m{\u001b[39;00mbrickname[:\u001b[39m3\u001b[39m]\u001b[39m}\u001b[39;00m\u001b[39m/\u001b[39m\u001b[39m{\u001b[39;00mbrickname\u001b[39m}\u001b[39;00m\u001b[39m/legacysurvey-\u001b[39m\u001b[39m{\u001b[39;00mbrickname\u001b[39m}\u001b[39;00m\u001b[39m-ccds.fits\u001b[39m\u001b[39m\"\u001b[39m, cache\u001b[39m=\u001b[39m\u001b[39mFalse\u001b[39;00m, show_progress\u001b[39m=\u001b[39m\u001b[39mTrue\u001b[39;00m, timeout\u001b[39m=\u001b[39m\u001b[39m120\u001b[39m)\n\u001b[1;32m      2\u001b[0m brick_ccds \u001b[39m=\u001b[39m Table\u001b[39m.\u001b[39mread(brick_ccds_filename)\n\u001b[1;32m      3\u001b[0m \u001b[39mprint\u001b[39m(\u001b[39m\"\u001b[39m\u001b[39mlegacysurvey-\u001b[39m\u001b[39m{brick}\u001b[39;00m\u001b[39m-ccds columns: \u001b[39m\u001b[39m\"\u001b[39m, brick_ccds\u001b[39m.\u001b[39mcolnames)\n",
      "\u001b[0;31mNameError\u001b[0m: name 'download_file' is not defined"
     ]
    }
   ],
   "source": [
    "brick_ccds_filename = download_file(f\"{URLBASE}/south/coadd/{brickname[:3]}/{brickname}/legacysurvey-{brickname}-ccds.fits\", cache=False, show_progress=True, timeout=120)\n",
    "brick_ccds = Table.read(brick_ccds_filename)\n",
    "print(\"legacysurvey-{brick}-ccds columns: \", brick_ccds.colnames)\n",
    "\n",
    "# Get unique expnums for each band\n",
    "# uniformly sample one exposure per band\n",
    "all_expnums = {}\n",
    "expnums = {}\n",
    "for b in [\"g\", \"r\", \"z\"]:\n",
    "    all_expnums[b] = np.unique(brick_ccds[\"expnum\"][brick_ccds[\"filter\"] == b])\n",
    "    expnums[b] = np.random.choice(all_expnums[b])\n",
    "\n",
    "print(\"uniformly sampled expnums:\", expnums)\n",
    "\n",
    "# filter ccds to only include the selected exposures\n",
    "brick_ccds_filtered = brick_ccds[np.isin(brick_ccds[\"expnum\"], list(expnums.values()))]"
   ]
  },
  {
   "cell_type": "code",
   "execution_count": 3,
   "metadata": {},
   "outputs": [
    {
     "ename": "ValueError",
     "evalue": "need at least one array to stack",
     "output_type": "error",
     "traceback": [
      "\u001b[0;31m---------------------------------------------------------------------------\u001b[0m",
      "\u001b[0;31mValueError\u001b[0m                                Traceback (most recent call last)",
      "Cell \u001b[0;32mIn[3], line 4\u001b[0m\n\u001b[1;32m      1\u001b[0m \u001b[39mfrom\u001b[39;00m \u001b[39mbliss\u001b[39;00m\u001b[39m.\u001b[39;00m\u001b[39msurveys\u001b[39;00m\u001b[39m.\u001b[39;00m\u001b[39mdecals\u001b[39;00m \u001b[39mimport\u001b[39;00m DECaLS\n\u001b[1;32m      2\u001b[0m \u001b[39mfrom\u001b[39;00m \u001b[39mbliss\u001b[39;00m\u001b[39m.\u001b[39;00m\u001b[39msurveys\u001b[39;00m\u001b[39m.\u001b[39;00m\u001b[39mdes\u001b[39;00m \u001b[39mimport\u001b[39;00m DES\n\u001b[0;32m----> 4\u001b[0m DECaLS\u001b[39m.\u001b[39;49mcreate_des_objs(\u001b[39m\"\u001b[39;49m\u001b[39m/data/scratch/zhteoh/871-decals-e2e/data/decals\u001b[39;49m\u001b[39m\"\u001b[39;49m, {brickname: row0})\n\u001b[1;32m      5\u001b[0m des_obj, idx \u001b[39m=\u001b[39m DECaLS\u001b[39m.\u001b[39mdes_obj(\n\u001b[1;32m      6\u001b[0m     brickname,\n\u001b[1;32m      7\u001b[0m     {\u001b[39m\"\u001b[39m\u001b[39mra\u001b[39m\u001b[39m\"\u001b[39m: row0[\u001b[39m\"\u001b[39m\u001b[39mra\u001b[39m\u001b[39m\"\u001b[39m], \u001b[39m\"\u001b[39m\u001b[39mdec\u001b[39m\u001b[39m\"\u001b[39m: row0[\u001b[39m\"\u001b[39m\u001b[39mdec\u001b[39m\u001b[39m\"\u001b[39m]},\n\u001b[0;32m   (...)\u001b[0m\n\u001b[1;32m     10\u001b[0m     row0[\u001b[39m\"\u001b[39m\u001b[39mimage_filename\u001b[39m\u001b[39m\"\u001b[39m]\u001b[39m.\u001b[39msplit(\u001b[39m\"\u001b[39m\u001b[39m.fits.fz\u001b[39m\u001b[39m\"\u001b[39m)[\u001b[39m0\u001b[39m],\n\u001b[1;32m     11\u001b[0m )\n\u001b[1;32m     12\u001b[0m des_img \u001b[39m=\u001b[39m des_obj[\u001b[39m\"\u001b[39m\u001b[39mimage\u001b[39m\u001b[39m\"\u001b[39m]\n",
      "File \u001b[0;32m~/871-decals-e2e/bliss/surveys/decals.py:59\u001b[0m, in \u001b[0;36mDarkEnergyCameraLegacySurvey.create_des_objs\u001b[0;34m(cls, dir_path, ccds_table_for_brick)\u001b[0m\n\u001b[1;32m     52\u001b[0m         des_image_id \u001b[39m=\u001b[39m {\n\u001b[1;32m     53\u001b[0m             \u001b[39m\"\u001b[39m\u001b[39msky_coord\u001b[39m\u001b[39m\"\u001b[39m: {\u001b[39m\"\u001b[39m\u001b[39mra\u001b[39m\u001b[39m\"\u001b[39m: ccd[\u001b[39m\"\u001b[39m\u001b[39mra\u001b[39m\u001b[39m\"\u001b[39m], \u001b[39m\"\u001b[39m\u001b[39mdec\u001b[39m\u001b[39m\"\u001b[39m: ccd[\u001b[39m\"\u001b[39m\u001b[39mdec\u001b[39m\u001b[39m\"\u001b[39m]},\n\u001b[1;32m     54\u001b[0m             \u001b[39m\"\u001b[39m\u001b[39mdecals_brickname\u001b[39m\u001b[39m\"\u001b[39m: brickname,\n\u001b[1;32m     55\u001b[0m             \u001b[39m\"\u001b[39m\u001b[39mccdname\u001b[39m\u001b[39m\"\u001b[39m: ccd[\u001b[39m\"\u001b[39m\u001b[39mccdname\u001b[39m\u001b[39m\"\u001b[39m],\n\u001b[1;32m     56\u001b[0m             \u001b[39m\"\u001b[39m\u001b[39mbl\u001b[39m\u001b[39m\"\u001b[39m: ccd[\u001b[39m\"\u001b[39m\u001b[39mimage_filename\u001b[39m\u001b[39m\"\u001b[39m]\u001b[39m.\u001b[39msplit(\u001b[39m\"\u001b[39m\u001b[39m.fits.fz\u001b[39m\u001b[39m\"\u001b[39m)[\u001b[39m0\u001b[39m],\n\u001b[1;32m     57\u001b[0m         }\n\u001b[1;32m     58\u001b[0m         des_image_ids\u001b[39m.\u001b[39mappend(des_image_id)\n\u001b[0;32m---> 59\u001b[0m \u001b[39mcls\u001b[39m\u001b[39m.\u001b[39mdes_objs \u001b[39m=\u001b[39m DES(\n\u001b[1;32m     60\u001b[0m     dir_path\u001b[39m=\u001b[39;49mdir_path,\n\u001b[1;32m     61\u001b[0m     image_ids\u001b[39m=\u001b[39;49m\u001b[39mtuple\u001b[39;49m(des_image_ids),\n\u001b[1;32m     62\u001b[0m     psf_config\u001b[39m=\u001b[39;49m{\u001b[39m\"\u001b[39;49m\u001b[39mpixel_scale\u001b[39;49m\u001b[39m\"\u001b[39;49m: \u001b[39m0.262\u001b[39;49m, \u001b[39m\"\u001b[39;49m\u001b[39mpsf_slen\u001b[39;49m\u001b[39m\"\u001b[39;49m: \u001b[39m25\u001b[39;49m},\n\u001b[1;32m     63\u001b[0m )\n\u001b[1;32m     64\u001b[0m \u001b[39mreturn\u001b[39;00m \u001b[39mcls\u001b[39m\u001b[39m.\u001b[39mdes_objs\n",
      "File \u001b[0;32m~/871-decals-e2e/bliss/surveys/des.py:90\u001b[0m, in \u001b[0;36mDarkEnergySurvey.__init__\u001b[0;34m(self, psf_config, dir_path, image_ids)\u001b[0m\n\u001b[1;32m     87\u001b[0m \u001b[39mself\u001b[39m\u001b[39m.\u001b[39mdownloader \u001b[39m=\u001b[39m DESDownloader(\u001b[39mself\u001b[39m\u001b[39m.\u001b[39mimage_id_list, \u001b[39mself\u001b[39m\u001b[39m.\u001b[39mdes_path)\n\u001b[1;32m     88\u001b[0m \u001b[39mself\u001b[39m\u001b[39m.\u001b[39mprepare_data()\n\u001b[0;32m---> 90\u001b[0m \u001b[39mself\u001b[39m\u001b[39m.\u001b[39mbackground \u001b[39m=\u001b[39m ImageBackground(\u001b[39mself\u001b[39;49m, bands\u001b[39m=\u001b[39;49m\u001b[39mself\u001b[39;49m\u001b[39m.\u001b[39;49mbands)\n\u001b[1;32m     91\u001b[0m \u001b[39mself\u001b[39m\u001b[39m.\u001b[39mpsf \u001b[39m=\u001b[39m DES_PSF(dir_path, \u001b[39mself\u001b[39m\u001b[39m.\u001b[39mimage_ids(), \u001b[39mself\u001b[39m\u001b[39m.\u001b[39mbands, psf_config)\n\u001b[1;32m     92\u001b[0m \u001b[39mself\u001b[39m\u001b[39m.\u001b[39mnmgy_to_nelec_dict \u001b[39m=\u001b[39m \u001b[39mself\u001b[39m\u001b[39m.\u001b[39mnmgy_to_nelec()\n",
      "File \u001b[0;32m~/871-decals-e2e/bliss/simulator/background.py:26\u001b[0m, in \u001b[0;36mImageBackground.__init__\u001b[0;34m(self, image_items, bands)\u001b[0m\n\u001b[1;32m     24\u001b[0m backgrounds \u001b[39m=\u001b[39m []\n\u001b[1;32m     25\u001b[0m backgrounds\u001b[39m.\u001b[39mextend(item[\u001b[39m\"\u001b[39m\u001b[39mbackground\u001b[39m\u001b[39m\"\u001b[39m][\u001b[39mlist\u001b[39m(bands)] \u001b[39mfor\u001b[39;00m item \u001b[39min\u001b[39;00m image_items)\n\u001b[0;32m---> 26\u001b[0m background \u001b[39m=\u001b[39m torch\u001b[39m.\u001b[39mfrom_numpy(np\u001b[39m.\u001b[39;49mstack(backgrounds, axis\u001b[39m=\u001b[39;49m\u001b[39m0\u001b[39;49m))\n\u001b[1;32m     28\u001b[0m \u001b[39mself\u001b[39m\u001b[39m.\u001b[39mregister_buffer(\u001b[39m\"\u001b[39m\u001b[39mbackground\u001b[39m\u001b[39m\"\u001b[39m, background, persistent\u001b[39m=\u001b[39m\u001b[39mFalse\u001b[39;00m)\n\u001b[1;32m     29\u001b[0m \u001b[39mself\u001b[39m\u001b[39m.\u001b[39mheight, \u001b[39mself\u001b[39m\u001b[39m.\u001b[39mwidth \u001b[39m=\u001b[39m \u001b[39mself\u001b[39m\u001b[39m.\u001b[39mbackground\u001b[39m.\u001b[39mshape[\u001b[39m-\u001b[39m\u001b[39m2\u001b[39m:]\n",
      "File \u001b[0;32m<__array_function__ internals>:200\u001b[0m, in \u001b[0;36mstack\u001b[0;34m(*args, **kwargs)\u001b[0m\n",
      "File \u001b[0;32m~/871-decals-e2e/.venv/lib/python3.10/site-packages/numpy/core/shape_base.py:460\u001b[0m, in \u001b[0;36mstack\u001b[0;34m(arrays, axis, out, dtype, casting)\u001b[0m\n\u001b[1;32m    458\u001b[0m arrays \u001b[39m=\u001b[39m [asanyarray(arr) \u001b[39mfor\u001b[39;00m arr \u001b[39min\u001b[39;00m arrays]\n\u001b[1;32m    459\u001b[0m \u001b[39mif\u001b[39;00m \u001b[39mnot\u001b[39;00m arrays:\n\u001b[0;32m--> 460\u001b[0m     \u001b[39mraise\u001b[39;00m \u001b[39mValueError\u001b[39;00m(\u001b[39m'\u001b[39m\u001b[39mneed at least one array to stack\u001b[39m\u001b[39m'\u001b[39m)\n\u001b[1;32m    462\u001b[0m shapes \u001b[39m=\u001b[39m {arr\u001b[39m.\u001b[39mshape \u001b[39mfor\u001b[39;00m arr \u001b[39min\u001b[39;00m arrays}\n\u001b[1;32m    463\u001b[0m \u001b[39mif\u001b[39;00m \u001b[39mlen\u001b[39m(shapes) \u001b[39m!=\u001b[39m \u001b[39m1\u001b[39m:\n",
      "\u001b[0;31mValueError\u001b[0m: need at least one array to stack"
     ]
    }
   ],
   "source": [
    "from bliss.surveys.decals import DECaLS\n",
    "from bliss.surveys.des import DES\n",
    "\n",
    "DECaLS.create_des_objs(\"/data/scratch/zhteoh/871-decals-e2e/data/decals\", {brickname: row0})\n",
    "des_obj, idx = DECaLS.des_obj(\n",
    "    brickname,\n",
    "    {\"ra\": row0[\"ra\"], \"dec\": row0[\"dec\"]},\n",
    "    row0[\"ccdname\"],\n",
    "    row0[\"filter\"],\n",
    "    row0[\"image_filename\"].split(\".fits.fz\")[0],\n",
    ")\n",
    "des_img = des_obj[\"image\"]\n",
    "image_h, image_w = des_img.shape\n",
    "px, py = image_w // 2, image_h // 2\n",
    "psf_img = DECaLS.des_objs.psf.get_psf_via_despsfex(\n",
    "    des_image_id=DECaLS.des_objs[idx], px=px, py=py\n",
    ")[DES.BANDS.index(brick_ccds[\"filter\"])]"
   ]
  },
  {
   "cell_type": "markdown",
   "metadata": {},
   "source": [
    "Inspect depth of brick band images"
   ]
  },
  {
   "cell_type": "code",
   "execution_count": 18,
   "metadata": {},
   "outputs": [
    {
     "data": {
      "text/plain": [
       "SIMPLE  =                    T / file does conform to FITS standard             \n",
       "BITPIX  =                  -32 / data type of original image                    \n",
       "NAXIS   =                    2 / dimension of original image                    \n",
       "NAXIS1  =                 3600 / length of original image axis                  \n",
       "NAXIS2  =                 3600 / length of original image axis                  \n",
       "ZDITHER0=                 6159 / dithering offset when quantizing floats        \n",
       "COMMENT Data product of the DESI Imaging Legacy Surveys                         \n",
       "COMMENT Full documentation at http://legacysurvey.org                           \n",
       "LEGPIPEV= 'DR9.6.5 '           / legacypipe git version                         \n",
       "LSDIR   = '/global/cscratch1/sd/ziyaoz/dr9m/south' / $LEGACY_SURVEY_DIR director\n",
       "LSDR    = 'DR9     '           / Data release number                            \n",
       "RUNDATE = '2020-09-13T23:25:01.279042' / runbrick.py run time                   \n",
       "SURVEY  = 'DECaLS+BASS+MzLS'   / The LegacySurveys                              \n",
       "SURVEYID= 'DECaLS BASS MzLS'   / Survey names                                   \n",
       "DRVERSIO=                 9010 / LegacySurveys Data Release number              \n",
       "OBSTYPE = 'object  '           / Observation type                               \n",
       "PROCTYPE= 'tile    '           / Processing type                                \n",
       "NODENAME= 'nid09629'           / Machine where script was run                   \n",
       "HOSTNAME= 'cori    '           / NERSC machine where script was run             \n",
       "JOB_ID  = '34345283'           / SLURM job id                                   \n",
       "ARRAY_ID= 'none    '           / SLURM job array id                             \n",
       "UNWISD1 = '/global/cfs/cdirs/cosmo/data/unwise/neo6/unwise-coadds/fulldepth'    \n",
       "UNWISD2 = '/global/cfs/cdirs/cosmo/data/unwise/allwise/unwise-coadds/fulldepth' \n",
       "UNWISTD = '/global/cfs/cdirs/cosmo/work/wise/outputs/merge/neo6'                \n",
       "UNWISSKY= '/global/cfs/cdirs/cosmo/data/unwise/neo6/unwise-catalog/mod'         \n",
       "DEPNAM00= 'astrometry'                                                          \n",
       "DEPVER00= '0.80-14-gf7363e4c'                                                   \n",
       "DEPNAM01= 'astropy '                                                            \n",
       "DEPVER01= '4.0.1.post1'                                                         \n",
       "DEPNAM02= 'fitsio  '                                                            \n",
       "DEPVER02= '1.1.2   '                                                            \n",
       "DEPNAM03= 'matplotlib'                                                          \n",
       "DEPVER03= '3.2.2   '                                                            \n",
       "DEPNAM04= 'mkl_fft '                                                            \n",
       "DEPVER04= '1.0.15  '                                                            \n",
       "DEPNAM05= 'numpy   '                                                            \n",
       "DEPVER05= '1.17.5  '                                                            \n",
       "DEPNAM06= 'photutils'                                                           \n",
       "DEPVER06= '0.7.2   '                                                            \n",
       "DEPNAM07= 'scipy   '                                                            \n",
       "DEPVER07= '1.3.3   '                                                            \n",
       "DEPNAM08= 'tractor '                                                            \n",
       "DEPVER08= 'dr9.3   '                                                            \n",
       "DEPNAM09= 'unwise_psf'                                                          \n",
       "DEPVER09= 'dr9.3   '                                                            \n",
       "DEPNAM10= 'LARGEGALAXIES_CAT'                                                   \n",
       "DEPVER10= '/global/cfs/cdirs/cosmo/staging/largegalaxies/v3.0/SGA-ellipse-v3.0&'\n",
       "CONTINUE  '.kd.fits'                                                            \n",
       "DEPNAM11= 'LARGEGALAXIES_VER'                                                   \n",
       "DEPVER11= 'L3      '                                                            \n",
       "DEPNAM12= 'LARGEGALAXIES_PREBURN'                                               \n",
       "DEPVER12=                    T                                                  \n",
       "DEPNAM13= 'TYCHO2_KD'                                                           \n",
       "DEPVER13= '/global/cfs/cdirs/cosmo/staging/tycho2'                              \n",
       "DEPNAM14= 'GAIA_CAT'                                                            \n",
       "DEPVER14= '/global/cfs/cdirs/cosmo/work/gaia/chunks-gaia-dr2-astrom-2'          \n",
       "DEPNAM15= 'SKY_TEMPLATE'                                                        \n",
       "DEPVER15= '/global/cfs/cdirs/cosmo/work/legacysurvey/dr9m/calib/sky_pattern'    \n",
       "DEPNAM16= 'unwise  '                                                            \n",
       "DEPVER16= '/global/cfs/cdirs/cosmo/data/unwise/neo6/unwise-coadds/fulldepth:/g&'\n",
       "CONTINUE  'lobal/cfs/cdirs/cosmo/data/unwise/allwise/unwise-coadds/fulldepth'   \n",
       "DEPNAM17= 'unwise_tr'                                                           \n",
       "DEPVER17= '/global/cfs/cdirs/cosmo/work/wise/outputs/merge/neo6'                \n",
       "DEPNAM18= 'unwise_modelsky'                                                     \n",
       "DEPVER18= '/global/cfs/cdirs/cosmo/data/unwise/neo6/unwise-catalog/mod'         \n",
       "CMDLINE = 'legacypipe/runbrick.py --brick 3366m010 --skip --skip-calibs --thre&'\n",
       "CONTINUE  'ads 17 --write-stage srcs --checkpoint /global/cscratch1/sd/ziyaoz/&'\n",
       "CONTINUE  'dr9m/south//checkpoints/336/checkpoint-3366m010.pickle --pickle /gl&'\n",
       "CONTINUE  'obal/cscratch1/sd/ziyaoz/dr9m/south//pickles/336/runbrick-%(brick)s&'\n",
       "CONTINUE  '-%%(stage)s.pickle --outdir /global/cscratch1/sd/ziyaoz/dr9m/south/&'\n",
       "CONTINUE  ' --run south --release 9010' / runbrick command-line                 \n",
       "BRICK   = '3366m010'           / LegacySurveys brick RRRr[pm]DDd                \n",
       "BRICKID =               325954 / LegacySurveys brick id                         \n",
       "RAMIN   =                336.5 / Brick RA min (deg)                             \n",
       "RAMAX   =               336.75 / Brick RA max (deg)                             \n",
       "DECMIN  =               -1.125 / Brick Dec min (deg)                            \n",
       "DECMAX  =               -0.875 / Brick Dec max (deg)                            \n",
       "RA      = '22:26:30.000'       / Brick center RA (hms)                          \n",
       "DEC     = '-01:00:00.000'      / Brick center DEC (dms)                         \n",
       "CENTRA  =              336.625 / Brick center RA (deg)                          \n",
       "CENTDEC =                  -1. / Brick center Dec (deg)                         \n",
       "CORN1RA =     336.755988558503 / Brick corner RA (deg)                          \n",
       "CORN1DEC=    -1.13096042824015 / Brick corner Dec (deg)                         \n",
       "CORN2RA =     336.494011441497 / Brick corner RA (deg)                          \n",
       "CORN2DEC=    -1.13096042824015 / Brick corner Dec (deg)                         \n",
       "CORN3RA =     336.494021893367 / Brick corner RA (deg)                          \n",
       "CORN3DEC=   -0.869034346613991 / Brick corner Dec (deg)                         \n",
       "CORN4RA =     336.755978106633 / Brick corner RA (deg)                          \n",
       "CORN4DEC=   -0.869034346613991 / Brick corner Dec (deg)                         \n",
       "BRICK_G =                    T / Does band g touch this brick?                  \n",
       "CAMS_G  = 'decam   '           / Cameras contributing band g                    \n",
       "BRICK_R =                    T / Does band r touch this brick?                  \n",
       "CAMS_R  = 'decam   '           / Cameras contributing band r                    \n",
       "BRICK_Z =                    T / Does band z touch this brick?                  \n",
       "CAMS_Z  = 'decam   '           / Cameras contributing band z                    \n",
       "BANDS   = 'grz     '           / Bands touching this brick                      \n",
       "NBANDS  =                    3 / Number of bands in this catalog                \n",
       "BAND0   = 'g       '           / Band name in this catalog                      \n",
       "BAND1   = 'r       '           / Band name in this catalog                      \n",
       "BAND2   = 'z       '           / Band name in this catalog                      \n",
       "VER_REFS= 'DR9.6.5 '                                                            \n",
       "VER_OUTL= 'DR9.6.5 '                                                            \n",
       "OUTLIER =                    T                                                  \n",
       "VER_HALO= 'DR9.6.5 '                                                            \n",
       "VER_SRCS= 'DR9.6.5 '                                                            \n",
       "VER_FITB= 'DR9.6.7 '                                                            \n",
       "GALFRPSF=                    T                                                  \n",
       "LESSMASK=                    F                                                  \n",
       "COMMENT DCHISQ array model names                                                \n",
       "DCHISQ_0= 'PSF     '                                                            \n",
       "DCHISQ_1= 'REX     '                                                            \n",
       "DCHISQ_2= 'DEV     '                                                            \n",
       "DCHISQ_3= 'EXP     '                                                            \n",
       "DCHISQ_4= 'SER     '                                                            \n",
       "VER_COAD= 'DR9.6.7 '                                                            \n",
       "CTYPE1  = 'RA---TAN'           / TANgent plane                                  \n",
       "CTYPE2  = 'DEC--TAN'           / TANgent plane                                  \n",
       "CRVAL1  =              336.625 / Reference RA                                   \n",
       "CRVAL2  =                  -1. / Reference Dec                                  \n",
       "CRPIX1  =               1800.5 / Reference x                                    \n",
       "CRPIX2  =               1800.5 / Reference y                                    \n",
       "CD1_1   = -7.27777777777778E-05 / CD matrix                                     \n",
       "CD1_2   =                   0. / CD matrix                                      \n",
       "CD2_1   =                   0. / CD matrix                                      \n",
       "CD2_2   = 7.27777777777778E-05 / CD matrix                                      \n",
       "EQUINOX =                2000. / WCS epoch                                      \n",
       "OBSERVAT= 'CTIO    '           / Observatory name                               \n",
       "TELESCOP= 'CTIO 4.0-m telescope' / Telescope  name                              \n",
       "OBS-LAT =            -30.16606 / Latitude (deg)                                 \n",
       "OBS-LONG=             70.81489 / Longitude (deg)                                \n",
       "OBS-ELEV=                2215. / Elevation (m)                                  \n",
       "INSTRUME= 'DECam   '           / Instrument name                                \n",
       "FILTER  = 'g DECam SDSS c0001 4720.0 1520.0' / Filter name                      \n",
       "FILTERX = 'g       '           / Filter short name                              \n",
       "MJD_MIN =     56540.0794781426 / Earliest MJD in coadd (TAI)                    \n",
       "MJD_MAX =     58378.2258669007 / Latest MJD in coadd (TAI)                      \n",
       "MJD_MEAN=     57353.2107342395 / Mean MJD in coadd (TAI)                        \n",
       "DATEOBS1= '2013-09-05T01:53:51.912' / DATE-OBS for the first image in the stack \n",
       "DATEOBS2= '2018-09-17T05:24:37.900' / DATE-OBS for the last  image in the stack \n",
       "DATEOBS = '2015-11-27T05:02:51.438' / Mean DATE-OBS for the stack (UTC)         \n",
       "IMTYPE  = 'image   '           / LegacySurveys image type                       \n",
       "PRODTYPE= 'image   '           / NOAO image type                                \n",
       "MAGZERO =                 22.5 / Magnitude zeropoint                            \n",
       "BUNIT   = 'nanomaggy'          / AB mag = 22.5 - 2.5*log10(nanomaggy)           \n",
       "COSKY_G = -8.45102549646981E-05 / Sky level estimated (+subtracted) from coadd  "
      ]
     },
     "execution_count": 18,
     "metadata": {},
     "output_type": "execute_result"
    }
   ],
   "source": [
    "image_g[1].header"
   ]
  },
  {
   "cell_type": "markdown",
   "metadata": {},
   "source": [
    "Constant sky level (subtracted from co-added image)"
   ]
  },
  {
   "cell_type": "code",
   "execution_count": 1,
   "metadata": {},
   "outputs": [
    {
     "ename": "NameError",
     "evalue": "name 'image_g' is not defined",
     "output_type": "error",
     "traceback": [
      "\u001b[0;31m---------------------------------------------------------------------------\u001b[0m",
      "\u001b[0;31mNameError\u001b[0m                                 Traceback (most recent call last)",
      "Cell \u001b[0;32mIn[1], line 1\u001b[0m\n\u001b[0;32m----> 1\u001b[0m sky_g \u001b[39m=\u001b[39m image_g[\u001b[39m1\u001b[39m]\u001b[39m.\u001b[39mheader[\u001b[39m\"\u001b[39m\u001b[39mCOSKY_G\u001b[39m\u001b[39m\"\u001b[39m]\n\u001b[1;32m      2\u001b[0m sky_r \u001b[39m=\u001b[39m image_r[\u001b[39m1\u001b[39m]\u001b[39m.\u001b[39mheader[\u001b[39m\"\u001b[39m\u001b[39mCOSKY_R\u001b[39m\u001b[39m\"\u001b[39m]\n\u001b[1;32m      3\u001b[0m sky_z \u001b[39m=\u001b[39m image_z[\u001b[39m1\u001b[39m]\u001b[39m.\u001b[39mheader[\u001b[39m\"\u001b[39m\u001b[39mCOSKY_Z\u001b[39m\u001b[39m\"\u001b[39m]\n",
      "\u001b[0;31mNameError\u001b[0m: name 'image_g' is not defined"
     ]
    }
   ],
   "source": [
    "sky_g = image_g[1].header[\"COSKY_G\"]\n",
    "sky_r = image_r[1].header[\"COSKY_R\"]\n",
    "sky_z = image_z[1].header[\"COSKY_Z\"]\n",
    "\n",
    "print(\"(Constant) Sky Levels: \")\n",
    "print(\" g: \", sky_g)\n",
    "print(\" r: \", sky_r)\n",
    "print(\" z: \", sky_z)"
   ]
  },
  {
   "cell_type": "markdown",
   "metadata": {},
   "source": [
    "Co-add PSF"
   ]
  },
  {
   "cell_type": "code",
   "execution_count": null,
   "metadata": {},
   "outputs": [],
   "source": [
    "# See https://github.com/legacysurvey/legacypipe/blob/ba1ffd4969c1f920566e780118c542d103cbd9a5/py/legacypipe/coadds.py#L486-L519\n",
    "# See tractor/psf.py `getPointSourcePatch` (https://github.com/dstndstn/tractor/blob/cdb82000422e85c9c97b134edadff31d68bced0c/tractor/psf.py#L446-L516)\n",
    "\n",
    "# `tractor/psf.py PixelizedPSF::getPointSourcePatch`:\n",
    "# let center of psf patch be: px = w//2, py = h//2\n",
    "# get PSF image at desired pixel location\n",
    "# psf_img = psf.getImage(px, py)\n",
    "# H, W = psf_img.shape\n",
    "# ix = round(float(px))\n",
    "# iy = round(float(py))\n",
    "# dx = px - ix\n",
    "# dy = py - iy\n",
    "# x0 = ix - W//2\n",
    "# y0 = iy - H//2\n",
    "\n",
    "# align psf_img "
   ]
  }
 ],
 "metadata": {
  "kernelspec": {
   "display_name": "bliss-deblender-MD82Mbmq-py3.10",
   "language": "python",
   "name": "python3"
  },
  "language_info": {
   "codemirror_mode": {
    "name": "ipython",
    "version": 3
   },
   "file_extension": ".py",
   "mimetype": "text/x-python",
   "name": "python",
   "nbconvert_exporter": "python",
   "pygments_lexer": "ipython3",
   "version": "3.10.6"
  },
  "orig_nbformat": 4
 },
 "nbformat": 4,
 "nbformat_minor": 2
}

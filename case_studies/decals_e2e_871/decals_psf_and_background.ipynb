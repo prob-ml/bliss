{
 "cells": [
  {
   "cell_type": "markdown",
   "metadata": {},
   "source": [
    "## Setup"
   ]
  },
  {
   "cell_type": "code",
   "execution_count": 1,
   "metadata": {},
   "outputs": [
    {
     "name": "stdout",
     "output_type": "stream",
     "text": [
      "Brick for RA, Dec (336.635, -0.96): 3366m010\n"
     ]
    }
   ],
   "source": [
    "import numpy as np\n",
    "import gzip\n",
    "\n",
    "from astropy.utils.data import download_file\n",
    "from astropy.io import fits\n",
    "from astropy.table import Table\n",
    "from astropy.wcs import WCS\n",
    "\n",
    "import matplotlib.pyplot as plt\n",
    "\n",
    "from bliss.utils.download_utils import download_file_to_dst\n",
    "\n",
    "def plot_image(hdu):\n",
    "    ax = plt.subplot(projection=WCS(hdu.header))\n",
    "    ax.imshow(hdu.data,cmap='gray',vmin=hdu.data.min(),vmax=hdu.data.min()+(hdu.data.max()-hdu.data.min())/100.)\n",
    "\n",
    "URLBASE = \"https://portal.nersc.gov/cfs/cosmo/data/legacysurvey/dr9\"\n",
    "ra, dec = 336.635, -0.96\n",
    "\n",
    "survey_bricks_filename = download_file(f\"{URLBASE}/south/survey-bricks-dr9-south.fits.gz\", cache=True, show_progress=True, timeout=120)\n",
    "\n",
    "# ra1 - lower RA boundary\n",
    "# ra2 - upper RA boundary\n",
    "# dec1 - lower Dec boundary\n",
    "# dec2 - upper Dec boundary\n",
    "survey_bricks = Table.read(survey_bricks_filename)\n",
    "\n",
    "# Basic (RA, Dec) <--> Brick conversion\n",
    "brickname = survey_bricks[\n",
    "            (survey_bricks[\"ra1\"] <= ra)\n",
    "            & (survey_bricks[\"ra2\"] >= ra)\n",
    "            & (survey_bricks[\"dec1\"] <= dec)\n",
    "            & (survey_bricks[\"dec2\"] >= dec)\n",
    "        ][\"brickname\"][0]\n",
    "print(f\"Brick for RA, Dec ({ra}, {dec}):\", brickname)"
   ]
  },
  {
   "cell_type": "markdown",
   "metadata": {},
   "source": [
    "## DECaLS Co-added Images"
   ]
  },
  {
   "cell_type": "markdown",
   "metadata": {},
   "source": [
    "Get images"
   ]
  },
  {
   "cell_type": "code",
   "execution_count": 60,
   "metadata": {},
   "outputs": [],
   "source": [
    "image_g_filename = download_file(\"{}/south/coadd/{}/{}/legacysurvey-{}-image-g.fits.fz\".format(URLBASE, brickname[:3], brickname, brickname), cache=False)\n",
    "image_r_filename = download_file(\"{}/south/coadd/{}/{}/legacysurvey-{}-image-r.fits.fz\".format(URLBASE, brickname[:3], brickname, brickname), cache=False)\n",
    "image_z_filename = download_file(\"{}/south/coadd/{}/{}/legacysurvey-{}-image-z.fits.fz\".format(URLBASE, brickname[:3], brickname, brickname), cache=False)"
   ]
  },
  {
   "cell_type": "code",
   "execution_count": 61,
   "metadata": {},
   "outputs": [],
   "source": [
    "image_g = fits.open(image_g_filename)\n",
    "image_r = fits.open(image_r_filename)\n",
    "image_z = fits.open(image_z_filename)"
   ]
  },
  {
   "cell_type": "code",
   "execution_count": 65,
   "metadata": {},
   "outputs": [
    {
     "data": {
      "text/plain": [
       "SIMPLE  =                    T / file does conform to FITS standard             \n",
       "BITPIX  =                  -32 / data type of original image                    \n",
       "NAXIS   =                    2 / dimension of original image                    \n",
       "NAXIS1  =                 3600 / length of original image axis                  \n",
       "NAXIS2  =                 3600 / length of original image axis                  \n",
       "ZDITHER0=                 9646 / dithering offset when quantizing floats        \n",
       "COMMENT Data product of the DESI Imaging Legacy Surveys                         \n",
       "COMMENT Full documentation at http://legacysurvey.org                           \n",
       "LEGPIPEV= 'DR10.0.1'           / legacypipe git version                         \n",
       "LSDIR   = '/global/cfs/cdirs/cosmo/work/legacysurvey/dr10' / $LEGACY_SURVEY_DIR \n",
       "LSDR    = 'DR10    '           / Data release number                            \n",
       "RUNDATE = '2022-07-14T22:08:03.805910' / runbrick.py run time                   \n",
       "SURVEY  = 'DECaLS+BASS+MzLS'   / The LegacySurveys                              \n",
       "SURVEYID= 'DECaLS BASS MzLS'   / Survey names                                   \n",
       "DRVERSIO=                10000 / LegacySurveys Data Release number              \n",
       "OBSTYPE = 'object  '           / Observation type                               \n",
       "PROCTYPE= 'tile    '           / Processing type                                \n",
       "NODENAME= 'nid005194'          / Machine where script was run                   \n",
       "HOSTNAME= 'perlmutter'         / NERSC machine where script was run             \n",
       "JOB_ID  = '2695650 '           / SLURM job id                                   \n",
       "ARRAY_ID= 'none    '           / SLURM job array id                             \n",
       "UNWISD1 = '/global/cfs/cdirs/cosmo/data/unwise/neo7/unwise-coadds/fulldepth'    \n",
       "UNWISD2 = '/global/cfs/cdirs/cosmo/data/unwise/allwise/unwise-coadds/fulldepth' \n",
       "UNWISTD = '/global/cfs/cdirs/cosmo/work/wise/outputs/merge/neo7'                \n",
       "UNWISSKY= '/global/cfs/cdirs/cosmo/data/unwise/neo7/unwise-catalog/mod'         \n",
       "DEPNAM00= 'astrometry'                                                          \n",
       "DEPVER00= '0.90-8-g575ad17b'                                                    \n",
       "DEPNAM01= 'astropy '                                                            \n",
       "DEPVER01= '5.0.4   '                                                            \n",
       "DEPNAM02= 'fitsio  '                                                            \n",
       "DEPVER02= '1.1.6   '                                                            \n",
       "DEPNAM03= 'matplotlib'                                                          \n",
       "DEPVER03= '3.5.2   '                                                            \n",
       "DEPNAM04= 'mkl_fft '                                                            \n",
       "DEPVER04= '1.3.1   '                                                            \n",
       "DEPNAM05= 'numpy   '                                                            \n",
       "DEPVER05= '1.21.2  '                                                            \n",
       "DEPNAM06= 'photutils'                                                           \n",
       "DEPVER06= '1.4.0   '                                                            \n",
       "DEPNAM07= 'scipy   '                                                            \n",
       "DEPVER07= '1.6.3   '                                                            \n",
       "DEPNAM08= 'tractor '                                                            \n",
       "DEPVER08= 'dr10.1  '                                                            \n",
       "DEPNAM09= 'unwise_psf'                                                          \n",
       "DEPVER09= 'dr10.0  '                                                            \n",
       "DEPNAM10= 'LARGEGALAXIES_CAT'                                                   \n",
       "DEPVER10= '/global/cfs/cdirs/cosmo/staging/largegalaxies/v3.0/SGA-ellipse-v3.0&'\n",
       "CONTINUE  '.kd.fits'                                                            \n",
       "DEPNAM11= 'LARGEGALAXIES_VER'                                                   \n",
       "DEPVER11= 'L3      '                                                            \n",
       "DEPNAM12= 'LARGEGALAXIES_PREBURN'                                               \n",
       "DEPVER12=                    T                                                  \n",
       "DEPNAM13= 'TYCHO2_KD'                                                           \n",
       "DEPVER13= '/global/cfs/cdirs/cosmo/staging/tycho2'                              \n",
       "DEPNAM14= 'GAIA_CAT'                                                            \n",
       "DEPVER14= '/global/cfs/cdirs/cosmo/data/gaia/edr3/healpix'                      \n",
       "DEPNAM15= 'SKY_TEMPLATE'                                                        \n",
       "DEPVER15= '/global/cfs/cdirs/cosmo/work/legacysurvey/dr10/calib/sky_pattern'    \n",
       "DEPNAM16= 'unwise  '                                                            \n",
       "DEPVER16= '/global/cfs/cdirs/cosmo/data/unwise/neo7/unwise-coadds/fulldepth:/g&'\n",
       "CONTINUE  'lobal/cfs/cdirs/cosmo/data/unwise/allwise/unwise-coadds/fulldepth'   \n",
       "DEPNAM17= 'unwise_tr'                                                           \n",
       "DEPVER17= '/global/cfs/cdirs/cosmo/work/wise/outputs/merge/neo7'                \n",
       "DEPNAM18= 'unwise_modelsky'                                                     \n",
       "DEPVER18= '/global/cfs/cdirs/cosmo/data/unwise/neo7/unwise-catalog/mod'         \n",
       "CMDLINE = '/src/legacypipe/py/legacypipe/runbrick.py --brick 3366m010 --skip -&'\n",
       "CONTINUE  '-skip-calibs --bands g,r,i,z --rgb-stretch 1.5 --nsatur 2 --survey-&'\n",
       "CONTINUE  'dir /global/cfs/cdirs/cosmo/work/legacysurvey/dr10 --cache-dir  --o&'\n",
       "CONTINUE  'utdir /pscratch/sd/j/jsnigula/dr10 --checkpoint /pscratch/sd/j/jsni&'\n",
       "CONTINUE  'gula/dr10/checkpoints/336/checkpoint-3366m010.pickle --checkpoint-p&'\n",
       "CONTINUE  'eriod 120 --pickle /pscratch/sd/j/jsnigula/dr10/pickles/336/runbric&'\n",
       "CONTINUE  'k-%(brick)s-%%(stage)s.pickle --no-wise-ceres --write-stage srcs --&'\n",
       "CONTINUE  'write-stage tims --write-stage fitblobs --release 10000 --cache-out&'\n",
       "CONTINUE  'liers --threads 64' / runbrick command-line                          \n",
       "BRICK   = '3366m010'           / LegacySurveys brick RRRr[pm]DDd                \n",
       "BRICKID =               325954 / LegacySurveys brick id                         \n",
       "RAMIN   =                336.5 / Brick RA min (deg)                             \n",
       "RAMAX   =               336.75 / Brick RA max (deg)                             \n",
       "DECMIN  =               -1.125 / Brick Dec min (deg)                            \n",
       "DECMAX  =               -0.875 / Brick Dec max (deg)                            \n",
       "RA      = '22:26:30.000'       / Brick center RA (hms)                          \n",
       "DEC     = '-01:00:00.000'      / Brick center DEC (dms)                         \n",
       "CENTRA  =              336.625 / Brick center RA (deg)                          \n",
       "CENTDEC =                  -1. / Brick center Dec (deg)                         \n",
       "CORN1RA =     336.755988558503 / Brick corner RA (deg)                          \n",
       "CORN1DEC=    -1.13096042824015 / Brick corner Dec (deg)                         \n",
       "CORN2RA =     336.494011441497 / Brick corner RA (deg)                          \n",
       "CORN2DEC=    -1.13096042824015 / Brick corner Dec (deg)                         \n",
       "CORN3RA =     336.494021893367 / Brick corner RA (deg)                          \n",
       "CORN3DEC=   -0.869034346613991 / Brick corner Dec (deg)                         \n",
       "CORN4RA =     336.755978106633 / Brick corner RA (deg)                          \n",
       "CORN4DEC=   -0.869034346613991 / Brick corner Dec (deg)                         \n",
       "BRICK_G =                    T / Does band g touch this brick?                  \n",
       "CAMS_G  = 'decam   '           / Cameras contributing band g                    \n",
       "BRICK_R =                    T / Does band r touch this brick?                  \n",
       "CAMS_R  = 'decam   '           / Cameras contributing band r                    \n",
       "BRICK_I =                    T / Does band i touch this brick?                  \n",
       "CAMS_I  = 'decam   '           / Cameras contributing band i                    \n",
       "BRICK_Z =                    T / Does band z touch this brick?                  \n",
       "CAMS_Z  = 'decam   '           / Cameras contributing band z                    \n",
       "BANDS   = 'griz    '           / Bands touching this brick                      \n",
       "NBANDS  =                    4 / Number of bands in this catalog                \n",
       "BAND0   = 'g       '           / Band name in this catalog                      \n",
       "BAND1   = 'r       '           / Band name in this catalog                      \n",
       "BAND2   = 'i       '           / Band name in this catalog                      \n",
       "BAND3   = 'z       '           / Band name in this catalog                      \n",
       "VER_TIMS= 'DR10.0.1'                                                            \n",
       "VER_REFS= 'DR10.0.1'                                                            \n",
       "VER_OUTL= 'DR10.0.1'                                                            \n",
       "OUTLIER =                    T                                                  \n",
       "VER_HALO= 'DR10.0.1'                                                            \n",
       "VER_SRCS= 'DR10.0.1'                                                            \n",
       "VER_FITB= 'DR10.0.1'                                                            \n",
       "GALFRPSF=                    T                                                  \n",
       "LESSMASK=                    F                                                  \n",
       "COMMENT DCHISQ array model names                                                \n",
       "DCHISQ_0= 'PSF     '                                                            \n",
       "DCHISQ_1= 'REX     '                                                            \n",
       "DCHISQ_2= 'DEV     '                                                            \n",
       "DCHISQ_3= 'EXP     '                                                            \n",
       "DCHISQ_4= 'SER     '                                                            \n",
       "VER_COAD= 'DR10.0.1'                                                            \n",
       "CTYPE1  = 'RA---TAN'           / TANgent plane                                  \n",
       "CTYPE2  = 'DEC--TAN'           / TANgent plane                                  \n",
       "CRVAL1  =              336.625 / Reference RA                                   \n",
       "CRVAL2  =                  -1. / Reference Dec                                  \n",
       "CRPIX1  =               1800.5 / Reference x                                    \n",
       "CRPIX2  =               1800.5 / Reference y                                    \n",
       "CD1_1   = -7.27777777777778E-05 / CD matrix                                     \n",
       "CD1_2   =                   0. / CD matrix                                      \n",
       "CD2_1   =                   0. / CD matrix                                      \n",
       "CD2_2   = 7.27777777777778E-05 / CD matrix                                      \n",
       "EQUINOX =                2000. / WCS epoch                                      \n",
       "OBSERVAT= 'CTIO    '           / Observatory name                               \n",
       "TELESCOP= 'CTIO 4.0-m telescope' / Telescope  name                              \n",
       "OBS-LAT =            -30.16606 / Latitude (deg)                                 \n",
       "OBS-LONG=             70.81489 / Longitude (deg)                                \n",
       "OBS-ELEV=                2215. / Elevation (m)                                  \n",
       "INSTRUME= 'DECam   '           / Instrument name                                \n",
       "FILTER  = 'g DECam SDSS c0001 4720.0 1520.0' / Filter name                      \n",
       "FILTERX = 'g       '           / Filter short name                              \n",
       "MJD_MIN =     56540.0794781426 / Earliest MJD in coadd (TAI)                    \n",
       "MJD_MAX =     59440.2654173407 / Latest MJD in coadd (TAI)                      \n",
       "MJD_MEAN=     57969.0535381087 / Mean MJD in coadd (TAI)                        \n",
       "DATEOBS1= '2013-09-05T01:53:51.912' / DATE-OBS for the first image in the stack \n",
       "DATEOBS2= '2021-08-14T06:21:35.058' / DATE-OBS for the last  image in the stack \n",
       "DATEOBS = '2017-08-04T01:16:28.693' / Mean DATE-OBS for the stack (UTC)         \n",
       "IMTYPE  = 'image   '           / LegacySurveys image type                       \n",
       "PRODTYPE= 'image   '           / NOAO image type                                \n",
       "MAGZERO =                 22.5 / Magnitude zeropoint                            \n",
       "BUNIT   = 'nanomaggy'          / AB mag = 22.5 - 2.5*log10(nanomaggy)           \n",
       "COSKY_G = -5.89418596064206E-05 / Sky level estimated (+subtracted) from coadd  "
      ]
     },
     "execution_count": 65,
     "metadata": {},
     "output_type": "execute_result"
    }
   ],
   "source": [
    "image_g[1].header[\"BRICK\"]"
   ]
  },
  {
   "cell_type": "markdown",
   "metadata": {},
   "source": [
    "Inspect SDSS images and catalog"
   ]
  },
  {
   "cell_type": "code",
   "execution_count": 8,
   "metadata": {},
   "outputs": [],
   "source": [
    "fitsfile = fits.open(\"/home/zhteoh/871-decals-e2e/data/sdss/94/1/12/frame-g-000094-1-0012.fits\")"
   ]
  },
  {
   "cell_type": "code",
   "execution_count": 9,
   "metadata": {},
   "outputs": [],
   "source": [
    "hdu0 = fitsfile[0]\n",
    "hdu1 = fitsfile[1]\n",
    "hdu2 = fitsfile[2]\n",
    "hdu3 = fitsfile[3]"
   ]
  },
  {
   "cell_type": "code",
   "execution_count": 13,
   "metadata": {},
   "outputs": [
    {
     "name": "stderr",
     "output_type": "stream",
     "text": [
      "WARNING: FITSFixedWarning: RADECSYS= 'ICRS ' / International Celestial Ref. System \n",
      "the RADECSYS keyword is deprecated, use RADESYSa. [astropy.wcs.wcs]\n",
      "WARNING: FITSFixedWarning: 'datfix' made the change 'Set MJD-OBS to 51075.000000 from DATE-OBS.\n",
      "Changed DATE-OBS from '19/09/98' to '1998-09-19''. [astropy.wcs.wcs]\n"
     ]
    },
    {
     "data": {
      "image/png": "[encoded data removed]",
      "text/plain": [
       "<Figure size 640x480 with 1 Axes>"
      ]
     },
     "metadata": {},
     "output_type": "display_data"
    }
   ],
   "source": [
    "plot_image(hdu0)"
   ]
  },
  {
   "cell_type": "code",
   "execution_count": 14,
   "metadata": {},
   "outputs": [
    {
     "data": {
      "text/plain": [
       "array([[ 0.00392914, -0.02172852, -0.01852417, ..., -0.02224731,\n",
       "        -0.01904297, -0.01264954],\n",
       "       [ 0.00392914, -0.01210022,  0.00392914, ...,  0.01290894,\n",
       "         0.0001328 ,  0.00332642],\n",
       "       [ 0.01675415, -0.00248337, -0.0345459 , ...,  0.01611328,\n",
       "         0.00013304,  0.0256958 ],\n",
       "       ...,\n",
       "       [ 0.04626465,  0.00455475,  0.00134468, ..., -0.01202393,\n",
       "        -0.01521301,  0.00075817],\n",
       "       [-0.01791382,  0.01097107,  0.03662109, ...,  0.06787109,\n",
       "        -0.01202393,  0.01034546],\n",
       "       [ 0.00775909,  0.00134468, -0.05963135, ...,  0.01672363,\n",
       "        -0.02160645, -0.0184021 ]], dtype=float32)"
      ]
     },
     "execution_count": 14,
     "metadata": {},
     "output_type": "execute_result"
    }
   ],
   "source": [
    "hdu0.data # sky-subtracted nmgy/pixel"
   ]
  },
  {
   "cell_type": "markdown",
   "metadata": {},
   "source": [
    "## DECaLS PSF"
   ]
  },
  {
   "cell_type": "markdown",
   "metadata": {},
   "source": [
    "Get DECaLS PSF model"
   ]
  },
  {
   "cell_type": "code",
   "execution_count": 15,
   "metadata": {},
   "outputs": [],
   "source": [
    "brick_model_g_filename = download_file(f\"{URLBASE}/south/coadd/{brickname[:3]}/{brickname}/legacysurvey-{brickname}-model-g.fits.fz\", cache=True, show_progress=True, timeout=120)\n",
    "brick_model_r_filename = download_file(f\"{URLBASE}/south/coadd/{brickname[:3]}/{brickname}/legacysurvey-{brickname}-model-r.fits.fz\", cache=True, show_progress=True, timeout=120)\n",
    "brick_model_z_filename = download_file(f\"{URLBASE}/south/coadd/{brickname[:3]}/{brickname}/legacysurvey-{brickname}-model-z.fits.fz\", cache=True, show_progress=True, timeout=120)"
   ]
  },
  {
   "cell_type": "code",
   "execution_count": 17,
   "metadata": {},
   "outputs": [],
   "source": [
    "psfsize_g_filename = download_file(f\"{URLBASE}/south/coadd/{brickname[:3]}/{brickname}/legacysurvey-{brickname}-psfsize-g.fits.fz\", cache=True, show_progress=True, timeout=120)\n",
    "psfsize_r_filename = download_file(f\"{URLBASE}/south/coadd/{brickname[:3]}/{brickname}/legacysurvey-{brickname}-psfsize-r.fits.fz\", cache=True, show_progress=True, timeout=120)\n",
    "psfsize_z_filename = download_file(f\"{URLBASE}/south/coadd/{brickname[:3]}/{brickname}/legacysurvey-{brickname}-psfsize-z.fits.fz\", cache=True, show_progress=True, timeout=120)"
   ]
  },
  {
   "cell_type": "code",
   "execution_count": 18,
   "metadata": {},
   "outputs": [],
   "source": [
    "tractor_g_fitsfile = fits.open(brick_model_r_filename)\n",
    "tractor_r_fitsfile = fits.open(brick_model_r_filename)\n",
    "tractor_z_fitsfile = fits.open(brick_model_r_filename)"
   ]
  },
  {
   "cell_type": "markdown",
   "metadata": {},
   "source": [
    "PSF via params in `ccds-annotated-decam-dr9.fits.gz`"
   ]
  },
  {
   "cell_type": "code",
   "execution_count": null,
   "metadata": {},
   "outputs": [],
   "source": [
    "# WARNING: DOWNLOAD TAKES A LONG TIME - 1.71GB\n",
    "from bliss.utils.download_utils import download_file_to_dst\n",
    "import gzip\n",
    "\n",
    "# REPLACE THIS WITH YOUR ${workspaceFolder}\n",
    "WORKSPACE_FOLDER = \"/home/zhteoh/871-decals-e2e\"\n",
    "dst_filename = f\"{WORKSPACE_FOLDER}/data/ccds-annotated-decam-dr9.fits.gz\"\n",
    "ccds_annotated_filename = download_file_to_dst(f\"{URLBASE}/ccds-annotated-decam-dr9.fits.gz\", \n",
    "                                               dst_filename,\n",
    "                                               gzip.decompress)"
   ]
  },
  {
   "cell_type": "code",
   "execution_count": 20,
   "metadata": {},
   "outputs": [],
   "source": [
    "ccds_annotated = Table.read(\"/home/zhteoh/871-decals-e2e/data/decals/ccds-annotated-decam-dr9.fits\")"
   ]
  },
  {
   "cell_type": "code",
   "execution_count": null,
   "metadata": {},
   "outputs": [
    {
     "data": {
      "text/html": [
       "<i>Table length=5</i>\n",
       "<table id=\"table140609348893040-578563\" class=\"table-striped table-bordered table-condensed\">\n",
       "<thead><tr><th>idx</th><th>ccdname</th><th>ra</th><th>dec</th><th>psfnorm_mean</th><th>psfnorm_std</th><th>galnorm_mean</th><th>galnorm_std</th><th>psf_mx2</th><th>psf_my2</th><th>psf_mxy</th><th>psf_a</th><th>psf_b</th><th>psf_theta</th><th>psf_ell</th><th>psfdepth</th><th>galdepth</th><th>gausspsfdepth</th><th>gaussgaldepth</th></tr></thead>\n",
       "<tr><td>0</td><td>S29</td><td>7.455790355943946</td><td>-42.10477608922134</td><td>0.114690475</td><td>0.0011206337</td><td>0.09208971</td><td>0.00059299235</td><td>11.024782</td><td>10.704435</td><td>0.3695506</td><td>3.3566916</td><td>3.2344766</td><td>33.283363</td><td>0.03640933</td><td>21.577566</td><td>21.339273</td><td>21.765394</td><td>21.508904</td></tr>\n",
       "<tr><td>1</td><td>S31</td><td>8.29287502945703</td><td>-42.10550577934238</td><td>0.11552497</td><td>0.00075078977</td><td>0.09249403</td><td>0.00035679387</td><td>11.047343</td><td>11.1978035</td><td>-0.6110118</td><td>3.4261055</td><td>3.2414422</td><td>-48.50959</td><td>0.053898897</td><td>21.610611</td><td>21.369205</td><td>21.784023</td><td>21.529858</td></tr>\n",
       "<tr><td>2</td><td>S25</td><td>7.244463335916217</td><td>-42.267722960109246</td><td>0.11595932</td><td>0.00062083517</td><td>0.09273505</td><td>0.0003941055</td><td>11.372338</td><td>11.054045</td><td>0.56274897</td><td>3.4348233</td><td>3.2601185</td><td>37.10449</td><td>0.050862856</td><td>21.63025</td><td>21.387596</td><td>21.840954</td><td>21.57183</td></tr>\n",
       "<tr><td>3</td><td>S26</td><td>7.664103748882487</td><td>-42.26920159533759</td><td>0.11787354</td><td>0.0015322721</td><td>0.093729496</td><td>0.0008609283</td><td>10.645797</td><td>10.500119</td><td>0.13307856</td><td>3.2748537</td><td>3.2281961</td><td>30.653217</td><td>0.014247229</td><td>21.657894</td><td>21.409044</td><td>21.87089</td><td>21.594278</td></tr>\n",
       "<tr><td>4</td><td>S27</td><td>8.084030891252237</td><td>-42.269636865181134</td><td>0.1181222</td><td>0.0006664335</td><td>0.09377218</td><td>0.00041386558</td><td>10.9926</td><td>10.60533</td><td>-0.10567157</td><td>3.319572</td><td>3.252441</td><td>-14.311199</td><td>0.020222757</td><td>21.640247</td><td>21.389606</td><td>21.84729</td><td>21.57206</td></tr>\n",
       "</table><style>table.dataTable {clear: both; width: auto !important; margin: 0 !important;}\n",
       ".dataTables_info, .dataTables_length, .dataTables_filter, .dataTables_paginate{\n",
       "display: inline-block; margin-right: 1em; }\n",
       ".paginate_button { margin-right: 5px; }\n",
       "</style>\n",
       "<script>\n",
       "\n",
       "var astropy_sort_num = function(a, b) {\n",
       "    var a_num = parseFloat(a);\n",
       "    var b_num = parseFloat(b);\n",
       "\n",
       "    if (isNaN(a_num) && isNaN(b_num))\n",
       "        return ((a < b) ? -1 : ((a > b) ? 1 : 0));\n",
       "    else if (!isNaN(a_num) && !isNaN(b_num))\n",
       "        return ((a_num < b_num) ? -1 : ((a_num > b_num) ? 1 : 0));\n",
       "    else\n",
       "        return isNaN(a_num) ? -1 : 1;\n",
       "}\n",
       "\n",
       "require.config({paths: {\n",
       "    datatables: 'https://cdn.datatables.net/1.10.12/js/jquery.dataTables.min'\n",
       "}});\n",
       "require([\"datatables\"], function(){\n",
       "    console.log(\"$('#table140609348893040-578563').dataTable()\");\n",
       "    \n",
       "jQuery.extend( jQuery.fn.dataTableExt.oSort, {\n",
       "    \"optionalnum-asc\": astropy_sort_num,\n",
       "    \"optionalnum-desc\": function (a,b) { return -astropy_sort_num(a, b); }\n",
       "});\n",
       "\n",
       "    $('#table140609348893040-578563').dataTable({\n",
       "        order: [],\n",
       "        pageLength: 50,\n",
       "        lengthMenu: [[10, 25, 50, 100, 500, 1000, -1], [10, 25, 50, 100, 500, 1000, 'All']],\n",
       "        pagingType: \"full_numbers\",\n",
       "        columnDefs: [{targets: [0, 2, 3, 4, 5, 6, 7, 8, 9, 10, 11, 12, 13, 14, 15, 16, 17, 18], type: \"optionalnum\"}]\n",
       "    });\n",
       "});\n",
       "</script>\n"
      ],
      "text/plain": [
       "<IPython.core.display.HTML object>"
      ]
     },
     "execution_count": 10,
     "metadata": {},
     "output_type": "execute_result"
    }
   ],
   "source": [
    "select_cols = [\"ccdname\", \"ra\", \"dec\"]\n",
    "psf_cols = [col for col in ccds_annotated.colnames if col.startswith(\"psf\") or col.startswith(\"gal\") or col.startswith(\"gauss\") or col in select_cols]\n",
    "ccds_annotated[psf_cols][:5].show_in_notebook()"
   ]
  },
  {
   "cell_type": "markdown",
   "metadata": {},
   "source": [
    "Get CCDs used for brick"
   ]
  },
  {
   "cell_type": "code",
   "execution_count": null,
   "metadata": {},
   "outputs": [],
   "source": [
    "brick_ccds_filename = download_file(\"{}/south/coadd/{}/{}/legacysurvey-{}-ccds.fits\".format(URLBASE, brickname[:3], brickname, brickname), cache=False)\n",
    "brick_ccds = Table.read(brick_ccds_filename)"
   ]
  },
  {
   "cell_type": "code",
   "execution_count": null,
   "metadata": {},
   "outputs": [],
   "source": [
    "ccds_for_brick = brick_ccds[\"ccdname\"]"
   ]
  },
  {
   "cell_type": "code",
   "execution_count": 11,
   "metadata": {},
   "outputs": [],
   "source": [
    "# Show rows in ccds_annotated that match the ccds_for_brick\n",
    "mask = np.isin(ccds_annotated[\"ccdname\"], ccds_for_brick)\n",
    "ccds_psf_r = ccds_annotated[mask & (ccds_annotated[\"filter\"] == 'r')][psf_cols]"
   ]
  },
  {
   "cell_type": "markdown",
   "metadata": {},
   "source": [
    "Create PSF model based on these CCDs"
   ]
  },
  {
   "cell_type": "code",
   "execution_count": 15,
   "metadata": {},
   "outputs": [],
   "source": [
    "psf_mx2 = np.median(ccds_psf_r[\"psf_mx2\"])\n",
    "psf_my2 = np.median(ccds_psf_r[\"psf_my2\"])\n",
    "psf_mxy = np.median(ccds_psf_r[\"psf_mxy\"])\n",
    "psf_a = np.median(ccds_psf_r[\"psf_a\"])\n",
    "psf_b = np.median(ccds_psf_r[\"psf_b\"])\n",
    "psf_theta = np.median(ccds_psf_r[\"psf_theta\"])\n",
    "psf_ell = np.median(ccds_psf_r[\"psf_ell\"])\n",
    "\n",
    "psfnorm_mean = np.median(ccds_psf_r[\"psfnorm_mean\"])\n",
    "psfnorm_std = np.median(ccds_psf_r[\"psfnorm_std\"])\n",
    "\n",
    "psfdepth = np.median(ccds_psf_r[\"psfdepth\"])\n",
    "galdepth = np.median(ccds_psf_r[\"galdepth\"])\n",
    "gausspsfdepth = np.median(ccds_psf_r[\"gausspsfdepth\"])\n",
    "gaussgaldepth = np.median(ccds_psf_r[\"gaussgaldepth\"])"
   ]
  },
  {
   "cell_type": "markdown",
   "metadata": {},
   "source": [
    "Or use FWHM for brick"
   ]
  },
  {
   "cell_type": "code",
   "execution_count": 17,
   "metadata": {},
   "outputs": [],
   "source": [
    "brick_fwhm_g_filename = download_file(\"{}/south/coadd/{}/{}/legacysurvey-{}-psfsize-g.fits.fz\".format(URLBASE, brickname[:3], brickname, brickname), cache=False)\n",
    "brick_fwhm_r_filename = download_file(\"{}/south/coadd/{}/{}/legacysurvey-{}-psfsize-r.fits.fz\".format(URLBASE, brickname[:3], brickname, brickname), cache=False)\n",
    "brick_fwhm_z_filename = download_file(\"{}/south/coadd/{}/{}/legacysurvey-{}-psfsize-z.fits.fz\".format(URLBASE, brickname[:3], brickname, brickname), cache=False)"
   ]
  },
  {
   "cell_type": "code",
   "execution_count": 35,
   "metadata": {},
   "outputs": [],
   "source": [
    "brick_fwhm_g = fits.open(brick_fwhm_g_filename)\n",
    "brick_fwhm_r = fits.open(brick_fwhm_r_filename)\n",
    "brick_fwhm_z = fits.open(brick_fwhm_z_filename)\n",
    "\n",
    "psf_fwhm = np.median(brick_fwhm_r[1].data)"
   ]
  },
  {
   "cell_type": "code",
   "execution_count": 33,
   "metadata": {},
   "outputs": [
    {
     "data": {
      "text/plain": [
       "(3600, 3600)"
      ]
     },
     "execution_count": 33,
     "metadata": {},
     "output_type": "execute_result"
    }
   ],
   "source": [
    "psf_fwhm.shape"
   ]
  },
  {
   "cell_type": "code",
   "execution_count": 37,
   "metadata": {},
   "outputs": [],
   "source": [
    "pixel_scale = 0.262\n",
    "psf_slen = 63"
   ]
  },
  {
   "cell_type": "code",
   "execution_count": 39,
   "metadata": {},
   "outputs": [],
   "source": [
    "import numpy as np\n",
    "import torch\n",
    "\n",
    "def _get_mgrid():\n",
    "    \"\"\"Construct the base grid for the PSF.\"\"\"\n",
    "    offset = (psf_slen - 1) / 2\n",
    "    x, y = np.mgrid[-offset : (offset + 1), -offset : (offset + 1)]\n",
    "    mgrid = torch.tensor(np.dstack((y, x))) / offset\n",
    "    return mgrid.float()"
   ]
  },
  {
   "cell_type": "code",
   "execution_count": 36,
   "metadata": {},
   "outputs": [],
   "source": [
    "import galsim\n",
    "import math\n",
    "\n",
    "# Create the PSF model\n",
    "\n",
    "# Inner Moffat profile\n",
    "psf_inner = galsim.Moffat(beta=psf_b, fwhm=psf_fwhm)\n",
    "\n",
    "# Outer profile - Moffat or Power-law\n",
    "band = 'r'\n",
    "if band == 'z':\n",
    "    alpha, beta, weight = 17.650, 1.7, 0.0145\n",
    "    compact_z_ccds = ['N20', 'S8', 'S10', 'S18', 'S21', 'S27']\n",
    "    if ccds_for_brick in compact_z_ccds:\n",
    "        alpha, beta, weight = 16, 2.3, 0.0095\n",
    "    # Create the first Moffat PSF component\n",
    "    moffat1 = galsim.Moffat(beta=beta, fwhm=2 * alpha * math.sqrt(2**(1/beta) - 1))\n",
    "    # Create the second Moffat PSF component\n",
    "    moffat2 = galsim.Moffat(beta=beta, fwhm=2 * alpha * math.sqrt(2**(1/beta) - 1) / weight)\n",
    "    # Combine the two Moffat components using Moffat weighting\n",
    "    weighted_moffat = weight * moffat1 + (1 - weight) * moffat2\n",
    "    psf_outer = weighted_moffat\n",
    "else:\n",
    "    assert band in ['g', 'r', 'i']\n",
    "    grid = _get_mgrid() * (psf_slen - 1) / 2\n",
    "    radii_grid = (grid**2).sum(2).sqrt()\n",
    "    if band == 'g':\n",
    "        outer = 0.00045 * radii_grid**(-2)\n",
    "    elif band == 'r':\n",
    "        outer = 0.00033 * radii_grid**(-2)\n",
    "    elif band == 'i':\n",
    "        outer = 0.00033 * radii_grid**(-2)\n",
    "    psf_outer = galsim.InterpolatedImage(galsim.Image(outer.numpy(), scale=pixel_scale)).withFlux(1.0)\n",
    "\n",
    "# Combine the inner and outer profiles\n",
    "psf_combined = galsim.Convolve([psf_inner, psf_outer])\n",
    "\n",
    "# Apply ellipticity and position angle to the PSF model\n",
    "psf_combined = psf_combined.shear(e=psf_ell, beta=psf_theta * galsim.degrees)\n",
    "\n",
    "psf_image = galsim.Image(psf_combined.detach().numpy(), scale=pixel_scale)\n",
    "psf_image /= psfnorm_mean\n",
    "\n",
    "psf = galsim.InterpolatedImage(psf_image).withFlux(1.0)\n"
   ]
  },
  {
   "cell_type": "markdown",
   "metadata": {},
   "source": [
    "## SDSS PSF"
   ]
  },
  {
   "cell_type": "markdown",
   "metadata": {},
   "source": [
    "Inspect SDSS PSF"
   ]
  },
  {
   "cell_type": "code",
   "execution_count": 43,
   "metadata": {},
   "outputs": [],
   "source": [
    "bands = [0, 1, 2, 3, 4]\n",
    "pixel_scale=0.396\n",
    "psf_slen=25"
   ]
  },
  {
   "cell_type": "code",
   "execution_count": 44,
   "metadata": {},
   "outputs": [],
   "source": [
    "import torch\n",
    "\n",
    "def _psf_fun(r, sigma1, sigma2, sigmap, beta, b, p0):\n",
    "    term1 = torch.exp(-(r**2) / (2 * sigma1))\n",
    "    term2 = b * torch.exp(-(r**2) / (2 * sigma2))\n",
    "    term3 = p0 * (1 + r**2 / (beta * sigmap)) ** (-beta / 2)\n",
    "    return (term1 + term2 + term3) / (1 + b + p0)"
   ]
  },
  {
   "cell_type": "code",
   "execution_count": 45,
   "metadata": {},
   "outputs": [],
   "source": [
    "import numpy as np\n",
    "\n",
    "def _get_mgrid():\n",
    "    \"\"\"Construct the base grid for the PSF.\"\"\"\n",
    "    offset = (psf_slen - 1) / 2\n",
    "    x, y = np.mgrid[-offset : (offset + 1), -offset : (offset + 1)]\n",
    "    mgrid = torch.tensor(np.dstack((y, x))) / offset\n",
    "    return mgrid.float()"
   ]
  },
  {
   "cell_type": "code",
   "execution_count": 46,
   "metadata": {},
   "outputs": [],
   "source": [
    "from einops import rearrange, reduce\n",
    "import torch\n",
    "\n",
    "def get_psf(params):\n",
    "    \"\"\"Construct PSF image from parameters. This is the main entry point for generating the psf.\n",
    "\n",
    "    Args:\n",
    "        params: list of psf parameters, loaded from _get_fit_file_psf_params\n",
    "\n",
    "    Returns:\n",
    "        images (List[InterpolatedImage]): list of psf transformations for each band\n",
    "    \"\"\"\n",
    "    # get psf in each band\n",
    "    psf_list = []\n",
    "    for i in range(n_bands):\n",
    "        grid = _get_mgrid() * (psf_slen - 1) / 2\n",
    "        radii_grid = (grid**2).sum(2).sqrt()\n",
    "        band_psf = _psf_fun(radii_grid, *params[i])\n",
    "        psf_list.append(band_psf.unsqueeze(0))\n",
    "    psf = torch.cat(psf_list)\n",
    "    assert (psf > 0).all()\n",
    "\n",
    "    # ensure it's normalized\n",
    "    norm = reduce(psf, \"b m k -> b\", \"sum\")\n",
    "    psf *= rearrange(1 / norm, \"b -> b 1 1\")\n",
    "\n",
    "    # check format\n",
    "    n_bands, psf_slen, _ = psf.shape\n",
    "    assert n_bands == n_bands and (psf_slen % 2) == 1 and psf_slen == psf.shape[2]\n",
    "\n",
    "    # convert to image\n",
    "    images = []\n",
    "    for i in range(n_bands):\n",
    "        psf_image = galsim.Image(psf.detach().numpy()[i], scale=pixel_scale)\n",
    "        images.append(galsim.InterpolatedImage(psf_image).withFlux(1.0))\n",
    "\n",
    "    return images"
   ]
  },
  {
   "cell_type": "code",
   "execution_count": 58,
   "metadata": {},
   "outputs": [],
   "source": [
    "from typing import Tuple\n",
    "from pathlib import Path\n",
    "\n",
    "def _get_fit_file_psf_params(psf_fit_file: str, bands: Tuple[int, ...]):\n",
    "    \"\"\"Load psf parameters from fits file.\n",
    "\n",
    "    See https://data.sdss.org/datamodel/files/PHOTO_REDUX/RERUN/RUN/objcs/CAMCOL/psField.html\n",
    "    for details on the parameters.\n",
    "\n",
    "    Args:\n",
    "        psf_fit_file (str): file to load from\n",
    "        bands (Tuple[int, ...]): SDSS bands to load\n",
    "\n",
    "    Returns:\n",
    "        psf_params: tensor of parameters for each band\n",
    "    \"\"\"\n",
    "    msg = (\n",
    "        f\"{psf_fit_file} does not exist. \"\n",
    "        + \"Make sure data files are available for fields specified in config.\"\n",
    "    )\n",
    "    assert Path(psf_fit_file).exists(), msg\n",
    "    # HDU 6 contains the PSF header (after primary and eigenimages)\n",
    "    data = fits.open(psf_fit_file, ignore_missing_end=True).pop(6).data\n",
    "    psf_params = torch.zeros(len(bands), 6)\n",
    "    for i, band in enumerate(bands):\n",
    "        sigma1 = data[\"psf_sigma1\"][0][band] ** 2\n",
    "        sigma2 = data[\"psf_sigma2\"][0][band] ** 2\n",
    "        sigmap = data[\"psf_sigmap\"][0][band] ** 2\n",
    "        beta = data[\"psf_beta\"][0][band]\n",
    "        b = data[\"psf_b\"][0][band]\n",
    "        p0 = data[\"psf_p0\"][0][band]\n",
    "\n",
    "        psf_params[i] = torch.tensor([sigma1, sigma2, sigmap, beta, b, p0])\n",
    "\n",
    "    return psf_params\n",
    "\n",
    "psf_fit_file = \"/home/zhteoh/871-decals-e2e/data/sdss/94/1/12/psField-000094-1-0012.fits\""
   ]
  },
  {
   "cell_type": "code",
   "execution_count": 68,
   "metadata": {},
   "outputs": [
    {
     "data": {
      "text/plain": [
       "array([3.5367863, 3.1703002, 2.994038 , 3.3874602, 1.8700007],\n",
       "      dtype=float32)"
      ]
     },
     "execution_count": 68,
     "metadata": {},
     "output_type": "execute_result"
    }
   ],
   "source": [
    "data = fits.open(psf_fit_file, ignore_missing_end=True).pop(6).data\n",
    "psf_params = torch.zeros(len(bands), 6)\n",
    "\n",
    "data[\"psf_sigma2\"][0]"
   ]
  },
  {
   "cell_type": "markdown",
   "metadata": {},
   "source": [
    "## DECaLS Prior via single-exposure DECam CCDs"
   ]
  },
  {
   "cell_type": "code",
   "execution_count": 2,
   "metadata": {},
   "outputs": [
    {
     "data": {
      "text/plain": [
       "'3366m010'"
      ]
     },
     "execution_count": 2,
     "metadata": {},
     "output_type": "execute_result"
    }
   ],
   "source": [
    "BRICKNAME = brickname\n",
    "BRICKNAME"
   ]
  },
  {
   "cell_type": "code",
   "execution_count": 3,
   "metadata": {},
   "outputs": [
    {
     "data": {
      "text/html": [
       "<i>Table length=119</i>\n",
       "<table id=\"table140375913308768-931235\" class=\"table-striped table-bordered table-condensed\">\n",
       "<thead><tr><th>idx</th><th>image_filename</th><th>image_hdu</th><th>camera</th><th>expnum</th><th>plver</th><th>procdate</th><th>plprocid</th><th>ccdname</th><th>object</th><th>propid</th><th>filter</th><th>exptime</th><th>mjd_obs</th><th>airmass</th><th>fwhm</th><th>width</th><th>height</th><th>ra_bore</th><th>dec_bore</th><th>crpix1</th><th>crpix2</th><th>crval1</th><th>crval2</th><th>cd1_1</th><th>cd1_2</th><th>cd2_1</th><th>cd2_2</th><th>yshift</th><th>ra</th><th>dec</th><th>skyrms</th><th>sig1</th><th>ccdzpt</th><th>zpt</th><th>ccdraoff</th><th>ccddecoff</th><th>ccdskycounts</th><th>ccdskysb</th><th>ccdrarms</th><th>ccddecrms</th><th>ccdphrms</th><th>phrms</th><th>ccdnastrom</th><th>ccdnphotom</th><th>ccd_cuts</th><th>ccd_x0</th><th>ccd_y0</th><th>ccd_x1</th><th>ccd_y1</th><th>brick_x0</th><th>brick_x1</th><th>brick_y0</th><th>brick_y1</th><th>psfnorm</th><th>galnorm</th><th>skyver</th><th>psfver</th><th>skyplver</th><th>psfplver</th><th>co_sky</th></tr></thead>\n",
       "<tr><td>0</td><td>decam/CP/V4.8.2a/CP20130909/c4d_130910_014701_ooi_g_ls9.fits.fz</td><td>11</td><td>decam</td><td>232263</td><td>V4.8.2a</td><td>2019-08-08T12:58:34</td><td>9546715</td><td>S23</td><td>DES survey hex -235-14 tiling 1</td><td>2012B-0001</td><td>g</td><td>90.0</td><td>56545.07431716</td><td>1.33</td><td>4.959119</td><td>2046</td><td>4094</td><td>336.4609</td><td>-1.4145</td><td>8913.4</td><td>-2212.333</td><td>336.4661922529</td><td>-1.410278517151</td><td>-1.371452e-07</td><td>7.2858216e-05</td><td>-7.2857954e-05</td><td>-1.2415835e-07</td><td>False</td><td>336.77811624687314</td><td>-0.8347166520766813</td><td>0.08112403</td><td>0.0063870163</td><td>25.148787</td><td>25.139305</td><td>-0.022975158</td><td>0.013826741</td><td>1.9689765</td><td>22.965904</td><td>0.03837581</td><td>0.035306595</td><td>0.024606125</td><td>0.0</td><td>190</td><td>215</td><td>0</td><td>1493</td><td>14</td><td>2032</td><td>1746</td><td>1</td><td>1741</td><td>3061</td><td>3605</td><td>0.11605664</td><td>0.09363042</td><td>DR9.5.9</td><td>DR9.0.1-11-gb167e27c</td><td>V4.8.2a</td><td>V4.8.2a</td><td>-8.4510255e-05</td></tr>\n",
       "<tr><td>1</td><td>decam/CP/V4.8.2a/CP20171108/c4d_171109_002003_ooi_g_ls9.fits.fz</td><td>7</td><td>decam</td><td>694142</td><td>V4.8.2a</td><td>2019-07-24T10:02:42</td><td>952682e</td><td>S28</td><td>DES survey hex -235-14 tiling 8</td><td>2012B-0001</td><td>g</td><td>90.0</td><td>58066.01393135</td><td>1.15</td><td>4.220534</td><td>2046</td><td>4094</td><td>336.22122083333335</td><td>-1.5497638888888887</td><td>11167.8</td><td>-4342.0</td><td>336.2256174351</td><td>-1.5484579785</td><td>-1.3821646e-07</td><td>7.284893e-05</td><td>-7.2850744e-05</td><td>-1.3884555e-07</td><td>False</td><td>336.6928253823203</td><td>-0.8094099451396979</td><td>0.101871386</td><td>0.009180382</td><td>25.032684</td><td>25.022644</td><td>0.04463879</td><td>-0.050566312</td><td>3.175314</td><td>22.44704</td><td>0.04790215</td><td>0.06241368</td><td>0.024957126</td><td>0.0</td><td>194</td><td>229</td><td>0</td><td>1837</td><td>14</td><td>2032</td><td>2913</td><td>1</td><td>2909</td><td>3406</td><td>3610</td><td>0.13101818</td><td>0.100226074</td><td>DR9.5.9</td><td>DR9.0.1-27-g1f3e9a77</td><td>V4.8.2a</td><td>V4.8.2a</td><td>-8.4510255e-05</td></tr>\n",
       "<tr><td>2</td><td>decam/CP/V4.8.2a/CP20170926/c4d_170927_025655_ooi_z_ls9.fits.fz</td><td>7</td><td>decam</td><td>681992</td><td>V4.8.2a</td><td>2019-07-20T19:45:47</td><td>951ee00</td><td>S28</td><td>DES survey hex -235-14 tiling 8</td><td>2012B-0001</td><td>z</td><td>90.0</td><td>58023.12286809</td><td>1.14</td><td>2.936718</td><td>2046</td><td>4094</td><td>336.229875</td><td>-1.5416666666666665</td><td>11167.8</td><td>-4342.0</td><td>336.2298657446</td><td>-1.541653145183</td><td>-1.3660662e-07</td><td>7.284871e-05</td><td>-7.285018e-05</td><td>-1.3839802e-07</td><td>False</td><td>336.69718641002964</td><td>-0.8026085048707511</td><td>0.24154165</td><td>0.02371141</td><td>24.985935</td><td>24.987888</td><td>0.030673454</td><td>-0.032290384</td><td>19.731651</td><td>20.337599</td><td>0.033255167</td><td>0.03756013</td><td>0.02394872</td><td>0.0</td><td>191</td><td>222</td><td>0</td><td>1930</td><td>14</td><td>2032</td><td>2853</td><td>1</td><td>2849</td><td>3500</td><td>3611</td><td>0.17461237</td><td>0.11585495</td><td>DR9.5.9</td><td>DR9.0.1-27-g1f3e9a77</td><td>V4.8.2a</td><td>V4.8.2a</td><td>2.778646e-05</td></tr>\n",
       "<tr><td>3</td><td>decam/CP/V4.8.2a/CP20170926/c4d_170927_025457_ooi_r_ls9.fits.fz</td><td>7</td><td>decam</td><td>681991</td><td>V4.8.2a</td><td>2019-07-23T20:32:01</td><td>95254c6</td><td>S28</td><td>DES survey hex -235-14 tiling 8</td><td>2012B-0001</td><td>r</td><td>90.0</td><td>58023.12149533</td><td>1.14</td><td>3.544065</td><td>2046</td><td>4094</td><td>336.22122083333335</td><td>-1.5497638888888887</td><td>11167.8</td><td>-4342.0</td><td>336.2301008356</td><td>-1.541801022795</td><td>-1.3388022e-07</td><td>7.285396e-05</td><td>-7.285599e-05</td><td>-1.3169732e-07</td><td>False</td><td>336.6972963452925</td><td>-0.802683308344434</td><td>0.1210436</td><td>0.009276179</td><td>25.23642</td><td>25.242157</td><td>0.03515506</td><td>-0.04522394</td><td>4.7206464</td><td>22.224503</td><td>0.03642664</td><td>0.05002352</td><td>0.01733912</td><td>0.0</td><td>189</td><td>222</td><td>0</td><td>1929</td><td>14</td><td>2032</td><td>2852</td><td>1</td><td>2847</td><td>3499</td><td>3610</td><td>0.15297432</td><td>0.10936827</td><td>DR9.5.9</td><td>DR9.0.1-27-g1f3e9a77</td><td>V4.8.2a</td><td>V4.8.2a</td><td>-6.440953e-05</td></tr>\n",
       "<tr><td>4</td><td>decam/CP/V4.8.2a/CP20141020/c4d_141021_015854_ooi_g_ls9.fits.fz</td><td>12</td><td>decam</td><td>369756</td><td>V4.8.2a</td><td>2019-08-11T17:57:10</td><td>954d2a0</td><td>S14</td><td>DES survey hex -219-4 tiling 3</td><td>2012B-0001</td><td>g</td><td>90.0</td><td>56951.08096597</td><td>1.16</td><td>4.490478</td><td>2046</td><td>4094</td><td>337.51620833333334</td><td>-1.2284919444444444</td><td>6659.0</td><td>12695.33</td><td>337.5162183566</td><td>-1.227162463415</td><td>-1.3032033e-07</td><td>7.285313e-05</td><td>-7.285385e-05</td><td>-1.2954756e-07</td><td>False</td><td>336.7404891711277</td><td>-0.814895181278943</td><td>0.07095721</td><td>0.005949085</td><td>25.121017</td><td>25.123192</td><td>-0.004172018</td><td>0.012332194</td><td>1.5163069</td><td>23.249538</td><td>0.024430003</td><td>0.030062405</td><td>0.021746622</td><td>0.0</td><td>191</td><td>217</td><td>0</td><td>1763</td><td>14</td><td>2032</td><td>2264</td><td>0</td><td>2253</td><td>3332</td><td>3603</td><td>0.11368429</td><td>0.0900916</td><td>DR9.5.9</td><td>DR9.0.1-27-g1f3e9a77</td><td>V4.8.2a</td><td>V4.8.2a</td><td>-8.4510255e-05</td></tr>\n",
       "<tr><td>5</td><td>decam/CP/V4.8.2a/CP20141013/c4d_141014_014535_ooi_g_ls9.fits.fz</td><td>12</td><td>decam</td><td>367454</td><td>V4.8.2a</td><td>2019-08-11T17:57:05</td><td>954d2a0</td><td>S14</td><td>DES survey hex -219-4 tiling 3</td><td>2012B-0001</td><td>g</td><td>90.0</td><td>56944.07169789</td><td>1.14</td><td>6.175831</td><td>2046</td><td>4094</td><td>337.51620833333334</td><td>-1.2284919444444444</td><td>6659.0</td><td>12695.33</td><td>337.5175594136</td><td>-1.226619259661</td><td>-1.3362141e-07</td><td>7.285382e-05</td><td>-7.28536e-05</td><td>-1.3085715e-07</td><td>False</td><td>336.7418531028283</td><td>-0.8143385920191134</td><td>0.06567466</td><td>0.0056592794</td><td>25.08329</td><td>25.087221</td><td>-0.011884795</td><td>0.004755454</td><td>1.2659473</td><td>23.445467</td><td>0.027422508</td><td>0.035686616</td><td>0.027291844</td><td>0.0</td><td>184</td><td>218</td><td>0</td><td>1771</td><td>14</td><td>2032</td><td>2245</td><td>0</td><td>2234</td><td>3340</td><td>3603</td><td>0.08166436</td><td>0.07138903</td><td>DR9.5.9</td><td>DR9.0.1-27-g1f3e9a77</td><td>V4.8.2a</td><td>V4.8.2a</td><td>-8.4510255e-05</td></tr>\n",
       "<tr><td>6</td><td>decam/CP/V4.8.2a/CP20130912/c4d_130913_041657_ooi_z_ls9.fits.fz</td><td>13</td><td>decam</td><td>233515</td><td>V4.8.2a</td><td>2019-08-07T22:00:06</td><td>9545103</td><td>S14</td><td>DES survey hex -219-4 tiling 3</td><td>2012B-0001</td><td>z</td><td>90.0</td><td>56548.17844174</td><td>1.15</td><td>3.451151</td><td>2046</td><td>4094</td><td>337.51620833333334</td><td>-1.2284919444444444</td><td>6659.0</td><td>12695.33</td><td>337.517550423</td><td>-1.227262763728</td><td>-1.2311062e-07</td><td>7.285069e-05</td><td>-7.285335e-05</td><td>-1.2749699e-07</td><td>False</td><td>336.7419012112914</td><td>-0.8149304868929999</td><td>0.2063322</td><td>0.017680347</td><td>25.051579</td><td>25.051502</td><td>-0.0069532944</td><td>0.0037398052</td><td>13.642757</td><td>20.73825</td><td>0.013071423</td><td>0.01097785</td><td>0.021098837</td><td>0.0</td><td>188</td><td>217</td><td>0</td><td>1763</td><td>14</td><td>2032</td><td>2245</td><td>0</td><td>2233</td><td>3332</td><td>3603</td><td>0.1611459</td><td>0.11348082</td><td>DR9.5.9</td><td>DR9.0.1-11-gb167e27c</td><td>V4.8.2a</td><td>V4.8.2a</td><td>2.778646e-05</td></tr>\n",
       "<tr><td>7</td><td>decam/CP/V4.8.2a/CP20131009/c4d_131010_023434_ooi_r_ls9.fits.fz</td><td>13</td><td>decam</td><td>242438</td><td>V4.8.2a</td><td>2019-08-08T09:10:00</td><td>954619d</td><td>S14</td><td>DES survey hex -219-4 tiling 3</td><td>2012B-0001</td><td>r</td><td>90.0</td><td>56575.1073433</td><td>1.16</td><td>3.303096</td><td>2046</td><td>4094</td><td>337.51620833333334</td><td>-1.2284919444444444</td><td>6659.0</td><td>12695.33</td><td>337.5197557304</td><td>-1.229630097213</td><td>-1.2159614e-07</td><td>7.285388e-05</td><td>-7.285576e-05</td><td>-1.2011267e-07</td><td>False</td><td>336.7440194194919</td><td>-0.8174487287715466</td><td>0.11394297</td><td>0.0074392483</td><td>25.34262</td><td>25.346012</td><td>-0.005699924</td><td>0.0045985742</td><td>4.042547</td><td>22.392868</td><td>0.015978679</td><td>0.014134756</td><td>0.018232562</td><td>0.0</td><td>194</td><td>228</td><td>0</td><td>1728</td><td>14</td><td>2032</td><td>2215</td><td>0</td><td>2204</td><td>3297</td><td>3603</td><td>0.17940713</td><td>0.12163299</td><td>DR9.5.9</td><td>DR9.0.1-11-gb167e27c</td><td>V4.8.2a</td><td>V4.8.2a</td><td>-6.440953e-05</td></tr>\n",
       "<tr><td>8</td><td>decam/CP/V4.8.2a/CP20130929/c4d_130930_014909_ooi_r_ls9.fits.fz</td><td>11</td><td>decam</td><td>239604</td><td>V4.8.2a</td><td>2019-08-08T02:38:50</td><td>9545789</td><td>S23</td><td>DES survey hex -235-14 tiling 1</td><td>2012B-0001</td><td>r</td><td>90.0</td><td>56565.07579899</td><td>1.16</td><td>3.204066</td><td>2046</td><td>4094</td><td>336.4609</td><td>-1.4145</td><td>8913.4</td><td>-2212.333</td><td>336.4623595256</td><td>-1.412206548413</td><td>-1.3593198e-07</td><td>7.285414e-05</td><td>-7.28557e-05</td><td>-1.2936806e-07</td><td>False</td><td>336.77426284723924</td><td>-0.8366947080379886</td><td>0.110644884</td><td>0.007406441</td><td>25.336864</td><td>25.33762</td><td>-0.010329747</td><td>0.017180355</td><td>3.8349113</td><td>22.450119</td><td>0.013334822</td><td>0.02098242</td><td>0.01593177</td><td>0.0</td><td>184</td><td>219</td><td>0</td><td>1466</td><td>14</td><td>2032</td><td>1799</td><td>0</td><td>1794</td><td>3034</td><td>3606</td><td>0.18955706</td><td>0.12608984</td><td>DR9.5.9</td><td>DR9.0.1-27-g1f3e9a77</td><td>V4.8.2a</td><td>V4.8.2a</td><td>-6.440953e-05</td></tr>\n",
       "<tr><td>9</td><td>decam/CP/V4.8.2a/CP20131010/c4d_131011_015451_ooi_z_ls9.fits.fz</td><td>11</td><td>decam</td><td>242716</td><td>V4.8.2a</td><td>2019-08-08T11:07:29</td><td>9546420</td><td>S23</td><td>DES survey hex -235-14 tiling 1</td><td>2012B-0001</td><td>z</td><td>90.0</td><td>56576.07976804</td><td>1.14</td><td>3.324364</td><td>2046</td><td>4094</td><td>336.4609</td><td>-1.4145</td><td>8913.4</td><td>-2212.333</td><td>336.463507592</td><td>-1.412668501915</td><td>-1.3071602e-07</td><td>7.284686e-05</td><td>-7.284934e-05</td><td>-1.3261064e-07</td><td>False</td><td>336.7754343260798</td><td>-0.8371759286879891</td><td>0.20271578</td><td>0.017206434</td><td>25.072922</td><td>25.068596</td><td>-0.015690438</td><td>0.0031384705</td><td>13.317065</td><td>20.764484</td><td>0.018757947</td><td>0.011591033</td><td>0.020672744</td><td>0.0</td><td>188</td><td>217</td><td>0</td><td>1459</td><td>14</td><td>2032</td><td>1783</td><td>0</td><td>1778</td><td>3027</td><td>3606</td><td>0.16697153</td><td>0.11545152</td><td>DR9.5.9</td><td>DR9.0.1-11-gb167e27c</td><td>V4.8.2a</td><td>V4.8.2a</td><td>2.778646e-05</td></tr>\n",
       "<tr><td>10</td><td>decam/CP/V4.8.2/CP20160922/c4d_160923_023251_ooi_r_ls9.fits.fz</td><td>43</td><td>decam</td><td>576102</td><td>V4.8.2</td><td>2019-07-04T14:06:07</td><td>94fcabd</td><td>N13</td><td>DES survey hex -235-14 tiling 6</td><td>2012B-0001</td><td>r</td><td>90.0</td><td>57654.10452443</td><td>1.16</td><td>4.272619</td><td>2046</td><td>4094</td><td>335.997875</td><td>-0.9245555555555556</td><td>-2358.6</td><td>-8601.334</td><td>335.9978575972</td><td>-0.9245680992275</td><td>-1.5253983e-07</td><td>7.285339e-05</td><td>-7.285507e-05</td><td>-1.4701635e-07</td><td>False</td><td>336.77417383934886</td><td>-1.172775660381285</td><td>0.10159989</td><td>0.007854629</td><td>25.291182</td><td>25.289875</td><td>0.011068244</td><td>-0.0057455166</td><td>3.551965</td><td>22.533335</td><td>0.015180822</td><td>0.015334188</td><td>0.017093534</td><td>0.0</td><td>208</td><td>242</td><td>0</td><td>14</td><td>14</td><td>454</td><td>1797</td><td>0</td><td>1786</td><td>-1</td><td>442</td><td>0.13431449</td><td>0.10280171</td><td>DR9.5.9</td><td>DR9.0.1-27-g1f3e9a77</td><td>V4.8.2</td><td>V4.8.2</td><td>-6.440953e-05</td></tr>\n",
       "<tr><td>11</td><td>decam/CP/V4.8.2/CP20160922/c4d_160923_023448_ooi_g_ls9.fits.fz</td><td>43</td><td>decam</td><td>576103</td><td>V4.8.2</td><td>2019-07-04T11:58:43</td><td>94fc805</td><td>N13</td><td>DES survey hex -235-14 tiling 6</td><td>2012B-0001</td><td>g</td><td>90.0</td><td>57654.1059038</td><td>1.15</td><td>4.899249</td><td>2046</td><td>4094</td><td>335.998125</td><td>-0.9243055555555556</td><td>-2358.6</td><td>-8601.334</td><td>335.9981381608</td><td>-0.9243069979515</td><td>-1.5147033e-07</td><td>7.2852534e-05</td><td>-7.285496e-05</td><td>-1.4798067e-07</td><td>False</td><td>336.7744283764134</td><td>-1.1724914896830911</td><td>0.060777213</td><td>0.005716011</td><td>25.089157</td><td>25.089212</td><td>0.0004975187</td><td>0.0011470052</td><td>1.2490314</td><td>23.460073</td><td>0.020464072</td><td>0.023106862</td><td>0.023087356</td><td>0.0</td><td>212</td><td>243</td><td>0</td><td>14</td><td>14</td><td>458</td><td>1793</td><td>0</td><td>1783</td><td>-1</td><td>446</td><td>0.11627678</td><td>0.09369559</td><td>DR9.5.9</td><td>DR9.0.1-27-g1f3e9a77</td><td>V4.8.2</td><td>V4.8.2</td><td>-8.4510255e-05</td></tr>\n",
       "<tr><td>12</td><td>decam/CP/V4.8.2/CP20160928/c4d_160929_021007_ooi_z_ls9.fits.fz</td><td>43</td><td>decam</td><td>578631</td><td>V4.8.2</td><td>2019-07-04T16:25:59</td><td>94fcdd3</td><td>N13</td><td>DES survey hex -235-14 tiling 6</td><td>2012B-0001</td><td>z</td><td>90.0</td><td>57660.08874258</td><td>1.15</td><td>3.539168</td><td>2046</td><td>4094</td><td>335.9962083333333</td><td>-0.9238611111111111</td><td>-2358.6</td><td>-8601.334</td><td>335.9962283768</td><td>-0.9238561341224</td><td>-1.5585037e-07</td><td>7.284821e-05</td><td>-7.285069e-05</td><td>-1.538005e-07</td><td>False</td><td>336.77248642307285</td><td>-1.1721238074387448</td><td>0.22030997</td><td>0.022545172</td><td>25.013784</td><td>25.017384</td><td>0.007867912</td><td>-0.010750525</td><td>17.883192</td><td>20.444393</td><td>0.012367373</td><td>0.013749221</td><td>0.021727202</td><td>0.0</td><td>205</td><td>241</td><td>0</td><td>14</td><td>14</td><td>463</td><td>1820</td><td>0</td><td>1809</td><td>-1</td><td>451</td><td>0.15737368</td><td>0.11167848</td><td>DR9.5.9</td><td>DR9.0.1-27-g1f3e9a77</td><td>V4.8.2</td><td>V4.8.2</td><td>2.778646e-05</td></tr>\n",
       "<tr><td>13</td><td>decam/CP/V4.8.2a/CP20131009/c4d_131010_023434_ooi_r_ls9.fits.fz</td><td>26</td><td>decam</td><td>242438</td><td>V4.8.2a</td><td>2019-08-08T09:10:00</td><td>954619d</td><td>S2</td><td>DES survey hex -219-4 tiling 3</td><td>2012B-0001</td><td>r</td><td>90.0</td><td>56575.1073433</td><td>1.16</td><td>3.257394</td><td>2046</td><td>4094</td><td>337.51620833333334</td><td>-1.2284919444444444</td><td>2150.2</td><td>10565.67</td><td>337.5197557304</td><td>-1.229630097213</td><td>-1.2159614e-07</td><td>7.285388e-05</td><td>-7.285576e-05</td><td>-1.2011267e-07</td><td>False</td><td>336.89797840305334</td><td>-1.1462132672529757</td><td>0.10629988</td><td>0.0075455834</td><td>25.34329</td><td>25.346012</td><td>-0.012552498</td><td>0.0044596763</td><td>4.0335197</td><td>22.395296</td><td>0.016475694</td><td>0.012947815</td><td>0.019410824</td><td>0.0</td><td>202</td><td>229</td><td>0</td><td>14</td><td>14</td><td>818</td><td>100</td><td>0</td><td>87</td><td>1</td><td>808</td><td>0.17974581</td><td>0.122065425</td><td>DR9.5.9</td><td>DR9.0.1-11-gb167e27c</td><td>V4.8.2a</td><td>V4.8.2a</td><td>-6.440953e-05</td></tr>\n",
       "<tr><td>14</td><td>decam/CP/V4.8.2a/CP20130912/c4d_130913_041657_ooi_z_ls9.fits.fz</td><td>26</td><td>decam</td><td>233515</td><td>V4.8.2a</td><td>2019-08-07T22:00:06</td><td>9545103</td><td>S2</td><td>DES survey hex -219-4 tiling 3</td><td>2012B-0001</td><td>z</td><td>90.0</td><td>56548.17844174</td><td>1.15</td><td>3.410594</td><td>2046</td><td>4094</td><td>337.51620833333334</td><td>-1.2284919444444444</td><td>2150.2</td><td>10565.67</td><td>337.517550423</td><td>-1.227262763728</td><td>-1.2311062e-07</td><td>7.285069e-05</td><td>-7.285335e-05</td><td>-1.2749699e-07</td><td>False</td><td>336.8957950499653</td><td>-1.1437043806865075</td><td>0.1967788</td><td>0.018073525</td><td>25.045923</td><td>25.051502</td><td>-0.013791118</td><td>0.00084727834</td><td>13.622044</td><td>20.7399</td><td>0.015439614</td><td>0.0110592665</td><td>0.022903174</td><td>0.0</td><td>199</td><td>232</td><td>0</td><td>14</td><td>14</td><td>853</td><td>130</td><td>-1</td><td>117</td><td>1</td><td>843</td><td>0.16480803</td><td>0.114767976</td><td>DR9.5.9</td><td>DR9.0.1-11-gb167e27c</td><td>V4.8.2a</td><td>V4.8.2a</td><td>2.778646e-05</td></tr>\n",
       "<tr><td>15</td><td>decam/CP/V4.8.2a/CP20141020/c4d_141021_015854_ooi_g_ls9.fits.fz</td><td>25</td><td>decam</td><td>369756</td><td>V4.8.2a</td><td>2019-08-11T17:57:10</td><td>954d2a0</td><td>S2</td><td>DES survey hex -219-4 tiling 3</td><td>2012B-0001</td><td>g</td><td>90.0</td><td>56951.08096597</td><td>1.16</td><td>4.182653</td><td>2046</td><td>4094</td><td>337.51620833333334</td><td>-1.2284919444444444</td><td>2150.2</td><td>10565.67</td><td>337.5162183566</td><td>-1.227162463415</td><td>-1.3032033e-07</td><td>7.285313e-05</td><td>-7.285385e-05</td><td>-1.2954756e-07</td><td>False</td><td>336.8944277995949</td><td>-1.1436776384012781</td><td>0.066113606</td><td>0.006017131</td><td>25.128607</td><td>25.123192</td><td>0.0013054035</td><td>-0.020124458</td><td>1.5085518</td><td>23.255106</td><td>0.019055853</td><td>0.03328867</td><td>0.023915555</td><td>0.0</td><td>210</td><td>234</td><td>0</td><td>14</td><td>14</td><td>853</td><td>149</td><td>-1</td><td>135</td><td>1</td><td>843</td><td>0.11662595</td><td>0.09142027</td><td>DR9.5.9</td><td>DR9.0.1-27-g1f3e9a77</td><td>V4.8.2a</td><td>V4.8.2a</td><td>-8.4510255e-05</td></tr>\n",
       "<tr><td>16</td><td>decam/CP/V4.8.2a/CP20141013/c4d_141014_014535_ooi_g_ls9.fits.fz</td><td>25</td><td>decam</td><td>367454</td><td>V4.8.2a</td><td>2019-08-11T17:57:05</td><td>954d2a0</td><td>S2</td><td>DES survey hex -219-4 tiling 3</td><td>2012B-0001</td><td>g</td><td>90.0</td><td>56944.07169789</td><td>1.14</td><td>5.993855</td><td>2046</td><td>4094</td><td>337.51620833333334</td><td>-1.2284919444444444</td><td>2150.2</td><td>10565.67</td><td>337.5175594136</td><td>-1.226619259661</td><td>-1.3362141e-07</td><td>7.285382e-05</td><td>-7.28536e-05</td><td>-1.3085715e-07</td><td>False</td><td>336.8957703978439</td><td>-1.1431194889180825</td><td>0.060906902</td><td>0.005711304</td><td>25.093945</td><td>25.087221</td><td>-5.161168e-05</td><td>-0.016604608</td><td>1.2589349</td><td>23.451498</td><td>0.023640918</td><td>0.0357139</td><td>0.02349715</td><td>0.0</td><td>201</td><td>233</td><td>0</td><td>14</td><td>14</td><td>861</td><td>131</td><td>-1</td><td>117</td><td>1</td><td>851</td><td>0.08278045</td><td>0.07213055</td><td>DR9.5.9</td><td>DR9.0.1-27-g1f3e9a77</td><td>V4.8.2a</td><td>V4.8.2a</td><td>-8.4510255e-05</td></tr>\n",
       "<tr><td>17</td><td>decam/CP/V4.8.2a/CP20171108/c4d_171109_002003_ooi_g_ls9.fits.fz</td><td>17</td><td>decam</td><td>694142</td><td>V4.8.2a</td><td>2019-07-24T10:02:42</td><td>952682e</td><td>S18</td><td>DES survey hex -235-14 tiling 8</td><td>2012B-0001</td><td>g</td><td>90.0</td><td>58066.01393135</td><td>1.15</td><td>3.996305</td><td>2046</td><td>4094</td><td>336.22122083333335</td><td>-1.5497638888888887</td><td>6659.0</td><td>-4342.0</td><td>336.2256174351</td><td>-1.5484579785</td><td>-1.3821646e-07</td><td>7.284893e-05</td><td>-7.2850744e-05</td><td>-1.3884555e-07</td><td>False</td><td>336.69282328266485</td><td>-1.137747998407979</td><td>0.09185384</td><td>0.009337839</td><td>25.015911</td><td>25.022644</td><td>0.030555962</td><td>-0.009288755</td><td>3.168282</td><td>22.449448</td><td>0.03268201</td><td>0.03235947</td><td>0.024256213</td><td>0.0</td><td>234</td><td>268</td><td>0</td><td>14</td><td>14</td><td>937</td><td>2913</td><td>0</td><td>2910</td><td>-8</td><td>927</td><td>0.13446447</td><td>0.101846956</td><td>DR9.5.9</td><td>DR9.0.1-27-g1f3e9a77</td><td>V4.8.2a</td><td>V4.8.2a</td><td>-8.4510255e-05</td></tr>\n",
       "<tr><td>18</td><td>decam/CP/V4.8.2a/CP20170926/c4d_170927_025457_ooi_r_ls9.fits.fz</td><td>17</td><td>decam</td><td>681991</td><td>V4.8.2a</td><td>2019-07-23T20:32:01</td><td>95254c6</td><td>S18</td><td>DES survey hex -235-14 tiling 8</td><td>2012B-0001</td><td>r</td><td>90.0</td><td>58023.12149533</td><td>1.14</td><td>3.466718</td><td>2046</td><td>4094</td><td>336.22122083333335</td><td>-1.5497638888888887</td><td>6659.0</td><td>-4342.0</td><td>336.2301008356</td><td>-1.541801022795</td><td>-1.3388022e-07</td><td>7.285396e-05</td><td>-7.285599e-05</td><td>-1.3169732e-07</td><td>False</td><td>336.6973341442237</td><td>-1.1310302917070645</td><td>0.11427425</td><td>0.009210677</td><td>25.241686</td><td>25.242157</td><td>0.008996865</td><td>-0.02002512</td><td>4.7065253</td><td>22.227755</td><td>0.012290618</td><td>0.026024187</td><td>0.016906478</td><td>0.0</td><td>228</td><td>267</td><td>0</td><td>14</td><td>14</td><td>1029</td><td>2851</td><td>1</td><td>2849</td><td>-8</td><td>1019</td><td>0.15519972</td><td>0.11023673</td><td>DR9.5.9</td><td>DR9.0.1-27-g1f3e9a77</td><td>V4.8.2a</td><td>V4.8.2a</td><td>-6.440953e-05</td></tr>\n",
       "<tr><td>19</td><td>decam/CP/V4.8.2a/CP20170926/c4d_170927_025655_ooi_z_ls9.fits.fz</td><td>17</td><td>decam</td><td>681992</td><td>V4.8.2a</td><td>2019-07-20T19:45:47</td><td>951ee00</td><td>S18</td><td>DES survey hex -235-14 tiling 8</td><td>2012B-0001</td><td>z</td><td>90.0</td><td>58023.12286809</td><td>1.14</td><td>2.948137</td><td>2046</td><td>4094</td><td>336.229875</td><td>-1.5416666666666665</td><td>6659.0</td><td>-4342.0</td><td>336.2298657446</td><td>-1.541653145183</td><td>-1.3660662e-07</td><td>7.284871e-05</td><td>-7.285018e-05</td><td>-1.3839802e-07</td><td>False</td><td>336.6971849717049</td><td>-1.1309225561513865</td><td>0.23407322</td><td>0.023779424</td><td>24.982426</td><td>24.987888</td><td>-3.891161e-05</td><td>-0.023863727</td><td>19.735518</td><td>20.337385</td><td>0.012940113</td><td>0.027286392</td><td>0.01849386</td><td>0.0</td><td>232</td><td>268</td><td>0</td><td>14</td><td>14</td><td>1031</td><td>2853</td><td>1</td><td>2851</td><td>-8</td><td>1021</td><td>0.1754433</td><td>0.116507426</td><td>DR9.5.9</td><td>DR9.0.1-27-g1f3e9a77</td><td>V4.8.2a</td><td>V4.8.2a</td><td>2.778646e-05</td></tr>\n",
       "<tr><td>20</td><td>decam/CP/V4.8.2a/CP20180916/c4d_180917_052240_ooi_z_ls9.fits.fz</td><td>36</td><td>decam</td><td>774708</td><td>V4.8.2a</td><td>2019-11-05T00:52:47</td><td>9600d2c</td><td>N5</td><td>DES survey hex -235-14 tiling 10</td><td>2012B-0001</td><td>z</td><td>90.0</td><td>58378.22407526</td><td>1.31</td><td>2.873284</td><td>2046</td><td>4094</td><td>336.4129791666666</td><td>-1.025616111111111</td><td>-104.2001</td><td>-2212.333</td><td>336.4149780806</td><td>-1.02305128285</td><td>-1.4484344e-07</td><td>7.285473e-05</td><td>-7.285372e-05</td><td>-1.5614769e-07</td><td>False</td><td>336.7260076690764</td><td>-1.1061553461050673</td><td>0.23717919</td><td>0.022449024</td><td>25.047953</td><td>25.048985</td><td>0.0041067735</td><td>-0.04511448</td><td>18.557638</td><td>20.4042</td><td>0.01035272</td><td>0.04636494</td><td>0.024433814</td><td>0.0</td><td>187</td><td>232</td><td>0</td><td>14</td><td>14</td><td>1365</td><td>2458</td><td>-1</td><td>2459</td><td>-2</td><td>1360</td><td>0.1850863</td><td>0.121047184</td><td>DR9.5.9</td><td>dr9c2-35-gd97c723b</td><td>V4.8.2a</td><td>V4.8.2a</td><td>2.778646e-05</td></tr>\n",
       "<tr><td>21</td><td>decam/CP/V4.8.2a/CP20180916/c4d_180917_052437_ooi_g_ls9.fits.fz</td><td>36</td><td>decam</td><td>774709</td><td>V4.8.2a</td><td>2019-11-02T04:37:24</td><td>95fac5d</td><td>N5</td><td>DES survey hex -235-14 tiling 10</td><td>2012B-0001</td><td>g</td><td>90.0</td><td>58378.22543866</td><td>1.32</td><td>3.560123</td><td>2046</td><td>4094</td><td>336.4129791666666</td><td>-1.025616111111111</td><td>-104.2001</td><td>-2212.333</td><td>336.4146385017</td><td>-1.023009368798</td><td>-1.438463e-07</td><td>7.28586e-05</td><td>-7.285739e-05</td><td>-1.5169364e-07</td><td>False</td><td>336.7256333821965</td><td>-1.1061068291538445</td><td>0.081612885</td><td>0.007063933</td><td>25.179846</td><td>25.18298</td><td>0.020482924</td><td>-0.04799291</td><td>2.039585</td><td>22.927652</td><td>0.030569542</td><td>0.054651313</td><td>0.025359059</td><td>0.0</td><td>208</td><td>230</td><td>0</td><td>14</td><td>14</td><td>1365</td><td>2463</td><td>-1</td><td>2464</td><td>-1</td><td>1360</td><td>0.15741287</td><td>0.11205117</td><td>DR9.5.9</td><td>dr9c2-35-gd97c723b</td><td>V4.8.2a</td><td>V4.8.2a</td><td>-8.4510255e-05</td></tr>\n",
       "<tr><td>22</td><td>decam/CP/V4.8.2a/CP20180916/c4d_180917_052835_ooi_r_ls9.fits.fz</td><td>36</td><td>decam</td><td>774711</td><td>V4.8.2a</td><td>2019-11-02T23:15:02</td><td>95fc861</td><td>N5</td><td>DES survey hex -235-14 tiling 10</td><td>2012B-0001</td><td>r</td><td>90.0</td><td>58378.2281857</td><td>1.33</td><td>3.259918</td><td>2046</td><td>4094</td><td>336.4129791666666</td><td>-1.025616111111111</td><td>-104.2001</td><td>-2212.333</td><td>336.4142663324</td><td>-1.022848672079</td><td>-1.530703e-07</td><td>7.286071e-05</td><td>-7.285883e-05</td><td>-1.6076847e-07</td><td>False</td><td>336.72528726472916</td><td>-1.1060030059836807</td><td>0.11191484</td><td>0.008087001</td><td>25.356815</td><td>25.351803</td><td>0.010976726</td><td>-0.046556912</td><td>4.1260953</td><td>22.370659</td><td>0.016763136</td><td>0.049321968</td><td>0.01778673</td><td>0.0</td><td>189</td><td>224</td><td>0</td><td>14</td><td>14</td><td>1367</td><td>2468</td><td>-1</td><td>2469</td><td>-2</td><td>1362</td><td>0.1677224</td><td>0.1159222</td><td>DR9.5.9</td><td>dr9c2-35-gd97c723b</td><td>V4.8.2a</td><td>V4.8.2a</td><td>-6.440953e-05</td></tr>\n",
       "<tr><td>23</td><td>decam/CP/V4.8.2/CP20161105/c4d_161106_001854_ooi_z_ls9.fits.fz</td><td>32</td><td>decam</td><td>590083</td><td>V4.8.2</td><td>2019-07-05T09:04:39</td><td>94fe45e</td><td>N2</td><td>DES survey hex -235-14 tiling 7</td><td>2012B-0001</td><td>z</td><td>90.0</td><td>57698.01151984</td><td>1.15</td><td>2.749298</td><td>2046</td><td>4094</td><td>337.407125</td><td>-1.0083333333333333</td><td>-104.2001</td><td>10565.67</td><td>337.4071047726</td><td>-1.008335503463</td><td>-1.4766674e-07</td><td>7.2843635e-05</td><td>-7.2845905e-05</td><td>-1.4925436e-07</td><td>False</td><td>336.7850339196955</td><td>-1.0892930546078634</td><td>0.27991423</td><td>0.028053993</td><td>24.99273</td><td>25.001724</td><td>-0.0075396146</td><td>-0.015376882</td><td>27.153122</td><td>19.990957</td><td>0.01362537</td><td>0.018341098</td><td>0.024387559</td><td>0.0</td><td>212</td><td>250</td><td>0</td><td>14</td><td>14</td><td>1600</td><td>1651</td><td>-2</td><td>1639</td><td>-4</td><td>1593</td><td>0.20627257</td><td>0.12899901</td><td>DR9.5.9</td><td>DR9.0.1-27-g1f3e9a77</td><td>V4.8.2</td><td>V4.8.2</td><td>2.778646e-05</td></tr>\n",
       "<tr><td>24</td><td>decam/CP/V4.8.2/CP20161004/c4d_161005_021413_ooi_r_ls9.fits.fz</td><td>32</td><td>decam</td><td>580836</td><td>V4.8.2</td><td>2019-07-05T06:06:45</td><td>94fe07f</td><td>N2</td><td>DES survey hex -235-14 tiling 7</td><td>2012B-0001</td><td>r</td><td>90.0</td><td>57666.09160195</td><td>1.15</td><td>3.991395</td><td>2046</td><td>4094</td><td>337.40375</td><td>-1.0080833333333334</td><td>-104.2001</td><td>10565.67</td><td>337.4037440071</td><td>-1.008087589488</td><td>-1.4230558e-07</td><td>7.285262e-05</td><td>-7.2854855e-05</td><td>-1.3701803e-07</td><td>False</td><td>336.78162680264376</td><td>-1.0892378710648138</td><td>0.10316713</td><td>0.007631927</td><td>25.295444</td><td>25.288704</td><td>-0.021233415</td><td>0.003399118</td><td>3.487467</td><td>22.55323</td><td>0.02570532</td><td>0.012203203</td><td>0.022140821</td><td>0.0</td><td>225</td><td>252</td><td>0</td><td>14</td><td>14</td><td>1600</td><td>1698</td><td>-2</td><td>1686</td><td>-4</td><td>1593</td><td>0.14204128</td><td>0.10648633</td><td>DR9.5.9</td><td>DR9.0.1-27-g1f3e9a77</td><td>V4.8.2</td><td>V4.8.2</td><td>-6.440953e-05</td></tr>\n",
       "<tr><td>25</td><td>decam/CP/V4.8.2/CP20161004/c4d_161005_021618_ooi_g_ls9.fits.fz</td><td>32</td><td>decam</td><td>580837</td><td>V4.8.2</td><td>2019-07-05T03:26:30</td><td>94fdcf5</td><td>N2</td><td>DES survey hex -235-14 tiling 7</td><td>2012B-0001</td><td>g</td><td>90.0</td><td>57666.09297806</td><td>1.15</td><td>4.571445</td><td>2046</td><td>4094</td><td>337.4032916666667</td><td>-1.0079722222222223</td><td>-104.2001</td><td>10565.67</td><td>337.4032885537</td><td>-1.007984217422</td><td>-1.4110995e-07</td><td>7.285122e-05</td><td>-7.285386e-05</td><td>-1.3771313e-07</td><td>False</td><td>336.78115812992917</td><td>-1.0891308219331979</td><td>0.063725695</td><td>0.005687605</td><td>25.09257</td><td>25.092487</td><td>0.005692813</td><td>-0.021527983</td><td>1.2694116</td><td>23.442501</td><td>0.015775586</td><td>0.03141825</td><td>0.023368549</td><td>0.0</td><td>215</td><td>252</td><td>0</td><td>14</td><td>14</td><td>1601</td><td>1704</td><td>-2</td><td>1693</td><td>-3</td><td>1594</td><td>0.12512255</td><td>0.098728515</td><td>DR9.5.9</td><td>DR9.0.1-27-g1f3e9a77</td><td>V4.8.2</td><td>V4.8.2</td><td>-8.4510255e-05</td></tr>\n",
       "<tr><td>26</td><td>decam/CP/V4.8.2a/CP20160814/c4d_160815_051951_ooi_z_ls9.fits.fz</td><td>28</td><td>decam</td><td>564496</td><td>V4.8.2a</td><td>2019-08-09T13:44:36</td><td>95478a4</td><td>S5</td><td>DES survey hex -235-14 tiling 5</td><td>2012B-0001</td><td>z</td><td>90.0</td><td>57615.22049168</td><td>1.15</td><td>5.076615</td><td>2046</td><td>4094</td><td>336.5248</td><td>-1.1270638888888889</td><td>2150.2</td><td>-2212.333</td><td>336.5292451908</td><td>-1.128282693429</td><td>-1.5174174e-07</td><td>7.285412e-05</td><td>-7.285609e-05</td><td>-1.5107703e-07</td><td>False</td><td>336.8408409930952</td><td>-1.0465905721734032</td><td>0.25423855</td><td>0.024987122</td><td>25.01479</td><td>25.010796</td><td>0.0037798996</td><td>-0.010584049</td><td>22.50233</td><td>20.194939</td><td>0.012857877</td><td>0.01616203</td><td>0.027893627</td><td>0.0</td><td>214</td><td>246</td><td>0</td><td>14</td><td>14</td><td>2032</td><td>891</td><td>-3</td><td>882</td><td>148</td><td>2180</td><td>0.10767935</td><td>0.087904446</td><td>DR9.5.9</td><td>DR9.0.1-27-g1f3e9a77</td><td>V4.8.2a</td><td>V4.8.2a</td><td>2.778646e-05</td></tr>\n",
       "<tr><td>27</td><td>decam/CP/V4.8.2a/CP20151107/c4d_151108_003731_ooi_g_ls9.fits.fz</td><td>28</td><td>decam</td><td>490983</td><td>V4.8.2a</td><td>2019-09-05T13:32:05</td><td>958078a</td><td>S5</td><td>DES survey hex -235-14 tiling 5</td><td>2012B-0001</td><td>g</td><td>90.0</td><td>57334.02443758</td><td>1.16</td><td>3.655446</td><td>2046</td><td>4094</td><td>336.5248</td><td>-1.1270638888888889</td><td>2150.2</td><td>-2212.333</td><td>336.5225904079</td><td>-1.12347824887</td><td>-1.2075571e-07</td><td>7.284943e-05</td><td>-7.285185e-05</td><td>-1.208151e-07</td><td>False</td><td>336.83406969871095</td><td>-1.0416856216369799</td><td>0.06841852</td><td>0.00665816</td><td>25.060444</td><td>25.06161</td><td>0.015188618</td><td>-0.03265252</td><td>1.4893953</td><td>23.268982</td><td>0.022814706</td><td>0.04463909</td><td>0.033213794</td><td>0.0</td><td>225</td><td>251</td><td>0</td><td>14</td><td>14</td><td>2032</td><td>983</td><td>-2</td><td>974</td><td>215</td><td>2246</td><td>0.14794825</td><td>0.10785437</td><td>DR9.5.9</td><td>DR9.0.1-45-g5eef153a</td><td>V4.8.2a</td><td>V4.8.2a</td><td>-8.4510255e-05</td></tr>\n",
       "<tr><td>28</td><td>decam/CP/V4.8.2a/CP20151107/c4d_151108_003333_ooi_r_ls9.fits.fz</td><td>28</td><td>decam</td><td>490981</td><td>V4.8.2a</td><td>2019-08-22T17:41:51</td><td>95645c8</td><td>S5</td><td>DES survey hex -235-14 tiling 5</td><td>2012B-0001</td><td>r</td><td>90.0</td><td>57334.0216954</td><td>1.15</td><td>3.308981</td><td>2046</td><td>4094</td><td>336.5248</td><td>-1.1270638888888889</td><td>2150.2</td><td>-2212.333</td><td>336.5229428565</td><td>-1.123180699319</td><td>-1.2241655e-07</td><td>7.2851006e-05</td><td>-7.285233e-05</td><td>-1.2040907e-07</td><td>False</td><td>336.83444693952134</td><td>-1.0414005900622887</td><td>0.1097982</td><td>0.008647918</td><td>25.258722</td><td>25.25532</td><td>0.01432246</td><td>-0.023173273</td><td>4.0792265</td><td>22.383062</td><td>0.018424528</td><td>0.028305266</td><td>0.019672625</td><td>0.0</td><td>213</td><td>249</td><td>0</td><td>14</td><td>14</td><td>2032</td><td>977</td><td>-1</td><td>969</td><td>219</td><td>2250</td><td>0.16733399</td><td>0.11557721</td><td>DR9.5.9</td><td>DR9.0.1-27-g1f3e9a77</td><td>V4.8.2a</td><td>V4.8.2a</td><td>-6.440953e-05</td></tr>\n",
       "<tr><td>29</td><td>decam/CP/V4.8.2a/CP20131009/c4d_131010_023434_ooi_r_ls9.fits.fz</td><td>19</td><td>decam</td><td>242438</td><td>V4.8.2a</td><td>2019-08-08T09:10:00</td><td>954619d</td><td>S8</td><td>DES survey hex -219-4 tiling 3</td><td>2012B-0001</td><td>r</td><td>90.0</td><td>56575.1073433</td><td>1.16</td><td>3.446333</td><td>2046</td><td>4094</td><td>337.51620833333334</td><td>-1.2284919444444444</td><td>4404.6</td><td>12695.33</td><td>337.5197557304</td><td>-1.229630097213</td><td>-1.2159614e-07</td><td>7.285388e-05</td><td>-7.285576e-05</td><td>-1.2011267e-07</td><td>False</td><td>336.7436392686461</td><td>-0.9815230983977996</td><td>0.1067782</td><td>0.0074289944</td><td>25.34481</td><td>25.346012</td><td>-0.013927229</td><td>0.00910017</td><td>4.038049</td><td>22.394077</td><td>0.01781208</td><td>0.0152221015</td><td>0.02138828</td><td>0.0</td><td>188</td><td>233</td><td>0</td><td>14</td><td>14</td><td>2032</td><td>2220</td><td>-4</td><td>2208</td><td>1042</td><td>3069</td><td>0.17884491</td><td>0.12186324</td><td>DR9.5.9</td><td>DR9.0.1-11-gb167e27c</td><td>V4.8.2a</td><td>V4.8.2a</td><td>-6.440953e-05</td></tr>\n",
       "<tr><td>30</td><td>decam/CP/V4.8.2a/CP20130912/c4d_130913_041657_ooi_z_ls9.fits.fz</td><td>19</td><td>decam</td><td>233515</td><td>V4.8.2a</td><td>2019-08-07T22:00:06</td><td>9545103</td><td>S8</td><td>DES survey hex -219-4 tiling 3</td><td>2012B-0001</td><td>z</td><td>90.0</td><td>56548.17844174</td><td>1.15</td><td>3.536361</td><td>2046</td><td>4094</td><td>337.51620833333334</td><td>-1.2284919444444444</td><td>4404.6</td><td>12695.33</td><td>337.517550423</td><td>-1.227262763728</td><td>-1.2311062e-07</td><td>7.285069e-05</td><td>-7.285335e-05</td><td>-1.2749699e-07</td><td>False</td><td>336.74149087533783</td><td>-0.9789945631851599</td><td>0.19624975</td><td>0.017648237</td><td>25.056774</td><td>25.051502</td><td>-0.01646844</td><td>0.00997828</td><td>13.666254</td><td>20.736383</td><td>0.019033484</td><td>0.014167943</td><td>0.015170423</td><td>0.0</td><td>193</td><td>229</td><td>0</td><td>14</td><td>14</td><td>2032</td><td>2249</td><td>-4</td><td>2237</td><td>1077</td><td>3103</td><td>0.16055278</td><td>0.113000035</td><td>DR9.5.9</td><td>DR9.0.1-11-gb167e27c</td><td>V4.8.2a</td><td>V4.8.2a</td><td>2.778646e-05</td></tr>\n",
       "<tr><td>31</td><td>decam/CP/V4.8.2a/CP20141020/c4d_141021_015854_ooi_g_ls9.fits.fz</td><td>18</td><td>decam</td><td>369756</td><td>V4.8.2a</td><td>2019-08-11T17:57:10</td><td>954d2a0</td><td>S8</td><td>DES survey hex -219-4 tiling 3</td><td>2012B-0001</td><td>g</td><td>90.0</td><td>56951.08096597</td><td>1.16</td><td>4.345504</td><td>2046</td><td>4094</td><td>337.51620833333334</td><td>-1.2284919444444444</td><td>4404.6</td><td>12695.33</td><td>337.5162183566</td><td>-1.227162463415</td><td>-1.3032033e-07</td><td>7.285313e-05</td><td>-7.285385e-05</td><td>-1.2954756e-07</td><td>False</td><td>336.74009997713296</td><td>-0.9789702257083438</td><td>0.064436845</td><td>0.005987259</td><td>25.115383</td><td>25.123192</td><td>-0.006754375</td><td>0.0038349554</td><td>1.50953</td><td>23.254402</td><td>0.019754324</td><td>0.026896609</td><td>0.021187253</td><td>0.0</td><td>195</td><td>231</td><td>0</td><td>14</td><td>14</td><td>2032</td><td>2268</td><td>-4</td><td>2257</td><td>1077</td><td>3104</td><td>0.1146642</td><td>0.09053396</td><td>DR9.5.9</td><td>DR9.0.1-27-g1f3e9a77</td><td>V4.8.2a</td><td>V4.8.2a</td><td>-8.4510255e-05</td></tr>\n",
       "<tr><td>32</td><td>decam/CP/V4.8.2a/CP20141013/c4d_141014_014535_ooi_g_ls9.fits.fz</td><td>18</td><td>decam</td><td>367454</td><td>V4.8.2a</td><td>2019-08-11T17:57:05</td><td>954d2a0</td><td>S8</td><td>DES survey hex -219-4 tiling 3</td><td>2012B-0001</td><td>g</td><td>90.0</td><td>56944.07169789</td><td>1.14</td><td>6.300678</td><td>2046</td><td>4094</td><td>337.51620833333334</td><td>-1.2284919444444444</td><td>4404.6</td><td>12695.33</td><td>337.5175594136</td><td>-1.226619259661</td><td>-1.3362141e-07</td><td>7.285382e-05</td><td>-7.28536e-05</td><td>-1.3085715e-07</td><td>False</td><td>336.7414536988536</td><td>-0.9784120430278007</td><td>0.060019635</td><td>0.0056922585</td><td>25.078753</td><td>25.087221</td><td>-0.017744184</td><td>-0.027611483</td><td>1.2623956</td><td>23.448519</td><td>0.033304308</td><td>0.046278752</td><td>0.025639648</td><td>0.0</td><td>186</td><td>230</td><td>0</td><td>14</td><td>14</td><td>2032</td><td>2250</td><td>-5</td><td>2238</td><td>1085</td><td>3111</td><td>0.08198162</td><td>0.071647055</td><td>DR9.5.9</td><td>DR9.0.1-27-g1f3e9a77</td><td>V4.8.2a</td><td>V4.8.2a</td><td>-8.4510255e-05</td></tr>\n",
       "<tr><td>33</td><td>decam/CP/V4.8.2a/CP20171108/c4d_171109_002003_ooi_g_ls9.fits.fz</td><td>12</td><td>decam</td><td>694142</td><td>V4.8.2a</td><td>2019-07-24T10:02:42</td><td>952682e</td><td>S24</td><td>DES survey hex -235-14 tiling 8</td><td>2012B-0001</td><td>g</td><td>90.0</td><td>58066.01393135</td><td>1.15</td><td>4.255116</td><td>2046</td><td>4094</td><td>336.22122083333335</td><td>-1.5497638888888887</td><td>8913.4</td><td>-6471.667</td><td>336.2256174351</td><td>-1.5484579785</td><td>-1.3821646e-07</td><td>7.284893e-05</td><td>-7.2850744e-05</td><td>-1.3884555e-07</td><td>False</td><td>336.8479466150403</td><td>-0.9741142624164123</td><td>0.09927218</td><td>0.009113019</td><td>25.023785</td><td>25.022644</td><td>0.0052542407</td><td>-0.034383077</td><td>3.1790314</td><td>22.44577</td><td>0.020626958</td><td>0.045370236</td><td>0.038685873</td><td>0.0</td><td>194</td><td>231</td><td>0</td><td>14</td><td>14</td><td>2032</td><td>788</td><td>0</td><td>777</td><td>1150</td><td>3175</td><td>0.13013318</td><td>0.09979919</td><td>DR9.5.9</td><td>DR9.0.1-27-g1f3e9a77</td><td>V4.8.2a</td><td>V4.8.2a</td><td>-8.4510255e-05</td></tr>\n",
       "<tr><td>34</td><td>decam/CP/V4.8.2a/CP20170926/c4d_170927_025457_ooi_r_ls9.fits.fz</td><td>12</td><td>decam</td><td>681991</td><td>V4.8.2a</td><td>2019-07-23T20:32:01</td><td>95254c6</td><td>S24</td><td>DES survey hex -235-14 tiling 8</td><td>2012B-0001</td><td>r</td><td>90.0</td><td>58023.12149533</td><td>1.14</td><td>3.748243</td><td>2046</td><td>4094</td><td>336.22122083333335</td><td>-1.5497638888888887</td><td>8913.4</td><td>-6471.667</td><td>336.2301008356</td><td>-1.541801022795</td><td>-1.3388022e-07</td><td>7.285396e-05</td><td>-7.285599e-05</td><td>-1.3169732e-07</td><td>False</td><td>336.8524432518463</td><td>-0.967378976337891</td><td>0.119137846</td><td>0.009070591</td><td>25.242634</td><td>25.242157</td><td>-0.0019649677</td><td>-0.020939365</td><td>4.729995</td><td>22.222355</td><td>0.009918557</td><td>0.02797296</td><td>0.020068532</td><td>0.0</td><td>179</td><td>223</td><td>0</td><td>14</td><td>14</td><td>2032</td><td>727</td><td>0</td><td>715</td><td>1242</td><td>3267</td><td>0.15091425</td><td>0.108644076</td><td>DR9.5.9</td><td>DR9.0.1-27-g1f3e9a77</td><td>V4.8.2a</td><td>V4.8.2a</td><td>-6.440953e-05</td></tr>\n",
       "<tr><td>35</td><td>decam/CP/V4.8.2a/CP20170926/c4d_170927_025655_ooi_z_ls9.fits.fz</td><td>12</td><td>decam</td><td>681992</td><td>V4.8.2a</td><td>2019-07-20T19:45:47</td><td>951ee00</td><td>S24</td><td>DES survey hex -235-14 tiling 8</td><td>2012B-0001</td><td>z</td><td>90.0</td><td>58023.12286809</td><td>1.14</td><td>3.094095</td><td>2046</td><td>4094</td><td>336.229875</td><td>-1.5416666666666665</td><td>8913.4</td><td>-6471.667</td><td>336.2298657446</td><td>-1.541653145183</td><td>-1.3660662e-07</td><td>7.284871e-05</td><td>-7.285018e-05</td><td>-1.3839802e-07</td><td>False</td><td>336.8523026824354</td><td>-0.9673180505795316</td><td>0.23717608</td><td>0.023105357</td><td>24.991194</td><td>24.987888</td><td>0.0029353958</td><td>-0.009868175</td><td>19.73004</td><td>20.337687</td><td>0.0099623725</td><td>0.015186791</td><td>0.019150414</td><td>0.0</td><td>183</td><td>224</td><td>0</td><td>14</td><td>14</td><td>2032</td><td>729</td><td>0</td><td>717</td><td>1244</td><td>3269</td><td>0.17542908</td><td>0.11670666</td><td>DR9.5.9</td><td>DR9.0.1-27-g1f3e9a77</td><td>V4.8.2a</td><td>V4.8.2a</td><td>2.778646e-05</td></tr>\n",
       "<tr><td>36</td><td>decam/CP/V4.8.2a/CP20180916/c4d_180917_052240_ooi_z_ls9.fits.fz</td><td>29</td><td>decam</td><td>774708</td><td>V4.8.2a</td><td>2019-11-05T00:52:47</td><td>9600d2c</td><td>S5</td><td>DES survey hex -235-14 tiling 10</td><td>2012B-0001</td><td>z</td><td>90.0</td><td>58378.22407526</td><td>1.31</td><td>2.936857</td><td>2046</td><td>4094</td><td>336.4129791666666</td><td>-1.025616111111111</td><td>2150.2</td><td>-2212.333</td><td>336.4149780806</td><td>-1.02305128285</td><td>-1.4484344e-07</td><td>7.285473e-05</td><td>-7.285372e-05</td><td>-1.5614769e-07</td><td>False</td><td>336.726560898206</td><td>-0.941395257680018</td><td>0.23496443</td><td>0.021993533</td><td>25.060995</td><td>25.048985</td><td>0.013906258</td><td>-0.041612823</td><td>18.671637</td><td>20.39755</td><td>0.017263252</td><td>0.04333967</td><td>0.017687755</td><td>0.0</td><td>191</td><td>240</td><td>0</td><td>33</td><td>14</td><td>2032</td><td>2452</td><td>-2</td><td>2452</td><td>1590</td><td>3606</td><td>0.1841392</td><td>0.12087041</td><td>DR9.5.9</td><td>dr9c2-35-gd97c723b</td><td>V4.8.2a</td><td>V4.8.2a</td><td>2.778646e-05</td></tr>\n",
       "<tr><td>37</td><td>decam/CP/V4.8.2a/CP20180916/c4d_180917_052437_ooi_g_ls9.fits.fz</td><td>29</td><td>decam</td><td>774709</td><td>V4.8.2a</td><td>2019-11-02T04:37:24</td><td>95fac5d</td><td>S5</td><td>DES survey hex -235-14 tiling 10</td><td>2012B-0001</td><td>g</td><td>90.0</td><td>58378.22543866</td><td>1.32</td><td>3.590473</td><td>2046</td><td>4094</td><td>336.4129791666666</td><td>-1.025616111111111</td><td>2150.2</td><td>-2212.333</td><td>336.4146385017</td><td>-1.023009368798</td><td>-1.438463e-07</td><td>7.28586e-05</td><td>-7.285739e-05</td><td>-1.5169364e-07</td><td>False</td><td>336.72616322309125</td><td>-0.9413516574622458</td><td>0.0789952</td><td>0.0068217223</td><td>25.183617</td><td>25.18298</td><td>0.024903536</td><td>-0.046779044</td><td>2.0508199</td><td>22.921688</td><td>0.03403721</td><td>0.053343937</td><td>0.024541859</td><td>0.0</td><td>200</td><td>238</td><td>0</td><td>33</td><td>14</td><td>2032</td><td>2457</td><td>-2</td><td>2457</td><td>1591</td><td>3606</td><td>0.15661578</td><td>0.11190709</td><td>DR9.5.9</td><td>dr9c2-35-gd97c723b</td><td>V4.8.2a</td><td>V4.8.2a</td><td>-8.4510255e-05</td></tr>\n",
       "<tr><td>38</td><td>decam/CP/V4.8.2a/CP20180916/c4d_180917_052835_ooi_r_ls9.fits.fz</td><td>29</td><td>decam</td><td>774711</td><td>V4.8.2a</td><td>2019-11-02T23:15:02</td><td>95fc861</td><td>S5</td><td>DES survey hex -235-14 tiling 10</td><td>2012B-0001</td><td>r</td><td>90.0</td><td>58378.2281857</td><td>1.33</td><td>3.467763</td><td>2046</td><td>4094</td><td>336.4129791666666</td><td>-1.025616111111111</td><td>2150.2</td><td>-2212.333</td><td>336.4142663324</td><td>-1.022848672079</td><td>-1.530703e-07</td><td>7.286071e-05</td><td>-7.285883e-05</td><td>-1.6076847e-07</td><td>False</td><td>336.72583759719015</td><td>-0.9412405014137226</td><td>0.11138575</td><td>0.007950065</td><td>25.355522</td><td>25.351803</td><td>0.017198484</td><td>-0.03770848</td><td>4.147126</td><td>22.365139</td><td>0.021796819</td><td>0.039800532</td><td>0.02395315</td><td>0.0</td><td>193</td><td>233</td><td>0</td><td>35</td><td>14</td><td>2032</td><td>2462</td><td>-3</td><td>2462</td><td>1593</td><td>3606</td><td>0.16540056</td><td>0.11538647</td><td>DR9.5.9</td><td>dr9c2-35-gd97c723b</td><td>V4.8.2a</td><td>V4.8.2a</td><td>-6.440953e-05</td></tr>\n",
       "<tr><td>39</td><td>decam/CP/V4.8.2/CP20161105/c4d_161106_001854_ooi_z_ls9.fits.fz</td><td>25</td><td>decam</td><td>590083</td><td>V4.8.2</td><td>2019-07-05T09:04:39</td><td>94fe45e</td><td>S2</td><td>DES survey hex -235-14 tiling 7</td><td>2012B-0001</td><td>z</td><td>90.0</td><td>57698.01151984</td><td>1.15</td><td>2.873025</td><td>2046</td><td>4094</td><td>337.407125</td><td>-1.0083333333333333</td><td>2150.2</td><td>10565.67</td><td>337.4071047726</td><td>-1.008335503463</td><td>-1.4766674e-07</td><td>7.2843635e-05</td><td>-7.2845905e-05</td><td>-1.4925436e-07</td><td>False</td><td>336.78547915227574</td><td>-0.9246149746415188</td><td>0.2802214</td><td>0.027713954</td><td>25.01033</td><td>25.001724</td><td>0.018457565</td><td>-0.015397242</td><td>27.126322</td><td>19.99203</td><td>0.027462207</td><td>0.019076928</td><td>0.026832342</td><td>0.0</td><td>201</td><td>232</td><td>0</td><td>263</td><td>14</td><td>2032</td><td>1646</td><td>-4</td><td>1635</td><td>1824</td><td>3604</td><td>0.20320858</td><td>0.12808585</td><td>DR9.5.9</td><td>DR9.0.1-27-g1f3e9a77</td><td>V4.8.2</td><td>V4.8.2</td><td>2.778646e-05</td></tr>\n",
       "<tr><td>40</td><td>decam/CP/V4.8.2/CP20161004/c4d_161005_021413_ooi_r_ls9.fits.fz</td><td>25</td><td>decam</td><td>580836</td><td>V4.8.2</td><td>2019-07-05T06:06:45</td><td>94fe07f</td><td>S2</td><td>DES survey hex -235-14 tiling 7</td><td>2012B-0001</td><td>r</td><td>90.0</td><td>57666.09160195</td><td>1.15</td><td>4.106598</td><td>2046</td><td>4094</td><td>337.40375</td><td>-1.0080833333333334</td><td>2150.2</td><td>10565.67</td><td>337.4037440071</td><td>-1.008087589488</td><td>-1.4230558e-07</td><td>7.285262e-05</td><td>-7.2854855e-05</td><td>-1.3701803e-07</td><td>False</td><td>336.78203655013243</td><td>-0.9245469911615812</td><td>0.10039079</td><td>0.0077408026</td><td>25.287506</td><td>25.288704</td><td>0.008183932</td><td>-0.0075169797</td><td>3.4931865</td><td>22.551453</td><td>0.013634493</td><td>0.01660342</td><td>0.01877789</td><td>0.0</td><td>197</td><td>233</td><td>0</td><td>264</td><td>14</td><td>2032</td><td>1693</td><td>-3</td><td>1682</td><td>1825</td><td>3603</td><td>0.1415323</td><td>0.106419966</td><td>DR9.5.9</td><td>DR9.0.1-27-g1f3e9a77</td><td>V4.8.2</td><td>V4.8.2</td><td>-6.440953e-05</td></tr>\n",
       "<tr><td>41</td><td>decam/CP/V4.8.2/CP20161004/c4d_161005_021618_ooi_g_ls9.fits.fz</td><td>25</td><td>decam</td><td>580837</td><td>V4.8.2</td><td>2019-07-05T03:26:30</td><td>94fdcf5</td><td>S2</td><td>DES survey hex -235-14 tiling 7</td><td>2012B-0001</td><td>g</td><td>90.0</td><td>57666.09297806</td><td>1.15</td><td>4.613106</td><td>2046</td><td>4094</td><td>337.4032916666667</td><td>-1.0079722222222223</td><td>2150.2</td><td>10565.67</td><td>337.4032885537</td><td>-1.007984217422</td><td>-1.4110995e-07</td><td>7.285122e-05</td><td>-7.285386e-05</td><td>-1.3771313e-07</td><td>False</td><td>336.7815682148469</td><td>-0.9244395200255048</td><td>0.061595287</td><td>0.005734225</td><td>25.091923</td><td>25.092487</td><td>0.03116911</td><td>-0.04014797</td><td>1.281794</td><td>23.431961</td><td>0.034398776</td><td>0.045056872</td><td>0.022962322</td><td>0.0</td><td>199</td><td>233</td><td>0</td><td>265</td><td>14</td><td>2032</td><td>1699</td><td>-3</td><td>1688</td><td>1826</td><td>3603</td><td>0.12547207</td><td>0.09909288</td><td>DR9.5.9</td><td>DR9.0.1-27-g1f3e9a77</td><td>V4.8.2</td><td>V4.8.2</td><td>-8.4510255e-05</td></tr>\n",
       "<tr><td>42</td><td>decam/CP/V4.8.2a/CP20160814/c4d_160815_051951_ooi_z_ls9.fits.fz</td><td>21</td><td>decam</td><td>564496</td><td>V4.8.2a</td><td>2019-08-09T13:44:36</td><td>95478a4</td><td>S11</td><td>DES survey hex -235-14 tiling 5</td><td>2012B-0001</td><td>z</td><td>90.0</td><td>57615.22049168</td><td>1.15</td><td>5.080355</td><td>2046</td><td>4094</td><td>336.5248</td><td>-1.1270638888888889</td><td>4404.6</td><td>-82.66665</td><td>336.5292451908</td><td>-1.128282693429</td><td>-1.5174174e-07</td><td>7.285412e-05</td><td>-7.285609e-05</td><td>-1.5107703e-07</td><td>False</td><td>336.6854870635668</td><td>-0.8812315234775527</td><td>0.25508034</td><td>0.025144385</td><td>25.018187</td><td>25.010796</td><td>0.013911365</td><td>-0.012289598</td><td>22.479824</td><td>20.196024</td><td>0.018484589</td><td>0.015484767</td><td>0.018050537</td><td>0.0</td><td>193</td><td>234</td><td>0</td><td>853</td><td>14</td><td>2032</td><td>3013</td><td>-2</td><td>3018</td><td>2416</td><td>3609</td><td>0.10788564</td><td>0.0884033</td><td>DR9.5.9</td><td>DR9.0.1-27-g1f3e9a77</td><td>V4.8.2a</td><td>V4.8.2a</td><td>2.778646e-05</td></tr>\n",
       "<tr><td>43</td><td>decam/CP/V4.8.2a/CP20151107/c4d_151108_003731_ooi_g_ls9.fits.fz</td><td>21</td><td>decam</td><td>490983</td><td>V4.8.2a</td><td>2019-09-05T13:32:05</td><td>958078a</td><td>S11</td><td>DES survey hex -235-14 tiling 5</td><td>2012B-0001</td><td>g</td><td>90.0</td><td>57334.02443758</td><td>1.16</td><td>3.740876</td><td>2046</td><td>4094</td><td>336.5248</td><td>-1.1270638888888889</td><td>4404.6</td><td>-82.66665</td><td>336.5225904079</td><td>-1.12347824887</td><td>-1.2075571e-07</td><td>7.284943e-05</td><td>-7.285185e-05</td><td>-1.208151e-07</td><td>False</td><td>336.67864990162377</td><td>-0.8764242165895257</td><td>0.06603125</td><td>0.0063469135</td><td>25.068829</td><td>25.06161</td><td>0.002567148</td><td>-0.013833595</td><td>1.4894866</td><td>23.268915</td><td>0.013005592</td><td>0.027641164</td><td>0.028275345</td><td>0.0</td><td>194</td><td>232</td><td>0</td><td>919</td><td>14</td><td>2032</td><td>3106</td><td>-1</td><td>3111</td><td>2482</td><td>3607</td><td>0.14934021</td><td>0.10876379</td><td>DR9.5.9</td><td>DR9.0.1-45-g5eef153a</td><td>V4.8.2a</td><td>V4.8.2a</td><td>-8.4510255e-05</td></tr>\n",
       "<tr><td>44</td><td>decam/CP/V4.8.2a/CP20151107/c4d_151108_003333_ooi_r_ls9.fits.fz</td><td>21</td><td>decam</td><td>490981</td><td>V4.8.2a</td><td>2019-08-22T17:41:51</td><td>95645c8</td><td>S11</td><td>DES survey hex -235-14 tiling 5</td><td>2012B-0001</td><td>r</td><td>90.0</td><td>57334.0216954</td><td>1.15</td><td>3.34674</td><td>2046</td><td>4094</td><td>336.5248</td><td>-1.1270638888888889</td><td>4404.6</td><td>-82.66665</td><td>336.5229428565</td><td>-1.123180699319</td><td>-1.2241655e-07</td><td>7.2851006e-05</td><td>-7.285233e-05</td><td>-1.2040907e-07</td><td>False</td><td>336.67902315822033</td><td>-0.8761326158698973</td><td>0.10641721</td><td>0.008571557</td><td>25.255981</td><td>25.25532</td><td>0.013494415</td><td>-0.010737866</td><td>4.0761027</td><td>22.383894</td><td>0.0156152</td><td>0.01576899</td><td>0.019617802</td><td>0.0</td><td>191</td><td>231</td><td>0</td><td>923</td><td>14</td><td>2032</td><td>3101</td><td>-1</td><td>3106</td><td>2486</td><td>3607</td><td>0.1686655</td><td>0.11593959</td><td>DR9.5.9</td><td>DR9.0.1-27-g1f3e9a77</td><td>V4.8.2a</td><td>V4.8.2a</td><td>-6.440953e-05</td></tr>\n",
       "<tr><td>45</td><td>decam/CP/V4.8.2a/CP20171108/c4d_171109_002003_ooi_g_ls9.fits.fz</td><td>6</td><td>decam</td><td>694142</td><td>V4.8.2a</td><td>2019-07-24T10:02:42</td><td>952682e</td><td>S27</td><td>DES survey hex -235-14 tiling 8</td><td>2012B-0001</td><td>g</td><td>90.0</td><td>58066.01393135</td><td>1.15</td><td>4.265025</td><td>2046</td><td>4094</td><td>336.22122083333335</td><td>-1.5497638888888887</td><td>11167.8</td><td>-82.66665</td><td>336.2256174351</td><td>-1.5484579785</td><td>-1.3821646e-07</td><td>7.284893e-05</td><td>-7.2850744e-05</td><td>-1.3884555e-07</td><td>False</td><td>336.38241220946975</td><td>-0.8084763821421197</td><td>0.09127552</td><td>0.00935539</td><td>25.021935</td><td>25.022644</td><td>-0.0022188667</td><td>-0.025333539</td><td>3.1790745</td><td>22.445755</td><td>0.02018999</td><td>0.042132143</td><td>0.036010068</td><td>0.0</td><td>194</td><td>234</td><td>0</td><td>1846</td><td>3574</td><td>2032</td><td>4080</td><td>3094</td><td>3601</td><td>3416</td><td>3603</td><td>0.12839156</td><td>0.099241346</td><td>DR9.5.9</td><td>DR9.0.1-27-g1f3e9a77</td><td>V4.8.2a</td><td>V4.8.2a</td><td>-8.4510255e-05</td></tr>\n",
       "<tr><td>46</td><td>decam/CP/V4.8.2a/CP20170926/c4d_170927_025457_ooi_r_ls9.fits.fz</td><td>6</td><td>decam</td><td>681991</td><td>V4.8.2a</td><td>2019-07-23T20:32:01</td><td>95254c6</td><td>S27</td><td>DES survey hex -235-14 tiling 8</td><td>2012B-0001</td><td>r</td><td>90.0</td><td>58023.12149533</td><td>1.14</td><td>3.537855</td><td>2046</td><td>4094</td><td>336.22122083333335</td><td>-1.5497638888888887</td><td>11167.8</td><td>-82.66665</td><td>336.2301008356</td><td>-1.541801022795</td><td>-1.3388022e-07</td><td>7.285396e-05</td><td>-7.285599e-05</td><td>-1.3169732e-07</td><td>False</td><td>336.38687071432634</td><td>-0.8017685806205455</td><td>0.1125835</td><td>0.009371447</td><td>25.234787</td><td>25.242157</td><td>-0.015384473</td><td>-0.016301092</td><td>4.729695</td><td>22.222424</td><td>0.020642916</td><td>0.021207323</td><td>0.017768374</td><td>0.0</td><td>193</td><td>230</td><td>0</td><td>1938</td><td>3513</td><td>2032</td><td>4080</td><td>3032</td><td>3601</td><td>3508</td><td>3603</td><td>0.1526412</td><td>0.10914778</td><td>DR9.5.9</td><td>DR9.0.1-27-g1f3e9a77</td><td>V4.8.2a</td><td>V4.8.2a</td><td>-6.440953e-05</td></tr>\n",
       "<tr><td>47</td><td>decam/CP/V4.8.2a/CP20170926/c4d_170927_025655_ooi_z_ls9.fits.fz</td><td>6</td><td>decam</td><td>681992</td><td>V4.8.2a</td><td>2019-07-20T19:45:47</td><td>951ee00</td><td>S27</td><td>DES survey hex -235-14 tiling 8</td><td>2012B-0001</td><td>z</td><td>90.0</td><td>58023.12286809</td><td>1.14</td><td>2.90933</td><td>2046</td><td>4094</td><td>336.229875</td><td>-1.5416666666666665</td><td>11167.8</td><td>-82.66665</td><td>336.2298657446</td><td>-1.541653145183</td><td>-1.3660662e-07</td><td>7.284871e-05</td><td>-7.285018e-05</td><td>-1.3839802e-07</td><td>False</td><td>336.3867780643828</td><td>-0.8016325338641362</td><td>0.2345448</td><td>0.023907652</td><td>24.988354</td><td>24.987888</td><td>-0.01008974</td><td>-0.019588767</td><td>19.776821</td><td>20.335115</td><td>0.01220581</td><td>0.021182405</td><td>0.022507327</td><td>0.0</td><td>186</td><td>232</td><td>0</td><td>1940</td><td>3514</td><td>2032</td><td>4080</td><td>3034</td><td>3601</td><td>3510</td><td>3603</td><td>0.17168935</td><td>0.11488255</td><td>DR9.5.9</td><td>DR9.0.1-27-g1f3e9a77</td><td>V4.8.2a</td><td>V4.8.2a</td><td>2.778646e-05</td></tr>\n",
       "<tr><td>48</td><td>decam/CP/V4.8.2/CP20160922/c4d_160923_023448_ooi_g_ls9.fits.fz</td><td>29</td><td>decam</td><td>576103</td><td>V4.8.2</td><td>2019-07-04T11:58:43</td><td>94fc805</td><td>S6</td><td>DES survey hex -235-14 tiling 6</td><td>2012B-0001</td><td>g</td><td>90.0</td><td>57654.1059038</td><td>1.15</td><td>4.857419</td><td>2046</td><td>4094</td><td>335.998125</td><td>-0.9243055555555556</td><td>2150.2</td><td>-6471.667</td><td>335.9981381608</td><td>-0.9243069979515</td><td>-1.5147033e-07</td><td>7.2852534e-05</td><td>-7.285496e-05</td><td>-1.4798067e-07</td><td>False</td><td>336.6204800969925</td><td>-0.8432501414867551</td><td>0.06409275</td><td>0.0059723435</td><td>25.092587</td><td>25.089212</td><td>0.076943696</td><td>-0.024299687</td><td>1.2486552</td><td>23.4604</td><td>0.07906219</td><td>0.038290743</td><td>0.036299147</td><td>0.0</td><td>214</td><td>247</td><td>0</td><td>1371</td><td>314</td><td>2032</td><td>3908</td><td>-1</td><td>3602</td><td>2938</td><td>3608</td><td>0.11662079</td><td>0.09389551</td><td>DR9.5.9</td><td>DR9.0.1-27-g1f3e9a77</td><td>V4.8.2</td><td>V4.8.2</td><td>-8.4510255e-05</td></tr>\n",
       "<tr><td>49</td><td>decam/CP/V4.8.2/CP20160928/c4d_160929_021007_ooi_z_ls9.fits.fz</td><td>29</td><td>decam</td><td>578631</td><td>V4.8.2</td><td>2019-07-04T16:25:59</td><td>94fcdd3</td><td>S6</td><td>DES survey hex -235-14 tiling 6</td><td>2012B-0001</td><td>z</td><td>90.0</td><td>57660.08874258</td><td>1.15</td><td>3.425716</td><td>2046</td><td>4094</td><td>335.9962083333333</td><td>-0.9238611111111111</td><td>2150.2</td><td>-6471.667</td><td>335.9962283768</td><td>-0.9238561341224</td><td>-1.5585037e-07</td><td>7.284821e-05</td><td>-7.285069e-05</td><td>-1.538005e-07</td><td>False</td><td>336.618622846161</td><td>-0.8428655777282607</td><td>0.22625682</td><td>0.022029405</td><td>25.022453</td><td>25.017384</td><td>0.06756303</td><td>-0.010824919</td><td>17.832094</td><td>20.4475</td><td>0.06843772</td><td>0.013335879</td><td>0.02260873</td><td>0.0</td><td>208</td><td>248</td><td>0</td><td>1376</td><td>340</td><td>2032</td><td>3934</td><td>-1</td><td>3602</td><td>2943</td><td>3608</td><td>0.1568566</td><td>0.111316204</td><td>DR9.5.9</td><td>DR9.0.1-27-g1f3e9a77</td><td>V4.8.2</td><td>V4.8.2</td><td>2.778646e-05</td></tr>\n",
       "<tr><td>50</td><td>decam/CP/V4.8.2a/CP20131010/c4d_131011_015451_ooi_z_ls9.fits.fz</td><td>10</td><td>decam</td><td>242716</td><td>V4.8.2a</td><td>2019-08-08T11:07:29</td><td>9546420</td><td>S22</td><td>DES survey hex -235-14 tiling 1</td><td>2012B-0001</td><td>z</td><td>90.0</td><td>56576.07976804</td><td>1.14</td><td>3.299803</td><td>2046</td><td>4094</td><td>336.4609</td><td>-1.4145</td><td>8913.4</td><td>2047.0</td><td>336.463507592</td><td>-1.412668501915</td><td>-1.3071602e-07</td><td>7.284686e-05</td><td>-7.284934e-05</td><td>-1.3261064e-07</td><td>False</td><td>336.46464052016995</td><td>-0.8364930948009024</td><td>0.20662086</td><td>0.017385937</td><td>25.066757</td><td>25.068596</td><td>-0.008707291</td><td>0.0023553125</td><td>13.376555</td><td>20.759645</td><td>0.011727194</td><td>0.010935923</td><td>0.023228055</td><td>0.0</td><td>217</td><td>243</td><td>0</td><td>1463</td><td>2448</td><td>2032</td><td>4080</td><td>1961</td><td>3602</td><td>3032</td><td>3605</td><td>0.16700836</td><td>0.11528508</td><td>DR9.5.9</td><td>DR9.0.1-11-gb167e27c</td><td>V4.8.2a</td><td>V4.8.2a</td><td>2.778646e-05</td></tr>\n",
       "<tr><td>51</td><td>decam/CP/V4.8.2a/CP20130929/c4d_130930_014909_ooi_r_ls9.fits.fz</td><td>10</td><td>decam</td><td>239604</td><td>V4.8.2a</td><td>2019-08-08T02:38:50</td><td>9545789</td><td>S22</td><td>DES survey hex -235-14 tiling 1</td><td>2012B-0001</td><td>r</td><td>90.0</td><td>56565.07579899</td><td>1.16</td><td>3.246667</td><td>2046</td><td>4094</td><td>336.4609</td><td>-1.4145</td><td>8913.4</td><td>2047.0</td><td>336.4623595256</td><td>-1.412206548413</td><td>-1.3593198e-07</td><td>7.285414e-05</td><td>-7.28557e-05</td><td>-1.2936806e-07</td><td>False</td><td>336.4634501729209</td><td>-0.8360534002709841</td><td>0.11337536</td><td>0.0073381616</td><td>25.338383</td><td>25.33762</td><td>-0.017562985</td><td>0.015591705</td><td>3.856226</td><td>22.4441</td><td>0.01846655</td><td>0.02005727</td><td>0.017690148</td><td>0.0</td><td>214</td><td>243</td><td>0</td><td>1469</td><td>2465</td><td>2032</td><td>3994</td><td>2064</td><td>3601</td><td>3038</td><td>3605</td><td>0.18956877</td><td>0.12585479</td><td>DR9.5.9</td><td>DR9.0.1-27-g1f3e9a77</td><td>V4.8.2a</td><td>V4.8.2a</td><td>-6.440953e-05</td></tr>\n",
       "<tr><td>52</td><td>decam/CP/V4.8.2a/CP20130909/c4d_130910_014701_ooi_g_ls9.fits.fz</td><td>10</td><td>decam</td><td>232263</td><td>V4.8.2a</td><td>2019-08-08T12:58:34</td><td>9546715</td><td>S22</td><td>DES survey hex -235-14 tiling 1</td><td>2012B-0001</td><td>g</td><td>90.0</td><td>56545.07431716</td><td>1.33</td><td>4.898044</td><td>2046</td><td>4094</td><td>336.4609</td><td>-1.4145</td><td>8913.4</td><td>2047.0</td><td>336.4661922529</td><td>-1.410278517151</td><td>-1.371452e-07</td><td>7.2858216e-05</td><td>-7.2857954e-05</td><td>-1.2415835e-07</td><td>False</td><td>336.4672867999241</td><td>-0.8341036417151636</td><td>0.0841748</td><td>0.00636434</td><td>25.14612</td><td>25.139305</td><td>-0.016550073</td><td>0.018297859</td><td>1.9848592</td><td>22.957182</td><td>0.03135733</td><td>0.03530072</td><td>0.033753883</td><td>0.0</td><td>217</td><td>242</td><td>0</td><td>1496</td><td>2412</td><td>2032</td><td>4080</td><td>1925</td><td>3602</td><td>3065</td><td>3605</td><td>0.11682084</td><td>0.09393005</td><td>DR9.5.9</td><td>DR9.0.1-11-gb167e27c</td><td>V4.8.2a</td><td>V4.8.2a</td><td>-8.4510255e-05</td></tr>\n",
       "<tr><td>53</td><td>decam/CP/V4.8.2a/CP20171108/c4d_171109_002003_ooi_g_ls9.fits.fz</td><td>16</td><td>decam</td><td>694142</td><td>V4.8.2a</td><td>2019-07-24T10:02:42</td><td>952682e</td><td>S17</td><td>DES survey hex -235-14 tiling 8</td><td>2012B-0001</td><td>g</td><td>90.0</td><td>58066.01393135</td><td>1.15</td><td>3.967779</td><td>2046</td><td>4094</td><td>336.22122083333335</td><td>-1.5497638888888887</td><td>6659.0</td><td>-82.66665</td><td>336.2256174351</td><td>-1.5484579785</td><td>-1.3821646e-07</td><td>7.284893e-05</td><td>-7.2850744e-05</td><td>-1.3884555e-07</td><td>False</td><td>336.38196718221434</td><td>-1.1370856034884333</td><td>0.09956566</td><td>0.009444095</td><td>25.02604</td><td>25.022644</td><td>0.011971649</td><td>-0.006009898</td><td>3.1786587</td><td>22.445896</td><td>0.024479318</td><td>0.029322887</td><td>0.022291455</td><td>0.0</td><td>207</td><td>248</td><td>0</td><td>14</td><td>3576</td><td>937</td><td>4080</td><td>3096</td><td>3602</td><td>0</td><td>927</td><td>0.1356777</td><td>0.102490656</td><td>DR9.5.9</td><td>DR9.0.1-27-g1f3e9a77</td><td>V4.8.2a</td><td>V4.8.2a</td><td>-8.4510255e-05</td></tr>\n",
       "<tr><td>54</td><td>decam/CP/V4.8.2a/CP20170926/c4d_170927_025655_ooi_z_ls9.fits.fz</td><td>16</td><td>decam</td><td>681992</td><td>V4.8.2a</td><td>2019-07-20T19:45:47</td><td>951ee00</td><td>S17</td><td>DES survey hex -235-14 tiling 8</td><td>2012B-0001</td><td>z</td><td>90.0</td><td>58023.12286809</td><td>1.14</td><td>2.922061</td><td>2046</td><td>4094</td><td>336.229875</td><td>-1.5416666666666665</td><td>6659.0</td><td>-82.66665</td><td>336.2298657446</td><td>-1.541653145183</td><td>-1.3660662e-07</td><td>7.284871e-05</td><td>-7.285018e-05</td><td>-1.3839802e-07</td><td>False</td><td>336.386314294961</td><td>-1.1302359231769248</td><td>0.23947054</td><td>0.024154633</td><td>24.986229</td><td>24.987888</td><td>0.0072989105</td><td>-0.015469015</td><td>19.713354</td><td>20.338606</td><td>0.012049726</td><td>0.019541336</td><td>0.013853066</td><td>0.0</td><td>203</td><td>256</td><td>0</td><td>14</td><td>3517</td><td>1031</td><td>4080</td><td>3036</td><td>3601</td><td>-1</td><td>1021</td><td>0.17567855</td><td>0.11701336</td><td>DR9.5.9</td><td>DR9.0.1-27-g1f3e9a77</td><td>V4.8.2a</td><td>V4.8.2a</td><td>2.778646e-05</td></tr>\n",
       "<tr><td>55</td><td>decam/CP/V4.8.2a/CP20170926/c4d_170927_025457_ooi_r_ls9.fits.fz</td><td>16</td><td>decam</td><td>681991</td><td>V4.8.2a</td><td>2019-07-23T20:32:01</td><td>95254c6</td><td>S17</td><td>DES survey hex -235-14 tiling 8</td><td>2012B-0001</td><td>r</td><td>90.0</td><td>58023.12149533</td><td>1.14</td><td>3.423923</td><td>2046</td><td>4094</td><td>336.22122083333335</td><td>-1.5497638888888887</td><td>6659.0</td><td>-82.66665</td><td>336.2301008356</td><td>-1.541801022795</td><td>-1.3388022e-07</td><td>7.285396e-05</td><td>-7.285599e-05</td><td>-1.3169732e-07</td><td>False</td><td>336.3864551088864</td><td>-1.1303971130679304</td><td>0.11725877</td><td>0.00937915</td><td>25.233713</td><td>25.242157</td><td>0.012406816</td><td>-0.011746196</td><td>4.718549</td><td>22.224985</td><td>0.01766529</td><td>0.01760761</td><td>0.0215106</td><td>0.0</td><td>205</td><td>256</td><td>0</td><td>14</td><td>3515</td><td>1029</td><td>4080</td><td>3034</td><td>3601</td><td>-1</td><td>1019</td><td>0.15646274</td><td>0.11082721</td><td>DR9.5.9</td><td>DR9.0.1-27-g1f3e9a77</td><td>V4.8.2a</td><td>V4.8.2a</td><td>-6.440953e-05</td></tr>\n",
       "<tr><td>56</td><td>decam/CP/V4.8.2/CP20160928/c4d_160929_021007_ooi_z_ls9.fits.fz</td><td>42</td><td>decam</td><td>578631</td><td>V4.8.2</td><td>2019-07-04T16:25:59</td><td>94fcdd3</td><td>N12</td><td>DES survey hex -235-14 tiling 6</td><td>2012B-0001</td><td>z</td><td>90.0</td><td>57660.08874258</td><td>1.15</td><td>3.451374</td><td>2046</td><td>4094</td><td>335.9962083333333</td><td>-0.9238611111111111</td><td>-2358.6</td><td>-4342.0</td><td>335.9962283768</td><td>-0.9238561341224</td><td>-1.5585037e-07</td><td>7.284821e-05</td><td>-7.285069e-05</td><td>-1.538005e-07</td><td>False</td><td>336.4624679429127</td><td>-1.1717976817695996</td><td>0.22172305</td><td>0.022520753</td><td>25.016071</td><td>25.017384</td><td>-0.012476744</td><td>-0.034810476</td><td>17.951536</td><td>20.440252</td><td>0.015507958</td><td>0.036333185</td><td>0.01881717</td><td>0.0</td><td>212</td><td>258</td><td>0</td><td>14</td><td>2475</td><td>465</td><td>4080</td><td>1992</td><td>3602</td><td>0</td><td>454</td><td>0.15556267</td><td>0.11092174</td><td>DR9.5.9</td><td>DR9.0.1-27-g1f3e9a77</td><td>V4.8.2</td><td>V4.8.2</td><td>2.778646e-05</td></tr>\n",
       "<tr><td>57</td><td>decam/CP/V4.8.2/CP20160922/c4d_160923_023251_ooi_r_ls9.fits.fz</td><td>42</td><td>decam</td><td>576102</td><td>V4.8.2</td><td>2019-07-04T14:06:07</td><td>94fcabd</td><td>N12</td><td>DES survey hex -235-14 tiling 6</td><td>2012B-0001</td><td>r</td><td>90.0</td><td>57654.10452443</td><td>1.16</td><td>4.169689</td><td>2046</td><td>4094</td><td>335.997875</td><td>-0.9245555555555556</td><td>-2358.6</td><td>-4342.0</td><td>335.9978575972</td><td>-0.9245680992275</td><td>-1.5253983e-07</td><td>7.285339e-05</td><td>-7.285507e-05</td><td>-1.4701635e-07</td><td>False</td><td>336.4641338082968</td><td>-1.1724948214269804</td><td>0.10118007</td><td>0.0078050722</td><td>25.286785</td><td>25.289875</td><td>-0.007265255</td><td>-0.026093343</td><td>3.5652385</td><td>22.529285</td><td>0.014900902</td><td>0.030136794</td><td>0.022109207</td><td>0.0</td><td>215</td><td>256</td><td>0</td><td>14</td><td>2453</td><td>456</td><td>4080</td><td>1969</td><td>3601</td><td>-1</td><td>444</td><td>0.13398911</td><td>0.10253721</td><td>DR9.5.9</td><td>DR9.0.1-27-g1f3e9a77</td><td>V4.8.2</td><td>V4.8.2</td><td>-6.440953e-05</td></tr>\n",
       "<tr><td>58</td><td>decam/CP/V4.8.2/CP20160922/c4d_160923_023448_ooi_g_ls9.fits.fz</td><td>42</td><td>decam</td><td>576103</td><td>V4.8.2</td><td>2019-07-04T11:58:43</td><td>94fc805</td><td>N12</td><td>DES survey hex -235-14 tiling 6</td><td>2012B-0001</td><td>g</td><td>90.0</td><td>57654.1059038</td><td>1.15</td><td>4.697428</td><td>2046</td><td>4094</td><td>335.998125</td><td>-0.9243055555555556</td><td>-2358.6</td><td>-4342.0</td><td>335.9981381608</td><td>-0.9243069979515</td><td>-1.5147033e-07</td><td>7.2852534e-05</td><td>-7.285496e-05</td><td>-1.4798067e-07</td><td>False</td><td>336.46437650720156</td><td>-1.1722069873627434</td><td>0.06047883</td><td>0.0057278806</td><td>25.083607</td><td>25.089212</td><td>-0.0009814396</td><td>-0.024474544</td><td>1.2561395</td><td>23.45391</td><td>0.018022174</td><td>0.03859139</td><td>0.029227976</td><td>0.0</td><td>207</td><td>255</td><td>0</td><td>14</td><td>2449</td><td>460</td><td>4080</td><td>1966</td><td>3602</td><td>-1</td><td>448</td><td>0.11712149</td><td>0.0941219</td><td>DR9.5.9</td><td>DR9.0.1-27-g1f3e9a77</td><td>V4.8.2</td><td>V4.8.2</td><td>-8.4510255e-05</td></tr>\n",
       "<tr><td>59</td><td>decam/CP/V4.8.2a/CP20130910/c4d_130911_053835_ooi_g_ls9.fits.fz</td><td>44</td><td>decam</td><td>232799</td><td>V4.8.2a</td><td>2019-08-08T17:38:39</td><td>9546d1a</td><td>N13</td><td>DES survey hex -235-14 tiling 2</td><td>2012B-0001</td><td>g</td><td>90.0</td><td>56546.2351368</td><td>1.3</td><td>6.028847</td><td>2046</td><td>4094</td><td>335.6941166666667</td><td>-0.9410761111111111</td><td>-2358.6</td><td>-8601.334</td><td>335.6934374863</td><td>-0.9421919655618</td><td>-1.1120952e-07</td><td>7.2859635e-05</td><td>-7.285826e-05</td><td>-1.2079457e-07</td><td>False</td><td>336.46992023153945</td><td>-1.1900991150386182</td><td>0.060078975</td><td>0.004935006</td><td>25.194452</td><td>25.19998</td><td>6.302022e-05</td><td>0.008246229</td><td>1.2617753</td><td>23.44905</td><td>0.021256428</td><td>0.025442822</td><td>0.029379146</td><td>0.0</td><td>189</td><td>242</td><td>0</td><td>14</td><td>2375</td><td>215</td><td>4080</td><td>1895</td><td>3601</td><td>0</td><td>202</td><td>0.09155212</td><td>0.078742296</td><td>DR9.5.9</td><td>DR9.0.1-11-gb167e27c</td><td>V4.8.2a</td><td>V4.8.2a</td><td>-8.4510255e-05</td></tr>\n",
       "<tr><td>60</td><td>decam/CP/V4.8.2a/CP20131122/c4d_131123_011235_ooi_r_ls9.fits.fz</td><td>44</td><td>decam</td><td>257441</td><td>V4.8.2a</td><td>2019-08-08T18:42:18</td><td>9546e45</td><td>N13</td><td>DES survey hex -235-14 tiling 2</td><td>2012B-0001</td><td>r</td><td>90.0</td><td>56619.05041406</td><td>1.37</td><td>3.676913</td><td>2046</td><td>4094</td><td>335.6941166666667</td><td>-0.9410761111111111</td><td>-2358.6</td><td>-8601.334</td><td>335.6958189307</td><td>-0.9418159817906</td><td>-1.0348637e-07</td><td>7.285537e-05</td><td>-7.285395e-05</td><td>-1.1369417e-07</td><td>False</td><td>336.47233320256066</td><td>-1.189656130875891</td><td>0.107566305</td><td>0.008332201</td><td>25.249004</td><td>25.25668</td><td>0.005717075</td><td>0.019553872</td><td>4.1183047</td><td>22.372711</td><td>0.012850231</td><td>0.023963733</td><td>0.0185171</td><td>0.0</td><td>213</td><td>245</td><td>0</td><td>14</td><td>2342</td><td>221</td><td>4080</td><td>1862</td><td>3601</td><td>0</td><td>208</td><td>0.14922765</td><td>0.10858124</td><td>DR9.5.9</td><td>DR9.0.1-11-gb167e27c</td><td>V4.8.2a</td><td>V4.8.2a</td><td>-6.440953e-05</td></tr>\n",
       "<tr><td>61</td><td>decam/CP/V4.8.2a/CP20131011/c4d_131012_010158_ooi_z_ls9.fits.fz</td><td>44</td><td>decam</td><td>243054</td><td>V4.8.2a</td><td>2019-08-08T11:12:03</td><td>9546420</td><td>N13</td><td>DES survey hex -235-14 tiling 2</td><td>2012B-0001</td><td>z</td><td>90.0</td><td>56577.04304303</td><td>1.17</td><td>3.226368</td><td>2046</td><td>4094</td><td>335.6941166666667</td><td>-0.9410761111111111</td><td>-2358.6</td><td>-8601.334</td><td>335.7000625099</td><td>-0.9384798196064</td><td>-1.357787e-07</td><td>7.284784e-05</td><td>-7.2848816e-05</td><td>-1.3440678e-07</td><td>False</td><td>336.47638150386297</td><td>-1.1865282183011983</td><td>0.2517335</td><td>0.023213154</td><td>25.070826</td><td>25.072376</td><td>-0.00081729563</td><td>0.004609033</td><td>23.398754</td><td>20.152525</td><td>0.010779219</td><td>0.01222816</td><td>0.02054678</td><td>0.0</td><td>209</td><td>252</td><td>0</td><td>14</td><td>2286</td><td>263</td><td>4080</td><td>1807</td><td>3601</td><td>0</td><td>250</td><td>0.17161702</td><td>0.11677228</td><td>DR9.5.9</td><td>DR9.0.1-11-gb167e27c</td><td>V4.8.2a</td><td>V4.8.2a</td><td>2.778646e-05</td></tr>\n",
       "<tr><td>62</td><td>decam/CP/V4.8.2a/CP20131010/c4d_131011_015451_ooi_z_ls9.fits.fz</td><td>22</td><td>decam</td><td>242716</td><td>V4.8.2a</td><td>2019-08-08T11:07:29</td><td>9546420</td><td>S11</td><td>DES survey hex -235-14 tiling 1</td><td>2012B-0001</td><td>z</td><td>90.0</td><td>56576.07976804</td><td>1.14</td><td>3.330463</td><td>2046</td><td>4094</td><td>336.4609</td><td>-1.4145</td><td>4404.6</td><td>-82.66665</td><td>336.463507592</td><td>-1.412668501915</td><td>-1.3071602e-07</td><td>7.284686e-05</td><td>-7.284934e-05</td><td>-1.3261064e-07</td><td>False</td><td>336.61967181108247</td><td>-1.1656118880279425</td><td>0.19879097</td><td>0.01774277</td><td>25.064232</td><td>25.068596</td><td>-0.020433784</td><td>0.015891971</td><td>13.377455</td><td>20.759573</td><td>0.022069298</td><td>0.02050714</td><td>0.023151293</td><td>0.0</td><td>220</td><td>262</td><td>0</td><td>14</td><td>329</td><td>555</td><td>3909</td><td>0</td><td>3602</td><td>-8</td><td>544</td><td>0.16633694</td><td>0.11530156</td><td>DR9.5.9</td><td>DR9.0.1-11-gb167e27c</td><td>V4.8.2a</td><td>V4.8.2a</td><td>2.778646e-05</td></tr>\n",
       "<tr><td>63</td><td>decam/CP/V4.8.2a/CP20130929/c4d_130930_014909_ooi_r_ls9.fits.fz</td><td>22</td><td>decam</td><td>239604</td><td>V4.8.2a</td><td>2019-08-08T02:38:50</td><td>9545789</td><td>S11</td><td>DES survey hex -235-14 tiling 1</td><td>2012B-0001</td><td>r</td><td>90.0</td><td>56565.07579899</td><td>1.16</td><td>3.290507</td><td>2046</td><td>4094</td><td>336.4609</td><td>-1.4145</td><td>4404.6</td><td>-82.66665</td><td>336.4623595256</td><td>-1.412206548413</td><td>-1.3593198e-07</td><td>7.285414e-05</td><td>-7.28557e-05</td><td>-1.2936806e-07</td><td>False</td><td>336.61850740371307</td><td>-1.1651669655946308</td><td>0.103699036</td><td>0.007415485</td><td>25.338531</td><td>25.33762</td><td>-0.014593512</td><td>0.019604586</td><td>3.8482828</td><td>22.446339</td><td>0.016479265</td><td>0.023741757</td><td>0.01850186</td><td>0.0</td><td>216</td><td>259</td><td>0</td><td>14</td><td>345</td><td>561</td><td>3925</td><td>0</td><td>3602</td><td>-8</td><td>550</td><td>0.18640594</td><td>0.124975264</td><td>DR9.5.9</td><td>DR9.0.1-27-g1f3e9a77</td><td>V4.8.2a</td><td>V4.8.2a</td><td>-6.440953e-05</td></tr>\n",
       "<tr><td>64</td><td>decam/CP/V4.8.2a/CP20130909/c4d_130910_014701_ooi_g_ls9.fits.fz</td><td>22</td><td>decam</td><td>232263</td><td>V4.8.2a</td><td>2019-08-08T12:58:34</td><td>9546715</td><td>S11</td><td>DES survey hex -235-14 tiling 1</td><td>2012B-0001</td><td>g</td><td>90.0</td><td>56545.07431716</td><td>1.33</td><td>4.84515</td><td>2046</td><td>4094</td><td>336.4609</td><td>-1.4145</td><td>4404.6</td><td>-82.66665</td><td>336.4661922529</td><td>-1.410278517151</td><td>-1.371452e-07</td><td>7.2858216e-05</td><td>-7.2857954e-05</td><td>-1.2415835e-07</td><td>False</td><td>336.6223395313157</td><td>-1.1632153842924686</td><td>0.07615645</td><td>0.0065051797</td><td>25.147049</td><td>25.139305</td><td>-0.03212334</td><td>-0.0038550496</td><td>1.9645579</td><td>22.968344</td><td>0.043461934</td><td>0.030368043</td><td>0.018798342</td><td>0.0</td><td>220</td><td>255</td><td>0</td><td>14</td><td>292</td><td>587</td><td>3873</td><td>0</td><td>3603</td><td>-7</td><td>576</td><td>0.1170905</td><td>0.09414115</td><td>DR9.5.9</td><td>DR9.0.1-11-gb167e27c</td><td>V4.8.2a</td><td>V4.8.2a</td><td>-8.4510255e-05</td></tr>\n",
       "<tr><td>65</td><td>decam/CP/V4.8.2a/CP20131009/c4d_131010_023434_ooi_r_ls9.fits.fz</td><td>25</td><td>decam</td><td>242438</td><td>V4.8.2a</td><td>2019-08-08T09:10:00</td><td>954619d</td><td>S1</td><td>DES survey hex -219-4 tiling 3</td><td>2012B-0001</td><td>r</td><td>90.0</td><td>56575.1073433</td><td>1.16</td><td>3.424039</td><td>2046</td><td>4094</td><td>337.51620833333334</td><td>-1.2284919444444444</td><td>2150.2</td><td>14825.0</td><td>337.5197557304</td><td>-1.229630097213</td><td>-1.2159614e-07</td><td>7.285388e-05</td><td>-7.285576e-05</td><td>-1.2011267e-07</td><td>False</td><td>336.58823398281584</td><td>-1.1459424364567194</td><td>0.108201504</td><td>0.007384079</td><td>25.345074</td><td>25.346012</td><td>-0.007434813</td><td>0.0013065863</td><td>4.0366845</td><td>22.394444</td><td>0.013934503</td><td>0.008566192</td><td>0.019049168</td><td>0.0</td><td>205</td><td>241</td><td>0</td><td>14</td><td>751</td><td>821</td><td>3994</td><td>356</td><td>3602</td><td>-4</td><td>810</td><td>0.17668653</td><td>0.12097754</td><td>DR9.5.9</td><td>DR9.0.1-11-gb167e27c</td><td>V4.8.2a</td><td>V4.8.2a</td><td>-6.440953e-05</td></tr>\n",
       "<tr><td>66</td><td>decam/CP/V4.8.2a/CP20130912/c4d_130913_041657_ooi_z_ls9.fits.fz</td><td>25</td><td>decam</td><td>233515</td><td>V4.8.2a</td><td>2019-08-07T22:00:06</td><td>9545103</td><td>S1</td><td>DES survey hex -219-4 tiling 3</td><td>2012B-0001</td><td>z</td><td>90.0</td><td>56548.17844174</td><td>1.15</td><td>3.550469</td><td>2046</td><td>4094</td><td>337.51620833333334</td><td>-1.2284919444444444</td><td>2150.2</td><td>14825.0</td><td>337.517550423</td><td>-1.227262763728</td><td>-1.2311062e-07</td><td>7.285069e-05</td><td>-7.285335e-05</td><td>-1.2749699e-07</td><td>False</td><td>336.5860814852748</td><td>-1.1433899041478224</td><td>0.19686197</td><td>0.017642174</td><td>25.048023</td><td>25.051502</td><td>-0.021701725</td><td>-0.000960251</td><td>13.627644</td><td>20.739454</td><td>0.024012635</td><td>0.008435928</td><td>0.016749721</td><td>0.0</td><td>208</td><td>245</td><td>0</td><td>14</td><td>780</td><td>856</td><td>4080</td><td>300</td><td>3603</td><td>-4</td><td>845</td><td>0.16051066</td><td>0.11317001</td><td>DR9.5.9</td><td>DR9.0.1-11-gb167e27c</td><td>V4.8.2a</td><td>V4.8.2a</td><td>2.778646e-05</td></tr>\n",
       "<tr><td>67</td><td>decam/CP/V4.8.2a/CP20141020/c4d_141021_015854_ooi_g_ls9.fits.fz</td><td>24</td><td>decam</td><td>369756</td><td>V4.8.2a</td><td>2019-08-11T17:57:10</td><td>954d2a0</td><td>S1</td><td>DES survey hex -219-4 tiling 3</td><td>2012B-0001</td><td>g</td><td>90.0</td><td>56951.08096597</td><td>1.16</td><td>4.469236</td><td>2046</td><td>4094</td><td>337.51620833333334</td><td>-1.2284919444444444</td><td>2150.2</td><td>14825.0</td><td>337.5162183566</td><td>-1.227162463415</td><td>-1.3032033e-07</td><td>7.285313e-05</td><td>-7.285385e-05</td><td>-1.2954756e-07</td><td>False</td><td>336.58465985869765</td><td>-1.143371431507348</td><td>0.06816951</td><td>0.0059333243</td><td>25.123137</td><td>25.123192</td><td>0.010163126</td><td>-0.0034865222</td><td>1.5107596</td><td>23.253517</td><td>0.030307692</td><td>0.02650038</td><td>0.019854264</td><td>0.0</td><td>205</td><td>244</td><td>0</td><td>14</td><td>800</td><td>856</td><td>4080</td><td>319</td><td>3603</td><td>-4</td><td>845</td><td>0.11502222</td><td>0.09071322</td><td>DR9.5.9</td><td>DR9.0.1-27-g1f3e9a77</td><td>V4.8.2a</td><td>V4.8.2a</td><td>-8.4510255e-05</td></tr>\n",
       "<tr><td>68</td><td>decam/CP/V4.8.2a/CP20141013/c4d_141014_014535_ooi_g_ls9.fits.fz</td><td>24</td><td>decam</td><td>367454</td><td>V4.8.2a</td><td>2019-08-11T17:57:05</td><td>954d2a0</td><td>S1</td><td>DES survey hex -219-4 tiling 3</td><td>2012B-0001</td><td>g</td><td>90.0</td><td>56944.07169789</td><td>1.14</td><td>6.441391</td><td>2046</td><td>4094</td><td>337.51620833333334</td><td>-1.2284919444444444</td><td>2150.2</td><td>14825.0</td><td>337.5175594136</td><td>-1.226619259661</td><td>-1.3362141e-07</td><td>7.285382e-05</td><td>-7.28536e-05</td><td>-1.3085715e-07</td><td>False</td><td>336.58600526343884</td><td>-1.1428090794871164</td><td>0.06307138</td><td>0.005619984</td><td>25.090029</td><td>25.087221</td><td>-0.009893422</td><td>-0.011353606</td><td>1.2605168</td><td>23.450134</td><td>0.025473285</td><td>0.036336847</td><td>0.021707231</td><td>0.0</td><td>200</td><td>244</td><td>0</td><td>14</td><td>782</td><td>864</td><td>4080</td><td>300</td><td>3602</td><td>-4</td><td>853</td><td>0.082135074</td><td>0.07173171</td><td>DR9.5.9</td><td>DR9.0.1-27-g1f3e9a77</td><td>V4.8.2a</td><td>V4.8.2a</td><td>-8.4510255e-05</td></tr>\n",
       "<tr><td>69</td><td>decam/CP/V4.8.2a/CP20131009/c4d_131010_023004_ooi_r_ls9.fits.fz</td><td>59</td><td>decam</td><td>242436</td><td>V4.8.2a</td><td>2019-08-08T09:10:00</td><td>954619d</td><td>N28</td><td>DES survey hex -235+6 tiling 3</td><td>2012B-0001</td><td>r</td><td>90.0</td><td>56575.10421661</td><td>1.17</td><td>3.330739</td><td>2046</td><td>4094</td><td>335.91892916666666</td><td>-0.21399194444444444</td><td>-9121.8</td><td>-4342.0</td><td>335.9224859723</td><td>-0.2149053626177</td><td>-1.2275609e-07</td><td>7.28537e-05</td><td>-7.285511e-05</td><td>-1.2299695e-07</td><td>False</td><td>336.3871404834216</td><td>-0.9554046901277351</td><td>0.109688126</td><td>0.0074567776</td><td>25.345106</td><td>25.342999</td><td>-0.0041423184</td><td>0.012118238</td><td>4.1221685</td><td>22.371693</td><td>0.013874428</td><td>0.016075624</td><td>0.018927343</td><td>0.0</td><td>182</td><td>204</td><td>0</td><td>14</td><td>3507</td><td>2032</td><td>4080</td><td>3028</td><td>3607</td><td>1404</td><td>3425</td><td>0.17258821</td><td>0.11905484</td><td>DR9.5.9</td><td>DR9.0.1-11-gb167e27c</td><td>V4.8.2a</td><td>V4.8.2a</td><td>-6.440953e-05</td></tr>\n",
       "<tr><td>70</td><td>decam/CP/V4.8.2a/CP20130912/c4d_130913_040652_ooi_z_ls9.fits.fz</td><td>59</td><td>decam</td><td>233510</td><td>V4.8.2a</td><td>2019-08-07T22:00:02</td><td>9545103</td><td>N28</td><td>DES survey hex -235+6 tiling 3</td><td>2012B-0001</td><td>z</td><td>90.0</td><td>56548.1714445</td><td>1.16</td><td>3.246302</td><td>2046</td><td>4094</td><td>335.91892916666666</td><td>-0.21399194444444444</td><td>-9121.8</td><td>-4342.0</td><td>335.9208922777</td><td>-0.2118416234767</td><td>-1.2622858e-07</td><td>7.285109e-05</td><td>-7.285343e-05</td><td>-1.3062007e-07</td><td>False</td><td>336.3854276577561</td><td>-0.9523640298679386</td><td>0.19648121</td><td>0.017538834</td><td>25.048052</td><td>25.049852</td><td>-0.021096073</td><td>0.0063773533</td><td>13.460067</td><td>20.752888</td><td>0.024144493</td><td>0.009976887</td><td>0.021780074</td><td>0.0</td><td>183</td><td>207</td><td>0</td><td>14</td><td>3531</td><td>2032</td><td>4080</td><td>3052</td><td>3607</td><td>1446</td><td>3467</td><td>0.1691512</td><td>0.116700366</td><td>DR9.5.9</td><td>DR9.0.1-11-gb167e27c</td><td>V4.8.2a</td><td>V4.8.2a</td><td>2.778646e-05</td></tr>\n",
       "<tr><td>71</td><td>decam/CP/V4.8.2a/CP20130904/c4d_130905_015351_ooi_g_ls9.fits.fz</td><td>59</td><td>decam</td><td>230843</td><td>V4.8.2a</td><td>2019-08-08T00:07:13</td><td>9545461</td><td>N28</td><td>DES survey hex -235+6 tiling 3</td><td>2012B-0001</td><td>g</td><td>90.0</td><td>56540.07907305</td><td>1.39</td><td>5.829671</td><td>2046</td><td>4094</td><td>335.91892916666666</td><td>-0.21399194444444444</td><td>-9121.8</td><td>-4342.0</td><td>335.9228653293</td><td>-0.2073878713299</td><td>-1.3648066e-07</td><td>7.2862655e-05</td><td>-7.286051e-05</td><td>-1.2113192e-07</td><td>False</td><td>336.38740144568135</td><td>-0.9479237226415765</td><td>0.06437291</td><td>0.0049839714</td><td>25.190907</td><td>25.184628</td><td>-0.008196645</td><td>0.003405014</td><td>1.3173441</td><td>23.402258</td><td>0.029935744</td><td>0.0218255</td><td>0.022765854</td><td>0.0</td><td>187</td><td>210</td><td>0</td><td>14</td><td>3503</td><td>2032</td><td>4080</td><td>3024</td><td>3607</td><td>1507</td><td>3528</td><td>0.09758678</td><td>0.0832161</td><td>DR9.5.9</td><td>DR9.0.1-27-g1f3e9a77</td><td>V4.8.2a</td><td>V4.8.2a</td><td>-8.4510255e-05</td></tr>\n",
       "<tr><td>72</td><td>decam/CP/V4.8.2a/CP20180916/c4d_180917_052437_ooi_g_ls9.fits.fz</td><td>28</td><td>decam</td><td>774709</td><td>V4.8.2a</td><td>2019-11-02T04:37:24</td><td>95fac5d</td><td>S4</td><td>DES survey hex -235-14 tiling 10</td><td>2012B-0001</td><td>g</td><td>90.0</td><td>58378.22543866</td><td>1.32</td><td>3.597652</td><td>2046</td><td>4094</td><td>336.4129791666666</td><td>-1.025616111111111</td><td>2150.2</td><td>2047.0</td><td>336.4146385017</td><td>-1.023009368798</td><td>-1.438463e-07</td><td>7.28586e-05</td><td>-7.285739e-05</td><td>-1.5169364e-07</td><td>False</td><td>336.4150669468337</td><td>-0.9405509214502036</td><td>0.07941621</td><td>0.0067339437</td><td>25.194443</td><td>25.18298</td><td>0.015823586</td><td>-0.04116663</td><td>2.0543187</td><td>22.919836</td><td>0.029298475</td><td>0.046385787</td><td>0.033008736</td><td>0.0</td><td>188</td><td>206</td><td>0</td><td>44</td><td>3122</td><td>2032</td><td>4080</td><td>2638</td><td>3604</td><td>1599</td><td>3601</td><td>0.15374827</td><td>0.11065644</td><td>DR9.5.9</td><td>dr9c2-35-gd97c723b</td><td>V4.8.2a</td><td>V4.8.2a</td><td>-8.4510255e-05</td></tr>\n",
       "<tr><td>73</td><td>decam/CP/V4.8.2a/CP20180916/c4d_180917_052835_ooi_r_ls9.fits.fz</td><td>28</td><td>decam</td><td>774711</td><td>V4.8.2a</td><td>2019-11-02T23:15:02</td><td>95fc861</td><td>S4</td><td>DES survey hex -235-14 tiling 10</td><td>2012B-0001</td><td>r</td><td>90.0</td><td>58378.2281857</td><td>1.33</td><td>3.424782</td><td>2046</td><td>4094</td><td>336.4129791666666</td><td>-1.025616111111111</td><td>2150.2</td><td>2047.0</td><td>336.4142663324</td><td>-1.022848672079</td><td>-1.530703e-07</td><td>7.286071e-05</td><td>-7.285883e-05</td><td>-1.6076847e-07</td><td>False</td><td>336.4147278608511</td><td>-0.9403953594494655</td><td>0.10938381</td><td>0.007935088</td><td>25.357998</td><td>25.351803</td><td>0.010861907</td><td>-0.032374933</td><td>4.1430435</td><td>22.366207</td><td>0.018974012</td><td>0.037713137</td><td>0.017042559</td><td>0.0</td><td>179</td><td>202</td><td>0</td><td>44</td><td>3127</td><td>2032</td><td>4080</td><td>2642</td><td>3604</td><td>1601</td><td>3603</td><td>0.16382457</td><td>0.11472555</td><td>DR9.5.9</td><td>dr9c2-35-gd97c723b</td><td>V4.8.2a</td><td>V4.8.2a</td><td>-6.440953e-05</td></tr>\n",
       "<tr><td>74</td><td>decam/CP/V4.8.2a/CP20130907/c4d_130908_033057_ooi_g_ls9.fits.fz</td><td>41</td><td>decam</td><td>231505</td><td>V4.8.2a</td><td>2019-08-08T07:22:29</td><td>9545f34</td><td>N10</td><td>DES survey hex -235-14 tiling 4</td><td>2012B-0001</td><td>g</td><td>90.0</td><td>56543.14649759</td><td>1.16</td><td>4.955107</td><td>2046</td><td>4094</td><td>336.50882083333335</td><td>-0.6367319444444444</td><td>-2358.6</td><td>4176.667</td><td>336.5126607346</td><td>-0.6340953052573</td><td>-1.2954702e-07</td><td>7.285303e-05</td><td>-7.285724e-05</td><td>-1.2613708e-07</td><td>False</td><td>336.3566122211246</td><td>-0.8809164830949984</td><td>0.06248172</td><td>0.0049056113</td><td>25.226229</td><td>25.217949</td><td>0.0069821277</td><td>0.03416222</td><td>1.2608044</td><td>23.449886</td><td>0.019729873</td><td>0.038235735</td><td>0.021956667</td><td>0.0</td><td>209</td><td>233</td><td>0</td><td>857</td><td>3922</td><td>2032</td><td>4080</td><td>3443</td><td>3602</td><td>2420</td><td>3601</td><td>0.11125018</td><td>0.09082303</td><td>DR9.5.9</td><td>DR9.0.1-11-gb167e27c</td><td>V4.8.2a</td><td>V4.8.2a</td><td>-8.4510255e-05</td></tr>\n",
       "<tr><td>75</td><td>decam/CP/V4.8.2a/CP20130928/c4d_130929_034930_ooi_r_ls9.fits.fz</td><td>41</td><td>decam</td><td>239304</td><td>V4.8.2a</td><td>2019-08-08T02:34:43</td><td>9545789</td><td>N10</td><td>DES survey hex -235-14 tiling 4</td><td>2012B-0001</td><td>r</td><td>90.0</td><td>56564.15937851</td><td>1.21</td><td>3.669979</td><td>2046</td><td>4094</td><td>336.50882083333335</td><td>-0.6367319444444444</td><td>-2358.6</td><td>4176.667</td><td>336.5110577132</td><td>-0.634012494471</td><td>-1.1985641e-07</td><td>7.285544e-05</td><td>-7.285709e-05</td><td>-1.2317727e-07</td><td>False</td><td>336.3550561016764</td><td>-0.8808713878441431</td><td>0.09967664</td><td>0.0069986247</td><td>25.341898</td><td>25.339642</td><td>0.0043181144</td><td>0.00044141916</td><td>3.468333</td><td>22.559204</td><td>0.010573188</td><td>0.012317632</td><td>0.015663654</td><td>0.0</td><td>211</td><td>235</td><td>0</td><td>857</td><td>3943</td><td>2032</td><td>4080</td><td>3464</td><td>3602</td><td>2421</td><td>3602</td><td>0.15854733</td><td>0.11355446</td><td>DR9.5.9</td><td>DR9.0.1-27-g1f3e9a77</td><td>V4.8.2a</td><td>V4.8.2a</td><td>-6.440953e-05</td></tr>\n",
       "<tr><td>76</td><td>decam/CP/V4.8.2a/CP20131012/c4d_131013_003742_ooi_z_ls9.fits.fz</td><td>41</td><td>decam</td><td>243452</td><td>V4.8.2a</td><td>2019-08-08T16:06:09</td><td>9546a4d</td><td>N10</td><td>DES survey hex -235-14 tiling 4</td><td>2012B-0001</td><td>z</td><td>90.0</td><td>56578.02618217</td><td>1.2</td><td>3.059983</td><td>2046</td><td>4094</td><td>336.50882083333335</td><td>-0.6367319444444444</td><td>-2358.6</td><td>4176.667</td><td>336.5136795374</td><td>-0.6339145285786</td><td>-1.4197136e-07</td><td>7.2847935e-05</td><td>-7.28497e-05</td><td>-1.384522e-07</td><td>False</td><td>336.3575905012199</td><td>-0.8806655503961478</td><td>0.27678013</td><td>0.02456126</td><td>25.081749</td><td>25.086746</td><td>0.015109721</td><td>0.011048549</td><td>26.7805</td><td>20.00596</td><td>0.022134522</td><td>0.013780679</td><td>0.02260492</td><td>0.0</td><td>212</td><td>237</td><td>0</td><td>860</td><td>3908</td><td>2032</td><td>4080</td><td>3429</td><td>3603</td><td>2423</td><td>3601</td><td>0.18427551</td><td>0.12228025</td><td>DR9.5.9</td><td>DR9.0.1-11-gb167e27c</td><td>V4.8.2a</td><td>V4.8.2a</td><td>2.778646e-05</td></tr>\n",
       "<tr><td>77</td><td>decam/CP/V4.8.2a/CP20160814/c4d_160815_051951_ooi_z_ls9.fits.fz</td><td>20</td><td>decam</td><td>564496</td><td>V4.8.2a</td><td>2019-08-09T13:44:36</td><td>95478a4</td><td>S10</td><td>DES survey hex -235-14 tiling 5</td><td>2012B-0001</td><td>z</td><td>90.0</td><td>57615.22049168</td><td>1.15</td><td>5.001233</td><td>2046</td><td>4094</td><td>336.5248</td><td>-1.1270638888888889</td><td>4404.6</td><td>4176.667</td><td>336.5292451908</td><td>-1.128282693429</td><td>-1.5174174e-07</td><td>7.285412e-05</td><td>-7.285609e-05</td><td>-1.5107703e-07</td><td>False</td><td>336.3741200837874</td><td>-0.8806345763432395</td><td>0.25442106</td><td>0.025239889</td><td>25.015694</td><td>25.010796</td><td>0.019609984</td><td>-0.02086688</td><td>22.55058</td><td>20.192612</td><td>0.024846442</td><td>0.023295043</td><td>0.018924998</td><td>0.0</td><td>204</td><td>231</td><td>0</td><td>860</td><td>3682</td><td>2032</td><td>4080</td><td>3202</td><td>3604</td><td>2422</td><td>3601</td><td>0.1072216</td><td>0.08794764</td><td>DR9.5.9</td><td>DR9.0.1-27-g1f3e9a77</td><td>V4.8.2a</td><td>V4.8.2a</td><td>2.778646e-05</td></tr>\n",
       "<tr><td>78</td><td>decam/CP/V4.8.2a/CP20151107/c4d_151108_003731_ooi_g_ls9.fits.fz</td><td>20</td><td>decam</td><td>490983</td><td>V4.8.2a</td><td>2019-09-05T13:32:05</td><td>958078a</td><td>S10</td><td>DES survey hex -235-14 tiling 5</td><td>2012B-0001</td><td>g</td><td>90.0</td><td>57334.02443758</td><td>1.16</td><td>3.77471</td><td>2046</td><td>4094</td><td>336.5248</td><td>-1.1270638888888889</td><td>4404.6</td><td>4176.667</td><td>336.5225904079</td><td>-1.12347824887</td><td>-1.2075571e-07</td><td>7.284943e-05</td><td>-7.285185e-05</td><td>-1.208151e-07</td><td>False</td><td>336.3673254055091</td><td>-0.8759790662118181</td><td>0.06403831</td><td>0.0064169364</td><td>25.051737</td><td>25.06161</td><td>0.0021831016</td><td>-0.0053607365</td><td>1.48277</td><td>23.273823</td><td>0.011828516</td><td>0.02117021</td><td>0.025693154</td><td>0.0</td><td>202</td><td>235</td><td>0</td><td>924</td><td>3776</td><td>2032</td><td>4080</td><td>3296</td><td>3602</td><td>2487</td><td>3602</td><td>0.14905564</td><td>0.1087931</td><td>DR9.5.9</td><td>DR9.0.1-45-g5eef153a</td><td>V4.8.2a</td><td>V4.8.2a</td><td>-8.4510255e-05</td></tr>\n",
       "<tr><td>79</td><td>decam/CP/V4.8.2a/CP20151107/c4d_151108_003333_ooi_r_ls9.fits.fz</td><td>20</td><td>decam</td><td>490981</td><td>V4.8.2a</td><td>2019-08-22T17:41:51</td><td>95645c8</td><td>S10</td><td>DES survey hex -235-14 tiling 5</td><td>2012B-0001</td><td>r</td><td>90.0</td><td>57334.0216954</td><td>1.15</td><td>3.37796</td><td>2046</td><td>4094</td><td>336.5248</td><td>-1.1270638888888889</td><td>4404.6</td><td>4176.667</td><td>336.5229428565</td><td>-1.123180699319</td><td>-1.2241655e-07</td><td>7.2851006e-05</td><td>-7.285233e-05</td><td>-1.2040907e-07</td><td>False</td><td>336.36768759836474</td><td>-0.8756850047744758</td><td>0.10861574</td><td>0.008553076</td><td>25.257465</td><td>25.25532</td><td>0.00676421</td><td>-0.005851685</td><td>4.077252</td><td>22.383587</td><td>0.01347134</td><td>0.01438712</td><td>0.013375815</td><td>0.0</td><td>212</td><td>236</td><td>0</td><td>928</td><td>3771</td><td>2032</td><td>4080</td><td>3291</td><td>3602</td><td>2491</td><td>3602</td><td>0.16864032</td><td>0.11576755</td><td>DR9.5.9</td><td>DR9.0.1-27-g1f3e9a77</td><td>V4.8.2a</td><td>V4.8.2a</td><td>-6.440953e-05</td></tr>\n",
       "<tr><td>80</td><td>decam/CP/V4.8.2a/CP20180916/c4d_180917_052835_ooi_r_ls9.fits.fz</td><td>35</td><td>decam</td><td>774711</td><td>V4.8.2a</td><td>2019-11-02T23:15:02</td><td>95fc861</td><td>N4</td><td>DES survey hex -235-14 tiling 10</td><td>2012B-0001</td><td>r</td><td>90.0</td><td>58378.2281857</td><td>1.33</td><td>3.340328</td><td>2046</td><td>4094</td><td>336.4129791666666</td><td>-1.025616111111111</td><td>-104.2001</td><td>2047.0</td><td>336.4142663324</td><td>-1.022848672079</td><td>-1.530703e-07</td><td>7.286071e-05</td><td>-7.285883e-05</td><td>-1.6076847e-07</td><td>False</td><td>336.41410540782385</td><td>-1.105304827786944</td><td>0.1093119</td><td>0.008146986</td><td>25.350174</td><td>25.351803</td><td>0.0030124092</td><td>-0.04103723</td><td>4.135765</td><td>22.368116</td><td>0.013905565</td><td>0.04409573</td><td>0.020208886</td><td>0.0</td><td>192</td><td>233</td><td>0</td><td>14</td><td>3135</td><td>1372</td><td>4080</td><td>2650</td><td>3603</td><td>-1</td><td>1367</td><td>0.16544807</td><td>0.11514964</td><td>DR9.5.9</td><td>dr9c2-35-gd97c723b</td><td>V4.8.2a</td><td>V4.8.2a</td><td>-6.440953e-05</td></tr>\n",
       "<tr><td>81</td><td>decam/CP/V4.8.2a/CP20130907/c4d_130908_033057_ooi_g_ls9.fits.fz</td><td>47</td><td>decam</td><td>231505</td><td>V4.8.2a</td><td>2019-08-08T07:22:29</td><td>9545f34</td><td>N16</td><td>DES survey hex -235-14 tiling 4</td><td>2012B-0001</td><td>g</td><td>90.0</td><td>56543.14649759</td><td>1.16</td><td>4.939982</td><td>2046</td><td>4094</td><td>336.50882083333335</td><td>-0.6367319444444444</td><td>-4613.0</td><td>4176.667</td><td>336.5126607346</td><td>-0.6340953052573</td><td>-1.2954702e-07</td><td>7.285303e-05</td><td>-7.285724e-05</td><td>-1.2613708e-07</td><td>False</td><td>336.35633549713515</td><td>-1.045605382977661</td><td>0.06346427</td><td>0.0048806802</td><td>25.217106</td><td>25.217949</td><td>-0.0025473686</td><td>0.04575636</td><td>1.2681292</td><td>23.443598</td><td>0.018066507</td><td>0.048555333</td><td>0.026858956</td><td>0.0</td><td>168</td><td>202</td><td>0</td><td>14</td><td>3924</td><td>2032</td><td>4080</td><td>3446</td><td>3605</td><td>157</td><td>2184</td><td>0.110739574</td><td>0.09051797</td><td>DR9.5.9</td><td>DR9.0.1-11-gb167e27c</td><td>V4.8.2a</td><td>V4.8.2a</td><td>-8.4510255e-05</td></tr>\n",
       "<tr><td>82</td><td>decam/CP/V4.8.2a/CP20130928/c4d_130929_034930_ooi_r_ls9.fits.fz</td><td>47</td><td>decam</td><td>239304</td><td>V4.8.2a</td><td>2019-08-08T02:34:43</td><td>9545789</td><td>N16</td><td>DES survey hex -235-14 tiling 4</td><td>2012B-0001</td><td>r</td><td>90.0</td><td>56564.15937851</td><td>1.21</td><td>3.62475</td><td>2046</td><td>4094</td><td>336.50882083333335</td><td>-0.6367319444444444</td><td>-4613.0</td><td>4176.667</td><td>336.5110577132</td><td>-0.634012494471</td><td>-1.1985641e-07</td><td>7.285544e-05</td><td>-7.285709e-05</td><td>-1.2317727e-07</td><td>False</td><td>336.35480422292983</td><td>-1.0455665810018704</td><td>0.10097395</td><td>0.00698675</td><td>25.333675</td><td>25.339642</td><td>0.004202455</td><td>0.0014652208</td><td>3.4652588</td><td>22.560167</td><td>0.009933581</td><td>0.013160258</td><td>0.015889093</td><td>0.0</td><td>171</td><td>202</td><td>0</td><td>14</td><td>3945</td><td>2032</td><td>4080</td><td>3467</td><td>3605</td><td>158</td><td>2184</td><td>0.16029902</td><td>0.11404516</td><td>DR9.5.9</td><td>DR9.0.1-27-g1f3e9a77</td><td>V4.8.2a</td><td>V4.8.2a</td><td>-6.440953e-05</td></tr>\n",
       "<tr><td>83</td><td>decam/CP/V4.8.2a/CP20131012/c4d_131013_003742_ooi_z_ls9.fits.fz</td><td>47</td><td>decam</td><td>243452</td><td>V4.8.2a</td><td>2019-08-08T16:06:09</td><td>9546a4d</td><td>N16</td><td>DES survey hex -235-14 tiling 4</td><td>2012B-0001</td><td>z</td><td>90.0</td><td>56578.02618217</td><td>1.2</td><td>3.023377</td><td>2046</td><td>4094</td><td>336.50882083333335</td><td>-0.6367319444444444</td><td>-4613.0</td><td>4176.667</td><td>336.5136795374</td><td>-0.6339145285786</td><td>-1.4197136e-07</td><td>7.2847935e-05</td><td>-7.28497e-05</td><td>-1.384522e-07</td><td>False</td><td>336.3572690359534</td><td>-1.0453504826056483</td><td>0.27649993</td><td>0.024118073</td><td>25.090248</td><td>25.086746</td><td>0.004171631</td><td>0.007889271</td><td>26.699099</td><td>20.009264</td><td>0.017717537</td><td>0.013359933</td><td>0.02605949</td><td>0.0</td><td>173</td><td>202</td><td>0</td><td>14</td><td>3911</td><td>2032</td><td>4080</td><td>3432</td><td>3606</td><td>160</td><td>2187</td><td>0.18586336</td><td>0.12214319</td><td>DR9.5.9</td><td>DR9.0.1-11-gb167e27c</td><td>V4.8.2a</td><td>V4.8.2a</td><td>2.778646e-05</td></tr>\n",
       "<tr><td>84</td><td>decam/CP/V4.8.2a/CP20180916/c4d_180917_052240_ooi_z_ls9.fits.fz</td><td>35</td><td>decam</td><td>774708</td><td>V4.8.2a</td><td>2019-11-05T00:52:47</td><td>9600d2c</td><td>N4</td><td>DES survey hex -235-14 tiling 10</td><td>2012B-0001</td><td>z</td><td>90.0</td><td>58378.22407526</td><td>1.31</td><td>2.933418</td><td>2046</td><td>4094</td><td>336.4129791666666</td><td>-1.025616111111111</td><td>-104.2001</td><td>2047.0</td><td>336.4149780806</td><td>-1.02305128285</td><td>-1.4484344e-07</td><td>7.285473e-05</td><td>-7.285372e-05</td><td>-1.5614769e-07</td><td>False</td><td>336.4148266797186</td><td>-1.1054578205791392</td><td>0.22913186</td><td>0.02217901</td><td>25.051685</td><td>25.048985</td><td>0.010263558</td><td>-0.035059966</td><td>18.680588</td><td>20.39703</td><td>0.013831403</td><td>0.037710313</td><td>0.017922018</td><td>0.0</td><td>185</td><td>239</td><td>0</td><td>14</td><td>3124</td><td>1370</td><td>4080</td><td>2640</td><td>3604</td><td>-1</td><td>1365</td><td>0.18179841</td><td>0.12018128</td><td>DR9.5.9</td><td>dr9c2-35-gd97c723b</td><td>V4.8.2a</td><td>V4.8.2a</td><td>2.778646e-05</td></tr>\n",
       "<tr><td>85</td><td>decam/CP/V4.8.2a/CP20180916/c4d_180917_052437_ooi_g_ls9.fits.fz</td><td>35</td><td>decam</td><td>774709</td><td>V4.8.2a</td><td>2019-11-02T04:37:24</td><td>95fac5d</td><td>N4</td><td>DES survey hex -235-14 tiling 10</td><td>2012B-0001</td><td>g</td><td>90.0</td><td>58378.22543866</td><td>1.32</td><td>3.571468</td><td>2046</td><td>4094</td><td>336.4129791666666</td><td>-1.025616111111111</td><td>-104.2001</td><td>2047.0</td><td>336.4146385017</td><td>-1.023009368798</td><td>-1.438463e-07</td><td>7.28586e-05</td><td>-7.285739e-05</td><td>-1.5169364e-07</td><td>False</td><td>336.41446519877223</td><td>-1.1054558009081938</td><td>0.077789135</td><td>0.006998152</td><td>25.182432</td><td>25.18298</td><td>0.0015375935</td><td>-0.031351883</td><td>2.0411735</td><td>22.926807</td><td>0.024471551</td><td>0.044880476</td><td>0.017145965</td><td>0.0</td><td>203</td><td>238</td><td>0</td><td>14</td><td>3130</td><td>1370</td><td>4080</td><td>2645</td><td>3603</td><td>-1</td><td>1365</td><td>0.15573832</td><td>0.11149067</td><td>DR9.5.9</td><td>dr9c2-35-gd97c723b</td><td>V4.8.2a</td><td>V4.8.2a</td><td>-8.4510255e-05</td></tr>\n",
       "<tr><td>86</td><td>decam/CP/V4.8.2/CP20161004/c4d_161005_021413_ooi_r_ls9.fits.fz</td><td>31</td><td>decam</td><td>580836</td><td>V4.8.2</td><td>2019-07-05T06:06:45</td><td>94fe07f</td><td>N1</td><td>DES survey hex -235-14 tiling 7</td><td>2012B-0001</td><td>r</td><td>90.0</td><td>57666.09160195</td><td>1.15</td><td>4.272013</td><td>2046</td><td>4094</td><td>337.40375</td><td>-1.0080833333333334</td><td>-104.2001</td><td>14825.0</td><td>337.4037440071</td><td>-1.008087589488</td><td>-1.4230558e-07</td><td>7.285262e-05</td><td>-7.2854855e-05</td><td>-1.3701803e-07</td><td>False</td><td>336.4718400615259</td><td>-1.0885406571576428</td><td>0.10117405</td><td>0.007734218</td><td>25.283024</td><td>25.288704</td><td>-0.009278447</td><td>-0.018558698</td><td>3.4882312</td><td>22.552994</td><td>0.016846439</td><td>0.02168396</td><td>0.021920629</td><td>0.0</td><td>198</td><td>243</td><td>0</td><td>14</td><td>2348</td><td>1604</td><td>4080</td><td>1869</td><td>3605</td><td>-5</td><td>1596</td><td>0.13819236</td><td>0.10503607</td><td>DR9.5.9</td><td>DR9.0.1-27-g1f3e9a77</td><td>V4.8.2</td><td>V4.8.2</td><td>-6.440953e-05</td></tr>\n",
       "<tr><td>87</td><td>decam/CP/V4.8.2/CP20161105/c4d_161106_001854_ooi_z_ls9.fits.fz</td><td>31</td><td>decam</td><td>590083</td><td>V4.8.2</td><td>2019-07-05T09:04:39</td><td>94fe45e</td><td>N1</td><td>DES survey hex -235-14 tiling 7</td><td>2012B-0001</td><td>z</td><td>90.0</td><td>57698.01151984</td><td>1.15</td><td>2.951444</td><td>2046</td><td>4094</td><td>337.407125</td><td>-1.0083333333333333</td><td>-104.2001</td><td>14825.0</td><td>337.4071047726</td><td>-1.008335503463</td><td>-1.4766674e-07</td><td>7.2843635e-05</td><td>-7.2845905e-05</td><td>-1.4925436e-07</td><td>False</td><td>336.4752968186752</td><td>-1.0885233511962302</td><td>0.27634743</td><td>0.027717136</td><td>25.005066</td><td>25.001724</td><td>-0.00960561</td><td>-0.01523453</td><td>27.185476</td><td>19.989664</td><td>0.015032726</td><td>0.018062847</td><td>0.019451192</td><td>0.0</td><td>194</td><td>241</td><td>0</td><td>14</td><td>2300</td><td>1604</td><td>4080</td><td>1822</td><td>3605</td><td>-5</td><td>1596</td><td>0.20198639</td><td>0.12771957</td><td>DR9.5.9</td><td>DR9.0.1-27-g1f3e9a77</td><td>V4.8.2</td><td>V4.8.2</td><td>2.778646e-05</td></tr>\n",
       "<tr><td>88</td><td>decam/CP/V4.8.2/CP20161004/c4d_161005_021618_ooi_g_ls9.fits.fz</td><td>31</td><td>decam</td><td>580837</td><td>V4.8.2</td><td>2019-07-05T03:26:30</td><td>94fdcf5</td><td>N1</td><td>DES survey hex -235-14 tiling 7</td><td>2012B-0001</td><td>g</td><td>90.0</td><td>57666.09297806</td><td>1.15</td><td>4.794174</td><td>2046</td><td>4094</td><td>337.4032916666667</td><td>-1.0079722222222223</td><td>-104.2001</td><td>14825.0</td><td>337.4032885537</td><td>-1.007984217422</td><td>-1.4110995e-07</td><td>7.285122e-05</td><td>-7.285386e-05</td><td>-1.3771313e-07</td><td>False</td><td>336.47134693491</td><td>-1.0884405409542206</td><td>0.062336173</td><td>0.005709537</td><td>25.085304</td><td>25.092487</td><td>-0.0131585505</td><td>-0.022009334</td><td>1.2750592</td><td>23.437681</td><td>0.030498616</td><td>0.03373323</td><td>0.022980044</td><td>0.0</td><td>205</td><td>243</td><td>0</td><td>14</td><td>2355</td><td>1605</td><td>4080</td><td>1875</td><td>3604</td><td>-4</td><td>1597</td><td>0.12222562</td><td>0.09744475</td><td>DR9.5.9</td><td>DR9.0.1-27-g1f3e9a77</td><td>V4.8.2</td><td>V4.8.2</td><td>-8.4510255e-05</td></tr>\n",
       "<tr><td>89</td><td>decam/CP/V4.8.2a/CP20171021/c4d_171022_012942_ooi_r_ls9.fits.fz</td><td>33</td><td>decam</td><td>689639</td><td>V4.8.2a</td><td>2019-07-24T04:01:32</td><td>9525f73</td><td>N2</td><td>DES survey hex -235-14 tiling 9</td><td>2012B-0001</td><td>r</td><td>90.0</td><td>58048.06229672</td><td>1.15</td><td>3.484213</td><td>2046</td><td>4094</td><td>337.22769166666666</td><td>-0.9918</td><td>-104.2001</td><td>10565.67</td><td>337.2276532274</td><td>-0.9924830580315</td><td>-1.3281733e-07</td><td>7.285128e-05</td><td>-7.285294e-05</td><td>-1.3049431e-07</td><td>False</td><td>336.6055603438805</td><td>-1.0736919370791207</td><td>0.10667714</td><td>0.008230386</td><td>25.247725</td><td>25.245533</td><td>0.001618692</td><td>-0.015912658</td><td>3.7229435</td><td>22.48229</td><td>0.014345065</td><td>0.020206379</td><td>0.01906038</td><td>0.0</td><td>218</td><td>248</td><td>0</td><td>14</td><td>514</td><td>1811</td><td>4080</td><td>27</td><td>3605</td><td>-8</td><td>1805</td><td>0.15344837</td><td>0.10929048</td><td>DR9.5.9</td><td>DR9.0.1-27-g1f3e9a77</td><td>V4.8.2a</td><td>V4.8.2a</td><td>-6.440953e-05</td></tr>\n",
       "<tr><td>90</td><td>decam/CP/V4.8.2a/CP20171021/c4d_171022_012744_ooi_g_ls9.fits.fz</td><td>33</td><td>decam</td><td>689638</td><td>V4.8.2a</td><td>2019-07-24T06:17:52</td><td>952630f</td><td>N2</td><td>DES survey hex -235-14 tiling 9</td><td>2012B-0001</td><td>g</td><td>90.0</td><td>58048.06092753</td><td>1.15</td><td>3.939775</td><td>2046</td><td>4094</td><td>337.22769166666666</td><td>-0.9918</td><td>-104.2001</td><td>10565.67</td><td>337.2279628927</td><td>-0.9922010567888</td><td>-1.3271111e-07</td><td>7.285006e-05</td><td>-7.285226e-05</td><td>-1.3162591e-07</td><td>False</td><td>336.6058525235317</td><td>-1.0733919718523868</td><td>0.06417639</td><td>0.0059948373</td><td>25.037212</td><td>25.035526</td><td>0.01684829</td><td>-0.021574363</td><td>1.280673</td><td>23.43291</td><td>0.021309773</td><td>0.032794062</td><td>0.021594666</td><td>0.0</td><td>218</td><td>248</td><td>0</td><td>14</td><td>510</td><td>1815</td><td>4080</td><td>23</td><td>3605</td><td>-8</td><td>1809</td><td>0.13557968</td><td>0.10189347</td><td>DR9.5.9</td><td>DR9.0.1-27-g1f3e9a77</td><td>V4.8.2a</td><td>V4.8.2a</td><td>-8.4510255e-05</td></tr>\n",
       "<tr><td>91</td><td>decam/CP/V4.8.2a/CP20130907/c4d_130908_033057_ooi_g_ls9.fits.fz</td><td>48</td><td>decam</td><td>231505</td><td>V4.8.2a</td><td>2019-08-08T07:22:29</td><td>9545f34</td><td>N17</td><td>DES survey hex -235-14 tiling 4</td><td>2012B-0001</td><td>g</td><td>90.0</td><td>56543.14649759</td><td>1.16</td><td>5.147848</td><td>2046</td><td>4094</td><td>336.50882083333335</td><td>-0.6367319444444444</td><td>-4613.0</td><td>-82.66665</td><td>336.5126607346</td><td>-0.6340953052573</td><td>-1.2954702e-07</td><td>7.285303e-05</td><td>-7.285724e-05</td><td>-1.2613708e-07</td><td>False</td><td>336.6673219502338</td><td>-1.0461645250869107</td><td>0.06398779</td><td>0.004866578</td><td>25.220005</td><td>25.217949</td><td>-0.01736349</td><td>0.039733734</td><td>1.262596</td><td>23.448345</td><td>0.02568168</td><td>0.04824291</td><td>0.017628534</td><td>0.0</td><td>213</td><td>247</td><td>0</td><td>14</td><td>14</td><td>2032</td><td>3262</td><td>-4</td><td>3265</td><td>153</td><td>2182</td><td>0.11011669</td><td>0.09018135</td><td>DR9.5.9</td><td>DR9.0.1-11-gb167e27c</td><td>V4.8.2a</td><td>V4.8.2a</td><td>-8.4510255e-05</td></tr>\n",
       "<tr><td>92</td><td>decam/CP/V4.8.2a/CP20130928/c4d_130929_034930_ooi_r_ls9.fits.fz</td><td>48</td><td>decam</td><td>239304</td><td>V4.8.2a</td><td>2019-08-08T02:34:43</td><td>9545789</td><td>N17</td><td>DES survey hex -235-14 tiling 4</td><td>2012B-0001</td><td>r</td><td>90.0</td><td>56564.15937851</td><td>1.21</td><td>3.626438</td><td>2046</td><td>4094</td><td>336.50882083333335</td><td>-0.6367319444444444</td><td>-4613.0</td><td>-82.66665</td><td>336.5110577132</td><td>-0.634012494471</td><td>-1.1985641e-07</td><td>7.285544e-05</td><td>-7.285709e-05</td><td>-1.2317727e-07</td><td>False</td><td>336.6658071420853</td><td>-1.0461145269340404</td><td>0.10233126</td><td>0.0069235675</td><td>25.34201</td><td>25.339642</td><td>-0.0011263575</td><td>0.002665768</td><td>3.4650042</td><td>22.560247</td><td>0.011277638</td><td>0.0148455</td><td>0.019347245</td><td>0.0</td><td>216</td><td>247</td><td>0</td><td>14</td><td>100</td><td>2032</td><td>3282</td><td>-3</td><td>3200</td><td>154</td><td>2183</td><td>0.15787691</td><td>0.1130478</td><td>DR9.5.9</td><td>DR9.0.1-27-g1f3e9a77</td><td>V4.8.2a</td><td>V4.8.2a</td><td>-6.440953e-05</td></tr>\n",
       "<tr><td>93</td><td>decam/CP/V4.8.2a/CP20131012/c4d_131013_003742_ooi_z_ls9.fits.fz</td><td>48</td><td>decam</td><td>243452</td><td>V4.8.2a</td><td>2019-08-08T16:06:09</td><td>9546a4d</td><td>N17</td><td>DES survey hex -235-14 tiling 4</td><td>2012B-0001</td><td>z</td><td>90.0</td><td>56578.02618217</td><td>1.2</td><td>2.958082</td><td>2046</td><td>4094</td><td>336.50882083333335</td><td>-0.6367319444444444</td><td>-4613.0</td><td>-82.66665</td><td>336.5136795374</td><td>-0.6339145285786</td><td>-1.4197136e-07</td><td>7.2847935e-05</td><td>-7.28497e-05</td><td>-1.384522e-07</td><td>False</td><td>336.6682538260631</td><td>-1.0459863340656474</td><td>0.2795898</td><td>0.024306698</td><td>25.084211</td><td>25.086746</td><td>0.009528121</td><td>0.020508256</td><td>26.660727</td><td>20.010826</td><td>0.01438819</td><td>0.022402944</td><td>0.022690425</td><td>0.0</td><td>217</td><td>250</td><td>0</td><td>14</td><td>14</td><td>2032</td><td>3249</td><td>-4</td><td>3253</td><td>155</td><td>2185</td><td>0.18909103</td><td>0.12292636</td><td>DR9.5.9</td><td>DR9.0.1-11-gb167e27c</td><td>V4.8.2a</td><td>V4.8.2a</td><td>2.778646e-05</td></tr>\n",
       "<tr><td>94</td><td>decam/CP/V4.8.2a/CP20160814/c4d_160815_051951_ooi_z_ls9.fits.fz</td><td>27</td><td>decam</td><td>564496</td><td>V4.8.2a</td><td>2019-08-09T13:44:36</td><td>95478a4</td><td>S4</td><td>DES survey hex -235-14 tiling 5</td><td>2012B-0001</td><td>z</td><td>90.0</td><td>57615.22049168</td><td>1.15</td><td>4.977398</td><td>2046</td><td>4094</td><td>336.5248</td><td>-1.1270638888888889</td><td>2150.2</td><td>2047.0</td><td>336.5292451908</td><td>-1.128282693429</td><td>-1.5174174e-07</td><td>7.285412e-05</td><td>-7.285609e-05</td><td>-1.5107703e-07</td><td>False</td><td>336.5297257948669</td><td>-1.0457701045687293</td><td>0.2580613</td><td>0.024823867</td><td>25.0133</td><td>25.010796</td><td>0.009399426</td><td>-0.009187079</td><td>22.505491</td><td>20.194786</td><td>0.015944492</td><td>0.016536742</td><td>0.015667608</td><td>0.0</td><td>192</td><td>225</td><td>0</td><td>14</td><td>1557</td><td>2032</td><td>4080</td><td>1062</td><td>3604</td><td>153</td><td>2188</td><td>0.10928476</td><td>0.08905947</td><td>DR9.5.9</td><td>DR9.0.1-27-g1f3e9a77</td><td>V4.8.2a</td><td>V4.8.2a</td><td>2.778646e-05</td></tr>\n",
       "<tr><td>95</td><td>decam/CP/V4.8.2a/CP20151107/c4d_151108_003731_ooi_g_ls9.fits.fz</td><td>27</td><td>decam</td><td>490983</td><td>V4.8.2a</td><td>2019-09-05T13:32:05</td><td>958078a</td><td>S4</td><td>DES survey hex -235-14 tiling 5</td><td>2012B-0001</td><td>g</td><td>90.0</td><td>57334.02443758</td><td>1.16</td><td>3.735801</td><td>2046</td><td>4094</td><td>336.5248</td><td>-1.1270638888888889</td><td>2150.2</td><td>2047.0</td><td>336.5225904079</td><td>-1.12347824887</td><td>-1.2075571e-07</td><td>7.284943e-05</td><td>-7.285185e-05</td><td>-1.208151e-07</td><td>False</td><td>336.5230015583225</td><td>-1.041016658077319</td><td>0.06864684</td><td>0.0065541505</td><td>25.070562</td><td>25.06161</td><td>0.0007586865</td><td>-0.022023534</td><td>1.4945626</td><td>23.26522</td><td>0.011059022</td><td>0.034137603</td><td>0.014258698</td><td>0.0</td><td>185</td><td>224</td><td>0</td><td>14</td><td>1649</td><td>2032</td><td>4080</td><td>1155</td><td>3604</td><td>219</td><td>2253</td><td>0.14704578</td><td>0.10777786</td><td>DR9.5.9</td><td>DR9.0.1-45-g5eef153a</td><td>V4.8.2a</td><td>V4.8.2a</td><td>-8.4510255e-05</td></tr>\n",
       "<tr><td>96</td><td>decam/CP/V4.8.2a/CP20151107/c4d_151108_003333_ooi_r_ls9.fits.fz</td><td>27</td><td>decam</td><td>490981</td><td>V4.8.2a</td><td>2019-08-22T17:41:51</td><td>95645c8</td><td>S4</td><td>DES survey hex -235-14 tiling 5</td><td>2012B-0001</td><td>r</td><td>90.0</td><td>57334.0216954</td><td>1.15</td><td>3.340153</td><td>2046</td><td>4094</td><td>336.5248</td><td>-1.1270638888888889</td><td>2150.2</td><td>2047.0</td><td>336.5229428565</td><td>-1.123180699319</td><td>-1.2241655e-07</td><td>7.2851006e-05</td><td>-7.285233e-05</td><td>-1.2040907e-07</td><td>False</td><td>336.5233684979539</td><td>-1.0407291527509939</td><td>0.10805841</td><td>0.00865361</td><td>25.25531</td><td>25.25532</td><td>0.008695746</td><td>-0.017716039</td><td>4.0815377</td><td>22.382446</td><td>0.014926532</td><td>0.021190424</td><td>0.02263252</td><td>0.0</td><td>190</td><td>224</td><td>0</td><td>14</td><td>1644</td><td>2032</td><td>4080</td><td>1150</td><td>3604</td><td>223</td><td>2257</td><td>0.16596282</td><td>0.11502756</td><td>DR9.5.9</td><td>DR9.0.1-27-g1f3e9a77</td><td>V4.8.2a</td><td>V4.8.2a</td><td>-6.440953e-05</td></tr>\n",
       "<tr><td>97</td><td>decam/CP/V4.8.2a/CP20130910/c4d_130911_053835_ooi_g_ls9.fits.fz</td><td>38</td><td>decam</td><td>232799</td><td>V4.8.2a</td><td>2019-08-08T17:38:39</td><td>9546d1a</td><td>N7</td><td>DES survey hex -235-14 tiling 2</td><td>2012B-0001</td><td>g</td><td>90.0</td><td>56546.2351368</td><td>1.3</td><td>6.08209</td><td>2046</td><td>4094</td><td>335.6941166666667</td><td>-0.9410761111111111</td><td>-104.2001</td><td>-10731.0</td><td>335.6934374863</td><td>-0.9421919655618</td><td>-1.1120952e-07</td><td>7.2859635e-05</td><td>-7.285826e-05</td><td>-1.2079457e-07</td><td>False</td><td>336.62510436186864</td><td>-1.0258137797862599</td><td>0.07299279</td><td>0.004706814</td><td>25.202412</td><td>25.19998</td><td>-0.010682108</td><td>-0.026143666</td><td>1.2545202</td><td>23.455313</td><td>0.02685784</td><td>0.038515203</td><td>0.018124662</td><td>0.0</td><td>196</td><td>237</td><td>0</td><td>14</td><td>246</td><td>2032</td><td>3845</td><td>-2</td><td>3604</td><td>432</td><td>2461</td><td>0.09121731</td><td>0.07853708</td><td>DR9.5.9</td><td>DR9.0.1-11-gb167e27c</td><td>V4.8.2a</td><td>V4.8.2a</td><td>-8.4510255e-05</td></tr>\n",
       "<tr><td>98</td><td>decam/CP/V4.8.2a/CP20131122/c4d_131123_011235_ooi_r_ls9.fits.fz</td><td>38</td><td>decam</td><td>257441</td><td>V4.8.2a</td><td>2019-08-08T18:42:18</td><td>9546e45</td><td>N7</td><td>DES survey hex -235-14 tiling 2</td><td>2012B-0001</td><td>r</td><td>90.0</td><td>56619.05041406</td><td>1.37</td><td>3.822213</td><td>2046</td><td>4094</td><td>335.6941166666667</td><td>-0.9410761111111111</td><td>-104.2001</td><td>-10731.0</td><td>335.6958189307</td><td>-0.9418159817906</td><td>-1.0348637e-07</td><td>7.285537e-05</td><td>-7.285395e-05</td><td>-1.1369417e-07</td><td>False</td><td>336.6274690067168</td><td>-1.0253619175038013</td><td>0.11382652</td><td>0.007938644</td><td>25.256237</td><td>25.25668</td><td>-0.00023896963</td><td>0.00692263</td><td>4.103692</td><td>22.37657</td><td>0.014312419</td><td>0.018181536</td><td>0.019212253</td><td>0.0</td><td>213</td><td>242</td><td>0</td><td>14</td><td>213</td><td>2032</td><td>3813</td><td>-2</td><td>3604</td><td>438</td><td>2468</td><td>0.14830577</td><td>0.10837774</td><td>DR9.5.9</td><td>DR9.0.1-11-gb167e27c</td><td>V4.8.2a</td><td>V4.8.2a</td><td>-6.440953e-05</td></tr>\n",
       "<tr><td>99</td><td>decam/CP/V4.8.2a/CP20131011/c4d_131012_010158_ooi_z_ls9.fits.fz</td><td>38</td><td>decam</td><td>243054</td><td>V4.8.2a</td><td>2019-08-08T11:12:03</td><td>9546420</td><td>N7</td><td>DES survey hex -235-14 tiling 2</td><td>2012B-0001</td><td>z</td><td>90.0</td><td>56577.04304303</td><td>1.17</td><td>3.436126</td><td>2046</td><td>4094</td><td>335.6941166666667</td><td>-0.9410761111111111</td><td>-104.2001</td><td>-10731.0</td><td>335.7000625099</td><td>-0.9384798196064</td><td>-1.357787e-07</td><td>7.284784e-05</td><td>-7.2848816e-05</td><td>-1.3440678e-07</td><td>False</td><td>336.6315784639489</td><td>-1.022297005039293</td><td>0.26068124</td><td>0.022175634</td><td>25.070765</td><td>25.072376</td><td>0.004246273</td><td>0.012882004</td><td>23.33606</td><td>20.155437</td><td>0.0109512545</td><td>0.018638179</td><td>0.015575459</td><td>0.0</td><td>200</td><td>238</td><td>0</td><td>14</td><td>155</td><td>2032</td><td>3758</td><td>-3</td><td>3605</td><td>480</td><td>2510</td><td>0.17072089</td><td>0.11660141</td><td>DR9.5.9</td><td>DR9.0.1-11-gb167e27c</td><td>V4.8.2a</td><td>V4.8.2a</td><td>2.778646e-05</td></tr>\n",
       "<tr><td>100</td><td>decam/CP/V4.8.2/CP20160922/c4d_160923_023251_ooi_r_ls9.fits.fz</td><td>36</td><td>decam</td><td>576102</td><td>V4.8.2</td><td>2019-07-04T14:06:07</td><td>94fcabd</td><td>N6</td><td>DES survey hex -235-14 tiling 6</td><td>2012B-0001</td><td>r</td><td>90.0</td><td>57654.10452443</td><td>1.16</td><td>4.235105</td><td>2046</td><td>4094</td><td>335.997875</td><td>-0.9245555555555556</td><td>-104.2001</td><td>-6471.667</td><td>335.9978575972</td><td>-0.9245680992275</td><td>-1.5253983e-07</td><td>7.285339e-05</td><td>-7.285507e-05</td><td>-1.4701635e-07</td><td>False</td><td>336.6195645609183</td><td>-1.008019667764022</td><td>0.10411519</td><td>0.007958333</td><td>25.288353</td><td>25.289875</td><td>0.00076721114</td><td>-0.008279859</td><td>3.552731</td><td>22.5331</td><td>0.01259793</td><td>0.016006554</td><td>0.021065312</td><td>0.0</td><td>191</td><td>220</td><td>0</td><td>14</td><td>325</td><td>2032</td><td>3921</td><td>-3</td><td>3605</td><td>675</td><td>2707</td><td>0.13421632</td><td>0.10280477</td><td>DR9.5.9</td><td>DR9.0.1-27-g1f3e9a77</td><td>V4.8.2</td><td>V4.8.2</td><td>-6.440953e-05</td></tr>\n",
       "<tr><td>101</td><td>decam/CP/V4.8.2/CP20160922/c4d_160923_023448_ooi_g_ls9.fits.fz</td><td>36</td><td>decam</td><td>576103</td><td>V4.8.2</td><td>2019-07-04T11:58:43</td><td>94fc805</td><td>N6</td><td>DES survey hex -235-14 tiling 6</td><td>2012B-0001</td><td>g</td><td>90.0</td><td>57654.1059038</td><td>1.15</td><td>4.816218</td><td>2046</td><td>4094</td><td>335.998125</td><td>-0.9243055555555556</td><td>-104.2001</td><td>-6471.667</td><td>335.9981381608</td><td>-0.9243069979515</td><td>-1.5147033e-07</td><td>7.2852534e-05</td><td>-7.285496e-05</td><td>-1.4798067e-07</td><td>False</td><td>336.6198072534751</td><td>-1.0077353257320358</td><td>0.06393094</td><td>0.006090166</td><td>25.092876</td><td>25.089212</td><td>-0.0023404015</td><td>-0.015246009</td><td>1.2557302</td><td>23.454266</td><td>0.017584916</td><td>0.033064347</td><td>0.022331826</td><td>0.0</td><td>182</td><td>218</td><td>0</td><td>14</td><td>322</td><td>2032</td><td>3918</td><td>-4</td><td>3605</td><td>679</td><td>2711</td><td>0.117202155</td><td>0.09411112</td><td>DR9.5.9</td><td>DR9.0.1-27-g1f3e9a77</td><td>V4.8.2</td><td>V4.8.2</td><td>-8.4510255e-05</td></tr>\n",
       "<tr><td>102</td><td>decam/CP/V4.8.2/CP20160928/c4d_160929_021007_ooi_z_ls9.fits.fz</td><td>36</td><td>decam</td><td>578631</td><td>V4.8.2</td><td>2019-07-04T16:25:59</td><td>94fcdd3</td><td>N6</td><td>DES survey hex -235-14 tiling 6</td><td>2012B-0001</td><td>z</td><td>90.0</td><td>57660.08874258</td><td>1.15</td><td>3.468404</td><td>2046</td><td>4094</td><td>335.9962083333333</td><td>-0.9238611111111111</td><td>-104.2001</td><td>-6471.667</td><td>335.9962283768</td><td>-0.9238561341224</td><td>-1.5585037e-07</td><td>7.284821e-05</td><td>-7.285069e-05</td><td>-1.538005e-07</td><td>False</td><td>336.6179214939231</td><td>-1.0073505268282756</td><td>0.22424747</td><td>0.022130614</td><td>25.018686</td><td>25.017384</td><td>-0.008858389</td><td>-0.015870715</td><td>17.820677</td><td>20.448196</td><td>0.014058992</td><td>0.01918622</td><td>0.017555602</td><td>0.0</td><td>193</td><td>220</td><td>0</td><td>14</td><td>347</td><td>2032</td><td>3944</td><td>-4</td><td>3606</td><td>684</td><td>2717</td><td>0.15671839</td><td>0.111466415</td><td>DR9.5.9</td><td>DR9.0.1-27-g1f3e9a77</td><td>V4.8.2</td><td>V4.8.2</td><td>2.778646e-05</td></tr>\n",
       "<tr><td>103</td><td>decam/CP/V4.8.2a/CP20131010/c4d_131011_015451_ooi_z_ls9.fits.fz</td><td>16</td><td>decam</td><td>242716</td><td>V4.8.2a</td><td>2019-08-08T11:07:29</td><td>9546420</td><td>S17</td><td>DES survey hex -235-14 tiling 1</td><td>2012B-0001</td><td>z</td><td>90.0</td><td>56576.07976804</td><td>1.14</td><td>3.386445</td><td>2046</td><td>4094</td><td>336.4609</td><td>-1.4145</td><td>6659.0</td><td>-82.66665</td><td>336.463507592</td><td>-1.412668501915</td><td>-1.3071602e-07</td><td>7.284686e-05</td><td>-7.284934e-05</td><td>-1.3261064e-07</td><td>False</td><td>336.619903053952</td><td>-1.0012415946755024</td><td>0.19913092</td><td>0.017531894</td><td>25.071766</td><td>25.068596</td><td>-0.017772134</td><td>0.009951798</td><td>13.390544</td><td>20.75851</td><td>0.020835616</td><td>0.01680591</td><td>0.01677509</td><td>0.0</td><td>195</td><td>221</td><td>0</td><td>14</td><td>325</td><td>2032</td><td>3908</td><td>0</td><td>3604</td><td>767</td><td>2800</td><td>0.16545989</td><td>0.11488135</td><td>DR9.5.9</td><td>DR9.0.1-11-gb167e27c</td><td>V4.8.2a</td><td>V4.8.2a</td><td>2.778646e-05</td></tr>\n",
       "<tr><td>104</td><td>decam/CP/V4.8.2a/CP20130929/c4d_130930_014909_ooi_r_ls9.fits.fz</td><td>16</td><td>decam</td><td>239604</td><td>V4.8.2a</td><td>2019-08-08T02:38:50</td><td>9545789</td><td>S17</td><td>DES survey hex -235-14 tiling 1</td><td>2012B-0001</td><td>r</td><td>90.0</td><td>56565.07579899</td><td>1.16</td><td>3.287465</td><td>2046</td><td>4094</td><td>336.4609</td><td>-1.4145</td><td>6659.0</td><td>-82.66665</td><td>336.4623595256</td><td>-1.412206548413</td><td>-1.3593198e-07</td><td>7.285414e-05</td><td>-7.28557e-05</td><td>-1.2936806e-07</td><td>False</td><td>336.61872734147136</td><td>-1.0007915562979761</td><td>0.107412696</td><td>0.007395652</td><td>25.342133</td><td>25.33762</td><td>-0.0072815213</td><td>0.008270121</td><td>3.851555</td><td>22.445415</td><td>0.010336669</td><td>0.016630596</td><td>0.019317</td><td>0.0</td><td>185</td><td>219</td><td>0</td><td>14</td><td>341</td><td>2032</td><td>3924</td><td>0</td><td>3604</td><td>773</td><td>2806</td><td>0.18719374</td><td>0.12517267</td><td>DR9.5.9</td><td>DR9.0.1-27-g1f3e9a77</td><td>V4.8.2a</td><td>V4.8.2a</td><td>-6.440953e-05</td></tr>\n",
       "<tr><td>105</td><td>decam/CP/V4.8.2a/CP20130909/c4d_130910_014701_ooi_g_ls9.fits.fz</td><td>16</td><td>decam</td><td>232263</td><td>V4.8.2a</td><td>2019-08-08T12:58:34</td><td>9546715</td><td>S17</td><td>DES survey hex -235-14 tiling 1</td><td>2012B-0001</td><td>g</td><td>90.0</td><td>56545.07431716</td><td>1.33</td><td>4.860305</td><td>2046</td><td>4094</td><td>336.4609</td><td>-1.4145</td><td>6659.0</td><td>-82.66665</td><td>336.4661922529</td><td>-1.410278517151</td><td>-1.371452e-07</td><td>7.2858216e-05</td><td>-7.2857954e-05</td><td>-1.2415835e-07</td><td>False</td><td>336.6225665752739</td><td>-0.9988359676030251</td><td>0.08044151</td><td>0.00651648</td><td>25.142754</td><td>25.139305</td><td>-0.025937498</td><td>-0.003321798</td><td>1.9813851</td><td>22.959084</td><td>0.04095782</td><td>0.027020559</td><td>0.020838425</td><td>0.0</td><td>191</td><td>221</td><td>0</td><td>14</td><td>289</td><td>2032</td><td>3872</td><td>-1</td><td>3604</td><td>800</td><td>2833</td><td>0.11653228</td><td>0.09387037</td><td>DR9.5.9</td><td>DR9.0.1-11-gb167e27c</td><td>V4.8.2a</td><td>V4.8.2a</td><td>-8.4510255e-05</td></tr>\n",
       "<tr><td>106</td><td>decam/CP/V4.8.2a/CP20171108/c4d_171109_002003_ooi_g_ls9.fits.fz</td><td>11</td><td>decam</td><td>694142</td><td>V4.8.2a</td><td>2019-07-24T10:02:42</td><td>952682e</td><td>S23</td><td>DES survey hex -235-14 tiling 8</td><td>2012B-0001</td><td>g</td><td>90.0</td><td>58066.01393135</td><td>1.15</td><td>4.029935</td><td>2046</td><td>4094</td><td>336.22122083333335</td><td>-1.5497638888888887</td><td>8913.4</td><td>-2212.333</td><td>336.2256174351</td><td>-1.5484579785</td><td>-1.3821646e-07</td><td>7.284893e-05</td><td>-7.2850744e-05</td><td>-1.3884555e-07</td><td>False</td><td>336.5375017119088</td><td>-0.9730164326516768</td><td>0.0991739</td><td>0.009218386</td><td>25.034359</td><td>25.022644</td><td>0.026590697</td><td>-0.030252581</td><td>3.1750584</td><td>22.447126</td><td>0.028637346</td><td>0.04518974</td><td>0.02437535</td><td>0.0</td><td>170</td><td>204</td><td>0</td><td>14</td><td>1450</td><td>2032</td><td>4080</td><td>962</td><td>3603</td><td>1153</td><td>3184</td><td>0.13416386</td><td>0.101522826</td><td>DR9.5.9</td><td>DR9.0.1-27-g1f3e9a77</td><td>V4.8.2a</td><td>V4.8.2a</td><td>-8.4510255e-05</td></tr>\n",
       "<tr><td>107</td><td>decam/CP/V4.8.2a/CP20170926/c4d_170927_025457_ooi_r_ls9.fits.fz</td><td>11</td><td>decam</td><td>681991</td><td>V4.8.2a</td><td>2019-07-23T20:32:01</td><td>95254c6</td><td>S23</td><td>DES survey hex -235-14 tiling 8</td><td>2012B-0001</td><td>r</td><td>90.0</td><td>58023.12149533</td><td>1.14</td><td>3.458813</td><td>2046</td><td>4094</td><td>336.22122083333335</td><td>-1.5497638888888887</td><td>8913.4</td><td>-2212.333</td><td>336.2301008356</td><td>-1.541801022795</td><td>-1.3388022e-07</td><td>7.285396e-05</td><td>-7.285599e-05</td><td>-1.3169732e-07</td><td>False</td><td>336.54198667074513</td><td>-0.9663018096611238</td><td>0.11837999</td><td>0.009283555</td><td>25.240387</td><td>25.242157</td><td>0.0125653595</td><td>-0.008102012</td><td>4.7197285</td><td>22.224714</td><td>0.014567323</td><td>0.016104875</td><td>0.020339992</td><td>0.0</td><td>170</td><td>204</td><td>0</td><td>14</td><td>1389</td><td>2032</td><td>4080</td><td>901</td><td>3603</td><td>1246</td><td>3277</td><td>0.1548468</td><td>0.10998083</td><td>DR9.5.9</td><td>DR9.0.1-27-g1f3e9a77</td><td>V4.8.2a</td><td>V4.8.2a</td><td>-6.440953e-05</td></tr>\n",
       "<tr><td>108</td><td>decam/CP/V4.8.2a/CP20170926/c4d_170927_025655_ooi_z_ls9.fits.fz</td><td>11</td><td>decam</td><td>681992</td><td>V4.8.2a</td><td>2019-07-20T19:45:47</td><td>951ee00</td><td>S23</td><td>DES survey hex -235-14 tiling 8</td><td>2012B-0001</td><td>z</td><td>90.0</td><td>58023.12286809</td><td>1.14</td><td>2.9317</td><td>2046</td><td>4094</td><td>336.229875</td><td>-1.5416666666666665</td><td>8913.4</td><td>-2212.333</td><td>336.2298657446</td><td>-1.541653145183</td><td>-1.3660662e-07</td><td>7.284871e-05</td><td>-7.285018e-05</td><td>-1.3839802e-07</td><td>False</td><td>336.5418655576757</td><td>-0.9661769421622839</td><td>0.23627587</td><td>0.023641909</td><td>24.990791</td><td>24.987888</td><td>0.003765414</td><td>-0.010771829</td><td>19.651398</td><td>20.342022</td><td>0.008036574</td><td>0.014540345</td><td>0.019142197</td><td>0.0</td><td>168</td><td>205</td><td>0</td><td>14</td><td>1391</td><td>2032</td><td>4080</td><td>903</td><td>3603</td><td>1247</td><td>3279</td><td>0.17520143</td><td>0.116393976</td><td>DR9.5.9</td><td>DR9.0.1-27-g1f3e9a77</td><td>V4.8.2a</td><td>V4.8.2a</td><td>2.778646e-05</td></tr>\n",
       "<tr><td>109</td><td>decam/CP/V4.8.2a/CP20180916/c4d_180917_052240_ooi_z_ls9.fits.fz</td><td>28</td><td>decam</td><td>774708</td><td>V4.8.2a</td><td>2019-11-05T00:52:47</td><td>9600d2c</td><td>S4</td><td>DES survey hex -235-14 tiling 10</td><td>2012B-0001</td><td>z</td><td>90.0</td><td>58378.22407526</td><td>1.31</td><td>2.983125</td><td>2046</td><td>4094</td><td>336.4129791666666</td><td>-1.025616111111111</td><td>2150.2</td><td>2047.0</td><td>336.4149780806</td><td>-1.02305128285</td><td>-1.4484344e-07</td><td>7.285473e-05</td><td>-7.285372e-05</td><td>-1.5614769e-07</td><td>False</td><td>336.4154523769132</td><td>-0.9405512636182454</td><td>0.23240978</td><td>0.021966137</td><td>25.04996</td><td>25.048985</td><td>0.016912954</td><td>-0.029816248</td><td>18.647434</td><td>20.398958</td><td>0.018196976</td><td>0.033091</td><td>0.020599661</td><td>0.0</td><td>170</td><td>210</td><td>0</td><td>44</td><td>3117</td><td>2032</td><td>4080</td><td>2632</td><td>3604</td><td>1599</td><td>3601</td><td>0.18148239</td><td>0.120103285</td><td>DR9.5.9</td><td>dr9c2-35-gd97c723b</td><td>V4.8.2a</td><td>V4.8.2a</td><td>2.778646e-05</td></tr>\n",
       "<tr><td>110</td><td>decam/CP/V4.8.2/CP20161004/c4d_161005_021413_ooi_r_ls9.fits.fz</td><td>24</td><td>decam</td><td>580836</td><td>V4.8.2</td><td>2019-07-05T06:06:45</td><td>94fe07f</td><td>S1</td><td>DES survey hex -235-14 tiling 7</td><td>2012B-0001</td><td>r</td><td>90.0</td><td>57666.09160195</td><td>1.15</td><td>4.280974</td><td>2046</td><td>4094</td><td>337.40375</td><td>-1.0080833333333334</td><td>2150.2</td><td>14825.0</td><td>337.4037440071</td><td>-1.008087589488</td><td>-1.4230558e-07</td><td>7.285262e-05</td><td>-7.2854855e-05</td><td>-1.3701803e-07</td><td>False</td><td>336.4723240154641</td><td>-0.924222003999719</td><td>0.10054521</td><td>0.007582967</td><td>25.292133</td><td>25.288704</td><td>0.015564361</td><td>-0.013765872</td><td>3.4831889</td><td>22.554564</td><td>0.022468148</td><td>0.018761186</td><td>0.018659446</td><td>0.0</td><td>190</td><td>210</td><td>0</td><td>264</td><td>2342</td><td>2032</td><td>4080</td><td>1863</td><td>3605</td><td>1826</td><td>3603</td><td>0.1396382</td><td>0.10553541</td><td>DR9.5.9</td><td>DR9.0.1-27-g1f3e9a77</td><td>V4.8.2</td><td>V4.8.2</td><td>-6.440953e-05</td></tr>\n",
       "<tr><td>111</td><td>decam/CP/V4.8.2/CP20161105/c4d_161106_001854_ooi_z_ls9.fits.fz</td><td>24</td><td>decam</td><td>590083</td><td>V4.8.2</td><td>2019-07-05T09:04:39</td><td>94fe45e</td><td>S1</td><td>DES survey hex -235-14 tiling 7</td><td>2012B-0001</td><td>z</td><td>90.0</td><td>57698.01151984</td><td>1.15</td><td>2.885291</td><td>2046</td><td>4094</td><td>337.407125</td><td>-1.0083333333333333</td><td>2150.2</td><td>14825.0</td><td>337.4071047726</td><td>-1.008335503463</td><td>-1.4766674e-07</td><td>7.2843635e-05</td><td>-7.2845905e-05</td><td>-1.4925436e-07</td><td>False</td><td>336.4758160130161</td><td>-0.924221947387418</td><td>0.27501848</td><td>0.027317422</td><td>25.006414</td><td>25.001724</td><td>-0.0017741708</td><td>-0.019444326</td><td>27.122255</td><td>19.992191</td><td>0.009116541</td><td>0.021074785</td><td>0.023512792</td><td>0.0</td><td>172</td><td>209</td><td>0</td><td>263</td><td>2294</td><td>2032</td><td>4080</td><td>1815</td><td>3605</td><td>1826</td><td>3604</td><td>0.20165217</td><td>0.12670279</td><td>DR9.5.9</td><td>DR9.0.1-27-g1f3e9a77</td><td>V4.8.2</td><td>V4.8.2</td><td>2.778646e-05</td></tr>\n",
       "<tr><td>112</td><td>decam/CP/V4.8.2/CP20161004/c4d_161005_021618_ooi_g_ls9.fits.fz</td><td>24</td><td>decam</td><td>580837</td><td>V4.8.2</td><td>2019-07-05T03:26:30</td><td>94fdcf5</td><td>S1</td><td>DES survey hex -235-14 tiling 7</td><td>2012B-0001</td><td>g</td><td>90.0</td><td>57666.09297806</td><td>1.15</td><td>4.794434</td><td>2046</td><td>4094</td><td>337.4032916666667</td><td>-1.0079722222222223</td><td>2150.2</td><td>14825.0</td><td>337.4032885537</td><td>-1.007984217422</td><td>-1.4110995e-07</td><td>7.285122e-05</td><td>-7.285386e-05</td><td>-1.3771313e-07</td><td>False</td><td>336.47183001997075</td><td>-0.9241166810464754</td><td>0.06264091</td><td>0.0056029265</td><td>25.09344</td><td>25.092487</td><td>0.003643939</td><td>-0.017300835</td><td>1.2743425</td><td>23.438292</td><td>0.028460642</td><td>0.03099896</td><td>0.02162039</td><td>0.0</td><td>188</td><td>209</td><td>0</td><td>265</td><td>2349</td><td>2032</td><td>4080</td><td>1869</td><td>3605</td><td>1827</td><td>3604</td><td>0.12304741</td><td>0.09777351</td><td>DR9.5.9</td><td>DR9.0.1-27-g1f3e9a77</td><td>V4.8.2</td><td>V4.8.2</td><td>-8.4510255e-05</td></tr>\n",
       "<tr><td>113</td><td>decam/CP/V4.8.2a/CP20171021/c4d_171022_012942_ooi_r_ls9.fits.fz</td><td>26</td><td>decam</td><td>689639</td><td>V4.8.2a</td><td>2019-07-24T04:01:32</td><td>9525f73</td><td>S2</td><td>DES survey hex -235-14 tiling 9</td><td>2012B-0001</td><td>r</td><td>90.0</td><td>58048.06229672</td><td>1.15</td><td>3.556392</td><td>2046</td><td>4094</td><td>337.22769166666666</td><td>-0.9918</td><td>2150.2</td><td>10565.67</td><td>337.2276532274</td><td>-0.9924830580315</td><td>-1.3281733e-07</td><td>7.285128e-05</td><td>-7.285294e-05</td><td>-1.3049431e-07</td><td>False</td><td>336.6059488285462</td><td>-0.9090050663524425</td><td>0.10155671</td><td>0.008311921</td><td>25.244135</td><td>25.245533</td><td>0.015013248</td><td>-0.029359074</td><td>3.7243943</td><td>22.481867</td><td>0.01926969</td><td>0.03236156</td><td>0.017848589</td><td>0.0</td><td>205</td><td>239</td><td>0</td><td>473</td><td>510</td><td>2032</td><td>4080</td><td>22</td><td>3604</td><td>2034</td><td>3606</td><td>0.15451133</td><td>0.109772585</td><td>DR9.5.9</td><td>DR9.0.1-27-g1f3e9a77</td><td>V4.8.2a</td><td>V4.8.2a</td><td>-6.440953e-05</td></tr>\n",
       "<tr><td>114</td><td>decam/CP/V4.8.2a/CP20171021/c4d_171022_012744_ooi_g_ls9.fits.fz</td><td>26</td><td>decam</td><td>689638</td><td>V4.8.2a</td><td>2019-07-24T06:17:52</td><td>952630f</td><td>S2</td><td>DES survey hex -235-14 tiling 9</td><td>2012B-0001</td><td>g</td><td>90.0</td><td>58048.06092753</td><td>1.15</td><td>4.018978</td><td>2046</td><td>4094</td><td>337.22769166666666</td><td>-0.9918</td><td>2150.2</td><td>10565.67</td><td>337.2279628927</td><td>-0.9922010567888</td><td>-1.3271111e-07</td><td>7.285006e-05</td><td>-7.285226e-05</td><td>-1.3162591e-07</td><td>False</td><td>336.6062437328443</td><td>-0.9087050990382416</td><td>0.060854536</td><td>0.0060360366</td><td>25.038568</td><td>25.035526</td><td>0.027064504</td><td>-0.030398052</td><td>1.2822149</td><td>23.431604</td><td>0.0315738</td><td>0.037493177</td><td>0.019404486</td><td>0.0</td><td>199</td><td>237</td><td>0</td><td>477</td><td>506</td><td>2032</td><td>4080</td><td>18</td><td>3604</td><td>2038</td><td>3606</td><td>0.13598819</td><td>0.1022413</td><td>DR9.5.9</td><td>DR9.0.1-27-g1f3e9a77</td><td>V4.8.2a</td><td>V4.8.2a</td><td>-8.4510255e-05</td></tr>\n",
       "<tr><td>115</td><td>decam/CP/V4.8.2a/CP20130907/c4d_130908_033057_ooi_g_ls9.fits.fz</td><td>42</td><td>decam</td><td>231505</td><td>V4.8.2a</td><td>2019-08-08T07:22:29</td><td>9545f34</td><td>N11</td><td>DES survey hex -235-14 tiling 4</td><td>2012B-0001</td><td>g</td><td>90.0</td><td>56543.14649759</td><td>1.16</td><td>5.189068</td><td>2046</td><td>4094</td><td>336.50882083333335</td><td>-0.6367319444444444</td><td>-2358.6</td><td>-82.66665</td><td>336.5126607346</td><td>-0.6340953052573</td><td>-1.2954702e-07</td><td>7.285303e-05</td><td>-7.285724e-05</td><td>-1.2613708e-07</td><td>False</td><td>336.66797558435957</td><td>-0.8815581572664585</td><td>0.061007313</td><td>0.0049171993</td><td>25.224178</td><td>25.217949</td><td>-0.018810034</td><td>0.037865996</td><td>1.2625234</td><td>23.448408</td><td>0.027139107</td><td>0.046059456</td><td>0.031035868</td><td>0.0</td><td>196</td><td>236</td><td>0</td><td>850</td><td>14</td><td>2032</td><td>3253</td><td>-2</td><td>3257</td><td>2413</td><td>3605</td><td>0.110473596</td><td>0.09045437</td><td>DR9.5.9</td><td>DR9.0.1-11-gb167e27c</td><td>V4.8.2a</td><td>V4.8.2a</td><td>-8.4510255e-05</td></tr>\n",
       "<tr><td>116</td><td>decam/CP/V4.8.2a/CP20130928/c4d_130929_034930_ooi_r_ls9.fits.fz</td><td>42</td><td>decam</td><td>239304</td><td>V4.8.2a</td><td>2019-08-08T02:34:43</td><td>9545789</td><td>N11</td><td>DES survey hex -235-14 tiling 4</td><td>2012B-0001</td><td>r</td><td>90.0</td><td>56564.15937851</td><td>1.21</td><td>3.727502</td><td>2046</td><td>4094</td><td>336.50882083333335</td><td>-0.6367319444444444</td><td>-2358.6</td><td>-82.66665</td><td>336.5110577132</td><td>-0.634012494471</td><td>-1.1985641e-07</td><td>7.285544e-05</td><td>-7.285709e-05</td><td>-1.2317727e-07</td><td>False</td><td>336.6664375667703</td><td>-0.8815041038153693</td><td>0.09739181</td><td>0.0070049604</td><td>25.343454</td><td>25.339642</td><td>-0.003221405</td><td>-0.004026839</td><td>3.4647617</td><td>22.560324</td><td>0.010379794</td><td>0.01187697</td><td>0.02258976</td><td>0.0</td><td>195</td><td>233</td><td>0</td><td>850</td><td>100</td><td>2032</td><td>3273</td><td>-1</td><td>3192</td><td>2414</td><td>3605</td><td>0.15669292</td><td>0.11253858</td><td>DR9.5.9</td><td>DR9.0.1-27-g1f3e9a77</td><td>V4.8.2a</td><td>V4.8.2a</td><td>-6.440953e-05</td></tr>\n",
       "<tr><td>117</td><td>decam/CP/V4.8.2a/CP20131012/c4d_131013_003742_ooi_z_ls9.fits.fz</td><td>42</td><td>decam</td><td>243452</td><td>V4.8.2a</td><td>2019-08-08T16:06:09</td><td>9546a4d</td><td>N11</td><td>DES survey hex -235-14 tiling 4</td><td>2012B-0001</td><td>z</td><td>90.0</td><td>56578.02618217</td><td>1.2</td><td>3.153205</td><td>2046</td><td>4094</td><td>336.50882083333335</td><td>-0.6367319444444444</td><td>-2358.6</td><td>-82.66665</td><td>336.5136795374</td><td>-0.6339145285786</td><td>-1.4197136e-07</td><td>7.2847935e-05</td><td>-7.28497e-05</td><td>-1.384522e-07</td><td>False</td><td>336.66895446556293</td><td>-0.8813846365664588</td><td>0.2772424</td><td>0.024296183</td><td>25.09719</td><td>25.086746</td><td>0.0122425305</td><td>0.010470224</td><td>26.807873</td><td>20.00485</td><td>0.016302783</td><td>0.015495673</td><td>0.033378292</td><td>0.0</td><td>188</td><td>233</td><td>0</td><td>852</td><td>14</td><td>2032</td><td>3239</td><td>-2</td><td>3244</td><td>2415</td><td>3606</td><td>0.18289201</td><td>0.121062905</td><td>DR9.5.9</td><td>DR9.0.1-11-gb167e27c</td><td>V4.8.2a</td><td>V4.8.2a</td><td>2.778646e-05</td></tr>\n",
       "<tr><td>118</td><td>decam/CP/V4.8.2/CP20160922/c4d_160923_023251_ooi_r_ls9.fits.fz</td><td>29</td><td>decam</td><td>576102</td><td>V4.8.2</td><td>2019-07-04T14:06:07</td><td>94fcabd</td><td>S6</td><td>DES survey hex -235-14 tiling 6</td><td>2012B-0001</td><td>r</td><td>90.0</td><td>57654.10452443</td><td>1.16</td><td>4.246</td><td>2046</td><td>4094</td><td>335.997875</td><td>-0.9245555555555556</td><td>2150.2</td><td>-6471.667</td><td>335.9978575972</td><td>-0.9245680992275</td><td>-1.5253983e-07</td><td>7.285339e-05</td><td>-7.285507e-05</td><td>-1.4701635e-07</td><td>False</td><td>336.6202374267501</td><td>-0.8435300130947286</td><td>0.10557236</td><td>0.0079171825</td><td>25.287342</td><td>25.289875</td><td>0.07732109</td><td>-0.012539667</td><td>3.554562</td><td>22.532541</td><td>0.07885485</td><td>0.01650384</td><td>0.018708432</td><td>0.0</td><td>212</td><td>246</td><td>0</td><td>1367</td><td>318</td><td>2032</td><td>3911</td><td>0</td><td>3602</td><td>2934</td><td>3608</td><td>0.13440083</td><td>0.10301946</td><td>DR9.5.9</td><td>DR9.0.1-27-g1f3e9a77</td><td>V4.8.2</td><td>V4.8.2</td><td>-6.440953e-05</td></tr>\n",
       "</table><style>table.dataTable {clear: both; width: auto !important; margin: 0 !important;}\n",
       ".dataTables_info, .dataTables_length, .dataTables_filter, .dataTables_paginate{\n",
       "display: inline-block; margin-right: 1em; }\n",
       ".paginate_button { margin-right: 5px; }\n",
       "</style>\n",
       "<script>\n",
       "\n",
       "var astropy_sort_num = function(a, b) {\n",
       "    var a_num = parseFloat(a);\n",
       "    var b_num = parseFloat(b);\n",
       "\n",
       "    if (isNaN(a_num) && isNaN(b_num))\n",
       "        return ((a < b) ? -1 : ((a > b) ? 1 : 0));\n",
       "    else if (!isNaN(a_num) && !isNaN(b_num))\n",
       "        return ((a_num < b_num) ? -1 : ((a_num > b_num) ? 1 : 0));\n",
       "    else\n",
       "        return isNaN(a_num) ? -1 : 1;\n",
       "}\n",
       "\n",
       "require.config({paths: {\n",
       "    datatables: 'https://cdn.datatables.net/1.10.12/js/jquery.dataTables.min'\n",
       "}});\n",
       "require([\"datatables\"], function(){\n",
       "    console.log(\"$('#table140375913308768-931235').dataTable()\");\n",
       "    \n",
       "jQuery.extend( jQuery.fn.dataTableExt.oSort, {\n",
       "    \"optionalnum-asc\": astropy_sort_num,\n",
       "    \"optionalnum-desc\": function (a,b) { return -astropy_sort_num(a, b); }\n",
       "});\n",
       "\n",
       "    $('#table140375913308768-931235').dataTable({\n",
       "        order: [],\n",
       "        pageLength: 2,\n",
       "        lengthMenu: [[2, 10, 25, 50, 100, 500, 1000, -1], [2, 10, 25, 50, 100, 500, 1000, 'All']],\n",
       "        pagingType: \"full_numbers\",\n",
       "        columnDefs: [{targets: [0, 2, 4, 12, 13, 14, 15, 16, 17, 18, 19, 20, 21, 22, 23, 24, 25, 26, 27, 29, 30, 31, 32, 33, 34, 35, 36, 37, 38, 39, 40, 41, 42, 43, 44, 45, 46, 47, 48, 49, 50, 51, 52, 53, 54, 55, 60], type: \"optionalnum\"}]\n",
       "    });\n",
       "});\n",
       "</script>\n"
      ],
      "text/plain": [
       "<IPython.core.display.HTML object>"
      ]
     },
     "execution_count": 3,
     "metadata": {},
     "output_type": "execute_result"
    }
   ],
   "source": [
    "brick_ccds_filename = download_file(f\"{URLBASE}/south/coadd/{BRICKNAME[:3]}/{BRICKNAME}/legacysurvey-{BRICKNAME}-ccds.fits\", cache=False, show_progress=True, timeout=120)\n",
    "brick_ccds = Table.read(brick_ccds_filename)\n",
    "brick_ccds.show_in_notebook(display_length=2)"
   ]
  },
  {
   "cell_type": "code",
   "execution_count": 4,
   "metadata": {},
   "outputs": [],
   "source": [
    "# Choose a CCD (i.e., given image)\n",
    "CCDNAME = \"S28\"\n",
    "\n",
    "# NOTE: make sure images exist for these filters\n",
    "BANDS = [\"g\", \"r\", \"z\"]"
   ]
  },
  {
   "cell_type": "code",
   "execution_count": 5,
   "metadata": {},
   "outputs": [
    {
     "name": "stdout",
     "output_type": "stream",
     "text": [
      "{'g': 'decam/CP/V4.8.2a/CP20171108/c4d_171109_002003_ooi_g_ls9', 'r': 'decam/CP/V4.8.2a/CP20170926/c4d_170927_025457_ooi_r_ls9', 'z': 'decam/CP/V4.8.2a/CP20170926/c4d_170927_025655_ooi_z_ls9'}\n"
     ]
    },
    {
     "data": {
      "text/html": [
       "<i>Table length=3</i>\n",
       "<table id=\"table140379297090480-655104\" class=\"table-striped table-bordered table-condensed\">\n",
       "<thead><tr><th>idx</th><th>image_filename</th><th>image_hdu</th><th>camera</th><th>expnum</th><th>plver</th><th>procdate</th><th>plprocid</th><th>ccdname</th><th>object</th><th>propid</th><th>filter</th><th>exptime</th><th>mjd_obs</th><th>airmass</th><th>fwhm</th><th>width</th><th>height</th><th>ra_bore</th><th>dec_bore</th><th>crpix1</th><th>crpix2</th><th>crval1</th><th>crval2</th><th>cd1_1</th><th>cd1_2</th><th>cd2_1</th><th>cd2_2</th><th>yshift</th><th>ra</th><th>dec</th><th>skyrms</th><th>sig1</th><th>ccdzpt</th><th>zpt</th><th>ccdraoff</th><th>ccddecoff</th><th>ccdskycounts</th><th>ccdskysb</th><th>ccdrarms</th><th>ccddecrms</th><th>ccdphrms</th><th>phrms</th><th>ccdnastrom</th><th>ccdnphotom</th><th>ccd_cuts</th><th>ccd_x0</th><th>ccd_y0</th><th>ccd_x1</th><th>ccd_y1</th><th>brick_x0</th><th>brick_x1</th><th>brick_y0</th><th>brick_y1</th><th>psfnorm</th><th>galnorm</th><th>skyver</th><th>psfver</th><th>skyplver</th><th>psfplver</th><th>co_sky</th></tr></thead>\n",
       "<tr><td>0</td><td>decam/CP/V4.8.2a/CP20171108/c4d_171109_002003_ooi_g_ls9.fits.fz</td><td>7</td><td>decam</td><td>694142</td><td>V4.8.2a</td><td>2019-07-24T10:02:42</td><td>952682e</td><td>S28</td><td>DES survey hex -235-14 tiling 8</td><td>2012B-0001</td><td>g</td><td>90.0</td><td>58066.01393135</td><td>1.15</td><td>4.220534</td><td>2046</td><td>4094</td><td>336.22122083333335</td><td>-1.5497638888888887</td><td>11167.8</td><td>-4342.0</td><td>336.2256174351</td><td>-1.5484579785</td><td>-1.3821646e-07</td><td>7.284893e-05</td><td>-7.2850744e-05</td><td>-1.3884555e-07</td><td>False</td><td>336.6928253823203</td><td>-0.8094099451396979</td><td>0.101871386</td><td>0.009180382</td><td>25.032684</td><td>25.022644</td><td>0.04463879</td><td>-0.050566312</td><td>3.175314</td><td>22.44704</td><td>0.04790215</td><td>0.06241368</td><td>0.024957126</td><td>0.0</td><td>194</td><td>229</td><td>0</td><td>1837</td><td>14</td><td>2032</td><td>2913</td><td>1</td><td>2909</td><td>3406</td><td>3610</td><td>0.13101818</td><td>0.100226074</td><td>DR9.5.9</td><td>DR9.0.1-27-g1f3e9a77</td><td>V4.8.2a</td><td>V4.8.2a</td><td>-8.4510255e-05</td></tr>\n",
       "<tr><td>1</td><td>decam/CP/V4.8.2a/CP20170926/c4d_170927_025457_ooi_r_ls9.fits.fz</td><td>7</td><td>decam</td><td>681991</td><td>V4.8.2a</td><td>2019-07-23T20:32:01</td><td>95254c6</td><td>S28</td><td>DES survey hex -235-14 tiling 8</td><td>2012B-0001</td><td>r</td><td>90.0</td><td>58023.12149533</td><td>1.14</td><td>3.544065</td><td>2046</td><td>4094</td><td>336.22122083333335</td><td>-1.5497638888888887</td><td>11167.8</td><td>-4342.0</td><td>336.2301008356</td><td>-1.541801022795</td><td>-1.3388022e-07</td><td>7.285396e-05</td><td>-7.285599e-05</td><td>-1.3169732e-07</td><td>False</td><td>336.6972963452925</td><td>-0.802683308344434</td><td>0.1210436</td><td>0.009276179</td><td>25.23642</td><td>25.242157</td><td>0.03515506</td><td>-0.04522394</td><td>4.7206464</td><td>22.224503</td><td>0.03642664</td><td>0.05002352</td><td>0.01733912</td><td>0.0</td><td>189</td><td>222</td><td>0</td><td>1929</td><td>14</td><td>2032</td><td>2852</td><td>1</td><td>2847</td><td>3499</td><td>3610</td><td>0.15297432</td><td>0.10936827</td><td>DR9.5.9</td><td>DR9.0.1-27-g1f3e9a77</td><td>V4.8.2a</td><td>V4.8.2a</td><td>-6.440953e-05</td></tr>\n",
       "<tr><td>2</td><td>decam/CP/V4.8.2a/CP20170926/c4d_170927_025655_ooi_z_ls9.fits.fz</td><td>7</td><td>decam</td><td>681992</td><td>V4.8.2a</td><td>2019-07-20T19:45:47</td><td>951ee00</td><td>S28</td><td>DES survey hex -235-14 tiling 8</td><td>2012B-0001</td><td>z</td><td>90.0</td><td>58023.12286809</td><td>1.14</td><td>2.936718</td><td>2046</td><td>4094</td><td>336.229875</td><td>-1.5416666666666665</td><td>11167.8</td><td>-4342.0</td><td>336.2298657446</td><td>-1.541653145183</td><td>-1.3660662e-07</td><td>7.284871e-05</td><td>-7.285018e-05</td><td>-1.3839802e-07</td><td>False</td><td>336.69718641002964</td><td>-0.8026085048707511</td><td>0.24154165</td><td>0.02371141</td><td>24.985935</td><td>24.987888</td><td>0.030673454</td><td>-0.032290384</td><td>19.731651</td><td>20.337599</td><td>0.033255167</td><td>0.03756013</td><td>0.02394872</td><td>0.0</td><td>191</td><td>222</td><td>0</td><td>1930</td><td>14</td><td>2032</td><td>2853</td><td>1</td><td>2849</td><td>3500</td><td>3611</td><td>0.17461237</td><td>0.11585495</td><td>DR9.5.9</td><td>DR9.0.1-27-g1f3e9a77</td><td>V4.8.2a</td><td>V4.8.2a</td><td>2.778646e-05</td></tr>\n",
       "</table><style>table.dataTable {clear: both; width: auto !important; margin: 0 !important;}\n",
       ".dataTables_info, .dataTables_length, .dataTables_filter, .dataTables_paginate{\n",
       "display: inline-block; margin-right: 1em; }\n",
       ".paginate_button { margin-right: 5px; }\n",
       "</style>\n",
       "<script>\n",
       "\n",
       "var astropy_sort_num = function(a, b) {\n",
       "    var a_num = parseFloat(a);\n",
       "    var b_num = parseFloat(b);\n",
       "\n",
       "    if (isNaN(a_num) && isNaN(b_num))\n",
       "        return ((a < b) ? -1 : ((a > b) ? 1 : 0));\n",
       "    else if (!isNaN(a_num) && !isNaN(b_num))\n",
       "        return ((a_num < b_num) ? -1 : ((a_num > b_num) ? 1 : 0));\n",
       "    else\n",
       "        return isNaN(a_num) ? -1 : 1;\n",
       "}\n",
       "\n",
       "require.config({paths: {\n",
       "    datatables: 'https://cdn.datatables.net/1.10.12/js/jquery.dataTables.min'\n",
       "}});\n",
       "require([\"datatables\"], function(){\n",
       "    console.log(\"$('#table140379297090480-655104').dataTable()\");\n",
       "    \n",
       "jQuery.extend( jQuery.fn.dataTableExt.oSort, {\n",
       "    \"optionalnum-asc\": astropy_sort_num,\n",
       "    \"optionalnum-desc\": function (a,b) { return -astropy_sort_num(a, b); }\n",
       "});\n",
       "\n",
       "    $('#table140379297090480-655104').dataTable({\n",
       "        order: [],\n",
       "        pageLength: 50,\n",
       "        lengthMenu: [[10, 25, 50, 100, 500, 1000, -1], [10, 25, 50, 100, 500, 1000, 'All']],\n",
       "        pagingType: \"full_numbers\",\n",
       "        columnDefs: [{targets: [0, 2, 4, 12, 13, 14, 15, 16, 17, 18, 19, 20, 21, 22, 23, 24, 25, 26, 27, 29, 30, 31, 32, 33, 34, 35, 36, 37, 38, 39, 40, 41, 42, 43, 44, 45, 46, 47, 48, 49, 50, 51, 52, 53, 54, 55, 60], type: \"optionalnum\"}]\n",
       "    });\n",
       "});\n",
       "</script>\n"
      ],
      "text/plain": [
       "<IPython.core.display.HTML object>"
      ]
     },
     "execution_count": 5,
     "metadata": {},
     "output_type": "execute_result"
    }
   ],
   "source": [
    "brick_ccds_fits = fits.open(brick_ccds_filename)\n",
    "\n",
    "# Get image data from `CCDNAME`, for each band\n",
    "image_basenames_without_ext = {}\n",
    "matching_rows = []\n",
    "for band in BANDS:\n",
    "    matching_row = np.where((brick_ccds[\"ccdname\"] == CCDNAME) & (brick_ccds[\"filter\"] == band))[0][0]\n",
    "    image_basenames_without_ext[band] = brick_ccds[\"image_filename\"][matching_row].replace(\".fits.fz\", \"\")\n",
    "    matching_rows.append(matching_row)\n",
    "\n",
    "print(image_basenames_without_ext)\n",
    "brick_ccds[matching_rows].show_in_notebook()"
   ]
  },
  {
   "cell_type": "markdown",
   "metadata": {},
   "source": [
    "Get single calibrated images (for each band) for this CCD"
   ]
  },
  {
   "cell_type": "code",
   "execution_count": 7,
   "metadata": {},
   "outputs": [
    {
     "data": {
      "text/plain": [
       "{'g': 'https://datalab.noirlab.edu/svc/cutout?col=&siaRef=c4d_171109_002003_ooi_g_v1.fits.fz&extn=11&POS=336.635,-0.96&SIZE=1.0,1.0',\n",
       " 'r': 'https://datalab.noirlab.edu/svc/cutout?col=&siaRef=c4d_170927_025457_ooi_r_v1.fits.fz&extn=11&POS=336.635,-0.96&SIZE=1.0,1.0',\n",
       " 'z': 'https://datalab.noirlab.edu/svc/cutout?col=&siaRef=c4d_170927_025655_ooi_z_v1.fits.fz&extn=11&POS=336.635,-0.96&SIZE=1.0,1.0'}"
      ]
     },
     "execution_count": 7,
     "metadata": {},
     "output_type": "execute_result"
    }
   ],
   "source": [
    "from numpy.core.defchararray import find\n",
    "\n",
    "from pyvo.dal import sia\n",
    "\n",
    "DEF_ACCESS_URL = \"https://datalab.noirlab.edu/sia/calibrated_all\"\n",
    "svc = sia.SIAService(DEF_ACCESS_URL)\n",
    "\n",
    "imgTable = svc.search((ra,dec)).to_table()\n",
    "img_access_urls = {} # indexed by band\n",
    "for b, basename in image_basenames_without_ext.items():\n",
    "    # remove everything except filename (i.e., after last '/'), and after _`b` character\n",
    "    img_filename = basename.split(\"/\")[-1].split(f\"_{b}\")[0] + f\"_{b}\"\n",
    "    # print(f\"Searching for {img_filename} in {b}-band\")\n",
    "    b_access_url = imgTable[find(imgTable[\"access_url\"].astype(str), img_filename) != -1][0][\"access_url\"]\n",
    "    img_access_urls[b] = b_access_url\n",
    "\n",
    "img_access_urls"
   ]
  },
  {
   "cell_type": "code",
   "execution_count": 8,
   "metadata": {},
   "outputs": [],
   "source": [
    "# Download single images\n",
    "ccd_images = {} # indexed by band\n",
    "ccd_image_filenames = {} # indexed by band\n",
    "\n",
    "for band, img_access_url in img_access_urls.items():\n",
    "    img_fits_filename = download_file(img_access_url, cache=True, show_progress=True, timeout=120)\n",
    "    ccd_image_filenames[band] = img_fits_filename\n",
    "    img_fits = fits.open(img_fits_filename)\n",
    "    ccd_images[band] = img_fits[0].data\n"
   ]
  },
  {
   "cell_type": "code",
   "execution_count": 9,
   "metadata": {},
   "outputs": [
    {
     "data": {
      "text/plain": [
       "(4094, 2046)"
      ]
     },
     "execution_count": 9,
     "metadata": {},
     "output_type": "execute_result"
    }
   ],
   "source": [
    "# Shape of each single image\n",
    "ccd_images[\"g\"].shape"
   ]
  },
  {
   "cell_type": "markdown",
   "metadata": {},
   "source": [
    "### DECaLS PSF via single-exposure PSFEx FITS"
   ]
  },
  {
   "cell_type": "code",
   "execution_count": 22,
   "metadata": {},
   "outputs": [
    {
     "data": {
      "text/plain": [
       "{'g': <astropy.io.fits.hdu.table.BinTableHDU at 0x7fabc42e5090>,\n",
       " 'r': <astropy.io.fits.hdu.table.BinTableHDU at 0x7fabc424b4f0>,\n",
       " 'z': <astropy.io.fits.hdu.table.BinTableHDU at 0x7fabc42e7d00>}"
      ]
     },
     "execution_count": 22,
     "metadata": {},
     "output_type": "execute_result"
    }
   ],
   "source": [
    "# Get PSFEx fits, for each band\n",
    "psfex_hdus = {}\n",
    "for band in BANDS:\n",
    "    psfex_fits_fn = download_file(f\"{URLBASE}/calib/psfex/{image_basenames_without_ext[band]}-psfex.fits\", cache=False)\n",
    "    psfex_fits = fits.open(psfex_fits_fn)\n",
    "\n",
    "    psfex_table_hdu = psfex_fits[1]\n",
    "\n",
    "    # Get `row` corresponding to DECam image (i.e., CCD)\n",
    "    rows = np.where(psfex_table_hdu.data[\"ccdname\"] == CCDNAME)[0]\n",
    "    assert len(rows) == 1\n",
    "    row = rows[0]\n",
    "    # print(\"Row:\", row)\n",
    "\n",
    "    # Get single values for the following parameters\n",
    "    params = [\"polnaxis\", \"polzero1\", \"polzero2\", \"polscal1\", \"polscal2\", \"polname1\", \"polname2\", \"polngrp\", \"polgrp1\", \"polgrp2\", \"poldeg1\", \"psfnaxis\", \"psfaxis1\", \"psfaxis2\", \"psfaxis3\", \"psf_samp\"]\n",
    "\n",
    "    # Create new BinTableHDU with just the row corresponding to the DECam image\n",
    "    with fits.open(psfex_fits_fn, mode=\"update\") as hdul:\n",
    "        bintable = hdul[1]\n",
    "\n",
    "        # Add to HDU header\n",
    "        for param in params:\n",
    "            bintable.header[param.upper()] = psfex_table_hdu.data[row][param]\n",
    "        \n",
    "        bintable.data = bintable.data[row:row+1]\n",
    "        bintable.header[\"NAXIS2\"] = 1\n",
    "        bintable.header[\"NAXIS1\"] = len(bintable.columns)\n",
    "\n",
    "        hdul.flush()\n",
    "\n",
    "    psfex_fits = fits.open(psfex_fits_fn)\n",
    "    psfex_table_hdu = psfex_fits[1]\n",
    "    psfex_hdus[band] = psfex_table_hdu\n",
    "\n",
    "psfex_hdus"
   ]
  },
  {
   "cell_type": "markdown",
   "metadata": {},
   "source": [
    "Create the PSF model, passing in the PSFEx and image HDUs"
   ]
  },
  {
   "cell_type": "code",
   "execution_count": 11,
   "metadata": {},
   "outputs": [],
   "source": [
    "import galsim.des\n",
    "\n",
    "des_psfex_r = galsim.des.DES_PSFEx(psfex_hdus[\"r\"], ccd_image_filenames[\"r\"])"
   ]
  },
  {
   "cell_type": "code",
   "execution_count": 20,
   "metadata": {},
   "outputs": [],
   "source": [
    "image_pos = galsim.PositionD(0, 0)\n",
    "psf_r = des_psfex_r.getPSF(image_pos)"
   ]
  },
  {
   "cell_type": "code",
   "execution_count": 21,
   "metadata": {},
   "outputs": [
    {
     "data": {
      "text/plain": [
       "galsim.Transformation(galsim.InterpolatedImage(galsim.Image(bounds=galsim.BoundsI(xmin=-31, xmax=31, ymin=-31, ymax=31), array=\n",
       "array([[0., 0., 0., ..., 0., 0., 0.],\n",
       "       [0., 0., 0., ..., 0., 0., 0.],\n",
       "       [0., 0., 0., ..., 0., 0., 0.],\n",
       "       ...,\n",
       "       [0., 0., 0., ..., 0., 0., 0.],\n",
       "       [0., 0., 0., ..., 0., 0., 0.],\n",
       "       [0., 0., 0., ..., 0., 0., 0.]]), wcs=galsim.PixelScale(1.0)), galsim.Lanczos(3, True, gsparams=galsim.GSParams(128,8192,0.005,5.0,0.001,1e-05,1e-05,1,0.0001,1e-06,1e-06,1e-08,1e-05)), galsim.Quintic(gsparams=galsim.GSParams(128,8192,0.005,5.0,0.001,1e-05,1e-05,1,0.0001,1e-06,1e-06,1e-08,1e-05)), pad_factor=4.000000, flux=1, offset=galsim.PositionD(x=0.0, y=0.0), use_true_center=False, gsparams=galsim.GSParams(128,8192,0.005,5.0,0.001,1e-05,1e-05,1,0.0001,1e-06,1e-06,1e-08,1e-05), _force_stepk=0.16762612525459764, _force_maxk=3.1661363461959633), jac=[[-0.0003340651582738621, -0.26340467031300896], [0.2629387243726864, -0.0006242851641142062]], offset=galsim.PositionD(x=0.0, y=0.0), flux_ratio=14.43845320424737, gsparams=galsim.GSParams(128,8192,0.005,5.0,0.001,1e-05,1e-05,1,0.0001,1e-06,1e-06,1e-08,1e-05), propagate_gsparams=True)"
      ]
     },
     "execution_count": 21,
     "metadata": {},
     "output_type": "execute_result"
    }
   ],
   "source": [
    "psf_r"
   ]
  },
  {
   "cell_type": "markdown",
   "metadata": {},
   "source": [
    "### DECaLS background for CCD"
   ]
  },
  {
   "cell_type": "code",
   "execution_count": 38,
   "metadata": {},
   "outputs": [
    {
     "data": {
      "text/plain": [
       "{'g': <astropy.io.fits.hdu.table.BinTableHDU at 0x7fbec1ed4a90>,\n",
       " 'r': <astropy.io.fits.hdu.table.BinTableHDU at 0x7fbeca1fb9a0>,\n",
       " 'z': <astropy.io.fits.hdu.table.BinTableHDU at 0x7fbec99521a0>}"
      ]
     },
     "execution_count": 38,
     "metadata": {},
     "output_type": "execute_result"
    }
   ],
   "source": [
    "background_hdus = {}\n",
    "for band in BANDS:\n",
    "    background_fits_fn = download_file(f\"{URLBASE}/calib/sky/{image_basenames_without_ext[band]}-splinesky.fits\", cache=False)\n",
    "    background_fits = fits.open(background_fits_fn)\n",
    "\n",
    "    background_table_hdu = background_fits[1]\n",
    "    background_table = Table.read(background_table_hdu)\n",
    "\n",
    "    # Get `row` corresponding to DECam image (i.e., CCD)\n",
    "    rows = np.where(background_table[\"ccdname\"] == CCDNAME)[0]\n",
    "    assert len(rows) == 1\n",
    "    row = rows[0]\n",
    "    # print(\"Row:\", row)\n",
    "\n",
    "    # Create new BinTableHDU with just the row corresponding to the DECam image\n",
    "    with fits.open(background_fits_fn, mode=\"update\") as hdul:\n",
    "        bintable = hdul[1]\n",
    "        bintable.data = bintable.data[row:row+1]\n",
    "        bintable.header[\"NAXIS2\"] = 1\n",
    "        bintable.header[\"NAXIS1\"] = len(bintable.columns)\n",
    "\n",
    "        hdul.flush()\n",
    "\n",
    "    background_fits = fits.open(background_fits_fn)\n",
    "    background_table_hdu = background_fits[1]\n",
    "    background_hdus[band] = background_table_hdu\n",
    "\n",
    "background_hdus"
   ]
  },
  {
   "cell_type": "code",
   "execution_count": 39,
   "metadata": {},
   "outputs": [
    {
     "data": {
      "text/html": [
       "<i>Row index=0</i>\n",
       "<table id=\"table140457398577584\">\n",
       "<thead><tr><th>gridw</th><th>gridh</th><th>gridvals</th><th>xgrid</th><th>ygrid</th><th>skyclass</th><th>x0</th><th>y0</th><th>order</th><th>expnum</th><th>ccdname</th><th>legpipev</th><th>plver</th><th>plprocid</th><th>procdate</th><th>imgdsum</th><th>sig1</th><th>templ_ver</th><th>templ_run</th><th>templ_scale</th><th>halo_zpt</th><th>blob_masked</th><th>sub_sga_ver</th><th>sky_mode</th><th>sky_med</th><th>sky_cmed</th><th>sky_john</th><th>sky_fine</th><th>sky_fmasked</th><th>sky_p0</th><th>sky_p10</th><th>sky_p20</th><th>sky_p30</th><th>sky_p40</th><th>sky_p50</th><th>sky_p60</th><th>sky_p70</th><th>sky_p80</th><th>sky_p90</th><th>sky_p100</th></tr></thead>\n",
       "<thead><tr><th>int64</th><th>int64</th><th>float32[17,9]</th><th>int32[9]</th><th>int32[17]</th><th>str27</th><th>int32</th><th>int32</th><th>uint8</th><th>int64</th><th>str3</th><th>str7</th><th>str7</th><th>str7</th><th>str19</th><th>str10</th><th>float64</th><th>int64</th><th>int32</th><th>float64</th><th>float64</th><th>bool</th><th>str2</th><th>float64</th><th>float32</th><th>float32</th><th>float32</th><th>float32</th><th>float64</th><th>float64</th><th>float64</th><th>float64</th><th>float64</th><th>float64</th><th>float64</th><th>float64</th><th>float64</th><th>float64</th><th>float64</th><th>float64</th></tr></thead>\n",
       "<tr><td>9</td><td>17</td><td>423.7457 .. 423.93573</td><td>-1 .. 2047</td><td>-1 .. 4095</td><td>tractor.splinesky.SplineSky</td><td>0</td><td>0</td><td>3</td><td>681991</td><td>S28</td><td>DR9.5.9</td><td>V4.8.2a</td><td>95254c6</td><td>2019-07-23T20:32:01</td><td>3886802555</td><td>10.37957211187113</td><td>1</td><td>730</td><td>4.70749</td><td>30.120591625160813</td><td>True</td><td>L3</td><td>424.2267087283254</td><td>424.5815</td><td>424.31186</td><td>423.858</td><td>0.13054028</td><td>0.3267432109837203</td><td>-60.805877685546875</td><td>-13.864776611328125</td><td>-9.103356933593751</td><td>-5.683502197265625</td><td>-2.746673583984375</td><td>-0.001556396484375</td><td>2.749542236328125</td><td>5.704742431640625</td><td>9.152917480468744</td><td>13.970318603515636</td><td>63.24945068359375</td></tr>\n",
       "</table>"
      ],
      "text/plain": [
       "<Row index=0>\n",
       "gridw gridh        gridvals         xgrid      ygrid              skyclass            x0    y0  order expnum ccdname legpipev  plver  plprocid       procdate       imgdsum          sig1       templ_ver templ_run templ_scale      halo_zpt      blob_masked sub_sga_ver      sky_mode     sky_med   sky_cmed sky_john  sky_fine     sky_fmasked            sky_p0             sky_p10            sky_p20            sky_p30            sky_p40            sky_p50            sky_p60           sky_p70           sky_p80           sky_p90            sky_p100    \n",
       "int64 int64     float32[17,9]      int32[9]  int32[17]             str27            int32 int32 uint8 int64    str3    str7     str7    str7          str19          str10         float64        int64     int32     float64        float64           bool        str2         float64      float32   float32  float32   float32        float64             float64             float64            float64            float64            float64            float64            float64           float64           float64           float64            float64     \n",
       "----- ----- --------------------- ---------- ---------- --------------------------- ----- ----- ----- ------ ------- -------- ------- -------- ------------------- ---------- ----------------- --------- --------- ----------- ------------------ ----------- ----------- ----------------- -------- --------- -------- ---------- ------------------ ------------------- ------------------- ------------------ ------------------ ------------------ ------------------ ----------------- ----------------- ----------------- ------------------ -----------------\n",
       "    9    17 423.7457 .. 423.93573 -1 .. 2047 -1 .. 4095 tractor.splinesky.SplineSky     0     0     3 681991     S28  DR9.5.9 V4.8.2a  95254c6 2019-07-23T20:32:01 3886802555 10.37957211187113         1       730     4.70749 30.120591625160813        True          L3 424.2267087283254 424.5815 424.31186  423.858 0.13054028 0.3267432109837203 -60.805877685546875 -13.864776611328125 -9.103356933593751 -5.683502197265625 -2.746673583984375 -0.001556396484375 2.749542236328125 5.704742431640625 9.152917480468744 13.970318603515636 63.24945068359375"
      ]
     },
     "execution_count": 39,
     "metadata": {},
     "output_type": "execute_result"
    }
   ],
   "source": [
    "bg_r = Table.read(background_hdus[\"r\"])\n",
    "\n",
    "bg_r[0]"
   ]
  },
  {
   "cell_type": "code",
   "execution_count": 30,
   "metadata": {},
   "outputs": [
    {
     "name": "stdout",
     "output_type": "stream",
     "text": [
      "Spline grid shape: (9, 17)\n",
      "Spline interpolation order: 3\n",
      "===\n",
      "B-spline interpolated background shape: (3600, 3600)\n"
     ]
    },
    {
     "data": {
      "text/plain": [
       "array([[423.74661769, 423.74661876, 423.74661983, ..., 423.75416409,\n",
       "        423.75416514, 423.75416618],\n",
       "       [423.7466176 , 423.74661867, 423.74661974, ..., 423.75416399,\n",
       "        423.75416504, 423.75416608],\n",
       "       [423.74661751, 423.74661858, 423.74661965, ..., 423.75416389,\n",
       "        423.75416494, 423.75416598],\n",
       "       ...,\n",
       "       [423.74521493, 423.74521599, 423.74521705, ..., 423.75269967,\n",
       "        423.75270071, 423.75270175],\n",
       "       [423.74521463, 423.74521568, 423.74521674, ..., 423.75269935,\n",
       "        423.7527004 , 423.75270143],\n",
       "       [423.74521432, 423.74521538, 423.74521644, ..., 423.75269904,\n",
       "        423.75270008, 423.75270112]])"
      ]
     },
     "execution_count": 30,
     "metadata": {},
     "output_type": "execute_result"
    }
   ],
   "source": [
    "from scipy.interpolate import RectBivariateSpline\n",
    "from scipy.ndimage import zoom\n",
    "\n",
    "splinesky_params = bg_r[0]\n",
    "gridw = splinesky_params[\"gridw\"]\n",
    "gridh = splinesky_params[\"gridh\"]\n",
    "gridvals = splinesky_params[\"gridvals\"]\n",
    "xgrid = splinesky_params[\"xgrid\"]\n",
    "ygrid = splinesky_params[\"ygrid\"]\n",
    "order = splinesky_params[\"order\"]\n",
    "\n",
    "print(\"Spline grid shape:\", (gridw, gridh))\n",
    "print(\"Spline interpolation order:\", order)\n",
    "\n",
    "# Example image data\n",
    "image_w, image_h = 3600, 3600\n",
    "image = np.random.rand(image_w, image_h)\n",
    "\n",
    "# Meshgrid for pixel coordinates on smaller grid\n",
    "x, y = np.meshgrid(np.arange(gridw), np.arange(gridh))\n",
    "# Initialize the B-spline sky model with the extracted parameters\n",
    "splinesky_x = RectBivariateSpline(ygrid, xgrid, gridvals, kx=order, ky=order)\n",
    "splinesky_y = RectBivariateSpline(ygrid, xgrid, gridvals, kx=order, ky=order)\n",
    "\n",
    "# Evaluate the sky model at the given pixel coordinates\n",
    "background_values_grid = splinesky_x(y.flatten(), x.flatten(), grid=False).reshape(gridh, gridw)\n",
    "\n",
    "# Upscale the background values from the smaller grid to the original image size using bilinear interpolation\n",
    "background_values = zoom(background_values_grid, zoom=(image_h / gridh, image_w / gridw), order=order, mode='nearest')\n",
    "\n",
    "print(\"===\")\n",
    "print(\"B-spline interpolated background shape:\", background_values.shape)\n",
    "background_values"
   ]
  },
  {
   "cell_type": "code",
   "execution_count": null,
   "metadata": {},
   "outputs": [],
   "source": []
  },
  {
   "cell_type": "markdown",
   "metadata": {},
   "source": [
    "## Test"
   ]
  },
  {
   "cell_type": "code",
   "execution_count": 2,
   "metadata": {},
   "outputs": [
    {
     "ename": "ImportError",
     "evalue": "libcudnn.so.8: cannot open shared object file: No such file or directory",
     "output_type": "error",
     "traceback": [
      "\u001b[0;31m---------------------------------------------------------------------------\u001b[0m",
      "\u001b[0;31mImportError\u001b[0m                               Traceback (most recent call last)",
      "Cell \u001b[0;32mIn[2], line 1\u001b[0m\n\u001b[0;32m----> 1\u001b[0m \u001b[39mfrom\u001b[39;00m \u001b[39mbliss\u001b[39;00m\u001b[39m.\u001b[39;00m\u001b[39mgenerate\u001b[39;00m \u001b[39mimport\u001b[39;00m generate\n\u001b[1;32m      2\u001b[0m \u001b[39mfrom\u001b[39;00m \u001b[39mbliss\u001b[39;00m\u001b[39m.\u001b[39;00m\u001b[39mapi\u001b[39;00m \u001b[39mimport\u001b[39;00m base_config\n\u001b[1;32m      4\u001b[0m cfg \u001b[39m=\u001b[39m base_config()\n",
      "File \u001b[0;32m~/871-decals-e2e-des/bliss/generate.py:4\u001b[0m\n\u001b[1;32m      1\u001b[0m \u001b[39mfrom\u001b[39;00m \u001b[39mpathlib\u001b[39;00m \u001b[39mimport\u001b[39;00m Path\n\u001b[1;32m      2\u001b[0m \u001b[39mfrom\u001b[39;00m \u001b[39mtyping\u001b[39;00m \u001b[39mimport\u001b[39;00m Dict, List, TypedDict\n\u001b[0;32m----> 4\u001b[0m \u001b[39mimport\u001b[39;00m \u001b[39mtorch\u001b[39;00m\n\u001b[1;32m      5\u001b[0m \u001b[39mfrom\u001b[39;00m \u001b[39meinops\u001b[39;00m \u001b[39mimport\u001b[39;00m rearrange\n\u001b[1;32m      6\u001b[0m \u001b[39mfrom\u001b[39;00m \u001b[39mhydra\u001b[39;00m\u001b[39m.\u001b[39;00m\u001b[39mutils\u001b[39;00m \u001b[39mimport\u001b[39;00m instantiate\n",
      "File \u001b[0;32m~/871-decals-e2e-des/.venv/lib/python3.10/site-packages/torch/__init__.py:218\u001b[0m\n\u001b[1;32m    216\u001b[0m     \u001b[39mif\u001b[39;00m USE_GLOBAL_DEPS:\n\u001b[1;32m    217\u001b[0m         _load_global_deps()\n\u001b[0;32m--> 218\u001b[0m     \u001b[39mfrom\u001b[39;00m \u001b[39mtorch\u001b[39;00m\u001b[39m.\u001b[39;00m\u001b[39m_C\u001b[39;00m \u001b[39mimport\u001b[39;00m \u001b[39m*\u001b[39m  \u001b[39m# noqa: F403\u001b[39;00m\n\u001b[1;32m    220\u001b[0m \u001b[39m# Appease the type checker; ordinarily this binding is inserted by the\u001b[39;00m\n\u001b[1;32m    221\u001b[0m \u001b[39m# torch._C module initialization code in C\u001b[39;00m\n\u001b[1;32m    222\u001b[0m \u001b[39mif\u001b[39;00m TYPE_CHECKING:\n",
      "\u001b[0;31mImportError\u001b[0m: libcudnn.so.8: cannot open shared object file: No such file or directory"
     ]
    }
   ],
   "source": [
    "from bliss.generate import generate\n",
    "from bliss.api import base_config\n",
    "\n",
    "cfg = base_config()\n",
    "cfg.generate.cached_data_path = \"/data/scratch/zhteoh/871-decals-e2e/des_cached_dataset\"\n",
    "cfg.generate.n_batches = 3\n",
    "cfg.generate.batch_size = 4\n",
    "cfg.generate.max_images_per_file = 8\n",
    "cfg.simulator.survey = \"${surveys.des}\"\n",
    "generate(cfg)"
   ]
  }
 ],
 "metadata": {
  "kernelspec": {
   "display_name": "bliss-deblender-MD82Mbmq-py3.10",
   "language": "python",
   "name": "python3"
  },
  "language_info": {
   "codemirror_mode": {
    "name": "ipython",
    "version": 3
   },
   "file_extension": ".py",
   "mimetype": "text/x-python",
   "name": "python",
   "nbconvert_exporter": "python",
   "pygments_lexer": "ipython3",
   "version": "3.10.6"
  },
  "orig_nbformat": 4
 },
 "nbformat": 4,
 "nbformat_minor": 2
}

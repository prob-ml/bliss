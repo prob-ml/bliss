{
 "cells": [
  {
   "cell_type": "code",
   "execution_count": 12,
   "id": "b304d1f9",
   "metadata": {},
   "outputs": [
    {
     "name": "stdout",
     "output_type": "stream",
     "text": [
      "0.052658666\n",
      "GALAXY\n",
      "0\n"
     ]
    }
   ],
   "source": [
    "from astropy.io import fits\n",
    "f = fits.open('/home/songju/specObj-dr17.fits')\n",
    "len(f[1].data)\n",
    "vars(f[1].data)\n",
    "print(f[1].data[15]['Z']) #redshift for 15th object in this file\n",
    "print(f[1].data[15]['SOURCETYPE']) #tells us if 15th object is galaxy, star, or quasar\n",
    "print(f[1].data[15]['ZWARNING']) #tells us if there is a warning with this redshift; if yes, we'd exclude it."
   ]
  },
  {
   "cell_type": "code",
   "execution_count": 11,
   "id": "e1b7b889",
   "metadata": {},
   "outputs": [
    {
     "name": "stdout",
     "output_type": "stream",
     "text": [
      "Categories and values for the 15th object:\n",
      "SURVEY: sdss\n",
      "INSTRUMENT: SDSS\n",
      "CHUNK: chunk4\n",
      "PROGRAMNAME: legacy\n",
      "PLATERUN: chunk4\n",
      "PLATEQUALITY: bad\n",
      "PLATESN2: 7.67533016204834\n",
      "DEREDSN2: 0.0\n",
      "LAMBDA_EFF: 5000.0\n",
      "BLUEFIBER: -1\n",
      "ZOFFSET: 0.0\n",
      "SNTURNOFF: -9999.0\n",
      "NTURNOFF: -1\n",
      "SPECPRIMARY: 0\n",
      "SPECSDSS: 0\n",
      "SPECLEGACY: 0\n",
      "SPECSEGUE: 0\n",
      "SPECSEGUE1: 0\n",
      "SPECSEGUE2: 0\n",
      "SPECBOSS: 0\n",
      "BOSS_SPECOBJ_ID: 0\n",
      "SPECOBJID:     299493800143775744\n",
      "FLUXOBJID: 1237648720142401670\n",
      "BESTOBJID: 1237648720142401670\n",
      "TARGETOBJID:        284722522357956\n",
      "PLATEID: 299489402097264640\n",
      "NSPECOBS: 2\n",
      "FIRSTRELEASE: dr7\n",
      "RUN2D: 26\n",
      "RUN1D: \n",
      "DESIGNID: -1\n",
      "CX: -0.8350277784389807\n",
      "CY: 0.5499373791887978\n",
      "CZ: -0.017247846422581516\n",
      "XFOCAL: 160.98800659179688\n",
      "YFOCAL: -228.679443359375\n",
      "SOURCETYPE: GALAXY\n",
      "TARGETTYPE: SCIENCE\n",
      "THING_ID_TARGETING: 0\n",
      "THING_ID: 0\n",
      "PRIMTARGET: 64\n",
      "SECTARGET: 0\n",
      "LEGACY_TARGET1: 64\n",
      "LEGACY_TARGET2: 0\n",
      "SPECIAL_TARGET1: 0\n",
      "SPECIAL_TARGET2: 0\n",
      "SEGUE1_TARGET1: 0\n",
      "SEGUE1_TARGET2: 0\n",
      "SEGUE2_TARGET1: 0\n",
      "SEGUE2_TARGET2: 0\n",
      "MARVELS_TARGET1: 0\n",
      "MARVELS_TARGET2: 0\n",
      "BOSS_TARGET1: 0\n",
      "BOSS_TARGET2: 0\n",
      "EBOSS_TARGET0: 0\n",
      "EBOSS_TARGET1: 0\n",
      "EBOSS_TARGET2: 0\n",
      "EBOSS_TARGET_ID: 0\n",
      "ANCILLARY_TARGET1: 0\n",
      "ANCILLARY_TARGET2: 0\n",
      "SPECTROGRAPHID: 1\n",
      "PLATE: 266\n",
      "TILE: 122\n",
      "MJD: 51602\n",
      "FIBERID: 16\n",
      "OBJID: [756   1   1 206 196]\n",
      "PLUG_RA: 146.63167\n",
      "PLUG_DEC: -0.98827781\n",
      "CLASS: GALAXY\n",
      "SUBCLASS: STARFORMING\n",
      "Z: 0.05265866592526436\n",
      "Z_ERR: 8.914164936868474e-06\n",
      "RCHI2: 1.2855764627456665\n",
      "DOF: 3771\n",
      "RCHI2DIFF: 0.6652523279190063\n",
      "TFILE: spEigenGal-53724.fits\n",
      "TCOLUMN: [ 0  1  2  3 -1 -1 -1 -1 -1 -1]\n",
      "NPOLY: 3\n",
      "THETA: [ 1.57434039e-03  5.13639161e-03 -4.52361535e-03  7.93434400e-03\n",
      "  7.58314419e+00 -1.85489235e+01  1.17248335e+01  0.00000000e+00\n",
      "  0.00000000e+00  0.00000000e+00]\n",
      "VDISP: 43.8739128112793\n",
      "VDISP_ERR: 28.964317321777344\n",
      "VDISPZ: 0.0\n",
      "VDISPZ_ERR: 0.0\n",
      "VDISPCHI2: 2213.079833984375\n",
      "VDISPNPIX: 2168.0\n",
      "VDISPDOF: 2117\n",
      "WAVEMIN: 3803.645263671875\n",
      "WAVEMAX: 9202.376953125\n",
      "WCOVERAGE: 0.37779998779296875\n",
      "ZWARNING: 0\n",
      "SN_MEDIAN_ALL: 7.781183242797852\n",
      "SN_MEDIAN: [1.3501141 6.8219724 9.380525  9.498668  5.6030016]\n",
      "CHI68P: 1.111094355583191\n",
      "FRACNSIGMA: [3.6580202e-01 6.9613554e-02 1.0322922e-02 1.8528322e-03 5.2938063e-04\n",
      " 2.6469032e-04 0.0000000e+00 0.0000000e+00 0.0000000e+00 0.0000000e+00]\n",
      "FRACNSIGHI: [0.18819481 0.03679195 0.00688195 0.00132345 0.00026469 0.00026469\n",
      " 0.         0.         0.         0.        ]\n",
      "FRACNSIGLO: [0.1776072  0.0328216  0.00344097 0.00052938 0.00026469 0.\n",
      " 0.         0.         0.         0.        ]\n",
      "SPECTROFLUX: [ 7.3104286 16.306328  26.089165  34.62666   43.26366  ]\n",
      "SPECTROFLUX_IVAR: [1.3083245  3.584985   2.2375822  0.94482714 0.44190055]\n",
      "SPECTROSYNFLUX: [ 7.854492 16.243448 25.831274 34.549458 42.228855]\n",
      "SPECTROSYNFLUX_IVAR: [2.9729717 3.7280796 2.3420036 1.2020608 0.5970152]\n",
      "SPECTROSKYFLUX: [  9.482352   14.4541645  34.1262     67.892525  151.276    ]\n",
      "ANYANDMASK: 226492416\n",
      "ANYORMASK: 262078464\n",
      "SPEC1_G: 20.857999801635742\n",
      "SPEC1_R: 16.172700881958008\n",
      "SPEC1_I: 13.471799850463867\n",
      "SPEC2_G: 13.307499885559082\n",
      "SPEC2_R: 10.661499977111816\n",
      "SPEC2_I: 7.67533016204834\n",
      "ELODIE_FILENAME: \n",
      "ELODIE_OBJECT: \n",
      "ELODIE_SPTYPE: \n",
      "ELODIE_BV: 0.0\n",
      "ELODIE_TEFF: 0.0\n",
      "ELODIE_LOGG: 0.0\n",
      "ELODIE_FEH: 0.0\n",
      "ELODIE_Z: 0.0\n",
      "ELODIE_Z_ERR: 0.0\n",
      "ELODIE_Z_MODELERR: 0.0\n",
      "ELODIE_RCHI2: 0.0\n",
      "ELODIE_DOF: 0\n",
      "Z_NOQSO: 0.0\n",
      "Z_ERR_NOQSO: 0.0\n",
      "ZWARNING_NOQSO: 0\n",
      "CLASS_NOQSO: \n",
      "SUBCLASS_NOQSO: \n",
      "RCHI2DIFF_NOQSO: 0.0\n",
      "Z_PERSON: 0.0\n",
      "CLASS_PERSON: 0\n",
      "Z_CONF_PERSON: 0\n",
      "COMMENTS_PERSON: \n",
      "CALIBFLUX: [ 5.9020014 15.839425  25.319893  32.800407  38.188953 ]\n",
      "CALIBFLUX_IVAR: [ 6.7301345 23.635138  14.803833   4.63821    0.4121168]\n"
     ]
    }
   ],
   "source": [
    "column_names = f[1].data.columns.names\n",
    "\n",
    "# Access data for the 15th object\n",
    "object_data = f[1].data[15]\n",
    "\n",
    "# Print all category names and their corresponding values for the 15th object\n",
    "print('Categories and values for the 15th object:')\n",
    "for category in column_names:\n",
    "    print(f\"{category}: {object_data[category]}\")\n",
    "\n",
    "# Close the FITS file"
   ]
  },
  {
   "cell_type": "code",
   "execution_count": 14,
   "id": "ab2ef58f",
   "metadata": {},
   "outputs": [
    {
     "name": "stdout",
     "output_type": "stream",
     "text": [
      "Unique TARGETTYPE values:\n",
      "SCIENCE\n",
      "SKY\n",
      "STANDARD\n"
     ]
    }
   ],
   "source": [
    "import numpy as np\n",
    "data = f[1].data\n",
    "\n",
    "# Extract the 'TARGETTYPE' column\n",
    "target_types = data['TARGETTYPE']\n",
    "\n",
    "# Find unique values in the 'TARGETTYPE' column\n",
    "unique_target_types = np.unique(target_types)\n",
    "\n",
    "# Print the unique values\n",
    "print('Unique TARGETTYPE values:')\n",
    "for target_type in unique_target_types:\n",
    "    print(target_type)"
   ]
  },
  {
   "cell_type": "code",
   "execution_count": 17,
   "id": "fe88abec",
   "metadata": {},
   "outputs": [
    {
     "name": "stdout",
     "output_type": "stream",
     "text": [
      "Unique SPECPRIMARY values:\n",
      "0\n",
      "1\n"
     ]
    }
   ],
   "source": [
    "data = f[1].data\n",
    "\n",
    "# Extract the 'SPECPRIMARY' column\n",
    "target_types = data['SPECPRIMARY']\n",
    "\n",
    "# Find unique values in the 'SPECPRIMARY' column\n",
    "unique_target_types = np.unique(target_types)\n",
    "\n",
    "# Print the unique values\n",
    "print('Unique SPECPRIMARY values:')\n",
    "for target_type in unique_target_types:\n",
    "    print(target_type)"
   ]
  },
  {
   "cell_type": "code",
   "execution_count": 18,
   "id": "632274fa",
   "metadata": {},
   "outputs": [],
   "source": [
    "# Apply conditions:\n",
    "# 'SPECPRIMARY' > 0\n",
    "# 'ZWARNING' == 0 or 'ZWARNING' == 16\n",
    "condition = (data['SPECPRIMARY'] > 0) & ((data['ZWARNING'] == 0) | (data['ZWARNING'] == 16))\n",
    "\n",
    "# Apply the condition to filter the 'Z' values\n",
    "filtered_z_values = data['Z'][condition]"
   ]
  },
  {
   "cell_type": "code",
   "execution_count": 40,
   "id": "df5b1612",
   "metadata": {
    "scrolled": false
   },
   "outputs": [
    {
     "data": {
      "image/png": "[encoded data removed]",
      "text/plain": [
       "<Figure size 640x480 with 1 Axes>"
      ]
     },
     "metadata": {},
     "output_type": "display_data"
    }
   ],
   "source": [
    "import matplotlib.pyplot as plt\n",
    "plt.figure()\n",
    "plt.hist(filtered_z_values, bins=200, color='green', alpha=0.7)\n",
    "plt.title('Histogram of Filtered Z (Redshift) Values')\n",
    "plt.xlabel('Z (Redshift)')\n",
    "plt.ylabel('Frequency')\n",
    "plt.grid(True)\n",
    "plt.show()"
   ]
  },
  {
   "cell_type": "code",
   "execution_count": 39,
   "id": "c7617dbb",
   "metadata": {},
   "outputs": [
    {
     "ename": "FitDataError",
     "evalue": "Invalid values in `data`.  Maximum likelihood estimation with 'expon' requires that 0 < (x - loc)/scale  < inf for each x in `data`.",
     "output_type": "error",
     "traceback": [
      "\u001b[0;31m---------------------------------------------------------------------------\u001b[0m",
      "\u001b[0;31mFitDataError\u001b[0m                              Traceback (most recent call last)",
      "Cell \u001b[0;32mIn[39], line 8\u001b[0m\n\u001b[1;32m      3\u001b[0m \u001b[38;5;28;01mimport\u001b[39;00m \u001b[38;5;21;01mnumpy\u001b[39;00m \u001b[38;5;28;01mas\u001b[39;00m \u001b[38;5;21;01mnp\u001b[39;00m\n\u001b[1;32m      5\u001b[0m \u001b[38;5;66;03m# Assume you have an array of Z values (filtered_z_values) from previous steps\u001b[39;00m\n\u001b[1;32m      6\u001b[0m \n\u001b[1;32m      7\u001b[0m \u001b[38;5;66;03m# Fit the data to an exponential distribution\u001b[39;00m\n\u001b[0;32m----> 8\u001b[0m loc, scale \u001b[38;5;241m=\u001b[39m \u001b[43mexpon\u001b[49m\u001b[38;5;241;43m.\u001b[39;49m\u001b[43mfit\u001b[49m\u001b[43m(\u001b[49m\u001b[43mfiltered_z_values\u001b[49m\u001b[43m,\u001b[49m\u001b[43m \u001b[49m\u001b[43mfloc\u001b[49m\u001b[38;5;241;43m=\u001b[39;49m\u001b[38;5;241;43m0\u001b[39;49m\u001b[43m)\u001b[49m\n\u001b[1;32m     10\u001b[0m \u001b[38;5;66;03m# Create a range of values (x) for plotting the PDF\u001b[39;00m\n\u001b[1;32m     11\u001b[0m xmin, xmax \u001b[38;5;241m=\u001b[39m filtered_z_values\u001b[38;5;241m.\u001b[39mmin(), filtered_z_values\u001b[38;5;241m.\u001b[39mmax()\n",
      "File \u001b[0;32m~/bliss/venv/lib/python3.10/site-packages/scipy/stats/_continuous_distns.py:74\u001b[0m, in \u001b[0;36m_call_super_mom.<locals>.wrapper\u001b[0;34m(self, data, *args, **kwds)\u001b[0m\n\u001b[1;32m     69\u001b[0m \u001b[38;5;28;01mif\u001b[39;00m censored:\n\u001b[1;32m     70\u001b[0m     \u001b[38;5;66;03m# data is an instance of CensoredData, but actually holds\u001b[39;00m\n\u001b[1;32m     71\u001b[0m     \u001b[38;5;66;03m# no censored values, so replace it with the array of\u001b[39;00m\n\u001b[1;32m     72\u001b[0m     \u001b[38;5;66;03m# uncensored values.\u001b[39;00m\n\u001b[1;32m     73\u001b[0m     data \u001b[38;5;241m=\u001b[39m data\u001b[38;5;241m.\u001b[39m_uncensored\n\u001b[0;32m---> 74\u001b[0m \u001b[38;5;28;01mreturn\u001b[39;00m \u001b[43mfun\u001b[49m\u001b[43m(\u001b[49m\u001b[38;5;28;43mself\u001b[39;49m\u001b[43m,\u001b[49m\u001b[43m \u001b[49m\u001b[43mdata\u001b[49m\u001b[43m,\u001b[49m\u001b[43m \u001b[49m\u001b[38;5;241;43m*\u001b[39;49m\u001b[43margs\u001b[49m\u001b[43m,\u001b[49m\u001b[43m \u001b[49m\u001b[38;5;241;43m*\u001b[39;49m\u001b[38;5;241;43m*\u001b[39;49m\u001b[43mkwds\u001b[49m\u001b[43m)\u001b[49m\n",
      "File \u001b[0;32m~/bliss/venv/lib/python3.10/site-packages/scipy/stats/_continuous_distns.py:1838\u001b[0m, in \u001b[0;36mexpon_gen.fit\u001b[0;34m(self, data, *args, **kwds)\u001b[0m\n\u001b[1;32m   1835\u001b[0m     loc \u001b[38;5;241m=\u001b[39m floc\n\u001b[1;32m   1836\u001b[0m     \u001b[38;5;28;01mif\u001b[39;00m data_min \u001b[38;5;241m<\u001b[39m loc:\n\u001b[1;32m   1837\u001b[0m         \u001b[38;5;66;03m# There are values that are less than the specified loc.\u001b[39;00m\n\u001b[0;32m-> 1838\u001b[0m         \u001b[38;5;28;01mraise\u001b[39;00m FitDataError(\u001b[38;5;124m\"\u001b[39m\u001b[38;5;124mexpon\u001b[39m\u001b[38;5;124m\"\u001b[39m, lower\u001b[38;5;241m=\u001b[39mfloc, upper\u001b[38;5;241m=\u001b[39mnp\u001b[38;5;241m.\u001b[39minf)\n\u001b[1;32m   1840\u001b[0m \u001b[38;5;28;01mif\u001b[39;00m fscale \u001b[38;5;129;01mis\u001b[39;00m \u001b[38;5;28;01mNone\u001b[39;00m:\n\u001b[1;32m   1841\u001b[0m     \u001b[38;5;66;03m# ML estimate of the scale is the shifted mean.\u001b[39;00m\n\u001b[1;32m   1842\u001b[0m     scale \u001b[38;5;241m=\u001b[39m data\u001b[38;5;241m.\u001b[39mmean() \u001b[38;5;241m-\u001b[39m loc\n",
      "\u001b[0;31mFitDataError\u001b[0m: Invalid values in `data`.  Maximum likelihood estimation with 'expon' requires that 0 < (x - loc)/scale  < inf for each x in `data`."
     ]
    }
   ],
   "source": [
    "from scipy.stats import expon\n",
    "import matplotlib.pyplot as plt\n",
    "import numpy as np\n",
    "\n",
    "# Assume you have an array of Z values (filtered_z_values) from previous steps\n",
    "\n",
    "# Fit the data to an exponential distribution\n",
    "loc, scale = expon.fit(filtered_z_values, floc=0)\n",
    "\n",
    "# Create a range of values (x) for plotting the PDF\n",
    "xmin, xmax = filtered_z_values.min(), filtered_z_values.max()\n",
    "x = np.linspace(xmin, xmax, 100)\n",
    "\n",
    "# Calculate the PDF of the exponential distribution\n",
    "pdf_exponential = expon.pdf(x, loc, scale)\n",
    "\n",
    "# Plot the histogram and the PDF of the exponential distribution\n",
    "plt.figure(figsize=(10, 6))\n",
    "plt.hist(filtered_z_values, bins=200, density=True, alpha=0.6, color='g', label='Data')\n",
    "plt.plot(x, pdf_exponential, 'k', linewidth=2, label='Exponential fit')\n",
    "plt.title('Fit to Exponential Distribution')\n",
    "plt.xlabel('Z (Redshift)')\n",
    "plt.ylabel('Density')\n",
    "plt.legend()\n",
    "plt.grid(True)\n",
    "plt.show()\n"
   ]
  },
  {
   "cell_type": "code",
   "execution_count": null,
   "id": "69e60bab",
   "metadata": {},
   "outputs": [],
   "source": []
  }
 ],
 "metadata": {
  "kernelspec": {
   "display_name": "Python 3 (ipykernel)",
   "language": "python",
   "name": "python3"
  },
  "language_info": {
   "codemirror_mode": {
    "name": "ipython",
    "version": 3
   },
   "file_extension": ".py",
   "mimetype": "text/x-python",
   "name": "python",
   "nbconvert_exporter": "python",
   "pygments_lexer": "ipython3",
   "version": "3.10.12"
  }
 },
 "nbformat": 4,
 "nbformat_minor": 5
}

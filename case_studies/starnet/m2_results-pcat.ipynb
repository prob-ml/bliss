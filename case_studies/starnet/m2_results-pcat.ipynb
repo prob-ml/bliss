{
 "cells": [
  {
   "cell_type": "code",
   "execution_count": 1,
   "metadata": {},
   "outputs": [
    {
     "name": "stdout",
     "output_type": "stream",
     "text": [
      "1.8.1+cu102\n",
      "cuda:0\n"
     ]
    }
   ],
   "source": [
    "import torch\n",
    "import pytorch_lightning as pl\n",
    "\n",
    "device = torch.device(\"cuda:0\" if torch.cuda.is_available() else \"cpu\")\n",
    "torch.cuda.set_device(device)\n",
    "\n",
    "from hydra.utils import instantiate\n",
    "from hydra.experimental import initialize, compose\n",
    "\n",
    "import numpy as np\n",
    "import time \n",
    "from copy import deepcopy\n",
    "\n",
    "import matplotlib.pyplot as plt\n",
    "%matplotlib inline\n",
    "\n",
    "torch.manual_seed(184)\n",
    "np.random.seed(143)\n",
    "\n",
    "print(torch.__version__)\n",
    "print(device)"
   ]
  },
  {
   "cell_type": "code",
   "execution_count": 2,
   "metadata": {},
   "outputs": [],
   "source": [
    "from bliss import sleep"
   ]
  },
  {
   "cell_type": "code",
   "execution_count": 3,
   "metadata": {},
   "outputs": [],
   "source": [
    "import sys\n",
    "sys.path.append('./starnet_utils/')\n",
    "import m2_data\n",
    "import plotting\n",
    "import starnet_metrics\n",
    "import utils"
   ]
  },
  {
   "cell_type": "code",
   "execution_count": 4,
   "metadata": {},
   "outputs": [],
   "source": [
    "%matplotlib inline"
   ]
  },
  {
   "cell_type": "code",
   "execution_count": null,
   "metadata": {},
   "outputs": [],
   "source": []
  },
  {
   "cell_type": "code",
   "execution_count": null,
   "metadata": {},
   "outputs": [],
   "source": []
  },
  {
   "cell_type": "markdown",
   "metadata": {},
   "source": [
    "# Load configs and starnet model"
   ]
  },
  {
   "cell_type": "code",
   "execution_count": 5,
   "metadata": {},
   "outputs": [
    {
     "name": "stdout",
     "output_type": "stream",
     "text": [
      "config: \n",
      "{'mode': 'train', 'gpus': 1, 'paths': {'root': None, 'output': '${paths.root}/output', 'sdss': '${paths.root}/data/sdss', 'data': '${paths.root}/data'}, 'datasets': {'simulated_m2': {'_target_': 'bliss.datasets.simulated.SimulatedDataset', 'prior': '${models.prior}', 'decoder': '${models.decoder}', 'background': [686.0, 1123.0], 'n_batches': 10, 'batch_size': 20, 'generate_device': 'cuda:0', 'testing_file': None}}, 'models': {'decoder': {'_target_': 'bliss.models.decoder.ImageDecoder', 'n_bands': 2, 'tile_slen': 2, 'ptile_slen': 26, 'border_padding': 3, 'psf_params_file': '../../../data/sdss/2583/2/136/psField-002583-2-0136.fits', 'sdss_bands': [2, 3]}, 'encoder': {'_target_': 'bliss.models.location_encoder.LocationEncoder', 'n_bands': '${models.decoder.n_bands}', 'tile_slen': '${models.decoder.tile_slen}', 'ptile_slen': 8, 'max_detections': 2, 'channel': 17, 'spatial_dropout': 0.11399, 'dropout': 0.013123, 'hidden': 185}, 'prior': {'_target_': 'bliss.models.prior.ImagePrior', 'n_bands': 2, 'slen': 100, 'tile_slen': 2, 'max_sources': 5, 'mean_sources': 0.48, 'min_sources': 0, 'f_min': 1000.0, 'f_max': 1000000.0, 'alpha': 0.5, 'prob_galaxy': 0.0}, 'sleep': {'_target_': 'bliss.sleep.SleepPhase', 'encoder': '${models.encoder}', 'decoder': '${models.decoder}'}}, 'training': {'model': '${models.sleep}', 'dataset': '${datasets.simulated_m2}', 'optimizer_params': {'lr': 0.00098352, 'weight_decay': 8.041e-05}, 'n_epochs': 400, 'experiment': 'default', 'version': None, 'save_top_k': 1, 'trainer': {'_target_': 'pytorch_lightning.Trainer', 'logger': False, 'enable_checkpointing': False, 'profiler': None, 'reload_dataloaders_every_epoch': False, 'check_val_every_n_epoch': 50, 'max_epochs': '${training.n_epochs}', 'min_epochs': '${training.n_epochs}', 'gpus': '${gpus}', 'log_every_n_steps': 10, 'deterministic': False}, 'weight_save_path': None}}\n"
     ]
    },
    {
     "name": "stderr",
     "output_type": "stream",
     "text": [
      "/home/runingli/anaconda3/envs/bliss_py/lib/python3.8/site-packages/hydra/experimental/initialize.py:35: UserWarning: hydra.experimental.initialize() is no longer experimental. Use hydra.initialize()\n",
      "  warnings.warn(\n",
      "/home/runingli/anaconda3/envs/bliss_py/lib/python3.8/site-packages/hydra/experimental/compose.py:16: UserWarning: hydra.experimental.compose() is no longer experimental. Use hydra.compose()\n",
      "  warnings.warn(\n"
     ]
    }
   ],
   "source": [
    "with initialize(config_path='./scripts/'):\n",
    "    cfg = compose(\"m2\")\n",
    "\n",
    "print('config: ')\n",
    "print(cfg)"
   ]
  },
  {
   "cell_type": "code",
   "execution_count": null,
   "metadata": {},
   "outputs": [],
   "source": []
  },
  {
   "cell_type": "code",
   "execution_count": 6,
   "metadata": {},
   "outputs": [],
   "source": [
    "cfg.models.decoder.psf_params_file = './../../data/sdss/2583/2/136/psField-002583-2-0136.fits'"
   ]
  },
  {
   "cell_type": "code",
   "execution_count": 7,
   "metadata": {
    "scrolled": true
   },
   "outputs": [],
   "source": [
    "model_filename = './fits/starnet-m2'\n",
    "\n",
    "dataset = instantiate(cfg.training.dataset)\n",
    "\n",
    "sleep_net = instantiate(cfg.training.model,\n",
    "                        optimizer_params=cfg.training.optimizer_params)\n",
    "\n",
    "sleep_net.image_encoder.load_state_dict(torch.load(model_filename)); "
   ]
  },
  {
   "cell_type": "code",
   "execution_count": 8,
   "metadata": {},
   "outputs": [],
   "source": [
    "sleep_net.image_encoder.to(device);\n",
    "sleep_net.image_encoder.eval(); "
   ]
  },
  {
   "cell_type": "code",
   "execution_count": 9,
   "metadata": {},
   "outputs": [],
   "source": [
    "# pl.seed_everything(345435)\n",
    "\n",
    "# from bliss.datasets import simulated \n",
    "# cfg.dataset.kwargs.update({'batch_size': 1})\n",
    "# dataset = simulated.SimulatedDataset(**cfg.dataset.kwargs)\n",
    "\n",
    "# batch =  dataset.get_batch()\n",
    "# print(sleep_net.get_loss(batch)[0])\n",
    "\n",
    "# print((batch['images']**2).mean())"
   ]
  },
  {
   "cell_type": "code",
   "execution_count": null,
   "metadata": {},
   "outputs": [],
   "source": []
  },
  {
   "cell_type": "markdown",
   "metadata": {},
   "source": [
    "# Load m2 data"
   ]
  },
  {
   "cell_type": "code",
   "execution_count": 10,
   "metadata": {},
   "outputs": [
    {
     "name": "stdout",
     "output_type": "stream",
     "text": [
      "loading sdss image from ../../data/sdss/2583/2/136/frame-r-002583-2-0136.fits\n",
      "loading sdss image from ../../data/sdss/2583/2/136/frame-i-002583-2-0136.fits\n",
      "loading hubble data from  ./hubble_data/hlsp_acsggct_hst_acs-wfc_ngc7089_r.rdviq.cal.adj.zpt\n",
      "getting sdss coordinates from:  ../../data/sdss/2583/2/136/frame-r-002583-2-0136.fits\n",
      "\n",
      " aligning images. \n",
      " Getting sdss coordinates from:  ../../data/sdss/2583/2/136/frame-i-002583-2-0136.fits\n"
     ]
    },
    {
     "name": "stderr",
     "output_type": "stream",
     "text": [
      "WARNING: FITSFixedWarning: RADECSYS= 'ICRS ' / International Celestial Ref. System \n",
      "the RADECSYS keyword is deprecated, use RADESYSa. [astropy.wcs.wcs]\n"
     ]
    }
   ],
   "source": [
    "run = 2583\n",
    "camcol = 2\n",
    "field = 136\n",
    "\n",
    "sdss_frame, hubble_catalog, sdss_background, sdss_data, wcs = \\\n",
    "    m2_data.load_m2_data()"
   ]
  },
  {
   "cell_type": "code",
   "execution_count": 11,
   "metadata": {},
   "outputs": [],
   "source": [
    "# filter by bright stars \n",
    "fmin = 1000.\n",
    "hubble_catalog = plotting.filter_catalog(hubble_catalog,\n",
    "                                         hubble_catalog['fluxes'][:, 0] > fmin)"
   ]
  },
  {
   "cell_type": "code",
   "execution_count": 12,
   "metadata": {},
   "outputs": [],
   "source": [
    "nelec_per_nmgy = sdss_data[0]['nelec_per_nmgy'][0].mean()"
   ]
  },
  {
   "cell_type": "code",
   "execution_count": null,
   "metadata": {},
   "outputs": [],
   "source": []
  },
  {
   "cell_type": "markdown",
   "metadata": {},
   "source": [
    "### We focus on this chunk"
   ]
  },
  {
   "cell_type": "code",
   "execution_count": 13,
   "metadata": {},
   "outputs": [],
   "source": [
    "x0 = 630\n",
    "x1 = 310\n",
    "chunk_slen = 100\n",
    "\n",
    "border_padding = sleep_net.image_encoder.border_padding"
   ]
  },
  {
   "cell_type": "code",
   "execution_count": 14,
   "metadata": {},
   "outputs": [],
   "source": [
    "sdss_test_image = plotting.crop_image(sdss_frame, \n",
    "                                      x0 - border_padding, \n",
    "                                      x1 - border_padding,\n",
    "                                      chunk_slen + 2 * border_padding,\n",
    "                                      chunk_slen + 2 * border_padding)"
   ]
  },
  {
   "cell_type": "code",
   "execution_count": 15,
   "metadata": {},
   "outputs": [
    {
     "data": {
      "text/plain": [
       "<matplotlib.image.AxesImage at 0x7faa6be7f3d0>"
      ]
     },
     "execution_count": 15,
     "metadata": {},
     "output_type": "execute_result"
    },
    {
     "data": {
      "image/png": "[encoded data removed]",
      "text/plain": [
       "<Figure size 288x288 with 1 Axes>"
      ]
     },
     "metadata": {
      "needs_background": "light"
     },
     "output_type": "display_data"
    }
   ],
   "source": [
    "plt.matshow(sdss_test_image[0], \n",
    "            cmap = plt.cm.gray)"
   ]
  },
  {
   "cell_type": "code",
   "execution_count": null,
   "metadata": {},
   "outputs": [],
   "source": []
  },
  {
   "cell_type": "markdown",
   "metadata": {},
   "source": [
    "# Get starnet map estimates"
   ]
  },
  {
   "cell_type": "code",
   "execution_count": 16,
   "metadata": {},
   "outputs": [],
   "source": [
    "def get_map_estimate(image_encoder, images, background, slen: int, wlen: int = None):\n",
    "    # return full estimate of parameters in full image.\n",
    "    # NOTE: slen*wlen is size of the image without border padding\n",
    "\n",
    "    if wlen is None:\n",
    "        wlen = slen\n",
    "    assert isinstance(slen, int) and isinstance(wlen, int)\n",
    "    # check image compatibility\n",
    "    border1 = (images.shape[-2] - slen) / 2\n",
    "    border2 = (images.shape[-1] - wlen) / 2\n",
    "    assert border1 == border2, \"border paddings on each dimension differ.\"\n",
    "    assert slen % image_encoder.tile_slen == 0, \"incompatible slen\"\n",
    "    assert wlen % image_encoder.tile_slen == 0, \"incompatible wlen\"\n",
    "    assert border1 == image_encoder.border_padding, \"incompatible border\"\n",
    "\n",
    "    # obtained estimates per tile, then on full image.\n",
    "    log_images = subtract_bg_and_log_transform(images, background)\n",
    "    log_image_ptiles = get_images_in_tiles(\n",
    "        log_images, image_encoder.tile_slen, image_encoder.ptile_slen\n",
    "    )\n",
    "    var_params = image_encoder.encode(log_image_ptiles)\n",
    "    # var_params2 = image_encoder.encode(log_image_ptiles[:, :25, :25])\n",
    "    # assert torch.allclose(var_params[0, :25, :25], var_params2, atol=1e-5)\n",
    "    tile_map = image_encoder.max_a_post(var_params)\n",
    "\n",
    "    return get_full_params_from_tiles(tile_map, image_encoder.tile_slen)"
   ]
  },
  {
   "cell_type": "code",
   "execution_count": 17,
   "metadata": {},
   "outputs": [],
   "source": [
    "from bliss.models.location_encoder import (\n",
    "    get_full_params_from_tiles,\n",
    "    get_images_in_tiles,\n",
    "    subtract_bg_and_log_transform,\n",
    ")"
   ]
  },
  {
   "cell_type": "code",
   "execution_count": null,
   "metadata": {},
   "outputs": [],
   "source": []
  },
  {
   "cell_type": "code",
   "execution_count": 18,
   "metadata": {},
   "outputs": [],
   "source": [
    "sleep_net.to(device);"
   ]
  },
  {
   "cell_type": "code",
   "execution_count": 19,
   "metadata": {},
   "outputs": [],
   "source": [
    "map_estimate = get_map_estimate(sleep_net.image_encoder, \n",
    "                                sdss_test_image.unsqueeze(0).to(device),\n",
    "                                dataset.background.view(1, 2, 1, 1).to(device), \n",
    "                                slen = chunk_slen)\n",
    "\n",
    "# detach \n",
    "for key in map_estimate.keys(): \n",
    "    map_estimate[key] = map_estimate[key].squeeze(0).cpu().detach()\n",
    "\n",
    "# reparameterize locations: these are coordinates on the frame\n",
    "map_estimate['locs'] = map_estimate['locs'] * chunk_slen + \\\n",
    "    torch.Tensor([[x0, x1]])\n",
    "\n",
    "# all galaxies should be off\n",
    "# assert torch.all(map_estimate['galaxy_bool'] == 0.)"
   ]
  },
  {
   "cell_type": "code",
   "execution_count": 20,
   "metadata": {},
   "outputs": [
    {
     "name": "stdout",
     "output_type": "stream",
     "text": [
      "tensor(1330)\n"
     ]
    }
   ],
   "source": [
    "print(map_estimate['n_sources'])"
   ]
  },
  {
   "cell_type": "code",
   "execution_count": 21,
   "metadata": {},
   "outputs": [
    {
     "data": {
      "text/plain": [
       "(array([344., 413., 298., 168.,  59.,  24.,   7.,  10.,   5.,   2.]),\n",
       " array([2.9999406, 3.2870955, 3.5742507, 3.8614056, 4.1485605, 4.4357157,\n",
       "        4.7228703, 5.0100255, 5.2971807, 5.5843353, 5.8714905],\n",
       "       dtype=float32),\n",
       " <BarContainer object of 10 artists>)"
      ]
     },
     "execution_count": 21,
     "metadata": {},
     "output_type": "execute_result"
    },
    {
     "data": {
      "image/png": "[encoded data removed]",
      "text/plain": [
       "<Figure size 432x288 with 1 Axes>"
      ]
     },
     "metadata": {
      "needs_background": "light"
     },
     "output_type": "display_data"
    }
   ],
   "source": [
    "plt.hist(np.log10(map_estimate['fluxes'][:, 0].cpu().numpy()))"
   ]
  },
  {
   "cell_type": "code",
   "execution_count": null,
   "metadata": {},
   "outputs": [],
   "source": []
  },
  {
   "cell_type": "markdown",
   "metadata": {},
   "source": [
    "# Load PCAT results"
   ]
  },
  {
   "cell_type": "code",
   "execution_count": 22,
   "metadata": {},
   "outputs": [],
   "source": [
    "chain_results = np.load('./fits/my_chain_nsamp3000.npz')"
   ]
  },
  {
   "cell_type": "code",
   "execution_count": 23,
   "metadata": {},
   "outputs": [],
   "source": [
    "# we take the last 300 samples of the chain\n",
    "pcat_n_samples = 300"
   ]
  },
  {
   "cell_type": "code",
   "execution_count": 24,
   "metadata": {},
   "outputs": [],
   "source": [
    "gain = sdss_data[0]['gain'][0]"
   ]
  },
  {
   "cell_type": "code",
   "execution_count": 25,
   "metadata": {},
   "outputs": [],
   "source": [
    "# n_samples x max_stars x n_bands\n",
    "pcat_sampled_fluxes = chain_results['f'][:, -pcat_n_samples:, :].transpose([1, 2, 0]) * gain\n",
    "\n",
    "# get boolean for stars that are on\n",
    "pcat_is_on_sampled = pcat_sampled_fluxes[:, :, 0] > 0\n",
    "assert (pcat_is_on_sampled.sum(1) == chain_results['n'][-pcat_n_samples:]).all()\n",
    "\n",
    "# locations: n_samples x max_stars x 2\n",
    "pcat_sampled_locs = np.dstack((chain_results['y'][-pcat_n_samples:, :], \n",
    "                                    chain_results['x'][-pcat_n_samples:, :])) + \\\n",
    "    np.array([[[630.5, 310.5]]])\n",
    "\n",
    "# covert everything to torch tensors \n",
    "pcat_sampled_locs = torch.Tensor(pcat_sampled_locs) \n",
    "pcat_sampled_fluxes = torch.Tensor(pcat_sampled_fluxes)\n",
    "\n",
    "pcat_samples = dict({'locs': pcat_sampled_locs, \n",
    "                     'fluxes': pcat_sampled_fluxes})"
   ]
  },
  {
   "cell_type": "code",
   "execution_count": null,
   "metadata": {},
   "outputs": [],
   "source": []
  },
  {
   "cell_type": "markdown",
   "metadata": {},
   "source": [
    "# Load DAOPHOT results"
   ]
  },
  {
   "cell_type": "code",
   "execution_count": 26,
   "metadata": {},
   "outputs": [],
   "source": [
    "import daophot_utils"
   ]
  },
  {
   "cell_type": "code",
   "execution_count": 27,
   "metadata": {},
   "outputs": [],
   "source": [
    "_daophot_locs, _daophot_fluxes = daophot_utils.load_daophot_results('./daophot_data/m2_2583.phot', \n",
    "                                                                    nelec_per_nmgy, \n",
    "                                                                    wcs, \n",
    "                                                                    slen = 100,\n",
    "                                                                    x0 = 630,\n",
    "                                                                    x1 = 310)"
   ]
  },
  {
   "cell_type": "code",
   "execution_count": 28,
   "metadata": {},
   "outputs": [],
   "source": [
    "daophot_locs, daophot_fluxes = \\\n",
    "    daophot_utils.align_daophot_locs(_daophot_locs,\n",
    "                                     _daophot_fluxes,\n",
    "                                     hubble_catalog['locs'],\n",
    "                                     hubble_catalog['fluxes'][:, 0], \n",
    "                                     align_on_logflux = 4.5)\n",
    "\n",
    "daophot_catalog = {'locs': daophot_locs, \n",
    "                   'fluxes': daophot_fluxes}"
   ]
  },
  {
   "cell_type": "code",
   "execution_count": 29,
   "metadata": {},
   "outputs": [
    {
     "data": {
      "text/plain": [
       "torch.Size([357, 2])"
      ]
     },
     "execution_count": 29,
     "metadata": {},
     "output_type": "execute_result"
    }
   ],
   "source": [
    "daophot_locs.shape"
   ]
  },
  {
   "cell_type": "markdown",
   "metadata": {},
   "source": [
    "# Example subimages"
   ]
  },
  {
   "cell_type": "code",
   "execution_count": 30,
   "metadata": {},
   "outputs": [
    {
     "data": {
      "image/png": "[encoded data removed]",
      "text/plain": [
       "<Figure size 576x432 with 8 Axes>"
      ]
     },
     "metadata": {
      "needs_background": "light"
     },
     "output_type": "display_data"
    }
   ],
   "source": [
    "fig, axarr = plt.subplots(2, 2, figsize=(8, 6))\n",
    "\n",
    "subimage_slen = 10\n",
    "\n",
    "x0_vec = np.array([53, 41, 31, 33]) + x0\n",
    "x1_vec = np.array([70, 23, 82, 64]) + x1\n",
    "\n",
    "for i in range(len(x0_vec)): \n",
    "    _x0 = x0_vec[i]\n",
    "    _x1 = x1_vec[i]\n",
    "    \n",
    "    ax = axarr[i // 2, i % 2]\n",
    "    \n",
    "    # true locations\n",
    "    plotting.plot_locations(\n",
    "        hubble_catalog['locs'], \n",
    "        ax,\n",
    "        marker='o',\n",
    "        color='b',\n",
    "    )\n",
    "    \n",
    "    # starnet detections\n",
    "    plotting.plot_locations(\n",
    "        map_estimate['locs'], \n",
    "        ax,\n",
    "        marker='x',\n",
    "        color='r',\n",
    "    )\n",
    "\n",
    "    # daophot\n",
    "    plotting.plot_locations(\n",
    "        daophot_locs, \n",
    "        ax,\n",
    "        marker='x',\n",
    "        color='orange',\n",
    "    )\n",
    "    \n",
    "    im = plotting.plot_image(ax, \n",
    "                             sdss_frame[0], \n",
    "                             _x0, \n",
    "                             _x1,\n",
    "                             subimage_slen,\n",
    "                             subimage_slen)\n",
    "    \n",
    "    fig.colorbar(im, ax = ax)\n",
    "    \n",
    "    ax.set_xticks([])\n",
    "    ax.set_yticks([])\n",
    "    \n",
    "axarr[0, 0].legend(['Hubble', 'StarNet', 'DAOPHOT'], loc = 'upper left')\n",
    "\n",
    "fig.tight_layout();\n",
    "\n",
    "fig.savefig('./figures/m2_results/example_subimages_starnet.png')\n"
   ]
  },
  {
   "cell_type": "code",
   "execution_count": 31,
   "metadata": {},
   "outputs": [
    {
     "data": {
      "image/png": "[encoded data removed]",
      "text/plain": [
       "<Figure size 576x432 with 8 Axes>"
      ]
     },
     "metadata": {
      "needs_background": "light"
     },
     "output_type": "display_data"
    }
   ],
   "source": [
    "fig, axarr = plt.subplots(2, 2, figsize=(8, 6))\n",
    "\n",
    "subimage_slen = 10\n",
    "\n",
    "x0_vec = np.array([53, 41, 31, 33]) + x0\n",
    "x1_vec = np.array([70, 23, 82, 64]) + x1\n",
    "\n",
    "for i in range(len(x0_vec)): \n",
    "    _x0 = x0_vec[i]\n",
    "    _x1 = x1_vec[i]\n",
    "    \n",
    "    ax = axarr[i // 2, i % 2]\n",
    "    \n",
    "    # true locations\n",
    "    plotting.plot_locations(\n",
    "        hubble_catalog['locs'], \n",
    "        ax,\n",
    "        marker='o',\n",
    "        color='b',\n",
    "    )\n",
    "    \n",
    "#     plotting.plot_locations(\n",
    "#         map_estimate['locs'], \n",
    "#         ax,\n",
    "#         marker='x',\n",
    "#         color='r',\n",
    "#     )\n",
    "\n",
    "    # pcat\n",
    "    plotting.plot_locations(\n",
    "        pcat_samples['locs'][0], \n",
    "        ax,\n",
    "        marker='x',\n",
    "        color='c',\n",
    "    )\n",
    "\n",
    "    # daophot\n",
    "    plotting.plot_locations(\n",
    "        daophot_locs, \n",
    "        ax,\n",
    "        marker='x',\n",
    "        color='orange',\n",
    "    )\n",
    "    \n",
    "    im = plotting.plot_image(ax, \n",
    "                             sdss_frame[0], \n",
    "                             _x0, \n",
    "                             _x1,\n",
    "                             subimage_slen,\n",
    "                             subimage_slen)\n",
    "    \n",
    "    fig.colorbar(im, ax = ax)\n",
    "    \n",
    "    ax.set_xticks([])\n",
    "    ax.set_yticks([])\n",
    "    \n",
    "axarr[0, 0].legend(['Hubble', 'PCAT', 'DAOPHOT'], loc = 'upper left')\n",
    "\n",
    "fig.tight_layout();\n",
    "\n",
    "fig.savefig('./figures/m2_results/example_subimages_pcat.png')"
   ]
  },
  {
   "cell_type": "code",
   "execution_count": null,
   "metadata": {},
   "outputs": [],
   "source": []
  },
  {
   "cell_type": "markdown",
   "metadata": {},
   "source": [
    "# Performance metrics"
   ]
  },
  {
   "cell_type": "code",
   "execution_count": 32,
   "metadata": {},
   "outputs": [],
   "source": [
    "# the PCAT catalog has a 0.5 pixel border around the edges \n",
    "\n",
    "# to reproduce old PCAT results, set \n",
    "# pad = 5.5\n",
    "# _chunk_slen = chunk_slen - 10\n",
    "\n",
    "pad = 0.5\n",
    "_chunk_slen = chunk_slen - 2 * pad"
   ]
  },
  {
   "cell_type": "code",
   "execution_count": 33,
   "metadata": {},
   "outputs": [],
   "source": [
    "# get hubble ground truth on this chunk\n",
    "hubble_test_catalog = plotting.filter_catalog_by_locs(hubble_catalog, \n",
    "                                                      x0 + pad, \n",
    "                                                      x1 + pad,\n",
    "                                                      _chunk_slen,\n",
    "                                                      _chunk_slen)\n",
    "\n",
    "hubble_test_mags = utils.convert_nmgy_to_mag(hubble_test_catalog['fluxes'][:, 0:1] / nelec_per_nmgy)"
   ]
  },
  {
   "cell_type": "code",
   "execution_count": 34,
   "metadata": {},
   "outputs": [],
   "source": [
    "def get_summary_statistics(est_catalog): \n",
    "        \n",
    "    est_catalog = plotting.filter_catalog_by_locs(deepcopy(est_catalog),\n",
    "                                                  x0 + pad, \n",
    "                                                  x1 + pad,\n",
    "                                                  _chunk_slen,\n",
    "                                                  _chunk_slen)\n",
    "    est_locs = est_catalog['locs']\n",
    "    est_fluxes = est_catalog['fluxes'][:, 0:1]\n",
    "    \n",
    "    est_mags = utils.convert_nmgy_to_mag(est_fluxes / nelec_per_nmgy)\n",
    "\n",
    "    # get tpr and ppv as function of magnitude\n",
    "    tpr_vec = starnet_metrics.get_tpr_vec(hubble_test_catalog['locs'],\n",
    "                                          hubble_test_mags,\n",
    "                                          est_locs,\n",
    "                                          est_mags, \n",
    "                                          mag_bins = mag_bins)[0]\n",
    "    \n",
    "    ppv_vec = starnet_metrics.get_ppv_vec(hubble_test_catalog['locs'],\n",
    "                                          hubble_test_mags,\n",
    "                                          est_locs,\n",
    "                                          est_mags, \n",
    "                                          mag_bins = mag_bins)[0]\n",
    "    \n",
    "    # get overal tpr and ppv    \n",
    "    tpr, ppv = starnet_metrics.get_tpr_ppv(hubble_test_catalog['locs'],\n",
    "                                           hubble_test_mags,\n",
    "                                           est_locs,\n",
    "                                           est_mags, \n",
    "                                           slack = 0.5)\n",
    "    # f1 score \n",
    "    f1 = 2 * (tpr * ppv) / (tpr + ppv)\n",
    "    return tpr, ppv, f1, tpr_vec, ppv_vec\n"
   ]
  },
  {
   "cell_type": "code",
   "execution_count": 35,
   "metadata": {},
   "outputs": [],
   "source": [
    "mag_bins = np.concatenate((np.array([15]), \n",
    "                          np.arange(19, 22.2, 0.4), \n",
    "                          np.array([100])))"
   ]
  },
  {
   "cell_type": "code",
   "execution_count": null,
   "metadata": {},
   "outputs": [],
   "source": []
  },
  {
   "cell_type": "markdown",
   "metadata": {},
   "source": [
    "### Get results for StarNet"
   ]
  },
  {
   "cell_type": "code",
   "execution_count": 36,
   "metadata": {},
   "outputs": [
    {
     "name": "stdout",
     "output_type": "stream",
     "text": [
      "StarNet tpr tensor(0.5377)\n",
      "StarNet ppv tensor(0.4752)\n",
      "StarNet f1 tensor(0.5045)\n"
     ]
    }
   ],
   "source": [
    "tpr, ppv, f1, starnet_tpr_vec, starnet_ppv_vec = \\\n",
    "    get_summary_statistics(map_estimate)\n",
    "\n",
    "print('StarNet tpr', tpr)\n",
    "print('StarNet ppv', ppv)\n",
    "print('StarNet f1', f1)"
   ]
  },
  {
   "cell_type": "code",
   "execution_count": null,
   "metadata": {},
   "outputs": [],
   "source": []
  },
  {
   "cell_type": "markdown",
   "metadata": {},
   "source": [
    "### Get results for PCAT"
   ]
  },
  {
   "cell_type": "code",
   "execution_count": 37,
   "metadata": {},
   "outputs": [
    {
     "name": "stdout",
     "output_type": "stream",
     "text": [
      "PCAT tpr tensor(0.5495)\n",
      "PCAT ppv tensor(0.3706)\n",
      "PCAT f1 tensor(0.4426)\n"
     ]
    }
   ],
   "source": [
    "tpr = 0.\n",
    "ppv = 0.\n",
    "f1 = 0.\n",
    "\n",
    "pcat_ppv_vec = torch.zeros(len(mag_bins) - 1)\n",
    "pcat_tpr_vec = torch.zeros(len(mag_bins) - 1)\n",
    "\n",
    "for i in range(pcat_n_samples):\n",
    "    is_on = pcat_is_on_sampled[i]\n",
    "    \n",
    "    pcat_catalog_i = {'locs': pcat_sampled_locs[i, is_on, :], \n",
    "                      'fluxes': pcat_sampled_fluxes[i, is_on, :]}\n",
    "    \n",
    "    tpr_i, ppv_i, f1_i, pcat_tpr_vec, pcat_ppv_vec = \\\n",
    "        get_summary_statistics(pcat_catalog_i)\n",
    "    \n",
    "    pcat_tpr_vec += pcat_tpr_vec / pcat_n_samples\n",
    "    pcat_ppv_vec += pcat_ppv_vec / pcat_n_samples\n",
    "    \n",
    "    tpr += tpr_i / pcat_n_samples\n",
    "    ppv += ppv_i / pcat_n_samples\n",
    "    f1 += f1_i / pcat_n_samples\n",
    "    \n",
    "print('PCAT tpr', tpr)\n",
    "print('PCAT ppv', ppv)\n",
    "print('PCAT f1', f1)"
   ]
  },
  {
   "cell_type": "code",
   "execution_count": null,
   "metadata": {},
   "outputs": [],
   "source": []
  },
  {
   "cell_type": "markdown",
   "metadata": {},
   "source": [
    "### Get results for DAOPHOT"
   ]
  },
  {
   "cell_type": "code",
   "execution_count": 38,
   "metadata": {},
   "outputs": [
    {
     "name": "stdout",
     "output_type": "stream",
     "text": [
      "DAOPHOT tpr tensor(0.2047)\n",
      "DAOPHOT ppv tensor(0.6496)\n",
      "DAOPHOT f1 tensor(0.3113)\n"
     ]
    }
   ],
   "source": [
    "tpr, ppv, f1, daophot_tpr_vec, daophot_ppv_vec = \\\n",
    "    get_summary_statistics(daophot_catalog)\n",
    "\n",
    "print('DAOPHOT tpr', tpr)\n",
    "print('DAOPHOT ppv', ppv)\n",
    "print('DAOPHOT f1', f1)"
   ]
  },
  {
   "cell_type": "code",
   "execution_count": null,
   "metadata": {},
   "outputs": [],
   "source": []
  },
  {
   "cell_type": "markdown",
   "metadata": {},
   "source": [
    "# Get performance metrics statistics as a function of magnitude"
   ]
  },
  {
   "cell_type": "code",
   "execution_count": 39,
   "metadata": {},
   "outputs": [],
   "source": [
    "axis_label_size = 20\n",
    "ticksize = 12\n",
    "legendsize = 12\n",
    "markersize = 10\n",
    "linewidth = 2\n",
    "titlesize = 18"
   ]
  },
  {
   "cell_type": "code",
   "execution_count": 40,
   "metadata": {},
   "outputs": [],
   "source": [
    "def plot_summary_vec(summary_vec, ax, marker, color, label): \n",
    "    ax.plot(x_tmp[:-1],\n",
    "            summary_vec,\n",
    "            marker, \n",
    "            markersize = markersize, \n",
    "            linewidth = linewidth, \n",
    "            color = color, \n",
    "            label = label)\n"
   ]
  },
  {
   "cell_type": "code",
   "execution_count": 41,
   "metadata": {},
   "outputs": [
    {
     "data": {
      "image/png": "[encoded data removed]",
      "text/plain": [
       "<Figure size 936x360 with 2 Axes>"
      ]
     },
     "metadata": {
      "needs_background": "light"
     },
     "output_type": "display_data"
    }
   ],
   "source": [
    "fig, axarr = plt.subplots(1, 2, figsize=(13, 5))\n",
    "\n",
    "x_tmp = np.arange(len(mag_bins))\n",
    "\n",
    "############### \n",
    "# true positive rates\n",
    "###############\n",
    "plot_summary_vec(starnet_tpr_vec, \n",
    "                 axarr[0], \n",
    "                 marker = '-^', \n",
    "                 color = 'r', \n",
    "                 label = 'StarNet')\n",
    "\n",
    "plot_summary_vec(pcat_tpr_vec, \n",
    "                 axarr[0], \n",
    "                 marker = '-o', \n",
    "                 color = 'deepskyblue', \n",
    "                 label = 'PCAT')\n",
    "\n",
    "plot_summary_vec(daophot_tpr_vec, \n",
    "                 axarr[0], \n",
    "                 marker = '-s', \n",
    "                 color = 'orange', \n",
    "                 label = 'DAOPHOT')\n",
    "\n",
    "################\n",
    "# positive predictive values\n",
    "###############\n",
    "plot_summary_vec(starnet_ppv_vec, \n",
    "                 axarr[1], \n",
    "                 marker = '-^', \n",
    "                 color = 'r', \n",
    "                 label = 'StarNet')\n",
    "\n",
    "plot_summary_vec(pcat_ppv_vec, \n",
    "                 axarr[1], \n",
    "                 marker = '-o', \n",
    "                 color = 'deepskyblue', \n",
    "                 label = 'PCAT')\n",
    "\n",
    "# no detection at lower magnitudes. \n",
    "# don't plot them\n",
    "daophot_ppv_vec[daophot_ppv_vec == 0] = np.inf\n",
    "plot_summary_vec(daophot_ppv_vec, \n",
    "                 axarr[1], \n",
    "                 marker = '-s', \n",
    "                 color = 'orange', \n",
    "                 label = 'DAOPHOT')\n",
    "\n",
    "###############\n",
    "# Legend\n",
    "###############\n",
    "axarr[1].legend(prop={'size': legendsize})\n",
    "\n",
    "###############\n",
    "# axis labels\n",
    "###############\n",
    "axarr[0].set_xlabel('Hubble magnitude', fontsize = axis_label_size)\n",
    "axarr[1].set_xlabel('Estimated magnitude', fontsize = axis_label_size)\n",
    "axarr[0].set_ylabel('True positive rate', fontsize = axis_label_size)\n",
    "axarr[1].set_ylabel('Positive predictive value', fontsize = axis_label_size)\n",
    "\n",
    "\n",
    "labels_raw = np.round(mag_bins, 1)\n",
    "labels = ['[' + str(labels_raw[i]) + ', ' + str(labels_raw[i+1]) + ')' for i in range(len(labels_raw) - 1)]\n",
    "\n",
    "labels[0] = '< ' + str(labels_raw[1])\n",
    "labels[-1] = '> ' + str(labels_raw[-2])\n",
    "\n",
    "for i in range(2): \n",
    "    axarr[i].set_xticks(x_tmp[:-1])\n",
    "    axarr[i].set_xticklabels(labels, rotation=45, ha = 'right', \n",
    "                             fontsize = axis_label_size * 0.6)\n",
    "\n",
    "fig.tight_layout()\n",
    "\n",
    "\n",
    "fig.savefig('./figures/m2_results/summary_statistics_m2.png')"
   ]
  },
  {
   "cell_type": "code",
   "execution_count": null,
   "metadata": {},
   "outputs": [],
   "source": []
  },
  {
   "cell_type": "markdown",
   "metadata": {},
   "source": [
    "# Flux distributions"
   ]
  },
  {
   "cell_type": "code",
   "execution_count": 42,
   "metadata": {},
   "outputs": [
    {
     "data": {
      "text/plain": [
       "<function utils.convert_nmgy_to_mag(nmgy)>"
      ]
     },
     "execution_count": 42,
     "metadata": {},
     "output_type": "execute_result"
    }
   ],
   "source": [
    "m2_data.convert_nmgy_to_mag"
   ]
  },
  {
   "cell_type": "code",
   "execution_count": 43,
   "metadata": {},
   "outputs": [
    {
     "data": {
      "text/plain": [
       "tensor([[1101.7385, 1101.7385],\n",
       "        [3339.4775, 3339.4775],\n",
       "        [7721.0884, 7721.0884],\n",
       "        ...,\n",
       "        [3088.5154, 3088.5154],\n",
       "        [1085.7998, 1085.7998],\n",
       "        [1434.0021, 1434.0021]])"
      ]
     },
     "execution_count": 43,
     "metadata": {},
     "output_type": "execute_result"
    }
   ],
   "source": [
    "hubble_catalog['fluxes']"
   ]
  },
  {
   "cell_type": "code",
   "execution_count": 44,
   "metadata": {},
   "outputs": [
    {
     "data": {
      "text/plain": [
       "torch.Size([94296])"
      ]
     },
     "execution_count": 44,
     "metadata": {},
     "output_type": "execute_result"
    }
   ],
   "source": [
    "hubble_catalog['fluxes'][:, 0].shape"
   ]
  },
  {
   "cell_type": "code",
   "execution_count": null,
   "metadata": {},
   "outputs": [],
   "source": []
  },
  {
   "cell_type": "code",
   "execution_count": 45,
   "metadata": {},
   "outputs": [],
   "source": [
    "# convert fluxes to magnitude\n",
    "daophot_r_mag = m2_data.convert_nmgy_to_mag(daophot_fluxes[:, 0] /nelec_per_nmgy).cpu().numpy()\n",
    "\n",
    "starnet_r_mag = m2_data.convert_nmgy_to_mag(map_estimate['fluxes'][:, 0] / nelec_per_nmgy).cpu().numpy()\n",
    "\n",
    "tmp = pcat_sampled_fluxes[-1, :, 0] / nelec_per_nmgy\n",
    "pcat_r_mag = m2_data.convert_nmgy_to_mag(tmp[tmp != 0]).cpu().numpy()\n",
    "\n",
    "\n",
    "hubble_r_mag = m2_data.convert_nmgy_to_mag(hubble_test_catalog['fluxes'][:, 0] /\n",
    "                                           nelec_per_nmgy).cpu().numpy()\n"
   ]
  },
  {
   "cell_type": "code",
   "execution_count": 46,
   "metadata": {},
   "outputs": [
    {
     "data": {
      "image/png": "[encoded data removed]",
      "text/plain": [
       "<Figure size 936x252 with 3 Axes>"
      ]
     },
     "metadata": {
      "needs_background": "light"
     },
     "output_type": "display_data"
    }
   ],
   "source": [
    "fig, axarr = plt.subplots(1, 3, figsize=(13, 3.5), \n",
    "                          sharey = True)\n",
    "\n",
    "# hubble\n",
    "for i in range(3): \n",
    "    foo = axarr[i].hist(hubble_r_mag, bins = 50, alpha = 0.6, \n",
    "                        label = 'Hubble', color = 'k');\n",
    "    axarr[i].set_xlabel('Magnitude', fontsize = axis_label_size)\n",
    "\n",
    "# daophot\n",
    "axarr[0].hist(daophot_r_mag, alpha = 0.5, bins = foo[1], \n",
    "              label = 'DAOPHOT', color = 'orange'); \n",
    "axarr[0].legend()\n",
    "\n",
    "# pcat\n",
    "axarr[1].hist(pcat_r_mag, alpha = 0.5, bins = foo[1], \n",
    "              label = 'PCAT', color = 'deepskyblue'); \n",
    "axarr[1].legend()\n",
    "\n",
    "\n",
    "# starnet\n",
    "axarr[2].hist(starnet_r_mag, alpha = 0.5, bins = foo[1], \n",
    "              label = 'StarNet', color = 'r'); \n",
    "\n",
    "for i in range(3):\n",
    "    axarr[i].legend(prop={'size': legendsize})\n",
    "    axarr[i].tick_params(labelsize = ticksize)\n",
    "    axarr[i].set_ylim(0, 110)\n",
    "    \n",
    "axarr[0].set_ylabel('#Stars', fontsize = axis_label_size)\n",
    "    \n",
    "    \n",
    "fig.tight_layout()\n",
    "\n",
    "fig.savefig('./figures/m2_results/luminosity_fun.png')"
   ]
  },
  {
   "cell_type": "code",
   "execution_count": 47,
   "metadata": {},
   "outputs": [
    {
     "data": {
      "text/plain": [
       "torch.Size([1114, 2])"
      ]
     },
     "execution_count": 47,
     "metadata": {},
     "output_type": "execute_result"
    }
   ],
   "source": [
    "hubble_test_catalog['fluxes'].shape"
   ]
  },
  {
   "cell_type": "code",
   "execution_count": null,
   "metadata": {},
   "outputs": [],
   "source": []
  },
  {
   "cell_type": "code",
   "execution_count": null,
   "metadata": {},
   "outputs": [],
   "source": []
  },
  {
   "cell_type": "markdown",
   "metadata": {},
   "source": [
    "# Check out uncertainties "
   ]
  },
  {
   "cell_type": "code",
   "execution_count": 48,
   "metadata": {},
   "outputs": [],
   "source": [
    "def sample_encoder(image_encoder, images, background, slen: int, wlen: int = None):\n",
    "    # return full estimate of parameters in full image.\n",
    "    # NOTE: slen*wlen is size of the image without border padding\n",
    "\n",
    "    if wlen is None:\n",
    "        wlen = slen\n",
    "    assert isinstance(slen, int) and isinstance(wlen, int)\n",
    "    # check image compatibility\n",
    "    border1 = (images.shape[-2] - slen) / 2\n",
    "    border2 = (images.shape[-1] - wlen) / 2\n",
    "    assert border1 == border2, \"border paddings on each dimension differ.\"\n",
    "    assert slen % image_encoder.tile_slen == 0, \"incompatible slen\"\n",
    "    assert wlen % image_encoder.tile_slen == 0, \"incompatible wlen\"\n",
    "    assert border1 == image_encoder.border_padding, \"incompatible border\"\n",
    "\n",
    "    # obtained estimates per tile, then on full image.\n",
    "    log_images = subtract_bg_and_log_transform(images, background)\n",
    "    log_image_ptiles = get_images_in_tiles(\n",
    "        log_images, image_encoder.tile_slen, image_encoder.ptile_slen\n",
    "    )\n",
    "    var_params = image_encoder.encode(log_image_ptiles)\n",
    "    # var_params2 = image_encoder.encode(log_image_ptiles[:, :25, :25])\n",
    "    # assert torch.allclose(var_params[0, :25, :25], var_params2, atol=1e-5)\n",
    "    tile_samples = image_encoder.sample(var_params, 5000)\n",
    "\n",
    "    return tile_samples"
   ]
  },
  {
   "cell_type": "code",
   "execution_count": 49,
   "metadata": {},
   "outputs": [],
   "source": [
    "tile_samples = sample_encoder(sleep_net.image_encoder, \n",
    "                              sdss_test_image.unsqueeze(0).to(device),\n",
    "                              dataset.background.view(1, 2, 1, 1).to(device), \n",
    "                              slen = chunk_slen)"
   ]
  },
  {
   "cell_type": "code",
   "execution_count": 50,
   "metadata": {},
   "outputs": [],
   "source": [
    "starnet_nsources = tile_samples['n_sources'].sum(-1).sum(-1).sum(-1).detach().cpu().numpy()"
   ]
  },
  {
   "cell_type": "code",
   "execution_count": 51,
   "metadata": {},
   "outputs": [
    {
     "data": {
      "text/plain": [
       "array([1453., 1520.])"
      ]
     },
     "execution_count": 51,
     "metadata": {},
     "output_type": "execute_result"
    }
   ],
   "source": [
    "np.quantile(starnet_nsources, q = [0.05, 0.95])"
   ]
  },
  {
   "cell_type": "code",
   "execution_count": 52,
   "metadata": {},
   "outputs": [
    {
     "data": {
      "text/plain": [
       "1486.7538"
      ]
     },
     "execution_count": 52,
     "metadata": {},
     "output_type": "execute_result"
    }
   ],
   "source": [
    "starnet_nsources.mean()"
   ]
  },
  {
   "cell_type": "code",
   "execution_count": null,
   "metadata": {},
   "outputs": [],
   "source": []
  },
  {
   "cell_type": "code",
   "execution_count": 56,
   "metadata": {},
   "outputs": [],
   "source": [
    "pcat_nsources = pcat_is_on_sampled.sum(-1)"
   ]
  },
  {
   "cell_type": "code",
   "execution_count": 57,
   "metadata": {},
   "outputs": [
    {
     "data": {
      "text/plain": [
       "array([1664.  , 1680.05])"
      ]
     },
     "execution_count": 57,
     "metadata": {},
     "output_type": "execute_result"
    }
   ],
   "source": [
    "np.quantile(pcat_nsources, q = [0.05, 0.95])"
   ]
  },
  {
   "cell_type": "code",
   "execution_count": 59,
   "metadata": {},
   "outputs": [
    {
     "data": {
      "text/plain": [
       "1672.2966666666666"
      ]
     },
     "execution_count": 59,
     "metadata": {},
     "output_type": "execute_result"
    }
   ],
   "source": [
    "pcat_nsources.mean()"
   ]
  },
  {
   "cell_type": "code",
   "execution_count": null,
   "metadata": {},
   "outputs": [],
   "source": []
  },
  {
   "cell_type": "code",
   "execution_count": null,
   "metadata": {},
   "outputs": [],
   "source": []
  },
  {
   "cell_type": "raw",
   "metadata": {},
   "source": [
    "TODO: the stuff below still needs fixing"
   ]
  },
  {
   "cell_type": "raw",
   "metadata": {},
   "source": [
    "from bliss.metrics import get_tpr_ppv"
   ]
  },
  {
   "cell_type": "raw",
   "metadata": {},
   "source": [
    "def get_tpr_vec(\n",
    "    true_locs, true_mags, est_locs, est_mags, mag_bins\n",
    "):\n",
    "\n",
    "    # convert to magnitude\n",
    "    tpr_vec = np.zeros(len(mag_bins) - 1)\n",
    "    counts_vec = np.zeros(len(mag_bins) - 1)\n",
    "\n",
    "    for i in range(len(mag_bins) - 1):\n",
    "        which_true = (true_mags > mag_bins[i]) & (true_mags < mag_bins[i + 1])\n",
    "        which_true = which_true.squeeze()\n",
    "        counts_vec[i] = torch.sum(which_true)\n",
    "\n",
    "        tpr_vec[i] = get_tpr_ppv(\n",
    "            true_locs[which_true],\n",
    "            true_mags[which_true],\n",
    "            est_locs,\n",
    "            est_mags,\n",
    "            slack = 0.5\n",
    "        )[0]\n",
    "\n",
    "    return tpr_vec, mag_bins, counts_vec\n",
    "\n",
    "\n",
    "def get_ppv_vec(\n",
    "    true_locs, true_mags, est_locs, est_mags, mag_bins\n",
    "):\n",
    "\n",
    "    ppv_vec = np.zeros(len(mag_bins) - 1)\n",
    "    counts_vec = np.zeros(len(mag_bins) - 1)\n",
    "\n",
    "    for i in range(len(mag_bins) - 1):\n",
    "        which_est = (est_mags > mag_bins[i]) & (est_mags < mag_bins[i + 1])\n",
    "        which_est = which_est.squeeze()\n",
    "        \n",
    "        counts_vec[i] = torch.sum(which_est)\n",
    "        \n",
    "        ppv_vec[i] = get_tpr_ppv(\n",
    "                    true_locs,\n",
    "                    true_mags,\n",
    "                    est_locs[which_est],\n",
    "                    est_mags[which_est],\n",
    "                    slack = 0.5\n",
    "                )[1]\n",
    "    \n",
    "    return ppv_vec, mag_bins, counts_vec\n"
   ]
  },
  {
   "cell_type": "raw",
   "metadata": {},
   "source": []
  },
  {
   "cell_type": "raw",
   "metadata": {},
   "source": [
    "# percentiles of the hubble magnitudes.\n",
    "percentiles = np.linspace(0, 1, 11) * 100\n",
    "mag_bins = np.percentile(hubble_mags.cpu(), percentiles)\n",
    "        \n",
    "# get tpr as function of magnitude\n",
    "tpr_vec  = \\\n",
    "    get_tpr_vec(hubble_test_catalog['locs'],\n",
    "                hubble_mags,\n",
    "                map_estimate['locs'].squeeze(0),\n",
    "                map_mags,\n",
    "                mag_bins)[0]\n",
    "\n",
    "# # get ppv as function of magnitude\n",
    "ppv_vec  = \\\n",
    "    get_ppv_vec(hubble_test_catalog['locs'],\n",
    "                hubble_mags,\n",
    "                map_estimate['locs'].squeeze(0),\n",
    "                map_mags,\n",
    "                mag_bins)[0]"
   ]
  },
  {
   "cell_type": "raw",
   "metadata": {},
   "source": [
    "fig, axarr = plt.subplots(1, 2, figsize=(15, 5))\n",
    "\n",
    "\n",
    "# plot summary statistics as function of hubble percentile\n",
    "percentiles = np.linspace(0, 1, 10 + 1) * 100\n",
    "axarr[0].plot(percentiles[:-1], tpr_vec, '-o')\n",
    "axarr[1].plot(percentiles[:-1], ppv_vec, '-o')\n",
    "\n",
    "# axis labels\n",
    "axarr[0].set_xlabel('Hubble magnitude')\n",
    "axarr[1].set_xlabel('Estimated magnitude')\n",
    "axarr[0].set_ylabel('True positive rate')\n",
    "axarr[1].set_ylabel('Positive predictive value')\n",
    "\n",
    "# replace percentiles with actual magnitudes\n",
    "for i in range(2): \n",
    "    axarr[i].set_xticks(percentiles[:-1])\n",
    "    axarr[i].set_xticklabels(np.round(mag_bins, 1)[:-1])\n"
   ]
  },
  {
   "cell_type": "raw",
   "metadata": {},
   "source": [
    "# flux distributions\n",
    "bins = plt.hist(hubble_mags.cpu().numpy(), color = 'grey', bins = 50);\n",
    "plt.hist(map_mags.cpu().numpy(), color = 'red', alpha = 0.5, bins = bins[1]);"
   ]
  },
  {
   "cell_type": "raw",
   "metadata": {},
   "source": []
  },
  {
   "cell_type": "code",
   "execution_count": null,
   "metadata": {},
   "outputs": [],
   "source": [
    "# np.savez('../../data/true_hubble_m2', \n",
    "#          sdss_image = sdss_image.cpu(), \n",
    "#          true_locs = hubble_locs.cpu(), \n",
    "#          true_fluxes = hubble_fluxes.cpu(), \n",
    "#          nelec_per_nmgy = nelec_per_nmgy)"
   ]
  },
  {
   "cell_type": "code",
   "execution_count": null,
   "metadata": {},
   "outputs": [],
   "source": []
  },
  {
   "cell_type": "code",
   "execution_count": null,
   "metadata": {},
   "outputs": [],
   "source": []
  }
 ],
 "metadata": {
  "kernelspec": {
   "display_name": "bliss_py",
   "language": "python",
   "name": "bliss_py"
  },
  "language_info": {
   "codemirror_mode": {
    "name": "ipython",
    "version": 3
   },
   "file_extension": ".py",
   "mimetype": "text/x-python",
   "name": "python",
   "nbconvert_exporter": "python",
   "pygments_lexer": "ipython3",
   "version": "3.8.5"
  }
 },
 "nbformat": 4,
 "nbformat_minor": 2
}

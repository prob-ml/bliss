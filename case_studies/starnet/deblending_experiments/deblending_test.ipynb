{
 "cells": [
  {
   "cell_type": "code",
   "execution_count": 1,
   "metadata": {},
   "outputs": [
    {
     "name": "stdout",
     "output_type": "stream",
     "text": [
      "torch version:  1.8.1+cu102\n",
      "cuda:6\n"
     ]
    }
   ],
   "source": [
    "import os\n",
    "\n",
    "import torch\n",
    "import pytorch_lightning as pl\n",
    "print('torch version: ', torch.__version__)\n",
    "cuda_no = \"cuda:6\"\n",
    "device = torch.device(cuda_no if torch.cuda.is_available() else \"cpu\")\n",
    "torch.cuda.set_device(device)\n",
    "print(device)\n",
    "\n",
    "from hydra.experimental import initialize, compose\n",
    "from hydra.utils import instantiate"
   ]
  },
  {
   "cell_type": "code",
   "execution_count": 2,
   "metadata": {},
   "outputs": [],
   "source": [
    "import numpy as np\n",
    "import time \n",
    "import matplotlib.pyplot as plt\n",
    "%matplotlib inline\n",
    "\n",
    "from einops import rearrange"
   ]
  },
  {
   "cell_type": "code",
   "execution_count": 3,
   "metadata": {},
   "outputs": [],
   "source": [
    "from bliss import sleep\n",
    "from bliss.datasets import simulated, sdss\n",
    "\n",
    "from bliss.models.location_encoder import (\n",
    "    get_full_params_from_tiles,\n",
    "    get_images_in_tiles,\n",
    "    subtract_bg_and_log_transform,\n",
    ")\n",
    "\n",
    "torch.manual_seed(45245)\n",
    "np.random.seed(3453)"
   ]
  },
  {
   "cell_type": "code",
   "execution_count": 4,
   "metadata": {},
   "outputs": [],
   "source": [
    "import sys\n",
    "sys.path.append('../starnet_utils/')\n",
    "import plotting\n"
   ]
  },
  {
   "cell_type": "code",
   "execution_count": null,
   "metadata": {},
   "outputs": [],
   "source": []
  },
  {
   "cell_type": "markdown",
   "metadata": {},
   "source": [
    "# config"
   ]
  },
  {
   "cell_type": "code",
   "execution_count": 5,
   "metadata": {},
   "outputs": [
    {
     "name": "stdout",
     "output_type": "stream",
     "text": [
      "config: \n",
      "{'mode': 'train', 'gpus': 1, 'paths': {'root': None, 'output': '${paths.root}/output', 'sdss': '${paths.root}/data/sdss', 'data': '${paths.root}/data'}, 'datasets': {'simulated_m2': {'_target_': 'bliss.datasets.simulated.SimulatedDataset', 'prior': '${models.prior}', 'decoder': '${models.decoder}', 'background': [667.0], 'n_batches': 40, 'batch_size': 64, 'generate_device': 'cuda:6', 'testing_file': None}}, 'models': {'decoder': {'_target_': 'bliss.models.decoder.ImageDecoder', 'n_bands': 1, 'tile_slen': 10, 'ptile_slen': 30, 'border_padding': 5, 'psf_params_file': '../decaps/psf/iband_psf_gauss.npy', 'sdss_bands': [2]}, 'encoder': {'_target_': 'bliss.models.location_encoder.LocationEncoder', 'n_bands': '${models.decoder.n_bands}', 'tile_slen': '${models.decoder.tile_slen}', 'ptile_slen': 20, 'max_detections': 2, 'channel': 17, 'spatial_dropout': 0.11399, 'dropout': 0.013123, 'hidden': 185}, 'prior': {'_target_': 'bliss.models.prior.ImagePrior', 'n_bands': 1, 'slen': 10, 'tile_slen': 10, 'max_sources': 2, 'min_sources': 0, 'poisson_nsources': False, 'f_min': 1000.0, 'f_max': 1000000.0, 'alpha': 0.5, 'prob_galaxy': 0.0}, 'sleep': {'_target_': 'bliss.sleep.SleepPhase', 'encoder': '${models.encoder}', 'decoder': '${models.decoder}'}}, 'training': {'model': '${models.sleep}', 'dataset': '${datasets.simulated_m2}', 'optimizer_params': {'lr': 0.00098352, 'weight_decay': 8.041e-05}, 'n_epochs': 100, 'experiment': 'default', 'version': None, 'save_top_k': 1, 'trainer': {'_target_': 'pytorch_lightning.Trainer', 'logger': False, 'enable_checkpointing': False, 'profiler': None, 'reload_dataloaders_every_epoch': False, 'check_val_every_n_epoch': 200, 'max_epochs': '${training.n_epochs}', 'min_epochs': '${training.n_epochs}', 'gpus': '${gpus}', 'log_every_n_steps': 10, 'deterministic': False}, 'weight_save_path': None}}\n"
     ]
    },
    {
     "name": "stderr",
     "output_type": "stream",
     "text": [
      "/home/runingli/anaconda3/envs/bliss_py/lib/python3.8/site-packages/hydra/experimental/initialize.py:35: UserWarning: hydra.experimental.initialize() is no longer experimental. Use hydra.initialize()\n",
      "  warnings.warn(\n",
      "/home/runingli/anaconda3/envs/bliss_py/lib/python3.8/site-packages/hydra/experimental/compose.py:16: UserWarning: hydra.experimental.compose() is no longer experimental. Use hydra.compose()\n",
      "  warnings.warn(\n"
     ]
    }
   ],
   "source": [
    "###################\n",
    "# load config parameters \n",
    "###################\n",
    "with initialize(config_path='./'):\n",
    "    cfg = compose(\"defaults\")\n",
    "    \n",
    "       \n",
    "print('config: ')\n",
    "print(cfg)\n"
   ]
  },
  {
   "cell_type": "code",
   "execution_count": null,
   "metadata": {},
   "outputs": [],
   "source": []
  },
  {
   "cell_type": "markdown",
   "metadata": {},
   "source": [
    "# Initialize"
   ]
  },
  {
   "cell_type": "code",
   "execution_count": 6,
   "metadata": {},
   "outputs": [
    {
     "name": "stderr",
     "output_type": "stream",
     "text": [
      "GPU available: True, used: True\n",
      "TPU available: False, using: 0 TPU cores\n",
      "IPU available: False, using: 0 IPUs\n"
     ]
    }
   ],
   "source": [
    "###################\n",
    "# initialize data set and model\n",
    "###################\n",
    "dataset = instantiate(cfg.training.dataset)\n",
    "sleep_net = instantiate(cfg.training.model,\n",
    "                        optimizer_params=cfg.training.optimizer_params)\n",
    "trainer = instantiate(cfg.training.trainer)"
   ]
  },
  {
   "cell_type": "code",
   "execution_count": 7,
   "metadata": {},
   "outputs": [],
   "source": [
    "sleep_net.to(cuda_no);"
   ]
  },
  {
   "cell_type": "code",
   "execution_count": null,
   "metadata": {},
   "outputs": [],
   "source": []
  },
  {
   "cell_type": "code",
   "execution_count": 8,
   "metadata": {},
   "outputs": [],
   "source": [
    "batch = dataset.get_batch()\n",
    "\n",
    "images = batch['images'].to(device)\n",
    "background = batch['background'].to(device)"
   ]
  },
  {
   "cell_type": "code",
   "execution_count": 9,
   "metadata": {},
   "outputs": [],
   "source": [
    "%matplotlib inline"
   ]
  },
  {
   "cell_type": "code",
   "execution_count": 10,
   "metadata": {},
   "outputs": [
    {
     "data": {
      "text/plain": [
       "<matplotlib.image.AxesImage at 0x7f0c3681b8e0>"
      ]
     },
     "execution_count": 10,
     "metadata": {},
     "output_type": "execute_result"
    },
    {
     "data": {
      "image/png": "[encoded data removed]",
      "text/plain": [
       "<Figure size 720x432 with 1 Axes>"
      ]
     },
     "metadata": {
      "needs_background": "light"
     },
     "output_type": "display_data"
    }
   ],
   "source": [
    "f, ax = plt.subplots(1, 1, figsize=(10, 6))\n",
    "\n",
    "batch = dataset.get_batch()\n",
    "\n",
    "plotting.plot_image(ax,\n",
    "                    batch['images'][0, 0].cpu())"
   ]
  },
  {
   "cell_type": "code",
   "execution_count": null,
   "metadata": {},
   "outputs": [],
   "source": []
  },
  {
   "cell_type": "code",
   "execution_count": null,
   "metadata": {},
   "outputs": [],
   "source": []
  },
  {
   "cell_type": "markdown",
   "metadata": {},
   "source": [
    "# Train"
   ]
  },
  {
   "cell_type": "code",
   "execution_count": 11,
   "metadata": {},
   "outputs": [
    {
     "name": "stderr",
     "output_type": "stream",
     "text": [
      "LOCAL_RANK: 0 - CUDA_VISIBLE_DEVICES: [0,1,2,3,4,5,6,7]\n",
      "\n",
      "  | Name                   | Type             | Params\n",
      "------------------------------------------------------------\n",
      "0 | image_encoder          | LocationEncoder  | 660 K \n",
      "1 | image_decoder          | ImageDecoder     | 6     \n",
      "2 | val_detection_metrics  | DetectionMetrics | 0     \n",
      "3 | test_detection_metrics | DetectionMetrics | 0     \n",
      "------------------------------------------------------------\n",
      "660 K     Trainable params\n",
      "6         Non-trainable params\n",
      "661 K     Total params\n",
      "2.644     Total estimated model params size (MB)\n"
     ]
    },
    {
     "data": {
      "application/vnd.jupyter.widget-view+json": {
       "model_id": "",
       "version_major": 2,
       "version_minor": 0
      },
      "text/plain": [
       "Validation sanity check: 0it [00:00, ?it/s]"
      ]
     },
     "metadata": {},
     "output_type": "display_data"
    },
    {
     "data": {
      "application/vnd.jupyter.widget-view+json": {
       "model_id": "5e9ae31f5d2f4685b669a2e5a239d8af",
       "version_major": 2,
       "version_minor": 0
      },
      "text/plain": [
       "Training: 0it [00:00, ?it/s]"
      ]
     },
     "metadata": {},
     "output_type": "display_data"
    }
   ],
   "source": [
    "trainer.fit(sleep_net, datamodule = dataset)"
   ]
  },
  {
   "cell_type": "code",
   "execution_count": 12,
   "metadata": {},
   "outputs": [],
   "source": [
    "sleep_net.to(cuda_no);"
   ]
  },
  {
   "cell_type": "code",
   "execution_count": null,
   "metadata": {},
   "outputs": [],
   "source": []
  },
  {
   "cell_type": "markdown",
   "metadata": {},
   "source": [
    "# Test out a few images"
   ]
  },
  {
   "cell_type": "code",
   "execution_count": 13,
   "metadata": {},
   "outputs": [],
   "source": [
    "def get_map_estimate(image_encoder, images, background, slen: int, wlen: int = None):\n",
    "    # return full estimate of parameters in full image.\n",
    "    # NOTE: slen*wlen is size of the image without border padding\n",
    "\n",
    "    if wlen is None:\n",
    "        wlen = slen\n",
    "    assert isinstance(slen, int) and isinstance(wlen, int)\n",
    "    # check image compatibility\n",
    "    border1 = (images.shape[-2] - slen) / 2\n",
    "    border2 = (images.shape[-1] - wlen) / 2\n",
    "    assert border1 == border2, \"border paddings on each dimension differ.\"\n",
    "    assert slen % image_encoder.tile_slen == 0, \"incompatible slen\"\n",
    "    assert wlen % image_encoder.tile_slen == 0, \"incompatible wlen\"\n",
    "    assert border1 == image_encoder.border_padding, \"incompatible border\"\n",
    "\n",
    "    # obtained estimates per tile, then on full image.\n",
    "    log_images = subtract_bg_and_log_transform(images, background)\n",
    "    log_image_ptiles = get_images_in_tiles(\n",
    "        log_images, image_encoder.tile_slen, image_encoder.ptile_slen\n",
    "    )\n",
    "    var_params = image_encoder.encode(log_image_ptiles)\n",
    "    tile_map = image_encoder.max_a_post(var_params)\n",
    "    \n",
    "    map_estimate = get_full_params_from_tiles(tile_map, image_encoder.tile_slen)\n",
    "    \n",
    "    var_params_flat = rearrange(var_params, \"b nth ntw d -> (b nth ntw) d\")\n",
    "    var_params = image_encoder.encode_for_n_sources(var_params_flat, \n",
    "                                                    map_estimate['n_sources'].squeeze().unsqueeze(0))\n",
    "    \n",
    "    return map_estimate, var_params"
   ]
  },
  {
   "cell_type": "code",
   "execution_count": 14,
   "metadata": {},
   "outputs": [],
   "source": [
    "sleep_net.train();\n",
    "\n",
    "for i in range(20): \n",
    "    batch = dataset.get_batch()\n",
    "    \n",
    "    _ = get_map_estimate(sleep_net.image_encoder,\n",
    "                         batch['images'].to(device),\n",
    "                         dataset.background.view(1, 1, 1, 1).to(device), \n",
    "                         slen = 10)\n",
    "    "
   ]
  },
  {
   "cell_type": "code",
   "execution_count": 15,
   "metadata": {},
   "outputs": [],
   "source": [
    "sleep_net.image_encoder.eval(); "
   ]
  },
  {
   "cell_type": "code",
   "execution_count": null,
   "metadata": {},
   "outputs": [],
   "source": []
  },
  {
   "cell_type": "code",
   "execution_count": null,
   "metadata": {},
   "outputs": [],
   "source": []
  },
  {
   "cell_type": "code",
   "execution_count": null,
   "metadata": {},
   "outputs": [],
   "source": []
  },
  {
   "cell_type": "code",
   "execution_count": 16,
   "metadata": {},
   "outputs": [],
   "source": [
    "batch = dataset.get_batch()\n",
    "tmp = batch['images'].to(device)\n",
    "map_est_sleep, _ = get_map_estimate(sleep_net.image_encoder,\n",
    "                                 tmp,\n",
    "                                 dataset.background.view(1, 1, 1, 1).to(device), \n",
    "                                 slen = 10)"
   ]
  },
  {
   "cell_type": "code",
   "execution_count": 17,
   "metadata": {},
   "outputs": [
    {
     "data": {
      "text/plain": [
       "tensor(0.9375, device='cuda:6')"
      ]
     },
     "execution_count": 17,
     "metadata": {},
     "output_type": "execute_result"
    }
   ],
   "source": [
    "(batch['n_sources'].squeeze() == map_est_sleep['n_sources'].squeeze()).float().mean()"
   ]
  },
  {
   "cell_type": "raw",
   "metadata": {},
   "source": [
    "torch.where(batch['n_sources'].squeeze() != map_est_sleep['n_sources'].squeeze())"
   ]
  },
  {
   "cell_type": "raw",
   "metadata": {},
   "source": [
    "%matplotlib inline"
   ]
  },
  {
   "cell_type": "raw",
   "metadata": {},
   "source": [
    "indx = 15"
   ]
  },
  {
   "cell_type": "raw",
   "metadata": {},
   "source": [
    "batch['n_sources'][indx]"
   ]
  },
  {
   "cell_type": "raw",
   "metadata": {},
   "source": [
    "map_est_sleep['n_sources'][indx]"
   ]
  },
  {
   "cell_type": "raw",
   "metadata": {},
   "source": [
    "plt.matshow(batch['images'][indx, 0, :, :].cpu())"
   ]
  },
  {
   "cell_type": "code",
   "execution_count": null,
   "metadata": {},
   "outputs": [],
   "source": []
  },
  {
   "cell_type": "code",
   "execution_count": null,
   "metadata": {},
   "outputs": [],
   "source": []
  },
  {
   "cell_type": "markdown",
   "metadata": {},
   "source": [
    "# Deblending experiment"
   ]
  },
  {
   "cell_type": "code",
   "execution_count": 20,
   "metadata": {},
   "outputs": [],
   "source": [
    "def get_e_nsources(var_params): \n",
    "    probs = var_params['n_source_log_probs'].exp()\n",
    "    e_nsources = probs[:, 1] + 2 * probs[:, 2]\n",
    "    return(e_nsources)"
   ]
  },
  {
   "cell_type": "code",
   "execution_count": 21,
   "metadata": {},
   "outputs": [],
   "source": [
    "def deblend_at_delta(delta): \n",
    "    dataset.batch_size = 400\n",
    "    batch = dataset.get_batch()\n",
    "    \n",
    "    n_sources = batch['n_sources'] * 0 + 2\n",
    "    # fluxes = dataset.image_prior._draw_pareto_maxed(batch[\"fluxes\"].shape)\n",
    "    fluxes = batch['fluxes'] * 0 + 5000\n",
    "    \n",
    "    locs = batch['locs']\n",
    "    locs[:, :, :, 0, :] = 0.5 - delta\n",
    "    locs[:, :, :, 1, :] = 0.5 + delta\n",
    "    \n",
    "    images = dataset.image_decoder.render_images(\n",
    "                n_sources,\n",
    "                locs,\n",
    "                batch[\"galaxy_bools\"],\n",
    "                batch[\"galaxy_params\"],\n",
    "                fluxes\n",
    "            )\n",
    "\n",
    "\n",
    "    background = dataset.make_background(*images.shape)\n",
    "    images += background\n",
    "    images = dataset._apply_noise(images)\n",
    "    \n",
    "    map_est_sleep, var_params = get_map_estimate(sleep_net.image_encoder,\n",
    "                                                 images,\n",
    "                                                 dataset.background.view(1, 1, 1, 1).to(device), \n",
    "                                                 slen = 10)\n",
    "    \n",
    "    example_image = images[0, 0]\n",
    "    true_locs = locs[0, 0]\n",
    "    \n",
    "    est_locs = map_est_sleep['locs'][0]\n",
    "    est_prob2 = (map_est_sleep['n_sources'] == 2).float().mean()\n",
    "    est_e_nsources = get_e_nsources(var_params).mean()\n",
    "    \n",
    "    return est_prob2, est_locs, true_locs, example_image, est_e_nsources"
   ]
  },
  {
   "cell_type": "code",
   "execution_count": 22,
   "metadata": {},
   "outputs": [
    {
     "data": {
      "text/plain": [
       "array([0.   , 0.005, 0.01 , 0.015, 0.02 , 0.025, 0.03 , 0.035, 0.04 ,\n",
       "       0.045, 0.05 , 0.055, 0.06 , 0.065, 0.07 , 0.075, 0.08 , 0.085,\n",
       "       0.09 , 0.095, 0.1  , 0.105, 0.11 , 0.115, 0.12 , 0.125, 0.13 ,\n",
       "       0.135, 0.14 , 0.145, 0.15 ])"
      ]
     },
     "execution_count": 22,
     "metadata": {},
     "output_type": "execute_result"
    }
   ],
   "source": [
    "delta_vec = np.linspace(0, 0.15, 31)\n",
    "delta_vec"
   ]
  },
  {
   "cell_type": "code",
   "execution_count": 23,
   "metadata": {},
   "outputs": [
    {
     "name": "stdout",
     "output_type": "stream",
     "text": [
      "tensor([0.0250, 0.0325, 0.0350, 0.0400, 0.0275, 0.0550, 0.0525, 0.0600, 0.0450,\n",
      "        0.0775, 0.0825, 0.1725, 0.4075, 0.6150, 0.8525, 0.9475, 0.9850, 0.9975,\n",
      "        1.0000, 1.0000, 1.0000, 1.0000, 1.0000, 1.0000, 1.0000, 1.0000, 1.0000,\n",
      "        1.0000, 1.0000, 1.0000, 1.0000])\n"
     ]
    }
   ],
   "source": [
    "example_images = torch.zeros(len(delta_vec), 20, 20)\n",
    "\n",
    "true_locs = torch.zeros(len(delta_vec), 2, 2)\n",
    "est_locs = torch.zeros(len(delta_vec), 2, 2)\n",
    "\n",
    "est_probs2 = torch.zeros(len(delta_vec))\n",
    "e_nsources = torch.zeros(len(delta_vec))\n",
    "\n",
    "for i in range(len(delta_vec)): \n",
    "    \n",
    "    out = deblend_at_delta(delta_vec[i])\n",
    "\n",
    "    est_probs2[i] = out[0]\n",
    "    est_locs[i] = out[1]\n",
    "\n",
    "    true_locs[i] = out[2]\n",
    "    example_images[i] = out[3]\n",
    "    e_nsources[i] = out[4]\n",
    "\n",
    "print(est_probs2)"
   ]
  },
  {
   "cell_type": "code",
   "execution_count": 24,
   "metadata": {},
   "outputs": [],
   "source": [
    "axis_label_size = 20\n",
    "ticksize = 12\n",
    "legendsize = 12\n",
    "markersize = 10\n",
    "linewidth = 2\n",
    "titlesize = 18"
   ]
  },
  {
   "cell_type": "code",
   "execution_count": 31,
   "metadata": {},
   "outputs": [
    {
     "data": {
      "image/png": "[encoded data removed]",
      "text/plain": [
       "<Figure size 864x288 with 2 Axes>"
      ]
     },
     "metadata": {
      "needs_background": "light"
     },
     "output_type": "display_data"
    }
   ],
   "source": [
    "fig, axarr = plt.subplots(1, 2, figsize=(12, 4))\n",
    "\n",
    "x = delta_vec * sleep_net.image_encoder.tile_slen * 2\n",
    "axarr[0].plot(x,\n",
    "              est_probs2, \n",
    "              marker = 'o')\n",
    "\n",
    "axarr[0].set_ylabel('P(N = 2)', fontsize = axis_label_size)\n",
    "axarr[0].set_xlabel('delta', fontsize = axis_label_size)\n",
    "\n",
    "\n",
    "axarr[1].plot(x,\n",
    "              e_nsources.detach().numpy(), \n",
    "              marker = 'o')\n",
    "\n",
    "axarr[1].set_ylabel('E(N)', fontsize = axis_label_size)\n",
    "axarr[1].set_xlabel('delta', fontsize = axis_label_size)\n",
    "\n",
    "fig.tight_layout()\n",
    "\n",
    "fig.savefig('../figures/deblending/summary_statistics.png')\n"
   ]
  },
  {
   "cell_type": "code",
   "execution_count": null,
   "metadata": {},
   "outputs": [],
   "source": []
  },
  {
   "cell_type": "code",
   "execution_count": 28,
   "metadata": {},
   "outputs": [],
   "source": [
    "delta_vec_to_plot = [0.04, 0.05, 0.06, 0.07]"
   ]
  },
  {
   "cell_type": "code",
   "execution_count": 32,
   "metadata": {},
   "outputs": [
    {
     "data": {
      "image/png": "[encoded data removed]",
      "text/plain": [
       "<Figure size 864x288 with 4 Axes>"
      ]
     },
     "metadata": {},
     "output_type": "display_data"
    }
   ],
   "source": [
    "fig, axarr = plt.subplots(1, 4, figsize=(12, 4))\n",
    "\n",
    "for i in range(len(delta_vec_to_plot)): \n",
    "    \n",
    "    indx = np.argwhere(delta_vec == delta_vec_to_plot[i])[0, 0]\n",
    "    \n",
    "    ax = axarr[i]\n",
    "    plotting.plot_image(ax, example_images[indx])\n",
    "    ax.scatter(\n",
    "        true_locs[indx, :, 1] * 10 + 5 - 0.5,\n",
    "        true_locs[indx, :, 0] * 10 + 5 - 0.5,\n",
    "        color = 'blue', \n",
    "        s = 8\n",
    "    )\n",
    "    \n",
    "    est_locs_i = est_locs[indx, :, :].detach().numpy()\n",
    "    is_on = est_locs_i[:, 0] != 0\n",
    "    \n",
    "    ax.scatter(\n",
    "        est_locs_i[is_on, 1] * 10 + 5 - 0.5,\n",
    "        est_locs_i[is_on, 0] * 10 + 5 - 0.5,\n",
    "        color = 'red',\n",
    "        marker = 'x',\n",
    "    )\n",
    "    \n",
    "    ax.set_xticks([])\n",
    "    ax.set_yticks([])\n",
    "    \n",
    "    ax.set_title('delta = {:.2f};'.format(delta_vec[indx] * 10 * 2))\n",
    "    \n",
    "    \n",
    "fig.tight_layout()\n",
    "\n",
    "fig.savefig('../figures/deblending/example_deblending.png')"
   ]
  },
  {
   "cell_type": "code",
   "execution_count": null,
   "metadata": {},
   "outputs": [],
   "source": []
  },
  {
   "cell_type": "code",
   "execution_count": null,
   "metadata": {},
   "outputs": [],
   "source": []
  },
  {
   "cell_type": "code",
   "execution_count": null,
   "metadata": {},
   "outputs": [],
   "source": []
  },
  {
   "cell_type": "code",
   "execution_count": null,
   "metadata": {},
   "outputs": [],
   "source": []
  },
  {
   "cell_type": "raw",
   "metadata": {},
   "source": []
  },
  {
   "cell_type": "raw",
   "metadata": {},
   "source": []
  },
  {
   "cell_type": "raw",
   "metadata": {},
   "source": []
  },
  {
   "cell_type": "raw",
   "metadata": {},
   "source": [
    "def ex_image_at_delta(delta): \n",
    "    dataset.batch_size = 2\n",
    "    batch = dataset.get_batch()\n",
    "    \n",
    "    n_sources = batch['n_sources'] * 0 + 2\n",
    "    fluxes = batch['fluxes'] * 0 + 5000\n",
    "    \n",
    "    locs = batch['locs']\n",
    "    locs[:, :, :, 0, :] = 0.5 - delta\n",
    "    locs[:, :, :, 1, :] = 0.5 + delta\n",
    "    \n",
    "    images = dataset.image_decoder.render_images(\n",
    "                n_sources,\n",
    "                locs,\n",
    "                batch[\"galaxy_bools\"],\n",
    "                batch[\"galaxy_params\"],\n",
    "                fluxes\n",
    "            )\n",
    "\n",
    "\n",
    "    background = dataset.make_background(*images.shape)\n",
    "    images += background\n",
    "    images = dataset._apply_noise(images)\n",
    "        \n",
    "    return images, locs"
   ]
  },
  {
   "cell_type": "raw",
   "metadata": {},
   "source": [
    "example_images = torch.zeros(len(delta_vec), 20, 20)\n",
    "locs = torch.zeros(len(delta_vec), 2, 2)\n",
    "\n",
    "\n",
    "for i in range(len(delta_vec)): \n",
    "    \n",
    "    image_i, locs_i = ex_image_at_delta(delta_vec[i])\n",
    "    \n",
    "    example_images[i] = image_i[0, 0, :, :]\n",
    "    locs[i] = locs_i[0, 0]"
   ]
  },
  {
   "cell_type": "raw",
   "metadata": {},
   "source": [
    "fig, axarr = plt.subplots(2, 6, figsize=(24, 8))\n",
    "\n",
    "for i in range(len(delta_vec)): \n",
    "        \n",
    "    ax = axarr[i // 6, i % 6]\n",
    "    plotting.plot_image(ax, example_images[i])\n",
    "    ax.scatter(\n",
    "        locs[i, :, 1] * 10 + 5 - 0.5,\n",
    "        locs[i, :, 0] * 10 + 5 - 0.5,\n",
    "        color = 'blue', \n",
    "        s = 8\n",
    "    )\n",
    "    \n",
    "#     ax.set_title('delta = {:.2f}; prob(2) = {:.2f}'.format(delta_vec[i], \n",
    "#                                                            probs2.numpy()[i]))"
   ]
  },
  {
   "cell_type": "raw",
   "metadata": {},
   "source": []
  },
  {
   "cell_type": "raw",
   "metadata": {},
   "source": []
  },
  {
   "cell_type": "raw",
   "metadata": {},
   "source": [
    "plotting.plot_locations"
   ]
  },
  {
   "cell_type": "raw",
   "metadata": {},
   "source": []
  },
  {
   "cell_type": "raw",
   "metadata": {},
   "source": []
  },
  {
   "cell_type": "raw",
   "metadata": {},
   "source": []
  },
  {
   "cell_type": "raw",
   "metadata": {},
   "source": []
  },
  {
   "cell_type": "raw",
   "metadata": {},
   "source": []
  },
  {
   "cell_type": "raw",
   "metadata": {},
   "source": []
  },
  {
   "cell_type": "raw",
   "metadata": {},
   "source": []
  },
  {
   "cell_type": "raw",
   "metadata": {},
   "source": []
  },
  {
   "cell_type": "raw",
   "metadata": {},
   "source": []
  },
  {
   "cell_type": "raw",
   "metadata": {},
   "source": []
  },
  {
   "cell_type": "raw",
   "metadata": {},
   "source": [
    "locs.shape"
   ]
  },
  {
   "cell_type": "raw",
   "metadata": {},
   "source": [
    "delta = 0.0\n",
    "locs[:, :, :, 0, :] = 0.5 - delta\n",
    "locs[:, :, :, 1, :] = 0.5 + delta"
   ]
  },
  {
   "cell_type": "raw",
   "metadata": {},
   "source": [
    "images = dataset.image_decoder.render_images(\n",
    "                n_sources,\n",
    "                locs,\n",
    "                batch[\"galaxy_bools\"],\n",
    "                batch[\"galaxy_params\"],\n",
    "                fluxes\n",
    "            )\n",
    "\n",
    "\n",
    "background = dataset.make_background(*images.shape)\n",
    "images += background\n",
    "images = dataset._apply_noise(images)"
   ]
  },
  {
   "cell_type": "raw",
   "metadata": {},
   "source": [
    "plt.matshow(images[15, 0, :, :].cpu())"
   ]
  },
  {
   "cell_type": "raw",
   "metadata": {},
   "source": [
    "(map_est_sleep['n_sources'] == 2).float().mean()"
   ]
  },
  {
   "cell_type": "raw",
   "metadata": {},
   "source": []
  },
  {
   "cell_type": "raw",
   "metadata": {},
   "source": []
  },
  {
   "cell_type": "raw",
   "metadata": {},
   "source": [
    "def get_var_params(image_encoder, images, background, slen: int, wlen: int = None):\n",
    "    # return full estimate of parameters in full image.\n",
    "    # NOTE: slen*wlen is size of the image without border padding\n",
    "\n",
    "    if wlen is None:\n",
    "        wlen = slen\n",
    "    assert isinstance(slen, int) and isinstance(wlen, int)\n",
    "    # check image compatibility\n",
    "    border1 = (images.shape[-2] - slen) / 2\n",
    "    border2 = (images.shape[-1] - wlen) / 2\n",
    "    assert border1 == border2, \"border paddings on each dimension differ.\"\n",
    "    assert slen % image_encoder.tile_slen == 0, \"incompatible slen\"\n",
    "    assert wlen % image_encoder.tile_slen == 0, \"incompatible wlen\"\n",
    "    assert border1 == image_encoder.border_padding, \"incompatible border\"\n",
    "\n",
    "    # obtained estimates per tile, then on full image.\n",
    "    log_images = subtract_bg_and_log_transform(images, background)\n",
    "    log_image_ptiles = get_images_in_tiles(\n",
    "        log_images, image_encoder.tile_slen, image_encoder.ptile_slen\n",
    "    )\n",
    "    var_params = image_encoder.encode(log_image_ptiles)\n",
    "    var_params_flat = rearrange(var_params, \"b nth ntw d -> (b nth ntw) d\")\n",
    "    \n",
    "    print(var_params_flat.shape)\n",
    "    print(batch['n_sources'].shape)\n",
    "    \n",
    "    pred = image_encoder.encode_for_n_sources(var_params_flat, batch['n_sources'].squeeze().unsqueeze(0))\n",
    "    \n",
    "    return(pred)"
   ]
  },
  {
   "cell_type": "raw",
   "metadata": {},
   "source": [
    "pred['n_source_log_probs'].exp()[:, 2].mean()"
   ]
  },
  {
   "cell_type": "raw",
   "metadata": {},
   "source": []
  },
  {
   "cell_type": "raw",
   "metadata": {},
   "source": []
  },
  {
   "cell_type": "raw",
   "metadata": {},
   "source": []
  },
  {
   "cell_type": "raw",
   "metadata": {},
   "source": []
  },
  {
   "cell_type": "raw",
   "metadata": {},
   "source": []
  },
  {
   "cell_type": "raw",
   "metadata": {},
   "source": [
    "batch['n_sources'].shape"
   ]
  },
  {
   "cell_type": "raw",
   "metadata": {},
   "source": []
  },
  {
   "cell_type": "raw",
   "metadata": {},
   "source": []
  },
  {
   "cell_type": "raw",
   "metadata": {},
   "source": []
  },
  {
   "cell_type": "raw",
   "metadata": {},
   "source": []
  }
 ],
 "metadata": {
  "kernelspec": {
   "display_name": "bliss_py",
   "language": "python",
   "name": "bliss_py"
  },
  "language_info": {
   "codemirror_mode": {
    "name": "ipython",
    "version": 3
   },
   "file_extension": ".py",
   "mimetype": "text/x-python",
   "name": "python",
   "nbconvert_exporter": "python",
   "pygments_lexer": "ipython3",
   "version": "3.8.5"
  }
 },
 "nbformat": 4,
 "nbformat_minor": 2
}

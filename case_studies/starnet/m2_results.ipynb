{
 "cells": [
  {
   "cell_type": "code",
   "execution_count": 1,
   "metadata": {},
   "outputs": [
    {
     "name": "stdout",
     "output_type": "stream",
     "text": [
      "1.7.1\n",
      "cuda:0\n"
     ]
    }
   ],
   "source": [
    "import torch\n",
    "import pytorch_lightning as pl\n",
    "\n",
    "device = torch.device(\"cuda:0\" if torch.cuda.is_available() else \"cpu\")\n",
    "torch.cuda.set_device(device)\n",
    "\n",
    "from hydra.experimental import initialize, compose\n",
    "\n",
    "import numpy as np\n",
    "import time \n",
    "from copy import deepcopy\n",
    "\n",
    "import matplotlib.pyplot as plt\n",
    "%matplotlib inline\n",
    "\n",
    "torch.manual_seed(184)\n",
    "np.random.seed(143)\n",
    "\n",
    "print(torch.__version__)\n",
    "print(device)"
   ]
  },
  {
   "cell_type": "code",
   "execution_count": 2,
   "metadata": {},
   "outputs": [],
   "source": [
    "from bliss import sleep"
   ]
  },
  {
   "cell_type": "code",
   "execution_count": 3,
   "metadata": {},
   "outputs": [],
   "source": [
    "import sys\n",
    "sys.path.append('./starnet_utils/')\n",
    "import m2_data\n",
    "import plotting\n",
    "import starnet_metrics\n",
    "import daophot_utils\n",
    "import utils"
   ]
  },
  {
   "cell_type": "code",
   "execution_count": 4,
   "metadata": {},
   "outputs": [],
   "source": [
    "%matplotlib inline"
   ]
  },
  {
   "cell_type": "code",
   "execution_count": null,
   "metadata": {},
   "outputs": [],
   "source": []
  },
  {
   "cell_type": "markdown",
   "metadata": {},
   "source": [
    "# Load configs and starnet model"
   ]
  },
  {
   "cell_type": "code",
   "execution_count": 5,
   "metadata": {},
   "outputs": [],
   "source": [
    "overrides = dict(\n",
    "    model=\"sleep_m2\",\n",
    "    dataset=\"m2\",\n",
    "    training=\"m2\",\n",
    "    optimizer=\"m2\"\n",
    ")\n",
    "\n",
    "overrides = [f\"{key}={value}\" for key, value in overrides.items()]"
   ]
  },
  {
   "cell_type": "code",
   "execution_count": 6,
   "metadata": {},
   "outputs": [
    {
     "name": "stderr",
     "output_type": "stream",
     "text": [
      "/home/runingli/anaconda3/envs/bliss_py/lib/python3.8/site-packages/hydra/experimental/initialize.py:35: UserWarning: hydra.experimental.initialize() is no longer experimental. Use hydra.initialize()\n",
      "  warnings.warn(\n",
      "/home/runingli/anaconda3/envs/bliss_py/lib/python3.8/site-packages/hydra/experimental/compose.py:16: UserWarning: hydra.experimental.compose() is no longer experimental. Use hydra.compose()\n",
      "  warnings.warn(\n"
     ]
    }
   ],
   "source": [
    "with initialize(config_path=\"../../config\"):\n",
    "    cfg = compose(\"config\", overrides=overrides)"
   ]
  },
  {
   "cell_type": "code",
   "execution_count": 7,
   "metadata": {
    "scrolled": true
   },
   "outputs": [],
   "source": [
    "model_filename = './fits/starnet'\n",
    "\n",
    "sleep_net = sleep.SleepPhase(**cfg.model.kwargs)\n",
    "sleep_net.image_encoder.load_state_dict(torch.load(model_filename)); "
   ]
  },
  {
   "cell_type": "code",
   "execution_count": 8,
   "metadata": {},
   "outputs": [],
   "source": [
    "sleep_net.image_encoder.to(device);\n",
    "sleep_net.image_encoder.eval(); "
   ]
  },
  {
   "cell_type": "code",
   "execution_count": 9,
   "metadata": {},
   "outputs": [],
   "source": [
    "border_padding = sleep_net.image_encoder.border_padding"
   ]
  },
  {
   "cell_type": "code",
   "execution_count": null,
   "metadata": {},
   "outputs": [],
   "source": []
  },
  {
   "cell_type": "markdown",
   "metadata": {},
   "source": [
    "# Load m2 data"
   ]
  },
  {
   "cell_type": "code",
   "execution_count": 10,
   "metadata": {},
   "outputs": [
    {
     "name": "stdout",
     "output_type": "stream",
     "text": [
      "loading sdss image from ../../data/sdss/2583/2/136/frame-r-002583-2-0136.fits\n",
      "loading sdss image from ../../data/sdss/2583/2/136/frame-i-002583-2-0136.fits\n",
      "loading hubble data from  ./hubble_data/hlsp_acsggct_hst_acs-wfc_ngc7089_r.rdviq.cal.adj.zpt\n",
      "getting sdss coordinates from:  ../../data/sdss/2583/2/136/frame-r-002583-2-0136.fits\n",
      "\n",
      " aligning images. \n",
      " Getting sdss coordinates from:  ../../data/sdss/2583/2/136/frame-i-002583-2-0136.fits\n"
     ]
    },
    {
     "name": "stderr",
     "output_type": "stream",
     "text": [
      "WARNING: FITSFixedWarning: RADECSYS= 'ICRS ' / International Celestial Ref. System \n",
      "the RADECSYS keyword is deprecated, use RADESYSa. [astropy.wcs.wcs]\n"
     ]
    }
   ],
   "source": [
    "run = 2583\n",
    "camcol = 2\n",
    "field = 136\n",
    "\n",
    "sdss_frame, hubble_catalog, sdss_background, sdss_data, wcs = \\\n",
    "    m2_data.load_m2_data()"
   ]
  },
  {
   "cell_type": "code",
   "execution_count": 17,
   "metadata": {},
   "outputs": [
    {
     "data": {
      "text/plain": [
       "torch.Size([94296, 2])"
      ]
     },
     "execution_count": 17,
     "metadata": {},
     "output_type": "execute_result"
    }
   ],
   "source": [
    "hubble_catalog['locs'].shape"
   ]
  },
  {
   "cell_type": "code",
   "execution_count": null,
   "metadata": {},
   "outputs": [],
   "source": []
  },
  {
   "cell_type": "code",
   "execution_count": 11,
   "metadata": {},
   "outputs": [],
   "source": [
    "nelec_per_nmgy = sdss_data[0]['nelec_per_nmgy'][0].mean()"
   ]
  },
  {
   "cell_type": "code",
   "execution_count": 12,
   "metadata": {},
   "outputs": [],
   "source": [
    "# filter by bright stars \n",
    "fmin = 1000.\n",
    "hubble_catalog = plotting.filter_catalog(hubble_catalog,\n",
    "                                         hubble_catalog['fluxes'][:, 0] > fmin)"
   ]
  },
  {
   "cell_type": "code",
   "execution_count": null,
   "metadata": {},
   "outputs": [],
   "source": []
  },
  {
   "cell_type": "markdown",
   "metadata": {},
   "source": [
    "### restrict to the chunk containing m2"
   ]
  },
  {
   "cell_type": "code",
   "execution_count": 13,
   "metadata": {},
   "outputs": [],
   "source": [
    "x0 = 680\n",
    "x1 = sleep_net.image_encoder.border_padding\n",
    "chunk_slen = 500"
   ]
  },
  {
   "cell_type": "code",
   "execution_count": 14,
   "metadata": {},
   "outputs": [
    {
     "data": {
      "text/plain": [
       "<matplotlib.colorbar.Colorbar at 0x7ff88c66dcd0>"
      ]
     },
     "execution_count": 14,
     "metadata": {},
     "output_type": "execute_result"
    },
    {
     "data": {
      "image/png": "[encoded data removed]",
      "text/plain": [
       "<Figure size 720x432 with 2 Axes>"
      ]
     },
     "metadata": {
      "needs_background": "light"
     },
     "output_type": "display_data"
    }
   ],
   "source": [
    "f, ax = plt.subplots(1, 1, figsize=(10, 6))\n",
    "\n",
    "\n",
    "plotting.plot_locations(\n",
    "        hubble_catalog['locs'], \n",
    "        ax,\n",
    "        marker='.',\n",
    "        color='b', \n",
    "        alpha = 0.01\n",
    "    )\n",
    "\n",
    "im = plotting.plot_image(ax, \n",
    "                         sdss_frame[0])\n",
    "\n",
    "ax.hlines(x0, xmin = x1, xmax = x1 + chunk_slen, color = 'red')\n",
    "ax.hlines(x0 + chunk_slen, xmin = x1, xmax = x1 + chunk_slen, color = 'red')\n",
    "\n",
    "ax.vlines(x1, ymin = x0, ymax = x0 + chunk_slen, color = 'red')\n",
    "ax.vlines(x1 + chunk_slen, ymin = x0, ymax = x0 + chunk_slen, color = 'red')\n",
    "\n",
    "f.colorbar(im, ax = ax)"
   ]
  },
  {
   "cell_type": "code",
   "execution_count": 15,
   "metadata": {},
   "outputs": [],
   "source": [
    "_daophot_locs, _daophot_fluxes = daophot_utils.load_daophot_results('./daophot_data/m2_2583.phot', \n",
    "                                                                    nelec_per_nmgy, \n",
    "                                                                    wcs, \n",
    "                                                                    slen = 100,\n",
    "                                                                    x0 = 630,\n",
    "                                                                    x1 = 310)"
   ]
  },
  {
   "cell_type": "code",
   "execution_count": 23,
   "metadata": {},
   "outputs": [
    {
     "name": "stdout",
     "output_type": "stream",
     "text": [
      "torch.Size([55, 2])\n",
      "torch.Size([4162, 2])\n"
     ]
    },
    {
     "data": {
      "text/plain": [
       "(tensor([[630.1224, 360.7388],\n",
       "         [630.1301, 386.8543],\n",
       "         [631.0505, 375.7857],\n",
       "         [631.2759, 311.8496],\n",
       "         [631.3533, 380.1118],\n",
       "         [631.5410, 347.8495],\n",
       "         [631.6792, 342.9631],\n",
       "         [632.0378, 388.5859],\n",
       "         [632.1899, 408.0113],\n",
       "         [632.2712, 362.7275],\n",
       "         [632.6135, 319.5513],\n",
       "         [632.8585, 373.3003],\n",
       "         [633.1214, 339.0511],\n",
       "         [633.2029, 328.5181],\n",
       "         [633.5769, 385.6244],\n",
       "         [633.7266, 332.3122],\n",
       "         [634.6197, 349.3533],\n",
       "         [635.0134, 318.5272],\n",
       "         [635.1140, 404.5029],\n",
       "         [635.1343, 336.4156],\n",
       "         [635.6761, 320.7971],\n",
       "         [637.0719, 342.1845],\n",
       "         [637.5000, 359.0363],\n",
       "         [637.8015, 312.0885],\n",
       "         [637.8768, 402.7539],\n",
       "         [637.9990, 397.6508],\n",
       "         [639.0437, 362.3834],\n",
       "         [639.1099, 377.2131],\n",
       "         [639.2822, 372.6070],\n",
       "         [639.3041, 316.1941],\n",
       "         [639.5184, 348.0435],\n",
       "         [639.7081, 335.7900],\n",
       "         [639.8208, 398.3722],\n",
       "         [640.2368, 359.1736],\n",
       "         [640.3382, 314.1626],\n",
       "         [640.5163, 330.8887],\n",
       "         [640.5693, 388.8231],\n",
       "         [640.7773, 408.6586],\n",
       "         [641.3174, 345.0149],\n",
       "         [641.4545, 383.5050],\n",
       "         [641.7418, 319.8105],\n",
       "         [641.7592, 369.3205],\n",
       "         [642.0161, 332.1683],\n",
       "         [642.3256, 323.3987],\n",
       "         [642.8420, 314.4030],\n",
       "         [642.8503, 404.4930],\n",
       "         [642.9214, 381.8987],\n",
       "         [642.9884, 342.9315],\n",
       "         [643.0164, 361.1375],\n",
       "         [643.3292, 347.6819],\n",
       "         [643.3773, 327.5571],\n",
       "         [643.7401, 386.5159],\n",
       "         [643.9897, 396.5083],\n",
       "         [644.4557, 374.2071],\n",
       "         [644.6823, 402.3197],\n",
       "         [644.9636, 337.2181],\n",
       "         [645.5609, 349.3987],\n",
       "         [645.5734, 322.9269],\n",
       "         [646.1013, 359.9456],\n",
       "         [646.2233, 381.8352],\n",
       "         [646.2350, 364.5398],\n",
       "         [646.2406, 374.0963],\n",
       "         [646.4914, 398.6341],\n",
       "         [646.8151, 344.4835],\n",
       "         [647.2349, 386.6344],\n",
       "         [647.2621, 405.1576],\n",
       "         [647.8324, 396.2688],\n",
       "         [647.9746, 372.3141],\n",
       "         [648.0114, 357.7793],\n",
       "         [648.1226, 389.9864],\n",
       "         [648.4033, 377.3914],\n",
       "         [648.8018, 348.5908],\n",
       "         [648.9268, 311.0647],\n",
       "         [649.0217, 331.0498],\n",
       "         [649.5543, 318.0200],\n",
       "         [649.8169, 383.4860],\n",
       "         [649.9066, 370.5589],\n",
       "         [650.7277, 346.4995],\n",
       "         [650.9990, 399.7859],\n",
       "         [651.1402, 375.8793],\n",
       "         [651.3090, 340.0027],\n",
       "         [651.3657, 325.9897],\n",
       "         [651.8955, 366.7621],\n",
       "         [652.1521, 355.7663],\n",
       "         [653.0586, 325.9818],\n",
       "         [653.2524, 387.7305],\n",
       "         [653.5963, 391.0333],\n",
       "         [654.3868, 339.7190],\n",
       "         [655.0203, 386.5854],\n",
       "         [655.0414, 365.8843],\n",
       "         [655.4074, 309.9352],\n",
       "         [655.8624, 405.5159],\n",
       "         [656.3102, 368.9152],\n",
       "         [656.7747, 378.3937],\n",
       "         [656.8882, 346.0842],\n",
       "         [656.9130, 314.9040],\n",
       "         [657.5491, 329.2084],\n",
       "         [657.6922, 310.4676],\n",
       "         [657.8364, 343.4766],\n",
       "         [657.8997, 320.4107],\n",
       "         [658.2448, 375.0540],\n",
       "         [658.4186, 398.9408],\n",
       "         [659.1887, 335.9615],\n",
       "         [659.9230, 348.0792],\n",
       "         [660.1341, 385.5309],\n",
       "         [660.6160, 328.3685],\n",
       "         [660.6563, 380.8887],\n",
       "         [661.1868, 369.3220],\n",
       "         [661.1862, 404.3183],\n",
       "         [661.6057, 314.1413],\n",
       "         [662.4026, 352.2446],\n",
       "         [662.8362, 339.9662],\n",
       "         [663.4386, 390.5475],\n",
       "         [663.5049, 344.4296],\n",
       "         [663.6698, 309.8872],\n",
       "         [663.6728, 365.3893],\n",
       "         [663.9302, 398.3293],\n",
       "         [663.9638, 327.8648],\n",
       "         [664.4640, 324.4439],\n",
       "         [664.4923, 334.8320],\n",
       "         [664.5504, 392.6100],\n",
       "         [664.7662, 319.2103],\n",
       "         [664.7891, 400.0388],\n",
       "         [664.8705, 331.5200],\n",
       "         [665.3161, 376.7714],\n",
       "         [665.8686, 328.2922],\n",
       "         [666.0161, 396.9833],\n",
       "         [666.3888, 361.8507],\n",
       "         [666.4564, 313.4937],\n",
       "         [666.6024, 392.4443],\n",
       "         [667.2168, 381.1526],\n",
       "         [667.4694, 388.4334],\n",
       "         [667.6899, 339.1716],\n",
       "         [668.1994, 347.3970],\n",
       "         [668.4379, 378.1921],\n",
       "         [668.4411, 393.9349],\n",
       "         [668.8856, 324.4534],\n",
       "         [668.9440, 335.0486],\n",
       "         [668.9509, 319.0258],\n",
       "         [669.6223, 329.6981],\n",
       "         [669.8029, 397.2638],\n",
       "         [669.8194, 405.9237],\n",
       "         [670.4677, 359.7157],\n",
       "         [671.2289, 354.0003],\n",
       "         [671.7364, 361.8924],\n",
       "         [671.7850, 390.8146],\n",
       "         [672.2466, 320.8487],\n",
       "         [672.2885, 342.2281],\n",
       "         [672.3752, 385.4694],\n",
       "         [672.5624, 324.2419],\n",
       "         [673.2906, 317.9380],\n",
       "         [673.3367, 395.0547],\n",
       "         [673.3803, 382.5958],\n",
       "         [673.4491, 310.9948],\n",
       "         [674.4577, 352.9644],\n",
       "         [674.4725, 376.4985],\n",
       "         [674.4935, 337.8582],\n",
       "         [674.6492, 325.2624],\n",
       "         [674.7841, 344.0589],\n",
       "         [675.0838, 370.1410],\n",
       "         [675.1219, 329.1566],\n",
       "         [675.1851, 364.3285],\n",
       "         [675.4103, 340.6311],\n",
       "         [676.0659, 385.3998],\n",
       "         [676.6138, 312.9919],\n",
       "         [676.9249, 406.4557],\n",
       "         [676.9381, 323.0070],\n",
       "         [676.9793, 377.5731],\n",
       "         [677.2470, 362.3232],\n",
       "         [677.5475, 392.9368],\n",
       "         [678.4526, 348.3826],\n",
       "         [678.4910, 342.1929],\n",
       "         [678.5530, 381.6993],\n",
       "         [678.6140, 402.8242],\n",
       "         [679.0742, 317.9578],\n",
       "         [679.0748, 326.1102],\n",
       "         [679.0824, 333.9786],\n",
       "         [679.6057, 366.6577],\n",
       "         [679.8858, 344.2076],\n",
       "         [679.9434, 394.0874],\n",
       "         [679.9855, 390.0305],\n",
       "         [680.3880, 320.3196],\n",
       "         [680.5953, 372.7693],\n",
       "         [680.6508, 383.6830],\n",
       "         [680.7223, 315.2672],\n",
       "         [680.7778, 363.3950],\n",
       "         [680.9701, 337.5468],\n",
       "         [681.0261, 377.1385],\n",
       "         [681.1816, 407.0374],\n",
       "         [681.2516, 346.8785],\n",
       "         [681.4169, 401.9904],\n",
       "         [681.7773, 393.0844],\n",
       "         [682.2866, 325.5825],\n",
       "         [682.5659, 399.1309],\n",
       "         [682.6130, 355.5581],\n",
       "         [682.6184, 328.4474],\n",
       "         [683.5745, 405.7534],\n",
       "         [683.7139, 336.1428],\n",
       "         [683.9974, 345.1224],\n",
       "         [684.0296, 361.8220],\n",
       "         [685.0547, 378.9595],\n",
       "         [685.0970, 393.7829],\n",
       "         [685.1285, 342.8389],\n",
       "         [685.1602, 368.2017],\n",
       "         [685.4522, 387.3466],\n",
       "         [685.4844, 364.2058],\n",
       "         [685.4968, 317.5985],\n",
       "         [686.5980, 350.2182],\n",
       "         [686.9781, 346.7292],\n",
       "         [687.5526, 376.2291],\n",
       "         [687.9087, 317.3157],\n",
       "         [688.1922, 362.5046],\n",
       "         [688.3591, 386.0335],\n",
       "         [688.5529, 311.6270],\n",
       "         [688.5815, 336.9587],\n",
       "         [689.0563, 401.9793],\n",
       "         [689.0766, 396.3820],\n",
       "         [689.3888, 349.5303],\n",
       "         [689.4150, 345.3901],\n",
       "         [689.4772, 404.1589],\n",
       "         [689.5909, 388.0222],\n",
       "         [689.6427, 392.5573],\n",
       "         [690.6331, 361.6038],\n",
       "         [690.8179, 365.2437],\n",
       "         [691.1562, 380.4476],\n",
       "         [691.4105, 394.4850],\n",
       "         [691.8149, 384.2946],\n",
       "         [691.8414, 317.1301],\n",
       "         [692.2894, 352.8596],\n",
       "         [692.3882, 321.4065],\n",
       "         [692.4020, 402.6689],\n",
       "         [692.9227, 329.1379],\n",
       "         [693.0964, 335.4328],\n",
       "         [693.8950, 340.6695],\n",
       "         [694.0658, 326.2002],\n",
       "         [694.0802, 375.6748],\n",
       "         [694.7188, 343.3053],\n",
       "         [695.2639, 359.1867],\n",
       "         [695.5080, 319.5274],\n",
       "         [695.6702, 372.8133],\n",
       "         [695.8029, 380.1321],\n",
       "         [695.8664, 388.6452],\n",
       "         [695.9532, 394.5795],\n",
       "         [696.4184, 369.4235],\n",
       "         [697.1611, 352.4942],\n",
       "         [697.6417, 360.3453],\n",
       "         [698.3235, 343.2668],\n",
       "         [698.8562, 311.7693],\n",
       "         [698.9901, 332.1676],\n",
       "         [699.3000, 393.3117],\n",
       "         [699.5683, 386.7061],\n",
       "         [699.6274, 326.4500],\n",
       "         [699.6353, 346.8369],\n",
       "         [699.7880, 353.4517],\n",
       "         [699.8027, 378.1502],\n",
       "         [700.7695, 361.8131],\n",
       "         [700.9011, 368.2038],\n",
       "         [701.3326, 338.6838],\n",
       "         [701.3622, 345.7048],\n",
       "         [701.5872, 327.6305],\n",
       "         [701.7127, 355.1884],\n",
       "         [701.7159, 370.4034],\n",
       "         [701.8174, 402.7401],\n",
       "         [702.0879, 391.6476],\n",
       "         [702.4206, 356.5369],\n",
       "         [702.5023, 383.2487],\n",
       "         [702.7396, 396.2378],\n",
       "         [702.7847, 316.1402],\n",
       "         [702.9832, 323.9986],\n",
       "         [703.0563, 404.7148],\n",
       "         [703.4625, 336.8596],\n",
       "         [703.7169, 347.5306],\n",
       "         [703.7650, 367.3629],\n",
       "         [704.4229, 310.6096],\n",
       "         [704.5388, 350.0494],\n",
       "         [705.2037, 313.6797],\n",
       "         [705.2423, 399.3968],\n",
       "         [705.7254, 356.3022],\n",
       "         [705.8943, 318.0472],\n",
       "         [706.0694, 335.0234],\n",
       "         [706.0779, 407.1276],\n",
       "         [706.2154, 395.4250],\n",
       "         [706.5826, 330.8932],\n",
       "         [706.6252, 339.3556],\n",
       "         [707.0926, 370.6782],\n",
       "         [707.1259, 324.8084],\n",
       "         [707.3970, 360.4806],\n",
       "         [707.8689, 404.1632],\n",
       "         [707.8791, 377.8460],\n",
       "         [708.4466, 347.0351],\n",
       "         [708.6251, 319.0619],\n",
       "         [709.1501, 375.6507],\n",
       "         [709.1745, 311.4106],\n",
       "         [709.2137, 385.4281],\n",
       "         [709.7527, 324.4487],\n",
       "         [709.8549, 341.5747],\n",
       "         [710.7294, 389.5222],\n",
       "         [710.7881, 314.8808],\n",
       "         [710.9323, 393.3582],\n",
       "         [711.5529, 358.7846],\n",
       "         [711.6638, 401.2150],\n",
       "         [711.6827, 404.7509],\n",
       "         [711.7388, 378.6488],\n",
       "         [712.6537, 340.4058],\n",
       "         [712.6954, 365.8807],\n",
       "         [712.8010, 335.4143],\n",
       "         [712.8240, 354.4046],\n",
       "         [713.4945, 362.1228],\n",
       "         [714.2419, 315.2974],\n",
       "         [714.5122, 348.3322],\n",
       "         [715.1892, 385.8140],\n",
       "         [715.2292, 365.9170],\n",
       "         [715.6586, 356.2925],\n",
       "         [715.9982, 325.2307],\n",
       "         [716.3553, 340.6813],\n",
       "         [716.4006, 397.4618],\n",
       "         [716.6929, 350.7661],\n",
       "         [716.8314, 379.9787],\n",
       "         [717.2968, 371.9738],\n",
       "         [717.5839, 311.6346],\n",
       "         [717.6871, 365.3942],\n",
       "         [717.7227, 394.0562],\n",
       "         [717.7299, 330.1974],\n",
       "         [718.5363, 403.0883],\n",
       "         [719.2505, 373.8445],\n",
       "         [719.8043, 399.0456],\n",
       "         [720.3873, 320.0287],\n",
       "         [720.4620, 343.4766],\n",
       "         [720.6537, 310.1065],\n",
       "         [721.3464, 333.5328],\n",
       "         [721.5983, 316.1496],\n",
       "         [721.6289, 405.3792],\n",
       "         [722.1718, 325.6976],\n",
       "         [722.4748, 345.2834],\n",
       "         [722.7200, 320.9402],\n",
       "         [722.9529, 341.4233],\n",
       "         [723.0486, 327.9774],\n",
       "         [723.2594, 312.9918],\n",
       "         [723.4950, 359.1053],\n",
       "         [723.8977, 406.5758],\n",
       "         [724.1392, 395.4513],\n",
       "         [724.2770, 377.0330],\n",
       "         [724.5746, 364.9259],\n",
       "         [724.8192, 351.9095],\n",
       "         [725.0209, 399.9904],\n",
       "         [725.3257, 381.6042],\n",
       "         [725.8108, 340.4544],\n",
       "         [726.1432, 370.9797],\n",
       "         [726.5906, 404.1496],\n",
       "         [726.6094, 367.4489],\n",
       "         [727.2418, 378.1476],\n",
       "         [727.5693, 327.1747],\n",
       "         [727.6544, 385.1564],\n",
       "         [727.6594, 346.6794],\n",
       "         [728.5076, 400.0289],\n",
       "         [728.5349, 334.5350],\n",
       "         [728.5534, 406.1633]]),\n",
       " tensor([[  4302.5278],\n",
       "         [ 14155.4512],\n",
       "         [  9131.1133],\n",
       "         [ 19504.0020],\n",
       "         [  6358.0469],\n",
       "         [ 13618.3252],\n",
       "         [ 20879.6738],\n",
       "         [  6837.9150],\n",
       "         [ 18168.6934],\n",
       "         [ 20918.1719],\n",
       "         [  7800.5229],\n",
       "         [ 15028.7793],\n",
       "         [ 87442.7344],\n",
       "         [ 51823.1367],\n",
       "         [ 31865.7188],\n",
       "         [188158.4375],\n",
       "         [  6939.4287],\n",
       "         [  9005.8291],\n",
       "         [  4334.3472],\n",
       "         [  4748.1421],\n",
       "         [ 10273.6250],\n",
       "         [ 14168.4951],\n",
       "         [ 11089.7998],\n",
       "         [ 12294.8633],\n",
       "         [  8964.4512],\n",
       "         [  6488.1924],\n",
       "         [ 35918.9570],\n",
       "         [  5933.6743],\n",
       "         [130895.1953],\n",
       "         [  5645.7769],\n",
       "         [ 36284.7148],\n",
       "         [  7945.5454],\n",
       "         [ 11666.0469],\n",
       "         [  5352.0938],\n",
       "         [ 19976.6992],\n",
       "         [ 17543.8008],\n",
       "         [ 11484.8076],\n",
       "         [ 18833.1816],\n",
       "         [  4302.5278],\n",
       "         [ 11484.8076],\n",
       "         [ 24712.9004],\n",
       "         [  5961.0630],\n",
       "         [ 12283.5449],\n",
       "         [ 10988.1279],\n",
       "         [  8335.3477],\n",
       "         [ 10235.8457],\n",
       "         [ 11861.0654],\n",
       "         [ 12081.5791],\n",
       "         [  3934.8096],\n",
       "         [ 12137.3457],\n",
       "         [ 82513.2500],\n",
       "         [ 34907.8984],\n",
       "         [  8160.6304],\n",
       "         [  9579.0781],\n",
       "         [  7778.9990],\n",
       "         [  6010.6816],\n",
       "         [  6621.0020],\n",
       "         [ 10947.7207],\n",
       "         [  8198.2979],\n",
       "         [ 17722.4473],\n",
       "         [  5656.1865],\n",
       "         [ 13456.2393],\n",
       "         [ 16282.5986],\n",
       "         [  8882.2646],\n",
       "         [ 18336.8066],\n",
       "         [  3834.6321],\n",
       "         [ 22393.5898],\n",
       "         [  5177.5430],\n",
       "         [  5106.5044],\n",
       "         [ 14418.6201],\n",
       "         [  4192.9888],\n",
       "         [ 10590.6768],\n",
       "         [ 17886.4316],\n",
       "         [  7974.8716],\n",
       "         [  3628.4714],\n",
       "         [  9335.2021],\n",
       "         [ 11100.0186],\n",
       "         [ 19095.1777],\n",
       "         [  4263.0820],\n",
       "         [  4818.6313],\n",
       "         [  6021.7637],\n",
       "         [  6894.8325],\n",
       "         [ 17624.7793],\n",
       "         [  3750.7983],\n",
       "         [  4805.3354],\n",
       "         [  5073.6875],\n",
       "         [  6621.0020],\n",
       "         [ 22915.2031],\n",
       "         [  8553.1035],\n",
       "         [  9275.2090],\n",
       "         [  5125.3521],\n",
       "         [  3675.5615],\n",
       "         [ 12815.1504],\n",
       "         [  8521.6504],\n",
       "         [ 18269.3750],\n",
       "         [  6719.2949],\n",
       "         [ 11028.6846],\n",
       "         [ 10590.6768],\n",
       "         [  2453.1477],\n",
       "         [  8205.8525],\n",
       "         [  5966.5557],\n",
       "         [ 13198.4736],\n",
       "         [  4386.5562],\n",
       "         [  3737.0054],\n",
       "         [131136.5312],\n",
       "         [ 10532.3115],\n",
       "         [  6452.4360],\n",
       "         [898097.9375],\n",
       "         [  7233.0874],\n",
       "         [  6781.4678],\n",
       "         [  6800.2319],\n",
       "         [ 35524.1523],\n",
       "         [  4890.1670],\n",
       "         [  9352.4141],\n",
       "         [ 20879.6738],\n",
       "         [  3782.0190],\n",
       "         [ 16073.9902],\n",
       "         [ 14312.7705],\n",
       "         [  3859.4348],\n",
       "         [ 12815.1504],\n",
       "         [ 22188.2832],\n",
       "         [  5625.0151],\n",
       "         [ 10639.5615],\n",
       "         [  9386.9326],\n",
       "         [  6032.8662],\n",
       "         [ 24826.9688],\n",
       "         [ 24261.8379],\n",
       "         [  9975.2480],\n",
       "         [ 12227.1074],\n",
       "         [ 11079.5908],\n",
       "         [  4921.7974],\n",
       "         [  9766.1572],\n",
       "         [ 57826.0742],\n",
       "         [  7793.3418],\n",
       "         [  3974.8772],\n",
       "         [  9309.4434],\n",
       "         [  7894.4834],\n",
       "         [ 11411.0000],\n",
       "         [264803.5000],\n",
       "         [  6494.1709],\n",
       "         [ 23255.3945],\n",
       "         [  2916.9146],\n",
       "         [ 10435.7510],\n",
       "         [  3171.9309],\n",
       "         [  4567.9751],\n",
       "         [  2415.0366],\n",
       "         [  8335.3477],\n",
       "         [  9517.5186],\n",
       "         [  5729.5923],\n",
       "         [ 19866.6074],\n",
       "         [173829.5938],\n",
       "         [ 93955.8281],\n",
       "         [ 12558.0938],\n",
       "         [  8696.0840],\n",
       "         [ 14392.0850],\n",
       "         [ 11915.8135],\n",
       "         [ 13518.3506],\n",
       "         [ 12826.9590],\n",
       "         [  5868.4541],\n",
       "         [  5327.5029],\n",
       "         [145252.5312],\n",
       "         [  7887.2153],\n",
       "         [ 20707.3105],\n",
       "         [ 11421.5146],\n",
       "         [ 18781.2168],\n",
       "         [  3436.5583],\n",
       "         [ 15139.9248],\n",
       "         [  8808.9414],\n",
       "         [  6856.8350],\n",
       "         [ 11110.2471],\n",
       "         [ 27122.1250],\n",
       "         [ 20918.1719],\n",
       "         [  8297.0498],\n",
       "         [  4263.0820],\n",
       "         [ 62133.1992],\n",
       "         [ 17886.4316],\n",
       "         [399322.4375],\n",
       "         [ 12592.8408],\n",
       "         [ 15897.3125],\n",
       "         [  4665.7739],\n",
       "         [  4580.6143],\n",
       "         [  9147.9482],\n",
       "         [  6542.1982],\n",
       "         [ 25925.2949],\n",
       "         [ 17479.2871],\n",
       "         [ 10957.8086],\n",
       "         [ 42513.1914],\n",
       "         [ 31690.1074],\n",
       "         [  7560.0332],\n",
       "         [ 34081.8945],\n",
       "         [ 23169.8770],\n",
       "         [ 39131.2500],\n",
       "         [  9649.9199],\n",
       "         [  6800.2319],\n",
       "         [ 30741.4043],\n",
       "         [  6800.2319],\n",
       "         [ 70036.3828],\n",
       "         [ 62708.1094],\n",
       "         [  8964.4512],\n",
       "         [  9838.3828],\n",
       "         [ 27779.4551],\n",
       "         [ 12159.7236],\n",
       "         [  9326.6074],\n",
       "         [  7909.0391],\n",
       "         [ 15308.1855],\n",
       "         [  5983.0649],\n",
       "         [ 36084.7500],\n",
       "         [ 10330.5566],\n",
       "         [  4926.3325],\n",
       "         [  6416.8770],\n",
       "         [  9802.2031],\n",
       "         [  5961.0630],\n",
       "         [  6524.1465],\n",
       "         [  9517.5186],\n",
       "         [ 35952.0547],\n",
       "         [ 22025.3945],\n",
       "         [ 20745.4902],\n",
       "         [  5303.0254],\n",
       "         [  5097.1064],\n",
       "         [ 17479.2871],\n",
       "         [  9820.2764],\n",
       "         [ 27856.3184],\n",
       "         [ 25265.2559],\n",
       "         [ 14471.8389],\n",
       "         [  4796.4917],\n",
       "         [ 40227.5625],\n",
       "         [ 17479.2871],\n",
       "         [ 19183.3164],\n",
       "         [ 11484.8076],\n",
       "         [  8776.5479],\n",
       "         [ 10132.6660],\n",
       "         [ 26848.7285],\n",
       "         [ 30515.7266],\n",
       "         [ 15336.4102],\n",
       "         [ 15181.8154],\n",
       "         [  7532.2324],\n",
       "         [  5073.6875],\n",
       "         [ 12721.0723],\n",
       "         [ 49445.1523],\n",
       "         [ 11453.1172],\n",
       "         [  6167.7065],\n",
       "         [ 29115.4629],\n",
       "         [  6482.2192],\n",
       "         [ 10188.8154],\n",
       "         [ 13961.2305],\n",
       "         [  9641.0361],\n",
       "         [ 29466.1719],\n",
       "         [  5756.0386],\n",
       "         [ 34050.5156],\n",
       "         [ 11432.0391],\n",
       "         [332448.0000],\n",
       "         [138715.0938],\n",
       "         [  7587.9370],\n",
       "         [ 14038.5967],\n",
       "         [  9318.0215],\n",
       "         [  8004.3066],\n",
       "         [274235.5312],\n",
       "         [  8108.1860],\n",
       "         [ 10757.8057],\n",
       "         [ 24554.0820],\n",
       "         [ 28036.4941],\n",
       "         [ 56353.8672],\n",
       "         [  4787.6646],\n",
       "         [ 38311.0195],\n",
       "         [ 18269.3750],\n",
       "         [  6596.6543],\n",
       "         [ 13948.3779],\n",
       "         [  8056.0791],\n",
       "         [  6608.8169],\n",
       "         [  6005.1479],\n",
       "         [ 11850.1465],\n",
       "         [ 24622.0215],\n",
       "         [ 16631.2051],\n",
       "         [ 22066.0059],\n",
       "         [ 11926.7939],\n",
       "         [  9022.4336],\n",
       "         [  9570.2598],\n",
       "         [ 30968.7520],\n",
       "         [  7736.1289],\n",
       "         [  6875.8076],\n",
       "         [ 14849.9062],\n",
       "         [ 15098.1494],\n",
       "         [ 27147.1172],\n",
       "         [ 21111.7246],\n",
       "         [ 98837.9453],\n",
       "         [ 67814.6797],\n",
       "         [ 27499.4316],\n",
       "         [ 26092.9824],\n",
       "         [547676.0000],\n",
       "         [ 10142.0020],\n",
       "         [ 11244.0742],\n",
       "         [ 56875.3008],\n",
       "         [ 36251.3086],\n",
       "         [ 32101.3809],\n",
       "         [ 24667.4199],\n",
       "         [ 11730.6943],\n",
       "         [ 13605.7881],\n",
       "         [ 10397.3750],\n",
       "         [  7300.0142],\n",
       "         [ 15751.5654],\n",
       "         [ 27097.1562],\n",
       "         [ 16554.7910],\n",
       "         [ 39348.0938],\n",
       "         [ 32488.0547],\n",
       "         [ 28348.0840],\n",
       "         [  8138.1128],\n",
       "         [280364.9375],\n",
       "         [  7822.1064],\n",
       "         [ 27959.1328],\n",
       "         [  9369.6572],\n",
       "         [  8849.6016],\n",
       "         [  6894.8325],\n",
       "         [ 47964.9180],\n",
       "         [ 11948.7842],\n",
       "         [  7226.4287],\n",
       "         [ 17398.9766],\n",
       "         [ 10967.9062],\n",
       "         [ 21287.4531],\n",
       "         [ 56301.9844],\n",
       "         [ 15056.4893],\n",
       "         [  9258.1396],\n",
       "         [ 11008.3877],\n",
       "         [578260.7500],\n",
       "         [ 10777.6406],\n",
       "         [  9517.5186],\n",
       "         [ 11644.5771],\n",
       "         [ 35655.2695],\n",
       "         [  6787.7168],\n",
       "         [195040.0156],\n",
       "         [ 12826.9590],\n",
       "         [ 16044.4082],\n",
       "         [ 17223.5918],\n",
       "         [119487.8438],\n",
       "         [ 11666.0469],\n",
       "         [208412.4688],\n",
       "         [ 31953.8887],\n",
       "         [ 14904.7158],\n",
       "         [ 36620.4531],\n",
       "         [ 19830.0449],\n",
       "         [ 17657.2754],\n",
       "         [  7546.1201],\n",
       "         [ 10817.4209],\n",
       "         [ 14700.2158],\n",
       "         [  6190.4712],\n",
       "         [ 11505.9824],\n",
       "         [  5101.8032],\n",
       "         [  7764.6826],\n",
       "         [ 21170.1387],\n",
       "         [ 14220.7900],\n",
       "         [ 34365.5820],\n",
       "         [ 24217.1875],\n",
       "         [  8451.3037],\n",
       "         [ 40079.6289],\n",
       "         [  9114.3086],\n",
       "         [  8947.9531],\n",
       "         [  9224.0938],\n",
       "         [  6299.7559]]))"
      ]
     },
     "execution_count": 23,
     "metadata": {},
     "output_type": "execute_result"
    }
   ],
   "source": [
    "daophot_utils.align_daophot_locs(_daophot_locs,\n",
    "                                 _daophot_fluxes,\n",
    "                                 hubble_catalog['locs'],\n",
    "                                 hubble_catalog['fluxes'][:, 0], \n",
    "                                 align_on_logflux = 4.5)"
   ]
  },
  {
   "cell_type": "code",
   "execution_count": 22,
   "metadata": {},
   "outputs": [
    {
     "data": {
      "text/plain": [
       "tensor([[1101.7385, 1101.7385],\n",
       "        [3339.4775, 3339.4775],\n",
       "        [7721.0884, 7721.0884],\n",
       "        ...,\n",
       "        [3088.5154, 3088.5154],\n",
       "        [1085.7998, 1085.7998],\n",
       "        [1434.0021, 1434.0021]])"
      ]
     },
     "execution_count": 22,
     "metadata": {},
     "output_type": "execute_result"
    }
   ],
   "source": [
    "hubble_catalog['fluxes']"
   ]
  },
  {
   "cell_type": "code",
   "execution_count": 20,
   "metadata": {},
   "outputs": [
    {
     "ename": "NameError",
     "evalue": "name 'hubble_fluxes' is not defined",
     "output_type": "error",
     "traceback": [
      "\u001b[0;31m---------------------------------------------------------------------------\u001b[0m",
      "\u001b[0;31mNameError\u001b[0m                                 Traceback (most recent call last)",
      "\u001b[0;32m/tmp/ipykernel_380462/3113379823.py\u001b[0m in \u001b[0;36m<module>\u001b[0;34m\u001b[0m\n\u001b[0;32m----> 1\u001b[0;31m \u001b[0mlog10_hubble_fluxes\u001b[0m \u001b[0;34m=\u001b[0m \u001b[0mtorch\u001b[0m\u001b[0;34m.\u001b[0m\u001b[0mlog10\u001b[0m\u001b[0;34m(\u001b[0m\u001b[0mhubble_fluxes\u001b[0m\u001b[0;34m)\u001b[0m\u001b[0;34m.\u001b[0m\u001b[0msqueeze\u001b[0m\u001b[0;34m(\u001b[0m\u001b[0;34m)\u001b[0m\u001b[0;34m\u001b[0m\u001b[0;34m\u001b[0m\u001b[0m\n\u001b[0m\u001b[1;32m      2\u001b[0m \u001b[0mwhich_hubble_brightest\u001b[0m \u001b[0;34m=\u001b[0m \u001b[0mtorch\u001b[0m\u001b[0;34m.\u001b[0m\u001b[0mnonzero\u001b[0m\u001b[0;34m(\u001b[0m\u001b[0mlog10_hubble_fluxes\u001b[0m \u001b[0;34m>\u001b[0m \u001b[0malign_on_logflux\u001b[0m\u001b[0;34m)\u001b[0m\u001b[0;34m.\u001b[0m\u001b[0msqueeze\u001b[0m\u001b[0;34m(\u001b[0m\u001b[0;34m)\u001b[0m\u001b[0;34m\u001b[0m\u001b[0;34m\u001b[0m\u001b[0m\n",
      "\u001b[0;31mNameError\u001b[0m: name 'hubble_fluxes' is not defined"
     ]
    }
   ],
   "source": [
    "log10_hubble_fluxes = torch.log10(hubble_fluxes).squeeze()\n",
    "which_hubble_brightest = torch.nonzero(log10_hubble_fluxes > align_on_logflux).squeeze()"
   ]
  },
  {
   "cell_type": "code",
   "execution_count": null,
   "metadata": {},
   "outputs": [],
   "source": []
  },
  {
   "cell_type": "code",
   "execution_count": 18,
   "metadata": {},
   "outputs": [
    {
     "data": {
      "text/plain": [
       "torch.Size([357, 2])"
      ]
     },
     "execution_count": 18,
     "metadata": {},
     "output_type": "execute_result"
    }
   ],
   "source": [
    "_daophot_locs.shape"
   ]
  },
  {
   "cell_type": "code",
   "execution_count": 19,
   "metadata": {},
   "outputs": [
    {
     "data": {
      "text/plain": [
       "torch.Size([94296, 2])"
      ]
     },
     "execution_count": 19,
     "metadata": {},
     "output_type": "execute_result"
    }
   ],
   "source": [
    "hubble_catalog['locs'].shape"
   ]
  },
  {
   "cell_type": "code",
   "execution_count": null,
   "metadata": {},
   "outputs": [],
   "source": []
  },
  {
   "cell_type": "code",
   "execution_count": null,
   "metadata": {},
   "outputs": [],
   "source": []
  },
  {
   "cell_type": "code",
   "execution_count": null,
   "metadata": {},
   "outputs": [],
   "source": []
  },
  {
   "cell_type": "code",
   "execution_count": 16,
   "metadata": {},
   "outputs": [
    {
     "data": {
      "image/png": "[encoded data removed]",
      "text/plain": [
       "<Figure size 720x432 with 1 Axes>"
      ]
     },
     "metadata": {
      "needs_background": "light"
     },
     "output_type": "display_data"
    }
   ],
   "source": [
    "f, ax = plt.subplots(1, 1, figsize=(10, 6))\n",
    "\n",
    "\n",
    "plotting.plot_locations(\n",
    "        _daophot_locs, \n",
    "        ax,\n",
    "        marker='.',\n",
    "        color='b', \n",
    "    )\n",
    "\n",
    "im = plotting.plot_image(ax, \n",
    "                         sdss_frame[0])\n"
   ]
  },
  {
   "cell_type": "code",
   "execution_count": null,
   "metadata": {},
   "outputs": [],
   "source": []
  },
  {
   "cell_type": "code",
   "execution_count": null,
   "metadata": {},
   "outputs": [],
   "source": []
  },
  {
   "cell_type": "code",
   "execution_count": null,
   "metadata": {},
   "outputs": [],
   "source": []
  },
  {
   "cell_type": "code",
   "execution_count": null,
   "metadata": {},
   "outputs": [],
   "source": []
  },
  {
   "cell_type": "code",
   "execution_count": 31,
   "metadata": {},
   "outputs": [],
   "source": []
  },
  {
   "cell_type": "code",
   "execution_count": 32,
   "metadata": {},
   "outputs": [],
   "source": [
    "m2_chunk = sdss_test_image = plotting.crop_image(sdss_frame, \n",
    "                                                 x0 - border_padding, \n",
    "                                                 x1 - border_padding,\n",
    "                                                 chunk_slen + 2 * border_padding,\n",
    "                                                 chunk_slen + 2 * border_padding)"
   ]
  },
  {
   "cell_type": "code",
   "execution_count": null,
   "metadata": {},
   "outputs": [],
   "source": []
  },
  {
   "cell_type": "code",
   "execution_count": null,
   "metadata": {},
   "outputs": [],
   "source": []
  },
  {
   "cell_type": "code",
   "execution_count": null,
   "metadata": {},
   "outputs": [],
   "source": []
  },
  {
   "cell_type": "code",
   "execution_count": null,
   "metadata": {},
   "outputs": [],
   "source": []
  },
  {
   "cell_type": "code",
   "execution_count": null,
   "metadata": {},
   "outputs": [],
   "source": []
  },
  {
   "cell_type": "code",
   "execution_count": null,
   "metadata": {},
   "outputs": [],
   "source": []
  },
  {
   "cell_type": "code",
   "execution_count": null,
   "metadata": {},
   "outputs": [],
   "source": []
  },
  {
   "cell_type": "markdown",
   "metadata": {},
   "source": [
    "### We focus on this chunk"
   ]
  },
  {
   "cell_type": "code",
   "execution_count": 11,
   "metadata": {},
   "outputs": [],
   "source": [
    "x0 = 630\n",
    "x1 = 310\n",
    "chunk_slen = 100\n",
    "\n",
    "border_padding = sleep_net.image_encoder.border_padding"
   ]
  },
  {
   "cell_type": "code",
   "execution_count": 12,
   "metadata": {},
   "outputs": [],
   "source": [
    "sdss_test_image = plotting.crop_image(sdss_frame, \n",
    "                                      x0 - border_padding, \n",
    "                                      x1 - border_padding,\n",
    "                                      chunk_slen + 2 * border_padding,\n",
    "                                      chunk_slen + 2 * border_padding)"
   ]
  },
  {
   "cell_type": "code",
   "execution_count": 13,
   "metadata": {},
   "outputs": [
    {
     "data": {
      "text/plain": [
       "<matplotlib.image.AxesImage at 0x7f071b935d90>"
      ]
     },
     "execution_count": 13,
     "metadata": {},
     "output_type": "execute_result"
    },
    {
     "data": {
      "image/png": "[encoded data removed]",
      "text/plain": [
       "<Figure size 288x288 with 1 Axes>"
      ]
     },
     "metadata": {
      "needs_background": "light"
     },
     "output_type": "display_data"
    }
   ],
   "source": [
    "plt.matshow(sdss_test_image[0], \n",
    "            cmap = plt.cm.gray)"
   ]
  },
  {
   "cell_type": "code",
   "execution_count": null,
   "metadata": {},
   "outputs": [],
   "source": []
  },
  {
   "cell_type": "markdown",
   "metadata": {},
   "source": [
    "# Get starnet map estimates"
   ]
  },
  {
   "cell_type": "code",
   "execution_count": 14,
   "metadata": {},
   "outputs": [],
   "source": [
    "map_estimate = sleep_net.image_encoder.map_estimate(sdss_test_image.unsqueeze(0).to(device), \n",
    "                                                    sleep_net.image_decoder.slen)\n",
    "\n",
    "# detach \n",
    "for key in map_estimate.keys(): \n",
    "    map_estimate[key] = map_estimate[key].squeeze(0).cpu().detach()\n",
    "\n",
    "# reparameterize locations: these are coordinates on the frame\n",
    "map_estimate['locs'] = map_estimate['locs'] * sleep_net.image_decoder.slen + \\\n",
    "    torch.Tensor([[x0, x1]])\n",
    "\n",
    "# all galaxies should be off\n",
    "assert torch.all(map_estimate['galaxy_bool'] == 0.)"
   ]
  },
  {
   "cell_type": "code",
   "execution_count": 15,
   "metadata": {},
   "outputs": [
    {
     "name": "stdout",
     "output_type": "stream",
     "text": [
      "tensor(1211.)\n"
     ]
    }
   ],
   "source": [
    "print(map_estimate['n_sources'])"
   ]
  },
  {
   "cell_type": "code",
   "execution_count": null,
   "metadata": {},
   "outputs": [],
   "source": []
  },
  {
   "cell_type": "markdown",
   "metadata": {},
   "source": [
    "# Load PCAT results"
   ]
  },
  {
   "cell_type": "code",
   "execution_count": 16,
   "metadata": {},
   "outputs": [],
   "source": [
    "chain_results = np.load('./fits/my_chain_nsamp3000.npz')"
   ]
  },
  {
   "cell_type": "code",
   "execution_count": 17,
   "metadata": {},
   "outputs": [],
   "source": [
    "# we take the last 300 samples of the chain\n",
    "pcat_n_samples = 300"
   ]
  },
  {
   "cell_type": "code",
   "execution_count": 18,
   "metadata": {},
   "outputs": [],
   "source": [
    "gain = sdss_data[0]['gain'][0]"
   ]
  },
  {
   "cell_type": "code",
   "execution_count": 19,
   "metadata": {},
   "outputs": [],
   "source": [
    "# n_samples x max_stars x n_bands\n",
    "pcat_sampled_fluxes = chain_results['f'][:, -pcat_n_samples:, :].transpose([1, 2, 0]) * gain\n",
    "\n",
    "# get boolean for stars that are on\n",
    "pcat_is_on_sampled = pcat_sampled_fluxes[:, :, 0] > 0\n",
    "assert (pcat_is_on_sampled.sum(1) == chain_results['n'][-pcat_n_samples:]).all()\n",
    "\n",
    "# locations: n_samples x max_stars x 2\n",
    "pcat_sampled_locs = np.dstack((chain_results['y'][-pcat_n_samples:, :], \n",
    "                                    chain_results['x'][-pcat_n_samples:, :])) + \\\n",
    "    np.array([[[630.5, 310.5]]])\n",
    "\n",
    "# covert everything to torch tensors \n",
    "pcat_sampled_locs = torch.Tensor(pcat_sampled_locs) \n",
    "pcat_sampled_fluxes = torch.Tensor(pcat_sampled_fluxes)\n",
    "\n",
    "pcat_samples = dict({'locs': pcat_sampled_locs, \n",
    "                     'fluxes': pcat_sampled_fluxes})"
   ]
  },
  {
   "cell_type": "code",
   "execution_count": null,
   "metadata": {},
   "outputs": [],
   "source": []
  },
  {
   "cell_type": "code",
   "execution_count": null,
   "metadata": {},
   "outputs": [],
   "source": []
  },
  {
   "cell_type": "markdown",
   "metadata": {},
   "source": [
    "# Load DAOPHOT results"
   ]
  },
  {
   "cell_type": "code",
   "execution_count": null,
   "metadata": {},
   "outputs": [],
   "source": []
  },
  {
   "cell_type": "code",
   "execution_count": null,
   "metadata": {},
   "outputs": [],
   "source": []
  },
  {
   "cell_type": "markdown",
   "metadata": {},
   "source": [
    "# Example subimages"
   ]
  },
  {
   "cell_type": "code",
   "execution_count": 21,
   "metadata": {},
   "outputs": [
    {
     "data": {
      "image/png": "[encoded data removed]",
      "text/plain": [
       "<Figure size 1728x576 with 20 Axes>"
      ]
     },
     "metadata": {
      "needs_background": "light"
     },
     "output_type": "display_data"
    }
   ],
   "source": [
    "f, axarr = plt.subplots(2, 5, figsize=(24, 8))\n",
    "\n",
    "subimage_slen = 10\n",
    "x0_vec = np.arange(x0, x0 + chunk_slen, subimage_slen)\n",
    "x1_vec = np.arange(x1, x1 + chunk_slen, subimage_slen)\n",
    "\n",
    "for i in range(10): \n",
    "    _x0 = np.random.choice(x0_vec)\n",
    "    _x1 = np.random.choice(x1_vec)\n",
    "    \n",
    "    ax = axarr[i // 5,  i % 5]\n",
    "    \n",
    "    plotting.plot_locations(\n",
    "        hubble_catalog['locs'], \n",
    "        ax,\n",
    "        marker='o',\n",
    "        color='b',\n",
    "    )\n",
    "    \n",
    "    plotting.plot_locations(\n",
    "        map_estimate['locs'], \n",
    "        ax,\n",
    "        marker='x',\n",
    "        color='r',\n",
    "    )\n",
    "    \n",
    "    plotting.plot_locations(\n",
    "        pcat_samples['locs'][0], \n",
    "        ax,\n",
    "        marker='x',\n",
    "        color='c',\n",
    "    )\n",
    "    \n",
    "    im = plotting.plot_image(ax, \n",
    "                             sdss_frame[0], \n",
    "                             _x0, \n",
    "                             _x1,\n",
    "                             subimage_slen,\n",
    "                             subimage_slen)\n",
    "    \n",
    "    f.colorbar(im, ax = ax)"
   ]
  },
  {
   "cell_type": "code",
   "execution_count": null,
   "metadata": {},
   "outputs": [],
   "source": []
  },
  {
   "cell_type": "markdown",
   "metadata": {},
   "source": [
    "# Performance metrics"
   ]
  },
  {
   "cell_type": "code",
   "execution_count": 25,
   "metadata": {},
   "outputs": [],
   "source": [
    "nelec_per_nmgy = sdss_data[0]['nelec_per_nmgy'][0].mean()"
   ]
  },
  {
   "cell_type": "code",
   "execution_count": 26,
   "metadata": {},
   "outputs": [],
   "source": [
    "# the PCAT catalog has a 0.5 pixel border around the edges \n",
    "# to reproduce old PCAT results, set \n",
    "pad = 5.5\n",
    "_chunk_slen = chunk_slen - 10\n",
    "\n",
    "# pad = 0.5\n",
    "# _chunk_slen = chunk_slen - 2 * pad"
   ]
  },
  {
   "cell_type": "code",
   "execution_count": 31,
   "metadata": {},
   "outputs": [],
   "source": [
    "# get hubble ground truth on this chunk\n",
    "hubble_test_catalog = plotting.filter_catalog_by_locs(hubble_catalog, \n",
    "                                                      x0 + pad, \n",
    "                                                      x1 + pad,\n",
    "                                                      _chunk_slen,\n",
    "                                                      _chunk_slen)\n",
    "\n",
    "hubble_test_mags = utils.convert_nmgy_to_mag(hubble_test_catalog['fluxes'][:, 0:1] / nelec_per_nmgy)"
   ]
  },
  {
   "cell_type": "code",
   "execution_count": 32,
   "metadata": {},
   "outputs": [],
   "source": [
    "def get_summary_statistics(est_catalog): \n",
    "        \n",
    "    est_catalog = plotting.filter_catalog_by_locs(deepcopy(est_catalog),\n",
    "                                                  x0 + pad, \n",
    "                                                  x1 + pad,\n",
    "                                                  _chunk_slen,\n",
    "                                                  _chunk_slen)\n",
    "    est_locs = est_catalog['locs']\n",
    "    est_fluxes = est_catalog['fluxes'][:, 0:1]\n",
    "    \n",
    "    est_mags = utils.convert_nmgy_to_mag(est_fluxes / nelec_per_nmgy)\n",
    "\n",
    "    # get tpr and ppv as function of magnitude\n",
    "    tpr_vec = starnet_metrics.get_tpr_vec(hubble_test_catalog['locs'],\n",
    "                                          hubble_test_mags,\n",
    "                                          est_locs,\n",
    "                                          est_mags, \n",
    "                                          mag_bins = mag_bins)[0]\n",
    "    \n",
    "    ppv_vec = starnet_metrics.get_ppv_vec(hubble_test_catalog['locs'],\n",
    "                                          hubble_test_mags,\n",
    "                                          est_locs,\n",
    "                                          est_mags, \n",
    "                                          mag_bins = mag_bins)[0]\n",
    "    \n",
    "    # get overal tpr and ppv    \n",
    "    tpr, ppv = starnet_metrics.get_tpr_ppv(hubble_test_catalog['locs'],\n",
    "                                           hubble_test_mags,\n",
    "                                           est_locs,\n",
    "                                           est_mags, \n",
    "                                           slack = 0.5)\n",
    "    # f1 score \n",
    "    f1 = 2 * (tpr * ppv) / (tpr + ppv)\n",
    "    return tpr, ppv, f1, tpr_vec, ppv_vec\n"
   ]
  },
  {
   "cell_type": "code",
   "execution_count": 33,
   "metadata": {},
   "outputs": [],
   "source": [
    "mag_bins = np.concatenate((np.array([15]), \n",
    "                          np.arange(19, 22.2, 0.4), \n",
    "                          np.array([100])))"
   ]
  },
  {
   "cell_type": "code",
   "execution_count": null,
   "metadata": {},
   "outputs": [],
   "source": []
  },
  {
   "cell_type": "markdown",
   "metadata": {},
   "source": [
    "### Get results for StarNet"
   ]
  },
  {
   "cell_type": "code",
   "execution_count": 34,
   "metadata": {},
   "outputs": [
    {
     "name": "stdout",
     "output_type": "stream",
     "text": [
      "StarNet tpr tensor(0.5435)\n",
      "StarNet ppv tensor(0.5219)\n",
      "StarNet f1 tensor(0.5325)\n"
     ]
    }
   ],
   "source": [
    "tpr, ppv, f1, starnet_tpr_vec, starnet_ppv_vec = \\\n",
    "    get_summary_statistics(map_estimate)\n",
    "\n",
    "print('StarNet tpr', tpr)\n",
    "print('StarNet ppv', ppv)\n",
    "print('StarNet f1', f1)"
   ]
  },
  {
   "cell_type": "code",
   "execution_count": null,
   "metadata": {},
   "outputs": [],
   "source": []
  },
  {
   "cell_type": "markdown",
   "metadata": {},
   "source": [
    "### Get results for PCAT"
   ]
  },
  {
   "cell_type": "code",
   "execution_count": 35,
   "metadata": {},
   "outputs": [
    {
     "name": "stdout",
     "output_type": "stream",
     "text": [
      "PCAT tpr tensor(0.5591)\n",
      "PCAT ppv tensor(0.4045)\n",
      "PCAT f1 tensor(0.4694)\n"
     ]
    }
   ],
   "source": [
    "tpr = 0.\n",
    "ppv = 0.\n",
    "f1 = 0.\n",
    "\n",
    "pcat_ppv_vec = torch.zeros(len(mag_bins) - 1)\n",
    "pcat_tpr_vec = torch.zeros(len(mag_bins) - 1)\n",
    "\n",
    "for i in range(pcat_n_samples):\n",
    "    is_on = pcat_is_on_sampled[i]\n",
    "    \n",
    "    pcat_catalog_i = {'locs': pcat_sampled_locs[i, is_on, :], \n",
    "                      'fluxes': pcat_sampled_fluxes[i, is_on, :]}\n",
    "    \n",
    "    tpr_i, ppv_i, f1_i, pcat_tpr_vec, pcat_ppv_vec = \\\n",
    "        get_summary_statistics(pcat_catalog_i)\n",
    "    \n",
    "    pcat_tpr_vec += pcat_tpr_vec / pcat_n_samples\n",
    "    pcat_ppv_vec += pcat_ppv_vec / pcat_n_samples\n",
    "    \n",
    "    tpr += tpr_i / pcat_n_samples\n",
    "    ppv += ppv_i / pcat_n_samples\n",
    "    f1 += f1_i / pcat_n_samples\n",
    "    \n",
    "print('PCAT tpr', tpr)\n",
    "print('PCAT ppv', ppv)\n",
    "print('PCAT f1', f1)"
   ]
  },
  {
   "cell_type": "code",
   "execution_count": null,
   "metadata": {},
   "outputs": [],
   "source": []
  },
  {
   "cell_type": "code",
   "execution_count": null,
   "metadata": {},
   "outputs": [],
   "source": []
  },
  {
   "cell_type": "code",
   "execution_count": null,
   "metadata": {},
   "outputs": [],
   "source": []
  },
  {
   "cell_type": "code",
   "execution_count": null,
   "metadata": {},
   "outputs": [],
   "source": []
  },
  {
   "cell_type": "code",
   "execution_count": null,
   "metadata": {},
   "outputs": [],
   "source": []
  },
  {
   "cell_type": "code",
   "execution_count": null,
   "metadata": {},
   "outputs": [],
   "source": []
  },
  {
   "cell_type": "code",
   "execution_count": 19,
   "metadata": {},
   "outputs": [],
   "source": [
    "from bliss.metrics import get_tpr_ppv"
   ]
  },
  {
   "cell_type": "code",
   "execution_count": 20,
   "metadata": {},
   "outputs": [],
   "source": [
    "nelec_per_nmgy = 856.09845 # TODO load this somewhere"
   ]
  },
  {
   "cell_type": "code",
   "execution_count": 62,
   "metadata": {},
   "outputs": [],
   "source": [
    "hubble_test_catalog = plotting.filter_catalog_by_locs(hubble_catalog, \n",
    "                                                      x0, x1, chunk_slen, chunk_slen)"
   ]
  },
  {
   "cell_type": "code",
   "execution_count": 63,
   "metadata": {},
   "outputs": [
    {
     "name": "stdout",
     "output_type": "stream",
     "text": [
      "True positive rate: 0.556\n",
      "Positive predictive value: 0.528\n",
      "F1: 0.541\n"
     ]
    }
   ],
   "source": [
    "hubble_mags = 22.5 - 2.5 * torch.log10(hubble_test_catalog['fluxes'][:, 0:1] / nelec_per_nmgy)\n",
    "map_mags = 22.5 - 2.5 * torch.log10(map_estimate['fluxes'][0, :, 0:1] / nelec_per_nmgy)\n",
    "\n",
    "\n",
    "tpr, ppv = starnet_metrics.get_tpr_ppv(\n",
    "            hubble_test_catalog['locs'],\n",
    "            hubble_mags,\n",
    "            map_estimate['locs'].squeeze(0),\n",
    "            map_mags,\n",
    "            slack=0.5,\n",
    "        )\n",
    "\n",
    "print('True positive rate: {:.3f}'.format(tpr))\n",
    "print('Positive predictive value: {:.3f}'.format(ppv))\n",
    "print('F1: {:.3f}'.format(2 * tpr * ppv / (tpr + ppv)))"
   ]
  },
  {
   "cell_type": "code",
   "execution_count": null,
   "metadata": {},
   "outputs": [],
   "source": []
  },
  {
   "cell_type": "code",
   "execution_count": null,
   "metadata": {},
   "outputs": [],
   "source": []
  },
  {
   "cell_type": "markdown",
   "metadata": {},
   "source": [
    "TODO: the stuff below still needs fixing"
   ]
  },
  {
   "cell_type": "markdown",
   "metadata": {},
   "source": [
    "# Get perfomrance metrics statistics as a function of magnitude"
   ]
  },
  {
   "cell_type": "code",
   "execution_count": 25,
   "metadata": {},
   "outputs": [],
   "source": [
    "from bliss.metrics import get_tpr_ppv"
   ]
  },
  {
   "cell_type": "code",
   "execution_count": 26,
   "metadata": {},
   "outputs": [],
   "source": [
    "def get_tpr_vec(\n",
    "    true_locs, true_mags, est_locs, est_mags, mag_bins\n",
    "):\n",
    "\n",
    "    # convert to magnitude\n",
    "    tpr_vec = np.zeros(len(mag_bins) - 1)\n",
    "    counts_vec = np.zeros(len(mag_bins) - 1)\n",
    "\n",
    "    for i in range(len(mag_bins) - 1):\n",
    "        which_true = (true_mags > mag_bins[i]) & (true_mags < mag_bins[i + 1])\n",
    "        which_true = which_true.squeeze()\n",
    "        counts_vec[i] = torch.sum(which_true)\n",
    "\n",
    "        tpr_vec[i] = get_tpr_ppv(\n",
    "            true_locs[which_true],\n",
    "            true_mags[which_true],\n",
    "            est_locs,\n",
    "            est_mags,\n",
    "            slack = 0.5\n",
    "        )[0]\n",
    "\n",
    "    return tpr_vec, mag_bins, counts_vec\n",
    "\n",
    "\n",
    "def get_ppv_vec(\n",
    "    true_locs, true_mags, est_locs, est_mags, mag_bins\n",
    "):\n",
    "\n",
    "    ppv_vec = np.zeros(len(mag_bins) - 1)\n",
    "    counts_vec = np.zeros(len(mag_bins) - 1)\n",
    "\n",
    "    for i in range(len(mag_bins) - 1):\n",
    "        which_est = (est_mags > mag_bins[i]) & (est_mags < mag_bins[i + 1])\n",
    "        which_est = which_est.squeeze()\n",
    "        \n",
    "        counts_vec[i] = torch.sum(which_est)\n",
    "        \n",
    "        ppv_vec[i] = get_tpr_ppv(\n",
    "                    true_locs,\n",
    "                    true_mags,\n",
    "                    est_locs[which_est],\n",
    "                    est_mags[which_est],\n",
    "                    slack = 0.5\n",
    "                )[1]\n",
    "    \n",
    "    return ppv_vec, mag_bins, counts_vec\n"
   ]
  },
  {
   "cell_type": "code",
   "execution_count": null,
   "metadata": {},
   "outputs": [],
   "source": []
  },
  {
   "cell_type": "code",
   "execution_count": 27,
   "metadata": {},
   "outputs": [],
   "source": [
    "# percentiles of the hubble magnitudes.\n",
    "percentiles = np.linspace(0, 1, 11) * 100\n",
    "mag_bins = np.percentile(hubble_mags.cpu(), percentiles)\n",
    "        \n",
    "# get tpr as function of magnitude\n",
    "tpr_vec  = \\\n",
    "    get_tpr_vec(hubble_test_catalog['locs'],\n",
    "                hubble_mags,\n",
    "                map_estimate['locs'].squeeze(0),\n",
    "                map_mags,\n",
    "                mag_bins)[0]\n",
    "\n",
    "# # get ppv as function of magnitude\n",
    "ppv_vec  = \\\n",
    "    get_ppv_vec(hubble_test_catalog['locs'],\n",
    "                hubble_mags,\n",
    "                map_estimate['locs'].squeeze(0),\n",
    "                map_mags,\n",
    "                mag_bins)[0]"
   ]
  },
  {
   "cell_type": "code",
   "execution_count": 28,
   "metadata": {},
   "outputs": [
    {
     "data": {
      "image/png": "[encoded data removed]",
      "text/plain": [
       "<Figure size 1080x360 with 2 Axes>"
      ]
     },
     "metadata": {
      "needs_background": "light"
     },
     "output_type": "display_data"
    }
   ],
   "source": [
    "fig, axarr = plt.subplots(1, 2, figsize=(15, 5))\n",
    "\n",
    "\n",
    "# plot summary statistics as function of hubble percentile\n",
    "percentiles = np.linspace(0, 1, 10 + 1) * 100\n",
    "axarr[0].plot(percentiles[:-1], tpr_vec, '-o')\n",
    "axarr[1].plot(percentiles[:-1], ppv_vec, '-o')\n",
    "\n",
    "# axis labels\n",
    "axarr[0].set_xlabel('Hubble magnitude')\n",
    "axarr[1].set_xlabel('Estimated magnitude')\n",
    "axarr[0].set_ylabel('True positive rate')\n",
    "axarr[1].set_ylabel('Positive predictive value')\n",
    "\n",
    "# replace percentiles with actual magnitudes\n",
    "for i in range(2): \n",
    "    axarr[i].set_xticks(percentiles[:-1])\n",
    "    axarr[i].set_xticklabels(np.round(mag_bins, 1)[:-1])\n"
   ]
  },
  {
   "cell_type": "code",
   "execution_count": 32,
   "metadata": {},
   "outputs": [
    {
     "data": {
      "image/png": "[encoded data removed]",
      "text/plain": [
       "<Figure size 432x288 with 1 Axes>"
      ]
     },
     "metadata": {
      "needs_background": "light"
     },
     "output_type": "display_data"
    }
   ],
   "source": [
    "# flux distributions\n",
    "bins = plt.hist(hubble_mags.cpu().numpy(), color = 'grey', bins = 50);\n",
    "plt.hist(map_mags.cpu().numpy(), color = 'red', alpha = 0.5, bins = bins[1]);"
   ]
  },
  {
   "cell_type": "code",
   "execution_count": null,
   "metadata": {},
   "outputs": [],
   "source": []
  },
  {
   "cell_type": "code",
   "execution_count": null,
   "metadata": {},
   "outputs": [],
   "source": [
    "# np.savez('../../data/true_hubble_m2', \n",
    "#          sdss_image = sdss_image.cpu(), \n",
    "#          true_locs = hubble_locs.cpu(), \n",
    "#          true_fluxes = hubble_fluxes.cpu(), \n",
    "#          nelec_per_nmgy = nelec_per_nmgy)"
   ]
  },
  {
   "cell_type": "code",
   "execution_count": null,
   "metadata": {},
   "outputs": [],
   "source": []
  },
  {
   "cell_type": "code",
   "execution_count": null,
   "metadata": {},
   "outputs": [],
   "source": []
  }
 ],
 "metadata": {
  "kernelspec": {
   "display_name": "bliss_py",
   "language": "python",
   "name": "bliss_py"
  },
  "language_info": {
   "codemirror_mode": {
    "name": "ipython",
    "version": 3
   },
   "file_extension": ".py",
   "mimetype": "text/x-python",
   "name": "python",
   "nbconvert_exporter": "python",
   "pygments_lexer": "ipython3",
   "version": "3.8.5"
  }
 },
 "nbformat": 4,
 "nbformat_minor": 2
}

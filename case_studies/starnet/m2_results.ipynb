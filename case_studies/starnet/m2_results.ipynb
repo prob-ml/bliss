{
 "cells": [
  {
   "cell_type": "code",
   "execution_count": null,
   "metadata": {},
   "outputs": [],
   "source": [
    "import torch\n",
    "import pytorch_lightning as pl\n",
    "\n",
    "import matplotlib.pyplot as plt\n",
    "%matplotlib inline\n",
    "\n",
    "print(torch.__version__)\n",
    "\n",
    "device = torch.device(\"cuda:0\" if torch.cuda.is_available() else \"cpu\")\n",
    "torch.cuda.set_device(device)\n",
    "\n",
    "from hydra.experimental import initialize, compose\n",
    "\n",
    "from bliss import sleep\n",
    "from bliss.datasets import simulated, sdss\n",
    "\n",
    "import numpy as np\n",
    "import time \n",
    "\n",
    "torch.manual_seed(184)\n",
    "np.random.seed(143)"
   ]
  },
  {
   "cell_type": "code",
   "execution_count": null,
   "metadata": {},
   "outputs": [],
   "source": [
    "import plotting"
   ]
  },
  {
   "cell_type": "code",
   "execution_count": null,
   "metadata": {},
   "outputs": [],
   "source": [
    "%env BLISS_HOME=/home/runingli/astronomy/celeste/"
   ]
  },
  {
   "cell_type": "markdown",
   "metadata": {},
   "source": [
    "# Get config file"
   ]
  },
  {
   "cell_type": "code",
   "execution_count": null,
   "metadata": {},
   "outputs": [],
   "source": [
    "overrides = dict(\n",
    "    model=\"m2\",\n",
    "    dataset=\"m2\",\n",
    "    training=\"m2\",\n",
    "    optimizer=\"m2\"\n",
    ")\n",
    "\n",
    "overrides = [f\"{key}={value}\" for key, value in overrides.items()]"
   ]
  },
  {
   "cell_type": "code",
   "execution_count": null,
   "metadata": {},
   "outputs": [],
   "source": [
    "with initialize(config_path=\"../../config\"):\n",
    "    cfg = compose(\"config\", overrides=overrides)"
   ]
  },
  {
   "cell_type": "code",
   "execution_count": null,
   "metadata": {},
   "outputs": [],
   "source": []
  },
  {
   "cell_type": "markdown",
   "metadata": {},
   "source": [
    "# Load dataset and encoder"
   ]
  },
  {
   "cell_type": "code",
   "execution_count": null,
   "metadata": {},
   "outputs": [],
   "source": [
    "dataset = simulated.SimulatedDataset(cfg)\n",
    "sleep_net = sleep.SleepPhase(cfg)\n",
    "trainer = pl.Trainer(**cfg.training.trainer)"
   ]
  },
  {
   "cell_type": "code",
   "execution_count": null,
   "metadata": {},
   "outputs": [],
   "source": []
  },
  {
   "cell_type": "markdown",
   "metadata": {},
   "source": [
    "### Check priors"
   ]
  },
  {
   "cell_type": "code",
   "execution_count": null,
   "metadata": {},
   "outputs": [],
   "source": [
    "# prior on n-stars\n",
    "\n",
    "%matplotlib inline\n",
    "\n",
    "plt.hist(dataset.get_batch()['n_sources'].flatten().cpu().numpy(), \n",
    "         bins=np.arange(7, step = 0.5), \n",
    "         density = True);\n",
    "\n",
    "plt.xlabel('n-sources per tile')"
   ]
  },
  {
   "cell_type": "code",
   "execution_count": null,
   "metadata": {},
   "outputs": [],
   "source": [
    "# prior on fluxes\n",
    "\n",
    "%matplotlib inline\n",
    "\n",
    "for b in range(2): \n",
    "    \n",
    "    fluxes = dataset.get_batch()['fluxes'][:, :, :, b]\n",
    "    fluxes = fluxes.flatten()\n",
    "    fluxes = fluxes[fluxes > 0]\n",
    "\n",
    "\n",
    "    plt.hist(np.log10(fluxes.cpu().numpy()), \n",
    "                     density = True, \n",
    "                     alpha = 0.5, \n",
    "                     label = 'band-' + str(b), \n",
    "                     bins = 50)\n",
    "    \n",
    "plt.legend()\n",
    "\n",
    "plt.xlabel('log10(fluxes)')"
   ]
  },
  {
   "cell_type": "code",
   "execution_count": null,
   "metadata": {},
   "outputs": [],
   "source": [
    "# prior on colors\n",
    "\n",
    "%matplotlib inline\n",
    "\n",
    "plt.figure()\n",
    "\n",
    "fluxes = dataset.get_batch()['fluxes']\n",
    "colors = (torch.log10(fluxes[:, :, :, 1]) - \n",
    "           torch.log10(fluxes[:, :, :, 0])).flatten()\n",
    "colors = colors[fluxes[:, :, :, 0].flatten() > 0]\n",
    "\n",
    "bins = plt.hist(colors.cpu().numpy(), \n",
    "                 density = True, bins = 50)\n",
    "\n",
    "plt.xlabel('color')"
   ]
  },
  {
   "cell_type": "code",
   "execution_count": null,
   "metadata": {},
   "outputs": [],
   "source": []
  },
  {
   "cell_type": "code",
   "execution_count": null,
   "metadata": {},
   "outputs": [],
   "source": []
  },
  {
   "cell_type": "markdown",
   "metadata": {},
   "source": [
    "# Plot a simulated image"
   ]
  },
  {
   "cell_type": "code",
   "execution_count": null,
   "metadata": {},
   "outputs": [],
   "source": [
    "batch = dataset.get_batch()"
   ]
  },
  {
   "cell_type": "code",
   "execution_count": null,
   "metadata": {},
   "outputs": [],
   "source": [
    "%matplotlib inline\n",
    "\n",
    "image_indx = 0\n",
    "\n",
    "image = batch['images'][image_indx, 0].cpu()\n",
    "\n",
    "f, axarr = plt.subplots(1, 1, figsize=(5, 5))\n",
    "plotting.plot_image(axarr, image)"
   ]
  },
  {
   "cell_type": "markdown",
   "metadata": {},
   "source": [
    "### some subimages"
   ]
  },
  {
   "cell_type": "code",
   "execution_count": null,
   "metadata": {},
   "outputs": [],
   "source": [
    "slen = dataset.image_decoder.slen\n",
    "border_padding = dataset.image_decoder.border_padding"
   ]
  },
  {
   "cell_type": "code",
   "execution_count": null,
   "metadata": {},
   "outputs": [],
   "source": [
    "from bliss.models.encoder import get_full_params"
   ]
  },
  {
   "cell_type": "code",
   "execution_count": null,
   "metadata": {},
   "outputs": [],
   "source": [
    "# get locations on the full image\n",
    "full_params = get_full_params(slen, \n",
    "                              dict({'n_sources': batch['n_sources'][0:1], \n",
    "                                    'locs': batch['locs'][0:1]}))\n",
    "\n",
    "locs_full = full_params['locs']"
   ]
  },
  {
   "cell_type": "code",
   "execution_count": null,
   "metadata": {},
   "outputs": [],
   "source": [
    "f, axarr = plt.subplots(2, 5, figsize=(16, 8))\n",
    "\n",
    "subimage_slen = 10\n",
    "indx_vec = np.arange(0, slen, subimage_slen)\n",
    "\n",
    "for i in range(10): \n",
    "    x0 = np.random.choice(indx_vec)\n",
    "    x1 = np.random.choice(indx_vec)\n",
    "    \n",
    "    ax = axarr[i // 5,  i % 5]\n",
    "    \n",
    "    plotting.plot_locations(locs_full.squeeze(), slen, border_padding, \n",
    "                            ax, marker = 'o', color = 'b')\n",
    "    \n",
    "    plotting.plot_image(ax, image, \n",
    "               x0, x1, subimage_slen, subimage_slen)\n"
   ]
  },
  {
   "cell_type": "code",
   "execution_count": null,
   "metadata": {},
   "outputs": [],
   "source": []
  },
  {
   "cell_type": "markdown",
   "metadata": {},
   "source": [
    "# Train!"
   ]
  },
  {
   "cell_type": "code",
   "execution_count": null,
   "metadata": {},
   "outputs": [],
   "source": [
    "t0 = time.time()\n",
    "trainer.fit(sleep_net, datamodule = dataset)\n",
    "torch.save(sleep_net.image_encoder.state_dict(), './starnet')\n",
    "\n",
    "print('TOTAL TIME ELAPSED: {:.3f}secs'.format(time.time() - t0))\n",
    "\n",
    "# sleep_net.image_encoder.load_state_dict(torch.load('./starnet')); "
   ]
  },
  {
   "cell_type": "code",
   "execution_count": null,
   "metadata": {},
   "outputs": [],
   "source": [
    "sleep_net.image_encoder.to(device);\n",
    "sleep_net.image_encoder.eval(); "
   ]
  },
  {
   "cell_type": "code",
   "execution_count": null,
   "metadata": {},
   "outputs": [],
   "source": []
  },
  {
   "cell_type": "markdown",
   "metadata": {},
   "source": [
    "# Results on SDSS data"
   ]
  },
  {
   "cell_type": "markdown",
   "metadata": {},
   "source": [
    "### Load SDSS data"
   ]
  },
  {
   "cell_type": "code",
   "execution_count": null,
   "metadata": {},
   "outputs": [],
   "source": [
    "import os"
   ]
  },
  {
   "cell_type": "code",
   "execution_count": null,
   "metadata": {},
   "outputs": [],
   "source": [
    "hubble_data = np.load(os.path.join('../../data/true_hubble_m2.npz'))"
   ]
  },
  {
   "cell_type": "code",
   "execution_count": null,
   "metadata": {},
   "outputs": [],
   "source": [
    "sdss_image = torch.from_numpy(hubble_data[\"sdss_image\"]).to(device)\n",
    "print(sdss_image.shape)\n",
    "\n",
    "# the true parameters\n",
    "hubble_locs = torch.from_numpy(hubble_data[\"true_locs\"]).to(device)\n",
    "hubble_fluxes = torch.from_numpy(hubble_data[\"true_fluxes\"]).to(device)\n",
    "nelec_per_nmgy = torch.from_numpy(hubble_data[\"nelec_per_nmgy\"]).to(device)"
   ]
  },
  {
   "cell_type": "markdown",
   "metadata": {},
   "source": [
    "### get map estimates"
   ]
  },
  {
   "cell_type": "code",
   "execution_count": null,
   "metadata": {},
   "outputs": [],
   "source": [
    "map_estimate = sleep_net.image_encoder.map_estimate(dataset.image_decoder.slen, \n",
    "                                                    sdss_image.unsqueeze(0))\n",
    "\n",
    "map_nstars = map_estimate['n_sources'].detach()\n",
    "map_locs = map_estimate['locs'].detach()\n",
    "map_log_fluxes = map_estimate['log_fluxes'].detach()\n",
    "\n",
    "# all galaxies should be off\n",
    "assert torch.all(map_estimate['galaxy_bool'] == 0.)"
   ]
  },
  {
   "cell_type": "code",
   "execution_count": null,
   "metadata": {},
   "outputs": [],
   "source": [
    "print(map_nstars)"
   ]
  },
  {
   "cell_type": "markdown",
   "metadata": {},
   "source": [
    "### Example subimages"
   ]
  },
  {
   "cell_type": "code",
   "execution_count": null,
   "metadata": {},
   "outputs": [],
   "source": [
    "f, axarr = plt.subplots(2, 5, figsize=(24, 8))\n",
    "\n",
    "subimage_slen = 10\n",
    "indx_vec = np.arange(0, slen, subimage_slen)\n",
    "\n",
    "for i in range(10): \n",
    "    x0 = np.random.choice(indx_vec)\n",
    "    x1 = np.random.choice(indx_vec)\n",
    "    \n",
    "    ax = axarr[i // 5,  i % 5]\n",
    "    \n",
    "    plotting.plot_locations(hubble_locs, slen, border_padding, \n",
    "                            ax, marker = 'o', color = 'b')\n",
    "    plotting.plot_locations(map_locs.squeeze(), slen, border_padding, \n",
    "                            ax, marker = 'x', color = 'red')\n",
    "    \n",
    "    im = plotting.plot_image(ax, sdss_image[0], \n",
    "               x0, x1, subimage_slen, subimage_slen)\n",
    "    \n",
    "    f.colorbar(im, ax = ax)"
   ]
  },
  {
   "cell_type": "code",
   "execution_count": null,
   "metadata": {},
   "outputs": [],
   "source": []
  },
  {
   "cell_type": "markdown",
   "metadata": {},
   "source": [
    "### Summary statistics"
   ]
  },
  {
   "cell_type": "code",
   "execution_count": null,
   "metadata": {},
   "outputs": [],
   "source": [
    "from bliss.metrics import get_tpr_ppv"
   ]
  },
  {
   "cell_type": "code",
   "execution_count": null,
   "metadata": {},
   "outputs": [],
   "source": [
    "hubble_mags = 22.5 - 2.5 * torch.log10(hubble_fluxes[:, 0:1] / nelec_per_nmgy)\n",
    "map_mags = 22.5 - 2.5 * torch.log10(map_log_fluxes.exp()[0, :, 0:1] / nelec_per_nmgy)\n",
    "\n",
    "\n",
    "tpr, ppv = get_tpr_ppv(\n",
    "            hubble_locs * slen,\n",
    "            hubble_mags,\n",
    "            map_locs.squeeze() * slen,\n",
    "            map_mags,\n",
    "            slack=0.5,\n",
    "        )\n",
    "\n",
    "print('True positive rate: {:.3f}'.format(tpr))\n",
    "print('Positive predictive value: {:.3f}'.format(ppv))\n",
    "print('F1: {:.3f}'.format(2 * tpr * ppv / (tpr + ppv)))"
   ]
  },
  {
   "cell_type": "code",
   "execution_count": null,
   "metadata": {},
   "outputs": [],
   "source": []
  },
  {
   "cell_type": "markdown",
   "metadata": {},
   "source": [
    "# Get summary statistics as a function of magnitude"
   ]
  },
  {
   "cell_type": "code",
   "execution_count": null,
   "metadata": {},
   "outputs": [],
   "source": [
    "def get_tpr_vec(\n",
    "    true_locs, true_mags, est_locs, est_mags, mag_bins\n",
    "):\n",
    "\n",
    "    # convert to magnitude\n",
    "    tpr_vec = np.zeros(len(mag_bins) - 1)\n",
    "    counts_vec = np.zeros(len(mag_bins) - 1)\n",
    "\n",
    "    for i in range(len(mag_bins) - 1):\n",
    "        which_true = (true_mags > mag_bins[i]) & (true_mags < mag_bins[i + 1])\n",
    "        which_true = which_true.squeeze()\n",
    "        counts_vec[i] = torch.sum(which_true)\n",
    "\n",
    "        tpr_vec[i] = get_tpr_ppv(\n",
    "            true_locs[which_true],\n",
    "            true_mags[which_true],\n",
    "            est_locs,\n",
    "            est_mags,\n",
    "            slack = 0.5\n",
    "        )[0]\n",
    "\n",
    "    return tpr_vec, mag_bins, counts_vec\n",
    "\n",
    "\n",
    "def get_ppv_vec(\n",
    "    true_locs, true_mags, est_locs, est_mags, mag_bins\n",
    "):\n",
    "\n",
    "    ppv_vec = np.zeros(len(mag_bins) - 1)\n",
    "    counts_vec = np.zeros(len(mag_bins) - 1)\n",
    "\n",
    "    for i in range(len(mag_bins) - 1):\n",
    "        which_est = (est_mags > mag_bins[i]) & (est_mags < mag_bins[i + 1])\n",
    "        which_est = which_est.squeeze()\n",
    "        \n",
    "        counts_vec[i] = torch.sum(which_est)\n",
    "        \n",
    "        ppv_vec[i] = get_tpr_ppv(\n",
    "                    true_locs,\n",
    "                    true_mags,\n",
    "                    est_locs[which_est],\n",
    "                    est_mags[which_est],\n",
    "                    slack = 0.5\n",
    "                )[1]\n",
    "    \n",
    "    return ppv_vec, mag_bins, counts_vec\n"
   ]
  },
  {
   "cell_type": "code",
   "execution_count": null,
   "metadata": {},
   "outputs": [],
   "source": []
  },
  {
   "cell_type": "code",
   "execution_count": null,
   "metadata": {},
   "outputs": [],
   "source": [
    "# percentiles of the hubble magnitudes.\n",
    "percentiles = np.linspace(0, 1, 11) * 100\n",
    "mag_bins = np.percentile(hubble_mags.cpu(), percentiles)\n",
    "        \n",
    "# get tpr as function of magnitude\n",
    "tpr_vec  = \\\n",
    "    get_tpr_vec(hubble_locs * slen,\n",
    "            hubble_mags,\n",
    "            map_locs.squeeze() * slen,\n",
    "            map_mags, \n",
    "                mag_bins)[0]\n",
    "\n",
    "# # get ppv as function of magnitude\n",
    "ppv_vec  = \\\n",
    "    get_ppv_vec(hubble_locs * slen,\n",
    "            hubble_mags,\n",
    "            map_locs.squeeze() * slen,\n",
    "            map_mags, \n",
    "                   mag_bins)[0]"
   ]
  },
  {
   "cell_type": "code",
   "execution_count": null,
   "metadata": {},
   "outputs": [],
   "source": [
    "fig, axarr = plt.subplots(1, 2, figsize=(15, 5))\n",
    "\n",
    "\n",
    "# plot summary statistics as function of hubble percentile\n",
    "percentiles = np.linspace(0, 1, 10 + 1) * 100\n",
    "axarr[0].plot(percentiles[:-1], tpr_vec, '-o')\n",
    "axarr[1].plot(percentiles[:-1], ppv_vec, '-o')\n",
    "\n",
    "# axis labels\n",
    "axarr[0].set_xlabel('Hubble magnitude')\n",
    "axarr[1].set_xlabel('Estimated magnitude')\n",
    "axarr[0].set_ylabel('True positive rate')\n",
    "axarr[1].set_ylabel('Positive predictive value')\n",
    "\n",
    "# replace percentiles with actual magnitudes\n",
    "for i in range(2): \n",
    "    axarr[i].set_xticks(percentiles[:-1])\n",
    "    axarr[i].set_xticklabels(np.round(mag_bins, 1)[:-1])\n"
   ]
  },
  {
   "cell_type": "code",
   "execution_count": null,
   "metadata": {},
   "outputs": [],
   "source": [
    "# flux distributions\n",
    "bins = plt.hist(hubble_mags.cpu().numpy(), color = 'grey', bins = 50);\n",
    "plt.hist(map_mags.cpu().numpy(), color = 'red', alpha = 0.5, bins = bins[1]);"
   ]
  },
  {
   "cell_type": "code",
   "execution_count": null,
   "metadata": {},
   "outputs": [],
   "source": []
  },
  {
   "cell_type": "code",
   "execution_count": null,
   "metadata": {},
   "outputs": [],
   "source": [
    "# np.savez('../../data/true_hubble_m2', \n",
    "#          sdss_image = sdss_image.cpu(), \n",
    "#          true_locs = hubble_locs.cpu(), \n",
    "#          true_fluxes = hubble_fluxes.cpu(), \n",
    "#          nelec_per_nmgy = nelec_per_nmgy)"
   ]
  },
  {
   "cell_type": "code",
   "execution_count": null,
   "metadata": {},
   "outputs": [],
   "source": []
  },
  {
   "cell_type": "code",
   "execution_count": null,
   "metadata": {},
   "outputs": [],
   "source": []
  }
 ],
 "metadata": {
  "kernelspec": {
   "display_name": "bliss_py",
   "language": "python",
   "name": "bliss_py"
  },
  "language_info": {
   "codemirror_mode": {
    "name": "ipython",
    "version": 3
   },
   "file_extension": ".py",
   "mimetype": "text/x-python",
   "name": "python",
   "nbconvert_exporter": "python",
   "pygments_lexer": "ipython3",
   "version": "3.8.5"
  }
 },
 "nbformat": 4,
 "nbformat_minor": 2
}

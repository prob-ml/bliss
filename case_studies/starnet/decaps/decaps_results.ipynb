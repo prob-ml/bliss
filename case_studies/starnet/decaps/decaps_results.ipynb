{
 "cells": [
  {
   "cell_type": "code",
   "execution_count": 1,
   "metadata": {},
   "outputs": [
    {
     "name": "stdout",
     "output_type": "stream",
     "text": [
      "1.7.1\n",
      "cuda:6\n"
     ]
    }
   ],
   "source": [
    "import torch\n",
    "import pytorch_lightning as pl\n",
    "\n",
    "device = torch.device(\"cuda:6\" if torch.cuda.is_available() else \"cpu\")\n",
    "torch.cuda.set_device(device)\n",
    "\n",
    "from hydra.experimental import initialize, compose\n",
    "\n",
    "import numpy as np\n",
    "import time \n",
    "from copy import deepcopy\n",
    "\n",
    "import matplotlib.pyplot as plt\n",
    "%matplotlib inline\n",
    "\n",
    "torch.manual_seed(184)\n",
    "np.random.seed(143)\n",
    "\n",
    "print(torch.__version__)\n",
    "print(device)"
   ]
  },
  {
   "cell_type": "code",
   "execution_count": 2,
   "metadata": {},
   "outputs": [],
   "source": [
    "from bliss import sleep\n",
    "from bliss.datasets import simulated"
   ]
  },
  {
   "cell_type": "code",
   "execution_count": 3,
   "metadata": {},
   "outputs": [],
   "source": [
    "import sys\n",
    "sys.path.append('../starnet_utils/')\n",
    "import m2_data\n",
    "import plotting\n",
    "import starnet_metrics\n",
    "import daophot_utils\n",
    "import utils"
   ]
  },
  {
   "cell_type": "code",
   "execution_count": 4,
   "metadata": {},
   "outputs": [],
   "source": [
    "%matplotlib inline"
   ]
  },
  {
   "cell_type": "code",
   "execution_count": null,
   "metadata": {},
   "outputs": [],
   "source": []
  },
  {
   "cell_type": "markdown",
   "metadata": {},
   "source": [
    "# Load configs and starnet model"
   ]
  },
  {
   "cell_type": "code",
   "execution_count": 5,
   "metadata": {},
   "outputs": [],
   "source": [
    "overrides = dict(\n",
    "    model=\"sleep_m2\",\n",
    "    dataset=\"m2\",\n",
    "    training=\"m2\",\n",
    "    optimizer=\"m2\"\n",
    ")\n",
    "\n",
    "overrides = [f\"{key}={value}\" for key, value in overrides.items()]"
   ]
  },
  {
   "cell_type": "code",
   "execution_count": 6,
   "metadata": {
    "scrolled": true
   },
   "outputs": [
    {
     "name": "stderr",
     "output_type": "stream",
     "text": [
      "/home/runingli/anaconda3/envs/bliss_py/lib/python3.8/site-packages/hydra/experimental/initialize.py:35: UserWarning: hydra.experimental.initialize() is no longer experimental. Use hydra.initialize()\n",
      "  warnings.warn(\n",
      "/home/runingli/anaconda3/envs/bliss_py/lib/python3.8/site-packages/hydra/experimental/compose.py:16: UserWarning: hydra.experimental.compose() is no longer experimental. Use hydra.compose()\n",
      "  warnings.warn(\n"
     ]
    }
   ],
   "source": [
    "with initialize(config_path=\"../../../config\"):\n",
    "    cfg = compose(\"config\", overrides=overrides)"
   ]
  },
  {
   "cell_type": "code",
   "execution_count": 7,
   "metadata": {},
   "outputs": [],
   "source": [
    "cfg.model.decoder.kwargs.update({'n_bands': 1, \n",
    "                             'slen': 300, \n",
    "                             'tile_slen': 10, \n",
    "                             'ptile_slen': 30, \n",
    "                             'border_padding': 5, \n",
    "                             'mean_sources': 0.5,\n",
    "                             'background_values': [680], \n",
    "                             'psf_params_file': './zband_psf_simple.npy'})\n",
    "\n",
    "cfg.model.encoder.kwargs.update({'ptile_slen': 20})\n",
    "\n",
    "cfg.dataset.kwargs.update({'n_batches': 1, 'batch_size': 1})\n"
   ]
  },
  {
   "cell_type": "code",
   "execution_count": null,
   "metadata": {},
   "outputs": [],
   "source": []
  },
  {
   "cell_type": "code",
   "execution_count": 8,
   "metadata": {
    "scrolled": true
   },
   "outputs": [],
   "source": [
    "model_filename = './fits/tmp'\n",
    "\n",
    "sleep_net = sleep.SleepPhase(**cfg.model.kwargs)\n",
    "sleep_net.image_encoder.load_state_dict(torch.load(model_filename)); "
   ]
  },
  {
   "cell_type": "code",
   "execution_count": 9,
   "metadata": {},
   "outputs": [],
   "source": [
    "sleep_net.image_encoder.to(device);\n",
    "sleep_net.image_encoder.eval(); "
   ]
  },
  {
   "cell_type": "code",
   "execution_count": 10,
   "metadata": {},
   "outputs": [],
   "source": [
    "border_padding = sleep_net.image_encoder.border_padding"
   ]
  },
  {
   "cell_type": "code",
   "execution_count": null,
   "metadata": {},
   "outputs": [],
   "source": []
  },
  {
   "cell_type": "code",
   "execution_count": null,
   "metadata": {},
   "outputs": [],
   "source": []
  },
  {
   "cell_type": "markdown",
   "metadata": {},
   "source": [
    "# load data"
   ]
  },
  {
   "cell_type": "code",
   "execution_count": 11,
   "metadata": {},
   "outputs": [],
   "source": [
    "# from astropy.io import fits\n",
    "# hdul = fits.open('../../../../decaps/data/decaps_l0_b0_hdu08_z')\n",
    "\n",
    "# image = torch.Tensor(hdul[1].data).unsqueeze(0).unsqueeze(0)\n",
    "\n",
    "# slen = 300\n",
    "# x0 = 20\n",
    "# x1 = 20"
   ]
  },
  {
   "cell_type": "code",
   "execution_count": 37,
   "metadata": {},
   "outputs": [],
   "source": [
    "dataset = simulated.SimulatedDataset(**cfg.dataset.kwargs)\n",
    "out = dataset.get_batch()\n",
    "image = out['images']\n",
    "\n",
    "slen = 300\n",
    "x0 = border_padding\n",
    "x1 = border_padding"
   ]
  },
  {
   "cell_type": "code",
   "execution_count": null,
   "metadata": {},
   "outputs": [],
   "source": []
  },
  {
   "cell_type": "code",
   "execution_count": 38,
   "metadata": {},
   "outputs": [],
   "source": [
    "test_image = plotting.crop_image(image, \n",
    "                                 x0 - border_padding, \n",
    "                                 x1 - border_padding,\n",
    "                                 slen + 2 * border_padding,\n",
    "                                 slen + 2 * border_padding)"
   ]
  },
  {
   "cell_type": "code",
   "execution_count": 39,
   "metadata": {},
   "outputs": [
    {
     "data": {
      "text/plain": [
       "torch.Size([1, 1, 310, 310])"
      ]
     },
     "execution_count": 39,
     "metadata": {},
     "output_type": "execute_result"
    }
   ],
   "source": [
    "test_image.shape"
   ]
  },
  {
   "cell_type": "code",
   "execution_count": 40,
   "metadata": {},
   "outputs": [
    {
     "data": {
      "text/plain": [
       "<matplotlib.colorbar.Colorbar at 0x7f55d2e97550>"
      ]
     },
     "execution_count": 40,
     "metadata": {},
     "output_type": "execute_result"
    },
    {
     "data": {
      "image/png": "[encoded data removed]",
      "text/plain": [
       "<Figure size 288x288 with 2 Axes>"
      ]
     },
     "metadata": {
      "needs_background": "light"
     },
     "output_type": "display_data"
    }
   ],
   "source": [
    "plt.matshow(test_image.cpu().numpy()[0, 0])\n",
    "plt.colorbar()"
   ]
  },
  {
   "cell_type": "code",
   "execution_count": null,
   "metadata": {},
   "outputs": [],
   "source": []
  },
  {
   "cell_type": "code",
   "execution_count": 41,
   "metadata": {},
   "outputs": [
    {
     "data": {
      "text/plain": [
       "array([0, 2, 4, 6])"
      ]
     },
     "execution_count": 41,
     "metadata": {},
     "output_type": "execute_result"
    }
   ],
   "source": [
    "np.arange(10)[0:8:2]"
   ]
  },
  {
   "cell_type": "code",
   "execution_count": 42,
   "metadata": {},
   "outputs": [],
   "source": [
    "tmp = test_image[0, 0]"
   ]
  },
  {
   "cell_type": "code",
   "execution_count": 43,
   "metadata": {},
   "outputs": [],
   "source": [
    "s = 4\n",
    "out = tmp[0:tmp.shape[0]:s][:, 0:tmp.shape[0]:s]"
   ]
  },
  {
   "cell_type": "code",
   "execution_count": 44,
   "metadata": {},
   "outputs": [
    {
     "data": {
      "text/plain": [
       "(array([5.944e+03, 6.200e+01, 2.400e+01, 9.000e+00, 1.000e+01, 7.000e+00,\n",
       "        1.000e+00, 4.000e+00, 1.000e+00, 4.000e+00, 5.000e+00, 3.000e+00,\n",
       "        0.000e+00, 1.000e+00, 3.000e+00, 1.000e+00, 0.000e+00, 1.000e+00,\n",
       "        1.000e+00, 0.000e+00, 0.000e+00, 0.000e+00, 1.000e+00, 1.000e+00,\n",
       "        0.000e+00, 0.000e+00, 0.000e+00, 0.000e+00, 0.000e+00, 1.000e+00]),\n",
       " array([  586.05865,  1726.6539 ,  2867.2493 ,  4007.8445 ,  5148.44   ,\n",
       "         6289.035  ,  7429.6304 ,  8570.226  ,  9710.821  , 10851.416  ,\n",
       "        11992.012  , 13132.607  , 14273.202  , 15413.798  , 16554.393  ,\n",
       "        17694.988  , 18835.584  , 19976.18   , 21116.773  , 22257.37   ,\n",
       "        23397.965  , 24538.56   , 25679.156  , 26819.75   , 27960.346  ,\n",
       "        29100.941  , 30241.537  , 31382.133  , 32522.727  , 33663.324  ,\n",
       "        34803.918  ], dtype=float32),\n",
       " <BarContainer object of 30 artists>)"
      ]
     },
     "execution_count": 44,
     "metadata": {},
     "output_type": "execute_result"
    },
    {
     "data": {
      "image/png": "[encoded data removed]",
      "text/plain": [
       "<Figure size 432x288 with 1 Axes>"
      ]
     },
     "metadata": {
      "needs_background": "light"
     },
     "output_type": "display_data"
    }
   ],
   "source": [
    "plt.hist(out.flatten().cpu().numpy(), bins = 30)"
   ]
  },
  {
   "cell_type": "code",
   "execution_count": 45,
   "metadata": {},
   "outputs": [
    {
     "data": {
      "text/plain": [
       "{'whiskers': [<matplotlib.lines.Line2D at 0x7f5610139b20>,\n",
       "  <matplotlib.lines.Line2D at 0x7f5610139eb0>],\n",
       " 'caps': [<matplotlib.lines.Line2D at 0x7f55cf111280>,\n",
       "  <matplotlib.lines.Line2D at 0x7f55cf111610>],\n",
       " 'boxes': [<matplotlib.lines.Line2D at 0x7f5610139790>],\n",
       " 'medians': [<matplotlib.lines.Line2D at 0x7f55cf1119a0>],\n",
       " 'fliers': [<matplotlib.lines.Line2D at 0x7f55cf111d30>],\n",
       " 'means': []}"
      ]
     },
     "execution_count": 45,
     "metadata": {},
     "output_type": "execute_result"
    },
    {
     "data": {
      "image/png": "[encoded data removed]",
      "text/plain": [
       "<Figure size 432x288 with 1 Axes>"
      ]
     },
     "metadata": {
      "needs_background": "light"
     },
     "output_type": "display_data"
    }
   ],
   "source": [
    "plt.boxplot(out.flatten().cpu().numpy())"
   ]
  },
  {
   "cell_type": "code",
   "execution_count": 46,
   "metadata": {},
   "outputs": [
    {
     "data": {
      "text/plain": [
       "689.8603"
      ]
     },
     "execution_count": 46,
     "metadata": {},
     "output_type": "execute_result"
    }
   ],
   "source": [
    "np.median(out.cpu())"
   ]
  },
  {
   "cell_type": "code",
   "execution_count": null,
   "metadata": {},
   "outputs": [],
   "source": []
  },
  {
   "cell_type": "code",
   "execution_count": null,
   "metadata": {},
   "outputs": [],
   "source": []
  },
  {
   "cell_type": "code",
   "execution_count": null,
   "metadata": {},
   "outputs": [],
   "source": []
  },
  {
   "cell_type": "code",
   "execution_count": null,
   "metadata": {},
   "outputs": [],
   "source": []
  },
  {
   "cell_type": "code",
   "execution_count": null,
   "metadata": {},
   "outputs": [],
   "source": []
  },
  {
   "cell_type": "markdown",
   "metadata": {},
   "source": [
    "# Get starnet map estimates"
   ]
  },
  {
   "cell_type": "code",
   "execution_count": 47,
   "metadata": {},
   "outputs": [],
   "source": [
    "map_estimate = sleep_net.image_encoder.map_estimate(test_image.to(device), slen)\n",
    "\n",
    "\n",
    "# detach \n",
    "for key in map_estimate.keys(): \n",
    "    map_estimate[key] = map_estimate[key].squeeze(0).cpu().detach()\n",
    "\n",
    "# reparameterize locations: these are coordinates on the frame\n",
    "map_estimate['locs'] = map_estimate['locs'] * slen + \\\n",
    "    torch.Tensor([[x0, x1]])\n",
    "\n",
    "# all galaxies should be off\n",
    "assert torch.all(map_estimate['galaxy_bool'] == 0.)"
   ]
  },
  {
   "cell_type": "code",
   "execution_count": null,
   "metadata": {},
   "outputs": [],
   "source": []
  },
  {
   "cell_type": "markdown",
   "metadata": {},
   "source": [
    "### Check the coverage"
   ]
  },
  {
   "cell_type": "code",
   "execution_count": 48,
   "metadata": {},
   "outputs": [
    {
     "data": {
      "text/plain": [
       "<matplotlib.colorbar.Colorbar at 0x7f55d2d503a0>"
      ]
     },
     "execution_count": 48,
     "metadata": {},
     "output_type": "execute_result"
    },
    {
     "data": {
      "image/png": "[encoded data removed]",
      "text/plain": [
       "<Figure size 720x432 with 2 Axes>"
      ]
     },
     "metadata": {
      "needs_background": "light"
     },
     "output_type": "display_data"
    }
   ],
   "source": [
    "f, ax = plt.subplots(1, 1, figsize=(10, 6))\n",
    "\n",
    "\n",
    "plotting.plot_locations(\n",
    "        map_estimate['locs'], \n",
    "        ax,\n",
    "        marker='.',\n",
    "        color='b', \n",
    "    )\n",
    "\n",
    "im = plotting.plot_image(ax, image[0, 0])\n",
    "\n",
    "f.colorbar(im, ax = ax)"
   ]
  },
  {
   "cell_type": "code",
   "execution_count": 49,
   "metadata": {},
   "outputs": [
    {
     "data": {
      "text/plain": [
       "tensor([[ 11.1934,  41.1577],\n",
       "        [  6.1710,  68.9211],\n",
       "        [  6.6857,  75.5631],\n",
       "        [ 13.3027,  79.2754],\n",
       "        [  7.4204, 155.9059],\n",
       "        [ 12.0058, 176.0786],\n",
       "        [ 11.4098, 193.2487],\n",
       "        [  7.2964, 209.4993],\n",
       "        [ 12.1602, 238.5429],\n",
       "        [ 12.8562, 249.6911],\n",
       "        [  6.7436, 282.4698],\n",
       "        [ 13.2213, 283.0246],\n",
       "        [ 24.5079,  45.5825],\n",
       "        [ 21.4306,  93.8940],\n",
       "        [ 16.2554, 131.6161],\n",
       "        [ 20.9142, 130.1030],\n",
       "        [ 20.6812, 155.9224],\n",
       "        [ 15.7871, 174.2100],\n",
       "        [ 19.5440, 176.8042],\n",
       "        [ 22.9988, 175.3291],\n",
       "        [ 20.4601, 207.0539],\n",
       "        [ 23.0270, 236.2943],\n",
       "        [ 15.8345, 265.7300],\n",
       "        [ 20.4727, 269.5486],\n",
       "        [ 19.8765, 296.0333],\n",
       "        [ 28.3465,   7.0592],\n",
       "        [ 28.1164,  71.4195],\n",
       "        [ 33.7164,  93.3181],\n",
       "        [ 34.6718,  86.2675],\n",
       "        [ 28.3537, 133.9576],\n",
       "        [ 33.0780, 128.2207],\n",
       "        [ 32.1659, 160.9187],\n",
       "        [ 34.3987, 156.5132],\n",
       "        [ 33.9365, 174.7533],\n",
       "        [ 31.7275, 181.4943],\n",
       "        [ 32.9281, 178.6359],\n",
       "        [ 26.8784, 197.0677],\n",
       "        [ 30.3173, 195.5669],\n",
       "        [ 32.9358, 220.4744],\n",
       "        [ 26.3483, 228.3610],\n",
       "        [ 31.0637, 244.4542],\n",
       "        [ 32.0336, 252.3915],\n",
       "        [ 26.6507, 283.5906],\n",
       "        [ 34.3279, 298.2676],\n",
       "        [ 37.7805,  12.3937],\n",
       "        [ 36.0795,  51.5216],\n",
       "        [ 36.5333,  81.4383],\n",
       "        [ 36.0252,  96.6897],\n",
       "        [ 37.4776, 121.5613],\n",
       "        [ 41.8540, 117.5172],\n",
       "        [ 39.9542, 162.0574],\n",
       "        [ 42.2322, 179.9801],\n",
       "        [ 36.3723, 225.6963],\n",
       "        [ 43.1838, 245.8518],\n",
       "        [ 40.5397, 260.1618],\n",
       "        [ 36.6314, 283.6555],\n",
       "        [ 47.0033,  27.5423],\n",
       "        [ 47.3148,  41.2523],\n",
       "        [ 46.3892,  63.0758],\n",
       "        [ 54.1388,  59.2404],\n",
       "        [ 50.7460,  73.7646],\n",
       "        [ 48.0907,  89.7672],\n",
       "        [ 49.7687, 105.3361],\n",
       "        [ 53.9256, 127.6641],\n",
       "        [ 50.7811, 180.8456],\n",
       "        [ 49.3018, 232.6760],\n",
       "        [ 53.8228, 258.6987],\n",
       "        [ 51.2298, 288.7349],\n",
       "        [ 60.3975,  12.5256],\n",
       "        [ 63.8497,   9.7638],\n",
       "        [ 64.2544,  16.2955],\n",
       "        [ 60.2384,  31.5918],\n",
       "        [ 62.4369,  41.9634],\n",
       "        [ 61.3525,  52.7106],\n",
       "        [ 55.5890,  56.3358],\n",
       "        [ 60.7424,  63.5331],\n",
       "        [ 59.2790, 101.9627],\n",
       "        [ 61.4575, 118.9964],\n",
       "        [ 59.3818, 139.7319],\n",
       "        [ 63.3286, 167.5712],\n",
       "        [ 58.9391, 192.4730],\n",
       "        [ 57.3557, 231.3025],\n",
       "        [ 60.0286, 261.2502],\n",
       "        [ 59.0021, 287.4320],\n",
       "        [ 65.3109,   9.5940],\n",
       "        [ 73.9105,  16.6958],\n",
       "        [ 73.7554,  28.6485],\n",
       "        [ 74.0816,  35.9904],\n",
       "        [ 69.6036,  52.7021],\n",
       "        [ 74.2926,  53.6714],\n",
       "        [ 66.6069,  59.0703],\n",
       "        [ 66.5942,  70.8998],\n",
       "        [ 70.9550,  92.8663],\n",
       "        [ 66.2905, 101.8258],\n",
       "        [ 70.4865, 104.3540],\n",
       "        [ 65.7515, 110.5328],\n",
       "        [ 74.7555, 150.3426],\n",
       "        [ 73.4818, 163.2361],\n",
       "        [ 72.8901, 177.1891],\n",
       "        [ 72.1783, 188.0395],\n",
       "        [ 65.8609, 199.3455],\n",
       "        [ 70.7169, 226.9077],\n",
       "        [ 72.9506, 256.1053],\n",
       "        [ 73.2770, 282.0196],\n",
       "        [ 70.5397, 297.9656],\n",
       "        [ 77.0139,  67.9970],\n",
       "        [ 81.5968,  94.5001],\n",
       "        [ 79.7579, 130.0703],\n",
       "        [ 76.4857, 152.4789],\n",
       "        [ 83.4593, 153.0240],\n",
       "        [ 77.2389, 156.9733],\n",
       "        [ 79.1411, 163.1674],\n",
       "        [ 75.2297, 192.2753],\n",
       "        [ 82.0567, 210.9313],\n",
       "        [ 83.3493, 211.9128],\n",
       "        [ 84.4847, 215.3506],\n",
       "        [ 81.7275, 231.7854],\n",
       "        [ 77.6811, 251.2520],\n",
       "        [ 78.7448, 279.6898],\n",
       "        [ 84.2293, 287.1328],\n",
       "        [ 76.2254, 298.4291],\n",
       "        [ 84.7878, 298.0165],\n",
       "        [ 92.3151,  31.5981],\n",
       "        [ 86.8816,  53.4113],\n",
       "        [ 86.5413,  78.3399],\n",
       "        [ 89.7321,  94.6254],\n",
       "        [ 85.9755, 129.4196],\n",
       "        [ 85.8277, 150.5875],\n",
       "        [ 89.6204, 154.2445],\n",
       "        [ 88.4358, 191.2352],\n",
       "        [ 87.9374, 220.3776],\n",
       "        [ 92.8078, 220.2243],\n",
       "        [ 91.4045, 242.8856],\n",
       "        [ 87.9244, 247.8967],\n",
       "        [ 91.3352, 249.8751],\n",
       "        [ 86.9482, 266.5251],\n",
       "        [ 94.1804, 267.9305],\n",
       "        [ 92.4705, 277.3926],\n",
       "        [ 89.1996, 300.4481],\n",
       "        [ 99.1428,  11.5972],\n",
       "        [ 97.8900,  51.0226],\n",
       "        [ 98.1510,  47.1265],\n",
       "        [104.4279,  64.6654],\n",
       "        [ 96.8721,  81.7047],\n",
       "        [100.5402,  77.6026],\n",
       "        [103.4618,  87.0104],\n",
       "        [ 97.0805, 104.7539],\n",
       "        [101.1506, 132.5300],\n",
       "        [ 97.3945, 160.6880],\n",
       "        [104.0256, 182.7804],\n",
       "        [104.4779, 189.2452],\n",
       "        [100.3527, 197.3016],\n",
       "        [ 97.3038, 241.1447],\n",
       "        [100.6612, 238.3779],\n",
       "        [ 97.6114, 245.3083],\n",
       "        [100.4807, 260.5111],\n",
       "        [ 95.9103, 302.5491],\n",
       "        [ 99.9557, 299.5319],\n",
       "        [107.9362,  30.0132],\n",
       "        [107.1659,  38.3845],\n",
       "        [105.3408,  82.4031],\n",
       "        [106.2230, 169.7414],\n",
       "        [113.6517, 166.3394],\n",
       "        [108.3970, 201.1981],\n",
       "        [111.1488, 211.1093],\n",
       "        [108.1438, 222.8817],\n",
       "        [109.9411, 262.0804],\n",
       "        [108.2063, 269.3413],\n",
       "        [107.4036, 290.0726],\n",
       "        [110.7266, 291.0842],\n",
       "        [120.6130,  24.7370],\n",
       "        [124.4766,  29.5799],\n",
       "        [122.7536,  91.9522],\n",
       "        [119.9190, 108.5045],\n",
       "        [121.7403, 112.1780],\n",
       "        [121.4828, 118.2066],\n",
       "        [115.3728, 134.5235],\n",
       "        [118.8363, 147.9026],\n",
       "        [118.3258, 168.2456],\n",
       "        [122.0350, 199.3089],\n",
       "        [115.5247, 217.5800],\n",
       "        [120.6704, 266.1760],\n",
       "        [123.7831, 291.4852],\n",
       "        [122.5235, 299.6057],\n",
       "        [134.6257,   9.5521],\n",
       "        [126.5219,  73.0683],\n",
       "        [133.7475,  72.4185],\n",
       "        [127.9529,  80.1099],\n",
       "        [126.2879,  87.9935],\n",
       "        [129.4705, 111.6423],\n",
       "        [131.1046, 151.1763],\n",
       "        [126.6172, 155.9816],\n",
       "        [132.9904, 166.2175],\n",
       "        [144.6170,  22.4540],\n",
       "        [136.3637,  57.9792],\n",
       "        [143.7495,  71.5996],\n",
       "        [138.0883,  78.6323],\n",
       "        [142.7430,  97.1382],\n",
       "        [138.4441, 130.4957],\n",
       "        [137.9561, 138.5000],\n",
       "        [135.9147, 169.3493],\n",
       "        [137.3927, 166.8199],\n",
       "        [138.7626, 187.8209],\n",
       "        [142.1127, 245.3112],\n",
       "        [147.2819,   8.0731],\n",
       "        [146.7224,  21.9080],\n",
       "        [151.4407,  23.2021],\n",
       "        [153.2313,  60.9377],\n",
       "        [151.8232,  67.4628],\n",
       "        [147.6492, 130.3949],\n",
       "        [153.5701, 183.2643],\n",
       "        [149.5559, 199.5228],\n",
       "        [150.2179, 246.3229],\n",
       "        [163.3204,  21.4459],\n",
       "        [155.8620,  35.4230],\n",
       "        [155.5773,  62.4376],\n",
       "        [164.5823,  74.5122],\n",
       "        [160.1088, 109.8527],\n",
       "        [164.6402, 131.0735],\n",
       "        [156.6111, 164.3465],\n",
       "        [162.1727, 159.4752],\n",
       "        [155.6387, 171.9193],\n",
       "        [158.3573, 193.9958],\n",
       "        [158.0110, 216.3682],\n",
       "        [158.9170, 238.5605],\n",
       "        [162.7382, 247.3676],\n",
       "        [159.1333, 280.9714],\n",
       "        [157.6962, 286.2891],\n",
       "        [172.1187,   7.1033],\n",
       "        [168.2682,  24.4132],\n",
       "        [168.6453,  36.0702],\n",
       "        [173.1326,  83.7451],\n",
       "        [173.4028,  90.4124],\n",
       "        [165.4335, 131.2559],\n",
       "        [167.2819, 182.8425],\n",
       "        [173.7380, 177.8558],\n",
       "        [170.1590, 199.2651],\n",
       "        [173.5476, 198.4491],\n",
       "        [172.8719, 245.3175],\n",
       "        [181.5170,  22.5397],\n",
       "        [179.9198,  51.5846],\n",
       "        [184.8030, 104.5470],\n",
       "        [177.7613, 130.6861],\n",
       "        [179.4774, 143.4325],\n",
       "        [183.7901, 145.9581],\n",
       "        [175.2160, 158.9479],\n",
       "        [180.0341, 175.6378],\n",
       "        [175.7414, 199.5118],\n",
       "        [182.9391, 202.6153],\n",
       "        [180.5268, 243.2269],\n",
       "        [184.2022, 251.6430],\n",
       "        [182.7926, 274.8375],\n",
       "        [182.7959, 275.1429],\n",
       "        [181.3412, 298.9552],\n",
       "        [186.0251,   8.3774],\n",
       "        [194.1978,  41.3136],\n",
       "        [188.0556,  50.5174],\n",
       "        [193.2690,  46.6796],\n",
       "        [189.3661,  61.6661],\n",
       "        [186.5960, 137.3788],\n",
       "        [191.2168, 141.4452],\n",
       "        [191.6406, 197.7715],\n",
       "        [185.7621, 239.5433],\n",
       "        [188.4984, 252.0192],\n",
       "        [191.2071, 248.5788],\n",
       "        [189.0567, 286.9404],\n",
       "        [202.1118,  28.2820],\n",
       "        [195.9364,  41.3671],\n",
       "        [198.8704,  38.8576],\n",
       "        [196.5017,  46.9138],\n",
       "        [201.8298,  52.6067],\n",
       "        [195.9960,  92.6769],\n",
       "        [199.7848,  85.9585],\n",
       "        [197.4826, 114.7328],\n",
       "        [203.7284, 116.3322],\n",
       "        [199.2772, 244.5620],\n",
       "        [202.5978, 263.2894],\n",
       "        [209.3686,   6.8674],\n",
       "        [214.4475,  32.3218],\n",
       "        [212.0519,  50.7361],\n",
       "        [213.4196,  92.7762],\n",
       "        [212.1986,  97.6860],\n",
       "        [205.7298, 110.5657],\n",
       "        [206.7517, 131.2343],\n",
       "        [205.6973, 148.5532],\n",
       "        [205.5589, 169.4158],\n",
       "        [205.4364, 181.4945],\n",
       "        [214.4240, 207.6344],\n",
       "        [213.8379, 235.5349],\n",
       "        [219.1423,  24.0768],\n",
       "        [218.4643,  40.5505],\n",
       "        [224.2110,  46.0026],\n",
       "        [217.0488,  56.1683],\n",
       "        [224.1154,  56.3968],\n",
       "        [219.3645, 201.3644],\n",
       "        [221.8870, 196.3326],\n",
       "        [222.5349, 220.5608],\n",
       "        [221.2792, 230.2159],\n",
       "        [224.6743, 226.5696],\n",
       "        [224.7191, 239.3947],\n",
       "        [223.5825, 259.9439],\n",
       "        [222.2031, 273.2177],\n",
       "        [223.2678, 266.4538],\n",
       "        [219.0705, 283.1970],\n",
       "        [231.1728,  20.4997],\n",
       "        [233.8294,  39.3761],\n",
       "        [233.2770,  69.5495],\n",
       "        [230.9143, 126.3912],\n",
       "        [225.1668, 167.1586],\n",
       "        [228.8380, 207.3787],\n",
       "        [231.1583, 226.0732],\n",
       "        [233.6356, 247.6454],\n",
       "        [233.5968, 280.5025],\n",
       "        [230.9878, 293.6131],\n",
       "        [233.0260, 304.7797],\n",
       "        [241.8154,  64.3197],\n",
       "        [242.0109,  66.3160],\n",
       "        [244.0921,  70.2578],\n",
       "        [240.4840,  86.5260],\n",
       "        [238.6490, 138.8031],\n",
       "        [241.1498, 151.6827],\n",
       "        [235.5205, 205.5001],\n",
       "        [240.9832, 226.3582],\n",
       "        [244.2603, 229.0711],\n",
       "        [240.6248, 239.0010],\n",
       "        [244.6419, 258.0618],\n",
       "        [237.7308, 272.7871],\n",
       "        [243.6293, 284.6667],\n",
       "        [254.7281, 151.1152],\n",
       "        [245.6575, 169.1592],\n",
       "        [254.1391, 220.2441],\n",
       "        [254.3564, 254.8112],\n",
       "        [250.7877, 291.6320],\n",
       "        [263.2905,  44.0639],\n",
       "        [262.0699,  48.9497],\n",
       "        [264.2144,  76.0265],\n",
       "        [260.7610,  99.8981],\n",
       "        [257.1975, 111.3245],\n",
       "        [256.5012, 116.0183],\n",
       "        [261.0320, 117.9585],\n",
       "        [255.8416, 126.6461],\n",
       "        [261.4289, 127.5654],\n",
       "        [258.5716, 136.3752],\n",
       "        [256.4219, 177.9928],\n",
       "        [258.1425, 203.9435],\n",
       "        [256.5889, 208.0551],\n",
       "        [260.0877, 276.1093],\n",
       "        [262.2512, 277.7953],\n",
       "        [256.2548, 287.3372],\n",
       "        [269.7547,  41.5100],\n",
       "        [271.7176,  35.6073],\n",
       "        [274.3358,  46.6228],\n",
       "        [268.6474,  56.2614],\n",
       "        [267.4176,  68.5064],\n",
       "        [267.2151,  75.8735],\n",
       "        [272.7869,  83.8653],\n",
       "        [274.8170, 147.7827],\n",
       "        [266.1124, 171.5477],\n",
       "        [270.9424, 166.6489],\n",
       "        [268.5378, 216.5683],\n",
       "        [282.7383,  10.1383],\n",
       "        [281.4068,  15.5797],\n",
       "        [282.9835,  25.5495],\n",
       "        [278.0585,  58.1882],\n",
       "        [284.8488, 102.6694],\n",
       "        [283.4186, 108.9259],\n",
       "        [277.2315, 120.7610],\n",
       "        [276.3319, 143.1320],\n",
       "        [275.1402, 147.7706],\n",
       "        [284.1990, 166.4805],\n",
       "        [278.2978, 212.3751],\n",
       "        [275.3504, 234.2885],\n",
       "        [278.1077, 246.5083],\n",
       "        [293.2518,  54.6175],\n",
       "        [293.0752,  65.7149],\n",
       "        [294.1100,  82.9451],\n",
       "        [285.7246, 102.5571],\n",
       "        [294.7868, 103.4512],\n",
       "        [286.9869, 114.6936],\n",
       "        [288.2878, 153.7533],\n",
       "        [288.4424, 182.1153],\n",
       "        [287.5205, 215.2555],\n",
       "        [292.5500, 264.1497],\n",
       "        [289.9246, 273.0995],\n",
       "        [293.3251, 269.1732],\n",
       "        [290.1454, 298.7729],\n",
       "        [301.0853,  12.4595],\n",
       "        [303.8404,  14.2859],\n",
       "        [298.0336,  17.5630],\n",
       "        [299.9848,  19.1253],\n",
       "        [301.6264,  27.0278],\n",
       "        [295.2018, 102.6782],\n",
       "        [297.5981, 132.9141],\n",
       "        [299.2397, 129.4334],\n",
       "        [299.2847, 161.1884],\n",
       "        [301.3460, 156.4569],\n",
       "        [302.0722, 171.5951],\n",
       "        [303.8042, 176.0325],\n",
       "        [298.0284, 206.5066],\n",
       "        [300.3346, 217.3941],\n",
       "        [298.6903, 247.0186],\n",
       "        [304.0134, 247.2292],\n",
       "        [299.8553, 264.5523],\n",
       "        [304.4738, 272.1976],\n",
       "        [297.9071, 293.7236]])"
      ]
     },
     "execution_count": 49,
     "metadata": {},
     "output_type": "execute_result"
    }
   ],
   "source": [
    "map_estimate['locs']"
   ]
  },
  {
   "cell_type": "code",
   "execution_count": 60,
   "metadata": {},
   "outputs": [
    {
     "data": {
      "image/png": "[encoded data removed]",
      "text/plain": [
       "<Figure size 1728x576 with 20 Axes>"
      ]
     },
     "metadata": {
      "needs_background": "light"
     },
     "output_type": "display_data"
    }
   ],
   "source": [
    "f, axarr = plt.subplots(2, 5, figsize=(24, 8))\n",
    "\n",
    "subimage_slen = 20\n",
    "x0_vec = np.arange(x0, x0 + slen, subimage_slen)\n",
    "x1_vec = np.arange(x1, x1 + slen, subimage_slen)\n",
    "\n",
    "for i in range(10): \n",
    "    _x0 = np.random.choice(x0_vec)\n",
    "    _x1 = np.random.choice(x1_vec)\n",
    "    \n",
    "    ax = axarr[i // 5,  i % 5]\n",
    "    \n",
    "    plotting.plot_locations(\n",
    "        map_estimate['locs'], \n",
    "        ax,\n",
    "        marker='x',\n",
    "        color='r',\n",
    "    )\n",
    "    \n",
    "        \n",
    "    im = plotting.plot_image(ax, \n",
    "                             image[0, 0], \n",
    "                             _x0, \n",
    "                             _x1,\n",
    "                             subimage_slen,\n",
    "                             subimage_slen)\n",
    "    \n",
    "    f.colorbar(im, ax = ax)"
   ]
  },
  {
   "cell_type": "code",
   "execution_count": null,
   "metadata": {},
   "outputs": [],
   "source": []
  },
  {
   "cell_type": "code",
   "execution_count": null,
   "metadata": {},
   "outputs": [],
   "source": []
  },
  {
   "cell_type": "code",
   "execution_count": null,
   "metadata": {},
   "outputs": [],
   "source": []
  },
  {
   "cell_type": "raw",
   "metadata": {},
   "source": [
    "out = dict(foo = 1)"
   ]
  },
  {
   "cell_type": "raw",
   "metadata": {},
   "source": [
    "out['something'] = 12"
   ]
  },
  {
   "cell_type": "raw",
   "metadata": {},
   "source": [
    "out"
   ]
  },
  {
   "cell_type": "raw",
   "metadata": {},
   "source": [
    "[0] * 5"
   ]
  },
  {
   "cell_type": "raw",
   "metadata": {},
   "source": []
  }
 ],
 "metadata": {
  "kernelspec": {
   "display_name": "bliss_py",
   "language": "python",
   "name": "bliss_py"
  },
  "language_info": {
   "codemirror_mode": {
    "name": "ipython",
    "version": 3
   },
   "file_extension": ".py",
   "mimetype": "text/x-python",
   "name": "python",
   "nbconvert_exporter": "python",
   "pygments_lexer": "ipython3",
   "version": "3.8.5"
  }
 },
 "nbformat": 4,
 "nbformat_minor": 2
}

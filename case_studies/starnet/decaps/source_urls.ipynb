{
 "cells": [
  {
   "cell_type": "code",
   "execution_count": 1,
   "metadata": {},
   "outputs": [],
   "source": [
    "import wget \n",
    "from astroquery.query import BaseQuery"
   ]
  },
  {
   "cell_type": "code",
   "execution_count": 2,
   "metadata": {},
   "outputs": [],
   "source": [
    "from astropy.coordinates import SkyCoord\n",
    "from astropy import units as u"
   ]
  },
  {
   "cell_type": "markdown",
   "metadata": {},
   "source": [
    "# Query filenames"
   ]
  },
  {
   "cell_type": "code",
   "execution_count": 3,
   "metadata": {},
   "outputs": [],
   "source": [
    "coord = SkyCoord(frame=\"galactic\", l=0*u.degree, b=0*u.degree)\n",
    "# coord = SkyCoord(ra = 200.2148 * u.degree, dec = -62.7547 * u.degree, frame='icrs')\n",
    "\n",
    "ra, dec = coord.icrs.to_string('decimal').split()\n",
    "radius='0.1'\n",
    "\n",
    "base_url = 'https://astroarchive.noirlab.edu/api/sia/vohdu'\n",
    "# base_url = 'https://astroarchive.noirlab.edu/api/sia/voimg'\n",
    "\n",
    "url = f'{base_url}?POS={ra},{dec}&SIZE={radius}&format=json'\n",
    "response = BaseQuery()._request('GET', url)"
   ]
  },
  {
   "cell_type": "code",
   "execution_count": 4,
   "metadata": {},
   "outputs": [
    {
     "data": {
      "text/plain": [
       "<SkyCoord (ICRS): (ra, dec) in deg\n",
       "    (266.40498829, -28.93617776)>"
      ]
     },
     "execution_count": 4,
     "metadata": {},
     "output_type": "execute_result"
    }
   ],
   "source": [
    "coord.icrs"
   ]
  },
  {
   "cell_type": "code",
   "execution_count": 4,
   "metadata": {},
   "outputs": [],
   "source": [
    "# get urls"
   ]
  },
  {
   "cell_type": "code",
   "execution_count": 5,
   "metadata": {},
   "outputs": [],
   "source": [
    "response_json = []\n",
    "\n",
    "for i in range(1, len(response.json())): \n",
    "    response_i = response.json()[i]\n",
    "    \n",
    "    keep_bool = (response_i['instrument'] == 'decam') & \\\n",
    "                    ('2016-08' in response_i['file_dateobs']) & \\\n",
    "                    ('hdus=0,8' in response_i['url']) & \\\n",
    "                        (('ooi_z' in response_i['archive_filename']) | \n",
    "                         ('ooi_i' in response_i['archive_filename']))\n",
    "        \n",
    "    \n",
    "    if keep_bool: \n",
    "        response_json.append(response_i)"
   ]
  },
  {
   "cell_type": "code",
   "execution_count": 6,
   "metadata": {
    "scrolled": false
   },
   "outputs": [
    {
     "data": {
      "text/plain": [
       "[{'ra_center': 266.39885,\n",
       "  'dec_center': -28.88243,\n",
       "  'archive_filename': '/net/archive/pipeline/Q20160826/DEC16B/20160810/c4d_160811_031817_ooi_z_v1.fits.fz',\n",
       "  'file_dateobs': '2016-08-11 03:17:15.449621+00',\n",
       "  'instrument': 'decam',\n",
       "  'url': 'https://astroarchive.noirlab.edu/api/retrieve/197e57b38061a22fa2a616f1c21daf7a/?hdus=0,8'},\n",
       " {'ra_center': 266.39895,\n",
       "  'dec_center': -28.8816,\n",
       "  'archive_filename': '/net/archive/pipeline/Q20160824/DEC16B/20160810/c4d_160811_031918_ooi_i_v1.fits.fz',\n",
       "  'file_dateobs': '2016-08-11 03:18:13.547169+00',\n",
       "  'instrument': 'decam',\n",
       "  'url': 'https://astroarchive.noirlab.edu/api/retrieve/7eb1b49ee60095b8f06e2fe277b641f4/?hdus=0,8'}]"
      ]
     },
     "execution_count": 6,
     "metadata": {},
     "output_type": "execute_result"
    }
   ],
   "source": [
    "response_json"
   ]
  }
 ],
 "metadata": {
  "kernelspec": {
   "display_name": "astropy_queries",
   "language": "python",
   "name": "astropy_queries"
  },
  "language_info": {
   "codemirror_mode": {
    "name": "ipython",
    "version": 3
   },
   "file_extension": ".py",
   "mimetype": "text/x-python",
   "name": "python",
   "nbconvert_exporter": "python",
   "pygments_lexer": "ipython3",
   "version": "3.9.7"
  }
 },
 "nbformat": 4,
 "nbformat_minor": 2
}

{
 "cells": [
  {
   "cell_type": "code",
   "execution_count": 1,
   "metadata": {},
   "outputs": [],
   "source": [
    "import numpy as np\n",
    "from matplotlib import pyplot as plt \n",
    "%matplotlib inline"
   ]
  },
  {
   "cell_type": "code",
   "execution_count": 2,
   "metadata": {},
   "outputs": [],
   "source": [
    "import astropy\n",
    "from astropy.io import fits\n",
    "\n",
    "from astropy.coordinates import SkyCoord"
   ]
  },
  {
   "cell_type": "code",
   "execution_count": null,
   "metadata": {},
   "outputs": [],
   "source": []
  },
  {
   "cell_type": "code",
   "execution_count": 3,
   "metadata": {},
   "outputs": [],
   "source": [
    "hdu_z = fits.open('./data/decaps_l0_b0_hdu08_z')"
   ]
  },
  {
   "cell_type": "code",
   "execution_count": 4,
   "metadata": {},
   "outputs": [],
   "source": [
    "hdu_i = fits.open('./data/decaps_l0_b0_hdu08_i')"
   ]
  },
  {
   "cell_type": "code",
   "execution_count": 5,
   "metadata": {
    "scrolled": false
   },
   "outputs": [
    {
     "data": {
      "text/plain": [
       "XTENSION= 'IMAGE   '           / Image extension                                \n",
       "BITPIX  =                  -32 / Bits per pixel                                 \n",
       "NAXIS   =                    2 / Number of axes                                 \n",
       "NAXIS1  =                 2046 / Axis length                                    \n",
       "NAXIS2  =                 4094 / Axis length                                    \n",
       "PCOUNT  =                    0 / No 'random' parameters                         \n",
       "GCOUNT  =                    1 / Only one group                                 \n",
       "ORIGIN  = 'NOAO-IRAF FITS Image Kernel July 2003' / FITS file originator        \n",
       "EXTNAME = 'S21     '           / Extension name                                 \n",
       "IRAF-TLM= '2016-08-20T06:14:52' / Time of last modification                     \n",
       "INHERIT =                    T / Inherits global header                         \n",
       "DATE    = '2016-08-20T06:14:04' / Date FITS file was generated                  \n",
       "WCSAXES =                    2 / WCS Dimensionality                             \n",
       "DETSEC  = '[6149:8188,8197:12284]' / Location of this CCD on Focal Plane        \n",
       "DETECTOR= 'S3-351_135960-4-1'  / Detector Identifier                            \n",
       "CCDNUM  =                    9 / CCD number                                     \n",
       "DETPOS  = 'S21     '           / detector position ID                           \n",
       "GAINA   =                 3.87 / [electrons/adu] Gain for amp A                 \n",
       "RDNOISEA=              5.94432 / [electrons] Read noise for amp A               \n",
       "SATURATA=              46442.0 / [adu] Saturation for amp A                     \n",
       "GAINB   =                3.935 / [electrons/adu] Gain for amp B                 \n",
       "RDNOISEB=              6.16221 / [electrons] Read noise for amp B               \n",
       "SATURATB=              45402.0 / [adu] Saturation for amp B                     \n",
       "CRPIX1  =               8913.4 / Reference pixel on this axis                   \n",
       "CRPIX2  =             6306.333 / Reference pixel on this axis                   \n",
       "FPA     = 'DECAM_BKP3'         / DECam focal plane name                         \n",
       "SLOT00  = 'MCB 12 5.210000'    / Monsoon module                                 \n",
       "SLOT01  = 'DESCB 11 4.010000'  / Monsoon module                                 \n",
       "SLOT02  = 'DESCB 12 4.010000'  / Monsoon module                                 \n",
       "SLOT03  = 'CCD12 29 4.080000'  / Monsoon module                                 \n",
       "SLOT04  = 'CCD12 15 4.080000'  / Monsoon module                                 \n",
       "SLOT05  = 'CCD12 28 4.080000'  / Monsoon module                                 \n",
       "PV1_7   =   -0.001827893523258 / Projection distortion parameter                \n",
       "CUNIT1  = 'deg     '           / Axis unit                                      \n",
       "PV2_8   =   -0.002325434229156 / Projection distortion parameter                \n",
       "PV2_9   =   -0.000502941432876 / Projection distortion parameter                \n",
       "CD1_1   =  -2.246979472459E-07 / Linear projection matrix                       \n",
       "LTM2_2  =                  1.0 / Detector to image transformation               \n",
       "PV2_0   =   -0.001267185408402 / Projection distortion parameter                \n",
       "PV2_1   =        1.00581469758 / Projection distortion parameter                \n",
       "PV2_2   =   -0.001992531584707 / Projection distortion parameter                \n",
       "PV2_3   =                  0.0 / PV distortion coefficient                      \n",
       "PV2_4   =  -0.0008215463256779 / Projection distortion parameter                \n",
       "PV2_5   =     0.00340967359633 / Projection distortion parameter                \n",
       "PV2_6   =   -0.002553393215495 / Projection distortion parameter                \n",
       "PV2_7   =   -0.002646164770982 / Projection distortion parameter                \n",
       "LTM1_1  =                  1.0 / Detector to image transformation               \n",
       "PV1_6   =  -0.0006973107967267 / Projection distortion parameter                \n",
       "PV2_10  =   -0.001248200975773 / Projection distortion parameter                \n",
       "PV1_4   =    0.003138111938612 / Projection distortion parameter                \n",
       "PV1_3   =                  0.0 / PV distortion coefficient                      \n",
       "PV1_2   =   0.0006884151411985 / Projection distortion parameter                \n",
       "PV1_1   =        1.00760681861 / Projection distortion parameter                \n",
       "PV1_0   =   0.0005172692763087 / Projection distortion parameter                \n",
       "PV1_9   =  -0.0002825357763985 / Projection distortion parameter                \n",
       "PV1_8   =   -0.003245441237552 / Projection distortion parameter                \n",
       "CD1_2   =   7.285088741456E-05 / Linear projection matrix                       \n",
       "PV1_5   =   -0.004818226589019 / Projection distortion parameter                \n",
       "CUNIT2  = 'deg     '           / Axis unit                                      \n",
       "CD2_1   =  -7.284276012954E-05 / Linear projection matrix                       \n",
       "CD2_2   =   -2.26699641097E-07 / Linear projection matrix                       \n",
       "LTV2    =                  -1. / Detector to image transformation               \n",
       "LTV1    =                  -1. / Detector to image transformation               \n",
       "PV1_10  =   0.0006510726674604 / Projection distortion parameter                \n",
       "CTYPE2  = 'DEC--TPV'           / WCS projection type for this axis              \n",
       "CTYPE1  = 'RA---TPV'           / WCS projection type for this axis              \n",
       "CRVAL1  =       266.3968498329 / World coordinate on this axis                  \n",
       "CRVAL2  =      -29.45858562922 / World coordinate on this axis                  \n",
       "DESDCXTK= 'Fri Aug 19 09:18:52 2016' / DECam image conversion and crosstalk corr\n",
       "DESOSCN = 'Fri Aug 19 09:18:52 2016' / overscan corrected                       \n",
       "DESSAT  = 'Fri Aug 19 09:18:52 2016' / saturated pixels flagged                 \n",
       "NSATPIX =                 6154 / Number of saturated pixels                     \n",
       "DESBIAS = 'Fri Aug 19 10:00:46 2016' / bias subtracted                          \n",
       "BIASFIL = 'DEC16B_20160801_8c51e28-Z-20160810T201103_ci[S21]' / Bias image      \n",
       "DESFLAT = 'Fri Aug 19 10:00:46 2016' / flat fielded                             \n",
       "FLATFIL = 'DEC16B_20160801_8c51e28-zF-20160811T204920_ci[S21]' / Flat image     \n",
       "DESILLUM= 'Fri Aug 19 10:00:46 2016' / Illumination Corrected                   \n",
       "ILLUMFIL= 'DECam_Master_20130829v3-zI_ci[S21]' / Illumination image             \n",
       "DESFRING= 'Fri Aug 19 10:00:46 2016' / Fringe Corrected                         \n",
       "FRINGFIL= 'DECam_Master_20131115v1-zG_ci[S21]' / Fringe image                   \n",
       "SKYSIGMA=        1.4048561E+01 / Sky Sigma (ADU)                                \n",
       "SKYBRITE=        6.8062000E+02 / Sky Brightness (ADU)                           \n",
       "HISTORY s/deccp/Archive/DEC16B/red/20160819090937_57610z/aux/detrend_in_0120.lis\n",
       "HISTORY aux/detrend_out_0120.list -bpm /data/sharedfs/deccp/Archive/CAL/cal/DECa\n",
       "HISTORY mMasterCal_56475/bpm/DECam_Master_20130716_cd_09.fits -linear /data/shar\n",
       "HISTORY 610Z/biascor/DEC16B_20160801_8c51e28-Z-20160810T201103_ci_09.fits -flatt\n",
       "HISTORY EC16B_20160801_8c51e28-zF-20160811T204920_ci_z_09.fits -fringe /data/sha\n",
       "HISTORY 20131115v1-zG_ci_z_09.fits -illumination /data/sharedfs/deccp/Archive/CA\n",
       "HISTORY L/cal/DECamMasterCal_56876/starflat/DECam_Master_20130829v3-zI_ci_z_09.f\n",
       "SATURATE=               46442. / Global Saturate Value                          \n",
       "DESBLEED= 'Fri Aug 19 10:54:18 2016' / bleed trail masking                      \n",
       "NBLEED  = 17655  / Number of bleed trail pixels.                                \n",
       "STARMASK= 'Fri Aug 19 10:54:18 2016' / created bright star mask                 \n",
       "HISTORY hive/DEC16B/red/20160819090937_57610z/red/dec423157/dec423157_09.fits /d\n",
       "HISTORY 7/dec423157_09.fits                                                     \n",
       "FIXPIX  = 'Aug 19 10:54 Bad pixel file is dec423157_09_bpm.pl'                  \n",
       "FWHM    =             4.207338 / Median FWHM in pixels                          \n",
       "ELLIPTIC=           0.05706728 / Median ELLIPTICITY                             \n",
       "DESCRMSK= 'Fri Aug 19 13:15:07 2016' / Masked the image                         \n",
       "HISTORY 57_09.fits -crays -crfract 0.20 -crsig2 2.00 -lowsig 15.00 -lowwt 0.0001\n",
       "AVSKY   =             668.6807                                                  \n",
       "AVSIG   =             13.57296                                                  \n",
       "BPM     = 'DEC16B_20160810_8c58448-z-20160811T031700_od[S21]'                   \n",
       "ILLUMCOR= 'DEC16B_20160801_8c51e28-zI_ci[S21]'                                  \n",
       "WCSDIM  =                    2                                                  \n",
       "WAT0_001= 'system=image'                                                        \n",
       "WAT1_001= 'wtype=tpv axtype=ra'                                                 \n",
       "WAT2_001= 'wtype=tpv axtype=dec'                                                \n",
       "RA1     = '17:44:10.55'        / [h] RA CCD center                              \n",
       "DEC1    = '-28:52:52.0'        / [deg] DEC CCD center                           \n",
       "CENRA1  =              266.044 / [deg] RA CCD center                            \n",
       "CENDEC1 =            -28.88111 / [deg] DEC CCD center                           \n",
       "COR1RA1 =             265.8741 / [deg] RA CCD corner                            \n",
       "COR1DEC1=            -28.80567 / [deg] DEC CCD corner                           \n",
       "COR2RA1 =             265.8724 / [deg] RA CCD corner                            \n",
       "COR2DEC1=            -28.95487 / [deg] DEC CCD corner                           \n",
       "COR3RA1 =             266.2154 / [deg] RA CCD corner                            \n",
       "COR3DEC1=             -28.8073 / [deg] DEC CCD corner                           \n",
       "COR4RA1 =             266.2144 / [deg] RA CCD corner                            \n",
       "COR4DEC1=            -28.95655 / [deg] DEC CCD corner                           \n",
       "WTMAP   = 'DEC16B_20160810_8c58448-z-20160811T031700_ow[S21]'                   \n",
       "ARAWGAIN=                 4.29 / [e/adu] Average raw gain                       \n",
       "FZALGOR = 'RICE_1  '                                                            \n",
       "FZQMETHD= 'SUBTRACTIVE_DITHER_1'                                                \n",
       "FZQVALUE=                    4                                                  \n",
       "FZDTHRSD= 'CHECKSUM'                                                            \n",
       "HISTORY Image was compressed by CFITSIO using scaled integer quantization:      \n",
       "HISTORY   q = 4.000000 / quantized level scaling parameter                      \n",
       "HISTORY 'SUBTRACTIVE_DITHER_1' / Pixel Quantization Algorithm                   \n",
       "ZDITHER0=                 4400 / dithering offset when quantizing floats        \n",
       "CHECKSUM= 'PJYASIW0PIW7PIW7'    /  ASCII 1's complement checksum                \n",
       "DATASUM = '494985293 '          /  checksum of data records                     "
      ]
     },
     "execution_count": 5,
     "metadata": {},
     "output_type": "execute_result"
    }
   ],
   "source": [
    "hdu_z[1].header"
   ]
  },
  {
   "cell_type": "code",
   "execution_count": null,
   "metadata": {},
   "outputs": [],
   "source": []
  },
  {
   "cell_type": "markdown",
   "metadata": {},
   "source": [
    "### sky backgrounds"
   ]
  },
  {
   "cell_type": "code",
   "execution_count": 6,
   "metadata": {},
   "outputs": [
    {
     "data": {
      "text/plain": [
       "680.62"
      ]
     },
     "execution_count": 6,
     "metadata": {},
     "output_type": "execute_result"
    }
   ],
   "source": [
    "hdu_z[1].header['SKYBRITE']"
   ]
  },
  {
   "cell_type": "code",
   "execution_count": 7,
   "metadata": {},
   "outputs": [
    {
     "data": {
      "text/plain": [
       "476.77295"
      ]
     },
     "execution_count": 7,
     "metadata": {},
     "output_type": "execute_result"
    }
   ],
   "source": [
    "hdu_i[1].header['SKYBRITE']"
   ]
  },
  {
   "cell_type": "code",
   "execution_count": null,
   "metadata": {},
   "outputs": [],
   "source": []
  },
  {
   "cell_type": "markdown",
   "metadata": {},
   "source": [
    "### PSF"
   ]
  },
  {
   "cell_type": "code",
   "execution_count": 8,
   "metadata": {},
   "outputs": [
    {
     "data": {
      "text/plain": [
       "4.207338"
      ]
     },
     "execution_count": 8,
     "metadata": {},
     "output_type": "execute_result"
    }
   ],
   "source": [
    "hdu_z[1].header['FWHM']"
   ]
  },
  {
   "cell_type": "code",
   "execution_count": 9,
   "metadata": {},
   "outputs": [
    {
     "data": {
      "text/plain": [
       "4.546045"
      ]
     },
     "execution_count": 9,
     "metadata": {},
     "output_type": "execute_result"
    }
   ],
   "source": [
    "hdu_i[1].header['FWHM']"
   ]
  },
  {
   "cell_type": "code",
   "execution_count": 10,
   "metadata": {},
   "outputs": [
    {
     "data": {
      "text/plain": [
       "[<astropy.io.fits.hdu.image.PrimaryHDU object at 0x7faa06a83e50>, <astropy.io.fits.hdu.compressed.CompImageHDU object at 0x7faa069dbcd0>]"
      ]
     },
     "execution_count": 10,
     "metadata": {},
     "output_type": "execute_result"
    }
   ],
   "source": [
    "hdu_z"
   ]
  },
  {
   "cell_type": "code",
   "execution_count": 11,
   "metadata": {},
   "outputs": [],
   "source": [
    "def get_gauss_psf_params_from_fwhm(fwhm):\n",
    "    # half light radius\n",
    "    r = fwhm / 2\n",
    "    \n",
    "    psf_params_array = np.zeros((1, 6)) \n",
    "    sigma2 = r**2 / (2 * np.log(2))\n",
    "    b = 1e-16\n",
    "    p0 = 1e-16\n",
    "\n",
    "    psf_params_array[0, 0] = np.log(sigma2)\n",
    "    psf_params_array[0, 4] = np.log(b)\n",
    "    psf_params_array[0, 5] = np.log(p0)\n",
    "    \n",
    "    return(psf_params_array)"
   ]
  },
  {
   "cell_type": "code",
   "execution_count": 12,
   "metadata": {},
   "outputs": [
    {
     "name": "stdout",
     "output_type": "stream",
     "text": [
      "[[  1.16073167   0.           0.           0.         -36.84136149\n",
      "  -36.84136149]]\n"
     ]
    }
   ],
   "source": [
    "psf_params_z = get_gauss_psf_params_from_fwhm(hdu_z[1].header['FWHM'])\n",
    "print(psf_params_z)"
   ]
  },
  {
   "cell_type": "code",
   "execution_count": 13,
   "metadata": {},
   "outputs": [],
   "source": [
    "np.save('./psf/zband_psf_gauss.npy', psf_params_z)"
   ]
  },
  {
   "cell_type": "code",
   "execution_count": 14,
   "metadata": {},
   "outputs": [
    {
     "name": "stdout",
     "output_type": "stream",
     "text": [
      "[[  1.31558663   0.           0.           0.         -36.84136149\n",
      "  -36.84136149]]\n"
     ]
    }
   ],
   "source": [
    "psf_params_i = get_gauss_psf_params_from_fwhm(hdu_i[1].header['FWHM'])\n",
    "print(psf_params_i)"
   ]
  },
  {
   "cell_type": "code",
   "execution_count": 15,
   "metadata": {},
   "outputs": [],
   "source": [
    "np.save('./psf/iband_psf_gauss.npy', psf_params_i)"
   ]
  },
  {
   "cell_type": "code",
   "execution_count": null,
   "metadata": {},
   "outputs": [],
   "source": []
  },
  {
   "cell_type": "code",
   "execution_count": null,
   "metadata": {},
   "outputs": [],
   "source": []
  },
  {
   "cell_type": "markdown",
   "metadata": {},
   "source": [
    "# reasonable init for psf optimization"
   ]
  },
  {
   "cell_type": "code",
   "execution_count": 16,
   "metadata": {},
   "outputs": [],
   "source": [
    "def get_init_psf_params_from_fwhm(fwhm):\n",
    "    # half light radius\n",
    "    r = fwhm / 2\n",
    "    \n",
    "    psf_params_array = np.zeros((1, 6)) \n",
    "    sigma2 = r**2 / (2 * np.log(2))\n",
    "    b = 0.5\n",
    "    p0 = 0.5\n",
    "    \n",
    "    psf_params_array[0, 0] = np.log(sigma2)\n",
    "    psf_params_array[0, 1] = np.log(sigma2 * 2)\n",
    "    \n",
    "    psf_params_array[0, 2] = np.log(1)\n",
    "    psf_params_array[0, 3] = np.log(1)\n",
    "    \n",
    "    psf_params_array[0, 4] = np.log(b)\n",
    "    psf_params_array[0, 5] = np.log(p0)\n",
    "    \n",
    "    return(psf_params_array)"
   ]
  },
  {
   "cell_type": "code",
   "execution_count": 17,
   "metadata": {},
   "outputs": [
    {
     "name": "stdout",
     "output_type": "stream",
     "text": [
      "[[ 1.16073167  1.85387885  0.          0.         -0.69314718 -0.69314718]]\n"
     ]
    }
   ],
   "source": [
    "psf_params_z = get_init_psf_params_from_fwhm(hdu_z[1].header['FWHM'])\n",
    "print(psf_params_z)"
   ]
  },
  {
   "cell_type": "code",
   "execution_count": 18,
   "metadata": {},
   "outputs": [],
   "source": [
    "np.save('./psf/zband_psf_init.npy', psf_params_z)"
   ]
  },
  {
   "cell_type": "code",
   "execution_count": 19,
   "metadata": {},
   "outputs": [
    {
     "name": "stdout",
     "output_type": "stream",
     "text": [
      "[[ 1.31558663  2.00873381  0.          0.         -0.69314718 -0.69314718]]\n"
     ]
    }
   ],
   "source": [
    "psf_params_i = get_init_psf_params_from_fwhm(hdu_i[1].header['FWHM'])\n",
    "print(psf_params_i)"
   ]
  },
  {
   "cell_type": "code",
   "execution_count": 20,
   "metadata": {},
   "outputs": [],
   "source": [
    "np.save('./psf/iband_psf_init.npy', psf_params_i)"
   ]
  },
  {
   "cell_type": "code",
   "execution_count": null,
   "metadata": {},
   "outputs": [],
   "source": []
  },
  {
   "cell_type": "code",
   "execution_count": null,
   "metadata": {},
   "outputs": [],
   "source": []
  },
  {
   "cell_type": "code",
   "execution_count": null,
   "metadata": {},
   "outputs": [],
   "source": []
  }
 ],
 "metadata": {
  "kernelspec": {
   "display_name": "astropy_queries",
   "language": "python",
   "name": "astropy_queries"
  },
  "language_info": {
   "codemirror_mode": {
    "name": "ipython",
    "version": 3
   },
   "file_extension": ".py",
   "mimetype": "text/x-python",
   "name": "python",
   "nbconvert_exporter": "python",
   "pygments_lexer": "ipython3",
   "version": "3.9.7"
  }
 },
 "nbformat": 4,
 "nbformat_minor": 2
}

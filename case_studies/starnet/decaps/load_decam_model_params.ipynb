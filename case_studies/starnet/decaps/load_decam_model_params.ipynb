{
 "cells": [
  {
   "cell_type": "code",
   "execution_count": 1,
   "metadata": {},
   "outputs": [],
   "source": [
    "import numpy as np\n",
    "from matplotlib import pyplot as plt \n",
    "%matplotlib inline"
   ]
  },
  {
   "cell_type": "code",
   "execution_count": 2,
   "metadata": {},
   "outputs": [],
   "source": [
    "import astropy\n",
    "from astropy.io import fits\n",
    "\n",
    "from astropy.coordinates import SkyCoord"
   ]
  },
  {
   "cell_type": "code",
   "execution_count": null,
   "metadata": {},
   "outputs": [],
   "source": []
  },
  {
   "cell_type": "code",
   "execution_count": 3,
   "metadata": {},
   "outputs": [],
   "source": [
    "hdu_z = fits.open('./data/decaps_l0_b0_hdu08_z')"
   ]
  },
  {
   "cell_type": "code",
   "execution_count": 4,
   "metadata": {},
   "outputs": [],
   "source": [
    "hdu_i = fits.open('./data/decaps_l0_b0_hdu08_i')"
   ]
  },
  {
   "cell_type": "markdown",
   "metadata": {},
   "source": [
    "### sky backgrounds"
   ]
  },
  {
   "cell_type": "code",
   "execution_count": 5,
   "metadata": {},
   "outputs": [
    {
     "data": {
      "text/plain": [
       "680.62"
      ]
     },
     "execution_count": 5,
     "metadata": {},
     "output_type": "execute_result"
    }
   ],
   "source": [
    "hdu_z[1].header['SKYBRITE']"
   ]
  },
  {
   "cell_type": "code",
   "execution_count": 6,
   "metadata": {},
   "outputs": [
    {
     "data": {
      "text/plain": [
       "476.77295"
      ]
     },
     "execution_count": 6,
     "metadata": {},
     "output_type": "execute_result"
    }
   ],
   "source": [
    "hdu_i[1].header['SKYBRITE']"
   ]
  },
  {
   "cell_type": "code",
   "execution_count": null,
   "metadata": {},
   "outputs": [],
   "source": []
  },
  {
   "cell_type": "markdown",
   "metadata": {},
   "source": [
    "### PSF"
   ]
  },
  {
   "cell_type": "code",
   "execution_count": 7,
   "metadata": {},
   "outputs": [
    {
     "data": {
      "text/plain": [
       "4.207338"
      ]
     },
     "execution_count": 7,
     "metadata": {},
     "output_type": "execute_result"
    }
   ],
   "source": [
    "hdu_z[1].header['FWHM']"
   ]
  },
  {
   "cell_type": "code",
   "execution_count": 8,
   "metadata": {},
   "outputs": [
    {
     "data": {
      "text/plain": [
       "4.546045"
      ]
     },
     "execution_count": 8,
     "metadata": {},
     "output_type": "execute_result"
    }
   ],
   "source": [
    "hdu_i[1].header['FWHM']"
   ]
  },
  {
   "cell_type": "code",
   "execution_count": null,
   "metadata": {},
   "outputs": [],
   "source": []
  },
  {
   "cell_type": "code",
   "execution_count": 9,
   "metadata": {},
   "outputs": [],
   "source": [
    "def get_gauss_psf_params_from_fwhm(fwhm):\n",
    "    # half light radius\n",
    "    r = fwhm / 2\n",
    "    \n",
    "    psf_params_array = np.zeros((1, 6)) \n",
    "    sigma2 = r**2 / (2 * np.log(2))\n",
    "    b = 1e-16\n",
    "    p0 = 1e-16\n",
    "\n",
    "    psf_params_array[0, 0] = np.log(sigma2)\n",
    "    psf_params_array[0, 4] = np.log(b)\n",
    "    psf_params_array[0, 5] = np.log(p0)\n",
    "    \n",
    "    return(psf_params_array)"
   ]
  },
  {
   "cell_type": "code",
   "execution_count": 10,
   "metadata": {},
   "outputs": [
    {
     "name": "stdout",
     "output_type": "stream",
     "text": [
      "[[  1.16073167   0.           0.           0.         -36.84136149\n",
      "  -36.84136149]]\n"
     ]
    }
   ],
   "source": [
    "psf_params_z = get_gauss_psf_params_from_fwhm(hdu_z[1].header['FWHM'])\n",
    "print(psf_params_z)"
   ]
  },
  {
   "cell_type": "code",
   "execution_count": 11,
   "metadata": {},
   "outputs": [],
   "source": [
    "np.save('./psf/zband_psf_gauss.npy', psf_params_z)"
   ]
  },
  {
   "cell_type": "code",
   "execution_count": 12,
   "metadata": {},
   "outputs": [
    {
     "name": "stdout",
     "output_type": "stream",
     "text": [
      "[[  1.31558663   0.           0.           0.         -36.84136149\n",
      "  -36.84136149]]\n"
     ]
    }
   ],
   "source": [
    "psf_params_i = get_gauss_psf_params_from_fwhm(hdu_i[1].header['FWHM'])\n",
    "print(psf_params_i)"
   ]
  },
  {
   "cell_type": "code",
   "execution_count": 13,
   "metadata": {},
   "outputs": [],
   "source": [
    "np.save('./psf/iband_psf_gauss.npy', psf_params_i)"
   ]
  },
  {
   "cell_type": "code",
   "execution_count": null,
   "metadata": {},
   "outputs": [],
   "source": []
  },
  {
   "cell_type": "code",
   "execution_count": null,
   "metadata": {},
   "outputs": [],
   "source": []
  },
  {
   "cell_type": "markdown",
   "metadata": {},
   "source": [
    "# reasonable init for psf optimization"
   ]
  },
  {
   "cell_type": "code",
   "execution_count": 16,
   "metadata": {},
   "outputs": [],
   "source": [
    "def get_init_psf_params_from_fwhm(fwhm):\n",
    "    # half light radius\n",
    "    r = fwhm / 2\n",
    "    \n",
    "    psf_params_array = np.zeros((1, 6)) \n",
    "    sigma2 = r**2 / (2 * np.log(2))\n",
    "    b = 0.5\n",
    "    p0 = 0.5\n",
    "    \n",
    "    psf_params_array[0, 0] = np.log(sigma2)\n",
    "    psf_params_array[0, 1] = np.log(sigma2 * 2)\n",
    "    \n",
    "    psf_params_array[0, 2] = np.log(1)\n",
    "    psf_params_array[0, 3] = np.log(1)\n",
    "    \n",
    "    psf_params_array[0, 4] = np.log(b)\n",
    "    psf_params_array[0, 5] = np.log(p0)\n",
    "    \n",
    "    return(psf_params_array)"
   ]
  },
  {
   "cell_type": "code",
   "execution_count": 17,
   "metadata": {},
   "outputs": [
    {
     "name": "stdout",
     "output_type": "stream",
     "text": [
      "[[ 1.16073167  1.85387885  0.          0.         -0.69314718 -0.69314718]]\n"
     ]
    }
   ],
   "source": [
    "psf_params_z = get_init_psf_params_from_fwhm(hdu_z[1].header['FWHM'])\n",
    "print(psf_params_z)"
   ]
  },
  {
   "cell_type": "code",
   "execution_count": 18,
   "metadata": {},
   "outputs": [],
   "source": [
    "np.save('./psf/zband_psf_init.npy', psf_params_z)"
   ]
  },
  {
   "cell_type": "code",
   "execution_count": 19,
   "metadata": {},
   "outputs": [
    {
     "name": "stdout",
     "output_type": "stream",
     "text": [
      "[[ 1.31558663  2.00873381  0.          0.         -0.69314718 -0.69314718]]\n"
     ]
    }
   ],
   "source": [
    "psf_params_i = get_init_psf_params_from_fwhm(hdu_i[1].header['FWHM'])\n",
    "print(psf_params_i)"
   ]
  },
  {
   "cell_type": "code",
   "execution_count": 20,
   "metadata": {},
   "outputs": [],
   "source": [
    "np.save('./psf/iband_psf_init.npy', psf_params_i)"
   ]
  },
  {
   "cell_type": "code",
   "execution_count": null,
   "metadata": {},
   "outputs": [],
   "source": []
  },
  {
   "cell_type": "code",
   "execution_count": null,
   "metadata": {},
   "outputs": [],
   "source": []
  },
  {
   "cell_type": "code",
   "execution_count": null,
   "metadata": {},
   "outputs": [],
   "source": []
  }
 ],
 "metadata": {
  "kernelspec": {
   "display_name": "astropy_queries",
   "language": "python",
   "name": "astropy_queries"
  },
  "language_info": {
   "codemirror_mode": {
    "name": "ipython",
    "version": 3
   },
   "file_extension": ".py",
   "mimetype": "text/x-python",
   "name": "python",
   "nbconvert_exporter": "python",
   "pygments_lexer": "ipython3",
   "version": "3.9.7"
  }
 },
 "nbformat": 4,
 "nbformat_minor": 2
}

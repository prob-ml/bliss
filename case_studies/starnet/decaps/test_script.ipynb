{
 "cells": [
  {
   "cell_type": "code",
   "execution_count": 2,
   "metadata": {},
   "outputs": [],
   "source": [
    "class Args:\n",
    "    def __init__(self):\n",
    "        self.outfolder = './fits'\n",
    "        self.outfilename = 'test'\n",
    "        self.config_path = '../../../config'\n",
    "        self.seed = 31452\n",
    "        self.cuda_no = 2\n",
    "\n",
    "args = Args()"
   ]
  },
  {
   "cell_type": "code",
   "execution_count": 4,
   "metadata": {},
   "outputs": [
    {
     "name": "stdout",
     "output_type": "stream",
     "text": [
      "torch version:  1.7.1\n",
      "cuda:2\n"
     ]
    }
   ],
   "source": [
    "import os\n",
    "assert os.path.isdir(args.outfolder)\n",
    "\n",
    "import torch\n",
    "import pytorch_lightning as pl\n",
    "print('torch version: ', torch.__version__)\n",
    "cuda_no = \"cuda:\" + str(args.cuda_no)\n",
    "device = torch.device(cuda_no if torch.cuda.is_available() else \"cpu\")\n",
    "torch.cuda.set_device(device)\n",
    "print(device)\n",
    "\n",
    "from hydra.experimental import initialize, compose\n"
   ]
  },
  {
   "cell_type": "code",
   "execution_count": 5,
   "metadata": {},
   "outputs": [],
   "source": [
    "import numpy as np\n",
    "import time "
   ]
  },
  {
   "cell_type": "code",
   "execution_count": 6,
   "metadata": {},
   "outputs": [],
   "source": [
    "from bliss import sleep\n",
    "from bliss.datasets import simulated, sdss\n",
    "\n",
    "\n",
    "torch.manual_seed(args.seed)\n",
    "np.random.seed(args.seed)"
   ]
  },
  {
   "cell_type": "code",
   "execution_count": 7,
   "metadata": {},
   "outputs": [
    {
     "name": "stdout",
     "output_type": "stream",
     "text": [
      "Training sleep phase\n",
      "config overrides: \n",
      "{'model': 'sleep_m2', 'dataset': 'm2', 'training': 'm2', 'optimizer': 'm2'}\n",
      "config: \n",
      "{'mode': 'train', 'gpus': 1, 'paths': {'root': '${oc.env:BLISS_HOME}', 'data': '${paths.root}/data', 'models': '${paths.root}/models', 'output': '${paths.root}/output', 'sdss': '${paths.root}/data/sdss'}, 'optimizer': {'name': 'Adam', 'kwargs': {'lr': 0.00098352, 'weight_decay': 8.041e-05}}, 'model': {'name': 'SleepPhase', 'kwargs': {'decoder_kwargs': '${model.decoder.kwargs}', 'encoder_kwargs': '${model.encoder.kwargs}', 'optimizer_params': '${optimizer}'}, 'decoder': {'kwargs': {'n_bands': 2, 'slen': 100, 'tile_slen': 2, 'ptile_slen': 26, 'border_padding': 3, 'max_sources': 5, 'mean_sources': 0.48, 'min_sources': 0, 'f_min': 1000.0, 'f_max': 1000000.0, 'alpha': 0.5, 'psf_params_file': '${paths.root}/data/psField-002583-2-0136.fits', 'prob_galaxy': 0.0, 'background_values': [686.0, 1123.0], 'sdss_bands': [2, 3]}}, 'encoder': {'kwargs': {'n_bands': '${model.decoder.kwargs.n_bands}', 'tile_slen': '${model.decoder.kwargs.tile_slen}', 'ptile_slen': 8, 'max_detections': 2, 'channel': 17, 'spatial_dropout': 0.11399, 'dropout': 0.013123, 'hidden': 185}}}, 'training': {'deterministic': False, 'seed': 42, 'plotting': False, 'n_epochs': 400, 'experiment': 'default', 'version': None, 'save_top_k': 1, 'trainer': {'logger': False, 'checkpoint_callback': False, 'profiler': None, 'reload_dataloaders_every_epoch': False, 'check_val_every_n_epoch': 50, 'max_epochs': '${training.n_epochs}', 'min_epochs': '${training.n_epochs}', 'gpus': '${gpus}', 'log_every_n_steps': 10}}, 'dataset': {'name': 'SimulatedDataset', 'kwargs': {'decoder_kwargs': '${model.decoder.kwargs}', 'n_batches': 10, 'batch_size': 20, 'generate_device': 'cuda:0'}}, 'testing': {'file': None, 'batch_size': 32, 'num_workers': 0}, 'generate': {'file': '${paths.root}/output/example.pt', 'n_plots': 25, 'common': ['background', 'slen']}, 'tuning': {'search_space': {'channel': [8, 19], 'hidden': [32, 257], 'spatial_dropout': [0, 0.5], 'dropout': [0, 0.5], 'lr': [1e-07, 0.001], 'weight_decay': [1e-06, 0.01]}, 'n_epochs': 400, 'gpus_per_trial': 1, 'allocated_gpus': 4, 'grace_period': 10, 'n_samples': 500, 'verbose': 1, 'seed': 42, 'save': True, 'limit_val_batches': 1, 'best_config_save_path': '${paths.root}/config/tuning/m2_best_result.yaml', 'log_path': '${paths.root}/output/tuning'}, 'predict': {'sdss_kwargs': {'sdss_dir': '${paths.data}/sdss', 'run': 94, 'camcol': 1, 'fields': [12], 'stampsize': 5, 'overwrite_fits_cache': False, 'overwrite_cache': False, 'center_subpixel': True}, 'bands': [2], 'sleep_checkpoint': '${paths.root}/models/sdss_sleep.ckpt', 'galaxy_checkpoint': '${paths.root}/models/sdss_galaxy_encoder.ckpt', 'binary_checkpoint': '${paths.root}/models/sdss_binary.ckpt', 'device': 'cuda:0', 'output_file': None, 'testing': False}}\n"
     ]
    },
    {
     "name": "stderr",
     "output_type": "stream",
     "text": [
      "/home/runingli/anaconda3/envs/bliss_py/lib/python3.8/site-packages/hydra/experimental/initialize.py:35: UserWarning: hydra.experimental.initialize() is no longer experimental. Use hydra.initialize()\n",
      "  warnings.warn(\n",
      "/home/runingli/anaconda3/envs/bliss_py/lib/python3.8/site-packages/hydra/experimental/compose.py:16: UserWarning: hydra.experimental.compose() is no longer experimental. Use hydra.compose()\n",
      "  warnings.warn(\n"
     ]
    }
   ],
   "source": [
    "print(\"Training sleep phase\")\n",
    "###################\n",
    "# load config parameters \n",
    "###################\n",
    "overrides = dict(\n",
    "    model=\"sleep_m2\",\n",
    "    dataset=\"m2\",\n",
    "    training=\"m2\",\n",
    "    optimizer=\"m2\"\n",
    ")\n",
    "\n",
    "print('config overrides: ')\n",
    "print(overrides)\n",
    "\n",
    "overrides = [f\"{key}={value}\" for key, value in overrides.items()]\n",
    "\n",
    "with initialize(config_path=args.config_path):\n",
    "    cfg = compose(\"config\", overrides=overrides)\n",
    "\n",
    "print('config: ')\n",
    "print(cfg)"
   ]
  },
  {
   "cell_type": "code",
   "execution_count": 43,
   "metadata": {},
   "outputs": [],
   "source": [
    "cfg.model.decoder.kwargs.update({'n_bands': 1, \n",
    "                                 'slen': 300, \n",
    "                                 'tile_slen': 10, \n",
    "                                 'ptile_slen': 30, \n",
    "                                 'border_padding': 5, \n",
    "                                 'mean_sources': 0.5, \n",
    "                                 'background_values': [680]})"
   ]
  },
  {
   "cell_type": "raw",
   "metadata": {},
   "source": [
    "r = 4.2 / 2"
   ]
  },
  {
   "cell_type": "raw",
   "metadata": {},
   "source": [
    "psf_params_array = np.zeros((1, 6)) \n",
    "sigma2 = r**2 / (2 * np.log(2))\n",
    "b = 1e-16\n",
    "p0 = 1e-16\n",
    "\n",
    "psf_params_array[0, 0] = np.log(sigma2)\n",
    "psf_params_array[0, 4] = np.log(b)\n",
    "psf_params_array[0, 5] = np.log(p0)\n",
    "\n",
    "np.save('./zband_psf_simple.npy', psf_params_array)"
   ]
  },
  {
   "cell_type": "code",
   "execution_count": 129,
   "metadata": {},
   "outputs": [],
   "source": [
    "cfg.model.decoder.kwargs.update({'psf_params_file': './zband_psf_simple.npy'})"
   ]
  },
  {
   "cell_type": "code",
   "execution_count": 130,
   "metadata": {},
   "outputs": [],
   "source": [
    "cfg.model.encoder.kwargs.update({'ptile_slen': 20})"
   ]
  },
  {
   "cell_type": "code",
   "execution_count": 131,
   "metadata": {},
   "outputs": [],
   "source": [
    "cfg.dataset.kwargs.update({'batch_size': 1})"
   ]
  },
  {
   "cell_type": "code",
   "execution_count": 132,
   "metadata": {},
   "outputs": [
    {
     "name": "stderr",
     "output_type": "stream",
     "text": [
      "GPU available: True, used: True\n",
      "TPU available: False, using: 0 TPU cores\n"
     ]
    }
   ],
   "source": [
    "###################\n",
    "# initialize data set and model\n",
    "###################\n",
    "dataset = simulated.SimulatedDataset(**cfg.dataset.kwargs)\n",
    "sleep_net = sleep.SleepPhase(**cfg.model.kwargs)\n",
    "trainer = pl.Trainer(**cfg.training.trainer)"
   ]
  },
  {
   "cell_type": "code",
   "execution_count": null,
   "metadata": {},
   "outputs": [],
   "source": []
  },
  {
   "cell_type": "code",
   "execution_count": 136,
   "metadata": {},
   "outputs": [],
   "source": [
    "out = dataset.get_batch()"
   ]
  },
  {
   "cell_type": "code",
   "execution_count": 137,
   "metadata": {},
   "outputs": [],
   "source": [
    "from matplotlib import pyplot as plt \n",
    "%matplotlib inline"
   ]
  },
  {
   "cell_type": "code",
   "execution_count": 138,
   "metadata": {},
   "outputs": [
    {
     "data": {
      "text/plain": [
       "<matplotlib.image.AxesImage object at 0x7fd36005c6d0>"
      ]
     },
     "execution_count": 138,
     "metadata": {},
     "output_type": "execute_result"
    },
    {
     "data": {
      "image/png": "[encoded data removed]",
      "text/plain": [
       "<Figure size 288x288 with 1 Axes>"
      ]
     },
     "metadata": {
      "needs_background": "light"
     },
     "output_type": "display_data"
    }
   ],
   "source": [
    "plt.matshow(out['images'].cpu()[0, 0, 50:100, 50:100])"
   ]
  },
  {
   "cell_type": "code",
   "execution_count": null,
   "metadata": {},
   "outputs": [],
   "source": []
  },
  {
   "cell_type": "code",
   "execution_count": 139,
   "metadata": {},
   "outputs": [
    {
     "data": {
      "text/plain": [
       "torch.Size([1, 1, 310, 310])"
      ]
     },
     "execution_count": 139,
     "metadata": {},
     "output_type": "execute_result"
    }
   ],
   "source": [
    "out['images'].shape"
   ]
  },
  {
   "cell_type": "code",
   "execution_count": null,
   "metadata": {},
   "outputs": [],
   "source": [
    "out = dict(foo = 1)"
   ]
  },
  {
   "cell_type": "code",
   "execution_count": null,
   "metadata": {},
   "outputs": [],
   "source": []
  },
  {
   "cell_type": "code",
   "execution_count": 53,
   "metadata": {},
   "outputs": [
    {
     "data": {
      "text/plain": [
       "{'decoder_kwargs': '${model.decoder.kwargs}', 'n_batches': 10, 'batch_size': 20, 'generate_device': 'cuda:0'}"
      ]
     },
     "execution_count": 53,
     "metadata": {},
     "output_type": "execute_result"
    }
   ],
   "source": [
    "cfg.dataset.kwargs"
   ]
  },
  {
   "cell_type": "code",
   "execution_count": null,
   "metadata": {},
   "outputs": [],
   "source": []
  },
  {
   "cell_type": "code",
   "execution_count": null,
   "metadata": {},
   "outputs": [],
   "source": []
  }
 ],
 "metadata": {
  "kernelspec": {
   "display_name": "bliss_py",
   "language": "python",
   "name": "bliss_py"
  },
  "language_info": {
   "codemirror_mode": {
    "name": "ipython",
    "version": 3
   },
   "file_extension": ".py",
   "mimetype": "text/x-python",
   "name": "python",
   "nbconvert_exporter": "python",
   "pygments_lexer": "ipython3",
   "version": "3.8.5"
  }
 },
 "nbformat": 4,
 "nbformat_minor": 2
}

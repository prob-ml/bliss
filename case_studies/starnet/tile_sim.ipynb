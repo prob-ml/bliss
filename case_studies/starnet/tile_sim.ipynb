{
 "cells": [
  {
   "cell_type": "code",
   "execution_count": 1,
   "metadata": {},
   "outputs": [
    {
     "name": "stdout",
     "output_type": "stream",
     "text": [
      "1.8.1+cu102\n",
      "cuda:3\n"
     ]
    }
   ],
   "source": [
    "import torch\n",
    "import pytorch_lightning as pl\n",
    "\n",
    "device_str = 'cuda:3'\n",
    "device = torch.device(device_str if torch.cuda.is_available() else \"cpu\")\n",
    "\n",
    "torch.cuda.set_device(device)\n",
    "\n",
    "from hydra.utils import instantiate\n",
    "from hydra.experimental import initialize, compose\n",
    "\n",
    "import numpy as np\n",
    "import time \n",
    "from copy import deepcopy\n",
    "\n",
    "import matplotlib.pyplot as plt\n",
    "%matplotlib inline\n",
    "\n",
    "torch.manual_seed(184)\n",
    "np.random.seed(143)\n",
    "\n",
    "print(torch.__version__)\n",
    "print(device)"
   ]
  },
  {
   "cell_type": "code",
   "execution_count": 2,
   "metadata": {},
   "outputs": [],
   "source": [
    "from bliss import sleep"
   ]
  },
  {
   "cell_type": "code",
   "execution_count": 3,
   "metadata": {},
   "outputs": [],
   "source": [
    "import sys\n",
    "sys.path.append('./starnet_utils/')\n",
    "import m2_data\n",
    "import plotting\n",
    "import starnet_metrics\n",
    "import utils"
   ]
  },
  {
   "cell_type": "code",
   "execution_count": 4,
   "metadata": {},
   "outputs": [],
   "source": [
    "%matplotlib inline"
   ]
  },
  {
   "cell_type": "code",
   "execution_count": null,
   "metadata": {},
   "outputs": [],
   "source": []
  },
  {
   "cell_type": "code",
   "execution_count": null,
   "metadata": {},
   "outputs": [],
   "source": []
  },
  {
   "cell_type": "markdown",
   "metadata": {},
   "source": [
    "# Load configs and starnet model"
   ]
  },
  {
   "cell_type": "code",
   "execution_count": 5,
   "metadata": {
    "scrolled": false
   },
   "outputs": [
    {
     "name": "stdout",
     "output_type": "stream",
     "text": [
      "config: \n",
      "{'mode': 'train', 'gpus': 1, 'paths': {'root': None, 'output': '${paths.root}/output', 'sdss': '${paths.root}/data/sdss', 'data': '${paths.root}/data'}, 'datasets': {'simulated_m2': {'_target_': 'bliss.datasets.simulated.SimulatedDataset', 'prior': '${models.prior}', 'decoder': '${models.decoder}', 'background': [686.0, 1123.0], 'n_batches': 10, 'batch_size': 20, 'generate_device': 'cuda:0', 'testing_file': None}}, 'models': {'decoder': {'_target_': 'bliss.models.decoder.ImageDecoder', 'n_bands': 2, 'tile_slen': 2, 'ptile_slen': 26, 'border_padding': 3, 'psf_params_file': '../../../data/sdss/2583/2/136/psField-002583-2-0136.fits', 'sdss_bands': [2, 3]}, 'encoder': {'_target_': 'bliss.models.location_encoder.LocationEncoder', 'n_bands': '${models.decoder.n_bands}', 'tile_slen': '${models.decoder.tile_slen}', 'ptile_slen': 8, 'max_detections': 2, 'channel': 17, 'spatial_dropout': 0.11399, 'dropout': 0.013123, 'hidden': 185}, 'prior': {'_target_': 'bliss.models.prior.ImagePrior', 'n_bands': 2, 'slen': 100, 'tile_slen': 2, 'max_sources': 5, 'mean_sources': 0.48, 'min_sources': 0, 'f_min': 1000.0, 'f_max': 1000000.0, 'alpha': 0.5, 'prob_galaxy': 0.0}, 'sleep': {'_target_': 'bliss.sleep.SleepPhase', 'encoder': '${models.encoder}', 'decoder': '${models.decoder}'}}, 'training': {'model': '${models.sleep}', 'dataset': '${datasets.simulated_m2}', 'optimizer_params': {'lr': 0.00098352, 'weight_decay': 8.041e-05}, 'n_epochs': 400, 'experiment': 'default', 'version': None, 'save_top_k': 1, 'trainer': {'_target_': 'pytorch_lightning.Trainer', 'logger': False, 'enable_checkpointing': False, 'profiler': None, 'reload_dataloaders_every_epoch': False, 'check_val_every_n_epoch': 50, 'max_epochs': '${training.n_epochs}', 'min_epochs': '${training.n_epochs}', 'gpus': '${gpus}', 'log_every_n_steps': 10, 'deterministic': False}, 'weight_save_path': None}}\n"
     ]
    },
    {
     "name": "stderr",
     "output_type": "stream",
     "text": [
      "/home/runingli/anaconda3/envs/bliss_py/lib/python3.8/site-packages/hydra/experimental/initialize.py:35: UserWarning: hydra.experimental.initialize() is no longer experimental. Use hydra.initialize()\n",
      "  warnings.warn(\n",
      "/home/runingli/anaconda3/envs/bliss_py/lib/python3.8/site-packages/hydra/experimental/compose.py:16: UserWarning: hydra.experimental.compose() is no longer experimental. Use hydra.compose()\n",
      "  warnings.warn(\n"
     ]
    }
   ],
   "source": [
    "with initialize(config_path='./scripts/'):\n",
    "    cfg = compose(\"m2\")\n",
    "\n",
    "print('config: ')\n",
    "print(cfg)"
   ]
  },
  {
   "cell_type": "code",
   "execution_count": 6,
   "metadata": {},
   "outputs": [],
   "source": [
    "cfg.datasets.simulated_m2.update({'generate_device': device_str})"
   ]
  },
  {
   "cell_type": "code",
   "execution_count": 7,
   "metadata": {},
   "outputs": [],
   "source": [
    "cfg.models.decoder.update({'psf_params_file': './../../data/sdss/2583/2/136/psField-002583-2-0136.fits'})"
   ]
  },
  {
   "cell_type": "code",
   "execution_count": 8,
   "metadata": {},
   "outputs": [],
   "source": [
    "cfg.models.prior.update({'mean_sources': 0.2})"
   ]
  },
  {
   "cell_type": "code",
   "execution_count": null,
   "metadata": {},
   "outputs": [],
   "source": []
  },
  {
   "cell_type": "code",
   "execution_count": null,
   "metadata": {},
   "outputs": [],
   "source": []
  },
  {
   "cell_type": "markdown",
   "metadata": {},
   "source": [
    "# Define models"
   ]
  },
  {
   "cell_type": "code",
   "execution_count": 9,
   "metadata": {
    "scrolled": true
   },
   "outputs": [],
   "source": [
    "model_filename = './fits/starnet-sparse'\n",
    "\n",
    "dataset = instantiate(cfg.training.dataset)\n",
    "\n",
    "sleep_net = instantiate(cfg.training.model,\n",
    "                        optimizer_params=cfg.training.optimizer_params)\n",
    "\n",
    "sleep_net.image_encoder.load_state_dict(torch.load(model_filename)); "
   ]
  },
  {
   "cell_type": "code",
   "execution_count": 10,
   "metadata": {},
   "outputs": [],
   "source": [
    "sleep_net.image_encoder.to(device);\n",
    "sleep_net.image_encoder.eval(); "
   ]
  },
  {
   "cell_type": "code",
   "execution_count": 11,
   "metadata": {},
   "outputs": [],
   "source": [
    "from bliss.datasets import simulated \n",
    "cfg.datasets.simulated_m2.update({'batch_size': 1})\n",
    "dataset = instantiate(cfg.training.dataset)\n",
    "\n",
    "batch = dataset.get_batch()"
   ]
  },
  {
   "cell_type": "code",
   "execution_count": 12,
   "metadata": {},
   "outputs": [
    {
     "data": {
      "text/plain": [
       "torch.Size([1, 2, 106, 106])"
      ]
     },
     "execution_count": 12,
     "metadata": {},
     "output_type": "execute_result"
    }
   ],
   "source": [
    "batch['images'].shape"
   ]
  },
  {
   "cell_type": "code",
   "execution_count": 13,
   "metadata": {},
   "outputs": [
    {
     "data": {
      "text/plain": [
       "<matplotlib.image.AxesImage at 0x7f3511115400>"
      ]
     },
     "execution_count": 13,
     "metadata": {},
     "output_type": "execute_result"
    },
    {
     "data": {
      "image/png": "[encoded data removed]",
      "text/plain": [
       "<Figure size 288x288 with 1 Axes>"
      ]
     },
     "metadata": {
      "needs_background": "light"
     },
     "output_type": "display_data"
    }
   ],
   "source": [
    "plt.matshow(batch['images'][0, 0].cpu(), \n",
    "            cmap=plt.cm.get_cmap(\"gray\"))"
   ]
  },
  {
   "cell_type": "markdown",
   "metadata": {},
   "source": [
    "# MAP estimates"
   ]
  },
  {
   "cell_type": "code",
   "execution_count": 15,
   "metadata": {},
   "outputs": [],
   "source": [
    "from bliss.models.location_encoder import (\n",
    "    get_full_params_from_tiles,\n",
    "    get_images_in_tiles,\n",
    "    subtract_bg_and_log_transform,\n",
    ")"
   ]
  },
  {
   "cell_type": "code",
   "execution_count": 16,
   "metadata": {},
   "outputs": [],
   "source": [
    "def get_map_estimate(image_encoder, images, background, slen: int, wlen: int = None):\n",
    "    # return full estimate of parameters in full image.\n",
    "    # NOTE: slen*wlen is size of the image without border padding\n",
    "\n",
    "    if wlen is None:\n",
    "        wlen = slen\n",
    "    assert isinstance(slen, int) and isinstance(wlen, int)\n",
    "    # check image compatibility\n",
    "    border1 = (images.shape[-2] - slen) / 2\n",
    "    border2 = (images.shape[-1] - wlen) / 2\n",
    "    assert border1 == border2, \"border paddings on each dimension differ.\"\n",
    "    assert slen % image_encoder.tile_slen == 0, \"incompatible slen\"\n",
    "    assert wlen % image_encoder.tile_slen == 0, \"incompatible wlen\"\n",
    "    assert border1 == image_encoder.border_padding, \"incompatible border\"\n",
    "\n",
    "    # obtained estimates per tile, then on full image.\n",
    "    log_images = subtract_bg_and_log_transform(images, background)\n",
    "    log_image_ptiles = get_images_in_tiles(\n",
    "        log_images, image_encoder.tile_slen, image_encoder.ptile_slen\n",
    "    )\n",
    "    var_params = image_encoder.encode(log_image_ptiles)\n",
    "    # var_params2 = image_encoder.encode(log_image_ptiles[:, :25, :25])\n",
    "    # assert torch.allclose(var_params[0, :25, :25], var_params2, atol=1e-5)\n",
    "    tile_map = image_encoder.max_a_post(var_params)\n",
    "\n",
    "    return get_full_params_from_tiles(tile_map, image_encoder.tile_slen)"
   ]
  },
  {
   "cell_type": "code",
   "execution_count": null,
   "metadata": {},
   "outputs": [],
   "source": []
  },
  {
   "cell_type": "code",
   "execution_count": null,
   "metadata": {},
   "outputs": [],
   "source": []
  },
  {
   "cell_type": "code",
   "execution_count": 17,
   "metadata": {},
   "outputs": [],
   "source": [
    "map_est = get_map_estimate(sleep_net.image_encoder, \n",
    "                           batch['images'],\n",
    "                           dataset.background.view(1, 2, 1, 1).to(device), \n",
    "                           slen = 100)\n",
    "\n",
    "\n",
    "nelec_per_nmgy = 856\n",
    "map_locs = map_est['locs'].squeeze(0) * 100\n",
    "map_mags = utils.convert_nmgy_to_mag(map_est['fluxes'][0, :, 0:1] / nelec_per_nmgy)"
   ]
  },
  {
   "cell_type": "code",
   "execution_count": 18,
   "metadata": {},
   "outputs": [
    {
     "data": {
      "text/plain": [
       "tensor([399], device='cuda:3')"
      ]
     },
     "execution_count": 18,
     "metadata": {},
     "output_type": "execute_result"
    }
   ],
   "source": [
    "map_est['n_sources']"
   ]
  },
  {
   "cell_type": "code",
   "execution_count": null,
   "metadata": {},
   "outputs": [],
   "source": []
  },
  {
   "cell_type": "code",
   "execution_count": 19,
   "metadata": {},
   "outputs": [],
   "source": [
    "true_params = get_full_params_from_tiles({key: batch[key] for key in ['locs', 'fluxes', 'n_sources']},\n",
    "                                         sleep_net.image_encoder.tile_slen)"
   ]
  },
  {
   "cell_type": "code",
   "execution_count": 20,
   "metadata": {},
   "outputs": [
    {
     "data": {
      "text/plain": [
       "tensor([477], device='cuda:3')"
      ]
     },
     "execution_count": 20,
     "metadata": {},
     "output_type": "execute_result"
    }
   ],
   "source": [
    "true_params['n_sources']"
   ]
  },
  {
   "cell_type": "code",
   "execution_count": 21,
   "metadata": {},
   "outputs": [],
   "source": [
    "true_locs = true_params['locs'].squeeze(0) * 100\n",
    "true_mags = utils.convert_nmgy_to_mag(true_params['fluxes'][0, :, 0:1] / nelec_per_nmgy)"
   ]
  },
  {
   "cell_type": "code",
   "execution_count": 22,
   "metadata": {},
   "outputs": [],
   "source": [
    "from starnet_metrics import get_tpr_ppv"
   ]
  },
  {
   "cell_type": "code",
   "execution_count": 23,
   "metadata": {
    "scrolled": true
   },
   "outputs": [
    {
     "data": {
      "text/plain": [
       "(tensor(0.7358, device='cuda:3'), tensor(0.8922, device='cuda:3'))"
      ]
     },
     "execution_count": 23,
     "metadata": {},
     "output_type": "execute_result"
    }
   ],
   "source": [
    "get_tpr_ppv(true_locs,\n",
    "            true_mags,\n",
    "            map_locs,\n",
    "            map_mags,\n",
    "            slack = 0.5)"
   ]
  },
  {
   "cell_type": "code",
   "execution_count": null,
   "metadata": {},
   "outputs": [],
   "source": []
  },
  {
   "cell_type": "code",
   "execution_count": 24,
   "metadata": {},
   "outputs": [],
   "source": [
    "def get_tpr_as_dist_from_tile(): \n",
    "    dist_bins = [0., 0.1, 0.2, 0.3, 0.5, np.inf]\n",
    "    \n",
    "    # distance from border of true locations\n",
    "    tile_slen = sleep_net.image_encoder.tile_slen\n",
    "    coord_from_border = torch.min(true_locs % tile_slen,\n",
    "                                  tile_slen - true_locs % tile_slen)\n",
    "\n",
    "    linf_dist = torch.min(coord_from_border, 1).values\n",
    "    \n",
    "    tpr_vec = np.zeros(len(dist_bins) - 1)\n",
    "    counts_vec = np.zeros(len(dist_bins) - 1)\n",
    "    for i in range(len(dist_bins) - 1):\n",
    "        mask = (linf_dist >= dist_bins[i]) & (linf_dist < dist_bins[i + 1])\n",
    "        \n",
    "        counts_vec[i] = sum(mask)\n",
    "\n",
    "        tpr_vec[i] = get_tpr_ppv(\n",
    "                            true_locs[mask],\n",
    "                            true_mags[mask],\n",
    "                            map_locs,\n",
    "                            map_mags,\n",
    "                            slack = 0.5\n",
    "                        )[0]\n",
    "        \n",
    "    return tpr_vec, dist_bins, counts_vec\n",
    "\n",
    "\n",
    "\n",
    "def get_ppv_as_dist_from_tile(): \n",
    "    dist_bins = [0., 0.1, 0.2, 0.3, 0.5, np.inf]\n",
    "    \n",
    "    # distance from border of **estimated** locations\n",
    "    tile_slen = sleep_net.image_encoder.tile_slen\n",
    "    coord_from_border = torch.min(map_locs % tile_slen,\n",
    "                                  tile_slen - map_locs % tile_slen)\n",
    "\n",
    "    linf_dist = torch.min(coord_from_border, 1).values\n",
    "    \n",
    "    ppv_vec = np.zeros(len(dist_bins) - 1)\n",
    "    counts_vec = np.zeros(len(dist_bins) - 1)\n",
    "    for i in range(len(dist_bins) - 1):\n",
    "        mask = (linf_dist >= dist_bins[i]) & (linf_dist < dist_bins[i + 1])\n",
    "        \n",
    "        \n",
    "        counts_vec[i] = sum(mask)\n",
    "        \n",
    "        ppv_vec[i] = get_tpr_ppv(\n",
    "                            true_locs,\n",
    "                            true_mags,\n",
    "                            map_locs[mask],\n",
    "                            map_mags[mask],\n",
    "                            slack = 0.5\n",
    "                        )[1]\n",
    "    \n",
    "    return ppv_vec, dist_bins, counts_vec"
   ]
  },
  {
   "cell_type": "code",
   "execution_count": 25,
   "metadata": {},
   "outputs": [
    {
     "name": "stdout",
     "output_type": "stream",
     "text": [
      "[102.  76.  84.  93. 122.]\n"
     ]
    }
   ],
   "source": [
    "tpr_vec, dist_bins, counts_vec = get_tpr_as_dist_from_tile()\n",
    "print(counts_vec)"
   ]
  },
  {
   "cell_type": "code",
   "execution_count": 26,
   "metadata": {},
   "outputs": [
    {
     "name": "stdout",
     "output_type": "stream",
     "text": [
      "[ 24.  68.  76. 120. 111.]\n"
     ]
    }
   ],
   "source": [
    "ppv_vec, dist_bins, counts_vec = get_ppv_as_dist_from_tile()\n",
    "print(counts_vec)"
   ]
  },
  {
   "cell_type": "code",
   "execution_count": 27,
   "metadata": {},
   "outputs": [
    {
     "data": {
      "text/plain": [
       "array([0.91666669, 0.95588237, 0.85526317, 0.90000004, 0.86486489])"
      ]
     },
     "execution_count": 27,
     "metadata": {},
     "output_type": "execute_result"
    }
   ],
   "source": [
    "ppv_vec"
   ]
  },
  {
   "cell_type": "code",
   "execution_count": 28,
   "metadata": {
    "scrolled": true
   },
   "outputs": [
    {
     "data": {
      "text/plain": [
       "[0.0, 0.1, 0.2, 0.3, 0.5, inf]"
      ]
     },
     "execution_count": 28,
     "metadata": {},
     "output_type": "execute_result"
    }
   ],
   "source": [
    "dist_bins"
   ]
  },
  {
   "cell_type": "code",
   "execution_count": 29,
   "metadata": {},
   "outputs": [
    {
     "data": {
      "image/png": "[encoded data removed]",
      "text/plain": [
       "<Figure size 936x360 with 2 Axes>"
      ]
     },
     "metadata": {
      "needs_background": "light"
     },
     "output_type": "display_data"
    }
   ],
   "source": [
    "fig, axarr = plt.subplots(1, 2, figsize=(13, 5))\n",
    "\n",
    "_x = np.arange(len(tpr_vec))\n",
    "axarr[0].plot(_x,\n",
    "              tpr_vec,\n",
    "              '-o')\n",
    "axarr[0].set_title('TPR')\n",
    "\n",
    "axarr[1].plot(_x,\n",
    "              ppv_vec,\n",
    "              '-o')\n",
    "axarr[1].set_title('PPV')\n",
    "\n",
    "\n",
    "\n",
    "labels = ['[' + str(dist_bins[i]) + ', ' + str(dist_bins[i+1]) + ')' for i in range(len(dist_bins) - 1)]\n",
    "\n",
    "# labels[0] = '< ' + str(labels_raw[1])\n",
    "# labels[-1] = '> ' + str(labels_raw[-2])\n",
    "\n",
    "for i in range(2): \n",
    "    axarr[i].set_xticks(_x)\n",
    "    axarr[i].set_xticklabels(labels, rotation=45, ha = 'right')\n",
    "    axarr[i].set_xlabel('Dist from tile border in pixels')\n"
   ]
  },
  {
   "cell_type": "code",
   "execution_count": null,
   "metadata": {},
   "outputs": [],
   "source": []
  },
  {
   "cell_type": "code",
   "execution_count": null,
   "metadata": {},
   "outputs": [],
   "source": []
  },
  {
   "cell_type": "code",
   "execution_count": null,
   "metadata": {},
   "outputs": [],
   "source": []
  },
  {
   "cell_type": "code",
   "execution_count": 30,
   "metadata": {},
   "outputs": [],
   "source": [
    "# distance from border of true locations\n",
    "tile_slen = sleep_net.image_encoder.tile_slen\n",
    "coord_from_border = torch.min(true_locs % tile_slen,\n",
    "                              tile_slen - true_locs % tile_slen)\n",
    "\n",
    "linf_dist = torch.min(coord_from_border, 1).values\n",
    "\n",
    "mask = linf_dist < 0.1"
   ]
  },
  {
   "cell_type": "code",
   "execution_count": 35,
   "metadata": {},
   "outputs": [
    {
     "data": {
      "text/plain": [
       "tensor([[ 3.9725, 50.2728],\n",
       "        [ 3.7614, 53.9655],\n",
       "        [ 3.2420, 67.9127],\n",
       "        [ 4.9349, 60.0921],\n",
       "        [ 7.8652, 69.9334],\n",
       "        [ 6.0693, 81.0285],\n",
       "        [ 8.7525, 50.0114],\n",
       "        [ 8.0646, 57.4607],\n",
       "        [ 8.0576, 78.6618],\n",
       "        [ 8.9516, 97.9139],\n",
       "        [11.9070, 76.8516],\n",
       "        [12.0967, 15.4792],\n",
       "        [13.1281, 63.9361],\n",
       "        [13.4741, 77.9057],\n",
       "        [14.0463,  2.5613],\n",
       "        [15.9286, 20.9181],\n",
       "        [15.9519, 83.4879],\n",
       "        [17.4125, 28.0741],\n",
       "        [18.2916,  6.0373],\n",
       "        [21.9793, 69.3728],\n",
       "        [20.0515, 99.9378],\n",
       "        [22.0693, 47.2923],\n",
       "        [22.9464, 56.0889],\n",
       "        [27.5932, 79.9737],\n",
       "        [29.7122, 35.9117],\n",
       "        [29.9618, 69.2150],\n",
       "        [31.9978, 20.0326],\n",
       "        [30.0830, 21.6843],\n",
       "        [30.0450, 93.4043],\n",
       "        [33.2451, 22.0975],\n",
       "        [32.0047, 48.6033],\n",
       "        [34.3963,  1.9149],\n",
       "        [34.4820, 22.0562],\n",
       "        [34.0107, 59.6713],\n",
       "        [35.9918, 93.5243],\n",
       "        [38.5877, 32.0550],\n",
       "        [38.0569, 49.9641],\n",
       "        [41.2014, 21.9300],\n",
       "        [42.2290, 17.9316],\n",
       "        [44.0439, 92.5183],\n",
       "        [47.6791, 82.0927],\n",
       "        [47.9223, 98.1735],\n",
       "        [48.0566, 60.0282],\n",
       "        [49.8810, 80.0492],\n",
       "        [49.9989, 92.6143],\n",
       "        [50.0677, 54.3229],\n",
       "        [50.5375, 61.9137],\n",
       "        [50.3058, 80.0262],\n",
       "        [52.0537,  1.1535],\n",
       "        [52.9788, 40.0834],\n",
       "        [53.9257, 46.5632],\n",
       "        [52.7720, 70.0179],\n",
       "        [53.5007, 74.0165],\n",
       "        [53.9759, 90.1311],\n",
       "        [55.9460, 31.0796],\n",
       "        [54.8449, 72.0876],\n",
       "        [56.3148, 19.9716],\n",
       "        [56.0652, 27.1310],\n",
       "        [56.7550, 42.0590],\n",
       "        [58.0682, 35.5620],\n",
       "        [59.9441, 36.5052],\n",
       "        [58.2352, 41.9297],\n",
       "        [59.8149, 47.9669],\n",
       "        [60.1151, 91.9028],\n",
       "        [62.0690, 23.4498],\n",
       "        [62.4267, 55.9605],\n",
       "        [62.0226, 90.3199],\n",
       "        [65.0787, 88.0847],\n",
       "        [67.9806, 54.3802],\n",
       "        [66.0573, 71.6163],\n",
       "        [69.1620, 32.0453],\n",
       "        [69.4228, 48.0248],\n",
       "        [69.9232, 54.0109],\n",
       "        [70.8062, 53.9287],\n",
       "        [70.0251, 54.8198],\n",
       "        [72.0735, 22.4154],\n",
       "        [73.3987, 60.0297],\n",
       "        [73.4479, 90.0848],\n",
       "        [74.6907, 58.0745],\n",
       "        [75.9700, 84.6277],\n",
       "        [77.9329, 56.8629],\n",
       "        [76.2961, 70.0051],\n",
       "        [76.0153, 98.6489],\n",
       "        [78.5285, 18.0180],\n",
       "        [81.9475,  1.1478],\n",
       "        [80.0545,  7.2143],\n",
       "        [80.0859, 92.9282],\n",
       "        [83.1487, 77.9983],\n",
       "        [84.4847, 76.0117],\n",
       "        [86.9455, 43.9809],\n",
       "        [88.0592, 25.3267],\n",
       "        [91.1808, 86.0479],\n",
       "        [92.0417,  4.1490],\n",
       "        [92.8090,  8.0833],\n",
       "        [95.3635,  6.0188],\n",
       "        [94.2296, 38.0633],\n",
       "        [94.0288, 67.9729],\n",
       "        [96.9408, 21.9130],\n",
       "        [97.7596, 64.0295],\n",
       "        [99.8508, 41.9042],\n",
       "        [98.6316, 71.9513],\n",
       "        [98.0309, 77.1098]], device='cuda:3')"
      ]
     },
     "execution_count": 35,
     "metadata": {},
     "output_type": "execute_result"
    }
   ],
   "source": [
    "true_locs[mask]"
   ]
  },
  {
   "cell_type": "code",
   "execution_count": 36,
   "metadata": {},
   "outputs": [
    {
     "data": {
      "text/plain": [
       "torch.Size([1, 399, 2])"
      ]
     },
     "execution_count": 36,
     "metadata": {},
     "output_type": "execute_result"
    }
   ],
   "source": [
    "map_est['locs'].shape"
   ]
  },
  {
   "cell_type": "code",
   "execution_count": 37,
   "metadata": {},
   "outputs": [
    {
     "data": {
      "text/plain": [
       "torch.Size([106, 106])"
      ]
     },
     "execution_count": 37,
     "metadata": {},
     "output_type": "execute_result"
    }
   ],
   "source": [
    "batch['images'][0, 0].shape"
   ]
  },
  {
   "cell_type": "code",
   "execution_count": null,
   "metadata": {},
   "outputs": [],
   "source": []
  },
  {
   "cell_type": "code",
   "execution_count": 60,
   "metadata": {},
   "outputs": [
    {
     "data": {
      "text/plain": [
       "59"
      ]
     },
     "execution_count": 60,
     "metadata": {},
     "output_type": "execute_result"
    }
   ],
   "source": []
  },
  {
   "cell_type": "code",
   "execution_count": 83,
   "metadata": {},
   "outputs": [
    {
     "data": {
      "image/png": "[encoded data removed]",
      "text/plain": [
       "<Figure size 1296x864 with 1 Axes>"
      ]
     },
     "metadata": {
      "needs_background": "light"
     },
     "output_type": "display_data"
    }
   ],
   "source": [
    "fig, axarr = plt.subplots(1, 1, figsize=(18, 12))\n",
    "\n",
    "_x0 = torch.randint(3, 83, (1, )).numpy()[0]\n",
    "_x1 = torch.randint(3, 83, (1, )).numpy()[0]\n",
    "\n",
    "subimage_slen = 20\n",
    "\n",
    "im = plotting.plot_image(axarr, \n",
    "                         batch['images'][0, 0, ],\n",
    "                         _x0, \n",
    "                         _x1,\n",
    "                         subimage_slen,\n",
    "                         subimage_slen)\n",
    "\n",
    "# true\n",
    "plotting.plot_locations(\n",
    "    true_locs.detach().cpu() + 3, \n",
    "    axarr,\n",
    "    marker='o',\n",
    "    color='b',\n",
    ")\n",
    "\n",
    "# estimated\n",
    "plotting.plot_locations(\n",
    "    map_locs.detach().cpu() + 3, \n",
    "    axarr,\n",
    "    marker='x',\n",
    "    color='r',\n",
    ")\n",
    "\n",
    "for i in range(50):\n",
    "    axarr.axvline(2 * i + \n",
    "                  0.5 +\n",
    "                  sleep_net.image_encoder.border_padding)\n",
    "    \n",
    "    axarr.axhline(2 * i + \n",
    "                  0.5 +\n",
    "                  sleep_net.image_encoder.border_padding)"
   ]
  },
  {
   "cell_type": "code",
   "execution_count": null,
   "metadata": {},
   "outputs": [],
   "source": []
  },
  {
   "cell_type": "code",
   "execution_count": null,
   "metadata": {},
   "outputs": [],
   "source": []
  },
  {
   "cell_type": "code",
   "execution_count": null,
   "metadata": {},
   "outputs": [],
   "source": []
  },
  {
   "cell_type": "code",
   "execution_count": null,
   "metadata": {},
   "outputs": [],
   "source": []
  }
 ],
 "metadata": {
  "kernelspec": {
   "display_name": "bliss_py",
   "language": "python",
   "name": "bliss_py"
  },
  "language_info": {
   "codemirror_mode": {
    "name": "ipython",
    "version": 3
   },
   "file_extension": ".py",
   "mimetype": "text/x-python",
   "name": "python",
   "nbconvert_exporter": "python",
   "pygments_lexer": "ipython3",
   "version": "3.8.5"
  }
 },
 "nbformat": 4,
 "nbformat_minor": 2
}

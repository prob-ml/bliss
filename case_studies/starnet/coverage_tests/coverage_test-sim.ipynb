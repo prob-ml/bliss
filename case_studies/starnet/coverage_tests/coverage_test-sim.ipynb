{
 "cells": [
  {
   "cell_type": "code",
   "execution_count": 1,
   "metadata": {},
   "outputs": [
    {
     "name": "stdout",
     "output_type": "stream",
     "text": [
      "1.8.1+cu102\n",
      "cuda:0\n"
     ]
    }
   ],
   "source": [
    "import torch\n",
    "import pytorch_lightning as pl\n",
    "\n",
    "device = torch.device(\"cuda:0\" if torch.cuda.is_available() else \"cpu\")\n",
    "\n",
    "torch.cuda.set_device(device)\n",
    "\n",
    "from hydra.utils import instantiate\n",
    "from hydra.experimental import initialize, compose\n",
    "\n",
    "import numpy as np\n",
    "import time \n",
    "from copy import deepcopy\n",
    "\n",
    "import matplotlib.pyplot as plt\n",
    "%matplotlib inline\n",
    "\n",
    "torch.manual_seed(184)\n",
    "np.random.seed(143)\n",
    "\n",
    "print(torch.__version__)\n",
    "print(device)"
   ]
  },
  {
   "cell_type": "code",
   "execution_count": 2,
   "metadata": {},
   "outputs": [],
   "source": [
    "from bliss import sleep"
   ]
  },
  {
   "cell_type": "code",
   "execution_count": 3,
   "metadata": {},
   "outputs": [],
   "source": [
    "import sys\n",
    "sys.path.append('./../starnet_utils/')\n",
    "import m2_data\n",
    "import plotting\n",
    "import starnet_metrics\n",
    "import utils"
   ]
  },
  {
   "cell_type": "code",
   "execution_count": 4,
   "metadata": {},
   "outputs": [],
   "source": [
    "%matplotlib inline"
   ]
  },
  {
   "cell_type": "code",
   "execution_count": null,
   "metadata": {},
   "outputs": [],
   "source": []
  },
  {
   "cell_type": "code",
   "execution_count": null,
   "metadata": {},
   "outputs": [],
   "source": []
  },
  {
   "cell_type": "markdown",
   "metadata": {},
   "source": [
    "# Load configs and starnet model"
   ]
  },
  {
   "cell_type": "code",
   "execution_count": 47,
   "metadata": {
    "scrolled": false
   },
   "outputs": [
    {
     "name": "stdout",
     "output_type": "stream",
     "text": [
      "config: \n",
      "{'mode': 'train', 'gpus': 1, 'paths': {'root': None, 'output': '${paths.root}/output', 'sdss': '${paths.root}/data/sdss', 'data': '${paths.root}/data'}, 'datasets': {'simulated_m2': {'_target_': 'bliss.datasets.simulated.SimulatedDataset', 'prior': '${models.prior}', 'decoder': '${models.decoder}', 'background': [686.0], 'n_batches': 10, 'batch_size': 20, 'generate_device': 'cuda:0', 'testing_file': None}}, 'models': {'decoder': {'_target_': 'bliss.models.decoder.ImageDecoder', 'n_bands': 1, 'tile_slen': 2, 'ptile_slen': 26, 'border_padding': 3, 'psf_params_file': '/home/runingli/astronomy/bliss/data/sdss/2583/2/136/psField-002583-2-0136.fits', 'sdss_bands': [2]}, 'encoder': {'_target_': 'bliss.models.location_encoder.LocationEncoder', 'n_bands': '${models.decoder.n_bands}', 'tile_slen': '${models.decoder.tile_slen}', 'ptile_slen': 8, 'max_detections': 1, 'channel': 17, 'spatial_dropout': 0.11399, 'dropout': 0.013123, 'hidden': 185}, 'prior': {'_target_': 'bliss.models.prior.ImagePrior', 'n_bands': 1, 'slen': 100, 'tile_slen': 2, 'max_sources': 1, 'mean_sources': 0.25, 'min_sources': 0, 'f_min': 1000.0, 'f_max': 1000000.0, 'alpha': 0.5, 'prob_galaxy': 0.0}, 'sleep': {'_target_': 'bliss.sleep.SleepPhase', 'encoder': '${models.encoder}', 'decoder': '${models.decoder}'}}, 'training': {'model': '${models.sleep}', 'dataset': '${datasets.simulated_m2}', 'optimizer_params': {'lr': 0.00098352, 'weight_decay': 8.041e-05}, 'n_epochs': 400, 'experiment': 'default', 'version': None, 'save_top_k': 1, 'trainer': {'_target_': 'pytorch_lightning.Trainer', 'logger': False, 'enable_checkpointing': False, 'profiler': None, 'reload_dataloaders_every_epoch': False, 'check_val_every_n_epoch': 50, 'max_epochs': '${training.n_epochs}', 'min_epochs': '${training.n_epochs}', 'gpus': '${gpus}', 'log_every_n_steps': 10, 'deterministic': False}, 'weight_save_path': None}}\n"
     ]
    },
    {
     "name": "stderr",
     "output_type": "stream",
     "text": [
      "/home/runingli/anaconda3/envs/bliss_py/lib/python3.8/site-packages/hydra/experimental/initialize.py:35: UserWarning: hydra.experimental.initialize() is no longer experimental. Use hydra.initialize()\n",
      "  warnings.warn(\n",
      "/home/runingli/anaconda3/envs/bliss_py/lib/python3.8/site-packages/hydra/experimental/compose.py:16: UserWarning: hydra.experimental.compose() is no longer experimental. Use hydra.compose()\n",
      "  warnings.warn(\n"
     ]
    }
   ],
   "source": [
    "with initialize(config_path='./scripts/'):\n",
    "    cfg = compose(\"one_source\")\n",
    "\n",
    "print('config: ')\n",
    "print(cfg)"
   ]
  },
  {
   "cell_type": "code",
   "execution_count": 48,
   "metadata": {},
   "outputs": [],
   "source": [
    "cfg.datasets.simulated_m2.update({'generate_device': 'cuda:0'})"
   ]
  },
  {
   "cell_type": "code",
   "execution_count": null,
   "metadata": {},
   "outputs": [],
   "source": []
  },
  {
   "cell_type": "markdown",
   "metadata": {},
   "source": [
    "# Define models"
   ]
  },
  {
   "cell_type": "code",
   "execution_count": 49,
   "metadata": {
    "scrolled": true
   },
   "outputs": [],
   "source": [
    "model_filename = './fits/starnet-onesource'\n",
    "\n",
    "dataset = instantiate(cfg.training.dataset)\n",
    "\n",
    "sleep_net = instantiate(cfg.training.model,\n",
    "                        optimizer_params=cfg.training.optimizer_params)\n",
    "\n",
    "sleep_net.image_encoder.load_state_dict(torch.load(model_filename)); "
   ]
  },
  {
   "cell_type": "code",
   "execution_count": 50,
   "metadata": {},
   "outputs": [],
   "source": [
    "sleep_net.image_encoder.to(device);\n",
    "sleep_net.image_encoder.eval(); "
   ]
  },
  {
   "cell_type": "code",
   "execution_count": 51,
   "metadata": {},
   "outputs": [],
   "source": [
    "from bliss.datasets import simulated \n",
    "cfg.datasets.simulated_m2.update({'batch_size': 1})\n",
    "dataset = instantiate(cfg.training.dataset)\n",
    "\n",
    "batch =  dataset.get_batch()"
   ]
  },
  {
   "cell_type": "code",
   "execution_count": 52,
   "metadata": {},
   "outputs": [
    {
     "data": {
      "text/plain": [
       "torch.Size([1, 1, 106, 106])"
      ]
     },
     "execution_count": 52,
     "metadata": {},
     "output_type": "execute_result"
    }
   ],
   "source": [
    "batch['images'].shape"
   ]
  },
  {
   "cell_type": "code",
   "execution_count": 53,
   "metadata": {},
   "outputs": [
    {
     "data": {
      "text/plain": [
       "<matplotlib.image.AxesImage at 0x7fe4c40ce730>"
      ]
     },
     "execution_count": 53,
     "metadata": {},
     "output_type": "execute_result"
    },
    {
     "data": {
      "image/png": "[encoded data removed]",
      "text/plain": [
       "<Figure size 288x288 with 1 Axes>"
      ]
     },
     "metadata": {
      "needs_background": "light"
     },
     "output_type": "display_data"
    }
   ],
   "source": [
    "plt.matshow(batch['images'][0, 0].cpu(), \n",
    "            cmap=plt.cm.get_cmap(\"gray\"))"
   ]
  },
  {
   "cell_type": "code",
   "execution_count": null,
   "metadata": {},
   "outputs": [],
   "source": []
  },
  {
   "cell_type": "code",
   "execution_count": null,
   "metadata": {},
   "outputs": [],
   "source": []
  },
  {
   "cell_type": "code",
   "execution_count": 54,
   "metadata": {},
   "outputs": [],
   "source": [
    "from bliss.models.location_encoder import (\n",
    "    get_full_params_from_tiles,\n",
    "    get_images_in_tiles,\n",
    "    subtract_bg_and_log_transform,\n",
    ")"
   ]
  },
  {
   "cell_type": "code",
   "execution_count": 55,
   "metadata": {},
   "outputs": [],
   "source": [
    "def get_map_estimate(image_encoder, images, background, slen: int, wlen: int = None):\n",
    "    # return full estimate of parameters in full image.\n",
    "    # NOTE: slen*wlen is size of the image without border padding\n",
    "\n",
    "    if wlen is None:\n",
    "        wlen = slen\n",
    "    assert isinstance(slen, int) and isinstance(wlen, int)\n",
    "    # check image compatibility\n",
    "    border1 = (images.shape[-2] - slen) / 2\n",
    "    border2 = (images.shape[-1] - wlen) / 2\n",
    "    assert border1 == border2, \"border paddings on each dimension differ.\"\n",
    "    assert slen % image_encoder.tile_slen == 0, \"incompatible slen\"\n",
    "    assert wlen % image_encoder.tile_slen == 0, \"incompatible wlen\"\n",
    "    assert border1 == image_encoder.border_padding, \"incompatible border\"\n",
    "\n",
    "    # obtained estimates per tile, then on full image.\n",
    "    log_images = subtract_bg_and_log_transform(images, background)\n",
    "    log_image_ptiles = get_images_in_tiles(\n",
    "        log_images, image_encoder.tile_slen, image_encoder.ptile_slen\n",
    "    )\n",
    "    var_params = image_encoder.encode(log_image_ptiles)\n",
    "    # var_params2 = image_encoder.encode(log_image_ptiles[:, :25, :25])\n",
    "    # assert torch.allclose(var_params[0, :25, :25], var_params2, atol=1e-5)\n",
    "    tile_map = image_encoder.max_a_post(var_params)\n",
    "\n",
    "    return get_full_params_from_tiles(tile_map, image_encoder.tile_slen)"
   ]
  },
  {
   "cell_type": "code",
   "execution_count": null,
   "metadata": {},
   "outputs": [],
   "source": []
  },
  {
   "cell_type": "code",
   "execution_count": null,
   "metadata": {},
   "outputs": [],
   "source": []
  },
  {
   "cell_type": "code",
   "execution_count": null,
   "metadata": {},
   "outputs": [],
   "source": []
  },
  {
   "cell_type": "code",
   "execution_count": null,
   "metadata": {},
   "outputs": [],
   "source": []
  },
  {
   "cell_type": "markdown",
   "metadata": {},
   "source": [
    "# Check out uncertainties "
   ]
  },
  {
   "cell_type": "code",
   "execution_count": 56,
   "metadata": {},
   "outputs": [],
   "source": [
    "from bliss.models.location_encoder import (\n",
    "    get_full_params_from_tiles,\n",
    "    get_images_in_tiles,\n",
    "    subtract_bg_and_log_transform,\n",
    ")"
   ]
  },
  {
   "cell_type": "code",
   "execution_count": 57,
   "metadata": {},
   "outputs": [],
   "source": [
    "def sample_encoder(image_encoder, images, background, slen: int, wlen: int = None):\n",
    "    # return full estimate of parameters in full image.\n",
    "    # NOTE: slen*wlen is size of the image without border padding\n",
    "\n",
    "    if wlen is None:\n",
    "        wlen = slen\n",
    "    assert isinstance(slen, int) and isinstance(wlen, int)\n",
    "    # check image compatibility\n",
    "    border1 = (images.shape[-2] - slen) / 2\n",
    "    border2 = (images.shape[-1] - wlen) / 2\n",
    "    assert border1 == border2, \"border paddings on each dimension differ.\"\n",
    "    assert slen % image_encoder.tile_slen == 0, \"incompatible slen\"\n",
    "    assert wlen % image_encoder.tile_slen == 0, \"incompatible wlen\"\n",
    "    assert border1 == image_encoder.border_padding, \"incompatible border\"\n",
    "\n",
    "    # obtained estimates per tile, then on full image.\n",
    "    log_images = subtract_bg_and_log_transform(images, background)\n",
    "    log_image_ptiles = get_images_in_tiles(\n",
    "        log_images, image_encoder.tile_slen, image_encoder.ptile_slen\n",
    "    )\n",
    "    var_params = image_encoder.encode(log_image_ptiles)\n",
    "    # var_params2 = image_encoder.encode(log_image_ptiles[:, :25, :25])\n",
    "    # assert torch.allclose(var_params[0, :25, :25], var_params2, atol=1e-5)\n",
    "    tile_samples = image_encoder.sample(var_params, 5000)\n",
    "\n",
    "    return tile_samples"
   ]
  },
  {
   "cell_type": "code",
   "execution_count": null,
   "metadata": {},
   "outputs": [],
   "source": []
  },
  {
   "cell_type": "code",
   "execution_count": 58,
   "metadata": {},
   "outputs": [
    {
     "data": {
      "text/plain": [
       "<matplotlib.image.AxesImage at 0x7fe4c40714c0>"
      ]
     },
     "execution_count": 58,
     "metadata": {},
     "output_type": "execute_result"
    },
    {
     "data": {
      "image/png": "[encoded data removed]",
      "text/plain": [
       "<Figure size 288x288 with 1 Axes>"
      ]
     },
     "metadata": {
      "needs_background": "light"
     },
     "output_type": "display_data"
    }
   ],
   "source": [
    "batch =  dataset.get_batch()\n",
    "\n",
    "plt.matshow(batch['images'][0, 0].cpu(), \n",
    "            cmap=plt.cm.get_cmap(\"gray\"))"
   ]
  },
  {
   "cell_type": "code",
   "execution_count": 59,
   "metadata": {},
   "outputs": [],
   "source": [
    "map_estimate = get_map_estimate(sleep_net.image_encoder, \n",
    "                                batch['images'],\n",
    "                                dataset.background.view(1, 1, 1, 1).to(device), \n",
    "                                slen = 100)"
   ]
  },
  {
   "cell_type": "code",
   "execution_count": 60,
   "metadata": {},
   "outputs": [],
   "source": [
    "tile_samples = sample_encoder(sleep_net.image_encoder, \n",
    "                              batch['images'],\n",
    "                              dataset.background.view(1, 1, 1, 1).to(device), \n",
    "                              slen = 100)"
   ]
  },
  {
   "cell_type": "code",
   "execution_count": 61,
   "metadata": {},
   "outputs": [
    {
     "data": {
      "text/plain": [
       "torch.Size([5000, 1, 50, 50])"
      ]
     },
     "execution_count": 61,
     "metadata": {},
     "output_type": "execute_result"
    }
   ],
   "source": [
    "tile_samples['n_sources'].shape"
   ]
  },
  {
   "cell_type": "code",
   "execution_count": 62,
   "metadata": {},
   "outputs": [],
   "source": [
    "starnet_nsources = tile_samples['n_sources'].sum(-1).sum(-1).sum(-1).detach().cpu().numpy()"
   ]
  },
  {
   "cell_type": "code",
   "execution_count": 63,
   "metadata": {},
   "outputs": [
    {
     "data": {
      "text/plain": [
       "array([606, 624, 625, ..., 615, 603, 610])"
      ]
     },
     "execution_count": 63,
     "metadata": {},
     "output_type": "execute_result"
    }
   ],
   "source": [
    "starnet_nsources"
   ]
  },
  {
   "cell_type": "code",
   "execution_count": 64,
   "metadata": {},
   "outputs": [
    {
     "data": {
      "text/plain": [
       "615.5058"
      ]
     },
     "execution_count": 64,
     "metadata": {},
     "output_type": "execute_result"
    }
   ],
   "source": [
    "starnet_nsources.mean()"
   ]
  },
  {
   "cell_type": "code",
   "execution_count": 65,
   "metadata": {},
   "outputs": [
    {
     "data": {
      "text/plain": [
       "tensor([543], device='cuda:0')"
      ]
     },
     "execution_count": 65,
     "metadata": {},
     "output_type": "execute_result"
    }
   ],
   "source": [
    "map_estimate['n_sources']"
   ]
  },
  {
   "cell_type": "code",
   "execution_count": 66,
   "metadata": {},
   "outputs": [
    {
     "data": {
      "text/plain": [
       "tensor(579, device='cuda:0')"
      ]
     },
     "execution_count": 66,
     "metadata": {},
     "output_type": "execute_result"
    }
   ],
   "source": [
    "batch['n_sources'].sum()"
   ]
  },
  {
   "cell_type": "code",
   "execution_count": 67,
   "metadata": {},
   "outputs": [
    {
     "data": {
      "text/plain": [
       "array([597., 634.])"
      ]
     },
     "execution_count": 67,
     "metadata": {},
     "output_type": "execute_result"
    }
   ],
   "source": [
    "np.quantile(starnet_nsources, q = [0.05, 0.95])"
   ]
  },
  {
   "cell_type": "code",
   "execution_count": null,
   "metadata": {},
   "outputs": [],
   "source": []
  },
  {
   "cell_type": "code",
   "execution_count": null,
   "metadata": {},
   "outputs": [],
   "source": []
  },
  {
   "cell_type": "code",
   "execution_count": 69,
   "metadata": {},
   "outputs": [
    {
     "name": "stdout",
     "output_type": "stream",
     "text": [
      "0\n",
      "100\n",
      "200\n",
      "300\n",
      "400\n",
      "500\n",
      "600\n",
      "700\n",
      "800\n",
      "900\n"
     ]
    }
   ],
   "source": [
    "n_trials = 1000\n",
    "is_covered = np.zeros(n_trials)\n",
    "\n",
    "for i in range(n_trials):\n",
    "    if(i % 100 == 0): \n",
    "        print(i)\n",
    "        \n",
    "    batch =  dataset.get_batch()\n",
    "    tile_samples = sample_encoder(sleep_net.image_encoder, \n",
    "                                  batch['images'],\n",
    "                                  dataset.background.view(1, 1, 1, 1).to(device), \n",
    "                                  slen = 100)\n",
    "    \n",
    "    starnet_nsources = tile_samples['n_sources'].sum(-1).sum(-1).sum(-1).detach().cpu().numpy()\n",
    "    conf_interval = np.quantile(starnet_nsources, \n",
    "                                q = [0.05, 0.95])\n",
    "    \n",
    "    is_covered[i] = (batch['n_sources'].sum() > conf_interval[0]) & \\\n",
    "                    (batch['n_sources'].sum() < conf_interval[1])"
   ]
  },
  {
   "cell_type": "code",
   "execution_count": 70,
   "metadata": {},
   "outputs": [
    {
     "data": {
      "text/plain": [
       "0.002"
      ]
     },
     "execution_count": 70,
     "metadata": {},
     "output_type": "execute_result"
    }
   ],
   "source": [
    "np.mean(is_covered)"
   ]
  },
  {
   "cell_type": "code",
   "execution_count": null,
   "metadata": {},
   "outputs": [],
   "source": []
  },
  {
   "cell_type": "code",
   "execution_count": null,
   "metadata": {},
   "outputs": [],
   "source": []
  },
  {
   "cell_type": "code",
   "execution_count": null,
   "metadata": {},
   "outputs": [],
   "source": []
  }
 ],
 "metadata": {
  "kernelspec": {
   "display_name": "bliss_py",
   "language": "python",
   "name": "bliss_py"
  },
  "language_info": {
   "codemirror_mode": {
    "name": "ipython",
    "version": 3
   },
   "file_extension": ".py",
   "mimetype": "text/x-python",
   "name": "python",
   "nbconvert_exporter": "python",
   "pygments_lexer": "ipython3",
   "version": "3.8.5"
  }
 },
 "nbformat": 4,
 "nbformat_minor": 2
}

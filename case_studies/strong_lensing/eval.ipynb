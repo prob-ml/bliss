{
 "cells": [
  {
   "cell_type": "markdown",
   "id": "5cbed701",
   "metadata": {},
   "source": [
    "# Setup"
   ]
  },
  {
   "cell_type": "code",
   "execution_count": 1,
   "id": "74c00834",
   "metadata": {
    "ExecuteTime": {
     "end_time": "2022-06-02T20:07:21.214363Z",
     "start_time": "2022-06-02T20:07:21.184701Z"
    }
   },
   "outputs": [
    {
     "name": "stdout",
     "output_type": "stream",
     "text": [
      "Modules to reload:\n",
      "all-except-skipped\n",
      "\n",
      "Modules to skip:\n",
      "\n",
      "env: CUDA_VISIBLE_DEVICES=2\n",
      "env: BLISS_HOME=/home/yppatel/bliss\n"
     ]
    }
   ],
   "source": [
    "%load_ext autoreload\n",
    "%autoreload 2\n",
    "%aimport\n",
    "%env CUDA_VISIBLE_DEVICES=2\n",
    "%env BLISS_HOME=/home/yppatel/bliss"
   ]
  },
  {
   "cell_type": "code",
   "execution_count": 10,
   "id": "d79561f7",
   "metadata": {
    "ExecuteTime": {
     "end_time": "2022-06-02T20:08:44.966652Z",
     "start_time": "2022-06-02T20:08:44.922567Z"
    }
   },
   "outputs": [],
   "source": [
    "%matplotlib inline "
   ]
  },
  {
   "cell_type": "code",
   "execution_count": 3,
   "id": "1e614283",
   "metadata": {
    "ExecuteTime": {
     "end_time": "2022-06-02T20:07:24.129494Z",
     "start_time": "2022-06-02T20:07:21.902942Z"
    }
   },
   "outputs": [],
   "source": [
    "import matplotlib.pyplot as plt\n",
    "plt.style.use('ggplot')\n",
    "import torch\n",
    "\n",
    "from bliss.inference import SDSSFrame\n",
    "from bliss.datasets import sdss\n",
    "from bliss.inference import reconstruct_scene_at_coordinates\n",
    "from case_studies.strong_lensing.plots.main import load_models\n",
    "\n",
    "\n",
    "from astropy.table import Table\n",
    "\n",
    "import plotly.express as px\n",
    "import plotly.graph_objects as go"
   ]
  },
  {
   "cell_type": "code",
   "execution_count": 4,
   "id": "d46ad2b5",
   "metadata": {
    "ExecuteTime": {
     "end_time": "2022-06-02T20:07:24.941389Z",
     "start_time": "2022-06-02T20:07:24.131613Z"
    }
   },
   "outputs": [
    {
     "name": "stdout",
     "output_type": "stream",
     "text": [
      "2\n"
     ]
    }
   ],
   "source": [
    "# check GPU is configured correctly\n",
    "device = torch.device('cuda:0')\n",
    "!echo $CUDA_VISIBLE_DEVICES"
   ]
  },
  {
   "cell_type": "markdown",
   "id": "5a761237",
   "metadata": {},
   "source": [
    "# Encoder blend images"
   ]
  },
  {
   "cell_type": "code",
   "execution_count": 28,
   "id": "4ff19040",
   "metadata": {
    "ExecuteTime": {
     "end_time": "2022-06-02T20:07:29.351432Z",
     "start_time": "2022-06-02T20:07:25.743698Z"
    }
   },
   "outputs": [],
   "source": [
    "# load models\n",
    "from hydra import compose, initialize\n",
    "from hydra.utils import instantiate\n",
    "from bliss.encoder import Encoder\n",
    "\n",
    "with initialize(config_path=\"config\"):\n",
    "    cfg = compose(\"config\", overrides=[])\n",
    "    \n",
    "    \n",
    "enc, dec = load_models(cfg, device)\n",
    "bp = enc.border_padding\n",
    "torch.cuda.empty_cache()"
   ]
  },
  {
   "cell_type": "code",
   "execution_count": 29,
   "id": "9a8e3660",
   "metadata": {
    "ExecuteTime": {
     "end_time": "2022-06-02T20:07:29.384952Z",
     "start_time": "2022-06-02T20:07:29.353257Z"
    }
   },
   "outputs": [],
   "source": [
    "enc.n_rows_per_batch = 10\n",
    "enc.n_images_per_batch = 15"
   ]
  },
  {
   "cell_type": "code",
   "execution_count": 30,
   "id": "4b676f7c",
   "metadata": {
    "ExecuteTime": {
     "end_time": "2022-06-02T20:07:31.302569Z",
     "start_time": "2022-06-02T20:07:29.386570Z"
    }
   },
   "outputs": [],
   "source": [
    "dataset = instantiate(\n",
    "    cfg.datasets.simulated,\n",
    "    generate_device=\"cuda:0\",\n",
    ")"
   ]
  },
  {
   "cell_type": "code",
   "execution_count": 31,
   "id": "487f5e5d",
   "metadata": {},
   "outputs": [],
   "source": [
    "sample_batch_size = 16\n",
    "tile_catalog = dataset.sample_prior(sample_batch_size, cfg.datasets.simulated.n_tiles_h, cfg.datasets.simulated.n_tiles_w)\n",
    "tile_catalog.set_all_fluxes_and_mags(dataset.image_decoder)"
   ]
  },
  {
   "cell_type": "code",
   "execution_count": 32,
   "id": "e2912d1c",
   "metadata": {},
   "outputs": [
    {
     "ename": "TypeError",
     "evalue": "__call__() missing 1 required positional argument: 'lensed_galaxy_bools'",
     "output_type": "error",
     "traceback": [
      "\u001b[0;31m---------------------------------------------------------------------------\u001b[0m",
      "\u001b[0;31mTypeError\u001b[0m                                 Traceback (most recent call last)",
      "\u001b[1;32m/home/yppatel/bliss/case_studies/strong_lensing/eval.ipynb Cell 11\u001b[0m in \u001b[0;36m<cell line: 1>\u001b[0;34m()\u001b[0m\n\u001b[0;32m----> <a href='vscode-notebook-cell://ssh-remote%2Bdeeplearning-01.stat.lsa.umich.edu/home/yppatel/bliss/case_studies/strong_lensing/eval.ipynb#X13sdnNjb2RlLXJlbW90ZQ%3D%3D?line=0'>1</a>\u001b[0m images, backgrounds \u001b[39m=\u001b[39m dataset\u001b[39m.\u001b[39;49msimulate_image_from_catalog(tile_catalog)\n\u001b[1;32m      <a href='vscode-notebook-cell://ssh-remote%2Bdeeplearning-01.stat.lsa.umich.edu/home/yppatel/bliss/case_studies/strong_lensing/eval.ipynb#X13sdnNjb2RlLXJlbW90ZQ%3D%3D?line=2'>3</a>\u001b[0m tile_map \u001b[39m=\u001b[39m enc\u001b[39m.\u001b[39mvariational_mode(images, backgrounds)\n\u001b[1;32m      <a href='vscode-notebook-cell://ssh-remote%2Bdeeplearning-01.stat.lsa.umich.edu/home/yppatel/bliss/case_studies/strong_lensing/eval.ipynb#X13sdnNjb2RlLXJlbW90ZQ%3D%3D?line=3'>4</a>\u001b[0m full_map \u001b[39m=\u001b[39m tile_map\u001b[39m.\u001b[39mcpu()\u001b[39m.\u001b[39mto_full_params()\n",
      "File \u001b[0;32m~/bliss/bliss/datasets/simulated.py:74\u001b[0m, in \u001b[0;36mSimulatedDataset.simulate_image_from_catalog\u001b[0;34m(self, tile_catalog)\u001b[0m\n\u001b[1;32m     73\u001b[0m \u001b[39mdef\u001b[39;00m \u001b[39msimulate_image_from_catalog\u001b[39m(\u001b[39mself\u001b[39m, tile_catalog: TileCatalog) \u001b[39m-\u001b[39m\u001b[39m>\u001b[39m Tuple[Tensor, Tensor]:\n\u001b[0;32m---> 74\u001b[0m     images \u001b[39m=\u001b[39m \u001b[39mself\u001b[39;49m\u001b[39m.\u001b[39;49mimage_decoder\u001b[39m.\u001b[39;49mrender_images(tile_catalog)\n\u001b[1;32m     75\u001b[0m     background \u001b[39m=\u001b[39m \u001b[39mself\u001b[39m\u001b[39m.\u001b[39mbackground\u001b[39m.\u001b[39msample(images\u001b[39m.\u001b[39mshape)\n\u001b[1;32m     76\u001b[0m     images \u001b[39m+\u001b[39m\u001b[39m=\u001b[39m background\n",
      "File \u001b[0;32m~/bliss/bliss/models/decoder.py:109\u001b[0m, in \u001b[0;36mImageDecoder.render_images\u001b[0;34m(self, tile_catalog)\u001b[0m\n\u001b[1;32m     98\u001b[0m \u001b[39mdef\u001b[39;00m \u001b[39mrender_images\u001b[39m(\u001b[39mself\u001b[39m, tile_catalog: TileCatalog) \u001b[39m-\u001b[39m\u001b[39m>\u001b[39m Tensor:\n\u001b[1;32m     99\u001b[0m     \u001b[39m\"\"\"Renders tile catalog latent variables into a full astronomical image.\u001b[39;00m\n\u001b[1;32m    100\u001b[0m \n\u001b[1;32m    101\u001b[0m \u001b[39m    Args:\u001b[39;00m\n\u001b[0;32m   (...)\u001b[0m\n\u001b[1;32m    107\u001b[0m \u001b[39m        The **full** image in shape (batch_size x n_bands x slen x slen).\u001b[39;00m\n\u001b[1;32m    108\u001b[0m \u001b[39m    \"\"\"\u001b[39;00m\n\u001b[0;32m--> 109\u001b[0m     image_ptiles \u001b[39m=\u001b[39m \u001b[39mself\u001b[39;49m\u001b[39m.\u001b[39;49m_render_ptiles(tile_catalog)\n\u001b[1;32m    110\u001b[0m     \u001b[39mreturn\u001b[39;00m \u001b[39mself\u001b[39m\u001b[39m.\u001b[39m_reconstruct_image_from_ptiles(image_ptiles)\n",
      "File \u001b[0;32m~/bliss/bliss/models/decoder.py:240\u001b[0m, in \u001b[0;36mImageDecoder._render_ptiles\u001b[0;34m(self, tile_catalog)\u001b[0m\n\u001b[1;32m    235\u001b[0m     galaxies \u001b[39m=\u001b[39m \u001b[39mself\u001b[39m\u001b[39m.\u001b[39mgalaxy_tile_decoder(\n\u001b[1;32m    236\u001b[0m         locs, tile_catalog[\u001b[39m\"\u001b[39m\u001b[39mgalaxy_params\u001b[39m\u001b[39m\"\u001b[39m], galaxy_bools\n\u001b[1;32m    237\u001b[0m     )\n\u001b[1;32m    239\u001b[0m \u001b[39mif\u001b[39;00m \u001b[39mself\u001b[39m\u001b[39m.\u001b[39mlensed_galaxy_tile_decoder \u001b[39mis\u001b[39;00m \u001b[39mnot\u001b[39;00m \u001b[39mNone\u001b[39;00m:\n\u001b[0;32m--> 240\u001b[0m     lensed_galaxies \u001b[39m=\u001b[39m \u001b[39mself\u001b[39;49m\u001b[39m.\u001b[39;49mlensed_galaxy_tile_decoder(\n\u001b[1;32m    241\u001b[0m         locs, tile_catalog[\u001b[39m\"\u001b[39;49m\u001b[39mlens_params\u001b[39;49m\u001b[39m\"\u001b[39;49m], lensed_galaxy_bools\n\u001b[1;32m    242\u001b[0m     )\n\u001b[1;32m    244\u001b[0m \u001b[39mreturn\u001b[39;00m lensed_galaxies\u001b[39m.\u001b[39mview(img_shape) \u001b[39m+\u001b[39m galaxies\u001b[39m.\u001b[39mview(img_shape) \u001b[39m+\u001b[39m stars\u001b[39m.\u001b[39mview(img_shape)\n",
      "File \u001b[0;32m~/.cache/pypoetry/virtualenvs/bliss-vKFXZHWe-py3.8/lib/python3.8/site-packages/torch/nn/modules/module.py:1110\u001b[0m, in \u001b[0;36mModule._call_impl\u001b[0;34m(self, *input, **kwargs)\u001b[0m\n\u001b[1;32m   1106\u001b[0m \u001b[39m# If we don't have any hooks, we want to skip the rest of the logic in\u001b[39;00m\n\u001b[1;32m   1107\u001b[0m \u001b[39m# this function, and just call forward.\u001b[39;00m\n\u001b[1;32m   1108\u001b[0m \u001b[39mif\u001b[39;00m \u001b[39mnot\u001b[39;00m (\u001b[39mself\u001b[39m\u001b[39m.\u001b[39m_backward_hooks \u001b[39mor\u001b[39;00m \u001b[39mself\u001b[39m\u001b[39m.\u001b[39m_forward_hooks \u001b[39mor\u001b[39;00m \u001b[39mself\u001b[39m\u001b[39m.\u001b[39m_forward_pre_hooks \u001b[39mor\u001b[39;00m _global_backward_hooks\n\u001b[1;32m   1109\u001b[0m         \u001b[39mor\u001b[39;00m _global_forward_hooks \u001b[39mor\u001b[39;00m _global_forward_pre_hooks):\n\u001b[0;32m-> 1110\u001b[0m     \u001b[39mreturn\u001b[39;00m forward_call(\u001b[39m*\u001b[39;49m\u001b[39minput\u001b[39;49m, \u001b[39m*\u001b[39;49m\u001b[39m*\u001b[39;49mkwargs)\n\u001b[1;32m   1111\u001b[0m \u001b[39m# Do not call functions when jit is used\u001b[39;00m\n\u001b[1;32m   1112\u001b[0m full_backward_hooks, non_full_backward_hooks \u001b[39m=\u001b[39m [], []\n",
      "File \u001b[0;32m~/bliss/bliss/models/decoder.py:557\u001b[0m, in \u001b[0;36mLensedGalaxyTileDecoder.forward\u001b[0;34m(self, locs, lens_params, lensed_galaxy_bools)\u001b[0m\n\u001b[1;32m    554\u001b[0m \u001b[39massert\u001b[39;00m lens_params\u001b[39m.\u001b[39mshape[\u001b[39m1\u001b[39m] \u001b[39m==\u001b[39m lensed_galaxy_bools\u001b[39m.\u001b[39mshape[\u001b[39m1\u001b[39m] \u001b[39m==\u001b[39m max_sources\n\u001b[1;32m    555\u001b[0m \u001b[39massert\u001b[39;00m lensed_galaxy_bools\u001b[39m.\u001b[39mshape[\u001b[39m2\u001b[39m] \u001b[39m==\u001b[39m \u001b[39m1\u001b[39m\n\u001b[0;32m--> 557\u001b[0m single_lensed_galaxies \u001b[39m=\u001b[39m \u001b[39mself\u001b[39;49m\u001b[39m.\u001b[39;49m_render_single_lensed_galaxies(lens_params, lensed_galaxy_bools)\n\u001b[1;32m    559\u001b[0m \u001b[39mreturn\u001b[39;00m \u001b[39mself\u001b[39m\u001b[39m.\u001b[39mtiler(\n\u001b[1;32m    560\u001b[0m     locs,\n\u001b[1;32m    561\u001b[0m     single_lensed_galaxies \u001b[39m*\u001b[39m lensed_galaxy_bools\u001b[39m.\u001b[39munsqueeze(\u001b[39m-\u001b[39m\u001b[39m1\u001b[39m)\u001b[39m.\u001b[39munsqueeze(\u001b[39m-\u001b[39m\u001b[39m1\u001b[39m),\n\u001b[1;32m    562\u001b[0m )\n",
      "File \u001b[0;32m~/bliss/bliss/models/decoder.py:578\u001b[0m, in \u001b[0;36mLensedGalaxyTileDecoder._render_single_lensed_galaxies\u001b[0;34m(self, lens_params, lensed_galaxy_bools)\u001b[0m\n\u001b[1;32m    574\u001b[0m lensed_gal \u001b[39m=\u001b[39m torch\u001b[39m.\u001b[39mzeros(z_lens\u001b[39m.\u001b[39mshape[\u001b[39m0\u001b[39m], \u001b[39mself\u001b[39m\u001b[39m.\u001b[39mn_bands, slen, slen, device\u001b[39m=\u001b[39mlens_params\u001b[39m.\u001b[39mdevice)\n\u001b[1;32m    576\u001b[0m \u001b[39m# forward only galaxies that are on!\u001b[39;00m\n\u001b[1;32m    577\u001b[0m \u001b[39m# no background\u001b[39;00m\n\u001b[0;32m--> 578\u001b[0m lensed_gal_on \u001b[39m=\u001b[39m \u001b[39mself\u001b[39;49m\u001b[39m.\u001b[39;49mlens_decoder(z_lens[b_lens \u001b[39m==\u001b[39;49m \u001b[39m1\u001b[39;49m])\n\u001b[1;32m    580\u001b[0m \u001b[39m# size the galaxy (either trims or crops to the size of ptile)\u001b[39;00m\n\u001b[1;32m    581\u001b[0m lensed_gal_on \u001b[39m=\u001b[39m \u001b[39mself\u001b[39m\u001b[39m.\u001b[39msize_lens(lensed_gal_on)\n",
      "\u001b[0;31mTypeError\u001b[0m: __call__() missing 1 required positional argument: 'lensed_galaxy_bools'"
     ]
    }
   ],
   "source": [
    "images, backgrounds = dataset.simulate_image_from_catalog(tile_catalog)\n",
    "\n",
    "tile_map = enc.variational_mode(images, backgrounds)\n",
    "full_map = tile_map.cpu().to_full_params()\n",
    "full_true = tile_catalog.cpu().to_full_params()\n",
    "\n",
    "# plt.rcParams[\"axes.grid\"] = False\n",
    "# fig, axs = plt.subplots(1, 1, figsize=(8, 6), dpi=120)\n",
    "\n",
    "# test_i = 9\n",
    "# fig = plt.imshow(images[test_i,0,:,:].cpu())\n",
    "# true_lens_pos = full_true.plocs[test_i,...][torch.nonzero(full_true[\"lensed_galaxy_bools\"][test_i,:,0])].squeeze(1)\n",
    "# print(full_true[\"lens_params\"][test_i,2,:])\n",
    "# plt.scatter(true_lens_pos[:, 1] - 0.5 + enc.border_padding, true_lens_pos[:, 0] - 0.5 + enc.border_padding, marker='x', \n",
    "#             color='r', s=75)\n",
    "\n",
    "fig, axs = plt.subplots(sample_batch_size // 4, 4, figsize=(8, 6), dpi=120)\n",
    "\n",
    "# print([torch.sum(full_true[\"galaxy_bools\"][i,...]) for i in range(16)])\n",
    "# print([torch.sum(full_map[\"galaxy_bools\"][i,...]) for i in range(16)])\n",
    "\n",
    "for i in range(sample_batch_size):\n",
    "    offset_i = i# + 64\n",
    "\n",
    "    axs[i // 4, i % 4].imshow(images[offset_i,0,:,:].cpu())\n",
    "\n",
    "    true_lens_pos = full_true.plocs[i,...][torch.nonzero(full_true[\"galaxy_bools\"][i,:,0])].squeeze(1)\n",
    "    map_lens_pos = full_map.plocs[i,...][torch.nonzero(full_map[\"galaxy_bools\"][i,:,0])].squeeze(1)\n",
    "\n",
    "    true_lens_pos = full_true.plocs[offset_i,...][torch.nonzero(full_true[\"lensed_galaxy_bools\"][offset_i,:,0])].squeeze(1)\n",
    "    map_lens_pos = full_map.plocs[offset_i,...][torch.nonzero(full_map[\"lensed_galaxy_bools\"][offset_i,:,0])].squeeze(1)\n",
    "\n",
    "    axs[i // 4, i % 4].scatter(true_lens_pos[:, 1] - 0.5 + enc.border_padding, true_lens_pos[:, 0] - 0.5 + enc.border_padding, marker='x', \n",
    "            color='r', s=75)\n",
    "    axs[i // 4, i % 4].scatter(map_lens_pos[:, 1] - 0.5 + enc.border_padding, map_lens_pos[:, 0] - 0.5 + enc.border_padding, marker='+', \n",
    "                color='b', s=100)"
   ]
  },
  {
   "cell_type": "code",
   "execution_count": 12,
   "id": "d70408aa",
   "metadata": {},
   "outputs": [
    {
     "ename": "TypeError",
     "evalue": "variational_mode() missing 1 required positional argument: 'true_tile_catalog'",
     "output_type": "error",
     "traceback": [
      "\u001b[0;31m---------------------------------------------------------------------------\u001b[0m",
      "\u001b[0;31mTypeError\u001b[0m                                 Traceback (most recent call last)",
      "\u001b[1;32m/home/yppatel/bliss/case_studies/strong_lensing/eval.ipynb Cell 12'\u001b[0m in \u001b[0;36m<cell line: 3>\u001b[0;34m()\u001b[0m\n\u001b[1;32m      <a href='vscode-notebook-cell://ssh-remote%2Bdeeplearning-01.stat.lsa.umich.edu/home/yppatel/bliss/case_studies/strong_lensing/eval.ipynb#ch0000011vscode-remote?line=0'>1</a>\u001b[0m images, backgrounds \u001b[39m=\u001b[39m dataset\u001b[39m.\u001b[39msimulate_image_from_catalog(tile_catalog)\n\u001b[0;32m----> <a href='vscode-notebook-cell://ssh-remote%2Bdeeplearning-01.stat.lsa.umich.edu/home/yppatel/bliss/case_studies/strong_lensing/eval.ipynb#ch0000011vscode-remote?line=2'>3</a>\u001b[0m tile_map \u001b[39m=\u001b[39m enc\u001b[39m.\u001b[39;49mvariational_mode(images, backgrounds)\n\u001b[1;32m      <a href='vscode-notebook-cell://ssh-remote%2Bdeeplearning-01.stat.lsa.umich.edu/home/yppatel/bliss/case_studies/strong_lensing/eval.ipynb#ch0000011vscode-remote?line=3'>4</a>\u001b[0m full_map \u001b[39m=\u001b[39m tile_map\u001b[39m.\u001b[39mcpu()\u001b[39m.\u001b[39mto_full_params()\n\u001b[1;32m      <a href='vscode-notebook-cell://ssh-remote%2Bdeeplearning-01.stat.lsa.umich.edu/home/yppatel/bliss/case_studies/strong_lensing/eval.ipynb#ch0000011vscode-remote?line=4'>5</a>\u001b[0m full_true \u001b[39m=\u001b[39m tile_catalog\u001b[39m.\u001b[39mcpu()\u001b[39m.\u001b[39mto_full_params()\n",
      "\u001b[0;31mTypeError\u001b[0m: variational_mode() missing 1 required positional argument: 'true_tile_catalog'"
     ]
    }
   ],
   "source": [
    "images, backgrounds = dataset.simulate_image_from_catalog(tile_catalog)\n",
    "\n",
    "tile_map = enc.variational_mode(images, backgrounds, None)\n",
    "full_map = tile_map.cpu().to_full_params()\n",
    "full_true = tile_catalog.cpu().to_full_params()\n",
    "\n",
    "plt.rcParams[\"axes.grid\"] = False\n",
    "# fig, axs = plt.subplots(1, 1, figsize=(8, 6), dpi=120)\n",
    "\n",
    "# test_i = 9\n",
    "# fig = plt.imshow(images[test_i,0,:,:].cpu())\n",
    "# true_lens_pos = full_true.plocs[test_i,...][torch.nonzero(full_true[\"lensed_galaxy_bools\"][test_i,:,0])].squeeze(1)\n",
    "# print(full_true[\"lens_params\"][test_i,2,:])\n",
    "# plt.scatter(true_lens_pos[:, 1] - 0.5 + enc.border_padding, true_lens_pos[:, 0] - 0.5 + enc.border_padding, marker='x', \n",
    "#             color='r', s=75)\n",
    "\n",
    "fig, axs = plt.subplots(sample_batch_size // 4, 4, figsize=(8, 6), dpi=120)\n",
    "\n",
    "# print([torch.sum(full_true[\"galaxy_bools\"][i,...]) for i in range(16)])\n",
    "# print([torch.sum(full_map[\"galaxy_bools\"][i,...]) for i in range(16)])\n",
    "\n",
    "for i in range(sample_batch_size):\n",
    "    offset_i = i# + 64\n",
    "\n",
    "    axs[i // 4, i % 4].imshow(images[offset_i,0,:,:].cpu())\n",
    "\n",
    "    true_lens_pos = full_true.plocs[i,...][torch.nonzero(full_true[\"galaxy_bools\"][i,:,0])].squeeze(1)\n",
    "    map_lens_pos = full_map.plocs[i,...][torch.nonzero(full_map[\"galaxy_bools\"][i,:,0])].squeeze(1)\n",
    "\n",
    "    true_lens_pos = full_true.plocs[offset_i,...][torch.nonzero(full_true[\"lensed_galaxy_bools\"][offset_i,:,0])].squeeze(1)\n",
    "    map_lens_pos = full_map.plocs[offset_i,...][torch.nonzero(full_map[\"lensed_galaxy_bools\"][offset_i,:,0])].squeeze(1)\n",
    "\n",
    "    axs[i // 4, i % 4].scatter(true_lens_pos[:, 1] - 0.5 + enc.border_padding, true_lens_pos[:, 0] - 0.5 + enc.border_padding, marker='x', \n",
    "            color='r', s=75)\n",
    "    axs[i // 4, i % 4].scatter(map_lens_pos[:, 1] - 0.5 + enc.border_padding, map_lens_pos[:, 0] - 0.5 + enc.border_padding, marker='+', \n",
    "                color='b', s=100)"
   ]
  },
  {
   "cell_type": "code",
   "execution_count": null,
   "id": "ecb10255",
   "metadata": {},
   "outputs": [],
   "source": [
    "from bliss import reporting\n",
    "import numpy as np\n",
    "\n",
    "def compute_metrics(truth, pred, true_property, pred_property):\n",
    "    tplocs = truth.plocs.reshape(-1, 2)\n",
    "    eplocs = pred.plocs.reshape(-1, 2)\n",
    "    tindx, eindx, dkeep, _ = reporting.match_by_locs(tplocs, eplocs, slack=1.0)\n",
    "\n",
    "    true_vals = truth[true_property][0, tindx][dkeep].numpy()\n",
    "    pred_vals = pred[pred_property][0, eindx][dkeep].numpy()\n",
    "\n",
    "    # print(f\"truth: {truth[true_property]}\")\n",
    "    # print(f\"true_vals: {true_vals}\")\n",
    "\n",
    "    full_metrics = {\n",
    "        \"truth\": true_vals,\n",
    "        \"pred\": pred_vals,\n",
    "    }\n",
    "\n",
    "    return full_metrics\n",
    "\n",
    "def verify_percentile(metrics, percent):\n",
    "    truth = metrics[\"truth\"]\n",
    "    pred = metrics[\"pred\"]\n",
    "    \n",
    "    eps = .01\n",
    "    masks = np.logical_and(\n",
    "        percent - eps < pred, \n",
    "        pred < percent + eps) \n",
    "    \n",
    "    masked = truth[np.where(masks)]\n",
    "    percent = np.sum(masked) / len(masked)\n",
    "    return percent\n",
    "\n",
    "def bool_posterior_validation(full_true, full_map, true_property, pred_property):\n",
    "    metrics = compute_metrics(full_true, full_map, true_property, pred_property)\n",
    "    percentiles = np.arange(0, 1.0, 0.025)\n",
    "    empirical = [verify_percentile(metrics, percentile) for percentile in percentiles]\n",
    "    return percentiles, empirical"
   ]
  },
  {
   "cell_type": "code",
   "execution_count": 78,
   "id": "5d8c7260",
   "metadata": {},
   "outputs": [
    {
     "name": "stderr",
     "output_type": "stream",
     "text": [
      "Encoding ptiles: 35it [00:07,  4.60it/s]\n"
     ]
    }
   ],
   "source": [
    "torch.cuda.empty_cache()\n",
    "dataset = instantiate(\n",
    "    cfg.datasets.simulated,\n",
    "    generate_device=\"cuda:0\",\n",
    ")\n",
    "\n",
    "batch_size = 512\n",
    "tile_catalog = dataset.sample_prior(batch_size, cfg.datasets.simulated.n_tiles_h, cfg.datasets.simulated.n_tiles_w)\n",
    "tile_catalog.set_all_fluxes_and_mags(dataset.image_decoder)\n",
    "images, backgrounds = dataset.simulate_image_from_catalog(tile_catalog)\n",
    "\n",
    "# run encoder and prepare truth for analysis\n",
    "tile_map = enc.variational_mode(images, backgrounds)\n",
    "full_map = tile_map.cpu().to_full_params()\n",
    "full_true = tile_catalog.cpu().to_full_params()"
   ]
  },
  {
   "cell_type": "code",
   "execution_count": 108,
   "id": "73503af9",
   "metadata": {},
   "outputs": [
    {
     "name": "stderr",
     "output_type": "stream",
     "text": [
      "Encoding ptiles: 1it [00:00, 36.93it/s]\n",
      "/tmp/ipykernel_215304/535312749.py:29: RuntimeWarning: invalid value encountered in true_divide\n",
      "  percent = np.sum(masked) / len(masked)\n",
      "Encoding ptiles: 1it [00:00, 37.48it/s]\n",
      "Encoding ptiles: 1it [00:00, 37.29it/s]\n",
      "Encoding ptiles: 1it [00:00, 42.33it/s]\n",
      "Encoding ptiles: 1it [00:00, 42.16it/s]\n",
      "Encoding ptiles: 1it [00:00, 42.31it/s]\n",
      "Encoding ptiles: 1it [00:00, 42.66it/s]\n",
      "Encoding ptiles: 1it [00:00, 42.66it/s]\n",
      "Encoding ptiles: 1it [00:00, 42.52it/s]\n",
      "Encoding ptiles: 1it [00:00, 42.84it/s]\n"
     ]
    }
   ],
   "source": [
    "true_posterior_property = \"lensed_galaxy_bools\"\n",
    "pred_posterior_property = \"lensed_galaxy_probs\"\n",
    "# empiricals = []\n",
    "\n",
    "for _ in range(250):\n",
    "    tile_catalog = dataset.sample_prior(batch_size, cfg.datasets.simulated.n_tiles_h, cfg.datasets.simulated.n_tiles_w)\n",
    "    tile_catalog.set_all_fluxes_and_mags(dataset.image_decoder)\n",
    "    images, backgrounds = dataset.simulate_image_from_catalog(tile_catalog)\n",
    "\n",
    "    # run encoder and prepare truth for analysis\n",
    "    tile_map = enc.variational_mode(images, backgrounds)\n",
    "    full_map = tile_map.cpu().to_full_params()\n",
    "    full_true = tile_catalog.cpu().to_full_params()\n",
    "\n",
    "    percentiles, empirical = bool_posterior_validation(full_true, full_map, true_posterior_property, pred_posterior_property)\n",
    "    empiricals.append(empirical)"
   ]
  },
  {
   "cell_type": "code",
   "execution_count": 109,
   "id": "9fa12ad0",
   "metadata": {},
   "outputs": [
    {
     "name": "stderr",
     "output_type": "stream",
     "text": [
      "/tmp/ipykernel_215304/369739401.py:1: RuntimeWarning: Mean of empty slice\n",
      "  empirical = np.nanmean(empiricals, axis=0)\n"
     ]
    },
    {
     "data": {
      "image/png": "[encoded data removed]",
      "text/plain": [
       "<Figure size 432x288 with 1 Axes>"
      ]
     },
     "metadata": {
      "needs_background": "light"
     },
     "output_type": "display_data"
    }
   ],
   "source": [
    "empirical = np.nanmean(empiricals, axis=0)\n",
    "plt.plot(percentiles, percentiles, color=\"b\")\n",
    "plt.scatter(percentiles, empirical)\n",
    "plt.show()"
   ]
  },
  {
   "cell_type": "code",
   "execution_count": 17,
   "id": "6f59c2e5",
   "metadata": {},
   "outputs": [],
   "source": [
    "from bliss.catalog import TileCatalog\n",
    "\n",
    "def compute_bayes_coverage(property, confidence_percent):\n",
    "    num_coverage_attempts = 0 # not necessarily = num_trials, since we can have multiple per trial\n",
    "    num_trials = 25\n",
    "    num_samples = 25\n",
    "    total_contained = None\n",
    "\n",
    "    # compute empirical coverage of Bayes credible intervals: construct Bayes CI over a number of trials\n",
    "    # by empirically sampling some number of times (although each \"sampling\" operation actually yields\n",
    "    # multiple samples for the variable of interest, i.e. each sample may have multiple galaxies)\n",
    "    # and computing the 90% empirical bounds for the samples. Each 90% CI and coverage event yields a *single*\n",
    "    # point, since we see whether or not the truth was covered in that case\n",
    "\n",
    "    for trial in range(num_trials):\n",
    "        # generate data for a *single* run (may contain multiple \"samples\" of interest by the above)\n",
    "        batch_size = 1\n",
    "        tile_catalog = dataset.sample_prior(batch_size, cfg.datasets.simulated.n_tiles_h, cfg.datasets.simulated.n_tiles_w)\n",
    "        tile_catalog.set_all_fluxes_and_mags(dataset.image_decoder)\n",
    "\n",
    "        images, backgrounds = dataset.simulate_image_from_catalog(tile_catalog)\n",
    "        full_true = tile_catalog.cpu().to_full_params()\n",
    "\n",
    "        n_tiles_h = (images.shape[2] - 2 * enc.border_padding) // enc.detection_encoder.tile_slen\n",
    "        n_tiles_w = (images.shape[3] - 2 * enc.border_padding) // enc.detection_encoder.tile_slen        \n",
    "\n",
    "        # collect a bunch of samples for the fixed truth: note that, due to alignment, there are some\n",
    "        # intricacies we have to deal with further below\n",
    "\n",
    "        samples = []\n",
    "        truths = []\n",
    "        for sample in range(num_samples):\n",
    "            tile_sample_dict = enc.sample(images, backgrounds, 1)\n",
    "            tile_sample = TileCatalog.from_flat_dict(\n",
    "                enc.detection_encoder.tile_slen,\n",
    "                n_tiles_h,\n",
    "                n_tiles_w,\n",
    "                {k: v.squeeze(0) for k, v in tile_sample_dict.items()},\n",
    "            )\n",
    "            full_sample = tile_sample.cpu().to_full_params()\n",
    "            \n",
    "            # edge case for sampling\n",
    "            if full_sample[property].shape[1] == 0 or full_true[property].shape[1] == 0:\n",
    "                continue\n",
    "\n",
    "            metrics = compute_metrics(full_true, full_sample, property, property)\n",
    "            \n",
    "            samples.append(metrics[\"pred\"])\n",
    "            truths.append(metrics[\"truth\"])\n",
    "        \n",
    "        # very uncommon edge case for no alignment across *all* the samples\n",
    "        if len(truths) == 0:\n",
    "            continue\n",
    "\n",
    "        np_truths = np.vstack([np.array(truth) for truth in truths])\n",
    "        np_samples = np.vstack([np.array(sample) for sample in samples])\n",
    "        \n",
    "        # because of alignment, some of the sampling operations do not necessarily detect all the galaxies (or \n",
    "        # may have erroneous ones), meaning we need to extract out and align them to the corresponding truth\n",
    "\n",
    "        unique_truths = np.unique(np_truths, axis=0)\n",
    "        true_indices = []\n",
    "        for truth in np_truths:\n",
    "            for unique_truth_idx, unique_truth in enumerate(unique_truths):\n",
    "                matched_unique = np.logical_and.reduce(np.equal(truth, unique_truth))\n",
    "                if matched_unique:\n",
    "                    break\n",
    "            true_indices.append(unique_truth_idx)\n",
    "\n",
    "        samples_per_truth = {}\n",
    "        for idx, true_index in enumerate(true_indices):\n",
    "            if true_index not in samples_per_truth:\n",
    "                samples_per_truth[true_index] = []\n",
    "            samples_per_truth[true_index].append(np_samples[idx])\n",
    "\n",
    "        # after alignment, we can determine whether the corresponding truths were properly covered by the\n",
    "        # empirical Bayes CI\n",
    "        \n",
    "        for true_index in samples_per_truth:\n",
    "            samples_per_truth[true_index] = np.vstack(samples_per_truth[true_index])\n",
    "\n",
    "            alpha = ((1 - confidence_percent) / 2) * 100\n",
    "            lower_ci = np.percentile(samples_per_truth[true_index], alpha, axis=0)\n",
    "            upper_ci = np.percentile(samples_per_truth[true_index], 100 - alpha, axis=0)\n",
    "            contained = np.logical_and(lower_ci <= unique_truths[true_index], unique_truths[true_index] <= upper_ci).astype(\"int\")\n",
    "\n",
    "            if total_contained is None:\n",
    "                total_contained = np.zeros_like(contained)\n",
    "            total_contained += contained\n",
    "            num_coverage_attempts += 1\n",
    "    \n",
    "    bayes_coverage = total_contained / num_coverage_attempts\n",
    "    return bayes_coverage"
   ]
  },
  {
   "cell_type": "code",
   "execution_count": 18,
   "id": "dedddf6c",
   "metadata": {},
   "outputs": [
    {
     "name": "stderr",
     "output_type": "stream",
     "text": [
      "Encoding ptiles: 1it [00:00, 30.76it/s]\n",
      "Encoding ptiles: 1it [00:00, 30.91it/s]\n",
      "Encoding ptiles: 1it [00:00, 35.74it/s]\n",
      "Encoding ptiles: 1it [00:00, 36.27it/s]\n",
      "Encoding ptiles: 1it [00:00, 36.76it/s]\n",
      "Encoding ptiles: 1it [00:00, 37.23it/s]\n",
      "Encoding ptiles: 1it [00:00, 37.58it/s]\n",
      "Encoding ptiles: 1it [00:00, 38.20it/s]\n",
      "Encoding ptiles: 1it [00:00, 39.82it/s]\n",
      "Encoding ptiles: 1it [00:00, 38.43it/s]\n"
     ]
    },
    {
     "name": "stdout",
     "output_type": "stream",
     "text": [
      "(5,)\n"
     ]
    },
    {
     "name": "stderr",
     "output_type": "stream",
     "text": [
      "Encoding ptiles: 1it [00:00, 42.39it/s]\n",
      "Encoding ptiles: 1it [00:00, 36.66it/s]\n",
      "Encoding ptiles: 1it [00:00, 39.44it/s]\n",
      "Encoding ptiles: 1it [00:00, 38.00it/s]\n",
      "Encoding ptiles: 1it [00:00, 41.88it/s]\n",
      "Encoding ptiles: 1it [00:00, 39.21it/s]\n",
      "Encoding ptiles: 1it [00:00, 39.45it/s]\n",
      "Encoding ptiles: 1it [00:00, 39.46it/s]\n",
      "Encoding ptiles: 1it [00:00, 39.61it/s]\n",
      "Encoding ptiles: 1it [00:00, 43.17it/s]\n"
     ]
    },
    {
     "name": "stdout",
     "output_type": "stream",
     "text": [
      "(5,)\n"
     ]
    },
    {
     "name": "stderr",
     "output_type": "stream",
     "text": [
      "Encoding ptiles: 1it [00:00, 45.40it/s]\n",
      "Encoding ptiles: 1it [00:00, 47.43it/s]\n",
      "Encoding ptiles: 1it [00:00, 48.11it/s]\n",
      "Encoding ptiles: 1it [00:00, 47.98it/s]\n",
      "Encoding ptiles: 1it [00:00, 47.86it/s]\n",
      "Encoding ptiles: 1it [00:00, 47.29it/s]\n",
      "Encoding ptiles: 1it [00:00, 47.61it/s]\n",
      "Encoding ptiles: 1it [00:00, 34.73it/s]\n",
      "Encoding ptiles: 1it [00:00, 42.22it/s]\n",
      "Encoding ptiles: 1it [00:00, 42.50it/s]\n",
      "Encoding ptiles: 1it [00:00, 42.54it/s]\n",
      "Encoding ptiles: 1it [00:00, 42.39it/s]\n",
      "Encoding ptiles: 1it [00:00, 42.47it/s]\n",
      "Encoding ptiles: 1it [00:00, 45.44it/s]\n",
      "Encoding ptiles: 1it [00:00, 47.86it/s]\n",
      "Encoding ptiles: 1it [00:00, 47.84it/s]\n",
      "Encoding ptiles: 1it [00:00, 46.95it/s]\n",
      "Encoding ptiles: 1it [00:00, 47.98it/s]\n",
      "Encoding ptiles: 1it [00:00, 47.92it/s]\n",
      "Encoding ptiles: 1it [00:00, 48.16it/s]\n",
      "Encoding ptiles: 1it [00:00, 48.39it/s]\n",
      "Encoding ptiles: 1it [00:00, 46.88it/s]\n",
      "Encoding ptiles: 1it [00:00, 47.23it/s]\n",
      "Encoding ptiles: 1it [00:00, 47.14it/s]\n",
      "Encoding ptiles: 1it [00:00, 47.17it/s]\n",
      "Encoding ptiles: 1it [00:00, 47.40it/s]\n",
      "Encoding ptiles: 1it [00:00, 47.16it/s]\n",
      "Encoding ptiles: 1it [00:00, 47.33it/s]\n",
      "Encoding ptiles: 1it [00:00, 47.44it/s]\n",
      "Encoding ptiles: 1it [00:00, 47.54it/s]\n"
     ]
    },
    {
     "name": "stdout",
     "output_type": "stream",
     "text": [
      "(5,)\n"
     ]
    },
    {
     "name": "stderr",
     "output_type": "stream",
     "text": [
      "Encoding ptiles: 1it [00:00, 45.07it/s]\n",
      "Encoding ptiles: 1it [00:00, 47.68it/s]\n",
      "Encoding ptiles: 1it [00:00, 47.39it/s]\n",
      "Encoding ptiles: 1it [00:00, 47.54it/s]\n",
      "Encoding ptiles: 1it [00:00, 47.77it/s]\n",
      "Encoding ptiles: 1it [00:00, 47.08it/s]\n",
      "Encoding ptiles: 1it [00:00, 47.23it/s]\n",
      "Encoding ptiles: 1it [00:00, 47.51it/s]\n",
      "Encoding ptiles: 1it [00:00, 47.66it/s]\n",
      "Encoding ptiles: 1it [00:00, 47.70it/s]\n"
     ]
    },
    {
     "name": "stdout",
     "output_type": "stream",
     "text": [
      "(5,)\n"
     ]
    },
    {
     "name": "stderr",
     "output_type": "stream",
     "text": [
      "Encoding ptiles: 1it [00:00, 48.24it/s]\n",
      "Encoding ptiles: 1it [00:00, 48.23it/s]\n",
      "Encoding ptiles: 1it [00:00, 47.63it/s]\n",
      "Encoding ptiles: 1it [00:00, 48.42it/s]\n",
      "Encoding ptiles: 1it [00:00, 48.41it/s]\n",
      "Encoding ptiles: 1it [00:00, 48.42it/s]\n",
      "Encoding ptiles: 1it [00:00, 47.86it/s]\n",
      "Encoding ptiles: 1it [00:00, 47.33it/s]\n",
      "Encoding ptiles: 1it [00:00, 45.16it/s]\n",
      "Encoding ptiles: 1it [00:00, 47.84it/s]\n"
     ]
    },
    {
     "name": "stdout",
     "output_type": "stream",
     "text": [
      "(5,)\n"
     ]
    },
    {
     "name": "stderr",
     "output_type": "stream",
     "text": [
      "Encoding ptiles: 1it [00:00, 47.10it/s]\n",
      "Encoding ptiles: 1it [00:00, 35.08it/s]\n",
      "Encoding ptiles: 1it [00:00, 37.96it/s]\n",
      "Encoding ptiles: 1it [00:00, 30.76it/s]\n",
      "Encoding ptiles: 1it [00:00, 30.67it/s]\n",
      "Encoding ptiles: 1it [00:00, 30.90it/s]\n",
      "Encoding ptiles: 1it [00:00, 38.35it/s]\n",
      "Encoding ptiles: 1it [00:00, 42.27it/s]\n",
      "Encoding ptiles: 1it [00:00, 42.08it/s]\n",
      "Encoding ptiles: 1it [00:00, 42.19it/s]\n"
     ]
    },
    {
     "name": "stdout",
     "output_type": "stream",
     "text": [
      "(5,)\n"
     ]
    },
    {
     "name": "stderr",
     "output_type": "stream",
     "text": [
      "Encoding ptiles: 1it [00:00, 40.47it/s]\n",
      "Encoding ptiles: 1it [00:00, 42.22it/s]\n",
      "Encoding ptiles: 1it [00:00, 42.09it/s]\n",
      "Encoding ptiles: 1it [00:00, 41.80it/s]\n",
      "Encoding ptiles: 1it [00:00, 42.60it/s]\n",
      "Encoding ptiles: 1it [00:00, 47.51it/s]\n",
      "Encoding ptiles: 1it [00:00, 47.70it/s]\n",
      "Encoding ptiles: 1it [00:00, 47.23it/s]\n",
      "Encoding ptiles: 1it [00:00, 47.29it/s]\n",
      "Encoding ptiles: 1it [00:00, 46.85it/s]\n"
     ]
    },
    {
     "name": "stdout",
     "output_type": "stream",
     "text": [
      "(5,)\n",
      "(5,)\n"
     ]
    },
    {
     "name": "stderr",
     "output_type": "stream",
     "text": [
      "Encoding ptiles: 1it [00:00, 47.53it/s]\n",
      "Encoding ptiles: 1it [00:00, 46.92it/s]\n",
      "Encoding ptiles: 1it [00:00, 47.38it/s]\n",
      "Encoding ptiles: 1it [00:00, 46.68it/s]\n",
      "Encoding ptiles: 1it [00:00, 47.22it/s]\n",
      "Encoding ptiles: 1it [00:00, 47.09it/s]\n",
      "Encoding ptiles: 1it [00:00, 45.66it/s]\n",
      "Encoding ptiles: 1it [00:00, 47.07it/s]\n",
      "Encoding ptiles: 1it [00:00, 46.25it/s]\n",
      "Encoding ptiles: 1it [00:00, 47.69it/s]"
     ]
    },
    {
     "name": "stdout",
     "output_type": "stream",
     "text": [
      "(5,)\n"
     ]
    },
    {
     "name": "stderr",
     "output_type": "stream",
     "text": [
      "\n"
     ]
    }
   ],
   "source": [
    "galaxy_coverage = compute_bayes_coverage(\"galaxy_params\", .90)\n",
    "lens_coverage = compute_bayes_coverage(\"lens_params\", .90)"
   ]
  },
  {
   "cell_type": "code",
   "execution_count": 19,
   "id": "3a36de95",
   "metadata": {},
   "outputs": [
    {
     "name": "stdout",
     "output_type": "stream",
     "text": [
      "[0.57142857 0.61904762 0.61904762 0.71428571 0.71428571 0.47619048\n",
      " 0.80952381]\n",
      "[1.         0.88888889 1.         1.         0.88888889]\n"
     ]
    }
   ],
   "source": [
    "print(galaxy_coverage)\n",
    "print(lens_coverage)"
   ]
  },
  {
   "cell_type": "code",
   "execution_count": 84,
   "id": "8b8d62f8",
   "metadata": {},
   "outputs": [],
   "source": []
  },
  {
   "cell_type": "code",
   "execution_count": 94,
   "id": "b2e20b27",
   "metadata": {},
   "outputs": [],
   "source": [
    "import numpy as np\n",
    "a = np.load(\"../../data/sdss/psField-000094-1-0012-PSF-image.npy\")"
   ]
  },
  {
   "cell_type": "code",
   "execution_count": 96,
   "id": "e70ccd19",
   "metadata": {},
   "outputs": [
    {
     "data": {
      "text/plain": [
       "(1, 25, 25)"
      ]
     },
     "execution_count": 96,
     "metadata": {},
     "output_type": "execute_result"
    }
   ],
   "source": [
    "a.shape"
   ]
  },
  {
   "cell_type": "code",
   "execution_count": 100,
   "id": "d12f6940",
   "metadata": {},
   "outputs": [
    {
     "data": {
      "text/plain": [
       "<matplotlib.image.AxesImage at 0x7fb841c73610>"
      ]
     },
     "execution_count": 100,
     "metadata": {},
     "output_type": "execute_result"
    },
    {
     "data": {
      "image/png": "[encoded data removed]",
      "text/plain": [
       "<Figure size 432x288 with 1 Axes>"
      ]
     },
     "metadata": {
      "needs_background": "light"
     },
     "output_type": "display_data"
    }
   ],
   "source": []
  },
  {
   "cell_type": "code",
   "execution_count": 101,
   "id": "dbaed88d",
   "metadata": {},
   "outputs": [],
   "source": [
    "def sdss_psf_recon(psfield, xpos, ypos, normalize=None, trimdim=None):\n",
    "    \"\"\"Reconstruct the PSF at position (`xpos`, `ypos`) in an SDSS field.\n",
    "\n",
    "    These can be read from the `psField files`_.\n",
    "\n",
    "    .. _`psField files`: https://data.sdss.org/datamodel/files/PHOTO_REDUX/RERUN/RUN/objcs/CAMCOL/psField.html\n",
    "\n",
    "    Parameters\n",
    "    ----------\n",
    "    psfield : :class:`~astropy.io.fits.fitsrec.FITS_rec`\n",
    "        A PSF KL-decomposition structure read from a psField file.  This is\n",
    "        from HDU's 1 through 5 in a psField file, corresponding\n",
    "        to the five filters *u*, *g*, *r*, *i*, *z*.\n",
    "    xpos : :class:`int`\n",
    "        Column position (0-indexed, not 0.5-indexed as PHOTO outputs).\n",
    "    ypos : :class:`int`\n",
    "        Row position (0-indexed, not 0.5-indexed as PHOTO outputs).\n",
    "    normalize : :class:`int` or :class:`float`, optional\n",
    "        If set, normalize the integral of the image to this value.\n",
    "    trimdim : :class:`tuple`, optional\n",
    "        Trimmed dimensions; for example, set to (25, 25) to trim\n",
    "        the output PSF image to those dimensions.  These dimensions\n",
    "        must be odd-valued.\n",
    "\n",
    "    Returns\n",
    "    -------\n",
    "    :class:`numpy.ndarray`\n",
    "        The 2D reconstructed PSF image, typically dimensioned (51, 51).\n",
    "        The center of the PSF is always the central pixel; this function will\n",
    "        not apply any sub-pixel shifts.\n",
    "\n",
    "    Notes\n",
    "    -----\n",
    "    The SDSS photo PSF is described as a set of eigen-templates, where the\n",
    "    mix of these eigen-templates is a simple polynomial function with (x,y)\n",
    "    position on the CCD.  Typically, there are 4 such 51x51 pixel templates.\n",
    "    The polynomial functions are typically quadratic in each dimension,\n",
    "    with no cross-terms.\n",
    "\n",
    "    The formula is the following, where :math:`i` is the index of row\n",
    "    polynomial order, :math:`j` is the index of column polynomial order,\n",
    "    and :math:`k` is the template index:\n",
    "\n",
    "    .. math::\n",
    "\n",
    "        a_k &= \\\\sum_i \\\\sum_j (0.001 \\\\times \\\\mathrm{ROWC})^i \\\\times (0.001 \\\\times \\\\mathrm{COLC})^j \\\\times [C_k]_{ij} \\\\\\\\\n",
    "        \\\\mathrm{psfimage} &= \\\\sum_k a_k \\\\mathrm{RROWS}_k\n",
    "\n",
    "    The polynomial terms need not be of the same order for each template.\n",
    "\n",
    "    Examples\n",
    "    --------\n",
    "    >>> import numpy as np\n",
    "    >>> from astropy.io import fits\n",
    "    >>> from astropy.utils.data import get_readable_fileobj\n",
    "    >>> from pydl.photoop.image import sdss_psf_recon\n",
    "    >>> psfile = ('https://data.sdss.org/sas/dr14/eboss/photo/redux/301/' +\n",
    "    ...           '3366/objcs/3/psField-003366-3-0110.fit')\n",
    "    >>> with get_readable_fileobj(psfile, encoding='binary') as psField:  # doctest: +REMOTE_DATA\n",
    "    ...     with fits.open(psField) as hdulist:\n",
    "    ...         psf = sdss_psf_recon(hdulist[3].data, 500, 500)\n",
    "    \"\"\"\n",
    "    #\n",
    "    # Hard-wired scale factor for ypos/xpos coefficients.\n",
    "    #\n",
    "    rc_scale = 0.001\n",
    "    #\n",
    "    # Assume that the dimensions of each eigen-template are the same.\n",
    "    #\n",
    "    rnrow = psfield['RNROW'][0]\n",
    "    rncol = psfield['RNCOL'][0]\n",
    "    npix = rnrow * rncol\n",
    "    #\n",
    "    # These are the polynomial coefficients as a function of x,y.\n",
    "    # Only compute these coefficients for the maximum polynomial order in use.\n",
    "    # In general, this order can be different for each eigen-template.\n",
    "    #\n",
    "    nr_max = psfield['nrow_b'].max()\n",
    "    nc_max = psfield['ncol_b'].max()\n",
    "    # nb = nrow_b * ncol_b\n",
    "    coeffs = np.outer(((ypos+0.5) * rc_scale)**np.arange(nr_max), ((xpos+0.5) * rc_scale)**np.arange(nc_max))\n",
    "    #\n",
    "    # Reconstruct the image by summing each eigen-template.\n",
    "    #\n",
    "    neigen = psfield.shape[0]\n",
    "    psfimage = np.zeros(psfield['RROWS'][0].shape,\n",
    "                        dtype=psfield['RROWS'][0].dtype)\n",
    "    for i in range(neigen):\n",
    "        psfimage += (psfield['RROWS'][i] *\n",
    "                     (psfield[i]['c'][0:psfield[0]['nrow_b'], 0:psfield[0]['ncol_b']] *\n",
    "                      coeffs[0:psfield[0]['nrow_b'], 0:psfield[0]['ncol_b']].T).sum())\n",
    "    #\n",
    "    # We have reconstructed the PSF as a vector using all the\n",
    "    # pixels in psfield.RROWS. So, at the end we trim this vector to only\n",
    "    # those pixels used, and reform it into a 2-dimensional image.\n",
    "    #\n",
    "    if normalize is not None:\n",
    "        psfimage /= psfimage.sum()\n",
    "        psfimage *= normalize\n",
    "    psfimage = psfimage[0:npix].reshape(rncol, rnrow)\n",
    "    if trimdim is not None:\n",
    "        psfimage = psfimage[(rncol - trimdim[0])//2:(rncol + trimdim[0])//2,\n",
    "                            (rnrow - trimdim[1])//2:(rnrow + trimdim[1])//2]\n",
    "    return psfimage"
   ]
  },
  {
   "cell_type": "code",
   "execution_count": 117,
   "id": "2715d7c1",
   "metadata": {},
   "outputs": [
    {
     "name": "stdout",
     "output_type": "stream",
     "text": [
      "[[0. 0. 0. ... 0. 0. 0.]\n",
      " [0. 0. 0. ... 0. 0. 0.]\n",
      " [0. 0. 0. ... 0. 0. 0.]\n",
      " ...\n",
      " [0. 0. 0. ... 0. 0. 0.]\n",
      " [0. 0. 0. ... 0. 0. 0.]\n",
      " [0. 0. 0. ... 0. 0. 0.]]\n"
     ]
    }
   ],
   "source": [
    "from astropy.io import fits\n",
    "f = fits.open(\"../../data/sdss/94/1/12/psField-000094-1-0012.fits\")\n",
    "psf = sdss_psf_recon(f[3].data, 0, 0)\n",
    "print(psf)"
   ]
  },
  {
   "cell_type": "code",
   "execution_count": 115,
   "id": "2f2b5b5c",
   "metadata": {},
   "outputs": [
    {
     "data": {
      "text/plain": [
       "1.0"
      ]
     },
     "execution_count": 115,
     "metadata": {},
     "output_type": "execute_result"
    }
   ],
   "source": [
    "np.sum(a[0,...])"
   ]
  },
  {
   "cell_type": "code",
   "execution_count": null,
   "id": "67ae6c57",
   "metadata": {},
   "outputs": [],
   "source": []
  }
 ],
 "metadata": {
  "interpreter": {
   "hash": "72adff0a5138394e7ab3380b7860edf983a5dd8cab864dd8cf44bf01f55aa221"
  },
  "kernelspec": {
   "display_name": "Python 3.8.10 ('bliss-vKFXZHWe-py3.8')",
   "language": "python",
   "name": "python3"
  },
  "language_info": {
   "codemirror_mode": {
    "name": "ipython",
    "version": 3
   },
   "file_extension": ".py",
   "mimetype": "text/x-python",
   "name": "python",
   "nbconvert_exporter": "python",
   "pygments_lexer": "ipython3",
   "version": "3.8.10"
  },
  "toc": {
   "base_numbering": 1,
   "nav_menu": {},
   "number_sections": true,
   "sideBar": true,
   "skip_h1_title": false,
   "title_cell": "Table of Contents",
   "title_sidebar": "Contents",
   "toc_cell": false,
   "toc_position": {
    "height": "calc(100% - 180px)",
    "left": "10px",
    "top": "150px",
    "width": "165px"
   },
   "toc_section_display": true,
   "toc_window_display": true
  }
 },
 "nbformat": 4,
 "nbformat_minor": 5
}

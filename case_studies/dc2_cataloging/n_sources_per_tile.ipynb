{
 "cells": [
  {
   "cell_type": "code",
   "execution_count": 1,
   "metadata": {},
   "outputs": [],
   "source": [
    "import torch\n",
    "from hydra import initialize, compose\n",
    "from hydra.utils import instantiate\n",
    "from bliss.surveys.dc2 import DC2DataModule\n",
    "import tqdm\n",
    "from bliss.global_env import GlobalEnv"
   ]
  },
  {
   "cell_type": "code",
   "execution_count": 2,
   "metadata": {},
   "outputs": [],
   "source": [
    "with initialize(config_path=\".\", version_base=None):\n",
    "    notebook_cfg = compose(\"notebook_config\")\n",
    "notebook_cfg.surveys.dc2.tile_slen = 4\n",
    "notebook_cfg.surveys.dc2.max_sources_per_tile = 6\n",
    "notebook_cfg.surveys.dc2.cached_data_path = \"/data/scratch/dc2local/dc2_cached_data\"\n",
    "notebook_cfg.surveys.dc2.batch_size = 512"
   ]
  },
  {
   "cell_type": "code",
   "execution_count": 3,
   "metadata": {},
   "outputs": [
    {
     "name": "stderr",
     "output_type": "stream",
     "text": [
      "WARNING: cached data already exists at [/data/scratch/dc2local/dc2_cached_data], we directly use it\n",
      "\n"
     ]
    }
   ],
   "source": [
    "dc2: DC2DataModule = instantiate(notebook_cfg.surveys.dc2)\n",
    "dc2.prepare_data()\n",
    "dc2.setup(stage=\"fit\")\n",
    "\n",
    "dc2_train_dataloader = dc2.train_dataloader()\n",
    "device = torch.device(\"cpu\")\n",
    "GlobalEnv.seed_in_this_program = 7272\n",
    "GlobalEnv.current_encoder_epoch = 1"
   ]
  },
  {
   "cell_type": "code",
   "execution_count": 4,
   "metadata": {},
   "outputs": [
    {
     "name": "stderr",
     "output_type": "stream",
     "text": [
      "100%|██████████| 381/381 [25:32<00:00,  4.02s/it]\n"
     ]
    }
   ],
   "source": [
    "n_sources_count = torch.zeros(10, device=device)\n",
    "for batch in tqdm.tqdm(dc2_train_dataloader):\n",
    "    n_sources_count += batch[\"tile_catalog\"][\"n_sources\"].to(device=device).flatten().bincount(minlength=10)"
   ]
  },
  {
   "cell_type": "code",
   "execution_count": 5,
   "metadata": {},
   "outputs": [
    {
     "name": "stdout",
     "output_type": "stream",
     "text": [
      "tensor([7.6831e+07, 1.1586e+06, 1.0393e+04, 7.1000e+01, 0.0000e+00, 0.0000e+00,\n",
      "        0.0000e+00, 0.0000e+00, 0.0000e+00, 0.0000e+00])\n"
     ]
    }
   ],
   "source": [
    "print(n_sources_count)"
   ]
  },
  {
   "cell_type": "code",
   "execution_count": 6,
   "metadata": {},
   "outputs": [
    {
     "name": "stdout",
     "output_type": "stream",
     "text": [
      "tensor([9.8501e-01, 1.4854e-02, 1.3324e-04, 9.1026e-07, 0.0000e+00, 0.0000e+00,\n",
      "        0.0000e+00, 0.0000e+00, 0.0000e+00, 0.0000e+00])\n"
     ]
    }
   ],
   "source": [
    "print(n_sources_count / n_sources_count.sum())"
   ]
  },
  {
   "cell_type": "code",
   "execution_count": 7,
   "metadata": {},
   "outputs": [
    {
     "name": "stdout",
     "output_type": "stream",
     "text": [
      "tensor([9.9105e-01, 8.8902e-03, 6.0733e-05, 0.0000e+00, 0.0000e+00, 0.0000e+00,\n",
      "        0.0000e+00, 0.0000e+00, 0.0000e+00])\n"
     ]
    }
   ],
   "source": [
    "print(n_sources_count[1:] / n_sources_count[1:].sum())"
   ]
  }
 ],
 "metadata": {
  "kernelspec": {
   "display_name": ".venv",
   "language": "python",
   "name": "python3"
  },
  "language_info": {
   "codemirror_mode": {
    "name": "ipython",
    "version": 3
   },
   "file_extension": ".py",
   "mimetype": "text/x-python",
   "name": "python",
   "nbconvert_exporter": "python",
   "pygments_lexer": "ipython3",
   "version": "3.10.12"
  }
 },
 "nbformat": 4,
 "nbformat_minor": 2
}

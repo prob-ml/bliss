{
 "cells": [
  {
   "cell_type": "code",
   "execution_count": 11,
   "id": "36a5849f",
   "metadata": {},
   "outputs": [],
   "source": [
    "import pandas as pd\n",
    "\n",
    "import torch\n",
    "from bliss.catalog import convert_flux_to_magnitude"
   ]
  },
  {
   "cell_type": "code",
   "execution_count": 2,
   "id": "fd542e9f",
   "metadata": {},
   "outputs": [],
   "source": [
    "cat = pd.read_pickle(\"/data/scratch/dc2local/merged_catalog_with_flux_over_50.pkl\")"
   ]
  },
  {
   "cell_type": "code",
   "execution_count": 3,
   "id": "aec8975d",
   "metadata": {},
   "outputs": [
    {
     "data": {
      "text/html": [
       "<div>\n",
       "<style scoped>\n",
       "    .dataframe tbody tr th:only-of-type {\n",
       "        vertical-align: middle;\n",
       "    }\n",
       "\n",
       "    .dataframe tbody tr th {\n",
       "        vertical-align: top;\n",
       "    }\n",
       "\n",
       "    .dataframe thead th {\n",
       "        text-align: right;\n",
       "    }\n",
       "</style>\n",
       "<table border=\"1\" class=\"dataframe\">\n",
       "  <thead>\n",
       "    <tr style=\"text-align: right;\">\n",
       "      <th></th>\n",
       "      <th>match_objectId</th>\n",
       "      <th>truth_type</th>\n",
       "      <th>ra</th>\n",
       "      <th>flux_u</th>\n",
       "      <th>cosmodc2_id</th>\n",
       "      <th>flux_z</th>\n",
       "      <th>flux_r</th>\n",
       "      <th>dec</th>\n",
       "      <th>flux_y</th>\n",
       "      <th>flux_i</th>\n",
       "      <th>...</th>\n",
       "      <th>IxxPSF_pixel_i</th>\n",
       "      <th>psf_fwhm_r</th>\n",
       "      <th>IyyPSF_pixel_g</th>\n",
       "      <th>IxyPSF_pixel_g</th>\n",
       "      <th>IxxPSF_pixel_y</th>\n",
       "      <th>IyyPSF_pixel_y</th>\n",
       "      <th>IyyPSF_pixel_i</th>\n",
       "      <th>IxyPSF_pixel_u</th>\n",
       "      <th>psf_fwhm_u</th>\n",
       "      <th>Iyy_pixel</th>\n",
       "    </tr>\n",
       "  </thead>\n",
       "  <tbody>\n",
       "    <tr>\n",
       "      <th>0</th>\n",
       "      <td>15142499907539027</td>\n",
       "      <td>1</td>\n",
       "      <td>54.269587</td>\n",
       "      <td>44.889534</td>\n",
       "      <td>8689727106</td>\n",
       "      <td>272.466492</td>\n",
       "      <td>87.041687</td>\n",
       "      <td>-38.777239</td>\n",
       "      <td>285.047241</td>\n",
       "      <td>171.305756</td>\n",
       "      <td>...</td>\n",
       "      <td>3.090059</td>\n",
       "      <td>0.830042</td>\n",
       "      <td>3.506413</td>\n",
       "      <td>0.004963</td>\n",
       "      <td>6.196820</td>\n",
       "      <td>6.212116</td>\n",
       "      <td>3.076924</td>\n",
       "      <td>-0.007128</td>\n",
       "      <td>0.935334</td>\n",
       "      <td>2.505698</td>\n",
       "    </tr>\n",
       "    <tr>\n",
       "      <th>1</th>\n",
       "      <td>15142499907539033</td>\n",
       "      <td>1</td>\n",
       "      <td>54.250081</td>\n",
       "      <td>63.082771</td>\n",
       "      <td>8689618044</td>\n",
       "      <td>203.427994</td>\n",
       "      <td>85.851646</td>\n",
       "      <td>-38.777286</td>\n",
       "      <td>200.200256</td>\n",
       "      <td>151.865234</td>\n",
       "      <td>...</td>\n",
       "      <td>3.099084</td>\n",
       "      <td>0.824222</td>\n",
       "      <td>3.488326</td>\n",
       "      <td>0.006937</td>\n",
       "      <td>6.323845</td>\n",
       "      <td>6.333422</td>\n",
       "      <td>3.080733</td>\n",
       "      <td>-0.003377</td>\n",
       "      <td>0.923933</td>\n",
       "      <td>2.472454</td>\n",
       "    </tr>\n",
       "    <tr>\n",
       "      <th>2</th>\n",
       "      <td>15142499907539034</td>\n",
       "      <td>1</td>\n",
       "      <td>54.201058</td>\n",
       "      <td>305.098969</td>\n",
       "      <td>8688813450</td>\n",
       "      <td>1329.852173</td>\n",
       "      <td>514.212097</td>\n",
       "      <td>-38.777405</td>\n",
       "      <td>1464.031006</td>\n",
       "      <td>1047.985962</td>\n",
       "      <td>...</td>\n",
       "      <td>3.087492</td>\n",
       "      <td>0.819894</td>\n",
       "      <td>3.549926</td>\n",
       "      <td>0.007687</td>\n",
       "      <td>6.302427</td>\n",
       "      <td>6.315119</td>\n",
       "      <td>3.073970</td>\n",
       "      <td>-0.007004</td>\n",
       "      <td>0.934532</td>\n",
       "      <td>14.200350</td>\n",
       "    </tr>\n",
       "    <tr>\n",
       "      <th>3</th>\n",
       "      <td>15142499907539043</td>\n",
       "      <td>1</td>\n",
       "      <td>54.266493</td>\n",
       "      <td>53.504910</td>\n",
       "      <td>8704130374</td>\n",
       "      <td>72.181252</td>\n",
       "      <td>91.077934</td>\n",
       "      <td>-38.776742</td>\n",
       "      <td>77.817268</td>\n",
       "      <td>67.934814</td>\n",
       "      <td>...</td>\n",
       "      <td>3.052975</td>\n",
       "      <td>0.829033</td>\n",
       "      <td>3.474276</td>\n",
       "      <td>0.005291</td>\n",
       "      <td>6.323845</td>\n",
       "      <td>6.333422</td>\n",
       "      <td>3.038329</td>\n",
       "      <td>-0.005446</td>\n",
       "      <td>0.925332</td>\n",
       "      <td>12.837721</td>\n",
       "    </tr>\n",
       "    <tr>\n",
       "      <th>4</th>\n",
       "      <td>15142499907539054</td>\n",
       "      <td>1</td>\n",
       "      <td>54.136875</td>\n",
       "      <td>47.586205</td>\n",
       "      <td>8688508081</td>\n",
       "      <td>190.708527</td>\n",
       "      <td>93.852135</td>\n",
       "      <td>-38.777664</td>\n",
       "      <td>204.838455</td>\n",
       "      <td>175.608902</td>\n",
       "      <td>...</td>\n",
       "      <td>3.055979</td>\n",
       "      <td>0.825187</td>\n",
       "      <td>3.606854</td>\n",
       "      <td>0.005612</td>\n",
       "      <td>6.323845</td>\n",
       "      <td>6.333422</td>\n",
       "      <td>3.044957</td>\n",
       "      <td>-0.012473</td>\n",
       "      <td>0.926973</td>\n",
       "      <td>3.043118</td>\n",
       "    </tr>\n",
       "  </tbody>\n",
       "</table>\n",
       "<p>5 rows × 51 columns</p>\n",
       "</div>"
      ],
      "text/plain": [
       "      match_objectId  truth_type         ra      flux_u  cosmodc2_id  \\\n",
       "0  15142499907539027           1  54.269587   44.889534   8689727106   \n",
       "1  15142499907539033           1  54.250081   63.082771   8689618044   \n",
       "2  15142499907539034           1  54.201058  305.098969   8688813450   \n",
       "3  15142499907539043           1  54.266493   53.504910   8704130374   \n",
       "4  15142499907539054           1  54.136875   47.586205   8688508081   \n",
       "\n",
       "        flux_z      flux_r        dec       flux_y       flux_i  ...  \\\n",
       "0   272.466492   87.041687 -38.777239   285.047241   171.305756  ...   \n",
       "1   203.427994   85.851646 -38.777286   200.200256   151.865234  ...   \n",
       "2  1329.852173  514.212097 -38.777405  1464.031006  1047.985962  ...   \n",
       "3    72.181252   91.077934 -38.776742    77.817268    67.934814  ...   \n",
       "4   190.708527   93.852135 -38.777664   204.838455   175.608902  ...   \n",
       "\n",
       "   IxxPSF_pixel_i  psf_fwhm_r  IyyPSF_pixel_g  IxyPSF_pixel_g  IxxPSF_pixel_y  \\\n",
       "0        3.090059    0.830042        3.506413        0.004963        6.196820   \n",
       "1        3.099084    0.824222        3.488326        0.006937        6.323845   \n",
       "2        3.087492    0.819894        3.549926        0.007687        6.302427   \n",
       "3        3.052975    0.829033        3.474276        0.005291        6.323845   \n",
       "4        3.055979    0.825187        3.606854        0.005612        6.323845   \n",
       "\n",
       "   IyyPSF_pixel_y  IyyPSF_pixel_i  IxyPSF_pixel_u  psf_fwhm_u  Iyy_pixel  \n",
       "0        6.212116        3.076924       -0.007128    0.935334   2.505698  \n",
       "1        6.333422        3.080733       -0.003377    0.923933   2.472454  \n",
       "2        6.315119        3.073970       -0.007004    0.934532  14.200350  \n",
       "3        6.333422        3.038329       -0.005446    0.925332  12.837721  \n",
       "4        6.333422        3.044957       -0.012473    0.926973   3.043118  \n",
       "\n",
       "[5 rows x 51 columns]"
      ]
     },
     "execution_count": 3,
     "metadata": {},
     "output_type": "execute_result"
    }
   ],
   "source": [
    "cat.head()"
   ]
  },
  {
   "cell_type": "code",
   "execution_count": 4,
   "id": "2aef37b9",
   "metadata": {},
   "outputs": [],
   "source": [
    "cat = cat[cat[\"flux_r\"] > 100]"
   ]
  },
  {
   "cell_type": "code",
   "execution_count": 6,
   "id": "d34f9778",
   "metadata": {},
   "outputs": [],
   "source": [
    "total_num = len(cat)"
   ]
  },
  {
   "cell_type": "code",
   "execution_count": 20,
   "id": "e2de7aca",
   "metadata": {},
   "outputs": [],
   "source": [
    "blendedness_na_num = cat[\"blendedness\"].isna().sum()"
   ]
  },
  {
   "cell_type": "code",
   "execution_count": 21,
   "id": "d2b54e22",
   "metadata": {},
   "outputs": [
    {
     "data": {
      "text/plain": [
       "0.47008789395906586"
      ]
     },
     "execution_count": 21,
     "metadata": {},
     "output_type": "execute_result"
    }
   ],
   "source": [
    "(cat[\"blendedness\"] < 0.001).sum() / (total_num - blendedness_na_num)"
   ]
  },
  {
   "cell_type": "code",
   "execution_count": 22,
   "id": "c82ba47e",
   "metadata": {},
   "outputs": [
    {
     "data": {
      "text/plain": [
       "0.7448609321693884"
      ]
     },
     "execution_count": 22,
     "metadata": {},
     "output_type": "execute_result"
    }
   ],
   "source": [
    "(cat[\"blendedness\"] < 0.02).sum() / (total_num - blendedness_na_num)"
   ]
  },
  {
   "cell_type": "code",
   "execution_count": 13,
   "id": "04c8e1a7",
   "metadata": {},
   "outputs": [
    {
     "data": {
      "text/plain": [
       "tensor([24.4547])"
      ]
     },
     "execution_count": 13,
     "metadata": {},
     "output_type": "execute_result"
    }
   ],
   "source": [
    "convert_flux_to_magnitude(torch.tensor([600]), zero_point=3631e9)"
   ]
  },
  {
   "cell_type": "code",
   "execution_count": 14,
   "id": "71d0c460",
   "metadata": {},
   "outputs": [
    {
     "data": {
      "text/plain": [
       "0.21445327256891752"
      ]
     },
     "execution_count": 14,
     "metadata": {},
     "output_type": "execute_result"
    }
   ],
   "source": [
    "(cat[\"flux_r\"] > 600).sum() / total_num"
   ]
  },
  {
   "cell_type": "code",
   "execution_count": 24,
   "id": "c0459938",
   "metadata": {},
   "outputs": [
    {
     "data": {
      "text/plain": [
       "0.18716229855038513"
      ]
     },
     "execution_count": 24,
     "metadata": {},
     "output_type": "execute_result"
    }
   ],
   "source": [
    "((cat[\"flux_r\"] > 600) & (cat[\"blendedness\"] < 0.02)).sum() / (total_num - blendedness_na_num)"
   ]
  },
  {
   "cell_type": "code",
   "execution_count": 25,
   "id": "a05b31d6",
   "metadata": {},
   "outputs": [
    {
     "data": {
      "text/plain": [
       "0.15943"
      ]
     },
     "execution_count": 25,
     "metadata": {},
     "output_type": "execute_result"
    }
   ],
   "source": [
    "0.214 * 0.745"
   ]
  }
 ],
 "metadata": {
  "kernelspec": {
   "display_name": ".venv",
   "language": "python",
   "name": "python3"
  },
  "language_info": {
   "codemirror_mode": {
    "name": "ipython",
    "version": 3
   },
   "file_extension": ".py",
   "mimetype": "text/x-python",
   "name": "python",
   "nbconvert_exporter": "python",
   "pygments_lexer": "ipython3",
   "version": "3.10.12"
  }
 },
 "nbformat": 4,
 "nbformat_minor": 5
}

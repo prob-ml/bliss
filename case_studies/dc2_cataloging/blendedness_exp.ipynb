{
 "cells": [
  {
   "cell_type": "markdown",
   "metadata": {},
   "source": [
    "### Prepare Environment"
   ]
  },
  {
   "cell_type": "code",
   "execution_count": 1,
   "metadata": {},
   "outputs": [],
   "source": [
    "%load_ext autoreload\n",
    "%autoreload 2"
   ]
  },
  {
   "cell_type": "code",
   "execution_count": 30,
   "metadata": {},
   "outputs": [],
   "source": [
    "import torch\n",
    "import tqdm\n",
    "import random\n",
    "import matplotlib.pyplot as plt\n",
    "import matplotlib.patches as mpatches\n",
    "import numpy as np\n",
    "import pickle\n",
    "import pandas as pd\n",
    "import sklearn\n",
    "import sklearn.metrics\n",
    "from numpy.lib import scimath as SM\n",
    "\n",
    "from hydra import initialize, compose\n",
    "from hydra.utils import instantiate\n",
    "from typing import List, Dict, Tuple\n",
    "from pathlib import Path\n",
    "from pytorch_lightning.utilities import move_data_to_device\n",
    "# from astropy.visualization import make_lupton_rgb\n",
    "from scipy.stats import gaussian_kde\n",
    "\n",
    "from bliss.surveys.dc2 import DC2DataModule, calculate_blendedness\n",
    "from bliss.catalog import TileCatalog, FullCatalog, convert_flux_to_magnitude\n",
    "from bliss.encoder.encoder import Encoder\n",
    "from bliss.encoder.metrics import SourceTypeAccuracy, CatalogMatcher, DetectionPerformance, SourceTypeFilter\n",
    "\n",
    "from case_studies.dc2_cataloging.utils.safe_metric_collection import SafeMetricCollection as MetricCollection\n",
    "from case_studies.dc2_cataloging.utils.bootstrap_tile_cat import bootstrap_tile_cat\n",
    "from case_studies.dc2_cataloging.utils.lsst_predictor import LSSTPredictor\n",
    "from case_studies.dc2_cataloging.utils.notebook_plotting_params import NoteBookPlottingParams\n",
    "from case_studies.dc2_cataloging.utils.load_full_cat import get_full_cat\n",
    "from case_studies.dc2_cataloging.utils.others import move_tile_cat_to_device\n",
    "from case_studies.dc2_cataloging.utils.metrics import (\n",
    "    DetectionwrtBlendedness, \n",
    "    EllipticityResidual, \n",
    "    EllipticityResidualwrtBlendedness, \n",
    "    InBoundaryFilter, \n",
    "    OutBoundaryFilter\n",
    ")\n",
    "\n",
    "# set path\n",
    "output_dir = Path(\"./plot_output/\")\n",
    "output_dir.mkdir(parents=True, exist_ok=True)\n",
    "\n",
    "# change this model path according to your training setting\n",
    "model_name = \"new_baseline\"\n",
    "ckpt_name = \"encoder_39.ckpt\"\n",
    "model_path = f\"../../../bliss_output/DC2_new_cataloging_exp/{model_name}/checkpoints/{ckpt_name}\"\n",
    "lsst_root_dir = \"/data/scratch/dc2_nfs/\"\n",
    "\n",
    "# set device\n",
    "device = torch.device(\"cuda:7\")\n",
    "\n",
    "# load config\n",
    "with initialize(config_path=\".\", version_base=None):\n",
    "    notebook_cfg = compose(\"notebook_config\")\n",
    "\n",
    "# get matcher and set metric parameters\n",
    "matcher: CatalogMatcher = instantiate(notebook_cfg.encoder.matcher)\n",
    "bs_epochs_num = 30\n",
    "base_flux_bin_cutoffs = [200, 400, 600, 800, 1000]\n",
    "mag_zero_point = 3631e9\n",
    "blendedness_bin_cutoffs = [0.02, 0.3, 0.5, 0.7, 0.9]\n",
    "bands = (\"u\", \"g\", \"r\", \"i\", \"z\", \"y\")\n",
    "tile_slen = notebook_cfg.surveys.dc2.tile_slen\n",
    "boundary_width = 0.2  # for boundary performance\n"
   ]
  },
  {
   "cell_type": "markdown",
   "metadata": {},
   "source": [
    "### Inference"
   ]
  },
  {
   "cell_type": "code",
   "execution_count": 3,
   "metadata": {},
   "outputs": [],
   "source": [
    "inference_output_dir = Path(\"/data/scratch/pduan/notebook_output/new_inference/\")  # don't have enough space under home directory\n",
    "inference_output_dir.mkdir(exist_ok=True)"
   ]
  },
  {
   "cell_type": "markdown",
   "metadata": {},
   "source": [
    "#### On Batched Images"
   ]
  },
  {
   "cell_type": "code",
   "execution_count": 4,
   "metadata": {},
   "outputs": [],
   "source": [
    "batched_inference_results_file = inference_output_dir / f\"{model_name}_batched_inference_results.pkl\""
   ]
  },
  {
   "cell_type": "code",
   "execution_count": 5,
   "metadata": {},
   "outputs": [],
   "source": [
    "class BatchedInferenceResults:\n",
    "    def __init__(self, \n",
    "                 bliss_tile_cat_list: List[TileCatalog],\n",
    "                 lsst_tile_cat_list: List[TileCatalog],\n",
    "                 target_tile_cat_list: List[TileCatalog]):\n",
    "        self.bliss_tile_cat_list = bliss_tile_cat_list\n",
    "        self.lsst_tile_cat_list = lsst_tile_cat_list\n",
    "        self.target_tile_cat_list = target_tile_cat_list\n",
    "    \n",
    "    def __iter__(self):\n",
    "        return zip(self.bliss_tile_cat_list,\n",
    "                   self.lsst_tile_cat_list,\n",
    "                   self.target_tile_cat_list,\n",
    "                   strict=True)"
   ]
  },
  {
   "cell_type": "code",
   "execution_count": 6,
   "metadata": {},
   "outputs": [],
   "source": [
    "def inference_for_batched_images():\n",
    "    # setup bliss encoder\n",
    "    tile_slen = notebook_cfg.surveys.dc2.tile_slen\n",
    "    max_sources_per_tile = notebook_cfg.surveys.dc2.max_sources_per_tile\n",
    "    r_band_min_flux = notebook_cfg.notebook_var.r_band_min_flux\n",
    "    \n",
    "    dc2: DC2DataModule = instantiate(notebook_cfg.surveys.dc2)\n",
    "    dc2.setup(stage=\"validate\")\n",
    "    dc2_val_dataloader = dc2.val_dataloader()\n",
    "\n",
    "    bliss_encoder: Encoder = instantiate(notebook_cfg.encoder).to(device=device)\n",
    "    pretrained_weights = torch.load(model_path, map_location=device)[\"state_dict\"]\n",
    "    bliss_encoder.load_state_dict(pretrained_weights)\n",
    "    bliss_encoder = bliss_encoder.eval()\n",
    "\n",
    "    # setup lsst encoder\n",
    "    lsst_predictor = LSSTPredictor(lsst_root_dir, r_band_min_flux, tile_slen, max_sources_per_tile)\n",
    "\n",
    "    bliss_tile_cat_list = []\n",
    "    lsst_tile_cat_list = []\n",
    "    target_tile_cat_list = []\n",
    "    for batch in tqdm.tqdm(dc2_val_dataloader):\n",
    "        batch_on_device = move_data_to_device(batch, device=device)\n",
    "        target_tile_cat = TileCatalog(batch[\"tile_catalog\"])\n",
    "        target_tile_cat = target_tile_cat.filter_by_flux(\n",
    "                min_flux=r_band_min_flux,\n",
    "                band=2,  # default is r band\n",
    "            )\n",
    "        with torch.no_grad():\n",
    "            bliss_tile_cat = bliss_encoder.sample(batch_on_device, use_mode=True)\n",
    "            bliss_tile_cat = bliss_tile_cat.filter_by_flux(\n",
    "                min_flux=r_band_min_flux,\n",
    "                band=2,\n",
    "            )\n",
    "        target_tile_cat_list.append(move_tile_cat_to_device(target_tile_cat, device=\"cpu\"))\n",
    "        bliss_tile_cat_list.append(move_tile_cat_to_device(bliss_tile_cat, device=\"cpu\"))\n",
    "        \n",
    "        wcs_header_str_list = batch[\"wcs_header_str\"]\n",
    "        image_lim = batch[\"images\"].shape[2]\n",
    "        height_index_list = batch[\"image_height_index\"].tolist()\n",
    "        width_index_list = batch[\"image_width_index\"].tolist()\n",
    "        lsst_tile_cat = lsst_predictor.predict(wcs_header_str_list, \n",
    "                                                image_lim, \n",
    "                                                height_index_list, \n",
    "                                                width_index_list)\n",
    "        lsst_tile_cat_list.append(lsst_tile_cat)\n",
    "    \n",
    "    return BatchedInferenceResults(bliss_tile_cat_list,\n",
    "                                    lsst_tile_cat_list,\n",
    "                                    target_tile_cat_list)"
   ]
  },
  {
   "cell_type": "code",
   "execution_count": 7,
   "metadata": {},
   "outputs": [
    {
     "name": "stdout",
     "output_type": "stream",
     "text": [
      "find /data/scratch/pduan/notebook_output/new_inference/new_baseline_batched_inference_results.pkl, and directly use it\n"
     ]
    }
   ],
   "source": [
    "if not batched_inference_results_file.exists():\n",
    "    print(f\"can't find {batched_inference_results_file}, and try to generate it\", flush=True)\n",
    "    batched_inference_results = inference_for_batched_images()\n",
    "    with open(batched_inference_results_file, \"wb\") as f:\n",
    "        pickle.dump(batched_inference_results, f, pickle.HIGHEST_PROTOCOL)\n",
    "else:\n",
    "    print(f\"find {batched_inference_results_file}, and directly use it\", flush=True)\n",
    "    with open(batched_inference_results_file, \"rb\") as f:\n",
    "        batched_inference_results = pickle.load(f)"
   ]
  },
  {
   "cell_type": "markdown",
   "metadata": {},
   "source": [
    "#### Bootstrap"
   ]
  },
  {
   "cell_type": "code",
   "execution_count": 8,
   "metadata": {},
   "outputs": [],
   "source": [
    "bs_results_file = inference_output_dir / f\"{model_name}_bs_results.pkl\""
   ]
  },
  {
   "cell_type": "code",
   "execution_count": 9,
   "metadata": {},
   "outputs": [],
   "source": [
    "class BSResults:\n",
    "    def __init__(self, \n",
    "                 bs_epochs_num: int,\n",
    "                 bliss_full_cat_bs_list: List[List[FullCatalog]],\n",
    "                 lsst_full_cat_bs_list: List[List[FullCatalog]],\n",
    "                 target_full_cat_bs_list: List[List[FullCatalog]],\n",
    "                 bliss_matching_bs_list: List[List[List[Tuple[torch.Tensor, torch.Tensor]]]],\n",
    "                 lsst_matching_bs_list: List[List[List[Tuple[torch.Tensor, torch.Tensor]]]]):\n",
    "        self.bs_epochs_num = bs_epochs_num\n",
    "        self.bliss_full_cat_bs_list = bliss_full_cat_bs_list\n",
    "        self.lsst_full_cat_bs_list = lsst_full_cat_bs_list\n",
    "        self.target_full_cat_bs_list = target_full_cat_bs_list\n",
    "        self.bliss_matching_bs_list = bliss_matching_bs_list\n",
    "        self.lsst_matching_bs_list = lsst_matching_bs_list\n",
    "\n",
    "    def __iter__(self):\n",
    "        for epoch in range(self.bs_epochs_num):\n",
    "            yield (epoch, \n",
    "                   zip(self.bliss_full_cat_bs_list[epoch],\n",
    "                       self.lsst_full_cat_bs_list[epoch],\n",
    "                       self.target_full_cat_bs_list[epoch],\n",
    "                       self.bliss_matching_bs_list[epoch],\n",
    "                       self.lsst_matching_bs_list[epoch],\n",
    "                       strict=True),\n",
    "                )"
   ]
  },
  {
   "cell_type": "code",
   "execution_count": 10,
   "metadata": {},
   "outputs": [],
   "source": [
    "def bootstrap_inference(batched_inference_results: BatchedInferenceResults):\n",
    "    tile_slen = notebook_cfg.surveys.dc2.tile_slen\n",
    "\n",
    "    bliss_full_cat_bs_list = []\n",
    "    lsst_full_cat_bs_list = []\n",
    "    target_full_cat_bs_list = []\n",
    "    bliss_matching_bs_list = []\n",
    "    lsst_matching_bs_list = []\n",
    "\n",
    "    for epoch in range(bs_epochs_num):\n",
    "        print(f\"Epoch: {epoch}\")\n",
    "        seed = random.randint(1e4, 1e5 - 1)\n",
    "        bliss_full_cat_bs_list.append([])\n",
    "        lsst_full_cat_bs_list.append([])\n",
    "        target_full_cat_bs_list.append([])\n",
    "        bliss_matching_bs_list.append([])\n",
    "        lsst_matching_bs_list.append([])\n",
    "        for bliss_tile_cat, lsst_tile_cat, target_tile_cat in tqdm.tqdm(batched_inference_results):\n",
    "            bliss_full_cat = bootstrap_tile_cat(bliss_tile_cat, seed=seed, space_preserve=True).to_full_catalog(tile_slen)\n",
    "            lsst_full_cat = bootstrap_tile_cat(lsst_tile_cat, seed=seed, space_preserve=True).to_full_catalog(tile_slen)\n",
    "            target_full_cat = bootstrap_tile_cat(target_tile_cat, seed=seed, space_preserve=True).to_full_catalog(tile_slen)\n",
    "            bliss_full_cat_bs_list[epoch].append(bliss_full_cat)\n",
    "            lsst_full_cat_bs_list[epoch].append(lsst_full_cat)\n",
    "            target_full_cat_bs_list[epoch].append(target_full_cat)\n",
    "\n",
    "            bliss_matching = matcher.match_catalogs(target_full_cat, bliss_full_cat)\n",
    "            lsst_matching = matcher.match_catalogs(target_full_cat, lsst_full_cat)\n",
    "            bliss_matching_bs_list[epoch].append(bliss_matching)\n",
    "            lsst_matching_bs_list[epoch].append(lsst_matching)\n",
    "\n",
    "    return BSResults(bs_epochs_num,\n",
    "                     bliss_full_cat_bs_list,\n",
    "                     lsst_full_cat_bs_list,\n",
    "                     target_full_cat_bs_list,\n",
    "                     bliss_matching_bs_list,\n",
    "                     lsst_matching_bs_list)"
   ]
  },
  {
   "cell_type": "code",
   "execution_count": 11,
   "metadata": {},
   "outputs": [
    {
     "name": "stdout",
     "output_type": "stream",
     "text": [
      "find /data/scratch/pduan/notebook_output/new_inference/new_baseline_bs_results.pkl, and directly use it\n"
     ]
    }
   ],
   "source": [
    "if not bs_results_file.exists():\n",
    "    print(f\"can't find {bs_results_file}, and try to generate it\", flush=True)\n",
    "    bs_results = bootstrap_inference(batched_inference_results)\n",
    "    with open(bs_results_file, \"wb\") as f:\n",
    "        pickle.dump(bs_results, f, pickle.HIGHEST_PROTOCOL)\n",
    "else:\n",
    "    print(f\"find {bs_results_file}, and directly use it\", flush=True)\n",
    "    with open(bs_results_file, \"rb\") as f:\n",
    "        bs_results = pickle.load(f)"
   ]
  },
  {
   "cell_type": "markdown",
   "metadata": {},
   "source": [
    "### Plot"
   ]
  },
  {
   "cell_type": "code",
   "execution_count": 12,
   "metadata": {},
   "outputs": [],
   "source": [
    "detection_bs_blendedness_output_dir = output_dir / \"detection_bs_blendedness\"\n",
    "detection_bs_blendedness_output_dir.mkdir(exist_ok=True)"
   ]
  },
  {
   "cell_type": "code",
   "execution_count": 13,
   "metadata": {},
   "outputs": [],
   "source": [
    "class DetectionBSPlotting:\n",
    "    def __init__(self, \n",
    "                 bliss_metric_internal_states: Dict[str, torch.Tensor],\n",
    "                 lsst_metric_internal_states: Dict[str, torch.Tensor],\n",
    "                 bin_cutoffs: torch.Tensor):\n",
    "        self.quantile_points = torch.tensor([0.05, 0.5, 0.95])\n",
    "        self.bliss_metric_internal_states = bliss_metric_internal_states\n",
    "        self.lsst_metric_internal_states = lsst_metric_internal_states\n",
    "        self.xlabels = (\n",
    "            [f\"< {bin_cutoffs[0]: .2f}\"]\n",
    "            + [f\"[{bin_cutoffs[i]: .1f}, {bin_cutoffs[i + 1]: .1f}]\" \n",
    "               if i != 0 else f\"[{bin_cutoffs[i]: .2f}, {bin_cutoffs[i + 1]: .1f}]\"\n",
    "               for i in range(len(bin_cutoffs) - 1) ]\n",
    "            + [f\"> {bin_cutoffs[-1]: .1f}\"]\n",
    "        )\n",
    "\n",
    "    def calculate_recall_precision_f1(self, metric_internal_states: Dict[str, torch.Tensor], postfix_str: str):\n",
    "        recall_list = (metric_internal_states[f\"n_true_matches{postfix_str}\"] / metric_internal_states[f\"n_true_sources{postfix_str}\"]).nan_to_num(0)\n",
    "        recall_matrix = recall_list.quantile(q=self.quantile_points, dim=0)\n",
    "        precision_list = (metric_internal_states[f\"n_est_matches{postfix_str}\"] / metric_internal_states[f\"n_est_sources{postfix_str}\"]).nan_to_num(0)\n",
    "        precision_matrix = precision_list.quantile(q=self.quantile_points, dim=0)\n",
    "        f1_list = (2 * precision_list * recall_list / (precision_list + recall_list)).nan_to_num(0)\n",
    "        f1_matrix = f1_list.quantile(q=self.quantile_points, dim=0)\n",
    "        return recall_matrix, precision_matrix, f1_matrix\n",
    "\n",
    "    def _plot(self, postfix_str: str):\n",
    "        bliss_recall_matrix, bliss_precision_matrix, bliss_f1_matrix = self.calculate_recall_precision_f1(self.bliss_metric_internal_states, \n",
    "                                                                                                          postfix_str=postfix_str)\n",
    "        lsst_recall_matrix, lsst_precision_matrix, lsst_f1_matrix = self.calculate_recall_precision_f1(self.lsst_metric_internal_states, \n",
    "                                                                                                       postfix_str=postfix_str)\n",
    "\n",
    "        x = np.array(list(range(len(self.xlabels))))\n",
    "        bar_width = 0.4\n",
    "\n",
    "        graph_tag = f\"({postfix_str[1:]})\" if postfix_str else \"\"\n",
    "\n",
    "        # recall\n",
    "        recall_fig, recall_axes = plt.subplots(\n",
    "            2, 1, \n",
    "            figsize=(NoteBookPlottingParams.figsize[0], NoteBookPlottingParams.figsize[1]), \n",
    "            gridspec_kw={\"height_ratios\": [2, 3]}, \n",
    "            sharex=\"col\"\n",
    "        )\n",
    "        recall_axes[1].plot(\n",
    "            x,\n",
    "            bliss_recall_matrix[1, :],\n",
    "            \"-o\",\n",
    "            color=NoteBookPlottingParams.color_dict[\"bliss\"],\n",
    "            label=f\"BLISS {graph_tag}\",\n",
    "        )\n",
    "        recall_axes[1].fill_between(\n",
    "            x,\n",
    "            bliss_recall_matrix[0, :],\n",
    "            bliss_recall_matrix[2, :],\n",
    "            color=NoteBookPlottingParams.color_dict[\"bliss\"],\n",
    "            alpha=0.5,\n",
    "        )\n",
    "        recall_axes[1].plot(\n",
    "            x,\n",
    "            lsst_recall_matrix[1, :],\n",
    "            \"-o\",\n",
    "            color=NoteBookPlottingParams.color_dict[\"lsst\"],\n",
    "            label=f\"LSST {graph_tag}\",\n",
    "        )\n",
    "        recall_axes[1].fill_between(\n",
    "            x,\n",
    "            lsst_recall_matrix[0, :],\n",
    "            lsst_recall_matrix[2, :],\n",
    "            color=NoteBookPlottingParams.color_dict[\"lsst\"],\n",
    "            alpha=0.5,\n",
    "        )\n",
    "        recall_axes[1].set_xlabel(\"Blendedness\", fontsize=NoteBookPlottingParams.fontsize)\n",
    "        recall_axes[1].set_xticks(x)\n",
    "        recall_axes[1].set_xticklabels(self.xlabels, rotation=45)\n",
    "        recall_axes[1].tick_params(labelsize=NoteBookPlottingParams.fontsize)\n",
    "        recall_axes[1].set_ylim(bottom=0.0, top=1.0)\n",
    "        recall_axes[1].set_ylabel(\"Recall\", fontsize=NoteBookPlottingParams.fontsize)\n",
    "        recall_axes[1].legend(fontsize=NoteBookPlottingParams.fontsize)\n",
    "        recall_axes[0].bar(\n",
    "            x,\n",
    "            self.bliss_metric_internal_states[f\"n_true_sources{postfix_str}\"].mean(dim=0).tolist(),\n",
    "            bar_width,\n",
    "            label=f\"ground truth {graph_tag}\",\n",
    "            color=NoteBookPlottingParams.color_dict[\"detection_bar_plot\"][\"ground_truth\"],\n",
    "        )\n",
    "    \n",
    "        count_max = self.bliss_metric_internal_states[f\"n_true_sources{postfix_str}\"].max().item()\n",
    "        count_ticks = np.round(np.linspace(0, count_max, 5), -3)\n",
    "        recall_axes[0].set_yticks(count_ticks)\n",
    "        recall_axes[0].set_ylabel(\"# of objects\", fontsize=NoteBookPlottingParams.fontsize)\n",
    "        recall_axes[0].tick_params(labelsize=NoteBookPlottingParams.fontsize)\n",
    "        recall_axes[0].legend(fontsize=NoteBookPlottingParams.fontsize)\n",
    "\n",
    "        recall_axes[0].grid(visible=True, axis=\"y\")\n",
    "        recall_axes[0].grid(visible=False, axis=\"x\")\n",
    "        recall_axes[1].grid(visible=True, axis=\"y\")\n",
    "        recall_axes[1].grid(visible=False, axis=\"x\")\n",
    "        recall_fig.tight_layout()\n",
    "  \n",
    "        # precision\n",
    "        precision_fig, precision_axes = plt.subplots(\n",
    "            2, 1, \n",
    "            figsize=(NoteBookPlottingParams.figsize[0], NoteBookPlottingParams.figsize[1]), \n",
    "            gridspec_kw={\"height_ratios\": [2, 3]}, \n",
    "            sharex=\"col\"\n",
    "        )\n",
    "        precision_axes[1].plot(\n",
    "            x,\n",
    "            bliss_precision_matrix[1, :],\n",
    "            \"-o\",\n",
    "            color=NoteBookPlottingParams.color_dict[\"bliss\"],\n",
    "            label=f\"BLISS {graph_tag}\",\n",
    "        )\n",
    "        precision_axes[1].fill_between(\n",
    "            x,\n",
    "            bliss_precision_matrix[0, :],\n",
    "            bliss_precision_matrix[2, :],\n",
    "            color=NoteBookPlottingParams.color_dict[\"bliss\"],\n",
    "            alpha=0.5,\n",
    "        )\n",
    "        precision_axes[1].plot(\n",
    "            x,\n",
    "            lsst_precision_matrix[1, :],\n",
    "            \"-o\",\n",
    "            color=NoteBookPlottingParams.color_dict[\"lsst\"],\n",
    "            label=f\"LSST {graph_tag}\",\n",
    "        )\n",
    "        precision_axes[1].fill_between(\n",
    "            x,\n",
    "            lsst_precision_matrix[0, :],\n",
    "            lsst_precision_matrix[2, :],\n",
    "            color=NoteBookPlottingParams.color_dict[\"lsst\"],\n",
    "            alpha=0.5,\n",
    "        )\n",
    "        precision_axes[1].set_xlabel(\"Blendedness\", fontsize=NoteBookPlottingParams.fontsize)\n",
    "        precision_axes[1].set_xticks(range(len(self.xlabels)))\n",
    "        precision_axes[1].set_xticklabels(self.xlabels, rotation=45)\n",
    "        precision_axes[1].tick_params(labelsize=NoteBookPlottingParams.fontsize)\n",
    "        precision_axes[1].set_ylim(bottom=0.0, top=1.0)\n",
    "        precision_axes[1].set_ylabel(\"Precision\", fontsize=NoteBookPlottingParams.fontsize)\n",
    "        precision_axes[1].legend(fontsize=NoteBookPlottingParams.fontsize)\n",
    "        precision_axes[0].bar(\n",
    "            x - 0.5 * bar_width,\n",
    "            self.bliss_metric_internal_states[f\"n_est_sources{postfix_str}\"].mean(dim=0).tolist(),\n",
    "            bar_width,\n",
    "            label=f\"BLISS {graph_tag}\",\n",
    "            color=NoteBookPlottingParams.color_dict[\"bliss\"],\n",
    "        )\n",
    "        precision_axes[0].bar(\n",
    "            x + 0.5 * bar_width,\n",
    "            self.lsst_metric_internal_states[f\"n_est_sources{postfix_str}\"].mean(dim=0).tolist(),\n",
    "            bar_width,\n",
    "            label=f\"LSST {graph_tag}\",\n",
    "            color=NoteBookPlottingParams.color_dict[\"lsst\"],\n",
    "        )\n",
    "        count_max = max(self.bliss_metric_internal_states[f\"n_est_sources{postfix_str}\"].max().item(),\n",
    "                        self.lsst_metric_internal_states[f\"n_est_sources{postfix_str}\"].max().item())\n",
    "        count_ticks = np.round(np.linspace(0, count_max, 5), -3)\n",
    "        precision_axes[0].set_yticks(count_ticks)\n",
    "        precision_axes[0].tick_params(labelsize=NoteBookPlottingParams.fontsize)\n",
    "        precision_axes[0].set_ylabel(\"# of detections\", fontsize=NoteBookPlottingParams.fontsize)\n",
    "        precision_axes[0].legend(fontsize=NoteBookPlottingParams.fontsize)\n",
    "\n",
    "        precision_axes[0].grid(visible=True, axis=\"y\")\n",
    "        precision_axes[0].grid(visible=False, axis=\"x\")\n",
    "        precision_axes[1].grid(visible=True, axis=\"y\")\n",
    "        precision_axes[1].grid(visible=False, axis=\"x\")\n",
    "        precision_fig.tight_layout()\n",
    "\n",
    "        return recall_fig, precision_fig\n",
    "\n",
    "    def plot(self):\n",
    "        return self._plot(postfix_str=\"\")"
   ]
  },
  {
   "cell_type": "code",
   "execution_count": 14,
   "metadata": {},
   "outputs": [],
   "source": [
    "def get_detection_bs_blendedness_plotting():\n",
    "    bliss_metrics = DetectionwrtBlendedness(bin_cutoffs=blendedness_bin_cutoffs)\n",
    "    lsst_metrics = bliss_metrics.clone()\n",
    "\n",
    "    bliss_metric_internal_states = {}\n",
    "    lsst_metric_internal_states = {}\n",
    "\n",
    "    for epoch_i, results in bs_results:\n",
    "        print(f\"Epoch [{epoch_i + 1}]:\")\n",
    "        for bliss_full_cat, lsst_full_cat, target_full_cat, bliss_matching, lsst_matching in tqdm.tqdm(results):\n",
    "            target_full_cat[\"blendedness_new\"] = calculate_blendedness(target_full_cat, 30.0, brute_force=True, weight_std=6.0)\n",
    "            bliss_full_cat[\"blendedness_new\"] = calculate_blendedness(bliss_full_cat, 30.0, brute_force=True, weight_std=6.0)\n",
    "            lsst_full_cat[\"blendedness_new\"] = calculate_blendedness(lsst_full_cat, 30.0, brute_force=True, weight_std=6.0)\n",
    "            bliss_metrics.update(target_full_cat, bliss_full_cat, bliss_matching)\n",
    "            lsst_metrics.update(target_full_cat, lsst_full_cat, lsst_matching)\n",
    "\n",
    "        metric_internal_states = bliss_metrics.get_internal_states()\n",
    "        for k_state, v_state in metric_internal_states.items():\n",
    "            if k_state not in bliss_metric_internal_states:\n",
    "                bliss_metric_internal_states[k_state] = []\n",
    "            bliss_metric_internal_states[k_state].append(v_state)\n",
    "\n",
    "        metric_internal_states = lsst_metrics.get_internal_states()\n",
    "        for k_state, v_state in metric_internal_states.items():\n",
    "            if k_state not in lsst_metric_internal_states:\n",
    "                lsst_metric_internal_states[k_state] = []\n",
    "            lsst_metric_internal_states[k_state].append(v_state)\n",
    "\n",
    "        bliss_metrics.reset()\n",
    "        lsst_metrics.reset()\n",
    "\n",
    "    bliss_metric_internal_states = {k: torch.stack(v) for k, v in bliss_metric_internal_states.items()}\n",
    "    lsst_metric_internal_states = {k: torch.stack(v) for k, v in lsst_metric_internal_states.items()}\n",
    "\n",
    "    return DetectionBSPlotting(bliss_metric_internal_states,\n",
    "                                lsst_metric_internal_states,\n",
    "                                blendedness_bin_cutoffs)"
   ]
  },
  {
   "cell_type": "code",
   "execution_count": 15,
   "metadata": {},
   "outputs": [
    {
     "name": "stdout",
     "output_type": "stream",
     "text": [
      "Epoch [1]:\n"
     ]
    },
    {
     "name": "stderr",
     "output_type": "stream",
     "text": [
      "782it [00:09, 79.82it/s]\n"
     ]
    },
    {
     "name": "stdout",
     "output_type": "stream",
     "text": [
      "Epoch [2]:\n"
     ]
    },
    {
     "name": "stderr",
     "output_type": "stream",
     "text": [
      "782it [00:09, 81.31it/s]\n"
     ]
    },
    {
     "name": "stdout",
     "output_type": "stream",
     "text": [
      "Epoch [3]:\n"
     ]
    },
    {
     "name": "stderr",
     "output_type": "stream",
     "text": [
      "782it [00:09, 79.30it/s]\n"
     ]
    },
    {
     "name": "stdout",
     "output_type": "stream",
     "text": [
      "Epoch [4]:\n"
     ]
    },
    {
     "name": "stderr",
     "output_type": "stream",
     "text": [
      "782it [00:09, 84.53it/s]\n"
     ]
    },
    {
     "name": "stdout",
     "output_type": "stream",
     "text": [
      "Epoch [5]:\n"
     ]
    },
    {
     "name": "stderr",
     "output_type": "stream",
     "text": [
      "782it [00:09, 79.73it/s]\n"
     ]
    },
    {
     "name": "stdout",
     "output_type": "stream",
     "text": [
      "Epoch [6]:\n"
     ]
    },
    {
     "name": "stderr",
     "output_type": "stream",
     "text": [
      "782it [00:09, 83.46it/s]\n"
     ]
    },
    {
     "name": "stdout",
     "output_type": "stream",
     "text": [
      "Epoch [7]:\n"
     ]
    },
    {
     "name": "stderr",
     "output_type": "stream",
     "text": [
      "782it [00:09, 84.77it/s]\n"
     ]
    },
    {
     "name": "stdout",
     "output_type": "stream",
     "text": [
      "Epoch [8]:\n"
     ]
    },
    {
     "name": "stderr",
     "output_type": "stream",
     "text": [
      "782it [00:09, 84.14it/s]\n"
     ]
    },
    {
     "name": "stdout",
     "output_type": "stream",
     "text": [
      "Epoch [9]:\n"
     ]
    },
    {
     "name": "stderr",
     "output_type": "stream",
     "text": [
      "782it [00:09, 83.03it/s]\n"
     ]
    },
    {
     "name": "stdout",
     "output_type": "stream",
     "text": [
      "Epoch [10]:\n"
     ]
    },
    {
     "name": "stderr",
     "output_type": "stream",
     "text": [
      "782it [00:09, 84.34it/s]\n"
     ]
    },
    {
     "name": "stdout",
     "output_type": "stream",
     "text": [
      "Epoch [11]:\n"
     ]
    },
    {
     "name": "stderr",
     "output_type": "stream",
     "text": [
      "782it [00:09, 82.17it/s]\n"
     ]
    },
    {
     "name": "stdout",
     "output_type": "stream",
     "text": [
      "Epoch [12]:\n"
     ]
    },
    {
     "name": "stderr",
     "output_type": "stream",
     "text": [
      "782it [00:09, 85.67it/s]\n"
     ]
    },
    {
     "name": "stdout",
     "output_type": "stream",
     "text": [
      "Epoch [13]:\n"
     ]
    },
    {
     "name": "stderr",
     "output_type": "stream",
     "text": [
      "782it [00:09, 85.25it/s]\n"
     ]
    },
    {
     "name": "stdout",
     "output_type": "stream",
     "text": [
      "Epoch [14]:\n"
     ]
    },
    {
     "name": "stderr",
     "output_type": "stream",
     "text": [
      "782it [00:09, 84.02it/s]\n"
     ]
    },
    {
     "name": "stdout",
     "output_type": "stream",
     "text": [
      "Epoch [15]:\n"
     ]
    },
    {
     "name": "stderr",
     "output_type": "stream",
     "text": [
      "782it [00:09, 84.55it/s]\n"
     ]
    },
    {
     "name": "stdout",
     "output_type": "stream",
     "text": [
      "Epoch [16]:\n"
     ]
    },
    {
     "name": "stderr",
     "output_type": "stream",
     "text": [
      "782it [00:09, 84.14it/s]\n"
     ]
    },
    {
     "name": "stdout",
     "output_type": "stream",
     "text": [
      "Epoch [17]:\n"
     ]
    },
    {
     "name": "stderr",
     "output_type": "stream",
     "text": [
      "782it [00:09, 82.70it/s]\n"
     ]
    },
    {
     "name": "stdout",
     "output_type": "stream",
     "text": [
      "Epoch [18]:\n"
     ]
    },
    {
     "name": "stderr",
     "output_type": "stream",
     "text": [
      "782it [00:09, 83.26it/s]\n"
     ]
    },
    {
     "name": "stdout",
     "output_type": "stream",
     "text": [
      "Epoch [19]:\n"
     ]
    },
    {
     "name": "stderr",
     "output_type": "stream",
     "text": [
      "782it [00:09, 84.82it/s]\n"
     ]
    },
    {
     "name": "stdout",
     "output_type": "stream",
     "text": [
      "Epoch [20]:\n"
     ]
    },
    {
     "name": "stderr",
     "output_type": "stream",
     "text": [
      "782it [00:09, 82.27it/s]\n"
     ]
    },
    {
     "name": "stdout",
     "output_type": "stream",
     "text": [
      "Epoch [21]:\n"
     ]
    },
    {
     "name": "stderr",
     "output_type": "stream",
     "text": [
      "782it [00:09, 78.29it/s]\n"
     ]
    },
    {
     "name": "stdout",
     "output_type": "stream",
     "text": [
      "Epoch [22]:\n"
     ]
    },
    {
     "name": "stderr",
     "output_type": "stream",
     "text": [
      "782it [00:09, 82.17it/s]\n"
     ]
    },
    {
     "name": "stdout",
     "output_type": "stream",
     "text": [
      "Epoch [23]:\n"
     ]
    },
    {
     "name": "stderr",
     "output_type": "stream",
     "text": [
      "782it [00:09, 80.74it/s]\n"
     ]
    },
    {
     "name": "stdout",
     "output_type": "stream",
     "text": [
      "Epoch [24]:\n"
     ]
    },
    {
     "name": "stderr",
     "output_type": "stream",
     "text": [
      "782it [00:09, 80.92it/s]\n"
     ]
    },
    {
     "name": "stdout",
     "output_type": "stream",
     "text": [
      "Epoch [25]:\n"
     ]
    },
    {
     "name": "stderr",
     "output_type": "stream",
     "text": [
      "782it [00:09, 85.10it/s]\n"
     ]
    },
    {
     "name": "stdout",
     "output_type": "stream",
     "text": [
      "Epoch [26]:\n"
     ]
    },
    {
     "name": "stderr",
     "output_type": "stream",
     "text": [
      "782it [00:09, 81.04it/s]\n"
     ]
    },
    {
     "name": "stdout",
     "output_type": "stream",
     "text": [
      "Epoch [27]:\n"
     ]
    },
    {
     "name": "stderr",
     "output_type": "stream",
     "text": [
      "782it [00:09, 80.83it/s]\n"
     ]
    },
    {
     "name": "stdout",
     "output_type": "stream",
     "text": [
      "Epoch [28]:\n"
     ]
    },
    {
     "name": "stderr",
     "output_type": "stream",
     "text": [
      "782it [00:09, 82.52it/s]\n"
     ]
    },
    {
     "name": "stdout",
     "output_type": "stream",
     "text": [
      "Epoch [29]:\n"
     ]
    },
    {
     "name": "stderr",
     "output_type": "stream",
     "text": [
      "782it [00:09, 79.43it/s]\n"
     ]
    },
    {
     "name": "stdout",
     "output_type": "stream",
     "text": [
      "Epoch [30]:\n"
     ]
    },
    {
     "name": "stderr",
     "output_type": "stream",
     "text": [
      "782it [00:09, 80.74it/s]\n"
     ]
    }
   ],
   "source": [
    "detection_bs_blendedness_plotting = get_detection_bs_blendedness_plotting()"
   ]
  },
  {
   "cell_type": "code",
   "execution_count": null,
   "metadata": {},
   "outputs": [],
   "source": [
    "detection_bs_blendedness_plotting = DetectionBSPlotting(detection_bs_blendedness_plotting.bliss_metric_internal_states,\n",
    "                                                        detection_bs_blendedness_plotting.lsst_metric_internal_states,\n",
    "                                                        blendedness_bin_cutoffs)"
   ]
  },
  {
   "cell_type": "code",
   "execution_count": 17,
   "metadata": {},
   "outputs": [
    {
     "data": {
      "text/plain": [
       "tensor([[75090., 47198., 14361., 10343.,  7454.,  3420.],\n",
       "        [74599., 47209., 14558., 10054.,  7582.,  3351.],\n",
       "        [75133., 47069., 14253., 10044.,  7533.,  3557.],\n",
       "        [75069., 47147., 14414., 10136.,  7434.,  3366.],\n",
       "        [75098., 46938., 14554.,  9954.,  7359.,  3350.],\n",
       "        [74758., 46620., 14290.,  9886.,  7615.,  3416.],\n",
       "        [74828., 47122., 14415., 10010.,  7439.,  3542.],\n",
       "        [75095., 46815., 14587., 10081.,  7572.,  3485.],\n",
       "        [75223., 46716., 14191.,  9832.,  7391.,  3295.],\n",
       "        [75209., 46593., 14518.,  9904.,  7515.,  3343.],\n",
       "        [74955., 47308., 14280.,  9885.,  7526.,  3493.],\n",
       "        [75254., 46410., 14289.,  9771.,  7391.,  3443.],\n",
       "        [75282., 47036., 14805.,  9905.,  7432.,  3469.],\n",
       "        [75336., 46668., 14234.,  9956.,  7453.,  3399.],\n",
       "        [74947., 46736., 14232.,  9724.,  7469.,  3460.],\n",
       "        [74936., 46889., 14417.,  9666.,  7490.,  3551.],\n",
       "        [74720., 47235., 14439., 10190.,  7412.,  3423.],\n",
       "        [75024., 46846., 14198.,  9723.,  7528.,  3526.],\n",
       "        [74759., 46372., 14157.,  9874.,  7377.,  3446.],\n",
       "        [75015., 47466., 14672., 10176.,  7405.,  3523.],\n",
       "        [75369., 46569., 14271.,  9808.,  7472.,  3470.],\n",
       "        [75088., 46630., 14509., 10031.,  7600.,  3536.],\n",
       "        [75095., 46902., 14169.,  9849.,  7510.,  3505.],\n",
       "        [74669., 47174., 14269.,  9971.,  7672.,  3535.],\n",
       "        [74736., 47138., 14350.,  9956.,  7334.,  3381.],\n",
       "        [74682., 46950., 14469., 10128.,  7541.,  3516.],\n",
       "        [74569., 47517., 14478.,  9839.,  7431.,  3610.],\n",
       "        [75062., 46976., 14448.,  9948.,  7408.,  3476.],\n",
       "        [75226., 47024., 14267.,  9847.,  7305.,  3494.],\n",
       "        [74757., 47630., 14735., 10161.,  7619.,  3566.]])"
      ]
     },
     "execution_count": 17,
     "metadata": {},
     "output_type": "execute_result"
    }
   ],
   "source": [
    "detection_bs_blendedness_plotting.bliss_metric_internal_states[\"n_true_sources\"]"
   ]
  },
  {
   "cell_type": "code",
   "execution_count": 18,
   "metadata": {},
   "outputs": [
    {
     "data": {
      "image/png": "[encoded data removed]",
      "text/plain": [
       "<Figure size 340x340 with 2 Axes>"
      ]
     },
     "metadata": {},
     "output_type": "display_data"
    },
    {
     "data": {
      "image/png": "[encoded data removed]",
      "text/plain": [
       "<Figure size 340x340 with 2 Axes>"
      ]
     },
     "metadata": {},
     "output_type": "display_data"
    }
   ],
   "source": [
    "recall_fig, precision_fig = detection_bs_blendedness_plotting.plot()"
   ]
  },
  {
   "cell_type": "code",
   "execution_count": 19,
   "metadata": {},
   "outputs": [],
   "source": [
    "recall_fig.savefig(detection_bs_blendedness_output_dir / \"recall_blendedness.pdf\", \n",
    "                   bbox_inches=\"tight\", \n",
    "                   dpi=NoteBookPlottingParams.dpi)\n",
    "recall_fig.show()"
   ]
  },
  {
   "cell_type": "code",
   "execution_count": 20,
   "metadata": {},
   "outputs": [],
   "source": [
    "precision_fig.savefig(detection_bs_blendedness_output_dir / \"precision_blendedness.pdf\", \n",
    "                   bbox_inches=\"tight\", \n",
    "                   dpi=NoteBookPlottingParams.dpi)\n",
    "precision_fig.show()"
   ]
  },
  {
   "cell_type": "code",
   "execution_count": 93,
   "metadata": {},
   "outputs": [
    {
     "name": "stderr",
     "output_type": "stream",
     "text": [
      "782it [00:00, 982.02it/s]\n"
     ]
    }
   ],
   "source": [
    "one_bs_result = next(iter(bs_results))[1]\n",
    "stat_fluxes = []\n",
    "stat_blendedness = []\n",
    "for _bliss_full_cat, _lsst_full_cat, target_full_cat, _bliss_matching, _lsst_matching in tqdm.tqdm(one_bs_result):\n",
    "    target_full_cat[\"blendedness_new\"] = calculate_blendedness(target_full_cat, 30.0, brute_force=True, weight_std=6.0)\n",
    "    mask = target_full_cat.is_on_mask\n",
    "    stat_fluxes.append(target_full_cat[\"fluxes\"][mask])\n",
    "    stat_blendedness.append(target_full_cat[\"blendedness_new\"][mask])\n",
    "stat_fluxes = torch.cat(stat_fluxes, dim=0)\n",
    "stat_blendedness = torch.cat(stat_blendedness, dim=0)    "
   ]
  },
  {
   "cell_type": "code",
   "execution_count": 94,
   "metadata": {},
   "outputs": [
    {
     "data": {
      "text/plain": [
       "(torch.Size([157866, 6]), torch.Size([157866, 1]))"
      ]
     },
     "execution_count": 94,
     "metadata": {},
     "output_type": "execute_result"
    }
   ],
   "source": [
    "stat_fluxes.shape, stat_blendedness.shape"
   ]
  },
  {
   "cell_type": "code",
   "execution_count": 95,
   "metadata": {},
   "outputs": [
    {
     "data": {
      "text/plain": [
       "tensor(0.2201)"
      ]
     },
     "execution_count": 95,
     "metadata": {},
     "output_type": "execute_result"
    }
   ],
   "source": [
    "(convert_flux_to_magnitude(stat_fluxes[:, 2], zero_point=3631e9) < 24.5).sum() / stat_fluxes.shape[0]"
   ]
  },
  {
   "cell_type": "code",
   "execution_count": 96,
   "metadata": {},
   "outputs": [
    {
     "data": {
      "text/plain": [
       "tensor(0.7746)"
      ]
     },
     "execution_count": 96,
     "metadata": {},
     "output_type": "execute_result"
    }
   ],
   "source": [
    "(stat_blendedness < 0.3).sum() / stat_blendedness.shape[0]"
   ]
  },
  {
   "cell_type": "code",
   "execution_count": 98,
   "metadata": {},
   "outputs": [
    {
     "data": {
      "text/plain": [
       "tensor(0.2044)"
      ]
     },
     "execution_count": 98,
     "metadata": {},
     "output_type": "execute_result"
    }
   ],
   "source": [
    "((stat_blendedness < 0.3).squeeze() & (convert_flux_to_magnitude(stat_fluxes[:, 2], zero_point=3631e9) < 24.5).squeeze()).sum() / stat_blendedness.shape[0]"
   ]
  },
  {
   "cell_type": "code",
   "execution_count": 39,
   "metadata": {},
   "outputs": [],
   "source": [
    "# this is the function from https://github.com/LSSTDESC/DC2-analysis/blob/master/validation/validate_dc2_run2.2i_object_table.ipynb\n",
    "# thank Tim for finding this useful repos\n",
    "def ellipticity(I_xx, I_xy, I_yy):\n",
    "    \"\"\"Calculate ellipticity from second moments.\n",
    "\n",
    "    Parameters\n",
    "    ----------\n",
    "    I_xx : float or numpy.array\n",
    "    I_xy : float or numpy.array\n",
    "    I_yy : float or numpy.array\n",
    "\n",
    "    Returns\n",
    "    -------\n",
    "    e, e1, e2 : (float, float, float) or (numpy.array, numpy.array, numpy.array)\n",
    "        Complex ellipticity, real component, imaginary component\n",
    "        \n",
    "    Copied from https://github.com/lsst/validate_drp/python/lsst/validate/drp/util.py\n",
    "    \"\"\"\n",
    "    e = (I_xx - I_yy + 2j * I_xy) / (I_xx + I_yy + 2 * SM.sqrt(I_xx * I_yy - I_xy ** 2))\n",
    "    e1 = np.real(e)\n",
    "    e2 = np.imag(e)\n",
    "    return e, e1, e2"
   ]
  },
  {
   "cell_type": "code",
   "execution_count": 40,
   "metadata": {},
   "outputs": [
    {
     "name": "stderr",
     "output_type": "stream",
     "text": [
      "/tmp/ipykernel_3011969/3376200366.py:19: RuntimeWarning: invalid value encountered in divide\n",
      "  e = (I_xx - I_yy + 2j * I_xy) / (I_xx + I_yy + 2 * SM.sqrt(I_xx * I_yy - I_xy ** 2))\n"
     ]
    }
   ],
   "source": [
    "cat = pd.read_pickle(\"/data/scratch/dc2local/merged_catalog_with_flux_over_50.pkl\")\n",
    "cat[\"mag\"] = convert_flux_to_magnitude(torch.from_numpy(cat[\"flux_r\"].values), zero_point=3631e9)\n",
    "est_ellip, est_ellip1, est_ellip2 = ellipticity(cat[\"Ixx_pixel\"].values, \n",
    "                                                cat[\"Ixy_pixel\"].values, \n",
    "                                                cat[\"Iyy_pixel\"].values)\n",
    "cat[\"ellipticity_est\"] = est_ellip\n",
    "cat[\"ellipticity_1_est\"] = -1 * est_ellip1\n",
    "cat[\"ellipticity_2_est\"] = est_ellip2"
   ]
  }
 ],
 "metadata": {
  "kernelspec": {
   "display_name": ".venv",
   "language": "python",
   "name": "python3"
  },
  "language_info": {
   "codemirror_mode": {
    "name": "ipython",
    "version": 3
   },
   "file_extension": ".py",
   "mimetype": "text/x-python",
   "name": "python",
   "nbconvert_exporter": "python",
   "pygments_lexer": "ipython3",
   "version": "3.10.12"
  }
 },
 "nbformat": 4,
 "nbformat_minor": 2
}

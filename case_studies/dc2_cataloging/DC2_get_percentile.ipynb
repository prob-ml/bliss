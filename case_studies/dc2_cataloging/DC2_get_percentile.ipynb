{
 "cells": [
  {
   "cell_type": "code",
   "execution_count": 1,
   "metadata": {},
   "outputs": [],
   "source": [
    "import torch\n",
    "from hydra import initialize, compose\n",
    "from hydra.utils import instantiate\n",
    "from bliss.surveys.dc2 import DC2\n",
    "import tqdm\n",
    "from pathlib import Path\n",
    "import pickle"
   ]
  },
  {
   "cell_type": "code",
   "execution_count": 2,
   "metadata": {},
   "outputs": [],
   "source": [
    "with initialize(config_path=\".\", version_base=None):\n",
    "    notebook_cfg = compose(\"notebook_config\")\n",
    "dc2: DC2 = instantiate(notebook_cfg.surveys.dc2)\n",
    "dc2.prepare_data()\n",
    "dc2.setup()\n",
    "\n",
    "dc2_train_dataloader = dc2.train_dataloader()\n",
    "device = torch.device(\"cuda:0\" if torch.cuda.is_available() else \"cpu\")"
   ]
  },
  {
   "cell_type": "code",
   "execution_count": 3,
   "metadata": {},
   "outputs": [],
   "source": [
    "output_dir = Path(\"./DC2_get_percentile/\")\n",
    "output_dir.mkdir(parents=True, exist_ok=True)"
   ]
  },
  {
   "cell_type": "code",
   "execution_count": 4,
   "metadata": {},
   "outputs": [],
   "source": [
    "asinh_quantiles_tensor = torch.tensor([0.01, 0.1, 0.25, 0.5, 0.75, 0.9, 0.99], device=device)\n",
    "bands = [0, 1, 2, 3, 4, 5]"
   ]
  },
  {
   "cell_type": "code",
   "execution_count": 5,
   "metadata": {},
   "outputs": [
    {
     "name": "stderr",
     "output_type": "stream",
     "text": [
      "100%|██████████| 125/125 [00:03<00:00, 35.86it/s]\n"
     ]
    }
   ],
   "source": [
    "thresholds_path = output_dir / \"thresholds.pkl\"\n",
    "if not thresholds_path.exists():\n",
    "    thresholds = []\n",
    "    for batch in tqdm.tqdm(dc2_train_dataloader):\n",
    "        batch_images = batch[\"images\"][:, bands].unsqueeze(2).to(device=device)\n",
    "        thresholds.append(torch.quantile(batch_images, q=asinh_quantiles_tensor))\n",
    "\n",
    "    with open(thresholds_path, \"wb\") as output_f:\n",
    "        pickle.dump(thresholds, output_f, pickle.HIGHEST_PROTOCOL)\n",
    "else:\n",
    "    with open(thresholds_path, \"rb\") as input_f:\n",
    "        thresholds = pickle.load(input_f)"
   ]
  },
  {
   "cell_type": "code",
   "execution_count": 8,
   "metadata": {},
   "outputs": [],
   "source": [
    "thresholds_tensor = torch.stack(thresholds).median(dim=0)[0].cpu()\n",
    "thresholds_tensor_path = output_dir / \"threshold_tensor.pkl\"\n",
    "with open(thresholds_tensor_path, \"wb\") as output_f:\n",
    "    torch.save(thresholds_tensor, output_f)"
   ]
  },
  {
   "cell_type": "code",
   "execution_count": 10,
   "metadata": {},
   "outputs": [],
   "source": [
    "pass"
   ]
  }
 ],
 "metadata": {
  "kernelspec": {
   "display_name": ".venv",
   "language": "python",
   "name": "python3"
  },
  "language_info": {
   "codemirror_mode": {
    "name": "ipython",
    "version": 3
   },
   "file_extension": ".py",
   "mimetype": "text/x-python",
   "name": "python",
   "nbconvert_exporter": "python",
   "pygments_lexer": "ipython3",
   "version": "3.10.12"
  }
 },
 "nbformat": 4,
 "nbformat_minor": 2
}

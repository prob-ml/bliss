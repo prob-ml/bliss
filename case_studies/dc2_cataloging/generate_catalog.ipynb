{
 "cells": [
  {
   "cell_type": "markdown",
   "metadata": {},
   "source": [
    "This notebook present the steps to generate merged catalog files. The reason that we need to generate such files is that:\n",
    "\n",
    "1. Bliss needs input parameters that contains psf, fluxes, location, source type, galaxy related parameters, but the truth catalog in DC2 does not provide galaxy parameters or psf\n",
    "2. To get those parameter, we need to use CosmoDC2 dataset and truth-match table, where the galaxy parameters and psf are stored.\n",
    "3. To save the time for multiple merging when loading the data, we store the merged dataset into corresponding merged_catalog_{}.pkl files"
   ]
  },
  {
   "cell_type": "markdown",
   "metadata": {},
   "source": [
    "### Load Catalog"
   ]
  },
  {
   "cell_type": "markdown",
   "metadata": {},
   "source": [
    "Use [GCRCatalogs](https://data.lsstdesc.org/doc/install_gcr) package to load the dc2 truth catalog and CosomoDC2.\n",
    "\n",
    "\n"
   ]
  },
  {
   "cell_type": "code",
   "execution_count": 1,
   "metadata": {},
   "outputs": [],
   "source": [
    "import pickle\n",
    "import GCRCatalogs\n",
    "import matplotlib.pyplot as plt\n",
    "import numpy as np\n",
    "import healpy as hp\n",
    "from pathlib import Path\n",
    "import pandas as pd\n",
    "\n",
    "from GCRCatalogs import GCRQuery"
   ]
  },
  {
   "cell_type": "code",
   "execution_count": 2,
   "metadata": {},
   "outputs": [],
   "source": [
    "output_dir = Path(\"./generate_new_catalog_output/\")\n",
    "output_dir.mkdir(parents=True, exist_ok=True)"
   ]
  },
  {
   "cell_type": "code",
   "execution_count": 3,
   "metadata": {},
   "outputs": [],
   "source": [
    "ori_cat = pd.read_pickle(\"/data/scratch/dc2local/ori_merged_catalog_with_flux_over_50.pkl\")"
   ]
  },
  {
   "cell_type": "code",
   "execution_count": 4,
   "metadata": {},
   "outputs": [],
   "source": [
    "ori_max_ra = ori_cat[\"ra\"].max()\n",
    "ori_min_ra = ori_cat[\"ra\"].min()\n",
    "ori_max_dec = ori_cat[\"dec\"].max()\n",
    "ori_min_dec = ori_cat[\"dec\"].min()\n",
    "ra_dec_filters = [f\"ra >= {ori_min_ra - 0.1}\", f\"ra <= {ori_max_ra + 0.1}\", \n",
    "                  f\"dec >= {ori_min_dec - 0.1}\", f\"dec <= {ori_max_dec + 0.1}\"]"
   ]
  },
  {
   "cell_type": "code",
   "execution_count": 5,
   "metadata": {},
   "outputs": [
    {
     "name": "stdout",
     "output_type": "stream",
     "text": [
      "['av', 'cosmodc2_hp', 'cosmodc2_id', 'dec', 'flux_g', 'flux_i', 'flux_r', 'flux_u', 'flux_y', 'flux_z', 'host_galaxy', 'id', 'id_string', 'is_good_match', 'is_nearest_neighbor', 'is_unique_truth_entry', 'mag_g', 'mag_i', 'mag_r', 'mag_u', 'mag_y', 'mag_z', 'match_objectId', 'match_sep', 'patch', 'ra', 'redshift', 'rv', 'tract', 'truth_type']\n"
     ]
    }
   ],
   "source": [
    "truth_catalog_pickle_file = output_dir / \"truth_catalog.pkl\"\n",
    "GCRCatalogs.set_root_dir(\"/data/scratch/dc2_nfs/\")\n",
    "if truth_catalog_pickle_file.exists():\n",
    "    with open(truth_catalog_pickle_file, \"rb\") as inputp: \n",
    "        truth_cat_data = pickle.load(inputp)\n",
    "else:   \n",
    "    truth_cat = GCRCatalogs.load_catalog(\"desc_dc2_run2.2i_dr6_truth\") \n",
    "    print(sorted(truth_cat.list_all_quantities()))\n",
    "    truth_cat_data = truth_cat.get_quantities([\n",
    "        \"id\", \"match_objectId\", \"cosmodc2_id\", \n",
    "        \"ra\", \"dec\", \n",
    "        \"truth_type\", \n",
    "        \"flux_g\", \"flux_i\", \"flux_r\", \"flux_u\", \"flux_y\", \"flux_z\",\n",
    "        \"redshift\",\n",
    "    ],\n",
    "    filters=ra_dec_filters)\n",
    "    # with open(truth_catalog_pickle_file, \"wb\") as outp:\n",
    "    #     pickle.dump(truth_cat_data, outp, pickle.HIGHEST_PROTOCOL)\n",
    "\n",
    "truth_cat_df = pd.DataFrame(truth_cat_data)\n",
    "truth_cat_df.rename(columns={\"redshift\": \"redshifts\"}, inplace=True)"
   ]
  },
  {
   "cell_type": "code",
   "execution_count": 6,
   "metadata": {},
   "outputs": [
    {
     "name": "stdout",
     "output_type": "stream",
     "text": [
      "60489715\n"
     ]
    }
   ],
   "source": [
    "print(len(truth_cat_df))"
   ]
  },
  {
   "cell_type": "code",
   "execution_count": 8,
   "metadata": {},
   "outputs": [
    {
     "name": "stdout",
     "output_type": "stream",
     "text": [
      "0.8513013658602955\n"
     ]
    }
   ],
   "source": [
    "print(1 - (truth_cat_df[\"flux_r\"] > 100).values.sum() / len(truth_cat_df))"
   ]
  },
  {
   "cell_type": "code",
   "execution_count": null,
   "metadata": {},
   "outputs": [],
   "source": [
    "print(truth_cat_df[\"ra\"].min(), truth_cat_df[\"ra\"].max())\n",
    "print(truth_cat_df[\"dec\"].min(), truth_cat_df[\"dec\"].max())"
   ]
  },
  {
   "cell_type": "code",
   "execution_count": null,
   "metadata": {},
   "outputs": [],
   "source": [
    "plt.hist(truth_cat_data[\"flux_r\"], np.linspace(50, 10000, num=100))\n",
    "plt.show()"
   ]
  },
  {
   "cell_type": "code",
   "execution_count": null,
   "metadata": {},
   "outputs": [],
   "source": [
    "vertices = hp.ang2vec(np.array([ori_min_ra, ori_max_ra, ori_max_ra, ori_min_ra]),\n",
    "                      np.array([ori_min_dec, ori_min_dec, ori_max_dec, ori_max_dec]), lonlat=True)\n",
    "ipix = hp.query_polygon(32, vertices, inclusive=True)\n",
    "healpix_filter = GCRQuery((lambda h: np.isin(h, ipix, True), \"healpix_pixel\"))"
   ]
  },
  {
   "cell_type": "code",
   "execution_count": null,
   "metadata": {},
   "outputs": [],
   "source": [
    "cosmodc2_pickle_file = output_dir / \"cosmodc2.pkl\"\n",
    "if cosmodc2_pickle_file.exists():\n",
    "    with open(cosmodc2_pickle_file, \"rb\") as inputp: \n",
    "        cosmodc2_data = pickle.load(inputp)\n",
    "else:\n",
    "    config_overwrite = dict(\n",
    "        catalog_root_dir=\"/data/scratch/dc2_nfs/cosmoDC2_v1.1.4/\"\n",
    "    )\n",
    "    cosmodc2_table = GCRCatalogs.load_catalog(\"desc_cosmodc2\", config_overwrite)\n",
    "    print(sorted(cosmodc2_table.list_all_quantities()))\n",
    "    cosmodc2_data = cosmodc2_table.get_quantities([\n",
    "        \"galaxy_id\",\n",
    "        \"shear_1\", \"shear_2\",\n",
    "        \"ellipticity_1_true_dc2\", \"ellipticity_2_true_dc2\",\n",
    "    ],\n",
    "    native_filters=healpix_filter)\n",
    "    # with open(cosmodc2_pickle_file, \"wb\") as outp:\n",
    "    #     pickle.dump(cosmodc2_data, outp, pickle.HIGHEST_PROTOCOL)\n",
    "\n",
    "cosmodc2_df = pd.DataFrame(cosmodc2_data).rename(columns={\n",
    "    \"ellipticity_1_true_dc2\": \"ellipticity_1_true\",\n",
    "    \"ellipticity_2_true_dc2\": \"ellipticity_2_true\",\n",
    "})"
   ]
  },
  {
   "cell_type": "code",
   "execution_count": null,
   "metadata": {},
   "outputs": [],
   "source": [
    "print(len(cosmodc2_df))"
   ]
  },
  {
   "cell_type": "code",
   "execution_count": null,
   "metadata": {},
   "outputs": [],
   "source": [
    "print(np.isnan(cosmodc2_df[\"shear_1\"].values).sum() / len(cosmodc2_df))"
   ]
  },
  {
   "cell_type": "code",
   "execution_count": null,
   "metadata": {},
   "outputs": [],
   "source": [
    "cosmodc2_df[\"shear_1\"].describe()"
   ]
  },
  {
   "cell_type": "code",
   "execution_count": null,
   "metadata": {},
   "outputs": [],
   "source": [
    "plt.hist(cosmodc2_df[\"shear_1\"], log=True)\n",
    "plt.show()"
   ]
  },
  {
   "cell_type": "code",
   "execution_count": null,
   "metadata": {},
   "outputs": [],
   "source": [
    "print(np.isnan(cosmodc2_df[\"shear_2\"].values).sum() / len(cosmodc2_df))"
   ]
  },
  {
   "cell_type": "code",
   "execution_count": null,
   "metadata": {},
   "outputs": [],
   "source": [
    "cosmodc2_df[\"shear_2\"].describe()"
   ]
  },
  {
   "cell_type": "code",
   "execution_count": null,
   "metadata": {},
   "outputs": [],
   "source": [
    "plt.hist(cosmodc2_df[\"shear_2\"], log=True)\n",
    "plt.show()"
   ]
  },
  {
   "cell_type": "code",
   "execution_count": null,
   "metadata": {},
   "outputs": [],
   "source": [
    "print(np.isnan(cosmodc2_df[\"ellipticity_1_true\"].values).sum() / len(cosmodc2_df))"
   ]
  },
  {
   "cell_type": "code",
   "execution_count": null,
   "metadata": {},
   "outputs": [],
   "source": [
    "cosmodc2_df[\"ellipticity_1_true\"].describe()"
   ]
  },
  {
   "cell_type": "code",
   "execution_count": null,
   "metadata": {},
   "outputs": [],
   "source": [
    "plt.hist(cosmodc2_df[\"ellipticity_1_true\"], log=True)\n",
    "plt.show()"
   ]
  },
  {
   "cell_type": "code",
   "execution_count": null,
   "metadata": {},
   "outputs": [],
   "source": [
    "print(np.isnan(cosmodc2_df[\"ellipticity_2_true\"].values).sum() / len(cosmodc2_df))"
   ]
  },
  {
   "cell_type": "code",
   "execution_count": null,
   "metadata": {},
   "outputs": [],
   "source": [
    "cosmodc2_df[\"ellipticity_2_true\"].describe()"
   ]
  },
  {
   "cell_type": "code",
   "execution_count": null,
   "metadata": {},
   "outputs": [],
   "source": [
    "plt.hist(cosmodc2_df[\"ellipticity_2_true\"], log=True)\n",
    "plt.show()"
   ]
  },
  {
   "cell_type": "code",
   "execution_count": null,
   "metadata": {},
   "outputs": [],
   "source": [
    "truth_match_pickle_file = output_dir / \"psf_params.pkl\"\n",
    "if truth_match_pickle_file.exists():\n",
    "    with open(truth_match_pickle_file, \"rb\") as inputp: \n",
    "        truth_match_data = pickle.load(inputp)\n",
    "else:\n",
    "    truth_match = GCRCatalogs.load_catalog(\"desc_dc2_run2.2i_dr6_object_with_truth_match\")\n",
    "    print(sorted(truth_match.list_all_quantities()))\n",
    "    truth_match_data = truth_match.get_quantities([\n",
    "        \"objectId\",\n",
    "        \"blendedness\",\n",
    "        \"Ixx_pixel\", \"Iyy_pixel\", \"Ixy_pixel\",\n",
    "        \"IxxPSF_pixel_g\", \"IxxPSF_pixel_z\", \n",
    "        \"IxxPSF_pixel_r\", \"IxxPSF_pixel_i\", \"IxxPSF_pixel_u\", \n",
    "        \"IxxPSF_pixel_y\", \"IyyPSF_pixel_g\", \"IyyPSF_pixel_z\", \n",
    "        \"IyyPSF_pixel_r\", \"IyyPSF_pixel_i\", \"IyyPSF_pixel_u\", \n",
    "        \"IyyPSF_pixel_y\", \"IxyPSF_pixel_g\", \"IxyPSF_pixel_z\", \n",
    "        \"IxyPSF_pixel_r\", \"IxyPSF_pixel_i\", \"IxyPSF_pixel_u\", \n",
    "        \"IxyPSF_pixel_y\", \"psf_fwhm_g\", \"psf_fwhm_z\", \"psf_fwhm_r\",\n",
    "        \"psf_fwhm_i\", \"psf_fwhm_u\", \"psf_fwhm_y\"\n",
    "    ])\n",
    "    # with open(truth_match_pickle_file, \"wb\") as outp:\n",
    "    #     pickle.dump(truth_match_data, outp, pickle.HIGHEST_PROTOCOL)\n",
    "\n",
    "truth_match_df = pd.DataFrame(truth_match_data)"
   ]
  },
  {
   "cell_type": "markdown",
   "metadata": {},
   "source": [
    "### Merge Catalog "
   ]
  },
  {
   "cell_type": "code",
   "execution_count": null,
   "metadata": {},
   "outputs": [],
   "source": [
    "truth_cat_plus_cosmodc2_df = truth_cat_df.merge(\n",
    "    cosmodc2_df, \n",
    "    left_on=\"cosmodc2_id\", \n",
    "    right_on=\"galaxy_id\", \n",
    "    how=\"left\" \n",
    ")\n",
    "cosmodc2_mask = ~(np.isnan(truth_cat_plus_cosmodc2_df[\"ellipticity_1_true\"].values) |\n",
    "                  np.isnan(truth_cat_plus_cosmodc2_df[\"ellipticity_2_true\"].values))\n",
    "truth_cat_plus_cosmodc2_df[\"cosmodc2_mask\"] = cosmodc2_mask\n",
    "full_df = truth_cat_plus_cosmodc2_df.merge(\n",
    "    truth_match_df, \n",
    "    left_on=\"match_objectId\", \n",
    "    right_on=\"objectId\", \n",
    "    how=\"left\" \n",
    ")"
   ]
  },
  {
   "cell_type": "code",
   "execution_count": null,
   "metadata": {},
   "outputs": [],
   "source": [
    "print(len(truth_cat_df))\n",
    "print(len(cosmodc2_df))\n",
    "print(len(truth_match_df))\n",
    "print(len(full_df))"
   ]
  },
  {
   "cell_type": "code",
   "execution_count": null,
   "metadata": {},
   "outputs": [],
   "source": [
    "for k, v in full_df.items():\n",
    "    print(f\"{k} has {np.isnan(v.values).sum()} nans\")"
   ]
  },
  {
   "cell_type": "code",
   "execution_count": null,
   "metadata": {},
   "outputs": [],
   "source": [
    "# filter the object by flux\n",
    "flux_min = 50\n",
    "full_df = full_df.loc[full_df[\"flux_r\"] > flux_min]\n",
    "plt.hist(full_df[\"flux_r\"], log=True)\n",
    "plt.show()"
   ]
  },
  {
   "cell_type": "code",
   "execution_count": null,
   "metadata": {},
   "outputs": [],
   "source": [
    "for k, v in full_df.items():\n",
    "    print(f\"{k} has {np.isnan(v.values).sum()} nans\")"
   ]
  },
  {
   "cell_type": "code",
   "execution_count": null,
   "metadata": {},
   "outputs": [],
   "source": [
    "full_df[\"flux_r\"].describe()"
   ]
  },
  {
   "cell_type": "code",
   "execution_count": null,
   "metadata": {},
   "outputs": [],
   "source": [
    "np.quantile(full_df[\"flux_r\"], q=[0.01, 0.05, 0.25, 0.5, 0.75, 0.95, 0.99])"
   ]
  },
  {
   "cell_type": "code",
   "execution_count": null,
   "metadata": {},
   "outputs": [],
   "source": [
    "full_df[\"blendedness\"].describe()"
   ]
  },
  {
   "cell_type": "code",
   "execution_count": null,
   "metadata": {},
   "outputs": [],
   "source": [
    "# restrict blendedness\n",
    "full_df[\"blendedness\"] = np.clip(full_df[\"blendedness\"].values, a_min=0.0, a_max=1.0)"
   ]
  },
  {
   "cell_type": "code",
   "execution_count": null,
   "metadata": {},
   "outputs": [],
   "source": [
    "full_df[\"blendedness\"].describe()"
   ]
  },
  {
   "cell_type": "code",
   "execution_count": null,
   "metadata": {},
   "outputs": [],
   "source": [
    "plt.hist(full_df[\"blendedness\"], log=True)\n",
    "plt.show()"
   ]
  },
  {
   "cell_type": "code",
   "execution_count": null,
   "metadata": {},
   "outputs": [],
   "source": [
    "blendedness = full_df[\"blendedness\"].values\n",
    "np.quantile(blendedness[~np.isnan(blendedness)], q=[0.01, 0.03, 0.05, 0.25, 0.5, 0.75, 0.9, 0.95, 0.99])"
   ]
  },
  {
   "cell_type": "code",
   "execution_count": null,
   "metadata": {},
   "outputs": [],
   "source": [
    "full_df[\"shear_1\"].describe()"
   ]
  },
  {
   "cell_type": "code",
   "execution_count": null,
   "metadata": {},
   "outputs": [],
   "source": [
    "full_df[\"shear_2\"].describe()"
   ]
  },
  {
   "cell_type": "code",
   "execution_count": null,
   "metadata": {},
   "outputs": [],
   "source": [
    "plt.hist(full_df[\"shear_1\"], log=True)\n",
    "plt.show()"
   ]
  },
  {
   "cell_type": "code",
   "execution_count": null,
   "metadata": {},
   "outputs": [],
   "source": [
    "plt.hist(full_df[\"shear_2\"], log=True)\n",
    "plt.show()"
   ]
  },
  {
   "cell_type": "code",
   "execution_count": null,
   "metadata": {},
   "outputs": [],
   "source": [
    "full_df[\"ellipticity_1_true\"].describe()"
   ]
  },
  {
   "cell_type": "code",
   "execution_count": null,
   "metadata": {},
   "outputs": [],
   "source": [
    "full_df[\"ellipticity_2_true\"].describe()"
   ]
  },
  {
   "cell_type": "code",
   "execution_count": null,
   "metadata": {},
   "outputs": [],
   "source": [
    "plt.hist(full_df[\"ellipticity_1_true\"], log=True)\n",
    "plt.show()"
   ]
  },
  {
   "cell_type": "code",
   "execution_count": null,
   "metadata": {},
   "outputs": [],
   "source": [
    "plt.hist(full_df[\"ellipticity_2_true\"], log=True)\n",
    "plt.show()"
   ]
  },
  {
   "cell_type": "markdown",
   "metadata": {},
   "source": [
    "### Save to File"
   ]
  },
  {
   "cell_type": "code",
   "execution_count": null,
   "metadata": {},
   "outputs": [],
   "source": [
    "# create a pickle file \n",
    "full_df.to_pickle(output_dir / f\"merged_catalog_with_flux_over_{flux_min}.pkl\")"
   ]
  }
 ],
 "metadata": {
  "kernelspec": {
   "display_name": ".venv",
   "language": "python",
   "name": "python3"
  },
  "language_info": {
   "codemirror_mode": {
    "name": "ipython",
    "version": 3
   },
   "file_extension": ".py",
   "mimetype": "text/x-python",
   "name": "python",
   "nbconvert_exporter": "python",
   "pygments_lexer": "ipython3",
   "version": "3.10.12"
  },
  "orig_nbformat": 4
 },
 "nbformat": 4,
 "nbformat_minor": 2
}

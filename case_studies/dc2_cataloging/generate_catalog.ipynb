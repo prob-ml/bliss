{
 "cells": [
  {
   "cell_type": "markdown",
   "metadata": {},
   "source": [
    "This notebook present the steps to generate merged catalog files. The reason that we need to generate such files is that:\n",
    "\n",
    "1. Bliss needs input parameters that contains psf, fluxes, location, source type, galaxy related parameters, but the truth catalog in DC2 does not provide galaxy parameters or psf\n",
    "2. To get those parameter, we need to use CosmoDC2 dataset and truth-match table, where the galaxy parameters and psf are stored.\n",
    "3. To save the time for multiple merging when loading the data, we store the merged dataset into corresponding merged_catalog_{}.pkl files"
   ]
  },
  {
   "cell_type": "markdown",
   "metadata": {},
   "source": [
    "### Load Catalog"
   ]
  },
  {
   "cell_type": "markdown",
   "metadata": {},
   "source": [
    "Use [GCRCatalogs](https://data.lsstdesc.org/doc/install_gcr) package to load the dc2 truth catalog and CosomoDC2.\n",
    "\n",
    "\n"
   ]
  },
  {
   "cell_type": "code",
   "execution_count": 1,
   "metadata": {},
   "outputs": [],
   "source": [
    "import pickle\n",
    "import GCRCatalogs\n",
    "import matplotlib.pyplot as plt\n",
    "import numpy as np\n",
    "import healpy as hp\n",
    "from pathlib import Path\n",
    "import pandas as pd\n",
    "\n",
    "from GCRCatalogs import GCRQuery"
   ]
  },
  {
   "cell_type": "code",
   "execution_count": 2,
   "metadata": {},
   "outputs": [],
   "source": [
    "output_dir = Path(\"./generate_new_catalog_output/\")\n",
    "output_dir.mkdir(parents=True, exist_ok=True)"
   ]
  },
  {
   "cell_type": "code",
   "execution_count": 3,
   "metadata": {},
   "outputs": [],
   "source": [
    "ori_cat = pd.read_pickle(\"/data/scratch/dc2local/old_dc2_catalog/ori_merged_catalog_with_flux_over_50.pkl\")"
   ]
  },
  {
   "cell_type": "code",
   "execution_count": 4,
   "metadata": {},
   "outputs": [],
   "source": [
    "ori_max_ra = ori_cat[\"ra\"].max()\n",
    "ori_min_ra = ori_cat[\"ra\"].min()\n",
    "ori_max_dec = ori_cat[\"dec\"].max()\n",
    "ori_min_dec = ori_cat[\"dec\"].min()\n",
    "ra_dec_filters = [f\"ra >= {ori_min_ra - 0.1}\", f\"ra <= {ori_max_ra + 0.1}\", \n",
    "                  f\"dec >= {ori_min_dec - 0.1}\", f\"dec <= {ori_max_dec + 0.1}\"]"
   ]
  },
  {
   "cell_type": "code",
   "execution_count": 5,
   "metadata": {},
   "outputs": [],
   "source": [
    "GCRCatalogs.set_root_dir(\"/data/scratch/dc2_nfs/\")"
   ]
  },
  {
   "cell_type": "code",
   "execution_count": 6,
   "metadata": {},
   "outputs": [
    {
     "name": "stdout",
     "output_type": "stream",
     "text": [
      "['av', 'cosmodc2_hp', 'cosmodc2_id', 'dec', 'flux_g', 'flux_i', 'flux_r', 'flux_u', 'flux_y', 'flux_z', 'host_galaxy', 'id', 'id_string', 'is_good_match', 'is_nearest_neighbor', 'is_unique_truth_entry', 'mag_g', 'mag_i', 'mag_r', 'mag_u', 'mag_y', 'mag_z', 'match_objectId', 'match_sep', 'patch', 'ra', 'redshift', 'rv', 'tract', 'truth_type']\n"
     ]
    }
   ],
   "source": [
    "truth_catalog_pickle_file = output_dir / \"truth_catalog.pkl\"\n",
    "if truth_catalog_pickle_file.exists():\n",
    "    with open(truth_catalog_pickle_file, \"rb\") as inputp: \n",
    "        truth_cat_data = pickle.load(inputp)\n",
    "else:   \n",
    "    truth_cat = GCRCatalogs.load_catalog(\"desc_dc2_run2.2i_dr6_truth\") \n",
    "    print(sorted(truth_cat.list_all_quantities()))\n",
    "    truth_cat_data = truth_cat.get_quantities([\n",
    "        \"id\", \"match_objectId\", \"cosmodc2_id\", \n",
    "        \"ra\", \"dec\", \n",
    "        \"truth_type\", \n",
    "        \"flux_g\", \"flux_i\", \"flux_r\", \"flux_u\", \"flux_y\", \"flux_z\",\n",
    "        \"redshift\",\n",
    "    ],\n",
    "    filters=ra_dec_filters)\n",
    "    # with open(truth_catalog_pickle_file, \"wb\") as outp:\n",
    "    #     pickle.dump(truth_cat_data, outp, pickle.HIGHEST_PROTOCOL)\n",
    "\n",
    "truth_cat_df = pd.DataFrame(truth_cat_data)\n",
    "truth_cat_df.rename(columns={\"redshift\": \"redshifts\"}, inplace=True)"
   ]
  },
  {
   "cell_type": "code",
   "execution_count": 7,
   "metadata": {},
   "outputs": [
    {
     "name": "stdout",
     "output_type": "stream",
     "text": [
      "60489715\n"
     ]
    }
   ],
   "source": [
    "print(len(truth_cat_df))"
   ]
  },
  {
   "cell_type": "code",
   "execution_count": 8,
   "metadata": {},
   "outputs": [
    {
     "name": "stdout",
     "output_type": "stream",
     "text": [
      "0.8513013658602955\n"
     ]
    }
   ],
   "source": [
    "print(1 - (truth_cat_df[\"flux_r\"] > 100).values.sum() / len(truth_cat_df))"
   ]
  },
  {
   "cell_type": "code",
   "execution_count": 9,
   "metadata": {},
   "outputs": [
    {
     "name": "stdout",
     "output_type": "stream",
     "text": [
      "53.80862966850614 61.31827339504263\n",
      "-38.77768590235156 -34.11487648533201\n"
     ]
    }
   ],
   "source": [
    "print(truth_cat_df[\"ra\"].min(), truth_cat_df[\"ra\"].max())\n",
    "print(truth_cat_df[\"dec\"].min(), truth_cat_df[\"dec\"].max())"
   ]
  },
  {
   "cell_type": "code",
   "execution_count": 10,
   "metadata": {},
   "outputs": [
    {
     "data": {
      "image/png": "[encoded data removed]",
      "text/plain": [
       "<Figure size 640x480 with 1 Axes>"
      ]
     },
     "metadata": {},
     "output_type": "display_data"
    }
   ],
   "source": [
    "plt.hist(truth_cat_data[\"flux_r\"], np.linspace(50, 10000, num=100))\n",
    "plt.show()"
   ]
  },
  {
   "cell_type": "code",
   "execution_count": 11,
   "metadata": {},
   "outputs": [],
   "source": [
    "vertices = hp.ang2vec(np.array([ori_min_ra, ori_max_ra, ori_max_ra, ori_min_ra]),\n",
    "                      np.array([ori_min_dec, ori_min_dec, ori_max_dec, ori_max_dec]), lonlat=True)\n",
    "ipix = hp.query_polygon(32, vertices, inclusive=True)\n",
    "healpix_filter = GCRQuery((lambda h: np.isin(h, ipix, True), \"healpix_pixel\"))"
   ]
  },
  {
   "cell_type": "code",
   "execution_count": 12,
   "metadata": {},
   "outputs": [
    {
     "name": "stdout",
     "output_type": "stream",
     "text": [
      "['A_v', 'A_v_bulge', 'A_v_disk', 'Mag_true_Y_lsst_z0', 'Mag_true_Y_lsst_z0_no_host_extinction', 'Mag_true_g_lsst_z0', 'Mag_true_g_lsst_z0_no_host_extinction', 'Mag_true_g_sdss_z0', 'Mag_true_g_sdss_z0_no_host_extinction', 'Mag_true_i_lsst_z0', 'Mag_true_i_lsst_z0_no_host_extinction', 'Mag_true_i_sdss_z0', 'Mag_true_i_sdss_z0_no_host_extinction', 'Mag_true_r_lsst_z0', 'Mag_true_r_lsst_z0_no_host_extinction', 'Mag_true_r_sdss_z0', 'Mag_true_r_sdss_z0_no_host_extinction', 'Mag_true_u_lsst_z0', 'Mag_true_u_lsst_z0_no_host_extinction', 'Mag_true_u_sdss_z0', 'Mag_true_u_sdss_z0_no_host_extinction', 'Mag_true_y_lsst_z0', 'Mag_true_y_lsst_z0_no_host_extinction', 'Mag_true_z_lsst_z0', 'Mag_true_z_lsst_z0_no_host_extinction', 'Mag_true_z_sdss_z0', 'Mag_true_z_sdss_z0_no_host_extinction', 'R_v', 'R_v_bulge', 'R_v_disk', 'bulge_to_total_ratio_i', 'convergence', 'dec', 'dec_true', 'ellipticity_1_bulge_true', 'ellipticity_1_bulge_true_dc2', 'ellipticity_1_disk_true', 'ellipticity_1_disk_true_dc2', 'ellipticity_1_true', 'ellipticity_1_true_dc2', 'ellipticity_2_bulge_true', 'ellipticity_2_bulge_true_dc2', 'ellipticity_2_disk_true', 'ellipticity_2_disk_true_dc2', 'ellipticity_2_true', 'ellipticity_2_true_dc2', 'ellipticity_bulge_true', 'ellipticity_disk_true', 'ellipticity_true', 'galaxy_id', 'halo_id', 'halo_mass', 'is_central', 'mag_Y_lsst', 'mag_Y_lsst_no_host_extinction', 'mag_g', 'mag_g_lsst', 'mag_g_lsst_no_host_extinction', 'mag_g_sdss', 'mag_g_sdss_no_host_extinction', 'mag_i', 'mag_i_lsst', 'mag_i_lsst_no_host_extinction', 'mag_i_sdss', 'mag_i_sdss_no_host_extinction', 'mag_r', 'mag_r_lsst', 'mag_r_lsst_no_host_extinction', 'mag_r_sdss', 'mag_r_sdss_no_host_extinction', 'mag_true_Y_lsst', 'mag_true_Y_lsst_no_host_extinction', 'mag_true_g', 'mag_true_g_lsst', 'mag_true_g_lsst_no_host_extinction', 'mag_true_g_sdss', 'mag_true_g_sdss_no_host_extinction', 'mag_true_i', 'mag_true_i_lsst', 'mag_true_i_lsst_no_host_extinction', 'mag_true_i_sdss', 'mag_true_i_sdss_no_host_extinction', 'mag_true_r', 'mag_true_r_lsst', 'mag_true_r_lsst_no_host_extinction', 'mag_true_r_sdss', 'mag_true_r_sdss_no_host_extinction', 'mag_true_u', 'mag_true_u_lsst', 'mag_true_u_lsst_no_host_extinction', 'mag_true_u_sdss', 'mag_true_u_sdss_no_host_extinction', 'mag_true_y', 'mag_true_y_lsst', 'mag_true_y_lsst_no_host_extinction', 'mag_true_z', 'mag_true_z_lsst', 'mag_true_z_lsst_no_host_extinction', 'mag_true_z_sdss', 'mag_true_z_sdss_no_host_extinction', 'mag_u', 'mag_u_lsst', 'mag_u_lsst_no_host_extinction', 'mag_u_sdss', 'mag_u_sdss_no_host_extinction', 'mag_y', 'mag_y_lsst', 'mag_y_lsst_no_host_extinction', 'mag_z', 'mag_z_lsst', 'mag_z_lsst_no_host_extinction', 'mag_z_sdss', 'mag_z_sdss_no_host_extinction', 'magnification', 'position_angle_true', 'position_angle_true_dc2', 'position_angle_true_phosim', 'position_x', 'position_y', 'position_z', 'ra', 'ra_true', 'redshift', 'redshift_true', 'sed_1000_246', 'sed_1000_246_bulge', 'sed_1000_246_bulge_no_host_extinction', 'sed_1000_246_disk', 'sed_1000_246_disk_no_host_extinction', 'sed_1000_246_no_host_extinction', 'sed_11467_1710', 'sed_11467_1710_bulge', 'sed_11467_1710_bulge_no_host_extinction', 'sed_11467_1710_disk', 'sed_11467_1710_disk_no_host_extinction', 'sed_11467_1710_no_host_extinction', 'sed_1246_306', 'sed_1246_306_bulge', 'sed_1246_306_bulge_no_host_extinction', 'sed_1246_306_disk', 'sed_1246_306_disk_no_host_extinction', 'sed_1246_306_no_host_extinction', 'sed_13177_1966', 'sed_13177_1966_bulge', 'sed_13177_1966_bulge_no_host_extinction', 'sed_13177_1966_disk', 'sed_13177_1966_disk_no_host_extinction', 'sed_13177_1966_no_host_extinction', 'sed_15143_2259', 'sed_15143_2259_bulge', 'sed_15143_2259_bulge_no_host_extinction', 'sed_15143_2259_disk', 'sed_15143_2259_disk_no_host_extinction', 'sed_15143_2259_no_host_extinction', 'sed_1552_381', 'sed_1552_381_bulge', 'sed_1552_381_bulge_no_host_extinction', 'sed_1552_381_disk', 'sed_1552_381_disk_no_host_extinction', 'sed_1552_381_no_host_extinction', 'sed_17402_2596', 'sed_17402_2596_bulge', 'sed_17402_2596_bulge_no_host_extinction', 'sed_17402_2596_disk', 'sed_17402_2596_disk_no_host_extinction', 'sed_17402_2596_no_host_extinction', 'sed_1933_474', 'sed_1933_474_bulge', 'sed_1933_474_bulge_no_host_extinction', 'sed_1933_474_disk', 'sed_1933_474_disk_no_host_extinction', 'sed_1933_474_no_host_extinction', 'sed_2407_591', 'sed_2407_591_bulge', 'sed_2407_591_bulge_no_host_extinction', 'sed_2407_591_disk', 'sed_2407_591_disk_no_host_extinction', 'sed_2407_591_no_host_extinction', 'sed_2998_186', 'sed_2998_186_bulge', 'sed_2998_186_bulge_no_host_extinction', 'sed_2998_186_disk', 'sed_2998_186_disk_no_host_extinction', 'sed_2998_186_no_host_extinction', 'sed_3184_197', 'sed_3184_197_bulge', 'sed_3184_197_bulge_no_host_extinction', 'sed_3184_197_disk', 'sed_3184_197_disk_no_host_extinction', 'sed_3184_197_no_host_extinction', 'sed_3381_209', 'sed_3381_209_bulge', 'sed_3381_209_bulge_no_host_extinction', 'sed_3381_209_disk', 'sed_3381_209_disk_no_host_extinction', 'sed_3381_209_no_host_extinction', 'sed_3590_222', 'sed_3590_222_bulge', 'sed_3590_222_bulge_no_host_extinction', 'sed_3590_222_disk', 'sed_3590_222_disk_no_host_extinction', 'sed_3590_222_no_host_extinction', 'sed_3812_236', 'sed_3812_236_bulge', 'sed_3812_236_bulge_no_host_extinction', 'sed_3812_236_disk', 'sed_3812_236_disk_no_host_extinction', 'sed_3812_236_no_host_extinction', 'sed_4048_251', 'sed_4048_251_bulge', 'sed_4048_251_bulge_no_host_extinction', 'sed_4048_251_disk', 'sed_4048_251_disk_no_host_extinction', 'sed_4048_251_no_host_extinction', 'sed_4299_266', 'sed_4299_266_bulge', 'sed_4299_266_bulge_no_host_extinction', 'sed_4299_266_disk', 'sed_4299_266_disk_no_host_extinction', 'sed_4299_266_no_host_extinction', 'sed_4565_283', 'sed_4565_283_bulge', 'sed_4565_283_bulge_no_host_extinction', 'sed_4565_283_disk', 'sed_4565_283_disk_no_host_extinction', 'sed_4565_283_no_host_extinction', 'sed_4848_300', 'sed_4848_300_bulge', 'sed_4848_300_bulge_no_host_extinction', 'sed_4848_300_disk', 'sed_4848_300_disk_no_host_extinction', 'sed_4848_300_no_host_extinction', 'sed_5148_319', 'sed_5148_319_bulge', 'sed_5148_319_bulge_no_host_extinction', 'sed_5148_319_disk', 'sed_5148_319_disk_no_host_extinction', 'sed_5148_319_no_host_extinction', 'sed_5467_339', 'sed_5467_339_bulge', 'sed_5467_339_bulge_no_host_extinction', 'sed_5467_339_disk', 'sed_5467_339_disk_no_host_extinction', 'sed_5467_339_no_host_extinction', 'sed_5806_360', 'sed_5806_360_bulge', 'sed_5806_360_bulge_no_host_extinction', 'sed_5806_360_disk', 'sed_5806_360_disk_no_host_extinction', 'sed_5806_360_no_host_extinction', 'sed_6166_382', 'sed_6166_382_bulge', 'sed_6166_382_bulge_no_host_extinction', 'sed_6166_382_disk', 'sed_6166_382_disk_no_host_extinction', 'sed_6166_382_no_host_extinction', 'sed_6548_406', 'sed_6548_406_bulge', 'sed_6548_406_bulge_no_host_extinction', 'sed_6548_406_disk', 'sed_6548_406_disk_no_host_extinction', 'sed_6548_406_no_host_extinction', 'sed_6954_431', 'sed_6954_431_bulge', 'sed_6954_431_bulge_no_host_extinction', 'sed_6954_431_disk', 'sed_6954_431_disk_no_host_extinction', 'sed_6954_431_no_host_extinction', 'sed_7385_458', 'sed_7385_458_bulge', 'sed_7385_458_bulge_no_host_extinction', 'sed_7385_458_disk', 'sed_7385_458_disk_no_host_extinction', 'sed_7385_458_no_host_extinction', 'sed_7843_486', 'sed_7843_486_bulge', 'sed_7843_486_bulge_no_host_extinction', 'sed_7843_486_disk', 'sed_7843_486_disk_no_host_extinction', 'sed_7843_486_no_host_extinction', 'sed_8329_517', 'sed_8329_517_bulge', 'sed_8329_517_bulge_no_host_extinction', 'sed_8329_517_disk', 'sed_8329_517_disk_no_host_extinction', 'sed_8329_517_no_host_extinction', 'sed_8846_549', 'sed_8846_549_bulge', 'sed_8846_549_bulge_no_host_extinction', 'sed_8846_549_disk', 'sed_8846_549_disk_no_host_extinction', 'sed_8846_549_no_host_extinction', 'sed_9395_583', 'sed_9395_583_bulge', 'sed_9395_583_bulge_no_host_extinction', 'sed_9395_583_disk', 'sed_9395_583_disk_no_host_extinction', 'sed_9395_583_no_host_extinction', 'sed_9978_1489', 'sed_9978_1489_bulge', 'sed_9978_1489_bulge_no_host_extinction', 'sed_9978_1489_disk', 'sed_9978_1489_disk_no_host_extinction', 'sed_9978_1489_no_host_extinction', 'sersic_bulge', 'sersic_disk', 'shear_1', 'shear_2', 'shear_2_phosim', 'shear_2_treecorr', 'size_bulge_true', 'size_disk_true', 'size_minor_bulge_true', 'size_minor_disk_true', 'size_minor_true', 'size_true', 'stellar_mass', 'stellar_mass_bulge', 'stellar_mass_disk', 'velocity_x', 'velocity_y', 'velocity_z']\n"
     ]
    }
   ],
   "source": [
    "cosmodc2_pickle_file = output_dir / \"cosmodc2.pkl\"\n",
    "if cosmodc2_pickle_file.exists():\n",
    "    with open(cosmodc2_pickle_file, \"rb\") as inputp: \n",
    "        cosmodc2_data = pickle.load(inputp)\n",
    "else:\n",
    "    config_overwrite = dict(\n",
    "        catalog_root_dir=\"/data/scratch/dc2_nfs/cosmoDC2_v1.1.4/\"\n",
    "    )\n",
    "    cosmodc2_table = GCRCatalogs.load_catalog(\"desc_cosmodc2\", config_overwrite)\n",
    "    print(sorted(cosmodc2_table.list_all_quantities()))\n",
    "    cosmodc2_data = cosmodc2_table.get_quantities([\n",
    "        \"galaxy_id\",\n",
    "        \"shear_1\", \"shear_2\",\n",
    "        \"ellipticity_1_true_dc2\", \"ellipticity_2_true_dc2\",\n",
    "        \"size_true\", \"size_minor_true\", \"position_angle_true_dc2\",\n",
    "    ],\n",
    "    native_filters=healpix_filter)\n",
    "    # with open(cosmodc2_pickle_file, \"wb\") as outp:\n",
    "    #     pickle.dump(cosmodc2_data, outp, pickle.HIGHEST_PROTOCOL)\n",
    "\n",
    "cosmodc2_df = pd.DataFrame(cosmodc2_data).rename(columns={\n",
    "    \"ellipticity_1_true_dc2\": \"ellipticity_1_true\",\n",
    "    \"ellipticity_2_true_dc2\": \"ellipticity_2_true\",\n",
    "})"
   ]
  },
  {
   "cell_type": "code",
   "execution_count": 13,
   "metadata": {},
   "outputs": [
    {
     "name": "stdout",
     "output_type": "stream",
     "text": [
      "327021149\n"
     ]
    }
   ],
   "source": [
    "print(len(cosmodc2_df))"
   ]
  },
  {
   "cell_type": "code",
   "execution_count": 14,
   "metadata": {},
   "outputs": [
    {
     "name": "stdout",
     "output_type": "stream",
     "text": [
      "0.0\n"
     ]
    }
   ],
   "source": [
    "print(np.isnan(cosmodc2_df[\"shear_1\"].values).sum() / len(cosmodc2_df))"
   ]
  },
  {
   "cell_type": "code",
   "execution_count": 15,
   "metadata": {},
   "outputs": [
    {
     "data": {
      "text/plain": [
       "count    3.270211e+08\n",
       "mean    -2.898190e-03\n",
       "std      1.803715e-02\n",
       "min     -1.842399e-01\n",
       "25%     -1.308544e-02\n",
       "50%     -2.366003e-03\n",
       "75%      7.341075e-03\n",
       "max      1.913079e-01\n",
       "Name: shear_1, dtype: float64"
      ]
     },
     "execution_count": 15,
     "metadata": {},
     "output_type": "execute_result"
    }
   ],
   "source": [
    "cosmodc2_df[\"shear_1\"].describe()"
   ]
  },
  {
   "cell_type": "code",
   "execution_count": 16,
   "metadata": {},
   "outputs": [
    {
     "data": {
      "image/png": "[encoded data removed]",
      "text/plain": [
       "<Figure size 640x480 with 1 Axes>"
      ]
     },
     "metadata": {},
     "output_type": "display_data"
    }
   ],
   "source": [
    "plt.hist(cosmodc2_df[\"shear_1\"], log=True)\n",
    "plt.show()"
   ]
  },
  {
   "cell_type": "code",
   "execution_count": 17,
   "metadata": {},
   "outputs": [
    {
     "name": "stdout",
     "output_type": "stream",
     "text": [
      "0.0\n"
     ]
    }
   ],
   "source": [
    "print(np.isnan(cosmodc2_df[\"shear_2\"].values).sum() / len(cosmodc2_df))"
   ]
  },
  {
   "cell_type": "code",
   "execution_count": 18,
   "metadata": {},
   "outputs": [
    {
     "data": {
      "text/plain": [
       "count    3.270211e+08\n",
       "mean     9.801464e-04\n",
       "std      1.768306e-02\n",
       "min     -1.952726e-01\n",
       "25%     -8.940905e-03\n",
       "50%      8.083878e-04\n",
       "75%      1.087075e-02\n",
       "max      1.886922e-01\n",
       "Name: shear_2, dtype: float64"
      ]
     },
     "execution_count": 18,
     "metadata": {},
     "output_type": "execute_result"
    }
   ],
   "source": [
    "cosmodc2_df[\"shear_2\"].describe()"
   ]
  },
  {
   "cell_type": "code",
   "execution_count": 19,
   "metadata": {},
   "outputs": [
    {
     "data": {
      "image/png": "[encoded data removed]",
      "text/plain": [
       "<Figure size 640x480 with 1 Axes>"
      ]
     },
     "metadata": {},
     "output_type": "display_data"
    }
   ],
   "source": [
    "plt.hist(cosmodc2_df[\"shear_2\"], log=True)\n",
    "plt.show()"
   ]
  },
  {
   "cell_type": "code",
   "execution_count": 20,
   "metadata": {},
   "outputs": [
    {
     "name": "stdout",
     "output_type": "stream",
     "text": [
      "0.0\n"
     ]
    }
   ],
   "source": [
    "print(np.isnan(cosmodc2_df[\"ellipticity_1_true\"].values).sum() / len(cosmodc2_df))"
   ]
  },
  {
   "cell_type": "code",
   "execution_count": 21,
   "metadata": {},
   "outputs": [
    {
     "data": {
      "text/plain": [
       "count    3.270211e+08\n",
       "mean     2.209228e-05\n",
       "std      1.571114e-01\n",
       "min     -9.466370e-01\n",
       "25%     -3.809191e-02\n",
       "50%      4.056555e-06\n",
       "75%      3.816555e-02\n",
       "max      9.469931e-01\n",
       "Name: ellipticity_1_true, dtype: float64"
      ]
     },
     "execution_count": 21,
     "metadata": {},
     "output_type": "execute_result"
    }
   ],
   "source": [
    "cosmodc2_df[\"ellipticity_1_true\"].describe()"
   ]
  },
  {
   "cell_type": "code",
   "execution_count": 22,
   "metadata": {},
   "outputs": [
    {
     "data": {
      "image/png": "[encoded data removed]",
      "text/plain": [
       "<Figure size 640x480 with 1 Axes>"
      ]
     },
     "metadata": {},
     "output_type": "display_data"
    }
   ],
   "source": [
    "plt.hist(cosmodc2_df[\"ellipticity_1_true\"], log=True)\n",
    "plt.show()"
   ]
  },
  {
   "cell_type": "code",
   "execution_count": 23,
   "metadata": {},
   "outputs": [
    {
     "name": "stdout",
     "output_type": "stream",
     "text": [
      "0.0\n"
     ]
    }
   ],
   "source": [
    "print(np.isnan(cosmodc2_df[\"ellipticity_2_true\"].values).sum() / len(cosmodc2_df))"
   ]
  },
  {
   "cell_type": "code",
   "execution_count": 24,
   "metadata": {},
   "outputs": [
    {
     "data": {
      "text/plain": [
       "count    3.270211e+08\n",
       "mean     2.309469e-05\n",
       "std      1.570970e-01\n",
       "min     -9.421196e-01\n",
       "25%     -3.811230e-02\n",
       "50%     -2.388900e-07\n",
       "75%      3.814654e-02\n",
       "max      9.429858e-01\n",
       "Name: ellipticity_2_true, dtype: float64"
      ]
     },
     "execution_count": 24,
     "metadata": {},
     "output_type": "execute_result"
    }
   ],
   "source": [
    "cosmodc2_df[\"ellipticity_2_true\"].describe()"
   ]
  },
  {
   "cell_type": "code",
   "execution_count": 25,
   "metadata": {},
   "outputs": [
    {
     "data": {
      "image/png": "[encoded data removed]",
      "text/plain": [
       "<Figure size 640x480 with 1 Axes>"
      ]
     },
     "metadata": {},
     "output_type": "display_data"
    }
   ],
   "source": [
    "plt.hist(cosmodc2_df[\"ellipticity_2_true\"], log=True)\n",
    "plt.show()"
   ]
  },
  {
   "cell_type": "code",
   "execution_count": 26,
   "metadata": {},
   "outputs": [
    {
     "name": "stdout",
     "output_type": "stream",
     "text": [
      "0.0\n"
     ]
    }
   ],
   "source": [
    "print(np.isnan(cosmodc2_df[\"size_true\"].values).sum() / len(cosmodc2_df))"
   ]
  },
  {
   "cell_type": "code",
   "execution_count": 27,
   "metadata": {},
   "outputs": [
    {
     "name": "stdout",
     "output_type": "stream",
     "text": [
      "['I_flag', 'I_flag_g', 'I_flag_i', 'I_flag_r', 'I_flag_u', 'I_flag_y', 'I_flag_z', 'IxxPSF_pixel', 'IxxPSF_pixel_g', 'IxxPSF_pixel_i', 'IxxPSF_pixel_r', 'IxxPSF_pixel_u', 'IxxPSF_pixel_y', 'IxxPSF_pixel_z', 'Ixx_pixel', 'Ixx_pixel_g', 'Ixx_pixel_i', 'Ixx_pixel_r', 'Ixx_pixel_u', 'Ixx_pixel_y', 'Ixx_pixel_z', 'IxyPSF_pixel', 'IxyPSF_pixel_g', 'IxyPSF_pixel_i', 'IxyPSF_pixel_r', 'IxyPSF_pixel_u', 'IxyPSF_pixel_y', 'IxyPSF_pixel_z', 'Ixy_pixel', 'Ixy_pixel_g', 'Ixy_pixel_i', 'Ixy_pixel_r', 'Ixy_pixel_u', 'Ixy_pixel_y', 'Ixy_pixel_z', 'IyyPSF_pixel', 'IyyPSF_pixel_g', 'IyyPSF_pixel_i', 'IyyPSF_pixel_r', 'IyyPSF_pixel_u', 'IyyPSF_pixel_y', 'IyyPSF_pixel_z', 'Iyy_pixel', 'Iyy_pixel_g', 'Iyy_pixel_i', 'Iyy_pixel_r', 'Iyy_pixel_u', 'Iyy_pixel_y', 'Iyy_pixel_z', 'av_truth', 'blendedness', 'cModelFluxErr_g', 'cModelFluxErr_i', 'cModelFluxErr_r', 'cModelFluxErr_u', 'cModelFluxErr_y', 'cModelFluxErr_z', 'cModelFlux_flag_g', 'cModelFlux_flag_i', 'cModelFlux_flag_r', 'cModelFlux_flag_u', 'cModelFlux_flag_y', 'cModelFlux_flag_z', 'cModelFlux_g', 'cModelFlux_i', 'cModelFlux_r', 'cModelFlux_u', 'cModelFlux_y', 'cModelFlux_z', 'clean', 'cosmodc2_hp_truth', 'cosmodc2_id_truth', 'dec', 'dec_truth', 'extendedness', 'flux_g_truth', 'flux_i_truth', 'flux_r_truth', 'flux_u_truth', 'flux_y_truth', 'flux_z_truth', 'good', 'host_galaxy_truth', 'id_string_truth', 'id_truth', 'is_good_match', 'is_nearest_neighbor', 'is_unique_truth_entry', 'mag_g', 'mag_g_cModel', 'mag_g_truth', 'mag_i', 'mag_i_cModel', 'mag_i_truth', 'mag_r', 'mag_r_cModel', 'mag_r_truth', 'mag_u', 'mag_u_cModel', 'mag_u_truth', 'mag_y', 'mag_y_cModel', 'mag_y_truth', 'mag_z', 'mag_z_cModel', 'mag_z_truth', 'magerr_g', 'magerr_g_cModel', 'magerr_i', 'magerr_i_cModel', 'magerr_r', 'magerr_r_cModel', 'magerr_u', 'magerr_u_cModel', 'magerr_y', 'magerr_y_cModel', 'magerr_z', 'magerr_z_cModel', 'match_objectId', 'match_sep', 'objectId', 'parentObjectId', 'patch', 'patch_truth', 'psFluxErr_g', 'psFluxErr_i', 'psFluxErr_r', 'psFluxErr_u', 'psFluxErr_y', 'psFluxErr_z', 'psFlux_flag_g', 'psFlux_flag_i', 'psFlux_flag_r', 'psFlux_flag_u', 'psFlux_flag_y', 'psFlux_flag_z', 'psFlux_g', 'psFlux_i', 'psFlux_r', 'psFlux_u', 'psFlux_y', 'psFlux_z', 'psNdata', 'psf_fwhm_g', 'psf_fwhm_i', 'psf_fwhm_r', 'psf_fwhm_u', 'psf_fwhm_y', 'psf_fwhm_z', 'ra', 'ra_truth', 'redshift_truth', 'rv_truth', 'snr_g_cModel', 'snr_i_cModel', 'snr_r_cModel', 'snr_u_cModel', 'snr_y_cModel', 'snr_z_cModel', 'tract', 'tract_truth', 'truth_type', 'x', 'xErr', 'xy_flag', 'y', 'yErr']\n"
     ]
    }
   ],
   "source": [
    "truth_match_pickle_file = output_dir / \"psf_params.pkl\"\n",
    "if truth_match_pickle_file.exists():\n",
    "    with open(truth_match_pickle_file, \"rb\") as inputp: \n",
    "        truth_match_data = pickle.load(inputp)\n",
    "else:\n",
    "    truth_match = GCRCatalogs.load_catalog(\"desc_dc2_run2.2i_dr6_object_with_truth_match\")\n",
    "    print(sorted(truth_match.list_all_quantities()))\n",
    "    truth_match_data = truth_match.get_quantities([\n",
    "        \"objectId\",\n",
    "        \"blendedness\",\n",
    "        \"is_good_match\", \"is_nearest_neighbor\", \"is_unique_truth_entry\",\n",
    "        \"Ixx_pixel\", \"Iyy_pixel\", \"Ixy_pixel\",\n",
    "        \"IxxPSF_pixel_g\", \"IxxPSF_pixel_z\", \n",
    "        \"IxxPSF_pixel_r\", \"IxxPSF_pixel_i\", \"IxxPSF_pixel_u\", \n",
    "        \"IxxPSF_pixel_y\", \"IyyPSF_pixel_g\", \"IyyPSF_pixel_z\", \n",
    "        \"IyyPSF_pixel_r\", \"IyyPSF_pixel_i\", \"IyyPSF_pixel_u\", \n",
    "        \"IyyPSF_pixel_y\", \"IxyPSF_pixel_g\", \"IxyPSF_pixel_z\", \n",
    "        \"IxyPSF_pixel_r\", \"IxyPSF_pixel_i\", \"IxyPSF_pixel_u\", \n",
    "        \"IxyPSF_pixel_y\", \"psf_fwhm_g\", \"psf_fwhm_z\", \"psf_fwhm_r\",\n",
    "        \"psf_fwhm_i\", \"psf_fwhm_u\", \"psf_fwhm_y\"\n",
    "    ])\n",
    "    # with open(truth_match_pickle_file, \"wb\") as outp:\n",
    "    #     pickle.dump(truth_match_data, outp, pickle.HIGHEST_PROTOCOL)\n",
    "\n",
    "truth_match_df = pd.DataFrame(truth_match_data)"
   ]
  },
  {
   "cell_type": "code",
   "execution_count": 28,
   "metadata": {},
   "outputs": [
    {
     "data": {
      "text/plain": [
       "147088478"
      ]
     },
     "execution_count": 28,
     "metadata": {},
     "output_type": "execute_result"
    }
   ],
   "source": [
    "len(truth_match_df)"
   ]
  },
  {
   "cell_type": "code",
   "execution_count": 45,
   "metadata": {},
   "outputs": [
    {
     "data": {
      "text/plain": [
       "0.9931555141933007"
      ]
     },
     "execution_count": 45,
     "metadata": {},
     "output_type": "execute_result"
    }
   ],
   "source": [
    "truth_match_df[\"is_unique_truth_entry\"].sum() / len(truth_match_df)"
   ]
  },
  {
   "cell_type": "code",
   "execution_count": 46,
   "metadata": {},
   "outputs": [
    {
     "data": {
      "text/plain": [
       "0.9216965723175136"
      ]
     },
     "execution_count": 46,
     "metadata": {},
     "output_type": "execute_result"
    }
   ],
   "source": [
    "truth_match_df[\"is_good_match\"].sum() / len(truth_match_df)"
   ]
  },
  {
   "cell_type": "code",
   "execution_count": 47,
   "metadata": {},
   "outputs": [
    {
     "data": {
      "text/plain": [
       "0.9488783207070781"
      ]
     },
     "execution_count": 47,
     "metadata": {},
     "output_type": "execute_result"
    }
   ],
   "source": [
    "truth_match_df[\"is_nearest_neighbor\"].sum() / len(truth_match_df)"
   ]
  },
  {
   "cell_type": "code",
   "execution_count": 50,
   "metadata": {},
   "outputs": [
    {
     "data": {
      "text/plain": [
       "True"
      ]
     },
     "execution_count": 50,
     "metadata": {},
     "output_type": "execute_result"
    }
   ],
   "source": [
    "(truth_match_df[\"is_nearest_neighbor\"].values.astype(bool) | truth_match_df[\"is_good_match\"].values.astype(bool)).all()"
   ]
  },
  {
   "cell_type": "code",
   "execution_count": null,
   "metadata": {},
   "outputs": [],
   "source": [
    "not_unique_mask = ~(truth_match_df[\"is_unique_truth_entry\"].values.astype(bool))"
   ]
  },
  {
   "cell_type": "code",
   "execution_count": 58,
   "metadata": {},
   "outputs": [
    {
     "data": {
      "text/plain": [
       "True"
      ]
     },
     "execution_count": 58,
     "metadata": {},
     "output_type": "execute_result"
    }
   ],
   "source": [
    "np.unique(truth_match_df[\"objectId\"].values[not_unique_mask]).size == not_unique_mask.sum()"
   ]
  },
  {
   "cell_type": "code",
   "execution_count": 29,
   "metadata": {},
   "outputs": [],
   "source": [
    "sub_truth_match_df = truth_match_df.sample(int(1e5))"
   ]
  },
  {
   "cell_type": "code",
   "execution_count": 30,
   "metadata": {},
   "outputs": [
    {
     "data": {
      "text/plain": [
       "138573608    22276122758624007\n",
       "54655256     15987315679729569\n",
       "121111179    20416019667366170\n",
       "78377515     17698443535348361\n",
       "57467537     15996532679537010\n",
       "39534288     15143028188518302\n",
       "8009102      12772485413999169\n",
       "29526180     14337919389040304\n",
       "56741556     15995974333770906\n",
       "27005163     14328839828149186\n",
       "67066031     16836284685236989\n",
       "88179127     17738159097944593\n",
       "3503034      12754614055117237\n",
       "52339582     15978399327616290\n",
       "26276896     14324725249507986\n",
       "131917806    21344557237055371\n",
       "62507813     16018248034196687\n",
       "4072084      12755043551835203\n",
       "112994005    19522945642686585\n",
       "88638650     17742015978579542\n",
       "Name: objectId, dtype: int64"
      ]
     },
     "execution_count": 30,
     "metadata": {},
     "output_type": "execute_result"
    }
   ],
   "source": [
    "sub_truth_match_df[\"objectId\"].sample(20)"
   ]
  },
  {
   "cell_type": "code",
   "execution_count": 31,
   "metadata": {},
   "outputs": [
    {
     "data": {
      "text/html": [
       "<div>\n",
       "<style scoped>\n",
       "    .dataframe tbody tr th:only-of-type {\n",
       "        vertical-align: middle;\n",
       "    }\n",
       "\n",
       "    .dataframe tbody tr th {\n",
       "        vertical-align: top;\n",
       "    }\n",
       "\n",
       "    .dataframe thead th {\n",
       "        text-align: right;\n",
       "    }\n",
       "</style>\n",
       "<table border=\"1\" class=\"dataframe\">\n",
       "  <thead>\n",
       "    <tr style=\"text-align: right;\">\n",
       "      <th></th>\n",
       "      <th>is_good_match</th>\n",
       "      <th>is_nearest_neighbor</th>\n",
       "      <th>is_unique_truth_entry</th>\n",
       "    </tr>\n",
       "  </thead>\n",
       "  <tbody>\n",
       "    <tr>\n",
       "      <th>140524077</th>\n",
       "      <td>True</td>\n",
       "      <td>False</td>\n",
       "      <td>True</td>\n",
       "    </tr>\n",
       "    <tr>\n",
       "      <th>71415234</th>\n",
       "      <td>True</td>\n",
       "      <td>True</td>\n",
       "      <td>True</td>\n",
       "    </tr>\n",
       "    <tr>\n",
       "      <th>97842496</th>\n",
       "      <td>True</td>\n",
       "      <td>True</td>\n",
       "      <td>True</td>\n",
       "    </tr>\n",
       "    <tr>\n",
       "      <th>64018405</th>\n",
       "      <td>True</td>\n",
       "      <td>True</td>\n",
       "      <td>True</td>\n",
       "    </tr>\n",
       "    <tr>\n",
       "      <th>103869849</th>\n",
       "      <td>True</td>\n",
       "      <td>True</td>\n",
       "      <td>True</td>\n",
       "    </tr>\n",
       "    <tr>\n",
       "      <th>70821116</th>\n",
       "      <td>True</td>\n",
       "      <td>True</td>\n",
       "      <td>True</td>\n",
       "    </tr>\n",
       "    <tr>\n",
       "      <th>108982798</th>\n",
       "      <td>True</td>\n",
       "      <td>True</td>\n",
       "      <td>True</td>\n",
       "    </tr>\n",
       "    <tr>\n",
       "      <th>99905946</th>\n",
       "      <td>True</td>\n",
       "      <td>True</td>\n",
       "      <td>True</td>\n",
       "    </tr>\n",
       "    <tr>\n",
       "      <th>12116437</th>\n",
       "      <td>True</td>\n",
       "      <td>True</td>\n",
       "      <td>True</td>\n",
       "    </tr>\n",
       "    <tr>\n",
       "      <th>47798845</th>\n",
       "      <td>True</td>\n",
       "      <td>True</td>\n",
       "      <td>True</td>\n",
       "    </tr>\n",
       "  </tbody>\n",
       "</table>\n",
       "</div>"
      ],
      "text/plain": [
       "           is_good_match  is_nearest_neighbor  is_unique_truth_entry\n",
       "140524077           True                False                   True\n",
       "71415234            True                 True                   True\n",
       "97842496            True                 True                   True\n",
       "64018405            True                 True                   True\n",
       "103869849           True                 True                   True\n",
       "70821116            True                 True                   True\n",
       "108982798           True                 True                   True\n",
       "99905946            True                 True                   True\n",
       "12116437            True                 True                   True\n",
       "47798845            True                 True                   True"
      ]
     },
     "execution_count": 31,
     "metadata": {},
     "output_type": "execute_result"
    }
   ],
   "source": [
    "sub_truth_match_df[[\"is_good_match\", \"is_nearest_neighbor\", \"is_unique_truth_entry\"]].sample(10)"
   ]
  },
  {
   "cell_type": "code",
   "execution_count": 32,
   "metadata": {},
   "outputs": [
    {
     "data": {
      "text/plain": [
       "0.92141"
      ]
     },
     "execution_count": 32,
     "metadata": {},
     "output_type": "execute_result"
    }
   ],
   "source": [
    "sub_truth_match_df[\"is_good_match\"].sum() / len(sub_truth_match_df)"
   ]
  },
  {
   "cell_type": "code",
   "execution_count": 33,
   "metadata": {},
   "outputs": [
    {
     "data": {
      "text/plain": [
       "0.94939"
      ]
     },
     "execution_count": 33,
     "metadata": {},
     "output_type": "execute_result"
    }
   ],
   "source": [
    "sub_truth_match_df[\"is_nearest_neighbor\"].sum() / len(sub_truth_match_df)"
   ]
  },
  {
   "cell_type": "code",
   "execution_count": 34,
   "metadata": {},
   "outputs": [
    {
     "data": {
      "text/plain": [
       "0.99301"
      ]
     },
     "execution_count": 34,
     "metadata": {},
     "output_type": "execute_result"
    }
   ],
   "source": [
    "sub_truth_match_df[\"is_unique_truth_entry\"].sum() / len(sub_truth_match_df)"
   ]
  },
  {
   "cell_type": "code",
   "execution_count": 35,
   "metadata": {},
   "outputs": [
    {
     "data": {
      "text/plain": [
       "0.87047"
      ]
     },
     "execution_count": 35,
     "metadata": {},
     "output_type": "execute_result"
    }
   ],
   "source": [
    "sub_truth_match_df[[\"is_good_match\", \n",
    "                    \"is_nearest_neighbor\", \n",
    "                    \"is_unique_truth_entry\"]].to_numpy().all(axis=-1).sum() / len(sub_truth_match_df)"
   ]
  },
  {
   "cell_type": "code",
   "execution_count": 36,
   "metadata": {},
   "outputs": [
    {
     "data": {
      "text/plain": [
       "1.0"
      ]
     },
     "execution_count": 36,
     "metadata": {},
     "output_type": "execute_result"
    }
   ],
   "source": [
    "sub_truth_match_df[[\"is_good_match\", \n",
    "                    \"is_nearest_neighbor\", \n",
    "                    \"is_unique_truth_entry\"]].to_numpy().any(axis=-1).sum() / len(sub_truth_match_df)"
   ]
  },
  {
   "cell_type": "markdown",
   "metadata": {},
   "source": [
    "### Merge Catalog "
   ]
  },
  {
   "cell_type": "code",
   "execution_count": 37,
   "metadata": {},
   "outputs": [],
   "source": [
    "truth_cat_plus_cosmodc2_df = truth_cat_df.merge(\n",
    "    cosmodc2_df, \n",
    "    left_on=\"cosmodc2_id\", \n",
    "    right_on=\"galaxy_id\", \n",
    "    how=\"left\" \n",
    ")\n",
    "cosmodc2_mask = ~(np.isnan(truth_cat_plus_cosmodc2_df[\"ellipticity_1_true\"].values) |\n",
    "                  np.isnan(truth_cat_plus_cosmodc2_df[\"ellipticity_2_true\"].values))\n",
    "truth_cat_plus_cosmodc2_df[\"cosmodc2_mask\"] = cosmodc2_mask\n",
    "full_df = truth_cat_plus_cosmodc2_df.merge(\n",
    "    truth_match_df, \n",
    "    left_on=\"match_objectId\", \n",
    "    right_on=\"objectId\", \n",
    "    how=\"left\" \n",
    ")"
   ]
  },
  {
   "cell_type": "code",
   "execution_count": 38,
   "metadata": {},
   "outputs": [
    {
     "name": "stdout",
     "output_type": "stream",
     "text": [
      "60489715\n",
      "327021149\n",
      "147088478\n",
      "60489715\n"
     ]
    }
   ],
   "source": [
    "print(len(truth_cat_df))\n",
    "print(len(cosmodc2_df))\n",
    "print(len(truth_match_df))\n",
    "print(len(full_df))"
   ]
  },
  {
   "cell_type": "code",
   "execution_count": 43,
   "metadata": {},
   "outputs": [
    {
     "name": "stdout",
     "output_type": "stream",
     "text": [
      "flux_r has 0 nans\n",
      "flux_y has 0 nans\n",
      "flux_u has 0 nans\n",
      "cosmodc2_id has 0 nans\n",
      "flux_g has 0 nans\n",
      "flux_z has 0 nans\n",
      "redshifts has 0 nans\n",
      "dec has 0 nans\n",
      "match_objectId has 0 nans\n",
      "truth_type has 0 nans\n",
      "id has 0 nans\n",
      "ra has 0 nans\n",
      "flux_i has 0 nans\n",
      "ellipticity_1_true has 301271 nans\n",
      "galaxy_id has 301271 nans\n",
      "shear_2 has 301271 nans\n",
      "size_minor_true has 301271 nans\n",
      "shear_1 has 301271 nans\n",
      "size_true has 301271 nans\n",
      "position_angle_true_dc2 has 301271 nans\n",
      "ellipticity_2_true has 301271 nans\n",
      "cosmodc2_mask has 0 nans\n",
      "Ixy_pixel has 4454227 nans\n",
      "IxyPSF_pixel_u has 3932734 nans\n",
      "IxyPSF_pixel_y has 3932763 nans\n",
      "IyyPSF_pixel_y has 3932763 nans\n",
      "IyyPSF_pixel_z has 3932717 nans\n",
      "IxxPSF_pixel_z has 3932717 nans\n",
      "IyyPSF_pixel_g has 3932671 nans\n",
      "psf_fwhm_g has 3932671 nans\n",
      "psf_fwhm_u has 3932734 nans\n",
      "IyyPSF_pixel_i has 3932670 nans\n",
      "psf_fwhm_y has 3932763 nans\n",
      "IxyPSF_pixel_g has 3932671 nans\n",
      "psf_fwhm_r has 3932662 nans\n",
      "psf_fwhm_i has 3932670 nans\n",
      "objectId has 3932660 nans\n",
      "IyyPSF_pixel_r has 3932662 nans\n",
      "IyyPSF_pixel_u has 3932734 nans\n",
      "IxxPSF_pixel_i has 3932670 nans\n",
      "IxyPSF_pixel_r has 3932662 nans\n",
      "Ixx_pixel has 4454227 nans\n",
      "IxxPSF_pixel_r has 3932662 nans\n",
      "IxyPSF_pixel_z has 3932717 nans\n",
      "IxxPSF_pixel_g has 3932671 nans\n",
      "blendedness has 4454236 nans\n",
      "Iyy_pixel has 4454227 nans\n",
      "IxyPSF_pixel_i has 3932670 nans\n",
      "IxxPSF_pixel_u has 3932734 nans\n",
      "psf_fwhm_z has 3932717 nans\n",
      "IxxPSF_pixel_y has 3932763 nans\n"
     ]
    }
   ],
   "source": [
    "for k, v in full_df.items():\n",
    "    if k not in [\"is_good_match\", \"is_nearest_neighbor\", \"is_unique_truth_entry\"]:\n",
    "        print(f\"{k} has {np.isnan(v.values).sum()} nans\")"
   ]
  },
  {
   "cell_type": "code",
   "execution_count": 44,
   "metadata": {},
   "outputs": [
    {
     "name": "stdout",
     "output_type": "stream",
     "text": [
      "flux_r has 0.00% nans\n",
      "flux_y has 0.00% nans\n",
      "flux_u has 0.00% nans\n",
      "cosmodc2_id has 0.00% nans\n",
      "flux_g has 0.00% nans\n",
      "flux_z has 0.00% nans\n",
      "redshifts has 0.00% nans\n",
      "dec has 0.00% nans\n",
      "match_objectId has 0.00% nans\n",
      "truth_type has 0.00% nans\n",
      "id has 0.00% nans\n",
      "ra has 0.00% nans\n",
      "flux_i has 0.00% nans\n",
      "ellipticity_1_true has 1.86% nans\n",
      "galaxy_id has 1.86% nans\n",
      "shear_2 has 1.86% nans\n",
      "size_minor_true has 1.86% nans\n",
      "shear_1 has 1.86% nans\n",
      "size_true has 1.86% nans\n",
      "position_angle_true_dc2 has 1.86% nans\n",
      "ellipticity_2_true has 1.86% nans\n",
      "cosmodc2_mask has 0.00% nans\n",
      "Ixy_pixel has 27.46% nans\n",
      "IxyPSF_pixel_u has 24.25% nans\n",
      "IxyPSF_pixel_y has 24.25% nans\n",
      "IyyPSF_pixel_y has 24.25% nans\n",
      "IyyPSF_pixel_z has 24.25% nans\n",
      "IxxPSF_pixel_z has 24.25% nans\n",
      "IyyPSF_pixel_g has 24.25% nans\n",
      "psf_fwhm_g has 24.25% nans\n",
      "psf_fwhm_u has 24.25% nans\n",
      "IyyPSF_pixel_i has 24.25% nans\n",
      "psf_fwhm_y has 24.25% nans\n",
      "IxyPSF_pixel_g has 24.25% nans\n",
      "psf_fwhm_r has 24.25% nans\n",
      "psf_fwhm_i has 24.25% nans\n",
      "objectId has 24.25% nans\n",
      "IyyPSF_pixel_r has 24.25% nans\n",
      "IyyPSF_pixel_u has 24.25% nans\n",
      "IxxPSF_pixel_i has 24.25% nans\n",
      "IxyPSF_pixel_r has 24.25% nans\n",
      "Ixx_pixel has 27.46% nans\n",
      "IxxPSF_pixel_r has 24.25% nans\n",
      "IxyPSF_pixel_z has 24.25% nans\n",
      "IxxPSF_pixel_g has 24.25% nans\n",
      "blendedness has 27.46% nans\n",
      "Iyy_pixel has 27.46% nans\n",
      "IxyPSF_pixel_i has 24.25% nans\n",
      "IxxPSF_pixel_u has 24.25% nans\n",
      "psf_fwhm_z has 24.25% nans\n",
      "IxxPSF_pixel_y has 24.25% nans\n"
     ]
    }
   ],
   "source": [
    "for k, v in full_df.items():\n",
    "    if k not in [\"is_good_match\", \"is_nearest_neighbor\", \"is_unique_truth_entry\"]:\n",
    "        print(f\"{k} has {np.isnan(v.values).sum() / len(full_df) * 100:.2f}% nans\")"
   ]
  },
  {
   "cell_type": "code",
   "execution_count": 41,
   "metadata": {},
   "outputs": [
    {
     "data": {
      "image/png": "[encoded data removed]",
      "text/plain": [
       "<Figure size 640x480 with 1 Axes>"
      ]
     },
     "metadata": {},
     "output_type": "display_data"
    }
   ],
   "source": [
    "# filter the object by flux\n",
    "flux_min = 50\n",
    "full_df = full_df.loc[full_df[\"flux_r\"] > flux_min]\n",
    "plt.hist(full_df[\"flux_r\"], log=True)\n",
    "plt.show()"
   ]
  },
  {
   "cell_type": "code",
   "execution_count": null,
   "metadata": {},
   "outputs": [],
   "source": [
    "for k, v in full_df.items():\n",
    "    if k not in [\"is_good_match\", \"is_nearest_neighbor\", \"is_unique_truth_entry\"]:\n",
    "        print(f\"{k} has {np.isnan(v.values).sum()} nans\")"
   ]
  },
  {
   "cell_type": "code",
   "execution_count": null,
   "metadata": {},
   "outputs": [],
   "source": [
    "for k, v in full_df.items():\n",
    "    if k not in [\"is_good_match\", \"is_nearest_neighbor\", \"is_unique_truth_entry\"]:\n",
    "        print(f\"{k} has {np.isnan(v.values).sum() / len(full_df) * 100:.2f}% nans\")"
   ]
  },
  {
   "cell_type": "code",
   "execution_count": null,
   "metadata": {},
   "outputs": [],
   "source": [
    "full_df[\"flux_r\"].describe()"
   ]
  },
  {
   "cell_type": "code",
   "execution_count": null,
   "metadata": {},
   "outputs": [],
   "source": [
    "np.quantile(full_df[\"flux_r\"], q=[0.01, 0.05, 0.25, 0.5, 0.75, 0.95, 0.99])"
   ]
  },
  {
   "cell_type": "code",
   "execution_count": null,
   "metadata": {},
   "outputs": [],
   "source": [
    "full_df[\"blendedness\"].describe()"
   ]
  },
  {
   "cell_type": "code",
   "execution_count": null,
   "metadata": {},
   "outputs": [],
   "source": [
    "# restrict blendedness\n",
    "full_df[\"blendedness\"] = np.clip(full_df[\"blendedness\"].values, a_min=0.0, a_max=1.0)"
   ]
  },
  {
   "cell_type": "code",
   "execution_count": null,
   "metadata": {},
   "outputs": [],
   "source": [
    "full_df[\"blendedness\"].describe()"
   ]
  },
  {
   "cell_type": "code",
   "execution_count": null,
   "metadata": {},
   "outputs": [],
   "source": [
    "plt.hist(full_df[\"blendedness\"], log=True)\n",
    "plt.show()"
   ]
  },
  {
   "cell_type": "code",
   "execution_count": null,
   "metadata": {},
   "outputs": [],
   "source": [
    "blendedness = full_df[\"blendedness\"].values\n",
    "np.quantile(blendedness[~np.isnan(blendedness)], q=[0.01, 0.03, 0.05, 0.25, 0.5, 0.75, 0.9, 0.95, 0.99])"
   ]
  },
  {
   "cell_type": "code",
   "execution_count": null,
   "metadata": {},
   "outputs": [],
   "source": [
    "full_df[\"shear_1\"].describe()"
   ]
  },
  {
   "cell_type": "code",
   "execution_count": null,
   "metadata": {},
   "outputs": [],
   "source": [
    "full_df[\"shear_2\"].describe()"
   ]
  },
  {
   "cell_type": "code",
   "execution_count": null,
   "metadata": {},
   "outputs": [],
   "source": [
    "plt.hist(full_df[\"shear_1\"], log=True)\n",
    "plt.show()"
   ]
  },
  {
   "cell_type": "code",
   "execution_count": null,
   "metadata": {},
   "outputs": [],
   "source": [
    "plt.hist(full_df[\"shear_2\"], log=True)\n",
    "plt.show()"
   ]
  },
  {
   "cell_type": "code",
   "execution_count": null,
   "metadata": {},
   "outputs": [],
   "source": [
    "full_df[\"ellipticity_1_true\"].describe()"
   ]
  },
  {
   "cell_type": "code",
   "execution_count": null,
   "metadata": {},
   "outputs": [],
   "source": [
    "full_df[\"ellipticity_2_true\"].describe()"
   ]
  },
  {
   "cell_type": "code",
   "execution_count": null,
   "metadata": {},
   "outputs": [],
   "source": [
    "plt.hist(full_df[\"ellipticity_1_true\"], log=True)\n",
    "plt.show()"
   ]
  },
  {
   "cell_type": "code",
   "execution_count": null,
   "metadata": {},
   "outputs": [],
   "source": [
    "plt.hist(full_df[\"ellipticity_2_true\"], log=True)\n",
    "plt.show()"
   ]
  },
  {
   "cell_type": "code",
   "execution_count": null,
   "metadata": {},
   "outputs": [],
   "source": [
    "sub_full_df = full_df.sample(10000)\n",
    "sub_full_df_flux_norm = np.linalg.norm(np.stack([sub_full_df[f\"flux_{b}\"].values for b in \"ugrizy\"], axis=0), axis=0)\n",
    "sub_full_df_cosmodc2_mask = sub_full_df[\"cosmodc2_mask\"]"
   ]
  },
  {
   "cell_type": "code",
   "execution_count": null,
   "metadata": {},
   "outputs": [],
   "source": [
    "plt.scatter(np.log(sub_full_df[\"flux_r\"] + 1), sub_full_df[\"size_true\"])\n",
    "plt.show()"
   ]
  },
  {
   "cell_type": "code",
   "execution_count": null,
   "metadata": {},
   "outputs": [],
   "source": [
    "plt.scatter(np.log(sub_full_df[\"flux_r\"] + 1), sub_full_df[\"size_minor_true\"])\n",
    "plt.show()"
   ]
  },
  {
   "cell_type": "code",
   "execution_count": null,
   "metadata": {},
   "outputs": [],
   "source": [
    "plt.scatter(np.log(sub_full_df_flux_norm + 1), sub_full_df[\"size_true\"])\n",
    "plt.show()"
   ]
  },
  {
   "cell_type": "code",
   "execution_count": null,
   "metadata": {},
   "outputs": [],
   "source": [
    "plt.scatter(np.log(sub_full_df_flux_norm + 1), sub_full_df[\"size_minor_true\"])\n",
    "plt.show()"
   ]
  },
  {
   "cell_type": "code",
   "execution_count": null,
   "metadata": {},
   "outputs": [],
   "source": [
    "print(np.array2string(np.corrcoef(sub_full_df[\"size_true\"][sub_full_df_cosmodc2_mask], \n",
    "                                  np.log(sub_full_df[\"flux_r\"][sub_full_df_cosmodc2_mask] + 1)), precision=3))"
   ]
  },
  {
   "cell_type": "code",
   "execution_count": null,
   "metadata": {},
   "outputs": [],
   "source": [
    "print(np.array2string(np.corrcoef(sub_full_df[\"size_true\"][sub_full_df_cosmodc2_mask], \n",
    "                                  np.log(sub_full_df_flux_norm[sub_full_df_cosmodc2_mask] + 1)), precision=3))"
   ]
  },
  {
   "cell_type": "code",
   "execution_count": null,
   "metadata": {},
   "outputs": [],
   "source": [
    "print(np.array2string(np.corrcoef(sub_full_df[\"size_minor_true\"][sub_full_df_cosmodc2_mask], \n",
    "                                  np.log(sub_full_df_flux_norm[sub_full_df_cosmodc2_mask] + 1)), precision=3))"
   ]
  },
  {
   "cell_type": "code",
   "execution_count": null,
   "metadata": {},
   "outputs": [],
   "source": [
    "print(np.array2string(np.corrcoef(np.random.randn(sub_full_df_cosmodc2_mask.sum()), \n",
    "                                  np.log(sub_full_df_flux_norm[sub_full_df_cosmodc2_mask] + 1)), precision=3))"
   ]
  },
  {
   "cell_type": "code",
   "execution_count": null,
   "metadata": {},
   "outputs": [],
   "source": [
    "sub_full_df_max_size = np.stack([sub_full_df[\"size_true\"].values, \n",
    "                                 sub_full_df[\"size_minor_true\"].values], axis=0).max(axis=0)"
   ]
  },
  {
   "cell_type": "code",
   "execution_count": null,
   "metadata": {},
   "outputs": [],
   "source": [
    "plt.scatter(np.log(sub_full_df_flux_norm + 1), sub_full_df_max_size)\n",
    "plt.show()"
   ]
  },
  {
   "cell_type": "code",
   "execution_count": null,
   "metadata": {},
   "outputs": [],
   "source": [
    "print(np.array2string(np.corrcoef(sub_full_df_max_size[sub_full_df_cosmodc2_mask], \n",
    "                                  np.log(sub_full_df_flux_norm[sub_full_df_cosmodc2_mask] + 1)), precision=3))"
   ]
  },
  {
   "cell_type": "code",
   "execution_count": null,
   "metadata": {},
   "outputs": [],
   "source": [
    "plt.scatter(sub_full_df[\"size_true\"], sub_full_df[\"size_minor_true\"])\n",
    "plt.show()"
   ]
  },
  {
   "cell_type": "code",
   "execution_count": null,
   "metadata": {},
   "outputs": [],
   "source": [
    "sub_full_df_size_sqrt = np.sqrt(sub_full_df[\"size_true\"].values ** 2 + sub_full_df[\"size_minor_true\"].values ** 2)"
   ]
  },
  {
   "cell_type": "code",
   "execution_count": null,
   "metadata": {},
   "outputs": [],
   "source": [
    "plt.scatter(np.log(sub_full_df_flux_norm + 1), sub_full_df_size_sqrt)\n",
    "plt.show()"
   ]
  },
  {
   "cell_type": "code",
   "execution_count": null,
   "metadata": {},
   "outputs": [],
   "source": [
    "print(np.array2string(np.corrcoef(sub_full_df_size_sqrt[sub_full_df_cosmodc2_mask], \n",
    "                                  np.log(sub_full_df_flux_norm[sub_full_df_cosmodc2_mask] + 1)), precision=3))"
   ]
  },
  {
   "cell_type": "markdown",
   "metadata": {},
   "source": [
    "### Save to File"
   ]
  },
  {
   "cell_type": "code",
   "execution_count": 42,
   "metadata": {},
   "outputs": [],
   "source": [
    "# create a pickle file \n",
    "full_df.to_pickle(output_dir / f\"merged_catalog_with_flux_over_{flux_min}.pkl\")"
   ]
  }
 ],
 "metadata": {
  "kernelspec": {
   "display_name": ".venv",
   "language": "python",
   "name": "python3"
  },
  "language_info": {
   "codemirror_mode": {
    "name": "ipython",
    "version": 3
   },
   "file_extension": ".py",
   "mimetype": "text/x-python",
   "name": "python",
   "nbconvert_exporter": "python",
   "pygments_lexer": "ipython3",
   "version": "3.10.12"
  },
  "orig_nbformat": 4
 },
 "nbformat": 4,
 "nbformat_minor": 2
}

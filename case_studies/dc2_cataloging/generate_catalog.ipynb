{
 "cells": [
  {
   "cell_type": "markdown",
   "metadata": {},
   "source": [
    "This notebook present the steps to generate merged catalog files. The reason that we need to generate such files is that:\n",
    "\n",
    "1. Bliss needs input parameters that contains psf, fluxes, location, source type, galaxy related parameters, but the truth catalog in DC2 does not provide galaxy parameters or psf\n",
    "2. To get those parameter, we need to use CosmoDC2 dataset and truth-match table, where the galaxy parameters and psf are stored.\n",
    "3. To save the time for multiple merging when loading the data, we store the merged dataset into corresponding merged_catalog_{}.pkl files"
   ]
  },
  {
   "cell_type": "markdown",
   "metadata": {},
   "source": [
    "### Load Catalog"
   ]
  },
  {
   "cell_type": "markdown",
   "metadata": {},
   "source": [
    "Use [GCRCatalogs](https://data.lsstdesc.org/doc/install_gcr) package to load the dc2 truth catalog and CosomoDC2.\n",
    "\n",
    "\n"
   ]
  },
  {
   "cell_type": "code",
   "execution_count": 1,
   "metadata": {},
   "outputs": [],
   "source": [
    "import pickle\n",
    "import GCRCatalogs\n",
    "import matplotlib.pyplot as plt\n",
    "import numpy as np\n",
    "from pathlib import Path\n",
    "import pandas as pd"
   ]
  },
  {
   "cell_type": "code",
   "execution_count": 2,
   "metadata": {},
   "outputs": [],
   "source": [
    "output_dir = Path(\"./generate_catalog_output/\")\n",
    "output_dir.mkdir(parents=True, exist_ok=True)"
   ]
  },
  {
   "cell_type": "code",
   "execution_count": 3,
   "metadata": {},
   "outputs": [],
   "source": [
    "truth_catalog_pickle_file = output_dir / \"truth_catalog.pkl\"\n",
    "GCRCatalogs.set_root_dir(\"/nfs/turbo/lsa-regier/lsstdesc-public/dc2\")\n",
    "if truth_catalog_pickle_file.exists():\n",
    "    with open(truth_catalog_pickle_file, \"rb\") as inputp: \n",
    "        truth_cat_data = pickle.load(inputp)\n",
    "else:   \n",
    "    truth_cat = GCRCatalogs.load_catalog(\"desc_dc2_run2.2i_dr6_truth\") \n",
    "    truth_cat_data = truth_cat.get_quantities([\n",
    "        \"id\", \"match_objectId\", \"cosmodc2_id\", \"ra\", \"dec\", \"truth_type\", \n",
    "        \"flux_g\", \"flux_i\", \"flux_r\", \"flux_u\", \"flux_y\", \"flux_z\"\n",
    "    ])\n",
    "    with open(truth_catalog_pickle_file, \"wb\") as outp:\n",
    "        pickle.dump(truth_cat_data, outp, pickle.HIGHEST_PROTOCOL)"
   ]
  },
  {
   "cell_type": "code",
   "execution_count": 4,
   "metadata": {},
   "outputs": [
    {
     "data": {
      "image/png": "[encoded data removed]",
      "text/plain": [
       "<Figure size 640x480 with 1 Axes>"
      ]
     },
     "metadata": {},
     "output_type": "display_data"
    }
   ],
   "source": [
    "plt.hist(truth_cat_data[\"flux_r\"], np.linspace(50, 10000, num=100))\n",
    "plt.show()"
   ]
  },
  {
   "cell_type": "code",
   "execution_count": 5,
   "metadata": {},
   "outputs": [],
   "source": [
    "galaxy_params_pickle_file = output_dir / \"galaxy_params.pkl\"\n",
    "if galaxy_params_pickle_file.exists():\n",
    "    with open(galaxy_params_pickle_file, \"rb\") as inputp: \n",
    "        galaxy_params_data = pickle.load(inputp)\n",
    "else:\n",
    "    galaxy_params = GCRCatalogs.load_catalog(\"desc_cosmodc2\", {\n",
    "        \"catalog_root_dir\": \"/nfs/turbo/lsa-regier/lsstdesc-public/dc2/cosmoDC2\",\n",
    "    })\n",
    "    galaxy_params_data = galaxy_params.get_quantities([\n",
    "        \"galaxy_id\", \"position_angle_true\", \"size_minor_disk_true\", \n",
    "        \"size_disk_true\", \"size_minor_bulge_true\", \n",
    "        \"size_bulge_true\", \"bulge_to_total_ratio_i\"\n",
    "    ])\n",
    "    with open(galaxy_params_pickle_file, \"wb\") as outp:\n",
    "        pickle.dump(galaxy_params_data, outp, pickle.HIGHEST_PROTOCOL)"
   ]
  },
  {
   "cell_type": "code",
   "execution_count": 6,
   "metadata": {},
   "outputs": [],
   "source": [
    "psf_params_pickle_file = output_dir / \"psf_params.pkl\"\n",
    "if psf_params_pickle_file.exists():\n",
    "    with open(psf_params_pickle_file, \"rb\") as inputp: \n",
    "        psf_params_data = pickle.load(inputp)\n",
    "else:\n",
    "    psf_params = GCRCatalogs.load_catalog(\"desc_dc2_run2.2i_dr6_object_with_truth_match\")\n",
    "    psf_params_data = psf_params.get_quantities([\n",
    "        \"objectId\",\n",
    "        \"blendedness\",\n",
    "        \"IxxPSF_pixel_g\", \"IxxPSF_pixel_z\", \n",
    "        \"IxxPSF_pixel_r\", \"IxxPSF_pixel_i\", \"IxxPSF_pixel_u\", \n",
    "        \"IxxPSF_pixel_y\", \"IyyPSF_pixel_g\", \"IyyPSF_pixel_z\", \n",
    "        \"IyyPSF_pixel_r\", \"IyyPSF_pixel_i\", \"IyyPSF_pixel_u\", \n",
    "        \"IyyPSF_pixel_y\", \"IxyPSF_pixel_g\", \"IxyPSF_pixel_z\", \n",
    "        \"IxyPSF_pixel_r\", \"IxyPSF_pixel_i\", \"IxyPSF_pixel_u\", \n",
    "        \"IxyPSF_pixel_y\", \"psf_fwhm_g\", \"psf_fwhm_z\", \"psf_fwhm_r\",\n",
    "        \"psf_fwhm_i\", \"psf_fwhm_u\", \"psf_fwhm_y\"\n",
    "    ])\n",
    "    with open(psf_params_pickle_file, \"wb\") as outp:\n",
    "        pickle.dump(psf_params_data, outp, pickle.HIGHEST_PROTOCOL)"
   ]
  },
  {
   "cell_type": "markdown",
   "metadata": {},
   "source": [
    "### Merge Catalog "
   ]
  },
  {
   "cell_type": "code",
   "execution_count": 7,
   "metadata": {},
   "outputs": [],
   "source": [
    "merged_catalog_pikle_file = output_dir / \"merged_catalog.pkl\"\n",
    "if merged_catalog_pikle_file.exists():\n",
    "    with open(merged_catalog_pikle_file, \"rb\") as inputp: \n",
    "        truth_galaxy_psf_df = pickle.load(inputp)\n",
    "else:\n",
    "    truth_cat_df = pd.DataFrame(truth_cat_data)\n",
    "    galaxy_params_df = pd.DataFrame(galaxy_params_data)\n",
    "    psf_params_df = pd.DataFrame(psf_params_data)\n",
    "    truth_galaxy_df = truth_cat_df.merge(\n",
    "        galaxy_params_df, \n",
    "        left_on=\"cosmodc2_id\", \n",
    "        right_on=\"galaxy_id\", \n",
    "        how=\"left\" \n",
    "    )\n",
    "    truth_galaxy_psf_df = truth_galaxy_df.fillna(-1).merge(\n",
    "        psf_params_df, \n",
    "        left_on=\"match_objectId\", \n",
    "        right_on=\"objectId\", \n",
    "        how=\"left\" \n",
    "    )\n",
    "    with open(merged_catalog_pikle_file, \"wb\") as outp:\n",
    "        pickle.dump(truth_galaxy_psf_df, outp, pickle.HIGHEST_PROTOCOL)"
   ]
  },
  {
   "cell_type": "code",
   "execution_count": 8,
   "metadata": {},
   "outputs": [
    {
     "data": {
      "image/png": "[encoded data removed]",
      "text/plain": [
       "<Figure size 640x480 with 1 Axes>"
      ]
     },
     "metadata": {},
     "output_type": "display_data"
    }
   ],
   "source": [
    "# filter the object by flux\n",
    "flux_min = 50\n",
    "truth_galaxy_psf_df = truth_galaxy_psf_df.loc[truth_galaxy_psf_df[\"flux_r\"] > flux_min]\n",
    "plt.hist(truth_galaxy_psf_df[\"flux_r\"], log=True)\n",
    "plt.show()"
   ]
  },
  {
   "cell_type": "code",
   "execution_count": 9,
   "metadata": {},
   "outputs": [
    {
     "data": {
      "text/plain": [
       "count    1.261345e+07\n",
       "mean     2.157858e+04\n",
       "std      5.137702e+06\n",
       "min      5.000001e+01\n",
       "25%      7.050277e+01\n",
       "50%      1.126156e+02\n",
       "75%      2.486488e+02\n",
       "max      9.668352e+09\n",
       "Name: flux_r, dtype: float64"
      ]
     },
     "execution_count": 9,
     "metadata": {},
     "output_type": "execute_result"
    }
   ],
   "source": [
    "truth_galaxy_psf_df[\"flux_r\"].describe()"
   ]
  },
  {
   "cell_type": "code",
   "execution_count": 10,
   "metadata": {},
   "outputs": [
    {
     "data": {
      "text/plain": [
       "array([   50.59802567,    53.14260483,    70.50276566,   112.61563873,\n",
       "         248.64881134,  1810.94040527, 13165.74728516])"
      ]
     },
     "execution_count": 10,
     "metadata": {},
     "output_type": "execute_result"
    }
   ],
   "source": [
    "np.quantile(truth_galaxy_psf_df[\"flux_r\"], q=[0.01, 0.05, 0.25, 0.5, 0.75, 0.95, 0.99])"
   ]
  },
  {
   "cell_type": "code",
   "execution_count": 11,
   "metadata": {},
   "outputs": [
    {
     "data": {
      "text/plain": [
       "count    9.160922e+06\n",
       "mean     3.976622e-02\n",
       "std      1.079735e-01\n",
       "min     -1.678246e+00\n",
       "25%      0.000000e+00\n",
       "50%      1.636379e-03\n",
       "75%      2.584892e-02\n",
       "max      1.000000e+00\n",
       "Name: blendedness, dtype: float64"
      ]
     },
     "execution_count": 11,
     "metadata": {},
     "output_type": "execute_result"
    }
   ],
   "source": [
    "truth_galaxy_psf_df[\"blendedness\"].describe()"
   ]
  },
  {
   "cell_type": "code",
   "execution_count": 12,
   "metadata": {},
   "outputs": [],
   "source": [
    "# restrict blendedness\n",
    "truth_galaxy_psf_df[\"blendedness\"] = np.clip(truth_galaxy_psf_df[\"blendedness\"].values, a_min=0.0, a_max=1.0)"
   ]
  },
  {
   "cell_type": "code",
   "execution_count": 13,
   "metadata": {},
   "outputs": [
    {
     "data": {
      "text/plain": [
       "count    9.160922e+06\n",
       "mean     4.019095e-02\n",
       "std      1.076950e-01\n",
       "min      0.000000e+00\n",
       "25%      0.000000e+00\n",
       "50%      1.636379e-03\n",
       "75%      2.584892e-02\n",
       "max      1.000000e+00\n",
       "Name: blendedness, dtype: float64"
      ]
     },
     "execution_count": 13,
     "metadata": {},
     "output_type": "execute_result"
    }
   ],
   "source": [
    "truth_galaxy_psf_df[\"blendedness\"].describe()"
   ]
  },
  {
   "cell_type": "code",
   "execution_count": 14,
   "metadata": {},
   "outputs": [
    {
     "data": {
      "image/png": "[encoded data removed]",
      "text/plain": [
       "<Figure size 640x480 with 1 Axes>"
      ]
     },
     "metadata": {},
     "output_type": "display_data"
    }
   ],
   "source": [
    "plt.hist(truth_galaxy_psf_df[\"blendedness\"], log=True)\n",
    "plt.show()"
   ]
  },
  {
   "cell_type": "code",
   "execution_count": 18,
   "metadata": {},
   "outputs": [
    {
     "data": {
      "text/plain": [
       "array([0.        , 0.        , 0.        , 0.        , 0.00163638,\n",
       "       0.02584892, 0.10810987, 0.21474713, 0.60275362])"
      ]
     },
     "execution_count": 18,
     "metadata": {},
     "output_type": "execute_result"
    }
   ],
   "source": [
    "blendedness = truth_galaxy_psf_df[\"blendedness\"].values\n",
    "np.quantile(blendedness[~np.isnan(blendedness)], q=[0.01, 0.03, 0.05, 0.25, 0.5, 0.75, 0.9, 0.95, 0.99])"
   ]
  },
  {
   "cell_type": "code",
   "execution_count": 16,
   "metadata": {},
   "outputs": [
    {
     "data": {
      "text/plain": [
       "count    9.565191e+06\n",
       "mean     3.244442e+00\n",
       "std      1.233017e-01\n",
       "min      0.000000e+00\n",
       "25%      3.166368e+00\n",
       "50%      3.247619e+00\n",
       "75%      3.325209e+00\n",
       "max      3.670166e+00\n",
       "Name: IxxPSF_pixel_r, dtype: float64"
      ]
     },
     "execution_count": 16,
     "metadata": {},
     "output_type": "execute_result"
    }
   ],
   "source": [
    "truth_galaxy_psf_df[\"IxxPSF_pixel_r\"].describe()"
   ]
  },
  {
   "cell_type": "markdown",
   "metadata": {},
   "source": [
    "### Save to File"
   ]
  },
  {
   "cell_type": "code",
   "execution_count": 15,
   "metadata": {},
   "outputs": [],
   "source": [
    "# # create a pickle file \n",
    "truth_galaxy_psf_df.to_pickle(output_dir / f\"merged_catalog_with_flux_over_{flux_min}.pkl\")"
   ]
  }
 ],
 "metadata": {
  "kernelspec": {
   "display_name": "bliss-deblender-IlvvpPLR-py3.10",
   "language": "python",
   "name": "python3"
  },
  "language_info": {
   "codemirror_mode": {
    "name": "ipython",
    "version": 3
   },
   "file_extension": ".py",
   "mimetype": "text/x-python",
   "name": "python",
   "nbconvert_exporter": "python",
   "pygments_lexer": "ipython3",
   "version": "3.10.12"
  },
  "orig_nbformat": 4
 },
 "nbformat": 4,
 "nbformat_minor": 2
}

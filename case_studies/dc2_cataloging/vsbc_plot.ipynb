{
 "cells": [
  {
   "cell_type": "code",
   "execution_count": 1,
   "metadata": {},
   "outputs": [],
   "source": [
    "import torch\n",
    "import tqdm\n",
    "import matplotlib.pyplot as plt\n",
    "\n",
    "from hydra import initialize, compose\n",
    "from hydra.utils import instantiate\n",
    "\n",
    "from pathlib import Path\n",
    "\n",
    "from bliss.surveys.dc2 import DC2DataModule\n",
    "from bliss.catalog import TileCatalog\n",
    "from bliss.encoder.encoder import Encoder\n",
    "\n",
    "from pytorch_lightning.utilities import move_data_to_device\n",
    "\n",
    "output_dir = Path(\"./ellipticity_bootstrap_output/\")\n",
    "output_dir.mkdir(parents=True, exist_ok=True)\n",
    "\n",
    "# change this model path according to your training setting\n",
    "model_path = \"../../../bliss_output/DC2_cataloging_exp_07/exp_07-29-3/checkpoints/best_encoder.ckpt\"\n",
    "lsst_root_dir = \"/data/scratch/dc2_nfs/\"\n",
    "\n",
    "device = torch.device(\"cuda:4\" if torch.cuda.is_available() else \"cpu\")\n",
    "# device = torch.device(\"cpu\")"
   ]
  },
  {
   "cell_type": "code",
   "execution_count": 2,
   "metadata": {},
   "outputs": [],
   "source": [
    "with initialize(config_path=\".\", version_base=None):\n",
    "    notebook_cfg = compose(\"notebook_config\")"
   ]
  },
  {
   "cell_type": "code",
   "execution_count": 3,
   "metadata": {},
   "outputs": [],
   "source": [
    "tile_slen = notebook_cfg.surveys.dc2.tile_slen\n",
    "max_sources_per_tile = notebook_cfg.surveys.dc2.max_sources_per_tile\n",
    "r_band_min_flux = notebook_cfg.notebook_var.r_band_min_flux\n",
    "\n",
    "dc2: DC2DataModule = instantiate(notebook_cfg.surveys.dc2)\n",
    "dc2.setup(stage=\"validate\")\n",
    "dc2_val_dataloader = dc2.val_dataloader()\n",
    "\n",
    "bliss_encoder: Encoder = instantiate(notebook_cfg.encoder).to(device=device)\n",
    "pretrained_weights = torch.load(model_path, map_location=device)[\"state_dict\"]\n",
    "bliss_encoder.load_state_dict(pretrained_weights)\n",
    "bliss_encoder = bliss_encoder.eval()"
   ]
  },
  {
   "cell_type": "code",
   "execution_count": 4,
   "metadata": {},
   "outputs": [],
   "source": [
    "def move_tile_cat_to_device(ori_tile_cat: TileCatalog, device):\n",
    "    tile_dict = move_data_to_device(ori_tile_cat.data, device=device)\n",
    "    return TileCatalog(tile_dict)"
   ]
  },
  {
   "cell_type": "code",
   "execution_count": 5,
   "metadata": {},
   "outputs": [
    {
     "name": "stderr",
     "output_type": "stream",
     "text": [
      "100%|██████████| 391/391 [02:07<00:00,  3.06it/s]\n"
     ]
    }
   ],
   "source": [
    "bliss_vsbc_tile_cat_list = []\n",
    "for batch in tqdm.tqdm(dc2_val_dataloader):\n",
    "    batch_on_device = move_data_to_device(batch, device=device)\n",
    "    with torch.no_grad():\n",
    "        bliss_vsbc_tile_cat = bliss_encoder.sample_vsbc(batch_on_device, use_mode=True)\n",
    "        bliss_vsbc_tile_cat = bliss_vsbc_tile_cat.filter_by_flux(\n",
    "            min_flux=r_band_min_flux,\n",
    "            band=2,\n",
    "        )\n",
    "    bliss_vsbc_tile_cat_list.append(move_tile_cat_to_device(bliss_vsbc_tile_cat, device=\"cpu\"))"
   ]
  },
  {
   "cell_type": "code",
   "execution_count": 6,
   "metadata": {},
   "outputs": [],
   "source": [
    "ellipticity1_vsbc_list = []\n",
    "ellipticity2_vsbc_list = []\n",
    "mask_list = []\n",
    "for bliss_vsbc_tile_cat in bliss_vsbc_tile_cat_list:\n",
    "    ellipticity_vsbc = bliss_vsbc_tile_cat[\"ellipticity_vsbc\"]\n",
    "    ellipticity1_vsbc_list.append(ellipticity_vsbc[..., 0])\n",
    "    ellipticity2_vsbc_list.append(ellipticity_vsbc[..., 1])\n",
    "    mask_list.append(bliss_vsbc_tile_cat.is_on_mask)\n",
    "\n",
    "ellipticity1_vsbc = torch.cat(ellipticity1_vsbc_list, dim=0).flatten()\n",
    "ellipticity2_vsbc = torch.cat(ellipticity2_vsbc_list, dim=0).flatten()\n",
    "mask = torch.cat(mask_list, dim=0).flatten()"
   ]
  },
  {
   "cell_type": "code",
   "execution_count": 12,
   "metadata": {},
   "outputs": [
    {
     "data": {
      "image/png": "[encoded data removed]",
      "text/plain": [
       "<Figure size 640x480 with 1 Axes>"
      ]
     },
     "metadata": {},
     "output_type": "display_data"
    }
   ],
   "source": [
    "plt.hist(ellipticity1_vsbc[mask & ~ellipticity1_vsbc.isnan()], density=True, bins=50)\n",
    "plt.show()"
   ]
  },
  {
   "cell_type": "code",
   "execution_count": 13,
   "metadata": {},
   "outputs": [
    {
     "data": {
      "image/png": "[encoded data removed]",
      "text/plain": [
       "<Figure size 640x480 with 1 Axes>"
      ]
     },
     "metadata": {},
     "output_type": "display_data"
    }
   ],
   "source": [
    "plt.hist(ellipticity2_vsbc[mask & ~ellipticity2_vsbc.isnan()], density=True, bins=50)\n",
    "plt.show()"
   ]
  }
 ],
 "metadata": {
  "kernelspec": {
   "display_name": ".venv",
   "language": "python",
   "name": "python3"
  },
  "language_info": {
   "codemirror_mode": {
    "name": "ipython",
    "version": 3
   },
   "file_extension": ".py",
   "mimetype": "text/x-python",
   "name": "python",
   "nbconvert_exporter": "python",
   "pygments_lexer": "ipython3",
   "version": "3.10.12"
  }
 },
 "nbformat": 4,
 "nbformat_minor": 2
}

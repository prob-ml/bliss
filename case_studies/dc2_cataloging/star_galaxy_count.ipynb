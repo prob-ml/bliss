{
 "cells": [
  {
   "cell_type": "code",
   "execution_count": 1,
   "metadata": {},
   "outputs": [],
   "source": [
    "import torch\n",
    "from hydra import initialize, compose\n",
    "from hydra.utils import instantiate\n",
    "from bliss.surveys.dc2 import DC2DataModule\n",
    "import tqdm\n",
    "from bliss.catalog import TileCatalog\n",
    "from bliss.global_settings import GlobalSettings"
   ]
  },
  {
   "cell_type": "code",
   "execution_count": 2,
   "metadata": {},
   "outputs": [
    {
     "name": "stderr",
     "output_type": "stream",
     "text": [
      "WARNING: cached data already exists at [/home/pduan/bliss_output/dc2_cached_data], we directly use it\n",
      "\n"
     ]
    }
   ],
   "source": [
    "with initialize(config_path=\".\", version_base=None):\n",
    "    notebook_cfg = compose(\"notebook_config\")\n",
    "dc2: DC2DataModule = instantiate(notebook_cfg.surveys.dc2)\n",
    "dc2.prepare_data()\n",
    "dc2.setup(\"fit\")\n",
    "\n",
    "dc2_train_dataloader = dc2.train_dataloader()\n",
    "device = torch.device(\"cpu\")"
   ]
  },
  {
   "cell_type": "code",
   "execution_count": 3,
   "metadata": {},
   "outputs": [
    {
     "name": "stderr",
     "output_type": "stream",
     "text": [
      "100%|██████████| 3047/3047 [07:23<00:00,  6.87it/s]\n"
     ]
    }
   ],
   "source": [
    "n_star = 0\n",
    "n_galaxy = 0\n",
    "GlobalSettings.seed_in_this_program = 0\n",
    "GlobalSettings.current_encoder_epoch = 0\n",
    "for batch in tqdm.tqdm(dc2_train_dataloader):\n",
    "    tile_cat = TileCatalog(4, batch[\"tile_catalog\"])\n",
    "    star_count = tile_cat.star_bools.sum().item()\n",
    "    galaxy_count = tile_cat.galaxy_bools.sum().item()\n",
    "    n_star += star_count\n",
    "    n_galaxy += galaxy_count"
   ]
  },
  {
   "cell_type": "code",
   "execution_count": 4,
   "metadata": {},
   "outputs": [
    {
     "name": "stdout",
     "output_type": "stream",
     "text": [
      "star count: 35646\n",
      "galaxy count: 1170188\n"
     ]
    }
   ],
   "source": [
    "print(f\"star count: {n_star}\")\n",
    "print(f\"galaxy count: {n_galaxy}\")"
   ]
  },
  {
   "cell_type": "code",
   "execution_count": 6,
   "metadata": {},
   "outputs": [
    {
     "name": "stdout",
     "output_type": "stream",
     "text": [
      "per full image star: 445.575\n",
      "per full image galaxy: 14627.35\n",
      "star percent: 0.029561282896319062\n",
      "galaxy percent: 0.9704387171036809\n"
     ]
    }
   ],
   "source": [
    "print(f\"per full image star: {n_star / 0.8 / 100}\")\n",
    "print(f\"per full image galaxy: {n_galaxy / 0.8 / 100}\")\n",
    "print(f\"star percent: {n_star / (n_star + n_galaxy)}\")\n",
    "print(f\"galaxy percent: {n_galaxy / (n_star + n_galaxy)}\")"
   ]
  }
 ],
 "metadata": {
  "kernelspec": {
   "display_name": ".venv",
   "language": "python",
   "name": "python3"
  },
  "language_info": {
   "codemirror_mode": {
    "name": "ipython",
    "version": 3
   },
   "file_extension": ".py",
   "mimetype": "text/x-python",
   "name": "python",
   "nbconvert_exporter": "python",
   "pygments_lexer": "ipython3",
   "version": "3.10.12"
  }
 },
 "nbformat": 4,
 "nbformat_minor": 2
}

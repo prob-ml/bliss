{
 "cells": [
  {
   "cell_type": "code",
   "execution_count": null,
   "id": "62e3222e",
   "metadata": {},
   "outputs": [],
   "source": [
    "import torch\n",
    "import tqdm\n",
    "import os\n",
    "from pathlib import Path\n",
    "\n",
    "from hydra import initialize, compose\n",
    "from hydra.utils import instantiate\n",
    "import pytorch_lightning\n",
    "from pytorch_lightning.utilities import move_data_to_device\n",
    "\n",
    "from bliss.surveys.dc2 import DC2DataModule\n",
    "from bliss.catalog import TileCatalog\n",
    "from case_studies.dc2_cataloging.utils.encoder import CalibrationEncoder"
   ]
  },
  {
   "cell_type": "code",
   "execution_count": 2,
   "id": "ec0e2a68",
   "metadata": {},
   "outputs": [],
   "source": [
    "model_name = \"exp_03-30-1\"\n",
    "model_check_point_name = \"encoder_44.ckpt\"\n",
    "model_path = f\"../../../bliss_output/DC2_cataloging_exp/{model_name}/checkpoints/{model_check_point_name}\"\n",
    "cached_data_path = Path(\"/data/scratch/pduan/posterior_cached_files\")\n",
    "device = torch.device(\"cuda:2\")\n",
    "with initialize(config_path=\"./\", version_base=None):\n",
    "    notebook_cfg = compose(\"notebook_config\")\n",
    "notebook_cfg.encoder.use_double_detect = True\n",
    "notebook_cfg.encoder.minimalist_conditioning = False\n",
    "notebook_cfg.encoder.use_checkerboard = False"
   ]
  },
  {
   "cell_type": "code",
   "execution_count": 3,
   "id": "bf78519a",
   "metadata": {},
   "outputs": [
    {
     "name": "stderr",
     "output_type": "stream",
     "text": [
      "Seed set to 7272\n"
     ]
    },
    {
     "data": {
      "text/plain": [
       "7272"
      ]
     },
     "execution_count": 3,
     "metadata": {},
     "output_type": "execute_result"
    }
   ],
   "source": [
    "seed = 7272\n",
    "pytorch_lightning.seed_everything(seed=seed)"
   ]
  },
  {
   "cell_type": "code",
   "execution_count": 4,
   "id": "f4c56ab9",
   "metadata": {},
   "outputs": [],
   "source": [
    "batch_size = 800\n",
    "dc2: DC2DataModule = instantiate(notebook_cfg.surveys.dc2)\n",
    "dc2.batch_size = batch_size\n",
    "dc2.setup(stage=\"validate\")\n",
    "dc2_val_dataloader = dc2.val_dataloader()\n",
    "\n",
    "bliss_encoder: CalibrationEncoder = instantiate(notebook_cfg.encoder).to(device=device)\n",
    "pretrained_weights = torch.load(model_path, map_location=device)[\"state_dict\"]\n",
    "bliss_encoder.load_state_dict(pretrained_weights)\n",
    "bliss_encoder.eval();"
   ]
  },
  {
   "cell_type": "code",
   "execution_count": 5,
   "id": "df3c84c3",
   "metadata": {},
   "outputs": [
    {
     "name": "stdout",
     "output_type": "stream",
     "text": [
      "can't find cached file [bliss_posterior_exp_03-30-1_encoder_44.ckpt_whole_val_set_seed_7272.pt]; rerun the inference\n"
     ]
    },
    {
     "name": "stderr",
     "output_type": "stream",
     "text": [
      "100%|██████████| 32/32 [01:59<00:00,  3.75s/it]\n"
     ]
    }
   ],
   "source": [
    "bliss_cached_file_name = f\"bliss_posterior_{model_name}_{model_check_point_name}_whole_val_set_\" \\\n",
    "                         f\"seed_{seed}.pt\"\n",
    "save_path = cached_data_path / bliss_cached_file_name\n",
    "\n",
    "if not os.path.isfile(save_path):\n",
    "    print(f\"can't find cached file [{bliss_cached_file_name}]; rerun the inference\")\n",
    "\n",
    "    bliss_result_dict = {\n",
    "        \"pred_n_sources_list\": [],\n",
    "        \"pred_locs_list\": [],\n",
    "        \"pred_fluxes_list\": [],\n",
    "        \"target_n_sources_list\": [],\n",
    "        \"target_locs_list\": [],\n",
    "        \"target_fluxes_list\": [],\n",
    "    }\n",
    "\n",
    "    for one_batch in tqdm.tqdm(dc2_val_dataloader):\n",
    "        one_batch = move_data_to_device(one_batch, device=device)\n",
    "\n",
    "        target_tile_cat = TileCatalog(one_batch[\"tile_catalog\"])\n",
    "        bliss_result_dict[\"target_n_sources_list\"].append(target_tile_cat[\"n_sources\"].cpu())\n",
    "        target_tile_cat = target_tile_cat.get_brightest_sources_per_tile(band=2)\n",
    "        bliss_result_dict[\"target_locs_list\"].append(target_tile_cat[\"locs\"].cpu())\n",
    "        bliss_result_dict[\"target_fluxes_list\"].append(target_tile_cat[\"fluxes\"].cpu())\n",
    "\n",
    "        with torch.inference_mode():\n",
    "            sample_tile_cat = bliss_encoder.sample(one_batch, use_mode=False)\n",
    "\n",
    "        bliss_result_dict[\"pred_n_sources_list\"].append(sample_tile_cat[\"n_sources\"].cpu())\n",
    "        bliss_result_dict[\"pred_locs_list\"].append(sample_tile_cat[\"locs\"][..., 0:1, :].cpu())  # (b, h, w, 1, 2)\n",
    "        bliss_result_dict[\"pred_fluxes_list\"].append(sample_tile_cat[\"fluxes\"][..., 0:1, :].cpu())  # (b, h, w, 1, 6)\n",
    "\n",
    "    torch.save(bliss_result_dict, save_path)\n",
    "else:\n",
    "    print(f\"find the cached file [{bliss_cached_file_name}]; run nothing\")"
   ]
  }
 ],
 "metadata": {
  "kernelspec": {
   "display_name": ".venv",
   "language": "python",
   "name": "python3"
  },
  "language_info": {
   "codemirror_mode": {
    "name": "ipython",
    "version": 3
   },
   "file_extension": ".py",
   "mimetype": "text/x-python",
   "name": "python",
   "nbconvert_exporter": "python",
   "pygments_lexer": "ipython3",
   "version": "3.10.12"
  }
 },
 "nbformat": 4,
 "nbformat_minor": 5
}

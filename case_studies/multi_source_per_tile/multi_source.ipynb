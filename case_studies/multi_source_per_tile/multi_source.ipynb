{
 "cells": [
  {
   "cell_type": "code",
   "execution_count": null,
   "metadata": {},
   "outputs": [],
   "source": [
    "%matplotlib inline\n",
    "%load_ext autoreload\n",
    "%autoreload 2"
   ]
  },
  {
   "cell_type": "code",
   "execution_count": null,
   "metadata": {},
   "outputs": [],
   "source": [
    "from os import environ\n",
    "from pathlib import Path\n",
    "\n",
    "import numpy as np\n",
    "import torch\n",
    "from torch.utils.data import DataLoader\n",
    "import matplotlib.pyplot as plt\n",
    "\n",
    "from hydra import compose, initialize\n",
    "from hydra.utils import instantiate\n",
    "\n",
    "from bliss.catalog import TileCatalog"
   ]
  },
  {
   "cell_type": "code",
   "execution_count": null,
   "metadata": {},
   "outputs": [],
   "source": [
    "# set bliss home directory and load config\n",
    "environ[\"BLISS_HOME\"] = str(Path().resolve().parents[1])\n",
    "with initialize(config_path=\".\", version_base=None):\n",
    "    cfg = compose(\"config\")"
   ]
  },
  {
   "attachments": {},
   "cell_type": "markdown",
   "metadata": {},
   "source": [
    "# Load data"
   ]
  },
  {
   "cell_type": "code",
   "execution_count": null,
   "metadata": {},
   "outputs": [],
   "source": [
    "with open(\"data/synthetic_image.pt\", \"rb\") as f:\n",
    "    data = torch.load(f)\n",
    "\n",
    "dataloader = DataLoader(data, batch_size=1, shuffle=False)\n",
    "batch = next(iter(dataloader))"
   ]
  },
  {
   "cell_type": "code",
   "execution_count": null,
   "metadata": {},
   "outputs": [],
   "source": [
    "tile_cat = TileCatalog(4, batch[\"tile_catalog\"])\n",
    "full_cat = tile_cat.to_full_catalog()\n",
    "\n",
    "# generate target catalog by restricting to brightest source in tile and filtering by detectable flux\n",
    "target_cat = tile_cat.get_brightest_sources_per_tile()\n",
    "target_cat = target_cat.filter_tile_catalog_by_flux(min_flux=cfg.encoder.min_flux_threshold)\n",
    "target_cat = target_cat.to_full_catalog()"
   ]
  },
  {
   "attachments": {},
   "cell_type": "markdown",
   "metadata": {},
   "source": [
    "# Load Model"
   ]
  },
  {
   "cell_type": "code",
   "execution_count": null,
   "metadata": {},
   "outputs": [],
   "source": [
    "model = instantiate(cfg.encoder)\n",
    "model.load_state_dict(torch.load(\"/data/scratch/aakash/models/multi_source/single_band_filtered_flux.pt\"))\n",
    "model.eval();"
   ]
  },
  {
   "cell_type": "code",
   "execution_count": null,
   "metadata": {},
   "outputs": [],
   "source": [
    "# make predictions on batch\n",
    "results = model.predict_step(batch, None, None)"
   ]
  },
  {
   "attachments": {},
   "cell_type": "markdown",
   "metadata": {},
   "source": [
    "# Plot Results"
   ]
  },
  {
   "cell_type": "code",
   "execution_count": null,
   "metadata": {},
   "outputs": [],
   "source": [
    "fig, ax = plt.subplots(figsize=(6, 6))\n",
    "\n",
    "# Plot image\n",
    "image = batch[\"images\"][0, 2]\n",
    "h, w = image.shape\n",
    "ax.matshow(image)\n",
    "\n",
    "# Plot locs\n",
    "est_cat = results[\"est_cat\"].to_full_catalog()\n",
    "\n",
    "full_cat.plot_plocs(ax, 0, \"all\", c=\"r\", s=30, marker=\"X\", linewidths=0.5, edgecolors=\"k\", label=\"Filtered Out\")\n",
    "target_cat.plot_plocs(ax, 0, \"all\", c=\"b\", s=30, marker=\"X\", linewidth=0.5, edgecolors=\"w\", label=\"Target\")\n",
    "est_cat.plot_plocs(ax, 0, \"all\", 4, c=\"y\", s=30, marker=\"P\", linewidth=0.5, edgecolors=\"k\", label=\"Predicted\")\n",
    "\n",
    "# Show grid and legend \n",
    "ticks = np.arange(-0.5, h - 0.5, 4)\n",
    "labels = (ticks + 0.5).astype(int)\n",
    "ax.set_xticks(ticks, labels)\n",
    "ax.set_yticks(ticks, labels)\n",
    "ax.grid(linestyle=\"--\")\n",
    "handles, labels = ax.get_legend_handles_labels()\n",
    "fig.legend(handles, labels, loc='lower center', ncol=3, bbox_to_anchor=(0, -0.01, 1, 1), fontsize=10)\n",
    "fig.tight_layout()"
   ]
  }
 ],
 "metadata": {
  "kernelspec": {
   "display_name": "bliss-deblender-av05Bskt-py3.10",
   "language": "python",
   "name": "python3"
  },
  "language_info": {
   "codemirror_mode": {
    "name": "ipython",
    "version": 3
   },
   "file_extension": ".py",
   "mimetype": "text/x-python",
   "name": "python",
   "nbconvert_exporter": "python",
   "pygments_lexer": "ipython3",
   "version": "3.10.12"
  },
  "orig_nbformat": 4
 },
 "nbformat": 4,
 "nbformat_minor": 2
}

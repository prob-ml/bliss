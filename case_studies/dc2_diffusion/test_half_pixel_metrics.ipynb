{
 "cells": [
  {
   "cell_type": "code",
   "execution_count": 1,
   "metadata": {},
   "outputs": [],
   "source": [
    "import torch\n",
    "import logging\n",
    "import tqdm\n",
    "import time\n",
    "\n",
    "from einops import repeat\n",
    "\n",
    "from hydra import initialize, compose\n",
    "from hydra.utils import instantiate\n",
    "from pytorch_lightning.utilities import move_data_to_device\n",
    "from bliss.surveys.dc2 import DC2DataModule\n",
    "from bliss.catalog import TileCatalog\n",
    "from bliss.encoder.metrics import CatalogMatcher\n",
    "from case_studies.dc2_diffusion.utils.metrics import DetectionPerformance\n",
    "\n",
    "# set device\n",
    "device = torch.device(\"cuda:3\" if torch.cuda.is_available() else \"cpu\")\n",
    "\n",
    "# load config\n",
    "with initialize(config_path=\".\", version_base=None):\n",
    "    notebook_cfg = compose(\"half_pixel_notebook_config\")"
   ]
  },
  {
   "cell_type": "code",
   "execution_count": 2,
   "metadata": {},
   "outputs": [],
   "source": [
    "# setup bliss encoder\n",
    "tile_slen = notebook_cfg.surveys.dc2.tile_slen\n",
    "max_sources_per_tile = 2\n",
    "\n",
    "dc2: DC2DataModule = instantiate(notebook_cfg.surveys.dc2)\n",
    "dc2.setup(stage=\"validate\")\n",
    "dc2_val_dataloader = dc2.val_dataloader()"
   ]
  },
  {
   "cell_type": "code",
   "execution_count": 3,
   "metadata": {},
   "outputs": [
    {
     "name": "stderr",
     "output_type": "stream",
     "text": [
      "100%|██████████| 782/782 [03:15<00:00,  4.01it/s]\n"
     ]
    }
   ],
   "source": [
    "matcher = CatalogMatcher()\n",
    "f1_metric = DetectionPerformance().to(device=device)\n",
    "for batch in tqdm.tqdm(dc2_val_dataloader):\n",
    "    batch_on_device = move_data_to_device(batch, device=device)\n",
    "    target_tile_cat = TileCatalog(batch_on_device[\"tile_catalog\"])\n",
    "    target_full_cat = target_tile_cat.to_full_catalog(tile_slen)\n",
    "    best_tile_dict = batch_on_device[\"tile_catalog\"]\n",
    "    best_tile_dict[\"locs\"] = repeat(best_tile_dict[\"n_sources\"] * 0.5, \n",
    "                                    \"b h w -> b h w m k\", \n",
    "                                    m=max_sources_per_tile, k=2)\n",
    "    best_tile_cat = TileCatalog(best_tile_dict)\n",
    "    best_full_cat = best_tile_cat.to_full_catalog(tile_slen)\n",
    "    matching = matcher.match_catalogs(target_full_cat, best_full_cat)\n",
    "    f1_metric.update(target_full_cat, best_full_cat, matching)"
   ]
  },
  {
   "cell_type": "code",
   "execution_count": 4,
   "metadata": {},
   "outputs": [
    {
     "name": "stdout",
     "output_type": "stream",
     "text": [
      "detection_precision: 1.0\n",
      "detection_recall: 1.0\n",
      "detection_f1: 1.0\n"
     ]
    }
   ],
   "source": [
    "for k, v in f1_metric.compute().items():\n",
    "    print(f\"{k}: {v}\")"
   ]
  }
 ],
 "metadata": {
  "kernelspec": {
   "display_name": ".venv",
   "language": "python",
   "name": "python3"
  },
  "language_info": {
   "codemirror_mode": {
    "name": "ipython",
    "version": 3
   },
   "file_extension": ".py",
   "mimetype": "text/x-python",
   "name": "python",
   "nbconvert_exporter": "python",
   "pygments_lexer": "ipython3",
   "version": "3.10.12"
  }
 },
 "nbformat": 4,
 "nbformat_minor": 2
}

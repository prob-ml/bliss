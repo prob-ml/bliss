{
 "cells": [
  {
   "cell_type": "code",
   "execution_count": 1,
   "metadata": {},
   "outputs": [],
   "source": [
    "import torch\n",
    "import tqdm\n",
    "\n",
    "from hydra import initialize, compose\n",
    "from hydra.utils import instantiate\n",
    "from pytorch_lightning.utilities import move_data_to_device\n",
    "\n",
    "from bliss.surveys.dc2 import DC2DataModule\n",
    "from case_studies.dc2_diffusion.utils.slim_encoder import SlimDiffusionEncoder\n",
    "from case_studies.dc2_diffusion.utils.only_locs_encoder import OnlyLocsDiffusionEncoder"
   ]
  },
  {
   "cell_type": "code",
   "execution_count": 2,
   "metadata": {},
   "outputs": [],
   "source": [
    "model_name = \"exp_01-23-1\"\n",
    "model_path = f\"../../../bliss_output/DC2_only_locs_diffusion_exp/{model_name}/checkpoints/best_encoder.ckpt\"\n",
    "device = torch.device(\"cuda:1\" if torch.cuda.is_available() else \"cpu\")\n",
    "with initialize(config_path=\".\", version_base=None):\n",
    "    slim_notebook_cfg = compose(\"only_locs_notebook_config\")"
   ]
  },
  {
   "cell_type": "code",
   "execution_count": 3,
   "metadata": {},
   "outputs": [],
   "source": [
    "tile_slen = slim_notebook_cfg.surveys.dc2.tile_slen\n",
    "max_sources_per_tile = slim_notebook_cfg.surveys.dc2.max_sources_per_tile\n",
    "r_band_min_flux = slim_notebook_cfg.notebook_var.r_band_min_flux\n",
    "\n",
    "dc2: DC2DataModule = instantiate(slim_notebook_cfg.surveys.dc2)\n",
    "dc2.setup(stage=\"validate\")\n",
    "dc2_val_dataloader = dc2.val_dataloader()\n",
    "\n",
    "bliss_encoder: OnlyLocsDiffusionEncoder = instantiate(slim_notebook_cfg.encoder).to(device=device)\n",
    "pretrained_weights = torch.load(model_path, map_location=device)[\"state_dict\"]\n",
    "bliss_encoder.load_state_dict(pretrained_weights)\n",
    "bliss_encoder = bliss_encoder.eval()"
   ]
  },
  {
   "cell_type": "code",
   "execution_count": null,
   "metadata": {},
   "outputs": [],
   "source": [
    "print(bliss_encoder.ddim_steps)\n",
    "print(bliss_encoder.ddim_objective)\n",
    "print(bliss_encoder.ddim_beta_schedule)\n",
    "# print(bliss_encoder.ddim_self_cond)\n",
    "# print(bliss_encoder.add_fake_tiles)\n",
    "# print(bliss_encoder.empty_tile_random_noise)\n",
    "# print(bliss_encoder.correct_bits)"
   ]
  },
  {
   "cell_type": "code",
   "execution_count": null,
   "metadata": {},
   "outputs": [],
   "source": [
    "print(bliss_encoder.catalog_parser.factors[0].threshold)"
   ]
  },
  {
   "cell_type": "code",
   "execution_count": 6,
   "metadata": {},
   "outputs": [],
   "source": [
    "bliss_encoder.catalog_parser.factors[0].threshold = 0.5"
   ]
  },
  {
   "cell_type": "code",
   "execution_count": null,
   "metadata": {},
   "outputs": [],
   "source": [
    "for ddim_steps in [1, 2, 5, 10, 50, 100, 200]:\n",
    "    dc2_val_dataloader = dc2.val_dataloader()\n",
    "    bliss_encoder.ddim_steps = ddim_steps\n",
    "    bliss_encoder.detection_diffusion.sampling_timesteps = ddim_steps\n",
    "    \n",
    "    bliss_encoder.mode_metrics.reset()\n",
    "    i = 0\n",
    "    for batch in tqdm.tqdm(dc2_val_dataloader):\n",
    "        batch_on_device = move_data_to_device(batch, device=device)\n",
    "        with torch.no_grad():\n",
    "            bliss_encoder.update_metrics(batch_on_device, i)\n",
    "        i += 1\n",
    "        \n",
    "    for k, v in bliss_encoder.mode_metrics.compute().items():\n",
    "        if \"detection\" in k:\n",
    "            print(f\"(ddim_steps={ddim_steps}) {k}: {v:0.5f}\")\n",
    "        if \"n_est\" in k:\n",
    "            print(f\"(ddim_steps={ddim_steps}) {k}: {int(v)}\")"
   ]
  },
  {
   "cell_type": "code",
   "execution_count": null,
   "metadata": {},
   "outputs": [],
   "source": [
    "dc2_val_dataloader = dc2.val_dataloader()\n",
    "bliss_encoder.ddim_steps = 1000\n",
    "bliss_encoder.detection_diffusion.sampling_timesteps = 1000\n",
    "bliss_encoder.detection_diffusion.ddim_sampling_eta = 1.0  # use ddpm\n",
    "\n",
    "bliss_encoder.mode_metrics.reset()\n",
    "i = 0\n",
    "for batch in tqdm.tqdm(dc2_val_dataloader):\n",
    "    batch_on_device = move_data_to_device(batch, device=device)\n",
    "    with torch.no_grad():\n",
    "        bliss_encoder.update_metrics(batch_on_device, i)\n",
    "    i += 1\n",
    "\n",
    "for k, v in bliss_encoder.mode_metrics.compute().items():\n",
    "    if \"detection\" in k:\n",
    "        print(f\"{k}: {v:0.5f}\")\n",
    "    if \"n_est\" in k:\n",
    "        print(f\"{k}: {v}\")"
   ]
  }
 ],
 "metadata": {
  "kernelspec": {
   "display_name": ".venv",
   "language": "python",
   "name": "python3"
  },
  "language_info": {
   "codemirror_mode": {
    "name": "ipython",
    "version": 3
   },
   "file_extension": ".py",
   "mimetype": "text/x-python",
   "name": "python",
   "nbconvert_exporter": "python",
   "pygments_lexer": "ipython3",
   "version": "3.10.12"
  }
 },
 "nbformat": 4,
 "nbformat_minor": 2
}

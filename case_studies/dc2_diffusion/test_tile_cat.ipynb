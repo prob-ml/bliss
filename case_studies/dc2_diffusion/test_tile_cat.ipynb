{
 "cells": [
  {
   "cell_type": "code",
   "execution_count": 1,
   "metadata": {},
   "outputs": [],
   "source": [
    "import torch\n",
    "import logging\n",
    "import tqdm\n",
    "import time\n",
    "\n",
    "from hydra import initialize, compose\n",
    "from hydra.utils import instantiate\n",
    "from pytorch_lightning.utilities import move_data_to_device\n",
    "from bliss.surveys.dc2 import DC2DataModule\n",
    "from bliss.catalog import TileCatalog\n",
    "from bliss.encoder.metrics import CatalogMatcher\n",
    "\n",
    "# set device\n",
    "device = torch.device(\"cuda:3\" if torch.cuda.is_available() else \"cpu\")\n",
    "\n",
    "# load config\n",
    "with initialize(config_path=\".\", version_base=None):\n",
    "    notebook_cfg = compose(\"half_pixel_notebook_config\")"
   ]
  },
  {
   "cell_type": "code",
   "execution_count": 2,
   "metadata": {},
   "outputs": [],
   "source": [
    "def test_tile_cat_equal(left_tile_cat, right_tile_cat):\n",
    "    logger = logging.getLogger(__name__)\n",
    "    is_equal = True\n",
    "    for k, v in left_tile_cat.items():\n",
    "        if k == \"n_sources\":\n",
    "            right_v = right_tile_cat[k]\n",
    "            left_v = v\n",
    "        else:\n",
    "            right_v = torch.where(right_tile_cat.is_on_mask.unsqueeze(-1),\n",
    "                                right_tile_cat[k],\n",
    "                                torch.zeros_like(right_tile_cat[k]))\n",
    "            left_v = torch.where(left_tile_cat.is_on_mask.unsqueeze(-1),\n",
    "                                v, torch.zeros_like(v))\n",
    "        cur_test_equal = torch.allclose(left_v, right_v, equal_nan=True)\n",
    "        if not cur_test_equal:\n",
    "            logger.warning(\"%s are different\", k)\n",
    "        is_equal &= cur_test_equal\n",
    "    return is_equal"
   ]
  },
  {
   "cell_type": "code",
   "execution_count": 3,
   "metadata": {},
   "outputs": [],
   "source": [
    "# setup bliss encoder\n",
    "tile_slen = notebook_cfg.surveys.dc2.tile_slen\n",
    "max_sources_per_tile = 2\n",
    "\n",
    "dc2: DC2DataModule = instantiate(notebook_cfg.surveys.dc2)\n",
    "dc2.setup(stage=\"validate\")\n",
    "dc2_val_dataloader = dc2.val_dataloader()"
   ]
  },
  {
   "cell_type": "code",
   "execution_count": 4,
   "metadata": {},
   "outputs": [],
   "source": [
    "total_batch_num = len(dc2_val_dataloader)"
   ]
  },
  {
   "cell_type": "code",
   "execution_count": null,
   "metadata": {},
   "outputs": [],
   "source": [
    "load_data_start_time = time.time()\n",
    "for batch in tqdm.tqdm(dc2_val_dataloader):\n",
    "    pass\n",
    "load_data_end_time = time.time()\n",
    "print(f\"load data time: {load_data_end_time - load_data_start_time:0.2f}\")\n",
    "print(f\"load data per batch time: {(load_data_end_time - load_data_start_time) / total_batch_num:0.2f}\")"
   ]
  },
  {
   "cell_type": "code",
   "execution_count": null,
   "metadata": {},
   "outputs": [],
   "source": [
    "dc2_val_dataloader = dc2.val_dataloader()\n",
    "to_full_time = 0\n",
    "to_tile_time = 0\n",
    "for batch in tqdm.tqdm(dc2_val_dataloader):\n",
    "    batch_on_device = move_data_to_device(batch, device=device)\n",
    "    ori_tile_cat = TileCatalog(batch_on_device[\"tile_catalog\"])\n",
    "\n",
    "    to_full_start_time = time.time()\n",
    "    full_cat = ori_tile_cat.to_full_catalog(tile_slen)\n",
    "    to_full_end_time = time.time()\n",
    "    to_full_time += (to_full_end_time - to_full_start_time)\n",
    "\n",
    "    to_tile_start_time = time.time()\n",
    "    back_tile_cat = full_cat.to_tile_catalog(tile_slen, max_sources_per_tile=max_sources_per_tile)\n",
    "    to_tile_end_time = time.time()\n",
    "    to_tile_time += (to_tile_end_time - to_tile_start_time)\n",
    "    \n",
    "    assert test_tile_cat_equal(back_tile_cat, ori_tile_cat)\n",
    "print(f\"to full time: {to_full_time:0.2f}\")\n",
    "print(f\"to tile time: {to_tile_time:0.2f}\")\n",
    "print(f\"to full time per batch: {to_full_time / total_batch_num:0.5f}\")\n",
    "print(f\"to tile time per batch: {to_tile_time / total_batch_num:0.5f}\")"
   ]
  },
  {
   "cell_type": "code",
   "execution_count": null,
   "metadata": {},
   "outputs": [],
   "source": [
    "matcher = CatalogMatcher(dist_slack=0.1)\n",
    "def test_full_cat_equal(left_full_cat, right_full_cat):\n",
    "    for k, v in left_full_cat.items():\n",
    "        if k == \"n_sources\":\n",
    "            assert torch.allclose(left_full_cat[k], right_full_cat[k])\n",
    "        elif k == \"plocs\":\n",
    "            matching = matcher.match_catalogs(true_cat=left_full_cat, \n",
    "                                              est_cat=right_full_cat)\n",
    "            for i, (true_match, est_match) in enumerate(matching):\n",
    "                assert len(true_match) == len(est_match)\n",
    "                assert len(true_match) == left_full_cat[\"n_sources\"][i]"
   ]
  },
  {
   "cell_type": "code",
   "execution_count": null,
   "metadata": {},
   "outputs": [],
   "source": [
    "dc2_val_dataloader = dc2.val_dataloader()\n",
    "for batch in tqdm.tqdm(dc2_val_dataloader):\n",
    "    batch_on_device = move_data_to_device(batch, device=device)\n",
    "    # if batch_on_device[\"tile_catalog\"][\"n_sources\"].max() > 1:\n",
    "    #     continue\n",
    "    \n",
    "    ori_tile_cat = TileCatalog(batch_on_device[\"tile_catalog\"])\n",
    "    ori_full_cat = ori_tile_cat.to_full_catalog(tile_slen)\n",
    "    larger_tile_cat = ori_full_cat.to_tile_catalog(4, max_sources_per_tile * 2)\n",
    "    new_full_cat = larger_tile_cat.to_full_catalog(4)\n",
    "    \n",
    "    test_full_cat_equal(ori_full_cat, new_full_cat)"
   ]
  }
 ],
 "metadata": {
  "kernelspec": {
   "display_name": ".venv",
   "language": "python",
   "name": "python3"
  },
  "language_info": {
   "codemirror_mode": {
    "name": "ipython",
    "version": 3
   },
   "file_extension": ".py",
   "mimetype": "text/x-python",
   "name": "python",
   "nbconvert_exporter": "python",
   "pygments_lexer": "ipython3",
   "version": "3.10.12"
  }
 },
 "nbformat": 4,
 "nbformat_minor": 2
}

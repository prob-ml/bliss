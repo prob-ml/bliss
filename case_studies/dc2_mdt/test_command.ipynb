{
 "cells": [
  {
   "cell_type": "code",
   "execution_count": 3,
   "id": "38436506",
   "metadata": {},
   "outputs": [
    {
     "name": "stdout",
     "output_type": "stream",
     "text": [
      "run mdt\n",
      "great_lake_exp_04-13-1\n",
      "[0]\n",
      "run simple_net\n",
      "great_lake_exp_04-13-2\n",
      "[1]\n",
      "run simple_net_speed\n",
      "great_lake_exp_04-13-3\n",
      "[2]\n",
      "run simple_ar_net\n",
      "great_lake_exp_04-13-4\n",
      "[3]\n",
      "run simple_cond_true_net\n",
      "great_lake_exp_04-13-5\n",
      "[4]\n"
     ]
    }
   ],
   "source": [
    "%%bash\n",
    "\n",
    "tasks=(\"mdt\" \"simple_net\" \"simple_net_speed\" \"simple_ar_net\" \"simple_cond_true_net\")\n",
    "for i in \"${!tasks[@]}\"; do\n",
    "    task_name=\"${tasks[i]}\"\n",
    "    echo \"run ${task_name}\"\n",
    "    echo \"great_lake_exp_$(date +\"%m-%d\")-$((i+1))\"\n",
    "    echo \"[$i]\"\n",
    "done"
   ]
  },
  {
   "cell_type": "code",
   "execution_count": 3,
   "id": "b5c64a4c",
   "metadata": {},
   "outputs": [
    {
     "name": "stdout",
     "output_type": "stream",
     "text": [
      "sleep pre value: 1\n",
      "sleep pre r: 11417\n",
      "dont_sleep pre value: 2\n",
      "dont_sleep pre r: 3085\n",
      "dont_sleep post value: 2\n",
      "dont_sleep post r: 3085\n",
      "sleep post value: 1\n",
      "sleep post r: 11417\n"
     ]
    }
   ],
   "source": [
    "%%bash\n",
    "\n",
    "function run_exp() {\n",
    "    tag=$1\n",
    "    value=$2\n",
    "    r=$RANDOM\n",
    "\n",
    "    echo \"${tag} pre value: ${value}\"\n",
    "    echo \"${tag} pre r: ${r}\"\n",
    "\n",
    "    if [ $tag = \"sleep\" ]; then\n",
    "        sleep 3\n",
    "    fi\n",
    "    \n",
    "    echo \"${tag} post value: ${value}\"\n",
    "    echo \"${tag} post r: ${r}\"\n",
    "}\n",
    "\n",
    "run_exp sleep 1 &\n",
    "sleep 1\n",
    "run_exp dont_sleep 2 &\n",
    "wait"
   ]
  }
 ],
 "metadata": {
  "kernelspec": {
   "display_name": ".venv",
   "language": "python",
   "name": "python3"
  },
  "language_info": {
   "codemirror_mode": {
    "name": "ipython",
    "version": 3
   },
   "file_extension": ".py",
   "mimetype": "text/x-python",
   "name": "python",
   "nbconvert_exporter": "python",
   "pygments_lexer": "ipython3",
   "version": "3.10.12"
  }
 },
 "nbformat": 4,
 "nbformat_minor": 5
}

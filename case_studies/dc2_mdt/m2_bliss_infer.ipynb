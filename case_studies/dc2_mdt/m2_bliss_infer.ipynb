{
 "cells": [
  {
   "cell_type": "code",
   "execution_count": 1,
   "id": "3f8991af",
   "metadata": {},
   "outputs": [],
   "source": [
    "import torch\n",
    "import tqdm\n",
    "import os\n",
    "\n",
    "from pathlib import Path\n",
    "\n",
    "from hydra import initialize, compose\n",
    "from hydra.utils import instantiate\n",
    "import pytorch_lightning\n",
    "from pytorch_lightning.utilities import move_data_to_device\n",
    "\n",
    "from bliss.cached_dataset import CachedSimulatedDataModule\n",
    "from bliss.catalog import TileCatalog\n",
    "from case_studies.dc2_mdt.utils.encoder import M2BlissEncoder"
   ]
  },
  {
   "cell_type": "code",
   "execution_count": 2,
   "id": "f28875c1",
   "metadata": {},
   "outputs": [],
   "source": [
    "model_name = \"exp_04-20-3\"\n",
    "model_check_point_name = \"encoder_31.ckpt\"\n",
    "model_path = f\"../../../bliss_output/M2_mdt_exp/{model_name}/checkpoints/{model_check_point_name}\"\n",
    "cached_data_path = Path(\"/data/scratch/pduan/posterior_cached_files\")\n",
    "device = torch.device(\"cuda:3\" if torch.cuda.is_available() else \"cpu\")\n",
    "with initialize(config_path=\"./m2_mdt_config\", version_base=None):\n",
    "    cfg = compose(\"m2_cond_true_bliss_train_config\")"
   ]
  },
  {
   "cell_type": "code",
   "execution_count": 3,
   "id": "719300bc",
   "metadata": {},
   "outputs": [],
   "source": [
    "# seed = cfg.train.seed\n",
    "# pytorch_lightning.seed_everything(seed=seed)"
   ]
  },
  {
   "cell_type": "code",
   "execution_count": 4,
   "id": "12b9b077",
   "metadata": {},
   "outputs": [
    {
     "name": "stderr",
     "output_type": "stream",
     "text": [
      "Seed set to 9999\n"
     ]
    },
    {
     "data": {
      "text/plain": [
       "9999"
      ]
     },
     "execution_count": 4,
     "metadata": {},
     "output_type": "execute_result"
    }
   ],
   "source": [
    "seed = 9999\n",
    "pytorch_lightning.seed_everything(seed=seed)"
   ]
  },
  {
   "cell_type": "code",
   "execution_count": 5,
   "id": "55660bb6",
   "metadata": {},
   "outputs": [],
   "source": [
    "batch_size = 800\n",
    "m2: CachedSimulatedDataModule = instantiate(cfg.cached_simulator)\n",
    "m2.batch_size = batch_size\n",
    "m2.setup(stage=\"validate\")\n",
    "m2_val_dataloader = m2.val_dataloader()"
   ]
  },
  {
   "cell_type": "code",
   "execution_count": 6,
   "id": "6c38ee98",
   "metadata": {},
   "outputs": [],
   "source": [
    "my_encoder: M2BlissEncoder = instantiate(cfg.encoder).to(device=device)\n",
    "pretrained_weights = torch.load(model_path, map_location=device)[\"state_dict\"]\n",
    "my_encoder.load_state_dict(pretrained_weights)\n",
    "my_encoder.eval();"
   ]
  },
  {
   "cell_type": "code",
   "execution_count": 7,
   "id": "aa1835c7",
   "metadata": {},
   "outputs": [],
   "source": [
    "one_batch = next(iter(m2_val_dataloader))\n",
    "one_batch = move_data_to_device(one_batch, device=device)"
   ]
  },
  {
   "cell_type": "code",
   "execution_count": 8,
   "id": "0c80a9fa",
   "metadata": {},
   "outputs": [],
   "source": [
    "target_tile_cat = TileCatalog(one_batch[\"tile_catalog\"])\n",
    "target_images = one_batch[\"images\"]\n",
    "target_n_sources = target_tile_cat[\"n_sources\"]\n",
    "target_locs = target_tile_cat[\"locs\"]\n",
    "target_fluxes = target_tile_cat[\"fluxes\"]"
   ]
  },
  {
   "cell_type": "code",
   "execution_count": 9,
   "id": "7e901cf3",
   "metadata": {},
   "outputs": [
    {
     "name": "stdout",
     "output_type": "stream",
     "text": [
      "can't find cached file; rerun the inference\n"
     ]
    },
    {
     "name": "stderr",
     "output_type": "stream",
     "text": [
      "100%|██████████| 500/500 [02:15<00:00,  3.70it/s]\n"
     ]
    }
   ],
   "source": [
    "total_iters = 500\n",
    "cached_file_name = f\"m2_cond_true_bliss_posterior_\" \\\n",
    "                         f\"{model_name}_{model_check_point_name}_\" \\\n",
    "                         f\"b_{batch_size}_\" \\\n",
    "                         f\"iter_{total_iters}_\" \\\n",
    "                         f\"seed_{seed}.pt\"\n",
    "save_path = cached_data_path / cached_file_name\n",
    "if not os.path.isfile(save_path):\n",
    "    print(\"can't find cached file; rerun the inference\")\n",
    "    n_sources_list = []\n",
    "    locs_list = []\n",
    "    fluxes_list = []\n",
    "    for i in tqdm.tqdm(range(total_iters)):\n",
    "        with torch.no_grad():\n",
    "            sample_tile_cat = my_encoder.sample(one_batch, use_mode=False)\n",
    "        cur_n_sources = sample_tile_cat[\"n_sources\"]\n",
    "        n_sources_list.append(cur_n_sources.cpu())\n",
    "        locs = sample_tile_cat[\"locs\"]  # (b, h, w, 2, 2)\n",
    "        locs_list.append(locs.cpu())\n",
    "        fluxes = sample_tile_cat[\"fluxes\"]  # (b, h, w, 2, 6)\n",
    "        fluxes_list.append(fluxes.cpu())\n",
    "\n",
    "    bliss_result_dict = {\n",
    "        \"n_sources_list\": n_sources_list,\n",
    "        \"locs_list\": locs_list,\n",
    "        \"fluxes_list\": fluxes_list,\n",
    "        \"target_images\": target_images.cpu(),\n",
    "        \"target_n_sources\": target_n_sources.cpu(),\n",
    "        \"target_locs\": target_locs.cpu(),\n",
    "        \"target_fluxes\": target_fluxes.cpu(),\n",
    "    }\n",
    "    torch.save(bliss_result_dict, save_path)\n",
    "else:\n",
    "    print(\"find the cached file; run nothing\")"
   ]
  }
 ],
 "metadata": {
  "kernelspec": {
   "display_name": ".venv",
   "language": "python",
   "name": "python3"
  },
  "language_info": {
   "codemirror_mode": {
    "name": "ipython",
    "version": 3
   },
   "file_extension": ".py",
   "mimetype": "text/x-python",
   "name": "python",
   "nbconvert_exporter": "python",
   "pygments_lexer": "ipython3",
   "version": "3.10.12"
  }
 },
 "nbformat": 4,
 "nbformat_minor": 5
}

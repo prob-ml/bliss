{
 "cells": [
  {
   "cell_type": "code",
   "execution_count": 1,
   "id": "4adfb5a4",
   "metadata": {},
   "outputs": [],
   "source": [
    "import torch\n",
    "from torch import nn\n",
    "import tqdm\n",
    "import pytorch_lightning\n",
    "import matplotlib.pyplot as plt\n",
    "\n",
    "from torch.distributions import Normal\n",
    "\n",
    "from case_studies.dc2_mdt.utils.simulate_image import ImageSimulator"
   ]
  },
  {
   "cell_type": "code",
   "execution_count": 2,
   "id": "c68cd1b7",
   "metadata": {},
   "outputs": [],
   "source": [
    "image_size = 4\n",
    "add_second_source = True"
   ]
  },
  {
   "cell_type": "code",
   "execution_count": 3,
   "id": "79700bb8",
   "metadata": {},
   "outputs": [],
   "source": [
    "class SimpleMLP(nn.Module):\n",
    "    def __init__(self, layers, hidden_ch):\n",
    "        super().__init__()\n",
    "\n",
    "        self.network = nn.Sequential(\n",
    "            nn.Linear(image_size * image_size, hidden_ch),\n",
    "            nn.LayerNorm(hidden_ch),\n",
    "            nn.ReLU(),\n",
    "            *[\n",
    "                nn.Sequential(\n",
    "                    nn.Linear(hidden_ch, hidden_ch),\n",
    "                    nn.LayerNorm(hidden_ch),\n",
    "                    nn.ReLU(),\n",
    "                ) for _ in range(layers)\n",
    "            ],\n",
    "            nn.Linear(hidden_ch, 2)\n",
    "        )\n",
    "    \n",
    "    def forward(self, image):\n",
    "        x = image.flatten(start_dim=1)\n",
    "        return self.network(x).chunk(2, dim=-1)\n",
    "    \n",
    "    def nll(self, image, true_log_fluxes):\n",
    "        loc, scale = self(image)\n",
    "        return -1 * Normal(loc, scale.abs() + 1e-5).log_prob(true_log_fluxes)\n",
    "    \n",
    "    def sample(self, image, sample_size):\n",
    "        loc, scale = self(image)\n",
    "        return Normal(loc, scale.abs() + 1e-5).sample(sample_size)"
   ]
  },
  {
   "cell_type": "code",
   "execution_count": 4,
   "id": "2185616b",
   "metadata": {},
   "outputs": [
    {
     "name": "stderr",
     "output_type": "stream",
     "text": [
      "Seed set to 7272\n"
     ]
    },
    {
     "data": {
      "text/plain": [
       "7272"
      ]
     },
     "execution_count": 4,
     "metadata": {},
     "output_type": "execute_result"
    }
   ],
   "source": [
    "device = torch.device(\"cuda:5\")\n",
    "batch_size = 1024\n",
    "val_batch_size = 2048\n",
    "training_iters = 10_000\n",
    "val_iters = 10_000\n",
    "log_freq = 500\n",
    "seed = 7272\n",
    "pytorch_lightning.seed_everything(seed)"
   ]
  },
  {
   "cell_type": "code",
   "execution_count": 5,
   "id": "a206718d",
   "metadata": {},
   "outputs": [],
   "source": [
    "image_simulator = ImageSimulator(img_height=image_size,\n",
    "                                 img_width=image_size,\n",
    "                                 max_objects=1,\n",
    "                                 min_flux=200.0,\n",
    "                                 psf_stdev=1.0 if image_size > 1 else 0.1,\n",
    "                                 background_intensity=100.0).to(device=device)"
   ]
  },
  {
   "cell_type": "code",
   "execution_count": 6,
   "id": "c64c79e1",
   "metadata": {},
   "outputs": [],
   "source": [
    "my_net = SimpleMLP(layers=8, hidden_ch=256).to(device=device)\n",
    "my_optimizer = torch.optim.Adam(my_net.parameters(), lr=1e-3, amsgrad=True)"
   ]
  },
  {
   "cell_type": "code",
   "execution_count": 7,
   "id": "7e1f362a",
   "metadata": {},
   "outputs": [],
   "source": [
    "def encode_flux(flux: torch.Tensor):\n",
    "    assert flux.min() > 0.0\n",
    "    return torch.log1p(flux)\n",
    "\n",
    "def decode_flux(log_flux: torch.Tensor):\n",
    "    return torch.expm1(log_flux)"
   ]
  },
  {
   "cell_type": "code",
   "execution_count": 8,
   "id": "b02aa2c3",
   "metadata": {},
   "outputs": [
    {
     "name": "stderr",
     "output_type": "stream",
     "text": [
      "  5%|▌         | 509/10000 [00:07<02:20, 67.71it/s]"
     ]
    },
    {
     "name": "stdout",
     "output_type": "stream",
     "text": [
      "[500/10000] loss: 2.785e-01\n"
     ]
    },
    {
     "name": "stderr",
     "output_type": "stream",
     "text": [
      " 10%|█         | 1010/10000 [00:14<02:11, 68.58it/s]"
     ]
    },
    {
     "name": "stdout",
     "output_type": "stream",
     "text": [
      "[1000/10000] loss: -6.350e-01\n"
     ]
    },
    {
     "name": "stderr",
     "output_type": "stream",
     "text": [
      " 15%|█▌        | 1512/10000 [00:22<02:02, 69.04it/s]"
     ]
    },
    {
     "name": "stdout",
     "output_type": "stream",
     "text": [
      "[1500/10000] loss: -4.899e-01\n"
     ]
    },
    {
     "name": "stderr",
     "output_type": "stream",
     "text": [
      " 20%|██        | 2012/10000 [00:29<01:57, 68.09it/s]"
     ]
    },
    {
     "name": "stdout",
     "output_type": "stream",
     "text": [
      "[2000/10000] loss: -7.186e-01\n"
     ]
    },
    {
     "name": "stderr",
     "output_type": "stream",
     "text": [
      " 25%|██▌       | 2513/10000 [00:36<01:50, 67.48it/s]"
     ]
    },
    {
     "name": "stdout",
     "output_type": "stream",
     "text": [
      "[2500/10000] loss: 2.085e+00\n"
     ]
    },
    {
     "name": "stderr",
     "output_type": "stream",
     "text": [
      " 30%|███       | 3007/10000 [00:43<01:42, 68.47it/s]"
     ]
    },
    {
     "name": "stdout",
     "output_type": "stream",
     "text": [
      "[3000/10000] loss: -3.963e-01\n"
     ]
    },
    {
     "name": "stderr",
     "output_type": "stream",
     "text": [
      " 35%|███▌      | 3513/10000 [00:51<01:38, 65.74it/s]"
     ]
    },
    {
     "name": "stdout",
     "output_type": "stream",
     "text": [
      "[3500/10000] loss: -6.666e-01\n"
     ]
    },
    {
     "name": "stderr",
     "output_type": "stream",
     "text": [
      " 40%|████      | 4014/10000 [00:58<01:21, 73.33it/s]"
     ]
    },
    {
     "name": "stdout",
     "output_type": "stream",
     "text": [
      "[4000/10000] loss: -7.218e-01\n"
     ]
    },
    {
     "name": "stderr",
     "output_type": "stream",
     "text": [
      " 45%|████▌     | 4510/10000 [01:04<01:15, 73.05it/s]"
     ]
    },
    {
     "name": "stdout",
     "output_type": "stream",
     "text": [
      "[4500/10000] loss: -7.027e-01\n"
     ]
    },
    {
     "name": "stderr",
     "output_type": "stream",
     "text": [
      " 50%|█████     | 5008/10000 [01:11<01:06, 74.67it/s]"
     ]
    },
    {
     "name": "stdout",
     "output_type": "stream",
     "text": [
      "[5000/10000] loss: -6.965e-01\n"
     ]
    },
    {
     "name": "stderr",
     "output_type": "stream",
     "text": [
      " 55%|█████▌    | 5510/10000 [01:18<01:05, 68.44it/s]"
     ]
    },
    {
     "name": "stdout",
     "output_type": "stream",
     "text": [
      "[5500/10000] loss: -7.358e-01\n"
     ]
    },
    {
     "name": "stderr",
     "output_type": "stream",
     "text": [
      " 60%|██████    | 6010/10000 [01:26<00:56, 70.07it/s]"
     ]
    },
    {
     "name": "stdout",
     "output_type": "stream",
     "text": [
      "[6000/10000] loss: -7.092e-01\n"
     ]
    },
    {
     "name": "stderr",
     "output_type": "stream",
     "text": [
      " 65%|██████▌   | 6508/10000 [01:33<00:50, 68.70it/s]"
     ]
    },
    {
     "name": "stdout",
     "output_type": "stream",
     "text": [
      "[6500/10000] loss: -7.240e-01\n"
     ]
    },
    {
     "name": "stderr",
     "output_type": "stream",
     "text": [
      " 70%|███████   | 7012/10000 [01:40<00:41, 72.62it/s]"
     ]
    },
    {
     "name": "stdout",
     "output_type": "stream",
     "text": [
      "[7000/10000] loss: -6.948e-01\n"
     ]
    },
    {
     "name": "stderr",
     "output_type": "stream",
     "text": [
      " 75%|███████▌  | 7510/10000 [01:47<00:34, 72.12it/s]"
     ]
    },
    {
     "name": "stdout",
     "output_type": "stream",
     "text": [
      "[7500/10000] loss: -7.206e-01\n"
     ]
    },
    {
     "name": "stderr",
     "output_type": "stream",
     "text": [
      " 80%|████████  | 8014/10000 [01:54<00:27, 72.68it/s]"
     ]
    },
    {
     "name": "stdout",
     "output_type": "stream",
     "text": [
      "[8000/10000] loss: -7.110e-01\n"
     ]
    },
    {
     "name": "stderr",
     "output_type": "stream",
     "text": [
      " 85%|████████▌ | 8510/10000 [02:01<00:21, 70.59it/s]"
     ]
    },
    {
     "name": "stdout",
     "output_type": "stream",
     "text": [
      "[8500/10000] loss: -6.979e-01\n"
     ]
    },
    {
     "name": "stderr",
     "output_type": "stream",
     "text": [
      " 90%|█████████ | 9011/10000 [02:08<00:13, 72.46it/s]"
     ]
    },
    {
     "name": "stdout",
     "output_type": "stream",
     "text": [
      "[9000/10000] loss: -7.248e-01\n"
     ]
    },
    {
     "name": "stderr",
     "output_type": "stream",
     "text": [
      " 95%|█████████▌| 9507/10000 [02:15<00:06, 72.99it/s]"
     ]
    },
    {
     "name": "stdout",
     "output_type": "stream",
     "text": [
      "[9500/10000] loss: -7.092e-01\n"
     ]
    },
    {
     "name": "stderr",
     "output_type": "stream",
     "text": [
      "100%|██████████| 10000/10000 [02:21<00:00, 70.50it/s]"
     ]
    },
    {
     "name": "stdout",
     "output_type": "stream",
     "text": [
      "[10000/10000] loss: -7.211e-01\n"
     ]
    },
    {
     "name": "stderr",
     "output_type": "stream",
     "text": [
      "\n"
     ]
    }
   ],
   "source": [
    "my_net.train()\n",
    "loss_record = []\n",
    "for i in tqdm.tqdm(list(range(training_iters))):\n",
    "    catalog = image_simulator.generate(batch_size, add_second_source=add_second_source)\n",
    "    target_fluxes = catalog[\"fluxes\"]  # (b, 1)\n",
    "    input_image = catalog[\"images\"].unsqueeze(1)  # (b, 1, h, w)\n",
    "    loss = my_net.nll(input_image, encode_flux(target_fluxes)).mean()\n",
    "    loss_record.append(loss.item())\n",
    "    my_optimizer.zero_grad()\n",
    "    loss.backward()\n",
    "    my_optimizer.step()\n",
    "    if (i + 1) % log_freq == 0:\n",
    "        print(f\"[{i + 1}/{training_iters}] loss: {loss.item():.3e}\")"
   ]
  },
  {
   "cell_type": "code",
   "execution_count": 9,
   "id": "b2609ec7",
   "metadata": {},
   "outputs": [
    {
     "data": {
      "image/png": "[encoded data removed]",
      "text/plain": [
       "<Figure size 640x480 with 1 Axes>"
      ]
     },
     "metadata": {},
     "output_type": "display_data"
    }
   ],
   "source": [
    "plt.plot(loss_record)\n",
    "plt.xlabel(\"Training Steps\")\n",
    "plt.ylabel(\"Loss\")\n",
    "plt.show()"
   ]
  },
  {
   "cell_type": "code",
   "execution_count": 10,
   "id": "1e28072a",
   "metadata": {},
   "outputs": [],
   "source": [
    "my_net.eval()\n",
    "val_true_fluxes = None\n",
    "val_est_fluxes = []\n",
    "with torch.inference_mode():\n",
    "    val_catalog = image_simulator.generate(batch_size=val_batch_size, \n",
    "                                           seed=seed, \n",
    "                                           add_second_source=add_second_source)\n",
    "    target_fluxes = val_catalog[\"fluxes\"]  # (b, 1)\n",
    "    val_true_fluxes = target_fluxes\n",
    "    input_image = val_catalog[\"images\"].unsqueeze(1)\n",
    "    sample = my_net.sample(input_image, sample_size=[val_iters]).squeeze(0)\n",
    "    val_est_fluxes = decode_flux(sample).cpu()"
   ]
  },
  {
   "cell_type": "code",
   "execution_count": 11,
   "id": "e6545dc1",
   "metadata": {},
   "outputs": [],
   "source": [
    "val_true_fluxes = val_true_fluxes.cpu()"
   ]
  },
  {
   "cell_type": "code",
   "execution_count": 12,
   "id": "c0ac46d0",
   "metadata": {},
   "outputs": [
    {
     "data": {
      "text/plain": [
       "torch.Size([2048, 1])"
      ]
     },
     "execution_count": 12,
     "metadata": {},
     "output_type": "execute_result"
    }
   ],
   "source": [
    "val_true_fluxes.shape"
   ]
  },
  {
   "cell_type": "code",
   "execution_count": 13,
   "id": "efc95a81",
   "metadata": {},
   "outputs": [
    {
     "data": {
      "text/plain": [
       "torch.Size([10000, 2048, 1])"
      ]
     },
     "execution_count": 13,
     "metadata": {},
     "output_type": "execute_result"
    }
   ],
   "source": [
    "val_est_fluxes.shape"
   ]
  },
  {
   "cell_type": "code",
   "execution_count": 14,
   "id": "3821aa09",
   "metadata": {},
   "outputs": [
    {
     "data": {
      "text/plain": [
       "tensor(31152.5176)"
      ]
     },
     "execution_count": 14,
     "metadata": {},
     "output_type": "execute_result"
    }
   ],
   "source": [
    "torch.mean((val_true_fluxes - val_est_fluxes) ** 2)"
   ]
  },
  {
   "cell_type": "code",
   "execution_count": 15,
   "id": "b0593785",
   "metadata": {},
   "outputs": [
    {
     "data": {
      "text/plain": [
       "tensor(134.8850)"
      ]
     },
     "execution_count": 15,
     "metadata": {},
     "output_type": "execute_result"
    }
   ],
   "source": [
    "torch.mean(torch.abs(val_true_fluxes - val_est_fluxes))"
   ]
  },
  {
   "cell_type": "code",
   "execution_count": 16,
   "id": "6c938c15",
   "metadata": {},
   "outputs": [
    {
     "data": {
      "text/plain": [
       "tensor([ 473.7338, 1556.4031, 1695.8225, 1812.3633,  456.8997,  855.4359,\n",
       "        1993.1967, 1269.6095,  232.1797,  265.2233])"
      ]
     },
     "execution_count": 16,
     "metadata": {},
     "output_type": "execute_result"
    }
   ],
   "source": [
    "val_true_fluxes[:10, 0]"
   ]
  },
  {
   "cell_type": "code",
   "execution_count": 17,
   "id": "5d4cd78d",
   "metadata": {},
   "outputs": [
    {
     "data": {
      "text/plain": [
       "tensor([ 590.3365, 1255.9928, 1865.9683, 1633.6138,  480.9793,  834.4349,\n",
       "        1846.2113, 1487.1448,  301.7213,  265.0631])"
      ]
     },
     "execution_count": 17,
     "metadata": {},
     "output_type": "execute_result"
    }
   ],
   "source": [
    "val_est_fluxes[0, :10, 0]"
   ]
  },
  {
   "cell_type": "code",
   "execution_count": 18,
   "id": "acfa1c53",
   "metadata": {},
   "outputs": [],
   "source": [
    "# plt.hist(val_est_fluxes.flatten(), color=\"red\", alpha=0.5, density=True)\n",
    "# plt.hist(val_true_fluxes.flatten(), color=\"green\", alpha=0.5, density=True)\n",
    "# plt.show()"
   ]
  },
  {
   "cell_type": "code",
   "execution_count": 19,
   "id": "1433e745",
   "metadata": {},
   "outputs": [],
   "source": [
    "ci_cover = torch.tensor([i / 100 for i in range(5, 100, 5)])\n",
    "left_q_points = [(1.0 - c) / 2 for c in ci_cover]\n",
    "right_q_points = [1.0 - lq for lq in left_q_points]\n",
    "actual_ci_cover = []\n",
    "for q in zip(left_q_points, right_q_points):\n",
    "    q = torch.tensor(q)\n",
    "    est_fluxes_q = val_est_fluxes.quantile(q=q, dim=0).permute([1, 2, 0])  # (b, 1, 2)\n",
    "    above_lower_bound = val_true_fluxes[:, 0] > est_fluxes_q[:, 0, 0]\n",
    "    below_upper_bound = val_true_fluxes[:, 0] < est_fluxes_q[:, 0, 1]\n",
    "    actual_ci_cover.append((above_lower_bound & below_upper_bound).sum() / val_true_fluxes.shape[0])\n",
    "actual_ci_cover = torch.stack(actual_ci_cover, dim=0)"
   ]
  },
  {
   "cell_type": "code",
   "execution_count": 20,
   "id": "b03fedd4",
   "metadata": {},
   "outputs": [
    {
     "data": {
      "text/plain": [
       "torch.Size([19])"
      ]
     },
     "execution_count": 20,
     "metadata": {},
     "output_type": "execute_result"
    }
   ],
   "source": [
    "actual_ci_cover.shape"
   ]
  },
  {
   "cell_type": "code",
   "execution_count": 21,
   "id": "5176eda6",
   "metadata": {},
   "outputs": [
    {
     "data": {
      "text/plain": [
       "tensor([0.0459, 0.1016, 0.1523, 0.2051, 0.2510, 0.2979, 0.3516, 0.3936, 0.4399,\n",
       "        0.4951, 0.5439, 0.5947, 0.6465, 0.6938, 0.7510, 0.8066, 0.8623, 0.9116,\n",
       "        0.9551])"
      ]
     },
     "execution_count": 21,
     "metadata": {},
     "output_type": "execute_result"
    }
   ],
   "source": [
    "actual_ci_cover"
   ]
  },
  {
   "cell_type": "code",
   "execution_count": 22,
   "id": "9650879d",
   "metadata": {},
   "outputs": [
    {
     "data": {
      "image/png": "[encoded data removed]",
      "text/plain": [
       "<Figure size 800x800 with 1 Axes>"
      ]
     },
     "metadata": {},
     "output_type": "display_data"
    }
   ],
   "source": [
    "plt.figure(figsize=(8, 8))\n",
    "a_m_c = actual_ci_cover - ci_cover\n",
    "plt.plot(ci_cover, a_m_c, label=\"VI\")\n",
    "plt.plot(ci_cover, torch.zeros_like(ci_cover), linestyle=\"dashed\", label=\"Expected\")\n",
    "plt.legend(loc=\"upper right\")\n",
    "plt.grid()\n",
    "plt.xticks(ci_cover, rotation=45)\n",
    "plt.xlabel(\"Expected CI Cover\")\n",
    "plt.ylabel(\"Actual - True CI Cover\")\n",
    "plt.show()"
   ]
  },
  {
   "cell_type": "code",
   "execution_count": 23,
   "id": "638be215",
   "metadata": {},
   "outputs": [],
   "source": [
    "q = torch.tensor([0.05, 0.95])\n",
    "est_fluxes_q = val_est_fluxes.quantile(q=q, dim=0).permute([1, 2, 0])  # (b, 1, 2)"
   ]
  },
  {
   "cell_type": "code",
   "execution_count": 24,
   "id": "be8ea244",
   "metadata": {},
   "outputs": [
    {
     "data": {
      "image/png": "[encoded data removed]",
      "text/plain": [
       "<Figure size 640x480 with 1 Axes>"
      ]
     },
     "metadata": {},
     "output_type": "display_data"
    }
   ],
   "source": [
    "est_fluxes_mean = est_fluxes_q.mean(dim=-1).squeeze(-1)\n",
    "plt.errorbar(x=val_true_fluxes.flatten(), \n",
    "             y=est_fluxes_mean,\n",
    "             yerr=torch.stack([(est_fluxes_q[:, 0, 0] - est_fluxes_mean).abs(),\n",
    "                               (est_fluxes_q[:, 0, 1] - est_fluxes_mean).abs()], dim=0),\n",
    "            fmt=\"none\")\n",
    "plt.plot([val_true_fluxes.min(), val_true_fluxes.max()], \n",
    "         [val_true_fluxes.min(), val_true_fluxes.max()], \n",
    "         linestyle=\"solid\", color=\"red\")\n",
    "plt.xlabel(\"True Flux\")\n",
    "plt.ylabel(\"Est 90% Flux CI\")\n",
    "plt.show()"
   ]
  }
 ],
 "metadata": {
  "kernelspec": {
   "display_name": ".venv",
   "language": "python",
   "name": "python3"
  },
  "language_info": {
   "codemirror_mode": {
    "name": "ipython",
    "version": 3
   },
   "file_extension": ".py",
   "mimetype": "text/x-python",
   "name": "python",
   "nbconvert_exporter": "python",
   "pygments_lexer": "ipython3",
   "version": "3.10.12"
  }
 },
 "nbformat": 4,
 "nbformat_minor": 5
}

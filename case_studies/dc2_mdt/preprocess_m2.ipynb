{
 "cells": [
  {
   "cell_type": "code",
   "execution_count": 1,
   "id": "a2955d5e",
   "metadata": {},
   "outputs": [],
   "source": [
    "import torch\n",
    "import os\n",
    "import time\n",
    "import tqdm\n",
    "\n",
    "from pathlib import Path\n",
    "\n",
    "from bliss.cached_dataset import FullCatalogToTileTransform\n",
    "from bliss.surveys.dc2 import convert_tile_dict_to_sparse"
   ]
  },
  {
   "cell_type": "code",
   "execution_count": 2,
   "id": "05c66fbc",
   "metadata": {},
   "outputs": [],
   "source": [
    "ori_m2_path = Path(\"/data/scratch/regier/m2_aug30/\")\n",
    "new_m2_path = Path(\"/data/scratch/pduan/m2/\")"
   ]
  },
  {
   "cell_type": "code",
   "execution_count": 3,
   "id": "b760d8de",
   "metadata": {},
   "outputs": [],
   "source": [
    "to_tile_trans = FullCatalogToTileTransform(tile_slen=2, max_sources=6)"
   ]
  },
  {
   "cell_type": "code",
   "execution_count": 4,
   "id": "7f6f3db1",
   "metadata": {},
   "outputs": [
    {
     "name": "stderr",
     "output_type": "stream",
     "text": [
      "100%|██████████| 241/241 [39:28<00:00,  9.83s/it]\n"
     ]
    }
   ],
   "source": [
    "to_tile_time = 0.0\n",
    "for fn in tqdm.tqdm(os.listdir(ori_m2_path)):\n",
    "    if fn.endswith(\".pt\"):\n",
    "        data = torch.load(ori_m2_path / fn)\n",
    "        data_list = []\n",
    "        for datum in data:\n",
    "            to_tile_start_time = time.time()\n",
    "            datum_out = to_tile_trans(datum)\n",
    "            to_tile_end_time = time.time()\n",
    "            to_tile_time += to_tile_end_time - to_tile_start_time\n",
    "            # datum_out[\"tile_catalog\"] = convert_tile_dict_to_sparse(datum_out[\"tile_catalog\"])\n",
    "            data_list.append(datum_out)\n",
    "        torch.save(data_list, new_m2_path / fn)"
   ]
  }
 ],
 "metadata": {
  "kernelspec": {
   "display_name": ".venv",
   "language": "python",
   "name": "python3"
  },
  "language_info": {
   "codemirror_mode": {
    "name": "ipython",
    "version": 3
   },
   "file_extension": ".py",
   "mimetype": "text/x-python",
   "name": "python",
   "nbconvert_exporter": "python",
   "pygments_lexer": "ipython3",
   "version": "3.10.12"
  }
 },
 "nbformat": 4,
 "nbformat_minor": 5
}

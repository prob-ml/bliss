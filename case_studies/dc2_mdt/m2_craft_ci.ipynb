{
 "cells": [
  {
   "cell_type": "code",
   "execution_count": null,
   "id": "eb303291",
   "metadata": {},
   "outputs": [],
   "source": [
    "import torch\n",
    "\n",
    "import matplotlib.pyplot as plt\n",
    "import numpy as np\n",
    "import seaborn as sns\n",
    "from einops import repeat\n",
    "from pathlib import Path\n",
    "\n",
    "import pytorch_lightning\n",
    "\n",
    "from bliss.catalog import convert_flux_to_magnitude, TileCatalog"
   ]
  },
  {
   "cell_type": "code",
   "execution_count": null,
   "id": "9d53b528",
   "metadata": {},
   "outputs": [],
   "source": [
    "cmap = plt.get_cmap(\"Dark2\")\n",
    "def get_color(i):\n",
    "    assert i < 8\n",
    "    return cmap(i)"
   ]
  },
  {
   "cell_type": "code",
   "execution_count": null,
   "id": "c8d789cd",
   "metadata": {},
   "outputs": [],
   "source": [
    "cached_data_path = Path(\"/data/scratch/pduan/posterior_cached_files\")"
   ]
  },
  {
   "cell_type": "code",
   "execution_count": null,
   "id": "af290439",
   "metadata": {},
   "outputs": [],
   "source": [
    "seed = 7272\n",
    "pytorch_lightning.seed_everything(seed=seed)"
   ]
  },
  {
   "cell_type": "code",
   "execution_count": null,
   "id": "37e4de48",
   "metadata": {},
   "outputs": [],
   "source": [
    "cached_file_name_dict = {\n",
    "    \"bliss\": \"m2_cond_true_bliss_posterior_exp_04-20-3_encoder_31.ckpt_b_800_iter_500_seed_7272.pt\",\n",
    "    \"simple_net\": \"m2_simple_net_posterior_exp_04-20-1_encoder_32.ckpt_b_800_iter_500_seed_7272.pt\",\n",
    "    # \"mdt_76\": \"m2_mdt_posterior_exp_04-19-1_encoder_76.ckpt_b_400_iter_300_seed_7272.pt\",\n",
    "    # \"mdt_speed_97\": \"m2_mdt_speed_posterior_exp_04-21-2_encoder_97.ckpt_b_400_iter_500_seed_7272.pt\",\n",
    "    # \"mdt_speed_156\": \"m2_mdt_speed_posterior_exp_04-21-2_encoder_156.ckpt_b_400_iter_500_seed_7272.pt\",\n",
    "    # \"mdt_speed_189\": \"m2_mdt_speed_posterior_exp_04-21-2_encoder_189.ckpt_b_400_iter_500_seed_7272.pt\",\n",
    "    \"mdt_rml_5_1.0\": \"m2_mdt_rml_posterior_great_lake_exp_04-25-1_encoder_161.ckpt_ddim_steps_5_eta_1.0_b_800_iter_1000_seed_7272.pt\",\n",
    "    \"mdt_rml_10_1.0\": \"m2_mdt_rml_posterior_great_lake_exp_04-25-1_encoder_161.ckpt_ddim_steps_10_eta_1.0_b_800_iter_1000_seed_7272.pt\",\n",
    "    \"mdt_rml_10_0.0\": \"m2_mdt_rml_posterior_great_lake_exp_04-25-1_encoder_161.ckpt_ddim_steps_10_eta_0.0_b_800_iter_1000_seed_7272.pt\",\n",
    "    \"mdt_rml_20_1.0\": \"m2_mdt_rml_posterior_great_lake_exp_04-25-1_encoder_161.ckpt_ddim_steps_20_eta_1.0_b_800_iter_1000_seed_7272.pt\",\n",
    "}"
   ]
  },
  {
   "cell_type": "code",
   "execution_count": null,
   "id": "148049a0",
   "metadata": {},
   "outputs": [],
   "source": [
    "cached_data_dict = {}\n",
    "for k, v in cached_file_name_dict.items():\n",
    "    with open(cached_data_path / v, \"rb\") as f:\n",
    "        cached_data_dict[k] = torch.load(f, map_location=\"cpu\")"
   ]
  },
  {
   "cell_type": "markdown",
   "id": "689dd74c",
   "metadata": {},
   "source": [
    "### Fluxes CI"
   ]
  },
  {
   "cell_type": "code",
   "execution_count": null,
   "id": "b837f7d0",
   "metadata": {},
   "outputs": [],
   "source": [
    "def plot_data_for_fluxes_ci(result_dict, ci_cover, flux_min, flux_max):\n",
    "    target_tile_cat = TileCatalog(d={\n",
    "        \"n_sources\": result_dict[\"target_n_sources\"],\n",
    "        \"locs\": result_dict[\"target_locs\"],\n",
    "        \"fluxes\": result_dict[\"target_fluxes\"],\n",
    "    })\n",
    "    target_tile_cat1 = target_tile_cat.get_brightest_sources_per_tile(band=0, exclude_num=0)\n",
    "    target_tile_cat2 = target_tile_cat.get_brightest_sources_per_tile(band=0, exclude_num=1)\n",
    "    target_n_sources_mask = torch.cat([target_tile_cat1.is_on_mask,\n",
    "                                       target_tile_cat2.is_on_mask],\n",
    "                                       dim=-1)  # (b, h, w, 2)\n",
    "    target_fluxes = torch.cat([target_tile_cat1[\"fluxes\"],\n",
    "                               target_tile_cat2[\"fluxes\"]],\n",
    "                               dim=-2)  # (b, h, w, 2, 1)\n",
    "    on_mask_target_fluxes = target_fluxes[target_n_sources_mask].view(-1, 1)  # (matched_sources, 1)\n",
    "    pred_fluxes = torch.stack(result_dict[\"fluxes_list\"], dim=0)  # (iter, b, h, w, 2, 1)\n",
    "    pred_n_sources_mask = repeat(target_n_sources_mask, \"... -> iter ...\", iter=pred_fluxes.shape[0])\n",
    "    on_mask_pred_fluxes = pred_fluxes[pred_n_sources_mask].view(pred_fluxes.shape[0], -1, 1)  # (iter, matched_sources, 1)\n",
    "\n",
    "    left_q_points = [(1.0 - c) / 2 for c in ci_cover]\n",
    "    right_q_points = [1.0 - lq for lq in left_q_points]\n",
    "    actual_ci_cover = {band: [] for band in \"r\"}\n",
    "    for q in zip(left_q_points, right_q_points):\n",
    "        q = torch.tensor(q)\n",
    "        on_mask_est_flux_q = on_mask_pred_fluxes.quantile(q=q, dim=0).permute([1, 2, 0])  # (matched_sources, 1, 2)\n",
    "        for i, band in zip(range(1), \"r\"):\n",
    "            above_lower_bound = on_mask_target_fluxes[:, i] > on_mask_est_flux_q[:, i, 0]\n",
    "            below_upper_bound = on_mask_target_fluxes[:, i] < on_mask_est_flux_q[:, i, 1]  # (matched_sources, )\n",
    "            valid_flux_mask = (on_mask_target_fluxes[:, i] > flux_min) & (on_mask_target_fluxes[:, i] <= flux_max)  # (matched_sources, )\n",
    "            actual_ci_cover[band].append(((above_lower_bound & below_upper_bound)[valid_flux_mask].sum() / valid_flux_mask.sum()).item())\n",
    "    \n",
    "    for k, v in actual_ci_cover.items():\n",
    "        actual_ci_cover[k] = torch.tensor(v)\n",
    "\n",
    "    return actual_ci_cover"
   ]
  },
  {
   "cell_type": "code",
   "execution_count": null,
   "id": "b21ccb6c",
   "metadata": {},
   "outputs": [],
   "source": [
    "def draw_fluxes_ci_plot(flux_min, flux_max):\n",
    "    ci_cover = torch.tensor([i / 100 for i in range(5, 100, 5)])\n",
    "    fluxes_ci_dict = {}\n",
    "    for k, v in cached_data_dict.items():\n",
    "        fluxes_ci_dict[k] = plot_data_for_fluxes_ci(v, \n",
    "                                                    ci_cover=ci_cover,\n",
    "                                                    flux_min=flux_min, \n",
    "                                                    flux_max=flux_max)\n",
    "    # fig, axes = plt.subplots(1, 1, figsize=(8, 8))\n",
    "    # axes = np.array(axes)\n",
    "    # for i, (ax, band) in enumerate(zip(axes.flatten(), \"r\")):\n",
    "    #     for ki, (k, v) in enumerate(fluxes_ci_dict.items()):\n",
    "    #         ax.plot(ci_cover, v[band], label=k.upper(), color=get_color(ki))\n",
    "    #     ax.plot(ci_cover, ci_cover, linestyle=\"dashed\", label=\"Expected Coverage\")\n",
    "    #     ax.set_xlabel(\"Expected CI Coverage\")\n",
    "    #     ax.set_ylabel(\"Actual CI Coverage\")\n",
    "    #     if i == 0:\n",
    "    #         ax.legend()\n",
    "    #     ax.set_title(f\"Band {band}\")\n",
    "    #     ax.set_xticks(ci_cover)\n",
    "    #     ax.tick_params(axis=\"x\", labelrotation=45)\n",
    "    #     ax.set_yticks(ci_cover)\n",
    "    #     ax.grid()\n",
    "    # fig.suptitle(f\"Flux [{flux_min:.1f}, {flux_max:.1f}]\")\n",
    "    # fig.tight_layout()\n",
    "    # fig.show()\n",
    "\n",
    "    fig, axes = plt.subplots(1, 1, figsize=(8, 8))\n",
    "    axes = np.array(axes)\n",
    "    for i, (ax, band) in enumerate(zip(axes.flatten(), \"r\")):\n",
    "        for ki, (k, v) in enumerate(fluxes_ci_dict.items()):\n",
    "            ax.plot(ci_cover, v[band] - ci_cover, label=k.upper(), color=get_color(ki))\n",
    "        ax.axhline(y=0, linestyle=\"dashed\", label=\"Expected\", color=\"green\")\n",
    "        ax.set_xlabel(\"Expected CI Coverage\")\n",
    "        ax.set_ylabel(\"Actual - Expected CI Coverage\")\n",
    "        if i == 0:\n",
    "            ax.legend()\n",
    "        ax.set_title(f\"Band {band}\")\n",
    "        ax.set_xticks(ci_cover)\n",
    "        ax.tick_params(axis=\"x\", labelrotation=45)\n",
    "        ax.grid()\n",
    "    fig.suptitle(f\"Flux [{flux_min:.1f}, {flux_max:.1f}]\")\n",
    "    fig.tight_layout()\n",
    "    fig.show()\n",
    "\n",
    "    # fig, axes = plt.subplots(1, 1, figsize=(8, 8))\n",
    "    # axes = np.array(axes)\n",
    "    # for i, (ax, band) in enumerate(zip(axes.flatten(), \"r\")):\n",
    "    #     for ki, (k, v) in enumerate(fluxes_ci_dict.items()):\n",
    "    #         ax.plot(ci_cover, (v[band] - ci_cover).abs(), label=k.upper(), color=get_color(ki))\n",
    "    #     ax.axhline(y=0, linestyle=\"dashed\", label=\"Expected\", color=\"green\")\n",
    "    #     ax.set_xlabel(\"Expected CI Coverage\")\n",
    "    #     ax.set_ylabel(\"|Actual - Expected| CI Coverage\")\n",
    "    #     if i == 0:\n",
    "    #         ax.legend()\n",
    "    #     ax.set_title(f\"Band {band}\")\n",
    "    #     ax.set_xticks(ci_cover)\n",
    "    #     ax.tick_params(axis=\"x\", labelrotation=45)\n",
    "    #     ax.grid()\n",
    "    # fig.suptitle(f\"Flux [{flux_min:.1f}, {flux_max:.1f}]\")\n",
    "    # fig.tight_layout()\n",
    "    # fig.show()"
   ]
  },
  {
   "cell_type": "code",
   "execution_count": null,
   "id": "ecec195b",
   "metadata": {},
   "outputs": [],
   "source": [
    "# draw_fluxes_ci_plot(flux_min=-torch.inf, flux_max=torch.inf)"
   ]
  },
  {
   "cell_type": "code",
   "execution_count": null,
   "id": "f2855b4d",
   "metadata": {},
   "outputs": [],
   "source": [
    "# flux_boundaries = [0.0, 1.58, 4.37, 12.80, 139.70, torch.inf]\n",
    "# for flux_min, flux_max in zip(flux_boundaries[:-1], flux_boundaries[1:]):\n",
    "#     draw_fluxes_ci_plot(flux_min=flux_min, flux_max=flux_max)"
   ]
  },
  {
   "cell_type": "markdown",
   "id": "4530a538",
   "metadata": {},
   "source": [
    "### Fluxes CI Match"
   ]
  },
  {
   "cell_type": "code",
   "execution_count": null,
   "id": "a972fa78",
   "metadata": {},
   "outputs": [],
   "source": [
    "def plot_data_for_fluxes_ci_match(result_dict, ci_cover: float):\n",
    "    target_tile_cat = TileCatalog(d={\n",
    "        \"n_sources\": result_dict[\"target_n_sources\"],\n",
    "        \"locs\": result_dict[\"target_locs\"],\n",
    "        \"fluxes\": result_dict[\"target_fluxes\"],\n",
    "    })\n",
    "    target_tile_cat1 = target_tile_cat.get_brightest_sources_per_tile(band=0, exclude_num=0)\n",
    "    target_tile_cat2 = target_tile_cat.get_brightest_sources_per_tile(band=0, exclude_num=1)\n",
    "    target_n_sources_mask = torch.cat([target_tile_cat1.is_on_mask,\n",
    "                                       target_tile_cat2.is_on_mask],\n",
    "                                       dim=-1)  # (b, h, w, 2)\n",
    "    target_fluxes = torch.cat([target_tile_cat1[\"fluxes\"],\n",
    "                               target_tile_cat2[\"fluxes\"]],\n",
    "                               dim=-2)  # (b, h, w, 2, 1)\n",
    "    on_mask_target_fluxes = target_fluxes[target_n_sources_mask].view(-1, 1)  # (matched_sources, 1)\n",
    "    pred_fluxes = torch.stack(result_dict[\"fluxes_list\"], dim=0)  # (iter, b, h, w, 2, 1)\n",
    "    pred_n_sources_mask = repeat(target_n_sources_mask, \"... -> iter ...\", iter=pred_fluxes.shape[0])\n",
    "    on_mask_pred_fluxes = pred_fluxes[pred_n_sources_mask].view(pred_fluxes.shape[0], -1, 1)  # (iter, matched_sources, 1)\n",
    "\n",
    "    left_q_point = (1.0 - ci_cover) / 2\n",
    "    right_q_point = 1.0 - left_q_point\n",
    "    q = torch.tensor([left_q_point, right_q_point])\n",
    "    on_mask_est_flux_q = on_mask_pred_fluxes.quantile(q=q, dim=0).permute([1, 2, 0])  # (matched_sources, 1, 2)\n",
    "    on_mask_target_and_est_q = torch.cat([on_mask_target_fluxes.unsqueeze(-1), on_mask_est_flux_q], dim=-1)  # (matched_sources, 1, 3)\n",
    "    return {\n",
    "        band: convert_flux_to_magnitude(v.squeeze(1), zero_point=1e9) \n",
    "        for band, v in zip(\"r\", on_mask_target_and_est_q.chunk(1, dim=1))\n",
    "    }"
   ]
  },
  {
   "cell_type": "code",
   "execution_count": null,
   "id": "d1f78c68",
   "metadata": {},
   "outputs": [],
   "source": [
    "def draw_fluxes_ci_match_plot(ci_cover):\n",
    "    fluxes_ci_match_dict = {}\n",
    "    for k, v in cached_data_dict.items():\n",
    "        fluxes_ci_match_dict[k] = plot_data_for_fluxes_ci_match(v, ci_cover=ci_cover)\n",
    "    for method_i, (method_name, t_flux_and_est_q) in enumerate(fluxes_ci_match_dict.items()):\n",
    "        fig, axes = plt.subplots(1, 1, figsize=(8, 8))\n",
    "        axes = np.array(axes)\n",
    "        for i, (ax, band) in enumerate(zip(axes.flatten(), \"r\")):\n",
    "            cur_band_data = t_flux_and_est_q[band]\n",
    "            target_flux = cur_band_data[:, 0]\n",
    "            est_lb_err = (cur_band_data[:, 1] - cur_band_data[:, 1:].mean(dim=-1)).abs()\n",
    "            est_ub_err = (cur_band_data[:, 2] - cur_band_data[:, 1:].mean(dim=-1)).abs()\n",
    "            est_err = torch.stack([est_lb_err, est_ub_err], dim=0)\n",
    "            ax.errorbar(x=target_flux, \n",
    "                        y=cur_band_data[:, 1:].mean(dim=-1), \n",
    "                        yerr=est_err, \n",
    "                        fmt=\"none\",\n",
    "                        color=get_color(method_i))\n",
    "            low_mag, high_mag = 12.0, 23.0\n",
    "            ax.plot([low_mag, high_mag], [low_mag, high_mag], linestyle=\"dashed\", label=\"Ref Line\")\n",
    "            ax.set_xlabel(\"True Magnitude\")\n",
    "            ax.set_ylabel(f\"Est Magnitude {int(ci_cover * 100)}% CI\")\n",
    "            ax.set_title(f\"Band {band}\")\n",
    "            ax.set_xlim(left=low_mag, right=high_mag)\n",
    "            ax.set_ylim(bottom=low_mag, top=high_mag)\n",
    "        fig.suptitle(f\"Method: {method_name.upper()}\")\n",
    "        fig.tight_layout()\n",
    "        fig.show()"
   ]
  },
  {
   "cell_type": "code",
   "execution_count": null,
   "id": "e3c5d15f",
   "metadata": {},
   "outputs": [],
   "source": [
    "draw_fluxes_ci_match_plot(ci_cover=0.90)"
   ]
  },
  {
   "cell_type": "markdown",
   "id": "7d361fe1",
   "metadata": {},
   "source": [
    "### Flux Density"
   ]
  },
  {
   "cell_type": "code",
   "execution_count": null,
   "id": "a3ed5fe4",
   "metadata": {},
   "outputs": [],
   "source": [
    "convert_flux_to_magnitude(torch.tensor(0.9419), zero_point=1e9)"
   ]
  },
  {
   "cell_type": "code",
   "execution_count": null,
   "id": "1d24562f",
   "metadata": {},
   "outputs": [],
   "source": [
    "convert_flux_to_magnitude(torch.tensor(50), zero_point=1e9)"
   ]
  },
  {
   "cell_type": "code",
   "execution_count": null,
   "id": "4f73d720",
   "metadata": {},
   "outputs": [],
   "source": [
    "convert_flux_to_magnitude(torch.tensor(1e2), zero_point=1e9)"
   ]
  },
  {
   "cell_type": "code",
   "execution_count": null,
   "id": "a4e7807b",
   "metadata": {},
   "outputs": [],
   "source": [
    "convert_flux_to_magnitude(torch.tensor(1e3), zero_point=1e9)"
   ]
  },
  {
   "cell_type": "code",
   "execution_count": null,
   "id": "41f187dc",
   "metadata": {},
   "outputs": [],
   "source": [
    "convert_flux_to_magnitude(torch.tensor(1e4), zero_point=1e9)"
   ]
  },
  {
   "cell_type": "code",
   "execution_count": null,
   "id": "d2072d5f",
   "metadata": {},
   "outputs": [],
   "source": [
    "def plot_data_for_flux_density(result_dict):\n",
    "    target_tile_cat = TileCatalog(d={\n",
    "        \"n_sources\": result_dict[\"target_n_sources\"],\n",
    "        \"locs\": result_dict[\"target_locs\"],\n",
    "        \"fluxes\": result_dict[\"target_fluxes\"],\n",
    "    })\n",
    "    target_tile_cat1 = target_tile_cat.get_brightest_sources_per_tile(band=0, exclude_num=0)\n",
    "    target_tile_cat2 = target_tile_cat.get_brightest_sources_per_tile(band=0, exclude_num=1)\n",
    "    target_n_sources_mask = torch.cat([target_tile_cat1.is_on_mask,\n",
    "                                       target_tile_cat2.is_on_mask],\n",
    "                                       dim=-1)  # (b, h, w, 2)\n",
    "    target_fluxes = torch.cat([target_tile_cat1[\"fluxes\"],\n",
    "                               target_tile_cat2[\"fluxes\"]],\n",
    "                               dim=-2)  # (b, h, w, 2, 1)\n",
    "    on_mask_target_fluxes = target_fluxes[target_n_sources_mask].view(-1, 1)  # (matched_sources, 1)\n",
    "    pred_fluxes = torch.stack(result_dict[\"fluxes_list\"], dim=0)  # (iter, b, h, w, 2, 1)\n",
    "    pred_n_sources_mask = repeat(target_n_sources_mask, \"... -> iter ...\", iter=pred_fluxes.shape[0])\n",
    "    on_mask_pred_fluxes = pred_fluxes[pred_n_sources_mask].view(pred_fluxes.shape[0], -1, 1)  # (iter, matched_sources, 1)\n",
    "\n",
    "    return on_mask_target_fluxes, on_mask_pred_fluxes"
   ]
  },
  {
   "cell_type": "code",
   "execution_count": null,
   "id": "bc943f18",
   "metadata": {},
   "outputs": [],
   "source": [
    "def draw_flux_density_plot(draw_kde):\n",
    "    fluxes_density_match_dict = {}\n",
    "    for k, v in cached_data_dict.items():\n",
    "        fluxes_density_match_dict[k] = plot_data_for_flux_density(v)\n",
    "    for method_i, (method_name, (t_fluxes, pred_fluxes)) in enumerate(fluxes_density_match_dict.items()):\n",
    "        fig, axes = plt.subplots(1, 1, figsize=(8, 8))\n",
    "        axes = np.array(axes)\n",
    "        for i, (ax, band) in enumerate(zip(axes.flatten(), \"r\")):\n",
    "            t_mag = convert_flux_to_magnitude(t_fluxes.flatten(), zero_point=1e9)\n",
    "            est_mag = convert_flux_to_magnitude(pred_fluxes.flatten(), zero_point=1e9)\n",
    "            t_mag = t_mag[torch.randperm(len(t_mag))[:10_000]]\n",
    "            est_mag = est_mag[torch.randperm(len(est_mag))[:10_000]]\n",
    "            if draw_kde:\n",
    "                sns.kdeplot(t_mag, \n",
    "                            label=\"True\", fill=True, alpha=0.4, ax=ax)\n",
    "                sns.kdeplot(est_mag, \n",
    "                            label=\"Estimated\", fill=True, alpha=0.4, ax=ax)\n",
    "            else:\n",
    "                ax.hist(t_mag, \n",
    "                        bins=100, label=\"True\", alpha=0.4, density=True, log=True)\n",
    "                ax.hist(est_mag, \n",
    "                        bins=100, label=\"Estimated\", alpha=0.4, density=True, log=True)\n",
    "            ax.set_xlabel(\"Magnitude\")\n",
    "            ax.set_ylabel(\"Density\")\n",
    "            ax.set_title(f\"Band {band}\")\n",
    "            ax.legend()\n",
    "        fig.suptitle(f\"Method: {method_name.upper()}\")\n",
    "        fig.tight_layout()\n",
    "        fig.show()"
   ]
  },
  {
   "cell_type": "code",
   "execution_count": null,
   "id": "4bfc8c28",
   "metadata": {},
   "outputs": [],
   "source": [
    "draw_flux_density_plot(draw_kde=False)"
   ]
  },
  {
   "cell_type": "code",
   "execution_count": null,
   "id": "ffb45f07",
   "metadata": {},
   "outputs": [],
   "source": [
    "draw_flux_density_plot(draw_kde=True)"
   ]
  }
 ],
 "metadata": {
  "kernelspec": {
   "display_name": ".venv",
   "language": "python",
   "name": "python3"
  },
  "language_info": {
   "codemirror_mode": {
    "name": "ipython",
    "version": 3
   },
   "file_extension": ".py",
   "mimetype": "text/x-python",
   "name": "python",
   "nbconvert_exporter": "python",
   "pygments_lexer": "ipython3",
   "version": "3.10.12"
  }
 },
 "nbformat": 4,
 "nbformat_minor": 5
}

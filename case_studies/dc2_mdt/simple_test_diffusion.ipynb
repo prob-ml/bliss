{
 "cells": [
  {
   "cell_type": "code",
   "execution_count": 1,
   "id": "4adfb5a4",
   "metadata": {},
   "outputs": [],
   "source": [
    "import torch\n",
    "from torch import nn\n",
    "import tqdm\n",
    "from einops import rearrange\n",
    "import numpy as np\n",
    "import pytorch_lightning\n",
    "import matplotlib.pyplot as plt\n",
    "\n",
    "from case_studies.dc2_mdt.utils.gaussian_diffusion import (GaussianDiffusion,\n",
    "                                                           get_named_beta_schedule,\n",
    "                                                           ModelMeanType,\n",
    "                                                           ModelVarType,\n",
    "                                                           LossType)\n",
    "from case_studies.dc2_mdt.utils.respace import space_timesteps, SpacedDiffusion\n",
    "from case_studies.dc2_mdt.utils.resample import create_named_schedule_sampler, ScheduleSampler, SpeedSampler\n",
    "from case_studies.dc2_mdt.utils.simulate_image import ImageSimulator"
   ]
  },
  {
   "cell_type": "code",
   "execution_count": 2,
   "id": "1d67c610",
   "metadata": {},
   "outputs": [],
   "source": [
    "image_size = 4\n",
    "add_second_source = True"
   ]
  },
  {
   "cell_type": "code",
   "execution_count": 3,
   "id": "79700bb8",
   "metadata": {},
   "outputs": [],
   "source": [
    "# class SimpleMLP(nn.Module):\n",
    "#     def __init__(self, layers, hidden_ch):\n",
    "#         super().__init__()\n",
    "\n",
    "#         self.network = nn.Sequential(\n",
    "#             nn.Linear(1 + 1 + 16, hidden_ch),\n",
    "#             nn.ReLU(),\n",
    "#             *[\n",
    "#                 nn.Sequential(\n",
    "#                     nn.Linear(hidden_ch, hidden_ch),\n",
    "#                     nn.LayerNorm(hidden_ch),\n",
    "#                     nn.ReLU(),\n",
    "#                 ) for _ in range(layers)\n",
    "#             ],\n",
    "#             nn.Linear(hidden_ch, 1)\n",
    "#         )\n",
    "    \n",
    "#     def forward(self, x, t, image):\n",
    "#         x = torch.cat([x, t.unsqueeze(1), image.flatten(start_dim=1)], dim=1)\n",
    "#         return self.network(x)"
   ]
  },
  {
   "cell_type": "code",
   "execution_count": 4,
   "id": "0bb7a360",
   "metadata": {},
   "outputs": [],
   "source": [
    "class FourierMLP(nn.Module):\n",
    "    def __init__(self, data_shape, num_layers, hidden_ch):\n",
    "        super().__init__()\n",
    "        self.data_shape = [data_shape]\n",
    "\n",
    "        self.register_buffer(\n",
    "            \"timestep_coeff\", torch.linspace(start=0.1, end=100, steps=hidden_ch)[None]\n",
    "        )\n",
    "        self.timestep_phase = nn.Parameter(torch.randn(hidden_ch)[None])\n",
    "        self.input_embed = nn.Sequential(\n",
    "            nn.Linear(int(np.prod(data_shape)), hidden_ch),\n",
    "            nn.GELU(),\n",
    "            nn.Linear(hidden_ch, hidden_ch)\n",
    "        )\n",
    "        self.timestep_embed = nn.Sequential(\n",
    "            nn.Linear(2 * hidden_ch, hidden_ch),\n",
    "            nn.GELU(),\n",
    "            nn.Linear(hidden_ch, hidden_ch),\n",
    "        )\n",
    "        self.image_embed = nn.Sequential(\n",
    "            nn.Linear(image_size * image_size, hidden_ch),\n",
    "            nn.GELU(),\n",
    "            nn.Linear(hidden_ch, hidden_ch)\n",
    "        )\n",
    "        self.layers = nn.Sequential(\n",
    "            nn.Linear(hidden_ch * 2, hidden_ch), \n",
    "            nn.GELU(),\n",
    "            *[\n",
    "                nn.Sequential(nn.Linear(hidden_ch, hidden_ch), nn.GELU())\n",
    "                for _ in range(num_layers)\n",
    "            ],\n",
    "            nn.Linear(hidden_ch, int(np.prod(data_shape))),\n",
    "        )\n",
    "\n",
    "    def forward(self, x, t, image):\n",
    "        t = t.unsqueeze(-1)\n",
    "        sin_embed_t = torch.sin(\n",
    "            (self.timestep_coeff * t.float()) + self.timestep_phase\n",
    "        )\n",
    "        cos_embed_t = torch.cos(\n",
    "            (self.timestep_coeff * t.float()) + self.timestep_phase\n",
    "        )\n",
    "        embed_t = self.timestep_embed(\n",
    "            rearrange([sin_embed_t, cos_embed_t], \"d b w -> b (d w)\")\n",
    "        )\n",
    "        embed_xt = self.input_embed(x.view(x.shape[0], -1))\n",
    "        embed_image = self.image_embed(image.flatten(1))\n",
    "        out = self.layers(\n",
    "            torch.cat([embed_xt + embed_t, embed_image], dim=-1)\n",
    "        )\n",
    "        return out.view(x.shape)"
   ]
  },
  {
   "cell_type": "code",
   "execution_count": 5,
   "id": "2185616b",
   "metadata": {},
   "outputs": [
    {
     "name": "stderr",
     "output_type": "stream",
     "text": [
      "Seed set to 7272\n"
     ]
    },
    {
     "data": {
      "text/plain": [
       "7272"
      ]
     },
     "execution_count": 5,
     "metadata": {},
     "output_type": "execute_result"
    }
   ],
   "source": [
    "device = torch.device(\"cuda:7\")\n",
    "batch_size = 1024\n",
    "val_batch_size = 2048\n",
    "training_time_steps = 1000\n",
    "training_iters = 5_000\n",
    "val_iters = 1000\n",
    "ddim_steps = 50\n",
    "ddim_eta = 1.0\n",
    "log_freq = 500\n",
    "seed = 7272\n",
    "pytorch_lightning.seed_everything(seed)"
   ]
  },
  {
   "cell_type": "code",
   "execution_count": 6,
   "id": "a206718d",
   "metadata": {},
   "outputs": [],
   "source": [
    "diffusion_config = {\n",
    "    \"betas\": get_named_beta_schedule(\"linear\", training_time_steps),\n",
    "    \"model_mean_type\": ModelMeanType.EPSILON,\n",
    "    \"model_var_type\": ModelVarType.FIXED_LARGE,\n",
    "    \"loss_type\": LossType.MSE\n",
    "}\n",
    "training_diffusion = GaussianDiffusion(**diffusion_config)\n",
    "sampling_diffusion = SpacedDiffusion(use_timesteps=space_timesteps(training_time_steps, f\"ddim{ddim_steps}\"),\n",
    "                                      **diffusion_config)\n",
    "# schedule_sampler = create_named_schedule_sampler(\"uniform\", training_diffusion)\n",
    "schedule_sampler = SpeedSampler(diffusion=training_diffusion,\n",
    "                                lam=0.6,\n",
    "                                k=5,\n",
    "                                tau=700)\n",
    "image_simulator = ImageSimulator(img_height=image_size,\n",
    "                                 img_width=image_size,\n",
    "                                 max_objects=1,\n",
    "                                 min_flux=200.0,\n",
    "                                 psf_stdev=1.0 if image_size > 1 else 0.1,\n",
    "                                 background_intensity=100.0).to(device=device)"
   ]
  },
  {
   "cell_type": "code",
   "execution_count": 7,
   "id": "c64c79e1",
   "metadata": {},
   "outputs": [],
   "source": [
    "my_net = FourierMLP(data_shape=[1,], \n",
    "                    num_layers=8, \n",
    "                    hidden_ch=256).to(device=device)\n",
    "# my_net = SimpleMLP(layers=8, hidden_ch=256).to(device=device)\n",
    "my_optimizer = torch.optim.Adam(my_net.parameters(), lr=1e-3, amsgrad=True)"
   ]
  },
  {
   "cell_type": "code",
   "execution_count": 8,
   "id": "7e1f362a",
   "metadata": {},
   "outputs": [],
   "source": [
    "def encode_flux(flux: torch.Tensor):\n",
    "    assert flux.min() > 0.0 and flux.max() <= 2000.0\n",
    "    return (torch.log1p(flux) / 7.61) * 2 - 1\n",
    "\n",
    "def decode_flux(flux_minus1_to_1: torch.Tensor):\n",
    "    assert flux_minus1_to_1.min() >= -1.0 and flux_minus1_to_1.max() <= 1.0\n",
    "    return torch.expm1((flux_minus1_to_1 + 1) / 2 * 7.61)"
   ]
  },
  {
   "cell_type": "code",
   "execution_count": 9,
   "id": "b02aa2c3",
   "metadata": {},
   "outputs": [
    {
     "name": "stderr",
     "output_type": "stream",
     "text": [
      " 10%|█         | 511/5000 [00:08<01:11, 63.17it/s]"
     ]
    },
    {
     "name": "stdout",
     "output_type": "stream",
     "text": [
      "[500/5000] loss: 9.772e-03\n"
     ]
    },
    {
     "name": "stderr",
     "output_type": "stream",
     "text": [
      " 20%|██        | 1008/5000 [00:16<01:02, 63.43it/s]"
     ]
    },
    {
     "name": "stdout",
     "output_type": "stream",
     "text": [
      "[1000/5000] loss: 5.469e-03\n"
     ]
    },
    {
     "name": "stderr",
     "output_type": "stream",
     "text": [
      " 30%|███       | 1512/5000 [00:23<00:54, 63.49it/s]"
     ]
    },
    {
     "name": "stdout",
     "output_type": "stream",
     "text": [
      "[1500/5000] loss: 3.901e-03\n"
     ]
    },
    {
     "name": "stderr",
     "output_type": "stream",
     "text": [
      " 40%|████      | 2009/5000 [00:31<00:46, 65.01it/s]"
     ]
    },
    {
     "name": "stdout",
     "output_type": "stream",
     "text": [
      "[2000/5000] loss: 3.472e-03\n"
     ]
    },
    {
     "name": "stderr",
     "output_type": "stream",
     "text": [
      " 50%|█████     | 2506/5000 [00:39<00:38, 64.14it/s]"
     ]
    },
    {
     "name": "stdout",
     "output_type": "stream",
     "text": [
      "[2500/5000] loss: 6.027e-03\n"
     ]
    },
    {
     "name": "stderr",
     "output_type": "stream",
     "text": [
      " 60%|██████    | 3011/5000 [00:47<00:31, 63.75it/s]"
     ]
    },
    {
     "name": "stdout",
     "output_type": "stream",
     "text": [
      "[3000/5000] loss: 2.727e-03\n"
     ]
    },
    {
     "name": "stderr",
     "output_type": "stream",
     "text": [
      " 70%|███████   | 3509/5000 [00:55<00:23, 62.28it/s]"
     ]
    },
    {
     "name": "stdout",
     "output_type": "stream",
     "text": [
      "[3500/5000] loss: 2.581e-03\n"
     ]
    },
    {
     "name": "stderr",
     "output_type": "stream",
     "text": [
      " 80%|████████  | 4006/5000 [01:03<00:15, 62.65it/s]"
     ]
    },
    {
     "name": "stdout",
     "output_type": "stream",
     "text": [
      "[4000/5000] loss: 7.038e-03\n"
     ]
    },
    {
     "name": "stderr",
     "output_type": "stream",
     "text": [
      " 90%|█████████ | 4508/5000 [01:10<00:06, 71.88it/s]"
     ]
    },
    {
     "name": "stdout",
     "output_type": "stream",
     "text": [
      "[4500/5000] loss: 3.392e-03\n"
     ]
    },
    {
     "name": "stderr",
     "output_type": "stream",
     "text": [
      "100%|██████████| 5000/5000 [01:18<00:00, 63.97it/s]"
     ]
    },
    {
     "name": "stdout",
     "output_type": "stream",
     "text": [
      "[5000/5000] loss: 2.974e-03\n"
     ]
    },
    {
     "name": "stderr",
     "output_type": "stream",
     "text": [
      "\n"
     ]
    }
   ],
   "source": [
    "my_net.train()\n",
    "loss_record = []\n",
    "for i in tqdm.tqdm(list(range(training_iters))):\n",
    "    catalog = image_simulator.generate(batch_size, add_second_source=add_second_source)\n",
    "    t, batch_sample_weights, batch_loss_weights = schedule_sampler.sample(batch_size, device=device)\n",
    "    target_fluxes = catalog[\"fluxes\"]  # (b, 1)\n",
    "    input_image = catalog[\"images\"].unsqueeze(1)  # (b, 1, h, w)\n",
    "    train_loss_args = {\n",
    "        \"model\": my_net,\n",
    "        \"x_start\": encode_flux(target_fluxes),\n",
    "        \"t\": t,\n",
    "        \"loss_weights\": batch_loss_weights\n",
    "    }\n",
    "    loss = training_diffusion.training_losses(**train_loss_args, \n",
    "                                              model_kwargs={\"image\": input_image})[\"loss\"]\n",
    "    loss = (loss * batch_sample_weights).mean()\n",
    "    loss_record.append(loss.item())\n",
    "    my_optimizer.zero_grad()\n",
    "    loss.backward()\n",
    "    my_optimizer.step()\n",
    "    if (i + 1) % log_freq == 0:\n",
    "        print(f\"[{i + 1}/{training_iters}] loss: {loss.item():.3e}\")"
   ]
  },
  {
   "cell_type": "code",
   "execution_count": 10,
   "id": "b2609ec7",
   "metadata": {},
   "outputs": [
    {
     "data": {
      "image/png": "[encoded data removed]",
      "text/plain": [
       "<Figure size 640x480 with 1 Axes>"
      ]
     },
     "metadata": {},
     "output_type": "display_data"
    }
   ],
   "source": [
    "plt.plot(loss_record)\n",
    "plt.xlabel(\"Training Steps\")\n",
    "plt.ylabel(\"Loss\")\n",
    "plt.yscale(\"log\")\n",
    "plt.show()"
   ]
  },
  {
   "cell_type": "code",
   "execution_count": 11,
   "id": "1e28072a",
   "metadata": {},
   "outputs": [
    {
     "name": "stderr",
     "output_type": "stream",
     "text": [
      "100%|██████████| 1000/1000 [02:06<00:00,  7.91it/s]\n"
     ]
    }
   ],
   "source": [
    "my_net.eval()\n",
    "val_true_fluxes = None\n",
    "val_est_fluxes = []\n",
    "with torch.inference_mode():\n",
    "    for i in tqdm.tqdm(list(range(val_iters))):\n",
    "        val_catalog = image_simulator.generate(batch_size=val_batch_size, \n",
    "                                               seed=seed, \n",
    "                                               add_second_source=add_second_source)\n",
    "        target_fluxes = val_catalog[\"fluxes\"]  # (b, 1)\n",
    "        if val_true_fluxes is None:\n",
    "            val_true_fluxes = target_fluxes\n",
    "        else:\n",
    "            assert torch.allclose(val_true_fluxes, target_fluxes)\n",
    "        input_image = val_catalog[\"images\"].unsqueeze(1)\n",
    "        diffusion_sampling_config = {\n",
    "            \"model\": my_net,\n",
    "            \"shape\": (val_batch_size, 1),\n",
    "            \"clip_denoised\": True,\n",
    "            \"model_kwargs\": {\"image\": input_image}\n",
    "        }\n",
    "        sample = sampling_diffusion.ddim_sample_loop(**diffusion_sampling_config, eta=ddim_eta)\n",
    "        val_est_fluxes.append(decode_flux(sample).cpu())\n",
    "val_est_fluxes = torch.stack(val_est_fluxes, dim=0)"
   ]
  },
  {
   "cell_type": "code",
   "execution_count": 12,
   "id": "e6545dc1",
   "metadata": {},
   "outputs": [],
   "source": [
    "val_true_fluxes = val_true_fluxes.cpu()"
   ]
  },
  {
   "cell_type": "code",
   "execution_count": 13,
   "id": "c0ac46d0",
   "metadata": {},
   "outputs": [
    {
     "data": {
      "text/plain": [
       "torch.Size([2048, 1])"
      ]
     },
     "execution_count": 13,
     "metadata": {},
     "output_type": "execute_result"
    }
   ],
   "source": [
    "val_true_fluxes.shape"
   ]
  },
  {
   "cell_type": "code",
   "execution_count": 14,
   "id": "efc95a81",
   "metadata": {},
   "outputs": [
    {
     "data": {
      "text/plain": [
       "torch.Size([1000, 2048, 1])"
      ]
     },
     "execution_count": 14,
     "metadata": {},
     "output_type": "execute_result"
    }
   ],
   "source": [
    "val_est_fluxes.shape"
   ]
  },
  {
   "cell_type": "code",
   "execution_count": 15,
   "id": "3821aa09",
   "metadata": {},
   "outputs": [
    {
     "data": {
      "text/plain": [
       "tensor(2414.6919)"
      ]
     },
     "execution_count": 15,
     "metadata": {},
     "output_type": "execute_result"
    }
   ],
   "source": [
    "torch.mean((val_true_fluxes - val_est_fluxes) ** 2)"
   ]
  },
  {
   "cell_type": "code",
   "execution_count": 16,
   "id": "b0593785",
   "metadata": {},
   "outputs": [
    {
     "data": {
      "text/plain": [
       "tensor(38.2169)"
      ]
     },
     "execution_count": 16,
     "metadata": {},
     "output_type": "execute_result"
    }
   ],
   "source": [
    "torch.mean(torch.abs(val_true_fluxes - val_est_fluxes))"
   ]
  },
  {
   "cell_type": "code",
   "execution_count": 17,
   "id": "acfa1c53",
   "metadata": {},
   "outputs": [
    {
     "data": {
      "image/png": "[encoded data removed]",
      "text/plain": [
       "<Figure size 640x480 with 1 Axes>"
      ]
     },
     "metadata": {},
     "output_type": "display_data"
    }
   ],
   "source": [
    "plt.hist(val_est_fluxes.flatten(), color=\"red\", alpha=0.5, density=True, label=\"Est\")\n",
    "plt.hist(val_true_fluxes.flatten(), color=\"green\", alpha=0.5, density=True, label=\"True\")\n",
    "plt.ylabel(\"Density\")\n",
    "plt.xlabel(\"Flux\")\n",
    "plt.legend()\n",
    "plt.show()"
   ]
  },
  {
   "cell_type": "code",
   "execution_count": 18,
   "id": "1433e745",
   "metadata": {},
   "outputs": [],
   "source": [
    "ci_cover = torch.tensor([i / 100 for i in range(5, 100, 5)])\n",
    "left_q_points = [(1.0 - c) / 2 for c in ci_cover]\n",
    "right_q_points = [1.0 - lq for lq in left_q_points]\n",
    "actual_ci_cover = []\n",
    "for q in zip(left_q_points, right_q_points):\n",
    "    q = torch.tensor(q)\n",
    "    est_fluxes_q = val_est_fluxes.quantile(q=q, dim=0).permute([1, 2, 0])  # (b, 1, 2)\n",
    "    above_lower_bound = val_true_fluxes[:, 0] > est_fluxes_q[:, 0, 0]\n",
    "    below_upper_bound = val_true_fluxes[:, 0] < est_fluxes_q[:, 0, 1]\n",
    "    actual_ci_cover.append((above_lower_bound & below_upper_bound).sum() / val_true_fluxes.shape[0])"
   ]
  },
  {
   "cell_type": "code",
   "execution_count": 19,
   "id": "85f96057",
   "metadata": {},
   "outputs": [],
   "source": [
    "actual_ci_cover = torch.cat([a.unsqueeze(0) for a in actual_ci_cover])"
   ]
  },
  {
   "cell_type": "code",
   "execution_count": 20,
   "id": "3928e778",
   "metadata": {},
   "outputs": [
    {
     "data": {
      "text/plain": [
       "tensor([0.0405, 0.0693, 0.1074, 0.1533, 0.1929, 0.2280, 0.2568, 0.3057, 0.3438,\n",
       "        0.3838, 0.4287, 0.4688, 0.5166, 0.5625, 0.6025, 0.6523, 0.7051, 0.7607,\n",
       "        0.8364])"
      ]
     },
     "execution_count": 20,
     "metadata": {},
     "output_type": "execute_result"
    }
   ],
   "source": [
    "actual_ci_cover"
   ]
  },
  {
   "cell_type": "code",
   "execution_count": 21,
   "id": "7245cea8",
   "metadata": {},
   "outputs": [
    {
     "data": {
      "image/png": "[encoded data removed]",
      "text/plain": [
       "<Figure size 800x800 with 1 Axes>"
      ]
     },
     "metadata": {},
     "output_type": "display_data"
    }
   ],
   "source": [
    "plt.figure(figsize=(8, 8))\n",
    "a_m_c = actual_ci_cover - ci_cover\n",
    "plt.plot(ci_cover, a_m_c, label=\"Diffusion (new t schedule)\")\n",
    "plt.plot(ci_cover, torch.zeros_like(ci_cover), linestyle=\"dashed\", label=\"Expected\")\n",
    "plt.legend(loc=\"upper right\")\n",
    "plt.grid()\n",
    "plt.xticks(ci_cover, rotation=45)\n",
    "plt.xlabel(\"Expected CI Cover\")\n",
    "plt.ylabel(\"Actual - True CI Cover\")\n",
    "plt.show()"
   ]
  }
 ],
 "metadata": {
  "kernelspec": {
   "display_name": ".venv",
   "language": "python",
   "name": "python3"
  },
  "language_info": {
   "codemirror_mode": {
    "name": "ipython",
    "version": 3
   },
   "file_extension": ".py",
   "mimetype": "text/x-python",
   "name": "python",
   "nbconvert_exporter": "python",
   "pygments_lexer": "ipython3",
   "version": "3.10.12"
  }
 },
 "nbformat": 4,
 "nbformat_minor": 5
}

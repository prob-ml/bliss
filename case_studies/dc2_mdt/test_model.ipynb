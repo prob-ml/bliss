{
 "cells": [
  {
   "cell_type": "code",
   "execution_count": 1,
   "id": "1d4d2228",
   "metadata": {},
   "outputs": [],
   "source": [
    "import torch\n",
    "\n",
    "from case_studies.dc2_mdt.utils.models import MDTv2_S_2"
   ]
  },
  {
   "cell_type": "code",
   "execution_count": 2,
   "id": "424b188d",
   "metadata": {},
   "outputs": [],
   "source": [
    "device = torch.device(\"cuda:7\")"
   ]
  },
  {
   "cell_type": "code",
   "execution_count": 3,
   "id": "119f3c6f",
   "metadata": {},
   "outputs": [],
   "source": [
    "mdt_model = MDTv2_S_2(image_n_bands=6, image_ch_per_band=16, image_feats_ch=128, \n",
    "                      input_size=20, in_channels=9, mask_ratio=0.3).to(device=device)"
   ]
  },
  {
   "cell_type": "code",
   "execution_count": 4,
   "id": "408f4090",
   "metadata": {},
   "outputs": [],
   "source": [
    "x = torch.randn(4, 9, 20, 20, device=device)\n",
    "t = torch.arange(4, device=device)\n",
    "image = torch.randn(4, 6, 16, 80, 80, device=device)"
   ]
  },
  {
   "cell_type": "code",
   "execution_count": 5,
   "id": "7ece7df0",
   "metadata": {},
   "outputs": [
    {
     "data": {
      "text/plain": [
       "torch.Size([4, 18, 20, 20])"
      ]
     },
     "execution_count": 5,
     "metadata": {},
     "output_type": "execute_result"
    }
   ],
   "source": [
    "mdt_model(x, t, image, enable_mask=True).shape"
   ]
  }
 ],
 "metadata": {
  "kernelspec": {
   "display_name": ".venv",
   "language": "python",
   "name": "python3"
  },
  "language_info": {
   "codemirror_mode": {
    "name": "ipython",
    "version": 3
   },
   "file_extension": ".py",
   "mimetype": "text/x-python",
   "name": "python",
   "nbconvert_exporter": "python",
   "pygments_lexer": "ipython3",
   "version": "3.10.12"
  }
 },
 "nbformat": 4,
 "nbformat_minor": 5
}

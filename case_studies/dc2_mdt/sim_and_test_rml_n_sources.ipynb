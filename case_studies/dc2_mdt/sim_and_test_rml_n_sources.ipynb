{
 "cells": [
  {
   "cell_type": "code",
   "execution_count": 1,
   "id": "335744c3",
   "metadata": {},
   "outputs": [],
   "source": [
    "%load_ext autoreload\n",
    "%autoreload 2"
   ]
  },
  {
   "cell_type": "code",
   "execution_count": 2,
   "id": "4adfb5a4",
   "metadata": {},
   "outputs": [],
   "source": [
    "import torch\n",
    "from torch import nn\n",
    "import tqdm\n",
    "from einops import rearrange, repeat\n",
    "import numpy as np\n",
    "import pytorch_lightning\n",
    "from pytorch_lightning.utilities import move_data_to_device\n",
    "import matplotlib.pyplot as plt\n",
    "import seaborn as sns\n",
    "\n",
    "from case_studies.dc2_mdt.utils.reverse_markov_learning import RMLDiffusion\n",
    "from case_studies.dc2_mdt.utils.resample import SigmoidSampler\n",
    "from case_studies.dc2_mdt.utils.new_simulate_image import ImageSimulator"
   ]
  },
  {
   "cell_type": "code",
   "execution_count": 3,
   "id": "821892fc",
   "metadata": {},
   "outputs": [],
   "source": [
    "image_size = 8\n",
    "max_objects = 2\n",
    "image_normalize_strategy = \"linear_scale\""
   ]
  },
  {
   "cell_type": "markdown",
   "id": "876fc210",
   "metadata": {},
   "source": [
    "## RML"
   ]
  },
  {
   "cell_type": "code",
   "execution_count": 4,
   "id": "0bb7a360",
   "metadata": {},
   "outputs": [],
   "source": [
    "class FourierMLP(nn.Module):\n",
    "    def __init__(self, data_shape, num_layers, hidden_ch):\n",
    "        super().__init__()\n",
    "        self.data_shape = [data_shape]\n",
    "\n",
    "        self.register_buffer(\n",
    "            \"timestep_coeff\", torch.linspace(start=0.1, end=100, steps=hidden_ch)[None]\n",
    "        )  # (1, hidden)\n",
    "        self.timestep_phase = nn.Parameter(torch.randn(hidden_ch)[None])  # (1, hidden)\n",
    "        self.input_embed = nn.Sequential(\n",
    "            nn.Linear(int(np.prod(data_shape)), hidden_ch),\n",
    "            nn.GELU(),\n",
    "            nn.Linear(hidden_ch, hidden_ch)\n",
    "        )\n",
    "        self.timestep_embed = nn.Sequential(\n",
    "            nn.Linear(2 * hidden_ch, hidden_ch),\n",
    "            nn.GELU(),\n",
    "            nn.Linear(hidden_ch, hidden_ch),\n",
    "        )\n",
    "        self.image_embed = nn.Sequential(\n",
    "            nn.Linear(image_size * image_size, hidden_ch),\n",
    "            nn.GELU(),\n",
    "            nn.Linear(hidden_ch, hidden_ch)\n",
    "        )\n",
    "        self.layers = nn.Sequential(\n",
    "            nn.Linear(hidden_ch * 2 + int(np.prod(data_shape)), hidden_ch), \n",
    "            nn.GELU(),\n",
    "            *[\n",
    "                nn.Sequential(nn.Linear(hidden_ch, hidden_ch), nn.GELU())\n",
    "                for _ in range(num_layers)\n",
    "            ],\n",
    "            nn.Linear(hidden_ch, int(np.prod(data_shape))),\n",
    "        )\n",
    "\n",
    "        self.vmap_timestep_embed = torch.vmap(self.timestep_embed.forward, in_dims=1, out_dims=1, randomness=\"same\")\n",
    "        self.vmap_input_embed = torch.vmap(self.input_embed.forward, in_dims=1, out_dims=1, randomness=\"same\")\n",
    "        self.vmap_layers = torch.vmap(self.layers.forward, in_dims=1, out_dims=1, randomness=\"same\")\n",
    "\n",
    "    def forward(self, x, t, image, epsilon, is_training):\n",
    "        if is_training:\n",
    "            t = t.unsqueeze(-1)  # (b, m, 1)\n",
    "            sin_embed_t = torch.sin(\n",
    "                (self.timestep_coeff.unsqueeze(0) * t.float()) + self.timestep_phase.unsqueeze(0)\n",
    "            )\n",
    "            cos_embed_t = torch.cos(\n",
    "                (self.timestep_coeff.unsqueeze(0) * t.float()) + self.timestep_phase.unsqueeze(0)\n",
    "            )\n",
    "            embed_t = self.vmap_timestep_embed(\n",
    "                rearrange(torch.stack([sin_embed_t, cos_embed_t], dim=0), \n",
    "                          \"d b m w -> b m (d w)\")\n",
    "            )  # (b, m, hidden)\n",
    "            embed_xt = self.vmap_input_embed(x.flatten(2))  # (b, m, hidden)\n",
    "            embed_image = self.image_embed(image.flatten(1))  # (b, hidden)\n",
    "            embed_image = repeat(embed_image, \"b hidden -> b m hidden\", m=t.shape[1])\n",
    "            out = self.vmap_layers(\n",
    "                torch.cat([embed_xt + embed_t, embed_image, epsilon.flatten(2)], dim=-1)\n",
    "            )\n",
    "            return out.view(x.shape)\n",
    "        t = t.clone()\n",
    "        image = image.clone()\n",
    "        t = t.unsqueeze(-1)  # (b, 1)\n",
    "        sin_embed_t = torch.sin(\n",
    "            (self.timestep_coeff * t.float()) + self.timestep_phase\n",
    "        )  # (b, hidden)\n",
    "        cos_embed_t = torch.cos(\n",
    "            (self.timestep_coeff * t.float()) + self.timestep_phase\n",
    "        )\n",
    "        embed_t = self.timestep_embed(\n",
    "            rearrange(torch.stack([sin_embed_t, cos_embed_t], dim=0), \n",
    "                      \"d b w -> b (d w)\")\n",
    "        )\n",
    "        embed_xt = self.input_embed(x.flatten(1))\n",
    "        embed_image = self.image_embed(image.flatten(1))\n",
    "        out = self.layers(\n",
    "            torch.cat([embed_xt + embed_t, embed_image, epsilon.flatten(1)], dim=-1)\n",
    "        )\n",
    "        return out.view(x.shape)"
   ]
  },
  {
   "cell_type": "code",
   "execution_count": 27,
   "id": "2185616b",
   "metadata": {},
   "outputs": [
    {
     "name": "stderr",
     "output_type": "stream",
     "text": [
      "Seed set to 1201023\n"
     ]
    },
    {
     "data": {
      "text/plain": [
       "1201023"
      ]
     },
     "execution_count": 27,
     "metadata": {},
     "output_type": "execute_result"
    }
   ],
   "source": [
    "device = torch.device(\"cuda:5\")\n",
    "batch_size = 1024\n",
    "training_time_steps = 1000\n",
    "training_iters = 10_000\n",
    "ddim_steps = 6\n",
    "ddim_eta = 0.0  # use 0.0 for better results when max_objects >= 2\n",
    "log_freq = 500\n",
    "seed = 1201023\n",
    "pytorch_lightning.seed_everything(seed)"
   ]
  },
  {
   "cell_type": "code",
   "execution_count": 6,
   "id": "575b06e4",
   "metadata": {},
   "outputs": [],
   "source": [
    "image_simulator = ImageSimulator(img_height=image_size,\n",
    "                                 img_width=image_size,\n",
    "                                 max_objects=max_objects,\n",
    "                                 psf_stdev=1.0,\n",
    "                                 flux_alpha=10.0,\n",
    "                                 flux_beta=0.01,\n",
    "                                 pad=0,\n",
    "                                 always_max_count=False,\n",
    "                                 constant_locs=False,\n",
    "                                 coadd_images=True).to(device=device)"
   ]
  },
  {
   "cell_type": "code",
   "execution_count": 7,
   "id": "22773c68",
   "metadata": {},
   "outputs": [
    {
     "data": {
      "image/png": "[encoded data removed]",
      "text/plain": [
       "<Figure size 500x500 with 2 Axes>"
      ]
     },
     "metadata": {},
     "output_type": "display_data"
    },
    {
     "data": {
      "image/png": "[encoded data removed]",
      "text/plain": [
       "<Figure size 500x500 with 2 Axes>"
      ]
     },
     "metadata": {},
     "output_type": "display_data"
    },
    {
     "data": {
      "image/png": "[encoded data removed]",
      "text/plain": [
       "<Figure size 500x500 with 2 Axes>"
      ]
     },
     "metadata": {},
     "output_type": "display_data"
    }
   ],
   "source": [
    "sim_out = image_simulator.generate(3, seed=7272)\n",
    "img_min = sim_out[\"images\"].min()\n",
    "img_max = sim_out[\"images\"].max()\n",
    "for sub_img, flux in zip(sim_out[\"images\"], sim_out[\"fluxes\"]):\n",
    "    fig, ax = plt.subplots(1, 1, figsize=(5, 5))\n",
    "    im = ax.imshow(sub_img.cpu(), vmin=img_min, vmax=img_max)\n",
    "    ax.set_xticks([])\n",
    "    ax.set_yticks([])\n",
    "    if flux.shape[0] == 1:\n",
    "        ax.set_title(f\"Flux: {flux.item():.1f}\")\n",
    "    else:\n",
    "        t = \"\"\n",
    "        for i, f in enumerate(flux):\n",
    "            t += f\"Flux[{i}]: {f.item():.1f}; \"\n",
    "        ax.set_title(t)\n",
    "    cb = fig.colorbar(im, ax=ax, \n",
    "                      location=\"bottom\", shrink=0.6,\n",
    "                      anchor=(0.5, 2.0))\n",
    "    cb.minorticks_on()\n",
    "    fig.tight_layout()\n",
    "    fig.show()"
   ]
  },
  {
   "cell_type": "code",
   "execution_count": 28,
   "id": "a206718d",
   "metadata": {},
   "outputs": [],
   "source": [
    "training_diffusion = RMLDiffusion(num_timesteps=training_time_steps,\n",
    "                                  num_sampling_steps=ddim_steps,\n",
    "                                  m=4,\n",
    "                                  lambda_=1.0,\n",
    "                                  beta=0.5)\n",
    "sampling_diffusion = training_diffusion\n",
    "# schedule_sampler = create_named_schedule_sampler(\"uniform\", training_diffusion)\n",
    "# schedule_sampler = SpeedSampler(diffusion=training_diffusion,\n",
    "#                                 lam=0.6,\n",
    "#                                 k=5,\n",
    "#                                 tau=700)\n",
    "schedule_sampler = SigmoidSampler(training_diffusion, 0)"
   ]
  },
  {
   "cell_type": "code",
   "execution_count": 9,
   "id": "c64c79e1",
   "metadata": {},
   "outputs": [],
   "source": [
    "my_net = FourierMLP(data_shape=[2, 1], \n",
    "                    num_layers=4, \n",
    "                    hidden_ch=32).to(device=device)\n",
    "my_optimizer = torch.optim.Adam(my_net.parameters(), lr=1e-3, amsgrad=True)\n",
    "my_scheduler = torch.optim.lr_scheduler.MultiStepLR(my_optimizer, milestones=[training_iters // 4 * 3], gamma=0.1)"
   ]
  },
  {
   "cell_type": "code",
   "execution_count": 10,
   "id": "0bdaaf75",
   "metadata": {},
   "outputs": [],
   "source": [
    "def encode_x_start(catalog):\n",
    "    n_sources = catalog[\"counts\"]  # (b, )\n",
    "    n_sources = (n_sources.unsqueeze(-1) >= torch.arange(1, max_objects + 1, device=device)).unsqueeze(-1)  # (b, m, 1)\n",
    "    x_start = (n_sources * 2 - 1).float()\n",
    "    return x_start"
   ]
  },
  {
   "cell_type": "code",
   "execution_count": 11,
   "id": "0bec71c3",
   "metadata": {},
   "outputs": [],
   "source": [
    "def decode_x_start(output_x_start):\n",
    "    n_sources = output_x_start[..., 0] > 0.0  # (b, m)\n",
    "    return {\n",
    "        \"counts\": n_sources.sum(dim=-1),\n",
    "        \"n_sources\": n_sources.int(),\n",
    "    }"
   ]
  },
  {
   "cell_type": "code",
   "execution_count": 12,
   "id": "d4fe3165",
   "metadata": {},
   "outputs": [],
   "source": [
    "def normalize_image(input_image):\n",
    "    match image_normalize_strategy:\n",
    "        case \"none\":\n",
    "            output_image = input_image\n",
    "        case \"log\":\n",
    "            output_image = torch.log1p(input_image)\n",
    "        case \"linear_scale\":\n",
    "            output_image = input_image / 1000\n",
    "        case _:\n",
    "            raise NotImplementedError()\n",
    "    return output_image"
   ]
  },
  {
   "cell_type": "code",
   "execution_count": 13,
   "id": "b02aa2c3",
   "metadata": {},
   "outputs": [
    {
     "name": "stderr",
     "output_type": "stream",
     "text": [
      "  5%|▌         | 509/10000 [00:09<02:57, 53.47it/s]"
     ]
    },
    {
     "name": "stdout",
     "output_type": "stream",
     "text": [
      "[500/10000] loss: 3.614e-02\n"
     ]
    },
    {
     "name": "stderr",
     "output_type": "stream",
     "text": [
      " 10%|█         | 1007/10000 [00:18<02:45, 54.38it/s]"
     ]
    },
    {
     "name": "stdout",
     "output_type": "stream",
     "text": [
      "[1000/10000] loss: 2.950e-02\n"
     ]
    },
    {
     "name": "stderr",
     "output_type": "stream",
     "text": [
      " 15%|█▌        | 1506/10000 [00:27<02:34, 55.00it/s]"
     ]
    },
    {
     "name": "stdout",
     "output_type": "stream",
     "text": [
      "[1500/10000] loss: 2.461e-02\n"
     ]
    },
    {
     "name": "stderr",
     "output_type": "stream",
     "text": [
      " 20%|██        | 2010/10000 [00:37<02:28, 53.98it/s]"
     ]
    },
    {
     "name": "stdout",
     "output_type": "stream",
     "text": [
      "[2000/10000] loss: 2.789e-02\n"
     ]
    },
    {
     "name": "stderr",
     "output_type": "stream",
     "text": [
      " 25%|██▌       | 2508/10000 [00:46<02:21, 52.95it/s]"
     ]
    },
    {
     "name": "stdout",
     "output_type": "stream",
     "text": [
      "[2500/10000] loss: 2.414e-02\n"
     ]
    },
    {
     "name": "stderr",
     "output_type": "stream",
     "text": [
      " 30%|███       | 3006/10000 [00:55<02:12, 52.85it/s]"
     ]
    },
    {
     "name": "stdout",
     "output_type": "stream",
     "text": [
      "[3000/10000] loss: 2.199e-02\n"
     ]
    },
    {
     "name": "stderr",
     "output_type": "stream",
     "text": [
      " 35%|███▌      | 3510/10000 [01:05<01:54, 56.44it/s]"
     ]
    },
    {
     "name": "stdout",
     "output_type": "stream",
     "text": [
      "[3500/10000] loss: 2.255e-02\n"
     ]
    },
    {
     "name": "stderr",
     "output_type": "stream",
     "text": [
      " 40%|████      | 4008/10000 [01:14<01:53, 52.87it/s]"
     ]
    },
    {
     "name": "stdout",
     "output_type": "stream",
     "text": [
      "[4000/10000] loss: 1.852e-02\n"
     ]
    },
    {
     "name": "stderr",
     "output_type": "stream",
     "text": [
      " 45%|████▌     | 4506/10000 [01:23<01:43, 52.98it/s]"
     ]
    },
    {
     "name": "stdout",
     "output_type": "stream",
     "text": [
      "[4500/10000] loss: 1.819e-02\n"
     ]
    },
    {
     "name": "stderr",
     "output_type": "stream",
     "text": [
      " 50%|█████     | 5005/10000 [01:32<01:31, 54.43it/s]"
     ]
    },
    {
     "name": "stdout",
     "output_type": "stream",
     "text": [
      "[5000/10000] loss: 2.194e-02\n"
     ]
    },
    {
     "name": "stderr",
     "output_type": "stream",
     "text": [
      " 55%|█████▌    | 5509/10000 [01:42<01:22, 54.25it/s]"
     ]
    },
    {
     "name": "stdout",
     "output_type": "stream",
     "text": [
      "[5500/10000] loss: 2.428e-02\n"
     ]
    },
    {
     "name": "stderr",
     "output_type": "stream",
     "text": [
      " 60%|██████    | 6007/10000 [01:51<01:14, 53.36it/s]"
     ]
    },
    {
     "name": "stdout",
     "output_type": "stream",
     "text": [
      "[6000/10000] loss: 1.746e-02\n"
     ]
    },
    {
     "name": "stderr",
     "output_type": "stream",
     "text": [
      " 65%|██████▌   | 6505/10000 [02:00<01:05, 53.64it/s]"
     ]
    },
    {
     "name": "stdout",
     "output_type": "stream",
     "text": [
      "[6500/10000] loss: 1.671e-02\n"
     ]
    },
    {
     "name": "stderr",
     "output_type": "stream",
     "text": [
      " 70%|███████   | 7009/10000 [02:10<00:55, 54.04it/s]"
     ]
    },
    {
     "name": "stdout",
     "output_type": "stream",
     "text": [
      "[7000/10000] loss: 2.017e-02\n"
     ]
    },
    {
     "name": "stderr",
     "output_type": "stream",
     "text": [
      " 75%|███████▌  | 7507/10000 [02:19<00:45, 54.96it/s]"
     ]
    },
    {
     "name": "stdout",
     "output_type": "stream",
     "text": [
      "[7500/10000] loss: 1.824e-02\n"
     ]
    },
    {
     "name": "stderr",
     "output_type": "stream",
     "text": [
      " 80%|████████  | 8005/10000 [02:28<00:37, 52.81it/s]"
     ]
    },
    {
     "name": "stdout",
     "output_type": "stream",
     "text": [
      "[8000/10000] loss: 1.595e-02\n"
     ]
    },
    {
     "name": "stderr",
     "output_type": "stream",
     "text": [
      " 85%|████████▌ | 8509/10000 [02:38<00:27, 53.68it/s]"
     ]
    },
    {
     "name": "stdout",
     "output_type": "stream",
     "text": [
      "[8500/10000] loss: 1.650e-02\n"
     ]
    },
    {
     "name": "stderr",
     "output_type": "stream",
     "text": [
      " 90%|█████████ | 9007/10000 [02:47<00:17, 55.49it/s]"
     ]
    },
    {
     "name": "stdout",
     "output_type": "stream",
     "text": [
      "[9000/10000] loss: 1.748e-02\n"
     ]
    },
    {
     "name": "stderr",
     "output_type": "stream",
     "text": [
      " 95%|█████████▌| 9505/10000 [02:56<00:09, 52.65it/s]"
     ]
    },
    {
     "name": "stdout",
     "output_type": "stream",
     "text": [
      "[9500/10000] loss: 1.702e-02\n"
     ]
    },
    {
     "name": "stderr",
     "output_type": "stream",
     "text": [
      "100%|██████████| 10000/10000 [03:05<00:00, 53.85it/s]"
     ]
    },
    {
     "name": "stdout",
     "output_type": "stream",
     "text": [
      "[10000/10000] loss: 1.702e-02\n"
     ]
    },
    {
     "name": "stderr",
     "output_type": "stream",
     "text": [
      "\n"
     ]
    }
   ],
   "source": [
    "my_net.train()\n",
    "loss_record = []\n",
    "for i in tqdm.tqdm(list(range(training_iters))):\n",
    "    catalog = image_simulator.generate(batch_size)\n",
    "    t, batch_sample_weights, batch_loss_weights = schedule_sampler.sample(batch_size, device=device)\n",
    "    input_image = catalog[\"images\"]  # (b, h, w)\n",
    "    input_image = normalize_image(input_image)\n",
    "    train_loss_args = {\n",
    "        \"model\": my_net,\n",
    "        \"x_start\": encode_x_start(catalog),\n",
    "        \"t\": t,\n",
    "        \"loss_weights\": batch_loss_weights\n",
    "    }\n",
    "    loss = training_diffusion.training_losses(**train_loss_args, \n",
    "                                              model_kwargs={\"image\": input_image})[\"loss\"]\n",
    "    loss = (loss * batch_sample_weights).mean()\n",
    "    loss_record.append(loss.item())\n",
    "    my_optimizer.zero_grad()\n",
    "    loss.backward()\n",
    "    my_optimizer.step()\n",
    "    my_scheduler.step()\n",
    "    if (i + 1) % log_freq == 0:\n",
    "        print(f\"[{i + 1}/{training_iters}] loss: {loss.item():.3e}\")"
   ]
  },
  {
   "cell_type": "code",
   "execution_count": 14,
   "id": "b2609ec7",
   "metadata": {},
   "outputs": [
    {
     "data": {
      "image/png": "[encoded data removed]",
      "text/plain": [
       "<Figure size 640x480 with 1 Axes>"
      ]
     },
     "metadata": {},
     "output_type": "display_data"
    }
   ],
   "source": [
    "plt.plot(loss_record)\n",
    "plt.xlabel(\"Training Steps\")\n",
    "plt.ylabel(\"Loss\")\n",
    "plt.yscale(\"log\")\n",
    "plt.show()"
   ]
  },
  {
   "cell_type": "code",
   "execution_count": 29,
   "id": "1e28072a",
   "metadata": {},
   "outputs": [
    {
     "name": "stderr",
     "output_type": "stream",
     "text": [
      "100%|██████████| 1000/1000 [00:14<00:00, 69.37it/s]\n"
     ]
    }
   ],
   "source": [
    "my_net.eval()\n",
    "val_true_cat = []\n",
    "val_est_cat = []\n",
    "with torch.inference_mode():\n",
    "    for i in tqdm.tqdm(list(range(1000))):\n",
    "        val_catalog = image_simulator.generate(batch_size=1024)\n",
    "        input_image = normalize_image(val_catalog[\"images\"])\n",
    "        val_catalog = decode_x_start(encode_x_start(val_catalog))\n",
    "        val_true_cat.append(move_data_to_device(val_catalog, \"cpu\"))\n",
    "        diffusion_sampling_config = {\n",
    "            \"model\": my_net,\n",
    "            \"shape\": (1024, max_objects, 1),\n",
    "            \"clip_denoised\": True,\n",
    "            \"model_kwargs\": {\"image\": input_image}\n",
    "        }\n",
    "        sample = sampling_diffusion.ddim_sample_loop(**diffusion_sampling_config, eta=ddim_eta)\n",
    "        val_est_cat.append(move_data_to_device(decode_x_start(sample), \"cpu\"))"
   ]
  },
  {
   "cell_type": "code",
   "execution_count": 30,
   "id": "22a50ebc",
   "metadata": {},
   "outputs": [],
   "source": [
    "diffusion_pred_ns = []\n",
    "diffusion_true_ns = []\n",
    "for ec, tc in zip(val_est_cat, val_true_cat, strict=True):\n",
    "    diffusion_pred_ns.append(ec[\"n_sources\"])\n",
    "    diffusion_true_ns.append(tc[\"n_sources\"])\n",
    "diffusion_pred_ns = torch.cat(diffusion_pred_ns, dim=0)\n",
    "diffusion_true_ns = torch.cat(diffusion_true_ns, dim=0)"
   ]
  },
  {
   "cell_type": "code",
   "execution_count": 31,
   "id": "822c0b7c",
   "metadata": {},
   "outputs": [
    {
     "data": {
      "text/plain": [
       "(torch.Size([1024000, 2]), torch.Size([1024000, 2]))"
      ]
     },
     "execution_count": 31,
     "metadata": {},
     "output_type": "execute_result"
    }
   ],
   "source": [
    "diffusion_true_ns.shape, diffusion_pred_ns.shape"
   ]
  },
  {
   "cell_type": "code",
   "execution_count": 32,
   "id": "5a86b36c",
   "metadata": {},
   "outputs": [],
   "source": [
    "def plot_cm(d_pred_bin_index, d_true_bin_index, bin_num, bin_labels, axis_label):\n",
    "    d_cm = torch.zeros(bin_num, bin_num, dtype=torch.int)\n",
    "    for ri in range(d_cm.shape[0]):\n",
    "        for ci in range(d_cm.shape[1]):\n",
    "            d_cm[ri, ci] = ((d_pred_bin_index == ri) & (d_true_bin_index == ci)).sum()\n",
    "\n",
    "    fig, ax = plt.subplots(1, 1, figsize=(8, 8))\n",
    "    sns.heatmap(d_cm,\n",
    "                annot=True,\n",
    "                fmt=\"d\", cmap=\"Greens\", cbar=False,\n",
    "                xticklabels=bin_labels,\n",
    "                yticklabels=bin_labels,\n",
    "                ax=ax)\n",
    "    ax.set_xlabel(f\"True {axis_label}\")\n",
    "    ax.set_ylabel(f\"Pred {axis_label}\")\n",
    "    ax.set_title(\"Diffusion\")\n",
    "    fig.show()\n",
    "\n",
    "    # fig, ax = plt.subplots(1, 1, figsize=(8, 8))\n",
    "    # sns.heatmap(d_cm / torch.sum(d_cm, dim=0, keepdim=True),\n",
    "    #             annot=True,\n",
    "    #             fmt=\".2f\", cmap=\"Greens\", cbar=False,\n",
    "    #             xticklabels=bin_labels,\n",
    "    #             yticklabels=bin_labels,\n",
    "    #             ax=ax)\n",
    "    # ax.set_xlabel(f\"True {axis_label}\")\n",
    "    # ax.set_ylabel(f\"Pred {axis_label}\")\n",
    "    # ax.set_title(\"Diffusion (CM in Percent)\")\n",
    "    # fig.show()\n",
    "\n",
    "    fig, ax = plt.subplots(1, 1, figsize=(8, 8))\n",
    "    sns.heatmap(((d_cm - d_cm.T) / torch.minimum(d_cm, d_cm.T).clamp(min=1)).abs(),\n",
    "                annot=(d_cm - d_cm.T) / torch.minimum(d_cm, d_cm.T).clamp(min=1),\n",
    "                fmt=\".2f\", cmap=\"Greens\", cbar=False,\n",
    "                xticklabels=bin_labels,\n",
    "                yticklabels=bin_labels,\n",
    "                ax=ax)\n",
    "    ax.set_xlabel(f\"True {axis_label}\")\n",
    "    ax.set_ylabel(f\"Pred {axis_label}\")\n",
    "    ax.set_title(\"Diffusion (Asymmetry Factor)\")\n",
    "    fig.show()"
   ]
  },
  {
   "cell_type": "code",
   "execution_count": 33,
   "id": "0d5f9135",
   "metadata": {},
   "outputs": [
    {
     "data": {
      "image/png": "[encoded data removed]",
      "text/plain": [
       "<Figure size 800x800 with 1 Axes>"
      ]
     },
     "metadata": {},
     "output_type": "display_data"
    },
    {
     "data": {
      "image/png": "[encoded data removed]",
      "text/plain": [
       "<Figure size 800x800 with 1 Axes>"
      ]
     },
     "metadata": {},
     "output_type": "display_data"
    }
   ],
   "source": [
    "plot_cm(diffusion_pred_ns.sum(dim=-1), diffusion_true_ns.sum(dim=-1), \n",
    "        bin_num=3, bin_labels=list(range(3)), axis_label=\"Source Count\")"
   ]
  }
 ],
 "metadata": {
  "kernelspec": {
   "display_name": ".venv",
   "language": "python",
   "name": "python3"
  },
  "language_info": {
   "codemirror_mode": {
    "name": "ipython",
    "version": 3
   },
   "file_extension": ".py",
   "mimetype": "text/x-python",
   "name": "python",
   "nbconvert_exporter": "python",
   "pygments_lexer": "ipython3",
   "version": "3.10.12"
  }
 },
 "nbformat": 4,
 "nbformat_minor": 5
}

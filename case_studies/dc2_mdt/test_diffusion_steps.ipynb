{
 "cells": [
  {
   "cell_type": "code",
   "execution_count": null,
   "metadata": {},
   "outputs": [],
   "source": [
    "import torch\n",
    "import tqdm\n",
    "\n",
    "from hydra import initialize, compose\n",
    "from hydra.utils import instantiate\n",
    "import pytorch_lightning\n",
    "from pytorch_lightning.utilities import move_data_to_device\n",
    "\n",
    "from bliss.surveys.dc2 import DC2DataModule\n",
    "\n",
    "from case_studies.dc2_mdt.utils.encoder import DiffusionEncoder"
   ]
  },
  {
   "cell_type": "code",
   "execution_count": null,
   "metadata": {},
   "outputs": [],
   "source": [
    "model_name = \"exp_04-10-2\"\n",
    "model_check_point_name = \"encoder_67.ckpt\"\n",
    "model_path = f\"../../../bliss_output/DC2_mdt_exp/{model_name}/checkpoints/{model_check_point_name}\"\n",
    "device = torch.device(\"cuda:7\" if torch.cuda.is_available() else \"cpu\")\n",
    "with initialize(config_path=\"./mdt_config\", version_base=None):\n",
    "    notebook_cfg = compose(\"mdt_notebook_config\")"
   ]
  },
  {
   "cell_type": "code",
   "execution_count": null,
   "metadata": {},
   "outputs": [],
   "source": [
    "seed = 7272\n",
    "pytorch_lightning.seed_everything(seed=seed)"
   ]
  },
  {
   "cell_type": "code",
   "execution_count": null,
   "metadata": {},
   "outputs": [],
   "source": [
    "tile_slen = notebook_cfg.surveys.dc2.tile_slen\n",
    "max_sources_per_tile = notebook_cfg.surveys.dc2.max_sources_per_tile\n",
    "r_band_min_flux = notebook_cfg.notebook_var.r_band_min_flux\n",
    "\n",
    "dc2: DC2DataModule = instantiate(notebook_cfg.surveys.dc2)\n",
    "dc2.batch_size = 512\n",
    "dc2.setup(stage=\"validate\")\n",
    "dc2_val_dataloader = dc2.val_dataloader()\n",
    "\n",
    "bliss_encoder: DiffusionEncoder = instantiate(notebook_cfg.encoder).to(device=device)\n",
    "pretrained_weights = torch.load(model_path, map_location=device)[\"state_dict\"]\n",
    "bliss_encoder.load_state_dict(pretrained_weights)\n",
    "bliss_encoder.eval();"
   ]
  },
  {
   "cell_type": "code",
   "execution_count": null,
   "metadata": {},
   "outputs": [],
   "source": [
    "print(bliss_encoder.d_objective)\n",
    "print(bliss_encoder.d_beta_schedule)\n",
    "print(bliss_encoder.d_sampling_method)\n",
    "print(bliss_encoder.d_sampling_timesteps)\n",
    "print(bliss_encoder.ddim_eta)\n",
    "print(bliss_encoder.catalog_parser.factors[0].threshold)"
   ]
  },
  {
   "cell_type": "code",
   "execution_count": null,
   "metadata": {},
   "outputs": [],
   "source": [
    "for sampling_steps in [20, 50, 100]:\n",
    "    dc2_val_dataloader = dc2.val_dataloader()\n",
    "    bliss_encoder.d_sampling_method = \"ddpm\"\n",
    "    bliss_encoder.d_sampling_timesteps = sampling_steps\n",
    "    bliss_encoder.training_diffusion.ddpm_sampling_timesteps = sampling_steps\n",
    "    \n",
    "    bliss_encoder.mode_metrics.reset()\n",
    "    i = 0\n",
    "    total_batch = len(dc2_val_dataloader)\n",
    "    for batch in tqdm.tqdm(dc2_val_dataloader):\n",
    "        batch_on_device = move_data_to_device(batch, device=device)\n",
    "        with torch.no_grad():\n",
    "            bliss_encoder.update_metrics(batch_on_device, i)\n",
    "        i += 1\n",
    "    for k, v in bliss_encoder.mode_metrics.compute().items():\n",
    "        if \"bin\" not in k:\n",
    "            print(f\"(steps={sampling_steps}) {k}: {v:.2e}\")"
   ]
  }
 ],
 "metadata": {
  "kernelspec": {
   "display_name": ".venv",
   "language": "python",
   "name": "python3"
  },
  "language_info": {
   "codemirror_mode": {
    "name": "ipython",
    "version": 3
   },
   "file_extension": ".py",
   "mimetype": "text/x-python",
   "name": "python",
   "nbconvert_exporter": "python",
   "pygments_lexer": "ipython3",
   "version": "3.10.12"
  }
 },
 "nbformat": 4,
 "nbformat_minor": 2
}

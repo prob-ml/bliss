{
 "cells": [
  {
   "cell_type": "code",
   "execution_count": 1,
   "id": "3f8991af",
   "metadata": {},
   "outputs": [],
   "source": [
    "import torch\n",
    "import tqdm\n",
    "import os\n",
    "\n",
    "from pathlib import Path\n",
    "\n",
    "from hydra import initialize, compose\n",
    "from hydra.utils import instantiate\n",
    "import pytorch_lightning\n",
    "from pytorch_lightning.utilities import move_data_to_device\n",
    "\n",
    "from bliss.cached_dataset import CachedSimulatedDataModule\n",
    "from bliss.catalog import TileCatalog\n",
    "from case_studies.dc2_mdt.utils.encoder import M2BlissEncoder"
   ]
  },
  {
   "cell_type": "code",
   "execution_count": 2,
   "id": "f28875c1",
   "metadata": {},
   "outputs": [],
   "source": [
    "model_name = \"exp_07-03-1\"\n",
    "model_check_point_name = \"encoder_43.ckpt\"\n",
    "model_path = \"../../../bliss_output/m2_ori_bliss_exp_07-03-1_encoder_43.ckpt\"\n",
    "cached_data_path = Path(\"/data/scratch/pduan/posterior_cached_files\")\n",
    "device = torch.device(\"cuda:7\")\n",
    "with initialize(config_path=\"./m2_mdt_config\", version_base=None):\n",
    "    cfg = compose(\"m2_ori_bliss_train_config\")"
   ]
  },
  {
   "cell_type": "code",
   "execution_count": 3,
   "id": "719300bc",
   "metadata": {},
   "outputs": [
    {
     "name": "stderr",
     "output_type": "stream",
     "text": [
      "Seed set to 7272\n"
     ]
    },
    {
     "data": {
      "text/plain": [
       "7272"
      ]
     },
     "execution_count": 3,
     "metadata": {},
     "output_type": "execute_result"
    }
   ],
   "source": [
    "seed = cfg.train.seed\n",
    "pytorch_lightning.seed_everything(seed=seed)"
   ]
  },
  {
   "cell_type": "code",
   "execution_count": 4,
   "id": "55660bb6",
   "metadata": {},
   "outputs": [],
   "source": [
    "batch_size = 800\n",
    "m2: CachedSimulatedDataModule = instantiate(cfg.cached_simulator)\n",
    "m2.batch_size = batch_size\n",
    "m2.setup(stage=\"validate\")\n",
    "m2_val_dataloader = m2.val_dataloader()"
   ]
  },
  {
   "cell_type": "code",
   "execution_count": 5,
   "id": "6c38ee98",
   "metadata": {},
   "outputs": [],
   "source": [
    "cfg.encoder.use_checkerboard = False\n",
    "my_encoder: M2BlissEncoder = instantiate(cfg.encoder).to(device=device)\n",
    "pretrained_weights = torch.load(model_path, map_location=device)[\"state_dict\"]\n",
    "my_encoder.load_state_dict(pretrained_weights)\n",
    "my_encoder.eval();"
   ]
  },
  {
   "cell_type": "code",
   "execution_count": 6,
   "id": "4cf1c09f",
   "metadata": {},
   "outputs": [
    {
     "name": "stdout",
     "output_type": "stream",
     "text": [
      "can't find cached file [m2_bliss_posterior_exp_07-03-1_encoder_43.ckpt_whole_val_set_seed_7272.pt]; rerun the inference\n"
     ]
    },
    {
     "name": "stderr",
     "output_type": "stream",
     "text": [
      "100%|██████████| 31/31 [00:24<00:00,  1.26it/s]\n"
     ]
    }
   ],
   "source": [
    "bliss_cached_file_name = f\"m2_bliss_posterior_{model_name}_{model_check_point_name}_whole_val_set_\" \\\n",
    "                         f\"seed_{seed}.pt\"\n",
    "save_path = cached_data_path / bliss_cached_file_name\n",
    "\n",
    "if not os.path.isfile(save_path):\n",
    "    print(f\"can't find cached file [{bliss_cached_file_name}]; rerun the inference\")\n",
    "\n",
    "    bliss_result_dict = {\n",
    "        \"pred_n_sources_list\": [],\n",
    "        \"pred_locs_list\": [],\n",
    "        \"pred_fluxes_list\": [],\n",
    "        \"target1_n_sources_list\": [],\n",
    "        \"target1_locs_list\": [],\n",
    "        \"target1_fluxes_list\": [],\n",
    "        \"target2_n_sources_list\": [],\n",
    "        \"target2_locs_list\": [],\n",
    "        \"target2_fluxes_list\": [],\n",
    "    }\n",
    "\n",
    "    for one_batch in tqdm.tqdm(m2_val_dataloader):\n",
    "        one_batch = move_data_to_device(one_batch, device=device)\n",
    "\n",
    "        target_tile_cat = TileCatalog(one_batch[\"tile_catalog\"])\n",
    "        target_cat1 = target_tile_cat.get_brightest_sources_per_tile(\n",
    "            band=0, exclude_num=0\n",
    "        )\n",
    "        target_cat2 = target_tile_cat.get_brightest_sources_per_tile(\n",
    "            band=0, exclude_num=1\n",
    "        )\n",
    "        bliss_result_dict[\"target1_n_sources_list\"].append(target_cat1[\"n_sources\"].cpu())\n",
    "        bliss_result_dict[\"target1_locs_list\"].append(target_cat1[\"locs\"].cpu())\n",
    "        bliss_result_dict[\"target1_fluxes_list\"].append(target_cat1[\"fluxes\"].cpu())\n",
    "        bliss_result_dict[\"target2_n_sources_list\"].append(target_cat2[\"n_sources\"].cpu())\n",
    "        bliss_result_dict[\"target2_locs_list\"].append(target_cat2[\"locs\"].cpu())\n",
    "        bliss_result_dict[\"target2_fluxes_list\"].append(target_cat2[\"fluxes\"].cpu())\n",
    "\n",
    "        with torch.inference_mode():\n",
    "            sample_tile_cat = my_encoder.sample(one_batch, use_mode=False)\n",
    "\n",
    "        bliss_result_dict[\"pred_n_sources_list\"].append(sample_tile_cat[\"n_sources\"].cpu())  # (b, h, w)\n",
    "        n_sources_mask = (sample_tile_cat[\"n_sources\"].unsqueeze(-1).cpu() <= torch.arange(1, 3)).unsqueeze(-1)\n",
    "        bliss_result_dict[\"pred_locs_list\"].append(sample_tile_cat[\"locs\"].cpu() * n_sources_mask)  # (b, h, w, 2, 2)\n",
    "        bliss_result_dict[\"pred_fluxes_list\"].append(sample_tile_cat[\"fluxes\"].cpu() * n_sources_mask)  # (b, h, w, 2, 1)\n",
    "\n",
    "    torch.save(bliss_result_dict, save_path)\n",
    "else:\n",
    "    print(f\"find the cached file [{bliss_cached_file_name}]; run nothing\")"
   ]
  }
 ],
 "metadata": {
  "kernelspec": {
   "display_name": ".venv",
   "language": "python",
   "name": "python3"
  },
  "language_info": {
   "codemirror_mode": {
    "name": "ipython",
    "version": 3
   },
   "file_extension": ".py",
   "mimetype": "text/x-python",
   "name": "python",
   "nbconvert_exporter": "python",
   "pygments_lexer": "ipython3",
   "version": "3.10.12"
  }
 },
 "nbformat": 4,
 "nbformat_minor": 5
}

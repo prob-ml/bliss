{
 "cells": [
  {
   "cell_type": "code",
   "execution_count": null,
   "metadata": {},
   "outputs": [],
   "source": [
    "import torch\n",
    "import tqdm\n",
    "import os\n",
    "\n",
    "from einops import rearrange\n",
    "from pathlib import Path\n",
    "\n",
    "from hydra import initialize, compose\n",
    "from hydra.utils import instantiate\n",
    "import pytorch_lightning\n",
    "from pytorch_lightning.utilities import move_data_to_device\n",
    "\n",
    "from bliss.surveys.dc2 import DC2DataModule\n",
    "from bliss.catalog import TileCatalog\n",
    "from case_studies.dc2_mdt.utils.encoder import DiffusionEncoder"
   ]
  },
  {
   "cell_type": "code",
   "execution_count": null,
   "metadata": {},
   "outputs": [],
   "source": [
    "model_tag_name = \"mdt\"\n",
    "model_name = \"exp_04-12-1\"\n",
    "model_check_point_name = \"encoder_46.ckpt\"\n",
    "model_path = f\"../../../bliss_output/DC2_mdt_exp/{model_name}/checkpoints/{model_check_point_name}\"\n",
    "cached_data_path = Path(\"/data/scratch/pduan/posterior_cached_files\")\n",
    "device = torch.device(\"cuda:5\" if torch.cuda.is_available() else \"cpu\")\n",
    "with initialize(config_path=\"./mdt_config\", version_base=None):\n",
    "    cfg = compose(\"mdt_train_config\")\n",
    "infer_batch_size = 720\n",
    "infer_total_iters = 500"
   ]
  },
  {
   "cell_type": "code",
   "execution_count": null,
   "metadata": {},
   "outputs": [],
   "source": [
    "seed = cfg.train.seed\n",
    "print(f\"using seed {seed}\")\n",
    "pytorch_lightning.seed_everything(seed=seed)"
   ]
  },
  {
   "cell_type": "code",
   "execution_count": null,
   "metadata": {},
   "outputs": [],
   "source": [
    "dc2: DC2DataModule = instantiate(cfg.surveys.dc2)\n",
    "dc2.batch_size = infer_batch_size\n",
    "dc2.setup(stage=\"validate\")\n",
    "dc2_val_dataloader = dc2.val_dataloader()\n",
    "\n",
    "bliss_encoder: DiffusionEncoder = instantiate(cfg.encoder).to(device=device)\n",
    "pretrained_weights = torch.load(model_path, map_location=device)[\"state_dict\"]\n",
    "bliss_encoder.load_state_dict(pretrained_weights)\n",
    "bliss_encoder.eval();"
   ]
  },
  {
   "cell_type": "code",
   "execution_count": null,
   "metadata": {},
   "outputs": [],
   "source": [
    "if hasattr(bliss_encoder.my_net, \"fast_inference_mode\"):\n",
    "    bliss_encoder.my_net.fast_inference_mode = True\n",
    "    print(\"enable fast inference mode\")\n",
    "else:\n",
    "    print(\"no fast inference mode\")"
   ]
  },
  {
   "cell_type": "code",
   "execution_count": null,
   "metadata": {},
   "outputs": [],
   "source": [
    "bliss_encoder.reconfig_sampling(new_sampling_time_steps=500, new_ddim_eta=1.0)"
   ]
  },
  {
   "cell_type": "code",
   "execution_count": null,
   "metadata": {},
   "outputs": [],
   "source": [
    "one_batch = next(iter(dc2_val_dataloader))\n",
    "one_batch = move_data_to_device(one_batch, device=device)"
   ]
  },
  {
   "cell_type": "code",
   "execution_count": null,
   "metadata": {},
   "outputs": [],
   "source": [
    "target_tile_cat = TileCatalog(one_batch[\"tile_catalog\"])\n",
    "target_images = one_batch[\"images\"]\n",
    "target_n_sources = target_tile_cat[\"n_sources\"]\n",
    "target_tile_cat = target_tile_cat.get_brightest_sources_per_tile(band=2)\n",
    "target_locs = target_tile_cat[\"locs\"]\n",
    "max_fluxes = bliss_encoder.max_fluxes\n",
    "print(f\"max_fluxes: {max_fluxes}\")\n",
    "target_fluxes = target_tile_cat[\"fluxes\"].clamp(max=max_fluxes)\n",
    "target_ellipticity = target_tile_cat[\"ellipticity\"]"
   ]
  },
  {
   "cell_type": "code",
   "execution_count": null,
   "metadata": {},
   "outputs": [],
   "source": [
    "diffusion_cached_file_name = f\"{model_tag_name}_\" \\\n",
    "                             f\"posterior_{model_name}_{model_check_point_name}_\" \\\n",
    "                             f\"b_{infer_batch_size}_\" \\\n",
    "                             f\"iter_{infer_total_iters}_\" \\\n",
    "                             f\"seed_{seed}.pt\"\n",
    "save_path = cached_data_path / diffusion_cached_file_name\n",
    "if not os.path.isfile(save_path):\n",
    "    print(f\"can't find cached file [{diffusion_cached_file_name}]; rerun the inference\")\n",
    "    init_n_sources = None\n",
    "    n_sources_list = []\n",
    "    locs_list = []\n",
    "    fluxes_list = []\n",
    "    for i in tqdm.tqdm(range(infer_total_iters)):\n",
    "        with torch.inference_mode():\n",
    "            sample_tile_cat = bliss_encoder.sample(one_batch)\n",
    "\n",
    "        if init_n_sources is None:\n",
    "            if \"n_sources_multi\" in sample_tile_cat:\n",
    "                init_n_sources = rearrange(sample_tile_cat[\"n_sources_multi\"], \"b h w 1 1 -> b h w\")\n",
    "            else:\n",
    "                init_n_sources = sample_tile_cat[\"n_sources\"]\n",
    "        if \"n_sources_multi\" in sample_tile_cat:\n",
    "            cur_n_sources = rearrange(sample_tile_cat[\"n_sources_multi\"], \"b h w 1 1 -> b h w\")\n",
    "        else:\n",
    "            cur_n_sources = sample_tile_cat[\"n_sources\"]\n",
    "            \n",
    "        n_sources_list.append(cur_n_sources.cpu())\n",
    "        locs = sample_tile_cat[\"locs\"][..., 0:1, :]  # (b, h, w, 1, 2)\n",
    "        locs_list.append(locs.cpu())\n",
    "        fluxes = sample_tile_cat[\"fluxes\"][..., 0:1, :]  # (b, h, w, 1, 6)\n",
    "        fluxes_list.append(fluxes.cpu())\n",
    "\n",
    "    diffusion_result_dict = {\n",
    "        \"init_n_sources\": init_n_sources.cpu(),\n",
    "        \"n_sources_list\": n_sources_list,\n",
    "        \"locs_list\": locs_list,\n",
    "        \"fluxes_list\": fluxes_list,\n",
    "        \"target_images\": target_images.cpu(),\n",
    "        \"target_n_sources\": target_n_sources.cpu(),\n",
    "        \"target_locs\": target_locs.cpu(),\n",
    "        \"target_fluxes\": target_fluxes.cpu(),\n",
    "        \"target_ellipticity\": target_ellipticity.cpu(),\n",
    "    }\n",
    "    torch.save(diffusion_result_dict, save_path)\n",
    "else:\n",
    "    print(f\"find the cached file [{diffusion_cached_file_name}]; run nothing\")"
   ]
  }
 ],
 "metadata": {
  "kernelspec": {
   "display_name": ".venv",
   "language": "python",
   "name": "python3"
  },
  "language_info": {
   "codemirror_mode": {
    "name": "ipython",
    "version": 3
   },
   "file_extension": ".py",
   "mimetype": "text/x-python",
   "name": "python",
   "nbconvert_exporter": "python",
   "pygments_lexer": "ipython3",
   "version": "3.10.12"
  }
 },
 "nbformat": 4,
 "nbformat_minor": 2
}

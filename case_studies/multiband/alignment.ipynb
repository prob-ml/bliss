{
 "cells": [
  {
   "cell_type": "markdown",
   "metadata": {},
   "source": [
    "# Unaligning + Aligning Semi-Synthetic Images"
   ]
  },
  {
   "cell_type": "markdown",
   "metadata": {},
   "source": [
    "This notebook demonstrates how we replicate the preprocessing step of image alignment for real SDSS images in our simulated images, which are generated in an aligned manner. SDSS images, for a given RCF, are unaligned across each version associated with a different band-pass filter. SDSS supports five bands - u, g, r, i and z. Each of these bands is also associated with its own WCS (World Coordinate System) object found within the HDU storing that band-pass filter's image. This band-specific WCS is critical for alignment, as we can project each of the images onto an arbitrarily chosen reference WCS for the same RCF that results in five images which are all aligned pixel-wise. "
   ]
  },
  {
   "cell_type": "markdown",
   "metadata": {},
   "source": [
    "## Setup"
   ]
  },
  {
   "cell_type": "code",
   "execution_count": null,
   "metadata": {},
   "outputs": [],
   "source": [
    "%load_ext autoreload\n",
    "%autoreload 2\n",
    "%matplotlib inline"
   ]
  },
  {
   "cell_type": "code",
   "execution_count": null,
   "metadata": {},
   "outputs": [],
   "source": [
    "import numpy as np\n",
    "from os import environ\n",
    "import torch\n",
    "from pathlib import Path\n",
    "from hydra import initialize, compose\n",
    "from hydra.utils import instantiate\n",
    "import matplotlib.pyplot as plt"
   ]
  },
  {
   "cell_type": "code",
   "execution_count": null,
   "metadata": {},
   "outputs": [],
   "source": [
    "environ[\"BLISS_HOME\"] = str(Path().resolve().parents[1])\n",
    "with initialize(config_path=\".\", version_base=None):\n",
    "    cfg = compose(\"config\", overrides={\"surveys.sdss.load_image_data=true\"})"
   ]
  },
  {
   "cell_type": "markdown",
   "metadata": {},
   "source": [
    "## Real SDSS Images"
   ]
  },
  {
   "cell_type": "markdown",
   "metadata": {},
   "source": [
    "Here, we will show the unaligned nature of real SDSS images which has to be corrected during prediction time."
   ]
  },
  {
   "cell_type": "code",
   "execution_count": null,
   "metadata": {},
   "outputs": [],
   "source": [
    "# retrieve SDSS object containing UGRIZ image for (94, 1, 12)\n",
    "sdss = instantiate(cfg.surveys.sdss)\n",
    "sdss.prepare_data()"
   ]
  },
  {
   "cell_type": "code",
   "execution_count": null,
   "metadata": {},
   "outputs": [],
   "source": [
    "# Here, create plot of SDSS images and their reprojections\n",
    "plt.figure().clear()\n",
    "\n",
    "d = {}\n",
    "wcs_per = {}\n",
    "for i, bnd in enumerate('ugriz'):\n",
    "    d[bnd] = sdss[0]['image'][i]\n",
    "    wcs_per[f'{bnd}'] = sdss[0]['wcs'][i]\n",
    "\n",
    "fig, axs = plt.subplots(5, 1, figsize=(35, 15))\n",
    "for i, key in enumerate(d.keys()):\n",
    "    img = d[key]\n",
    "    img = img[:350, :350]\n",
    "    axs[i].imshow(np.log(np.clip(img - (np.min(img)), a_min=1, a_max=None)), cmap='bone', origin='lower')\n",
    "    axs[i].set_title(f'{key}')\n",
    "\n",
    "fig.tight_layout(pad=2.0)\n",
    "plt.show()"
   ]
  },
  {
   "cell_type": "markdown",
   "metadata": {},
   "source": [
    "Though it is difficult to notice due to the size of these SDSS images (1489x2048), each light source in the above images could possibly be slightly offset relative to its position in an other band-pass filter. This is likely due to the position of the filters in the telescope in addition to any possible atmospheric disturbances that affect certain wavelengths of light more than others. For example, the light source on the right side of each image at about y=250 appears to deviate further and further from the right border as you look from the top down.\n",
    "\n",
    "We can show that this is the case by observing that:"
   ]
  },
  {
   "cell_type": "code",
   "execution_count": null,
   "metadata": {},
   "outputs": [],
   "source": [
    "(sdss[0][\"image\"][2, :350, :350] == sdss[0][\"image\"][2, :350, :350].max()).nonzero()"
   ]
  },
  {
   "cell_type": "code",
   "execution_count": null,
   "metadata": {},
   "outputs": [],
   "source": [
    "(sdss[0][\"image\"][0, :350, :350] == sdss[0][\"image\"][0, :350, :350].max()).nonzero()"
   ]
  },
  {
   "cell_type": "markdown",
   "metadata": {},
   "source": [
    "Here, the maximum pixel value in the r-band image is found at (240, 340) whereas the maximum pixel value in the u-band image is found at (247, 343). Both correspond to the same light source (can confirm visually), but are found in two different locations in pixel-space.\n",
    "\n",
    "To correct for this, we must reproject each image according to the WCS object of a reference image that adjusts for the displacement in pixel space and performs an interpolation for a smooth output. We can utilize the **reproject_interp** function from the **reproject** library to do this. BLISS has its own **align** function that can be used for this purpose, relying on the aforementioned function for pixel alignment across multi-band images."
   ]
  },
  {
   "cell_type": "code",
   "execution_count": null,
   "metadata": {},
   "outputs": [],
   "source": [
    "from bliss.align import align"
   ]
  },
  {
   "cell_type": "markdown",
   "metadata": {},
   "source": [
    "## Simulating Images"
   ]
  },
  {
   "cell_type": "markdown",
   "metadata": {},
   "source": [
    "We generate semi-synthetic data from a catalog that is created over a distribution over all survey-specific catalog parameters. Adjusting the prior within our image decoder, we can create images strikingly similar to each survey whose catalog it models. However, these images are already perfectly aligned - unlike the real data. We know that interpolation inherently smooths noise over the image it operates on, and our simulated images have added Poisson-distributed noise that does not get smoothed fresh out of generation. Additionally, we would like to replicate the real survey images as closely as possible - even the quality of having unaligned per-band images. So how can we replicate this?\n",
    "\n",
    "We can instantiate a collection of curated WCS objects for each of the per-band images, configure them so that they each have a random offset added to their center in pixel space relative to one of the images, and utilize those objects to both unalign and subsequently realign them!"
   ]
  },
  {
   "cell_type": "markdown",
   "metadata": {},
   "source": [
    "### Generating simulated images"
   ]
  },
  {
   "cell_type": "markdown",
   "metadata": {},
   "source": [
    "First, we'll instantiate our BLISS simulator."
   ]
  },
  {
   "cell_type": "code",
   "execution_count": null,
   "metadata": {},
   "outputs": [],
   "source": [
    "simulator = instantiate(cfg.simulator)"
   ]
  },
  {
   "cell_type": "markdown",
   "metadata": {},
   "source": [
    "Next, we'll sample a tile catalog over our prior distribution, which mocks SDSS."
   ]
  },
  {
   "cell_type": "code",
   "execution_count": null,
   "metadata": {},
   "outputs": [],
   "source": [
    "tc = simulator.catalog_prior.sample()"
   ]
  },
  {
   "cell_type": "markdown",
   "metadata": {},
   "source": [
    "We call the **randomized_image_ids** class method to return a list of RCFs that are used to gather information specific to the image background and other features. This is out of scope for this demo but we require the **image_ids** value as an argument to the **render_images** decoder class method."
   ]
  },
  {
   "cell_type": "code",
   "execution_count": null,
   "metadata": {},
   "outputs": [],
   "source": [
    "image_ids, image_id_indices = simulator.randomized_image_ids(simulator.catalog_prior.batch_size)"
   ]
  },
  {
   "cell_type": "markdown",
   "metadata": {},
   "source": [
    "Now, we pass the sampled tile catalog and the image_ids to the decoder object's **render_images** function to retrieve our unaligned images, psfs, psf parameters and a list of custom WCS objects tuned to the random perturbation done to each per-band image which can be used to re-align our simulated images. \n",
    "\n",
    "Note again that the images returned by this function are unaligned - this is a result of adding a two-dimensional perturbation generated from a parameterized Uniform distribution which is outlined in the config file. "
   ]
  },
  {
   "cell_type": "code",
   "execution_count": null,
   "metadata": {},
   "outputs": [],
   "source": [
    "images, psfs, psf_params, wcs_undo = simulator.image_decoder.render_images(tc, image_ids)"
   ]
  },
  {
   "cell_type": "code",
   "execution_count": null,
   "metadata": {},
   "outputs": [],
   "source": [
    "fc = tc.to_full_catalog()"
   ]
  },
  {
   "cell_type": "markdown",
   "metadata": {},
   "source": [
    "We can plot the first semi-synthetic image below to verify that the images don't perfectly overlap with each other, as is observed in real SDSS data. "
   ]
  },
  {
   "cell_type": "code",
   "execution_count": null,
   "metadata": {},
   "outputs": [],
   "source": [
    "d = {0: 'U', 1: 'G', 2: 'R', 3: 'I', 4: 'Z'}\n",
    "fig, axs = plt.subplots(5, 1, figsize=(35, 15))\n",
    "for i in range(images.shape[1]):\n",
    "    axs[i].imshow(images[0, i], extent=[0, 80, 80, 0])\n",
    "    axs[i].scatter(fc['plocs'][0, :, 1], fc['plocs'][0, :, 0], s=1, c='r')\n",
    "    axs[i].set_title(f\"Simulated {d[i]}-Band Image\")\n",
    "\n",
    "fig.tight_layout(pad=2.0)\n",
    "plt.show()"
   ]
  },
  {
   "cell_type": "markdown",
   "metadata": {},
   "source": [
    "Note that the pixel shift in each direction is sampled from X ~ Unif(0, 2). Therefore, the maximum number of shift in any one direction is 2 - which is not very noticeable to the naked eye. The source in the top-right shown in the Z-band is a good one to track to notice the pixel shifting. The R-band image is aligned, as we generally see in the real SDSS data."
   ]
  },
  {
   "cell_type": "markdown",
   "metadata": {},
   "source": [
    "### Realigning simulated images"
   ]
  },
  {
   "cell_type": "markdown",
   "metadata": {},
   "source": [
    "Now that we have a collection of unaligned, SDSS-like images, we can process them in a similar manner by reprojecting them according to a reference band WCS so they are aligned according to that particular band.\n",
    "\n",
    "First, we create a deep copy of our generated, unaligned images."
   ]
  },
  {
   "cell_type": "code",
   "execution_count": null,
   "metadata": {},
   "outputs": [],
   "source": [
    "import copy\n",
    "\n",
    "img_copy = copy.deepcopy(images)"
   ]
  },
  {
   "cell_type": "markdown",
   "metadata": {},
   "source": [
    "Now, we use the **align** function to reproject each image with it's corresponding WCS object according to a reference band, which in our case is the r-band. "
   ]
  },
  {
   "cell_type": "code",
   "execution_count": null,
   "metadata": {},
   "outputs": [],
   "source": [
    "from bliss.align import align\n",
    "\n",
    "for i in range(img_copy.shape[0]):\n",
    "    img_copy[i] = torch.from_numpy(\n",
    "        align(\n",
    "            img_copy[i].numpy(),\n",
    "            wcs_undo[i],\n",
    "            simulator.catalog_prior.reference_band,\n",
    "        )\n",
    "    )"
   ]
  },
  {
   "cell_type": "markdown",
   "metadata": {},
   "source": [
    "We can plot our results below, showing that each of the simulated images is now aligned as they were prior to the random perturbations being added!"
   ]
  },
  {
   "cell_type": "code",
   "execution_count": null,
   "metadata": {},
   "outputs": [],
   "source": [
    "fig, axs = plt.subplots(5, 1, figsize=(35, 15))\n",
    "for i in range(img_copy.shape[1]):\n",
    "    axs[i].imshow(img_copy[0, i], extent=[0, 80, 80, 0])\n",
    "    axs[i].scatter(fc['plocs'][0, :, 1], fc['plocs'][0, :, 0], s=1, c='r')\n",
    "    axs[i].set_title(f'Simulated {d[i]}-Band Image')\n",
    "\n",
    "fig.tight_layout(pad=2.0)\n",
    "plt.show()"
   ]
  },
  {
   "cell_type": "markdown",
   "metadata": {},
   "source": [
    "## End-to-End"
   ]
  },
  {
   "cell_type": "markdown",
   "metadata": {},
   "source": [
    "Rather than run all of the above, this workflow is built into the BLISS Simulator!"
   ]
  },
  {
   "cell_type": "code",
   "execution_count": null,
   "metadata": {},
   "outputs": [],
   "source": [
    "# End-to-End decoding\n",
    "tc = simulator.catalog_prior.sample()\n",
    "image_ids, image_id_indices = simulator.randomized_image_ids(simulator.catalog_prior.batch_size)\n",
    "imgs, bgs, psf_params = simulator.simulate_images(tc, image_ids, image_id_indices)"
   ]
  }
 ],
 "metadata": {
  "kernelspec": {
   "display_name": "__bliss-deblender-Aiw3C-Gh-py3.10",
   "language": "python",
   "name": "python3"
  },
  "language_info": {
   "codemirror_mode": {
    "name": "ipython",
    "version": 3
   },
   "file_extension": ".py",
   "mimetype": "text/x-python",
   "name": "python",
   "nbconvert_exporter": "python",
   "pygments_lexer": "ipython3",
   "version": "3.10.12"
  }
 },
 "nbformat": 4,
 "nbformat_minor": 2
}

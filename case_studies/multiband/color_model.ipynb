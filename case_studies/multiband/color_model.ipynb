{
 "cells": [
  {
   "attachments": {},
   "cell_type": "markdown",
   "metadata": {},
   "source": [
    "# Training SDSS Color Models"
   ]
  },
  {
   "attachments": {},
   "cell_type": "markdown",
   "metadata": {},
   "source": [
    "This notebook demonstrates how to load SDSS fluxes from PhotoObj files via the BLISS pipeline and fit gaussian mixture model color priors for both stars and galaxies."
   ]
  },
  {
   "cell_type": "code",
   "execution_count": null,
   "metadata": {},
   "outputs": [],
   "source": [
    "%load_ext autoreload\n",
    "%autoreload 2\n",
    "%matplotlib inline"
   ]
  },
  {
   "cell_type": "code",
   "execution_count": null,
   "metadata": {},
   "outputs": [],
   "source": [
    "import numpy as np\n",
    "from os import environ\n",
    "import torch\n",
    "from pathlib import Path\n",
    "from astropy.io import fits\n",
    "from hydra import initialize, compose\n",
    "\n",
    "from bliss.surveys.sdss import column_to_tensor, SDSSDownloader"
   ]
  },
  {
   "cell_type": "code",
   "execution_count": null,
   "metadata": {},
   "outputs": [],
   "source": [
    "environ[\"BLISS_HOME\"] = str(Path().resolve().parents[1])\n",
    "with initialize(config_path=\".\", version_base=None):\n",
    "    cfg = compose(\"config\")"
   ]
  },
  {
   "attachments": {},
   "cell_type": "markdown",
   "metadata": {},
   "source": [
    "# Retrieving raw ratios from disk via BLISS prior"
   ]
  },
  {
   "attachments": {},
   "cell_type": "markdown",
   "metadata": {},
   "source": [
    "We have SDSS flux information stored internally through PhotoObj FITS tables downloaded from the SDSS database. These are accessible by the SloanDigitalSkySurvey object. Note that these files are not stored within our repository. To correctly load ratios, specify a root sdss_dir directory that itself contains sub-directories specific to the desired run/camcol/field you would like to investigate (i.e. sdss_dir/run/camcol/field/photoObj_file(s)). "
   ]
  },
  {
   "cell_type": "code",
   "execution_count": null,
   "metadata": {},
   "outputs": [],
   "source": [
    "def compute_flux_ratio(obj_fluxes):\n",
    "    \"\"\"Query SDSS frames to get flux ratios in units of electron count.\n",
    "\n",
    "    Args:\n",
    "        obj_fluxes: tensor of electron counts for a particular SDSS object\n",
    "\n",
    "    Returns:\n",
    "        ratios (Tensor): Ratio of electron counts for each light source in field\n",
    "        relative to r-band\n",
    "    \"\"\"\n",
    "    ratios = torch.zeros(obj_fluxes.size())\n",
    "\n",
    "    sdss_bands = [\"u\", \"g\", \"r\", \"i\", \"z\"]\n",
    "\n",
    "    for i in range(len(sdss_bands)):\n",
    "        # result: ratio of fluxes in nmgys\n",
    "        ratios[i] = np.log(obj_fluxes[i] / obj_fluxes[2])\n",
    "\n",
    "    return ratios"
   ]
  },
  {
   "cell_type": "code",
   "execution_count": null,
   "metadata": {},
   "outputs": [],
   "source": [
    "from tqdm import tqdm\n",
    "\n",
    "def load_color_distribution(sdss_fields, sdss_dir):\n",
    "    star_flux_lst = []\n",
    "    gal_flux_lst = []\n",
    "\n",
    "    # load all star, galaxy fluxes relative to r-band required for sampling\n",
    "    for run, camcol, field in tqdm(sdss_fields):\n",
    "\n",
    "        # Set photoObj file path\n",
    "        # NOTE: This is the necessary directory structure!\n",
    "        sdss_path = Path(sdss_dir)\n",
    "        field_dir = sdss_path / str(run) / str(camcol) / str(field)\n",
    "        po_path = field_dir / f\"photoObj-{run:06d}-{camcol:d}-{field:04d}.fits\"\n",
    "\n",
    "        if not po_path.exists():\n",
    "            SDSSDownloader(run, camcol, field, str(sdss_path)).download_po()\n",
    "        msg = (\n",
    "            f\"{po_path} does not exist. \"\n",
    "            + \"Make sure data files are available for fields specified in config.\"\n",
    "        )\n",
    "        assert Path(po_path).exists(), msg\n",
    "        po_fits = fits.getdata(po_path)\n",
    "\n",
    "        # retrieve object-specific information for ratio computing\n",
    "        objc_type = column_to_tensor(po_fits, \"objc_type\").numpy()\n",
    "        thing_id = column_to_tensor(po_fits, \"thing_id\").numpy()\n",
    "\n",
    "        # mask fluxes based on object identity & validity\n",
    "        galaxy_bools = (objc_type == 3) & (thing_id != -1)\n",
    "        star_bools = (objc_type == 6) & (thing_id != -1)\n",
    "        star_fluxes = column_to_tensor(po_fits, \"psfflux\") * star_bools.reshape(-1, 1)\n",
    "        gal_fluxes = column_to_tensor(po_fits, \"cmodelflux\") * galaxy_bools.reshape(-1, 1)\n",
    "        fluxes = star_fluxes + gal_fluxes\n",
    "\n",
    "        for obj, _ in enumerate(objc_type):\n",
    "            if thing_id[obj] != -1 and torch.all(fluxes[obj] > 0):\n",
    "                if objc_type[obj] == 6:\n",
    "                    star_flux_lst.append(fluxes[obj])\n",
    "                elif objc_type[obj] == 3:\n",
    "                    gal_flux_lst.append(fluxes[obj])\n",
    "\n",
    "    star_log_fluxes = torch.stack(star_flux_lst, dim=0).log()\n",
    "    star_log_ratios = torch.zeros((star_log_fluxes.size(0), 4))\n",
    "    for i in range(4):\n",
    "        star_log_ratios[:, i] = star_log_fluxes[:, i + 1] - star_log_fluxes[:, i]\n",
    "\n",
    "    gal_log_fluxes = torch.stack(gal_flux_lst, dim=0).log()\n",
    "    gal_log_ratios = torch.zeros((gal_log_fluxes.size(0), 4))\n",
    "    for i in range(4):\n",
    "        gal_log_ratios[:, i] = gal_log_fluxes[:, i + 1] - gal_log_fluxes[:, i]\n",
    "\n",
    "    return star_log_ratios, gal_log_ratios"
   ]
  },
  {
   "attachments": {},
   "cell_type": "markdown",
   "metadata": {},
   "source": [
    "Running load_color_distribution gives us our star/galaxy ratios read directly from SDSS PhotoObj tables that will be used to fit our color models. \n",
    "\n",
    "Note: These ratios are relative to the r-band."
   ]
  },
  {
   "cell_type": "code",
   "execution_count": null,
   "metadata": {},
   "outputs": [],
   "source": [
    "# load color distributions from sdss files\n",
    "fields = (\n",
    "    [(94, 1, f) for f in np.arange(12, 492, 10, dtype=int)] +\n",
    "    [(125, 1, f) for f in np.arange(15, 575, 10, dtype=int)] + \n",
    "    [(752, 1, f) for f in np.arange(15, 695, 10, dtype=int)] +\n",
    "    [(3900, 6, f) for f in np.arange(16, 606, 10, dtype=int)]\n",
    ")\n",
    "star_log_ratios, gal_log_ratios = load_color_distribution(fields, \"/data/sdss\")"
   ]
  },
  {
   "cell_type": "code",
   "execution_count": null,
   "metadata": {},
   "outputs": [],
   "source": [
    "# filter rows with extreme entries, these are probably due to measurement noise\n",
    "print(star_log_ratios.size())\n",
    "star_log_ratios = star_log_ratios[torch.all(star_log_ratios.abs() < 3, dim=1)]\n",
    "print(star_log_ratios.size())"
   ]
  },
  {
   "cell_type": "code",
   "execution_count": null,
   "metadata": {},
   "outputs": [],
   "source": [
    "print(gal_log_ratios.shape)\n",
    "gal_log_ratios = gal_log_ratios[torch.all(gal_log_ratios.abs() < 4, dim=1)]\n",
    "print(gal_log_ratios.shape)"
   ]
  },
  {
   "attachments": {},
   "cell_type": "markdown",
   "metadata": {},
   "source": [
    "We store these ratios as Numpy arrays for convenience."
   ]
  },
  {
   "cell_type": "code",
   "execution_count": null,
   "metadata": {},
   "outputs": [],
   "source": [
    "# convert to numpy arrays\n",
    "import numpy as np\n",
    "\n",
    "star_log_ratios_np = np.array(star_log_ratios)\n",
    "gal_log_ratios_np = np.array(gal_log_ratios)"
   ]
  },
  {
   "attachments": {},
   "cell_type": "markdown",
   "metadata": {},
   "source": [
    "# Fitting Star GMM"
   ]
  },
  {
   "attachments": {},
   "cell_type": "markdown",
   "metadata": {},
   "source": [
    "For assurance, we fit a series of models by cross-validation (k = 5) and determine the best model based on the average log-likelihood of the data given the model."
   ]
  },
  {
   "cell_type": "code",
   "execution_count": null,
   "metadata": {},
   "outputs": [],
   "source": [
    "from sklearn.model_selection import train_test_split, GridSearchCV\n",
    "from sklearn.mixture import GaussianMixture\n",
    "\n",
    "# Tune these!\n",
    "# ----------------\n",
    "min_components = 1\n",
    "max_components = 12\n",
    "niter = 5\n",
    "# ----------------\n",
    "\n",
    "comps = np.linspace(min_components, max_components, niter, dtype=int)\n",
    "params = {\"n_components\": comps}\n",
    "gmm_log_likelihood_score = lambda estimator, X: -estimator.score(X) # minimize BIC\n",
    "cv = GridSearchCV(GaussianMixture(), params, verbose=1, scoring=gmm_log_likelihood_score)\n",
    "cv.fit(star_log_ratios_np)"
   ]
  },
  {
   "attachments": {},
   "cell_type": "markdown",
   "metadata": {},
   "source": [
    "We can plot the results of our cross-validation experiment. 25 Gaussian components appears to maximize the log-likelihood for the star color model."
   ]
  },
  {
   "cell_type": "code",
   "execution_count": null,
   "metadata": {},
   "outputs": [],
   "source": [
    "import matplotlib.pyplot as plt\n",
    "\n",
    "scores = cv.cv_results_['mean_test_score']\n",
    "plt.plot(comps, scores)\n",
    "plt.xlabel('Number of components')\n",
    "plt.ylabel('Log Likelihood')\n",
    "plt.title('Cross validated results for fitting star color prior')"
   ]
  },
  {
   "attachments": {},
   "cell_type": "markdown",
   "metadata": {},
   "source": [
    "### Testing Star GMM"
   ]
  },
  {
   "attachments": {},
   "cell_type": "markdown",
   "metadata": {},
   "source": [
    "Rather than fit to 25 components, we will use 64 components for the BLISS prior - this is a generous number of coefficients but should be no worse than fitting to a smaller number of components. We can predict the labels for this model given the test set to investigate the subsequent assignments visually."
   ]
  },
  {
   "cell_type": "code",
   "execution_count": null,
   "metadata": {},
   "outputs": [],
   "source": [
    "# evaluate best-fitting star color prior on test set\n",
    "star_train, star_test = train_test_split(star_log_ratios_np, test_size=0.2)\n",
    "n_comps = 64  # BLISS standard\n",
    "gm_star = GaussianMixture(n_components=n_comps).fit(star_train)\n",
    "labels = gm_star.predict(star_test)"
   ]
  },
  {
   "cell_type": "markdown",
   "metadata": {},
   "source": [
    "Let's visually inspect the mixture coefficients. We don't expect a very even distribution over each component. "
   ]
  },
  {
   "cell_type": "code",
   "execution_count": null,
   "metadata": {},
   "outputs": [],
   "source": [
    "gm_star.weights_"
   ]
  },
  {
   "cell_type": "code",
   "execution_count": null,
   "metadata": {},
   "outputs": [],
   "source": [
    "# Creating figure\n",
    "def plot_components(gmm, labels, k, data, leg, type):\n",
    "    \"\"\"Plot points belonging to top-k components\"\"\"\n",
    "\n",
    "    plt.figure().clear()\n",
    "\n",
    "    weights = np.copy(gmm.weights_)\n",
    "    x = np.argpartition(weights, -k)[-k:]\n",
    "\n",
    "    d = {}\n",
    "    for i in x:\n",
    "        d[f\"comp #{i}\"] = data[labels == i]\n",
    "\n",
    "    fig = plt.figure(figsize = (10, 7))\n",
    "    ax = plt.axes(projection =\"3d\")\n",
    "    \n",
    "    # Creating plot\n",
    "    for i, key in enumerate(d.keys()):\n",
    "        l = d[key]\n",
    "        ax.plot(l[:, 1], l[:, 2], l[:, 0], \".\", label=key)\n",
    "    # ax.margins(x=-0.45, y=-0.45, z=-0.25)\n",
    "    # plt.axis([0, 1.5, 0, 15])\n",
    "    if type == \"star\":\n",
    "        plt.title(\"3-D visualization of star flux ratios relative to R and their assigned color\")\n",
    "    elif type == \"gal\":\n",
    "        plt.title(\"3-D visualization of gal flux ratios relative to R and their assigned color\")\n",
    "    ax.set_xlabel('G-U log ratio')\n",
    "    ax.set_ylabel('R-I log ratio')\n",
    "    ax.set_zlabel('I-Z log ratio')\n",
    "\n",
    "    if leg:\n",
    "        ax.legend()\n",
    "    \n",
    "    # show plot\n",
    "    plt.show()"
   ]
  },
  {
   "cell_type": "code",
   "execution_count": null,
   "metadata": {},
   "outputs": [],
   "source": [
    "plot_components(gm_star, labels, n_comps, star_test, False, \"star\")"
   ]
  },
  {
   "attachments": {},
   "cell_type": "markdown",
   "metadata": {},
   "source": [
    "Several point clouds are layered on top of each other in three-dimensional space (plotting only G, I and Z bands). Note that the more dispersed point clouds have a very low mixture coefficient.\n",
    "\n",
    "If we restrict the labeled points to only those belonging to the twelve components with the highest mixture coefficients, we start to weed through the overlaid points."
   ]
  },
  {
   "cell_type": "code",
   "execution_count": null,
   "metadata": {},
   "outputs": [],
   "source": [
    "plot_components(gm_star, labels, 10, star_test, True, type=\"star\")"
   ]
  },
  {
   "attachments": {},
   "cell_type": "markdown",
   "metadata": {},
   "source": [
    "# Fitting Gal GMM"
   ]
  },
  {
   "attachments": {},
   "cell_type": "markdown",
   "metadata": {},
   "source": [
    "We can do the same for our galaxy color prior!"
   ]
  },
  {
   "cell_type": "code",
   "execution_count": null,
   "metadata": {},
   "outputs": [],
   "source": [
    "# Tune these!\n",
    "# ---------------------\n",
    "min_components = 1\n",
    "max_components = 12\n",
    "niter = 6\n",
    "# ---------------------\n",
    "\n",
    "comps = np.linspace(min_components, max_components, niter, dtype=int)\n",
    "params = {\"n_components\": comps, \"reg_covar\": np.array([1e-4])}\n",
    "gmm_log_likelihood_score = lambda estimator, X: -estimator.score(X)\n",
    "cv = GridSearchCV(GaussianMixture(), params, verbose=1, scoring=gmm_log_likelihood_score)  # uses estimator.score by default, which is log likelihood for GMM\n",
    "cv.fit(gal_log_ratios_np)"
   ]
  },
  {
   "cell_type": "code",
   "execution_count": null,
   "metadata": {},
   "outputs": [],
   "source": [
    "scores = cv.cv_results_['mean_test_score']\n",
    "plt.plot(comps, scores)\n",
    "plt.xlabel('Number of components')\n",
    "plt.ylabel('Log likelihood')\n",
    "plt.title('Cross validated results for fitting galaxy color prior')"
   ]
  },
  {
   "attachments": {},
   "cell_type": "markdown",
   "metadata": {},
   "source": [
    "Here, 45 components appears to maximize the log-likelihood metric."
   ]
  },
  {
   "attachments": {},
   "cell_type": "markdown",
   "metadata": {},
   "source": [
    "### Testing Gal GMM"
   ]
  },
  {
   "attachments": {},
   "cell_type": "markdown",
   "metadata": {},
   "source": [
    "We can further test this model visually as before, using a standard 64 components."
   ]
  },
  {
   "cell_type": "code",
   "execution_count": null,
   "metadata": {},
   "outputs": [],
   "source": [
    "gal_train, gal_test = train_test_split(gal_log_ratios_np, test_size=0.2)\n",
    "n_comps = 64\n",
    "gm_gal = GaussianMixture(n_components=64).fit(gal_train)\n",
    "labels = gm_gal.predict(gal_test)"
   ]
  },
  {
   "cell_type": "code",
   "execution_count": null,
   "metadata": {},
   "outputs": [],
   "source": [
    "plot_components(gm_gal, labels, 10, gal_test, leg=True, type=\"gal\")"
   ]
  },
  {
   "attachments": {},
   "cell_type": "markdown",
   "metadata": {},
   "source": [
    "This plot may appear surprising, but further inspection shows that the mixture coefficients corresponding to components #0 and #1 are 5 and 4 orders of magnitude larger than the rest, respectively."
   ]
  },
  {
   "attachments": {},
   "cell_type": "markdown",
   "metadata": {},
   "source": [
    "### Saving best Gal/Star Color Models"
   ]
  },
  {
   "attachments": {},
   "cell_type": "markdown",
   "metadata": {},
   "source": [
    "Following training/evaluation, we save these models to disk via pickle to use for sampling color priors!"
   ]
  },
  {
   "cell_type": "code",
   "execution_count": null,
   "metadata": {},
   "outputs": [],
   "source": [
    "import pickle\n",
    "\n",
    "# save best-performing color models via pickle\n",
    "star_file = \"star_gmm_nmgy.pkl\"\n",
    "gal_file = \"gal_gmm_nmgy.pkl\"\n",
    "\n",
    "with open(star_file, 'wb') as f:\n",
    "    pickle.dump(gm_star, f)\n",
    "\n",
    "with open(gal_file, 'wb') as f:\n",
    "    pickle.dump(gm_gal, f)"
   ]
  },
  {
   "cell_type": "code",
   "execution_count": null,
   "metadata": {},
   "outputs": [],
   "source": [
    "gm_star.sample()[0]"
   ]
  },
  {
   "cell_type": "code",
   "execution_count": null,
   "metadata": {},
   "outputs": [],
   "source": []
  }
 ],
 "metadata": {
  "kernelspec": {
   "display_name": ".venv",
   "language": "python",
   "name": "python3"
  },
  "language_info": {
   "codemirror_mode": {
    "name": "ipython",
    "version": 3
   },
   "file_extension": ".py",
   "mimetype": "text/x-python",
   "name": "python",
   "nbconvert_exporter": "python",
   "pygments_lexer": "ipython3",
   "version": "3.10.12"
  },
  "orig_nbformat": 4
 },
 "nbformat": 4,
 "nbformat_minor": 2
}

{
 "cells": [
  {
   "cell_type": "code",
   "execution_count": null,
   "metadata": {},
   "outputs": [],
   "source": [
    "import numpy as np\n",
    "import torch\n",
    "from pathlib import Path\n",
    "from astropy.io import fits\n",
    "from matplotlib import pyplot as plt\n",
    "\n",
    "from bliss.surveys.sdss import column_to_tensor, SDSSDownloader"
   ]
  },
  {
   "cell_type": "markdown",
   "metadata": {},
   "source": [
    "# Load Fluxes from SDSS catalogs"
   ]
  },
  {
   "cell_type": "code",
   "execution_count": null,
   "metadata": {},
   "outputs": [],
   "source": [
    "from tqdm import tqdm\n",
    "\n",
    "def load_color_distribution(sdss_fields, sdss_dir):\n",
    "    star_flux_lst = []\n",
    "    gal_flux_lst = []\n",
    "\n",
    "    # load all star, galaxy fluxes relative to r-band required for sampling\n",
    "    for run, camcol, field in tqdm(sdss_fields):\n",
    "\n",
    "        # Set photoObj file path\n",
    "        # NOTE: This is the necessary directory structure!\n",
    "        sdss_path = Path(sdss_dir)\n",
    "        field_dir = sdss_path / str(run) / str(camcol) / str(field)\n",
    "        po_path = field_dir / f\"photoObj-{run:06d}-{camcol:d}-{field:04d}.fits\"\n",
    "\n",
    "        if not po_path.exists():\n",
    "            rcf = (run, camcol, field)\n",
    "            SDSSDownloader(rcf, str(sdss_path)).download_catalog(rcf)\n",
    "        msg = (\n",
    "            f\"{po_path} does not exist. \"\n",
    "            + \"Make sure data files are available for fields specified in config.\"\n",
    "        )\n",
    "        assert Path(po_path).exists(), msg\n",
    "        po_fits = fits.getdata(po_path)\n",
    "\n",
    "        # retrieve object-specific information for ratio computing\n",
    "        objc_type = column_to_tensor(po_fits, \"objc_type\").numpy()\n",
    "        thing_id = column_to_tensor(po_fits, \"thing_id\").numpy()\n",
    "\n",
    "        # mask fluxes based on object identity & validity\n",
    "        galaxy_bools = (objc_type == 3) & (thing_id != -1)\n",
    "        star_bools = (objc_type == 6) & (thing_id != -1)\n",
    "        star_fluxes = column_to_tensor(po_fits, \"psfflux\") * star_bools.reshape(-1, 1)\n",
    "        gal_fluxes = column_to_tensor(po_fits, \"cmodelflux\") * galaxy_bools.reshape(-1, 1)\n",
    "        fluxes = star_fluxes + gal_fluxes\n",
    "\n",
    "        for obj, _ in enumerate(objc_type):\n",
    "            if thing_id[obj] != -1 and torch.all(fluxes[obj] > 0):\n",
    "                if objc_type[obj] == 6:\n",
    "                    star_flux_lst.append(fluxes[obj])\n",
    "                elif objc_type[obj] == 3:\n",
    "                    gal_flux_lst.append(fluxes[obj])\n",
    "\n",
    "    ref_band = 2  # r-band\n",
    "    star_fluxes = torch.stack(star_flux_lst, dim=0)[:, ref_band]\n",
    "    gal_fluxes = torch.stack(gal_flux_lst, dim=0)[:, ref_band]\n",
    "\n",
    "    return star_fluxes, gal_fluxes"
   ]
  },
  {
   "cell_type": "code",
   "execution_count": null,
   "metadata": {},
   "outputs": [],
   "source": [
    "# load color distributions from sdss files\n",
    "fields = (\n",
    "    [(94, 1, f) for f in np.arange(12, 492, 10, dtype=int)] +\n",
    "    [(125, 1, f) for f in np.arange(15, 575, 10, dtype=int)] + \n",
    "    [(752, 1, f) for f in np.arange(15, 695, 10, dtype=int)] +\n",
    "    [(3900, 6, f) for f in np.arange(16, 606, 10, dtype=int)]\n",
    ")\n",
    "star_fluxes, gal_fluxes = load_color_distribution(fields, \"/data/scratch/sdss\")"
   ]
  },
  {
   "cell_type": "markdown",
   "metadata": {},
   "source": [
    "# Determine Reference-Band Star Flux Prior"
   ]
  },
  {
   "cell_type": "code",
   "execution_count": null,
   "metadata": {},
   "outputs": [],
   "source": [
    "from bliss.catalog import convert_nmgy_to_mag\n",
    "star_mags = convert_nmgy_to_mag(star_fluxes)\n",
    "stars_to_use = star_mags < 23.0\n",
    "star_fluxes_to_use = star_fluxes[stars_to_use]\n",
    "\n",
    "from scipy.stats import pareto\n",
    "star_alpha, star_loc, star_scale = pareto.fit(star_fluxes_to_use)\n",
    "\n",
    "star_scale, star_alpha, star_loc"
   ]
  },
  {
   "cell_type": "code",
   "execution_count": null,
   "metadata": {},
   "outputs": [],
   "source": [
    "from scipy.stats import truncpareto\n",
    "star_exponent, star_truncation, star_loc_tp, star_scale_tp = truncpareto.fit(star_fluxes_to_use)\n",
    "\n",
    "star_exponent, star_truncation, star_loc_tp, star_scale_tp"
   ]
  },
  {
   "cell_type": "code",
   "execution_count": null,
   "metadata": {},
   "outputs": [],
   "source": [
    "x = np.logspace(star_fluxes_to_use.log10().min(), 1.05 * star_fluxes_to_use.log10().max(), num=200)\n",
    "\n",
    "pdf_vals = pareto.pdf(x, star_alpha, star_loc, star_scale)\n",
    "_ = plt.plot(x, pdf_vals, 'r-', lw=5, alpha=0.6, label='pareto pdf')\n",
    "\n",
    "pdf_vals_trunc = truncpareto.pdf(x, star_exponent, star_truncation, star_loc_tp, star_scale_tp)\n",
    "_ = plt.plot(x, pdf_vals_trunc, 'g.', lw=5, alpha=0.6, label='trucpareto pdf')\n",
    "\n",
    "_ = plt.hist(star_fluxes_to_use, log=True, bins=200, label='star_fluxes histogram', density=True)\n",
    "plt.legend();"
   ]
  },
  {
   "cell_type": "code",
   "execution_count": null,
   "metadata": {},
   "outputs": [],
   "source": [
    "from torch.distributions import Pareto\n",
    "n = star_fluxes_to_use.size(0)\n",
    "samples = Pareto(star_scale, star_alpha).sample((n,)) + star_loc\n",
    "\n",
    "# tune `stars_to_use` to make these distributions match for various `k`\n",
    "k = 5\n",
    "star_fluxes.topk(k,largest=True)[0], samples.topk(k, largest=True)[0]"
   ]
  },
  {
   "cell_type": "markdown",
   "metadata": {},
   "source": [
    "# Determine Reference-Band Galaxy Flux Prior"
   ]
  },
  {
   "cell_type": "code",
   "execution_count": null,
   "metadata": {},
   "outputs": [],
   "source": [
    "gal_mags = convert_nmgy_to_mag(gal_fluxes)\n",
    "gals_to_use = gal_mags < 23.0\n",
    "gal_fluxes_to_use = gal_fluxes[gals_to_use]\n",
    "\n",
    "gal_alpha, gal_loc, gal_scale = pareto.fit(gal_fluxes_to_use)\n",
    "gal_alpha, gal_loc, gal_scale"
   ]
  },
  {
   "cell_type": "code",
   "execution_count": null,
   "metadata": {},
   "outputs": [],
   "source": [
    "gal_exponent, gal_trunc, gal_loc_tp, gal_scale_tp = truncpareto.fit(gal_fluxes_to_use)\n",
    "gal_exponent, gal_trunc, gal_loc_tp, gal_scale_tp"
   ]
  },
  {
   "cell_type": "code",
   "execution_count": null,
   "metadata": {},
   "outputs": [],
   "source": [
    "x = np.logspace(gal_fluxes.log10().min(), 1.05 * gal_fluxes.log10().max(), num=200)\n",
    "\n",
    "pdf_vals = pareto.pdf(x, gal_alpha, gal_loc, gal_scale)\n",
    "_ = plt.plot(x, pdf_vals, 'r-', lw=5, alpha=0.6, label='pareto pdf')\n",
    "\n",
    "pdf_vals = truncpareto.pdf(x, gal_exponent, gal_trunc, gal_loc_tp, gal_scale_tp)\n",
    "_ = plt.plot(x, pdf_vals, 'g.', lw=5, alpha=0.6, label='truncpareto pdf')\n",
    "\n",
    "_ = plt.hist(gal_fluxes_to_use, log=True, bins=200, label='galaxy fluxes histogram', density=True)\n",
    "plt.legend();"
   ]
  },
  {
   "cell_type": "code",
   "execution_count": null,
   "metadata": {},
   "outputs": [],
   "source": [
    "n = gal_fluxes.size(0)\n",
    "sample = Pareto(gal_scale, gal_alpha).sample((n,)) + gal_loc\n",
    "\n",
    "sample.topk(10, largest=False)[0]"
   ]
  },
  {
   "cell_type": "code",
   "execution_count": null,
   "metadata": {},
   "outputs": [],
   "source": [
    "gal_fluxes.topk(10)[0]"
   ]
  },
  {
   "cell_type": "code",
   "execution_count": null,
   "metadata": {},
   "outputs": [],
   "source": [
    "from bliss.catalog import convert_mag_to_nmgy\n",
    "\n",
    "# shift loc downward to simulate galaxies a bit below the detection threshold\n",
    "# (don't have to do this for stars because loc is already at 23 mag)\n",
    "min_flux = gal_scale + gal_loc\n",
    "gal_loc2 = gal_loc - (min_flux - convert_mag_to_nmgy(23.0))\n"
   ]
  },
  {
   "cell_type": "code",
   "execution_count": null,
   "metadata": {},
   "outputs": [],
   "source": [
    "x = np.logspace(gal_fluxes.log10().min(), gal_fluxes.log10().max(), num=1000)\n",
    "pdf_vals = pareto.pdf(x, gal_alpha, gal_loc2, gal_scale)\n",
    "\n",
    "_ = plt.plot(x, pdf_vals, 'r-', lw=5, alpha=0.6, label='pareto pdf')\n",
    "_ = plt.hist(gal_fluxes, log=True, bins=200, label='star_fluxes histogram', density=True)\n",
    "plt.legend()"
   ]
  },
  {
   "cell_type": "code",
   "execution_count": null,
   "metadata": {},
   "outputs": [],
   "source": [
    "n = gal_fluxes.size(0)\n",
    "sample = Pareto(gal_scale, gal_alpha).sample((n,)) + gal_loc2\n",
    "\n",
    "sample.topk(10, largest=True)[0]"
   ]
  },
  {
   "cell_type": "code",
   "execution_count": null,
   "metadata": {},
   "outputs": [],
   "source": [
    "gal_scale, gal_alpha, gal_loc2"
   ]
  },
  {
   "cell_type": "markdown",
   "metadata": {},
   "source": [
    "# Determine mean number of sources per field"
   ]
  },
  {
   "cell_type": "code",
   "execution_count": null,
   "metadata": {},
   "outputs": [],
   "source": [
    "n_fields = len(fields)\n",
    "n_fields"
   ]
  },
  {
   "cell_type": "code",
   "execution_count": null,
   "metadata": {},
   "outputs": [],
   "source": [
    "easy_detection_threshold = 21.5\n",
    "n_easy_stars = (star_mags < easy_detection_threshold).sum()\n",
    "n_easy_gals = (gal_mags < easy_detection_threshold).sum()\n",
    "n_easy_stars, n_easy_gals\n"
   ]
  },
  {
   "cell_type": "code",
   "execution_count": null,
   "metadata": {},
   "outputs": [],
   "source": [
    "x = convert_mag_to_nmgy(easy_detection_threshold)"
   ]
  },
  {
   "cell_type": "code",
   "execution_count": null,
   "metadata": {},
   "outputs": [],
   "source": [
    "star_easy_prop = 1 - truncpareto.cdf(x, star_exponent, star_truncation, star_loc_tp, star_scale_tp)\n",
    "gal_easy_prop = 1 - truncpareto.cdf(x, gal_exponent, gal_trunc, gal_loc_tp, gal_scale_tp)\n",
    "star_easy_prop, gal_easy_prop"
   ]
  },
  {
   "cell_type": "code",
   "execution_count": null,
   "metadata": {},
   "outputs": [],
   "source": [
    "implied_n_sources = n_easy_stars / star_easy_prop + n_easy_gals / gal_easy_prop\n",
    "implied_n_sources"
   ]
  },
  {
   "cell_type": "code",
   "execution_count": null,
   "metadata": {},
   "outputs": [],
   "source": [
    "implied_prop_galaxy = (n_easy_gals / gal_easy_prop) / implied_n_sources\n",
    "implied_prop_galaxy"
   ]
  },
  {
   "cell_type": "code",
   "execution_count": null,
   "metadata": {},
   "outputs": [],
   "source": [
    "mean_sources_per_field = implied_n_sources / n_fields\n",
    "mean_sources_per_field"
   ]
  },
  {
   "cell_type": "code",
   "execution_count": null,
   "metadata": {},
   "outputs": [],
   "source": [
    "# more direct calculation, but assumes SDSS catalog accuracy\n",
    "(len(star_fluxes) + len(gal_fluxes)) / n_fields"
   ]
  },
  {
   "cell_type": "code",
   "execution_count": null,
   "metadata": {},
   "outputs": [],
   "source": [
    "tiles_per_field = (2048 * 1489) / (4 * 4)\n",
    "tiles_per_field"
   ]
  },
  {
   "cell_type": "code",
   "execution_count": null,
   "metadata": {},
   "outputs": [],
   "source": [
    "mean_sources_per_tile = mean_sources_per_field / tiles_per_field\n",
    "mean_sources_per_tile"
   ]
  },
  {
   "cell_type": "code",
   "execution_count": null,
   "metadata": {},
   "outputs": [],
   "source": []
  }
 ],
 "metadata": {
  "kernelspec": {
   "display_name": ".venv",
   "language": "python",
   "name": "python3"
  },
  "language_info": {
   "codemirror_mode": {
    "name": "ipython",
    "version": 3
   },
   "file_extension": ".py",
   "mimetype": "text/x-python",
   "name": "python",
   "nbconvert_exporter": "python",
   "pygments_lexer": "ipython3",
   "version": "3.10.12"
  }
 },
 "nbformat": 4,
 "nbformat_minor": 2
}

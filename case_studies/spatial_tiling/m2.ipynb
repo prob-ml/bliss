{
 "cells": [
  {
   "cell_type": "markdown",
   "metadata": {},
   "source": [
    "## Load SDSS image data"
   ]
  },
  {
   "cell_type": "code",
   "execution_count": 1,
   "metadata": {},
   "outputs": [],
   "source": [
    "%load_ext autoreload\n",
    "%autoreload 2\n",
    "%matplotlib inline"
   ]
  },
  {
   "cell_type": "code",
   "execution_count": null,
   "metadata": {},
   "outputs": [],
   "source": [
    "from astropy.io import fits\n",
    "from astropy.wcs import WCS\n",
    "import numpy as np\n",
    "\n",
    "f = fits.open('/home/regier/bliss/tests/data/sdss/2583/2/136/frame-r-002583-2-0136.fits')\n",
    "w = WCS(f[0].header)\n",
    "\n",
    "# lower-left corner of the 100x100-pixel study area is at pixel (310, 630)\n",
    "w.pixel_to_world(310, 630)"
   ]
  },
  {
   "cell_type": "code",
   "execution_count": null,
   "metadata": {},
   "outputs": [],
   "source": [
    "from matplotlib import pyplot as plt\n",
    "\n",
    "plt.imshow(f[0].data, origin='lower', cmap='Greys_r')\n",
    "print(\"Behold, the M2 globular cluster!\")"
   ]
  },
  {
   "cell_type": "code",
   "execution_count": null,
   "metadata": {},
   "outputs": [],
   "source": [
    "logimage = np.log(f[0].data - f[0].data.min() + 1)\n",
    "plt.imshow(logimage, origin='lower', cmap='Greys_r');"
   ]
  },
  {
   "cell_type": "code",
   "execution_count": null,
   "metadata": {},
   "outputs": [],
   "source": [
    "from matplotlib.patches import Rectangle\n",
    "\n",
    "plt.imshow(logimage, origin='lower', cmap='Greys_r')\n",
    "rect = Rectangle((310, 630), 100, 100, linewidth=2, edgecolor='r', facecolor='none')\n",
    "_ = plt.gca().add_patch(rect)\n",
    "plt.xticks([])\n",
    "plt.yticks([]);"
   ]
  },
  {
   "cell_type": "markdown",
   "metadata": {},
   "source": [
    "## Loading/viewing HST predictions"
   ]
  },
  {
   "cell_type": "code",
   "execution_count": null,
   "metadata": {},
   "outputs": [],
   "source": [
    "from bliss.catalog import FullCatalog\n",
    "import torch\n",
    "import numpy as np\n",
    "\n",
    "# wget https://archive.stsci.edu/pub/hlsp/acsggct/ngc7089/hlsp_acsggct_hst_acs-wfc_ngc7089_r.rdviq.cal.adj.zpt\n",
    "hubble_cat_file = \"/home/regier/hlsp_acsggct_hst_acs-wfc_ngc7089_r.rdviq.cal.adj.zpt\"\n",
    "hubble_cat = np.loadtxt(hubble_cat_file, skiprows=3, usecols=(9,21,22))\n",
    "\n",
    "hst_r_mag_all = torch.from_numpy(hubble_cat[:, 0])\n",
    "ra = torch.from_numpy(hubble_cat[:, 1])\n",
    "dec = torch.from_numpy(hubble_cat[:, 2])\n",
    "\n",
    "plocs_all = FullCatalog.plocs_from_ra_dec(ra, dec, w)"
   ]
  },
  {
   "cell_type": "code",
   "execution_count": null,
   "metadata": {},
   "outputs": [],
   "source": [
    "original = f[0].data[630:730, 310:410]\n",
    "\n",
    "arcsinh_median = np.arcsinh((original - np.median(original)))\n",
    "\n",
    "clipped = original.clip(max=np.quantile(original, 0.98))\n",
    "arcsinh_clipped = np.arcsinh((clipped - np.median(clipped)));"
   ]
  },
  {
   "cell_type": "code",
   "execution_count": null,
   "metadata": {},
   "outputs": [],
   "source": [
    "\n",
    "fig, axs = plt.subplots(1, 3, figsize=(10, 10))\n",
    "\n",
    "images = [original, arcsinh_median, arcsinh_clipped]\n",
    "titles = ['original', 'arcsinc', 'arcsinc with clipping']\n",
    "\n",
    "for i, img in enumerate(images):\n",
    "    ax = axs[i]\n",
    "    ax.imshow(img, origin='lower', cmap='Greys_r')\n",
    "    ax.set_title(titles[i])\n",
    "    ax.set_xticks([])\n",
    "    ax.set_yticks([])\n",
    "\n",
    "plt.tight_layout()\n",
    "plt.show()"
   ]
  },
  {
   "cell_type": "code",
   "execution_count": null,
   "metadata": {},
   "outputs": [],
   "source": [
    "in_bounds = (plocs_all[:, 1] > 310) & (plocs_all[:, 1] < 410)\n",
    "in_bounds &= (plocs_all[:, 0] > 630) & (plocs_all[:, 0] < 730)\n",
    "in_bounds.sum()"
   ]
  },
  {
   "cell_type": "code",
   "execution_count": null,
   "metadata": {},
   "outputs": [],
   "source": [
    "hst_r_mag = hst_r_mag_all[in_bounds]\n",
    "plocs = plocs_all[in_bounds]"
   ]
  },
  {
   "cell_type": "code",
   "execution_count": null,
   "metadata": {},
   "outputs": [],
   "source": [
    "plocs_square = plocs - torch.tensor([630, 310])\n",
    "\n",
    "from bliss.catalog import convert_mag_to_nmgy, convert_nmgy_to_mag\n",
    "hst_r_nmgy = convert_mag_to_nmgy(hst_r_mag)\n",
    "\n",
    "# these magnitudes are about 15% off: the hubble fw606 band filter curve\n",
    "#  isn't exactly the sdss r band filter curve\n",
    "sdss_r_nmgy = hst_r_nmgy * 1.15\n",
    "sdss_r_mag = convert_nmgy_to_mag(sdss_r_nmgy)"
   ]
  },
  {
   "cell_type": "code",
   "execution_count": null,
   "metadata": {},
   "outputs": [],
   "source": [
    "d = {\n",
    "    \"plocs\": plocs_square.unsqueeze(0),\n",
    "    \"star_fluxes\": sdss_r_nmgy.unsqueeze(0).unsqueeze(2).expand([-1, -1, 5]),\n",
    "    \"galaxy_fluxes\": sdss_r_nmgy.unsqueeze(0).unsqueeze(2).expand([-1, -1, 5]) * 0.0,\n",
    "    \"n_sources\": torch.tensor(plocs.shape[0]).unsqueeze(0),\n",
    "    \"source_type\": torch.zeros(plocs.shape[0]).unsqueeze(0).unsqueeze(2).long(),\n",
    "}"
   ]
  },
  {
   "cell_type": "code",
   "execution_count": null,
   "metadata": {},
   "outputs": [],
   "source": [
    "true_cat_all = FullCatalog(100, 100, d)\n",
    "true_cat_all[\"n_sources\"].sum()"
   ]
  },
  {
   "cell_type": "code",
   "execution_count": null,
   "metadata": {},
   "outputs": [],
   "source": [
    "true_tile_cat_all = true_cat_all.to_tile_catalog(2, 11)\n",
    "true_tile_cat_all[\"n_sources\"].sum()"
   ]
  },
  {
   "cell_type": "code",
   "execution_count": null,
   "metadata": {},
   "outputs": [],
   "source": [
    "is_bright = sdss_r_mag < 22.565\n",
    "is_bright.sum(), convert_mag_to_nmgy(22.565)"
   ]
  },
  {
   "cell_type": "code",
   "execution_count": null,
   "metadata": {},
   "outputs": [],
   "source": [
    "d = {\n",
    "    \"plocs\": plocs_square[is_bright].unsqueeze(0),\n",
    "    \"star_fluxes\": sdss_r_nmgy[is_bright].unsqueeze(0).unsqueeze(2).expand([-1, -1, 5]),\n",
    "    \"galaxy_fluxes\": sdss_r_nmgy[is_bright].unsqueeze(0).unsqueeze(2).expand([-1, -1, 5]) * 0.0,\n",
    "    \"n_sources\": torch.tensor(plocs[is_bright].shape[0]).unsqueeze(0),\n",
    "    \"source_type\": torch.zeros(plocs[is_bright].shape[0]).unsqueeze(0).unsqueeze(2).long(),\n",
    "}\n",
    "true_cat = FullCatalog(100, 100, d)\n",
    "true_cat[\"n_sources\"].sum()"
   ]
  },
  {
   "cell_type": "code",
   "execution_count": null,
   "metadata": {},
   "outputs": [],
   "source": [
    "true_tile_cat = true_cat.to_tile_catalog(2, 5)\n",
    "true_tile_cat[\"n_sources\"].sum()"
   ]
  },
  {
   "cell_type": "code",
   "execution_count": null,
   "metadata": {},
   "outputs": [],
   "source": [
    "fig, axs = plt.subplots(1, 3, figsize=(10, 10))\n",
    "\n",
    "cutoffs = [20, 22.065, 24]\n",
    "\n",
    "for i, cutoff in enumerate(cutoffs):\n",
    "    is_bright = sdss_r_mag < cutoff\n",
    "    plocs_square_bright = plocs_square[is_bright]\n",
    "    ax = axs[i]\n",
    "    ax.imshow(arcsinh_clipped, origin='lower', cmap='Greys_r')\n",
    "    ax.scatter(plocs_square_bright[:, 1], plocs_square_bright[:, 0], s=5, c='r')\n",
    "    ax.set_title(f\"magnitude < {cutoff}\")\n",
    "    ax.set_xlim(0, 100)\n",
    "    ax.set_ylim(0, 100)\n",
    "    ax.set_xticks([])\n",
    "    ax.set_yticks([])\n",
    "\n",
    "plt.tight_layout()\n",
    "plt.show()\n"
   ]
  },
  {
   "cell_type": "markdown",
   "metadata": {},
   "source": [
    "## Making predictions on M2 with BLISS"
   ]
  },
  {
   "cell_type": "code",
   "execution_count": null,
   "metadata": {},
   "outputs": [],
   "source": [
    "from os import environ\n",
    "environ[\"CUDA_VISIBLE_DEVICES\"] = \"3\"\n",
    "\n",
    "from hydra import initialize, compose\n",
    "from bliss.main import predict\n",
    "\n",
    "with initialize(config_path=\"../../case_studies/spatial_tiling/\", version_base=None):\n",
    "    cfg = compose(\"m2_config\", {\n",
    "        \"encoder.tiles_to_crop=3\",\n",
    "        \"predict.weight_save_path=/home/regier/bliss_output/jul3_m2_split_metrics/version_0/checkpoints/best_encoder.ckpt\",\n",
    " #       \"encoder.use_double_detect=false\"\n",
    "        })"
   ]
  },
  {
   "cell_type": "code",
   "execution_count": null,
   "metadata": {},
   "outputs": [],
   "source": [
    "bliss_cats = predict(cfg.predict)\n",
    "bliss_cat_pair, = bliss_cats.values()\n",
    "bliss_cat = bliss_cat_pair[\"mode_cat\"].to_full_catalog()\n",
    "true_cat[\"n_sources\"].sum(), bliss_cat[\"n_sources\"].sum()"
   ]
  },
  {
   "cell_type": "code",
   "execution_count": null,
   "metadata": {},
   "outputs": [],
   "source": [
    "from hydra.utils import instantiate\n",
    "\n",
    "matcher = instantiate(cfg.encoder.matcher)\n",
    "mode_metrics = instantiate(cfg.encoder.mode_metrics)"
   ]
  },
  {
   "cell_type": "code",
   "execution_count": null,
   "metadata": {},
   "outputs": [],
   "source": [
    "matching = matcher.match_catalogs(true_cat, bliss_cat)\n",
    "metric = mode_metrics(true_cat, bliss_cat, matching)\n",
    "metric[\"detection_recall\"], metric[\"detection_precision\"], metric[\"detection_f1\"]"
   ]
  },
  {
   "cell_type": "code",
   "execution_count": null,
   "metadata": {},
   "outputs": [],
   "source": [
    "for name, metric in mode_metrics.items():\n",
    "    metric.plot()"
   ]
  },
  {
   "cell_type": "code",
   "execution_count": null,
   "metadata": {},
   "outputs": [],
   "source": [
    "m = mode_metrics[\"detection_performance\"]\n",
    "recall = (m.n_true_matches / m.n_true_sources)[:-1]\n",
    "precision = (m.n_est_matches / m.n_est_sources)[:-1]\n",
    "real = {\"recall\": recall, \"precision\": precision}"
   ]
  },
  {
   "cell_type": "markdown",
   "metadata": {},
   "source": [
    "Check calibration:"
   ]
  },
  {
   "cell_type": "code",
   "execution_count": null,
   "metadata": {},
   "outputs": [],
   "source": [
    "%%capture\n",
    "counts = []\n",
    "\n",
    "for i in range(15):\n",
    "    bliss_cats = predict(cfg.predict)\n",
    "    bliss_cat_pair, = bliss_cats.values()\n",
    "    bliss_cat = bliss_cat_pair[\"sample_cat\"].to_full_catalog()\n",
    "    counts.append(bliss_cat[\"n_sources\"].sum())\n",
    "\n",
    "counts"
   ]
  },
  {
   "cell_type": "code",
   "execution_count": null,
   "metadata": {},
   "outputs": [],
   "source": [
    "cs = torch.tensor([c.item() for c in counts]).float()\n",
    "cs.mean(), cs.quantile(0.05), cs.quantile(0.95)"
   ]
  },
  {
   "cell_type": "markdown",
   "metadata": {},
   "source": [
    "### Independent tiling (baseline)"
   ]
  },
  {
   "cell_type": "code",
   "execution_count": null,
   "metadata": {},
   "outputs": [],
   "source": [
    "from copy import deepcopy\n",
    "cfg2 = deepcopy(cfg)\n",
    "cfg2.encoder.use_checkerboard = False"
   ]
  },
  {
   "cell_type": "code",
   "execution_count": null,
   "metadata": {},
   "outputs": [],
   "source": [
    "bliss_cats = predict(cfg2.predict)\n",
    "bliss_cat_pair, = bliss_cats.values()\n",
    "bliss_cat_marginal = bliss_cat_pair[\"mode_cat\"].to_full_catalog()\n",
    "matching = matcher.match_catalogs(true_cat, bliss_cat_marginal)\n",
    "metric = mode_metrics(true_cat, bliss_cat_marginal, matching)\n",
    "\n",
    "m = mode_metrics[\"detection_performance\"]\n",
    "m.plot()\n",
    "\n",
    "metric[\"detection_recall\"], metric[\"detection_precision\"], metric[\"detection_f1\"]"
   ]
  },
  {
   "cell_type": "code",
   "execution_count": null,
   "metadata": {},
   "outputs": [],
   "source": [
    "%%capture\n",
    "counts = []\n",
    "\n",
    "for i in range(15):\n",
    "    bliss_cats = predict(cfg2.predict)\n",
    "    bliss_cat_pair, = bliss_cats.values()\n",
    "    bliss_cat = bliss_cat_pair[\"sample_cat\"].to_full_catalog()\n",
    "    counts.append(bliss_cat[\"n_sources\"].sum())\n",
    "\n",
    "counts"
   ]
  },
  {
   "cell_type": "code",
   "execution_count": null,
   "metadata": {},
   "outputs": [],
   "source": [
    "cs = torch.tensor([c.item() for c in counts]).float()\n",
    "cs.mean(), cs.quantile(0.05), cs.quantile(0.95)"
   ]
  },
  {
   "cell_type": "markdown",
   "metadata": {},
   "source": [
    "## BLISS performance on synthetic data"
   ]
  },
  {
   "cell_type": "code",
   "execution_count": 2,
   "metadata": {},
   "outputs": [
    {
     "name": "stderr",
     "output_type": "stream",
     "text": [
      "GPU available: True (cuda), used: True\n",
      "TPU available: False, using: 0 TPU cores\n",
      "IPU available: False, using: 0 IPUs\n",
      "HPU available: False, using: 0 HPUs\n",
      "LOCAL_RANK: 0 - CUDA_VISIBLE_DEVICES: [1]\n"
     ]
    },
    {
     "data": {
      "application/vnd.jupyter.widget-view+json": {
       "model_id": "6d38b6650c97408ba279df45b32752b8",
       "version_major": 2,
       "version_minor": 0
      },
      "text/plain": [
       "Testing: 0it [00:00, ?it/s]"
      ]
     },
     "metadata": {},
     "output_type": "display_data"
    },
    {
     "name": "stderr",
     "output_type": "stream",
     "text": [
      "/home/regier/bliss/.venv/lib/python3.10/site-packages/pytorch_lightning/trainer/call.py:54: UserWarning: Detected KeyboardInterrupt, attempting graceful shutdown...\n",
      "  rank_zero_warn(\"Detected KeyboardInterrupt, attempting graceful shutdown...\")\n"
     ]
    }
   ],
   "source": [
    "import torch\n",
    "from hydra import initialize, compose\n",
    "from hydra.utils import instantiate\n",
    "\n",
    "with initialize(config_path=\"../../case_studies/spatial_tiling/\", version_base=None):\n",
    "    cfg3 = compose(\"m2_config\", {\n",
    "        \"train.trainer.logger=null\",\n",
    "        \"train.trainer.max_epochs=0\",\n",
    "        \"train.pretrained_weights=/home/regier/bliss_output/jul3_m2_split_metrics/version_0/checkpoints/best_encoder.ckpt\",\n",
    "        \"+train.trainer.num_sanity_val_steps=0\",\n",
    "        \"cached_simulator.num_workers=0\",\n",
    "        \"cached_simulator.splits=0:80/80:90/99.5:100\",\n",
    "    })\n",
    "\n",
    "train_cfg = cfg3.train\n",
    "dataset = instantiate(train_cfg.data_source)\n",
    "dataset.setup(\"fit\")\n",
    "dataset.setup(\"test\")\n",
    "\n",
    "encoder = instantiate(train_cfg.encoder)\n",
    "trainer = instantiate(train_cfg.trainer)\n",
    "\n",
    "enc_state_dict = torch.load(train_cfg.pretrained_weights)\n",
    "if train_cfg.pretrained_weights.endswith(\".ckpt\"):\n",
    "    enc_state_dict = enc_state_dict[\"state_dict\"]\n",
    "encoder.load_state_dict(enc_state_dict)\n",
    "\n",
    "trainer.test(encoder, datamodule=dataset)"
   ]
  },
  {
   "cell_type": "code",
   "execution_count": null,
   "metadata": {},
   "outputs": [],
   "source": [
    "# need to disable metric_reset in encoder for this to work!\n",
    "m = encoder.mode_metrics[\"detection_performance\"]\n",
    "recall = (m.n_true_matches / m.n_true_sources)[:-1]\n",
    "precision = (m.n_est_matches / m.n_est_sources)[:-1]\n",
    "fully_synthetic = {\"recall\": recall, \"precision\": precision}\n",
    "fully_synthetic"
   ]
  },
  {
   "cell_type": "code",
   "execution_count": 3,
   "metadata": {},
   "outputs": [
    {
     "name": "stderr",
     "output_type": "stream",
     "text": [
      "LOCAL_RANK: 0 - CUDA_VISIBLE_DEVICES: [1]\n"
     ]
    },
    {
     "data": {
      "application/vnd.jupyter.widget-view+json": {
       "model_id": "5ee0939962ff4af8a1cc98382fdbe39d",
       "version_major": 2,
       "version_minor": 0
      },
      "text/plain": [
       "Testing: 0it [00:00, ?it/s]"
      ]
     },
     "metadata": {},
     "output_type": "display_data"
    },
    {
     "data": {
      "image/png": "[encoded data removed]",
      "text/plain": [
       "<Figure size 640x480 with 1 Axes>"
      ]
     },
     "metadata": {},
     "output_type": "display_data"
    },
    {
     "data": {
      "text/html": [
       "<pre style=\"white-space:pre;overflow-x:auto;line-height:normal;font-family:Menlo,'DejaVu Sans Mono',consolas,'Courier New',monospace\">┏━━━━━━━━━━━━━━━━━━━━━━━━━━━━━━━━━━━━━┳━━━━━━━━━━━━━━━━━━━━━━━━━━━━━━━━━━━━━┓\n",
       "┃<span style=\"font-weight: bold\">             Test metric             </span>┃<span style=\"font-weight: bold\">            DataLoader 0             </span>┃\n",
       "┡━━━━━━━━━━━━━━━━━━━━━━━━━━━━━━━━━━━━━╇━━━━━━━━━━━━━━━━━━━━━━━━━━━━━━━━━━━━━┩\n",
       "│<span style=\"color: #008080; text-decoration-color: #008080\">             test/_loss              </span>│<span style=\"color: #800080; text-decoration-color: #800080\">         2.7782750129699707          </span>│\n",
       "│<span style=\"color: #008080; text-decoration-color: #008080\">       test/mode/detection_f1        </span>│<span style=\"color: #800080; text-decoration-color: #800080\">         0.7145977020263672          </span>│\n",
       "│<span style=\"color: #008080; text-decoration-color: #008080\">    test/mode/detection_f1_bin_0     </span>│<span style=\"color: #800080; text-decoration-color: #800080\">          0.952073335647583          </span>│\n",
       "│<span style=\"color: #008080; text-decoration-color: #008080\">    test/mode/detection_f1_bin_1     </span>│<span style=\"color: #800080; text-decoration-color: #800080\">         0.9100860953330994          </span>│\n",
       "│<span style=\"color: #008080; text-decoration-color: #008080\">    test/mode/detection_f1_bin_2     </span>│<span style=\"color: #800080; text-decoration-color: #800080\">         0.8836124539375305          </span>│\n",
       "│<span style=\"color: #008080; text-decoration-color: #008080\">    test/mode/detection_f1_bin_3     </span>│<span style=\"color: #800080; text-decoration-color: #800080\">         0.8497053980827332          </span>│\n",
       "│<span style=\"color: #008080; text-decoration-color: #008080\">    test/mode/detection_f1_bin_4     </span>│<span style=\"color: #800080; text-decoration-color: #800080\">         0.8066278100013733          </span>│\n",
       "│<span style=\"color: #008080; text-decoration-color: #008080\">    test/mode/detection_f1_bin_5     </span>│<span style=\"color: #800080; text-decoration-color: #800080\">         0.7531751990318298          </span>│\n",
       "│<span style=\"color: #008080; text-decoration-color: #008080\">    test/mode/detection_f1_bin_6     </span>│<span style=\"color: #800080; text-decoration-color: #800080\">         0.6843846440315247          </span>│\n",
       "│<span style=\"color: #008080; text-decoration-color: #008080\">    test/mode/detection_f1_bin_7     </span>│<span style=\"color: #800080; text-decoration-color: #800080\">         0.5895228385925293          </span>│\n",
       "│<span style=\"color: #008080; text-decoration-color: #008080\">    test/mode/detection_f1_bin_8     </span>│<span style=\"color: #800080; text-decoration-color: #800080\">         0.4815387427806854          </span>│\n",
       "│<span style=\"color: #008080; text-decoration-color: #008080\">    test/mode/detection_precision    </span>│<span style=\"color: #800080; text-decoration-color: #800080\">         0.7134124040603638          </span>│\n",
       "│<span style=\"color: #008080; text-decoration-color: #008080\"> test/mode/detection_precision_bin_0 </span>│<span style=\"color: #800080; text-decoration-color: #800080\">         0.9693151712417603          </span>│\n",
       "│<span style=\"color: #008080; text-decoration-color: #008080\"> test/mode/detection_precision_bin_1 </span>│<span style=\"color: #800080; text-decoration-color: #800080\">         0.9326321482658386          </span>│\n",
       "│<span style=\"color: #008080; text-decoration-color: #008080\"> test/mode/detection_precision_bin_2 </span>│<span style=\"color: #800080; text-decoration-color: #800080\">         0.9082474708557129          </span>│\n",
       "│<span style=\"color: #008080; text-decoration-color: #008080\"> test/mode/detection_precision_bin_3 </span>│<span style=\"color: #800080; text-decoration-color: #800080\">          0.87432461977005           </span>│\n",
       "│<span style=\"color: #008080; text-decoration-color: #008080\"> test/mode/detection_precision_bin_4 </span>│<span style=\"color: #800080; text-decoration-color: #800080\">         0.8290351033210754          </span>│\n",
       "│<span style=\"color: #008080; text-decoration-color: #008080\"> test/mode/detection_precision_bin_5 </span>│<span style=\"color: #800080; text-decoration-color: #800080\">         0.7658137083053589          </span>│\n",
       "│<span style=\"color: #008080; text-decoration-color: #008080\"> test/mode/detection_precision_bin_6 </span>│<span style=\"color: #800080; text-decoration-color: #800080\">          0.683732807636261          </span>│\n",
       "│<span style=\"color: #008080; text-decoration-color: #008080\"> test/mode/detection_precision_bin_7 </span>│<span style=\"color: #800080; text-decoration-color: #800080\">          0.575985312461853          </span>│\n",
       "│<span style=\"color: #008080; text-decoration-color: #008080\"> test/mode/detection_precision_bin_8 </span>│<span style=\"color: #800080; text-decoration-color: #800080\">         0.48964300751686096         </span>│\n",
       "│<span style=\"color: #008080; text-decoration-color: #008080\">     test/mode/detection_recall      </span>│<span style=\"color: #800080; text-decoration-color: #800080\">          0.715786874294281          </span>│\n",
       "│<span style=\"color: #008080; text-decoration-color: #008080\">  test/mode/detection_recall_bin_0   </span>│<span style=\"color: #800080; text-decoration-color: #800080\">         0.9354341626167297          </span>│\n",
       "│<span style=\"color: #008080; text-decoration-color: #008080\">  test/mode/detection_recall_bin_1   </span>│<span style=\"color: #800080; text-decoration-color: #800080\">          0.888604462146759          </span>│\n",
       "│<span style=\"color: #008080; text-decoration-color: #008080\">  test/mode/detection_recall_bin_2   </span>│<span style=\"color: #800080; text-decoration-color: #800080\">         0.8602786064147949          </span>│\n",
       "│<span style=\"color: #008080; text-decoration-color: #008080\">  test/mode/detection_recall_bin_3   </span>│<span style=\"color: #800080; text-decoration-color: #800080\">         0.8264347314834595          </span>│\n",
       "│<span style=\"color: #008080; text-decoration-color: #008080\">  test/mode/detection_recall_bin_4   </span>│<span style=\"color: #800080; text-decoration-color: #800080\">         0.7853999733924866          </span>│\n",
       "│<span style=\"color: #008080; text-decoration-color: #008080\">  test/mode/detection_recall_bin_5   </span>│<span style=\"color: #800080; text-decoration-color: #800080\">         0.7409469485282898          </span>│\n",
       "│<span style=\"color: #008080; text-decoration-color: #008080\">  test/mode/detection_recall_bin_6   </span>│<span style=\"color: #800080; text-decoration-color: #800080\">         0.6850376725196838          </span>│\n",
       "│<span style=\"color: #008080; text-decoration-color: #008080\">  test/mode/detection_recall_bin_7   </span>│<span style=\"color: #800080; text-decoration-color: #800080\">         0.6037120819091797          </span>│\n",
       "│<span style=\"color: #008080; text-decoration-color: #008080\">  test/mode/detection_recall_bin_8   </span>│<span style=\"color: #800080; text-decoration-color: #800080\">         0.47369834780693054         </span>│\n",
       "│<span style=\"color: #008080; text-decoration-color: #008080\">   test/sample/0.10000000149011612   </span>│<span style=\"color: #800080; text-decoration-color: #800080\">         0.06126081943511963         </span>│\n",
       "│<span style=\"color: #008080; text-decoration-color: #008080\">   test/sample/0.11960331350564957   </span>│<span style=\"color: #800080; text-decoration-color: #800080\">         0.11037325859069824         </span>│\n",
       "│<span style=\"color: #008080; text-decoration-color: #008080\">   test/sample/0.14304953813552856   </span>│<span style=\"color: #800080; text-decoration-color: #800080\">         0.1661388874053955          </span>│\n",
       "│<span style=\"color: #008080; text-decoration-color: #008080\">   test/sample/0.1710919886827469    </span>│<span style=\"color: #800080; text-decoration-color: #800080\">         0.24895739555358887         </span>│\n",
       "│<span style=\"color: #008080; text-decoration-color: #008080\">   test/sample/0.20463168621063232   </span>│<span style=\"color: #800080; text-decoration-color: #800080\">         0.33384156227111816         </span>│\n",
       "│<span style=\"color: #008080; text-decoration-color: #008080\">   test/sample/0.24474628269672394   </span>│<span style=\"color: #800080; text-decoration-color: #800080\">          0.476415753364563          </span>│\n",
       "│<span style=\"color: #008080; text-decoration-color: #008080\">   test/sample/0.2927246689796448    </span>│<span style=\"color: #800080; text-decoration-color: #800080\">         0.6315635442733765          </span>│\n",
       "│<span style=\"color: #008080; text-decoration-color: #008080\">   test/sample/0.35010841488838196   </span>│<span style=\"color: #800080; text-decoration-color: #800080\">         0.8110380172729492          </span>│\n",
       "│<span style=\"color: #008080; text-decoration-color: #008080\">   test/sample/0.41874128580093384   </span>│<span style=\"color: #800080; text-decoration-color: #800080\">         0.9906187057495117          </span>│\n",
       "│<span style=\"color: #008080; text-decoration-color: #008080\">   test/sample/0.5008284449577332    </span>│<span style=\"color: #800080; text-decoration-color: #800080\">         1.1173973083496094          </span>│\n",
       "│<span style=\"color: #008080; text-decoration-color: #008080\">   test/sample/0.5990074872970581    </span>│<span style=\"color: #800080; text-decoration-color: #800080\">          1.123199462890625          </span>│\n",
       "│<span style=\"color: #008080; text-decoration-color: #008080\">   test/sample/0.7164328098297119    </span>│<span style=\"color: #800080; text-decoration-color: #800080\">          1.02689528465271           </span>│\n",
       "│<span style=\"color: #008080; text-decoration-color: #008080\">   test/sample/0.8568774461746216    </span>│<span style=\"color: #800080; text-decoration-color: #800080\">          0.857682466506958          </span>│\n",
       "│<span style=\"color: #008080; text-decoration-color: #008080\">   test/sample/1.0248538255691528    </span>│<span style=\"color: #800080; text-decoration-color: #800080\">         0.6665520668029785          </span>│\n",
       "│<span style=\"color: #008080; text-decoration-color: #008080\">   test/sample/1.2257591485977173    </span>│<span style=\"color: #800080; text-decoration-color: #800080\">         0.4861873388290405          </span>│\n",
       "│<span style=\"color: #008080; text-decoration-color: #008080\">   test/sample/1.4660485982894897    </span>│<span style=\"color: #800080; text-decoration-color: #800080\">         0.32943010330200195         </span>│\n",
       "│<span style=\"color: #008080; text-decoration-color: #008080\">   test/sample/1.7534427642822266    </span>│<span style=\"color: #800080; text-decoration-color: #800080\">         0.20849037170410156         </span>│\n",
       "│<span style=\"color: #008080; text-decoration-color: #008080\">   test/sample/2.0971755981445312    </span>│<span style=\"color: #800080; text-decoration-color: #800080\">         0.12498009204864502         </span>│\n",
       "│<span style=\"color: #008080; text-decoration-color: #008080\">    test/sample/2.508291721343994    </span>│<span style=\"color: #800080; text-decoration-color: #800080\">         0.07624483108520508         </span>│\n",
       "│<span style=\"color: #008080; text-decoration-color: #008080\">           test/sample/3.0           </span>│<span style=\"color: #800080; text-decoration-color: #800080\">        0.048180460929870605         </span>│\n",
       "└─────────────────────────────────────┴─────────────────────────────────────┘\n",
       "</pre>\n"
      ],
      "text/plain": [
       "┏━━━━━━━━━━━━━━━━━━━━━━━━━━━━━━━━━━━━━┳━━━━━━━━━━━━━━━━━━━━━━━━━━━━━━━━━━━━━┓\n",
       "┃\u001b[1m \u001b[0m\u001b[1m            Test metric            \u001b[0m\u001b[1m \u001b[0m┃\u001b[1m \u001b[0m\u001b[1m           DataLoader 0            \u001b[0m\u001b[1m \u001b[0m┃\n",
       "┡━━━━━━━━━━━━━━━━━━━━━━━━━━━━━━━━━━━━━╇━━━━━━━━━━━━━━━━━━━━━━━━━━━━━━━━━━━━━┩\n",
       "│\u001b[36m \u001b[0m\u001b[36m            test/_loss             \u001b[0m\u001b[36m \u001b[0m│\u001b[35m \u001b[0m\u001b[35m        2.7782750129699707         \u001b[0m\u001b[35m \u001b[0m│\n",
       "│\u001b[36m \u001b[0m\u001b[36m      test/mode/detection_f1       \u001b[0m\u001b[36m \u001b[0m│\u001b[35m \u001b[0m\u001b[35m        0.7145977020263672         \u001b[0m\u001b[35m \u001b[0m│\n",
       "│\u001b[36m \u001b[0m\u001b[36m   test/mode/detection_f1_bin_0    \u001b[0m\u001b[36m \u001b[0m│\u001b[35m \u001b[0m\u001b[35m         0.952073335647583         \u001b[0m\u001b[35m \u001b[0m│\n",
       "│\u001b[36m \u001b[0m\u001b[36m   test/mode/detection_f1_bin_1    \u001b[0m\u001b[36m \u001b[0m│\u001b[35m \u001b[0m\u001b[35m        0.9100860953330994         \u001b[0m\u001b[35m \u001b[0m│\n",
       "│\u001b[36m \u001b[0m\u001b[36m   test/mode/detection_f1_bin_2    \u001b[0m\u001b[36m \u001b[0m│\u001b[35m \u001b[0m\u001b[35m        0.8836124539375305         \u001b[0m\u001b[35m \u001b[0m│\n",
       "│\u001b[36m \u001b[0m\u001b[36m   test/mode/detection_f1_bin_3    \u001b[0m\u001b[36m \u001b[0m│\u001b[35m \u001b[0m\u001b[35m        0.8497053980827332         \u001b[0m\u001b[35m \u001b[0m│\n",
       "│\u001b[36m \u001b[0m\u001b[36m   test/mode/detection_f1_bin_4    \u001b[0m\u001b[36m \u001b[0m│\u001b[35m \u001b[0m\u001b[35m        0.8066278100013733         \u001b[0m\u001b[35m \u001b[0m│\n",
       "│\u001b[36m \u001b[0m\u001b[36m   test/mode/detection_f1_bin_5    \u001b[0m\u001b[36m \u001b[0m│\u001b[35m \u001b[0m\u001b[35m        0.7531751990318298         \u001b[0m\u001b[35m \u001b[0m│\n",
       "│\u001b[36m \u001b[0m\u001b[36m   test/mode/detection_f1_bin_6    \u001b[0m\u001b[36m \u001b[0m│\u001b[35m \u001b[0m\u001b[35m        0.6843846440315247         \u001b[0m\u001b[35m \u001b[0m│\n",
       "│\u001b[36m \u001b[0m\u001b[36m   test/mode/detection_f1_bin_7    \u001b[0m\u001b[36m \u001b[0m│\u001b[35m \u001b[0m\u001b[35m        0.5895228385925293         \u001b[0m\u001b[35m \u001b[0m│\n",
       "│\u001b[36m \u001b[0m\u001b[36m   test/mode/detection_f1_bin_8    \u001b[0m\u001b[36m \u001b[0m│\u001b[35m \u001b[0m\u001b[35m        0.4815387427806854         \u001b[0m\u001b[35m \u001b[0m│\n",
       "│\u001b[36m \u001b[0m\u001b[36m   test/mode/detection_precision   \u001b[0m\u001b[36m \u001b[0m│\u001b[35m \u001b[0m\u001b[35m        0.7134124040603638         \u001b[0m\u001b[35m \u001b[0m│\n",
       "│\u001b[36m \u001b[0m\u001b[36mtest/mode/detection_precision_bin_0\u001b[0m\u001b[36m \u001b[0m│\u001b[35m \u001b[0m\u001b[35m        0.9693151712417603         \u001b[0m\u001b[35m \u001b[0m│\n",
       "│\u001b[36m \u001b[0m\u001b[36mtest/mode/detection_precision_bin_1\u001b[0m\u001b[36m \u001b[0m│\u001b[35m \u001b[0m\u001b[35m        0.9326321482658386         \u001b[0m\u001b[35m \u001b[0m│\n",
       "│\u001b[36m \u001b[0m\u001b[36mtest/mode/detection_precision_bin_2\u001b[0m\u001b[36m \u001b[0m│\u001b[35m \u001b[0m\u001b[35m        0.9082474708557129         \u001b[0m\u001b[35m \u001b[0m│\n",
       "│\u001b[36m \u001b[0m\u001b[36mtest/mode/detection_precision_bin_3\u001b[0m\u001b[36m \u001b[0m│\u001b[35m \u001b[0m\u001b[35m         0.87432461977005          \u001b[0m\u001b[35m \u001b[0m│\n",
       "│\u001b[36m \u001b[0m\u001b[36mtest/mode/detection_precision_bin_4\u001b[0m\u001b[36m \u001b[0m│\u001b[35m \u001b[0m\u001b[35m        0.8290351033210754         \u001b[0m\u001b[35m \u001b[0m│\n",
       "│\u001b[36m \u001b[0m\u001b[36mtest/mode/detection_precision_bin_5\u001b[0m\u001b[36m \u001b[0m│\u001b[35m \u001b[0m\u001b[35m        0.7658137083053589         \u001b[0m\u001b[35m \u001b[0m│\n",
       "│\u001b[36m \u001b[0m\u001b[36mtest/mode/detection_precision_bin_6\u001b[0m\u001b[36m \u001b[0m│\u001b[35m \u001b[0m\u001b[35m         0.683732807636261         \u001b[0m\u001b[35m \u001b[0m│\n",
       "│\u001b[36m \u001b[0m\u001b[36mtest/mode/detection_precision_bin_7\u001b[0m\u001b[36m \u001b[0m│\u001b[35m \u001b[0m\u001b[35m         0.575985312461853         \u001b[0m\u001b[35m \u001b[0m│\n",
       "│\u001b[36m \u001b[0m\u001b[36mtest/mode/detection_precision_bin_8\u001b[0m\u001b[36m \u001b[0m│\u001b[35m \u001b[0m\u001b[35m        0.48964300751686096        \u001b[0m\u001b[35m \u001b[0m│\n",
       "│\u001b[36m \u001b[0m\u001b[36m    test/mode/detection_recall     \u001b[0m\u001b[36m \u001b[0m│\u001b[35m \u001b[0m\u001b[35m         0.715786874294281         \u001b[0m\u001b[35m \u001b[0m│\n",
       "│\u001b[36m \u001b[0m\u001b[36m test/mode/detection_recall_bin_0  \u001b[0m\u001b[36m \u001b[0m│\u001b[35m \u001b[0m\u001b[35m        0.9354341626167297         \u001b[0m\u001b[35m \u001b[0m│\n",
       "│\u001b[36m \u001b[0m\u001b[36m test/mode/detection_recall_bin_1  \u001b[0m\u001b[36m \u001b[0m│\u001b[35m \u001b[0m\u001b[35m         0.888604462146759         \u001b[0m\u001b[35m \u001b[0m│\n",
       "│\u001b[36m \u001b[0m\u001b[36m test/mode/detection_recall_bin_2  \u001b[0m\u001b[36m \u001b[0m│\u001b[35m \u001b[0m\u001b[35m        0.8602786064147949         \u001b[0m\u001b[35m \u001b[0m│\n",
       "│\u001b[36m \u001b[0m\u001b[36m test/mode/detection_recall_bin_3  \u001b[0m\u001b[36m \u001b[0m│\u001b[35m \u001b[0m\u001b[35m        0.8264347314834595         \u001b[0m\u001b[35m \u001b[0m│\n",
       "│\u001b[36m \u001b[0m\u001b[36m test/mode/detection_recall_bin_4  \u001b[0m\u001b[36m \u001b[0m│\u001b[35m \u001b[0m\u001b[35m        0.7853999733924866         \u001b[0m\u001b[35m \u001b[0m│\n",
       "│\u001b[36m \u001b[0m\u001b[36m test/mode/detection_recall_bin_5  \u001b[0m\u001b[36m \u001b[0m│\u001b[35m \u001b[0m\u001b[35m        0.7409469485282898         \u001b[0m\u001b[35m \u001b[0m│\n",
       "│\u001b[36m \u001b[0m\u001b[36m test/mode/detection_recall_bin_6  \u001b[0m\u001b[36m \u001b[0m│\u001b[35m \u001b[0m\u001b[35m        0.6850376725196838         \u001b[0m\u001b[35m \u001b[0m│\n",
       "│\u001b[36m \u001b[0m\u001b[36m test/mode/detection_recall_bin_7  \u001b[0m\u001b[36m \u001b[0m│\u001b[35m \u001b[0m\u001b[35m        0.6037120819091797         \u001b[0m\u001b[35m \u001b[0m│\n",
       "│\u001b[36m \u001b[0m\u001b[36m test/mode/detection_recall_bin_8  \u001b[0m\u001b[36m \u001b[0m│\u001b[35m \u001b[0m\u001b[35m        0.47369834780693054        \u001b[0m\u001b[35m \u001b[0m│\n",
       "│\u001b[36m \u001b[0m\u001b[36m  test/sample/0.10000000149011612  \u001b[0m\u001b[36m \u001b[0m│\u001b[35m \u001b[0m\u001b[35m        0.06126081943511963        \u001b[0m\u001b[35m \u001b[0m│\n",
       "│\u001b[36m \u001b[0m\u001b[36m  test/sample/0.11960331350564957  \u001b[0m\u001b[36m \u001b[0m│\u001b[35m \u001b[0m\u001b[35m        0.11037325859069824        \u001b[0m\u001b[35m \u001b[0m│\n",
       "│\u001b[36m \u001b[0m\u001b[36m  test/sample/0.14304953813552856  \u001b[0m\u001b[36m \u001b[0m│\u001b[35m \u001b[0m\u001b[35m        0.1661388874053955         \u001b[0m\u001b[35m \u001b[0m│\n",
       "│\u001b[36m \u001b[0m\u001b[36m  test/sample/0.1710919886827469   \u001b[0m\u001b[36m \u001b[0m│\u001b[35m \u001b[0m\u001b[35m        0.24895739555358887        \u001b[0m\u001b[35m \u001b[0m│\n",
       "│\u001b[36m \u001b[0m\u001b[36m  test/sample/0.20463168621063232  \u001b[0m\u001b[36m \u001b[0m│\u001b[35m \u001b[0m\u001b[35m        0.33384156227111816        \u001b[0m\u001b[35m \u001b[0m│\n",
       "│\u001b[36m \u001b[0m\u001b[36m  test/sample/0.24474628269672394  \u001b[0m\u001b[36m \u001b[0m│\u001b[35m \u001b[0m\u001b[35m         0.476415753364563         \u001b[0m\u001b[35m \u001b[0m│\n",
       "│\u001b[36m \u001b[0m\u001b[36m  test/sample/0.2927246689796448   \u001b[0m\u001b[36m \u001b[0m│\u001b[35m \u001b[0m\u001b[35m        0.6315635442733765         \u001b[0m\u001b[35m \u001b[0m│\n",
       "│\u001b[36m \u001b[0m\u001b[36m  test/sample/0.35010841488838196  \u001b[0m\u001b[36m \u001b[0m│\u001b[35m \u001b[0m\u001b[35m        0.8110380172729492         \u001b[0m\u001b[35m \u001b[0m│\n",
       "│\u001b[36m \u001b[0m\u001b[36m  test/sample/0.41874128580093384  \u001b[0m\u001b[36m \u001b[0m│\u001b[35m \u001b[0m\u001b[35m        0.9906187057495117         \u001b[0m\u001b[35m \u001b[0m│\n",
       "│\u001b[36m \u001b[0m\u001b[36m  test/sample/0.5008284449577332   \u001b[0m\u001b[36m \u001b[0m│\u001b[35m \u001b[0m\u001b[35m        1.1173973083496094         \u001b[0m\u001b[35m \u001b[0m│\n",
       "│\u001b[36m \u001b[0m\u001b[36m  test/sample/0.5990074872970581   \u001b[0m\u001b[36m \u001b[0m│\u001b[35m \u001b[0m\u001b[35m         1.123199462890625         \u001b[0m\u001b[35m \u001b[0m│\n",
       "│\u001b[36m \u001b[0m\u001b[36m  test/sample/0.7164328098297119   \u001b[0m\u001b[36m \u001b[0m│\u001b[35m \u001b[0m\u001b[35m         1.02689528465271          \u001b[0m\u001b[35m \u001b[0m│\n",
       "│\u001b[36m \u001b[0m\u001b[36m  test/sample/0.8568774461746216   \u001b[0m\u001b[36m \u001b[0m│\u001b[35m \u001b[0m\u001b[35m         0.857682466506958         \u001b[0m\u001b[35m \u001b[0m│\n",
       "│\u001b[36m \u001b[0m\u001b[36m  test/sample/1.0248538255691528   \u001b[0m\u001b[36m \u001b[0m│\u001b[35m \u001b[0m\u001b[35m        0.6665520668029785         \u001b[0m\u001b[35m \u001b[0m│\n",
       "│\u001b[36m \u001b[0m\u001b[36m  test/sample/1.2257591485977173   \u001b[0m\u001b[36m \u001b[0m│\u001b[35m \u001b[0m\u001b[35m        0.4861873388290405         \u001b[0m\u001b[35m \u001b[0m│\n",
       "│\u001b[36m \u001b[0m\u001b[36m  test/sample/1.4660485982894897   \u001b[0m\u001b[36m \u001b[0m│\u001b[35m \u001b[0m\u001b[35m        0.32943010330200195        \u001b[0m\u001b[35m \u001b[0m│\n",
       "│\u001b[36m \u001b[0m\u001b[36m  test/sample/1.7534427642822266   \u001b[0m\u001b[36m \u001b[0m│\u001b[35m \u001b[0m\u001b[35m        0.20849037170410156        \u001b[0m\u001b[35m \u001b[0m│\n",
       "│\u001b[36m \u001b[0m\u001b[36m  test/sample/2.0971755981445312   \u001b[0m\u001b[36m \u001b[0m│\u001b[35m \u001b[0m\u001b[35m        0.12498009204864502        \u001b[0m\u001b[35m \u001b[0m│\n",
       "│\u001b[36m \u001b[0m\u001b[36m   test/sample/2.508291721343994   \u001b[0m\u001b[36m \u001b[0m│\u001b[35m \u001b[0m\u001b[35m        0.07624483108520508        \u001b[0m\u001b[35m \u001b[0m│\n",
       "│\u001b[36m \u001b[0m\u001b[36m          test/sample/3.0          \u001b[0m\u001b[36m \u001b[0m│\u001b[35m \u001b[0m\u001b[35m       0.048180460929870605        \u001b[0m\u001b[35m \u001b[0m│\n",
       "└─────────────────────────────────────┴─────────────────────────────────────┘\n"
      ]
     },
     "metadata": {},
     "output_type": "display_data"
    },
    {
     "data": {
      "text/plain": [
       "[{'test/_loss': 2.7782750129699707,\n",
       "  'test/mode/detection_precision': 0.7134124040603638,\n",
       "  'test/mode/detection_recall': 0.715786874294281,\n",
       "  'test/mode/detection_f1': 0.7145977020263672,\n",
       "  'test/mode/detection_precision_bin_0': 0.9693151712417603,\n",
       "  'test/mode/detection_precision_bin_1': 0.9326321482658386,\n",
       "  'test/mode/detection_precision_bin_2': 0.9082474708557129,\n",
       "  'test/mode/detection_precision_bin_3': 0.87432461977005,\n",
       "  'test/mode/detection_precision_bin_4': 0.8290351033210754,\n",
       "  'test/mode/detection_precision_bin_5': 0.7658137083053589,\n",
       "  'test/mode/detection_precision_bin_6': 0.683732807636261,\n",
       "  'test/mode/detection_precision_bin_7': 0.575985312461853,\n",
       "  'test/mode/detection_precision_bin_8': 0.48964300751686096,\n",
       "  'test/mode/detection_recall_bin_0': 0.9354341626167297,\n",
       "  'test/mode/detection_recall_bin_1': 0.888604462146759,\n",
       "  'test/mode/detection_recall_bin_2': 0.8602786064147949,\n",
       "  'test/mode/detection_recall_bin_3': 0.8264347314834595,\n",
       "  'test/mode/detection_recall_bin_4': 0.7853999733924866,\n",
       "  'test/mode/detection_recall_bin_5': 0.7409469485282898,\n",
       "  'test/mode/detection_recall_bin_6': 0.6850376725196838,\n",
       "  'test/mode/detection_recall_bin_7': 0.6037120819091797,\n",
       "  'test/mode/detection_recall_bin_8': 0.47369834780693054,\n",
       "  'test/mode/detection_f1_bin_0': 0.952073335647583,\n",
       "  'test/mode/detection_f1_bin_1': 0.9100860953330994,\n",
       "  'test/mode/detection_f1_bin_2': 0.8836124539375305,\n",
       "  'test/mode/detection_f1_bin_3': 0.8497053980827332,\n",
       "  'test/mode/detection_f1_bin_4': 0.8066278100013733,\n",
       "  'test/mode/detection_f1_bin_5': 0.7531751990318298,\n",
       "  'test/mode/detection_f1_bin_6': 0.6843846440315247,\n",
       "  'test/mode/detection_f1_bin_7': 0.5895228385925293,\n",
       "  'test/mode/detection_f1_bin_8': 0.4815387427806854,\n",
       "  'test/sample/0.10000000149011612': 0.06126081943511963,\n",
       "  'test/sample/0.11960331350564957': 0.11037325859069824,\n",
       "  'test/sample/0.14304953813552856': 0.1661388874053955,\n",
       "  'test/sample/0.1710919886827469': 0.24895739555358887,\n",
       "  'test/sample/0.20463168621063232': 0.33384156227111816,\n",
       "  'test/sample/0.24474628269672394': 0.476415753364563,\n",
       "  'test/sample/0.2927246689796448': 0.6315635442733765,\n",
       "  'test/sample/0.35010841488838196': 0.8110380172729492,\n",
       "  'test/sample/0.41874128580093384': 0.9906187057495117,\n",
       "  'test/sample/0.5008284449577332': 1.1173973083496094,\n",
       "  'test/sample/0.5990074872970581': 1.123199462890625,\n",
       "  'test/sample/0.7164328098297119': 1.02689528465271,\n",
       "  'test/sample/0.8568774461746216': 0.857682466506958,\n",
       "  'test/sample/1.0248538255691528': 0.6665520668029785,\n",
       "  'test/sample/1.2257591485977173': 0.4861873388290405,\n",
       "  'test/sample/1.4660485982894897': 0.32943010330200195,\n",
       "  'test/sample/1.7534427642822266': 0.20849037170410156,\n",
       "  'test/sample/2.0971755981445312': 0.12498009204864502,\n",
       "  'test/sample/2.508291721343994': 0.07624483108520508,\n",
       "  'test/sample/3.0': 0.048180460929870605}]"
      ]
     },
     "execution_count": 3,
     "metadata": {},
     "output_type": "execute_result"
    }
   ],
   "source": [
    "encoder.use_checkerboard = False\n",
    "trainer.test(encoder, datamodule=dataset)"
   ]
  },
  {
   "cell_type": "markdown",
   "metadata": {},
   "source": [
    "## Assess the model and BLISS fit visually"
   ]
  },
  {
   "cell_type": "code",
   "execution_count": null,
   "metadata": {},
   "outputs": [],
   "source": [
    "\n",
    "from hydra.utils import instantiate\n",
    "\n",
    "dataset = instantiate(cfg.predict.dataset)\n",
    "dataset.prepare_data()"
   ]
  },
  {
   "cell_type": "code",
   "execution_count": null,
   "metadata": {},
   "outputs": [],
   "source": [
    "obs_image = torch.from_numpy(dataset[0][\"image\"][2][6:-6, 6:-6])"
   ]
  },
  {
   "cell_type": "code",
   "execution_count": null,
   "metadata": {},
   "outputs": [],
   "source": [
    "simulator = instantiate(cfg.simulator)\n",
    "truth_images, _, _, _ = simulator.image_decoder.render_images(true_tile_cat_all, [(2583, 2, 136)])\n",
    "true_recon_all = truth_images[0][2] + dataset[0][\"background\"][2][6:-6, 6:-6]"
   ]
  },
  {
   "cell_type": "code",
   "execution_count": null,
   "metadata": {},
   "outputs": [],
   "source": [
    "bliss_tile_cat = bliss_cat.to_tile_catalog(2, 5)\n",
    "bliss_images, _, _, _ = simulator.image_decoder.render_images(bliss_tile_cat, [(2583, 2, 136)])\n",
    "bliss_recon = bliss_images[0, 2] + dataset[0][\"background\"][2][6:-6, 6:-6]"
   ]
  },
  {
   "cell_type": "code",
   "execution_count": null,
   "metadata": {},
   "outputs": [],
   "source": [
    "titles = ['SDSS image', 'HST reconstruction', 'BLISS reconstruction']\n",
    "\n",
    "images = [obs_image, true_recon_all, bliss_recon]\n",
    "images = [img.clip(max=obs_image.quantile(0.99)) for img in images]\n",
    "images = [np.arcsinh((img - np.median(obs_image))) for img in images]\n",
    "\n",
    "fig, axs = plt.subplots(1, 3, figsize=(10, 10))\n",
    "\n",
    "vmin = min(img.min() for img in images)\n",
    "vmax = max(img.max() for img in images)\n",
    "\n",
    "for i, img in enumerate(images):\n",
    "    ax = axs[i]\n",
    "    ax.imshow(arcsinh_median, origin='lower', vmin=vmin, vmax=vmax)\n",
    "    ax.set_title(titles[i])\n",
    "    ax.set_xticks([])\n",
    "    ax.set_yticks([])\n",
    "\n",
    "plt.tight_layout()\n",
    "plt.show()"
   ]
  },
  {
   "cell_type": "markdown",
   "metadata": {},
   "source": [
    "# Flux Prior Elicitation"
   ]
  },
  {
   "cell_type": "code",
   "execution_count": null,
   "metadata": {},
   "outputs": [],
   "source": [
    "oob = (plocs_all[:, 1] > 210) & (plocs_all[:, 1] < 510)\n",
    "oob &= (plocs_all[:, 0] > 530) & (plocs_all[:, 0] < 830)\n",
    "oob &= ~in_bounds\n",
    "oob.sum() # some of this region (about half) is outside of our HST cat coverage"
   ]
  },
  {
   "cell_type": "code",
   "execution_count": null,
   "metadata": {},
   "outputs": [],
   "source": [
    "hst_oob = hst_r_mag_all[oob]\n",
    "hst_oob_nmgy = convert_mag_to_nmgy(hst_oob) * 1.15\n",
    "hst_oob_mag = convert_nmgy_to_mag(hst_oob_nmgy)\n",
    "training_data = hst_oob_nmgy[hst_oob_mag < 24]\n",
    "training_data.shape[0], training_data.max().item()"
   ]
  },
  {
   "cell_type": "code",
   "execution_count": null,
   "metadata": {},
   "outputs": [],
   "source": [
    "from scipy.stats import truncpareto\n",
    "alpha, trunc, loc, scale = truncpareto.fit(training_data)\n",
    "alpha, trunc, loc, scale"
   ]
  },
  {
   "cell_type": "code",
   "execution_count": null,
   "metadata": {},
   "outputs": [],
   "source": [
    "from scipy.stats import truncpareto\n",
    "\n",
    "x = np.logspace(hst_oob_nmgy.log10().min(), hst_oob_nmgy.log10().max(), num=100)\n",
    "\n",
    "_ = plt.plot(x, truncpareto.pdf(x, alpha, trunc, loc, scale), 'r-', lw=3, alpha=0.7, label='new prior')\n",
    "_ = plt.plot(x, truncpareto.pdf(x, 0.5, 1014, 0, 0.63), 'g-', lw=3, alpha=0.7, label='old prior')\n",
    "_ = plt.hist(hst_oob_nmgy, log=True, bins=100, label='star_fluxes histogram', density=True)\n",
    "plt.legend()"
   ]
  },
  {
   "cell_type": "code",
   "execution_count": null,
   "metadata": {},
   "outputs": [],
   "source": [
    "_ = plt.plot(x, truncpareto.pdf(x, alpha, trunc, loc, scale), 'r-', lw=3, alpha=0.7, label='new prior')\n",
    "_ = plt.plot(x, truncpareto.pdf(x, 0.5, 1014, 0, 0.63), 'g-', lw=3, alpha=0.7, label='old prior')\n",
    "plt.legend()\n",
    "plt.loglog()"
   ]
  },
  {
   "cell_type": "code",
   "execution_count": null,
   "metadata": {},
   "outputs": [],
   "source": [
    "samples = truncpareto.rvs(alpha, trunc, loc, scale, size=1500)\n",
    "sorted(samples, reverse=True)[:10]\n"
   ]
  },
  {
   "cell_type": "code",
   "execution_count": null,
   "metadata": {},
   "outputs": [],
   "source": [
    "prior = instantiate(cfg.prior)\n",
    "prior.sample().on_fluxes[0, :, :, :, 2].view(-1).topk(100)[0]"
   ]
  },
  {
   "cell_type": "code",
   "execution_count": null,
   "metadata": {},
   "outputs": [],
   "source": [
    "# estimate rate with oob data\n",
    "(hst_oob_mag < 24).sum() / (4 * 1e4)"
   ]
  },
  {
   "cell_type": "markdown",
   "metadata": {},
   "source": [
    "# Assess the two-point correlation function"
   ]
  },
  {
   "cell_type": "code",
   "execution_count": null,
   "metadata": {},
   "outputs": [],
   "source": [
    "from hydra import initialize, compose\n",
    "from hydra.utils import instantiate\n",
    "from bliss.main import train\n",
    "\n",
    "with initialize(config_path=\"../../case_studies/spatial_tiling/\", version_base=None):\n",
    "    cfg5 = compose(\"m2_config\", {\n",
    "        \"train.trainer.logger=null\",\n",
    "        \"train.trainer.max_epochs=0\",\n",
    "        \"train.pretrained_weights=/home/regier/bliss_output/jul3_m2_split_metrics/version_0/checkpoints/best_encoder.ckpt\",\n",
    "        \"+train.trainer.num_sanity_val_steps=0\",\n",
    "        \"cached_simulator.splits=0:80/80:90/99.5:100\",\n",
    "        \"cached_simulator.num_workers=0\",\n",
    "#        \"encoder.use_double_detect=false\",\n",
    "    })\n",
    "\n",
    "# setup dataset, encoder, and trainer\n",
    "train_cfg = cfg5.train\n",
    "\n",
    "dataset = instantiate(train_cfg.data_source)\n",
    "dataset.setup(\"fit\")\n",
    "dataset.setup(\"test\")\n",
    "\n",
    "encoder = instantiate(train_cfg.encoder)\n",
    "trainer = instantiate(train_cfg.trainer)\n",
    "\n",
    "# load pretrained weights\n",
    "enc_state_dict = torch.load(train_cfg.pretrained_weights)\n",
    "if train_cfg.pretrained_weights.endswith(\".ckpt\"):\n",
    "    enc_state_dict = enc_state_dict[\"state_dict\"]\n",
    "encoder.load_state_dict(enc_state_dict)\n",
    "\n",
    "# test\n",
    "trainer.test(encoder, datamodule=dataset)"
   ]
  },
  {
   "cell_type": "code",
   "execution_count": null,
   "metadata": {},
   "outputs": [],
   "source": [
    "m = encoder.sample_metrics[\"two_point\"]\n",
    "two_pt_checkerboard = m.compute().values()\n",
    "m.reset()\n",
    "two_pt_checkerboard"
   ]
  },
  {
   "cell_type": "markdown",
   "metadata": {},
   "source": [
    "Findings from spotchecking sources of nonzero two-point correlation above:\n",
    "* two pairs of sources with modes within 1e-4: catty corner, need 4 color checkerboard\n",
    "* one pair of sources with modes within 1e-2: consecutive columns in a row, near a corner; one source a second detect; need conditioning info to second detect\n",
    "* one pair of sources with sampled modes within 0.1: a double detect solidly within a tile; high uncertainty about whether second exists (it doesn't); first correctly identified; second detected source hovers around the pixel (of 4) containing the source; need conditioning info for the second detect"
   ]
  },
  {
   "cell_type": "code",
   "execution_count": null,
   "metadata": {},
   "outputs": [],
   "source": [
    "encoder.use_checkerboard = False\n",
    "trainer.test(encoder, datamodule=dataset)"
   ]
  },
  {
   "cell_type": "code",
   "execution_count": null,
   "metadata": {},
   "outputs": [],
   "source": [
    "m = encoder.sample_metrics[\"TwoPointMetric\"]\n",
    "two_pt_ind = m.compute().values()\n",
    "two_pt_ind"
   ]
  },
  {
   "cell_type": "code",
   "execution_count": null,
   "metadata": {},
   "outputs": [],
   "source": [
    "radius = [0.01, 0.03, 0.1, 0.3, 1, 3, 10]\n",
    "\n",
    "plt.figure(figsize=(8, 6))  # Create a new figure with a specific size\n",
    "plt.plot(radius, two_pt_ind, marker=\"s\", label=\"independent\")\n",
    "plt.plot(radius, two_pt_checkerboard, label=\"checkerboard\", marker=\"s\")\n",
    "plt.legend()\n",
    "plt.xscale(\"log\")  # Set the x-axis scale to logarithmic\n",
    "plt.xlabel(\"Radius\")\n",
    "plt.ylabel(\"Two-point correlation\")\n",
    "\n",
    "plt.tight_layout()\n",
    "two_pt_ind"
   ]
  },
  {
   "cell_type": "markdown",
   "metadata": {},
   "source": [
    "# Semi-synthetic M2 inference"
   ]
  },
  {
   "cell_type": "code",
   "execution_count": null,
   "metadata": {},
   "outputs": [],
   "source": [
    "with initialize(config_path=\"../../case_studies/spatial_tiling/\", version_base=None):\n",
    "    cfg = compose(\"m2_config\", {\n",
    "        \"encoder.tiles_to_crop=3\",\n",
    "        \"predict.weight_save_path=/home/regier/bliss_output/jul3_m2_split_metrics/version_0/checkpoints/best_encoder.ckpt\",\n",
    " #       \"encoder.use_double_detect=false\"\n",
    "        })\n",
    "\n",
    "d2 = deepcopy(true_cat_all)\n",
    "d2[\"plocs\"] += 6\n",
    "true_cat_pad = FullCatalog(112, 112, d2)\n",
    "\n",
    "truth_images, _, _, _ = simulator.image_decoder.render_images(\n",
    "    true_cat_pad.to_tile_catalog(2, 11), [(2583, 2, 136)]\n",
    ")"
   ]
  },
  {
   "cell_type": "code",
   "execution_count": null,
   "metadata": {},
   "outputs": [],
   "source": [
    "from torch.distributions import Normal\n",
    "\n",
    "true_recon_all = truth_images[0] + dataset[0][\"background\"]\n",
    "true_recon_all = Normal(true_recon_all, true_recon_all.sqrt()).sample()"
   ]
  },
  {
   "cell_type": "code",
   "execution_count": null,
   "metadata": {},
   "outputs": [],
   "source": [
    "encoder = instantiate(cfg.encoder)\n",
    "enc_state_dict = torch.load(\"/home/regier/bliss_output/jul3_m2_split_metrics/version_0/checkpoints/best_encoder.ckpt\")\n",
    "enc_state_dict = enc_state_dict[\"state_dict\"]\n",
    "encoder.load_state_dict(enc_state_dict)\n",
    "encoder.eval()\n",
    "\n",
    "batch = {\n",
    "    \"images\": true_recon_all.unsqueeze(0),\n",
    "    \"background\": dataset[0][\"background\"].unsqueeze(0),\n",
    "}"
   ]
  },
  {
   "cell_type": "code",
   "execution_count": null,
   "metadata": {},
   "outputs": [],
   "source": [
    "encoder.use_checkerboard = False\n",
    "\n",
    "with torch.no_grad():\n",
    "    mode_cat, sample_cat = encoder.predict_step(batch, 0).values()\n",
    "\n",
    "mode_cat = mode_cat.to_full_catalog()\n",
    "matching = matcher.match_catalogs(true_cat_all, mode_cat)\n",
    "metric = mode_metrics(true_cat_all, mode_cat, matching)\n",
    "metric[\"detection_recall\"], metric[\"detection_precision\"], metric[\"detection_f1\"]"
   ]
  },
  {
   "cell_type": "code",
   "execution_count": null,
   "metadata": {},
   "outputs": [],
   "source": [
    "encoder.use_checkerboard = True\n",
    "\n",
    "with torch.no_grad():\n",
    "    mode_cat, sample_cat = encoder.predict_step(batch, 0).values()\n",
    "\n",
    "mode_cat = mode_cat.to_full_catalog()\n",
    "matching = matcher.match_catalogs(true_cat_all, mode_cat)\n",
    "metric = mode_metrics(true_cat_all, mode_cat, matching)\n",
    "metric[\"detection_recall\"], metric[\"detection_precision\"], metric[\"detection_f1\"]"
   ]
  },
  {
   "cell_type": "code",
   "execution_count": null,
   "metadata": {},
   "outputs": [],
   "source": [
    "m = mode_metrics[\"detection_performance\"]\n",
    "recall = (m.n_true_matches / m.n_true_sources)[:-1]\n",
    "precision = (m.n_est_matches / m.n_est_sources)[:-1]\n",
    "semisynthetic = {\"recall\": recall, \"precision\": precision}\n",
    "semisynthetic"
   ]
  },
  {
   "cell_type": "code",
   "execution_count": null,
   "metadata": {},
   "outputs": [],
   "source": [
    "titles = [\"fully synthetic\", \"semi-synthetic\", \"real\"]\n",
    "scores = [fully_synthetic, semisynthetic, real]\n",
    "\n",
    "mbc = m.mag_bin_cutoffs\n",
    "xlabels = [f\"[{mbc[i]}, {mbc[i+1]}]\" for i in range(len(mbc) - 1)]\n",
    "xlabels = [\"< \" + str(mbc[0])] + xlabels + [\"> \" + str(mbc[-1])]\n",
    "xlabels = xlabels[:-1]\n",
    "\n",
    "fig, axs = plt.subplots(1, 2, figsize=(10, 5))\n",
    "\n",
    "for i, score in enumerate(scores):\n",
    "    axs[0].plot(score[\"recall\"], marker=\"s\", label=titles[i])\n",
    "    axs[1].plot(score[\"precision\"], marker=\"s\", label=titles[i])\n",
    "\n",
    "axs[0].set_title(\"recall\")\n",
    "axs[1].set_title(\"precision\")\n",
    "\n",
    "for ax in axs:\n",
    "    ax.set_xticks(range(len(xlabels)))\n",
    "    ax.set_xticklabels(xlabels, rotation=45)\n",
    "    ax.set_ylim([0, 1])\n",
    "    ax.legend()\n",
    "\n",
    "plt.tight_layout()"
   ]
  },
  {
   "cell_type": "markdown",
   "metadata": {},
   "source": [
    "# Get asinh parameters"
   ]
  },
  {
   "cell_type": "code",
   "execution_count": null,
   "metadata": {},
   "outputs": [],
   "source": [
    "from hydra import initialize, compose\n",
    "from hydra.utils import instantiate\n",
    "\n",
    "with initialize(config_path=\"../../case_studies/spatial_tiling/\", version_base=None):\n",
    "    cfg = compose(\"m2_config\", {\n",
    "        \"encoder.tiles_to_crop=3\",\n",
    "        \"cached_simulator.num_workers=0\",\n",
    "        \"cached_simulator.train_transforms=[]\"\n",
    "        })\n",
    "\n",
    "ds = instantiate(cfg.cached_simulator)\n",
    "train_dl = ds.train_dataloader()\n",
    "\n",
    "ss_images = []\n",
    "for i, datum in enumerate(train_dl.dataset):\n",
    "    ss = (datum[\"images\"] - datum[\"background\"])[2, 6:-6, 6:-6]\n",
    "    ss_images.append(ss)\n",
    "    if i == 1499:\n",
    "        break\n"
   ]
  },
  {
   "cell_type": "code",
   "execution_count": null,
   "metadata": {},
   "outputs": [],
   "source": [
    "ss_flat = torch.stack(ss_images, dim=1).view(-1)\n",
    "q = torch.tensor([0.01, 0.1, 0.2, 0.3, 0.4, 0.5, 0.6, 0.7, 0.8, 0.9, 0.99, 0.999, 0.9999, 0.99999])\n",
    "torch.quantile(ss_flat, q)"
   ]
  },
  {
   "cell_type": "markdown",
   "metadata": {},
   "source": []
  }
 ],
 "metadata": {
  "kernelspec": {
   "display_name": ".venv",
   "language": "python",
   "name": "python3"
  },
  "language_info": {
   "codemirror_mode": {
    "name": "ipython",
    "version": 3
   },
   "file_extension": ".py",
   "mimetype": "text/x-python",
   "name": "python",
   "nbconvert_exporter": "python",
   "pygments_lexer": "ipython3",
   "version": "3.10.12"
  }
 },
 "nbformat": 4,
 "nbformat_minor": 2
}

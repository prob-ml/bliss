{
 "cells": [
  {
   "cell_type": "code",
   "execution_count": null,
   "metadata": {},
   "outputs": [],
   "source": [
    "%matplotlib inline"
   ]
  },
  {
   "cell_type": "code",
   "execution_count": null,
   "metadata": {},
   "outputs": [],
   "source": [
    "from os import environ\n",
    "environ[\"CUDA_VISIBLE_DEVICES\"] = \"0\"\n",
    "\n",
    "from pathlib import Path\n",
    "import torch\n",
    "from hydra import initialize, compose\n",
    "from hydra.utils import instantiate\n",
    "from bliss.encoder.encoder import Encoder\n",
    "from bliss.catalog import TileCatalog\n",
    "from matplotlib import pyplot as plt"
   ]
  },
  {
   "cell_type": "code",
   "execution_count": null,
   "metadata": {},
   "outputs": [],
   "source": [
    "from hydra import initialize, compose\n",
    "from hydra.utils import instantiate\n",
    "\n",
    "with initialize(config_path=\".\", version_base=None):\n",
    "    overrides = {\n",
    "        \"predict.weight_save_path=/home/regier/bliss_output/jul25_toy_example_10_percent/version_0/checkpoints/best_encoder.ckpt\",\n",
    "        \"decoder.with_noise=true\",\n",
    "        \"decoder.with_dither=false\",\n",
    "        \"encoder.predict_mode_not_samples=false\",\n",
    "        \"train.trainer.logger=false\",\n",
    "        \"train.trainer.max_epochs=0\",\n",
    "        \"+train.trainer.num_sanity_val_steps=0\",\n",
    "        \"cached_simulator.num_workers=0\",\n",
    "        \"cached_simulator.splits=0:80/0:90/99:100\",\n",
    "#        \"paths.cached_data=/data/scratch/regier/toy_example\"\n",
    "    }\n",
    "    cfg = compose(\"toy_example\", overrides)\n",
    "\n",
    "decoder = instantiate(cfg.simulator.decoder)\n",
    "\n",
    "torch.set_grad_enabled(False)\n",
    "\n",
    "trainer = instantiate(cfg.train.trainer)\n",
    "\n",
    "data_source = instantiate(cfg.train.data_source)\n",
    "data_source.setup(\"fit\")\n",
    "data_source.setup(\"test\")\n",
    "\n",
    "encoder = instantiate(cfg.encoder).cuda()\n",
    "encoder.eval()\n",
    "state_dict = torch.load(cfg.predict.weight_save_path)[\"state_dict\"]\n",
    "encoder.load_state_dict(state_dict);"
   ]
  },
  {
   "cell_type": "markdown",
   "metadata": {},
   "source": [
    "## One bright (easily detected) star at various positions\n",
    "\n",
    "Compare samples with independent and dependent tiling"
   ]
  },
  {
   "cell_type": "code",
   "execution_count": null,
   "metadata": {},
   "outputs": [],
   "source": [
    "n = 50\n",
    "n_sources = torch.zeros(n, 20, 20, dtype=torch.long)\n",
    "n_sources[:, 11, 10] = 1\n",
    "\n",
    "locs = torch.ones(n, 20, 20, 1, 2) * 0.5\n",
    "locs[:, 11, 10, 0, 0] = 0.0\n",
    "\n",
    "source_type = torch.zeros(n, 20, 20, 1, 1, dtype=torch.long)\n",
    "\n",
    "true_catalog_dict = {\n",
    "    \"n_sources\": n_sources,\n",
    "    \"source_type\": source_type,\n",
    "    \"locs\": locs,\n",
    "    \"star_fluxes\": torch.ones(n, 20, 20, 1, 1) * 8,\n",
    "    \"galaxy_fluxes\": torch.ones(n, 20, 20, 1, 1),\n",
    "}\n",
    "true_catalog = TileCatalog(true_catalog_dict)"
   ]
  },
  {
   "cell_type": "code",
   "execution_count": null,
   "metadata": {},
   "outputs": [],
   "source": [
    "images, psf_params = decoder.render_images(true_catalog)\n",
    "images = images[:, 2:3]\n",
    "psf_params = psf_params[:, 2:3]"
   ]
  },
  {
   "cell_type": "code",
   "execution_count": null,
   "metadata": {},
   "outputs": [],
   "source": [
    "# plot a coadd image\n",
    "plt.imshow(images[3].sum(0).numpy())\n",
    "plt.colorbar();"
   ]
  },
  {
   "cell_type": "code",
   "execution_count": null,
   "metadata": {},
   "outputs": [],
   "source": [
    "batch = {\"images\": images.cuda(), \"psf_params\": psf_params.cuda()}"
   ]
  },
  {
   "cell_type": "markdown",
   "metadata": {},
   "source": [
    "# comparing joint and marginal"
   ]
  },
  {
   "cell_type": "code",
   "execution_count": null,
   "metadata": {},
   "outputs": [],
   "source": [
    "mask = torch.zeros_like(true_catalog_dict[\"n_sources\"].cuda())\n",
    "context1 = encoder.make_context(None, mask)\n",
    "x_features = encoder.get_features(batch)\n",
    "x_cat_marginal = encoder.catalog_net(x_features, context1)\n",
    "on_probs = x_cat_marginal[..., 0].sigmoid()\n",
    "on_probs[:, 10:12, 10].sum(1).mean(0)"
   ]
  },
  {
   "cell_type": "code",
   "execution_count": null,
   "metadata": {},
   "outputs": [],
   "source": [
    "joint_cats = encoder.sample(batch)\n",
    "(joint_cats[\"n_sources\"][:, 9:11, 9].sum(1) > 0).float().mean()"
   ]
  },
  {
   "cell_type": "markdown",
   "metadata": {},
   "source": [
    "conclusions\n",
    " * In this setting, with one bright star very close to the border, even the *expected number of sources* by marginal isn't well calibrated. It underestimates by at least 5% for a variety of fluxes that are well above the detection limit.\n",
    " * Joint is essentially always right is expectation (and in each posterior sample). Though one pixel probability may be miscalibrated, the other makes up for it."
   ]
  },
  {
   "cell_type": "markdown",
   "metadata": {},
   "source": []
  }
 ],
 "metadata": {
  "kernelspec": {
   "display_name": ".venv",
   "language": "python",
   "name": "python3"
  },
  "language_info": {
   "codemirror_mode": {
    "name": "ipython",
    "version": 3
   },
   "file_extension": ".py",
   "mimetype": "text/x-python",
   "name": "python",
   "nbconvert_exporter": "python",
   "pygments_lexer": "ipython3",
   "version": "3.10.12"
  }
 },
 "nbformat": 4,
 "nbformat_minor": 2
}

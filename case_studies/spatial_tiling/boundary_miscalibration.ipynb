{
 "cells": [
  {
   "cell_type": "code",
   "execution_count": null,
   "metadata": {},
   "outputs": [],
   "source": [
    "%matplotlib inline"
   ]
  },
  {
   "cell_type": "code",
   "execution_count": null,
   "metadata": {},
   "outputs": [],
   "source": [
    "from os import environ\n",
    "environ[\"CUDA_VISIBLE_DEVICES\"] = \"0\"\n",
    "\n",
    "from pathlib import Path\n",
    "import torch\n",
    "from hydra import initialize, compose\n",
    "from hydra.utils import instantiate\n",
    "from bliss.encoder.encoder import Encoder\n",
    "from bliss.catalog import TileCatalog\n",
    "from matplotlib import pyplot as plt"
   ]
  },
  {
   "cell_type": "code",
   "execution_count": null,
   "metadata": {},
   "outputs": [],
   "source": [
    "with initialize(config_path=\".\", version_base=None):\n",
    "    cfg = compose(\n",
    "        \"toy_example\",\n",
    "        {\"predict.weight_save_path=/home/regier/bliss_output/jul20_toy_example/version_2/checkpoints/best_encoder.ckpt\"}\n",
    "    )"
   ]
  },
  {
   "cell_type": "code",
   "execution_count": null,
   "metadata": {},
   "outputs": [],
   "source": [
    "encoder: Encoder = instantiate(cfg.encoder)\n",
    "weights = torch.load(cfg.predict.weight_save_path)[\"state_dict\"]\n",
    "encoder.load_state_dict(weights)\n",
    "encoder.eval()\n",
    "encoder.cuda()\n",
    "\n",
    "simulator = instantiate(cfg.simulator)\n",
    "\n",
    "torch.set_grad_enabled(False);"
   ]
  },
  {
   "cell_type": "markdown",
   "metadata": {},
   "source": [
    "## One bright (easily detected) star at various positions\n",
    "\n",
    "Compare samples with independent and dependent tiling"
   ]
  },
  {
   "cell_type": "code",
   "execution_count": null,
   "metadata": {},
   "outputs": [],
   "source": [
    "n = 50\n",
    "n_sources = torch.zeros(n, 20, 20, dtype=torch.long)\n",
    "n_sources[:, 11, 10] = 1\n",
    "\n",
    "locs = torch.ones(n, 20, 20, 1, 2) * 0.5\n",
    "locs[:, 11, 10, 0, 0] = 0.001\n",
    "\n",
    "source_type = torch.zeros(n, 20, 20, 1, 1, dtype=torch.long)\n",
    "\n",
    "true_catalog_dict = {\n",
    "    \"n_sources\": n_sources,\n",
    "    \"source_type\": source_type,\n",
    "    \"locs\": locs,\n",
    "    \"star_fluxes\": torch.ones(n, 20, 20, 1, 5) * 8,\n",
    "    \"galaxy_fluxes\": torch.ones(n, 20, 20, 1, 5),\n",
    "}\n",
    "true_catalog = TileCatalog(true_catalog_dict)"
   ]
  },
  {
   "cell_type": "code",
   "execution_count": null,
   "metadata": {},
   "outputs": [],
   "source": [
    "rcfs, rcf_indices = simulator.randomized_image_ids(true_catalog[\"n_sources\"].size(0))"
   ]
  },
  {
   "cell_type": "code",
   "execution_count": null,
   "metadata": {},
   "outputs": [],
   "source": [
    "images, psf_params = simulator.decoder.render_images(\n",
    "    true_catalog, rcfs, rcf_indices, add_dither=False, add_noise=True\n",
    ")"
   ]
  },
  {
   "cell_type": "code",
   "execution_count": null,
   "metadata": {},
   "outputs": [],
   "source": [
    "# plot a coadd image\n",
    "plt.imshow(images[3].sum(0).numpy())\n",
    "plt.colorbar();"
   ]
  },
  {
   "cell_type": "code",
   "execution_count": null,
   "metadata": {},
   "outputs": [],
   "source": [
    "batch = {\"images\": images.cuda(), \"psf_params\": psf_params.cuda()}"
   ]
  },
  {
   "cell_type": "markdown",
   "metadata": {},
   "source": [
    "# comparing joint and marginal"
   ]
  },
  {
   "cell_type": "code",
   "execution_count": null,
   "metadata": {},
   "outputs": [],
   "source": [
    "x_cat_marginal, _ = encoder.get_marginal(batch)\n",
    "pred = encoder.get_predicted_dist(x_cat_marginal)\n",
    "pred[\"on_prob\"].probs[:, 9:11, 9, 1].sum(1).mean(0)"
   ]
  },
  {
   "cell_type": "code",
   "execution_count": null,
   "metadata": {},
   "outputs": [],
   "source": [
    "joint_cats = encoder.sample(batch)\n",
    "(joint_cats[\"n_sources\"][:, 9:11, 9].sum(1) > 0).float().mean()"
   ]
  },
  {
   "cell_type": "markdown",
   "metadata": {},
   "source": [
    "conclusions\n",
    " * In this setting, with one bright star very close to the border, even the *expected number of sources* by marginal isn't well calibrated. It underestimates by at least 5% for a variety of fluxes that are well above the detection limit.\n",
    " * Joint is essentially always right is expectation (and in each posterior sample). Though one pixel probability may be miscalibrated, the other makes up for it."
   ]
  },
  {
   "cell_type": "markdown",
   "metadata": {},
   "source": []
  }
 ],
 "metadata": {
  "kernelspec": {
   "display_name": ".venv",
   "language": "python",
   "name": "python3"
  },
  "language_info": {
   "codemirror_mode": {
    "name": "ipython",
    "version": 3
   },
   "file_extension": ".py",
   "mimetype": "text/x-python",
   "name": "python",
   "nbconvert_exporter": "python",
   "pygments_lexer": "ipython3",
   "version": "3.10.12"
  }
 },
 "nbformat": 4,
 "nbformat_minor": 2
}

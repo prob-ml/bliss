{
 "cells": [
  {
   "attachments": {},
   "cell_type": "markdown",
   "metadata": {},
   "source": [
    "# One Star Example\n",
    "\n",
    "Demonstrates that\n",
    "1) the independent tiling posterior approximation becomes increasingly bad as a star approaches a tile border\n",
    "2) the checkerboard tiling posterior approximation remains reasonable regardless of star position"
   ]
  },
  {
   "cell_type": "code",
   "execution_count": null,
   "metadata": {},
   "outputs": [],
   "source": [
    "%load_ext autoreload\n",
    "%autoreload 2\n",
    "%matplotlib inline"
   ]
  },
  {
   "attachments": {},
   "cell_type": "markdown",
   "metadata": {},
   "source": [
    "Import necessary packages and pick a GPU"
   ]
  },
  {
   "cell_type": "code",
   "execution_count": null,
   "metadata": {},
   "outputs": [],
   "source": [
    "from os import environ\n",
    "environ[\"CUDA_VISIBLE_DEVICES\"] = \"0\"\n",
    "\n",
    "import torch\n",
    "from bliss.catalog import TileCatalog\n",
    "from matplotlib import pyplot as plt\n",
    "import numpy as np"
   ]
  },
  {
   "attachments": {},
   "cell_type": "markdown",
   "metadata": {},
   "source": [
    "Load the encoder with pre-trained weights. (This encoder was trained with 20% of tiles contain sources, which is quite high for one-star data, but the incorrect rate shouldn't detract from this example.)"
   ]
  },
  {
   "cell_type": "code",
   "execution_count": null,
   "metadata": {},
   "outputs": [],
   "source": [
    "from hydra import initialize, compose\n",
    "from hydra.utils import instantiate\n",
    "\n",
    "with initialize(config_path=\".\", version_base=None):\n",
    "    overrides = {\"predict.weight_save_path=/home/regier/bliss_output/jul20_toy_example/version_2/checkpoints/best_encoder.ckpt\"}\n",
    "    cfg = compose(\"toy_example\", overrides)\n",
    "\n",
    "simulator = instantiate(cfg.simulator)"
   ]
  },
  {
   "attachments": {},
   "cell_type": "markdown",
   "metadata": {},
   "source": [
    "## Bright star"
   ]
  },
  {
   "attachments": {},
   "cell_type": "markdown",
   "metadata": {},
   "source": [
    "Create a batch synethic catalogs of one bright star at three positions: 0, 0.667, and 0.133 pixels from the border. (The first position is perfectly ambiguous, the second is somewhat ambiguous, the third is unambiguous.)\n",
    "\n",
    "The nice thing about this setting is the lack of ambiguity in the (exact) posterior: there should be about one star detected. But is there with each of these posterior approximations?"
   ]
  },
  {
   "cell_type": "code",
   "execution_count": null,
   "metadata": {},
   "outputs": [],
   "source": [
    "def gen_loc_shift_data(pixel_shift, flux=10.0, add_galaxy=False):\n",
    "    # 5.0 nmgy = 20.75 magnitude\n",
    "    n = 100\n",
    "    n_sources = torch.zeros(n, 20, 20, dtype=torch.long)\n",
    "    n_sources[:, 10, 10] = 1\n",
    "\n",
    "    locs = torch.ones(n, 20, 20, 1, 2) * 0.5\n",
    "    locs[:, 10, 10, 0, 0] = pixel_shift * 0.25  # set this\n",
    "\n",
    "    if add_galaxy:\n",
    "        n_sources[:, 10, 9] = 1\n",
    "    \n",
    "    source_type = torch.zeros(n, 20, 20, 1, 1, dtype=torch.long)\n",
    "    source_type[:, 10, 9] = 1\n",
    "\n",
    "    galaxy_params = torch.ones(n, 20, 20, 1, 6) - 0.9\n",
    "    galaxy_params[:, 10, 9, 0, 1] = 0.4\n",
    "    galaxy_params[:, 10, 9, 0, [3,5]] = 10.0\n",
    "\n",
    "    true_catalog_dict = {\n",
    "        \"n_sources\": n_sources,\n",
    "        \"source_type\": source_type,\n",
    "        \"locs\": locs,\n",
    "        \"star_fluxes\": torch.ones(n, 20, 20, 1, 5) * flux,  \n",
    "        \"galaxy_fluxes\": torch.ones(n, 20, 20, 1, 5) * 40,\n",
    "        \"galaxy_params\": galaxy_params,\n",
    "    }\n",
    "    true_catalog = TileCatalog(true_catalog_dict)\n",
    "\n",
    "    rcfs, rcf_indices = simulator.randomized_image_ids(n)\n",
    "\n",
    "    images, psf_params = simulator.image_decoder.render_images(\n",
    "        true_catalog, rcfs, rcf_indices, add_dither=False, add_noise=True\n",
    "    )\n",
    "\n",
    "    batch = {\n",
    "        \"images\": images.cuda(),\n",
    "        \"psf_params\": psf_params.cuda(),\n",
    "        \"tile_catalog\": true_catalog.to(\"cuda\"),\n",
    "    }\n",
    "\n",
    "    # one band\n",
    "    batch[\"images\"] = batch[\"images\"][:, 2:3]\n",
    "    batch[\"tile_catalog\"][\"star_fluxes\"] = batch[\"tile_catalog\"][\"star_fluxes\"][..., 2:3]\n",
    "    batch[\"tile_catalog\"][\"galaxy_fluxes\"] = batch[\"tile_catalog\"][\"galaxy_fluxes\"][..., 2:3]\n",
    "\n",
    "    return true_catalog, batch"
   ]
  },
  {
   "attachments": {},
   "cell_type": "markdown",
   "metadata": {},
   "source": [
    "Simulate one image for each catalog"
   ]
  },
  {
   "attachments": {},
   "cell_type": "markdown",
   "metadata": {},
   "source": [
    "Plot the r-band of sample images, one with each center"
   ]
  },
  {
   "cell_type": "code",
   "execution_count": null,
   "metadata": {},
   "outputs": [],
   "source": [
    "true_catalog, batch = gen_loc_shift_data(0.0)\n",
    "\n",
    "i = 0\n",
    "loc1 = (true_catalog[\"locs\"][i, 10, 10, 0] + 10 - 8) * 4 - 0.5\n",
    "\n",
    "plt.imshow(batch[\"images\"][i, 0, 32:48, 32:48].cpu().numpy())\n",
    "plt.grid(color='white', linewidth=1, linestyle='dotted')\n",
    "plt.xticks(np.arange(4) * 4 + 3.5)\n",
    "plt.yticks(np.arange(4) * 4 + 3.5)\n",
    "plt.plot(loc1[1], loc1[0], 'ro', markersize=7)\n",
    "ax = plt.gca()\n",
    "ax.set_xticklabels([])\n",
    "ax.set_yticklabels([])\n",
    "ax.tick_params(axis='both', which='both', length=0)\n",
    "plt.colorbar()\n",
    "plt.show()"
   ]
  },
  {
   "cell_type": "code",
   "execution_count": null,
   "metadata": {},
   "outputs": [],
   "source": [
    "plt.imshow(batch[\"images\"][i, 0].cpu().numpy())\n",
    "plt.grid(color='white', linewidth=1, linestyle='dotted')\n",
    "plt.xticks(np.arange(20) * 4 + 3.5);\n",
    "plt.yticks(np.arange(20) * 4 + 3.5);\n",
    "ax = plt.gca()\n",
    "ax.set_xticklabels([]);\n",
    "ax.set_yticklabels([]);\n",
    "ax.tick_params(axis='both', which='both', length=0);"
   ]
  },
  {
   "attachments": {},
   "cell_type": "markdown",
   "metadata": {},
   "source": [
    "Clear the GPU memory so we don't run out in case we re-run this notebook"
   ]
  },
  {
   "cell_type": "code",
   "execution_count": null,
   "metadata": {},
   "outputs": [],
   "source": [
    "import gc\n",
    "gc.collect()\n",
    "torch.cuda.empty_cache()\n",
    "torch.cuda.memory_allocated() / 1e9  # show current memory usage in GB"
   ]
  },
  {
   "cell_type": "code",
   "execution_count": null,
   "metadata": {},
   "outputs": [],
   "source": [
    "torch.set_grad_enabled(False)\n",
    "\n",
    "trainer = instantiate(cfg.train.trainer)\n",
    "data_source = instantiate(cfg.train.data_source)\n",
    "encoder = instantiate(cfg.encoder).cuda()\n",
    "encoder.eval()\n",
    "\n",
    "state_dict = torch.load(cfg.predict.weight_save_path)[\"state_dict\"]\n",
    "encoder.load_state_dict(state_dict)"
   ]
  },
  {
   "cell_type": "markdown",
   "metadata": {},
   "source": [
    "## test with validation image"
   ]
  },
  {
   "cell_type": "code",
   "execution_count": null,
   "metadata": {},
   "outputs": [],
   "source": [
    "file_datums = \"/data/scratch/regier/toy_example/dataset_0_size_1024.pt\"\n",
    "x = torch.load(file_datums)[0]"
   ]
  },
  {
   "cell_type": "code",
   "execution_count": null,
   "metadata": {},
   "outputs": [],
   "source": [
    "batch = {k: v[2:3].unsqueeze(0).cuda() for k, v in x.items() if k != \"tile_catalog\"}\n",
    "d = {k: v.unsqueeze(0).cuda() for k, v in x[\"tile_catalog\"].items()}\n",
    "batch[\"tile_catalog\"] = TileCatalog(d)"
   ]
  },
  {
   "cell_type": "code",
   "execution_count": null,
   "metadata": {},
   "outputs": [],
   "source": [
    "encoder.use_checkerboard = True\n",
    "mode_cat, sample_cat = encoder.predict_step(batch, 0, 0).values()\n",
    "(mode_cat.on_fluxes > 3).sum()"
   ]
  },
  {
   "cell_type": "code",
   "execution_count": null,
   "metadata": {},
   "outputs": [],
   "source": [
    "(batch[\"tile_catalog\"].on_fluxes > 3).sum()"
   ]
  },
  {
   "attachments": {},
   "cell_type": "markdown",
   "metadata": {},
   "source": [
    "### Checkerboard Tiling"
   ]
  },
  {
   "attachments": {},
   "cell_type": "markdown",
   "metadata": {},
   "source": [
    "Predict two catalogs: one the mode of the variational distribution and the other a sample of it"
   ]
  },
  {
   "cell_type": "code",
   "execution_count": null,
   "metadata": {},
   "outputs": [],
   "source": [
    "encoder.use_checkerboard = True\n",
    "mode_cat, sample_cat = encoder.predict_step(batch, 0, 0).values()"
   ]
  },
  {
   "attachments": {},
   "cell_type": "markdown",
   "metadata": {},
   "source": [
    "Tthe source should be found in tile [10,10], moving in the first dimension\n",
    "from 0 to 0.5. We restrict our attention to a 2 tiles per image to avoid spurious detections,\n",
    "which are inevitable in a large enough image due to Gaussian noise.\n",
    "\n",
    "For all three locations, all 20 replicates show 1 source in the variational distribution mode."
   ]
  },
  {
   "cell_type": "code",
   "execution_count": null,
   "metadata": {},
   "outputs": [],
   "source": [
    "mode_cat[\"n_sources\"][:, 9:11, 10].sum([1])"
   ]
  },
  {
   "cell_type": "code",
   "execution_count": null,
   "metadata": {},
   "outputs": [],
   "source": [
    "mode_cat.on_fluxes[0, :, :, 0, 0]"
   ]
  },
  {
   "attachments": {},
   "cell_type": "markdown",
   "metadata": {},
   "source": [
    "The sample cat isn't as consistent, but there's clear dependence on the location (border vs interior). The twos are low-flux detections."
   ]
  },
  {
   "cell_type": "code",
   "execution_count": null,
   "metadata": {},
   "outputs": [],
   "source": [
    "sample_cat[\"n_sources\"][:, 9:11, 10].sum([1])"
   ]
  },
  {
   "cell_type": "code",
   "execution_count": null,
   "metadata": {},
   "outputs": [],
   "source": [
    "sample_cat2 = sample_cat.filter_by_flux(2, band=0)  # 2 nmgy is around 23 mag, much dimmer than our star\n",
    "sample_cat2[\"n_sources\"][:, 9:11, 10].sum([1])"
   ]
  },
  {
   "cell_type": "code",
   "execution_count": null,
   "metadata": {},
   "outputs": [],
   "source": [
    "(sample_cat2[\"n_sources\"][:, 9:11, 10].sum([1]) == 1).sum()"
   ]
  },
  {
   "cell_type": "markdown",
   "metadata": {},
   "source": [
    "And let's plot the marginal detection probabilities"
   ]
  },
  {
   "cell_type": "code",
   "execution_count": null,
   "metadata": {},
   "outputs": [],
   "source": [
    "import seaborn as sns\n",
    "import matplotlib.pyplot as plt\n",
    "\n",
    "def marginal_detections(pred_marginal):  # noqa: WPS430\n",
    "    est_cat = pred_marginal.sample(use_mode=False)\n",
    "    est_cat[\"n_sources\"][i, 10, 10] = 0  #only effects the conditional\n",
    "    return est_cat\n",
    "\n",
    "pred = encoder.infer(batch, marginal_detections)\n",
    "\n",
    "on_prob = pred[\"marginal\"].factors[\"on_prob\"].probs[:, :, :, 1]\n",
    "# Create a square heatmap using seaborn\n",
    "fig, ax = plt.subplots(figsize=(4, 4))\n",
    "sns.heatmap(on_prob[i, 8:12, 8:12].cpu().numpy(), annot=True, fmt=\".2f\", cmap=\"YlGnBu\", linecolor='black', linewidths=0.5, cbar=False, ax=ax)\n",
    "ax.set_xticks([])\n",
    "ax.set_yticks([])\n",
    "ax.set_xticklabels([])\n",
    "\n",
    "# Add black border to the bottom and right side\n",
    "ax.hlines([4], *ax.get_xlim(), colors='black', linewidths=2)\n",
    "ax.vlines([4], *ax.get_ylim(), colors='black', linewidths=2);"
   ]
  },
  {
   "cell_type": "code",
   "execution_count": null,
   "metadata": {},
   "outputs": [],
   "source": [
    "from copy import deepcopy\n",
    "on_prob = deepcopy(pred[\"black\"].factors[\"on_prob\"].probs[:, :, :, 1])\n",
    "on_prob = torch.where(pred[\"white_history_mask\"] > .5, on_prob, torch.nan * torch.ones_like(on_prob))\n",
    "# Create a square heatmap using seaborn\n",
    "fig, ax = plt.subplots(figsize=(4, 4))\n",
    "sns.heatmap(on_prob[i, 8:12, 8:12].cpu().numpy(), annot=True, fmt=\".2f\", cmap=\"YlGnBu\", vmax=1.0, linecolor='black', linewidths=0.5, cbar=False, ax=ax)\n",
    "ax.set_xticks([])\n",
    "ax.set_yticks([])\n",
    "ax.set_xticklabels([])\n",
    "\n",
    "# Add black border to the bottom and right side\n",
    "ax.hlines([4], *ax.get_xlim(), colors='black', linewidths=2)\n",
    "ax.vlines([4], *ax.get_ylim(), colors='black', linewidths=2);"
   ]
  },
  {
   "cell_type": "code",
   "execution_count": null,
   "metadata": {},
   "outputs": [],
   "source": [
    "def marginal_detections(pred_marginal):  # noqa: WPS430\n",
    "    est_cat = pred_marginal.sample(use_mode=False)\n",
    "    est_cat[\"n_sources\"][i, 10, 10] = 1\n",
    "    return est_cat\n",
    "\n",
    "pred = encoder.infer(batch, marginal_detections)\n",
    "\n",
    "from copy import deepcopy\n",
    "on_prob = deepcopy(pred[\"black\"].factors[\"on_prob\"].probs[:, :, :, 1])\n",
    "on_prob = torch.where(pred[\"white_history_mask\"] > .5, on_prob, torch.nan * torch.ones_like(on_prob))\n",
    "# Create a square heatmap using seaborn\n",
    "fig, ax = plt.subplots(figsize=(4, 4))\n",
    "sns.heatmap(on_prob[i, 8:12, 8:12].cpu().numpy(), annot=True, fmt=\".2f\", cmap=\"YlGnBu\", linecolor='black', vmax=1.0, linewidths=0.5, cbar=False, ax=ax)\n",
    "ax.set_xticks([])\n",
    "ax.set_yticks([])\n",
    "ax.set_xticklabels([])\n",
    "\n",
    "# Add black border to the bottom and right side\n",
    "ax.hlines([4], *ax.get_xlim(), colors='black', linewidths=2)\n",
    "ax.vlines([4], *ax.get_ylim(), colors='black', linewidths=2);"
   ]
  },
  {
   "cell_type": "code",
   "execution_count": null,
   "metadata": {},
   "outputs": [],
   "source": [
    "encoder.use_checkerboard = True\n",
    "encoder._compute_loss(batch, \"notebook\") * 100 * 20 * 20 * -1\n"
   ]
  },
  {
   "attachments": {},
   "cell_type": "markdown",
   "metadata": {},
   "source": [
    "### Independent Tiling"
   ]
  },
  {
   "cell_type": "code",
   "execution_count": null,
   "metadata": {},
   "outputs": [],
   "source": [
    "encoder.use_checkerboard = False\n",
    "encoder._compute_loss(batch, \"notebook\")  * 100 * 20 * 20 * -1"
   ]
  },
  {
   "cell_type": "code",
   "execution_count": null,
   "metadata": {},
   "outputs": [],
   "source": [
    "mode_cat, sample_cat = encoder.predict_step(batch, 0, 0).values()"
   ]
  },
  {
   "cell_type": "code",
   "execution_count": null,
   "metadata": {},
   "outputs": [],
   "source": [
    "mode_cat[\"n_sources\"][:, 9:11, 10].sum([1])"
   ]
  },
  {
   "cell_type": "code",
   "execution_count": null,
   "metadata": {},
   "outputs": [],
   "source": [
    "sample_cat[\"n_sources\"][:, 9:11, 10].sum([1])"
   ]
  },
  {
   "cell_type": "code",
   "execution_count": null,
   "metadata": {},
   "outputs": [],
   "source": [
    "sample_cat2 = sample_cat.filter_by_flux(2, band=0)  # 2 nmgy is around 23 mag, much dimmer than our star\n",
    "sample_cat2[\"n_sources\"][:, 9:11, 10].sum([1])"
   ]
  },
  {
   "cell_type": "code",
   "execution_count": null,
   "metadata": {},
   "outputs": [],
   "source": [
    "import gc\n",
    "gc.collect()\n",
    "torch.cuda.empty_cache()\n",
    "torch.cuda.memory_allocated() / 1e9  # show current memory usage in GB"
   ]
  },
  {
   "attachments": {},
   "cell_type": "markdown",
   "metadata": {},
   "source": [
    "### All-pixel-shifts comparison"
   ]
  },
  {
   "cell_type": "code",
   "execution_count": null,
   "metadata": {},
   "outputs": [],
   "source": [
    "accuracy = [[], []]\n",
    "pixel_shifts = (0.0, 0.03, 0.05, 0.08, 0.1, 0.13, 0.2, 0.3, 1.0, 2.0)\n",
    "\n",
    "for pixel_shift in pixel_shifts:\n",
    "    true_catalog, batch = gen_loc_shift_data(pixel_shift)\n",
    "    for use_cb in range(0, 2):\n",
    "        encoder.use_checkerboard = use_cb\n",
    "        acc = 0\n",
    "        for i in range(10):\n",
    "            mode_cat, sample_cat = encoder.predict_step(batch, 0, 0).values()\n",
    "            sample_cat2 = sample_cat.filter_by_flux(2, band=0)\n",
    "            acc += (sample_cat2[\"n_sources\"][:, 9:11, 10].sum([1]) == 1).sum().item()\n",
    "        accuracy[use_cb].append(acc / 1000)\n",
    "        print(f\"{use_cb}, {pixel_shift}: {acc}\")\n"
   ]
  },
  {
   "cell_type": "code",
   "execution_count": null,
   "metadata": {},
   "outputs": [],
   "source": [
    "import seaborn as sns\n",
    "\n",
    "ps = np.array(pixel_shifts)\n",
    "ps2 = np.flip(4 - ps)\n",
    "ps = np.concatenate([ps, ps2])\n",
    "ps = np.concatenate([ps, ps + 4, ps + 8])\n",
    "\n",
    "nocb = np.array(accuracy[0])\n",
    "nocb2 = np.flip(nocb)\n",
    "nocb = np.concatenate([nocb, nocb2])\n",
    "nocb = np.concatenate([nocb, nocb, nocb])\n",
    "\n",
    "cb = np.array(accuracy[1])\n",
    "cb2 = np.flip(cb)\n",
    "cb = np.concatenate([cb, cb2])\n",
    "cb = np.concatenate([cb, cb, cb])\n",
    "\n",
    "sns.set_style(\"whitegrid\")\n",
    "sns.set_context(\"paper\", font_scale=1.5)\n",
    "plt.plot(ps, nocb, '-', label=\"Independent\")\n",
    "plt.plot(ps, cb, '-', label=\"Checkerboard\")\n",
    "plt.xlabel(\"Pixel shift\")\n",
    "plt.ylabel(\"Accuracy\")\n",
    "plt.ylim(0.5, 1.0)\n",
    "plt.legend()\n",
    "plt.tight_layout()\n",
    "plt.show()"
   ]
  },
  {
   "attachments": {},
   "cell_type": "markdown",
   "metadata": {},
   "source": [
    "## Dim Star\n",
    "\n",
    "An ambiguous detection (~80% detection prob) at the border and at the center.\n",
    "\n",
    "First, we generate a true catalog."
   ]
  },
  {
   "cell_type": "code",
   "execution_count": null,
   "metadata": {},
   "outputs": [],
   "source": [
    "accuracy = [[], []]\n",
    "pixel_shifts = (0.0, 0.03, 0.05, 0.08, 0.1, 0.13, 0.2, 0.3, 0.7, 1.0, 1.5, 2.0)\n",
    "\n",
    "for pixel_shift in pixel_shifts:\n",
    "    true_catalog, batch = gen_loc_shift_data(pixel_shift, flux=1.5)\n",
    "    for use_cb in range(2):\n",
    "        encoder.use_checkerboard = use_cb\n",
    "        acc = 0\n",
    "        for i in range(10):\n",
    "            mode_cat, sample_cat = encoder.predict_step(batch, 0, 0).values()\n",
    "            acc += (sample_cat[\"n_sources\"][:, 9:11, 10].sum([1]) == 1).sum().item()\n",
    "        accuracy[use_cb].append(acc / 1000)\n",
    "        print(f\"{use_cb}, {pixel_shift}: {acc}\")\n"
   ]
  },
  {
   "cell_type": "code",
   "execution_count": null,
   "metadata": {},
   "outputs": [],
   "source": [
    "import seaborn as sns\n",
    "\n",
    "ps = np.array(pixel_shifts)\n",
    "ps2 = np.flip(4 - ps)\n",
    "ps = np.concatenate([ps, ps2])\n",
    "ps = np.concatenate([ps, ps + 4, ps + 8])\n",
    "\n",
    "nocb = np.array(accuracy[0])\n",
    "nocb2 = np.flip(nocb)\n",
    "nocb = np.concatenate([nocb, nocb2])\n",
    "nocb = np.concatenate([nocb, nocb, nocb])\n",
    "\n",
    "cb = np.array(accuracy[1])\n",
    "cb2 = np.flip(cb)\n",
    "cb = np.concatenate([cb, cb2])\n",
    "cb = np.concatenate([cb, cb, cb])\n",
    "\n",
    "sns.set_style(\"whitegrid\")\n",
    "sns.set_context(\"paper\", font_scale=1.5)\n",
    "plt.plot(ps, nocb, '-', label=\"Independent\")\n",
    "plt.plot(ps, cb, '-', label=\"Checkerboard\")\n",
    "plt.xlabel(\"Pixel shift\")\n",
    "plt.ylabel(\"Accuracy\")\n",
    "plt.ylim(0.5, 1.0)\n",
    "plt.legend()\n",
    "plt.tight_layout()\n",
    "plt.show()"
   ]
  },
  {
   "cell_type": "markdown",
   "metadata": {},
   "source": [
    "## Added galaxy, bright star"
   ]
  },
  {
   "attachments": {},
   "cell_type": "markdown",
   "metadata": {},
   "source": [
    "Now we render the images and backgrounds."
   ]
  },
  {
   "cell_type": "code",
   "execution_count": null,
   "metadata": {},
   "outputs": [],
   "source": [
    "true_catalog, batch = gen_loc_shift_data(0.0, add_galaxy=True)"
   ]
  },
  {
   "cell_type": "code",
   "execution_count": null,
   "metadata": {},
   "outputs": [],
   "source": [
    "i = 0\n",
    "loc1 = (true_catalog[\"locs\"][i, 10, 10, 0] + 10 - 8) * 4 - 0.5\n",
    "\n",
    "plt.imshow(batch[\"images\"][i, 2, 32:48, 32:48].cpu().numpy(), cmap='viridis')\n",
    "plt.grid(color='white', linewidth=1, linestyle='dotted')\n",
    "plt.xticks(np.arange(4) * 4 + 3.5)\n",
    "plt.yticks(np.arange(4) * 4 + 3.5)\n",
    "plt.plot(loc1[1], loc1[0], 'ro', markersize=7)\n",
    "plt.plot(5.5, 9.5, 'ro', markersize=7)\n",
    "ax = plt.gca()\n",
    "ax.set_xticklabels([])\n",
    "ax.set_yticklabels([])\n",
    "ax.tick_params(axis='both', which='both', length=0)\n",
    "plt.show()"
   ]
  },
  {
   "cell_type": "code",
   "execution_count": null,
   "metadata": {},
   "outputs": [],
   "source": [
    "import seaborn as sns\n",
    "import matplotlib.pyplot as plt\n",
    "\n",
    "def marginal_detections(pred_marginal):  # noqa: WPS430\n",
    "    est_cat = pred_marginal.sample(use_mode=False)\n",
    "    est_cat[\"n_sources\"][i, 10, 10] = 0  #only effects the conditional\n",
    "    return est_cat\n",
    "\n",
    "pred = encoder.infer(batch, marginal_detections)\n",
    "\n",
    "on_prob = pred[\"marginal\"].factors[\"on_prob\"].probs[:, :, :, 1]\n",
    "# Create a square heatmap using seaborn\n",
    "fig, ax = plt.subplots(figsize=(4, 4))\n",
    "sns.heatmap(on_prob[i, 8:12, 8:12].cpu().numpy(), annot=True, fmt=\".2f\", cmap=\"YlGnBu\", linecolor='black', linewidths=0.5, cbar=False, ax=ax)\n",
    "ax.set_xticks([])\n",
    "ax.set_yticks([])\n",
    "ax.set_xticklabels([])\n",
    "\n",
    "# Add black border to the bottom and right side\n",
    "ax.hlines([4], *ax.get_xlim(), colors='black', linewidths=2)\n",
    "ax.vlines([4], *ax.get_ylim(), colors='black', linewidths=2);"
   ]
  },
  {
   "cell_type": "code",
   "execution_count": null,
   "metadata": {},
   "outputs": [],
   "source": [
    "from copy import deepcopy\n",
    "on_prob = deepcopy(pred[\"black\"].factors[\"on_prob\"].probs[:, :, :, 1])\n",
    "on_prob = torch.where(pred[\"white_history_mask\"] > .5, on_prob, torch.nan * torch.ones_like(on_prob))\n",
    "# Create a square heatmap using seaborn\n",
    "fig, ax = plt.subplots(figsize=(4, 4))\n",
    "sns.heatmap(on_prob[i, 8:12, 8:12].cpu().numpy(), annot=True, fmt=\".2f\", cmap=\"YlGnBu\", vmax=1.0, linecolor='black', linewidths=0.5, cbar=False, ax=ax)\n",
    "ax.set_xticks([])\n",
    "ax.set_yticks([])\n",
    "ax.set_xticklabels([])\n",
    "\n",
    "# Add black border to the bottom and right side\n",
    "ax.hlines([4], *ax.get_xlim(), colors='black', linewidths=2)\n",
    "ax.vlines([4], *ax.get_ylim(), colors='black', linewidths=2);"
   ]
  },
  {
   "cell_type": "code",
   "execution_count": null,
   "metadata": {},
   "outputs": [],
   "source": [
    "def marginal_detections(pred_marginal):  # noqa: WPS430\n",
    "    est_cat = pred_marginal.sample(use_mode=False)\n",
    "    est_cat[\"n_sources\"][i, 10, 10] = 1\n",
    "    return est_cat\n",
    "\n",
    "pred = encoder.infer(batch, marginal_detections)\n",
    "\n",
    "from copy import deepcopy\n",
    "on_prob = deepcopy(pred[\"black\"].factors[\"on_prob\"].probs[:, :, :, 1])\n",
    "on_prob = torch.where(pred[\"white_history_mask\"] > .5, on_prob, torch.nan * torch.ones_like(on_prob))\n",
    "# Create a square heatmap using seaborn\n",
    "fig, ax = plt.subplots(figsize=(4, 4))\n",
    "sns.heatmap(on_prob[i, 8:12, 8:12].cpu().numpy(), annot=True, fmt=\".2f\", cmap=\"YlGnBu\", linecolor='black', vmax=1.0, linewidths=0.5, cbar=False, ax=ax)\n",
    "ax.set_xticks([])\n",
    "ax.set_yticks([])\n",
    "ax.set_xticklabels([])\n",
    "\n",
    "# Add black border to the bottom and right side\n",
    "ax.hlines([4], *ax.get_xlim(), colors='black', linewidths=2)\n",
    "ax.vlines([4], *ax.get_ylim(), colors='black', linewidths=2);"
   ]
  },
  {
   "cell_type": "code",
   "execution_count": null,
   "metadata": {},
   "outputs": [],
   "source": []
  }
 ],
 "metadata": {
  "kernelspec": {
   "display_name": ".venv",
   "language": "python",
   "name": "python3"
  },
  "language_info": {
   "codemirror_mode": {
    "name": "ipython",
    "version": 3
   },
   "file_extension": ".py",
   "mimetype": "text/x-python",
   "name": "python",
   "nbconvert_exporter": "python",
   "pygments_lexer": "ipython3",
   "version": "3.10.12"
  }
 },
 "nbformat": 4,
 "nbformat_minor": 2
}

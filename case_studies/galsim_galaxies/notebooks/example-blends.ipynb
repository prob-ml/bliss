{
 "cells": [
  {
   "cell_type": "code",
   "execution_count": 11,
   "id": "fa9e2813",
   "metadata": {},
   "outputs": [],
   "source": [
    "%matplotlib inline"
   ]
  },
  {
   "cell_type": "code",
   "execution_count": 12,
   "id": "1c3af663",
   "metadata": {},
   "outputs": [],
   "source": [
    "import torch\n",
    "import matplotlib.pyplot as plt\n",
    "import numpy as np"
   ]
  },
  {
   "cell_type": "code",
   "execution_count": 13,
   "id": "43e7a352",
   "metadata": {},
   "outputs": [],
   "source": [
    "# get truth and iamges\n",
    "ds = torch.load(\"../models/simulated_blended_galaxies.pt\")\n",
    "\n",
    "images = ds.pop(\"images\")\n",
    "background = ds.pop(\"background\")\n",
    "print(images.shape)\n",
    "\n",
    "from bliss.catalog import TileCatalog \n",
    "tile_catalog = TileCatalog(4, {**ds})\n",
    "truth = tile_catalog.to_full_params()"
   ]
  },
  {
   "cell_type": "code",
   "execution_count": 4,
   "id": "9e182d75",
   "metadata": {},
   "outputs": [
    {
     "name": "stderr",
     "output_type": "stream",
     "text": [
      "Global seed set to 42\n",
      "Encoding ptiles: 1024it [00:51, 19.80it/s]\n"
     ]
    }
   ],
   "source": [
    "# get predictions \n",
    "from case_studies.galsim_galaxies.get_figures import _load_models\n",
    "from hydra import compose, initialize\n",
    "with initialize(config_path=\"../config\", version_base=None):\n",
    "    cfg = compose(\"config\", overrides={})\n",
    "\n",
    "_, slen, _ = background.shape\n",
    "bkg = background.expand(images.shape[0], 1, slen, slen)\n",
    "device = torch.device(\"cuda:0\")\n",
    "encoder, decoder = _load_models(cfg, device)\n",
    "tile_est = encoder.variational_mode(images, bkg)\n",
    "tile_est = tile_est.cpu()\n",
    "est = tile_est.to_full_params()\n"
   ]
  },
  {
   "cell_type": "code",
   "execution_count": 14,
   "id": "10988b52",
   "metadata": {},
   "outputs": [],
   "source": [
    "ordn = np.argsort(-truth.n_sources)"
   ]
  },
  {
   "cell_type": "code",
   "execution_count": 17,
   "id": "bff31eaf",
   "metadata": {},
   "outputs": [
    {
     "name": "stdout",
     "output_type": "stream",
     "text": [
      "7\n"
     ]
    }
   ],
   "source": [
    "# idx = 133, \n",
    "fig, ax = plt.subplots(1, 1, figsize=(10, 10))\n",
    "\n",
    "# 22, 33, 106\n",
    "idx1 = 106\n",
    "trim = 20\n",
    "idx = ordn[idx1]\n",
    "im = images[idx, 0, trim:-trim, trim:-trim].log().numpy()\n",
    "\n",
    "# # truth\n",
    "plocs1 = truth.plocs[idx]\n",
    "# plocs2 = est.plocs[idx]\n",
    "for ii in range(truth.n_sources[idx].item()):\n",
    "    ax.scatter(plocs1[ii, 1] + 24 - trim  - 0.5, plocs1[ii, 0] + 24 - trim - 0.5, \n",
    "               c=\"r\", s=150, marker='x'\n",
    "               )\n",
    "# for ii in range(est.n_sources[idx].item()):\n",
    "#     ax.scatter(plocs2[ii, 1] + 24 - 0.5, plocs2[ii, 0] + 24 - 0.5, c=\"b\", s=50, marker='+')\n",
    "\n",
    "ax.imshow(im, cmap=\"gray\")\n",
    "print(truth.n_sources[idx].item())\n",
    "\n",
    "fig.savefig(\"example-blend.pdf\", bbox_inches=\"tight\")\n",
    "plt.close()"
   ]
  },
  {
   "cell_type": "code",
   "execution_count": null,
   "id": "d6a5786c",
   "metadata": {},
   "outputs": [],
   "source": []
  }
 ],
 "metadata": {
  "kernelspec": {
   "display_name": "Python 3 (ipykernel)",
   "language": "python",
   "name": "python3"
  },
  "language_info": {
   "codemirror_mode": {
    "name": "ipython",
    "version": 3
   },
   "file_extension": ".py",
   "mimetype": "text/x-python",
   "name": "python",
   "nbconvert_exporter": "python",
   "pygments_lexer": "ipython3",
   "version": "3.10.12"
  },
  "toc": {
   "base_numbering": 1,
   "nav_menu": {},
   "number_sections": true,
   "sideBar": true,
   "skip_h1_title": false,
   "title_cell": "Table of Contents",
   "title_sidebar": "Contents",
   "toc_cell": false,
   "toc_position": {},
   "toc_section_display": true,
   "toc_window_display": true
  }
 },
 "nbformat": 4,
 "nbformat_minor": 5
}

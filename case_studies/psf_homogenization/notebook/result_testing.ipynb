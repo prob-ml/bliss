{
 "cells": [
  {
   "cell_type": "code",
   "execution_count": 13,
   "metadata": {},
   "outputs": [
    {
     "name": "stdout",
     "output_type": "stream",
     "text": [
      "The autoreload extension is already loaded. To reload it, use:\n",
      "  %reload_ext autoreload\n",
      "Modules to reload:\n",
      "all-except-skipped\n",
      "\n",
      "Modules to skip:\n",
      "\n",
      "5\n"
     ]
    }
   ],
   "source": [
    "%load_ext autoreload\n",
    "%autoreload 2\n",
    "%aimport\n",
    "\n",
    "%matplotlib inline \n",
    "\n",
    "import torch\n",
    "import matplotlib.pyplot as plt\n",
    "from einops import rearrange\n",
    "from typing import Union\n",
    "from torch import Tensor, nn\n",
    "\n",
    "from bliss.catalog import TileCatalog, get_images_in_tiles\n",
    "from bliss.reporting import DetectionMetrics\n",
    "from case_studies.psf_homogenization.psf_decoder import PsfSampler, GalsimBlenswithPSF\n",
    "from bliss.models.detection_encoder import (\n",
    "    LogBackgroundTransform,\n",
    "    ConcatBackgroundTransform,\n",
    "    EncoderCNN,\n",
    "    make_enc_final,\n",
    ")\n",
    "\n",
    "# check GPU is configured correctly\n",
    "device = torch.device('cuda:0')\n",
    "!echo $CUDA_VISIBLE_DEVICES"
   ]
  },
  {
   "cell_type": "code",
   "execution_count": 14,
   "metadata": {},
   "outputs": [],
   "source": [
    "# load models\n",
    "from hydra import compose, initialize\n",
    "from hydra.utils import instantiate\n",
    "from bliss.encoder import Encoder\n",
    "\n",
    "with initialize(config_path=\"../config\"):\n",
    "    cfg = compose(\"config\", overrides=[])"
   ]
  },
  {
   "cell_type": "code",
   "execution_count": 15,
   "metadata": {},
   "outputs": [],
   "source": [
    "prior = instantiate(cfg.datasets.galsim_blended_galaxies_psf.prior) \n",
    "decoder = instantiate(cfg.datasets.galsim_blended_galaxies_psf.decoder)\n",
    "background = instantiate(cfg.datasets.galsim_blended_galaxies.background)\n",
    "tile_slen = 4\n",
    "max_tile_n_sources = 1\n",
    "num_workers = 5\n",
    "batch_size = 10000\n",
    "n_batches = 1\n",
    "psf_sampler = PsfSampler(0.5, 1.2)\n",
    "\n",
    "ds_psf = GalsimBlenswithPSF(prior, decoder, background, tile_slen, max_tile_n_sources, num_workers=0, batch_size=5, n_batches=1, psf_sampler=psf_sampler, std_psf_fwhm=1.0, valid_n_batches=1)\n",
    "\n"
   ]
  },
  {
   "cell_type": "code",
   "execution_count": 17,
   "metadata": {},
   "outputs": [
    {
     "name": "stdout",
     "output_type": "stream",
     "text": [
      "torch.Size([5, 1, 88, 88])\n",
      "torch.Size([5, 1, 88, 88])\n",
      "\n"
     ]
    },
    {
     "data": {
      "image/png": "[encoded data removed]",
      "text/plain": [
       "<Figure size 432x288 with 2 Axes>"
      ]
     },
     "metadata": {
      "needs_background": "light"
     },
     "output_type": "display_data"
    }
   ],
   "source": [
    "for x in ds_psf.train_dataloader():\n",
    "    print(x[\"images\"].shape)\n",
    "    print(x[\"noisy_image\"].shape)\n",
    "    print()\n",
    "    plt.figure()\n",
    "    plt.subplot(121)\n",
    "    plt.imshow(x['noisy_image'][0, 0].numpy())\n",
    "    plt.subplot(122)\n",
    "    plt.imshow(x[\"images\"][0, 0].numpy())\n",
    "    plt.show()\n",
    "plt.close()"
   ]
  },
  {
   "cell_type": "code",
   "execution_count": 33,
   "metadata": {},
   "outputs": [
    {
     "name": "stdout",
     "output_type": "stream",
     "text": [
      "tensor([[[0, 0, 0, 0, 0, 0, 0, 0, 0, 0],\n",
      "         [0, 0, 1, 0, 0, 0, 0, 0, 0, 0],\n",
      "         [0, 0, 0, 0, 0, 0, 0, 0, 0, 0],\n",
      "         [0, 0, 0, 0, 1, 0, 0, 1, 0, 0],\n",
      "         [0, 0, 1, 0, 0, 0, 0, 0, 0, 0],\n",
      "         [0, 0, 0, 0, 0, 0, 0, 0, 0, 0],\n",
      "         [0, 1, 0, 0, 0, 0, 0, 0, 0, 0],\n",
      "         [0, 0, 0, 0, 0, 0, 0, 0, 0, 0],\n",
      "         [0, 0, 0, 0, 0, 0, 0, 0, 0, 0],\n",
      "         [0, 0, 0, 0, 0, 0, 0, 0, 0, 0]],\n",
      "\n",
      "        [[0, 0, 0, 1, 0, 0, 0, 0, 0, 0],\n",
      "         [0, 0, 0, 1, 0, 0, 0, 0, 0, 0],\n",
      "         [0, 0, 0, 0, 0, 0, 0, 0, 0, 0],\n",
      "         [0, 0, 0, 0, 0, 0, 0, 0, 0, 0],\n",
      "         [0, 0, 0, 0, 0, 0, 0, 0, 0, 0],\n",
      "         [0, 0, 0, 0, 0, 0, 0, 0, 0, 0],\n",
      "         [0, 0, 0, 0, 0, 0, 0, 0, 0, 0],\n",
      "         [0, 0, 1, 0, 0, 0, 0, 0, 0, 0],\n",
      "         [0, 0, 0, 0, 0, 0, 0, 0, 0, 0],\n",
      "         [0, 0, 0, 0, 0, 0, 0, 0, 0, 0]],\n",
      "\n",
      "        [[0, 0, 0, 0, 0, 0, 0, 0, 0, 0],\n",
      "         [0, 0, 0, 0, 0, 0, 0, 0, 0, 0],\n",
      "         [0, 0, 0, 0, 0, 0, 1, 0, 0, 0],\n",
      "         [0, 0, 0, 0, 0, 0, 0, 0, 0, 0],\n",
      "         [0, 0, 0, 1, 0, 0, 0, 0, 0, 0],\n",
      "         [0, 0, 0, 0, 0, 0, 0, 0, 0, 0],\n",
      "         [0, 0, 0, 0, 0, 0, 0, 0, 0, 0],\n",
      "         [0, 0, 0, 0, 0, 0, 0, 0, 0, 0],\n",
      "         [0, 0, 0, 0, 0, 0, 0, 0, 0, 0],\n",
      "         [0, 0, 0, 0, 0, 0, 0, 0, 0, 0]],\n",
      "\n",
      "        [[0, 0, 0, 0, 0, 0, 0, 0, 0, 0],\n",
      "         [0, 0, 0, 0, 0, 0, 0, 0, 0, 0],\n",
      "         [0, 0, 0, 0, 1, 0, 0, 0, 0, 0],\n",
      "         [0, 0, 0, 0, 0, 0, 0, 0, 0, 0],\n",
      "         [0, 0, 0, 0, 0, 0, 0, 0, 0, 0],\n",
      "         [0, 1, 0, 0, 0, 0, 0, 0, 0, 0],\n",
      "         [0, 0, 0, 0, 0, 0, 0, 0, 0, 0],\n",
      "         [0, 0, 0, 0, 0, 0, 0, 0, 0, 0],\n",
      "         [0, 0, 0, 0, 0, 0, 0, 0, 0, 0],\n",
      "         [0, 0, 0, 0, 0, 0, 0, 0, 0, 0]],\n",
      "\n",
      "        [[0, 0, 0, 0, 0, 0, 0, 0, 0, 0],\n",
      "         [0, 0, 0, 0, 0, 0, 0, 0, 0, 0],\n",
      "         [0, 0, 0, 0, 0, 0, 0, 0, 0, 1],\n",
      "         [0, 0, 0, 0, 0, 0, 0, 0, 0, 0],\n",
      "         [0, 0, 0, 0, 0, 0, 0, 0, 0, 0],\n",
      "         [0, 0, 0, 0, 0, 0, 0, 0, 0, 0],\n",
      "         [1, 0, 0, 0, 0, 0, 0, 0, 0, 0],\n",
      "         [1, 0, 0, 0, 0, 0, 0, 0, 0, 0],\n",
      "         [0, 0, 0, 0, 0, 0, 0, 0, 0, 0],\n",
      "         [0, 0, 0, 0, 0, 0, 0, 0, 0, 0]]])\n"
     ]
    },
    {
     "data": {
      "text/plain": [
       "4"
      ]
     },
     "execution_count": 33,
     "metadata": {},
     "output_type": "execute_result"
    }
   ],
   "source": [
    "for x in ds_psf.test_dataloader():\n",
    "    print(x[\"n_sources\"])\n",
    "ds_psf.tile_slen"
   ]
  },
  {
   "cell_type": "code",
   "execution_count": 18,
   "metadata": {},
   "outputs": [],
   "source": [
    "model_checkpoint = torch.load(\"/home/wangchv/bliss/case_studies/psf_homogenization/output/sdss_detection_encoder_full_decoder_homo/version_0/checkpoints/epoch=989-val_loss=-0.014.ckpt\")\n",
    "\n"
   ]
  },
  {
   "cell_type": "code",
   "execution_count": 19,
   "metadata": {},
   "outputs": [
    {
     "data": {
      "text/plain": [
       "dict_keys(['epoch', 'global_step', 'pytorch-lightning_version', 'state_dict', 'loops', 'callbacks', 'optimizer_states', 'lr_schedulers'])"
      ]
     },
     "execution_count": 19,
     "metadata": {},
     "output_type": "execute_result"
    }
   ],
   "source": [
    "model_checkpoint.keys()\n"
   ]
  },
  {
   "cell_type": "code",
   "execution_count": 35,
   "metadata": {},
   "outputs": [],
   "source": [
    "n_bands = 1\n",
    "tile_slen = 4\n",
    "ptile_slen = 52\n",
    "max_detection = 1\n",
    "channel = 8\n",
    "spatial_dropout = 0.0\n",
    "hidden = 128\n",
    "dropout = 0.0\n",
    "\n",
    "def dist_param_groups():\n",
    "        return {\n",
    "            \"loc_mean\": {\"dim\": 2},\n",
    "            \"loc_logvar\": {\"dim\": 2},\n",
    "            \"log_flux_mean\": {\"dim\": n_bands},\n",
    "            \"log_flux_logvar\": {\"dim\": n_bands},\n",
    "        }\n",
    "\n",
    "n_params_per_source = sum(param[\"dim\"] for param in dist_param_groups.values())\n",
    "n_total_detections = max_detection * (max_detection + 1) // 2\n",
    "n_source_params = n_total_detections * n_params_per_source\n",
    "count_simplex_dim = 1 + max_detection\n",
    "dim_out_all = n_source_params + count_simplex_dim\n",
    "dim_enc_conv_out = ((ptile_slen + 1) // 2 + 1) // 2\n",
    "\n",
    "input_transform = ConcatBackgroundTransform()\n",
    "n_bands_in = input_transform.output_channels(n_bands)\n",
    "enc_conv = EncoderCNN(n_bands_in, channel, spatial_dropout)\n",
    "\n",
    "enc_final = make_enc_final(\n",
    "    channel * 4 * dim_enc_conv_out ** 2,\n",
    "    hidden,\n",
    "    dim_out_all,\n",
    "    dropout,\n",
    ")\n",
    "log_softmax = nn.LogSoftmax(dim=1)"
   ]
  },
  {
   "cell_type": "code",
   "execution_count": null,
   "metadata": {},
   "outputs": [],
   "source": [
    "def encoder(image_ptiles: Tensor) -> Dict[str, Tensor]:\n",
    "    transformed_ptiles = input_transform(image_ptiles)\n",
    "    enc_conv_output = enc_conv(transformed_ptiles)\n",
    "    enc_final_output = enc_final(enc_conv_output)\n",
    "\n",
    "    dim_out_all = enc_final_output.shape[1]\n",
    "    dim_per_source_params = dim_out_all - (max_detection + 1)\n",
    "    per_source_params, n_source_free_probs = torch.split(\n",
    "        enc_final_output, (dim_per_source_params, max_detection + 1), dim=1\n",
    "    )\n",
    "    per_source_params = rearrange(\n",
    "        per_source_params,\n",
    "        \"n_ptiles (td pps) -> n_ptiles td pps\",\n",
    "        td=n_total_detections,\n",
    "        pps=n_params_per_source,\n",
    "    )\n",
    "\n",
    "    n_source_log_probs = log_softmax(n_source_free_probs)\n",
    "\n",
    "    return {\n",
    "        \"per_source_params\": per_source_params,\n",
    "        \"n_source_log_probs\": n_source_log_probs,\n",
    "    }"
   ]
  },
  {
   "cell_type": "code",
   "execution_count": null,
   "metadata": {},
   "outputs": [],
   "source": [
    "def validation(model, batch):\n",
    "        \"\"\"Pytorch lightning method.\"\"\"\n",
    "        batch_size = len(batch[\"images\"])\n",
    "        \n",
    "        catalog_dict = {\n",
    "            \"locs\": batch[\"locs\"][:, :, :, 0 : model.max_detections],\n",
    "            \"log_fluxes\": batch[\"log_fluxes\"][:, :, :, 0 : model.max_detections],\n",
    "            \"galaxy_bools\": batch[\"galaxy_bools\"][:, :, :, 0 : model.max_detections],\n",
    "            \"n_sources\": batch[\"n_sources\"].clamp(max=model.max_detections),\n",
    "        }\n",
    "        true_tile_catalog = TileCatalog(model.tile_slen, catalog_dict)\n",
    "        true_full_catalog = true_tile_catalog.to_full_params()\n",
    "        image_ptiles = get_images_in_tiles(\n",
    "            torch.cat((batch[\"images\"], batch[\"background\"]), dim=1),\n",
    "            model.tile_slen,\n",
    "            model.ptile_slen,\n",
    "        )\n",
    "        image_ptiles = rearrange(image_ptiles, \"n nth ntw b h w -> (n nth ntw) b h w\")\n",
    "        dist_params = model.encode(image_ptiles)\n",
    "        est_catalog_dict = model.variational_mode(dist_params)\n",
    "        est_tile_catalog = TileCatalog.from_flat_dict(\n",
    "            true_tile_catalog.tile_slen,\n",
    "            true_tile_catalog.n_tiles_h,\n",
    "            true_tile_catalog.n_tiles_w,\n",
    "            est_catalog_dict,\n",
    "        )\n",
    "        est_full_catalog = est_tile_catalog.to_full_params()\n",
    "\n",
    "        metrics = DetectionMetrics(true_full_catalog, est_full_catalog)\n",
    "        model.log(\"val/precision\", metrics[\"precision\"], batch_size=batch_size)\n",
    "        model.log(\"val/recall\", metrics[\"recall\"], batch_size=batch_size)\n",
    "        model.log(\"val/f1\", metrics[\"f1\"], batch_size=batch_size)\n",
    "        model.log(\"val/avg_distance\", metrics[\"avg_distance\"], batch_size=batch_size)\n",
    "        return batch\n"
   ]
  },
  {
   "cell_type": "code",
   "execution_count": null,
   "metadata": {},
   "outputs": [],
   "source": []
  }
 ],
 "metadata": {
  "kernelspec": {
   "display_name": "Python 3.8.10 ('bliss-RsWe_rnr-py3.8')",
   "language": "python",
   "name": "python3"
  },
  "language_info": {
   "codemirror_mode": {
    "name": "ipython",
    "version": 3
   },
   "file_extension": ".py",
   "mimetype": "text/x-python",
   "name": "python",
   "nbconvert_exporter": "python",
   "pygments_lexer": "ipython3",
   "version": "3.8.10"
  },
  "orig_nbformat": 4,
  "vscode": {
   "interpreter": {
    "hash": "a3309a6ecd3377f6a1529af62e353e3043fd63bfc216a9859761222bf0aaf8da"
   }
  }
 },
 "nbformat": 4,
 "nbformat_minor": 2
}

{
    "cells": [
     {
      "cell_type": "code",
      "execution_count": null,
      "metadata": {},
      "outputs": [],
      "source": [
       "%load_ext autoreload\n",
       "%autoreload 2\n",
       "%aimport\n",
       "\n",
       "%matplotlib inline \n",
       "\n",
       "import torch\n",
       "import matplotlib.pyplot as plt\n",
       "from einops import rearrange\n",
       "\n",
       "from bliss.catalog import TileCatalog, get_images_in_tiles\n",
       "from bliss.models.galsim_decoder import PsfSampler\n",
       "\n",
       "\n",
       "\n",
       "# check GPU is configured correctly\n",
       "device = torch.device('cuda:0')\n",
       "!echo $CUDA_VISIBLE_DEVICES"
      ]
     },
     {
      "cell_type": "code",
      "execution_count": null,
      "metadata": {},
      "outputs": [],
      "source": [
       "# load models\n",
       "from hydra import compose, initialize\n",
       "from hydra.utils import instantiate\n",
       "\n",
       "with initialize(config_path=\"../config\"):\n",
       "    cfg = compose(\"config\", overrides=[])"
      ]
     },
     {
      "cell_type": "code",
      "execution_count": null,
      "metadata": {},
      "outputs": [],
      "source": [
       "def validation_step(self, batch, image_str):\n",
       "    catalog_dict = {\n",
       "        \"locs\": batch[\"locs\"][:, :, :, 0 : self.max_detections],\n",
       "        \"log_fluxes\": batch[\"log_fluxes\"][:, :, :, 0 : self.max_detections],\n",
       "        \"galaxy_bools\": batch[\"galaxy_bools\"][:, :, :, 0 : self.max_detections],\n",
       "        \"n_sources\": batch[\"n_sources\"].clamp(max=self.max_detections),\n",
       "    }\n",
       "    true_tile_catalog = TileCatalog(self.tile_slen, catalog_dict)\n",
       "    true_full_catalog = true_tile_catalog.to_full_params()\n",
       "    image_ptiles = get_images_in_tiles(\n",
       "        torch.cat((batch[image_str], batch[\"background\"]), dim=1),\n",
       "        self.tile_slen,\n",
       "        self.ptile_slen,\n",
       "    )\n",
       "    image_ptiles = rearrange(image_ptiles, \"n nth ntw b h w -> (n nth ntw) b h w\")\n",
       "    dist_params = self.encode(image_ptiles)\n",
       "    est_catalog_dict = self.variational_mode(dist_params)\n",
       "    est_tile_catalog = TileCatalog.from_flat_dict(\n",
       "        true_tile_catalog.tile_slen,\n",
       "        true_tile_catalog.n_tiles_h,\n",
       "        true_tile_catalog.n_tiles_w,\n",
       "        est_catalog_dict,\n",
       "    )\n",
       "    est_full_catalog = est_tile_catalog.to_full_params()\n",
       "\n",
       "    metrics = self.val_detection_metrics(true_full_catalog, est_full_catalog)\n",
       "    return metrics"
      ]
     },
     {
      "cell_type": "code",
      "execution_count": null,
      "metadata": {},
      "outputs": [],
      "source": [
       "from case_studies.psf_homogenization.galsim_decoder_std import GalsimBlendsSGwithPSF\n",
       "prior = instantiate(cfg.datasets.galsim_blended_std_psf.prior) \n",
       "decoder = instantiate(cfg.datasets.galsim_blended_std_psf.decoder)\n",
       "background = instantiate(cfg.datasets.galsim_blended_std_psf.background)\n",
       "tile_slen = 4\n",
       "max_tile_n_sources = 1\n",
       "num_workers = 5\n",
       "batch_size = 10000\n",
       "n_batches = 1\n",
       "psf_sampler = PsfSampler(0.396, \"gaussian\",1.9, 1.9)\n",
       "\n",
       "ds_psf = GalsimBlendsSGwithPSF(prior, decoder, background, tile_slen, max_tile_n_sources, num_workers=0, batch_size=10, n_batches=1, psf_sampler=psf_sampler, std_psf_fwhm=1.5)"
      ]
     },
     {
      "cell_type": "code",
      "execution_count": null,
      "metadata": {},
      "outputs": [],
      "source": [
       "DEVICE = \"cuda:0\"\n",
       "PATH = \"/home/wangchv/bliss/case_studies/psf_homogenization/output/sdss_detection_encoder_full_decoder_SG_std/std 1.5 from rand 1.5/checkpoints/epoch=989-val_loss=-0.219.ckpt\"\n",
       "detection_encoder_homo = instantiate(cfg.models.detection_encoder).eval()\n",
       "model_checkpoint = torch.load(PATH, map_location=DEVICE)\n",
       "model_state_dict = model_checkpoint[\"state_dict\"]\n",
       "detection_encoder_homo.load_state_dict(model_state_dict)\n",
       "#detection_encoder_homo = detection_encoder_homo.to(device)"
      ]
     },
     {
      "cell_type": "code",
      "execution_count": null,
      "metadata": {},
      "outputs": [],
      "source": [
       "DEVICE = \"cuda:0\"\n",
       "PATH = \"/home/wangchv/bliss/case_studies/psf_homogenization/output/sdss_detection_encoder_full_decoder_SG_rand/rand 1.5/checkpoints/epoch=879-val_loss=-0.225.ckpt\"\n",
       "detection_encoder_unhomo = instantiate(cfg.models.detection_encoder).eval()\n",
       "model_checkpoint = torch.load(PATH, map_location=DEVICE)\n",
       "model_state_dict = model_checkpoint[\"state_dict\"]\n",
       "detection_encoder_unhomo.load_state_dict(model_state_dict)\n",
       "#detection_encoder_unhomo = detection_encoder_unhomo.to(device) # transfer to GPU"
      ]
     },
     {
      "cell_type": "code",
      "execution_count": null,
      "metadata": {},
      "outputs": [],
      "source": [
       "for x in ds_psf.val_dataloader():\n",
       "    #detection_encoder_homo_device = detection_encoder_homo.to(device)\n",
       "    #x['images'] = x['images'].to(device)\n",
       "    #x['background'] = x['background'].to(device)\n",
       "    #results = validation_step(detection_encoder_homo, x, 'images')\n",
       "    print(validation_step(detection_encoder_homo, x, \"images\"))\n",
       "    print(validation_step(detection_encoder_unhomo, x, \"noisy_image\"))\n",
       "    #del detection_encoder_homo_device\n",
       "    #del x\n",
       "    #gc.collect()\n",
       "    #torch.cuda.empty_cache()\n",
       "    break"
      ]
     },
     {
      "cell_type": "code",
      "execution_count": null,
      "metadata": {},
      "outputs": [],
      "source": [
       "#generate images\n",
       "for i in range(11):\n",
       "    t = 0.5 + 0.1 * i\n",
       "    psf_sampler = PsfSampler(0.396, \"gaussian\", t, t)\n",
       "    ds_psf = GalsimBlendsSGwithPSF(prior, decoder, background, tile_slen, max_tile_n_sources, num_workers=0, batch_size=5, n_batches=1, psf_sampler=psf_sampler, std_psf_fwhm=0.8, valid_n_batches=1)\n",
       "    \n",
       "    for x in ds_psf.val_dataloader():\n",
       "        print(t)\n",
       "        plt.figure()\n",
       "        plt.subplot(121)\n",
       "        plt.imshow(x['images'][0, 0].numpy()) # plot first figure of each batch.\n",
       "        plt.subplot(122)\n",
       "        plt.imshow(x['noisy_image'][0, 0].numpy())\n",
       "        plt.show()\n",
       "    plt.close()"
      ]
     },
     {
      "cell_type": "code",
      "execution_count": null,
      "metadata": {},
      "outputs": [],
      "source": [
       "#draw plots\n",
       "import matplotlib.pyplot as plt\n",
       "import numpy as np\n",
       "psfs = np.arange(0.5, 1.6, 0.1)\n",
       "homo = np.array([0.963, 0.963, 0.959, 0.946, 0.893, 0.826, 0.749, 0.682, 0.631, 0.520, 0.466])\n",
       "unhomo = np.array([0.967, 0.967, 0.963, 0.944, 0.881, 0.777, 0.684, 0.598, 0.537, 0.464, 0.418])\n",
       "unhomo_std = np.array([0.963, 0.969, 0.961, 0.961, 0.953, 0.948, 0.932, 0.918, 0.905, 0.897, 0.890])\n",
       "unhomo_rand15 = np.array([0.868, 0.887, 0.909, 0.915, 0.927, 0.927, 0.922, 0.920, 0.904, 0.904, 0.890])\n",
       "homo_rand15_std08 = np.array([0.900, 0.901, 0.900, 0.897, 0.902, 0.904, 0.902, 0.903, 0.895, 0.881, 0.882])\n",
       "homo_rand15_std15 = np.array([0.899, 0.896, 0.891, 0.903, 0.889, 0.893, 0.891, 0.894, 0.890, 0.886, 0.881])\n",
       "plt.plot(psfs, homo, \"o-\", label=\"homo model std 0.8 rand 0.7\")\n",
       "plt.plot(psfs, unhomo, \"o-\", label=\"unhomo model rand 0.7\")\n",
       "plt.plot(psfs, unhomo_std, \"o-\", label=\"std unhomo models\")\n",
       "plt.plot(psfs, unhomo_rand15, \"o-\", label=\"unhomo model rand 1.5\")\n",
       "plt.plot(psfs, homo_rand15_std08, \"o-\", label=\"homo model std 0.8 rand 1.5\")\n",
       "plt.plot(psfs, homo_rand15_std15, \"o-\", label=\"homo model std 1.5 rand 1.5\")\n",
       "plt.xlabel(\"dataset psf\")\n",
       "plt.ylabel(\"f1\")\n",
       "plt.legend()\n",
       "plt.title(\"Precision of homo vs unhomo model\")\n",
       "plt.show()"
      ]
     },
     {
      "cell_type": "code",
      "execution_count": null,
      "metadata": {},
      "outputs": [],
      "source": [
       "psfs2 = np.arange(0.5, 2.1, 0.1)\n",
       "unhomo_rand15 = np.array([0.868, 0.887, 0.909, 0.915, 0.927, 0.927, 0.922, 0.920, 0.904, 0.904, 0.890, 0.859, 0.824, 0.724, 0.626, 0.500])\n",
       "homo_rand15_std15 = np.array([0.899, 0.896, 0.891, 0.903, 0.889, 0.893, 0.891, 0.894, 0.890, 0.886, 0.881, 0.855, 0.832, 0.769, 0.729, 0.660])\n",
       "plt.plot(psfs2, unhomo_rand15, \"o-\", label=\"unhomo model 1.5\")\n",
       "plt.plot(psfs2, homo_rand15_std15, \"o-\", label=\"homo model std 1.5 rand 1.5\")\n",
       "plt.xlabel(\"dataset psf\")\n",
       "plt.ylabel(\"f1\")\n",
       "plt.legend()\n",
       "plt.title(\"Precision of homo vs unhomo model\")\n",
       "plt.show()"
      ]
     }
    ],
    "metadata": {
     "kernelspec": {
      "display_name": "Python 3 (ipykernel)",
      "language": "python",
      "name": "python3"
     },
     "language_info": {
      "codemirror_mode": {
       "name": "ipython",
       "version": 3
      },
      "file_extension": ".py",
      "mimetype": "text/x-python",
      "name": "python",
      "nbconvert_exporter": "python",
      "pygments_lexer": "ipython3",
      "version": "3.8.10"
     },
     "toc": {
      "base_numbering": 1,
      "nav_menu": {},
      "number_sections": true,
      "sideBar": true,
      "skip_h1_title": false,
      "title_cell": "Table of Contents",
      "title_sidebar": "Contents",
      "toc_cell": false,
      "toc_position": {},
      "toc_section_display": true,
      "toc_window_display": true
     },
     "vscode": {
      "interpreter": {
       "hash": "31f2aee4e71d21fbe5cf8b01ff0e069b9275f58929596ceb00d14d90e3e16cd6"
      }
     }
    },
    "nbformat": 4,
    "nbformat_minor": 2
   }
   
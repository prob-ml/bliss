{
 "cells": [
  {
   "cell_type": "code",
   "execution_count": 2,
   "id": "2a30a67e",
   "metadata": {
    "ExecuteTime": {
     "end_time": "2022-06-10T14:29:09.035342Z",
     "start_time": "2022-06-10T14:29:08.211738Z"
    }
   },
   "outputs": [
    {
     "name": "stdout",
     "output_type": "stream",
     "text": [
      "Modules to reload:\n",
      "all-except-skipped\n",
      "\n",
      "Modules to skip:\n",
      "\n",
      "5\n"
     ]
    }
   ],
   "source": [
    "# Setup\n",
    "\n",
    "%load_ext autoreload\n",
    "%autoreload 2\n",
    "%aimport\n",
    "\n",
    "%matplotlib inline \n",
    "\n",
    "import matplotlib.pyplot as plt\n",
    "import torch\n",
    "import numpy as np\n",
    "\n",
    "# check GPU is configured correctly\n",
    "device = torch.device('cuda:0')\n",
    "!echo $CUDA_VISIBLE_DEVICES"
   ]
  },
  {
   "cell_type": "code",
   "execution_count": 3,
   "id": "e3e29ef1",
   "metadata": {
    "ExecuteTime": {
     "end_time": "2022-06-10T14:28:42.202775Z",
     "start_time": "2022-06-10T14:28:41.964531Z"
    }
   },
   "outputs": [],
   "source": [
    "# load models\n",
    "from hydra import compose, initialize\n",
    "from hydra.utils import instantiate\n",
    "\n",
    "with initialize(config_path=\"../config\"):\n",
    "    cfg = compose(\"config\", overrides=[])\n",
    "    "
   ]
  },
  {
   "cell_type": "markdown",
   "id": "6b35afcc",
   "metadata": {},
   "source": [
    "# Prior and Decoder"
   ]
  },
  {
   "cell_type": "code",
   "execution_count": 4,
   "id": "b1b2a6b1",
   "metadata": {
    "ExecuteTime": {
     "end_time": "2022-06-10T14:28:42.892895Z",
     "start_time": "2022-06-10T14:28:42.855399Z"
    }
   },
   "outputs": [],
   "source": [
    "single_galaxy_prior = instantiate(cfg.datasets.galsim_blended_std_psf.prior.single_galaxy_prior)\n",
    "single_star_prior = instantiate(cfg.datasets.galsim_blended_std_psf.prior.single_star_prior)\n",
    "single_galaxy_decoder = instantiate(cfg.datasets.galsim_blended_std_psf.decoder.single_galaxy_decoder)\n",
    "single_star_decoder = instantiate(cfg.datasets.galsim_blended_std_psf.decoder.single_star_decoder)"
   ]
  },
  {
   "cell_type": "code",
   "execution_count": 5,
   "id": "94b775f1",
   "metadata": {
    "ExecuteTime": {
     "end_time": "2022-06-10T14:28:44.039773Z",
     "start_time": "2022-06-10T14:28:44.002841Z"
    }
   },
   "outputs": [],
   "source": [
    "from bliss.models.galsim_decoder import UniformGalsimPrior\n",
    "prior = UniformGalsimPrior(single_galaxy_prior, single_star_prior, max_n_sources=5, max_shift=0.5, galaxy_prob=0.0)"
   ]
  },
  {
   "cell_type": "code",
   "execution_count": 6,
   "id": "9756dfa6",
   "metadata": {
    "ExecuteTime": {
     "end_time": "2022-06-10T14:28:44.871630Z",
     "start_time": "2022-06-10T14:28:44.831319Z"
    }
   },
   "outputs": [
    {
     "name": "stdout",
     "output_type": "stream",
     "text": [
      "{'n_sources': tensor(3), 'galaxy_params': tensor([[2.2001e+03, 1.5102e-01, 1.9025e+00, 7.7154e-01, 1.0210e+00, 3.8675e-01,\n",
      "         8.1769e-01],\n",
      "        [3.5774e+04, 3.3520e-01, 1.0796e+00, 1.2839e-01, 1.4071e+00, 5.9268e-01,\n",
      "         2.8919e+00],\n",
      "        [5.8805e+03, 6.7702e-01, 1.3705e+00, 4.1758e-01, 8.9753e-01, 6.5416e-01,\n",
      "         8.6885e-01],\n",
      "        [0.0000e+00, 0.0000e+00, 0.0000e+00, 0.0000e+00, 0.0000e+00, 0.0000e+00,\n",
      "         0.0000e+00],\n",
      "        [0.0000e+00, 0.0000e+00, 0.0000e+00, 0.0000e+00, 0.0000e+00, 0.0000e+00,\n",
      "         0.0000e+00]]), 'star_params': tensor([[  1250.9388],\n",
      "        [114702.5547],\n",
      "        [  3397.3267],\n",
      "        [     0.0000],\n",
      "        [     0.0000]]), 'locs': tensor([[0.2351, 0.7249],\n",
      "        [0.9003, 0.0086],\n",
      "        [0.1804, 0.4273],\n",
      "        [0.0000, 0.0000],\n",
      "        [0.0000, 0.0000]]), 'galaxy_bools': tensor([[0.],\n",
      "        [0.],\n",
      "        [0.],\n",
      "        [0.],\n",
      "        [0.]]), 'star_bools': tensor([[1.],\n",
      "        [1.],\n",
      "        [1.],\n",
      "        [0.],\n",
      "        [0.]])}\n"
     ]
    }
   ],
   "source": [
    "# check samples look OK \n",
    "sample = prior.sample()\n",
    "\n",
    "# COMMENT OUT for checking what happens when two sources fall in one tile\n",
    "# sample['locs'][1, :] = sample['locs'][0, :] + 0.01\n",
    "print(sample)\n"
   ]
  },
  {
   "cell_type": "code",
   "execution_count": 7,
   "id": "ae43739a",
   "metadata": {
    "ExecuteTime": {
     "end_time": "2022-06-10T14:28:55.619392Z",
     "start_time": "2022-06-10T14:28:55.582263Z"
    }
   },
   "outputs": [],
   "source": [
    "# now load full decoder\n",
    "from bliss.models.galsim_decoder import FullCatelogDecoderSG\n",
    "slen = 40\n",
    "bp = 24\n",
    "decoder = FullCatelogDecoderSG(single_galaxy_decoder, single_star_decoder, slen, bp)"
   ]
  },
  {
   "cell_type": "code",
   "execution_count": 8,
   "id": "e5bd10e4",
   "metadata": {
    "ExecuteTime": {
     "end_time": "2022-06-10T14:28:57.051565Z",
     "start_time": "2022-06-10T14:28:57.014108Z"
    }
   },
   "outputs": [
    {
     "name": "stdout",
     "output_type": "stream",
     "text": [
      "torch.Size([1, 5, 1])\n",
      "torch.Size([1, 5, 1])\n",
      "tensor([3])\n"
     ]
    }
   ],
   "source": [
    "# turn sample to FullCatalog\n",
    "from bliss.catalog import FullCatalog\n",
    "params_dict = {**sample}\n",
    "params_dict[\"plocs\"] = params_dict[\"locs\"] * slen\n",
    "params_dict.pop('locs')\n",
    "params_dict = {k: v.unsqueeze(0) for k, v in params_dict.items()}\n",
    "full_cat = FullCatalog(slen, slen, params_dict)\n",
    "print(full_cat['galaxy_bools'].shape)\n",
    "print(full_cat['star_bools'].shape)\n",
    "print(full_cat.n_sources)"
   ]
  },
  {
   "cell_type": "code",
   "execution_count": 9,
   "id": "4dee4237",
   "metadata": {
    "ExecuteTime": {
     "end_time": "2022-06-10T14:29:01.776601Z",
     "start_time": "2022-06-10T14:29:01.743544Z"
    }
   },
   "outputs": [
    {
     "data": {
      "text/plain": [
       "torch.Size([1, 10, 10, 1, 1])"
      ]
     },
     "execution_count": 9,
     "metadata": {},
     "output_type": "execute_result"
    }
   ],
   "source": [
    "tile_slen = 4\n",
    "max_tile_n_sources = 1\n",
    "tile_cat = full_cat.to_tile_params(tile_slen, max_tile_n_sources, ignore_extra_sources=True)\n",
    "tile_cat['galaxy_bools'].shape"
   ]
  },
  {
   "cell_type": "code",
   "execution_count": 10,
   "id": "af34d5a5",
   "metadata": {
    "ExecuteTime": {
     "end_time": "2022-06-10T14:29:04.140859Z",
     "start_time": "2022-06-10T14:29:03.895160Z"
    },
    "scrolled": false
   },
   "outputs": [],
   "source": [
    "images, centered, uncentered = decoder(full_cat)"
   ]
  },
  {
   "cell_type": "code",
   "execution_count": 11,
   "id": "6813ca05",
   "metadata": {
    "ExecuteTime": {
     "end_time": "2022-06-10T14:29:11.335380Z",
     "start_time": "2022-06-10T14:29:11.082236Z"
    }
   },
   "outputs": [
    {
     "data": {
      "text/plain": [
       "<matplotlib.collections.PathCollection at 0x7f01fc676400>"
      ]
     },
     "execution_count": 11,
     "metadata": {},
     "output_type": "execute_result"
    },
    {
     "data": {
      "image/png": "[encoded data removed]",
      "text/plain": [
       "<Figure size 432x288 with 1 Axes>"
      ]
     },
     "metadata": {
      "needs_background": "light"
     },
     "output_type": "display_data"
    }
   ],
   "source": [
    "plocs_numpy = full_cat.plocs.numpy()\n",
    "n_sources = full_cat.n_sources.item()\n",
    "plt.imshow(images[0].numpy())\n",
    "plt.scatter(plocs_numpy[0, :n_sources, 1] + decoder.bp - 0.5, plocs_numpy[0, :n_sources, 0] + decoder.bp - 0.5, marker='x', c='r')"
   ]
  },
  {
   "cell_type": "code",
   "execution_count": 12,
   "id": "083552e0",
   "metadata": {
    "ExecuteTime": {
     "end_time": "2022-06-10T14:29:14.004777Z",
     "start_time": "2022-06-10T14:29:13.817542Z"
    }
   },
   "outputs": [
    {
     "data": {
      "image/png": "[encoded data removed]",
      "text/plain": [
       "<Figure size 432x288 with 1 Axes>"
      ]
     },
     "metadata": {
      "needs_background": "light"
     },
     "output_type": "display_data"
    }
   ],
   "source": [
    "# tiles (blue squares)\n",
    "plocs_numpy = full_cat.plocs.numpy()\n",
    "n_sources = full_cat.n_sources.item()\n",
    "plt.imshow(images[0].numpy())\n",
    "plt.scatter(plocs_numpy[0, :n_sources, 1] + decoder.bp - 0.5, plocs_numpy[0, :n_sources, 0] + decoder.bp - 0.5, marker='x', c='r')\n",
    "for x,y in zip(np.arange(0, slen+tile_slen, tile_slen) + bp, np.arange(0, slen+tile_slen, tile_slen) + bp): \n",
    "    plt.axvline(x, c='cyan', alpha=0.5)\n",
    "    plt.axhline(y, c='cyan', alpha=0.5)"
   ]
  },
  {
   "cell_type": "code",
   "execution_count": 13,
   "id": "a029a9ac",
   "metadata": {
    "ExecuteTime": {
     "end_time": "2022-06-07T03:12:30.010814Z",
     "start_time": "2022-06-07T03:12:29.955386Z"
    }
   },
   "outputs": [
    {
     "data": {
      "text/plain": [
       "tensor([[[0, 0, 0, 0, 0, 0, 0, 0, 0, 0],\n",
       "         [0, 0, 0, 0, 1, 0, 0, 0, 0, 0],\n",
       "         [0, 0, 0, 0, 0, 0, 0, 1, 0, 0],\n",
       "         [0, 0, 0, 0, 0, 0, 0, 0, 0, 0],\n",
       "         [0, 0, 0, 0, 0, 0, 0, 0, 0, 0],\n",
       "         [0, 0, 0, 0, 0, 0, 0, 0, 0, 0],\n",
       "         [0, 0, 0, 0, 0, 0, 0, 0, 0, 0],\n",
       "         [0, 0, 0, 0, 0, 0, 0, 0, 0, 0],\n",
       "         [0, 0, 0, 0, 0, 0, 0, 0, 0, 0],\n",
       "         [1, 0, 0, 0, 0, 0, 0, 0, 0, 0]]])"
      ]
     },
     "execution_count": 13,
     "metadata": {},
     "output_type": "execute_result"
    }
   ],
   "source": [
    "tile_cat.n_sources # should correspond to above squares"
   ]
  },
  {
   "cell_type": "code",
   "execution_count": 14,
   "id": "a52a5332",
   "metadata": {
    "ExecuteTime": {
     "end_time": "2022-06-07T03:12:33.193525Z",
     "start_time": "2022-06-07T03:12:33.150209Z"
    }
   },
   "outputs": [
    {
     "data": {
      "text/plain": [
       "tensor([[    0.0000,     0.0000,     0.0000,     0.0000,     0.0000,     0.0000,\n",
       "             0.0000,     0.0000,     0.0000,     0.0000],\n",
       "        [    0.0000,     0.0000,     0.0000,     0.0000,  5880.4980,     0.0000,\n",
       "             0.0000,     0.0000,     0.0000,     0.0000],\n",
       "        [    0.0000,     0.0000,     0.0000,     0.0000,     0.0000,     0.0000,\n",
       "             0.0000,  2200.0691,     0.0000,     0.0000],\n",
       "        [    0.0000,     0.0000,     0.0000,     0.0000,     0.0000,     0.0000,\n",
       "             0.0000,     0.0000,     0.0000,     0.0000],\n",
       "        [    0.0000,     0.0000,     0.0000,     0.0000,     0.0000,     0.0000,\n",
       "             0.0000,     0.0000,     0.0000,     0.0000],\n",
       "        [    0.0000,     0.0000,     0.0000,     0.0000,     0.0000,     0.0000,\n",
       "             0.0000,     0.0000,     0.0000,     0.0000],\n",
       "        [    0.0000,     0.0000,     0.0000,     0.0000,     0.0000,     0.0000,\n",
       "             0.0000,     0.0000,     0.0000,     0.0000],\n",
       "        [    0.0000,     0.0000,     0.0000,     0.0000,     0.0000,     0.0000,\n",
       "             0.0000,     0.0000,     0.0000,     0.0000],\n",
       "        [    0.0000,     0.0000,     0.0000,     0.0000,     0.0000,     0.0000,\n",
       "             0.0000,     0.0000,     0.0000,     0.0000],\n",
       "        [35773.6172,     0.0000,     0.0000,     0.0000,     0.0000,     0.0000,\n",
       "             0.0000,     0.0000,     0.0000,     0.0000]])"
      ]
     },
     "execution_count": 14,
     "metadata": {},
     "output_type": "execute_result"
    }
   ],
   "source": [
    "tile_cat['galaxy_params'][0, :, :, 0, 0] # should correspond to above squares as well"
   ]
  },
  {
   "cell_type": "code",
   "execution_count": 15,
   "id": "fb2514f7",
   "metadata": {
    "ExecuteTime": {
     "end_time": "2022-06-10T14:29:34.719129Z",
     "start_time": "2022-06-10T14:29:34.546851Z"
    }
   },
   "outputs": [
    {
     "data": {
      "text/plain": [
       "<matplotlib.image.AxesImage at 0x7f0108798c10>"
      ]
     },
     "execution_count": 15,
     "metadata": {},
     "output_type": "execute_result"
    },
    {
     "data": {
      "image/png": "[encoded data removed]",
      "text/plain": [
       "<Figure size 432x288 with 1 Axes>"
      ]
     },
     "metadata": {
      "needs_background": "light"
     },
     "output_type": "display_data"
    }
   ],
   "source": [
    "# check images for metrics\n",
    "plt.imshow(centered[2, 0].numpy())"
   ]
  },
  {
   "cell_type": "code",
   "execution_count": 16,
   "id": "6a3ac7e7",
   "metadata": {
    "ExecuteTime": {
     "end_time": "2022-06-10T14:29:35.764991Z",
     "start_time": "2022-06-10T14:29:35.633608Z"
    }
   },
   "outputs": [
    {
     "data": {
      "text/plain": [
       "<matplotlib.image.AxesImage at 0x7f0108703940>"
      ]
     },
     "execution_count": 16,
     "metadata": {},
     "output_type": "execute_result"
    },
    {
     "data": {
      "image/png": "[encoded data removed]",
      "text/plain": [
       "<Figure size 432x288 with 1 Axes>"
      ]
     },
     "metadata": {
      "needs_background": "light"
     },
     "output_type": "display_data"
    }
   ],
   "source": [
    "plt.imshow(uncentered[2, 0].numpy())"
   ]
  },
  {
   "cell_type": "markdown",
   "id": "61df16f7",
   "metadata": {},
   "source": [
    "# Dataset"
   ]
  },
  {
   "cell_type": "code",
   "execution_count": 17,
   "id": "2ce0c3e8",
   "metadata": {
    "ExecuteTime": {
     "end_time": "2022-06-10T14:30:37.407970Z",
     "start_time": "2022-06-10T14:30:37.372016Z"
    }
   },
   "outputs": [],
   "source": [
    "# now dataset \n",
    "from case_studies.psf_homogenization.galsim_blends_sg import GalsimBlendsSGwithPSF\n",
    "from bliss.datasets.background import ConstantBackground\n",
    "from case_studies.psf_homogenization.psf_sampler import PsfSampler\n",
    "background = ConstantBackground((860.,))\n",
    "psf_sampler = PsfSampler(0.7, 0.9)\n",
    "ds = GalsimBlendsSGwithPSF(prior, decoder, background, tile_slen, max_tile_n_sources, num_workers=0, batch_size=10, n_batches=3, psf_sampler=psf_sampler, std_psf_fwhm=1.0)"
   ]
  },
  {
   "cell_type": "code",
   "execution_count": 27,
   "id": "13b462d9",
   "metadata": {
    "ExecuteTime": {
     "end_time": "2022-06-10T14:30:37.969768Z",
     "start_time": "2022-06-10T14:30:37.821844Z"
    }
   },
   "outputs": [
    {
     "name": "stdout",
     "output_type": "stream",
     "text": [
      "torch.Size([10, 10, 1, 1])\n",
      "torch.Size([10, 10, 1, 1])\n",
      "tensor([[0, 0, 0, 0, 0, 0, 0, 0, 0, 0],\n",
      "        [0, 0, 0, 0, 0, 0, 0, 0, 0, 0],\n",
      "        [0, 0, 0, 0, 0, 0, 0, 0, 0, 0],\n",
      "        [0, 0, 0, 0, 0, 0, 0, 0, 1, 0],\n",
      "        [0, 0, 0, 0, 0, 0, 1, 0, 0, 0],\n",
      "        [0, 0, 0, 0, 0, 0, 0, 0, 0, 0],\n",
      "        [0, 0, 0, 0, 0, 0, 0, 0, 0, 0],\n",
      "        [0, 0, 0, 1, 0, 0, 0, 0, 0, 0],\n",
      "        [0, 0, 0, 0, 0, 0, 0, 0, 0, 0],\n",
      "        [0, 0, 0, 0, 0, 0, 0, 0, 0, 0]])\n",
      "5\n"
     ]
    },
    {
     "data": {
      "text/plain": [
       "True"
      ]
     },
     "execution_count": 27,
     "metadata": {},
     "output_type": "execute_result"
    }
   ],
   "source": [
    "# get one sample from dataset\n",
    "print(ds[0]['galaxy_bools'].shape)\n",
    "print(ds[0]['star_params'].shape)\n",
    "print(ds[0]['n_sources'])\n",
    "print(ds.max_n_sources)\n",
    "ds[0]['galaxy_bools'].shape == torch.Size([10, 10, 1, 1])"
   ]
  },
  {
   "cell_type": "code",
   "execution_count": 19,
   "id": "6129076d",
   "metadata": {
    "ExecuteTime": {
     "end_time": "2022-06-10T14:30:49.772419Z",
     "start_time": "2022-06-10T14:30:47.366732Z"
    }
   },
   "outputs": [
    {
     "name": "stdout",
     "output_type": "stream",
     "text": [
      "torch.Size([10, 10, 10])\n",
      "torch.Size([10, 1, 88, 88])\n",
      "torch.Size([10, 10, 10, 1, 1])\n",
      "torch.Size([10, 10, 10, 1, 1])\n",
      "\n",
      "torch.Size([10, 10, 10])\n",
      "torch.Size([10, 1, 88, 88])\n",
      "torch.Size([10, 10, 10, 1, 1])\n",
      "torch.Size([10, 10, 10, 1, 1])\n",
      "\n",
      "torch.Size([10, 10, 10])\n",
      "torch.Size([10, 1, 88, 88])\n",
      "torch.Size([10, 10, 10, 1, 1])\n",
      "torch.Size([10, 10, 10, 1, 1])\n",
      "\n"
     ]
    },
    {
     "data": {
      "image/png": "[encoded data removed]",
      "text/plain": [
       "<Figure size 432x288 with 2 Axes>"
      ]
     },
     "metadata": {
      "needs_background": "light"
     },
     "output_type": "display_data"
    },
    {
     "data": {
      "image/png": "[encoded data removed]",
      "text/plain": [
       "<Figure size 432x288 with 2 Axes>"
      ]
     },
     "metadata": {
      "needs_background": "light"
     },
     "output_type": "display_data"
    }
   ],
   "source": [
    "# now a batch and draw example images\n",
    "for x in ds.train_dataloader():\n",
    "    print(x['n_sources'].shape)\n",
    "    print(x['images'].shape)\n",
    "    print(x['snr'].shape)\n",
    "    print(x['galaxy_bools'].shape)\n",
    "    print()\n",
    "    plt.figure()\n",
    "    plt.subplot(121)\n",
    "    plt.imshow(x['images'][0, 0].numpy()) # plot first figure of each batch.\n",
    "    plt.subplot(122)\n",
    "    plt.imshow(x['noisy_image'][0, 0].numpy())\n",
    "plt.close()"
   ]
  },
  {
   "cell_type": "code",
   "execution_count": 20,
   "id": "29715133",
   "metadata": {},
   "outputs": [],
   "source": [
    "# looks like we are ready to go :)"
   ]
  }
 ],
 "metadata": {
  "kernelspec": {
   "display_name": "Python 3.8.10 ('bliss-RsWe_rnr-py3.8')",
   "language": "python",
   "name": "python3"
  },
  "language_info": {
   "codemirror_mode": {
    "name": "ipython",
    "version": 3
   },
   "file_extension": ".py",
   "mimetype": "text/x-python",
   "name": "python",
   "nbconvert_exporter": "python",
   "pygments_lexer": "ipython3",
   "version": "3.8.10"
  },
  "toc": {
   "base_numbering": 1,
   "nav_menu": {},
   "number_sections": true,
   "sideBar": true,
   "skip_h1_title": false,
   "title_cell": "Table of Contents",
   "title_sidebar": "Contents",
   "toc_cell": false,
   "toc_position": {
    "height": "calc(100% - 180px)",
    "left": "10px",
    "top": "150px",
    "width": "165px"
   },
   "toc_section_display": true,
   "toc_window_display": false
  },
  "vscode": {
   "interpreter": {
    "hash": "a3309a6ecd3377f6a1529af62e353e3043fd63bfc216a9859761222bf0aaf8da"
   }
  }
 },
 "nbformat": 4,
 "nbformat_minor": 5
}

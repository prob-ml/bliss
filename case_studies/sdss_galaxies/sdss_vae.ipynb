{
 "cells": [
  {
   "cell_type": "code",
   "execution_count": null,
   "id": "joint-keeping",
   "metadata": {},
   "outputs": [],
   "source": [
    "import matplotlib.pyplot as plt\n",
    "import pytorch_lightning as pl\n",
    "\n",
    "import bliss\n",
    "import bliss.models.galaxy_net\n",
    "import bliss.datasets.galsim_galaxies"
   ]
  },
  {
   "cell_type": "markdown",
   "id": "satellite-legislature",
   "metadata": {},
   "source": [
    "# Create dataset"
   ]
  },
  {
   "cell_type": "markdown",
   "id": "indian-experiment",
   "metadata": {},
   "source": [
    "First we create the dataset containing SDSS galaxies. These galaxies have realistic sizes and fluxes from a catalog, but the morphology is bulge+disk+agn (basically a parametric Sersic mixture) so they are not as realistic as they could be. "
   ]
  },
  {
   "cell_type": "code",
   "execution_count": null,
   "id": "sharp-processing",
   "metadata": {},
   "outputs": [],
   "source": [
    "# the catalog we will be using has a sample of 'easiest' (not too small or too faint) galaxies in the catalog.\n",
    "catalog_file = '../../data/gold_dc2_catalog.fits'"
   ]
  },
  {
   "cell_type": "code",
   "execution_count": null,
   "id": "departmental-interpretation",
   "metadata": {},
   "outputs": [],
   "source": [
    "# we prepare a configuration object that is used to create the dataset & model.\n",
    "from hydra.experimental import initialize, compose\n",
    "def get_cfg(overrides):\n",
    "    overrides = [f\"{key}={value}\" for key, value in overrides.items()]\n",
    "    with initialize(config_path=\"../../config\"):\n",
    "        cfg = compose(\"config\", overrides=overrides)\n",
    "    return cfg\n",
    "\n",
    "overrides = {\n",
    "             # dataset information\n",
    "             'dataset':'sdss_galaxies', 'dataset.cosmoDC2_file': catalog_file,\n",
    "    \n",
    "             # model info. \n",
    "             'model':'galaxy_net',\n",
    "    \n",
    "             # pytorch lightning trainer. \n",
    "             'training': 'default'\n",
    "}\n",
    "cfg = get_cfg(overrides)\n",
    "dataset = bliss.datasets.galsim_galaxies.SDSSGalaxies(cfg)"
   ]
  },
  {
   "cell_type": "code",
   "execution_count": null,
   "id": "fallen-terrace",
   "metadata": {},
   "outputs": [],
   "source": [
    "# some example centered individual galaxies from the dataset.\n",
    "fig, axes = plt.subplots(4,4, figsize=(20, 20))\n",
    "\n",
    "for ax in axes.flatten():\n",
    "    idx = np.random.randint(len(dataset.catalog))\n",
    "    ex = dataset[idx]\n",
    "    im = ax.imshow(ex['images'][0])\n",
    "    fig.colorbar(im, ax=ax)\n",
    "\n",
    "plt.tight_layout()"
   ]
  },
  {
   "cell_type": "markdown",
   "id": "transsexual-jungle",
   "metadata": {},
   "source": [
    "# Create VAE and Train"
   ]
  },
  {
   "cell_type": "markdown",
   "id": "hairy-question",
   "metadata": {},
   "source": [
    "The configuration object we created above already contains the model information for our galaxy VAE. "
   ]
  },
  {
   "cell_type": "code",
   "execution_count": null,
   "id": "younger-romance",
   "metadata": {},
   "outputs": [],
   "source": [
    "print(cfg.model)"
   ]
  },
  {
   "cell_type": "markdown",
   "id": "deluxe-bunny",
   "metadata": {},
   "source": [
    "We can create the VAE directly from this configuration. "
   ]
  },
  {
   "cell_type": "code",
   "execution_count": null,
   "id": "adopted-matrix",
   "metadata": {},
   "outputs": [],
   "source": [
    "VAE = bliss.models.galaxy_net.OneCenteredGalaxy(cfg)"
   ]
  },
  {
   "cell_type": "markdown",
   "id": "native-scientist",
   "metadata": {},
   "source": [
    "And we also need a trainer to train. "
   ]
  },
  {
   "cell_type": "code",
   "execution_count": null,
   "id": "early-secret",
   "metadata": {},
   "outputs": [],
   "source": [
    "# create trainer\n",
    "n_epochs = 101\n",
    "trainer = pl.Trainer(profiler=None, logger=False, checkpoint_callback=False, \n",
    "                     max_epochs=n_epochs, min_epochs=n_epochs, \n",
    "                     gpus=[2], check_val_every_n_epoch=1001,)\n",
    "\n",
    "\n",
    "# train! \n",
    "trainer.fit(VAE, datamodule=dataset)"
   ]
  },
  {
   "cell_type": "markdown",
   "id": "married-notion",
   "metadata": {},
   "source": [
    "# Compare results"
   ]
  },
  {
   "cell_type": "markdown",
   "id": "comparative-procurement",
   "metadata": {},
   "source": [
    "Now that our model is trained we can compare some results. "
   ]
  },
  {
   "cell_type": "code",
   "execution_count": null,
   "id": "indie-buffalo",
   "metadata": {},
   "outputs": [],
   "source": [
    "import torch\n",
    "VAE.eval()\n",
    "\n",
    "# example reconstruction\n",
    "# some example centered individual galaxies from the dataset.\n",
    "fig, axes = plt.subplots(5,2, figsize=(10, 24))\n",
    "\n",
    "#always different.\n",
    "for b in dataset.train_dataloader():\n",
    "    batch = b\n",
    "    break\n",
    "\n",
    "recon_mean, recon_var, _ = VAE(batch['images'],batch['background'])\n",
    "\n",
    "for i, (ax1, ax2) in enumerate(axes):\n",
    "    \n",
    "    # plot\n",
    "    im1 = ax1.imshow(batch['images'][i][0])\n",
    "    fig.colorbar(im1, ax=ax1)\n",
    "    \n",
    "    im2 = ax2.imshow(recon_mean[i][0].detach().numpy())\n",
    "    fig.colorbar(im2, ax=ax2)\n",
    "plt.tight_layout()"
   ]
  },
  {
   "cell_type": "code",
   "execution_count": null,
   "id": "olympic-probability",
   "metadata": {},
   "outputs": [],
   "source": []
  }
 ],
 "metadata": {
  "kernelspec": {
   "display_name": "bliss-W0ocb7P7-py3.8",
   "language": "python",
   "name": "bliss-w0ocb7p7-py3.8"
  },
  "language_info": {
   "codemirror_mode": {
    "name": "ipython",
    "version": 3
   },
   "file_extension": ".py",
   "mimetype": "text/x-python",
   "name": "python",
   "nbconvert_exporter": "python",
   "pygments_lexer": "ipython3",
   "version": "3.8.5"
  },
  "toc": {
   "base_numbering": 1,
   "nav_menu": {},
   "number_sections": true,
   "sideBar": true,
   "skip_h1_title": false,
   "title_cell": "Table of Contents",
   "title_sidebar": "Contents",
   "toc_cell": false,
   "toc_position": {
    "height": "calc(100% - 180px)",
    "left": "10px",
    "top": "150px",
    "width": "165px"
   },
   "toc_section_display": true,
   "toc_window_display": true
  }
 },
 "nbformat": 4,
 "nbformat_minor": 5
}

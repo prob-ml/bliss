{
 "cells": [
  {
   "cell_type": "markdown",
   "id": "fff0899b",
   "metadata": {},
   "source": [
    "# Setup"
   ]
  },
  {
   "cell_type": "code",
   "execution_count": 1,
   "id": "c9334866",
   "metadata": {
    "ExecuteTime": {
     "end_time": "2021-10-20T02:35:23.919882Z",
     "start_time": "2021-10-20T02:35:23.909330Z"
    }
   },
   "outputs": [],
   "source": [
    "import os \n",
    "os.chdir('/home/imendoza/bliss')"
   ]
  },
  {
   "cell_type": "code",
   "execution_count": 2,
   "id": "b0413b12",
   "metadata": {
    "ExecuteTime": {
     "end_time": "2021-10-20T02:35:24.063186Z",
     "start_time": "2021-10-20T02:35:24.043635Z"
    }
   },
   "outputs": [
    {
     "name": "stdout",
     "output_type": "stream",
     "text": [
      "Modules to reload:\n",
      "all-except-skipped\n",
      "\n",
      "Modules to skip:\n",
      "\n"
     ]
    }
   ],
   "source": [
    "%load_ext autoreload\n",
    "%autoreload 2\n",
    "%aimport"
   ]
  },
  {
   "cell_type": "code",
   "execution_count": 3,
   "id": "e7123298",
   "metadata": {
    "ExecuteTime": {
     "end_time": "2021-10-20T02:35:24.465247Z",
     "start_time": "2021-10-20T02:35:24.207799Z"
    }
   },
   "outputs": [],
   "source": [
    "%matplotlib inline"
   ]
  },
  {
   "cell_type": "code",
   "execution_count": 4,
   "id": "d795944f",
   "metadata": {
    "ExecuteTime": {
     "end_time": "2021-10-20T02:35:26.237084Z",
     "start_time": "2021-10-20T02:35:24.466917Z"
    }
   },
   "outputs": [],
   "source": [
    "import matplotlib.pyplot as plt\n",
    "import sklearn\n",
    "import torch\n",
    "\n",
    "from bliss.datasets import sdss\n",
    "from bliss.reporting import scene_metrics, plot_image, get_params_from_coadd\n",
    "from bliss.predict import predict_on_scene\n",
    "\n",
    "from astropy.table import Table"
   ]
  },
  {
   "cell_type": "code",
   "execution_count": 5,
   "id": "242d1d59",
   "metadata": {
    "ExecuteTime": {
     "end_time": "2021-10-20T02:35:26.259343Z",
     "start_time": "2021-10-20T02:35:26.239207Z"
    }
   },
   "outputs": [],
   "source": [
    "# where is the sdss data? \n",
    "sdss_dir = '/home/imendoza/bliss/data/sdss/'"
   ]
  },
  {
   "cell_type": "code",
   "execution_count": 6,
   "id": "606a057e",
   "metadata": {
    "ExecuteTime": {
     "end_time": "2021-10-20T02:35:27.423136Z",
     "start_time": "2021-10-20T02:35:26.261113Z"
    }
   },
   "outputs": [
    {
     "name": "stdout",
     "output_type": "stream",
     "text": [
      "3\r\n"
     ]
    }
   ],
   "source": [
    "# check GPU is configured correctly\n",
    "!export CUDA_VISIBLE_DEVICES=\"1\"\n",
    "device = torch.device('cuda:0')\n",
    "!echo $CUDA_VISIBLE_DEVICES"
   ]
  },
  {
   "cell_type": "markdown",
   "id": "fcae7dee",
   "metadata": {},
   "source": [
    "# Load data"
   ]
  },
  {
   "cell_type": "code",
   "execution_count": 7,
   "id": "ae341afa",
   "metadata": {
    "ExecuteTime": {
     "end_time": "2021-10-20T02:35:28.905795Z",
     "start_time": "2021-10-20T02:35:28.269294Z"
    }
   },
   "outputs": [
    {
     "name": "stdout",
     "output_type": "stream",
     "text": [
      "1489 2048\n"
     ]
    }
   ],
   "source": [
    "bp = 24\n",
    "clen = 300\n",
    "pixel_scale=0.396\n",
    "run = 94\n",
    "camcol = 1\n",
    "field = 12\n",
    "bands = (2,)\n",
    "sdss_data = sdss.SloanDigitalSkySurvey(\n",
    "    sdss_dir=sdss_dir,\n",
    "    run=run,\n",
    "    camcol=camcol,\n",
    "    fields=(field,),\n",
    "    bands=bands,\n",
    "    overwrite_cache=True,\n",
    "    overwrite_fits_cache=True,\n",
    ")\n",
    "\n",
    "wcs = sdss_data[0]['wcs'][0]\n",
    "nelec_per_nmgy = sdss_data[0]['nelec_per_nmgy'].mean()\n",
    "scene = sdss_data[0][\"image\"][0]\n",
    "h,w = scene.shape[-2], scene.shape[-1]\n",
    "print(h, w)"
   ]
  },
  {
   "cell_type": "code",
   "execution_count": 8,
   "id": "a79b0006",
   "metadata": {
    "ExecuteTime": {
     "end_time": "2021-10-20T02:35:30.446024Z",
     "start_time": "2021-10-20T02:35:30.378873Z"
    }
   },
   "outputs": [],
   "source": [
    "# load coadd catalog\n",
    "coadd_catalog_file = 'data/coadd_catalog_94_1_12.fits'\n",
    "psf_image_file = 'data/psField-000094-1-0012-PSF-image.npy'\n",
    "# add_extra_coadd_info(coadd_catalog_file, psf_image_file, pixel_scale, wcs)"
   ]
  },
  {
   "cell_type": "code",
   "execution_count": 9,
   "id": "37e1bb40",
   "metadata": {
    "ExecuteTime": {
     "end_time": "2021-10-20T02:35:31.363933Z",
     "start_time": "2021-10-20T02:35:31.305896Z"
    }
   },
   "outputs": [],
   "source": [
    "coadd_cat = Table.read(coadd_catalog_file, format='fits')\n",
    "coadd_params = get_params_from_coadd(coadd_cat, h, w, bp)"
   ]
  },
  {
   "cell_type": "markdown",
   "id": "066cfa15",
   "metadata": {},
   "source": [
    "# Load models"
   ]
  },
  {
   "cell_type": "code",
   "execution_count": 12,
   "id": "4e9f74ab",
   "metadata": {
    "ExecuteTime": {
     "end_time": "2021-10-20T02:35:43.662114Z",
     "start_time": "2021-10-20T02:35:43.634735Z"
    }
   },
   "outputs": [],
   "source": [
    "from bliss.models.binary import BinaryEncoder\n",
    "from bliss.models.galaxy_encoder import GalaxyEncoder\n",
    "from bliss.sleep import SleepPhase"
   ]
  },
  {
   "cell_type": "code",
   "execution_count": 13,
   "id": "6a1c5e4b",
   "metadata": {
    "ExecuteTime": {
     "end_time": "2021-10-20T02:35:49.622137Z",
     "start_time": "2021-10-20T02:35:44.590517Z"
    }
   },
   "outputs": [],
   "source": [
    "# prepare BLISS model \n",
    "sleep_file = '/home/imendoza/bliss/models/sdss_sleep.ckpt'\n",
    "galaxy_encoder_file = '/home/imendoza/bliss/models/sdss_galaxy_encoder.ckpt'\n",
    "binary_file = '/home/imendoza/bliss/models/sdss_binary.ckpt'\n",
    "\n",
    "\n",
    "# load models\n",
    "sleep_net = SleepPhase.load_from_checkpoint(sleep_file).to('cpu')\n",
    "image_encoder= sleep_net.image_encoder.to(device).eval()\n",
    "binary_encoder = BinaryEncoder.load_from_checkpoint(binary_file).to(device).eval()\n",
    "galaxy_encoder = GalaxyEncoder.load_from_checkpoint(galaxy_encoder_file).to(device).eval()\n",
    "galaxy_decoder = sleep_net.image_decoder.galaxy_tile_decoder.galaxy_decoder.eval().to(device)"
   ]
  },
  {
   "cell_type": "markdown",
   "id": "ce593fb3",
   "metadata": {},
   "source": [
    "# Prediction"
   ]
  },
  {
   "cell_type": "code",
   "execution_count": 14,
   "id": "cb9edecd",
   "metadata": {
    "ExecuteTime": {
     "end_time": "2021-10-20T02:35:50.565918Z",
     "start_time": "2021-10-20T02:35:50.513158Z"
    }
   },
   "outputs": [],
   "source": [
    "torch.cuda.empty_cache()"
   ]
  },
  {
   "cell_type": "code",
   "execution_count": 15,
   "id": "8cf33430",
   "metadata": {
    "ExecuteTime": {
     "end_time": "2021-10-20T02:36:58.268249Z",
     "start_time": "2021-10-20T02:36:10.724688Z"
    }
   },
   "outputs": [
    {
     "name": "stderr",
     "output_type": "stream",
     "text": [
      "100%|██████████████████████████████████████████████████████████████████████████████████████████████████████████████████████████████████████████████████████| 35/35 [00:47<00:00,  1.36s/it]\n"
     ]
    }
   ],
   "source": [
    "# predict using models \n",
    "\n",
    "clen = 300\n",
    "_scene = torch.from_numpy(scene).reshape(1, 1, h, w)\n",
    "_, est_params = predict_on_scene(clen, _scene, image_encoder, binary_encoder, \n",
    "                                 galaxy_encoder, galaxy_decoder, device) "
   ]
  },
  {
   "cell_type": "markdown",
   "id": "13fef3bd",
   "metadata": {
    "heading_collapsed": true
   },
   "source": [
    "## Check locations are sensible using plotly"
   ]
  },
  {
   "cell_type": "code",
   "execution_count": 16,
   "id": "5f7f29e7",
   "metadata": {
    "ExecuteTime": {
     "end_time": "2021-10-20T02:37:14.195772Z",
     "start_time": "2021-10-20T02:37:14.161728Z"
    },
    "hidden": true
   },
   "outputs": [],
   "source": [
    "# import plotly.express as px\n",
    "# import plotly.graph_objects as go\n",
    "\n",
    "# fig = px.imshow(scene, zmin=800, zmax=900)\n",
    "# fig.update_layout(width=800, height=800)\n",
    "# plocs = est_params['plocs'].cpu().numpy()\n",
    "# scatter_true = go.Scatter(name='coadd', x=coadd_params['x'], y=coadd_params['y'], mode='markers', marker=dict(color='blue', size=8, symbol='x'))\n",
    "# scatter_est = go.Scatter(name='estimate', x=plocs[:, 0], y=plocs[:, 1], mode='markers', marker=dict(color='red', size=9, symbol='circle'))\n",
    "\n",
    "# fig.add_trace(scatter_true)\n",
    "# fig.add_trace(scatter_est)\n",
    "# fig.show()"
   ]
  },
  {
   "cell_type": "markdown",
   "id": "2317dd6e",
   "metadata": {},
   "source": [
    "# Results"
   ]
  },
  {
   "cell_type": "code",
   "execution_count": 18,
   "id": "b7afc612",
   "metadata": {
    "ExecuteTime": {
     "end_time": "2021-10-20T02:37:25.560760Z",
     "start_time": "2021-10-20T02:37:25.485270Z"
    }
   },
   "outputs": [
    {
     "name": "stdout",
     "output_type": "stream",
     "text": [
      "1489 2048 24\n"
     ]
    },
    {
     "data": {
      "text/plain": [
       "{'precision': tensor(0.8121),\n",
       " 'recall': tensor(0.7540),\n",
       " 'f1': tensor(0.7820),\n",
       " 'class_acc': tensor(0.9574),\n",
       " 'conf_matrix': tensor([[122,  11],\n",
       "         [  0, 125]])}"
      ]
     },
     "execution_count": 18,
     "metadata": {},
     "output_type": "execute_result"
    }
   ],
   "source": [
    "# max mag in est_params ~ 22.5\n",
    "print(h, w, bp)\n",
    "# extract 'true' parameters based on coadd catalog.\n",
    "coadd_params = get_params_from_coadd(coadd_cat, h, w, bp)\n",
    "scene_metrics(coadd_params, est_params, mag_cut=21, slack=1.0, mag_slack=0.5)"
   ]
  },
  {
   "cell_type": "markdown",
   "id": "22c13d8b",
   "metadata": {},
   "source": [
    "# Plot"
   ]
  },
  {
   "cell_type": "markdown",
   "id": "0ddb8031",
   "metadata": {},
   "source": [
    "## Collect for all magnitude bins"
   ]
  },
  {
   "cell_type": "code",
   "execution_count": 19,
   "id": "627e1bc5",
   "metadata": {
    "ExecuteTime": {
     "end_time": "2021-10-20T02:37:33.060012Z",
     "start_time": "2021-10-20T02:37:30.433552Z"
    }
   },
   "outputs": [],
   "source": [
    "mag_bins = np.arange(18, 23, 0.1) #skip 23\n",
    "precisions = [] \n",
    "recalls = []\n",
    "class_accs = [] \n",
    "for mag in mag_bins: \n",
    "    res = scene_metrics(coadd_params, est_params, mag_cut=mag, slack=1.0, mag_slack=0.5)\n",
    "    precisions.append(res['precision'].item())\n",
    "    recalls.append(res['recall'].item())\n",
    "    class_accs.append(res['class_acc'].item())"
   ]
  },
  {
   "cell_type": "markdown",
   "id": "affac581",
   "metadata": {},
   "source": [
    "## lineplot"
   ]
  },
  {
   "cell_type": "code",
   "execution_count": 31,
   "id": "c8cdc28b",
   "metadata": {
    "ExecuteTime": {
     "end_time": "2021-10-20T02:39:18.792824Z",
     "start_time": "2021-10-20T02:39:18.733088Z"
    }
   },
   "outputs": [],
   "source": [
    "import seaborn as sns\n",
    "from plot_defaults import set_rc_params, format_plot, CB_color_cycle\n",
    "sns.set_theme(style=\"darkgrid\")"
   ]
  },
  {
   "cell_type": "code",
   "execution_count": 32,
   "id": "86115bb7",
   "metadata": {
    "ExecuteTime": {
     "end_time": "2021-10-20T02:39:26.093614Z",
     "start_time": "2021-10-20T02:39:25.784069Z"
    }
   },
   "outputs": [
    {
     "data": {
      "image/png": "[encoded data removed]",
      "text/plain": [
       "<Figure size 648x504 with 1 Axes>"
      ]
     },
     "metadata": {
      "needs_background": "light"
     },
     "output_type": "display_data"
    }
   ],
   "source": [
    "%matplotlib inline\n",
    "set_rc_params(tick_label_size='small', label_size='medium')\n",
    "f, ax = plt.subplots(1, 1, figsize=(9, 7))\n",
    "format_plot(ax, xlabel=r'\\rm magnitude cut', ylabel=r'value of metric')\n",
    "ax.plot(mag_bins, recalls, label=r'\\rm recall')\n",
    "ax.plot(mag_bins, precisions, label=r'\\rm precision')\n",
    "ax.plot(mag_bins, class_accs, label=r'\\rm classification accuracy')\n",
    "ax.legend()\n",
    "plt.show()"
   ]
  },
  {
   "cell_type": "code",
   "execution_count": 121,
   "id": "3f08ee1e",
   "metadata": {
    "ExecuteTime": {
     "end_time": "2021-10-19T22:19:13.972823Z",
     "start_time": "2021-10-19T22:19:12.625977Z"
    }
   },
   "outputs": [
    {
     "data": {
      "text/plain": [
       "Text(0.5, 0, 'true mag.')"
      ]
     },
     "execution_count": 121,
     "metadata": {},
     "output_type": "execute_result"
    },
    {
     "data": {
      "image/png": "[encoded data removed]",
      "text/plain": [
       "<Figure size 432x288 with 1 Axes>"
      ]
     },
     "metadata": {
      "needs_background": "light"
     },
     "output_type": "display_data"
    }
   ],
   "source": [
    "%matplotlib inline\n",
    "plt.hist(coadd_params['mag'].numpy(), bins=15, range=(14, 23))\n",
    "plt.xlabel('true mag.', size=18)"
   ]
  },
  {
   "cell_type": "code",
   "execution_count": 122,
   "id": "16ada6be",
   "metadata": {
    "ExecuteTime": {
     "end_time": "2021-10-19T22:19:51.742703Z",
     "start_time": "2021-10-19T22:19:51.073393Z"
    }
   },
   "outputs": [
    {
     "data": {
      "text/plain": [
       "Text(0.5, 0, 'est mag.')"
      ]
     },
     "execution_count": 122,
     "metadata": {},
     "output_type": "execute_result"
    },
    {
     "data": {
      "image/png": "[encoded data removed]",
      "text/plain": [
       "<Figure size 432x288 with 1 Axes>"
      ]
     },
     "metadata": {
      "needs_background": "light"
     },
     "output_type": "display_data"
    }
   ],
   "source": [
    "%matplotlib inline\n",
    "plt.hist(est_params['mag'].numpy(), bins=15, range=(14, 23))\n",
    "plt.xlabel('est mag.', size=18)"
   ]
  }
 ],
 "metadata": {
  "kernelspec": {
   "display_name": "bliss-W0ocb7P7-py3.8",
   "language": "python",
   "name": "bliss-w0ocb7p7-py3.8"
  },
  "language_info": {
   "codemirror_mode": {
    "name": "ipython",
    "version": 3
   },
   "file_extension": ".py",
   "mimetype": "text/x-python",
   "name": "python",
   "nbconvert_exporter": "python",
   "pygments_lexer": "ipython3",
   "version": "3.8.10"
  },
  "toc": {
   "base_numbering": 1,
   "nav_menu": {},
   "number_sections": true,
   "sideBar": true,
   "skip_h1_title": false,
   "title_cell": "Table of Contents",
   "title_sidebar": "Contents",
   "toc_cell": false,
   "toc_position": {
    "height": "511.3043518066406px",
    "left": "58.991851806640625px",
    "top": "110.44837188720703px",
    "width": "165px"
   },
   "toc_section_display": true,
   "toc_window_display": true
  }
 },
 "nbformat": 4,
 "nbformat_minor": 5
}

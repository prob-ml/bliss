{
 "cells": [
  {
   "cell_type": "markdown",
   "id": "incorporate-compact",
   "metadata": {},
   "source": [
    "# Setup"
   ]
  },
  {
   "cell_type": "code",
   "execution_count": 10,
   "id": "palestinian-variance",
   "metadata": {
    "ExecuteTime": {
     "end_time": "2021-09-01T13:28:10.325437Z",
     "start_time": "2021-09-01T13:28:10.279979Z"
    }
   },
   "outputs": [
    {
     "name": "stdout",
     "output_type": "stream",
     "text": [
      "The autoreload extension is already loaded. To reload it, use:\n",
      "  %reload_ext autoreload\n",
      "Modules to reload:\n",
      "all-except-skipped\n",
      "\n",
      "Modules to skip:\n",
      "\n"
     ]
    }
   ],
   "source": [
    "%load_ext autoreload\n",
    "%autoreload 2\n",
    "%aimport"
   ]
  },
  {
   "cell_type": "code",
   "execution_count": 11,
   "id": "basic-baking",
   "metadata": {
    "ExecuteTime": {
     "end_time": "2021-09-01T13:28:10.459319Z",
     "start_time": "2021-09-01T13:28:10.430382Z"
    }
   },
   "outputs": [],
   "source": [
    "from sparse_field_lib import load_data"
   ]
  },
  {
   "cell_type": "code",
   "execution_count": 12,
   "id": "neither-contest",
   "metadata": {
    "ExecuteTime": {
     "end_time": "2021-09-01T13:28:10.616115Z",
     "start_time": "2021-09-01T13:28:10.587425Z"
    }
   },
   "outputs": [],
   "source": [
    "import matplotlib.pyplot as plt\n",
    "import sklearn\n",
    "import torch\n",
    "\n",
    "from bliss.datasets import sdss\n",
    "from bliss.models import encoder, decoder\n",
    "from bliss import sleep\n",
    "\n",
    "from astropy.table import Table"
   ]
  },
  {
   "cell_type": "code",
   "execution_count": 13,
   "id": "1274b4fc",
   "metadata": {
    "ExecuteTime": {
     "end_time": "2021-09-01T13:28:10.773669Z",
     "start_time": "2021-09-01T13:28:10.747361Z"
    }
   },
   "outputs": [],
   "source": [
    "import ipywidgets as widgets\n",
    "from ipywidgets import interact, interactive, fixed, interact_manual\n",
    "\n",
    "import plotly.express as px\n",
    "import plotly.graph_objects as go"
   ]
  },
  {
   "cell_type": "code",
   "execution_count": 14,
   "id": "completed-wright",
   "metadata": {
    "ExecuteTime": {
     "end_time": "2021-09-01T13:28:10.924125Z",
     "start_time": "2021-09-01T13:28:10.898597Z"
    }
   },
   "outputs": [],
   "source": [
    "# where is the sdss data? \n",
    "sdss_dir = '/home/imendoza/bliss/data/sdss/'"
   ]
  },
  {
   "cell_type": "code",
   "execution_count": 15,
   "id": "saving-wisconsin",
   "metadata": {
    "ExecuteTime": {
     "end_time": "2021-09-01T13:28:11.731052Z",
     "start_time": "2021-09-01T13:28:11.097735Z"
    }
   },
   "outputs": [
    {
     "name": "stdout",
     "output_type": "stream",
     "text": [
      "5\r\n"
     ]
    }
   ],
   "source": [
    "# check GPU is configured correctly\n",
    "device = torch.device('cuda:0')\n",
    "!echo $CUDA_VISIBLE_DEVICES"
   ]
  },
  {
   "cell_type": "markdown",
   "id": "40d648a4",
   "metadata": {},
   "source": [
    "# Metrics"
   ]
  },
  {
   "cell_type": "code",
   "execution_count": 48,
   "id": "6f0b0774",
   "metadata": {
    "ExecuteTime": {
     "end_time": "2021-09-01T13:39:25.174731Z",
     "start_time": "2021-09-01T13:39:25.142034Z"
    }
   },
   "outputs": [],
   "source": [
    "# precision and recall and matrix\n",
    "from sklearn.metrics import confusion_matrix\n",
    "\n",
    "def get_aggregate_metrics(keep_match, true_is_gal, pred_is_gal, true_n_total, n_unmatched=0):\n",
    "    \n",
    "\n",
    "    tp = sum(keep_match) # true positives = # of objects matched with a true object. \n",
    "    fp = sum(~keep_match) + n_unmatched # false positives = detected object not matched with true object.\n",
    "\n",
    "    # precision \n",
    "    # recall = tp / total # of true objects\n",
    "    precision = (tp / (tp + fp)).item()\n",
    "    recall = (tp / true_n_total).item()\n",
    "    f1 = (2 * precision * recall) / (precision + recall)\n",
    "    \n",
    "    ratio_misclassed = sum(true_is_gal != pred_is_gal) / len(pred_is_gal)\n",
    "\n",
    "    print(f'precision: {precision:.3f}')\n",
    "    print(f'recall: {recall:.3f}')\n",
    "    print(f'f1: {f1:.3f}')\n",
    "    print(f'n_unmatched: {n_unmatched}')\n",
    "    print(f'percentage misclassed: {ratio_misclassed*100:.2f}%')\n",
    "    print()\n",
    "    print(confusion_matrix(true_is_gal, pred_is_gal, labels=[True, False]))\n"
   ]
  },
  {
   "cell_type": "markdown",
   "id": "hundred-consideration",
   "metadata": {},
   "source": [
    "# Load data"
   ]
  },
  {
   "cell_type": "code",
   "execution_count": 46,
   "id": "jewish-dinner",
   "metadata": {
    "ExecuteTime": {
     "end_time": "2021-09-01T13:39:11.096599Z",
     "start_time": "2021-09-01T13:39:10.480246Z"
    }
   },
   "outputs": [
    {
     "name": "stdout",
     "output_type": "stream",
     "text": [
      "# objects detected by photo on frame:  999\n",
      "# objects detected by photo on coadd:  901\n",
      "(1489, 2048)\n"
     ]
    },
    {
     "name": "stderr",
     "output_type": "stream",
     "text": [
      "WARNING: FITSFixedWarning: RADECSYS= 'ICRS ' / International Celestial Ref. System \n",
      "the RADECSYS keyword is deprecated, use RADESYSa. [astropy.wcs.wcs]\n",
      "WARNING: FITSFixedWarning: 'datfix' made the change 'Set MJD-OBS to 51075.000000 from DATE-OBS.\n",
      "Changed DATE-OBS from '19/09/98' to '1998-09-19''. [astropy.wcs.wcs]\n"
     ]
    }
   ],
   "source": [
    "frame, fits_file, wcs_list, sdss_data = load_data(sdss_dir=sdss_dir)\n",
    "coadd_cat = Table(fits_file[:])\n",
    "frame_fits = Table(sdss_data[0]['po_fits'])\n",
    "print(\"# objects detected by photo on frame: \", len(frame_fits))\n",
    "print(\"# objects detected by photo on coadd: \", len(fits_file['ra'][:]))\n",
    "frame = frame[0].numpy()\n",
    "print(frame.shape)"
   ]
  },
  {
   "cell_type": "code",
   "execution_count": 18,
   "id": "executive-bangladesh",
   "metadata": {
    "ExecuteTime": {
     "end_time": "2021-09-01T13:28:16.890617Z",
     "start_time": "2021-09-01T13:28:16.859724Z"
    }
   },
   "outputs": [
    {
     "name": "stdout",
     "output_type": "stream",
     "text": [
      "773 962\n"
     ]
    }
   ],
   "source": [
    "wcs = wcs_list[0]\n",
    "pt, pr = wcs.all_world2pix(coadd_cat['ra'], coadd_cat['dec'], 0)\n",
    "pt_frame, pr_frame = wcs.all_world2pix(frame_fits['RA'].reshape(-1), frame_fits['DEC'].reshape(-1), 0)\n",
    "is_star = coadd_cat['probpsf'].data.astype(bool)\n",
    "is_saturated = coadd_cat['is_saturated'].data.astype(bool)\n",
    "\n",
    "# remove all locations that are not inside the image. \n",
    "mag_cut = 23.5\n",
    "keep_frame = (pt > 0) & (pt < frame.shape[1]-1) & (pr > 0) & (pr < frame.shape[0]-1) & (~is_saturated)\n",
    "keep_mag = (~is_star & ((coadd_cat['devmag_r'] < mag_cut) | (coadd_cat['expmag_r'] < mag_cut))) \\\n",
    "| (is_star & (coadd_cat['psfmag_r']<mag_cut))\n",
    "keep = keep_frame & keep_mag\n",
    "pt = pt[keep]\n",
    "pr = pr[keep]\n",
    "is_star = is_star[keep]\n",
    "psf_mag = coadd_cat['psfmag_r'][keep]\n",
    "\n",
    "keep_frame = (pt_frame > 1) & (pt_frame < frame.shape[1]-1) & (pr_frame > 1) & (pr_frame < frame.shape[0]-1) & (frame_fits['PROB_PSF'][:, 2] > -1)\n",
    "pt_frame = pt_frame[keep_frame]\n",
    "pr_frame = pr_frame[keep_frame]\n",
    "is_star_frame = frame_fits['PROB_PSF'][:, 2][keep_frame].data.astype(bool)\n",
    "\n",
    "print(len(pt), len(pt_frame))"
   ]
  },
  {
   "cell_type": "code",
   "execution_count": 334,
   "id": "f2496489",
   "metadata": {
    "ExecuteTime": {
     "end_time": "2021-08-27T21:37:38.372948Z",
     "start_time": "2021-08-27T21:37:38.349401Z"
    }
   },
   "outputs": [],
   "source": [
    "# nelec_per_nmgy = sdss_data[0]['nelec_per_nmgy'].mean()\n",
    "# def convert_mag_to_flux(mag):\n",
    "#     return 10**((22.5 - mag) / 2.5) * nelec_per_nmgy\n",
    "\n",
    "# expmag = frame_fits['CMODELMAG'][:, 2]\n",
    "# expmag = expmag[expmag > 0]\n",
    "\n",
    "# # convert_mag_to_flux(expmag)\n",
    "\n",
    "\n",
    "# # Bryan min mag: 23 \n",
    "# # look at matches with coadd, look at the ones that it often matches. Make a single cut based on flux"
   ]
  },
  {
   "cell_type": "markdown",
   "id": "ed861d76",
   "metadata": {},
   "source": [
    "# Investigate Photo misclassifications on frame"
   ]
  },
  {
   "cell_type": "code",
   "execution_count": 335,
   "id": "9c625eb7",
   "metadata": {
    "ExecuteTime": {
     "end_time": "2021-08-27T21:37:39.844628Z",
     "start_time": "2021-08-27T21:37:39.791511Z"
    }
   },
   "outputs": [],
   "source": [
    "# at what magnitudes/sizes does it start to go wrong? for galaxies AND stars? \n",
    "from bliss.metrics import inner_join_locs\n",
    "\n",
    "plocs = torch.from_numpy(np.hstack((pt.reshape(-1, 1), pr.reshape(-1, 1))))\n",
    "plocs_frame = torch.from_numpy(np.hstack((pt_frame.reshape(-1, 1), pr_frame.reshape(-1, 1))))\n",
    "_plocs, _plocs_frame, row_indx, col_indx = inner_join_locs(plocs, plocs_frame)\n",
    "\n",
    "\n",
    "dist = (_plocs - _plocs_frame).abs().max(1)[0]\n",
    "dist_match = (dist < 1.).numpy().astype(bool)\n",
    "\n",
    "_is_galaxy = ~is_star[row_indx][dist_match]\n",
    "_is_galaxy_frame = ~is_star_frame[col_indx][dist_match]"
   ]
  },
  {
   "cell_type": "code",
   "execution_count": 336,
   "id": "150347c7",
   "metadata": {
    "ExecuteTime": {
     "end_time": "2021-08-27T21:37:40.348085Z",
     "start_time": "2021-08-27T21:37:40.317688Z"
    }
   },
   "outputs": [
    {
     "name": "stdout",
     "output_type": "stream",
     "text": [
      "precision: 0.550\n",
      "recall: 0.684\n",
      "f1: 0.610\n",
      "n_unmatched: 189\n",
      "\n",
      "[[226  46]\n",
      " [ 45 212]]\n"
     ]
    }
   ],
   "source": [
    "n_unmatched = max(0, len(plocs_frame) - len(plocs))\n",
    "get_aggregate_metrics(dist_match, _is_galaxy, _is_galaxy_frame, len(plocs), n_unmatched=n_unmatched)"
   ]
  },
  {
   "cell_type": "code",
   "execution_count": 278,
   "id": "67dfd0d9",
   "metadata": {
    "ExecuteTime": {
     "end_time": "2021-08-27T21:01:15.277284Z",
     "start_time": "2021-08-27T21:01:15.100020Z"
    }
   },
   "outputs": [
    {
     "data": {
      "text/plain": [
       "[<matplotlib.lines.Line2D at 0x7fe704fb7ee0>]"
      ]
     },
     "execution_count": 278,
     "metadata": {},
     "output_type": "execute_result"
    },
    {
     "data": {
      "image/png": "[encoded data removed]",
      "text/plain": [
       "<Figure size 432x288 with 1 Axes>"
      ]
     },
     "metadata": {
      "needs_background": "light"
     },
     "output_type": "display_data"
    }
   ],
   "source": [
    "# let's look only at stars\n",
    "_is_star = is_star[row_indx]\n",
    "_psf_mag = psf_mag[row_indx]\n",
    "\n",
    "\n",
    "# create plot of num of matches as a function of magnitude, cutoff detection threshold when \n",
    "# we need to bin detections by magnitudes\n",
    "mags = np.arange(15.0, 23, 0.25)\n",
    "n_matches_by_mag = np.array([sum(dist_match[_psf_mag > x])/len(dist_match[_psf_mag > x]) for x in mags])\n",
    "plt.plot(mags, n_matches_by_mag, linestyle='-', marker='o', color='r')"
   ]
  },
  {
   "cell_type": "markdown",
   "id": "intelligent-array",
   "metadata": {},
   "source": [
    "# Prepare model"
   ]
  },
  {
   "cell_type": "code",
   "execution_count": 21,
   "id": "6131658f",
   "metadata": {
    "ExecuteTime": {
     "end_time": "2021-09-01T13:28:58.260648Z",
     "start_time": "2021-09-01T13:28:58.226623Z"
    }
   },
   "outputs": [],
   "source": [
    "from bliss.models.binary import BinaryEncoder\n",
    "from bliss.models.galaxy_encoder import GalaxyEncoder\n",
    "from bliss.predict import prediction"
   ]
  },
  {
   "cell_type": "code",
   "execution_count": 34,
   "id": "9194b6ee",
   "metadata": {
    "ExecuteTime": {
     "end_time": "2021-09-01T13:37:01.824030Z",
     "start_time": "2021-09-01T13:37:01.610457Z"
    }
   },
   "outputs": [],
   "source": [
    "# prepare BLISS model \n",
    "sleep_file = '/home/imendoza/bliss/models/sdss_sleep.ckpt'\n",
    "galaxy_encoder_file = '/home/imendoza/bliss/models/galaxy_encoder_sdss.ckpt'\n",
    "binary_file = '/home/imendoza/bliss/models/sdss_binary.ckpt'\n",
    "\n",
    "\n",
    "# load models\n",
    "image_encoder= sleep.SleepPhase.load_from_checkpoint(sleep_file).image_encoder.to(device).eval()\n",
    "galaxy_encoder = GalaxyEncoder.load_from_checkpoint(galaxy_encoder_file).to(device).eval()\n",
    "binary_encoder = BinaryEncoder.load_from_checkpoint(binary_file).to(device).eval()"
   ]
  },
  {
   "cell_type": "markdown",
   "id": "0d808ca1",
   "metadata": {},
   "source": [
    "# Loop over chunks"
   ]
  },
  {
   "cell_type": "code",
   "execution_count": 35,
   "id": "43f98bb3",
   "metadata": {
    "ExecuteTime": {
     "end_time": "2021-09-01T13:37:24.666602Z",
     "start_time": "2021-09-01T13:37:04.853237Z"
    }
   },
   "outputs": [
    {
     "name": "stdout",
     "output_type": "stream",
     "text": [
      "0 0\n",
      "0 1\n",
      "0 2\n",
      "0 3\n",
      "1 0\n",
      "1 1\n",
      "1 2\n",
      "1 3\n",
      "2 0\n",
      "2 1\n",
      "2 2\n",
      "2 3\n",
      "3 0\n",
      "3 1\n",
      "3 2\n",
      "3 3\n",
      "4 0\n",
      "4 1\n",
      "4 2\n",
      "4 3\n",
      "5 0\n",
      "5 1\n",
      "5 2\n",
      "5 3\n"
     ]
    }
   ],
   "source": [
    "import copy\n",
    "\n",
    "h,w = frame.shape # full frame size.\n",
    "\n",
    "cp = image_encoder.border_padding # chunk padding \n",
    "clen = 300 # chunk slen (square).\n",
    "cplen = clen + cp*2 # padded chunk slen. \n",
    "\n",
    "ihic = h // clen # image height in chunks\n",
    "iwic = w // clen # image width in chunks\n",
    "\n",
    "locs = torch.tensor([])\n",
    "galaxy_bool = torch.tensor([])\n",
    "prob_galaxy = torch.tensor([])\n",
    "\n",
    "pt1 = copy.deepcopy(pt)\n",
    "pr1 = copy.deepcopy(pr)\n",
    "\n",
    "keep = np.zeros((len(pt1))).astype(bool)\n",
    "\n",
    "with torch.no_grad():\n",
    "    for i in range(iwic):\n",
    "        for j in range(ihic):\n",
    "            print(i,j)\n",
    "            x1,y1 = i*clen + cp, j*clen + cp\n",
    "            pchunk = frame[y1 - cp: y1 + clen + cp, x1 - cp: x1 + clen + cp]\n",
    "            assert pchunk.shape == (cplen, cplen)\n",
    "            pchunk = pchunk.astype(np.float32)\n",
    "            pchunk = torch.from_numpy(pchunk).to(device).reshape(1, 1, cplen, cplen)\n",
    "            \n",
    "            # get estimates with BLISS trained model. \n",
    "            _, tile_est, est_params = prediction(pchunk, image_encoder, binary_encoder=binary_encoder)\n",
    "            \n",
    "            _locs = est_params['locs'].cpu()\n",
    "            _galaxy_bool = est_params['galaxy_bool'].cpu().reshape(-1, 1)\n",
    "            _prob_galaxy = est_params['prob_galaxy'].cpu().reshape(-1)\n",
    "            \n",
    "            _locs = _locs.reshape(-1, 2)\n",
    "            x, y = _locs[:, 1].reshape(-1, 1), _locs[:, 0].reshape(-1, 1)\n",
    "            x = x*clen + x1 - 0.5 \n",
    "            y = y*clen + y1 - 0.5 # pixels, same format as pt,pr\n",
    "            locs1 = torch.hstack((x,y)).reshape(-1, 2).cpu()\n",
    "            locs  = torch.cat((locs, locs1))\n",
    "            \n",
    "            _galaxy_bool = _galaxy_bool.reshape(-1, 1)\n",
    "            galaxy_bool = torch.cat((galaxy_bool, _galaxy_bool))\n",
    "            \n",
    "            prob_galaxy = torch.cat((prob_galaxy, _prob_galaxy))\n",
    "            \n",
    "            # remove centroids from true photo in padding\n",
    "            keep1 = (pt1 > x1) & (pt1 < x1+clen) & (pr1 > y1) & (pr1 < y1+clen)\n",
    "            keep = keep | keep1\n",
    "\n",
    "            # delete extra stuff in GPU and clear cache for next iteration.\n",
    "            del pchunk\n",
    "            del tile_est\n",
    "            del est_params\n",
    "            torch.cuda.empty_cache()\n",
    "\n",
    "pt1, pr1 = pt1[keep], pr1[keep]\n",
    "is_star1 = is_star[keep]\n",
    "locs = locs.numpy()\n",
    "galaxy_bool = galaxy_bool.numpy()\n",
    "prob_galaxy = prob_galaxy.numpy()"
   ]
  },
  {
   "cell_type": "code",
   "execution_count": 36,
   "id": "61ff7161",
   "metadata": {
    "ExecuteTime": {
     "end_time": "2021-09-01T13:37:26.595232Z",
     "start_time": "2021-09-01T13:37:26.565228Z"
    }
   },
   "outputs": [
    {
     "name": "stdout",
     "output_type": "stream",
     "text": [
      "510 458\n"
     ]
    }
   ],
   "source": [
    "# how many objects are left? \n",
    "print(len(pt1), len(locs))"
   ]
  },
  {
   "cell_type": "markdown",
   "id": "0c9be7c7",
   "metadata": {},
   "source": [
    "# Match objects"
   ]
  },
  {
   "cell_type": "code",
   "execution_count": 40,
   "id": "ef7a66a7",
   "metadata": {
    "ExecuteTime": {
     "end_time": "2021-09-01T13:38:41.381466Z",
     "start_time": "2021-09-01T13:38:41.335203Z"
    }
   },
   "outputs": [],
   "source": [
    "from bliss.metrics import inner_join_locs\n",
    "\n",
    "_plocs = torch.from_numpy(np.hstack((pt1.reshape(-1, 1), pr1.reshape(-1, 1))))\n",
    "\n",
    "_locs = torch.from_numpy(locs)\n",
    "_galaxy_bool = torch.from_numpy(galaxy_bool)\n",
    "\n",
    "# do matching\n",
    "_plocs, _locs, row_indx, col_indx = inner_join_locs(_plocs, _locs)\n",
    "\n",
    "#only keep match if l_{inf} < 1 pixel away\n",
    "dist = (_plocs - _locs).abs().max(1)[0]\n",
    "dist_match = (dist < 1.).numpy().astype(bool)\n",
    "\n",
    "true_galaxy_bool = ~is_star1[row_indx].reshape(-1).astype(bool)\n",
    "pred_galaxy_bool = _galaxy_bool[col_indx].reshape(-1).numpy().astype(bool)\n",
    "\n",
    "_prob_galaxy = prob_galaxy[col_indx].reshape(-1)[dist_match]"
   ]
  },
  {
   "cell_type": "code",
   "execution_count": 41,
   "id": "890a55ba",
   "metadata": {
    "ExecuteTime": {
     "end_time": "2021-09-01T13:38:41.816137Z",
     "start_time": "2021-09-01T13:38:41.787075Z"
    }
   },
   "outputs": [],
   "source": [
    "# only check classification for objects that matched with a reasonable distance.\n",
    "true_galaxy_bool = true_galaxy_bool[dist_match]\n",
    "pred_galaxy_bool = pred_galaxy_bool[dist_match]\n",
    "misclass = true_galaxy_bool != pred_galaxy_bool"
   ]
  },
  {
   "cell_type": "markdown",
   "id": "1310bb2e",
   "metadata": {},
   "source": [
    "# Results"
   ]
  },
  {
   "cell_type": "code",
   "execution_count": 49,
   "id": "c9eb873c",
   "metadata": {
    "ExecuteTime": {
     "end_time": "2021-09-01T13:39:28.622284Z",
     "start_time": "2021-09-01T13:39:28.586747Z"
    }
   },
   "outputs": [
    {
     "name": "stdout",
     "output_type": "stream",
     "text": [
      "precision: 0.725\n",
      "recall: 0.651\n",
      "f1: 0.686\n",
      "n_unmatched: 0\n",
      "percentage misclassed: 18.67%\n",
      "\n",
      "[[127  31]\n",
      " [ 31 143]]\n"
     ]
    }
   ],
   "source": [
    "n_unmatched = max(0, len(locs) - len(pt1))\n",
    "get_aggregate_metrics(dist_match, true_galaxy_bool, pred_galaxy_bool, len(pt1), n_unmatched=n_unmatched)"
   ]
  },
  {
   "cell_type": "code",
   "execution_count": 296,
   "id": "2bd6c14e",
   "metadata": {
    "ExecuteTime": {
     "end_time": "2021-08-27T21:05:55.261747Z",
     "start_time": "2021-08-27T21:05:55.117757Z"
    }
   },
   "outputs": [
    {
     "data": {
      "image/png": "[encoded data removed]",
      "text/plain": [
       "<Figure size 432x288 with 1 Axes>"
      ]
     },
     "metadata": {
      "needs_background": "light"
     },
     "output_type": "display_data"
    }
   ],
   "source": [
    "# histogram of mse between matching locations \n",
    "%matplotlib inline\n",
    "plt.hist(dist.numpy(), bins=30, range=(0, 2.0), histtype='step');"
   ]
  },
  {
   "cell_type": "code",
   "execution_count": 297,
   "id": "075fc1c1",
   "metadata": {
    "ExecuteTime": {
     "end_time": "2021-08-27T21:05:56.019640Z",
     "start_time": "2021-08-27T21:05:55.907724Z"
    }
   },
   "outputs": [
    {
     "name": "stdout",
     "output_type": "stream",
     "text": [
      "ratio misclass with probability between 10%-90%: 0.339\n"
     ]
    },
    {
     "data": {
      "image/png": "[encoded data removed]",
      "text/plain": [
       "<Figure size 432x288 with 1 Axes>"
      ]
     },
     "metadata": {
      "needs_background": "light"
     },
     "output_type": "display_data"
    }
   ],
   "source": [
    "# scatter plot of miscclassification probs\n",
    "x = np.arange(len(_prob_galaxy))\n",
    "x1 = x[~misclass]\n",
    "x2 = x[misclass]\n",
    "probs_correct = _prob_galaxy[~misclass]\n",
    "probs_misclass = _prob_galaxy[misclass]\n",
    "plt.scatter(x1, probs_correct, marker='x', c='b')\n",
    "plt.scatter(x2, probs_misclass, marker='x', c='r')\n",
    "plt.axhline(0.5, linestyle='--')\n",
    "\n",
    "uncertain = (0.2 < _prob_galaxy[misclass]) & (_prob_galaxy[misclass] < 0.8)\n",
    "r_uncertain = sum(uncertain) / len(_prob_galaxy[misclass])\n",
    "print(f'ratio misclass with probability between 10%-90%: {r_uncertain:.3f}', )"
   ]
  }
 ],
 "metadata": {
  "kernelspec": {
   "display_name": "bliss-W0ocb7P7-py3.8",
   "language": "python",
   "name": "bliss-w0ocb7p7-py3.8"
  },
  "language_info": {
   "codemirror_mode": {
    "name": "ipython",
    "version": 3
   },
   "file_extension": ".py",
   "mimetype": "text/x-python",
   "name": "python",
   "nbconvert_exporter": "python",
   "pygments_lexer": "ipython3",
   "version": "3.8.10"
  },
  "toc": {
   "base_numbering": 1,
   "nav_menu": {},
   "number_sections": true,
   "sideBar": true,
   "skip_h1_title": false,
   "title_cell": "Table of Contents",
   "title_sidebar": "Contents",
   "toc_cell": false,
   "toc_position": {
    "height": "511.3043518066406px",
    "left": "58.991851806640625px",
    "top": "110.44837188720703px",
    "width": "165px"
   },
   "toc_section_display": true,
   "toc_window_display": true
  }
 },
 "nbformat": 4,
 "nbformat_minor": 5
}

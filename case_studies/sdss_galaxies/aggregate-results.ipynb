{
 "cells": [
  {
   "cell_type": "markdown",
   "id": "fff0899b",
   "metadata": {},
   "source": [
    "# Setup"
   ]
  },
  {
   "cell_type": "code",
   "execution_count": 1,
   "id": "c9334866",
   "metadata": {
    "ExecuteTime": {
     "end_time": "2021-10-19T20:14:10.264778Z",
     "start_time": "2021-10-19T20:14:10.253505Z"
    }
   },
   "outputs": [],
   "source": [
    "import os \n",
    "os.chdir('/home/imendoza/bliss')"
   ]
  },
  {
   "cell_type": "code",
   "execution_count": 2,
   "id": "b0413b12",
   "metadata": {
    "ExecuteTime": {
     "end_time": "2021-10-19T20:14:10.406782Z",
     "start_time": "2021-10-19T20:14:10.384867Z"
    }
   },
   "outputs": [
    {
     "name": "stdout",
     "output_type": "stream",
     "text": [
      "Modules to reload:\n",
      "all-except-skipped\n",
      "\n",
      "Modules to skip:\n",
      "\n"
     ]
    }
   ],
   "source": [
    "%load_ext autoreload\n",
    "%autoreload 2\n",
    "%aimport"
   ]
  },
  {
   "cell_type": "code",
   "execution_count": 3,
   "id": "e7123298",
   "metadata": {
    "ExecuteTime": {
     "end_time": "2021-10-19T20:14:10.819381Z",
     "start_time": "2021-10-19T20:14:10.542710Z"
    }
   },
   "outputs": [],
   "source": [
    "%matplotlib inline"
   ]
  },
  {
   "cell_type": "code",
   "execution_count": 61,
   "id": "d795944f",
   "metadata": {
    "ExecuteTime": {
     "end_time": "2021-10-19T21:48:55.587900Z",
     "start_time": "2021-10-19T21:48:55.548873Z"
    }
   },
   "outputs": [],
   "source": [
    "import matplotlib.pyplot as plt\n",
    "import sklearn\n",
    "import torch\n",
    "\n",
    "from bliss.datasets import sdss\n",
    "from bliss.reporting import add_extra_coadd_info, scene_metrics, plot_image, get_params_from_coadd\n",
    "from bliss.predict import predict_on_scene\n",
    "\n",
    "from astropy.table import Table"
   ]
  },
  {
   "cell_type": "code",
   "execution_count": 5,
   "id": "242d1d59",
   "metadata": {
    "ExecuteTime": {
     "end_time": "2021-10-19T20:14:12.431192Z",
     "start_time": "2021-10-19T20:14:12.412993Z"
    }
   },
   "outputs": [],
   "source": [
    "# where is the sdss data? \n",
    "sdss_dir = '/home/imendoza/bliss/data/sdss/'"
   ]
  },
  {
   "cell_type": "code",
   "execution_count": 6,
   "id": "606a057e",
   "metadata": {
    "ExecuteTime": {
     "end_time": "2021-10-19T20:14:13.567799Z",
     "start_time": "2021-10-19T20:14:12.432796Z"
    }
   },
   "outputs": [
    {
     "name": "stdout",
     "output_type": "stream",
     "text": [
      "1\r\n"
     ]
    }
   ],
   "source": [
    "# check GPU is configured correctly\n",
    "!export CUDA_VISIBLE_DEVICES=\"1\"\n",
    "device = torch.device('cuda:0')\n",
    "!echo $CUDA_VISIBLE_DEVICES"
   ]
  },
  {
   "cell_type": "markdown",
   "id": "fcae7dee",
   "metadata": {},
   "source": [
    "# Load data"
   ]
  },
  {
   "cell_type": "code",
   "execution_count": 7,
   "id": "ae341afa",
   "metadata": {
    "ExecuteTime": {
     "end_time": "2021-10-19T20:14:14.167276Z",
     "start_time": "2021-10-19T20:14:13.570172Z"
    }
   },
   "outputs": [
    {
     "name": "stdout",
     "output_type": "stream",
     "text": [
      "1489 2048\n"
     ]
    }
   ],
   "source": [
    "bp = 24\n",
    "clen = 300\n",
    "pixel_scale=0.396\n",
    "run = 94\n",
    "camcol = 1\n",
    "field = 12\n",
    "bands = (2,)\n",
    "sdss_data = sdss.SloanDigitalSkySurvey(\n",
    "    sdss_dir=sdss_dir,\n",
    "    run=run,\n",
    "    camcol=camcol,\n",
    "    fields=(field,),\n",
    "    bands=bands,\n",
    "    overwrite_cache=True,\n",
    "    overwrite_fits_cache=True,\n",
    ")\n",
    "\n",
    "wcs = sdss_data[0]['wcs'][0]\n",
    "nelec_per_nmgy = sdss_data[0]['nelec_per_nmgy'].mean()\n",
    "scene = sdss_data[0][\"image\"][0]\n",
    "h,w = scene.shape[-2], scene.shape[-1]\n",
    "print(h, w)"
   ]
  },
  {
   "cell_type": "code",
   "execution_count": 8,
   "id": "a79b0006",
   "metadata": {
    "ExecuteTime": {
     "end_time": "2021-10-19T20:14:14.242732Z",
     "start_time": "2021-10-19T20:14:14.168871Z"
    }
   },
   "outputs": [],
   "source": [
    "# load coadd catalog\n",
    "coadd_catalog_file = 'data/coadd_catalog_94_1_12.fits'\n",
    "psf_image_file = 'data/psField-000094-1-0012-PSF-image.npy'\n",
    "add_extra_coadd_info(coadd_catalog_file, psf_image_file, pixel_scale, wcs)"
   ]
  },
  {
   "cell_type": "code",
   "execution_count": 9,
   "id": "37e1bb40",
   "metadata": {
    "ExecuteTime": {
     "end_time": "2021-10-19T20:14:14.282544Z",
     "start_time": "2021-10-19T20:14:14.244576Z"
    }
   },
   "outputs": [],
   "source": [
    "coadd_cat = Table.read(coadd_catalog_file, format='fits')\n",
    "coadd_params = get_params_from_coadd(coadd_cat, h, w, bp)"
   ]
  },
  {
   "cell_type": "markdown",
   "id": "066cfa15",
   "metadata": {},
   "source": [
    "# Load models"
   ]
  },
  {
   "cell_type": "code",
   "execution_count": 11,
   "id": "4e9f74ab",
   "metadata": {
    "ExecuteTime": {
     "end_time": "2021-10-19T20:14:22.594618Z",
     "start_time": "2021-10-19T20:14:22.564968Z"
    }
   },
   "outputs": [],
   "source": [
    "from bliss.models.binary import BinaryEncoder\n",
    "from bliss.models.galaxy_encoder import GalaxyEncoder\n",
    "from bliss.sleep import SleepPhase"
   ]
  },
  {
   "cell_type": "code",
   "execution_count": 12,
   "id": "6a1c5e4b",
   "metadata": {
    "ExecuteTime": {
     "end_time": "2021-10-19T20:14:26.493378Z",
     "start_time": "2021-10-19T20:14:22.903953Z"
    }
   },
   "outputs": [],
   "source": [
    "# prepare BLISS model \n",
    "sleep_file = '/home/imendoza/bliss/models/sdss_sleep.ckpt'\n",
    "galaxy_encoder_file = '/home/imendoza/bliss/models/sdss_galaxy_encoder.ckpt'\n",
    "binary_file = '/home/imendoza/bliss/models/sdss_binary.ckpt'\n",
    "\n",
    "\n",
    "# load models\n",
    "sleep_net = SleepPhase.load_from_checkpoint(sleep_file).to('cpu')\n",
    "image_encoder= sleep_net.image_encoder.to(device).eval()\n",
    "binary_encoder = BinaryEncoder.load_from_checkpoint(binary_file).to(device).eval()\n",
    "galaxy_encoder = GalaxyEncoder.load_from_checkpoint(galaxy_encoder_file).to(device).eval()\n",
    "galaxy_decoder = sleep_net.image_decoder.galaxy_tile_decoder.galaxy_decoder.eval().to(device)"
   ]
  },
  {
   "cell_type": "markdown",
   "id": "ce593fb3",
   "metadata": {},
   "source": [
    "# Prediction"
   ]
  },
  {
   "cell_type": "code",
   "execution_count": 13,
   "id": "cb9edecd",
   "metadata": {
    "ExecuteTime": {
     "end_time": "2021-10-19T20:14:27.521416Z",
     "start_time": "2021-10-19T20:14:27.477095Z"
    }
   },
   "outputs": [],
   "source": [
    "torch.cuda.empty_cache()"
   ]
  },
  {
   "cell_type": "code",
   "execution_count": 14,
   "id": "8cf33430",
   "metadata": {
    "ExecuteTime": {
     "end_time": "2021-10-19T20:15:14.834603Z",
     "start_time": "2021-10-19T20:14:27.780293Z"
    },
    "collapsed": true
   },
   "outputs": [
    {
     "name": "stdout",
     "output_type": "stream",
     "text": [
      "7 5\n"
     ]
    },
    {
     "name": "stderr",
     "output_type": "stream",
     "text": [
      "\r",
      "  0%|                                                                                                                                                                                                | 0/35 [00:00<?, ?it/s]"
     ]
    },
    {
     "name": "stdout",
     "output_type": "stream",
     "text": [
      "0 0 24 24\n",
      "torch.Size([1, 1, 348, 348])\n",
      "300 300 5625\n"
     ]
    },
    {
     "name": "stderr",
     "output_type": "stream",
     "text": [
      "\r",
      "  3%|█████▎                                                                                                                                                                                  | 1/35 [00:01<00:49,  1.46s/it]"
     ]
    },
    {
     "name": "stdout",
     "output_type": "stream",
     "text": [
      "0 1 24 324\n",
      "torch.Size([1, 1, 348, 348])\n",
      "300 300 5625\n"
     ]
    },
    {
     "name": "stderr",
     "output_type": "stream",
     "text": [
      "\r",
      "  6%|██████████▌                                                                                                                                                                             | 2/35 [00:02<00:48,  1.46s/it]"
     ]
    },
    {
     "name": "stdout",
     "output_type": "stream",
     "text": [
      "0 2 24 624\n",
      "torch.Size([1, 1, 348, 348])\n",
      "300 300 5625\n"
     ]
    },
    {
     "name": "stderr",
     "output_type": "stream",
     "text": [
      "\r",
      "  9%|███████████████▊                                                                                                                                                                        | 3/35 [00:04<00:46,  1.46s/it]"
     ]
    },
    {
     "name": "stdout",
     "output_type": "stream",
     "text": [
      "0 3 24 924\n",
      "torch.Size([1, 1, 348, 348])\n",
      "300 300 5625\n"
     ]
    },
    {
     "name": "stderr",
     "output_type": "stream",
     "text": [
      "\r",
      " 11%|█████████████████████                                                                                                                                                                   | 4/35 [00:05<00:45,  1.46s/it]"
     ]
    },
    {
     "name": "stdout",
     "output_type": "stream",
     "text": [
      "0 4 24 1225\n",
      "torch.Size([1, 1, 288, 348])\n",
      "240 300 4500\n"
     ]
    },
    {
     "name": "stderr",
     "output_type": "stream",
     "text": [
      "\r",
      " 14%|██████████████████████████▎                                                                                                                                                             | 5/35 [00:07<00:40,  1.36s/it]"
     ]
    },
    {
     "name": "stdout",
     "output_type": "stream",
     "text": [
      "1 0 324 24\n",
      "torch.Size([1, 1, 348, 348])\n",
      "300 300 5625\n"
     ]
    },
    {
     "name": "stderr",
     "output_type": "stream",
     "text": [
      "\r",
      " 17%|███████████████████████████████▌                                                                                                                                                        | 6/35 [00:08<00:40,  1.39s/it]"
     ]
    },
    {
     "name": "stdout",
     "output_type": "stream",
     "text": [
      "1 1 324 324\n",
      "torch.Size([1, 1, 348, 348])\n",
      "300 300 5625\n"
     ]
    },
    {
     "name": "stderr",
     "output_type": "stream",
     "text": [
      "\r",
      " 20%|████████████████████████████████████▊                                                                                                                                                   | 7/35 [00:09<00:39,  1.41s/it]"
     ]
    },
    {
     "name": "stdout",
     "output_type": "stream",
     "text": [
      "1 2 324 624\n",
      "torch.Size([1, 1, 348, 348])\n",
      "300 300 5625\n"
     ]
    },
    {
     "name": "stderr",
     "output_type": "stream",
     "text": [
      "\r",
      " 23%|██████████████████████████████████████████                                                                                                                                              | 8/35 [00:11<00:38,  1.43s/it]"
     ]
    },
    {
     "name": "stdout",
     "output_type": "stream",
     "text": [
      "1 3 324 924\n",
      "torch.Size([1, 1, 348, 348])\n",
      "300 300 5625\n"
     ]
    },
    {
     "name": "stderr",
     "output_type": "stream",
     "text": [
      "\r",
      " 26%|███████████████████████████████████████████████▎                                                                                                                                        | 9/35 [00:12<00:37,  1.44s/it]"
     ]
    },
    {
     "name": "stdout",
     "output_type": "stream",
     "text": [
      "1 4 324 1225\n",
      "torch.Size([1, 1, 288, 348])\n",
      "240 300 4500\n"
     ]
    },
    {
     "name": "stderr",
     "output_type": "stream",
     "text": [
      "\r",
      " 29%|████████████████████████████████████████████████████▎                                                                                                                                  | 10/35 [00:14<00:33,  1.36s/it]"
     ]
    },
    {
     "name": "stdout",
     "output_type": "stream",
     "text": [
      "2 0 624 24\n",
      "torch.Size([1, 1, 348, 348])\n",
      "300 300 5625\n"
     ]
    },
    {
     "name": "stderr",
     "output_type": "stream",
     "text": [
      "\r",
      " 31%|█████████████████████████████████████████████████████████▌                                                                                                                             | 11/35 [00:15<00:33,  1.39s/it]"
     ]
    },
    {
     "name": "stdout",
     "output_type": "stream",
     "text": [
      "2 1 624 324\n",
      "torch.Size([1, 1, 348, 348])\n",
      "300 300 5625\n"
     ]
    },
    {
     "name": "stderr",
     "output_type": "stream",
     "text": [
      "\r",
      " 34%|██████████████████████████████████████████████████████████████▋                                                                                                                        | 12/35 [00:16<00:32,  1.41s/it]"
     ]
    },
    {
     "name": "stdout",
     "output_type": "stream",
     "text": [
      "2 2 624 624\n",
      "torch.Size([1, 1, 348, 348])\n",
      "300 300 5625\n"
     ]
    },
    {
     "name": "stderr",
     "output_type": "stream",
     "text": [
      "\r",
      " 37%|███████████████████████████████████████████████████████████████████▉                                                                                                                   | 13/35 [00:18<00:31,  1.42s/it]"
     ]
    },
    {
     "name": "stdout",
     "output_type": "stream",
     "text": [
      "2 3 624 924\n",
      "torch.Size([1, 1, 348, 348])\n",
      "300 300 5625\n"
     ]
    },
    {
     "name": "stderr",
     "output_type": "stream",
     "text": [
      "\r",
      " 40%|█████████████████████████████████████████████████████████████████████████▏                                                                                                             | 14/35 [00:19<00:30,  1.44s/it]"
     ]
    },
    {
     "name": "stdout",
     "output_type": "stream",
     "text": [
      "2 4 624 1225\n",
      "torch.Size([1, 1, 288, 348])\n",
      "240 300 4500\n"
     ]
    },
    {
     "name": "stderr",
     "output_type": "stream",
     "text": [
      "\r",
      " 43%|██████████████████████████████████████████████████████████████████████████████▍                                                                                                        | 15/35 [00:21<00:27,  1.36s/it]"
     ]
    },
    {
     "name": "stdout",
     "output_type": "stream",
     "text": [
      "3 0 924 24\n",
      "torch.Size([1, 1, 348, 348])\n",
      "300 300 5625\n"
     ]
    },
    {
     "name": "stderr",
     "output_type": "stream",
     "text": [
      "\r",
      " 46%|███████████████████████████████████████████████████████████████████████████████████▋                                                                                                   | 16/35 [00:22<00:26,  1.39s/it]"
     ]
    },
    {
     "name": "stdout",
     "output_type": "stream",
     "text": [
      "3 1 924 324\n",
      "torch.Size([1, 1, 348, 348])\n",
      "300 300 5625\n"
     ]
    },
    {
     "name": "stderr",
     "output_type": "stream",
     "text": [
      "\r",
      " 49%|████████████████████████████████████████████████████████████████████████████████████████▉                                                                                              | 17/35 [00:23<00:25,  1.41s/it]"
     ]
    },
    {
     "name": "stdout",
     "output_type": "stream",
     "text": [
      "3 2 924 624\n",
      "torch.Size([1, 1, 348, 348])\n",
      "300 300 5625\n"
     ]
    },
    {
     "name": "stderr",
     "output_type": "stream",
     "text": [
      "\r",
      " 51%|██████████████████████████████████████████████████████████████████████████████████████████████                                                                                         | 18/35 [00:25<00:24,  1.43s/it]"
     ]
    },
    {
     "name": "stdout",
     "output_type": "stream",
     "text": [
      "3 3 924 924\n",
      "torch.Size([1, 1, 348, 348])\n",
      "300 300 5625\n"
     ]
    },
    {
     "name": "stderr",
     "output_type": "stream",
     "text": [
      "\r",
      " 54%|███████████████████████████████████████████████████████████████████████████████████████████████████▎                                                                                   | 19/35 [00:26<00:22,  1.44s/it]"
     ]
    },
    {
     "name": "stdout",
     "output_type": "stream",
     "text": [
      "3 4 924 1225\n",
      "torch.Size([1, 1, 288, 348])\n",
      "240 300 4500\n"
     ]
    },
    {
     "name": "stderr",
     "output_type": "stream",
     "text": [
      "\r",
      " 57%|████████████████████████████████████████████████████████████████████████████████████████████████████████▌                                                                              | 20/35 [00:28<00:20,  1.36s/it]"
     ]
    },
    {
     "name": "stdout",
     "output_type": "stream",
     "text": [
      "4 0 1224 24\n",
      "torch.Size([1, 1, 348, 348])\n",
      "300 300 5625\n"
     ]
    },
    {
     "name": "stderr",
     "output_type": "stream",
     "text": [
      "\r",
      " 60%|█████████████████████████████████████████████████████████████████████████████████████████████████████████████▊                                                                         | 21/35 [00:29<00:19,  1.39s/it]"
     ]
    },
    {
     "name": "stdout",
     "output_type": "stream",
     "text": [
      "4 1 1224 324\n",
      "torch.Size([1, 1, 348, 348])\n",
      "300 300 5625\n"
     ]
    },
    {
     "name": "stderr",
     "output_type": "stream",
     "text": [
      "\r",
      " 63%|███████████████████████████████████████████████████████████████████████████████████████████████████████████████████                                                                    | 22/35 [00:31<00:18,  1.41s/it]"
     ]
    },
    {
     "name": "stdout",
     "output_type": "stream",
     "text": [
      "4 2 1224 624\n",
      "torch.Size([1, 1, 348, 348])\n",
      "300 300 5625\n"
     ]
    },
    {
     "name": "stderr",
     "output_type": "stream",
     "text": [
      "\r",
      " 66%|████████████████████████████████████████████████████████████████████████████████████████████████████████████████████████▎                                                              | 23/35 [00:32<00:17,  1.43s/it]"
     ]
    },
    {
     "name": "stdout",
     "output_type": "stream",
     "text": [
      "4 3 1224 924\n",
      "torch.Size([1, 1, 348, 348])\n",
      "300 300 5625\n"
     ]
    },
    {
     "name": "stderr",
     "output_type": "stream",
     "text": [
      "\r",
      " 69%|█████████████████████████████████████████████████████████████████████████████████████████████████████████████████████████████▍                                                         | 24/35 [00:33<00:15,  1.45s/it]"
     ]
    },
    {
     "name": "stdout",
     "output_type": "stream",
     "text": [
      "4 4 1224 1225\n",
      "torch.Size([1, 1, 288, 348])\n",
      "240 300 4500\n"
     ]
    },
    {
     "name": "stderr",
     "output_type": "stream",
     "text": [
      "\r",
      " 71%|██████████████████████████████████████████████████████████████████████████████████████████████████████████████████████████████████▋                                                    | 25/35 [00:35<00:13,  1.37s/it]"
     ]
    },
    {
     "name": "stdout",
     "output_type": "stream",
     "text": [
      "5 0 1524 24\n",
      "torch.Size([1, 1, 348, 348])\n",
      "300 300 5625\n"
     ]
    },
    {
     "name": "stderr",
     "output_type": "stream",
     "text": [
      "\r",
      " 74%|███████████████████████████████████████████████████████████████████████████████████████████████████████████████████████████████████████▉                                               | 26/35 [00:36<00:12,  1.40s/it]"
     ]
    },
    {
     "name": "stdout",
     "output_type": "stream",
     "text": [
      "5 1 1524 324\n",
      "torch.Size([1, 1, 348, 348])\n",
      "300 300 5625\n"
     ]
    },
    {
     "name": "stderr",
     "output_type": "stream",
     "text": [
      "\r",
      " 77%|█████████████████████████████████████████████████████████████████████████████████████████████████████████████████████████████████████████████▏                                         | 27/35 [00:38<00:11,  1.42s/it]"
     ]
    },
    {
     "name": "stdout",
     "output_type": "stream",
     "text": [
      "5 2 1524 624\n",
      "torch.Size([1, 1, 348, 348])\n",
      "300 300 5625\n"
     ]
    },
    {
     "name": "stderr",
     "output_type": "stream",
     "text": [
      "\r",
      " 80%|██████████████████████████████████████████████████████████████████████████████████████████████████████████████████████████████████████████████████▍                                    | 28/35 [00:39<00:10,  1.43s/it]"
     ]
    },
    {
     "name": "stdout",
     "output_type": "stream",
     "text": [
      "5 3 1524 924\n",
      "torch.Size([1, 1, 348, 348])\n",
      "300 300 5625\n"
     ]
    },
    {
     "name": "stderr",
     "output_type": "stream",
     "text": [
      "\r",
      " 83%|███████████████████████████████████████████████████████████████████████████████████████████████████████████████████████████████████████████████████████▋                               | 29/35 [00:41<00:08,  1.44s/it]"
     ]
    },
    {
     "name": "stdout",
     "output_type": "stream",
     "text": [
      "5 4 1524 1225\n",
      "torch.Size([1, 1, 288, 348])\n",
      "240 300 4500\n"
     ]
    },
    {
     "name": "stderr",
     "output_type": "stream",
     "text": [
      "\r",
      " 86%|████████████████████████████████████████████████████████████████████████████████████████████████████████████████████████████████████████████████████████████▊                          | 30/35 [00:42<00:06,  1.37s/it]"
     ]
    },
    {
     "name": "stdout",
     "output_type": "stream",
     "text": [
      "6 0 1824 24\n",
      "torch.Size([1, 1, 348, 248])\n",
      "300 200 3750\n"
     ]
    },
    {
     "name": "stderr",
     "output_type": "stream",
     "text": [
      "\r",
      " 89%|██████████████████████████████████████████████████████████████████████████████████████████████████████████████████████████████████████████████████████████████████                     | 31/35 [00:43<00:05,  1.26s/it]"
     ]
    },
    {
     "name": "stdout",
     "output_type": "stream",
     "text": [
      "6 1 1824 324\n",
      "torch.Size([1, 1, 348, 248])\n",
      "300 200 3750\n"
     ]
    },
    {
     "name": "stderr",
     "output_type": "stream",
     "text": [
      "\r",
      " 91%|███████████████████████████████████████████████████████████████████████████████████████████████████████████████████████████████████████████████████████████████████████▎               | 32/35 [00:44<00:03,  1.18s/it]"
     ]
    },
    {
     "name": "stdout",
     "output_type": "stream",
     "text": [
      "6 2 1824 624\n",
      "torch.Size([1, 1, 348, 248])\n",
      "300 200 3750\n"
     ]
    },
    {
     "name": "stderr",
     "output_type": "stream",
     "text": [
      "\r",
      " 94%|████████████████████████████████████████████████████████████████████████████████████████████████████████████████████████████████████████████████████████████████████████████▌          | 33/35 [00:45<00:02,  1.12s/it]"
     ]
    },
    {
     "name": "stdout",
     "output_type": "stream",
     "text": [
      "6 3 1824 924\n",
      "torch.Size([1, 1, 348, 248])\n",
      "300 200 3750\n"
     ]
    },
    {
     "name": "stderr",
     "output_type": "stream",
     "text": [
      "\r",
      " 97%|█████████████████████████████████████████████████████████████████████████████████████████████████████████████████████████████████████████████████████████████████████████████████▊     | 34/35 [00:46<00:01,  1.09s/it]"
     ]
    },
    {
     "name": "stdout",
     "output_type": "stream",
     "text": [
      "6 4 1824 1225\n",
      "torch.Size([1, 1, 288, 248])\n"
     ]
    },
    {
     "name": "stderr",
     "output_type": "stream",
     "text": [
      "100%|███████████████████████████████████████████████████████████████████████████████████████████████████████████████████████████████████████████████████████████████████████████████████████| 35/35 [00:47<00:00,  1.34s/it]"
     ]
    },
    {
     "name": "stdout",
     "output_type": "stream",
     "text": [
      "240 200 3000\n"
     ]
    },
    {
     "name": "stderr",
     "output_type": "stream",
     "text": [
      "\n"
     ]
    }
   ],
   "source": [
    "# predict using models \n",
    "\n",
    "clen = 300\n",
    "_scene = torch.from_numpy(scene).reshape(1, 1, h, w)\n",
    "_, est_params = predict_on_scene(clen, _scene, image_encoder, binary_encoder, \n",
    "                                 galaxy_encoder, galaxy_decoder, device) "
   ]
  },
  {
   "cell_type": "markdown",
   "id": "13fef3bd",
   "metadata": {
    "heading_collapsed": true
   },
   "source": [
    "## Check locations are sensible using plotly"
   ]
  },
  {
   "cell_type": "code",
   "execution_count": 25,
   "id": "5f7f29e7",
   "metadata": {
    "ExecuteTime": {
     "end_time": "2021-10-19T21:10:52.932284Z",
     "start_time": "2021-10-19T21:10:52.894123Z"
    },
    "hidden": true
   },
   "outputs": [],
   "source": [
    "# import plotly.express as px\n",
    "# import plotly.graph_objects as go\n",
    "\n",
    "# fig = px.imshow(scene, zmin=800, zmax=900)\n",
    "# fig.update_layout(width=800, height=800)\n",
    "# plocs = est_params['plocs'].cpu().numpy()\n",
    "# scatter_true = go.Scatter(name='coadd', x=coadd_params['x'], y=coadd_params['y'], mode='markers', marker=dict(color='blue', size=8, symbol='x'))\n",
    "# scatter_est = go.Scatter(name='estimate', x=plocs[:, 0], y=plocs[:, 1], mode='markers', marker=dict(color='red', size=9, symbol='circle'))\n",
    "\n",
    "# fig.add_trace(scatter_true)\n",
    "# fig.add_trace(scatter_est)\n",
    "# fig.show()"
   ]
  },
  {
   "cell_type": "markdown",
   "id": "2317dd6e",
   "metadata": {},
   "source": [
    "# Results"
   ]
  },
  {
   "cell_type": "code",
   "execution_count": 83,
   "id": "b7afc612",
   "metadata": {
    "ExecuteTime": {
     "end_time": "2021-10-19T22:00:00.811241Z",
     "start_time": "2021-10-19T22:00:00.750568Z"
    }
   },
   "outputs": [
    {
     "name": "stdout",
     "output_type": "stream",
     "text": [
      "1489 2048 24\n"
     ]
    },
    {
     "name": "stderr",
     "output_type": "stream",
     "text": [
      "/home/imendoza/.cache/pypoetry/virtualenvs/bliss-W0ocb7P7-py3.8/lib/python3.8/site-packages/torchmetrics/utilities/prints.py:36: UserWarning:\n",
      "\n",
      "The ``compute`` method of metric DetectionMetrics was called before the ``update`` method which may lead to errors, as metric states have not yet been updated.\n",
      "\n",
      "/home/imendoza/.cache/pypoetry/virtualenvs/bliss-W0ocb7P7-py3.8/lib/python3.8/site-packages/torchmetrics/utilities/prints.py:36: UserWarning:\n",
      "\n",
      "The ``compute`` method of metric ClassificationMetrics was called before the ``update`` method which may lead to errors, as metric states have not yet been updated.\n",
      "\n"
     ]
    },
    {
     "data": {
      "text/plain": [
       "{'precision': tensor(0.8361),\n",
       " 'recall': tensor(0.9000),\n",
       " 'f1': tensor(0.8669),\n",
       " 'class_acc': tensor(0.9333),\n",
       " 'conf_matrix': tensor([[ 5,  3],\n",
       "         [ 0, 37]])}"
      ]
     },
     "execution_count": 83,
     "metadata": {},
     "output_type": "execute_result"
    }
   ],
   "source": [
    "# max mag in est_params ~ 22.5\n",
    "print(h, w, bp)\n",
    "# extract 'true' parameters based on coadd catalog.\n",
    "coadd_params = get_params_from_coadd(coadd_cat, h, w, bp)\n",
    "scene_metrics(coadd_params, est_params, mag_cut=18, slack=1.0, mag_slack=0.5)"
   ]
  },
  {
   "cell_type": "markdown",
   "id": "22c13d8b",
   "metadata": {},
   "source": [
    "# Plot"
   ]
  },
  {
   "cell_type": "markdown",
   "id": "0ddb8031",
   "metadata": {},
   "source": [
    "## Collect for all magnitude bins"
   ]
  },
  {
   "cell_type": "code",
   "execution_count": 90,
   "id": "627e1bc5",
   "metadata": {
    "ExecuteTime": {
     "end_time": "2021-10-19T22:03:55.993295Z",
     "start_time": "2021-10-19T22:03:54.605060Z"
    },
    "collapsed": true
   },
   "outputs": [
    {
     "name": "stderr",
     "output_type": "stream",
     "text": [
      "/home/imendoza/.cache/pypoetry/virtualenvs/bliss-W0ocb7P7-py3.8/lib/python3.8/site-packages/torchmetrics/utilities/prints.py:36: UserWarning:\n",
      "\n",
      "The ``compute`` method of metric DetectionMetrics was called before the ``update`` method which may lead to errors, as metric states have not yet been updated.\n",
      "\n",
      "/home/imendoza/.cache/pypoetry/virtualenvs/bliss-W0ocb7P7-py3.8/lib/python3.8/site-packages/torchmetrics/utilities/prints.py:36: UserWarning:\n",
      "\n",
      "The ``compute`` method of metric ClassificationMetrics was called before the ``update`` method which may lead to errors, as metric states have not yet been updated.\n",
      "\n",
      "/home/imendoza/.cache/pypoetry/virtualenvs/bliss-W0ocb7P7-py3.8/lib/python3.8/site-packages/torchmetrics/utilities/prints.py:36: UserWarning:\n",
      "\n",
      "The ``compute`` method of metric DetectionMetrics was called before the ``update`` method which may lead to errors, as metric states have not yet been updated.\n",
      "\n",
      "/home/imendoza/.cache/pypoetry/virtualenvs/bliss-W0ocb7P7-py3.8/lib/python3.8/site-packages/torchmetrics/utilities/prints.py:36: UserWarning:\n",
      "\n",
      "The ``compute`` method of metric ClassificationMetrics was called before the ``update`` method which may lead to errors, as metric states have not yet been updated.\n",
      "\n",
      "/home/imendoza/.cache/pypoetry/virtualenvs/bliss-W0ocb7P7-py3.8/lib/python3.8/site-packages/torchmetrics/utilities/prints.py:36: UserWarning:\n",
      "\n",
      "The ``compute`` method of metric DetectionMetrics was called before the ``update`` method which may lead to errors, as metric states have not yet been updated.\n",
      "\n",
      "/home/imendoza/.cache/pypoetry/virtualenvs/bliss-W0ocb7P7-py3.8/lib/python3.8/site-packages/torchmetrics/utilities/prints.py:36: UserWarning:\n",
      "\n",
      "The ``compute`` method of metric ClassificationMetrics was called before the ``update`` method which may lead to errors, as metric states have not yet been updated.\n",
      "\n",
      "/home/imendoza/.cache/pypoetry/virtualenvs/bliss-W0ocb7P7-py3.8/lib/python3.8/site-packages/torchmetrics/utilities/prints.py:36: UserWarning:\n",
      "\n",
      "The ``compute`` method of metric DetectionMetrics was called before the ``update`` method which may lead to errors, as metric states have not yet been updated.\n",
      "\n",
      "/home/imendoza/.cache/pypoetry/virtualenvs/bliss-W0ocb7P7-py3.8/lib/python3.8/site-packages/torchmetrics/utilities/prints.py:36: UserWarning:\n",
      "\n",
      "The ``compute`` method of metric ClassificationMetrics was called before the ``update`` method which may lead to errors, as metric states have not yet been updated.\n",
      "\n",
      "/home/imendoza/.cache/pypoetry/virtualenvs/bliss-W0ocb7P7-py3.8/lib/python3.8/site-packages/torchmetrics/utilities/prints.py:36: UserWarning:\n",
      "\n",
      "The ``compute`` method of metric DetectionMetrics was called before the ``update`` method which may lead to errors, as metric states have not yet been updated.\n",
      "\n",
      "/home/imendoza/.cache/pypoetry/virtualenvs/bliss-W0ocb7P7-py3.8/lib/python3.8/site-packages/torchmetrics/utilities/prints.py:36: UserWarning:\n",
      "\n",
      "The ``compute`` method of metric ClassificationMetrics was called before the ``update`` method which may lead to errors, as metric states have not yet been updated.\n",
      "\n",
      "/home/imendoza/.cache/pypoetry/virtualenvs/bliss-W0ocb7P7-py3.8/lib/python3.8/site-packages/torchmetrics/utilities/prints.py:36: UserWarning:\n",
      "\n",
      "The ``compute`` method of metric DetectionMetrics was called before the ``update`` method which may lead to errors, as metric states have not yet been updated.\n",
      "\n",
      "/home/imendoza/.cache/pypoetry/virtualenvs/bliss-W0ocb7P7-py3.8/lib/python3.8/site-packages/torchmetrics/utilities/prints.py:36: UserWarning:\n",
      "\n",
      "The ``compute`` method of metric ClassificationMetrics was called before the ``update`` method which may lead to errors, as metric states have not yet been updated.\n",
      "\n",
      "/home/imendoza/.cache/pypoetry/virtualenvs/bliss-W0ocb7P7-py3.8/lib/python3.8/site-packages/torchmetrics/utilities/prints.py:36: UserWarning:\n",
      "\n",
      "The ``compute`` method of metric DetectionMetrics was called before the ``update`` method which may lead to errors, as metric states have not yet been updated.\n",
      "\n",
      "/home/imendoza/.cache/pypoetry/virtualenvs/bliss-W0ocb7P7-py3.8/lib/python3.8/site-packages/torchmetrics/utilities/prints.py:36: UserWarning:\n",
      "\n",
      "The ``compute`` method of metric ClassificationMetrics was called before the ``update`` method which may lead to errors, as metric states have not yet been updated.\n",
      "\n",
      "/home/imendoza/.cache/pypoetry/virtualenvs/bliss-W0ocb7P7-py3.8/lib/python3.8/site-packages/torchmetrics/utilities/prints.py:36: UserWarning:\n",
      "\n",
      "The ``compute`` method of metric DetectionMetrics was called before the ``update`` method which may lead to errors, as metric states have not yet been updated.\n",
      "\n",
      "/home/imendoza/.cache/pypoetry/virtualenvs/bliss-W0ocb7P7-py3.8/lib/python3.8/site-packages/torchmetrics/utilities/prints.py:36: UserWarning:\n",
      "\n",
      "The ``compute`` method of metric ClassificationMetrics was called before the ``update`` method which may lead to errors, as metric states have not yet been updated.\n",
      "\n",
      "/home/imendoza/.cache/pypoetry/virtualenvs/bliss-W0ocb7P7-py3.8/lib/python3.8/site-packages/torchmetrics/utilities/prints.py:36: UserWarning:\n",
      "\n",
      "The ``compute`` method of metric DetectionMetrics was called before the ``update`` method which may lead to errors, as metric states have not yet been updated.\n",
      "\n",
      "/home/imendoza/.cache/pypoetry/virtualenvs/bliss-W0ocb7P7-py3.8/lib/python3.8/site-packages/torchmetrics/utilities/prints.py:36: UserWarning:\n",
      "\n",
      "The ``compute`` method of metric ClassificationMetrics was called before the ``update`` method which may lead to errors, as metric states have not yet been updated.\n",
      "\n",
      "/home/imendoza/.cache/pypoetry/virtualenvs/bliss-W0ocb7P7-py3.8/lib/python3.8/site-packages/torchmetrics/utilities/prints.py:36: UserWarning:\n",
      "\n",
      "The ``compute`` method of metric DetectionMetrics was called before the ``update`` method which may lead to errors, as metric states have not yet been updated.\n",
      "\n",
      "/home/imendoza/.cache/pypoetry/virtualenvs/bliss-W0ocb7P7-py3.8/lib/python3.8/site-packages/torchmetrics/utilities/prints.py:36: UserWarning:\n",
      "\n",
      "The ``compute`` method of metric ClassificationMetrics was called before the ``update`` method which may lead to errors, as metric states have not yet been updated.\n",
      "\n",
      "/home/imendoza/.cache/pypoetry/virtualenvs/bliss-W0ocb7P7-py3.8/lib/python3.8/site-packages/torchmetrics/utilities/prints.py:36: UserWarning:\n",
      "\n",
      "The ``compute`` method of metric DetectionMetrics was called before the ``update`` method which may lead to errors, as metric states have not yet been updated.\n",
      "\n",
      "/home/imendoza/.cache/pypoetry/virtualenvs/bliss-W0ocb7P7-py3.8/lib/python3.8/site-packages/torchmetrics/utilities/prints.py:36: UserWarning:\n",
      "\n",
      "The ``compute`` method of metric ClassificationMetrics was called before the ``update`` method which may lead to errors, as metric states have not yet been updated.\n",
      "\n",
      "/home/imendoza/.cache/pypoetry/virtualenvs/bliss-W0ocb7P7-py3.8/lib/python3.8/site-packages/torchmetrics/utilities/prints.py:36: UserWarning:\n",
      "\n",
      "The ``compute`` method of metric DetectionMetrics was called before the ``update`` method which may lead to errors, as metric states have not yet been updated.\n",
      "\n",
      "/home/imendoza/.cache/pypoetry/virtualenvs/bliss-W0ocb7P7-py3.8/lib/python3.8/site-packages/torchmetrics/utilities/prints.py:36: UserWarning:\n",
      "\n",
      "The ``compute`` method of metric ClassificationMetrics was called before the ``update`` method which may lead to errors, as metric states have not yet been updated.\n",
      "\n",
      "/home/imendoza/.cache/pypoetry/virtualenvs/bliss-W0ocb7P7-py3.8/lib/python3.8/site-packages/torchmetrics/utilities/prints.py:36: UserWarning:\n",
      "\n",
      "The ``compute`` method of metric DetectionMetrics was called before the ``update`` method which may lead to errors, as metric states have not yet been updated.\n",
      "\n",
      "/home/imendoza/.cache/pypoetry/virtualenvs/bliss-W0ocb7P7-py3.8/lib/python3.8/site-packages/torchmetrics/utilities/prints.py:36: UserWarning:\n",
      "\n",
      "The ``compute`` method of metric ClassificationMetrics was called before the ``update`` method which may lead to errors, as metric states have not yet been updated.\n",
      "\n",
      "/home/imendoza/.cache/pypoetry/virtualenvs/bliss-W0ocb7P7-py3.8/lib/python3.8/site-packages/torchmetrics/utilities/prints.py:36: UserWarning:\n",
      "\n",
      "The ``compute`` method of metric DetectionMetrics was called before the ``update`` method which may lead to errors, as metric states have not yet been updated.\n",
      "\n",
      "/home/imendoza/.cache/pypoetry/virtualenvs/bliss-W0ocb7P7-py3.8/lib/python3.8/site-packages/torchmetrics/utilities/prints.py:36: UserWarning:\n",
      "\n",
      "The ``compute`` method of metric ClassificationMetrics was called before the ``update`` method which may lead to errors, as metric states have not yet been updated.\n",
      "\n",
      "/home/imendoza/.cache/pypoetry/virtualenvs/bliss-W0ocb7P7-py3.8/lib/python3.8/site-packages/torchmetrics/utilities/prints.py:36: UserWarning:\n",
      "\n",
      "The ``compute`` method of metric DetectionMetrics was called before the ``update`` method which may lead to errors, as metric states have not yet been updated.\n",
      "\n",
      "/home/imendoza/.cache/pypoetry/virtualenvs/bliss-W0ocb7P7-py3.8/lib/python3.8/site-packages/torchmetrics/utilities/prints.py:36: UserWarning:\n",
      "\n",
      "The ``compute`` method of metric ClassificationMetrics was called before the ``update`` method which may lead to errors, as metric states have not yet been updated.\n",
      "\n",
      "/home/imendoza/.cache/pypoetry/virtualenvs/bliss-W0ocb7P7-py3.8/lib/python3.8/site-packages/torchmetrics/utilities/prints.py:36: UserWarning:\n",
      "\n",
      "The ``compute`` method of metric DetectionMetrics was called before the ``update`` method which may lead to errors, as metric states have not yet been updated.\n",
      "\n",
      "/home/imendoza/.cache/pypoetry/virtualenvs/bliss-W0ocb7P7-py3.8/lib/python3.8/site-packages/torchmetrics/utilities/prints.py:36: UserWarning:\n",
      "\n",
      "The ``compute`` method of metric ClassificationMetrics was called before the ``update`` method which may lead to errors, as metric states have not yet been updated.\n",
      "\n",
      "/home/imendoza/.cache/pypoetry/virtualenvs/bliss-W0ocb7P7-py3.8/lib/python3.8/site-packages/torchmetrics/utilities/prints.py:36: UserWarning:\n",
      "\n",
      "The ``compute`` method of metric DetectionMetrics was called before the ``update`` method which may lead to errors, as metric states have not yet been updated.\n",
      "\n",
      "/home/imendoza/.cache/pypoetry/virtualenvs/bliss-W0ocb7P7-py3.8/lib/python3.8/site-packages/torchmetrics/utilities/prints.py:36: UserWarning:\n",
      "\n",
      "The ``compute`` method of metric ClassificationMetrics was called before the ``update`` method which may lead to errors, as metric states have not yet been updated.\n",
      "\n",
      "/home/imendoza/.cache/pypoetry/virtualenvs/bliss-W0ocb7P7-py3.8/lib/python3.8/site-packages/torchmetrics/utilities/prints.py:36: UserWarning:\n",
      "\n",
      "The ``compute`` method of metric DetectionMetrics was called before the ``update`` method which may lead to errors, as metric states have not yet been updated.\n",
      "\n",
      "/home/imendoza/.cache/pypoetry/virtualenvs/bliss-W0ocb7P7-py3.8/lib/python3.8/site-packages/torchmetrics/utilities/prints.py:36: UserWarning:\n",
      "\n",
      "The ``compute`` method of metric ClassificationMetrics was called before the ``update`` method which may lead to errors, as metric states have not yet been updated.\n",
      "\n",
      "/home/imendoza/.cache/pypoetry/virtualenvs/bliss-W0ocb7P7-py3.8/lib/python3.8/site-packages/torchmetrics/utilities/prints.py:36: UserWarning:\n",
      "\n",
      "The ``compute`` method of metric DetectionMetrics was called before the ``update`` method which may lead to errors, as metric states have not yet been updated.\n",
      "\n",
      "/home/imendoza/.cache/pypoetry/virtualenvs/bliss-W0ocb7P7-py3.8/lib/python3.8/site-packages/torchmetrics/utilities/prints.py:36: UserWarning:\n",
      "\n",
      "The ``compute`` method of metric ClassificationMetrics was called before the ``update`` method which may lead to errors, as metric states have not yet been updated.\n",
      "\n",
      "/home/imendoza/.cache/pypoetry/virtualenvs/bliss-W0ocb7P7-py3.8/lib/python3.8/site-packages/torchmetrics/utilities/prints.py:36: UserWarning:\n",
      "\n",
      "The ``compute`` method of metric DetectionMetrics was called before the ``update`` method which may lead to errors, as metric states have not yet been updated.\n",
      "\n",
      "/home/imendoza/.cache/pypoetry/virtualenvs/bliss-W0ocb7P7-py3.8/lib/python3.8/site-packages/torchmetrics/utilities/prints.py:36: UserWarning:\n",
      "\n",
      "The ``compute`` method of metric ClassificationMetrics was called before the ``update`` method which may lead to errors, as metric states have not yet been updated.\n",
      "\n",
      "/home/imendoza/.cache/pypoetry/virtualenvs/bliss-W0ocb7P7-py3.8/lib/python3.8/site-packages/torchmetrics/utilities/prints.py:36: UserWarning:\n",
      "\n",
      "The ``compute`` method of metric DetectionMetrics was called before the ``update`` method which may lead to errors, as metric states have not yet been updated.\n",
      "\n",
      "/home/imendoza/.cache/pypoetry/virtualenvs/bliss-W0ocb7P7-py3.8/lib/python3.8/site-packages/torchmetrics/utilities/prints.py:36: UserWarning:\n",
      "\n",
      "The ``compute`` method of metric ClassificationMetrics was called before the ``update`` method which may lead to errors, as metric states have not yet been updated.\n",
      "\n"
     ]
    },
    {
     "name": "stderr",
     "output_type": "stream",
     "text": [
      "/home/imendoza/.cache/pypoetry/virtualenvs/bliss-W0ocb7P7-py3.8/lib/python3.8/site-packages/torchmetrics/utilities/prints.py:36: UserWarning:\n",
      "\n",
      "The ``compute`` method of metric DetectionMetrics was called before the ``update`` method which may lead to errors, as metric states have not yet been updated.\n",
      "\n",
      "/home/imendoza/.cache/pypoetry/virtualenvs/bliss-W0ocb7P7-py3.8/lib/python3.8/site-packages/torchmetrics/utilities/prints.py:36: UserWarning:\n",
      "\n",
      "The ``compute`` method of metric ClassificationMetrics was called before the ``update`` method which may lead to errors, as metric states have not yet been updated.\n",
      "\n",
      "/home/imendoza/.cache/pypoetry/virtualenvs/bliss-W0ocb7P7-py3.8/lib/python3.8/site-packages/torchmetrics/utilities/prints.py:36: UserWarning:\n",
      "\n",
      "The ``compute`` method of metric DetectionMetrics was called before the ``update`` method which may lead to errors, as metric states have not yet been updated.\n",
      "\n",
      "/home/imendoza/.cache/pypoetry/virtualenvs/bliss-W0ocb7P7-py3.8/lib/python3.8/site-packages/torchmetrics/utilities/prints.py:36: UserWarning:\n",
      "\n",
      "The ``compute`` method of metric ClassificationMetrics was called before the ``update`` method which may lead to errors, as metric states have not yet been updated.\n",
      "\n",
      "/home/imendoza/.cache/pypoetry/virtualenvs/bliss-W0ocb7P7-py3.8/lib/python3.8/site-packages/torchmetrics/utilities/prints.py:36: UserWarning:\n",
      "\n",
      "The ``compute`` method of metric DetectionMetrics was called before the ``update`` method which may lead to errors, as metric states have not yet been updated.\n",
      "\n",
      "/home/imendoza/.cache/pypoetry/virtualenvs/bliss-W0ocb7P7-py3.8/lib/python3.8/site-packages/torchmetrics/utilities/prints.py:36: UserWarning:\n",
      "\n",
      "The ``compute`` method of metric ClassificationMetrics was called before the ``update`` method which may lead to errors, as metric states have not yet been updated.\n",
      "\n",
      "/home/imendoza/.cache/pypoetry/virtualenvs/bliss-W0ocb7P7-py3.8/lib/python3.8/site-packages/torchmetrics/utilities/prints.py:36: UserWarning:\n",
      "\n",
      "The ``compute`` method of metric DetectionMetrics was called before the ``update`` method which may lead to errors, as metric states have not yet been updated.\n",
      "\n",
      "/home/imendoza/.cache/pypoetry/virtualenvs/bliss-W0ocb7P7-py3.8/lib/python3.8/site-packages/torchmetrics/utilities/prints.py:36: UserWarning:\n",
      "\n",
      "The ``compute`` method of metric ClassificationMetrics was called before the ``update`` method which may lead to errors, as metric states have not yet been updated.\n",
      "\n",
      "/home/imendoza/.cache/pypoetry/virtualenvs/bliss-W0ocb7P7-py3.8/lib/python3.8/site-packages/torchmetrics/utilities/prints.py:36: UserWarning:\n",
      "\n",
      "The ``compute`` method of metric DetectionMetrics was called before the ``update`` method which may lead to errors, as metric states have not yet been updated.\n",
      "\n",
      "/home/imendoza/.cache/pypoetry/virtualenvs/bliss-W0ocb7P7-py3.8/lib/python3.8/site-packages/torchmetrics/utilities/prints.py:36: UserWarning:\n",
      "\n",
      "The ``compute`` method of metric ClassificationMetrics was called before the ``update`` method which may lead to errors, as metric states have not yet been updated.\n",
      "\n",
      "/home/imendoza/.cache/pypoetry/virtualenvs/bliss-W0ocb7P7-py3.8/lib/python3.8/site-packages/torchmetrics/utilities/prints.py:36: UserWarning:\n",
      "\n",
      "The ``compute`` method of metric DetectionMetrics was called before the ``update`` method which may lead to errors, as metric states have not yet been updated.\n",
      "\n",
      "/home/imendoza/.cache/pypoetry/virtualenvs/bliss-W0ocb7P7-py3.8/lib/python3.8/site-packages/torchmetrics/utilities/prints.py:36: UserWarning:\n",
      "\n",
      "The ``compute`` method of metric ClassificationMetrics was called before the ``update`` method which may lead to errors, as metric states have not yet been updated.\n",
      "\n",
      "/home/imendoza/.cache/pypoetry/virtualenvs/bliss-W0ocb7P7-py3.8/lib/python3.8/site-packages/torchmetrics/utilities/prints.py:36: UserWarning:\n",
      "\n",
      "The ``compute`` method of metric DetectionMetrics was called before the ``update`` method which may lead to errors, as metric states have not yet been updated.\n",
      "\n",
      "/home/imendoza/.cache/pypoetry/virtualenvs/bliss-W0ocb7P7-py3.8/lib/python3.8/site-packages/torchmetrics/utilities/prints.py:36: UserWarning:\n",
      "\n",
      "The ``compute`` method of metric ClassificationMetrics was called before the ``update`` method which may lead to errors, as metric states have not yet been updated.\n",
      "\n",
      "/home/imendoza/.cache/pypoetry/virtualenvs/bliss-W0ocb7P7-py3.8/lib/python3.8/site-packages/torchmetrics/utilities/prints.py:36: UserWarning:\n",
      "\n",
      "The ``compute`` method of metric DetectionMetrics was called before the ``update`` method which may lead to errors, as metric states have not yet been updated.\n",
      "\n",
      "/home/imendoza/.cache/pypoetry/virtualenvs/bliss-W0ocb7P7-py3.8/lib/python3.8/site-packages/torchmetrics/utilities/prints.py:36: UserWarning:\n",
      "\n",
      "The ``compute`` method of metric ClassificationMetrics was called before the ``update`` method which may lead to errors, as metric states have not yet been updated.\n",
      "\n",
      "/home/imendoza/.cache/pypoetry/virtualenvs/bliss-W0ocb7P7-py3.8/lib/python3.8/site-packages/torchmetrics/utilities/prints.py:36: UserWarning:\n",
      "\n",
      "The ``compute`` method of metric DetectionMetrics was called before the ``update`` method which may lead to errors, as metric states have not yet been updated.\n",
      "\n",
      "/home/imendoza/.cache/pypoetry/virtualenvs/bliss-W0ocb7P7-py3.8/lib/python3.8/site-packages/torchmetrics/utilities/prints.py:36: UserWarning:\n",
      "\n",
      "The ``compute`` method of metric ClassificationMetrics was called before the ``update`` method which may lead to errors, as metric states have not yet been updated.\n",
      "\n",
      "/home/imendoza/.cache/pypoetry/virtualenvs/bliss-W0ocb7P7-py3.8/lib/python3.8/site-packages/torchmetrics/utilities/prints.py:36: UserWarning:\n",
      "\n",
      "The ``compute`` method of metric DetectionMetrics was called before the ``update`` method which may lead to errors, as metric states have not yet been updated.\n",
      "\n",
      "/home/imendoza/.cache/pypoetry/virtualenvs/bliss-W0ocb7P7-py3.8/lib/python3.8/site-packages/torchmetrics/utilities/prints.py:36: UserWarning:\n",
      "\n",
      "The ``compute`` method of metric ClassificationMetrics was called before the ``update`` method which may lead to errors, as metric states have not yet been updated.\n",
      "\n",
      "/home/imendoza/.cache/pypoetry/virtualenvs/bliss-W0ocb7P7-py3.8/lib/python3.8/site-packages/torchmetrics/utilities/prints.py:36: UserWarning:\n",
      "\n",
      "The ``compute`` method of metric DetectionMetrics was called before the ``update`` method which may lead to errors, as metric states have not yet been updated.\n",
      "\n",
      "/home/imendoza/.cache/pypoetry/virtualenvs/bliss-W0ocb7P7-py3.8/lib/python3.8/site-packages/torchmetrics/utilities/prints.py:36: UserWarning:\n",
      "\n",
      "The ``compute`` method of metric ClassificationMetrics was called before the ``update`` method which may lead to errors, as metric states have not yet been updated.\n",
      "\n",
      "/home/imendoza/.cache/pypoetry/virtualenvs/bliss-W0ocb7P7-py3.8/lib/python3.8/site-packages/torchmetrics/utilities/prints.py:36: UserWarning:\n",
      "\n",
      "The ``compute`` method of metric DetectionMetrics was called before the ``update`` method which may lead to errors, as metric states have not yet been updated.\n",
      "\n",
      "/home/imendoza/.cache/pypoetry/virtualenvs/bliss-W0ocb7P7-py3.8/lib/python3.8/site-packages/torchmetrics/utilities/prints.py:36: UserWarning:\n",
      "\n",
      "The ``compute`` method of metric ClassificationMetrics was called before the ``update`` method which may lead to errors, as metric states have not yet been updated.\n",
      "\n",
      "/home/imendoza/.cache/pypoetry/virtualenvs/bliss-W0ocb7P7-py3.8/lib/python3.8/site-packages/torchmetrics/utilities/prints.py:36: UserWarning:\n",
      "\n",
      "The ``compute`` method of metric DetectionMetrics was called before the ``update`` method which may lead to errors, as metric states have not yet been updated.\n",
      "\n",
      "/home/imendoza/.cache/pypoetry/virtualenvs/bliss-W0ocb7P7-py3.8/lib/python3.8/site-packages/torchmetrics/utilities/prints.py:36: UserWarning:\n",
      "\n",
      "The ``compute`` method of metric ClassificationMetrics was called before the ``update`` method which may lead to errors, as metric states have not yet been updated.\n",
      "\n",
      "/home/imendoza/.cache/pypoetry/virtualenvs/bliss-W0ocb7P7-py3.8/lib/python3.8/site-packages/torchmetrics/utilities/prints.py:36: UserWarning:\n",
      "\n",
      "The ``compute`` method of metric DetectionMetrics was called before the ``update`` method which may lead to errors, as metric states have not yet been updated.\n",
      "\n",
      "/home/imendoza/.cache/pypoetry/virtualenvs/bliss-W0ocb7P7-py3.8/lib/python3.8/site-packages/torchmetrics/utilities/prints.py:36: UserWarning:\n",
      "\n",
      "The ``compute`` method of metric ClassificationMetrics was called before the ``update`` method which may lead to errors, as metric states have not yet been updated.\n",
      "\n",
      "/home/imendoza/.cache/pypoetry/virtualenvs/bliss-W0ocb7P7-py3.8/lib/python3.8/site-packages/torchmetrics/utilities/prints.py:36: UserWarning:\n",
      "\n",
      "The ``compute`` method of metric DetectionMetrics was called before the ``update`` method which may lead to errors, as metric states have not yet been updated.\n",
      "\n",
      "/home/imendoza/.cache/pypoetry/virtualenvs/bliss-W0ocb7P7-py3.8/lib/python3.8/site-packages/torchmetrics/utilities/prints.py:36: UserWarning:\n",
      "\n",
      "The ``compute`` method of metric ClassificationMetrics was called before the ``update`` method which may lead to errors, as metric states have not yet been updated.\n",
      "\n",
      "/home/imendoza/.cache/pypoetry/virtualenvs/bliss-W0ocb7P7-py3.8/lib/python3.8/site-packages/torchmetrics/utilities/prints.py:36: UserWarning:\n",
      "\n",
      "The ``compute`` method of metric DetectionMetrics was called before the ``update`` method which may lead to errors, as metric states have not yet been updated.\n",
      "\n",
      "/home/imendoza/.cache/pypoetry/virtualenvs/bliss-W0ocb7P7-py3.8/lib/python3.8/site-packages/torchmetrics/utilities/prints.py:36: UserWarning:\n",
      "\n",
      "The ``compute`` method of metric ClassificationMetrics was called before the ``update`` method which may lead to errors, as metric states have not yet been updated.\n",
      "\n",
      "/home/imendoza/.cache/pypoetry/virtualenvs/bliss-W0ocb7P7-py3.8/lib/python3.8/site-packages/torchmetrics/utilities/prints.py:36: UserWarning:\n",
      "\n",
      "The ``compute`` method of metric DetectionMetrics was called before the ``update`` method which may lead to errors, as metric states have not yet been updated.\n",
      "\n"
     ]
    },
    {
     "name": "stderr",
     "output_type": "stream",
     "text": [
      "/home/imendoza/.cache/pypoetry/virtualenvs/bliss-W0ocb7P7-py3.8/lib/python3.8/site-packages/torchmetrics/utilities/prints.py:36: UserWarning:\n",
      "\n",
      "The ``compute`` method of metric ClassificationMetrics was called before the ``update`` method which may lead to errors, as metric states have not yet been updated.\n",
      "\n",
      "/home/imendoza/.cache/pypoetry/virtualenvs/bliss-W0ocb7P7-py3.8/lib/python3.8/site-packages/torchmetrics/utilities/prints.py:36: UserWarning:\n",
      "\n",
      "The ``compute`` method of metric DetectionMetrics was called before the ``update`` method which may lead to errors, as metric states have not yet been updated.\n",
      "\n",
      "/home/imendoza/.cache/pypoetry/virtualenvs/bliss-W0ocb7P7-py3.8/lib/python3.8/site-packages/torchmetrics/utilities/prints.py:36: UserWarning:\n",
      "\n",
      "The ``compute`` method of metric ClassificationMetrics was called before the ``update`` method which may lead to errors, as metric states have not yet been updated.\n",
      "\n",
      "/home/imendoza/.cache/pypoetry/virtualenvs/bliss-W0ocb7P7-py3.8/lib/python3.8/site-packages/torchmetrics/utilities/prints.py:36: UserWarning:\n",
      "\n",
      "The ``compute`` method of metric DetectionMetrics was called before the ``update`` method which may lead to errors, as metric states have not yet been updated.\n",
      "\n",
      "/home/imendoza/.cache/pypoetry/virtualenvs/bliss-W0ocb7P7-py3.8/lib/python3.8/site-packages/torchmetrics/utilities/prints.py:36: UserWarning:\n",
      "\n",
      "The ``compute`` method of metric ClassificationMetrics was called before the ``update`` method which may lead to errors, as metric states have not yet been updated.\n",
      "\n",
      "/home/imendoza/.cache/pypoetry/virtualenvs/bliss-W0ocb7P7-py3.8/lib/python3.8/site-packages/torchmetrics/utilities/prints.py:36: UserWarning:\n",
      "\n",
      "The ``compute`` method of metric DetectionMetrics was called before the ``update`` method which may lead to errors, as metric states have not yet been updated.\n",
      "\n",
      "/home/imendoza/.cache/pypoetry/virtualenvs/bliss-W0ocb7P7-py3.8/lib/python3.8/site-packages/torchmetrics/utilities/prints.py:36: UserWarning:\n",
      "\n",
      "The ``compute`` method of metric ClassificationMetrics was called before the ``update`` method which may lead to errors, as metric states have not yet been updated.\n",
      "\n",
      "/home/imendoza/.cache/pypoetry/virtualenvs/bliss-W0ocb7P7-py3.8/lib/python3.8/site-packages/torchmetrics/utilities/prints.py:36: UserWarning:\n",
      "\n",
      "The ``compute`` method of metric DetectionMetrics was called before the ``update`` method which may lead to errors, as metric states have not yet been updated.\n",
      "\n",
      "/home/imendoza/.cache/pypoetry/virtualenvs/bliss-W0ocb7P7-py3.8/lib/python3.8/site-packages/torchmetrics/utilities/prints.py:36: UserWarning:\n",
      "\n",
      "The ``compute`` method of metric ClassificationMetrics was called before the ``update`` method which may lead to errors, as metric states have not yet been updated.\n",
      "\n",
      "/home/imendoza/.cache/pypoetry/virtualenvs/bliss-W0ocb7P7-py3.8/lib/python3.8/site-packages/torchmetrics/utilities/prints.py:36: UserWarning:\n",
      "\n",
      "The ``compute`` method of metric DetectionMetrics was called before the ``update`` method which may lead to errors, as metric states have not yet been updated.\n",
      "\n",
      "/home/imendoza/.cache/pypoetry/virtualenvs/bliss-W0ocb7P7-py3.8/lib/python3.8/site-packages/torchmetrics/utilities/prints.py:36: UserWarning:\n",
      "\n",
      "The ``compute`` method of metric ClassificationMetrics was called before the ``update`` method which may lead to errors, as metric states have not yet been updated.\n",
      "\n",
      "/home/imendoza/.cache/pypoetry/virtualenvs/bliss-W0ocb7P7-py3.8/lib/python3.8/site-packages/torchmetrics/utilities/prints.py:36: UserWarning:\n",
      "\n",
      "The ``compute`` method of metric DetectionMetrics was called before the ``update`` method which may lead to errors, as metric states have not yet been updated.\n",
      "\n",
      "/home/imendoza/.cache/pypoetry/virtualenvs/bliss-W0ocb7P7-py3.8/lib/python3.8/site-packages/torchmetrics/utilities/prints.py:36: UserWarning:\n",
      "\n",
      "The ``compute`` method of metric ClassificationMetrics was called before the ``update`` method which may lead to errors, as metric states have not yet been updated.\n",
      "\n",
      "/home/imendoza/.cache/pypoetry/virtualenvs/bliss-W0ocb7P7-py3.8/lib/python3.8/site-packages/torchmetrics/utilities/prints.py:36: UserWarning:\n",
      "\n",
      "The ``compute`` method of metric DetectionMetrics was called before the ``update`` method which may lead to errors, as metric states have not yet been updated.\n",
      "\n",
      "/home/imendoza/.cache/pypoetry/virtualenvs/bliss-W0ocb7P7-py3.8/lib/python3.8/site-packages/torchmetrics/utilities/prints.py:36: UserWarning:\n",
      "\n",
      "The ``compute`` method of metric ClassificationMetrics was called before the ``update`` method which may lead to errors, as metric states have not yet been updated.\n",
      "\n",
      "/home/imendoza/.cache/pypoetry/virtualenvs/bliss-W0ocb7P7-py3.8/lib/python3.8/site-packages/torchmetrics/utilities/prints.py:36: UserWarning:\n",
      "\n",
      "The ``compute`` method of metric DetectionMetrics was called before the ``update`` method which may lead to errors, as metric states have not yet been updated.\n",
      "\n",
      "/home/imendoza/.cache/pypoetry/virtualenvs/bliss-W0ocb7P7-py3.8/lib/python3.8/site-packages/torchmetrics/utilities/prints.py:36: UserWarning:\n",
      "\n",
      "The ``compute`` method of metric ClassificationMetrics was called before the ``update`` method which may lead to errors, as metric states have not yet been updated.\n",
      "\n",
      "/home/imendoza/.cache/pypoetry/virtualenvs/bliss-W0ocb7P7-py3.8/lib/python3.8/site-packages/torchmetrics/utilities/prints.py:36: UserWarning:\n",
      "\n",
      "The ``compute`` method of metric DetectionMetrics was called before the ``update`` method which may lead to errors, as metric states have not yet been updated.\n",
      "\n",
      "/home/imendoza/.cache/pypoetry/virtualenvs/bliss-W0ocb7P7-py3.8/lib/python3.8/site-packages/torchmetrics/utilities/prints.py:36: UserWarning:\n",
      "\n",
      "The ``compute`` method of metric ClassificationMetrics was called before the ``update`` method which may lead to errors, as metric states have not yet been updated.\n",
      "\n",
      "/home/imendoza/.cache/pypoetry/virtualenvs/bliss-W0ocb7P7-py3.8/lib/python3.8/site-packages/torchmetrics/utilities/prints.py:36: UserWarning:\n",
      "\n",
      "The ``compute`` method of metric DetectionMetrics was called before the ``update`` method which may lead to errors, as metric states have not yet been updated.\n",
      "\n",
      "/home/imendoza/.cache/pypoetry/virtualenvs/bliss-W0ocb7P7-py3.8/lib/python3.8/site-packages/torchmetrics/utilities/prints.py:36: UserWarning:\n",
      "\n",
      "The ``compute`` method of metric ClassificationMetrics was called before the ``update`` method which may lead to errors, as metric states have not yet been updated.\n",
      "\n",
      "/home/imendoza/.cache/pypoetry/virtualenvs/bliss-W0ocb7P7-py3.8/lib/python3.8/site-packages/torchmetrics/utilities/prints.py:36: UserWarning:\n",
      "\n",
      "The ``compute`` method of metric DetectionMetrics was called before the ``update`` method which may lead to errors, as metric states have not yet been updated.\n",
      "\n",
      "/home/imendoza/.cache/pypoetry/virtualenvs/bliss-W0ocb7P7-py3.8/lib/python3.8/site-packages/torchmetrics/utilities/prints.py:36: UserWarning:\n",
      "\n",
      "The ``compute`` method of metric ClassificationMetrics was called before the ``update`` method which may lead to errors, as metric states have not yet been updated.\n",
      "\n",
      "/home/imendoza/.cache/pypoetry/virtualenvs/bliss-W0ocb7P7-py3.8/lib/python3.8/site-packages/torchmetrics/utilities/prints.py:36: UserWarning:\n",
      "\n",
      "The ``compute`` method of metric DetectionMetrics was called before the ``update`` method which may lead to errors, as metric states have not yet been updated.\n",
      "\n",
      "/home/imendoza/.cache/pypoetry/virtualenvs/bliss-W0ocb7P7-py3.8/lib/python3.8/site-packages/torchmetrics/utilities/prints.py:36: UserWarning:\n",
      "\n",
      "The ``compute`` method of metric ClassificationMetrics was called before the ``update`` method which may lead to errors, as metric states have not yet been updated.\n",
      "\n"
     ]
    }
   ],
   "source": [
    "mag_bins = np.arange(18, 23, 0.1) #skip 23\n",
    "precisions = [] \n",
    "recalls = []\n",
    "class_accs = [] \n",
    "for mag in mag_bins: \n",
    "    res = scene_metrics(coadd_params, est_params, mag_cut=mag, slack=1.0, mag_slack=0.5)\n",
    "    precisions.append(res['precision'].item())\n",
    "    recalls.append(res['recall'].item())\n",
    "    class_accs.append(res['class_acc'].item())"
   ]
  },
  {
   "cell_type": "markdown",
   "id": "affac581",
   "metadata": {},
   "source": [
    "## lineplot"
   ]
  },
  {
   "cell_type": "code",
   "execution_count": 111,
   "id": "c8cdc28b",
   "metadata": {
    "ExecuteTime": {
     "end_time": "2021-10-19T22:14:16.212559Z",
     "start_time": "2021-10-19T22:14:16.169677Z"
    }
   },
   "outputs": [],
   "source": [
    "import seaborn as sns\n",
    "from plot_defaults import set_rc_params, format_plot, CB_color_cycle\n",
    "sns.set_theme(style=\"darkgrid\")\n",
    "set_rc_params()"
   ]
  },
  {
   "cell_type": "code",
   "execution_count": 115,
   "id": "86115bb7",
   "metadata": {
    "ExecuteTime": {
     "end_time": "2021-10-19T22:15:39.169225Z",
     "start_time": "2021-10-19T22:15:38.375332Z"
    }
   },
   "outputs": [
    {
     "data": {
      "text/plain": [
       "<matplotlib.legend.Legend at 0x7f0e7bbfbdf0>"
      ]
     },
     "execution_count": 115,
     "metadata": {},
     "output_type": "execute_result"
    },
    {
     "data": {
      "image/png": "[encoded data removed]",
      "text/plain": [
       "<Figure size 504x504 with 1 Axes>"
      ]
     },
     "metadata": {},
     "output_type": "display_data"
    }
   ],
   "source": [
    "f, ax = plt.subplots(1, 1, figsize=(7, 7))\n",
    "format_plot(ax, xlabel=r'\\rm magnitude cut', ylabel=r'value of metric')\n",
    "ax.plot(mag_bins, recalls, label=r'\\rm recall')\n",
    "ax.plot(mag_bins, precisions, label=r'\\rm precision')\n",
    "ax.plot(mag_bins, class_accs, label=r'\\rm classification accuracy')\n",
    "ax.legend()"
   ]
  },
  {
   "cell_type": "code",
   "execution_count": 100,
   "id": "52c99c17",
   "metadata": {
    "ExecuteTime": {
     "end_time": "2021-10-19T22:10:04.124709Z",
     "start_time": "2021-10-19T22:10:04.075750Z"
    }
   },
   "outputs": [],
   "source": [
    "sns.lineplot?"
   ]
  },
  {
   "cell_type": "code",
   "execution_count": 121,
   "id": "3f08ee1e",
   "metadata": {
    "ExecuteTime": {
     "end_time": "2021-10-19T22:19:13.972823Z",
     "start_time": "2021-10-19T22:19:12.625977Z"
    }
   },
   "outputs": [
    {
     "data": {
      "text/plain": [
       "Text(0.5, 0, 'true mag.')"
      ]
     },
     "execution_count": 121,
     "metadata": {},
     "output_type": "execute_result"
    },
    {
     "data": {
      "image/png": "[encoded data removed]",
      "text/plain": [
       "<Figure size 432x288 with 1 Axes>"
      ]
     },
     "metadata": {
      "needs_background": "light"
     },
     "output_type": "display_data"
    }
   ],
   "source": [
    "%matplotlib inline\n",
    "plt.hist(coadd_params['mag'].numpy(), bins=15, range=(14, 23))\n",
    "plt.xlabel('true mag.', size=18)"
   ]
  },
  {
   "cell_type": "code",
   "execution_count": 122,
   "id": "16ada6be",
   "metadata": {
    "ExecuteTime": {
     "end_time": "2021-10-19T22:19:51.742703Z",
     "start_time": "2021-10-19T22:19:51.073393Z"
    }
   },
   "outputs": [
    {
     "data": {
      "text/plain": [
       "Text(0.5, 0, 'est mag.')"
      ]
     },
     "execution_count": 122,
     "metadata": {},
     "output_type": "execute_result"
    },
    {
     "data": {
      "image/png": "[encoded data removed]",
      "text/plain": [
       "<Figure size 432x288 with 1 Axes>"
      ]
     },
     "metadata": {
      "needs_background": "light"
     },
     "output_type": "display_data"
    }
   ],
   "source": [
    "%matplotlib inline\n",
    "plt.hist(est_params['mag'].numpy(), bins=15, range=(14, 23))\n",
    "plt.xlabel('est mag.', size=18)"
   ]
  },
  {
   "cell_type": "code",
   "execution_count": null,
   "id": "564bb815",
   "metadata": {},
   "outputs": [],
   "source": []
  }
 ],
 "metadata": {
  "kernelspec": {
   "display_name": "bliss-W0ocb7P7-py3.8",
   "language": "python",
   "name": "bliss-w0ocb7p7-py3.8"
  },
  "language_info": {
   "codemirror_mode": {
    "name": "ipython",
    "version": 3
   },
   "file_extension": ".py",
   "mimetype": "text/x-python",
   "name": "python",
   "nbconvert_exporter": "python",
   "pygments_lexer": "ipython3",
   "version": "3.8.10"
  },
  "toc": {
   "base_numbering": 1,
   "nav_menu": {},
   "number_sections": true,
   "sideBar": true,
   "skip_h1_title": false,
   "title_cell": "Table of Contents",
   "title_sidebar": "Contents",
   "toc_cell": false,
   "toc_position": {
    "height": "511.3043518066406px",
    "left": "58.991851806640625px",
    "top": "110.44837188720703px",
    "width": "165px"
   },
   "toc_section_display": true,
   "toc_window_display": true
  }
 },
 "nbformat": 4,
 "nbformat_minor": 5
}

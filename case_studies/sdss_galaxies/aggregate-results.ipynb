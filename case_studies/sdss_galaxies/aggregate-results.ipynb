{
 "cells": [
  {
   "cell_type": "markdown",
   "id": "incorporate-compact",
   "metadata": {},
   "source": [
    "# Setup"
   ]
  },
  {
   "cell_type": "code",
   "execution_count": 2,
   "id": "palestinian-variance",
   "metadata": {
    "ExecuteTime": {
     "end_time": "2021-07-29T19:21:11.132851Z",
     "start_time": "2021-07-29T19:21:11.108914Z"
    }
   },
   "outputs": [
    {
     "name": "stdout",
     "output_type": "stream",
     "text": [
      "Modules to reload:\n",
      "all-except-skipped\n",
      "\n",
      "Modules to skip:\n",
      "\n"
     ]
    }
   ],
   "source": [
    "%load_ext autoreload\n",
    "%autoreload 2\n",
    "%aimport"
   ]
  },
  {
   "cell_type": "code",
   "execution_count": 3,
   "id": "basic-baking",
   "metadata": {
    "ExecuteTime": {
     "end_time": "2021-07-29T19:21:12.217161Z",
     "start_time": "2021-07-29T19:21:11.307766Z"
    }
   },
   "outputs": [],
   "source": [
    "from sparse_field_lib import load_data"
   ]
  },
  {
   "cell_type": "code",
   "execution_count": 4,
   "id": "neither-contest",
   "metadata": {
    "ExecuteTime": {
     "end_time": "2021-07-29T19:21:12.913953Z",
     "start_time": "2021-07-29T19:21:12.219365Z"
    }
   },
   "outputs": [],
   "source": [
    "import matplotlib.pyplot as plt\n",
    "import sklearn\n",
    "import torch\n",
    "\n",
    "from bliss.datasets import sdss\n",
    "from bliss.models import encoder, decoder\n",
    "from bliss import sleep\n",
    "\n",
    "from astropy.table import Table"
   ]
  },
  {
   "cell_type": "code",
   "execution_count": 5,
   "id": "1274b4fc",
   "metadata": {
    "ExecuteTime": {
     "end_time": "2021-07-29T19:21:13.179033Z",
     "start_time": "2021-07-29T19:21:12.915247Z"
    }
   },
   "outputs": [],
   "source": [
    "import ipywidgets as widgets\n",
    "from ipywidgets import interact, interactive, fixed, interact_manual\n",
    "\n",
    "import plotly.express as px\n",
    "import plotly.graph_objects as go"
   ]
  },
  {
   "cell_type": "code",
   "execution_count": 6,
   "id": "completed-wright",
   "metadata": {
    "ExecuteTime": {
     "end_time": "2021-07-29T19:21:13.197326Z",
     "start_time": "2021-07-29T19:21:13.180740Z"
    }
   },
   "outputs": [],
   "source": [
    "# where is the sdss data? \n",
    "sdss_dir = '/home/imendoza/bliss/data/sdss/'"
   ]
  },
  {
   "cell_type": "code",
   "execution_count": 7,
   "id": "saving-wisconsin",
   "metadata": {
    "ExecuteTime": {
     "end_time": "2021-07-29T19:21:13.775927Z",
     "start_time": "2021-07-29T19:21:13.198520Z"
    }
   },
   "outputs": [
    {
     "name": "stdout",
     "output_type": "stream",
     "text": [
      "5\r\n"
     ]
    }
   ],
   "source": [
    "# check GPU is configured correctly\n",
    "device = torch.device('cuda:0')\n",
    "!echo $CUDA_VISIBLE_DEVICES"
   ]
  },
  {
   "cell_type": "markdown",
   "id": "ffa77e08",
   "metadata": {},
   "source": [
    "## Utility Functions"
   ]
  },
  {
   "cell_type": "code",
   "execution_count": 8,
   "id": "48b71d04",
   "metadata": {
    "ExecuteTime": {
     "end_time": "2021-07-29T19:21:20.275480Z",
     "start_time": "2021-07-29T19:21:20.236981Z"
    }
   },
   "outputs": [],
   "source": [
    "from mpl_toolkits.axes_grid1 import make_axes_locatable\n",
    "\n",
    "\n",
    "def imshow_cbar(fig, ax, image, vmin=None, vmax=None, s=20): \n",
    "    divider = make_axes_locatable(ax)\n",
    "    cax = divider.append_axes(\"right\", size=\"5%\", pad=0.05)\n",
    "    im = ax.imshow(image, vmin=vmin, vmax=vmax)\n",
    "    cbar = fig.colorbar(im, cax=cax, orientation=\"vertical\")\n",
    "    cbar.ax.tick_params(labelsize=s)"
   ]
  },
  {
   "cell_type": "markdown",
   "id": "hundred-consideration",
   "metadata": {},
   "source": [
    "# Load data"
   ]
  },
  {
   "cell_type": "code",
   "execution_count": 9,
   "id": "ultimate-allah",
   "metadata": {
    "ExecuteTime": {
     "end_time": "2021-07-29T19:21:21.916278Z",
     "start_time": "2021-07-29T19:21:21.737879Z"
    }
   },
   "outputs": [],
   "source": [
    "sdss_data = sdss.SloanDigitalSkySurvey(\n",
    "    sdss_dir=sdss_dir,\n",
    "    run=94,\n",
    "    camcol=1,\n",
    "    fields=(12,),\n",
    "    bands=range(5),\n",
    "    overwrite_cache=True,\n",
    "    overwrite_fits_cache=True,\n",
    ")"
   ]
  },
  {
   "cell_type": "code",
   "execution_count": 10,
   "id": "jewish-dinner",
   "metadata": {
    "ExecuteTime": {
     "end_time": "2021-07-29T19:21:22.939879Z",
     "start_time": "2021-07-29T19:21:22.326685Z"
    }
   },
   "outputs": [
    {
     "name": "stdout",
     "output_type": "stream",
     "text": [
      "# objects detected by photo on frame:  999\n",
      "# objects detected by photo on coadd:  901\n",
      "(1489, 2048)\n"
     ]
    },
    {
     "name": "stderr",
     "output_type": "stream",
     "text": [
      "WARNING: FITSFixedWarning: RADECSYS= 'ICRS ' / International Celestial Ref. System \n",
      "the RADECSYS keyword is deprecated, use RADESYSa. [astropy.wcs.wcs]\n",
      "WARNING: FITSFixedWarning: 'datfix' made the change 'Set MJD-OBS to 51075.000000 from DATE-OBS.\n",
      "Changed DATE-OBS from '19/09/98' to '1998-09-19''. [astropy.wcs.wcs]\n"
     ]
    }
   ],
   "source": [
    "frame, fits_file, wcs_list, sdss_data = load_data(sdss_dir=sdss_dir)\n",
    "frame_fits = Table(sdss_data[0]['po_fits'])\n",
    "print(\"# objects detected by photo on frame: \", len(frame_fits))\n",
    "print(\"# objects detected by photo on coadd: \", len(fits_file['ra'][:]))\n",
    "frame = frame[0].numpy()\n",
    "print(frame.shape)"
   ]
  },
  {
   "cell_type": "code",
   "execution_count": 11,
   "id": "executive-bangladesh",
   "metadata": {
    "ExecuteTime": {
     "end_time": "2021-07-29T19:21:23.086473Z",
     "start_time": "2021-07-29T19:21:23.059128Z"
    }
   },
   "outputs": [],
   "source": [
    "wcs = wcs_list[0]\n",
    "pt, pr = wcs.all_world2pix(fits_file['ra'][:], fits_file['dec'][:], 0)\n",
    "pt_frame, pr_frame = wcs.all_world2pix(frame_fits['RA'].reshape(-1), frame_fits['DEC'].reshape(-1), 0)\n",
    "is_star = fits_file['probpsf'][:].astype(bool)\n",
    "\n",
    "# remove all locations that are not inside the image. \n",
    "keep = (pt > 0) & (pt < frame.shape[1]-1) & (pr > 0) & (pr < frame.shape[0]-1)\n",
    "pt = pt[keep]\n",
    "pr = pr[keep]\n",
    "is_star = is_star[keep]\n",
    "\n",
    "keep_frame = (pt_frame > 1) & (pt_frame < frame.shape[1]-1) & (pr_frame > 1) & (pr_frame < frame.shape[0]-1)\n",
    "pt_frame = pt_frame[keep_frame]\n",
    "pr_frame = pr_frame[keep_frame]"
   ]
  },
  {
   "cell_type": "markdown",
   "id": "intelligent-array",
   "metadata": {},
   "source": [
    "# Prepare model"
   ]
  },
  {
   "cell_type": "code",
   "execution_count": 12,
   "id": "6131658f",
   "metadata": {
    "ExecuteTime": {
     "end_time": "2021-07-29T19:21:23.951852Z",
     "start_time": "2021-07-29T19:21:23.928259Z"
    }
   },
   "outputs": [],
   "source": [
    "from bliss.models.galaxy_encoder import GalaxyEncoder\n",
    "from bliss.predict import prediction"
   ]
  },
  {
   "cell_type": "code",
   "execution_count": 16,
   "id": "9194b6ee",
   "metadata": {
    "ExecuteTime": {
     "end_time": "2021-07-29T19:21:52.978560Z",
     "start_time": "2021-07-29T19:21:52.796595Z"
    }
   },
   "outputs": [
    {
     "name": "stdout",
     "output_type": "stream",
     "text": [
      "False False\n"
     ]
    }
   ],
   "source": [
    "# prepare BLISS model \n",
    "sleep_file = '/home/imendoza/bliss/models/sleep_sdss.ckpt'\n",
    "galaxy_encoder_file = '/home/imendoza/bliss/models/galaxy_encoder_sdss.ckpt'\n",
    "sleep_net= sleep.SleepPhase.load_from_checkpoint(sleep_file).to(device)\n",
    "galaxy_encoder = GalaxyEncoder.load_from_checkpoint(galaxy_encoder_file).to(device)\n",
    "\n",
    "# turn on eval mode!\n",
    "sleep_net.eval()\n",
    "image_encoder = sleep_net.image_encoder.eval()\n",
    "galaxy_encoder = galaxy_encoder.eval()\n",
    "\n",
    "print(image_encoder.training, galaxy_encoder.training)"
   ]
  },
  {
   "cell_type": "markdown",
   "id": "0d808ca1",
   "metadata": {},
   "source": [
    "# Loop over chunks"
   ]
  },
  {
   "cell_type": "code",
   "execution_count": 17,
   "id": "43f98bb3",
   "metadata": {
    "ExecuteTime": {
     "end_time": "2021-07-29T19:22:15.357355Z",
     "start_time": "2021-07-29T19:21:59.443256Z"
    }
   },
   "outputs": [
    {
     "name": "stdout",
     "output_type": "stream",
     "text": [
      "0 0\n",
      "0 1\n",
      "0 2\n",
      "0 3\n",
      "1 0\n",
      "1 1\n",
      "1 2\n",
      "1 3\n",
      "2 0\n",
      "2 1\n",
      "2 2\n",
      "2 3\n",
      "3 0\n",
      "3 1\n",
      "3 2\n",
      "3 3\n",
      "4 0\n",
      "4 1\n",
      "4 2\n",
      "4 3\n",
      "5 0\n",
      "5 1\n",
      "5 2\n",
      "5 3\n"
     ]
    }
   ],
   "source": [
    "import copy\n",
    "\n",
    "h,w = frame.shape # full frame size.\n",
    "\n",
    "cp = image_encoder.border_padding # chunk padding \n",
    "clen = 300 # chunk slen (square).\n",
    "cplen = clen + cp*2 # padded chunk slen. \n",
    "\n",
    "ihic = h // clen # image height in chunks\n",
    "iwic = w // clen # image width in chunks\n",
    "\n",
    "locs = torch.tensor([])\n",
    "galaxy_bool = torch.tensor([])\n",
    "\n",
    "pt1 = copy.deepcopy(pt)\n",
    "pr1 = copy.deepcopy(pr)\n",
    "\n",
    "keep = np.zeros((len(pt1))).astype(bool)\n",
    "\n",
    "with torch.no_grad():\n",
    "    for i in range(iwic):\n",
    "        for j in range(ihic):\n",
    "            print(i,j)\n",
    "            x1,y1 = i*clen + cp, j*clen + cp\n",
    "            pchunk = frame[y1 - cp: y1 + clen + cp, x1 - cp: x1 + clen + cp]\n",
    "            assert pchunk.shape == (cplen, cplen)\n",
    "            pchunk = pchunk.astype(np.float32)\n",
    "            pchunk = torch.from_numpy(pchunk).to(device).reshape(1, 1, cplen, cplen)\n",
    "            \n",
    "            # get estimates with BLISS trained model. \n",
    "            _, tile_est, est_params = prediction(pchunk, image_encoder, galaxy_encoder)\n",
    "            \n",
    "            _locs = est_params['locs'].cpu()\n",
    "            _galaxy_bool = est_params['galaxy_bool'].cpu().reshape(-1, 1)\n",
    "            \n",
    "            _locs = _locs.reshape(-1, 2)\n",
    "            x, y = _locs[:, 1].reshape(-1, 1), _locs[:, 0].reshape(-1, 1)\n",
    "            x = x*clen + x1 - 0.5 \n",
    "            y = y*clen + y1 - 0.5 # pixels, same format as pt,pr\n",
    "            locs1 = torch.hstack((x,y)).reshape(-1, 2).cpu()\n",
    "            locs  = torch.cat((locs, locs1))\n",
    "            \n",
    "            _galaxy_bool = _galaxy_bool.reshape(-1, 1)\n",
    "            galaxy_bool = torch.cat((galaxy_bool, _galaxy_bool))\n",
    "            \n",
    "            # remove centroids from true photo in padding\n",
    "            keep1 = (pt1 > x1) & (pt1 < x1+clen) & (pr > y1) & (pr < y1+clen)\n",
    "            keep = keep | keep1\n",
    "\n",
    "            # delete extra stuff in GPU and clear cache for next iteration.\n",
    "            del pchunk\n",
    "            del tile_est\n",
    "            del est_params\n",
    "            torch.cuda.empty_cache()\n",
    "\n",
    "pt1, pr1 = pt1[keep], pr1[keep]\n",
    "is_star1 = is_star[keep]\n",
    "locs = locs.numpy()\n",
    "galaxy_bool = galaxy_bool.numpy()"
   ]
  },
  {
   "cell_type": "code",
   "execution_count": 18,
   "id": "61ff7161",
   "metadata": {
    "ExecuteTime": {
     "end_time": "2021-07-29T19:22:16.428992Z",
     "start_time": "2021-07-29T19:22:16.397827Z"
    }
   },
   "outputs": [
    {
     "name": "stdout",
     "output_type": "stream",
     "text": [
      "536 553\n"
     ]
    }
   ],
   "source": [
    "# how many objects are left? \n",
    "print(len(pt1), len(locs))"
   ]
  },
  {
   "cell_type": "markdown",
   "id": "0c9be7c7",
   "metadata": {},
   "source": [
    "# Match objects"
   ]
  },
  {
   "cell_type": "code",
   "execution_count": 19,
   "id": "ef7a66a7",
   "metadata": {
    "ExecuteTime": {
     "end_time": "2021-07-29T19:22:54.950567Z",
     "start_time": "2021-07-29T19:22:54.843106Z"
    }
   },
   "outputs": [],
   "source": [
    "from bliss.metrics import inner_join_locs\n",
    "_plocs = torch.from_numpy(np.hstack((pt1.reshape(-1, 1), pr1.reshape(-1, 1))))\n",
    "_locs = torch.from_numpy(locs)\n",
    "_galaxy_bool = torch.from_numpy(galaxy_bool)\n",
    "\n",
    "# do matching\n",
    "_plocs, _locs, row_indx, col_indx = inner_join_locs(_plocs, _locs)\n",
    "\n",
    "#only keep match if l_{inf} < 1 pixel away. \n",
    "dist = (_plocs - _locs).abs().max(1)[0]\n",
    "keep_match = dist < 1.0\n",
    "\n",
    "_plocs = _plocs[keep_match].numpy()\n",
    "_locs = _locs[keep_match].numpy()\n",
    "\n",
    "# need to apply it to galaxy bool as well.\n",
    "_galaxy_bool = _galaxy_bool[col_indx][keep_match].reshape(-1).numpy().astype(bool)\n",
    "_is_star = is_star1[row_indx][keep_match].reshape(-1).astype(bool)"
   ]
  },
  {
   "cell_type": "markdown",
   "id": "1310bb2e",
   "metadata": {},
   "source": [
    "# Metrics"
   ]
  },
  {
   "cell_type": "code",
   "execution_count": 21,
   "id": "873a811f",
   "metadata": {
    "ExecuteTime": {
     "end_time": "2021-07-29T19:23:11.593777Z",
     "start_time": "2021-07-29T19:23:11.543272Z"
    }
   },
   "outputs": [
    {
     "name": "stdout",
     "output_type": "stream",
     "text": [
      "precision: 0.530\n",
      "recall: 0.547\n",
      "f1: 0.538\n"
     ]
    }
   ],
   "source": [
    "# precision and recall \n",
    "\n",
    "tp = sum(keep_match) # true positives = # of objects matched with a true object. \n",
    "fp = sum(~keep_match) + max(0, len(locs) - len(pt1)) # false positives = detected object not matched with true object.\n",
    "\n",
    "# precision \n",
    "# recall = tp / total # of true objects\n",
    "precision = (tp / (tp + fp)).item()\n",
    "recall = (tp / len(pt1)).item()\n",
    "f1 = (2 * precision * recall) / (precision + recall)\n",
    "\n",
    "print(f'precision: {precision:.3f}')\n",
    "print(f'recall: {recall:.3f}')\n",
    "print(f'f1: {f1:.3f}')\n"
   ]
  },
  {
   "cell_type": "code",
   "execution_count": 22,
   "id": "c9eb873c",
   "metadata": {
    "ExecuteTime": {
     "end_time": "2021-07-29T19:23:13.353907Z",
     "start_time": "2021-07-29T19:23:13.295823Z"
    }
   },
   "outputs": [
    {
     "data": {
      "text/plain": [
       "array([[ 57,  82],\n",
       "       [  6, 148]])"
      ]
     },
     "execution_count": 22,
     "metadata": {},
     "output_type": "execute_result"
    }
   ],
   "source": [
    "# confusion matrix for star vs galaxy classification\n",
    "from sklearn.metrics import confusion_matrix\n",
    "confusion_matrix(~_is_star, _galaxy_bool, labels=[True, False]) # True == Galaxy"
   ]
  },
  {
   "cell_type": "code",
   "execution_count": 23,
   "id": "2bd6c14e",
   "metadata": {
    "ExecuteTime": {
     "end_time": "2021-07-29T19:23:14.648947Z",
     "start_time": "2021-07-29T19:23:14.487642Z"
    }
   },
   "outputs": [
    {
     "data": {
      "image/png": "[encoded data removed]",
      "text/plain": [
       "<Figure size 432x288 with 1 Axes>"
      ]
     },
     "metadata": {
      "needs_background": "light"
     },
     "output_type": "display_data"
    }
   ],
   "source": [
    "# histogram of mse between matching locations \n",
    "%matplotlib inline\n",
    "plt.hist(dist.numpy(), bins=30, range=(0, 2.0), histtype='step');"
   ]
  }
 ],
 "metadata": {
  "kernelspec": {
   "display_name": "bliss-W0ocb7P7-py3.8",
   "language": "python",
   "name": "bliss-w0ocb7p7-py3.8"
  },
  "language_info": {
   "codemirror_mode": {
    "name": "ipython",
    "version": 3
   },
   "file_extension": ".py",
   "mimetype": "text/x-python",
   "name": "python",
   "nbconvert_exporter": "python",
   "pygments_lexer": "ipython3",
   "version": "3.8.5"
  },
  "toc": {
   "base_numbering": 1,
   "nav_menu": {},
   "number_sections": true,
   "sideBar": true,
   "skip_h1_title": false,
   "title_cell": "Table of Contents",
   "title_sidebar": "Contents",
   "toc_cell": false,
   "toc_position": {
    "height": "511.3043518066406px",
    "left": "58.991851806640625px",
    "top": "110.44837188720703px",
    "width": "165px"
   },
   "toc_section_display": true,
   "toc_window_display": true
  }
 },
 "nbformat": 4,
 "nbformat_minor": 5
}

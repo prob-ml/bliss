{
 "cells": [
  {
   "cell_type": "markdown",
   "id": "fff0899b",
   "metadata": {},
   "source": [
    "# Setup"
   ]
  },
  {
   "cell_type": "code",
   "execution_count": 1,
   "id": "c9334866",
   "metadata": {
    "ExecuteTime": {
     "end_time": "2021-10-13T17:41:17.754228Z",
     "start_time": "2021-10-13T17:41:17.748144Z"
    }
   },
   "outputs": [],
   "source": [
    "import os \n",
    "os.chdir('/home/imendoza/bliss')"
   ]
  },
  {
   "cell_type": "code",
   "execution_count": 2,
   "id": "b0413b12",
   "metadata": {
    "ExecuteTime": {
     "end_time": "2021-10-13T17:41:17.950490Z",
     "start_time": "2021-10-13T17:41:17.930963Z"
    }
   },
   "outputs": [
    {
     "name": "stdout",
     "output_type": "stream",
     "text": [
      "Modules to reload:\n",
      "all-except-skipped\n",
      "\n",
      "Modules to skip:\n",
      "\n"
     ]
    }
   ],
   "source": [
    "%load_ext autoreload\n",
    "%autoreload 2\n",
    "%aimport"
   ]
  },
  {
   "cell_type": "code",
   "execution_count": 3,
   "id": "e7123298",
   "metadata": {
    "ExecuteTime": {
     "end_time": "2021-10-13T17:41:18.289296Z",
     "start_time": "2021-10-13T17:41:18.105809Z"
    }
   },
   "outputs": [],
   "source": [
    "%matplotlib inline"
   ]
  },
  {
   "cell_type": "code",
   "execution_count": 4,
   "id": "d795944f",
   "metadata": {
    "ExecuteTime": {
     "end_time": "2021-10-13T17:41:19.693733Z",
     "start_time": "2021-10-13T17:41:18.290970Z"
    }
   },
   "outputs": [],
   "source": [
    "import matplotlib.pyplot as plt\n",
    "import sklearn\n",
    "import torch\n",
    "\n",
    "from bliss.datasets import sdss\n",
    "from bliss.report import add_extra_coadd_info\n",
    "\n",
    "from astropy.table import Table"
   ]
  },
  {
   "cell_type": "code",
   "execution_count": 5,
   "id": "3490920b",
   "metadata": {
    "ExecuteTime": {
     "end_time": "2021-10-13T17:41:19.891434Z",
     "start_time": "2021-10-13T17:41:19.695668Z"
    }
   },
   "outputs": [],
   "source": [
    "import ipywidgets as widgets\n",
    "from ipywidgets import interact, interactive, fixed, interact_manual\n",
    "\n",
    "import plotly.express as px\n",
    "import plotly.graph_objects as go"
   ]
  },
  {
   "cell_type": "code",
   "execution_count": 6,
   "id": "242d1d59",
   "metadata": {
    "ExecuteTime": {
     "end_time": "2021-10-13T17:41:19.912365Z",
     "start_time": "2021-10-13T17:41:19.892782Z"
    }
   },
   "outputs": [],
   "source": [
    "# where is the sdss data? \n",
    "sdss_dir = '/home/imendoza/bliss/data/sdss/'"
   ]
  },
  {
   "cell_type": "code",
   "execution_count": 7,
   "id": "606a057e",
   "metadata": {
    "ExecuteTime": {
     "end_time": "2021-10-13T17:41:20.504347Z",
     "start_time": "2021-10-13T17:41:19.914334Z"
    }
   },
   "outputs": [
    {
     "name": "stdout",
     "output_type": "stream",
     "text": [
      "5\r\n"
     ]
    }
   ],
   "source": [
    "# check GPU is configured correctly\n",
    "device = torch.device('cuda:0')\n",
    "!echo $CUDA_VISIBLE_DEVICES"
   ]
  },
  {
   "cell_type": "markdown",
   "id": "fcae7dee",
   "metadata": {},
   "source": [
    "# Load data"
   ]
  },
  {
   "cell_type": "code",
   "execution_count": 8,
   "id": "ae341afa",
   "metadata": {
    "ExecuteTime": {
     "end_time": "2021-10-13T17:41:21.078018Z",
     "start_time": "2021-10-13T17:41:20.507658Z"
    }
   },
   "outputs": [],
   "source": [
    "pixel_scale=0.396\n",
    "run = 94\n",
    "camcol = 1\n",
    "field = 12\n",
    "bands = (2,)\n",
    "sdss_data = sdss.SloanDigitalSkySurvey(\n",
    "    sdss_dir=sdss_dir,\n",
    "    run=run,\n",
    "    camcol=camcol,\n",
    "    fields=(field,),\n",
    "    bands=bands,\n",
    "    overwrite_cache=True,\n",
    "    overwrite_fits_cache=True,\n",
    ")\n",
    "\n",
    "wcs = sdss_data[0]['wcs'][0]\n",
    "nelec_per_nmgy = sdss_data[0]['nelec_per_nmgy'].mean()\n",
    "scene = sdss_data[0][\"image\"][0]\n",
    "h,w = scene.shape[-2], scene.shape[-1]\n",
    "print(h, w)"
   ]
  },
  {
   "cell_type": "code",
   "execution_count": 9,
   "id": "a79b0006",
   "metadata": {
    "ExecuteTime": {
     "end_time": "2021-10-13T17:41:21.150808Z",
     "start_time": "2021-10-13T17:41:21.079366Z"
    }
   },
   "outputs": [],
   "source": [
    "# load coadd catalog\n",
    "coadd_catalog_file = 'data/coadd_catalog_94_1_12.fits'\n",
    "psf_image_file = 'data/psField-000094-1-0012-PSF-image.npy'\n",
    "\n",
    "add_extra_coadd_info(coadd_catalog_file, psf_image_file, pixel_scale, wcs)\n",
    "\n",
    "coadd_cat = Table.read(coadd_catalog_file)"
   ]
  },
  {
   "cell_type": "markdown",
   "id": "066cfa15",
   "metadata": {},
   "source": [
    "# Load models"
   ]
  },
  {
   "cell_type": "code",
   "execution_count": 10,
   "id": "4e9f74ab",
   "metadata": {
    "ExecuteTime": {
     "end_time": "2021-10-13T17:41:21.406304Z",
     "start_time": "2021-10-13T17:41:21.370881Z"
    }
   },
   "outputs": [],
   "source": [
    "from bliss.models.binary import BinaryEncoder\n",
    "from bliss.models.galaxy_encoder import GalaxyEncoder\n",
    "from bliss.sleep import SleepPhase"
   ]
  },
  {
   "cell_type": "code",
   "execution_count": 11,
   "id": "6a1c5e4b",
   "metadata": {
    "ExecuteTime": {
     "end_time": "2021-10-13T17:41:25.485120Z",
     "start_time": "2021-10-13T17:41:22.050613Z"
    }
   },
   "outputs": [],
   "source": [
    "# prepare BLISS model \n",
    "sleep_file = '/home/imendoza/bliss/models/sdss_sleep.ckpt'\n",
    "galaxy_encoder_file = '/home/imendoza/bliss/models/sdss_galaxy_encoder.ckpt'\n",
    "binary_file = '/home/imendoza/bliss/models/sdss_binary.ckpt'\n",
    "\n",
    "\n",
    "# load models\n",
    "sleep_net = SleepPhase.load_from_checkpoint(sleep_file).to('cpu')\n",
    "image_encoder= sleep_net.image_encoder.to(device).eval()\n",
    "binary_encoder = BinaryEncoder.load_from_checkpoint(binary_file).to(device).eval()\n",
    "galaxy_encoder = GalaxyEncoder.load_from_checkpoint(galaxy_encoder_file).to(device).eval()\n",
    "galaxy_decoder = sleep_net.image_decoder.galaxy_tile_decoder.galaxy_decoder.eval().to(device)"
   ]
  },
  {
   "cell_type": "markdown",
   "id": "ce593fb3",
   "metadata": {},
   "source": [
    "# Results"
   ]
  },
  {
   "cell_type": "code",
   "execution_count": 19,
   "id": "9ca6783c",
   "metadata": {
    "ExecuteTime": {
     "end_time": "2021-10-13T17:47:03.193936Z",
     "start_time": "2021-10-13T17:47:03.158241Z"
    }
   },
   "outputs": [],
   "source": [
    "from bliss.predict import predict_on_scene\n",
    "from bliss.report import coadd_metrics"
   ]
  },
  {
   "cell_type": "code",
   "execution_count": 20,
   "id": "cb9edecd",
   "metadata": {
    "ExecuteTime": {
     "end_time": "2021-10-13T17:47:03.335983Z",
     "start_time": "2021-10-13T17:47:03.297638Z"
    }
   },
   "outputs": [],
   "source": [
    "torch.cuda.empty_cache()"
   ]
  },
  {
   "cell_type": "code",
   "execution_count": 22,
   "id": "8cf33430",
   "metadata": {
    "ExecuteTime": {
     "end_time": "2021-10-13T17:47:10.401357Z",
     "start_time": "2021-10-13T17:47:04.532527Z"
    },
    "collapsed": true
   },
   "outputs": [
    {
     "name": "stderr",
     "output_type": "stream",
     "text": [
      "\r",
      "  0%|                                                                                                                                                                               | 0/15 [00:00<?, ?it/s]"
     ]
    },
    {
     "name": "stdout",
     "output_type": "stream",
     "text": [
      "torch.Size([1, 1, 348, 348])\n"
     ]
    },
    {
     "name": "stderr",
     "output_type": "stream",
     "text": [
      "\r",
      "  7%|███████████▏                                                                                                                                                           | 1/15 [00:01<00:20,  1.48s/it]"
     ]
    },
    {
     "name": "stdout",
     "output_type": "stream",
     "text": [
      "torch.Size([1, 1, 348, 348])\n"
     ]
    },
    {
     "name": "stderr",
     "output_type": "stream",
     "text": [
      "\r",
      " 13%|██████████████████████▎                                                                                                                                                | 2/15 [00:02<00:19,  1.47s/it]"
     ]
    },
    {
     "name": "stdout",
     "output_type": "stream",
     "text": [
      "torch.Size([1, 1, 348, 348])\n"
     ]
    },
    {
     "name": "stderr",
     "output_type": "stream",
     "text": [
      "\r",
      " 20%|█████████████████████████████████▍                                                                                                                                     | 3/15 [00:04<00:17,  1.45s/it]"
     ]
    },
    {
     "name": "stdout",
     "output_type": "stream",
     "text": [
      "torch.Size([1, 1, 348, 348])\n"
     ]
    },
    {
     "name": "stderr",
     "output_type": "stream",
     "text": [
      " 27%|████████████████████████████████████████████▌                                                                                                                          | 4/15 [00:05<00:16,  1.45s/it]"
     ]
    },
    {
     "name": "stdout",
     "output_type": "stream",
     "text": [
      "torch.Size([1, 1, 289, 348])\n"
     ]
    },
    {
     "name": "stderr",
     "output_type": "stream",
     "text": [
      "\n"
     ]
    },
    {
     "ename": "AssertionError",
     "evalue": "",
     "output_type": "error",
     "traceback": [
      "\u001b[0;31m---------------------------------------------------------------------------\u001b[0m",
      "\u001b[0;31mAssertionError\u001b[0m                            Traceback (most recent call last)",
      "\u001b[0;32m/tmp/ipykernel_3995014/4259529293.py\u001b[0m in \u001b[0;36m<module>\u001b[0;34m\u001b[0m\n\u001b[1;32m      3\u001b[0m \u001b[0mclen\u001b[0m \u001b[0;34m=\u001b[0m \u001b[0;36m300\u001b[0m\u001b[0;34m\u001b[0m\u001b[0;34m\u001b[0m\u001b[0m\n\u001b[1;32m      4\u001b[0m \u001b[0m_scene\u001b[0m \u001b[0;34m=\u001b[0m \u001b[0mtorch\u001b[0m\u001b[0;34m.\u001b[0m\u001b[0mfrom_numpy\u001b[0m\u001b[0;34m(\u001b[0m\u001b[0mscene\u001b[0m\u001b[0;34m)\u001b[0m\u001b[0;34m.\u001b[0m\u001b[0mreshape\u001b[0m\u001b[0;34m(\u001b[0m\u001b[0;36m1\u001b[0m\u001b[0;34m,\u001b[0m \u001b[0;36m1\u001b[0m\u001b[0;34m,\u001b[0m \u001b[0mh\u001b[0m\u001b[0;34m,\u001b[0m \u001b[0mw\u001b[0m\u001b[0;34m)\u001b[0m\u001b[0;34m\u001b[0m\u001b[0;34m\u001b[0m\u001b[0m\n\u001b[0;32m----> 5\u001b[0;31m _, est_params = predict_on_scene(clen, _scene, image_encoder, binary_encoder, \n\u001b[0m\u001b[1;32m      6\u001b[0m                                  galaxy_encoder, galaxy_decoder, device) \n",
      "\u001b[0;32m~/bliss/bliss/predict.py\u001b[0m in \u001b[0;36mpredict_on_scene\u001b[0;34m(clen, scene, image_encoder, binary_encoder, galaxy_encoder, galaxy_decoder, device, testing)\u001b[0m\n\u001b[1;32m    151\u001b[0m                     \u001b[0mpchunk\u001b[0m \u001b[0;34m=\u001b[0m \u001b[0mscene\u001b[0m\u001b[0;34m[\u001b[0m\u001b[0;34m:\u001b[0m\u001b[0;34m,\u001b[0m \u001b[0;34m:\u001b[0m\u001b[0;34m,\u001b[0m \u001b[0my1\u001b[0m \u001b[0;34m-\u001b[0m \u001b[0mbp\u001b[0m \u001b[0;34m:\u001b[0m \u001b[0my1\u001b[0m \u001b[0;34m+\u001b[0m \u001b[0mclen\u001b[0m \u001b[0;34m+\u001b[0m \u001b[0mbp\u001b[0m\u001b[0;34m,\u001b[0m \u001b[0mx1\u001b[0m \u001b[0;34m-\u001b[0m \u001b[0mbp\u001b[0m \u001b[0;34m:\u001b[0m \u001b[0mx1\u001b[0m \u001b[0;34m+\u001b[0m \u001b[0mclen\u001b[0m \u001b[0;34m+\u001b[0m \u001b[0mbp\u001b[0m\u001b[0;34m]\u001b[0m\u001b[0;34m\u001b[0m\u001b[0;34m\u001b[0m\u001b[0m\n\u001b[1;32m    152\u001b[0m                     \u001b[0mprint\u001b[0m\u001b[0;34m(\u001b[0m\u001b[0mpchunk\u001b[0m\u001b[0;34m.\u001b[0m\u001b[0mshape\u001b[0m\u001b[0;34m)\u001b[0m\u001b[0;34m\u001b[0m\u001b[0;34m\u001b[0m\u001b[0m\n\u001b[0;32m--> 153\u001b[0;31m                     \u001b[0;32massert\u001b[0m \u001b[0mpchunk\u001b[0m\u001b[0;34m.\u001b[0m\u001b[0mshape\u001b[0m\u001b[0;34m[\u001b[0m\u001b[0;34m-\u001b[0m\u001b[0;36m1\u001b[0m\u001b[0;34m]\u001b[0m \u001b[0;34m==\u001b[0m \u001b[0mpchunk\u001b[0m\u001b[0;34m.\u001b[0m\u001b[0mshape\u001b[0m\u001b[0;34m[\u001b[0m\u001b[0;34m-\u001b[0m\u001b[0;36m2\u001b[0m\u001b[0;34m]\u001b[0m \u001b[0;34m==\u001b[0m \u001b[0mclen\u001b[0m \u001b[0;34m+\u001b[0m \u001b[0;36m2\u001b[0m \u001b[0;34m*\u001b[0m \u001b[0mbp\u001b[0m\u001b[0;34m\u001b[0m\u001b[0;34m\u001b[0m\u001b[0m\n\u001b[0m\u001b[1;32m    154\u001b[0m                     \u001b[0mpchunk\u001b[0m \u001b[0;34m=\u001b[0m \u001b[0mpchunk\u001b[0m\u001b[0;34m.\u001b[0m\u001b[0mto\u001b[0m\u001b[0;34m(\u001b[0m\u001b[0mdevice\u001b[0m\u001b[0;34m)\u001b[0m\u001b[0;34m\u001b[0m\u001b[0;34m\u001b[0m\u001b[0m\n\u001b[1;32m    155\u001b[0m \u001b[0;34m\u001b[0m\u001b[0m\n",
      "\u001b[0;31mAssertionError\u001b[0m: "
     ]
    }
   ],
   "source": [
    "# predict using models \n",
    "\n",
    "clen = 300\n",
    "_scene = torch.from_numpy(scene).reshape(1, 1, h, w)\n",
    "_, est_params = predict_on_scene(clen, _scene, image_encoder, binary_encoder, \n",
    "                                 galaxy_encoder, galaxy_decoder, device) "
   ]
  },
  {
   "cell_type": "code",
   "execution_count": 15,
   "id": "b7afc612",
   "metadata": {
    "ExecuteTime": {
     "end_time": "2021-10-13T17:39:14.982846Z",
     "start_time": "2021-10-13T17:39:14.954270Z"
    }
   },
   "outputs": [
    {
     "data": {
      "text/plain": [
       "'cuda'"
      ]
     },
     "execution_count": 15,
     "metadata": {},
     "output_type": "execute_result"
    }
   ],
   "source": [
    "bp = image_encoder.border_padding\n",
    "coadd_metrics(coadd_cat, est_params, bp, h, w, clen, mag_cut=25.0, slack=1.0)\n",
    "\n"
   ]
  },
  {
   "cell_type": "code",
   "execution_count": null,
   "id": "8dd85384",
   "metadata": {},
   "outputs": [],
   "source": []
  }
 ],
 "metadata": {
  "kernelspec": {
   "display_name": "bliss-W0ocb7P7-py3.8",
   "language": "python",
   "name": "bliss-w0ocb7p7-py3.8"
  },
  "language_info": {
   "codemirror_mode": {
    "name": "ipython",
    "version": 3
   },
   "file_extension": ".py",
   "mimetype": "text/x-python",
   "name": "python",
   "nbconvert_exporter": "python",
   "pygments_lexer": "ipython3",
   "version": "3.8.10"
  },
  "toc": {
   "base_numbering": 1,
   "nav_menu": {},
   "number_sections": true,
   "sideBar": true,
   "skip_h1_title": false,
   "title_cell": "Table of Contents",
   "title_sidebar": "Contents",
   "toc_cell": false,
   "toc_position": {
    "height": "511.3043518066406px",
    "left": "58.991851806640625px",
    "top": "110.44837188720703px",
    "width": "165px"
   },
   "toc_section_display": true,
   "toc_window_display": true
  }
 },
 "nbformat": 4,
 "nbformat_minor": 5
}

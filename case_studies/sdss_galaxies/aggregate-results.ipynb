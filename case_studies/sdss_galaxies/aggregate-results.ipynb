{
 "cells": [
  {
   "cell_type": "markdown",
   "id": "fff0899b",
   "metadata": {},
   "source": [
    "# Setup"
   ]
  },
  {
   "cell_type": "code",
   "execution_count": 1,
   "id": "b0413b12",
   "metadata": {
    "ExecuteTime": {
     "end_time": "2021-09-28T21:08:05.064652Z",
     "start_time": "2021-09-28T21:08:05.040250Z"
    }
   },
   "outputs": [
    {
     "name": "stdout",
     "output_type": "stream",
     "text": [
      "Modules to reload:\n",
      "all-except-skipped\n",
      "\n",
      "Modules to skip:\n",
      "\n"
     ]
    }
   ],
   "source": [
    "%load_ext autoreload\n",
    "%autoreload 2\n",
    "%aimport"
   ]
  },
  {
   "cell_type": "code",
   "execution_count": 2,
   "id": "e7123298",
   "metadata": {
    "ExecuteTime": {
     "end_time": "2021-09-28T21:08:05.086365Z",
     "start_time": "2021-09-28T21:08:05.065836Z"
    }
   },
   "outputs": [],
   "source": [
    "%matplotlib inline"
   ]
  },
  {
   "cell_type": "code",
   "execution_count": 3,
   "id": "bd2b201f",
   "metadata": {
    "ExecuteTime": {
     "end_time": "2021-09-28T21:08:05.105406Z",
     "start_time": "2021-09-28T21:08:05.087833Z"
    }
   },
   "outputs": [],
   "source": [
    "from sparse_field_lib import load_data"
   ]
  },
  {
   "cell_type": "code",
   "execution_count": 4,
   "id": "d795944f",
   "metadata": {
    "ExecuteTime": {
     "end_time": "2021-09-28T21:08:05.124563Z",
     "start_time": "2021-09-28T21:08:05.106848Z"
    }
   },
   "outputs": [
    {
     "ename": "ImportError",
     "evalue": "cannot import name 'eval_error_on_batch' from 'bliss.metrics' (/home/imendoza/bliss/bliss/metrics.py)",
     "output_type": "error",
     "traceback": [
      "\u001b[0;31m---------------------------------------------------------------------------\u001b[0m",
      "\u001b[0;31mImportError\u001b[0m                               Traceback (most recent call last)",
      "\u001b[0;32m/tmp/ipykernel_415997/3399274710.py\u001b[0m in \u001b[0;36m<module>\u001b[0;34m\u001b[0m\n\u001b[1;32m      5\u001b[0m \u001b[0;32mfrom\u001b[0m \u001b[0mbliss\u001b[0m\u001b[0;34m.\u001b[0m\u001b[0mdatasets\u001b[0m\u001b[0;34m.\u001b[0m\u001b[0msdss\u001b[0m \u001b[0;32mimport\u001b[0m \u001b[0mconvert_flux_to_mag\u001b[0m\u001b[0;34m,\u001b[0m \u001b[0mconvert_mag_to_flux\u001b[0m\u001b[0;34m\u001b[0m\u001b[0;34m\u001b[0m\u001b[0m\n\u001b[1;32m      6\u001b[0m \u001b[0;32mfrom\u001b[0m \u001b[0mbliss\u001b[0m\u001b[0;34m.\u001b[0m\u001b[0mmodels\u001b[0m \u001b[0;32mimport\u001b[0m \u001b[0mencoder\u001b[0m\u001b[0;34m,\u001b[0m \u001b[0mdecoder\u001b[0m\u001b[0;34m\u001b[0m\u001b[0;34m\u001b[0m\u001b[0m\n\u001b[0;32m----> 7\u001b[0;31m \u001b[0;32mfrom\u001b[0m \u001b[0mbliss\u001b[0m \u001b[0;32mimport\u001b[0m \u001b[0msleep\u001b[0m\u001b[0;34m\u001b[0m\u001b[0;34m\u001b[0m\u001b[0m\n\u001b[0m\u001b[1;32m      8\u001b[0m \u001b[0;34m\u001b[0m\u001b[0m\n\u001b[1;32m      9\u001b[0m \u001b[0;32mfrom\u001b[0m \u001b[0mastropy\u001b[0m\u001b[0;34m.\u001b[0m\u001b[0mtable\u001b[0m \u001b[0;32mimport\u001b[0m \u001b[0mTable\u001b[0m\u001b[0;34m\u001b[0m\u001b[0;34m\u001b[0m\u001b[0m\n",
      "\u001b[0;32m~/bliss/bliss/sleep.py\u001b[0m in \u001b[0;36m<module>\u001b[0;34m\u001b[0m\n\u001b[1;32m     17\u001b[0m \u001b[0;32mfrom\u001b[0m \u001b[0mtorch\u001b[0m\u001b[0;34m.\u001b[0m\u001b[0mnn\u001b[0m \u001b[0;32mimport\u001b[0m \u001b[0mCrossEntropyLoss\u001b[0m\u001b[0;34m\u001b[0m\u001b[0;34m\u001b[0m\u001b[0m\n\u001b[1;32m     18\u001b[0m \u001b[0;34m\u001b[0m\u001b[0m\n\u001b[0;32m---> 19\u001b[0;31m \u001b[0;32mfrom\u001b[0m \u001b[0mbliss\u001b[0m\u001b[0;34m.\u001b[0m\u001b[0mmetrics\u001b[0m \u001b[0;32mimport\u001b[0m \u001b[0meval_error_on_batch\u001b[0m\u001b[0;34m\u001b[0m\u001b[0;34m\u001b[0m\u001b[0m\n\u001b[0m\u001b[1;32m     20\u001b[0m \u001b[0;32mfrom\u001b[0m \u001b[0mbliss\u001b[0m\u001b[0;34m.\u001b[0m\u001b[0mmodels\u001b[0m \u001b[0;32mimport\u001b[0m \u001b[0mdecoder\u001b[0m\u001b[0;34m,\u001b[0m \u001b[0mencoder\u001b[0m\u001b[0;34m\u001b[0m\u001b[0;34m\u001b[0m\u001b[0m\n\u001b[1;32m     21\u001b[0m \u001b[0;32mfrom\u001b[0m \u001b[0mbliss\u001b[0m\u001b[0;34m.\u001b[0m\u001b[0mmodels\u001b[0m\u001b[0;34m.\u001b[0m\u001b[0mencoder\u001b[0m \u001b[0;32mimport\u001b[0m \u001b[0mget_full_params\u001b[0m\u001b[0;34m\u001b[0m\u001b[0;34m\u001b[0m\u001b[0m\n",
      "\u001b[0;31mImportError\u001b[0m: cannot import name 'eval_error_on_batch' from 'bliss.metrics' (/home/imendoza/bliss/bliss/metrics.py)"
     ]
    }
   ],
   "source": [
    "import matplotlib.pyplot as plt\n",
    "import sklearn\n",
    "import torch\n",
    "\n",
    "from bliss.datasets.sdss import convert_flux_to_mag, convert_mag_to_flux\n",
    "from bliss.models import encoder, decoder\n",
    "from bliss import sleep\n",
    "\n",
    "from astropy.table import Table"
   ]
  },
  {
   "cell_type": "code",
   "execution_count": null,
   "id": "3490920b",
   "metadata": {
    "ExecuteTime": {
     "end_time": "2021-09-28T21:08:05.331559Z",
     "start_time": "2021-09-28T21:08:05.308043Z"
    }
   },
   "outputs": [],
   "source": [
    "import ipywidgets as widgets\n",
    "from ipywidgets import interact, interactive, fixed, interact_manual\n",
    "\n",
    "import plotly.express as px\n",
    "import plotly.graph_objects as go"
   ]
  },
  {
   "cell_type": "code",
   "execution_count": null,
   "id": "242d1d59",
   "metadata": {
    "ExecuteTime": {
     "end_time": "2021-09-28T21:08:05.536979Z",
     "start_time": "2021-09-28T21:08:05.512304Z"
    }
   },
   "outputs": [],
   "source": [
    "# where is the sdss data? \n",
    "sdss_dir = '/home/imendoza/bliss/data/sdss/'"
   ]
  },
  {
   "cell_type": "code",
   "execution_count": 18,
   "id": "606a057e",
   "metadata": {
    "ExecuteTime": {
     "end_time": "2021-09-28T21:08:06.422201Z",
     "start_time": "2021-09-28T21:08:05.715795Z"
    }
   },
   "outputs": [
    {
     "name": "stdout",
     "output_type": "stream",
     "text": [
      "5\r\n"
     ]
    }
   ],
   "source": [
    "# check GPU is configured correctly\n",
    "device = torch.device('cuda:0')\n",
    "!echo $CUDA_VISIBLE_DEVICES"
   ]
  },
  {
   "cell_type": "code",
   "execution_count": 19,
   "id": "3841dfdf",
   "metadata": {
    "ExecuteTime": {
     "end_time": "2021-09-28T21:08:06.548806Z",
     "start_time": "2021-09-28T21:08:06.426014Z"
    }
   },
   "outputs": [
    {
     "name": "stdout",
     "output_type": "stream",
     "text": [
      "0.798554636726761\n"
     ]
    }
   ],
   "source": [
    "# get average PSF and HLR\n",
    "from hydra import initialize, compose\n",
    "from omegaconf import OmegaConf\n",
    "from bliss.datasets.galsim_galaxies import SDSSGalaxies\n",
    "with initialize(config_path='../../config'):\n",
    "    cfg = compose(\"config\", overrides=['dataset=sdss_galaxies', 'model=galaxy_net'])\n",
    "ds_kwargs = OmegaConf.to_container(cfg.dataset.kwargs, resolve=True)\n",
    "ae_kwargs = OmegaConf.to_container(cfg)\n",
    "ds = SDSSGalaxies(**ds_kwargs)\n",
    "psf = ds.psf\n",
    "print(psf.calculateHLR())"
   ]
  },
  {
   "cell_type": "markdown",
   "id": "361ce46a",
   "metadata": {},
   "source": [
    "# Utility Functions"
   ]
  },
  {
   "cell_type": "code",
   "execution_count": 20,
   "id": "1f5f7330",
   "metadata": {
    "ExecuteTime": {
     "end_time": "2021-09-28T21:08:06.570093Z",
     "start_time": "2021-09-28T21:08:06.549993Z"
    }
   },
   "outputs": [],
   "source": []
  },
  {
   "cell_type": "code",
   "execution_count": 21,
   "id": "0ec2a967",
   "metadata": {
    "ExecuteTime": {
     "end_time": "2021-09-28T21:08:06.595778Z",
     "start_time": "2021-09-28T21:08:06.571964Z"
    }
   },
   "outputs": [],
   "source": [
    "\n",
    "\n",
    "import galsim\n"
   ]
  },
  {
   "cell_type": "markdown",
   "id": "fcae7dee",
   "metadata": {},
   "source": [
    "# Load data"
   ]
  },
  {
   "cell_type": "code",
   "execution_count": null,
   "id": "ae341afa",
   "metadata": {},
   "outputs": [],
   "source": [
    "sdss_data = sdss.SloanDigitalSkySurvey(\n",
    "    sdss_dir=sdss_dir,\n",
    "    run=run,\n",
    "    camcol=camcol,\n",
    "    fields=(field,),\n",
    "    bands=bands,\n",
    "    overwrite_cache=True,\n",
    "    overwrite_fits_cache=True,\n",
    ")"
   ]
  },
  {
   "cell_type": "code",
   "execution_count": 22,
   "id": "cf7ea132",
   "metadata": {
    "ExecuteTime": {
     "end_time": "2021-09-28T19:31:25.919758Z",
     "start_time": "2021-09-28T19:31:25.280900Z"
    }
   },
   "outputs": [
    {
     "name": "stdout",
     "output_type": "stream",
     "text": [
      "# objects detected by photo on frame:  999\n",
      "# objects detected by photo on coadd:  901\n",
      "(1489, 2048)\n"
     ]
    },
    {
     "name": "stderr",
     "output_type": "stream",
     "text": [
      "WARNING: FITSFixedWarning: RADECSYS= 'ICRS ' / International Celestial Ref. System \n",
      "the RADECSYS keyword is deprecated, use RADESYSa. [astropy.wcs.wcs]\n",
      "WARNING: FITSFixedWarning: 'datfix' made the change 'Set MJD-OBS to 51075.000000 from DATE-OBS.\n",
      "Changed DATE-OBS from '19/09/98' to '1998-09-19''. [astropy.wcs.wcs]\n"
     ]
    }
   ],
   "source": [
    "frame, fits_file, wcs_list, sdss_data = load_data(sdss_dir=sdss_dir)\n",
    "nelec_per_nmgy = sdss_data[0]['nelec_per_nmgy'].mean()\n",
    "coadd_cat = Table(fits_file[:])\n",
    "frame_fits = Table(sdss_data[0]['po_fits'])\n",
    "print(\"# objects detected by photo on frame: \", len(frame_fits))\n",
    "print(\"# objects detected by photo on coadd: \", len(fits_file['ra'][:]))\n",
    "frame = frame[0].numpy()\n",
    "print(frame.shape)"
   ]
  },
  {
   "cell_type": "code",
   "execution_count": 26,
   "id": "92956fd8",
   "metadata": {
    "ExecuteTime": {
     "end_time": "2021-09-28T21:14:17.760690Z",
     "start_time": "2021-09-28T21:14:17.723669Z"
    }
   },
   "outputs": [],
   "source": [
    "def get_data(coadd_cat):\n",
    "    \n",
    "    wcs = wcs_list[0]\n",
    "    pt, pr = wcs.all_world2pix(coadd_cat['ra'], coadd_cat['dec'], 0)\n",
    "    pt_frame, pr_frame = wcs.all_world2pix(frame_fits['RA'].reshape(-1), frame_fits['DEC'].reshape(-1), 0)\n",
    "    is_star = coadd_cat['probpsf'].data.astype(bool)\n",
    "    is_saturated = coadd_cat['is_saturated'].data.astype(bool)\n",
    "    is_star_frame = frame_fits['PROB_PSF'][:, 2].data.astype(bool)\n",
    "\n",
    "    # get fluxes and hlrs\n",
    "    fluxes, mags = get_flux_coadd(coadd_cat)\n",
    "    coadd_cat['flux'] = fluxes\n",
    "    coadd_cat['mag'] = mags\n",
    "    \n",
    "    hlrs = get_hlr_coadd(coadd_cat, psf)\n",
    "    coadd_cat['hlr'] = hlrs\n",
    "    \n",
    "    return pt, pr, pt_frame, pr_frame, is_star, is_star_frame, fluxes, mags, hlrs, is_saturated"
   ]
  },
  {
   "cell_type": "code",
   "execution_count": 49,
   "id": "7c9822ae",
   "metadata": {
    "ExecuteTime": {
     "end_time": "2021-09-28T19:38:53.444732Z",
     "start_time": "2021-09-28T19:38:53.394053Z"
    }
   },
   "outputs": [],
   "source": [
    "pt, pr, pt_frame, pr_frame, is_star, is_star_frame, fluxes, mags, hlrs, is_saturated = get_data(coadd_cat)"
   ]
  },
  {
   "cell_type": "code",
   "execution_count": 50,
   "id": "7bd57936",
   "metadata": {
    "ExecuteTime": {
     "end_time": "2021-09-28T19:38:55.345974Z",
     "start_time": "2021-09-28T19:38:55.310904Z"
    }
   },
   "outputs": [],
   "source": [
    "from astropy.wcs import WCS\n",
    "wcs = sdss_data[0]['wcs'][0]"
   ]
  },
  {
   "cell_type": "code",
   "execution_count": 51,
   "id": "a7c1e909",
   "metadata": {
    "ExecuteTime": {
     "end_time": "2021-09-28T19:39:00.227542Z",
     "start_time": "2021-09-28T19:39:00.192910Z"
    }
   },
   "outputs": [],
   "source": [
    "pt1, pr1 = wcs.all_world2pix(coadd_cat['ra'], coadd_cat['dec'], 0)"
   ]
  },
  {
   "cell_type": "code",
   "execution_count": 52,
   "id": "897fc9dc",
   "metadata": {
    "ExecuteTime": {
     "end_time": "2021-09-28T19:39:00.943691Z",
     "start_time": "2021-09-28T19:39:00.909774Z"
    }
   },
   "outputs": [
    {
     "name": "stdout",
     "output_type": "stream",
     "text": [
      "True\n",
      "True\n"
     ]
    }
   ],
   "source": [
    "print(np.all(pt1 == pt))\n",
    "print(np.all(pr1 == pr))"
   ]
  },
  {
   "cell_type": "code",
   "execution_count": 29,
   "id": "69b2e933",
   "metadata": {
    "ExecuteTime": {
     "end_time": "2021-09-28T21:16:36.720676Z",
     "start_time": "2021-09-28T21:16:36.684979Z"
    }
   },
   "outputs": [
    {
     "name": "stdout",
     "output_type": "stream",
     "text": [
      "901 999\n"
     ]
    }
   ],
   "source": [
    "# some useful keeps (not applied yet)\n",
    "keep_coadd = (pt > 0) & (pt < frame.shape[1]-1) & (pr > 0) & (pr < frame.shape[0]-1) & (~is_saturated)\n",
    "keep_frame = (pt_frame > 1) & (pt_frame < frame.shape[1]-1) & (pr_frame > 1) & (pr_frame < frame.shape[0]-1) & (frame_fits['PROB_PSF'][:, 2] > -1)\n",
    "print(len(pt), len(pt_frame))"
   ]
  },
  {
   "cell_type": "markdown",
   "id": "af826bf4",
   "metadata": {},
   "source": [
    "# Investigate Flux and Sizes"
   ]
  },
  {
   "cell_type": "code",
   "execution_count": 107,
   "id": "f7077e2e",
   "metadata": {
    "ExecuteTime": {
     "end_time": "2021-09-01T19:53:24.881862Z",
     "start_time": "2021-09-01T19:53:24.637707Z"
    }
   },
   "outputs": [
    {
     "data": {
      "text/plain": [
       "(array([347.,   3.,  15.,  27.,  19.,  31.,  44.,  29.,  19.,  20.,  17.,\n",
       "         34.,  19.,  20.,  18.,  18.,  14.,  13.,   8.,  11.,   3.,   8.,\n",
       "         10.,   6.,  10.,   7.,   2.,   7.,   6.,   9.,   5.,   7.,   5.,\n",
       "          3.,   3.,   4.,   4.,   1.,   2.,   3.,   2.,   6.,   1.,   2.,\n",
       "          2.,   2.,   0.,   1.,   1.,   1.]),\n",
       " array([0.8  , 0.844, 0.888, 0.932, 0.976, 1.02 , 1.064, 1.108, 1.152,\n",
       "        1.196, 1.24 , 1.284, 1.328, 1.372, 1.416, 1.46 , 1.504, 1.548,\n",
       "        1.592, 1.636, 1.68 , 1.724, 1.768, 1.812, 1.856, 1.9  , 1.944,\n",
       "        1.988, 2.032, 2.076, 2.12 , 2.164, 2.208, 2.252, 2.296, 2.34 ,\n",
       "        2.384, 2.428, 2.472, 2.516, 2.56 , 2.604, 2.648, 2.692, 2.736,\n",
       "        2.78 , 2.824, 2.868, 2.912, 2.956, 3.   ]),\n",
       " [<matplotlib.patches.Polygon at 0x7f17dd1586d0>])"
      ]
     },
     "execution_count": 107,
     "metadata": {},
     "output_type": "execute_result"
    },
    {
     "data": {
      "image/png": "[encoded data removed]",
      "text/plain": [
       "<Figure size 432x288 with 1 Axes>"
      ]
     },
     "metadata": {
      "needs_background": "light"
     },
     "output_type": "display_data"
    }
   ],
   "source": [
    "plt.hist(coadd_cat['hlr'], bins=50, histtype='step', range=(0.8, 3))"
   ]
  },
  {
   "cell_type": "code",
   "execution_count": 108,
   "id": "11772cc7",
   "metadata": {
    "ExecuteTime": {
     "end_time": "2021-09-01T19:53:25.394899Z",
     "start_time": "2021-09-01T19:53:25.272328Z"
    }
   },
   "outputs": [
    {
     "data": {
      "text/plain": [
       "(array([  1.,   0.,   0.,   2.,   3.,   0.,   0.,   4.,   4.,   7.,  11.,\n",
       "         13.,  12.,  18.,  20.,  32.,  40.,  43.,  40.,  76.,  96., 121.,\n",
       "        113.,  95.,  77.,  37.,  25.,   5.,   3.,   3.]),\n",
       " array([12.30518543, 12.71232437, 13.11946331, 13.52660225, 13.93374119,\n",
       "        14.34088014, 14.74801908, 15.15515802, 15.56229696, 15.9694359 ,\n",
       "        16.37657484, 16.78371378, 17.19085272, 17.59799166, 18.00513061,\n",
       "        18.41226955, 18.81940849, 19.22654743, 19.63368637, 20.04082531,\n",
       "        20.44796425, 20.85510319, 21.26224214, 21.66938108, 22.07652002,\n",
       "        22.48365896, 22.8907979 , 23.29793684, 23.70507578, 24.11221472,\n",
       "        24.51935366]),\n",
       " [<matplotlib.patches.Polygon at 0x7f17dd1cac70>])"
      ]
     },
     "execution_count": 108,
     "metadata": {},
     "output_type": "execute_result"
    },
    {
     "data": {
      "image/png": "[encoded data removed]",
      "text/plain": [
       "<Figure size 432x288 with 1 Axes>"
      ]
     },
     "metadata": {
      "needs_background": "light"
     },
     "output_type": "display_data"
    }
   ],
   "source": [
    "plt.hist(coadd_cat['mag'], bins=30, histtype='step')"
   ]
  },
  {
   "cell_type": "code",
   "execution_count": 109,
   "id": "413ea67f",
   "metadata": {
    "ExecuteTime": {
     "end_time": "2021-09-01T19:53:26.871426Z",
     "start_time": "2021-09-01T19:53:26.845636Z"
    }
   },
   "outputs": [
    {
     "data": {
      "text/plain": [
       "1564.780897848782"
      ]
     },
     "execution_count": 109,
     "metadata": {},
     "output_type": "execute_result"
    }
   ],
   "source": [
    "# what cut on magnitude to use? \n",
    "convert_mag_to_flux(22) # total flux??? "
   ]
  },
  {
   "cell_type": "markdown",
   "id": "3f2fa1cd",
   "metadata": {},
   "source": [
    "# Investigate Photo misclassifications on frame"
   ]
  },
  {
   "cell_type": "code",
   "execution_count": 110,
   "id": "482afb35",
   "metadata": {
    "ExecuteTime": {
     "end_time": "2021-09-01T19:53:27.655622Z",
     "start_time": "2021-09-01T19:53:27.623101Z"
    }
   },
   "outputs": [],
   "source": [
    "# at what magnitudes/sizes does it start to go wrong?"
   ]
  },
  {
   "cell_type": "code",
   "execution_count": 111,
   "id": "d7bbdff2",
   "metadata": {
    "ExecuteTime": {
     "end_time": "2021-09-01T19:53:32.442163Z",
     "start_time": "2021-09-01T19:53:32.409825Z"
    }
   },
   "outputs": [],
   "source": [
    "from bliss.metrics import inner_join_locs\n",
    "def photo_results(pt, pr, is_star, pt_frame, pr_frame, is_star_frame, mags, keep=None, keep_frame=None, max_mag=24.5):\n",
    "    if keep is None:\n",
    "        keep = np.ones(pt.shape).astype(bool)\n",
    "    if keep_frame is None:\n",
    "        keep_frame = np.ones(pt_frame.shape).astype(bool)\n",
    "    \n",
    "    pt,pr,is_star, mags = pt[keep], pr[keep], is_star[keep], mags[keep]\n",
    "    pt_frame, pr_frame, is_star_frame = pt_frame[keep_frame], pr_frame[keep_frame], is_star_frame[keep_frame]\n",
    "\n",
    "    plocs = torch.from_numpy(np.hstack((pt.reshape(-1, 1), pr.reshape(-1, 1))))\n",
    "    plocs_frame = torch.from_numpy(np.hstack((pt_frame.reshape(-1, 1), pr_frame.reshape(-1, 1))))\n",
    "    _plocs, _plocs_frame, row_indx, col_indx = inner_join_locs(plocs, plocs_frame)\n",
    "    true_mags = mags[row_indx]\n",
    "\n",
    "    # matched distances? \n",
    "    dist = (_plocs - _plocs_frame).abs().max(1)[0]\n",
    "    dist_match = (dist < 1.).numpy().astype(bool)\n",
    "\n",
    "\n",
    "    # aggreate metrics\n",
    "    _is_galaxy = ~is_star[row_indx][dist_match]\n",
    "    _is_galaxy_frame = ~is_star_frame[col_indx][dist_match]\n",
    "    n_unmatched = max(0, len(plocs_frame) - len(plocs))\n",
    "    get_aggregate_metrics(dist_match, _is_galaxy, _is_galaxy_frame, len(plocs), n_unmatched=n_unmatched)\n",
    "    \n",
    "    fig, (ax1, ax2) = plt.subplots(1, 2, figsize=(10, 4))\n",
    "    \n",
    "    \n",
    "    # create plot of num of matches as a function of magnitude, cutoff detection threshold when \n",
    "    # we need to bin detections by magnitudes\n",
    "    mags = np.arange(15.0, max_mag, 0.25)\n",
    "    n_matches_by_mag = np.array([sum(dist_match[true_mags > x])/len(dist_match[true_mags > x]) for x in mags])\n",
    "    ax1.plot(mags, n_matches_by_mag, linestyle='-', marker='o', color='r')\n",
    "    \n",
    "    # create plot of num of matches as a function of magnitude, cutoff detection threshold when \n",
    "    # we need to bin detections by magnitudes\n",
    "    mags = np.arange(15.0, max_mag, 0.25)\n",
    "    n_matches_by_mag = np.array([sum(dist_match[(x < true_mags) & (x + 0.5 > true_mags)])\\\n",
    "                                 /len(dist_match[(x < true_mags) & (x + 0.5 > true_mags)]) for x in mags])\n",
    "    ax2.plot(mags, n_matches_by_mag, linestyle='-', marker='o', color='r')"
   ]
  },
  {
   "cell_type": "code",
   "execution_count": 112,
   "id": "e47c5d25",
   "metadata": {
    "ExecuteTime": {
     "end_time": "2021-09-01T19:53:34.074846Z",
     "start_time": "2021-09-01T19:53:33.674398Z"
    }
   },
   "outputs": [
    {
     "name": "stdout",
     "output_type": "stream",
     "text": [
      "precision: 0.543\n",
      "recall: 0.659\n",
      "f1: 0.595\n",
      "n_unmatched: 170\n",
      "percentage misclassed: 16.67%\n",
      "\n",
      "[[224  44]\n",
      " [ 43 211]]\n"
     ]
    },
    {
     "data": {
      "image/png": "[encoded data removed]",
      "text/plain": [
       "<Figure size 720x288 with 2 Axes>"
      ]
     },
     "metadata": {
      "needs_background": "light"
     },
     "output_type": "display_data"
    }
   ],
   "source": [
    "photo_results(pt, pr, is_star, pt_frame, pr_frame, is_star_frame, mags, max_mag=24.5, keep=keep_coadd, keep_frame=keep_frame)"
   ]
  },
  {
   "cell_type": "code",
   "execution_count": 113,
   "id": "b2a31c17",
   "metadata": {
    "ExecuteTime": {
     "end_time": "2021-09-01T19:53:35.424734Z",
     "start_time": "2021-09-01T19:53:35.117881Z"
    }
   },
   "outputs": [
    {
     "name": "stdout",
     "output_type": "stream",
     "text": [
      "precision: 0.541\n",
      "recall: 0.675\n",
      "f1: 0.600\n",
      "n_unmatched: 192\n",
      "percentage misclassed: 16.15%\n",
      "\n",
      "[[226  45]\n",
      " [ 39 210]]\n"
     ]
    },
    {
     "data": {
      "image/png": "[encoded data removed]",
      "text/plain": [
       "<Figure size 720x288 with 2 Axes>"
      ]
     },
     "metadata": {
      "needs_background": "light"
     },
     "output_type": "display_data"
    }
   ],
   "source": [
    "max_mag = 23\n",
    "keep_mag = coadd_cat['mag'] < max_mag\n",
    "photo_results(pt, pr, is_star, pt_frame, pr_frame, is_star_frame, mags, max_mag=max_mag, \n",
    "              keep=(keep_coadd&keep_mag), keep_frame=keep_frame)"
   ]
  },
  {
   "cell_type": "markdown",
   "id": "066cfa15",
   "metadata": {},
   "source": [
    "# Prepare model"
   ]
  },
  {
   "cell_type": "code",
   "execution_count": 30,
   "id": "4e9f74ab",
   "metadata": {
    "ExecuteTime": {
     "end_time": "2021-09-28T21:16:38.800493Z",
     "start_time": "2021-09-28T21:16:38.761631Z"
    }
   },
   "outputs": [],
   "source": [
    "from bliss.models.binary import BinaryEncoder\n",
    "from bliss.models.galaxy_encoder import GalaxyEncoder\n",
    "from bliss.predict import prediction"
   ]
  },
  {
   "cell_type": "code",
   "execution_count": 79,
   "id": "6a1c5e4b",
   "metadata": {
    "ExecuteTime": {
     "end_time": "2021-09-28T21:39:08.550578Z",
     "start_time": "2021-09-28T21:39:08.367437Z"
    }
   },
   "outputs": [],
   "source": [
    "# prepare BLISS model \n",
    "sleep_file = '/home/imendoza/bliss/models/sdss_sleep.ckpt'\n",
    "galaxy_encoder_file = '/home/imendoza/bliss/models/sdss_galaxy_encoder.ckpt'\n",
    "binary_file = '/home/imendoza/bliss/models/sdss_binary.ckpt'\n",
    "\n",
    "\n",
    "# load models\n",
    "image_encoder= sleep.SleepPhase.load_from_checkpoint(sleep_file).image_encoder.to(device).eval()\n",
    "galaxy_encoder = GalaxyEncoder.load_from_checkpoint(galaxy_encoder_file).to(device).eval()\n",
    "binary_encoder = BinaryEncoder.load_from_checkpoint(binary_file).to(device).eval()"
   ]
  },
  {
   "cell_type": "markdown",
   "id": "50e1338f",
   "metadata": {},
   "source": [
    "## Filter Some objects"
   ]
  },
  {
   "cell_type": "code",
   "execution_count": 67,
   "id": "fc480abf",
   "metadata": {
    "ExecuteTime": {
     "end_time": "2021-09-28T21:34:15.491766Z",
     "start_time": "2021-09-28T21:34:15.440662Z"
    }
   },
   "outputs": [],
   "source": [
    "pt, pr, pt_frame, pr_frame, is_star, is_star_frame, fluxes, mags, hlrs, is_saturated = get_data(coadd_cat)"
   ]
  },
  {
   "cell_type": "code",
   "execution_count": 68,
   "id": "32fe2fb9",
   "metadata": {
    "ExecuteTime": {
     "end_time": "2021-09-28T21:34:15.686963Z",
     "start_time": "2021-09-28T21:34:15.652920Z"
    }
   },
   "outputs": [],
   "source": [
    "# remove all locations that are not inside the image. \n",
    "keep_mag = coadd_cat['mag'] < 23\n",
    "keep = keep_coadd & keep_mag\n",
    "pt = pt[keep]\n",
    "pr = pr[keep]\n",
    "is_star = is_star[keep]\n",
    "mags = coadd_cat['mag'][keep]\n",
    "hlrs = coadd_cat['hlr'][keep]"
   ]
  },
  {
   "cell_type": "markdown",
   "id": "d582702e",
   "metadata": {},
   "source": [
    "# Loop over chunks"
   ]
  },
  {
   "cell_type": "code",
   "execution_count": 69,
   "id": "c46192df",
   "metadata": {
    "ExecuteTime": {
     "end_time": "2021-09-28T21:34:41.687832Z",
     "start_time": "2021-09-28T21:34:21.896734Z"
    }
   },
   "outputs": [
    {
     "name": "stdout",
     "output_type": "stream",
     "text": [
      "0 0\n",
      "0 1\n",
      "0 2\n",
      "0 3\n",
      "1 0\n",
      "1 1\n",
      "1 2\n",
      "1 3\n",
      "2 0\n",
      "2 1\n",
      "2 2\n",
      "2 3\n",
      "3 0\n",
      "3 1\n",
      "3 2\n",
      "3 3\n",
      "4 0\n",
      "4 1\n",
      "4 2\n",
      "4 3\n",
      "5 0\n",
      "5 1\n",
      "5 2\n",
      "5 3\n"
     ]
    }
   ],
   "source": [
    "import copy\n",
    "\n",
    "h,w = frame.shape # full frame size.\n",
    "\n",
    "cp = image_encoder.border_padding # chunk padding \n",
    "clen = 300 # chunk slen (square).\n",
    "cplen = clen + cp*2 # padded chunk slen. \n",
    "\n",
    "ihic = h // clen # image height in chunks\n",
    "iwic = w // clen # image width in chunks\n",
    "\n",
    "locs = torch.tensor([])\n",
    "galaxy_bool = torch.tensor([])\n",
    "prob_galaxy = torch.tensor([])\n",
    "\n",
    "pt1 = copy.deepcopy(pt)\n",
    "pr1 = copy.deepcopy(pr)\n",
    "\n",
    "keep = np.zeros((len(pt1))).astype(bool)\n",
    "\n",
    "with torch.no_grad():\n",
    "    for i in range(iwic):\n",
    "        for j in range(ihic):\n",
    "            print(i,j)\n",
    "            x1,y1 = i*clen + cp, j*clen + cp\n",
    "            pchunk = frame[y1 - cp: y1 + clen + cp, x1 - cp: x1 + clen + cp]\n",
    "            assert pchunk.shape == (cplen, cplen)\n",
    "            pchunk = pchunk.astype(np.float32)\n",
    "            pchunk = torch.from_numpy(pchunk).to(device).reshape(1, 1, cplen, cplen)\n",
    "            \n",
    "            # get estimates with BLISS trained model. \n",
    "            _, tile_est, est_params = prediction(pchunk, image_encoder, binary_encoder=binary_encoder)\n",
    "            \n",
    "            _locs = est_params['locs'].cpu()\n",
    "            _galaxy_bool = est_params['galaxy_bool'].cpu().reshape(-1, 1)\n",
    "            _prob_galaxy = est_params['prob_galaxy'].cpu().reshape(-1)\n",
    "            \n",
    "            _locs = _locs.reshape(-1, 2)\n",
    "            x, y = _locs[:, 1].reshape(-1, 1), _locs[:, 0].reshape(-1, 1)\n",
    "            x = x*clen + x1 - 0.5 \n",
    "            y = y*clen + y1 - 0.5 # pixels, same format as pt,pr\n",
    "            locs1 = torch.hstack((x,y)).reshape(-1, 2).cpu()\n",
    "            locs  = torch.cat((locs, locs1))\n",
    "            \n",
    "            _galaxy_bool = _galaxy_bool.reshape(-1, 1)\n",
    "            galaxy_bool = torch.cat((galaxy_bool, _galaxy_bool))\n",
    "            \n",
    "            prob_galaxy = torch.cat((prob_galaxy, _prob_galaxy))\n",
    "            \n",
    "            # remove centroids from true photo in padding\n",
    "            keep1 = (pt1 > x1) & (pt1 < x1+clen) & (pr1 > y1) & (pr1 < y1+clen)\n",
    "            keep = keep | keep1\n",
    "\n",
    "            # delete extra stuff in GPU and clear cache for next iteration.\n",
    "            del pchunk\n",
    "            del tile_est\n",
    "            del est_params\n",
    "            torch.cuda.empty_cache()"
   ]
  },
  {
   "cell_type": "code",
   "execution_count": 70,
   "id": "b4424765",
   "metadata": {
    "ExecuteTime": {
     "end_time": "2021-09-28T21:34:42.241196Z",
     "start_time": "2021-09-28T21:34:42.211625Z"
    }
   },
   "outputs": [],
   "source": [
    "mags1 = mags[keep]\n",
    "pt1, pr1 = pt1[keep], pr1[keep]\n",
    "is_star1 = is_star[keep]\n",
    "hlrs1 = hlrs[keep]\n",
    "locs = locs.numpy()\n",
    "galaxy_bool = galaxy_bool.numpy()\n",
    "prob_galaxy = prob_galaxy.numpy()"
   ]
  },
  {
   "cell_type": "code",
   "execution_count": 71,
   "id": "24f0e0e1",
   "metadata": {
    "ExecuteTime": {
     "end_time": "2021-09-28T21:34:42.909106Z",
     "start_time": "2021-09-28T21:34:42.885991Z"
    }
   },
   "outputs": [
    {
     "name": "stdout",
     "output_type": "stream",
     "text": [
      "510 477\n"
     ]
    }
   ],
   "source": [
    "# how many objects are left? \n",
    "print(len(pt1), len(locs))"
   ]
  },
  {
   "cell_type": "markdown",
   "id": "06b86af6",
   "metadata": {},
   "source": [
    "# Match objects"
   ]
  },
  {
   "cell_type": "code",
   "execution_count": 72,
   "id": "13e40534",
   "metadata": {
    "ExecuteTime": {
     "end_time": "2021-09-28T21:34:44.226882Z",
     "start_time": "2021-09-28T21:34:44.173071Z"
    }
   },
   "outputs": [],
   "source": [
    "from bliss.metrics import inner_join_locs\n",
    "\n",
    "_plocs = torch.from_numpy(np.hstack((pt1.reshape(-1, 1), pr1.reshape(-1, 1))))\n",
    "\n",
    "_locs = torch.from_numpy(locs)\n",
    "_galaxy_bool = torch.from_numpy(galaxy_bool)\n",
    "\n",
    "# do matching\n",
    "_plocs, _locs, row_indx, col_indx = inner_join_locs(_plocs, _locs)\n",
    "\n",
    "#only keep match if l_{inf} < 1 pixel away\n",
    "dist = (_plocs - _locs).abs().max(1)[0]\n",
    "dist_match = (dist < 1.).numpy().astype(bool)\n",
    "\n",
    "true_galaxy_bool = ~is_star1[row_indx].reshape(-1).astype(bool)\n",
    "pred_galaxy_bool = _galaxy_bool[col_indx].reshape(-1).numpy().astype(bool)\n",
    "\n",
    "_prob_galaxy = prob_galaxy[col_indx].reshape(-1)[dist_match]\n",
    "\n",
    "true_mags = mags1[row_indx][dist_match].reshape(-1)\n",
    "true_hlrs = hlrs1[row_indx][dist_match].reshape(-1)"
   ]
  },
  {
   "cell_type": "code",
   "execution_count": 73,
   "id": "d9e65819",
   "metadata": {
    "ExecuteTime": {
     "end_time": "2021-09-28T21:34:44.874859Z",
     "start_time": "2021-09-28T21:34:44.838658Z"
    }
   },
   "outputs": [],
   "source": [
    "# only check classification for objects that matched with a reasonable distance.\n",
    "true_galaxy_bool = true_galaxy_bool[dist_match]\n",
    "pred_galaxy_bool = pred_galaxy_bool[dist_match]\n",
    "misclass = true_galaxy_bool != pred_galaxy_bool"
   ]
  },
  {
   "cell_type": "markdown",
   "id": "ce593fb3",
   "metadata": {},
   "source": [
    "# Results"
   ]
  },
  {
   "cell_type": "code",
   "execution_count": 74,
   "id": "8ee108a8",
   "metadata": {
    "ExecuteTime": {
     "end_time": "2021-09-28T21:34:45.957405Z",
     "start_time": "2021-09-28T21:34:45.914524Z"
    }
   },
   "outputs": [
    {
     "name": "stdout",
     "output_type": "stream",
     "text": [
      "precision: 0.665\n",
      "recall: 0.622\n",
      "f1: 0.642\n",
      "n_unmatched: 0\n",
      "percentage misclassed: 16.72%\n",
      "\n",
      "[[108  43]\n",
      " [ 10 156]]\n"
     ]
    }
   ],
   "source": [
    "n_unmatched = max(0, len(locs) - len(pt1))\n",
    "get_aggregate_metrics(dist_match, true_galaxy_bool, pred_galaxy_bool, len(pt1), n_unmatched=n_unmatched)"
   ]
  },
  {
   "cell_type": "code",
   "execution_count": 75,
   "id": "fdc8d52e",
   "metadata": {
    "ExecuteTime": {
     "end_time": "2021-09-28T21:34:55.251447Z",
     "start_time": "2021-09-28T21:34:55.105232Z"
    }
   },
   "outputs": [
    {
     "data": {
      "image/png": "[encoded data removed]",
      "text/plain": [
       "<Figure size 432x288 with 1 Axes>"
      ]
     },
     "metadata": {
      "needs_background": "light"
     },
     "output_type": "display_data"
    }
   ],
   "source": [
    "# histogram of mse between matching locations \n",
    "%matplotlib inline\n",
    "plt.hist(dist.numpy(), bins=30, range=(0, 2.0), histtype='step');"
   ]
  },
  {
   "cell_type": "code",
   "execution_count": 76,
   "id": "ac4b19ff",
   "metadata": {
    "ExecuteTime": {
     "end_time": "2021-09-28T21:34:55.489315Z",
     "start_time": "2021-09-28T21:34:55.335157Z"
    }
   },
   "outputs": [
    {
     "name": "stdout",
     "output_type": "stream",
     "text": [
      "ratio misclass with probability between 10%-90%: 0.321\n"
     ]
    },
    {
     "data": {
      "image/png": "[encoded data removed]",
      "text/plain": [
       "<Figure size 432x288 with 1 Axes>"
      ]
     },
     "metadata": {
      "needs_background": "light"
     },
     "output_type": "display_data"
    }
   ],
   "source": [
    "# scatter plot of miscclassification probs\n",
    "probs_correct = _prob_galaxy[~misclass]\n",
    "probs_misclass = _prob_galaxy[misclass]\n",
    "plt.scatter(true_mags[~misclass], probs_correct, marker='x', c='b')\n",
    "plt.scatter(true_mags[misclass], probs_misclass, marker='x', c='r')\n",
    "plt.axhline(0.5, linestyle='--')\n",
    "plt.axhline(0.1, linestyle='--')\n",
    "plt.axhline(0.9, linestyle='--')\n",
    "\n",
    "uncertain = (0.2 < _prob_galaxy[misclass]) & (_prob_galaxy[misclass] < 0.8)\n",
    "r_uncertain = sum(uncertain) / len(_prob_galaxy[misclass])\n",
    "print(f'ratio misclass with probability between 10%-90%: {r_uncertain:.3f}', )"
   ]
  },
  {
   "cell_type": "code",
   "execution_count": 77,
   "id": "05a7021c",
   "metadata": {
    "ExecuteTime": {
     "end_time": "2021-09-28T21:34:55.605283Z",
     "start_time": "2021-09-28T21:34:55.491176Z"
    }
   },
   "outputs": [
    {
     "name": "stdout",
     "output_type": "stream",
     "text": [
      "ratio misclass with probability between 10%-90%: 0.321\n"
     ]
    },
    {
     "data": {
      "image/png": "[encoded data removed]",
      "text/plain": [
       "<Figure size 432x288 with 1 Axes>"
      ]
     },
     "metadata": {
      "needs_background": "light"
     },
     "output_type": "display_data"
    }
   ],
   "source": [
    "# scatter plot of miscclassification probs\n",
    "plt.scatter(true_hlrs[~misclass], _prob_galaxy[~misclass], marker='x', c='b')\n",
    "plt.scatter(true_hlrs[misclass], _prob_galaxy[misclass], marker='x', c='r')\n",
    "plt.axhline(0.5, linestyle='--')\n",
    "plt.axhline(0.1, linestyle='--')\n",
    "plt.axhline(0.9, linestyle='--')\n",
    "\n",
    "uncertain = (0.2 < _prob_galaxy[misclass]) & (_prob_galaxy[misclass] < 0.8)\n",
    "r_uncertain = sum(uncertain) / len(_prob_galaxy[misclass])\n",
    "print(f'ratio misclass with probability between 10%-90%: {r_uncertain:.3f}', )"
   ]
  },
  {
   "cell_type": "code",
   "execution_count": 44,
   "id": "7a98bcba",
   "metadata": {
    "ExecuteTime": {
     "end_time": "2021-09-28T21:17:47.258084Z",
     "start_time": "2021-09-28T21:17:47.099228Z"
    }
   },
   "outputs": [
    {
     "data": {
      "text/plain": [
       "<matplotlib.colorbar.Colorbar at 0x7f4f4245d9a0>"
      ]
     },
     "execution_count": 44,
     "metadata": {},
     "output_type": "execute_result"
    },
    {
     "data": {
      "image/png": "[encoded data removed]",
      "text/plain": [
       "<Figure size 432x288 with 2 Axes>"
      ]
     },
     "metadata": {
      "needs_background": "light"
     },
     "output_type": "display_data"
    }
   ],
   "source": [
    "plt.scatter(true_mags[~misclass],_prob_galaxy[~misclass] , marker='o', c=true_hlrs[~misclass], cmap='coolwarm')\n",
    "plt.axhline(0.5, linestyle='--')\n",
    "plt.colorbar()"
   ]
  },
  {
   "cell_type": "code",
   "execution_count": 45,
   "id": "d1303731",
   "metadata": {
    "ExecuteTime": {
     "end_time": "2021-09-28T21:17:48.838963Z",
     "start_time": "2021-09-28T21:17:48.642171Z"
    }
   },
   "outputs": [
    {
     "data": {
      "text/plain": [
       "<matplotlib.colorbar.Colorbar at 0x7f4f423ac2e0>"
      ]
     },
     "execution_count": 45,
     "metadata": {},
     "output_type": "execute_result"
    },
    {
     "data": {
      "image/png": "[encoded data removed]",
      "text/plain": [
       "<Figure size 432x288 with 2 Axes>"
      ]
     },
     "metadata": {
      "needs_background": "light"
     },
     "output_type": "display_data"
    }
   ],
   "source": [
    "# scatter plot of miscclassification probst\n",
    "# plt.scatter(true_mags[~misclass],_prob_galaxy[~misclass] , marker='o', c=true_hlrs[~misclass], cmap='coolwarm')\n",
    "plt.scatter(true_mags[misclass], _prob_galaxy[misclass], marker='x', c=true_hlrs[misclass], cmap='coolwarm')\n",
    "plt.axhline(0.5, linestyle='--')\n",
    "plt.axhline(0.1, linestyle='--')\n",
    "plt.axhline(0.9, linestyle='--')\n",
    "plt.colorbar()"
   ]
  },
  {
   "cell_type": "code",
   "execution_count": null,
   "id": "92757e38",
   "metadata": {},
   "outputs": [],
   "source": []
  }
 ],
 "metadata": {
  "kernelspec": {
   "display_name": "bliss-W0ocb7P7-py3.8",
   "language": "python",
   "name": "bliss-w0ocb7p7-py3.8"
  },
  "language_info": {
   "codemirror_mode": {
    "name": "ipython",
    "version": 3
   },
   "file_extension": ".py",
   "mimetype": "text/x-python",
   "name": "python",
   "nbconvert_exporter": "python",
   "pygments_lexer": "ipython3",
   "version": "3.8.10"
  },
  "toc": {
   "base_numbering": 1,
   "nav_menu": {},
   "number_sections": true,
   "sideBar": true,
   "skip_h1_title": false,
   "title_cell": "Table of Contents",
   "title_sidebar": "Contents",
   "toc_cell": false,
   "toc_position": {
    "height": "511.3043518066406px",
    "left": "58.991851806640625px",
    "top": "110.44837188720703px",
    "width": "165px"
   },
   "toc_section_display": true,
   "toc_window_display": true
  }
 },
 "nbformat": 4,
 "nbformat_minor": 5
}

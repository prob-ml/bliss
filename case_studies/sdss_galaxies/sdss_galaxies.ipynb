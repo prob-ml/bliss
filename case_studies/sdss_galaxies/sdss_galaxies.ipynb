{
 "cells": [
  {
   "cell_type": "markdown",
   "id": "incorporate-compact",
   "metadata": {},
   "source": [
    "# Setup"
   ]
  },
  {
   "cell_type": "code",
   "execution_count": null,
   "id": "palestinian-variance",
   "metadata": {},
   "outputs": [],
   "source": [
    "%load_ext autoreload\n",
    "%autoreload 2\n",
    "%aimport\n",
    "\n",
    "%matplotlib inline "
   ]
  },
  {
   "cell_type": "code",
   "execution_count": null,
   "id": "basic-baking",
   "metadata": {},
   "outputs": [],
   "source": [
    "from sparse_field_lib import load_data"
   ]
  },
  {
   "cell_type": "code",
   "execution_count": null,
   "id": "neither-contest",
   "metadata": {},
   "outputs": [],
   "source": [
    "import matplotlib.pyplot as plt\n",
    "import torch\n",
    "\n",
    "from bliss.datasets import sdss\n",
    "from bliss.models import encoder, decoder\n",
    "from bliss import sleep"
   ]
  },
  {
   "cell_type": "code",
   "execution_count": null,
   "id": "completed-wright",
   "metadata": {},
   "outputs": [],
   "source": [
    "sdss_dir = '/home/imendoza/bliss/data/sdss/'"
   ]
  },
  {
   "cell_type": "code",
   "execution_count": null,
   "id": "saving-wisconsin",
   "metadata": {},
   "outputs": [],
   "source": [
    "device = 'cuda:4'"
   ]
  },
  {
   "cell_type": "markdown",
   "id": "hundred-consideration",
   "metadata": {},
   "source": [
    "# Load data"
   ]
  },
  {
   "cell_type": "code",
   "execution_count": null,
   "id": "jewish-dinner",
   "metadata": {},
   "outputs": [],
   "source": [
    "image, fits_file, wcs_list, sdss_data = load_data(sdss_dir=sdss_dir)"
   ]
  },
  {
   "cell_type": "code",
   "execution_count": null,
   "id": "adaptive-europe",
   "metadata": {},
   "outputs": [],
   "source": [
    "wcs = wcs_list[0]"
   ]
  },
  {
   "cell_type": "code",
   "execution_count": null,
   "id": "executive-bangladesh",
   "metadata": {},
   "outputs": [],
   "source": [
    "pt, pr = wcs.all_world2pix(fits_file['ra'][:], fits_file['dec'][:], 0)"
   ]
  },
  {
   "cell_type": "code",
   "execution_count": null,
   "id": "suspected-learning",
   "metadata": {},
   "outputs": [],
   "source": [
    "fits_file"
   ]
  },
  {
   "cell_type": "markdown",
   "id": "unlimited-jacksonville",
   "metadata": {},
   "source": [
    "## Look at complete image"
   ]
  },
  {
   "cell_type": "code",
   "execution_count": null,
   "id": "terminal-retreat",
   "metadata": {},
   "outputs": [],
   "source": [
    "%matplotlib inline\n",
    "plt.figure(figsize=(14,14))\n",
    "vmin = np.percentile(image.flatten(), 1)\n",
    "vmax = np.percentile(image.flatten(), 99)\n",
    "print(vmin, vmax)\n",
    "\n",
    "plt.imshow(image[0], vmin=vmin, vmax=vmax)\n",
    "plt.scatter(pt, pr, marker='x', color='r', s=10)\n",
    "# plt.colorbar()"
   ]
  },
  {
   "cell_type": "markdown",
   "id": "intelligent-array",
   "metadata": {},
   "source": [
    "## choose one chunk"
   ]
  },
  {
   "cell_type": "code",
   "execution_count": null,
   "id": "suffering-entertainment",
   "metadata": {},
   "outputs": [],
   "source": [
    "# prepare chunk\n",
    "# i, j = np.random.randint(0, 6, size=(2))\n",
    "# i,j = (1,5)\n",
    "clen = 200\n",
    "xlim = (450, 650)\n",
    "ylim = (350, 550)\n",
    "print(xlim, ylim)\n",
    "\n",
    "chunk = image[0, ylim[0]:ylim[1], xlim[0]:xlim[1]]\n",
    "\n",
    "pt, pr = wcs.all_world2pix(fits_file['ra'][:], fits_file['dec'][:], 0)\n",
    "\n",
    "# restrict to 200x200 chunk \n",
    "keep = (pt > xlim[0]) & (pt < xlim[1]) & (pr < ylim[1]) & (pr > ylim[0])\n",
    "\n",
    "# obtain star and galaxy bools for each location.\n",
    "is_star = fits_file['probpsf'][:].astype(bool)\n",
    "galaxy_bool = (~is_star) & keep\n",
    "star_bool = is_star & keep"
   ]
  },
  {
   "cell_type": "code",
   "execution_count": null,
   "id": "pressed-secret",
   "metadata": {},
   "outputs": [],
   "source": [
    "# move image to device\n",
    "slen = 200\n",
    "chunks = chunk.reshape(1, 1, *chunk.shape)[:, :, :slen, :slen].to(device)\n",
    "print(chunks.shape)"
   ]
  },
  {
   "cell_type": "code",
   "execution_count": null,
   "id": "adaptive-myanmar",
   "metadata": {},
   "outputs": [],
   "source": [
    "%matplotlib inline\n",
    "fig, ax = plt.subplots(nrows=1, ncols=1, figsize=(10,10))\n",
    "\n",
    "\n",
    "p_level = 0.1\n",
    "vmin = np.percentile(chunk.flatten(), p_level)\n",
    "vmax = np.percentile(chunk.flatten(), 100-p_level)\n",
    "\n",
    "# account for bia\n",
    "_pt = pt - xlim[0]\n",
    "_pr = pr - ylim[0]\n",
    "\n",
    "# and show it with correct centers.\n",
    "im = ax.imshow(chunk, vmin=vmin, vmax=vmax)\n",
    "ax.scatter(_pt[galaxy_bool], _pr[galaxy_bool], marker='x', color='r', s=20)\n",
    "ax.scatter(_pt[star_bool], _pr[star_bool], marker='+', color='b', s=30)\n",
    "fig.colorbar(im, ax=ax, shrink=0.5)"
   ]
  },
  {
   "cell_type": "markdown",
   "id": "silver-increase",
   "metadata": {},
   "source": [
    "## get estimate from chunk"
   ]
  },
  {
   "cell_type": "code",
   "execution_count": null,
   "id": "confidential-domain",
   "metadata": {},
   "outputs": [],
   "source": [
    "# read sleep \n",
    "checkpoint_file = '/home/imendoza/bliss/data/sleep_galaxy_star_trained1.ckpt'\n",
    "sleep_net= sleep.SleepPhase.load_from_checkpoint(checkpoint_file).to(device)\n",
    "image_encoder = sleep_net.image_encoder\n",
    "galaxy_encoder = sleep_net.galaxy_encoder\n",
    "\n",
    "# important to turn on .eval() mode!\n",
    "sleep_net = sleep_net.eval()\n",
    "image_encoder = image_encoder.eval()"
   ]
  },
  {
   "cell_type": "code",
   "execution_count": null,
   "id": "vocational-command",
   "metadata": {},
   "outputs": [],
   "source": [
    "with torch.no_grad():\n",
    "\n",
    "    tile_est = sleep_net.tile_images_map_estimate(chunks)\n",
    "    sleep_net.image_decoder.background_values = (633.0, )\n",
    "    \n",
    "    # plot image from tile est.\n",
    "    recon_image, _ = sleep_net.image_decoder.render_images(\n",
    "        tile_est[\"n_sources\"],\n",
    "        tile_est[\"locs\"],\n",
    "        tile_est[\"galaxy_bool\"],\n",
    "        tile_est[\"galaxy_params\"],\n",
    "        tile_est[\"fluxes\"],\n",
    "        add_noise=False,\n",
    "    )\n",
    "    \n",
    "    _slen = chunks.shape[-1] - image_encoder.border_padding*2\n",
    "    print(_slen)\n",
    "    est_params = encoder.get_full_params(tile_est, _slen)"
   ]
  },
  {
   "cell_type": "code",
   "execution_count": null,
   "id": "viral-driving",
   "metadata": {},
   "outputs": [],
   "source": [
    "combined = np.hstack([chunk.flatten(), _recon_image.flatten()])\n",
    "combined.shape"
   ]
  },
  {
   "cell_type": "code",
   "execution_count": null,
   "id": "aquatic-alloy",
   "metadata": {},
   "outputs": [],
   "source": [
    "# plot both images side by side.\n",
    "fig, axes = plt.subplots(1, 2, figsize=(12,6))\n",
    "_recon_image = recon_image.detach().cpu().numpy()[0, 0]\n",
    "\n",
    "ax1, ax2 = axes\n",
    "\n",
    "\n",
    "p = 0.1\n",
    "combined = np.hstack([chunk.flatten(), _recon_image.flatten()])\n",
    "vmin = np.percentile(combined, p)\n",
    "vmax = np.percentile(combined, 100-p)\n",
    "\n",
    "# plot the chunk and reconstruction image side by side.\n",
    "im1 = ax1.imshow(chunk, vmin=vmin, vmax=vmax)\n",
    "im2 = ax2.imshow(_recon_image, vmin=vmin, vmax=vmax)\n",
    "\n",
    "# true image and true locations\n",
    "ax1.scatter(_pt[galaxy_bool], _pr[galaxy_bool], marker='x', color='r', s=20)\n",
    "ax1.scatter(_pt[star_bool], _pr[star_bool], marker='+', color='b', s=30)\n",
    "\n",
    "\n",
    "# overlay the map estimate params on the full image\n",
    "_locs = est_params['locs']*_slen + image_encoder.border_padding\n",
    "_locs = _locs.detach().cpu().numpy()[0]\n",
    "_galaxy_bool = est_params['galaxy_bool'].bool().detach().cpu().numpy()[0, :, 0]\n",
    "ax2.scatter(_locs[:, 1][_galaxy_bool], _locs[:, 0][_galaxy_bool], marker='x', color='r', s=25)\n",
    "ax2.scatter(_locs[:, 1][~_galaxy_bool], _locs[:, 0][~_galaxy_bool], marker='+', color='b', s=30)\n",
    "\n",
    "# colorbar\n",
    "fig.colorbar(im1, ax=ax1, shrink=0.5)\n",
    "fig.colorbar(im2, ax=ax2, shrink=0.5)\n",
    "\n",
    "plt.tight_layout()"
   ]
  },
  {
   "cell_type": "code",
   "execution_count": null,
   "id": "general-capital",
   "metadata": {},
   "outputs": [],
   "source": []
  }
 ],
 "metadata": {
  "kernelspec": {
   "display_name": "bliss-W0ocb7P7-py3.8",
   "language": "python",
   "name": "bliss-w0ocb7p7-py3.8"
  },
  "language_info": {
   "codemirror_mode": {
    "name": "ipython",
    "version": 3
   },
   "file_extension": ".py",
   "mimetype": "text/x-python",
   "name": "python",
   "nbconvert_exporter": "python",
   "pygments_lexer": "ipython3",
   "version": "3.8.5"
  },
  "toc": {
   "base_numbering": 1,
   "nav_menu": {},
   "number_sections": true,
   "sideBar": true,
   "skip_h1_title": false,
   "title_cell": "Table of Contents",
   "title_sidebar": "Contents",
   "toc_cell": false,
   "toc_position": {
    "height": "calc(100% - 180px)",
    "left": "10px",
    "top": "150px",
    "width": "211.07337951660156px"
   },
   "toc_section_display": true,
   "toc_window_display": true
  }
 },
 "nbformat": 4,
 "nbformat_minor": 5
}

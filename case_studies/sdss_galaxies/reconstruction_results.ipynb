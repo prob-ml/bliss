{
 "cells": [
  {
   "cell_type": "markdown",
   "id": "7cd25cf6",
   "metadata": {},
   "source": [
    "# Setup"
   ]
  },
  {
   "cell_type": "code",
   "execution_count": null,
   "id": "660dc330",
   "metadata": {},
   "outputs": [],
   "source": [
    "%load_ext autoreload\n",
    "%autoreload 2\n",
    "%aimport"
   ]
  },
  {
   "cell_type": "code",
   "execution_count": null,
   "id": "e9c77103",
   "metadata": {},
   "outputs": [],
   "source": [
    "from sparse_field_lib import load_data"
   ]
  },
  {
   "cell_type": "code",
   "execution_count": null,
   "id": "416fe0d2",
   "metadata": {},
   "outputs": [],
   "source": [
    "import matplotlib.pyplot as plt\n",
    "import torch\n",
    "\n",
    "from bliss.datasets import sdss\n",
    "from bliss.models import encoder, decoder\n",
    "from bliss import sleep\n",
    "\n",
    "from astropy.table import Table"
   ]
  },
  {
   "cell_type": "code",
   "execution_count": null,
   "id": "1b6efd2f",
   "metadata": {},
   "outputs": [],
   "source": [
    "import ipywidgets as widgets\n",
    "from ipywidgets import interact, interactive, fixed, interact_manual\n",
    "\n",
    "import plotly.express as px\n",
    "import plotly.graph_objects as go"
   ]
  },
  {
   "cell_type": "code",
   "execution_count": null,
   "id": "932558c3",
   "metadata": {},
   "outputs": [],
   "source": [
    "# where is the sdss data? \n",
    "sdss_dir = '/home/imendoza/bliss/data/sdss/'"
   ]
  },
  {
   "cell_type": "code",
   "execution_count": null,
   "id": "753ae4f1",
   "metadata": {},
   "outputs": [],
   "source": [
    "# check GPU is configured correctly\n",
    "device = torch.device('cuda:0')\n",
    "!echo $CUDA_VISIBLE_DEVICES"
   ]
  },
  {
   "cell_type": "markdown",
   "id": "8978772e",
   "metadata": {},
   "source": [
    "## Utility"
   ]
  },
  {
   "cell_type": "code",
   "execution_count": null,
   "id": "ab7192e0",
   "metadata": {},
   "outputs": [],
   "source": [
    "from mpl_toolkits.axes_grid1 import make_axes_locatable\n",
    "\n",
    "\n",
    "def imshow_cbar(fig, ax, image, vmin=None, vmax=None, s=20): \n",
    "    divider = make_axes_locatable(ax)\n",
    "    cax = divider.append_axes(\"right\", size=\"5%\", pad=0.05)\n",
    "    im = ax.imshow(image, vmin=vmin, vmax=vmax)\n",
    "    cbar = fig.colorbar(im, cax=cax, orientation=\"vertical\")\n",
    "    cbar.ax.tick_params(labelsize=s)"
   ]
  },
  {
   "cell_type": "markdown",
   "id": "6cd5105f",
   "metadata": {},
   "source": [
    "# Load data"
   ]
  },
  {
   "cell_type": "code",
   "execution_count": null,
   "id": "d8830928",
   "metadata": {},
   "outputs": [],
   "source": [
    "sdss_data = sdss.SloanDigitalSkySurvey(\n",
    "    sdss_dir=sdss_dir,\n",
    "    run=94,\n",
    "    camcol=1,\n",
    "    fields=(12,),\n",
    "    bands=range(5),\n",
    "    overwrite_cache=True,\n",
    "    overwrite_fits_cache=True,\n",
    ")"
   ]
  },
  {
   "cell_type": "code",
   "execution_count": null,
   "id": "ae8703ae",
   "metadata": {},
   "outputs": [],
   "source": [
    "frame, fits_file, wcs_list, sdss_data = load_data(sdss_dir=sdss_dir)\n",
    "frame_fits = Table(sdss_data[0]['po_fits'])\n",
    "print(\"# objects detected by photo on frame: \", len(frame_fits))\n",
    "print(\"# objects detected by photo on coadd: \", len(fits_file['ra'][:]))\n",
    "frame = frame[0].numpy()\n",
    "print(frame.shape)"
   ]
  },
  {
   "cell_type": "code",
   "execution_count": null,
   "id": "0f0b91ae",
   "metadata": {},
   "outputs": [],
   "source": [
    "wcs = wcs_list[0]\n",
    "pt, pr = wcs.all_world2pix(fits_file['ra'][:], fits_file['dec'][:], 0)\n",
    "pt_frame, pr_frame = wcs.all_world2pix(frame_fits['RA'].reshape(-1), frame_fits['DEC'].reshape(-1), 0)\n",
    "\n",
    "# remove all locations that are not inside the image. \n",
    "keep = (pt > 0) & (pt < frame.shape[1]-1) & (pr > 0) & (pr < frame.shape[0]-1)\n",
    "pt = pt[keep]\n",
    "pr = pr[keep]\n",
    "is_star = fits_file['probpsf'][:].astype(bool)[keep]\n",
    "\n",
    "\n",
    "keep_frame = (pt_frame > 1) & (pt_frame < frame.shape[1]-1) & (pr_frame > 1) & (pr_frame < frame.shape[0]-1)\n",
    "pt_frame = pt_frame[keep_frame]\n",
    "pr_frame = pr_frame[keep_frame]\n",
    "is_star_frame = (frame_fits['OBJC_TYPE'][:]==6).astype(bool)[keep_frame]"
   ]
  },
  {
   "cell_type": "markdown",
   "id": "c9467f1f",
   "metadata": {},
   "source": [
    "# Visualize Frame"
   ]
  },
  {
   "cell_type": "code",
   "execution_count": null,
   "id": "0d591830",
   "metadata": {},
   "outputs": [],
   "source": [
    "%matplotlib inline\n",
    "print(frame.shape)\n",
    "fig, ax = plt.subplots(1, 1, figsize=(16, 12))\n",
    "imshow_cbar(fig, ax, frame, vmin=800, vmax=900)\n",
    "ax.scatter(x=pt[is_star], y=pr[is_star], c='r', marker='x', s=10)\n",
    "ax.scatter(x=pt[~is_star], y=pr[~is_star], c='b', marker='x', s=10)"
   ]
  },
  {
   "cell_type": "code",
   "execution_count": null,
   "id": "56e385b1",
   "metadata": {},
   "outputs": [],
   "source": [
    "# plotly\n",
    "fig = px.imshow(frame, zmin=800, zmax=900)\n",
    "scatter_galaxies_true = go.Scatter(name='true_galaxy', x=pt[~is_star], y=pr[~is_star], mode='markers', marker=dict(color='blue', size=7, symbol='x'))\n",
    "scatter_stars_true = go.Scatter(name='true_star', x=pt[is_star], y=pr[is_star], mode='markers', marker=dict(color='red', size=7, symbol='x'))\n",
    "\n",
    "fig.add_trace(scatter_galaxies_true)\n",
    "fig.add_trace(scatter_stars_true)"
   ]
  },
  {
   "cell_type": "markdown",
   "id": "6ee9d431",
   "metadata": {},
   "source": [
    "# Run BLISS on 300x300 chunk"
   ]
  },
  {
   "cell_type": "markdown",
   "id": "abdd35ed",
   "metadata": {},
   "source": [
    "## prepare model"
   ]
  },
  {
   "cell_type": "code",
   "execution_count": null,
   "id": "7c2f714b",
   "metadata": {},
   "outputs": [],
   "source": [
    "from bliss.models.galaxy_encoder import GalaxyEncoder\n",
    "from bliss.models.binary import BinaryEncoder\n",
    "from bliss.predict import prediction"
   ]
  },
  {
   "cell_type": "code",
   "execution_count": null,
   "id": "50f86b0a",
   "metadata": {},
   "outputs": [],
   "source": [
    "# prepare BLISS model \n",
    "sleep_file = '/home/imendoza/bliss/models/sdss_sleep.ckpt'\n",
    "galaxy_encoder_file = '/home/imendoza/bliss/models/sdss_galaxy_encoder.ckpt'\n",
    "binary_file = '/home/imendoza/bliss/models/sdss_binary.ckpt'\n",
    "\n",
    "sleep_net = sleep.SleepPhase.load_from_checkpoint(sleep_file)\n",
    "image_decoder = sleep_net.image_decoder.to(device).eval()\n",
    "image_encoder= sleep_net.image_encoder.to(device).eval()\n",
    "galaxy_encoder = GalaxyEncoder.load_from_checkpoint(galaxy_encoder_file).to(device).eval()\n",
    "binary_encoder = BinaryEncoder.load_from_checkpoint(binary_file).to(device).eval()"
   ]
  },
  {
   "cell_type": "markdown",
   "id": "55c2cbd8",
   "metadata": {},
   "source": [
    "## choose chunk"
   ]
  },
  {
   "cell_type": "code",
   "execution_count": null,
   "id": "6dda29f7",
   "metadata": {},
   "outputs": [],
   "source": [
    "lims = [\n",
    "    ((450, 750), (350, 650)), #fiducial\n",
    "    ((1250, 1550), (680, 980)), #random\n",
    "    ((200, 500), (1050, 1350)), #blends\n",
    "    ((1000, 1300), (1150, 1450)), #blends\n",
    "    ((1700, 2000), (100, 400)), #blends\n",
    "    ((600, 900), (400, 700)), #galaxy blends (1) -> paper\n",
    "    ((1700, 2000), (200, 500)), #galaxy blends (2)\n",
    "    ((800, 1100), (1150, 1450)), #galaxy blends (3)\n",
    "    ((50, 350), (1150, 1450)), #galaxy blends (4)\n",
    "    ((200, 500), (600, 900)), #galaxy blends (5) -> paper\n",
    "    ((1100, 1400), ((950, 1250))), #another large galaxy\n",
    "    ((1000, 1300), (50, 350)), # very faint, small sources. \n",
    "    ((900, 1200), (1100, 1400)), # random\n",
    "    ((1500, 1800), (400, 700)),\n",
    "    ((1700, 2000), (200, 500)), # galaxy blend -> paper\n",
    "]    \n",
    "choice = -1\n",
    "xlim, ylim = lims[choice]"
   ]
  },
  {
   "cell_type": "code",
   "execution_count": null,
   "id": "2f6bc14c",
   "metadata": {},
   "outputs": [],
   "source": [
    "assert xlim[1] - xlim[0] == 300 \n",
    "assert ylim[1] - ylim[0] == 300\n",
    "bp = image_encoder.border_padding\n",
    "\n",
    "chunk = frame[ylim[0]-bp:ylim[1]+bp, xlim[0]-bp:xlim[1]+bp]\n",
    "\n",
    "# restrict to 300x300 chunk \n",
    "keep = (pt > xlim[0]) & (pt < xlim[1]) & (pr < ylim[1]) & (pr > ylim[0])\n",
    "keep_frame = (pt_frame > xlim[0]) & (pt_frame < xlim[1]) & (pr_frame < ylim[1]) & (pr_frame > ylim[0])\n",
    "\n",
    "# obtain star and galaxy bools for each location.\n",
    "galaxy_bool = (~is_star) & keep\n",
    "star_bool = is_star & keep\n",
    "galaxy_bool_frame = (~is_star_frame) & keep_frame\n",
    "star_bool_frame = (is_star_frame) & keep_frame\n",
    "\n",
    "#account for bias\n",
    "_pt = pt - (xlim[0] - bp)\n",
    "_pr = pr - (ylim[0] - bp)\n",
    "\n",
    "_pt_frame = pt_frame - (xlim[0] - bp)\n",
    "_pr_frame = pr_frame - (ylim[0] - bp)\n",
    "\n",
    "# move image to device\n",
    "slen = 300 + 2 * bp\n",
    "chunk = torch.from_numpy(chunk.reshape(1, 1, *chunk.shape)[:, :, :slen, :slen]).to(device)\n",
    "\n",
    "# for plotting\n",
    "_chunk = chunk.reshape(slen,slen).cpu().numpy()\n",
    "print(chunk.shape, _chunk.shape)"
   ]
  },
  {
   "cell_type": "markdown",
   "id": "2131663a",
   "metadata": {},
   "source": [
    "## get estimate from chunk"
   ]
  },
  {
   "cell_type": "code",
   "execution_count": null,
   "id": "319b2bb6",
   "metadata": {},
   "outputs": [],
   "source": [
    "with torch.no_grad():\n",
    "\n",
    "    _, tile_est, est_params = prediction(chunk, image_encoder, galaxy_encoder, binary_encoder)\n",
    "\n",
    "    # plot image from tile est.\n",
    "    recon_image, _ = image_decoder.render_images(\n",
    "        tile_est[\"n_sources\"],\n",
    "        tile_est[\"locs\"],\n",
    "        tile_est[\"galaxy_bool\"],\n",
    "        tile_est[\"galaxy_params\"],\n",
    "        tile_est[\"fluxes\"],\n",
    "        add_noise=False,\n",
    "    )\n",
    "    \n",
    "    _slen = chunk.shape[-1] - image_encoder.border_padding*2"
   ]
  },
  {
   "cell_type": "markdown",
   "id": "a3dee6ba",
   "metadata": {},
   "source": [
    "## plot detections"
   ]
  },
  {
   "cell_type": "code",
   "execution_count": null,
   "id": "b5203d2b",
   "metadata": {},
   "outputs": [],
   "source": [
    "import plotly.express as px\n",
    "import plotly.graph_objects as go\n",
    "p_box = widgets.Dropdown(options=[1e-6, 5e-6, 1e-5, 5e-5, 1e-4, 5e-4, 1e-3,5e-3,1e-2,5e-2, 0.1, 0.3], description=\"p1\")\n",
    "@interact(p=p_box)\n",
    "def plot_chunk(p):\n",
    "    vmin = np.quantile(_chunk.flatten(), p)\n",
    "    vmax = np.quantile(_chunk.flatten(), 1.-p)\n",
    "    fig = px.imshow(_chunk, zmin=vmin, zmax=vmax)\n",
    "\n",
    "    # scatter objects.\n",
    "    scatter_galaxies_frame = go.Scatter(name='frame_galaxy', x=_pt_frame[galaxy_bool_frame], y=_pr_frame[galaxy_bool_frame], mode='markers', marker=dict(color='green', size=8, symbol='x'))\n",
    "    scatter_stars_frame = go.Scatter(name='frame_star', x=_pt_frame[star_bool_frame], y=_pr_frame[star_bool_frame], mode='markers', marker=dict(color='purple', size=8, symbol='x'))\n",
    "\n",
    "    scatter_galaxies_true = go.Scatter(name='true_galaxy', x=_pt[galaxy_bool], y=_pr[galaxy_bool], mode='markers', marker=dict(color='red', size=8, symbol='x'))\n",
    "    scatter_stars_true = go.Scatter(name='true_star', x=_pt[star_bool], y=_pr[star_bool], mode='markers', marker=dict(color='orange', size=8, symbol='x'))\n",
    "\n",
    "    _locs = est_params['locs']*_slen + image_encoder.border_padding - 0.5\n",
    "    _locs = _locs.detach().cpu().numpy()[0]\n",
    "    _galaxy_bool = est_params['galaxy_bool'].bool().detach().cpu().numpy()[0, :, 0]\n",
    "    _prob_galaxy = est_params['prob_galaxy'].float().detach().cpu().numpy()[0, :, 0]\n",
    "    _prob_n_sources = est_params['prob_n_sources'].float().detach().cpu().numpy()[0, :, 1]\n",
    "\n",
    "\n",
    "    scatter_galaxies_est = go.Scatter(name='est_galaxy', x=_locs[:, 1][_galaxy_bool], y=_locs[:, 0][_galaxy_bool], \n",
    "                                      mode='markers', marker=dict(color='blue', size=8, symbol='cross'),\n",
    "                                      hovertext=[f'prob_galaxy:{x:.2f}; prob_one_source: {y:.2f}' for (x,y) \n",
    "                                                 in zip(_prob_galaxy[_galaxy_bool], _prob_n_sources[_galaxy_bool])]\n",
    "                                     )\n",
    "    scatter_stars_est = go.Scatter(name='est_star', x=_locs[:, 1][~_galaxy_bool], y=_locs[:, 0][~_galaxy_bool], \n",
    "                                   mode='markers', marker=dict(color='cyan', size=8, symbol='cross'),\n",
    "                                  hovertext=[f'prob_galaxy:{x:.2f}; prob_one_source: {y:.2f}' for (x,y) in \n",
    "                                             zip(_prob_galaxy[~_galaxy_bool], _prob_n_sources[~_galaxy_bool])]\n",
    "                                  )\n",
    "\n",
    "    # add traces\n",
    "    fig.update_layout(width=800, height=800)\n",
    "    fig.add_trace(scatter_galaxies_true)\n",
    "    fig.add_trace(scatter_stars_true)\n",
    "    fig.add_trace(scatter_galaxies_est)\n",
    "    fig.add_trace(scatter_stars_est)\n",
    "    fig.add_trace(scatter_galaxies_frame)\n",
    "    fig.add_trace(scatter_stars_frame)\n",
    "    fig.update_layout(legend=dict(orientation=\"h\", y=1.02))\n",
    "    \n",
    "    # add border padding\n",
    "    fig.add_shape(type=\"line\", x0=24, x1=24, y0=0, y1=348, line=dict(color='white', width=3))\n",
    "    fig.add_shape(type=\"line\", x0=324, x1=324, y0=0, y1=348, line=dict(color='white', width=3))\n",
    "    fig.add_shape(type=\"line\", x0=0, x1=348, y0=24, y1=24, line=dict(color='white', width=3))\n",
    "    fig.add_shape(type=\"line\", x0=0, x1=348, y0=324, y1=324, line=dict(color='white', width=3))\n",
    "\n",
    "\n",
    "    fig.show()\n"
   ]
  },
  {
   "cell_type": "code",
   "execution_count": null,
   "id": "5a5629e0",
   "metadata": {},
   "outputs": [],
   "source": [
    "from figures.plot_defaults import set_rc_params"
   ]
  },
  {
   "cell_type": "code",
   "execution_count": null,
   "id": "4c341ead",
   "metadata": {},
   "outputs": [],
   "source": [
    "%matplotlib inline\n",
    "p1_box = widgets.Dropdown(options=[1e-6, 5e-4, 1e-3,5e-3,1e-2,5e-2, 0.1, 0.3], description=\"p1\")\n",
    "p2_box = widgets.Dropdown(options=[1e-6, 1e-4, 5e-4, 1e-3,5e-3,1e-2,5e-2, 0.1, 0.3], description=\"p2\")\n",
    "fontsize_box = widgets.Dropdown(options=[8, 10, 12, 14, 16, 18, 20], description=\"fontsize\")\n",
    "markersize_box = widgets.Dropdown(options=[2, 4, 6, 8, 10, 12], description=\"fontsize\")\n",
    "@interact(p1=p1_box, p2=p2_box, fontsize = fontsize_box, markersize=markersize_box)\n",
    "def plot_residuals(p1, p2, fontsize):\n",
    "    \n",
    "    # default\n",
    "    xrange = (0, 300)\n",
    "    yrange = (0, 300)\n",
    "    \n",
    "#     blend (1)\n",
    "#     xrange = (135, 185)\n",
    "#     yrange = (50, 100)\n",
    "\n",
    "# #     blend (2)\n",
    "#     xrange = (180, 230)\n",
    "#     yrange = (90, 140)\n",
    "    \n",
    "    set_rc_params(figsize=(21, 7), lines_marker_size=8)\n",
    "    \n",
    "    \n",
    "    fig, axes = plt.subplots(1, 3)\n",
    "    _recon_image = recon_image.detach().cpu().numpy()[0, 0]\n",
    "\n",
    "\n",
    "    # crop the border padding since it will dominate reconstruction.\n",
    "    bp = image_encoder.border_padding\n",
    "    __chunk = _chunk[bp+yrange[0]:slen-bp-(_slen-yrange[1]), bp+xrange[0]:slen-bp-(_slen-xrange[1])]\n",
    "    __recon_image = _recon_image[bp+yrange[0]:slen-bp-(_slen-yrange[1]), bp+xrange[0]:slen-bp-(_slen-xrange[1])]\n",
    "    residual = (__chunk - __recon_image)/np.sqrt(__recon_image)\n",
    "    \n",
    "    ax1, ax2, ax3 = axes\n",
    "\n",
    "\n",
    "    combined = np.hstack([__chunk.flatten(), __recon_image.flatten()])\n",
    "    vmin1 = np.quantile(combined, p1)\n",
    "    vmax1 = np.quantile(combined, 1. - p1)\n",
    "    vmin2 = np.quantile(residual.flatten(), p2)\n",
    "    vmax2 = np.quantile(residual.flatten(), 1. - p2)\n",
    "\n",
    "    # plot the chunk and reconstruction image side by side.\n",
    "    im1 = imshow_cbar(fig, ax1, __chunk, vmin=vmin1, vmax=vmax1)\n",
    "    im2 = imshow_cbar(fig, ax2, __recon_image, vmin=vmin1, vmax=vmax1)\n",
    "    im3 = imshow_cbar(fig, ax3, residual, vmin=vmin2, vmax=vmax2)\n",
    "\n",
    "    # true image and true locations\n",
    "    __pt = _pt - bp - xrange[0]\n",
    "    __pr = _pr - bp - yrange[0]\n",
    "    keep = (__pt > 0) & (__pr > 0) & (__pt < xrange[1] - xrange[0]) & (__pr < yrange[1] - yrange[0])\n",
    "    __pt = __pt[keep]\n",
    "    __pr = __pr[keep]\n",
    "    galaxy_bool_ = galaxy_bool[keep]\n",
    "    star_bool_ = star_bool[keep]\n",
    "    ax1.scatter(__pt[galaxy_bool_], __pr[galaxy_bool_], marker='x', color='r')\n",
    "    ax1.scatter(__pt[star_bool_], __pr[star_bool_], marker='+', color='b')\n",
    "    \n",
    "\n",
    "    # overlay the map estimate params on the full image\n",
    "    _locs = est_params['locs']*_slen - 0.5\n",
    "    _locs = _locs.detach().cpu().numpy()[0]\n",
    "    _galaxy_bool = est_params['galaxy_bool'].bool().detach().cpu().numpy()[0, :, 0]\n",
    "    _prob_galaxy = est_params['prob_galaxy'].float().detach().cpu().numpy()[0, :, 0]\n",
    "    \n",
    "    # need to adjust _locs also based on ranges\n",
    "    # note it already accounts for border padding.\n",
    "    _locs[:, 1] = _locs[:, 1] - xrange[0]\n",
    "    _locs[:, 0] = _locs[:, 0] - yrange[0]\n",
    "    \n",
    "    # TODO: filter and get keep... \n",
    "    keep_est = (_locs[:, 0] > 0) & (_locs[:, 1] > 0) & (_locs[:, 1] < xrange[1] - xrange[0]) & (_locs[:, 0] < yrange[1] - yrange[0])\n",
    "    \n",
    "    _locs = _locs[keep_est]\n",
    "    _galaxy_bool = _galaxy_bool[keep_est]\n",
    "    _prob_galaxy = _prob_galaxy[keep_est]\n",
    "\n",
    "\n",
    "    \n",
    "    ax2.scatter(_locs[:, 1][_galaxy_bool], _locs[:, 0][_galaxy_bool], marker='x', color='r')\n",
    "    ax2.scatter(_locs[:, 1][~_galaxy_bool], _locs[:, 0][~_galaxy_bool], marker='+', color='b')\n",
    "\n",
    "    # annotate with probabilities for sharing\n",
    "    for prob, (yi, xi) in zip(_prob_galaxy[_galaxy_bool], _locs[_galaxy_bool]):\n",
    "        ax2.annotate(f\"{prob:.2f}\", (xi, yi), color='r', fontsize=fontsize)\n",
    "\n",
    "    for prob, (yi, xi) in zip(_prob_galaxy[~_galaxy_bool], _locs[~_galaxy_bool]):\n",
    "        ax2.annotate(f\"{prob:.2f}\", (xi, yi), color='b', fontsize=fontsize)\n",
    "\n",
    "\n",
    "\n",
    "    print('red = galaxy')\n",
    "    print('blue = star')\n",
    "\n",
    "    ax1.tick_params(labelsize=18, length=3, width=2)\n",
    "    ax2.tick_params(labelsize=18, length=3, width=2)\n",
    "    plt.tight_layout()\n",
    "\n",
    "\n",
    "    plt.show()"
   ]
  },
  {
   "cell_type": "code",
   "execution_count": null,
   "id": "3a62404e",
   "metadata": {},
   "outputs": [],
   "source": []
  }
 ],
 "metadata": {
  "kernelspec": {
   "display_name": "bliss-W0ocb7P7-py3.8",
   "language": "python",
   "name": "bliss-w0ocb7p7-py3.8"
  },
  "language_info": {
   "codemirror_mode": {
    "name": "ipython",
    "version": 3
   },
   "file_extension": ".py",
   "mimetype": "text/x-python",
   "name": "python",
   "nbconvert_exporter": "python",
   "pygments_lexer": "ipython3",
   "version": "3.8.10"
  },
  "toc": {
   "base_numbering": 1,
   "nav_menu": {},
   "number_sections": true,
   "sideBar": true,
   "skip_h1_title": false,
   "title_cell": "Table of Contents",
   "title_sidebar": "Contents",
   "toc_cell": false,
   "toc_position": {
    "height": "511.3043518066406px",
    "left": "58.991851806640625px",
    "top": "110.44837188720703px",
    "width": "165px"
   },
   "toc_section_display": true,
   "toc_window_display": true
  }
 },
 "nbformat": 4,
 "nbformat_minor": 5
}

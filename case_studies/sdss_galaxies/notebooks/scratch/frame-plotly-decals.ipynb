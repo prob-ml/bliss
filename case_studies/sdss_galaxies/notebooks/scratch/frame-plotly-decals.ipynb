{
 "cells": [
  {
   "cell_type": "code",
   "execution_count": 1,
   "id": "73591771",
   "metadata": {
    "ExecuteTime": {
     "end_time": "2022-07-08T04:46:48.818687Z",
     "start_time": "2022-07-08T04:46:48.790556Z"
    }
   },
   "outputs": [
    {
     "name": "stdout",
     "output_type": "stream",
     "text": [
      "Modules to reload:\n",
      "all-except-skipped\n",
      "\n",
      "Modules to skip:\n",
      "\n"
     ]
    }
   ],
   "source": [
    "%load_ext autoreload\n",
    "%autoreload 2\n",
    "%aimport"
   ]
  },
  {
   "cell_type": "code",
   "execution_count": 2,
   "id": "25a594a4",
   "metadata": {
    "ExecuteTime": {
     "end_time": "2022-07-08T04:46:49.509578Z",
     "start_time": "2022-07-08T04:46:48.917188Z"
    }
   },
   "outputs": [],
   "source": [
    "%matplotlib inline "
   ]
  },
  {
   "cell_type": "code",
   "execution_count": 4,
   "id": "78c15681",
   "metadata": {
    "ExecuteTime": {
     "end_time": "2022-07-08T04:47:05.585420Z",
     "start_time": "2022-07-08T04:47:05.252066Z"
    }
   },
   "outputs": [],
   "source": [
    "import matplotlib.pyplot as plt\n",
    "import torch\n",
    "\n",
    "from bliss.inference import SDSSFrame\n",
    "from bliss.datasets import sdss\n",
    "from bliss.inference import reconstruct_scene_at_coordinates\n",
    "from case_studies.sdss_galaxies.plots.main import load_models\n",
    "\n",
    "\n",
    "from astropy.table import Table\n",
    "\n",
    "import plotly.express as px\n",
    "import plotly.graph_objects as go"
   ]
  },
  {
   "cell_type": "code",
   "execution_count": 5,
   "id": "ee835f6e",
   "metadata": {
    "ExecuteTime": {
     "end_time": "2022-07-08T04:47:07.420392Z",
     "start_time": "2022-07-08T04:47:06.569842Z"
    }
   },
   "outputs": [
    {
     "name": "stdout",
     "output_type": "stream",
     "text": [
      "5\r\n"
     ]
    }
   ],
   "source": [
    "# check GPU is configured correctly\n",
    "device = torch.device('cuda:0')\n",
    "!echo $CUDA_VISIBLE_DEVICES"
   ]
  },
  {
   "cell_type": "markdown",
   "id": "a02736c0",
   "metadata": {},
   "source": [
    "# Load data"
   ]
  },
  {
   "cell_type": "code",
   "execution_count": 7,
   "id": "c7668349",
   "metadata": {
    "ExecuteTime": {
     "end_time": "2022-07-08T04:50:34.701660Z",
     "start_time": "2022-07-08T04:50:30.158191Z"
    }
   },
   "outputs": [],
   "source": [
    "# load models\n",
    "from hydra import compose, initialize\n",
    "from hydra.utils import instantiate\n",
    "from bliss.encoder import Encoder\n",
    "\n",
    "with initialize(config_path=\"../../config\"):\n",
    "    cfg = compose(\"config\", overrides=[])\n",
    "    \n",
    "    \n",
    "enc, dec = load_models(cfg, device)\n",
    "bp = enc.border_padding\n",
    "torch.cuda.empty_cache()"
   ]
  },
  {
   "cell_type": "code",
   "execution_count": 8,
   "id": "2495c839",
   "metadata": {
    "ExecuteTime": {
     "end_time": "2022-07-08T04:50:41.032902Z",
     "start_time": "2022-07-08T04:50:37.139252Z"
    }
   },
   "outputs": [
    {
     "data": {
      "text/plain": [
       "tensor([1139])"
      ]
     },
     "execution_count": 8,
     "metadata": {},
     "output_type": "execute_result"
    }
   ],
   "source": [
    "#ra_lim = (336.5825, 336.7461)\n",
    "#dec_lim = (-1.044, -0.8189)\n",
    "\n",
    "bp = 24\n",
    "frame = instantiate(cfg.plots.frame, cat_type='decals', cat_file=\"../../../../data/sweep-330m005-340p000.fits\")\n",
    "h_topleft = bp\n",
    "w_topleft = bp\n",
    "h_end = ((frame.image.shape[2] - 2 * bp) // 4) * 4 + bp\n",
    "w_end = ((frame.image.shape[3] - 2 * bp) // 4) * 4 + bp\n",
    "hlim = (h_topleft, h_end)\n",
    "wlim = (w_topleft, w_end)\n",
    "\n",
    "decals_cat = frame.get_catalog(hlim, wlim)\n",
    "decals = decals_cat.apply_mag_bin(-np.inf, 23)\n",
    "decals.n_sources"
   ]
  },
  {
   "cell_type": "markdown",
   "id": "1fd32af1",
   "metadata": {},
   "source": [
    "# Get Locations"
   ]
  },
  {
   "cell_type": "code",
   "execution_count": 12,
   "id": "8fa03c35",
   "metadata": {
    "ExecuteTime": {
     "end_time": "2022-07-08T04:52:25.748383Z",
     "start_time": "2022-07-08T04:52:14.104903Z"
    },
    "collapsed": true
   },
   "outputs": [
    {
     "name": "stderr",
     "output_type": "stream",
     "text": [
      "Encoding ptiles: 24it [00:10,  2.37it/s]\n"
     ]
    },
    {
     "ename": "KeyError",
     "evalue": "'galaxy_fluxes'",
     "output_type": "error",
     "traceback": [
      "\u001b[0;31m---------------------------------------------------------------------------\u001b[0m",
      "\u001b[0;31mKeyError\u001b[0m                                  Traceback (most recent call last)",
      "Input \u001b[0;32mIn [12]\u001b[0m, in \u001b[0;36m<cell line: 13>\u001b[0;34m()\u001b[0m\n\u001b[1;32m      3\u001b[0m     _, tile_est \u001b[38;5;241m=\u001b[39m reconstruct_scene_at_coordinates(\n\u001b[1;32m      4\u001b[0m         enc,\n\u001b[1;32m      5\u001b[0m         dec,\n\u001b[0;32m   (...)\u001b[0m\n\u001b[1;32m      9\u001b[0m         w_range\u001b[38;5;241m=\u001b[39mwlim,\n\u001b[1;32m     10\u001b[0m     )\n\u001b[1;32m     11\u001b[0m map_recon \u001b[38;5;241m=\u001b[39m tile_est\u001b[38;5;241m.\u001b[39mto_full_params()\n\u001b[1;32m     12\u001b[0m map_recon[\u001b[38;5;124m\"\u001b[39m\u001b[38;5;124mfluxes\u001b[39m\u001b[38;5;124m\"\u001b[39m] \u001b[38;5;241m=\u001b[39m (\n\u001b[0;32m---> 13\u001b[0m     map_recon[\u001b[38;5;124m\"\u001b[39m\u001b[38;5;124mgalaxy_bools\u001b[39m\u001b[38;5;124m\"\u001b[39m] \u001b[38;5;241m*\u001b[39m \u001b[43mmap_recon\u001b[49m\u001b[43m[\u001b[49m\u001b[38;5;124;43m\"\u001b[39;49m\u001b[38;5;124;43mgalaxy_fluxes\u001b[39;49m\u001b[38;5;124;43m\"\u001b[39;49m\u001b[43m]\u001b[49m\n\u001b[1;32m     14\u001b[0m     \u001b[38;5;241m+\u001b[39m map_recon[\u001b[38;5;124m\"\u001b[39m\u001b[38;5;124mstar_bools\u001b[39m\u001b[38;5;124m\"\u001b[39m] \u001b[38;5;241m*\u001b[39m map_recon[\u001b[38;5;124m\"\u001b[39m\u001b[38;5;124mfluxes\u001b[39m\u001b[38;5;124m\"\u001b[39m]\n\u001b[1;32m     15\u001b[0m )\n\u001b[1;32m     16\u001b[0m map_recon[\u001b[38;5;124m\"\u001b[39m\u001b[38;5;124mmags\u001b[39m\u001b[38;5;124m\"\u001b[39m] \u001b[38;5;241m=\u001b[39m sdss\u001b[38;5;241m.\u001b[39mconvert_flux_to_mag(map_recon[\u001b[38;5;124m\"\u001b[39m\u001b[38;5;124mfluxes\u001b[39m\u001b[38;5;124m\"\u001b[39m])\n\u001b[1;32m     17\u001b[0m torch\u001b[38;5;241m.\u001b[39mcuda\u001b[38;5;241m.\u001b[39mempty_cache()\n",
      "File \u001b[0;32m~/bliss.git/feature/bliss/catalog.py:292\u001b[0m, in \u001b[0;36mFullCatalog.__getitem__\u001b[0;34m(self, key)\u001b[0m\n\u001b[1;32m    290\u001b[0m \u001b[38;5;28;01mdef\u001b[39;00m \u001b[38;5;21m__getitem__\u001b[39m(\u001b[38;5;28mself\u001b[39m, key: \u001b[38;5;28mstr\u001b[39m) \u001b[38;5;241m-\u001b[39m\u001b[38;5;241m>\u001b[39m Tensor:\n\u001b[1;32m    291\u001b[0m     \u001b[38;5;28;01massert\u001b[39;00m \u001b[38;5;28misinstance\u001b[39m(key, \u001b[38;5;28mstr\u001b[39m)\n\u001b[0;32m--> 292\u001b[0m     \u001b[38;5;28;01mreturn\u001b[39;00m \u001b[38;5;28;43msuper\u001b[39;49m\u001b[43m(\u001b[49m\u001b[43m)\u001b[49m\u001b[38;5;241;43m.\u001b[39;49m\u001b[38;5;21;43m__getitem__\u001b[39;49m\u001b[43m(\u001b[49m\u001b[43mkey\u001b[49m\u001b[43m)\u001b[49m\n",
      "File \u001b[0;32m/usr/lib/python3.8/collections/__init__.py:1010\u001b[0m, in \u001b[0;36mUserDict.__getitem__\u001b[0;34m(self, key)\u001b[0m\n\u001b[1;32m   1008\u001b[0m \u001b[38;5;28;01mif\u001b[39;00m \u001b[38;5;28mhasattr\u001b[39m(\u001b[38;5;28mself\u001b[39m\u001b[38;5;241m.\u001b[39m\u001b[38;5;18m__class__\u001b[39m, \u001b[38;5;124m\"\u001b[39m\u001b[38;5;124m__missing__\u001b[39m\u001b[38;5;124m\"\u001b[39m):\n\u001b[1;32m   1009\u001b[0m     \u001b[38;5;28;01mreturn\u001b[39;00m \u001b[38;5;28mself\u001b[39m\u001b[38;5;241m.\u001b[39m\u001b[38;5;18m__class__\u001b[39m\u001b[38;5;241m.\u001b[39m\u001b[38;5;21m__missing__\u001b[39m(\u001b[38;5;28mself\u001b[39m, key)\n\u001b[0;32m-> 1010\u001b[0m \u001b[38;5;28;01mraise\u001b[39;00m \u001b[38;5;167;01mKeyError\u001b[39;00m(key)\n",
      "\u001b[0;31mKeyError\u001b[0m: 'galaxy_fluxes'"
     ]
    }
   ],
   "source": [
    "#inference\n",
    "with torch.no_grad():\n",
    "    _, tile_est = reconstruct_scene_at_coordinates(\n",
    "        enc,\n",
    "        dec,\n",
    "        frame.image,\n",
    "        frame.background,\n",
    "        h_range=hlim,\n",
    "        w_range=wlim,\n",
    "    )"
   ]
  },
  {
   "cell_type": "code",
   "execution_count": null,
   "id": "753040f0",
   "metadata": {},
   "outputs": [],
   "source": [
    "map_recon = tile_est.to_full_params()\n",
    "map_recon[\"fluxes\"] = (\n",
    "    map_recon[\"galaxy_bools\"] * map_recon[\"galaxy_fluxes\"]\n",
    "    + map_recon[\"star_bools\"] * map_recon[\"fluxes\"]\n",
    ")\n",
    "map_recon[\"mags\"] = sdss.convert_flux_to_mag(map_recon[\"fluxes\"])\n",
    "torch.cuda.empty_cache()"
   ]
  },
  {
   "cell_type": "code",
   "execution_count": null,
   "id": "1e2353c0",
   "metadata": {},
   "outputs": [],
   "source": [
    "# prepare inference locs\n",
    "plocs = map_recon.plocs.cpu().numpy().squeeze() + bp - 0.5 # plotting adjustment\n",
    "coords = frame.wcs.all_pix2world(np.hstack([plocs[:, 1, None], plocs[:, 0, None]]), 0)\n",
    "galaxy_bool = map_recon['galaxy_bools'].numpy().astype(bool).squeeze()\n",
    "galaxy_prob = map_recon['galaxy_probs'].numpy().squeeze()\n",
    "mags = map_recon['mags'].squeeze().numpy()\n"
   ]
  },
  {
   "cell_type": "code",
   "execution_count": null,
   "id": "98cfcf34",
   "metadata": {},
   "outputs": [],
   "source": [
    "# coadd params\n",
    "coplocs = coadd_params.plocs.squeeze().numpy() + bp - 0.5 # plotting adjustment\n",
    "cogbool = coadd_params['galaxy_bools'].squeeze().numpy()\n",
    "\n",
    "cora = coadd_params['ra'].squeeze().numpy()\n",
    "codec = coadd_params['dec'].squeeze().numpy()\n",
    "comags = coadd_params['mags'].squeeze().numpy()"
   ]
  },
  {
   "cell_type": "markdown",
   "id": "20db5098",
   "metadata": {},
   "source": [
    "# Plotly Frame"
   ]
  },
  {
   "cell_type": "code",
   "execution_count": null,
   "id": "f3a10e1d",
   "metadata": {},
   "outputs": [],
   "source": [
    "from bliss.reporting import match_by_locs\n",
    "\n",
    "coindx, indx, dkeep, _ = match_by_locs(torch.from_numpy(coplocs), torch.from_numpy(plocs))\n",
    "nindx = np.array(list(set(range(len(plocs))).difference(set(indx))))\n",
    "assert len(indx) + len(nindx) == len(plocs)\n",
    "\n",
    "gal_misclass = ~np.equal(galaxy_bool[indx][dkeep], cogbool[coindx][dkeep]) & cogbool[coindx][dkeep]\n",
    "plocs_misclassified = plocs[indx][dkeep][gal_misclass]\n",
    "plocs_unmatched = plocs[nindx]\n",
    "plocs_unmatched_dist = plocs[indx][~dkeep]\n"
   ]
  },
  {
   "cell_type": "code",
   "execution_count": null,
   "id": "71b07c6d",
   "metadata": {},
   "outputs": [],
   "source": [
    "image = frame.image.squeeze().numpy()\n",
    "\n",
    "fig = px.imshow(image, width=800, height=550, zmin=800, zmax=1150, color_continuous_scale='gray')\n",
    "\n",
    "\n",
    "# create scatter objects\n",
    "scatter_coadd_galaxies = go.Scatter(name='galaxy coadd', x=coplocs[cogbool][:, 1], y=coplocs[cogbool][:, 0], \n",
    "                                  mode='markers', marker=dict(color='red', size=8, symbol='cross'), \n",
    "                                 hovertext=[f'mag:{x:.2f}; (ra, dec):({y:.4f}, {z:.4f})' \n",
    "                                            for (x, y,z) in zip(comags[cogbool], \n",
    "                                                             cora[cogbool],\n",
    "                                                             codec[cogbool])]\n",
    "                                 )\n",
    "scatter_coadd_star = go.Scatter(name='star coadd', x=coplocs[~cogbool][:, 1], y=coplocs[~cogbool][:, 0], \n",
    "                                  mode='markers', marker=dict(color='blue', size=8, symbol='cross'),\n",
    "                                 hovertext=[f'mag:{x:.2f}; (ra, dec):({y:.4f}, {z:.4f})' \n",
    "                                            for (x, y,z) in zip(comags[~cogbool], \n",
    "                                                             cora[~cogbool],\n",
    "                                                             codec[~cogbool])]\n",
    "                                 )\n",
    "scatter_bliss_galaxies = go.Scatter(name='galaxy pred', x=plocs[galaxy_bool][:, 1], y=plocs[galaxy_bool][:, 0], \n",
    "                                  mode='markers', marker=dict(color='hotpink', size=11, symbol='x'),\n",
    "                                 hovertext=[f'mag:{a:.2f}; prob_galaxy:{x:.2f}; (ra, dec):({y:.4f}, {z:.4f})' \n",
    "                                            for (a, x, y,z) in zip(mags[galaxy_bool], \n",
    "                                                               galaxy_prob[galaxy_bool], \n",
    "                                                               coords[galaxy_bool][:, 0], \n",
    "                                                               coords[galaxy_bool][:, 1])]\n",
    "                                 )\n",
    "scatter_bliss_star = go.Scatter(name='star pred', x=plocs[~galaxy_bool][:, 1], y=plocs[~galaxy_bool][:, 0], \n",
    "                                mode='markers', marker=dict(color='cyan', size=11, symbol='x'),\\\n",
    "                                 hovertext=[f'mag:{a:.2f}; prob_galaxy:{x:.2f}; (ra, dec):({y:.4f},{z:.4f})' \n",
    "                                            for (a, x,y,z) in zip(mags[~galaxy_bool], \n",
    "                                                               galaxy_prob[~galaxy_bool], \n",
    "                                                               coords[~galaxy_bool][:, 0], \n",
    "                                                               coords[~galaxy_bool][:, 1])]\n",
    "                                 )\n",
    "\n",
    "scatter_unmatched = go.Scatter(name='unmatched', x=plocs_unmatched[:, 1], y=plocs_unmatched[:, 0], \n",
    "                                mode='markers', marker=dict(color='magenta', size=10, symbol='cross'),\n",
    "                                 )\n",
    "scatter_unmatched_dist = go.Scatter(name='unmatched (distance)', x=plocs_unmatched_dist[:, 1], y=plocs_unmatched_dist[:, 0], \n",
    "                                mode='markers', marker=dict(color='green', size=10, symbol='cross'),\n",
    "                                 )\n",
    "scatter_misclassified = go.Scatter(name='misclassified', x=plocs_misclassified[:, 1], y=plocs_misclassified[:, 0], \n",
    "                                mode='markers', marker=dict(color='yellow', size=10, symbol='cross'),\n",
    "                                 )\n",
    "\n",
    "# add traces to figure\n",
    "fig.add_trace(scatter_coadd_galaxies)\n",
    "fig.add_trace(scatter_coadd_star)\n",
    "fig.add_trace(scatter_bliss_galaxies)\n",
    "fig.add_trace(scatter_bliss_star)\n",
    "fig.add_trace(scatter_unmatched)\n",
    "fig.add_trace(scatter_unmatched_dist)\n",
    "fig.add_trace(scatter_misclassified)\n",
    "\n",
    "\n",
    "fig.update_layout(legend=dict(orientation=\"h\", y=1.05)) # adjust legend\n",
    "\n",
    "\n",
    "fig.show()\n",
    "\n"
   ]
  },
  {
   "cell_type": "code",
   "execution_count": null,
   "id": "8b33fa83",
   "metadata": {},
   "outputs": [],
   "source": []
  }
 ],
 "metadata": {
  "kernelspec": {
   "display_name": "Python 3 (ipykernel)",
   "language": "python",
   "name": "python3"
  },
  "language_info": {
   "codemirror_mode": {
    "name": "ipython",
    "version": 3
   },
   "file_extension": ".py",
   "mimetype": "text/x-python",
   "name": "python",
   "nbconvert_exporter": "python",
   "pygments_lexer": "ipython3",
   "version": "3.8.10"
  },
  "toc": {
   "base_numbering": 1,
   "nav_menu": {},
   "number_sections": true,
   "sideBar": true,
   "skip_h1_title": false,
   "title_cell": "Table of Contents",
   "title_sidebar": "Contents",
   "toc_cell": false,
   "toc_position": {
    "height": "calc(100% - 180px)",
    "left": "10px",
    "top": "150px",
    "width": "165px"
   },
   "toc_section_display": true,
   "toc_window_display": true
  }
 },
 "nbformat": 4,
 "nbformat_minor": 5
}

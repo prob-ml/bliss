{
 "cells": [
  {
   "cell_type": "code",
   "execution_count": null,
   "id": "73591771",
   "metadata": {},
   "outputs": [],
   "source": [
    "%load_ext autoreload\n",
    "%autoreload 2\n",
    "%aimport"
   ]
  },
  {
   "cell_type": "code",
   "execution_count": null,
   "id": "25a594a4",
   "metadata": {},
   "outputs": [],
   "source": [
    "%matplotlib inline "
   ]
  },
  {
   "cell_type": "code",
   "execution_count": null,
   "id": "78c15681",
   "metadata": {},
   "outputs": [],
   "source": [
    "import matplotlib.pyplot as plt\n",
    "import torch\n",
    "\n",
    "from bliss.inference import SDSSFrame\n",
    "from bliss.datasets import sdss\n",
    "from bliss.inference import reconstruct_scene_at_coordinates\n",
    "from case_studies.sdss_galaxies.plots.main import load_models\n",
    "\n",
    "\n",
    "from astropy.table import Table\n",
    "\n",
    "import plotly.express as px\n",
    "import plotly.graph_objects as go"
   ]
  },
  {
   "cell_type": "code",
   "execution_count": null,
   "id": "ee835f6e",
   "metadata": {},
   "outputs": [],
   "source": [
    "# check GPU is configured correctly\n",
    "device = torch.device('cuda:0')\n",
    "!echo $CUDA_VISIBLE_DEVICES"
   ]
  },
  {
   "cell_type": "markdown",
   "id": "a02736c0",
   "metadata": {},
   "source": [
    "# Load data"
   ]
  },
  {
   "cell_type": "code",
   "execution_count": null,
   "id": "c7668349",
   "metadata": {},
   "outputs": [],
   "source": [
    "# load models\n",
    "from hydra import compose, initialize\n",
    "from hydra.utils import instantiate\n",
    "from bliss.encoder import Encoder\n",
    "\n",
    "with initialize(config_path=\"../../config\"):\n",
    "    cfg = compose(\"config\", overrides=[])\n",
    "    \n",
    "    \n",
    "enc, dec = load_models(cfg, device)\n",
    "bp = enc.border_padding\n",
    "torch.cuda.empty_cache()"
   ]
  },
  {
   "cell_type": "code",
   "execution_count": null,
   "id": "2495c839",
   "metadata": {},
   "outputs": [],
   "source": [
    "#ra_lim = (336.5825, 336.7461)\n",
    "#dec_lim = (-1.044, -0.8189)\n",
    "\n",
    "bp = 24\n",
    "frame = instantiate(cfg.plots.frame, cat_type='decals', cat_file=\"../../../../data/sweep-330m005-340p000.fits\")\n",
    "h_topleft = bp\n",
    "w_topleft = bp\n",
    "h_end = ((frame.image.shape[2] - 2 * bp) // 4) * 4 + bp\n",
    "w_end = ((frame.image.shape[3] - 2 * bp) // 4) * 4 + bp\n",
    "hlim = (h_topleft, h_end)\n",
    "wlim = (w_topleft, w_end)\n",
    "\n",
    "decals_cat = frame.get_catalog(hlim, wlim)\n",
    "decals = decals_cat.apply_mag_bin(-np.inf, 23)\n",
    "decals.n_sources"
   ]
  },
  {
   "cell_type": "markdown",
   "id": "1fd32af1",
   "metadata": {},
   "source": [
    "# Get Locations"
   ]
  },
  {
   "cell_type": "code",
   "execution_count": null,
   "id": "8fa03c35",
   "metadata": {},
   "outputs": [],
   "source": [
    "#inference\n",
    "with torch.no_grad():\n",
    "    _, tile_est = reconstruct_scene_at_coordinates(\n",
    "        enc,\n",
    "        dec,\n",
    "        frame.image,\n",
    "        frame.background,\n",
    "        h_range=hlim,\n",
    "        w_range=wlim,\n",
    "    )"
   ]
  },
  {
   "cell_type": "code",
   "execution_count": null,
   "id": "753040f0",
   "metadata": {},
   "outputs": [],
   "source": [
    "tile_est.set_all_fluxes_and_mags(dec)\n",
    "map_recon = tile_est.cpu().to_full_params()\n",
    "torch.cuda.empty_cache()"
   ]
  },
  {
   "cell_type": "code",
   "execution_count": null,
   "id": "1e2353c0",
   "metadata": {},
   "outputs": [],
   "source": [
    "# prepare inference locs\n",
    "plocs = map_recon.plocs.cpu().numpy().squeeze() + bp - 0.5 # plotting adjustment\n",
    "coords = frame.wcs.all_pix2world(np.hstack([plocs[:, 1, None], plocs[:, 0, None]]), 0)\n",
    "galaxy_bool = map_recon['galaxy_bools'].numpy().astype(bool).squeeze()\n",
    "galaxy_prob = map_recon['galaxy_probs'].numpy().squeeze()\n",
    "mags = map_recon['mags'].squeeze().numpy()\n",
    "n_probs = np.exp(map_recon['n_source_log_probs'].squeeze().numpy())"
   ]
  },
  {
   "cell_type": "code",
   "execution_count": null,
   "id": "98cfcf34",
   "metadata": {},
   "outputs": [],
   "source": [
    "# coadd params\n",
    "coplocs = decals.plocs.squeeze().numpy() + bp - 0.5 # plotting adjustment\n",
    "cogbool = decals['galaxy_bools'].squeeze().numpy().astype(bool)\n",
    "cobjid = decals['objid'].squeeze().numpy()\n",
    "\n",
    "cora = decals['ra'].squeeze().numpy()\n",
    "codec = decals['dec'].squeeze().numpy()\n",
    "comags = decals['mags'].squeeze().numpy()"
   ]
  },
  {
   "cell_type": "markdown",
   "id": "20db5098",
   "metadata": {},
   "source": [
    "# Plotly Frame"
   ]
  },
  {
   "cell_type": "code",
   "execution_count": null,
   "id": "a4876131",
   "metadata": {},
   "outputs": [],
   "source": [
    "# cut on mag\n",
    "lim_mag = 20 \n",
    "keep = mags < 20\n",
    "plocs = plocs[keep]\n",
    "coords = coords[keep]\n",
    "galaxy_bool = galaxy_bool[keep]\n",
    "galaxy_prob = galaxy_prob[keep]\n",
    "n_probs = n_probs[keep]\n",
    "mags = mags[keep]\n",
    "\n",
    "cokeep = comags < 23\n",
    "coplocs = coplocs[cokeep]\n",
    "cogbool = cogbool[cokeep]\n",
    "cora = cora[cokeep]\n",
    "codec = codec[cokeep]\n",
    "comags = comags[cokeep]\n",
    "cobjid = cobjid[cokeep]"
   ]
  },
  {
   "cell_type": "code",
   "execution_count": null,
   "id": "f3a10e1d",
   "metadata": {},
   "outputs": [],
   "source": [
    "from bliss.reporting import match_by_locs\n",
    "\n",
    "coindx, indx, dkeep, _ = match_by_locs(torch.from_numpy(coplocs), torch.from_numpy(plocs))\n",
    "nindx = np.array(list(set(range(len(plocs))).difference(set(indx)))).astype(int)\n",
    "assert len(indx) + len(nindx) == len(plocs)\n",
    "\n",
    "gal_misclass = ~np.equal(galaxy_bool[indx][dkeep], cogbool[coindx][dkeep]) & cogbool[coindx][dkeep].astype(bool)\n",
    "plocs_misclassified = plocs[indx][dkeep][gal_misclass]\n",
    "plocs_unmatched = plocs[nindx]\n",
    "plocs_unmatched_dist = plocs[indx][~dkeep]"
   ]
  },
  {
   "cell_type": "code",
   "execution_count": null,
   "id": "71b07c6d",
   "metadata": {},
   "outputs": [],
   "source": [
    "\n",
    "image = frame.image.squeeze().numpy()\n",
    "\n",
    "fig = px.imshow(image, width=800, height=550, zmin=800, zmax=1150, color_continuous_scale='gray')\n",
    "\n",
    "\n",
    "# create scatter objects\n",
    "scatter_coadd_galaxies = go.Scatter(name='galaxy coadd', x=coplocs[cogbool][:, 1], y=coplocs[cogbool][:, 0], \n",
    "                                  mode='markers', marker=dict(color='red', size=8, symbol='cross'), \n",
    "                                 hovertext=[f'mag:{x:.2f}; (ra, dec):({y:.4f}, {z:.4f}); objid: {w:.1f}' \n",
    "                                            for (x, y, z, w) in zip(comags[cogbool], \n",
    "                                                             cora[cogbool],\n",
    "                                                             codec[cogbool], cobjid[cogbool])]\n",
    "                                 )\n",
    "scatter_coadd_star = go.Scatter(name='star coadd', x=coplocs[~cogbool][:, 1], y=coplocs[~cogbool][:, 0], \n",
    "                                  mode='markers', marker=dict(color='blue', size=8, symbol='cross'),\n",
    "                                 hovertext=[f'mag:{x:.2f}; (ra, dec):({y:.4f}, {z:.4f}); objid: {w:.1f}' \n",
    "                                            for (x, y,z,w) in zip(comags[~cogbool], \n",
    "                                                             cora[~cogbool],\n",
    "                                                             codec[~cogbool],cobjid[~cogbool])]\n",
    "                                 )\n",
    "scatter_bliss_galaxies = go.Scatter(name='galaxy pred', x=plocs[galaxy_bool][:, 1], y=plocs[galaxy_bool][:, 0], \n",
    "                                  mode='markers', marker=dict(color='hotpink', size=11, symbol='x'),\n",
    "                                 hovertext=[f'mag:{a:.2f}; prob_galaxy:{x:.2f}; (ra, dec):({y:.4f}, {z:.4f}); n_prob: {w:.4f}' \n",
    "                                            for (a, x, y,z,w) in zip(mags[galaxy_bool], \n",
    "                                                               galaxy_prob[galaxy_bool], \n",
    "                                                               coords[galaxy_bool][:, 0], \n",
    "                                                               coords[galaxy_bool][:, 1], n_probs[galaxy_bool])]\n",
    "                                 )\n",
    "scatter_bliss_star = go.Scatter(name='star pred', x=plocs[~galaxy_bool][:, 1], y=plocs[~galaxy_bool][:, 0], \n",
    "                                mode='markers', marker=dict(color='cyan', size=11, symbol='x'),\\\n",
    "                                 hovertext=[f'mag:{a:.2f}; prob_galaxy:{x:.2f}; (ra, dec):({y:.4f},{z:.4f}); n_prob:{w:.4f}' \n",
    "                                            for (a, x,y,z,w) in zip(mags[~galaxy_bool], \n",
    "                                                               galaxy_prob[~galaxy_bool], \n",
    "                                                               coords[~galaxy_bool][:, 0], \n",
    "                                                               coords[~galaxy_bool][:, 1], n_probs[~galaxy_bool])]\n",
    "                                 )\n",
    "\n",
    "scatter_unmatched = go.Scatter(name='unmatched', x=plocs_unmatched[:, 1], y=plocs_unmatched[:, 0], \n",
    "                                mode='markers', marker=dict(color='magenta', size=10, symbol='cross'),\n",
    "                                 )\n",
    "scatter_unmatched_dist = go.Scatter(name='unmatched (distance)', x=plocs_unmatched_dist[:, 1], y=plocs_unmatched_dist[:, 0], \n",
    "                                mode='markers', marker=dict(color='green', size=10, symbol='cross'),\n",
    "                                 )\n",
    "scatter_misclassified = go.Scatter(name='misclassified', x=plocs_misclassified[:, 1], y=plocs_misclassified[:, 0], \n",
    "                                mode='markers', marker=dict(color='yellow', size=10, symbol='cross'),\n",
    "                                 )\n",
    "\n",
    "# add traces to figure\n",
    "fig.add_trace(scatter_coadd_galaxies)\n",
    "fig.add_trace(scatter_coadd_star)\n",
    "fig.add_trace(scatter_bliss_galaxies)\n",
    "fig.add_trace(scatter_bliss_star)\n",
    "fig.add_trace(scatter_unmatched)\n",
    "fig.add_trace(scatter_unmatched_dist)\n",
    "fig.add_trace(scatter_misclassified)\n",
    "\n",
    "\n",
    "fig.update_layout(legend=dict(orientation=\"h\", y=1.05)) # adjust legend\n",
    "\n",
    "\n",
    "fig.show()"
   ]
  },
  {
   "cell_type": "code",
   "execution_count": null,
   "id": "8b33fa83",
   "metadata": {},
   "outputs": [],
   "source": []
  }
 ],
 "metadata": {
  "kernelspec": {
   "display_name": "Python 3 (ipykernel)",
   "language": "python",
   "name": "python3"
  },
  "language_info": {
   "codemirror_mode": {
    "name": "ipython",
    "version": 3
   },
   "file_extension": ".py",
   "mimetype": "text/x-python",
   "name": "python",
   "nbconvert_exporter": "python",
   "pygments_lexer": "ipython3",
   "version": "3.8.10"
  },
  "toc": {
   "base_numbering": 1,
   "nav_menu": {},
   "number_sections": true,
   "sideBar": true,
   "skip_h1_title": false,
   "title_cell": "Table of Contents",
   "title_sidebar": "Contents",
   "toc_cell": false,
   "toc_position": {
    "height": "calc(100% - 180px)",
    "left": "10px",
    "top": "150px",
    "width": "165px"
   },
   "toc_section_display": true,
   "toc_window_display": true
  }
 },
 "nbformat": 4,
 "nbformat_minor": 5
}

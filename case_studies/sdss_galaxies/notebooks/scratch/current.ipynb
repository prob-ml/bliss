{
 "cells": [
  {
   "cell_type": "markdown",
   "id": "5cbed701",
   "metadata": {},
   "source": [
    "# Setup"
   ]
  },
  {
   "cell_type": "code",
   "execution_count": 5,
   "id": "74c00834",
   "metadata": {
    "ExecuteTime": {
     "end_time": "2022-05-25T17:11:42.947660Z",
     "start_time": "2022-05-25T17:11:42.911379Z"
    }
   },
   "outputs": [
    {
     "name": "stdout",
     "output_type": "stream",
     "text": [
      "The autoreload extension is already loaded. To reload it, use:\n",
      "  %reload_ext autoreload\n",
      "Modules to reload:\n",
      "all-except-skipped\n",
      "\n",
      "Modules to skip:\n",
      "\n"
     ]
    }
   ],
   "source": [
    "%load_ext autoreload\n",
    "%autoreload 2\n",
    "%aimport"
   ]
  },
  {
   "cell_type": "code",
   "execution_count": 6,
   "id": "d79561f7",
   "metadata": {
    "ExecuteTime": {
     "end_time": "2022-05-25T17:11:43.278364Z",
     "start_time": "2022-05-25T17:11:43.217188Z"
    }
   },
   "outputs": [],
   "source": [
    "%matplotlib inline "
   ]
  },
  {
   "cell_type": "code",
   "execution_count": 7,
   "id": "1e614283",
   "metadata": {
    "ExecuteTime": {
     "end_time": "2022-05-25T17:11:45.053875Z",
     "start_time": "2022-05-25T17:11:43.714971Z"
    }
   },
   "outputs": [
    {
     "name": "stderr",
     "output_type": "stream",
     "text": [
      "Global seed set to 40\n"
     ]
    }
   ],
   "source": [
    "import matplotlib.pyplot as plt\n",
    "import torch\n",
    "\n",
    "from bliss.inference import SDSSFrame\n",
    "from bliss.datasets import sdss\n",
    "from bliss.inference import reconstruct_scene_at_coordinates\n",
    "from case_studies.sdss_galaxies.plots import load_models\n",
    "\n",
    "\n",
    "from astropy.table import Table\n",
    "\n",
    "import plotly.express as px\n",
    "import plotly.graph_objects as go"
   ]
  },
  {
   "cell_type": "code",
   "execution_count": 8,
   "id": "d46ad2b5",
   "metadata": {
    "ExecuteTime": {
     "end_time": "2022-05-25T17:11:47.054811Z",
     "start_time": "2022-05-25T17:11:45.790408Z"
    }
   },
   "outputs": [
    {
     "name": "stdout",
     "output_type": "stream",
     "text": [
      "5\r\n"
     ]
    }
   ],
   "source": [
    "# check GPU is configured correctly\n",
    "device = torch.device('cuda:0')\n",
    "!echo $CUDA_VISIBLE_DEVICES"
   ]
  },
  {
   "cell_type": "markdown",
   "id": "a53c8ef7",
   "metadata": {},
   "source": [
    "# Get Config"
   ]
  },
  {
   "cell_type": "code",
   "execution_count": 9,
   "id": "7efec477",
   "metadata": {
    "ExecuteTime": {
     "end_time": "2022-05-25T17:11:48.184872Z",
     "start_time": "2022-05-25T17:11:47.665611Z"
    }
   },
   "outputs": [],
   "source": [
    "# load models\n",
    "from hydra import compose, initialize\n",
    "from hydra.utils import instantiate\n",
    "from bliss.encoder import Encoder\n",
    "\n",
    "with initialize(config_path=\"../../config\"):\n",
    "    cfg = compose(\"config\", overrides=[])\n",
    "    "
   ]
  },
  {
   "cell_type": "markdown",
   "id": "9c3d4967",
   "metadata": {},
   "source": [
    "# Run"
   ]
  },
  {
   "cell_type": "code",
   "execution_count": 9,
   "id": "588b7330",
   "metadata": {
    "ExecuteTime": {
     "end_time": "2022-05-16T00:04:51.053288Z",
     "start_time": "2022-05-16T00:04:51.018440Z"
    }
   },
   "outputs": [],
   "source": [
    "from bliss.datasets.galsim_galaxies import SingleGalsimGalaxies"
   ]
  },
  {
   "cell_type": "code",
   "execution_count": 11,
   "id": "d047dae9",
   "metadata": {
    "ExecuteTime": {
     "end_time": "2022-05-25T17:12:06.049642Z",
     "start_time": "2022-05-25T17:12:05.943793Z"
    }
   },
   "outputs": [],
   "source": [
    "prior = instantiate(cfg.models.prior)"
   ]
  },
  {
   "cell_type": "code",
   "execution_count": 20,
   "id": "7421f625",
   "metadata": {
    "ExecuteTime": {
     "end_time": "2022-05-25T17:14:57.223892Z",
     "start_time": "2022-05-25T17:14:56.664305Z"
    }
   },
   "outputs": [],
   "source": [
    "tile_cat = prior.sample_prior(1, 1, 1, 1)"
   ]
  },
  {
   "cell_type": "code",
   "execution_count": 21,
   "id": "862d4ed5",
   "metadata": {
    "ExecuteTime": {
     "end_time": "2022-05-25T17:14:57.916120Z",
     "start_time": "2022-05-25T17:14:57.872130Z"
    }
   },
   "outputs": [
    {
     "data": {
      "text/plain": [
       "{'galaxy_bools': tensor([[[[[0.]]]]]), 'star_bools': tensor([[[[[0.]]]]]), 'galaxy_params': tensor([[[[[-0., 0., -0., 0., -0., 0., 0., 0.]]]]]), 'log_fluxes': tensor([[[[[0.]]]]])}"
      ]
     },
     "execution_count": 21,
     "metadata": {},
     "output_type": "execute_result"
    }
   ],
   "source": [
    "tile_cat"
   ]
  },
  {
   "cell_type": "code",
   "execution_count": 14,
   "id": "53c5579d",
   "metadata": {
    "ExecuteTime": {
     "end_time": "2022-05-16T00:06:36.522814Z",
     "start_time": "2022-05-16T00:06:32.465940Z"
    }
   },
   "outputs": [
    {
     "name": "stderr",
     "output_type": "stream",
     "text": [
      "Generating fixed validation set: 100%|███████████████████████████████████████████████████████████████████████████████████████████████████| 10/10 [00:03<00:00,  2.50it/s]"
     ]
    },
    {
     "name": "stdout",
     "output_type": "stream",
     "text": [
      "torch.Size([64, 1, 53, 53])\n",
      "torch.Size([64, 1, 53, 53])\n",
      "torch.Size([64, 1, 53, 53])\n",
      "torch.Size([64, 1, 53, 53])\n",
      "torch.Size([64, 1, 53, 53])\n",
      "torch.Size([64, 1, 53, 53])\n",
      "torch.Size([64, 1, 53, 53])\n",
      "torch.Size([64, 1, 53, 53])\n",
      "torch.Size([64, 1, 53, 53])\n",
      "torch.Size([64, 1, 53, 53])\n"
     ]
    },
    {
     "name": "stderr",
     "output_type": "stream",
     "text": [
      "\n"
     ]
    }
   ],
   "source": [
    "dl = ds.val_dataloader()\n",
    "for x in dl:\n",
    "    print(x['images'].shape)"
   ]
  },
  {
   "cell_type": "code",
   "execution_count": 15,
   "id": "c89124bc",
   "metadata": {
    "ExecuteTime": {
     "end_time": "2022-05-16T00:06:37.356543Z",
     "start_time": "2022-05-16T00:06:37.316790Z"
    }
   },
   "outputs": [
    {
     "name": "stdout",
     "output_type": "stream",
     "text": [
      "torch.Size([64, 1, 53, 53])\n",
      "torch.Size([64, 1, 53, 53])\n",
      "torch.Size([64, 1, 53, 53])\n",
      "torch.Size([64, 1, 53, 53])\n",
      "torch.Size([64, 1, 53, 53])\n",
      "torch.Size([64, 1, 53, 53])\n",
      "torch.Size([64, 1, 53, 53])\n",
      "torch.Size([64, 1, 53, 53])\n",
      "torch.Size([64, 1, 53, 53])\n",
      "torch.Size([64, 1, 53, 53])\n"
     ]
    }
   ],
   "source": [
    "for x in dl:\n",
    "    print(x['images'].shape)"
   ]
  },
  {
   "cell_type": "code",
   "execution_count": null,
   "id": "6f050c85",
   "metadata": {},
   "outputs": [],
   "source": [
    "# Load data\n",
    "\n",
    "# load sdss data\n",
    "sdss_dir = '/home/imendoza/bliss/data/sdss/'\n",
    "pixel_scale = 0.393\n",
    "coadd_file = \"/home/imendoza/bliss/data/coadd_catalog_94_1_12.fits\"\n",
    "frame = SDSSFrame(sdss_dir, pixel_scale, coadd_file)"
   ]
  },
  {
   "cell_type": "code",
   "execution_count": null,
   "id": "d7594206",
   "metadata": {
    "ExecuteTime": {
     "end_time": "2022-05-15T23:12:39.476135Z",
     "start_time": "2022-05-15T23:12:39.283337Z"
    }
   },
   "outputs": [],
   "source": [
    "# load models\n",
    "from hydra import compose, initialize\n",
    "from hydra.utils import instantiate\n",
    "from bliss.encoder import Encoder\n",
    "\n",
    "with initialize(config_path=\"../../config\"):\n",
    "    cfg = compose(\"config\", overrides=[])\n",
    "    \n",
    "    \n",
    "enc, dec = load_models(cfg, device)\n",
    "bp = enc.border_padding\n",
    "torch.cuda.empty_cache()"
   ]
  },
  {
   "cell_type": "code",
   "execution_count": null,
   "id": "00217e21",
   "metadata": {},
   "outputs": [],
   "source": []
  }
 ],
 "metadata": {
  "kernelspec": {
   "display_name": "Python 3 (ipykernel)",
   "language": "python",
   "name": "python3"
  },
  "language_info": {
   "codemirror_mode": {
    "name": "ipython",
    "version": 3
   },
   "file_extension": ".py",
   "mimetype": "text/x-python",
   "name": "python",
   "nbconvert_exporter": "python",
   "pygments_lexer": "ipython3",
   "version": "3.8.10"
  },
  "toc": {
   "base_numbering": 1,
   "nav_menu": {},
   "number_sections": true,
   "sideBar": true,
   "skip_h1_title": false,
   "title_cell": "Table of Contents",
   "title_sidebar": "Contents",
   "toc_cell": false,
   "toc_position": {
    "height": "calc(100% - 180px)",
    "left": "10px",
    "top": "150px",
    "width": "165px"
   },
   "toc_section_display": true,
   "toc_window_display": true
  }
 },
 "nbformat": 4,
 "nbformat_minor": 5
}

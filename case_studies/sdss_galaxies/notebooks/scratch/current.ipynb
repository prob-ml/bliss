{
 "cells": [
  {
   "cell_type": "markdown",
   "id": "5cbed701",
   "metadata": {},
   "source": [
    "# Setup"
   ]
  },
  {
   "cell_type": "code",
   "execution_count": null,
   "id": "74c00834",
   "metadata": {},
   "outputs": [],
   "source": [
    "%load_ext autoreload\n",
    "%autoreload 2\n",
    "%aimport"
   ]
  },
  {
   "cell_type": "code",
   "execution_count": null,
   "id": "d79561f7",
   "metadata": {},
   "outputs": [],
   "source": [
    "%matplotlib inline "
   ]
  },
  {
   "cell_type": "code",
   "execution_count": null,
   "id": "1e614283",
   "metadata": {},
   "outputs": [],
   "source": [
    "import matplotlib.pyplot as plt\n",
    "import torch\n",
    "\n",
    "from bliss.inference import SDSSFrame\n",
    "from bliss.datasets import sdss\n",
    "from bliss.inference import reconstruct_scene_at_coordinates\n",
    "from case_studies.sdss_galaxies.plots.main import load_models\n",
    "\n",
    "\n",
    "from astropy.table import Table\n",
    "\n",
    "import plotly.express as px\n",
    "import plotly.graph_objects as go"
   ]
  },
  {
   "cell_type": "code",
   "execution_count": null,
   "id": "d46ad2b5",
   "metadata": {},
   "outputs": [],
   "source": [
    "# check GPU is configured correctly\n",
    "device = torch.device('cuda:0')\n",
    "!echo $CUDA_VISIBLE_DEVICES"
   ]
  },
  {
   "cell_type": "code",
   "execution_count": null,
   "id": "6afdf299",
   "metadata": {},
   "outputs": [],
   "source": [
    "from case_studies.sdss_galaxies.plots.autoencoder import scatter_bin_plot, set_rc_params"
   ]
  },
  {
   "cell_type": "code",
   "execution_count": null,
   "id": "77355875",
   "metadata": {},
   "outputs": [],
   "source": [
    "set_rc_params()"
   ]
  },
  {
   "cell_type": "markdown",
   "id": "a53c8ef7",
   "metadata": {},
   "source": [
    "# Get Config"
   ]
  },
  {
   "cell_type": "code",
   "execution_count": null,
   "id": "7efec477",
   "metadata": {},
   "outputs": [],
   "source": [
    "# load models\n",
    "from hydra import compose, initialize\n",
    "from hydra.utils import instantiate\n",
    "from bliss.encoder import Encoder\n",
    "\n",
    "with initialize(config_path=\"../../config\"):\n",
    "    cfg = compose(\"config\", overrides=[])\n",
    "    "
   ]
  },
  {
   "cell_type": "markdown",
   "id": "9c3d4967",
   "metadata": {},
   "source": [
    "# Run"
   ]
  },
  {
   "cell_type": "code",
   "execution_count": null,
   "id": "588b7330",
   "metadata": {},
   "outputs": [],
   "source": [
    "from bliss.datasets.galsim_galaxies import SingleGalsimGalaxies"
   ]
  },
  {
   "cell_type": "code",
   "execution_count": null,
   "id": "d047dae9",
   "metadata": {},
   "outputs": [],
   "source": [
    "prior = instantiate(cfg.models.prior)"
   ]
  },
  {
   "cell_type": "code",
   "execution_count": null,
   "id": "7421f625",
   "metadata": {},
   "outputs": [],
   "source": [
    "tile_cat = prior.sample_prior(1, 1, 1, 1)"
   ]
  },
  {
   "cell_type": "code",
   "execution_count": null,
   "id": "862d4ed5",
   "metadata": {},
   "outputs": [],
   "source": [
    "tile_cat"
   ]
  },
  {
   "cell_type": "code",
   "execution_count": null,
   "id": "53c5579d",
   "metadata": {},
   "outputs": [],
   "source": [
    "dl = ds.val_dataloader()\n",
    "for x in dl:\n",
    "    print(x['images'].shape)"
   ]
  },
  {
   "cell_type": "code",
   "execution_count": null,
   "id": "c89124bc",
   "metadata": {},
   "outputs": [],
   "source": [
    "for x in dl:\n",
    "    print(x['images'].shape)"
   ]
  },
  {
   "cell_type": "code",
   "execution_count": null,
   "id": "6f050c85",
   "metadata": {},
   "outputs": [],
   "source": [
    "# Load data\n",
    "\n",
    "# load sdss data\n",
    "sdss_dir = '/home/imendoza/bliss/data/sdss/'\n",
    "pixel_scale = 0.393\n",
    "coadd_file = \"/home/imendoza/bliss/data/coadd_catalog_94_1_12.fits\"\n",
    "frame = SDSSFrame(sdss_dir, pixel_scale, coadd_file)"
   ]
  },
  {
   "cell_type": "markdown",
   "id": "5a761237",
   "metadata": {},
   "source": [
    "# Encoder blend images"
   ]
  },
  {
   "cell_type": "code",
   "execution_count": null,
   "id": "4ff19040",
   "metadata": {},
   "outputs": [],
   "source": [
    "# load models\n",
    "from hydra import compose, initialize\n",
    "from hydra.utils import instantiate\n",
    "from bliss.encoder import Encoder\n",
    "\n",
    "with initialize(config_path=\"../../config\"):\n",
    "    cfg = compose(\"config\", overrides=[])\n",
    "    \n",
    "    \n",
    "enc, dec = load_models(cfg, device)\n",
    "bp = enc.border_padding\n",
    "torch.cuda.empty_cache()"
   ]
  },
  {
   "cell_type": "code",
   "execution_count": null,
   "id": "ea7d8118",
   "metadata": {},
   "outputs": [],
   "source": [
    "detection_encoder = instantiate(cfg.models.detection_encoder)"
   ]
  },
  {
   "cell_type": "code",
   "execution_count": null,
   "id": "876fa711",
   "metadata": {},
   "outputs": [],
   "source": [
    "PATH = '../../../../epoch=989-val_loss=-0.015.ckpt'\n",
    "model_checkpoint = torch.load(PATH, map_location='cpu')\n",
    "model_state_dict = model_checkpoint[\"state_dict\"]\n",
    "det = detection_encoder.load_state_dict(model_state_dict)"
   ]
  },
  {
   "cell_type": "code",
   "execution_count": null,
   "id": "261969e2",
   "metadata": {},
   "outputs": [],
   "source": [
    "detection_encoder = detection_encoder.load_from_checkpoint"
   ]
  },
  {
   "cell_type": "code",
   "execution_count": null,
   "id": "9a8e3660",
   "metadata": {},
   "outputs": [],
   "source": [
    "enc.n_rows_per_batch = 10\n",
    "enc.n_images_per_batch = 15"
   ]
  },
  {
   "cell_type": "code",
   "execution_count": null,
   "id": "4b676f7c",
   "metadata": {},
   "outputs": [],
   "source": [
    "blend_images = torch.load('../../models/simulated_blended_galaxies.pt')\n",
    "blend_images['images'].shape"
   ]
  },
  {
   "cell_type": "code",
   "execution_count": null,
   "id": "dc7128e2",
   "metadata": {},
   "outputs": [],
   "source": [
    "n_images, c, slen, _ = blend_images['images'].shape\n",
    "background = blend_images['background']\n",
    "background = background.unsqueeze(0)\n",
    "background = background.expand(n_images, 1, slen, slen)"
   ]
  },
  {
   "cell_type": "code",
   "execution_count": null,
   "id": "00217e21",
   "metadata": {},
   "outputs": [],
   "source": [
    "tile_map = enc.variational_mode(blend_images['images'], background)"
   ]
  },
  {
   "cell_type": "code",
   "execution_count": null,
   "id": "f6b91f9d",
   "metadata": {},
   "outputs": [],
   "source": [
    "full = tile_map.cpu().to_full_params()"
   ]
  },
  {
   "cell_type": "code",
   "execution_count": null,
   "id": "eb27da0c",
   "metadata": {},
   "outputs": [],
   "source": [
    "print(full.plocs.shape)\n",
    "print(full.n_sources.max().item())"
   ]
  },
  {
   "cell_type": "code",
   "execution_count": null,
   "id": "190478c2",
   "metadata": {},
   "outputs": [],
   "source": [
    "ii = 50\n",
    "plt.figure(figsize=(8, 8))\n",
    "plt.imshow(blend_images['images'][ii].cpu().numpy().reshape(slen, slen))\n",
    "plocs = full.plocs[ii, :full.n_sources[ii].item()].cpu().numpy()\n",
    "plt.scatter(plocs[:, 1] - 0.5 + enc.border_padding, plocs[:, 0] - 0.5 + enc.border_padding, marker='x', \n",
    "            color='r', s=75)\n",
    "true_plocs = blend_images['plocs'][ii].cpu().numpy()\n",
    "plt.scatter(true_plocs[:, 1] - 0.5, true_plocs[:, 0] - 0.5, marker='+', \n",
    "            color='b', s=100)\n",
    "print(blend_images['n_sources'][ii].item(), full.n_sources[ii].item())"
   ]
  },
  {
   "cell_type": "code",
   "execution_count": null,
   "id": "61b41cec",
   "metadata": {},
   "outputs": [],
   "source": [
    "n_batches = len(full.n_sources)\n",
    "true_plocs = blend_images['plocs']\n",
    "est_plocs = full.plocs"
   ]
  },
  {
   "cell_type": "code",
   "execution_count": null,
   "id": "bd11b4be",
   "metadata": {},
   "outputs": [],
   "source": [
    "est_plocs.shape"
   ]
  },
  {
   "cell_type": "code",
   "execution_count": null,
   "id": "3f3b85d5",
   "metadata": {},
   "outputs": [],
   "source": [
    "true_plocs.shape"
   ]
  },
  {
   "cell_type": "code",
   "execution_count": null,
   "id": "eca63c32",
   "metadata": {},
   "outputs": [],
   "source": [
    "from bliss.reporting import match_by_locs\n",
    "for ii in [50]:\n",
    "\n",
    "    tindx, eindx, dkeep, _ = match_by_locs(true_plocs[ii], est_plocs[ii] + enc.border_padding)\n",
    "    print(tindx, eindx, dkeep)\n",
    "    print(true_plocs[ii], est_plocs[ii]  + enc.border_padding)\n",
    "    print(len(tindx[dkeep]))\n",
    "    print(true_plocs[ii][tindx][dkeep])\n",
    "    print(est_plocs[ii][eindx][dkeep] + enc.border_padding)"
   ]
  },
  {
   "cell_type": "code",
   "execution_count": null,
   "id": "223fcb9e",
   "metadata": {},
   "outputs": [],
   "source": [
    "d = torch.load('../../output/sdss_figures_cache/blendsim_cache.pt')"
   ]
  },
  {
   "cell_type": "code",
   "execution_count": null,
   "id": "8e0f28f4",
   "metadata": {},
   "outputs": [],
   "source": [
    "d['est_ellips'].shape"
   ]
  },
  {
   "cell_type": "code",
   "execution_count": null,
   "id": "5ae01009",
   "metadata": {},
   "outputs": [],
   "source": [
    "plt.hist(d['true_ellips'][:, 0].numpy(), range)"
   ]
  },
  {
   "cell_type": "code",
   "execution_count": null,
   "id": "37de6cc4",
   "metadata": {},
   "outputs": [],
   "source": [
    "plt.hist(d['snr'].numpy())"
   ]
  },
  {
   "cell_type": "code",
   "execution_count": null,
   "id": "3bd19be7",
   "metadata": {},
   "outputs": [],
   "source": [
    "plt.hist(d['blendedness'].numpy())\n",
    "plt.xlabel(r\"$a$\")"
   ]
  },
  {
   "cell_type": "code",
   "execution_count": null,
   "id": "ee6c7214",
   "metadata": {},
   "outputs": [],
   "source": [
    "sum(np.log10(d['snr'].numpy())<0.4)"
   ]
  },
  {
   "cell_type": "markdown",
   "id": "657e0aa3",
   "metadata": {},
   "source": [
    "# Dataset of blends"
   ]
  },
  {
   "cell_type": "code",
   "execution_count": null,
   "id": "1a5deb25",
   "metadata": {},
   "outputs": [],
   "source": [
    "!pwd"
   ]
  },
  {
   "cell_type": "code",
   "execution_count": null,
   "id": "d356e836",
   "metadata": {},
   "outputs": [],
   "source": [
    "from bliss.catalog import TileCatalog\n",
    "blend_data = torch.load('/home/imendoza/bliss.git/feature/case_studies/sdss_galaxies/models/simulated_blended_galaxies.pt')\n",
    "images = blend_data.pop(\"images\")\n",
    "background = blend_data.pop(\"background\")\n",
    "n_batches, _, slen, _ = images.shape\n",
    "assert background.shape == (1, slen, slen)\n",
    "\n",
    "# prepare background\n",
    "background = background.unsqueeze(0)\n",
    "background = background.expand(n_batches, 1, slen, slen)\n",
    "\n",
    "# first create FullCatalog from simulated data\n",
    "tile_cat = TileCatalog(4, blend_data).cpu()\n",
    "full_truth = tile_cat.to_full_params()"
   ]
  },
  {
   "cell_type": "code",
   "execution_count": null,
   "id": "35358638",
   "metadata": {},
   "outputs": [],
   "source": [
    "snr = full_truth['snr'].numpy().reshape(-1)\n",
    "snr = snr[snr!=0]\n",
    "plt.hist(np.log10(snr), bins=30)\n"
   ]
  },
  {
   "cell_type": "code",
   "execution_count": null,
   "id": "b31fa0c1",
   "metadata": {},
   "outputs": [],
   "source": [
    "ble = full_truth['blendedness'].numpy().reshape(-1)\n",
    "ble = ble[ble!=0]\n",
    "plt.hist(ble, bins=30)\n"
   ]
  },
  {
   "cell_type": "code",
   "execution_count": null,
   "id": "9c273fbc",
   "metadata": {},
   "outputs": [],
   "source": [
    "\n",
    "_plocs = full_truth.plocs.reshape(-1, 2)\n",
    "_plocs = _plocs[_plocs[:, 0] >0]\n",
    "plt.scatter(_plocs[:, 1].numpy(), _plocs[:, 0].numpy())"
   ]
  },
  {
   "cell_type": "code",
   "execution_count": null,
   "id": "5390a988",
   "metadata": {},
   "outputs": [],
   "source": []
  }
 ],
 "metadata": {
  "kernelspec": {
   "display_name": "Python 3 (ipykernel)",
   "language": "python",
   "name": "python3"
  },
  "language_info": {
   "codemirror_mode": {
    "name": "ipython",
    "version": 3
   },
   "file_extension": ".py",
   "mimetype": "text/x-python",
   "name": "python",
   "nbconvert_exporter": "python",
   "pygments_lexer": "ipython3",
   "version": "3.8.10"
  },
  "toc": {
   "base_numbering": 1,
   "nav_menu": {},
   "number_sections": true,
   "sideBar": true,
   "skip_h1_title": false,
   "title_cell": "Table of Contents",
   "title_sidebar": "Contents",
   "toc_cell": false,
   "toc_position": {
    "height": "calc(100% - 180px)",
    "left": "10px",
    "top": "150px",
    "width": "165px"
   },
   "toc_section_display": true,
   "toc_window_display": true
  },
  "vscode": {
   "interpreter": {
    "hash": "a4f06acbaf899f621947248385fc4c924f5057c84068085cc2764916432f1f00"
   }
  }
 },
 "nbformat": 4,
 "nbformat_minor": 5
}

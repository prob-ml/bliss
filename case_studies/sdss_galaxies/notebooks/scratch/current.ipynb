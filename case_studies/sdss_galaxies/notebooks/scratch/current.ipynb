{
 "cells": [
  {
   "cell_type": "markdown",
   "id": "5cbed701",
   "metadata": {},
   "source": [
    "# Setup"
   ]
  },
  {
   "cell_type": "code",
   "execution_count": 10,
   "id": "74c00834",
   "metadata": {
    "ExecuteTime": {
     "end_time": "2022-06-15T21:30:15.643828Z",
     "start_time": "2022-06-15T21:30:15.600932Z"
    }
   },
   "outputs": [
    {
     "name": "stdout",
     "output_type": "stream",
     "text": [
      "The autoreload extension is already loaded. To reload it, use:\n",
      "  %reload_ext autoreload\n",
      "Modules to reload:\n",
      "all-except-skipped\n",
      "\n",
      "Modules to skip:\n",
      "\n"
     ]
    }
   ],
   "source": [
    "%load_ext autoreload\n",
    "%autoreload 2\n",
    "%aimport"
   ]
  },
  {
   "cell_type": "code",
   "execution_count": 11,
   "id": "d79561f7",
   "metadata": {
    "ExecuteTime": {
     "end_time": "2022-06-15T21:30:15.801770Z",
     "start_time": "2022-06-15T21:30:15.763947Z"
    }
   },
   "outputs": [],
   "source": [
    "%matplotlib inline "
   ]
  },
  {
   "cell_type": "code",
   "execution_count": 3,
   "id": "1e614283",
   "metadata": {
    "ExecuteTime": {
     "end_time": "2022-06-15T21:30:08.613737Z",
     "start_time": "2022-06-15T21:30:06.050962Z"
    }
   },
   "outputs": [
    {
     "name": "stderr",
     "output_type": "stream",
     "text": [
      "Global seed set to 40\n"
     ]
    }
   ],
   "source": [
    "import matplotlib.pyplot as plt\n",
    "import torch\n",
    "\n",
    "from bliss.inference import SDSSFrame\n",
    "from bliss.datasets import sdss\n",
    "from bliss.inference import reconstruct_scene_at_coordinates\n",
    "from case_studies.sdss_galaxies.plots.main import load_models\n",
    "\n",
    "\n",
    "from astropy.table import Table\n",
    "\n",
    "import plotly.express as px\n",
    "import plotly.graph_objects as go"
   ]
  },
  {
   "cell_type": "code",
   "execution_count": 4,
   "id": "d46ad2b5",
   "metadata": {
    "ExecuteTime": {
     "end_time": "2022-06-15T21:30:09.474997Z",
     "start_time": "2022-06-15T21:30:08.615523Z"
    }
   },
   "outputs": [
    {
     "name": "stdout",
     "output_type": "stream",
     "text": [
      "5\r\n"
     ]
    }
   ],
   "source": [
    "# check GPU is configured correctly\n",
    "device = torch.device('cuda:0')\n",
    "!echo $CUDA_VISIBLE_DEVICES"
   ]
  },
  {
   "cell_type": "code",
   "execution_count": 5,
   "id": "6afdf299",
   "metadata": {
    "ExecuteTime": {
     "end_time": "2022-06-15T21:30:09.507528Z",
     "start_time": "2022-06-15T21:30:09.477804Z"
    }
   },
   "outputs": [],
   "source": [
    "from case_studies.sdss_galaxies.plots.autoencoder import scatter_bin_plot, set_rc_params"
   ]
  },
  {
   "cell_type": "code",
   "execution_count": 6,
   "id": "77355875",
   "metadata": {
    "ExecuteTime": {
     "end_time": "2022-06-15T21:30:09.533434Z",
     "start_time": "2022-06-15T21:30:09.508979Z"
    }
   },
   "outputs": [],
   "source": [
    "set_rc_params()"
   ]
  },
  {
   "cell_type": "markdown",
   "id": "a53c8ef7",
   "metadata": {
    "heading_collapsed": true
   },
   "source": [
    "# Get Config"
   ]
  },
  {
   "cell_type": "code",
   "execution_count": null,
   "id": "7efec477",
   "metadata": {
    "ExecuteTime": {
     "end_time": "2022-05-28T02:33:41.376374Z",
     "start_time": "2022-05-28T02:33:41.080703Z"
    },
    "hidden": true
   },
   "outputs": [],
   "source": [
    "# load models\n",
    "from hydra import compose, initialize\n",
    "from hydra.utils import instantiate\n",
    "from bliss.encoder import Encoder\n",
    "\n",
    "with initialize(config_path=\"../../config\"):\n",
    "    cfg = compose(\"config\", overrides=[])\n",
    "    "
   ]
  },
  {
   "cell_type": "markdown",
   "id": "9c3d4967",
   "metadata": {
    "heading_collapsed": true
   },
   "source": [
    "# Run"
   ]
  },
  {
   "cell_type": "code",
   "execution_count": null,
   "id": "588b7330",
   "metadata": {
    "ExecuteTime": {
     "end_time": "2022-05-28T02:34:05.199493Z",
     "start_time": "2022-05-28T02:34:05.164031Z"
    },
    "hidden": true
   },
   "outputs": [],
   "source": [
    "from bliss.datasets.galsim_galaxies import SingleGalsimGalaxies"
   ]
  },
  {
   "cell_type": "code",
   "execution_count": null,
   "id": "d047dae9",
   "metadata": {
    "ExecuteTime": {
     "end_time": "2022-05-25T17:12:06.049642Z",
     "start_time": "2022-05-25T17:12:05.943793Z"
    },
    "hidden": true
   },
   "outputs": [],
   "source": [
    "prior = instantiate(cfg.models.prior)"
   ]
  },
  {
   "cell_type": "code",
   "execution_count": null,
   "id": "7421f625",
   "metadata": {
    "ExecuteTime": {
     "end_time": "2022-05-25T17:14:57.223892Z",
     "start_time": "2022-05-25T17:14:56.664305Z"
    },
    "hidden": true
   },
   "outputs": [],
   "source": [
    "tile_cat = prior.sample_prior(1, 1, 1, 1)"
   ]
  },
  {
   "cell_type": "code",
   "execution_count": null,
   "id": "862d4ed5",
   "metadata": {
    "ExecuteTime": {
     "end_time": "2022-05-25T17:14:57.916120Z",
     "start_time": "2022-05-25T17:14:57.872130Z"
    },
    "hidden": true
   },
   "outputs": [],
   "source": [
    "tile_cat"
   ]
  },
  {
   "cell_type": "code",
   "execution_count": null,
   "id": "53c5579d",
   "metadata": {
    "ExecuteTime": {
     "end_time": "2022-05-16T00:06:36.522814Z",
     "start_time": "2022-05-16T00:06:32.465940Z"
    },
    "hidden": true
   },
   "outputs": [],
   "source": [
    "dl = ds.val_dataloader()\n",
    "for x in dl:\n",
    "    print(x['images'].shape)"
   ]
  },
  {
   "cell_type": "code",
   "execution_count": null,
   "id": "c89124bc",
   "metadata": {
    "ExecuteTime": {
     "end_time": "2022-05-16T00:06:37.356543Z",
     "start_time": "2022-05-16T00:06:37.316790Z"
    },
    "hidden": true
   },
   "outputs": [],
   "source": [
    "for x in dl:\n",
    "    print(x['images'].shape)"
   ]
  },
  {
   "cell_type": "code",
   "execution_count": null,
   "id": "6f050c85",
   "metadata": {
    "hidden": true
   },
   "outputs": [],
   "source": [
    "# Load data\n",
    "\n",
    "# load sdss data\n",
    "sdss_dir = '/home/imendoza/bliss/data/sdss/'\n",
    "pixel_scale = 0.393\n",
    "coadd_file = \"/home/imendoza/bliss/data/coadd_catalog_94_1_12.fits\"\n",
    "frame = SDSSFrame(sdss_dir, pixel_scale, coadd_file)"
   ]
  },
  {
   "cell_type": "markdown",
   "id": "5a761237",
   "metadata": {},
   "source": [
    "# Encoder blend images"
   ]
  },
  {
   "cell_type": "code",
   "execution_count": 5,
   "id": "4ff19040",
   "metadata": {
    "ExecuteTime": {
     "end_time": "2022-06-02T20:07:29.351432Z",
     "start_time": "2022-06-02T20:07:25.743698Z"
    }
   },
   "outputs": [],
   "source": [
    "# load models\n",
    "from hydra import compose, initialize\n",
    "from hydra.utils import instantiate\n",
    "from bliss.encoder import Encoder\n",
    "\n",
    "with initialize(config_path=\"../../config\"):\n",
    "    cfg = compose(\"config\", overrides=[])\n",
    "    \n",
    "    \n",
    "enc, dec = load_models(cfg, device)\n",
    "bp = enc.border_padding\n",
    "torch.cuda.empty_cache()"
   ]
  },
  {
   "cell_type": "code",
   "execution_count": 6,
   "id": "9a8e3660",
   "metadata": {
    "ExecuteTime": {
     "end_time": "2022-06-02T20:07:29.384952Z",
     "start_time": "2022-06-02T20:07:29.353257Z"
    }
   },
   "outputs": [],
   "source": [
    "enc.n_rows_per_batch = 10\n",
    "enc.n_images_per_batch = 15"
   ]
  },
  {
   "cell_type": "code",
   "execution_count": 7,
   "id": "4b676f7c",
   "metadata": {
    "ExecuteTime": {
     "end_time": "2022-06-02T20:07:31.302569Z",
     "start_time": "2022-06-02T20:07:29.386570Z"
    }
   },
   "outputs": [
    {
     "data": {
      "text/plain": [
       "torch.Size([10240, 1, 81, 81])"
      ]
     },
     "execution_count": 7,
     "metadata": {},
     "output_type": "execute_result"
    }
   ],
   "source": [
    "blend_images = torch.load('../../models/simulated_blended_galaxies.pt')\n",
    "blend_images['images'].shape"
   ]
  },
  {
   "cell_type": "code",
   "execution_count": 8,
   "id": "dc7128e2",
   "metadata": {
    "ExecuteTime": {
     "end_time": "2022-06-02T20:07:47.865006Z",
     "start_time": "2022-06-02T20:07:47.822782Z"
    }
   },
   "outputs": [],
   "source": [
    "n_images, c, slen, _ = blend_images['images'].shape\n",
    "background = blend_images['background']\n",
    "background = background.unsqueeze(0)\n",
    "background = background.expand(n_images, 1, slen, slen)"
   ]
  },
  {
   "cell_type": "code",
   "execution_count": 9,
   "id": "00217e21",
   "metadata": {
    "ExecuteTime": {
     "end_time": "2022-06-02T20:08:32.001129Z",
     "start_time": "2022-06-02T20:07:49.940316Z"
    }
   },
   "outputs": [
    {
     "name": "stderr",
     "output_type": "stream",
     "text": [
      "Encoding ptiles: 683it [00:41, 16.26it/s]\n"
     ]
    }
   ],
   "source": [
    "tile_map = enc.variational_mode(blend_images['images'], background)"
   ]
  },
  {
   "cell_type": "code",
   "execution_count": 22,
   "id": "f6b91f9d",
   "metadata": {
    "ExecuteTime": {
     "end_time": "2022-06-02T20:10:21.907140Z",
     "start_time": "2022-06-02T20:10:21.780041Z"
    }
   },
   "outputs": [],
   "source": [
    "full = tile_map.cpu().to_full_params()"
   ]
  },
  {
   "cell_type": "code",
   "execution_count": 11,
   "id": "eb27da0c",
   "metadata": {
    "ExecuteTime": {
     "end_time": "2022-06-02T20:08:34.814882Z",
     "start_time": "2022-06-02T20:08:34.772730Z"
    }
   },
   "outputs": [
    {
     "name": "stdout",
     "output_type": "stream",
     "text": [
      "torch.Size([10240, 7, 2])\n",
      "7\n"
     ]
    }
   ],
   "source": [
    "print(full.plocs.shape)\n",
    "print(full.n_sources.max().item())"
   ]
  },
  {
   "cell_type": "code",
   "execution_count": 54,
   "id": "190478c2",
   "metadata": {
    "ExecuteTime": {
     "end_time": "2022-06-02T20:15:38.357753Z",
     "start_time": "2022-06-02T20:15:38.156038Z"
    }
   },
   "outputs": [
    {
     "name": "stdout",
     "output_type": "stream",
     "text": [
      "5 4\n"
     ]
    },
    {
     "data": {
      "image/png": "[encoded data removed]",
      "text/plain": [
       "<Figure size 576x576 with 1 Axes>"
      ]
     },
     "metadata": {
      "needs_background": "light"
     },
     "output_type": "display_data"
    }
   ],
   "source": [
    "ii = 50\n",
    "plt.figure(figsize=(8, 8))\n",
    "plt.imshow(blend_images['images'][ii].cpu().numpy().reshape(slen, slen))\n",
    "plocs = full.plocs[ii, :full.n_sources[ii].item()].cpu().numpy()\n",
    "plt.scatter(plocs[:, 1] - 0.5 + enc.border_padding, plocs[:, 0] - 0.5 + enc.border_padding, marker='x', \n",
    "            color='r', s=75)\n",
    "true_plocs = blend_images['plocs'][ii].cpu().numpy()\n",
    "plt.scatter(true_plocs[:, 1] - 0.5, true_plocs[:, 0] - 0.5, marker='+', \n",
    "            color='b', s=100)\n",
    "print(blend_images['n_sources'][ii].item(), full.n_sources[ii].item())"
   ]
  },
  {
   "cell_type": "code",
   "execution_count": 56,
   "id": "61b41cec",
   "metadata": {
    "ExecuteTime": {
     "end_time": "2022-06-02T20:15:56.877171Z",
     "start_time": "2022-06-02T20:15:56.840136Z"
    }
   },
   "outputs": [],
   "source": [
    "n_batches = len(full.n_sources)\n",
    "true_plocs = blend_images['plocs']\n",
    "est_plocs = full.plocs"
   ]
  },
  {
   "cell_type": "code",
   "execution_count": 57,
   "id": "bd11b4be",
   "metadata": {
    "ExecuteTime": {
     "end_time": "2022-06-02T20:15:57.925071Z",
     "start_time": "2022-06-02T20:15:57.886356Z"
    }
   },
   "outputs": [
    {
     "data": {
      "text/plain": [
       "torch.Size([10240, 7, 2])"
      ]
     },
     "execution_count": 57,
     "metadata": {},
     "output_type": "execute_result"
    }
   ],
   "source": [
    "est_plocs.shape"
   ]
  },
  {
   "cell_type": "code",
   "execution_count": 60,
   "id": "3f3b85d5",
   "metadata": {
    "ExecuteTime": {
     "end_time": "2022-06-02T20:16:02.493273Z",
     "start_time": "2022-06-02T20:16:02.454966Z"
    }
   },
   "outputs": [
    {
     "data": {
      "text/plain": [
       "torch.Size([10240, 5, 2])"
      ]
     },
     "execution_count": 60,
     "metadata": {},
     "output_type": "execute_result"
    }
   ],
   "source": [
    "true_plocs.shape"
   ]
  },
  {
   "cell_type": "code",
   "execution_count": 63,
   "id": "eca63c32",
   "metadata": {
    "ExecuteTime": {
     "end_time": "2022-06-02T20:19:05.271565Z",
     "start_time": "2022-06-02T20:19:05.209096Z"
    }
   },
   "outputs": [
    {
     "name": "stdout",
     "output_type": "stream",
     "text": [
      "[0 1 2 3 4] [1 0 4 2 3] tensor([ True,  True, False,  True,  True])\n",
      "tensor([[40.5000, 40.5000],\n",
      "        [43.3159, 26.3602],\n",
      "        [38.3542, 53.1408],\n",
      "        [55.1063, 32.9522],\n",
      "        [30.5210, 26.9969]]) tensor([[43.1790, 26.1871],\n",
      "        [40.5246, 40.3754],\n",
      "        [55.2508, 32.8165],\n",
      "        [30.8029, 27.0162],\n",
      "        [24.0000, 24.0000],\n",
      "        [24.0000, 24.0000],\n",
      "        [24.0000, 24.0000]])\n",
      "4\n",
      "tensor([[40.5000, 40.5000],\n",
      "        [43.3159, 26.3602],\n",
      "        [55.1063, 32.9522],\n",
      "        [30.5210, 26.9969]])\n",
      "tensor([[40.5246, 40.3754],\n",
      "        [43.1790, 26.1871],\n",
      "        [55.2508, 32.8165],\n",
      "        [30.8029, 27.0162]])\n"
     ]
    }
   ],
   "source": [
    "from bliss.reporting import match_by_locs\n",
    "for ii in [50]:\n",
    "\n",
    "    tindx, eindx, dkeep, _ = match_by_locs(true_plocs[ii], est_plocs[ii] + enc.border_padding)\n",
    "    print(tindx, eindx, dkeep)\n",
    "    print(true_plocs[ii], est_plocs[ii]  + enc.border_padding)\n",
    "    print(len(tindx[dkeep]))\n",
    "    print(true_plocs[ii][tindx][dkeep])\n",
    "    print(est_plocs[ii][eindx][dkeep] + enc.border_padding)"
   ]
  },
  {
   "cell_type": "code",
   "execution_count": 64,
   "id": "223fcb9e",
   "metadata": {
    "ExecuteTime": {
     "end_time": "2022-06-02T20:24:11.281278Z",
     "start_time": "2022-06-02T20:24:11.130859Z"
    }
   },
   "outputs": [],
   "source": [
    "d = torch.load('../../output/sdss_figures_cache/blendsim_cache.pt')"
   ]
  },
  {
   "cell_type": "code",
   "execution_count": 75,
   "id": "8e0f28f4",
   "metadata": {
    "ExecuteTime": {
     "end_time": "2022-06-02T20:27:52.609634Z",
     "start_time": "2022-06-02T20:27:52.569293Z"
    }
   },
   "outputs": [
    {
     "data": {
      "text/plain": [
       "torch.Size([15084, 2])"
      ]
     },
     "execution_count": 75,
     "metadata": {},
     "output_type": "execute_result"
    }
   ],
   "source": [
    "d['est_ellips'].shape"
   ]
  },
  {
   "cell_type": "code",
   "execution_count": 83,
   "id": "5ae01009",
   "metadata": {
    "ExecuteTime": {
     "end_time": "2022-06-02T20:29:28.726820Z",
     "start_time": "2022-06-02T20:29:25.591672Z"
    }
   },
   "outputs": [
    {
     "data": {
      "text/plain": [
       "(array([6.000e+00, 0.000e+00, 0.000e+00, 0.000e+00, 0.000e+00, 2.000e+00,\n",
       "        1.320e+02, 9.920e+03, 4.979e+03, 4.500e+01]),\n",
       " array([-10.        ,  -8.734262  ,  -7.4685254 ,  -6.2027884 ,\n",
       "         -4.937051  ,  -3.6713135 ,  -2.4055762 ,  -1.1398389 ,\n",
       "          0.12589836,   1.3916357 ,   2.657373  ], dtype=float32),\n",
       " <BarContainer object of 10 artists>)"
      ]
     },
     "execution_count": 83,
     "metadata": {},
     "output_type": "execute_result"
    },
    {
     "data": {
      "image/png": "[encoded data removed]",
      "text/plain": [
       "<Figure size 432x288 with 1 Axes>"
      ]
     },
     "metadata": {
      "needs_background": "light"
     },
     "output_type": "display_data"
    }
   ],
   "source": [
    "plt.hist(d['true_ellips'][:, 0].numpy(), range)"
   ]
  },
  {
   "cell_type": "code",
   "execution_count": 82,
   "id": "37de6cc4",
   "metadata": {
    "ExecuteTime": {
     "end_time": "2022-06-02T20:29:02.063725Z",
     "start_time": "2022-06-02T20:29:01.897315Z"
    }
   },
   "outputs": [
    {
     "data": {
      "text/plain": [
       "(array([11622.,  1476.,   639.,   393.,   286.,   242.,   180.,   114.,\n",
       "           90.,    42.]),\n",
       " array([8.2690531e-01, 9.2650658e+01, 1.8447440e+02, 2.7629816e+02,\n",
       "        3.6812189e+02, 4.5994565e+02, 5.5176941e+02, 6.4359314e+02,\n",
       "        7.3541687e+02, 8.2724066e+02, 9.1906439e+02], dtype=float32),\n",
       " <BarContainer object of 10 artists>)"
      ]
     },
     "execution_count": 82,
     "metadata": {},
     "output_type": "execute_result"
    },
    {
     "data": {
      "image/png": "[encoded data removed]",
      "text/plain": [
       "<Figure size 432x288 with 1 Axes>"
      ]
     },
     "metadata": {
      "needs_background": "light"
     },
     "output_type": "display_data"
    }
   ],
   "source": [
    "plt.hist(d['snr'].numpy())"
   ]
  },
  {
   "cell_type": "code",
   "execution_count": 87,
   "id": "3bd19be7",
   "metadata": {
    "ExecuteTime": {
     "end_time": "2022-06-02T20:35:59.572072Z",
     "start_time": "2022-06-02T20:35:45.291745Z"
    }
   },
   "outputs": [
    {
     "data": {
      "text/plain": [
       "Text(0.5, 0, '$a$')"
      ]
     },
     "execution_count": 87,
     "metadata": {},
     "output_type": "execute_result"
    },
    {
     "data": {
      "image/png": "[encoded data removed]",
      "text/plain": [
       "<Figure size 720x720 with 1 Axes>"
      ]
     },
     "metadata": {
      "needs_background": "light"
     },
     "output_type": "display_data"
    }
   ],
   "source": [
    "plt.hist(d['blendedness'].numpy())\n",
    "plt.xlabel(r\"$a$\")"
   ]
  },
  {
   "cell_type": "code",
   "execution_count": 95,
   "id": "ee6c7214",
   "metadata": {
    "ExecuteTime": {
     "end_time": "2022-06-02T20:53:24.515266Z",
     "start_time": "2022-06-02T20:53:24.431406Z"
    }
   },
   "outputs": [
    {
     "data": {
      "text/plain": [
       "63"
      ]
     },
     "execution_count": 95,
     "metadata": {},
     "output_type": "execute_result"
    }
   ],
   "source": [
    "sum(np.log10(d['snr'].numpy())<0.4)"
   ]
  },
  {
   "cell_type": "markdown",
   "id": "657e0aa3",
   "metadata": {},
   "source": [
    "# Dataset of blends"
   ]
  },
  {
   "cell_type": "code",
   "execution_count": 17,
   "id": "1a5deb25",
   "metadata": {
    "ExecuteTime": {
     "end_time": "2022-06-15T21:33:33.704595Z",
     "start_time": "2022-06-15T21:33:32.823878Z"
    }
   },
   "outputs": [
    {
     "name": "stdout",
     "output_type": "stream",
     "text": [
      "/home/imendoza/bliss.git/feature/case_studies/sdss_galaxies/notebooks/scratch\r\n"
     ]
    }
   ],
   "source": [
    "!pwd"
   ]
  },
  {
   "cell_type": "code",
   "execution_count": 18,
   "id": "d356e836",
   "metadata": {
    "ExecuteTime": {
     "end_time": "2022-06-15T21:33:34.771787Z",
     "start_time": "2022-06-15T21:33:34.326689Z"
    }
   },
   "outputs": [],
   "source": [
    "from bliss.catalog import TileCatalog\n",
    "blend_data = torch.load('/home/imendoza/bliss.git/feature/case_studies/sdss_galaxies/models/simulated_blended_galaxies.pt')\n",
    "images = blend_data.pop(\"images\")\n",
    "background = blend_data.pop(\"background\")\n",
    "n_batches, _, slen, _ = images.shape\n",
    "assert background.shape == (1, slen, slen)\n",
    "\n",
    "# prepare background\n",
    "background = background.unsqueeze(0)\n",
    "background = background.expand(n_batches, 1, slen, slen)\n",
    "\n",
    "# first create FullCatalog from simulated data\n",
    "tile_cat = TileCatalog(4, blend_data).cpu()\n",
    "full_truth = tile_cat.to_full_params()"
   ]
  },
  {
   "cell_type": "code",
   "execution_count": 19,
   "id": "35358638",
   "metadata": {
    "ExecuteTime": {
     "end_time": "2022-06-15T21:33:35.496144Z",
     "start_time": "2022-06-15T21:33:35.165360Z"
    }
   },
   "outputs": [
    {
     "data": {
      "text/plain": [
       "(array([  12.,   15.,   32.,   93.,  206.,  477.,  981., 1958., 3171.,\n",
       "        2938., 2639., 2236., 1995., 1793., 1590., 1360., 1185., 1095.,\n",
       "         989.,  909.,  747.,  705.,  595.,  525.,  461.,  378.,  375.,\n",
       "         323.,  220.,  148.]),\n",
       " array([-0.56605726, -0.44845587, -0.3308545 , -0.21325313, -0.09565174,\n",
       "         0.02194964,  0.13955101,  0.2571524 ,  0.37475377,  0.49235517,\n",
       "         0.60995656,  0.7275579 ,  0.8451593 ,  0.9627607 ,  1.0803621 ,\n",
       "         1.1979635 ,  1.3155649 ,  1.4331663 ,  1.5507675 ,  1.6683689 ,\n",
       "         1.7859703 ,  1.9035717 ,  2.021173  ,  2.1387744 ,  2.2563758 ,\n",
       "         2.3739772 ,  2.4915786 ,  2.60918   ,  2.7267814 ,  2.8443828 ,\n",
       "         2.9619842 ], dtype=float32),\n",
       " <BarContainer object of 30 artists>)"
      ]
     },
     "execution_count": 19,
     "metadata": {},
     "output_type": "execute_result"
    },
    {
     "data": {
      "image/png": "[encoded data removed]",
      "text/plain": [
       "<Figure size 432x288 with 1 Axes>"
      ]
     },
     "metadata": {
      "needs_background": "light"
     },
     "output_type": "display_data"
    }
   ],
   "source": [
    "snr = full_truth['snr'].numpy().reshape(-1)\n",
    "snr = snr[snr!=0]\n",
    "plt.hist(np.log10(snr), bins=30)\n"
   ]
  },
  {
   "cell_type": "code",
   "execution_count": 20,
   "id": "b31fa0c1",
   "metadata": {
    "ExecuteTime": {
     "end_time": "2022-06-15T21:33:36.021778Z",
     "start_time": "2022-06-15T21:33:35.824118Z"
    }
   },
   "outputs": [
    {
     "data": {
      "text/plain": [
       "(array([5705., 2330., 1593., 1225., 1078.,  887.,  835.,  683.,  691.,\n",
       "         655.,  601.,  511.,  547.,  545.,  549.,  560.,  525.,  509.,\n",
       "         510.,  566.,  522.,  556.,  540.,  580.,  568.,  609.,  721.,\n",
       "         794.,  936., 1207.]),\n",
       " array([1.3795203e-06, 3.3326026e-02, 6.6650674e-02, 9.9975318e-02,\n",
       "        1.3329996e-01, 1.6662461e-01, 1.9994926e-01, 2.3327391e-01,\n",
       "        2.6659855e-01, 2.9992321e-01, 3.3324784e-01, 3.6657250e-01,\n",
       "        3.9989713e-01, 4.3322179e-01, 4.6654645e-01, 4.9987108e-01,\n",
       "        5.3319573e-01, 5.6652039e-01, 5.9984499e-01, 6.3316965e-01,\n",
       "        6.6649431e-01, 6.9981897e-01, 7.3314363e-01, 7.6646823e-01,\n",
       "        7.9979289e-01, 8.3311754e-01, 8.6644220e-01, 8.9976686e-01,\n",
       "        9.3309146e-01, 9.6641612e-01, 9.9974078e-01], dtype=float32),\n",
       " <BarContainer object of 30 artists>)"
      ]
     },
     "execution_count": 20,
     "metadata": {},
     "output_type": "execute_result"
    },
    {
     "data": {
      "image/png": "[encoded data removed]",
      "text/plain": [
       "<Figure size 432x288 with 1 Axes>"
      ]
     },
     "metadata": {
      "needs_background": "light"
     },
     "output_type": "display_data"
    }
   ],
   "source": [
    "ble = full_truth['blendedness'].numpy().reshape(-1)\n",
    "ble = ble[ble!=0]\n",
    "plt.hist(ble, bins=30)\n"
   ]
  },
  {
   "cell_type": "code",
   "execution_count": 25,
   "id": "9c273fbc",
   "metadata": {
    "ExecuteTime": {
     "end_time": "2022-06-15T21:37:27.829085Z",
     "start_time": "2022-06-15T21:37:25.312080Z"
    }
   },
   "outputs": [
    {
     "data": {
      "text/plain": [
       "<matplotlib.collections.PathCollection at 0x7fa3f03c6640>"
      ]
     },
     "execution_count": 25,
     "metadata": {},
     "output_type": "execute_result"
    },
    {
     "data": {
      "image/png": "[encoded data removed]",
      "text/plain": [
       "<Figure size 432x288 with 1 Axes>"
      ]
     },
     "metadata": {
      "needs_background": "light"
     },
     "output_type": "display_data"
    }
   ],
   "source": [
    "\n",
    "_plocs = full_truth.plocs.reshape(-1, 2)\n",
    "_plocs = _plocs[_plocs[:, 0] >0]\n",
    "plt.scatter(_plocs[:, 1].numpy(), _plocs[:, 0].numpy())"
   ]
  },
  {
   "cell_type": "code",
   "execution_count": null,
   "id": "5390a988",
   "metadata": {},
   "outputs": [],
   "source": []
  }
 ],
 "metadata": {
  "kernelspec": {
   "display_name": "Python 3 (ipykernel)",
   "language": "python",
   "name": "python3"
  },
  "language_info": {
   "codemirror_mode": {
    "name": "ipython",
    "version": 3
   },
   "file_extension": ".py",
   "mimetype": "text/x-python",
   "name": "python",
   "nbconvert_exporter": "python",
   "pygments_lexer": "ipython3",
   "version": "3.8.10"
  },
  "toc": {
   "base_numbering": 1,
   "nav_menu": {},
   "number_sections": true,
   "sideBar": true,
   "skip_h1_title": false,
   "title_cell": "Table of Contents",
   "title_sidebar": "Contents",
   "toc_cell": false,
   "toc_position": {
    "height": "calc(100% - 180px)",
    "left": "10px",
    "top": "150px",
    "width": "165px"
   },
   "toc_section_display": true,
   "toc_window_display": true
  }
 },
 "nbformat": 4,
 "nbformat_minor": 5
}

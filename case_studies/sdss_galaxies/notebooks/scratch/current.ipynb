{
 "cells": [
  {
   "cell_type": "markdown",
   "id": "5cbed701",
   "metadata": {},
   "source": [
    "# Setup"
   ]
  },
  {
   "cell_type": "code",
   "execution_count": 3,
   "id": "74c00834",
   "metadata": {
    "ExecuteTime": {
     "end_time": "2022-05-30T18:23:50.147535Z",
     "start_time": "2022-05-30T18:23:50.109870Z"
    }
   },
   "outputs": [
    {
     "name": "stdout",
     "output_type": "stream",
     "text": [
      "Modules to reload:\n",
      "all-except-skipped\n",
      "\n",
      "Modules to skip:\n",
      "\n"
     ]
    }
   ],
   "source": [
    "%load_ext autoreload\n",
    "%autoreload 2\n",
    "%aimport"
   ]
  },
  {
   "cell_type": "code",
   "execution_count": 4,
   "id": "d79561f7",
   "metadata": {
    "ExecuteTime": {
     "end_time": "2022-05-30T18:23:50.319494Z",
     "start_time": "2022-05-30T18:23:50.283843Z"
    }
   },
   "outputs": [],
   "source": [
    "%matplotlib inline "
   ]
  },
  {
   "cell_type": "code",
   "execution_count": 5,
   "id": "1e614283",
   "metadata": {
    "ExecuteTime": {
     "end_time": "2022-05-30T18:23:50.785088Z",
     "start_time": "2022-05-30T18:23:50.466513Z"
    }
   },
   "outputs": [
    {
     "name": "stderr",
     "output_type": "stream",
     "text": [
      "Global seed set to 40\n"
     ]
    }
   ],
   "source": [
    "import matplotlib.pyplot as plt\n",
    "import torch\n",
    "\n",
    "from bliss.inference import SDSSFrame\n",
    "from bliss.datasets import sdss\n",
    "from bliss.inference import reconstruct_scene_at_coordinates\n",
    "from case_studies.sdss_galaxies.plots.main import load_models\n",
    "\n",
    "\n",
    "from astropy.table import Table\n",
    "\n",
    "import plotly.express as px\n",
    "import plotly.graph_objects as go"
   ]
  },
  {
   "cell_type": "code",
   "execution_count": 7,
   "id": "d46ad2b5",
   "metadata": {
    "ExecuteTime": {
     "end_time": "2022-05-30T18:23:58.617582Z",
     "start_time": "2022-05-30T18:23:57.788500Z"
    }
   },
   "outputs": [
    {
     "name": "stdout",
     "output_type": "stream",
     "text": [
      "5\r\n"
     ]
    }
   ],
   "source": [
    "# check GPU is configured correctly\n",
    "device = torch.device('cuda:0')\n",
    "!echo $CUDA_VISIBLE_DEVICES"
   ]
  },
  {
   "cell_type": "markdown",
   "id": "a53c8ef7",
   "metadata": {
    "heading_collapsed": true
   },
   "source": [
    "# Get Config"
   ]
  },
  {
   "cell_type": "code",
   "execution_count": null,
   "id": "7efec477",
   "metadata": {
    "ExecuteTime": {
     "end_time": "2022-05-28T02:33:41.376374Z",
     "start_time": "2022-05-28T02:33:41.080703Z"
    },
    "hidden": true
   },
   "outputs": [],
   "source": [
    "# load models\n",
    "from hydra import compose, initialize\n",
    "from hydra.utils import instantiate\n",
    "from bliss.encoder import Encoder\n",
    "\n",
    "with initialize(config_path=\"../../config\"):\n",
    "    cfg = compose(\"config\", overrides=[])\n",
    "    "
   ]
  },
  {
   "cell_type": "markdown",
   "id": "9c3d4967",
   "metadata": {
    "heading_collapsed": true
   },
   "source": [
    "# Run"
   ]
  },
  {
   "cell_type": "code",
   "execution_count": null,
   "id": "588b7330",
   "metadata": {
    "ExecuteTime": {
     "end_time": "2022-05-28T02:34:05.199493Z",
     "start_time": "2022-05-28T02:34:05.164031Z"
    },
    "hidden": true
   },
   "outputs": [],
   "source": [
    "from bliss.datasets.galsim_galaxies import SingleGalsimGalaxies"
   ]
  },
  {
   "cell_type": "code",
   "execution_count": null,
   "id": "d047dae9",
   "metadata": {
    "ExecuteTime": {
     "end_time": "2022-05-25T17:12:06.049642Z",
     "start_time": "2022-05-25T17:12:05.943793Z"
    },
    "hidden": true
   },
   "outputs": [],
   "source": [
    "prior = instantiate(cfg.models.prior)"
   ]
  },
  {
   "cell_type": "code",
   "execution_count": null,
   "id": "7421f625",
   "metadata": {
    "ExecuteTime": {
     "end_time": "2022-05-25T17:14:57.223892Z",
     "start_time": "2022-05-25T17:14:56.664305Z"
    },
    "hidden": true
   },
   "outputs": [],
   "source": [
    "tile_cat = prior.sample_prior(1, 1, 1, 1)"
   ]
  },
  {
   "cell_type": "code",
   "execution_count": null,
   "id": "862d4ed5",
   "metadata": {
    "ExecuteTime": {
     "end_time": "2022-05-25T17:14:57.916120Z",
     "start_time": "2022-05-25T17:14:57.872130Z"
    },
    "hidden": true
   },
   "outputs": [],
   "source": [
    "tile_cat"
   ]
  },
  {
   "cell_type": "code",
   "execution_count": null,
   "id": "53c5579d",
   "metadata": {
    "ExecuteTime": {
     "end_time": "2022-05-16T00:06:36.522814Z",
     "start_time": "2022-05-16T00:06:32.465940Z"
    },
    "hidden": true
   },
   "outputs": [],
   "source": [
    "dl = ds.val_dataloader()\n",
    "for x in dl:\n",
    "    print(x['images'].shape)"
   ]
  },
  {
   "cell_type": "code",
   "execution_count": null,
   "id": "c89124bc",
   "metadata": {
    "ExecuteTime": {
     "end_time": "2022-05-16T00:06:37.356543Z",
     "start_time": "2022-05-16T00:06:37.316790Z"
    },
    "hidden": true
   },
   "outputs": [],
   "source": [
    "for x in dl:\n",
    "    print(x['images'].shape)"
   ]
  },
  {
   "cell_type": "code",
   "execution_count": null,
   "id": "6f050c85",
   "metadata": {
    "hidden": true
   },
   "outputs": [],
   "source": [
    "# Load data\n",
    "\n",
    "# load sdss data\n",
    "sdss_dir = '/home/imendoza/bliss/data/sdss/'\n",
    "pixel_scale = 0.393\n",
    "coadd_file = \"/home/imendoza/bliss/data/coadd_catalog_94_1_12.fits\"\n",
    "frame = SDSSFrame(sdss_dir, pixel_scale, coadd_file)"
   ]
  },
  {
   "cell_type": "markdown",
   "id": "5a761237",
   "metadata": {},
   "source": [
    "# Encoder blend images"
   ]
  },
  {
   "cell_type": "code",
   "execution_count": 8,
   "id": "4ff19040",
   "metadata": {
    "ExecuteTime": {
     "end_time": "2022-05-30T18:24:03.154577Z",
     "start_time": "2022-05-30T18:23:59.650950Z"
    }
   },
   "outputs": [],
   "source": [
    "# load models\n",
    "from hydra import compose, initialize\n",
    "from hydra.utils import instantiate\n",
    "from bliss.encoder import Encoder\n",
    "\n",
    "with initialize(config_path=\"../../config\"):\n",
    "    cfg = compose(\"config\", overrides=[])\n",
    "    \n",
    "    \n",
    "enc, dec = load_models(cfg, device)\n",
    "bp = enc.border_padding\n",
    "torch.cuda.empty_cache()"
   ]
  },
  {
   "cell_type": "code",
   "execution_count": 9,
   "id": "9a8e3660",
   "metadata": {
    "ExecuteTime": {
     "end_time": "2022-05-30T18:24:03.185282Z",
     "start_time": "2022-05-30T18:24:03.156645Z"
    }
   },
   "outputs": [],
   "source": [
    "enc.n_rows_per_batch = 10\n",
    "enc.n_images_per_batch = 15"
   ]
  },
  {
   "cell_type": "code",
   "execution_count": 10,
   "id": "4b676f7c",
   "metadata": {
    "ExecuteTime": {
     "end_time": "2022-05-30T18:24:06.617718Z",
     "start_time": "2022-05-30T18:24:04.360702Z"
    }
   },
   "outputs": [
    {
     "data": {
      "text/plain": [
       "torch.Size([10240, 1, 81, 81])"
      ]
     },
     "execution_count": 10,
     "metadata": {},
     "output_type": "execute_result"
    }
   ],
   "source": [
    "blend_images = torch.load('../../models/simulated_blended_galaxies.pt')\n",
    "blend_images['images'].shape"
   ]
  },
  {
   "cell_type": "code",
   "execution_count": 11,
   "id": "dc7128e2",
   "metadata": {
    "ExecuteTime": {
     "end_time": "2022-05-30T18:24:07.126277Z",
     "start_time": "2022-05-30T18:24:07.089833Z"
    }
   },
   "outputs": [],
   "source": [
    "n_images, c, slen, _ = blend_images['images'].shape\n",
    "background = blend_images['background']\n",
    "background = background.unsqueeze(0)\n",
    "background = background.expand(n_images, 1, slen, slen)"
   ]
  },
  {
   "cell_type": "code",
   "execution_count": 17,
   "id": "00217e21",
   "metadata": {
    "ExecuteTime": {
     "end_time": "2022-05-30T18:26:33.096780Z",
     "start_time": "2022-05-30T18:25:51.235576Z"
    }
   },
   "outputs": [
    {
     "name": "stderr",
     "output_type": "stream",
     "text": [
      "Encoding ptiles: 683it [00:41, 16.38it/s]\n"
     ]
    }
   ],
   "source": [
    "tile_map = enc.variational_mode(blend_images['images'], background)"
   ]
  },
  {
   "cell_type": "code",
   "execution_count": 16,
   "id": "e050d9c0",
   "metadata": {
    "ExecuteTime": {
     "end_time": "2022-05-30T18:25:40.519827Z",
     "start_time": "2022-05-30T18:25:40.479098Z"
    }
   },
   "outputs": [
    {
     "data": {
      "text/plain": [
       "torch.Size([3, 1, 3])"
      ]
     },
     "execution_count": 16,
     "metadata": {},
     "output_type": "execute_result"
    }
   ],
   "source": [
    "torch.randn(10, 2, 3, 1, 3).shape[-3:]"
   ]
  },
  {
   "cell_type": "code",
   "execution_count": 22,
   "id": "f6b91f9d",
   "metadata": {
    "ExecuteTime": {
     "end_time": "2022-05-30T18:26:54.765744Z",
     "start_time": "2022-05-30T18:26:54.720181Z"
    }
   },
   "outputs": [],
   "source": [
    "full = tile_map.to_full_params()"
   ]
  },
  {
   "cell_type": "code",
   "execution_count": 25,
   "id": "eb27da0c",
   "metadata": {
    "ExecuteTime": {
     "end_time": "2022-05-30T18:27:16.894412Z",
     "start_time": "2022-05-30T18:27:16.848646Z"
    }
   },
   "outputs": [
    {
     "name": "stdout",
     "output_type": "stream",
     "text": [
      "torch.Size([10240, 6, 2])\n",
      "6\n"
     ]
    }
   ],
   "source": [
    "print(full.plocs.shape)\n",
    "print(full.n_sources.max().item())"
   ]
  },
  {
   "cell_type": "code",
   "execution_count": 34,
   "id": "190478c2",
   "metadata": {
    "ExecuteTime": {
     "end_time": "2022-05-30T18:33:07.962070Z",
     "start_time": "2022-05-30T18:33:07.767311Z"
    }
   },
   "outputs": [
    {
     "name": "stdout",
     "output_type": "stream",
     "text": [
      "3 2\n"
     ]
    },
    {
     "data": {
      "image/png": "[encoded data removed]",
      "text/plain": [
       "<Figure size 576x576 with 1 Axes>"
      ]
     },
     "metadata": {
      "needs_background": "light"
     },
     "output_type": "display_data"
    }
   ],
   "source": [
    "ii = 8\n",
    "plt.figure(figsize=(8, 8))\n",
    "plt.imshow(blend_images['images'][ii].cpu().numpy().reshape(slen, slen))\n",
    "plocs = full.plocs[ii, :full.n_sources[ii].item()].cpu().numpy()\n",
    "plt.scatter(plocs[:, 1] - 0.5 + enc.border_padding, plocs[:, 0] - 0.5 + enc.border_padding, marker='x', \n",
    "            color='r', s=75)\n",
    "true_plocs = blend_images['plocs'][ii].cpu().numpy()\n",
    "plt.scatter(true_plocs[:, 1] - 0.5, true_plocs[:, 0] - 0.5, marker='+', \n",
    "            color='b', s=100)\n",
    "print(blend_images['n_sources'][ii].item(), full.n_sources[ii].item())"
   ]
  },
  {
   "cell_type": "code",
   "execution_count": null,
   "id": "eca63c32",
   "metadata": {},
   "outputs": [],
   "source": []
  }
 ],
 "metadata": {
  "kernelspec": {
   "display_name": "Python 3 (ipykernel)",
   "language": "python",
   "name": "python3"
  },
  "language_info": {
   "codemirror_mode": {
    "name": "ipython",
    "version": 3
   },
   "file_extension": ".py",
   "mimetype": "text/x-python",
   "name": "python",
   "nbconvert_exporter": "python",
   "pygments_lexer": "ipython3",
   "version": "3.8.10"
  },
  "toc": {
   "base_numbering": 1,
   "nav_menu": {},
   "number_sections": true,
   "sideBar": true,
   "skip_h1_title": false,
   "title_cell": "Table of Contents",
   "title_sidebar": "Contents",
   "toc_cell": false,
   "toc_position": {
    "height": "calc(100% - 180px)",
    "left": "10px",
    "top": "150px",
    "width": "165px"
   },
   "toc_section_display": true,
   "toc_window_display": true
  }
 },
 "nbformat": 4,
 "nbformat_minor": 5
}

{
 "cells": [
  {
   "cell_type": "code",
   "execution_count": null,
   "id": "5c53d7e6",
   "metadata": {},
   "outputs": [],
   "source": [
    "%load_ext autoreload\n",
    "%autoreload 2\n",
    "%aimport"
   ]
  },
  {
   "cell_type": "code",
   "execution_count": null,
   "id": "4a19a2ed",
   "metadata": {},
   "outputs": [],
   "source": [
    "%matplotlib inline"
   ]
  },
  {
   "cell_type": "code",
   "execution_count": null,
   "id": "d69e8b92",
   "metadata": {},
   "outputs": [],
   "source": [
    "import torch\n",
    "import matplotlib.pyplot as plt \n",
    "from case_studies.sdss_galaxies.plots.bliss_figures import BlissFigures, set_rc_params, format_plot\n",
    "import seaborn as sns"
   ]
  },
  {
   "cell_type": "code",
   "execution_count": null,
   "id": "f8dd74c2",
   "metadata": {},
   "outputs": [],
   "source": [
    "set_rc_params()"
   ]
  },
  {
   "cell_type": "markdown",
   "id": "374dec3c",
   "metadata": {},
   "source": [
    "# Real SDSS Blends"
   ]
  },
  {
   "cell_type": "code",
   "execution_count": null,
   "id": "c4f12ef0",
   "metadata": {},
   "outputs": [],
   "source": [
    "d = torch.load(\"../../output/sdss_figures_cache/recon_sdss.pt\")"
   ]
  },
  {
   "cell_type": "code",
   "execution_count": null,
   "id": "4573b446",
   "metadata": {},
   "outputs": [],
   "source": [
    "fig, (ax1,ax2,ax3) = plt.subplots(1,3,figsize=(18, 8))\n",
    "true = d['sdss_gal_blend1']['true'][5:30, 5:30]\n",
    "recon = d['sdss_gal_blend1']['recon'][5:30, 5:30]\n",
    "res = d['sdss_gal_blend1']['resid'][5:30, 5:30]\n",
    "\n",
    "ax1.imshow(true, vmin=750, vmax=1200)\n",
    "ax2.imshow(recon, vmin=750, vmax=1200)\n",
    "ax3.imshow(res)\n",
    "\n",
    "\n",
    "\n",
    "ax1.set_axis_off()\n",
    "ax2.set_axis_off()\n",
    "ax3.set_axis_off()"
   ]
  },
  {
   "cell_type": "code",
   "execution_count": null,
   "id": "2a592017",
   "metadata": {},
   "outputs": [],
   "source": [
    "fig, (ax1,ax2,ax3) = plt.subplots(1,3,figsize=(18, 8))\n",
    "true = d['sdss_gal_blend2']['true'][5:25, 5:25]\n",
    "recon = d['sdss_gal_blend2']['recon'][5:25, 5:25]\n",
    "res = d['sdss_gal_blend2']['resid'][5:25, 5:25]\n",
    "\n",
    "ax1.imshow(true)\n",
    "ax2.imshow(recon)\n",
    "ax3.imshow(res)\n",
    "\n",
    "ax1.set_axis_off()\n",
    "ax2.set_axis_off()\n",
    "ax3.set_axis_off()"
   ]
  },
  {
   "cell_type": "markdown",
   "id": "5e4772ad",
   "metadata": {},
   "source": [
    "# Precision/recall/f1"
   ]
  },
  {
   "cell_type": "code",
   "execution_count": null,
   "id": "29b66273",
   "metadata": {},
   "outputs": [],
   "source": [
    "d = torch.load(\"../../output/sdss_figures_cache/detect_class.pt\")"
   ]
  },
  {
   "cell_type": "code",
   "execution_count": null,
   "id": "31759741",
   "metadata": {},
   "outputs": [],
   "source": [
    "mags = d['bliss_metrics']['mag_cuts']\n",
    "data = d['bliss_metrics']['cuts_data']"
   ]
  },
  {
   "cell_type": "code",
   "execution_count": null,
   "id": "d2aa145f",
   "metadata": {},
   "outputs": [],
   "source": [
    "sns.set_theme(style=\"darkgrid\")\n",
    "set_rc_params(fontsize=24)"
   ]
  },
  {
   "cell_type": "code",
   "execution_count": null,
   "id": "1771baab",
   "metadata": {},
   "outputs": [],
   "source": [
    "precision = data[\"precision\"]\n",
    "recall = data[\"recall\"]\n",
    "f1_score = data[\"f1\"]\n",
    "xlims=(18, 23.1)\n",
    "ylims=(0.6725, 1.025)\n",
    "fig, ax = plt.subplots(1, 1, figsize=(7, 7))\n",
    "ymin = min(min(precision), min(recall))\n",
    "yticks = np.arange(0.6, 1.05, 0.1)\n",
    "format_plot(ax, xlabel=r\"\\rm magnitude cut\", ylabel=\"metric\", yticks=yticks)\n",
    "ax.plot(mags, recall, \"-o\", label=r\"\\rm recall\")\n",
    "ax.plot(mags, precision, \"-o\", label=r\"\\rm precision\")\n",
    "ax.plot(mags, f1_score, \"-o\", label=r\"\\rm f1 score\")\n",
    "ax.legend(loc=\"lower left\", prop={\"size\": 22})\n",
    "ax.set_xlim(xlims)\n",
    "ax.set_ylim(ylims)"
   ]
  },
  {
   "cell_type": "code",
   "execution_count": null,
   "id": "e59811bd",
   "metadata": {},
   "outputs": [],
   "source": []
  },
  {
   "cell_type": "code",
   "execution_count": null,
   "id": "e1327678",
   "metadata": {},
   "outputs": [],
   "source": []
  }
 ],
 "metadata": {
  "kernelspec": {
   "display_name": "Python 3 (ipykernel)",
   "language": "python",
   "name": "python3"
  },
  "language_info": {
   "codemirror_mode": {
    "name": "ipython",
    "version": 3
   },
   "file_extension": ".py",
   "mimetype": "text/x-python",
   "name": "python",
   "nbconvert_exporter": "python",
   "pygments_lexer": "ipython3",
   "version": "3.8.10"
  },
  "toc": {
   "base_numbering": 1,
   "nav_menu": {},
   "number_sections": true,
   "sideBar": true,
   "skip_h1_title": false,
   "title_cell": "Table of Contents",
   "title_sidebar": "Contents",
   "toc_cell": false,
   "toc_position": {
    "height": "calc(100% - 180px)",
    "left": "10px",
    "top": "150px",
    "width": "165px"
   },
   "toc_section_display": true,
   "toc_window_display": true
  }
 },
 "nbformat": 4,
 "nbformat_minor": 5
}

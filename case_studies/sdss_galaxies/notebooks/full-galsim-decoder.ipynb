{
 "cells": [
  {
   "cell_type": "code",
   "execution_count": 193,
   "id": "2a30a67e",
   "metadata": {
    "ExecuteTime": {
     "end_time": "2022-06-06T01:46:10.038936Z",
     "start_time": "2022-06-06T01:46:07.905619Z"
    }
   },
   "outputs": [
    {
     "name": "stdout",
     "output_type": "stream",
     "text": [
      "The autoreload extension is already loaded. To reload it, use:\n",
      "  %reload_ext autoreload\n",
      "Modules to reload:\n",
      "all-except-skipped\n",
      "\n",
      "Modules to skip:\n",
      "\n",
      "5\n"
     ]
    }
   ],
   "source": [
    "# Setup\n",
    "\n",
    "%load_ext autoreload\n",
    "%autoreload 2\n",
    "%aimport\n",
    "\n",
    "%matplotlib inline \n",
    "\n",
    "import matplotlib.pyplot as plt\n",
    "import torch\n",
    "\n",
    "from bliss.inference import SDSSFrame\n",
    "from bliss.datasets import sdss\n",
    "from bliss.inference import reconstruct_scene_at_coordinates\n",
    "from case_studies.sdss_galaxies.plots.main import load_models\n",
    "\n",
    "\n",
    "from astropy.table import Table\n",
    "\n",
    "import plotly.express as px\n",
    "import plotly.graph_objects as go\n",
    "\n",
    "# check GPU is configured correctly\n",
    "device = torch.device('cuda:0')\n",
    "!echo $CUDA_VISIBLE_DEVICES"
   ]
  },
  {
   "cell_type": "code",
   "execution_count": 194,
   "id": "e3e29ef1",
   "metadata": {
    "ExecuteTime": {
     "end_time": "2022-06-06T01:46:10.183831Z",
     "start_time": "2022-06-06T01:46:10.042962Z"
    }
   },
   "outputs": [],
   "source": [
    "# load models\n",
    "from hydra import compose, initialize\n",
    "from hydra.utils import instantiate\n",
    "from bliss.encoder import Encoder\n",
    "\n",
    "with initialize(config_path=\"../config\"):\n",
    "    cfg = compose(\"config\", overrides=[])\n",
    "    "
   ]
  },
  {
   "cell_type": "code",
   "execution_count": 195,
   "id": "b1b2a6b1",
   "metadata": {
    "ExecuteTime": {
     "end_time": "2022-06-06T01:46:10.213419Z",
     "start_time": "2022-06-06T01:46:10.185280Z"
    }
   },
   "outputs": [],
   "source": [
    "single_prior = instantiate(cfg.datasets.sdss_galaxies.prior)\n",
    "single_decoder = instantiate(cfg.datasets.sdss_galaxies.decoder)"
   ]
  },
  {
   "cell_type": "code",
   "execution_count": 196,
   "id": "94b775f1",
   "metadata": {
    "ExecuteTime": {
     "end_time": "2022-06-06T01:46:10.236588Z",
     "start_time": "2022-06-06T01:46:10.215077Z"
    }
   },
   "outputs": [],
   "source": [
    "from bliss.models.galsim_decoder import UniformGalsimGalaxiesPrior\n",
    "prior = UniformGalsimGalaxiesPrior(single_prior, max_n_sources=5, max_shift=0.5)"
   ]
  },
  {
   "cell_type": "code",
   "execution_count": 252,
   "id": "9756dfa6",
   "metadata": {
    "ExecuteTime": {
     "end_time": "2022-06-06T01:58:20.721999Z",
     "start_time": "2022-06-06T01:58:20.686757Z"
    }
   },
   "outputs": [
    {
     "name": "stdout",
     "output_type": "stream",
     "text": [
      "{'n_sources': tensor(5), 'galaxy_params': tensor([[1.7740e+03, 7.4860e-02, 4.0898e+00, 1.3400e-01, 9.9047e-01, 5.8272e-01,\n",
      "         9.4578e-01],\n",
      "        [4.2501e+04, 1.9360e-01, 1.8160e+00, 1.2765e-01, 1.0193e+00, 5.5327e-01,\n",
      "         7.4227e-01],\n",
      "        [1.5663e+03, 7.0529e-01, 5.1892e+00, 4.2836e-02, 2.1668e+00, 9.0978e-01,\n",
      "         8.8042e-01],\n",
      "        [9.1097e+02, 1.2333e-01, 6.0551e+00, 9.6248e-01, 9.0462e+00, 5.9337e-02,\n",
      "         1.1075e+00],\n",
      "        [2.0044e+03, 2.4847e-01, 6.5305e-01, 7.8277e-01, 8.4492e-01, 3.8886e-01,\n",
      "         7.1306e-01]]), 'locs': tensor([[0.5629, 0.9400],\n",
      "        [0.2560, 0.9320],\n",
      "        [0.6823, 0.5800],\n",
      "        [0.1947, 0.9216],\n",
      "        [0.3184, 0.6219]]), 'galaxy_bools': tensor([[1.],\n",
      "        [1.],\n",
      "        [1.],\n",
      "        [1.],\n",
      "        [1.]]), 'star_bools': tensor([[0.],\n",
      "        [0.],\n",
      "        [0.],\n",
      "        [0.],\n",
      "        [0.]])}\n"
     ]
    }
   ],
   "source": [
    "# check samples look OK \n",
    "sample = prior.sample()\n",
    "print(sample)"
   ]
  },
  {
   "cell_type": "code",
   "execution_count": 253,
   "id": "ae43739a",
   "metadata": {
    "ExecuteTime": {
     "end_time": "2022-06-06T01:58:20.825074Z",
     "start_time": "2022-06-06T01:58:20.792183Z"
    }
   },
   "outputs": [],
   "source": [
    "# now load full decoder\n",
    "from bliss.models.galsim_decoder import GalsimGalaxiesDecoder\n",
    "slen = 40\n",
    "bp = 12\n",
    "decoder = GalsimGalaxiesDecoder(single_decoder, slen, bp)"
   ]
  },
  {
   "cell_type": "code",
   "execution_count": 267,
   "id": "e5bd10e4",
   "metadata": {
    "ExecuteTime": {
     "end_time": "2022-06-06T02:01:16.996367Z",
     "start_time": "2022-06-06T02:01:16.956750Z"
    }
   },
   "outputs": [
    {
     "name": "stdout",
     "output_type": "stream",
     "text": [
      "torch.Size([1, 5, 1])\n"
     ]
    }
   ],
   "source": [
    "# turn sample to FullCatalog\n",
    "from bliss.catalog import FullCatalog\n",
    "params_dict = {**sample}\n",
    "params_dict[\"plocs\"] = params_dict[\"locs\"] * slen\n",
    "params_dict.pop('locs')\n",
    "params_dict = {k: v.unsqueeze(0) for k, v in params_dict.items()}\n",
    "full_cat = FullCatalog(slen, slen, params_dict)\n",
    "print(full_cat['galaxy_bools'].shape)"
   ]
  },
  {
   "cell_type": "code",
   "execution_count": 265,
   "id": "4dee4237",
   "metadata": {
    "ExecuteTime": {
     "end_time": "2022-06-06T02:00:59.855526Z",
     "start_time": "2022-06-06T02:00:59.817104Z"
    }
   },
   "outputs": [
    {
     "data": {
      "text/plain": [
       "torch.Size([1, 10, 10, 1, 1])"
      ]
     },
     "execution_count": 265,
     "metadata": {},
     "output_type": "execute_result"
    }
   ],
   "source": [
    "tile_cat = full_cat.to_tile_params(4, 1)\n",
    "tile_cat['galaxy_bools'].shape"
   ]
  },
  {
   "cell_type": "code",
   "execution_count": 256,
   "id": "af34d5a5",
   "metadata": {
    "ExecuteTime": {
     "end_time": "2022-06-06T01:58:21.863098Z",
     "start_time": "2022-06-06T01:58:21.797488Z"
    },
    "scrolled": false
   },
   "outputs": [],
   "source": [
    "images, centered, uncentered = decoder(full_cat)"
   ]
  },
  {
   "cell_type": "code",
   "execution_count": 257,
   "id": "6813ca05",
   "metadata": {
    "ExecuteTime": {
     "end_time": "2022-06-06T01:58:23.089895Z",
     "start_time": "2022-06-06T01:58:22.920785Z"
    }
   },
   "outputs": [
    {
     "data": {
      "text/plain": [
       "<matplotlib.collections.PathCollection at 0x7efe5ddd0dc0>"
      ]
     },
     "execution_count": 257,
     "metadata": {},
     "output_type": "execute_result"
    },
    {
     "data": {
      "image/png": "[encoded data removed]",
      "text/plain": [
       "<Figure size 432x288 with 1 Axes>"
      ]
     },
     "metadata": {
      "needs_background": "light"
     },
     "output_type": "display_data"
    }
   ],
   "source": [
    "plocs_numpy = full_cat.plocs.numpy()\n",
    "plt.imshow(images[0, 0].numpy())\n",
    "plt.scatter(plocs_numpy[0, :, 1] + decoder.bp - 0.5, plocs_numpy[0, :, 0] + decoder.bp - 0.5, marker='x', c='r')"
   ]
  },
  {
   "cell_type": "code",
   "execution_count": 258,
   "id": "fb2514f7",
   "metadata": {
    "ExecuteTime": {
     "end_time": "2022-06-06T01:58:24.013024Z",
     "start_time": "2022-06-06T01:58:23.861732Z"
    }
   },
   "outputs": [
    {
     "data": {
      "text/plain": [
       "<matplotlib.image.AxesImage at 0x7efe5dac0070>"
      ]
     },
     "execution_count": 258,
     "metadata": {},
     "output_type": "execute_result"
    },
    {
     "data": {
      "image/png": "[encoded data removed]",
      "text/plain": [
       "<Figure size 432x288 with 1 Axes>"
      ]
     },
     "metadata": {
      "needs_background": "light"
     },
     "output_type": "display_data"
    }
   ],
   "source": [
    "plt.imshow(centered[0, 2, 0].numpy())"
   ]
  },
  {
   "cell_type": "code",
   "execution_count": 259,
   "id": "6a3ac7e7",
   "metadata": {
    "ExecuteTime": {
     "end_time": "2022-06-06T01:58:24.165947Z",
     "start_time": "2022-06-06T01:58:24.051664Z"
    }
   },
   "outputs": [
    {
     "data": {
      "text/plain": [
       "<matplotlib.image.AxesImage at 0x7efe5da8e100>"
      ]
     },
     "execution_count": 259,
     "metadata": {},
     "output_type": "execute_result"
    },
    {
     "data": {
      "image/png": "[encoded data removed]",
      "text/plain": [
       "<Figure size 432x288 with 1 Axes>"
      ]
     },
     "metadata": {
      "needs_background": "light"
     },
     "output_type": "display_data"
    }
   ],
   "source": [
    "plt.imshow(uncentered[0, 2, 0].numpy())"
   ]
  },
  {
   "cell_type": "code",
   "execution_count": 268,
   "id": "2ce0c3e8",
   "metadata": {
    "ExecuteTime": {
     "end_time": "2022-06-06T02:02:15.374631Z",
     "start_time": "2022-06-06T02:02:10.758893Z"
    }
   },
   "outputs": [],
   "source": [
    "# now dataset \n",
    "from bliss.datasets.galsim_galaxies import GalsimBlends\n",
    "from bliss.datasets.background import ConstantBackground\n",
    "background = ConstantBackground((860.,))\n",
    "ds = GalsimBlends(prior, decoder, background, 4, 1, 0, 1, False, 1 )"
   ]
  },
  {
   "cell_type": "code",
   "execution_count": 371,
   "id": "13b462d9",
   "metadata": {
    "ExecuteTime": {
     "end_time": "2022-06-06T02:07:34.845948Z",
     "start_time": "2022-06-06T02:07:34.479736Z"
    }
   },
   "outputs": [
    {
     "name": "stdout",
     "output_type": "stream",
     "text": [
      "{'galaxy_params': tensor([[[1.6287e+05, 5.9703e-01, 3.4993e+00, 9.5937e-01, 1.0086e+00,\n",
      "          6.0204e-01, 7.8387e+00],\n",
      "         [7.3846e+02, 5.8839e-01, 1.9646e+00, 2.6679e-01, 2.5681e+00,\n",
      "          6.0336e-01, 1.6943e+00],\n",
      "         [7.9172e+03, 2.8914e-01, 1.5801e+00, 7.7812e-01, 1.9608e+00,\n",
      "          9.2864e-05, 5.4197e-01],\n",
      "         [0.0000e+00, 0.0000e+00, 0.0000e+00, 0.0000e+00, 0.0000e+00,\n",
      "          0.0000e+00, 0.0000e+00],\n",
      "         [0.0000e+00, 0.0000e+00, 0.0000e+00, 0.0000e+00, 0.0000e+00,\n",
      "          0.0000e+00, 0.0000e+00]]]), 'galaxy_bools': tensor([[[1.],\n",
      "         [1.],\n",
      "         [1.],\n",
      "         [0.],\n",
      "         [0.]]]), 'star_bools': tensor([[[0.],\n",
      "         [0.],\n",
      "         [0.],\n",
      "         [0.],\n",
      "         [0.]]]), 'mags': tensor([[[16.9565],\n",
      "         [22.8153],\n",
      "         [20.2397],\n",
      "         [ 0.0000],\n",
      "         [ 0.0000]]]), 'fluxes': tensor([[[0.],\n",
      "         [0.],\n",
      "         [0.],\n",
      "         [0.],\n",
      "         [0.]]]), 'log_fluxes': tensor([[[0.],\n",
      "         [0.],\n",
      "         [0.],\n",
      "         [0.],\n",
      "         [0.]]]), 'galaxy_fluxes': tensor([[[162873.1094],\n",
      "         [   738.4646],\n",
      "         [  7917.2051],\n",
      "         [     0.0000],\n",
      "         [     0.0000]]]), 'ellips': tensor([[[ 0.0377,  0.0328],\n",
      "         [-0.4178, -0.4198],\n",
      "         [-0.7543, -0.0140],\n",
      "         [ 0.0000,  0.0000],\n",
      "         [ 0.0000,  0.0000]]]), 'snr': tensor([[[235.1397],\n",
      "         [  1.7991],\n",
      "         [ 26.4153],\n",
      "         [  0.0000],\n",
      "         [  0.0000]]]), 'blendedness': tensor([[[0.0130],\n",
      "         [0.9949],\n",
      "         [0.5955],\n",
      "         [0.0000],\n",
      "         [0.0000]]])}\n",
      "tensor([[[34.8290,  2.5848],\n",
      "         [34.2213,  2.0306],\n",
      "         [25.2353,  3.0617],\n",
      "         [ 0.0000,  0.0000],\n",
      "         [ 0.0000,  0.0000]]])\n",
      "tensor([3])\n"
     ]
    },
    {
     "ename": "IndexError",
     "evalue": "index 1 is out of bounds for dimension 3 with size 1",
     "output_type": "error",
     "traceback": [
      "\u001b[0;31m---------------------------------------------------------------------------\u001b[0m",
      "\u001b[0;31mIndexError\u001b[0m                                Traceback (most recent call last)",
      "Input \u001b[0;32mIn [371]\u001b[0m, in \u001b[0;36m<cell line: 1>\u001b[0;34m()\u001b[0m\n\u001b[0;32m----> 1\u001b[0m batch \u001b[38;5;241m=\u001b[39m \u001b[43mds\u001b[49m\u001b[43m[\u001b[49m\u001b[38;5;241;43m0\u001b[39;49m\u001b[43m]\u001b[49m\n",
      "File \u001b[0;32m~/bliss.git/feature/bliss/datasets/galsim_galaxies.py:187\u001b[0m, in \u001b[0;36mGalsimBlends.__getitem__\u001b[0;34m(self, idx)\u001b[0m\n\u001b[1;32m    185\u001b[0m \u001b[38;5;28mprint\u001b[39m(full_cat\u001b[38;5;241m.\u001b[39mplocs)\n\u001b[1;32m    186\u001b[0m \u001b[38;5;28mprint\u001b[39m(full_cat\u001b[38;5;241m.\u001b[39mn_sources)\n\u001b[0;32m--> 187\u001b[0m tile_cat \u001b[38;5;241m=\u001b[39m \u001b[43mfull_cat\u001b[49m\u001b[38;5;241;43m.\u001b[39;49m\u001b[43mto_tile_params\u001b[49m\u001b[43m(\u001b[49m\u001b[38;5;28;43mself\u001b[39;49m\u001b[38;5;241;43m.\u001b[39;49m\u001b[43mtile_slen\u001b[49m\u001b[43m,\u001b[49m\u001b[43m \u001b[49m\u001b[38;5;28;43mself\u001b[39;49m\u001b[38;5;241;43m.\u001b[39;49m\u001b[43mmax_sources_per_tile\u001b[49m\u001b[43m)\u001b[49m\n\u001b[1;32m    188\u001b[0m tile_dict \u001b[38;5;241m=\u001b[39m tile_cat\u001b[38;5;241m.\u001b[39mto_dict()\n\u001b[1;32m    189\u001b[0m n_sources \u001b[38;5;241m=\u001b[39m tile_dict\u001b[38;5;241m.\u001b[39mpop(\u001b[38;5;124m\"\u001b[39m\u001b[38;5;124mn_sources\u001b[39m\u001b[38;5;124m\"\u001b[39m)\n",
      "File \u001b[0;32m~/bliss.git/feature/bliss/catalog.py:385\u001b[0m, in \u001b[0;36mFullCatalog.to_tile_params\u001b[0;34m(self, tile_slen, max_sources_per_tile)\u001b[0m\n\u001b[1;32m    383\u001b[0m source_idx \u001b[38;5;241m=\u001b[39m tile_n_sources[\u001b[38;5;241m0\u001b[39m, coords[\u001b[38;5;241m0\u001b[39m], coords[\u001b[38;5;241m1\u001b[39m]]\n\u001b[1;32m    384\u001b[0m tile_is_on_array[\u001b[38;5;241m0\u001b[39m, coords[\u001b[38;5;241m0\u001b[39m], coords[\u001b[38;5;241m1\u001b[39m]] \u001b[38;5;241m=\u001b[39m \u001b[38;5;241m1\u001b[39m\n\u001b[0;32m--> 385\u001b[0m tile_locs[\u001b[38;5;241m0\u001b[39m, coords[\u001b[38;5;241m0\u001b[39m], coords[\u001b[38;5;241m1\u001b[39m], source_idx] \u001b[38;5;241m=\u001b[39m (\n\u001b[1;32m    386\u001b[0m     \u001b[38;5;28mself\u001b[39m\u001b[38;5;241m.\u001b[39mplocs[\u001b[38;5;241m0\u001b[39m, idx] \u001b[38;5;241m-\u001b[39m coords \u001b[38;5;241m*\u001b[39m tile_slen\n\u001b[1;32m    387\u001b[0m ) \u001b[38;5;241m/\u001b[39m tile_slen\n\u001b[1;32m    388\u001b[0m \u001b[38;5;28;01mfor\u001b[39;00m k, v \u001b[38;5;129;01min\u001b[39;00m tile_params\u001b[38;5;241m.\u001b[39mitems():\n\u001b[1;32m    389\u001b[0m     v[\u001b[38;5;241m0\u001b[39m, coords[\u001b[38;5;241m0\u001b[39m], coords[\u001b[38;5;241m1\u001b[39m], source_idx] \u001b[38;5;241m=\u001b[39m \u001b[38;5;28mself\u001b[39m[k][\u001b[38;5;241m0\u001b[39m, idx]\n",
      "\u001b[0;31mIndexError\u001b[0m: index 1 is out of bounds for dimension 3 with size 1"
     ]
    }
   ],
   "source": [
    "batch = ds[0]\n"
   ]
  },
  {
   "cell_type": "code",
   "execution_count": 274,
   "id": "e2a52f13",
   "metadata": {
    "ExecuteTime": {
     "end_time": "2022-06-06T02:03:29.050626Z",
     "start_time": "2022-06-06T02:03:29.011341Z"
    }
   },
   "outputs": [
    {
     "data": {
      "text/plain": [
       "torch.Size([10, 10, 1, 1])"
      ]
     },
     "execution_count": 274,
     "metadata": {},
     "output_type": "execute_result"
    }
   ],
   "source": [
    "batch['galaxy_bools'].shape"
   ]
  },
  {
   "cell_type": "code",
   "execution_count": null,
   "id": "6129076d",
   "metadata": {},
   "outputs": [],
   "source": []
  }
 ],
 "metadata": {
  "kernelspec": {
   "display_name": "Python 3 (ipykernel)",
   "language": "python",
   "name": "python3"
  },
  "language_info": {
   "codemirror_mode": {
    "name": "ipython",
    "version": 3
   },
   "file_extension": ".py",
   "mimetype": "text/x-python",
   "name": "python",
   "nbconvert_exporter": "python",
   "pygments_lexer": "ipython3",
   "version": "3.8.10"
  },
  "toc": {
   "base_numbering": 1,
   "nav_menu": {},
   "number_sections": true,
   "sideBar": true,
   "skip_h1_title": false,
   "title_cell": "Table of Contents",
   "title_sidebar": "Contents",
   "toc_cell": false,
   "toc_position": {},
   "toc_section_display": true,
   "toc_window_display": true
  }
 },
 "nbformat": 4,
 "nbformat_minor": 5
}

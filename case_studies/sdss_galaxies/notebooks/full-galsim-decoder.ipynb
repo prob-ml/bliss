{
 "cells": [
  {
   "cell_type": "code",
   "execution_count": null,
   "id": "2a30a67e",
   "metadata": {},
   "outputs": [],
   "source": [
    "# Setup\n",
    "\n",
    "%load_ext autoreload\n",
    "%autoreload 2\n",
    "%aimport\n",
    "\n",
    "%matplotlib inline \n",
    "\n",
    "import matplotlib.pyplot as plt\n",
    "import torch\n",
    "\n",
    "from bliss.inference import SDSSFrame\n",
    "from bliss.datasets import sdss\n",
    "from bliss.inference import reconstruct_scene_at_coordinates\n",
    "from case_studies.sdss_galaxies.plots.main import load_models\n",
    "\n",
    "\n",
    "from astropy.table import Table\n",
    "\n",
    "import plotly.express as px\n",
    "import plotly.graph_objects as go\n",
    "\n",
    "# check GPU is configured correctly\n",
    "device = torch.device('cuda:0')\n",
    "!echo $CUDA_VISIBLE_DEVICES"
   ]
  },
  {
   "cell_type": "code",
   "execution_count": null,
   "id": "e3e29ef1",
   "metadata": {},
   "outputs": [],
   "source": [
    "# load models\n",
    "from hydra import compose, initialize\n",
    "from hydra.utils import instantiate\n",
    "from bliss.encoder import Encoder\n",
    "\n",
    "with initialize(config_path=\"../config\"):\n",
    "    cfg = compose(\"config\", overrides=[])\n",
    "    "
   ]
  },
  {
   "cell_type": "markdown",
   "id": "6b35afcc",
   "metadata": {},
   "source": [
    "# Prior and Decoder"
   ]
  },
  {
   "cell_type": "code",
   "execution_count": null,
   "id": "b1b2a6b1",
   "metadata": {},
   "outputs": [],
   "source": [
    "single_prior = instantiate(cfg.datasets.sdss_galaxies.prior)\n",
    "single_decoder = instantiate(cfg.datasets.sdss_galaxies.decoder)"
   ]
  },
  {
   "cell_type": "code",
   "execution_count": null,
   "id": "94b775f1",
   "metadata": {},
   "outputs": [],
   "source": [
    "from bliss.models.galsim_decoder import UniformGalsimPrior\n",
    "prior = UniformGalsimPrior(single_prior, max_n_sources=5, max_shift=0.5)"
   ]
  },
  {
   "cell_type": "code",
   "execution_count": null,
   "id": "9756dfa6",
   "metadata": {},
   "outputs": [],
   "source": [
    "# check samples look OK \n",
    "sample = prior.sample()\n",
    "\n",
    "# COMMENT OUT for checking what happens when two sources fall in one tile\n",
    "# sample['locs'][1, :] = sample['locs'][0, :] + 0.01\n",
    "print(sample)\n"
   ]
  },
  {
   "cell_type": "code",
   "execution_count": null,
   "id": "ae43739a",
   "metadata": {},
   "outputs": [],
   "source": [
    "# now load full decoder\n",
    "from bliss.models.galsim_decoder import FullCatalogDecoder\n",
    "slen = 40\n",
    "bp = 24\n",
    "decoder = FullCatalogDecoder(single_decoder, slen, bp)"
   ]
  },
  {
   "cell_type": "code",
   "execution_count": null,
   "id": "e5bd10e4",
   "metadata": {},
   "outputs": [],
   "source": [
    "# turn sample to FullCatalog\n",
    "from bliss.catalog import FullCatalog\n",
    "params_dict = {**sample}\n",
    "params_dict[\"plocs\"] = params_dict[\"locs\"] * slen\n",
    "params_dict.pop('locs')\n",
    "params_dict = {k: v.unsqueeze(0) for k, v in params_dict.items()}\n",
    "full_cat = FullCatalog(slen, slen, params_dict)\n",
    "print(full_cat['galaxy_bools'].shape)\n",
    "print(full_cat.n_sources.shape)"
   ]
  },
  {
   "cell_type": "code",
   "execution_count": null,
   "id": "4dee4237",
   "metadata": {},
   "outputs": [],
   "source": [
    "tile_slen = 4\n",
    "max_tile_n_sources = 1\n",
    "tile_cat = full_cat.to_tile_params(tile_slen, max_tile_n_sources)\n",
    "tile_cat['galaxy_bools'].shape"
   ]
  },
  {
   "cell_type": "code",
   "execution_count": null,
   "id": "af34d5a5",
   "metadata": {},
   "outputs": [],
   "source": [
    "images, centered, uncentered = decoder(full_cat)"
   ]
  },
  {
   "cell_type": "code",
   "execution_count": null,
   "id": "6813ca05",
   "metadata": {},
   "outputs": [],
   "source": [
    "plocs_numpy = full_cat.plocs.numpy()\n",
    "n_sources = full_cat.n_sources.item()\n",
    "plt.imshow(images[0].numpy())\n",
    "plt.scatter(plocs_numpy[0, :n_sources, 1] + decoder.bp - 0.5, plocs_numpy[0, :n_sources, 0] + decoder.bp - 0.5, marker='x', c='r')"
   ]
  },
  {
   "cell_type": "code",
   "execution_count": null,
   "id": "083552e0",
   "metadata": {},
   "outputs": [],
   "source": [
    "# tiles (blue squares)\n",
    "plocs_numpy = full_cat.plocs.numpy()\n",
    "n_sources = full_cat.n_sources.item()\n",
    "plt.imshow(images[0].numpy())\n",
    "plt.scatter(plocs_numpy[0, :n_sources, 1] + decoder.bp - 0.5, plocs_numpy[0, :n_sources, 0] + decoder.bp - 0.5, marker='x', c='r')\n",
    "for x,y in zip(np.arange(0, slen+tile_slen, tile_slen) + bp, np.arange(0, slen+tile_slen, tile_slen) + bp): \n",
    "    plt.axvline(x, c='cyan', alpha=0.5)\n",
    "    plt.axhline(y, c='cyan', alpha=0.5)"
   ]
  },
  {
   "cell_type": "code",
   "execution_count": null,
   "id": "a029a9ac",
   "metadata": {},
   "outputs": [],
   "source": [
    "tile_cat.n_sources # should correspond to above squares"
   ]
  },
  {
   "cell_type": "code",
   "execution_count": null,
   "id": "a52a5332",
   "metadata": {},
   "outputs": [],
   "source": [
    "tile_cat['galaxy_params'][0, :, :, 0, 0] # should correspond to above squares as well"
   ]
  },
  {
   "cell_type": "code",
   "execution_count": null,
   "id": "fb2514f7",
   "metadata": {},
   "outputs": [],
   "source": [
    "# check images for metrics\n",
    "plt.imshow(centered[2, 0].numpy())"
   ]
  },
  {
   "cell_type": "code",
   "execution_count": null,
   "id": "6a3ac7e7",
   "metadata": {},
   "outputs": [],
   "source": [
    "plt.imshow(uncentered[2, 0].numpy())"
   ]
  },
  {
   "cell_type": "markdown",
   "id": "61df16f7",
   "metadata": {},
   "source": [
    "# Dataset"
   ]
  },
  {
   "cell_type": "code",
   "execution_count": null,
   "id": "2ce0c3e8",
   "metadata": {},
   "outputs": [],
   "source": [
    "# now dataset \n",
    "from bliss.datasets.galsim_galaxies import GalsimBlends\n",
    "from bliss.datasets.background import ConstantBackground\n",
    "background = ConstantBackground((860.,))\n",
    "ds = GalsimBlends(prior, decoder, background, tile_slen, max_tile_n_sources, num_workers=0, batch_size=5, n_batches=5)"
   ]
  },
  {
   "cell_type": "code",
   "execution_count": null,
   "id": "13b462d9",
   "metadata": {},
   "outputs": [],
   "source": [
    "# get one sample from dataset\n",
    "print(ds[0]['galaxy_bools'].shape)\n",
    "print(ds[0]['n_sources'].shape)"
   ]
  },
  {
   "cell_type": "code",
   "execution_count": null,
   "id": "6129076d",
   "metadata": {},
   "outputs": [],
   "source": [
    "# now a batch and draw example images\n",
    "for x in ds.train_dataloader():\n",
    "    print(x['n_sources'].shape)\n",
    "    print(x['images'].shape)\n",
    "    print(x['snr'].shape)\n",
    "    print(x['galaxy_bools'].shape)\n",
    "    print()\n",
    "    plt.figure()\n",
    "    plt.imshow(x['images'][0, 0].numpy()) # plot first figure of each batch.\n",
    "plt.close()"
   ]
  },
  {
   "cell_type": "code",
   "execution_count": null,
   "id": "29715133",
   "metadata": {},
   "outputs": [],
   "source": [
    "# looks like we are ready to go :)"
   ]
  }
 ],
 "metadata": {
  "interpreter": {
   "hash": "a4f06acbaf899f621947248385fc4c924f5057c84068085cc2764916432f1f00"
  },
  "kernelspec": {
   "display_name": "Python 3 (ipykernel)",
   "language": "python",
   "name": "python3"
  },
  "language_info": {
   "codemirror_mode": {
    "name": "ipython",
    "version": 3
   },
   "file_extension": ".py",
   "mimetype": "text/x-python",
   "name": "python",
   "nbconvert_exporter": "python",
   "pygments_lexer": "ipython3",
   "version": "3.8.10"
  },
  "toc": {
   "base_numbering": 1,
   "nav_menu": {},
   "number_sections": true,
   "sideBar": true,
   "skip_h1_title": false,
   "title_cell": "Table of Contents",
   "title_sidebar": "Contents",
   "toc_cell": false,
   "toc_position": {
    "height": "calc(100% - 180px)",
    "left": "10px",
    "top": "150px",
    "width": "165px"
   },
   "toc_section_display": true,
   "toc_window_display": false
  }
 },
 "nbformat": 4,
 "nbformat_minor": 5
}

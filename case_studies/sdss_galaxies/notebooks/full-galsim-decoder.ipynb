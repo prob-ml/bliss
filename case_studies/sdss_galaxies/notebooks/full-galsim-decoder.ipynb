{
 "cells": [
  {
   "cell_type": "code",
   "execution_count": 170,
   "id": "2a30a67e",
   "metadata": {
    "ExecuteTime": {
     "end_time": "2022-06-07T03:09:49.099235Z",
     "start_time": "2022-06-07T03:09:48.224120Z"
    }
   },
   "outputs": [
    {
     "name": "stdout",
     "output_type": "stream",
     "text": [
      "The autoreload extension is already loaded. To reload it, use:\n",
      "  %reload_ext autoreload\n",
      "Modules to reload:\n",
      "all-except-skipped\n",
      "\n",
      "Modules to skip:\n",
      "\n",
      "5\n"
     ]
    }
   ],
   "source": [
    "# Setup\n",
    "\n",
    "%load_ext autoreload\n",
    "%autoreload 2\n",
    "%aimport\n",
    "\n",
    "%matplotlib inline \n",
    "\n",
    "import matplotlib.pyplot as plt\n",
    "import torch\n",
    "\n",
    "from bliss.inference import SDSSFrame\n",
    "from bliss.datasets import sdss\n",
    "from bliss.inference import reconstruct_scene_at_coordinates\n",
    "from case_studies.sdss_galaxies.plots.main import load_models\n",
    "\n",
    "\n",
    "from astropy.table import Table\n",
    "\n",
    "import plotly.express as px\n",
    "import plotly.graph_objects as go\n",
    "\n",
    "# check GPU is configured correctly\n",
    "device = torch.device('cuda:0')\n",
    "!echo $CUDA_VISIBLE_DEVICES"
   ]
  },
  {
   "cell_type": "code",
   "execution_count": 171,
   "id": "e3e29ef1",
   "metadata": {
    "ExecuteTime": {
     "end_time": "2022-06-07T03:09:49.279070Z",
     "start_time": "2022-06-07T03:09:49.102104Z"
    }
   },
   "outputs": [],
   "source": [
    "# load models\n",
    "from hydra import compose, initialize\n",
    "from hydra.utils import instantiate\n",
    "from bliss.encoder import Encoder\n",
    "\n",
    "with initialize(config_path=\"../config\"):\n",
    "    cfg = compose(\"config\", overrides=[])\n",
    "    "
   ]
  },
  {
   "cell_type": "code",
   "execution_count": 172,
   "id": "b1b2a6b1",
   "metadata": {
    "ExecuteTime": {
     "end_time": "2022-06-07T03:09:49.306697Z",
     "start_time": "2022-06-07T03:09:49.280824Z"
    }
   },
   "outputs": [],
   "source": [
    "single_prior = instantiate(cfg.datasets.sdss_galaxies.prior)\n",
    "single_decoder = instantiate(cfg.datasets.sdss_galaxies.decoder)"
   ]
  },
  {
   "cell_type": "code",
   "execution_count": 173,
   "id": "94b775f1",
   "metadata": {
    "ExecuteTime": {
     "end_time": "2022-06-07T03:09:49.327520Z",
     "start_time": "2022-06-07T03:09:49.308413Z"
    }
   },
   "outputs": [],
   "source": [
    "from bliss.models.galsim_decoder import UniformGalsimGalaxiesPrior\n",
    "prior = UniformGalsimGalaxiesPrior(single_prior, max_n_sources=5, max_shift=0.5)"
   ]
  },
  {
   "cell_type": "code",
   "execution_count": 194,
   "id": "9756dfa6",
   "metadata": {
    "ExecuteTime": {
     "end_time": "2022-06-07T03:12:01.753163Z",
     "start_time": "2022-06-07T03:12:01.712025Z"
    }
   },
   "outputs": [
    {
     "name": "stdout",
     "output_type": "stream",
     "text": [
      "{'n_sources': tensor(3), 'galaxy_params': tensor([[1.6128e+04, 6.8326e-01, 5.0649e+00, 9.3431e-01, 1.2483e+00, 2.0879e-01,\n",
      "         5.1694e-01],\n",
      "        [3.1437e+04, 7.4605e-01, 4.6785e+00, 8.2543e-01, 1.2233e+00, 9.2866e-01,\n",
      "         4.9414e-01],\n",
      "        [9.4932e+03, 5.7933e-01, 3.4659e+00, 9.2548e-01, 3.3823e+00, 7.7547e-01,\n",
      "         8.3646e-01],\n",
      "        [0.0000e+00, 0.0000e+00, 0.0000e+00, 0.0000e+00, 0.0000e+00, 0.0000e+00,\n",
      "         0.0000e+00],\n",
      "        [0.0000e+00, 0.0000e+00, 0.0000e+00, 0.0000e+00, 0.0000e+00, 0.0000e+00,\n",
      "         0.0000e+00]]), 'locs': tensor([[0.7943, 0.2293],\n",
      "        [0.1679, 0.0022],\n",
      "        [0.4243, 0.0479],\n",
      "        [0.0000, 0.0000],\n",
      "        [0.0000, 0.0000]]), 'galaxy_bools': tensor([[1.],\n",
      "        [1.],\n",
      "        [1.],\n",
      "        [0.],\n",
      "        [0.]]), 'star_bools': tensor([[0.],\n",
      "        [0.],\n",
      "        [0.],\n",
      "        [0.],\n",
      "        [0.]])}\n"
     ]
    }
   ],
   "source": [
    "# check samples look OK \n",
    "sample = prior.sample()\n",
    "\n",
    "# COMMENT OUT for checking what happens when two sources fall in one tile\n",
    "# sample['locs'][1, :] = sample['locs'][0, :] + 0.01\n",
    "print(sample)\n"
   ]
  },
  {
   "cell_type": "code",
   "execution_count": 195,
   "id": "ae43739a",
   "metadata": {
    "ExecuteTime": {
     "end_time": "2022-06-07T03:12:06.748126Z",
     "start_time": "2022-06-07T03:12:06.702902Z"
    }
   },
   "outputs": [],
   "source": [
    "# now load full decoder\n",
    "from bliss.models.galsim_decoder import GalsimGalaxiesDecoder\n",
    "slen = 40\n",
    "bp = 12\n",
    "decoder = GalsimGalaxiesDecoder(single_decoder, slen, bp)"
   ]
  },
  {
   "cell_type": "code",
   "execution_count": 196,
   "id": "e5bd10e4",
   "metadata": {
    "ExecuteTime": {
     "end_time": "2022-06-07T03:12:06.937456Z",
     "start_time": "2022-06-07T03:12:06.894696Z"
    }
   },
   "outputs": [
    {
     "name": "stdout",
     "output_type": "stream",
     "text": [
      "torch.Size([1, 5, 1])\n",
      "torch.Size([1])\n"
     ]
    }
   ],
   "source": [
    "# turn sample to FullCatalog\n",
    "from bliss.catalog import FullCatalog\n",
    "params_dict = {**sample}\n",
    "params_dict[\"plocs\"] = params_dict[\"locs\"] * slen\n",
    "params_dict.pop('locs')\n",
    "params_dict = {k: v.unsqueeze(0) for k, v in params_dict.items()}\n",
    "full_cat = FullCatalog(slen, slen, params_dict)\n",
    "print(full_cat['galaxy_bools'].shape)\n",
    "print(full_cat.n_sources.shape)"
   ]
  },
  {
   "cell_type": "code",
   "execution_count": 197,
   "id": "4dee4237",
   "metadata": {
    "ExecuteTime": {
     "end_time": "2022-06-07T03:12:07.738701Z",
     "start_time": "2022-06-07T03:12:07.697112Z"
    }
   },
   "outputs": [
    {
     "data": {
      "text/plain": [
       "torch.Size([1, 10, 10, 1, 1])"
      ]
     },
     "execution_count": 197,
     "metadata": {},
     "output_type": "execute_result"
    }
   ],
   "source": [
    "tile_slen = 4\n",
    "max_tile_n_sources = 1\n",
    "tile_cat = full_cat.to_tile_params(tile_slen, max_tile_n_sources)\n",
    "tile_cat['galaxy_bools'].shape"
   ]
  },
  {
   "cell_type": "code",
   "execution_count": 198,
   "id": "af34d5a5",
   "metadata": {
    "ExecuteTime": {
     "end_time": "2022-06-07T03:12:09.424147Z",
     "start_time": "2022-06-07T03:12:09.361555Z"
    },
    "scrolled": false
   },
   "outputs": [],
   "source": [
    "images, centered, uncentered = decoder(full_cat)"
   ]
  },
  {
   "cell_type": "code",
   "execution_count": 199,
   "id": "6813ca05",
   "metadata": {
    "ExecuteTime": {
     "end_time": "2022-06-07T03:12:09.740072Z",
     "start_time": "2022-06-07T03:12:09.569753Z"
    }
   },
   "outputs": [
    {
     "data": {
      "text/plain": [
       "<matplotlib.collections.PathCollection at 0x7f79b8464760>"
      ]
     },
     "execution_count": 199,
     "metadata": {},
     "output_type": "execute_result"
    },
    {
     "data": {
      "image/png": "[encoded data removed]",
      "text/plain": [
       "<Figure size 432x288 with 1 Axes>"
      ]
     },
     "metadata": {
      "needs_background": "light"
     },
     "output_type": "display_data"
    }
   ],
   "source": [
    "plocs_numpy = full_cat.plocs.numpy()\n",
    "n_sources = full_cat.n_sources.item()\n",
    "plt.imshow(images[0].numpy())\n",
    "plt.scatter(plocs_numpy[0, :n_sources, 1] + decoder.bp - 0.5, plocs_numpy[0, :n_sources, 0] + decoder.bp - 0.5, marker='x', c='r')"
   ]
  },
  {
   "cell_type": "code",
   "execution_count": 200,
   "id": "fecdb4de",
   "metadata": {
    "ExecuteTime": {
     "end_time": "2022-06-07T03:12:11.348533Z",
     "start_time": "2022-06-07T03:12:11.160123Z"
    }
   },
   "outputs": [
    {
     "data": {
      "image/png": "[encoded data removed]",
      "text/plain": [
       "<Figure size 432x288 with 1 Axes>"
      ]
     },
     "metadata": {
      "needs_background": "light"
     },
     "output_type": "display_data"
    }
   ],
   "source": [
    "# tiles (blue squares)\n",
    "plocs_numpy = full_cat.plocs.numpy()\n",
    "n_sources = full_cat.n_sources.item()\n",
    "plt.imshow(images[0].numpy())\n",
    "plt.scatter(plocs_numpy[0, :n_sources, 1] + decoder.bp - 0.5, plocs_numpy[0, :n_sources, 0] + decoder.bp - 0.5, marker='x', c='r')\n",
    "for x,y in zip(np.arange(0, slen+tile_slen, tile_slen) + bp, np.arange(0, slen+tile_slen, tile_slen) + bp): \n",
    "    plt.axvline(x, c='cyan', alpha=0.5)\n",
    "    plt.axhline(y, c='cyan', alpha=0.5)"
   ]
  },
  {
   "cell_type": "code",
   "execution_count": 201,
   "id": "472e1d27",
   "metadata": {
    "ExecuteTime": {
     "end_time": "2022-06-07T03:12:30.010814Z",
     "start_time": "2022-06-07T03:12:29.955386Z"
    }
   },
   "outputs": [
    {
     "data": {
      "text/plain": [
       "tensor([[[0, 0, 0, 0, 0, 0, 0, 0, 0, 0],\n",
       "         [1, 0, 0, 0, 0, 0, 0, 0, 0, 0],\n",
       "         [0, 0, 0, 0, 0, 0, 0, 0, 0, 0],\n",
       "         [0, 0, 0, 0, 0, 0, 0, 0, 0, 0],\n",
       "         [1, 0, 0, 0, 0, 0, 0, 0, 0, 0],\n",
       "         [0, 0, 0, 0, 0, 0, 0, 0, 0, 0],\n",
       "         [0, 0, 0, 0, 0, 0, 0, 0, 0, 0],\n",
       "         [0, 0, 1, 0, 0, 0, 0, 0, 0, 0],\n",
       "         [0, 0, 0, 0, 0, 0, 0, 0, 0, 0],\n",
       "         [0, 0, 0, 0, 0, 0, 0, 0, 0, 0]]])"
      ]
     },
     "execution_count": 201,
     "metadata": {},
     "output_type": "execute_result"
    }
   ],
   "source": [
    "tile_cat.n_sources # should correspond to above squares"
   ]
  },
  {
   "cell_type": "code",
   "execution_count": 202,
   "id": "1bc02d25",
   "metadata": {
    "ExecuteTime": {
     "end_time": "2022-06-07T03:12:33.193525Z",
     "start_time": "2022-06-07T03:12:33.150209Z"
    }
   },
   "outputs": [
    {
     "data": {
      "text/plain": [
       "tensor([[    0.0000,     0.0000,     0.0000,     0.0000,     0.0000,     0.0000,\n",
       "             0.0000,     0.0000,     0.0000,     0.0000],\n",
       "        [31436.7324,     0.0000,     0.0000,     0.0000,     0.0000,     0.0000,\n",
       "             0.0000,     0.0000,     0.0000,     0.0000],\n",
       "        [    0.0000,     0.0000,     0.0000,     0.0000,     0.0000,     0.0000,\n",
       "             0.0000,     0.0000,     0.0000,     0.0000],\n",
       "        [    0.0000,     0.0000,     0.0000,     0.0000,     0.0000,     0.0000,\n",
       "             0.0000,     0.0000,     0.0000,     0.0000],\n",
       "        [ 9493.1836,     0.0000,     0.0000,     0.0000,     0.0000,     0.0000,\n",
       "             0.0000,     0.0000,     0.0000,     0.0000],\n",
       "        [    0.0000,     0.0000,     0.0000,     0.0000,     0.0000,     0.0000,\n",
       "             0.0000,     0.0000,     0.0000,     0.0000],\n",
       "        [    0.0000,     0.0000,     0.0000,     0.0000,     0.0000,     0.0000,\n",
       "             0.0000,     0.0000,     0.0000,     0.0000],\n",
       "        [    0.0000,     0.0000, 16128.3994,     0.0000,     0.0000,     0.0000,\n",
       "             0.0000,     0.0000,     0.0000,     0.0000],\n",
       "        [    0.0000,     0.0000,     0.0000,     0.0000,     0.0000,     0.0000,\n",
       "             0.0000,     0.0000,     0.0000,     0.0000],\n",
       "        [    0.0000,     0.0000,     0.0000,     0.0000,     0.0000,     0.0000,\n",
       "             0.0000,     0.0000,     0.0000,     0.0000]])"
      ]
     },
     "execution_count": 202,
     "metadata": {},
     "output_type": "execute_result"
    }
   ],
   "source": [
    "tile_cat['galaxy_params'][0, :, :, 0, 0] # should correspond to above squares"
   ]
  },
  {
   "cell_type": "code",
   "execution_count": 204,
   "id": "fb2514f7",
   "metadata": {
    "ExecuteTime": {
     "end_time": "2022-06-07T03:12:40.121284Z",
     "start_time": "2022-06-07T03:12:40.003178Z"
    }
   },
   "outputs": [
    {
     "data": {
      "text/plain": [
       "<matplotlib.image.AxesImage at 0x7f79b82fe640>"
      ]
     },
     "execution_count": 204,
     "metadata": {},
     "output_type": "execute_result"
    },
    {
     "data": {
      "image/png": "[encoded data removed]",
      "text/plain": [
       "<Figure size 432x288 with 1 Axes>"
      ]
     },
     "metadata": {
      "needs_background": "light"
     },
     "output_type": "display_data"
    }
   ],
   "source": [
    "plt.imshow(centered[2, 0].numpy())"
   ]
  },
  {
   "cell_type": "code",
   "execution_count": 205,
   "id": "6a3ac7e7",
   "metadata": {
    "ExecuteTime": {
     "end_time": "2022-06-07T03:12:43.213422Z",
     "start_time": "2022-06-07T03:12:43.096222Z"
    }
   },
   "outputs": [
    {
     "data": {
      "text/plain": [
       "<matplotlib.image.AxesImage at 0x7f79b82c3eb0>"
      ]
     },
     "execution_count": 205,
     "metadata": {},
     "output_type": "execute_result"
    },
    {
     "data": {
      "image/png": "[encoded data removed]",
      "text/plain": [
       "<Figure size 432x288 with 1 Axes>"
      ]
     },
     "metadata": {
      "needs_background": "light"
     },
     "output_type": "display_data"
    }
   ],
   "source": [
    "plt.imshow(uncentered[2, 0].numpy())"
   ]
  },
  {
   "cell_type": "code",
   "execution_count": 206,
   "id": "2ce0c3e8",
   "metadata": {
    "ExecuteTime": {
     "end_time": "2022-06-07T03:12:45.383062Z",
     "start_time": "2022-06-07T03:12:45.340841Z"
    }
   },
   "outputs": [],
   "source": [
    "# now dataset \n",
    "from bliss.datasets.galsim_galaxies import GalsimBlends\n",
    "from bliss.datasets.background import ConstantBackground\n",
    "background = ConstantBackground((860.,))\n",
    "ds = GalsimBlends(prior, decoder, background, tile_slen, max_tile_n_sources, num_workers=0, batch_size=5, n_batches=2)"
   ]
  },
  {
   "cell_type": "code",
   "execution_count": 207,
   "id": "13b462d9",
   "metadata": {
    "ExecuteTime": {
     "end_time": "2022-06-07T03:12:46.785974Z",
     "start_time": "2022-06-07T03:12:46.641621Z"
    }
   },
   "outputs": [
    {
     "name": "stdout",
     "output_type": "stream",
     "text": [
      "torch.Size([10, 10, 1, 1])\n",
      "torch.Size([10, 10])\n"
     ]
    }
   ],
   "source": [
    "# get one sample from dataset\n",
    "print(ds[0]['galaxy_bools'].shape)\n",
    "print(ds[0]['n_sources'].shape)"
   ]
  },
  {
   "cell_type": "code",
   "execution_count": null,
   "id": "1aec2773",
   "metadata": {},
   "outputs": [],
   "source": [
    "x['n_sources']"
   ]
  },
  {
   "cell_type": "code",
   "execution_count": 234,
   "id": "6129076d",
   "metadata": {
    "ExecuteTime": {
     "end_time": "2022-06-07T03:15:20.162633Z",
     "start_time": "2022-06-07T03:15:19.313800Z"
    }
   },
   "outputs": [
    {
     "name": "stdout",
     "output_type": "stream",
     "text": [
      "torch.Size([5, 10, 10])\n",
      "torch.Size([5, 1, 64, 64])\n",
      "\n",
      "torch.Size([5, 10, 10])\n",
      "torch.Size([5, 1, 64, 64])\n",
      "\n"
     ]
    },
    {
     "data": {
      "image/png": "[encoded data removed]",
      "text/plain": [
       "<Figure size 432x288 with 1 Axes>"
      ]
     },
     "metadata": {
      "needs_background": "light"
     },
     "output_type": "display_data"
    },
    {
     "data": {
      "image/png": "[encoded data removed]",
      "text/plain": [
       "<Figure size 432x288 with 1 Axes>"
      ]
     },
     "metadata": {
      "needs_background": "light"
     },
     "output_type": "display_data"
    }
   ],
   "source": [
    "# now a batch \n",
    "for x in ds.train_dataloader():\n",
    "    print(x['n_sources'].shape)\n",
    "    print(x['images'].shape)\n",
    "    print()\n",
    "    plt.figure()\n",
    "    plt.imshow(x['images'][0, 0].numpy()) # plot first figure of each batch."
   ]
  },
  {
   "cell_type": "code",
   "execution_count": null,
   "id": "74caa55a",
   "metadata": {},
   "outputs": [],
   "source": []
  }
 ],
 "metadata": {
  "kernelspec": {
   "display_name": "Python 3 (ipykernel)",
   "language": "python",
   "name": "python3"
  },
  "language_info": {
   "codemirror_mode": {
    "name": "ipython",
    "version": 3
   },
   "file_extension": ".py",
   "mimetype": "text/x-python",
   "name": "python",
   "nbconvert_exporter": "python",
   "pygments_lexer": "ipython3",
   "version": "3.8.10"
  },
  "toc": {
   "base_numbering": 1,
   "nav_menu": {},
   "number_sections": true,
   "sideBar": true,
   "skip_h1_title": false,
   "title_cell": "Table of Contents",
   "title_sidebar": "Contents",
   "toc_cell": false,
   "toc_position": {
    "height": "calc(100% - 180px)",
    "left": "10px",
    "top": "150px",
    "width": "165px"
   },
   "toc_section_display": true,
   "toc_window_display": false
  }
 },
 "nbformat": 4,
 "nbformat_minor": 5
}

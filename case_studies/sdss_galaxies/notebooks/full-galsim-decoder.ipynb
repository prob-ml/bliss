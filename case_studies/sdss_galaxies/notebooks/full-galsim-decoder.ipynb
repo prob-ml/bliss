{
 "cells": [
  {
   "cell_type": "code",
   "execution_count": 22,
   "id": "2a30a67e",
   "metadata": {
    "ExecuteTime": {
     "end_time": "2022-06-07T02:04:59.968350Z",
     "start_time": "2022-06-07T02:04:58.783437Z"
    }
   },
   "outputs": [
    {
     "name": "stdout",
     "output_type": "stream",
     "text": [
      "The autoreload extension is already loaded. To reload it, use:\n",
      "  %reload_ext autoreload\n",
      "Modules to reload:\n",
      "all-except-skipped\n",
      "\n",
      "Modules to skip:\n",
      "\n",
      "5\n"
     ]
    }
   ],
   "source": [
    "# Setup\n",
    "\n",
    "%load_ext autoreload\n",
    "%autoreload 2\n",
    "%aimport\n",
    "\n",
    "%matplotlib inline \n",
    "\n",
    "import matplotlib.pyplot as plt\n",
    "import torch\n",
    "\n",
    "from bliss.inference import SDSSFrame\n",
    "from bliss.datasets import sdss\n",
    "from bliss.inference import reconstruct_scene_at_coordinates\n",
    "from case_studies.sdss_galaxies.plots.main import load_models\n",
    "\n",
    "\n",
    "from astropy.table import Table\n",
    "\n",
    "import plotly.express as px\n",
    "import plotly.graph_objects as go\n",
    "\n",
    "# check GPU is configured correctly\n",
    "device = torch.device('cuda:0')\n",
    "!echo $CUDA_VISIBLE_DEVICES"
   ]
  },
  {
   "cell_type": "code",
   "execution_count": 23,
   "id": "e3e29ef1",
   "metadata": {
    "ExecuteTime": {
     "end_time": "2022-06-07T02:05:00.175067Z",
     "start_time": "2022-06-07T02:04:59.972212Z"
    }
   },
   "outputs": [],
   "source": [
    "# load models\n",
    "from hydra import compose, initialize\n",
    "from hydra.utils import instantiate\n",
    "from bliss.encoder import Encoder\n",
    "\n",
    "with initialize(config_path=\"../config\"):\n",
    "    cfg = compose(\"config\", overrides=[])\n",
    "    "
   ]
  },
  {
   "cell_type": "code",
   "execution_count": 24,
   "id": "b1b2a6b1",
   "metadata": {
    "ExecuteTime": {
     "end_time": "2022-06-07T02:05:00.205038Z",
     "start_time": "2022-06-07T02:05:00.176457Z"
    }
   },
   "outputs": [],
   "source": [
    "single_prior = instantiate(cfg.datasets.sdss_galaxies.prior)\n",
    "single_decoder = instantiate(cfg.datasets.sdss_galaxies.decoder)"
   ]
  },
  {
   "cell_type": "code",
   "execution_count": 25,
   "id": "94b775f1",
   "metadata": {
    "ExecuteTime": {
     "end_time": "2022-06-07T02:05:00.228553Z",
     "start_time": "2022-06-07T02:05:00.207075Z"
    }
   },
   "outputs": [],
   "source": [
    "from bliss.models.galsim_decoder import UniformGalsimGalaxiesPrior\n",
    "prior = UniformGalsimGalaxiesPrior(single_prior, max_n_sources=5, max_shift=0.5)"
   ]
  },
  {
   "cell_type": "code",
   "execution_count": 135,
   "id": "9756dfa6",
   "metadata": {
    "ExecuteTime": {
     "end_time": "2022-06-07T02:44:59.514712Z",
     "start_time": "2022-06-07T02:44:59.471510Z"
    }
   },
   "outputs": [
    {
     "name": "stdout",
     "output_type": "stream",
     "text": [
      "{'n_sources': tensor(5), 'galaxy_params': tensor([[7.4521e+03, 5.1564e-01, 5.2357e-01, 7.2759e-01, 6.7483e+00, 7.3449e-01,\n",
      "         6.2471e-01],\n",
      "        [3.0327e+05, 1.3966e-01, 2.1316e-01, 7.2491e-01, 1.1813e+00, 4.3688e-01,\n",
      "         5.3295e-01],\n",
      "        [1.5551e+03, 6.6287e-01, 3.8017e+00, 1.3270e-01, 3.1606e+00, 5.6463e-01,\n",
      "         4.2859e-01],\n",
      "        [1.7635e+03, 7.8908e-01, 3.1282e+00, 6.8381e-01, 2.3593e+00, 4.2389e-01,\n",
      "         1.6917e+00],\n",
      "        [3.7242e+03, 1.2094e-01, 4.1292e+00, 8.1260e-01, 8.8961e-01, 7.3340e-01,\n",
      "         4.2529e-01]]), 'locs': tensor([[0.0192, 0.4733],\n",
      "        [0.0292, 0.4833],\n",
      "        [0.9040, 0.6531],\n",
      "        [0.7644, 0.5134],\n",
      "        [0.6181, 0.4282]]), 'galaxy_bools': tensor([[1.],\n",
      "        [1.],\n",
      "        [1.],\n",
      "        [1.],\n",
      "        [1.]]), 'star_bools': tensor([[0.],\n",
      "        [0.],\n",
      "        [0.],\n",
      "        [0.],\n",
      "        [0.]])}\n"
     ]
    }
   ],
   "source": [
    "# check samples look OK \n",
    "sample = prior.sample()\n",
    "\n",
    "# COMMENT OUT for checking what happens when two sources fall in one tile\n",
    "sample['locs'][1, :] = sample['locs'][0, :] + 0.01\n",
    "print(sample)\n"
   ]
  },
  {
   "cell_type": "code",
   "execution_count": 136,
   "id": "ae43739a",
   "metadata": {
    "ExecuteTime": {
     "end_time": "2022-06-07T02:45:02.011770Z",
     "start_time": "2022-06-07T02:45:01.974890Z"
    }
   },
   "outputs": [],
   "source": [
    "# now load full decoder\n",
    "from bliss.models.galsim_decoder import GalsimGalaxiesDecoder\n",
    "slen = 40\n",
    "bp = 12\n",
    "decoder = GalsimGalaxiesDecoder(single_decoder, slen, bp)"
   ]
  },
  {
   "cell_type": "code",
   "execution_count": 137,
   "id": "e5bd10e4",
   "metadata": {
    "ExecuteTime": {
     "end_time": "2022-06-07T02:45:02.174048Z",
     "start_time": "2022-06-07T02:45:02.135994Z"
    }
   },
   "outputs": [
    {
     "name": "stdout",
     "output_type": "stream",
     "text": [
      "torch.Size([1, 5, 1])\n",
      "torch.Size([1])\n"
     ]
    }
   ],
   "source": [
    "# turn sample to FullCatalog\n",
    "from bliss.catalog import FullCatalog\n",
    "params_dict = {**sample}\n",
    "params_dict[\"plocs\"] = params_dict[\"locs\"] * slen\n",
    "params_dict.pop('locs')\n",
    "params_dict = {k: v.unsqueeze(0) for k, v in params_dict.items()}\n",
    "full_cat = FullCatalog(slen, slen, params_dict)\n",
    "print(full_cat['galaxy_bools'].shape)\n",
    "print(full_cat.n_sources.shape)"
   ]
  },
  {
   "cell_type": "code",
   "execution_count": 138,
   "id": "4dee4237",
   "metadata": {
    "ExecuteTime": {
     "end_time": "2022-06-07T02:45:02.327747Z",
     "start_time": "2022-06-07T02:45:02.291673Z"
    }
   },
   "outputs": [
    {
     "data": {
      "text/plain": [
       "torch.Size([1, 10, 10, 1, 1])"
      ]
     },
     "execution_count": 138,
     "metadata": {},
     "output_type": "execute_result"
    }
   ],
   "source": [
    "tile_slen = 4\n",
    "max_tile_n_sources = 1\n",
    "tile_cat = full_cat.to_tile_params(tile_slen, max_tile_n_sources)\n",
    "tile_cat['galaxy_bools'].shape"
   ]
  },
  {
   "cell_type": "code",
   "execution_count": 139,
   "id": "af34d5a5",
   "metadata": {
    "ExecuteTime": {
     "end_time": "2022-06-07T02:45:02.606167Z",
     "start_time": "2022-06-07T02:45:02.527970Z"
    },
    "scrolled": false
   },
   "outputs": [],
   "source": [
    "images, centered, uncentered = decoder(full_cat)"
   ]
  },
  {
   "cell_type": "code",
   "execution_count": 140,
   "id": "6813ca05",
   "metadata": {
    "ExecuteTime": {
     "end_time": "2022-06-07T02:45:03.213271Z",
     "start_time": "2022-06-07T02:45:02.984182Z"
    }
   },
   "outputs": [
    {
     "data": {
      "text/plain": [
       "<matplotlib.collections.PathCollection at 0x7f79cc583fd0>"
      ]
     },
     "execution_count": 140,
     "metadata": {},
     "output_type": "execute_result"
    },
    {
     "data": {
      "image/png": "[encoded data removed]",
      "text/plain": [
       "<Figure size 432x288 with 1 Axes>"
      ]
     },
     "metadata": {
      "needs_background": "light"
     },
     "output_type": "display_data"
    }
   ],
   "source": [
    "plocs_numpy = full_cat.plocs.numpy()\n",
    "n_sources = full_cat.n_sources.item()\n",
    "plt.imshow(images[0, 0].numpy())\n",
    "plt.scatter(plocs_numpy[0, :n_sources, 1] + decoder.bp - 0.5, plocs_numpy[0, :n_sources, 0] + decoder.bp - 0.5, marker='x', c='r')"
   ]
  },
  {
   "cell_type": "code",
   "execution_count": 141,
   "id": "63d40d6b",
   "metadata": {
    "ExecuteTime": {
     "end_time": "2022-06-07T02:45:08.255465Z",
     "start_time": "2022-06-07T02:45:08.082109Z"
    }
   },
   "outputs": [
    {
     "data": {
      "image/png": "[encoded data removed]",
      "text/plain": [
       "<Figure size 432x288 with 1 Axes>"
      ]
     },
     "metadata": {
      "needs_background": "light"
     },
     "output_type": "display_data"
    }
   ],
   "source": [
    "# tiles (blue squares)\n",
    "plocs_numpy = full_cat.plocs.numpy()\n",
    "n_sources = full_cat.n_sources.item()\n",
    "plt.imshow(images[0, 0].numpy())\n",
    "plt.scatter(plocs_numpy[0, :n_sources, 1] + decoder.bp - 0.5, plocs_numpy[0, :n_sources, 0] + decoder.bp - 0.5, marker='x', c='r')\n",
    "for x,y in zip(np.arange(0, slen+tile_slen, tile_slen) + bp, np.arange(0, slen+tile_slen, tile_slen) + bp): \n",
    "    plt.axvline(x, c='cyan', alpha=0.5)\n",
    "    plt.axhline(y, c='cyan', alpha=0.5)"
   ]
  },
  {
   "cell_type": "code",
   "execution_count": 142,
   "id": "9674bc58",
   "metadata": {
    "ExecuteTime": {
     "end_time": "2022-06-07T02:45:10.318403Z",
     "start_time": "2022-06-07T02:45:10.262060Z"
    }
   },
   "outputs": [
    {
     "data": {
      "text/plain": [
       "tensor([[[0, 0, 0, 0, 1, 0, 0, 0, 0, 0],\n",
       "         [0, 0, 0, 0, 0, 0, 0, 0, 0, 0],\n",
       "         [0, 0, 0, 0, 0, 0, 0, 0, 0, 0],\n",
       "         [0, 0, 0, 0, 0, 0, 0, 0, 0, 0],\n",
       "         [0, 0, 0, 0, 0, 0, 0, 0, 0, 0],\n",
       "         [0, 0, 0, 0, 0, 0, 0, 0, 0, 0],\n",
       "         [0, 0, 0, 0, 1, 0, 0, 0, 0, 0],\n",
       "         [0, 0, 0, 0, 0, 1, 0, 0, 0, 0],\n",
       "         [0, 0, 0, 0, 0, 0, 0, 0, 0, 0],\n",
       "         [0, 0, 0, 0, 0, 0, 1, 0, 0, 0]]])"
      ]
     },
     "execution_count": 142,
     "metadata": {},
     "output_type": "execute_result"
    }
   ],
   "source": [
    "tile_cat.n_sources # should correspond to above squares"
   ]
  },
  {
   "cell_type": "code",
   "execution_count": 147,
   "id": "a3939ed4",
   "metadata": {
    "ExecuteTime": {
     "end_time": "2022-06-07T02:46:48.404777Z",
     "start_time": "2022-06-07T02:46:48.362273Z"
    }
   },
   "outputs": [
    {
     "data": {
      "text/plain": [
       "tensor([[     0.0000,      0.0000,      0.0000,      0.0000, 303266.7500,\n",
       "              0.0000,      0.0000,      0.0000,      0.0000,      0.0000],\n",
       "        [     0.0000,      0.0000,      0.0000,      0.0000,      0.0000,\n",
       "              0.0000,      0.0000,      0.0000,      0.0000,      0.0000],\n",
       "        [     0.0000,      0.0000,      0.0000,      0.0000,      0.0000,\n",
       "              0.0000,      0.0000,      0.0000,      0.0000,      0.0000],\n",
       "        [     0.0000,      0.0000,      0.0000,      0.0000,      0.0000,\n",
       "              0.0000,      0.0000,      0.0000,      0.0000,      0.0000],\n",
       "        [     0.0000,      0.0000,      0.0000,      0.0000,      0.0000,\n",
       "              0.0000,      0.0000,      0.0000,      0.0000,      0.0000],\n",
       "        [     0.0000,      0.0000,      0.0000,      0.0000,      0.0000,\n",
       "              0.0000,      0.0000,      0.0000,      0.0000,      0.0000],\n",
       "        [     0.0000,      0.0000,      0.0000,      0.0000,   3724.2180,\n",
       "              0.0000,      0.0000,      0.0000,      0.0000,      0.0000],\n",
       "        [     0.0000,      0.0000,      0.0000,      0.0000,      0.0000,\n",
       "           1763.5073,      0.0000,      0.0000,      0.0000,      0.0000],\n",
       "        [     0.0000,      0.0000,      0.0000,      0.0000,      0.0000,\n",
       "              0.0000,      0.0000,      0.0000,      0.0000,      0.0000],\n",
       "        [     0.0000,      0.0000,      0.0000,      0.0000,      0.0000,\n",
       "              0.0000,   1555.0503,      0.0000,      0.0000,      0.0000]])"
      ]
     },
     "execution_count": 147,
     "metadata": {},
     "output_type": "execute_result"
    }
   ],
   "source": [
    "tile_cat['galaxy_params'][0, :, :, 0, 0] # should correspond to above squares"
   ]
  },
  {
   "cell_type": "code",
   "execution_count": 110,
   "id": "fb2514f7",
   "metadata": {
    "ExecuteTime": {
     "end_time": "2022-06-07T02:41:43.242488Z",
     "start_time": "2022-06-07T02:41:43.097212Z"
    }
   },
   "outputs": [
    {
     "data": {
      "text/plain": [
       "<matplotlib.image.AxesImage at 0x7f79cc829b80>"
      ]
     },
     "execution_count": 110,
     "metadata": {},
     "output_type": "execute_result"
    },
    {
     "data": {
      "image/png": "[encoded data removed]",
      "text/plain": [
       "<Figure size 432x288 with 1 Axes>"
      ]
     },
     "metadata": {
      "needs_background": "light"
     },
     "output_type": "display_data"
    }
   ],
   "source": [
    "plt.imshow(centered[0, 2, 0].numpy())"
   ]
  },
  {
   "cell_type": "code",
   "execution_count": 111,
   "id": "6a3ac7e7",
   "metadata": {
    "ExecuteTime": {
     "end_time": "2022-06-07T02:41:43.637864Z",
     "start_time": "2022-06-07T02:41:43.512049Z"
    }
   },
   "outputs": [
    {
     "data": {
      "text/plain": [
       "<matplotlib.image.AxesImage at 0x7f79cc7098b0>"
      ]
     },
     "execution_count": 111,
     "metadata": {},
     "output_type": "execute_result"
    },
    {
     "data": {
      "image/png": "[encoded data removed]",
      "text/plain": [
       "<Figure size 432x288 with 1 Axes>"
      ]
     },
     "metadata": {
      "needs_background": "light"
     },
     "output_type": "display_data"
    }
   ],
   "source": [
    "plt.imshow(uncentered[0, 2, 0].numpy())"
   ]
  },
  {
   "cell_type": "code",
   "execution_count": 151,
   "id": "2ce0c3e8",
   "metadata": {
    "ExecuteTime": {
     "end_time": "2022-06-07T02:50:03.363811Z",
     "start_time": "2022-06-07T02:50:03.327676Z"
    }
   },
   "outputs": [],
   "source": [
    "# now dataset \n",
    "from bliss.datasets.galsim_galaxies import GalsimBlends\n",
    "from bliss.datasets.background import ConstantBackground\n",
    "background = ConstantBackground((860.,))\n",
    "ds = GalsimBlends(prior, decoder, background, tile_slen, max_tile_n_sources, num_workers=0, batch_size=5, n_batches=2)"
   ]
  },
  {
   "cell_type": "code",
   "execution_count": 152,
   "id": "13b462d9",
   "metadata": {
    "ExecuteTime": {
     "end_time": "2022-06-07T02:50:04.236264Z",
     "start_time": "2022-06-07T02:50:04.150603Z"
    }
   },
   "outputs": [
    {
     "name": "stdout",
     "output_type": "stream",
     "text": [
      "torch.Size([10, 10, 1, 1])\n",
      "torch.Size([10, 10])\n"
     ]
    }
   ],
   "source": [
    "# get one sample from dataset\n",
    "print(ds[0]['galaxy_bools'].shape)\n",
    "print(ds[0]['n_sources'].shape)"
   ]
  },
  {
   "cell_type": "code",
   "execution_count": 158,
   "id": "6129076d",
   "metadata": {
    "ExecuteTime": {
     "end_time": "2022-06-07T02:51:04.928679Z",
     "start_time": "2022-06-07T02:51:04.369043Z"
    }
   },
   "outputs": [
    {
     "name": "stdout",
     "output_type": "stream",
     "text": [
      "torch.Size([5, 10, 10])\n",
      "torch.Size([5, 1, 64, 64])\n",
      "\n",
      "torch.Size([5, 10, 10])\n",
      "torch.Size([5, 1, 64, 64])\n",
      "\n"
     ]
    },
    {
     "data": {
      "image/png": "[encoded data removed]",
      "text/plain": [
       "<Figure size 432x288 with 1 Axes>"
      ]
     },
     "metadata": {
      "needs_background": "light"
     },
     "output_type": "display_data"
    },
    {
     "data": {
      "image/png": "[encoded data removed]",
      "text/plain": [
       "<Figure size 432x288 with 1 Axes>"
      ]
     },
     "metadata": {
      "needs_background": "light"
     },
     "output_type": "display_data"
    }
   ],
   "source": [
    "# now a batch \n",
    "for x in ds.train_dataloader():\n",
    "    print(x['n_sources'].shape)\n",
    "    print(x['images'].shape)\n",
    "    print()\n",
    "    plt.figure()\n",
    "    plt.imshow(x['images'][0, 0].numpy())"
   ]
  },
  {
   "cell_type": "code",
   "execution_count": null,
   "id": "463e8cb9",
   "metadata": {},
   "outputs": [],
   "source": []
  }
 ],
 "metadata": {
  "kernelspec": {
   "display_name": "Python 3 (ipykernel)",
   "language": "python",
   "name": "python3"
  },
  "language_info": {
   "codemirror_mode": {
    "name": "ipython",
    "version": 3
   },
   "file_extension": ".py",
   "mimetype": "text/x-python",
   "name": "python",
   "nbconvert_exporter": "python",
   "pygments_lexer": "ipython3",
   "version": "3.8.10"
  },
  "toc": {
   "base_numbering": 1,
   "nav_menu": {},
   "number_sections": true,
   "sideBar": true,
   "skip_h1_title": false,
   "title_cell": "Table of Contents",
   "title_sidebar": "Contents",
   "toc_cell": false,
   "toc_position": {
    "height": "calc(100% - 180px)",
    "left": "10px",
    "top": "150px",
    "width": "165px"
   },
   "toc_section_display": true,
   "toc_window_display": false
  }
 },
 "nbformat": 4,
 "nbformat_minor": 5
}

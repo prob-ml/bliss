{
 "cells": [
  {
   "cell_type": "code",
   "execution_count": null,
   "id": "ddaa8aff",
   "metadata": {},
   "outputs": [],
   "source": [
    "import hydra\n",
    "import torch\n",
    "from bliss.encoder import Encoder\n",
    "from hydra import compose, initialize\n",
    "from hydra.utils import instantiate"
   ]
  },
  {
   "cell_type": "code",
   "execution_count": null,
   "id": "6f422c71",
   "metadata": {},
   "outputs": [],
   "source": [
    "# GPU to be used\n",
    "device = torch.device('cuda:0')"
   ]
  },
  {
   "cell_type": "code",
   "execution_count": null,
   "id": "d364a79e",
   "metadata": {},
   "outputs": [],
   "source": [
    "# config file containing parameters of models to run\n",
    "with initialize(config_path=\"../../sdss_galaxies/config\"):\n",
    "    cfg = compose(\"config\", overrides=[])"
   ]
  },
  {
   "cell_type": "code",
   "execution_count": null,
   "id": "b083db44",
   "metadata": {},
   "outputs": [],
   "source": [
    "# example cfg (hydra+OmegaConf, see: https://hydra.cc/)\n",
    "import omegaconf\n",
    "omegaconf.OmegaConf.to_container(cfg.models.detection_encoder)"
   ]
  },
  {
   "cell_type": "code",
   "execution_count": null,
   "id": "df647ec2",
   "metadata": {},
   "outputs": [],
   "source": [
    "# load inference model\n",
    "location = instantiate(cfg.models.detection_encoder).to(device).eval()\n",
    "location.load_state_dict(\n",
    "    torch.load(cfg.plots.location_checkpoint, map_location=location.device)\n",
    ")\n",
    "\n",
    "binary = instantiate(cfg.models.binary).to(device).eval()\n",
    "binary.load_state_dict(torch.load(cfg.plots.binary_checkpoint, map_location=device))\n",
    "\n",
    "galaxy = instantiate(cfg.models.galaxy_encoder).to(device).eval()\n",
    "galaxy.load_state_dict(torch.load(cfg.plots.galaxy_checkpoint, map_location=device))\n",
    "\n",
    "encoder = Encoder(\n",
    "    location.eval(),\n",
    "    binary.eval(),\n",
    "    galaxy.eval(),\n",
    "    n_images_per_batch=10,\n",
    "    n_rows_per_batch=15,\n",
    ")\n",
    "encoder = encoder.to(device)"
   ]
  },
  {
   "cell_type": "code",
   "execution_count": null,
   "id": "50c92a35",
   "metadata": {},
   "outputs": [],
   "source": [
    "# load decode rmodel \n",
    "decoder = instantiate(cfg.models.decoder).to(device).eval()"
   ]
  },
  {
   "cell_type": "code",
   "execution_count": null,
   "id": "65850a01",
   "metadata": {},
   "outputs": [],
   "source": [
    "# load images\n",
    "images = torch.load('../../sdss_galaxies/.pt')\n",
    "images.shape # (batch_size, 1, image_size, image_size)"
   ]
  },
  {
   "cell_type": "code",
   "execution_count": null,
   "id": "ad45e1b6",
   "metadata": {},
   "outputs": [],
   "source": [
    "# obtain prediction (variational mode) per tile\n",
    "tile_est = encoder.variational_mode(images, background)"
   ]
  },
  {
   "cell_type": "code",
   "execution_count": null,
   "id": "2e954961",
   "metadata": {},
   "outputs": [],
   "source": [
    "# examine shapes of locs in tile_est, these are normalized [0,1]x[0,1] on tile\n"
   ]
  },
  {
   "cell_type": "code",
   "execution_count": null,
   "id": "8a70a874",
   "metadata": {},
   "outputs": [],
   "source": [
    "# per tile catalogs can easy be converted to full catalog on images \n"
   ]
  },
  {
   "cell_type": "code",
   "execution_count": null,
   "id": "e09052f0",
   "metadata": {},
   "outputs": [],
   "source": [
    "# plot locations on true image from predicted catlaog\n"
   ]
  },
  {
   "cell_type": "code",
   "execution_count": null,
   "id": "7b09ac1c",
   "metadata": {},
   "outputs": [],
   "source": [
    "# plot reconstruction\n"
   ]
  },
  {
   "cell_type": "code",
   "execution_count": null,
   "id": "227c5874",
   "metadata": {},
   "outputs": [],
   "source": [
    "# NOTE: Samples can be drawn from variational distribution too instead of using\n",
    "# variational distribution\n"
   ]
  }
 ],
 "metadata": {
  "kernelspec": {
   "display_name": "Python 3 (ipykernel)",
   "language": "python",
   "name": "python3"
  },
  "language_info": {
   "codemirror_mode": {
    "name": "ipython",
    "version": 3
   },
   "file_extension": ".py",
   "mimetype": "text/x-python",
   "name": "python",
   "nbconvert_exporter": "python",
   "pygments_lexer": "ipython3",
   "version": "3.8.10"
  },
  "toc": {
   "base_numbering": 1,
   "nav_menu": {},
   "number_sections": true,
   "sideBar": true,
   "skip_h1_title": false,
   "title_cell": "Table of Contents",
   "title_sidebar": "Contents",
   "toc_cell": false,
   "toc_position": {},
   "toc_section_display": true,
   "toc_window_display": true
  }
 },
 "nbformat": 4,
 "nbformat_minor": 5
}

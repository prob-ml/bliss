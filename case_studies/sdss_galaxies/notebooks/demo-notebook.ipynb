{
 "cells": [
  {
   "cell_type": "code",
   "execution_count": null,
   "id": "83793771",
   "metadata": {},
   "outputs": [],
   "source": [
    "%matplotlib inline"
   ]
  },
  {
   "cell_type": "code",
   "execution_count": null,
   "id": "be9bbd96",
   "metadata": {},
   "outputs": [],
   "source": [
    "%load_ext autoreload\n",
    "%autoreload 2\n",
    "%aimport"
   ]
  },
  {
   "cell_type": "code",
   "execution_count": null,
   "id": "cdfd8d76",
   "metadata": {},
   "outputs": [],
   "source": [
    "# utility function for colorbar \n",
    "from mpl_toolkits.axes_grid1 import make_axes_locatable\n",
    "def add_colorbar(fig, ax, im):\n",
    "    divider = make_axes_locatable(ax)\n",
    "    cax = divider.append_axes('right', size='5%', pad=0.05)\n",
    "    fig.colorbar(im, cax=cax, orientation='vertical')"
   ]
  },
  {
   "cell_type": "markdown",
   "id": "e5768f37",
   "metadata": {},
   "source": [
    "# Setup"
   ]
  },
  {
   "cell_type": "code",
   "execution_count": null,
   "id": "ddaa8aff",
   "metadata": {},
   "outputs": [],
   "source": [
    "import hydra\n",
    "import torch\n",
    "import matplotlib.pyplot as plt\n",
    "from bliss.encoder import Encoder\n",
    "from hydra import compose, initialize\n",
    "from hydra.utils import instantiate"
   ]
  },
  {
   "cell_type": "code",
   "execution_count": null,
   "id": "6f422c71",
   "metadata": {},
   "outputs": [],
   "source": [
    "# GPU to be used (first one available)\n",
    "device = torch.device('cuda:0')"
   ]
  },
  {
   "cell_type": "code",
   "execution_count": null,
   "id": "d364a79e",
   "metadata": {},
   "outputs": [],
   "source": [
    "# config file containing parameters of models to run\n",
    "with initialize(config_path=\"../../sdss_galaxies/config\"):\n",
    "    cfg = compose(\"config\", overrides=[])"
   ]
  },
  {
   "cell_type": "code",
   "execution_count": null,
   "id": "8464db80",
   "metadata": {},
   "outputs": [],
   "source": [
    "# example cfg (hydra+OmegaConf, see: https://hydra.cc/ and https://omegaconf.readthedocs.io)\n",
    "\n",
    "# model config\n",
    "import omegaconf\n",
    "omegaconf.OmegaConf.to_container(cfg.models.detection_encoder)"
   ]
  },
  {
   "cell_type": "code",
   "execution_count": null,
   "id": "28570e3b",
   "metadata": {},
   "outputs": [],
   "source": [
    "# dataset config\n",
    "omegaconf.OmegaConf.to_container(cfg.datasets.galsim_blends)"
   ]
  },
  {
   "cell_type": "markdown",
   "id": "42012811",
   "metadata": {},
   "source": [
    "# Create example images"
   ]
  },
  {
   "cell_type": "code",
   "execution_count": null,
   "id": "323e89fa",
   "metadata": {},
   "outputs": [],
   "source": [
    "# will pick only bright galaxies for this demo \n",
    "# also ensure every image has enough sources\n",
    "cfg.datasets.galsim_blends.prior.mean_sources = 4\n",
    "cfg.datasets.galsim_blends.prior.single_galaxy_prior.min_flux = 1e4\n",
    "cfg.datasets.galsim_blends.prior.galaxy_prob = 1.0\n",
    "dataset = instantiate(cfg.datasets.galsim_blends)"
   ]
  },
  {
   "cell_type": "code",
   "execution_count": null,
   "id": "e5c11be6",
   "metadata": {},
   "outputs": [],
   "source": [
    "batch = next(iter(dataset.train_dataloader()))"
   ]
  },
  {
   "cell_type": "code",
   "execution_count": null,
   "id": "95e3c703",
   "metadata": {},
   "outputs": [],
   "source": [
    "# batch size = 32\n",
    "print(batch['images'].shape)\n",
    "print(batch['images'].device)"
   ]
  },
  {
   "cell_type": "code",
   "execution_count": null,
   "id": "db0a452b",
   "metadata": {},
   "outputs": [],
   "source": [
    "# other keys\n",
    "batch.keys()"
   ]
  },
  {
   "cell_type": "code",
   "execution_count": null,
   "id": "f2e53688",
   "metadata": {},
   "outputs": [],
   "source": [
    "# source parameters are 'per-tile'\n",
    "# 10x10 total tiles\n",
    "print(batch['n_sources'].shape) # number of sources per tile\n",
    "print(batch['locs'].shape) #normalized locations per tile \n",
    "print(batch['galaxy_params'].shape) # galaxy latent variables"
   ]
  },
  {
   "cell_type": "code",
   "execution_count": null,
   "id": "a4c5cd44",
   "metadata": {},
   "outputs": [],
   "source": [
    "# convert to 'per-image'\n",
    "# bliss contains a specific 'tile' catalog and 'full' catalog object to aid this process\n",
    "# tiles are 4x4 pixels\n",
    "from bliss.catalog import TileCatalog, FullCatalog\n",
    "tile_params_dict = {k:v for k,v in batch.items() if k not in {'images', 'background'}}\n",
    "tile_catalog = TileCatalog(4, tile_params_dict) # tile_slen, n_tiles_w, n_tiles_h, dict of parars\n",
    "truth = tile_catalog.to_full_params() # truth full catalog"
   ]
  },
  {
   "cell_type": "code",
   "execution_count": null,
   "id": "ef74e262",
   "metadata": {},
   "outputs": [],
   "source": [
    "truth.plocs.shape # pixel locations (batch_size, max_n_sources, 2)"
   ]
  },
  {
   "cell_type": "code",
   "execution_count": null,
   "id": "57292585",
   "metadata": {},
   "outputs": [],
   "source": [
    "# example image with true locations plotted\n",
    "xpeak, ypeak = truth.plocs[1, :, 1] + 24 - 0.5, truth.plocs[1, :, 0] + 24 - 0.5 # 24 = border padding, # 24 = border padding, 0.5 is matplotlib\n",
    "xpeak,ypeak = xpeak.cpu().numpy(), ypeak.cpu().numpy()\n",
    "plt.scatter(xpeak, ypeak, color='r', marker='x')\n",
    "plt.imshow(batch['images'][1,0], interpolation=None, vmin=600, vmax=1500)\n",
    "plt.colorbar()"
   ]
  },
  {
   "cell_type": "markdown",
   "id": "8000bc93",
   "metadata": {},
   "source": [
    "# Load models"
   ]
  },
  {
   "cell_type": "code",
   "execution_count": null,
   "id": "df647ec2",
   "metadata": {},
   "outputs": [],
   "source": [
    "# load encoders with (pre-trained) neural network weights\n",
    "\n",
    "# detection encoder\n",
    "location = instantiate(cfg.models.detection_encoder).to(device).eval()\n",
    "location.load_state_dict(\n",
    "    torch.load(cfg.plots.location_checkpoint, map_location=location.device)\n",
    ")\n",
    "\n",
    "# classification encoder\n",
    "binary = instantiate(cfg.models.binary).to(device).eval()\n",
    "binary.load_state_dict(torch.load(cfg.plots.binary_checkpoint, map_location=device))\n",
    "\n",
    "# blended galaxy encoder\n",
    "galaxy = instantiate(cfg.models.galaxy_encoder).to(device).eval()\n",
    "galaxy.load_state_dict(torch.load(cfg.plots.galaxy_checkpoint, map_location=device))\n",
    "\n",
    "# bliss has a nice class that puts all of them together for ease-of-use\n",
    "encoder = Encoder(\n",
    "    location.eval(),\n",
    "    binary.eval(),\n",
    "    galaxy.eval(),\n",
    "    n_images_per_batch=10,\n",
    "    n_rows_per_batch=15,\n",
    ")\n",
    "encoder = encoder.to(device)"
   ]
  },
  {
   "cell_type": "code",
   "execution_count": null,
   "id": "50c92a35",
   "metadata": {},
   "outputs": [],
   "source": [
    "# load decoder model for reconstruction\n",
    "decoder = instantiate(cfg.models.decoder).to(device).eval()"
   ]
  },
  {
   "cell_type": "code",
   "execution_count": null,
   "id": "8b7c6956",
   "metadata": {},
   "outputs": [],
   "source": [
    "# prepare background estimate that needs to be fed in separately\n",
    "background_obj = instantiate(cfg.datasets.galsim_blends.background)\n",
    "background = background_obj.sample(batch['images'].shape)"
   ]
  },
  {
   "cell_type": "code",
   "execution_count": null,
   "id": "ad45e1b6",
   "metadata": {},
   "outputs": [],
   "source": [
    "# obtain prediction (variational mode) per tile on the images we produced from generative model\n",
    "tile_est = encoder.variational_mode(batch['images'], background)"
   ]
  },
  {
   "cell_type": "code",
   "execution_count": null,
   "id": "a25bf4b8",
   "metadata": {},
   "outputs": [],
   "source": [
    "# check it is (per-tile)\n",
    "tile_est['galaxy_params'].shape"
   ]
  },
  {
   "cell_type": "code",
   "execution_count": null,
   "id": "8a70a874",
   "metadata": {},
   "outputs": [],
   "source": [
    "# per tile catalogs can easy be converted to full catalog on images \n",
    "pred = tile_est.to_full_params() # predicted full catalog"
   ]
  },
  {
   "cell_type": "code",
   "execution_count": null,
   "id": "e09052f0",
   "metadata": {},
   "outputs": [],
   "source": [
    "# plot truth and estimated locations\n",
    "xpeak1, ypeak1 = truth.plocs[1, :, 1] + 24 - 0.5, truth.plocs[1, :, 0] + 24 - 0.5 # 24 = border padding\n",
    "xpeak1,ypeak1 = xpeak1.cpu().numpy(), ypeak1.cpu().numpy()\n",
    "\n",
    "xpeak2, ypeak2 = pred.plocs[1, :, 1] + 24 - 0.5, pred.plocs[1, :, 0] + 24 - 0.5 # 24 = border padding, 0.5 is matplotlib\n",
    "xpeak2,ypeak2 = xpeak2.cpu().numpy(), ypeak2.cpu().numpy()\n",
    "plt.scatter(xpeak1, ypeak1, color='r', marker='x')\n",
    "plt.scatter(xpeak2, ypeak2, color='b', marker='+')\n",
    "\n",
    "plt.imshow(batch['images'][1,0], interpolation=None, vmin=600, vmax=1500)\n",
    "plt.colorbar()"
   ]
  },
  {
   "cell_type": "code",
   "execution_count": null,
   "id": "7b09ac1c",
   "metadata": {},
   "outputs": [],
   "source": [
    "# plot true image and (noiseless) reconstruction side by side\n",
    "# decoder is per-tile so takes as input 'predicted tile catalog'\n",
    "image = batch['images'][1,0]\n",
    "recon = decoder.render_images(tile_est)[1,0].detach().cpu().numpy() + background[1,0].numpy()\n",
    "fig, (ax1, ax2, ax3) = plt.subplots(1, 3, figsize=(15, 7))\n",
    "im1 = ax1.imshow(image, interpolation=None, vmin=600, vmax=1500)\n",
    "im2 = ax2.imshow(recon, interpolation=None, vmin=600, vmax=1500)\n",
    "im3 = ax3.imshow((image - recon)/np.sqrt(recon), interpolation=None)\n",
    "\n",
    "\n",
    "ax1.set_title('truth image')\n",
    "ax2.set_title('reconstruction')\n",
    "ax3.set_title('Residual (normalized by std)')\n",
    "add_colorbar(fig, ax1, im1)\n",
    "add_colorbar(fig, ax2, im2)\n",
    "add_colorbar(fig, ax3, im3)\n",
    "plt.tight_layout()"
   ]
  },
  {
   "cell_type": "code",
   "execution_count": null,
   "id": "227c5874",
   "metadata": {},
   "outputs": [],
   "source": [
    "# NOTE: Samples can be drawn from variational distribution too instead of using\n",
    "# variational distribution\n",
    "# left for later tutorial :-)"
   ]
  }
 ],
 "metadata": {
  "kernelspec": {
   "display_name": "Python 3 (ipykernel)",
   "language": "python",
   "name": "python3"
  },
  "language_info": {
   "codemirror_mode": {
    "name": "ipython",
    "version": 3
   },
   "file_extension": ".py",
   "mimetype": "text/x-python",
   "name": "python",
   "nbconvert_exporter": "python",
   "pygments_lexer": "ipython3",
   "version": "3.8.10"
  },
  "toc": {
   "base_numbering": 1,
   "nav_menu": {},
   "number_sections": true,
   "sideBar": true,
   "skip_h1_title": false,
   "title_cell": "Table of Contents",
   "title_sidebar": "Contents",
   "toc_cell": false,
   "toc_position": {
    "height": "calc(100% - 180px)",
    "left": "10px",
    "top": "150px",
    "width": "165px"
   },
   "toc_section_display": true,
   "toc_window_display": true
  }
 },
 "nbformat": 4,
 "nbformat_minor": 5
}

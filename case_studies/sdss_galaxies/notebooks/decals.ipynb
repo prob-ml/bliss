{
 "cells": [
  {
   "cell_type": "code",
   "execution_count": null,
   "id": "29584633",
   "metadata": {},
   "outputs": [],
   "source": [
    "%load_ext autoreload\n",
    "%autoreload 2\n",
    "%aimport"
   ]
  },
  {
   "cell_type": "code",
   "execution_count": null,
   "id": "825d5441",
   "metadata": {},
   "outputs": [],
   "source": [
    "%matplotlib inline "
   ]
  },
  {
   "cell_type": "code",
   "execution_count": null,
   "id": "57e0b216",
   "metadata": {},
   "outputs": [],
   "source": [
    "import bliss\n",
    "import torch\n",
    "import matplotlib.pyplot as plt"
   ]
  },
  {
   "cell_type": "code",
   "execution_count": null,
   "id": "bb26010b",
   "metadata": {},
   "outputs": [],
   "source": [
    "# check GPU is configured correctly\n",
    "device = torch.device('cuda:0')\n",
    "!echo $CUDA_VISIBLE_DEVICES"
   ]
  },
  {
   "cell_type": "markdown",
   "id": "3a50331c",
   "metadata": {},
   "source": [
    "# Scratch"
   ]
  },
  {
   "cell_type": "code",
   "execution_count": null,
   "id": "2b839163",
   "metadata": {},
   "outputs": [],
   "source": [
    "from astropy.table import Table\n",
    "t = Table.read(\"../../../../data/sweep-330m005-340p000.fits\")"
   ]
  },
  {
   "cell_type": "code",
   "execution_count": null,
   "id": "daca8f88",
   "metadata": {},
   "outputs": [],
   "source": [
    "t['TYPE'][0] == \"REX\""
   ]
  },
  {
   "cell_type": "code",
   "execution_count": null,
   "id": "f8be10c0",
   "metadata": {},
   "outputs": [],
   "source": [
    "c = t['TYPE']"
   ]
  },
  {
   "cell_type": "code",
   "execution_count": null,
   "id": "b85d5222",
   "metadata": {},
   "outputs": [],
   "source": [
    "c.data"
   ]
  },
  {
   "cell_type": "code",
   "execution_count": null,
   "id": "e549941a",
   "metadata": {},
   "outputs": [],
   "source": [
    "r = np.array(t['RA'])\n",
    "d = np.array(t['DEC'])\n",
    "mag_r = 22.5 - 2.5 * np.log10(np.array(t['FLUX_R']) )"
   ]
  },
  {
   "cell_type": "code",
   "execution_count": null,
   "id": "415c6168",
   "metadata": {},
   "outputs": [],
   "source": [
    "keep = (r > 336.5825) & (r < 336.7461) & (d > -1.044) & (d < -0.8189) & (mag_r < 23.0) & ~np.isnan(mag_r)"
   ]
  },
  {
   "cell_type": "code",
   "execution_count": null,
   "id": "98db4ac5",
   "metadata": {},
   "outputs": [],
   "source": [
    "cat = t[keep]"
   ]
  },
  {
   "cell_type": "code",
   "execution_count": null,
   "id": "d0e86ec4",
   "metadata": {},
   "outputs": [],
   "source": [
    "cat['BRICKNAME']"
   ]
  },
  {
   "cell_type": "code",
   "execution_count": null,
   "id": "c4fa2202",
   "metadata": {},
   "outputs": [],
   "source": [
    "import torch\n",
    "objc_type = t[\"TYPE\"].data.astype(str)\n",
    "is_galaxy = torch.from_numpy(\n",
    "    (objc_type == \"DEV\")\n",
    "    | (objc_type == \"REX\")\n",
    "    | (objc_type == \"EXP\")\n",
    "    | (objc_type == \"SER\")\n",
    ")"
   ]
  },
  {
   "cell_type": "code",
   "execution_count": null,
   "id": "79c7de47",
   "metadata": {},
   "outputs": [],
   "source": [
    "is_galaxy"
   ]
  },
  {
   "cell_type": "markdown",
   "id": "22c1a5aa",
   "metadata": {},
   "source": [
    "# PHOTO "
   ]
  },
  {
   "cell_type": "code",
   "execution_count": null,
   "id": "0dab5632",
   "metadata": {},
   "outputs": [],
   "source": [
    "from bliss.catalog import PhotoFullCatalog\n",
    "photo_cat = PhotoFullCatalog.from_file(\"../../../../data/sdss/\", 94, 1, 12, 2)"
   ]
  },
  {
   "cell_type": "code",
   "execution_count": null,
   "id": "c553464f",
   "metadata": {},
   "outputs": [],
   "source": [
    "mags = photo_cat['mags'].reshape(-1)\n",
    "keep = mags < 17\n",
    "ra1, dec1 = photo_cat['ra'].reshape(-1)[keep], photo_cat['dec'].reshape(-1)[keep]\n",
    "np.sort(ra1)"
   ]
  },
  {
   "cell_type": "code",
   "execution_count": null,
   "id": "501219d2",
   "metadata": {},
   "outputs": [],
   "source": [
    "photo_cat['mags'].min()"
   ]
  },
  {
   "cell_type": "code",
   "execution_count": null,
   "id": "f9241d76",
   "metadata": {},
   "outputs": [],
   "source": [
    "plocs = photo_cat.plocs - 0.5\n",
    "plt.figure(figsize=(20,20))\n",
    "plt.imshow(frame.image[0, 0], vmin=700, vmax=1000)\n",
    "plt.scatter(plocs[0, :, 1].numpy(), plocs[0, :, 0].numpy(), marker='x', color='r', s=21)"
   ]
  },
  {
   "cell_type": "markdown",
   "id": "ed947541",
   "metadata": {},
   "source": [
    "# COADD"
   ]
  },
  {
   "cell_type": "code",
   "execution_count": null,
   "id": "f9fff833",
   "metadata": {},
   "outputs": [],
   "source": []
  },
  {
   "cell_type": "code",
   "execution_count": null,
   "id": "e506c574",
   "metadata": {},
   "outputs": [],
   "source": [
    "# load models\n",
    "from hydra import compose, initialize\n",
    "from hydra.utils import instantiate\n",
    "from bliss.encoder import Encoder\n",
    "\n",
    "with initialize(config_path=\"../../config\"):\n",
    "    cfg = compose(\"config\", overrides=[])\n",
    "    \n",
    "bp = 24\n",
    "frame = instantiate(cfg.plots.frame, cat_type='coadd')\n",
    "h_topleft = bp\n",
    "w_topleft = bp\n",
    "h_end = ((frame.image.shape[2] - 2 * bp) // 4) * 4 + bp\n",
    "w_end = ((frame.image.shape[3] - 2 * bp) // 4) * 4 + bp\n",
    "coadd = frame.get_catalog((h_topleft, h_end), (w_topleft, w_end))\n",
    "coadd.plocs.shape"
   ]
  },
  {
   "cell_type": "code",
   "execution_count": null,
   "id": "1f0547e8",
   "metadata": {},
   "outputs": [],
   "source": [
    "coadd.plocs = coadd.plocs + 24 - 0.5\n",
    "plt.figure(figsize=(20,20))\n",
    "plt.imshow(frame.image[0, 0], vmin=700, vmax=1000)\n",
    "plt.scatter(coadd.plocs[0, :, 1].numpy(), coadd.plocs[0, :, 0].numpy(), marker='x', color='r', s=21)"
   ]
  },
  {
   "cell_type": "code",
   "execution_count": null,
   "id": "b82ed240",
   "metadata": {},
   "outputs": [],
   "source": [
    "frame.wcs.all_pix2world(, , 0)"
   ]
  },
  {
   "cell_type": "markdown",
   "id": "5f144651",
   "metadata": {},
   "source": [
    "# Decals"
   ]
  },
  {
   "cell_type": "code",
   "execution_count": null,
   "id": "cd79e970",
   "metadata": {},
   "outputs": [],
   "source": [
    "# load models\n",
    "from hydra import compose, initialize\n",
    "from hydra.utils import instantiate\n",
    "from bliss.encoder import Encoder\n",
    "\n",
    "with initialize(config_path=\"../../config\"):\n",
    "    cfg = compose(\"config\", overrides=[])"
   ]
  },
  {
   "cell_type": "code",
   "execution_count": null,
   "id": "01df7e50",
   "metadata": {},
   "outputs": [],
   "source": [
    "#ra_lim = (336.5825, 336.7461)\n",
    "#dec_lim = (-1.044, -0.8189)\n",
    "\n",
    "bp = 24\n",
    "frame = instantiate(cfg.plots.frame, cat_type='decals', cat_file=\"../../../../data/sweep-330m005-340p000.fits\")\n",
    "h_topleft = bp\n",
    "w_topleft = bp\n",
    "h_end = ((frame.image.shape[2] - 2 * bp) // 4) * 4 + bp\n",
    "w_end = ((frame.image.shape[3] - 2 * bp) // 4) * 4 + bp\n",
    "hlim = (h_topleft, h_end)\n",
    "wlim = (w_topleft, w_end)\n",
    "\n",
    "decals_cat = frame.get_catalog(hlim, wlim)\n",
    "decals = decals_cat.apply_mag_bin(-np.inf, 23)\n",
    "decals.n_sources"
   ]
  },
  {
   "cell_type": "code",
   "execution_count": null,
   "id": "1a84b5ee",
   "metadata": {},
   "outputs": [],
   "source": []
  },
  {
   "cell_type": "code",
   "execution_count": null,
   "id": "cddb5be9",
   "metadata": {},
   "outputs": [],
   "source": [
    "plocs = decals.plocs - 0.5\n",
    "plt.figure(figsize=(20,20))\n",
    "plt.imshow(frame.image[0, 0], vmin=700, vmax=1000)\n",
    "plt.scatter(plocs[0, :, 1].numpy(), plocs[0, :, 0].numpy(), marker='x', color='r', s=21)"
   ]
  },
  {
   "cell_type": "code",
   "execution_count": null,
   "id": "47223f4d",
   "metadata": {},
   "outputs": [],
   "source": [
    "coad.plocs.shape"
   ]
  },
  {
   "cell_type": "code",
   "execution_count": null,
   "id": "27491982",
   "metadata": {},
   "outputs": [],
   "source": [
    "torch.sum(decals['galaxy_bools'])"
   ]
  },
  {
   "cell_type": "code",
   "execution_count": null,
   "id": "f55419ab",
   "metadata": {},
   "outputs": [],
   "source": [
    "torch.sum(decals['star_bools'])"
   ]
  },
  {
   "cell_type": "code",
   "execution_count": null,
   "id": "aab59949",
   "metadata": {},
   "outputs": [],
   "source": [
    "decals.plocs[0, :, 0].max(), decals.plocs[0, :, 1].max()"
   ]
  },
  {
   "cell_type": "code",
   "execution_count": null,
   "id": "95f6b20d",
   "metadata": {},
   "outputs": [],
   "source": [
    "decals.height"
   ]
  },
  {
   "cell_type": "code",
   "execution_count": null,
   "id": "24280fcf",
   "metadata": {},
   "outputs": [],
   "source": [
    "frame.image.shape"
   ]
  },
  {
   "cell_type": "markdown",
   "id": "fb5e42a2",
   "metadata": {},
   "source": [
    "## bitwise mask"
   ]
  },
  {
   "cell_type": "code",
   "execution_count": null,
   "id": "79436cfa",
   "metadata": {},
   "outputs": [],
   "source": [
    "from astropy.table import Table\n",
    "t = Table.read(\"../../../../data/sweep-330m005-340p000.fits\")\n",
    "t = t[10:1000]\n",
    "b = np.array(t['MASKBITS'])"
   ]
  },
  {
   "cell_type": "code",
   "execution_count": null,
   "id": "1ea9a0d7",
   "metadata": {},
   "outputs": [],
   "source": [
    "np.uint?"
   ]
  },
  {
   "cell_type": "code",
   "execution_count": null,
   "id": "c88e56d0",
   "metadata": {},
   "outputs": [],
   "source": [
    "bin(2048)"
   ]
  },
  {
   "cell_type": "code",
   "execution_count": null,
   "id": "e6ee84ca",
   "metadata": {},
   "outputs": [],
   "source": [
    "bin(0b1110 & 0b100000101)"
   ]
  },
  {
   "cell_type": "code",
   "execution_count": null,
   "id": "6147070b",
   "metadata": {},
   "outputs": [],
   "source": [
    "import"
   ]
  },
  {
   "cell_type": "markdown",
   "id": "b0584cff",
   "metadata": {},
   "source": [
    "# BLISS"
   ]
  },
  {
   "cell_type": "code",
   "execution_count": null,
   "id": "52fc8d90",
   "metadata": {},
   "outputs": [],
   "source": [
    "import matplotlib.pyplot as plt\n",
    "import torch\n",
    "\n",
    "from bliss.inference import SDSSFrame\n",
    "from bliss.datasets import sdss\n",
    "from bliss.inference import reconstruct_scene_at_coordinates\n",
    "from case_studies.sdss_galaxies.plots.main import load_models\n",
    "\n",
    "\n",
    "from astropy.table import Table\n",
    "\n",
    "import plotly.express as px\n",
    "import plotly.graph_objects as go"
   ]
  },
  {
   "cell_type": "code",
   "execution_count": null,
   "id": "388845ae",
   "metadata": {},
   "outputs": [],
   "source": [
    "# load models\n",
    "from hydra import compose, initialize\n",
    "from hydra.utils import instantiate\n",
    "from bliss.encoder import Encoder\n",
    "\n",
    "with initialize(config_path=\"../../config\"):\n",
    "    cfg = compose(\"config\", overrides=[])\n",
    "    \n",
    "    \n",
    "enc, dec = load_models(cfg, device)\n",
    "bp = enc.border_padding\n",
    "torch.cuda.empty_cache()"
   ]
  },
  {
   "cell_type": "code",
   "execution_count": null,
   "id": "e1fc2447",
   "metadata": {},
   "outputs": [],
   "source": []
  }
 ],
 "metadata": {
  "kernelspec": {
   "display_name": "Python 3 (ipykernel)",
   "language": "python",
   "name": "python3"
  },
  "language_info": {
   "codemirror_mode": {
    "name": "ipython",
    "version": 3
   },
   "file_extension": ".py",
   "mimetype": "text/x-python",
   "name": "python",
   "nbconvert_exporter": "python",
   "pygments_lexer": "ipython3",
   "version": "3.8.10"
  },
  "toc": {
   "base_numbering": 1,
   "nav_menu": {},
   "number_sections": true,
   "sideBar": true,
   "skip_h1_title": false,
   "title_cell": "Table of Contents",
   "title_sidebar": "Contents",
   "toc_cell": false,
   "toc_position": {
    "height": "calc(100% - 180px)",
    "left": "10px",
    "top": "150px",
    "width": "165px"
   },
   "toc_section_display": true,
   "toc_window_display": true
  }
 },
 "nbformat": 4,
 "nbformat_minor": 5
}

{
 "cells": [
  {
   "cell_type": "code",
   "execution_count": 1,
   "id": "73591771",
   "metadata": {
    "ExecuteTime": {
     "end_time": "2022-03-30T13:07:09.376546Z",
     "start_time": "2022-03-30T13:07:09.351052Z"
    }
   },
   "outputs": [
    {
     "name": "stdout",
     "output_type": "stream",
     "text": [
      "Modules to reload:\n",
      "all-except-skipped\n",
      "\n",
      "Modules to skip:\n",
      "\n"
     ]
    }
   ],
   "source": [
    "%load_ext autoreload\n",
    "%autoreload 2\n",
    "%aimport"
   ]
  },
  {
   "cell_type": "code",
   "execution_count": 2,
   "id": "25a594a4",
   "metadata": {
    "ExecuteTime": {
     "end_time": "2022-03-30T13:07:10.069112Z",
     "start_time": "2022-03-30T13:07:09.511402Z"
    }
   },
   "outputs": [],
   "source": [
    "%matplotlib inline "
   ]
  },
  {
   "cell_type": "code",
   "execution_count": 3,
   "id": "78c15681",
   "metadata": {
    "ExecuteTime": {
     "end_time": "2022-03-30T13:07:11.934924Z",
     "start_time": "2022-03-30T13:07:10.071245Z"
    }
   },
   "outputs": [
    {
     "name": "stderr",
     "output_type": "stream",
     "text": [
      "Global seed set to 42\n"
     ]
    }
   ],
   "source": [
    "import matplotlib.pyplot as plt\n",
    "import torch\n",
    "\n",
    "from bliss.inference import SDSSFrame\n",
    "from bliss.datasets import sdss\n",
    "from bliss import sleep\n",
    "from bliss.inference import reconstruct_scene_at_coordinates\n",
    "from bliss.reporting import plot_image\n",
    "from case_studies.sdss_galaxies.plots import load_models\n",
    "from bliss.datasets.sdss import convert_flux_to_mag\n",
    "\n",
    "\n",
    "from astropy.table import Table\n",
    "from astropy.io import fits\n",
    "\n",
    "import ipywidgets as widgets\n",
    "from ipywidgets import interact, interactive, fixed, interact_manual\n",
    "\n",
    "import plotly.express as px\n",
    "import plotly.graph_objects as go"
   ]
  },
  {
   "cell_type": "code",
   "execution_count": 4,
   "id": "ee835f6e",
   "metadata": {
    "ExecuteTime": {
     "end_time": "2022-03-30T13:07:12.614197Z",
     "start_time": "2022-03-30T13:07:11.936993Z"
    }
   },
   "outputs": [
    {
     "name": "stdout",
     "output_type": "stream",
     "text": [
      "5\r\n"
     ]
    }
   ],
   "source": [
    "# check GPU is configured correctly\n",
    "device = torch.device('cuda:0')\n",
    "!echo $CUDA_VISIBLE_DEVICES"
   ]
  },
  {
   "cell_type": "markdown",
   "id": "a02736c0",
   "metadata": {},
   "source": [
    "# Load data"
   ]
  },
  {
   "cell_type": "code",
   "execution_count": 5,
   "id": "cb815a32",
   "metadata": {
    "ExecuteTime": {
     "end_time": "2022-03-30T13:07:14.479359Z",
     "start_time": "2022-03-30T13:07:14.018772Z"
    }
   },
   "outputs": [],
   "source": [
    "# load sdss data\n",
    "sdss_dir = '/home/imendoza/bliss/data/sdss/'\n",
    "pixel_scale = 0.393\n",
    "coadd_file = \"/home/imendoza/bliss/data/coadd_catalog_94_1_12.fits\"\n",
    "frame = SDSSFrame(sdss_dir, pixel_scale, coadd_file)"
   ]
  },
  {
   "cell_type": "code",
   "execution_count": 6,
   "id": "c7668349",
   "metadata": {
    "ExecuteTime": {
     "end_time": "2022-03-30T13:07:18.689154Z",
     "start_time": "2022-03-30T13:07:14.890063Z"
    }
   },
   "outputs": [],
   "source": [
    "# load models\n",
    "from hydra import compose, initialize\n",
    "from hydra.utils import instantiate\n",
    "from bliss.encoder import Encoder\n",
    "\n",
    "with initialize(config_path=\"../config\"):\n",
    "    cfg = compose(\"config\", overrides=[])\n",
    "    \n",
    "    \n",
    "enc, dec = load_models(cfg, device)\n",
    "bp = enc.border_padding\n",
    "torch.cuda.empty_cache()"
   ]
  },
  {
   "cell_type": "code",
   "execution_count": 7,
   "id": "2495c839",
   "metadata": {
    "ExecuteTime": {
     "end_time": "2022-03-30T13:07:31.274695Z",
     "start_time": "2022-03-30T13:07:31.192636Z"
    }
   },
   "outputs": [],
   "source": [
    "# get catalog \n",
    "h, w = bp, bp\n",
    "h_end = ((frame.image.shape[2] - 2 * bp) // 4) * 4 + bp #adjustments when using whole frame.\n",
    "w_end = ((frame.image.shape[3] - 2 * bp) // 4) * 4 + bp\n",
    "coadd_params = frame.get_catalog((h, h_end), (w, w_end))"
   ]
  },
  {
   "cell_type": "code",
   "execution_count": 8,
   "id": "16d65c15",
   "metadata": {
    "ExecuteTime": {
     "end_time": "2022-03-30T13:07:31.912144Z",
     "start_time": "2022-03-30T13:07:31.781896Z"
    }
   },
   "outputs": [],
   "source": [
    "# frame PHOTO catalog\n",
    "frame_cat = Table.read('../../../data/sdss/94/1/12/photoObj-000094-1-0012.fits')"
   ]
  },
  {
   "cell_type": "code",
   "execution_count": 9,
   "id": "e569f440",
   "metadata": {
    "ExecuteTime": {
     "end_time": "2022-03-30T13:07:32.217992Z",
     "start_time": "2022-03-30T13:07:32.181818Z"
    }
   },
   "outputs": [
    {
     "name": "stdout",
     "output_type": "stream",
     "text": [
      "# objects detected by photo on frame:  999\n",
      "# objects detected by photo on coadd:  750\n"
     ]
    }
   ],
   "source": [
    "print(\"# objects detected by photo on frame: \", len(frame_cat))\n",
    "print(\"# objects detected by photo on coadd: \", coadd_params.n_sources.sum().item())"
   ]
  },
  {
   "cell_type": "markdown",
   "id": "1fd32af1",
   "metadata": {},
   "source": [
    "# Get Locations"
   ]
  },
  {
   "cell_type": "code",
   "execution_count": 10,
   "id": "8fa03c35",
   "metadata": {
    "ExecuteTime": {
     "end_time": "2022-03-30T13:07:49.918626Z",
     "start_time": "2022-03-30T13:07:38.906701Z"
    }
   },
   "outputs": [
    {
     "name": "stderr",
     "output_type": "stream",
     "text": [
      "Reconstructing chunks: 24it [00:08,  2.98it/s]\n",
      "Reconstructing chunks: 6it [00:01,  3.72it/s]\n",
      "Reconstructing chunks: 4it [00:00,  4.45it/s]\n",
      "Reconstructing chunks: 1it [00:00,  5.55it/s]\n"
     ]
    }
   ],
   "source": [
    "#inference\n",
    "with torch.no_grad():\n",
    "    _, tile_est = reconstruct_scene_at_coordinates(\n",
    "        enc,\n",
    "        dec,\n",
    "        frame.image,\n",
    "        frame.background,\n",
    "        h_range=(h, h_end),\n",
    "        w_range=(w, w_end),\n",
    "        slen=300,\n",
    "        device=device,\n",
    "    )\n",
    "map_recon = tile_est.to_full_params()\n",
    "map_recon[\"fluxes\"] = (\n",
    "    map_recon[\"galaxy_bools\"] * map_recon[\"galaxy_fluxes\"]\n",
    "    + map_recon[\"star_bools\"] * map_recon[\"fluxes\"]\n",
    ")\n",
    "map_recon[\"mags\"] = sdss.convert_flux_to_mag(map_recon[\"fluxes\"])\n",
    "torch.cuda.empty_cache()"
   ]
  },
  {
   "cell_type": "code",
   "execution_count": 17,
   "id": "1e2353c0",
   "metadata": {
    "ExecuteTime": {
     "end_time": "2022-03-30T13:14:38.641933Z",
     "start_time": "2022-03-30T13:14:38.584419Z"
    }
   },
   "outputs": [],
   "source": [
    "# prepare inference locs\n",
    "plocs = map_recon.plocs.cpu().numpy().squeeze() + bp - 0.5 \n",
    "coords = frame.wcs.all_pix2world(np.hstack([plocs[:, 1, None], plocs[:, 0, None]]), 0)\n",
    "galaxy_bool = map_recon['galaxy_bools'].numpy().astype(bool).squeeze()\n",
    "galaxy_prob = map_recon['galaxy_probs'].numpy().squeeze()\n",
    "mags = map_recon['mags'].squeeze().numpy()\n"
   ]
  },
  {
   "cell_type": "code",
   "execution_count": 18,
   "id": "98cfcf34",
   "metadata": {
    "ExecuteTime": {
     "end_time": "2022-03-30T13:14:39.361956Z",
     "start_time": "2022-03-30T13:14:39.318896Z"
    }
   },
   "outputs": [],
   "source": [
    "# coadd params\n",
    "coplocs = coadd_params.plocs.squeeze().numpy() + bp\n",
    "cogbool = coadd_params['galaxy_bools'].squeeze().numpy()\n",
    "\n",
    "cora = coadd_params['ra'].squeeze().numpy()\n",
    "codec = coadd_params['dec'].squeeze().numpy()\n",
    "comags = coadd_params['mags'].squeeze().numpy()"
   ]
  },
  {
   "cell_type": "markdown",
   "id": "20db5098",
   "metadata": {},
   "source": [
    "# Plotly Frame"
   ]
  },
  {
   "cell_type": "code",
   "execution_count": 29,
   "id": "f3a10e1d",
   "metadata": {
    "ExecuteTime": {
     "end_time": "2022-03-30T13:47:49.058939Z",
     "start_time": "2022-03-30T13:47:48.971402Z"
    }
   },
   "outputs": [],
   "source": [
    "from bliss.reporting import match_by_locs\n",
    "\n",
    "coindx, indx, dkeep, _ = match_by_locs(torch.from_numpy(coplocs), torch.from_numpy(plocs))\n",
    "nindx = np.array(list(set(range(len(plocs))).difference(set(indx))))\n",
    "assert len(indx) + len(nindx) == len(plocs)\n",
    "\n",
    "gal_misclass = ~np.equal(galaxy_bool[indx][dkeep], cogbool[coindx][dkeep]) & cogbool[coindx][dkeep]\n",
    "plocs_misclassified = plocs[indx][dkeep][gal_misclass]\n",
    "plocs_unmatched = plocs[nindx]\n",
    "plocs_unmatched_dist = plocs[indx][~dkeep]\n"
   ]
  },
  {
   "cell_type": "code",
   "execution_count": 66,
   "id": "71b07c6d",
   "metadata": {
    "ExecuteTime": {
     "end_time": "2022-03-30T14:58:14.471173Z",
     "start_time": "2022-03-30T14:58:13.738744Z"
    },
    "scrolled": false
   },
   "outputs": [
    {
     "name": "stderr",
     "output_type": "stream",
     "text": [
      "Global seed set to 42\n"
     ]
    }
   ],
   "source": [
    "image = frame.image.squeeze().numpy()\n",
    "\n",
    "fig = px.imshow(image, width=800, height=550, zmin=800, zmax=1150, color_continuous_scale='gray')\n",
    "\n",
    "\n",
    "# create scatter objects\n",
    "scatter_coadd_galaxies = go.Scatter(name='galaxy coadd', x=coplocs[cogbool][:, 1], y=coplocs[cogbool][:, 0], \n",
    "                                  mode='markers', marker=dict(color='red', size=8, symbol='cross'), \n",
    "                                 hovertext=[f'mag:{x:.2f}; (ra, dec):({y:.4f}, {z:.4f})' \n",
    "                                            for (x, y,z) in zip(comags[cogbool], \n",
    "                                                             cora[cogbool],\n",
    "                                                             codec[cogbool])]\n",
    "                                 )\n",
    "scatter_coadd_star = go.Scatter(name='star coadd', x=coplocs[~cogbool][:, 1], y=coplocs[~cogbool][:, 0], \n",
    "                                  mode='markers', marker=dict(color='blue', size=8, symbol='cross'),\n",
    "                                 hovertext=[f'mag:{x:.2f}; (ra, dec):({y:.4f}, {z:.4f})' \n",
    "                                            for (x, y,z) in zip(comags[~cogbool], \n",
    "                                                             cora[~cogbool],\n",
    "                                                             codec[~cogbool])]\n",
    "                                 )\n",
    "scatter_bliss_galaxies = go.Scatter(name='galaxy pred', x=plocs[galaxy_bool][:, 1], y=plocs[galaxy_bool][:, 0], \n",
    "                                  mode='markers', marker=dict(color='hotpink', size=11, symbol='x'),\n",
    "                                 hovertext=[f'mag:{a:.2f}; prob_galaxy:{x:.2f}; (ra, dec):({y:.4f}, {z:.4f})' \n",
    "                                            for (a, x, y,z) in zip(mags[galaxy_bool], \n",
    "                                                               galaxy_prob[galaxy_bool], \n",
    "                                                               coords[galaxy_bool][:, 0], \n",
    "                                                               coords[galaxy_bool][:, 1])]\n",
    "                                 )\n",
    "scatter_bliss_star = go.Scatter(name='star pred', x=plocs[~galaxy_bool][:, 1], y=plocs[~galaxy_bool][:, 0], \n",
    "                                mode='markers', marker=dict(color='cyan', size=11, symbol='x'),\\\n",
    "                                 hovertext=[f'mag:{a:.2f}; prob_galaxy:{x:.2f}; (ra, dec):({y:.4f},{z:.4f})' \n",
    "                                            for (a, x,y,z) in zip(mags[~galaxy_bool], \n",
    "                                                               galaxy_prob[~galaxy_bool], \n",
    "                                                               coords[~galaxy_bool][:, 0], \n",
    "                                                               coords[~galaxy_bool][:, 1])]\n",
    "                                 )\n",
    "\n",
    "scatter_unmatched = go.Scatter(name='unmatched', x=plocs_unmatched[:, 1], y=plocs_unmatched[:, 0], \n",
    "                                mode='markers', marker=dict(color='magenta', size=10, symbol='cross'),\n",
    "                                 )\n",
    "scatter_unmatched_dist = go.Scatter(name='unmatched (distance)', x=plocs_unmatched_dist[:, 1], y=plocs_unmatched_dist[:, 0], \n",
    "                                mode='markers', marker=dict(color='green', size=10, symbol='cross'),\n",
    "                                 )\n",
    "scatter_misclassified = go.Scatter(name='misclassified', x=plocs_misclassified[:, 1], y=plocs_misclassified[:, 0], \n",
    "                                mode='markers', marker=dict(color='yellow', size=10, symbol='cross'),\n",
    "                                 )\n",
    "\n",
    "# add traces to figure\n",
    "fig.add_trace(scatter_coadd_galaxies)\n",
    "fig.add_trace(scatter_coadd_star)\n",
    "fig.add_trace(scatter_bliss_galaxies)\n",
    "fig.add_trace(scatter_bliss_star)\n",
    "fig.add_trace(scatter_unmatched)\n",
    "fig.add_trace(scatter_unmatched_dist)\n",
    "fig.add_trace(scatter_misclassified)\n",
    "\n",
    "\n",
    "fig.update_layout(legend=dict(orientation=\"h\", y=1.05)) # adjust legend\n",
    "\n",
    "\n",
    "fig.show()\n",
    "\n"
   ]
  },
  {
   "cell_type": "code",
   "execution_count": null,
   "id": "8b33fa83",
   "metadata": {},
   "outputs": [],
   "source": []
  }
 ],
 "metadata": {
  "kernelspec": {
   "display_name": "bliss-W0ocb7P7-py3.8",
   "language": "python",
   "name": "bliss-w0ocb7p7-py3.8"
  },
  "language_info": {
   "codemirror_mode": {
    "name": "ipython",
    "version": 3
   },
   "file_extension": ".py",
   "mimetype": "text/x-python",
   "name": "python",
   "nbconvert_exporter": "python",
   "pygments_lexer": "ipython3",
   "version": "3.8.10"
  },
  "toc": {
   "base_numbering": 1,
   "nav_menu": {},
   "number_sections": true,
   "sideBar": true,
   "skip_h1_title": false,
   "title_cell": "Table of Contents",
   "title_sidebar": "Contents",
   "toc_cell": false,
   "toc_position": {
    "height": "calc(100% - 180px)",
    "left": "10px",
    "top": "150px",
    "width": "165px"
   },
   "toc_section_display": true,
   "toc_window_display": true
  }
 },
 "nbformat": 4,
 "nbformat_minor": 5
}

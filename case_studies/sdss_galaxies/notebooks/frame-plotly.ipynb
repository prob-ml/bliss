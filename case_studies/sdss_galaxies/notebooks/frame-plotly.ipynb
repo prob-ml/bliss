{
 "cells": [
  {
   "cell_type": "code",
   "execution_count": null,
   "id": "73591771",
   "metadata": {
    "ExecuteTime": {
     "end_time": "2022-03-29T19:23:18.363089Z",
     "start_time": "2022-03-29T19:23:18.306653Z"
    }
   },
   "outputs": [],
   "source": [
    "%load_ext autoreload\n",
    "%autoreload 2\n",
    "%aimport"
   ]
  },
  {
   "cell_type": "code",
   "execution_count": null,
   "id": "25a594a4",
   "metadata": {
    "ExecuteTime": {
     "end_time": "2022-03-29T19:23:18.493221Z",
     "start_time": "2022-03-29T19:23:18.428989Z"
    }
   },
   "outputs": [],
   "source": [
    "%matplotlib inline "
   ]
  },
  {
   "cell_type": "code",
   "execution_count": null,
   "id": "78c15681",
   "metadata": {
    "ExecuteTime": {
     "end_time": "2022-03-29T19:23:18.619093Z",
     "start_time": "2022-03-29T19:23:18.577023Z"
    }
   },
   "outputs": [],
   "source": [
    "import matplotlib.pyplot as plt\n",
    "import torch\n",
    "\n",
    "from bliss.inference import SDSSFrame\n",
    "from bliss.datasets import sdss\n",
    "from bliss import sleep\n",
    "from bliss.inference import reconstruct_scene_at_coordinates\n",
    "from bliss.reporting import plot_image\n",
    "from case_studies.sdss_galaxies.plots import load_models\n",
    "from bliss.datasets.sdss import convert_flux_to_mag\n",
    "\n",
    "\n",
    "from astropy.table import Table\n",
    "from astropy.io import fits\n",
    "\n",
    "import ipywidgets as widgets\n",
    "from ipywidgets import interact, interactive, fixed, interact_manual\n",
    "\n",
    "import plotly.express as px\n",
    "import plotly.graph_objects as go"
   ]
  },
  {
   "cell_type": "code",
   "execution_count": null,
   "id": "ee835f6e",
   "metadata": {
    "ExecuteTime": {
     "end_time": "2022-03-29T19:23:19.607803Z",
     "start_time": "2022-03-29T19:23:18.743449Z"
    }
   },
   "outputs": [],
   "source": [
    "# check GPU is configured correctly\n",
    "device = torch.device('cuda:0')\n",
    "!echo $CUDA_VISIBLE_DEVICES"
   ]
  },
  {
   "cell_type": "markdown",
   "id": "a02736c0",
   "metadata": {},
   "source": [
    "# Load data"
   ]
  },
  {
   "cell_type": "code",
   "execution_count": null,
   "id": "cb815a32",
   "metadata": {
    "ExecuteTime": {
     "end_time": "2022-03-29T19:23:20.772511Z",
     "start_time": "2022-03-29T19:23:20.236698Z"
    }
   },
   "outputs": [],
   "source": [
    "# load sdss data\n",
    "sdss_dir = '/home/imendoza/bliss/data/sdss/'\n",
    "pixel_scale = 0.393\n",
    "coadd_file = \"/home/imendoza/bliss/data/coadd_catalog_94_1_12.fits\"\n",
    "frame = SDSSFrame(sdss_dir, pixel_scale, coadd_file)"
   ]
  },
  {
   "cell_type": "code",
   "execution_count": null,
   "id": "c7668349",
   "metadata": {
    "ExecuteTime": {
     "end_time": "2022-03-29T19:23:21.084159Z",
     "start_time": "2022-03-29T19:23:20.774930Z"
    }
   },
   "outputs": [],
   "source": [
    "# load models\n",
    "from hydra import compose, initialize\n",
    "from hydra.utils import instantiate\n",
    "from bliss.encoder import Encoder\n",
    "\n",
    "with initialize(config_path=\"../config\"):\n",
    "    cfg = compose(\"config\", overrides=[])\n",
    "    \n",
    "    \n",
    "enc, dec = load_models(cfg, device)\n",
    "bp = enc.border_padding\n",
    "torch.cuda.empty_cache()"
   ]
  },
  {
   "cell_type": "code",
   "execution_count": null,
   "id": "2495c839",
   "metadata": {
    "ExecuteTime": {
     "end_time": "2022-03-29T19:23:21.132119Z",
     "start_time": "2022-03-29T19:23:21.086278Z"
    }
   },
   "outputs": [],
   "source": [
    "# get catalog \n",
    "h, w = bp, bp\n",
    "h_end = ((frame.image.shape[2] - 2 * bp) // 4) * 4 + bp\n",
    "w_end = ((frame.image.shape[3] - 2 * bp) // 4) * 4 + bp\n",
    "coadd_params = frame.get_catalog((h, h_end), (w, w_end))"
   ]
  },
  {
   "cell_type": "code",
   "execution_count": null,
   "id": "16d65c15",
   "metadata": {
    "ExecuteTime": {
     "end_time": "2022-03-29T19:23:21.660522Z",
     "start_time": "2022-03-29T19:23:21.571601Z"
    }
   },
   "outputs": [],
   "source": [
    "# frame PHOTO catalog\n",
    "frame_cat = Table.read('../../../data/sdss/94/1/12/photoObj-000094-1-0012.fits')"
   ]
  },
  {
   "cell_type": "code",
   "execution_count": null,
   "id": "e569f440",
   "metadata": {
    "ExecuteTime": {
     "end_time": "2022-03-29T19:23:21.787031Z",
     "start_time": "2022-03-29T19:23:21.755945Z"
    }
   },
   "outputs": [],
   "source": [
    "print(\"# objects detected by photo on frame: \", len(frame_cat))\n",
    "print(\"# objects detected by photo on coadd: \", coadd_params.n_sources.sum().item())"
   ]
  },
  {
   "cell_type": "markdown",
   "id": "1fd32af1",
   "metadata": {},
   "source": [
    "# Get Locations"
   ]
  },
  {
   "cell_type": "code",
   "execution_count": null,
   "id": "8fa03c35",
   "metadata": {
    "ExecuteTime": {
     "end_time": "2022-03-29T19:15:18.582674Z",
     "start_time": "2022-03-29T19:15:07.609005Z"
    }
   },
   "outputs": [],
   "source": [
    "#inference\n",
    "with torch.no_grad():\n",
    "    _, tile_est = reconstruct_scene_at_coordinates(\n",
    "        enc,\n",
    "        dec,\n",
    "        frame.image,\n",
    "        frame.background,\n",
    "        h_range=(h, h_end),\n",
    "        w_range=(w, w_end),\n",
    "        slen=300,\n",
    "        device=device,\n",
    "    )\n",
    "map_recon = tile_est.to_full_params()\n",
    "map_recon[\"fluxes\"] = (\n",
    "    map_recon[\"galaxy_bools\"] * map_recon[\"galaxy_fluxes\"]\n",
    "    + map_recon[\"star_bools\"] * map_recon[\"fluxes\"]\n",
    ")\n",
    "map_recon[\"mags\"] = sdss.convert_flux_to_mag(map_recon[\"fluxes\"])\n",
    "torch.cuda.empty_cache()"
   ]
  },
  {
   "cell_type": "code",
   "execution_count": null,
   "id": "1e2353c0",
   "metadata": {
    "ExecuteTime": {
     "end_time": "2022-03-29T19:49:51.978695Z",
     "start_time": "2022-03-29T19:49:51.936857Z"
    }
   },
   "outputs": [],
   "source": [
    "# prepare inference locs\n",
    "plocs = map_recon.plocs.cpu().numpy().squeeze() + bp\n",
    "coords = frame.wcs.all_pix2world(np.hstack([plocs[:, 1, None], plocs[:, 0, None]]), 0)\n",
    "galaxy_bool = map_recon['galaxy_bools'].numpy().astype(bool).squeeze()\n",
    "galaxy_prob = map_recon['galaxy_probs'].numpy().squeeze()\n",
    "mags = map_recon['mags'].squeeze().numpy()\n"
   ]
  },
  {
   "cell_type": "code",
   "execution_count": null,
   "id": "98cfcf34",
   "metadata": {
    "ExecuteTime": {
     "end_time": "2022-03-29T19:49:56.676828Z",
     "start_time": "2022-03-29T19:49:56.640794Z"
    }
   },
   "outputs": [],
   "source": [
    "# coadd params\n",
    "mag_cut = 24\n",
    "_coadd_params = coadd_params.apply_mag_bin(14, mag_cut)\n",
    "coplocs = _coadd_params.plocs.squeeze().numpy() + bp\n",
    "cogbool = _coadd_params['galaxy_bools'].squeeze().numpy()\n",
    "\n",
    "cora = _coadd_params['ra'].squeeze().numpy()\n",
    "codec = _coadd_params['dec'].squeeze().numpy()\n",
    "comags = _coadd_params['mags'].squeeze().numpy()"
   ]
  },
  {
   "cell_type": "markdown",
   "id": "20db5098",
   "metadata": {},
   "source": [
    "# Plotly Frame"
   ]
  },
  {
   "cell_type": "code",
   "execution_count": null,
   "id": "f3a10e1d",
   "metadata": {
    "ExecuteTime": {
     "end_time": "2022-03-29T19:49:57.483247Z",
     "start_time": "2022-03-29T19:49:57.358942Z"
    }
   },
   "outputs": [],
   "source": [
    "# extract misclassified objects between 19.5 and 20.5\n",
    "from bliss.reporting import match_by_locs\n",
    "\n",
    "coindx, indx, dkeep, _ = match_by_locs(torch.from_numpy(coplocs), torch.from_numpy(plocs))\n",
    "nindx = np.array(list(set(range(len(plocs))).difference(set(indx))))\n",
    "assert len(indx) + len(nindx) == len(plocs)\n",
    "\n",
    "mags_keep = comags[coindx][dkeep] < 19\n",
    "gal_misclass = ~np.equal(galaxy_bool[indx][dkeep][mags_keep], cogbool[coindx][dkeep][mags_keep]) & cogbool[coindx][dkeep][mags_keep]\n",
    "plocs_misclassified = plocs[indx][dkeep][mags_keep][gal_misclass]\n",
    "plocs_unmatched = np.vstack([plocs[nindx], plocs[indx][~dkeep]])\n"
   ]
  },
  {
   "cell_type": "code",
   "execution_count": null,
   "id": "71b07c6d",
   "metadata": {
    "ExecuteTime": {
     "end_time": "2022-03-29T19:50:07.235761Z",
     "start_time": "2022-03-29T19:49:58.234924Z"
    },
    "scrolled": false
   },
   "outputs": [],
   "source": [
    "image = frame.image.squeeze().numpy()\n",
    "\n",
    "fig = px.imshow(image, width=800, height=550, zmin=800, zmax=1150)\n",
    "\n",
    "\n",
    "# create scatter objects\n",
    "scatter_coadd_galaxies = go.Scatter(name='galaxy coadd', x=coplocs[cogbool][:, 1], y=coplocs[cogbool][:, 0], \n",
    "                                  mode='markers', marker=dict(color='red', size=8, symbol='cross'), \n",
    "                                 hovertext=[f'mag:{x:.2f}; (ra, dec):({y:.4f}, {z:.4f})' \n",
    "                                            for (x, y,z) in zip(comags[cogbool], \n",
    "                                                             cora[cogbool],\n",
    "                                                             codec[cogbool])]\n",
    "                                 )\n",
    "scatter_coadd_star = go.Scatter(name='star coadd', x=coplocs[~cogbool][:, 1], y=coplocs[~cogbool][:, 0], \n",
    "                                  mode='markers', marker=dict(color='blue', size=8, symbol='cross'),\n",
    "                                 hovertext=[f'mag:{x:.2f}; (ra, dec):({y:.4f}, {z:.4f})' \n",
    "                                            for (x, y,z) in zip(comags[~cogbool], \n",
    "                                                             cora[~cogbool],\n",
    "                                                             codec[~cogbool])]\n",
    "                                 )\n",
    "scatter_bliss_galaxies = go.Scatter(name='galaxy pred', x=plocs[galaxy_bool][:, 1], y=plocs[galaxy_bool][:, 0], \n",
    "                                  mode='markers', marker=dict(color='hotpink', size=11, symbol='x'),\n",
    "                                 hovertext=[f'mag:{a:.2f}; prob_galaxy:{x:.2f}; (ra, dec):({y:.4f}, {z:.4f})' \n",
    "                                            for (a, x, y,z) in zip(mags[galaxy_bool], \n",
    "                                                               galaxy_prob[galaxy_bool], \n",
    "                                                               coords[galaxy_bool][:, 0], \n",
    "                                                               coords[galaxy_bool][:, 1])]\n",
    "                                 )\n",
    "scatter_bliss_star = go.Scatter(name='star pred', x=plocs[~galaxy_bool][:, 1], y=plocs[~galaxy_bool][:, 0], \n",
    "                                mode='markers', marker=dict(color='cyan', size=11, symbol='x'),\\\n",
    "                                 hovertext=[f'mag:{a:.2f}; prob_galaxy:{x:.2f}; (ra, dec):({y:.4f},{z:.4f})' \n",
    "                                            for (a, x,y,z) in zip(mags[~galaxy_bool], \n",
    "                                                               galaxy_prob[~galaxy_bool], \n",
    "                                                               coords[~galaxy_bool][:, 0], \n",
    "                                                               coords[~galaxy_bool][:, 1])]\n",
    "                                 )\n",
    "\n",
    "scatter_unmatched = go.Scatter(name='unmatched', x=plocs_unmatched[:, 1], y=plocs_unmatched[:, 0], \n",
    "                                mode='markers', marker=dict(color='magenta', size=10, symbol='circle'),\n",
    "                                 )\n",
    "scatter_misclassified = go.Scatter(name='misclassified', x=plocs_misclassified[:, 1], y=plocs_misclassified[:, 0], \n",
    "                                mode='markers', marker=dict(color='yellow', size=10, symbol='x'),\n",
    "                                 )\n",
    "\n",
    "# add traces to figure\n",
    "fig.add_trace(scatter_coadd_galaxies)\n",
    "fig.add_trace(scatter_coadd_star)\n",
    "fig.add_trace(scatter_bliss_galaxies)\n",
    "fig.add_trace(scatter_bliss_star)\n",
    "fig.add_trace(scatter_unmatched)\n",
    "fig.add_trace(scatter_misclassified)\n",
    "\n",
    "\n",
    "fig.update_layout(legend=dict(orientation=\"h\", y=1.05)) # adjust legend\n",
    "\n",
    "\n",
    "fig.show()"
   ]
  },
  {
   "cell_type": "code",
   "execution_count": null,
   "id": "a356fe20",
   "metadata": {},
   "outputs": [],
   "source": []
  }
 ],
 "metadata": {
  "kernelspec": {
   "display_name": "bliss-W0ocb7P7-py3.8",
   "language": "python",
   "name": "bliss-w0ocb7p7-py3.8"
  },
  "language_info": {
   "codemirror_mode": {
    "name": "ipython",
    "version": 3
   },
   "file_extension": ".py",
   "mimetype": "text/x-python",
   "name": "python",
   "nbconvert_exporter": "python",
   "pygments_lexer": "ipython3",
   "version": "3.8.10"
  },
  "toc": {
   "base_numbering": 1,
   "nav_menu": {},
   "number_sections": true,
   "sideBar": true,
   "skip_h1_title": false,
   "title_cell": "Table of Contents",
   "title_sidebar": "Contents",
   "toc_cell": false,
   "toc_position": {
    "height": "calc(100% - 180px)",
    "left": "10px",
    "top": "150px",
    "width": "165px"
   },
   "toc_section_display": true,
   "toc_window_display": true
  }
 },
 "nbformat": 4,
 "nbformat_minor": 5
}

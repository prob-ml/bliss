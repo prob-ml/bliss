{
 "cells": [
  {
   "cell_type": "code",
   "execution_count": 1,
   "metadata": {},
   "outputs": [],
   "source": [
    "# import packages and methods that will be used in this notebook\n",
    "\n",
    "import healpy\n",
    "import numpy as np\n",
    "import GCRCatalogs\n",
    "from astropy.coordinates import SkyCoord\n",
    "import matplotlib\n",
    "%matplotlib inline\n",
    "import matplotlib.pyplot as plt"
   ]
  },
  {
   "cell_type": "code",
   "execution_count": 2,
   "metadata": {},
   "outputs": [
    {
     "data": {
      "text/plain": [
       "'/nfs/turbo/lsa-regier/'"
      ]
     },
     "execution_count": 2,
     "metadata": {},
     "output_type": "execute_result"
    }
   ],
   "source": [
    "import GCRCatalogs\n",
    "\n",
    "# Step 1: Change the root_dir\n",
    "# This can be done by setting the 'root_dir' in the configuration dictionary\n",
    "# Replace '/your/new/root/dir' with the path to your new root directory\n",
    "GCRCatalogs.set_root_dir('/nfs/turbo/lsa-regier/')\n",
    "GCRCatalogs.get_root_dir()"
   ]
  },
  {
   "cell_type": "code",
   "execution_count": 3,
   "metadata": {},
   "outputs": [
    {
     "data": {
      "text/plain": [
       "['desc_cosmodc2',\n",
       " 'desc_dc2_run2.2i_dr6_object',\n",
       " 'desc_dc2_run2.2i_dr6_object_with_truth_match',\n",
       " 'desc_dc2_run2.2i_dr6_truth',\n",
       " 'desc_dc2_run2.2i_truth_galaxy_summary',\n",
       " 'desc_dc2_run2.2i_truth_sn_summary',\n",
       " 'desc_dc2_run2.2i_truth_sn_variability',\n",
       " 'desc_dc2_run2.2i_truth_star_summary',\n",
       " 'desc_dc2_run2.2i_truth_star_variability']"
      ]
     },
     "execution_count": 3,
     "metadata": {},
     "output_type": "execute_result"
    }
   ],
   "source": [
    "GCRCatalogs.get_public_catalog_names()\n"
   ]
  },
  {
   "cell_type": "code",
   "execution_count": 4,
   "metadata": {
    "scrolled": true
   },
   "outputs": [
    {
     "data": {
      "text/plain": [
       "['cosmodc2_id',\n",
       " 'truth_type',\n",
       " 'mag_i',\n",
       " 'flux_r',\n",
       " 'ra',\n",
       " 'match_sep',\n",
       " 'mag_u',\n",
       " 'flux_i',\n",
       " 'is_nearest_neighbor',\n",
       " 'rv',\n",
       " 'flux_g',\n",
       " 'mag_r',\n",
       " 'match_objectId',\n",
       " 'mag_y',\n",
       " 'id_string',\n",
       " 'host_galaxy',\n",
       " 'flux_y',\n",
       " 'flux_u',\n",
       " 'id',\n",
       " 'redshift',\n",
       " 'av',\n",
       " 'patch',\n",
       " 'is_good_match',\n",
       " 'dec',\n",
       " 'mag_g',\n",
       " 'is_unique_truth_entry',\n",
       " 'cosmodc2_hp',\n",
       " 'flux_z',\n",
       " 'tract',\n",
       " 'mag_z']"
      ]
     },
     "execution_count": 4,
     "metadata": {},
     "output_type": "execute_result"
    }
   ],
   "source": [
    "truth_cat = GCRCatalogs.load_catalog('desc_dc2_run2.2i_dr6_truth')\n",
    "truth_cat.list_all_quantities()"
   ]
  },
  {
   "cell_type": "code",
   "execution_count": null,
   "metadata": {},
   "outputs": [],
   "source": [
    "data = truth_cat.get_quantities([\n",
    "    \"id\", \"flux_u\", \"flux_g\",\"flux_r\",\"flux_i\",\"flux_z\",\"redshift\"],filters=['truth_type == 2'])"
   ]
  },
  {
   "cell_type": "code",
   "execution_count": 38,
   "metadata": {},
   "outputs": [],
   "source": [
    "import pandas as pd\n",
    "df = pd.DataFrame(data)"
   ]
  },
  {
   "cell_type": "code",
   "execution_count": 36,
   "metadata": {},
   "outputs": [
    {
     "data": {
      "text/html": [
       "<div>\n",
       "<style scoped>\n",
       "    .dataframe tbody tr th:only-of-type {\n",
       "        vertical-align: middle;\n",
       "    }\n",
       "\n",
       "    .dataframe tbody tr th {\n",
       "        vertical-align: top;\n",
       "    }\n",
       "\n",
       "    .dataframe thead th {\n",
       "        text-align: right;\n",
       "    }\n",
       "</style>\n",
       "<table border=\"1\" class=\"dataframe\">\n",
       "  <thead>\n",
       "    <tr style=\"text-align: right;\">\n",
       "      <th></th>\n",
       "      <th>flux_u</th>\n",
       "      <th>id</th>\n",
       "      <th>flux_r</th>\n",
       "      <th>redshift</th>\n",
       "      <th>flux_i</th>\n",
       "      <th>flux_g</th>\n",
       "      <th>flux_z</th>\n",
       "    </tr>\n",
       "  </thead>\n",
       "  <tbody>\n",
       "    <tr>\n",
       "      <th>count</th>\n",
       "      <td>4.136988e+06</td>\n",
       "      <td>4.136988e+06</td>\n",
       "      <td>4.136988e+06</td>\n",
       "      <td>4136988.0</td>\n",
       "      <td>4.136988e+06</td>\n",
       "      <td>4.136988e+06</td>\n",
       "      <td>4.136988e+06</td>\n",
       "    </tr>\n",
       "    <tr>\n",
       "      <th>mean</th>\n",
       "      <td>1.981941e+05</td>\n",
       "      <td>2.896313e+10</td>\n",
       "      <td>1.014710e+06</td>\n",
       "      <td>0.0</td>\n",
       "      <td>1.234137e+06</td>\n",
       "      <td>6.330818e+05</td>\n",
       "      <td>1.340739e+06</td>\n",
       "    </tr>\n",
       "    <tr>\n",
       "      <th>std</th>\n",
       "      <td>6.318576e+06</td>\n",
       "      <td>1.319421e+10</td>\n",
       "      <td>4.225930e+07</td>\n",
       "      <td>0.0</td>\n",
       "      <td>5.318253e+07</td>\n",
       "      <td>2.389670e+07</td>\n",
       "      <td>5.847104e+07</td>\n",
       "    </tr>\n",
       "    <tr>\n",
       "      <th>min</th>\n",
       "      <td>2.066179e-01</td>\n",
       "      <td>2.773620e+05</td>\n",
       "      <td>1.773591e+01</td>\n",
       "      <td>0.0</td>\n",
       "      <td>1.659430e+01</td>\n",
       "      <td>2.402487e+00</td>\n",
       "      <td>1.291049e+01</td>\n",
       "    </tr>\n",
       "    <tr>\n",
       "      <th>25%</th>\n",
       "      <td>4.552544e+00</td>\n",
       "      <td>3.110209e+10</td>\n",
       "      <td>1.086661e+02</td>\n",
       "      <td>0.0</td>\n",
       "      <td>2.697470e+02</td>\n",
       "      <td>3.771347e+01</td>\n",
       "      <td>4.050174e+02</td>\n",
       "    </tr>\n",
       "    <tr>\n",
       "      <th>50%</th>\n",
       "      <td>4.042743e+01</td>\n",
       "      <td>3.141176e+10</td>\n",
       "      <td>7.227829e+02</td>\n",
       "      <td>0.0</td>\n",
       "      <td>1.536447e+03</td>\n",
       "      <td>2.833616e+02</td>\n",
       "      <td>2.172738e+03</td>\n",
       "    </tr>\n",
       "    <tr>\n",
       "      <th>75%</th>\n",
       "      <td>9.068907e+02</td>\n",
       "      <td>4.074184e+10</td>\n",
       "      <td>8.229410e+03</td>\n",
       "      <td>0.0</td>\n",
       "      <td>1.465283e+04</td>\n",
       "      <td>4.077584e+03</td>\n",
       "      <td>1.949700e+04</td>\n",
       "    </tr>\n",
       "    <tr>\n",
       "      <th>max</th>\n",
       "      <td>2.632770e+09</td>\n",
       "      <td>4.102101e+10</td>\n",
       "      <td>2.414255e+10</td>\n",
       "      <td>0.0</td>\n",
       "      <td>3.168961e+10</td>\n",
       "      <td>1.215555e+10</td>\n",
       "      <td>3.546458e+10</td>\n",
       "    </tr>\n",
       "  </tbody>\n",
       "</table>\n",
       "</div>"
      ],
      "text/plain": [
       "             flux_u            id        flux_r   redshift        flux_i  \\\n",
       "count  4.136988e+06  4.136988e+06  4.136988e+06  4136988.0  4.136988e+06   \n",
       "mean   1.981941e+05  2.896313e+10  1.014710e+06        0.0  1.234137e+06   \n",
       "std    6.318576e+06  1.319421e+10  4.225930e+07        0.0  5.318253e+07   \n",
       "min    2.066179e-01  2.773620e+05  1.773591e+01        0.0  1.659430e+01   \n",
       "25%    4.552544e+00  3.110209e+10  1.086661e+02        0.0  2.697470e+02   \n",
       "50%    4.042743e+01  3.141176e+10  7.227829e+02        0.0  1.536447e+03   \n",
       "75%    9.068907e+02  4.074184e+10  8.229410e+03        0.0  1.465283e+04   \n",
       "max    2.632770e+09  4.102101e+10  2.414255e+10        0.0  3.168961e+10   \n",
       "\n",
       "             flux_g        flux_z  \n",
       "count  4.136988e+06  4.136988e+06  \n",
       "mean   6.330818e+05  1.340739e+06  \n",
       "std    2.389670e+07  5.847104e+07  \n",
       "min    2.402487e+00  1.291049e+01  \n",
       "25%    3.771347e+01  4.050174e+02  \n",
       "50%    2.833616e+02  2.172738e+03  \n",
       "75%    4.077584e+03  1.949700e+04  \n",
       "max    1.215555e+10  3.546458e+10  "
      ]
     },
     "execution_count": 36,
     "metadata": {},
     "output_type": "execute_result"
    }
   ],
   "source": [
    "df.describe()"
   ]
  },
  {
   "cell_type": "code",
   "execution_count": 26,
   "metadata": {},
   "outputs": [],
   "source": [
    "# Your desired order of columns\n",
    "desired_order = [\"id\", \"flux_u\", \"flux_g\",\"flux_r\",\"flux_i\",\"flux_z\",\"redshift\"]\n",
    "\n",
    "# Reordering the columns according to the desired order\n",
    "df_reordered = df[desired_order]"
   ]
  },
  {
   "cell_type": "code",
   "execution_count": 29,
   "metadata": {},
   "outputs": [],
   "source": [
    "df_filtered = df_reordered[df_reordered['redshift'] != 0]"
   ]
  },
  {
   "cell_type": "code",
   "execution_count": 32,
   "metadata": {},
   "outputs": [
    {
     "data": {
      "text/html": [
       "<div>\n",
       "<style scoped>\n",
       "    .dataframe tbody tr th:only-of-type {\n",
       "        vertical-align: middle;\n",
       "    }\n",
       "\n",
       "    .dataframe tbody tr th {\n",
       "        vertical-align: top;\n",
       "    }\n",
       "\n",
       "    .dataframe thead th {\n",
       "        text-align: right;\n",
       "    }\n",
       "</style>\n",
       "<table border=\"1\" class=\"dataframe\">\n",
       "  <thead>\n",
       "    <tr style=\"text-align: right;\">\n",
       "      <th></th>\n",
       "      <th>id</th>\n",
       "      <th>flux_u</th>\n",
       "      <th>flux_g</th>\n",
       "      <th>flux_r</th>\n",
       "      <th>flux_i</th>\n",
       "      <th>flux_z</th>\n",
       "      <th>redshift</th>\n",
       "    </tr>\n",
       "  </thead>\n",
       "  <tbody>\n",
       "  </tbody>\n",
       "</table>\n",
       "</div>"
      ],
      "text/plain": [
       "Empty DataFrame\n",
       "Columns: [id, flux_u, flux_g, flux_r, flux_i, flux_z, redshift]\n",
       "Index: []"
      ]
     },
     "execution_count": 32,
     "metadata": {},
     "output_type": "execute_result"
    }
   ],
   "source": [
    "df_filtered"
   ]
  },
  {
   "cell_type": "code",
   "execution_count": 30,
   "metadata": {},
   "outputs": [],
   "source": [
    "df_10000=df_filtered[:10000]"
   ]
  },
  {
   "cell_type": "code",
   "execution_count": 31,
   "metadata": {},
   "outputs": [],
   "source": [
    "df_10000.to_csv('/home/../data/scratch/truth_data_10000.csv', index=False)"
   ]
  },
  {
   "cell_type": "markdown",
   "metadata": {},
   "source": [
    "Or We can use pandas"
   ]
  },
  {
   "cell_type": "code",
   "execution_count": 16,
   "metadata": {},
   "outputs": [
    {
     "data": {
      "text/html": [
       "<div>\n",
       "<style scoped>\n",
       "    .dataframe tbody tr th:only-of-type {\n",
       "        vertical-align: middle;\n",
       "    }\n",
       "\n",
       "    .dataframe tbody tr th {\n",
       "        vertical-align: top;\n",
       "    }\n",
       "\n",
       "    .dataframe thead th {\n",
       "        text-align: right;\n",
       "    }\n",
       "</style>\n",
       "<table border=\"1\" class=\"dataframe\">\n",
       "  <thead>\n",
       "    <tr style=\"text-align: right;\">\n",
       "      <th></th>\n",
       "      <th>id</th>\n",
       "      <th>id_string</th>\n",
       "      <th>host_galaxy</th>\n",
       "      <th>truth_type</th>\n",
       "      <th>ra</th>\n",
       "      <th>dec</th>\n",
       "      <th>redshift</th>\n",
       "      <th>flux_u</th>\n",
       "      <th>flux_g</th>\n",
       "      <th>flux_r</th>\n",
       "      <th>...</th>\n",
       "      <th>tract</th>\n",
       "      <th>patch</th>\n",
       "      <th>cosmodc2_hp</th>\n",
       "      <th>cosmodc2_id</th>\n",
       "      <th>mag_r</th>\n",
       "      <th>match_objectId</th>\n",
       "      <th>match_sep</th>\n",
       "      <th>is_good_match</th>\n",
       "      <th>is_nearest_neighbor</th>\n",
       "      <th>is_unique_truth_entry</th>\n",
       "    </tr>\n",
       "  </thead>\n",
       "  <tbody>\n",
       "    <tr>\n",
       "      <th>0</th>\n",
       "      <td>10940305839</td>\n",
       "      <td>10940305839</td>\n",
       "      <td>-1</td>\n",
       "      <td>1</td>\n",
       "      <td>50.937950</td>\n",
       "      <td>-44.629795</td>\n",
       "      <td>1.050468</td>\n",
       "      <td>5678.708984</td>\n",
       "      <td>5577.517578</td>\n",
       "      <td>6334.502441</td>\n",
       "      <td>...</td>\n",
       "      <td>2723</td>\n",
       "      <td>0,6</td>\n",
       "      <td>10321</td>\n",
       "      <td>10940305839</td>\n",
       "      <td>21.895718</td>\n",
       "      <td>11975906419540343</td>\n",
       "      <td>0.118004</td>\n",
       "      <td>False</td>\n",
       "      <td>True</td>\n",
       "      <td>True</td>\n",
       "    </tr>\n",
       "    <tr>\n",
       "      <th>1</th>\n",
       "      <td>10937870093</td>\n",
       "      <td>10937870093</td>\n",
       "      <td>-1</td>\n",
       "      <td>1</td>\n",
       "      <td>50.918450</td>\n",
       "      <td>-44.628441</td>\n",
       "      <td>0.474819</td>\n",
       "      <td>146.518021</td>\n",
       "      <td>1341.131714</td>\n",
       "      <td>5984.994629</td>\n",
       "      <td>...</td>\n",
       "      <td>2723</td>\n",
       "      <td>0,6</td>\n",
       "      <td>10321</td>\n",
       "      <td>10937870093</td>\n",
       "      <td>21.957340</td>\n",
       "      <td>11975906419541206</td>\n",
       "      <td>0.059833</td>\n",
       "      <td>False</td>\n",
       "      <td>True</td>\n",
       "      <td>True</td>\n",
       "    </tr>\n",
       "    <tr>\n",
       "      <th>2</th>\n",
       "      <td>11563663598</td>\n",
       "      <td>11563663598</td>\n",
       "      <td>-1</td>\n",
       "      <td>1</td>\n",
       "      <td>50.622709</td>\n",
       "      <td>-44.633968</td>\n",
       "      <td>0.759036</td>\n",
       "      <td>134.074341</td>\n",
       "      <td>272.126617</td>\n",
       "      <td>766.903015</td>\n",
       "      <td>...</td>\n",
       "      <td>2723</td>\n",
       "      <td>1,6</td>\n",
       "      <td>10444</td>\n",
       "      <td>11563663598</td>\n",
       "      <td>24.188148</td>\n",
       "      <td>11976043858493441</td>\n",
       "      <td>0.205348</td>\n",
       "      <td>False</td>\n",
       "      <td>True</td>\n",
       "      <td>True</td>\n",
       "    </tr>\n",
       "    <tr>\n",
       "      <th>3</th>\n",
       "      <td>10938869183</td>\n",
       "      <td>10938869183</td>\n",
       "      <td>-1</td>\n",
       "      <td>1</td>\n",
       "      <td>50.622897</td>\n",
       "      <td>-44.629667</td>\n",
       "      <td>0.808502</td>\n",
       "      <td>932.008118</td>\n",
       "      <td>1224.280762</td>\n",
       "      <td>2598.827148</td>\n",
       "      <td>...</td>\n",
       "      <td>2723</td>\n",
       "      <td>1,6</td>\n",
       "      <td>10321</td>\n",
       "      <td>10938869183</td>\n",
       "      <td>22.863056</td>\n",
       "      <td>11976043858493443</td>\n",
       "      <td>0.154115</td>\n",
       "      <td>False</td>\n",
       "      <td>True</td>\n",
       "      <td>True</td>\n",
       "    </tr>\n",
       "    <tr>\n",
       "      <th>4</th>\n",
       "      <td>11564005688</td>\n",
       "      <td>11564005688</td>\n",
       "      <td>-1</td>\n",
       "      <td>1</td>\n",
       "      <td>50.442544</td>\n",
       "      <td>-44.639395</td>\n",
       "      <td>0.849298</td>\n",
       "      <td>35.554699</td>\n",
       "      <td>104.535225</td>\n",
       "      <td>462.301849</td>\n",
       "      <td>...</td>\n",
       "      <td>2723</td>\n",
       "      <td>1,6</td>\n",
       "      <td>10444</td>\n",
       "      <td>11564005688</td>\n",
       "      <td>24.737686</td>\n",
       "      <td>11976043858493737</td>\n",
       "      <td>0.173813</td>\n",
       "      <td>True</td>\n",
       "      <td>True</td>\n",
       "      <td>True</td>\n",
       "    </tr>\n",
       "  </tbody>\n",
       "</table>\n",
       "<p>5 rows × 25 columns</p>\n",
       "</div>"
      ],
      "text/plain": [
       "            id    id_string  host_galaxy  truth_type         ra        dec  \\\n",
       "0  10940305839  10940305839           -1           1  50.937950 -44.629795   \n",
       "1  10937870093  10937870093           -1           1  50.918450 -44.628441   \n",
       "2  11563663598  11563663598           -1           1  50.622709 -44.633968   \n",
       "3  10938869183  10938869183           -1           1  50.622897 -44.629667   \n",
       "4  11564005688  11564005688           -1           1  50.442544 -44.639395   \n",
       "\n",
       "   redshift       flux_u       flux_g       flux_r  ...  tract  patch  \\\n",
       "0  1.050468  5678.708984  5577.517578  6334.502441  ...   2723    0,6   \n",
       "1  0.474819   146.518021  1341.131714  5984.994629  ...   2723    0,6   \n",
       "2  0.759036   134.074341   272.126617   766.903015  ...   2723    1,6   \n",
       "3  0.808502   932.008118  1224.280762  2598.827148  ...   2723    1,6   \n",
       "4  0.849298    35.554699   104.535225   462.301849  ...   2723    1,6   \n",
       "\n",
       "   cosmodc2_hp  cosmodc2_id      mag_r     match_objectId match_sep  \\\n",
       "0        10321  10940305839  21.895718  11975906419540343  0.118004   \n",
       "1        10321  10937870093  21.957340  11975906419541206  0.059833   \n",
       "2        10444  11563663598  24.188148  11976043858493441  0.205348   \n",
       "3        10321  10938869183  22.863056  11976043858493443  0.154115   \n",
       "4        10444  11564005688  24.737686  11976043858493737  0.173813   \n",
       "\n",
       "   is_good_match  is_nearest_neighbor  is_unique_truth_entry  \n",
       "0          False                 True                   True  \n",
       "1          False                 True                   True  \n",
       "2          False                 True                   True  \n",
       "3          False                 True                   True  \n",
       "4           True                 True                   True  \n",
       "\n",
       "[5 rows x 25 columns]"
      ]
     },
     "execution_count": 16,
     "metadata": {},
     "output_type": "execute_result"
    }
   ],
   "source": [
    "import pandas as pd\n",
    "# truth_catalog = GCRCatalogs.load_catalog('/home/../data/scratch/truth_tract2723.parquet')\n",
    "# default way not working\n",
    "df = pd.read_parquet('/home/../data/scratch/truth_tract2723.parquet')\n",
    "df.head()"
   ]
  },
  {
   "cell_type": "code",
   "execution_count": 17,
   "metadata": {},
   "outputs": [
    {
     "data": {
      "text/plain": [
       "Index(['id', 'id_string', 'host_galaxy', 'truth_type', 'ra', 'dec', 'redshift',\n",
       "       'flux_u', 'flux_g', 'flux_r', 'flux_i', 'flux_z', 'flux_y', 'av', 'rv',\n",
       "       'tract', 'patch', 'cosmodc2_hp', 'cosmodc2_id', 'mag_r',\n",
       "       'match_objectId', 'match_sep', 'is_good_match', 'is_nearest_neighbor',\n",
       "       'is_unique_truth_entry'],\n",
       "      dtype='object')"
      ]
     },
     "execution_count": 17,
     "metadata": {},
     "output_type": "execute_result"
    }
   ],
   "source": [
    "df.columns"
   ]
  },
  {
   "cell_type": "code",
   "execution_count": 20,
   "metadata": {},
   "outputs": [
    {
     "data": {
      "text/plain": [
       "array([1, 2, 3], dtype=int32)"
      ]
     },
     "execution_count": 20,
     "metadata": {},
     "output_type": "execute_result"
    }
   ],
   "source": [
    "df['truth_type'].unique()"
   ]
  },
  {
   "cell_type": "code",
   "execution_count": null,
   "metadata": {},
   "outputs": [],
   "source": []
  }
 ],
 "metadata": {
  "kernelspec": {
   "display_name": "Python 3 (ipykernel)",
   "language": "python",
   "name": "python3"
  },
  "language_info": {
   "codemirror_mode": {
    "name": "ipython",
    "version": 3
   },
   "file_extension": ".py",
   "mimetype": "text/x-python",
   "name": "python",
   "nbconvert_exporter": "python",
   "pygments_lexer": "ipython3",
   "version": "3.10.12"
  }
 },
 "nbformat": 4,
 "nbformat_minor": 2
}

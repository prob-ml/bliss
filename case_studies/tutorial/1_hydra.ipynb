{
 "cells": [
  {
   "cell_type": "code",
   "execution_count": 2,
   "metadata": {},
   "outputs": [],
   "source": [
    "import hydra"
   ]
  },
  {
   "cell_type": "code",
   "execution_count": 3,
   "metadata": {},
   "outputs": [],
   "source": [
    "from hydra import compose, initialize\n",
    "from hydra.utils import instantiate\n",
    "\n",
    "import torch\n",
    "from torch.distributions import Normal\n",
    "\n",
    "import bliss"
   ]
  },
  {
   "cell_type": "code",
   "execution_count": 4,
   "metadata": {},
   "outputs": [],
   "source": [
    "with hydra.initialize(config_path=\"../sdss_galaxies_vae/config\"):\n",
    "     cfg = compose(config_name=\"config\")"
   ]
  },
  {
   "cell_type": "code",
   "execution_count": 5,
   "metadata": {},
   "outputs": [],
   "source": [
    "sdss_galaxies = instantiate(cfg.datasets.sdss_galaxies)"
   ]
  },
  {
   "cell_type": "code",
   "execution_count": 45,
   "metadata": {},
   "outputs": [],
   "source": [
    "single_galaxy = sdss_galaxies[0]"
   ]
  },
  {
   "cell_type": "code",
   "execution_count": 46,
   "metadata": {},
   "outputs": [
    {
     "data": {
      "text/plain": [
       "{'images': tensor([[[871.5154, 881.0474, 866.5347,  ..., 896.2102, 893.0209, 868.8654],\n",
       "          [900.2147, 826.1383, 841.3306,  ..., 822.6338, 853.4723, 828.0758],\n",
       "          [849.4100, 876.9235, 879.3262,  ..., 878.5537, 842.7729, 847.5027],\n",
       "          ...,\n",
       "          [909.4625, 828.2540, 864.3086,  ..., 828.7422, 884.3704, 880.9543],\n",
       "          [795.4750, 847.2101, 892.8957,  ..., 868.5879, 894.1844, 811.3457],\n",
       "          [855.9945, 833.7640, 890.8243,  ..., 850.1759, 887.5254, 866.9784]]]),\n",
       " 'background': tensor([[[865., 865., 865.,  ..., 865., 865., 865.],\n",
       "          [865., 865., 865.,  ..., 865., 865., 865.],\n",
       "          [865., 865., 865.,  ..., 865., 865., 865.],\n",
       "          ...,\n",
       "          [865., 865., 865.,  ..., 865., 865., 865.],\n",
       "          [865., 865., 865.,  ..., 865., 865., 865.],\n",
       "          [865., 865., 865.,  ..., 865., 865., 865.]]]),\n",
       " 'noiseless': tensor([[[0.0002, 0.0002, 0.0002,  ..., 0.0005, 0.0005, 0.0005],\n",
       "          [0.0002, 0.0003, 0.0003,  ..., 0.0006, 0.0006, 0.0006],\n",
       "          [0.0003, 0.0003, 0.0003,  ..., 0.0008, 0.0008, 0.0007],\n",
       "          ...,\n",
       "          [0.0007, 0.0008, 0.0008,  ..., 0.0003, 0.0003, 0.0003],\n",
       "          [0.0006, 0.0006, 0.0006,  ..., 0.0003, 0.0003, 0.0002],\n",
       "          [0.0005, 0.0005, 0.0005,  ..., 0.0002, 0.0002, 0.0002]]]),\n",
       " 'params': tensor([1.1997e+04, 7.2950e-01, 6.1522e+00, 8.7036e-01, 1.5672e+00, 3.7424e-01,\n",
       "         4.5013e-01]),\n",
       " 'snr': 32.124568939208984}"
      ]
     },
     "execution_count": 46,
     "metadata": {},
     "output_type": "execute_result"
    }
   ],
   "source": [
    "single_galaxy"
   ]
  },
  {
   "cell_type": "code",
   "execution_count": 47,
   "metadata": {},
   "outputs": [],
   "source": [
    "from matplotlib import pyplot as plt"
   ]
  },
  {
   "cell_type": "code",
   "execution_count": 48,
   "metadata": {},
   "outputs": [
    {
     "data": {
      "text/plain": [
       "<matplotlib.image.AxesImage at 0x7f717c5366a0>"
      ]
     },
     "execution_count": 48,
     "metadata": {},
     "output_type": "execute_result"
    },
    {
     "data": {
      "image/png": "[encoded data removed]",
      "text/plain": [
       "<Figure size 432x288 with 1 Axes>"
      ]
     },
     "metadata": {
      "needs_background": "light"
     },
     "output_type": "display_data"
    }
   ],
   "source": [
    "plt.imshow(single_galaxy['images'][0])"
   ]
  },
  {
   "cell_type": "code",
   "execution_count": 49,
   "metadata": {},
   "outputs": [
    {
     "data": {
      "text/plain": [
       "<matplotlib.image.AxesImage at 0x7f717c4968b0>"
      ]
     },
     "execution_count": 49,
     "metadata": {},
     "output_type": "execute_result"
    },
    {
     "data": {
      "image/png": "[encoded data removed]",
      "text/plain": [
       "<Figure size 432x288 with 1 Axes>"
      ]
     },
     "metadata": {
      "needs_background": "light"
     },
     "output_type": "display_data"
    }
   ],
   "source": [
    "plt.imshow(single_galaxy['noiseless'][0])"
   ]
  },
  {
   "cell_type": "code",
   "execution_count": 52,
   "metadata": {},
   "outputs": [
    {
     "data": {
      "text/plain": [
       "torch.Size([7])"
      ]
     },
     "execution_count": 52,
     "metadata": {},
     "output_type": "execute_result"
    }
   ],
   "source": [
    "single_galaxy['params'].shape"
   ]
  },
  {
   "cell_type": "code",
   "execution_count": 57,
   "metadata": {},
   "outputs": [],
   "source": [
    "noiseless = sdss_galaxies.decoder.render_galaxy(single_galaxy['params'])"
   ]
  },
  {
   "cell_type": "code",
   "execution_count": 59,
   "metadata": {},
   "outputs": [
    {
     "data": {
      "text/plain": [
       "<matplotlib.image.AxesImage at 0x7f717c11b7f0>"
      ]
     },
     "execution_count": 59,
     "metadata": {},
     "output_type": "execute_result"
    },
    {
     "data": {
      "image/png": "[encoded data removed]",
      "text/plain": [
       "<Figure size 432x288 with 1 Axes>"
      ]
     },
     "metadata": {
      "needs_background": "light"
     },
     "output_type": "display_data"
    }
   ],
   "source": [
    "plt.imshow(noiseless[0])"
   ]
  },
  {
   "cell_type": "code",
   "execution_count": null,
   "metadata": {},
   "outputs": [],
   "source": []
  }
 ],
 "metadata": {
  "kernelspec": {
   "display_name": "Python 3 (ipykernel)",
   "language": "python",
   "name": "python3"
  },
  "language_info": {
   "codemirror_mode": {
    "name": "ipython",
    "version": 3
   },
   "file_extension": ".py",
   "mimetype": "text/x-python",
   "name": "python",
   "nbconvert_exporter": "python",
   "pygments_lexer": "ipython3",
   "version": "3.8.10"
  }
 },
 "nbformat": 4,
 "nbformat_minor": 2
}

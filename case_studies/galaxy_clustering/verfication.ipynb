{
 "cells": [
  {
   "cell_type": "code",
   "execution_count": 79,
   "metadata": {},
   "outputs": [],
   "source": [
    "import numpy as np\n",
    "from PIL import Image\n",
    "import matplotlib.pyplot as plt\n",
    "import random\n",
    "import os\n",
    "os.environ['CUDA_VISIBLE_DEVICES'] = ''\n",
    "def generate_points_within_circle_with_boundary_check(center_x, center_y, radius, n_points, width, height):\n",
    "    points_x, points_y = [], []\n",
    "    while len(points_x) < n_points:\n",
    "        # Generate a single point\n",
    "        angle = np.random.uniform(0, 2 * np.pi)\n",
    "        r = np.random.uniform(0, radius)\n",
    "        x = center_x + r * np.cos(angle)\n",
    "        y = center_y + r * np.sin(angle)\n",
    "        \n",
    "        # Check if the point is within the image boundary\n",
    "        if 0 <= x < width and 0 <= y < height:\n",
    "            points_x.append(x)\n",
    "            points_y.append(y)\n",
    "    \n",
    "    return np.array(points_x), np.array(points_y)\n",
    "\n",
    "# Parameters\n",
    "def generate_image():\n",
    "    n_circle_points = int(random.random()*20 + 40)\n",
    "    n_random_points = int(random.random()*40 + 100)\n",
    "    center_x = random.random()*80 + 20\n",
    "    center_y = random.random()*80 + 60\n",
    "    radius = random.random()*10 + 20\n",
    "    width = 200\n",
    "    height = 200\n",
    "    # Generate points within a circle\n",
    "    circle_points_x, circle_points_y = generate_points_within_circle_with_boundary_check(center_x, center_y, radius, n_circle_points, width, height)\n",
    "\n",
    "    # Generate random points\n",
    "    random_points_x, random_points_y = np.random.randint(0, width, n_random_points), np.random.randint(0, height, n_random_points)\n",
    "\n",
    "    # Combine points\n",
    "    points_x = np.concatenate((random_points_x, circle_points_x))\n",
    "    points_y = np.concatenate((random_points_y, circle_points_y))\n",
    "\n",
    "    # Create a new blank image\n",
    "    image = np.zeros((width, height))\n",
    "\n",
    "    # Mark points on the image\n",
    "    for x, y in zip(points_x.astype(int), points_y.astype(int)):\n",
    "        image[y, x] = 255  # Note the order of indices (y, x) for correct orientation\n",
    "\n",
    "    # Convert to PIL image for better handling\n",
    "    label = [center_x / width, center_y / height]\n",
    "    return Image.fromarray(image).convert('RGB'), label\n",
    "\n"
   ]
  },
  {
   "cell_type": "code",
   "execution_count": 80,
   "metadata": {},
   "outputs": [],
   "source": [
    "from keras.applications.resnet50 import ResNet50\n",
    "from keras.models import Model\n",
    "from keras.layers import Dense, GlobalAveragePooling2D\n",
    "\n",
    "# Load ResNet50 without the top layer\n",
    "from keras.models import Sequential\n",
    "from keras.layers import Conv2D, MaxPooling2D, Flatten, Dense, BatchNormalization, Dropout\n",
    "\n",
    "model = Sequential([\n",
    "    Conv2D(64, (3, 3), activation='relu', input_shape=(200, 200, 3)),\n",
    "    BatchNormalization(),\n",
    "    MaxPooling2D((2, 2)),\n",
    "    \n",
    "    Conv2D(128, (3, 3), activation='relu'),\n",
    "    BatchNormalization(),\n",
    "    MaxPooling2D((2, 2)),\n",
    "    Dropout(0.25),\n",
    "    \n",
    "    Conv2D(256, (3, 3), activation='relu'),\n",
    "    BatchNormalization(),\n",
    "    MaxPooling2D((2, 2)),\n",
    "    Dropout(0.25),\n",
    "    \n",
    "    Conv2D(512, (3, 3), activation='relu'),\n",
    "    BatchNormalization(),\n",
    "    MaxPooling2D((2, 2)),\n",
    "    Dropout(0.5),\n",
    "    \n",
    "    Flatten(),\n",
    "    \n",
    "    Dense(512, activation='relu'),\n",
    "    BatchNormalization(),\n",
    "    Dropout(0.5),\n",
    "    \n",
    "    Dense(2, activation='linear')  # Output layer for the x and y coordinates\n",
    "])\n",
    "\n",
    "model.compile(optimizer='adam', loss='mean_absolute_error')"
   ]
  },
  {
   "cell_type": "code",
   "execution_count": 81,
   "metadata": {},
   "outputs": [
    {
     "name": "stdout",
     "output_type": "stream",
     "text": [
      "Epoch 1/10\n",
      "100/100 [==============================] - 166s 2s/step - loss: 0.9673 - val_loss: 3.2461\n",
      "Epoch 2/10\n",
      " 65/100 [==================>...........] - ETA: 50s - loss: 0.4321"
     ]
    }
   ],
   "source": [
    "from keras.preprocessing.image import img_to_array\n",
    "from sklearn.model_selection import train_test_split\n",
    "import numpy as np\n",
    "\n",
    "def generate_batch(batch_size):\n",
    "    while True:  # Generator loop\n",
    "        batch_images = []\n",
    "        batch_labels = []\n",
    "        for _ in range(batch_size):\n",
    "            image, label = generate_image()  # Use the function defined earlier\n",
    "            image = img_to_array(image.resize((200, 200)))  # Resize if necessary and convert to array\n",
    "            batch_images.append(image)\n",
    "            batch_labels.append(label)\n",
    "        yield (np.array(batch_images), np.array(batch_labels))\n",
    "\n",
    "# Define batch size and steps per epoch\n",
    "batch_size = 32\n",
    "steps_per_epoch = 100  # Adjust based on your dataset size\n",
    "\n",
    "# Create generators\n",
    "train_generator = generate_batch(batch_size)\n",
    "validation_generator = generate_batch(batch_size)  # Ideally, you separate training and validation data\n",
    "\n",
    "# Train the model\n",
    "model.fit(train_generator,\n",
    "          steps_per_epoch=steps_per_epoch,\n",
    "          epochs=10,  # Number of epochs to train for\n",
    "          validation_data=validation_generator,\n",
    "          validation_steps=50)  # Adjust based on your validation dataset size"
   ]
  },
  {
   "cell_type": "code",
   "execution_count": 66,
   "metadata": {},
   "outputs": [
    {
     "name": "stdout",
     "output_type": "stream",
     "text": [
      "1/1 [==============================] - 0s 97ms/step\n"
     ]
    },
    {
     "data": {
      "text/plain": [
       "array([[0.48950592, 0.8095354 ],\n",
       "       [0.7567286 , 0.60947925],\n",
       "       [0.4722027 , 0.41250858],\n",
       "       [0.30604964, 0.7632363 ]], dtype=float32)"
      ]
     },
     "execution_count": 66,
     "metadata": {},
     "output_type": "execute_result"
    }
   ],
   "source": [
    "images = []\n",
    "labels = []\n",
    "for i in range(4):\n",
    "    image, label = generate_image()\n",
    "    images.append(img_to_array(image.resize((200, 200))))\n",
    "    labels.append(label)\n",
    "model.predict(np.array(images))"
   ]
  },
  {
   "cell_type": "code",
   "execution_count": 67,
   "metadata": {},
   "outputs": [],
   "source": [
    "def visul(images, labels, model):\n",
    "    index = 0\n",
    "    plt.imshow(images[index])\n",
    "    plt.scatter(labels[index][0]*200, labels[index][1]*200, color='green', s=100, marker='x', label='Real Center')\n",
    "    prediction = model.predict(np.array(images))[index]\n",
    "    plt.scatter(prediction[0]*200, prediction[1]*200, color='red', s=100, marker='x', label='Predicated Center')\n",
    "    plt.legend()\n",
    "    plt.show()"
   ]
  },
  {
   "cell_type": "code",
   "execution_count": 77,
   "metadata": {},
   "outputs": [
    {
     "name": "stderr",
     "output_type": "stream",
     "text": [
      "Clipping input data to the valid range for imshow with RGB data ([0..1] for floats or [0..255] for integers).\n"
     ]
    },
    {
     "name": "stdout",
     "output_type": "stream",
     "text": [
      "1/1 [==============================] - 0s 33ms/step\n"
     ]
    },
    {
     "data": {
      "image/png": "[encoded data removed]",
      "text/plain": [
       "<Figure size 640x480 with 1 Axes>"
      ]
     },
     "metadata": {},
     "output_type": "display_data"
    }
   ],
   "source": [
    "images = []\n",
    "labels = []\n",
    "for i in range(4):\n",
    "    image, label = generate_image()\n",
    "    images.append(img_to_array(image.resize((200, 200))))\n",
    "    labels.append(label)\n",
    "visul(images, labels, model)"
   ]
  }
 ],
 "metadata": {
  "kernelspec": {
   "display_name": ".venv",
   "language": "python",
   "name": "python3"
  },
  "language_info": {
   "codemirror_mode": {
    "name": "ipython",
    "version": 3
   },
   "file_extension": ".py",
   "mimetype": "text/x-python",
   "name": "python",
   "nbconvert_exporter": "python",
   "pygments_lexer": "ipython3",
   "version": "3.10.12"
  }
 },
 "nbformat": 4,
 "nbformat_minor": 2
}

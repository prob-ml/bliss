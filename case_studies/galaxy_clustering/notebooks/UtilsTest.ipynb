{
 "cells": [
  {
   "cell_type": "code",
   "execution_count": 1,
   "metadata": {},
   "outputs": [],
   "source": [
    "%load_ext autoreload\n",
    "%autoreload 2"
   ]
  },
  {
   "cell_type": "code",
   "execution_count": 9,
   "metadata": {},
   "outputs": [],
   "source": [
    "import case_studies.galaxy_clustering.cluster_utils as cluster\n",
    "from astropy import units as units\n",
    "from hmf import MassFunction\n",
    "import numpy as np"
   ]
  },
  {
   "cell_type": "code",
   "execution_count": 27,
   "metadata": {},
   "outputs": [
    {
     "data": {
      "text/latex": [
       "$1 \\times 10^{15} \\; \\mathrm{M_{\\odot}}$"
      ],
      "text/plain": [
       "<Quantity 1.e+15 solMass>"
      ]
     },
     "execution_count": 27,
     "metadata": {},
     "output_type": "execute_result"
    }
   ],
   "source": [
    "SOLAR_MASS = 1.989 * 10**30 * units.kg\n",
    "M200 = 1e15 * units.solMass\n",
    "M200"
   ]
  },
  {
   "cell_type": "code",
   "execution_count": 28,
   "metadata": {},
   "outputs": [
    {
     "data": {
      "text/latex": [
       "$472.35497 \\; \\mathrm{}$"
      ],
      "text/plain": [
       "<Quantity 472.35496837>"
      ]
     },
     "execution_count": 28,
     "metadata": {},
     "output_type": "execute_result"
    }
   ],
   "source": [
    "cluster.m200_to_n200(M200)"
   ]
  },
  {
   "cell_type": "code",
   "execution_count": 14,
   "metadata": {},
   "outputs": [],
   "source": [
    "mass_min = (10**14.5) * SOLAR_MASS\n",
    "mass_max = (10**15.5) * SOLAR_MASS\n",
    "\n",
    "def sample_mass():\n",
    "    hmf = MassFunction()\n",
    "    hmf.update(Mmin=14.5, Mmax=15.5)\n",
    "    mass_func = hmf.dndlnm\n",
    "    delta_mass = mass_max - mass_min\n",
    "    index = np.random.randint(0, len(mass_func))\n",
    "    prob = (mass_func / sum(mass_func))[index]\n",
    "    while(True):\n",
    "        if np.random.random() < prob:\n",
    "            sample_mass_index = (index + np.random.random()) / len(mass_func)\n",
    "            return mass_min + (sample_mass_index * delta_mass)"
   ]
  },
  {
   "cell_type": "code",
   "execution_count": 30,
   "metadata": {},
   "outputs": [
    {
     "data": {
      "text/latex": [
       "$2.0523471 \\times 10^{15} \\; \\mathrm{M_{\\odot}}$"
      ],
      "text/plain": [
       "<Quantity 2.05234706e+15 solMass>"
      ]
     },
     "execution_count": 30,
     "metadata": {},
     "output_type": "execute_result"
    }
   ],
   "source": [
    "sample_mass().to(units.solMass)"
   ]
  },
  {
   "cell_type": "code",
   "execution_count": 31,
   "metadata": {},
   "outputs": [],
   "source": [
    "from astropy.cosmology.realizations import WMAP7"
   ]
  },
  {
   "cell_type": "code",
   "execution_count": 34,
   "metadata": {},
   "outputs": [
    {
     "data": {
      "text/latex": [
       "$1.7278286 \\times 10^{-29} \\; \\mathrm{\\frac{g}{cm^{3}}}$"
      ],
      "text/plain": [
       "<Quantity 1.72782856e-29 g / cm3>"
      ]
     },
     "execution_count": 34,
     "metadata": {},
     "output_type": "execute_result"
    }
   ],
   "source": [
    "z = 0.6064\n",
    "WMAP7.critical_density(z)"
   ]
  },
  {
   "cell_type": "code",
   "execution_count": 36,
   "metadata": {},
   "outputs": [
    {
     "data": {
      "text/latex": [
       "$1.7888692 \\times 10^{-29} \\; \\mathrm{\\frac{g}{cm^{3}}}$"
      ],
      "text/plain": [
       "<Quantity 1.78886923e-29 g / cm3>"
      ]
     },
     "execution_count": 36,
     "metadata": {},
     "output_type": "execute_result"
    }
   ],
   "source": [
    "cluster.critical_density(z).to(units.g / units.cm**3)"
   ]
  },
  {
   "cell_type": "code",
   "execution_count": 37,
   "metadata": {},
   "outputs": [
    {
     "data": {
      "text/latex": [
       "$9.3 \\times 10^{13} \\; \\mathrm{M_{\\odot}}$"
      ],
      "text/plain": [
       "<Quantity 9.3e+13 solMass>"
      ]
     },
     "execution_count": 37,
     "metadata": {},
     "output_type": "execute_result"
    }
   ],
   "source": [
    "M500 = 0.93 * 1e14 * units.solMass\n",
    "M500"
   ]
  },
  {
   "cell_type": "code",
   "execution_count": 42,
   "metadata": {},
   "outputs": [
    {
     "data": {
      "text/latex": [
       "$1.287574 \\times 10^{14} \\; \\mathrm{M_{\\odot}}$"
      ],
      "text/plain": [
       "<Quantity 1.28757402e+14 solMass>"
      ]
     },
     "execution_count": 42,
     "metadata": {},
     "output_type": "execute_result"
    }
   ],
   "source": [
    "cluster.m500_to_m200(M500.value, z) * units.solMass"
   ]
  },
  {
   "cell_type": "code",
   "execution_count": null,
   "metadata": {},
   "outputs": [],
   "source": []
  }
 ],
 "metadata": {
  "kernelspec": {
   "display_name": ".venv",
   "language": "python",
   "name": "python3"
  },
  "language_info": {
   "codemirror_mode": {
    "name": "ipython",
    "version": 3
   },
   "file_extension": ".py",
   "mimetype": "text/x-python",
   "name": "python",
   "nbconvert_exporter": "python",
   "pygments_lexer": "ipython3",
   "version": "3.10.12"
  }
 },
 "nbformat": 4,
 "nbformat_minor": 2
}

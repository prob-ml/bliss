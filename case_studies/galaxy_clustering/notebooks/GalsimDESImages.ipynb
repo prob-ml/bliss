{
 "cells": [
  {
   "cell_type": "code",
   "execution_count": 1,
   "metadata": {},
   "outputs": [],
   "source": [
    "from astropy.io import fits\n",
    "import os\n",
    "from pathlib import Path\n",
    "import random\n",
    "import pandas as pd\n",
    "from astropy.visualization import make_lupton_rgb\n",
    "from astropy.io import fits\n",
    "from matplotlib.colors import LogNorm\n",
    "import matplotlib.pyplot as plt\n",
    "import numpy as np\n",
    "from astropy.io import ascii as astro_ascii\n",
    "from astropy.table import Table\n",
    "import subprocess"
   ]
  },
  {
   "cell_type": "code",
   "execution_count": null,
   "metadata": {},
   "outputs": [],
   "source": [
    "DES_DIR = Path(\n",
    "    \"/nfs/turbo/lsa-regier/scratch/gapatron/desdr-server.ncsa.illinois.edu/despublic/dr2_tiles/\"\n",
    ")\n",
    "DES_SUBDIR = os.listdir(DES_DIR)[0]\n",
    "DES_SUBDIR"
   ]
  },
  {
   "cell_type": "code",
   "execution_count": null,
   "metadata": {},
   "outputs": [],
   "source": [
    "main_path = DES_DIR / Path(DES_SUBDIR) / Path(f\"{DES_SUBDIR}_dr2_main.fits\")\n",
    "flux_path = DES_DIR / Path(DES_SUBDIR) / Path(f\"{DES_SUBDIR}_dr2_flux.fits\")\n",
    "main_data = fits.getdata(main_path)\n",
    "main_df = pd.DataFrame(main_data)\n",
    "flux_data = fits.getdata(flux_path)\n",
    "flux_df = pd.DataFrame(flux_data)\n",
    "full_df = pd.merge(\n",
    "    main_df, flux_df, left_on=\"COADD_OBJECT_ID\", right_on=\"COADD_OBJECT_ID\", how=\"left\"\n",
    ")\n",
    "full_df"
   ]
  },
  {
   "cell_type": "code",
   "execution_count": 4,
   "metadata": {},
   "outputs": [],
   "source": [
    "fluxes = np.array(\n",
    "            full_df[\n",
    "                [\n",
    "                    \"FLUX_AUTO_G_x\",\n",
    "                    \"FLUX_AUTO_R_x\",\n",
    "                    \"FLUX_AUTO_I_x\",\n",
    "                    \"FLUX_AUTO_Z_x\",\n",
    "                ]\n",
    "            ]\n",
    "        )\n",
    "\n",
    "fluxes *= (fluxes > 0)\n",
    "\n",
    "hlrs = 0.263 * np.array(full_df[\"FLUX_RADIUS_R\"])\n",
    "hlrs = 1e-4 + hlrs * (hlrs > 0)\n",
    "a = np.array(full_df[\"A_IMAGE\"])\n",
    "b = np.array(full_df[\"B_IMAGE\"])\n",
    "g = (a - b) / (a + b)\n",
    "angle = np.arctan(b / a)\n",
    "g1 = g * np.cos(angle)\n",
    "g2 = g * np.sin(angle)\n"
   ]
  },
  {
   "cell_type": "code",
   "execution_count": 5,
   "metadata": {},
   "outputs": [],
   "source": [
    "mock_catalog = pd.DataFrame()\n",
    "mock_catalog[\"RA\"] = np.array(full_df[\"ALPHAWIN_J2000_x\"])\n",
    "mock_catalog[\"DEC\"] = np.array(full_df[\"DEC_x\"])\n",
    "mock_catalog[\"X\"] = np.array(full_df[\"XWIN_IMAGE_R\"])\n",
    "mock_catalog[\"Y\"] = np.array(full_df[\"YWIN_IMAGE_R\"])\n",
    "mock_catalog[\"MEM\"] = 0\n",
    "mock_catalog[\"FLUX_R\"] = fluxes[:, 1]\n",
    "mock_catalog[\"FLUX_G\"] = fluxes[:, 0]\n",
    "mock_catalog[\"FLUX_I\"] = fluxes[:, 2]\n",
    "mock_catalog[\"FLUX_Z\"] = fluxes[:, 3]\n",
    "mock_catalog[\"HLR\"] = hlrs\n",
    "mock_catalog[\"FRACDEV\"] = 0\n",
    "mock_catalog[\"G1\"] = g1\n",
    "mock_catalog[\"G2\"] = g2\n",
    "mock_catalog[\"Z\"] = 0\n",
    "mock_catalog[\"SOURCE_TYPE\"] = 0"
   ]
  },
  {
   "cell_type": "code",
   "execution_count": 7,
   "metadata": {},
   "outputs": [],
   "source": [
    "DATA_PATH = \"/home/kapnadak/bliss/case_studies/galaxy_clustering/test_des_data\"\n",
    "CATALOG_PATH = os.path.join(DATA_PATH, \"catalogs\")\n",
    "if not os.path.exists(CATALOG_PATH):\n",
    "    os.makedirs(CATALOG_PATH)\n",
    "\n",
    "file_ext = \"test_des_000.dat\"\n",
    "file_name = f\"{CATALOG_PATH}/{file_ext}\"\n",
    "catalog_table = Table.from_pandas(mock_catalog)\n",
    "astro_ascii.write(catalog_table, file_name, format=\"no_header\", overwrite=True)"
   ]
  },
  {
   "cell_type": "code",
   "execution_count": null,
   "metadata": {},
   "outputs": [],
   "source": [
    "image_size = 10000\n",
    "nfiles = 1\n",
    "data_dir = DATA_PATH\n",
    "input_dir = f\"{data_dir}/catalogs\"\n",
    "output_dir = f\"{data_dir}/images\"\n",
    "output_ext = \"test_des_000_g.fits\"\n",
    "psf_dir = \"/nfs/turbo/lsa-regier/scratch/gapatron/psf-models/dr2_tiles_reformatted/gband\"\n",
    "psf_file = \"galsim_des_000_g.psf\"\n",
    "args = []\n",
    "GALSIM_PATH = \"/home/kapnadak/bliss/case_studies/galaxy_clustering/data_generation/custom-single-image-galsim.yaml\"\n",
    "args.append(\"galsim\")\n",
    "args.append(f\"{GALSIM_PATH}\")\n",
    "args.append(f\"variables.image_size={image_size}\")\n",
    "args.append(f\"variables.nfiles={nfiles}\")\n",
    "args.append(f\"variables.input_dir={input_dir}\")\n",
    "args.append(f\"variables.input_file={file_ext}\")\n",
    "args.append(f\"variables.output_dir={output_dir}\")\n",
    "args.append(f\"variables.output_file={output_ext}\")\n",
    "args.append(f\"variables.psf_dir={psf_dir}\")\n",
    "args.append(f\"variables.psf_file={psf_file}\")\n",
    "subprocess.run(args, shell=False, check=False)"
   ]
  },
  {
   "cell_type": "code",
   "execution_count": null,
   "metadata": {},
   "outputs": [],
   "source": []
  }
 ],
 "metadata": {
  "kernelspec": {
   "display_name": ".venv",
   "language": "python",
   "name": "python3"
  },
  "language_info": {
   "codemirror_mode": {
    "name": "ipython",
    "version": 3
   },
   "file_extension": ".py",
   "mimetype": "text/x-python",
   "name": "python",
   "nbconvert_exporter": "python",
   "pygments_lexer": "ipython3",
   "version": "3.10.12"
  }
 },
 "nbformat": 4,
 "nbformat_minor": 2
}

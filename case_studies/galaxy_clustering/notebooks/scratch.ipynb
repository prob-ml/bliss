{
 "cells": [
  {
   "cell_type": "code",
   "execution_count": 2,
   "metadata": {},
   "outputs": [],
   "source": [
    "import torch\n",
    "import numpy as np\n",
    "import os\n",
    "import random\n",
    "import pandas as pd\n",
    "from astropy.io import fits\n",
    "from case_studies.galaxy_clustering.utils import diagnostics\n",
    "import matplotlib.pyplot as plt\n",
    "from astropy.visualization import make_lupton_rgb\n",
    "from astropy.io import fits\n",
    "from matplotlib.colors import LogNorm\n",
    "import matplotlib.pyplot as plt\n",
    "from astropy.table import Table"
   ]
  },
  {
   "cell_type": "code",
   "execution_count": 13,
   "metadata": {},
   "outputs": [],
   "source": [
    "image_g = fits.getdata(\"/data/scratch/des/new_psf_data/galsim_des_000_g.fits\")\n",
    "image_r = fits.getdata(\"/data/scratch/des/new_psf_data/galsim_des_000_r.fits\")\n",
    "image_i = fits.getdata(\"/data/scratch/des/new_psf_data/galsim_des_000_i.fits\")"
   ]
  },
  {
   "cell_type": "code",
   "execution_count": null,
   "metadata": {},
   "outputs": [],
   "source": [
    "image_g.shape"
   ]
  },
  {
   "cell_type": "code",
   "execution_count": null,
   "metadata": {},
   "outputs": [],
   "source": [
    "rgb_default = make_lupton_rgb(image_i, image_r, image_g)\n",
    "plt.figure(figsize=(10,10))\n",
    "plt.imshow(rgb_default)"
   ]
  },
  {
   "cell_type": "code",
   "execution_count": 16,
   "metadata": {},
   "outputs": [],
   "source": [
    "image_g = fits.getdata(\"/data/scratch/des/piff_test_data/images/galsim_des_000_g.fits\")\n",
    "image_r = fits.getdata(\"/data/scratch/des/piff_test_data/images/galsim_des_000_r.fits\")\n",
    "image_i = fits.getdata(\"/data/scratch/des/piff_test_data/images/galsim_des_000_i.fits\")"
   ]
  },
  {
   "cell_type": "code",
   "execution_count": null,
   "metadata": {},
   "outputs": [],
   "source": [
    "rgb_default = make_lupton_rgb(image_i, image_r, image_g)\n",
    "plt.figure(figsize=(10,10))\n",
    "plt.imshow(rgb_default)"
   ]
  },
  {
   "cell_type": "code",
   "execution_count": 2,
   "metadata": {},
   "outputs": [],
   "source": [
    "import os"
   ]
  },
  {
   "cell_type": "code",
   "execution_count": null,
   "metadata": {},
   "outputs": [],
   "source": [
    "DES_PATH = \"/nfs/turbo/lsa-regier/scratch/gapatron/psf-models/dr2_tiles\"\n",
    "DES_TILES = os.listdir(\"/nfs/turbo/lsa-regier/scratch/gapatron/psf-models/dr2_tiles\")\n",
    "for DES_TILE_PATH in DES_TILES:\n",
    "    files = os.listdir(f\"{DES_PATH}/{DES_TILE_PATH}\")\n",
    "    print(files)\n",
    "    break"
   ]
  },
  {
   "cell_type": "code",
   "execution_count": 12,
   "metadata": {},
   "outputs": [],
   "source": [
    "NEW_DES_PATH =  \"/nfs/turbo/lsa-regier/scratch/gapatron/psf-models/dr2_tiles_reformatted\"\n",
    "os.mkdir(NEW_DES_PATH)"
   ]
  },
  {
   "cell_type": "code",
   "execution_count": 13,
   "metadata": {},
   "outputs": [],
   "source": [
    "NEW_DES_R_PATH =  \"/nfs/turbo/lsa-regier/scratch/gapatron/psf-models/dr2_tiles_reformatted/rband\"\n",
    "NEW_DES_G_PATH =  \"/nfs/turbo/lsa-regier/scratch/gapatron/psf-models/dr2_tiles_reformatted/gband\"\n",
    "NEW_DES_I_PATH =  \"/nfs/turbo/lsa-regier/scratch/gapatron/psf-models/dr2_tiles_reformatted/iband\"\n",
    "NEW_DES_Z_PATH =  \"/nfs/turbo/lsa-regier/scratch/gapatron/psf-models/dr2_tiles_reformatted/zband\"\n",
    "\n",
    "os.mkdir(NEW_DES_G_PATH)\n",
    "os.mkdir(NEW_DES_R_PATH)\n",
    "os.mkdir(NEW_DES_I_PATH)\n",
    "os.mkdir(NEW_DES_Z_PATH)"
   ]
  },
  {
   "cell_type": "code",
   "execution_count": null,
   "metadata": {},
   "outputs": [],
   "source": [
    "import shutil\n",
    "for i, DES_TILE_PATH in enumerate(DES_TILES):\n",
    "    files = os.listdir(f\"{DES_PATH}/{DES_TILE_PATH}\")\n",
    "    rpsf = [file for file in files if file.endswith(\"r_nobkg.psf\")][0]\n",
    "    source_file = f\"{DES_PATH}/{DES_TILE_PATH}/{rpsf}\"\n",
    "    dest_file = f\"{NEW_DES_R_PATH}/galsim_des_{i:03d}_r.psf\"\n",
    "    shutil.copy(source_file, dest_file)\n",
    "    print(f\"Directory {i} done!\")"
   ]
  },
  {
   "cell_type": "code",
   "execution_count": null,
   "metadata": {},
   "outputs": [],
   "source": [
    "import shutil\n",
    "for i, DES_TILE_PATH in enumerate(DES_TILES):\n",
    "    files = os.listdir(f\"{DES_PATH}/{DES_TILE_PATH}\")\n",
    "    gpsf = [file for file in files if file.endswith(\"g_nobkg.psf\")][0]\n",
    "    source_file = f\"{DES_PATH}/{DES_TILE_PATH}/{gpsf}\"\n",
    "    dest_file = f\"{NEW_DES_G_PATH}/galsim_des_{i:03d}_g.psf\"\n",
    "    shutil.copy(source_file, dest_file)\n",
    "    print(f\"Directory {i} done!\")"
   ]
  },
  {
   "cell_type": "code",
   "execution_count": null,
   "metadata": {},
   "outputs": [],
   "source": [
    "import shutil\n",
    "for i, DES_TILE_PATH in enumerate(DES_TILES):\n",
    "    files = os.listdir(f\"{DES_PATH}/{DES_TILE_PATH}\")\n",
    "    ipsf = [file for file in files if file.endswith(\"i_nobkg.psf\")][0]\n",
    "    source_file = f\"{DES_PATH}/{DES_TILE_PATH}/{ipsf}\"\n",
    "    dest_file = f\"{NEW_DES_I_PATH}/galsim_des_{i:03d}_i.psf\"\n",
    "    shutil.copy(source_file, dest_file)\n",
    "    print(f\"Directory {i} done!\")"
   ]
  },
  {
   "cell_type": "code",
   "execution_count": null,
   "metadata": {},
   "outputs": [],
   "source": [
    "import shutil\n",
    "for i, DES_TILE_PATH in enumerate(DES_TILES):\n",
    "    files = os.listdir(f\"{DES_PATH}/{DES_TILE_PATH}\")\n",
    "    zpsf = [file for file in files if file.endswith(\"z_nobkg.psf\")][0]\n",
    "    source_file = f\"{DES_PATH}/{DES_TILE_PATH}/{zpsf}\"\n",
    "    dest_file = f\"{NEW_DES_Z_PATH}/galsim_des_{i:03d}_z.psf\"\n",
    "    shutil.copy(source_file, dest_file)\n",
    "    print(f\"Directory {i} done!\")"
   ]
  },
  {
   "cell_type": "code",
   "execution_count": null,
   "metadata": {},
   "outputs": [],
   "source": [
    "source_directory = \"/nfs/turbo/lsa-regier/scratch/gapatron/psf-models/dr2_tiles_reformatted/gband\"\n",
    "files = os.listdir(source_directory)\n",
    "num_files = len(files)\n",
    "for i, file in enumerate(files):\n",
    "    og_path = f\"{source_directory}/{file}\"\n",
    "    for j in range(5):\n",
    "        new_index = (j+1) * num_files + i\n",
    "        filename = f\"galsim_des_{new_index:03d}_g.psf\"\n",
    "        new_file_path = f\"{source_directory}/{filename}\"\n",
    "        shutil.copy(og_path, new_file_path)\n",
    "    print(f\"Made copies of file {i}\")"
   ]
  },
  {
   "cell_type": "code",
   "execution_count": null,
   "metadata": {},
   "outputs": [],
   "source": [
    "source_directory = \"/nfs/turbo/lsa-regier/scratch/gapatron/psf-models/dr2_tiles_reformatted/rband\"\n",
    "files = os.listdir(source_directory)\n",
    "num_files = len(files)\n",
    "for i, file in enumerate(files):\n",
    "    og_path = f\"{source_directory}/{file}\"\n",
    "    for j in range(5):\n",
    "        new_index = (j+1) * num_files + i\n",
    "        filename = f\"galsim_des_{new_index:03d}_r.psf\"\n",
    "        new_file_path = f\"{source_directory}/{filename}\"\n",
    "        shutil.copy(og_path, new_file_path)\n",
    "    print(f\"Made copies of file {i}\")"
   ]
  },
  {
   "cell_type": "code",
   "execution_count": null,
   "metadata": {},
   "outputs": [],
   "source": [
    "source_directory = \"/nfs/turbo/lsa-regier/scratch/gapatron/psf-models/dr2_tiles_reformatted/iband\"\n",
    "files = os.listdir(source_directory)\n",
    "num_files = len(files)\n",
    "for i, file in enumerate(files):\n",
    "    og_path = f\"{source_directory}/{file}\"\n",
    "    for j in range(5):\n",
    "        new_index = (j+1) * num_files + i\n",
    "        filename = f\"galsim_des_{new_index:03d}_i.psf\"\n",
    "        new_file_path = f\"{source_directory}/{filename}\"\n",
    "        shutil.copy(og_path, new_file_path)\n",
    "    print(f\"Made copies of file {i}\")"
   ]
  },
  {
   "cell_type": "code",
   "execution_count": null,
   "metadata": {},
   "outputs": [],
   "source": [
    "source_directory = \"/nfs/turbo/lsa-regier/scratch/gapatron/psf-models/dr2_tiles_reformatted/zband\"\n",
    "files = os.listdir(source_directory)\n",
    "num_files = len(files)\n",
    "for i, file in enumerate(files):\n",
    "    og_path = f\"{source_directory}/{file}\"\n",
    "    for j in range(5):\n",
    "        new_index = (j+1) * num_files + i\n",
    "        filename = f\"galsim_des_{new_index:03d}_z.psf\"\n",
    "        new_file_path = f\"{source_directory}/{filename}\"\n",
    "        shutil.copy(og_path, new_file_path)\n",
    "    print(f\"Made copies of file {i}\")"
   ]
  },
  {
   "cell_type": "code",
   "execution_count": null,
   "metadata": {},
   "outputs": [],
   "source": []
  }
 ],
 "metadata": {
  "kernelspec": {
   "display_name": ".venv",
   "language": "python",
   "name": "python3"
  },
  "language_info": {
   "codemirror_mode": {
    "name": "ipython",
    "version": 3
   },
   "file_extension": ".py",
   "mimetype": "text/x-python",
   "name": "python",
   "nbconvert_exporter": "python",
   "pygments_lexer": "ipython3",
   "version": "3.10.12"
  }
 },
 "nbformat": 4,
 "nbformat_minor": 2
}

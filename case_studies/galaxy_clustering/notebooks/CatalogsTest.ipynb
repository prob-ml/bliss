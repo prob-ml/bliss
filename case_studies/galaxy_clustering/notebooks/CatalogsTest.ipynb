{
 "cells": [
  {
   "cell_type": "code",
   "execution_count": 1,
   "metadata": {},
   "outputs": [],
   "source": [
    "%load_ext autoreload\n",
    "%autoreload 2"
   ]
  },
  {
   "cell_type": "code",
   "execution_count": 9,
   "metadata": {},
   "outputs": [],
   "source": [
    "import os\n",
    "from pathlib import Path\n",
    "from typing import List\n",
    "\n",
    "import torch\n",
    "import pandas as pd\n",
    "import numpy as np\n",
    "\n",
    "from hydra import initialize, compose\n",
    "from hydra.utils import instantiate\n",
    "from omegaconf import DictConfig, OmegaConf\n",
    "\n",
    "import matplotlib.pyplot as plt\n",
    "\n",
    "from bliss.simulator.simulated_dataset import CachedSimulatedDataset, FileDatum\n"
   ]
  },
  {
   "cell_type": "code",
   "execution_count": 5,
   "metadata": {},
   "outputs": [],
   "source": [
    "with initialize(config_path=\"../\", version_base=None):\n",
    "    cfg = compose(\"config\", overrides={\"surveys.sdss.load_image_data=true\"})"
   ]
  },
  {
   "cell_type": "code",
   "execution_count": 6,
   "metadata": {},
   "outputs": [
    {
     "data": {
      "text/plain": [
       "{'_target_': 'case_studies.galaxy_clustering.prior.GalaxyClusterPrior', 'survey_bands': ['u', 'g', 'r', 'i', 'z'], 'reference_band': 2, 'star_color_model_path': '${simulator.survey.dir_path}/color_models/star_gmm_nmgy.pkl', 'gal_color_model_path': '${simulator.survey.dir_path}/color_models/gal_gmm_nmgy.pkl', 'n_tiles_h': 56, 'n_tiles_w': 56, 'tile_slen': 2, 'batch_size': 2, 'max_sources': 6, 'mean_sources': 0.48, 'min_sources': 0, 'prob_galaxy': 0.2, 'star_flux_exponent': 0.9859821185389767, 'star_flux_truncation': 5685.588160703261, 'star_flux_loc': -1.162430157551662, 'star_flux_scale': 1.4137911256506595, 'galaxy_flux_truncation': 1013, 'galaxy_flux_exponent': 0.47, 'galaxy_flux_scale': 0.6301037, 'galaxy_flux_loc': 0.0, 'galaxy_a_concentration': 0.39330758068481686, 'galaxy_a_loc': 0.8371888967872619, 'galaxy_a_scale': 4.432725319432478, 'galaxy_a_bd_ratio': 2.0}"
      ]
     },
     "execution_count": 6,
     "metadata": {},
     "output_type": "execute_result"
    }
   ],
   "source": [
    "cfg.prior"
   ]
  },
  {
   "cell_type": "code",
   "execution_count": 7,
   "metadata": {},
   "outputs": [
    {
     "data": {
      "text/plain": [
       "{'_target_': 'bliss.simulator.simulated_dataset.CachedSimulatedDataset', 'batch_size': 64, 'splits': '0:80/80:90/90:100', 'num_workers': 0, 'cached_data_path': '${generate.cached_data_path}', 'file_prefix': '${generate.file_prefix}'}"
      ]
     },
     "execution_count": 7,
     "metadata": {},
     "output_type": "execute_result"
    }
   ],
   "source": [
    "cfg.cached_simulator"
   ]
  },
  {
   "cell_type": "code",
   "execution_count": 42,
   "metadata": {},
   "outputs": [
    {
     "data": {
      "text/plain": [
       "'/home/gapatron/bliss/case_studies/galaxy_clustering/notebooks'"
      ]
     },
     "execution_count": 42,
     "metadata": {},
     "output_type": "execute_result"
    }
   ],
   "source": [
    "os.getcwd()"
   ]
  },
  {
   "cell_type": "code",
   "execution_count": 48,
   "metadata": {},
   "outputs": [],
   "source": [
    "col_names = [\"RA\", \"DEC\", \"X\", \"Y\", \"MEM\", \"FLUX_R\", \"FLUX_G\", \"FLUX_I\", \"FLUX_Z\", \"TSIZE\", \"FRACDEV\", \"G1\", \"G2\"]\n",
    "sample_data_0 = pd.read_csv(\"../data/padded_catalogs/galsim_des_padded_000.dat\", sep=\" \", header=None, names=col_names)\n",
    "sample_data_1 = pd.read_csv(\"../data/padded_catalogs/galsim_des_padded_001.dat\", sep=\" \", header=None, names=col_names)\n",
    "sample_data_2 = pd.read_csv(\"../data/padded_catalogs/galsim_des_padded_002.dat\", sep=\" \", header=None, names=col_names)"
   ]
  },
  {
   "cell_type": "code",
   "execution_count": 50,
   "metadata": {},
   "outputs": [
    {
     "data": {
      "text/html": [
       "<div>\n",
       "<style scoped>\n",
       "    .dataframe tbody tr th:only-of-type {\n",
       "        vertical-align: middle;\n",
       "    }\n",
       "\n",
       "    .dataframe tbody tr th {\n",
       "        vertical-align: top;\n",
       "    }\n",
       "\n",
       "    .dataframe thead th {\n",
       "        text-align: right;\n",
       "    }\n",
       "</style>\n",
       "<table border=\"1\" class=\"dataframe\">\n",
       "  <thead>\n",
       "    <tr style=\"text-align: right;\">\n",
       "      <th></th>\n",
       "      <th>RA</th>\n",
       "      <th>DEC</th>\n",
       "      <th>X</th>\n",
       "      <th>Y</th>\n",
       "      <th>MEM</th>\n",
       "      <th>FLUX_R</th>\n",
       "      <th>FLUX_G</th>\n",
       "      <th>FLUX_I</th>\n",
       "      <th>FLUX_Z</th>\n",
       "      <th>TSIZE</th>\n",
       "      <th>FRACDEV</th>\n",
       "      <th>G1</th>\n",
       "      <th>G2</th>\n",
       "    </tr>\n",
       "  </thead>\n",
       "  <tbody>\n",
       "    <tr>\n",
       "      <th>0</th>\n",
       "      <td>50.691779</td>\n",
       "      <td>-40.194891</td>\n",
       "      <td>3338.596661</td>\n",
       "      <td>3110.419714</td>\n",
       "      <td>1.0</td>\n",
       "      <td>382.122242</td>\n",
       "      <td>675.315929</td>\n",
       "      <td>590.336925</td>\n",
       "      <td>732.066957</td>\n",
       "      <td>1.363548</td>\n",
       "      <td>0</td>\n",
       "      <td>0.013826</td>\n",
       "      <td>0.010695</td>\n",
       "    </tr>\n",
       "    <tr>\n",
       "      <th>1</th>\n",
       "      <td>50.694299</td>\n",
       "      <td>-40.187001</td>\n",
       "      <td>3383.965626</td>\n",
       "      <td>3252.443755</td>\n",
       "      <td>1.0</td>\n",
       "      <td>182.943014</td>\n",
       "      <td>347.493597</td>\n",
       "      <td>290.063571</td>\n",
       "      <td>395.631872</td>\n",
       "      <td>2.818490</td>\n",
       "      <td>0</td>\n",
       "      <td>0.593251</td>\n",
       "      <td>0.005887</td>\n",
       "    </tr>\n",
       "    <tr>\n",
       "      <th>2</th>\n",
       "      <td>50.673540</td>\n",
       "      <td>-40.214869</td>\n",
       "      <td>3010.300150</td>\n",
       "      <td>2750.813487</td>\n",
       "      <td>1.0</td>\n",
       "      <td>226.558620</td>\n",
       "      <td>429.604801</td>\n",
       "      <td>362.815290</td>\n",
       "      <td>400.780268</td>\n",
       "      <td>3.689208</td>\n",
       "      <td>0</td>\n",
       "      <td>-0.192815</td>\n",
       "      <td>0.141709</td>\n",
       "    </tr>\n",
       "    <tr>\n",
       "      <th>3</th>\n",
       "      <td>50.690939</td>\n",
       "      <td>-40.205187</td>\n",
       "      <td>3323.487794</td>\n",
       "      <td>2925.097175</td>\n",
       "      <td>1.0</td>\n",
       "      <td>346.894552</td>\n",
       "      <td>658.902660</td>\n",
       "      <td>410.178367</td>\n",
       "      <td>516.066786</td>\n",
       "      <td>2.501445</td>\n",
       "      <td>0</td>\n",
       "      <td>0.443862</td>\n",
       "      <td>0.048449</td>\n",
       "    </tr>\n",
       "    <tr>\n",
       "      <th>4</th>\n",
       "      <td>50.695891</td>\n",
       "      <td>-40.203018</td>\n",
       "      <td>3412.615626</td>\n",
       "      <td>2964.123415</td>\n",
       "      <td>1.0</td>\n",
       "      <td>161.952231</td>\n",
       "      <td>540.539178</td>\n",
       "      <td>249.028774</td>\n",
       "      <td>667.967572</td>\n",
       "      <td>2.477649</td>\n",
       "      <td>0</td>\n",
       "      <td>-0.053911</td>\n",
       "      <td>-0.111394</td>\n",
       "    </tr>\n",
       "  </tbody>\n",
       "</table>\n",
       "</div>"
      ],
      "text/plain": [
       "          RA        DEC            X            Y  MEM      FLUX_R  \\\n",
       "0  50.691779 -40.194891  3338.596661  3110.419714  1.0  382.122242   \n",
       "1  50.694299 -40.187001  3383.965626  3252.443755  1.0  182.943014   \n",
       "2  50.673540 -40.214869  3010.300150  2750.813487  1.0  226.558620   \n",
       "3  50.690939 -40.205187  3323.487794  2925.097175  1.0  346.894552   \n",
       "4  50.695891 -40.203018  3412.615626  2964.123415  1.0  161.952231   \n",
       "\n",
       "       FLUX_G      FLUX_I      FLUX_Z     TSIZE  FRACDEV        G1        G2  \n",
       "0  675.315929  590.336925  732.066957  1.363548        0  0.013826  0.010695  \n",
       "1  347.493597  290.063571  395.631872  2.818490        0  0.593251  0.005887  \n",
       "2  429.604801  362.815290  400.780268  3.689208        0 -0.192815  0.141709  \n",
       "3  658.902660  410.178367  516.066786  2.501445        0  0.443862  0.048449  \n",
       "4  540.539178  249.028774  667.967572  2.477649        0 -0.053911 -0.111394  "
      ]
     },
     "execution_count": 50,
     "metadata": {},
     "output_type": "execute_result"
    }
   ],
   "source": [
    "sample_data_0.head()"
   ]
  },
  {
   "cell_type": "code",
   "execution_count": 46,
   "metadata": {},
   "outputs": [
    {
     "data": {
      "text/plain": [
       "2200"
      ]
     },
     "execution_count": 46,
     "metadata": {},
     "output_type": "execute_result"
    }
   ],
   "source": [
    "len(sample_data_0)"
   ]
  },
  {
   "cell_type": "code",
   "execution_count": 47,
   "metadata": {},
   "outputs": [
    {
     "data": {
      "text/plain": [
       "2200"
      ]
     },
     "execution_count": 47,
     "metadata": {},
     "output_type": "execute_result"
    }
   ],
   "source": [
    "len(sample_data_1)"
   ]
  },
  {
   "cell_type": "code",
   "execution_count": 49,
   "metadata": {},
   "outputs": [
    {
     "data": {
      "text/plain": [
       "2200"
      ]
     },
     "execution_count": 49,
     "metadata": {},
     "output_type": "execute_result"
    }
   ],
   "source": [
    "len(sample_data_2)"
   ]
  },
  {
   "cell_type": "code",
   "execution_count": 72,
   "metadata": {},
   "outputs": [],
   "source": [
    "d = dict()\n",
    "d[\"plocs\"] = torch.tensor([sample_data_0[[\"X\", \"Y\"]].to_numpy(), sample_data_1[[\"X\", \"Y\"]].to_numpy()])\n",
    "n_sources = torch.sum(d[\"plocs\"][:,:,0] != 0, axis=1)\n",
    "d[\"n_sources\"] = n_sources"
   ]
  },
  {
   "cell_type": "code",
   "execution_count": 70,
   "metadata": {},
   "outputs": [
    {
     "data": {
      "text/plain": [
       "tensor([2112, 2026])"
      ]
     },
     "execution_count": 70,
     "metadata": {},
     "output_type": "execute_result"
    }
   ],
   "source": [
    "n_sources"
   ]
  },
  {
   "cell_type": "code",
   "execution_count": 26,
   "metadata": {},
   "outputs": [],
   "source": [
    "from bliss.catalog import FullCatalog, TileCatalog"
   ]
  },
  {
   "cell_type": "code",
   "execution_count": 68,
   "metadata": {},
   "outputs": [
    {
     "data": {
      "text/plain": [
       "tensor([2112, 2026])"
      ]
     },
     "execution_count": 68,
     "metadata": {},
     "output_type": "execute_result"
    }
   ],
   "source": [
    "torch.sum(n_sources[:,:,0] != 0, axis=1)"
   ]
  },
  {
   "cell_type": "code",
   "execution_count": 65,
   "metadata": {},
   "outputs": [
    {
     "data": {
      "text/plain": [
       "tensor([[ True,  True,  True,  ..., False, False, False],\n",
       "        [ True,  True,  True,  ..., False, False, False]])"
      ]
     },
     "execution_count": 65,
     "metadata": {},
     "output_type": "execute_result"
    }
   ],
   "source": [
    "n_sources[:,:,0] != 0"
   ]
  },
  {
   "cell_type": "code",
   "execution_count": 73,
   "metadata": {},
   "outputs": [],
   "source": [
    "fc = FullCatalog(height=5000, width=5000, d=d)"
   ]
  },
  {
   "cell_type": "code",
   "execution_count": 75,
   "metadata": {},
   "outputs": [
    {
     "data": {
      "text/plain": [
       "2"
      ]
     },
     "execution_count": 75,
     "metadata": {},
     "output_type": "execute_result"
    }
   ],
   "source": [
    "fc.batch_size"
   ]
  },
  {
   "cell_type": "code",
   "execution_count": 77,
   "metadata": {},
   "outputs": [],
   "source": [
    "tc = fc.to_tile_catalog(20, 20)"
   ]
  },
  {
   "cell_type": "code",
   "execution_count": 82,
   "metadata": {},
   "outputs": [
    {
     "data": {
      "text/plain": [
       "5000"
      ]
     },
     "execution_count": 82,
     "metadata": {},
     "output_type": "execute_result"
    }
   ],
   "source": [
    "tc.width"
   ]
  },
  {
   "cell_type": "code",
   "execution_count": 84,
   "metadata": {},
   "outputs": [],
   "source": [
    "tile_catalog_dict = tc.to_dict()"
   ]
  },
  {
   "cell_type": "code",
   "execution_count": 85,
   "metadata": {},
   "outputs": [
    {
     "data": {
      "text/plain": [
       "dict_keys(['locs', 'n_sources'])"
      ]
     },
     "execution_count": 85,
     "metadata": {},
     "output_type": "execute_result"
    }
   ],
   "source": [
    "tile_catalog_dict.keys()"
   ]
  },
  {
   "cell_type": "code",
   "execution_count": 91,
   "metadata": {},
   "outputs": [
    {
     "data": {
      "text/plain": [
       "tensor(2112)"
      ]
     },
     "execution_count": 91,
     "metadata": {},
     "output_type": "execute_result"
    }
   ],
   "source": [
    "tile_catalog_dict[\"n_sources\"][0].sum()"
   ]
  },
  {
   "cell_type": "code",
   "execution_count": 99,
   "metadata": {},
   "outputs": [
    {
     "data": {
      "text/plain": [
       "tensor([[0, 0, 0,  ..., 0, 0, 0],\n",
       "        [0, 1, 1,  ..., 1, 0, 0],\n",
       "        [0, 0, 0,  ..., 0, 0, 0],\n",
       "        ...,\n",
       "        [0, 0, 0,  ..., 0, 0, 0],\n",
       "        [0, 0, 0,  ..., 0, 0, 0],\n",
       "        [0, 0, 0,  ..., 0, 0, 0]])"
      ]
     },
     "execution_count": 99,
     "metadata": {},
     "output_type": "execute_result"
    }
   ],
   "source": [
    "tile_catalog_dict[\"n_sources\"][0]"
   ]
  },
  {
   "cell_type": "code",
   "execution_count": 100,
   "metadata": {},
   "outputs": [
    {
     "data": {
      "text/plain": [
       "tensor([[0.5930, 0.4674],\n",
       "        [0.0000, 0.0000],\n",
       "        [0.0000, 0.0000],\n",
       "        [0.0000, 0.0000],\n",
       "        [0.0000, 0.0000],\n",
       "        [0.0000, 0.0000],\n",
       "        [0.0000, 0.0000],\n",
       "        [0.0000, 0.0000],\n",
       "        [0.0000, 0.0000],\n",
       "        [0.0000, 0.0000],\n",
       "        [0.0000, 0.0000],\n",
       "        [0.0000, 0.0000],\n",
       "        [0.0000, 0.0000],\n",
       "        [0.0000, 0.0000],\n",
       "        [0.0000, 0.0000],\n",
       "        [0.0000, 0.0000],\n",
       "        [0.0000, 0.0000],\n",
       "        [0.0000, 0.0000],\n",
       "        [0.0000, 0.0000],\n",
       "        [0.0000, 0.0000]])"
      ]
     },
     "execution_count": 100,
     "metadata": {},
     "output_type": "execute_result"
    }
   ],
   "source": [
    "tile_catalog_dict[\"locs\"][0][1][1]"
   ]
  },
  {
   "cell_type": "code",
   "execution_count": null,
   "metadata": {},
   "outputs": [],
   "source": []
  }
 ],
 "metadata": {
  "kernelspec": {
   "display_name": ".venv",
   "language": "python",
   "name": "python3"
  },
  "language_info": {
   "codemirror_mode": {
    "name": "ipython",
    "version": 3
   },
   "file_extension": ".py",
   "mimetype": "text/x-python",
   "name": "python",
   "nbconvert_exporter": "python",
   "pygments_lexer": "ipython3",
   "version": "3.10.12"
  }
 },
 "nbformat": 4,
 "nbformat_minor": 2
}

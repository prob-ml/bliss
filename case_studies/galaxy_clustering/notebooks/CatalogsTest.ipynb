{
 "cells": [
  {
   "cell_type": "code",
   "execution_count": 1,
   "metadata": {},
   "outputs": [],
   "source": [
    "%load_ext autoreload\n",
    "%autoreload 2"
   ]
  },
  {
   "cell_type": "code",
   "execution_count": 2,
   "metadata": {},
   "outputs": [],
   "source": [
    "import os\n",
    "from pathlib import Path\n",
    "from typing import List\n",
    "\n",
    "import torch\n",
    "import pandas as pd\n",
    "import numpy as np\n",
    "\n",
    "from hydra import initialize, compose\n",
    "from hydra.utils import instantiate\n",
    "from omegaconf import DictConfig, OmegaConf\n",
    "\n",
    "import matplotlib.pyplot as plt\n",
    "\n",
    "from bliss.simulator.simulated_dataset import CachedSimulatedDataset, FileDatum\n"
   ]
  },
  {
   "cell_type": "code",
   "execution_count": 3,
   "metadata": {},
   "outputs": [],
   "source": [
    "with initialize(config_path=\"../\", version_base=None):\n",
    "    cfg = compose(\"config\", overrides={\"surveys.sdss.load_image_data=true\"})"
   ]
  },
  {
   "cell_type": "code",
   "execution_count": 4,
   "metadata": {},
   "outputs": [
    {
     "data": {
      "text/plain": [
       "{'_target_': 'case_studies.galaxy_clustering.prior.GalaxyClusterPrior', 'survey_bands': ['u', 'g', 'r', 'i', 'z'], 'reference_band': 2, 'star_color_model_path': '${simulator.survey.dir_path}/color_models/star_gmm_nmgy.pkl', 'gal_color_model_path': '${simulator.survey.dir_path}/color_models/gal_gmm_nmgy.pkl', 'n_tiles_h': 56, 'n_tiles_w': 56, 'tile_slen': 2, 'batch_size': 2, 'max_sources': 6, 'mean_sources': 0.48, 'min_sources': 0, 'prob_galaxy': 0.2, 'star_flux_exponent': 0.9859821185389767, 'star_flux_truncation': 5685.588160703261, 'star_flux_loc': -1.162430157551662, 'star_flux_scale': 1.4137911256506595, 'galaxy_flux_truncation': 1013, 'galaxy_flux_exponent': 0.47, 'galaxy_flux_scale': 0.6301037, 'galaxy_flux_loc': 0.0, 'galaxy_a_concentration': 0.39330758068481686, 'galaxy_a_loc': 0.8371888967872619, 'galaxy_a_scale': 4.432725319432478, 'galaxy_a_bd_ratio': 2.0}"
      ]
     },
     "execution_count": 4,
     "metadata": {},
     "output_type": "execute_result"
    }
   ],
   "source": [
    "cfg.prior"
   ]
  },
  {
   "cell_type": "code",
   "execution_count": 5,
   "metadata": {},
   "outputs": [
    {
     "data": {
      "text/plain": [
       "{'_target_': 'bliss.case_studies.galaxy_clustering.simulated_dataset.GalaxyClusterCachedSimulatedDataset', 'batch_size': 64, 'splits': '0:80/80:90/90:100', 'num_workers': 1, 'cached_data_path': '${generate.cached_data_path}', 'file_prefix': '${generate.file_prefix}'}"
      ]
     },
     "execution_count": 5,
     "metadata": {},
     "output_type": "execute_result"
    }
   ],
   "source": [
    "cfg.cached_simulator"
   ]
  },
  {
   "cell_type": "code",
   "execution_count": 6,
   "metadata": {},
   "outputs": [
    {
     "data": {
      "text/plain": [
       "'/home/kapnadak/bliss/case_studies/galaxy_clustering/notebooks'"
      ]
     },
     "execution_count": 6,
     "metadata": {},
     "output_type": "execute_result"
    }
   ],
   "source": [
    "os.getcwd()"
   ]
  },
  {
   "cell_type": "code",
   "execution_count": 7,
   "metadata": {},
   "outputs": [],
   "source": [
    "col_names = [\"RA\", \"DEC\", \"X\", \"Y\", \"MEM\", \"FLUX_R\", \"FLUX_G\", \"FLUX_I\", \"FLUX_Z\", \"TSIZE\", \"FRACDEV\", \"G1\", \"G2\"]\n",
    "sample_data_0 = pd.read_csv(\"../data/padded_catalogs/galsim_des_padded_000.dat\", sep=\" \", header=None, names=col_names)\n",
    "sample_data_1 = pd.read_csv(\"../data/padded_catalogs/galsim_des_padded_001.dat\", sep=\" \", header=None, names=col_names)\n",
    "sample_data_2 = pd.read_csv(\"../data/padded_catalogs/galsim_des_padded_002.dat\", sep=\" \", header=None, names=col_names)"
   ]
  },
  {
   "cell_type": "code",
   "execution_count": 8,
   "metadata": {},
   "outputs": [
    {
     "data": {
      "text/html": [
       "<div>\n",
       "<style scoped>\n",
       "    .dataframe tbody tr th:only-of-type {\n",
       "        vertical-align: middle;\n",
       "    }\n",
       "\n",
       "    .dataframe tbody tr th {\n",
       "        vertical-align: top;\n",
       "    }\n",
       "\n",
       "    .dataframe thead th {\n",
       "        text-align: right;\n",
       "    }\n",
       "</style>\n",
       "<table border=\"1\" class=\"dataframe\">\n",
       "  <thead>\n",
       "    <tr style=\"text-align: right;\">\n",
       "      <th></th>\n",
       "      <th>RA</th>\n",
       "      <th>DEC</th>\n",
       "      <th>X</th>\n",
       "      <th>Y</th>\n",
       "      <th>MEM</th>\n",
       "      <th>FLUX_R</th>\n",
       "      <th>FLUX_G</th>\n",
       "      <th>FLUX_I</th>\n",
       "      <th>FLUX_Z</th>\n",
       "      <th>TSIZE</th>\n",
       "      <th>FRACDEV</th>\n",
       "      <th>G1</th>\n",
       "      <th>G2</th>\n",
       "    </tr>\n",
       "  </thead>\n",
       "  <tbody>\n",
       "    <tr>\n",
       "      <th>0</th>\n",
       "      <td>50.728375</td>\n",
       "      <td>-40.258012</td>\n",
       "      <td>3997.335589</td>\n",
       "      <td>1974.244275</td>\n",
       "      <td>1.0</td>\n",
       "      <td>126.118851</td>\n",
       "      <td>245.340043</td>\n",
       "      <td>165.573640</td>\n",
       "      <td>181.391205</td>\n",
       "      <td>2.989006</td>\n",
       "      <td>0</td>\n",
       "      <td>-0.105925</td>\n",
       "      <td>0.064605</td>\n",
       "    </tr>\n",
       "    <tr>\n",
       "      <th>1</th>\n",
       "      <td>50.718273</td>\n",
       "      <td>-40.232888</td>\n",
       "      <td>3815.497087</td>\n",
       "      <td>2426.468418</td>\n",
       "      <td>1.0</td>\n",
       "      <td>210.027165</td>\n",
       "      <td>331.354642</td>\n",
       "      <td>289.431410</td>\n",
       "      <td>337.502472</td>\n",
       "      <td>3.922377</td>\n",
       "      <td>0</td>\n",
       "      <td>0.009929</td>\n",
       "      <td>0.113251</td>\n",
       "    </tr>\n",
       "    <tr>\n",
       "      <th>2</th>\n",
       "      <td>50.732064</td>\n",
       "      <td>-40.245886</td>\n",
       "      <td>4063.726655</td>\n",
       "      <td>2192.505405</td>\n",
       "      <td>1.0</td>\n",
       "      <td>553.309492</td>\n",
       "      <td>782.609501</td>\n",
       "      <td>643.397903</td>\n",
       "      <td>511.653956</td>\n",
       "      <td>1.756963</td>\n",
       "      <td>0</td>\n",
       "      <td>0.668460</td>\n",
       "      <td>0.023192</td>\n",
       "    </tr>\n",
       "    <tr>\n",
       "      <th>3</th>\n",
       "      <td>50.706336</td>\n",
       "      <td>-40.217926</td>\n",
       "      <td>3600.626683</td>\n",
       "      <td>2695.785562</td>\n",
       "      <td>1.0</td>\n",
       "      <td>479.605685</td>\n",
       "      <td>887.104739</td>\n",
       "      <td>536.080929</td>\n",
       "      <td>541.227174</td>\n",
       "      <td>3.749274</td>\n",
       "      <td>0</td>\n",
       "      <td>-0.725819</td>\n",
       "      <td>0.074286</td>\n",
       "    </tr>\n",
       "    <tr>\n",
       "      <th>4</th>\n",
       "      <td>50.697505</td>\n",
       "      <td>-40.228009</td>\n",
       "      <td>3441.662618</td>\n",
       "      <td>2514.299651</td>\n",
       "      <td>1.0</td>\n",
       "      <td>210.508576</td>\n",
       "      <td>608.632044</td>\n",
       "      <td>400.418016</td>\n",
       "      <td>855.955095</td>\n",
       "      <td>2.663630</td>\n",
       "      <td>0</td>\n",
       "      <td>-0.147868</td>\n",
       "      <td>-0.394306</td>\n",
       "    </tr>\n",
       "  </tbody>\n",
       "</table>\n",
       "</div>"
      ],
      "text/plain": [
       "          RA        DEC            X            Y  MEM      FLUX_R  \\\n",
       "0  50.728375 -40.258012  3997.335589  1974.244275  1.0  126.118851   \n",
       "1  50.718273 -40.232888  3815.497087  2426.468418  1.0  210.027165   \n",
       "2  50.732064 -40.245886  4063.726655  2192.505405  1.0  553.309492   \n",
       "3  50.706336 -40.217926  3600.626683  2695.785562  1.0  479.605685   \n",
       "4  50.697505 -40.228009  3441.662618  2514.299651  1.0  210.508576   \n",
       "\n",
       "       FLUX_G      FLUX_I      FLUX_Z     TSIZE  FRACDEV        G1        G2  \n",
       "0  245.340043  165.573640  181.391205  2.989006        0 -0.105925  0.064605  \n",
       "1  331.354642  289.431410  337.502472  3.922377        0  0.009929  0.113251  \n",
       "2  782.609501  643.397903  511.653956  1.756963        0  0.668460  0.023192  \n",
       "3  887.104739  536.080929  541.227174  3.749274        0 -0.725819  0.074286  \n",
       "4  608.632044  400.418016  855.955095  2.663630        0 -0.147868 -0.394306  "
      ]
     },
     "execution_count": 8,
     "metadata": {},
     "output_type": "execute_result"
    }
   ],
   "source": [
    "sample_data_0.head()"
   ]
  },
  {
   "cell_type": "code",
   "execution_count": 9,
   "metadata": {},
   "outputs": [
    {
     "data": {
      "text/plain": [
       "2200"
      ]
     },
     "execution_count": 9,
     "metadata": {},
     "output_type": "execute_result"
    }
   ],
   "source": [
    "len(sample_data_0)"
   ]
  },
  {
   "cell_type": "code",
   "execution_count": 10,
   "metadata": {},
   "outputs": [
    {
     "data": {
      "text/plain": [
       "2200"
      ]
     },
     "execution_count": 10,
     "metadata": {},
     "output_type": "execute_result"
    }
   ],
   "source": [
    "len(sample_data_1)"
   ]
  },
  {
   "cell_type": "code",
   "execution_count": 11,
   "metadata": {},
   "outputs": [
    {
     "data": {
      "text/plain": [
       "2200"
      ]
     },
     "execution_count": 11,
     "metadata": {},
     "output_type": "execute_result"
    }
   ],
   "source": [
    "len(sample_data_2)"
   ]
  },
  {
   "cell_type": "code",
   "execution_count": 12,
   "metadata": {},
   "outputs": [
    {
     "name": "stderr",
     "output_type": "stream",
     "text": [
      "/tmp/ipykernel_1381111/538030757.py:2: UserWarning: Creating a tensor from a list of numpy.ndarrays is extremely slow. Please consider converting the list to a single numpy.ndarray with numpy.array() before converting to a tensor. (Triggered internally at ../torch/csrc/utils/tensor_new.cpp:245.)\n",
      "  d[\"plocs\"] = torch.tensor([sample_data_0[[\"X\", \"Y\"]].to_numpy(), sample_data_1[[\"X\", \"Y\"]].to_numpy()])\n"
     ]
    }
   ],
   "source": [
    "d = dict()\n",
    "d[\"plocs\"] = torch.tensor([sample_data_0[[\"X\", \"Y\"]].to_numpy(), sample_data_1[[\"X\", \"Y\"]].to_numpy()])\n",
    "n_sources = torch.sum(d[\"plocs\"][:,:,0] != 0, axis=1)\n",
    "d[\"n_sources\"] = n_sources"
   ]
  },
  {
   "cell_type": "code",
   "execution_count": 13,
   "metadata": {},
   "outputs": [],
   "source": [
    "d[\"fluxes\"] = torch.tensor([sample_data_0[[\"FLUX_R\", \"FLUX_G\", \"FLUX_I\", \"FLUX_Z\"]].to_numpy(), sample_data_1[[\"FLUX_R\", \"FLUX_G\", \"FLUX_I\", \"FLUX_Z\"]].to_numpy()])\n",
    "d[\"membership\"] = torch.tensor([sample_data_0[[\"MEM\"]].to_numpy(), sample_data_1[[\"MEM\"]].to_numpy()])\n",
    "d[\"hlr\"] = torch.tensor([sample_data_0[[\"TSIZE\"]].to_numpy(), sample_data_1[[\"TSIZE\"]].to_numpy()])\n",
    "d[\"fracdev\"] = torch.tensor([sample_data_0[[\"FRACDEV\"]].to_numpy(), sample_data_1[[\"FRACDEV\"]].to_numpy()])\n",
    "d[\"g1g2\"] = torch.tensor([sample_data_0[[\"G1\", \"G2\"]].to_numpy(), sample_data_1[[\"G1\", \"G2\"]].to_numpy()])"
   ]
  },
  {
   "cell_type": "code",
   "execution_count": 14,
   "metadata": {},
   "outputs": [],
   "source": [
    "from bliss.catalog import FullCatalog, TileCatalog\n",
    "TileCatalog.allowed_params.update([\"membership\", \"fracdev\", \"g1g2\"])"
   ]
  },
  {
   "cell_type": "code",
   "execution_count": 15,
   "metadata": {},
   "outputs": [],
   "source": [
    "fc = FullCatalog(height=5000, width=5000, d=d)"
   ]
  },
  {
   "cell_type": "code",
   "execution_count": 16,
   "metadata": {},
   "outputs": [
    {
     "data": {
      "text/plain": [
       "2"
      ]
     },
     "execution_count": 16,
     "metadata": {},
     "output_type": "execute_result"
    }
   ],
   "source": [
    "fc.batch_size"
   ]
  },
  {
   "cell_type": "code",
   "execution_count": 17,
   "metadata": {},
   "outputs": [],
   "source": [
    "tc = fc.to_tile_catalog(20, 20)"
   ]
  },
  {
   "cell_type": "code",
   "execution_count": 18,
   "metadata": {},
   "outputs": [
    {
     "data": {
      "text/plain": [
       "(5000, 5000)"
      ]
     },
     "execution_count": 18,
     "metadata": {},
     "output_type": "execute_result"
    }
   ],
   "source": [
    "tc.height, tc.width"
   ]
  },
  {
   "cell_type": "code",
   "execution_count": 19,
   "metadata": {},
   "outputs": [],
   "source": [
    "tile_catalog_dict = tc.to_dict()"
   ]
  },
  {
   "cell_type": "code",
   "execution_count": 20,
   "metadata": {},
   "outputs": [
    {
     "data": {
      "text/plain": [
       "dict_keys(['locs', 'n_sources', 'fluxes', 'membership', 'hlr', 'fracdev', 'g1g2'])"
      ]
     },
     "execution_count": 20,
     "metadata": {},
     "output_type": "execute_result"
    }
   ],
   "source": [
    "tile_catalog_dict.keys()"
   ]
  },
  {
   "cell_type": "code",
   "execution_count": 21,
   "metadata": {},
   "outputs": [
    {
     "data": {
      "text/plain": [
       "(array([  0,   0,   0, ..., 249, 249, 249]),\n",
       " array([  7,   8, 126, ...,  65,  89, 175]))"
      ]
     },
     "execution_count": 21,
     "metadata": {},
     "output_type": "execute_result"
    }
   ],
   "source": [
    "np.where(tile_catalog_dict[\"n_sources\"][0] != 0)"
   ]
  },
  {
   "cell_type": "code",
   "execution_count": 22,
   "metadata": {},
   "outputs": [
    {
     "data": {
      "text/plain": [
       "tensor(1989)"
      ]
     },
     "execution_count": 22,
     "metadata": {},
     "output_type": "execute_result"
    }
   ],
   "source": [
    "tile_catalog_dict[\"n_sources\"][0].sum()"
   ]
  },
  {
   "cell_type": "code",
   "execution_count": 23,
   "metadata": {},
   "outputs": [
    {
     "data": {
      "text/plain": [
       "tensor([ 902040, 1042920,  398080,  ...,  833074,  834488,  833071])"
      ]
     },
     "execution_count": 23,
     "metadata": {},
     "output_type": "execute_result"
    }
   ],
   "source": [
    "tc.get_indices_of_on_sources()[0][0]"
   ]
  },
  {
   "cell_type": "code",
   "execution_count": 24,
   "metadata": {},
   "outputs": [
    {
     "data": {
      "text/plain": [
       "torch.Size([250, 250, 20, 2])"
      ]
     },
     "execution_count": 24,
     "metadata": {},
     "output_type": "execute_result"
    }
   ],
   "source": [
    "full_locs = tc.get_full_locs_from_tiles()\n",
    "full_locs[0].shape"
   ]
  },
  {
   "cell_type": "code",
   "execution_count": 25,
   "metadata": {},
   "outputs": [
    {
     "data": {
      "text/plain": [
       "tensor(2041)"
      ]
     },
     "execution_count": 25,
     "metadata": {},
     "output_type": "execute_result"
    }
   ],
   "source": [
    "tc.n_sources[1].sum()"
   ]
  },
  {
   "cell_type": "code",
   "execution_count": 26,
   "metadata": {},
   "outputs": [
    {
     "data": {
      "text/plain": [
       "torch.Size([250, 250, 20, 4])"
      ]
     },
     "execution_count": 26,
     "metadata": {},
     "output_type": "execute_result"
    }
   ],
   "source": [
    "tile_catalog_dict[\"fluxes\"][0].shape"
   ]
  },
  {
   "cell_type": "code",
   "execution_count": 27,
   "metadata": {},
   "outputs": [
    {
     "data": {
      "text/plain": [
       "tensor(381.)"
      ]
     },
     "execution_count": 27,
     "metadata": {},
     "output_type": "execute_result"
    }
   ],
   "source": [
    "tile_catalog_dict[\"membership\"][0].sum() # number of clustered galaxies"
   ]
  },
  {
   "cell_type": "code",
   "execution_count": 28,
   "metadata": {},
   "outputs": [
    {
     "data": {
      "text/plain": [
       "torch.Size([250, 250, 20, 2])"
      ]
     },
     "execution_count": 28,
     "metadata": {},
     "output_type": "execute_result"
    }
   ],
   "source": [
    "tile_catalog_dict[\"g1g2\"][0].shape"
   ]
  },
  {
   "cell_type": "code",
   "execution_count": 29,
   "metadata": {},
   "outputs": [
    {
     "data": {
      "text/plain": [
       "tensor(1819)"
      ]
     },
     "execution_count": 29,
     "metadata": {},
     "output_type": "execute_result"
    }
   ],
   "source": [
    "(fc[\"membership\"][0] == 0).sum() # number of background galaxies + number of zero padded rows"
   ]
  },
  {
   "cell_type": "code",
   "execution_count": 30,
   "metadata": {},
   "outputs": [
    {
     "data": {
      "text/plain": [
       "tensor(2200., dtype=torch.float64)"
      ]
     },
     "execution_count": 30,
     "metadata": {},
     "output_type": "execute_result"
    }
   ],
   "source": [
    "fc[\"membership\"][0].sum() + (fc[\"membership\"][0] == 0).sum()"
   ]
  },
  {
   "cell_type": "code",
   "execution_count": null,
   "metadata": {},
   "outputs": [],
   "source": [
    "from torchmetrics import Metric\n",
    "class ClusterMembershipAccuracy(Metric):\n",
    "    def __init__(self):\n",
    "        super().__init__()\n",
    "\n",
    "        self.add_state(\"membership_tp\", default=torch.zeros(1), dist_reduce_fx=\"sum\")\n",
    "        self.add_state(\"membership_tn\", default=torch.zeros(1), dist_reduce_fx=\"sum\")\n",
    "        self.add_state(\"membership_fp\", default=torch.zeros(1), dist_reduce_fx=\"sum\")\n",
    "        self.add_state(\"membership_fn\", default=torch.zeros(1), dist_reduce_fx=\"sum\")\n",
    "        self.add_state(\"n_matches\", default=torch.zeros(1), dist_reduce_fx=\"sum\")\n",
    "\n",
    "    def update(self, true_cat, est_cat, matching):\n",
    "        for i in range(true_cat.batch_size):\n",
    "            tcat_matches, ecat_matches = matching[i]\n",
    "            self.n_matches += tcat_matches.size(0)\n",
    "\n",
    "            true_membership = true_cat.membership[i][tcat_matches]\n",
    "            est_membership = est_cat.membership[i][ecat_matches]\n",
    "\n",
    "            self.membership_tp += (true_membership * est_membership).sum()\n",
    "            self.membership_tn += (~true_membership * ~est_membership).sum()\n",
    "            self.membership_fp += (~true_membership * est_membership).sum()\n",
    "            self.membership_fn += (true_membership * ~est_membership).sum()\n",
    "\n",
    "    def compute(self):\n",
    "        precision = self.membership_tp / (self.membership_tp + self.membership_fp)\n",
    "        recall = self.membership_tp / (self.membership_tp + self.membership_fn)\n",
    "        accuracy = (self.membership_tp + self.membership_tn) / (self.membership_tp + self.membership_tn + self.membership_fp + self.membership_fn)\n",
    "        f1 = 2 * precision * recall / (precision + recall)\n",
    "        return {\n",
    "            \"membership_accuracy\": accuracy,\n",
    "            \"membership_precision\": precision,\n",
    "            \"membership_recall\": recall,\n",
    "            \"membership_f1\": f1\n",
    "        }"
   ]
  }
 ],
 "metadata": {
  "kernelspec": {
   "display_name": ".venv",
   "language": "python",
   "name": "python3"
  },
  "language_info": {
   "codemirror_mode": {
    "name": "ipython",
    "version": 3
   },
   "file_extension": ".py",
   "mimetype": "text/x-python",
   "name": "python",
   "nbconvert_exporter": "python",
   "pygments_lexer": "ipython3",
   "version": "3.10.12"
  }
 },
 "nbformat": 4,
 "nbformat_minor": 2
}

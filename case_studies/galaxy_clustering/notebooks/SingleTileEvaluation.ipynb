{
 "cells": [
  {
   "cell_type": "code",
   "execution_count": null,
   "metadata": {},
   "outputs": [],
   "source": [
    "%load_ext autoreload\n",
    "%autoreload 2"
   ]
  },
  {
   "cell_type": "code",
   "execution_count": null,
   "metadata": {},
   "outputs": [],
   "source": [
    "import os\n",
    "from os import environ\n",
    "from pathlib import Path\n",
    "from typing import List\n",
    "\n",
    "import torch\n",
    "import pandas as pd\n",
    "import numpy as np\n",
    "\n",
    "from hydra import initialize, compose\n",
    "from hydra.utils import instantiate\n",
    "from omegaconf import DictConfig, OmegaConf\n",
    "\n",
    "from einops import rearrange\n",
    "\n",
    "import matplotlib.pyplot as plt\n",
    "from matplotlib.colors import ListedColormap\n",
    "\n",
    "from bliss.surveys.des import DarkEnergySurvey, DESDownloader\n",
    "\n",
    "from pathlib import Path\n",
    "from hydra import initialize, compose\n",
    "from bliss.main import predict\n",
    "import case_studies.galaxy_clustering.utils.diagnostics as diagnostics\n",
    "from astropy.io import fits\n",
    "from astropy.visualization import make_lupton_rgb"
   ]
  },
  {
   "cell_type": "code",
   "execution_count": null,
   "metadata": {},
   "outputs": [],
   "source": [
    "environ[\"CUDA_VISIBLE_DEVICES\"] = \"1\""
   ]
  },
  {
   "cell_type": "code",
   "execution_count": null,
   "metadata": {},
   "outputs": [],
   "source": [
    "with initialize(config_path=\"../conf/\", version_base=None):\n",
    "    cfg = compose(\"config\")"
   ]
  },
  {
   "cell_type": "code",
   "execution_count": null,
   "metadata": {},
   "outputs": [],
   "source": [
    "cfg.predict"
   ]
  },
  {
   "cell_type": "code",
   "execution_count": null,
   "metadata": {},
   "outputs": [],
   "source": [
    "encoder = instantiate(cfg.predict.encoder)\n",
    "enc_state_dict = torch.load(cfg.predict.weight_save_path)\n",
    "enc_state_dict = enc_state_dict[\"state_dict\"]\n",
    "encoder.load_state_dict(enc_state_dict)"
   ]
  },
  {
   "cell_type": "code",
   "execution_count": null,
   "metadata": {},
   "outputs": [],
   "source": [
    "cfg.predict.encoder"
   ]
  },
  {
   "cell_type": "markdown",
   "metadata": {},
   "source": []
  },
  {
   "cell_type": "code",
   "execution_count": null,
   "metadata": {},
   "outputs": [],
   "source": [
    "DES_SVA_TILES = pd.read_pickle(\"/data/scratch/des/sva_map.pickle\")\n",
    "CACHED_DATA_PATH = (\n",
    "    \"/nfs/turbo/lsa-regier/scratch/gapatron/desdr-server.ncsa.illinois.edu/despublic/dr2_tiles\"\n",
    ")\n",
    "DES_BANDS = (\"g\", \"r\", \"i\", \"z\")\n",
    "GROUNDTRUTH_PATH = \"/data/scratch/des/redmapper_groundtruth\""
   ]
  },
  {
   "cell_type": "code",
   "execution_count": null,
   "metadata": {},
   "outputs": [],
   "source": [
    "DES_TILE = np.random.choice(DES_SVA_TILES)\n",
    "DES_TILE"
   ]
  },
  {
   "cell_type": "code",
   "execution_count": null,
   "metadata": {},
   "outputs": [],
   "source": [
    "directory_path = f\"{CACHED_DATA_PATH}/{DES_TILE}\"\n",
    "dir_files = {\n",
    "            band: [\n",
    "                f for f in os.listdir(f\"{directory_path}\") if f.endswith(f\"{band}_nobkg.fits.fz\")\n",
    "            ][0]\n",
    "            for band in DES_BANDS\n",
    "        }\n",
    "image_bands = []\n",
    "for band in DES_BANDS:\n",
    "    band_filepath = f\"{directory_path}/{dir_files[band]}\"\n",
    "    with fits.open(band_filepath) as f:\n",
    "        # Data seems to be on HDU 1, not 0.\n",
    "        hud = torch.from_numpy(f[1].data)\n",
    "    image_bands.append(hud.data.unsqueeze(0))\n",
    "\n",
    "full_image = torch.cat(image_bands, axis=0)\n",
    "full_image.shape"
   ]
  },
  {
   "cell_type": "code",
   "execution_count": null,
   "metadata": {},
   "outputs": [],
   "source": [
    "item = full_image.unfold(dimension=1, size=2560, step=2480).unfold(dimension=2, size=2560, step=2480)\n",
    "item.shape"
   ]
  },
  {
   "cell_type": "code",
   "execution_count": null,
   "metadata": {},
   "outputs": [],
   "source": [
    "outputs = torch.zeros((4,4,10,10))\n",
    "\n",
    "for i in range(4):\n",
    "    for j in range(4):\n",
    "        image = item[:,i,j,:,:].unsqueeze(0)\n",
    "        batch = {\"images\": image, \"background\": torch.zeros_like(image)}\n",
    "        batch_size, _n_bands, h, w = batch[\"images\"].shape[0:4]\n",
    "        ht, wt = h // encoder.tile_slen, w // encoder.tile_slen\n",
    "\n",
    "        input_lst = [inorm.get_input_tensor(batch) for inorm in encoder.image_normalizers]\n",
    "        x = torch.cat(input_lst, dim=2)\n",
    "        x_features = encoder.features_net(x)\n",
    "        mask = torch.zeros([batch_size, ht, wt])\n",
    "        context = encoder.make_context(None, mask)\n",
    "        x_cat_marginal = encoder.catalog_net(x_features, context)\n",
    "        outputs[i,j,:,:] = encoder.var_dist.sample(x_cat_marginal, use_mode=True)[\"membership\"].squeeze()\n",
    "outputs = outputs.bool()\n"
   ]
  },
  {
   "cell_type": "code",
   "execution_count": null,
   "metadata": {},
   "outputs": [],
   "source": [
    "gt_filename = f\"/{GROUNDTRUTH_PATH}/{DES_TILE}_redmapper_groundtruth.npy\"\n",
    "gt_memberships = torch.from_numpy(np.load(gt_filename))\n",
    "unfolded_gt = gt_memberships.unfold(dimension=0, size=2560, step=2480).unfold(\n",
    "    dimension=1, size=2560, step=2480\n",
    ")\n",
    "pred_memberships = torch.repeat_interleave(outputs, repeats=encoder.tile_slen, dim=2)\n",
    "pred_memberships = torch.repeat_interleave(pred_memberships, repeats=encoder.tile_slen, dim=3)\n",
    "tp = (pred_memberships * unfolded_gt).sum()\n",
    "tn = (~pred_memberships * ~unfolded_gt).sum()\n",
    "fp = (pred_memberships * ~unfolded_gt).sum()\n",
    "fn = (~pred_memberships * unfolded_gt).sum()\n",
    "acc = (tp + tn) / (tp + tn + fp + fn)\n",
    "prec = tp / (tp + fp + 1e-6)\n",
    "rec = tp / (tp + fn + 1e-6)\n",
    "f1 = 2 * prec * rec / (prec + rec + 1e-6)\n",
    "print(f\"Accuracy: {acc}\")\n",
    "print(f\"Precision: {prec}\")\n",
    "print(f\"Recall: {rec}\")\n",
    "print(f\"F1: {f1}\")"
   ]
  },
  {
   "cell_type": "code",
   "execution_count": null,
   "metadata": {},
   "outputs": [],
   "source": [
    "def blend_images(original, overlay, alpha=0.5, img_crop=0):\n",
    "    # Ensure the original image is in float\n",
    "    if original.max() > 1.0:\n",
    "        original = original / 255.0\n",
    "    # Blend the images\n",
    "    blended = original * (1 - alpha) + overlay * alpha\n",
    "    blended = blended[img_crop: blended.shape[0] - img_crop, img_crop: blended.shape[1] - img_crop]\n",
    "    print(blended.shape)\n",
    "    return blended"
   ]
  },
  {
   "cell_type": "code",
   "execution_count": null,
   "metadata": {},
   "outputs": [],
   "source": [
    "rgb_default = make_lupton_rgb(full_image[2,:,:], full_image[1,:,:], full_image[0,:,:])\n",
    "overlay = gt_memberships.unsqueeze(2).repeat(1,1,3).numpy()\n",
    "blended = blend_images(rgb_default, overlay)\n",
    "plt.figure(figsize=(10,10))\n",
    "plt.imshow(blended)"
   ]
  },
  {
   "cell_type": "code",
   "execution_count": null,
   "metadata": {},
   "outputs": [],
   "source": [
    "rearranged_memberships = rearrange(pred_memberships, 'd0 d1 d2 d3 -> (d0 d2) (d1 d3)')\n",
    "row_include = torch.from_numpy(np.concatenate([np.arange(0,2560), np.arange(2640,5120), np.arange(5200,7680), np.arange(7760,10240)]))\n",
    "folded_outputs = torch.index_select(rearranged_memberships, 0, row_include)\n",
    "folded_outputs = torch.index_select(folded_outputs, 1, row_include)"
   ]
  },
  {
   "cell_type": "code",
   "execution_count": null,
   "metadata": {},
   "outputs": [],
   "source": [
    "rgb_default = make_lupton_rgb(full_image[2,:,:], full_image[1,:,:], full_image[0,:,:])\n",
    "overlay = folded_outputs.unsqueeze(2).repeat(1,1,3).numpy()\n",
    "blended = blend_images(rgb_default, overlay)\n",
    "plt.figure(figsize=(10,10))\n",
    "plt.imshow(blended)"
   ]
  },
  {
   "cell_type": "code",
   "execution_count": null,
   "metadata": {},
   "outputs": [],
   "source": []
  }
 ],
 "metadata": {
  "kernelspec": {
   "display_name": ".venv",
   "language": "python",
   "name": "python3"
  },
  "language_info": {
   "codemirror_mode": {
    "name": "ipython",
    "version": 3
   },
   "file_extension": ".py",
   "mimetype": "text/x-python",
   "name": "python",
   "nbconvert_exporter": "python",
   "pygments_lexer": "ipython3",
   "version": "3.10.12"
  }
 },
 "nbformat": 4,
 "nbformat_minor": 2
}

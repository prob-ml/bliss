{
 "cells": [
  {
   "cell_type": "code",
   "execution_count": 1,
   "metadata": {},
   "outputs": [],
   "source": [
    "%load_ext autoreload\n",
    "%autoreload 2"
   ]
  },
  {
   "cell_type": "code",
   "execution_count": 2,
   "metadata": {},
   "outputs": [],
   "source": [
    "import os\n",
    "from os import environ\n",
    "from pathlib import Path\n",
    "from typing import List\n",
    "\n",
    "import torch\n",
    "import pandas as pd\n",
    "import numpy as np\n",
    "\n",
    "from hydra import initialize, compose\n",
    "from hydra.utils import instantiate\n",
    "from omegaconf import DictConfig, OmegaConf\n",
    "\n",
    "import matplotlib.pyplot as plt\n",
    "\n",
    "from bliss.simulator.simulated_dataset import CachedSimulatedDataset, FileDatum\n",
    "from bliss.surveys.des import DarkEnergySurvey, DESDownloader\n",
    "\n",
    "\n",
    "\n",
    "from pathlib import Path\n",
    "from hydra import initialize, compose\n",
    "from bliss.main import predict"
   ]
  },
  {
   "cell_type": "code",
   "execution_count": 3,
   "metadata": {},
   "outputs": [],
   "source": [
    "environ[\"CUDA_VISIBLE_DEVICES\"] = \"7\""
   ]
  },
  {
   "cell_type": "code",
   "execution_count": 4,
   "metadata": {},
   "outputs": [
    {
     "name": "stdout",
     "output_type": "stream",
     "text": [
      "{'paths': {'root': '${oc.env:BLISS_HOME}', 'sdss': '/data/scratch/sdss', 'decals': '/data/scratch/decals', 'des': '/data/scratch/des', 'dc2': '/data/scratch/dc2local', 'output': '${paths.root}/output'}, 'prior': {'_target_': 'case_studies.galaxy_clustering.prior.GalaxyClusterPrior', 'survey_bands': ['u', 'g', 'r', 'i', 'z'], 'reference_band': 2, 'star_color_model_path': '${simulator.survey.dir_path}/color_models/star_gmm_nmgy.pkl', 'gal_color_model_path': '${simulator.survey.dir_path}/color_models/gal_gmm_nmgy.pkl', 'n_tiles_h': 56, 'n_tiles_w': 56, 'tile_slen': 64, 'batch_size': 1, 'max_sources': 6, 'mean_sources': 0.48, 'min_sources': 0, 'prob_galaxy': 0.2, 'star_flux_exponent': 0.9859821185389767, 'star_flux_truncation': 5685.588160703261, 'star_flux_loc': -1.162430157551662, 'star_flux_scale': 1.4137911256506595, 'galaxy_flux_truncation': 1013, 'galaxy_flux_exponent': 0.47, 'galaxy_flux_scale': 0.6301037, 'galaxy_flux_loc': 0.0, 'galaxy_a_concentration': 0.39330758068481686, 'galaxy_a_loc': 0.8371888967872619, 'galaxy_a_scale': 4.432725319432478, 'galaxy_a_bd_ratio': 2.0}, 'simulator': {'_target_': 'bliss.simulator.simulated_dataset.SimulatedDataset', 'survey': '${surveys.sdss}', 'prior': '${prior}', 'n_batches': 128, 'use_coaddition': False, 'coadd_depth': 1, 'num_workers': 32, 'valid_n_batches': 10, 'fix_validation_set': True}, 'cached_simulator': {'_target_': 'bliss.simulator.simulated_dataset.CachedSimulatedDataset', 'batch_size': 3, 'splits': '0:60/60:90/90:100', 'num_workers': 1, 'cached_data_path': '${paths.root}/case_studies/galaxy_clustering/data/file_data/', 'file_prefix': 'file_data_'}, 'variational_factors': [{'_target_': 'bliss.encoder.variational_dist.BernoulliFactor', 'name': 'membership', 'sample_rearrange': 'b ht wt -> b ht wt 1 1', 'nll_rearrange': 'b ht wt 1 1 -> b ht wt', 'nll_gating': None}], 'metrics': {'detection_performance': {'_target_': 'bliss.encoder.metrics.DetectionPerformance', 'mag_bin_cutoffs': [19, 19.4, 19.8, 20.2, 20.6, 21, 21.4, 21.8]}, 'source_type_accuracy': {'_target_': 'bliss.encoder.metrics.SourceTypeAccuracy', 'flux_bin_cutoffs': [200, 400, 600, 800, 1000]}, 'flux_error': {'_target_': 'bliss.encoder.metrics.FluxError', 'survey_bands': '${encoder.survey_bands}'}}, 'encoder': {'_target_': 'case_studies.galaxy_clustering.encoder.encoder.GalaxyClusterEncoder', 'survey_bands': ['g', 'r', 'i', 'z'], 'tile_slen': '${simulator.prior.tile_slen}', 'tiles_to_crop': 0, 'min_flux_for_loss': 0, 'min_flux_for_metrics': 0, 'optimizer_params': {'lr': 0.001}, 'scheduler_params': {'milestones': [32], 'gamma': 0.1}, 'image_normalizer': {'_target_': 'bliss.encoder.image_normalizer.ImageNormalizer', 'bands': [0, 1, 2, 3], 'include_original': False, 'include_background': True, 'concat_psf_params': False, 'num_psf_params': 6, 'log_transform_stdevs': None, 'use_clahe': False, 'clahe_min_stdev': None}, 'var_dist': {'_target_': 'case_studies.galaxy_clustering.encoder.variational_dist.GalaxyClusterVariationalDist', 'tile_slen': '${encoder.tile_slen}', 'factors': '${variational_factors}'}, 'matcher': {'_target_': 'bliss.encoder.metrics.CatalogMatcher', 'dist_slack': 1.0, 'mag_slack': None, 'mag_band': 2}, 'metrics': {'_target_': 'torchmetrics.MetricCollection', '_convert_': 'partial', 'metrics': '${my_metrics}'}, 'sample_image_renders': {'_target_': 'torchmetrics.MetricCollection', 'metrics': [{'_target_': 'bliss.encoder.sample_image_renders.PlotSampleImages', 'frequency': 1, 'restrict_batch': 0, 'tiles_to_crop': 1, 'tile_slen': '${simulator.prior.tile_slen}'}]}, 'do_data_augmentation': False, 'compile_model': False, 'double_detect': False, 'use_checkerboard': False}, 'surveys': {'sdss': {'_target_': 'bliss.surveys.sdss.SloanDigitalSkySurvey', 'dir_path': '${paths.sdss}', 'fields': [{'run': 94, 'camcol': 1, 'fields': [12]}], 'psf_config': {'pixel_scale': 0.396, 'psf_slen': 25}, 'pixel_shift': 2, 'align_to_band': None, 'load_image_data': False}, 'decals': {'_target_': 'bliss.surveys.decals.DarkEnergyCameraLegacySurvey', 'dir_path': '${paths.decals}', 'sky_coords': [{'ra': 336.6643042496718, 'dec': -0.9316385797930247}], 'bands': [0, 1, 3], 'psf_config': {'pixel_scale': 0.262, 'psf_slen': 63}, 'pixel_shift': 2}, 'des': {'_target_': 'bliss.surveys.des.DarkEnergySurvey', 'dir_path': '${paths.des}', 'image_ids': [{'sky_coord': {'ra': 336.6643042496718, 'dec': -0.9316385797930247}, 'decals_brickname': '3366m010', 'ccdname': 'S28', 'g': 'decam/CP/V4.8.2a/CP20171108/c4d_171109_002003_ooi_g_ls9', 'r': 'decam/CP/V4.8.2a/CP20170926/c4d_170927_025457_ooi_r_ls9', 'i': '', 'z': 'decam/CP/V4.8.2a/CP20170926/c4d_170927_025655_ooi_z_ls9'}], 'psf_config': {'pixel_scale': 0.262, 'psf_slen': 63}, 'pixel_shift': 2}, 'dc2': {'_target_': 'bliss.surveys.dc2.DC2', 'data_dir': '${paths.dc2}/run2.2i-dr6-v4/coadd-t3828-t3829/deepCoadd-results/', 'cat_path': '${paths.dc2}/merged_catalog_with_flux_over_50.pkl', 'split_results_dir': '${paths.output}/dc2_split_results', 'batch_size': 64, 'n_split': 50, 'image_lim': [4000, 4000], 'num_workers': 4, 'split_processes_num': 4, 'min_flux_for_loss': '${encoder.min_flux_for_loss}'}}, 'mode': 'train', 'generate': {'n_image_files': 32, 'n_batches_per_file': 16, 'simulator': '${simulator}', 'cached_data_path': None, 'file_prefix': 'dataset'}, 'train': {'trainer': {'_target_': 'pytorch_lightning.Trainer', 'logger': {'_target_': 'pytorch_lightning.loggers.TensorBoardLogger', 'save_dir': '${paths.output}', 'name': None, 'version': None, 'default_hp_metric': False}, 'callbacks': [{'_target_': 'pytorch_lightning.callbacks.ModelCheckpoint', 'filename': 'best_encoder', 'save_top_k': 1, 'verbose': True, 'monitor': 'val/_loss', 'mode': 'min', 'save_on_train_epoch_end': False, 'auto_insert_metric_name': False}, {'_target_': 'pytorch_lightning.callbacks.early_stopping.EarlyStopping', 'monitor': 'val/_loss', 'mode': 'min', 'patience': 5}], 'reload_dataloaders_every_n_epochs': 0, 'check_val_every_n_epoch': 1, 'log_every_n_steps': 10, 'min_epochs': 1, 'max_epochs': 50, 'accelerator': 'gpu', 'devices': 1, 'precision': '32-true'}, 'data_source': '${cached_simulator}', 'encoder': '${encoder}', 'seed': 42, 'pretrained_weights': None, 'testing': True}, 'predict': {'dataset': '${surveys.des}', 'trainer': {'_target_': 'pytorch_lightning.Trainer', 'accelerator': 'gpu', 'precision': '${train.trainer.precision}'}, 'encoder': '${encoder}', 'weight_save_path': '${paths.root}/output/version_219/checkpoints/best_encoder.ckpt', 'device': 'cuda:0'}, 'my_metrics': {'cluster_membership_acc': {'_target_': 'case_studies.galaxy_clustering.encoder.metrics.ClusterMembershipAccuracy'}}}\n"
     ]
    }
   ],
   "source": [
    "#environ[\"BLISS_HOME\"] = str(Path().resolve().parents[1])\n",
    "with initialize(config_path=\"../\", version_base=None):\n",
    "    cfg = compose(\"config\", {\n",
    "        \"encoder.tiles_to_crop=0\",\n",
    "        })"
   ]
  },
  {
   "cell_type": "code",
   "execution_count": 7,
   "metadata": {},
   "outputs": [
    {
     "name": "stderr",
     "output_type": "stream",
     "text": [
      "GPU available: True (cuda), used: True\n",
      "TPU available: False, using: 0 TPU cores\n",
      "IPU available: False, using: 0 IPUs\n",
      "HPU available: False, using: 0 HPUs\n"
     ]
    }
   ],
   "source": [
    "encoder = instantiate(cfg.predict.encoder)\n",
    "enc_state_dict = torch.load(cfg.predict.weight_save_path)\n",
    "enc_state_dict = enc_state_dict[\"state_dict\"]\n",
    "encoder.load_state_dict(enc_state_dict)\n",
    "dataset = instantiate(cfg.cached_simulator)\n",
    "trainer = instantiate(cfg.predict.trainer)"
   ]
  },
  {
   "cell_type": "code",
   "execution_count": 9,
   "metadata": {},
   "outputs": [
    {
     "name": "stderr",
     "output_type": "stream",
     "text": [
      "LOCAL_RANK: 0 - CUDA_VISIBLE_DEVICES: [7]\n"
     ]
    },
    {
     "data": {
      "application/vnd.jupyter.widget-view+json": {
       "model_id": "f712ce2801f840f3bd3ecb1c80252738",
       "version_major": 2,
       "version_minor": 0
      },
      "text/plain": [
       "Predicting: 0it [00:00, ?it/s]"
      ]
     },
     "metadata": {},
     "output_type": "display_data"
    }
   ],
   "source": [
    "enc_output = trainer.predict(encoder, datamodule=dataset)"
   ]
  },
  {
   "cell_type": "code",
   "execution_count": 10,
   "metadata": {},
   "outputs": [],
   "source": [
    "dataloader_iter = iter(dataset.predict_dataloader())"
   ]
  },
  {
   "cell_type": "code",
   "execution_count": 91,
   "metadata": {},
   "outputs": [
    {
     "name": "stdout",
     "output_type": "stream",
     "text": [
      "tensor(0.9825)\n"
     ]
    }
   ],
   "source": [
    "for i in range(len(dataloader_iter)):\n",
    "    truth = next(dataloader_iter)\n",
    "    outputs = enc_output[i]\n",
    "    accuracy = (outputs[\"mode_cat\"][\"membership\"][:,1:19,1:19].to(torch.bool) == truth[\"tile_catalog\"][\"membership\"][:,1:19,1:19].to(torch.bool)).sum()\n",
    "    print(accuracy/(3*18**2))\n",
    "    break"
   ]
  },
  {
   "cell_type": "code",
   "execution_count": 127,
   "metadata": {},
   "outputs": [],
   "source": [
    "def create_overlay(predictions, tile_size):\n",
    "    overlay = torch.zeros((predictions.size(0) * tile_size, predictions.size(1) * tile_size, 3))\n",
    "    detection_color = torch.tensor([0.0, 1.0, 0.0])  # Green color\n",
    "    non_detection_color = torch.tensor([1.0, 0.0, 0.0])  # Red color\n",
    "    for i in range(predictions.size(0)):\n",
    "        for j in range(predictions.size(1)):\n",
    "            color = detection_color if predictions[i, j] == 1 else non_detection_color\n",
    "            overlay[i*tile_size:(i+1)*tile_size, j*tile_size:(j+1)*tile_size] = color\n",
    "    return overlay\n",
    "\n",
    "def blend_images(original, overlay, alpha=0.5, img_crop=0):\n",
    "    # Ensure the original image is in float\n",
    "    if original.max() > 1.0:\n",
    "        original = original / 255.0\n",
    "    # Blend the images\n",
    "    blended = original * (1 - alpha) + overlay * alpha\n",
    "    blended = blended[img_crop: blended.size(0) - img_crop, img_crop: blended.size(1) - img_crop]\n",
    "    print(blended.shape)\n",
    "    return blended\n",
    "\n",
    "def compute_metrics(est_cat, true_cat):\n",
    "    true_positives = (est_cat & true_cat).sum(dtype=torch.float32)\n",
    "    true_positives = (est_cat & true_cat).sum(dtype=torch.float32)\n",
    "    false_positives = (est_cat & ~true_cat).sum(dtype=torch.float32)\n",
    "    false_negatives = (~est_cat & true_cat).sum(dtype=torch.float32)\n",
    "    true_negatives = (~est_cat & ~true_cat).sum(dtype=torch.float32)\n",
    "\n",
    "    accuracy = (true_positives + true_negatives) / (true_positives + true_negatives + false_positives + false_negatives)\n",
    "    precision = true_positives / (true_positives + false_positives + 1e-6)  # Avoid division by zero\n",
    "    recall = true_positives / (true_positives + false_negatives + 1e-6)\n",
    "    f1 = 2 * (precision * recall) / (precision + recall + 1e-6)\n",
    "\n",
    "    return accuracy.item(), precision.item(), recall.item(), f1.item()\n",
    "    "
   ]
  },
  {
   "cell_type": "code",
   "execution_count": 118,
   "metadata": {},
   "outputs": [],
   "source": [
    "batch_id = 6\n",
    "dataloader_iter = iter(dataset.predict_dataloader())\n",
    "for i in range(batch_id):\n",
    "    truth = next(dataloader_iter)\n",
    "    outputs = enc_output[i]"
   ]
  },
  {
   "cell_type": "code",
   "execution_count": 128,
   "metadata": {},
   "outputs": [
    {
     "name": "stderr",
     "output_type": "stream",
     "text": [
      "Clipping input data to the valid range for imshow with RGB data ([0..1] for floats or [0..255] for integers).\n"
     ]
    },
    {
     "name": "stdout",
     "output_type": "stream",
     "text": [
      "torch.Size([1152, 1152, 3])\n",
      "Image statistics:\n",
      " Accuracy:0.8753462433815002, \n",
      " Precision: 0.21276596188545227,\n",
      " Recall: 0.555555522441864, \n",
      " F1: 0.30769190192222595\n"
     ]
    },
    {
     "data": {
      "image/png": "[encoded data removed]",
      "text/plain": [
       "<Figure size 640x480 with 1 Axes>"
      ]
     },
     "metadata": {},
     "output_type": "display_data"
    }
   ],
   "source": [
    "\n",
    "# img_id selects for an image within the batch, i.e., from 0 to batch_size - 1\n",
    "img_id = 0\n",
    "crop = 1\n",
    "n_tiles = 20\n",
    "tile_size = 64\n",
    "img_size = 1280\n",
    "\n",
    "band_idx = {\n",
    "    \"g\": 0,\n",
    "    \"r\": 1,\n",
    "    \"i\": 2,\n",
    "    \"z\": 3\n",
    "}\n",
    "\n",
    "\n",
    "est_cat = outputs[\"mode_cat\"][\"membership\"][img_id, crop: n_tiles - crop + 1, crop: n_tiles - crop + 1].to(torch.bool)\n",
    "true_cat = truth[\"tile_catalog\"][\"membership\"][img_id, crop: n_tiles - crop + 1, crop: n_tiles - crop + 1].to(torch.bool)\n",
    "\n",
    "img_acc, img_prec, img_rec, img_f1 =  compute_metrics(est_cat, true_cat)\n",
    "\n",
    "test_img = truth[\"images\"][img_id][[band_idx[\"g\"], band_idx[\"r\"], band_idx[\"z\"]]]\n",
    "test_out = outputs[\"mode_cat\"][\"membership\"][img_id].squeeze()\n",
    "overlay = create_overlay(test_out, tile_size=64)\n",
    "blended_image = blend_images(test_img.permute(1,2,0), overlay, alpha=0.35, img_crop=crop*tile_size)\n",
    "\n",
    "print(f\"Image statistics:\\n Accuracy:{img_acc}, \\n Precision: {img_prec},\\n Recall: {img_rec}, \\n F1: {img_f1}\")\n",
    "plt.imshow(blended_image)\n",
    "plt.axis('off')\n",
    "plt.show()"
   ]
  },
  {
   "cell_type": "code",
   "execution_count": 129,
   "metadata": {},
   "outputs": [
    {
     "data": {
      "text/plain": [
       "torch.Size([1152, 1152, 3])"
      ]
     },
     "execution_count": 129,
     "metadata": {},
     "output_type": "execute_result"
    }
   ],
   "source": [
    "blended_image.shape"
   ]
  },
  {
   "cell_type": "code",
   "execution_count": null,
   "metadata": {},
   "outputs": [],
   "source": []
  }
 ],
 "metadata": {
  "kernelspec": {
   "display_name": ".venv",
   "language": "python",
   "name": "python3"
  },
  "language_info": {
   "codemirror_mode": {
    "name": "ipython",
    "version": 3
   },
   "file_extension": ".py",
   "mimetype": "text/x-python",
   "name": "python",
   "nbconvert_exporter": "python",
   "pygments_lexer": "ipython3",
   "version": "3.10.12"
  }
 },
 "nbformat": 4,
 "nbformat_minor": 2
}

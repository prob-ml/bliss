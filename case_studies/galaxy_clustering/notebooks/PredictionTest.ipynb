{
 "cells": [
  {
   "cell_type": "code",
   "execution_count": 1,
   "metadata": {},
   "outputs": [],
   "source": [
    "%load_ext autoreload\n",
    "%autoreload 2"
   ]
  },
  {
   "cell_type": "code",
   "execution_count": 15,
   "metadata": {},
   "outputs": [],
   "source": [
    "import os\n",
    "from os import environ\n",
    "from pathlib import Path\n",
    "from typing import List\n",
    "\n",
    "import torch\n",
    "import pandas as pd\n",
    "import numpy as np\n",
    "\n",
    "from hydra import initialize, compose\n",
    "from hydra.utils import instantiate\n",
    "from omegaconf import DictConfig, OmegaConf\n",
    "\n",
    "import matplotlib.pyplot as plt\n",
    "from matplotlib.colors import ListedColormap\n",
    "\n",
    "from bliss.surveys.des import DarkEnergySurvey, DESDownloader\n",
    "\n",
    "from pathlib import Path\n",
    "from hydra import initialize, compose\n",
    "from bliss.main import predict\n",
    "import case_studies.galaxy_clustering.utils.diagnostics as diagnostics"
   ]
  },
  {
   "cell_type": "code",
   "execution_count": 3,
   "metadata": {},
   "outputs": [],
   "source": [
    "environ[\"CUDA_VISIBLE_DEVICES\"] = \"6\""
   ]
  },
  {
   "cell_type": "code",
   "execution_count": 4,
   "metadata": {},
   "outputs": [],
   "source": [
    "with initialize(config_path=\"../\", version_base=None):\n",
    "    cfg = compose(\"config\", {\n",
    "        \"encoder.tiles_to_crop=0\",\n",
    "        })"
   ]
  },
  {
   "cell_type": "code",
   "execution_count": 5,
   "metadata": {},
   "outputs": [
    {
     "data": {
      "text/plain": [
       "{'dataset': '${surveys.des}', 'trainer': {'_target_': 'pytorch_lightning.Trainer', 'accelerator': 'gpu', 'precision': '${train.trainer.precision}'}, 'encoder': '${encoder}', 'weight_save_path': '${paths.output}/version_23/checkpoints/best_encoder.ckpt', 'device': 'cuda:0'}"
      ]
     },
     "execution_count": 5,
     "metadata": {},
     "output_type": "execute_result"
    }
   ],
   "source": [
    "cfg.predict"
   ]
  },
  {
   "cell_type": "code",
   "execution_count": 6,
   "metadata": {},
   "outputs": [
    {
     "name": "stderr",
     "output_type": "stream",
     "text": [
      "GPU available: True (cuda), used: True\n",
      "TPU available: False, using: 0 TPU cores\n",
      "IPU available: False, using: 0 IPUs\n",
      "HPU available: False, using: 0 HPUs\n"
     ]
    }
   ],
   "source": [
    "encoder = instantiate(cfg.predict.encoder)\n",
    "enc_state_dict = torch.load(cfg.predict.weight_save_path)\n",
    "enc_state_dict = enc_state_dict[\"state_dict\"]\n",
    "encoder.load_state_dict(enc_state_dict)\n",
    "dataset = instantiate(cfg.cached_simulator)\n",
    "trainer = instantiate(cfg.predict.trainer)"
   ]
  },
  {
   "cell_type": "code",
   "execution_count": 7,
   "metadata": {},
   "outputs": [
    {
     "data": {
      "text/plain": [
       "{'_target_': 'case_studies.galaxy_clustering.encoder.encoder.GalaxyClusterEncoder', 'survey_bands': ['g', 'r', 'i', 'z'], 'tile_slen': '${simulator.prior.tile_slen}', 'tiles_to_crop': 0, 'min_flux_for_loss': 0, 'min_flux_for_metrics': 0, 'optimizer_params': {'lr': 0.001}, 'scheduler_params': {'milestones': [32], 'gamma': 0.1}, 'image_normalizer': {'_target_': 'bliss.encoder.image_normalizer.ImageNormalizer', 'bands': [0, 1, 2, 3], 'include_original': True, 'include_background': False, 'concat_psf_params': False, 'num_psf_params': 6, 'log_transform_stdevs': None, 'use_clahe': False, 'clahe_min_stdev': None, 'asinh_cutoffs': None}, 'var_dist': {'_target_': 'case_studies.galaxy_clustering.encoder.variational_dist.GalaxyClusterVariationalDist', 'tile_slen': '${encoder.tile_slen}', 'factors': '${variational_factors}'}, 'matcher': {'_target_': 'bliss.encoder.metrics.CatalogMatcher', 'dist_slack': 1.0, 'mag_slack': None, 'mag_band': 2}, 'metrics': {'_target_': 'torchmetrics.MetricCollection', '_convert_': 'partial', 'metrics': '${my_metrics}'}, 'sample_image_renders': {'_target_': 'torchmetrics.MetricCollection', 'metrics': [{'_target_': 'bliss.encoder.sample_image_renders.PlotSampleImages', 'frequency': 1, 'restrict_batch': 0, 'tiles_to_crop': 1, 'tile_slen': '${simulator.prior.tile_slen}'}]}, 'use_double_detect': False, 'use_checkerboard': False}"
      ]
     },
     "execution_count": 7,
     "metadata": {},
     "output_type": "execute_result"
    }
   ],
   "source": [
    "cfg.predict.encoder"
   ]
  },
  {
   "cell_type": "code",
   "execution_count": 8,
   "metadata": {},
   "outputs": [
    {
     "name": "stderr",
     "output_type": "stream",
     "text": [
      "WARNING: add postfix '_size_XXXX' to file name; otherwise it'll be very slow\n",
      "\n",
      "LOCAL_RANK: 0 - CUDA_VISIBLE_DEVICES: [6]\n"
     ]
    },
    {
     "data": {
      "application/vnd.jupyter.widget-view+json": {
       "model_id": "a47bd7e16cda4e21ac9671c73ee5cd51",
       "version_major": 2,
       "version_minor": 0
      },
      "text/plain": [
       "Predicting: 0it [00:00, ?it/s]"
      ]
     },
     "metadata": {},
     "output_type": "display_data"
    }
   ],
   "source": [
    "enc_output = trainer.predict(encoder, datamodule=dataset)"
   ]
  },
  {
   "cell_type": "code",
   "execution_count": 9,
   "metadata": {},
   "outputs": [],
   "source": [
    "dataloader_iter = iter(dataset.predict_dataloader())"
   ]
  },
  {
   "cell_type": "code",
   "execution_count": 10,
   "metadata": {},
   "outputs": [
    {
     "data": {
      "text/plain": [
       "torch.Size([2, 10, 10, 1, 1])"
      ]
     },
     "execution_count": 10,
     "metadata": {},
     "output_type": "execute_result"
    }
   ],
   "source": [
    "enc_output[0][\"mode_cat\"][\"membership\"].shape"
   ]
  },
  {
   "cell_type": "code",
   "execution_count": 11,
   "metadata": {},
   "outputs": [
    {
     "name": "stdout",
     "output_type": "stream",
     "text": [
      "tensor(0.9650)\n"
     ]
    }
   ],
   "source": [
    "truth = next(dataloader_iter)\n",
    "outputs = enc_output[0]\n",
    "accuracy = (outputs[\"mode_cat\"][\"membership\"].to(torch.bool) == truth[\"tile_catalog\"][\"membership\"].to(torch.bool)).sum()\n",
    "print(accuracy/(2*10**2))"
   ]
  },
  {
   "cell_type": "code",
   "execution_count": 12,
   "metadata": {},
   "outputs": [
    {
     "data": {
      "text/plain": [
       "tensor(193)"
      ]
     },
     "execution_count": 12,
     "metadata": {},
     "output_type": "execute_result"
    }
   ],
   "source": [
    "(outputs[\"mode_cat\"][\"membership\"] == truth[\"tile_catalog\"][\"membership\"]).sum()"
   ]
  },
  {
   "cell_type": "code",
   "execution_count": 13,
   "metadata": {},
   "outputs": [
    {
     "data": {
      "text/plain": [
       "torch.Size([2, 10, 10, 1, 1])"
      ]
     },
     "execution_count": 13,
     "metadata": {},
     "output_type": "execute_result"
    }
   ],
   "source": [
    "truth[\"tile_catalog\"][\"membership\"].shape"
   ]
  },
  {
   "cell_type": "code",
   "execution_count": 19,
   "metadata": {},
   "outputs": [],
   "source": [
    "batch_id = 1\n",
    "dataloader_iter = iter(dataset.predict_dataloader())\n",
    "for i in range(batch_id):\n",
    "    truth = next(dataloader_iter)\n",
    "    outputs = enc_output[i]"
   ]
  },
  {
   "cell_type": "code",
   "execution_count": 22,
   "metadata": {},
   "outputs": [
    {
     "name": "stderr",
     "output_type": "stream",
     "text": [
      "Clipping input data to the valid range for imshow with RGB data ([0..1] for floats or [0..255] for integers).\n"
     ]
    },
    {
     "name": "stdout",
     "output_type": "stream",
     "text": [
      "Image statistics:\n",
      " Accuracy:1.0, \n",
      " Precision: 0.0,\n",
      " Recall: 0.0, \n",
      " F1: 0.0\n"
     ]
    },
    {
     "data": {
      "image/png": "[encoded data removed]",
      "text/plain": [
       "<Figure size 640x480 with 1 Axes>"
      ]
     },
     "metadata": {},
     "output_type": "display_data"
    }
   ],
   "source": [
    "\n",
    "# img_id selects for an image within the batch, i.e., from 0 to batch_size - 1\n",
    "img_id = 0\n",
    "crop = 0\n",
    "n_tiles = 20\n",
    "tile_size = 128\n",
    "img_size = 1280\n",
    "\n",
    "band_idx = {\n",
    "    \"g\": 0,\n",
    "    \"r\": 1,\n",
    "    \"i\": 2,\n",
    "    \"z\": 3\n",
    "}\n",
    "\n",
    "\n",
    "est_cat = outputs[\"mode_cat\"][\"membership\"][img_id, crop: n_tiles - crop + 1, crop: n_tiles - crop + 1].to(torch.bool)\n",
    "true_cat = truth[\"tile_catalog\"][\"membership\"][img_id, crop: n_tiles - crop + 1, crop: n_tiles - crop + 1].to(torch.bool)\n",
    "\n",
    "img_acc, img_prec, img_rec, img_f1 =  diagnostics.compute_metrics(est_cat, true_cat)\n",
    "\n",
    "test_img = truth[\"images\"][img_id][[band_idx[\"g\"], band_idx[\"r\"], band_idx[\"z\"]]]\n",
    "test_out = outputs[\"mode_cat\"][\"membership\"][img_id].squeeze()\n",
    "overlay = diagnostics.create_overlay(test_out, tile_size=tile_size)\n",
    "blended_image = diagnostics.blend_images(test_img.permute(1,2,0), overlay, alpha=0.35, img_crop=crop*tile_size)\n",
    "\n",
    "print(f\"Image statistics:\\n Accuracy:{img_acc}, \\n Precision: {img_prec},\\n Recall: {img_rec}, \\n F1: {img_f1}\")\n",
    "plt.imshow(blended_image)\n",
    "plt.axis('off')\n",
    "plt.show()\n",
    "\n",
    "#est_cat = est_cat.squeeze()\n",
    "#true_cat = true_cat.squeeze()\n",
    "#pred_heatmap = 2*est_cat + true_cat\n",
    "\n",
    "#cmap = ListedColormap(['green', 'yellow', 'orange', 'lime'])\n",
    "\n",
    "#plt.imshow(pred_heatmap, cmap=cmap)\n",
    "#cbar = plt.colorbar()\n",
    "\n",
    "#yticks = np.linspace(*cbar.ax.get_ylim(), cmap.N+1)[:-1]\n",
    "#yticks += (yticks[1] - yticks[0]) / 2\n",
    "\n",
    "# add tick labels to colorbar\n",
    "#cbar.set_ticks(yticks, labels=['true negative','false negative','false positive','true positive'])\n",
    "#cbar.ax.tick_params(length=0)\n",
    "#plt.show()"
   ]
  },
  {
   "cell_type": "code",
   "execution_count": 23,
   "metadata": {},
   "outputs": [
    {
     "data": {
      "image/png": "[encoded data removed]",
      "text/plain": [
       "<Figure size 600x600 with 2 Axes>"
      ]
     },
     "metadata": {},
     "output_type": "display_data"
    },
    {
     "data": {
      "image/png": "[encoded data removed]",
      "text/plain": [
       "<Figure size 600x600 with 2 Axes>"
      ]
     },
     "metadata": {},
     "output_type": "display_data"
    },
    {
     "data": {
      "text/plain": [
       "<Figure size 640x480 with 0 Axes>"
      ]
     },
     "metadata": {},
     "output_type": "display_data"
    }
   ],
   "source": [
    "prob_array = enc_output[1][\"parameters\"].sigmoid().clamp(1e-4, 1 - 1e-4)[0].squeeze().numpy()\n",
    "variance = prob_array * (1 - prob_array)\n",
    "\n",
    "plt.figure(figsize=(6,6))\n",
    "plt.imshow(prob_array, cmap='viridis', interpolation='nearest')\n",
    "plt.colorbar(label='Probability')\n",
    "plt.title('Probability Heatmap')\n",
    "plt.xlabel('X-axis')\n",
    "plt.ylabel('Y-axis')\n",
    "plt.show()\n",
    "\n",
    "plt.figure(figsize=(6,6))\n",
    "plt.imshow(variance, cmap='viridis', interpolation='nearest')\n",
    "plt.colorbar(label='Variance')\n",
    "plt.title('Variance Heatmap')\n",
    "plt.xlabel('X-axis')\n",
    "plt.ylabel('Y-axis')\n",
    "plt.show()\n",
    "\n",
    "plt.tight_layout()"
   ]
  },
  {
   "cell_type": "code",
   "execution_count": null,
   "metadata": {},
   "outputs": [],
   "source": []
  }
 ],
 "metadata": {
  "kernelspec": {
   "display_name": ".venv",
   "language": "python",
   "name": "python3"
  },
  "language_info": {
   "codemirror_mode": {
    "name": "ipython",
    "version": 3
   },
   "file_extension": ".py",
   "mimetype": "text/x-python",
   "name": "python",
   "nbconvert_exporter": "python",
   "pygments_lexer": "ipython3",
   "version": "3.10.12"
  }
 },
 "nbformat": 4,
 "nbformat_minor": 2
}

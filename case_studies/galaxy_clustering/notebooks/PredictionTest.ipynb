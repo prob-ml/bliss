{
 "cells": [
  {
   "cell_type": "code",
   "execution_count": 9,
   "metadata": {},
   "outputs": [
    {
     "name": "stdout",
     "output_type": "stream",
     "text": [
      "The autoreload extension is already loaded. To reload it, use:\n",
      "  %reload_ext autoreload\n"
     ]
    }
   ],
   "source": [
    "%load_ext autoreload\n",
    "%autoreload 2"
   ]
  },
  {
   "cell_type": "code",
   "execution_count": 61,
   "metadata": {},
   "outputs": [],
   "source": [
    "import os\n",
    "from os import environ\n",
    "from pathlib import Path\n",
    "from typing import List\n",
    "\n",
    "import torch\n",
    "import pandas as pd\n",
    "import numpy as np\n",
    "\n",
    "from hydra import initialize, compose\n",
    "from hydra.utils import instantiate\n",
    "from omegaconf import DictConfig, OmegaConf\n",
    "\n",
    "import matplotlib.pyplot as plt\n",
    "from matplotlib.colors import ListedColormap\n",
    "\n",
    "from bliss.surveys.des import DarkEnergySurvey, DESDownloader\n",
    "\n",
    "from pathlib import Path\n",
    "from hydra import initialize, compose\n",
    "from bliss.main import predict"
   ]
  },
  {
   "cell_type": "code",
   "execution_count": 11,
   "metadata": {},
   "outputs": [],
   "source": [
    "environ[\"CUDA_VISIBLE_DEVICES\"] = \"2\""
   ]
  },
  {
   "cell_type": "code",
   "execution_count": 12,
   "metadata": {},
   "outputs": [],
   "source": [
    "with initialize(config_path=\"../\", version_base=None):\n",
    "    cfg = compose(\"config\", {\n",
    "        \"encoder.tiles_to_crop=0\",\n",
    "        })"
   ]
  },
  {
   "cell_type": "code",
   "execution_count": 13,
   "metadata": {},
   "outputs": [
    {
     "data": {
      "text/plain": [
       "{'dataset': '${surveys.des}', 'trainer': {'_target_': 'pytorch_lightning.Trainer', 'accelerator': 'gpu', 'precision': '${train.trainer.precision}'}, 'encoder': '${encoder}', 'weight_save_path': '${paths.output}/version_1/checkpoints/best_encoder.ckpt', 'device': 'cuda:0'}"
      ]
     },
     "execution_count": 13,
     "metadata": {},
     "output_type": "execute_result"
    }
   ],
   "source": [
    "cfg.predict"
   ]
  },
  {
   "cell_type": "code",
   "execution_count": 14,
   "metadata": {},
   "outputs": [
    {
     "name": "stderr",
     "output_type": "stream",
     "text": [
      "GPU available: True (cuda), used: True\n",
      "TPU available: False, using: 0 TPU cores\n",
      "IPU available: False, using: 0 IPUs\n",
      "HPU available: False, using: 0 HPUs\n"
     ]
    }
   ],
   "source": [
    "encoder = instantiate(cfg.predict.encoder)\n",
    "enc_state_dict = torch.load(cfg.predict.weight_save_path)\n",
    "enc_state_dict = enc_state_dict[\"state_dict\"]\n",
    "encoder.load_state_dict(enc_state_dict)\n",
    "dataset = instantiate(cfg.cached_simulator)\n",
    "trainer = instantiate(cfg.predict.trainer)"
   ]
  },
  {
   "cell_type": "code",
   "execution_count": 15,
   "metadata": {},
   "outputs": [
    {
     "data": {
      "text/plain": [
       "{'_target_': 'case_studies.galaxy_clustering.encoder.encoder.GalaxyClusterEncoder', 'survey_bands': ['g', 'r', 'i', 'z'], 'tile_slen': '${simulator.prior.tile_slen}', 'tiles_to_crop': 0, 'min_flux_for_loss': 0, 'min_flux_for_metrics': 0, 'optimizer_params': {'lr': 0.001}, 'scheduler_params': {'milestones': [32], 'gamma': 0.1}, 'image_normalizer': {'_target_': 'bliss.encoder.image_normalizer.ImageNormalizer', 'bands': [0, 1, 2, 3], 'include_original': True, 'include_background': False, 'concat_psf_params': False, 'num_psf_params': 6, 'log_transform_stdevs': None, 'use_clahe': False, 'clahe_min_stdev': None}, 'var_dist': {'_target_': 'case_studies.galaxy_clustering.encoder.variational_dist.GalaxyClusterVariationalDist', 'tile_slen': '${encoder.tile_slen}', 'factors': '${variational_factors}'}, 'matcher': {'_target_': 'bliss.encoder.metrics.CatalogMatcher', 'dist_slack': 1.0, 'mag_slack': None, 'mag_band': 2}, 'metrics': {'_target_': 'torchmetrics.MetricCollection', '_convert_': 'partial', 'metrics': '${my_metrics}'}, 'sample_image_renders': {'_target_': 'torchmetrics.MetricCollection', 'metrics': [{'_target_': 'bliss.encoder.sample_image_renders.PlotSampleImages', 'frequency': 1, 'restrict_batch': 0, 'tiles_to_crop': 1, 'tile_slen': '${simulator.prior.tile_slen}'}]}, 'do_data_augmentation': False, 'compile_model': False, 'double_detect': False, 'use_checkerboard': False}"
      ]
     },
     "execution_count": 15,
     "metadata": {},
     "output_type": "execute_result"
    }
   ],
   "source": [
    "cfg.predict.encoder"
   ]
  },
  {
   "cell_type": "code",
   "execution_count": 16,
   "metadata": {},
   "outputs": [
    {
     "name": "stderr",
     "output_type": "stream",
     "text": [
      "LOCAL_RANK: 0 - CUDA_VISIBLE_DEVICES: [2]\n"
     ]
    },
    {
     "data": {
      "application/vnd.jupyter.widget-view+json": {
       "model_id": "3db376d729744bd8aeebe21ae6524757",
       "version_major": 2,
       "version_minor": 0
      },
      "text/plain": [
       "Predicting: 0it [00:00, ?it/s]"
      ]
     },
     "metadata": {},
     "output_type": "display_data"
    }
   ],
   "source": [
    "enc_output = trainer.predict(encoder, datamodule=dataset)"
   ]
  },
  {
   "cell_type": "code",
   "execution_count": 17,
   "metadata": {},
   "outputs": [],
   "source": [
    "dataloader_iter = iter(dataset.predict_dataloader())"
   ]
  },
  {
   "cell_type": "code",
   "execution_count": 19,
   "metadata": {},
   "outputs": [
    {
     "data": {
      "text/plain": [
       "torch.Size([2, 10, 10, 1, 1])"
      ]
     },
     "execution_count": 19,
     "metadata": {},
     "output_type": "execute_result"
    }
   ],
   "source": [
    "enc_output[0][\"mode_cat\"][\"membership\"].shape"
   ]
  },
  {
   "cell_type": "code",
   "execution_count": 26,
   "metadata": {},
   "outputs": [
    {
     "name": "stdout",
     "output_type": "stream",
     "text": [
      "tensor(0.9200)\n"
     ]
    }
   ],
   "source": [
    "truth = next(dataloader_iter)\n",
    "outputs = enc_output[0]\n",
    "accuracy = (outputs[\"mode_cat\"][\"membership\"].to(torch.bool) == truth[\"tile_catalog\"][\"membership\"].to(torch.bool)).sum()\n",
    "print(accuracy/(2*10**2))"
   ]
  },
  {
   "cell_type": "code",
   "execution_count": 27,
   "metadata": {},
   "outputs": [
    {
     "data": {
      "text/plain": [
       "tensor(184)"
      ]
     },
     "execution_count": 27,
     "metadata": {},
     "output_type": "execute_result"
    }
   ],
   "source": [
    "(outputs[\"mode_cat\"][\"membership\"] == truth[\"tile_catalog\"][\"membership\"]).sum()"
   ]
  },
  {
   "cell_type": "code",
   "execution_count": 28,
   "metadata": {},
   "outputs": [
    {
     "data": {
      "text/plain": [
       "torch.Size([2, 10, 10, 1, 1])"
      ]
     },
     "execution_count": 28,
     "metadata": {},
     "output_type": "execute_result"
    }
   ],
   "source": [
    "truth[\"tile_catalog\"][\"membership\"].shape"
   ]
  },
  {
   "cell_type": "code",
   "execution_count": 29,
   "metadata": {},
   "outputs": [],
   "source": [
    "def create_overlay(predictions, tile_size):\n",
    "    overlay = torch.zeros((predictions.size(0) * tile_size, predictions.size(1) * tile_size, 3))\n",
    "    detection_color = torch.tensor([0.0, 1.0, 0.0])  # Green color\n",
    "    non_detection_color = torch.tensor([1.0, 0.0, 0.0])  # Red color\n",
    "    for i in range(predictions.size(0)):\n",
    "        for j in range(predictions.size(1)):\n",
    "            color = detection_color if predictions[i, j] == 1 else non_detection_color\n",
    "            overlay[i*tile_size:(i+1)*tile_size, j*tile_size:(j+1)*tile_size] = color\n",
    "    return overlay\n",
    "\n",
    "def blend_images(original, overlay, alpha=0.5, img_crop=0):\n",
    "    # Ensure the original image is in float\n",
    "    if original.max() > 1.0:\n",
    "        original = original / 255.0\n",
    "    # Blend the images\n",
    "    blended = original * (1 - alpha) + overlay * alpha\n",
    "    blended = blended[img_crop: blended.size(0) - img_crop, img_crop: blended.size(1) - img_crop]\n",
    "    print(blended.shape)\n",
    "    return blended\n",
    "\n",
    "def compute_metrics(est_cat, true_cat):\n",
    "    true_positives = (est_cat & true_cat).sum(dtype=torch.float32)\n",
    "    true_positives = (est_cat & true_cat).sum(dtype=torch.float32)\n",
    "    false_positives = (est_cat & ~true_cat).sum(dtype=torch.float32)\n",
    "    false_negatives = (~est_cat & true_cat).sum(dtype=torch.float32)\n",
    "    true_negatives = (~est_cat & ~true_cat).sum(dtype=torch.float32)\n",
    "\n",
    "    accuracy = (true_positives + true_negatives) / (true_positives + true_negatives + false_positives + false_negatives)\n",
    "    precision = true_positives / (true_positives + false_positives + 1e-6)  # Avoid division by zero\n",
    "    recall = true_positives / (true_positives + false_negatives + 1e-6)\n",
    "    f1 = 2 * (precision * recall) / (precision + recall + 1e-6)\n",
    "\n",
    "    return accuracy.item(), precision.item(), recall.item(), f1.item()\n",
    "    "
   ]
  },
  {
   "cell_type": "code",
   "execution_count": 120,
   "metadata": {},
   "outputs": [],
   "source": [
    "batch_id = 3\n",
    "dataloader_iter = iter(dataset.predict_dataloader())\n",
    "for i in range(batch_id):\n",
    "    truth = next(dataloader_iter)\n",
    "    outputs = enc_output[i]"
   ]
  },
  {
   "cell_type": "code",
   "execution_count": 121,
   "metadata": {},
   "outputs": [
    {
     "name": "stderr",
     "output_type": "stream",
     "text": [
      "Clipping input data to the valid range for imshow with RGB data ([0..1] for floats or [0..255] for integers).\n"
     ]
    },
    {
     "name": "stdout",
     "output_type": "stream",
     "text": [
      "torch.Size([1280, 1280, 3])\n",
      "Image statistics:\n",
      " Accuracy:0.9900000095367432, \n",
      " Precision: 0.9999998211860657,\n",
      " Recall: 0.8571427464485168, \n",
      " F1: 0.9230762720108032\n"
     ]
    },
    {
     "data": {
      "image/png": "[encoded data removed]",
      "text/plain": [
       "<Figure size 640x480 with 1 Axes>"
      ]
     },
     "metadata": {},
     "output_type": "display_data"
    },
    {
     "data": {
      "image/png": "[encoded data removed]",
      "text/plain": [
       "<Figure size 640x480 with 2 Axes>"
      ]
     },
     "metadata": {},
     "output_type": "display_data"
    }
   ],
   "source": [
    "\n",
    "# img_id selects for an image within the batch, i.e., from 0 to batch_size - 1\n",
    "img_id = 0\n",
    "crop = 0\n",
    "n_tiles = 20\n",
    "tile_size = 128\n",
    "img_size = 1280\n",
    "\n",
    "band_idx = {\n",
    "    \"g\": 0,\n",
    "    \"r\": 1,\n",
    "    \"i\": 2,\n",
    "    \"z\": 3\n",
    "}\n",
    "\n",
    "\n",
    "est_cat = outputs[\"mode_cat\"][\"membership\"][img_id, crop: n_tiles - crop + 1, crop: n_tiles - crop + 1].to(torch.bool)\n",
    "true_cat = truth[\"tile_catalog\"][\"membership\"][img_id, crop: n_tiles - crop + 1, crop: n_tiles - crop + 1].to(torch.bool)\n",
    "\n",
    "img_acc, img_prec, img_rec, img_f1 =  compute_metrics(est_cat, true_cat)\n",
    "\n",
    "test_img = truth[\"images\"][img_id][[band_idx[\"g\"], band_idx[\"r\"], band_idx[\"z\"]]]\n",
    "test_out = outputs[\"mode_cat\"][\"membership\"][img_id].squeeze()\n",
    "overlay = create_overlay(test_out, tile_size=tile_size)\n",
    "blended_image = blend_images(test_img.permute(1,2,0), overlay, alpha=0.35, img_crop=crop*tile_size)\n",
    "\n",
    "print(f\"Image statistics:\\n Accuracy:{img_acc}, \\n Precision: {img_prec},\\n Recall: {img_rec}, \\n F1: {img_f1}\")\n",
    "plt.imshow(blended_image)\n",
    "plt.axis('off')\n",
    "plt.show()\n",
    "\n",
    "est_cat = est_cat.squeeze()\n",
    "true_cat = true_cat.squeeze()\n",
    "pred_heatmap = 2*est_cat + true_cat\n",
    "\n",
    "cmap = ListedColormap(['green', 'yellow', 'orange', 'lime'])\n",
    "\n",
    "plt.imshow(pred_heatmap, cmap=cmap)\n",
    "cbar = plt.colorbar()\n",
    "\n",
    "yticks = np.linspace(*cbar.ax.get_ylim(), cmap.N+1)[:-1]\n",
    "yticks += (yticks[1] - yticks[0]) / 2\n",
    "\n",
    "# add tick labels to colorbar\n",
    "cbar.set_ticks(yticks, labels=['true negative','false negative','false positive','true positive'])\n",
    "cbar.ax.tick_params(length=0)\n",
    "plt.show()"
   ]
  },
  {
   "cell_type": "code",
   "execution_count": null,
   "metadata": {},
   "outputs": [],
   "source": []
  }
 ],
 "metadata": {
  "kernelspec": {
   "display_name": ".venv",
   "language": "python",
   "name": "python3"
  },
  "language_info": {
   "codemirror_mode": {
    "name": "ipython",
    "version": 3
   },
   "file_extension": ".py",
   "mimetype": "text/x-python",
   "name": "python",
   "nbconvert_exporter": "python",
   "pygments_lexer": "ipython3",
   "version": "3.10.12"
  }
 },
 "nbformat": 4,
 "nbformat_minor": 2
}

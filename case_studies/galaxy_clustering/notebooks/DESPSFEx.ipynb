{
 "cells": [
  {
   "cell_type": "markdown",
   "metadata": {},
   "source": [
    "## PSF Modeling\n",
    "\n",
    "PSF modeling with *SExtractor* and *PSFExtractor* consists of three steps:\n",
    "\n",
    "- Preprocessing: It requires decompressing the CompImageHDU with the image and then store it in uncompressed (.fits) format for further processing. HDUs 2 and 3 corresponding to Image mask and weights, respectively, do not seem to interact well with PSFExtractor, and so I only keep HDU 1 (the actual image) and HDU 0 (metadata).\n",
    "\n",
    "- SExtractor: Run *SExtractor* software with *config.sex* for configuration parameters and *config.param* for the output parameters. The parameter file name is specified in *config.sex*, and so the command for running it looks like:\n",
    "\n",
    "                source-extractor path/to/uncompressed-image.fits -c config.sex\n",
    "\n",
    "- PSFExtractor: Run *PSFExtractor* with the values in *config.psfex*. Running it looks like this:\n",
    "\n",
    "                psfex path/to/sextractor-catalog.cat - config.psf\n",
    "\n",
    "Both parameters and parameter values are obtained from: https://arxiv.org/pdf/1801.03177.\n",
    "\n",
    "I have also added a small subsection on postprocessing, where I draw a small image from the resulting PSF. Hope it's useful."
   ]
  },
  {
   "cell_type": "markdown",
   "metadata": {},
   "source": [
    "## Preprocessing"
   ]
  },
  {
   "cell_type": "code",
   "execution_count": 22,
   "metadata": {},
   "outputs": [],
   "source": [
    "from astropy.io import fits\n",
    "\n",
    "# Open the original FITS file with compressed HDUs\n",
    "filepath = '/nfs/turbo/lsa-regier/scratch/gapatron/desdr-server.ncsa.illinois.edu/despublic/dr2_tiles/DES0000+0209/'\n",
    "compressed_filename = 'DES0000+0209_r4907p01_r_nobkg.fits.fz'\n",
    "uncompressed_filename = 'DES0000+0209_r4907p01_r_nobkg_decompressed.fits'\n",
    "save_hdu = 1\n",
    "\n",
    "with fits.open(filepath + compressed_filename) as hdul:\n",
    "    # Create a new HDUList to store the decompressed HDUs\n",
    "    decompressed_hdul = fits.HDUList()\n",
    "    \n",
    "    # Loop over each HDU in the original file\n",
    "    for (i,hdu) in enumerate(hdul):\n",
    "        # Check if the HDU is a compressed image and decompress it\n",
    "        if isinstance(hdu, fits.CompImageHDU):\n",
    "            decompressed_data = hdu.data  # Access the decompressed data\n",
    "            decompressed_header = hdu.header  # Copy the header\n",
    "            # Create a new ImageHDU with the decompressed data\n",
    "            new_hdu = fits.ImageHDU(data=decompressed_data, header=decompressed_header)\n",
    "            decompressed_hdul.append(new_hdu)\n",
    "            # Exit after the HDU 1, in this case.\n",
    "            if i == save_hdu:\n",
    "                break\n",
    "        else:\n",
    "            # If it's not a compressed HDU, just copy it over\n",
    "            decompressed_hdul.append(hdu)\n",
    "        \n",
    "\n",
    "    # Save the decompressed file\n",
    "    decompressed_hdul.writeto(filepath + uncompressed_filename, overwrite=True)\n"
   ]
  },
  {
   "cell_type": "markdown",
   "metadata": {},
   "source": [
    "## Postprocessing"
   ]
  },
  {
   "cell_type": "code",
   "execution_count": 1,
   "metadata": {},
   "outputs": [],
   "source": [
    "# The Galsim Des module must be imported separately from Galsim\n",
    "import galsim.des"
   ]
  },
  {
   "cell_type": "code",
   "execution_count": 15,
   "metadata": {},
   "outputs": [],
   "source": [
    "# The docs are useful here: https://galsim-developers.github.io/GalSim/_build/html/_modules/galsim/des/des_psfex.html\n",
    "# The main docstring contains a discussion on coordinate systems, WCS vs. Image coordinates... probably important for us.\n",
    "des_psfex=galsim.des.DES_PSFEx(\"../psfextraction/test.psf\")\n",
    "image_x, image_y = 100, 100\n",
    "image_pos = galsim.PositionD(image_x, image_y)\n",
    "psf = des_psfex.getPSF(image_pos)\n",
    "psf_array = des_psfex.getPSFArray(image_pos)\n",
    "# psf here is an interpolated image."
   ]
  },
  {
   "cell_type": "code",
   "execution_count": 16,
   "metadata": {},
   "outputs": [
    {
     "data": {
      "text/plain": [
       "<matplotlib.image.AxesImage at 0x7f347731bc70>"
      ]
     },
     "execution_count": 16,
     "metadata": {},
     "output_type": "execute_result"
    },
    {
     "data": {
      "image/png": "[encoded data removed]",
      "text/plain": [
       "<Figure size 640x480 with 1 Axes>"
      ]
     },
     "metadata": {},
     "output_type": "display_data"
    }
   ],
   "source": [
    "import matplotlib.pyplot as plt\n",
    "plt.imshow(psf_array)"
   ]
  }
 ],
 "metadata": {
  "kernelspec": {
   "display_name": ".venv",
   "language": "python",
   "name": "python3"
  },
  "language_info": {
   "codemirror_mode": {
    "name": "ipython",
    "version": 3
   },
   "file_extension": ".py",
   "mimetype": "text/x-python",
   "name": "python",
   "nbconvert_exporter": "python",
   "pygments_lexer": "ipython3",
   "version": "3.10.12"
  }
 },
 "nbformat": 4,
 "nbformat_minor": 2
}

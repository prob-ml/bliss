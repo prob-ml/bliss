{
 "cells": [
  {
   "cell_type": "code",
   "execution_count": 10,
   "metadata": {},
   "outputs": [],
   "source": [
    "import torch\n",
    "import numpy as np\n",
    "import os\n",
    "import random"
   ]
  },
  {
   "cell_type": "code",
   "execution_count": 2,
   "metadata": {},
   "outputs": [],
   "source": [
    "DES_DIR = \"/nfs/turbo/lsa-regier/scratch/gapatron/desdr-server.ncsa.illinois.edu/despublic/dr2_tiles\"\n",
    "DES_BANDS = (\"g\", \"r\", \"i\", \"z\")\n",
    "DES_SUBDIRS = [d for d in os.listdir(DES_DIR) if d.startswith(\"DES\")]\n",
    "tiles_per_img = 64"
   ]
  },
  {
   "cell_type": "code",
   "execution_count": 3,
   "metadata": {},
   "outputs": [],
   "source": [
    "def convert_to_global_idx(tile_idx, gpu_idx):\n",
    "    num_gpus = 2\n",
    "    tiles_per_img = 64\n",
    "    batch_size = 2\n",
    "    dir_idx = int(num_gpus * (tile_idx // (tiles_per_img / batch_size)) + gpu_idx)\n",
    "    subimage_idx = [(batch_size * tile_idx + i) % tiles_per_img for i in range(batch_size)]\n",
    "    return dir_idx, subimage_idx\n",
    "\n",
    "def convert_to_tile_idx(dir_idx):\n",
    "    num_gpus = 2\n",
    "    tiles_per_img = 64\n",
    "    batch_size = 2\n",
    "    gpu_idx = dir_idx % num_gpus\n",
    "    tile_starting_idx = (tiles_per_img / batch_size) * (dir_idx // num_gpus)\n",
    "    return int(tile_starting_idx), int(gpu_idx)"
   ]
  },
  {
   "cell_type": "code",
   "execution_count": 4,
   "metadata": {},
   "outputs": [
    {
     "name": "stdout",
     "output_type": "stream",
     "text": [
      "Directory: DES0053-2041\n",
      "Subimage: [0, 1]\n"
     ]
    }
   ],
   "source": [
    "tile_idx = 0\n",
    "gpu_idx = 0\n",
    "\n",
    "dir_idx, subimage_idx = convert_to_global_idx(tile_idx, gpu_idx)\n",
    "print(f\"Directory: {DES_SUBDIRS[dir_idx]}\")\n",
    "print(f\"Subimage: {subimage_idx}\")"
   ]
  },
  {
   "cell_type": "code",
   "execution_count": 5,
   "metadata": {},
   "outputs": [
    {
     "data": {
      "text/plain": [
       "torch.Size([64, 1280, 1280])"
      ]
     },
     "execution_count": 5,
     "metadata": {},
     "output_type": "execute_result"
    }
   ],
   "source": [
    "memberships = torch.empty((0,10,10))\n",
    "output_dir = \"/data/scratch/des/dr2_detection_output/run_0\"\n",
    "dir_idx = 10167\n",
    "tile_starting_idx, gpu_idx = convert_to_tile_idx(dir_idx)\n",
    "for tile in range(tile_starting_idx, tile_starting_idx + 32):\n",
    "    file = torch.load(f\"{output_dir}/tile_{tile}_gpu_{gpu_idx}.pt\")\n",
    "    memberships = torch.cat((memberships, file[\"mode_cat\"][\"membership\"].squeeze()), dim=0)\n",
    "\n",
    "expanded_memberships = torch.repeat_interleave(memberships, repeats=128, dim=1)\n",
    "expanded_memberships = torch.repeat_interleave(expanded_memberships, repeats=128, dim=2)\n",
    "expanded_memberships.shape"
   ]
  },
  {
   "cell_type": "code",
   "execution_count": 34,
   "metadata": {},
   "outputs": [
    {
     "data": {
      "text/plain": [
       "500"
      ]
     },
     "execution_count": 34,
     "metadata": {},
     "output_type": "execute_result"
    }
   ],
   "source": [
    "# gpu 0 : 0, 2, 4, 6, 8, ...\n",
    "# gpu 1 : 1, 3, 5, 7, 9, ...\n",
    "\n",
    "# tile_0 : 0, 1             -- image 0\n",
    "# tile_1 : 2, 3             -- image 0\n",
    "# tile_2 : 4, 5             -- image 0\n",
    "# ...\n",
    "# tile_31 : 62, 63          -- image 0\n",
    "# tile_32 : 64, 65          -- image 1 (image 2 overall)\n",
    "\n",
    "# tile_t_gpu_g --> dir_id = 2 * (t // 32) + g\n",
    "#              --> sub_id = (2*t % 64), (2*t + 1) % 64"
   ]
  },
  {
   "cell_type": "code",
   "execution_count": 9,
   "metadata": {},
   "outputs": [],
   "source": [
    "def count_num_clusters(dir_idx):\n",
    "    memberships = torch.empty((0,10,10))\n",
    "    tile_starting_idx, gpu_idx = convert_to_tile_idx(dir_idx)\n",
    "    for tile in range(tile_starting_idx, tile_starting_idx + 32):\n",
    "        file = torch.load(f\"{output_dir}/tile_{tile}_gpu_{gpu_idx}.pt\")\n",
    "        memberships = torch.cat((memberships, file[\"mode_cat\"][\"membership\"].squeeze()), dim=0)\n",
    "    memberships = torch.repeat_interleave(memberships, repeats=128, dim=1)\n",
    "    memberships = torch.repeat_interleave(memberships, repeats=128, dim=2)\n",
    "    return torch.any(memberships.view(memberships.shape[0], -1), dim=1).sum()"
   ]
  },
  {
   "cell_type": "code",
   "execution_count": 13,
   "metadata": {},
   "outputs": [],
   "source": [
    "random_sample = random.sample(list(enumerate(DES_SUBDIRS)), 100)"
   ]
  },
  {
   "cell_type": "code",
   "execution_count": 14,
   "metadata": {},
   "outputs": [],
   "source": [
    "num_clusters = {}\n",
    "for dir_idx , dir in random_sample:\n",
    "    num_clusters[dir] = count_num_clusters(dir_idx)"
   ]
  },
  {
   "cell_type": "code",
   "execution_count": 25,
   "metadata": {},
   "outputs": [],
   "source": [
    "num_clusters_vals = list(num_clusters.values())"
   ]
  },
  {
   "cell_type": "code",
   "execution_count": 30,
   "metadata": {},
   "outputs": [
    {
     "data": {
      "image/png": "[encoded data removed]",
      "text/plain": [
       "<Figure size 800x800 with 1 Axes>"
      ]
     },
     "metadata": {},
     "output_type": "display_data"
    }
   ],
   "source": [
    "import matplotlib.pyplot as plt\n",
    "plt.figure(figsize=(8,8))\n",
    "plt.xlabel(\"Number of image patches containing clusters in each DES tile\")\n",
    "plt.ylabel(\"Counts\")\n",
    "plt.title(\"Histogram of random sample of 100 DES tiles\")\n",
    "plt.hist(num_clusters_vals)\n",
    "plt.show()"
   ]
  },
  {
   "cell_type": "code",
   "execution_count": 32,
   "metadata": {},
   "outputs": [
    {
     "data": {
      "text/plain": [
       "41.04"
      ]
     },
     "execution_count": 32,
     "metadata": {},
     "output_type": "execute_result"
    }
   ],
   "source": [
    "np.array(num_clusters_vals).mean()"
   ]
  },
  {
   "cell_type": "code",
   "execution_count": null,
   "metadata": {},
   "outputs": [],
   "source": []
  }
 ],
 "metadata": {
  "kernelspec": {
   "display_name": ".venv",
   "language": "python",
   "name": "python3"
  },
  "language_info": {
   "codemirror_mode": {
    "name": "ipython",
    "version": 3
   },
   "file_extension": ".py",
   "mimetype": "text/x-python",
   "name": "python",
   "nbconvert_exporter": "python",
   "pygments_lexer": "ipython3",
   "version": "3.10.12"
  }
 },
 "nbformat": 4,
 "nbformat_minor": 2
}

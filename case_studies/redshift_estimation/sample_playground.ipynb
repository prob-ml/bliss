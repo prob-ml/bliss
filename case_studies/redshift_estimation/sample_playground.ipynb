{
 "cells": [
  {
   "cell_type": "code",
   "execution_count": 1,
   "id": "4968729a",
   "metadata": {},
   "outputs": [],
   "source": [
    "# This document illustate how to sample from csv"
   ]
  },
  {
   "cell_type": "code",
   "execution_count": 2,
   "id": "5a148de9",
   "metadata": {},
   "outputs": [],
   "source": [
    "import pandas as pd"
   ]
  },
  {
   "cell_type": "code",
   "execution_count": 3,
   "id": "f8d72c3c",
   "metadata": {},
   "outputs": [
    {
     "data": {
      "text/html": [
       "<div>\n",
       "<style scoped>\n",
       "    .dataframe tbody tr th:only-of-type {\n",
       "        vertical-align: middle;\n",
       "    }\n",
       "\n",
       "    .dataframe tbody tr th {\n",
       "        vertical-align: top;\n",
       "    }\n",
       "\n",
       "    .dataframe thead th {\n",
       "        text-align: right;\n",
       "    }\n",
       "</style>\n",
       "<table border=\"1\" class=\"dataframe\">\n",
       "  <thead>\n",
       "    <tr style=\"text-align: right;\">\n",
       "      <th></th>\n",
       "      <th>objID</th>\n",
       "      <th>u_band</th>\n",
       "      <th>g_band</th>\n",
       "      <th>r_band</th>\n",
       "      <th>i_band</th>\n",
       "      <th>z_band</th>\n",
       "      <th>redshift</th>\n",
       "    </tr>\n",
       "  </thead>\n",
       "  <tbody>\n",
       "    <tr>\n",
       "      <th>0</th>\n",
       "      <td>1237648720142401611</td>\n",
       "      <td>17.15123</td>\n",
       "      <td>15.49701</td>\n",
       "      <td>14.67864</td>\n",
       "      <td>14.23418</td>\n",
       "      <td>13.90272</td>\n",
       "      <td>0.021222</td>\n",
       "    </tr>\n",
       "    <tr>\n",
       "      <th>1</th>\n",
       "      <td>1237650795146510627</td>\n",
       "      <td>21.33301</td>\n",
       "      <td>19.13112</td>\n",
       "      <td>17.71233</td>\n",
       "      <td>17.14911</td>\n",
       "      <td>16.76272</td>\n",
       "      <td>0.203783</td>\n",
       "    </tr>\n",
       "    <tr>\n",
       "      <th>2</th>\n",
       "      <td>1237648720142532813</td>\n",
       "      <td>19.95123</td>\n",
       "      <td>19.53693</td>\n",
       "      <td>19.41799</td>\n",
       "      <td>19.27693</td>\n",
       "      <td>19.21915</td>\n",
       "      <td>0.652417</td>\n",
       "    </tr>\n",
       "    <tr>\n",
       "      <th>3</th>\n",
       "      <td>1237650795146445031</td>\n",
       "      <td>19.50005</td>\n",
       "      <td>17.59248</td>\n",
       "      <td>16.67668</td>\n",
       "      <td>16.20502</td>\n",
       "      <td>15.84654</td>\n",
       "      <td>0.064656</td>\n",
       "    </tr>\n",
       "    <tr>\n",
       "      <th>4</th>\n",
       "      <td>1237648720142401670</td>\n",
       "      <td>19.48419</td>\n",
       "      <td>18.32629</td>\n",
       "      <td>17.84381</td>\n",
       "      <td>17.52679</td>\n",
       "      <td>17.42098</td>\n",
       "      <td>0.052654</td>\n",
       "    </tr>\n",
       "  </tbody>\n",
       "</table>\n",
       "</div>"
      ],
      "text/plain": [
       "                 objID    u_band    g_band    r_band    i_band    z_band  \\\n",
       "0  1237648720142401611  17.15123  15.49701  14.67864  14.23418  13.90272   \n",
       "1  1237650795146510627  21.33301  19.13112  17.71233  17.14911  16.76272   \n",
       "2  1237648720142532813  19.95123  19.53693  19.41799  19.27693  19.21915   \n",
       "3  1237650795146445031  19.50005  17.59248  16.67668  16.20502  15.84654   \n",
       "4  1237648720142401670  19.48419  18.32629  17.84381  17.52679  17.42098   \n",
       "\n",
       "   redshift  \n",
       "0  0.021222  \n",
       "1  0.203783  \n",
       "2  0.652417  \n",
       "3  0.064656  \n",
       "4  0.052654  "
      ]
     },
     "execution_count": 3,
     "metadata": {},
     "output_type": "execute_result"
    }
   ],
   "source": [
    "df = pd.read_csv('/home/../data/scratch/photometric_data.csv')\n",
    "df.head()"
   ]
  },
  {
   "cell_type": "code",
   "execution_count": 5,
   "id": "7ce4f084",
   "metadata": {},
   "outputs": [
    {
     "data": {
      "text/html": [
       "<div>\n",
       "<style scoped>\n",
       "    .dataframe tbody tr th:only-of-type {\n",
       "        vertical-align: middle;\n",
       "    }\n",
       "\n",
       "    .dataframe tbody tr th {\n",
       "        vertical-align: top;\n",
       "    }\n",
       "\n",
       "    .dataframe thead th {\n",
       "        text-align: right;\n",
       "    }\n",
       "</style>\n",
       "<table border=\"1\" class=\"dataframe\">\n",
       "  <thead>\n",
       "    <tr style=\"text-align: right;\">\n",
       "      <th></th>\n",
       "      <th>id</th>\n",
       "      <th>flux_u</th>\n",
       "      <th>flux_g</th>\n",
       "      <th>flux_r</th>\n",
       "      <th>flux_i</th>\n",
       "      <th>flux_z</th>\n",
       "      <th>redshift</th>\n",
       "    </tr>\n",
       "  </thead>\n",
       "  <tbody>\n",
       "    <tr>\n",
       "      <th>0</th>\n",
       "      <td>41020979558</td>\n",
       "      <td>4.943280e+01</td>\n",
       "      <td>3.668274e+02</td>\n",
       "      <td>9.075137e+02</td>\n",
       "      <td>1.325973e+03</td>\n",
       "      <td>1.570929e+03</td>\n",
       "      <td>0.0</td>\n",
       "    </tr>\n",
       "    <tr>\n",
       "      <th>1</th>\n",
       "      <td>40249360816</td>\n",
       "      <td>2.349361e+06</td>\n",
       "      <td>5.564874e+06</td>\n",
       "      <td>7.210832e+06</td>\n",
       "      <td>7.819036e+06</td>\n",
       "      <td>7.936400e+06</td>\n",
       "      <td>0.0</td>\n",
       "    </tr>\n",
       "    <tr>\n",
       "      <th>2</th>\n",
       "      <td>40749409974</td>\n",
       "      <td>1.023598e+02</td>\n",
       "      <td>1.006158e+03</td>\n",
       "      <td>3.175406e+03</td>\n",
       "      <td>7.549903e+03</td>\n",
       "      <td>1.116278e+04</td>\n",
       "      <td>0.0</td>\n",
       "    </tr>\n",
       "    <tr>\n",
       "      <th>3</th>\n",
       "      <td>40749409805</td>\n",
       "      <td>1.271044e+02</td>\n",
       "      <td>1.208313e+03</td>\n",
       "      <td>3.608963e+03</td>\n",
       "      <td>1.115946e+04</td>\n",
       "      <td>1.823203e+04</td>\n",
       "      <td>0.0</td>\n",
       "    </tr>\n",
       "    <tr>\n",
       "      <th>4</th>\n",
       "      <td>40969655884</td>\n",
       "      <td>1.368248e+01</td>\n",
       "      <td>1.337785e+02</td>\n",
       "      <td>4.070440e+02</td>\n",
       "      <td>7.361856e+02</td>\n",
       "      <td>9.613293e+02</td>\n",
       "      <td>0.0</td>\n",
       "    </tr>\n",
       "  </tbody>\n",
       "</table>\n",
       "</div>"
      ],
      "text/plain": [
       "            id        flux_u        flux_g        flux_r        flux_i  \\\n",
       "0  41020979558  4.943280e+01  3.668274e+02  9.075137e+02  1.325973e+03   \n",
       "1  40249360816  2.349361e+06  5.564874e+06  7.210832e+06  7.819036e+06   \n",
       "2  40749409974  1.023598e+02  1.006158e+03  3.175406e+03  7.549903e+03   \n",
       "3  40749409805  1.271044e+02  1.208313e+03  3.608963e+03  1.115946e+04   \n",
       "4  40969655884  1.368248e+01  1.337785e+02  4.070440e+02  7.361856e+02   \n",
       "\n",
       "         flux_z  redshift  \n",
       "0  1.570929e+03       0.0  \n",
       "1  7.936400e+06       0.0  \n",
       "2  1.116278e+04       0.0  \n",
       "3  1.823203e+04       0.0  \n",
       "4  9.613293e+02       0.0  "
      ]
     },
     "execution_count": 5,
     "metadata": {},
     "output_type": "execute_result"
    }
   ],
   "source": [
    "df = pd.read_csv('/home/../data/scratch/truth_data_10000.csv')\n",
    "df.head()"
   ]
  },
  {
   "cell_type": "code",
   "execution_count": 44,
   "id": "da8f6fd0",
   "metadata": {},
   "outputs": [],
   "source": [
    "df = df.dropna(axis=0)"
   ]
  },
  {
   "cell_type": "code",
   "execution_count": 45,
   "id": "2ce17638",
   "metadata": {},
   "outputs": [],
   "source": [
    "import numpy as np"
   ]
  },
  {
   "cell_type": "code",
   "execution_count": 46,
   "id": "28351419",
   "metadata": {},
   "outputs": [],
   "source": [
    "array = df.to_numpy()"
   ]
  },
  {
   "cell_type": "code",
   "execution_count": 47,
   "id": "8c5219b1",
   "metadata": {},
   "outputs": [],
   "source": [
    "array = array[:,1:7]"
   ]
  },
  {
   "cell_type": "code",
   "execution_count": 48,
   "id": "7c36b73d",
   "metadata": {},
   "outputs": [
    {
     "data": {
      "text/plain": [
       "array([[ 1.715123e+01,  1.549701e+01,  1.467864e+01,  1.423418e+01,\n",
       "         1.390272e+01,  2.122228e-02],\n",
       "       [ 2.133301e+01,  1.913112e+01,  1.771233e+01,  1.714911e+01,\n",
       "         1.676272e+01,  2.037833e-01],\n",
       "       [ 1.995123e+01,  1.953693e+01,  1.941799e+01,  1.927693e+01,\n",
       "         1.921915e+01,  6.524171e-01],\n",
       "       ...,\n",
       "       [ 2.022186e+01,  1.844569e+01,  1.773131e+01,  1.743449e+01,\n",
       "         1.728742e+01, -1.005938e-04],\n",
       "       [ 2.016943e+01,  1.935123e+01,  1.901487e+01,  1.891500e+01,\n",
       "         1.883806e+01, -8.401067e-04],\n",
       "       [ 1.960287e+01,  1.860123e+01,  1.822343e+01,  1.812108e+01,\n",
       "         1.807638e+01, -4.377949e-04]])"
      ]
     },
     "execution_count": 48,
     "metadata": {},
     "output_type": "execute_result"
    }
   ],
   "source": [
    "array"
   ]
  },
  {
   "cell_type": "code",
   "execution_count": 49,
   "id": "94f63e57",
   "metadata": {},
   "outputs": [
    {
     "data": {
      "text/plain": [
       "(1442801, 6)"
      ]
     },
     "execution_count": 49,
     "metadata": {},
     "output_type": "execute_result"
    }
   ],
   "source": [
    "array.shape"
   ]
  },
  {
   "cell_type": "code",
   "execution_count": 33,
   "id": "9b3474d8",
   "metadata": {},
   "outputs": [],
   "source": [
    "sample=np.random.choice(range(len(array)), size=[2,2,2,2,2], replace=True)"
   ]
  },
  {
   "cell_type": "code",
   "execution_count": 25,
   "id": "62fc7015",
   "metadata": {},
   "outputs": [
    {
     "data": {
      "text/plain": [
       "array([[[[[29780, 55641],\n",
       "          [51342, 36070]],\n",
       "\n",
       "         [[21912,  5576],\n",
       "          [31479, 52411]]],\n",
       "\n",
       "\n",
       "        [[[38191,  3922],\n",
       "          [49184,  4352]],\n",
       "\n",
       "         [[38343, 52997],\n",
       "          [26832, 15991]]]],\n",
       "\n",
       "\n",
       "\n",
       "       [[[[17819, 59071],\n",
       "          [13242,  5623]],\n",
       "\n",
       "         [[ 3440,  8258],\n",
       "          [51081, 51210]]],\n",
       "\n",
       "\n",
       "        [[[33078, 12229],\n",
       "          [31628, 19791]],\n",
       "\n",
       "         [[29130, 19476],\n",
       "          [35379,  1882]]]]])"
      ]
     },
     "execution_count": 25,
     "metadata": {},
     "output_type": "execute_result"
    }
   ],
   "source": [
    "sample"
   ]
  },
  {
   "cell_type": "code",
   "execution_count": 26,
   "id": "76f66703",
   "metadata": {},
   "outputs": [
    {
     "data": {
      "text/plain": [
       "array(['1237648720142401611', '1237650795146510627',\n",
       "       '1237648720142532813', ..., '1237663784202535047',\n",
       "       '1237663784202600614', '1237657191447199975'], dtype=object)"
      ]
     },
     "execution_count": 26,
     "metadata": {},
     "output_type": "execute_result"
    }
   ],
   "source": [
    "array[:,0]"
   ]
  },
  {
   "cell_type": "code",
   "execution_count": 27,
   "id": "23bf66dc",
   "metadata": {},
   "outputs": [
    {
     "data": {
      "text/plain": [
       "array([[10, 20],\n",
       "       [30, 40]])"
      ]
     },
     "execution_count": 27,
     "metadata": {},
     "output_type": "execute_result"
    }
   ],
   "source": [
    "# example \n",
    "# Example 2D array of indices\n",
    "indices_2d = np.array([\n",
    "    [0, 1],\n",
    "    [2, 3]\n",
    "])\n",
    "\n",
    "# Array of actual values to map the indices to\n",
    "values_array = np.array([10, 20, 30, 40])  # Assuming a 1D array for values\n",
    "\n",
    "# Mapping 2D indices to values\n",
    "# Using np.take which is straightforward for such operations\n",
    "mapped_values_2d = np.take(values_array, indices_2d)\n",
    "\n",
    "mapped_values_2d\n"
   ]
  },
  {
   "cell_type": "code",
   "execution_count": 28,
   "id": "2208c500",
   "metadata": {},
   "outputs": [
    {
     "data": {
      "text/plain": [
       "array([[[[['3.560483e-05', '0.2781142'],\n",
       "          ['0.1924813', '-1.399062e-05']],\n",
       "\n",
       "         [['0.322209', '0.1061596'],\n",
       "          ['0.1077053', '0.05961306']]],\n",
       "\n",
       "\n",
       "        [[['1.66987', '0.08969009'],\n",
       "          ['-0.0004004954', '0.09934915']],\n",
       "\n",
       "         [['0.1064801', '0.2561287'],\n",
       "          ['0.1193073', '0.08640127']]]],\n",
       "\n",
       "\n",
       "\n",
       "       [[[['0.1110587', '0.08092491'],\n",
       "          ['0.07237981', '0.05026915']],\n",
       "\n",
       "         [['0.1600647', '0.07410746'],\n",
       "          ['0.1342468', '0.1318858']]],\n",
       "\n",
       "\n",
       "        [[['0.09990618', '0.08258596'],\n",
       "          ['0.02034181', '0.1051881']],\n",
       "\n",
       "         [['0.07706301', '0.07641912'],\n",
       "          ['0.3630528', '0.04464796']]]]], dtype=object)"
      ]
     },
     "execution_count": 28,
     "metadata": {},
     "output_type": "execute_result"
    }
   ],
   "source": [
    "mapped_values_2d = np.take(array[:,-1], sample)\n",
    "\n",
    "mapped_values_2d\n"
   ]
  },
  {
   "cell_type": "code",
   "execution_count": 29,
   "id": "5c9004d1",
   "metadata": {},
   "outputs": [],
   "source": [
    "\n",
    "\n",
    "from bliss.encoder.variational_dist import VariationalDistSpec, VariationalDist\n",
    "from bliss.encoder.unconstrained_dists import UnconstrainedNormal\n",
    "import torch\n",
    "import numpy as np\n",
    "from os import environ\n",
    "from pathlib import Path\n",
    "from hydra import initialize, compose\n",
    "from hydra.utils import instantiate\n",
    "import matplotlib.pyplot as plt\n",
    "from omegaconf import DictConfig, OmegaConf\n",
    "from bliss.catalog import TileCatalog\n",
    "\n"
   ]
  },
  {
   "cell_type": "code",
   "execution_count": 30,
   "id": "55da5338",
   "metadata": {},
   "outputs": [],
   "source": [
    "environ[\"BLISS_HOME\"] = \"/home/songju/bliss\"\n",
    "with initialize(config_path=\".\", version_base=None):\n",
    "    cfg = compose(\"redshift\", overrides={\"surveys.sdss.load_image_data=true\"})"
   ]
  },
  {
   "cell_type": "code",
   "execution_count": 31,
   "id": "36c813a1",
   "metadata": {},
   "outputs": [],
   "source": [
    "from torch.distributions import Gamma"
   ]
  },
  {
   "cell_type": "code",
   "execution_count": 32,
   "id": "dbefdee7",
   "metadata": {},
   "outputs": [
    {
     "data": {
      "text/plain": [
       "tensor([[[[[0.4855, 1.9935],\n",
       "           [0.4857, 1.8220]],\n",
       "\n",
       "          [[0.0711, 1.9895],\n",
       "           [0.4766, 0.5426]]],\n",
       "\n",
       "\n",
       "         [[[0.6172, 0.1726],\n",
       "           [4.8531, 0.3732]],\n",
       "\n",
       "          [[1.5083, 0.1938],\n",
       "           [1.1736, 0.3962]]]],\n",
       "\n",
       "\n",
       "\n",
       "        [[[[0.0672, 0.6914],\n",
       "           [0.1911, 1.7617]],\n",
       "\n",
       "          [[0.4538, 2.1041],\n",
       "           [1.1597, 2.1795]]],\n",
       "\n",
       "\n",
       "         [[[1.4612, 0.4631],\n",
       "           [0.2304, 0.4672]],\n",
       "\n",
       "          [[1.5032, 0.2844],\n",
       "           [1.3024, 2.6995]]]]])"
      ]
     },
     "execution_count": 32,
     "metadata": {},
     "output_type": "execute_result"
    }
   ],
   "source": [
    "Gamma(1, 1).sample([2,2,2,2,2])"
   ]
  },
  {
   "cell_type": "code",
   "execution_count": 34,
   "id": "139dc912",
   "metadata": {},
   "outputs": [],
   "source": [
    "import torch"
   ]
  },
  {
   "cell_type": "code",
   "execution_count": 38,
   "id": "b284c595",
   "metadata": {},
   "outputs": [],
   "source": [
    "dim = (2,2,2,2,2)\n",
    "uniform_aux = torch.rand(*dim)"
   ]
  },
  {
   "cell_type": "code",
   "execution_count": 42,
   "id": "a6692419",
   "metadata": {},
   "outputs": [
    {
     "data": {
      "text/plain": [
       "tensor([[[[[0., 0.],\n",
       "           [0., 0.]],\n",
       "\n",
       "          [[0., 0.],\n",
       "           [0., 0.]]],\n",
       "\n",
       "\n",
       "         [[[0., 0.],\n",
       "           [0., 0.]],\n",
       "\n",
       "          [[0., 0.],\n",
       "           [0., 0.]]]],\n",
       "\n",
       "\n",
       "\n",
       "        [[[[0., 0.],\n",
       "           [0., 0.]],\n",
       "\n",
       "          [[0., 0.],\n",
       "           [0., 0.]]],\n",
       "\n",
       "\n",
       "         [[[0., 0.],\n",
       "           [0., 0.]],\n",
       "\n",
       "          [[0., 0.],\n",
       "           [0., 0.]]]]])"
      ]
     },
     "execution_count": 42,
     "metadata": {},
     "output_type": "execute_result"
    }
   ],
   "source": [
    "torch.zeros(*dim)"
   ]
  },
  {
   "cell_type": "code",
   "execution_count": 39,
   "id": "e763fec0",
   "metadata": {},
   "outputs": [],
   "source": [
    "galaxy_bool = uniform_aux < 0.5\n",
    "star_bool = galaxy_bool.bitwise_not()"
   ]
  },
  {
   "cell_type": "code",
   "execution_count": 40,
   "id": "b1aa8582",
   "metadata": {},
   "outputs": [
    {
     "data": {
      "text/plain": [
       "tensor([[[[[False, False],\n",
       "           [ True, False]],\n",
       "\n",
       "          [[ True,  True],\n",
       "           [ True,  True]]],\n",
       "\n",
       "\n",
       "         [[[ True, False],\n",
       "           [ True, False]],\n",
       "\n",
       "          [[ True,  True],\n",
       "           [ True, False]]]],\n",
       "\n",
       "\n",
       "\n",
       "        [[[[ True, False],\n",
       "           [False, False]],\n",
       "\n",
       "          [[False, False],\n",
       "           [False,  True]]],\n",
       "\n",
       "\n",
       "         [[[ True, False],\n",
       "           [ True, False]],\n",
       "\n",
       "          [[ True, False],\n",
       "           [ True,  True]]]]])"
      ]
     },
     "execution_count": 40,
     "metadata": {},
     "output_type": "execute_result"
    }
   ],
   "source": [
    "galaxy_bool"
   ]
  },
  {
   "cell_type": "code",
   "execution_count": 41,
   "id": "70d57998",
   "metadata": {},
   "outputs": [
    {
     "data": {
      "text/plain": [
       "tensor([[[[[ True,  True],\n",
       "           [False,  True]],\n",
       "\n",
       "          [[False, False],\n",
       "           [False, False]]],\n",
       "\n",
       "\n",
       "         [[[False,  True],\n",
       "           [False,  True]],\n",
       "\n",
       "          [[False, False],\n",
       "           [False,  True]]]],\n",
       "\n",
       "\n",
       "\n",
       "        [[[[False,  True],\n",
       "           [ True,  True]],\n",
       "\n",
       "          [[ True,  True],\n",
       "           [ True, False]]],\n",
       "\n",
       "\n",
       "         [[[False,  True],\n",
       "           [False,  True]],\n",
       "\n",
       "          [[False,  True],\n",
       "           [False, False]]]]])"
      ]
     },
     "execution_count": 41,
     "metadata": {},
     "output_type": "execute_result"
    }
   ],
   "source": [
    "star_bool"
   ]
  },
  {
   "cell_type": "code",
   "execution_count": 50,
   "id": "38bdb348",
   "metadata": {},
   "outputs": [],
   "source": [
    "import torch"
   ]
  },
  {
   "cell_type": "code",
   "execution_count": 51,
   "id": "4c3e739e",
   "metadata": {},
   "outputs": [],
   "source": [
    "a = torch.rand((4,3,2,2))"
   ]
  },
  {
   "cell_type": "code",
   "execution_count": 52,
   "id": "3a22e9a2",
   "metadata": {},
   "outputs": [],
   "source": [
    "b = torch.rand((4,3,2,1))"
   ]
  },
  {
   "cell_type": "code",
   "execution_count": 53,
   "id": "a27dcf16",
   "metadata": {},
   "outputs": [
    {
     "data": {
      "text/plain": [
       "torch.Size([4, 3, 2, 2])"
      ]
     },
     "execution_count": 53,
     "metadata": {},
     "output_type": "execute_result"
    }
   ],
   "source": [
    "(a*b).shape"
   ]
  },
  {
   "cell_type": "code",
   "execution_count": 54,
   "id": "2507ada5",
   "metadata": {},
   "outputs": [],
   "source": [
    "c = torch.rand((4,3,2,1))"
   ]
  },
  {
   "cell_type": "code",
   "execution_count": 55,
   "id": "71b54145",
   "metadata": {},
   "outputs": [],
   "source": [
    "import numpy as np"
   ]
  },
  {
   "cell_type": "code",
   "execution_count": 65,
   "id": "f2beb7a9",
   "metadata": {},
   "outputs": [
    {
     "data": {
      "text/plain": [
       "(4, 3, 2, 2)"
      ]
     },
     "execution_count": 65,
     "metadata": {},
     "output_type": "execute_result"
    }
   ],
   "source": [
    "np.concatenate((b,c),axis=-1).shape"
   ]
  },
  {
   "cell_type": "code",
   "execution_count": 28,
   "id": "5a338fcd",
   "metadata": {},
   "outputs": [
    {
     "data": {
      "text/plain": [
       "torch.Size([4, 3, 2, 1])"
      ]
     },
     "execution_count": 28,
     "metadata": {},
     "output_type": "execute_result"
    }
   ],
   "source": [
    "b.shape"
   ]
  },
  {
   "cell_type": "code",
   "execution_count": 32,
   "id": "cce075a1",
   "metadata": {},
   "outputs": [
    {
     "data": {
      "text/plain": [
       "(tensor([[[[0.4464, 0.7869],\n",
       "           [0.6036, 0.8905]],\n",
       " \n",
       "          [[0.3507, 0.2125],\n",
       "           [0.6692, 0.0458]],\n",
       " \n",
       "          [[0.5032, 0.2852],\n",
       "           [0.5727, 0.3550]]],\n",
       " \n",
       " \n",
       "         [[[0.6006, 0.9419],\n",
       "           [0.7321, 0.3822]],\n",
       " \n",
       "          [[0.1804, 0.4276],\n",
       "           [0.2636, 0.2416]],\n",
       " \n",
       "          [[0.8584, 0.0885],\n",
       "           [0.8765, 0.3643]]],\n",
       " \n",
       " \n",
       "         [[[0.8016, 0.6710],\n",
       "           [0.2490, 0.1565]],\n",
       " \n",
       "          [[0.2741, 0.5035],\n",
       "           [0.7289, 0.0132]],\n",
       " \n",
       "          [[0.3055, 0.9379],\n",
       "           [0.2663, 0.4864]]],\n",
       " \n",
       " \n",
       "         [[[0.0833, 0.1325],\n",
       "           [0.3496, 0.2799]],\n",
       " \n",
       "          [[0.9928, 0.3764],\n",
       "           [0.9964, 0.0945]],\n",
       " \n",
       "          [[0.2801, 0.8453],\n",
       "           [0.7635, 0.4456]]]]),\n",
       " tensor([[[[0.9788],\n",
       "           [0.4595]],\n",
       " \n",
       "          [[0.8209],\n",
       "           [0.9920]],\n",
       " \n",
       "          [[0.9191],\n",
       "           [0.0991]]],\n",
       " \n",
       " \n",
       "         [[[0.9619],\n",
       "           [0.2261]],\n",
       " \n",
       "          [[0.0752],\n",
       "           [0.7323]],\n",
       " \n",
       "          [[0.1628],\n",
       "           [0.1569]]],\n",
       " \n",
       " \n",
       "         [[[0.9977],\n",
       "           [0.7777]],\n",
       " \n",
       "          [[0.1845],\n",
       "           [0.1351]],\n",
       " \n",
       "          [[0.9015],\n",
       "           [0.5937]]],\n",
       " \n",
       " \n",
       "         [[[0.7647],\n",
       "           [0.3119]],\n",
       " \n",
       "          [[0.0382],\n",
       "           [0.5240]],\n",
       " \n",
       "          [[0.9869],\n",
       "           [0.3714]]]]))"
      ]
     },
     "execution_count": 32,
     "metadata": {},
     "output_type": "execute_result"
    }
   ],
   "source": [
    "(a,b)"
   ]
  },
  {
   "cell_type": "code",
   "execution_count": 12,
   "id": "6c1f9b4e",
   "metadata": {},
   "outputs": [],
   "source": [
    "import numpy as np\n",
    "total_flux = np.zeros((5,4,3,5))"
   ]
  },
  {
   "cell_type": "code",
   "execution_count": 14,
   "id": "6f65f380",
   "metadata": {},
   "outputs": [],
   "source": [
    "bands = np.array(range(5))"
   ]
  },
  {
   "cell_type": "code",
   "execution_count": 15,
   "id": "67bdb20d",
   "metadata": {},
   "outputs": [],
   "source": [
    "import torch"
   ]
  },
  {
   "cell_type": "code",
   "execution_count": 16,
   "id": "fb3892e0",
   "metadata": {},
   "outputs": [
    {
     "data": {
      "text/plain": [
       "tensor([[[[0., 0., 0., 0., 0.],\n",
       "          [0., 0., 0., 0., 0.],\n",
       "          [0., 0., 0., 0., 0.]],\n",
       "\n",
       "         [[0., 0., 0., 0., 0.],\n",
       "          [0., 0., 0., 0., 0.],\n",
       "          [0., 0., 0., 0., 0.]],\n",
       "\n",
       "         [[0., 0., 0., 0., 0.],\n",
       "          [0., 0., 0., 0., 0.],\n",
       "          [0., 0., 0., 0., 0.]],\n",
       "\n",
       "         [[0., 0., 0., 0., 0.],\n",
       "          [0., 0., 0., 0., 0.],\n",
       "          [0., 0., 0., 0., 0.]]],\n",
       "\n",
       "\n",
       "        [[[0., 0., 0., 0., 0.],\n",
       "          [0., 0., 0., 0., 0.],\n",
       "          [0., 0., 0., 0., 0.]],\n",
       "\n",
       "         [[0., 0., 0., 0., 0.],\n",
       "          [0., 0., 0., 0., 0.],\n",
       "          [0., 0., 0., 0., 0.]],\n",
       "\n",
       "         [[0., 0., 0., 0., 0.],\n",
       "          [0., 0., 0., 0., 0.],\n",
       "          [0., 0., 0., 0., 0.]],\n",
       "\n",
       "         [[0., 0., 0., 0., 0.],\n",
       "          [0., 0., 0., 0., 0.],\n",
       "          [0., 0., 0., 0., 0.]]],\n",
       "\n",
       "\n",
       "        [[[0., 0., 0., 0., 0.],\n",
       "          [0., 0., 0., 0., 0.],\n",
       "          [0., 0., 0., 0., 0.]],\n",
       "\n",
       "         [[0., 0., 0., 0., 0.],\n",
       "          [0., 0., 0., 0., 0.],\n",
       "          [0., 0., 0., 0., 0.]],\n",
       "\n",
       "         [[0., 0., 0., 0., 0.],\n",
       "          [0., 0., 0., 0., 0.],\n",
       "          [0., 0., 0., 0., 0.]],\n",
       "\n",
       "         [[0., 0., 0., 0., 0.],\n",
       "          [0., 0., 0., 0., 0.],\n",
       "          [0., 0., 0., 0., 0.]]],\n",
       "\n",
       "\n",
       "        [[[0., 0., 0., 0., 0.],\n",
       "          [0., 0., 0., 0., 0.],\n",
       "          [0., 0., 0., 0., 0.]],\n",
       "\n",
       "         [[0., 0., 0., 0., 0.],\n",
       "          [0., 0., 0., 0., 0.],\n",
       "          [0., 0., 0., 0., 0.]],\n",
       "\n",
       "         [[0., 0., 0., 0., 0.],\n",
       "          [0., 0., 0., 0., 0.],\n",
       "          [0., 0., 0., 0., 0.]],\n",
       "\n",
       "         [[0., 0., 0., 0., 0.],\n",
       "          [0., 0., 0., 0., 0.],\n",
       "          [0., 0., 0., 0., 0.]]],\n",
       "\n",
       "\n",
       "        [[[0., 0., 0., 0., 0.],\n",
       "          [0., 0., 0., 0., 0.],\n",
       "          [0., 0., 0., 0., 0.]],\n",
       "\n",
       "         [[0., 0., 0., 0., 0.],\n",
       "          [0., 0., 0., 0., 0.],\n",
       "          [0., 0., 0., 0., 0.]],\n",
       "\n",
       "         [[0., 0., 0., 0., 0.],\n",
       "          [0., 0., 0., 0., 0.],\n",
       "          [0., 0., 0., 0., 0.]],\n",
       "\n",
       "         [[0., 0., 0., 0., 0.],\n",
       "          [0., 0., 0., 0., 0.],\n",
       "          [0., 0., 0., 0., 0.]]]], dtype=torch.float64)"
      ]
     },
     "execution_count": 16,
     "metadata": {},
     "output_type": "execute_result"
    }
   ],
   "source": [
    "torch.from_numpy(total_flux)"
   ]
  },
  {
   "cell_type": "code",
   "execution_count": null,
   "id": "c6f2bfa2",
   "metadata": {},
   "outputs": [],
   "source": []
  }
 ],
 "metadata": {
  "kernelspec": {
   "display_name": "Python 3 (ipykernel)",
   "language": "python",
   "name": "python3"
  },
  "language_info": {
   "codemirror_mode": {
    "name": "ipython",
    "version": 3
   },
   "file_extension": ".py",
   "mimetype": "text/x-python",
   "name": "python",
   "nbconvert_exporter": "python",
   "pygments_lexer": "ipython3",
   "version": "3.10.12"
  }
 },
 "nbformat": 4,
 "nbformat_minor": 5
}

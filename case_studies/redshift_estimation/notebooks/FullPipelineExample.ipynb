{
 "cells": [
  {
   "cell_type": "markdown",
   "id": "ce3c3ec4",
   "metadata": {},
   "source": [
    "### Outline"
   ]
  },
  {
   "cell_type": "markdown",
   "id": "3565991a",
   "metadata": {},
   "source": [
    "The goal of this notebook is to illustrate the full BLISS pipeline, briefly. We will identify several of the main data objects used along the way, but avoid mathematical intricacies and details of the training objective. Briefly, we'll have\n",
    "\n",
    "1. Generation of synthetic data\n",
    "2. Training of the encoder network\n",
    "3. Validation/evaluation of the encoder network on held-out data (either simulated or real)."
   ]
  },
  {
   "cell_type": "markdown",
   "id": "a6eb35f7",
   "metadata": {},
   "source": [
    "#### 1. Generation of synthetic data."
   ]
  },
  {
   "cell_type": "markdown",
   "id": "d388caa8",
   "metadata": {},
   "source": [
    "This would typically be done using something like ```bliss mode=generate``` from the command line. This calls the ```generate``` function within ```bliss/main.py```, using the default ```DictConfig``` object specified by the various ```.yaml``` files."
   ]
  },
  {
   "cell_type": "markdown",
   "id": "c48503ee",
   "metadata": {},
   "source": [
    "The code below loads the file ```m2_config.yaml``` from ```case_studies/dependent_tiling``` as a DictConfig for use by ```hydra```. You may have to change some absolute and relative paths to get this to load for you."
   ]
  },
  {
   "cell_type": "code",
   "execution_count": 1,
   "id": "8163d060",
   "metadata": {},
   "outputs": [],
   "source": [
    "import sys\n",
    "import os"
   ]
  },
  {
   "cell_type": "code",
   "execution_count": 2,
   "id": "2122d016",
   "metadata": {},
   "outputs": [
    {
     "data": {
      "text/plain": [
       "'/home/declan/current/bliss/case_studies/redshift_estimation'"
      ]
     },
     "execution_count": 2,
     "metadata": {},
     "output_type": "execute_result"
    }
   ],
   "source": [
    "os.getcwd()"
   ]
  },
  {
   "cell_type": "code",
   "execution_count": 3,
   "id": "081900bd",
   "metadata": {},
   "outputs": [],
   "source": [
    "os.chdir('/home/declan/current/bliss')"
   ]
  },
  {
   "cell_type": "code",
   "execution_count": 4,
   "id": "04657ad2",
   "metadata": {},
   "outputs": [],
   "source": [
    "from bliss.encoder.variational_dist import VariationalDistSpec, VariationalDist\n",
    "from bliss.encoder.unconstrained_dists import UnconstrainedNormal\n",
    "import torch\n",
    "import numpy as np\n",
    "from os import environ\n",
    "from pathlib import Path\n",
    "from hydra import initialize, compose\n",
    "from hydra.utils import instantiate\n",
    "import matplotlib.pyplot as plt\n",
    "from omegaconf import DictConfig, OmegaConf\n",
    "from bliss.catalog import TileCatalog"
   ]
  },
  {
   "cell_type": "code",
   "execution_count": 5,
   "id": "c071ab00",
   "metadata": {},
   "outputs": [],
   "source": [
    "environ[\"BLISS_HOME\"] = \"/home/declan/current/bliss\"\n",
    "with initialize(config_path=\"../../case_studies/dependent_tiling\", version_base=None):\n",
    "    cfg = compose(\"m2_config\", overrides={\"surveys.sdss.load_image_data=true\"})"
   ]
  },
  {
   "cell_type": "code",
   "execution_count": 6,
   "id": "e0fbff62",
   "metadata": {},
   "outputs": [
    {
     "data": {
      "text/plain": [
       "omegaconf.dictconfig.DictConfig"
      ]
     },
     "execution_count": 6,
     "metadata": {},
     "output_type": "execute_result"
    }
   ],
   "source": [
    "type(cfg)"
   ]
  },
  {
   "cell_type": "code",
   "execution_count": 7,
   "id": "031aed62",
   "metadata": {},
   "outputs": [
    {
     "name": "stdout",
     "output_type": "stream",
     "text": [
      "paths:\n",
      "  root: ${oc.env:BLISS_HOME}\n",
      "  data: ${paths.root}/data\n",
      "  sdss: ${paths.data}/sdss\n",
      "  decals: ${paths.data}/decals\n",
      "  des: ${paths.data}/des\n",
      "  dc2: ${paths.data}/dc2\n",
      "  output: ${paths.root}/output\n",
      "  pretrained_models: ${paths.data}/pretrained_models\n",
      "prior:\n",
      "  _target_: bliss.simulator.prior.CatalogPrior\n",
      "  survey_bands:\n",
      "  - u\n",
      "  - g\n",
      "  - r\n",
      "  - i\n",
      "  - z\n",
      "  reference_band: 2\n",
      "  star_color_model_path: ${simulator.survey.dir_path}/color_models/star_gmm_nmgy.pkl\n",
      "  gal_color_model_path: ${simulator.survey.dir_path}/color_models/gal_gmm_nmgy.pkl\n",
      "  n_tiles_h: 56\n",
      "  n_tiles_w: 56\n",
      "  tile_slen: 2\n",
      "  batch_size: 32\n",
      "  max_sources: 6\n",
      "  mean_sources: 0.48\n",
      "  min_sources: 0\n",
      "  prob_galaxy: 0.0\n",
      "  star_flux_exponent: 0.9859821185389767\n",
      "  star_flux_truncation: 5685.588160703261\n",
      "  star_flux_loc: -1.162430157551662\n",
      "  star_flux_scale: 1.4137911256506595\n",
      "  galaxy_flux_truncation: 1013\n",
      "  galaxy_flux_exponent: 0.47\n",
      "  galaxy_flux_scale: 0.6301037\n",
      "  galaxy_flux_loc: 0.0\n",
      "  galaxy_a_concentration: 0.39330758068481686\n",
      "  galaxy_a_loc: 0.8371888967872619\n",
      "  galaxy_a_scale: 4.432725319432478\n",
      "  galaxy_a_bd_ratio: 2.0\n",
      "simulator:\n",
      "  _target_: bliss.simulator.simulated_dataset.SimulatedDataset\n",
      "  survey: ${surveys.sdss}\n",
      "  prior: ${prior}\n",
      "  n_batches: 128\n",
      "  use_coaddition: false\n",
      "  coadd_depth: 1\n",
      "  num_workers: 32\n",
      "  valid_n_batches: 10\n",
      "  fix_validation_set: true\n",
      "cached_simulator:\n",
      "  _target_: bliss.simulator.simulated_dataset.CachedSimulatedDataset\n",
      "  batch_size: 23\n",
      "  splits: 0:80/80:90/90:100\n",
      "  num_workers: 0\n",
      "  cached_data_path: /data/scratch/regier/m2\n",
      "  file_prefix: ${generate.file_prefix}\n",
      "encoder:\n",
      "  _target_: bliss.encoder.encoder.Encoder\n",
      "  survey_bands:\n",
      "  - u\n",
      "  - g\n",
      "  - r\n",
      "  - i\n",
      "  - z\n",
      "  tile_slen: 2\n",
      "  tiles_to_crop: 1\n",
      "  min_flux_threshold: 0.9419\n",
      "  optimizer_params:\n",
      "    lr: 0.001\n",
      "  scheduler_params:\n",
      "    milestones:\n",
      "    - 32\n",
      "    gamma: 0.1\n",
      "  image_normalizer:\n",
      "    _target_: bliss.encoder.image_normalizer.ImageNormalizer\n",
      "    bands:\n",
      "    - 2\n",
      "    include_original: false\n",
      "    use_deconv_channel: false\n",
      "    concat_psf_params: false\n",
      "    num_psf_params: 6\n",
      "    log_transform_stdevs:\n",
      "    - -3\n",
      "    - 0\n",
      "    - 1\n",
      "    - 3\n",
      "    use_clahe: true\n",
      "    clahe_min_stdev: 200\n",
      "  vd_spec:\n",
      "    _target_: bliss.encoder.variational_dist.VariationalDistSpec\n",
      "    survey_bands: ${encoder.survey_bands}\n",
      "    tile_slen: ${encoder.tile_slen}\n",
      "  matcher:\n",
      "    _target_: bliss.encoder.metrics.CatalogMatcher\n",
      "    dist_slack: 0.5\n",
      "    mag_slack: 0.5\n",
      "    mag_band: 2\n",
      "  metrics:\n",
      "    _target_: torchmetrics.MetricCollection\n",
      "    metrics:\n",
      "    - _target_: bliss.encoder.metrics.DetectionPerformance\n",
      "      mag_bin_cutoffs:\n",
      "      - 19\n",
      "      - 19.4\n",
      "      - 19.8\n",
      "      - 20.2\n",
      "      - 20.6\n",
      "      - 21\n",
      "      - 21.4\n",
      "      - 21.8\n",
      "      - 22.065\n",
      "      exclude_last_bin: true\n",
      "  do_data_augmentation: false\n",
      "  compile_model: false\n",
      "  double_detect: true\n",
      "  use_checkerboard: true\n",
      "surveys:\n",
      "  sdss:\n",
      "    _target_: bliss.surveys.sdss.SloanDigitalSkySurvey\n",
      "    dir_path: ${paths.sdss}\n",
      "    fields:\n",
      "    - run: 2583\n",
      "      camcol: 2\n",
      "      fields:\n",
      "      - 136\n",
      "    psf_config:\n",
      "      pixel_scale: 0.396\n",
      "      psf_slen: 25\n",
      "    pixel_shift: 2\n",
      "    align_to_band: null\n",
      "    load_image_data: true\n",
      "    background_offset: 80\n",
      "  decals:\n",
      "    _target_: bliss.surveys.decals.DarkEnergyCameraLegacySurvey\n",
      "    dir_path: ${paths.decals}\n",
      "    sky_coords:\n",
      "    - ra: 336.6643042496718\n",
      "      dec: -0.9316385797930247\n",
      "    bands:\n",
      "    - 0\n",
      "    - 1\n",
      "    - 3\n",
      "    psf_config:\n",
      "      pixel_scale: 0.262\n",
      "      psf_slen: 63\n",
      "    pixel_shift: 2\n",
      "  des:\n",
      "    _target_: bliss.surveys.des.DarkEnergySurvey\n",
      "    dir_path: ${paths.des}\n",
      "    image_ids:\n",
      "    - sky_coord:\n",
      "        ra: 336.6643042496718\n",
      "        dec: -0.9316385797930247\n",
      "      decals_brickname: 3366m010\n",
      "      ccdname: S28\n",
      "      g: decam/CP/V4.8.2a/CP20171108/c4d_171109_002003_ooi_g_ls9\n",
      "      r: decam/CP/V4.8.2a/CP20170926/c4d_170927_025457_ooi_r_ls9\n",
      "      i: ''\n",
      "      z: decam/CP/V4.8.2a/CP20170926/c4d_170927_025655_ooi_z_ls9\n",
      "    psf_config:\n",
      "      pixel_scale: 0.262\n",
      "      psf_slen: 63\n",
      "    pixel_shift: 2\n",
      "  dc2:\n",
      "    _target_: bliss.surveys.dc2.DC2\n",
      "    data_dir: /nfs/turbo/lsa-regier/lsstdesc-public/dc2/run2.2i-dr6-v4/coadd-t3828-t3829/deepCoadd-results/\n",
      "    cat_path: ${paths.dc2}/merged_catalog/merged_catalog_psf_100.pkl\n",
      "    batch_size: 64\n",
      "    n_split: 50\n",
      "    image_lim:\n",
      "    - 4000\n",
      "    - 4000\n",
      "    use_deconv_channel: ${encoder.image_normalizer.use_deconv_channel}\n",
      "    deconv_path: ${paths.dc2}/coadd_deconv_image\n",
      "mode: train\n",
      "generate:\n",
      "  n_image_files: 16\n",
      "  n_batches_per_file: 16\n",
      "  simulator: ${simulator}\n",
      "  cached_data_path: /data/scratch/regier/m2\n",
      "  file_prefix: dataset\n",
      "train:\n",
      "  trainer:\n",
      "    _target_: pytorch_lightning.Trainer\n",
      "    logger:\n",
      "      _target_: pytorch_lightning.loggers.TensorBoardLogger\n",
      "      save_dir: ${paths.output}\n",
      "      name: null\n",
      "      version: null\n",
      "      default_hp_metric: false\n",
      "    callbacks:\n",
      "    - _target_: pytorch_lightning.callbacks.ModelCheckpoint\n",
      "      filename: best_encoder\n",
      "      save_top_k: 1\n",
      "      verbose: true\n",
      "      monitor: val/_loss\n",
      "      mode: min\n",
      "      save_on_train_epoch_end: false\n",
      "      auto_insert_metric_name: false\n",
      "    - _target_: pytorch_lightning.callbacks.early_stopping.EarlyStopping\n",
      "      monitor: val/_loss\n",
      "      mode: min\n",
      "      patience: 5\n",
      "    reload_dataloaders_every_n_epochs: 0\n",
      "    check_val_every_n_epoch: 1\n",
      "    log_every_n_steps: 10\n",
      "    min_epochs: 1\n",
      "    max_epochs: 50\n",
      "    accelerator: gpu\n",
      "    devices: 1\n",
      "    precision: 16-mixed\n",
      "  data_source: ${cached_simulator}\n",
      "  encoder: ${encoder}\n",
      "  seed: 42\n",
      "  pretrained_weights: null\n",
      "  testing: true\n",
      "predict:\n",
      "  dataset:\n",
      "    _target_: bliss.surveys.sdss.SloanDigitalSkySurvey\n",
      "    dir_path: ${paths.sdss}\n",
      "    fields:\n",
      "    - run: 2583\n",
      "      camcol: 2\n",
      "      fields:\n",
      "      - 136\n",
      "    psf_config:\n",
      "      pixel_scale: 0.396\n",
      "      psf_slen: 25\n",
      "    pixel_shift: 2\n",
      "    align_to_band: null\n",
      "    load_image_data: true\n",
      "    background_offset: 80\n",
      "    crop_config:\n",
      "    - 624\n",
      "    - 736\n",
      "    - 304\n",
      "    - 416\n",
      "  trainer:\n",
      "    _target_: pytorch_lightning.Trainer\n",
      "    accelerator: gpu\n",
      "    precision: ${train.trainer.precision}\n",
      "  encoder: ${encoder}\n",
      "  weight_save_path: null\n",
      "  device: cuda:0\n",
      "\n"
     ]
    }
   ],
   "source": [
    "print(OmegaConf.to_yaml(cfg, resolve=False, sort_keys=False))"
   ]
  },
  {
   "cell_type": "markdown",
   "id": "8b09b90e",
   "metadata": {},
   "source": [
    "You can browse the above printouts to get a feel for how the config is structured. Our project will eventually add some configurables and we'll have our own config similar to the above."
   ]
  },
  {
   "cell_type": "markdown",
   "id": "040ff86b",
   "metadata": {},
   "source": [
    "The ```generate``` function from ```bliss/main.py``` takes arguments as\n",
    "\n",
    "```\n",
    "def generate(gen_cfg: DictConfig):\n",
    "   ...\n",
    "\n",
    "```\n",
    "\n",
    "and so we can plug in a given ```DictConfig``` like the above to generate data. The true ```generate``` function is much more complex than what is given below, and helps cache previously simulated data to save time, etc. Our altered function below is used only for illustration purposes, where we'll generate a single batch of simulated data."
   ]
  },
  {
   "cell_type": "code",
   "execution_count": 8,
   "id": "8f757dfa",
   "metadata": {},
   "outputs": [
    {
     "data": {
      "text/plain": [
       "{'n_image_files': 16, 'n_batches_per_file': 16, 'simulator': '${simulator}', 'cached_data_path': '/data/scratch/regier/m2', 'file_prefix': 'dataset'}"
      ]
     },
     "execution_count": 8,
     "metadata": {},
     "output_type": "execute_result"
    }
   ],
   "source": [
    "cfg.generate"
   ]
  },
  {
   "cell_type": "code",
   "execution_count": 9,
   "id": "91a0b753",
   "metadata": {},
   "outputs": [],
   "source": [
    "def generate(gen_cfg: DictConfig):\n",
    "    simulated_dataset = instantiate(gen_cfg.simulator, num_workers=0)\n",
    "\n",
    "    for _ in range(1):\n",
    "        batch = simulated_dataset.get_batch()\n",
    "        \n",
    "    return batch"
   ]
  },
  {
   "cell_type": "code",
   "execution_count": 10,
   "id": "ea8875eb",
   "metadata": {},
   "outputs": [],
   "source": [
    "simulated_batch_of_data = generate(cfg.generate)"
   ]
  },
  {
   "cell_type": "markdown",
   "id": "a49107fd",
   "metadata": {},
   "source": [
    "Note that the 'full' configurable has three main subconfigs: `cfg.generate, cfg.train, cfg.predict`. This just helps keep things more organized. We only passed `cfg.generate` to the ```generate``` function."
   ]
  },
  {
   "cell_type": "markdown",
   "id": "f6ede728",
   "metadata": {},
   "source": [
    "##### ***Running the above cell will take several minutes*** "
   ]
  },
  {
   "cell_type": "code",
   "execution_count": 11,
   "id": "5ad8088f",
   "metadata": {},
   "outputs": [
    {
     "data": {
      "text/plain": [
       "dict_keys(['tile_catalog', 'images', 'background', 'deconvolution', 'psf_params'])"
      ]
     },
     "execution_count": 11,
     "metadata": {},
     "output_type": "execute_result"
    }
   ],
   "source": [
    "simulated_batch_of_data.keys()"
   ]
  },
  {
   "cell_type": "markdown",
   "id": "b7b0fa5e",
   "metadata": {},
   "source": [
    "The simulated batch is a ```dict``` object. These can be stored to disk in some fashion that we won't worry about right now (see ```generate``` function in ```bliss/main.py```), as we'll just work with this single batch. Let's examine some of the objects."
   ]
  },
  {
   "cell_type": "code",
   "execution_count": 12,
   "id": "80febdf8",
   "metadata": {},
   "outputs": [
    {
     "data": {
      "text/plain": [
       "dict_keys(['locs', 'n_sources', 'source_type', 'galaxy_fluxes', 'galaxy_params', 'star_fluxes'])"
      ]
     },
     "execution_count": 12,
     "metadata": {},
     "output_type": "execute_result"
    }
   ],
   "source": [
    "tc = simulated_batch_of_data['tile_catalog']\n",
    "tc.keys()"
   ]
  },
  {
   "cell_type": "code",
   "execution_count": 13,
   "id": "6af0fb98",
   "metadata": {},
   "outputs": [
    {
     "data": {
      "text/plain": [
       "torch.Size([32, 56, 56, 6, 2])"
      ]
     },
     "execution_count": 13,
     "metadata": {},
     "output_type": "execute_result"
    }
   ],
   "source": [
    "tc['locs'].shape"
   ]
  },
  {
   "cell_type": "code",
   "execution_count": 14,
   "id": "7fda619d",
   "metadata": {},
   "outputs": [
    {
     "data": {
      "text/plain": [
       "torch.Size([32, 56, 56])"
      ]
     },
     "execution_count": 14,
     "metadata": {},
     "output_type": "execute_result"
    }
   ],
   "source": [
    "tc['n_sources'].shape"
   ]
  },
  {
   "cell_type": "code",
   "execution_count": 15,
   "id": "c7343d6f",
   "metadata": {},
   "outputs": [
    {
     "data": {
      "text/plain": [
       "torch.Size([32, 56, 56, 6, 1])"
      ]
     },
     "execution_count": 15,
     "metadata": {},
     "output_type": "execute_result"
    }
   ],
   "source": [
    "tc['source_type'].shape"
   ]
  },
  {
   "cell_type": "code",
   "execution_count": 16,
   "id": "333e37d7",
   "metadata": {},
   "outputs": [
    {
     "data": {
      "text/plain": [
       "torch.Size([32, 56, 56, 6, 5])"
      ]
     },
     "execution_count": 16,
     "metadata": {},
     "output_type": "execute_result"
    }
   ],
   "source": [
    "tc['galaxy_fluxes'].shape"
   ]
  },
  {
   "cell_type": "code",
   "execution_count": 17,
   "id": "27784fa8",
   "metadata": {},
   "outputs": [
    {
     "data": {
      "text/plain": [
       "torch.Size([32, 56, 56, 6, 6])"
      ]
     },
     "execution_count": 17,
     "metadata": {},
     "output_type": "execute_result"
    }
   ],
   "source": [
    "tc['galaxy_params'].shape"
   ]
  },
  {
   "cell_type": "markdown",
   "id": "4910fbe5",
   "metadata": {},
   "source": [
    "The first three dimensions of all these objects are 32 x 56 x 56. These numbers represent the following:\n",
    "- 32 = number of synthetic (simulated) images\n",
    "- 56 = number of tiles lengthwise\n",
    "- 56 = number of tiles widthwise\n",
    "\n",
    "BLISS operates by dividing a given images into *tiles* of a certain size. This can be thought of as parsing the image into bite-size pieces. The number of tiles and number of images in simulated batches are controllable from the config object, e.g. "
   ]
  },
  {
   "cell_type": "code",
   "execution_count": 18,
   "id": "bf1064cd",
   "metadata": {},
   "outputs": [
    {
     "data": {
      "text/plain": [
       "(32, 56, 56)"
      ]
     },
     "execution_count": 18,
     "metadata": {},
     "output_type": "execute_result"
    }
   ],
   "source": [
    "cfg.prior.batch_size, cfg.prior.n_tiles_h, cfg.prior.n_tiles_w"
   ]
  },
  {
   "cell_type": "markdown",
   "id": "0905ea62",
   "metadata": {},
   "source": [
    "BLISS constrains the number of objects per tile to be between 0 and 5. Tiles are small enough (in terms of pixel size) to make this reasonable. Hence if we examine ```tc['n_sources']``` we see that this tensor specifies the number of sources for each tile in each image."
   ]
  },
  {
   "cell_type": "code",
   "execution_count": 19,
   "id": "7cddd276",
   "metadata": {},
   "outputs": [
    {
     "data": {
      "text/plain": [
       "tensor([[0, 1, 0,  ..., 0, 0, 0],\n",
       "        [0, 0, 3,  ..., 1, 0, 1],\n",
       "        [0, 0, 0,  ..., 0, 0, 1],\n",
       "        ...,\n",
       "        [0, 1, 0,  ..., 0, 1, 0],\n",
       "        [0, 0, 1,  ..., 0, 1, 0],\n",
       "        [0, 1, 0,  ..., 0, 0, 1]])"
      ]
     },
     "execution_count": 19,
     "metadata": {},
     "output_type": "execute_result"
    }
   ],
   "source": [
    "tc['n_sources'][0] #56 x 56 tensor telling us the number of sources in each tile for the first image."
   ]
  },
  {
   "cell_type": "code",
   "execution_count": 20,
   "id": "c6625598",
   "metadata": {},
   "outputs": [
    {
     "data": {
      "text/plain": [
       "(tensor(5), tensor(0))"
      ]
     },
     "execution_count": 20,
     "metadata": {},
     "output_type": "execute_result"
    }
   ],
   "source": [
    "tc['n_sources'].max(), tc['n_sources'].min()"
   ]
  },
  {
   "cell_type": "markdown",
   "id": "30a195f6",
   "metadata": {},
   "source": [
    "Each object (or source) can be one of several different types. There are at most 5 sources per tile. Hence ```tc['source_type']``` has a per-tile shape of 5 x 1. For tile, this tells us the type of each source. If there are fewer than 5 sources, the extra information is discarded or masked somehow. This number 5 that is floating around all the other dimensions arises similarly from the fact that we have at most 5 sources per tile. We can gather from the shapes above that ```locs``` contains a 2d coordinate for each source; ```galaxy_fluxes``` contains 5 parameters for each source; ```galaxy_params``` contains 6 parameters for each source, etc. \n",
    "\n",
    "***All of the these are latent random variables $z$ that are used to generate the image. Given a tile catalog like the above, we have all the information necessary to generate synthetic images $x$. The inference problem is then to take an image $x$ and construct a distribution on all of these quantities $z$. In other words, given an image, we divide it into tiles and for each tile we aim to recover the number of sources, the type of each source, the locations of each, the fluxes for each, etc.***"
   ]
  },
  {
   "cell_type": "markdown",
   "id": "6d8bb321",
   "metadata": {},
   "source": [
    "Let's examine a sample synthetic image below."
   ]
  },
  {
   "cell_type": "code",
   "execution_count": 21,
   "id": "9caf998f",
   "metadata": {},
   "outputs": [],
   "source": [
    "ims = simulated_batch_of_data['images']"
   ]
  },
  {
   "cell_type": "code",
   "execution_count": 22,
   "id": "a370684d",
   "metadata": {},
   "outputs": [
    {
     "data": {
      "text/plain": [
       "torch.Size([32, 5, 112, 112])"
      ]
     },
     "execution_count": 22,
     "metadata": {},
     "output_type": "execute_result"
    }
   ],
   "source": [
    "ims.shape"
   ]
  },
  {
   "cell_type": "markdown",
   "id": "6ea11845",
   "metadata": {},
   "source": [
    "As expected, there are 32 images. The dimension 5 does not correspond to the number of sources per tile, but rather to the *photometric band* of each image, corresponding to u,g,r,i,z for SDSS data. Read more here: https://www.sdss4.org/instruments/camera/#Filters\n",
    "\n",
    "Again, these are specified in the config:"
   ]
  },
  {
   "cell_type": "code",
   "execution_count": 23,
   "id": "b20c65dd",
   "metadata": {},
   "outputs": [
    {
     "data": {
      "text/plain": [
       "['u', 'g', 'r', 'i', 'z']"
      ]
     },
     "execution_count": 23,
     "metadata": {},
     "output_type": "execute_result"
    }
   ],
   "source": [
    "cfg.prior.survey_bands"
   ]
  },
  {
   "cell_type": "markdown",
   "id": "7798b6ac",
   "metadata": {},
   "source": [
    "We gather that each image for each band is 112 x 112. Recalling that we have 56 x 56 tiles, this implie that each tile is 2x2. Again, this is specified in the config."
   ]
  },
  {
   "cell_type": "code",
   "execution_count": 24,
   "id": "90191d74",
   "metadata": {},
   "outputs": [
    {
     "data": {
      "text/plain": [
       "2"
      ]
     },
     "execution_count": 24,
     "metadata": {},
     "output_type": "execute_result"
    }
   ],
   "source": [
    "cfg.prior.tile_slen"
   ]
  },
  {
   "cell_type": "markdown",
   "id": "6f794ed7",
   "metadata": {},
   "source": [
    "Let's examine some simulated images."
   ]
  },
  {
   "cell_type": "code",
   "execution_count": 25,
   "id": "e3872beb",
   "metadata": {},
   "outputs": [
    {
     "data": {
      "text/plain": [
       "<matplotlib.image.AxesImage at 0x7f41b38379a0>"
      ]
     },
     "execution_count": 25,
     "metadata": {},
     "output_type": "execute_result"
    },
    {
     "data": {
      "image/png": "[encoded data removed]",
      "text/plain": [
       "<Figure size 640x480 with 1 Axes>"
      ]
     },
     "metadata": {},
     "output_type": "display_data"
    }
   ],
   "source": [
    "plt.imshow(ims[0][0]) #u-band for first of 32 images"
   ]
  },
  {
   "cell_type": "code",
   "execution_count": 26,
   "id": "3aee17ae",
   "metadata": {},
   "outputs": [
    {
     "data": {
      "text/plain": [
       "<matplotlib.image.AxesImage at 0x7f41ad9c7d60>"
      ]
     },
     "execution_count": 26,
     "metadata": {},
     "output_type": "execute_result"
    },
    {
     "data": {
      "image/png": "[encoded data removed]",
      "text/plain": [
       "<Figure size 640x480 with 1 Axes>"
      ]
     },
     "metadata": {},
     "output_type": "display_data"
    }
   ],
   "source": [
    "plt.imshow(ims[0][1]) #g-band for first of 32 images"
   ]
  },
  {
   "cell_type": "code",
   "execution_count": 27,
   "id": "d3120342",
   "metadata": {},
   "outputs": [
    {
     "data": {
      "text/plain": [
       "<matplotlib.image.AxesImage at 0x7f41ada76a70>"
      ]
     },
     "execution_count": 27,
     "metadata": {},
     "output_type": "execute_result"
    },
    {
     "data": {
      "image/png": "[encoded data removed]",
      "text/plain": [
       "<Figure size 640x480 with 1 Axes>"
      ]
     },
     "metadata": {},
     "output_type": "display_data"
    }
   ],
   "source": [
    "plt.imshow(ims[0][2]) #r-band for first of 32 images"
   ]
  },
  {
   "cell_type": "code",
   "execution_count": 28,
   "id": "af18fa31",
   "metadata": {},
   "outputs": [
    {
     "data": {
      "text/plain": [
       "<matplotlib.image.AxesImage at 0x7f41ad8e5cc0>"
      ]
     },
     "execution_count": 28,
     "metadata": {},
     "output_type": "execute_result"
    },
    {
     "data": {
      "image/png": "[encoded data removed]",
      "text/plain": [
       "<Figure size 640x480 with 1 Axes>"
      ]
     },
     "metadata": {},
     "output_type": "display_data"
    }
   ],
   "source": [
    "plt.imshow(ims[0][3]) #i-band for first of 32 images"
   ]
  },
  {
   "cell_type": "code",
   "execution_count": 29,
   "id": "987cfe8d",
   "metadata": {},
   "outputs": [
    {
     "data": {
      "text/plain": [
       "<matplotlib.image.AxesImage at 0x7f41ad9545e0>"
      ]
     },
     "execution_count": 29,
     "metadata": {},
     "output_type": "execute_result"
    },
    {
     "data": {
      "image/png": "[encoded data removed]",
      "text/plain": [
       "<Figure size 640x480 with 1 Axes>"
      ]
     },
     "metadata": {},
     "output_type": "display_data"
    }
   ],
   "source": [
    "plt.imshow(ims[0][4]) #z-band for first of 32 images"
   ]
  },
  {
   "cell_type": "markdown",
   "id": "d9a2f325",
   "metadata": {},
   "source": [
    "We notice that some objects appear not to show up in some bands, or appear more faint in some bands than others. This is normal: objects emit light at different wavelengths, and so in some wavelength ranges (e.g. a particular band) an object may not appear to be visible at all."
   ]
  },
  {
   "cell_type": "markdown",
   "id": "f7840f63",
   "metadata": {},
   "source": [
    "We won't worry about the other latent variables for now (given again below). More detail on these can be explored on a project-by-project basis."
   ]
  },
  {
   "cell_type": "code",
   "execution_count": 30,
   "id": "e4b48546",
   "metadata": {},
   "outputs": [
    {
     "data": {
      "text/plain": [
       "dict_keys(['tile_catalog', 'images', 'background', 'deconvolution', 'psf_params'])"
      ]
     },
     "execution_count": 30,
     "metadata": {},
     "output_type": "execute_result"
    }
   ],
   "source": [
    "simulated_batch_of_data.keys()"
   ]
  },
  {
   "cell_type": "markdown",
   "id": "8207c586",
   "metadata": {},
   "source": [
    "#### 2. Training the encoder"
   ]
  },
  {
   "cell_type": "markdown",
   "id": "8448575d",
   "metadata": {},
   "source": [
    "The encoder $q_\\phi(z \\mid x)$ learns a *variational distribution* on $z$ conditional on an observed $x$. We use machine learning and amortization to automate this process: given any $x$, we get a distribution on $z$ by putting $x$ through a neural network (whose parameters are $\\phi$). For us, $z$ is a complex object, consisting of all the parameters in the tile catalog above (or more). \n",
    "\n",
    "The training objective is quite simple, and is given by\n",
    "\n",
    "$$\n",
    "\\max_\\phi \\mathbb{E}_{p(z,x)} \\log q_\\phi(z \\mid x)\n",
    "$$\n",
    "\n",
    "in other words, maximize the variational density across all $z,x$ from the generative model $p(z,x)$. For us, the generative model is given by \n",
    "\n",
    "$$\n",
    "p(z,x) = p(z) p(x \\mid x)\n",
    "$$\n",
    "\n",
    "where $p(z)$ is the prior, and $p(x \\mid x)$ generats images from the prior. We won't focus much at all on $p(z \\mid x)$. Rather, we'll focus on the prior, and we will alter the tile catalog $z$ (e.g., to include new parameters such as redshift). The information for the prior is again given by the config:"
   ]
  },
  {
   "cell_type": "code",
   "execution_count": 31,
   "id": "982b24f3",
   "metadata": {},
   "outputs": [
    {
     "name": "stdout",
     "output_type": "stream",
     "text": [
      "_target_: bliss.simulator.prior.CatalogPrior\n",
      "survey_bands:\n",
      "- u\n",
      "- g\n",
      "- r\n",
      "- i\n",
      "- z\n",
      "reference_band: 2\n",
      "star_color_model_path: /home/declan/current/bliss/data/sdss/color_models/star_gmm_nmgy.pkl\n",
      "gal_color_model_path: /home/declan/current/bliss/data/sdss/color_models/gal_gmm_nmgy.pkl\n",
      "n_tiles_h: 56\n",
      "n_tiles_w: 56\n",
      "tile_slen: 2\n",
      "batch_size: 32\n",
      "max_sources: 6\n",
      "mean_sources: 0.48\n",
      "min_sources: 0\n",
      "prob_galaxy: 0.0\n",
      "star_flux_exponent: 0.9859821185389767\n",
      "star_flux_truncation: 5685.588160703261\n",
      "star_flux_loc: -1.162430157551662\n",
      "star_flux_scale: 1.4137911256506595\n",
      "galaxy_flux_truncation: 1013\n",
      "galaxy_flux_exponent: 0.47\n",
      "galaxy_flux_scale: 0.6301037\n",
      "galaxy_flux_loc: 0.0\n",
      "galaxy_a_concentration: 0.39330758068481686\n",
      "galaxy_a_loc: 0.8371888967872619\n",
      "galaxy_a_scale: 4.432725319432478\n",
      "galaxy_a_bd_ratio: 2.0\n",
      "\n"
     ]
    }
   ],
   "source": [
    "print(OmegaConf.to_yaml(cfg.prior, resolve=False, sort_keys=False))"
   ]
  },
  {
   "cell_type": "code",
   "execution_count": 32,
   "id": "ce02eaeb",
   "metadata": {},
   "outputs": [
    {
     "data": {
      "text/plain": [
       "2.0"
      ]
     },
     "execution_count": 32,
     "metadata": {},
     "output_type": "execute_result"
    }
   ],
   "source": [
    "cfg.prior.galaxy_a_bd_ratio"
   ]
  },
  {
   "cell_type": "markdown",
   "id": "a7a77410",
   "metadata": {},
   "source": [
    "These numbers can be considered as hyperparameters that define the prior. We don't actually need to infer these numbers precisely. Rather, for a tile catalog $z$ sampled from the prior $p(z)$, we want to infer $z$ given its corresponding image $x$.\n",
    "\n",
    "Training is performed using the ```train``` function from ```bliss/main.py```. As above, we pass `cfg.train` to the `train` function, which is reproduced below (with some lines omitted)."
   ]
  },
  {
   "cell_type": "code",
   "execution_count": 33,
   "id": "b74eb45b",
   "metadata": {},
   "outputs": [],
   "source": [
    "def train(train_cfg: DictConfig):\n",
    "    # setup seed\n",
    "    pl.seed_everything(train_cfg.seed)\n",
    "\n",
    "    # setup dataset, encoder, and trainer\n",
    "    dataset = instantiate(train_cfg.data_source)\n",
    "    encoder = instantiate(train_cfg.encoder)\n",
    "    trainer = instantiate(train_cfg.trainer)\n",
    "\n",
    "    # train!\n",
    "    trainer.fit(encoder, datamodule=dataset)\n"
   ]
  },
  {
   "cell_type": "markdown",
   "id": "7ffdb56d",
   "metadata": {},
   "source": [
    "Let's examine the three main objects that the training procedure evidently uses: a dataset, an encoder, and a trainer. Again, these are all specified by the config, and instatiated in the train function above."
   ]
  },
  {
   "cell_type": "code",
   "execution_count": 34,
   "id": "082c1cde",
   "metadata": {},
   "outputs": [
    {
     "data": {
      "text/plain": [
       "{'_target_': 'bliss.simulator.simulated_dataset.CachedSimulatedDataset', 'batch_size': 23, 'splits': '0:80/80:90/90:100', 'num_workers': 0, 'cached_data_path': '/data/scratch/regier/m2', 'file_prefix': '${generate.file_prefix}'}"
      ]
     },
     "execution_count": 34,
     "metadata": {},
     "output_type": "execute_result"
    }
   ],
   "source": [
    "cfg.train.data_source"
   ]
  },
  {
   "cell_type": "markdown",
   "id": "1b3d3795",
   "metadata": {},
   "source": [
    "We see that the data-source is a cached dataset. In other words, lots of saved $z,x$ pairs from the generative model $p(z,x)$ that have been written to disk previously. These are used to fit the objective function approximately, e.g.\n",
    "\n",
    "$$\n",
    "\\max_\\phi \\frac{1}{n} \\sum_{i=1}^n \\log q_\\phi(z_i \\mid x_i)\n",
    "$$\n",
    "\n",
    "where $n$ is the number of cached $z,x$ pairs that have been saved. For us, we only have one pair of $z,x$. We'll evidently need to convert these to type `CachedSimulatedDataset` to fit in with the framework."
   ]
  },
  {
   "cell_type": "code",
   "execution_count": 35,
   "id": "fb11887d",
   "metadata": {},
   "outputs": [
    {
     "data": {
      "text/plain": [
       "{'_target_': 'bliss.encoder.encoder.Encoder', 'survey_bands': ['u', 'g', 'r', 'i', 'z'], 'tile_slen': 2, 'tiles_to_crop': 1, 'min_flux_threshold': 0.9419, 'optimizer_params': {'lr': 0.001}, 'scheduler_params': {'milestones': [32], 'gamma': 0.1}, 'image_normalizer': {'_target_': 'bliss.encoder.image_normalizer.ImageNormalizer', 'bands': [2], 'include_original': False, 'use_deconv_channel': False, 'concat_psf_params': False, 'num_psf_params': 6, 'log_transform_stdevs': [-3, 0, 1, 3], 'use_clahe': True, 'clahe_min_stdev': 200}, 'vd_spec': {'_target_': 'bliss.encoder.variational_dist.VariationalDistSpec', 'survey_bands': '${encoder.survey_bands}', 'tile_slen': '${encoder.tile_slen}'}, 'matcher': {'_target_': 'bliss.encoder.metrics.CatalogMatcher', 'dist_slack': 0.5, 'mag_slack': 0.5, 'mag_band': 2}, 'metrics': {'_target_': 'torchmetrics.MetricCollection', 'metrics': [{'_target_': 'bliss.encoder.metrics.DetectionPerformance', 'mag_bin_cutoffs': [19, 19.4, 19.8, 20.2, 20.6, 21, 21.4, 21.8, 22.065], 'exclude_last_bin': True}]}, 'do_data_augmentation': False, 'compile_model': False, 'double_detect': True, 'use_checkerboard': True}"
      ]
     },
     "execution_count": 35,
     "metadata": {},
     "output_type": "execute_result"
    }
   ],
   "source": [
    "cfg.train.encoder"
   ]
  },
  {
   "cell_type": "markdown",
   "id": "930eab00",
   "metadata": {},
   "source": [
    "All these configurables will instantiate an `Encoder` object. This object will perform the function described above, i.e. given an image $x$ it will give us a distribution on the tile catalog $z$. "
   ]
  },
  {
   "cell_type": "code",
   "execution_count": 36,
   "id": "f4e4a182",
   "metadata": {},
   "outputs": [
    {
     "data": {
      "text/plain": [
       "{'_target_': 'pytorch_lightning.Trainer', 'logger': {'_target_': 'pytorch_lightning.loggers.TensorBoardLogger', 'save_dir': '${paths.output}', 'name': None, 'version': None, 'default_hp_metric': False}, 'callbacks': [{'_target_': 'pytorch_lightning.callbacks.ModelCheckpoint', 'filename': 'best_encoder', 'save_top_k': 1, 'verbose': True, 'monitor': 'val/_loss', 'mode': 'min', 'save_on_train_epoch_end': False, 'auto_insert_metric_name': False}, {'_target_': 'pytorch_lightning.callbacks.early_stopping.EarlyStopping', 'monitor': 'val/_loss', 'mode': 'min', 'patience': 5}], 'reload_dataloaders_every_n_epochs': 0, 'check_val_every_n_epoch': 1, 'log_every_n_steps': 10, 'min_epochs': 1, 'max_epochs': 50, 'accelerator': 'gpu', 'devices': 1, 'precision': '16-mixed'}"
      ]
     },
     "execution_count": 36,
     "metadata": {},
     "output_type": "execute_result"
    }
   ],
   "source": [
    "cfg.train.trainer"
   ]
  },
  {
   "cell_type": "markdown",
   "id": "0f74037e",
   "metadata": {},
   "source": [
    "The trainer evidently wraps up the training procedure with lots of information about logging, checkpoints, metrics, etc. We won't worry so much about this for now."
   ]
  },
  {
   "cell_type": "markdown",
   "id": "9d8d6908",
   "metadata": {},
   "source": [
    "Our simplified version of training for illustrative purposes will try to unwrap some of the abstraction above. Let's first instantiate the encodeer so we can examine it."
   ]
  },
  {
   "cell_type": "code",
   "execution_count": 37,
   "id": "79121201",
   "metadata": {},
   "outputs": [
    {
     "data": {
      "text/plain": [
       "Encoder(\n",
       "  (image_normalizer): ImageNormalizer()\n",
       "  (vd_spec): VariationalDistSpec()\n",
       "  (mode_metrics): MetricCollection(\n",
       "    (DetectionPerformance): DetectionPerformance()\n",
       "  )\n",
       "  (sample_metrics): MetricCollection(\n",
       "    (DetectionPerformance): DetectionPerformance()\n",
       "  )\n",
       "  (features_net): FeaturesNet(\n",
       "    (preprocess3d): Sequential(\n",
       "      (0): Conv3d(1, 64, kernel_size=(6, 5, 5), stride=(1, 1, 1), padding=(0, 2, 2))\n",
       "      (1): BatchNorm3d(64, eps=1e-05, momentum=0.1, affine=True, track_running_stats=True)\n",
       "      (2): SiLU()\n",
       "    )\n",
       "    (backbone): Sequential(\n",
       "      (0): ConvBlock(\n",
       "        (conv): Conv2d(64, 64, kernel_size=(5, 5), stride=(1, 1), padding=(2, 2), bias=False)\n",
       "        (bn): BatchNorm2d(64, eps=0.001, momentum=0.03, affine=True, track_running_stats=True)\n",
       "        (activation): SiLU(inplace=True)\n",
       "      )\n",
       "      (1): Sequential(\n",
       "        (0): ConvBlock(\n",
       "          (conv): Conv2d(64, 64, kernel_size=(5, 5), stride=(1, 1), padding=(2, 2), bias=False)\n",
       "          (bn): BatchNorm2d(64, eps=0.001, momentum=0.03, affine=True, track_running_stats=True)\n",
       "          (activation): SiLU(inplace=True)\n",
       "        )\n",
       "        (1): ConvBlock(\n",
       "          (conv): Conv2d(64, 64, kernel_size=(5, 5), stride=(1, 1), padding=(2, 2), bias=False)\n",
       "          (bn): BatchNorm2d(64, eps=0.001, momentum=0.03, affine=True, track_running_stats=True)\n",
       "          (activation): SiLU(inplace=True)\n",
       "        )\n",
       "        (2): ConvBlock(\n",
       "          (conv): Conv2d(64, 64, kernel_size=(5, 5), stride=(1, 1), padding=(2, 2), bias=False)\n",
       "          (bn): BatchNorm2d(64, eps=0.001, momentum=0.03, affine=True, track_running_stats=True)\n",
       "          (activation): SiLU(inplace=True)\n",
       "        )\n",
       "        (3): ConvBlock(\n",
       "          (conv): Conv2d(64, 64, kernel_size=(5, 5), stride=(1, 1), padding=(2, 2), bias=False)\n",
       "          (bn): BatchNorm2d(64, eps=0.001, momentum=0.03, affine=True, track_running_stats=True)\n",
       "          (activation): SiLU(inplace=True)\n",
       "        )\n",
       "      )\n",
       "      (2): ConvBlock(\n",
       "        (conv): Conv2d(64, 128, kernel_size=(3, 3), stride=(2, 2), padding=(1, 1), bias=False)\n",
       "        (bn): BatchNorm2d(128, eps=0.001, momentum=0.03, affine=True, track_running_stats=True)\n",
       "        (activation): SiLU(inplace=True)\n",
       "      )\n",
       "      (3): Sequential(\n",
       "        (0): ConvBlock(\n",
       "          (conv): Conv2d(128, 128, kernel_size=(3, 3), stride=(1, 1), padding=(1, 1), bias=False)\n",
       "          (bn): BatchNorm2d(128, eps=0.001, momentum=0.03, affine=True, track_running_stats=True)\n",
       "          (activation): SiLU(inplace=True)\n",
       "        )\n",
       "        (1): ConvBlock(\n",
       "          (conv): Conv2d(128, 128, kernel_size=(3, 3), stride=(1, 1), padding=(1, 1), bias=False)\n",
       "          (bn): BatchNorm2d(128, eps=0.001, momentum=0.03, affine=True, track_running_stats=True)\n",
       "          (activation): SiLU(inplace=True)\n",
       "        )\n",
       "        (2): ConvBlock(\n",
       "          (conv): Conv2d(128, 128, kernel_size=(3, 3), stride=(1, 1), padding=(1, 1), bias=False)\n",
       "          (bn): BatchNorm2d(128, eps=0.001, momentum=0.03, affine=True, track_running_stats=True)\n",
       "          (activation): SiLU(inplace=True)\n",
       "        )\n",
       "        (3): ConvBlock(\n",
       "          (conv): Conv2d(128, 128, kernel_size=(3, 3), stride=(1, 1), padding=(1, 1), bias=False)\n",
       "          (bn): BatchNorm2d(128, eps=0.001, momentum=0.03, affine=True, track_running_stats=True)\n",
       "          (activation): SiLU(inplace=True)\n",
       "        )\n",
       "        (4): ConvBlock(\n",
       "          (conv): Conv2d(128, 128, kernel_size=(3, 3), stride=(1, 1), padding=(1, 1), bias=False)\n",
       "          (bn): BatchNorm2d(128, eps=0.001, momentum=0.03, affine=True, track_running_stats=True)\n",
       "          (activation): SiLU(inplace=True)\n",
       "        )\n",
       "      )\n",
       "      (4): ConvBlock(\n",
       "        (conv): Conv2d(128, 256, kernel_size=(3, 3), stride=(1, 1), padding=(1, 1), bias=False)\n",
       "        (bn): BatchNorm2d(256, eps=0.001, momentum=0.03, affine=True, track_running_stats=True)\n",
       "        (activation): SiLU(inplace=True)\n",
       "      )\n",
       "    )\n",
       "  )\n",
       "  (marginal_net): CatalogNet(\n",
       "    (net_ml): ModuleList(\n",
       "      (0): C3(\n",
       "        (cv1): ConvBlock(\n",
       "          (conv): Conv2d(256, 128, kernel_size=(1, 1), stride=(1, 1), bias=False)\n",
       "          (bn): BatchNorm2d(128, eps=0.001, momentum=0.03, affine=True, track_running_stats=True)\n",
       "          (activation): SiLU(inplace=True)\n",
       "        )\n",
       "        (cv2): ConvBlock(\n",
       "          (conv): Conv2d(256, 128, kernel_size=(1, 1), stride=(1, 1), bias=False)\n",
       "          (bn): BatchNorm2d(128, eps=0.001, momentum=0.03, affine=True, track_running_stats=True)\n",
       "          (activation): SiLU(inplace=True)\n",
       "        )\n",
       "        (cv3): ConvBlock(\n",
       "          (conv): Conv2d(256, 256, kernel_size=(1, 1), stride=(1, 1), bias=False)\n",
       "          (bn): BatchNorm2d(256, eps=0.001, momentum=0.03, affine=True, track_running_stats=True)\n",
       "          (activation): SiLU(inplace=True)\n",
       "        )\n",
       "        (m): Sequential(\n",
       "          (0): Bottleneck(\n",
       "            (cv1): ConvBlock(\n",
       "              (conv): Conv2d(128, 128, kernel_size=(1, 1), stride=(1, 1), bias=False)\n",
       "              (bn): BatchNorm2d(128, eps=0.001, momentum=0.03, affine=True, track_running_stats=True)\n",
       "              (activation): SiLU(inplace=True)\n",
       "            )\n",
       "            (cv2): ConvBlock(\n",
       "              (conv): Conv2d(128, 128, kernel_size=(3, 3), stride=(1, 1), padding=(1, 1), bias=False)\n",
       "              (bn): BatchNorm2d(128, eps=0.001, momentum=0.03, affine=True, track_running_stats=True)\n",
       "              (activation): SiLU(inplace=True)\n",
       "            )\n",
       "          )\n",
       "          (1): Bottleneck(\n",
       "            (cv1): ConvBlock(\n",
       "              (conv): Conv2d(128, 128, kernel_size=(1, 1), stride=(1, 1), bias=False)\n",
       "              (bn): BatchNorm2d(128, eps=0.001, momentum=0.03, affine=True, track_running_stats=True)\n",
       "              (activation): SiLU(inplace=True)\n",
       "            )\n",
       "            (cv2): ConvBlock(\n",
       "              (conv): Conv2d(128, 128, kernel_size=(3, 3), stride=(1, 1), padding=(1, 1), bias=False)\n",
       "              (bn): BatchNorm2d(128, eps=0.001, momentum=0.03, affine=True, track_running_stats=True)\n",
       "              (activation): SiLU(inplace=True)\n",
       "            )\n",
       "          )\n",
       "          (2): Bottleneck(\n",
       "            (cv1): ConvBlock(\n",
       "              (conv): Conv2d(128, 128, kernel_size=(1, 1), stride=(1, 1), bias=False)\n",
       "              (bn): BatchNorm2d(128, eps=0.001, momentum=0.03, affine=True, track_running_stats=True)\n",
       "              (activation): SiLU(inplace=True)\n",
       "            )\n",
       "            (cv2): ConvBlock(\n",
       "              (conv): Conv2d(128, 128, kernel_size=(3, 3), stride=(1, 1), padding=(1, 1), bias=False)\n",
       "              (bn): BatchNorm2d(128, eps=0.001, momentum=0.03, affine=True, track_running_stats=True)\n",
       "              (activation): SiLU(inplace=True)\n",
       "            )\n",
       "          )\n",
       "          (3): Bottleneck(\n",
       "            (cv1): ConvBlock(\n",
       "              (conv): Conv2d(128, 128, kernel_size=(1, 1), stride=(1, 1), bias=False)\n",
       "              (bn): BatchNorm2d(128, eps=0.001, momentum=0.03, affine=True, track_running_stats=True)\n",
       "              (activation): SiLU(inplace=True)\n",
       "            )\n",
       "            (cv2): ConvBlock(\n",
       "              (conv): Conv2d(128, 128, kernel_size=(3, 3), stride=(1, 1), padding=(1, 1), bias=False)\n",
       "              (bn): BatchNorm2d(128, eps=0.001, momentum=0.03, affine=True, track_running_stats=True)\n",
       "              (activation): SiLU(inplace=True)\n",
       "            )\n",
       "          )\n",
       "          (4): Bottleneck(\n",
       "            (cv1): ConvBlock(\n",
       "              (conv): Conv2d(128, 128, kernel_size=(1, 1), stride=(1, 1), bias=False)\n",
       "              (bn): BatchNorm2d(128, eps=0.001, momentum=0.03, affine=True, track_running_stats=True)\n",
       "              (activation): SiLU(inplace=True)\n",
       "            )\n",
       "            (cv2): ConvBlock(\n",
       "              (conv): Conv2d(128, 128, kernel_size=(3, 3), stride=(1, 1), padding=(1, 1), bias=False)\n",
       "              (bn): BatchNorm2d(128, eps=0.001, momentum=0.03, affine=True, track_running_stats=True)\n",
       "              (activation): SiLU(inplace=True)\n",
       "            )\n",
       "          )\n",
       "          (5): Bottleneck(\n",
       "            (cv1): ConvBlock(\n",
       "              (conv): Conv2d(128, 128, kernel_size=(1, 1), stride=(1, 1), bias=False)\n",
       "              (bn): BatchNorm2d(128, eps=0.001, momentum=0.03, affine=True, track_running_stats=True)\n",
       "              (activation): SiLU(inplace=True)\n",
       "            )\n",
       "            (cv2): ConvBlock(\n",
       "              (conv): Conv2d(128, 128, kernel_size=(3, 3), stride=(1, 1), padding=(1, 1), bias=False)\n",
       "              (bn): BatchNorm2d(128, eps=0.001, momentum=0.03, affine=True, track_running_stats=True)\n",
       "              (activation): SiLU(inplace=True)\n",
       "            )\n",
       "          )\n",
       "        )\n",
       "      )\n",
       "      (1): ConvBlock(\n",
       "        (conv): Conv2d(256, 512, kernel_size=(3, 3), stride=(2, 2), padding=(1, 1), bias=False)\n",
       "        (bn): BatchNorm2d(512, eps=0.001, momentum=0.03, affine=True, track_running_stats=True)\n",
       "        (activation): SiLU(inplace=True)\n",
       "      )\n",
       "      (2): C3(\n",
       "        (cv1): ConvBlock(\n",
       "          (conv): Conv2d(512, 256, kernel_size=(1, 1), stride=(1, 1), bias=False)\n",
       "          (bn): BatchNorm2d(256, eps=0.001, momentum=0.03, affine=True, track_running_stats=True)\n",
       "          (activation): SiLU(inplace=True)\n",
       "        )\n",
       "        (cv2): ConvBlock(\n",
       "          (conv): Conv2d(512, 256, kernel_size=(1, 1), stride=(1, 1), bias=False)\n",
       "          (bn): BatchNorm2d(256, eps=0.001, momentum=0.03, affine=True, track_running_stats=True)\n",
       "          (activation): SiLU(inplace=True)\n",
       "        )\n",
       "        (cv3): ConvBlock(\n",
       "          (conv): Conv2d(512, 512, kernel_size=(1, 1), stride=(1, 1), bias=False)\n",
       "          (bn): BatchNorm2d(512, eps=0.001, momentum=0.03, affine=True, track_running_stats=True)\n",
       "          (activation): SiLU(inplace=True)\n",
       "        )\n",
       "        (m): Sequential(\n",
       "          (0): Bottleneck(\n",
       "            (cv1): ConvBlock(\n",
       "              (conv): Conv2d(256, 256, kernel_size=(1, 1), stride=(1, 1), bias=False)\n",
       "              (bn): BatchNorm2d(256, eps=0.001, momentum=0.03, affine=True, track_running_stats=True)\n",
       "              (activation): SiLU(inplace=True)\n",
       "            )\n",
       "            (cv2): ConvBlock(\n",
       "              (conv): Conv2d(256, 256, kernel_size=(3, 3), stride=(1, 1), padding=(1, 1), bias=False)\n",
       "              (bn): BatchNorm2d(256, eps=0.001, momentum=0.03, affine=True, track_running_stats=True)\n",
       "              (activation): SiLU(inplace=True)\n",
       "            )\n",
       "          )\n",
       "          (1): Bottleneck(\n",
       "            (cv1): ConvBlock(\n",
       "              (conv): Conv2d(256, 256, kernel_size=(1, 1), stride=(1, 1), bias=False)\n",
       "              (bn): BatchNorm2d(256, eps=0.001, momentum=0.03, affine=True, track_running_stats=True)\n",
       "              (activation): SiLU(inplace=True)\n",
       "            )\n",
       "            (cv2): ConvBlock(\n",
       "              (conv): Conv2d(256, 256, kernel_size=(3, 3), stride=(1, 1), padding=(1, 1), bias=False)\n",
       "              (bn): BatchNorm2d(256, eps=0.001, momentum=0.03, affine=True, track_running_stats=True)\n",
       "              (activation): SiLU(inplace=True)\n",
       "            )\n",
       "          )\n",
       "          (2): Bottleneck(\n",
       "            (cv1): ConvBlock(\n",
       "              (conv): Conv2d(256, 256, kernel_size=(1, 1), stride=(1, 1), bias=False)\n",
       "              (bn): BatchNorm2d(256, eps=0.001, momentum=0.03, affine=True, track_running_stats=True)\n",
       "              (activation): SiLU(inplace=True)\n",
       "            )\n",
       "            (cv2): ConvBlock(\n",
       "              (conv): Conv2d(256, 256, kernel_size=(3, 3), stride=(1, 1), padding=(1, 1), bias=False)\n",
       "              (bn): BatchNorm2d(256, eps=0.001, momentum=0.03, affine=True, track_running_stats=True)\n",
       "              (activation): SiLU(inplace=True)\n",
       "            )\n",
       "          )\n",
       "        )\n",
       "      )\n",
       "      (3): ConvBlock(\n",
       "        (conv): Conv2d(512, 256, kernel_size=(1, 1), stride=(1, 1), bias=False)\n",
       "        (bn): BatchNorm2d(256, eps=0.001, momentum=0.03, affine=True, track_running_stats=True)\n",
       "        (activation): SiLU(inplace=True)\n",
       "      )\n",
       "      (4): Upsample(scale_factor=2.0, mode='nearest')\n",
       "      (5): C3(\n",
       "        (cv1): ConvBlock(\n",
       "          (conv): Conv2d(768, 128, kernel_size=(1, 1), stride=(1, 1), bias=False)\n",
       "          (bn): BatchNorm2d(128, eps=0.001, momentum=0.03, affine=True, track_running_stats=True)\n",
       "          (activation): SiLU(inplace=True)\n",
       "        )\n",
       "        (cv2): ConvBlock(\n",
       "          (conv): Conv2d(768, 128, kernel_size=(1, 1), stride=(1, 1), bias=False)\n",
       "          (bn): BatchNorm2d(128, eps=0.001, momentum=0.03, affine=True, track_running_stats=True)\n",
       "          (activation): SiLU(inplace=True)\n",
       "        )\n",
       "        (cv3): ConvBlock(\n",
       "          (conv): Conv2d(256, 256, kernel_size=(1, 1), stride=(1, 1), bias=False)\n",
       "          (bn): BatchNorm2d(256, eps=0.001, momentum=0.03, affine=True, track_running_stats=True)\n",
       "          (activation): SiLU(inplace=True)\n",
       "        )\n",
       "        (m): Sequential(\n",
       "          (0): Bottleneck(\n",
       "            (cv1): ConvBlock(\n",
       "              (conv): Conv2d(128, 128, kernel_size=(1, 1), stride=(1, 1), bias=False)\n",
       "              (bn): BatchNorm2d(128, eps=0.001, momentum=0.03, affine=True, track_running_stats=True)\n",
       "              (activation): SiLU(inplace=True)\n",
       "            )\n",
       "            (cv2): ConvBlock(\n",
       "              (conv): Conv2d(128, 128, kernel_size=(3, 3), stride=(1, 1), padding=(1, 1), bias=False)\n",
       "              (bn): BatchNorm2d(128, eps=0.001, momentum=0.03, affine=True, track_running_stats=True)\n",
       "              (activation): SiLU(inplace=True)\n",
       "            )\n",
       "          )\n",
       "          (1): Bottleneck(\n",
       "            (cv1): ConvBlock(\n",
       "              (conv): Conv2d(128, 128, kernel_size=(1, 1), stride=(1, 1), bias=False)\n",
       "              (bn): BatchNorm2d(128, eps=0.001, momentum=0.03, affine=True, track_running_stats=True)\n",
       "              (activation): SiLU(inplace=True)\n",
       "            )\n",
       "            (cv2): ConvBlock(\n",
       "              (conv): Conv2d(128, 128, kernel_size=(3, 3), stride=(1, 1), padding=(1, 1), bias=False)\n",
       "              (bn): BatchNorm2d(128, eps=0.001, momentum=0.03, affine=True, track_running_stats=True)\n",
       "              (activation): SiLU(inplace=True)\n",
       "            )\n",
       "          )\n",
       "          (2): Bottleneck(\n",
       "            (cv1): ConvBlock(\n",
       "              (conv): Conv2d(128, 128, kernel_size=(1, 1), stride=(1, 1), bias=False)\n",
       "              (bn): BatchNorm2d(128, eps=0.001, momentum=0.03, affine=True, track_running_stats=True)\n",
       "              (activation): SiLU(inplace=True)\n",
       "            )\n",
       "            (cv2): ConvBlock(\n",
       "              (conv): Conv2d(128, 128, kernel_size=(3, 3), stride=(1, 1), padding=(1, 1), bias=False)\n",
       "              (bn): BatchNorm2d(128, eps=0.001, momentum=0.03, affine=True, track_running_stats=True)\n",
       "              (activation): SiLU(inplace=True)\n",
       "            )\n",
       "          )\n",
       "        )\n",
       "      )\n",
       "      (6): Detect(\n",
       "        (conv): Conv2d(256, 38, kernel_size=(1, 1), stride=(1, 1))\n",
       "      )\n",
       "    )\n",
       "  )\n",
       "  (checkerboard_net): ContextNet(\n",
       "    (encode_context): Sequential(\n",
       "      (0): ConvBlock(\n",
       "        (conv): Conv2d(2, 64, kernel_size=(3, 3), stride=(1, 1), padding=(1, 1), bias=False)\n",
       "        (bn): BatchNorm2d(64, eps=0.001, momentum=0.03, affine=True, track_running_stats=True)\n",
       "        (activation): SiLU(inplace=True)\n",
       "      )\n",
       "      (1): ConvBlock(\n",
       "        (conv): Conv2d(64, 64, kernel_size=(3, 3), stride=(1, 1), padding=(1, 1), bias=False)\n",
       "        (bn): BatchNorm2d(64, eps=0.001, momentum=0.03, affine=True, track_running_stats=True)\n",
       "        (activation): SiLU(inplace=True)\n",
       "      )\n",
       "      (2): ConvBlock(\n",
       "        (conv): Conv2d(64, 64, kernel_size=(3, 3), stride=(1, 1), padding=(1, 1), bias=False)\n",
       "        (bn): BatchNorm2d(64, eps=0.001, momentum=0.03, affine=True, track_running_stats=True)\n",
       "        (activation): SiLU(inplace=True)\n",
       "      )\n",
       "    )\n",
       "    (merge): ConvBlock(\n",
       "      (conv): Conv2d(320, 256, kernel_size=(3, 3), stride=(1, 1), padding=(1, 1), bias=False)\n",
       "      (bn): BatchNorm2d(256, eps=0.001, momentum=0.03, affine=True, track_running_stats=True)\n",
       "      (activation): SiLU(inplace=True)\n",
       "    )\n",
       "    (catalog_net): CatalogNet(\n",
       "      (net_ml): ModuleList(\n",
       "        (0): C3(\n",
       "          (cv1): ConvBlock(\n",
       "            (conv): Conv2d(256, 128, kernel_size=(1, 1), stride=(1, 1), bias=False)\n",
       "            (bn): BatchNorm2d(128, eps=0.001, momentum=0.03, affine=True, track_running_stats=True)\n",
       "            (activation): SiLU(inplace=True)\n",
       "          )\n",
       "          (cv2): ConvBlock(\n",
       "            (conv): Conv2d(256, 128, kernel_size=(1, 1), stride=(1, 1), bias=False)\n",
       "            (bn): BatchNorm2d(128, eps=0.001, momentum=0.03, affine=True, track_running_stats=True)\n",
       "            (activation): SiLU(inplace=True)\n",
       "          )\n",
       "          (cv3): ConvBlock(\n",
       "            (conv): Conv2d(256, 256, kernel_size=(1, 1), stride=(1, 1), bias=False)\n",
       "            (bn): BatchNorm2d(256, eps=0.001, momentum=0.03, affine=True, track_running_stats=True)\n",
       "            (activation): SiLU(inplace=True)\n",
       "          )\n",
       "          (m): Sequential(\n",
       "            (0): Bottleneck(\n",
       "              (cv1): ConvBlock(\n",
       "                (conv): Conv2d(128, 128, kernel_size=(1, 1), stride=(1, 1), bias=False)\n",
       "                (bn): BatchNorm2d(128, eps=0.001, momentum=0.03, affine=True, track_running_stats=True)\n",
       "                (activation): SiLU(inplace=True)\n",
       "              )\n",
       "              (cv2): ConvBlock(\n",
       "                (conv): Conv2d(128, 128, kernel_size=(3, 3), stride=(1, 1), padding=(1, 1), bias=False)\n",
       "                (bn): BatchNorm2d(128, eps=0.001, momentum=0.03, affine=True, track_running_stats=True)\n",
       "                (activation): SiLU(inplace=True)\n",
       "              )\n",
       "            )\n",
       "            (1): Bottleneck(\n",
       "              (cv1): ConvBlock(\n",
       "                (conv): Conv2d(128, 128, kernel_size=(1, 1), stride=(1, 1), bias=False)\n",
       "                (bn): BatchNorm2d(128, eps=0.001, momentum=0.03, affine=True, track_running_stats=True)\n",
       "                (activation): SiLU(inplace=True)\n",
       "              )\n",
       "              (cv2): ConvBlock(\n",
       "                (conv): Conv2d(128, 128, kernel_size=(3, 3), stride=(1, 1), padding=(1, 1), bias=False)\n",
       "                (bn): BatchNorm2d(128, eps=0.001, momentum=0.03, affine=True, track_running_stats=True)\n",
       "                (activation): SiLU(inplace=True)\n",
       "              )\n",
       "            )\n",
       "            (2): Bottleneck(\n",
       "              (cv1): ConvBlock(\n",
       "                (conv): Conv2d(128, 128, kernel_size=(1, 1), stride=(1, 1), bias=False)\n",
       "                (bn): BatchNorm2d(128, eps=0.001, momentum=0.03, affine=True, track_running_stats=True)\n",
       "                (activation): SiLU(inplace=True)\n",
       "              )\n",
       "              (cv2): ConvBlock(\n",
       "                (conv): Conv2d(128, 128, kernel_size=(3, 3), stride=(1, 1), padding=(1, 1), bias=False)\n",
       "                (bn): BatchNorm2d(128, eps=0.001, momentum=0.03, affine=True, track_running_stats=True)\n",
       "                (activation): SiLU(inplace=True)\n",
       "              )\n",
       "            )\n",
       "            (3): Bottleneck(\n",
       "              (cv1): ConvBlock(\n",
       "                (conv): Conv2d(128, 128, kernel_size=(1, 1), stride=(1, 1), bias=False)\n",
       "                (bn): BatchNorm2d(128, eps=0.001, momentum=0.03, affine=True, track_running_stats=True)\n",
       "                (activation): SiLU(inplace=True)\n",
       "              )\n",
       "              (cv2): ConvBlock(\n",
       "                (conv): Conv2d(128, 128, kernel_size=(3, 3), stride=(1, 1), padding=(1, 1), bias=False)\n",
       "                (bn): BatchNorm2d(128, eps=0.001, momentum=0.03, affine=True, track_running_stats=True)\n",
       "                (activation): SiLU(inplace=True)\n",
       "              )\n",
       "            )\n",
       "            (4): Bottleneck(\n",
       "              (cv1): ConvBlock(\n",
       "                (conv): Conv2d(128, 128, kernel_size=(1, 1), stride=(1, 1), bias=False)\n",
       "                (bn): BatchNorm2d(128, eps=0.001, momentum=0.03, affine=True, track_running_stats=True)\n",
       "                (activation): SiLU(inplace=True)\n",
       "              )\n",
       "              (cv2): ConvBlock(\n",
       "                (conv): Conv2d(128, 128, kernel_size=(3, 3), stride=(1, 1), padding=(1, 1), bias=False)\n",
       "                (bn): BatchNorm2d(128, eps=0.001, momentum=0.03, affine=True, track_running_stats=True)\n",
       "                (activation): SiLU(inplace=True)\n",
       "              )\n",
       "            )\n",
       "            (5): Bottleneck(\n",
       "              (cv1): ConvBlock(\n",
       "                (conv): Conv2d(128, 128, kernel_size=(1, 1), stride=(1, 1), bias=False)\n",
       "                (bn): BatchNorm2d(128, eps=0.001, momentum=0.03, affine=True, track_running_stats=True)\n",
       "                (activation): SiLU(inplace=True)\n",
       "              )\n",
       "              (cv2): ConvBlock(\n",
       "                (conv): Conv2d(128, 128, kernel_size=(3, 3), stride=(1, 1), padding=(1, 1), bias=False)\n",
       "                (bn): BatchNorm2d(128, eps=0.001, momentum=0.03, affine=True, track_running_stats=True)\n",
       "                (activation): SiLU(inplace=True)\n",
       "              )\n",
       "            )\n",
       "          )\n",
       "        )\n",
       "        (1): ConvBlock(\n",
       "          (conv): Conv2d(256, 512, kernel_size=(3, 3), stride=(2, 2), padding=(1, 1), bias=False)\n",
       "          (bn): BatchNorm2d(512, eps=0.001, momentum=0.03, affine=True, track_running_stats=True)\n",
       "          (activation): SiLU(inplace=True)\n",
       "        )\n",
       "        (2): C3(\n",
       "          (cv1): ConvBlock(\n",
       "            (conv): Conv2d(512, 256, kernel_size=(1, 1), stride=(1, 1), bias=False)\n",
       "            (bn): BatchNorm2d(256, eps=0.001, momentum=0.03, affine=True, track_running_stats=True)\n",
       "            (activation): SiLU(inplace=True)\n",
       "          )\n",
       "          (cv2): ConvBlock(\n",
       "            (conv): Conv2d(512, 256, kernel_size=(1, 1), stride=(1, 1), bias=False)\n",
       "            (bn): BatchNorm2d(256, eps=0.001, momentum=0.03, affine=True, track_running_stats=True)\n",
       "            (activation): SiLU(inplace=True)\n",
       "          )\n",
       "          (cv3): ConvBlock(\n",
       "            (conv): Conv2d(512, 512, kernel_size=(1, 1), stride=(1, 1), bias=False)\n",
       "            (bn): BatchNorm2d(512, eps=0.001, momentum=0.03, affine=True, track_running_stats=True)\n",
       "            (activation): SiLU(inplace=True)\n",
       "          )\n",
       "          (m): Sequential(\n",
       "            (0): Bottleneck(\n",
       "              (cv1): ConvBlock(\n",
       "                (conv): Conv2d(256, 256, kernel_size=(1, 1), stride=(1, 1), bias=False)\n",
       "                (bn): BatchNorm2d(256, eps=0.001, momentum=0.03, affine=True, track_running_stats=True)\n",
       "                (activation): SiLU(inplace=True)\n",
       "              )\n",
       "              (cv2): ConvBlock(\n",
       "                (conv): Conv2d(256, 256, kernel_size=(3, 3), stride=(1, 1), padding=(1, 1), bias=False)\n",
       "                (bn): BatchNorm2d(256, eps=0.001, momentum=0.03, affine=True, track_running_stats=True)\n",
       "                (activation): SiLU(inplace=True)\n",
       "              )\n",
       "            )\n",
       "            (1): Bottleneck(\n",
       "              (cv1): ConvBlock(\n",
       "                (conv): Conv2d(256, 256, kernel_size=(1, 1), stride=(1, 1), bias=False)\n",
       "                (bn): BatchNorm2d(256, eps=0.001, momentum=0.03, affine=True, track_running_stats=True)\n",
       "                (activation): SiLU(inplace=True)\n",
       "              )\n",
       "              (cv2): ConvBlock(\n",
       "                (conv): Conv2d(256, 256, kernel_size=(3, 3), stride=(1, 1), padding=(1, 1), bias=False)\n",
       "                (bn): BatchNorm2d(256, eps=0.001, momentum=0.03, affine=True, track_running_stats=True)\n",
       "                (activation): SiLU(inplace=True)\n",
       "              )\n",
       "            )\n",
       "            (2): Bottleneck(\n",
       "              (cv1): ConvBlock(\n",
       "                (conv): Conv2d(256, 256, kernel_size=(1, 1), stride=(1, 1), bias=False)\n",
       "                (bn): BatchNorm2d(256, eps=0.001, momentum=0.03, affine=True, track_running_stats=True)\n",
       "                (activation): SiLU(inplace=True)\n",
       "              )\n",
       "              (cv2): ConvBlock(\n",
       "                (conv): Conv2d(256, 256, kernel_size=(3, 3), stride=(1, 1), padding=(1, 1), bias=False)\n",
       "                (bn): BatchNorm2d(256, eps=0.001, momentum=0.03, affine=True, track_running_stats=True)\n",
       "                (activation): SiLU(inplace=True)\n",
       "              )\n",
       "            )\n",
       "          )\n",
       "        )\n",
       "        (3): ConvBlock(\n",
       "          (conv): Conv2d(512, 256, kernel_size=(1, 1), stride=(1, 1), bias=False)\n",
       "          (bn): BatchNorm2d(256, eps=0.001, momentum=0.03, affine=True, track_running_stats=True)\n",
       "          (activation): SiLU(inplace=True)\n",
       "        )\n",
       "        (4): Upsample(scale_factor=2.0, mode='nearest')\n",
       "        (5): C3(\n",
       "          (cv1): ConvBlock(\n",
       "            (conv): Conv2d(768, 128, kernel_size=(1, 1), stride=(1, 1), bias=False)\n",
       "            (bn): BatchNorm2d(128, eps=0.001, momentum=0.03, affine=True, track_running_stats=True)\n",
       "            (activation): SiLU(inplace=True)\n",
       "          )\n",
       "          (cv2): ConvBlock(\n",
       "            (conv): Conv2d(768, 128, kernel_size=(1, 1), stride=(1, 1), bias=False)\n",
       "            (bn): BatchNorm2d(128, eps=0.001, momentum=0.03, affine=True, track_running_stats=True)\n",
       "            (activation): SiLU(inplace=True)\n",
       "          )\n",
       "          (cv3): ConvBlock(\n",
       "            (conv): Conv2d(256, 256, kernel_size=(1, 1), stride=(1, 1), bias=False)\n",
       "            (bn): BatchNorm2d(256, eps=0.001, momentum=0.03, affine=True, track_running_stats=True)\n",
       "            (activation): SiLU(inplace=True)\n",
       "          )\n",
       "          (m): Sequential(\n",
       "            (0): Bottleneck(\n",
       "              (cv1): ConvBlock(\n",
       "                (conv): Conv2d(128, 128, kernel_size=(1, 1), stride=(1, 1), bias=False)\n",
       "                (bn): BatchNorm2d(128, eps=0.001, momentum=0.03, affine=True, track_running_stats=True)\n",
       "                (activation): SiLU(inplace=True)\n",
       "              )\n",
       "              (cv2): ConvBlock(\n",
       "                (conv): Conv2d(128, 128, kernel_size=(3, 3), stride=(1, 1), padding=(1, 1), bias=False)\n",
       "                (bn): BatchNorm2d(128, eps=0.001, momentum=0.03, affine=True, track_running_stats=True)\n",
       "                (activation): SiLU(inplace=True)\n",
       "              )\n",
       "            )\n",
       "            (1): Bottleneck(\n",
       "              (cv1): ConvBlock(\n",
       "                (conv): Conv2d(128, 128, kernel_size=(1, 1), stride=(1, 1), bias=False)\n",
       "                (bn): BatchNorm2d(128, eps=0.001, momentum=0.03, affine=True, track_running_stats=True)\n",
       "                (activation): SiLU(inplace=True)\n",
       "              )\n",
       "              (cv2): ConvBlock(\n",
       "                (conv): Conv2d(128, 128, kernel_size=(3, 3), stride=(1, 1), padding=(1, 1), bias=False)\n",
       "                (bn): BatchNorm2d(128, eps=0.001, momentum=0.03, affine=True, track_running_stats=True)\n",
       "                (activation): SiLU(inplace=True)\n",
       "              )\n",
       "            )\n",
       "            (2): Bottleneck(\n",
       "              (cv1): ConvBlock(\n",
       "                (conv): Conv2d(128, 128, kernel_size=(1, 1), stride=(1, 1), bias=False)\n",
       "                (bn): BatchNorm2d(128, eps=0.001, momentum=0.03, affine=True, track_running_stats=True)\n",
       "                (activation): SiLU(inplace=True)\n",
       "              )\n",
       "              (cv2): ConvBlock(\n",
       "                (conv): Conv2d(128, 128, kernel_size=(3, 3), stride=(1, 1), padding=(1, 1), bias=False)\n",
       "                (bn): BatchNorm2d(128, eps=0.001, momentum=0.03, affine=True, track_running_stats=True)\n",
       "                (activation): SiLU(inplace=True)\n",
       "              )\n",
       "            )\n",
       "          )\n",
       "        )\n",
       "        (6): Detect(\n",
       "          (conv): Conv2d(256, 38, kernel_size=(1, 1), stride=(1, 1))\n",
       "        )\n",
       "      )\n",
       "    )\n",
       "  )\n",
       "  (second_net): CatalogNet(\n",
       "    (net_ml): ModuleList(\n",
       "      (0): C3(\n",
       "        (cv1): ConvBlock(\n",
       "          (conv): Conv2d(256, 128, kernel_size=(1, 1), stride=(1, 1), bias=False)\n",
       "          (bn): BatchNorm2d(128, eps=0.001, momentum=0.03, affine=True, track_running_stats=True)\n",
       "          (activation): SiLU(inplace=True)\n",
       "        )\n",
       "        (cv2): ConvBlock(\n",
       "          (conv): Conv2d(256, 128, kernel_size=(1, 1), stride=(1, 1), bias=False)\n",
       "          (bn): BatchNorm2d(128, eps=0.001, momentum=0.03, affine=True, track_running_stats=True)\n",
       "          (activation): SiLU(inplace=True)\n",
       "        )\n",
       "        (cv3): ConvBlock(\n",
       "          (conv): Conv2d(256, 256, kernel_size=(1, 1), stride=(1, 1), bias=False)\n",
       "          (bn): BatchNorm2d(256, eps=0.001, momentum=0.03, affine=True, track_running_stats=True)\n",
       "          (activation): SiLU(inplace=True)\n",
       "        )\n",
       "        (m): Sequential(\n",
       "          (0): Bottleneck(\n",
       "            (cv1): ConvBlock(\n",
       "              (conv): Conv2d(128, 128, kernel_size=(1, 1), stride=(1, 1), bias=False)\n",
       "              (bn): BatchNorm2d(128, eps=0.001, momentum=0.03, affine=True, track_running_stats=True)\n",
       "              (activation): SiLU(inplace=True)\n",
       "            )\n",
       "            (cv2): ConvBlock(\n",
       "              (conv): Conv2d(128, 128, kernel_size=(3, 3), stride=(1, 1), padding=(1, 1), bias=False)\n",
       "              (bn): BatchNorm2d(128, eps=0.001, momentum=0.03, affine=True, track_running_stats=True)\n",
       "              (activation): SiLU(inplace=True)\n",
       "            )\n",
       "          )\n",
       "          (1): Bottleneck(\n",
       "            (cv1): ConvBlock(\n",
       "              (conv): Conv2d(128, 128, kernel_size=(1, 1), stride=(1, 1), bias=False)\n",
       "              (bn): BatchNorm2d(128, eps=0.001, momentum=0.03, affine=True, track_running_stats=True)\n",
       "              (activation): SiLU(inplace=True)\n",
       "            )\n",
       "            (cv2): ConvBlock(\n",
       "              (conv): Conv2d(128, 128, kernel_size=(3, 3), stride=(1, 1), padding=(1, 1), bias=False)\n",
       "              (bn): BatchNorm2d(128, eps=0.001, momentum=0.03, affine=True, track_running_stats=True)\n",
       "              (activation): SiLU(inplace=True)\n",
       "            )\n",
       "          )\n",
       "          (2): Bottleneck(\n",
       "            (cv1): ConvBlock(\n",
       "              (conv): Conv2d(128, 128, kernel_size=(1, 1), stride=(1, 1), bias=False)\n",
       "              (bn): BatchNorm2d(128, eps=0.001, momentum=0.03, affine=True, track_running_stats=True)\n",
       "              (activation): SiLU(inplace=True)\n",
       "            )\n",
       "            (cv2): ConvBlock(\n",
       "              (conv): Conv2d(128, 128, kernel_size=(3, 3), stride=(1, 1), padding=(1, 1), bias=False)\n",
       "              (bn): BatchNorm2d(128, eps=0.001, momentum=0.03, affine=True, track_running_stats=True)\n",
       "              (activation): SiLU(inplace=True)\n",
       "            )\n",
       "          )\n",
       "          (3): Bottleneck(\n",
       "            (cv1): ConvBlock(\n",
       "              (conv): Conv2d(128, 128, kernel_size=(1, 1), stride=(1, 1), bias=False)\n",
       "              (bn): BatchNorm2d(128, eps=0.001, momentum=0.03, affine=True, track_running_stats=True)\n",
       "              (activation): SiLU(inplace=True)\n",
       "            )\n",
       "            (cv2): ConvBlock(\n",
       "              (conv): Conv2d(128, 128, kernel_size=(3, 3), stride=(1, 1), padding=(1, 1), bias=False)\n",
       "              (bn): BatchNorm2d(128, eps=0.001, momentum=0.03, affine=True, track_running_stats=True)\n",
       "              (activation): SiLU(inplace=True)\n",
       "            )\n",
       "          )\n",
       "          (4): Bottleneck(\n",
       "            (cv1): ConvBlock(\n",
       "              (conv): Conv2d(128, 128, kernel_size=(1, 1), stride=(1, 1), bias=False)\n",
       "              (bn): BatchNorm2d(128, eps=0.001, momentum=0.03, affine=True, track_running_stats=True)\n",
       "              (activation): SiLU(inplace=True)\n",
       "            )\n",
       "            (cv2): ConvBlock(\n",
       "              (conv): Conv2d(128, 128, kernel_size=(3, 3), stride=(1, 1), padding=(1, 1), bias=False)\n",
       "              (bn): BatchNorm2d(128, eps=0.001, momentum=0.03, affine=True, track_running_stats=True)\n",
       "              (activation): SiLU(inplace=True)\n",
       "            )\n",
       "          )\n",
       "          (5): Bottleneck(\n",
       "            (cv1): ConvBlock(\n",
       "              (conv): Conv2d(128, 128, kernel_size=(1, 1), stride=(1, 1), bias=False)\n",
       "              (bn): BatchNorm2d(128, eps=0.001, momentum=0.03, affine=True, track_running_stats=True)\n",
       "              (activation): SiLU(inplace=True)\n",
       "            )\n",
       "            (cv2): ConvBlock(\n",
       "              (conv): Conv2d(128, 128, kernel_size=(3, 3), stride=(1, 1), padding=(1, 1), bias=False)\n",
       "              (bn): BatchNorm2d(128, eps=0.001, momentum=0.03, affine=True, track_running_stats=True)\n",
       "              (activation): SiLU(inplace=True)\n",
       "            )\n",
       "          )\n",
       "        )\n",
       "      )\n",
       "      (1): ConvBlock(\n",
       "        (conv): Conv2d(256, 512, kernel_size=(3, 3), stride=(2, 2), padding=(1, 1), bias=False)\n",
       "        (bn): BatchNorm2d(512, eps=0.001, momentum=0.03, affine=True, track_running_stats=True)\n",
       "        (activation): SiLU(inplace=True)\n",
       "      )\n",
       "      (2): C3(\n",
       "        (cv1): ConvBlock(\n",
       "          (conv): Conv2d(512, 256, kernel_size=(1, 1), stride=(1, 1), bias=False)\n",
       "          (bn): BatchNorm2d(256, eps=0.001, momentum=0.03, affine=True, track_running_stats=True)\n",
       "          (activation): SiLU(inplace=True)\n",
       "        )\n",
       "        (cv2): ConvBlock(\n",
       "          (conv): Conv2d(512, 256, kernel_size=(1, 1), stride=(1, 1), bias=False)\n",
       "          (bn): BatchNorm2d(256, eps=0.001, momentum=0.03, affine=True, track_running_stats=True)\n",
       "          (activation): SiLU(inplace=True)\n",
       "        )\n",
       "        (cv3): ConvBlock(\n",
       "          (conv): Conv2d(512, 512, kernel_size=(1, 1), stride=(1, 1), bias=False)\n",
       "          (bn): BatchNorm2d(512, eps=0.001, momentum=0.03, affine=True, track_running_stats=True)\n",
       "          (activation): SiLU(inplace=True)\n",
       "        )\n",
       "        (m): Sequential(\n",
       "          (0): Bottleneck(\n",
       "            (cv1): ConvBlock(\n",
       "              (conv): Conv2d(256, 256, kernel_size=(1, 1), stride=(1, 1), bias=False)\n",
       "              (bn): BatchNorm2d(256, eps=0.001, momentum=0.03, affine=True, track_running_stats=True)\n",
       "              (activation): SiLU(inplace=True)\n",
       "            )\n",
       "            (cv2): ConvBlock(\n",
       "              (conv): Conv2d(256, 256, kernel_size=(3, 3), stride=(1, 1), padding=(1, 1), bias=False)\n",
       "              (bn): BatchNorm2d(256, eps=0.001, momentum=0.03, affine=True, track_running_stats=True)\n",
       "              (activation): SiLU(inplace=True)\n",
       "            )\n",
       "          )\n",
       "          (1): Bottleneck(\n",
       "            (cv1): ConvBlock(\n",
       "              (conv): Conv2d(256, 256, kernel_size=(1, 1), stride=(1, 1), bias=False)\n",
       "              (bn): BatchNorm2d(256, eps=0.001, momentum=0.03, affine=True, track_running_stats=True)\n",
       "              (activation): SiLU(inplace=True)\n",
       "            )\n",
       "            (cv2): ConvBlock(\n",
       "              (conv): Conv2d(256, 256, kernel_size=(3, 3), stride=(1, 1), padding=(1, 1), bias=False)\n",
       "              (bn): BatchNorm2d(256, eps=0.001, momentum=0.03, affine=True, track_running_stats=True)\n",
       "              (activation): SiLU(inplace=True)\n",
       "            )\n",
       "          )\n",
       "          (2): Bottleneck(\n",
       "            (cv1): ConvBlock(\n",
       "              (conv): Conv2d(256, 256, kernel_size=(1, 1), stride=(1, 1), bias=False)\n",
       "              (bn): BatchNorm2d(256, eps=0.001, momentum=0.03, affine=True, track_running_stats=True)\n",
       "              (activation): SiLU(inplace=True)\n",
       "            )\n",
       "            (cv2): ConvBlock(\n",
       "              (conv): Conv2d(256, 256, kernel_size=(3, 3), stride=(1, 1), padding=(1, 1), bias=False)\n",
       "              (bn): BatchNorm2d(256, eps=0.001, momentum=0.03, affine=True, track_running_stats=True)\n",
       "              (activation): SiLU(inplace=True)\n",
       "            )\n",
       "          )\n",
       "        )\n",
       "      )\n",
       "      (3): ConvBlock(\n",
       "        (conv): Conv2d(512, 256, kernel_size=(1, 1), stride=(1, 1), bias=False)\n",
       "        (bn): BatchNorm2d(256, eps=0.001, momentum=0.03, affine=True, track_running_stats=True)\n",
       "        (activation): SiLU(inplace=True)\n",
       "      )\n",
       "      (4): Upsample(scale_factor=2.0, mode='nearest')\n",
       "      (5): C3(\n",
       "        (cv1): ConvBlock(\n",
       "          (conv): Conv2d(768, 128, kernel_size=(1, 1), stride=(1, 1), bias=False)\n",
       "          (bn): BatchNorm2d(128, eps=0.001, momentum=0.03, affine=True, track_running_stats=True)\n",
       "          (activation): SiLU(inplace=True)\n",
       "        )\n",
       "        (cv2): ConvBlock(\n",
       "          (conv): Conv2d(768, 128, kernel_size=(1, 1), stride=(1, 1), bias=False)\n",
       "          (bn): BatchNorm2d(128, eps=0.001, momentum=0.03, affine=True, track_running_stats=True)\n",
       "          (activation): SiLU(inplace=True)\n",
       "        )\n",
       "        (cv3): ConvBlock(\n",
       "          (conv): Conv2d(256, 256, kernel_size=(1, 1), stride=(1, 1), bias=False)\n",
       "          (bn): BatchNorm2d(256, eps=0.001, momentum=0.03, affine=True, track_running_stats=True)\n",
       "          (activation): SiLU(inplace=True)\n",
       "        )\n",
       "        (m): Sequential(\n",
       "          (0): Bottleneck(\n",
       "            (cv1): ConvBlock(\n",
       "              (conv): Conv2d(128, 128, kernel_size=(1, 1), stride=(1, 1), bias=False)\n",
       "              (bn): BatchNorm2d(128, eps=0.001, momentum=0.03, affine=True, track_running_stats=True)\n",
       "              (activation): SiLU(inplace=True)\n",
       "            )\n",
       "            (cv2): ConvBlock(\n",
       "              (conv): Conv2d(128, 128, kernel_size=(3, 3), stride=(1, 1), padding=(1, 1), bias=False)\n",
       "              (bn): BatchNorm2d(128, eps=0.001, momentum=0.03, affine=True, track_running_stats=True)\n",
       "              (activation): SiLU(inplace=True)\n",
       "            )\n",
       "          )\n",
       "          (1): Bottleneck(\n",
       "            (cv1): ConvBlock(\n",
       "              (conv): Conv2d(128, 128, kernel_size=(1, 1), stride=(1, 1), bias=False)\n",
       "              (bn): BatchNorm2d(128, eps=0.001, momentum=0.03, affine=True, track_running_stats=True)\n",
       "              (activation): SiLU(inplace=True)\n",
       "            )\n",
       "            (cv2): ConvBlock(\n",
       "              (conv): Conv2d(128, 128, kernel_size=(3, 3), stride=(1, 1), padding=(1, 1), bias=False)\n",
       "              (bn): BatchNorm2d(128, eps=0.001, momentum=0.03, affine=True, track_running_stats=True)\n",
       "              (activation): SiLU(inplace=True)\n",
       "            )\n",
       "          )\n",
       "          (2): Bottleneck(\n",
       "            (cv1): ConvBlock(\n",
       "              (conv): Conv2d(128, 128, kernel_size=(1, 1), stride=(1, 1), bias=False)\n",
       "              (bn): BatchNorm2d(128, eps=0.001, momentum=0.03, affine=True, track_running_stats=True)\n",
       "              (activation): SiLU(inplace=True)\n",
       "            )\n",
       "            (cv2): ConvBlock(\n",
       "              (conv): Conv2d(128, 128, kernel_size=(3, 3), stride=(1, 1), padding=(1, 1), bias=False)\n",
       "              (bn): BatchNorm2d(128, eps=0.001, momentum=0.03, affine=True, track_running_stats=True)\n",
       "              (activation): SiLU(inplace=True)\n",
       "            )\n",
       "          )\n",
       "        )\n",
       "      )\n",
       "      (6): Detect(\n",
       "        (conv): Conv2d(256, 38, kernel_size=(1, 1), stride=(1, 1))\n",
       "      )\n",
       "    )\n",
       "  )\n",
       ")"
      ]
     },
     "execution_count": 37,
     "metadata": {},
     "output_type": "execute_result"
    }
   ],
   "source": [
    "encoder = instantiate(cfg.train.encoder)\n",
    "encoder"
   ]
  },
  {
   "cell_type": "markdown",
   "id": "13482ce9",
   "metadata": {},
   "source": [
    "If you're familiar with PyTorch, you'll recognize that the encoder essentially is a huge neural network as described above, with some fancy preprocessing, normalization, metrics, etc. Let's examine some of the Encoder object's methods, which are reproduced below."
   ]
  },
  {
   "cell_type": "markdown",
   "id": "70982c2d",
   "metadata": {},
   "source": [
    "```\n",
    "def _single_detection_nll(self, target_cat, pred):\n",
    "        marginal_loss = pred[\"marginal\"].compute_nll(target_cat)\n",
    "\n",
    "        if not self.use_checkerboard:\n",
    "            return marginal_loss\n",
    "\n",
    "        white_loss = pred[\"white\"].compute_nll(target_cat)\n",
    "        white_loss_mask = 1 - pred[\"white_history_mask\"]\n",
    "        white_loss *= white_loss_mask\n",
    "\n",
    "        black_loss = pred[\"black\"].compute_nll(target_cat)\n",
    "        black_loss_mask = pred[\"white_history_mask\"]\n",
    "        black_loss *= black_loss_mask\n",
    "\n",
    "        # we divide by two because we score two predictions for each tile\n",
    "        return (marginal_loss + white_loss + black_loss) / 2\n",
    "\n",
    "    def _double_detection_nll(self, target_cat1, target_cat, pred):\n",
    "        target_cat2 = target_cat.get_brightest_sources_per_tile(band=2, exclude_num=1)\n",
    "\n",
    "        nll_marginal_z1 = self._single_detection_nll(target_cat1, pred)\n",
    "        nll_cond_z2 = pred[\"second\"].compute_nll(target_cat2)\n",
    "        nll_marginal_z2 = self._single_detection_nll(target_cat2, pred)\n",
    "        nll_cond_z1 = pred[\"second\"].compute_nll(target_cat1)\n",
    "\n",
    "        none_mask = target_cat.n_sources == 0\n",
    "        loss0 = nll_marginal_z1 * none_mask\n",
    "\n",
    "        one_mask = target_cat.n_sources == 1\n",
    "        loss1 = (nll_marginal_z1 + nll_cond_z2) * one_mask\n",
    "\n",
    "        two_mask = target_cat.n_sources >= 2\n",
    "        loss2a = nll_marginal_z1 + nll_cond_z2\n",
    "        loss2b = nll_marginal_z2 + nll_cond_z1\n",
    "        lse_stack = torch.stack([loss2a, loss2b], dim=-1)\n",
    "        loss2_unmasked = -torch.logsumexp(-lse_stack, dim=-1)\n",
    "        loss2 = loss2_unmasked * two_mask\n",
    "\n",
    "        return loss0 + loss1 + loss2\n",
    "```\n",
    "\n",
    "Here, NLL stands for negative log likelihood, and for us this corresponds to $-\\log q_\\phi(z \\mid x)$. We try to minimize this quantity, equivalent to maximizing the negative of it as we formulated above. Let's compute the NLL loss for the encoder. This should be poor because the encoder has been initialized only, not trained at all. The following code snippets are adapated from the `_compute_loss` function of the `Encoder` class in `bliss/encoder/encoder.py`."
   ]
  },
  {
   "cell_type": "code",
   "execution_count": 38,
   "id": "ece21c05",
   "metadata": {},
   "outputs": [],
   "source": [
    "batch = simulated_batch_of_data #renaming to something shorter\n",
    "batch_size = batch[\"images\"].size(0)\n",
    "target_cat = TileCatalog(encoder.tile_slen, batch[\"tile_catalog\"])"
   ]
  },
  {
   "cell_type": "code",
   "execution_count": 39,
   "id": "d90c7973",
   "metadata": {},
   "outputs": [
    {
     "data": {
      "text/plain": [
       "TileCatalog(32 x 56 x 56)"
      ]
     },
     "execution_count": 39,
     "metadata": {},
     "output_type": "execute_result"
    }
   ],
   "source": [
    "target_cat"
   ]
  },
  {
   "cell_type": "markdown",
   "id": "72c693fb",
   "metadata": {},
   "source": [
    "The object `target_cat` is the \"target catalog\" of interest. It's of type TileCatalog that we create from the simulated batch."
   ]
  },
  {
   "cell_type": "code",
   "execution_count": 41,
   "id": "30a83498",
   "metadata": {},
   "outputs": [],
   "source": [
    "# filter out undetectable sources\n",
    "target_cat = target_cat.filter_tile_catalog_by_flux(min_flux=encoder.min_flux_threshold)\n",
    "\n",
    "# make predictions/inferences\n",
    "target_cat1 = target_cat.get_brightest_sources_per_tile(band=2, exclude_num=0)\n",
    "truth_callback = lambda _: target_cat1\n",
    "pred = encoder.infer(batch, truth_callback)"
   ]
  },
  {
   "cell_type": "markdown",
   "id": "77cbaa92",
   "metadata": {},
   "source": [
    "The above code performs some preprocessing on a per-tile basis to eliminate dim objects, etc. We don't need to understand all the details right now. The `infer` method of the `Encoder` object on the last line operates directly on the images of the batch i.e. `batch['images']`. It is a complex method that splits the image into tiles that are designated as white or black in a 'checkerboard' scheme --- this scheme helps with detection of objects at tile boundaries, which is a complex problem in its own right. We don't really need to understand the details of how all of this works for now. We do want to at least understand the form of the resulting object, which is stored in variable `pred`."
   ]
  },
  {
   "cell_type": "code",
   "execution_count": 42,
   "id": "35296f8c",
   "metadata": {},
   "outputs": [
    {
     "data": {
      "text/plain": [
       "dict_keys(['x_features', 'marginal', 'history_cat', 'white_history_mask', 'white', 'black', 'second'])"
      ]
     },
     "execution_count": 42,
     "metadata": {},
     "output_type": "execute_result"
    }
   ],
   "source": [
    "pred.keys()"
   ]
  },
  {
   "cell_type": "code",
   "execution_count": 44,
   "id": "cb97ba8c",
   "metadata": {},
   "outputs": [
    {
     "data": {
      "text/plain": [
       "VariationalDist()"
      ]
     },
     "execution_count": 44,
     "metadata": {},
     "output_type": "execute_result"
    }
   ],
   "source": [
    "pred['marginal']"
   ]
  },
  {
   "cell_type": "markdown",
   "id": "37ed9627",
   "metadata": {},
   "source": [
    "The resulting `VariationalDist` will be used to compute\n",
    "\n",
    "$$\n",
    "- \\log q_\\phi(z \\mid x).\n",
    "$$\n",
    "\n",
    "Recall $z$ is the `target_cat` of type `TileCatalog`. Because we're generating synthetic data, the latent variable $z$ is not hidden, but known. The $x$ is given by the images from `batch['images']`, and these are operated on by the `infer` method of the encoder. The resulting computations yield the objects in `pred.keys()` above, which can be used to compute $-\\log q_\\phi(z \\mid x)$ for this particular data batch. Rather than using the functions `_single_detection_nll` and `_double_detection_nll`, we could use the `compute_nll` method of the `VariationalDist` class. We'll do this for ease here."
   ]
  },
  {
   "cell_type": "code",
   "execution_count": 45,
   "id": "d964b10c",
   "metadata": {},
   "outputs": [],
   "source": [
    "loss = pred['marginal'].compute_nll(target_cat1)"
   ]
  },
  {
   "cell_type": "code",
   "execution_count": 46,
   "id": "916ff8ad",
   "metadata": {},
   "outputs": [
    {
     "data": {
      "text/plain": [
       "torch.Size([32, 56, 56])"
      ]
     },
     "execution_count": 46,
     "metadata": {},
     "output_type": "execute_result"
    }
   ],
   "source": [
    "loss.shape"
   ]
  },
  {
   "cell_type": "code",
   "execution_count": 47,
   "id": "b48ddc06",
   "metadata": {},
   "outputs": [
    {
     "data": {
      "text/plain": [
       "tensor(16.8119, grad_fn=<MeanBackward0>)"
      ]
     },
     "execution_count": 47,
     "metadata": {},
     "output_type": "execute_result"
    }
   ],
   "source": [
    "loss.mean()"
   ]
  },
  {
   "cell_type": "markdown",
   "id": "2c3534e9",
   "metadata": {},
   "source": [
    "Loss is evidently computed on a per-image per-tile basis. We'll average across all of these because they all deserve equal weighting in our toy setup here. Now that we've illustrated how to compute the loss, let's wrap this all into a training loop to fit the encoder. We'll fit by optimizing the parameters directly rather than wrapping the procedure into a PyTorch Lightning routine as is done in the true BLISS code. \n",
    "\n",
    "This is extremely simplistic: we have a single batch of data $z,x$ that we generated above.  Nevertheless, in the training loop below, we still redefine/recompute `pred` and the target catalogs. In a true training procedure with many different batches of images, this would need to be done within the loop because we'll have a different batch of images every time."
   ]
  },
  {
   "cell_type": "markdown",
   "id": "9da8cdfc",
   "metadata": {},
   "source": [
    "***Cell below runs very slow because all CPU. True codebase is optimized to GPU. Naive use of GPU below will lead to out of memory error.***"
   ]
  },
  {
   "cell_type": "code",
   "execution_count": 53,
   "id": "ce0df9cc",
   "metadata": {},
   "outputs": [
    {
     "name": "stdout",
     "output_type": "stream",
     "text": [
      "Iteration 0: Loss 16.811948776245117\n",
      "Iteration 10: Loss 6.598885536193848\n",
      "Iteration 20: Loss 5.9178547859191895\n",
      "Iteration 30: Loss 5.234957218170166\n",
      "Iteration 40: Loss 4.901239395141602\n",
      "Iteration 50: Loss 4.73112154006958\n",
      "Iteration 60: Loss 4.614767551422119\n",
      "Iteration 70: Loss 4.516098499298096\n",
      "Iteration 80: Loss 4.427545547485352\n",
      "Iteration 90: Loss 4.342630386352539\n",
      "Iteration 100: Loss 4.261025905609131\n",
      "Iteration 110: Loss 4.1851487159729\n",
      "Iteration 120: Loss 4.108051776885986\n",
      "Iteration 130: Loss 4.046842098236084\n",
      "Iteration 140: Loss 3.957535982131958\n"
     ]
    },
    {
     "ename": "KeyboardInterrupt",
     "evalue": "",
     "output_type": "error",
     "traceback": [
      "\u001b[0;31m---------------------------------------------------------------------------\u001b[0m",
      "\u001b[0;31mKeyboardInterrupt\u001b[0m                         Traceback (most recent call last)",
      "Cell \u001b[0;32mIn[53], line 20\u001b[0m\n\u001b[1;32m     18\u001b[0m optimizer\u001b[38;5;241m.\u001b[39mzero_grad()\n\u001b[1;32m     19\u001b[0m loss \u001b[38;5;241m=\u001b[39m loss \u001b[38;5;241m=\u001b[39m pred[\u001b[38;5;124m'\u001b[39m\u001b[38;5;124mmarginal\u001b[39m\u001b[38;5;124m'\u001b[39m]\u001b[38;5;241m.\u001b[39mcompute_nll(target_cat1)\u001b[38;5;241m.\u001b[39mmean()\n\u001b[0;32m---> 20\u001b[0m \u001b[43mloss\u001b[49m\u001b[38;5;241;43m.\u001b[39;49m\u001b[43mbackward\u001b[49m\u001b[43m(\u001b[49m\u001b[43m)\u001b[49m\n\u001b[1;32m     21\u001b[0m optimizer\u001b[38;5;241m.\u001b[39mstep()\n\u001b[1;32m     23\u001b[0m \u001b[38;5;28;01mif\u001b[39;00m i \u001b[38;5;241m%\u001b[39m \u001b[38;5;241m10\u001b[39m \u001b[38;5;241m==\u001b[39m \u001b[38;5;241m0\u001b[39m:\n",
      "File \u001b[0;32m~/current/bliss/.venv/lib/python3.10/site-packages/torch/_tensor.py:487\u001b[0m, in \u001b[0;36mTensor.backward\u001b[0;34m(self, gradient, retain_graph, create_graph, inputs)\u001b[0m\n\u001b[1;32m    477\u001b[0m \u001b[38;5;28;01mif\u001b[39;00m has_torch_function_unary(\u001b[38;5;28mself\u001b[39m):\n\u001b[1;32m    478\u001b[0m     \u001b[38;5;28;01mreturn\u001b[39;00m handle_torch_function(\n\u001b[1;32m    479\u001b[0m         Tensor\u001b[38;5;241m.\u001b[39mbackward,\n\u001b[1;32m    480\u001b[0m         (\u001b[38;5;28mself\u001b[39m,),\n\u001b[0;32m   (...)\u001b[0m\n\u001b[1;32m    485\u001b[0m         inputs\u001b[38;5;241m=\u001b[39minputs,\n\u001b[1;32m    486\u001b[0m     )\n\u001b[0;32m--> 487\u001b[0m \u001b[43mtorch\u001b[49m\u001b[38;5;241;43m.\u001b[39;49m\u001b[43mautograd\u001b[49m\u001b[38;5;241;43m.\u001b[39;49m\u001b[43mbackward\u001b[49m\u001b[43m(\u001b[49m\n\u001b[1;32m    488\u001b[0m \u001b[43m    \u001b[49m\u001b[38;5;28;43mself\u001b[39;49m\u001b[43m,\u001b[49m\u001b[43m \u001b[49m\u001b[43mgradient\u001b[49m\u001b[43m,\u001b[49m\u001b[43m \u001b[49m\u001b[43mretain_graph\u001b[49m\u001b[43m,\u001b[49m\u001b[43m \u001b[49m\u001b[43mcreate_graph\u001b[49m\u001b[43m,\u001b[49m\u001b[43m \u001b[49m\u001b[43minputs\u001b[49m\u001b[38;5;241;43m=\u001b[39;49m\u001b[43minputs\u001b[49m\n\u001b[1;32m    489\u001b[0m \u001b[43m\u001b[49m\u001b[43m)\u001b[49m\n",
      "File \u001b[0;32m~/current/bliss/.venv/lib/python3.10/site-packages/torch/autograd/__init__.py:200\u001b[0m, in \u001b[0;36mbackward\u001b[0;34m(tensors, grad_tensors, retain_graph, create_graph, grad_variables, inputs)\u001b[0m\n\u001b[1;32m    195\u001b[0m     retain_graph \u001b[38;5;241m=\u001b[39m create_graph\n\u001b[1;32m    197\u001b[0m \u001b[38;5;66;03m# The reason we repeat same the comment below is that\u001b[39;00m\n\u001b[1;32m    198\u001b[0m \u001b[38;5;66;03m# some Python versions print out the first line of a multi-line function\u001b[39;00m\n\u001b[1;32m    199\u001b[0m \u001b[38;5;66;03m# calls in the traceback and some print out the last line\u001b[39;00m\n\u001b[0;32m--> 200\u001b[0m \u001b[43mVariable\u001b[49m\u001b[38;5;241;43m.\u001b[39;49m\u001b[43m_execution_engine\u001b[49m\u001b[38;5;241;43m.\u001b[39;49m\u001b[43mrun_backward\u001b[49m\u001b[43m(\u001b[49m\u001b[43m  \u001b[49m\u001b[38;5;66;43;03m# Calls into the C++ engine to run the backward pass\u001b[39;49;00m\n\u001b[1;32m    201\u001b[0m \u001b[43m    \u001b[49m\u001b[43mtensors\u001b[49m\u001b[43m,\u001b[49m\u001b[43m \u001b[49m\u001b[43mgrad_tensors_\u001b[49m\u001b[43m,\u001b[49m\u001b[43m \u001b[49m\u001b[43mretain_graph\u001b[49m\u001b[43m,\u001b[49m\u001b[43m \u001b[49m\u001b[43mcreate_graph\u001b[49m\u001b[43m,\u001b[49m\u001b[43m \u001b[49m\u001b[43minputs\u001b[49m\u001b[43m,\u001b[49m\n\u001b[1;32m    202\u001b[0m \u001b[43m    \u001b[49m\u001b[43mallow_unreachable\u001b[49m\u001b[38;5;241;43m=\u001b[39;49m\u001b[38;5;28;43;01mTrue\u001b[39;49;00m\u001b[43m,\u001b[49m\u001b[43m \u001b[49m\u001b[43maccumulate_grad\u001b[49m\u001b[38;5;241;43m=\u001b[39;49m\u001b[38;5;28;43;01mTrue\u001b[39;49;00m\u001b[43m)\u001b[49m\n",
      "\u001b[0;31mKeyboardInterrupt\u001b[0m: "
     ]
    }
   ],
   "source": [
    "niter = 300\n",
    "optimizer = torch.optim.Adam(encoder.parameters(), lr=1e-3)\n",
    "for i in range(niter):\n",
    "    # Many of the lines below are redundant because we have a single batch\n",
    "    # so quantities don't change.\n",
    "    \n",
    "    target_cat = TileCatalog(encoder.tile_slen, batch[\"tile_catalog\"])\n",
    "    # filter out undetectable sources\n",
    "    if encoder.min_flux_threshold > 0:\n",
    "        target_cat = target_cat.filter_tile_catalog_by_flux(min_flux=encoder.min_flux_threshold)\n",
    "\n",
    "    # make predictions/inferences\n",
    "    target_cat1 = target_cat.get_brightest_sources_per_tile(band=2, exclude_num=0)\n",
    "    truth_callback = lambda _: target_cat1\n",
    "    pred = encoder.infer(batch, truth_callback)\n",
    "    \n",
    "    # Main gradient step code\n",
    "    optimizer.zero_grad()\n",
    "    loss = loss = pred['marginal'].compute_nll(target_cat1).mean()\n",
    "    loss.backward()\n",
    "    optimizer.step()\n",
    "    \n",
    "    if i % 10 == 0:\n",
    "        print('Iteration {}: Loss {}'.format(i, loss.item()))\n",
    "    "
   ]
  },
  {
   "cell_type": "markdown",
   "id": "a47b2447",
   "metadata": {},
   "source": [
    "The training procedure above is very rough: there's no learning rate tuning, scheduling, etc., and we don't run fitting procedure all the way to convergence due to time constraints. Nevertheless, this is enough to get a feel for how fitting the encoder should generally go. In actuality, however, a lot of this will be abstracted away within PyTorch lightning procedures."
   ]
  },
  {
   "cell_type": "markdown",
   "id": "af17600a",
   "metadata": {},
   "source": [
    "We want to see how the encoder is doing. Recall we just have a single data pair $z,x$ that we've been training with. It's a reasonable expectation that with enough training time our encoder should learn to output the correct $z$ given $x$ as an input. Let's check it out. We do this by using the `sample` method of the encoder. We'll simply take the posterior mode for now, i.e. the mode of the distribution $q_\\phi(z \\mid x)$, but we could generate more diverse samples from the actual distribution if desired."
   ]
  },
  {
   "cell_type": "code",
   "execution_count": 54,
   "id": "e163ae4e",
   "metadata": {},
   "outputs": [],
   "source": [
    "posterior_mode = encoder.sample(batch, use_mode=True)"
   ]
  },
  {
   "cell_type": "code",
   "execution_count": 55,
   "id": "075bd046",
   "metadata": {},
   "outputs": [
    {
     "data": {
      "text/plain": [
       "bliss.catalog.TileCatalog"
      ]
     },
     "execution_count": 55,
     "metadata": {},
     "output_type": "execute_result"
    }
   ],
   "source": [
    "type(posterior_mode)"
   ]
  },
  {
   "cell_type": "code",
   "execution_count": 56,
   "id": "2952e89d",
   "metadata": {},
   "outputs": [
    {
     "data": {
      "text/plain": [
       "dict_keys(['tile_slen', 'locs', 'n_sources', 'batch_size', 'n_tiles_h', 'n_tiles_w', 'max_sources', 'data'])"
      ]
     },
     "execution_count": 56,
     "metadata": {},
     "output_type": "execute_result"
    }
   ],
   "source": [
    "vars(posterior_mode).keys()"
   ]
  },
  {
   "cell_type": "markdown",
   "id": "6be8bae7",
   "metadata": {},
   "source": [
    "Let's compare the posterior model to the true target catalog $z$, which is the variable `target_cat` after wrapping up in this object."
   ]
  },
  {
   "cell_type": "code",
   "execution_count": 57,
   "id": "e461aff7",
   "metadata": {},
   "outputs": [
    {
     "data": {
      "text/plain": [
       "(torch.Size([32, 54, 54]), torch.Size([32, 56, 56]))"
      ]
     },
     "execution_count": 57,
     "metadata": {},
     "output_type": "execute_result"
    }
   ],
   "source": [
    "posterior_mode.n_sources.shape, target_cat.n_sources.shape"
   ]
  },
  {
   "cell_type": "markdown",
   "id": "9d12a901",
   "metadata": {},
   "source": [
    "BLISS usually omits border tiles. We'll want to do the same when we look at the target catalog for evaluation."
   ]
  },
  {
   "cell_type": "code",
   "execution_count": 58,
   "id": "4d4c4959",
   "metadata": {},
   "outputs": [
    {
     "data": {
      "text/plain": [
       "(torch.Size([32, 54, 54]), torch.Size([32, 54, 54]))"
      ]
     },
     "execution_count": 58,
     "metadata": {},
     "output_type": "execute_result"
    }
   ],
   "source": [
    "posterior_mode.n_sources.shape, target_cat.n_sources[:,1:-1,1:-1, ...].shape"
   ]
  },
  {
   "cell_type": "code",
   "execution_count": 59,
   "id": "454ea679",
   "metadata": {},
   "outputs": [
    {
     "data": {
      "text/plain": [
       "tensor(0.5619)"
      ]
     },
     "execution_count": 59,
     "metadata": {},
     "output_type": "execute_result"
    }
   ],
   "source": [
    "1.-(posterior_mode.n_sources != target_cat.n_sources[:,1:-1,1:-1, ...]).sum()/(32*54*54)"
   ]
  },
  {
   "cell_type": "markdown",
   "id": "d57514da",
   "metadata": {},
   "source": [
    "The line above tells use that the posterior mode has the correct number of sources in about 56% of tiles across the 32 images in our batch. This number would be much higher if we trained longer. Note that the variational distribution constrains us to have at most 2 sources per tile, so it's not surprising that some are wrong."
   ]
  },
  {
   "cell_type": "code",
   "execution_count": 60,
   "id": "019360c7",
   "metadata": {},
   "outputs": [
    {
     "data": {
      "text/plain": [
       "tensor(0.9394)"
      ]
     },
     "execution_count": 60,
     "metadata": {},
     "output_type": "execute_result"
    }
   ],
   "source": [
    "1.-(torch.abs(posterior_mode.n_sources - target_cat.n_sources[:,1:-1,1:-1, ...]) > 1).sum()/(32*54*54)"
   ]
  },
  {
   "cell_type": "markdown",
   "id": "f88d6568",
   "metadata": {},
   "source": [
    "The line above tells us that in 94% of tiles in our 32 images, the number of sources detected differs from the true number of sources by no more than 1. In other words, even when the number of sources is wrong, it's usually off by no more than 1, calling mistaking 3 sources for 2, for example."
   ]
  },
  {
   "cell_type": "markdown",
   "id": "89967dd2",
   "metadata": {},
   "source": [
    "We can see if locations look approximately correct. Let's just look at a single tile, the first tile of the first image. Recall we need to omit the border tiles from the target catalog."
   ]
  },
  {
   "cell_type": "code",
   "execution_count": 61,
   "id": "74285c0a",
   "metadata": {},
   "outputs": [
    {
     "data": {
      "text/plain": [
       "(torch.Size([32, 54, 54, 2, 2]), torch.Size([32, 56, 56, 6, 2]))"
      ]
     },
     "execution_count": 61,
     "metadata": {},
     "output_type": "execute_result"
    }
   ],
   "source": [
    "posterior_mode.locs.shape, target_cat.locs.shape"
   ]
  },
  {
   "cell_type": "code",
   "execution_count": 62,
   "id": "a4297a5d",
   "metadata": {},
   "outputs": [
    {
     "data": {
      "text/plain": [
       "tensor([[0.5239, 0.4951],\n",
       "        [0.4982, 0.4801]], grad_fn=<SelectBackward0>)"
      ]
     },
     "execution_count": 62,
     "metadata": {},
     "output_type": "execute_result"
    }
   ],
   "source": [
    "posterior_mode.locs[0][0][0]"
   ]
  },
  {
   "cell_type": "code",
   "execution_count": 63,
   "id": "8dcd33c0",
   "metadata": {},
   "outputs": [
    {
     "data": {
      "text/plain": [
       "tensor([[0., 0.],\n",
       "        [0., 0.],\n",
       "        [0., 0.],\n",
       "        [0., 0.],\n",
       "        [0., 0.],\n",
       "        [0., 0.]])"
      ]
     },
     "execution_count": 63,
     "metadata": {},
     "output_type": "execute_result"
    }
   ],
   "source": [
    "target_cat.locs[:,1:-1,1:-1,...][0][0][0]"
   ]
  },
  {
   "cell_type": "code",
   "execution_count": 64,
   "id": "9caf87b9",
   "metadata": {},
   "outputs": [
    {
     "data": {
      "text/plain": [
       "tensor(0)"
      ]
     },
     "execution_count": 64,
     "metadata": {},
     "output_type": "execute_result"
    }
   ],
   "source": [
    "target_cat.n_sources[:,1:-1,1:-1, ...][0][0][0]"
   ]
  },
  {
   "cell_type": "code",
   "execution_count": 65,
   "id": "fd2a81dd",
   "metadata": {},
   "outputs": [
    {
     "data": {
      "text/plain": [
       "tensor(1)"
      ]
     },
     "execution_count": 65,
     "metadata": {},
     "output_type": "execute_result"
    }
   ],
   "source": [
    "posterior_mode.n_sources[0][0][0]"
   ]
  },
  {
   "cell_type": "markdown",
   "id": "42c472f3",
   "metadata": {},
   "source": [
    "The true catalog says there's no sources in this particular tile, hence the coordinates for all (at most 5) potential sources are zeroed out. It looks initially like the posterior mode thinks there's two sources, because these coordinates are non-zero. However, if we check the n_sources attribute the number of sources is actually predicted to be 1. This is a quirk of the variational distribution: in the calculation of the NLL, we only account for the number of sources detected. If zero are detected and there truly are zero, for example, the locations don't factor into the NLL."
   ]
  },
  {
   "cell_type": "code",
   "execution_count": 80,
   "id": "9971b1ef",
   "metadata": {},
   "outputs": [
    {
     "data": {
      "text/plain": [
       "tensor(1)"
      ]
     },
     "execution_count": 80,
     "metadata": {},
     "output_type": "execute_result"
    }
   ],
   "source": [
    "target_cat.n_sources[:,1:-1,1:-1, ...][0][1][-10]"
   ]
  },
  {
   "cell_type": "code",
   "execution_count": 81,
   "id": "66d681dc",
   "metadata": {},
   "outputs": [
    {
     "data": {
      "text/plain": [
       "tensor(0)"
      ]
     },
     "execution_count": 81,
     "metadata": {},
     "output_type": "execute_result"
    }
   ],
   "source": [
    "posterior_mode.n_sources[0][1][-10]"
   ]
  },
  {
   "cell_type": "markdown",
   "id": "b4e86b5f",
   "metadata": {},
   "source": [
    "Now we found a tile with 2 sources. Let's look at locations for these."
   ]
  },
  {
   "cell_type": "code",
   "execution_count": null,
   "id": "201443ff",
   "metadata": {},
   "outputs": [],
   "source": [
    "target_cat.locs[:,1:-1,1:-1,...][0][2][-1]"
   ]
  },
  {
   "cell_type": "code",
   "execution_count": null,
   "id": "d124ab76",
   "metadata": {},
   "outputs": [],
   "source": [
    "posterior_mode.locs[0][2][-1]"
   ]
  },
  {
   "cell_type": "markdown",
   "id": "521c6548",
   "metadata": {},
   "source": [
    "Not particularly close, suggesting maybe more training is needed. Let's find a tile where we're a bit closer."
   ]
  },
  {
   "cell_type": "code",
   "execution_count": null,
   "id": "55fcb5fe",
   "metadata": {},
   "outputs": [],
   "source": [
    "target_cat.n_sources[:,1:-1,1:-1, ...][-1][-1][0]"
   ]
  },
  {
   "cell_type": "code",
   "execution_count": null,
   "id": "7d47722f",
   "metadata": {},
   "outputs": [],
   "source": [
    "posterior_mode.n_sources[-1][-1][0]"
   ]
  },
  {
   "cell_type": "code",
   "execution_count": null,
   "id": "c9c12b8f",
   "metadata": {},
   "outputs": [],
   "source": [
    "target_cat.locs[:,1:-1,1:-1,...][-1][-1][0]"
   ]
  },
  {
   "cell_type": "code",
   "execution_count": null,
   "id": "f3f80ecf",
   "metadata": {},
   "outputs": [],
   "source": [
    "posterior_mode.locs[-1][-1][0]"
   ]
  },
  {
   "cell_type": "markdown",
   "id": "612b930b",
   "metadata": {},
   "source": [
    "We detected one source in this tile and were correct: it's located at 0.7778,.9750. We predict it to be at .7026, .9352 which is kind of close, but still would ideally be better (remember the second line is ignored because we predict only a single source)."
   ]
  },
  {
   "cell_type": "code",
   "execution_count": null,
   "id": "ef15295a",
   "metadata": {},
   "outputs": [],
   "source": []
  }
 ],
 "metadata": {
  "kernelspec": {
   "display_name": "Python 3 (ipykernel)",
   "language": "python",
   "name": "python3"
  },
  "language_info": {
   "codemirror_mode": {
    "name": "ipython",
    "version": 3
   },
   "file_extension": ".py",
   "mimetype": "text/x-python",
   "name": "python",
   "nbconvert_exporter": "python",
   "pygments_lexer": "ipython3",
   "version": "3.10.12"
  }
 },
 "nbformat": 4,
 "nbformat_minor": 5
}

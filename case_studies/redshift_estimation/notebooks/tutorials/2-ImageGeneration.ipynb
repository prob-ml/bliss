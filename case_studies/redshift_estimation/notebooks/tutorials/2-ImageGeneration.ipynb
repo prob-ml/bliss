{
 "cells": [
  {
   "cell_type": "markdown",
   "id": "ce3c3ec4",
   "metadata": {},
   "source": [
    "### Outline"
   ]
  },
  {
   "cell_type": "markdown",
   "id": "a6eb35f7",
   "metadata": {},
   "source": [
    "#### 1. Generation of synthetic data."
   ]
  },
  {
   "cell_type": "markdown",
   "id": "d388caa8",
   "metadata": {},
   "source": [
    "This would typically be done using something like ```bliss mode=generate``` from the command line. This calls the ```generate``` function within ```bliss/main.py```, using the default ```DictConfig``` object specified by the various ```.yaml``` files."
   ]
  },
  {
   "cell_type": "markdown",
   "id": "c48503ee",
   "metadata": {},
   "source": [
    "The code below loads the file ```redshift.yaml``` from ```case_studies/redshift_estimation``` as a DictConfig for use by ```hydra```. You may have to change some absolute and relative paths to get this to load for you."
   ]
  },
  {
   "cell_type": "code",
   "execution_count": 28,
   "id": "8163d060",
   "metadata": {},
   "outputs": [],
   "source": [
    "import sys\n",
    "import os"
   ]
  },
  {
   "cell_type": "code",
   "execution_count": 29,
   "id": "2122d016",
   "metadata": {},
   "outputs": [
    {
     "data": {
      "text/plain": [
       "'/home/declan/current/bliss'"
      ]
     },
     "execution_count": 29,
     "metadata": {},
     "output_type": "execute_result"
    }
   ],
   "source": [
    "os.getcwd()"
   ]
  },
  {
   "cell_type": "code",
   "execution_count": 30,
   "id": "081900bd",
   "metadata": {},
   "outputs": [],
   "source": [
    "os.chdir('/home/declan/current/bliss')"
   ]
  },
  {
   "cell_type": "code",
   "execution_count": 31,
   "id": "04657ad2",
   "metadata": {},
   "outputs": [],
   "source": [
    "from bliss.encoder.variational_dist import VariationalDistSpec, VariationalDist\n",
    "from bliss.encoder.unconstrained_dists import UnconstrainedNormal\n",
    "import torch\n",
    "import numpy as np\n",
    "from os import environ\n",
    "from pathlib import Path\n",
    "from hydra import initialize, compose\n",
    "from hydra.utils import instantiate\n",
    "import matplotlib.pyplot as plt\n",
    "from omegaconf import DictConfig, OmegaConf\n",
    "from bliss.catalog import TileCatalog"
   ]
  },
  {
   "cell_type": "code",
   "execution_count": 32,
   "id": "c071ab00",
   "metadata": {},
   "outputs": [],
   "source": [
    "environ[\"BLISS_HOME\"] = \"/home/declan/current/bliss\"\n",
    "with initialize(config_path=\"../\", version_base=None):\n",
    "    cfg = compose(\"redshift\", overrides={\"surveys.sdss.load_image_data=true\"})"
   ]
  },
  {
   "cell_type": "code",
   "execution_count": 33,
   "id": "e0fbff62",
   "metadata": {},
   "outputs": [
    {
     "data": {
      "text/plain": [
       "omegaconf.dictconfig.DictConfig"
      ]
     },
     "execution_count": 33,
     "metadata": {},
     "output_type": "execute_result"
    }
   ],
   "source": [
    "type(cfg)"
   ]
  },
  {
   "cell_type": "code",
   "execution_count": 34,
   "id": "031aed62",
   "metadata": {},
   "outputs": [
    {
     "name": "stdout",
     "output_type": "stream",
     "text": [
      "paths:\n",
      "  root: ${oc.env:BLISS_HOME}\n",
      "  data: ${paths.root}/data\n",
      "  sdss: ${paths.data}/sdss\n",
      "  decals: ${paths.data}/decals\n",
      "  des: ${paths.data}/des\n",
      "  dc2: ${paths.data}/dc2\n",
      "  output: ${paths.root}/output\n",
      "  pretrained_models: ${paths.data}/pretrained_models\n",
      "prior:\n",
      "  _target_: case_studies.redshift_estimation.prior.RedshiftPrior\n",
      "  survey_bands:\n",
      "  - u\n",
      "  - g\n",
      "  - r\n",
      "  - i\n",
      "  - z\n",
      "  reference_band: 2\n",
      "  star_color_model_path: ${simulator.survey.dir_path}/color_models/star_gmm_nmgy.pkl\n",
      "  gal_color_model_path: ${simulator.survey.dir_path}/color_models/gal_gmm_nmgy.pkl\n",
      "  n_tiles_h: 20\n",
      "  n_tiles_w: 20\n",
      "  tile_slen: 4\n",
      "  batch_size: 64\n",
      "  max_sources: 1\n",
      "  mean_sources: 0.2\n",
      "  min_sources: 0\n",
      "  prob_galaxy: 0.72\n",
      "  star_flux_exponent: 0.43\n",
      "  star_flux_truncation: 640\n",
      "  star_flux_loc: 0.0\n",
      "  star_flux_scale: 0.63094948\n",
      "  galaxy_flux_truncation: 1013\n",
      "  galaxy_flux_exponent: 0.47\n",
      "  galaxy_flux_scale: 0.6301037\n",
      "  galaxy_flux_loc: 0.0\n",
      "  galaxy_a_concentration: 0.39330758068481686\n",
      "  galaxy_a_loc: 0.8371888967872619\n",
      "  galaxy_a_scale: 4.432725319432478\n",
      "  galaxy_a_bd_ratio: 2.0\n",
      "  redshift_min: 0.99\n",
      "  redshift_max: 1.01\n",
      "simulator:\n",
      "  _target_: case_studies.redshift_estimation.simulated_dataset.RedshiftSimulatedDataset\n",
      "  survey: ${surveys.sdss}\n",
      "  prior: ${prior}\n",
      "  n_batches: 128\n",
      "  use_coaddition: false\n",
      "  coadd_depth: 1\n",
      "  num_workers: 32\n",
      "  valid_n_batches: 10\n",
      "  fix_validation_set: true\n",
      "cached_simulator:\n",
      "  _target_: bliss.simulator.simulated_dataset.CachedSimulatedDataset\n",
      "  batch_size: 32\n",
      "  splits: 0:80/80:90/90:100\n",
      "  num_workers: 0\n",
      "  cached_data_path: /data/scratch/declan/redshift_estimation\n",
      "  file_prefix: ${generate.file_prefix}\n",
      "encoder:\n",
      "  _target_: bliss.encoder.encoder.Encoder\n",
      "  survey_bands:\n",
      "  - u\n",
      "  - g\n",
      "  - r\n",
      "  - i\n",
      "  - z\n",
      "  tile_slen: ${simulator.prior.tile_slen}\n",
      "  tiles_to_crop: 1\n",
      "  min_flux_threshold: 0\n",
      "  optimizer_params:\n",
      "    lr: 0.001\n",
      "  scheduler_params:\n",
      "    milestones:\n",
      "    - 32\n",
      "    gamma: 0.1\n",
      "  image_normalizer:\n",
      "    _target_: bliss.encoder.image_normalizer.ImageNormalizer\n",
      "    bands:\n",
      "    - 0\n",
      "    - 1\n",
      "    - 2\n",
      "    - 3\n",
      "    - 4\n",
      "    include_original: false\n",
      "    use_deconv_channel: false\n",
      "    concat_psf_params: false\n",
      "    num_psf_params: 6\n",
      "    log_transform_stdevs:\n",
      "    - -3\n",
      "    - 0\n",
      "    - 1\n",
      "    - 3\n",
      "    use_clahe: true\n",
      "    clahe_min_stdev: 200\n",
      "  vd_spec:\n",
      "    _target_: case_studies.redshift_estimation.variational_dist.RedshiftVariationalDistSpec\n",
      "    survey_bands: ${encoder.survey_bands}\n",
      "    tile_slen: ${encoder.tile_slen}\n",
      "  matcher:\n",
      "    _target_: bliss.encoder.metrics.CatalogMatcher\n",
      "    dist_slack: 1.0\n",
      "    mag_slack: null\n",
      "    mag_band: 2\n",
      "  metrics:\n",
      "    _target_: torchmetrics.MetricCollection\n",
      "    metrics:\n",
      "    - _target_: bliss.encoder.metrics.DetectionPerformance\n",
      "      mag_bin_cutoffs:\n",
      "      - 19\n",
      "      - 19.4\n",
      "      - 19.8\n",
      "      - 20.2\n",
      "      - 20.6\n",
      "      - 21\n",
      "      - 21.4\n",
      "      - 21.8\n",
      "    - _target_: bliss.encoder.metrics.SourceTypeAccuracy\n",
      "    - _target_: bliss.encoder.metrics.FluxError\n",
      "      survey_bands: ${encoder.survey_bands}\n",
      "    - _target_: bliss.encoder.metrics.GalaxyShapeError\n",
      "  do_data_augmentation: false\n",
      "  compile_model: false\n",
      "  double_detect: false\n",
      "  use_checkerboard: false\n",
      "surveys:\n",
      "  sdss:\n",
      "    _target_: bliss.surveys.sdss.SloanDigitalSkySurvey\n",
      "    dir_path: ${paths.sdss}\n",
      "    fields:\n",
      "    - run: 94\n",
      "      camcol: 1\n",
      "      fields:\n",
      "      - 12\n",
      "    psf_config:\n",
      "      pixel_scale: 0.396\n",
      "      psf_slen: 25\n",
      "    pixel_shift: 2\n",
      "    align_to_band: null\n",
      "    load_image_data: true\n",
      "  decals:\n",
      "    _target_: bliss.surveys.decals.DarkEnergyCameraLegacySurvey\n",
      "    dir_path: ${paths.decals}\n",
      "    sky_coords:\n",
      "    - ra: 336.6643042496718\n",
      "      dec: -0.9316385797930247\n",
      "    bands:\n",
      "    - 0\n",
      "    - 1\n",
      "    - 3\n",
      "    psf_config:\n",
      "      pixel_scale: 0.262\n",
      "      psf_slen: 63\n",
      "    pixel_shift: 2\n",
      "  des:\n",
      "    _target_: bliss.surveys.des.DarkEnergySurvey\n",
      "    dir_path: ${paths.des}\n",
      "    image_ids:\n",
      "    - sky_coord:\n",
      "        ra: 336.6643042496718\n",
      "        dec: -0.9316385797930247\n",
      "      decals_brickname: 3366m010\n",
      "      ccdname: S28\n",
      "      g: decam/CP/V4.8.2a/CP20171108/c4d_171109_002003_ooi_g_ls9\n",
      "      r: decam/CP/V4.8.2a/CP20170926/c4d_170927_025457_ooi_r_ls9\n",
      "      i: ''\n",
      "      z: decam/CP/V4.8.2a/CP20170926/c4d_170927_025655_ooi_z_ls9\n",
      "    psf_config:\n",
      "      pixel_scale: 0.262\n",
      "      psf_slen: 63\n",
      "    pixel_shift: 2\n",
      "  dc2:\n",
      "    _target_: bliss.surveys.dc2.DC2\n",
      "    data_dir: /nfs/turbo/lsa-regier/lsstdesc-public/dc2/run2.2i-dr6-v4/coadd-t3828-t3829/deepCoadd-results/\n",
      "    cat_path: ${paths.dc2}/merged_catalog/merged_catalog_psf_100.pkl\n",
      "    batch_size: 64\n",
      "    n_split: 50\n",
      "    image_lim:\n",
      "    - 4000\n",
      "    - 4000\n",
      "    use_deconv_channel: ${encoder.image_normalizer.use_deconv_channel}\n",
      "    deconv_path: ${paths.dc2}/coadd_deconv_image\n",
      "mode: train\n",
      "generate:\n",
      "  n_image_files: 16\n",
      "  n_batches_per_file: 16\n",
      "  simulator: ${simulator}\n",
      "  cached_data_path: /data/scratch/declan/redshift_estimation\n",
      "  file_prefix: dataset\n",
      "train:\n",
      "  trainer:\n",
      "    _target_: pytorch_lightning.Trainer\n",
      "    logger:\n",
      "      _target_: pytorch_lightning.loggers.TensorBoardLogger\n",
      "      save_dir: ${paths.output}\n",
      "      name: null\n",
      "      version: null\n",
      "      default_hp_metric: false\n",
      "    callbacks:\n",
      "    - _target_: pytorch_lightning.callbacks.ModelCheckpoint\n",
      "      filename: best_encoder\n",
      "      save_top_k: 1\n",
      "      verbose: true\n",
      "      monitor: val/_loss\n",
      "      mode: min\n",
      "      save_on_train_epoch_end: false\n",
      "      auto_insert_metric_name: false\n",
      "    - _target_: pytorch_lightning.callbacks.early_stopping.EarlyStopping\n",
      "      monitor: val/_loss\n",
      "      mode: min\n",
      "      patience: 5\n",
      "    reload_dataloaders_every_n_epochs: 0\n",
      "    check_val_every_n_epoch: 1\n",
      "    log_every_n_steps: 10\n",
      "    min_epochs: 1\n",
      "    max_epochs: 50\n",
      "    accelerator: gpu\n",
      "    devices: 1\n",
      "    precision: 32\n",
      "  data_source: ${cached_simulator}\n",
      "  encoder: ${encoder}\n",
      "  seed: 42\n",
      "  pretrained_weights: null\n",
      "  testing: true\n",
      "predict:\n",
      "  dataset: ${surveys.sdss}\n",
      "  trainer:\n",
      "    _target_: pytorch_lightning.Trainer\n",
      "    accelerator: gpu\n",
      "    precision: ${train.trainer.precision}\n",
      "  encoder: ${encoder}\n",
      "  weight_save_path: ${paths.pretrained_models}/clahed_logged_20percent.pt\n",
      "  device: cuda:0\n",
      "\n"
     ]
    }
   ],
   "source": [
    "print(OmegaConf.to_yaml(cfg, resolve=False, sort_keys=False))"
   ]
  },
  {
   "cell_type": "markdown",
   "id": "8b09b90e",
   "metadata": {},
   "source": [
    "You can browse the above printouts to get a feel for how the config is structured. Our project will eventually add some configurables and we'll have our own config similar to the above."
   ]
  },
  {
   "cell_type": "markdown",
   "id": "040ff86b",
   "metadata": {},
   "source": [
    "The ```generate``` function from ```bliss/main.py``` takes arguments as\n",
    "\n",
    "```\n",
    "def generate(gen_cfg: DictConfig):\n",
    "   ...\n",
    "\n",
    "```\n",
    "\n",
    "and so we can plug in a given ```DictConfig``` like the above to generate data. The true ```generate``` function is much more complex than what is given below, and helps cache previously simulated data to save time, etc. Our altered function below is used only for illustration purposes, where we'll generate a single batch of simulated data."
   ]
  },
  {
   "cell_type": "code",
   "execution_count": 35,
   "id": "8f757dfa",
   "metadata": {},
   "outputs": [
    {
     "data": {
      "text/plain": [
       "{'n_image_files': 16, 'n_batches_per_file': 16, 'simulator': '${simulator}', 'cached_data_path': '/data/scratch/declan/redshift_estimation', 'file_prefix': 'dataset'}"
      ]
     },
     "execution_count": 35,
     "metadata": {},
     "output_type": "execute_result"
    }
   ],
   "source": [
    "cfg.generate"
   ]
  },
  {
   "cell_type": "code",
   "execution_count": 36,
   "id": "237744d6",
   "metadata": {},
   "outputs": [
    {
     "data": {
      "text/plain": [
       "{'_target_': 'case_studies.redshift_estimation.simulated_dataset.RedshiftSimulatedDataset', 'survey': '${surveys.sdss}', 'prior': '${prior}', 'n_batches': 128, 'use_coaddition': False, 'coadd_depth': 1, 'num_workers': 32, 'valid_n_batches': 10, 'fix_validation_set': True}"
      ]
     },
     "execution_count": 36,
     "metadata": {},
     "output_type": "execute_result"
    }
   ],
   "source": [
    "cfg.generate.simulator"
   ]
  },
  {
   "cell_type": "code",
   "execution_count": 37,
   "id": "3a11f368",
   "metadata": {},
   "outputs": [],
   "source": [
    "from case_studies.redshift_estimation.prior import RedshiftPrior\n",
    "from case_studies.redshift_estimation.simulated_dataset import RedshiftSimulatedDataset"
   ]
  },
  {
   "cell_type": "code",
   "execution_count": 38,
   "id": "e85c0375",
   "metadata": {},
   "outputs": [],
   "source": [
    "simulated_dataset = instantiate(cfg.generate.simulator)"
   ]
  },
  {
   "cell_type": "code",
   "execution_count": 10,
   "id": "91a0b753",
   "metadata": {},
   "outputs": [],
   "source": [
    "def generate(gen_cfg: DictConfig):\n",
    "    simulated_dataset = instantiate(gen_cfg.simulator, num_workers=0)\n",
    "\n",
    "    for _ in range(1):\n",
    "        batch = simulated_dataset.get_batch()\n",
    "        \n",
    "    return batch"
   ]
  },
  {
   "cell_type": "markdown",
   "id": "0873fdb6",
   "metadata": {},
   "source": [
    "##### ***Running the cell below will take several minutes*** "
   ]
  },
  {
   "cell_type": "code",
   "execution_count": 10,
   "id": "ea8875eb",
   "metadata": {},
   "outputs": [],
   "source": [
    "simulated_batch_of_data = generate(cfg.generate)"
   ]
  },
  {
   "cell_type": "markdown",
   "id": "a49107fd",
   "metadata": {},
   "source": [
    "Note that the 'full' configurable has three main subconfigs: `cfg.generate, cfg.train, cfg.predict`. This just helps keep things more organized. We only passed `cfg.generate` to the ```generate``` function."
   ]
  },
  {
   "cell_type": "code",
   "execution_count": 11,
   "id": "5ad8088f",
   "metadata": {},
   "outputs": [
    {
     "data": {
      "text/plain": [
       "dict_keys(['tile_catalog', 'images', 'background', 'deconvolution', 'psf_params'])"
      ]
     },
     "execution_count": 11,
     "metadata": {},
     "output_type": "execute_result"
    }
   ],
   "source": [
    "simulated_batch_of_data.keys()"
   ]
  },
  {
   "cell_type": "markdown",
   "id": "b7b0fa5e",
   "metadata": {},
   "source": [
    "The simulated batch is a ```dict``` object. These can be stored to disk in some fashion that we won't worry about right now (see ```generate``` function in ```bliss/main.py```), as we'll just work with this single batch. Let's examine some of the objects. The main objects produced are the tile catalogs and the images. Let's look at the attributes of the tile catalog."
   ]
  },
  {
   "cell_type": "code",
   "execution_count": 12,
   "id": "80febdf8",
   "metadata": {},
   "outputs": [
    {
     "data": {
      "text/plain": [
       "dict_keys(['locs', 'n_sources', 'source_type', 'galaxy_fluxes', 'galaxy_params', 'star_fluxes', 'redshifts'])"
      ]
     },
     "execution_count": 12,
     "metadata": {},
     "output_type": "execute_result"
    }
   ],
   "source": [
    "tc = simulated_batch_of_data['tile_catalog']\n",
    "tc.keys()"
   ]
  },
  {
   "cell_type": "markdown",
   "id": "6533f3a8",
   "metadata": {},
   "source": [
    "The quantities we're most interested in are `star_fluxes` and `galaxy_fluxes`. Checking shapes, we see that these have magnitudes corresponding to `u,g,r,i,z` bands. The bands are specified in the prior."
   ]
  },
  {
   "cell_type": "code",
   "execution_count": 13,
   "id": "796f26f7",
   "metadata": {},
   "outputs": [
    {
     "data": {
      "text/plain": [
       "['u', 'g', 'r', 'i', 'z']"
      ]
     },
     "execution_count": 13,
     "metadata": {},
     "output_type": "execute_result"
    }
   ],
   "source": [
    "cfg.prior.survey_bands"
   ]
  },
  {
   "cell_type": "code",
   "execution_count": 14,
   "id": "81f62bc5",
   "metadata": {},
   "outputs": [
    {
     "data": {
      "text/plain": [
       "(torch.Size([64, 20, 20, 1, 5]), torch.Size([64, 20, 20, 1, 5]))"
      ]
     },
     "execution_count": 14,
     "metadata": {},
     "output_type": "execute_result"
    }
   ],
   "source": [
    "tc['galaxy_fluxes'].shape, tc['star_fluxes'].shape"
   ]
  },
  {
   "cell_type": "markdown",
   "id": "4910fbe5",
   "metadata": {},
   "source": [
    "The first three dimensions of all these objects are 64 x 20 x 20. These numbers represent the following:\n",
    "- 64 = number of synthetic (simulated) images\n",
    "- 20 = number of tiles lengthwise\n",
    "- 20 = number of tiles widthwise\n",
    "\n",
    "BLISS operates by dividing a given images into *tiles* of a certain size. This can be thought of as parsing the image into bite-size pieces. The number of tiles and number of images in simulated batches are controllable from the config object, e.g. "
   ]
  },
  {
   "cell_type": "code",
   "execution_count": 15,
   "id": "bf1064cd",
   "metadata": {},
   "outputs": [
    {
     "data": {
      "text/plain": [
       "(64, 20, 20)"
      ]
     },
     "execution_count": 15,
     "metadata": {},
     "output_type": "execute_result"
    }
   ],
   "source": [
    "cfg.prior.batch_size, cfg.prior.n_tiles_h, cfg.prior.n_tiles_w"
   ]
  },
  {
   "cell_type": "code",
   "execution_count": 16,
   "id": "9caf998f",
   "metadata": {},
   "outputs": [],
   "source": [
    "ims = simulated_batch_of_data['images']"
   ]
  },
  {
   "cell_type": "code",
   "execution_count": 17,
   "id": "a370684d",
   "metadata": {},
   "outputs": [
    {
     "data": {
      "text/plain": [
       "torch.Size([64, 5, 80, 80])"
      ]
     },
     "execution_count": 17,
     "metadata": {},
     "output_type": "execute_result"
    }
   ],
   "source": [
    "ims.shape"
   ]
  },
  {
   "cell_type": "markdown",
   "id": "6ea11845",
   "metadata": {},
   "source": [
    "As expected, there are 64 images. The dimension 5 does not correspond to the number of sources per tile, but rather to the *photometric band* of each image, corresponding to u,g,r,i,z for SDSS data. Read more here: https://www.sdss4.org/instruments/camera/#Filters\n",
    "\n",
    "Again, these are specified in the config:"
   ]
  },
  {
   "cell_type": "code",
   "execution_count": 18,
   "id": "b20c65dd",
   "metadata": {},
   "outputs": [
    {
     "data": {
      "text/plain": [
       "['u', 'g', 'r', 'i', 'z']"
      ]
     },
     "execution_count": 18,
     "metadata": {},
     "output_type": "execute_result"
    }
   ],
   "source": [
    "cfg.prior.survey_bands"
   ]
  },
  {
   "cell_type": "markdown",
   "id": "7798b6ac",
   "metadata": {},
   "source": [
    "We gather that each image for each band is 80 x 80. Recalling that we have 20 x 20 tiles, this implie that each tile is 4x4. Again, this is specified in the config."
   ]
  },
  {
   "cell_type": "code",
   "execution_count": 19,
   "id": "90191d74",
   "metadata": {},
   "outputs": [
    {
     "data": {
      "text/plain": [
       "4"
      ]
     },
     "execution_count": 19,
     "metadata": {},
     "output_type": "execute_result"
    }
   ],
   "source": [
    "cfg.prior.tile_slen"
   ]
  },
  {
   "cell_type": "markdown",
   "id": "6f794ed7",
   "metadata": {},
   "source": [
    "Let's examine some simulated images."
   ]
  },
  {
   "cell_type": "code",
   "execution_count": 20,
   "id": "e3872beb",
   "metadata": {},
   "outputs": [
    {
     "data": {
      "text/plain": [
       "<matplotlib.image.AxesImage at 0x7fe283e4bfd0>"
      ]
     },
     "execution_count": 20,
     "metadata": {},
     "output_type": "execute_result"
    },
    {
     "data": {
      "image/png": "[encoded data removed]",
      "text/plain": [
       "<Figure size 640x480 with 1 Axes>"
      ]
     },
     "metadata": {},
     "output_type": "display_data"
    }
   ],
   "source": [
    "plt.imshow(ims[0][0]) #u-band for first of 64 images"
   ]
  },
  {
   "cell_type": "code",
   "execution_count": 21,
   "id": "3aee17ae",
   "metadata": {},
   "outputs": [
    {
     "data": {
      "text/plain": [
       "<matplotlib.image.AxesImage at 0x7fe2806002e0>"
      ]
     },
     "execution_count": 21,
     "metadata": {},
     "output_type": "execute_result"
    },
    {
     "data": {
      "image/png": "[encoded data removed]",
      "text/plain": [
       "<Figure size 640x480 with 1 Axes>"
      ]
     },
     "metadata": {},
     "output_type": "display_data"
    }
   ],
   "source": [
    "plt.imshow(ims[0][1]) #g-band for first of 64 images"
   ]
  },
  {
   "cell_type": "code",
   "execution_count": 22,
   "id": "d3120342",
   "metadata": {},
   "outputs": [
    {
     "data": {
      "text/plain": [
       "<matplotlib.image.AxesImage at 0x7fe27e437fd0>"
      ]
     },
     "execution_count": 22,
     "metadata": {},
     "output_type": "execute_result"
    },
    {
     "data": {
      "image/png": "[encoded data removed]",
      "text/plain": [
       "<Figure size 640x480 with 1 Axes>"
      ]
     },
     "metadata": {},
     "output_type": "display_data"
    }
   ],
   "source": [
    "plt.imshow(ims[0][2]) #r-band for first of 64 images"
   ]
  },
  {
   "cell_type": "code",
   "execution_count": 23,
   "id": "af18fa31",
   "metadata": {},
   "outputs": [
    {
     "data": {
      "text/plain": [
       "<matplotlib.image.AxesImage at 0x7fe27e4a2290>"
      ]
     },
     "execution_count": 23,
     "metadata": {},
     "output_type": "execute_result"
    },
    {
     "data": {
      "image/png": "[encoded data removed]",
      "text/plain": [
       "<Figure size 640x480 with 1 Axes>"
      ]
     },
     "metadata": {},
     "output_type": "display_data"
    }
   ],
   "source": [
    "plt.imshow(ims[0][3]) #i-band for first of 64 images"
   ]
  },
  {
   "cell_type": "code",
   "execution_count": 24,
   "id": "987cfe8d",
   "metadata": {},
   "outputs": [
    {
     "data": {
      "text/plain": [
       "<matplotlib.image.AxesImage at 0x7fe27e31b220>"
      ]
     },
     "execution_count": 24,
     "metadata": {},
     "output_type": "execute_result"
    },
    {
     "data": {
      "image/png": "[encoded data removed]",
      "text/plain": [
       "<Figure size 640x480 with 1 Axes>"
      ]
     },
     "metadata": {},
     "output_type": "display_data"
    }
   ],
   "source": [
    "plt.imshow(ims[0][4]) #z-band for first of 64 images"
   ]
  },
  {
   "cell_type": "markdown",
   "id": "beaa357b",
   "metadata": {},
   "source": [
    "## Your task: dive into the method `.get_batch()` that is used to generate these images. See how this method and methods it calls use the `flux` parameters from the tile catalog. Overwrite these fluxes to change the brightnesses of the resulting objects. You should be able to see this effect in each band."
   ]
  },
  {
   "cell_type": "markdown",
   "id": "a29afe83",
   "metadata": {},
   "source": [
    "You will want to start maybe with the `render_star`, `render_galaxy`, and `render_image` functions in the image decoder. You can modify code as needed, e.g. hardcode a single tile-catalog and alter it to explore the different renderings."
   ]
  },
  {
   "cell_type": "code",
   "execution_count": null,
   "id": "112381b1",
   "metadata": {},
   "outputs": [],
   "source": []
  }
 ],
 "metadata": {
  "kernelspec": {
   "display_name": "Python 3 (ipykernel)",
   "language": "python",
   "name": "python3"
  },
  "language_info": {
   "codemirror_mode": {
    "name": "ipython",
    "version": 3
   },
   "file_extension": ".py",
   "mimetype": "text/x-python",
   "name": "python",
   "nbconvert_exporter": "python",
   "pygments_lexer": "ipython3",
   "version": "3.10.12"
  }
 },
 "nbformat": 4,
 "nbformat_minor": 5
}

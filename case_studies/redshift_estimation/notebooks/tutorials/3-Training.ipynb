{
 "cells": [
  {
   "cell_type": "markdown",
   "id": "2a920829",
   "metadata": {},
   "source": [
    "# Training"
   ]
  },
  {
   "cell_type": "markdown",
   "id": "b55a0626",
   "metadata": {},
   "source": [
    "Typically, training and large-scale data generation will occur on the command line. \n",
    "\n",
    "## Large-scale data generation\n",
    "\n",
    "The command to generate data with a particular choice of config is:"
   ]
  },
  {
   "cell_type": "raw",
   "id": "83b05a30",
   "metadata": {},
   "source": [
    "nohup ./scripts/generate_data_in_parallel.sh -n 16 -cp /home/declan/current/bliss/case_studies/redshift_estimation/ -cn redshift.yaml &> generate_output.out &"
   ]
  },
  {
   "cell_type": "markdown",
   "id": "f4437eae",
   "metadata": {},
   "source": [
    "Let's parse each component of this command.\n",
    "\n",
    "- nohup: makes this command run in the background\n",
    "- ./scripts/generate_data_in_parallel: the executable script to run\n",
    "- -n 16: args to this script indicating how many parallel processes to use to generate data\n",
    "- -cp: config path argument\n",
    "- -cn: config name argument\n",
    "- &> generate_output.out &: pipes output to file generate_output.out that will log all printouts from this process"
   ]
  },
  {
   "cell_type": "markdown",
   "id": "bc3fea04",
   "metadata": {},
   "source": [
    "Internally, the script calls the command `bliss mode=generate` with some of these arguments. Most of these are obvious once you see the meaning of each as above. \n",
    "\n",
    "\n",
    "To try this out on your own, do the following exercise:\n",
    "\n",
    "1. Create a copy of the file `base_config.yaml` and call it something else.\n",
    "2. Within this new file, alter the arguments for `generate.n_image_files` and `generate.n_batches_per_file`. Make them smaller.\n",
    "3. Alter the argument for `generate.cached_data_path` to a new directory of your choice.\n",
    "4. Run the command above, plugging in your config path and config name.\n",
    "5. Verify that data is generated.\n",
    "\n",
    "\n",
    "Below, you may want to inspect your generated data by loading a batch and plotting the images."
   ]
  },
  {
   "cell_type": "markdown",
   "id": "a409d0a2",
   "metadata": {},
   "source": [
    "## Training"
   ]
  },
  {
   "cell_type": "markdown",
   "id": "dad7f350",
   "metadata": {},
   "source": [
    "*After* generating data as above, you can train your model using the following command."
   ]
  },
  {
   "cell_type": "raw",
   "id": "0ac08495",
   "metadata": {},
   "source": [
    "nohup bliss -cp /your/config/path --config-name config_name.yaml mode=train &> training.out &"
   ]
  },
  {
   "cell_type": "markdown",
   "id": "b0e24b6c",
   "metadata": {},
   "source": [
    "Hopefully you are able to parse the command line args here."
   ]
  },
  {
   "cell_type": "markdown",
   "id": "0ecf94e0",
   "metadata": {},
   "source": [
    "Now, \n",
    "\n",
    "1. Look at your config_name.yaml in `paths.output` to see the directory where your results are stored.\n",
    "2. Verify that you have a `version_0` directory with a valid checkpoint."
   ]
  },
  {
   "cell_type": "code",
   "execution_count": null,
   "id": "a8a33f7c",
   "metadata": {},
   "outputs": [],
   "source": []
  }
 ],
 "metadata": {
  "kernelspec": {
   "display_name": "Python 3 (ipykernel)",
   "language": "python",
   "name": "python3"
  },
  "language_info": {
   "codemirror_mode": {
    "name": "ipython",
    "version": 3
   },
   "file_extension": ".py",
   "mimetype": "text/x-python",
   "name": "python",
   "nbconvert_exporter": "python",
   "pygments_lexer": "ipython3",
   "version": "3.10.12"
  }
 },
 "nbformat": 4,
 "nbformat_minor": 5
}

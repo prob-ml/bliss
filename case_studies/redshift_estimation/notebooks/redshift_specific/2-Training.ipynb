{
 "cells": [
  {
   "cell_type": "markdown",
   "id": "a3daae5a",
   "metadata": {},
   "source": [
    "# Training For Redshifts"
   ]
  },
  {
   "cell_type": "markdown",
   "id": "ea7c40d1",
   "metadata": {},
   "source": [
    "Training for redshifts is rather straightforward. The `Encoder` in `encoder.py` and the `RedshiftVarDist` and `RedshiftVarDistSpec` in `variational_dist.py` automate the procedure. "
   ]
  },
  {
   "cell_type": "markdown",
   "id": "345a86ed",
   "metadata": {},
   "source": [
    "**Note how the `RedshiftVarDistSpec` class defines the variational family on redshift to be Gaussian. Future work may be to make this family more expressive, e.g. a mixture of Gaussians.**"
   ]
  },
  {
   "cell_type": "markdown",
   "id": "f8a08f39",
   "metadata": {},
   "source": [
    "##### TODO: we would prefer to not modify the `encoder.py` file at all. One goal for a student working on this may be to clean up the code so that changes to encoder.py are unneccessary, and all necessary changes are done via `variational_dist.py`."
   ]
  },
  {
   "cell_type": "markdown",
   "id": "ab6f3f25",
   "metadata": {},
   "source": [
    "### Training for SDSS Prior"
   ]
  },
  {
   "cell_type": "markdown",
   "id": "50c05bdb",
   "metadata": {},
   "source": [
    "One simply needs to perform the following steps.\n",
    "\n",
    "1. Generate synthetic data using the prior `RedshiftCSVPriorSDSS`\n",
    "    - Adjust the prior field in `redshift.yaml`\n",
    "    - Choose where the data should be stored in `generate.cached_data_path` in `redshift.yaml`.\n",
    "    - Run `nohup ./scripts/generate_data_in_parallel.sh -n 16 -cp /home/declan/current/bliss/case_studies/redshift_estimation/ -cn redshift.yaml mode=generate &> generate_output.out &` or similar.\n",
    "    \n",
    "2. Train the encoder on the generated data.\n",
    "    - Make sure you have the prior `generate.cached_data_path` specified. For completeness, make sure prior field is correct too as above. \n",
    "    - Choose where you want to store encoder weights in `paths.output` in `redshift.yaml`.\n",
    "    - Run `nohup bliss -cp /home/declan/current/bliss/case_studies/redshift_estimation/ --config-name redshift.yaml mode=train &> training.out &` or similar to train the encoder. The weights will be stored in the checkpoint."
   ]
  },
  {
   "cell_type": "markdown",
   "id": "073ddc20",
   "metadata": {},
   "source": [
    "### Training for DC2 Prior"
   ]
  },
  {
   "cell_type": "markdown",
   "id": "4ea70cfb",
   "metadata": {},
   "source": [
    "Exactly the same as above, just make sure you specify correct priors, cached data paths, etc."
   ]
  }
 ],
 "metadata": {
  "kernelspec": {
   "display_name": "Python 3 (ipykernel)",
   "language": "python",
   "name": "python3"
  },
  "language_info": {
   "codemirror_mode": {
    "name": "ipython",
    "version": 3
   },
   "file_extension": ".py",
   "mimetype": "text/x-python",
   "name": "python",
   "nbconvert_exporter": "python",
   "pygments_lexer": "ipython3",
   "version": "3.10.12"
  }
 },
 "nbformat": 4,
 "nbformat_minor": 5
}

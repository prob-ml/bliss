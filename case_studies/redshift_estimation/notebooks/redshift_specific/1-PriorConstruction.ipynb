{
 "cells": [
  {
   "cell_type": "markdown",
   "id": "2080fafc",
   "metadata": {},
   "source": [
    "# Prior Construction For Photo-z"
   ]
  },
  {
   "cell_type": "markdown",
   "id": "370d59ee",
   "metadata": {},
   "source": [
    "As mentioned in the review document, we construct two priors on redshift and photometry based on SDSS and DC2 data."
   ]
  },
  {
   "cell_type": "markdown",
   "id": "fc778123",
   "metadata": {},
   "source": [
    "### Data Gathering - SDSS"
   ]
  },
  {
   "cell_type": "markdown",
   "id": "972b856e",
   "metadata": {},
   "source": [
    "The SDSS data needs to be gathered from online. This is accomplished by running the script `get_redshift.py`. As you will see if you read the script, this results in a file called `photometric_data.csv` containing object ids, flux magnitudes, and redshifts, and also the object type."
   ]
  },
  {
   "cell_type": "markdown",
   "id": "7023e94d",
   "metadata": {},
   "source": [
    "This `photometric_data.csv` file was then cleaned (if necessary), and split into two files `STAR.csv` and `GALAXY.csv`. To make the problem easier, for the URPS project we only generated galaxies, not stars. You can investigate the class `RedshiftCSVPriorSDSS` in `prior.py` to see the corresponding prior class, that reads in `GALAXY.csv`. This class samples redshifts and photometry by picking rows at random from `GALAXY.csv`. "
   ]
  },
  {
   "cell_type": "markdown",
   "id": "039610e3",
   "metadata": {},
   "source": [
    "**The current location for all files mentioned above is `/data/scratch/declan`**."
   ]
  },
  {
   "cell_type": "markdown",
   "id": "c8c2a9ae",
   "metadata": {},
   "source": [
    "##### TODO: Write additional data wrangling scripts to generate `STAR.csv` and `GALAXY.CSV`. Currently these don't exist. Organize all wrangling files including `get_redshift.py`."
   ]
  },
  {
   "cell_type": "markdown",
   "id": "f6f6bbb9",
   "metadata": {},
   "source": [
    "### Data Gathering - DC2"
   ]
  },
  {
   "cell_type": "markdown",
   "id": "9910ad8e",
   "metadata": {},
   "source": [
    "Fortunately, the DC2 data are already stored on the server. The cells below illustrate how one can access the \"truth tables\" that contain the redshifts and photometry."
   ]
  },
  {
   "cell_type": "code",
   "execution_count": 2,
   "id": "1cd4643b",
   "metadata": {},
   "outputs": [],
   "source": [
    "import os\n",
    "import math\n",
    "import numpy as np\n",
    "import torch\n",
    "import pandas as pd\n",
    "import GCRCatalogs\n",
    "from GCR import GCRQuery\n",
    "from tqdm import tqdm"
   ]
  },
  {
   "cell_type": "code",
   "execution_count": 6,
   "id": "596ad137",
   "metadata": {},
   "outputs": [],
   "source": [
    "# Command line: within virtual environment run \n",
    "# python -m pip install https://github.com/LSSTDESC/gcr-catalogs/archive/v1.4.0.tar.gz#egg=GCRCatalogs[full]"
   ]
  },
  {
   "cell_type": "code",
   "execution_count": 7,
   "id": "0bbe8983",
   "metadata": {},
   "outputs": [
    {
     "data": {
      "text/plain": [
       "'/nfs/turbo/lsa-regier/'"
      ]
     },
     "execution_count": 7,
     "metadata": {},
     "output_type": "execute_result"
    }
   ],
   "source": [
    "GCRCatalogs.set_root_dir('/nfs/turbo/lsa-regier/')\n",
    "GCRCatalogs.get_root_dir()\n",
    "# need to do this in accordance with instructions at https://data.lsstdesc.org/doc/install_gcr"
   ]
  },
  {
   "cell_type": "code",
   "execution_count": 8,
   "id": "c537a3b4",
   "metadata": {},
   "outputs": [
    {
     "data": {
      "text/plain": [
       "['desc_cosmodc2',\n",
       " 'desc_dc2_run2.2i_dr6_object',\n",
       " 'desc_dc2_run2.2i_dr6_object_with_truth_match',\n",
       " 'desc_dc2_run2.2i_dr6_truth',\n",
       " 'desc_dc2_run2.2i_truth_galaxy_summary',\n",
       " 'desc_dc2_run2.2i_truth_sn_summary',\n",
       " 'desc_dc2_run2.2i_truth_sn_variability',\n",
       " 'desc_dc2_run2.2i_truth_star_summary',\n",
       " 'desc_dc2_run2.2i_truth_star_variability']"
      ]
     },
     "execution_count": 8,
     "metadata": {},
     "output_type": "execute_result"
    }
   ],
   "source": [
    "# List of public catalog names\n",
    "GCRCatalogs.get_public_catalog_names()"
   ]
  },
  {
   "cell_type": "markdown",
   "id": "8dbb5fde",
   "metadata": {},
   "source": [
    "We're generally going to be interested in the truth files, which we know will have redshift and photometry values for us to use. Let's load a truth file and examine the fields we have available to us. We can explore relevant fields."
   ]
  },
  {
   "cell_type": "code",
   "execution_count": 9,
   "id": "ae688087",
   "metadata": {},
   "outputs": [
    {
     "data": {
      "text/plain": [
       "['is_good_match',\n",
       " 'id',\n",
       " 'is_unique_truth_entry',\n",
       " 'ra',\n",
       " 'is_nearest_neighbor',\n",
       " 'mag_u',\n",
       " 'flux_g',\n",
       " 'av',\n",
       " 'flux_i',\n",
       " 'mag_g',\n",
       " 'mag_y',\n",
       " 'truth_type',\n",
       " 'cosmodc2_hp',\n",
       " 'tract',\n",
       " 'patch',\n",
       " 'rv',\n",
       " 'redshift',\n",
       " 'mag_i',\n",
       " 'flux_r',\n",
       " 'flux_y',\n",
       " 'match_objectId',\n",
       " 'match_sep',\n",
       " 'id_string',\n",
       " 'dec',\n",
       " 'mag_z',\n",
       " 'flux_u',\n",
       " 'mag_r',\n",
       " 'flux_z',\n",
       " 'cosmodc2_id',\n",
       " 'host_galaxy']"
      ]
     },
     "execution_count": 9,
     "metadata": {},
     "output_type": "execute_result"
    }
   ],
   "source": [
    "truth_cat = GCRCatalogs.load_catalog('desc_dc2_run2.2i_dr6_truth')\n",
    "truth_cat.list_all_quantities()"
   ]
  },
  {
   "cell_type": "markdown",
   "id": "f0b2872a",
   "metadata": {},
   "source": [
    "First let's reload all relevant quantities from the truth catalog we're familiar with.\n",
    "\n",
    "**The cell below will take a long time to run.**"
   ]
  },
  {
   "cell_type": "code",
   "execution_count": 11,
   "id": "650a6ce1",
   "metadata": {},
   "outputs": [
    {
     "ename": "TypeError",
     "evalue": "'module' object is not callable",
     "output_type": "error",
     "traceback": [
      "\u001b[0;31m---------------------------------------------------------------------------\u001b[0m",
      "\u001b[0;31mTypeError\u001b[0m                                 Traceback (most recent call last)",
      "Cell \u001b[0;32mIn[11], line 6\u001b[0m\n\u001b[1;32m      1\u001b[0m all_truth_data \u001b[38;5;241m=\u001b[39m {}\n\u001b[1;32m      2\u001b[0m quantities \u001b[38;5;241m=\u001b[39m [\u001b[38;5;124m\"\u001b[39m\u001b[38;5;124mflux_u\u001b[39m\u001b[38;5;124m\"\u001b[39m, \u001b[38;5;124m\"\u001b[39m\u001b[38;5;124mflux_g\u001b[39m\u001b[38;5;124m\"\u001b[39m, \u001b[38;5;124m\"\u001b[39m\u001b[38;5;124mflux_r\u001b[39m\u001b[38;5;124m\"\u001b[39m, \u001b[38;5;124m\"\u001b[39m\u001b[38;5;124mflux_i\u001b[39m\u001b[38;5;124m\"\u001b[39m, \u001b[38;5;124m\"\u001b[39m\u001b[38;5;124mflux_z\u001b[39m\u001b[38;5;124m\"\u001b[39m, \u001b[38;5;124m\"\u001b[39m\u001b[38;5;124mflux_y\u001b[39m\u001b[38;5;124m\"\u001b[39m,\n\u001b[1;32m      3\u001b[0m              \u001b[38;5;124m\"\u001b[39m\u001b[38;5;124mmag_u\u001b[39m\u001b[38;5;124m\"\u001b[39m, \u001b[38;5;124m\"\u001b[39m\u001b[38;5;124mmag_g\u001b[39m\u001b[38;5;124m\"\u001b[39m, \u001b[38;5;124m\"\u001b[39m\u001b[38;5;124mmag_r\u001b[39m\u001b[38;5;124m\"\u001b[39m, \u001b[38;5;124m\"\u001b[39m\u001b[38;5;124mmag_i\u001b[39m\u001b[38;5;124m\"\u001b[39m, \u001b[38;5;124m\"\u001b[39m\u001b[38;5;124mmag_z\u001b[39m\u001b[38;5;124m\"\u001b[39m, \u001b[38;5;124m\"\u001b[39m\u001b[38;5;124mmag_y\u001b[39m\u001b[38;5;124m\"\u001b[39m,\n\u001b[1;32m      4\u001b[0m              \u001b[38;5;124m\"\u001b[39m\u001b[38;5;124mtruth_type\u001b[39m\u001b[38;5;124m\"\u001b[39m, \u001b[38;5;124m\"\u001b[39m\u001b[38;5;124mredshift\u001b[39m\u001b[38;5;124m\"\u001b[39m,\n\u001b[1;32m      5\u001b[0m              \u001b[38;5;124m\"\u001b[39m\u001b[38;5;124mid\u001b[39m\u001b[38;5;124m\"\u001b[39m, \u001b[38;5;124m\"\u001b[39m\u001b[38;5;124mmatch_objectId\u001b[39m\u001b[38;5;124m\"\u001b[39m, \u001b[38;5;124m\"\u001b[39m\u001b[38;5;124mcosmodc2_id\u001b[39m\u001b[38;5;124m\"\u001b[39m, \u001b[38;5;124m\"\u001b[39m\u001b[38;5;124mid_string\u001b[39m\u001b[38;5;124m\"\u001b[39m]\n\u001b[0;32m----> 6\u001b[0m \u001b[38;5;28;01mfor\u001b[39;00m q \u001b[38;5;129;01min\u001b[39;00m \u001b[43mtqdm\u001b[49m\u001b[43m(\u001b[49m\u001b[43mquantities\u001b[49m\u001b[43m)\u001b[49m:\n\u001b[1;32m      7\u001b[0m     this_field \u001b[38;5;241m=\u001b[39m truth_cat\u001b[38;5;241m.\u001b[39mget_quantities([q])\n\u001b[1;32m      8\u001b[0m     all_truth_data[q] \u001b[38;5;241m=\u001b[39m this_field[q]\n",
      "\u001b[0;31mTypeError\u001b[0m: 'module' object is not callable"
     ]
    }
   ],
   "source": [
    "all_truth_data = {}\n",
    "quantities = [\"flux_u\", \"flux_g\", \"flux_r\", \"flux_i\", \"flux_z\", \"flux_y\",\n",
    "             \"mag_u\", \"mag_g\", \"mag_r\", \"mag_i\", \"mag_z\", \"mag_y\",\n",
    "             \"truth_type\", \"redshift\",\n",
    "             \"id\", \"match_objectId\", \"cosmodc2_id\", \"id_string\"]\n",
    "for q in tqdm(quantities):\n",
    "    this_field = truth_cat.get_quantities([q])\n",
    "    all_truth_data[q] = this_field[q]\n",
    "    print('Finished {}'.format(q))\n",
    "    "
   ]
  },
  {
   "cell_type": "code",
   "execution_count": 14,
   "id": "04b1b180",
   "metadata": {},
   "outputs": [
    {
     "name": "stderr",
     "output_type": "stream",
     "text": [
      "100%|██████████| 2/2 [00:00<00:00, 8192.00it/s]"
     ]
    },
    {
     "name": "stdout",
     "output_type": "stream",
     "text": [
      "1\n",
      "1\n"
     ]
    },
    {
     "name": "stderr",
     "output_type": "stream",
     "text": [
      "\n"
     ]
    }
   ],
   "source": [
    "for i in tqdm.tqdm([1,2]):\n",
    "    print(1)"
   ]
  },
  {
   "cell_type": "code",
   "execution_count": 6,
   "id": "0dff9cbc",
   "metadata": {},
   "outputs": [],
   "source": [
    "truth_data = pd.DataFrame(all_truth_data)"
   ]
  },
  {
   "cell_type": "code",
   "execution_count": 1,
   "id": "180c0994",
   "metadata": {},
   "outputs": [
    {
     "ename": "NameError",
     "evalue": "name 'truth_data' is not defined",
     "output_type": "error",
     "traceback": [
      "\u001b[0;31m---------------------------------------------------------------------------\u001b[0m",
      "\u001b[0;31mNameError\u001b[0m                                 Traceback (most recent call last)",
      "Cell \u001b[0;32mIn[1], line 1\u001b[0m\n\u001b[0;32m----> 1\u001b[0m \u001b[43mtruth_data\u001b[49m\u001b[38;5;241m.\u001b[39mshape\n",
      "\u001b[0;31mNameError\u001b[0m: name 'truth_data' is not defined"
     ]
    }
   ],
   "source": [
    "truth_data.shape"
   ]
  },
  {
   "cell_type": "code",
   "execution_count": 8,
   "id": "a5e264f6",
   "metadata": {},
   "outputs": [
    {
     "data": {
      "text/html": [
       "<div>\n",
       "<style scoped>\n",
       "    .dataframe tbody tr th:only-of-type {\n",
       "        vertical-align: middle;\n",
       "    }\n",
       "\n",
       "    .dataframe tbody tr th {\n",
       "        vertical-align: top;\n",
       "    }\n",
       "\n",
       "    .dataframe thead th {\n",
       "        text-align: right;\n",
       "    }\n",
       "</style>\n",
       "<table border=\"1\" class=\"dataframe\">\n",
       "  <thead>\n",
       "    <tr style=\"text-align: right;\">\n",
       "      <th></th>\n",
       "      <th>flux_u</th>\n",
       "      <th>flux_g</th>\n",
       "      <th>flux_r</th>\n",
       "      <th>flux_i</th>\n",
       "      <th>flux_z</th>\n",
       "      <th>flux_y</th>\n",
       "      <th>mag_u</th>\n",
       "      <th>mag_g</th>\n",
       "      <th>mag_r</th>\n",
       "      <th>mag_i</th>\n",
       "      <th>mag_z</th>\n",
       "      <th>mag_y</th>\n",
       "      <th>truth_type</th>\n",
       "      <th>redshift</th>\n",
       "      <th>id</th>\n",
       "      <th>match_objectId</th>\n",
       "      <th>cosmodc2_id</th>\n",
       "      <th>id_string</th>\n",
       "    </tr>\n",
       "  </thead>\n",
       "  <tbody>\n",
       "    <tr>\n",
       "      <th>0</th>\n",
       "      <td>5678.708984</td>\n",
       "      <td>5577.517578</td>\n",
       "      <td>6334.502441</td>\n",
       "      <td>8848.515625</td>\n",
       "      <td>15267.947266</td>\n",
       "      <td>19116.740234</td>\n",
       "      <td>22.014378</td>\n",
       "      <td>22.033897</td>\n",
       "      <td>21.895718</td>\n",
       "      <td>21.532824</td>\n",
       "      <td>20.940550</td>\n",
       "      <td>20.696468</td>\n",
       "      <td>1</td>\n",
       "      <td>1.050468</td>\n",
       "      <td>10940305839</td>\n",
       "      <td>11975906419540343</td>\n",
       "      <td>10940305839</td>\n",
       "      <td>10940305839</td>\n",
       "    </tr>\n",
       "    <tr>\n",
       "      <th>1</th>\n",
       "      <td>146.518021</td>\n",
       "      <td>1341.131714</td>\n",
       "      <td>5984.994629</td>\n",
       "      <td>12850.581055</td>\n",
       "      <td>18818.283203</td>\n",
       "      <td>22972.250000</td>\n",
       "      <td>25.985275</td>\n",
       "      <td>23.581322</td>\n",
       "      <td>21.957340</td>\n",
       "      <td>21.127697</td>\n",
       "      <td>20.713551</td>\n",
       "      <td>20.496994</td>\n",
       "      <td>1</td>\n",
       "      <td>0.474819</td>\n",
       "      <td>10937870093</td>\n",
       "      <td>11975906419541206</td>\n",
       "      <td>10937870093</td>\n",
       "      <td>10937870093</td>\n",
       "    </tr>\n",
       "    <tr>\n",
       "      <th>2</th>\n",
       "      <td>134.074341</td>\n",
       "      <td>272.126617</td>\n",
       "      <td>766.903015</td>\n",
       "      <td>2072.049561</td>\n",
       "      <td>2690.330322</td>\n",
       "      <td>3052.688965</td>\n",
       "      <td>26.081638</td>\n",
       "      <td>25.313074</td>\n",
       "      <td>24.188148</td>\n",
       "      <td>23.108999</td>\n",
       "      <td>22.825487</td>\n",
       "      <td>22.688293</td>\n",
       "      <td>1</td>\n",
       "      <td>0.759036</td>\n",
       "      <td>11563663598</td>\n",
       "      <td>11976043858493441</td>\n",
       "      <td>11563663598</td>\n",
       "      <td>11563663598</td>\n",
       "    </tr>\n",
       "    <tr>\n",
       "      <th>3</th>\n",
       "      <td>932.008118</td>\n",
       "      <td>1224.280762</td>\n",
       "      <td>2598.827148</td>\n",
       "      <td>6678.408691</td>\n",
       "      <td>9719.280273</td>\n",
       "      <td>11019.937500</td>\n",
       "      <td>23.976452</td>\n",
       "      <td>23.680298</td>\n",
       "      <td>22.863056</td>\n",
       "      <td>21.838318</td>\n",
       "      <td>21.430914</td>\n",
       "      <td>21.294554</td>\n",
       "      <td>1</td>\n",
       "      <td>0.808502</td>\n",
       "      <td>10938869183</td>\n",
       "      <td>11976043858493443</td>\n",
       "      <td>10938869183</td>\n",
       "      <td>10938869183</td>\n",
       "    </tr>\n",
       "    <tr>\n",
       "      <th>4</th>\n",
       "      <td>35.554699</td>\n",
       "      <td>104.535225</td>\n",
       "      <td>462.301849</td>\n",
       "      <td>1221.936035</td>\n",
       "      <td>2384.806396</td>\n",
       "      <td>2966.539062</td>\n",
       "      <td>27.522758</td>\n",
       "      <td>26.351845</td>\n",
       "      <td>24.737686</td>\n",
       "      <td>23.682381</td>\n",
       "      <td>22.956369</td>\n",
       "      <td>22.719376</td>\n",
       "      <td>1</td>\n",
       "      <td>0.849298</td>\n",
       "      <td>11564005688</td>\n",
       "      <td>11976043858493737</td>\n",
       "      <td>11564005688</td>\n",
       "      <td>11564005688</td>\n",
       "    </tr>\n",
       "    <tr>\n",
       "      <th>5</th>\n",
       "      <td>577.276917</td>\n",
       "      <td>648.449158</td>\n",
       "      <td>943.125610</td>\n",
       "      <td>2090.335938</td>\n",
       "      <td>2522.676758</td>\n",
       "      <td>2646.651123</td>\n",
       "      <td>24.496540</td>\n",
       "      <td>24.370310</td>\n",
       "      <td>23.963577</td>\n",
       "      <td>23.099461</td>\n",
       "      <td>22.895346</td>\n",
       "      <td>22.843258</td>\n",
       "      <td>1</td>\n",
       "      <td>0.822614</td>\n",
       "      <td>11563831110</td>\n",
       "      <td>11976043858493738</td>\n",
       "      <td>11563831110</td>\n",
       "      <td>11563831110</td>\n",
       "    </tr>\n",
       "    <tr>\n",
       "      <th>6</th>\n",
       "      <td>893.910278</td>\n",
       "      <td>838.389343</td>\n",
       "      <td>976.022888</td>\n",
       "      <td>1568.729858</td>\n",
       "      <td>2002.057739</td>\n",
       "      <td>2065.459961</td>\n",
       "      <td>24.021767</td>\n",
       "      <td>24.091387</td>\n",
       "      <td>23.926352</td>\n",
       "      <td>23.411131</td>\n",
       "      <td>23.146309</td>\n",
       "      <td>23.112459</td>\n",
       "      <td>1</td>\n",
       "      <td>0.929380</td>\n",
       "      <td>11564445231</td>\n",
       "      <td>11976043858493739</td>\n",
       "      <td>11564445231</td>\n",
       "      <td>11564445231</td>\n",
       "    </tr>\n",
       "    <tr>\n",
       "      <th>7</th>\n",
       "      <td>610.097229</td>\n",
       "      <td>828.885193</td>\n",
       "      <td>1807.437744</td>\n",
       "      <td>2516.555664</td>\n",
       "      <td>2857.029785</td>\n",
       "      <td>3111.177246</td>\n",
       "      <td>24.436504</td>\n",
       "      <td>24.103765</td>\n",
       "      <td>23.257341</td>\n",
       "      <td>22.897985</td>\n",
       "      <td>22.760212</td>\n",
       "      <td>22.667690</td>\n",
       "      <td>1</td>\n",
       "      <td>0.517864</td>\n",
       "      <td>11562943167</td>\n",
       "      <td>11976043858493740</td>\n",
       "      <td>11562943167</td>\n",
       "      <td>11562943167</td>\n",
       "    </tr>\n",
       "    <tr>\n",
       "      <th>8</th>\n",
       "      <td>607.974792</td>\n",
       "      <td>1396.323120</td>\n",
       "      <td>2972.822510</td>\n",
       "      <td>3748.653320</td>\n",
       "      <td>4305.629395</td>\n",
       "      <td>4791.282715</td>\n",
       "      <td>24.440289</td>\n",
       "      <td>23.537537</td>\n",
       "      <td>22.717077</td>\n",
       "      <td>22.465313</td>\n",
       "      <td>22.314909</td>\n",
       "      <td>22.198870</td>\n",
       "      <td>1</td>\n",
       "      <td>0.307164</td>\n",
       "      <td>10937620679</td>\n",
       "      <td>11976043858493741</td>\n",
       "      <td>10937620679</td>\n",
       "      <td>10937620679</td>\n",
       "    </tr>\n",
       "    <tr>\n",
       "      <th>9</th>\n",
       "      <td>287.352844</td>\n",
       "      <td>495.052368</td>\n",
       "      <td>1347.424683</td>\n",
       "      <td>1959.870117</td>\n",
       "      <td>2078.425049</td>\n",
       "      <td>2199.094727</td>\n",
       "      <td>25.253963</td>\n",
       "      <td>24.663374</td>\n",
       "      <td>23.576241</td>\n",
       "      <td>23.169432</td>\n",
       "      <td>23.105663</td>\n",
       "      <td>23.044392</td>\n",
       "      <td>1</td>\n",
       "      <td>0.572746</td>\n",
       "      <td>11563034476</td>\n",
       "      <td>11976043858493742</td>\n",
       "      <td>11563034476</td>\n",
       "      <td>11563034476</td>\n",
       "    </tr>\n",
       "  </tbody>\n",
       "</table>\n",
       "</div>"
      ],
      "text/plain": [
       "        flux_u       flux_g       flux_r        flux_i        flux_z  \\\n",
       "0  5678.708984  5577.517578  6334.502441   8848.515625  15267.947266   \n",
       "1   146.518021  1341.131714  5984.994629  12850.581055  18818.283203   \n",
       "2   134.074341   272.126617   766.903015   2072.049561   2690.330322   \n",
       "3   932.008118  1224.280762  2598.827148   6678.408691   9719.280273   \n",
       "4    35.554699   104.535225   462.301849   1221.936035   2384.806396   \n",
       "5   577.276917   648.449158   943.125610   2090.335938   2522.676758   \n",
       "6   893.910278   838.389343   976.022888   1568.729858   2002.057739   \n",
       "7   610.097229   828.885193  1807.437744   2516.555664   2857.029785   \n",
       "8   607.974792  1396.323120  2972.822510   3748.653320   4305.629395   \n",
       "9   287.352844   495.052368  1347.424683   1959.870117   2078.425049   \n",
       "\n",
       "         flux_y      mag_u      mag_g      mag_r      mag_i      mag_z  \\\n",
       "0  19116.740234  22.014378  22.033897  21.895718  21.532824  20.940550   \n",
       "1  22972.250000  25.985275  23.581322  21.957340  21.127697  20.713551   \n",
       "2   3052.688965  26.081638  25.313074  24.188148  23.108999  22.825487   \n",
       "3  11019.937500  23.976452  23.680298  22.863056  21.838318  21.430914   \n",
       "4   2966.539062  27.522758  26.351845  24.737686  23.682381  22.956369   \n",
       "5   2646.651123  24.496540  24.370310  23.963577  23.099461  22.895346   \n",
       "6   2065.459961  24.021767  24.091387  23.926352  23.411131  23.146309   \n",
       "7   3111.177246  24.436504  24.103765  23.257341  22.897985  22.760212   \n",
       "8   4791.282715  24.440289  23.537537  22.717077  22.465313  22.314909   \n",
       "9   2199.094727  25.253963  24.663374  23.576241  23.169432  23.105663   \n",
       "\n",
       "       mag_y  truth_type  redshift           id     match_objectId  \\\n",
       "0  20.696468           1  1.050468  10940305839  11975906419540343   \n",
       "1  20.496994           1  0.474819  10937870093  11975906419541206   \n",
       "2  22.688293           1  0.759036  11563663598  11976043858493441   \n",
       "3  21.294554           1  0.808502  10938869183  11976043858493443   \n",
       "4  22.719376           1  0.849298  11564005688  11976043858493737   \n",
       "5  22.843258           1  0.822614  11563831110  11976043858493738   \n",
       "6  23.112459           1  0.929380  11564445231  11976043858493739   \n",
       "7  22.667690           1  0.517864  11562943167  11976043858493740   \n",
       "8  22.198870           1  0.307164  10937620679  11976043858493741   \n",
       "9  23.044392           1  0.572746  11563034476  11976043858493742   \n",
       "\n",
       "   cosmodc2_id    id_string  \n",
       "0  10940305839  10940305839  \n",
       "1  10937870093  10937870093  \n",
       "2  11563663598  11563663598  \n",
       "3  10938869183  10938869183  \n",
       "4  11564005688  11564005688  \n",
       "5  11563831110  11563831110  \n",
       "6  11564445231  11564445231  \n",
       "7  11562943167  11562943167  \n",
       "8  10937620679  10937620679  \n",
       "9  11563034476  11563034476  "
      ]
     },
     "execution_count": 8,
     "metadata": {},
     "output_type": "execute_result"
    }
   ],
   "source": [
    "truth_data.head(10)"
   ]
  },
  {
   "cell_type": "markdown",
   "id": "699e32fc",
   "metadata": {},
   "source": [
    "There is excess information above; we really can just focus on the magnitudes, redshifts, and truth-types. Pere the schema below, `truth_type=1` indicates a galaxy, while `truth_type=2` indicates a star.\n",
    "\n",
    "https://github.com/LSSTDESC/gcr-catalogs/blob/master/GCRCatalogs/SCHEMA.md"
   ]
  },
  {
   "cell_type": "markdown",
   "id": "140dea9d",
   "metadata": {},
   "source": [
    "Similar to the above for SDSS, we want to filter to galaxies only for now to make the problem easier. We also will have no choice but to reduce the size of the dataset. As you see above, 764 million objects is way too many. The file `dc2_truth_galaxies_mini_clean.csv` does performs the following operations on the dataframe above:\n",
    "\n",
    "    -- Clean if necessary (remove rows with negative redshifts, magnitudes, etc.)\n",
    "    -- Filter for only galaxies\n",
    "    -- Consider only a few milllion observations\n",
    "    \n",
    "By investigating the class `RedshiftCSVPriorDC2` in `prior.py`, you can see how this file is used in the DC2 prior. Currently, there is just one copy of this file and not a script to generate it automatically."
   ]
  },
  {
   "cell_type": "markdown",
   "id": "0051ffbf",
   "metadata": {},
   "source": [
    "##### TODO: write additional wrangling scripts to automate the procedure above to produce the desired csv files. Organize all wrangling scripts. "
   ]
  },
  {
   "cell_type": "code",
   "execution_count": 3,
   "id": "b0af0370",
   "metadata": {},
   "outputs": [],
   "source": [
    "dataset_name = 'desc_dc2_run2.2i_dr6_truth'\n",
    "dataset = pd.read_pickle(f'/home/qiaozhih/bliss/data/redshift/dc2/{dataset_name}.pkl')"
   ]
  },
  {
   "cell_type": "code",
   "execution_count": 4,
   "id": "f97a6136",
   "metadata": {},
   "outputs": [
    {
     "data": {
      "text/html": [
       "<div>\n",
       "<style scoped>\n",
       "    .dataframe tbody tr th:only-of-type {\n",
       "        vertical-align: middle;\n",
       "    }\n",
       "\n",
       "    .dataframe tbody tr th {\n",
       "        vertical-align: top;\n",
       "    }\n",
       "\n",
       "    .dataframe thead th {\n",
       "        text-align: right;\n",
       "    }\n",
       "</style>\n",
       "<table border=\"1\" class=\"dataframe\">\n",
       "  <thead>\n",
       "    <tr style=\"text-align: right;\">\n",
       "      <th></th>\n",
       "      <th>mag_u</th>\n",
       "      <th>mag_g</th>\n",
       "      <th>mag_r</th>\n",
       "      <th>mag_i</th>\n",
       "      <th>mag_z</th>\n",
       "      <th>mag_y</th>\n",
       "      <th>redshift</th>\n",
       "    </tr>\n",
       "  </thead>\n",
       "  <tbody>\n",
       "    <tr>\n",
       "      <th>0</th>\n",
       "      <td>22.014378</td>\n",
       "      <td>22.033897</td>\n",
       "      <td>21.895718</td>\n",
       "      <td>21.532824</td>\n",
       "      <td>20.940550</td>\n",
       "      <td>20.696468</td>\n",
       "      <td>1.050468</td>\n",
       "    </tr>\n",
       "    <tr>\n",
       "      <th>1</th>\n",
       "      <td>25.985275</td>\n",
       "      <td>23.581322</td>\n",
       "      <td>21.957340</td>\n",
       "      <td>21.127697</td>\n",
       "      <td>20.713551</td>\n",
       "      <td>20.496994</td>\n",
       "      <td>0.474819</td>\n",
       "    </tr>\n",
       "    <tr>\n",
       "      <th>2</th>\n",
       "      <td>26.081638</td>\n",
       "      <td>25.313074</td>\n",
       "      <td>24.188148</td>\n",
       "      <td>23.108999</td>\n",
       "      <td>22.825487</td>\n",
       "      <td>22.688293</td>\n",
       "      <td>0.759036</td>\n",
       "    </tr>\n",
       "    <tr>\n",
       "      <th>3</th>\n",
       "      <td>23.976452</td>\n",
       "      <td>23.680298</td>\n",
       "      <td>22.863056</td>\n",
       "      <td>21.838318</td>\n",
       "      <td>21.430914</td>\n",
       "      <td>21.294554</td>\n",
       "      <td>0.808502</td>\n",
       "    </tr>\n",
       "    <tr>\n",
       "      <th>4</th>\n",
       "      <td>27.522758</td>\n",
       "      <td>26.351845</td>\n",
       "      <td>24.737686</td>\n",
       "      <td>23.682381</td>\n",
       "      <td>22.956369</td>\n",
       "      <td>22.719376</td>\n",
       "      <td>0.849298</td>\n",
       "    </tr>\n",
       "    <tr>\n",
       "      <th>5</th>\n",
       "      <td>24.496540</td>\n",
       "      <td>24.370310</td>\n",
       "      <td>23.963577</td>\n",
       "      <td>23.099461</td>\n",
       "      <td>22.895346</td>\n",
       "      <td>22.843258</td>\n",
       "      <td>0.822614</td>\n",
       "    </tr>\n",
       "    <tr>\n",
       "      <th>6</th>\n",
       "      <td>24.021767</td>\n",
       "      <td>24.091387</td>\n",
       "      <td>23.926352</td>\n",
       "      <td>23.411131</td>\n",
       "      <td>23.146309</td>\n",
       "      <td>23.112459</td>\n",
       "      <td>0.929380</td>\n",
       "    </tr>\n",
       "    <tr>\n",
       "      <th>7</th>\n",
       "      <td>24.436504</td>\n",
       "      <td>24.103765</td>\n",
       "      <td>23.257341</td>\n",
       "      <td>22.897985</td>\n",
       "      <td>22.760212</td>\n",
       "      <td>22.667690</td>\n",
       "      <td>0.517864</td>\n",
       "    </tr>\n",
       "    <tr>\n",
       "      <th>8</th>\n",
       "      <td>24.440289</td>\n",
       "      <td>23.537537</td>\n",
       "      <td>22.717077</td>\n",
       "      <td>22.465313</td>\n",
       "      <td>22.314909</td>\n",
       "      <td>22.198870</td>\n",
       "      <td>0.307164</td>\n",
       "    </tr>\n",
       "    <tr>\n",
       "      <th>9</th>\n",
       "      <td>25.253963</td>\n",
       "      <td>24.663374</td>\n",
       "      <td>23.576241</td>\n",
       "      <td>23.169432</td>\n",
       "      <td>23.105663</td>\n",
       "      <td>23.044392</td>\n",
       "      <td>0.572746</td>\n",
       "    </tr>\n",
       "  </tbody>\n",
       "</table>\n",
       "</div>"
      ],
      "text/plain": [
       "       mag_u      mag_g      mag_r      mag_i      mag_z      mag_y  redshift\n",
       "0  22.014378  22.033897  21.895718  21.532824  20.940550  20.696468  1.050468\n",
       "1  25.985275  23.581322  21.957340  21.127697  20.713551  20.496994  0.474819\n",
       "2  26.081638  25.313074  24.188148  23.108999  22.825487  22.688293  0.759036\n",
       "3  23.976452  23.680298  22.863056  21.838318  21.430914  21.294554  0.808502\n",
       "4  27.522758  26.351845  24.737686  23.682381  22.956369  22.719376  0.849298\n",
       "5  24.496540  24.370310  23.963577  23.099461  22.895346  22.843258  0.822614\n",
       "6  24.021767  24.091387  23.926352  23.411131  23.146309  23.112459  0.929380\n",
       "7  24.436504  24.103765  23.257341  22.897985  22.760212  22.667690  0.517864\n",
       "8  24.440289  23.537537  22.717077  22.465313  22.314909  22.198870  0.307164\n",
       "9  25.253963  24.663374  23.576241  23.169432  23.105663  23.044392  0.572746"
      ]
     },
     "execution_count": 4,
     "metadata": {},
     "output_type": "execute_result"
    }
   ],
   "source": [
    "dataset.head(10)"
   ]
  },
  {
   "cell_type": "code",
   "execution_count": 19,
   "id": "04c37ed8",
   "metadata": {},
   "outputs": [
    {
     "data": {
      "text/html": [
       "<div>\n",
       "<style scoped>\n",
       "    .dataframe tbody tr th:only-of-type {\n",
       "        vertical-align: middle;\n",
       "    }\n",
       "\n",
       "    .dataframe tbody tr th {\n",
       "        vertical-align: top;\n",
       "    }\n",
       "\n",
       "    .dataframe thead th {\n",
       "        text-align: right;\n",
       "    }\n",
       "</style>\n",
       "<table border=\"1\" class=\"dataframe\">\n",
       "  <thead>\n",
       "    <tr style=\"text-align: right;\">\n",
       "      <th></th>\n",
       "      <th>mag_u</th>\n",
       "      <th>mag_g</th>\n",
       "      <th>mag_r</th>\n",
       "      <th>mag_i</th>\n",
       "      <th>mag_z</th>\n",
       "      <th>mag_y</th>\n",
       "      <th>redshift</th>\n",
       "    </tr>\n",
       "  </thead>\n",
       "  <tbody>\n",
       "  </tbody>\n",
       "</table>\n",
       "</div>"
      ],
      "text/plain": [
       "Empty DataFrame\n",
       "Columns: [mag_u, mag_g, mag_r, mag_i, mag_z, mag_y, redshift]\n",
       "Index: []"
      ]
     },
     "execution_count": 19,
     "metadata": {},
     "output_type": "execute_result"
    }
   ],
   "source": [
    "dataset[dataset.redshift < 0]"
   ]
  },
  {
   "cell_type": "code",
   "execution_count": 5,
   "id": "07eb5d14",
   "metadata": {},
   "outputs": [],
   "source": [
    "dataset_test = dataset[:100]"
   ]
  },
  {
   "cell_type": "code",
   "execution_count": 6,
   "id": "eb8a10d0",
   "metadata": {},
   "outputs": [
    {
     "data": {
      "text/html": [
       "<div>\n",
       "<style scoped>\n",
       "    .dataframe tbody tr th:only-of-type {\n",
       "        vertical-align: middle;\n",
       "    }\n",
       "\n",
       "    .dataframe tbody tr th {\n",
       "        vertical-align: top;\n",
       "    }\n",
       "\n",
       "    .dataframe thead th {\n",
       "        text-align: right;\n",
       "    }\n",
       "</style>\n",
       "<table border=\"1\" class=\"dataframe\">\n",
       "  <thead>\n",
       "    <tr style=\"text-align: right;\">\n",
       "      <th></th>\n",
       "      <th>mag_u</th>\n",
       "      <th>mag_g</th>\n",
       "      <th>mag_r</th>\n",
       "      <th>mag_i</th>\n",
       "      <th>mag_z</th>\n",
       "      <th>mag_y</th>\n",
       "      <th>redshift</th>\n",
       "    </tr>\n",
       "  </thead>\n",
       "  <tbody>\n",
       "    <tr>\n",
       "      <th>0</th>\n",
       "      <td>22.014378</td>\n",
       "      <td>22.033897</td>\n",
       "      <td>21.895718</td>\n",
       "      <td>21.532824</td>\n",
       "      <td>20.940550</td>\n",
       "      <td>20.696468</td>\n",
       "      <td>1.050468</td>\n",
       "    </tr>\n",
       "    <tr>\n",
       "      <th>1</th>\n",
       "      <td>25.985275</td>\n",
       "      <td>23.581322</td>\n",
       "      <td>21.957340</td>\n",
       "      <td>21.127697</td>\n",
       "      <td>20.713551</td>\n",
       "      <td>20.496994</td>\n",
       "      <td>0.474819</td>\n",
       "    </tr>\n",
       "    <tr>\n",
       "      <th>2</th>\n",
       "      <td>26.081638</td>\n",
       "      <td>25.313074</td>\n",
       "      <td>24.188148</td>\n",
       "      <td>23.108999</td>\n",
       "      <td>22.825487</td>\n",
       "      <td>22.688293</td>\n",
       "      <td>0.759036</td>\n",
       "    </tr>\n",
       "    <tr>\n",
       "      <th>3</th>\n",
       "      <td>23.976452</td>\n",
       "      <td>23.680298</td>\n",
       "      <td>22.863056</td>\n",
       "      <td>21.838318</td>\n",
       "      <td>21.430914</td>\n",
       "      <td>21.294554</td>\n",
       "      <td>0.808502</td>\n",
       "    </tr>\n",
       "    <tr>\n",
       "      <th>4</th>\n",
       "      <td>27.522758</td>\n",
       "      <td>26.351845</td>\n",
       "      <td>24.737686</td>\n",
       "      <td>23.682381</td>\n",
       "      <td>22.956369</td>\n",
       "      <td>22.719376</td>\n",
       "      <td>0.849298</td>\n",
       "    </tr>\n",
       "    <tr>\n",
       "      <th>...</th>\n",
       "      <td>...</td>\n",
       "      <td>...</td>\n",
       "      <td>...</td>\n",
       "      <td>...</td>\n",
       "      <td>...</td>\n",
       "      <td>...</td>\n",
       "      <td>...</td>\n",
       "    </tr>\n",
       "    <tr>\n",
       "      <th>95</th>\n",
       "      <td>25.747742</td>\n",
       "      <td>25.446239</td>\n",
       "      <td>24.831236</td>\n",
       "      <td>23.958385</td>\n",
       "      <td>23.872292</td>\n",
       "      <td>23.831142</td>\n",
       "      <td>0.769845</td>\n",
       "    </tr>\n",
       "    <tr>\n",
       "      <th>96</th>\n",
       "      <td>25.492907</td>\n",
       "      <td>24.795624</td>\n",
       "      <td>23.362864</td>\n",
       "      <td>22.307549</td>\n",
       "      <td>21.623981</td>\n",
       "      <td>21.420773</td>\n",
       "      <td>0.910632</td>\n",
       "    </tr>\n",
       "    <tr>\n",
       "      <th>97</th>\n",
       "      <td>24.466492</td>\n",
       "      <td>23.877995</td>\n",
       "      <td>23.155602</td>\n",
       "      <td>22.910280</td>\n",
       "      <td>22.738886</td>\n",
       "      <td>22.609978</td>\n",
       "      <td>0.329320</td>\n",
       "    </tr>\n",
       "    <tr>\n",
       "      <th>98</th>\n",
       "      <td>26.374680</td>\n",
       "      <td>23.893337</td>\n",
       "      <td>22.645502</td>\n",
       "      <td>21.705147</td>\n",
       "      <td>21.280571</td>\n",
       "      <td>21.075308</td>\n",
       "      <td>0.000000</td>\n",
       "    </tr>\n",
       "    <tr>\n",
       "      <th>99</th>\n",
       "      <td>26.139601</td>\n",
       "      <td>23.694553</td>\n",
       "      <td>22.506544</td>\n",
       "      <td>21.280895</td>\n",
       "      <td>20.747913</td>\n",
       "      <td>20.500767</td>\n",
       "      <td>0.000000</td>\n",
       "    </tr>\n",
       "  </tbody>\n",
       "</table>\n",
       "<p>100 rows × 7 columns</p>\n",
       "</div>"
      ],
      "text/plain": [
       "        mag_u      mag_g      mag_r      mag_i      mag_z      mag_y  redshift\n",
       "0   22.014378  22.033897  21.895718  21.532824  20.940550  20.696468  1.050468\n",
       "1   25.985275  23.581322  21.957340  21.127697  20.713551  20.496994  0.474819\n",
       "2   26.081638  25.313074  24.188148  23.108999  22.825487  22.688293  0.759036\n",
       "3   23.976452  23.680298  22.863056  21.838318  21.430914  21.294554  0.808502\n",
       "4   27.522758  26.351845  24.737686  23.682381  22.956369  22.719376  0.849298\n",
       "..        ...        ...        ...        ...        ...        ...       ...\n",
       "95  25.747742  25.446239  24.831236  23.958385  23.872292  23.831142  0.769845\n",
       "96  25.492907  24.795624  23.362864  22.307549  21.623981  21.420773  0.910632\n",
       "97  24.466492  23.877995  23.155602  22.910280  22.738886  22.609978  0.329320\n",
       "98  26.374680  23.893337  22.645502  21.705147  21.280571  21.075308  0.000000\n",
       "99  26.139601  23.694553  22.506544  21.280895  20.747913  20.500767  0.000000\n",
       "\n",
       "[100 rows x 7 columns]"
      ]
     },
     "execution_count": 6,
     "metadata": {},
     "output_type": "execute_result"
    }
   ],
   "source": [
    "dataset_test"
   ]
  },
  {
   "cell_type": "code",
   "execution_count": 9,
   "id": "8deae236",
   "metadata": {},
   "outputs": [],
   "source": [
    "save_path = os.path.join('/home/qiaozhih/bliss/data/redshift/dc2', 'test.pkl')\n",
    "dataset_test.to_pickle(save_path)"
   ]
  },
  {
   "cell_type": "code",
   "execution_count": 13,
   "id": "f566f089",
   "metadata": {},
   "outputs": [],
   "source": [
    "photo_z = dataset_test\n",
    "x = photo_z.values[:,:-1].astype(float)\n",
    "y = photo_z.values[:, -1].astype(float)"
   ]
  },
  {
   "cell_type": "code",
   "execution_count": 14,
   "id": "ea81086b",
   "metadata": {},
   "outputs": [
    {
     "data": {
      "text/plain": [
       "(100, 6)"
      ]
     },
     "execution_count": 14,
     "metadata": {},
     "output_type": "execute_result"
    }
   ],
   "source": [
    "x.shape"
   ]
  },
  {
   "cell_type": "code",
   "execution_count": 15,
   "id": "1de74a29",
   "metadata": {},
   "outputs": [
    {
     "data": {
      "text/plain": [
       "(100,)"
      ]
     },
     "execution_count": 15,
     "metadata": {},
     "output_type": "execute_result"
    }
   ],
   "source": [
    "y.shape"
   ]
  },
  {
   "cell_type": "code",
   "execution_count": null,
   "id": "72f0cd01",
   "metadata": {},
   "outputs": [],
   "source": []
  }
 ],
 "metadata": {
  "kernelspec": {
   "display_name": "Python 3 (ipykernel)",
   "language": "python",
   "name": "python3"
  },
  "language_info": {
   "codemirror_mode": {
    "name": "ipython",
    "version": 3
   },
   "file_extension": ".py",
   "mimetype": "text/x-python",
   "name": "python",
   "nbconvert_exporter": "python",
   "pygments_lexer": "ipython3",
   "version": "3.10.12"
  }
 },
 "nbformat": 4,
 "nbformat_minor": 5
}

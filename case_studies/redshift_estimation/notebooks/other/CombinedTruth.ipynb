{
 "cells": [
  {
   "cell_type": "markdown",
   "id": "5c40ee8a",
   "metadata": {},
   "source": [
    "## Investigating Stars & Galaxies Redshift"
   ]
  },
  {
   "cell_type": "code",
   "execution_count": null,
   "id": "08f7b6a8",
   "metadata": {},
   "outputs": [],
   "source": [
    "import os\n",
    "import math\n",
    "import numpy as np\n",
    "import torch\n",
    "import pandas as pd\n",
    "import GCRCatalogs\n",
    "from GCR import GCRQuery"
   ]
  },
  {
   "cell_type": "code",
   "execution_count": null,
   "id": "06befbeb",
   "metadata": {},
   "outputs": [],
   "source": [
    "# Command line: within virtual environment run \n",
    "# python -m pip install https://github.com/LSSTDESC/gcr-catalogs/archive/v1.4.0.tar.gz#egg=GCRCatalogs[full]"
   ]
  },
  {
   "cell_type": "code",
   "execution_count": null,
   "id": "e4f97dbf",
   "metadata": {},
   "outputs": [],
   "source": [
    "GCRCatalogs.set_root_dir('/nfs/turbo/lsa-regier/')\n",
    "GCRCatalogs.get_root_dir()\n",
    "# need to do this in accordance with instructions at https://data.lsstdesc.org/doc/install_gcr"
   ]
  },
  {
   "cell_type": "code",
   "execution_count": null,
   "id": "edca2c09",
   "metadata": {},
   "outputs": [],
   "source": [
    "# List of public catalog names\n",
    "GCRCatalogs.get_public_catalog_names()"
   ]
  },
  {
   "cell_type": "markdown",
   "id": "57acc682",
   "metadata": {},
   "source": [
    "We're generally going to be interested in the truth files, which we know will have redshift and photometry values for us to use. Let's load a truth file and examine the fields we have available to us. We can explore relevant fields."
   ]
  },
  {
   "cell_type": "code",
   "execution_count": null,
   "id": "ec559992",
   "metadata": {},
   "outputs": [],
   "source": [
    "truth_cat = GCRCatalogs.load_catalog('desc_dc2_run2.2i_dr6_truth')\n",
    "truth_cat.list_all_quantities()"
   ]
  },
  {
   "cell_type": "markdown",
   "id": "363b758f",
   "metadata": {},
   "source": [
    "Jacky found the following link that gives details on some fields: https://github.com/LSSTDESC/gcr-catalogs/blob/master/GCRCatalogs/SCHEMA.md\n",
    "        "
   ]
  },
  {
   "cell_type": "markdown",
   "id": "c7b943fd",
   "metadata": {},
   "source": [
    "In particular, we have that `truth_type==2` corresponds to stars, and `truth_type==1` for galaxies. However, Jacky also found that all stars had zero redshift, which was very strange. Let's investigate.\n",
    "\n",
    "**The cell below will take a few minutes to run.**"
   ]
  },
  {
   "cell_type": "code",
   "execution_count": null,
   "id": "669973bd",
   "metadata": {},
   "outputs": [],
   "source": [
    "data = truth_cat.get_quantities([\"truth_type\", \"redshift\"])"
   ]
  },
  {
   "cell_type": "code",
   "execution_count": null,
   "id": "e5f314e6",
   "metadata": {},
   "outputs": [],
   "source": [
    "only_stars = GCRQuery('truth_type == 2')\n",
    "data_only_stars = only_stars.filter(data)"
   ]
  },
  {
   "cell_type": "code",
   "execution_count": null,
   "id": "50251c6e",
   "metadata": {},
   "outputs": [],
   "source": [
    "data_only_stars.keys()"
   ]
  },
  {
   "cell_type": "code",
   "execution_count": null,
   "id": "f9204ef1",
   "metadata": {},
   "outputs": [],
   "source": [
    "data_only_stars['truth_type'][:10]"
   ]
  },
  {
   "cell_type": "code",
   "execution_count": null,
   "id": "19fbe404",
   "metadata": {},
   "outputs": [],
   "source": [
    "data_only_stars['redshift'].shape"
   ]
  },
  {
   "cell_type": "code",
   "execution_count": null,
   "id": "fa23cddb",
   "metadata": {},
   "outputs": [],
   "source": [
    "(data_only_stars['redshift'] != 0).sum()"
   ]
  },
  {
   "cell_type": "markdown",
   "id": "4ed7a388",
   "metadata": {},
   "source": [
    "Indeed, all stars have redshift zero. "
   ]
  },
  {
   "cell_type": "code",
   "execution_count": null,
   "id": "eece9d0b",
   "metadata": {},
   "outputs": [],
   "source": [
    "(data['redshift'] != 0).sum()"
   ]
  },
  {
   "cell_type": "code",
   "execution_count": null,
   "id": "c55b0322",
   "metadata": {},
   "outputs": [],
   "source": [
    "data['redshift'].shape"
   ]
  },
  {
   "cell_type": "markdown",
   "id": "e771a697",
   "metadata": {},
   "source": [
    "If we investigate the shapes above, it appears that that the data catalog has a total of 764 million objects. Of these, there are about 4 million stars only, and it appears about 5 million objects total with redshift == 0. Clearly the stars comprise these. Let's focus on galaxies instead, we will filter for these."
   ]
  },
  {
   "cell_type": "code",
   "execution_count": null,
   "id": "630f4843",
   "metadata": {},
   "outputs": [],
   "source": [
    "only_galaxies = GCRQuery('truth_type == 1')\n",
    "data_only_galaxies = only_galaxies.filter(data)"
   ]
  },
  {
   "cell_type": "code",
   "execution_count": null,
   "id": "138f81e6",
   "metadata": {},
   "outputs": [],
   "source": [
    "data_only_galaxies['redshift'].shape"
   ]
  },
  {
   "cell_type": "code",
   "execution_count": null,
   "id": "fe4c5f46",
   "metadata": {},
   "outputs": [],
   "source": [
    "(data_only_galaxies['redshift'] != 0).sum()"
   ]
  },
  {
   "cell_type": "markdown",
   "id": "3797b8c0",
   "metadata": {},
   "source": [
    "So contrarily for galaxies, every single redshift is nonzero, which is precisely what we want. Let's extract these galaxies to `.csv` for use in our data simulation process. However, we might as well extract galaxy and other parameters as well in case we want them later on. We will investigate the contents of other catalogs and merge as required."
   ]
  },
  {
   "cell_type": "markdown",
   "id": "8034e7c1",
   "metadata": {},
   "source": [
    "## Merge Catalog (IGNORE THESE CELLS)"
   ]
  },
  {
   "cell_type": "code",
   "execution_count": null,
   "id": "2142dbe5",
   "metadata": {},
   "outputs": [],
   "source": [
    "# A bit wonky with filepaths and where stuff is located\n",
    "GCRCatalogs.set_root_dir('/nfs/turbo/lsa-regier/lsstdesc-public/dc2/')\n",
    "GCRCatalogs.get_root_dir()"
   ]
  },
  {
   "cell_type": "code",
   "execution_count": null,
   "id": "c352b2b8",
   "metadata": {},
   "outputs": [],
   "source": [
    "match_cat = GCRCatalogs.load_catalog('desc_dc2_run2.2i_dr6_object_with_truth_match')"
   ]
  },
  {
   "cell_type": "code",
   "execution_count": null,
   "id": "48467f54",
   "metadata": {},
   "outputs": [],
   "source": [
    "quantities = match_cat.list_all_quantities()"
   ]
  },
  {
   "cell_type": "code",
   "execution_count": null,
   "id": "8bc1bfe7",
   "metadata": {},
   "outputs": [],
   "source": [
    "quantities"
   ]
  },
  {
   "cell_type": "code",
   "execution_count": null,
   "id": "fe23b844",
   "metadata": {},
   "outputs": [],
   "source": [
    "list(filter(lambda k: 'redshift' in k, quantities))"
   ]
  },
  {
   "cell_type": "markdown",
   "id": "2bc88181",
   "metadata": {},
   "source": [
    "I'm unsure what `redshift_truth` is, and how it differs from the `redshift` field in the other catalog. I have reason to believe this is catalog is deprecated b/c it's from v2 rather than v4 of the public releases from GCRCatalogs: https://github.com/LSSTDESC/gcr-catalogs/releases\n",
    "\n",
    "I'm going to ignore this catalog for now. It appears to only really have PSF stuff anyway, which we don't really need for our purposes?"
   ]
  },
  {
   "cell_type": "markdown",
   "id": "bb4ee762",
   "metadata": {},
   "source": [
    "## CosmoDC2 Catalog + Merging With Truth Catalog"
   ]
  },
  {
   "cell_type": "code",
   "execution_count": 1,
   "id": "1cd4643b",
   "metadata": {},
   "outputs": [],
   "source": [
    "import os\n",
    "import math\n",
    "import numpy as np\n",
    "import torch\n",
    "import pandas as pd\n",
    "import GCRCatalogs\n",
    "from GCR import GCRQuery"
   ]
  },
  {
   "cell_type": "code",
   "execution_count": 2,
   "id": "596ad137",
   "metadata": {},
   "outputs": [],
   "source": [
    "# Command line: within virtual environment run \n",
    "# python -m pip install https://github.com/LSSTDESC/gcr-catalogs/archive/v1.4.0.tar.gz#egg=GCRCatalogs[full]"
   ]
  },
  {
   "cell_type": "code",
   "execution_count": 3,
   "id": "0bbe8983",
   "metadata": {},
   "outputs": [
    {
     "data": {
      "text/plain": [
       "'/nfs/turbo/lsa-regier/'"
      ]
     },
     "execution_count": 3,
     "metadata": {},
     "output_type": "execute_result"
    }
   ],
   "source": [
    "GCRCatalogs.set_root_dir('/nfs/turbo/lsa-regier/')\n",
    "GCRCatalogs.get_root_dir()\n",
    "# need to do this in accordance with instructions at https://data.lsstdesc.org/doc/install_gcr"
   ]
  },
  {
   "cell_type": "code",
   "execution_count": 4,
   "id": "c537a3b4",
   "metadata": {},
   "outputs": [
    {
     "data": {
      "text/plain": [
       "['desc_cosmodc2',\n",
       " 'desc_dc2_run2.2i_dr6_object',\n",
       " 'desc_dc2_run2.2i_dr6_object_with_truth_match',\n",
       " 'desc_dc2_run2.2i_dr6_truth',\n",
       " 'desc_dc2_run2.2i_truth_galaxy_summary',\n",
       " 'desc_dc2_run2.2i_truth_sn_summary',\n",
       " 'desc_dc2_run2.2i_truth_sn_variability',\n",
       " 'desc_dc2_run2.2i_truth_star_summary',\n",
       " 'desc_dc2_run2.2i_truth_star_variability']"
      ]
     },
     "execution_count": 4,
     "metadata": {},
     "output_type": "execute_result"
    }
   ],
   "source": [
    "# List of public catalog names\n",
    "GCRCatalogs.get_public_catalog_names()"
   ]
  },
  {
   "cell_type": "markdown",
   "id": "8dbb5fde",
   "metadata": {},
   "source": [
    "We're generally going to be interested in the truth files, which we know will have redshift and photometry values for us to use. Let's load a truth file and examine the fields we have available to us. We can explore relevant fields."
   ]
  },
  {
   "cell_type": "code",
   "execution_count": 5,
   "id": "ae688087",
   "metadata": {},
   "outputs": [
    {
     "data": {
      "text/plain": [
       "['flux_g',\n",
       " 'cosmodc2_hp',\n",
       " 'mag_i',\n",
       " 'patch',\n",
       " 'mag_y',\n",
       " 'flux_u',\n",
       " 'tract',\n",
       " 'dec',\n",
       " 'flux_r',\n",
       " 'av',\n",
       " 'id',\n",
       " 'redshift',\n",
       " 'rv',\n",
       " 'cosmodc2_id',\n",
       " 'ra',\n",
       " 'match_objectId',\n",
       " 'is_unique_truth_entry',\n",
       " 'flux_y',\n",
       " 'mag_g',\n",
       " 'is_nearest_neighbor',\n",
       " 'host_galaxy',\n",
       " 'mag_z',\n",
       " 'is_good_match',\n",
       " 'flux_i',\n",
       " 'truth_type',\n",
       " 'match_sep',\n",
       " 'flux_z',\n",
       " 'mag_r',\n",
       " 'mag_u',\n",
       " 'id_string']"
      ]
     },
     "execution_count": 5,
     "metadata": {},
     "output_type": "execute_result"
    }
   ],
   "source": [
    "truth_cat = GCRCatalogs.load_catalog('desc_dc2_run2.2i_dr6_truth')\n",
    "truth_cat.list_all_quantities()"
   ]
  },
  {
   "cell_type": "markdown",
   "id": "f0b2872a",
   "metadata": {},
   "source": [
    "First let's reload all relevant quantities from the truth catalog we're familiar with.\n",
    "\n",
    "**The cell below will take a long time to run.**"
   ]
  },
  {
   "cell_type": "code",
   "execution_count": 6,
   "id": "650a6ce1",
   "metadata": {},
   "outputs": [
    {
     "name": "stdout",
     "output_type": "stream",
     "text": [
      "Finished flux_u\n",
      "Finished flux_g\n",
      "Finished flux_r\n",
      "Finished flux_i\n",
      "Finished flux_z\n",
      "Finished flux_y\n",
      "Finished mag_u\n",
      "Finished mag_g\n",
      "Finished mag_r\n",
      "Finished mag_i\n",
      "Finished mag_z\n",
      "Finished mag_y\n",
      "Finished truth_type\n",
      "Finished redshift\n",
      "Finished id\n",
      "Finished match_objectId\n",
      "Finished cosmodc2_id\n",
      "Finished id_string\n"
     ]
    }
   ],
   "source": [
    "all_truth_data = {}\n",
    "quantities = [\"flux_u\", \"flux_g\", \"flux_r\", \"flux_i\", \"flux_z\", \"flux_y\",\n",
    "             \"mag_u\", \"mag_g\", \"mag_r\", \"mag_i\", \"mag_z\", \"mag_y\",\n",
    "             \"truth_type\", \"redshift\",\n",
    "             \"id\", \"match_objectId\", \"cosmodc2_id\", \"id_string\"]\n",
    "for q in quantities:\n",
    "    this_field = truth_cat.get_quantities([q])\n",
    "    all_truth_data[q] = this_field[q]\n",
    "    print('Finished {}'.format(q))\n",
    "    "
   ]
  },
  {
   "cell_type": "code",
   "execution_count": 7,
   "id": "0dff9cbc",
   "metadata": {},
   "outputs": [],
   "source": [
    "truth_data = pd.DataFrame(all_truth_data)"
   ]
  },
  {
   "cell_type": "code",
   "execution_count": 8,
   "id": "180c0994",
   "metadata": {},
   "outputs": [
    {
     "data": {
      "text/plain": [
       "(764026213, 18)"
      ]
     },
     "execution_count": 8,
     "metadata": {},
     "output_type": "execute_result"
    }
   ],
   "source": [
    "truth_data.shape"
   ]
  },
  {
   "cell_type": "code",
   "execution_count": 9,
   "id": "a5e264f6",
   "metadata": {},
   "outputs": [
    {
     "data": {
      "text/html": [
       "<div>\n",
       "<style scoped>\n",
       "    .dataframe tbody tr th:only-of-type {\n",
       "        vertical-align: middle;\n",
       "    }\n",
       "\n",
       "    .dataframe tbody tr th {\n",
       "        vertical-align: top;\n",
       "    }\n",
       "\n",
       "    .dataframe thead th {\n",
       "        text-align: right;\n",
       "    }\n",
       "</style>\n",
       "<table border=\"1\" class=\"dataframe\">\n",
       "  <thead>\n",
       "    <tr style=\"text-align: right;\">\n",
       "      <th></th>\n",
       "      <th>flux_u</th>\n",
       "      <th>flux_g</th>\n",
       "      <th>flux_r</th>\n",
       "      <th>flux_i</th>\n",
       "      <th>flux_z</th>\n",
       "      <th>flux_y</th>\n",
       "      <th>mag_u</th>\n",
       "      <th>mag_g</th>\n",
       "      <th>mag_r</th>\n",
       "      <th>mag_i</th>\n",
       "      <th>mag_z</th>\n",
       "      <th>mag_y</th>\n",
       "      <th>truth_type</th>\n",
       "      <th>redshift</th>\n",
       "      <th>id</th>\n",
       "      <th>match_objectId</th>\n",
       "      <th>cosmodc2_id</th>\n",
       "      <th>id_string</th>\n",
       "    </tr>\n",
       "  </thead>\n",
       "  <tbody>\n",
       "    <tr>\n",
       "      <th>0</th>\n",
       "      <td>5678.708984</td>\n",
       "      <td>5577.517578</td>\n",
       "      <td>6334.502441</td>\n",
       "      <td>8848.515625</td>\n",
       "      <td>15267.947266</td>\n",
       "      <td>19116.740234</td>\n",
       "      <td>22.014378</td>\n",
       "      <td>22.033897</td>\n",
       "      <td>21.895718</td>\n",
       "      <td>21.532824</td>\n",
       "      <td>20.940550</td>\n",
       "      <td>20.696468</td>\n",
       "      <td>1</td>\n",
       "      <td>1.050468</td>\n",
       "      <td>10940305839</td>\n",
       "      <td>11975906419540343</td>\n",
       "      <td>10940305839</td>\n",
       "      <td>10940305839</td>\n",
       "    </tr>\n",
       "    <tr>\n",
       "      <th>1</th>\n",
       "      <td>146.518021</td>\n",
       "      <td>1341.131714</td>\n",
       "      <td>5984.994629</td>\n",
       "      <td>12850.581055</td>\n",
       "      <td>18818.283203</td>\n",
       "      <td>22972.250000</td>\n",
       "      <td>25.985275</td>\n",
       "      <td>23.581322</td>\n",
       "      <td>21.957340</td>\n",
       "      <td>21.127697</td>\n",
       "      <td>20.713551</td>\n",
       "      <td>20.496994</td>\n",
       "      <td>1</td>\n",
       "      <td>0.474819</td>\n",
       "      <td>10937870093</td>\n",
       "      <td>11975906419541206</td>\n",
       "      <td>10937870093</td>\n",
       "      <td>10937870093</td>\n",
       "    </tr>\n",
       "    <tr>\n",
       "      <th>2</th>\n",
       "      <td>134.074341</td>\n",
       "      <td>272.126617</td>\n",
       "      <td>766.903015</td>\n",
       "      <td>2072.049561</td>\n",
       "      <td>2690.330322</td>\n",
       "      <td>3052.688965</td>\n",
       "      <td>26.081638</td>\n",
       "      <td>25.313074</td>\n",
       "      <td>24.188148</td>\n",
       "      <td>23.108999</td>\n",
       "      <td>22.825487</td>\n",
       "      <td>22.688293</td>\n",
       "      <td>1</td>\n",
       "      <td>0.759036</td>\n",
       "      <td>11563663598</td>\n",
       "      <td>11976043858493441</td>\n",
       "      <td>11563663598</td>\n",
       "      <td>11563663598</td>\n",
       "    </tr>\n",
       "    <tr>\n",
       "      <th>3</th>\n",
       "      <td>932.008118</td>\n",
       "      <td>1224.280762</td>\n",
       "      <td>2598.827148</td>\n",
       "      <td>6678.408691</td>\n",
       "      <td>9719.280273</td>\n",
       "      <td>11019.937500</td>\n",
       "      <td>23.976452</td>\n",
       "      <td>23.680298</td>\n",
       "      <td>22.863056</td>\n",
       "      <td>21.838318</td>\n",
       "      <td>21.430914</td>\n",
       "      <td>21.294554</td>\n",
       "      <td>1</td>\n",
       "      <td>0.808502</td>\n",
       "      <td>10938869183</td>\n",
       "      <td>11976043858493443</td>\n",
       "      <td>10938869183</td>\n",
       "      <td>10938869183</td>\n",
       "    </tr>\n",
       "    <tr>\n",
       "      <th>4</th>\n",
       "      <td>35.554699</td>\n",
       "      <td>104.535225</td>\n",
       "      <td>462.301849</td>\n",
       "      <td>1221.936035</td>\n",
       "      <td>2384.806396</td>\n",
       "      <td>2966.539062</td>\n",
       "      <td>27.522758</td>\n",
       "      <td>26.351845</td>\n",
       "      <td>24.737686</td>\n",
       "      <td>23.682381</td>\n",
       "      <td>22.956369</td>\n",
       "      <td>22.719376</td>\n",
       "      <td>1</td>\n",
       "      <td>0.849298</td>\n",
       "      <td>11564005688</td>\n",
       "      <td>11976043858493737</td>\n",
       "      <td>11564005688</td>\n",
       "      <td>11564005688</td>\n",
       "    </tr>\n",
       "    <tr>\n",
       "      <th>5</th>\n",
       "      <td>577.276917</td>\n",
       "      <td>648.449158</td>\n",
       "      <td>943.125610</td>\n",
       "      <td>2090.335938</td>\n",
       "      <td>2522.676758</td>\n",
       "      <td>2646.651123</td>\n",
       "      <td>24.496540</td>\n",
       "      <td>24.370310</td>\n",
       "      <td>23.963577</td>\n",
       "      <td>23.099461</td>\n",
       "      <td>22.895346</td>\n",
       "      <td>22.843258</td>\n",
       "      <td>1</td>\n",
       "      <td>0.822614</td>\n",
       "      <td>11563831110</td>\n",
       "      <td>11976043858493738</td>\n",
       "      <td>11563831110</td>\n",
       "      <td>11563831110</td>\n",
       "    </tr>\n",
       "    <tr>\n",
       "      <th>6</th>\n",
       "      <td>893.910278</td>\n",
       "      <td>838.389343</td>\n",
       "      <td>976.022888</td>\n",
       "      <td>1568.729858</td>\n",
       "      <td>2002.057739</td>\n",
       "      <td>2065.459961</td>\n",
       "      <td>24.021767</td>\n",
       "      <td>24.091387</td>\n",
       "      <td>23.926352</td>\n",
       "      <td>23.411131</td>\n",
       "      <td>23.146309</td>\n",
       "      <td>23.112459</td>\n",
       "      <td>1</td>\n",
       "      <td>0.929380</td>\n",
       "      <td>11564445231</td>\n",
       "      <td>11976043858493739</td>\n",
       "      <td>11564445231</td>\n",
       "      <td>11564445231</td>\n",
       "    </tr>\n",
       "    <tr>\n",
       "      <th>7</th>\n",
       "      <td>610.097229</td>\n",
       "      <td>828.885193</td>\n",
       "      <td>1807.437744</td>\n",
       "      <td>2516.555664</td>\n",
       "      <td>2857.029785</td>\n",
       "      <td>3111.177246</td>\n",
       "      <td>24.436504</td>\n",
       "      <td>24.103765</td>\n",
       "      <td>23.257341</td>\n",
       "      <td>22.897985</td>\n",
       "      <td>22.760212</td>\n",
       "      <td>22.667690</td>\n",
       "      <td>1</td>\n",
       "      <td>0.517864</td>\n",
       "      <td>11562943167</td>\n",
       "      <td>11976043858493740</td>\n",
       "      <td>11562943167</td>\n",
       "      <td>11562943167</td>\n",
       "    </tr>\n",
       "    <tr>\n",
       "      <th>8</th>\n",
       "      <td>607.974792</td>\n",
       "      <td>1396.323120</td>\n",
       "      <td>2972.822510</td>\n",
       "      <td>3748.653320</td>\n",
       "      <td>4305.629395</td>\n",
       "      <td>4791.282715</td>\n",
       "      <td>24.440289</td>\n",
       "      <td>23.537537</td>\n",
       "      <td>22.717077</td>\n",
       "      <td>22.465313</td>\n",
       "      <td>22.314909</td>\n",
       "      <td>22.198870</td>\n",
       "      <td>1</td>\n",
       "      <td>0.307164</td>\n",
       "      <td>10937620679</td>\n",
       "      <td>11976043858493741</td>\n",
       "      <td>10937620679</td>\n",
       "      <td>10937620679</td>\n",
       "    </tr>\n",
       "    <tr>\n",
       "      <th>9</th>\n",
       "      <td>287.352844</td>\n",
       "      <td>495.052368</td>\n",
       "      <td>1347.424683</td>\n",
       "      <td>1959.870117</td>\n",
       "      <td>2078.425049</td>\n",
       "      <td>2199.094727</td>\n",
       "      <td>25.253963</td>\n",
       "      <td>24.663374</td>\n",
       "      <td>23.576241</td>\n",
       "      <td>23.169432</td>\n",
       "      <td>23.105663</td>\n",
       "      <td>23.044392</td>\n",
       "      <td>1</td>\n",
       "      <td>0.572746</td>\n",
       "      <td>11563034476</td>\n",
       "      <td>11976043858493742</td>\n",
       "      <td>11563034476</td>\n",
       "      <td>11563034476</td>\n",
       "    </tr>\n",
       "  </tbody>\n",
       "</table>\n",
       "</div>"
      ],
      "text/plain": [
       "        flux_u       flux_g       flux_r        flux_i        flux_z  \\\n",
       "0  5678.708984  5577.517578  6334.502441   8848.515625  15267.947266   \n",
       "1   146.518021  1341.131714  5984.994629  12850.581055  18818.283203   \n",
       "2   134.074341   272.126617   766.903015   2072.049561   2690.330322   \n",
       "3   932.008118  1224.280762  2598.827148   6678.408691   9719.280273   \n",
       "4    35.554699   104.535225   462.301849   1221.936035   2384.806396   \n",
       "5   577.276917   648.449158   943.125610   2090.335938   2522.676758   \n",
       "6   893.910278   838.389343   976.022888   1568.729858   2002.057739   \n",
       "7   610.097229   828.885193  1807.437744   2516.555664   2857.029785   \n",
       "8   607.974792  1396.323120  2972.822510   3748.653320   4305.629395   \n",
       "9   287.352844   495.052368  1347.424683   1959.870117   2078.425049   \n",
       "\n",
       "         flux_y      mag_u      mag_g      mag_r      mag_i      mag_z  \\\n",
       "0  19116.740234  22.014378  22.033897  21.895718  21.532824  20.940550   \n",
       "1  22972.250000  25.985275  23.581322  21.957340  21.127697  20.713551   \n",
       "2   3052.688965  26.081638  25.313074  24.188148  23.108999  22.825487   \n",
       "3  11019.937500  23.976452  23.680298  22.863056  21.838318  21.430914   \n",
       "4   2966.539062  27.522758  26.351845  24.737686  23.682381  22.956369   \n",
       "5   2646.651123  24.496540  24.370310  23.963577  23.099461  22.895346   \n",
       "6   2065.459961  24.021767  24.091387  23.926352  23.411131  23.146309   \n",
       "7   3111.177246  24.436504  24.103765  23.257341  22.897985  22.760212   \n",
       "8   4791.282715  24.440289  23.537537  22.717077  22.465313  22.314909   \n",
       "9   2199.094727  25.253963  24.663374  23.576241  23.169432  23.105663   \n",
       "\n",
       "       mag_y  truth_type  redshift           id     match_objectId  \\\n",
       "0  20.696468           1  1.050468  10940305839  11975906419540343   \n",
       "1  20.496994           1  0.474819  10937870093  11975906419541206   \n",
       "2  22.688293           1  0.759036  11563663598  11976043858493441   \n",
       "3  21.294554           1  0.808502  10938869183  11976043858493443   \n",
       "4  22.719376           1  0.849298  11564005688  11976043858493737   \n",
       "5  22.843258           1  0.822614  11563831110  11976043858493738   \n",
       "6  23.112459           1  0.929380  11564445231  11976043858493739   \n",
       "7  22.667690           1  0.517864  11562943167  11976043858493740   \n",
       "8  22.198870           1  0.307164  10937620679  11976043858493741   \n",
       "9  23.044392           1  0.572746  11563034476  11976043858493742   \n",
       "\n",
       "   cosmodc2_id    id_string  \n",
       "0  10940305839  10940305839  \n",
       "1  10937870093  10937870093  \n",
       "2  11563663598  11563663598  \n",
       "3  10938869183  10938869183  \n",
       "4  11564005688  11564005688  \n",
       "5  11563831110  11563831110  \n",
       "6  11564445231  11564445231  \n",
       "7  11562943167  11562943167  \n",
       "8  10937620679  10937620679  \n",
       "9  11563034476  11563034476  "
      ]
     },
     "execution_count": 9,
     "metadata": {},
     "output_type": "execute_result"
    }
   ],
   "source": [
    "truth_data.head(10)"
   ]
  },
  {
   "cell_type": "code",
   "execution_count": 10,
   "id": "cef56e3c",
   "metadata": {},
   "outputs": [
    {
     "data": {
      "text/plain": [
       "70.290411724"
      ]
     },
     "execution_count": 10,
     "metadata": {},
     "output_type": "execute_result"
    }
   ],
   "source": [
    "truth_data.memory_usage().sum()/1e9 # in GB"
   ]
  },
  {
   "cell_type": "code",
   "execution_count": 11,
   "id": "74bff3e0",
   "metadata": {},
   "outputs": [],
   "source": [
    "truth_data.to_csv('/data/scratch/declan/dc2_truth.csv')"
   ]
  },
  {
   "cell_type": "markdown",
   "id": "8fa85307",
   "metadata": {},
   "source": [
    "The `cosmo` catalog contains cosmological parameter values. It's only concerning galaxies, not stars. Again, more information can be found here: https://github.com/LSSTDESC/gcr-catalogs/blob/master/GCRCatalogs/SCHEMA.md"
   ]
  },
  {
   "cell_type": "code",
   "execution_count": null,
   "id": "d91a88be",
   "metadata": {},
   "outputs": [],
   "source": [
    "GCRCatalogs.set_root_dir('/nfs/turbo/lsa-regier')\n",
    "GCRCatalogs.get_root_dir()"
   ]
  },
  {
   "cell_type": "code",
   "execution_count": null,
   "id": "239d99c5",
   "metadata": {},
   "outputs": [],
   "source": [
    "cosmo_cat = GCRCatalogs.load_catalog('desc_cosmodc2')"
   ]
  },
  {
   "cell_type": "code",
   "execution_count": null,
   "id": "e6d154eb",
   "metadata": {},
   "outputs": [],
   "source": [
    "cosmo_cat.list_all_quantities()"
   ]
  },
  {
   "cell_type": "markdown",
   "id": "b233deb3",
   "metadata": {},
   "source": [
    "There are a lot of parameters here. Following @Xinyue's notebook, I will extract the following galaxy parameters (about shape, i.e. disk and bulge, etc.), and additionally I'll extract: redshift, and all flux magnitudes in all bands. This includes all the different types of fluxes, which we can sort out later. We also extract `galaxy_id` which can be used to merge with our truth table (?)"
   ]
  },
  {
   "cell_type": "code",
   "execution_count": null,
   "id": "7a4ff206",
   "metadata": {},
   "outputs": [],
   "source": [
    "gal_params = [\n",
    "    \"galaxy_id\", \"position_angle_true\", \"size_minor_disk_true\", \n",
    "    \"size_disk_true\", \"size_minor_bulge_true\", \n",
    "    \"size_bulge_true\", \"bulge_to_total_ratio_i\"\n",
    "]"
   ]
  },
  {
   "cell_type": "code",
   "execution_count": null,
   "id": "2266e15d",
   "metadata": {},
   "outputs": [],
   "source": [
    "#mag_fields = list(filter(lambda k: 'mag' in k, cosmo_cat.list_all_quantities()))\n",
    "mag_fields = ['mag_u', 'mag_g', 'mag_r', 'mag_i', 'mag_z', 'mag_y']"
   ]
  },
  {
   "cell_type": "code",
   "execution_count": null,
   "id": "d5838ef0",
   "metadata": {},
   "outputs": [],
   "source": [
    "redshift_fields = list(filter(lambda k: 'redshift' in k, cosmo_cat.list_all_quantities()))"
   ]
  },
  {
   "cell_type": "code",
   "execution_count": null,
   "id": "5af6297b",
   "metadata": {
    "scrolled": true
   },
   "outputs": [],
   "source": [
    "to_extract = gal_params + mag_fields + redshift_fields\n",
    "to_extract"
   ]
  },
  {
   "cell_type": "code",
   "execution_count": null,
   "id": "976c59d2",
   "metadata": {},
   "outputs": [],
   "source": [
    "type(cosmo_cat)"
   ]
  },
  {
   "cell_type": "code",
   "execution_count": null,
   "id": "38d361bf",
   "metadata": {},
   "outputs": [],
   "source": [
    "type(cosmo_cat._file_list)"
   ]
  },
  {
   "cell_type": "markdown",
   "id": "284019cf",
   "metadata": {},
   "source": [
    "The CosmoDC2 Catalog is enormous. It's about 4.6 TB worth of data to load everything. I'm not even sure how many objects it considers. If you investigate the `_file_list` you'll see a list of all the files it loads. Below, I manually edit this list to reduce it to the first `num_files` files. This results in a drastic speedup."
   ]
  },
  {
   "cell_type": "code",
   "execution_count": null,
   "id": "d2901b45",
   "metadata": {},
   "outputs": [],
   "source": [
    "num_files = 7\n",
    "to_keep = list(cosmo_cat._file_list.keys())[:num_files]\n",
    "to_remove = list(cosmo_cat._file_list.keys())[num_files:]"
   ]
  },
  {
   "cell_type": "code",
   "execution_count": null,
   "id": "fc1f6596",
   "metadata": {},
   "outputs": [],
   "source": [
    "for key in to_remove:\n",
    "    if key in cosmo_cat._file_list:\n",
    "        cosmo_cat._file_list.pop(key)"
   ]
  },
  {
   "cell_type": "code",
   "execution_count": null,
   "id": "35a6d874",
   "metadata": {},
   "outputs": [],
   "source": [
    "all_cosmo_data = {}\n",
    "for q in to_extract:\n",
    "    this_field = cosmo_cat.get_quantities([q])\n",
    "    all_cosmo_data[q] = this_field[q]\n",
    "    print('Finished {}'.format(q))"
   ]
  },
  {
   "cell_type": "code",
   "execution_count": null,
   "id": "d6378897",
   "metadata": {},
   "outputs": [],
   "source": [
    "cosmo_data = pd.DataFrame(all_cosmo_data)"
   ]
  },
  {
   "cell_type": "markdown",
   "id": "c07eb64d",
   "metadata": {},
   "source": [
    "The number of objects below can be increased by reading more files above. Currently the file list is restricted to 7 files."
   ]
  },
  {
   "cell_type": "code",
   "execution_count": null,
   "id": "e09cb3ff",
   "metadata": {},
   "outputs": [],
   "source": [
    "cosmo_data.shape"
   ]
  },
  {
   "cell_type": "code",
   "execution_count": null,
   "id": "09ab0fc9",
   "metadata": {},
   "outputs": [],
   "source": [
    "cosmo_data.head(10)"
   ]
  },
  {
   "cell_type": "code",
   "execution_count": null,
   "id": "73b0c41e",
   "metadata": {},
   "outputs": [],
   "source": [
    "ids_in_both = np.intersect1d(np.array(cosmo_data['galaxy_id']), np.array(truth_data['cosmodc2_id']))"
   ]
  },
  {
   "cell_type": "code",
   "execution_count": null,
   "id": "3641d4d1",
   "metadata": {},
   "outputs": [],
   "source": [
    "ids_in_both.shape"
   ]
  },
  {
   "cell_type": "markdown",
   "id": "b4ed85a8",
   "metadata": {},
   "source": [
    "### Let's try to merge the two!\n",
    "\n",
    "We merge the cosmological parameters *into* the truth catalog. This is why below we do a 'left' merge. Following @Xinyue, the field we merge on is called \"cosmodc2_id\" in the truth catalog and just \"galaxy_id\" in the cosmoDC2 catalog."
   ]
  },
  {
   "cell_type": "markdown",
   "id": "1276f6ec",
   "metadata": {},
   "source": [
    "First we filter each to only have `ids_in_both`. This speeds up the merge. We could also have `set_index` on these two but I like seeing how many objects there are."
   ]
  },
  {
   "cell_type": "code",
   "execution_count": null,
   "id": "acf26bab",
   "metadata": {},
   "outputs": [],
   "source": [
    "filtered_cosmo_data = cosmo_data.set_index('galaxy_id').loc[ids_in_both]"
   ]
  },
  {
   "cell_type": "code",
   "execution_count": null,
   "id": "db3bcc0e",
   "metadata": {},
   "outputs": [],
   "source": [
    "filtered_truth_data = truth_data.set_index('cosmodc2_id').loc[ids_in_both]"
   ]
  },
  {
   "cell_type": "code",
   "execution_count": null,
   "id": "91984062",
   "metadata": {},
   "outputs": [],
   "source": [
    "filtered_cosmo_data.shape, filtered_truth_data.shape"
   ]
  },
  {
   "cell_type": "code",
   "execution_count": null,
   "id": "3a397552",
   "metadata": {},
   "outputs": [],
   "source": [
    "combined_df = truth_data.merge(cosmo_data,\n",
    "                               left_index=True, \n",
    "                               right_index=True,\n",
    "                               how = \"inner\")"
   ]
  },
  {
   "cell_type": "code",
   "execution_count": null,
   "id": "54db2e08",
   "metadata": {},
   "outputs": [],
   "source": [
    "combined_df.shape"
   ]
  },
  {
   "cell_type": "code",
   "execution_count": null,
   "id": "94eaf8a7",
   "metadata": {},
   "outputs": [],
   "source": [
    "combined_df.head(10)"
   ]
  },
  {
   "cell_type": "code",
   "execution_count": null,
   "id": "49c96f2b",
   "metadata": {},
   "outputs": [],
   "source": [
    "combined_df.filter(regex='redshift', axis=1).head(20)"
   ]
  },
  {
   "cell_type": "code",
   "execution_count": null,
   "id": "44fe16e8",
   "metadata": {},
   "outputs": [],
   "source": [
    "import matplotlib.pyplot as plt\n",
    "plt.hist(combined_df['redshift_y'].values)"
   ]
  },
  {
   "cell_type": "markdown",
   "id": "5574c35b",
   "metadata": {},
   "source": [
    "Here's link that seems not very useful? https://irsa.ipac.caltech.edu/data/theory/Cosmosims/gator_docs/CosmoDC2_Mock_V1_Catalog.html"
   ]
  },
  {
   "cell_type": "markdown",
   "id": "925a7d0c",
   "metadata": {},
   "source": [
    "Another one: https://nbviewer.org/github/LSSTDESC/DC2-analysis/blob/rendered/tutorials/extragalactic_gcr_redshift_dist.nbconvert.ipynb"
   ]
  },
  {
   "cell_type": "code",
   "execution_count": null,
   "id": "813052e8",
   "metadata": {},
   "outputs": [],
   "source": [
    "combined_df.to_csv('/data/scratch/declan/combined_truth.csv')"
   ]
  },
  {
   "cell_type": "code",
   "execution_count": null,
   "id": "e6dd34fa",
   "metadata": {},
   "outputs": [],
   "source": [
    "combined_df.to_csv('/data/scratch/declan/combined_truth.csv')"
   ]
  },
  {
   "cell_type": "code",
   "execution_count": null,
   "id": "6642259a",
   "metadata": {},
   "outputs": [],
   "source": [
    "combined_df.shape"
   ]
  },
  {
   "cell_type": "code",
   "execution_count": null,
   "id": "6b330d44",
   "metadata": {},
   "outputs": [],
   "source": []
  },
  {
   "cell_type": "markdown",
   "id": "717ba01c",
   "metadata": {},
   "source": [
    "Per Xinyue's work, the match files contain information on the psf and galaxy parameters that are unique to DC2. See discussion at the top of the page here: https://github.com/prob-ml/bliss/blob/dc2_script/case_studies/dc2/DC2_galaxy_psf_params.ipynb\n",
    "\n",
    "These PSF and Galaxy parameters may need to be incorporated into the forward model for BLISS if the goal is inference for DC2 images specifically. Maybe we won't worry about that so much for now, and we will focus on just extracting the relevant fluxes and redshifts. We can add in PSF and galaxy specifics later."
   ]
  },
  {
   "cell_type": "code",
   "execution_count": null,
   "id": "e80da032",
   "metadata": {},
   "outputs": [],
   "source": [
    "# This cell may take a long time to run, about 30-50 minutes for me\n",
    "# We will extract relevant quanitites and save them for later\n",
    "data = truth_cat.get_quantities([\n",
    "    \"id\", \"match_objectId\", \"cosmodc2_id\", \"ra\", \"dec\", \"truth_type\", \n",
    "    \"redshift\", \"flux_g\", \"flux_i\", \"flux_r\", \"flux_u\", \"flux_y\", \"flux_z\"\n",
    "])"
   ]
  },
  {
   "cell_type": "code",
   "execution_count": null,
   "id": "1c7bd593",
   "metadata": {},
   "outputs": [],
   "source": [
    "data['id'].shape"
   ]
  },
  {
   "cell_type": "markdown",
   "id": "7081fd52",
   "metadata": {},
   "source": [
    "There are 764 million+ objects. We can get more meta-info by doing the below. See https://yymao.github.io/generic-catalog-reader/#GCR.BaseGenericCatalog.get_quantities for more documentation."
   ]
  },
  {
   "cell_type": "code",
   "execution_count": null,
   "id": "ab5f55e2",
   "metadata": {},
   "outputs": [],
   "source": [
    "truth_cat.get_catalog_info()"
   ]
  },
  {
   "cell_type": "markdown",
   "id": "5690beb8",
   "metadata": {},
   "source": [
    "We may want to filter down some of these. For example, to start, maybe we should only consider redshifts between 0 and 1 and aim to infer these to a reasonably high degree of accuracy. These probably just iterate through the data, so this cell also may take a long time. Following the example here: https://github.com/LSSTDESC/gcr-catalogs/blob/master/examples/GCRCatalogs%20Demo.ipynb"
   ]
  },
  {
   "cell_type": "code",
   "execution_count": null,
   "id": "e70ddb27",
   "metadata": {},
   "outputs": [],
   "source": [
    "from GCR import GCRQuery\n",
    "\n",
    "# Let's choose a small RA and Dec range to do the matching so that it won't take too long!\n",
    "ra_min, ra_max = 55.5, 56.0\n",
    "dec_min, dec_max = -29.0, -28.5\n",
    "redshift_min, redshift_max = 0.0, 1.0\n",
    "\n",
    "coord_cut = GCRQuery(\n",
    "    'ra >= {}'.format(ra_min),\n",
    "    'ra < {}'.format(ra_max),\n",
    "    'dec >= {}'.format(dec_min),\n",
    "    'dec < {}'.format(dec_max),\n",
    ")\n",
    "\n",
    "redshift_cut = GCRQuery(\n",
    "    'redshift >= {}'.format(redshift_min),\n",
    "    'redshift < {}'.format(redshift_max),\n",
    ")\n",
    "\n",
    "magnitude_filters = GCRQuery(\n",
    "    (np.isfinite, 'flux_i'),\n",
    "    'flux_i > 1e3',\n",
    ")\n",
    "\n",
    "data_subset = (coord_cut & magnitude_filters & redshift_cut).filter(data)"
   ]
  },
  {
   "cell_type": "code",
   "execution_count": null,
   "id": "c48eec6c",
   "metadata": {},
   "outputs": [],
   "source": [
    "data_subset['id'].shape"
   ]
  },
  {
   "cell_type": "markdown",
   "id": "b051c2cf",
   "metadata": {},
   "source": [
    "This is a very restrictive cut due to the ra and dec ranges specified, just for example. We will not need such cuts, but may add some cuts on flux or magnitude, for example."
   ]
  },
  {
   "cell_type": "code",
   "execution_count": null,
   "id": "12017b6e",
   "metadata": {},
   "outputs": [],
   "source": []
  }
 ],
 "metadata": {
  "kernelspec": {
   "display_name": "Python 3 (ipykernel)",
   "language": "python",
   "name": "python3"
  },
  "language_info": {
   "codemirror_mode": {
    "name": "ipython",
    "version": 3
   },
   "file_extension": ".py",
   "mimetype": "text/x-python",
   "name": "python",
   "nbconvert_exporter": "python",
   "pygments_lexer": "ipython3",
   "version": "3.10.12"
  }
 },
 "nbformat": 4,
 "nbformat_minor": 5
}

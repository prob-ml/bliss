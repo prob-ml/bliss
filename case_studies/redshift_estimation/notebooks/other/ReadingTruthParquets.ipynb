{
 "cells": [
  {
   "cell_type": "code",
   "execution_count": 1,
   "id": "08f7b6a8",
   "metadata": {},
   "outputs": [],
   "source": [
    "import os\n",
    "import math\n",
    "import numpy as np\n",
    "import torch\n",
    "import pandas as pd"
   ]
  },
  {
   "cell_type": "code",
   "execution_count": 2,
   "id": "06befbeb",
   "metadata": {},
   "outputs": [],
   "source": [
    "import GCRCatalogs\n",
    "# Command line: within virtual environment run \n",
    "# python -m pip install https://github.com/LSSTDESC/gcr-catalogs/archive/v1.4.0.tar.gz#egg=GCRCatalogs[full]"
   ]
  },
  {
   "cell_type": "code",
   "execution_count": 3,
   "id": "e4f97dbf",
   "metadata": {},
   "outputs": [
    {
     "data": {
      "text/plain": [
       "'/nfs/turbo/lsa-regier/'"
      ]
     },
     "execution_count": 3,
     "metadata": {},
     "output_type": "execute_result"
    }
   ],
   "source": [
    "GCRCatalogs.set_root_dir('/nfs/turbo/lsa-regier/')\n",
    "GCRCatalogs.get_root_dir()\n",
    "# need to do this in accordance with instructions at https://data.lsstdesc.org/doc/install_gcr"
   ]
  },
  {
   "cell_type": "code",
   "execution_count": 4,
   "id": "edca2c09",
   "metadata": {},
   "outputs": [
    {
     "data": {
      "text/plain": [
       "['desc_cosmodc2',\n",
       " 'desc_dc2_run2.2i_dr6_object',\n",
       " 'desc_dc2_run2.2i_dr6_object_with_truth_match',\n",
       " 'desc_dc2_run2.2i_dr6_truth',\n",
       " 'desc_dc2_run2.2i_truth_galaxy_summary',\n",
       " 'desc_dc2_run2.2i_truth_sn_summary',\n",
       " 'desc_dc2_run2.2i_truth_sn_variability',\n",
       " 'desc_dc2_run2.2i_truth_star_summary',\n",
       " 'desc_dc2_run2.2i_truth_star_variability']"
      ]
     },
     "execution_count": 4,
     "metadata": {},
     "output_type": "execute_result"
    }
   ],
   "source": [
    "# List of public catalog names\n",
    "GCRCatalogs.get_public_catalog_names()"
   ]
  },
  {
   "cell_type": "markdown",
   "id": "57acc682",
   "metadata": {},
   "source": [
    "We're generally going to be interested in the truth files, which we know will have redshift and photometry values for us to use. Unsure right now whether we want `truth` or `_with_truth_match`. Evidently, the truth match files contain information from the object files as well. We can explore relevant fields."
   ]
  },
  {
   "cell_type": "code",
   "execution_count": 5,
   "id": "ec559992",
   "metadata": {},
   "outputs": [
    {
     "data": {
      "text/plain": [
       "['flux_r',\n",
       " 'flux_z',\n",
       " 'mag_y',\n",
       " 'host_galaxy',\n",
       " 'av',\n",
       " 'match_sep',\n",
       " 'mag_z',\n",
       " 'flux_u',\n",
       " 'is_unique_truth_entry',\n",
       " 'ra',\n",
       " 'match_objectId',\n",
       " 'rv',\n",
       " 'mag_i',\n",
       " 'is_nearest_neighbor',\n",
       " 'cosmodc2_hp',\n",
       " 'flux_y',\n",
       " 'cosmodc2_id',\n",
       " 'id',\n",
       " 'patch',\n",
       " 'mag_r',\n",
       " 'flux_i',\n",
       " 'id_string',\n",
       " 'truth_type',\n",
       " 'dec',\n",
       " 'redshift',\n",
       " 'mag_g',\n",
       " 'flux_g',\n",
       " 'tract',\n",
       " 'mag_u',\n",
       " 'is_good_match']"
      ]
     },
     "execution_count": 5,
     "metadata": {},
     "output_type": "execute_result"
    }
   ],
   "source": [
    "truth_cat = GCRCatalogs.load_catalog('desc_dc2_run2.2i_dr6_truth')\n",
    "truth_cat.list_all_quantities()"
   ]
  },
  {
   "cell_type": "markdown",
   "id": "717ba01c",
   "metadata": {},
   "source": [
    "Per Xinyue's work, the match files contain information on the psf and galaxy parameters that are unique to DC2. See discussion at the top of the page here: https://github.com/prob-ml/bliss/blob/dc2_script/case_studies/dc2/DC2_galaxy_psf_params.ipynb\n",
    "\n",
    "These PSF and Galaxy parameters may need to be incorporated into the forward model for BLISS if the goal is inference for DC2 images specifically. Maybe we won't worry about that so much for now, and we will focus on just extracting the relevant fluxes and redshifts. We can add in PSF and galaxy specifics later."
   ]
  },
  {
   "cell_type": "code",
   "execution_count": 6,
   "id": "e80da032",
   "metadata": {},
   "outputs": [],
   "source": [
    "# This cell may take a long time to run, about 30-50 minutes for me\n",
    "# We will extract relevant quanitites and save them for later\n",
    "data = truth_cat.get_quantities([\n",
    "    \"id\", \"match_objectId\", \"cosmodc2_id\", \"ra\", \"dec\", \"truth_type\", \n",
    "    \"redshift\", \"flux_g\", \"flux_i\", \"flux_r\", \"flux_u\", \"flux_y\", \"flux_z\"\n",
    "])"
   ]
  },
  {
   "cell_type": "code",
   "execution_count": 7,
   "id": "1c7bd593",
   "metadata": {},
   "outputs": [
    {
     "data": {
      "text/plain": [
       "(764026213,)"
      ]
     },
     "execution_count": 7,
     "metadata": {},
     "output_type": "execute_result"
    }
   ],
   "source": [
    "data['id'].shape"
   ]
  },
  {
   "cell_type": "markdown",
   "id": "7081fd52",
   "metadata": {},
   "source": [
    "There are 764 million+ objects. We can get more meta-info by doing the below. See https://yymao.github.io/generic-catalog-reader/#GCR.BaseGenericCatalog.get_quantities for more documentation."
   ]
  },
  {
   "cell_type": "code",
   "execution_count": 8,
   "id": "ab5f55e2",
   "metadata": {},
   "outputs": [
    {
     "data": {
      "text/plain": [
       "{'subclass_name': 'dc2_truth_match.DC2TruthMatchCatalog',\n",
       " 'base_dir': '/nfs/turbo/lsa-regier/lsstdesc-public/dc2/run2.2i-dr6-v4/truth_match',\n",
       " 'filename_pattern': 'truth_tract\\\\d+.parquet$',\n",
       " 'as_truth_table': True,\n",
       " 'description': 'DESC DC2 (Run2.2i) DR6 Truth Table for the Public Release v4',\n",
       " 'creators': 'Rubin LSST DESC DC2 Team',\n",
       " 'public_release': ['v4']}"
      ]
     },
     "execution_count": 8,
     "metadata": {},
     "output_type": "execute_result"
    }
   ],
   "source": [
    "truth_cat.get_catalog_info()"
   ]
  },
  {
   "cell_type": "markdown",
   "id": "5690beb8",
   "metadata": {},
   "source": [
    "We may want to filter down some of these. For example, to start, maybe we should only consider redshifts between 0 and 1 and aim to infer these to a reasonably high degree of accuracy. These probably just iterate through the data, so this cell also may take a long time. Following the example here: https://github.com/LSSTDESC/gcr-catalogs/blob/master/examples/GCRCatalogs%20Demo.ipynb"
   ]
  },
  {
   "cell_type": "code",
   "execution_count": 9,
   "id": "e70ddb27",
   "metadata": {},
   "outputs": [],
   "source": [
    "from GCR import GCRQuery\n",
    "\n",
    "# Let's choose a small RA and Dec range to do the matching so that it won't take too long!\n",
    "ra_min, ra_max = 55.5, 56.0\n",
    "dec_min, dec_max = -29.0, -28.5\n",
    "redshift_min, redshift_max = 0.0, 1.0\n",
    "\n",
    "coord_cut = GCRQuery(\n",
    "    'ra >= {}'.format(ra_min),\n",
    "    'ra < {}'.format(ra_max),\n",
    "    'dec >= {}'.format(dec_min),\n",
    "    'dec < {}'.format(dec_max),\n",
    ")\n",
    "\n",
    "redshift_cut = GCRQuery(\n",
    "    'redshift >= {}'.format(redshift_min),\n",
    "    'redshift < {}'.format(redshift_max),\n",
    ")\n",
    "\n",
    "magnitude_filters = GCRQuery(\n",
    "    (np.isfinite, 'flux_i'),\n",
    "    'flux_i > 1e3',\n",
    ")\n",
    "\n",
    "data_subset = (coord_cut & magnitude_filters & redshift_cut).filter(data)"
   ]
  },
  {
   "cell_type": "code",
   "execution_count": 10,
   "id": "c48eec6c",
   "metadata": {},
   "outputs": [
    {
     "data": {
      "text/plain": [
       "(13185,)"
      ]
     },
     "execution_count": 10,
     "metadata": {},
     "output_type": "execute_result"
    }
   ],
   "source": [
    "data_subset['id'].shape"
   ]
  },
  {
   "cell_type": "markdown",
   "id": "b051c2cf",
   "metadata": {},
   "source": [
    "This is a very restrictive cut due to the ra and dec ranges specified, just for example. We will not need such cuts, but may add some cuts on flux or magnitude, for example."
   ]
  },
  {
   "cell_type": "code",
   "execution_count": null,
   "id": "12017b6e",
   "metadata": {},
   "outputs": [],
   "source": []
  }
 ],
 "metadata": {
  "kernelspec": {
   "display_name": "Python 3 (ipykernel)",
   "language": "python",
   "name": "python3"
  },
  "language_info": {
   "codemirror_mode": {
    "name": "ipython",
    "version": 3
   },
   "file_extension": ".py",
   "mimetype": "text/x-python",
   "name": "python",
   "nbconvert_exporter": "python",
   "pygments_lexer": "ipython3",
   "version": "3.10.12"
  }
 },
 "nbformat": 4,
 "nbformat_minor": 5
}

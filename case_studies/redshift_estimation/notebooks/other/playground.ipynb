{
 "cells": [
  {
   "cell_type": "markdown",
   "id": "8d019302",
   "metadata": {},
   "source": [
    "### Generating images from RedshiftTileCatalog, working with VariationalDist and VariationalDistSpec Objects"
   ]
  },
  {
   "cell_type": "code",
   "execution_count": null,
   "id": "2fd4a829",
   "metadata": {},
   "outputs": [],
   "source": [
    "import sys\n",
    "import os\n",
    "\n",
    "os.getcwd()\n",
    "\n",
    "os.chdir('/home/declan/current/bliss')\n",
    "\n",
    "from bliss.encoder.variational_dist import VariationalDistSpec, VariationalDist\n",
    "from bliss.encoder.unconstrained_dists import UnconstrainedNormal\n",
    "import torch\n",
    "import numpy as np\n",
    "from os import environ\n",
    "from pathlib import Path\n",
    "from hydra import initialize, compose\n",
    "from hydra.utils import instantiate\n",
    "import matplotlib.pyplot as plt\n",
    "from omegaconf import DictConfig, OmegaConf\n",
    "from bliss.catalog import TileCatalog\n",
    "\n",
    "environ[\"BLISS_HOME\"] = \"/home/declan/current/bliss\"\n",
    "with initialize(config_path=\".\", version_base=None):\n",
    "    cfg = compose(\"redshift\", overrides={\"surveys.sdss.load_image_data=true\"})\n"
   ]
  },
  {
   "cell_type": "code",
   "execution_count": null,
   "id": "8290b4e3",
   "metadata": {},
   "outputs": [],
   "source": [
    "simulator = instantiate(cfg.simulator)"
   ]
  },
  {
   "cell_type": "code",
   "execution_count": null,
   "id": "dbb48659",
   "metadata": {},
   "outputs": [],
   "source": [
    "type(simulator)"
   ]
  },
  {
   "cell_type": "code",
   "execution_count": null,
   "id": "3d066f48",
   "metadata": {},
   "outputs": [],
   "source": [
    "prior = simulator.catalog_prior"
   ]
  },
  {
   "cell_type": "code",
   "execution_count": null,
   "id": "0b70b191",
   "metadata": {},
   "outputs": [],
   "source": [
    "prior"
   ]
  },
  {
   "cell_type": "code",
   "execution_count": null,
   "id": "3263c59e",
   "metadata": {},
   "outputs": [],
   "source": [
    "yo = simulator.catalog_prior.sample()"
   ]
  },
  {
   "cell_type": "code",
   "execution_count": null,
   "id": "d1a8daf6",
   "metadata": {},
   "outputs": [],
   "source": [
    "yo"
   ]
  },
  {
   "cell_type": "code",
   "execution_count": null,
   "id": "598cbec4",
   "metadata": {},
   "outputs": [],
   "source": [
    "vars(yo).keys()"
   ]
  },
  {
   "cell_type": "code",
   "execution_count": null,
   "id": "6bf003a7",
   "metadata": {},
   "outputs": [],
   "source": [
    "yo['data'].keys()"
   ]
  },
  {
   "cell_type": "markdown",
   "id": "19269d4f",
   "metadata": {},
   "source": [
    "Let's try to generate actual data using a RedshiftTileCatalog. All we have to do (for now) is plug in to the existing infrastructure and ignore `RedshiftTileCatalog.redshifts`."
   ]
  },
  {
   "cell_type": "code",
   "execution_count": null,
   "id": "7986d28d",
   "metadata": {},
   "outputs": [],
   "source": [
    "cfg.generate"
   ]
  },
  {
   "cell_type": "code",
   "execution_count": null,
   "id": "08f7ef6a",
   "metadata": {},
   "outputs": [],
   "source": [
    "cfg.paths.data"
   ]
  },
  {
   "cell_type": "code",
   "execution_count": null,
   "id": "d8c9dd9e",
   "metadata": {},
   "outputs": [],
   "source": [
    "simulated_dataset = instantiate(cfg.simulator, num_workers=0)\n",
    "test_batch = simulated_dataset.get_batch()"
   ]
  },
  {
   "cell_type": "code",
   "execution_count": null,
   "id": "d74a6155",
   "metadata": {},
   "outputs": [],
   "source": [
    "test_batch.keys()"
   ]
  },
  {
   "cell_type": "code",
   "execution_count": null,
   "id": "e8422793",
   "metadata": {},
   "outputs": [],
   "source": [
    "test_batch['tile_catalog'].keys()"
   ]
  },
  {
   "cell_type": "code",
   "execution_count": null,
   "id": "499158f2",
   "metadata": {},
   "outputs": [],
   "source": [
    "test_batch['tile_catalog']['redshifts'].shape"
   ]
  },
  {
   "cell_type": "markdown",
   "id": "c56b2588",
   "metadata": {},
   "source": [
    "### TODO: Change shape of redshifts (what should they be)?\n",
    "### TODO: Make redshifts an attribute of RedshiftTileCatalog (currently hidden in .data)"
   ]
  },
  {
   "cell_type": "markdown",
   "id": "25658787",
   "metadata": {},
   "source": [
    "# Playing Around With VarDist and VarDistSpec"
   ]
  },
  {
   "cell_type": "code",
   "execution_count": 1,
   "id": "774b89df",
   "metadata": {},
   "outputs": [],
   "source": [
    "import sys\n",
    "import os\n",
    "\n",
    "os.getcwd()\n",
    "\n",
    "os.chdir('/home/declan/current/bliss')\n",
    "\n",
    "from bliss.encoder.variational_dist import VariationalDistSpec, VariationalDist\n",
    "from bliss.encoder.unconstrained_dists import UnconstrainedNormal\n",
    "import torch\n",
    "import numpy as np\n",
    "from os import environ\n",
    "from pathlib import Path\n",
    "from hydra import initialize, compose\n",
    "from hydra.utils import instantiate\n",
    "import matplotlib.pyplot as plt\n",
    "from omegaconf import DictConfig, OmegaConf\n",
    "from bliss.catalog import TileCatalog\n",
    "\n",
    "environ[\"BLISS_HOME\"] = \"/home/declan/current/bliss\"\n",
    "with initialize(config_path=\".\", version_base=None):\n",
    "    cfg = compose(\"non_redshift\", overrides={\"surveys.sdss.load_image_data=true\"})"
   ]
  },
  {
   "cell_type": "code",
   "execution_count": 5,
   "id": "bf56d51c",
   "metadata": {},
   "outputs": [],
   "source": [
    "simulator = instantiate(cfg.simulator)"
   ]
  },
  {
   "cell_type": "code",
   "execution_count": 6,
   "id": "bfab1c97",
   "metadata": {},
   "outputs": [
    {
     "data": {
      "text/plain": [
       "bliss.simulator.simulated_dataset.SimulatedDataset"
      ]
     },
     "execution_count": 6,
     "metadata": {},
     "output_type": "execute_result"
    }
   ],
   "source": [
    "type(simulator)"
   ]
  },
  {
   "cell_type": "code",
   "execution_count": 7,
   "id": "2a5a1990",
   "metadata": {},
   "outputs": [],
   "source": [
    "test_batch = simulator.get_batch()"
   ]
  },
  {
   "cell_type": "code",
   "execution_count": 8,
   "id": "83c9732a",
   "metadata": {},
   "outputs": [],
   "source": [
    "from bliss.encoder.variational_dist import VariationalDist, VariationalDistSpec"
   ]
  },
  {
   "cell_type": "code",
   "execution_count": 9,
   "id": "4ebb326b",
   "metadata": {},
   "outputs": [
    {
     "data": {
      "text/plain": [
       "dict_keys(['tile_catalog', 'images', 'background', 'deconvolution', 'psf_params'])"
      ]
     },
     "execution_count": 9,
     "metadata": {},
     "output_type": "execute_result"
    }
   ],
   "source": [
    "test_batch.keys()"
   ]
  },
  {
   "cell_type": "code",
   "execution_count": 10,
   "id": "60721a64",
   "metadata": {},
   "outputs": [
    {
     "data": {
      "text/plain": [
       "dict_keys(['locs', 'n_sources', 'source_type', 'galaxy_fluxes', 'galaxy_params', 'star_fluxes'])"
      ]
     },
     "execution_count": 10,
     "metadata": {},
     "output_type": "execute_result"
    }
   ],
   "source": [
    "test_batch['tile_catalog'].keys()"
   ]
  },
  {
   "cell_type": "code",
   "execution_count": 11,
   "id": "ad66f860",
   "metadata": {},
   "outputs": [
    {
     "data": {
      "text/plain": [
       "torch.Size([64, 5, 80, 80])"
      ]
     },
     "execution_count": 11,
     "metadata": {},
     "output_type": "execute_result"
    }
   ],
   "source": [
    "test_batch['images'].shape"
   ]
  },
  {
   "cell_type": "code",
   "execution_count": 12,
   "id": "d1893a3a",
   "metadata": {},
   "outputs": [],
   "source": [
    "vds = VariationalDistSpec(cfg.prior.survey_bands, cfg.prior.tile_slen)"
   ]
  },
  {
   "cell_type": "code",
   "execution_count": 13,
   "id": "2da91014",
   "metadata": {},
   "outputs": [
    {
     "ename": "RuntimeError",
     "evalue": "split_with_sizes expects split_sizes to sum exactly to 80 (input tensor's size at dimension 3), but got split_sizes=[1, 4, 1, 2, 2, 2, 2, 2, 2, 2, 2, 2, 2, 2, 2, 2, 2, 2, 2]",
     "output_type": "error",
     "traceback": [
      "\u001b[0;31m---------------------------------------------------------------------------\u001b[0m",
      "\u001b[0;31mRuntimeError\u001b[0m                              Traceback (most recent call last)",
      "Cell \u001b[0;32mIn[13], line 1\u001b[0m\n\u001b[0;32m----> 1\u001b[0m vd \u001b[38;5;241m=\u001b[39m \u001b[43mvds\u001b[49m\u001b[38;5;241;43m.\u001b[39;49m\u001b[43mmake_dist\u001b[49m\u001b[43m(\u001b[49m\u001b[43mtest_batch\u001b[49m\u001b[43m[\u001b[49m\u001b[38;5;124;43m'\u001b[39;49m\u001b[38;5;124;43mimages\u001b[39;49m\u001b[38;5;124;43m'\u001b[39;49m\u001b[43m]\u001b[49m\u001b[43m)\u001b[49m\n",
      "File \u001b[0;32m~/current/bliss/bliss/encoder/variational_dist.py:55\u001b[0m, in \u001b[0;36mVariationalDistSpec.make_dist\u001b[0;34m(self, x_cat)\u001b[0m\n\u001b[1;32m     52\u001b[0m \u001b[38;5;28;01mdef\u001b[39;00m \u001b[38;5;21mmake_dist\u001b[39m(\u001b[38;5;28mself\u001b[39m, x_cat):\n\u001b[1;32m     53\u001b[0m     \u001b[38;5;66;03m# override this method to instantiate a subclass of VariationalGrid, e.g.,\u001b[39;00m\n\u001b[1;32m     54\u001b[0m     \u001b[38;5;66;03m# one with additional distribution parameter groups\u001b[39;00m\n\u001b[0;32m---> 55\u001b[0m     factors \u001b[38;5;241m=\u001b[39m \u001b[38;5;28;43mself\u001b[39;49m\u001b[38;5;241;43m.\u001b[39;49m\u001b[43m_parse_factors\u001b[49m\u001b[43m(\u001b[49m\u001b[43mx_cat\u001b[49m\u001b[43m)\u001b[49m\n\u001b[1;32m     56\u001b[0m     \u001b[38;5;28;01mreturn\u001b[39;00m VariationalDist(factors, \u001b[38;5;28mself\u001b[39m\u001b[38;5;241m.\u001b[39msurvey_bands, \u001b[38;5;28mself\u001b[39m\u001b[38;5;241m.\u001b[39mtile_slen)\n",
      "File \u001b[0;32m~/current/bliss/bliss/encoder/variational_dist.py:43\u001b[0m, in \u001b[0;36mVariationalDistSpec._parse_factors\u001b[0;34m(self, x_cat)\u001b[0m\n\u001b[1;32m     41\u001b[0m \u001b[38;5;28;01mdef\u001b[39;00m \u001b[38;5;21m_parse_factors\u001b[39m(\u001b[38;5;28mself\u001b[39m, x_cat):\n\u001b[1;32m     42\u001b[0m     split_sizes \u001b[38;5;241m=\u001b[39m [v\u001b[38;5;241m.\u001b[39mdim \u001b[38;5;28;01mfor\u001b[39;00m v \u001b[38;5;129;01min\u001b[39;00m \u001b[38;5;28mself\u001b[39m\u001b[38;5;241m.\u001b[39mfactor_specs\u001b[38;5;241m.\u001b[39mvalues()]\n\u001b[0;32m---> 43\u001b[0m     dist_params_split \u001b[38;5;241m=\u001b[39m \u001b[43mtorch\u001b[49m\u001b[38;5;241;43m.\u001b[39;49m\u001b[43msplit\u001b[49m\u001b[43m(\u001b[49m\u001b[43mx_cat\u001b[49m\u001b[43m,\u001b[49m\u001b[43m \u001b[49m\u001b[43msplit_sizes\u001b[49m\u001b[43m,\u001b[49m\u001b[43m \u001b[49m\u001b[38;5;241;43m3\u001b[39;49m\u001b[43m)\u001b[49m\n\u001b[1;32m     44\u001b[0m     names \u001b[38;5;241m=\u001b[39m \u001b[38;5;28mself\u001b[39m\u001b[38;5;241m.\u001b[39mfactor_specs\u001b[38;5;241m.\u001b[39mkeys()\n\u001b[1;32m     45\u001b[0m     factors \u001b[38;5;241m=\u001b[39m \u001b[38;5;28mdict\u001b[39m(\u001b[38;5;28mzip\u001b[39m(names, dist_params_split))\n",
      "File \u001b[0;32m~/current/bliss/.venv/lib/python3.10/site-packages/torch/functional.py:189\u001b[0m, in \u001b[0;36msplit\u001b[0;34m(tensor, split_size_or_sections, dim)\u001b[0m\n\u001b[1;32m    183\u001b[0m     \u001b[38;5;28;01mreturn\u001b[39;00m handle_torch_function(\n\u001b[1;32m    184\u001b[0m         split, (tensor,), tensor, split_size_or_sections, dim\u001b[38;5;241m=\u001b[39mdim)\n\u001b[1;32m    185\u001b[0m \u001b[38;5;66;03m# Overwriting reason:\u001b[39;00m\n\u001b[1;32m    186\u001b[0m \u001b[38;5;66;03m# This dispatches to two ATen functions depending on the type of\u001b[39;00m\n\u001b[1;32m    187\u001b[0m \u001b[38;5;66;03m# split_size_or_sections. The branching code is in _tensor.py, which we\u001b[39;00m\n\u001b[1;32m    188\u001b[0m \u001b[38;5;66;03m# call here.\u001b[39;00m\n\u001b[0;32m--> 189\u001b[0m \u001b[38;5;28;01mreturn\u001b[39;00m \u001b[43mtensor\u001b[49m\u001b[38;5;241;43m.\u001b[39;49m\u001b[43msplit\u001b[49m\u001b[43m(\u001b[49m\u001b[43msplit_size_or_sections\u001b[49m\u001b[43m,\u001b[49m\u001b[43m \u001b[49m\u001b[43mdim\u001b[49m\u001b[43m)\u001b[49m\n",
      "File \u001b[0;32m~/current/bliss/.venv/lib/python3.10/site-packages/torch/_tensor.py:803\u001b[0m, in \u001b[0;36mTensor.split\u001b[0;34m(self, split_size, dim)\u001b[0m\n\u001b[1;32m    801\u001b[0m     \u001b[38;5;28;01mreturn\u001b[39;00m torch\u001b[38;5;241m.\u001b[39m_VF\u001b[38;5;241m.\u001b[39msplit(\u001b[38;5;28mself\u001b[39m, split_size, dim)  \u001b[38;5;66;03m# type: ignore[attr-defined]\u001b[39;00m\n\u001b[1;32m    802\u001b[0m \u001b[38;5;28;01melse\u001b[39;00m:\n\u001b[0;32m--> 803\u001b[0m     \u001b[38;5;28;01mreturn\u001b[39;00m \u001b[43mtorch\u001b[49m\u001b[38;5;241;43m.\u001b[39;49m\u001b[43m_VF\u001b[49m\u001b[38;5;241;43m.\u001b[39;49m\u001b[43msplit_with_sizes\u001b[49m\u001b[43m(\u001b[49m\u001b[38;5;28;43mself\u001b[39;49m\u001b[43m,\u001b[49m\u001b[43m \u001b[49m\u001b[43msplit_size\u001b[49m\u001b[43m,\u001b[49m\u001b[43m \u001b[49m\u001b[43mdim\u001b[49m\u001b[43m)\u001b[49m\n",
      "\u001b[0;31mRuntimeError\u001b[0m: split_with_sizes expects split_sizes to sum exactly to 80 (input tensor's size at dimension 3), but got split_sizes=[1, 4, 1, 2, 2, 2, 2, 2, 2, 2, 2, 2, 2, 2, 2, 2, 2, 2, 2]"
     ]
    }
   ],
   "source": [
    "vd = vds.make_dist(test_batch['images'])"
   ]
  },
  {
   "cell_type": "code",
   "execution_count": 14,
   "id": "3c5f375b",
   "metadata": {},
   "outputs": [
    {
     "data": {
      "text/plain": [
       "torch.Size([64, 5, 80, 80])"
      ]
     },
     "execution_count": 14,
     "metadata": {},
     "output_type": "execute_result"
    }
   ],
   "source": [
    "test_batch['images'].shape"
   ]
  },
  {
   "cell_type": "code",
   "execution_count": 15,
   "id": "133ecb30",
   "metadata": {},
   "outputs": [],
   "source": [
    "split_sizes = [v.dim for v in vds.factor_specs.values()]"
   ]
  },
  {
   "cell_type": "code",
   "execution_count": 16,
   "id": "6ff7af6f",
   "metadata": {},
   "outputs": [
    {
     "data": {
      "text/plain": [
       "[1, 4, 1, 2, 2, 2, 2, 2, 2, 2, 2, 2, 2, 2, 2, 2, 2, 2, 2]"
      ]
     },
     "execution_count": 16,
     "metadata": {},
     "output_type": "execute_result"
    }
   ],
   "source": [
    "split_sizes"
   ]
  },
  {
   "cell_type": "code",
   "execution_count": 17,
   "id": "51532ddd",
   "metadata": {},
   "outputs": [
    {
     "data": {
      "text/plain": [
       "38"
      ]
     },
     "execution_count": 17,
     "metadata": {},
     "output_type": "execute_result"
    }
   ],
   "source": [
    "sum(split_sizes)"
   ]
  },
  {
   "cell_type": "code",
   "execution_count": 18,
   "id": "bc8de153",
   "metadata": {},
   "outputs": [
    {
     "data": {
      "text/plain": [
       "Encoder(\n",
       "  (metrics): CatalogMetrics()\n",
       "  (image_normalizer): ImageNormalizer()\n",
       "  (features_net): FeaturesNet(\n",
       "    (preprocess3d): Sequential(\n",
       "      (0): Conv3d(5, 64, kernel_size=(6, 5, 5), stride=(1, 1, 1), padding=(0, 2, 2))\n",
       "      (1): BatchNorm3d(64, eps=1e-05, momentum=0.1, affine=True, track_running_stats=True)\n",
       "      (2): SiLU()\n",
       "    )\n",
       "    (backbone): Sequential(\n",
       "      (0): ConvBlock(\n",
       "        (conv): Conv2d(64, 64, kernel_size=(5, 5), stride=(1, 1), padding=(2, 2), bias=False)\n",
       "        (bn): BatchNorm2d(64, eps=0.001, momentum=0.03, affine=True, track_running_stats=True)\n",
       "        (activation): SiLU(inplace=True)\n",
       "      )\n",
       "      (1): Sequential(\n",
       "        (0): ConvBlock(\n",
       "          (conv): Conv2d(64, 64, kernel_size=(5, 5), stride=(1, 1), padding=(2, 2), bias=False)\n",
       "          (bn): BatchNorm2d(64, eps=0.001, momentum=0.03, affine=True, track_running_stats=True)\n",
       "          (activation): SiLU(inplace=True)\n",
       "        )\n",
       "        (1): ConvBlock(\n",
       "          (conv): Conv2d(64, 64, kernel_size=(5, 5), stride=(1, 1), padding=(2, 2), bias=False)\n",
       "          (bn): BatchNorm2d(64, eps=0.001, momentum=0.03, affine=True, track_running_stats=True)\n",
       "          (activation): SiLU(inplace=True)\n",
       "        )\n",
       "        (2): ConvBlock(\n",
       "          (conv): Conv2d(64, 64, kernel_size=(5, 5), stride=(1, 1), padding=(2, 2), bias=False)\n",
       "          (bn): BatchNorm2d(64, eps=0.001, momentum=0.03, affine=True, track_running_stats=True)\n",
       "          (activation): SiLU(inplace=True)\n",
       "        )\n",
       "        (3): ConvBlock(\n",
       "          (conv): Conv2d(64, 64, kernel_size=(5, 5), stride=(1, 1), padding=(2, 2), bias=False)\n",
       "          (bn): BatchNorm2d(64, eps=0.001, momentum=0.03, affine=True, track_running_stats=True)\n",
       "          (activation): SiLU(inplace=True)\n",
       "        )\n",
       "      )\n",
       "      (2): ConvBlock(\n",
       "        (conv): Conv2d(64, 128, kernel_size=(3, 3), stride=(2, 2), padding=(1, 1), bias=False)\n",
       "        (bn): BatchNorm2d(128, eps=0.001, momentum=0.03, affine=True, track_running_stats=True)\n",
       "        (activation): SiLU(inplace=True)\n",
       "      )\n",
       "      (3): Sequential(\n",
       "        (0): ConvBlock(\n",
       "          (conv): Conv2d(128, 128, kernel_size=(3, 3), stride=(1, 1), padding=(1, 1), bias=False)\n",
       "          (bn): BatchNorm2d(128, eps=0.001, momentum=0.03, affine=True, track_running_stats=True)\n",
       "          (activation): SiLU(inplace=True)\n",
       "        )\n",
       "        (1): ConvBlock(\n",
       "          (conv): Conv2d(128, 128, kernel_size=(3, 3), stride=(1, 1), padding=(1, 1), bias=False)\n",
       "          (bn): BatchNorm2d(128, eps=0.001, momentum=0.03, affine=True, track_running_stats=True)\n",
       "          (activation): SiLU(inplace=True)\n",
       "        )\n",
       "        (2): ConvBlock(\n",
       "          (conv): Conv2d(128, 128, kernel_size=(3, 3), stride=(1, 1), padding=(1, 1), bias=False)\n",
       "          (bn): BatchNorm2d(128, eps=0.001, momentum=0.03, affine=True, track_running_stats=True)\n",
       "          (activation): SiLU(inplace=True)\n",
       "        )\n",
       "        (3): ConvBlock(\n",
       "          (conv): Conv2d(128, 128, kernel_size=(3, 3), stride=(1, 1), padding=(1, 1), bias=False)\n",
       "          (bn): BatchNorm2d(128, eps=0.001, momentum=0.03, affine=True, track_running_stats=True)\n",
       "          (activation): SiLU(inplace=True)\n",
       "        )\n",
       "        (4): ConvBlock(\n",
       "          (conv): Conv2d(128, 128, kernel_size=(3, 3), stride=(1, 1), padding=(1, 1), bias=False)\n",
       "          (bn): BatchNorm2d(128, eps=0.001, momentum=0.03, affine=True, track_running_stats=True)\n",
       "          (activation): SiLU(inplace=True)\n",
       "        )\n",
       "      )\n",
       "      (4): ConvBlock(\n",
       "        (conv): Conv2d(128, 256, kernel_size=(3, 3), stride=(2, 2), padding=(1, 1), bias=False)\n",
       "        (bn): BatchNorm2d(256, eps=0.001, momentum=0.03, affine=True, track_running_stats=True)\n",
       "        (activation): SiLU(inplace=True)\n",
       "      )\n",
       "    )\n",
       "  )\n",
       "  (marginal_net): CatalogNet(\n",
       "    (net_ml): ModuleList(\n",
       "      (0): C3(\n",
       "        (cv1): ConvBlock(\n",
       "          (conv): Conv2d(256, 128, kernel_size=(1, 1), stride=(1, 1), bias=False)\n",
       "          (bn): BatchNorm2d(128, eps=0.001, momentum=0.03, affine=True, track_running_stats=True)\n",
       "          (activation): SiLU(inplace=True)\n",
       "        )\n",
       "        (cv2): ConvBlock(\n",
       "          (conv): Conv2d(256, 128, kernel_size=(1, 1), stride=(1, 1), bias=False)\n",
       "          (bn): BatchNorm2d(128, eps=0.001, momentum=0.03, affine=True, track_running_stats=True)\n",
       "          (activation): SiLU(inplace=True)\n",
       "        )\n",
       "        (cv3): ConvBlock(\n",
       "          (conv): Conv2d(256, 256, kernel_size=(1, 1), stride=(1, 1), bias=False)\n",
       "          (bn): BatchNorm2d(256, eps=0.001, momentum=0.03, affine=True, track_running_stats=True)\n",
       "          (activation): SiLU(inplace=True)\n",
       "        )\n",
       "        (m): Sequential(\n",
       "          (0): Bottleneck(\n",
       "            (cv1): ConvBlock(\n",
       "              (conv): Conv2d(128, 128, kernel_size=(1, 1), stride=(1, 1), bias=False)\n",
       "              (bn): BatchNorm2d(128, eps=0.001, momentum=0.03, affine=True, track_running_stats=True)\n",
       "              (activation): SiLU(inplace=True)\n",
       "            )\n",
       "            (cv2): ConvBlock(\n",
       "              (conv): Conv2d(128, 128, kernel_size=(3, 3), stride=(1, 1), padding=(1, 1), bias=False)\n",
       "              (bn): BatchNorm2d(128, eps=0.001, momentum=0.03, affine=True, track_running_stats=True)\n",
       "              (activation): SiLU(inplace=True)\n",
       "            )\n",
       "          )\n",
       "          (1): Bottleneck(\n",
       "            (cv1): ConvBlock(\n",
       "              (conv): Conv2d(128, 128, kernel_size=(1, 1), stride=(1, 1), bias=False)\n",
       "              (bn): BatchNorm2d(128, eps=0.001, momentum=0.03, affine=True, track_running_stats=True)\n",
       "              (activation): SiLU(inplace=True)\n",
       "            )\n",
       "            (cv2): ConvBlock(\n",
       "              (conv): Conv2d(128, 128, kernel_size=(3, 3), stride=(1, 1), padding=(1, 1), bias=False)\n",
       "              (bn): BatchNorm2d(128, eps=0.001, momentum=0.03, affine=True, track_running_stats=True)\n",
       "              (activation): SiLU(inplace=True)\n",
       "            )\n",
       "          )\n",
       "          (2): Bottleneck(\n",
       "            (cv1): ConvBlock(\n",
       "              (conv): Conv2d(128, 128, kernel_size=(1, 1), stride=(1, 1), bias=False)\n",
       "              (bn): BatchNorm2d(128, eps=0.001, momentum=0.03, affine=True, track_running_stats=True)\n",
       "              (activation): SiLU(inplace=True)\n",
       "            )\n",
       "            (cv2): ConvBlock(\n",
       "              (conv): Conv2d(128, 128, kernel_size=(3, 3), stride=(1, 1), padding=(1, 1), bias=False)\n",
       "              (bn): BatchNorm2d(128, eps=0.001, momentum=0.03, affine=True, track_running_stats=True)\n",
       "              (activation): SiLU(inplace=True)\n",
       "            )\n",
       "          )\n",
       "          (3): Bottleneck(\n",
       "            (cv1): ConvBlock(\n",
       "              (conv): Conv2d(128, 128, kernel_size=(1, 1), stride=(1, 1), bias=False)\n",
       "              (bn): BatchNorm2d(128, eps=0.001, momentum=0.03, affine=True, track_running_stats=True)\n",
       "              (activation): SiLU(inplace=True)\n",
       "            )\n",
       "            (cv2): ConvBlock(\n",
       "              (conv): Conv2d(128, 128, kernel_size=(3, 3), stride=(1, 1), padding=(1, 1), bias=False)\n",
       "              (bn): BatchNorm2d(128, eps=0.001, momentum=0.03, affine=True, track_running_stats=True)\n",
       "              (activation): SiLU(inplace=True)\n",
       "            )\n",
       "          )\n",
       "          (4): Bottleneck(\n",
       "            (cv1): ConvBlock(\n",
       "              (conv): Conv2d(128, 128, kernel_size=(1, 1), stride=(1, 1), bias=False)\n",
       "              (bn): BatchNorm2d(128, eps=0.001, momentum=0.03, affine=True, track_running_stats=True)\n",
       "              (activation): SiLU(inplace=True)\n",
       "            )\n",
       "            (cv2): ConvBlock(\n",
       "              (conv): Conv2d(128, 128, kernel_size=(3, 3), stride=(1, 1), padding=(1, 1), bias=False)\n",
       "              (bn): BatchNorm2d(128, eps=0.001, momentum=0.03, affine=True, track_running_stats=True)\n",
       "              (activation): SiLU(inplace=True)\n",
       "            )\n",
       "          )\n",
       "          (5): Bottleneck(\n",
       "            (cv1): ConvBlock(\n",
       "              (conv): Conv2d(128, 128, kernel_size=(1, 1), stride=(1, 1), bias=False)\n",
       "              (bn): BatchNorm2d(128, eps=0.001, momentum=0.03, affine=True, track_running_stats=True)\n",
       "              (activation): SiLU(inplace=True)\n",
       "            )\n",
       "            (cv2): ConvBlock(\n",
       "              (conv): Conv2d(128, 128, kernel_size=(3, 3), stride=(1, 1), padding=(1, 1), bias=False)\n",
       "              (bn): BatchNorm2d(128, eps=0.001, momentum=0.03, affine=True, track_running_stats=True)\n",
       "              (activation): SiLU(inplace=True)\n",
       "            )\n",
       "          )\n",
       "        )\n",
       "      )\n",
       "      (1): ConvBlock(\n",
       "        (conv): Conv2d(256, 512, kernel_size=(3, 3), stride=(2, 2), padding=(1, 1), bias=False)\n",
       "        (bn): BatchNorm2d(512, eps=0.001, momentum=0.03, affine=True, track_running_stats=True)\n",
       "        (activation): SiLU(inplace=True)\n",
       "      )\n",
       "      (2): C3(\n",
       "        (cv1): ConvBlock(\n",
       "          (conv): Conv2d(512, 256, kernel_size=(1, 1), stride=(1, 1), bias=False)\n",
       "          (bn): BatchNorm2d(256, eps=0.001, momentum=0.03, affine=True, track_running_stats=True)\n",
       "          (activation): SiLU(inplace=True)\n",
       "        )\n",
       "        (cv2): ConvBlock(\n",
       "          (conv): Conv2d(512, 256, kernel_size=(1, 1), stride=(1, 1), bias=False)\n",
       "          (bn): BatchNorm2d(256, eps=0.001, momentum=0.03, affine=True, track_running_stats=True)\n",
       "          (activation): SiLU(inplace=True)\n",
       "        )\n",
       "        (cv3): ConvBlock(\n",
       "          (conv): Conv2d(512, 512, kernel_size=(1, 1), stride=(1, 1), bias=False)\n",
       "          (bn): BatchNorm2d(512, eps=0.001, momentum=0.03, affine=True, track_running_stats=True)\n",
       "          (activation): SiLU(inplace=True)\n",
       "        )\n",
       "        (m): Sequential(\n",
       "          (0): Bottleneck(\n",
       "            (cv1): ConvBlock(\n",
       "              (conv): Conv2d(256, 256, kernel_size=(1, 1), stride=(1, 1), bias=False)\n",
       "              (bn): BatchNorm2d(256, eps=0.001, momentum=0.03, affine=True, track_running_stats=True)\n",
       "              (activation): SiLU(inplace=True)\n",
       "            )\n",
       "            (cv2): ConvBlock(\n",
       "              (conv): Conv2d(256, 256, kernel_size=(3, 3), stride=(1, 1), padding=(1, 1), bias=False)\n",
       "              (bn): BatchNorm2d(256, eps=0.001, momentum=0.03, affine=True, track_running_stats=True)\n",
       "              (activation): SiLU(inplace=True)\n",
       "            )\n",
       "          )\n",
       "          (1): Bottleneck(\n",
       "            (cv1): ConvBlock(\n",
       "              (conv): Conv2d(256, 256, kernel_size=(1, 1), stride=(1, 1), bias=False)\n",
       "              (bn): BatchNorm2d(256, eps=0.001, momentum=0.03, affine=True, track_running_stats=True)\n",
       "              (activation): SiLU(inplace=True)\n",
       "            )\n",
       "            (cv2): ConvBlock(\n",
       "              (conv): Conv2d(256, 256, kernel_size=(3, 3), stride=(1, 1), padding=(1, 1), bias=False)\n",
       "              (bn): BatchNorm2d(256, eps=0.001, momentum=0.03, affine=True, track_running_stats=True)\n",
       "              (activation): SiLU(inplace=True)\n",
       "            )\n",
       "          )\n",
       "          (2): Bottleneck(\n",
       "            (cv1): ConvBlock(\n",
       "              (conv): Conv2d(256, 256, kernel_size=(1, 1), stride=(1, 1), bias=False)\n",
       "              (bn): BatchNorm2d(256, eps=0.001, momentum=0.03, affine=True, track_running_stats=True)\n",
       "              (activation): SiLU(inplace=True)\n",
       "            )\n",
       "            (cv2): ConvBlock(\n",
       "              (conv): Conv2d(256, 256, kernel_size=(3, 3), stride=(1, 1), padding=(1, 1), bias=False)\n",
       "              (bn): BatchNorm2d(256, eps=0.001, momentum=0.03, affine=True, track_running_stats=True)\n",
       "              (activation): SiLU(inplace=True)\n",
       "            )\n",
       "          )\n",
       "        )\n",
       "      )\n",
       "      (3): ConvBlock(\n",
       "        (conv): Conv2d(512, 256, kernel_size=(1, 1), stride=(1, 1), bias=False)\n",
       "        (bn): BatchNorm2d(256, eps=0.001, momentum=0.03, affine=True, track_running_stats=True)\n",
       "        (activation): SiLU(inplace=True)\n",
       "      )\n",
       "      (4): Upsample(scale_factor=2.0, mode='nearest')\n",
       "      (5): C3(\n",
       "        (cv1): ConvBlock(\n",
       "          (conv): Conv2d(768, 128, kernel_size=(1, 1), stride=(1, 1), bias=False)\n",
       "          (bn): BatchNorm2d(128, eps=0.001, momentum=0.03, affine=True, track_running_stats=True)\n",
       "          (activation): SiLU(inplace=True)\n",
       "        )\n",
       "        (cv2): ConvBlock(\n",
       "          (conv): Conv2d(768, 128, kernel_size=(1, 1), stride=(1, 1), bias=False)\n",
       "          (bn): BatchNorm2d(128, eps=0.001, momentum=0.03, affine=True, track_running_stats=True)\n",
       "          (activation): SiLU(inplace=True)\n",
       "        )\n",
       "        (cv3): ConvBlock(\n",
       "          (conv): Conv2d(256, 256, kernel_size=(1, 1), stride=(1, 1), bias=False)\n",
       "          (bn): BatchNorm2d(256, eps=0.001, momentum=0.03, affine=True, track_running_stats=True)\n",
       "          (activation): SiLU(inplace=True)\n",
       "        )\n",
       "        (m): Sequential(\n",
       "          (0): Bottleneck(\n",
       "            (cv1): ConvBlock(\n",
       "              (conv): Conv2d(128, 128, kernel_size=(1, 1), stride=(1, 1), bias=False)\n",
       "              (bn): BatchNorm2d(128, eps=0.001, momentum=0.03, affine=True, track_running_stats=True)\n",
       "              (activation): SiLU(inplace=True)\n",
       "            )\n",
       "            (cv2): ConvBlock(\n",
       "              (conv): Conv2d(128, 128, kernel_size=(3, 3), stride=(1, 1), padding=(1, 1), bias=False)\n",
       "              (bn): BatchNorm2d(128, eps=0.001, momentum=0.03, affine=True, track_running_stats=True)\n",
       "              (activation): SiLU(inplace=True)\n",
       "            )\n",
       "          )\n",
       "          (1): Bottleneck(\n",
       "            (cv1): ConvBlock(\n",
       "              (conv): Conv2d(128, 128, kernel_size=(1, 1), stride=(1, 1), bias=False)\n",
       "              (bn): BatchNorm2d(128, eps=0.001, momentum=0.03, affine=True, track_running_stats=True)\n",
       "              (activation): SiLU(inplace=True)\n",
       "            )\n",
       "            (cv2): ConvBlock(\n",
       "              (conv): Conv2d(128, 128, kernel_size=(3, 3), stride=(1, 1), padding=(1, 1), bias=False)\n",
       "              (bn): BatchNorm2d(128, eps=0.001, momentum=0.03, affine=True, track_running_stats=True)\n",
       "              (activation): SiLU(inplace=True)\n",
       "            )\n",
       "          )\n",
       "          (2): Bottleneck(\n",
       "            (cv1): ConvBlock(\n",
       "              (conv): Conv2d(128, 128, kernel_size=(1, 1), stride=(1, 1), bias=False)\n",
       "              (bn): BatchNorm2d(128, eps=0.001, momentum=0.03, affine=True, track_running_stats=True)\n",
       "              (activation): SiLU(inplace=True)\n",
       "            )\n",
       "            (cv2): ConvBlock(\n",
       "              (conv): Conv2d(128, 128, kernel_size=(3, 3), stride=(1, 1), padding=(1, 1), bias=False)\n",
       "              (bn): BatchNorm2d(128, eps=0.001, momentum=0.03, affine=True, track_running_stats=True)\n",
       "              (activation): SiLU(inplace=True)\n",
       "            )\n",
       "          )\n",
       "        )\n",
       "      )\n",
       "      (6): Detect(\n",
       "        (conv): Conv2d(256, 38, kernel_size=(1, 1), stride=(1, 1))\n",
       "      )\n",
       "    )\n",
       "  )\n",
       "  (checkerboard_net): ContextNet(\n",
       "    (encode_context): Sequential(\n",
       "      (0): ConvBlock(\n",
       "        (conv): Conv2d(2, 64, kernel_size=(3, 3), stride=(1, 1), padding=(1, 1), bias=False)\n",
       "        (bn): BatchNorm2d(64, eps=0.001, momentum=0.03, affine=True, track_running_stats=True)\n",
       "        (activation): SiLU(inplace=True)\n",
       "      )\n",
       "      (1): ConvBlock(\n",
       "        (conv): Conv2d(64, 64, kernel_size=(3, 3), stride=(1, 1), padding=(1, 1), bias=False)\n",
       "        (bn): BatchNorm2d(64, eps=0.001, momentum=0.03, affine=True, track_running_stats=True)\n",
       "        (activation): SiLU(inplace=True)\n",
       "      )\n",
       "      (2): ConvBlock(\n",
       "        (conv): Conv2d(64, 64, kernel_size=(3, 3), stride=(1, 1), padding=(1, 1), bias=False)\n",
       "        (bn): BatchNorm2d(64, eps=0.001, momentum=0.03, affine=True, track_running_stats=True)\n",
       "        (activation): SiLU(inplace=True)\n",
       "      )\n",
       "    )\n",
       "    (merge): ConvBlock(\n",
       "      (conv): Conv2d(320, 256, kernel_size=(3, 3), stride=(1, 1), padding=(1, 1), bias=False)\n",
       "      (bn): BatchNorm2d(256, eps=0.001, momentum=0.03, affine=True, track_running_stats=True)\n",
       "      (activation): SiLU(inplace=True)\n",
       "    )\n",
       "    (catalog_net): CatalogNet(\n",
       "      (net_ml): ModuleList(\n",
       "        (0): C3(\n",
       "          (cv1): ConvBlock(\n",
       "            (conv): Conv2d(256, 128, kernel_size=(1, 1), stride=(1, 1), bias=False)\n",
       "            (bn): BatchNorm2d(128, eps=0.001, momentum=0.03, affine=True, track_running_stats=True)\n",
       "            (activation): SiLU(inplace=True)\n",
       "          )\n",
       "          (cv2): ConvBlock(\n",
       "            (conv): Conv2d(256, 128, kernel_size=(1, 1), stride=(1, 1), bias=False)\n",
       "            (bn): BatchNorm2d(128, eps=0.001, momentum=0.03, affine=True, track_running_stats=True)\n",
       "            (activation): SiLU(inplace=True)\n",
       "          )\n",
       "          (cv3): ConvBlock(\n",
       "            (conv): Conv2d(256, 256, kernel_size=(1, 1), stride=(1, 1), bias=False)\n",
       "            (bn): BatchNorm2d(256, eps=0.001, momentum=0.03, affine=True, track_running_stats=True)\n",
       "            (activation): SiLU(inplace=True)\n",
       "          )\n",
       "          (m): Sequential(\n",
       "            (0): Bottleneck(\n",
       "              (cv1): ConvBlock(\n",
       "                (conv): Conv2d(128, 128, kernel_size=(1, 1), stride=(1, 1), bias=False)\n",
       "                (bn): BatchNorm2d(128, eps=0.001, momentum=0.03, affine=True, track_running_stats=True)\n",
       "                (activation): SiLU(inplace=True)\n",
       "              )\n",
       "              (cv2): ConvBlock(\n",
       "                (conv): Conv2d(128, 128, kernel_size=(3, 3), stride=(1, 1), padding=(1, 1), bias=False)\n",
       "                (bn): BatchNorm2d(128, eps=0.001, momentum=0.03, affine=True, track_running_stats=True)\n",
       "                (activation): SiLU(inplace=True)\n",
       "              )\n",
       "            )\n",
       "            (1): Bottleneck(\n",
       "              (cv1): ConvBlock(\n",
       "                (conv): Conv2d(128, 128, kernel_size=(1, 1), stride=(1, 1), bias=False)\n",
       "                (bn): BatchNorm2d(128, eps=0.001, momentum=0.03, affine=True, track_running_stats=True)\n",
       "                (activation): SiLU(inplace=True)\n",
       "              )\n",
       "              (cv2): ConvBlock(\n",
       "                (conv): Conv2d(128, 128, kernel_size=(3, 3), stride=(1, 1), padding=(1, 1), bias=False)\n",
       "                (bn): BatchNorm2d(128, eps=0.001, momentum=0.03, affine=True, track_running_stats=True)\n",
       "                (activation): SiLU(inplace=True)\n",
       "              )\n",
       "            )\n",
       "            (2): Bottleneck(\n",
       "              (cv1): ConvBlock(\n",
       "                (conv): Conv2d(128, 128, kernel_size=(1, 1), stride=(1, 1), bias=False)\n",
       "                (bn): BatchNorm2d(128, eps=0.001, momentum=0.03, affine=True, track_running_stats=True)\n",
       "                (activation): SiLU(inplace=True)\n",
       "              )\n",
       "              (cv2): ConvBlock(\n",
       "                (conv): Conv2d(128, 128, kernel_size=(3, 3), stride=(1, 1), padding=(1, 1), bias=False)\n",
       "                (bn): BatchNorm2d(128, eps=0.001, momentum=0.03, affine=True, track_running_stats=True)\n",
       "                (activation): SiLU(inplace=True)\n",
       "              )\n",
       "            )\n",
       "            (3): Bottleneck(\n",
       "              (cv1): ConvBlock(\n",
       "                (conv): Conv2d(128, 128, kernel_size=(1, 1), stride=(1, 1), bias=False)\n",
       "                (bn): BatchNorm2d(128, eps=0.001, momentum=0.03, affine=True, track_running_stats=True)\n",
       "                (activation): SiLU(inplace=True)\n",
       "              )\n",
       "              (cv2): ConvBlock(\n",
       "                (conv): Conv2d(128, 128, kernel_size=(3, 3), stride=(1, 1), padding=(1, 1), bias=False)\n",
       "                (bn): BatchNorm2d(128, eps=0.001, momentum=0.03, affine=True, track_running_stats=True)\n",
       "                (activation): SiLU(inplace=True)\n",
       "              )\n",
       "            )\n",
       "            (4): Bottleneck(\n",
       "              (cv1): ConvBlock(\n",
       "                (conv): Conv2d(128, 128, kernel_size=(1, 1), stride=(1, 1), bias=False)\n",
       "                (bn): BatchNorm2d(128, eps=0.001, momentum=0.03, affine=True, track_running_stats=True)\n",
       "                (activation): SiLU(inplace=True)\n",
       "              )\n",
       "              (cv2): ConvBlock(\n",
       "                (conv): Conv2d(128, 128, kernel_size=(3, 3), stride=(1, 1), padding=(1, 1), bias=False)\n",
       "                (bn): BatchNorm2d(128, eps=0.001, momentum=0.03, affine=True, track_running_stats=True)\n",
       "                (activation): SiLU(inplace=True)\n",
       "              )\n",
       "            )\n",
       "            (5): Bottleneck(\n",
       "              (cv1): ConvBlock(\n",
       "                (conv): Conv2d(128, 128, kernel_size=(1, 1), stride=(1, 1), bias=False)\n",
       "                (bn): BatchNorm2d(128, eps=0.001, momentum=0.03, affine=True, track_running_stats=True)\n",
       "                (activation): SiLU(inplace=True)\n",
       "              )\n",
       "              (cv2): ConvBlock(\n",
       "                (conv): Conv2d(128, 128, kernel_size=(3, 3), stride=(1, 1), padding=(1, 1), bias=False)\n",
       "                (bn): BatchNorm2d(128, eps=0.001, momentum=0.03, affine=True, track_running_stats=True)\n",
       "                (activation): SiLU(inplace=True)\n",
       "              )\n",
       "            )\n",
       "          )\n",
       "        )\n",
       "        (1): ConvBlock(\n",
       "          (conv): Conv2d(256, 512, kernel_size=(3, 3), stride=(2, 2), padding=(1, 1), bias=False)\n",
       "          (bn): BatchNorm2d(512, eps=0.001, momentum=0.03, affine=True, track_running_stats=True)\n",
       "          (activation): SiLU(inplace=True)\n",
       "        )\n",
       "        (2): C3(\n",
       "          (cv1): ConvBlock(\n",
       "            (conv): Conv2d(512, 256, kernel_size=(1, 1), stride=(1, 1), bias=False)\n",
       "            (bn): BatchNorm2d(256, eps=0.001, momentum=0.03, affine=True, track_running_stats=True)\n",
       "            (activation): SiLU(inplace=True)\n",
       "          )\n",
       "          (cv2): ConvBlock(\n",
       "            (conv): Conv2d(512, 256, kernel_size=(1, 1), stride=(1, 1), bias=False)\n",
       "            (bn): BatchNorm2d(256, eps=0.001, momentum=0.03, affine=True, track_running_stats=True)\n",
       "            (activation): SiLU(inplace=True)\n",
       "          )\n",
       "          (cv3): ConvBlock(\n",
       "            (conv): Conv2d(512, 512, kernel_size=(1, 1), stride=(1, 1), bias=False)\n",
       "            (bn): BatchNorm2d(512, eps=0.001, momentum=0.03, affine=True, track_running_stats=True)\n",
       "            (activation): SiLU(inplace=True)\n",
       "          )\n",
       "          (m): Sequential(\n",
       "            (0): Bottleneck(\n",
       "              (cv1): ConvBlock(\n",
       "                (conv): Conv2d(256, 256, kernel_size=(1, 1), stride=(1, 1), bias=False)\n",
       "                (bn): BatchNorm2d(256, eps=0.001, momentum=0.03, affine=True, track_running_stats=True)\n",
       "                (activation): SiLU(inplace=True)\n",
       "              )\n",
       "              (cv2): ConvBlock(\n",
       "                (conv): Conv2d(256, 256, kernel_size=(3, 3), stride=(1, 1), padding=(1, 1), bias=False)\n",
       "                (bn): BatchNorm2d(256, eps=0.001, momentum=0.03, affine=True, track_running_stats=True)\n",
       "                (activation): SiLU(inplace=True)\n",
       "              )\n",
       "            )\n",
       "            (1): Bottleneck(\n",
       "              (cv1): ConvBlock(\n",
       "                (conv): Conv2d(256, 256, kernel_size=(1, 1), stride=(1, 1), bias=False)\n",
       "                (bn): BatchNorm2d(256, eps=0.001, momentum=0.03, affine=True, track_running_stats=True)\n",
       "                (activation): SiLU(inplace=True)\n",
       "              )\n",
       "              (cv2): ConvBlock(\n",
       "                (conv): Conv2d(256, 256, kernel_size=(3, 3), stride=(1, 1), padding=(1, 1), bias=False)\n",
       "                (bn): BatchNorm2d(256, eps=0.001, momentum=0.03, affine=True, track_running_stats=True)\n",
       "                (activation): SiLU(inplace=True)\n",
       "              )\n",
       "            )\n",
       "            (2): Bottleneck(\n",
       "              (cv1): ConvBlock(\n",
       "                (conv): Conv2d(256, 256, kernel_size=(1, 1), stride=(1, 1), bias=False)\n",
       "                (bn): BatchNorm2d(256, eps=0.001, momentum=0.03, affine=True, track_running_stats=True)\n",
       "                (activation): SiLU(inplace=True)\n",
       "              )\n",
       "              (cv2): ConvBlock(\n",
       "                (conv): Conv2d(256, 256, kernel_size=(3, 3), stride=(1, 1), padding=(1, 1), bias=False)\n",
       "                (bn): BatchNorm2d(256, eps=0.001, momentum=0.03, affine=True, track_running_stats=True)\n",
       "                (activation): SiLU(inplace=True)\n",
       "              )\n",
       "            )\n",
       "          )\n",
       "        )\n",
       "        (3): ConvBlock(\n",
       "          (conv): Conv2d(512, 256, kernel_size=(1, 1), stride=(1, 1), bias=False)\n",
       "          (bn): BatchNorm2d(256, eps=0.001, momentum=0.03, affine=True, track_running_stats=True)\n",
       "          (activation): SiLU(inplace=True)\n",
       "        )\n",
       "        (4): Upsample(scale_factor=2.0, mode='nearest')\n",
       "        (5): C3(\n",
       "          (cv1): ConvBlock(\n",
       "            (conv): Conv2d(768, 128, kernel_size=(1, 1), stride=(1, 1), bias=False)\n",
       "            (bn): BatchNorm2d(128, eps=0.001, momentum=0.03, affine=True, track_running_stats=True)\n",
       "            (activation): SiLU(inplace=True)\n",
       "          )\n",
       "          (cv2): ConvBlock(\n",
       "            (conv): Conv2d(768, 128, kernel_size=(1, 1), stride=(1, 1), bias=False)\n",
       "            (bn): BatchNorm2d(128, eps=0.001, momentum=0.03, affine=True, track_running_stats=True)\n",
       "            (activation): SiLU(inplace=True)\n",
       "          )\n",
       "          (cv3): ConvBlock(\n",
       "            (conv): Conv2d(256, 256, kernel_size=(1, 1), stride=(1, 1), bias=False)\n",
       "            (bn): BatchNorm2d(256, eps=0.001, momentum=0.03, affine=True, track_running_stats=True)\n",
       "            (activation): SiLU(inplace=True)\n",
       "          )\n",
       "          (m): Sequential(\n",
       "            (0): Bottleneck(\n",
       "              (cv1): ConvBlock(\n",
       "                (conv): Conv2d(128, 128, kernel_size=(1, 1), stride=(1, 1), bias=False)\n",
       "                (bn): BatchNorm2d(128, eps=0.001, momentum=0.03, affine=True, track_running_stats=True)\n",
       "                (activation): SiLU(inplace=True)\n",
       "              )\n",
       "              (cv2): ConvBlock(\n",
       "                (conv): Conv2d(128, 128, kernel_size=(3, 3), stride=(1, 1), padding=(1, 1), bias=False)\n",
       "                (bn): BatchNorm2d(128, eps=0.001, momentum=0.03, affine=True, track_running_stats=True)\n",
       "                (activation): SiLU(inplace=True)\n",
       "              )\n",
       "            )\n",
       "            (1): Bottleneck(\n",
       "              (cv1): ConvBlock(\n",
       "                (conv): Conv2d(128, 128, kernel_size=(1, 1), stride=(1, 1), bias=False)\n",
       "                (bn): BatchNorm2d(128, eps=0.001, momentum=0.03, affine=True, track_running_stats=True)\n",
       "                (activation): SiLU(inplace=True)\n",
       "              )\n",
       "              (cv2): ConvBlock(\n",
       "                (conv): Conv2d(128, 128, kernel_size=(3, 3), stride=(1, 1), padding=(1, 1), bias=False)\n",
       "                (bn): BatchNorm2d(128, eps=0.001, momentum=0.03, affine=True, track_running_stats=True)\n",
       "                (activation): SiLU(inplace=True)\n",
       "              )\n",
       "            )\n",
       "            (2): Bottleneck(\n",
       "              (cv1): ConvBlock(\n",
       "                (conv): Conv2d(128, 128, kernel_size=(1, 1), stride=(1, 1), bias=False)\n",
       "                (bn): BatchNorm2d(128, eps=0.001, momentum=0.03, affine=True, track_running_stats=True)\n",
       "                (activation): SiLU(inplace=True)\n",
       "              )\n",
       "              (cv2): ConvBlock(\n",
       "                (conv): Conv2d(128, 128, kernel_size=(3, 3), stride=(1, 1), padding=(1, 1), bias=False)\n",
       "                (bn): BatchNorm2d(128, eps=0.001, momentum=0.03, affine=True, track_running_stats=True)\n",
       "                (activation): SiLU(inplace=True)\n",
       "              )\n",
       "            )\n",
       "          )\n",
       "        )\n",
       "        (6): Detect(\n",
       "          (conv): Conv2d(256, 38, kernel_size=(1, 1), stride=(1, 1))\n",
       "        )\n",
       "      )\n",
       "    )\n",
       "  )\n",
       ")"
      ]
     },
     "execution_count": 18,
     "metadata": {},
     "output_type": "execute_result"
    }
   ],
   "source": [
    "encoder = instantiate(cfg.train.encoder)\n",
    "encoder"
   ]
  },
  {
   "cell_type": "code",
   "execution_count": 19,
   "id": "80da4929",
   "metadata": {},
   "outputs": [],
   "source": [
    "target_cat = TileCatalog(encoder.tile_slen, test_batch[\"tile_catalog\"])"
   ]
  },
  {
   "cell_type": "code",
   "execution_count": 21,
   "id": "13ac25e6",
   "metadata": {},
   "outputs": [],
   "source": [
    "# filter out undetectable sources\n",
    "if encoder.min_flux_threshold > 0:\n",
    "    target_cat = target_cat.filter_tile_catalog_by_flux(min_flux=encoder.min_flux_threshold)\n",
    "    \n",
    "# make predictions/inferences\n",
    "target_cat1 = target_cat.get_brightest_sources_per_tile(band=2, exclude_num=0)\n",
    "truth_callback = lambda _: target_cat1\n",
    "pred = encoder.infer(test_batch, truth_callback)"
   ]
  },
  {
   "cell_type": "code",
   "execution_count": 22,
   "id": "b6ada63e",
   "metadata": {},
   "outputs": [
    {
     "data": {
      "text/plain": [
       "dict_keys(['marginal', 'white', 'black', 'history_cat', 'x_features', 'white_history_mask'])"
      ]
     },
     "execution_count": 22,
     "metadata": {},
     "output_type": "execute_result"
    }
   ],
   "source": [
    "pred.keys()"
   ]
  },
  {
   "cell_type": "code",
   "execution_count": 25,
   "id": "a1c6b505",
   "metadata": {},
   "outputs": [
    {
     "data": {
      "text/plain": [
       "torch.Size([64, 256, 20, 20])"
      ]
     },
     "execution_count": 25,
     "metadata": {},
     "output_type": "execute_result"
    }
   ],
   "source": [
    "pred['x_features'].shape"
   ]
  },
  {
   "cell_type": "code",
   "execution_count": 27,
   "id": "8a2b096f",
   "metadata": {},
   "outputs": [
    {
     "data": {
      "text/plain": [
       "TileCatalog(64 x 20 x 20)"
      ]
     },
     "execution_count": 27,
     "metadata": {},
     "output_type": "execute_result"
    }
   ],
   "source": [
    "pred['history_cat']"
   ]
  },
  {
   "cell_type": "code",
   "execution_count": 30,
   "id": "6ec78fe6",
   "metadata": {},
   "outputs": [
    {
     "data": {
      "text/plain": [
       "torch.Size([64, 20, 20, 1, 2])"
      ]
     },
     "execution_count": 30,
     "metadata": {},
     "output_type": "execute_result"
    }
   ],
   "source": [
    "test_batch['tile_catalog']['locs'].shape"
   ]
  },
  {
   "cell_type": "code",
   "execution_count": 34,
   "id": "5be791fb",
   "metadata": {},
   "outputs": [
    {
     "data": {
      "text/plain": [
       "{'on_prob': Categorical(probs: torch.Size([64, 20, 20, 2])),\n",
       " 'loc': TruncatedDiagonalMVN(Normal(loc: torch.Size([64, 20, 20, 2]), scale: torch.Size([64, 20, 20, 2]))),\n",
       " 'galaxy_prob': Categorical(probs: torch.Size([64, 20, 20, 2])),\n",
       " 'galsim_disk_frac': TransformedDistribution(),\n",
       " 'galsim_beta_radians': TransformedDistribution(),\n",
       " 'galsim_disk_q': TransformedDistribution(),\n",
       " 'galsim_a_d': LogNormal(),\n",
       " 'galsim_bulge_q': TransformedDistribution(),\n",
       " 'galsim_a_b': LogNormal(),\n",
       " 'star_flux_u': LogNormal(),\n",
       " 'star_flux_g': LogNormal(),\n",
       " 'star_flux_r': LogNormal(),\n",
       " 'star_flux_i': LogNormal(),\n",
       " 'star_flux_z': LogNormal(),\n",
       " 'galaxy_flux_u': LogNormal(),\n",
       " 'galaxy_flux_g': LogNormal(),\n",
       " 'galaxy_flux_r': LogNormal(),\n",
       " 'galaxy_flux_i': LogNormal(),\n",
       " 'galaxy_flux_z': LogNormal()}"
      ]
     },
     "execution_count": 34,
     "metadata": {},
     "output_type": "execute_result"
    }
   ],
   "source": [
    "pred['marginal'].pred"
   ]
  },
  {
   "cell_type": "code",
   "execution_count": 36,
   "id": "def4c418",
   "metadata": {},
   "outputs": [
    {
     "data": {
      "text/plain": [
       "LogNormal()"
      ]
     },
     "execution_count": 36,
     "metadata": {},
     "output_type": "execute_result"
    }
   ],
   "source": [
    "pred['marginal'].pred['galaxy_flux_z']"
   ]
  },
  {
   "cell_type": "code",
   "execution_count": 56,
   "id": "4eab7f01",
   "metadata": {},
   "outputs": [],
   "source": [
    "yo = pred['marginal'].pred['on_prob']"
   ]
  },
  {
   "cell_type": "code",
   "execution_count": 58,
   "id": "fe856ec8",
   "metadata": {},
   "outputs": [
    {
     "data": {
      "text/plain": [
       "dict_keys(['probs', '_param', '_num_events', '_batch_shape', '_event_shape'])"
      ]
     },
     "execution_count": 58,
     "metadata": {},
     "output_type": "execute_result"
    }
   ],
   "source": [
    "vars(yo).keys()"
   ]
  },
  {
   "cell_type": "code",
   "execution_count": 59,
   "id": "277acc0a",
   "metadata": {},
   "outputs": [
    {
     "data": {
      "text/plain": [
       "torch.Size([64, 20, 20])"
      ]
     },
     "execution_count": 59,
     "metadata": {},
     "output_type": "execute_result"
    }
   ],
   "source": [
    "yo.batch_shape"
   ]
  },
  {
   "cell_type": "code",
   "execution_count": 60,
   "id": "f0485ccd",
   "metadata": {},
   "outputs": [
    {
     "data": {
      "text/plain": [
       "torch.Size([])"
      ]
     },
     "execution_count": 60,
     "metadata": {},
     "output_type": "execute_result"
    }
   ],
   "source": [
    "yo.event_shape"
   ]
  },
  {
   "cell_type": "code",
   "execution_count": 61,
   "id": "931bf62c",
   "metadata": {},
   "outputs": [],
   "source": [
    "x_features = encoder.get_features(test_batch)"
   ]
  },
  {
   "cell_type": "code",
   "execution_count": 63,
   "id": "d77b3cd8",
   "metadata": {},
   "outputs": [],
   "source": [
    "x_cat_marginal = encoder.marginal_net(x_features)"
   ]
  },
  {
   "cell_type": "code",
   "execution_count": 64,
   "id": "ebbd8a3b",
   "metadata": {},
   "outputs": [
    {
     "data": {
      "text/plain": [
       "torch.Size([64, 20, 20, 38])"
      ]
     },
     "execution_count": 64,
     "metadata": {},
     "output_type": "execute_result"
    }
   ],
   "source": [
    "x_cat_marginal.shape"
   ]
  },
  {
   "cell_type": "code",
   "execution_count": 65,
   "id": "71128c6f",
   "metadata": {},
   "outputs": [],
   "source": [
    "vd = vds.make_dist(x_cat_marginal)"
   ]
  },
  {
   "cell_type": "code",
   "execution_count": 66,
   "id": "3202d682",
   "metadata": {},
   "outputs": [
    {
     "data": {
      "text/plain": [
       "VariationalDist()"
      ]
     },
     "execution_count": 66,
     "metadata": {},
     "output_type": "execute_result"
    }
   ],
   "source": [
    "vd"
   ]
  },
  {
   "cell_type": "code",
   "execution_count": null,
   "id": "b5fc4e39",
   "metadata": {},
   "outputs": [],
   "source": []
  },
  {
   "cell_type": "code",
   "execution_count": null,
   "id": "8e424e88",
   "metadata": {},
   "outputs": [],
   "source": []
  },
  {
   "cell_type": "code",
   "execution_count": null,
   "id": "35c47898",
   "metadata": {},
   "outputs": [],
   "source": []
  },
  {
   "cell_type": "code",
   "execution_count": null,
   "id": "a37c73b4",
   "metadata": {},
   "outputs": [],
   "source": []
  },
  {
   "cell_type": "code",
   "execution_count": 37,
   "id": "8f57c397",
   "metadata": {},
   "outputs": [
    {
     "data": {
      "text/plain": [
       "{'transforms': [ExpTransform()],\n",
       " 'base_dist': Normal(loc: torch.Size([64, 20, 20]), scale: torch.Size([64, 20, 20])),\n",
       " '_batch_shape': torch.Size([64, 20, 20]),\n",
       " '_event_shape': torch.Size([]),\n",
       " '_validate_args': False}"
      ]
     },
     "execution_count": 37,
     "metadata": {},
     "output_type": "execute_result"
    }
   ],
   "source": [
    "vars(pred['marginal'].pred['galaxy_flux_z'])"
   ]
  },
  {
   "cell_type": "code",
   "execution_count": 44,
   "id": "c4b87c8d",
   "metadata": {},
   "outputs": [
    {
     "data": {
      "text/plain": [
       "2"
      ]
     },
     "execution_count": 44,
     "metadata": {},
     "output_type": "execute_result"
    }
   ],
   "source": [
    "pred['marginal'].pred['loc'].base_dist._event_shape[0]"
   ]
  },
  {
   "cell_type": "code",
   "execution_count": null,
   "id": "7d41f5fc",
   "metadata": {},
   "outputs": [],
   "source": [
    "pred['marginal'].pred['galsim_a"
   ]
  },
  {
   "cell_type": "code",
   "execution_count": 46,
   "id": "38c07779",
   "metadata": {},
   "outputs": [
    {
     "data": {
      "text/plain": [
       "torch.Size([])"
      ]
     },
     "execution_count": 46,
     "metadata": {},
     "output_type": "execute_result"
    }
   ],
   "source": [
    "pred['marginal'].pred['galsim_a_d'].base_dist._event_shape"
   ]
  },
  {
   "cell_type": "code",
   "execution_count": 54,
   "id": "ce5b3429",
   "metadata": {},
   "outputs": [
    {
     "name": "stdout",
     "output_type": "stream",
     "text": [
      "on_prob\n",
      "1\n",
      "loc\n",
      "2\n",
      "galaxy_prob\n",
      "1\n",
      "galsim_disk_frac\n",
      "1\n",
      "galsim_beta_radians\n",
      "1\n",
      "galsim_disk_q\n",
      "1\n",
      "galsim_a_d\n",
      "1\n",
      "galsim_bulge_q\n",
      "1\n",
      "galsim_a_b\n",
      "1\n",
      "star_flux_u\n",
      "1\n",
      "star_flux_g\n",
      "1\n",
      "star_flux_r\n",
      "1\n",
      "star_flux_i\n",
      "1\n",
      "star_flux_z\n",
      "1\n",
      "galaxy_flux_u\n",
      "1\n",
      "galaxy_flux_g\n",
      "1\n",
      "galaxy_flux_r\n",
      "1\n",
      "galaxy_flux_i\n",
      "1\n",
      "galaxy_flux_z\n",
      "1\n"
     ]
    }
   ],
   "source": [
    "total = 0\n",
    "for key, value in pred['marginal'].pred.items():\n",
    "    print(key)\n",
    "    try:\n",
    "        dim = pred['marginal'].pred[key].base_dist._event_shape[-1]\n",
    "    except:\n",
    "        dim = 1\n",
    "    total += dim\n",
    "    print(dim)\n",
    "    "
   ]
  },
  {
   "cell_type": "code",
   "execution_count": 53,
   "id": "92512c75",
   "metadata": {},
   "outputs": [
    {
     "data": {
      "text/plain": [
       "20"
      ]
     },
     "execution_count": 53,
     "metadata": {},
     "output_type": "execute_result"
    }
   ],
   "source": [
    "total"
   ]
  },
  {
   "cell_type": "code",
   "execution_count": null,
   "id": "9b3f1471",
   "metadata": {},
   "outputs": [],
   "source": []
  },
  {
   "cell_type": "code",
   "execution_count": 31,
   "id": "6e0637b9",
   "metadata": {},
   "outputs": [
    {
     "ename": "RuntimeError",
     "evalue": "split_with_sizes expects split_sizes to sum exactly to 20 (input tensor's size at dimension 3), but got split_sizes=[1, 4, 1, 2, 2, 2, 2, 2, 2, 2, 2, 2, 2, 2, 2, 2, 2, 2, 2]",
     "output_type": "error",
     "traceback": [
      "\u001b[0;31m---------------------------------------------------------------------------\u001b[0m",
      "\u001b[0;31mRuntimeError\u001b[0m                              Traceback (most recent call last)",
      "Cell \u001b[0;32mIn[31], line 1\u001b[0m\n\u001b[0;32m----> 1\u001b[0m vd \u001b[38;5;241m=\u001b[39m \u001b[43mvds\u001b[49m\u001b[38;5;241;43m.\u001b[39;49m\u001b[43mmake_dist\u001b[49m\u001b[43m(\u001b[49m\u001b[43mpred\u001b[49m\u001b[43m[\u001b[49m\u001b[38;5;124;43m'\u001b[39;49m\u001b[38;5;124;43mx_features\u001b[39;49m\u001b[38;5;124;43m'\u001b[39;49m\u001b[43m]\u001b[49m\u001b[43m)\u001b[49m\n",
      "File \u001b[0;32m~/current/bliss/bliss/encoder/variational_dist.py:55\u001b[0m, in \u001b[0;36mVariationalDistSpec.make_dist\u001b[0;34m(self, x_cat)\u001b[0m\n\u001b[1;32m     52\u001b[0m \u001b[38;5;28;01mdef\u001b[39;00m \u001b[38;5;21mmake_dist\u001b[39m(\u001b[38;5;28mself\u001b[39m, x_cat):\n\u001b[1;32m     53\u001b[0m     \u001b[38;5;66;03m# override this method to instantiate a subclass of VariationalGrid, e.g.,\u001b[39;00m\n\u001b[1;32m     54\u001b[0m     \u001b[38;5;66;03m# one with additional distribution parameter groups\u001b[39;00m\n\u001b[0;32m---> 55\u001b[0m     factors \u001b[38;5;241m=\u001b[39m \u001b[38;5;28;43mself\u001b[39;49m\u001b[38;5;241;43m.\u001b[39;49m\u001b[43m_parse_factors\u001b[49m\u001b[43m(\u001b[49m\u001b[43mx_cat\u001b[49m\u001b[43m)\u001b[49m\n\u001b[1;32m     56\u001b[0m     \u001b[38;5;28;01mreturn\u001b[39;00m VariationalDist(factors, \u001b[38;5;28mself\u001b[39m\u001b[38;5;241m.\u001b[39msurvey_bands, \u001b[38;5;28mself\u001b[39m\u001b[38;5;241m.\u001b[39mtile_slen)\n",
      "File \u001b[0;32m~/current/bliss/bliss/encoder/variational_dist.py:43\u001b[0m, in \u001b[0;36mVariationalDistSpec._parse_factors\u001b[0;34m(self, x_cat)\u001b[0m\n\u001b[1;32m     41\u001b[0m \u001b[38;5;28;01mdef\u001b[39;00m \u001b[38;5;21m_parse_factors\u001b[39m(\u001b[38;5;28mself\u001b[39m, x_cat):\n\u001b[1;32m     42\u001b[0m     split_sizes \u001b[38;5;241m=\u001b[39m [v\u001b[38;5;241m.\u001b[39mdim \u001b[38;5;28;01mfor\u001b[39;00m v \u001b[38;5;129;01min\u001b[39;00m \u001b[38;5;28mself\u001b[39m\u001b[38;5;241m.\u001b[39mfactor_specs\u001b[38;5;241m.\u001b[39mvalues()]\n\u001b[0;32m---> 43\u001b[0m     dist_params_split \u001b[38;5;241m=\u001b[39m \u001b[43mtorch\u001b[49m\u001b[38;5;241;43m.\u001b[39;49m\u001b[43msplit\u001b[49m\u001b[43m(\u001b[49m\u001b[43mx_cat\u001b[49m\u001b[43m,\u001b[49m\u001b[43m \u001b[49m\u001b[43msplit_sizes\u001b[49m\u001b[43m,\u001b[49m\u001b[43m \u001b[49m\u001b[38;5;241;43m3\u001b[39;49m\u001b[43m)\u001b[49m\n\u001b[1;32m     44\u001b[0m     names \u001b[38;5;241m=\u001b[39m \u001b[38;5;28mself\u001b[39m\u001b[38;5;241m.\u001b[39mfactor_specs\u001b[38;5;241m.\u001b[39mkeys()\n\u001b[1;32m     45\u001b[0m     factors \u001b[38;5;241m=\u001b[39m \u001b[38;5;28mdict\u001b[39m(\u001b[38;5;28mzip\u001b[39m(names, dist_params_split))\n",
      "File \u001b[0;32m~/current/bliss/.venv/lib/python3.10/site-packages/torch/functional.py:189\u001b[0m, in \u001b[0;36msplit\u001b[0;34m(tensor, split_size_or_sections, dim)\u001b[0m\n\u001b[1;32m    183\u001b[0m     \u001b[38;5;28;01mreturn\u001b[39;00m handle_torch_function(\n\u001b[1;32m    184\u001b[0m         split, (tensor,), tensor, split_size_or_sections, dim\u001b[38;5;241m=\u001b[39mdim)\n\u001b[1;32m    185\u001b[0m \u001b[38;5;66;03m# Overwriting reason:\u001b[39;00m\n\u001b[1;32m    186\u001b[0m \u001b[38;5;66;03m# This dispatches to two ATen functions depending on the type of\u001b[39;00m\n\u001b[1;32m    187\u001b[0m \u001b[38;5;66;03m# split_size_or_sections. The branching code is in _tensor.py, which we\u001b[39;00m\n\u001b[1;32m    188\u001b[0m \u001b[38;5;66;03m# call here.\u001b[39;00m\n\u001b[0;32m--> 189\u001b[0m \u001b[38;5;28;01mreturn\u001b[39;00m \u001b[43mtensor\u001b[49m\u001b[38;5;241;43m.\u001b[39;49m\u001b[43msplit\u001b[49m\u001b[43m(\u001b[49m\u001b[43msplit_size_or_sections\u001b[49m\u001b[43m,\u001b[49m\u001b[43m \u001b[49m\u001b[43mdim\u001b[49m\u001b[43m)\u001b[49m\n",
      "File \u001b[0;32m~/current/bliss/.venv/lib/python3.10/site-packages/torch/_tensor.py:803\u001b[0m, in \u001b[0;36mTensor.split\u001b[0;34m(self, split_size, dim)\u001b[0m\n\u001b[1;32m    801\u001b[0m     \u001b[38;5;28;01mreturn\u001b[39;00m torch\u001b[38;5;241m.\u001b[39m_VF\u001b[38;5;241m.\u001b[39msplit(\u001b[38;5;28mself\u001b[39m, split_size, dim)  \u001b[38;5;66;03m# type: ignore[attr-defined]\u001b[39;00m\n\u001b[1;32m    802\u001b[0m \u001b[38;5;28;01melse\u001b[39;00m:\n\u001b[0;32m--> 803\u001b[0m     \u001b[38;5;28;01mreturn\u001b[39;00m \u001b[43mtorch\u001b[49m\u001b[38;5;241;43m.\u001b[39;49m\u001b[43m_VF\u001b[49m\u001b[38;5;241;43m.\u001b[39;49m\u001b[43msplit_with_sizes\u001b[49m\u001b[43m(\u001b[49m\u001b[38;5;28;43mself\u001b[39;49m\u001b[43m,\u001b[49m\u001b[43m \u001b[49m\u001b[43msplit_size\u001b[49m\u001b[43m,\u001b[49m\u001b[43m \u001b[49m\u001b[43mdim\u001b[49m\u001b[43m)\u001b[49m\n",
      "\u001b[0;31mRuntimeError\u001b[0m: split_with_sizes expects split_sizes to sum exactly to 20 (input tensor's size at dimension 3), but got split_sizes=[1, 4, 1, 2, 2, 2, 2, 2, 2, 2, 2, 2, 2, 2, 2, 2, 2, 2, 2]"
     ]
    }
   ],
   "source": [
    "vd = vds.make_dist(pred['x_features'])"
   ]
  },
  {
   "cell_type": "code",
   "execution_count": null,
   "id": "3ef36460",
   "metadata": {},
   "outputs": [],
   "source": []
  },
  {
   "cell_type": "code",
   "execution_count": null,
   "id": "deb233fa",
   "metadata": {},
   "outputs": [],
   "source": []
  },
  {
   "cell_type": "code",
   "execution_count": null,
   "id": "29d1122c",
   "metadata": {},
   "outputs": [],
   "source": []
  },
  {
   "cell_type": "code",
   "execution_count": null,
   "id": "24f9d82c",
   "metadata": {},
   "outputs": [],
   "source": []
  },
  {
   "cell_type": "code",
   "execution_count": null,
   "id": "8541ae72",
   "metadata": {},
   "outputs": [],
   "source": []
  },
  {
   "cell_type": "code",
   "execution_count": null,
   "id": "3b0a8a41",
   "metadata": {},
   "outputs": [],
   "source": []
  },
  {
   "cell_type": "code",
   "execution_count": null,
   "id": "96916045",
   "metadata": {},
   "outputs": [],
   "source": []
  },
  {
   "cell_type": "code",
   "execution_count": null,
   "id": "22c63a80",
   "metadata": {},
   "outputs": [],
   "source": []
  },
  {
   "cell_type": "code",
   "execution_count": null,
   "id": "67c46455",
   "metadata": {},
   "outputs": [],
   "source": []
  },
  {
   "cell_type": "code",
   "execution_count": null,
   "id": "da9f1cab",
   "metadata": {},
   "outputs": [],
   "source": []
  },
  {
   "cell_type": "code",
   "execution_count": null,
   "id": "0b54c04f",
   "metadata": {},
   "outputs": [],
   "source": []
  },
  {
   "cell_type": "markdown",
   "id": "9b9b4ec8",
   "metadata": {},
   "source": [
    "#### Below is first playing around, working with my config a bit. Trying to generate redshifts (dummy)"
   ]
  },
  {
   "cell_type": "code",
   "execution_count": null,
   "id": "8163d060",
   "metadata": {},
   "outputs": [],
   "source": [
    "import sys\n",
    "import os"
   ]
  },
  {
   "cell_type": "code",
   "execution_count": null,
   "id": "2122d016",
   "metadata": {},
   "outputs": [],
   "source": [
    "os.getcwd()"
   ]
  },
  {
   "cell_type": "code",
   "execution_count": null,
   "id": "081900bd",
   "metadata": {},
   "outputs": [],
   "source": [
    "os.chdir('/home/declan/current/bliss')"
   ]
  },
  {
   "cell_type": "code",
   "execution_count": null,
   "id": "bc70a764",
   "metadata": {},
   "outputs": [],
   "source": [
    "sys.path.append('./case_studies/redshift')"
   ]
  },
  {
   "cell_type": "code",
   "execution_count": null,
   "id": "04657ad2",
   "metadata": {},
   "outputs": [],
   "source": [
    "from bliss.encoder.variational_dist import VariationalDistSpec, VariationalDist\n",
    "from bliss.encoder.unconstrained_dists import UnconstrainedNormal\n",
    "import torch"
   ]
  },
  {
   "cell_type": "code",
   "execution_count": null,
   "id": "73cf562f",
   "metadata": {},
   "outputs": [],
   "source": [
    "import numpy as np\n",
    "from os import environ\n",
    "from pathlib import Path\n",
    "from hydra import initialize, compose\n",
    "from hydra.utils import instantiate\n",
    "import matplotlib.pyplot as plt"
   ]
  },
  {
   "cell_type": "code",
   "execution_count": null,
   "id": "c071ab00",
   "metadata": {},
   "outputs": [],
   "source": [
    "environ[\"BLISS_HOME\"] = \"/home/declan/current/bliss\"\n",
    "with initialize(config_path=\".\", version_base=None):\n",
    "    cfg = compose(\"redshift\", overrides={\"surveys.sdss.load_image_data=true\"})"
   ]
  },
  {
   "cell_type": "code",
   "execution_count": null,
   "id": "8451051f",
   "metadata": {},
   "outputs": [],
   "source": [
    "cfg.simulator"
   ]
  },
  {
   "cell_type": "code",
   "execution_count": null,
   "id": "73ec8a9f",
   "metadata": {},
   "outputs": [],
   "source": [
    "simulator = instantiate(cfg.simulator)"
   ]
  },
  {
   "cell_type": "code",
   "execution_count": null,
   "id": "7e6607ff",
   "metadata": {},
   "outputs": [],
   "source": [
    "simulator"
   ]
  },
  {
   "cell_type": "code",
   "execution_count": null,
   "id": "de1a185d",
   "metadata": {},
   "outputs": [],
   "source": [
    "vars(simulator)"
   ]
  },
  {
   "cell_type": "code",
   "execution_count": null,
   "id": "85d45e85",
   "metadata": {},
   "outputs": [],
   "source": [
    "simulator.catalog_prior.redshift_max"
   ]
  },
  {
   "cell_type": "code",
   "execution_count": null,
   "id": "04e6d566",
   "metadata": {},
   "outputs": [],
   "source": [
    "simulator.catalog_prior.galaxy_flux_min"
   ]
  },
  {
   "cell_type": "code",
   "execution_count": null,
   "id": "d932c994",
   "metadata": {},
   "outputs": [],
   "source": [
    "simulator.catalog_prior._sample_redshifts().shape"
   ]
  },
  {
   "cell_type": "code",
   "execution_count": null,
   "id": "09cc40a1",
   "metadata": {},
   "outputs": [],
   "source": [
    "yo = simulator.catalog_prior.sample()"
   ]
  },
  {
   "cell_type": "code",
   "execution_count": null,
   "id": "51ad9774",
   "metadata": {},
   "outputs": [],
   "source": [
    "yo.redshifts"
   ]
  },
  {
   "cell_type": "code",
   "execution_count": null,
   "id": "8171314f",
   "metadata": {},
   "outputs": [],
   "source": [
    "type(yo)"
   ]
  },
  {
   "cell_type": "code",
   "execution_count": null,
   "id": "4acc01d5",
   "metadata": {},
   "outputs": [],
   "source": [
    "yo.n_sources.shape"
   ]
  },
  {
   "cell_type": "code",
   "execution_count": null,
   "id": "a93f7bae",
   "metadata": {},
   "outputs": [],
   "source": [
    "yo.__getitem__(\"redshifts\")"
   ]
  },
  {
   "cell_type": "code",
   "execution_count": null,
   "id": "47c21b70",
   "metadata": {},
   "outputs": [],
   "source": [
    "yo.allowed_params"
   ]
  },
  {
   "cell_type": "code",
   "execution_count": null,
   "id": "161ee844",
   "metadata": {},
   "outputs": [],
   "source": []
  },
  {
   "cell_type": "code",
   "execution_count": null,
   "id": "1c2eb17e",
   "metadata": {},
   "outputs": [],
   "source": [
    "simulator = instantiate(cfg.simulator)"
   ]
  },
  {
   "cell_type": "code",
   "execution_count": null,
   "id": "95f8a3cb",
   "metadata": {},
   "outputs": [],
   "source": [
    "tc = simulator.catalog_prior.sample()"
   ]
  },
  {
   "cell_type": "code",
   "execution_count": null,
   "id": "6959eb0c",
   "metadata": {},
   "outputs": [],
   "source": [
    "tc"
   ]
  },
  {
   "cell_type": "code",
   "execution_count": null,
   "id": "ec38c173",
   "metadata": {},
   "outputs": [],
   "source": [
    "vars(tc).keys()"
   ]
  },
  {
   "cell_type": "code",
   "execution_count": null,
   "id": "cf8e76c6",
   "metadata": {},
   "outputs": [],
   "source": [
    "tc.n_sources.shape"
   ]
  },
  {
   "cell_type": "code",
   "execution_count": null,
   "id": "d94d67fd",
   "metadata": {},
   "outputs": [],
   "source": [
    "tc.n_tiles_h"
   ]
  },
  {
   "cell_type": "code",
   "execution_count": null,
   "id": "a3186aaf",
   "metadata": {},
   "outputs": [],
   "source": [
    "tc.n_sources[0][0][0]"
   ]
  },
  {
   "cell_type": "code",
   "execution_count": null,
   "id": "3c18b517",
   "metadata": {},
   "outputs": [],
   "source": [
    "tc.tile_slen"
   ]
  },
  {
   "cell_type": "code",
   "execution_count": null,
   "id": "3d959092",
   "metadata": {},
   "outputs": [],
   "source": [
    "tc.data.shape"
   ]
  },
  {
   "cell_type": "code",
   "execution_count": null,
   "id": "52b048db",
   "metadata": {},
   "outputs": [],
   "source": [
    "tc.data"
   ]
  },
  {
   "cell_type": "code",
   "execution_count": null,
   "id": "b7923072",
   "metadata": {},
   "outputs": [],
   "source": []
  }
 ],
 "metadata": {
  "kernelspec": {
   "display_name": "Python 3 (ipykernel)",
   "language": "python",
   "name": "python3"
  },
  "language_info": {
   "codemirror_mode": {
    "name": "ipython",
    "version": 3
   },
   "file_extension": ".py",
   "mimetype": "text/x-python",
   "name": "python",
   "nbconvert_exporter": "python",
   "pygments_lexer": "ipython3",
   "version": "3.10.12"
  }
 },
 "nbformat": 4,
 "nbformat_minor": 5
}

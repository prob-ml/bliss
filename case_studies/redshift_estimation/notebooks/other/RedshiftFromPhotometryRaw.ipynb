{
 "cells": [
  {
   "cell_type": "code",
   "execution_count": 1,
   "id": "d3578c49",
   "metadata": {},
   "outputs": [],
   "source": [
    "import torch\n",
    "import numpy as np\n",
    "import math\n",
    "import os\n",
    "import pytorch_lightning as pl\n",
    "import torch\n",
    "from hydra.utils import instantiate\n",
    "import matplotlib.pyplot as plt\n",
    "from case_studies.redshift_estimation.catalog import RedshiftFullCatalog, RedshiftTileCatalog\n",
    "from bliss.encoder.plotting import plot_detections, my_plot_detections\n",
    "import matplotlib.pyplot as plt\n",
    "import seaborn as sns\n",
    "import torch.nn as nn\n",
    "from einops import rearrange, reduce, repeat\n",
    "import pandas as pd"
   ]
  },
  {
   "cell_type": "code",
   "execution_count": 2,
   "id": "33c107e3",
   "metadata": {},
   "outputs": [],
   "source": [
    "from os import environ\n",
    "environ[\"CUDA_VISIBLE_DEVICES\"] = \"4\"\n",
    "\n",
    "from pathlib import Path\n",
    "from hydra import initialize, compose\n",
    "from bliss.main import predict\n",
    "\n",
    "environ[\"BLISS_HOME\"] = str(\"/home/declan/current/bliss\")"
   ]
  },
  {
   "cell_type": "code",
   "execution_count": 3,
   "id": "2827e204",
   "metadata": {},
   "outputs": [],
   "source": [
    "with initialize(config_path=\"../\", version_base=None):\n",
    "    cfg = compose(\"redshift\", {\n",
    "        \"predict.weight_save_path=/data/scratch/declan/sdss_encoder_ckpt.ckpt\",\n",
    "        \"cached_simulator.cached_data_path=/data/scratch/declan/sdss_like_galaxies\"\n",
    "        })"
   ]
  },
  {
   "cell_type": "code",
   "execution_count": 4,
   "id": "f2895e59",
   "metadata": {},
   "outputs": [
    {
     "name": "stderr",
     "output_type": "stream",
     "text": [
      "Global seed set to 42\n"
     ]
    },
    {
     "data": {
      "text/plain": [
       "42"
      ]
     },
     "execution_count": 4,
     "metadata": {},
     "output_type": "execute_result"
    }
   ],
   "source": [
    "pl.seed_everything(cfg.train.seed)"
   ]
  },
  {
   "cell_type": "code",
   "execution_count": 5,
   "id": "81e858b4",
   "metadata": {},
   "outputs": [],
   "source": [
    "sdss_photo_z = pd.read_csv('/data/scratch/declan/GALAXY.csv')"
   ]
  },
  {
   "cell_type": "code",
   "execution_count": 6,
   "id": "0249edd0",
   "metadata": {},
   "outputs": [
    {
     "data": {
      "text/html": [
       "<div>\n",
       "<style scoped>\n",
       "    .dataframe tbody tr th:only-of-type {\n",
       "        vertical-align: middle;\n",
       "    }\n",
       "\n",
       "    .dataframe tbody tr th {\n",
       "        vertical-align: top;\n",
       "    }\n",
       "\n",
       "    .dataframe thead th {\n",
       "        text-align: right;\n",
       "    }\n",
       "</style>\n",
       "<table border=\"1\" class=\"dataframe\">\n",
       "  <thead>\n",
       "    <tr style=\"text-align: right;\">\n",
       "      <th></th>\n",
       "      <th>Unnamed: 0</th>\n",
       "      <th>objID</th>\n",
       "      <th>u_band</th>\n",
       "      <th>g_band</th>\n",
       "      <th>r_band</th>\n",
       "      <th>i_band</th>\n",
       "      <th>z_band</th>\n",
       "      <th>redshift</th>\n",
       "      <th>source_type</th>\n",
       "    </tr>\n",
       "  </thead>\n",
       "  <tbody>\n",
       "    <tr>\n",
       "      <th>0</th>\n",
       "      <td>1</td>\n",
       "      <td>1237648720142401611</td>\n",
       "      <td>17.15123</td>\n",
       "      <td>15.49701</td>\n",
       "      <td>14.67864</td>\n",
       "      <td>14.23418</td>\n",
       "      <td>13.90272</td>\n",
       "      <td>0.021222</td>\n",
       "      <td>GALAXY</td>\n",
       "    </tr>\n",
       "    <tr>\n",
       "      <th>1</th>\n",
       "      <td>2</td>\n",
       "      <td>1237650795146510627</td>\n",
       "      <td>21.33301</td>\n",
       "      <td>19.13112</td>\n",
       "      <td>17.71233</td>\n",
       "      <td>17.14911</td>\n",
       "      <td>16.76272</td>\n",
       "      <td>0.203783</td>\n",
       "      <td>GALAXY</td>\n",
       "    </tr>\n",
       "    <tr>\n",
       "      <th>2</th>\n",
       "      <td>4</td>\n",
       "      <td>1237650795146445031</td>\n",
       "      <td>19.50005</td>\n",
       "      <td>17.59248</td>\n",
       "      <td>16.67668</td>\n",
       "      <td>16.20502</td>\n",
       "      <td>15.84654</td>\n",
       "      <td>0.064656</td>\n",
       "      <td>GALAXY</td>\n",
       "    </tr>\n",
       "    <tr>\n",
       "      <th>3</th>\n",
       "      <td>5</td>\n",
       "      <td>1237648720142401670</td>\n",
       "      <td>19.48419</td>\n",
       "      <td>18.32629</td>\n",
       "      <td>17.84381</td>\n",
       "      <td>17.52679</td>\n",
       "      <td>17.42098</td>\n",
       "      <td>0.052654</td>\n",
       "      <td>GALAXY</td>\n",
       "    </tr>\n",
       "    <tr>\n",
       "      <th>4</th>\n",
       "      <td>6</td>\n",
       "      <td>1237648720142532891</td>\n",
       "      <td>20.43564</td>\n",
       "      <td>18.65154</td>\n",
       "      <td>17.46877</td>\n",
       "      <td>17.00000</td>\n",
       "      <td>16.66850</td>\n",
       "      <td>0.213861</td>\n",
       "      <td>GALAXY</td>\n",
       "    </tr>\n",
       "    <tr>\n",
       "      <th>5</th>\n",
       "      <td>7</td>\n",
       "      <td>1237650795146510903</td>\n",
       "      <td>25.33996</td>\n",
       "      <td>21.41559</td>\n",
       "      <td>19.63294</td>\n",
       "      <td>18.82156</td>\n",
       "      <td>18.31593</td>\n",
       "      <td>0.448220</td>\n",
       "      <td>GALAXY</td>\n",
       "    </tr>\n",
       "    <tr>\n",
       "      <th>6</th>\n",
       "      <td>8</td>\n",
       "      <td>1237648720142401774</td>\n",
       "      <td>22.21115</td>\n",
       "      <td>20.35695</td>\n",
       "      <td>18.53198</td>\n",
       "      <td>17.95600</td>\n",
       "      <td>17.54655</td>\n",
       "      <td>0.371128</td>\n",
       "      <td>GALAXY</td>\n",
       "    </tr>\n",
       "    <tr>\n",
       "      <th>7</th>\n",
       "      <td>9</td>\n",
       "      <td>1237650795146576091</td>\n",
       "      <td>19.95617</td>\n",
       "      <td>17.99290</td>\n",
       "      <td>16.84732</td>\n",
       "      <td>16.36030</td>\n",
       "      <td>15.94058</td>\n",
       "      <td>0.121271</td>\n",
       "      <td>GALAXY</td>\n",
       "    </tr>\n",
       "    <tr>\n",
       "      <th>8</th>\n",
       "      <td>10</td>\n",
       "      <td>1237650795146641532</td>\n",
       "      <td>20.32049</td>\n",
       "      <td>18.50948</td>\n",
       "      <td>17.61596</td>\n",
       "      <td>17.20631</td>\n",
       "      <td>16.90706</td>\n",
       "      <td>0.097086</td>\n",
       "      <td>GALAXY</td>\n",
       "    </tr>\n",
       "    <tr>\n",
       "      <th>9</th>\n",
       "      <td>12</td>\n",
       "      <td>1237650795146576030</td>\n",
       "      <td>20.77635</td>\n",
       "      <td>18.64786</td>\n",
       "      <td>17.30996</td>\n",
       "      <td>16.71203</td>\n",
       "      <td>16.22114</td>\n",
       "      <td>0.126590</td>\n",
       "      <td>GALAXY</td>\n",
       "    </tr>\n",
       "  </tbody>\n",
       "</table>\n",
       "</div>"
      ],
      "text/plain": [
       "   Unnamed: 0                objID    u_band    g_band    r_band    i_band  \\\n",
       "0           1  1237648720142401611  17.15123  15.49701  14.67864  14.23418   \n",
       "1           2  1237650795146510627  21.33301  19.13112  17.71233  17.14911   \n",
       "2           4  1237650795146445031  19.50005  17.59248  16.67668  16.20502   \n",
       "3           5  1237648720142401670  19.48419  18.32629  17.84381  17.52679   \n",
       "4           6  1237648720142532891  20.43564  18.65154  17.46877  17.00000   \n",
       "5           7  1237650795146510903  25.33996  21.41559  19.63294  18.82156   \n",
       "6           8  1237648720142401774  22.21115  20.35695  18.53198  17.95600   \n",
       "7           9  1237650795146576091  19.95617  17.99290  16.84732  16.36030   \n",
       "8          10  1237650795146641532  20.32049  18.50948  17.61596  17.20631   \n",
       "9          12  1237650795146576030  20.77635  18.64786  17.30996  16.71203   \n",
       "\n",
       "     z_band  redshift source_type  \n",
       "0  13.90272  0.021222      GALAXY  \n",
       "1  16.76272  0.203783      GALAXY  \n",
       "2  15.84654  0.064656      GALAXY  \n",
       "3  17.42098  0.052654      GALAXY  \n",
       "4  16.66850  0.213861      GALAXY  \n",
       "5  18.31593  0.448220      GALAXY  \n",
       "6  17.54655  0.371128      GALAXY  \n",
       "7  15.94058  0.121271      GALAXY  \n",
       "8  16.90706  0.097086      GALAXY  \n",
       "9  16.22114  0.126590      GALAXY  "
      ]
     },
     "execution_count": 6,
     "metadata": {},
     "output_type": "execute_result"
    }
   ],
   "source": [
    "sdss_photo_z.head(10)"
   ]
  },
  {
   "cell_type": "code",
   "execution_count": 7,
   "id": "57ac83ee",
   "metadata": {},
   "outputs": [],
   "source": [
    "x = sdss_photo_z.values[:,2:7]\n",
    "y = sdss_photo_z.values[:,7]"
   ]
  },
  {
   "cell_type": "code",
   "execution_count": 8,
   "id": "18252578",
   "metadata": {},
   "outputs": [],
   "source": [
    "from tqdm import tqdm\n",
    "\n",
    "class Regressor(torch.nn.Module):\n",
    "    def __init__(\n",
    "        self, in_dim, hidden_dim, out_dim, device\n",
    "    ):\n",
    "        super().__init__()\n",
    "        self.in_dim = in_dim\n",
    "        self.hidden_dim = hidden_dim\n",
    "        self.out_dim = out_dim\n",
    "        self.device = device\n",
    "        self.loss_fcn = nn.MSELoss()\n",
    "\n",
    "        self.dense = torch.nn.Sequential(\n",
    "            nn.Linear(in_dim, hidden_dim),\n",
    "            nn.ReLU(),\n",
    "            nn.Linear(hidden_dim, hidden_dim),\n",
    "            nn.ReLU(),\n",
    "            nn.Linear(hidden_dim, hidden_dim),\n",
    "            nn.ReLU(),\n",
    "            nn.Linear(hidden_dim, out_dim),\n",
    "        )\n",
    "        \n",
    "        self.optimizer = torch.optim.Adam(self.dense.parameters(), lr=1e-3)\n",
    "\n",
    "    def forward(self, photometry):\n",
    "        return self.dense(photometry)\n",
    "    \n",
    "    def train_one_epoch(self, dataloader):\n",
    "        losses = []\n",
    "        for idx, (x, y) in tqdm(enumerate(dataloader), unit='batch'):\n",
    "            x = x.to(self.device)\n",
    "            y = y.to(self.device)\n",
    "            self.optimizer.zero_grad()\n",
    "            loss = self.loss_fcn(self.dense(x).view(-1), y)\n",
    "            loss.backward()\n",
    "            self.optimizer.step()\n",
    "            \n",
    "            losses.append(loss.item())\n",
    "            \n",
    "        return torch.tensor(losses).mean()\n",
    "    \n",
    "    def train(self, dataloader, n_epochs=100):\n",
    "        for i in range(n_epochs):\n",
    "            this_epoch_average_loss = self.train_one_epoch(dataloader)\n",
    "            print('Epoch {}: Avg. Loss {}'.format(i, this_epoch_average_loss))"
   ]
  },
  {
   "cell_type": "code",
   "execution_count": 9,
   "id": "c57d5f6b",
   "metadata": {},
   "outputs": [],
   "source": [
    "x = x.astype(float)\n",
    "y = y.astype(float)"
   ]
  },
  {
   "cell_type": "code",
   "execution_count": 10,
   "id": "bc568608",
   "metadata": {},
   "outputs": [],
   "source": [
    "from torch.utils.data import TensorDataset, DataLoader\n",
    "\n",
    "# use x_train and y_train as numpy array without further modification\n",
    "x_train = np.array(x)\n",
    "y_train = np.array(y)\n",
    "\n",
    "# convert to numpys to tensor\n",
    "tensor_x = torch.Tensor(x_train) \n",
    "tensor_y = torch.Tensor(y_train)\n",
    "# create the dataset\n",
    "custom_dataset = TensorDataset(tensor_x,tensor_y) \n",
    "# create your dataloader\n",
    "train_dataloader = DataLoader(custom_dataset,batch_size=2048) "
   ]
  },
  {
   "cell_type": "code",
   "execution_count": 11,
   "id": "3d985871",
   "metadata": {},
   "outputs": [],
   "source": [
    "reg = Regressor(5, 256, 1, 'cuda')\n",
    "reg = reg.to('cuda')"
   ]
  },
  {
   "cell_type": "code",
   "execution_count": 12,
   "id": "e945a282",
   "metadata": {},
   "outputs": [
    {
     "name": "stderr",
     "output_type": "stream",
     "text": [
      "418batch [00:16, 24.80batch/s]\n"
     ]
    },
    {
     "name": "stdout",
     "output_type": "stream",
     "text": [
      "Epoch 0: Avg. Loss 0.036019641906023026\n"
     ]
    },
    {
     "name": "stderr",
     "output_type": "stream",
     "text": [
      "418batch [00:14, 29.54batch/s]\n"
     ]
    },
    {
     "name": "stdout",
     "output_type": "stream",
     "text": [
      "Epoch 1: Avg. Loss 0.004865583498030901\n"
     ]
    },
    {
     "name": "stderr",
     "output_type": "stream",
     "text": [
      "418batch [00:10, 38.39batch/s]\n"
     ]
    },
    {
     "name": "stdout",
     "output_type": "stream",
     "text": [
      "Epoch 2: Avg. Loss 0.0038388564717024565\n"
     ]
    },
    {
     "name": "stderr",
     "output_type": "stream",
     "text": [
      "418batch [00:10, 40.87batch/s]\n"
     ]
    },
    {
     "name": "stdout",
     "output_type": "stream",
     "text": [
      "Epoch 3: Avg. Loss 0.002813660306856036\n"
     ]
    },
    {
     "name": "stderr",
     "output_type": "stream",
     "text": [
      "418batch [00:11, 36.96batch/s]\n"
     ]
    },
    {
     "name": "stdout",
     "output_type": "stream",
     "text": [
      "Epoch 4: Avg. Loss 0.002674606628715992\n"
     ]
    },
    {
     "name": "stderr",
     "output_type": "stream",
     "text": [
      "418batch [00:14, 29.32batch/s]\n"
     ]
    },
    {
     "name": "stdout",
     "output_type": "stream",
     "text": [
      "Epoch 5: Avg. Loss 0.002406184794381261\n"
     ]
    },
    {
     "name": "stderr",
     "output_type": "stream",
     "text": [
      "418batch [00:12, 33.40batch/s]\n"
     ]
    },
    {
     "name": "stdout",
     "output_type": "stream",
     "text": [
      "Epoch 6: Avg. Loss 0.0022849238011986017\n"
     ]
    },
    {
     "name": "stderr",
     "output_type": "stream",
     "text": [
      "418batch [00:10, 41.30batch/s]\n"
     ]
    },
    {
     "name": "stdout",
     "output_type": "stream",
     "text": [
      "Epoch 7: Avg. Loss 0.0022694298531860113\n"
     ]
    },
    {
     "name": "stderr",
     "output_type": "stream",
     "text": [
      "418batch [00:13, 31.45batch/s]\n"
     ]
    },
    {
     "name": "stdout",
     "output_type": "stream",
     "text": [
      "Epoch 8: Avg. Loss 0.0020379466004669666\n"
     ]
    },
    {
     "name": "stderr",
     "output_type": "stream",
     "text": [
      "418batch [00:10, 41.32batch/s]"
     ]
    },
    {
     "name": "stdout",
     "output_type": "stream",
     "text": [
      "Epoch 9: Avg. Loss 0.002096329815685749\n"
     ]
    },
    {
     "name": "stderr",
     "output_type": "stream",
     "text": [
      "\n"
     ]
    }
   ],
   "source": [
    "reg.train(train_dataloader, n_epochs=10)"
   ]
  },
  {
   "cell_type": "code",
   "execution_count": 13,
   "id": "0263a83f",
   "metadata": {},
   "outputs": [
    {
     "name": "stderr",
     "output_type": "stream",
     "text": [
      "101batch [00:02, 35.65batch/s]\n"
     ]
    }
   ],
   "source": [
    "preds = []\n",
    "trues = []\n",
    "for idx, (x, y) in tqdm(enumerate(train_dataloader), unit='batch'):\n",
    "    x = x.to(reg.device)\n",
    "    y = y.to(reg.device)\n",
    "    pred_this_batch = reg.dense(x)\n",
    "    preds.append(pred_this_batch)\n",
    "    trues.append(y)\n",
    "    \n",
    "\n",
    "    if idx > 100:\n",
    "        break"
   ]
  },
  {
   "cell_type": "code",
   "execution_count": 14,
   "id": "e43aafc5",
   "metadata": {},
   "outputs": [],
   "source": [
    "preds = torch.cat(preds)\n",
    "trues = torch.cat(trues)"
   ]
  },
  {
   "cell_type": "code",
   "execution_count": 15,
   "id": "33aaebd0",
   "metadata": {},
   "outputs": [
    {
     "data": {
      "text/plain": [
       "<matplotlib.collections.PathCollection at 0x7f50a0c89270>"
      ]
     },
     "execution_count": 15,
     "metadata": {},
     "output_type": "execute_result"
    },
    {
     "data": {
      "image/png": "[encoded data removed]",
      "text/plain": [
       "<Figure size 640x480 with 1 Axes>"
      ]
     },
     "metadata": {},
     "output_type": "display_data"
    }
   ],
   "source": [
    "plt.scatter(preds.detach().cpu().numpy(), trues.detach().cpu().numpy(), alpha=0.1, s=3)"
   ]
  },
  {
   "cell_type": "code",
   "execution_count": 16,
   "id": "df3161a1",
   "metadata": {},
   "outputs": [
    {
     "data": {
      "text/plain": [
       "torch.Size([208896, 1])"
      ]
     },
     "execution_count": 16,
     "metadata": {},
     "output_type": "execute_result"
    }
   ],
   "source": [
    "preds.shape"
   ]
  },
  {
   "cell_type": "code",
   "execution_count": null,
   "id": "e59dc498",
   "metadata": {},
   "outputs": [],
   "source": []
  },
  {
   "cell_type": "code",
   "execution_count": null,
   "id": "1f8f7ea1",
   "metadata": {},
   "outputs": [],
   "source": []
  },
  {
   "cell_type": "code",
   "execution_count": null,
   "id": "62158678",
   "metadata": {},
   "outputs": [],
   "source": []
  },
  {
   "cell_type": "code",
   "execution_count": null,
   "id": "8b797d77",
   "metadata": {},
   "outputs": [],
   "source": [
    "# This cell will take some time to run to load the dataset\n",
    "pl.seed_everything(cfg.train.seed)\n",
    "\n",
    "# setup dataset and encoder\n",
    "dataset = instantiate(cfg.train.data_source)\n",
    "encoder = instantiate(cfg.train.encoder)"
   ]
  },
  {
   "cell_type": "code",
   "execution_count": null,
   "id": "0baa6a54",
   "metadata": {},
   "outputs": [],
   "source": [
    "bliss_train_dataloader = dataset.train_dataloader() \n",
    "batch = next(iter(bliss_train_dataloader))\n",
    "print('Batch of images is of shape {}'.format(batch['images'].shape))"
   ]
  },
  {
   "cell_type": "code",
   "execution_count": null,
   "id": "1fd7eedd",
   "metadata": {},
   "outputs": [],
   "source": [
    "batch['tile_catalog'].keys()"
   ]
  },
  {
   "cell_type": "code",
   "execution_count": null,
   "id": "7068d9e3",
   "metadata": {},
   "outputs": [],
   "source": [
    "fluxes_used = batch['tile_catalog']['galaxy_fluxes']\n",
    "redshifts_used = batch['tile_catalog']['redshifts']"
   ]
  },
  {
   "cell_type": "code",
   "execution_count": null,
   "id": "4500610f",
   "metadata": {},
   "outputs": [],
   "source": [
    "fluxes_used = rearrange(fluxes_used, 'b w h 1 d -> (b w h) d')\n",
    "redshifts_used = rearrange(redshifts_used, 'b w h 1 d -> (b w h) d')"
   ]
  },
  {
   "cell_type": "code",
   "execution_count": null,
   "id": "8602000c",
   "metadata": {},
   "outputs": [],
   "source": [
    "observations = torch.cat([fluxes_used, redshifts_used], axis=-1)"
   ]
  },
  {
   "cell_type": "code",
   "execution_count": null,
   "id": "29844c09",
   "metadata": {},
   "outputs": [],
   "source": [
    "observations"
   ]
  },
  {
   "cell_type": "markdown",
   "id": "0940193f",
   "metadata": {},
   "source": [
    "These observations should have been drawn from rows of GALAXY.csv, is my understanding."
   ]
  },
  {
   "cell_type": "code",
   "execution_count": null,
   "id": "8342ef66",
   "metadata": {},
   "outputs": [],
   "source": [
    "cfg.train.data_source"
   ]
  },
  {
   "cell_type": "code",
   "execution_count": null,
   "id": "1fc9f6ae",
   "metadata": {},
   "outputs": [],
   "source": [
    "sdss_photo_z.head(10)"
   ]
  },
  {
   "cell_type": "code",
   "execution_count": null,
   "id": "8e484482",
   "metadata": {},
   "outputs": [],
   "source": [
    "observations[:,-1].max()"
   ]
  },
  {
   "cell_type": "code",
   "execution_count": null,
   "id": "4cca24b5",
   "metadata": {},
   "outputs": [],
   "source": [
    "torch.where(observations[:,-1] > 0.934)"
   ]
  },
  {
   "cell_type": "code",
   "execution_count": null,
   "id": "a751457b",
   "metadata": {},
   "outputs": [],
   "source": [
    "observations[10368]"
   ]
  },
  {
   "cell_type": "code",
   "execution_count": null,
   "id": "6dd55271",
   "metadata": {},
   "outputs": [],
   "source": [
    "sdss_photo_z[(sdss_photo_z['redshift'] > 0.9345) & (sdss_photo_z['redshift'] < 0.9347)]"
   ]
  },
  {
   "cell_type": "markdown",
   "id": "9d23fa7e",
   "metadata": {},
   "source": [
    "Not looking promising....let's draw from a random dataset?"
   ]
  },
  {
   "cell_type": "code",
   "execution_count": null,
   "id": "0c5a7754",
   "metadata": {},
   "outputs": [],
   "source": [
    "dataset = torch.load(\"/data/scratch/declan/sdss_like_galaxies/dataset_0.pt\")"
   ]
  },
  {
   "cell_type": "code",
   "execution_count": null,
   "id": "5a57f5f7",
   "metadata": {},
   "outputs": [],
   "source": [
    "this_image_fluxes = dataset[0]['tile_catalog']['galaxy_fluxes']\n",
    "this_image_redshifts = dataset[0]['tile_catalog']['redshifts']"
   ]
  },
  {
   "cell_type": "code",
   "execution_count": null,
   "id": "da52dd94",
   "metadata": {},
   "outputs": [],
   "source": [
    "this_image_fluxes = rearrange(this_image_fluxes, 'h w 1 d -> (h w) d')\n",
    "this_image_redshifts = rearrange(this_image_redshifts, 'h w 1 d -> (h w) d')"
   ]
  },
  {
   "cell_type": "code",
   "execution_count": null,
   "id": "17c145f4",
   "metadata": {},
   "outputs": [],
   "source": [
    "image_0 = torch.cat([this_image_fluxes, this_image_redshifts], -1)"
   ]
  },
  {
   "cell_type": "code",
   "execution_count": null,
   "id": "2469ad88",
   "metadata": {},
   "outputs": [],
   "source": [
    "image_0[:,-1].max().item()"
   ]
  },
  {
   "cell_type": "code",
   "execution_count": null,
   "id": "642bd120",
   "metadata": {},
   "outputs": [],
   "source": [
    "torch.where(image_0[:,-1] > .5734093)"
   ]
  },
  {
   "cell_type": "code",
   "execution_count": null,
   "id": "b2db3736",
   "metadata": {},
   "outputs": [],
   "source": [
    "image_0[269]"
   ]
  },
  {
   "cell_type": "code",
   "execution_count": null,
   "id": "fe2a146e",
   "metadata": {},
   "outputs": [],
   "source": [
    "sdss_photo_z[(sdss_photo_z['redshift'] > 0.5734093) & (sdss_photo_z['redshift'] < 0.5735)]"
   ]
  },
  {
   "cell_type": "markdown",
   "id": "1fa19048",
   "metadata": {},
   "source": [
    "### Clearly there is an issue with the prior construction. Let's investigate (sigh)"
   ]
  },
  {
   "cell_type": "code",
   "execution_count": 7,
   "id": "2c294788",
   "metadata": {},
   "outputs": [],
   "source": [
    "my_prior = instantiate(cfg.prior)"
   ]
  },
  {
   "cell_type": "code",
   "execution_count": 10,
   "id": "97e105de",
   "metadata": {},
   "outputs": [],
   "source": [
    "cat = my_prior.sample()\n",
    "cat = cat.to_dict()"
   ]
  },
  {
   "cell_type": "code",
   "execution_count": 12,
   "id": "6519eaaf",
   "metadata": {},
   "outputs": [
    {
     "data": {
      "text/plain": [
       "dict_keys(['locs', 'n_sources', 'source_type', 'galaxy_fluxes', 'galaxy_params', 'star_fluxes', 'redshifts'])"
      ]
     },
     "execution_count": 12,
     "metadata": {},
     "output_type": "execute_result"
    }
   ],
   "source": [
    "cat.keys()"
   ]
  },
  {
   "cell_type": "code",
   "execution_count": 13,
   "id": "8d20ed4a",
   "metadata": {},
   "outputs": [],
   "source": [
    "this_image_fluxes = cat['galaxy_fluxes']\n",
    "this_image_redshifts = cat['redshifts']"
   ]
  },
  {
   "cell_type": "code",
   "execution_count": 14,
   "id": "bd2c436f",
   "metadata": {},
   "outputs": [],
   "source": [
    "this_image_fluxes = rearrange(this_image_fluxes, 'b h w 1 d -> (b h w) d')\n",
    "this_image_redshifts = rearrange(this_image_redshifts, 'b h w 1 d -> (b h w) d')"
   ]
  },
  {
   "cell_type": "code",
   "execution_count": 15,
   "id": "b439fda2",
   "metadata": {},
   "outputs": [],
   "source": [
    "all_objects = torch.cat([this_image_fluxes, this_image_redshifts], -1)"
   ]
  },
  {
   "cell_type": "code",
   "execution_count": 16,
   "id": "229a83fe",
   "metadata": {},
   "outputs": [
    {
     "data": {
      "text/plain": [
       "tensor([[19.0288, 17.8080, 17.3356, 17.0279, 16.8469,  0.0660],\n",
       "        [18.2855, 16.4914, 15.7722, 15.4235, 15.1650,  0.0632],\n",
       "        [20.7746, 19.5998, 18.6912, 18.2078, 17.8561,  0.1164],\n",
       "        ...,\n",
       "        [20.2237, 18.0903, 17.0952, 16.6836, 16.3568,  0.0904],\n",
       "        [19.9456, 18.2042, 17.2599, 16.8588, 16.4916,  0.1353],\n",
       "        [19.2419, 17.2537, 16.2417, 15.7919, 15.4254,  0.1132]])"
      ]
     },
     "execution_count": 16,
     "metadata": {},
     "output_type": "execute_result"
    }
   ],
   "source": [
    "all_objects"
   ]
  },
  {
   "cell_type": "code",
   "execution_count": 17,
   "id": "978274bc",
   "metadata": {},
   "outputs": [
    {
     "data": {
      "text/plain": [
       "0.9982324838638306"
      ]
     },
     "execution_count": 17,
     "metadata": {},
     "output_type": "execute_result"
    }
   ],
   "source": [
    "all_objects[:,-1].max().item()"
   ]
  },
  {
   "cell_type": "code",
   "execution_count": 18,
   "id": "7320deab",
   "metadata": {},
   "outputs": [
    {
     "data": {
      "text/plain": [
       "(tensor([3169]),)"
      ]
     },
     "execution_count": 18,
     "metadata": {},
     "output_type": "execute_result"
    }
   ],
   "source": [
    "torch.where(all_objects[:,-1] > .998)"
   ]
  },
  {
   "cell_type": "code",
   "execution_count": 19,
   "id": "249c4fa7",
   "metadata": {},
   "outputs": [
    {
     "data": {
      "text/plain": [
       "tensor([21.5009, 21.1751, 20.5881, 19.9058, 19.3929,  0.9982])"
      ]
     },
     "execution_count": 19,
     "metadata": {},
     "output_type": "execute_result"
    }
   ],
   "source": [
    "all_objects[3169]"
   ]
  },
  {
   "cell_type": "code",
   "execution_count": 20,
   "id": "a16d09e6",
   "metadata": {},
   "outputs": [
    {
     "data": {
      "text/html": [
       "<div>\n",
       "<style scoped>\n",
       "    .dataframe tbody tr th:only-of-type {\n",
       "        vertical-align: middle;\n",
       "    }\n",
       "\n",
       "    .dataframe tbody tr th {\n",
       "        vertical-align: top;\n",
       "    }\n",
       "\n",
       "    .dataframe thead th {\n",
       "        text-align: right;\n",
       "    }\n",
       "</style>\n",
       "<table border=\"1\" class=\"dataframe\">\n",
       "  <thead>\n",
       "    <tr style=\"text-align: right;\">\n",
       "      <th></th>\n",
       "      <th>Unnamed: 0</th>\n",
       "      <th>objID</th>\n",
       "      <th>u_band</th>\n",
       "      <th>g_band</th>\n",
       "      <th>r_band</th>\n",
       "      <th>i_band</th>\n",
       "      <th>z_band</th>\n",
       "      <th>redshift</th>\n",
       "      <th>source_type</th>\n",
       "    </tr>\n",
       "  </thead>\n",
       "  <tbody>\n",
       "    <tr>\n",
       "      <th>166041</th>\n",
       "      <td>195529</td>\n",
       "      <td>1237666408438694159</td>\n",
       "      <td>21.50090</td>\n",
       "      <td>21.17512</td>\n",
       "      <td>20.58808</td>\n",
       "      <td>19.90579</td>\n",
       "      <td>19.39288</td>\n",
       "      <td>0.998232</td>\n",
       "      <td>GALAXY</td>\n",
       "    </tr>\n",
       "    <tr>\n",
       "      <th>807272</th>\n",
       "      <td>993907</td>\n",
       "      <td>1237657587095896105</td>\n",
       "      <td>24.07526</td>\n",
       "      <td>24.15117</td>\n",
       "      <td>22.57249</td>\n",
       "      <td>21.48528</td>\n",
       "      <td>22.22804</td>\n",
       "      <td>0.998233</td>\n",
       "      <td>GALAXY</td>\n",
       "    </tr>\n",
       "  </tbody>\n",
       "</table>\n",
       "</div>"
      ],
      "text/plain": [
       "        Unnamed: 0                objID    u_band    g_band    r_band  \\\n",
       "166041      195529  1237666408438694159  21.50090  21.17512  20.58808   \n",
       "807272      993907  1237657587095896105  24.07526  24.15117  22.57249   \n",
       "\n",
       "          i_band    z_band  redshift source_type  \n",
       "166041  19.90579  19.39288  0.998232      GALAXY  \n",
       "807272  21.48528  22.22804  0.998233      GALAXY  "
      ]
     },
     "execution_count": 20,
     "metadata": {},
     "output_type": "execute_result"
    }
   ],
   "source": [
    "sdss_photo_z[(sdss_photo_z['redshift'] > 0.998) & (sdss_photo_z['redshift'] < 0.999)]"
   ]
  },
  {
   "cell_type": "code",
   "execution_count": null,
   "id": "ccb81c62",
   "metadata": {},
   "outputs": [],
   "source": []
  },
  {
   "cell_type": "code",
   "execution_count": null,
   "id": "e02d02e8",
   "metadata": {},
   "outputs": [],
   "source": []
  },
  {
   "cell_type": "code",
   "execution_count": null,
   "id": "709ccfb3",
   "metadata": {},
   "outputs": [],
   "source": []
  },
  {
   "cell_type": "code",
   "execution_count": null,
   "id": "735cbf97",
   "metadata": {},
   "outputs": [],
   "source": []
  },
  {
   "cell_type": "code",
   "execution_count": null,
   "id": "cdaa1106",
   "metadata": {},
   "outputs": [],
   "source": []
  },
  {
   "cell_type": "code",
   "execution_count": null,
   "id": "a6796831",
   "metadata": {},
   "outputs": [],
   "source": []
  },
  {
   "cell_type": "code",
   "execution_count": null,
   "id": "5e32fde1",
   "metadata": {},
   "outputs": [],
   "source": []
  },
  {
   "cell_type": "code",
   "execution_count": null,
   "id": "5f634836",
   "metadata": {},
   "outputs": [],
   "source": []
  },
  {
   "cell_type": "code",
   "execution_count": null,
   "id": "2d0d7a45",
   "metadata": {},
   "outputs": [],
   "source": [
    "from omegaconf import DictConfig, OmegaConf"
   ]
  },
  {
   "cell_type": "code",
   "execution_count": null,
   "id": "7ba13f9d",
   "metadata": {},
   "outputs": [],
   "source": [
    "my_dict = OmegaConf.to_container(cfg.prior)"
   ]
  },
  {
   "cell_type": "code",
   "execution_count": null,
   "id": "67a3cc7c",
   "metadata": {},
   "outputs": [],
   "source": [
    "my_dict.pop('_target_')"
   ]
  },
  {
   "cell_type": "code",
   "execution_count": null,
   "id": "d5f5613f",
   "metadata": {},
   "outputs": [],
   "source": [
    "yo = RedshiftCSVPrior_Galaxy(**my_dict)"
   ]
  },
  {
   "cell_type": "code",
   "execution_count": null,
   "id": "a7152227",
   "metadata": {},
   "outputs": [],
   "source": [
    "yo._sample_indices()"
   ]
  },
  {
   "cell_type": "code",
   "execution_count": null,
   "id": "f06613b2",
   "metadata": {},
   "outputs": [],
   "source": [
    "latent_dims = (32, 20, 20, 1, 1)"
   ]
  },
  {
   "cell_type": "code",
   "execution_count": null,
   "id": "f3c75f0e",
   "metadata": {},
   "outputs": [],
   "source": [
    "array = (\n",
    "            pd.read_csv(\n",
    "                \"/data/scratch/declan/GALAXY.csv\",\n",
    "                header=0,\n",
    "                dtype={\n",
    "                    \"u_band\": float,\n",
    "                    \"g_band\": float,\n",
    "                    \"r_band\": float,\n",
    "                    \"i_band\": float,\n",
    "                    \"z_band\": float,\n",
    "                    \"redshift\": float,\n",
    "                },\n",
    "            )\n",
    "            .to_numpy()[:, 2:8]\n",
    "            .astype(float)\n",
    "        )"
   ]
  },
  {
   "cell_type": "code",
   "execution_count": null,
   "id": "ee24ffc7",
   "metadata": {},
   "outputs": [],
   "source": [
    "indices = np.random.choice(range(len(array)), size=latent_dims, replace=True)"
   ]
  },
  {
   "cell_type": "code",
   "execution_count": null,
   "id": "ba2f5c57",
   "metadata": {},
   "outputs": [],
   "source": [
    "indices.shape"
   ]
  },
  {
   "cell_type": "code",
   "execution_count": null,
   "id": "72a1206b",
   "metadata": {},
   "outputs": [],
   "source": [
    "redshifts = torch.from_numpy(np.take(array[:, -1], indices))"
   ]
  },
  {
   "cell_type": "code",
   "execution_count": null,
   "id": "88944a3b",
   "metadata": {},
   "outputs": [],
   "source": [
    "redshifts[0,0,0]"
   ]
  },
  {
   "cell_type": "code",
   "execution_count": null,
   "id": "b81bbd03",
   "metadata": {},
   "outputs": [],
   "source": [
    "indices[0,0,0]"
   ]
  },
  {
   "cell_type": "code",
   "execution_count": null,
   "id": "719615e1",
   "metadata": {},
   "outputs": [],
   "source": [
    "array[838932]"
   ]
  },
  {
   "cell_type": "code",
   "execution_count": null,
   "id": "b4e9734c",
   "metadata": {},
   "outputs": [],
   "source": []
  },
  {
   "cell_type": "code",
   "execution_count": null,
   "id": "6ad6bacc",
   "metadata": {},
   "outputs": [],
   "source": []
  },
  {
   "cell_type": "code",
   "execution_count": null,
   "id": "0ecc428a",
   "metadata": {},
   "outputs": [],
   "source": []
  },
  {
   "cell_type": "code",
   "execution_count": null,
   "id": "24678867",
   "metadata": {},
   "outputs": [],
   "source": []
  },
  {
   "cell_type": "code",
   "execution_count": null,
   "id": "91a25144",
   "metadata": {},
   "outputs": [],
   "source": []
  },
  {
   "cell_type": "code",
   "execution_count": null,
   "id": "bad012b2",
   "metadata": {},
   "outputs": [],
   "source": []
  },
  {
   "cell_type": "code",
   "execution_count": null,
   "id": "0094bbac",
   "metadata": {},
   "outputs": [],
   "source": []
  },
  {
   "cell_type": "code",
   "execution_count": null,
   "id": "1e93d6e2",
   "metadata": {},
   "outputs": [],
   "source": []
  },
  {
   "cell_type": "code",
   "execution_count": null,
   "id": "1edeb2fb",
   "metadata": {},
   "outputs": [],
   "source": []
  },
  {
   "cell_type": "code",
   "execution_count": null,
   "id": "4893fe4e",
   "metadata": {},
   "outputs": [],
   "source": []
  },
  {
   "cell_type": "code",
   "execution_count": null,
   "id": "490937ba",
   "metadata": {},
   "outputs": [],
   "source": []
  },
  {
   "cell_type": "code",
   "execution_count": null,
   "id": "2cf6ba39",
   "metadata": {},
   "outputs": [],
   "source": []
  },
  {
   "cell_type": "code",
   "execution_count": null,
   "id": "6ad334c9",
   "metadata": {},
   "outputs": [],
   "source": []
  },
  {
   "cell_type": "code",
   "execution_count": null,
   "id": "1054744a",
   "metadata": {},
   "outputs": [],
   "source": []
  },
  {
   "cell_type": "code",
   "execution_count": null,
   "id": "1e369b33",
   "metadata": {},
   "outputs": [],
   "source": []
  },
  {
   "cell_type": "code",
   "execution_count": null,
   "id": "f5ba86a7",
   "metadata": {},
   "outputs": [],
   "source": []
  },
  {
   "cell_type": "code",
   "execution_count": null,
   "id": "14b7a736",
   "metadata": {},
   "outputs": [],
   "source": []
  },
  {
   "cell_type": "code",
   "execution_count": null,
   "id": "ba4fd3c5",
   "metadata": {},
   "outputs": [],
   "source": []
  },
  {
   "cell_type": "code",
   "execution_count": null,
   "id": "0e55b358",
   "metadata": {},
   "outputs": [],
   "source": []
  },
  {
   "cell_type": "code",
   "execution_count": null,
   "id": "e82a2b07",
   "metadata": {},
   "outputs": [],
   "source": []
  },
  {
   "cell_type": "code",
   "execution_count": null,
   "id": "e0cbfeef",
   "metadata": {},
   "outputs": [],
   "source": []
  },
  {
   "cell_type": "code",
   "execution_count": null,
   "id": "50602626",
   "metadata": {},
   "outputs": [],
   "source": [
    "dataset[0].keys()"
   ]
  },
  {
   "cell_type": "code",
   "execution_count": null,
   "id": "8e6221d8",
   "metadata": {},
   "outputs": [],
   "source": [
    "dataset[1].keys()"
   ]
  },
  {
   "cell_type": "code",
   "execution_count": null,
   "id": "82e0d214",
   "metadata": {},
   "outputs": [],
   "source": [
    "type(dataset[0])"
   ]
  },
  {
   "cell_type": "code",
   "execution_count": null,
   "id": "4e1bcde4",
   "metadata": {},
   "outputs": [],
   "source": [
    "dataset"
   ]
  },
  {
   "cell_type": "code",
   "execution_count": null,
   "id": "4b4c3fe9",
   "metadata": {},
   "outputs": [],
   "source": []
  },
  {
   "cell_type": "code",
   "execution_count": null,
   "id": "f3ceeffb",
   "metadata": {},
   "outputs": [],
   "source": []
  },
  {
   "cell_type": "code",
   "execution_count": null,
   "id": "10e413b4",
   "metadata": {},
   "outputs": [],
   "source": []
  },
  {
   "cell_type": "code",
   "execution_count": null,
   "id": "22b81ab3",
   "metadata": {},
   "outputs": [],
   "source": []
  },
  {
   "cell_type": "code",
   "execution_count": null,
   "id": "07058a9c",
   "metadata": {},
   "outputs": [],
   "source": []
  },
  {
   "cell_type": "code",
   "execution_count": null,
   "id": "e08e3074",
   "metadata": {},
   "outputs": [],
   "source": []
  },
  {
   "cell_type": "code",
   "execution_count": null,
   "id": "b1547ef2",
   "metadata": {},
   "outputs": [],
   "source": []
  },
  {
   "cell_type": "code",
   "execution_count": null,
   "id": "fb8d460d",
   "metadata": {},
   "outputs": [],
   "source": []
  },
  {
   "cell_type": "code",
   "execution_count": null,
   "id": "41d37537",
   "metadata": {},
   "outputs": [],
   "source": []
  },
  {
   "cell_type": "code",
   "execution_count": null,
   "id": "0e88385a",
   "metadata": {},
   "outputs": [],
   "source": []
  },
  {
   "cell_type": "code",
   "execution_count": null,
   "id": "2a94f1db",
   "metadata": {},
   "outputs": [],
   "source": []
  },
  {
   "cell_type": "code",
   "execution_count": null,
   "id": "3dbada64",
   "metadata": {},
   "outputs": [],
   "source": []
  },
  {
   "cell_type": "code",
   "execution_count": null,
   "id": "ccb490d1",
   "metadata": {},
   "outputs": [],
   "source": []
  },
  {
   "cell_type": "code",
   "execution_count": null,
   "id": "d0af4d0d",
   "metadata": {},
   "outputs": [],
   "source": []
  },
  {
   "cell_type": "code",
   "execution_count": null,
   "id": "61691aa7",
   "metadata": {},
   "outputs": [],
   "source": [
    "fluxes_used.shape, redshifts_used.shape"
   ]
  },
  {
   "cell_type": "code",
   "execution_count": null,
   "id": "b87a36f1",
   "metadata": {
    "scrolled": false
   },
   "outputs": [],
   "source": [
    "n_to_show = 10\n",
    "_, axs = plt.subplots(10, 5, figsize=(12,24))\n",
    "axs = axs.flatten()\n",
    "imgs = batch['images'][:10].flatten(start_dim=0,end_dim=1)\n",
    "for img, ax in zip(imgs, axs):\n",
    "    ax.imshow(img)\n",
    "    \n",
    "for a in axs:\n",
    "    a.set_xticklabels([])\n",
    "    a.set_yticklabels([])\n",
    "\n",
    "plt.subplots_adjust(wspace=0, hspace=0)\n",
    "plt.show()"
   ]
  },
  {
   "cell_type": "code",
   "execution_count": null,
   "id": "8c2e6c58",
   "metadata": {},
   "outputs": [],
   "source": []
  }
 ],
 "metadata": {
  "kernelspec": {
   "display_name": "Python 3 (ipykernel)",
   "language": "python",
   "name": "python3"
  },
  "language_info": {
   "codemirror_mode": {
    "name": "ipython",
    "version": 3
   },
   "file_extension": ".py",
   "mimetype": "text/x-python",
   "name": "python",
   "nbconvert_exporter": "python",
   "pygments_lexer": "ipython3",
   "version": "3.10.12"
  }
 },
 "nbformat": 4,
 "nbformat_minor": 5
}

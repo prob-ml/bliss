{
 "cells": [
  {
   "cell_type": "code",
   "execution_count": 91,
   "id": "39ee6e7e",
   "metadata": {
    "ExecuteTime": {
     "end_time": "2022-11-10T19:37:30.685771Z",
     "start_time": "2022-11-10T19:37:30.646409Z"
    }
   },
   "outputs": [
    {
     "name": "stdout",
     "output_type": "stream",
     "text": [
      "The autoreload extension is already loaded. To reload it, use:\n",
      "  %reload_ext autoreload\n",
      "Modules to reload:\n",
      "all-except-skipped\n",
      "\n",
      "Modules to skip:\n",
      "\n"
     ]
    }
   ],
   "source": [
    "%load_ext autoreload\n",
    "%autoreload 2\n",
    "%aimport\n",
    "%matplotlib inline "
   ]
  },
  {
   "cell_type": "code",
   "execution_count": 92,
   "id": "e1048fc5",
   "metadata": {
    "ExecuteTime": {
     "end_time": "2022-11-10T19:37:31.268162Z",
     "start_time": "2022-11-10T19:37:31.216888Z"
    }
   },
   "outputs": [],
   "source": [
    "# organizing output\n",
    "import torch\n",
    "from case_studies.coadds.get_results import _stack_data, _preprocess_data"
   ]
  },
  {
   "cell_type": "code",
   "execution_count": 93,
   "id": "33e59d5a",
   "metadata": {
    "ExecuteTime": {
     "end_time": "2022-11-10T19:37:31.681176Z",
     "start_time": "2022-11-10T19:37:31.600085Z"
    }
   },
   "outputs": [],
   "source": [
    "d = torch.load(\"../output/cache/42/metrics_mags.pt\")"
   ]
  },
  {
   "cell_type": "code",
   "execution_count": 94,
   "id": "65a9b589",
   "metadata": {
    "ExecuteTime": {
     "end_time": "2022-11-10T19:37:32.406960Z",
     "start_time": "2022-11-10T19:37:32.370234Z"
    }
   },
   "outputs": [
    {
     "name": "stdout",
     "output_type": "stream",
     "text": [
      "precision torch.Size([10000, 15])\n",
      "recall torch.Size([10000, 15])\n"
     ]
    }
   ],
   "source": [
    "for k, v in d['single'][1]['boot_mag_bin_metrics'].items():\n",
    "    print(k, v.shape)"
   ]
  },
  {
   "cell_type": "code",
   "execution_count": 112,
   "id": "cc1e05d9",
   "metadata": {
    "ExecuteTime": {
     "end_time": "2022-11-10T19:49:43.171471Z",
     "start_time": "2022-11-10T19:49:17.518308Z"
    }
   },
   "outputs": [],
   "source": [
    "d_ = _preprocess_data(d, ['single', 'coadd_10', 'coadd_25', 'coadd_50'], [1,2,3,4,5])"
   ]
  },
  {
   "cell_type": "code",
   "execution_count": 113,
   "id": "8253bae9",
   "metadata": {
    "ExecuteTime": {
     "end_time": "2022-11-10T19:49:49.277956Z",
     "start_time": "2022-11-10T19:49:45.415578Z"
    }
   },
   "outputs": [],
   "source": [
    "new = _stack_data(d_, ['single', 'coadd_10', 'coadd_25', 'coadd_50'], ['mag_bin_metrics', 'boot_mag_bin_metrics', 'matched_fluxes'], [1,2,3,4,5])"
   ]
  },
  {
   "cell_type": "code",
   "execution_count": null,
   "id": "d117f9d9",
   "metadata": {},
   "outputs": [],
   "source": []
  },
  {
   "cell_type": "code",
   "execution_count": 116,
   "id": "4122c618",
   "metadata": {
    "ExecuteTime": {
     "end_time": "2022-11-10T19:52:36.585350Z",
     "start_time": "2022-11-10T19:52:36.453025Z"
    }
   },
   "outputs": [
    {
     "name": "stdout",
     "output_type": "stream",
     "text": [
      "torch.Size([5, 15])\n",
      "torch.Size([5, 15])\n",
      "torch.Size([5, 15])\n",
      "torch.Size([5, 15])\n",
      "torch.Size([5, 10000, 15])\n",
      "torch.Size([5, 10000, 15])\n",
      "torch.Size([5, 23678])\n",
      "torch.Size([5, 23678])\n",
      "torch.Size([5, 23678])\n",
      "torch.Size([5, 23678])\n",
      "torch.Size([5, 23678])\n",
      "torch.Size([5, 15])\n",
      "torch.Size([5, 15])\n",
      "torch.Size([5, 15])\n",
      "torch.Size([5, 15])\n",
      "torch.Size([5, 10000, 15])\n",
      "torch.Size([5, 10000, 15])\n",
      "torch.Size([5, 26902])\n",
      "torch.Size([5, 26902])\n",
      "torch.Size([5, 26902])\n",
      "torch.Size([5, 26902])\n",
      "torch.Size([5, 26902])\n",
      "torch.Size([5, 15])\n",
      "torch.Size([5, 15])\n",
      "torch.Size([5, 15])\n",
      "torch.Size([5, 15])\n",
      "torch.Size([5, 10000, 15])\n",
      "torch.Size([5, 10000, 15])\n",
      "torch.Size([5, 27757])\n",
      "torch.Size([5, 27757])\n",
      "torch.Size([5, 27757])\n",
      "torch.Size([5, 27757])\n",
      "torch.Size([5, 27757])\n",
      "torch.Size([5, 15])\n",
      "torch.Size([5, 15])\n",
      "torch.Size([5, 15])\n",
      "torch.Size([5, 15])\n",
      "torch.Size([5, 10000, 15])\n",
      "torch.Size([5, 10000, 15])\n",
      "torch.Size([5, 27588])\n",
      "torch.Size([5, 27588])\n",
      "torch.Size([5, 27588])\n",
      "torch.Size([5, 27588])\n",
      "torch.Size([5, 27588])\n"
     ]
    }
   ],
   "source": [
    "for k in new: \n",
    "    for l in new[k]: \n",
    "        for z in new[k][l]:\n",
    "            print(new[k][l][z].shape)\n",
    "\n"
   ]
  },
  {
   "cell_type": "code",
   "execution_count": 108,
   "id": "a8d9407a",
   "metadata": {
    "ExecuteTime": {
     "end_time": "2022-11-10T19:38:58.676628Z",
     "start_time": "2022-11-10T19:38:58.646382Z"
    }
   },
   "outputs": [
    {
     "data": {
      "text/plain": [
       "torch.Size([23678])"
      ]
     },
     "execution_count": 108,
     "metadata": {},
     "output_type": "execute_result"
    }
   ],
   "source": [
    "d_['single'][2]['matched_fluxes']['true_fluxes'].shape"
   ]
  },
  {
   "cell_type": "code",
   "execution_count": 67,
   "id": "02f777d3",
   "metadata": {
    "ExecuteTime": {
     "end_time": "2022-11-10T19:30:40.303138Z",
     "start_time": "2022-11-10T19:30:40.269131Z"
    }
   },
   "outputs": [
    {
     "data": {
      "text/plain": [
       "torch.Size([22749])"
      ]
     },
     "execution_count": 67,
     "metadata": {},
     "output_type": "execute_result"
    }
   ],
   "source": [
    "d['single'][1]['matched_fluxes']['est_log_fluxes'].shape"
   ]
  },
  {
   "cell_type": "code",
   "execution_count": 57,
   "id": "457228c1",
   "metadata": {
    "ExecuteTime": {
     "end_time": "2022-11-10T19:23:17.509230Z",
     "start_time": "2022-11-10T19:23:17.466999Z"
    }
   },
   "outputs": [],
   "source": [
    "new = _stack_data(d, ['single', 'coadd_10'], ['mag_bin_metrics', 'boot_mag_bin_metrics'], [1,2,3,4,5])"
   ]
  },
  {
   "cell_type": "code",
   "execution_count": 61,
   "id": "8afb9396",
   "metadata": {
    "ExecuteTime": {
     "end_time": "2022-11-10T19:23:34.816094Z",
     "start_time": "2022-11-10T19:23:34.783313Z"
    }
   },
   "outputs": [
    {
     "data": {
      "text/plain": [
       "dict_keys(['precision', 'recall', 'tcount', 'ecount'])"
      ]
     },
     "execution_count": 61,
     "metadata": {},
     "output_type": "execute_result"
    }
   ],
   "source": [
    "d['single'][1]['mag_bin_metrics'].keys()"
   ]
  },
  {
   "cell_type": "code",
   "execution_count": 65,
   "id": "180ed32f",
   "metadata": {
    "ExecuteTime": {
     "end_time": "2022-11-10T19:23:49.019494Z",
     "start_time": "2022-11-10T19:23:48.987131Z"
    }
   },
   "outputs": [
    {
     "data": {
      "text/plain": [
       "torch.Size([5, 15])"
      ]
     },
     "execution_count": 65,
     "metadata": {},
     "output_type": "execute_result"
    }
   ],
   "source": [
    "new['coadd_10']['mag_bin_metrics']['ecount'].shape"
   ]
  },
  {
   "cell_type": "code",
   "execution_count": 35,
   "id": "38aea2ba",
   "metadata": {
    "ExecuteTime": {
     "end_time": "2022-11-10T19:20:05.293513Z",
     "start_time": "2022-11-10T19:20:05.289190Z"
    }
   },
   "outputs": [],
   "source": [
    "a = torch.zeros(1, 15)\n",
    "b = torch.tensor([])\n",
    "c = torch.concat([b,a])\n",
    "d = torch.concat([c, a], axis=0)"
   ]
  },
  {
   "cell_type": "code",
   "execution_count": 36,
   "id": "80a939f6",
   "metadata": {
    "ExecuteTime": {
     "end_time": "2022-11-10T19:20:06.173444Z",
     "start_time": "2022-11-10T19:20:06.167267Z"
    }
   },
   "outputs": [
    {
     "data": {
      "text/plain": [
       "torch.Size([2, 15])"
      ]
     },
     "execution_count": 36,
     "metadata": {},
     "output_type": "execute_result"
    }
   ],
   "source": [
    "d.shape"
   ]
  },
  {
   "cell_type": "code",
   "execution_count": 69,
   "id": "02d1976f",
   "metadata": {
    "ExecuteTime": {
     "end_time": "2022-11-10T19:32:10.019865Z",
     "start_time": "2022-11-10T19:32:09.984266Z"
    }
   },
   "outputs": [],
   "source": [
    "e = torch.full((20,), torch.nan)"
   ]
  },
  {
   "cell_type": "code",
   "execution_count": 76,
   "id": "97bf2cc3",
   "metadata": {
    "ExecuteTime": {
     "end_time": "2022-11-10T19:32:48.747497Z",
     "start_time": "2022-11-10T19:32:48.711787Z"
    }
   },
   "outputs": [],
   "source": [
    "e[:15] = a.reshape(15)"
   ]
  },
  {
   "cell_type": "code",
   "execution_count": 117,
   "id": "832a15d4",
   "metadata": {
    "ExecuteTime": {
     "end_time": "2022-11-10T19:57:30.866855Z",
     "start_time": "2022-11-10T19:57:30.823955Z"
    }
   },
   "outputs": [
    {
     "data": {
      "text/plain": [
       "tensor([0., 0., 0., 0., 0., 0., 0., 0., 0., 0., 0., 0., 0., 0., 0., nan, nan, nan, nan, nan])"
      ]
     },
     "execution_count": 117,
     "metadata": {},
     "output_type": "execute_result"
    }
   ],
   "source": [
    "e"
   ]
  },
  {
   "cell_type": "code",
   "execution_count": 118,
   "id": "11f3f092",
   "metadata": {
    "ExecuteTime": {
     "end_time": "2022-11-10T19:57:39.598937Z",
     "start_time": "2022-11-10T19:57:39.563733Z"
    }
   },
   "outputs": [],
   "source": [
    "z = e[~torch.isnan(e)]"
   ]
  },
  {
   "cell_type": "code",
   "execution_count": 119,
   "id": "660832f8",
   "metadata": {
    "ExecuteTime": {
     "end_time": "2022-11-10T19:57:41.143586Z",
     "start_time": "2022-11-10T19:57:41.106243Z"
    }
   },
   "outputs": [
    {
     "data": {
      "text/plain": [
       "tensor([0., 0., 0., 0., 0., 0., 0., 0., 0., 0., 0., 0., 0., 0., 0.])"
      ]
     },
     "execution_count": 119,
     "metadata": {},
     "output_type": "execute_result"
    }
   ],
   "source": [
    "z"
   ]
  },
  {
   "cell_type": "markdown",
   "id": "801d7eb8",
   "metadata": {},
   "source": [
    "# Distribution of magnitudes"
   ]
  },
  {
   "cell_type": "code",
   "execution_count": 1,
   "id": "6cb3c1a6",
   "metadata": {
    "ExecuteTime": {
     "end_time": "2022-11-11T14:04:25.180782Z",
     "start_time": "2022-11-11T14:04:20.764875Z"
    }
   },
   "outputs": [],
   "source": [
    "import torch\n",
    "d = torch.load(\"../output/datasets/42/train.pt\")"
   ]
  },
  {
   "cell_type": "code",
   "execution_count": 2,
   "id": "5716c0eb",
   "metadata": {
    "ExecuteTime": {
     "end_time": "2022-11-11T14:04:26.301665Z",
     "start_time": "2022-11-11T14:04:26.286828Z"
    }
   },
   "outputs": [
    {
     "data": {
      "text/plain": [
       "dict_keys(['coadd_5', 'coadd_10', 'coadd_25', 'coadd_35', 'coadd_50', 'single', 'galaxy_bools', 'star_bools', 'galaxy_params', 'star_fluxes', 'star_log_fluxes', 'plocs', 'n_sources'])"
      ]
     },
     "execution_count": 2,
     "metadata": {},
     "output_type": "execute_result"
    }
   ],
   "source": [
    "d.keys()"
   ]
  },
  {
   "cell_type": "code",
   "execution_count": 4,
   "id": "5ff7230f",
   "metadata": {
    "ExecuteTime": {
     "end_time": "2022-11-11T14:06:33.929586Z",
     "start_time": "2022-11-11T14:06:31.521856Z"
    }
   },
   "outputs": [],
   "source": [
    "from bliss.datasets.sdss import convert_flux_to_mag\n",
    "star_fluxes = d['star_fluxes']\n",
    "star_fluxes = star_fluxes.reshape(-1)\n",
    "star_mags = []\n",
    "for ii in range(len(star_fluxes)):\n",
    "    star_flux = star_fluxes[ii]\n",
    "    if star_flux > 0 : \n",
    "        star_mags.append(convert_flux_to_mag(star_flux))"
   ]
  },
  {
   "cell_type": "code",
   "execution_count": 6,
   "id": "e268fccf",
   "metadata": {
    "ExecuteTime": {
     "end_time": "2022-11-11T14:06:59.745751Z",
     "start_time": "2022-11-11T14:06:59.715638Z"
    }
   },
   "outputs": [],
   "source": [
    "star_mags = torch.tensor([mag.item() for mag in star_mags])"
   ]
  },
  {
   "cell_type": "code",
   "execution_count": 10,
   "id": "ca8be7f3",
   "metadata": {
    "ExecuteTime": {
     "end_time": "2022-11-11T14:08:20.856224Z",
     "start_time": "2022-11-11T14:08:20.673176Z"
    }
   },
   "outputs": [
    {
     "data": {
      "text/plain": [
       "(array([ 125.,  124.,  158.,  163.,  166.,  197.,  216.,  220.,  277.,\n",
       "         291.,  330.,  387.,  428.,  418.,  514.,  537.,  629.,  729.,\n",
       "         772.,  844.,  976., 1091., 1209., 1289., 1479., 1610., 1826.,\n",
       "        2078., 2273., 2538., 2871., 3185.]),\n",
       " array([15.  , 15.25, 15.5 , 15.75, 16.  , 16.25, 16.5 , 16.75, 17.  ,\n",
       "        17.25, 17.5 , 17.75, 18.  , 18.25, 18.5 , 18.75, 19.  , 19.25,\n",
       "        19.5 , 19.75, 20.  , 20.25, 20.5 , 20.75, 21.  , 21.25, 21.5 ,\n",
       "        21.75, 22.  , 22.25, 22.5 , 22.75, 23.  ], dtype=float32),\n",
       " <BarContainer object of 32 artists>)"
      ]
     },
     "execution_count": 10,
     "metadata": {},
     "output_type": "execute_result"
    },
    {
     "data": {
      "image/png": "[encoded data removed]",
      "text/plain": [
       "<Figure size 432x288 with 1 Axes>"
      ]
     },
     "metadata": {
      "needs_background": "light"
     },
     "output_type": "display_data"
    }
   ],
   "source": [
    "import matplotlib.pyplot as plt\n",
    "plt.hist(star_mags.numpy(), range=(15, 23), bins=32)"
   ]
  },
  {
   "cell_type": "markdown",
   "id": "2e093e68",
   "metadata": {},
   "source": [
    "# SNR of stars"
   ]
  },
  {
   "cell_type": "code",
   "execution_count": 11,
   "id": "ae5fe59e",
   "metadata": {
    "ExecuteTime": {
     "end_time": "2022-11-11T18:25:54.077426Z",
     "start_time": "2022-11-11T18:25:53.889269Z"
    }
   },
   "outputs": [],
   "source": [
    "from hydra import compose, initialize\n",
    "from hydra.utils import instantiate\n",
    "with initialize(config_path=\"../config\"):\n",
    "    cfg = compose(\"config\")"
   ]
  },
  {
   "cell_type": "code",
   "execution_count": 14,
   "id": "4dcf5bfd",
   "metadata": {
    "ExecuteTime": {
     "end_time": "2022-11-11T18:26:27.657436Z",
     "start_time": "2022-11-11T18:26:27.628144Z"
    }
   },
   "outputs": [],
   "source": [
    "sgdec = instantiate(cfg.datasets.galsim_blends.decoder.single_galaxy_decoder)"
   ]
  },
  {
   "cell_type": "code",
   "execution_count": 29,
   "id": "ac8115c8",
   "metadata": {
    "ExecuteTime": {
     "end_time": "2022-11-11T18:31:43.872580Z",
     "start_time": "2022-11-11T18:31:43.868742Z"
    }
   },
   "outputs": [],
   "source": [
    "background = torch.full((80,80), 865)"
   ]
  },
  {
   "cell_type": "code",
   "execution_count": 36,
   "id": "6455260e",
   "metadata": {
    "ExecuteTime": {
     "end_time": "2022-11-11T19:24:52.234619Z",
     "start_time": "2022-11-11T19:24:52.223330Z"
    }
   },
   "outputs": [],
   "source": [
    "from bliss.datasets.sdss import convert_mag_to_flux\n",
    "flux1 = convert_mag_to_flux(torch.tensor([20])).item()\n",
    "flux2 = convert_mag_to_flux(torch.tensor([23])).item()\n",
    "psf1 = torch.from_numpy(sgdec.psf_galsim.withFlux(flux1).drawImage(nx=80, ny=80, scale=0.393).array)\n",
    "psf2 = torch.from_numpy(sgdec.psf_galsim.withFlux(flux2).drawImage(nx=80, ny=80, scale=0.393).array)"
   ]
  },
  {
   "cell_type": "code",
   "execution_count": 37,
   "id": "d6025927",
   "metadata": {
    "ExecuteTime": {
     "end_time": "2022-11-11T19:24:52.588658Z",
     "start_time": "2022-11-11T19:24:52.581645Z"
    }
   },
   "outputs": [
    {
     "name": "stdout",
     "output_type": "stream",
     "text": [
      "45.11176300048828 3.3315091133117676\n"
     ]
    }
   ],
   "source": [
    "# calculate snr for each single exposure\n",
    "img1 = psf1 + background\n",
    "snr1 = torch.sqrt(torch.sum(psf1**2 / img1)).item()\n",
    "\n",
    "img2 = psf2 + background\n",
    "snr2 = torch.sqrt(torch.sum(psf2**2 / img2)).item()\n",
    "\n",
    "\n",
    "print(snr1,snr2)"
   ]
  },
  {
   "cell_type": "code",
   "execution_count": 38,
   "id": "29f1c1d3",
   "metadata": {
    "ExecuteTime": {
     "end_time": "2022-11-11T19:24:52.600000Z",
     "start_time": "2022-11-11T19:24:52.591700Z"
    }
   },
   "outputs": [
    {
     "name": "stdout",
     "output_type": "stream",
     "text": [
      "100.87297821044922 7.4494805335998535\n"
     ]
    }
   ],
   "source": [
    "#coadd d = 25\n",
    "\n",
    "\n",
    "img1 = (psf1 + background)/ np.sqrt(25)\n",
    "snr1 = torch.sqrt(torch.sum(psf1**2 / img1)).item()\n",
    "\n",
    "img2 = (psf2 + background)/ np.sqrt(25)\n",
    "snr2 = torch.sqrt(torch.sum(psf2**2 / img2)).item()\n",
    "\n",
    "\n",
    "print(snr1,snr2)"
   ]
  },
  {
   "cell_type": "code",
   "execution_count": null,
   "id": "13c55288",
   "metadata": {},
   "outputs": [],
   "source": []
  }
 ],
 "metadata": {
  "kernelspec": {
   "display_name": "Python 3 (ipykernel)",
   "language": "python",
   "name": "python3"
  },
  "language_info": {
   "codemirror_mode": {
    "name": "ipython",
    "version": 3
   },
   "file_extension": ".py",
   "mimetype": "text/x-python",
   "name": "python",
   "nbconvert_exporter": "python",
   "pygments_lexer": "ipython3",
   "version": "3.8.10"
  },
  "toc": {
   "base_numbering": 1,
   "nav_menu": {},
   "number_sections": true,
   "sideBar": true,
   "skip_h1_title": false,
   "title_cell": "Table of Contents",
   "title_sidebar": "Contents",
   "toc_cell": false,
   "toc_position": {},
   "toc_section_display": true,
   "toc_window_display": true
  }
 },
 "nbformat": 4,
 "nbformat_minor": 5
}

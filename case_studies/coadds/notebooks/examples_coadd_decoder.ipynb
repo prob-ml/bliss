{
 "cells": [
  {
   "cell_type": "code",
   "execution_count": 295,
   "metadata": {},
   "outputs": [],
   "source": [
    "from typing import Dict, List, Optional\n",
    "import matplotlib.pyplot as plt\n",
    "from hydra import compose, initialize\n",
    "from hydra.utils import instantiate\n",
    "import numpy as np\n",
    "import pytorch_lightning as pl\n",
    "import torch\n",
    "from torch import Tensor\n",
    "import torch.nn.functional as F\n",
    "from einops import rearrange\n",
    "from torch.utils.data import DataLoader, Dataset\n",
    "import galsim\n",
    "from bliss.catalog import TileCatalog, get_is_on_from_n_sources, FullCatalog\n",
    "from bliss.datasets.background import ConstantBackground\n",
    "from bliss.datasets.sdss import convert_flux_to_mag\n",
    "from bliss.datasets.galsim_galaxies import GalsimBlends\n",
    "from case_studies.coadds.signal_noise_ratio import get_snr\n",
    "from case_studies.coadds.coadd_decoder import (\n",
    "    CoaddUniformGalsimPrior,\n",
    "    CoaddSingleGalaxyDecoder,\n",
    "    CoaddGalsimBlends,\n",
    "    FullCatalogDecoder,\n",
    ")\n",
    "from case_studies.coadds.align_single_exposures import align_single_exposures"
   ]
  },
  {
   "cell_type": "code",
   "execution_count": 39,
   "metadata": {},
   "outputs": [
    {
     "name": "stdout",
     "output_type": "stream",
     "text": [
      "The autoreload extension is already loaded. To reload it, use:\n",
      "  %reload_ext autoreload\n",
      "Modules to reload:\n",
      "all-except-skipped\n",
      "\n",
      "Modules to skip:\n",
      "\n"
     ]
    }
   ],
   "source": [
    "%load_ext autoreload\n",
    "%autoreload 2\n",
    "%aimport\n",
    "%matplotlib inline"
   ]
  },
  {
   "cell_type": "code",
   "execution_count": 56,
   "metadata": {},
   "outputs": [],
   "source": [
    "with initialize(config_path=\"../coadds/config\"):\n",
    "    cfg = compose(\"config\", overrides=[])"
   ]
  },
  {
   "cell_type": "code",
   "execution_count": 276,
   "metadata": {},
   "outputs": [],
   "source": [
    "prior = instantiate(cfg.datasets.sdss_galaxies_coadd.prior)\n",
    "decoder = instantiate(cfg.datasets.sdss_galaxies_coadd.decoder)\n",
    "background = instantiate(cfg.datasets.sdss_galaxies_coadd.background)"
   ]
  },
  {
   "cell_type": "code",
   "execution_count": 277,
   "metadata": {},
   "outputs": [],
   "source": [
    "# check prior to get galaxy parameters\n",
    "max_n_sources = 1\n",
    "max_shift = 0.5\n",
    "num_dithers = 400\n",
    "sampled_cuggp = CoaddUniformGalsimPrior(\n",
    "    prior, max_n_sources, max_shift, num_dithers\n",
    ").sample(num_dithers)"
   ]
  },
  {
   "cell_type": "code",
   "execution_count": 272,
   "metadata": {},
   "outputs": [],
   "source": [
    "pixel_scale = 0.393\n",
    "n_sources = sampled_cuggp[\"n_sources\"]\n",
    "galaxy_params = sampled_cuggp[\"galaxy_params\"]\n",
    "locs = sampled_cuggp[\"locs\"]\n",
    "galaxy_bools = sampled_cuggp[\"galaxy_bools\"]\n",
    "star_bools = sampled_cuggp[\"star_bools\"]\n",
    "dithers = sampled_cuggp[\"dithers\"]\n",
    "offset = None"
   ]
  },
  {
   "cell_type": "code",
   "execution_count": 273,
   "metadata": {},
   "outputs": [],
   "source": [
    "# check decoder to render galaxies\n",
    "csgd = CoaddSingleGalaxyDecoder(\n",
    "    decoder, decoder.n_bands, decoder.pixel_scale, \"./data/sdss/psField-000094-1-0012-PSF-image.npy\"\n",
    ")\n",
    "csgdgalaxy = csgd.render_galaxy(\n",
    "    galaxy_params=galaxy_params[0],\n",
    "    slen=decoder.slen,\n",
    "    psf=decoder.psf,\n",
    "    offset=offset,\n",
    "    dithers=dithers,\n",
    ")"
   ]
  },
  {
   "cell_type": "code",
   "execution_count": 238,
   "metadata": {},
   "outputs": [
    {
     "data": {
      "text/plain": [
       "<matplotlib.image.AxesImage at 0x7f41601decd0>"
      ]
     },
     "execution_count": 238,
     "metadata": {},
     "output_type": "execute_result"
    },
    {
     "data": {
      "image/png": "[encoded data removed]",
      "text/plain": [
       "<Figure size 432x288 with 1 Axes>"
      ]
     },
     "metadata": {
      "needs_background": "light"
     },
     "output_type": "display_data"
    }
   ],
   "source": [
    "plt.imshow(csgdgalaxy[0].reshape(csgdgalaxy[0].shape[1], csgdgalaxy[0].shape[2]).numpy())"
   ]
  },
  {
   "cell_type": "code",
   "execution_count": 279,
   "metadata": {},
   "outputs": [],
   "source": [
    "# check FullCatalogDecoder\n",
    "prior = instantiate(cfg.datasets.galsim_blended_galaxies_coadd.prior)\n",
    "decoder = instantiate(cfg.datasets.galsim_blended_galaxies_coadd.decoder)\n",
    "background = instantiate(cfg.datasets.galsim_blended_galaxies_coadd.background)\n",
    "tile_slen = 4\n",
    "max_tile_n_sources = 1\n",
    "num_workers = 5\n",
    "batch_size = 1000\n",
    "n_batches = 1\n",
    "full_catalog, dithers = CoaddGalsimBlends(\n",
    "    prior=prior,\n",
    "    decoder=decoder,\n",
    "    background=background,\n",
    "    tile_slen=tile_slen,\n",
    "    max_sources_per_tile=max_tile_n_sources,\n",
    "    num_workers=num_workers,\n",
    "    batch_size=batch_size,\n",
    "    n_batches=n_batches,\n",
    "    num_dithers=num_dithers,\n",
    ")._sample_full_catalog()"
   ]
  },
  {
   "cell_type": "code",
   "execution_count": 240,
   "metadata": {},
   "outputs": [],
   "source": [
    "slen = 40\n",
    "bp = 24\n",
    "fcdecoder = FullCatalogDecoder(decoder, slen, bp, dithers)"
   ]
  },
  {
   "cell_type": "code",
   "execution_count": 280,
   "metadata": {},
   "outputs": [],
   "source": [
    "image, noiseless_centered, noiseless_uncentered, image0 = decoder.render_catalog(\n",
    "    full_catalog, decoder.single_decoder.psf, dithers\n",
    ")"
   ]
  },
  {
   "cell_type": "code",
   "execution_count": 242,
   "metadata": {},
   "outputs": [
    {
     "data": {
      "text/plain": [
       "<matplotlib.image.AxesImage at 0x7f4160139760>"
      ]
     },
     "execution_count": 242,
     "metadata": {},
     "output_type": "execute_result"
    },
    {
     "data": {
      "image/png": "[encoded data removed]",
      "text/plain": [
       "<Figure size 432x288 with 1 Axes>"
      ]
     },
     "metadata": {
      "needs_background": "light"
     },
     "output_type": "display_data"
    }
   ],
   "source": [
    "plt.imshow(image0[0].reshape(image0[0].shape[1], image0[0].shape[2]).numpy())"
   ]
  },
  {
   "cell_type": "code",
   "execution_count": null,
   "metadata": {},
   "outputs": [],
   "source": [
    "# DON'T RUN FOR LARGE NUM_DITHERS\n",
    "for i in range(image.shape[0]):\n",
    "    plt.figure()\n",
    "    plt.imshow(image[i].reshape(image[i].shape[1], image[i].shape[2]).numpy())\n",
    "    plt.colorbar()"
   ]
  },
  {
   "cell_type": "code",
   "execution_count": 244,
   "metadata": {},
   "outputs": [
    {
     "name": "stderr",
     "output_type": "stream",
     "text": [
      "/home/wmallory/bliss/case_studies/coadds/align_single_exposures.py:40: UserWarning: To copy construct from a tensor, it is recommended to use sourceTensor.clone().detach() or sourceTensor.clone().detach().requires_grad_(True), rather than torch.tensor(sourceTensor).\n",
      "  [grid, torch.stack((torch.tensor(x_grid), torch.tensor(y_grid)), -1)], dim=0\n",
      "/home/wmallory/bliss/case_studies/coadds/align_single_exposures.py:44: UserWarning: To copy construct from a tensor, it is recommended to use sourceTensor.clone().detach() or sourceTensor.clone().detach().requires_grad_(True), rather than torch.tensor(sourceTensor).\n",
      "  input = torch.tensor(images[:]).reshape(len(dithers), 1, slen, slen).float()\n",
      "/home/wmallory/bliss/case_studies/coadds/align_single_exposures.py:49: UserWarning: To copy construct from a tensor, it is recommended to use sourceTensor.clone().detach() or sourceTensor.clone().detach().requires_grad_(True), rather than torch.tensor(sourceTensor).\n",
      "  interped_images = torch.tensor(interped_images[:][0]).reshape(len(dithers), slen, slen)\n",
      "/home/wmallory/bliss/case_studies/coadds/coadd_decoder.py:257: UserWarning: To copy construct from a tensor, it is recommended to use sourceTensor.clone().detach() or sourceTensor.clone().detach().requires_grad_(True), rather than torch.tensor(sourceTensor).\n",
      "  weight = 1 / (torch.tensor(aligned_images) + torch.tensor(background))\n"
     ]
    }
   ],
   "source": [
    "(\n",
    "    noiseless,\n",
    "    noiseless_centered,\n",
    "    noiseless_uncentered,\n",
    "    background,\n",
    "    coadded_image,\n",
    ") = CoaddGalsimBlends(\n",
    "    prior=prior,\n",
    "    decoder=decoder,\n",
    "    background=background,\n",
    "    tile_slen=tile_slen,\n",
    "    max_sources_per_tile=max_tile_n_sources,\n",
    "    num_workers=num_workers,\n",
    "    batch_size=batch_size,\n",
    "    n_batches=n_batches,\n",
    ")._get_images(\n",
    "    full_catalog, dithers\n",
    ")"
   ]
  },
  {
   "cell_type": "code",
   "execution_count": 245,
   "metadata": {},
   "outputs": [
    {
     "data": {
      "image/png": "[encoded data removed]",
      "text/plain": [
       "<Figure size 432x288 with 2 Axes>"
      ]
     },
     "metadata": {
      "needs_background": "light"
     },
     "output_type": "display_data"
    }
   ],
   "source": [
    "for i in range(coadded_image.shape[0]):\n",
    "    plt.figure()\n",
    "    plt.imshow(coadded_image[i].reshape(coadded_image.shape[1], coadded_image.shape[2]).numpy())\n",
    "    plt.colorbar()"
   ]
  },
  {
   "cell_type": "code",
   "execution_count": 296,
   "metadata": {},
   "outputs": [
    {
     "name": "stderr",
     "output_type": "stream",
     "text": [
      "/home/wmallory/bliss/case_studies/coadds/align_single_exposures.py:42: UserWarning: To copy construct from a tensor, it is recommended to use sourceTensor.clone().detach() or sourceTensor.clone().detach().requires_grad_(True), rather than torch.tensor(sourceTensor).\n",
      "  input = rearrange(images, \"d h w -> d 1 h w\")\n",
      "/home/wmallory/bliss/case_studies/coadds/coadd_decoder.py:268: UserWarning: To copy construct from a tensor, it is recommended to use sourceTensor.clone().detach() or sourceTensor.clone().detach().requires_grad_(True), rather than torch.tensor(sourceTensor).\n",
      "  weight = 1 / (torch.tensor(aligned_images) + torch.tensor(background))\n"
     ]
    },
    {
     "data": {
      "text/plain": [
       "{'noiseless': tensor([[[[0.0061, 0.0063, 0.0064,  ..., 0.0205, 0.0207, 0.0209],\n",
       "           [0.0066, 0.0067, 0.0069,  ..., 0.0227, 0.0229, 0.0232],\n",
       "           [0.0071, 0.0072, 0.0074,  ..., 0.0252, 0.0255, 0.0257],\n",
       "           ...,\n",
       "           [0.0155, 0.0156, 0.0157,  ..., 0.0554, 0.0507, 0.0461],\n",
       "           [0.0141, 0.0142, 0.0143,  ..., 0.0544, 0.0505, 0.0463],\n",
       "           [0.0128, 0.0129, 0.0130,  ..., 0.0522, 0.0493, 0.0460]]],\n",
       " \n",
       " \n",
       "         [[[0.0062, 0.0063, 0.0064,  ..., 0.0209, 0.0212, 0.0214],\n",
       "           [0.0066, 0.0068, 0.0069,  ..., 0.0233, 0.0235, 0.0237],\n",
       "           [0.0071, 0.0073, 0.0074,  ..., 0.0259, 0.0261, 0.0263],\n",
       "           ...,\n",
       "           [0.0149, 0.0150, 0.0152,  ..., 0.0587, 0.0544, 0.0499],\n",
       "           [0.0136, 0.0137, 0.0138,  ..., 0.0563, 0.0532, 0.0495],\n",
       "           [0.0124, 0.0125, 0.0126,  ..., 0.0528, 0.0509, 0.0482]]],\n",
       " \n",
       " \n",
       "         [[[0.0061, 0.0062, 0.0063,  ..., 0.0204, 0.0206, 0.0208],\n",
       "           [0.0065, 0.0066, 0.0068,  ..., 0.0226, 0.0229, 0.0231],\n",
       "           [0.0070, 0.0071, 0.0073,  ..., 0.0252, 0.0254, 0.0256],\n",
       "           ...,\n",
       "           [0.0153, 0.0154, 0.0155,  ..., 0.0593, 0.0548, 0.0501],\n",
       "           [0.0139, 0.0140, 0.0141,  ..., 0.0572, 0.0538, 0.0499],\n",
       "           [0.0127, 0.0128, 0.0129,  ..., 0.0539, 0.0517, 0.0488]]],\n",
       " \n",
       " \n",
       "         ...,\n",
       " \n",
       " \n",
       "         [[[0.0064, 0.0065, 0.0066,  ..., 0.0218, 0.0221, 0.0223],\n",
       "           [0.0068, 0.0070, 0.0071,  ..., 0.0242, 0.0245, 0.0247],\n",
       "           [0.0074, 0.0075, 0.0077,  ..., 0.0270, 0.0272, 0.0275],\n",
       "           ...,\n",
       "           [0.0144, 0.0145, 0.0146,  ..., 0.0575, 0.0536, 0.0493],\n",
       "           [0.0131, 0.0132, 0.0133,  ..., 0.0548, 0.0521, 0.0487],\n",
       "           [0.0120, 0.0120, 0.0121,  ..., 0.0511, 0.0495, 0.0472]]],\n",
       " \n",
       " \n",
       "         [[[0.0065, 0.0066, 0.0068,  ..., 0.0223, 0.0225, 0.0227],\n",
       "           [0.0070, 0.0071, 0.0073,  ..., 0.0247, 0.0250, 0.0252],\n",
       "           [0.0075, 0.0077, 0.0078,  ..., 0.0275, 0.0278, 0.0280],\n",
       "           ...,\n",
       "           [0.0143, 0.0144, 0.0146,  ..., 0.0545, 0.0504, 0.0461],\n",
       "           [0.0130, 0.0131, 0.0133,  ..., 0.0525, 0.0495, 0.0459],\n",
       "           [0.0119, 0.0120, 0.0121,  ..., 0.0496, 0.0476, 0.0449]]],\n",
       " \n",
       " \n",
       "         [[[0.0063, 0.0064, 0.0065,  ..., 0.0215, 0.0217, 0.0219],\n",
       "           [0.0068, 0.0069, 0.0070,  ..., 0.0238, 0.0241, 0.0243],\n",
       "           [0.0073, 0.0074, 0.0076,  ..., 0.0265, 0.0268, 0.0270],\n",
       "           ...,\n",
       "           [0.0146, 0.0147, 0.0149,  ..., 0.0579, 0.0538, 0.0495],\n",
       "           [0.0133, 0.0134, 0.0135,  ..., 0.0553, 0.0525, 0.0490],\n",
       "           [0.0121, 0.0122, 0.0123,  ..., 0.0518, 0.0500, 0.0476]]]]),\n",
       " 'background': tensor([[[[865., 865., 865.,  ..., 865., 865., 865.],\n",
       "           [865., 865., 865.,  ..., 865., 865., 865.],\n",
       "           [865., 865., 865.,  ..., 865., 865., 865.],\n",
       "           ...,\n",
       "           [865., 865., 865.,  ..., 865., 865., 865.],\n",
       "           [865., 865., 865.,  ..., 865., 865., 865.],\n",
       "           [865., 865., 865.,  ..., 865., 865., 865.]]],\n",
       " \n",
       " \n",
       "         [[[865., 865., 865.,  ..., 865., 865., 865.],\n",
       "           [865., 865., 865.,  ..., 865., 865., 865.],\n",
       "           [865., 865., 865.,  ..., 865., 865., 865.],\n",
       "           ...,\n",
       "           [865., 865., 865.,  ..., 865., 865., 865.],\n",
       "           [865., 865., 865.,  ..., 865., 865., 865.],\n",
       "           [865., 865., 865.,  ..., 865., 865., 865.]]],\n",
       " \n",
       " \n",
       "         [[[865., 865., 865.,  ..., 865., 865., 865.],\n",
       "           [865., 865., 865.,  ..., 865., 865., 865.],\n",
       "           [865., 865., 865.,  ..., 865., 865., 865.],\n",
       "           ...,\n",
       "           [865., 865., 865.,  ..., 865., 865., 865.],\n",
       "           [865., 865., 865.,  ..., 865., 865., 865.],\n",
       "           [865., 865., 865.,  ..., 865., 865., 865.]]],\n",
       " \n",
       " \n",
       "         ...,\n",
       " \n",
       " \n",
       "         [[[865., 865., 865.,  ..., 865., 865., 865.],\n",
       "           [865., 865., 865.,  ..., 865., 865., 865.],\n",
       "           [865., 865., 865.,  ..., 865., 865., 865.],\n",
       "           ...,\n",
       "           [865., 865., 865.,  ..., 865., 865., 865.],\n",
       "           [865., 865., 865.,  ..., 865., 865., 865.],\n",
       "           [865., 865., 865.,  ..., 865., 865., 865.]]],\n",
       " \n",
       " \n",
       "         [[[865., 865., 865.,  ..., 865., 865., 865.],\n",
       "           [865., 865., 865.,  ..., 865., 865., 865.],\n",
       "           [865., 865., 865.,  ..., 865., 865., 865.],\n",
       "           ...,\n",
       "           [865., 865., 865.,  ..., 865., 865., 865.],\n",
       "           [865., 865., 865.,  ..., 865., 865., 865.],\n",
       "           [865., 865., 865.,  ..., 865., 865., 865.]]],\n",
       " \n",
       " \n",
       "         [[[865., 865., 865.,  ..., 865., 865., 865.],\n",
       "           [865., 865., 865.,  ..., 865., 865., 865.],\n",
       "           [865., 865., 865.,  ..., 865., 865., 865.],\n",
       "           ...,\n",
       "           [865., 865., 865.,  ..., 865., 865., 865.],\n",
       "           [865., 865., 865.,  ..., 865., 865., 865.],\n",
       "           [865., 865., 865.,  ..., 865., 865., 865.]]]]),\n",
       " 'images': tensor([[[864.5157, 862.9790, 865.0876,  ..., 864.6331, 866.5736, 864.0084],\n",
       "          [864.9030, 863.3132, 865.6614,  ..., 865.7028, 867.2109, 867.7573],\n",
       "          [862.4767, 866.5876, 864.7955,  ..., 868.5071, 864.2320, 865.8031],\n",
       "          ...,\n",
       "          [866.1570, 864.3230, 866.1520,  ..., 866.2919, 865.7676, 865.8316],\n",
       "          [865.6979, 863.8187, 864.7377,  ..., 863.1230, 865.6218, 864.2620],\n",
       "          [867.4932, 865.4100, 867.1342,  ..., 864.4966, 864.3130, 866.1931]]])}"
      ]
     },
     "execution_count": 296,
     "metadata": {},
     "output_type": "execute_result"
    }
   ],
   "source": [
    "cgb = CoaddGalsimBlends(\n",
    "    prior=prior,\n",
    "    decoder=decoder,\n",
    "    background=background,\n",
    "    tile_slen=tile_slen,\n",
    "    max_sources_per_tile=max_tile_n_sources,\n",
    "    num_workers=num_workers,\n",
    "    batch_size=batch_size,\n",
    "    n_batches=n_batches,\n",
    "    num_dithers=num_dithers,\n",
    ")\n",
    "cgb[0]"
   ]
  }
 ],
 "metadata": {
  "kernelspec": {
   "display_name": "Python 3.8.10 ('bliss-z6VjvYh8-py3.8')",
   "language": "python",
   "name": "python3"
  },
  "language_info": {
   "codemirror_mode": {
    "name": "ipython",
    "version": 3
   },
   "file_extension": ".py",
   "mimetype": "text/x-python",
   "name": "python",
   "nbconvert_exporter": "python",
   "pygments_lexer": "ipython3",
   "version": "3.8.10"
  },
  "orig_nbformat": 4,
  "vscode": {
   "interpreter": {
    "hash": "42573bf324965e8843cce5661f2b7cff1bd822ab6b918329f3dd4ef295939d5e"
   }
  }
 },
 "nbformat": 4,
 "nbformat_minor": 2
}

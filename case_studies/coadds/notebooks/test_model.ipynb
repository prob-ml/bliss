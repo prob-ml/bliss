{
 "cells": [
  {
   "cell_type": "markdown",
   "id": "34d32d20",
   "metadata": {},
   "source": [
    "# Setup"
   ]
  },
  {
   "cell_type": "code",
   "execution_count": 3,
   "id": "97b69179",
   "metadata": {
    "ExecuteTime": {
     "end_time": "2022-09-11T20:55:21.731587Z",
     "start_time": "2022-09-11T20:55:20.733622Z"
    }
   },
   "outputs": [
    {
     "name": "stdout",
     "output_type": "stream",
     "text": [
      "The autoreload extension is already loaded. To reload it, use:\n",
      "  %reload_ext autoreload\n",
      "Modules to reload:\n",
      "all-except-skipped\n",
      "\n",
      "Modules to skip:\n",
      "\n",
      "3\n"
     ]
    }
   ],
   "source": [
    "%load_ext autoreload\n",
    "%autoreload 2\n",
    "%aimport\n",
    "\n",
    "%matplotlib inline \n",
    "\n",
    "import torch\n",
    "import matplotlib.pyplot as plt\n",
    "from einops import rearrange\n",
    "\n",
    "from bliss.catalog import TileCatalog, get_images_in_tiles\n",
    "from bliss.encoder import Encoder\n",
    "\n",
    "\n",
    "device = torch.device('cuda:0')\n",
    "!echo $CUDA_VISIBLE_DEVICES"
   ]
  },
  {
   "cell_type": "markdown",
   "id": "098cf1fa",
   "metadata": {},
   "source": [
    "# Load models"
   ]
  },
  {
   "cell_type": "code",
   "execution_count": 4,
   "id": "11d4e3ea",
   "metadata": {
    "ExecuteTime": {
     "end_time": "2022-09-11T20:55:21.896566Z",
     "start_time": "2022-09-11T20:55:21.779448Z"
    }
   },
   "outputs": [],
   "source": [
    "# load models\n",
    "from hydra import compose, initialize\n",
    "from hydra.utils import instantiate\n",
    "\n",
    "with initialize(config_path=\"../../coadds/config\"):\n",
    "    cfg = compose(\"config\", overrides=[])"
   ]
  },
  {
   "cell_type": "code",
   "execution_count": 5,
   "id": "8f437210",
   "metadata": {
    "ExecuteTime": {
     "end_time": "2022-09-11T20:55:27.808029Z",
     "start_time": "2022-09-11T20:55:24.205919Z"
    }
   },
   "outputs": [],
   "source": [
    "location = instantiate(cfg.models.detection_encoder).to(device).eval()\n",
    "# NOTE: change weight_checkpoint to the one in your output folder\n",
    "location.load_state_dict(torch.load('../output/encoder.pt', map_location=location.device)\n",
    ")\n",
    "\n",
    "encoder = Encoder(location.eval(), n_images_per_batch=10, n_rows_per_batch=15).to(device).eval()"
   ]
  },
  {
   "cell_type": "code",
   "execution_count": 6,
   "id": "b27d9f0b",
   "metadata": {
    "ExecuteTime": {
     "end_time": "2022-09-11T20:55:28.695009Z",
     "start_time": "2022-09-11T20:55:28.596195Z"
    }
   },
   "outputs": [],
   "source": [
    "location_coadd = instantiate(cfg.models.detection_encoder).to(device).eval()\n",
    "location_coadd.load_state_dict(torch.load('../output/coadd_encoder.pt', map_location=location_coadd.device)\n",
    ")\n",
    "\n",
    "encoder_coadd = Encoder(location_coadd.eval(), n_images_per_batch=10, n_rows_per_batch=15).to(device).eval()"
   ]
  },
  {
   "cell_type": "code",
   "execution_count": 7,
   "id": "5e943e69",
   "metadata": {
    "ExecuteTime": {
     "end_time": "2022-09-11T20:55:31.146203Z",
     "start_time": "2022-09-11T20:55:31.114034Z"
    }
   },
   "outputs": [],
   "source": [
    "# location_coadd = instantiate(cfg.models.detection_encoder).to(device).eval()\n",
    "# location.load_state_dict(torch.load('../../coadds/models/coadd_encoder_2.pt', map_location=location.device)\n",
    "# )\n",
    "\n",
    "# encoder_coadd_25 = Encoder(location.eval(), n_images_per_batch=10, n_rows_per_batch=15).to(device)"
   ]
  },
  {
   "cell_type": "markdown",
   "id": "204b037e",
   "metadata": {},
   "source": [
    "# Load datasets"
   ]
  },
  {
   "cell_type": "markdown",
   "id": "df871cdf",
   "metadata": {},
   "source": [
    "## Coadd dataset with N_dithers = 10"
   ]
  },
  {
   "cell_type": "code",
   "execution_count": 8,
   "id": "1c8a7589",
   "metadata": {
    "ExecuteTime": {
     "end_time": "2022-09-11T20:55:41.010344Z",
     "start_time": "2022-09-11T20:55:40.840333Z"
    }
   },
   "outputs": [],
   "source": [
    "with initialize(config_path=\"../config\"):\n",
    "    cfg = compose(\"config\", overrides=[])"
   ]
  },
  {
   "cell_type": "code",
   "execution_count": 9,
   "id": "fe9957a4",
   "metadata": {
    "ExecuteTime": {
     "end_time": "2022-09-11T20:55:41.543325Z",
     "start_time": "2022-09-11T20:55:41.503307Z"
    }
   },
   "outputs": [
    {
     "data": {
      "text/plain": [
       "0.0"
      ]
     },
     "execution_count": 9,
     "metadata": {},
     "output_type": "execute_result"
    }
   ],
   "source": [
    "# should be ONLY stars\n",
    "cfg.datasets.galsim_blends_coadds.prior.galaxy_prob"
   ]
  },
  {
   "cell_type": "code",
   "execution_count": 10,
   "id": "187d3844",
   "metadata": {
    "ExecuteTime": {
     "end_time": "2022-09-11T20:55:41.985855Z",
     "start_time": "2022-09-11T20:55:41.953264Z"
    }
   },
   "outputs": [
    {
     "data": {
      "text/plain": [
       "10"
      ]
     },
     "execution_count": 10,
     "metadata": {},
     "output_type": "execute_result"
    }
   ],
   "source": [
    "cfg.datasets.galsim_blends_coadds.prior.n_dithers"
   ]
  },
  {
   "cell_type": "code",
   "execution_count": 31,
   "id": "93109129",
   "metadata": {
    "ExecuteTime": {
     "end_time": "2022-08-31T01:44:33.666810Z",
     "start_time": "2022-08-31T01:44:33.583122Z"
    },
    "scrolled": false
   },
   "outputs": [],
   "source": [
    "ds = instantiate(cfg.datasets.galsim_blends_coadds, batch_size=64, n_batches=100, num_workers=20)"
   ]
  },
  {
   "cell_type": "code",
   "execution_count": 32,
   "id": "7b6d873e",
   "metadata": {
    "ExecuteTime": {
     "end_time": "2022-08-31T01:45:23.516863Z",
     "start_time": "2022-08-31T01:44:35.341683Z"
    }
   },
   "outputs": [
    {
     "name": "stderr",
     "output_type": "stream",
     "text": [
      "Generating dataset: 100%|████████████████████████████████████████████████████████████████████████████████████████████████████████████████████| 100/100 [00:45<00:00,  2.21it/s]\n"
     ]
    }
   ],
   "source": [
    "from bliss.generate import generate\n",
    "generate(ds, '../output/coadd_dataset2.pt', '../output/coadd_dataset2.png', 9, global_params=(\"background\",))\n"
   ]
  },
  {
   "cell_type": "markdown",
   "id": "a7094dbd",
   "metadata": {},
   "source": [
    "# Run model on saved dataset"
   ]
  },
  {
   "cell_type": "code",
   "execution_count": 11,
   "id": "ae7b778b",
   "metadata": {
    "ExecuteTime": {
     "end_time": "2022-09-11T20:55:45.603105Z",
     "start_time": "2022-09-11T20:55:45.295256Z"
    }
   },
   "outputs": [
    {
     "data": {
      "text/plain": [
       "(torch.Size([6400, 1, 88, 88]),\n",
       " torch.Size([6400, 1, 88, 88]),\n",
       " torch.Size([6400, 10, 10]))"
      ]
     },
     "execution_count": 11,
     "metadata": {},
     "output_type": "execute_result"
    }
   ],
   "source": [
    "sds = torch.load('../output/coadd_dataset2.pt')\n",
    "sds['images'].shape, sds['noisy'].shape, sds['n_sources'].shape"
   ]
  },
  {
   "cell_type": "code",
   "execution_count": 12,
   "id": "4a5e31f6",
   "metadata": {
    "ExecuteTime": {
     "end_time": "2022-09-11T20:58:34.060515Z",
     "start_time": "2022-09-11T20:58:34.024350Z"
    }
   },
   "outputs": [
    {
     "data": {
      "text/plain": [
       "dict_keys(['images', 'noisy', 'background', 'n_sources', 'locs', 'galaxy_bools', 'star_bools', 'galaxy_params', 'star_fluxes', 'star_log_fluxes'])"
      ]
     },
     "execution_count": 12,
     "metadata": {},
     "output_type": "execute_result"
    }
   ],
   "source": [
    "# keys of dataset\n",
    "sds.keys()"
   ]
  },
  {
   "cell_type": "code",
   "execution_count": 13,
   "id": "c196c81e",
   "metadata": {
    "ExecuteTime": {
     "end_time": "2022-09-11T20:58:36.024518Z",
     "start_time": "2022-09-11T20:58:35.992639Z"
    }
   },
   "outputs": [
    {
     "data": {
      "text/plain": [
       "torch.Size([6400, 10, 10, 1, 2])"
      ]
     },
     "execution_count": 13,
     "metadata": {},
     "output_type": "execute_result"
    }
   ],
   "source": [
    "# parameters saved are on tiles\n",
    "sds['locs'].shape"
   ]
  },
  {
   "cell_type": "code",
   "execution_count": 14,
   "id": "5d4d7a8b",
   "metadata": {
    "ExecuteTime": {
     "end_time": "2022-09-11T20:58:36.548595Z",
     "start_time": "2022-09-11T20:58:36.512197Z"
    }
   },
   "outputs": [],
   "source": [
    "# format background (needs to be CONSTANT)\n",
    "n_batches = sds['images'].shape[0]\n",
    "slen = sds['images'].shape[-1]\n",
    "background = rearrange(sds['background'], '1 h w -> 1 1 h w')\n",
    "background = background.expand(n_batches, 1, slen, slen)"
   ]
  },
  {
   "cell_type": "code",
   "execution_count": 15,
   "id": "1ac9e7e8",
   "metadata": {
    "ExecuteTime": {
     "end_time": "2022-09-11T20:59:04.974295Z",
     "start_time": "2022-09-11T20:58:37.401547Z"
    }
   },
   "outputs": [
    {
     "name": "stderr",
     "output_type": "stream",
     "text": [
      "Encoding ptiles: 640it [00:27, 23.25it/s]\n"
     ]
    }
   ],
   "source": [
    "# run (single-exposure) model prediction \n",
    "tile_est = encoder.variational_mode(sds['noisy'], background)"
   ]
  },
  {
   "cell_type": "code",
   "execution_count": 15,
   "id": "a70f1465",
   "metadata": {
    "ExecuteTime": {
     "end_time": "2022-08-31T02:00:25.494109Z",
     "start_time": "2022-08-31T02:00:04.635457Z"
    }
   },
   "outputs": [
    {
     "name": "stderr",
     "output_type": "stream",
     "text": [
      "Encoding ptiles: 640it [00:20, 30.77it/s]\n"
     ]
    }
   ],
   "source": [
    "# run (coadd) model prediction \n",
    "tile_est_coadd = encoder_coadd.variational_mode(sds['images'], background)"
   ]
  },
  {
   "cell_type": "code",
   "execution_count": 16,
   "id": "8ca3124e",
   "metadata": {
    "ExecuteTime": {
     "end_time": "2022-08-31T02:00:27.859813Z",
     "start_time": "2022-08-31T02:00:27.827534Z"
    }
   },
   "outputs": [],
   "source": [
    "# run (coadd) model prediction \n",
    "# tile_est_coadd_25 = encoder_coadd_25.variational_mode(sds['noisy'], background)"
   ]
  },
  {
   "cell_type": "markdown",
   "id": "a2cc31c1",
   "metadata": {},
   "source": [
    "# Metrics on prediction compared to truth"
   ]
  },
  {
   "cell_type": "code",
   "execution_count": 16,
   "id": "3c90323b",
   "metadata": {
    "ExecuteTime": {
     "end_time": "2022-09-11T20:59:45.908493Z",
     "start_time": "2022-09-11T20:59:45.865196Z"
    }
   },
   "outputs": [],
   "source": [
    "# load true catalog\n",
    "catalog_dict = {\n",
    "    \"locs\": sds[\"locs\"],\n",
    "    \"star_log_fluxes\": sds[\"star_log_fluxes\"],\n",
    "    \"galaxy_bools\": sds[\"galaxy_bools\"],\n",
    "    \"n_sources\": sds[\"n_sources\"],\n",
    "    \"star_fluxes\": sds['star_fluxes']\n",
    "}"
   ]
  },
  {
   "cell_type": "code",
   "execution_count": 17,
   "id": "2e9992c5",
   "metadata": {
    "ExecuteTime": {
     "end_time": "2022-09-11T20:59:46.999797Z",
     "start_time": "2022-09-11T20:59:46.909172Z"
    }
   },
   "outputs": [],
   "source": [
    "true_tile_catalog = TileCatalog(4, catalog_dict)\n",
    "truth = true_tile_catalog.to_full_params()"
   ]
  },
  {
   "cell_type": "markdown",
   "id": "f9a6bbb0",
   "metadata": {},
   "source": [
    "# Encoder"
   ]
  },
  {
   "cell_type": "markdown",
   "id": "6601ea49",
   "metadata": {},
   "source": [
    "## Get Full Catalogs"
   ]
  },
  {
   "cell_type": "code",
   "execution_count": 18,
   "id": "d1def153",
   "metadata": {
    "ExecuteTime": {
     "end_time": "2022-09-11T20:59:49.107941Z",
     "start_time": "2022-09-11T20:59:49.019629Z"
    }
   },
   "outputs": [],
   "source": [
    "est = tile_est.cpu().to_full_params() # full estimated catalog from single exposure model"
   ]
  },
  {
   "cell_type": "code",
   "execution_count": 19,
   "id": "9ae9a492",
   "metadata": {
    "ExecuteTime": {
     "end_time": "2022-09-11T20:59:49.606443Z",
     "start_time": "2022-09-11T20:59:49.570310Z"
    }
   },
   "outputs": [
    {
     "data": {
      "text/plain": [
       "torch.Size([6400, 8, 2])"
      ]
     },
     "execution_count": 19,
     "metadata": {},
     "output_type": "execute_result"
    }
   ],
   "source": [
    "# parameters are now per image\n",
    "est.plocs.shape"
   ]
  },
  {
   "cell_type": "code",
   "execution_count": 20,
   "id": "7e69af84",
   "metadata": {
    "ExecuteTime": {
     "end_time": "2022-09-11T20:59:50.522096Z",
     "start_time": "2022-09-11T20:59:50.483358Z"
    }
   },
   "outputs": [],
   "source": [
    "est['galaxy_bools'] = torch.zeros(est.batch_size, est.max_sources, 1) # only stars, did not train classification encoder"
   ]
  },
  {
   "cell_type": "markdown",
   "id": "4adaa518",
   "metadata": {},
   "source": [
    "## Simple metrics"
   ]
  },
  {
   "cell_type": "code",
   "execution_count": 21,
   "id": "8d7a75f7",
   "metadata": {
    "ExecuteTime": {
     "end_time": "2022-09-11T21:00:05.700818Z",
     "start_time": "2022-09-11T20:59:59.011119Z"
    }
   },
   "outputs": [],
   "source": [
    "# encoder\n",
    "from bliss.reporting import DetectionMetrics\n",
    "metrics = DetectionMetrics()(truth, est)"
   ]
  },
  {
   "cell_type": "code",
   "execution_count": 22,
   "id": "a001e5b9",
   "metadata": {
    "ExecuteTime": {
     "end_time": "2022-09-11T21:00:13.729423Z",
     "start_time": "2022-09-11T21:00:13.675371Z"
    }
   },
   "outputs": [
    {
     "data": {
      "text/plain": [
       "(tensor(0.8763), tensor(0.9287), tensor(0.8295))"
      ]
     },
     "execution_count": 22,
     "metadata": {},
     "output_type": "execute_result"
    }
   ],
   "source": [
    "metrics['f1'], metrics['precision'], metrics['recall']"
   ]
  },
  {
   "cell_type": "code",
   "execution_count": 23,
   "id": "5029e288",
   "metadata": {
    "ExecuteTime": {
     "end_time": "2022-09-11T21:00:15.656071Z",
     "start_time": "2022-09-11T21:00:15.617388Z"
    }
   },
   "outputs": [
    {
     "name": "stdout",
     "output_type": "stream",
     "text": [
      "tensor([4, 1, 3,  ..., 4, 6, 5])\n",
      "tensor([3, 1, 3,  ..., 2, 5, 5])\n"
     ]
    }
   ],
   "source": [
    "print(truth.n_sources)\n",
    "print(est.n_sources)"
   ]
  },
  {
   "cell_type": "code",
   "execution_count": null,
   "id": "9d88c728",
   "metadata": {},
   "outputs": [],
   "source": [
    "# encoder coadd"
   ]
  },
  {
   "cell_type": "markdown",
   "id": "93b6e18c",
   "metadata": {},
   "source": [
    "## Flux prediction"
   ]
  },
  {
   "cell_type": "code",
   "execution_count": 71,
   "id": "faf9ed18",
   "metadata": {
    "ExecuteTime": {
     "end_time": "2022-08-30T19:03:28.439336Z",
     "start_time": "2022-08-30T19:03:28.402429Z"
    }
   },
   "outputs": [],
   "source": [
    "from bliss.reporting import match_by_locs"
   ]
  },
  {
   "cell_type": "code",
   "execution_count": 70,
   "id": "b368660e",
   "metadata": {
    "ExecuteTime": {
     "end_time": "2022-08-30T19:00:55.819653Z",
     "start_time": "2022-08-30T19:00:55.788833Z"
    }
   },
   "outputs": [],
   "source": [
    "# encoder\n",
    "true_plocs = truth.plocs\n",
    "est_plocs = est.plocs"
   ]
  },
  {
   "cell_type": "code",
   "execution_count": 79,
   "id": "6bb1695d",
   "metadata": {
    "ExecuteTime": {
     "end_time": "2022-08-30T19:08:25.566983Z",
     "start_time": "2022-08-30T19:08:22.185704Z"
    }
   },
   "outputs": [],
   "source": [
    "# obtain fluxes of matches\n",
    "true_fluxes = []\n",
    "est_fluxes = [] \n",
    "for ii in range(true_plocs.shape[0]):\n",
    "    n_sources1, n_sources2 = truth.n_sources[ii].item(), est.n_sources[ii].item()\n",
    "    if n_sources1 > 0 and n_sources2 > 0:\n",
    "        plocs1 = true_plocs[ii]\n",
    "        plocs2 = est_plocs[ii]\n",
    "        mtrue, mest, dkeep, avg_distance = match_by_locs(plocs1, plocs2)\n",
    "        tp = len(plocs2[mest][dkeep])  # n_matches\n",
    "        \n",
    "        fluxes1 = truth['star_fluxes'][ii][mtrue][dkeep]\n",
    "        fluxes2 = est['star_fluxes'][ii][mest][dkeep]\n",
    "        for jj in range(tp):\n",
    "            flux1 = fluxes1[jj].item()\n",
    "            flux2 = fluxes2[jj].item()\n",
    "            assert flux1 > 0 and flux2 > 0\n",
    "            true_fluxes.append(flux1)\n",
    "            est_fluxes.append(flux2)"
   ]
  },
  {
   "cell_type": "code",
   "execution_count": 87,
   "id": "654e9732",
   "metadata": {
    "ExecuteTime": {
     "end_time": "2022-08-30T19:16:23.670094Z",
     "start_time": "2022-08-30T19:16:22.823701Z"
    }
   },
   "outputs": [
    {
     "data": {
      "text/plain": [
       "<matplotlib.legend.Legend at 0x7fcf5a441a90>"
      ]
     },
     "execution_count": 87,
     "metadata": {},
     "output_type": "execute_result"
    },
    {
     "data": {
      "image/png": "[encoded data removed]",
      "text/plain": [
       "<Figure size 432x288 with 1 Axes>"
      ]
     },
     "metadata": {
      "needs_background": "light"
     },
     "output_type": "display_data"
    }
   ],
   "source": [
    "plt.scatter(true_fluxes, est_fluxes, marker='o', color='r', alpha=0.5)\n",
    "plt.plot([0, 1e6], [0, 1e6], 'b--', label='perfect')\n",
    "plt.xscale('log')\n",
    "plt.yscale('log')\n",
    "plt.legend()"
   ]
  },
  {
   "cell_type": "code",
   "execution_count": null,
   "id": "fd048caa",
   "metadata": {},
   "outputs": [],
   "source": [
    "# good idea might be to plot median and quartiles of the red points in buckets of truth?"
   ]
  },
  {
   "cell_type": "markdown",
   "id": "9012a7e6",
   "metadata": {},
   "source": [
    "## Add magnitude to truth and estimated catalog"
   ]
  },
  {
   "cell_type": "code",
   "execution_count": 24,
   "id": "1d97ee3f",
   "metadata": {
    "ExecuteTime": {
     "end_time": "2022-09-11T21:00:25.823180Z",
     "start_time": "2022-09-11T21:00:25.509389Z"
    }
   },
   "outputs": [],
   "source": [
    "# NOTE: need to add 'mag' to catalog\n",
    "# ASSUMES only stars\n",
    "from bliss.datasets.sdss import convert_flux_to_mag\n",
    "truth['mags'] = torch.zeros_like(truth['star_fluxes'])\n",
    "for ii in range(len(truth.n_sources)):\n",
    "    n_sources = truth.n_sources[ii].item()\n",
    "    truth['mags'][ii, :n_sources] = convert_flux_to_mag(truth['star_fluxes'][ii, :n_sources])"
   ]
  },
  {
   "cell_type": "code",
   "execution_count": 25,
   "id": "9f45ce96",
   "metadata": {
    "ExecuteTime": {
     "end_time": "2022-09-11T21:00:27.737215Z",
     "start_time": "2022-09-11T21:00:27.433816Z"
    }
   },
   "outputs": [],
   "source": [
    "# NOTE: need to add 'mag' to catalog\n",
    "# ASSUMES only stars\n",
    "from bliss.datasets.sdss import convert_flux_to_mag\n",
    "est['mags'] = torch.zeros_like(est['star_fluxes'])\n",
    "for ii in range(len(est.n_sources)):\n",
    "    n_sources = est.n_sources[ii].item()\n",
    "    est['mags'][ii, :n_sources] = convert_flux_to_mag(est['star_fluxes'][ii, :n_sources])"
   ]
  },
  {
   "cell_type": "markdown",
   "id": "8f58b4f2",
   "metadata": {},
   "source": [
    "## Check apply mag bin works"
   ]
  },
  {
   "cell_type": "code",
   "execution_count": 37,
   "id": "1b1c9a82",
   "metadata": {
    "ExecuteTime": {
     "end_time": "2022-09-11T21:17:58.420974Z",
     "start_time": "2022-09-11T21:17:57.697611Z"
    }
   },
   "outputs": [
    {
     "name": "stdout",
     "output_type": "stream",
     "text": [
      "0\n"
     ]
    },
    {
     "data": {
      "text/plain": [
       "1"
      ]
     },
     "execution_count": 37,
     "metadata": {},
     "output_type": "execute_result"
    }
   ],
   "source": [
    "from collections import defaultdict\n",
    "count_b = defaultdict(int)  # count occurences in batch\n",
    "print(count_b[0])\n",
    "count_b[0] += 1 \n",
    "count_b[0]"
   ]
  },
  {
   "cell_type": "code",
   "execution_count": 51,
   "id": "409ecbae",
   "metadata": {
    "ExecuteTime": {
     "end_time": "2022-09-11T21:29:29.657638Z",
     "start_time": "2022-09-11T21:29:28.098553Z"
    }
   },
   "outputs": [],
   "source": [
    "# check our function works!!?\n",
    "_truth = truth.apply_param_bin('mags', 21, 25)"
   ]
  },
  {
   "cell_type": "code",
   "execution_count": 52,
   "id": "d30d989c",
   "metadata": {
    "ExecuteTime": {
     "end_time": "2022-09-11T21:29:30.809279Z",
     "start_time": "2022-09-11T21:29:30.770844Z"
    }
   },
   "outputs": [
    {
     "data": {
      "text/plain": [
       "tensor([[22.3879, 22.8570, 22.2323, 21.0521,  0.0000,  0.0000],\n",
       "        [20.2752,  0.0000,  0.0000,  0.0000,  0.0000,  0.0000],\n",
       "        [22.2487, 19.5548, 21.1386,  0.0000,  0.0000,  0.0000],\n",
       "        ...,\n",
       "        [21.8143, 16.5837, 21.5527, 20.9318,  0.0000,  0.0000],\n",
       "        [16.3188, 21.2247, 22.5964, 21.2340, 22.4575, 22.5583],\n",
       "        [22.5848, 20.3566, 21.2475, 19.1546, 21.2439,  0.0000]])"
      ]
     },
     "execution_count": 52,
     "metadata": {},
     "output_type": "execute_result"
    }
   ],
   "source": [
    "truth['mags'].squeeze()"
   ]
  },
  {
   "cell_type": "code",
   "execution_count": 53,
   "id": "8b36f597",
   "metadata": {
    "ExecuteTime": {
     "end_time": "2022-09-11T21:29:31.130365Z",
     "start_time": "2022-09-11T21:29:31.098985Z"
    }
   },
   "outputs": [
    {
     "data": {
      "text/plain": [
       "tensor([[22.3879, 22.8570, 22.2323, 21.0521,  0.0000,  0.0000],\n",
       "        [ 0.0000,  0.0000,  0.0000,  0.0000,  0.0000,  0.0000],\n",
       "        [22.2487, 21.1386,  0.0000,  0.0000,  0.0000,  0.0000],\n",
       "        ...,\n",
       "        [21.8143, 21.5527,  0.0000,  0.0000,  0.0000,  0.0000],\n",
       "        [21.2247, 22.5964, 21.2340, 22.4575, 22.5583,  0.0000],\n",
       "        [22.5848, 21.2475, 21.2439,  0.0000,  0.0000,  0.0000]])"
      ]
     },
     "execution_count": 53,
     "metadata": {},
     "output_type": "execute_result"
    }
   ],
   "source": [
    "_truth['mags'].squeeze()"
   ]
  },
  {
   "cell_type": "code",
   "execution_count": 54,
   "id": "d48fd1f7",
   "metadata": {
    "ExecuteTime": {
     "end_time": "2022-09-11T21:29:35.708230Z",
     "start_time": "2022-09-11T21:29:35.671242Z"
    }
   },
   "outputs": [
    {
     "data": {
      "text/plain": [
       "tensor([4, 1, 3,  ..., 4, 6, 5])"
      ]
     },
     "execution_count": 54,
     "metadata": {},
     "output_type": "execute_result"
    }
   ],
   "source": [
    "truth.n_sources"
   ]
  },
  {
   "cell_type": "code",
   "execution_count": 55,
   "id": "a3b85a33",
   "metadata": {
    "ExecuteTime": {
     "end_time": "2022-09-11T21:29:35.891908Z",
     "start_time": "2022-09-11T21:29:35.855525Z"
    }
   },
   "outputs": [
    {
     "data": {
      "text/plain": [
       "tensor([4, 0, 2,  ..., 2, 5, 3])"
      ]
     },
     "execution_count": 55,
     "metadata": {},
     "output_type": "execute_result"
    }
   ],
   "source": [
    "_truth.n_sources"
   ]
  },
  {
   "cell_type": "code",
   "execution_count": 88,
   "id": "764ccb82",
   "metadata": {
    "ExecuteTime": {
     "end_time": "2022-08-30T19:16:37.910035Z",
     "start_time": "2022-08-30T19:16:37.871128Z"
    }
   },
   "outputs": [],
   "source": [
    "# seems to work!"
   ]
  },
  {
   "cell_type": "markdown",
   "id": "5668a8f5",
   "metadata": {},
   "source": [
    "## get metrics per magnitude bin"
   ]
  },
  {
   "cell_type": "code",
   "execution_count": 173,
   "id": "bfc5a8dd",
   "metadata": {
    "ExecuteTime": {
     "end_time": "2022-08-30T20:12:50.051698Z",
     "start_time": "2022-08-30T20:12:50.015699Z"
    }
   },
   "outputs": [],
   "source": [
    "# first check scene_metrics works for one bin \n",
    "from bliss.reporting import scene_metrics"
   ]
  },
  {
   "cell_type": "code",
   "execution_count": 174,
   "id": "222be841",
   "metadata": {
    "ExecuteTime": {
     "end_time": "2022-08-30T20:13:04.422982Z",
     "start_time": "2022-08-30T20:12:50.261510Z"
    }
   },
   "outputs": [],
   "source": [
    "results = scene_metrics(truth, est, mag_min=-np.inf, mag_max=18)"
   ]
  },
  {
   "cell_type": "code",
   "execution_count": 215,
   "id": "6c865d36",
   "metadata": {
    "ExecuteTime": {
     "end_time": "2022-08-30T20:33:59.918134Z",
     "start_time": "2022-08-30T20:33:59.858215Z"
    }
   },
   "outputs": [],
   "source": [
    "from tqdm import tqdm\n",
    "from collections import defaultdict\n",
    "from case_studies.sdss_galaxies.plots.bliss_figures import set_rc_params, format_plot, CB_color_cycle\n",
    "def compute_mag_bin_metrics(mag_bins, truth, pred):\n",
    "    metrics_per_mag = defaultdict(lambda: torch.zeros(len(mag_bins)))\n",
    "\n",
    "    # compute data for precision/recall/classification accuracy as a function of magnitude.\n",
    "    for ii, (mag1, mag2) in tqdm(enumerate(mag_bins), total=len(mag_bins)):\n",
    "        res = scene_metrics(truth, pred, mag_min=mag1, mag_max=mag2, slack=1.0)\n",
    "        metrics_per_mag[\"precision\"][ii] = res[\"precision\"]\n",
    "        metrics_per_mag[\"recall\"][ii] = res[\"recall\"]\n",
    "        metrics_per_mag[\"f1\"][ii] = res[\"f1\"]\n",
    "        metrics_per_mag[\"class_acc\"][ii] = res[\"class_acc\"]\n",
    "        conf_matrix = res[\"conf_matrix\"]\n",
    "        metrics_per_mag[\"galaxy_acc\"][ii] = conf_matrix[0, 0] / conf_matrix[0, :].sum().item()\n",
    "        metrics_per_mag[\"star_acc\"][ii] = conf_matrix[1, 1] / conf_matrix[1, :].sum().item()\n",
    "        for k, v in res[\"counts\"].items():\n",
    "            metrics_per_mag[k][ii] = v\n",
    "\n",
    "    return dict(metrics_per_mag)\n",
    "\n",
    "\n",
    "def make_detection_figure(\n",
    "    mags,\n",
    "    data,\n",
    "    xlims=(18, 24),\n",
    "    ylims=(0.5, 1.05),\n",
    "    ratio=2,\n",
    "    where_step=\"mid\",\n",
    "    n_gap=50,\n",
    "):\n",
    "    # precision / recall / f1 score\n",
    "    precision = data[\"precision\"].numpy()\n",
    "    recall = data[\"recall\"].numpy()\n",
    "    f1_score = data[\"f1\"].numpy()\n",
    "    tgcount = data[\"tgcount\"].numpy()\n",
    "    tscount = data[\"tscount\"].numpy()\n",
    "    egcount = data[\"egcount\"].numpy()\n",
    "    escount = data[\"escount\"].numpy()\n",
    "    # (1) precision / recall\n",
    "    set_rc_params(tick_label_size=22, label_size=30)\n",
    "    fig, (ax1, ax2) = plt.subplots(\n",
    "        2, 1, figsize=(10, 10), gridspec_kw={\"height_ratios\": [1, ratio]}, sharex=True\n",
    "    )\n",
    "    \n",
    "    ymin = min(min(precision), min(recall))\n",
    "    yticks = np.arange(np.round(ymin, 1), 1.1, 0.1)\n",
    "    format_plot(ax2, xlabel=r\"\\rm magnitude cut\", ylabel=\"metric\", yticks=yticks)\n",
    "    ax2.plot(mags[:, 1], recall, \"-o\", label=r\"\\rm recall\")\n",
    "    ax2.plot(mags[:, 1], precision, \"-o\", label=r\"\\rm precision\")\n",
    "    ax2.plot(mags[:, 1], f1_score, \"-o\", label=r\"\\rm f1 score\")\n",
    "    ax2.legend(loc=\"lower left\", prop={\"size\": 22})\n",
    "    ax2.set_xlim(xlims)\n",
    "    ax2.set_ylim(ylims)\n",
    "\n",
    "    # setup histogram plot up top.\n",
    "    c1 = CB_color_cycle[3]\n",
    "    c2 = CB_color_cycle[4]\n",
    "    ax1.step(mags[:, 1], tscount, label=\"truth stars\", where=where_step, color=c2)\n",
    "    ax1.step(mags[:, 1], escount, label=\"pred. stars\", ls=\"--\", where=where_step, color=c2)\n",
    "  \n",
    "    ymax = max(max(tgcount), max(tscount), max(egcount), max(escount))\n",
    "#     ymax = np.ceil(ymax / n_gap) * n_gap\n",
    "#     yticks = np.arange(0, ymax, n_gap)\n",
    "    ax1.set_ylim((0, ymax*1.2))\n",
    "#     format_plot(ax1, yticks=yticks, ylabel=r\"\\rm Counts\")\n",
    "    format_plot(ax1, ylabel=r\"\\rm Counts\")\n",
    "    ax1.legend(loc=\"best\", prop={\"size\": 16})\n",
    "    plt.subplots_adjust(hspace=0)\n",
    "    return fig"
   ]
  },
  {
   "cell_type": "code",
   "execution_count": 209,
   "id": "432044ed",
   "metadata": {
    "ExecuteTime": {
     "end_time": "2022-08-30T20:32:55.137080Z",
     "start_time": "2022-08-30T20:32:55.099942Z"
    }
   },
   "outputs": [
    {
     "data": {
      "text/plain": [
       "tensor([[   -inf, 17.5000],\n",
       "        [   -inf, 18.0000],\n",
       "        [   -inf, 18.5000],\n",
       "        [   -inf, 19.0000],\n",
       "        [   -inf, 19.5000],\n",
       "        [   -inf, 20.0000],\n",
       "        [   -inf, 20.5000],\n",
       "        [   -inf, 21.0000],\n",
       "        [   -inf, 21.5000],\n",
       "        [   -inf, 22.0000],\n",
       "        [   -inf, 22.5000],\n",
       "        [   -inf, 23.0000],\n",
       "        [   -inf, 23.5000],\n",
       "        [   -inf, 24.0000]])"
      ]
     },
     "execution_count": 209,
     "metadata": {},
     "output_type": "execute_result"
    }
   ],
   "source": [
    "mag_cuts"
   ]
  },
  {
   "cell_type": "code",
   "execution_count": 210,
   "id": "95bcc796",
   "metadata": {
    "ExecuteTime": {
     "end_time": "2022-08-30T20:32:55.261108Z",
     "start_time": "2022-08-30T20:32:55.233238Z"
    }
   },
   "outputs": [],
   "source": [
    "mag_cuts2 = torch.arange(17.5, 23.5, 0.5)\n",
    "mag_cuts1 = torch.full_like(mag_cuts2, fill_value=-np.inf)\n",
    "mag_cuts = torch.column_stack((mag_cuts1, mag_cuts2))"
   ]
  },
  {
   "cell_type": "code",
   "execution_count": 211,
   "id": "8d8adfc7",
   "metadata": {
    "ExecuteTime": {
     "end_time": "2022-08-30T20:32:55.577686Z",
     "start_time": "2022-08-30T20:32:55.535811Z"
    }
   },
   "outputs": [],
   "source": [
    "# data = compute_mag_bin_metrics(mag_cuts, truth, est)"
   ]
  },
  {
   "cell_type": "code",
   "execution_count": 216,
   "id": "b04534fa",
   "metadata": {
    "ExecuteTime": {
     "end_time": "2022-08-30T20:34:02.355710Z",
     "start_time": "2022-08-30T20:34:02.072710Z"
    }
   },
   "outputs": [
    {
     "data": {
      "image/png": "[encoded data removed]",
      "text/plain": [
       "<Figure size 720x720 with 2 Axes>"
      ]
     },
     "metadata": {
      "needs_background": "light"
     },
     "output_type": "display_data"
    }
   ],
   "source": [
    "fig = make_detection_figure(mag_cuts, data, ylims=(0.5, 1.03), n_gap=10)"
   ]
  },
  {
   "cell_type": "code",
   "execution_count": 219,
   "id": "8bef6150",
   "metadata": {
    "ExecuteTime": {
     "end_time": "2022-08-30T20:34:23.175946Z",
     "start_time": "2022-08-30T20:34:23.131457Z"
    }
   },
   "outputs": [
    {
     "data": {
      "text/plain": [
       "tensor(22.9927)"
      ]
     },
     "execution_count": 219,
     "metadata": {},
     "output_type": "execute_result"
    }
   ],
   "source": [
    "est['mags'].max()"
   ]
  },
  {
   "cell_type": "markdown",
   "id": "0ae4f863",
   "metadata": {},
   "source": [
    "# Coadd decoder"
   ]
  },
  {
   "cell_type": "code",
   "execution_count": 25,
   "id": "153f38b3",
   "metadata": {
    "ExecuteTime": {
     "end_time": "2022-08-31T02:05:59.069583Z",
     "start_time": "2022-08-31T02:05:58.978444Z"
    }
   },
   "outputs": [],
   "source": [
    "## Get Full Catalogs\n",
    "\n",
    "est_coadd = tile_est_coadd.cpu().to_full_params() # full estimated catalog from single exposure model\n",
    "\n",
    "# parameters are now per image\n",
    "est_coadd.plocs.shape\n",
    "\n",
    "est_coadd['galaxy_bools'] = torch.zeros(est.batch_size, est.max_sources, 1) # only stars, did not train classification encoder\n",
    "\n"
   ]
  },
  {
   "cell_type": "code",
   "execution_count": 26,
   "id": "e580da62",
   "metadata": {
    "ExecuteTime": {
     "end_time": "2022-08-31T02:07:00.436441Z",
     "start_time": "2022-08-31T02:06:42.687736Z"
    }
   },
   "outputs": [],
   "source": [
    "## Simple metrics\n",
    "\n",
    "# encoder\n",
    "from bliss.reporting import DetectionMetrics\n",
    "metrics = DetectionMetrics()(truth, est_coadd)"
   ]
  },
  {
   "cell_type": "code",
   "execution_count": 27,
   "id": "5545fb03",
   "metadata": {
    "ExecuteTime": {
     "end_time": "2022-08-31T02:07:00.476017Z",
     "start_time": "2022-08-31T02:07:00.439327Z"
    }
   },
   "outputs": [
    {
     "data": {
      "text/plain": [
       "(tensor(0.9446), tensor(0.9544), tensor(0.9350))"
      ]
     },
     "execution_count": 27,
     "metadata": {},
     "output_type": "execute_result"
    }
   ],
   "source": [
    "metrics['f1'], metrics['precision'], metrics['recall']"
   ]
  },
  {
   "cell_type": "code",
   "execution_count": 28,
   "id": "600f0143",
   "metadata": {
    "ExecuteTime": {
     "end_time": "2022-08-31T02:07:00.499027Z",
     "start_time": "2022-08-31T02:07:00.477423Z"
    }
   },
   "outputs": [
    {
     "name": "stdout",
     "output_type": "stream",
     "text": [
      "tensor([4, 1, 3,  ..., 4, 6, 5])\n",
      "tensor([3, 1, 3,  ..., 2, 5, 5])\n"
     ]
    }
   ],
   "source": [
    "print(truth.n_sources)\n",
    "print(est.n_sources)"
   ]
  }
 ],
 "metadata": {
  "kernelspec": {
   "display_name": "Python 3 (ipykernel)",
   "language": "python",
   "name": "python3"
  },
  "language_info": {
   "codemirror_mode": {
    "name": "ipython",
    "version": 3
   },
   "file_extension": ".py",
   "mimetype": "text/x-python",
   "name": "python",
   "nbconvert_exporter": "python",
   "pygments_lexer": "ipython3",
   "version": "3.8.10"
  },
  "toc": {
   "base_numbering": 1,
   "nav_menu": {},
   "number_sections": true,
   "sideBar": true,
   "skip_h1_title": false,
   "title_cell": "Table of Contents",
   "title_sidebar": "Contents",
   "toc_cell": false,
   "toc_position": {
    "height": "calc(100% - 180px)",
    "left": "10px",
    "top": "150px",
    "width": "165px"
   },
   "toc_section_display": true,
   "toc_window_display": true
  },
  "vscode": {
   "interpreter": {
    "hash": "42573bf324965e8843cce5661f2b7cff1bd822ab6b918329f3dd4ef295939d5e"
   }
  }
 },
 "nbformat": 4,
 "nbformat_minor": 5
}

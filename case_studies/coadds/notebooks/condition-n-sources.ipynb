{
 "cells": [
  {
   "cell_type": "code",
   "execution_count": 10,
   "id": "118f5304",
   "metadata": {
    "ExecuteTime": {
     "end_time": "2022-09-28T02:15:34.791604Z",
     "start_time": "2022-09-28T02:15:33.733855Z"
    }
   },
   "outputs": [],
   "source": [
    "import torch\n",
    "import matplotlib.pyplot as plt"
   ]
  },
  {
   "cell_type": "code",
   "execution_count": 30,
   "id": "ea495376",
   "metadata": {
    "ExecuteTime": {
     "end_time": "2022-09-28T02:20:00.303450Z",
     "start_time": "2022-09-28T02:20:00.293181Z"
    }
   },
   "outputs": [],
   "source": [
    "metrics = torch.load(\"../output/poisson5_models/metrics_mags_poisson5.pt\")"
   ]
  },
  {
   "cell_type": "code",
   "execution_count": 31,
   "id": "21848b4f",
   "metadata": {
    "ExecuteTime": {
     "end_time": "2022-09-28T02:20:00.522565Z",
     "start_time": "2022-09-28T02:20:00.518882Z"
    }
   },
   "outputs": [],
   "source": [
    "from bliss.datasets.sdss import convert_flux_to_mag\n",
    "tmags = convert_flux_to_mag(metrics['coadd_10']['matched_fluxes']['true_fluxes'])"
   ]
  },
  {
   "cell_type": "code",
   "execution_count": 35,
   "id": "ec4df0df",
   "metadata": {
    "ExecuteTime": {
     "end_time": "2022-09-28T02:20:50.147922Z",
     "start_time": "2022-09-28T02:20:50.141933Z"
    }
   },
   "outputs": [
    {
     "data": {
      "text/plain": [
       "tensor([0.9840, 0.9697, 0.9716, 0.9748, 0.9805, 0.9746, 0.9721, 0.9918, 0.9823,\n",
       "        0.9790, 0.9539, 0.9581, 0.9380, 0.8856, 0.6957])"
      ]
     },
     "execution_count": 35,
     "metadata": {},
     "output_type": "execute_result"
    }
   ],
   "source": [
    "recall = metrics['coadd_10']['mag_bin_metrics']['recall']\n",
    "recall"
   ]
  },
  {
   "cell_type": "code",
   "execution_count": 36,
   "id": "d3c3e5ca",
   "metadata": {
    "ExecuteTime": {
     "end_time": "2022-09-28T02:21:06.793968Z",
     "start_time": "2022-09-28T02:21:06.790357Z"
    }
   },
   "outputs": [],
   "source": [
    "boot_recall = metrics['coadd_10']['boot_mag_bin_metrics']['recall']"
   ]
  },
  {
   "cell_type": "code",
   "execution_count": 44,
   "id": "af45835c",
   "metadata": {
    "ExecuteTime": {
     "end_time": "2022-09-28T02:24:34.421373Z",
     "start_time": "2022-09-28T02:24:34.305609Z"
    }
   },
   "outputs": [
    {
     "data": {
      "text/plain": [
       "tensor([1.0000, 0.9924, 0.9848, 0.9937, 0.9909, 0.9905, 0.9880, 0.9959, 0.9917,\n",
       "        0.9895, 0.9635, 0.9511, 0.9383, 0.8238, 0.4885])"
      ]
     },
     "execution_count": 44,
     "metadata": {},
     "output_type": "execute_result"
    }
   ],
   "source": [
    "boot_recall.quantile(0.95, axis=0)"
   ]
  },
  {
   "cell_type": "code",
   "execution_count": 45,
   "id": "36faed99",
   "metadata": {
    "ExecuteTime": {
     "end_time": "2022-09-28T02:24:34.634128Z",
     "start_time": "2022-09-28T02:24:34.628240Z"
    }
   },
   "outputs": [
    {
     "data": {
      "text/plain": [
       "tensor([0.9840, 0.9697, 0.9716, 0.9748, 0.9805, 0.9746, 0.9721, 0.9918, 0.9823,\n",
       "        0.9790, 0.9539, 0.9581, 0.9380, 0.8856, 0.6957])"
      ]
     },
     "execution_count": 45,
     "metadata": {},
     "output_type": "execute_result"
    }
   ],
   "source": [
    "recall"
   ]
  },
  {
   "cell_type": "code",
   "execution_count": 46,
   "id": "e4c9404d",
   "metadata": {
    "ExecuteTime": {
     "end_time": "2022-09-28T02:24:35.129166Z",
     "start_time": "2022-09-28T02:24:35.028598Z"
    }
   },
   "outputs": [
    {
     "data": {
      "text/plain": [
       "tensor([0.9635, 0.9435, 0.9290, 0.9527, 0.9567, 0.9548, 0.9435, 0.9696, 0.9610,\n",
       "        0.9600, 0.9167, 0.9035, 0.8904, 0.7568, 0.4120])"
      ]
     },
     "execution_count": 46,
     "metadata": {},
     "output_type": "execute_result"
    }
   ],
   "source": [
    "boot_recall.quantile(0.05, axis=0)"
   ]
  },
  {
   "cell_type": "code",
   "execution_count": 18,
   "id": "3741246f",
   "metadata": {
    "ExecuteTime": {
     "end_time": "2022-09-28T02:17:00.335731Z",
     "start_time": "2022-09-28T02:17:00.140702Z"
    }
   },
   "outputs": [
    {
     "data": {
      "text/plain": [
       "(array([  59.,   84.,  161.,  205.,  304.,  372.,  532.,  720., 1010.,\n",
       "        1140.]),\n",
       " array([14.991841 , 15.7925625, 16.593285 , 17.394005 , 18.194727 ,\n",
       "        18.995447 , 19.79617  , 20.59689  , 21.397612 , 22.198332 ,\n",
       "        22.999054 ], dtype=float32),\n",
       " <BarContainer object of 10 artists>)"
      ]
     },
     "execution_count": 18,
     "metadata": {},
     "output_type": "execute_result"
    },
    {
     "data": {
      "image/png": "[encoded data removed]",
      "text/plain": [
       "<Figure size 432x288 with 1 Axes>"
      ]
     },
     "metadata": {
      "needs_background": "light"
     },
     "output_type": "display_data"
    }
   ],
   "source": [
    "plt.hist(tmags.numpy())"
   ]
  },
  {
   "cell_type": "code",
   "execution_count": 15,
   "id": "fc7b1de5",
   "metadata": {
    "ExecuteTime": {
     "end_time": "2022-09-28T02:16:27.020647Z",
     "start_time": "2022-09-28T02:16:27.016789Z"
    }
   },
   "outputs": [
    {
     "data": {
      "text/plain": [
       "(4580,)"
      ]
     },
     "execution_count": 15,
     "metadata": {},
     "output_type": "execute_result"
    }
   ],
   "source": [
    "tmags.numpy().shape"
   ]
  },
  {
   "cell_type": "code",
   "execution_count": null,
   "id": "1d981633",
   "metadata": {},
   "outputs": [],
   "source": []
  }
 ],
 "metadata": {
  "kernelspec": {
   "display_name": "Python 3 (ipykernel)",
   "language": "python",
   "name": "python3"
  },
  "language_info": {
   "codemirror_mode": {
    "name": "ipython",
    "version": 3
   },
   "file_extension": ".py",
   "mimetype": "text/x-python",
   "name": "python",
   "nbconvert_exporter": "python",
   "pygments_lexer": "ipython3",
   "version": "3.8.10"
  },
  "toc": {
   "base_numbering": 1,
   "nav_menu": {},
   "number_sections": true,
   "sideBar": true,
   "skip_h1_title": false,
   "title_cell": "Table of Contents",
   "title_sidebar": "Contents",
   "toc_cell": false,
   "toc_position": {},
   "toc_section_display": true,
   "toc_window_display": true
  }
 },
 "nbformat": 4,
 "nbformat_minor": 5
}

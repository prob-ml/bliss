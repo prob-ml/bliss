{
 "cells": [
  {
   "cell_type": "code",
   "execution_count": 17,
   "id": "bae78b9d",
   "metadata": {
    "ExecuteTime": {
     "end_time": "2022-09-27T18:26:07.381107Z",
     "start_time": "2022-09-27T18:26:06.412047Z"
    }
   },
   "outputs": [
    {
     "name": "stdout",
     "output_type": "stream",
     "text": [
      "The autoreload extension is already loaded. To reload it, use:\n",
      "  %reload_ext autoreload\n",
      "Modules to reload:\n",
      "all-except-skipped\n",
      "\n",
      "Modules to skip:\n",
      "\n",
      "5\n"
     ]
    }
   ],
   "source": [
    "%load_ext autoreload\n",
    "%autoreload 2\n",
    "%aimport\n",
    "\n",
    "%matplotlib inline \n",
    "\n",
    "import torch\n",
    "import matplotlib.pyplot as plt\n",
    "from einops import rearrange\n",
    "\n",
    "from bliss.catalog import TileCatalog, get_images_in_tiles\n",
    "from bliss.encoder import Encoder\n",
    "from bliss.catalog import FullCatalog\n",
    "\n",
    "\n",
    "device = torch.device('cuda:0')\n",
    "!echo $CUDA_VISIBLE_DEVICES"
   ]
  },
  {
   "cell_type": "code",
   "execution_count": 2,
   "id": "dfa1f6cb",
   "metadata": {
    "ExecuteTime": {
     "end_time": "2022-09-27T18:23:17.146296Z",
     "start_time": "2022-09-27T18:23:16.961752Z"
    }
   },
   "outputs": [],
   "source": [
    "# load models\n",
    "from hydra import compose, initialize\n",
    "from hydra.utils import instantiate\n",
    "\n",
    "with initialize(config_path=\"../../coadds/config\"):\n",
    "    cfg = compose(\"config\", overrides=[])"
   ]
  },
  {
   "cell_type": "markdown",
   "id": "765a247f",
   "metadata": {},
   "source": [
    "# Run end-to-end"
   ]
  },
  {
   "cell_type": "code",
   "execution_count": 3,
   "id": "9d4d6ee5",
   "metadata": {
    "ExecuteTime": {
     "end_time": "2022-09-18T13:48:49.854188Z",
     "start_time": "2022-09-18T13:48:46.055631Z"
    }
   },
   "outputs": [],
   "source": [
    "location = instantiate(cfg.models.detection_encoder).to(device).eval()\n",
    "# NOTE: change weight_checkpoint to the one in your output folder\n",
    "location.load_state_dict(torch.load('../output/single_encoder.pt', map_location=location.device)\n",
    ")\n",
    "\n",
    "encoder = Encoder(location.eval(), n_images_per_batch=10, n_rows_per_batch=15).to(device).eval()"
   ]
  },
  {
   "cell_type": "code",
   "execution_count": 35,
   "id": "9a2bca35",
   "metadata": {
    "ExecuteTime": {
     "end_time": "2022-09-18T14:44:30.170061Z",
     "start_time": "2022-09-18T14:44:28.931630Z"
    }
   },
   "outputs": [],
   "source": [
    "test_ds = torch.load('../output/test_dataset.pt')\n",
    "image_keys = {\"coadd_10\", \"coadd_25\", \"coadd_50\", \"single\"}\n",
    "all_keys = list(test_ds.keys())\n",
    "truth_params = {k: test_ds.pop(k) for k in all_keys if k not in image_keys}\n",
    "truth_params[\"n_sources\"] = truth_params[\"n_sources\"].reshape(-1)\n",
    "truth = FullCatalog(88, 88, truth_params)"
   ]
  },
  {
   "cell_type": "code",
   "execution_count": 5,
   "id": "644885a0",
   "metadata": {
    "ExecuteTime": {
     "end_time": "2022-09-18T13:49:00.406669Z",
     "start_time": "2022-09-18T13:49:00.366831Z"
    }
   },
   "outputs": [],
   "source": [
    "background = instantiate(cfg.datasets.galsim_blends.background)\n",
    "background = background.sample((10000, 1, 88, 88))"
   ]
  },
  {
   "cell_type": "code",
   "execution_count": 6,
   "id": "4c62993e",
   "metadata": {
    "ExecuteTime": {
     "end_time": "2022-09-18T13:49:34.479680Z",
     "start_time": "2022-09-18T13:49:01.516923Z"
    }
   },
   "outputs": [
    {
     "name": "stderr",
     "output_type": "stream",
     "text": [
      "Encoding ptiles: 1000it [00:32, 30.46it/s]\n"
     ]
    }
   ],
   "source": [
    "tile_est = encoder.variational_mode(test_ds['single'], background)\n",
    "est = tile_est.cpu().to_full_params()"
   ]
  },
  {
   "cell_type": "code",
   "execution_count": 7,
   "id": "8b42513e",
   "metadata": {
    "ExecuteTime": {
     "end_time": "2022-09-18T13:49:52.039628Z",
     "start_time": "2022-09-18T13:49:51.984835Z"
    }
   },
   "outputs": [
    {
     "data": {
      "text/plain": [
       "tensor([4, 3, 3,  ..., 2, 2, 5])"
      ]
     },
     "execution_count": 7,
     "metadata": {},
     "output_type": "execute_result"
    }
   ],
   "source": [
    "truth.n_sources"
   ]
  },
  {
   "cell_type": "code",
   "execution_count": 8,
   "id": "c25c96c8",
   "metadata": {
    "ExecuteTime": {
     "end_time": "2022-09-18T13:49:52.166589Z",
     "start_time": "2022-09-18T13:49:52.132139Z"
    }
   },
   "outputs": [
    {
     "data": {
      "text/plain": [
       "tensor([5, 3, 2,  ..., 2, 2, 5])"
      ]
     },
     "execution_count": 8,
     "metadata": {},
     "output_type": "execute_result"
    }
   ],
   "source": [
    "est.n_sources"
   ]
  },
  {
   "cell_type": "code",
   "execution_count": 9,
   "id": "834906ad",
   "metadata": {
    "ExecuteTime": {
     "end_time": "2022-09-18T13:50:08.796103Z",
     "start_time": "2022-09-18T13:49:54.006155Z"
    }
   },
   "outputs": [
    {
     "name": "stderr",
     "output_type": "stream",
     "text": [
      "Detection Metric per batch: 100%|████████████████████████████████████████████████████████████████████████████████████████████████| 10000/10000 [00:07<00:00, 1340.39it/s]\n",
      "Detection Metric per batch: 100%|████████████████████████████████████████████████████████████████████████████████████████████████| 10000/10000 [00:07<00:00, 1374.27it/s]\n"
     ]
    }
   ],
   "source": [
    "from bliss.reporting import DetectionMetrics\n",
    "results = DetectionMetrics()(truth, est)"
   ]
  },
  {
   "cell_type": "code",
   "execution_count": 10,
   "id": "1e8df0ce",
   "metadata": {
    "ExecuteTime": {
     "end_time": "2022-09-18T13:50:08.845931Z",
     "start_time": "2022-09-18T13:50:08.807059Z"
    }
   },
   "outputs": [
    {
     "data": {
      "text/plain": [
       "tensor(0.8180)"
      ]
     },
     "execution_count": 10,
     "metadata": {},
     "output_type": "execute_result"
    }
   ],
   "source": [
    "results['recall']"
   ]
  },
  {
   "cell_type": "code",
   "execution_count": 11,
   "id": "180dbc96",
   "metadata": {
    "ExecuteTime": {
     "end_time": "2022-09-18T13:50:09.626706Z",
     "start_time": "2022-09-18T13:50:09.591073Z"
    }
   },
   "outputs": [
    {
     "data": {
      "text/plain": [
       "tensor(0.9378)"
      ]
     },
     "execution_count": 11,
     "metadata": {},
     "output_type": "execute_result"
    }
   ],
   "source": [
    "results['precision']"
   ]
  },
  {
   "cell_type": "code",
   "execution_count": 14,
   "id": "2188b998",
   "metadata": {
    "ExecuteTime": {
     "end_time": "2022-09-18T13:50:20.708292Z",
     "start_time": "2022-09-18T13:50:20.369398Z"
    }
   },
   "outputs": [
    {
     "data": {
      "text/plain": [
       "<matplotlib.collections.PathCollection at 0x7f81fbdd6220>"
      ]
     },
     "execution_count": 14,
     "metadata": {},
     "output_type": "execute_result"
    },
    {
     "data": {
      "image/png": "[encoded data removed]",
      "text/plain": [
       "<Figure size 432x288 with 1 Axes>"
      ]
     },
     "metadata": {
      "needs_background": "light"
     },
     "output_type": "display_data"
    }
   ],
   "source": [
    "image = test_ds['single'].numpy()[2,0]\n",
    "tplocs = truth.plocs[2].numpy()\n",
    "eplocs = est.plocs[2].numpy()\n",
    "\n",
    "plt.imshow(image)\n",
    "plt.scatter(tplocs[:, 1] + 24, tplocs[:, 0] + 24, color='r', marker='x')\n",
    "plt.scatter(eplocs[:, 1] + 24, eplocs[:, 0] + 24, color='g', marker='+')"
   ]
  },
  {
   "cell_type": "markdown",
   "id": "bbedcf94",
   "metadata": {},
   "source": [
    "## metrics per bin"
   ]
  },
  {
   "cell_type": "code",
   "execution_count": 16,
   "id": "fff76e1b",
   "metadata": {
    "ExecuteTime": {
     "end_time": "2022-09-17T19:05:53.800274Z",
     "start_time": "2022-09-17T19:05:53.769065Z"
    }
   },
   "outputs": [],
   "source": [
    "from case_studies.coadds.get_results import _compute_mag_bin_metrics, _add_mags_to_catalog"
   ]
  },
  {
   "cell_type": "code",
   "execution_count": 22,
   "id": "30172cc0",
   "metadata": {
    "ExecuteTime": {
     "end_time": "2022-09-17T19:18:58.502653Z",
     "start_time": "2022-09-17T19:18:57.043000Z"
    }
   },
   "outputs": [],
   "source": [
    "truth = _add_mags_to_catalog(truth)\n",
    "est = _add_mags_to_catalog(est)"
   ]
  },
  {
   "cell_type": "code",
   "execution_count": 35,
   "id": "a39ab1e3",
   "metadata": {
    "ExecuteTime": {
     "end_time": "2022-09-17T19:34:37.471426Z",
     "start_time": "2022-09-17T19:34:37.428499Z"
    }
   },
   "outputs": [],
   "source": [
    "detection_metrics = DetectionMetrics()\n",
    "eparams = est.apply_param_bin(\"mags\", 0, 27)"
   ]
  },
  {
   "cell_type": "code",
   "execution_count": 37,
   "id": "ea97bf81",
   "metadata": {
    "ExecuteTime": {
     "end_time": "2022-09-17T19:35:06.578961Z",
     "start_time": "2022-09-17T19:34:56.260320Z"
    }
   },
   "outputs": [
    {
     "name": "stderr",
     "output_type": "stream",
     "text": [
      "Detection Metric per batch: 100%|███████████████████████████████████████████████████████████████████████████| 10000/10000 [00:05<00:00, 1960.79it/s]\n",
      "Detection Metric per batch: 100%|███████████████████████████████████████████████████████████████████████████| 10000/10000 [00:05<00:00, 1936.98it/s]\n"
     ]
    },
    {
     "data": {
      "text/plain": [
       "{'tp': tensor(28244),\n",
       " 'fp': tensor(1872),\n",
       " 'precision': tensor(0.9378),\n",
       " 'recall': tensor(0.8180),\n",
       " 'f1': tensor(0.8738),\n",
       " 'avg_distance': tensor(0.4329),\n",
       " 'n_galaxies_detected': tensor(0)}"
      ]
     },
     "execution_count": 37,
     "metadata": {},
     "output_type": "execute_result"
    }
   ],
   "source": [
    "detection_metrics(truth, eparams)\n",
    "# precision = detection_metrics.compute()[\"precision\"]"
   ]
  },
  {
   "cell_type": "code",
   "execution_count": 32,
   "id": "bbfbdb7c",
   "metadata": {
    "ExecuteTime": {
     "end_time": "2022-09-17T19:34:23.160921Z",
     "start_time": "2022-09-17T19:34:23.128596Z"
    }
   },
   "outputs": [
    {
     "data": {
      "text/plain": [
       "tensor([5, 3, 2,  ..., 2, 2, 5])"
      ]
     },
     "execution_count": 32,
     "metadata": {},
     "output_type": "execute_result"
    }
   ],
   "source": [
    "est.n_sources"
   ]
  },
  {
   "cell_type": "code",
   "execution_count": 34,
   "id": "d570d4ab",
   "metadata": {
    "ExecuteTime": {
     "end_time": "2022-09-17T19:34:27.653465Z",
     "start_time": "2022-09-17T19:34:27.623466Z"
    }
   },
   "outputs": [
    {
     "data": {
      "text/plain": [
       "tensor([5, 3, 2,  ..., 2, 2, 5])"
      ]
     },
     "execution_count": 34,
     "metadata": {},
     "output_type": "execute_result"
    }
   ],
   "source": [
    "eparams.n_sources"
   ]
  },
  {
   "cell_type": "code",
   "execution_count": 18,
   "id": "ed5cd3e2",
   "metadata": {
    "ExecuteTime": {
     "end_time": "2022-09-17T19:06:19.995685Z",
     "start_time": "2022-09-17T19:06:19.950557Z"
    }
   },
   "outputs": [],
   "source": [
    "mag_cuts2 = torch.arange(17.0, 23.5, 0.5)\n",
    "mag_cuts1 = torch.full_like(mag_cuts2, fill_value=-torch.inf)\n",
    "mag_bins = torch.column_stack((mag_cuts1, mag_cuts2))"
   ]
  },
  {
   "cell_type": "code",
   "execution_count": 17,
   "id": "aa367207",
   "metadata": {
    "ExecuteTime": {
     "end_time": "2022-09-17T19:06:02.704880Z",
     "start_time": "2022-09-17T19:06:01.666313Z"
    },
    "collapsed": true
   },
   "outputs": [
    {
     "ename": "TypeError",
     "evalue": "_compute_mag_bin_metrics() missing 1 required positional argument: 'est'",
     "output_type": "error",
     "traceback": [
      "\u001b[0;31m---------------------------------------------------------------------------\u001b[0m",
      "\u001b[0;31mTypeError\u001b[0m                                 Traceback (most recent call last)",
      "Input \u001b[0;32mIn [17]\u001b[0m, in \u001b[0;36m<cell line: 3>\u001b[0;34m()\u001b[0m\n\u001b[1;32m      1\u001b[0m truth \u001b[38;5;241m=\u001b[39m _add_mags_to_catalog(truth)\n\u001b[1;32m      2\u001b[0m est \u001b[38;5;241m=\u001b[39m _add_mags_to_catalog(est)\n\u001b[0;32m----> 3\u001b[0m \u001b[43m_compute_mag_bin_metrics\u001b[49m\u001b[43m(\u001b[49m\u001b[43mtruth\u001b[49m\u001b[43m,\u001b[49m\u001b[43m \u001b[49m\u001b[43mest\u001b[49m\u001b[43m)\u001b[49m\n",
      "\u001b[0;31mTypeError\u001b[0m: _compute_mag_bin_metrics() missing 1 required positional argument: 'est'"
     ]
    }
   ],
   "source": []
  },
  {
   "cell_type": "code",
   "execution_count": 20,
   "id": "ce25883c",
   "metadata": {
    "ExecuteTime": {
     "end_time": "2022-09-17T19:12:49.905610Z",
     "start_time": "2022-09-17T19:12:49.636313Z"
    }
   },
   "outputs": [
    {
     "data": {
      "text/plain": [
       "tensor([[   -inf, 17.0000],\n",
       "        [   -inf, 17.5000],\n",
       "        [   -inf, 18.0000],\n",
       "        [   -inf, 18.5000],\n",
       "        [   -inf, 19.0000],\n",
       "        [   -inf, 19.5000],\n",
       "        [   -inf, 20.0000],\n",
       "        [   -inf, 20.5000],\n",
       "        [   -inf, 21.0000],\n",
       "        [   -inf, 21.5000],\n",
       "        [   -inf, 22.0000],\n",
       "        [   -inf, 22.5000],\n",
       "        [   -inf, 23.0000]])"
      ]
     },
     "execution_count": 20,
     "metadata": {},
     "output_type": "execute_result"
    }
   ],
   "source": [
    "mag_bins"
   ]
  },
  {
   "cell_type": "code",
   "execution_count": 19,
   "id": "b631af60",
   "metadata": {
    "ExecuteTime": {
     "end_time": "2022-09-17T19:12:03.816424Z",
     "start_time": "2022-09-17T19:06:27.411546Z"
    }
   },
   "outputs": [
    {
     "name": "stderr",
     "output_type": "stream",
     "text": [
      "Metrics per bin...: 13it [05:36, 25.87s/it]\n"
     ]
    },
    {
     "data": {
      "text/plain": [
       "{'precision': tensor([0.0237, 0.0368, 0.0513, 0.0682, 0.0893, 0.1140, 0.1408, 0.1714, 0.2061,\n",
       "         0.2458, 0.2848, 0.3258, 0.3530]),\n",
       " 'recall': tensor([0.0578, 0.0807, 0.1082, 0.1408, 0.1749, 0.2152, 0.2600, 0.3080, 0.3574,\n",
       "         0.4099, 0.4599, 0.4983, 0.4824]),\n",
       " 'tcount': tensor([26690., 27331., 28151., 29202., 30393., 31925., 33853., 36229., 39103.,\n",
       "         42793., 47289., 52870., 59968.]),\n",
       " 'ecount': tensor([51114., 51824., 52639., 53620., 54887., 56451., 58245., 60459., 63219.,\n",
       "         66713., 70668., 75693., 79998.])}"
      ]
     },
     "execution_count": 19,
     "metadata": {},
     "output_type": "execute_result"
    }
   ],
   "source": [
    "_compute_mag_bin_metrics(mag_bins, truth, est)"
   ]
  },
  {
   "cell_type": "markdown",
   "id": "8ecd71c9",
   "metadata": {
    "ExecuteTime": {
     "end_time": "2022-09-17T19:44:24.735782Z",
     "start_time": "2022-09-17T19:44:24.105384Z"
    },
    "heading_collapsed": true
   },
   "source": [
    "# Results saved"
   ]
  },
  {
   "cell_type": "code",
   "execution_count": 3,
   "id": "ca6be936",
   "metadata": {
    "ExecuteTime": {
     "end_time": "2022-09-17T22:01:05.262504Z",
     "start_time": "2022-09-17T22:01:05.217119Z"
    },
    "hidden": true
   },
   "outputs": [
    {
     "data": {
      "text/plain": [
       "{'single': {'mag_cut_metrics': {'precision': tensor([0.9846, 0.9825, 0.9808, 0.9791, 0.9792, 0.9801, 0.9806, 0.9797, 0.9772,\n",
       "           0.9744, 0.9682, 0.9556, 0.9379]),\n",
       "   'recall': tensor([0.9899, 0.9916, 0.9895, 0.9875, 0.9852, 0.9856, 0.9831, 0.9801, 0.9759,\n",
       "           0.9705, 0.9608, 0.9319, 0.8186]),\n",
       "   'tcount': tensor([ 1490.,  2131.,  2951.,  4002.,  5193.,  6725.,  8653., 11029., 13903.,\n",
       "           17593., 22089., 27670., 34768.]),\n",
       "   'ecount': tensor([ 1230.,  1940.,  2755.,  3736.,  5003.,  6567.,  8361., 10575., 13335.,\n",
       "           16829., 20784., 25809., 30114.])},\n",
       "  'mag_bin_metrics': {'precision': tensor([0.9930, 0.9914, 0.9949, 0.9882, 0.9898, 0.9883, 0.9833, 0.9736, 0.9679,\n",
       "           0.9487, 0.9097, 0.8374]),\n",
       "   'recall': tensor([0.9969, 0.9841, 0.9819, 0.9773, 0.9876, 0.9766, 0.9722, 0.9634, 0.9528,\n",
       "           0.9272, 0.8240, 0.3714]),\n",
       "   'tcount': tensor([ 641.,  820., 1051., 1191., 1532., 1928., 2376., 2874., 3690., 4496.,\n",
       "           5581., 7098.]),\n",
       "   'ecount': tensor([ 710.,  815.,  981., 1267., 1564., 1794., 2214., 2760., 3494., 3955.,\n",
       "           5025., 4305.])}},\n",
       " 'coadd_10': {'mag_cut_metrics': {'precision': tensor([0.9688, 0.9707, 0.9684, 0.9645, 0.9611, 0.9607, 0.9612, 0.9613, 0.9624,\n",
       "           0.9631, 0.9611, 0.9571, 0.9560]),\n",
       "   'recall': tensor([0.9839, 0.9850, 0.9837, 0.9787, 0.9769, 0.9774, 0.9764, 0.9722, 0.9674,\n",
       "           0.9645, 0.9585, 0.9469, 0.9212]),\n",
       "   'tcount': tensor([ 1490.,  2131.,  2951.,  4002.,  5193.,  6725.,  8653., 11029., 13903.,\n",
       "           17593., 22089., 27670., 34768.]),\n",
       "   'ecount': tensor([ 1185.,  1843.,  2657.,  3657.,  4890.,  6408.,  8405., 10690., 13452.,\n",
       "           16834., 21108., 25900., 32117.])},\n",
       "  'mag_bin_metrics': {'precision': tensor([0.9878, 0.9791, 0.9840, 0.9797, 0.9809, 0.9800, 0.9737, 0.9783, 0.9743,\n",
       "           0.9586, 0.9445, 0.9537]),\n",
       "   'recall': tensor([0.9891, 0.9805, 0.9656, 0.9698, 0.9804, 0.9756, 0.9600, 0.9526, 0.9566,\n",
       "           0.9404, 0.9084, 0.8281]),\n",
       "   'tcount': tensor([ 641.,  820., 1051., 1191., 1532., 1928., 2376., 2874., 3690., 4496.,\n",
       "           5581., 7098.]),\n",
       "   'ecount': tensor([ 658.,  814., 1000., 1233., 1518., 1997., 2285., 2762., 3382., 4274.,\n",
       "           4792., 6217.])}},\n",
       " 'coadd_25': {'mag_cut_metrics': {'precision': tensor([0.9958, 0.9954, 0.9955, 0.9953, 0.9954, 0.9931, 0.9903, 0.9865, 0.9842,\n",
       "           0.9811, 0.9790, 0.9762, 0.9766]),\n",
       "   'recall': tensor([0.9582, 0.9595, 0.9572, 0.9597, 0.9622, 0.9647, 0.9648, 0.9623, 0.9585,\n",
       "           0.9549, 0.9494, 0.9367, 0.9059]),\n",
       "   'tcount': tensor([ 1490.,  2131.,  2951.,  4002.,  5193.,  6725.,  8653., 11029., 13903.,\n",
       "           17593., 22089., 27670., 34768.]),\n",
       "   'ecount': tensor([ 1186.,  1728.,  2455.,  3426.,  4570.,  6117.,  8110., 10357., 13000.,\n",
       "           16336., 20360., 24919., 30323.])},\n",
       "  'mag_bin_metrics': {'precision': tensor([0.9945, 0.9972, 0.9959, 0.9956, 0.9890, 0.9844, 0.9840, 0.9815, 0.9748,\n",
       "           0.9739, 0.9656, 0.9785]),\n",
       "   'recall': tensor([0.9641, 0.9512, 0.9666, 0.9706, 0.9745, 0.9668, 0.9553, 0.9464, 0.9458,\n",
       "           0.9332, 0.8929, 0.7926]),\n",
       "   'tcount': tensor([ 641.,  820., 1051., 1191., 1532., 1928., 2376., 2874., 3690., 4496.,\n",
       "           5581., 7098.]),\n",
       "   'ecount': tensor([ 542.,  727.,  971., 1144., 1547., 1993., 2247., 2643., 3336., 4024.,\n",
       "           4559., 5404.])}},\n",
       " 'coadd_50': {'mag_cut_metrics': {'precision': tensor([0.9774, 0.9797, 0.9827, 0.9832, 0.9814, 0.9814, 0.9812, 0.9765, 0.9736,\n",
       "           0.9712, 0.9684, 0.9659, 0.9657]),\n",
       "   'recall': tensor([0.9819, 0.9822, 0.9817, 0.9807, 0.9790, 0.9805, 0.9783, 0.9743, 0.9701,\n",
       "           0.9671, 0.9625, 0.9534, 0.9364]),\n",
       "   'tcount': tensor([ 1490.,  2131.,  2951.,  4002.,  5193.,  6725.,  8653., 11029., 13903.,\n",
       "           17593., 22089., 27670., 34768.]),\n",
       "   'ecount': tensor([ 1460.,  2019.,  2767.,  3819.,  5104.,  6617.,  8637., 11075., 14022.,\n",
       "           17778., 22380., 27897., 33607.])},\n",
       "  'mag_bin_metrics': {'precision': tensor([0.9928, 0.9973, 0.9952, 0.9875, 0.9914, 0.9881, 0.9721, 0.9746, 0.9678,\n",
       "           0.9641, 0.9596, 0.9697]),\n",
       "   'recall': tensor([0.9844, 0.9805, 0.9781, 0.9731, 0.9863, 0.9725, 0.9621, 0.9572, 0.9593,\n",
       "           0.9497, 0.9233, 0.8778]),\n",
       "   'tcount': tensor([ 641.,  820., 1051., 1191., 1532., 1928., 2376., 2874., 3690., 4496.,\n",
       "           5581., 7098.]),\n",
       "   'ecount': tensor([ 559.,  748., 1052., 1285., 1513., 2020., 2438., 2947., 3756., 4602.,\n",
       "           5517., 5710.])}}}"
      ]
     },
     "execution_count": 3,
     "metadata": {},
     "output_type": "execute_result"
    }
   ],
   "source": [
    "torch.load(\"../output/metric_results.pt\")"
   ]
  },
  {
   "cell_type": "markdown",
   "id": "7cc77e44",
   "metadata": {
    "heading_collapsed": true
   },
   "source": [
    "# Constant time apply_mag_bin"
   ]
  },
  {
   "cell_type": "markdown",
   "id": "1db39966",
   "metadata": {
    "hidden": true
   },
   "source": [
    "## 3 dimensions"
   ]
  },
  {
   "cell_type": "code",
   "execution_count": 43,
   "id": "c1da6966",
   "metadata": {
    "ExecuteTime": {
     "end_time": "2022-09-17T18:10:44.996706Z",
     "start_time": "2022-09-17T18:10:44.726443Z"
    },
    "hidden": true
   },
   "outputs": [
    {
     "data": {
      "text/plain": [
       "tensor([[[4],\n",
       "         [6]],\n",
       "\n",
       "        [[2],\n",
       "         [7]],\n",
       "\n",
       "        [[0],\n",
       "         [5]]])"
      ]
     },
     "execution_count": 43,
     "metadata": {},
     "output_type": "execute_result"
    }
   ],
   "source": [
    "u = torch.randint(0, 10, (3, 2, 1))\n",
    "u"
   ]
  },
  {
   "cell_type": "code",
   "execution_count": 44,
   "id": "a7595632",
   "metadata": {
    "ExecuteTime": {
     "end_time": "2022-09-17T18:10:45.021373Z",
     "start_time": "2022-09-17T18:10:44.998782Z"
    },
    "hidden": true
   },
   "outputs": [
    {
     "data": {
      "text/plain": [
       "tensor([[[ 1, 15],\n",
       "         [18, 12]],\n",
       "\n",
       "        [[ 4, 14],\n",
       "         [15,  7]],\n",
       "\n",
       "        [[ 7, 19],\n",
       "         [16,  0]]])"
      ]
     },
     "execution_count": 44,
     "metadata": {},
     "output_type": "execute_result"
    }
   ],
   "source": [
    "v = torch.randint(0, 20, (3, 2, 2))\n",
    "v"
   ]
  },
  {
   "cell_type": "code",
   "execution_count": 46,
   "id": "93ca1eaf",
   "metadata": {
    "ExecuteTime": {
     "end_time": "2022-09-17T18:11:04.266106Z",
     "start_time": "2022-09-17T18:11:04.230505Z"
    },
    "hidden": true
   },
   "outputs": [
    {
     "data": {
      "text/plain": [
       "tensor([[[1, 1],\n",
       "         [2, 2]],\n",
       "\n",
       "        [[1, 1],\n",
       "         [2, 2]],\n",
       "\n",
       "        [[1, 1],\n",
       "         [2, 2]]])"
      ]
     },
     "execution_count": 46,
     "metadata": {},
     "output_type": "execute_result"
    }
   ],
   "source": [
    "as_indices = torch.arange(0, u.shape[1]).expand(u.shape[0], u.shape[1]).unsqueeze(-1)\n",
    "to_collect = torch.where(u>=5, as_indices, torch.ones_like(u)*(u.shape[1]))\n",
    "to_collect =to_collect.sort(axis=1)[0]\n",
    "to_collect = to_collect.expand(to_collect.shape[0], to_collect.shape[1], 2)\n",
    "to_collect"
   ]
  },
  {
   "cell_type": "code",
   "execution_count": 47,
   "id": "9e5d3666",
   "metadata": {
    "ExecuteTime": {
     "end_time": "2022-09-17T18:11:08.425684Z",
     "start_time": "2022-09-17T18:11:08.397407Z"
    },
    "hidden": true
   },
   "outputs": [
    {
     "data": {
      "text/plain": [
       "tensor([[[ 1., 15.],\n",
       "         [18., 12.],\n",
       "         [ 0.,  0.]],\n",
       "\n",
       "        [[ 4., 14.],\n",
       "         [15.,  7.],\n",
       "         [ 0.,  0.]],\n",
       "\n",
       "        [[ 7., 19.],\n",
       "         [16.,  0.],\n",
       "         [ 0.,  0.]]])"
      ]
     },
     "execution_count": 47,
     "metadata": {},
     "output_type": "execute_result"
    }
   ],
   "source": [
    "v_expand = torch.hstack([v, torch.zeros(v.shape[0], 1, v.shape[-1])])\n",
    "v_expand"
   ]
  },
  {
   "cell_type": "code",
   "execution_count": 48,
   "id": "c0f8964d",
   "metadata": {
    "ExecuteTime": {
     "end_time": "2022-09-17T18:11:08.808113Z",
     "start_time": "2022-09-17T18:11:08.776433Z"
    },
    "hidden": true
   },
   "outputs": [
    {
     "data": {
      "text/plain": [
       "tensor([[[18., 12.],\n",
       "         [ 0.,  0.]],\n",
       "\n",
       "        [[15.,  7.],\n",
       "         [ 0.,  0.]],\n",
       "\n",
       "        [[16.,  0.],\n",
       "         [ 0.,  0.]]])"
      ]
     },
     "execution_count": 48,
     "metadata": {},
     "output_type": "execute_result"
    }
   ],
   "source": [
    "torch.gather(v_expand, 1, to_collect)"
   ]
  },
  {
   "cell_type": "code",
   "execution_count": 69,
   "id": "ab94f7cf",
   "metadata": {
    "ExecuteTime": {
     "end_time": "2022-09-16T22:12:25.506353Z",
     "start_time": "2022-09-16T22:12:25.466018Z"
    },
    "hidden": true
   },
   "outputs": [
    {
     "data": {
      "text/plain": [
       "tensor([[[   11,     5],\n",
       "         [   11,     1],\n",
       "         [   11,     2],\n",
       "         [   11,     3]],\n",
       "\n",
       "        [[   11,     4],\n",
       "         [   11,     5],\n",
       "         [   11,     6],\n",
       "         [   11, 11001]],\n",
       "\n",
       "        [[   11,     3],\n",
       "         [   11,     4],\n",
       "         [   11,    -5],\n",
       "         [   11,    -7]]])"
      ]
     },
     "execution_count": 69,
     "metadata": {},
     "output_type": "execute_result"
    }
   ],
   "source": [
    "v = torch.tensor([[3, 5, 10, 1], [2,4, 1, 99], [9, 1, -1, 2]]).unsqueeze(-1)\n",
    "u = torch.tensor([[[19,5], [33,1], [112,2], [3232,3]], [[33,4], [1212,5], [444,6], [11,11001]], [[1213211,3], [11,4], [11,-5], [11,-7]]])\n",
    "u"
   ]
  },
  {
   "cell_type": "code",
   "execution_count": 75,
   "id": "f92e13b5",
   "metadata": {
    "ExecuteTime": {
     "end_time": "2022-09-16T22:14:05.475639Z",
     "start_time": "2022-09-16T22:14:05.433388Z"
    },
    "hidden": true
   },
   "outputs": [
    {
     "data": {
      "text/plain": [
       "tensor([[[0],\n",
       "         [1],\n",
       "         [2],\n",
       "         [4]],\n",
       "\n",
       "        [[1],\n",
       "         [3],\n",
       "         [4],\n",
       "         [4]],\n",
       "\n",
       "        [[0],\n",
       "         [4],\n",
       "         [4],\n",
       "         [4]]])"
      ]
     },
     "execution_count": 75,
     "metadata": {},
     "output_type": "execute_result"
    }
   ],
   "source": [
    "indices = torch.arange(0, v.shape[1]).expand(v.shape[0], v.shape[1])\n",
    "to_collect = torch.where(v>=3, indices.unsqueeze(-1), torch.ones_like(v)*(v.shape[1]))\n",
    "to_collect =to_collect.sort(axis=1)[0]\n",
    "to_collect"
   ]
  },
  {
   "cell_type": "code",
   "execution_count": 77,
   "id": "3a75ee2e",
   "metadata": {
    "ExecuteTime": {
     "end_time": "2022-09-16T22:14:32.423463Z",
     "start_time": "2022-09-16T22:14:32.390256Z"
    },
    "hidden": true
   },
   "outputs": [
    {
     "data": {
      "text/plain": [
       "tensor([[[ 3.],\n",
       "         [ 5.],\n",
       "         [10.],\n",
       "         [ 1.],\n",
       "         [ 0.]],\n",
       "\n",
       "        [[ 2.],\n",
       "         [ 4.],\n",
       "         [ 1.],\n",
       "         [99.],\n",
       "         [ 0.]],\n",
       "\n",
       "        [[ 9.],\n",
       "         [ 1.],\n",
       "         [-1.],\n",
       "         [ 2.],\n",
       "         [ 0.]]])"
      ]
     },
     "execution_count": 77,
     "metadata": {},
     "output_type": "execute_result"
    }
   ],
   "source": [
    "v_expand = torch.hstack([v, torch.zeros(v.shape[0], 1, v.shape[-1])])\n",
    "v_expand"
   ]
  },
  {
   "cell_type": "markdown",
   "id": "96299d51",
   "metadata": {
    "hidden": true
   },
   "source": [
    "## Check new version works"
   ]
  },
  {
   "cell_type": "code",
   "execution_count": 59,
   "id": "31d36f5e",
   "metadata": {
    "ExecuteTime": {
     "end_time": "2022-09-17T18:35:46.435238Z",
     "start_time": "2022-09-17T18:35:46.403494Z"
    },
    "hidden": true
   },
   "outputs": [],
   "source": [
    "from case_studies.coadds.get_results import _add_mags_to_catalog"
   ]
  },
  {
   "cell_type": "code",
   "execution_count": 60,
   "id": "005277bb",
   "metadata": {
    "ExecuteTime": {
     "end_time": "2022-09-17T18:35:51.482901Z",
     "start_time": "2022-09-17T18:35:51.094237Z"
    },
    "hidden": true
   },
   "outputs": [],
   "source": [
    "truth = _add_mags_to_catalog(truth)"
   ]
  },
  {
   "cell_type": "code",
   "execution_count": 76,
   "id": "0827a209",
   "metadata": {
    "ExecuteTime": {
     "end_time": "2022-09-17T18:38:48.548179Z",
     "start_time": "2022-09-17T18:38:48.502423Z"
    },
    "hidden": true
   },
   "outputs": [],
   "source": [
    "truth_cut = truth.apply_param_bin('mags', 21, 22)"
   ]
  },
  {
   "cell_type": "code",
   "execution_count": 77,
   "id": "53be066a",
   "metadata": {
    "ExecuteTime": {
     "end_time": "2022-09-17T18:38:48.743259Z",
     "start_time": "2022-09-17T18:38:48.702610Z"
    },
    "hidden": true
   },
   "outputs": [
    {
     "data": {
      "text/plain": [
       "(tensor([[20.0560, 21.8985, 21.7439, 21.5681,  0.0000,  0.0000],\n",
       "         [21.7974, 21.5642, 21.0772,  0.0000,  0.0000,  0.0000],\n",
       "         [19.3170, 21.4691, 22.6528,  0.0000,  0.0000,  0.0000],\n",
       "         [22.3313, 18.0336, 21.0293, 20.5252,  0.0000,  0.0000],\n",
       "         [22.9134, 22.2983, 20.9745, 18.7306, 20.4451,  0.0000]]),\n",
       " tensor([[21.8985, 21.7439, 21.5681,  0.0000,  0.0000,  0.0000],\n",
       "         [21.7974, 21.5642, 21.0772,  0.0000,  0.0000,  0.0000],\n",
       "         [21.4691,  0.0000,  0.0000,  0.0000,  0.0000,  0.0000],\n",
       "         [21.0293,  0.0000,  0.0000,  0.0000,  0.0000,  0.0000],\n",
       "         [ 0.0000,  0.0000,  0.0000,  0.0000,  0.0000,  0.0000]]))"
      ]
     },
     "execution_count": 77,
     "metadata": {},
     "output_type": "execute_result"
    }
   ],
   "source": [
    "truth['mags'][:5].squeeze(), truth_cut['mags'][:5].squeeze()"
   ]
  },
  {
   "cell_type": "code",
   "execution_count": 78,
   "id": "5fe3ebcf",
   "metadata": {
    "ExecuteTime": {
     "end_time": "2022-09-17T18:38:48.954495Z",
     "start_time": "2022-09-17T18:38:48.912691Z"
    },
    "hidden": true
   },
   "outputs": [
    {
     "data": {
      "text/plain": [
       "(tensor([[ 9377.1904,  1718.1875,  1981.0428,  2329.2175,     0.0000,     0.0000],\n",
       "         [ 1885.7545,  2337.6714,  3660.9211,     0.0000,     0.0000,     0.0000],\n",
       "         [18520.5684,  2551.6023,   857.7312,     0.0000,     0.0000,     0.0000],\n",
       "         [ 1153.2600, 60399.2695,  3826.0537,  6086.7959,     0.0000,     0.0000],\n",
       "         [  674.7041,  1188.8411,  4023.8623, 31784.7520,  6552.4717,     0.0000]]),\n",
       " tensor([[1718.1875, 1981.0428, 2329.2175,    0.0000,    0.0000,    0.0000],\n",
       "         [1885.7545, 2337.6714, 3660.9211,    0.0000,    0.0000,    0.0000],\n",
       "         [2551.6023,    0.0000,    0.0000,    0.0000,    0.0000,    0.0000],\n",
       "         [3826.0537,    0.0000,    0.0000,    0.0000,    0.0000,    0.0000],\n",
       "         [   0.0000,    0.0000,    0.0000,    0.0000,    0.0000,    0.0000]]))"
      ]
     },
     "execution_count": 78,
     "metadata": {},
     "output_type": "execute_result"
    }
   ],
   "source": [
    "truth['star_fluxes'][:5].squeeze(), truth_cut['star_fluxes'][:5].squeeze()"
   ]
  },
  {
   "cell_type": "code",
   "execution_count": 82,
   "id": "5d01de9e",
   "metadata": {
    "ExecuteTime": {
     "end_time": "2022-09-17T18:40:07.800992Z",
     "start_time": "2022-09-17T18:40:07.761328Z"
    },
    "hidden": true
   },
   "outputs": [
    {
     "data": {
      "text/plain": [
       "(tensor([4, 3, 3, 4, 5]), tensor([3, 3, 1, 1, 0]))"
      ]
     },
     "execution_count": 82,
     "metadata": {},
     "output_type": "execute_result"
    }
   ],
   "source": [
    "truth.n_sources[:5], truth_cut.n_sources[:5]"
   ]
  },
  {
   "cell_type": "code",
   "execution_count": 84,
   "id": "faf3d423",
   "metadata": {
    "ExecuteTime": {
     "end_time": "2022-09-17T18:40:59.450583Z",
     "start_time": "2022-09-17T18:40:59.408181Z"
    },
    "hidden": true
   },
   "outputs": [
    {
     "data": {
      "text/plain": [
       "(tensor([[[21.6936, 11.7109],\n",
       "          [20.4774, 34.8135],\n",
       "          [28.6949, 10.9999],\n",
       "          [24.5280, 31.8508],\n",
       "          [ 0.0000,  0.0000],\n",
       "          [ 0.0000,  0.0000]],\n",
       " \n",
       "         [[39.5405, 28.6831],\n",
       "          [36.9545, 35.1519],\n",
       "          [19.0029, 15.9512],\n",
       "          [ 0.0000,  0.0000],\n",
       "          [ 0.0000,  0.0000],\n",
       "          [ 0.0000,  0.0000]],\n",
       " \n",
       "         [[26.2443,  1.1716],\n",
       "          [16.8601, 18.9544],\n",
       "          [33.4359,  5.6533],\n",
       "          [ 0.0000,  0.0000],\n",
       "          [ 0.0000,  0.0000],\n",
       "          [ 0.0000,  0.0000]]]),\n",
       " tensor([[[20.4774, 34.8135],\n",
       "          [28.6949, 10.9999],\n",
       "          [24.5280, 31.8508],\n",
       "          [ 0.0000,  0.0000],\n",
       "          [ 0.0000,  0.0000],\n",
       "          [ 0.0000,  0.0000]],\n",
       " \n",
       "         [[39.5405, 28.6831],\n",
       "          [36.9545, 35.1519],\n",
       "          [19.0029, 15.9512],\n",
       "          [ 0.0000,  0.0000],\n",
       "          [ 0.0000,  0.0000],\n",
       "          [ 0.0000,  0.0000]],\n",
       " \n",
       "         [[16.8601, 18.9544],\n",
       "          [ 0.0000,  0.0000],\n",
       "          [ 0.0000,  0.0000],\n",
       "          [ 0.0000,  0.0000],\n",
       "          [ 0.0000,  0.0000],\n",
       "          [ 0.0000,  0.0000]]]))"
      ]
     },
     "execution_count": 84,
     "metadata": {},
     "output_type": "execute_result"
    }
   ],
   "source": [
    "truth.plocs[:3].squeeze(), truth_cut.plocs[:3].squeeze()"
   ]
  },
  {
   "cell_type": "markdown",
   "id": "85d7f959",
   "metadata": {},
   "source": [
    "# Constant time boostrap"
   ]
  },
  {
   "cell_type": "code",
   "execution_count": 2,
   "id": "42fc19b5",
   "metadata": {
    "ExecuteTime": {
     "end_time": "2022-09-18T14:07:58.290164Z",
     "start_time": "2022-09-18T14:07:58.255839Z"
    }
   },
   "outputs": [],
   "source": [
    "batch_size = 5\n",
    "n_bins = 4\n",
    "n_samples = 3"
   ]
  },
  {
   "cell_type": "code",
   "execution_count": 3,
   "id": "f81835f4",
   "metadata": {
    "ExecuteTime": {
     "end_time": "2022-09-18T14:07:58.458217Z",
     "start_time": "2022-09-18T14:07:58.422286Z"
    }
   },
   "outputs": [
    {
     "data": {
      "text/plain": [
       "tensor([[96, 81,  2, 20, 88],\n",
       "        [12, 96, 24, 40, 91],\n",
       "        [40,  7, 59, 17, 66],\n",
       "        [95, 55, 35, 71, 24]])"
      ]
     },
     "execution_count": 3,
     "metadata": {},
     "output_type": "execute_result"
    }
   ],
   "source": [
    "t = torch.randint(0, 100, (n_bins, batch_size, ))\n",
    "t"
   ]
  },
  {
   "cell_type": "code",
   "execution_count": 4,
   "id": "28fc917b",
   "metadata": {
    "ExecuteTime": {
     "end_time": "2022-09-18T14:07:58.622972Z",
     "start_time": "2022-09-18T14:07:58.587814Z"
    }
   },
   "outputs": [
    {
     "data": {
      "text/plain": [
       "tensor([[[0, 1, 1, 4, 0],\n",
       "         [0, 1, 1, 4, 0],\n",
       "         [0, 1, 1, 4, 0],\n",
       "         [0, 1, 1, 4, 0]],\n",
       "\n",
       "        [[4, 3, 1, 2, 3],\n",
       "         [4, 3, 1, 2, 3],\n",
       "         [4, 3, 1, 2, 3],\n",
       "         [4, 3, 1, 2, 3]],\n",
       "\n",
       "        [[0, 2, 0, 3, 4],\n",
       "         [0, 2, 0, 3, 4],\n",
       "         [0, 2, 0, 3, 4],\n",
       "         [0, 2, 0, 3, 4]]])"
      ]
     },
     "execution_count": 4,
     "metadata": {},
     "output_type": "execute_result"
    }
   ],
   "source": [
    "boots = torch.randint(0, batch_size, (n_samples, 1, batch_size,)).expand(n_samples, n_bins, batch_size) \n",
    "boots"
   ]
  },
  {
   "cell_type": "code",
   "execution_count": 9,
   "id": "90bfacf6",
   "metadata": {
    "ExecuteTime": {
     "end_time": "2022-09-18T14:08:45.659438Z",
     "start_time": "2022-09-18T14:08:45.627393Z"
    }
   },
   "outputs": [],
   "source": [
    "result = torch.gather(t.reshape(1, n_bins, batch_size).expand(n_samples, n_bins, batch_size), 2, boots)"
   ]
  },
  {
   "cell_type": "code",
   "execution_count": 14,
   "id": "5604d4ed",
   "metadata": {
    "ExecuteTime": {
     "end_time": "2022-09-18T14:09:22.630706Z",
     "start_time": "2022-09-18T14:09:22.598596Z"
    }
   },
   "outputs": [
    {
     "data": {
      "text/plain": [
       "torch.int64"
      ]
     },
     "execution_count": 14,
     "metadata": {},
     "output_type": "execute_result"
    }
   ],
   "source": [
    "result.sum(2).dtype"
   ]
  },
  {
   "cell_type": "code",
   "execution_count": 20,
   "id": "80ec0441",
   "metadata": {
    "ExecuteTime": {
     "end_time": "2022-09-18T14:09:53.948815Z",
     "start_time": "2022-09-18T14:09:53.914037Z"
    }
   },
   "outputs": [
    {
     "data": {
      "text/plain": [
       "tensor([[442, 307, 160, 324],\n",
       "        [211, 291, 166, 256],\n",
       "        [302, 179, 222, 320]])"
      ]
     },
     "execution_count": 20,
     "metadata": {},
     "output_type": "execute_result"
    }
   ],
   "source": [
    "result.sum(2)"
   ]
  },
  {
   "cell_type": "code",
   "execution_count": null,
   "id": "c02afb24",
   "metadata": {},
   "outputs": [],
   "source": [
    "result.quantile"
   ]
  },
  {
   "cell_type": "code",
   "execution_count": 21,
   "id": "ad2f9841",
   "metadata": {
    "ExecuteTime": {
     "end_time": "2022-09-18T14:10:12.064378Z",
     "start_time": "2022-09-18T14:10:12.028328Z"
    }
   },
   "outputs": [
    {
     "data": {
      "text/plain": [
       "tensor([302., 291., 166., 320.])"
      ]
     },
     "execution_count": 21,
     "metadata": {},
     "output_type": "execute_result"
    }
   ],
   "source": [
    "torch.quantile(result.sum(2).float(),0.5, 0)"
   ]
  },
  {
   "cell_type": "markdown",
   "id": "04259f2f",
   "metadata": {},
   "source": [
    "# Check boostrap works"
   ]
  },
  {
   "cell_type": "code",
   "execution_count": 39,
   "id": "7adf54b9",
   "metadata": {
    "ExecuteTime": {
     "end_time": "2022-09-18T14:46:47.567937Z",
     "start_time": "2022-09-18T14:46:47.001680Z"
    }
   },
   "outputs": [],
   "source": [
    "from case_studies.coadds.get_results import _get_bootstrap_pr_err, _add_mags_to_catalog"
   ]
  },
  {
   "cell_type": "code",
   "execution_count": 17,
   "id": "5d91f171",
   "metadata": {
    "ExecuteTime": {
     "end_time": "2022-09-18T13:51:06.773886Z",
     "start_time": "2022-09-18T13:51:06.734602Z"
    }
   },
   "outputs": [],
   "source": [
    "mag_bins2 = torch.arange(17.5, 23.5, 0.5)\n",
    "mag_bins1 = mag_bins2 - 0.5\n",
    "mag_bins = torch.column_stack((mag_bins1, mag_bins2))"
   ]
  },
  {
   "cell_type": "code",
   "execution_count": 22,
   "id": "fa4165fe",
   "metadata": {
    "ExecuteTime": {
     "end_time": "2022-09-18T13:52:10.342276Z",
     "start_time": "2022-09-18T13:52:09.354038Z"
    }
   },
   "outputs": [],
   "source": [
    "est[\"galaxy_bools\"] = torch.zeros(est.batch_size, est.max_sources, 1)\n",
    "truth = _add_mags_to_catalog(truth)\n",
    "est = _add_mags_to_catalog(est)"
   ]
  },
  {
   "cell_type": "code",
   "execution_count": 23,
   "id": "d54653be",
   "metadata": {
    "ExecuteTime": {
     "end_time": "2022-09-18T13:52:55.527205Z",
     "start_time": "2022-09-18T13:52:11.800848Z"
    }
   },
   "outputs": [
    {
     "name": "stderr",
     "output_type": "stream",
     "text": [
      "tp/fp per bin: 100%|█████████████████████████████████████████████████████████████████████████████████████████████████████████████████████| 12/12 [00:43<00:00,  3.64s/it]\n"
     ]
    },
    {
     "data": {
      "text/plain": [
       "{'precision': tensor([[0.9931, 0.9926, 0.9918, 0.9880, 0.9923, 0.9875, 0.9800, 0.9703, 0.9716,\n",
       "          0.9480, 0.9168, 0.8364],\n",
       "         [0.9922, 0.9948, 0.9958, 0.9907, 0.9920, 0.9894, 0.9816, 0.9721, 0.9593,\n",
       "          0.9474, 0.9065, 0.8366],\n",
       "         [0.9854, 0.9924, 0.9929, 0.9874, 0.9912, 0.9877, 0.9829, 0.9732, 0.9645,\n",
       "          0.9484, 0.9077, 0.8281],\n",
       "         [0.9918, 0.9939, 0.9952, 0.9843, 0.9887, 0.9865, 0.9844, 0.9697, 0.9737,\n",
       "          0.9454, 0.9055, 0.8441],\n",
       "         [0.9943, 0.9903, 0.9911, 0.9910, 0.9861, 0.9867, 0.9839, 0.9750, 0.9647,\n",
       "          0.9508, 0.9106, 0.8426],\n",
       "         [0.9958, 0.9866, 0.9931, 0.9890, 0.9874, 0.9849, 0.9824, 0.9701, 0.9681,\n",
       "          0.9481, 0.9135, 0.8420],\n",
       "         [0.9942, 0.9951, 0.9960, 0.9906, 0.9916, 0.9918, 0.9852, 0.9774, 0.9662,\n",
       "          0.9502, 0.9059, 0.8454],\n",
       "         [0.9919, 0.9974, 0.9949, 0.9893, 0.9873, 0.9895, 0.9838, 0.9780, 0.9714,\n",
       "          0.9494, 0.9083, 0.8364],\n",
       "         [0.9926, 0.9921, 0.9958, 0.9795, 0.9904, 0.9857, 0.9805, 0.9728, 0.9637,\n",
       "          0.9472, 0.9090, 0.8413],\n",
       "         [0.9973, 0.9878, 0.9947, 0.9951, 0.9923, 0.9816, 0.9876, 0.9738, 0.9649,\n",
       "          0.9426, 0.8999, 0.8398]]),\n",
       " 'recall': tensor([[0.9952, 0.9854, 0.9865, 0.9740, 0.9835, 0.9792, 0.9723, 0.9632, 0.9480,\n",
       "          0.9276, 0.8270, 0.3624],\n",
       "         [0.9970, 0.9884, 0.9837, 0.9754, 0.9825, 0.9729, 0.9771, 0.9641, 0.9517,\n",
       "          0.9227, 0.8292, 0.3547],\n",
       "         [0.9967, 0.9771, 0.9802, 0.9745, 0.9855, 0.9722, 0.9689, 0.9649, 0.9502,\n",
       "          0.9306, 0.8156, 0.3600],\n",
       "         [0.9954, 0.9858, 0.9800, 0.9700, 0.9844, 0.9737, 0.9667, 0.9588, 0.9474,\n",
       "          0.9288, 0.8210, 0.3580],\n",
       "         [0.9968, 0.9757, 0.9836, 0.9860, 0.9889, 0.9773, 0.9709, 0.9635, 0.9506,\n",
       "          0.9271, 0.8152, 0.3585],\n",
       "         [0.9985, 0.9811, 0.9818, 0.9783, 0.9821, 0.9782, 0.9692, 0.9678, 0.9516,\n",
       "          0.9294, 0.8211, 0.3542],\n",
       "         [0.9985, 0.9875, 0.9811, 0.9665, 0.9854, 0.9801, 0.9778, 0.9636, 0.9523,\n",
       "          0.9242, 0.8199, 0.3573],\n",
       "         [0.9924, 0.9822, 0.9747, 0.9734, 0.9902, 0.9727, 0.9704, 0.9606, 0.9549,\n",
       "          0.9314, 0.8181, 0.3665],\n",
       "         [0.9967, 0.9750, 0.9738, 0.9746, 0.9867, 0.9766, 0.9736, 0.9680, 0.9490,\n",
       "          0.9292, 0.8225, 0.3676],\n",
       "         [1.0000, 0.9832, 0.9728, 0.9856, 0.9864, 0.9747, 0.9683, 0.9657, 0.9507,\n",
       "          0.9216, 0.8088, 0.3578]])}"
      ]
     },
     "execution_count": 23,
     "metadata": {},
     "output_type": "execute_result"
    }
   ],
   "source": [
    "_get_bootstrap_pr_err(10, mag_bins, truth, est)"
   ]
  },
  {
   "cell_type": "markdown",
   "id": "c70959c7",
   "metadata": {},
   "source": [
    "## Check results bootstraps"
   ]
  },
  {
   "cell_type": "code",
   "execution_count": 24,
   "id": "eb6c90da",
   "metadata": {
    "ExecuteTime": {
     "end_time": "2022-09-18T14:18:34.353597Z",
     "start_time": "2022-09-18T14:18:34.309330Z"
    }
   },
   "outputs": [],
   "source": [
    "boot_res = torch.load(\"../output/metric_results.pt\")['coadd_10']['boot_mag_bin_metrics']\n",
    "prec_boot = boot_res['precision']\n",
    "prec_boot.median(axis=0)[0]\n",
    "prec_boot.quantile(0.9, 0)"
   ]
  },
  {
   "cell_type": "code",
   "execution_count": 31,
   "id": "aa9bd0b2",
   "metadata": {
    "ExecuteTime": {
     "end_time": "2022-09-18T14:19:16.613365Z",
     "start_time": "2022-09-18T14:19:16.577799Z"
    }
   },
   "outputs": [
    {
     "data": {
      "text/plain": [
       "tensor([0.9879, 0.9794, 0.9842, 0.9797, 0.9812, 0.9801, 0.9739, 0.9783, 0.9743,\n",
       "        0.9587, 0.9446, 0.9538])"
      ]
     },
     "execution_count": 31,
     "metadata": {},
     "output_type": "execute_result"
    }
   ],
   "source": []
  },
  {
   "cell_type": "code",
   "execution_count": 32,
   "id": "83faba8c",
   "metadata": {
    "ExecuteTime": {
     "end_time": "2022-09-18T14:20:03.957874Z",
     "start_time": "2022-09-18T14:20:03.932788Z"
    }
   },
   "outputs": [
    {
     "data": {
      "text/plain": [
       "tensor([0.9926, 0.9856, 0.9892, 0.9848, 0.9854, 0.9836, 0.9780, 0.9815, 0.9774,\n",
       "        0.9624, 0.9486, 0.9571])"
      ]
     },
     "execution_count": 32,
     "metadata": {},
     "output_type": "execute_result"
    }
   ],
   "source": []
  },
  {
   "cell_type": "code",
   "execution_count": 40,
   "id": "8e1c45b2",
   "metadata": {
    "ExecuteTime": {
     "end_time": "2022-09-18T14:46:49.808320Z",
     "start_time": "2022-09-18T14:46:49.252678Z"
    }
   },
   "outputs": [],
   "source": [
    "truth = _add_mags_to_catalog(truth)"
   ]
  },
  {
   "cell_type": "code",
   "execution_count": 68,
   "id": "9e6be45b",
   "metadata": {
    "ExecuteTime": {
     "end_time": "2022-09-18T14:55:35.707307Z",
     "start_time": "2022-09-18T14:55:35.509164Z"
    }
   },
   "outputs": [],
   "source": [
    "mag_bins2 = torch.arange(17.4, 23.0, 0.2)\n",
    "mag_bins1 = mag_bins2 - 0.2\n",
    "mag_bins = torch.column_stack((mag_bins1, mag_bins2))\n",
    "\n",
    "counts_per_bin = torch.zeros(mag_bins.shape[0])\n",
    "for ii in range(mag_bins.shape[0]):\n",
    "    mag1, mag2 = mag_bins[ii]\n",
    "    truth_ = truth.apply_param_bin('mags', mag1, mag2)\n",
    "    counts_per_bin[ii] = truth_.n_sources.sum().item()"
   ]
  },
  {
   "cell_type": "code",
   "execution_count": 69,
   "id": "e38c5791",
   "metadata": {
    "ExecuteTime": {
     "end_time": "2022-09-18T14:55:35.892436Z",
     "start_time": "2022-09-18T14:55:35.723649Z"
    }
   },
   "outputs": [
    {
     "data": {
      "text/plain": [
       "[<matplotlib.lines.Line2D at 0x7faca80faeb0>]"
      ]
     },
     "execution_count": 69,
     "metadata": {},
     "output_type": "execute_result"
    },
    {
     "data": {
      "image/png": "[encoded data removed]",
      "text/plain": [
       "<Figure size 720x720 with 1 Axes>"
      ]
     },
     "metadata": {
      "needs_background": "light"
     },
     "output_type": "display_data"
    }
   ],
   "source": [
    "x = mag_bins.mean(axis=1)\n",
    "plt.plot(x, counts_per_bin, '-ro')"
   ]
  },
  {
   "cell_type": "code",
   "execution_count": 70,
   "id": "2ae7dd3a",
   "metadata": {
    "ExecuteTime": {
     "end_time": "2022-09-18T14:55:35.945805Z",
     "start_time": "2022-09-18T14:55:35.911760Z"
    }
   },
   "outputs": [
    {
     "data": {
      "text/plain": [
       "tensor([[17.2000, 17.4000],\n",
       "        [17.4000, 17.6000],\n",
       "        [17.6000, 17.8000],\n",
       "        [17.8000, 18.0000],\n",
       "        [18.0000, 18.2000],\n",
       "        [18.2000, 18.4000],\n",
       "        [18.4000, 18.6000],\n",
       "        [18.6000, 18.8000],\n",
       "        [18.8000, 19.0000],\n",
       "        [19.0000, 19.2000],\n",
       "        [19.2000, 19.4000],\n",
       "        [19.4000, 19.6000],\n",
       "        [19.6000, 19.8000],\n",
       "        [19.8000, 20.0000],\n",
       "        [20.0000, 20.2000],\n",
       "        [20.2000, 20.4000],\n",
       "        [20.4000, 20.6000],\n",
       "        [20.6000, 20.8000],\n",
       "        [20.8000, 21.0000],\n",
       "        [21.0000, 21.2000],\n",
       "        [21.2000, 21.4000],\n",
       "        [21.4000, 21.6000],\n",
       "        [21.6000, 21.8000],\n",
       "        [21.8000, 22.0000],\n",
       "        [22.0000, 22.2000],\n",
       "        [22.2000, 22.4000],\n",
       "        [22.4000, 22.6000],\n",
       "        [22.6000, 22.8000],\n",
       "        [22.8000, 23.0000]])"
      ]
     },
     "execution_count": 70,
     "metadata": {},
     "output_type": "execute_result"
    }
   ],
   "source": [
    "mag_bins"
   ]
  },
  {
   "cell_type": "code",
   "execution_count": 3,
   "id": "efbc4891",
   "metadata": {
    "ExecuteTime": {
     "end_time": "2022-09-18T21:49:23.605476Z",
     "start_time": "2022-09-18T21:49:23.601164Z"
    }
   },
   "outputs": [],
   "source": [
    "import torch\n",
    "delta = 0.2\n",
    "mag_bins1 = torch.arange(20.0, 23, delta)\n",
    "mag_bins2 = mag_bins1 + delta\n",
    "mag_bins = torch.column_stack((mag_bins1, mag_bins2))"
   ]
  },
  {
   "cell_type": "code",
   "execution_count": 4,
   "id": "4f243304",
   "metadata": {
    "ExecuteTime": {
     "end_time": "2022-09-18T21:49:23.790795Z",
     "start_time": "2022-09-18T21:49:23.780261Z"
    }
   },
   "outputs": [
    {
     "data": {
      "text/plain": [
       "tensor([[20.0000, 20.2000],\n",
       "        [20.2000, 20.4000],\n",
       "        [20.4000, 20.6000],\n",
       "        [20.6000, 20.8000],\n",
       "        [20.8000, 21.0000],\n",
       "        [21.0000, 21.2000],\n",
       "        [21.2000, 21.4000],\n",
       "        [21.4000, 21.6000],\n",
       "        [21.6000, 21.8000],\n",
       "        [21.8000, 22.0000],\n",
       "        [22.0000, 22.2000],\n",
       "        [22.2000, 22.4000],\n",
       "        [22.4000, 22.6000],\n",
       "        [22.6000, 22.8000],\n",
       "        [22.8000, 23.0000]])"
      ]
     },
     "execution_count": 4,
     "metadata": {},
     "output_type": "execute_result"
    }
   ],
   "source": [
    "mag_bins"
   ]
  },
  {
   "cell_type": "markdown",
   "id": "9a377fc5",
   "metadata": {},
   "source": [
    "# Check calibration"
   ]
  },
  {
   "cell_type": "code",
   "execution_count": 30,
   "id": "c9235136",
   "metadata": {
    "ExecuteTime": {
     "end_time": "2022-09-27T19:45:50.643958Z",
     "start_time": "2022-09-27T19:45:50.598836Z"
    }
   },
   "outputs": [],
   "source": [
    "import torch\n",
    "metrics = torch.load(\"../output/new_models/metrics_mags_poisson.pt\")"
   ]
  },
  {
   "cell_type": "code",
   "execution_count": 31,
   "id": "5b1c652d",
   "metadata": {
    "ExecuteTime": {
     "end_time": "2022-09-27T19:45:51.013704Z",
     "start_time": "2022-09-27T19:45:50.981699Z"
    }
   },
   "outputs": [],
   "source": [
    "subset = np.random.randint(0, 1000, 1000)"
   ]
  },
  {
   "cell_type": "code",
   "execution_count": 35,
   "id": "9dbedf36",
   "metadata": {
    "ExecuteTime": {
     "end_time": "2022-09-27T19:46:19.113085Z",
     "start_time": "2022-09-27T19:46:19.078499Z"
    }
   },
   "outputs": [],
   "source": [
    "matched_fluxes = metrics['coadd_50']['matched_fluxes']"
   ]
  },
  {
   "cell_type": "code",
   "execution_count": 36,
   "id": "00dcd466",
   "metadata": {
    "ExecuteTime": {
     "end_time": "2022-09-27T19:46:19.552922Z",
     "start_time": "2022-09-27T19:46:19.519633Z"
    }
   },
   "outputs": [
    {
     "data": {
      "text/plain": [
       "torch.Size([28283])"
      ]
     },
     "execution_count": 36,
     "metadata": {},
     "output_type": "execute_result"
    }
   ],
   "source": [
    "tlfluxes = matched_fluxes[\"true_log_fluxes\"]\n",
    "elfluxes = matched_fluxes[\"est_log_fluxes\"]\n",
    "sd_elfluxes = matched_fluxes[\"est_sd_log_fluxes\"]\n",
    "tlfluxes.shape"
   ]
  },
  {
   "cell_type": "code",
   "execution_count": 37,
   "id": "da908e3e",
   "metadata": {
    "ExecuteTime": {
     "end_time": "2022-09-27T19:46:22.278831Z",
     "start_time": "2022-09-27T19:46:22.103959Z"
    }
   },
   "outputs": [
    {
     "data": {
      "text/plain": [
       "<matplotlib.collections.PathCollection at 0x7f1bf4719a60>"
      ]
     },
     "execution_count": 37,
     "metadata": {},
     "output_type": "execute_result"
    },
    {
     "data": {
      "image/png": "[encoded data removed]",
      "text/plain": [
       "<Figure size 432x288 with 1 Axes>"
      ]
     },
     "metadata": {
      "needs_background": "light"
     },
     "output_type": "display_data"
    }
   ],
   "source": [
    "plt.scatter(tlfluxes[subset], elfluxes[subset], alpha=0.25, color='r')"
   ]
  },
  {
   "cell_type": "code",
   "execution_count": 10,
   "id": "8de0114d",
   "metadata": {
    "ExecuteTime": {
     "end_time": "2022-09-27T18:24:52.644741Z",
     "start_time": "2022-09-27T18:24:52.609919Z"
    }
   },
   "outputs": [
    {
     "data": {
      "text/plain": [
       "tensor([10.1496,  6.9274,  7.2274,  ..., 12.1292,  7.4431,  6.8396])"
      ]
     },
     "execution_count": 10,
     "metadata": {},
     "output_type": "execute_result"
    }
   ],
   "source": [
    "tlfluxes.shape"
   ]
  },
  {
   "cell_type": "code",
   "execution_count": 11,
   "id": "82089630",
   "metadata": {
    "ExecuteTime": {
     "end_time": "2022-09-27T18:24:55.682439Z",
     "start_time": "2022-09-27T18:24:55.644353Z"
    }
   },
   "outputs": [
    {
     "data": {
      "text/plain": [
       "tensor([10.2563,  7.2726,  7.2555,  ..., 12.4482,  7.3966,  7.0592])"
      ]
     },
     "execution_count": 11,
     "metadata": {},
     "output_type": "execute_result"
    }
   ],
   "source": [
    "elfluxes"
   ]
  },
  {
   "cell_type": "code",
   "execution_count": 15,
   "id": "2db174a0",
   "metadata": {
    "ExecuteTime": {
     "end_time": "2022-09-27T18:25:38.956949Z",
     "start_time": "2022-09-27T18:25:38.917198Z"
    }
   },
   "outputs": [
    {
     "data": {
      "text/plain": [
       "tensor([0.2209, 0.1739, 0.1695,  ..., 0.5061, 0.2257, 0.1866])"
      ]
     },
     "execution_count": 15,
     "metadata": {},
     "output_type": "execute_result"
    }
   ],
   "source": [
    "sd_elfluxes"
   ]
  },
  {
   "cell_type": "code",
   "execution_count": 13,
   "id": "01246426",
   "metadata": {
    "ExecuteTime": {
     "end_time": "2022-09-27T18:25:32.855766Z",
     "start_time": "2022-09-27T18:25:16.543290Z"
    },
    "collapsed": true
   },
   "outputs": [
    {
     "ename": "KeyboardInterrupt",
     "evalue": "",
     "output_type": "error",
     "traceback": [
      "\u001b[0;31m---------------------------------------------------------------------------\u001b[0m",
      "\u001b[0;31mKeyboardInterrupt\u001b[0m                         Traceback (most recent call last)",
      "Input \u001b[0;32mIn [13]\u001b[0m, in \u001b[0;36m<cell line: 1>\u001b[0;34m()\u001b[0m\n\u001b[0;32m----> 1\u001b[0m \u001b[43mplt\u001b[49m\u001b[38;5;241;43m.\u001b[39;49m\u001b[43mhist\u001b[49m\u001b[43m(\u001b[49m\u001b[43msd_elfluxes\u001b[49m\u001b[43m,\u001b[49m\u001b[43m \u001b[49m\u001b[43mbins\u001b[49m\u001b[38;5;241;43m=\u001b[39;49m\u001b[38;5;241;43m25\u001b[39;49m\u001b[43m)\u001b[49m\n",
      "File \u001b[0;32m~/.cache/pypoetry/virtualenvs/bliss-JJ_Cv_sx-py3.8/lib/python3.8/site-packages/matplotlib/pyplot.py:2590\u001b[0m, in \u001b[0;36mhist\u001b[0;34m(x, bins, range, density, weights, cumulative, bottom, histtype, align, orientation, rwidth, log, color, label, stacked, data, **kwargs)\u001b[0m\n\u001b[1;32m   2584\u001b[0m \u001b[38;5;129m@_copy_docstring_and_deprecators\u001b[39m(Axes\u001b[38;5;241m.\u001b[39mhist)\n\u001b[1;32m   2585\u001b[0m \u001b[38;5;28;01mdef\u001b[39;00m \u001b[38;5;21mhist\u001b[39m(\n\u001b[1;32m   2586\u001b[0m         x, bins\u001b[38;5;241m=\u001b[39m\u001b[38;5;28;01mNone\u001b[39;00m, \u001b[38;5;28mrange\u001b[39m\u001b[38;5;241m=\u001b[39m\u001b[38;5;28;01mNone\u001b[39;00m, density\u001b[38;5;241m=\u001b[39m\u001b[38;5;28;01mFalse\u001b[39;00m, weights\u001b[38;5;241m=\u001b[39m\u001b[38;5;28;01mNone\u001b[39;00m,\n\u001b[1;32m   2587\u001b[0m         cumulative\u001b[38;5;241m=\u001b[39m\u001b[38;5;28;01mFalse\u001b[39;00m, bottom\u001b[38;5;241m=\u001b[39m\u001b[38;5;28;01mNone\u001b[39;00m, histtype\u001b[38;5;241m=\u001b[39m\u001b[38;5;124m'\u001b[39m\u001b[38;5;124mbar\u001b[39m\u001b[38;5;124m'\u001b[39m, align\u001b[38;5;241m=\u001b[39m\u001b[38;5;124m'\u001b[39m\u001b[38;5;124mmid\u001b[39m\u001b[38;5;124m'\u001b[39m,\n\u001b[1;32m   2588\u001b[0m         orientation\u001b[38;5;241m=\u001b[39m\u001b[38;5;124m'\u001b[39m\u001b[38;5;124mvertical\u001b[39m\u001b[38;5;124m'\u001b[39m, rwidth\u001b[38;5;241m=\u001b[39m\u001b[38;5;28;01mNone\u001b[39;00m, log\u001b[38;5;241m=\u001b[39m\u001b[38;5;28;01mFalse\u001b[39;00m, color\u001b[38;5;241m=\u001b[39m\u001b[38;5;28;01mNone\u001b[39;00m,\n\u001b[1;32m   2589\u001b[0m         label\u001b[38;5;241m=\u001b[39m\u001b[38;5;28;01mNone\u001b[39;00m, stacked\u001b[38;5;241m=\u001b[39m\u001b[38;5;28;01mFalse\u001b[39;00m, \u001b[38;5;241m*\u001b[39m, data\u001b[38;5;241m=\u001b[39m\u001b[38;5;28;01mNone\u001b[39;00m, \u001b[38;5;241m*\u001b[39m\u001b[38;5;241m*\u001b[39mkwargs):\n\u001b[0;32m-> 2590\u001b[0m     \u001b[38;5;28;01mreturn\u001b[39;00m \u001b[43mgca\u001b[49m\u001b[43m(\u001b[49m\u001b[43m)\u001b[49m\u001b[38;5;241;43m.\u001b[39;49m\u001b[43mhist\u001b[49m\u001b[43m(\u001b[49m\n\u001b[1;32m   2591\u001b[0m \u001b[43m        \u001b[49m\u001b[43mx\u001b[49m\u001b[43m,\u001b[49m\u001b[43m \u001b[49m\u001b[43mbins\u001b[49m\u001b[38;5;241;43m=\u001b[39;49m\u001b[43mbins\u001b[49m\u001b[43m,\u001b[49m\u001b[43m \u001b[49m\u001b[38;5;28;43mrange\u001b[39;49m\u001b[38;5;241;43m=\u001b[39;49m\u001b[38;5;28;43mrange\u001b[39;49m\u001b[43m,\u001b[49m\u001b[43m \u001b[49m\u001b[43mdensity\u001b[49m\u001b[38;5;241;43m=\u001b[39;49m\u001b[43mdensity\u001b[49m\u001b[43m,\u001b[49m\u001b[43m \u001b[49m\u001b[43mweights\u001b[49m\u001b[38;5;241;43m=\u001b[39;49m\u001b[43mweights\u001b[49m\u001b[43m,\u001b[49m\n\u001b[1;32m   2592\u001b[0m \u001b[43m        \u001b[49m\u001b[43mcumulative\u001b[49m\u001b[38;5;241;43m=\u001b[39;49m\u001b[43mcumulative\u001b[49m\u001b[43m,\u001b[49m\u001b[43m \u001b[49m\u001b[43mbottom\u001b[49m\u001b[38;5;241;43m=\u001b[39;49m\u001b[43mbottom\u001b[49m\u001b[43m,\u001b[49m\u001b[43m \u001b[49m\u001b[43mhisttype\u001b[49m\u001b[38;5;241;43m=\u001b[39;49m\u001b[43mhisttype\u001b[49m\u001b[43m,\u001b[49m\n\u001b[1;32m   2593\u001b[0m \u001b[43m        \u001b[49m\u001b[43malign\u001b[49m\u001b[38;5;241;43m=\u001b[39;49m\u001b[43malign\u001b[49m\u001b[43m,\u001b[49m\u001b[43m \u001b[49m\u001b[43morientation\u001b[49m\u001b[38;5;241;43m=\u001b[39;49m\u001b[43morientation\u001b[49m\u001b[43m,\u001b[49m\u001b[43m \u001b[49m\u001b[43mrwidth\u001b[49m\u001b[38;5;241;43m=\u001b[39;49m\u001b[43mrwidth\u001b[49m\u001b[43m,\u001b[49m\u001b[43m \u001b[49m\u001b[43mlog\u001b[49m\u001b[38;5;241;43m=\u001b[39;49m\u001b[43mlog\u001b[49m\u001b[43m,\u001b[49m\n\u001b[1;32m   2594\u001b[0m \u001b[43m        \u001b[49m\u001b[43mcolor\u001b[49m\u001b[38;5;241;43m=\u001b[39;49m\u001b[43mcolor\u001b[49m\u001b[43m,\u001b[49m\u001b[43m \u001b[49m\u001b[43mlabel\u001b[49m\u001b[38;5;241;43m=\u001b[39;49m\u001b[43mlabel\u001b[49m\u001b[43m,\u001b[49m\u001b[43m \u001b[49m\u001b[43mstacked\u001b[49m\u001b[38;5;241;43m=\u001b[39;49m\u001b[43mstacked\u001b[49m\u001b[43m,\u001b[49m\n\u001b[1;32m   2595\u001b[0m \u001b[43m        \u001b[49m\u001b[38;5;241;43m*\u001b[39;49m\u001b[38;5;241;43m*\u001b[39;49m\u001b[43m(\u001b[49m\u001b[43m{\u001b[49m\u001b[38;5;124;43m\"\u001b[39;49m\u001b[38;5;124;43mdata\u001b[39;49m\u001b[38;5;124;43m\"\u001b[39;49m\u001b[43m:\u001b[49m\u001b[43m \u001b[49m\u001b[43mdata\u001b[49m\u001b[43m}\u001b[49m\u001b[43m \u001b[49m\u001b[38;5;28;43;01mif\u001b[39;49;00m\u001b[43m \u001b[49m\u001b[43mdata\u001b[49m\u001b[43m \u001b[49m\u001b[38;5;129;43;01mis\u001b[39;49;00m\u001b[43m \u001b[49m\u001b[38;5;129;43;01mnot\u001b[39;49;00m\u001b[43m \u001b[49m\u001b[38;5;28;43;01mNone\u001b[39;49;00m\u001b[43m \u001b[49m\u001b[38;5;28;43;01melse\u001b[39;49;00m\u001b[43m \u001b[49m\u001b[43m{\u001b[49m\u001b[43m}\u001b[49m\u001b[43m)\u001b[49m\u001b[43m,\u001b[49m\u001b[43m \u001b[49m\u001b[38;5;241;43m*\u001b[39;49m\u001b[38;5;241;43m*\u001b[39;49m\u001b[43mkwargs\u001b[49m\u001b[43m)\u001b[49m\n",
      "File \u001b[0;32m~/.cache/pypoetry/virtualenvs/bliss-JJ_Cv_sx-py3.8/lib/python3.8/site-packages/matplotlib/__init__.py:1412\u001b[0m, in \u001b[0;36m_preprocess_data.<locals>.inner\u001b[0;34m(ax, data, *args, **kwargs)\u001b[0m\n\u001b[1;32m   1409\u001b[0m \u001b[38;5;129m@functools\u001b[39m\u001b[38;5;241m.\u001b[39mwraps(func)\n\u001b[1;32m   1410\u001b[0m \u001b[38;5;28;01mdef\u001b[39;00m \u001b[38;5;21minner\u001b[39m(ax, \u001b[38;5;241m*\u001b[39margs, data\u001b[38;5;241m=\u001b[39m\u001b[38;5;28;01mNone\u001b[39;00m, \u001b[38;5;241m*\u001b[39m\u001b[38;5;241m*\u001b[39mkwargs):\n\u001b[1;32m   1411\u001b[0m     \u001b[38;5;28;01mif\u001b[39;00m data \u001b[38;5;129;01mis\u001b[39;00m \u001b[38;5;28;01mNone\u001b[39;00m:\n\u001b[0;32m-> 1412\u001b[0m         \u001b[38;5;28;01mreturn\u001b[39;00m \u001b[43mfunc\u001b[49m\u001b[43m(\u001b[49m\u001b[43max\u001b[49m\u001b[43m,\u001b[49m\u001b[43m \u001b[49m\u001b[38;5;241;43m*\u001b[39;49m\u001b[38;5;28;43mmap\u001b[39;49m\u001b[43m(\u001b[49m\u001b[43msanitize_sequence\u001b[49m\u001b[43m,\u001b[49m\u001b[43m \u001b[49m\u001b[43margs\u001b[49m\u001b[43m)\u001b[49m\u001b[43m,\u001b[49m\u001b[43m \u001b[49m\u001b[38;5;241;43m*\u001b[39;49m\u001b[38;5;241;43m*\u001b[39;49m\u001b[43mkwargs\u001b[49m\u001b[43m)\u001b[49m\n\u001b[1;32m   1414\u001b[0m     bound \u001b[38;5;241m=\u001b[39m new_sig\u001b[38;5;241m.\u001b[39mbind(ax, \u001b[38;5;241m*\u001b[39margs, \u001b[38;5;241m*\u001b[39m\u001b[38;5;241m*\u001b[39mkwargs)\n\u001b[1;32m   1415\u001b[0m     auto_label \u001b[38;5;241m=\u001b[39m (bound\u001b[38;5;241m.\u001b[39marguments\u001b[38;5;241m.\u001b[39mget(label_namer)\n\u001b[1;32m   1416\u001b[0m                   \u001b[38;5;129;01mor\u001b[39;00m bound\u001b[38;5;241m.\u001b[39mkwargs\u001b[38;5;241m.\u001b[39mget(label_namer))\n",
      "File \u001b[0;32m~/.cache/pypoetry/virtualenvs/bliss-JJ_Cv_sx-py3.8/lib/python3.8/site-packages/matplotlib/axes/_axes.py:6698\u001b[0m, in \u001b[0;36mAxes.hist\u001b[0;34m(self, x, bins, range, density, weights, cumulative, bottom, histtype, align, orientation, rwidth, log, color, label, stacked, **kwargs)\u001b[0m\n\u001b[1;32m   6696\u001b[0m \u001b[38;5;28;01melse\u001b[39;00m:\n\u001b[1;32m   6697\u001b[0m     height \u001b[38;5;241m=\u001b[39m m\n\u001b[0;32m-> 6698\u001b[0m bars \u001b[38;5;241m=\u001b[39m \u001b[43m_barfunc\u001b[49m\u001b[43m(\u001b[49m\u001b[43mbins\u001b[49m\u001b[43m[\u001b[49m\u001b[43m:\u001b[49m\u001b[38;5;241;43m-\u001b[39;49m\u001b[38;5;241;43m1\u001b[39;49m\u001b[43m]\u001b[49m\u001b[38;5;241;43m+\u001b[39;49m\u001b[43mboffset\u001b[49m\u001b[43m,\u001b[49m\u001b[43m \u001b[49m\u001b[43mheight\u001b[49m\u001b[43m,\u001b[49m\u001b[43m \u001b[49m\u001b[43mwidth\u001b[49m\u001b[43m,\u001b[49m\n\u001b[1;32m   6699\u001b[0m \u001b[43m                \u001b[49m\u001b[43malign\u001b[49m\u001b[38;5;241;43m=\u001b[39;49m\u001b[38;5;124;43m'\u001b[39;49m\u001b[38;5;124;43mcenter\u001b[39;49m\u001b[38;5;124;43m'\u001b[39;49m\u001b[43m,\u001b[49m\u001b[43m \u001b[49m\u001b[43mlog\u001b[49m\u001b[38;5;241;43m=\u001b[39;49m\u001b[43mlog\u001b[49m\u001b[43m,\u001b[49m\n\u001b[1;32m   6700\u001b[0m \u001b[43m                \u001b[49m\u001b[43mcolor\u001b[49m\u001b[38;5;241;43m=\u001b[39;49m\u001b[43mc\u001b[49m\u001b[43m,\u001b[49m\u001b[43m \u001b[49m\u001b[38;5;241;43m*\u001b[39;49m\u001b[38;5;241;43m*\u001b[39;49m\u001b[43m{\u001b[49m\u001b[43mbottom_kwarg\u001b[49m\u001b[43m:\u001b[49m\u001b[43m \u001b[49m\u001b[43mbottom\u001b[49m\u001b[43m}\u001b[49m\u001b[43m)\u001b[49m\n\u001b[1;32m   6701\u001b[0m patches\u001b[38;5;241m.\u001b[39mappend(bars)\n\u001b[1;32m   6702\u001b[0m \u001b[38;5;28;01mif\u001b[39;00m stacked:\n",
      "File \u001b[0;32m~/.cache/pypoetry/virtualenvs/bliss-JJ_Cv_sx-py3.8/lib/python3.8/site-packages/matplotlib/__init__.py:1412\u001b[0m, in \u001b[0;36m_preprocess_data.<locals>.inner\u001b[0;34m(ax, data, *args, **kwargs)\u001b[0m\n\u001b[1;32m   1409\u001b[0m \u001b[38;5;129m@functools\u001b[39m\u001b[38;5;241m.\u001b[39mwraps(func)\n\u001b[1;32m   1410\u001b[0m \u001b[38;5;28;01mdef\u001b[39;00m \u001b[38;5;21minner\u001b[39m(ax, \u001b[38;5;241m*\u001b[39margs, data\u001b[38;5;241m=\u001b[39m\u001b[38;5;28;01mNone\u001b[39;00m, \u001b[38;5;241m*\u001b[39m\u001b[38;5;241m*\u001b[39mkwargs):\n\u001b[1;32m   1411\u001b[0m     \u001b[38;5;28;01mif\u001b[39;00m data \u001b[38;5;129;01mis\u001b[39;00m \u001b[38;5;28;01mNone\u001b[39;00m:\n\u001b[0;32m-> 1412\u001b[0m         \u001b[38;5;28;01mreturn\u001b[39;00m \u001b[43mfunc\u001b[49m\u001b[43m(\u001b[49m\u001b[43max\u001b[49m\u001b[43m,\u001b[49m\u001b[43m \u001b[49m\u001b[38;5;241;43m*\u001b[39;49m\u001b[38;5;28;43mmap\u001b[39;49m\u001b[43m(\u001b[49m\u001b[43msanitize_sequence\u001b[49m\u001b[43m,\u001b[49m\u001b[43m \u001b[49m\u001b[43margs\u001b[49m\u001b[43m)\u001b[49m\u001b[43m,\u001b[49m\u001b[43m \u001b[49m\u001b[38;5;241;43m*\u001b[39;49m\u001b[38;5;241;43m*\u001b[39;49m\u001b[43mkwargs\u001b[49m\u001b[43m)\u001b[49m\n\u001b[1;32m   1414\u001b[0m     bound \u001b[38;5;241m=\u001b[39m new_sig\u001b[38;5;241m.\u001b[39mbind(ax, \u001b[38;5;241m*\u001b[39margs, \u001b[38;5;241m*\u001b[39m\u001b[38;5;241m*\u001b[39mkwargs)\n\u001b[1;32m   1415\u001b[0m     auto_label \u001b[38;5;241m=\u001b[39m (bound\u001b[38;5;241m.\u001b[39marguments\u001b[38;5;241m.\u001b[39mget(label_namer)\n\u001b[1;32m   1416\u001b[0m                   \u001b[38;5;129;01mor\u001b[39;00m bound\u001b[38;5;241m.\u001b[39mkwargs\u001b[38;5;241m.\u001b[39mget(label_namer))\n",
      "File \u001b[0;32m~/.cache/pypoetry/virtualenvs/bliss-JJ_Cv_sx-py3.8/lib/python3.8/site-packages/matplotlib/axes/_axes.py:2409\u001b[0m, in \u001b[0;36mAxes.bar\u001b[0;34m(self, x, height, width, bottom, align, **kwargs)\u001b[0m\n\u001b[1;32m   2407\u001b[0m     \u001b[38;5;28;01melif\u001b[39;00m orientation \u001b[38;5;241m==\u001b[39m \u001b[38;5;124m'\u001b[39m\u001b[38;5;124mhorizontal\u001b[39m\u001b[38;5;124m'\u001b[39m:\n\u001b[1;32m   2408\u001b[0m         r\u001b[38;5;241m.\u001b[39msticky_edges\u001b[38;5;241m.\u001b[39mx\u001b[38;5;241m.\u001b[39mappend(l)\n\u001b[0;32m-> 2409\u001b[0m     \u001b[38;5;28;43mself\u001b[39;49m\u001b[38;5;241;43m.\u001b[39;49m\u001b[43madd_patch\u001b[49m\u001b[43m(\u001b[49m\u001b[43mr\u001b[49m\u001b[43m)\u001b[49m\n\u001b[1;32m   2410\u001b[0m     patches\u001b[38;5;241m.\u001b[39mappend(r)\n\u001b[1;32m   2412\u001b[0m \u001b[38;5;28;01mif\u001b[39;00m xerr \u001b[38;5;129;01mis\u001b[39;00m \u001b[38;5;129;01mnot\u001b[39;00m \u001b[38;5;28;01mNone\u001b[39;00m \u001b[38;5;129;01mor\u001b[39;00m yerr \u001b[38;5;129;01mis\u001b[39;00m \u001b[38;5;129;01mnot\u001b[39;00m \u001b[38;5;28;01mNone\u001b[39;00m:\n",
      "File \u001b[0;32m~/.cache/pypoetry/virtualenvs/bliss-JJ_Cv_sx-py3.8/lib/python3.8/site-packages/matplotlib/axes/_base.py:2358\u001b[0m, in \u001b[0;36m_AxesBase.add_patch\u001b[0;34m(self, p)\u001b[0m\n\u001b[1;32m   2356\u001b[0m \u001b[38;5;28;01mif\u001b[39;00m p\u001b[38;5;241m.\u001b[39mget_clip_path() \u001b[38;5;129;01mis\u001b[39;00m \u001b[38;5;28;01mNone\u001b[39;00m:\n\u001b[1;32m   2357\u001b[0m     p\u001b[38;5;241m.\u001b[39mset_clip_path(\u001b[38;5;28mself\u001b[39m\u001b[38;5;241m.\u001b[39mpatch)\n\u001b[0;32m-> 2358\u001b[0m \u001b[38;5;28;43mself\u001b[39;49m\u001b[38;5;241;43m.\u001b[39;49m\u001b[43m_update_patch_limits\u001b[49m\u001b[43m(\u001b[49m\u001b[43mp\u001b[49m\u001b[43m)\u001b[49m\n\u001b[1;32m   2359\u001b[0m \u001b[38;5;28mself\u001b[39m\u001b[38;5;241m.\u001b[39m_children\u001b[38;5;241m.\u001b[39mappend(p)\n\u001b[1;32m   2360\u001b[0m p\u001b[38;5;241m.\u001b[39m_remove_method \u001b[38;5;241m=\u001b[39m \u001b[38;5;28mself\u001b[39m\u001b[38;5;241m.\u001b[39m_children\u001b[38;5;241m.\u001b[39mremove\n",
      "File \u001b[0;32m~/.cache/pypoetry/virtualenvs/bliss-JJ_Cv_sx-py3.8/lib/python3.8/site-packages/matplotlib/axes/_base.py:2393\u001b[0m, in \u001b[0;36m_AxesBase._update_patch_limits\u001b[0;34m(self, patch)\u001b[0m\n\u001b[1;32m   2391\u001b[0m trf_to_data \u001b[38;5;241m=\u001b[39m patch_trf \u001b[38;5;241m-\u001b[39m \u001b[38;5;28mself\u001b[39m\u001b[38;5;241m.\u001b[39mtransData\n\u001b[1;32m   2392\u001b[0m xys \u001b[38;5;241m=\u001b[39m trf_to_data\u001b[38;5;241m.\u001b[39mtransform(vertices)\n\u001b[0;32m-> 2393\u001b[0m \u001b[38;5;28;43mself\u001b[39;49m\u001b[38;5;241;43m.\u001b[39;49m\u001b[43mupdate_datalim\u001b[49m\u001b[43m(\u001b[49m\u001b[43mxys\u001b[49m\u001b[43m,\u001b[49m\u001b[43m \u001b[49m\u001b[43mupdatex\u001b[49m\u001b[38;5;241;43m=\u001b[39;49m\u001b[43mupdatex\u001b[49m\u001b[43m,\u001b[49m\u001b[43m \u001b[49m\u001b[43mupdatey\u001b[49m\u001b[38;5;241;43m=\u001b[39;49m\u001b[43mupdatey\u001b[49m\u001b[43m)\u001b[49m\n",
      "File \u001b[0;32m~/.cache/pypoetry/virtualenvs/bliss-JJ_Cv_sx-py3.8/lib/python3.8/site-packages/matplotlib/axes/_base.py:2478\u001b[0m, in \u001b[0;36m_AxesBase.update_datalim\u001b[0;34m(self, xys, updatex, updatey)\u001b[0m\n\u001b[1;32m   2476\u001b[0m \u001b[38;5;28;01mif\u001b[39;00m \u001b[38;5;129;01mnot\u001b[39;00m np\u001b[38;5;241m.\u001b[39many(np\u001b[38;5;241m.\u001b[39misfinite(xys)):\n\u001b[1;32m   2477\u001b[0m     \u001b[38;5;28;01mreturn\u001b[39;00m\n\u001b[0;32m-> 2478\u001b[0m \u001b[38;5;28;43mself\u001b[39;49m\u001b[38;5;241;43m.\u001b[39;49m\u001b[43mdataLim\u001b[49m\u001b[38;5;241;43m.\u001b[39;49m\u001b[43mupdate_from_data_xy\u001b[49m\u001b[43m(\u001b[49m\u001b[43mxys\u001b[49m\u001b[43m,\u001b[49m\u001b[43m \u001b[49m\u001b[38;5;28;43mself\u001b[39;49m\u001b[38;5;241;43m.\u001b[39;49m\u001b[43mignore_existing_data_limits\u001b[49m\u001b[43m,\u001b[49m\n\u001b[1;32m   2479\u001b[0m \u001b[43m                                 \u001b[49m\u001b[43mupdatex\u001b[49m\u001b[38;5;241;43m=\u001b[39;49m\u001b[43mupdatex\u001b[49m\u001b[43m,\u001b[49m\u001b[43m \u001b[49m\u001b[43mupdatey\u001b[49m\u001b[38;5;241;43m=\u001b[39;49m\u001b[43mupdatey\u001b[49m\u001b[43m)\u001b[49m\n\u001b[1;32m   2480\u001b[0m \u001b[38;5;28mself\u001b[39m\u001b[38;5;241m.\u001b[39mignore_existing_data_limits \u001b[38;5;241m=\u001b[39m \u001b[38;5;28;01mFalse\u001b[39;00m\n",
      "File \u001b[0;32m~/.cache/pypoetry/virtualenvs/bliss-JJ_Cv_sx-py3.8/lib/python3.8/site-packages/matplotlib/transforms.py:968\u001b[0m, in \u001b[0;36mBbox.update_from_data_xy\u001b[0;34m(self, xy, ignore, updatex, updatey)\u001b[0m\n\u001b[1;32m    965\u001b[0m     \u001b[38;5;28;01mreturn\u001b[39;00m\n\u001b[1;32m    967\u001b[0m path \u001b[38;5;241m=\u001b[39m Path(xy)\n\u001b[0;32m--> 968\u001b[0m \u001b[38;5;28;43mself\u001b[39;49m\u001b[38;5;241;43m.\u001b[39;49m\u001b[43mupdate_from_path\u001b[49m\u001b[43m(\u001b[49m\u001b[43mpath\u001b[49m\u001b[43m,\u001b[49m\u001b[43m \u001b[49m\u001b[43mignore\u001b[49m\u001b[38;5;241;43m=\u001b[39;49m\u001b[43mignore\u001b[49m\u001b[43m,\u001b[49m\n\u001b[1;32m    969\u001b[0m \u001b[43m                      \u001b[49m\u001b[43mupdatex\u001b[49m\u001b[38;5;241;43m=\u001b[39;49m\u001b[43mupdatex\u001b[49m\u001b[43m,\u001b[49m\u001b[43m \u001b[49m\u001b[43mupdatey\u001b[49m\u001b[38;5;241;43m=\u001b[39;49m\u001b[43mupdatey\u001b[49m\u001b[43m)\u001b[49m\n",
      "File \u001b[0;32m~/.cache/pypoetry/virtualenvs/bliss-JJ_Cv_sx-py3.8/lib/python3.8/site-packages/matplotlib/transforms.py:869\u001b[0m, in \u001b[0;36mBbox.update_from_path\u001b[0;34m(self, path, ignore, updatex, updatey)\u001b[0m\n\u001b[1;32m    856\u001b[0m     \u001b[38;5;124;03m\"\"\"\u001b[39;00m\n\u001b[1;32m    857\u001b[0m \u001b[38;5;124;03m    Set whether the existing bounds of the box should be ignored\u001b[39;00m\n\u001b[1;32m    858\u001b[0m \u001b[38;5;124;03m    by subsequent calls to :meth:`update_from_data_xy`.\u001b[39;00m\n\u001b[0;32m   (...)\u001b[0m\n\u001b[1;32m    865\u001b[0m \u001b[38;5;124;03m         will include the existing bounds of the `Bbox`.\u001b[39;00m\n\u001b[1;32m    866\u001b[0m \u001b[38;5;124;03m    \"\"\"\u001b[39;00m\n\u001b[1;32m    867\u001b[0m     \u001b[38;5;28mself\u001b[39m\u001b[38;5;241m.\u001b[39m_ignore \u001b[38;5;241m=\u001b[39m value\n\u001b[0;32m--> 869\u001b[0m \u001b[38;5;28;01mdef\u001b[39;00m \u001b[38;5;21mupdate_from_path\u001b[39m(\u001b[38;5;28mself\u001b[39m, path, ignore\u001b[38;5;241m=\u001b[39m\u001b[38;5;28;01mNone\u001b[39;00m, updatex\u001b[38;5;241m=\u001b[39m\u001b[38;5;28;01mTrue\u001b[39;00m, updatey\u001b[38;5;241m=\u001b[39m\u001b[38;5;28;01mTrue\u001b[39;00m):\n\u001b[1;32m    870\u001b[0m     \u001b[38;5;124;03m\"\"\"\u001b[39;00m\n\u001b[1;32m    871\u001b[0m \u001b[38;5;124;03m    Update the bounds of the `Bbox` to contain the vertices of the\u001b[39;00m\n\u001b[1;32m    872\u001b[0m \u001b[38;5;124;03m    provided path. After updating, the bounds will have positive *width*\u001b[39;00m\n\u001b[0;32m   (...)\u001b[0m\n\u001b[1;32m    885\u001b[0m \u001b[38;5;124;03m        When ``True``, update the x/y values.\u001b[39;00m\n\u001b[1;32m    886\u001b[0m \u001b[38;5;124;03m    \"\"\"\u001b[39;00m\n\u001b[1;32m    887\u001b[0m     \u001b[38;5;28;01mif\u001b[39;00m ignore \u001b[38;5;129;01mis\u001b[39;00m \u001b[38;5;28;01mNone\u001b[39;00m:\n",
      "\u001b[0;31mKeyboardInterrupt\u001b[0m: "
     ]
    }
   ],
   "source": [
    "plt.hist(sd_elfluxes, bins=25)"
   ]
  },
  {
   "cell_type": "code",
   "execution_count": null,
   "id": "1746150f",
   "metadata": {},
   "outputs": [],
   "source": []
  }
 ],
 "metadata": {
  "kernelspec": {
   "display_name": "Python 3 (ipykernel)",
   "language": "python",
   "name": "python3"
  },
  "language_info": {
   "codemirror_mode": {
    "name": "ipython",
    "version": 3
   },
   "file_extension": ".py",
   "mimetype": "text/x-python",
   "name": "python",
   "nbconvert_exporter": "python",
   "pygments_lexer": "ipython3",
   "version": "3.8.10"
  },
  "toc": {
   "base_numbering": 1,
   "nav_menu": {},
   "number_sections": true,
   "sideBar": true,
   "skip_h1_title": false,
   "title_cell": "Table of Contents",
   "title_sidebar": "Contents",
   "toc_cell": false,
   "toc_position": {
    "height": "calc(100% - 180px)",
    "left": "10px",
    "top": "150px",
    "width": "165px"
   },
   "toc_section_display": true,
   "toc_window_display": true
  }
 },
 "nbformat": 4,
 "nbformat_minor": 5
}

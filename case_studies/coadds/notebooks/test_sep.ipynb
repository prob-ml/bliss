{
 "cells": [
  {
   "cell_type": "code",
   "execution_count": 1,
   "metadata": {},
   "outputs": [],
   "source": [
    "\n",
    "import numpy as np\n",
    "import galsim\n",
    "import torch\n",
    "import torch.nn.functional as F\n",
    "from bliss.models.decoder import get_mgrid\n",
    "from bliss.datasets.galsim_galaxies import GalsimBlends\n",
    "import matplotlib.pyplot as plt\n",
    "from hydra import compose, initialize\n",
    "from hydra.utils import instantiate\n",
    "from torch import Tensor\n",
    "from typing import Dict, Optional\n",
    "import pytorch_lightning as pl\n",
    "from einops import rearrange\n",
    "from torch.utils.data import DataLoader, Dataset\n",
    "from bliss.catalog import TileCatalog, get_is_on_from_n_sources, FullCatalog\n",
    "from bliss.datasets.background import ConstantBackground\n",
    "from bliss.datasets.sdss import convert_flux_to_mag\n",
    "from bliss.models.galsim_decoder import SingleGalsimGalaxyDecoder,SingleGalsimGalaxyPrior,UniformGalsimGalaxiesPrior\n",
    "\n",
    "from case_studies.coadds.align_single_exposures import align_single_exposures"
   ]
  },
  {
   "cell_type": "code",
   "execution_count": 2,
   "metadata": {},
   "outputs": [],
   "source": [
    "def render_galaxy(\n",
    "        self,\n",
    "        galaxy_params: Tensor,\n",
    "        psf: galsim.GSObject,\n",
    "        slen: int,\n",
    "        offset: Optional[Tensor] = None,\n",
    "        dithers: Optional[Tensor] = None,\n",
    "    ) -> Tensor:\n",
    "        assert offset is None or offset.shape == (2,)\n",
    "        if isinstance(galaxy_params, Tensor):\n",
    "            galaxy_params = galaxy_params.cpu().detach()\n",
    "        total_flux, disk_frac, beta_radians, disk_q, a_d, bulge_q, a_b = galaxy_params\n",
    "        bulge_frac = 1 - disk_frac\n",
    "\n",
    "        disk_flux = total_flux * disk_frac\n",
    "        bulge_flux = total_flux * bulge_frac\n",
    "\n",
    "        components = []\n",
    "        if disk_flux > 0:\n",
    "            b_d = a_d * disk_q\n",
    "            disk_hlr_arcsecs = np.sqrt(a_d * b_d)\n",
    "            disk = galsim.Exponential(flux=disk_flux, half_light_radius=disk_hlr_arcsecs).shear(\n",
    "                q=disk_q,\n",
    "                beta=beta_radians * galsim.radians,\n",
    "            )\n",
    "            components.append(disk)\n",
    "        if bulge_flux > 0:\n",
    "            b_b = bulge_q * a_b\n",
    "            bulge_hlr_arcsecs = np.sqrt(a_b * b_b)\n",
    "            bulge = galsim.DeVaucouleurs(\n",
    "                flux=bulge_flux, half_light_radius=bulge_hlr_arcsecs\n",
    "            ).shear(q=bulge_q, beta=beta_radians * galsim.radians)\n",
    "            components.append(bulge)\n",
    "        galaxy = galsim.Add(components)\n",
    "        gal_conv = galsim.Convolution(galaxy, psf)\n",
    "        offset = (0,0) if offset is None else offset\n",
    "        dithers = (0,0) if dithers is None else dithers\n",
    "        shift = torch.add(torch.Tensor(dithers), torch.Tensor(offset))\n",
    "        shift = shift.reshape(1,2) if len(shift) == 2 else shift\n",
    "        images = []\n",
    "        for i in shift:\n",
    "            image = gal_conv.drawImage(\n",
    "                nx=slen, ny=slen, method=\"auto\", scale=self.pixel_scale, offset=i\n",
    "            )\n",
    "            image = image.array\n",
    "            images.append(image)\n",
    "        return torch.tensor(images[:]).reshape(len(shift), 1, slen, slen)"
   ]
  },
  {
   "cell_type": "code",
   "execution_count": 3,
   "metadata": {},
   "outputs": [],
   "source": [
    "with initialize(config_path=\"./case_studies/sdss_galaxies/config\"):\n",
    "    cfg = compose(\"config\", overrides=[])"
   ]
  },
  {
   "cell_type": "code",
   "execution_count": 4,
   "metadata": {},
   "outputs": [],
   "source": [
    "decoder = instantiate(cfg.datasets.sdss_galaxies.decoder)\n",
    "psf = decoder.psf\n",
    "prior = instantiate(cfg.datasets.galsim_blended_galaxies.prior) \n",
    "decoder = instantiate(cfg.datasets.galsim_blended_galaxies.decoder)\n",
    "background = instantiate(cfg.datasets.galsim_blended_galaxies.background)\n",
    "tile_slen = 4\n",
    "max_tile_n_sources = 1\n",
    "num_workers = 5\n",
    "batch_size = 1000\n",
    "n_batches = 1\n",
    "full_catalog = GalsimBlends(prior = prior, decoder = decoder, background = background, tile_slen = tile_slen, max_sources_per_tile = max_tile_n_sources, num_workers = num_workers, batch_size = batch_size, n_batches = n_batches)._sample_full_catalog()"
   ]
  },
  {
   "cell_type": "code",
   "execution_count": 5,
   "metadata": {},
   "outputs": [],
   "source": [
    "# create dithers\n",
    "n = 3\n",
    "dithers = [((-0.5 - 0.5) * torch.rand((2,)) + 0.5).numpy() for x in range(n)]"
   ]
  },
  {
   "cell_type": "code",
   "execution_count": 6,
   "metadata": {},
   "outputs": [
    {
     "name": "stderr",
     "output_type": "stream",
     "text": [
      "/tmp/ipykernel_1533762/2763212682.py:47: UserWarning: Creating a tensor from a list of numpy.ndarrays is extremely slow. Please consider converting the list to a single numpy.ndarray with numpy.array() before converting to a tensor. (Triggered internally at  ../torch/csrc/utils/tensor_new.cpp:210.)\n",
      "  return torch.tensor(images[:]).reshape(len(shift), 1, slen, slen)\n"
     ]
    }
   ],
   "source": [
    "size = decoder.slen + 2 * decoder.bp\n",
    "full_plocs = full_catalog.plocs\n",
    "b, max_n_sources, _ = full_plocs.shape\n",
    "\n",
    "image = torch.zeros(len(dithers), 1, size, size)\n",
    "image0 = torch.zeros(1, 1, size, size)\n",
    "noiseless_centered = torch.zeros(len(dithers), max_n_sources, 1, size, size)\n",
    "noiseless_uncentered = torch.zeros(len(dithers), max_n_sources, 1, size, size)\n",
    "\n",
    "n_sources = int(full_catalog.n_sources[0].item())\n",
    "galaxy_params = full_catalog[\"galaxy_params\"][0]\n",
    "plocs = full_plocs[0]\n",
    "\n",
    "offset_x = plocs[0][1] + decoder.bp - size / 2\n",
    "offset_y = plocs[0][0] + decoder.bp - size / 2\n",
    "offset = torch.tensor([offset_x, offset_y])\n",
    "decoder = instantiate(cfg.datasets.sdss_galaxies.decoder)\n",
    "uncentered = render_galaxy(decoder, galaxy_params[0], psf, size, offset)\n",
    "uncentered_dithered = render_galaxy(decoder, galaxy_params[0], psf, size, offset, dithers)"
   ]
  },
  {
   "cell_type": "code",
   "execution_count": 7,
   "metadata": {},
   "outputs": [
    {
     "name": "stdout",
     "output_type": "stream",
     "text": [
      "Modules to reload:\n",
      "all-except-skipped\n",
      "\n",
      "Modules to skip:\n",
      "\n"
     ]
    }
   ],
   "source": [
    "%load_ext autoreload\n",
    "%autoreload 2\n",
    "%aimport\n",
    "%matplotlib inline "
   ]
  },
  {
   "cell_type": "code",
   "execution_count": 8,
   "metadata": {},
   "outputs": [
    {
     "data": {
      "text/plain": [
       "<matplotlib.colorbar.Colorbar at 0x7fe22c98ad90>"
      ]
     },
     "execution_count": 8,
     "metadata": {},
     "output_type": "execute_result"
    },
    {
     "data": {
      "image/png": "[encoded data removed]",
      "text/plain": [
       "<Figure size 432x288 with 2 Axes>"
      ]
     },
     "metadata": {
      "needs_background": "light"
     },
     "output_type": "display_data"
    }
   ],
   "source": [
    "plt.figure()\n",
    "plt.imshow(uncentered.reshape(size,size))\n",
    "plt.colorbar()"
   ]
  },
  {
   "cell_type": "code",
   "execution_count": 9,
   "metadata": {},
   "outputs": [
    {
     "name": "stdout",
     "output_type": "stream",
     "text": [
      "Stored 'uncentered' (Tensor)\n"
     ]
    }
   ],
   "source": [
    "%store uncentered"
   ]
  },
  {
   "cell_type": "code",
   "execution_count": 1,
   "metadata": {},
   "outputs": [],
   "source": [
    "import numpy as np\n",
    "import sep\n",
    "\n",
    "%store -r uncentered"
   ]
  },
  {
   "cell_type": "code",
   "execution_count": 5,
   "metadata": {},
   "outputs": [],
   "source": [
    "objects = sep.extract(uncentered.reshape(88,88).numpy(), 1.5)"
   ]
  },
  {
   "cell_type": "code",
   "execution_count": 6,
   "metadata": {},
   "outputs": [
    {
     "data": {
      "text/plain": [
       "1"
      ]
     },
     "execution_count": 6,
     "metadata": {},
     "output_type": "execute_result"
    }
   ],
   "source": [
    "len(objects)"
   ]
  },
  {
   "cell_type": "code",
   "execution_count": 9,
   "metadata": {},
   "outputs": [
    {
     "data": {
      "image/png": "[encoded data removed]",
      "text/plain": [
       "<Figure size 432x288 with 1 Axes>"
      ]
     },
     "metadata": {
      "needs_background": "light"
     },
     "output_type": "display_data"
    }
   ],
   "source": [
    "from matplotlib.patches import Ellipse\n",
    "import matplotlib.pyplot as plt\n",
    "from matplotlib import rcParams\n",
    "\n",
    "data_sub = uncentered.reshape(88,88).numpy()\n",
    "\n",
    "# plot background-subtracted image\n",
    "fig, ax = plt.subplots()\n",
    "m, s = np.mean(data_sub), np.std(data_sub)\n",
    "im = ax.imshow(data_sub, interpolation='nearest', cmap='gray',\n",
    "               vmin=m-s, vmax=m+s, origin='lower')\n",
    "\n",
    "# plot an ellipse for each object\n",
    "for i in range(len(objects)):\n",
    "    e = Ellipse(xy=(objects['x'][i], objects['y'][i]),\n",
    "                width=6*objects['a'][i],\n",
    "                height=6*objects['b'][i],\n",
    "                angle=objects['theta'][i] * 180. / np.pi)\n",
    "    e.set_facecolor('none')\n",
    "    e.set_edgecolor('red')\n",
    "    ax.add_artist(e)"
   ]
  }
 ],
 "metadata": {
  "kernelspec": {
   "display_name": "Python 3",
   "language": "python",
   "name": "python3"
  },
  "language_info": {
   "codemirror_mode": {
    "name": "ipython",
    "version": 3
   },
   "file_extension": ".py",
   "mimetype": "text/x-python",
   "name": "python",
   "nbconvert_exporter": "python",
   "pygments_lexer": "ipython3",
   "version": "3.10.6"
  },
  "orig_nbformat": 4,
  "vscode": {
   "interpreter": {
    "hash": "e7370f93d1d0cde622a1f8e1c04877d8463912d04d973331ad4851f04de6915a"
   }
  }
 },
 "nbformat": 4,
 "nbformat_minor": 2
}

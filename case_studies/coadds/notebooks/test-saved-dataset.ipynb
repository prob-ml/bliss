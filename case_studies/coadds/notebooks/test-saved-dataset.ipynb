{
 "cells": [
  {
   "cell_type": "code",
   "execution_count": 1,
   "id": "b568ab3e",
   "metadata": {
    "ExecuteTime": {
     "end_time": "2022-09-29T13:52:16.021109Z",
     "start_time": "2022-09-29T13:52:12.549209Z"
    }
   },
   "outputs": [
    {
     "name": "stdout",
     "output_type": "stream",
     "text": [
      "Modules to reload:\n",
      "all-except-skipped\n",
      "\n",
      "Modules to skip:\n",
      "\n",
      "5\n"
     ]
    }
   ],
   "source": [
    "%load_ext autoreload\n",
    "%autoreload 2\n",
    "%aimport\n",
    "\n",
    "%matplotlib inline \n",
    "\n",
    "import torch\n",
    "import matplotlib.pyplot as plt\n",
    "from einops import rearrange\n",
    "\n",
    "from bliss.catalog import TileCatalog, get_images_in_tiles\n",
    "from bliss.encoder import Encoder\n",
    "from bliss.catalog import FullCatalog\n",
    "\n",
    "\n",
    "device = torch.device('cuda:0')\n",
    "!echo $CUDA_VISIBLE_DEVICES"
   ]
  },
  {
   "cell_type": "code",
   "execution_count": 13,
   "id": "5cc8cc56",
   "metadata": {
    "ExecuteTime": {
     "end_time": "2022-09-29T13:55:48.754903Z",
     "start_time": "2022-09-29T13:55:48.610742Z"
    }
   },
   "outputs": [],
   "source": [
    "# load models\n",
    "from hydra import compose, initialize\n",
    "from hydra.utils import instantiate\n",
    "\n",
    "with initialize(config_path=\"../../coadds/config\"):\n",
    "    cfg = compose(\"config\", overrides=[])"
   ]
  },
  {
   "cell_type": "code",
   "execution_count": 14,
   "id": "8e6232ed",
   "metadata": {
    "ExecuteTime": {
     "end_time": "2022-09-29T13:55:51.090206Z",
     "start_time": "2022-09-29T13:55:48.756431Z"
    }
   },
   "outputs": [],
   "source": [
    "ds = instantiate(cfg.datasets.saved_coadd_module)"
   ]
  },
  {
   "cell_type": "code",
   "execution_count": 15,
   "id": "caa31750",
   "metadata": {
    "ExecuteTime": {
     "end_time": "2022-09-29T13:55:51.563147Z",
     "start_time": "2022-09-29T13:55:51.092231Z"
    }
   },
   "outputs": [
    {
     "name": "stdout",
     "output_type": "stream",
     "text": [
      "tensor(51.3053)\n",
      "tensor(582.5269)\n",
      "tensor(644.0049)\n",
      "tensor(29.4658)\n",
      "tensor(182.7160)\n",
      "tensor(22.5431)\n",
      "tensor(123.7919)\n",
      "tensor(3499.6460)\n",
      "tensor(82.3171)\n",
      "tensor(17.3950)\n",
      "\n",
      "tensor(5385.3979)\n",
      "tensor(130.4753)\n",
      "tensor(82.3171)\n",
      "tensor(137.7538)\n",
      "tensor(57.4793)\n",
      "tensor(121.6127)\n",
      "tensor(98.6197)\n",
      "tensor(311.0422)\n",
      "tensor(582.5269)\n",
      "tensor(131.6029)\n"
     ]
    }
   ],
   "source": [
    "tdl = ds.train_dataloader()\n",
    "for ii, b in enumerate(tdl):\n",
    "#     print(b['images'].shape)\n",
    "#     print(b['background'].shape)\n",
    "#     print(b['locs'].shape)\n",
    "#     print(b['star_fluxes'].shape)\n",
    "    print(b['star_fluxes'][0].mean())\n",
    "\n",
    "print()\n",
    "tdl = ds.train_dataloader()\n",
    "for ii, b in enumerate(tdl):\n",
    "#     print(b['images'].shape)\n",
    "#     print(b['background'].shape)\n",
    "#     print(b['locs'].shape)\n",
    "#     print(b['star_fluxes'].shape)\n",
    "    print(b['star_fluxes'][0].mean())\n"
   ]
  },
  {
   "cell_type": "code",
   "execution_count": null,
   "id": "c47ec6cd",
   "metadata": {},
   "outputs": [],
   "source": []
  }
 ],
 "metadata": {
  "kernelspec": {
   "display_name": "Python 3 (ipykernel)",
   "language": "python",
   "name": "python3"
  },
  "language_info": {
   "codemirror_mode": {
    "name": "ipython",
    "version": 3
   },
   "file_extension": ".py",
   "mimetype": "text/x-python",
   "name": "python",
   "nbconvert_exporter": "python",
   "pygments_lexer": "ipython3",
   "version": "3.8.10"
  },
  "toc": {
   "base_numbering": 1,
   "nav_menu": {},
   "number_sections": true,
   "sideBar": true,
   "skip_h1_title": false,
   "title_cell": "Table of Contents",
   "title_sidebar": "Contents",
   "toc_cell": false,
   "toc_position": {},
   "toc_section_display": true,
   "toc_window_display": true
  }
 },
 "nbformat": 4,
 "nbformat_minor": 5
}

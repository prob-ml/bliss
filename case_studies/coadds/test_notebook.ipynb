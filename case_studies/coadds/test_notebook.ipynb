{
 "cells": [
  {
   "cell_type": "code",
   "execution_count": 5,
   "metadata": {},
   "outputs": [],
   "source": [
    "from typing import Dict, List, Optional\n",
    "\n",
    "from hydra import compose, initialize\n",
    "from hydra.utils import instantiate\n",
    "import numpy as np\n",
    "import pytorch_lightning as pl\n",
    "import torch\n",
    "from torch import Tensor\n",
    "from einops import rearrange\n",
    "from torch.utils.data import DataLoader, Dataset\n",
    "import galsim\n",
    "from bliss.catalog import TileCatalog, get_is_on_from_n_sources, FullCatalog\n",
    "from bliss.datasets.background import ConstantBackground\n",
    "from bliss.datasets.sdss import convert_flux_to_mag\n",
    "from bliss.models.galsim_decoder import SingleGalsimGalaxyDecoder,SingleGalsimGalaxyPrior,UniformGalsimGalaxiesPrior\n",
    "from bliss.datasets.galsim_galaxies import GalsimBlends\n"
   ]
  },
  {
   "cell_type": "code",
   "execution_count": 433,
   "metadata": {},
   "outputs": [],
   "source": [
    "def _add_noise_and_background(image: Tensor, background: Tensor) -> Tensor:\n",
    "    image_with_background = image + background\n",
    "    noise = image_with_background.sqrt() * torch.randn_like(image_with_background)\n",
    "    return image_with_background + noise\n",
    "\n",
    "def load_psf_from_file(psf_image_file: str, pixel_scale: float) -> galsim.GSObject:\n",
    "    \"\"\"Return normalized PSF galsim.GSObject from numpy psf_file.\"\"\"\n",
    "    assert Path(psf_image_file).suffix == \".npy\"\n",
    "    psf_image = np.load(psf_image_file)\n",
    "    assert len(psf_image.shape) == 3 and psf_image.shape[0] == 1\n",
    "    psf_image = galsim.Image(psf_image[0], scale=pixel_scale)\n",
    "    return galsim.InterpolatedImage(psf_image).withFlux(1.0)\n",
    "\n",
    "def _sample_n_sources(max_n_sources) -> int:\n",
    "    return int(torch.randint(1, max_n_sources + 1, (1,)).int().item())\n",
    "\n",
    "def _uniform(a, b, n_samples=1) -> Tensor:\n",
    "    # uses pytorch to return a single float ~ U(a, b)\n",
    "    return (a - b) * torch.rand(n_samples) + b\n",
    "\n",
    "class CoaddUniformGalsimGalaxiesPrior(UniformGalsimGalaxiesPrior):\n",
    "    def __init__(\n",
    "        self,\n",
    "        single_galaxy_prior: SingleGalsimGalaxyPrior,\n",
    "        max_n_sources: int,\n",
    "        max_shift: float,\n",
    "        num_dithers: int,\n",
    "    ):\n",
    "        super().__init__(\n",
    "            single_galaxy_prior,\n",
    "            max_n_sources,\n",
    "            max_shift,\n",
    "        )\n",
    "        \n",
    "    def sample(self) -> Dict[str, Tensor]:\n",
    "        \"\"\"Returns a single batch of source parameters.\"\"\"\n",
    "        n_sources = _sample_n_sources(self.max_n_sources)\n",
    "\n",
    "        params = torch.zeros(self.max_n_sources, self.dim_latents)\n",
    "        params[:n_sources, :] = self.single_galaxy_prior.sample(n_sources)\n",
    "\n",
    "        locs = torch.zeros(self.max_n_sources, 2)\n",
    "        locs[:n_sources, 0] = _uniform(-self.max_shift, self.max_shift, n_sources) + 0.5\n",
    "        locs[:n_sources, 1] = _uniform(-self.max_shift, self.max_shift, n_sources) + 0.5\n",
    "\n",
    "        # for now, galaxies only\n",
    "        galaxy_bools = torch.zeros(self.max_n_sources, 1)\n",
    "        galaxy_bools[:n_sources, :] = 1\n",
    "        star_bools = torch.zeros(self.max_n_sources, 1)\n",
    "\n",
    "        dithers = [((-0.5 - 0.5) * torch.rand((2,)) + 0.5).numpy() for x in range(num_dithers)]\n",
    "\n",
    "        return {\n",
    "            \"n_sources\": torch.tensor(n_sources),\n",
    "            \"galaxy_params\": params,\n",
    "            \"locs\": locs,\n",
    "            \"galaxy_bools\": galaxy_bools,\n",
    "            \"star_bools\": star_bools,\n",
    "            \"dithers\": dithers,\n",
    "        }\n",
    "\n",
    "class CoaddSingleGalaxyDecoder(SingleGalsimGalaxyDecoder):\n",
    "    def __init__(\n",
    "        self,\n",
    "        slen: int,\n",
    "        n_bands: int,\n",
    "        pixel_scale: float,\n",
    "    #    psf_image_file: str,\n",
    "     ) -> None:\n",
    "        assert n_bands == 1, \"Only 1 band is supported\"\n",
    "        self.slen = slen\n",
    "        self.n_bands = 1\n",
    "        self.pixel_scale = pixel_scale\n",
    "    #    self.psf = load_psf_from_file(psf_image_file, self.pixel_scale)\n",
    "        \n",
    "    def render_galaxy(\n",
    "        self,\n",
    "        galaxy_params: Tensor,\n",
    "        psf: galsim.GSObject,\n",
    "        slen: int,\n",
    "        offset: Optional[Tensor] = None,\n",
    "        dithers: Optional[Tensor] = None,\n",
    "    ) -> Tensor:\n",
    "        assert offset is None or offset.shape == (2,)\n",
    "        if isinstance(galaxy_params, Tensor):\n",
    "            galaxy_params = galaxy_params.cpu().detach()\n",
    "        total_flux, disk_frac, beta_radians, disk_q, a_d, bulge_q, a_b = galaxy_params\n",
    "        bulge_frac = 1 - disk_frac\n",
    "\n",
    "        disk_flux = total_flux * disk_frac\n",
    "        bulge_flux = total_flux * bulge_frac\n",
    "\n",
    "        components = []\n",
    "        if disk_flux > 0:\n",
    "            b_d = a_d * disk_q\n",
    "            disk_hlr_arcsecs = np.sqrt(a_d * b_d)\n",
    "            disk = galsim.Exponential(flux=disk_flux, half_light_radius=disk_hlr_arcsecs).shear(\n",
    "                q=disk_q,\n",
    "                beta=beta_radians * galsim.radians,\n",
    "            )\n",
    "            components.append(disk)\n",
    "        if bulge_flux > 0:\n",
    "            b_b = bulge_q * a_b\n",
    "            bulge_hlr_arcsecs = np.sqrt(a_b * b_b)\n",
    "            bulge = galsim.DeVaucouleurs(\n",
    "                flux=bulge_flux, half_light_radius=bulge_hlr_arcsecs\n",
    "            ).shear(q=bulge_q, beta=beta_radians * galsim.radians)\n",
    "            components.append(bulge)\n",
    "        galaxy = galsim.Add(components)\n",
    "        gal_conv = galsim.Convolution(galaxy, psf)\n",
    "        offset = (0,0) if offset is None else offset\n",
    "        dithers = (0,0) if dithers is None else dithers\n",
    "        shift = torch.add(torch.Tensor(dithers), torch.Tensor(offset))\n",
    "        shift = shift.reshape(1,2) if len(shift) == 2 else shift\n",
    "        images = []\n",
    "        for i in shift:\n",
    "            image = gal_conv.drawImage(\n",
    "                nx=slen, ny=slen, method=\"auto\", scale=self.pixel_scale, offset=i\n",
    "            )\n",
    "            image = image.array\n",
    "            images.append(image)\n",
    "        return torch.tensor(images[:]).reshape(len(shift), 1, slen, slen)\n",
    "\n",
    "class FullCatalogDecoder:\n",
    "    def __init__(\n",
    "        self, single_galaxy_decoder: CoaddSingleGalaxyDecoder, slen: int, bp: int\n",
    "    ) -> None:\n",
    "        self.single_decoder = single_galaxy_decoder\n",
    "        self.slen = slen\n",
    "        self.bp = bp\n",
    "        assert self.slen + 2 * self.bp >= self.single_decoder.slen\n",
    "\n",
    "    def __call__(self, full_cat: FullCatalog):\n",
    "        return self.render_catalog(full_cat, self.single_decoder.psf)\n",
    "\n",
    "    def render_catalog(self, full_cat: FullCatalog, psf: galsim.GSObject, dithers: Optional[Tensor]):\n",
    "        size = self.slen + 2 * self.bp\n",
    "        full_plocs = full_cat.plocs\n",
    "        b, max_n_sources, _ = full_plocs.shape\n",
    "        assert b == 1, \"Only one batch supported for now.\"\n",
    " #       assert self.single_decoder.n_bands == 1, \"Only 1 band supported for now\"\n",
    "\n",
    "        image = torch.zeros(1, size, size)\n",
    "        noiseless_centered = torch.zeros(max_n_sources, 1, size, size)\n",
    "        noiseless_uncentered = torch.zeros(max_n_sources, 1, size, size)\n",
    "\n",
    "        n_sources = int(full_cat.n_sources[0].item())\n",
    "        galaxy_params = full_cat[\"galaxy_params\"][0]\n",
    "        plocs = full_plocs[0]\n",
    "        for ii in range(n_sources):\n",
    "            offset_x = plocs[ii][1] + self.bp - size / 2\n",
    "            offset_y = plocs[ii][0] + self.bp - size / 2\n",
    "            offset = torch.tensor([offset_x, offset_y])\n",
    "            centered = self.single_decoder.render_galaxy(galaxy_params[ii], psf, size)\n",
    "            uncentered = self.single_decoder.render_galaxy(galaxy_params[ii], psf, size, offset, dithers)\n",
    "            noiseless_centered[ii] = centered\n",
    "            noiseless_uncentered[ii] = uncentered\n",
    "            image += uncentered\n",
    "        return image, noiseless_centered, noiseless_uncentered\n",
    "\n",
    "class CoaddGalsimBlends(GalsimBlends):\n",
    "    \"\"\"Dataset of coadd galsim blends.\"\"\"\n",
    "\n",
    "    def __init__(self,\n",
    "        prior: UniformGalsimGalaxiesPrior,\n",
    "        decoder: FullCatalogDecoder,\n",
    "        background: ConstantBackground,\n",
    "        tile_slen: int,\n",
    "        max_sources_per_tile: int,\n",
    "        num_workers: int,\n",
    "        batch_size: int,\n",
    "        n_batches: int,\n",
    "        fix_validation_set: bool = False,\n",
    "        valid_n_batches: Optional[int] = None,\n",
    "    ):\n",
    "        super().__init__(\n",
    "            prior,\n",
    "            decoder,\n",
    "            background,\n",
    "            tile_slen,\n",
    "            max_sources_per_tile,\n",
    "            num_workers,\n",
    "            batch_size,\n",
    "            n_batches,\n",
    "            fix_validation_set,\n",
    "            valid_n_batches,\n",
    "        )\n",
    "        self.prior = prior\n",
    "        self.decoder = decoder\n",
    "        self.n_batches = n_batches\n",
    "        self.batch_size = batch_size\n",
    "        self.num_workers = num_workers\n",
    "        self.background = background\n",
    "        self.fix_validation_set = fix_validation_set\n",
    "        self.valid_n_batches = valid_n_batches\n",
    "        \n",
    "        self.slen = self.decoder.slen\n",
    "        self.pixel_scale = self.decoder.single_decoder.pixel_scale\n",
    "        \n",
    "\n",
    "    def _get_images(self, full_cat, dithers):\n",
    "        noiseless, noiseless_centered, noiseless_uncentered = FullCatalogDecoder.render_catalog(\n",
    "            full_cat, dithers\n",
    "        )\n",
    "\n",
    "        # get background and noisy image.\n",
    "        background = self.background.sample((1, *noiseless.shape)).squeeze(0)\n",
    "        noisy_image = _add_noise_and_background(noiseless, background)\n",
    "\n",
    "        return noisy_image, noiseless, noiseless_centered, noiseless_uncentered, background\n",
    "\n",
    "\n",
    "\n"
   ]
  },
  {
   "cell_type": "code",
   "execution_count": 7,
   "metadata": {},
   "outputs": [],
   "source": [
    "with initialize(config_path=\"../sdss_galaxies/config\"):\n",
    "    cfg = compose(\"config\", overrides=[])"
   ]
  },
  {
   "cell_type": "code",
   "execution_count": 435,
   "metadata": {},
   "outputs": [],
   "source": [
    "prior = instantiate(cfg.datasets.sdss_galaxies.prior) \n",
    "decoder = instantiate(cfg.datasets.sdss_galaxies.decoder)\n",
    "background = instantiate(cfg.datasets.galsim_blended_galaxies.background)\n",
    "tile_slen = 4\n",
    "max_tile_n_sources = 1\n",
    "num_workers = 5\n",
    "n_batches = 1\n",
    "max_n_sources = 1\n",
    "max_shift = 0.5\n",
    "num_dithers = 4\n",
    "mprior = instantiate(cfg.models.prior)\n",
    "tile_catalog = mprior.sample_prior(tile_slen=4, batch_size=3, n_tiles_h=2, n_tiles_w=2)\n",
    "full_catalog = TileCatalog.to_full_params(tile_catalog)"
   ]
  },
  {
   "cell_type": "code",
   "execution_count": 390,
   "metadata": {},
   "outputs": [],
   "source": [
    "# Test CUGGP\n",
    "cuggp = CoaddUniformGalsimGalaxiesPrior(prior, max_n_sources, max_shift, num_dithers)\n"
   ]
  },
  {
   "cell_type": "code",
   "execution_count": 436,
   "metadata": {},
   "outputs": [],
   "source": [
    "cuggprior = cuggp.sample() # does not work if we use galsim_blended_galaxies for prior config\n",
    "n_sources = cuggprior[\"n_sources\"]\n",
    "galaxy_params = cuggprior[\"galaxy_params\"]\n",
    "locs = cuggprior[\"locs\"]\n",
    "galaxy_bools = cuggprior[\"galaxy_bools\"]\n",
    "star_bools = cuggprior[\"star_bools\"]\n",
    "dithers = cuggprior[\"dithers\"]\n",
    "offset = None\n",
    "# psf = galsim.Kolmogorov((700 * 1.e-9) / (0.15 * (700/500)**1.2))\n"
   ]
  },
  {
   "cell_type": "code",
   "execution_count": 393,
   "metadata": {},
   "outputs": [
    {
     "data": {
      "text/plain": [
       "[array([-0.2702024 , -0.30467564], dtype=float32),\n",
       " array([ 0.24369854, -0.4001662 ], dtype=float32),\n",
       " array([-0.16583073, -0.288072  ], dtype=float32),\n",
       " array([-0.3632083 ,  0.28520674], dtype=float32)]"
      ]
     },
     "execution_count": 393,
     "metadata": {},
     "output_type": "execute_result"
    }
   ],
   "source": [
    "dithers"
   ]
  },
  {
   "cell_type": "code",
   "execution_count": 437,
   "metadata": {},
   "outputs": [
    {
     "data": {
      "text/plain": [
       "tensor([[[[0.0511, 0.0542, 0.0575,  ..., 0.0540, 0.0509, 0.0479],\n",
       "          [0.0548, 0.0582, 0.0619,  ..., 0.0580, 0.0545, 0.0512],\n",
       "          [0.0587, 0.0626, 0.0667,  ..., 0.0623, 0.0584, 0.0548],\n",
       "          ...,\n",
       "          [0.0554, 0.0591, 0.0629,  ..., 0.0649, 0.0609, 0.0572],\n",
       "          [0.0518, 0.0551, 0.0586,  ..., 0.0603, 0.0567, 0.0533],\n",
       "          [0.0484, 0.0514, 0.0545,  ..., 0.0560, 0.0528, 0.0498]]],\n",
       "\n",
       "\n",
       "        [[[0.0484, 0.0513, 0.0543,  ..., 0.0530, 0.0500, 0.0472],\n",
       "          [0.0518, 0.0550, 0.0584,  ..., 0.0570, 0.0536, 0.0505],\n",
       "          [0.0555, 0.0591, 0.0629,  ..., 0.0612, 0.0575, 0.0540],\n",
       "          ...,\n",
       "          [0.0562, 0.0600, 0.0640,  ..., 0.0689, 0.0646, 0.0606],\n",
       "          [0.0526, 0.0560, 0.0596,  ..., 0.0639, 0.0601, 0.0564],\n",
       "          [0.0492, 0.0523, 0.0555,  ..., 0.0593, 0.0559, 0.0526]]],\n",
       "\n",
       "\n",
       "        [[[0.0488, 0.0518, 0.0548,  ..., 0.0530, 0.0500, 0.0472],\n",
       "          [0.0523, 0.0555, 0.0590,  ..., 0.0569, 0.0536, 0.0504],\n",
       "          [0.0560, 0.0597, 0.0635,  ..., 0.0612, 0.0575, 0.0540],\n",
       "          ...,\n",
       "          [0.0562, 0.0600, 0.0640,  ..., 0.0682, 0.0640, 0.0600],\n",
       "          [0.0526, 0.0560, 0.0596,  ..., 0.0633, 0.0595, 0.0559],\n",
       "          [0.0492, 0.0523, 0.0555,  ..., 0.0588, 0.0554, 0.0521]]],\n",
       "\n",
       "\n",
       "        [[[0.0504, 0.0535, 0.0567,  ..., 0.0542, 0.0511, 0.0481],\n",
       "          [0.0540, 0.0575, 0.0611,  ..., 0.0582, 0.0547, 0.0514],\n",
       "          [0.0579, 0.0617, 0.0658,  ..., 0.0625, 0.0586, 0.0550],\n",
       "          ...,\n",
       "          [0.0552, 0.0588, 0.0627,  ..., 0.0658, 0.0618, 0.0580],\n",
       "          [0.0516, 0.0549, 0.0584,  ..., 0.0611, 0.0575, 0.0541],\n",
       "          [0.0482, 0.0512, 0.0543,  ..., 0.0568, 0.0535, 0.0505]]]])"
      ]
     },
     "execution_count": 437,
     "metadata": {},
     "output_type": "execute_result"
    }
   ],
   "source": [
    "csgd = CoaddSingleGalaxyDecoder(decoder, n_bands = n_bands, pixel_scale = pixel_scale)\n",
    "csgd.render_galaxy(galaxy_params = galaxy_params[0], slen = decoder.slen, psf = decoder.psf, offset = offset, dithers = dithers)"
   ]
  },
  {
   "cell_type": "code",
   "execution_count": 443,
   "metadata": {},
   "outputs": [],
   "source": [
    "prior = instantiate(cfg.datasets.galsim_blended_galaxies.prior) \n",
    "decoder = instantiate(cfg.datasets.galsim_blended_galaxies.decoder)\n",
    "background = instantiate(cfg.datasets.galsim_blended_galaxies.background)\n",
    "tile_slen = 4\n",
    "max_tile_n_sources = 1\n",
    "num_workers = 5\n",
    "batch_size = 1000\n",
    "n_batches = 1\n",
    "full_catalog = CoaddGalsimBlends(prior = prior, decoder = decoder, background = background, tile_slen = tile_slen, max_sources_per_tile = max_tile_n_sources, num_workers = num_workers, batch_size = batch_size, n_batches = n_batches)._sample_full_catalog()"
   ]
  },
  {
   "cell_type": "code",
   "execution_count": 445,
   "metadata": {},
   "outputs": [
    {
     "ename": "AttributeError",
     "evalue": "'FullCatalogDecoder' object has no attribute 'render_galaxy'",
     "output_type": "error",
     "traceback": [
      "\u001b[0;31m---------------------------------------------------------------------------\u001b[0m",
      "\u001b[0;31mAttributeError\u001b[0m                            Traceback (most recent call last)",
      "\u001b[1;32m/home/wmallory/bliss/case_studies/coadds/test_notebook.ipynb Cell 10\u001b[0m in \u001b[0;36m<cell line: 7>\u001b[0;34m()\u001b[0m\n\u001b[1;32m      <a href='vscode-notebook-cell://ssh-remote%2Bdeeplearning-01.stat.lsa.umich.edu/home/wmallory/bliss/case_studies/coadds/test_notebook.ipynb#ch0000008vscode-remote?line=4'>5</a>\u001b[0m \u001b[39m#csgdecoder = CoaddSingleGalaxyDecoder(decoder, n_bands = n_bands, pixel_scale = pixel_scale)\u001b[39;00m\n\u001b[1;32m      <a href='vscode-notebook-cell://ssh-remote%2Bdeeplearning-01.stat.lsa.umich.edu/home/wmallory/bliss/case_studies/coadds/test_notebook.ipynb#ch0000008vscode-remote?line=5'>6</a>\u001b[0m fcdecoder \u001b[39m=\u001b[39m FullCatalogDecoder(decoder, slen, bp)\n\u001b[0;32m----> <a href='vscode-notebook-cell://ssh-remote%2Bdeeplearning-01.stat.lsa.umich.edu/home/wmallory/bliss/case_studies/coadds/test_notebook.ipynb#ch0000008vscode-remote?line=6'>7</a>\u001b[0m fcdecoder\u001b[39m.\u001b[39;49mrender_catalog(full_catalog, psf, dithers)\n",
      "\u001b[1;32m/home/wmallory/bliss/case_studies/coadds/test_notebook.ipynb Cell 10\u001b[0m in \u001b[0;36mFullCatalogDecoder.render_catalog\u001b[0;34m(self, full_cat, psf, dithers)\u001b[0m\n\u001b[1;32m    <a href='vscode-notebook-cell://ssh-remote%2Bdeeplearning-01.stat.lsa.umich.edu/home/wmallory/bliss/case_studies/coadds/test_notebook.ipynb#ch0000008vscode-remote?line=151'>152</a>\u001b[0m offset_y \u001b[39m=\u001b[39m plocs[ii][\u001b[39m0\u001b[39m] \u001b[39m+\u001b[39m \u001b[39mself\u001b[39m\u001b[39m.\u001b[39mbp \u001b[39m-\u001b[39m size \u001b[39m/\u001b[39m \u001b[39m2\u001b[39m\n\u001b[1;32m    <a href='vscode-notebook-cell://ssh-remote%2Bdeeplearning-01.stat.lsa.umich.edu/home/wmallory/bliss/case_studies/coadds/test_notebook.ipynb#ch0000008vscode-remote?line=152'>153</a>\u001b[0m offset \u001b[39m=\u001b[39m torch\u001b[39m.\u001b[39mtensor([offset_x, offset_y])\n\u001b[0;32m--> <a href='vscode-notebook-cell://ssh-remote%2Bdeeplearning-01.stat.lsa.umich.edu/home/wmallory/bliss/case_studies/coadds/test_notebook.ipynb#ch0000008vscode-remote?line=153'>154</a>\u001b[0m centered \u001b[39m=\u001b[39m \u001b[39mself\u001b[39;49m\u001b[39m.\u001b[39;49msingle_decoder\u001b[39m.\u001b[39;49mrender_galaxy(galaxy_params[ii], psf, size)\n\u001b[1;32m    <a href='vscode-notebook-cell://ssh-remote%2Bdeeplearning-01.stat.lsa.umich.edu/home/wmallory/bliss/case_studies/coadds/test_notebook.ipynb#ch0000008vscode-remote?line=154'>155</a>\u001b[0m uncentered \u001b[39m=\u001b[39m \u001b[39mself\u001b[39m\u001b[39m.\u001b[39msingle_decoder\u001b[39m.\u001b[39mrender_galaxy(galaxy_params[ii], psf, size, offset, dithers)\n\u001b[1;32m    <a href='vscode-notebook-cell://ssh-remote%2Bdeeplearning-01.stat.lsa.umich.edu/home/wmallory/bliss/case_studies/coadds/test_notebook.ipynb#ch0000008vscode-remote?line=155'>156</a>\u001b[0m noiseless_centered[ii] \u001b[39m=\u001b[39m centered\n",
      "\u001b[0;31mAttributeError\u001b[0m: 'FullCatalogDecoder' object has no attribute 'render_galaxy'"
     ]
    }
   ],
   "source": [
    "#decoder = instantiate(cfg.datasets.sdss_galaxies.decoder)\n",
    "#csgd = CoaddSingleGalaxyDecoder(decoder, n_bands = n_bands, pixel_scale = pixel_scale)\n",
    "slen = 40\n",
    "bp = 24\n",
    "#csgdecoder = CoaddSingleGalaxyDecoder(decoder, n_bands = n_bands, pixel_scale = pixel_scale)\n",
    "fcdecoder = FullCatalogDecoder(decoder, slen, bp)\n",
    "fcdecoder.render_catalog(full_catalog, psf, dithers) # Do I need to change the target in config to bliss.case_study.coadd.coadd_decoder?"
   ]
  },
  {
   "cell_type": "code",
   "execution_count": 477,
   "metadata": {},
   "outputs": [],
   "source": [
    "size = decoder.slen + 2 * bp\n",
    "full_plocs = full_catalog.plocs\n",
    "b, max_n_sources, _ = full_plocs.shape\n",
    "\n",
    "image = torch.zeros(1, size, size)\n",
    "noiseless_centered = torch.zeros(max_n_sources, 1, size, size)\n",
    "noiseless_uncentered = torch.zeros(max_n_sources, 1, size, size)\n",
    "\n",
    "n_sources = int(full_catalog.n_sources[0].item())\n",
    "galaxy_params = full_catalog[\"galaxy_params\"][0]\n",
    "plocs = full_plocs[0]"
   ]
  },
  {
   "cell_type": "code",
   "execution_count": 478,
   "metadata": {},
   "outputs": [
    {
     "ename": "AttributeError",
     "evalue": "'Tensor' object has no attribute 'append'",
     "output_type": "error",
     "traceback": [
      "\u001b[0;31m---------------------------------------------------------------------------\u001b[0m",
      "\u001b[0;31mAttributeError\u001b[0m                            Traceback (most recent call last)",
      "\u001b[1;32m/home/wmallory/bliss/case_studies/coadds/test_notebook.ipynb Cell 12\u001b[0m in \u001b[0;36m<cell line: 1>\u001b[0;34m()\u001b[0m\n\u001b[1;32m      <a href='vscode-notebook-cell://ssh-remote%2Bdeeplearning-01.stat.lsa.umich.edu/home/wmallory/bliss/case_studies/coadds/test_notebook.ipynb#ch0000024vscode-remote?line=4'>5</a>\u001b[0m centered \u001b[39m=\u001b[39m csgd\u001b[39m.\u001b[39mrender_galaxy(galaxy_params[ii], psf, size, dithers \u001b[39m=\u001b[39m dithers)\n\u001b[1;32m      <a href='vscode-notebook-cell://ssh-remote%2Bdeeplearning-01.stat.lsa.umich.edu/home/wmallory/bliss/case_studies/coadds/test_notebook.ipynb#ch0000024vscode-remote?line=5'>6</a>\u001b[0m uncentered \u001b[39m=\u001b[39m csgd\u001b[39m.\u001b[39mrender_galaxy(galaxy_params[ii], psf, size, offset, dithers)\n\u001b[0;32m----> <a href='vscode-notebook-cell://ssh-remote%2Bdeeplearning-01.stat.lsa.umich.edu/home/wmallory/bliss/case_studies/coadds/test_notebook.ipynb#ch0000024vscode-remote?line=6'>7</a>\u001b[0m noiseless_centered[ii]\u001b[39m.\u001b[39;49mappend(centered)\n\u001b[1;32m      <a href='vscode-notebook-cell://ssh-remote%2Bdeeplearning-01.stat.lsa.umich.edu/home/wmallory/bliss/case_studies/coadds/test_notebook.ipynb#ch0000024vscode-remote?line=7'>8</a>\u001b[0m noiseless_uncentered[ii]\u001b[39m.\u001b[39mappend(uncentered)\n\u001b[1;32m      <a href='vscode-notebook-cell://ssh-remote%2Bdeeplearning-01.stat.lsa.umich.edu/home/wmallory/bliss/case_studies/coadds/test_notebook.ipynb#ch0000024vscode-remote?line=8'>9</a>\u001b[0m image \u001b[39m+\u001b[39m\u001b[39m=\u001b[39m uncentered\n",
      "\u001b[0;31mAttributeError\u001b[0m: 'Tensor' object has no attribute 'append'"
     ]
    }
   ],
   "source": [
    "for ii in range(n_sources):\n",
    "    offset_x = plocs[ii][1] + bp - size / 2\n",
    "    offset_y = plocs[ii][0] + bp - size / 2\n",
    "    offset = torch.tensor([offset_x, offset_y])\n",
    "    centered = csgd.render_galaxy(galaxy_params[ii], psf, size, dithers = dithers)\n",
    "    uncentered = csgd.render_galaxy(galaxy_params[ii], psf, size, offset, dithers)\n",
    "    noiseless_centered[ii].append(centered)\n",
    "    noiseless_uncentered[ii].append(uncentered)\n",
    "    image += uncentered"
   ]
  },
  {
   "cell_type": "code",
   "execution_count": 484,
   "metadata": {},
   "outputs": [
    {
     "data": {
      "text/plain": [
       "torch.Size([4, 1, 88, 88])"
      ]
     },
     "execution_count": 484,
     "metadata": {},
     "output_type": "execute_result"
    }
   ],
   "source": [
    "centered.shape"
   ]
  },
  {
   "cell_type": "code",
   "execution_count": 481,
   "metadata": {},
   "outputs": [
    {
     "data": {
      "text/plain": [
       "tensor([[[[0., 0., 0.,  ..., 0., 0., 0.],\n",
       "          [0., 0., 0.,  ..., 0., 0., 0.],\n",
       "          [0., 0., 0.,  ..., 0., 0., 0.],\n",
       "          ...,\n",
       "          [0., 0., 0.,  ..., 0., 0., 0.],\n",
       "          [0., 0., 0.,  ..., 0., 0., 0.],\n",
       "          [0., 0., 0.,  ..., 0., 0., 0.]]],\n",
       "\n",
       "\n",
       "        [[[0., 0., 0.,  ..., 0., 0., 0.],\n",
       "          [0., 0., 0.,  ..., 0., 0., 0.],\n",
       "          [0., 0., 0.,  ..., 0., 0., 0.],\n",
       "          ...,\n",
       "          [0., 0., 0.,  ..., 0., 0., 0.],\n",
       "          [0., 0., 0.,  ..., 0., 0., 0.],\n",
       "          [0., 0., 0.,  ..., 0., 0., 0.]]],\n",
       "\n",
       "\n",
       "        [[[0., 0., 0.,  ..., 0., 0., 0.],\n",
       "          [0., 0., 0.,  ..., 0., 0., 0.],\n",
       "          [0., 0., 0.,  ..., 0., 0., 0.],\n",
       "          ...,\n",
       "          [0., 0., 0.,  ..., 0., 0., 0.],\n",
       "          [0., 0., 0.,  ..., 0., 0., 0.],\n",
       "          [0., 0., 0.,  ..., 0., 0., 0.]]],\n",
       "\n",
       "\n",
       "        [[[0., 0., 0.,  ..., 0., 0., 0.],\n",
       "          [0., 0., 0.,  ..., 0., 0., 0.],\n",
       "          [0., 0., 0.,  ..., 0., 0., 0.],\n",
       "          ...,\n",
       "          [0., 0., 0.,  ..., 0., 0., 0.],\n",
       "          [0., 0., 0.,  ..., 0., 0., 0.],\n",
       "          [0., 0., 0.,  ..., 0., 0., 0.]]],\n",
       "\n",
       "\n",
       "        [[[0., 0., 0.,  ..., 0., 0., 0.],\n",
       "          [0., 0., 0.,  ..., 0., 0., 0.],\n",
       "          [0., 0., 0.,  ..., 0., 0., 0.],\n",
       "          ...,\n",
       "          [0., 0., 0.,  ..., 0., 0., 0.],\n",
       "          [0., 0., 0.,  ..., 0., 0., 0.],\n",
       "          [0., 0., 0.,  ..., 0., 0., 0.]]],\n",
       "\n",
       "\n",
       "        [[[0., 0., 0.,  ..., 0., 0., 0.],\n",
       "          [0., 0., 0.,  ..., 0., 0., 0.],\n",
       "          [0., 0., 0.,  ..., 0., 0., 0.],\n",
       "          ...,\n",
       "          [0., 0., 0.,  ..., 0., 0., 0.],\n",
       "          [0., 0., 0.,  ..., 0., 0., 0.],\n",
       "          [0., 0., 0.,  ..., 0., 0., 0.]]]])"
      ]
     },
     "execution_count": 481,
     "metadata": {},
     "output_type": "execute_result"
    }
   ],
   "source": [
    "noiseless_uncentered"
   ]
  },
  {
   "cell_type": "code",
   "execution_count": null,
   "metadata": {},
   "outputs": [],
   "source": []
  },
  {
   "cell_type": "code",
   "execution_count": 432,
   "metadata": {},
   "outputs": [
    {
     "data": {
      "text/plain": [
       "tensor([[[[4.4993e-03, 4.2254e-03, 3.9312e-03,  ..., 1.6100e-05,\n",
       "           1.3888e-05, 1.2526e-05],\n",
       "          [6.6050e-03, 6.2543e-03, 5.8514e-03,  ..., 1.9186e-05,\n",
       "           1.7107e-05, 1.4723e-05],\n",
       "          [9.8669e-03, 9.4827e-03, 8.9483e-03,  ..., 2.3881e-05,\n",
       "           2.0369e-05, 1.8117e-05],\n",
       "          ...,\n",
       "          [1.8091e-05, 2.0349e-05, 2.3861e-05,  ..., 8.9484e-03,\n",
       "           9.4828e-03, 9.8670e-03],\n",
       "          [1.4699e-05, 1.7089e-05, 1.9166e-05,  ..., 5.8514e-03,\n",
       "           6.2544e-03, 6.6050e-03],\n",
       "          [1.2517e-05, 1.3884e-05, 1.6094e-05,  ..., 3.9313e-03,\n",
       "           4.2255e-03, 4.4993e-03]]]])"
      ]
     },
     "execution_count": 432,
     "metadata": {},
     "output_type": "execute_result"
    }
   ],
   "source": [
    "offset = None\n",
    "dithers = None\n",
    "total_flux, disk_frac, beta_radians, disk_q, a_d, bulge_q, a_b = galaxy_params[0]\n",
    "bulge_frac = 1 - disk_frac\n",
    "\n",
    "disk_flux = total_flux * disk_frac\n",
    "bulge_flux = total_flux * bulge_frac\n",
    "\n",
    "components = []\n",
    "if disk_flux > 0:\n",
    "    b_d = a_d * disk_q\n",
    "    disk_hlr_arcsecs = np.sqrt(a_d * b_d)\n",
    "    disk = galsim.Exponential(flux=disk_flux, half_light_radius=disk_hlr_arcsecs).shear(\n",
    "        q=disk_q,\n",
    "        beta=beta_radians * galsim.radians,\n",
    "    )\n",
    "    components.append(disk)\n",
    "if bulge_flux > 0:\n",
    "    b_b = bulge_q * a_b\n",
    "    bulge_hlr_arcsecs = np.sqrt(a_b * b_b)\n",
    "    bulge = galsim.DeVaucouleurs(\n",
    "        flux=bulge_flux, half_light_radius=bulge_hlr_arcsecs\n",
    "    ).shear(q=bulge_q, beta=beta_radians * galsim.radians)\n",
    "    components.append(bulge)\n",
    "galaxy = galsim.Add(components)\n",
    "gal_conv = galsim.Convolution(galaxy, psf)\n",
    "offset = (0,0) if offset is None else offset\n",
    "dithers = (0,0) if dithers is None else dithers\n",
    "shift = torch.add(torch.Tensor(dithers), torch.Tensor(offset))\n",
    "shift = shift.reshape(1,2) if len(shift) == 2 else shift\n",
    "images = []\n",
    "for i in shift:\n",
    "    image = gal_conv.drawImage(\n",
    "        nx=slen, ny=slen, method=\"auto\", scale=pixel_scale, offset=i\n",
    "    )\n",
    "    image = image.array\n",
    "    images.append(image)\n",
    "torch.tensor(images[:]).reshape(len(shift), 1, slen, slen)\n"
   ]
  },
  {
   "cell_type": "code",
   "execution_count": 430,
   "metadata": {},
   "outputs": [
    {
     "data": {
      "text/plain": [
       "4"
      ]
     },
     "execution_count": 430,
     "metadata": {},
     "output_type": "execute_result"
    }
   ],
   "source": [
    "len(shift)"
   ]
  },
  {
   "cell_type": "code",
   "execution_count": 421,
   "metadata": {},
   "outputs": [
    {
     "data": {
      "text/plain": [
       "tensor([[[[0.0030, 0.0033, 0.0037,  ..., 0.3213, 0.3564, 0.3898],\n",
       "          [0.0035, 0.0038, 0.0042,  ..., 0.4145, 0.4537, 0.4878],\n",
       "          [0.0039, 0.0043, 0.0048,  ..., 0.5315, 0.5709, 0.6000],\n",
       "          ...,\n",
       "          [0.6000, 0.5709, 0.5315,  ..., 0.0048, 0.0043, 0.0039],\n",
       "          [0.4878, 0.4537, 0.4145,  ..., 0.0042, 0.0038, 0.0035],\n",
       "          [0.3898, 0.3564, 0.3213,  ..., 0.0037, 0.0033, 0.0030]]]])"
      ]
     },
     "execution_count": 421,
     "metadata": {},
     "output_type": "execute_result"
    }
   ],
   "source": [
    "torch.tensor(images[:]).reshape(1, 1, slen, slen)"
   ]
  },
  {
   "cell_type": "code",
   "execution_count": 381,
   "metadata": {},
   "outputs": [
    {
     "data": {
      "text/plain": [
       "(0, 0)"
      ]
     },
     "execution_count": 381,
     "metadata": {},
     "output_type": "execute_result"
    }
   ],
   "source": [
    "dithers"
   ]
  },
  {
   "cell_type": "code",
   "execution_count": null,
   "metadata": {},
   "outputs": [],
   "source": []
  },
  {
   "cell_type": "code",
   "execution_count": 263,
   "metadata": {},
   "outputs": [
    {
     "ename": "IndexError",
     "evalue": "invalid index of a 0-dim tensor. Use `tensor.item()` in Python or `tensor.item<T>()` in C++ to convert a 0-dim tensor to a number",
     "output_type": "error",
     "traceback": [
      "\u001b[0;31m---------------------------------------------------------------------------\u001b[0m",
      "\u001b[0;31mIndexError\u001b[0m                                Traceback (most recent call last)",
      "\u001b[1;32m/home/wmallory/bliss/case_studies/coadds/test_notebook.ipynb Cell 14\u001b[0m in \u001b[0;36m<cell line: 1>\u001b[0;34m()\u001b[0m\n\u001b[0;32m----> <a href='vscode-notebook-cell://ssh-remote%2Bdeeplearning-01.stat.lsa.umich.edu/home/wmallory/bliss/case_studies/coadds/test_notebook.ipynb#ch0000029vscode-remote?line=0'>1</a>\u001b[0m csgd\u001b[39m.\u001b[39;49mrender_galaxy(galaxy_params \u001b[39m=\u001b[39;49m galaxy_params[\u001b[39m0\u001b[39;49m], slen \u001b[39m=\u001b[39;49m decoder\u001b[39m.\u001b[39;49mslen, psf \u001b[39m=\u001b[39;49m decoder\u001b[39m.\u001b[39;49mpsf, offset \u001b[39m=\u001b[39;49m offset, dithers \u001b[39m=\u001b[39;49m \u001b[39mNone\u001b[39;49;00m)\n",
      "\u001b[1;32m/home/wmallory/bliss/case_studies/coadds/test_notebook.ipynb Cell 14\u001b[0m in \u001b[0;36mCoaddSingleGalaxyDecoder.render_galaxy\u001b[0;34m(self, galaxy_params, psf, slen, offset, dithers)\u001b[0m\n\u001b[1;32m    <a href='vscode-notebook-cell://ssh-remote%2Bdeeplearning-01.stat.lsa.umich.edu/home/wmallory/bliss/case_studies/coadds/test_notebook.ipynb#ch0000029vscode-remote?line=113'>114</a>\u001b[0m images \u001b[39m=\u001b[39m []\n\u001b[1;32m    <a href='vscode-notebook-cell://ssh-remote%2Bdeeplearning-01.stat.lsa.umich.edu/home/wmallory/bliss/case_studies/coadds/test_notebook.ipynb#ch0000029vscode-remote?line=114'>115</a>\u001b[0m \u001b[39mfor\u001b[39;00m i \u001b[39min\u001b[39;00m shift:\n\u001b[0;32m--> <a href='vscode-notebook-cell://ssh-remote%2Bdeeplearning-01.stat.lsa.umich.edu/home/wmallory/bliss/case_studies/coadds/test_notebook.ipynb#ch0000029vscode-remote?line=115'>116</a>\u001b[0m     image \u001b[39m=\u001b[39m gal_conv\u001b[39m.\u001b[39;49mdrawImage(\n\u001b[1;32m    <a href='vscode-notebook-cell://ssh-remote%2Bdeeplearning-01.stat.lsa.umich.edu/home/wmallory/bliss/case_studies/coadds/test_notebook.ipynb#ch0000029vscode-remote?line=116'>117</a>\u001b[0m         nx\u001b[39m=\u001b[39;49mslen, ny\u001b[39m=\u001b[39;49mslen, method\u001b[39m=\u001b[39;49m\u001b[39m\"\u001b[39;49m\u001b[39mauto\u001b[39;49m\u001b[39m\"\u001b[39;49m, scale\u001b[39m=\u001b[39;49m\u001b[39mself\u001b[39;49m\u001b[39m.\u001b[39;49mpixel_scale, offset\u001b[39m=\u001b[39;49mi\n\u001b[1;32m    <a href='vscode-notebook-cell://ssh-remote%2Bdeeplearning-01.stat.lsa.umich.edu/home/wmallory/bliss/case_studies/coadds/test_notebook.ipynb#ch0000029vscode-remote?line=117'>118</a>\u001b[0m     )\n\u001b[1;32m    <a href='vscode-notebook-cell://ssh-remote%2Bdeeplearning-01.stat.lsa.umich.edu/home/wmallory/bliss/case_studies/coadds/test_notebook.ipynb#ch0000029vscode-remote?line=118'>119</a>\u001b[0m     image \u001b[39m=\u001b[39m image\u001b[39m.\u001b[39marray\n\u001b[1;32m    <a href='vscode-notebook-cell://ssh-remote%2Bdeeplearning-01.stat.lsa.umich.edu/home/wmallory/bliss/case_studies/coadds/test_notebook.ipynb#ch0000029vscode-remote?line=119'>120</a>\u001b[0m     images\u001b[39m.\u001b[39mappend(image)\n",
      "File \u001b[0;32m~/.cache/pypoetry/virtualenvs/bliss-z6VjvYh8-py3.8/lib/python3.8/site-packages/galsim/gsobject.py:1707\u001b[0m, in \u001b[0;36mGSObject.drawImage\u001b[0;34m(self, image, nx, ny, bounds, scale, wcs, dtype, method, area, exptime, gain, add_to_image, center, use_true_center, offset, n_photons, rng, max_extra_noise, poisson_flux, sensor, photon_ops, n_subsample, maxN, save_photons, bandpass, setup_only, surface_ops)\u001b[0m\n\u001b[1;32m   1703\u001b[0m wcs \u001b[39m=\u001b[39m \u001b[39mself\u001b[39m\u001b[39m.\u001b[39m_determine_wcs(scale, wcs, image)\n\u001b[1;32m   1705\u001b[0m \u001b[39m# Make sure offset and center are PositionD, converting from other formats (tuple, array,..)\u001b[39;00m\n\u001b[1;32m   1706\u001b[0m \u001b[39m# Note: If None, offset is converted to PositionD(0,0), but center will remain None.\u001b[39;00m\n\u001b[0;32m-> 1707\u001b[0m offset \u001b[39m=\u001b[39m \u001b[39mself\u001b[39;49m\u001b[39m.\u001b[39;49m_parse_offset(offset)\n\u001b[1;32m   1708\u001b[0m center \u001b[39m=\u001b[39m \u001b[39mself\u001b[39m\u001b[39m.\u001b[39m_parse_center(center)\n\u001b[1;32m   1710\u001b[0m \u001b[39m# Determine the bounds of the new image for use below (if it can be known yet)\u001b[39;00m\n",
      "File \u001b[0;32m~/.cache/pypoetry/virtualenvs/bliss-z6VjvYh8-py3.8/lib/python3.8/site-packages/galsim/gsobject.py:1197\u001b[0m, in \u001b[0;36mGSObject._parse_offset\u001b[0;34m(self, offset)\u001b[0m\n\u001b[1;32m   1194\u001b[0m     \u001b[39mreturn\u001b[39;00m _PositionD(offset\u001b[39m.\u001b[39mx, offset\u001b[39m.\u001b[39my)\n\u001b[1;32m   1195\u001b[0m \u001b[39melse\u001b[39;00m:\n\u001b[1;32m   1196\u001b[0m     \u001b[39m# Let python raise the appropriate exception if this isn't valid.\u001b[39;00m\n\u001b[0;32m-> 1197\u001b[0m     \u001b[39mreturn\u001b[39;00m _PositionD(offset[\u001b[39m0\u001b[39;49m], offset[\u001b[39m1\u001b[39m])\n",
      "\u001b[0;31mIndexError\u001b[0m: invalid index of a 0-dim tensor. Use `tensor.item()` in Python or `tensor.item<T>()` in C++ to convert a 0-dim tensor to a number"
     ]
    }
   ],
   "source": [
    "csgd.render_galaxy(galaxy_params = galaxy_params[0], slen = decoder.slen, psf = decoder.psf, offset = offset, dithers = None)"
   ]
  }
 ],
 "metadata": {
  "kernelspec": {
   "display_name": "Python 3.8.10 ('bliss-z6VjvYh8-py3.8')",
   "language": "python",
   "name": "python3"
  },
  "language_info": {
   "codemirror_mode": {
    "name": "ipython",
    "version": 3
   },
   "file_extension": ".py",
   "mimetype": "text/x-python",
   "name": "python",
   "nbconvert_exporter": "python",
   "pygments_lexer": "ipython3",
   "version": "3.8.10"
  },
  "orig_nbformat": 4,
  "vscode": {
   "interpreter": {
    "hash": "42573bf324965e8843cce5661f2b7cff1bd822ab6b918329f3dd4ef295939d5e"
   }
  }
 },
 "nbformat": 4,
 "nbformat_minor": 2
}

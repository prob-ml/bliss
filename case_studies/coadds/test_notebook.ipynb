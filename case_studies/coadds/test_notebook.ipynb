{
 "cells": [
  {
   "cell_type": "code",
   "execution_count": 2,
   "metadata": {},
   "outputs": [],
   "source": [
    "from typing import Dict, List, Optional\n",
    "import matplotlib.pyplot as plt\n",
    "from hydra import compose, initialize\n",
    "from hydra.utils import instantiate\n",
    "import numpy as np\n",
    "import pytorch_lightning as pl\n",
    "import torch\n",
    "from torch import Tensor\n",
    "import torch.nn.functional as F\n",
    "from einops import rearrange\n",
    "from torch.utils.data import DataLoader, Dataset\n",
    "import galsim\n",
    "from bliss.catalog import TileCatalog, get_is_on_from_n_sources, FullCatalog\n",
    "from bliss.datasets.background import ConstantBackground\n",
    "from bliss.datasets.sdss import convert_flux_to_mag\n",
    "from bliss.models.galsim_decoder import (\n",
    "    SingleGalsimGalaxyDecoder,\n",
    "    SingleGalsimGalaxyPrior,\n",
    "    UniformGalsimGalaxiesPrior,\n",
    ")\n",
    "from bliss.datasets.galsim_galaxies import GalsimBlends\n",
    "from case_studies.coadds.signal_noise_ratio import snr\n",
    "from case_studies.coadds.align_single_exposures import align_single_exposures\n"
   ]
  },
  {
   "cell_type": "code",
   "execution_count": 3,
   "metadata": {},
   "outputs": [
    {
     "name": "stdout",
     "output_type": "stream",
     "text": [
      "Modules to reload:\n",
      "all-except-skipped\n",
      "\n",
      "Modules to skip:\n",
      "\n"
     ]
    }
   ],
   "source": [
    "%load_ext autoreload\n",
    "%autoreload 2\n",
    "%aimport\n",
    "%matplotlib inline"
   ]
  },
  {
   "cell_type": "code",
   "execution_count": 3,
   "metadata": {},
   "outputs": [],
   "source": [
    "import numpy as np\n",
    "import matplotlib.pyplot as plt\n",
    "from pathlib import Path\n",
    "from typing import Dict, Optional\n",
    "import galsim\n",
    "import torch\n",
    "import torch.nn.functional as F\n",
    "import pytorch_lightning as pl\n",
    "from torch.utils.data import DataLoader, Dataset\n",
    "from torch import Tensor\n",
    "from einops import rearrange, reduce\n",
    "from bliss.catalog import FullCatalog\n",
    "from bliss.catalog import TileCatalog, get_is_on_from_n_sources\n",
    "from bliss.models.galaxy_net import OneCenteredGalaxyAE\n",
    "from bliss.encoder import Encoder\n",
    "from bliss.datasets.background import ConstantBackground\n",
    "from bliss.datasets.galsim_galaxies import SingleGalsimGalaxies\n",
    "from bliss.models.decoder import GalaxyTileDecoder\n",
    "from bliss.datasets.galsim_galaxies import GalsimBlends\n",
    "from bliss.models.galsim_decoder import (\n",
    "    SingleGalsimGalaxyPrior,\n",
    "    UniformGalsimGalaxiesPrior,\n",
    "    FullCatalogDecoder,\n",
    ")\n",
    "from bliss.catalog import FullCatalog, TileCatalog\n",
    "from bliss.models.decoder import get_mgrid\n",
    "from bliss.models.galsim_decoder import SingleGalsimGalaxyDecoder, load_psf_from_file\n",
    "from case_studies.coadds.align_single_exposures import align_single_exposures\n",
    "from case_studies.coadds.signal_noise_ratio import snr\n",
    "\n",
    "\n",
    "def _sample_n_sources(max_n_sources) -> int:\n",
    "    return int(torch.randint(1, max_n_sources + 1, (1,)).int().item())\n",
    "\n",
    "\n",
    "def _uniform(a, b, n_samples=1) -> Tensor:\n",
    "    # uses pytorch to return a single float ~ U(a, b)\n",
    "    return (a - b) * torch.rand(n_samples) + b\n",
    "\n",
    "\n",
    "def _add_noise_and_background(image: Tensor, background: Tensor) -> Tensor:\n",
    "    image_with_background = image + background\n",
    "    noise = image_with_background.sqrt() * torch.randn_like(image_with_background)\n",
    "    return image_with_background + noise\n",
    "\n",
    "\n",
    "def linear_coadd(aligned_images, cropped_background, weight):\n",
    "    assert torch.tensor(aligned_images).shape == torch.tensor(cropped_background).shape\n",
    "\n",
    "    id = torch.tensor(aligned_images) - cropped_background\n",
    "    num = torch.sum(id / torch.tensor(aligned_images), dim=0)\n",
    "    return num / (torch.sum(weight, dim=0))\n",
    "\n",
    "\n",
    "class CoaddUniformGalsimGalaxiesPrior(UniformGalsimGalaxiesPrior):\n",
    "    def __init__(\n",
    "        self,\n",
    "        single_galaxy_prior: SingleGalsimGalaxyPrior,\n",
    "        max_n_sources: int,\n",
    "        max_shift: float,\n",
    "        num_dithers: int,\n",
    "    ):\n",
    "        super().__init__(\n",
    "            single_galaxy_prior,\n",
    "            max_n_sources,\n",
    "            max_shift,\n",
    "        )\n",
    "\n",
    "    def sample(self, num_dithers: int) -> Dict[str, Tensor]:\n",
    "        \"\"\"Returns a single batch of source parameters.\"\"\"\n",
    "        n_sources = _sample_n_sources(self.max_n_sources)\n",
    "\n",
    "        params = torch.zeros(self.max_n_sources, self.dim_latents)\n",
    "        params[:n_sources, :] = self.single_galaxy_prior.sample(n_sources)\n",
    "\n",
    "        locs = torch.zeros(self.max_n_sources, 2)\n",
    "        locs[:n_sources, 0] = _uniform(-self.max_shift, self.max_shift, n_sources) + 0.5\n",
    "        locs[:n_sources, 1] = _uniform(-self.max_shift, self.max_shift, n_sources) + 0.5\n",
    "\n",
    "        # for now, galaxies only\n",
    "        galaxy_bools = torch.zeros(self.max_n_sources, 1)\n",
    "        galaxy_bools[:n_sources, :] = 1\n",
    "        star_bools = torch.zeros(self.max_n_sources, 1)\n",
    "\n",
    "        dithers = [((-0.5 - 0.5) * torch.rand((2,)) + 0.5).numpy() for x in range(num_dithers)]\n",
    "\n",
    "        return {\n",
    "            \"n_sources\": torch.tensor(n_sources),\n",
    "            \"galaxy_params\": params,\n",
    "            \"locs\": locs,\n",
    "            \"galaxy_bools\": galaxy_bools,\n",
    "            \"star_bools\": star_bools,\n",
    "            \"dithers\": dithers,\n",
    "        }\n",
    "\n",
    "\n",
    "class CoaddSingleGalaxyDecoder(SingleGalsimGalaxyDecoder):\n",
    "    def __init__(\n",
    "        self,\n",
    "        slen: int,\n",
    "        n_bands: int,\n",
    "        pixel_scale: float,\n",
    "        psf_image_file: str,\n",
    "    ):\n",
    "        super().__init__(\n",
    "            slen,\n",
    "            n_bands,\n",
    "            pixel_scale,\n",
    "            psf_image_file,\n",
    "        )\n",
    "        assert n_bands == 1, \"Only 1 band is supported\"\n",
    "        self.slen = slen\n",
    "        self.n_bands = 1\n",
    "        self.pixel_scale = pixel_scale\n",
    "        self.psf = load_psf_from_file(psf_image_file, self.pixel_scale)\n",
    "\n",
    "    def render_galaxy(\n",
    "        self,\n",
    "        galaxy_params: Tensor,\n",
    "        psf: galsim.GSObject,\n",
    "        slen: int,\n",
    "        offset: Optional[Tensor] = None,\n",
    "        dithers: Optional[Tensor] = None,\n",
    "    ) -> Tensor:\n",
    "        assert offset is None or offset.shape == (2,)\n",
    "        if isinstance(galaxy_params, Tensor):\n",
    "            galaxy_params = galaxy_params.cpu().detach()\n",
    "        total_flux, disk_frac, beta_radians, disk_q, a_d, bulge_q, a_b = galaxy_params\n",
    "        bulge_frac = 1 - disk_frac\n",
    "\n",
    "        disk_flux = total_flux * disk_frac\n",
    "        bulge_flux = total_flux * bulge_frac\n",
    "\n",
    "        components = []\n",
    "        if disk_flux > 0:\n",
    "            b_d = a_d * disk_q\n",
    "            disk_hlr_arcsecs = np.sqrt(a_d * b_d)\n",
    "            disk = galsim.Exponential(flux=disk_flux, half_light_radius=disk_hlr_arcsecs).shear(\n",
    "                q=disk_q,\n",
    "                beta=beta_radians * galsim.radians,\n",
    "            )\n",
    "            components.append(disk)\n",
    "        if bulge_flux > 0:\n",
    "            b_b = bulge_q * a_b\n",
    "            bulge_hlr_arcsecs = np.sqrt(a_b * b_b)\n",
    "            bulge = galsim.DeVaucouleurs(\n",
    "                flux=bulge_flux, half_light_radius=bulge_hlr_arcsecs\n",
    "            ).shear(q=bulge_q, beta=beta_radians * galsim.radians)\n",
    "            components.append(bulge)\n",
    "        galaxy = galsim.Add(components)\n",
    "        gal_conv = galsim.Convolution(galaxy, psf)\n",
    "        offset = (0, 0) if offset is None else offset\n",
    "        dithers = (0, 0) if dithers is None else dithers\n",
    "        shift = torch.add(torch.Tensor(dithers), torch.Tensor(offset))\n",
    "        shift = shift.reshape(1, 2) if len(shift) == 2 else shift\n",
    "        images = []\n",
    "        for i in shift:\n",
    "            image = gal_conv.drawImage(\n",
    "                nx=slen, ny=slen, method=\"auto\", scale=self.pixel_scale, offset=i\n",
    "            )\n",
    "            image = image.array\n",
    "            images.append(image)\n",
    "        return torch.tensor(images[:]).reshape(len(shift), 1, slen, slen)\n",
    "\n",
    "\n",
    "class FullCatalogDecoder:\n",
    "    def __init__(\n",
    "        self,\n",
    "        single_galaxy_decoder: CoaddSingleGalaxyDecoder,\n",
    "        slen: int,\n",
    "        bp: int,\n",
    "        dithers: Optional[Tensor],\n",
    "    ) -> None:\n",
    "        self.single_decoder = single_galaxy_decoder\n",
    "        self.slen = slen\n",
    "        self.bp = bp\n",
    "        self.dithers = dithers\n",
    "        assert self.slen + 2 * self.bp >= self.single_decoder.slen\n",
    "\n",
    "    def __call__(self, full_cat: FullCatalog):\n",
    "        return self.render_catalog(full_cat, self.single_decoder.psf, self.dithers)\n",
    "\n",
    "    def render_catalog(\n",
    "        self, full_cat: FullCatalog, psf: galsim.GSObject, dithers: Optional[Tensor]\n",
    "    ):\n",
    "        size = self.slen + 2 * self.bp\n",
    "        full_plocs = full_cat.plocs\n",
    "        b, max_n_sources, _ = full_plocs.shape\n",
    "        assert b == 1, \"Only one batch supported for now.\"\n",
    "        assert self.single_decoder.n_bands == 1, \"Only 1 band supported for now\"\n",
    "\n",
    "        image = torch.zeros(len(dithers), 1, size, size)\n",
    "        image0 = torch.zeros(1, 1, size, size)\n",
    "        noiseless_centered = torch.zeros(len(dithers), max_n_sources, 1, size, size)\n",
    "        noiseless_uncentered = torch.zeros(len(dithers), max_n_sources, 1, size, size)\n",
    "\n",
    "        n_sources = int(full_cat.n_sources[0].item())\n",
    "        galaxy_params = full_cat[\"galaxy_params\"][0]\n",
    "        plocs = full_plocs[0]\n",
    "\n",
    "        for ii in range(n_sources):\n",
    "            offset_x = plocs[ii][1] + self.bp - size / 2\n",
    "            offset_y = plocs[ii][0] + self.bp - size / 2\n",
    "            offset = torch.tensor([offset_x, offset_y])\n",
    "            centered = self.single_decoder.render_galaxy(\n",
    "                galaxy_params[ii], psf, size, dithers=dithers\n",
    "            )\n",
    "            uncentered = self.single_decoder.render_galaxy(galaxy_params[ii], psf, size, offset)\n",
    "            uncentered_dithered = self.single_decoder.render_galaxy(\n",
    "                galaxy_params[ii], psf, size, offset, dithers\n",
    "            )\n",
    "            noiseless_centered[:, ii] = centered.reshape(centered.shape[0], 1, size, size)\n",
    "            noiseless_uncentered[:, ii] = uncentered.reshape(uncentered.shape[0], 1, size, size)\n",
    "            image0 += uncentered\n",
    "            image += uncentered_dithered\n",
    "        return image, noiseless_centered, noiseless_uncentered, image0\n",
    "\n",
    "\n",
    "class CoaddGalsimBlends(GalsimBlends):\n",
    "    \"\"\"Dataset of coadd galsim blends.\"\"\"\n",
    "\n",
    "    def __init__(\n",
    "        self,\n",
    "        prior: UniformGalsimGalaxiesPrior,\n",
    "        decoder: FullCatalogDecoder,\n",
    "        background: ConstantBackground,\n",
    "        tile_slen: int,\n",
    "        max_sources_per_tile: int,\n",
    "        num_workers: int,\n",
    "        batch_size: int,\n",
    "        n_batches: int,\n",
    "        fix_validation_set: bool = False,\n",
    "        valid_n_batches: Optional[int] = None,\n",
    "    ):\n",
    "        super().__init__(\n",
    "            prior,\n",
    "            decoder,\n",
    "            background,\n",
    "            tile_slen,\n",
    "            max_sources_per_tile,\n",
    "            num_workers,\n",
    "            batch_size,\n",
    "            n_batches,\n",
    "            fix_validation_set,\n",
    "            valid_n_batches,\n",
    "        )\n",
    "        self.slen = self.decoder.slen\n",
    "        self.pixel_scale = self.decoder.single_decoder.pixel_scale\n",
    "\n",
    "    def _get_images(self, full_cat, dithers):\n",
    "        size = self.slen + 2 * self.bp  # check bp gets passed through\n",
    "        (\n",
    "            noiseless,\n",
    "            noiseless_centered,\n",
    "            noiseless_uncentered,\n",
    "            image0,\n",
    "        ) = self.decoder.render_catalog(full_cat = full_cat, psf = self.decoder.single_decoder.psf, dithers = dithers)\n",
    "\n",
    "        # align single exposures\n",
    "        aligned_images = align_single_exposures(\n",
    "            image0[:].reshape(size, size), noiseless, size, dithers\n",
    "        )\n",
    "\n",
    "        # calculate weights\n",
    "        weight = 1 / torch.tensor(aligned_images)\n",
    "\n",
    "        # get background and noisy image.\n",
    "        background = (\n",
    "            self.background.sample((1, *aligned_images.reshape(len(dithers), size, size).shape))\n",
    "            .squeeze(0)\n",
    "            .reshape(len(dithers), 1, size, size)\n",
    "        )\n",
    "        noisy_aligned_image = _add_noise_and_background(aligned_images, background)\n",
    "\n",
    "        # get snr\n",
    "        bg = background[:, :, 1 : size - 1, 1 : size - 1]\n",
    "        img = noisy_aligned_image.reshape(len(dithers), 1, size - 2, size - 2)\n",
    "        snr_images = snr(img, bg)\n",
    "\n",
    "        # coadd images\n",
    "        cropped_background = background.reshape(len(dithers), size, size)[\n",
    "            :, 1 : size - 1, 1 : size - 1\n",
    "        ]\n",
    "        coadded_image = linear_coadd(noisy_aligned_image, cropped_background, weight)\n",
    "\n",
    "        return (\n",
    "            noiseless,\n",
    "            noiseless_centered,\n",
    "            noiseless_uncentered,\n",
    "            background,\n",
    "            snr_images,\n",
    "            coadded_image,\n",
    "        )\n",
    "\n",
    "    def _add_metrics(\n",
    "        self,\n",
    "        full_cat: FullCatalog,\n",
    "        noiseless: Tensor,\n",
    "        background: Tensor,\n",
    "        snr_images: Tensor,\n",
    "        coadded_image: Tensor,\n",
    "    ):\n",
    "        full_cat[\"coadded_images\"] = coadded_image\n",
    "        full_cat[\"snr_images\"] = snr_images\n",
    "        full_cat[\"noiseless\"] = noiseless\n",
    "        full_cat[\"background\"] = background\n",
    "\n",
    "        return full_cat\n",
    "\n",
    "    def __getitem__(self, idx):\n",
    "        full_cat = self._sample_full_catalog()\n",
    "        noiseless, noiseless_centered, noiseless_uncentered, background, snr_images, coadded_image = self._get_images(full_cat)\n",
    "        full_cat = self._add_metrics(full_cat, noiseless, background, snr_images, coadded_image)\n",
    "        return {\"noiseless\": noiseless, \"background\": background, \"snr_images\": snr_images, \"coadded_image\": coadded_image}"
   ]
  },
  {
   "cell_type": "code",
   "execution_count": null,
   "metadata": {},
   "outputs": [],
   "source": [
    "#############################"
   ]
  },
  {
   "cell_type": "code",
   "execution_count": 4,
   "metadata": {},
   "outputs": [],
   "source": [
    "with initialize(config_path=\"../sdss_galaxies/config\"):\n",
    "    cfg = compose(\"config\", overrides=[])"
   ]
  },
  {
   "cell_type": "code",
   "execution_count": 5,
   "metadata": {},
   "outputs": [],
   "source": [
    "prior = instantiate(cfg.datasets.sdss_galaxies.prior)\n",
    "decoder = instantiate(cfg.datasets.sdss_galaxies.decoder)\n",
    "background = instantiate(cfg.datasets.galsim_blended_galaxies.background)\n",
    "tile_slen = 4\n",
    "max_tile_n_sources = 1\n",
    "num_workers = 5\n",
    "n_batches = 1\n",
    "max_n_sources = 1\n",
    "max_shift = 0.5\n",
    "num_dithers = 4\n",
    "mprior = instantiate(cfg.models.prior)\n",
    "tile_catalog = mprior.sample_prior(tile_slen=4, batch_size=3, n_tiles_h=2, n_tiles_w=2)\n",
    "full_catalog = TileCatalog.to_full_params(tile_catalog)"
   ]
  },
  {
   "cell_type": "code",
   "execution_count": 6,
   "metadata": {},
   "outputs": [],
   "source": [
    "# Test CUGGP\n",
    "cuggp = CoaddUniformGalsimGalaxiesPrior(prior, max_n_sources, max_shift, num_dithers)"
   ]
  },
  {
   "cell_type": "code",
   "execution_count": 8,
   "metadata": {},
   "outputs": [],
   "source": [
    "pixel_scale = 0.393\n",
    "cuggprior = cuggp.sample(num_dithers)  # does not work if we use galsim_blended_galaxies for prior config\n",
    "n_sources = cuggprior[\"n_sources\"]\n",
    "galaxy_params = cuggprior[\"galaxy_params\"]\n",
    "locs = cuggprior[\"locs\"]\n",
    "galaxy_bools = cuggprior[\"galaxy_bools\"]\n",
    "star_bools = cuggprior[\"star_bools\"]\n",
    "dithers = cuggprior[\"dithers\"]\n",
    "offset = None\n",
    "psf = decoder.psf"
   ]
  },
  {
   "cell_type": "code",
   "execution_count": 11,
   "metadata": {},
   "outputs": [
    {
     "name": "stderr",
     "output_type": "stream",
     "text": [
      "/tmp/ipykernel_370409/1262111034.py:154: UserWarning: Creating a tensor from a list of numpy.ndarrays is extremely slow. Please consider converting the list to a single numpy.ndarray with numpy.array() before converting to a tensor. (Triggered internally at  ../torch/csrc/utils/tensor_new.cpp:210.)\n",
      "  shift = torch.add(torch.Tensor(dithers), torch.Tensor(offset))\n"
     ]
    },
    {
     "data": {
      "text/plain": [
       "tensor([[[[7.0388e-05, 7.1663e-05, 7.2780e-05,  ..., 2.0875e-04,\n",
       "           2.1204e-04, 2.1567e-04],\n",
       "          [8.2380e-05, 8.4635e-05, 8.7183e-05,  ..., 2.5205e-04,\n",
       "           2.5723e-04, 2.6212e-04],\n",
       "          [9.6487e-05, 9.8549e-05, 1.0046e-04,  ..., 3.0839e-04,\n",
       "           3.1360e-04, 3.1918e-04],\n",
       "          ...,\n",
       "          [3.1087e-04, 3.0561e-04, 3.0070e-04,  ..., 9.8665e-05,\n",
       "           9.6775e-05, 9.4688e-05],\n",
       "          [2.5509e-04, 2.5020e-04, 2.4504e-04,  ..., 8.5076e-05,\n",
       "           8.2625e-05, 8.0505e-05],\n",
       "          [2.1051e-04, 2.0712e-04, 2.0403e-04,  ..., 7.1629e-05,\n",
       "           7.0507e-05, 6.9188e-05]]],\n",
       "\n",
       "\n",
       "        [[[6.8095e-05, 6.9569e-05, 7.0807e-05,  ..., 1.9836e-04,\n",
       "           2.0137e-04, 2.0459e-04],\n",
       "          [7.8673e-05, 8.0645e-05, 8.2962e-05,  ..., 2.3748e-04,\n",
       "           2.4239e-04, 2.4711e-04],\n",
       "          [9.2999e-05, 9.5185e-05, 9.7118e-05,  ..., 2.9169e-04,\n",
       "           2.9642e-04, 3.0140e-04],\n",
       "          ...,\n",
       "          [3.2920e-04, 3.2320e-04, 3.1758e-04,  ..., 1.0278e-04,\n",
       "           1.0069e-04, 9.8526e-05],\n",
       "          [2.7045e-04, 2.6562e-04, 2.6049e-04,  ..., 8.9293e-05,\n",
       "           8.6759e-05, 8.4418e-05],\n",
       "          [2.2174e-04, 2.1781e-04, 2.1423e-04,  ..., 7.4467e-05,\n",
       "           7.3169e-05, 7.1779e-05]]],\n",
       "\n",
       "\n",
       "        [[[6.5543e-05, 6.7171e-05, 6.8726e-05,  ..., 1.9009e-04,\n",
       "           1.9312e-04, 1.9618e-04],\n",
       "          [7.5406e-05, 7.6992e-05, 7.8755e-05,  ..., 2.2682e-04,\n",
       "           2.3132e-04, 2.3585e-04],\n",
       "          [8.9373e-05, 9.1720e-05, 9.3993e-05,  ..., 2.7865e-04,\n",
       "           2.8336e-04, 2.8810e-04],\n",
       "          ...,\n",
       "          [3.4528e-04, 3.3865e-04, 3.3212e-04,  ..., 1.0715e-04,\n",
       "           1.0465e-04, 1.0230e-04],\n",
       "          [2.8312e-04, 2.7840e-04, 2.7361e-04,  ..., 9.2731e-05,\n",
       "           9.0331e-05, 8.7941e-05],\n",
       "          [2.3170e-04, 2.2732e-04, 2.2306e-04,  ..., 7.7384e-05,\n",
       "           7.5786e-05, 7.4288e-05]]],\n",
       "\n",
       "\n",
       "        [[[7.4939e-05, 7.6443e-05, 7.8113e-05,  ..., 2.2429e-04,\n",
       "           2.2863e-04, 2.3302e-04],\n",
       "          [8.8963e-05, 9.1400e-05, 9.3771e-05,  ..., 2.7479e-04,\n",
       "           2.7956e-04, 2.8434e-04],\n",
       "          [1.0327e-04, 1.0563e-04, 1.0820e-04,  ..., 3.3373e-04,\n",
       "           3.4033e-04, 3.4695e-04],\n",
       "          ...,\n",
       "          [2.8687e-04, 2.8213e-04, 2.7736e-04,  ..., 9.3458e-05,\n",
       "           9.1133e-05, 8.8799e-05],\n",
       "          [2.3463e-04, 2.3002e-04, 2.2552e-04,  ..., 7.8392e-05,\n",
       "           7.6691e-05, 7.5090e-05],\n",
       "          [1.9546e-04, 1.9241e-04, 1.8932e-04,  ..., 6.8382e-05,\n",
       "           6.6767e-05, 6.5142e-05]]]])"
      ]
     },
     "execution_count": 11,
     "metadata": {},
     "output_type": "execute_result"
    }
   ],
   "source": [
    "csgd = CoaddSingleGalaxyDecoder(decoder, n_bands=1, pixel_scale=pixel_scale, psf_image_file=\"./data/sdss/psField-000094-1-0012-PSF-image.npy\")\n",
    "csgd.render_galaxy(\n",
    "    galaxy_params=galaxy_params[0],\n",
    "    slen=decoder.slen,\n",
    "    psf=decoder.psf,\n",
    "    offset=offset,\n",
    "    dithers=dithers,\n",
    ")"
   ]
  },
  {
   "cell_type": "code",
   "execution_count": 12,
   "metadata": {},
   "outputs": [],
   "source": [
    "prior = instantiate(cfg.datasets.galsim_blended_galaxies.prior)\n",
    "decoder = instantiate(cfg.datasets.galsim_blended_galaxies.decoder)\n",
    "background = instantiate(cfg.datasets.galsim_blended_galaxies.background)\n",
    "tile_slen = 4\n",
    "max_tile_n_sources = 1\n",
    "num_workers = 5\n",
    "batch_size = 1000\n",
    "n_batches = 1\n",
    "full_catalog = CoaddGalsimBlends(\n",
    "    prior=prior,\n",
    "    decoder=decoder,\n",
    "    background=background,\n",
    "    tile_slen=tile_slen,\n",
    "    max_sources_per_tile=max_tile_n_sources,\n",
    "    num_workers=num_workers,\n",
    "    batch_size=batch_size,\n",
    "    n_batches=n_batches,\n",
    ")._sample_full_catalog()"
   ]
  },
  {
   "cell_type": "code",
   "execution_count": 16,
   "metadata": {},
   "outputs": [
    {
     "ename": "AttributeError",
     "evalue": "'FullCatalogDecoder' object has no attribute 'n_bands'",
     "output_type": "error",
     "traceback": [
      "\u001b[0;31m---------------------------------------------------------------------------\u001b[0m",
      "\u001b[0;31mAttributeError\u001b[0m                            Traceback (most recent call last)",
      "\u001b[1;32m/home/wmallory/bliss/case_studies/coadds/test_notebook.ipynb Cell 11\u001b[0m in \u001b[0;36m<cell line: 4>\u001b[0;34m()\u001b[0m\n\u001b[1;32m      <a href='vscode-notebook-cell://ssh-remote%2Bdeeplearning-01.stat.lsa.umich.edu/home/wmallory/bliss/case_studies/coadds/test_notebook.ipynb#ch0000012vscode-remote?line=1'>2</a>\u001b[0m bp \u001b[39m=\u001b[39m \u001b[39m24\u001b[39m\n\u001b[1;32m      <a href='vscode-notebook-cell://ssh-remote%2Bdeeplearning-01.stat.lsa.umich.edu/home/wmallory/bliss/case_studies/coadds/test_notebook.ipynb#ch0000012vscode-remote?line=2'>3</a>\u001b[0m fcdecoder \u001b[39m=\u001b[39m FullCatalogDecoder(decoder, slen, bp, dithers)\n\u001b[0;32m----> <a href='vscode-notebook-cell://ssh-remote%2Bdeeplearning-01.stat.lsa.umich.edu/home/wmallory/bliss/case_studies/coadds/test_notebook.ipynb#ch0000012vscode-remote?line=3'>4</a>\u001b[0m fcdecoder\u001b[39m.\u001b[39;49mrender_catalog(\n\u001b[1;32m      <a href='vscode-notebook-cell://ssh-remote%2Bdeeplearning-01.stat.lsa.umich.edu/home/wmallory/bliss/case_studies/coadds/test_notebook.ipynb#ch0000012vscode-remote?line=4'>5</a>\u001b[0m     full_catalog, psf, dithers\n\u001b[1;32m      <a href='vscode-notebook-cell://ssh-remote%2Bdeeplearning-01.stat.lsa.umich.edu/home/wmallory/bliss/case_studies/coadds/test_notebook.ipynb#ch0000012vscode-remote?line=5'>6</a>\u001b[0m )\n",
      "\u001b[1;32m/home/wmallory/bliss/case_studies/coadds/test_notebook.ipynb Cell 11\u001b[0m in \u001b[0;36mFullCatalogDecoder.render_catalog\u001b[0;34m(self, full_cat, psf, dithers)\u001b[0m\n\u001b[1;32m    <a href='vscode-notebook-cell://ssh-remote%2Bdeeplearning-01.stat.lsa.umich.edu/home/wmallory/bliss/case_studies/coadds/test_notebook.ipynb#ch0000012vscode-remote?line=187'>188</a>\u001b[0m b, max_n_sources, _ \u001b[39m=\u001b[39m full_plocs\u001b[39m.\u001b[39mshape\n\u001b[1;32m    <a href='vscode-notebook-cell://ssh-remote%2Bdeeplearning-01.stat.lsa.umich.edu/home/wmallory/bliss/case_studies/coadds/test_notebook.ipynb#ch0000012vscode-remote?line=188'>189</a>\u001b[0m \u001b[39massert\u001b[39;00m b \u001b[39m==\u001b[39m \u001b[39m1\u001b[39m, \u001b[39m\"\u001b[39m\u001b[39mOnly one batch supported for now.\u001b[39m\u001b[39m\"\u001b[39m\n\u001b[0;32m--> <a href='vscode-notebook-cell://ssh-remote%2Bdeeplearning-01.stat.lsa.umich.edu/home/wmallory/bliss/case_studies/coadds/test_notebook.ipynb#ch0000012vscode-remote?line=189'>190</a>\u001b[0m \u001b[39massert\u001b[39;00m \u001b[39mself\u001b[39;49m\u001b[39m.\u001b[39;49msingle_decoder\u001b[39m.\u001b[39;49mn_bands \u001b[39m==\u001b[39m \u001b[39m1\u001b[39m, \u001b[39m\"\u001b[39m\u001b[39mOnly 1 band supported for now\u001b[39m\u001b[39m\"\u001b[39m\n\u001b[1;32m    <a href='vscode-notebook-cell://ssh-remote%2Bdeeplearning-01.stat.lsa.umich.edu/home/wmallory/bliss/case_studies/coadds/test_notebook.ipynb#ch0000012vscode-remote?line=191'>192</a>\u001b[0m image \u001b[39m=\u001b[39m torch\u001b[39m.\u001b[39mzeros(\u001b[39mlen\u001b[39m(dithers), \u001b[39m1\u001b[39m, size, size)\n\u001b[1;32m    <a href='vscode-notebook-cell://ssh-remote%2Bdeeplearning-01.stat.lsa.umich.edu/home/wmallory/bliss/case_studies/coadds/test_notebook.ipynb#ch0000012vscode-remote?line=192'>193</a>\u001b[0m image0 \u001b[39m=\u001b[39m torch\u001b[39m.\u001b[39mzeros(\u001b[39m1\u001b[39m, \u001b[39m1\u001b[39m, size, size)\n",
      "\u001b[0;31mAttributeError\u001b[0m: 'FullCatalogDecoder' object has no attribute 'n_bands'"
     ]
    }
   ],
   "source": [
    "slen = 40\n",
    "bp = 24\n",
    "fcdecoder = FullCatalogDecoder(decoder, slen, bp, dithers)\n",
    "fcdecoder.render_catalog(\n",
    "    full_catalog, psf, dithers\n",
    ")  # Do I need to change the target in config to bliss.case_study.coadd.coadd_decoder?"
   ]
  },
  {
   "cell_type": "code",
   "execution_count": 48,
   "metadata": {},
   "outputs": [
    {
     "data": {
      "text/plain": [
       "[array([ 0.2863866, -0.2431587], dtype=float32),\n",
       " array([0.45234668, 0.29335123], dtype=float32),\n",
       " array([0.26052737, 0.14739156], dtype=float32),\n",
       " array([-0.45585835,  0.38580644], dtype=float32)]"
      ]
     },
     "execution_count": 48,
     "metadata": {},
     "output_type": "execute_result"
    }
   ],
   "source": [
    "dithers"
   ]
  },
  {
   "cell_type": "code",
   "execution_count": 61,
   "metadata": {},
   "outputs": [
    {
     "data": {
      "text/plain": [
       "tensor([[[[ 1.1793,  1.6958,  2.4634,  3.4592,  4.4005,  4.8759,  4.7420,\n",
       "            4.2210,  3.5967],\n",
       "          [ 1.8785,  2.9511,  4.7746,  7.2810,  9.5057, 10.1503,  8.9974,\n",
       "            7.0495,  5.2763],\n",
       "          [ 2.9133,  4.9548,  8.6741, 13.8458, 18.1251, 18.6036, 15.1922,\n",
       "           10.5678,  6.9345],\n",
       "          [ 4.1362,  7.2620, 13.0021, 20.8280, 26.8450, 26.6023, 20.4743,\n",
       "           13.0587,  7.7308],\n",
       "          [ 5.0832,  8.6812, 15.0338, 23.3245, 29.1798, 28.0214, 20.7537,\n",
       "           12.5972,  7.0464],\n",
       "          [ 5.2786,  8.3288, 13.2848, 19.3080, 23.0901, 21.5138, 15.6202,\n",
       "            9.3795,  5.2418],\n",
       "          [ 4.6715,  6.5889,  9.3128, 12.2618, 13.7591, 12.4379,  9.0418,\n",
       "            5.6158,  3.3293],\n",
       "          [ 3.6297,  4.5435,  5.6024,  6.5312,  6.7681,  5.9558,  4.4552,\n",
       "            2.9956,  1.9670],\n",
       "          [ 2.5708,  2.9065,  3.1882,  3.3267,  3.2029,  2.7798,  2.1867,\n",
       "            1.6163,  1.1699]]],\n",
       "\n",
       "\n",
       "        [[[ 0.8828,  1.2061,  1.6308,  2.1284,  2.5862,  2.8624,  2.9043,\n",
       "            2.7672,  2.5326],\n",
       "          [ 1.4178,  2.0900,  3.1104,  4.3923,  5.4793,  5.8455,  5.4364,\n",
       "            4.6425,  3.8254],\n",
       "          [ 2.2870,  3.7117,  6.1233,  9.2400, 11.6295, 11.8042,  9.9195,\n",
       "            7.4191,  5.3655],\n",
       "          [ 3.5361,  6.1693, 10.8254, 16.7968, 20.9444, 20.3072, 15.6873,\n",
       "           10.4320,  6.6520],\n",
       "          [ 4.8852,  8.6653, 15.2940, 23.5351, 28.7144, 26.8196, 19.5444,\n",
       "           11.9737,  6.9562],\n",
       "          [ 5.7280,  9.7308, 16.4143, 24.3036, 28.7065, 25.9919, 18.2908,\n",
       "           10.7488,  5.9792],\n",
       "          [ 5.6234,  8.7134, 13.4267, 18.5594, 20.9530, 18.4639, 12.8318,\n",
       "            7.5576,  4.2709],\n",
       "          [ 4.7104,  6.4680,  8.7895, 10.9992, 11.6851, 10.0639,  7.0975,\n",
       "            4.4041,  2.6806],\n",
       "          [ 3.4946,  4.2478,  5.0412,  5.6133,  5.5554,  4.7214,  3.4884,\n",
       "            2.3789,  1.6070]]],\n",
       "\n",
       "\n",
       "        [[[ 1.1914,  1.7195,  2.5133,  3.5586,  4.5631,  5.0810,  4.9429,\n",
       "            4.3831,  3.7142],\n",
       "          [ 1.8912,  2.9793,  4.8492,  7.4616,  9.8348, 10.5772,  9.3981,\n",
       "            7.3383,  5.4532],\n",
       "          [ 2.9147,  4.9574,  8.7136, 14.0253, 18.5483, 19.2144, 15.7770,\n",
       "           10.9675,  7.1509],\n",
       "          [ 4.1040,  7.1822, 12.8772, 20.7722, 27.0457, 27.0818, 21.0096,\n",
       "           13.4353,  7.9227],\n",
       "          [ 5.0025,  8.4917, 14.6825, 22.8907, 28.9029, 28.0540, 20.9747,\n",
       "           12.7983,  7.1524],\n",
       "          [ 5.1617,  8.0812, 12.8312, 18.6846, 22.5103, 21.1864, 15.5377,\n",
       "            9.3965,  5.2620],\n",
       "          [ 4.5506,  6.3681,  8.9420, 11.7576, 13.2542, 12.0851,  8.8729,\n",
       "            5.5570,  3.3096],\n",
       "          [ 3.5303,  4.3917,  5.3818,  6.2537,  6.4925,  5.7505,  4.3403,\n",
       "            2.9432,  1.9438],\n",
       "          [ 2.5003,  2.8160,  3.0772,  3.2034,  3.0869,  2.6913,  2.1315,\n",
       "            1.5860,  1.1535]]],\n",
       "\n",
       "\n",
       "        [[[ 1.0857,  1.5032,  2.0534,  2.6642,  3.1520,  3.3527,  3.2648,\n",
       "            3.0026,  2.6698],\n",
       "          [ 1.7895,  2.7170,  4.1009,  5.6736,  6.7281,  6.7370,  5.9074,\n",
       "            4.8253,  3.8556],\n",
       "          [ 2.9571,  4.9653,  8.1863, 11.8098, 13.8182, 12.9410, 10.1357,\n",
       "            7.2255,  5.0912],\n",
       "          [ 4.5768,  8.1687, 14.0287, 20.4185, 23.3598, 20.7099, 14.8235,\n",
       "            9.3960,  5.8901],\n",
       "          [ 6.1319, 10.9513, 18.6394, 26.6467, 29.6617, 25.2490, 17.0262,\n",
       "            9.9747,  5.7625],\n",
       "          [ 6.8025, 11.4752, 18.5280, 25.4170, 27.3820, 22.6278, 14.7941,\n",
       "            8.3870,  4.7064],\n",
       "          [ 6.2415,  9.4956, 13.9678, 17.9301, 18.5455, 15.0210,  9.8119,\n",
       "            5.6683,  3.2836],\n",
       "          [ 4.8883,  6.5340,  8.4778,  9.9204,  9.7589,  7.8436,  5.3094,\n",
       "            3.3012,  2.0784],\n",
       "          [ 3.4275,  4.0415,  4.5995,  4.8509,  4.5309,  3.6800,  2.6730,\n",
       "            1.8475,  1.2807]]]])"
      ]
     },
     "execution_count": 61,
     "metadata": {},
     "output_type": "execute_result"
    }
   ],
   "source": [
    "total_flux, disk_frac, beta_radians, disk_q, a_d, bulge_q, a_b = galaxy_params[0]\n",
    "bulge_frac = 1 - disk_frac\n",
    "\n",
    "disk_flux = total_flux * disk_frac\n",
    "bulge_flux = total_flux * bulge_frac\n",
    "\n",
    "components = []\n",
    "if disk_flux > 0:\n",
    "    b_d = a_d * disk_q\n",
    "    disk_hlr_arcsecs = np.sqrt(a_d * b_d)\n",
    "    disk = galsim.Exponential(flux=disk_flux, half_light_radius=disk_hlr_arcsecs).shear(\n",
    "        q=disk_q,\n",
    "        beta=beta_radians * galsim.radians,\n",
    "    )\n",
    "    components.append(disk)\n",
    "if bulge_flux > 0:\n",
    "    b_b = bulge_q * a_b\n",
    "    bulge_hlr_arcsecs = np.sqrt(a_b * b_b)\n",
    "    bulge = galsim.DeVaucouleurs(flux=bulge_flux, half_light_radius=bulge_hlr_arcsecs).shear(\n",
    "        q=bulge_q, beta=beta_radians * galsim.radians\n",
    "    )\n",
    "    components.append(bulge)\n",
    "galaxy = galsim.Add(components)\n",
    "gal_conv = galsim.Convolution(galaxy, psf)\n",
    "offset = (0, 0) if offset is None else offset\n",
    "dithers = (0, 0) if dithers is None else dithers\n",
    "shift = torch.add(torch.Tensor(dithers), torch.Tensor(offset))\n",
    "shift = shift.reshape(1, 2) if len(shift) == 2 else shift\n",
    "images = []\n",
    "for i in shift:\n",
    "    image = gal_conv.drawImage(nx=slen, ny=slen, method=\"auto\", scale=pixel_scale, offset=i)\n",
    "    image = image.array\n",
    "    images.append(image)\n",
    "torch.tensor(images[:]).reshape(len(shift), 1, slen, slen)"
   ]
  },
  {
   "cell_type": "code",
   "execution_count": 17,
   "metadata": {},
   "outputs": [],
   "source": [
    "size = decoder.slen + 2 * bp\n",
    "full_plocs = full_catalog.plocs\n",
    "b, max_n_sources, _ = full_plocs.shape\n",
    "\n",
    "image = torch.zeros(len(dithers), 1, size, size)\n",
    "noiseless_centered = torch.zeros(max_n_sources, len(dithers), size, size)\n",
    "noiseless_uncentered = torch.zeros(max_n_sources, len(dithers), size, size)\n",
    "\n",
    "n_sources = int(full_catalog.n_sources[0].item())\n",
    "galaxy_params = full_catalog[\"galaxy_params\"][0]\n",
    "plocs = full_plocs[0]\n",
    "\n",
    "for ii in range(n_sources):\n",
    "    offset_x = plocs[ii][1] + bp - size / 2\n",
    "    offset_y = plocs[ii][0] + bp - size / 2\n",
    "    offset = torch.tensor([offset_x, offset_y])\n",
    "    centered = csgd.render_galaxy(galaxy_params[ii], psf, size, dithers=dithers)\n",
    "    uncentered = csgd.render_galaxy(galaxy_params[ii], psf, size, offset, dithers)\n",
    "    noiseless_centered[ii] = centered.reshape(centered.shape[0], size, size)\n",
    "    noiseless_uncentered[ii] = uncentered.reshape(uncentered.shape[0], size, size)\n",
    "    image += uncentered"
   ]
  },
  {
   "cell_type": "code",
   "execution_count": 20,
   "metadata": {},
   "outputs": [
    {
     "data": {
      "text/plain": [
       "<matplotlib.image.AxesImage at 0x7f3f40ec5790>"
      ]
     },
     "execution_count": 20,
     "metadata": {},
     "output_type": "execute_result"
    },
    {
     "data": {
      "image/png": "[encoded data removed]",
      "text/plain": [
       "<Figure size 432x288 with 1 Axes>"
      ]
     },
     "metadata": {
      "needs_background": "light"
     },
     "output_type": "display_data"
    }
   ],
   "source": [
    "plt.imshow(image[2].reshape(image[2].shape[1], image[2].shape[2]).numpy())"
   ]
  },
  {
   "cell_type": "code",
   "execution_count": 66,
   "metadata": {},
   "outputs": [
    {
     "data": {
      "text/plain": [
       "torch.Size([4, 88, 88])"
      ]
     },
     "execution_count": 66,
     "metadata": {},
     "output_type": "execute_result"
    }
   ],
   "source": [
    "centered.reshape(centered.shape[0], size, size).shape"
   ]
  },
  {
   "cell_type": "code",
   "execution_count": 29,
   "metadata": {},
   "outputs": [
    {
     "data": {
      "text/plain": [
       "torch.Size([6, 4, 88, 88])"
      ]
     },
     "execution_count": 29,
     "metadata": {},
     "output_type": "execute_result"
    }
   ],
   "source": [
    "noiseless_uncentered.shape"
   ]
  },
  {
   "cell_type": "code",
   "execution_count": 32,
   "metadata": {},
   "outputs": [
    {
     "data": {
      "text/plain": [
       "torch.Size([4, 6, 1, 88, 88])"
      ]
     },
     "execution_count": 32,
     "metadata": {},
     "output_type": "execute_result"
    }
   ],
   "source": [
    "noiseless_centered.shape"
   ]
  },
  {
   "cell_type": "code",
   "execution_count": 21,
   "metadata": {},
   "outputs": [],
   "source": [
    "image = torch.zeros(len(dithers), 1, size, size)\n",
    "image0 = torch.zeros(1, 1, size, size)\n",
    "noiseless_centered = torch.zeros(len(dithers), max_n_sources, 1, size, size)\n",
    "noiseless_uncentered = torch.zeros(len(dithers), max_n_sources, 1, size, size)\n",
    "\n",
    "n_sources = int(full_catalog.n_sources[0].item())\n",
    "galaxy_params = full_catalog[\"galaxy_params\"][0]\n",
    "plocs = full_plocs[0]\n",
    "\n",
    "for ii in range(n_sources):\n",
    "    offset_x = plocs[ii][1] + bp - size / 2\n",
    "    offset_y = plocs[ii][0] + bp - size / 2\n",
    "    offset = torch.tensor([offset_x, offset_y])\n",
    "    centered = csgd.render_galaxy(galaxy_params[ii], psf, size, dithers=dithers)\n",
    "    uncentered = csgd.render_galaxy(galaxy_params[ii], psf, size, offset)\n",
    "    uncentered_dithered = csgd.render_galaxy(galaxy_params[ii], psf, size, offset, dithers)\n",
    "    noiseless_centered[:, ii] = centered.reshape(centered.shape[0], 1, size, size)\n",
    "    noiseless_uncentered[:, ii] = uncentered.reshape(uncentered.shape[0], 1, size, size)\n",
    "    image0 += uncentered\n",
    "    image += uncentered_dithered"
   ]
  },
  {
   "cell_type": "code",
   "execution_count": 22,
   "metadata": {},
   "outputs": [
    {
     "data": {
      "text/plain": [
       "<matplotlib.image.AxesImage at 0x7f3f40da1220>"
      ]
     },
     "execution_count": 22,
     "metadata": {},
     "output_type": "execute_result"
    },
    {
     "data": {
      "image/png": "[encoded data removed]",
      "text/plain": [
       "<Figure size 432x288 with 1 Axes>"
      ]
     },
     "metadata": {
      "needs_background": "light"
     },
     "output_type": "display_data"
    }
   ],
   "source": [
    "plt.imshow(image0[:].reshape(image0[:].shape[2], image0[:].shape[3]).numpy())"
   ]
  },
  {
   "cell_type": "code",
   "execution_count": 23,
   "metadata": {},
   "outputs": [
    {
     "data": {
      "text/plain": [
       "<matplotlib.image.AxesImage at 0x7f3f40d19cd0>"
      ]
     },
     "execution_count": 23,
     "metadata": {},
     "output_type": "execute_result"
    },
    {
     "data": {
      "image/png": "[encoded data removed]",
      "text/plain": [
       "<Figure size 432x288 with 1 Axes>"
      ]
     },
     "metadata": {
      "needs_background": "light"
     },
     "output_type": "display_data"
    }
   ],
   "source": [
    "plt.imshow(image[2].reshape(image[2].shape[1], image[2].shape[2]).numpy())"
   ]
  },
  {
   "cell_type": "code",
   "execution_count": 24,
   "metadata": {},
   "outputs": [],
   "source": [
    "# check noise and dither independence\n",
    "background = instantiate(cfg.datasets.sdss_galaxies.background)\n",
    "background = (\n",
    "    background.sample((1, *image.reshape(len(dithers), size, size).shape))\n",
    "    .squeeze(0)\n",
    "    .reshape(1, len(dithers), size, size)\n",
    ")\n",
    "_add_noise_and_background(image, background)\n",
    "\n",
    "image_with_background = image + background\n",
    "noise = image_with_background.sqrt() * torch.randn_like(\n",
    "    image_with_background\n",
    ")  # randomized by value of Tensor\n",
    "noisy_image = image_with_background + noise"
   ]
  },
  {
   "cell_type": "code",
   "execution_count": 31,
   "metadata": {},
   "outputs": [
    {
     "data": {
      "text/plain": [
       "torch.Size([4, 1, 88, 88])"
      ]
     },
     "execution_count": 31,
     "metadata": {},
     "output_type": "execute_result"
    }
   ],
   "source": [
    "instantiate(cfg.datasets.sdss_galaxies.background).sample((1, *image.reshape(len(dithers), size, size).shape)).squeeze(0).reshape(len(dithers), 1, size, size).shape"
   ]
  },
  {
   "cell_type": "code",
   "execution_count": 25,
   "metadata": {},
   "outputs": [
    {
     "data": {
      "text/plain": [
       "<matplotlib.image.AxesImage at 0x7f3f40c901c0>"
      ]
     },
     "execution_count": 25,
     "metadata": {},
     "output_type": "execute_result"
    },
    {
     "data": {
      "image/png": "[encoded data removed]",
      "text/plain": [
       "<Figure size 432x288 with 1 Axes>"
      ]
     },
     "metadata": {
      "needs_background": "light"
     },
     "output_type": "display_data"
    }
   ],
   "source": [
    "plt.imshow(noisy_image[2].reshape(noisy_image[2].shape[1], noisy_image[2].shape[2]).numpy())"
   ]
  },
  {
   "cell_type": "code",
   "execution_count": 33,
   "metadata": {},
   "outputs": [],
   "source": [
    "i0 = galsim.Image(np.array(image0[:].reshape(88, 88)), wcs=galsim.PixelScale(pixel_scale))\n",
    "i1 = galsim.Image(np.array(image[:][0].reshape(88, 88)))"
   ]
  },
  {
   "cell_type": "code",
   "execution_count": 34,
   "metadata": {},
   "outputs": [],
   "source": [
    "from bliss.models.decoder import get_mgrid\n",
    "\n",
    "\n",
    "def align_single_exposures(img0, img1, slen, dithers):\n",
    "    img0 = galsim.Image(np.array(img0), wcs=galsim.PixelScale(scale))\n",
    "    wcs0 = img0.wcs\n",
    "    images = img1\n",
    "\n",
    "    sgrid = (get_mgrid(slen) - (-1)) / 2 * (slen)\n",
    "    sgrid = sgrid.reshape(slen**2, 2)\n",
    "    grid_x = wcs0.xyTouv(sgrid[:, 0], sgrid[:, 1])[0]\n",
    "    grid_y = wcs0.xyTouv(sgrid[:, 0], sgrid[:, 1])[1]\n",
    "\n",
    "    grid = torch.empty(size=(0, 2))\n",
    "    for i in dithers:\n",
    "        wcs1 = galsim.OffsetWCS(scale=scale, origin=galsim.PositionD(i))\n",
    "        x, y = wcs1.uvToxy(grid_x, grid_y)\n",
    "        x_grid = (x / slen) * 2 + (-1)\n",
    "        y_grid = (y / slen) * 2 + (-1)\n",
    "        grid = torch.cat(\n",
    "            [grid, torch.stack((torch.tensor(x_grid), torch.tensor(y_grid)), -1)], dim=0\n",
    "        )\n",
    "\n",
    "    iplots = []\n",
    "    input = torch.tensor(images[:]).reshape(len(dithers), 1, slen, slen).float()\n",
    "    grids = grid.reshape(len(dithers), 1, slen * slen, 2).float()\n",
    "    iplots.append(F.grid_sample(input, grids, align_corners=False))\n",
    "\n",
    "    # reshape and crop 1 pixel on each side\n",
    "    iplots = torch.tensor(iplots[:][0]).reshape(len(dithers), slen, slen)\n",
    "    iplots_cropped = iplots[:, 1 : slen - 1, 1 : slen - 1]\n",
    "    return iplots_cropped"
   ]
  },
  {
   "cell_type": "code",
   "execution_count": 35,
   "metadata": {},
   "outputs": [
    {
     "data": {
      "text/plain": [
       "tensor([[0.0012, 0.0013, 0.0013,  ..., 0.3699, 0.3773, 0.3812],\n",
       "        [0.0013, 0.0013, 0.0014,  ..., 0.4010, 0.4060, 0.4070],\n",
       "        [0.0013, 0.0014, 0.0014,  ..., 0.4326, 0.4344, 0.4318],\n",
       "        ...,\n",
       "        [0.2243, 0.2566, 0.2938,  ..., 0.0025, 0.0023, 0.0022],\n",
       "        [0.2419, 0.2762, 0.3154,  ..., 0.0023, 0.0022, 0.0021],\n",
       "        [0.2598, 0.2959, 0.3368,  ..., 0.0022, 0.0021, 0.0020]])"
      ]
     },
     "execution_count": 35,
     "metadata": {},
     "output_type": "execute_result"
    }
   ],
   "source": [
    "image0[:].reshape(size, size)"
   ]
  },
  {
   "cell_type": "code",
   "execution_count": 39,
   "metadata": {},
   "outputs": [
    {
     "name": "stderr",
     "output_type": "stream",
     "text": [
      "/home/wmallory/bliss/case_studies/coadds/align_single_exposures.py:37: UserWarning: To copy construct from a tensor, it is recommended to use sourceTensor.clone().detach() or sourceTensor.clone().detach().requires_grad_(True), rather than torch.tensor(sourceTensor).\n",
      "  [grid, torch.stack((torch.tensor(x_grid), torch.tensor(y_grid)), -1)], dim=0\n",
      "/home/wmallory/bliss/case_studies/coadds/align_single_exposures.py:41: UserWarning: To copy construct from a tensor, it is recommended to use sourceTensor.clone().detach() or sourceTensor.clone().detach().requires_grad_(True), rather than torch.tensor(sourceTensor).\n",
      "  input = torch.tensor(images[:]).reshape(len(dithers), 1, slen, slen).float()\n",
      "/home/wmallory/bliss/case_studies/coadds/align_single_exposures.py:46: UserWarning: To copy construct from a tensor, it is recommended to use sourceTensor.clone().detach() or sourceTensor.clone().detach().requires_grad_(True), rather than torch.tensor(sourceTensor).\n",
      "  interped_images = torch.tensor(interped_images[:][0]).reshape(len(dithers), slen, slen)\n"
     ]
    }
   ],
   "source": [
    "# Add alignment and coadding\n",
    "img0 = image0[:].reshape(size, size)\n",
    "imgs = noisy_image\n",
    "aligned_images = align_single_exposures(img0, imgs, size, dithers)"
   ]
  },
  {
   "cell_type": "code",
   "execution_count": 40,
   "metadata": {},
   "outputs": [
    {
     "data": {
      "text/plain": [
       "torch.Size([4, 86, 86])"
      ]
     },
     "execution_count": 40,
     "metadata": {},
     "output_type": "execute_result"
    }
   ],
   "source": [
    "aligned_images.shape"
   ]
  },
  {
   "cell_type": "code",
   "execution_count": 76,
   "metadata": {},
   "outputs": [
    {
     "data": {
      "text/plain": [
       "tensor([136.0448, 138.6431, 136.8939, 142.1997])"
      ]
     },
     "execution_count": 76,
     "metadata": {},
     "output_type": "execute_result"
    }
   ],
   "source": [
    "# add snr\n",
    "bg = background[:, :, 1 : size - 1, 1 : size - 1]\n",
    "img = aligned_images.reshape(len(dithers), 1, size - 2, size - 2)\n",
    "img - bg\n",
    "torch.sqrt(torch.sum((img - bg) ** 2 / (img - bg + bg), dim=(3, 2, 1)))\n",
    "snr(img, bg)"
   ]
  },
  {
   "cell_type": "code",
   "execution_count": 80,
   "metadata": {},
   "outputs": [
    {
     "name": "stderr",
     "output_type": "stream",
     "text": [
      "/tmp/ipykernel_3544359/3013547580.py:4: UserWarning: To copy construct from a tensor, it is recommended to use sourceTensor.clone().detach() or sourceTensor.clone().detach().requires_grad_(True), rather than torch.tensor(sourceTensor).\n",
      "  id = torch.tensor(aligned_images) - bd # aligned images without background\n",
      "/tmp/ipykernel_3544359/3013547580.py:5: UserWarning: To copy construct from a tensor, it is recommended to use sourceTensor.clone().detach() or sourceTensor.clone().detach().requires_grad_(True), rather than torch.tensor(sourceTensor).\n",
      "  weight = 1 / torch.tensor(aligned_images)\n",
      "/tmp/ipykernel_3544359/3013547580.py:6: UserWarning: To copy construct from a tensor, it is recommended to use sourceTensor.clone().detach() or sourceTensor.clone().detach().requires_grad_(True), rather than torch.tensor(sourceTensor).\n",
      "  num = torch.sum(id / torch.tensor(aligned_images), dim = 0)\n"
     ]
    }
   ],
   "source": [
    "# Coadd using direct coadd: linear combination\n",
    "# Direct coadd, where weights are proportional to inverse variance\n",
    "bd = background.reshape(len(dithers), size, size)[\n",
    "    :, 1 : size - 1, 1 : size - 1\n",
    "]  # background cropped\n",
    "id = torch.tensor(aligned_images) - bd  # aligned images without background\n",
    "weight = 1 / torch.tensor(aligned_images)\n",
    "num = torch.sum(id / torch.tensor(aligned_images), dim=0)\n",
    "coadded = num / (torch.sum(weight, dim=0))\n",
    "\n",
    "\n",
    "def linear_coadd(aligned_images, cropped_background):\n",
    "    assert torch.tensor(aligned_images).shape == torch.tensor(cropped_background).shape\n",
    "\n",
    "    id = torch.tensor(aligned_images) - cropped_background\n",
    "    weight = 1 / torch.tensor(aligned_images)\n",
    "    num = torch.sum(id / torch.tensor(aligned_images), dim=0)\n",
    "    return num / (torch.sum(weight, dim=0))"
   ]
  },
  {
   "cell_type": "code",
   "execution_count": 78,
   "metadata": {},
   "outputs": [
    {
     "name": "stderr",
     "output_type": "stream",
     "text": [
      "/tmp/ipykernel_3544359/3013547580.py:10: UserWarning: To copy construct from a tensor, it is recommended to use sourceTensor.clone().detach() or sourceTensor.clone().detach().requires_grad_(True), rather than torch.tensor(sourceTensor).\n",
      "  assert torch.tensor(aligned_images).shape == torch.tensor(cropped_background).shape\n",
      "/tmp/ipykernel_3544359/3013547580.py:12: UserWarning: To copy construct from a tensor, it is recommended to use sourceTensor.clone().detach() or sourceTensor.clone().detach().requires_grad_(True), rather than torch.tensor(sourceTensor).\n",
      "  id = torch.tensor(aligned_images) - cropped_background\n",
      "/tmp/ipykernel_3544359/3013547580.py:13: UserWarning: To copy construct from a tensor, it is recommended to use sourceTensor.clone().detach() or sourceTensor.clone().detach().requires_grad_(True), rather than torch.tensor(sourceTensor).\n",
      "  weight = 1 / torch.tensor(aligned_images)\n",
      "/tmp/ipykernel_3544359/3013547580.py:14: UserWarning: To copy construct from a tensor, it is recommended to use sourceTensor.clone().detach() or sourceTensor.clone().detach().requires_grad_(True), rather than torch.tensor(sourceTensor).\n",
      "  num = torch.sum(id / torch.tensor(aligned_images), dim = 0)\n"
     ]
    },
    {
     "data": {
      "text/plain": [
       "tensor([[ -9.5924,  -1.8391,  14.0782,  ...,   8.2881, -12.3868,  -7.4500],\n",
       "        [  4.4901,   4.2201,   0.3503,  ...,  -2.6362,   6.4967, -16.1851],\n",
       "        [  7.1576,  -1.5991,   1.3860,  ...,  -8.0366,   6.5830, -11.0430],\n",
       "        ...,\n",
       "        [-11.5103,  -0.8608,   3.2939,  ...,  -0.1660,  -5.4660, -13.9961],\n",
       "        [ 16.2789,  19.9595,   4.8391,  ...,   8.0546,   1.4545,  -7.9584],\n",
       "        [ 18.7504,  14.9841,   8.1432,  ...,   5.8145,   2.0300,  -2.4380]])"
      ]
     },
     "execution_count": 78,
     "metadata": {},
     "output_type": "execute_result"
    }
   ],
   "source": [
    "linear_coadd(aligned_images, bd)"
   ]
  },
  {
   "cell_type": "code",
   "execution_count": 79,
   "metadata": {},
   "outputs": [
    {
     "data": {
      "text/plain": [
       "<matplotlib.image.AxesImage at 0x7f151efe2910>"
      ]
     },
     "execution_count": 79,
     "metadata": {},
     "output_type": "execute_result"
    },
    {
     "data": {
      "image/png": "[encoded data removed]",
      "text/plain": [
       "<Figure size 432x288 with 1 Axes>"
      ]
     },
     "metadata": {
      "needs_background": "light"
     },
     "output_type": "display_data"
    }
   ],
   "source": [
    "plt.imshow(coadded.numpy())"
   ]
  },
  {
   "cell_type": "code",
   "execution_count": 4,
   "metadata": {},
   "outputs": [],
   "source": [
    "# check test align\n",
    "with initialize(config_path=\"../sdss_galaxies/config\"):\n",
    "    cfg = compose(\"config\", overrides=[])"
   ]
  },
  {
   "cell_type": "code",
   "execution_count": 5,
   "metadata": {},
   "outputs": [],
   "source": [
    "# create dithers\n",
    "n = 3\n",
    "dithers = [((-0.5 - 0.5) * torch.rand((2,)) + 0.5).numpy() for x in range(n)]"
   ]
  },
  {
   "cell_type": "code",
   "execution_count": 6,
   "metadata": {},
   "outputs": [],
   "source": [
    "decoder = instantiate(cfg.datasets.sdss_galaxies.decoder)\n",
    "psf = decoder.psf\n",
    "prior = instantiate(cfg.datasets.galsim_blended_galaxies.prior)\n",
    "decoder = instantiate(cfg.datasets.galsim_blended_galaxies.decoder)\n",
    "background = instantiate(cfg.datasets.galsim_blended_galaxies.background)\n",
    "tile_slen = 4\n",
    "max_tile_n_sources = 1\n",
    "num_workers = 5\n",
    "batch_size = 1000\n",
    "n_batches = 1\n",
    "full_catalog = GalsimBlends(\n",
    "    prior=prior,\n",
    "    decoder=decoder,\n",
    "    background=background,\n",
    "    tile_slen=tile_slen,\n",
    "    max_sources_per_tile=max_tile_n_sources,\n",
    "    num_workers=num_workers,\n",
    "    batch_size=batch_size,\n",
    "    n_batches=n_batches,\n",
    ")._sample_full_catalog()"
   ]
  },
  {
   "cell_type": "code",
   "execution_count": 7,
   "metadata": {},
   "outputs": [],
   "source": [
    "def render_galaxy(\n",
    "    self,\n",
    "    galaxy_params: Tensor,\n",
    "    psf: galsim.GSObject,\n",
    "    slen: int,\n",
    "    offset: Optional[Tensor] = None,\n",
    "    dithers: Optional[Tensor] = None,\n",
    ") -> Tensor:\n",
    "    assert offset is None or offset.shape == (2,)\n",
    "    if isinstance(galaxy_params, Tensor):\n",
    "        galaxy_params = galaxy_params.cpu().detach()\n",
    "    total_flux, disk_frac, beta_radians, disk_q, a_d, bulge_q, a_b = galaxy_params\n",
    "    bulge_frac = 1 - disk_frac\n",
    "\n",
    "    disk_flux = total_flux * disk_frac\n",
    "    bulge_flux = total_flux * bulge_frac\n",
    "\n",
    "    components = []\n",
    "    if disk_flux > 0:\n",
    "        b_d = a_d * disk_q\n",
    "        disk_hlr_arcsecs = np.sqrt(a_d * b_d)\n",
    "        disk = galsim.Exponential(flux=disk_flux, half_light_radius=disk_hlr_arcsecs).shear(\n",
    "            q=disk_q,\n",
    "            beta=beta_radians * galsim.radians,\n",
    "        )\n",
    "        components.append(disk)\n",
    "    if bulge_flux > 0:\n",
    "        b_b = bulge_q * a_b\n",
    "        bulge_hlr_arcsecs = np.sqrt(a_b * b_b)\n",
    "        bulge = galsim.DeVaucouleurs(flux=bulge_flux, half_light_radius=bulge_hlr_arcsecs).shear(\n",
    "            q=bulge_q, beta=beta_radians * galsim.radians\n",
    "        )\n",
    "        components.append(bulge)\n",
    "    galaxy = galsim.Add(components)\n",
    "    gal_conv = galsim.Convolution(galaxy, psf)\n",
    "    offset = (0, 0) if offset is None else offset\n",
    "    dithers = (0, 0) if dithers is None else dithers\n",
    "    shift = torch.add(torch.Tensor(dithers), torch.Tensor(offset))\n",
    "    shift = shift.reshape(1, 2) if len(shift) == 2 else shift\n",
    "    images = []\n",
    "    for i in shift:\n",
    "        image = gal_conv.drawImage(\n",
    "            nx=slen, ny=slen, method=\"auto\", scale=self.pixel_scale, offset=i\n",
    "        )\n",
    "        image = image.array\n",
    "        images.append(image)\n",
    "    return torch.tensor(images[:]).reshape(len(shift), 1, slen, slen)"
   ]
  },
  {
   "cell_type": "code",
   "execution_count": 8,
   "metadata": {},
   "outputs": [
    {
     "name": "stderr",
     "output_type": "stream",
     "text": [
      "/tmp/ipykernel_511269/3154264753.py:47: UserWarning: Creating a tensor from a list of numpy.ndarrays is extremely slow. Please consider converting the list to a single numpy.ndarray with numpy.array() before converting to a tensor. (Triggered internally at  ../torch/csrc/utils/tensor_new.cpp:210.)\n",
      "  return torch.tensor(images[:]).reshape(len(shift), 1, slen, slen)\n"
     ]
    }
   ],
   "source": [
    "size = decoder.slen + 2 * decoder.bp\n",
    "full_plocs = full_catalog.plocs\n",
    "b, max_n_sources, _ = full_plocs.shape\n",
    "\n",
    "image = torch.zeros(len(dithers), 1, size, size)\n",
    "image0 = torch.zeros(1, 1, size, size)\n",
    "noiseless_centered = torch.zeros(len(dithers), max_n_sources, 1, size, size)\n",
    "noiseless_uncentered = torch.zeros(len(dithers), max_n_sources, 1, size, size)\n",
    "\n",
    "n_sources = int(full_catalog.n_sources[0].item())\n",
    "galaxy_params = full_catalog[\"galaxy_params\"][0]\n",
    "plocs = full_plocs[0]\n",
    "\n",
    "offset_x = plocs[0][1] + decoder.bp - size / 2\n",
    "offset_y = plocs[0][0] + decoder.bp - size / 2\n",
    "offset = torch.tensor([offset_x, offset_y])\n",
    "decoder = instantiate(cfg.datasets.sdss_galaxies.decoder)\n",
    "uncentered = render_galaxy(decoder, galaxy_params[0], psf, size, offset)\n",
    "uncentered_dithered = render_galaxy(decoder, galaxy_params[0], psf, size, offset, dithers)"
   ]
  },
  {
   "cell_type": "code",
   "execution_count": 9,
   "metadata": {},
   "outputs": [
    {
     "data": {
      "text/plain": [
       "<matplotlib.colorbar.Colorbar at 0x7fcdc24a3c40>"
      ]
     },
     "execution_count": 9,
     "metadata": {},
     "output_type": "execute_result"
    },
    {
     "data": {
      "image/png": "[encoded data removed]",
      "text/plain": [
       "<Figure size 432x288 with 2 Axes>"
      ]
     },
     "metadata": {
      "needs_background": "light"
     },
     "output_type": "display_data"
    }
   ],
   "source": [
    "plt.figure()\n",
    "plt.imshow(uncentered.reshape(size, size))\n",
    "plt.colorbar()"
   ]
  },
  {
   "cell_type": "code",
   "execution_count": 10,
   "metadata": {},
   "outputs": [],
   "source": [
    "# now the data is like the output from render_catalog with only one source\n",
    "img0 = uncentered.reshape(size, size)\n",
    "images = uncentered_dithered"
   ]
  },
  {
   "cell_type": "code",
   "execution_count": 11,
   "metadata": {},
   "outputs": [
    {
     "name": "stderr",
     "output_type": "stream",
     "text": [
      "/home/wmallory/bliss/case_studies/coadds/align_single_exposures.py:37: UserWarning: To copy construct from a tensor, it is recommended to use sourceTensor.clone().detach() or sourceTensor.clone().detach().requires_grad_(True), rather than torch.tensor(sourceTensor).\n",
      "  [grid, torch.stack((torch.tensor(x_grid), torch.tensor(y_grid)), -1)], dim=0\n",
      "/home/wmallory/bliss/case_studies/coadds/align_single_exposures.py:41: UserWarning: To copy construct from a tensor, it is recommended to use sourceTensor.clone().detach() or sourceTensor.clone().detach().requires_grad_(True), rather than torch.tensor(sourceTensor).\n",
      "  input = torch.tensor(images[:]).reshape(len(dithers), 1, slen, slen).float()\n",
      "/home/wmallory/bliss/case_studies/coadds/align_single_exposures.py:46: UserWarning: To copy construct from a tensor, it is recommended to use sourceTensor.clone().detach() or sourceTensor.clone().detach().requires_grad_(True), rather than torch.tensor(sourceTensor).\n",
      "  interped_images = torch.tensor(interped_images[:][0]).reshape(len(dithers), slen, slen)\n"
     ]
    },
    {
     "data": {
      "text/plain": [
       "torch.Size([3, 86, 86])"
      ]
     },
     "execution_count": 11,
     "metadata": {},
     "output_type": "execute_result"
    }
   ],
   "source": [
    "aligned_images = align_single_exposures(img0, images, size, dithers)\n",
    "aligned_images.shape  # the output should be cropped"
   ]
  },
  {
   "cell_type": "code",
   "execution_count": 12,
   "metadata": {},
   "outputs": [
    {
     "data": {
      "image/png": "[encoded data removed]",
      "text/plain": [
       "<Figure size 432x288 with 2 Axes>"
      ]
     },
     "metadata": {
      "needs_background": "light"
     },
     "output_type": "display_data"
    },
    {
     "data": {
      "image/png": "[encoded data removed]",
      "text/plain": [
       "<Figure size 432x288 with 2 Axes>"
      ]
     },
     "metadata": {
      "needs_background": "light"
     },
     "output_type": "display_data"
    },
    {
     "data": {
      "image/png": "[encoded data removed]",
      "text/plain": [
       "<Figure size 432x288 with 2 Axes>"
      ]
     },
     "metadata": {
      "needs_background": "light"
     },
     "output_type": "display_data"
    }
   ],
   "source": [
    "# still hard to tell the dithers\n",
    "for i in range(len(dithers)):\n",
    "    plt.figure()\n",
    "    plt.imshow(aligned_images[i])\n",
    "    plt.colorbar()"
   ]
  },
  {
   "cell_type": "code",
   "execution_count": 15,
   "metadata": {},
   "outputs": [
    {
     "data": {
      "text/plain": [
       "<matplotlib.colorbar.Colorbar at 0x7fcdb077aeb0>"
      ]
     },
     "execution_count": 15,
     "metadata": {},
     "output_type": "execute_result"
    },
    {
     "data": {
      "image/png": "[encoded data removed]",
      "text/plain": [
       "<Figure size 432x288 with 2 Axes>"
      ]
     },
     "metadata": {
      "needs_background": "light"
     },
     "output_type": "display_data"
    }
   ],
   "source": [
    "plt.figure()\n",
    "plt.imshow(img0)\n",
    "plt.colorbar()"
   ]
  },
  {
   "cell_type": "code",
   "execution_count": null,
   "metadata": {},
   "outputs": [],
   "source": [
    "#### Tests"
   ]
  },
  {
   "cell_type": "code",
   "execution_count": null,
   "metadata": {},
   "outputs": [],
   "source": []
  },
  {
   "cell_type": "code",
   "execution_count": null,
   "metadata": {},
   "outputs": [],
   "source": []
  },
  {
   "cell_type": "code",
   "execution_count": null,
   "metadata": {},
   "outputs": [],
   "source": []
  }
 ],
 "metadata": {
  "kernelspec": {
   "display_name": "Python 3.8.10 ('bliss-z6VjvYh8-py3.8')",
   "language": "python",
   "name": "python3"
  },
  "language_info": {
   "codemirror_mode": {
    "name": "ipython",
    "version": 3
   },
   "file_extension": ".py",
   "mimetype": "text/x-python",
   "name": "python",
   "nbconvert_exporter": "python",
   "pygments_lexer": "ipython3",
   "version": "3.8.10"
  },
  "orig_nbformat": 4,
  "vscode": {
   "interpreter": {
    "hash": "42573bf324965e8843cce5661f2b7cff1bd822ab6b918329f3dd4ef295939d5e"
   }
  }
 },
 "nbformat": 4,
 "nbformat_minor": 2
}

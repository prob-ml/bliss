{
 "cells": [
  {
   "cell_type": "code",
   "execution_count": 51,
   "metadata": {},
   "outputs": [],
   "source": [
    "from typing import Dict, List, Optional\n",
    "import matplotlib.pyplot as plt\n",
    "from hydra import compose, initialize\n",
    "from hydra.utils import instantiate\n",
    "import numpy as np\n",
    "import pytorch_lightning as pl\n",
    "import torch\n",
    "from torch import Tensor\n",
    "import torch.nn.functional as F\n",
    "from einops import rearrange\n",
    "from torch.utils.data import DataLoader, Dataset\n",
    "import galsim\n",
    "from bliss.catalog import TileCatalog, get_is_on_from_n_sources, FullCatalog\n",
    "from bliss.datasets.background import ConstantBackground\n",
    "from bliss.datasets.sdss import convert_flux_to_mag\n",
    "from bliss.models.galsim_decoder import SingleGalsimGalaxyDecoder,SingleGalsimGalaxyPrior,UniformGalsimGalaxiesPrior\n",
    "from bliss.datasets.galsim_galaxies import GalsimBlends\n"
   ]
  },
  {
   "cell_type": "code",
   "execution_count": 20,
   "metadata": {},
   "outputs": [
    {
     "name": "stdout",
     "output_type": "stream",
     "text": [
      "The autoreload extension is already loaded. To reload it, use:\n",
      "  %reload_ext autoreload\n",
      "Modules to reload:\n",
      "all-except-skipped\n",
      "\n",
      "Modules to skip:\n",
      "\n"
     ]
    }
   ],
   "source": [
    "%load_ext autoreload\n",
    "%autoreload 2\n",
    "%aimport\n",
    "%matplotlib inline "
   ]
  },
  {
   "cell_type": "code",
   "execution_count": 3,
   "metadata": {},
   "outputs": [],
   "source": [
    "def _add_noise_and_background(image: Tensor, background: Tensor) -> Tensor:\n",
    "    image_with_background = image + background\n",
    "    noise = image_with_background.sqrt() * torch.randn_like(image_with_background)\n",
    "    return image_with_background + noise\n",
    "\n",
    "def load_psf_from_file(psf_image_file: str, pixel_scale: float) -> galsim.GSObject:\n",
    "    \"\"\"Return normalized PSF galsim.GSObject from numpy psf_file.\"\"\"\n",
    "    assert Path(psf_image_file).suffix == \".npy\"\n",
    "    psf_image = np.load(psf_image_file)\n",
    "    assert len(psf_image.shape) == 3 and psf_image.shape[0] == 1\n",
    "    psf_image = galsim.Image(psf_image[0], scale=pixel_scale)\n",
    "    return galsim.InterpolatedImage(psf_image).withFlux(1.0)\n",
    "\n",
    "def _sample_n_sources(max_n_sources) -> int:\n",
    "    return int(torch.randint(1, max_n_sources + 1, (1,)).int().item())\n",
    "\n",
    "def _uniform(a, b, n_samples=1) -> Tensor:\n",
    "    # uses pytorch to return a single float ~ U(a, b)\n",
    "    return (a - b) * torch.rand(n_samples) + b\n",
    "\n",
    "class CoaddUniformGalsimGalaxiesPrior(UniformGalsimGalaxiesPrior):\n",
    "    def __init__(\n",
    "        self,\n",
    "        single_galaxy_prior: SingleGalsimGalaxyPrior,\n",
    "        max_n_sources: int,\n",
    "        max_shift: float,\n",
    "        num_dithers: int,\n",
    "    ):\n",
    "        super().__init__(\n",
    "            single_galaxy_prior,\n",
    "            max_n_sources,\n",
    "            max_shift,\n",
    "        )\n",
    "        \n",
    "    def sample(self) -> Dict[str, Tensor]:\n",
    "        \"\"\"Returns a single batch of source parameters.\"\"\"\n",
    "        n_sources = _sample_n_sources(self.max_n_sources)\n",
    "\n",
    "        params = torch.zeros(self.max_n_sources, self.dim_latents)\n",
    "        params[:n_sources, :] = self.single_galaxy_prior.sample(n_sources)\n",
    "\n",
    "        locs = torch.zeros(self.max_n_sources, 2)\n",
    "        locs[:n_sources, 0] = _uniform(-self.max_shift, self.max_shift, n_sources) + 0.5\n",
    "        locs[:n_sources, 1] = _uniform(-self.max_shift, self.max_shift, n_sources) + 0.5\n",
    "\n",
    "        # for now, galaxies only\n",
    "        galaxy_bools = torch.zeros(self.max_n_sources, 1)\n",
    "        galaxy_bools[:n_sources, :] = 1\n",
    "        star_bools = torch.zeros(self.max_n_sources, 1)\n",
    "\n",
    "        dithers = [((-0.5 - 0.5) * torch.rand((2,)) + 0.5).numpy() for x in range(num_dithers)]\n",
    "\n",
    "        return {\n",
    "            \"n_sources\": torch.tensor(n_sources),\n",
    "            \"galaxy_params\": params,\n",
    "            \"locs\": locs,\n",
    "            \"galaxy_bools\": galaxy_bools,\n",
    "            \"star_bools\": star_bools,\n",
    "            \"dithers\": dithers,\n",
    "        }\n",
    "\n",
    "class CoaddSingleGalaxyDecoder(SingleGalsimGalaxyDecoder):\n",
    "    def __init__(\n",
    "        self,\n",
    "        slen: int,\n",
    "        n_bands: int,\n",
    "        pixel_scale: float,\n",
    "    #    psf_image_file: str,\n",
    "     ) -> None:\n",
    "        assert n_bands == 1, \"Only 1 band is supported\"\n",
    "        self.slen = slen\n",
    "        self.n_bands = 1\n",
    "        self.pixel_scale = pixel_scale\n",
    "    #    self.psf = load_psf_from_file(psf_image_file, self.pixel_scale)\n",
    "        \n",
    "    def render_galaxy(\n",
    "        self,\n",
    "        galaxy_params: Tensor,\n",
    "        psf: galsim.GSObject,\n",
    "        slen: int,\n",
    "        offset: Optional[Tensor] = None,\n",
    "        dithers: Optional[Tensor] = None,\n",
    "    ) -> Tensor:\n",
    "        assert offset is None or offset.shape == (2,)\n",
    "        if isinstance(galaxy_params, Tensor):\n",
    "            galaxy_params = galaxy_params.cpu().detach()\n",
    "        total_flux, disk_frac, beta_radians, disk_q, a_d, bulge_q, a_b = galaxy_params\n",
    "        bulge_frac = 1 - disk_frac\n",
    "\n",
    "        disk_flux = total_flux * disk_frac\n",
    "        bulge_flux = total_flux * bulge_frac\n",
    "\n",
    "        components = []\n",
    "        if disk_flux > 0:\n",
    "            b_d = a_d * disk_q\n",
    "            disk_hlr_arcsecs = np.sqrt(a_d * b_d)\n",
    "            disk = galsim.Exponential(flux=disk_flux, half_light_radius=disk_hlr_arcsecs).shear(\n",
    "                q=disk_q,\n",
    "                beta=beta_radians * galsim.radians,\n",
    "            )\n",
    "            components.append(disk)\n",
    "        if bulge_flux > 0:\n",
    "            b_b = bulge_q * a_b\n",
    "            bulge_hlr_arcsecs = np.sqrt(a_b * b_b)\n",
    "            bulge = galsim.DeVaucouleurs(\n",
    "                flux=bulge_flux, half_light_radius=bulge_hlr_arcsecs\n",
    "            ).shear(q=bulge_q, beta=beta_radians * galsim.radians)\n",
    "            components.append(bulge)\n",
    "        galaxy = galsim.Add(components)\n",
    "        gal_conv = galsim.Convolution(galaxy, psf)\n",
    "        offset = (0,0) if offset is None else offset\n",
    "        dithers = (0,0) if dithers is None else dithers\n",
    "        shift = torch.add(torch.Tensor(dithers), torch.Tensor(offset))\n",
    "        shift = shift.reshape(1,2) if len(shift) == 2 else shift\n",
    "        images = []\n",
    "        for i in shift:\n",
    "            image = gal_conv.drawImage(\n",
    "                nx=slen, ny=slen, method=\"auto\", scale=self.pixel_scale, offset=i\n",
    "            )\n",
    "            image = image.array\n",
    "            images.append(image)\n",
    "        return torch.tensor(images[:]).reshape(len(shift), 1, slen, slen)\n",
    "\n",
    "class FullCatalogDecoder:\n",
    "    def __init__(\n",
    "        self, single_galaxy_decoder: CoaddSingleGalaxyDecoder, slen: int, bp: int\n",
    "    ) -> None:\n",
    "        self.single_decoder = single_galaxy_decoder\n",
    "        self.slen = slen\n",
    "        self.bp = bp\n",
    "        assert self.slen + 2 * self.bp >= self.single_decoder.slen\n",
    "\n",
    "    def __call__(self, full_cat: FullCatalog):\n",
    "        return self.render_catalog(full_cat, self.single_decoder.psf)\n",
    "\n",
    "    def render_catalog(self, full_cat: FullCatalog, psf: galsim.GSObject, dithers: Optional[Tensor]):\n",
    "        size = decoder.slen + 2 * bp\n",
    "        full_plocs = full_catalog.plocs\n",
    "        b, max_n_sources, _ = full_plocs.shape\n",
    "\n",
    "        image = torch.zeros(len(dithers), 1, size, size)\n",
    "        image0 = torch.zeros(1, size, size)\n",
    "        noiseless_centered = torch.zeros(max_n_sources, len(dithers), size, size)\n",
    "        noiseless_uncentered = torch.zeros(max_n_sources, len(dithers), size, size)\n",
    "\n",
    "        n_sources = int(full_catalog.n_sources[0].item())\n",
    "        galaxy_params = full_catalog[\"galaxy_params\"][0]\n",
    "        plocs = full_plocs[0]\n",
    "\n",
    "        for ii in range(n_sources):\n",
    "            offset_x = plocs[ii][1] + bp - size / 2\n",
    "            offset_y = plocs[ii][0] + bp - size / 2\n",
    "            offset = torch.tensor([offset_x, offset_y])\n",
    "            centered = csgd.render_galaxy(galaxy_params[ii], psf, size, dithers = dithers)\n",
    "            uncentered = csgd.render_galaxy(galaxy_params[ii], psf, size, offset)\n",
    "            uncentered_dithered = csgd.render_galaxy(galaxy_params[ii], psf, size, offset, dithers)\n",
    "            noiseless_centered[ii] = centered.reshape(centered.shape[0], size, size)\n",
    "            noiseless_uncentered[ii] = uncentered.reshape(uncentered.shape[0], size, size)\n",
    "            image0 += uncentered\n",
    "            image += uncentered_dithered\n",
    "        return image, noiseless_centered, noiseless_uncentered, image0\n",
    "\n",
    "\n",
    "class CoaddGalsimBlends(GalsimBlends):\n",
    "    \"\"\"Dataset of coadd galsim blends.\"\"\"\n",
    "\n",
    "    def __init__(self,\n",
    "        prior: UniformGalsimGalaxiesPrior,\n",
    "        decoder: FullCatalogDecoder,\n",
    "        background: ConstantBackground,\n",
    "        tile_slen: int,\n",
    "        max_sources_per_tile: int,\n",
    "        num_workers: int,\n",
    "        batch_size: int,\n",
    "        n_batches: int,\n",
    "        fix_validation_set: bool = False,\n",
    "        valid_n_batches: Optional[int] = None,\n",
    "    ):\n",
    "        super().__init__(\n",
    "            prior,\n",
    "            decoder,\n",
    "            background,\n",
    "            tile_slen,\n",
    "            max_sources_per_tile,\n",
    "            num_workers,\n",
    "            batch_size,\n",
    "            n_batches,\n",
    "            fix_validation_set,\n",
    "            valid_n_batches,\n",
    "        )\n",
    "        self.prior = prior\n",
    "        self.decoder = decoder\n",
    "        self.n_batches = n_batches\n",
    "        self.batch_size = batch_size\n",
    "        self.num_workers = num_workers\n",
    "        self.background = background\n",
    "        self.fix_validation_set = fix_validation_set\n",
    "        self.valid_n_batches = valid_n_batches\n",
    "        \n",
    "        self.slen = self.decoder.slen\n",
    "        self.pixel_scale = self.decoder.single_decoder.pixel_scale\n",
    "        \n",
    "\n",
    "    def _get_images(self, full_cat, dithers):\n",
    "        noiseless, noiseless_centered, noiseless_uncentered = FullCatalogDecoder.render_catalog(\n",
    "            full_cat, dithers\n",
    "        )\n",
    "\n",
    "        # get background and noisy image.\n",
    "        background = self.background.sample((1, *noiseless.shape)).squeeze(0)\n",
    "        noisy_image = _add_noise_and_background(noiseless, background)\n",
    "\n",
    "        return noisy_image, noiseless, noiseless_centered, noiseless_uncentered, background\n",
    "\n",
    "\n",
    "\n"
   ]
  },
  {
   "cell_type": "code",
   "execution_count": 4,
   "metadata": {},
   "outputs": [],
   "source": [
    "with initialize(config_path=\"../sdss_galaxies/config\"):\n",
    "    cfg = compose(\"config\", overrides=[])"
   ]
  },
  {
   "cell_type": "code",
   "execution_count": 11,
   "metadata": {},
   "outputs": [],
   "source": [
    "prior = instantiate(cfg.datasets.sdss_galaxies.prior) \n",
    "decoder = instantiate(cfg.datasets.sdss_galaxies.decoder)\n",
    "background = instantiate(cfg.datasets.galsim_blended_galaxies.background)\n",
    "tile_slen = 4\n",
    "max_tile_n_sources = 1\n",
    "num_workers = 5\n",
    "n_batches = 1\n",
    "max_n_sources = 1\n",
    "max_shift = 0.5\n",
    "num_dithers = 4\n",
    "mprior = instantiate(cfg.models.prior)\n",
    "tile_catalog = mprior.sample_prior(tile_slen=4, batch_size=3, n_tiles_h=2, n_tiles_w=2)\n",
    "full_catalog = TileCatalog.to_full_params(tile_catalog)"
   ]
  },
  {
   "cell_type": "code",
   "execution_count": 12,
   "metadata": {},
   "outputs": [],
   "source": [
    "# Test CUGGP\n",
    "cuggp = CoaddUniformGalsimGalaxiesPrior(prior, max_n_sources, max_shift, num_dithers)\n"
   ]
  },
  {
   "cell_type": "code",
   "execution_count": 13,
   "metadata": {},
   "outputs": [],
   "source": [
    "pixel_scale = 0.393\n",
    "cuggprior = cuggp.sample() # does not work if we use galsim_blended_galaxies for prior config\n",
    "n_sources = cuggprior[\"n_sources\"]\n",
    "galaxy_params = cuggprior[\"galaxy_params\"]\n",
    "locs = cuggprior[\"locs\"]\n",
    "galaxy_bools = cuggprior[\"galaxy_bools\"]\n",
    "star_bools = cuggprior[\"star_bools\"]\n",
    "dithers = cuggprior[\"dithers\"]\n",
    "offset = None\n",
    "psf = decoder.psf\n"
   ]
  },
  {
   "cell_type": "code",
   "execution_count": 34,
   "metadata": {},
   "outputs": [
    {
     "data": {
      "text/plain": [
       "[array([-0.4811225 , -0.21159571], dtype=float32),\n",
       " array([-0.34641796, -0.29002923], dtype=float32),\n",
       " array([-0.32266533, -0.25221276], dtype=float32),\n",
       " array([-0.09234637, -0.26480418], dtype=float32)]"
      ]
     },
     "execution_count": 34,
     "metadata": {},
     "output_type": "execute_result"
    }
   ],
   "source": [
    "dithers"
   ]
  },
  {
   "cell_type": "code",
   "execution_count": 14,
   "metadata": {},
   "outputs": [
    {
     "data": {
      "text/plain": [
       "tensor([[[[0.2628, 0.2762, 0.2902,  ..., 0.3085, 0.2939, 0.2799],\n",
       "          [0.2830, 0.2981, 0.3138,  ..., 0.3343, 0.3178, 0.3020],\n",
       "          [0.3048, 0.3217, 0.3394,  ..., 0.3624, 0.3437, 0.3259],\n",
       "          ...,\n",
       "          [0.3060, 0.3228, 0.3403,  ..., 0.3508, 0.3328, 0.3156],\n",
       "          [0.2841, 0.2990, 0.3146,  ..., 0.3236, 0.3077, 0.2924],\n",
       "          [0.2638, 0.2771, 0.2909,  ..., 0.2987, 0.2846, 0.2710]]],\n",
       "\n",
       "\n",
       "        [[[0.2613, 0.2745, 0.2883,  ..., 0.3065, 0.2921, 0.2781],\n",
       "          [0.2814, 0.2963, 0.3118,  ..., 0.3321, 0.3158, 0.3001],\n",
       "          [0.3030, 0.3198, 0.3373,  ..., 0.3600, 0.3415, 0.3238],\n",
       "          ...,\n",
       "          [0.3078, 0.3248, 0.3425,  ..., 0.3530, 0.3349, 0.3175],\n",
       "          [0.2858, 0.3009, 0.3166,  ..., 0.3257, 0.3097, 0.2942],\n",
       "          [0.2654, 0.2788, 0.2928,  ..., 0.3006, 0.2864, 0.2727]]],\n",
       "\n",
       "\n",
       "        [[[0.2670, 0.2804, 0.2943,  ..., 0.2945, 0.2806, 0.2672],\n",
       "          [0.2879, 0.3030, 0.3187,  ..., 0.3187, 0.3030, 0.2879],\n",
       "          [0.3105, 0.3275, 0.3452,  ..., 0.3450, 0.3273, 0.3103],\n",
       "          ...,\n",
       "          [0.3213, 0.3390, 0.3575,  ..., 0.3449, 0.3270, 0.3098],\n",
       "          [0.2980, 0.3137, 0.3300,  ..., 0.3187, 0.3028, 0.2875],\n",
       "          [0.2763, 0.2903, 0.3047,  ..., 0.2945, 0.2804, 0.2668]]],\n",
       "\n",
       "\n",
       "        [[[0.2691, 0.2828, 0.2972,  ..., 0.3084, 0.2937, 0.2795],\n",
       "          [0.2899, 0.3054, 0.3215,  ..., 0.3340, 0.3174, 0.3014],\n",
       "          [0.3124, 0.3298, 0.3480,  ..., 0.3619, 0.3431, 0.3251],\n",
       "          ...,\n",
       "          [0.3067, 0.3234, 0.3408,  ..., 0.3421, 0.3247, 0.3079],\n",
       "          [0.2846, 0.2995, 0.3149,  ..., 0.3158, 0.3004, 0.2855],\n",
       "          [0.2642, 0.2774, 0.2910,  ..., 0.2917, 0.2780, 0.2648]]]])"
      ]
     },
     "execution_count": 14,
     "metadata": {},
     "output_type": "execute_result"
    }
   ],
   "source": [
    "csgd = CoaddSingleGalaxyDecoder(decoder, n_bands = 1, pixel_scale = pixel_scale)\n",
    "csgd.render_galaxy(galaxy_params = galaxy_params[0], slen = decoder.slen, psf = decoder.psf, offset = offset, dithers = dithers)"
   ]
  },
  {
   "cell_type": "code",
   "execution_count": 15,
   "metadata": {},
   "outputs": [],
   "source": [
    "prior = instantiate(cfg.datasets.galsim_blended_galaxies.prior) \n",
    "decoder = instantiate(cfg.datasets.galsim_blended_galaxies.decoder)\n",
    "background = instantiate(cfg.datasets.galsim_blended_galaxies.background)\n",
    "tile_slen = 4\n",
    "max_tile_n_sources = 1\n",
    "num_workers = 5\n",
    "batch_size = 1000\n",
    "n_batches = 1\n",
    "full_catalog = CoaddGalsimBlends(prior = prior, decoder = decoder, background = background, tile_slen = tile_slen, max_sources_per_tile = max_tile_n_sources, num_workers = num_workers, batch_size = batch_size, n_batches = n_batches)._sample_full_catalog()"
   ]
  },
  {
   "cell_type": "code",
   "execution_count": 16,
   "metadata": {},
   "outputs": [
    {
     "ename": "RuntimeError",
     "evalue": "output with shape [1, 88, 88] doesn't match the broadcast shape [1, 1, 88, 88]",
     "output_type": "error",
     "traceback": [
      "\u001b[0;31m---------------------------------------------------------------------------\u001b[0m",
      "\u001b[0;31mRuntimeError\u001b[0m                              Traceback (most recent call last)",
      "\u001b[1;32m/home/wmallory/bliss/case_studies/coadds/test_notebook.ipynb Cell 11\u001b[0m in \u001b[0;36m<cell line: 4>\u001b[0;34m()\u001b[0m\n\u001b[1;32m      <a href='vscode-notebook-cell://ssh-remote%2Bdeeplearning-01.stat.lsa.umich.edu/home/wmallory/bliss/case_studies/coadds/test_notebook.ipynb#ch0000010vscode-remote?line=1'>2</a>\u001b[0m bp \u001b[39m=\u001b[39m \u001b[39m24\u001b[39m\n\u001b[1;32m      <a href='vscode-notebook-cell://ssh-remote%2Bdeeplearning-01.stat.lsa.umich.edu/home/wmallory/bliss/case_studies/coadds/test_notebook.ipynb#ch0000010vscode-remote?line=2'>3</a>\u001b[0m fcdecoder \u001b[39m=\u001b[39m FullCatalogDecoder(decoder, slen, bp)\n\u001b[0;32m----> <a href='vscode-notebook-cell://ssh-remote%2Bdeeplearning-01.stat.lsa.umich.edu/home/wmallory/bliss/case_studies/coadds/test_notebook.ipynb#ch0000010vscode-remote?line=3'>4</a>\u001b[0m fcdecoder\u001b[39m.\u001b[39;49mrender_catalog(full_catalog, psf, dithers)\n",
      "\u001b[1;32m/home/wmallory/bliss/case_studies/coadds/test_notebook.ipynb Cell 11\u001b[0m in \u001b[0;36mFullCatalogDecoder.render_catalog\u001b[0;34m(self, full_cat, psf, dithers)\u001b[0m\n\u001b[1;32m    <a href='vscode-notebook-cell://ssh-remote%2Bdeeplearning-01.stat.lsa.umich.edu/home/wmallory/bliss/case_studies/coadds/test_notebook.ipynb#ch0000010vscode-remote?line=156'>157</a>\u001b[0m     noiseless_centered[ii] \u001b[39m=\u001b[39m centered\u001b[39m.\u001b[39mreshape(centered\u001b[39m.\u001b[39mshape[\u001b[39m0\u001b[39m], size, size)\n\u001b[1;32m    <a href='vscode-notebook-cell://ssh-remote%2Bdeeplearning-01.stat.lsa.umich.edu/home/wmallory/bliss/case_studies/coadds/test_notebook.ipynb#ch0000010vscode-remote?line=157'>158</a>\u001b[0m     noiseless_uncentered[ii] \u001b[39m=\u001b[39m uncentered\u001b[39m.\u001b[39mreshape(uncentered\u001b[39m.\u001b[39mshape[\u001b[39m0\u001b[39m], size, size)\n\u001b[0;32m--> <a href='vscode-notebook-cell://ssh-remote%2Bdeeplearning-01.stat.lsa.umich.edu/home/wmallory/bliss/case_studies/coadds/test_notebook.ipynb#ch0000010vscode-remote?line=158'>159</a>\u001b[0m     image0 \u001b[39m+\u001b[39m\u001b[39m=\u001b[39m uncentered\n\u001b[1;32m    <a href='vscode-notebook-cell://ssh-remote%2Bdeeplearning-01.stat.lsa.umich.edu/home/wmallory/bliss/case_studies/coadds/test_notebook.ipynb#ch0000010vscode-remote?line=159'>160</a>\u001b[0m     image \u001b[39m+\u001b[39m\u001b[39m=\u001b[39m uncentered_dithered\n\u001b[1;32m    <a href='vscode-notebook-cell://ssh-remote%2Bdeeplearning-01.stat.lsa.umich.edu/home/wmallory/bliss/case_studies/coadds/test_notebook.ipynb#ch0000010vscode-remote?line=160'>161</a>\u001b[0m \u001b[39mreturn\u001b[39;00m image, noiseless_centered, noiseless_uncentered, image0\n",
      "\u001b[0;31mRuntimeError\u001b[0m: output with shape [1, 88, 88] doesn't match the broadcast shape [1, 1, 88, 88]"
     ]
    }
   ],
   "source": [
    "slen = 40\n",
    "bp = 24\n",
    "fcdecoder = FullCatalogDecoder(decoder, slen, bp)\n",
    "fcdecoder.render_catalog(full_catalog, psf, dithers) # Do I need to change the target in config to bliss.case_study.coadd.coadd_decoder?"
   ]
  },
  {
   "cell_type": "code",
   "execution_count": 48,
   "metadata": {},
   "outputs": [
    {
     "data": {
      "text/plain": [
       "[array([ 0.2863866, -0.2431587], dtype=float32),\n",
       " array([0.45234668, 0.29335123], dtype=float32),\n",
       " array([0.26052737, 0.14739156], dtype=float32),\n",
       " array([-0.45585835,  0.38580644], dtype=float32)]"
      ]
     },
     "execution_count": 48,
     "metadata": {},
     "output_type": "execute_result"
    }
   ],
   "source": [
    "dithers"
   ]
  },
  {
   "cell_type": "code",
   "execution_count": 17,
   "metadata": {},
   "outputs": [
    {
     "data": {
      "text/plain": [
       "tensor([[[[0.6450, 0.6866, 0.7302,  ..., 0.7836, 0.7379, 0.6940],\n",
       "          [0.7072, 0.7555, 0.8065,  ..., 0.8685, 0.8147, 0.7633],\n",
       "          [0.7753, 0.8314, 0.8910,  ..., 0.9631, 0.8998, 0.8397],\n",
       "          ...,\n",
       "          [0.7746, 0.8299, 0.8884,  ..., 0.9296, 0.8688, 0.8113],\n",
       "          [0.7065, 0.7541, 0.8042,  ..., 0.8384, 0.7868, 0.7375],\n",
       "          [0.6444, 0.6854, 0.7281,  ..., 0.7566, 0.7127, 0.6705]]],\n",
       "\n",
       "\n",
       "        [[[0.6403, 0.6814, 0.7244,  ..., 0.7771, 0.7319, 0.6886],\n",
       "          [0.7020, 0.7497, 0.8000,  ..., 0.8612, 0.8081, 0.7574],\n",
       "          [0.7696, 0.8251, 0.8839,  ..., 0.9550, 0.8924, 0.8332],\n",
       "          ...,\n",
       "          [0.7804, 0.8364, 0.8957,  ..., 0.9373, 0.8758, 0.8176],\n",
       "          [0.7119, 0.7600, 0.8107,  ..., 0.8454, 0.7931, 0.7432],\n",
       "          [0.6493, 0.6907, 0.7341,  ..., 0.7629, 0.7183, 0.6757]]],\n",
       "\n",
       "\n",
       "        [[[0.6581, 0.6996, 0.7430,  ..., 0.7394, 0.6962, 0.6549],\n",
       "          [0.7231, 0.7716, 0.8224,  ..., 0.8175, 0.7669, 0.7187],\n",
       "          [0.7947, 0.8511, 0.9108,  ..., 0.9041, 0.8448, 0.7887],\n",
       "          ...,\n",
       "          [0.8246, 0.8838, 0.9464,  ..., 0.9097, 0.8490, 0.7918],\n",
       "          [0.7504, 0.8011, 0.8544,  ..., 0.8225, 0.7707, 0.7215],\n",
       "          [0.6829, 0.7263, 0.7717,  ..., 0.7439, 0.6996, 0.6574]]],\n",
       "\n",
       "\n",
       "        [[[0.6643, 0.7073, 0.7524,  ..., 0.7836, 0.7372, 0.6928],\n",
       "          [0.7290, 0.7791, 0.8319,  ..., 0.8677, 0.8132, 0.7614],\n",
       "          [0.8000, 0.8582, 0.9201,  ..., 0.9614, 0.8973, 0.8368],\n",
       "          ...,\n",
       "          [0.7774, 0.8323, 0.8902,  ..., 0.9003, 0.8418, 0.7864],\n",
       "          [0.7085, 0.7556, 0.8051,  ..., 0.8129, 0.7631, 0.7155],\n",
       "          [0.6456, 0.6861, 0.7284,  ..., 0.7344, 0.6919, 0.6511]]]])"
      ]
     },
     "execution_count": 17,
     "metadata": {},
     "output_type": "execute_result"
    }
   ],
   "source": [
    "total_flux, disk_frac, beta_radians, disk_q, a_d, bulge_q, a_b = galaxy_params[0]\n",
    "bulge_frac = 1 - disk_frac\n",
    "\n",
    "disk_flux = total_flux * disk_frac\n",
    "bulge_flux = total_flux * bulge_frac\n",
    "\n",
    "components = []\n",
    "if disk_flux > 0:\n",
    "    b_d = a_d * disk_q\n",
    "    disk_hlr_arcsecs = np.sqrt(a_d * b_d)\n",
    "    disk = galsim.Exponential(flux=disk_flux, half_light_radius=disk_hlr_arcsecs).shear(\n",
    "        q=disk_q,\n",
    "        beta=beta_radians * galsim.radians,\n",
    "    )\n",
    "    components.append(disk)\n",
    "if bulge_flux > 0:\n",
    "    b_b = bulge_q * a_b\n",
    "    bulge_hlr_arcsecs = np.sqrt(a_b * b_b)\n",
    "    bulge = galsim.DeVaucouleurs(\n",
    "        flux=bulge_flux, half_light_radius=bulge_hlr_arcsecs\n",
    "    ).shear(q=bulge_q, beta=beta_radians * galsim.radians)\n",
    "    components.append(bulge)\n",
    "galaxy = galsim.Add(components)\n",
    "gal_conv = galsim.Convolution(galaxy, psf)\n",
    "offset = (0,0) if offset is None else offset\n",
    "dithers = (0,0) if dithers is None else dithers\n",
    "shift = torch.add(torch.Tensor(dithers), torch.Tensor(offset))\n",
    "shift = shift.reshape(1,2) if len(shift) == 2 else shift\n",
    "images = []\n",
    "for i in shift:\n",
    "    image = gal_conv.drawImage(\n",
    "        nx=slen, ny=slen, method=\"auto\", scale=pixel_scale, offset=i\n",
    "    )\n",
    "    image = image.array\n",
    "    images.append(image)\n",
    "torch.tensor(images[:]).reshape(len(shift), 1, slen, slen)\n"
   ]
  },
  {
   "cell_type": "code",
   "execution_count": 18,
   "metadata": {},
   "outputs": [],
   "source": [
    "size = decoder.slen + 2 * bp\n",
    "full_plocs = full_catalog.plocs\n",
    "b, max_n_sources, _ = full_plocs.shape\n",
    "\n",
    "image = torch.zeros(len(dithers), 1, size, size)\n",
    "noiseless_centered = torch.zeros(max_n_sources, len(dithers), size, size)\n",
    "noiseless_uncentered = torch.zeros(max_n_sources, len(dithers), size, size)\n",
    "\n",
    "n_sources = int(full_catalog.n_sources[0].item())\n",
    "galaxy_params = full_catalog[\"galaxy_params\"][0]\n",
    "plocs = full_plocs[0]\n",
    "\n",
    "for ii in range(n_sources):\n",
    "    offset_x = plocs[ii][1] + bp - size / 2\n",
    "    offset_y = plocs[ii][0] + bp - size / 2\n",
    "    offset = torch.tensor([offset_x, offset_y])\n",
    "    centered = csgd.render_galaxy(galaxy_params[ii], psf, size, dithers = dithers)\n",
    "    uncentered = csgd.render_galaxy(galaxy_params[ii], psf, size, offset, dithers)\n",
    "    noiseless_centered[ii] = centered.reshape(centered.shape[0], size, size)\n",
    "    noiseless_uncentered[ii] = uncentered.reshape(uncentered.shape[0], size, size)\n",
    "    image += uncentered"
   ]
  },
  {
   "cell_type": "code",
   "execution_count": 21,
   "metadata": {},
   "outputs": [
    {
     "data": {
      "text/plain": [
       "<matplotlib.image.AxesImage at 0x7f379d24dbe0>"
      ]
     },
     "execution_count": 21,
     "metadata": {},
     "output_type": "execute_result"
    },
    {
     "data": {
      "image/png": "[encoded data removed]",
      "text/plain": [
       "<Figure size 432x288 with 1 Axes>"
      ]
     },
     "metadata": {
      "needs_background": "light"
     },
     "output_type": "display_data"
    }
   ],
   "source": [
    "plt.imshow(image[2].reshape(image[2].shape[1],image[2].shape[2]).numpy())"
   ]
  },
  {
   "cell_type": "code",
   "execution_count": 69,
   "metadata": {},
   "outputs": [
    {
     "data": {
      "text/plain": [
       "torch.Size([4, 1, 88, 88])"
      ]
     },
     "execution_count": 69,
     "metadata": {},
     "output_type": "execute_result"
    }
   ],
   "source": [
    "centered.shape"
   ]
  },
  {
   "cell_type": "code",
   "execution_count": 71,
   "metadata": {},
   "outputs": [
    {
     "data": {
      "text/plain": [
       "torch.Size([6, 4, 88, 88])"
      ]
     },
     "execution_count": 71,
     "metadata": {},
     "output_type": "execute_result"
    }
   ],
   "source": [
    "noiseless_centered.shape"
   ]
  },
  {
   "cell_type": "code",
   "execution_count": 72,
   "metadata": {},
   "outputs": [
    {
     "data": {
      "text/plain": [
       "torch.Size([4, 1, 88, 88])"
      ]
     },
     "execution_count": 72,
     "metadata": {},
     "output_type": "execute_result"
    }
   ],
   "source": [
    "image.shape"
   ]
  },
  {
   "cell_type": "code",
   "execution_count": 22,
   "metadata": {},
   "outputs": [],
   "source": [
    "image = torch.zeros(len(dithers), 1, size, size)\n",
    "image0 = torch.zeros(1, 1, size, size)\n",
    "noiseless_centered = torch.zeros(max_n_sources, len(dithers), size, size)\n",
    "noiseless_uncentered = torch.zeros(max_n_sources, len(dithers), size, size)\n",
    "\n",
    "n_sources = int(full_catalog.n_sources[0].item())\n",
    "galaxy_params = full_catalog[\"galaxy_params\"][0]\n",
    "plocs = full_plocs[0]\n",
    "\n",
    "for ii in range(n_sources):\n",
    "    offset_x = plocs[ii][1] + bp - size / 2\n",
    "    offset_y = plocs[ii][0] + bp - size / 2\n",
    "    offset = torch.tensor([offset_x, offset_y])\n",
    "    centered = csgd.render_galaxy(galaxy_params[ii], psf, size, dithers = dithers)\n",
    "    uncentered = csgd.render_galaxy(galaxy_params[ii], psf, size, offset)\n",
    "    uncentered_dithered = csgd.render_galaxy(galaxy_params[ii], psf, size, offset, dithers)\n",
    "    noiseless_centered[ii] = centered.reshape(centered.shape[0], size, size)\n",
    "    noiseless_uncentered[ii] = uncentered.reshape(uncentered.shape[0], size, size)\n",
    "    image0 += uncentered\n",
    "    image += uncentered_dithered"
   ]
  },
  {
   "cell_type": "code",
   "execution_count": 23,
   "metadata": {},
   "outputs": [
    {
     "data": {
      "text/plain": [
       "<matplotlib.image.AxesImage at 0x7f379d1bd4c0>"
      ]
     },
     "execution_count": 23,
     "metadata": {},
     "output_type": "execute_result"
    },
    {
     "data": {
      "image/png": "[encoded data removed]",
      "text/plain": [
       "<Figure size 432x288 with 1 Axes>"
      ]
     },
     "metadata": {
      "needs_background": "light"
     },
     "output_type": "display_data"
    }
   ],
   "source": [
    "plt.imshow(image0[:].reshape(image0[:].shape[2],image0[:].shape[3]).numpy())"
   ]
  },
  {
   "cell_type": "code",
   "execution_count": 24,
   "metadata": {},
   "outputs": [
    {
     "data": {
      "text/plain": [
       "<matplotlib.image.AxesImage at 0x7f379d134190>"
      ]
     },
     "execution_count": 24,
     "metadata": {},
     "output_type": "execute_result"
    },
    {
     "data": {
      "image/png": "[encoded data removed]",
      "text/plain": [
       "<Figure size 432x288 with 1 Axes>"
      ]
     },
     "metadata": {
      "needs_background": "light"
     },
     "output_type": "display_data"
    }
   ],
   "source": [
    "plt.imshow(image[2].reshape(image[2].shape[1],image[2].shape[2]).numpy())"
   ]
  },
  {
   "cell_type": "code",
   "execution_count": 40,
   "metadata": {},
   "outputs": [],
   "source": [
    "i0 = galsim.Image(np.array(image0[:].reshape(88,88)), wcs=galsim.PixelScale(pixel_scale))\n",
    "i1 = galsim.Image(np.array(image[:][0].reshape(88,88)))"
   ]
  },
  {
   "cell_type": "code",
   "execution_count": 41,
   "metadata": {},
   "outputs": [
    {
     "data": {
      "text/plain": [
       "galsim.Image(bounds=galsim.BoundsI(xmin=1, xmax=88, ymin=1, ymax=88), array=\n",
       "array([[0.08272244, 0.09300385, 0.10456953, ..., 0.01125182, 0.01102378,\n",
       "        0.01079921],\n",
       "       [0.08105282, 0.09132911, 0.10296295, ..., 0.01276185, 0.0125016 ,\n",
       "        0.01224473],\n",
       "       [0.07930537, 0.0895243 , 0.10115696, ..., 0.01448483, 0.01418667,\n",
       "        0.01389174],\n",
       "       ...,\n",
       "       [0.00234879, 0.0025106 , 0.00268801, ..., 0.02021956, 0.01892692,\n",
       "        0.01770169],\n",
       "       [0.0021944 , 0.00234246, 0.00250437, ..., 0.0201644 , 0.01891153,\n",
       "        0.01771894],\n",
       "       [0.00205302, 0.0021885 , 0.00233656, ..., 0.02008204, 0.01887209,\n",
       "        0.01771483]], dtype=float32), wcs=galsim.PixelScale(0.393))"
      ]
     },
     "execution_count": 41,
     "metadata": {},
     "output_type": "execute_result"
    }
   ],
   "source": [
    "i0"
   ]
  },
  {
   "cell_type": "code",
   "execution_count": 44,
   "metadata": {},
   "outputs": [],
   "source": [
    "from bliss.models.decoder import get_mgrid\n",
    "def align_single_exposures(img0, img1, slen, dithers):\n",
    "    img0 = galsim.Image(np.array(img0), wcs=galsim.PixelScale(pixel_scale))\n",
    "    wcs0 = img0.wcs\n",
    "    images = img1\n",
    "\n",
    "    sgrid = (get_mgrid(slen) - (-1))/(1-(-1)) * (slen)\n",
    "    grid_x = wcs0.xyTouv(np.array(sgrid.reshape(slen*slen,2)[:,0]), np.array(sgrid.reshape(slen*slen,2)[:,1]))[0]\n",
    "    grid_y = wcs0.xyTouv(np.array(sgrid.reshape(slen*slen,2)[:,0]), np.array(sgrid.reshape(slen*slen,2)[:,1]))[1]\n",
    "\n",
    "    grid = torch.empty(size=(0, 2))\n",
    "    for i in dithers:\n",
    "        wcs1 = galsim.OffsetWCS(scale = 0.393, origin = galsim.PositionD(i))\n",
    "        x, y = wcs1.uvToxy(grid_x,grid_y)\n",
    "        x_grid = (x/slen) * (1-(-1)) + (-1)\n",
    "        y_grid = (y/slen) * (1-(-1)) + (-1)\n",
    "        grid = torch.cat([grid, torch.stack((torch.tensor(x_grid),torch.tensor(y_grid)),-1)], dim=0)\n",
    "\n",
    "    iplots = []\n",
    "    input = torch.tensor(images[:]).reshape(len(dithers),1,slen,slen).float()\n",
    "    grids = grid.reshape(len(dithers),1,slen*slen,2).float()\n",
    "    iplots.append(F.grid_sample(input, grids, align_corners = False))\n",
    "    \n",
    "    tenplot = torch.tensor(iplots[:][0])\n",
    "    crop_images = []\n",
    "    for i in range(tenplot.shape[0]):\n",
    "        im = np.array(tenplot[i].reshape(slen,slen))\n",
    "        crop_im = im[1:slen-1, 1:slen-1]\n",
    "        crop_images.append(crop_im)\n",
    "    return crop_images"
   ]
  },
  {
   "cell_type": "code",
   "execution_count": 49,
   "metadata": {},
   "outputs": [
    {
     "data": {
      "text/plain": [
       "torch.Size([4, 1, 88, 88])"
      ]
     },
     "execution_count": 49,
     "metadata": {},
     "output_type": "execute_result"
    }
   ],
   "source": [
    "image[:].shape"
   ]
  },
  {
   "cell_type": "code",
   "execution_count": 54,
   "metadata": {},
   "outputs": [
    {
     "name": "stderr",
     "output_type": "stream",
     "text": [
      "/tmp/ipykernel_1798461/3117052429.py:20: UserWarning: To copy construct from a tensor, it is recommended to use sourceTensor.clone().detach() or sourceTensor.clone().detach().requires_grad_(True), rather than torch.tensor(sourceTensor).\n",
      "  input = torch.tensor(images[:]).reshape(len(dithers),1,slen,slen).float()\n",
      "/tmp/ipykernel_1798461/3117052429.py:24: UserWarning: To copy construct from a tensor, it is recommended to use sourceTensor.clone().detach() or sourceTensor.clone().detach().requires_grad_(True), rather than torch.tensor(sourceTensor).\n",
      "  tenplot = torch.tensor(iplots[:][0])\n"
     ]
    },
    {
     "data": {
      "text/plain": [
       "torch.Size([4, 86, 86])"
      ]
     },
     "execution_count": 54,
     "metadata": {},
     "output_type": "execute_result"
    }
   ],
   "source": [
    "torch.tensor(align_single_exposures(image0[:].reshape(88,88), image, size, dithers)).shape"
   ]
  }
 ],
 "metadata": {
  "kernelspec": {
   "display_name": "Python 3.8.10 ('bliss-z6VjvYh8-py3.8')",
   "language": "python",
   "name": "python3"
  },
  "language_info": {
   "codemirror_mode": {
    "name": "ipython",
    "version": 3
   },
   "file_extension": ".py",
   "mimetype": "text/x-python",
   "name": "python",
   "nbconvert_exporter": "python",
   "pygments_lexer": "ipython3",
   "version": "3.8.10"
  },
  "orig_nbformat": 4,
  "vscode": {
   "interpreter": {
    "hash": "42573bf324965e8843cce5661f2b7cff1bd822ab6b918329f3dd4ef295939d5e"
   }
  }
 },
 "nbformat": 4,
 "nbformat_minor": 2
}

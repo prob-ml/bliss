{
 "cells": [
  {
   "cell_type": "code",
   "execution_count": 2,
   "metadata": {},
   "outputs": [],
   "source": [
    "from typing import Dict, List, Optional\n",
    "import matplotlib.pyplot as plt\n",
    "from hydra import compose, initialize\n",
    "from hydra.utils import instantiate\n",
    "import numpy as np\n",
    "import pytorch_lightning as pl\n",
    "import torch\n",
    "from torch import Tensor\n",
    "import torch.nn.functional as F\n",
    "from einops import rearrange\n",
    "from torch.utils.data import DataLoader, Dataset\n",
    "import galsim\n",
    "from bliss.catalog import TileCatalog, get_is_on_from_n_sources, FullCatalog\n",
    "from bliss.datasets.background import ConstantBackground\n",
    "from bliss.datasets.sdss import convert_flux_to_mag\n",
    "from bliss.models.galsim_decoder import SingleGalsimGalaxyDecoder,SingleGalsimGalaxyPrior,UniformGalsimGalaxiesPrior\n",
    "from bliss.datasets.galsim_galaxies import GalsimBlends\n",
    "from case_studies.coadds.signal_noise_ratio  import snr\n"
   ]
  },
  {
   "cell_type": "code",
   "execution_count": 15,
   "metadata": {},
   "outputs": [
    {
     "name": "stdout",
     "output_type": "stream",
     "text": [
      "The autoreload extension is already loaded. To reload it, use:\n",
      "  %reload_ext autoreload\n",
      "Modules to reload:\n",
      "all-except-skipped\n",
      "\n",
      "Modules to skip:\n",
      "\n"
     ]
    }
   ],
   "source": [
    "%load_ext autoreload\n",
    "%autoreload 2\n",
    "%aimport\n",
    "%matplotlib inline "
   ]
  },
  {
   "cell_type": "code",
   "execution_count": 4,
   "metadata": {},
   "outputs": [],
   "source": [
    "def _add_noise_and_background(image: Tensor, background: Tensor) -> Tensor:\n",
    "    image_with_background = image + background\n",
    "    noise = image_with_background.sqrt() * torch.randn_like(image_with_background)\n",
    "    return image_with_background + noise\n",
    "\n",
    "def load_psf_from_file(psf_image_file: str, pixel_scale: float) -> galsim.GSObject:\n",
    "    \"\"\"Return normalized PSF galsim.GSObject from numpy psf_file.\"\"\"\n",
    "    assert Path(psf_image_file).suffix == \".npy\"\n",
    "    psf_image = np.load(psf_image_file)\n",
    "    assert len(psf_image.shape) == 3 and psf_image.shape[0] == 1\n",
    "    psf_image = galsim.Image(psf_image[0], scale=pixel_scale)\n",
    "    return galsim.InterpolatedImage(psf_image).withFlux(1.0)\n",
    "\n",
    "def _sample_n_sources(max_n_sources) -> int:\n",
    "    return int(torch.randint(1, max_n_sources + 1, (1,)).int().item())\n",
    "\n",
    "def _uniform(a, b, n_samples=1) -> Tensor:\n",
    "    # uses pytorch to return a single float ~ U(a, b)\n",
    "    return (a - b) * torch.rand(n_samples) + b\n",
    "\n",
    "class CoaddUniformGalsimGalaxiesPrior(UniformGalsimGalaxiesPrior):\n",
    "    def __init__(\n",
    "        self,\n",
    "        single_galaxy_prior: SingleGalsimGalaxyPrior,\n",
    "        max_n_sources: int,\n",
    "        max_shift: float,\n",
    "        num_dithers: int,\n",
    "    ):\n",
    "        super().__init__(\n",
    "            single_galaxy_prior,\n",
    "            max_n_sources,\n",
    "            max_shift,\n",
    "        )\n",
    "        \n",
    "    def sample(self) -> Dict[str, Tensor]:\n",
    "        \"\"\"Returns a single batch of source parameters.\"\"\"\n",
    "        n_sources = _sample_n_sources(self.max_n_sources)\n",
    "\n",
    "        params = torch.zeros(self.max_n_sources, self.dim_latents)\n",
    "        params[:n_sources, :] = self.single_galaxy_prior.sample(n_sources)\n",
    "\n",
    "        locs = torch.zeros(self.max_n_sources, 2)\n",
    "        locs[:n_sources, 0] = _uniform(-self.max_shift, self.max_shift, n_sources) + 0.5\n",
    "        locs[:n_sources, 1] = _uniform(-self.max_shift, self.max_shift, n_sources) + 0.5\n",
    "\n",
    "        # for now, galaxies only\n",
    "        galaxy_bools = torch.zeros(self.max_n_sources, 1)\n",
    "        galaxy_bools[:n_sources, :] = 1\n",
    "        star_bools = torch.zeros(self.max_n_sources, 1)\n",
    "\n",
    "        dithers = [((-0.5 - 0.5) * torch.rand((2,)) + 0.5).numpy() for x in range(num_dithers)]\n",
    "\n",
    "        return {\n",
    "            \"n_sources\": torch.tensor(n_sources),\n",
    "            \"galaxy_params\": params,\n",
    "            \"locs\": locs,\n",
    "            \"galaxy_bools\": galaxy_bools,\n",
    "            \"star_bools\": star_bools,\n",
    "            \"dithers\": dithers,\n",
    "        }\n",
    "\n",
    "class CoaddSingleGalaxyDecoder(SingleGalsimGalaxyDecoder):\n",
    "    def __init__(\n",
    "        self,\n",
    "        slen: int,\n",
    "        n_bands: int,\n",
    "        pixel_scale: float,\n",
    "    #    psf_image_file: str,\n",
    "     ) -> None:\n",
    "        assert n_bands == 1, \"Only 1 band is supported\"\n",
    "        self.slen = slen\n",
    "        self.n_bands = 1\n",
    "        self.pixel_scale = pixel_scale\n",
    "    #    self.psf = load_psf_from_file(psf_image_file, self.pixel_scale)\n",
    "        \n",
    "    def render_galaxy(\n",
    "        self,\n",
    "        galaxy_params: Tensor,\n",
    "        psf: galsim.GSObject,\n",
    "        slen: int,\n",
    "        offset: Optional[Tensor] = None,\n",
    "        dithers: Optional[Tensor] = None,\n",
    "    ) -> Tensor:\n",
    "        assert offset is None or offset.shape == (2,)\n",
    "        if isinstance(galaxy_params, Tensor):\n",
    "            galaxy_params = galaxy_params.cpu().detach()\n",
    "        total_flux, disk_frac, beta_radians, disk_q, a_d, bulge_q, a_b = galaxy_params\n",
    "        bulge_frac = 1 - disk_frac\n",
    "\n",
    "        disk_flux = total_flux * disk_frac\n",
    "        bulge_flux = total_flux * bulge_frac\n",
    "\n",
    "        components = []\n",
    "        if disk_flux > 0:\n",
    "            b_d = a_d * disk_q\n",
    "            disk_hlr_arcsecs = np.sqrt(a_d * b_d)\n",
    "            disk = galsim.Exponential(flux=disk_flux, half_light_radius=disk_hlr_arcsecs).shear(\n",
    "                q=disk_q,\n",
    "                beta=beta_radians * galsim.radians,\n",
    "            )\n",
    "            components.append(disk)\n",
    "        if bulge_flux > 0:\n",
    "            b_b = bulge_q * a_b\n",
    "            bulge_hlr_arcsecs = np.sqrt(a_b * b_b)\n",
    "            bulge = galsim.DeVaucouleurs(\n",
    "                flux=bulge_flux, half_light_radius=bulge_hlr_arcsecs\n",
    "            ).shear(q=bulge_q, beta=beta_radians * galsim.radians)\n",
    "            components.append(bulge)\n",
    "        galaxy = galsim.Add(components)\n",
    "        gal_conv = galsim.Convolution(galaxy, psf)\n",
    "        offset = (0,0) if offset is None else offset\n",
    "        dithers = (0,0) if dithers is None else dithers\n",
    "        shift = torch.add(torch.Tensor(dithers), torch.Tensor(offset))\n",
    "        shift = shift.reshape(1,2) if len(shift) == 2 else shift\n",
    "        images = []\n",
    "        for i in shift:\n",
    "            image = gal_conv.drawImage(\n",
    "                nx=slen, ny=slen, method=\"auto\", scale=self.pixel_scale, offset=i\n",
    "            )\n",
    "            image = image.array\n",
    "            images.append(image)\n",
    "        return torch.tensor(images[:]).reshape(len(shift), 1, slen, slen)\n",
    "\n",
    "class FullCatalogDecoder:\n",
    "    def __init__(\n",
    "        self, single_galaxy_decoder: CoaddSingleGalaxyDecoder, slen: int, bp: int\n",
    "    ) -> None:\n",
    "        self.single_decoder = single_galaxy_decoder\n",
    "        self.slen = slen\n",
    "        self.bp = bp\n",
    "        assert self.slen + 2 * self.bp >= self.single_decoder.slen\n",
    "\n",
    "    def __call__(self, full_cat: FullCatalog):\n",
    "        return self.render_catalog(full_cat, self.single_decoder.psf)\n",
    "\n",
    "    def render_catalog(self, full_cat: FullCatalog, psf: galsim.GSObject, dithers: Optional[Tensor]):\n",
    "        size = self.slen + 2 * bp\n",
    "        full_plocs = full_cat.plocs\n",
    "        b, max_n_sources, _ = full_plocs.shape\n",
    "\n",
    "        image = torch.zeros(len(dithers), 1, size, size)\n",
    "        image0 = torch.zeros(1, size, size)\n",
    "        noiseless_centered = torch.zeros(len(dithers), max_n_sources, 1, size, size)\n",
    "        noiseless_uncentered = torch.zeros(len(dithers), max_n_sources, 1, size, size)\n",
    "\n",
    "        n_sources = int(full_cat.n_sources[0].item())\n",
    "        galaxy_params = full_cat[\"galaxy_params\"][0]\n",
    "        plocs = full_plocs[0]\n",
    "\n",
    "        for ii in range(n_sources):\n",
    "            offset_x = plocs[ii][1] + bp - size / 2\n",
    "            offset_y = plocs[ii][0] + bp - size / 2\n",
    "            offset = torch.tensor([offset_x, offset_y])\n",
    "            centered = self.single_decoder.render_galaxy(galaxy_params[ii], psf, size, dithers = dithers)\n",
    "            uncentered = self.single_decoder.render_galaxy(galaxy_params[ii], psf, size, offset)\n",
    "            uncentered_dithered = self.single_decoder.render_galaxy(galaxy_params[ii], psf, size, offset, dithers)\n",
    "            noiseless_centered[:,ii] = centered.reshape(centered.shape[0], 1, size, size)\n",
    "            noiseless_uncentered[:,ii] = uncentered.reshape(uncentered.shape[0], 1, size, size)\n",
    "            image0 += uncentered\n",
    "            image += uncentered_dithered\n",
    "        return image, noiseless_centered, noiseless_uncentered, image0\n",
    "\n",
    "\n",
    "class CoaddGalsimBlends(GalsimBlends):\n",
    "    \"\"\"Dataset of coadd galsim blends.\"\"\"\n",
    "\n",
    "    def __init__(self,\n",
    "        prior: UniformGalsimGalaxiesPrior,\n",
    "        decoder: FullCatalogDecoder,\n",
    "        background: ConstantBackground,\n",
    "        tile_slen: int,\n",
    "        max_sources_per_tile: int,\n",
    "        num_workers: int,\n",
    "        batch_size: int,\n",
    "        n_batches: int,\n",
    "        fix_validation_set: bool = False,\n",
    "        valid_n_batches: Optional[int] = None,\n",
    "    ):\n",
    "        super().__init__(\n",
    "            prior,\n",
    "            decoder,\n",
    "            background,\n",
    "            tile_slen,\n",
    "            max_sources_per_tile,\n",
    "            num_workers,\n",
    "            batch_size,\n",
    "            n_batches,\n",
    "            fix_validation_set,\n",
    "            valid_n_batches,\n",
    "        )\n",
    "        self.prior = prior\n",
    "        self.decoder = decoder\n",
    "        self.n_batches = n_batches\n",
    "        self.batch_size = batch_size\n",
    "        self.num_workers = num_workers\n",
    "        self.background = background\n",
    "        self.fix_validation_set = fix_validation_set\n",
    "        self.valid_n_batches = valid_n_batches\n",
    "        \n",
    "        self.slen = self.decoder.slen\n",
    "        self.pixel_scale = self.decoder.single_decoder.pixel_scale\n",
    "        \n",
    "\n",
    "    def _get_images(self, full_cat, dithers):\n",
    "        size = self.slen + 2 * self.bp # check bp gets passed through\n",
    "        psf_obj = self.psf.sample()\n",
    "        noiseless, noiseless_centered, noiseless_uncentered, image0 = FullCatalogDecoder.render_catalog(\n",
    "            full_cat, psf_obj, dithers\n",
    "        )\n",
    "\n",
    "        # get background and noisy image.\n",
    "        background = background.sample((1, *noiseless.reshape(len(dithers),size,size).shape)).squeeze(0).reshape(len(dithers),1,size,size)\n",
    "        noisy_image = _add_noise_and_background(noiseless, background)\n",
    "\n",
    "        # align single exposures\n",
    "        aligned_images = align_single_exposures(image0[:].reshape(size,size), noisy_image, size, dithers)\n",
    "        \n",
    "        # get snr\n",
    "        bg = background[:,:, 1:size-1, 1:size-1]\n",
    "        img = aligned_images.reshape(len(dithers),1,size-2,size-2)\n",
    "        snr_images = snr(img, bg)\n",
    "\n",
    "        # coadd images\n",
    "        cropped_background = background.reshape(len(dithers),size,size)[:,1:size-1, 1:size-1] \n",
    "        coadded_image = linear_coadd(aligned_images, cropped_background)\n",
    "\n",
    "        return noisy_image, noiseless, noiseless_centered, noiseless_uncentered, background, snr_images, coadded_image\n",
    "\n",
    "    def _add_metrics(\n",
    "        self,\n",
    "        full_cat: FullCatalog,\n",
    "    ):\n",
    "        return full_cat\n",
    "\n",
    "\n"
   ]
  },
  {
   "cell_type": "code",
   "execution_count": 5,
   "metadata": {},
   "outputs": [],
   "source": [
    "with initialize(config_path=\"../sdss_galaxies/config\"):\n",
    "    cfg = compose(\"config\", overrides=[])"
   ]
  },
  {
   "cell_type": "code",
   "execution_count": 6,
   "metadata": {},
   "outputs": [],
   "source": [
    "prior = instantiate(cfg.datasets.sdss_galaxies.prior) \n",
    "decoder = instantiate(cfg.datasets.sdss_galaxies.decoder)\n",
    "background = instantiate(cfg.datasets.galsim_blended_galaxies.background)\n",
    "tile_slen = 4\n",
    "max_tile_n_sources = 1\n",
    "num_workers = 5\n",
    "n_batches = 1\n",
    "max_n_sources = 1\n",
    "max_shift = 0.5\n",
    "num_dithers = 4\n",
    "mprior = instantiate(cfg.models.prior)\n",
    "tile_catalog = mprior.sample_prior(tile_slen=4, batch_size=3, n_tiles_h=2, n_tiles_w=2)\n",
    "full_catalog = TileCatalog.to_full_params(tile_catalog)"
   ]
  },
  {
   "cell_type": "code",
   "execution_count": 7,
   "metadata": {},
   "outputs": [],
   "source": [
    "# Test CUGGP\n",
    "cuggp = CoaddUniformGalsimGalaxiesPrior(prior, max_n_sources, max_shift, num_dithers)\n"
   ]
  },
  {
   "cell_type": "code",
   "execution_count": 45,
   "metadata": {},
   "outputs": [],
   "source": [
    "pixel_scale = 0.393\n",
    "cuggprior = cuggp.sample() # does not work if we use galsim_blended_galaxies for prior config\n",
    "n_sources = cuggprior[\"n_sources\"]\n",
    "galaxy_params = cuggprior[\"galaxy_params\"]\n",
    "locs = cuggprior[\"locs\"]\n",
    "galaxy_bools = cuggprior[\"galaxy_bools\"]\n",
    "star_bools = cuggprior[\"star_bools\"]\n",
    "dithers = cuggprior[\"dithers\"]\n",
    "offset = None\n",
    "psf = decoder.psf\n"
   ]
  },
  {
   "cell_type": "code",
   "execution_count": 46,
   "metadata": {},
   "outputs": [
    {
     "data": {
      "text/plain": [
       "[array([0.40698195, 0.35111105], dtype=float32),\n",
       " array([0.18484151, 0.4421649 ], dtype=float32),\n",
       " array([ 0.29798478, -0.3029046 ], dtype=float32),\n",
       " array([-0.42174256,  0.07150775], dtype=float32)]"
      ]
     },
     "execution_count": 46,
     "metadata": {},
     "output_type": "execute_result"
    }
   ],
   "source": [
    "dithers"
   ]
  },
  {
   "cell_type": "code",
   "execution_count": 9,
   "metadata": {},
   "outputs": [
    {
     "name": "stderr",
     "output_type": "stream",
     "text": [
      "/tmp/ipykernel_156891/1980006849.py:119: UserWarning: Creating a tensor from a list of numpy.ndarrays is extremely slow. Please consider converting the list to a single numpy.ndarray with numpy.array() before converting to a tensor. (Triggered internally at  ../torch/csrc/utils/tensor_new.cpp:210.)\n",
      "  shift = torch.add(torch.Tensor(dithers), torch.Tensor(offset))\n"
     ]
    },
    {
     "data": {
      "text/plain": [
       "tensor([[[[0.0219, 0.0229, 0.0239,  ..., 0.0130, 0.0123, 0.0117],\n",
       "          [0.0239, 0.0251, 0.0262,  ..., 0.0142, 0.0134, 0.0127],\n",
       "          [0.0261, 0.0274, 0.0288,  ..., 0.0155, 0.0146, 0.0138],\n",
       "          ...,\n",
       "          [0.0155, 0.0164, 0.0174,  ..., 0.0306, 0.0291, 0.0277],\n",
       "          [0.0142, 0.0150, 0.0159,  ..., 0.0280, 0.0267, 0.0254],\n",
       "          [0.0130, 0.0137, 0.0145,  ..., 0.0255, 0.0244, 0.0233]]],\n",
       "\n",
       "\n",
       "        [[[0.0221, 0.0231, 0.0241,  ..., 0.0128, 0.0122, 0.0115],\n",
       "          [0.0241, 0.0253, 0.0264,  ..., 0.0140, 0.0133, 0.0126],\n",
       "          [0.0264, 0.0277, 0.0290,  ..., 0.0153, 0.0144, 0.0137],\n",
       "          ...,\n",
       "          [0.0157, 0.0166, 0.0176,  ..., 0.0304, 0.0289, 0.0274],\n",
       "          [0.0144, 0.0152, 0.0161,  ..., 0.0277, 0.0264, 0.0252],\n",
       "          [0.0132, 0.0139, 0.0147,  ..., 0.0253, 0.0242, 0.0231]]],\n",
       "\n",
       "\n",
       "        [[[0.0229, 0.0240, 0.0250,  ..., 0.0141, 0.0133, 0.0126],\n",
       "          [0.0250, 0.0262, 0.0275,  ..., 0.0154, 0.0145, 0.0137],\n",
       "          [0.0272, 0.0286, 0.0301,  ..., 0.0168, 0.0159, 0.0150],\n",
       "          ...,\n",
       "          [0.0143, 0.0151, 0.0160,  ..., 0.0293, 0.0279, 0.0266],\n",
       "          [0.0131, 0.0138, 0.0146,  ..., 0.0267, 0.0255, 0.0244],\n",
       "          [0.0120, 0.0127, 0.0134,  ..., 0.0243, 0.0233, 0.0223]]],\n",
       "\n",
       "\n",
       "        [[[0.0213, 0.0223, 0.0232,  ..., 0.0134, 0.0128, 0.0121],\n",
       "          [0.0232, 0.0243, 0.0255,  ..., 0.0147, 0.0139, 0.0132],\n",
       "          [0.0253, 0.0266, 0.0279,  ..., 0.0161, 0.0152, 0.0144],\n",
       "          ...,\n",
       "          [0.0149, 0.0158, 0.0167,  ..., 0.0316, 0.0301, 0.0286],\n",
       "          [0.0136, 0.0144, 0.0153,  ..., 0.0288, 0.0275, 0.0262],\n",
       "          [0.0125, 0.0132, 0.0140,  ..., 0.0263, 0.0251, 0.0240]]]])"
      ]
     },
     "execution_count": 9,
     "metadata": {},
     "output_type": "execute_result"
    }
   ],
   "source": [
    "csgd = CoaddSingleGalaxyDecoder(decoder, n_bands = 1, pixel_scale = pixel_scale)\n",
    "csgd.render_galaxy(galaxy_params = galaxy_params[0], slen = decoder.slen, psf = decoder.psf, offset = offset, dithers = dithers)"
   ]
  },
  {
   "cell_type": "code",
   "execution_count": 10,
   "metadata": {},
   "outputs": [],
   "source": [
    "prior = instantiate(cfg.datasets.galsim_blended_galaxies.prior) \n",
    "decoder = instantiate(cfg.datasets.galsim_blended_galaxies.decoder)\n",
    "background = instantiate(cfg.datasets.galsim_blended_galaxies.background)\n",
    "tile_slen = 4\n",
    "max_tile_n_sources = 1\n",
    "num_workers = 5\n",
    "batch_size = 1000\n",
    "n_batches = 1\n",
    "full_catalog = CoaddGalsimBlends(prior = prior, decoder = decoder, background = background, tile_slen = tile_slen, max_sources_per_tile = max_tile_n_sources, num_workers = num_workers, batch_size = batch_size, n_batches = n_batches)._sample_full_catalog()"
   ]
  },
  {
   "cell_type": "code",
   "execution_count": 11,
   "metadata": {},
   "outputs": [
    {
     "ename": "AttributeError",
     "evalue": "'FullCatalogDecoder' object has no attribute 'render_galaxy'",
     "output_type": "error",
     "traceback": [
      "\u001b[0;31m---------------------------------------------------------------------------\u001b[0m",
      "\u001b[0;31mAttributeError\u001b[0m                            Traceback (most recent call last)",
      "\u001b[1;32m/home/wmallory/bliss/case_studies/coadds/test_notebook.ipynb Cell 11\u001b[0m in \u001b[0;36m<cell line: 4>\u001b[0;34m()\u001b[0m\n\u001b[1;32m      <a href='vscode-notebook-cell://ssh-remote%2Bdeeplearning-01.stat.lsa.umich.edu/home/wmallory/bliss/case_studies/coadds/test_notebook.ipynb#ch0000010vscode-remote?line=1'>2</a>\u001b[0m bp \u001b[39m=\u001b[39m \u001b[39m24\u001b[39m\n\u001b[1;32m      <a href='vscode-notebook-cell://ssh-remote%2Bdeeplearning-01.stat.lsa.umich.edu/home/wmallory/bliss/case_studies/coadds/test_notebook.ipynb#ch0000010vscode-remote?line=2'>3</a>\u001b[0m fcdecoder \u001b[39m=\u001b[39m FullCatalogDecoder(decoder, slen, bp)\n\u001b[0;32m----> <a href='vscode-notebook-cell://ssh-remote%2Bdeeplearning-01.stat.lsa.umich.edu/home/wmallory/bliss/case_studies/coadds/test_notebook.ipynb#ch0000010vscode-remote?line=3'>4</a>\u001b[0m fcdecoder\u001b[39m.\u001b[39;49mrender_catalog(\n\u001b[1;32m      <a href='vscode-notebook-cell://ssh-remote%2Bdeeplearning-01.stat.lsa.umich.edu/home/wmallory/bliss/case_studies/coadds/test_notebook.ipynb#ch0000010vscode-remote?line=4'>5</a>\u001b[0m     full_catalog, psf, dithers\n\u001b[1;32m      <a href='vscode-notebook-cell://ssh-remote%2Bdeeplearning-01.stat.lsa.umich.edu/home/wmallory/bliss/case_studies/coadds/test_notebook.ipynb#ch0000010vscode-remote?line=5'>6</a>\u001b[0m )\n",
      "\u001b[1;32m/home/wmallory/bliss/case_studies/coadds/test_notebook.ipynb Cell 11\u001b[0m in \u001b[0;36mFullCatalogDecoder.render_catalog\u001b[0;34m(self, full_cat, psf, dithers)\u001b[0m\n\u001b[1;32m    <a href='vscode-notebook-cell://ssh-remote%2Bdeeplearning-01.stat.lsa.umich.edu/home/wmallory/bliss/case_studies/coadds/test_notebook.ipynb#ch0000010vscode-remote?line=158'>159</a>\u001b[0m offset_y \u001b[39m=\u001b[39m plocs[ii][\u001b[39m0\u001b[39m] \u001b[39m+\u001b[39m bp \u001b[39m-\u001b[39m size \u001b[39m/\u001b[39m \u001b[39m2\u001b[39m\n\u001b[1;32m    <a href='vscode-notebook-cell://ssh-remote%2Bdeeplearning-01.stat.lsa.umich.edu/home/wmallory/bliss/case_studies/coadds/test_notebook.ipynb#ch0000010vscode-remote?line=159'>160</a>\u001b[0m offset \u001b[39m=\u001b[39m torch\u001b[39m.\u001b[39mtensor([offset_x, offset_y])\n\u001b[0;32m--> <a href='vscode-notebook-cell://ssh-remote%2Bdeeplearning-01.stat.lsa.umich.edu/home/wmallory/bliss/case_studies/coadds/test_notebook.ipynb#ch0000010vscode-remote?line=160'>161</a>\u001b[0m centered \u001b[39m=\u001b[39m \u001b[39mself\u001b[39;49m\u001b[39m.\u001b[39;49msingle_decoder\u001b[39m.\u001b[39;49mrender_galaxy(\n\u001b[1;32m    <a href='vscode-notebook-cell://ssh-remote%2Bdeeplearning-01.stat.lsa.umich.edu/home/wmallory/bliss/case_studies/coadds/test_notebook.ipynb#ch0000010vscode-remote?line=161'>162</a>\u001b[0m     galaxy_params[ii], psf, size, dithers\u001b[39m=\u001b[39mdithers\n\u001b[1;32m    <a href='vscode-notebook-cell://ssh-remote%2Bdeeplearning-01.stat.lsa.umich.edu/home/wmallory/bliss/case_studies/coadds/test_notebook.ipynb#ch0000010vscode-remote?line=162'>163</a>\u001b[0m )\n\u001b[1;32m    <a href='vscode-notebook-cell://ssh-remote%2Bdeeplearning-01.stat.lsa.umich.edu/home/wmallory/bliss/case_studies/coadds/test_notebook.ipynb#ch0000010vscode-remote?line=163'>164</a>\u001b[0m uncentered \u001b[39m=\u001b[39m \u001b[39mself\u001b[39m\u001b[39m.\u001b[39msingle_decoder\u001b[39m.\u001b[39mrender_galaxy(galaxy_params[ii], psf, size, offset)\n\u001b[1;32m    <a href='vscode-notebook-cell://ssh-remote%2Bdeeplearning-01.stat.lsa.umich.edu/home/wmallory/bliss/case_studies/coadds/test_notebook.ipynb#ch0000010vscode-remote?line=164'>165</a>\u001b[0m uncentered_dithered \u001b[39m=\u001b[39m \u001b[39mself\u001b[39m\u001b[39m.\u001b[39msingle_decoder\u001b[39m.\u001b[39mrender_galaxy(\n\u001b[1;32m    <a href='vscode-notebook-cell://ssh-remote%2Bdeeplearning-01.stat.lsa.umich.edu/home/wmallory/bliss/case_studies/coadds/test_notebook.ipynb#ch0000010vscode-remote?line=165'>166</a>\u001b[0m     galaxy_params[ii], psf, size, offset, dithers\n\u001b[1;32m    <a href='vscode-notebook-cell://ssh-remote%2Bdeeplearning-01.stat.lsa.umich.edu/home/wmallory/bliss/case_studies/coadds/test_notebook.ipynb#ch0000010vscode-remote?line=166'>167</a>\u001b[0m )\n",
      "\u001b[0;31mAttributeError\u001b[0m: 'FullCatalogDecoder' object has no attribute 'render_galaxy'"
     ]
    }
   ],
   "source": [
    "slen = 40\n",
    "bp = 24\n",
    "fcdecoder = FullCatalogDecoder(decoder, slen, bp)\n",
    "fcdecoder.render_catalog(full_catalog, psf, dithers) # Do I need to change the target in config to bliss.case_study.coadd.coadd_decoder?"
   ]
  },
  {
   "cell_type": "code",
   "execution_count": 48,
   "metadata": {},
   "outputs": [
    {
     "data": {
      "text/plain": [
       "[array([ 0.2863866, -0.2431587], dtype=float32),\n",
       " array([0.45234668, 0.29335123], dtype=float32),\n",
       " array([0.26052737, 0.14739156], dtype=float32),\n",
       " array([-0.45585835,  0.38580644], dtype=float32)]"
      ]
     },
     "execution_count": 48,
     "metadata": {},
     "output_type": "execute_result"
    }
   ],
   "source": [
    "dithers"
   ]
  },
  {
   "cell_type": "code",
   "execution_count": 12,
   "metadata": {},
   "outputs": [
    {
     "data": {
      "text/plain": [
       "tensor([[[[0.0567, 0.0598, 0.0629,  ..., 0.0357, 0.0335, 0.0314],\n",
       "          [0.0632, 0.0670, 0.0708,  ..., 0.0400, 0.0373, 0.0348],\n",
       "          [0.0705, 0.0751, 0.0797,  ..., 0.0447, 0.0416, 0.0387],\n",
       "          ...,\n",
       "          [0.0446, 0.0482, 0.0520,  ..., 0.0864, 0.0808, 0.0755],\n",
       "          [0.0400, 0.0430, 0.0463,  ..., 0.0769, 0.0723, 0.0679],\n",
       "          [0.0360, 0.0385, 0.0412,  ..., 0.0685, 0.0647, 0.0610]]],\n",
       "\n",
       "\n",
       "        [[[0.0572, 0.0603, 0.0635,  ..., 0.0353, 0.0330, 0.0309],\n",
       "          [0.0639, 0.0677, 0.0715,  ..., 0.0394, 0.0368, 0.0343],\n",
       "          [0.0713, 0.0759, 0.0806,  ..., 0.0441, 0.0410, 0.0381],\n",
       "          ...,\n",
       "          [0.0454, 0.0489, 0.0528,  ..., 0.0854, 0.0798, 0.0745],\n",
       "          [0.0407, 0.0437, 0.0470,  ..., 0.0761, 0.0715, 0.0671],\n",
       "          [0.0365, 0.0391, 0.0418,  ..., 0.0678, 0.0640, 0.0604]]],\n",
       "\n",
       "\n",
       "        [[[0.0598, 0.0633, 0.0669,  ..., 0.0396, 0.0370, 0.0346],\n",
       "          [0.0666, 0.0708, 0.0752,  ..., 0.0444, 0.0413, 0.0385],\n",
       "          [0.0741, 0.0792, 0.0845,  ..., 0.0498, 0.0462, 0.0429],\n",
       "          ...,\n",
       "          [0.0403, 0.0433, 0.0466,  ..., 0.0816, 0.0767, 0.0719],\n",
       "          [0.0362, 0.0388, 0.0416,  ..., 0.0725, 0.0685, 0.0645],\n",
       "          [0.0326, 0.0348, 0.0372,  ..., 0.0645, 0.0612, 0.0579]]],\n",
       "\n",
       "\n",
       "        [[[0.0547, 0.0577, 0.0609,  ..., 0.0374, 0.0350, 0.0328],\n",
       "          [0.0608, 0.0645, 0.0683,  ..., 0.0419, 0.0391, 0.0365],\n",
       "          [0.0676, 0.0720, 0.0766,  ..., 0.0470, 0.0437, 0.0407],\n",
       "          ...,\n",
       "          [0.0424, 0.0457, 0.0493,  ..., 0.0902, 0.0845, 0.0790],\n",
       "          [0.0381, 0.0410, 0.0440,  ..., 0.0800, 0.0753, 0.0708],\n",
       "          [0.0343, 0.0368, 0.0394,  ..., 0.0710, 0.0672, 0.0634]]]])"
      ]
     },
     "execution_count": 12,
     "metadata": {},
     "output_type": "execute_result"
    }
   ],
   "source": [
    "total_flux, disk_frac, beta_radians, disk_q, a_d, bulge_q, a_b = galaxy_params[0]\n",
    "bulge_frac = 1 - disk_frac\n",
    "\n",
    "disk_flux = total_flux * disk_frac\n",
    "bulge_flux = total_flux * bulge_frac\n",
    "\n",
    "components = []\n",
    "if disk_flux > 0:\n",
    "    b_d = a_d * disk_q\n",
    "    disk_hlr_arcsecs = np.sqrt(a_d * b_d)\n",
    "    disk = galsim.Exponential(flux=disk_flux, half_light_radius=disk_hlr_arcsecs).shear(\n",
    "        q=disk_q,\n",
    "        beta=beta_radians * galsim.radians,\n",
    "    )\n",
    "    components.append(disk)\n",
    "if bulge_flux > 0:\n",
    "    b_b = bulge_q * a_b\n",
    "    bulge_hlr_arcsecs = np.sqrt(a_b * b_b)\n",
    "    bulge = galsim.DeVaucouleurs(\n",
    "        flux=bulge_flux, half_light_radius=bulge_hlr_arcsecs\n",
    "    ).shear(q=bulge_q, beta=beta_radians * galsim.radians)\n",
    "    components.append(bulge)\n",
    "galaxy = galsim.Add(components)\n",
    "gal_conv = galsim.Convolution(galaxy, psf)\n",
    "offset = (0,0) if offset is None else offset\n",
    "dithers = (0,0) if dithers is None else dithers\n",
    "shift = torch.add(torch.Tensor(dithers), torch.Tensor(offset))\n",
    "shift = shift.reshape(1,2) if len(shift) == 2 else shift\n",
    "images = []\n",
    "for i in shift:\n",
    "    image = gal_conv.drawImage(\n",
    "        nx=slen, ny=slen, method=\"auto\", scale=pixel_scale, offset=i\n",
    "    )\n",
    "    image = image.array\n",
    "    images.append(image)\n",
    "torch.tensor(images[:]).reshape(len(shift), 1, slen, slen)\n"
   ]
  },
  {
   "cell_type": "code",
   "execution_count": 13,
   "metadata": {},
   "outputs": [],
   "source": [
    "size = decoder.slen + 2 * bp\n",
    "full_plocs = full_catalog.plocs\n",
    "b, max_n_sources, _ = full_plocs.shape\n",
    "\n",
    "image = torch.zeros(len(dithers), 1, size, size)\n",
    "noiseless_centered = torch.zeros(max_n_sources, len(dithers), size, size)\n",
    "noiseless_uncentered = torch.zeros(max_n_sources, len(dithers), size, size)\n",
    "\n",
    "n_sources = int(full_catalog.n_sources[0].item())\n",
    "galaxy_params = full_catalog[\"galaxy_params\"][0]\n",
    "plocs = full_plocs[0]\n",
    "\n",
    "for ii in range(n_sources):\n",
    "    offset_x = plocs[ii][1] + bp - size / 2\n",
    "    offset_y = plocs[ii][0] + bp - size / 2\n",
    "    offset = torch.tensor([offset_x, offset_y])\n",
    "    centered = csgd.render_galaxy(galaxy_params[ii], psf, size, dithers = dithers)\n",
    "    uncentered = csgd.render_galaxy(galaxy_params[ii], psf, size, offset, dithers)\n",
    "    noiseless_centered[ii] = centered.reshape(centered.shape[0], size, size)\n",
    "    noiseless_uncentered[ii] = uncentered.reshape(uncentered.shape[0], size, size)\n",
    "    image += uncentered"
   ]
  },
  {
   "cell_type": "code",
   "execution_count": 16,
   "metadata": {},
   "outputs": [
    {
     "data": {
      "text/plain": [
       "<matplotlib.image.AxesImage at 0x7f57eaa0f070>"
      ]
     },
     "execution_count": 16,
     "metadata": {},
     "output_type": "execute_result"
    },
    {
     "data": {
      "image/png": "[encoded data removed]",
      "text/plain": [
       "<Figure size 432x288 with 1 Axes>"
      ]
     },
     "metadata": {
      "needs_background": "light"
     },
     "output_type": "display_data"
    }
   ],
   "source": [
    "plt.imshow(image[2].reshape(image[2].shape[1],image[2].shape[2]).numpy())"
   ]
  },
  {
   "cell_type": "code",
   "execution_count": 17,
   "metadata": {},
   "outputs": [
    {
     "data": {
      "text/plain": [
       "torch.Size([4, 88, 88])"
      ]
     },
     "execution_count": 17,
     "metadata": {},
     "output_type": "execute_result"
    }
   ],
   "source": [
    "centered.reshape(centered.shape[0], size, size).shape"
   ]
  },
  {
   "cell_type": "code",
   "execution_count": 29,
   "metadata": {},
   "outputs": [
    {
     "data": {
      "text/plain": [
       "torch.Size([6, 4, 88, 88])"
      ]
     },
     "execution_count": 29,
     "metadata": {},
     "output_type": "execute_result"
    }
   ],
   "source": [
    "noiseless_uncentered.shape"
   ]
  },
  {
   "cell_type": "code",
   "execution_count": 32,
   "metadata": {},
   "outputs": [
    {
     "data": {
      "text/plain": [
       "torch.Size([4, 6, 1, 88, 88])"
      ]
     },
     "execution_count": 32,
     "metadata": {},
     "output_type": "execute_result"
    }
   ],
   "source": [
    "noiseless_centered.shape"
   ]
  },
  {
   "cell_type": "code",
   "execution_count": 18,
   "metadata": {},
   "outputs": [],
   "source": [
    "image = torch.zeros(len(dithers), 1, size, size)\n",
    "image0 = torch.zeros(1, 1, size, size)\n",
    "noiseless_centered = torch.zeros(len(dithers), max_n_sources, 1, size, size)\n",
    "noiseless_uncentered = torch.zeros(len(dithers), max_n_sources, 1, size, size)\n",
    "\n",
    "n_sources = int(full_catalog.n_sources[0].item())\n",
    "galaxy_params = full_catalog[\"galaxy_params\"][0]\n",
    "plocs = full_plocs[0]\n",
    "\n",
    "for ii in range(n_sources):\n",
    "    offset_x = plocs[ii][1] + bp - size / 2\n",
    "    offset_y = plocs[ii][0] + bp - size / 2\n",
    "    offset = torch.tensor([offset_x, offset_y])\n",
    "    centered = csgd.render_galaxy(galaxy_params[ii], psf, size, dithers = dithers)\n",
    "    uncentered = csgd.render_galaxy(galaxy_params[ii], psf, size, offset)\n",
    "    uncentered_dithered = csgd.render_galaxy(galaxy_params[ii], psf, size, offset, dithers)\n",
    "    noiseless_centered[:,ii] = centered.reshape(centered.shape[0], 1, size, size)\n",
    "    noiseless_uncentered[:,ii] = uncentered.reshape(uncentered.shape[0], 1, size, size)\n",
    "    image0 += uncentered\n",
    "    image += uncentered_dithered"
   ]
  },
  {
   "cell_type": "code",
   "execution_count": 19,
   "metadata": {},
   "outputs": [
    {
     "data": {
      "text/plain": [
       "<matplotlib.image.AxesImage at 0x7f57e88f89d0>"
      ]
     },
     "execution_count": 19,
     "metadata": {},
     "output_type": "execute_result"
    },
    {
     "data": {
      "image/png": "[encoded data removed]",
      "text/plain": [
       "<Figure size 432x288 with 1 Axes>"
      ]
     },
     "metadata": {
      "needs_background": "light"
     },
     "output_type": "display_data"
    }
   ],
   "source": [
    "plt.imshow(image0[:].reshape(image0[:].shape[2],image0[:].shape[3]).numpy())"
   ]
  },
  {
   "cell_type": "code",
   "execution_count": 20,
   "metadata": {},
   "outputs": [
    {
     "data": {
      "text/plain": [
       "<matplotlib.image.AxesImage at 0x7f57e8871610>"
      ]
     },
     "execution_count": 20,
     "metadata": {},
     "output_type": "execute_result"
    },
    {
     "data": {
      "image/png": "[encoded data removed]",
      "text/plain": [
       "<Figure size 432x288 with 1 Axes>"
      ]
     },
     "metadata": {
      "needs_background": "light"
     },
     "output_type": "display_data"
    }
   ],
   "source": [
    "plt.imshow(image[2].reshape(image[2].shape[1],image[2].shape[2]).numpy())"
   ]
  },
  {
   "cell_type": "code",
   "execution_count": 21,
   "metadata": {},
   "outputs": [],
   "source": [
    "# check noise and dither independence\n",
    "background = instantiate(cfg.datasets.sdss_galaxies.background)\n",
    "background = background.sample((1, *image.reshape(len(dithers),size,size).shape)).squeeze(0).reshape(len(dithers),1,size,size)\n",
    "_add_noise_and_background(image, background)\n",
    "\n",
    "image_with_background = image + background\n",
    "noise = image_with_background.sqrt() * torch.randn_like(image_with_background) # randomized by value of Tensor\n",
    "noisy_image = image_with_background + noise"
   ]
  },
  {
   "cell_type": "code",
   "execution_count": 22,
   "metadata": {},
   "outputs": [
    {
     "data": {
      "text/plain": [
       "<matplotlib.image.AxesImage at 0x7f57e885bb20>"
      ]
     },
     "execution_count": 22,
     "metadata": {},
     "output_type": "execute_result"
    },
    {
     "data": {
      "image/png": "[encoded data removed]",
      "text/plain": [
       "<Figure size 432x288 with 1 Axes>"
      ]
     },
     "metadata": {
      "needs_background": "light"
     },
     "output_type": "display_data"
    }
   ],
   "source": [
    "plt.imshow(noisy_image[2].reshape(noisy_image[2].shape[1],noisy_image[2].shape[2]).numpy())"
   ]
  },
  {
   "cell_type": "code",
   "execution_count": 23,
   "metadata": {},
   "outputs": [],
   "source": [
    "i0 = galsim.Image(np.array(image0[:].reshape(88,88)), wcs=galsim.PixelScale(pixel_scale))\n",
    "i1 = galsim.Image(np.array(image[:][0].reshape(88,88)))"
   ]
  },
  {
   "cell_type": "code",
   "execution_count": 24,
   "metadata": {},
   "outputs": [],
   "source": [
    "from bliss.models.decoder import get_mgrid\n",
    "def align_single_exposures(img0, img1, slen, dithers, scale = 0.393):\n",
    "    \"\"\"Aligns multiple single exposure images that are dithered by some sub-pixel amount.\n",
    "    Args:\n",
    "        img0: Galsim image object\n",
    "        img1: Tensor of shape `(N x C x H x W)` where N is the number of dithers (len(dithers)), \\\n",
    "            C is the number of band, H is height and W is weight, containing image data.\n",
    "        slen: size of images (H and W)\n",
    "        dithers: List of pairs of sub-pixel amounts that img0 is shifted by in x and y directions\n",
    "        scale: pixel_scale\n",
    "    Returns:\n",
    "        Tensor of shape `(N x H-2 x W-2)`. Aligned images with 1 pixel cropped from from each \\\n",
    "            direction of height and width.\n",
    "    \"\"\"\n",
    "    img0 = galsim.Image(np.array(img0), wcs=galsim.PixelScale(pixel_scale)) \n",
    "    wcs0 = img0.wcs\n",
    "    images = img1\n",
    "\n",
    "    sgrid = (get_mgrid(slen) - (-1))/2 * (slen)\n",
    "    sgrid = sgrid.reshape(slen**2,2)\n",
    "    grid_x = wcs0.xyTouv(sgrid[:,0],sgrid[:,1])[0]\n",
    "    grid_y = wcs0.xyTouv(sgrid[:,0],sgrid[:,1])[1]\n",
    "\n",
    "    grid = torch.empty(size=(0, 2))\n",
    "    for i in dithers:\n",
    "        wcs1 = galsim.OffsetWCS(scale = scale, origin = galsim.PositionD(i))\n",
    "        x, y = wcs1.uvToxy(grid_x,grid_y)\n",
    "        x_grid = (x/slen) * 2 + (-1)\n",
    "        y_grid = (y/slen) * 2 + (-1)\n",
    "        grid = torch.cat([grid, torch.stack((torch.tensor(x_grid),torch.tensor(y_grid)),-1)], dim=0)\n",
    "\n",
    "    iplots = []\n",
    "    input = torch.tensor(images[:]).reshape(len(dithers),1,slen,slen).float()\n",
    "    grids = grid.reshape(len(dithers),1,slen*slen,2).float()\n",
    "    iplots.append(F.grid_sample(input, grids, align_corners = False))\n",
    "\n",
    "    # reshape and crop 1 pixel on each side\n",
    "    iplots = torch.tensor(iplots[:][0]).reshape(len(dithers),slen,slen)\n",
    "    iplots_cropped = iplots[:,1:slen-1,1:slen-1]\n",
    "    return iplots_cropped"
   ]
  },
  {
   "cell_type": "code",
   "execution_count": 27,
   "metadata": {},
   "outputs": [
    {
     "data": {
      "text/plain": [
       "<matplotlib.image.AxesImage at 0x7f57e8743580>"
      ]
     },
     "execution_count": 27,
     "metadata": {},
     "output_type": "execute_result"
    },
    {
     "data": {
      "image/png": "[encoded data removed]",
      "text/plain": [
       "<Figure size 432x288 with 1 Axes>"
      ]
     },
     "metadata": {
      "needs_background": "light"
     },
     "output_type": "display_data"
    }
   ],
   "source": [
    "plt.imshow(image0[:].reshape(size,size).numpy())"
   ]
  },
  {
   "cell_type": "code",
   "execution_count": 28,
   "metadata": {},
   "outputs": [
    {
     "name": "stderr",
     "output_type": "stream",
     "text": [
      "/tmp/ipykernel_156891/2574139102.py:33: UserWarning: To copy construct from a tensor, it is recommended to use sourceTensor.clone().detach() or sourceTensor.clone().detach().requires_grad_(True), rather than torch.tensor(sourceTensor).\n",
      "  [grid, torch.stack((torch.tensor(x_grid), torch.tensor(y_grid)), -1)], dim=0\n",
      "/tmp/ipykernel_156891/2574139102.py:37: UserWarning: To copy construct from a tensor, it is recommended to use sourceTensor.clone().detach() or sourceTensor.clone().detach().requires_grad_(True), rather than torch.tensor(sourceTensor).\n",
      "  input = torch.tensor(images[:]).reshape(len(dithers), 1, slen, slen).float()\n",
      "/tmp/ipykernel_156891/2574139102.py:42: UserWarning: To copy construct from a tensor, it is recommended to use sourceTensor.clone().detach() or sourceTensor.clone().detach().requires_grad_(True), rather than torch.tensor(sourceTensor).\n",
      "  iplots = torch.tensor(iplots[:][0]).reshape(len(dithers), slen, slen)\n"
     ]
    }
   ],
   "source": [
    "# Add alignment and coadding \n",
    "img0 = image0[:].reshape(size,size)\n",
    "imgs = noisy_image\n",
    "aligned_images = align_single_exposures(img0, imgs, size, dithers)"
   ]
  },
  {
   "cell_type": "code",
   "execution_count": 29,
   "metadata": {},
   "outputs": [],
   "source": [
    "img0 = galsim.Image(np.array(img0), wcs=galsim.PixelScale(pixel_scale)) \n",
    "wcs0 = img0.wcs\n",
    "images = imgs\n"
   ]
  },
  {
   "cell_type": "code",
   "execution_count": 30,
   "metadata": {},
   "outputs": [
    {
     "name": "stderr",
     "output_type": "stream",
     "text": [
      "/tmp/ipykernel_156891/3371014255.py:12: UserWarning: To copy construct from a tensor, it is recommended to use sourceTensor.clone().detach() or sourceTensor.clone().detach().requires_grad_(True), rather than torch.tensor(sourceTensor).\n",
      "  grid = torch.cat([grid, torch.stack((torch.tensor(x_grid), torch.tensor(y_grid)), -1)], dim=0)\n"
     ]
    }
   ],
   "source": [
    "sgrid = (get_mgrid(size) - (-1))/2 * (size)\n",
    "sgrid = sgrid.reshape(size**2,2)\n",
    "grid_x = wcs0.xyTouv(sgrid[:,0],sgrid[:,1])[0]\n",
    "grid_y = wcs0.xyTouv(sgrid[:,0],sgrid[:,1])[1]\n",
    "\n",
    "grid = torch.empty(size=(0, 2))\n",
    "for i in dithers:\n",
    "    wcs1 = galsim.OffsetWCS(scale = pixel_scale, origin = galsim.PositionD(i))\n",
    "    x, y = wcs1.uvToxy(grid_x,grid_y)\n",
    "    x_grid = (x/size) * 2 + (-1)\n",
    "    y_grid = (y/size) * 2 + (-1)\n",
    "    grid = torch.cat([grid, torch.stack((torch.tensor(x_grid),torch.tensor(y_grid)),-1)], dim=0)\n"
   ]
  },
  {
   "cell_type": "code",
   "execution_count": 31,
   "metadata": {},
   "outputs": [
    {
     "name": "stderr",
     "output_type": "stream",
     "text": [
      "/tmp/ipykernel_156891/793225213.py:2: UserWarning: To copy construct from a tensor, it is recommended to use sourceTensor.clone().detach() or sourceTensor.clone().detach().requires_grad_(True), rather than torch.tensor(sourceTensor).\n",
      "  input = torch.tensor(images[:]).reshape(len(dithers), 1, size, size).float()\n"
     ]
    }
   ],
   "source": [
    "iplots = []\n",
    "input = torch.tensor(images[:]).reshape(len(dithers),1,size,size).float()\n",
    "grids = grid.reshape(len(dithers),1,size**2,2).float()\n",
    "iplots.append(F.grid_sample(input, grids, align_corners = False))"
   ]
  },
  {
   "cell_type": "code",
   "execution_count": 32,
   "metadata": {},
   "outputs": [
    {
     "name": "stderr",
     "output_type": "stream",
     "text": [
      "/tmp/ipykernel_156891/3359810218.py:1: UserWarning: To copy construct from a tensor, it is recommended to use sourceTensor.clone().detach() or sourceTensor.clone().detach().requires_grad_(True), rather than torch.tensor(sourceTensor).\n",
      "  torch.tensor(iplots[:][0]).reshape(len(dithers), size, size)[:, 1 : size - 1, 1 : size - 1]\n"
     ]
    },
    {
     "data": {
      "text/plain": [
       "tensor([[[888.0155, 877.4764, 874.2484,  ..., 849.4955, 836.3114, 853.0780],\n",
       "         [891.4829, 857.4700, 860.5918,  ..., 853.9618, 862.1401, 855.5275],\n",
       "         [884.4193, 858.6255, 837.2758,  ..., 868.4943, 882.1550, 875.8517],\n",
       "         ...,\n",
       "         [866.7104, 861.4074, 851.3232,  ..., 846.3796, 860.8678, 888.2444],\n",
       "         [861.7330, 875.7976, 856.6984,  ..., 835.8403, 842.8138, 871.4930],\n",
       "         [848.8041, 861.1249, 857.4638,  ..., 844.9465, 841.4750, 856.0826]],\n",
       "\n",
       "        [[867.3607, 831.1862, 853.5082,  ..., 881.6722, 870.3297, 858.9865],\n",
       "         [891.2095, 856.0781, 853.2266,  ..., 884.8448, 877.7802, 851.6365],\n",
       "         [889.3782, 869.8191, 866.3290,  ..., 884.8408, 877.8563, 865.7223],\n",
       "         ...,\n",
       "         [848.5818, 846.1994, 849.6868,  ..., 878.1140, 865.0913, 847.1288],\n",
       "         [853.5518, 821.0460, 846.2291,  ..., 850.0447, 866.4307, 879.0674],\n",
       "         [881.6307, 855.5946, 824.7090,  ..., 855.3325, 870.9373, 881.0297]],\n",
       "\n",
       "        [[830.6999, 879.4776, 816.4354,  ..., 830.4541, 835.4013, 882.5610],\n",
       "         [854.2349, 866.1350, 842.5145,  ..., 874.4808, 842.3475, 839.6002],\n",
       "         [876.5480, 899.0491, 859.7519,  ..., 889.4156, 896.5306, 823.0500],\n",
       "         ...,\n",
       "         [862.2667, 866.5607, 848.7394,  ..., 893.8717, 869.6219, 876.6937],\n",
       "         [834.4130, 846.3626, 874.0341,  ..., 872.5434, 835.2149, 859.4659],\n",
       "         [877.7216, 837.2615, 883.5820,  ..., 868.3204, 873.1065, 900.4211]],\n",
       "\n",
       "        [[875.0026, 872.9920, 863.6758,  ..., 872.8893, 880.4784, 858.7988],\n",
       "         [861.0842, 861.6928, 862.9171,  ..., 863.7949, 859.9300, 855.1819],\n",
       "         [856.9712, 871.0876, 867.4311,  ..., 879.4452, 867.4289, 856.6710],\n",
       "         ...,\n",
       "         [882.3988, 851.1215, 857.9705,  ..., 839.8752, 842.6932, 854.4393],\n",
       "         [883.8179, 847.7607, 853.5911,  ..., 845.1760, 849.4804, 861.5636],\n",
       "         [877.9204, 851.3883, 863.3962,  ..., 873.7347, 871.3544, 884.0127]]])"
      ]
     },
     "execution_count": 32,
     "metadata": {},
     "output_type": "execute_result"
    }
   ],
   "source": [
    "torch.tensor(iplots[:][0]).reshape(len(dithers),size,size)[:,1:size-1,1:size-1]"
   ]
  },
  {
   "cell_type": "code",
   "execution_count": 133,
   "metadata": {},
   "outputs": [
    {
     "data": {
      "text/plain": [
       "tensor([[[864.8862, 880.0833, 890.7655,  ..., 881.4109, 895.9703, 875.0217],\n",
       "         [896.9274, 864.4228, 828.5861,  ..., 842.2588, 882.7982, 856.4287],\n",
       "         [871.0705, 885.4985, 838.5040,  ..., 882.3884, 882.1046, 910.1583],\n",
       "         ...,\n",
       "         [871.1431, 871.6219, 853.9985,  ..., 886.3763, 851.1091, 833.2911],\n",
       "         [854.2748, 863.6624, 864.2234,  ..., 868.0827, 838.8348, 833.5297],\n",
       "         [843.3568, 839.2103, 855.2067,  ..., 855.0002, 859.7249, 868.8317]],\n",
       "\n",
       "        [[860.0744, 866.3655, 841.0487,  ..., 845.0515, 849.3624, 843.9888],\n",
       "         [873.1684, 851.7743, 857.2377,  ..., 870.2887, 863.9237, 849.0753],\n",
       "         [879.6937, 857.2256, 894.5875,  ..., 868.4433, 876.3151, 846.5569],\n",
       "         ...,\n",
       "         [842.2479, 868.2714, 862.8747,  ..., 890.5851, 856.3481, 831.3811],\n",
       "         [855.5215, 870.8060, 830.2527,  ..., 861.7773, 848.3145, 834.4565],\n",
       "         [862.7029, 864.6052, 864.1152,  ..., 815.9521, 838.3801, 846.1824]],\n",
       "\n",
       "        [[876.8278, 859.3868, 872.3575,  ..., 841.8492, 854.9525, 870.9068],\n",
       "         [865.4033, 876.2541, 876.4516,  ..., 869.8096, 868.4747, 891.6146],\n",
       "         [833.6931, 889.2553, 866.7502,  ..., 862.4528, 871.0321, 878.5625],\n",
       "         ...,\n",
       "         [900.4507, 850.2115, 858.1989,  ..., 837.7947, 851.9425, 860.6992],\n",
       "         [883.0737, 879.3365, 876.2258,  ..., 854.3701, 844.8998, 880.5598],\n",
       "         [836.5708, 886.9693, 871.1628,  ..., 878.7704, 853.8000, 872.9455]],\n",
       "\n",
       "        [[844.0235, 837.5958, 902.8977,  ..., 871.7377, 894.6328, 873.8918],\n",
       "         [849.9666, 856.6289, 827.0997,  ..., 866.7194, 864.3424, 872.5580],\n",
       "         [891.7333, 860.7350, 827.6994,  ..., 876.1341, 828.8893, 842.2641],\n",
       "         ...,\n",
       "         [858.6442, 841.8853, 815.0189,  ..., 871.6636, 880.8771, 875.7758],\n",
       "         [853.8745, 861.5841, 801.2006,  ..., 875.5231, 860.9061, 848.0630],\n",
       "         [854.0983, 884.5417, 872.1697,  ..., 865.0865, 876.8374, 860.5751]]])"
      ]
     },
     "execution_count": 133,
     "metadata": {},
     "output_type": "execute_result"
    }
   ],
   "source": [
    "aligned_images"
   ]
  },
  {
   "cell_type": "code",
   "execution_count": 33,
   "metadata": {},
   "outputs": [
    {
     "data": {
      "text/plain": [
       "<matplotlib.image.AxesImage at 0x7f57e8704850>"
      ]
     },
     "execution_count": 33,
     "metadata": {},
     "output_type": "execute_result"
    },
    {
     "data": {
      "image/png": "[encoded data removed]",
      "text/plain": [
       "<Figure size 432x288 with 1 Axes>"
      ]
     },
     "metadata": {
      "needs_background": "light"
     },
     "output_type": "display_data"
    }
   ],
   "source": [
    "plt.imshow(aligned_images[0].numpy())"
   ]
  },
  {
   "cell_type": "code",
   "execution_count": 39,
   "metadata": {},
   "outputs": [
    {
     "name": "stderr",
     "output_type": "stream",
     "text": [
      "/tmp/ipykernel_156891/2574139102.py:33: UserWarning: To copy construct from a tensor, it is recommended to use sourceTensor.clone().detach() or sourceTensor.clone().detach().requires_grad_(True), rather than torch.tensor(sourceTensor).\n",
      "  [grid, torch.stack((torch.tensor(x_grid), torch.tensor(y_grid)), -1)], dim=0\n",
      "/tmp/ipykernel_156891/2574139102.py:42: UserWarning: To copy construct from a tensor, it is recommended to use sourceTensor.clone().detach() or sourceTensor.clone().detach().requires_grad_(True), rather than torch.tensor(sourceTensor).\n",
      "  iplots = torch.tensor(iplots[:][0]).reshape(len(dithers), slen, slen)\n"
     ]
    },
    {
     "data": {
      "text/plain": [
       "True"
      ]
     },
     "execution_count": 39,
     "metadata": {},
     "output_type": "execute_result"
    }
   ],
   "source": [
    "# test_align assert sizes\n",
    "pixel_scale = 0.393\n",
    "slen = 9\n",
    "g0 = galsim.Gaussian(sigma=1.0)\n",
    "g0 = g0.shear(e1=0, e2=0)\n",
    "img0 = g0.drawImage(nx=slen, ny=slen, scale=pixel_scale, bandpass=None)\n",
    "img0 = img0.array\n",
    "ds = [((-0.5 - 0.5) * torch.rand((2,)) + 0.5).numpy() for x in range(10)]\n",
    "img = []\n",
    "for i in ds:\n",
    "    im = g0.drawImage(nx=slen, ny=slen, scale=pixel_scale, offset=i, bandpass=None)\n",
    "    im = im.array\n",
    "    img.append(im)\n",
    "align_single_exposures(img0, img, slen, ds).shape == torch.Size([len(ds), slen - 2, slen - 2])"
   ]
  },
  {
   "cell_type": "code",
   "execution_count": 42,
   "metadata": {},
   "outputs": [
    {
     "data": {
      "text/plain": [
       "torch.Size([4, 86, 86])"
      ]
     },
     "execution_count": 42,
     "metadata": {},
     "output_type": "execute_result"
    }
   ],
   "source": [
    "aligned_images.shape"
   ]
  },
  {
   "cell_type": "code",
   "execution_count": 47,
   "metadata": {},
   "outputs": [
    {
     "data": {
      "text/plain": [
       "tensor([5060.1855, 5060.1177, 5060.3608, 5060.1235])"
      ]
     },
     "execution_count": 47,
     "metadata": {},
     "output_type": "execute_result"
    }
   ],
   "source": [
    "# add snr\n",
    "bg = background[:,:, 1:size-1, 1:size-1]\n",
    "img = aligned_images.reshape(len(dithers),1,size-2,size-2)\n",
    "img - bg\n",
    "torch.sqrt(torch.sum((img - bg)**2 / (img - bg + bg), dim=(3, 2, 1)))\n",
    "snr(img, bg)"
   ]
  },
  {
   "cell_type": "code",
   "execution_count": 50,
   "metadata": {},
   "outputs": [
    {
     "data": {
      "text/plain": [
       "tensor([17.3391, 17.7439, 16.6246, 17.8100])"
      ]
     },
     "execution_count": 50,
     "metadata": {},
     "output_type": "execute_result"
    }
   ],
   "source": [
    "torch.mean(img, dim=(3, 2, 1)) / torch.std(img, dim=(3, 2, 1))"
   ]
  },
  {
   "cell_type": "code",
   "execution_count": 130,
   "metadata": {},
   "outputs": [],
   "source": [
    "# Coadd using direct coadd: linear combination \n",
    "# Direct coadd, where weights are proportional to inverse variance\n",
    "bd = background.reshape(len(dithers),size,size)[:,1:size-1, 1:size-1] # background cropped\n",
    "id = torch.tensor(aligned_images) - bd # aligned images without background\n",
    "weight = 1 / torch.tensor(aligned_images)\n",
    "num = torch.sum(id / torch.tensor(aligned_images), dim = 0)\n",
    "coadded = num / (torch.sum(weight, dim = 0))\n",
    "\n",
    "def linear_coadd(aligned_images, cropped_background):\n",
    "    assert torch.tensor(aligned_images).shape == torch.tensor(cropped_background).shape\n",
    "\n",
    "    id = torch.tensor(aligned_images) - cropped_background \n",
    "    weight = 1 / torch.tensor(aligned_images)\n",
    "    num = torch.sum(id / torch.tensor(aligned_images), dim = 0)\n",
    "    return num / (torch.sum(weight, dim = 0))\n"
   ]
  },
  {
   "cell_type": "code",
   "execution_count": 131,
   "metadata": {},
   "outputs": [
    {
     "name": "stderr",
     "output_type": "stream",
     "text": [
      "/tmp/ipykernel_1476522/3013547580.py:10: UserWarning: To copy construct from a tensor, it is recommended to use sourceTensor.clone().detach() or sourceTensor.clone().detach().requires_grad_(True), rather than torch.tensor(sourceTensor).\n",
      "  assert torch.tensor(aligned_images).shape == torch.tensor(cropped_background).shape\n"
     ]
    },
    {
     "data": {
      "text/plain": [
       "tensor([[-14.4965,   5.7448,  15.6396,  ...,   9.7780,  11.7710,   0.6030],\n",
       "        [  5.5216,   2.2028,   8.4663,  ...,  -5.4049,  -2.6983, -17.1500],\n",
       "        [ 15.7054,  11.8200,  -3.8945,  ...,  -0.3650,   3.6645,  -0.4348],\n",
       "        ...,\n",
       "        [-19.0546,  -7.2267,  -4.5730,  ...,   7.0405, -22.6021, -22.1054],\n",
       "        [  3.1368, -11.8408,  -3.5431,  ...,  -1.0711,  -5.2976,   8.3232],\n",
       "        [-21.7410,  -2.5716,  -7.8379,  ...,   1.4767, -19.2051,  -1.5259]])"
      ]
     },
     "execution_count": 131,
     "metadata": {},
     "output_type": "execute_result"
    }
   ],
   "source": [
    "linear_coadd(aligned_images, bd)"
   ]
  },
  {
   "cell_type": "code",
   "execution_count": 129,
   "metadata": {},
   "outputs": [
    {
     "data": {
      "text/plain": [
       "<matplotlib.image.AxesImage at 0x7f213813b310>"
      ]
     },
     "execution_count": 129,
     "metadata": {},
     "output_type": "execute_result"
    },
    {
     "data": {
      "image/png": "[encoded data removed]",
      "text/plain": [
       "<Figure size 432x288 with 1 Axes>"
      ]
     },
     "metadata": {
      "needs_background": "light"
     },
     "output_type": "display_data"
    }
   ],
   "source": [
    "plt.imshow(coadded.numpy())"
   ]
  },
  {
   "cell_type": "code",
   "execution_count": 142,
   "metadata": {},
   "outputs": [
    {
     "data": {
      "text/plain": [
       "torch.Size([4, 86, 86])"
      ]
     },
     "execution_count": 142,
     "metadata": {},
     "output_type": "execute_result"
    }
   ],
   "source": [
    "bd.shape"
   ]
  },
  {
   "cell_type": "code",
   "execution_count": null,
   "metadata": {},
   "outputs": [],
   "source": []
  }
 ],
 "metadata": {
  "kernelspec": {
   "display_name": "Python 3.8.10 ('bliss-z6VjvYh8-py3.8')",
   "language": "python",
   "name": "python3"
  },
  "language_info": {
   "codemirror_mode": {
    "name": "ipython",
    "version": 3
   },
   "file_extension": ".py",
   "mimetype": "text/x-python",
   "name": "python",
   "nbconvert_exporter": "python",
   "pygments_lexer": "ipython3",
   "version": "3.8.10"
  },
  "orig_nbformat": 4,
  "vscode": {
   "interpreter": {
    "hash": "42573bf324965e8843cce5661f2b7cff1bd822ab6b918329f3dd4ef295939d5e"
   }
  }
 },
 "nbformat": 4,
 "nbformat_minor": 2
}

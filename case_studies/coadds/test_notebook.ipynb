{
 "cells": [
  {
   "cell_type": "code",
   "execution_count": 143,
   "metadata": {},
   "outputs": [],
   "source": [
    "from typing import Dict, List, Optional\n",
    "import matplotlib.pyplot as plt\n",
    "from hydra import compose, initialize\n",
    "from hydra.utils import instantiate\n",
    "import numpy as np\n",
    "import pytorch_lightning as pl\n",
    "import torch\n",
    "from torch import Tensor\n",
    "import torch.nn.functional as F\n",
    "from einops import rearrange\n",
    "from torch.utils.data import DataLoader, Dataset\n",
    "import galsim\n",
    "from bliss.catalog import TileCatalog, get_is_on_from_n_sources, FullCatalog\n",
    "from bliss.datasets.background import ConstantBackground\n",
    "from bliss.datasets.sdss import convert_flux_to_mag\n",
    "from bliss.models.galsim_decoder import SingleGalsimGalaxyDecoder,SingleGalsimGalaxyPrior,UniformGalsimGalaxiesPrior\n",
    "from bliss.datasets.galsim_galaxies import GalsimBlends\n",
    "from case_studies.coadds.signal_noise_ratio  import snr\n"
   ]
  },
  {
   "cell_type": "code",
   "execution_count": 14,
   "metadata": {},
   "outputs": [
    {
     "name": "stdout",
     "output_type": "stream",
     "text": [
      "The autoreload extension is already loaded. To reload it, use:\n",
      "  %reload_ext autoreload\n",
      "Modules to reload:\n",
      "all-except-skipped\n",
      "\n",
      "Modules to skip:\n",
      "\n"
     ]
    }
   ],
   "source": [
    "%load_ext autoreload\n",
    "%autoreload 2\n",
    "%aimport\n",
    "%matplotlib inline "
   ]
  },
  {
   "cell_type": "code",
   "execution_count": 161,
   "metadata": {},
   "outputs": [],
   "source": [
    "def _add_noise_and_background(image: Tensor, background: Tensor) -> Tensor:\n",
    "    image_with_background = image + background\n",
    "    noise = image_with_background.sqrt() * torch.randn_like(image_with_background)\n",
    "    return image_with_background + noise\n",
    "\n",
    "def load_psf_from_file(psf_image_file: str, pixel_scale: float) -> galsim.GSObject:\n",
    "    \"\"\"Return normalized PSF galsim.GSObject from numpy psf_file.\"\"\"\n",
    "    assert Path(psf_image_file).suffix == \".npy\"\n",
    "    psf_image = np.load(psf_image_file)\n",
    "    assert len(psf_image.shape) == 3 and psf_image.shape[0] == 1\n",
    "    psf_image = galsim.Image(psf_image[0], scale=pixel_scale)\n",
    "    return galsim.InterpolatedImage(psf_image).withFlux(1.0)\n",
    "\n",
    "def _sample_n_sources(max_n_sources) -> int:\n",
    "    return int(torch.randint(1, max_n_sources + 1, (1,)).int().item())\n",
    "\n",
    "def _uniform(a, b, n_samples=1) -> Tensor:\n",
    "    # uses pytorch to return a single float ~ U(a, b)\n",
    "    return (a - b) * torch.rand(n_samples) + b\n",
    "\n",
    "class CoaddUniformGalsimGalaxiesPrior(UniformGalsimGalaxiesPrior):\n",
    "    def __init__(\n",
    "        self,\n",
    "        single_galaxy_prior: SingleGalsimGalaxyPrior,\n",
    "        max_n_sources: int,\n",
    "        max_shift: float,\n",
    "        num_dithers: int,\n",
    "    ):\n",
    "        super().__init__(\n",
    "            single_galaxy_prior,\n",
    "            max_n_sources,\n",
    "            max_shift,\n",
    "        )\n",
    "        \n",
    "    def sample(self) -> Dict[str, Tensor]:\n",
    "        \"\"\"Returns a single batch of source parameters.\"\"\"\n",
    "        n_sources = _sample_n_sources(self.max_n_sources)\n",
    "\n",
    "        params = torch.zeros(self.max_n_sources, self.dim_latents)\n",
    "        params[:n_sources, :] = self.single_galaxy_prior.sample(n_sources)\n",
    "\n",
    "        locs = torch.zeros(self.max_n_sources, 2)\n",
    "        locs[:n_sources, 0] = _uniform(-self.max_shift, self.max_shift, n_sources) + 0.5\n",
    "        locs[:n_sources, 1] = _uniform(-self.max_shift, self.max_shift, n_sources) + 0.5\n",
    "\n",
    "        # for now, galaxies only\n",
    "        galaxy_bools = torch.zeros(self.max_n_sources, 1)\n",
    "        galaxy_bools[:n_sources, :] = 1\n",
    "        star_bools = torch.zeros(self.max_n_sources, 1)\n",
    "\n",
    "        dithers = [((-0.5 - 0.5) * torch.rand((2,)) + 0.5).numpy() for x in range(num_dithers)]\n",
    "\n",
    "        return {\n",
    "            \"n_sources\": torch.tensor(n_sources),\n",
    "            \"galaxy_params\": params,\n",
    "            \"locs\": locs,\n",
    "            \"galaxy_bools\": galaxy_bools,\n",
    "            \"star_bools\": star_bools,\n",
    "            \"dithers\": dithers,\n",
    "        }\n",
    "\n",
    "class CoaddSingleGalaxyDecoder(SingleGalsimGalaxyDecoder):\n",
    "    def __init__(\n",
    "        self,\n",
    "        slen: int,\n",
    "        n_bands: int,\n",
    "        pixel_scale: float,\n",
    "    #    psf_image_file: str,\n",
    "     ) -> None:\n",
    "        assert n_bands == 1, \"Only 1 band is supported\"\n",
    "        self.slen = slen\n",
    "        self.n_bands = 1\n",
    "        self.pixel_scale = pixel_scale\n",
    "    #    self.psf = load_psf_from_file(psf_image_file, self.pixel_scale)\n",
    "        \n",
    "    def render_galaxy(\n",
    "        self,\n",
    "        galaxy_params: Tensor,\n",
    "        psf: galsim.GSObject,\n",
    "        slen: int,\n",
    "        offset: Optional[Tensor] = None,\n",
    "        dithers: Optional[Tensor] = None,\n",
    "    ) -> Tensor:\n",
    "        assert offset is None or offset.shape == (2,)\n",
    "        if isinstance(galaxy_params, Tensor):\n",
    "            galaxy_params = galaxy_params.cpu().detach()\n",
    "        total_flux, disk_frac, beta_radians, disk_q, a_d, bulge_q, a_b = galaxy_params\n",
    "        bulge_frac = 1 - disk_frac\n",
    "\n",
    "        disk_flux = total_flux * disk_frac\n",
    "        bulge_flux = total_flux * bulge_frac\n",
    "\n",
    "        components = []\n",
    "        if disk_flux > 0:\n",
    "            b_d = a_d * disk_q\n",
    "            disk_hlr_arcsecs = np.sqrt(a_d * b_d)\n",
    "            disk = galsim.Exponential(flux=disk_flux, half_light_radius=disk_hlr_arcsecs).shear(\n",
    "                q=disk_q,\n",
    "                beta=beta_radians * galsim.radians,\n",
    "            )\n",
    "            components.append(disk)\n",
    "        if bulge_flux > 0:\n",
    "            b_b = bulge_q * a_b\n",
    "            bulge_hlr_arcsecs = np.sqrt(a_b * b_b)\n",
    "            bulge = galsim.DeVaucouleurs(\n",
    "                flux=bulge_flux, half_light_radius=bulge_hlr_arcsecs\n",
    "            ).shear(q=bulge_q, beta=beta_radians * galsim.radians)\n",
    "            components.append(bulge)\n",
    "        galaxy = galsim.Add(components)\n",
    "        gal_conv = galsim.Convolution(galaxy, psf)\n",
    "        offset = (0,0) if offset is None else offset\n",
    "        dithers = (0,0) if dithers is None else dithers\n",
    "        shift = torch.add(torch.Tensor(dithers), torch.Tensor(offset))\n",
    "        shift = shift.reshape(1,2) if len(shift) == 2 else shift\n",
    "        images = []\n",
    "        for i in shift:\n",
    "            image = gal_conv.drawImage(\n",
    "                nx=slen, ny=slen, method=\"auto\", scale=self.pixel_scale, offset=i\n",
    "            )\n",
    "            image = image.array\n",
    "            images.append(image)\n",
    "        return torch.tensor(images[:]).reshape(len(shift), 1, slen, slen)\n",
    "\n",
    "class FullCatalogDecoder:\n",
    "    def __init__(\n",
    "        self, single_galaxy_decoder: CoaddSingleGalaxyDecoder, slen: int, bp: int\n",
    "    ) -> None:\n",
    "        self.single_decoder = single_galaxy_decoder\n",
    "        self.slen = slen\n",
    "        self.bp = bp\n",
    "        assert self.slen + 2 * self.bp >= self.single_decoder.slen\n",
    "\n",
    "    def __call__(self, full_cat: FullCatalog):\n",
    "        return self.render_catalog(full_cat, self.single_decoder.psf)\n",
    "\n",
    "    def render_catalog(self, full_cat: FullCatalog, psf: galsim.GSObject, dithers: Optional[Tensor]):\n",
    "        size = decoder.slen + 2 * bp\n",
    "        full_plocs = full_catalog.plocs\n",
    "        b, max_n_sources, _ = full_plocs.shape\n",
    "\n",
    "        image = torch.zeros(len(dithers), 1, size, size)\n",
    "        image0 = torch.zeros(1, size, size)\n",
    "        noiseless_centered = torch.zeros(len(dithers), max_n_sources, 1, size, size)\n",
    "        noiseless_uncentered = torch.zeros(len(dithers), max_n_sources, 1, size, size)\n",
    "\n",
    "        n_sources = int(full_cat.n_sources[0].item())\n",
    "        galaxy_params = full_cat[\"galaxy_params\"][0]\n",
    "        plocs = full_plocs[0]\n",
    "\n",
    "        for ii in range(n_sources):\n",
    "            offset_x = plocs[ii][1] + bp - size / 2\n",
    "            offset_y = plocs[ii][0] + bp - size / 2\n",
    "            offset = torch.tensor([offset_x, offset_y])\n",
    "            centered = self.single_decoder.render_galaxy(galaxy_params[ii], psf, size, dithers = dithers)\n",
    "            uncentered = self.single_decoder.render_galaxy(galaxy_params[ii], psf, size, offset)\n",
    "            uncentered_dithered = self.single_decoder.render_galaxy(galaxy_params[ii], psf, size, offset, dithers)\n",
    "            noiseless_centered[:,ii] = centered.reshape(centered.shape[0], 1, size, size)\n",
    "            noiseless_uncentered[:,ii] = uncentered.reshape(uncentered.shape[0], 1, size, size)\n",
    "            image0 += uncentered\n",
    "            image += uncentered_dithered\n",
    "        return image, noiseless_centered, noiseless_uncentered, image0\n",
    "\n",
    "\n",
    "class CoaddGalsimBlends(GalsimBlends):\n",
    "    \"\"\"Dataset of coadd galsim blends.\"\"\"\n",
    "\n",
    "    def __init__(self,\n",
    "        prior: UniformGalsimGalaxiesPrior,\n",
    "        decoder: FullCatalogDecoder,\n",
    "        background: ConstantBackground,\n",
    "        tile_slen: int,\n",
    "        max_sources_per_tile: int,\n",
    "        num_workers: int,\n",
    "        batch_size: int,\n",
    "        n_batches: int,\n",
    "        fix_validation_set: bool = False,\n",
    "        valid_n_batches: Optional[int] = None,\n",
    "    ):\n",
    "        super().__init__(\n",
    "            prior,\n",
    "            decoder,\n",
    "            background,\n",
    "            tile_slen,\n",
    "            max_sources_per_tile,\n",
    "            num_workers,\n",
    "            batch_size,\n",
    "            n_batches,\n",
    "            fix_validation_set,\n",
    "            valid_n_batches,\n",
    "        )\n",
    "        self.prior = prior\n",
    "        self.decoder = decoder\n",
    "        self.n_batches = n_batches\n",
    "        self.batch_size = batch_size\n",
    "        self.num_workers = num_workers\n",
    "        self.background = background\n",
    "        self.fix_validation_set = fix_validation_set\n",
    "        self.valid_n_batches = valid_n_batches\n",
    "        \n",
    "        self.slen = self.decoder.slen\n",
    "        self.pixel_scale = self.decoder.single_decoder.pixel_scale\n",
    "        \n",
    "\n",
    "    def _get_images(self, full_cat, dithers):\n",
    "        size = self.slen + 2 * self.bp # check bp gets passed through\n",
    "        psf_obj = self.psf.sample()\n",
    "        noiseless, noiseless_centered, noiseless_uncentered, image0 = FullCatalogDecoder.render_catalog(\n",
    "            full_cat, psf_obj, dithers\n",
    "        )\n",
    "\n",
    "        # get background and noisy image.\n",
    "        background = background.sample((1, *noiseless.reshape(len(dithers),size,size).shape)).squeeze(0).reshape(len(dithers),1,size,size)\n",
    "        noisy_image = _add_noise_and_background(noiseless, background)\n",
    "\n",
    "        # align single exposures\n",
    "        aligned_images = align_single_exposures(image0[:].reshape(size,size), noisy_image, size, dithers)\n",
    "        \n",
    "        # get snr\n",
    "        bg = background[:,:, 1:size-1, 1:size-1]\n",
    "        img = aligned_images.reshape(len(dithers),1,size-2,size-2)\n",
    "        snr_images = snr(img, bg)\n",
    "\n",
    "        # coadd images\n",
    "        cropped_background = background.reshape(len(dithers),size,size)[:,1:size-1, 1:size-1] \n",
    "        coadded_image = linear_coadd(aligned_images, cropped_background)\n",
    "\n",
    "        return noisy_image, noiseless, noiseless_centered, noiseless_uncentered, background, snr_images, coadded_image\n",
    "\n",
    "    def _add_metrics(\n",
    "        self,\n",
    "        full_cat: FullCatalog,\n",
    "    ):\n",
    "        return full_cat\n",
    "\n",
    "\n"
   ]
  },
  {
   "cell_type": "code",
   "execution_count": 4,
   "metadata": {},
   "outputs": [],
   "source": [
    "with initialize(config_path=\"../sdss_galaxies/config\"):\n",
    "    cfg = compose(\"config\", overrides=[])"
   ]
  },
  {
   "cell_type": "code",
   "execution_count": 5,
   "metadata": {},
   "outputs": [],
   "source": [
    "prior = instantiate(cfg.datasets.sdss_galaxies.prior) \n",
    "decoder = instantiate(cfg.datasets.sdss_galaxies.decoder)\n",
    "background = instantiate(cfg.datasets.galsim_blended_galaxies.background)\n",
    "tile_slen = 4\n",
    "max_tile_n_sources = 1\n",
    "num_workers = 5\n",
    "n_batches = 1\n",
    "max_n_sources = 1\n",
    "max_shift = 0.5\n",
    "num_dithers = 4\n",
    "mprior = instantiate(cfg.models.prior)\n",
    "tile_catalog = mprior.sample_prior(tile_slen=4, batch_size=3, n_tiles_h=2, n_tiles_w=2)\n",
    "full_catalog = TileCatalog.to_full_params(tile_catalog)"
   ]
  },
  {
   "cell_type": "code",
   "execution_count": 6,
   "metadata": {},
   "outputs": [],
   "source": [
    "# Test CUGGP\n",
    "cuggp = CoaddUniformGalsimGalaxiesPrior(prior, max_n_sources, max_shift, num_dithers)\n"
   ]
  },
  {
   "cell_type": "code",
   "execution_count": 7,
   "metadata": {},
   "outputs": [],
   "source": [
    "pixel_scale = 0.393\n",
    "cuggprior = cuggp.sample() # does not work if we use galsim_blended_galaxies for prior config\n",
    "n_sources = cuggprior[\"n_sources\"]\n",
    "galaxy_params = cuggprior[\"galaxy_params\"]\n",
    "locs = cuggprior[\"locs\"]\n",
    "galaxy_bools = cuggprior[\"galaxy_bools\"]\n",
    "star_bools = cuggprior[\"star_bools\"]\n",
    "dithers = cuggprior[\"dithers\"]\n",
    "offset = None\n",
    "psf = decoder.psf\n"
   ]
  },
  {
   "cell_type": "code",
   "execution_count": 34,
   "metadata": {},
   "outputs": [
    {
     "data": {
      "text/plain": [
       "[array([-0.4811225 , -0.21159571], dtype=float32),\n",
       " array([-0.34641796, -0.29002923], dtype=float32),\n",
       " array([-0.32266533, -0.25221276], dtype=float32),\n",
       " array([-0.09234637, -0.26480418], dtype=float32)]"
      ]
     },
     "execution_count": 34,
     "metadata": {},
     "output_type": "execute_result"
    }
   ],
   "source": [
    "dithers"
   ]
  },
  {
   "cell_type": "code",
   "execution_count": 8,
   "metadata": {},
   "outputs": [
    {
     "name": "stderr",
     "output_type": "stream",
     "text": [
      "/tmp/ipykernel_1476522/2304180995.py:113: UserWarning: Creating a tensor from a list of numpy.ndarrays is extremely slow. Please consider converting the list to a single numpy.ndarray with numpy.array() before converting to a tensor. (Triggered internally at  ../torch/csrc/utils/tensor_new.cpp:210.)\n",
      "  shift = torch.add(torch.Tensor(dithers), torch.Tensor(offset))\n"
     ]
    },
    {
     "data": {
      "text/plain": [
       "tensor([[[[0.0261, 0.0277, 0.0293,  ..., 0.0304, 0.0287, 0.0271],\n",
       "          [0.0275, 0.0293, 0.0311,  ..., 0.0321, 0.0303, 0.0285],\n",
       "          [0.0291, 0.0309, 0.0329,  ..., 0.0340, 0.0319, 0.0300],\n",
       "          ...,\n",
       "          [0.0317, 0.0337, 0.0359,  ..., 0.0315, 0.0296, 0.0278],\n",
       "          [0.0301, 0.0319, 0.0339,  ..., 0.0298, 0.0280, 0.0264],\n",
       "          [0.0285, 0.0302, 0.0320,  ..., 0.0282, 0.0266, 0.0250]]],\n",
       "\n",
       "\n",
       "        [[[0.0255, 0.0271, 0.0287,  ..., 0.0309, 0.0291, 0.0275],\n",
       "          [0.0269, 0.0286, 0.0304,  ..., 0.0327, 0.0308, 0.0290],\n",
       "          [0.0284, 0.0302, 0.0322,  ..., 0.0345, 0.0325, 0.0305],\n",
       "          ...,\n",
       "          [0.0312, 0.0332, 0.0353,  ..., 0.0323, 0.0303, 0.0285],\n",
       "          [0.0296, 0.0314, 0.0334,  ..., 0.0305, 0.0287, 0.0270],\n",
       "          [0.0281, 0.0297, 0.0315,  ..., 0.0288, 0.0271, 0.0256]]],\n",
       "\n",
       "\n",
       "        [[[0.0262, 0.0277, 0.0294,  ..., 0.0303, 0.0286, 0.0270],\n",
       "          [0.0276, 0.0293, 0.0312,  ..., 0.0320, 0.0302, 0.0284],\n",
       "          [0.0292, 0.0310, 0.0330,  ..., 0.0339, 0.0318, 0.0299],\n",
       "          ...,\n",
       "          [0.0318, 0.0339, 0.0360,  ..., 0.0314, 0.0295, 0.0277],\n",
       "          [0.0302, 0.0320, 0.0340,  ..., 0.0297, 0.0280, 0.0263],\n",
       "          [0.0286, 0.0303, 0.0321,  ..., 0.0281, 0.0265, 0.0250]]],\n",
       "\n",
       "\n",
       "        [[[0.0249, 0.0264, 0.0280,  ..., 0.0322, 0.0304, 0.0286],\n",
       "          [0.0262, 0.0279, 0.0296,  ..., 0.0341, 0.0321, 0.0302],\n",
       "          [0.0276, 0.0294, 0.0313,  ..., 0.0361, 0.0339, 0.0319],\n",
       "          ...,\n",
       "          [0.0299, 0.0318, 0.0338,  ..., 0.0331, 0.0311, 0.0293],\n",
       "          [0.0284, 0.0301, 0.0320,  ..., 0.0313, 0.0294, 0.0277],\n",
       "          [0.0269, 0.0285, 0.0302,  ..., 0.0295, 0.0278, 0.0263]]]])"
      ]
     },
     "execution_count": 8,
     "metadata": {},
     "output_type": "execute_result"
    }
   ],
   "source": [
    "csgd = CoaddSingleGalaxyDecoder(decoder, n_bands = 1, pixel_scale = pixel_scale)\n",
    "csgd.render_galaxy(galaxy_params = galaxy_params[0], slen = decoder.slen, psf = decoder.psf, offset = offset, dithers = dithers)"
   ]
  },
  {
   "cell_type": "code",
   "execution_count": 9,
   "metadata": {},
   "outputs": [],
   "source": [
    "prior = instantiate(cfg.datasets.galsim_blended_galaxies.prior) \n",
    "decoder = instantiate(cfg.datasets.galsim_blended_galaxies.decoder)\n",
    "background = instantiate(cfg.datasets.galsim_blended_galaxies.background)\n",
    "tile_slen = 4\n",
    "max_tile_n_sources = 1\n",
    "num_workers = 5\n",
    "batch_size = 1000\n",
    "n_batches = 1\n",
    "full_catalog = CoaddGalsimBlends(prior = prior, decoder = decoder, background = background, tile_slen = tile_slen, max_sources_per_tile = max_tile_n_sources, num_workers = num_workers, batch_size = batch_size, n_batches = n_batches)._sample_full_catalog()"
   ]
  },
  {
   "cell_type": "code",
   "execution_count": 10,
   "metadata": {},
   "outputs": [
    {
     "ename": "RuntimeError",
     "evalue": "output with shape [1, 88, 88] doesn't match the broadcast shape [1, 1, 88, 88]",
     "output_type": "error",
     "traceback": [
      "\u001b[0;31m---------------------------------------------------------------------------\u001b[0m",
      "\u001b[0;31mRuntimeError\u001b[0m                              Traceback (most recent call last)",
      "\u001b[1;32m/home/wmallory/bliss/case_studies/coadds/test_notebook.ipynb Cell 11\u001b[0m in \u001b[0;36m<cell line: 4>\u001b[0;34m()\u001b[0m\n\u001b[1;32m      <a href='vscode-notebook-cell://ssh-remote%2Bdeeplearning-01.stat.lsa.umich.edu/home/wmallory/bliss/case_studies/coadds/test_notebook.ipynb#ch0000010vscode-remote?line=1'>2</a>\u001b[0m bp \u001b[39m=\u001b[39m \u001b[39m24\u001b[39m\n\u001b[1;32m      <a href='vscode-notebook-cell://ssh-remote%2Bdeeplearning-01.stat.lsa.umich.edu/home/wmallory/bliss/case_studies/coadds/test_notebook.ipynb#ch0000010vscode-remote?line=2'>3</a>\u001b[0m fcdecoder \u001b[39m=\u001b[39m FullCatalogDecoder(decoder, slen, bp)\n\u001b[0;32m----> <a href='vscode-notebook-cell://ssh-remote%2Bdeeplearning-01.stat.lsa.umich.edu/home/wmallory/bliss/case_studies/coadds/test_notebook.ipynb#ch0000010vscode-remote?line=3'>4</a>\u001b[0m fcdecoder\u001b[39m.\u001b[39;49mrender_catalog(full_catalog, psf, dithers)\n",
      "\u001b[1;32m/home/wmallory/bliss/case_studies/coadds/test_notebook.ipynb Cell 11\u001b[0m in \u001b[0;36mFullCatalogDecoder.render_catalog\u001b[0;34m(self, full_cat, psf, dithers)\u001b[0m\n\u001b[1;32m    <a href='vscode-notebook-cell://ssh-remote%2Bdeeplearning-01.stat.lsa.umich.edu/home/wmallory/bliss/case_studies/coadds/test_notebook.ipynb#ch0000010vscode-remote?line=156'>157</a>\u001b[0m     noiseless_centered[ii] \u001b[39m=\u001b[39m centered\u001b[39m.\u001b[39mreshape(centered\u001b[39m.\u001b[39mshape[\u001b[39m0\u001b[39m], size, size)\n\u001b[1;32m    <a href='vscode-notebook-cell://ssh-remote%2Bdeeplearning-01.stat.lsa.umich.edu/home/wmallory/bliss/case_studies/coadds/test_notebook.ipynb#ch0000010vscode-remote?line=157'>158</a>\u001b[0m     noiseless_uncentered[ii] \u001b[39m=\u001b[39m uncentered\u001b[39m.\u001b[39mreshape(uncentered\u001b[39m.\u001b[39mshape[\u001b[39m0\u001b[39m], size, size)\n\u001b[0;32m--> <a href='vscode-notebook-cell://ssh-remote%2Bdeeplearning-01.stat.lsa.umich.edu/home/wmallory/bliss/case_studies/coadds/test_notebook.ipynb#ch0000010vscode-remote?line=158'>159</a>\u001b[0m     image0 \u001b[39m+\u001b[39m\u001b[39m=\u001b[39m uncentered\n\u001b[1;32m    <a href='vscode-notebook-cell://ssh-remote%2Bdeeplearning-01.stat.lsa.umich.edu/home/wmallory/bliss/case_studies/coadds/test_notebook.ipynb#ch0000010vscode-remote?line=159'>160</a>\u001b[0m     image \u001b[39m+\u001b[39m\u001b[39m=\u001b[39m uncentered_dithered\n\u001b[1;32m    <a href='vscode-notebook-cell://ssh-remote%2Bdeeplearning-01.stat.lsa.umich.edu/home/wmallory/bliss/case_studies/coadds/test_notebook.ipynb#ch0000010vscode-remote?line=160'>161</a>\u001b[0m \u001b[39mreturn\u001b[39;00m image, noiseless_centered, noiseless_uncentered, image0\n",
      "\u001b[0;31mRuntimeError\u001b[0m: output with shape [1, 88, 88] doesn't match the broadcast shape [1, 1, 88, 88]"
     ]
    }
   ],
   "source": [
    "slen = 40\n",
    "bp = 24\n",
    "fcdecoder = FullCatalogDecoder(decoder, slen, bp)\n",
    "fcdecoder.render_catalog(full_catalog, psf, dithers) # Do I need to change the target in config to bliss.case_study.coadd.coadd_decoder?"
   ]
  },
  {
   "cell_type": "code",
   "execution_count": 48,
   "metadata": {},
   "outputs": [
    {
     "data": {
      "text/plain": [
       "[array([ 0.2863866, -0.2431587], dtype=float32),\n",
       " array([0.45234668, 0.29335123], dtype=float32),\n",
       " array([0.26052737, 0.14739156], dtype=float32),\n",
       " array([-0.45585835,  0.38580644], dtype=float32)]"
      ]
     },
     "execution_count": 48,
     "metadata": {},
     "output_type": "execute_result"
    }
   ],
   "source": [
    "dithers"
   ]
  },
  {
   "cell_type": "code",
   "execution_count": 11,
   "metadata": {},
   "outputs": [
    {
     "data": {
      "text/plain": [
       "tensor([[[[0.0590, 0.0634, 0.0682,  ..., 0.0695, 0.0646, 0.0601],\n",
       "          [0.0631, 0.0681, 0.0735,  ..., 0.0746, 0.0692, 0.0641],\n",
       "          [0.0675, 0.0731, 0.0792,  ..., 0.0801, 0.0740, 0.0684],\n",
       "          ...,\n",
       "          [0.0733, 0.0794, 0.0859,  ..., 0.0749, 0.0692, 0.0639],\n",
       "          [0.0686, 0.0740, 0.0798,  ..., 0.0697, 0.0646, 0.0599],\n",
       "          [0.0641, 0.0689, 0.0741,  ..., 0.0649, 0.0603, 0.0561]]],\n",
       "\n",
       "\n",
       "        [[[0.0574, 0.0617, 0.0664,  ..., 0.0708, 0.0659, 0.0613],\n",
       "          [0.0614, 0.0662, 0.0714,  ..., 0.0761, 0.0706, 0.0655],\n",
       "          [0.0656, 0.0710, 0.0769,  ..., 0.0818, 0.0756, 0.0699],\n",
       "          ...,\n",
       "          [0.0717, 0.0777, 0.0841,  ..., 0.0771, 0.0712, 0.0657],\n",
       "          [0.0672, 0.0725, 0.0782,  ..., 0.0717, 0.0664, 0.0616],\n",
       "          [0.0629, 0.0677, 0.0727,  ..., 0.0667, 0.0620, 0.0576]]],\n",
       "\n",
       "\n",
       "        [[[0.0592, 0.0637, 0.0684,  ..., 0.0692, 0.0644, 0.0599],\n",
       "          [0.0634, 0.0684, 0.0738,  ..., 0.0743, 0.0689, 0.0639],\n",
       "          [0.0678, 0.0734, 0.0795,  ..., 0.0797, 0.0737, 0.0680],\n",
       "          ...,\n",
       "          [0.0736, 0.0797, 0.0863,  ..., 0.0746, 0.0689, 0.0636],\n",
       "          [0.0689, 0.0743, 0.0802,  ..., 0.0694, 0.0643, 0.0596],\n",
       "          [0.0644, 0.0692, 0.0744,  ..., 0.0646, 0.0601, 0.0558]]],\n",
       "\n",
       "\n",
       "        [[[0.0556, 0.0598, 0.0644,  ..., 0.0745, 0.0694, 0.0645],\n",
       "          [0.0594, 0.0641, 0.0691,  ..., 0.0803, 0.0745, 0.0690],\n",
       "          [0.0633, 0.0685, 0.0742,  ..., 0.0865, 0.0799, 0.0738],\n",
       "          ...,\n",
       "          [0.0679, 0.0735, 0.0796,  ..., 0.0799, 0.0738, 0.0681],\n",
       "          [0.0637, 0.0687, 0.0741,  ..., 0.0741, 0.0687, 0.0637],\n",
       "          [0.0598, 0.0642, 0.0690,  ..., 0.0687, 0.0639, 0.0595]]]])"
      ]
     },
     "execution_count": 11,
     "metadata": {},
     "output_type": "execute_result"
    }
   ],
   "source": [
    "total_flux, disk_frac, beta_radians, disk_q, a_d, bulge_q, a_b = galaxy_params[0]\n",
    "bulge_frac = 1 - disk_frac\n",
    "\n",
    "disk_flux = total_flux * disk_frac\n",
    "bulge_flux = total_flux * bulge_frac\n",
    "\n",
    "components = []\n",
    "if disk_flux > 0:\n",
    "    b_d = a_d * disk_q\n",
    "    disk_hlr_arcsecs = np.sqrt(a_d * b_d)\n",
    "    disk = galsim.Exponential(flux=disk_flux, half_light_radius=disk_hlr_arcsecs).shear(\n",
    "        q=disk_q,\n",
    "        beta=beta_radians * galsim.radians,\n",
    "    )\n",
    "    components.append(disk)\n",
    "if bulge_flux > 0:\n",
    "    b_b = bulge_q * a_b\n",
    "    bulge_hlr_arcsecs = np.sqrt(a_b * b_b)\n",
    "    bulge = galsim.DeVaucouleurs(\n",
    "        flux=bulge_flux, half_light_radius=bulge_hlr_arcsecs\n",
    "    ).shear(q=bulge_q, beta=beta_radians * galsim.radians)\n",
    "    components.append(bulge)\n",
    "galaxy = galsim.Add(components)\n",
    "gal_conv = galsim.Convolution(galaxy, psf)\n",
    "offset = (0,0) if offset is None else offset\n",
    "dithers = (0,0) if dithers is None else dithers\n",
    "shift = torch.add(torch.Tensor(dithers), torch.Tensor(offset))\n",
    "shift = shift.reshape(1,2) if len(shift) == 2 else shift\n",
    "images = []\n",
    "for i in shift:\n",
    "    image = gal_conv.drawImage(\n",
    "        nx=slen, ny=slen, method=\"auto\", scale=pixel_scale, offset=i\n",
    "    )\n",
    "    image = image.array\n",
    "    images.append(image)\n",
    "torch.tensor(images[:]).reshape(len(shift), 1, slen, slen)\n"
   ]
  },
  {
   "cell_type": "code",
   "execution_count": 28,
   "metadata": {},
   "outputs": [],
   "source": [
    "size = decoder.slen + 2 * bp\n",
    "full_plocs = full_catalog.plocs\n",
    "b, max_n_sources, _ = full_plocs.shape\n",
    "\n",
    "image = torch.zeros(len(dithers), 1, size, size)\n",
    "noiseless_centered = torch.zeros(max_n_sources, len(dithers), size, size)\n",
    "noiseless_uncentered = torch.zeros(max_n_sources, len(dithers), size, size)\n",
    "\n",
    "n_sources = int(full_catalog.n_sources[0].item())\n",
    "galaxy_params = full_catalog[\"galaxy_params\"][0]\n",
    "plocs = full_plocs[0]\n",
    "\n",
    "for ii in range(n_sources):\n",
    "    offset_x = plocs[ii][1] + bp - size / 2\n",
    "    offset_y = plocs[ii][0] + bp - size / 2\n",
    "    offset = torch.tensor([offset_x, offset_y])\n",
    "    centered = csgd.render_galaxy(galaxy_params[ii], psf, size, dithers = dithers)\n",
    "    uncentered = csgd.render_galaxy(galaxy_params[ii], psf, size, offset, dithers)\n",
    "    noiseless_centered[ii] = centered.reshape(centered.shape[0], size, size)\n",
    "    noiseless_uncentered[ii] = uncentered.reshape(uncentered.shape[0], size, size)\n",
    "    image += uncentered"
   ]
  },
  {
   "cell_type": "code",
   "execution_count": 15,
   "metadata": {},
   "outputs": [
    {
     "data": {
      "text/plain": [
       "<matplotlib.image.AxesImage at 0x7f2138690be0>"
      ]
     },
     "execution_count": 15,
     "metadata": {},
     "output_type": "execute_result"
    },
    {
     "data": {
      "image/png": "[encoded data removed]",
      "text/plain": [
       "<Figure size 432x288 with 1 Axes>"
      ]
     },
     "metadata": {
      "needs_background": "light"
     },
     "output_type": "display_data"
    }
   ],
   "source": [
    "plt.imshow(image[2].reshape(image[2].shape[1],image[2].shape[2]).numpy())"
   ]
  },
  {
   "cell_type": "code",
   "execution_count": 30,
   "metadata": {},
   "outputs": [
    {
     "data": {
      "text/plain": [
       "torch.Size([4, 88, 88])"
      ]
     },
     "execution_count": 30,
     "metadata": {},
     "output_type": "execute_result"
    }
   ],
   "source": [
    "centered.reshape(centered.shape[0], size, size).shape"
   ]
  },
  {
   "cell_type": "code",
   "execution_count": 29,
   "metadata": {},
   "outputs": [
    {
     "data": {
      "text/plain": [
       "torch.Size([6, 4, 88, 88])"
      ]
     },
     "execution_count": 29,
     "metadata": {},
     "output_type": "execute_result"
    }
   ],
   "source": [
    "noiseless_uncentered.shape"
   ]
  },
  {
   "cell_type": "code",
   "execution_count": 32,
   "metadata": {},
   "outputs": [
    {
     "data": {
      "text/plain": [
       "torch.Size([4, 6, 1, 88, 88])"
      ]
     },
     "execution_count": 32,
     "metadata": {},
     "output_type": "execute_result"
    }
   ],
   "source": [
    "noiseless_centered.shape"
   ]
  },
  {
   "cell_type": "code",
   "execution_count": 36,
   "metadata": {},
   "outputs": [],
   "source": [
    "image = torch.zeros(len(dithers), 1, size, size)\n",
    "image0 = torch.zeros(1, 1, size, size)\n",
    "noiseless_centered = torch.zeros(len(dithers), max_n_sources, 1, size, size)\n",
    "noiseless_uncentered = torch.zeros(len(dithers), max_n_sources, 1, size, size)\n",
    "\n",
    "n_sources = int(full_catalog.n_sources[0].item())\n",
    "galaxy_params = full_catalog[\"galaxy_params\"][0]\n",
    "plocs = full_plocs[0]\n",
    "\n",
    "for ii in range(n_sources):\n",
    "    offset_x = plocs[ii][1] + bp - size / 2\n",
    "    offset_y = plocs[ii][0] + bp - size / 2\n",
    "    offset = torch.tensor([offset_x, offset_y])\n",
    "    centered = csgd.render_galaxy(galaxy_params[ii], psf, size, dithers = dithers)\n",
    "    uncentered = csgd.render_galaxy(galaxy_params[ii], psf, size, offset)\n",
    "    uncentered_dithered = csgd.render_galaxy(galaxy_params[ii], psf, size, offset, dithers)\n",
    "    noiseless_centered[:,ii] = centered.reshape(centered.shape[0], 1, size, size)\n",
    "    noiseless_uncentered[:,ii] = uncentered.reshape(uncentered.shape[0], 1, size, size)\n",
    "    image0 += uncentered\n",
    "    image += uncentered_dithered"
   ]
  },
  {
   "cell_type": "code",
   "execution_count": 33,
   "metadata": {},
   "outputs": [
    {
     "data": {
      "text/plain": [
       "<matplotlib.image.AxesImage at 0x7f2138412eb0>"
      ]
     },
     "execution_count": 33,
     "metadata": {},
     "output_type": "execute_result"
    },
    {
     "data": {
      "image/png": "[encoded data removed]",
      "text/plain": [
       "<Figure size 432x288 with 1 Axes>"
      ]
     },
     "metadata": {
      "needs_background": "light"
     },
     "output_type": "display_data"
    }
   ],
   "source": [
    "plt.imshow(image0[:].reshape(image0[:].shape[2],image0[:].shape[3]).numpy())"
   ]
  },
  {
   "cell_type": "code",
   "execution_count": 34,
   "metadata": {},
   "outputs": [
    {
     "data": {
      "text/plain": [
       "<matplotlib.image.AxesImage at 0x7f21383de490>"
      ]
     },
     "execution_count": 34,
     "metadata": {},
     "output_type": "execute_result"
    },
    {
     "data": {
      "image/png": "[encoded data removed]",
      "text/plain": [
       "<Figure size 432x288 with 1 Axes>"
      ]
     },
     "metadata": {
      "needs_background": "light"
     },
     "output_type": "display_data"
    }
   ],
   "source": [
    "plt.imshow(image[2].reshape(image[2].shape[1],image[2].shape[2]).numpy())"
   ]
  },
  {
   "cell_type": "code",
   "execution_count": 69,
   "metadata": {},
   "outputs": [],
   "source": [
    "# check noise and dither independence\n",
    "background = instantiate(cfg.datasets.sdss_galaxies.background)\n",
    "background = background.sample((1, *image.reshape(len(dithers),size,size).shape)).squeeze(0).reshape(len(dithers),1,size,size)\n",
    "_add_noise_and_background(image, background)\n",
    "\n",
    "image_with_background = image + background\n",
    "noise = image_with_background.sqrt() * torch.randn_like(image_with_background) # randomized by value of Tensor\n",
    "noisy_image = image_with_background + noise"
   ]
  },
  {
   "cell_type": "code",
   "execution_count": 70,
   "metadata": {},
   "outputs": [
    {
     "data": {
      "text/plain": [
       "<matplotlib.image.AxesImage at 0x7f2144205a30>"
      ]
     },
     "execution_count": 70,
     "metadata": {},
     "output_type": "execute_result"
    },
    {
     "data": {
      "image/png": "[encoded data removed]",
      "text/plain": [
       "<Figure size 432x288 with 1 Axes>"
      ]
     },
     "metadata": {
      "needs_background": "light"
     },
     "output_type": "display_data"
    }
   ],
   "source": [
    "plt.imshow(noisy_image[2].reshape(noisy_image[2].shape[1],noisy_image[2].shape[2]).numpy())"
   ]
  },
  {
   "cell_type": "code",
   "execution_count": 40,
   "metadata": {},
   "outputs": [],
   "source": [
    "i0 = galsim.Image(np.array(image0[:].reshape(88,88)), wcs=galsim.PixelScale(pixel_scale))\n",
    "i1 = galsim.Image(np.array(image[:][0].reshape(88,88)))"
   ]
  },
  {
   "cell_type": "code",
   "execution_count": 146,
   "metadata": {},
   "outputs": [],
   "source": [
    "from bliss.models.decoder import get_mgrid\n",
    "def align_single_exposures(img0, img1, slen, dithers):\n",
    "    img0 = galsim.Image(np.array(img0), wcs=galsim.PixelScale(pixel_scale))\n",
    "    wcs0 = img0.wcs\n",
    "    images = img1\n",
    "\n",
    "    sgrid = (get_mgrid(slen) - (-1))/(1-(-1)) * (slen)\n",
    "    grid_x = wcs0.xyTouv(np.array(sgrid.reshape(slen*slen,2)[:,0]), np.array(sgrid.reshape(slen*slen,2)[:,1]))[0]\n",
    "    grid_y = wcs0.xyTouv(np.array(sgrid.reshape(slen*slen,2)[:,0]), np.array(sgrid.reshape(slen*slen,2)[:,1]))[1]\n",
    "\n",
    "    grid = torch.empty(size=(0, 2))\n",
    "    for i in dithers:\n",
    "        wcs1 = galsim.OffsetWCS(scale = 0.393, origin = galsim.PositionD(i))\n",
    "        x, y = wcs1.uvToxy(grid_x,grid_y)\n",
    "        x_grid = (x/slen) * (1-(-1)) + (-1)\n",
    "        y_grid = (y/slen) * (1-(-1)) + (-1)\n",
    "        grid = torch.cat([grid, torch.stack((torch.tensor(x_grid),torch.tensor(y_grid)),-1)], dim=0)\n",
    "\n",
    "    iplots = []\n",
    "    input = torch.tensor(images[:]).reshape(len(dithers),1,slen,slen).float()\n",
    "    grids = grid.reshape(len(dithers),1,slen*slen,2).float()\n",
    "    iplots.append(F.grid_sample(input, grids, align_corners = False))\n",
    "    \n",
    "    tenplot = torch.tensor(iplots[:][0])\n",
    "    crop_images = []\n",
    "    for i in range(tenplot.shape[0]):\n",
    "        im = np.array(tenplot[i].reshape(slen,slen))\n",
    "        crop_im = im[1:slen-1, 1:slen-1]\n",
    "        crop_images.append(crop_im)\n",
    "    return torch.tensor(crop_images)"
   ]
  },
  {
   "cell_type": "code",
   "execution_count": 79,
   "metadata": {},
   "outputs": [
    {
     "data": {
      "text/plain": [
       "torch.Size([4, 1, 88, 88])"
      ]
     },
     "execution_count": 79,
     "metadata": {},
     "output_type": "execute_result"
    }
   ],
   "source": [
    "image0[:].reshape(size,size)"
   ]
  },
  {
   "cell_type": "code",
   "execution_count": 147,
   "metadata": {},
   "outputs": [
    {
     "name": "stderr",
     "output_type": "stream",
     "text": [
      "/tmp/ipykernel_1476522/2364702946.py:20: UserWarning: To copy construct from a tensor, it is recommended to use sourceTensor.clone().detach() or sourceTensor.clone().detach().requires_grad_(True), rather than torch.tensor(sourceTensor).\n",
      "  input = torch.tensor(images[:]).reshape(len(dithers),1,slen,slen).float()\n",
      "/tmp/ipykernel_1476522/2364702946.py:24: UserWarning: To copy construct from a tensor, it is recommended to use sourceTensor.clone().detach() or sourceTensor.clone().detach().requires_grad_(True), rather than torch.tensor(sourceTensor).\n",
      "  tenplot = torch.tensor(iplots[:][0])\n"
     ]
    }
   ],
   "source": [
    "# Add alignment and coadding \n",
    "img0 = image0[:].reshape(size,size)\n",
    "imgs = noisy_image\n",
    "aligned_images = align_single_exposures(img0, imgs, size, dithers)"
   ]
  },
  {
   "cell_type": "code",
   "execution_count": 154,
   "metadata": {},
   "outputs": [
    {
     "data": {
      "text/plain": [
       "tensor([[[[9.7805e+01, 9.6151e+01, 3.9720e+02,  ..., 9.0323e+00,\n",
       "           3.6585e-03, 7.2454e+02],\n",
       "          [3.9433e+02, 2.5478e-03, 1.5205e+02,  ..., 2.7555e+00,\n",
       "           1.2360e+02, 3.3436e+02],\n",
       "          [5.9419e+02, 1.2934e+03, 7.0913e+01,  ..., 3.8722e+02,\n",
       "           8.2502e+02, 5.9722e+01],\n",
       "          ...,\n",
       "          [9.7152e+02, 2.0778e+00, 1.5914e-01,  ..., 1.3392e+02,\n",
       "           3.7324e+00, 7.0764e+02],\n",
       "          [8.7064e+01, 4.1115e+02, 1.0128e+02,  ..., 9.6943e+02,\n",
       "           7.1756e+02, 5.2908e+02],\n",
       "          [8.2079e+01, 5.3716e+02, 1.0371e+03,  ..., 1.3515e+00,\n",
       "           5.4402e+02, 3.5942e+01]]],\n",
       "\n",
       "\n",
       "        [[[3.1136e+02, 2.6949e+03, 8.4436e+02,  ..., 1.2553e+02,\n",
       "           2.2501e+02, 3.5207e+02],\n",
       "          [8.3968e+02, 2.4448e+01, 1.1243e+03,  ..., 7.9012e+02,\n",
       "           7.5952e+02, 3.3538e+03],\n",
       "          [6.4019e+02, 6.7382e+01, 1.0354e+03,  ..., 9.4144e-01,\n",
       "           1.5840e+01, 3.3410e+01],\n",
       "          ...,\n",
       "          [1.2033e+02, 6.9448e+01, 1.5404e+02,  ..., 1.1651e+03,\n",
       "           9.7636e+02, 7.5056e+02],\n",
       "          [3.8066e+03, 8.5523e+00, 3.7874e+02,  ..., 1.6690e+03,\n",
       "           2.3287e+03, 5.0947e+00],\n",
       "          [1.8102e+03, 4.1009e+02, 6.7478e+00,  ..., 6.3339e+00,\n",
       "           3.1832e+02, 4.3992e+02]]],\n",
       "\n",
       "\n",
       "        [[[1.5917e+02, 1.9351e+02, 8.0442e+02,  ..., 5.4474e+02,\n",
       "           8.6688e+02, 1.0056e+03],\n",
       "          [2.0151e+02, 1.0528e+02, 5.1031e+02,  ..., 7.1034e+00,\n",
       "           1.4846e+01, 1.3830e-01],\n",
       "          [9.2078e+02, 6.7953e+02, 1.6106e+02,  ..., 1.2635e+02,\n",
       "           5.1897e+02, 4.2898e+01],\n",
       "          ...,\n",
       "          [1.4975e+03, 1.0269e+03, 2.9819e+02,  ..., 6.3858e+01,\n",
       "           1.4412e+03, 6.1973e+02],\n",
       "          [1.5216e+03, 9.6726e+02, 1.7098e+02,  ..., 8.0049e+02,\n",
       "           1.3828e+03, 6.5921e+02],\n",
       "          [4.7399e+02, 9.6352e+01, 5.2169e+01,  ..., 1.3817e+01,\n",
       "           3.1919e+02, 3.2492e+01]]],\n",
       "\n",
       "\n",
       "        [[[3.1618e+02, 4.4826e+02, 1.7951e+02,  ..., 3.5978e+00,\n",
       "           1.0143e+01, 3.6859e+02],\n",
       "          [3.5934e+02, 1.3599e+01, 6.6753e+01,  ..., 1.3907e+02,\n",
       "           1.1370e+02, 1.2718e+02],\n",
       "          [2.4393e+02, 4.3303e+02, 9.3841e+00,  ..., 9.9670e+02,\n",
       "           9.1821e+02, 9.9303e+01],\n",
       "          ...,\n",
       "          [3.6745e+01, 7.1510e+00, 1.3402e+02,  ..., 6.6891e+01,\n",
       "           3.3766e+02, 8.5939e+01],\n",
       "          [1.7592e+02, 6.4186e+01, 8.9382e+00,  ..., 1.5610e+03,\n",
       "           2.0137e+03, 1.6944e+03],\n",
       "          [1.6329e+02, 1.3351e+01, 6.1934e+01,  ..., 2.1685e+00,\n",
       "           3.1547e+02, 2.1221e+02]]]])"
      ]
     },
     "execution_count": 154,
     "metadata": {},
     "output_type": "execute_result"
    }
   ],
   "source": [
    "(img - bg)**2"
   ]
  },
  {
   "cell_type": "code",
   "execution_count": 158,
   "metadata": {},
   "outputs": [
    {
     "data": {
      "text/plain": [
       "tensor([233.6457, 236.4383, 232.0970, 232.5419])"
      ]
     },
     "execution_count": 158,
     "metadata": {},
     "output_type": "execute_result"
    }
   ],
   "source": [
    "# add snr\n",
    "bg = background[:,:, 1:size-1, 1:size-1]\n",
    "img = aligned_images.reshape(len(dithers),1,size-2,size-2)\n",
    "img - bg\n",
    "torch.sqrt(torch.sum((img - bg)**2 / (img - bg + bg), dim=(3, 2, 1)))\n",
    "snr(img, bg)"
   ]
  },
  {
   "cell_type": "code",
   "execution_count": 130,
   "metadata": {},
   "outputs": [],
   "source": [
    "# Coadd using direct coadd: linear combination \n",
    "# Direct coadd, where weights are proportional to inverse variance\n",
    "bd = background.reshape(len(dithers),size,size)[:,1:size-1, 1:size-1] # background cropped\n",
    "id = torch.tensor(aligned_images) - bd # aligned images without background\n",
    "weight = 1 / torch.tensor(aligned_images)\n",
    "num = torch.sum(id / torch.tensor(aligned_images), dim = 0)\n",
    "coadded = num / (torch.sum(weight, dim = 0))\n",
    "\n",
    "def linear_coadd(aligned_images, cropped_background):\n",
    "    assert torch.tensor(aligned_images).shape == torch.tensor(cropped_background).shape\n",
    "\n",
    "    id = torch.tensor(aligned_images) - cropped_background \n",
    "    weight = 1 / torch.tensor(aligned_images)\n",
    "    num = torch.sum(id / torch.tensor(aligned_images), dim = 0)\n",
    "    return num / (torch.sum(weight, dim = 0))\n"
   ]
  },
  {
   "cell_type": "code",
   "execution_count": 131,
   "metadata": {},
   "outputs": [
    {
     "name": "stderr",
     "output_type": "stream",
     "text": [
      "/tmp/ipykernel_1476522/3013547580.py:10: UserWarning: To copy construct from a tensor, it is recommended to use sourceTensor.clone().detach() or sourceTensor.clone().detach().requires_grad_(True), rather than torch.tensor(sourceTensor).\n",
      "  assert torch.tensor(aligned_images).shape == torch.tensor(cropped_background).shape\n"
     ]
    },
    {
     "data": {
      "text/plain": [
       "tensor([[-14.4965,   5.7448,  15.6396,  ...,   9.7780,  11.7710,   0.6030],\n",
       "        [  5.5216,   2.2028,   8.4663,  ...,  -5.4049,  -2.6983, -17.1500],\n",
       "        [ 15.7054,  11.8200,  -3.8945,  ...,  -0.3650,   3.6645,  -0.4348],\n",
       "        ...,\n",
       "        [-19.0546,  -7.2267,  -4.5730,  ...,   7.0405, -22.6021, -22.1054],\n",
       "        [  3.1368, -11.8408,  -3.5431,  ...,  -1.0711,  -5.2976,   8.3232],\n",
       "        [-21.7410,  -2.5716,  -7.8379,  ...,   1.4767, -19.2051,  -1.5259]])"
      ]
     },
     "execution_count": 131,
     "metadata": {},
     "output_type": "execute_result"
    }
   ],
   "source": [
    "linear_coadd(aligned_images, bd)"
   ]
  },
  {
   "cell_type": "code",
   "execution_count": 129,
   "metadata": {},
   "outputs": [
    {
     "data": {
      "text/plain": [
       "<matplotlib.image.AxesImage at 0x7f213813b310>"
      ]
     },
     "execution_count": 129,
     "metadata": {},
     "output_type": "execute_result"
    },
    {
     "data": {
      "image/png": "[encoded data removed]",
      "text/plain": [
       "<Figure size 432x288 with 1 Axes>"
      ]
     },
     "metadata": {
      "needs_background": "light"
     },
     "output_type": "display_data"
    }
   ],
   "source": [
    "plt.imshow(coadded.numpy())"
   ]
  },
  {
   "cell_type": "code",
   "execution_count": 142,
   "metadata": {},
   "outputs": [
    {
     "data": {
      "text/plain": [
       "torch.Size([4, 86, 86])"
      ]
     },
     "execution_count": 142,
     "metadata": {},
     "output_type": "execute_result"
    }
   ],
   "source": [
    "bd.shape"
   ]
  },
  {
   "cell_type": "code",
   "execution_count": null,
   "metadata": {},
   "outputs": [],
   "source": []
  }
 ],
 "metadata": {
  "kernelspec": {
   "display_name": "Python 3.8.10 ('bliss-z6VjvYh8-py3.8')",
   "language": "python",
   "name": "python3"
  },
  "language_info": {
   "codemirror_mode": {
    "name": "ipython",
    "version": 3
   },
   "file_extension": ".py",
   "mimetype": "text/x-python",
   "name": "python",
   "nbconvert_exporter": "python",
   "pygments_lexer": "ipython3",
   "version": "3.8.10"
  },
  "orig_nbformat": 4,
  "vscode": {
   "interpreter": {
    "hash": "42573bf324965e8843cce5661f2b7cff1bd822ab6b918329f3dd4ef295939d5e"
   }
  }
 },
 "nbformat": 4,
 "nbformat_minor": 2
}

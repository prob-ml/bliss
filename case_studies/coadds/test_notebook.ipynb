{
 "cells": [
  {
   "cell_type": "code",
   "execution_count": 23,
   "metadata": {},
   "outputs": [],
   "source": [
    "from typing import Dict, List, Optional\n",
    "import matplotlib.pyplot as plt\n",
    "from hydra import compose, initialize\n",
    "from hydra.utils import instantiate\n",
    "import numpy as np\n",
    "import pytorch_lightning as pl\n",
    "import torch\n",
    "from torch import Tensor\n",
    "import torch.nn.functional as F\n",
    "from einops import rearrange\n",
    "from torch.utils.data import DataLoader, Dataset\n",
    "import galsim\n",
    "from bliss.catalog import TileCatalog, get_is_on_from_n_sources, FullCatalog\n",
    "from bliss.datasets.background import ConstantBackground\n",
    "from bliss.datasets.sdss import convert_flux_to_mag\n",
    "from bliss.models.galsim_decoder import (\n",
    "    SingleGalsimGalaxyDecoder,\n",
    "    SingleGalsimGalaxyPrior,\n",
    "    UniformGalsimGalaxiesPrior,\n",
    ")\n",
    "from bliss.datasets.galsim_galaxies import GalsimBlends\n",
    "from case_studies.coadds.signal_noise_ratio import snr"
   ]
  },
  {
   "cell_type": "code",
   "execution_count": 24,
   "metadata": {},
   "outputs": [
    {
     "name": "stdout",
     "output_type": "stream",
     "text": [
      "Modules to reload:\n",
      "all-except-skipped\n",
      "\n",
      "Modules to skip:\n",
      "\n"
     ]
    }
   ],
   "source": [
    "%load_ext autoreload\n",
    "%autoreload 2\n",
    "%aimport\n",
    "%matplotlib inline"
   ]
  },
  {
   "cell_type": "code",
   "execution_count": 25,
   "metadata": {},
   "outputs": [],
   "source": [
    "def _add_noise_and_background(image: Tensor, background: Tensor) -> Tensor:\n",
    "    image_with_background = image + background\n",
    "    noise = image_with_background.sqrt() * torch.randn_like(image_with_background)\n",
    "    return image_with_background + noise\n",
    "\n",
    "\n",
    "def load_psf_from_file(psf_image_file: str, pixel_scale: float) -> galsim.GSObject:\n",
    "    \"\"\"Return normalized PSF galsim.GSObject from numpy psf_file.\"\"\"\n",
    "    assert Path(psf_image_file).suffix == \".npy\"\n",
    "    psf_image = np.load(psf_image_file)\n",
    "    assert len(psf_image.shape) == 3 and psf_image.shape[0] == 1\n",
    "    psf_image = galsim.Image(psf_image[0], scale=pixel_scale)\n",
    "    return galsim.InterpolatedImage(psf_image).withFlux(1.0)\n",
    "\n",
    "\n",
    "def _sample_n_sources(max_n_sources) -> int:\n",
    "    return int(torch.randint(1, max_n_sources + 1, (1,)).int().item())\n",
    "\n",
    "\n",
    "def _uniform(a, b, n_samples=1) -> Tensor:\n",
    "    # uses pytorch to return a single float ~ U(a, b)\n",
    "    return (a - b) * torch.rand(n_samples) + b\n",
    "\n",
    "\n",
    "class CoaddUniformGalsimGalaxiesPrior(UniformGalsimGalaxiesPrior):\n",
    "    def __init__(\n",
    "        self,\n",
    "        single_galaxy_prior: SingleGalsimGalaxyPrior,\n",
    "        max_n_sources: int,\n",
    "        max_shift: float,\n",
    "        num_dithers: int,\n",
    "    ):\n",
    "        super().__init__(\n",
    "            single_galaxy_prior,\n",
    "            max_n_sources,\n",
    "            max_shift,\n",
    "        )\n",
    "\n",
    "    def sample(self) -> Dict[str, Tensor]:\n",
    "        \"\"\"Returns a single batch of source parameters.\"\"\"\n",
    "        n_sources = _sample_n_sources(self.max_n_sources)\n",
    "\n",
    "        params = torch.zeros(self.max_n_sources, self.dim_latents)\n",
    "        params[:n_sources, :] = self.single_galaxy_prior.sample(n_sources)\n",
    "\n",
    "        locs = torch.zeros(self.max_n_sources, 2)\n",
    "        locs[:n_sources, 0] = _uniform(-self.max_shift, self.max_shift, n_sources) + 0.5\n",
    "        locs[:n_sources, 1] = _uniform(-self.max_shift, self.max_shift, n_sources) + 0.5\n",
    "\n",
    "        # for now, galaxies only\n",
    "        galaxy_bools = torch.zeros(self.max_n_sources, 1)\n",
    "        galaxy_bools[:n_sources, :] = 1\n",
    "        star_bools = torch.zeros(self.max_n_sources, 1)\n",
    "\n",
    "        dithers = [((-0.5 - 0.5) * torch.rand((2,)) + 0.5).numpy() for x in range(num_dithers)]\n",
    "\n",
    "        return {\n",
    "            \"n_sources\": torch.tensor(n_sources),\n",
    "            \"galaxy_params\": params,\n",
    "            \"locs\": locs,\n",
    "            \"galaxy_bools\": galaxy_bools,\n",
    "            \"star_bools\": star_bools,\n",
    "            \"dithers\": dithers,\n",
    "        }\n",
    "\n",
    "\n",
    "class CoaddSingleGalaxyDecoder(SingleGalsimGalaxyDecoder):\n",
    "    def __init__(\n",
    "        self,\n",
    "        slen: int,\n",
    "        n_bands: int,\n",
    "        pixel_scale: float,\n",
    "        #    psf_image_file: str,\n",
    "    ) -> None:\n",
    "        assert n_bands == 1, \"Only 1 band is supported\"\n",
    "        self.slen = slen\n",
    "        self.n_bands = 1\n",
    "        self.pixel_scale = pixel_scale\n",
    "\n",
    "    #    self.psf = load_psf_from_file(psf_image_file, self.pixel_scale)\n",
    "\n",
    "    def render_galaxy(\n",
    "        self,\n",
    "        galaxy_params: Tensor,\n",
    "        psf: galsim.GSObject,\n",
    "        slen: int,\n",
    "        offset: Optional[Tensor] = None,\n",
    "        dithers: Optional[Tensor] = None,\n",
    "    ) -> Tensor:\n",
    "        assert offset is None or offset.shape == (2,)\n",
    "        if isinstance(galaxy_params, Tensor):\n",
    "            galaxy_params = galaxy_params.cpu().detach()\n",
    "        total_flux, disk_frac, beta_radians, disk_q, a_d, bulge_q, a_b = galaxy_params\n",
    "        bulge_frac = 1 - disk_frac\n",
    "\n",
    "        disk_flux = total_flux * disk_frac\n",
    "        bulge_flux = total_flux * bulge_frac\n",
    "\n",
    "        components = []\n",
    "        if disk_flux > 0:\n",
    "            b_d = a_d * disk_q\n",
    "            disk_hlr_arcsecs = np.sqrt(a_d * b_d)\n",
    "            disk = galsim.Exponential(flux=disk_flux, half_light_radius=disk_hlr_arcsecs).shear(\n",
    "                q=disk_q,\n",
    "                beta=beta_radians * galsim.radians,\n",
    "            )\n",
    "            components.append(disk)\n",
    "        if bulge_flux > 0:\n",
    "            b_b = bulge_q * a_b\n",
    "            bulge_hlr_arcsecs = np.sqrt(a_b * b_b)\n",
    "            bulge = galsim.DeVaucouleurs(\n",
    "                flux=bulge_flux, half_light_radius=bulge_hlr_arcsecs\n",
    "            ).shear(q=bulge_q, beta=beta_radians * galsim.radians)\n",
    "            components.append(bulge)\n",
    "        galaxy = galsim.Add(components)\n",
    "        gal_conv = galsim.Convolution(galaxy, psf)\n",
    "        offset = (0, 0) if offset is None else offset\n",
    "        dithers = (0, 0) if dithers is None else dithers\n",
    "        shift = torch.add(torch.Tensor(dithers), torch.Tensor(offset))\n",
    "        shift = shift.reshape(1, 2) if len(shift) == 2 else shift\n",
    "        images = []\n",
    "        for i in shift:\n",
    "            image = gal_conv.drawImage(\n",
    "                nx=slen, ny=slen, method=\"auto\", scale=self.pixel_scale, offset=i\n",
    "            )\n",
    "            image = image.array\n",
    "            images.append(image)\n",
    "        return torch.tensor(images[:]).reshape(len(shift), 1, slen, slen)\n",
    "\n",
    "\n",
    "class FullCatalogDecoder:\n",
    "    def __init__(self, single_galaxy_decoder: CoaddSingleGalaxyDecoder, slen: int, bp: int) -> None:\n",
    "        self.single_decoder = single_galaxy_decoder\n",
    "        self.slen = slen\n",
    "        self.bp = bp\n",
    "        assert self.slen + 2 * self.bp >= self.single_decoder.slen\n",
    "\n",
    "    def __call__(self, full_cat: FullCatalog):\n",
    "        return self.render_catalog(full_cat, self.single_decoder.psf)\n",
    "\n",
    "    def render_catalog(\n",
    "        self, full_cat: FullCatalog, psf: galsim.GSObject, dithers: Optional[Tensor]\n",
    "    ):\n",
    "        size = decoder.slen + 2 * self.bp\n",
    "        full_plocs = full_catalog.plocs\n",
    "        b, max_n_sources, _ = full_plocs.shape\n",
    "\n",
    "        image = torch.zeros(len(dithers), 1, size, size)\n",
    "        image0 = torch.zeros(1, size, size)\n",
    "        noiseless_centered = torch.zeros(len(dithers), max_n_sources, 1, size, size)\n",
    "        noiseless_uncentered = torch.zeros(len(dithers), max_n_sources, 1, size, size)\n",
    "\n",
    "        n_sources = int(full_cat.n_sources[0].item())\n",
    "        galaxy_params = full_cat[\"galaxy_params\"][0]\n",
    "        plocs = full_plocs[0]\n",
    "\n",
    "        for ii in range(n_sources):\n",
    "            offset_x = plocs[ii][1] + self.bp - size / 2\n",
    "            offset_y = plocs[ii][0] + self.bp - size / 2\n",
    "            offset = torch.tensor([offset_x, offset_y])\n",
    "            centered = self.single_decoder.render_galaxy(\n",
    "                galaxy_params[ii], psf, size, dithers=dithers\n",
    "            )\n",
    "            uncentered = self.single_decoder.render_galaxy(galaxy_params[ii], psf, size, offset)\n",
    "            uncentered_dithered = self.single_decoder.render_galaxy(\n",
    "                galaxy_params[ii], psf, size, offset, dithers\n",
    "            )\n",
    "            noiseless_centered[:, ii] = centered.reshape(centered.shape[0], 1, size, size)\n",
    "            noiseless_uncentered[:, ii] = uncentered.reshape(uncentered.shape[0], 1, size, size)\n",
    "            image0 += uncentered\n",
    "            image += uncentered_dithered\n",
    "        return image, noiseless_centered, noiseless_uncentered, image0\n",
    "\n",
    "\n",
    "class CoaddGalsimBlends(GalsimBlends):\n",
    "    \"\"\"Dataset of coadd galsim blends.\"\"\"\n",
    "\n",
    "    def __init__(\n",
    "        self,\n",
    "        prior: UniformGalsimGalaxiesPrior,\n",
    "        decoder: FullCatalogDecoder,\n",
    "        background: ConstantBackground,\n",
    "        tile_slen: int,\n",
    "        max_sources_per_tile: int,\n",
    "        num_workers: int,\n",
    "        batch_size: int,\n",
    "        n_batches: int,\n",
    "        fix_validation_set: bool = False,\n",
    "        valid_n_batches: Optional[int] = None,\n",
    "    ):\n",
    "        super().__init__(\n",
    "            prior,\n",
    "            decoder,\n",
    "            background,\n",
    "            tile_slen,\n",
    "            max_sources_per_tile,\n",
    "            num_workers,\n",
    "            batch_size,\n",
    "            n_batches,\n",
    "            fix_validation_set,\n",
    "            valid_n_batches,\n",
    "        )\n",
    "        self.prior = prior\n",
    "        self.decoder = decoder\n",
    "        self.n_batches = n_batches\n",
    "        self.batch_size = batch_size\n",
    "        self.num_workers = num_workers\n",
    "        self.background = background\n",
    "        self.fix_validation_set = fix_validation_set\n",
    "        self.valid_n_batches = valid_n_batches\n",
    "\n",
    "        self.slen = self.decoder.slen\n",
    "        self.pixel_scale = self.decoder.single_decoder.pixel_scale\n",
    "\n",
    "    def _get_images(self, full_cat, dithers):\n",
    "        size = self.slen + 2 * self.bp  # check bp gets passed through\n",
    "        (\n",
    "            noiseless,\n",
    "            noiseless_centered,\n",
    "            noiseless_uncentered,\n",
    "            image0,\n",
    "        ) = FullCatalogDecoder.render_catalog(full_cat, psf_obj, dithers)\n",
    "\n",
    "        # get background and noisy image.\n",
    "        background = (\n",
    "            background.sample((1, *noiseless.reshape(len(dithers), size, size).shape))\n",
    "            .squeeze(0)\n",
    "            .reshape(len(dithers), 1, size, size)\n",
    "        )\n",
    "        noisy_image = _add_noise_and_background(noiseless, background)\n",
    "\n",
    "        # align single exposures\n",
    "        aligned_images = align_single_exposures(\n",
    "            image0[:].reshape(size, size), noisy_image, size, dithers\n",
    "        )\n",
    "\n",
    "        # get snr\n",
    "        bg = background[:, :, 1 : size - 1, 1 : size - 1]\n",
    "        img = aligned_images.reshape(len(dithers), 1, size - 2, size - 2)\n",
    "        snr_images = snr(img, bg)\n",
    "\n",
    "        # coadd images\n",
    "        cropped_background = background.reshape(len(dithers), size, size)[\n",
    "            :, 1 : size - 1, 1 : size - 1\n",
    "        ]\n",
    "        coadded_image = linear_coadd(aligned_images, cropped_background)\n",
    "\n",
    "        return (\n",
    "            noisy_image,\n",
    "            noiseless,\n",
    "            noiseless_centered,\n",
    "            noiseless_uncentered,\n",
    "            background,\n",
    "            snr_images,\n",
    "            coadded_image,\n",
    "        )\n",
    "\n",
    "    def _add_metrics(\n",
    "        self,\n",
    "        full_cat: FullCatalog,\n",
    "    ):\n",
    "        return full_cat"
   ]
  },
  {
   "cell_type": "code",
   "execution_count": 53,
   "metadata": {},
   "outputs": [],
   "source": [
    "with initialize(config_path=\"../coadds/config\"):\n",
    "    cfg = compose(\"config\", overrides=[])"
   ]
  },
  {
   "cell_type": "code",
   "execution_count": 54,
   "metadata": {},
   "outputs": [
    {
     "ename": "InstantiationException",
     "evalue": "Error in call to target 'bliss.models.prior.GalaxyPrior':\nFileNotFoundError(2, 'No such file or directory')\nfull_key: models.prior.galaxy_prior",
     "output_type": "error",
     "traceback": [
      "\u001b[0;31m---------------------------------------------------------------------------\u001b[0m",
      "\u001b[0;31mFileNotFoundError\u001b[0m                         Traceback (most recent call last)",
      "File \u001b[0;32m~/.cache/pypoetry/virtualenvs/bliss-z6VjvYh8-py3.8/lib/python3.8/site-packages/hydra/_internal/instantiate/_instantiate2.py:86\u001b[0m, in \u001b[0;36m_call_target\u001b[0;34m(_target_, _partial_, args, kwargs, full_key)\u001b[0m\n\u001b[1;32m     85\u001b[0m \u001b[39mtry\u001b[39;00m:\n\u001b[0;32m---> 86\u001b[0m     \u001b[39mreturn\u001b[39;00m _target_(\u001b[39m*\u001b[39;49margs, \u001b[39m*\u001b[39;49m\u001b[39m*\u001b[39;49mkwargs)\n\u001b[1;32m     87\u001b[0m \u001b[39mexcept\u001b[39;00m \u001b[39mException\u001b[39;00m \u001b[39mas\u001b[39;00m e:\n",
      "File \u001b[0;32m~/bliss/bliss/models/prior.py:45\u001b[0m, in \u001b[0;36mGalaxyPrior.__init__\u001b[0;34m(self, latents_file, n_latent_batches, autoencoder, autoencoder_ckpt, psf_image_file, galaxy_dataset)\u001b[0m\n\u001b[1;32m     43\u001b[0m \u001b[39massert\u001b[39;00m autoencoder \u001b[39mis\u001b[39;00m \u001b[39mnot\u001b[39;00m \u001b[39mNone\u001b[39;00m\n\u001b[1;32m     44\u001b[0m autoencoder\u001b[39m.\u001b[39mload_state_dict(\n\u001b[0;32m---> 45\u001b[0m     torch\u001b[39m.\u001b[39;49mload(autoencoder_ckpt, map_location\u001b[39m=\u001b[39;49mtorch\u001b[39m.\u001b[39;49mdevice(\u001b[39m\"\u001b[39;49m\u001b[39mcpu\u001b[39;49m\u001b[39m\"\u001b[39;49m))\n\u001b[1;32m     46\u001b[0m )\n\u001b[1;32m     47\u001b[0m dataloader \u001b[39m=\u001b[39m galaxy_dataset\u001b[39m.\u001b[39mtrain_dataloader()\n",
      "File \u001b[0;32m~/.cache/pypoetry/virtualenvs/bliss-z6VjvYh8-py3.8/lib/python3.8/site-packages/torch/serialization.py:699\u001b[0m, in \u001b[0;36mload\u001b[0;34m(f, map_location, pickle_module, **pickle_load_args)\u001b[0m\n\u001b[1;32m    697\u001b[0m     pickle_load_args[\u001b[39m'\u001b[39m\u001b[39mencoding\u001b[39m\u001b[39m'\u001b[39m] \u001b[39m=\u001b[39m \u001b[39m'\u001b[39m\u001b[39mutf-8\u001b[39m\u001b[39m'\u001b[39m\n\u001b[0;32m--> 699\u001b[0m \u001b[39mwith\u001b[39;00m _open_file_like(f, \u001b[39m'\u001b[39;49m\u001b[39mrb\u001b[39;49m\u001b[39m'\u001b[39;49m) \u001b[39mas\u001b[39;00m opened_file:\n\u001b[1;32m    700\u001b[0m     \u001b[39mif\u001b[39;00m _is_zipfile(opened_file):\n\u001b[1;32m    701\u001b[0m         \u001b[39m# The zipfile reader is going to advance the current file position.\u001b[39;00m\n\u001b[1;32m    702\u001b[0m         \u001b[39m# If we want to actually tail call to torch.jit.load, we need to\u001b[39;00m\n\u001b[1;32m    703\u001b[0m         \u001b[39m# reset back to the original position.\u001b[39;00m\n",
      "File \u001b[0;32m~/.cache/pypoetry/virtualenvs/bliss-z6VjvYh8-py3.8/lib/python3.8/site-packages/torch/serialization.py:231\u001b[0m, in \u001b[0;36m_open_file_like\u001b[0;34m(name_or_buffer, mode)\u001b[0m\n\u001b[1;32m    230\u001b[0m \u001b[39mif\u001b[39;00m _is_path(name_or_buffer):\n\u001b[0;32m--> 231\u001b[0m     \u001b[39mreturn\u001b[39;00m _open_file(name_or_buffer, mode)\n\u001b[1;32m    232\u001b[0m \u001b[39melse\u001b[39;00m:\n",
      "File \u001b[0;32m~/.cache/pypoetry/virtualenvs/bliss-z6VjvYh8-py3.8/lib/python3.8/site-packages/torch/serialization.py:212\u001b[0m, in \u001b[0;36m_open_file.__init__\u001b[0;34m(self, name, mode)\u001b[0m\n\u001b[1;32m    211\u001b[0m \u001b[39mdef\u001b[39;00m \u001b[39m__init__\u001b[39m(\u001b[39mself\u001b[39m, name, mode):\n\u001b[0;32m--> 212\u001b[0m     \u001b[39msuper\u001b[39m(_open_file, \u001b[39mself\u001b[39m)\u001b[39m.\u001b[39m\u001b[39m__init__\u001b[39m(\u001b[39mopen\u001b[39;49m(name, mode))\n",
      "\u001b[0;31mFileNotFoundError\u001b[0m: [Errno 2] No such file or directory: '/home/wmallory/bliss/case_studies/coadds/models/sdss_autoencoder.pt'",
      "\nThe above exception was the direct cause of the following exception:\n",
      "\u001b[0;31mInstantiationException\u001b[0m                    Traceback (most recent call last)",
      "\u001b[1;32m/home/wmallory/bliss/case_studies/coadds/test_notebook.ipynb Cell 5\u001b[0m in \u001b[0;36m<cell line: 11>\u001b[0;34m()\u001b[0m\n\u001b[1;32m      <a href='vscode-notebook-cell://ssh-remote%2Bdeeplearning-01.stat.lsa.umich.edu/home/wmallory/bliss/case_studies/coadds/test_notebook.ipynb#ch0000040vscode-remote?line=8'>9</a>\u001b[0m max_shift \u001b[39m=\u001b[39m \u001b[39m0.5\u001b[39m\n\u001b[1;32m     <a href='vscode-notebook-cell://ssh-remote%2Bdeeplearning-01.stat.lsa.umich.edu/home/wmallory/bliss/case_studies/coadds/test_notebook.ipynb#ch0000040vscode-remote?line=9'>10</a>\u001b[0m num_dithers \u001b[39m=\u001b[39m \u001b[39m4\u001b[39m\n\u001b[0;32m---> <a href='vscode-notebook-cell://ssh-remote%2Bdeeplearning-01.stat.lsa.umich.edu/home/wmallory/bliss/case_studies/coadds/test_notebook.ipynb#ch0000040vscode-remote?line=10'>11</a>\u001b[0m mprior \u001b[39m=\u001b[39m instantiate(cfg\u001b[39m.\u001b[39;49mmodels\u001b[39m.\u001b[39;49mprior)\n\u001b[1;32m     <a href='vscode-notebook-cell://ssh-remote%2Bdeeplearning-01.stat.lsa.umich.edu/home/wmallory/bliss/case_studies/coadds/test_notebook.ipynb#ch0000040vscode-remote?line=11'>12</a>\u001b[0m tile_catalog \u001b[39m=\u001b[39m prior\u001b[39m.\u001b[39msample()\n\u001b[1;32m     <a href='vscode-notebook-cell://ssh-remote%2Bdeeplearning-01.stat.lsa.umich.edu/home/wmallory/bliss/case_studies/coadds/test_notebook.ipynb#ch0000040vscode-remote?line=12'>13</a>\u001b[0m full_catalog \u001b[39m=\u001b[39m TileCatalog\u001b[39m.\u001b[39mto_full_params(tile_catalog)\n",
      "File \u001b[0;32m~/.cache/pypoetry/virtualenvs/bliss-z6VjvYh8-py3.8/lib/python3.8/site-packages/hydra/_internal/instantiate/_instantiate2.py:218\u001b[0m, in \u001b[0;36minstantiate\u001b[0;34m(config, *args, **kwargs)\u001b[0m\n\u001b[1;32m    215\u001b[0m     _convert_ \u001b[39m=\u001b[39m config\u001b[39m.\u001b[39mpop(_Keys\u001b[39m.\u001b[39mCONVERT, ConvertMode\u001b[39m.\u001b[39mNONE)\n\u001b[1;32m    216\u001b[0m     _partial_ \u001b[39m=\u001b[39m config\u001b[39m.\u001b[39mpop(_Keys\u001b[39m.\u001b[39mPARTIAL, \u001b[39mFalse\u001b[39;00m)\n\u001b[0;32m--> 218\u001b[0m     \u001b[39mreturn\u001b[39;00m instantiate_node(\n\u001b[1;32m    219\u001b[0m         config, \u001b[39m*\u001b[39;49margs, recursive\u001b[39m=\u001b[39;49m_recursive_, convert\u001b[39m=\u001b[39;49m_convert_, partial\u001b[39m=\u001b[39;49m_partial_\n\u001b[1;32m    220\u001b[0m     )\n\u001b[1;32m    221\u001b[0m \u001b[39melif\u001b[39;00m OmegaConf\u001b[39m.\u001b[39mis_list(config):\n\u001b[1;32m    222\u001b[0m     \u001b[39m# Finalize config (convert targets to strings, merge with kwargs)\u001b[39;00m\n\u001b[1;32m    223\u001b[0m     config_copy \u001b[39m=\u001b[39m copy\u001b[39m.\u001b[39mdeepcopy(config)\n",
      "File \u001b[0;32m~/.cache/pypoetry/virtualenvs/bliss-z6VjvYh8-py3.8/lib/python3.8/site-packages/hydra/_internal/instantiate/_instantiate2.py:326\u001b[0m, in \u001b[0;36minstantiate_node\u001b[0;34m(node, convert, recursive, partial, *args)\u001b[0m\n\u001b[1;32m    324\u001b[0m     \u001b[39mif\u001b[39;00m key \u001b[39mnot\u001b[39;00m \u001b[39min\u001b[39;00m exclude_keys:\n\u001b[1;32m    325\u001b[0m         \u001b[39mif\u001b[39;00m recursive:\n\u001b[0;32m--> 326\u001b[0m             value \u001b[39m=\u001b[39m instantiate_node(\n\u001b[1;32m    327\u001b[0m                 value, convert\u001b[39m=\u001b[39;49mconvert, recursive\u001b[39m=\u001b[39;49mrecursive\n\u001b[1;32m    328\u001b[0m             )\n\u001b[1;32m    329\u001b[0m         kwargs[key] \u001b[39m=\u001b[39m _convert_node(value, convert)\n\u001b[1;32m    331\u001b[0m \u001b[39mreturn\u001b[39;00m _call_target(_target_, partial, args, kwargs, full_key)\n",
      "File \u001b[0;32m~/.cache/pypoetry/virtualenvs/bliss-z6VjvYh8-py3.8/lib/python3.8/site-packages/hydra/_internal/instantiate/_instantiate2.py:331\u001b[0m, in \u001b[0;36minstantiate_node\u001b[0;34m(node, convert, recursive, partial, *args)\u001b[0m\n\u001b[1;32m    326\u001b[0m                 value \u001b[39m=\u001b[39m instantiate_node(\n\u001b[1;32m    327\u001b[0m                     value, convert\u001b[39m=\u001b[39mconvert, recursive\u001b[39m=\u001b[39mrecursive\n\u001b[1;32m    328\u001b[0m                 )\n\u001b[1;32m    329\u001b[0m             kwargs[key] \u001b[39m=\u001b[39m _convert_node(value, convert)\n\u001b[0;32m--> 331\u001b[0m     \u001b[39mreturn\u001b[39;00m _call_target(_target_, partial, args, kwargs, full_key)\n\u001b[1;32m    332\u001b[0m \u001b[39melse\u001b[39;00m:\n\u001b[1;32m    333\u001b[0m     \u001b[39m# If ALL or PARTIAL non structured, instantiate in dict and resolve interpolations eagerly.\u001b[39;00m\n\u001b[1;32m    334\u001b[0m     \u001b[39mif\u001b[39;00m convert \u001b[39m==\u001b[39m ConvertMode\u001b[39m.\u001b[39mALL \u001b[39mor\u001b[39;00m (\n\u001b[1;32m    335\u001b[0m         convert \u001b[39m==\u001b[39m ConvertMode\u001b[39m.\u001b[39mPARTIAL \u001b[39mand\u001b[39;00m node\u001b[39m.\u001b[39m_metadata\u001b[39m.\u001b[39mobject_type \u001b[39mis\u001b[39;00m \u001b[39mNone\u001b[39;00m\n\u001b[1;32m    336\u001b[0m     ):\n",
      "File \u001b[0;32m~/.cache/pypoetry/virtualenvs/bliss-z6VjvYh8-py3.8/lib/python3.8/site-packages/hydra/_internal/instantiate/_instantiate2.py:91\u001b[0m, in \u001b[0;36m_call_target\u001b[0;34m(_target_, _partial_, args, kwargs, full_key)\u001b[0m\n\u001b[1;32m     89\u001b[0m \u001b[39mif\u001b[39;00m full_key:\n\u001b[1;32m     90\u001b[0m     msg \u001b[39m+\u001b[39m\u001b[39m=\u001b[39m \u001b[39mf\u001b[39m\u001b[39m\"\u001b[39m\u001b[39m\\n\u001b[39;00m\u001b[39mfull_key: \u001b[39m\u001b[39m{\u001b[39;00mfull_key\u001b[39m}\u001b[39;00m\u001b[39m\"\u001b[39m\n\u001b[0;32m---> 91\u001b[0m \u001b[39mraise\u001b[39;00m InstantiationException(msg) \u001b[39mfrom\u001b[39;00m \u001b[39me\u001b[39;00m\n",
      "\u001b[0;31mInstantiationException\u001b[0m: Error in call to target 'bliss.models.prior.GalaxyPrior':\nFileNotFoundError(2, 'No such file or directory')\nfull_key: models.prior.galaxy_prior"
     ]
    }
   ],
   "source": [
    "prior = instantiate(cfg.datasets.sdss_galaxies.prior)\n",
    "decoder = instantiate(cfg.datasets.sdss_galaxies.decoder)\n",
    "background = instantiate(cfg.datasets.galsim_blended_galaxies_coadd.background)\n",
    "tile_slen = 4\n",
    "max_tile_n_sources = 1\n",
    "num_workers = 5\n",
    "n_batches = 1\n",
    "max_n_sources = 1\n",
    "max_shift = 0.5\n",
    "num_dithers = 4\n",
    "mprior = instantiate(cfg.models.prior)\n",
    "tile_catalog = prior.sample()\n",
    "full_catalog = TileCatalog.to_full_params(tile_catalog)"
   ]
  },
  {
   "cell_type": "code",
   "execution_count": null,
   "metadata": {},
   "outputs": [],
   "source": [
    "#############################"
   ]
  },
  {
   "cell_type": "code",
   "execution_count": 55,
   "metadata": {},
   "outputs": [],
   "source": [
    "with initialize(config_path=\"../sdss_galaxies/config\"):\n",
    "    cfg = compose(\"config\", overrides=[])"
   ]
  },
  {
   "cell_type": "code",
   "execution_count": 56,
   "metadata": {},
   "outputs": [],
   "source": [
    "prior = instantiate(cfg.datasets.sdss_galaxies.prior)\n",
    "decoder = instantiate(cfg.datasets.sdss_galaxies.decoder)\n",
    "background = instantiate(cfg.datasets.galsim_blended_galaxies.background)\n",
    "tile_slen = 4\n",
    "max_tile_n_sources = 1\n",
    "num_workers = 5\n",
    "n_batches = 1\n",
    "max_n_sources = 1\n",
    "max_shift = 0.5\n",
    "num_dithers = 4\n",
    "mprior = instantiate(cfg.models.prior)\n",
    "tile_catalog = mprior.sample_prior(tile_slen=4, batch_size=3, n_tiles_h=2, n_tiles_w=2)\n",
    "full_catalog = TileCatalog.to_full_params(tile_catalog)"
   ]
  },
  {
   "cell_type": "code",
   "execution_count": 57,
   "metadata": {},
   "outputs": [],
   "source": [
    "# Test CUGGP\n",
    "cuggp = CoaddUniformGalsimGalaxiesPrior(prior, max_n_sources, max_shift, num_dithers)"
   ]
  },
  {
   "cell_type": "code",
   "execution_count": 58,
   "metadata": {},
   "outputs": [],
   "source": [
    "pixel_scale = 0.393\n",
    "cuggprior = cuggp.sample()  # does not work if we use galsim_blended_galaxies for prior config\n",
    "n_sources = cuggprior[\"n_sources\"]\n",
    "galaxy_params = cuggprior[\"galaxy_params\"]\n",
    "locs = cuggprior[\"locs\"]\n",
    "galaxy_bools = cuggprior[\"galaxy_bools\"]\n",
    "star_bools = cuggprior[\"star_bools\"]\n",
    "dithers = cuggprior[\"dithers\"]\n",
    "offset = None\n",
    "psf = decoder.psf"
   ]
  },
  {
   "cell_type": "code",
   "execution_count": 59,
   "metadata": {},
   "outputs": [
    {
     "data": {
      "text/plain": [
       "tensor([[[[0.0001, 0.0002, 0.0002,  ..., 0.0026, 0.0026, 0.0026],\n",
       "          [0.0002, 0.0002, 0.0002,  ..., 0.0032, 0.0032, 0.0033],\n",
       "          [0.0002, 0.0002, 0.0002,  ..., 0.0041, 0.0041, 0.0041],\n",
       "          ...,\n",
       "          [0.0036, 0.0036, 0.0036,  ..., 0.0002, 0.0002, 0.0002],\n",
       "          [0.0029, 0.0029, 0.0029,  ..., 0.0002, 0.0002, 0.0002],\n",
       "          [0.0023, 0.0023, 0.0023,  ..., 0.0002, 0.0001, 0.0001]]],\n",
       "\n",
       "\n",
       "        [[[0.0001, 0.0001, 0.0001,  ..., 0.0022, 0.0022, 0.0022],\n",
       "          [0.0001, 0.0002, 0.0002,  ..., 0.0027, 0.0027, 0.0028],\n",
       "          [0.0002, 0.0002, 0.0002,  ..., 0.0034, 0.0034, 0.0034],\n",
       "          ...,\n",
       "          [0.0043, 0.0043, 0.0043,  ..., 0.0002, 0.0002, 0.0002],\n",
       "          [0.0034, 0.0034, 0.0034,  ..., 0.0002, 0.0002, 0.0002],\n",
       "          [0.0027, 0.0027, 0.0027,  ..., 0.0002, 0.0002, 0.0002]]],\n",
       "\n",
       "\n",
       "        [[[0.0001, 0.0002, 0.0002,  ..., 0.0026, 0.0026, 0.0026],\n",
       "          [0.0002, 0.0002, 0.0002,  ..., 0.0033, 0.0033, 0.0033],\n",
       "          [0.0002, 0.0002, 0.0002,  ..., 0.0041, 0.0041, 0.0041],\n",
       "          ...,\n",
       "          [0.0035, 0.0036, 0.0035,  ..., 0.0002, 0.0002, 0.0002],\n",
       "          [0.0028, 0.0028, 0.0028,  ..., 0.0002, 0.0002, 0.0002],\n",
       "          [0.0023, 0.0023, 0.0023,  ..., 0.0002, 0.0001, 0.0001]]],\n",
       "\n",
       "\n",
       "        [[[0.0001, 0.0001, 0.0002,  ..., 0.0023, 0.0023, 0.0023],\n",
       "          [0.0002, 0.0002, 0.0002,  ..., 0.0029, 0.0029, 0.0029],\n",
       "          [0.0002, 0.0002, 0.0002,  ..., 0.0036, 0.0036, 0.0036],\n",
       "          ...,\n",
       "          [0.0041, 0.0041, 0.0041,  ..., 0.0002, 0.0002, 0.0002],\n",
       "          [0.0032, 0.0032, 0.0032,  ..., 0.0002, 0.0002, 0.0002],\n",
       "          [0.0026, 0.0026, 0.0026,  ..., 0.0002, 0.0002, 0.0001]]]])"
      ]
     },
     "execution_count": 59,
     "metadata": {},
     "output_type": "execute_result"
    }
   ],
   "source": [
    "csgd = CoaddSingleGalaxyDecoder(decoder, n_bands=1, pixel_scale=pixel_scale)\n",
    "csgd.render_galaxy(\n",
    "    galaxy_params=galaxy_params[0],\n",
    "    slen=decoder.slen,\n",
    "    psf=decoder.psf,\n",
    "    offset=offset,\n",
    "    dithers=dithers,\n",
    ")"
   ]
  },
  {
   "cell_type": "code",
   "execution_count": 60,
   "metadata": {},
   "outputs": [],
   "source": [
    "prior = instantiate(cfg.datasets.galsim_blended_galaxies.prior)\n",
    "decoder = instantiate(cfg.datasets.galsim_blended_galaxies.decoder)\n",
    "background = instantiate(cfg.datasets.galsim_blended_galaxies.background)\n",
    "tile_slen = 4\n",
    "max_tile_n_sources = 1\n",
    "num_workers = 5\n",
    "batch_size = 1000\n",
    "n_batches = 1\n",
    "full_catalog = CoaddGalsimBlends(\n",
    "    prior=prior,\n",
    "    decoder=decoder,\n",
    "    background=background,\n",
    "    tile_slen=tile_slen,\n",
    "    max_sources_per_tile=max_tile_n_sources,\n",
    "    num_workers=num_workers,\n",
    "    batch_size=batch_size,\n",
    "    n_batches=n_batches,\n",
    ")._sample_full_catalog()"
   ]
  },
  {
   "cell_type": "code",
   "execution_count": 63,
   "metadata": {},
   "outputs": [
    {
     "ename": "AttributeError",
     "evalue": "'FullCatalogDecoder' object has no attribute 'render_galaxy'",
     "output_type": "error",
     "traceback": [
      "\u001b[0;31m---------------------------------------------------------------------------\u001b[0m",
      "\u001b[0;31mAttributeError\u001b[0m                            Traceback (most recent call last)",
      "\u001b[1;32m/home/wmallory/bliss/case_studies/coadds/test_notebook.ipynb Cell 13\u001b[0m in \u001b[0;36m<cell line: 4>\u001b[0;34m()\u001b[0m\n\u001b[1;32m      <a href='vscode-notebook-cell://ssh-remote%2Bdeeplearning-01.stat.lsa.umich.edu/home/wmallory/bliss/case_studies/coadds/test_notebook.ipynb#ch0000010vscode-remote?line=1'>2</a>\u001b[0m bp \u001b[39m=\u001b[39m \u001b[39m24\u001b[39m\n\u001b[1;32m      <a href='vscode-notebook-cell://ssh-remote%2Bdeeplearning-01.stat.lsa.umich.edu/home/wmallory/bliss/case_studies/coadds/test_notebook.ipynb#ch0000010vscode-remote?line=2'>3</a>\u001b[0m fcdecoder \u001b[39m=\u001b[39m FullCatalogDecoder(decoder, slen, bp)\n\u001b[0;32m----> <a href='vscode-notebook-cell://ssh-remote%2Bdeeplearning-01.stat.lsa.umich.edu/home/wmallory/bliss/case_studies/coadds/test_notebook.ipynb#ch0000010vscode-remote?line=3'>4</a>\u001b[0m fcdecoder\u001b[39m.\u001b[39;49mrender_catalog(full_catalog, psf, dithers)\n",
      "\u001b[1;32m/home/wmallory/bliss/case_studies/coadds/test_notebook.ipynb Cell 13\u001b[0m in \u001b[0;36mFullCatalogDecoder.render_catalog\u001b[0;34m(self, full_cat, psf, dithers)\u001b[0m\n\u001b[1;32m    <a href='vscode-notebook-cell://ssh-remote%2Bdeeplearning-01.stat.lsa.umich.edu/home/wmallory/bliss/case_studies/coadds/test_notebook.ipynb#ch0000010vscode-remote?line=151'>152</a>\u001b[0m offset_y \u001b[39m=\u001b[39m plocs[ii][\u001b[39m0\u001b[39m] \u001b[39m+\u001b[39m bp \u001b[39m-\u001b[39m size \u001b[39m/\u001b[39m \u001b[39m2\u001b[39m\n\u001b[1;32m    <a href='vscode-notebook-cell://ssh-remote%2Bdeeplearning-01.stat.lsa.umich.edu/home/wmallory/bliss/case_studies/coadds/test_notebook.ipynb#ch0000010vscode-remote?line=152'>153</a>\u001b[0m offset \u001b[39m=\u001b[39m torch\u001b[39m.\u001b[39mtensor([offset_x, offset_y])\n\u001b[0;32m--> <a href='vscode-notebook-cell://ssh-remote%2Bdeeplearning-01.stat.lsa.umich.edu/home/wmallory/bliss/case_studies/coadds/test_notebook.ipynb#ch0000010vscode-remote?line=153'>154</a>\u001b[0m centered \u001b[39m=\u001b[39m \u001b[39mself\u001b[39;49m\u001b[39m.\u001b[39;49msingle_decoder\u001b[39m.\u001b[39;49mrender_galaxy(galaxy_params[ii], psf, size, dithers \u001b[39m=\u001b[39m dithers)\n\u001b[1;32m    <a href='vscode-notebook-cell://ssh-remote%2Bdeeplearning-01.stat.lsa.umich.edu/home/wmallory/bliss/case_studies/coadds/test_notebook.ipynb#ch0000010vscode-remote?line=154'>155</a>\u001b[0m uncentered \u001b[39m=\u001b[39m \u001b[39mself\u001b[39m\u001b[39m.\u001b[39msingle_decoder\u001b[39m.\u001b[39mrender_galaxy(galaxy_params[ii], psf, size, offset)\n\u001b[1;32m    <a href='vscode-notebook-cell://ssh-remote%2Bdeeplearning-01.stat.lsa.umich.edu/home/wmallory/bliss/case_studies/coadds/test_notebook.ipynb#ch0000010vscode-remote?line=155'>156</a>\u001b[0m uncentered_dithered \u001b[39m=\u001b[39m \u001b[39mself\u001b[39m\u001b[39m.\u001b[39msingle_decoder\u001b[39m.\u001b[39mrender_galaxy(galaxy_params[ii], psf, size, offset, dithers)\n",
      "\u001b[0;31mAttributeError\u001b[0m: 'FullCatalogDecoder' object has no attribute 'render_galaxy'"
     ]
    }
   ],
   "source": [
    "slen = 40\n",
    "bp = 24\n",
    "fcdecoder = FullCatalogDecoder(decoder, slen, bp)\n",
    "fcdecoder.render_catalog(\n",
    "    full_catalog, psf, dithers\n",
    ")  # Do I need to change the target in config to bliss.case_study.coadd.coadd_decoder?"
   ]
  },
  {
   "cell_type": "code",
   "execution_count": 48,
   "metadata": {},
   "outputs": [
    {
     "data": {
      "text/plain": [
       "[array([ 0.2863866, -0.2431587], dtype=float32),\n",
       " array([0.45234668, 0.29335123], dtype=float32),\n",
       " array([0.26052737, 0.14739156], dtype=float32),\n",
       " array([-0.45585835,  0.38580644], dtype=float32)]"
      ]
     },
     "execution_count": 48,
     "metadata": {},
     "output_type": "execute_result"
    }
   ],
   "source": [
    "dithers"
   ]
  },
  {
   "cell_type": "code",
   "execution_count": 61,
   "metadata": {},
   "outputs": [
    {
     "data": {
      "text/plain": [
       "tensor([[[[ 1.1793,  1.6958,  2.4634,  3.4592,  4.4005,  4.8759,  4.7420,\n",
       "            4.2210,  3.5967],\n",
       "          [ 1.8785,  2.9511,  4.7746,  7.2810,  9.5057, 10.1503,  8.9974,\n",
       "            7.0495,  5.2763],\n",
       "          [ 2.9133,  4.9548,  8.6741, 13.8458, 18.1251, 18.6036, 15.1922,\n",
       "           10.5678,  6.9345],\n",
       "          [ 4.1362,  7.2620, 13.0021, 20.8280, 26.8450, 26.6023, 20.4743,\n",
       "           13.0587,  7.7308],\n",
       "          [ 5.0832,  8.6812, 15.0338, 23.3245, 29.1798, 28.0214, 20.7537,\n",
       "           12.5972,  7.0464],\n",
       "          [ 5.2786,  8.3288, 13.2848, 19.3080, 23.0901, 21.5138, 15.6202,\n",
       "            9.3795,  5.2418],\n",
       "          [ 4.6715,  6.5889,  9.3128, 12.2618, 13.7591, 12.4379,  9.0418,\n",
       "            5.6158,  3.3293],\n",
       "          [ 3.6297,  4.5435,  5.6024,  6.5312,  6.7681,  5.9558,  4.4552,\n",
       "            2.9956,  1.9670],\n",
       "          [ 2.5708,  2.9065,  3.1882,  3.3267,  3.2029,  2.7798,  2.1867,\n",
       "            1.6163,  1.1699]]],\n",
       "\n",
       "\n",
       "        [[[ 0.8828,  1.2061,  1.6308,  2.1284,  2.5862,  2.8624,  2.9043,\n",
       "            2.7672,  2.5326],\n",
       "          [ 1.4178,  2.0900,  3.1104,  4.3923,  5.4793,  5.8455,  5.4364,\n",
       "            4.6425,  3.8254],\n",
       "          [ 2.2870,  3.7117,  6.1233,  9.2400, 11.6295, 11.8042,  9.9195,\n",
       "            7.4191,  5.3655],\n",
       "          [ 3.5361,  6.1693, 10.8254, 16.7968, 20.9444, 20.3072, 15.6873,\n",
       "           10.4320,  6.6520],\n",
       "          [ 4.8852,  8.6653, 15.2940, 23.5351, 28.7144, 26.8196, 19.5444,\n",
       "           11.9737,  6.9562],\n",
       "          [ 5.7280,  9.7308, 16.4143, 24.3036, 28.7065, 25.9919, 18.2908,\n",
       "           10.7488,  5.9792],\n",
       "          [ 5.6234,  8.7134, 13.4267, 18.5594, 20.9530, 18.4639, 12.8318,\n",
       "            7.5576,  4.2709],\n",
       "          [ 4.7104,  6.4680,  8.7895, 10.9992, 11.6851, 10.0639,  7.0975,\n",
       "            4.4041,  2.6806],\n",
       "          [ 3.4946,  4.2478,  5.0412,  5.6133,  5.5554,  4.7214,  3.4884,\n",
       "            2.3789,  1.6070]]],\n",
       "\n",
       "\n",
       "        [[[ 1.1914,  1.7195,  2.5133,  3.5586,  4.5631,  5.0810,  4.9429,\n",
       "            4.3831,  3.7142],\n",
       "          [ 1.8912,  2.9793,  4.8492,  7.4616,  9.8348, 10.5772,  9.3981,\n",
       "            7.3383,  5.4532],\n",
       "          [ 2.9147,  4.9574,  8.7136, 14.0253, 18.5483, 19.2144, 15.7770,\n",
       "           10.9675,  7.1509],\n",
       "          [ 4.1040,  7.1822, 12.8772, 20.7722, 27.0457, 27.0818, 21.0096,\n",
       "           13.4353,  7.9227],\n",
       "          [ 5.0025,  8.4917, 14.6825, 22.8907, 28.9029, 28.0540, 20.9747,\n",
       "           12.7983,  7.1524],\n",
       "          [ 5.1617,  8.0812, 12.8312, 18.6846, 22.5103, 21.1864, 15.5377,\n",
       "            9.3965,  5.2620],\n",
       "          [ 4.5506,  6.3681,  8.9420, 11.7576, 13.2542, 12.0851,  8.8729,\n",
       "            5.5570,  3.3096],\n",
       "          [ 3.5303,  4.3917,  5.3818,  6.2537,  6.4925,  5.7505,  4.3403,\n",
       "            2.9432,  1.9438],\n",
       "          [ 2.5003,  2.8160,  3.0772,  3.2034,  3.0869,  2.6913,  2.1315,\n",
       "            1.5860,  1.1535]]],\n",
       "\n",
       "\n",
       "        [[[ 1.0857,  1.5032,  2.0534,  2.6642,  3.1520,  3.3527,  3.2648,\n",
       "            3.0026,  2.6698],\n",
       "          [ 1.7895,  2.7170,  4.1009,  5.6736,  6.7281,  6.7370,  5.9074,\n",
       "            4.8253,  3.8556],\n",
       "          [ 2.9571,  4.9653,  8.1863, 11.8098, 13.8182, 12.9410, 10.1357,\n",
       "            7.2255,  5.0912],\n",
       "          [ 4.5768,  8.1687, 14.0287, 20.4185, 23.3598, 20.7099, 14.8235,\n",
       "            9.3960,  5.8901],\n",
       "          [ 6.1319, 10.9513, 18.6394, 26.6467, 29.6617, 25.2490, 17.0262,\n",
       "            9.9747,  5.7625],\n",
       "          [ 6.8025, 11.4752, 18.5280, 25.4170, 27.3820, 22.6278, 14.7941,\n",
       "            8.3870,  4.7064],\n",
       "          [ 6.2415,  9.4956, 13.9678, 17.9301, 18.5455, 15.0210,  9.8119,\n",
       "            5.6683,  3.2836],\n",
       "          [ 4.8883,  6.5340,  8.4778,  9.9204,  9.7589,  7.8436,  5.3094,\n",
       "            3.3012,  2.0784],\n",
       "          [ 3.4275,  4.0415,  4.5995,  4.8509,  4.5309,  3.6800,  2.6730,\n",
       "            1.8475,  1.2807]]]])"
      ]
     },
     "execution_count": 61,
     "metadata": {},
     "output_type": "execute_result"
    }
   ],
   "source": [
    "total_flux, disk_frac, beta_radians, disk_q, a_d, bulge_q, a_b = galaxy_params[0]\n",
    "bulge_frac = 1 - disk_frac\n",
    "\n",
    "disk_flux = total_flux * disk_frac\n",
    "bulge_flux = total_flux * bulge_frac\n",
    "\n",
    "components = []\n",
    "if disk_flux > 0:\n",
    "    b_d = a_d * disk_q\n",
    "    disk_hlr_arcsecs = np.sqrt(a_d * b_d)\n",
    "    disk = galsim.Exponential(flux=disk_flux, half_light_radius=disk_hlr_arcsecs).shear(\n",
    "        q=disk_q,\n",
    "        beta=beta_radians * galsim.radians,\n",
    "    )\n",
    "    components.append(disk)\n",
    "if bulge_flux > 0:\n",
    "    b_b = bulge_q * a_b\n",
    "    bulge_hlr_arcsecs = np.sqrt(a_b * b_b)\n",
    "    bulge = galsim.DeVaucouleurs(flux=bulge_flux, half_light_radius=bulge_hlr_arcsecs).shear(\n",
    "        q=bulge_q, beta=beta_radians * galsim.radians\n",
    "    )\n",
    "    components.append(bulge)\n",
    "galaxy = galsim.Add(components)\n",
    "gal_conv = galsim.Convolution(galaxy, psf)\n",
    "offset = (0, 0) if offset is None else offset\n",
    "dithers = (0, 0) if dithers is None else dithers\n",
    "shift = torch.add(torch.Tensor(dithers), torch.Tensor(offset))\n",
    "shift = shift.reshape(1, 2) if len(shift) == 2 else shift\n",
    "images = []\n",
    "for i in shift:\n",
    "    image = gal_conv.drawImage(nx=slen, ny=slen, method=\"auto\", scale=pixel_scale, offset=i)\n",
    "    image = image.array\n",
    "    images.append(image)\n",
    "torch.tensor(images[:]).reshape(len(shift), 1, slen, slen)"
   ]
  },
  {
   "cell_type": "code",
   "execution_count": 64,
   "metadata": {},
   "outputs": [],
   "source": [
    "size = decoder.slen + 2 * bp\n",
    "full_plocs = full_catalog.plocs\n",
    "b, max_n_sources, _ = full_plocs.shape\n",
    "\n",
    "image = torch.zeros(len(dithers), 1, size, size)\n",
    "noiseless_centered = torch.zeros(max_n_sources, len(dithers), size, size)\n",
    "noiseless_uncentered = torch.zeros(max_n_sources, len(dithers), size, size)\n",
    "\n",
    "n_sources = int(full_catalog.n_sources[0].item())\n",
    "galaxy_params = full_catalog[\"galaxy_params\"][0]\n",
    "plocs = full_plocs[0]\n",
    "\n",
    "for ii in range(n_sources):\n",
    "    offset_x = plocs[ii][1] + bp - size / 2\n",
    "    offset_y = plocs[ii][0] + bp - size / 2\n",
    "    offset = torch.tensor([offset_x, offset_y])\n",
    "    centered = csgd.render_galaxy(galaxy_params[ii], psf, size, dithers=dithers)\n",
    "    uncentered = csgd.render_galaxy(galaxy_params[ii], psf, size, offset, dithers)\n",
    "    noiseless_centered[ii] = centered.reshape(centered.shape[0], size, size)\n",
    "    noiseless_uncentered[ii] = uncentered.reshape(uncentered.shape[0], size, size)\n",
    "    image += uncentered"
   ]
  },
  {
   "cell_type": "code",
   "execution_count": 65,
   "metadata": {},
   "outputs": [
    {
     "data": {
      "text/plain": [
       "<matplotlib.image.AxesImage at 0x7f152ea592e0>"
      ]
     },
     "execution_count": 65,
     "metadata": {},
     "output_type": "execute_result"
    },
    {
     "data": {
      "image/png": "[encoded data removed]",
      "text/plain": [
       "<Figure size 432x288 with 1 Axes>"
      ]
     },
     "metadata": {
      "needs_background": "light"
     },
     "output_type": "display_data"
    }
   ],
   "source": [
    "plt.imshow(image[2].reshape(image[2].shape[1], image[2].shape[2]).numpy())"
   ]
  },
  {
   "cell_type": "code",
   "execution_count": 66,
   "metadata": {},
   "outputs": [
    {
     "data": {
      "text/plain": [
       "torch.Size([4, 88, 88])"
      ]
     },
     "execution_count": 66,
     "metadata": {},
     "output_type": "execute_result"
    }
   ],
   "source": [
    "centered.reshape(centered.shape[0], size, size).shape"
   ]
  },
  {
   "cell_type": "code",
   "execution_count": 29,
   "metadata": {},
   "outputs": [
    {
     "data": {
      "text/plain": [
       "torch.Size([6, 4, 88, 88])"
      ]
     },
     "execution_count": 29,
     "metadata": {},
     "output_type": "execute_result"
    }
   ],
   "source": [
    "noiseless_uncentered.shape"
   ]
  },
  {
   "cell_type": "code",
   "execution_count": 32,
   "metadata": {},
   "outputs": [
    {
     "data": {
      "text/plain": [
       "torch.Size([4, 6, 1, 88, 88])"
      ]
     },
     "execution_count": 32,
     "metadata": {},
     "output_type": "execute_result"
    }
   ],
   "source": [
    "noiseless_centered.shape"
   ]
  },
  {
   "cell_type": "code",
   "execution_count": 67,
   "metadata": {},
   "outputs": [],
   "source": [
    "image = torch.zeros(len(dithers), 1, size, size)\n",
    "image0 = torch.zeros(1, 1, size, size)\n",
    "noiseless_centered = torch.zeros(len(dithers), max_n_sources, 1, size, size)\n",
    "noiseless_uncentered = torch.zeros(len(dithers), max_n_sources, 1, size, size)\n",
    "\n",
    "n_sources = int(full_catalog.n_sources[0].item())\n",
    "galaxy_params = full_catalog[\"galaxy_params\"][0]\n",
    "plocs = full_plocs[0]\n",
    "\n",
    "for ii in range(n_sources):\n",
    "    offset_x = plocs[ii][1] + bp - size / 2\n",
    "    offset_y = plocs[ii][0] + bp - size / 2\n",
    "    offset = torch.tensor([offset_x, offset_y])\n",
    "    centered = csgd.render_galaxy(galaxy_params[ii], psf, size, dithers=dithers)\n",
    "    uncentered = csgd.render_galaxy(galaxy_params[ii], psf, size, offset)\n",
    "    uncentered_dithered = csgd.render_galaxy(galaxy_params[ii], psf, size, offset, dithers)\n",
    "    noiseless_centered[:, ii] = centered.reshape(centered.shape[0], 1, size, size)\n",
    "    noiseless_uncentered[:, ii] = uncentered.reshape(uncentered.shape[0], 1, size, size)\n",
    "    image0 += uncentered\n",
    "    image += uncentered_dithered"
   ]
  },
  {
   "cell_type": "code",
   "execution_count": 68,
   "metadata": {},
   "outputs": [
    {
     "data": {
      "text/plain": [
       "<matplotlib.image.AxesImage at 0x7f152c9aed30>"
      ]
     },
     "execution_count": 68,
     "metadata": {},
     "output_type": "execute_result"
    },
    {
     "data": {
      "image/png": "[encoded data removed]",
      "text/plain": [
       "<Figure size 432x288 with 1 Axes>"
      ]
     },
     "metadata": {
      "needs_background": "light"
     },
     "output_type": "display_data"
    }
   ],
   "source": [
    "plt.imshow(image0[:].reshape(image0[:].shape[2], image0[:].shape[3]).numpy())"
   ]
  },
  {
   "cell_type": "code",
   "execution_count": 71,
   "metadata": {},
   "outputs": [
    {
     "data": {
      "text/plain": [
       "<matplotlib.image.AxesImage at 0x7f152c088a00>"
      ]
     },
     "execution_count": 71,
     "metadata": {},
     "output_type": "execute_result"
    },
    {
     "data": {
      "image/png": "[encoded data removed]",
      "text/plain": [
       "<Figure size 432x288 with 1 Axes>"
      ]
     },
     "metadata": {
      "needs_background": "light"
     },
     "output_type": "display_data"
    }
   ],
   "source": [
    "plt.imshow(image[2].reshape(image[2].shape[1], image[2].shape[2]).numpy())"
   ]
  },
  {
   "cell_type": "code",
   "execution_count": 69,
   "metadata": {},
   "outputs": [],
   "source": [
    "# check noise and dither independence\n",
    "background = instantiate(cfg.datasets.sdss_galaxies.background)\n",
    "background = (\n",
    "    background.sample((1, *image.reshape(len(dithers), size, size).shape))\n",
    "    .squeeze(0)\n",
    "    .reshape(len(dithers), 1, size, size)\n",
    ")\n",
    "_add_noise_and_background(image, background)\n",
    "\n",
    "image_with_background = image + background\n",
    "noise = image_with_background.sqrt() * torch.randn_like(\n",
    "    image_with_background\n",
    ")  # randomized by value of Tensor\n",
    "noisy_image = image_with_background + noise"
   ]
  },
  {
   "cell_type": "code",
   "execution_count": 70,
   "metadata": {},
   "outputs": [
    {
     "data": {
      "text/plain": [
       "<matplotlib.image.AxesImage at 0x7f152c922af0>"
      ]
     },
     "execution_count": 70,
     "metadata": {},
     "output_type": "execute_result"
    },
    {
     "data": {
      "image/png": "[encoded data removed]",
      "text/plain": [
       "<Figure size 432x288 with 1 Axes>"
      ]
     },
     "metadata": {
      "needs_background": "light"
     },
     "output_type": "display_data"
    }
   ],
   "source": [
    "plt.imshow(noisy_image[2].reshape(noisy_image[2].shape[1], noisy_image[2].shape[2]).numpy())"
   ]
  },
  {
   "cell_type": "code",
   "execution_count": 72,
   "metadata": {},
   "outputs": [],
   "source": [
    "i0 = galsim.Image(np.array(image0[:].reshape(88, 88)), wcs=galsim.PixelScale(pixel_scale))\n",
    "i1 = galsim.Image(np.array(image[:][0].reshape(88, 88)))"
   ]
  },
  {
   "cell_type": "code",
   "execution_count": 81,
   "metadata": {},
   "outputs": [],
   "source": [
    "from bliss.models.decoder import get_mgrid\n",
    "\n",
    "\n",
    "def align_single_exposures(img0, img1, slen, dithers):\n",
    "    img0 = galsim.Image(np.array(img0), wcs=galsim.PixelScale(scale))\n",
    "    wcs0 = img0.wcs\n",
    "    images = img1\n",
    "\n",
    "    sgrid = (get_mgrid(slen) - (-1)) / 2 * (slen)\n",
    "    sgrid = sgrid.reshape(slen**2, 2)\n",
    "    grid_x = wcs0.xyTouv(sgrid[:, 0], sgrid[:, 1])[0]\n",
    "    grid_y = wcs0.xyTouv(sgrid[:, 0], sgrid[:, 1])[1]\n",
    "\n",
    "    grid = torch.empty(size=(0, 2))\n",
    "    for i in dithers:\n",
    "        wcs1 = galsim.OffsetWCS(scale=scale, origin=galsim.PositionD(i))\n",
    "        x, y = wcs1.uvToxy(grid_x, grid_y)\n",
    "        x_grid = (x / slen) * 2 + (-1)\n",
    "        y_grid = (y / slen) * 2 + (-1)\n",
    "        grid = torch.cat(\n",
    "            [grid, torch.stack((torch.tensor(x_grid), torch.tensor(y_grid)), -1)], dim=0\n",
    "        )\n",
    "\n",
    "    iplots = []\n",
    "    input = torch.tensor(images[:]).reshape(len(dithers), 1, slen, slen).float()\n",
    "    grids = grid.reshape(len(dithers), 1, slen * slen, 2).float()\n",
    "    iplots.append(F.grid_sample(input, grids, align_corners=False))\n",
    "\n",
    "    # reshape and crop 1 pixel on each side\n",
    "    iplots = torch.tensor(iplots[:][0]).reshape(len(dithers), slen, slen)\n",
    "    iplots_cropped = iplots[:, 1 : slen - 1, 1 : slen - 1]\n",
    "    return iplots_cropped"
   ]
  },
  {
   "cell_type": "code",
   "execution_count": 74,
   "metadata": {},
   "outputs": [
    {
     "data": {
      "text/plain": [
       "tensor([[0.0016, 0.0017, 0.0018,  ..., 0.0004, 0.0004, 0.0004],\n",
       "        [0.0018, 0.0018, 0.0019,  ..., 0.0004, 0.0004, 0.0004],\n",
       "        [0.0019, 0.0020, 0.0021,  ..., 0.0004, 0.0004, 0.0004],\n",
       "        ...,\n",
       "        [0.0004, 0.0005, 0.0005,  ..., 0.0029, 0.0027, 0.0024],\n",
       "        [0.0004, 0.0004, 0.0005,  ..., 0.0028, 0.0026, 0.0024],\n",
       "        [0.0004, 0.0004, 0.0005,  ..., 0.0027, 0.0025, 0.0023]])"
      ]
     },
     "execution_count": 74,
     "metadata": {},
     "output_type": "execute_result"
    }
   ],
   "source": [
    "image0[:].reshape(size, size)"
   ]
  },
  {
   "cell_type": "code",
   "execution_count": 82,
   "metadata": {},
   "outputs": [
    {
     "name": "stderr",
     "output_type": "stream",
     "text": [
      "/tmp/ipykernel_3544359/3165515315.py:19: UserWarning: To copy construct from a tensor, it is recommended to use sourceTensor.clone().detach() or sourceTensor.clone().detach().requires_grad_(True), rather than torch.tensor(sourceTensor).\n",
      "  [grid, torch.stack((torch.tensor(x_grid), torch.tensor(y_grid)), -1)], dim=0\n",
      "/tmp/ipykernel_3544359/3165515315.py:23: UserWarning: To copy construct from a tensor, it is recommended to use sourceTensor.clone().detach() or sourceTensor.clone().detach().requires_grad_(True), rather than torch.tensor(sourceTensor).\n",
      "  input = torch.tensor(images[:]).reshape(len(dithers), 1, slen, slen).float()\n",
      "/tmp/ipykernel_3544359/3165515315.py:28: UserWarning: To copy construct from a tensor, it is recommended to use sourceTensor.clone().detach() or sourceTensor.clone().detach().requires_grad_(True), rather than torch.tensor(sourceTensor).\n",
      "  iplots = torch.tensor(iplots[:][0]).reshape(len(dithers), slen, slen)\n"
     ]
    }
   ],
   "source": [
    "# Add alignment and coadding\n",
    "img0 = image0[:].reshape(size, size)\n",
    "imgs = noisy_image\n",
    "aligned_images = align_single_exposures(img0, imgs, size, dithers)"
   ]
  },
  {
   "cell_type": "code",
   "execution_count": 154,
   "metadata": {},
   "outputs": [
    {
     "data": {
      "text/plain": [
       "tensor([[[[9.7805e+01, 9.6151e+01, 3.9720e+02,  ..., 9.0323e+00,\n",
       "           3.6585e-03, 7.2454e+02],\n",
       "          [3.9433e+02, 2.5478e-03, 1.5205e+02,  ..., 2.7555e+00,\n",
       "           1.2360e+02, 3.3436e+02],\n",
       "          [5.9419e+02, 1.2934e+03, 7.0913e+01,  ..., 3.8722e+02,\n",
       "           8.2502e+02, 5.9722e+01],\n",
       "          ...,\n",
       "          [9.7152e+02, 2.0778e+00, 1.5914e-01,  ..., 1.3392e+02,\n",
       "           3.7324e+00, 7.0764e+02],\n",
       "          [8.7064e+01, 4.1115e+02, 1.0128e+02,  ..., 9.6943e+02,\n",
       "           7.1756e+02, 5.2908e+02],\n",
       "          [8.2079e+01, 5.3716e+02, 1.0371e+03,  ..., 1.3515e+00,\n",
       "           5.4402e+02, 3.5942e+01]]],\n",
       "\n",
       "\n",
       "        [[[3.1136e+02, 2.6949e+03, 8.4436e+02,  ..., 1.2553e+02,\n",
       "           2.2501e+02, 3.5207e+02],\n",
       "          [8.3968e+02, 2.4448e+01, 1.1243e+03,  ..., 7.9012e+02,\n",
       "           7.5952e+02, 3.3538e+03],\n",
       "          [6.4019e+02, 6.7382e+01, 1.0354e+03,  ..., 9.4144e-01,\n",
       "           1.5840e+01, 3.3410e+01],\n",
       "          ...,\n",
       "          [1.2033e+02, 6.9448e+01, 1.5404e+02,  ..., 1.1651e+03,\n",
       "           9.7636e+02, 7.5056e+02],\n",
       "          [3.8066e+03, 8.5523e+00, 3.7874e+02,  ..., 1.6690e+03,\n",
       "           2.3287e+03, 5.0947e+00],\n",
       "          [1.8102e+03, 4.1009e+02, 6.7478e+00,  ..., 6.3339e+00,\n",
       "           3.1832e+02, 4.3992e+02]]],\n",
       "\n",
       "\n",
       "        [[[1.5917e+02, 1.9351e+02, 8.0442e+02,  ..., 5.4474e+02,\n",
       "           8.6688e+02, 1.0056e+03],\n",
       "          [2.0151e+02, 1.0528e+02, 5.1031e+02,  ..., 7.1034e+00,\n",
       "           1.4846e+01, 1.3830e-01],\n",
       "          [9.2078e+02, 6.7953e+02, 1.6106e+02,  ..., 1.2635e+02,\n",
       "           5.1897e+02, 4.2898e+01],\n",
       "          ...,\n",
       "          [1.4975e+03, 1.0269e+03, 2.9819e+02,  ..., 6.3858e+01,\n",
       "           1.4412e+03, 6.1973e+02],\n",
       "          [1.5216e+03, 9.6726e+02, 1.7098e+02,  ..., 8.0049e+02,\n",
       "           1.3828e+03, 6.5921e+02],\n",
       "          [4.7399e+02, 9.6352e+01, 5.2169e+01,  ..., 1.3817e+01,\n",
       "           3.1919e+02, 3.2492e+01]]],\n",
       "\n",
       "\n",
       "        [[[3.1618e+02, 4.4826e+02, 1.7951e+02,  ..., 3.5978e+00,\n",
       "           1.0143e+01, 3.6859e+02],\n",
       "          [3.5934e+02, 1.3599e+01, 6.6753e+01,  ..., 1.3907e+02,\n",
       "           1.1370e+02, 1.2718e+02],\n",
       "          [2.4393e+02, 4.3303e+02, 9.3841e+00,  ..., 9.9670e+02,\n",
       "           9.1821e+02, 9.9303e+01],\n",
       "          ...,\n",
       "          [3.6745e+01, 7.1510e+00, 1.3402e+02,  ..., 6.6891e+01,\n",
       "           3.3766e+02, 8.5939e+01],\n",
       "          [1.7592e+02, 6.4186e+01, 8.9382e+00,  ..., 1.5610e+03,\n",
       "           2.0137e+03, 1.6944e+03],\n",
       "          [1.6329e+02, 1.3351e+01, 6.1934e+01,  ..., 2.1685e+00,\n",
       "           3.1547e+02, 2.1221e+02]]]])"
      ]
     },
     "execution_count": 154,
     "metadata": {},
     "output_type": "execute_result"
    }
   ],
   "source": [
    "(img - bg) ** 2"
   ]
  },
  {
   "cell_type": "code",
   "execution_count": 76,
   "metadata": {},
   "outputs": [
    {
     "data": {
      "text/plain": [
       "tensor([136.0448, 138.6431, 136.8939, 142.1997])"
      ]
     },
     "execution_count": 76,
     "metadata": {},
     "output_type": "execute_result"
    }
   ],
   "source": [
    "# add snr\n",
    "bg = background[:, :, 1 : size - 1, 1 : size - 1]\n",
    "img = aligned_images.reshape(len(dithers), 1, size - 2, size - 2)\n",
    "img - bg\n",
    "torch.sqrt(torch.sum((img - bg) ** 2 / (img - bg + bg), dim=(3, 2, 1)))\n",
    "snr(img, bg)"
   ]
  },
  {
   "cell_type": "code",
   "execution_count": 80,
   "metadata": {},
   "outputs": [
    {
     "name": "stderr",
     "output_type": "stream",
     "text": [
      "/tmp/ipykernel_3544359/3013547580.py:4: UserWarning: To copy construct from a tensor, it is recommended to use sourceTensor.clone().detach() or sourceTensor.clone().detach().requires_grad_(True), rather than torch.tensor(sourceTensor).\n",
      "  id = torch.tensor(aligned_images) - bd # aligned images without background\n",
      "/tmp/ipykernel_3544359/3013547580.py:5: UserWarning: To copy construct from a tensor, it is recommended to use sourceTensor.clone().detach() or sourceTensor.clone().detach().requires_grad_(True), rather than torch.tensor(sourceTensor).\n",
      "  weight = 1 / torch.tensor(aligned_images)\n",
      "/tmp/ipykernel_3544359/3013547580.py:6: UserWarning: To copy construct from a tensor, it is recommended to use sourceTensor.clone().detach() or sourceTensor.clone().detach().requires_grad_(True), rather than torch.tensor(sourceTensor).\n",
      "  num = torch.sum(id / torch.tensor(aligned_images), dim = 0)\n"
     ]
    }
   ],
   "source": [
    "# Coadd using direct coadd: linear combination\n",
    "# Direct coadd, where weights are proportional to inverse variance\n",
    "bd = background.reshape(len(dithers), size, size)[\n",
    "    :, 1 : size - 1, 1 : size - 1\n",
    "]  # background cropped\n",
    "id = torch.tensor(aligned_images) - bd  # aligned images without background\n",
    "weight = 1 / torch.tensor(aligned_images)\n",
    "num = torch.sum(id / torch.tensor(aligned_images), dim=0)\n",
    "coadded = num / (torch.sum(weight, dim=0))\n",
    "\n",
    "\n",
    "def linear_coadd(aligned_images, cropped_background):\n",
    "    assert torch.tensor(aligned_images).shape == torch.tensor(cropped_background).shape\n",
    "\n",
    "    id = torch.tensor(aligned_images) - cropped_background\n",
    "    weight = 1 / torch.tensor(aligned_images)\n",
    "    num = torch.sum(id / torch.tensor(aligned_images), dim=0)\n",
    "    return num / (torch.sum(weight, dim=0))"
   ]
  },
  {
   "cell_type": "code",
   "execution_count": 78,
   "metadata": {},
   "outputs": [
    {
     "name": "stderr",
     "output_type": "stream",
     "text": [
      "/tmp/ipykernel_3544359/3013547580.py:10: UserWarning: To copy construct from a tensor, it is recommended to use sourceTensor.clone().detach() or sourceTensor.clone().detach().requires_grad_(True), rather than torch.tensor(sourceTensor).\n",
      "  assert torch.tensor(aligned_images).shape == torch.tensor(cropped_background).shape\n",
      "/tmp/ipykernel_3544359/3013547580.py:12: UserWarning: To copy construct from a tensor, it is recommended to use sourceTensor.clone().detach() or sourceTensor.clone().detach().requires_grad_(True), rather than torch.tensor(sourceTensor).\n",
      "  id = torch.tensor(aligned_images) - cropped_background\n",
      "/tmp/ipykernel_3544359/3013547580.py:13: UserWarning: To copy construct from a tensor, it is recommended to use sourceTensor.clone().detach() or sourceTensor.clone().detach().requires_grad_(True), rather than torch.tensor(sourceTensor).\n",
      "  weight = 1 / torch.tensor(aligned_images)\n",
      "/tmp/ipykernel_3544359/3013547580.py:14: UserWarning: To copy construct from a tensor, it is recommended to use sourceTensor.clone().detach() or sourceTensor.clone().detach().requires_grad_(True), rather than torch.tensor(sourceTensor).\n",
      "  num = torch.sum(id / torch.tensor(aligned_images), dim = 0)\n"
     ]
    },
    {
     "data": {
      "text/plain": [
       "tensor([[ -9.5924,  -1.8391,  14.0782,  ...,   8.2881, -12.3868,  -7.4500],\n",
       "        [  4.4901,   4.2201,   0.3503,  ...,  -2.6362,   6.4967, -16.1851],\n",
       "        [  7.1576,  -1.5991,   1.3860,  ...,  -8.0366,   6.5830, -11.0430],\n",
       "        ...,\n",
       "        [-11.5103,  -0.8608,   3.2939,  ...,  -0.1660,  -5.4660, -13.9961],\n",
       "        [ 16.2789,  19.9595,   4.8391,  ...,   8.0546,   1.4545,  -7.9584],\n",
       "        [ 18.7504,  14.9841,   8.1432,  ...,   5.8145,   2.0300,  -2.4380]])"
      ]
     },
     "execution_count": 78,
     "metadata": {},
     "output_type": "execute_result"
    }
   ],
   "source": [
    "linear_coadd(aligned_images, bd)"
   ]
  },
  {
   "cell_type": "code",
   "execution_count": 79,
   "metadata": {},
   "outputs": [
    {
     "data": {
      "text/plain": [
       "<matplotlib.image.AxesImage at 0x7f151efe2910>"
      ]
     },
     "execution_count": 79,
     "metadata": {},
     "output_type": "execute_result"
    },
    {
     "data": {
      "image/png": "[encoded data removed]",
      "text/plain": [
       "<Figure size 432x288 with 1 Axes>"
      ]
     },
     "metadata": {
      "needs_background": "light"
     },
     "output_type": "display_data"
    }
   ],
   "source": [
    "plt.imshow(coadded.numpy())"
   ]
  },
  {
   "cell_type": "code",
   "execution_count": 142,
   "metadata": {},
   "outputs": [
    {
     "data": {
      "text/plain": [
       "torch.Size([4, 86, 86])"
      ]
     },
     "execution_count": 142,
     "metadata": {},
     "output_type": "execute_result"
    }
   ],
   "source": [
    "bd.shape"
   ]
  },
  {
   "cell_type": "code",
   "execution_count": null,
   "metadata": {},
   "outputs": [],
   "source": [
    "#### Tests"
   ]
  },
  {
   "cell_type": "code",
   "execution_count": null,
   "metadata": {},
   "outputs": [],
   "source": []
  },
  {
   "cell_type": "code",
   "execution_count": null,
   "metadata": {},
   "outputs": [],
   "source": []
  },
  {
   "cell_type": "code",
   "execution_count": null,
   "metadata": {},
   "outputs": [],
   "source": []
  }
 ],
 "metadata": {
  "kernelspec": {
   "display_name": "Python 3.8.10 ('bliss-z6VjvYh8-py3.8')",
   "language": "python",
   "name": "python3"
  },
  "language_info": {
   "codemirror_mode": {
    "name": "ipython",
    "version": 3
   },
   "file_extension": ".py",
   "mimetype": "text/x-python",
   "name": "python",
   "nbconvert_exporter": "python",
   "pygments_lexer": "ipython3",
   "version": "3.8.10"
  },
  "orig_nbformat": 4,
  "vscode": {
   "interpreter": {
    "hash": "42573bf324965e8843cce5661f2b7cff1bd822ab6b918329f3dd4ef295939d5e"
   }
  }
 },
 "nbformat": 4,
 "nbformat_minor": 2
}

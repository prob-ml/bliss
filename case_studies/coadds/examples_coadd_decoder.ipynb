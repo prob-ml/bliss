{
 "cells": [
  {
   "cell_type": "code",
   "execution_count": 2,
   "metadata": {},
   "outputs": [],
   "source": [
    "from typing import Dict, List, Optional\n",
    "import matplotlib.pyplot as plt\n",
    "from hydra import compose, initialize\n",
    "from hydra.utils import instantiate\n",
    "import numpy as np\n",
    "import pytorch_lightning as pl\n",
    "import torch\n",
    "from torch import Tensor\n",
    "import torch.nn.functional as F\n",
    "from einops import rearrange\n",
    "from torch.utils.data import DataLoader, Dataset\n",
    "import galsim\n",
    "from bliss.catalog import TileCatalog, get_is_on_from_n_sources, FullCatalog\n",
    "from bliss.datasets.background import ConstantBackground\n",
    "from bliss.datasets.sdss import convert_flux_to_mag\n",
    "from bliss.models.galsim_decoder import (\n",
    "    SingleGalsimGalaxyDecoder,\n",
    "    SingleGalsimGalaxyPrior,\n",
    "    UniformGalsimGalaxiesPrior,\n",
    "    load_psf_from_file,\n",
    ")\n",
    "from bliss.datasets.galsim_galaxies import GalsimBlends\n",
    "from case_studies.coadds.signal_noise_ratio import snr\n",
    "from case_studies.coadds.coadd_decoder import (\n",
    "    CoaddUniformGalsimGalaxiesPrior,\n",
    "    CoaddSingleGalaxyDecoder,\n",
    "    CoaddGalsimBlends,\n",
    "    FullCatalogDecoder,\n",
    ")"
   ]
  },
  {
   "cell_type": "code",
   "execution_count": 3,
   "metadata": {},
   "outputs": [
    {
     "name": "stdout",
     "output_type": "stream",
     "text": [
      "Modules to reload:\n",
      "all-except-skipped\n",
      "\n",
      "Modules to skip:\n",
      "\n"
     ]
    }
   ],
   "source": [
    "%load_ext autoreload\n",
    "%autoreload 2\n",
    "%aimport\n",
    "%matplotlib inline"
   ]
  },
  {
   "cell_type": "code",
   "execution_count": 4,
   "metadata": {},
   "outputs": [],
   "source": [
    "with initialize(config_path=\"../coadds/config\"):\n",
    "    cfg = compose(\"config\", overrides=[])"
   ]
  },
  {
   "cell_type": "code",
   "execution_count": 5,
   "metadata": {},
   "outputs": [],
   "source": [
    "prior = instantiate(cfg.datasets.sdss_galaxies_coadd.prior)\n",
    "decoder = instantiate(cfg.datasets.sdss_galaxies_coadd.decoder)\n",
    "background = instantiate(cfg.datasets.sdss_galaxies_coadd.background)"
   ]
  },
  {
   "cell_type": "code",
   "execution_count": 6,
   "metadata": {},
   "outputs": [],
   "source": [
    "# check prior to get galaxy parameters\n",
    "max_n_sources = 1\n",
    "max_shift = 0.5\n",
    "num_dithers = 4\n",
    "sampled_cuggp = CoaddUniformGalsimGalaxiesPrior(\n",
    "    prior, max_n_sources, max_shift, num_dithers\n",
    ").sample(num_dithers)"
   ]
  },
  {
   "cell_type": "code",
   "execution_count": 7,
   "metadata": {},
   "outputs": [],
   "source": [
    "pixel_scale = 0.393\n",
    "n_sources = sampled_cuggp[\"n_sources\"]\n",
    "galaxy_params = sampled_cuggp[\"galaxy_params\"]\n",
    "locs = sampled_cuggp[\"locs\"]\n",
    "galaxy_bools = sampled_cuggp[\"galaxy_bools\"]\n",
    "star_bools = sampled_cuggp[\"star_bools\"]\n",
    "dithers = sampled_cuggp[\"dithers\"]\n",
    "offset = None"
   ]
  },
  {
   "cell_type": "code",
   "execution_count": 8,
   "metadata": {},
   "outputs": [
    {
     "name": "stderr",
     "output_type": "stream",
     "text": [
      "/home/wmallory/bliss/case_studies/coadds/coadd_decoder.py:145: UserWarning: Creating a tensor from a list of numpy.ndarrays is extremely slow. Please consider converting the list to a single numpy.ndarray with numpy.array() before converting to a tensor. (Triggered internally at  ../torch/csrc/utils/tensor_new.cpp:210.)\n",
      "  shift = torch.add(torch.Tensor(dithers), torch.Tensor(offset))\n"
     ]
    },
    {
     "data": {
      "text/plain": [
       "tensor([[[[0.0007, 0.0007, 0.0007,  ..., 0.0006, 0.0006, 0.0006],\n",
       "          [0.0008, 0.0008, 0.0008,  ..., 0.0007, 0.0007, 0.0007],\n",
       "          [0.0010, 0.0010, 0.0010,  ..., 0.0009, 0.0008, 0.0008],\n",
       "          ...,\n",
       "          [0.0009, 0.0009, 0.0009,  ..., 0.0010, 0.0010, 0.0010],\n",
       "          [0.0007, 0.0008, 0.0008,  ..., 0.0009, 0.0009, 0.0008],\n",
       "          [0.0006, 0.0007, 0.0007,  ..., 0.0007, 0.0007, 0.0007]]],\n",
       "\n",
       "\n",
       "        [[[0.0007, 0.0007, 0.0007,  ..., 0.0006, 0.0006, 0.0006],\n",
       "          [0.0008, 0.0008, 0.0008,  ..., 0.0007, 0.0007, 0.0007],\n",
       "          [0.0009, 0.0009, 0.0010,  ..., 0.0008, 0.0008, 0.0008],\n",
       "          ...,\n",
       "          [0.0009, 0.0009, 0.0010,  ..., 0.0011, 0.0010, 0.0010],\n",
       "          [0.0008, 0.0008, 0.0008,  ..., 0.0009, 0.0009, 0.0009],\n",
       "          [0.0007, 0.0007, 0.0007,  ..., 0.0008, 0.0008, 0.0007]]],\n",
       "\n",
       "\n",
       "        [[[0.0007, 0.0007, 0.0007,  ..., 0.0006, 0.0006, 0.0006],\n",
       "          [0.0008, 0.0008, 0.0008,  ..., 0.0007, 0.0007, 0.0007],\n",
       "          [0.0009, 0.0009, 0.0010,  ..., 0.0009, 0.0008, 0.0008],\n",
       "          ...,\n",
       "          [0.0009, 0.0009, 0.0009,  ..., 0.0011, 0.0010, 0.0010],\n",
       "          [0.0008, 0.0008, 0.0008,  ..., 0.0009, 0.0009, 0.0009],\n",
       "          [0.0006, 0.0007, 0.0007,  ..., 0.0008, 0.0008, 0.0007]]],\n",
       "\n",
       "\n",
       "        [[[0.0007, 0.0007, 0.0007,  ..., 0.0007, 0.0007, 0.0006],\n",
       "          [0.0008, 0.0009, 0.0009,  ..., 0.0008, 0.0008, 0.0007],\n",
       "          [0.0010, 0.0010, 0.0010,  ..., 0.0009, 0.0009, 0.0009],\n",
       "          ...,\n",
       "          [0.0008, 0.0008, 0.0009,  ..., 0.0010, 0.0010, 0.0010],\n",
       "          [0.0007, 0.0007, 0.0007,  ..., 0.0009, 0.0008, 0.0008],\n",
       "          [0.0006, 0.0006, 0.0006,  ..., 0.0007, 0.0007, 0.0007]]]])"
      ]
     },
     "execution_count": 8,
     "metadata": {},
     "output_type": "execute_result"
    }
   ],
   "source": [
    "# check decoder to render galaxies\n",
    "csgd = CoaddSingleGalaxyDecoder(\n",
    "    decoder, decoder.n_bands, decoder.pixel_scale, \"./data/sdss/psField-000094-1-0012-PSF-image.npy\"\n",
    ")\n",
    "csgd.render_galaxy(\n",
    "    galaxy_params=galaxy_params[0],\n",
    "    slen=decoder.slen,\n",
    "    psf=decoder.psf,\n",
    "    offset=offset,\n",
    "    dithers=dithers,\n",
    ")"
   ]
  },
  {
   "cell_type": "code",
   "execution_count": 9,
   "metadata": {},
   "outputs": [],
   "source": [
    "# check FullCatalogDecoder\n",
    "prior = instantiate(cfg.datasets.galsim_blended_galaxies_coadd.prior)\n",
    "decoder = instantiate(cfg.datasets.galsim_blended_galaxies_coadd.decoder)\n",
    "background = instantiate(cfg.datasets.galsim_blended_galaxies_coadd.background)\n",
    "tile_slen = 4\n",
    "max_tile_n_sources = 1\n",
    "num_workers = 5\n",
    "batch_size = 1000\n",
    "n_batches = 1\n",
    "full_catalog = CoaddGalsimBlends(\n",
    "    prior=prior,\n",
    "    decoder=decoder,\n",
    "    background=background,\n",
    "    tile_slen=tile_slen,\n",
    "    max_sources_per_tile=max_tile_n_sources,\n",
    "    num_workers=num_workers,\n",
    "    batch_size=batch_size,\n",
    "    n_batches=n_batches,\n",
    ")._sample_full_catalog()"
   ]
  },
  {
   "cell_type": "code",
   "execution_count": 24,
   "metadata": {},
   "outputs": [],
   "source": [
    "slen = 40\n",
    "bp = 24\n",
    "fcdecoder = FullCatalogDecoder(decoder, slen, bp, dithers)"
   ]
  },
  {
   "cell_type": "code",
   "execution_count": 26,
   "metadata": {},
   "outputs": [],
   "source": [
    "image, noiseless_centered, noiseless_uncentered, image0 = decoder.render_catalog(\n",
    "    full_catalog, decoder.single_decoder.psf, dithers\n",
    ")"
   ]
  },
  {
   "cell_type": "code",
   "execution_count": null,
   "metadata": {},
   "outputs": [],
   "source": []
  },
  {
   "cell_type": "code",
   "execution_count": null,
   "metadata": {},
   "outputs": [],
   "source": []
  }
 ],
 "metadata": {
  "kernelspec": {
   "display_name": "Python 3.8.10 ('bliss-z6VjvYh8-py3.8')",
   "language": "python",
   "name": "python3"
  },
  "language_info": {
   "codemirror_mode": {
    "name": "ipython",
    "version": 3
   },
   "file_extension": ".py",
   "mimetype": "text/x-python",
   "name": "python",
   "nbconvert_exporter": "python",
   "pygments_lexer": "ipython3",
   "version": "3.8.10"
  },
  "orig_nbformat": 4,
  "vscode": {
   "interpreter": {
    "hash": "42573bf324965e8843cce5661f2b7cff1bd822ab6b918329f3dd4ef295939d5e"
   }
  }
 },
 "nbformat": 4,
 "nbformat_minor": 2
}

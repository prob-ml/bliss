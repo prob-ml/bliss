{
 "cells": [
  {
   "cell_type": "code",
   "execution_count": 1,
   "metadata": {},
   "outputs": [],
   "source": [
    "import torch\n",
    "from hydra import initialize, compose\n",
    "from hydra.utils import instantiate\n",
    "import tqdm\n",
    "import math\n",
    "\n",
    "from bliss.surveys.dc2 import DC2DataModule\n",
    "from bliss.global_env import GlobalEnv"
   ]
  },
  {
   "cell_type": "code",
   "execution_count": 2,
   "metadata": {},
   "outputs": [],
   "source": [
    "with initialize(config_path=\"./ynet_diffusion_config\", version_base=None):\n",
    "    notebook_cfg = compose(\"ynet_full_diffusion_notebook_config\")"
   ]
  },
  {
   "cell_type": "code",
   "execution_count": 3,
   "metadata": {},
   "outputs": [],
   "source": [
    "GlobalEnv.current_encoder_epoch = 1\n",
    "GlobalEnv.seed_in_this_program = 7272"
   ]
  },
  {
   "cell_type": "code",
   "execution_count": 4,
   "metadata": {},
   "outputs": [
    {
     "name": "stderr",
     "output_type": "stream",
     "text": [
      "WARNING: cached data already exists at [/home/pduan/bliss_output/dc2_cached_data], we directly use it\n",
      "\n"
     ]
    }
   ],
   "source": [
    "dc2: DC2DataModule = instantiate(notebook_cfg.surveys.dc2)\n",
    "dc2.prepare_data()\n",
    "dc2.setup(stage=\"fit\")\n",
    "\n",
    "dc2_train_dataloader = dc2.train_dataloader()\n",
    "device = torch.device(\"cuda:0\" if torch.cuda.is_available() else \"cpu\")"
   ]
  },
  {
   "cell_type": "code",
   "execution_count": 5,
   "metadata": {},
   "outputs": [
    {
     "name": "stderr",
     "output_type": "stream",
     "text": [
      "100%|██████████| 1524/1524 [04:07<00:00,  6.16it/s]\n"
     ]
    }
   ],
   "source": [
    "n_sources_count = torch.zeros(10, device=device)\n",
    "flux_max = 0\n",
    "for batch in tqdm.tqdm(dc2_train_dataloader):\n",
    "    n_sources_count += batch[\"tile_catalog\"][\"n_sources\"].to(device=device).flatten().bincount(minlength=10)\n",
    "    cur_flux_max = batch[\"tile_catalog\"][\"fluxes\"].to(device=device).max()\n",
    "    if cur_flux_max > flux_max:\n",
    "        flux_max = cur_flux_max"
   ]
  },
  {
   "cell_type": "code",
   "execution_count": 6,
   "metadata": {},
   "outputs": [
    {
     "name": "stdout",
     "output_type": "stream",
     "text": [
      "tensor(5.9038e+09, device='cuda:0')\n",
      "22.498856031849975\n"
     ]
    }
   ],
   "source": [
    "print(flux_max)\n",
    "print(math.log(flux_max + 1))"
   ]
  },
  {
   "cell_type": "code",
   "execution_count": 7,
   "metadata": {},
   "outputs": [
    {
     "name": "stdout",
     "output_type": "stream",
     "text": [
      "[(0, 76836320.0), (1, 1153332.0), (2, 10308.0), (3, 67.0), (4, 0.0), (5, 0.0), (6, 0.0), (7, 0.0), (8, 0.0), (9, 0.0)]\n"
     ]
    }
   ],
   "source": [
    "print(list(zip(range(10), n_sources_count.tolist())))"
   ]
  },
  {
   "cell_type": "code",
   "execution_count": 8,
   "metadata": {},
   "outputs": [
    {
     "name": "stdout",
     "output_type": "stream",
     "text": [
      "tensor([9.8508e-01, 1.4786e-02, 1.3215e-04, 8.5897e-07, 0.0000e+00, 0.0000e+00,\n",
      "        0.0000e+00, 0.0000e+00, 0.0000e+00, 0.0000e+00], device='cuda:0')\n"
     ]
    }
   ],
   "source": [
    "print(n_sources_count / n_sources_count.sum())"
   ]
  },
  {
   "cell_type": "code",
   "execution_count": 9,
   "metadata": {},
   "outputs": [
    {
     "name": "stdout",
     "output_type": "stream",
     "text": [
      "tensor([9.9108e-01, 8.8579e-03, 5.7575e-05, 0.0000e+00, 0.0000e+00, 0.0000e+00,\n",
      "        0.0000e+00, 0.0000e+00, 0.0000e+00], device='cuda:0')\n"
     ]
    }
   ],
   "source": [
    "print(n_sources_count[1:] / n_sources_count[1:].sum())"
   ]
  }
 ],
 "metadata": {
  "kernelspec": {
   "display_name": ".venv",
   "language": "python",
   "name": "python3"
  },
  "language_info": {
   "codemirror_mode": {
    "name": "ipython",
    "version": 3
   },
   "file_extension": ".py",
   "mimetype": "text/x-python",
   "name": "python",
   "nbconvert_exporter": "python",
   "pygments_lexer": "ipython3",
   "version": "3.10.12"
  }
 },
 "nbformat": 4,
 "nbformat_minor": 2
}

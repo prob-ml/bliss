{
 "cells": [
  {
   "cell_type": "code",
   "execution_count": 1,
   "metadata": {},
   "outputs": [],
   "source": [
    "import torch\n",
    "import tqdm\n",
    "import os\n",
    "import time\n",
    "\n",
    "import matplotlib.pyplot as plt\n",
    "import seaborn as sns\n",
    "from einops import rearrange, repeat\n",
    "from pathlib import Path\n",
    "\n",
    "from hydra import initialize, compose\n",
    "from hydra.utils import instantiate\n",
    "import pytorch_lightning\n",
    "from pytorch_lightning.utilities import move_data_to_device\n",
    "\n",
    "from bliss.surveys.dc2 import DC2DataModule\n",
    "from bliss.catalog import TileCatalog\n",
    "from case_studies.dc2_new_diffusion.utils.encoder import DiffusionEncoder"
   ]
  },
  {
   "cell_type": "code",
   "execution_count": 2,
   "metadata": {},
   "outputs": [],
   "source": [
    "model_name = \"exp_03-17-1\"\n",
    "model_check_point_name = \"encoder_143.ckpt\"\n",
    "model_path = f\"../../../bliss_output/DC2_ynet_full_diffusion_exp/{model_name}/checkpoints/{model_check_point_name}\"\n",
    "cached_data_path = Path(\"/data/scratch/pduan/posterior_cached_files\")\n",
    "device = torch.device(\"cuda:2\" if torch.cuda.is_available() else \"cpu\")\n",
    "with initialize(config_path=\"./ynet_diffusion_config\", version_base=None):\n",
    "    new_diffusion_notebook_cfg = compose(\"ynet_full_diffusion_notebook_config\")"
   ]
  },
  {
   "cell_type": "code",
   "execution_count": 3,
   "metadata": {},
   "outputs": [
    {
     "name": "stderr",
     "output_type": "stream",
     "text": [
      "Seed set to 7272\n"
     ]
    },
    {
     "data": {
      "text/plain": [
       "7272"
      ]
     },
     "execution_count": 3,
     "metadata": {},
     "output_type": "execute_result"
    }
   ],
   "source": [
    "seed = 7272\n",
    "pytorch_lightning.seed_everything(seed=seed)"
   ]
  },
  {
   "cell_type": "code",
   "execution_count": 4,
   "metadata": {},
   "outputs": [],
   "source": [
    "tile_slen = new_diffusion_notebook_cfg.surveys.dc2.tile_slen\n",
    "max_sources_per_tile = new_diffusion_notebook_cfg.surveys.dc2.max_sources_per_tile\n",
    "r_band_min_flux = new_diffusion_notebook_cfg.notebook_var.r_band_min_flux\n",
    "\n",
    "dc2: DC2DataModule = instantiate(new_diffusion_notebook_cfg.surveys.dc2)\n",
    "dc2.setup(stage=\"validate\")\n",
    "\n",
    "bliss_encoder: DiffusionEncoder = instantiate(new_diffusion_notebook_cfg.encoder).to(device=device)\n",
    "pretrained_weights = torch.load(model_path, map_location=device)[\"state_dict\"]\n",
    "bliss_encoder.load_state_dict(pretrained_weights)\n",
    "bliss_encoder.eval();"
   ]
  },
  {
   "cell_type": "code",
   "execution_count": 5,
   "metadata": {},
   "outputs": [
    {
     "name": "stdout",
     "output_type": "stream",
     "text": [
      "5\n",
      "pred_noise\n",
      "cosine\n",
      "0.0\n",
      "False\n",
      "0.0\n"
     ]
    }
   ],
   "source": [
    "print(bliss_encoder.ddim_steps)\n",
    "print(bliss_encoder.ddim_objective)\n",
    "print(bliss_encoder.ddim_beta_schedule)\n",
    "print(bliss_encoder.detection_diffusion.ddim_sampling_eta)\n",
    "print(bliss_encoder.ddim_self_cond)\n",
    "print(bliss_encoder.catalog_parser.factors[0].threshold)"
   ]
  },
  {
   "cell_type": "code",
   "execution_count": 6,
   "metadata": {},
   "outputs": [],
   "source": [
    "ddim_steps = 50\n",
    "bliss_encoder.ddim_steps = ddim_steps\n",
    "bliss_encoder.detection_diffusion.sampling_timesteps = ddim_steps\n",
    "bliss_encoder.detection_diffusion.ddim_sampling_eta = 1.0\n",
    "bliss_encoder.catalog_parser.factors[0].threshold = 0.0"
   ]
  },
  {
   "cell_type": "code",
   "execution_count": 7,
   "metadata": {},
   "outputs": [],
   "source": [
    "bliss_encoder = torch.compile(bliss_encoder)"
   ]
  },
  {
   "cell_type": "code",
   "execution_count": 8,
   "metadata": {},
   "outputs": [],
   "source": [
    "model = bliss_encoder.detection_diffusion.model"
   ]
  },
  {
   "cell_type": "code",
   "execution_count": 9,
   "metadata": {},
   "outputs": [
    {
     "name": "stderr",
     "output_type": "stream",
     "text": [
      "100%|██████████| 10/10 [00:19<00:00,  1.96s/it]"
     ]
    },
    {
     "name": "stdout",
     "output_type": "stream",
     "text": [
      "(b=8) sample time: 1.04s\n",
      "(b=8) infer time: 0.91s\n"
     ]
    },
    {
     "name": "stderr",
     "output_type": "stream",
     "text": [
      "\n",
      "100%|██████████| 10/10 [00:20<00:00,  2.06s/it]"
     ]
    },
    {
     "name": "stdout",
     "output_type": "stream",
     "text": [
      "(b=16) sample time: 1.07s\n",
      "(b=16) infer time: 0.98s\n"
     ]
    },
    {
     "name": "stderr",
     "output_type": "stream",
     "text": [
      "\n",
      "100%|██████████| 10/10 [00:28<00:00,  2.81s/it]"
     ]
    },
    {
     "name": "stdout",
     "output_type": "stream",
     "text": [
      "(b=32) sample time: 1.43s\n",
      "(b=32) infer time: 1.37s\n"
     ]
    },
    {
     "name": "stderr",
     "output_type": "stream",
     "text": [
      "\n",
      "100%|██████████| 10/10 [00:51<00:00,  5.17s/it]"
     ]
    },
    {
     "name": "stdout",
     "output_type": "stream",
     "text": [
      "(b=64) sample time: 2.63s\n",
      "(b=64) infer time: 2.53s\n"
     ]
    },
    {
     "name": "stderr",
     "output_type": "stream",
     "text": [
      "\n",
      "100%|██████████| 10/10 [01:39<00:00,  9.95s/it]"
     ]
    },
    {
     "name": "stdout",
     "output_type": "stream",
     "text": [
      "(b=128) sample time: 5.07s\n",
      "(b=128) infer time: 4.87s\n"
     ]
    },
    {
     "name": "stderr",
     "output_type": "stream",
     "text": [
      "\n"
     ]
    }
   ],
   "source": [
    "total_iters = 10\n",
    "\n",
    "for batch_size in [8, 16, 32, 64, 128]:\n",
    "    dc2.batch_size = batch_size\n",
    "    dc2_val_dataloader = dc2.val_dataloader()\n",
    "    one_batch = next(iter(dc2_val_dataloader))\n",
    "    one_batch = move_data_to_device(one_batch, device=device)\n",
    "    total_sample_time = 0.0\n",
    "    total_infer_time = 0.0\n",
    "    for _ in tqdm.tqdm(range(total_iters)):\n",
    "        with torch.inference_mode():\n",
    "            sample_start_time = time.time()\n",
    "            bliss_encoder.sample(one_batch, return_inter_output=False)\n",
    "            sample_end_time = time.time()\n",
    "            total_sample_time += sample_end_time - sample_start_time\n",
    "\n",
    "            for _ in range(ddim_steps):\n",
    "                rand_x = torch.randn(batch_size, 10, 20, 20, device=device)\n",
    "                rand_t = torch.full((batch_size, ), 999, \n",
    "                                    device=device, dtype=torch.long)\n",
    "                rand_input_image = torch.randn(batch_size, 6, 14, 80, 80, device=device)\n",
    "                infer_start_time = time.time()\n",
    "                model(rand_x, rand_t, rand_input_image, None)\n",
    "                infer_end_time = time.time()\n",
    "                total_infer_time += infer_end_time - infer_start_time\n",
    "\n",
    "    print(f\"(b={batch_size}) sample time: {total_sample_time / total_iters:.2f}s\")\n",
    "    print(f\"(b={batch_size}) infer time: {total_infer_time / total_iters:.2f}s\")"
   ]
  }
 ],
 "metadata": {
  "kernelspec": {
   "display_name": ".venv",
   "language": "python",
   "name": "python3"
  },
  "language_info": {
   "codemirror_mode": {
    "name": "ipython",
    "version": 3
   },
   "file_extension": ".py",
   "mimetype": "text/x-python",
   "name": "python",
   "nbconvert_exporter": "python",
   "pygments_lexer": "ipython3",
   "version": "3.10.12"
  }
 },
 "nbformat": 4,
 "nbformat_minor": 2
}

{
 "cells": [
  {
   "cell_type": "code",
   "execution_count": 1,
   "metadata": {},
   "outputs": [],
   "source": [
    "import torch\n",
    "import tqdm\n",
    "\n",
    "from hydra import initialize, compose\n",
    "from hydra.utils import instantiate\n",
    "from pytorch_lightning.utilities import move_data_to_device\n",
    "\n",
    "from bliss.surveys.dc2 import DC2DataModule\n",
    "from case_studies.dc2_diffusion.utils.catalog_parser import CatalogParser\n",
    "from bliss.catalog import TileCatalog\n",
    "from bliss.global_env import GlobalEnv\n",
    "\n",
    "import matplotlib.pyplot as plt\n",
    "\n",
    "from case_studies.dc2_new_diffusion.utils.autoencoder import CatalogEncoder, CatalogDecoder"
   ]
  },
  {
   "cell_type": "code",
   "execution_count": 2,
   "metadata": {},
   "outputs": [],
   "source": [
    "device = torch.device(\"cuda:2\" if torch.cuda.is_available() else \"cpu\")\n",
    "with initialize(config_path=\".\", version_base=None):\n",
    "    new_diffusion_notebook_cfg = compose(\"latent_diffusion_notebook_config\")"
   ]
  },
  {
   "cell_type": "code",
   "execution_count": 3,
   "metadata": {},
   "outputs": [],
   "source": [
    "tile_slen = new_diffusion_notebook_cfg.surveys.dc2.tile_slen\n",
    "max_sources_per_tile = new_diffusion_notebook_cfg.surveys.dc2.max_sources_per_tile\n",
    "r_band_min_flux = new_diffusion_notebook_cfg.notebook_var.r_band_min_flux\n",
    "\n",
    "dc2: DC2DataModule = instantiate(new_diffusion_notebook_cfg.surveys.dc2)\n",
    "dc2.batch_size = 1024\n",
    "dc2.setup(stage=\"fit\")\n",
    "GlobalEnv.current_encoder_epoch = 1\n",
    "GlobalEnv.seed_in_this_program = 7272\n",
    "dc2_val_dataloader = dc2.val_dataloader()\n",
    "\n",
    "catalog_parser: CatalogParser = instantiate(new_diffusion_notebook_cfg.encoder.catalog_parser)"
   ]
  },
  {
   "cell_type": "code",
   "execution_count": 4,
   "metadata": {},
   "outputs": [],
   "source": [
    "target_ch = catalog_parser.n_params_per_source\n",
    "encoder = CatalogEncoder(target_ch, hidden_dim=32)\n",
    "decoder = CatalogDecoder(target_ch, hidden_dim=32 // 4)"
   ]
  },
  {
   "cell_type": "code",
   "execution_count": 5,
   "metadata": {},
   "outputs": [],
   "source": [
    "encoder = encoder.to(device=device)\n",
    "decoder = decoder.to(device=device)"
   ]
  },
  {
   "cell_type": "code",
   "execution_count": 6,
   "metadata": {},
   "outputs": [
    {
     "data": {
      "text/plain": [
       "CatalogDecoder(\n",
       "  (decoder): Sequential(\n",
       "    (0): ConvBlock(\n",
       "      (conv): Conv2d(8, 8, kernel_size=(5, 5), stride=(1, 1), padding=(2, 2), bias=False)\n",
       "      (norm): GroupNorm(1, 8, eps=1e-05, affine=True)\n",
       "      (activation): SiLU(inplace=True)\n",
       "    )\n",
       "    (1): ConvBlock(\n",
       "      (conv): Conv2d(8, 16, kernel_size=(3, 3), stride=(2, 2), padding=(1, 1), bias=False)\n",
       "      (norm): GroupNorm(2, 16, eps=1e-05, affine=True)\n",
       "      (activation): SiLU(inplace=True)\n",
       "    )\n",
       "    (2): C3(\n",
       "      (cv1): ConvBlock(\n",
       "        (conv): Conv2d(16, 8, kernel_size=(1, 1), stride=(1, 1), bias=False)\n",
       "        (norm): GroupNorm(1, 8, eps=1e-05, affine=True)\n",
       "        (activation): SiLU(inplace=True)\n",
       "      )\n",
       "      (cv2): ConvBlock(\n",
       "        (conv): Conv2d(16, 8, kernel_size=(1, 1), stride=(1, 1), bias=False)\n",
       "        (norm): GroupNorm(1, 8, eps=1e-05, affine=True)\n",
       "        (activation): SiLU(inplace=True)\n",
       "      )\n",
       "      (cv3): ConvBlock(\n",
       "        (conv): Conv2d(16, 16, kernel_size=(1, 1), stride=(1, 1), bias=False)\n",
       "        (norm): GroupNorm(2, 16, eps=1e-05, affine=True)\n",
       "        (activation): SiLU(inplace=True)\n",
       "      )\n",
       "      (m): Sequential(\n",
       "        (0): Bottleneck(\n",
       "          (cv1): ConvBlock(\n",
       "            (conv): Conv2d(8, 8, kernel_size=(1, 1), stride=(1, 1), bias=False)\n",
       "            (norm): GroupNorm(1, 8, eps=1e-05, affine=True)\n",
       "            (activation): SiLU(inplace=True)\n",
       "          )\n",
       "          (cv2): ConvBlock(\n",
       "            (conv): Conv2d(8, 8, kernel_size=(3, 3), stride=(1, 1), padding=(1, 1), bias=False)\n",
       "            (norm): GroupNorm(1, 8, eps=1e-05, affine=True)\n",
       "            (activation): SiLU(inplace=True)\n",
       "          )\n",
       "        )\n",
       "        (1): Bottleneck(\n",
       "          (cv1): ConvBlock(\n",
       "            (conv): Conv2d(8, 8, kernel_size=(1, 1), stride=(1, 1), bias=False)\n",
       "            (norm): GroupNorm(1, 8, eps=1e-05, affine=True)\n",
       "            (activation): SiLU(inplace=True)\n",
       "          )\n",
       "          (cv2): ConvBlock(\n",
       "            (conv): Conv2d(8, 8, kernel_size=(3, 3), stride=(1, 1), padding=(1, 1), bias=False)\n",
       "            (norm): GroupNorm(1, 8, eps=1e-05, affine=True)\n",
       "            (activation): SiLU(inplace=True)\n",
       "          )\n",
       "        )\n",
       "        (2): Bottleneck(\n",
       "          (cv1): ConvBlock(\n",
       "            (conv): Conv2d(8, 8, kernel_size=(1, 1), stride=(1, 1), bias=False)\n",
       "            (norm): GroupNorm(1, 8, eps=1e-05, affine=True)\n",
       "            (activation): SiLU(inplace=True)\n",
       "          )\n",
       "          (cv2): ConvBlock(\n",
       "            (conv): Conv2d(8, 8, kernel_size=(3, 3), stride=(1, 1), padding=(1, 1), bias=False)\n",
       "            (norm): GroupNorm(1, 8, eps=1e-05, affine=True)\n",
       "            (activation): SiLU(inplace=True)\n",
       "          )\n",
       "        )\n",
       "      )\n",
       "    )\n",
       "    (3): ConvBlock(\n",
       "      (conv): Conv2d(16, 32, kernel_size=(3, 3), stride=(2, 2), padding=(1, 1), bias=False)\n",
       "      (norm): GroupNorm(4, 32, eps=1e-05, affine=True)\n",
       "      (activation): SiLU(inplace=True)\n",
       "    )\n",
       "    (4): C3(\n",
       "      (cv1): ConvBlock(\n",
       "        (conv): Conv2d(32, 16, kernel_size=(1, 1), stride=(1, 1), bias=False)\n",
       "        (norm): GroupNorm(2, 16, eps=1e-05, affine=True)\n",
       "        (activation): SiLU(inplace=True)\n",
       "      )\n",
       "      (cv2): ConvBlock(\n",
       "        (conv): Conv2d(32, 16, kernel_size=(1, 1), stride=(1, 1), bias=False)\n",
       "        (norm): GroupNorm(2, 16, eps=1e-05, affine=True)\n",
       "        (activation): SiLU(inplace=True)\n",
       "      )\n",
       "      (cv3): ConvBlock(\n",
       "        (conv): Conv2d(32, 32, kernel_size=(1, 1), stride=(1, 1), bias=False)\n",
       "        (norm): GroupNorm(4, 32, eps=1e-05, affine=True)\n",
       "        (activation): SiLU(inplace=True)\n",
       "      )\n",
       "      (m): Sequential(\n",
       "        (0): Bottleneck(\n",
       "          (cv1): ConvBlock(\n",
       "            (conv): Conv2d(16, 16, kernel_size=(1, 1), stride=(1, 1), bias=False)\n",
       "            (norm): GroupNorm(2, 16, eps=1e-05, affine=True)\n",
       "            (activation): SiLU(inplace=True)\n",
       "          )\n",
       "          (cv2): ConvBlock(\n",
       "            (conv): Conv2d(16, 16, kernel_size=(3, 3), stride=(1, 1), padding=(1, 1), bias=False)\n",
       "            (norm): GroupNorm(2, 16, eps=1e-05, affine=True)\n",
       "            (activation): SiLU(inplace=True)\n",
       "          )\n",
       "        )\n",
       "        (1): Bottleneck(\n",
       "          (cv1): ConvBlock(\n",
       "            (conv): Conv2d(16, 16, kernel_size=(1, 1), stride=(1, 1), bias=False)\n",
       "            (norm): GroupNorm(2, 16, eps=1e-05, affine=True)\n",
       "            (activation): SiLU(inplace=True)\n",
       "          )\n",
       "          (cv2): ConvBlock(\n",
       "            (conv): Conv2d(16, 16, kernel_size=(3, 3), stride=(1, 1), padding=(1, 1), bias=False)\n",
       "            (norm): GroupNorm(2, 16, eps=1e-05, affine=True)\n",
       "            (activation): SiLU(inplace=True)\n",
       "          )\n",
       "        )\n",
       "        (2): Bottleneck(\n",
       "          (cv1): ConvBlock(\n",
       "            (conv): Conv2d(16, 16, kernel_size=(1, 1), stride=(1, 1), bias=False)\n",
       "            (norm): GroupNorm(2, 16, eps=1e-05, affine=True)\n",
       "            (activation): SiLU(inplace=True)\n",
       "          )\n",
       "          (cv2): ConvBlock(\n",
       "            (conv): Conv2d(16, 16, kernel_size=(3, 3), stride=(1, 1), padding=(1, 1), bias=False)\n",
       "            (norm): GroupNorm(2, 16, eps=1e-05, affine=True)\n",
       "            (activation): SiLU(inplace=True)\n",
       "          )\n",
       "        )\n",
       "      )\n",
       "    )\n",
       "    (5): ConvBlock(\n",
       "      (conv): Conv2d(32, 32, kernel_size=(1, 1), stride=(1, 1), bias=False)\n",
       "      (norm): GroupNorm(4, 32, eps=1e-05, affine=True)\n",
       "      (activation): SiLU(inplace=True)\n",
       "    )\n",
       "    (6): Conv2d(32, 3, kernel_size=(1, 1), stride=(1, 1))\n",
       "  )\n",
       ")"
      ]
     },
     "execution_count": 6,
     "metadata": {},
     "output_type": "execute_result"
    }
   ],
   "source": [
    "encoder_weights = torch.load(\"encoder.pt\", map_location=device)\n",
    "decoder_weights = torch.load(\"decoder.pt\", map_location=device)\n",
    "encoder.load_state_dict(encoder_weights)\n",
    "decoder.load_state_dict(decoder_weights)\n",
    "encoder.eval()\n",
    "decoder.eval()"
   ]
  },
  {
   "cell_type": "code",
   "execution_count": 7,
   "metadata": {},
   "outputs": [
    {
     "name": "stderr",
     "output_type": "stream",
     "text": [
      "100%|██████████| 25/25 [00:15<00:00,  1.63it/s]\n"
     ]
    }
   ],
   "source": [
    "encoder_outputs = []\n",
    "for batch in tqdm.tqdm(dc2_val_dataloader):\n",
    "    batch = move_data_to_device(batch, device=device)\n",
    "    target_tile_cat = TileCatalog(batch[\"tile_catalog\"])\n",
    "    target_tile_cat = target_tile_cat.get_brightest_sources_per_tile(band=2,  exclude_num=0)\n",
    "    target_full_cat = target_tile_cat.to_full_catalog(tile_slen)\n",
    "\n",
    "    encoded_catalog_tensor = catalog_parser.encode(target_tile_cat).permute([0, 3, 1, 2])  # (b, k, h, w)\n",
    "    with torch.no_grad():\n",
    "        encoder_pred = encoder(encoded_catalog_tensor)\n",
    "    #     recovered_target = decoder(encoder_pred)\n",
    "    # recovered_target = catalog_parser.clip_tensor(recovered_target.permute([0, 2, 3, 1]))\n",
    "    # recovered_tile_cat = catalog_parser.decode(recovered_target)\n",
    "    # recovered_full_cat = recovered_tile_cat.to_full_catalog(tile_slen)\n",
    "    encoder_outputs.append(encoder_pred.flatten().cpu())"
   ]
  },
  {
   "cell_type": "code",
   "execution_count": 10,
   "metadata": {},
   "outputs": [
    {
     "data": {
      "image/png": "[encoded data removed]",
      "text/plain": [
       "<Figure size 640x480 with 1 Axes>"
      ]
     },
     "metadata": {},
     "output_type": "display_data"
    }
   ],
   "source": [
    "plt.hist(torch.stack(encoder_outputs[:-1]).flatten().numpy() / 9 * 2 - 1, \n",
    "         bins=50, density=True, edgecolor=\"black\")\n",
    "plt.title(\"Histogram of Tensor\")\n",
    "plt.xlabel(\"Value\")\n",
    "plt.ylabel(\"Density\")\n",
    "plt.show()"
   ]
  }
 ],
 "metadata": {
  "kernelspec": {
   "display_name": ".venv",
   "language": "python",
   "name": "python3"
  },
  "language_info": {
   "codemirror_mode": {
    "name": "ipython",
    "version": 3
   },
   "file_extension": ".py",
   "mimetype": "text/x-python",
   "name": "python",
   "nbconvert_exporter": "python",
   "pygments_lexer": "ipython3",
   "version": "3.10.12"
  }
 },
 "nbformat": 4,
 "nbformat_minor": 2
}

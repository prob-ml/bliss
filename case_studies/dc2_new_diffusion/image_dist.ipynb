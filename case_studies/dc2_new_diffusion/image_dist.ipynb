{
 "cells": [
  {
   "cell_type": "code",
   "execution_count": 1,
   "metadata": {},
   "outputs": [],
   "source": [
    "import torch\n",
    "import tqdm\n",
    "\n",
    "from hydra import initialize, compose\n",
    "from hydra.utils import instantiate\n",
    "from pytorch_lightning.utilities import move_data_to_device\n",
    "\n",
    "from bliss.surveys.dc2 import DC2DataModule\n",
    "from case_studies.dc2_diffusion.utils.catalog_parser import CatalogParser\n",
    "from bliss.global_env import GlobalEnv"
   ]
  },
  {
   "cell_type": "code",
   "execution_count": 2,
   "metadata": {},
   "outputs": [],
   "source": [
    "device = torch.device(\"cuda:2\" if torch.cuda.is_available() else \"cpu\")\n",
    "with initialize(config_path=\".\", version_base=None):\n",
    "    new_diffusion_notebook_cfg = compose(\"new_diffusion_notebook_config\")"
   ]
  },
  {
   "cell_type": "code",
   "execution_count": 3,
   "metadata": {},
   "outputs": [],
   "source": [
    "tile_slen = new_diffusion_notebook_cfg.surveys.dc2.tile_slen\n",
    "max_sources_per_tile = new_diffusion_notebook_cfg.surveys.dc2.max_sources_per_tile\n",
    "r_band_min_flux = new_diffusion_notebook_cfg.notebook_var.r_band_min_flux\n",
    "\n",
    "dc2: DC2DataModule = instantiate(new_diffusion_notebook_cfg.surveys.dc2)\n",
    "dc2.batch_size = 1024\n",
    "dc2.setup(stage=\"fit\")\n",
    "GlobalEnv.current_encoder_epoch = 1\n",
    "GlobalEnv.seed_in_this_program = 7272\n",
    "dc2_val_dataloader = dc2.val_dataloader()\n",
    "\n",
    "catalog_parser: CatalogParser = instantiate(new_diffusion_notebook_cfg.encoder.catalog_parser)"
   ]
  },
  {
   "cell_type": "code",
   "execution_count": 4,
   "metadata": {},
   "outputs": [
    {
     "name": "stderr",
     "output_type": "stream",
     "text": [
      "100%|██████████| 25/25 [00:11<00:00,  2.18it/s]\n"
     ]
    }
   ],
   "source": [
    "quantiles = []\n",
    "dc2_val_dataloader = dc2.val_dataloader()\n",
    "quantile_tensor = torch.tensor([0.001, 0.01, 0.1, 0.2, 0.3, 0.5, 0.8, 0.9, 0.99, 0.999], device=device)\n",
    "for batch in tqdm.tqdm(dc2_val_dataloader):\n",
    "    batch = move_data_to_device(batch, device=device)\n",
    "    quantiles.append(torch.norm(batch[\"images\"], dim=1, p=2).quantile(q=quantile_tensor))\n",
    "quantiles = torch.stack(quantiles)"
   ]
  },
  {
   "cell_type": "code",
   "execution_count": 6,
   "metadata": {},
   "outputs": [
    {
     "data": {
      "text/plain": [
       "tensor([[1.0000e-03, 4.6561e-02],\n",
       "        [1.0000e-02, 7.4178e-02],\n",
       "        [1.0000e-01, 1.3488e-01],\n",
       "        [2.0000e-01, 1.7251e-01],\n",
       "        [3.0000e-01, 2.0560e-01],\n",
       "        [5.0000e-01, 2.7262e-01],\n",
       "        [8.0000e-01, 4.1535e-01],\n",
       "        [9.0000e-01, 5.1389e-01],\n",
       "        [9.9000e-01, 1.7472e+00],\n",
       "        [9.9900e-01, 2.7046e+01]], device='cuda:2')"
      ]
     },
     "execution_count": 6,
     "metadata": {},
     "output_type": "execute_result"
    }
   ],
   "source": [
    "torch.stack([quantile_tensor, quantiles.mean(dim=0)]).T"
   ]
  }
 ],
 "metadata": {
  "kernelspec": {
   "display_name": ".venv",
   "language": "python",
   "name": "python3"
  },
  "language_info": {
   "codemirror_mode": {
    "name": "ipython",
    "version": 3
   },
   "file_extension": ".py",
   "mimetype": "text/x-python",
   "name": "python",
   "nbconvert_exporter": "python",
   "pygments_lexer": "ipython3",
   "version": "3.10.12"
  }
 },
 "nbformat": 4,
 "nbformat_minor": 2
}

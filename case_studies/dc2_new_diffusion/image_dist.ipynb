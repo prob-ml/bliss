{
 "cells": [
  {
   "cell_type": "code",
   "execution_count": 1,
   "metadata": {},
   "outputs": [],
   "source": [
    "import torch\n",
    "import tqdm\n",
    "\n",
    "from hydra import initialize, compose\n",
    "from hydra.utils import instantiate\n",
    "from pytorch_lightning.utilities import move_data_to_device\n",
    "\n",
    "from bliss.surveys.dc2 import DC2DataModule\n",
    "from case_studies.dc2_diffusion.utils.catalog_parser import CatalogParser\n",
    "from bliss.global_env import GlobalEnv"
   ]
  },
  {
   "cell_type": "code",
   "execution_count": 2,
   "metadata": {},
   "outputs": [],
   "source": [
    "device = torch.device(\"cuda:2\" if torch.cuda.is_available() else \"cpu\")\n",
    "with initialize(config_path=\"./ynet_diffusion_config\", version_base=None):\n",
    "    new_diffusion_notebook_cfg = compose(\"ynet_diffusion_notebook_config\")"
   ]
  },
  {
   "cell_type": "code",
   "execution_count": 3,
   "metadata": {},
   "outputs": [],
   "source": [
    "tile_slen = new_diffusion_notebook_cfg.surveys.dc2.tile_slen\n",
    "max_sources_per_tile = new_diffusion_notebook_cfg.surveys.dc2.max_sources_per_tile\n",
    "r_band_min_flux = new_diffusion_notebook_cfg.notebook_var.r_band_min_flux\n",
    "\n",
    "dc2: DC2DataModule = instantiate(new_diffusion_notebook_cfg.surveys.dc2)\n",
    "dc2.batch_size = 256\n",
    "dc2.setup(stage=\"fit\")\n",
    "GlobalEnv.current_encoder_epoch = 1\n",
    "GlobalEnv.seed_in_this_program = 7272\n",
    "dc2_val_dataloader = dc2.val_dataloader()\n",
    "\n",
    "catalog_parser: CatalogParser = instantiate(new_diffusion_notebook_cfg.encoder.catalog_parser)"
   ]
  },
  {
   "cell_type": "code",
   "execution_count": 4,
   "metadata": {},
   "outputs": [
    {
     "name": "stderr",
     "output_type": "stream",
     "text": [
      "100%|██████████| 98/98 [00:14<00:00,  6.93it/s]\n"
     ]
    }
   ],
   "source": [
    "quantiles = []\n",
    "dc2_val_dataloader = dc2.val_dataloader()\n",
    "quantile_tensor = torch.tensor([0.001, 0.01, 0.1, 0.2, 0.3, 0.5, 0.8, 0.9, 0.99, 0.999], device=device)\n",
    "for batch in tqdm.tqdm(dc2_val_dataloader):\n",
    "    batch = move_data_to_device(batch, device=device)\n",
    "    # quantiles.append(torch.norm(batch[\"images\"], dim=1, p=2).quantile(q=quantile_tensor))\n",
    "    quantiles.append(batch[\"images\"].quantile(q=quantile_tensor))\n",
    "quantiles = torch.stack(quantiles)"
   ]
  },
  {
   "cell_type": "code",
   "execution_count": 5,
   "metadata": {},
   "outputs": [
    {
     "data": {
      "text/plain": [
       "tensor([[ 1.0000e-03, -6.2135e-01],\n",
       "        [ 1.0000e-02, -3.9222e-01],\n",
       "        [ 1.0000e-01, -1.0976e-01],\n",
       "        [ 2.0000e-01, -4.8438e-02],\n",
       "        [ 3.0000e-01, -2.3607e-02],\n",
       "        [ 5.0000e-01,  7.4611e-03],\n",
       "        [ 8.0000e-01,  7.6441e-02],\n",
       "        [ 9.0000e-01,  1.6448e-01],\n",
       "        [ 9.9000e-01,  7.0327e-01],\n",
       "        [ 9.9900e-01,  9.4697e+00]], device='cuda:2')"
      ]
     },
     "execution_count": 5,
     "metadata": {},
     "output_type": "execute_result"
    }
   ],
   "source": [
    "torch.stack([quantile_tensor, quantiles.mean(dim=0)]).T"
   ]
  }
 ],
 "metadata": {
  "kernelspec": {
   "display_name": ".venv",
   "language": "python",
   "name": "python3"
  },
  "language_info": {
   "codemirror_mode": {
    "name": "ipython",
    "version": 3
   },
   "file_extension": ".py",
   "mimetype": "text/x-python",
   "name": "python",
   "nbconvert_exporter": "python",
   "pygments_lexer": "ipython3",
   "version": "3.10.12"
  }
 },
 "nbformat": 4,
 "nbformat_minor": 2
}

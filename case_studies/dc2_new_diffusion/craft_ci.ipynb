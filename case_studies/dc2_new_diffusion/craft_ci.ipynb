{
 "cells": [
  {
   "cell_type": "code",
   "execution_count": null,
   "metadata": {},
   "outputs": [],
   "source": [
    "import torch\n",
    "import tqdm\n",
    "import os\n",
    "\n",
    "import matplotlib.pyplot as plt\n",
    "import seaborn as sns\n",
    "from einops import rearrange, repeat\n",
    "from pathlib import Path\n",
    "\n",
    "from hydra import initialize, compose\n",
    "from hydra.utils import instantiate\n",
    "import pytorch_lightning\n",
    "from pytorch_lightning.utilities import move_data_to_device\n",
    "\n",
    "from bliss.surveys.dc2 import DC2DataModule\n",
    "from bliss.catalog import TileCatalog\n",
    "from case_studies.dc2_new_diffusion.utils.encoder import DiffusionEncoder"
   ]
  },
  {
   "cell_type": "code",
   "execution_count": null,
   "metadata": {},
   "outputs": [],
   "source": [
    "model_name = \"exp_03-16-3\"\n",
    "model_check_point_name = \"encoder_113.ckpt\"\n",
    "model_path = f\"../../../bliss_output/DC2_ynet_full_diffusion_exp/{model_name}/checkpoints/{model_check_point_name}\"\n",
    "cached_data_path = Path(\"/data/scratch/pduan/posterior_cached_files\")\n",
    "device = torch.device(\"cuda:2\" if torch.cuda.is_available() else \"cpu\")\n",
    "with initialize(config_path=\"./ynet_diffusion_config\", version_base=None):\n",
    "    new_diffusion_notebook_cfg = compose(\"ynet_full_diffusion_notebook_config\")"
   ]
  },
  {
   "cell_type": "code",
   "execution_count": null,
   "metadata": {},
   "outputs": [],
   "source": [
    "seed = 7272\n",
    "pytorch_lightning.seed_everything(seed=seed)"
   ]
  },
  {
   "cell_type": "code",
   "execution_count": null,
   "metadata": {},
   "outputs": [],
   "source": [
    "tile_slen = new_diffusion_notebook_cfg.surveys.dc2.tile_slen\n",
    "max_sources_per_tile = new_diffusion_notebook_cfg.surveys.dc2.max_sources_per_tile\n",
    "r_band_min_flux = new_diffusion_notebook_cfg.notebook_var.r_band_min_flux\n",
    "\n",
    "batch_size = 128\n",
    "dc2: DC2DataModule = instantiate(new_diffusion_notebook_cfg.surveys.dc2)\n",
    "dc2.batch_size = batch_size\n",
    "dc2.setup(stage=\"validate\")\n",
    "dc2_val_dataloader = dc2.val_dataloader()\n",
    "\n",
    "bliss_encoder: DiffusionEncoder = instantiate(new_diffusion_notebook_cfg.encoder).to(device=device)\n",
    "pretrained_weights = torch.load(model_path, map_location=device)[\"state_dict\"]\n",
    "bliss_encoder.load_state_dict(pretrained_weights)\n",
    "bliss_encoder.eval();"
   ]
  },
  {
   "cell_type": "code",
   "execution_count": null,
   "metadata": {},
   "outputs": [],
   "source": [
    "print(bliss_encoder.ddim_steps)\n",
    "print(bliss_encoder.ddim_objective)\n",
    "print(bliss_encoder.ddim_beta_schedule)\n",
    "print(bliss_encoder.detection_diffusion.ddim_sampling_eta)\n",
    "print(bliss_encoder.ddim_self_cond)\n",
    "print(bliss_encoder.catalog_parser.factors[0].threshold)"
   ]
  },
  {
   "cell_type": "code",
   "execution_count": null,
   "metadata": {},
   "outputs": [],
   "source": [
    "ddim_steps = 500\n",
    "bliss_encoder.ddim_steps = ddim_steps\n",
    "bliss_encoder.detection_diffusion.sampling_timesteps = ddim_steps\n",
    "bliss_encoder.detection_diffusion.ddim_sampling_eta = 1.0\n",
    "bliss_encoder.catalog_parser.factors[0].threshold = 0.0"
   ]
  },
  {
   "cell_type": "code",
   "execution_count": null,
   "metadata": {},
   "outputs": [],
   "source": [
    "one_batch = next(iter(dc2_val_dataloader))\n",
    "one_batch = move_data_to_device(one_batch, device=device)"
   ]
  },
  {
   "cell_type": "code",
   "execution_count": null,
   "metadata": {},
   "outputs": [],
   "source": [
    "target_tile_cat = TileCatalog(one_batch[\"tile_catalog\"])\n",
    "target_images = one_batch[\"images\"]\n",
    "target_n_sources = target_tile_cat[\"n_sources\"]\n",
    "target_tile_cat = target_tile_cat.get_brightest_sources_per_tile(band=2)\n",
    "target_locs = target_tile_cat[\"locs\"]\n",
    "target_fluxes = target_tile_cat[\"fluxes\"]\n",
    "target_ellipticity = target_tile_cat[\"ellipticity\"]"
   ]
  },
  {
   "cell_type": "code",
   "execution_count": null,
   "metadata": {},
   "outputs": [],
   "source": [
    "total_iters = 100\n",
    "diffusion_cached_file_name = f\"diffusion_posterior_{model_name}_{model_check_point_name}_b_{batch_size}_iter_{total_iters}_seed_{seed}.pt\"\n",
    "if not os.path.isfile(cached_data_path / diffusion_cached_file_name):\n",
    "    print(\"can't find cached file; rerun the inference\")\n",
    "    init_n_sources = None\n",
    "    n_sources_list = []\n",
    "    locs_list = []\n",
    "    fluxes_list = []\n",
    "    for i in tqdm.tqdm(range(total_iters)):\n",
    "        with torch.inference_mode():\n",
    "            sample_tile_cat, _ = bliss_encoder.sample(one_batch, return_inter_output=False)\n",
    "        if init_n_sources is None:\n",
    "            init_n_sources = rearrange(sample_tile_cat[\"n_sources_multi\"], \"b h w 1 1 -> b h w\")\n",
    "        cur_n_sources = rearrange(sample_tile_cat[\"n_sources_multi\"], \"b h w 1 1 -> b h w\")\n",
    "        init_n_sources_mask = init_n_sources > 0\n",
    "        cur_n_sources_mask = cur_n_sources > 0\n",
    "        nan_mask = (~(init_n_sources_mask & cur_n_sources_mask)) & init_n_sources_mask\n",
    "        nan_mask = rearrange(nan_mask, \"b h w -> b h w 1 1\")\n",
    "        n_sources_list.append(cur_n_sources.cpu())\n",
    "        locs = sample_tile_cat[\"locs\"][..., 0:1, :]  # (b, h, w, 1, 2)\n",
    "        locs_list.append(\n",
    "            torch.where(nan_mask, torch.nan, locs).cpu()\n",
    "        )\n",
    "        fluxes = sample_tile_cat[\"fluxes\"][..., 0:1, :]  # (b, h, w, 1, 6)\n",
    "        fluxes_list.append(\n",
    "            torch.where(nan_mask, torch.nan, fluxes).cpu()\n",
    "        )\n",
    "\n",
    "    diffusion_result_dict = {\n",
    "        \"init_n_sources\": init_n_sources.cpu(),\n",
    "        \"n_sources_list\": n_sources_list,\n",
    "        \"locs_list\": locs_list,\n",
    "        \"fluxes_list\": fluxes_list,\n",
    "        \"target_images\": target_images.cpu(),\n",
    "        \"target_n_sources\": target_n_sources.cpu(),\n",
    "        \"target_locs\": target_locs.cpu(),\n",
    "        \"target_fluxes\": target_fluxes.cpu(),\n",
    "        \"target_ellipticity\": target_ellipticity.cpu(),\n",
    "    }\n",
    "    torch.save(diffusion_result_dict, cached_data_path / diffusion_cached_file_name)\n",
    "else:\n",
    "    print(\"find the cached file; directly use it\")\n",
    "    with open(cached_data_path / diffusion_cached_file_name, \"rb\") as f:\n",
    "        diffusion_result_dict = torch.load(f, map_location=\"cpu\")"
   ]
  },
  {
   "cell_type": "markdown",
   "metadata": {},
   "source": [
    "### Locs CI"
   ]
  },
  {
   "cell_type": "code",
   "execution_count": null,
   "metadata": {},
   "outputs": [],
   "source": [
    "def get_locs_ci(on_mask_locs, on_mask_target_locs, both_on_mask,\n",
    "                ci_cover: list[float], for_vertical_locs: bool):\n",
    "    left_q_points = [(1.0 - c) / 2 for c in ci_cover]\n",
    "    right_q_points = [1.0 - lq for lq in left_q_points]\n",
    "    actual_ci_cover = []\n",
    "    if for_vertical_locs:\n",
    "        locs_index = 0\n",
    "    else:\n",
    "        locs_index = 1\n",
    "\n",
    "    for q in zip(left_q_points, right_q_points):\n",
    "        q = torch.tensor(q)\n",
    "        on_mask_locs_q = on_mask_locs.nanquantile(q=q, dim=-2).permute([1, 2, 0])  # (matched_sources, 2, 2)\n",
    "        above_lower_bound = on_mask_target_locs[:, locs_index] > on_mask_locs_q[:, locs_index, 0]\n",
    "        below_upper_bound = on_mask_target_locs[:, locs_index] < on_mask_locs_q[:, locs_index, 1]\n",
    "        actual_ci_cover.append((above_lower_bound & below_upper_bound).sum() / both_on_mask.sum())\n",
    "    return actual_ci_cover"
   ]
  },
  {
   "cell_type": "code",
   "execution_count": null,
   "metadata": {},
   "outputs": [],
   "source": [
    "def plot_data_for_locs_ci(result_dict, ci_cover):\n",
    "    init_n_sources = result_dict[\"init_n_sources\"]\n",
    "    locs_list = result_dict[\"locs_list\"]\n",
    "    target_n_sources = result_dict[\"target_n_sources\"]\n",
    "    target_locs = result_dict[\"target_locs\"]\n",
    "\n",
    "    both_on_mask = (target_n_sources > 0) & (init_n_sources > 0)  # (b, h, w)\n",
    "    all_locs = torch.cat(locs_list, dim=-2)  # (b, h, w, iter, 2)\n",
    "    both_on_mask_iter_repeated = repeat(both_on_mask, \n",
    "                                        \"b h w -> b h w iter k\",\n",
    "                                        iter=all_locs.shape[-2],\n",
    "                                        k=all_locs.shape[-1])  # (b, h, w, iter, 2)\n",
    "    both_on_mask_single_repeated = repeat(both_on_mask, \n",
    "                                        \"b h w -> b h w 1 k\",\n",
    "                                        k=all_locs.shape[-1])  # (b, h, w, 1, 2)\n",
    "    on_mask_locs = all_locs[both_on_mask_iter_repeated].view(-1, all_locs.shape[-2], 2)  # (matched_sources, iter, 2)\n",
    "    on_mask_target_locs = target_locs[both_on_mask_single_repeated].view(-1, 2)  # (matched_sources, 2)\n",
    "    v_ci_cover = get_locs_ci(on_mask_locs, on_mask_target_locs, both_on_mask,\n",
    "                             ci_cover=ci_cover,\n",
    "                             for_vertical_locs=True)\n",
    "    h_ci_cover = get_locs_ci(on_mask_locs, on_mask_target_locs, both_on_mask,\n",
    "                             ci_cover=ci_cover,\n",
    "                             for_vertical_locs=False)\n",
    "    return v_ci_cover, h_ci_cover"
   ]
  },
  {
   "cell_type": "code",
   "execution_count": null,
   "metadata": {},
   "outputs": [],
   "source": [
    "ci_cover = [i / 100 for i in range(5, 100, 5)]\n",
    "diffusion_v_ci_cover, diffusion_h_ci_cover = plot_data_for_locs_ci(diffusion_result_dict, ci_cover)"
   ]
  },
  {
   "cell_type": "code",
   "execution_count": null,
   "metadata": {},
   "outputs": [],
   "source": [
    "plt.figure(figsize=(10, 10))\n",
    "plt.plot(ci_cover, diffusion_v_ci_cover, label=\"Diffusion\")\n",
    "plt.plot(ci_cover, ci_cover, linestyle=\"dashed\", label=\"Expected Coverage\")\n",
    "plt.xlabel(\"Expected Vertical Locs CI Coverage\")\n",
    "plt.ylabel(\"Actual Vertical Locs CI Coverage\")\n",
    "plt.legend()\n",
    "plt.xticks(ci_cover)\n",
    "plt.yticks(ci_cover)\n",
    "plt.grid()\n",
    "plt.show()"
   ]
  },
  {
   "cell_type": "code",
   "execution_count": null,
   "metadata": {},
   "outputs": [],
   "source": [
    "plt.figure(figsize=(10, 10))\n",
    "plt.plot(ci_cover, diffusion_h_ci_cover, label=\"Diffusion\")\n",
    "plt.plot(ci_cover, ci_cover, linestyle=\"dashed\", label=\"Expected Coverage\")\n",
    "plt.xlabel(\"Expected Horizontal Locs CI Coverage\")\n",
    "plt.ylabel(\"Actual Horizontal Locs CI Coverage\")\n",
    "plt.legend()\n",
    "plt.xticks(ci_cover)\n",
    "plt.yticks(ci_cover)\n",
    "plt.grid()\n",
    "plt.show()"
   ]
  },
  {
   "cell_type": "markdown",
   "metadata": {},
   "source": [
    "### N sources CI"
   ]
  },
  {
   "cell_type": "code",
   "execution_count": null,
   "metadata": {},
   "outputs": [],
   "source": [
    "def plot_data_for_n_sources_ci(result_dict):\n",
    "    n_sources_list = result_dict[\"n_sources_list\"]\n",
    "    target_n_sources = result_dict[\"target_n_sources\"]\n",
    "\n",
    "    est_n_sources_percent = (torch.stack(n_sources_list, dim=-1) > 0).float().mean(dim=-1)\n",
    "    target_n_sources_mask = target_n_sources > 0\n",
    "\n",
    "    boundaries = torch.tensor([-0.1, ] + [i / 100 for i in range(10, 100, 10)] + [1.1, ])\n",
    "    est_n_sources_percent_bin = torch.bucketize(est_n_sources_percent, boundaries=boundaries)\n",
    "    est_n_sources_percent_bin -= 1\n",
    "    bins = list(zip(boundaries[:-1].tolist(), boundaries[1:].tolist()))\n",
    "\n",
    "    bin_masks = [est_n_sources_percent_bin == i for i in range(len(bins))]\n",
    "    true_n_sources_percent = [(target_n_sources_mask[m].sum() / m.sum()).item() for m in bin_masks]\n",
    "    return bins, true_n_sources_percent, est_n_sources_percent_bin"
   ]
  },
  {
   "cell_type": "code",
   "execution_count": null,
   "metadata": {},
   "outputs": [],
   "source": [
    "bins, diffusion_true_ns_percent, diffusion_est_ns_percent_bin = plot_data_for_n_sources_ci(diffusion_result_dict)"
   ]
  },
  {
   "cell_type": "code",
   "execution_count": null,
   "metadata": {},
   "outputs": [],
   "source": [
    "x = list(range(len(bins)))\n",
    "_, _, patches = plt.hist(diffusion_est_ns_percent_bin.flatten(), \n",
    "                         bins=x + [len(bins), ], log=True,\n",
    "                         edgecolor=\"black\", facecolor=\"skyblue\")\n",
    "plt.bar_label(patches, fmt=\"%.1e\", fontsize=7)\n",
    "plt.xlabel(\"Bin\")\n",
    "plt.xticks([xx + 0.5 for xx in x], \n",
    "           labels=[\"[0.00, 0.10]\", ] + \\\n",
    "                  [f\"[{bl:.2f}, {br:.2f}]\" for bl, br in bins[1:-1]] + \\\n",
    "                  [\"[0.90, 1.00]\", ], \n",
    "           rotation=45)\n",
    "plt.ylabel(\"Count\")\n",
    "plt.show()"
   ]
  },
  {
   "cell_type": "code",
   "execution_count": null,
   "metadata": {},
   "outputs": [],
   "source": [
    "refer_n_sources_prob = [i / 100 for i in range(5, 96, 10)]\n",
    "x = list(range(len(bins)))\n",
    "plt.plot(x, diffusion_true_ns_percent, label=\"Diffusion\")\n",
    "plt.plot(x, refer_n_sources_prob, linestyle=\"dashed\", label=\"Expected\")\n",
    "plt.yticks(refer_n_sources_prob)\n",
    "plt.xticks(x, \n",
    "           labels=[\"[0.00, 0.10]\", ] + \\\n",
    "                  [f\"[{bl:.2f}, {br:.2f}]\" for bl, br in bins[1:-1]] + \\\n",
    "                  [\"[0.90, 1.00]\", ], \n",
    "           rotation=45)\n",
    "plt.xlabel(\"Diffusion Estimated N Sources Probability\")\n",
    "plt.ylabel(\"Actual Probability of Bins\")\n",
    "plt.grid()\n",
    "plt.legend()\n",
    "plt.show()"
   ]
  }
 ],
 "metadata": {
  "kernelspec": {
   "display_name": ".venv",
   "language": "python",
   "name": "python3"
  },
  "language_info": {
   "codemirror_mode": {
    "name": "ipython",
    "version": 3
   },
   "file_extension": ".py",
   "mimetype": "text/x-python",
   "name": "python",
   "nbconvert_exporter": "python",
   "pygments_lexer": "ipython3",
   "version": "3.10.12"
  }
 },
 "nbformat": 4,
 "nbformat_minor": 2
}

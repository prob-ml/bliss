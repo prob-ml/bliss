{
 "cells": [
  {
   "cell_type": "code",
   "execution_count": null,
   "metadata": {},
   "outputs": [],
   "source": [
    "import torch\n",
    "import tqdm\n",
    "\n",
    "import matplotlib.pyplot as plt\n",
    "from einops import rearrange, repeat\n",
    "\n",
    "from hydra import initialize, compose\n",
    "from hydra.utils import instantiate\n",
    "from pytorch_lightning.utilities import move_data_to_device\n",
    "\n",
    "from bliss.surveys.dc2 import DC2DataModule\n",
    "from bliss.catalog import TileCatalog\n",
    "from case_studies.dc2_new_diffusion.utils.encoder import DiffusionEncoder"
   ]
  },
  {
   "cell_type": "code",
   "execution_count": null,
   "metadata": {},
   "outputs": [],
   "source": [
    "model_name = \"exp_02-05-1\"\n",
    "model_check_point_name = \"encoder_48.ckpt\"\n",
    "model_path = f\"../../../bliss_output/DC2_ynet_diffusion_exp/{model_name}/checkpoints/{model_check_point_name}\"\n",
    "device = torch.device(\"cuda:4\" if torch.cuda.is_available() else \"cpu\")\n",
    "with initialize(config_path=\"./ynet_diffusion_config\", version_base=None):\n",
    "    new_diffusion_notebook_cfg = compose(\"ynet_diffusion_notebook_config\")"
   ]
  },
  {
   "cell_type": "code",
   "execution_count": null,
   "metadata": {},
   "outputs": [],
   "source": [
    "tile_slen = new_diffusion_notebook_cfg.surveys.dc2.tile_slen\n",
    "max_sources_per_tile = new_diffusion_notebook_cfg.surveys.dc2.max_sources_per_tile\n",
    "r_band_min_flux = new_diffusion_notebook_cfg.notebook_var.r_band_min_flux\n",
    "\n",
    "dc2: DC2DataModule = instantiate(new_diffusion_notebook_cfg.surveys.dc2)\n",
    "dc2.batch_size = 128\n",
    "dc2.setup(stage=\"validate\")\n",
    "dc2_val_dataloader = dc2.val_dataloader()\n",
    "\n",
    "bliss_encoder: DiffusionEncoder = instantiate(new_diffusion_notebook_cfg.encoder).to(device=device)\n",
    "pretrained_weights = torch.load(model_path, map_location=device)[\"state_dict\"]\n",
    "bliss_encoder.load_state_dict(pretrained_weights)\n",
    "bliss_encoder.eval();"
   ]
  },
  {
   "cell_type": "code",
   "execution_count": null,
   "metadata": {},
   "outputs": [],
   "source": [
    "print(bliss_encoder.ddim_steps)\n",
    "print(bliss_encoder.ddim_objective)\n",
    "print(bliss_encoder.ddim_beta_schedule)"
   ]
  },
  {
   "cell_type": "code",
   "execution_count": null,
   "metadata": {},
   "outputs": [],
   "source": [
    "print(bliss_encoder.catalog_parser.factors[0].threshold)"
   ]
  },
  {
   "cell_type": "code",
   "execution_count": null,
   "metadata": {},
   "outputs": [],
   "source": [
    "bliss_encoder.catalog_parser.factors[0].threshold = 0.0"
   ]
  },
  {
   "cell_type": "code",
   "execution_count": null,
   "metadata": {},
   "outputs": [],
   "source": [
    "ddim_steps = 1000\n",
    "bliss_encoder.ddim_steps = ddim_steps\n",
    "bliss_encoder.detection_diffusion.sampling_timesteps = ddim_steps"
   ]
  },
  {
   "cell_type": "code",
   "execution_count": null,
   "metadata": {},
   "outputs": [],
   "source": [
    "one_batch = next(iter(dc2_val_dataloader))\n",
    "one_batch = move_data_to_device(one_batch, device=device)"
   ]
  },
  {
   "cell_type": "code",
   "execution_count": null,
   "metadata": {},
   "outputs": [],
   "source": [
    "bliss_encoder.detection_diffusion.ddim_sampling_eta = 1.0"
   ]
  },
  {
   "cell_type": "code",
   "execution_count": null,
   "metadata": {},
   "outputs": [],
   "source": [
    "target_tile_cat = TileCatalog(one_batch[\"tile_catalog\"]).get_brightest_sources_per_tile(band=2)\n",
    "target_n_sources = target_tile_cat[\"n_sources\"]\n",
    "target_locs = target_tile_cat[\"locs\"]"
   ]
  },
  {
   "cell_type": "code",
   "execution_count": null,
   "metadata": {},
   "outputs": [],
   "source": [
    "init_n_sources = None\n",
    "locs_list = []\n",
    "total_iters = 50\n",
    "for i in tqdm.tqdm(range(total_iters)):\n",
    "    with torch.no_grad():\n",
    "        sample_tile_cat, _ = bliss_encoder.sample(one_batch, return_inter_output=False)\n",
    "    if init_n_sources is None:\n",
    "        init_n_sources = sample_tile_cat[\"n_sources\"] > 0  # (b, h, w)\n",
    "    cur_n_sources = sample_tile_cat[\"n_sources\"] > 0\n",
    "    nan_mask = (~(init_n_sources & cur_n_sources)) & init_n_sources\n",
    "    nan_mask = rearrange(nan_mask, \n",
    "                         \"b h w -> b h w 1 1\")\n",
    "    \n",
    "    locs = sample_tile_cat[\"locs\"]  # (b, h, w, 1, 2)\n",
    "    locs_list.append(\n",
    "        torch.where(nan_mask, torch.nan, locs).cpu()\n",
    "    )"
   ]
  },
  {
   "cell_type": "code",
   "execution_count": null,
   "metadata": {},
   "outputs": [],
   "source": [
    "both_on_mask = ((target_n_sources > 0) & init_n_sources).cpu()  # (b, h, w)\n",
    "all_locs = torch.cat(locs_list, dim=-2)  # (b, h, w, iter, 2)\n",
    "both_on_mask_iter_repeated = repeat(both_on_mask, \n",
    "                                \"b h w -> b h w iter k\",\n",
    "                                iter=all_locs.shape[-2],\n",
    "                                k=all_locs.shape[-1])  # (b, h, w, iter, 2)\n",
    "both_on_mask_single_repeated = repeat(both_on_mask, \n",
    "                                \"b h w -> b h w 1 k\",\n",
    "                                k=all_locs.shape[-1])  # (b, h, w, 1, 2)"
   ]
  },
  {
   "cell_type": "code",
   "execution_count": null,
   "metadata": {},
   "outputs": [],
   "source": [
    "on_mask_locs = torch.masked_select(all_locs, both_on_mask_iter_repeated).view(-1, total_iters, 2)  # (matched_sources, iter, 2)\n",
    "on_mask_target_locs = torch.masked_select(target_locs.cpu(), both_on_mask_single_repeated).view(-1, 2)  # (matched_sources, 1, 2)"
   ]
  },
  {
   "cell_type": "code",
   "execution_count": null,
   "metadata": {},
   "outputs": [],
   "source": [
    "on_mask_locs.shape, on_mask_target_locs.shape"
   ]
  },
  {
   "cell_type": "code",
   "execution_count": null,
   "metadata": {},
   "outputs": [],
   "source": [
    "both_on_mask.sum()"
   ]
  },
  {
   "cell_type": "code",
   "execution_count": null,
   "metadata": {},
   "outputs": [],
   "source": [
    "on_mask_locs_q = on_mask_locs.nanquantile(q=torch.tensor([0.05, 0.95]), dim=-2).permute([1, 2, 0])  # (matched_sources, 2, 2)"
   ]
  },
  {
   "cell_type": "code",
   "execution_count": null,
   "metadata": {},
   "outputs": [],
   "source": [
    "((on_mask_target_locs[:, 0] > on_mask_locs_q[:, 0, 0]) & \\\n",
    "  (on_mask_target_locs[:, 0] < on_mask_locs_q[:, 0, 1])).sum() / both_on_mask.sum()"
   ]
  },
  {
   "cell_type": "code",
   "execution_count": null,
   "metadata": {},
   "outputs": [],
   "source": [
    "on_mask_target_locs[50:60, 0]"
   ]
  },
  {
   "cell_type": "code",
   "execution_count": null,
   "metadata": {},
   "outputs": [],
   "source": [
    "on_mask_locs_q[50:60, 0]"
   ]
  }
 ],
 "metadata": {
  "kernelspec": {
   "display_name": ".venv",
   "language": "python",
   "name": "python3"
  },
  "language_info": {
   "codemirror_mode": {
    "name": "ipython",
    "version": 3
   },
   "file_extension": ".py",
   "mimetype": "text/x-python",
   "name": "python",
   "nbconvert_exporter": "python",
   "pygments_lexer": "ipython3",
   "version": "3.10.12"
  }
 },
 "nbformat": 4,
 "nbformat_minor": 2
}

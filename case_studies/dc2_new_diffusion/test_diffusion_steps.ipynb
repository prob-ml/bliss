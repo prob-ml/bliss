{
 "cells": [
  {
   "cell_type": "code",
   "execution_count": 1,
   "metadata": {},
   "outputs": [],
   "source": [
    "import torch\n",
    "import tqdm\n",
    "\n",
    "from hydra import initialize, compose\n",
    "from hydra.utils import instantiate\n",
    "import pytorch_lightning\n",
    "from pytorch_lightning.utilities import move_data_to_device\n",
    "\n",
    "from bliss.surveys.dc2 import DC2DataModule\n",
    "\n",
    "from case_studies.dc2_new_diffusion.utils.encoder import DiffusionEncoder"
   ]
  },
  {
   "cell_type": "code",
   "execution_count": 2,
   "metadata": {},
   "outputs": [],
   "source": [
    "model_name = \"exp_03-16-3\"\n",
    "model_check_point_name = \"encoder_113.ckpt\"\n",
    "model_path = f\"../../../bliss_output/DC2_ynet_full_diffusion_exp/{model_name}/checkpoints/{model_check_point_name}\"\n",
    "device = torch.device(\"cuda:2\" if torch.cuda.is_available() else \"cpu\")\n",
    "with initialize(config_path=\"./ynet_diffusion_config\", version_base=None):\n",
    "    new_diffusion_notebook_cfg = compose(\"ynet_full_diffusion_notebook_config\")"
   ]
  },
  {
   "cell_type": "code",
   "execution_count": 3,
   "metadata": {},
   "outputs": [
    {
     "name": "stderr",
     "output_type": "stream",
     "text": [
      "Seed set to 7272\n"
     ]
    },
    {
     "data": {
      "text/plain": [
       "7272"
      ]
     },
     "execution_count": 3,
     "metadata": {},
     "output_type": "execute_result"
    }
   ],
   "source": [
    "seed = 7272\n",
    "pytorch_lightning.seed_everything(seed=seed)"
   ]
  },
  {
   "cell_type": "code",
   "execution_count": 4,
   "metadata": {},
   "outputs": [],
   "source": [
    "tile_slen = new_diffusion_notebook_cfg.surveys.dc2.tile_slen\n",
    "max_sources_per_tile = new_diffusion_notebook_cfg.surveys.dc2.max_sources_per_tile\n",
    "r_band_min_flux = new_diffusion_notebook_cfg.notebook_var.r_band_min_flux\n",
    "\n",
    "dc2: DC2DataModule = instantiate(new_diffusion_notebook_cfg.surveys.dc2)\n",
    "dc2.batch_size = 512\n",
    "dc2.setup(stage=\"validate\")\n",
    "dc2_val_dataloader = dc2.val_dataloader()\n",
    "\n",
    "bliss_encoder: DiffusionEncoder = instantiate(new_diffusion_notebook_cfg.encoder).to(device=device)\n",
    "pretrained_weights = torch.load(model_path, map_location=device)[\"state_dict\"]\n",
    "bliss_encoder.load_state_dict(pretrained_weights)\n",
    "bliss_encoder.eval();"
   ]
  },
  {
   "cell_type": "code",
   "execution_count": 5,
   "metadata": {},
   "outputs": [
    {
     "name": "stdout",
     "output_type": "stream",
     "text": [
      "5\n",
      "pred_noise\n",
      "cosine\n",
      "0.0\n",
      "False\n",
      "0.0\n"
     ]
    }
   ],
   "source": [
    "print(bliss_encoder.ddim_steps)\n",
    "print(bliss_encoder.ddim_objective)\n",
    "print(bliss_encoder.ddim_beta_schedule)\n",
    "print(bliss_encoder.detection_diffusion.ddim_sampling_eta)\n",
    "print(bliss_encoder.ddim_self_cond)\n",
    "print(bliss_encoder.catalog_parser.factors[0].threshold)"
   ]
  },
  {
   "cell_type": "code",
   "execution_count": 6,
   "metadata": {},
   "outputs": [],
   "source": [
    "bliss_encoder.catalog_parser.factors[0].threshold = 0.0"
   ]
  },
  {
   "cell_type": "code",
   "execution_count": null,
   "metadata": {},
   "outputs": [
    {
     "name": "stderr",
     "output_type": "stream",
     "text": [
      "100%|██████████| 49/49 [01:27<00:00,  1.78s/it]\n"
     ]
    },
    {
     "name": "stdout",
     "output_type": "stream",
     "text": [
      "(ddim_steps=1) detection_precision: 5.05e-03\n",
      "(ddim_steps=1) detection_recall: 1.45e-01\n",
      "(ddim_steps=1) detection_f1: 9.77e-03\n",
      "(ddim_steps=1) n_true_sources: 1.56e+05\n",
      "(ddim_steps=1) n_est_sources: 4.48e+06\n",
      "(ddim_steps=1) flux_err_u_mae: 6.15e+09\n",
      "(ddim_steps=1) flux_err_u_mpe: -9.54e+07\n",
      "(ddim_steps=1) flux_err_u_mape: 9.54e+07\n",
      "(ddim_steps=1) flux_err_g_mae: 5.28e+09\n",
      "(ddim_steps=1) flux_err_g_mpe: -3.90e+07\n",
      "(ddim_steps=1) flux_err_g_mape: 3.90e+07\n",
      "(ddim_steps=1) flux_err_r_mae: 5.48e+09\n",
      "(ddim_steps=1) flux_err_r_mpe: -2.51e+07\n",
      "(ddim_steps=1) flux_err_r_mape: 2.51e+07\n",
      "(ddim_steps=1) flux_err_i_mae: 6.13e+09\n",
      "(ddim_steps=1) flux_err_i_mpe: -2.05e+07\n",
      "(ddim_steps=1) flux_err_i_mape: 2.05e+07\n",
      "(ddim_steps=1) flux_err_z_mae: 5.90e+09\n",
      "(ddim_steps=1) flux_err_z_mpe: -1.67e+07\n",
      "(ddim_steps=1) flux_err_z_mape: 1.67e+07\n",
      "(ddim_steps=1) flux_err_y_mae: 6.76e+09\n",
      "(ddim_steps=1) flux_err_y_mpe: -1.68e+07\n",
      "(ddim_steps=1) flux_err_y_mape: 1.68e+07\n",
      "(ddim_steps=1) n_sources:s0_precision: 9.97e-01\n",
      "(ddim_steps=1) n_sources:s0_recall: 5.59e-01\n",
      "(ddim_steps=1) n_sources:s0_f1: 7.17e-01\n",
      "(ddim_steps=1) n_sources:n_est_s0: 5.52e+06\n",
      "(ddim_steps=1) n_sources:n_true_s0: 9.85e+06\n",
      "(ddim_steps=1) n_sources:s1_precision: 4.35e-02\n",
      "(ddim_steps=1) n_sources:s1_recall: 6.12e-01\n",
      "(ddim_steps=1) n_sources:s1_f1: 8.12e-02\n",
      "(ddim_steps=1) n_sources:n_est_s1: 2.15e+06\n",
      "(ddim_steps=1) n_sources:n_true_s1: 1.53e+05\n",
      "(ddim_steps=1) n_sources:s2_precision: 1.53e-05\n",
      "(ddim_steps=1) n_sources:s2_recall: 1.72e-02\n",
      "(ddim_steps=1) n_sources:s2_f1: 3.07e-05\n",
      "(ddim_steps=1) n_sources:n_est_s2: 1.56e+06\n",
      "(ddim_steps=1) n_sources:n_true_s2: 1.40e+03\n",
      "(ddim_steps=1) n_sources:s3_precision: 7.85e-06\n",
      "(ddim_steps=1) n_sources:s3_recall: 5.45e-01\n",
      "(ddim_steps=1) n_sources:s3_f1: 1.57e-05\n",
      "(ddim_steps=1) n_sources:n_est_s3: 7.64e+05\n",
      "(ddim_steps=1) n_sources:n_true_s3: 1.10e+01\n"
     ]
    },
    {
     "name": "stderr",
     "output_type": "stream",
     "text": [
      "100%|██████████| 49/49 [01:49<00:00,  2.24s/it]\n"
     ]
    },
    {
     "name": "stdout",
     "output_type": "stream",
     "text": [
      "(ddim_steps=2) detection_precision: 1.21e-01\n",
      "(ddim_steps=2) detection_recall: 4.67e-01\n",
      "(ddim_steps=2) detection_f1: 1.93e-01\n",
      "(ddim_steps=2) n_true_sources: 1.56e+05\n",
      "(ddim_steps=2) n_est_sources: 5.99e+05\n",
      "(ddim_steps=2) flux_err_u_mae: 1.69e+05\n",
      "(ddim_steps=2) flux_err_u_mpe: -7.06e+02\n",
      "(ddim_steps=2) flux_err_u_mape: 7.06e+02\n",
      "(ddim_steps=2) flux_err_g_mae: 6.70e+05\n",
      "(ddim_steps=2) flux_err_g_mpe: -6.86e+02\n",
      "(ddim_steps=2) flux_err_g_mape: 6.86e+02\n",
      "(ddim_steps=2) flux_err_r_mae: 4.27e+06\n",
      "(ddim_steps=2) flux_err_r_mpe: -3.05e+03\n",
      "(ddim_steps=2) flux_err_r_mape: 3.05e+03\n",
      "(ddim_steps=2) flux_err_i_mae: 1.49e+06\n",
      "(ddim_steps=2) flux_err_i_mpe: -6.44e+02\n",
      "(ddim_steps=2) flux_err_i_mape: 6.44e+02\n",
      "(ddim_steps=2) flux_err_z_mae: 2.00e+06\n",
      "(ddim_steps=2) flux_err_z_mpe: -6.04e+02\n",
      "(ddim_steps=2) flux_err_z_mape: 6.04e+02\n",
      "(ddim_steps=2) flux_err_y_mae: 2.32e+06\n",
      "(ddim_steps=2) flux_err_y_mpe: -3.44e+02\n",
      "(ddim_steps=2) flux_err_y_mape: 3.44e+02\n",
      "(ddim_steps=2) n_sources:s0_precision: 9.96e-01\n",
      "(ddim_steps=2) n_sources:s0_recall: 9.51e-01\n",
      "(ddim_steps=2) n_sources:s0_f1: 9.73e-01\n",
      "(ddim_steps=2) n_sources:n_est_s0: 9.40e+06\n",
      "(ddim_steps=2) n_sources:n_true_s0: 9.85e+06\n",
      "(ddim_steps=2) n_sources:s1_precision: 2.42e-01\n",
      "(ddim_steps=2) n_sources:s1_recall: 7.62e-01\n",
      "(ddim_steps=2) n_sources:s1_f1: 3.68e-01\n",
      "(ddim_steps=2) n_sources:n_est_s1: 4.81e+05\n",
      "(ddim_steps=2) n_sources:n_true_s1: 1.53e+05\n",
      "(ddim_steps=2) n_sources:s2_precision: 2.60e-04\n",
      "(ddim_steps=2) n_sources:s2_recall: 1.79e-02\n",
      "(ddim_steps=2) n_sources:s2_f1: 5.12e-04\n",
      "(ddim_steps=2) n_sources:n_est_s2: 9.62e+04\n",
      "(ddim_steps=2) n_sources:n_true_s2: 1.40e+03\n",
      "(ddim_steps=2) n_sources:s3_precision: 0.00e+00\n",
      "(ddim_steps=2) n_sources:s3_recall: 0.00e+00\n",
      "(ddim_steps=2) n_sources:s3_f1: 0.00e+00\n",
      "(ddim_steps=2) n_sources:n_est_s3: 2.19e+04\n",
      "(ddim_steps=2) n_sources:n_true_s3: 1.10e+01\n"
     ]
    },
    {
     "name": "stderr",
     "output_type": "stream",
     "text": [
      "100%|██████████| 49/49 [02:46<00:00,  3.39s/it]\n"
     ]
    },
    {
     "name": "stdout",
     "output_type": "stream",
     "text": [
      "(ddim_steps=5) detection_precision: 7.66e-01\n",
      "(ddim_steps=5) detection_recall: 8.13e-01\n",
      "(ddim_steps=5) detection_f1: 7.88e-01\n",
      "(ddim_steps=5) n_true_sources: 1.56e+05\n",
      "(ddim_steps=5) n_est_sources: 1.65e+05\n",
      "(ddim_steps=5) flux_err_u_mae: 3.42e+04\n",
      "(ddim_steps=5) flux_err_u_mpe: -2.02e+00\n",
      "(ddim_steps=5) flux_err_u_mape: 2.29e+00\n",
      "(ddim_steps=5) flux_err_g_mae: 9.09e+04\n",
      "(ddim_steps=5) flux_err_g_mpe: -1.05e+00\n",
      "(ddim_steps=5) flux_err_g_mape: 1.25e+00\n",
      "(ddim_steps=5) flux_err_r_mae: 3.50e+05\n",
      "(ddim_steps=5) flux_err_r_mpe: -2.13e+00\n",
      "(ddim_steps=5) flux_err_r_mape: 2.28e+00\n",
      "(ddim_steps=5) flux_err_i_mae: 1.94e+05\n",
      "(ddim_steps=5) flux_err_i_mpe: -1.76e+00\n",
      "(ddim_steps=5) flux_err_i_mape: 1.85e+00\n",
      "(ddim_steps=5) flux_err_z_mae: 2.17e+05\n",
      "(ddim_steps=5) flux_err_z_mpe: -2.25e+00\n",
      "(ddim_steps=5) flux_err_z_mape: 2.34e+00\n",
      "(ddim_steps=5) flux_err_y_mae: 2.90e+05\n",
      "(ddim_steps=5) flux_err_y_mpe: -1.88e+00\n",
      "(ddim_steps=5) flux_err_y_mape: 2.04e+00\n",
      "(ddim_steps=5) n_sources:s0_precision: 9.97e-01\n",
      "(ddim_steps=5) n_sources:s0_recall: 9.96e-01\n",
      "(ddim_steps=5) n_sources:s0_f1: 9.96e-01\n",
      "(ddim_steps=5) n_sources:n_est_s0: 9.83e+06\n",
      "(ddim_steps=5) n_sources:n_true_s0: 9.85e+06\n",
      "(ddim_steps=5) n_sources:s1_precision: 7.34e-01\n",
      "(ddim_steps=5) n_sources:s1_recall: 7.87e-01\n",
      "(ddim_steps=5) n_sources:s1_f1: 7.60e-01\n",
      "(ddim_steps=5) n_sources:n_est_s1: 1.64e+05\n",
      "(ddim_steps=5) n_sources:n_true_s1: 1.53e+05\n",
      "(ddim_steps=5) n_sources:s2_precision: 2.44e-02\n",
      "(ddim_steps=5) n_sources:s2_recall: 2.44e-02\n",
      "(ddim_steps=5) n_sources:s2_f1: 2.44e-02\n",
      "(ddim_steps=5) n_sources:n_est_s2: 1.39e+03\n",
      "(ddim_steps=5) n_sources:n_true_s2: 1.40e+03\n",
      "(ddim_steps=5) n_sources:s3_precision: 0.00e+00\n",
      "(ddim_steps=5) n_sources:s3_recall: 0.00e+00\n",
      "(ddim_steps=5) n_sources:s3_f1: 0.00e+00\n",
      "(ddim_steps=5) n_sources:n_est_s3: 5.00e+00\n",
      "(ddim_steps=5) n_sources:n_true_s3: 1.10e+01\n"
     ]
    },
    {
     "name": "stderr",
     "output_type": "stream",
     "text": [
      "100%|██████████| 49/49 [04:20<00:00,  5.32s/it]\n"
     ]
    },
    {
     "name": "stdout",
     "output_type": "stream",
     "text": [
      "(ddim_steps=10) detection_precision: 8.15e-01\n",
      "(ddim_steps=10) detection_recall: 8.26e-01\n",
      "(ddim_steps=10) detection_f1: 8.21e-01\n",
      "(ddim_steps=10) n_true_sources: 1.56e+05\n",
      "(ddim_steps=10) n_est_sources: 1.58e+05\n",
      "(ddim_steps=10) flux_err_u_mae: 5.78e+03\n",
      "(ddim_steps=10) flux_err_u_mpe: -3.58e-01\n",
      "(ddim_steps=10) flux_err_u_mape: 5.71e-01\n",
      "(ddim_steps=10) flux_err_g_mae: 1.93e+04\n",
      "(ddim_steps=10) flux_err_g_mpe: -1.37e-01\n",
      "(ddim_steps=10) flux_err_g_mape: 2.94e-01\n",
      "(ddim_steps=10) flux_err_r_mae: 3.23e+04\n",
      "(ddim_steps=10) flux_err_r_mpe: -1.49e-01\n",
      "(ddim_steps=10) flux_err_r_mape: 3.00e-01\n",
      "(ddim_steps=10) flux_err_i_mae: 3.41e+04\n",
      "(ddim_steps=10) flux_err_i_mpe: -1.83e-01\n",
      "(ddim_steps=10) flux_err_i_mape: 3.09e-01\n",
      "(ddim_steps=10) flux_err_z_mae: 3.35e+04\n",
      "(ddim_steps=10) flux_err_z_mpe: -2.50e-01\n",
      "(ddim_steps=10) flux_err_z_mape: 3.78e-01\n",
      "(ddim_steps=10) flux_err_y_mae: 4.04e+04\n",
      "(ddim_steps=10) flux_err_y_mpe: -2.21e-01\n",
      "(ddim_steps=10) flux_err_y_mape: 4.05e-01\n",
      "(ddim_steps=10) n_sources:s0_precision: 9.97e-01\n",
      "(ddim_steps=10) n_sources:s0_recall: 9.96e-01\n",
      "(ddim_steps=10) n_sources:s0_f1: 9.96e-01\n",
      "(ddim_steps=10) n_sources:n_est_s0: 9.84e+06\n",
      "(ddim_steps=10) n_sources:n_true_s0: 9.85e+06\n",
      "(ddim_steps=10) n_sources:s1_precision: 7.60e-01\n",
      "(ddim_steps=10) n_sources:s1_recall: 7.79e-01\n",
      "(ddim_steps=10) n_sources:s1_f1: 7.70e-01\n",
      "(ddim_steps=10) n_sources:n_est_s1: 1.57e+05\n",
      "(ddim_steps=10) n_sources:n_true_s1: 1.53e+05\n",
      "(ddim_steps=10) n_sources:s2_precision: 2.96e-02\n",
      "(ddim_steps=10) n_sources:s2_recall: 2.65e-02\n",
      "(ddim_steps=10) n_sources:s2_f1: 2.80e-02\n",
      "(ddim_steps=10) n_sources:n_est_s2: 1.25e+03\n",
      "(ddim_steps=10) n_sources:n_true_s2: 1.40e+03\n",
      "(ddim_steps=10) n_sources:s3_precision: 0.00e+00\n",
      "(ddim_steps=10) n_sources:s3_recall: 0.00e+00\n",
      "(ddim_steps=10) n_sources:s3_f1: 0.00e+00\n",
      "(ddim_steps=10) n_sources:n_est_s3: 2.00e+00\n",
      "(ddim_steps=10) n_sources:n_true_s3: 1.10e+01\n"
     ]
    },
    {
     "name": "stderr",
     "output_type": "stream",
     "text": [
      "100%|██████████| 49/49 [07:33<00:00,  9.25s/it]\n"
     ]
    },
    {
     "name": "stdout",
     "output_type": "stream",
     "text": [
      "(ddim_steps=20) detection_precision: 8.21e-01\n",
      "(ddim_steps=20) detection_recall: 8.19e-01\n",
      "(ddim_steps=20) detection_f1: 8.20e-01\n",
      "(ddim_steps=20) n_true_sources: 1.56e+05\n",
      "(ddim_steps=20) n_est_sources: 1.55e+05\n",
      "(ddim_steps=20) flux_err_u_mae: 3.90e+03\n",
      "(ddim_steps=20) flux_err_u_mpe: -2.11e-01\n",
      "(ddim_steps=20) flux_err_u_mape: 4.51e-01\n",
      "(ddim_steps=20) flux_err_g_mae: 1.28e+04\n",
      "(ddim_steps=20) flux_err_g_mpe: -6.91e-02\n",
      "(ddim_steps=20) flux_err_g_mape: 2.18e-01\n",
      "(ddim_steps=20) flux_err_r_mae: 2.09e+04\n",
      "(ddim_steps=20) flux_err_r_mpe: -4.44e-02\n",
      "(ddim_steps=20) flux_err_r_mape: 2.01e-01\n",
      "(ddim_steps=20) flux_err_i_mae: 1.90e+04\n",
      "(ddim_steps=20) flux_err_i_mpe: -6.20e-02\n",
      "(ddim_steps=20) flux_err_i_mape: 1.89e-01\n",
      "(ddim_steps=20) flux_err_z_mae: 2.10e+04\n",
      "(ddim_steps=20) flux_err_z_mpe: -8.33e-02\n",
      "(ddim_steps=20) flux_err_z_mape: 2.38e-01\n",
      "(ddim_steps=20) flux_err_y_mae: 2.19e+04\n",
      "(ddim_steps=20) flux_err_y_mpe: -8.63e-02\n",
      "(ddim_steps=20) flux_err_y_mape: 2.90e-01\n",
      "(ddim_steps=20) n_sources:s0_precision: 9.97e-01\n",
      "(ddim_steps=20) n_sources:s0_recall: 9.96e-01\n",
      "(ddim_steps=20) n_sources:s0_f1: 9.97e-01\n",
      "(ddim_steps=20) n_sources:n_est_s0: 9.84e+06\n",
      "(ddim_steps=20) n_sources:n_true_s0: 9.85e+06\n",
      "(ddim_steps=20) n_sources:s1_precision: 7.68e-01\n",
      "(ddim_steps=20) n_sources:s1_recall: 7.74e-01\n",
      "(ddim_steps=20) n_sources:s1_f1: 7.71e-01\n",
      "(ddim_steps=20) n_sources:n_est_s1: 1.54e+05\n",
      "(ddim_steps=20) n_sources:n_true_s1: 1.53e+05\n",
      "(ddim_steps=20) n_sources:s2_precision: 2.69e-02\n",
      "(ddim_steps=20) n_sources:s2_recall: 2.37e-02\n",
      "(ddim_steps=20) n_sources:s2_f1: 2.52e-02\n",
      "(ddim_steps=20) n_sources:n_est_s2: 1.23e+03\n",
      "(ddim_steps=20) n_sources:n_true_s2: 1.40e+03\n",
      "(ddim_steps=20) n_sources:s3_precision: 0.00e+00\n",
      "(ddim_steps=20) n_sources:s3_recall: 0.00e+00\n",
      "(ddim_steps=20) n_sources:s3_f1: 0.00e+00\n",
      "(ddim_steps=20) n_sources:n_est_s3: 0.00e+00\n",
      "(ddim_steps=20) n_sources:n_true_s3: 1.10e+01\n"
     ]
    },
    {
     "name": "stderr",
     "output_type": "stream",
     "text": [
      "  6%|▌         | 3/49 [01:07<16:49, 21.94s/it]"
     ]
    }
   ],
   "source": [
    "for ddim_steps in [1, 2, 5, 10, 20, 50, 100, 200]:\n",
    "    dc2_val_dataloader = dc2.val_dataloader()\n",
    "    bliss_encoder.ddim_steps = ddim_steps\n",
    "    bliss_encoder.detection_diffusion.sampling_timesteps = ddim_steps\n",
    "    \n",
    "    bliss_encoder.mode_metrics.reset()\n",
    "    i = 0\n",
    "    total_batch = len(dc2_val_dataloader)\n",
    "    for batch in tqdm.tqdm(dc2_val_dataloader):\n",
    "        batch_on_device = move_data_to_device(batch, device=device)\n",
    "        with torch.no_grad():\n",
    "            bliss_encoder.update_metrics(batch_on_device, i)\n",
    "        i += 1\n",
    "    for k, v in bliss_encoder.mode_metrics.compute().items():\n",
    "        # if \"detection\" in k:\n",
    "        #     print(f\"(ddim_steps={ddim_steps}) {k}: {v:0.5f}\")\n",
    "        # if \"n_est\" in k:\n",
    "        #     print(f\"(ddim_steps={ddim_steps}) {k}: {int(v)}\")\n",
    "        if \"bin\" not in k:\n",
    "            print(f\"(ddim_steps={ddim_steps}) {k}: {v:.2e}\")"
   ]
  },
  {
   "cell_type": "code",
   "execution_count": null,
   "metadata": {},
   "outputs": [],
   "source": [
    "dc2_val_dataloader = dc2.val_dataloader()\n",
    "bliss_encoder.ddim_steps = 1000\n",
    "bliss_encoder.detection_diffusion.sampling_timesteps = 1000\n",
    "bliss_encoder.detection_diffusion.ddim_sampling_eta = 1.0  # use ddpm\n",
    "\n",
    "bliss_encoder.mode_metrics.reset()\n",
    "i = 0\n",
    "for batch in tqdm.tqdm(dc2_val_dataloader):\n",
    "    batch_on_device = move_data_to_device(batch, device=device)\n",
    "    with torch.no_grad():\n",
    "        bliss_encoder.update_metrics(batch_on_device, i)\n",
    "    i += 1\n",
    "\n",
    "for k, v in bliss_encoder.mode_metrics.compute().items():\n",
    "    if \"detection\" in k:\n",
    "        print(f\"{k}: {v:0.5f}\")\n",
    "    if \"n_est\" in k:\n",
    "        print(f\"{k}: {v}\")"
   ]
  }
 ],
 "metadata": {
  "kernelspec": {
   "display_name": ".venv",
   "language": "python",
   "name": "python3"
  },
  "language_info": {
   "codemirror_mode": {
    "name": "ipython",
    "version": 3
   },
   "file_extension": ".py",
   "mimetype": "text/x-python",
   "name": "python",
   "nbconvert_exporter": "python",
   "pygments_lexer": "ipython3",
   "version": "3.10.12"
  }
 },
 "nbformat": 4,
 "nbformat_minor": 2
}

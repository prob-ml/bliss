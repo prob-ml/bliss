{
 "cells": [
  {
   "cell_type": "code",
   "execution_count": 1,
   "metadata": {},
   "outputs": [],
   "source": [
    "import torch\n",
    "import tqdm\n",
    "\n",
    "from hydra import initialize, compose\n",
    "from hydra.utils import instantiate\n",
    "import pytorch_lightning\n",
    "from pytorch_lightning.utilities import move_data_to_device\n",
    "\n",
    "from bliss.surveys.dc2 import DC2DataModule\n",
    "\n",
    "from case_studies.dc2_new_diffusion.utils.encoder import DiffusionEncoder"
   ]
  },
  {
   "cell_type": "code",
   "execution_count": 2,
   "metadata": {},
   "outputs": [],
   "source": [
    "# model_name = \"exp_03-28-4\"\n",
    "# model_check_point_name = \"encoder_199.ckpt\"\n",
    "# model_path = f\"../../../bliss_output/DC2_ynet_full_diffusion_exp/{model_name}/checkpoints/{model_check_point_name}\"\n",
    "# device = torch.device(\"cuda:7\" if torch.cuda.is_available() else \"cpu\")\n",
    "# with initialize(config_path=\"./ynet_diffusion_config\", version_base=None):ss\n",
    "#     new_diffusion_notebook_cfg = compose(\"ynet_full_diffusion_notebook_config\")"
   ]
  },
  {
   "cell_type": "code",
   "execution_count": 3,
   "metadata": {},
   "outputs": [],
   "source": [
    "model_name = \"exp_04-04-2\"\n",
    "model_check_point_name = \"encoder_97.ckpt\"\n",
    "model_path = f\"../../../bliss_output/DC2_simple_net_diffusion_exp/{model_name}/checkpoints/{model_check_point_name}\"\n",
    "device = torch.device(\"cuda:7\" if torch.cuda.is_available() else \"cpu\")\n",
    "with initialize(config_path=\"./simple_net_diffusion_config\", version_base=None):\n",
    "    new_diffusion_notebook_cfg = compose(\"simple_net_diffusion_notebook_config\")"
   ]
  },
  {
   "cell_type": "code",
   "execution_count": 4,
   "metadata": {},
   "outputs": [
    {
     "name": "stderr",
     "output_type": "stream",
     "text": [
      "Seed set to 7272\n"
     ]
    },
    {
     "data": {
      "text/plain": [
       "7272"
      ]
     },
     "execution_count": 4,
     "metadata": {},
     "output_type": "execute_result"
    }
   ],
   "source": [
    "seed = 7272\n",
    "pytorch_lightning.seed_everything(seed=seed)"
   ]
  },
  {
   "cell_type": "code",
   "execution_count": 5,
   "metadata": {},
   "outputs": [
    {
     "name": "stderr",
     "output_type": "stream",
     "text": [
      "WARNING: the first factor is neither 'n_sources' nor 'n_sources_multi'; please make sure this is intended\n"
     ]
    }
   ],
   "source": [
    "tile_slen = new_diffusion_notebook_cfg.surveys.dc2.tile_slen\n",
    "max_sources_per_tile = new_diffusion_notebook_cfg.surveys.dc2.max_sources_per_tile\n",
    "r_band_min_flux = new_diffusion_notebook_cfg.notebook_var.r_band_min_flux\n",
    "\n",
    "dc2: DC2DataModule = instantiate(new_diffusion_notebook_cfg.surveys.dc2)\n",
    "dc2.batch_size = 512\n",
    "dc2.setup(stage=\"validate\")\n",
    "dc2_val_dataloader = dc2.val_dataloader()\n",
    "\n",
    "bliss_encoder: DiffusionEncoder = instantiate(new_diffusion_notebook_cfg.encoder).to(device=device)\n",
    "pretrained_weights = torch.load(model_path, map_location=device)[\"state_dict\"]\n",
    "bliss_encoder.load_state_dict(pretrained_weights)\n",
    "bliss_encoder.eval();"
   ]
  },
  {
   "cell_type": "code",
   "execution_count": 6,
   "metadata": {},
   "outputs": [
    {
     "name": "stdout",
     "output_type": "stream",
     "text": [
      "5\n",
      "pred_noise\n",
      "cosine\n",
      "0.0\n",
      "False\n"
     ]
    }
   ],
   "source": [
    "print(bliss_encoder.ddim_steps)\n",
    "print(bliss_encoder.ddim_objective)\n",
    "print(bliss_encoder.ddim_beta_schedule)\n",
    "print(bliss_encoder.detection_diffusion.ddim_sampling_eta)\n",
    "print(bliss_encoder.ddim_self_cond)\n",
    "# print(bliss_encoder.catalog_parser.factors[0].threshold)"
   ]
  },
  {
   "cell_type": "code",
   "execution_count": 7,
   "metadata": {},
   "outputs": [],
   "source": [
    "# bliss_encoder.catalog_parser.factors[0].threshold = 0.0"
   ]
  },
  {
   "cell_type": "code",
   "execution_count": 8,
   "metadata": {},
   "outputs": [],
   "source": [
    "bliss_encoder.detection_diffusion.ddim_sampling_eta = 1.0"
   ]
  },
  {
   "cell_type": "code",
   "execution_count": 9,
   "metadata": {},
   "outputs": [
    {
     "name": "stderr",
     "output_type": "stream",
     "text": [
      "100%|██████████| 49/49 [02:21<00:00,  2.89s/it]"
     ]
    },
    {
     "name": "stdout",
     "output_type": "stream",
     "text": [
      "(ddim_steps=5) flux_err_u_mae: 9.46e+01\n",
      "(ddim_steps=5) flux_err_u_mpe: -5.74e-01\n",
      "(ddim_steps=5) flux_err_u_mape: 7.80e-01\n",
      "(ddim_steps=5) flux_err_u_mae_bin_0: 3.86e+02\n",
      "(ddim_steps=5) flux_err_u_mpe_bin_0: 2.13e-02\n",
      "(ddim_steps=5) flux_err_u_mape_bin_0: 2.38e-01\n",
      "(ddim_steps=5) flux_err_u_mae_bin_1: 9.41e+01\n",
      "(ddim_steps=5) flux_err_u_mpe_bin_1: -2.24e-02\n",
      "(ddim_steps=5) flux_err_u_mape_bin_1: 2.97e-01\n",
      "(ddim_steps=5) flux_err_u_mae_bin_2: 8.15e+01\n",
      "(ddim_steps=5) flux_err_u_mpe_bin_2: -2.43e-02\n",
      "(ddim_steps=5) flux_err_u_mape_bin_2: 3.25e-01\n",
      "(ddim_steps=5) flux_err_u_mae_bin_3: 6.43e+01\n",
      "(ddim_steps=5) flux_err_u_mpe_bin_3: -3.29e-02\n",
      "(ddim_steps=5) flux_err_u_mape_bin_3: 3.38e-01\n",
      "(ddim_steps=5) flux_err_u_mae_bin_4: 4.29e+01\n",
      "(ddim_steps=5) flux_err_u_mpe_bin_4: -1.81e-01\n",
      "(ddim_steps=5) flux_err_u_mape_bin_4: 4.53e-01\n",
      "(ddim_steps=5) flux_err_u_mae_bin_5: 3.90e+01\n",
      "(ddim_steps=5) flux_err_u_mpe_bin_5: -1.17e+00\n",
      "(ddim_steps=5) flux_err_u_mape_bin_5: 1.29e+00\n",
      "(ddim_steps=5) flux_err_g_mae: 1.12e+02\n",
      "(ddim_steps=5) flux_err_g_mpe: -1.65e-01\n",
      "(ddim_steps=5) flux_err_g_mape: 3.14e-01\n",
      "(ddim_steps=5) flux_err_g_mae_bin_0: 5.43e+02\n",
      "(ddim_steps=5) flux_err_g_mpe_bin_0: 4.70e-02\n",
      "(ddim_steps=5) flux_err_g_mape_bin_0: 1.75e-01\n",
      "(ddim_steps=5) flux_err_g_mae_bin_1: 1.01e+02\n",
      "(ddim_steps=5) flux_err_g_mpe_bin_1: 4.92e-02\n",
      "(ddim_steps=5) flux_err_g_mape_bin_1: 1.81e-01\n",
      "(ddim_steps=5) flux_err_g_mae_bin_2: 8.12e+01\n",
      "(ddim_steps=5) flux_err_g_mpe_bin_2: 4.99e-02\n",
      "(ddim_steps=5) flux_err_g_mape_bin_2: 1.90e-01\n",
      "(ddim_steps=5) flux_err_g_mae_bin_3: 6.12e+01\n",
      "(ddim_steps=5) flux_err_g_mpe_bin_3: 4.78e-02\n",
      "(ddim_steps=5) flux_err_g_mape_bin_3: 1.90e-01\n",
      "(ddim_steps=5) flux_err_g_mae_bin_4: 3.82e+01\n",
      "(ddim_steps=5) flux_err_g_mpe_bin_4: 7.09e-03\n",
      "(ddim_steps=5) flux_err_g_mape_bin_4: 2.03e-01\n",
      "(ddim_steps=5) flux_err_g_mae_bin_5: 3.22e+01\n",
      "(ddim_steps=5) flux_err_g_mpe_bin_5: -4.00e-01\n",
      "(ddim_steps=5) flux_err_g_mape_bin_5: 4.62e-01\n",
      "(ddim_steps=5) flux_err_r_mae: 1.51e+02\n",
      "(ddim_steps=5) flux_err_r_mpe: -2.83e-02\n",
      "(ddim_steps=5) flux_err_r_mape: 1.91e-01\n",
      "(ddim_steps=5) flux_err_r_mae_bin_0: 7.60e+02\n",
      "(ddim_steps=5) flux_err_r_mpe_bin_0: 5.73e-02\n",
      "(ddim_steps=5) flux_err_r_mape_bin_0: 1.62e-01\n",
      "(ddim_steps=5) flux_err_r_mae_bin_1: 1.61e+02\n",
      "(ddim_steps=5) flux_err_r_mpe_bin_1: 7.48e-02\n",
      "(ddim_steps=5) flux_err_r_mape_bin_1: 1.80e-01\n",
      "(ddim_steps=5) flux_err_r_mae_bin_2: 1.31e+02\n",
      "(ddim_steps=5) flux_err_r_mpe_bin_2: 8.59e-02\n",
      "(ddim_steps=5) flux_err_r_mape_bin_2: 1.90e-01\n",
      "(ddim_steps=5) flux_err_r_mae_bin_3: 9.61e+01\n",
      "(ddim_steps=5) flux_err_r_mpe_bin_3: 8.56e-02\n",
      "(ddim_steps=5) flux_err_r_mape_bin_3: 1.98e-01\n",
      "(ddim_steps=5) flux_err_r_mae_bin_4: 5.31e+01\n",
      "(ddim_steps=5) flux_err_r_mpe_bin_4: 6.73e-02\n",
      "(ddim_steps=5) flux_err_r_mape_bin_4: 1.89e-01\n",
      "(ddim_steps=5) flux_err_r_mae_bin_5: 2.60e+01\n",
      "(ddim_steps=5) flux_err_r_mpe_bin_5: -1.47e-01\n",
      "(ddim_steps=5) flux_err_r_mape_bin_5: 2.00e-01\n",
      "(ddim_steps=5) flux_err_i_mae: 2.15e+02\n",
      "(ddim_steps=5) flux_err_i_mpe: 3.12e-02\n",
      "(ddim_steps=5) flux_err_i_mape: 2.14e-01\n",
      "(ddim_steps=5) flux_err_i_mae_bin_0: 9.73e+02\n",
      "(ddim_steps=5) flux_err_i_mpe_bin_0: 7.16e-02\n",
      "(ddim_steps=5) flux_err_i_mape_bin_0: 1.56e-01\n",
      "(ddim_steps=5) flux_err_i_mae_bin_1: 2.64e+02\n",
      "(ddim_steps=5) flux_err_i_mpe_bin_1: 9.18e-02\n",
      "(ddim_steps=5) flux_err_i_mape_bin_1: 1.80e-01\n",
      "(ddim_steps=5) flux_err_i_mae_bin_2: 2.21e+02\n",
      "(ddim_steps=5) flux_err_i_mpe_bin_2: 9.80e-02\n",
      "(ddim_steps=5) flux_err_i_mape_bin_2: 1.97e-01\n",
      "(ddim_steps=5) flux_err_i_mae_bin_3: 1.65e+02\n",
      "(ddim_steps=5) flux_err_i_mpe_bin_3: 1.02e-01\n",
      "(ddim_steps=5) flux_err_i_mape_bin_3: 2.11e-01\n",
      "(ddim_steps=5) flux_err_i_mae_bin_4: 9.77e+01\n",
      "(ddim_steps=5) flux_err_i_mpe_bin_4: 9.27e-02\n",
      "(ddim_steps=5) flux_err_i_mape_bin_4: 2.23e-01\n",
      "(ddim_steps=5) flux_err_i_mae_bin_5: 4.71e+01\n",
      "(ddim_steps=5) flux_err_i_mpe_bin_5: -3.87e-02\n",
      "(ddim_steps=5) flux_err_i_mape_bin_5: 2.30e-01\n",
      "(ddim_steps=5) flux_err_z_mae: 2.86e+02\n",
      "(ddim_steps=5) flux_err_z_mpe: 5.42e-02\n",
      "(ddim_steps=5) flux_err_z_mape: 2.59e-01\n",
      "(ddim_steps=5) flux_err_z_mae_bin_0: 1.14e+03\n",
      "(ddim_steps=5) flux_err_z_mpe_bin_0: 6.22e-02\n",
      "(ddim_steps=5) flux_err_z_mape_bin_0: 1.58e-01\n",
      "(ddim_steps=5) flux_err_z_mae_bin_1: 3.90e+02\n",
      "(ddim_steps=5) flux_err_z_mpe_bin_1: 7.32e-02\n",
      "(ddim_steps=5) flux_err_z_mape_bin_1: 1.94e-01\n",
      "(ddim_steps=5) flux_err_z_mae_bin_2: 3.35e+02\n",
      "(ddim_steps=5) flux_err_z_mpe_bin_2: 9.40e-02\n",
      "(ddim_steps=5) flux_err_z_mape_bin_2: 2.13e-01\n",
      "(ddim_steps=5) flux_err_z_mae_bin_3: 2.49e+02\n",
      "(ddim_steps=5) flux_err_z_mpe_bin_3: 9.28e-02\n",
      "(ddim_steps=5) flux_err_z_mape_bin_3: 2.32e-01\n",
      "(ddim_steps=5) flux_err_z_mae_bin_4: 1.54e+02\n",
      "(ddim_steps=5) flux_err_z_mpe_bin_4: 9.71e-02\n",
      "(ddim_steps=5) flux_err_z_mape_bin_4: 2.60e-01\n",
      "(ddim_steps=5) flux_err_z_mae_bin_5: 8.66e+01\n",
      "(ddim_steps=5) flux_err_z_mpe_bin_5: 1.57e-02\n",
      "(ddim_steps=5) flux_err_z_mape_bin_5: 3.04e-01\n",
      "(ddim_steps=5) flux_err_y_mae: 3.70e+02\n",
      "(ddim_steps=5) flux_err_y_mpe: 7.14e-02\n",
      "(ddim_steps=5) flux_err_y_mape: 2.97e-01\n",
      "(ddim_steps=5) flux_err_y_mae_bin_0: 1.36e+03\n",
      "(ddim_steps=5) flux_err_y_mpe_bin_0: 6.51e-02\n",
      "(ddim_steps=5) flux_err_y_mape_bin_0: 1.69e-01\n",
      "(ddim_steps=5) flux_err_y_mae_bin_1: 5.47e+02\n",
      "(ddim_steps=5) flux_err_y_mpe_bin_1: 7.03e-02\n",
      "(ddim_steps=5) flux_err_y_mape_bin_1: 2.20e-01\n",
      "(ddim_steps=5) flux_err_y_mae_bin_2: 4.71e+02\n",
      "(ddim_steps=5) flux_err_y_mpe_bin_2: 9.35e-02\n",
      "(ddim_steps=5) flux_err_y_mape_bin_2: 2.38e-01\n",
      "(ddim_steps=5) flux_err_y_mae_bin_3: 3.58e+02\n",
      "(ddim_steps=5) flux_err_y_mpe_bin_3: 9.70e-02\n",
      "(ddim_steps=5) flux_err_y_mape_bin_3: 2.66e-01\n",
      "(ddim_steps=5) flux_err_y_mae_bin_4: 2.20e+02\n",
      "(ddim_steps=5) flux_err_y_mpe_bin_4: 1.04e-01\n",
      "(ddim_steps=5) flux_err_y_mape_bin_4: 3.02e-01\n",
      "(ddim_steps=5) flux_err_y_mae_bin_5: 1.26e+02\n",
      "(ddim_steps=5) flux_err_y_mpe_bin_5: 4.86e-02\n",
      "(ddim_steps=5) flux_err_y_mape_bin_5: 3.51e-01\n"
     ]
    },
    {
     "name": "stderr",
     "output_type": "stream",
     "text": [
      "\n"
     ]
    }
   ],
   "source": [
    "for ddim_steps in [5]:\n",
    "    dc2_val_dataloader = dc2.val_dataloader()\n",
    "    bliss_encoder.ddim_steps = ddim_steps\n",
    "    bliss_encoder.detection_diffusion.sampling_timesteps = ddim_steps\n",
    "    \n",
    "    bliss_encoder.mode_metrics.reset()\n",
    "    i = 0\n",
    "    total_batch = len(dc2_val_dataloader)\n",
    "    for batch in tqdm.tqdm(dc2_val_dataloader):\n",
    "        batch_on_device = move_data_to_device(batch, device=device)\n",
    "        with torch.no_grad():\n",
    "            bliss_encoder.update_metrics(batch_on_device, i)\n",
    "        i += 1\n",
    "    for k, v in bliss_encoder.mode_metrics.compute().items():\n",
    "        # if \"detection\" in k:\n",
    "        #     print(f\"(ddim_steps={ddim_steps}) {k}: {v:0.5f}\")\n",
    "        # if \"n_est\" in k:\n",
    "        #     print(f\"(ddim_steps={ddim_steps}) {k}: {int(v)}\")\n",
    "        # if \"bin\" not in k:\n",
    "        #     print(f\"(ddim_steps={ddim_steps}) {k}: {v:.2e}\")\n",
    "        print(f\"(ddim_steps={ddim_steps}) {k}: {v:.2e}\")"
   ]
  },
  {
   "cell_type": "code",
   "execution_count": 10,
   "metadata": {},
   "outputs": [
    {
     "name": "stdout",
     "output_type": "stream",
     "text": [
      "(ddim_steps=5) flux_err_u_mape: 7.80e-01\n",
      "(ddim_steps=5) flux_err_u_mape_bin_0: 2.38e-01\n",
      "(ddim_steps=5) flux_err_u_mape_bin_1: 2.97e-01\n",
      "(ddim_steps=5) flux_err_u_mape_bin_2: 3.25e-01\n",
      "(ddim_steps=5) flux_err_u_mape_bin_3: 3.38e-01\n",
      "(ddim_steps=5) flux_err_u_mape_bin_4: 4.53e-01\n",
      "(ddim_steps=5) flux_err_u_mape_bin_5: 1.29e+00\n",
      "(ddim_steps=5) flux_err_g_mape: 3.14e-01\n",
      "(ddim_steps=5) flux_err_g_mape_bin_0: 1.75e-01\n",
      "(ddim_steps=5) flux_err_g_mape_bin_1: 1.81e-01\n",
      "(ddim_steps=5) flux_err_g_mape_bin_2: 1.90e-01\n",
      "(ddim_steps=5) flux_err_g_mape_bin_3: 1.90e-01\n",
      "(ddim_steps=5) flux_err_g_mape_bin_4: 2.03e-01\n",
      "(ddim_steps=5) flux_err_g_mape_bin_5: 4.62e-01\n",
      "(ddim_steps=5) flux_err_r_mape: 1.91e-01\n",
      "(ddim_steps=5) flux_err_r_mape_bin_0: 1.62e-01\n",
      "(ddim_steps=5) flux_err_r_mape_bin_1: 1.80e-01\n",
      "(ddim_steps=5) flux_err_r_mape_bin_2: 1.90e-01\n",
      "(ddim_steps=5) flux_err_r_mape_bin_3: 1.98e-01\n",
      "(ddim_steps=5) flux_err_r_mape_bin_4: 1.89e-01\n",
      "(ddim_steps=5) flux_err_r_mape_bin_5: 2.00e-01\n",
      "(ddim_steps=5) flux_err_i_mape: 2.14e-01\n",
      "(ddim_steps=5) flux_err_i_mape_bin_0: 1.56e-01\n",
      "(ddim_steps=5) flux_err_i_mape_bin_1: 1.80e-01\n",
      "(ddim_steps=5) flux_err_i_mape_bin_2: 1.97e-01\n",
      "(ddim_steps=5) flux_err_i_mape_bin_3: 2.11e-01\n",
      "(ddim_steps=5) flux_err_i_mape_bin_4: 2.23e-01\n",
      "(ddim_steps=5) flux_err_i_mape_bin_5: 2.30e-01\n",
      "(ddim_steps=5) flux_err_z_mape: 2.59e-01\n",
      "(ddim_steps=5) flux_err_z_mape_bin_0: 1.58e-01\n",
      "(ddim_steps=5) flux_err_z_mape_bin_1: 1.94e-01\n",
      "(ddim_steps=5) flux_err_z_mape_bin_2: 2.13e-01\n",
      "(ddim_steps=5) flux_err_z_mape_bin_3: 2.32e-01\n",
      "(ddim_steps=5) flux_err_z_mape_bin_4: 2.60e-01\n",
      "(ddim_steps=5) flux_err_z_mape_bin_5: 3.04e-01\n",
      "(ddim_steps=5) flux_err_y_mape: 2.97e-01\n",
      "(ddim_steps=5) flux_err_y_mape_bin_0: 1.69e-01\n",
      "(ddim_steps=5) flux_err_y_mape_bin_1: 2.20e-01\n",
      "(ddim_steps=5) flux_err_y_mape_bin_2: 2.38e-01\n",
      "(ddim_steps=5) flux_err_y_mape_bin_3: 2.66e-01\n",
      "(ddim_steps=5) flux_err_y_mape_bin_4: 3.02e-01\n",
      "(ddim_steps=5) flux_err_y_mape_bin_5: 3.51e-01\n"
     ]
    }
   ],
   "source": [
    "for k, v in bliss_encoder.mode_metrics.compute().items():\n",
    "    if \"mape\" in k:\n",
    "        print(f\"(ddim_steps={ddim_steps}) {k}: {v:.2e}\")"
   ]
  },
  {
   "cell_type": "code",
   "execution_count": null,
   "metadata": {},
   "outputs": [],
   "source": [
    "dc2_val_dataloader = dc2.val_dataloader()\n",
    "bliss_encoder.ddim_steps = 1000\n",
    "bliss_encoder.detection_diffusion.sampling_timesteps = 1000\n",
    "bliss_encoder.detection_diffusion.ddim_sampling_eta = 1.0  # use ddpm\n",
    "\n",
    "bliss_encoder.mode_metrics.reset()\n",
    "i = 0\n",
    "for batch in tqdm.tqdm(dc2_val_dataloader):\n",
    "    batch_on_device = move_data_to_device(batch, device=device)\n",
    "    with torch.no_grad():\n",
    "        bliss_encoder.update_metrics(batch_on_device, i)\n",
    "    i += 1\n",
    "\n",
    "for k, v in bliss_encoder.mode_metrics.compute().items():\n",
    "    if \"detection\" in k:\n",
    "        print(f\"{k}: {v:0.5f}\")\n",
    "    if \"n_est\" in k:\n",
    "        print(f\"{k}: {v}\")"
   ]
  }
 ],
 "metadata": {
  "kernelspec": {
   "display_name": ".venv",
   "language": "python",
   "name": "python3"
  },
  "language_info": {
   "codemirror_mode": {
    "name": "ipython",
    "version": 3
   },
   "file_extension": ".py",
   "mimetype": "text/x-python",
   "name": "python",
   "nbconvert_exporter": "python",
   "pygments_lexer": "ipython3",
   "version": "3.10.12"
  }
 },
 "nbformat": 4,
 "nbformat_minor": 2
}

{
 "cells": [
  {
   "cell_type": "code",
   "execution_count": 1,
   "metadata": {},
   "outputs": [],
   "source": [
    "import torch\n",
    "import tqdm\n",
    "\n",
    "from hydra import initialize, compose\n",
    "from hydra.utils import instantiate\n",
    "from pytorch_lightning.utilities import move_data_to_device\n",
    "\n",
    "from bliss.surveys.dc2 import DC2DataModule\n",
    "from case_studies.dc2_new_diffusion.utils.encoder import DiffusionEncoder"
   ]
  },
  {
   "cell_type": "code",
   "execution_count": 2,
   "metadata": {},
   "outputs": [],
   "source": [
    "model_name = \"exp_01-27-3\"\n",
    "model_check_point_name = \"encoder_48.ckpt\"\n",
    "model_path = f\"../../../bliss_output/DC2_ynet_diffusion_exp/{model_name}/checkpoints/{model_check_point_name}\"\n",
    "device = torch.device(\"cuda:2\" if torch.cuda.is_available() else \"cpu\")\n",
    "with initialize(config_path=\"./ynet_diffusion_config\", version_base=None):\n",
    "    new_diffusion_notebook_cfg = compose(\"ynet_diffusion_notebook_config\")"
   ]
  },
  {
   "cell_type": "code",
   "execution_count": 3,
   "metadata": {},
   "outputs": [],
   "source": [
    "tile_slen = new_diffusion_notebook_cfg.surveys.dc2.tile_slen\n",
    "max_sources_per_tile = new_diffusion_notebook_cfg.surveys.dc2.max_sources_per_tile\n",
    "r_band_min_flux = new_diffusion_notebook_cfg.notebook_var.r_band_min_flux\n",
    "\n",
    "dc2: DC2DataModule = instantiate(new_diffusion_notebook_cfg.surveys.dc2)\n",
    "dc2.setup(stage=\"validate\")\n",
    "dc2_val_dataloader = dc2.val_dataloader()\n",
    "\n",
    "bliss_encoder: DiffusionEncoder = instantiate(new_diffusion_notebook_cfg.encoder).to(device=device)\n",
    "pretrained_weights = torch.load(model_path, map_location=device)[\"state_dict\"]\n",
    "bliss_encoder.load_state_dict(pretrained_weights)\n",
    "bliss_encoder.eval();"
   ]
  },
  {
   "cell_type": "code",
   "execution_count": null,
   "metadata": {},
   "outputs": [],
   "source": [
    "print(bliss_encoder.ddim_steps)\n",
    "print(bliss_encoder.ddim_objective)\n",
    "print(bliss_encoder.ddim_beta_schedule)"
   ]
  },
  {
   "cell_type": "code",
   "execution_count": null,
   "metadata": {},
   "outputs": [],
   "source": [
    "print(bliss_encoder.catalog_parser.factors[0].threshold)"
   ]
  },
  {
   "cell_type": "code",
   "execution_count": 6,
   "metadata": {},
   "outputs": [],
   "source": [
    "bliss_encoder.catalog_parser.factors[0].threshold = 0.0"
   ]
  },
  {
   "cell_type": "code",
   "execution_count": null,
   "metadata": {},
   "outputs": [],
   "source": [
    "for ddim_steps in [1, 2, 5, 10, 20, 50, 100, 200]:\n",
    "    dc2_val_dataloader = dc2.val_dataloader()\n",
    "    bliss_encoder.ddim_steps = ddim_steps\n",
    "    bliss_encoder.detection_diffusion.sampling_timesteps = ddim_steps\n",
    "    \n",
    "    bliss_encoder.mode_metrics.reset()\n",
    "    i = 0\n",
    "    total_batch = len(dc2_val_dataloader)\n",
    "    # total_x_start_l1_loss = 0.0\n",
    "    # total_x_start_l2_loss = 0.0\n",
    "    # total_final_pred_l1_loss = 0.0\n",
    "    # total_final_pred_l2_loss = 0.0\n",
    "    for batch in tqdm.tqdm(dc2_val_dataloader):\n",
    "        batch_on_device = move_data_to_device(batch, device=device)\n",
    "        with torch.no_grad():\n",
    "            # bliss_encoder._compute_cur_batch_loss(batch_on_device)\n",
    "            # final_cat_tensor, inter_cat_tensor, final_pred, x_start = bliss_encoder.sample_all_details(batch_on_device)\n",
    "            # assert inter_cat_tensor.shape == x_start.shape\n",
    "            # assert final_cat_tensor.shape == final_pred.shape\n",
    "            # total_x_start_l1_loss += (inter_cat_tensor - x_start).abs().mean()\n",
    "            # total_x_start_l2_loss += ((inter_cat_tensor - x_start) ** 2).mean()\n",
    "            # total_final_pred_l1_loss += (final_cat_tensor - final_pred).abs().mean()\n",
    "            # total_final_pred_l2_loss += ((final_cat_tensor - final_pred) ** 2).mean()\n",
    "            bliss_encoder.update_metrics(batch_on_device, i)\n",
    "        i += 1\n",
    "    # print(f\"(ddim_steps={ddim_steps}) x_start l1 loss: {total_x_start_l1_loss / total_batch:0.4f}\")\n",
    "    # print(f\"(ddim_steps={ddim_steps}) x_start l2 loss: {total_x_start_l2_loss / total_batch:0.4f}\")\n",
    "    # print(f\"(ddim_steps={ddim_steps}) final_pred l1 loss: {total_final_pred_l1_loss / total_batch:0.4f}\")\n",
    "    # print(f\"(ddim_steps={ddim_steps}) final_pred l2 loss: {total_final_pred_l2_loss / total_batch:0.4f}\")\n",
    "    for k, v in bliss_encoder.mode_metrics.compute().items():\n",
    "        if \"detection\" in k:\n",
    "            print(f\"(ddim_steps={ddim_steps}) {k}: {v:0.5f}\")\n",
    "        if \"n_est\" in k:\n",
    "            print(f\"(ddim_steps={ddim_steps}) {k}: {int(v)}\")"
   ]
  },
  {
   "cell_type": "code",
   "execution_count": null,
   "metadata": {},
   "outputs": [],
   "source": [
    "dc2_val_dataloader = dc2.val_dataloader()\n",
    "bliss_encoder.ddim_steps = 1000\n",
    "bliss_encoder.detection_diffusion.sampling_timesteps = 1000\n",
    "bliss_encoder.detection_diffusion.ddim_sampling_eta = 1.0  # use ddpm\n",
    "\n",
    "bliss_encoder.mode_metrics.reset()\n",
    "i = 0\n",
    "for batch in tqdm.tqdm(dc2_val_dataloader):\n",
    "    batch_on_device = move_data_to_device(batch, device=device)\n",
    "    with torch.no_grad():\n",
    "        bliss_encoder.update_metrics(batch_on_device, i)\n",
    "    i += 1\n",
    "\n",
    "for k, v in bliss_encoder.mode_metrics.compute().items():\n",
    "    if \"detection\" in k:\n",
    "        print(f\"{k}: {v:0.5f}\")\n",
    "    if \"n_est\" in k:\n",
    "        print(f\"{k}: {v}\")"
   ]
  }
 ],
 "metadata": {
  "kernelspec": {
   "display_name": ".venv",
   "language": "python",
   "name": "python3"
  },
  "language_info": {
   "codemirror_mode": {
    "name": "ipython",
    "version": 3
   },
   "file_extension": ".py",
   "mimetype": "text/x-python",
   "name": "python",
   "nbconvert_exporter": "python",
   "pygments_lexer": "ipython3",
   "version": "3.10.12"
  }
 },
 "nbformat": 4,
 "nbformat_minor": 2
}

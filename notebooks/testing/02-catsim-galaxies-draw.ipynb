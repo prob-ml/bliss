{
 "cells": [
  {
   "cell_type": "markdown",
   "metadata": {},
   "source": [
    "# Preamble"
   ]
  },
  {
   "cell_type": "code",
   "execution_count": 10,
   "metadata": {
    "ExecuteTime": {
     "end_time": "2019-12-09T19:33:06.331664Z",
     "start_time": "2019-12-09T19:33:06.313507Z"
    },
    "pycharm": {
     "is_executing": false
    }
   },
   "outputs": [
    {
     "data": {
      "text/plain": [
       "<module 'draw_catsim' from '/home/imendoza/deblend/galaxy-net/draw_catsim.py'>"
      ]
     },
     "execution_count": 10,
     "metadata": {},
     "output_type": "execute_result"
    }
   ],
   "source": [
    "import os\n",
    "os.chdir(\"/home/imendoza/deblend/galaxy-net\")\n",
    "import sys\n",
    "sys.path.insert(0, \"/home/imendoza/deblend/galaxy-net\")\n",
    "sys.path.insert(0, \"/home/imendoza/deblend/galaxy-net/WeakLensingDeblending\")\n",
    "sys.path.insert(0, \"/home/imendoza/deblend/galaxy-net/BlendingToolKit\")\n",
    "\n",
    "from WeakLensingDeblending import descwl\n",
    "from importlib import reload\n",
    "from BlendingToolKit import btk\n",
    "import draw_catsim\n",
    "import numpy as np \n",
    "import galsim\n",
    "import matplotlib.pyplot as plt\n",
    "from astropy.table import Column, Table\n",
    "import astropy\n",
    "import datasets\n",
    "\n",
    "reload(descwl)\n",
    "reload(descwl.render)\n",
    "reload(draw_catsim)"
   ]
  },
  {
   "cell_type": "markdown",
   "metadata": {},
   "source": [
    "# Prepare"
   ]
  },
  {
   "cell_type": "code",
   "execution_count": 11,
   "metadata": {
    "ExecuteTime": {
     "end_time": "2019-12-09T19:33:28.369632Z",
     "start_time": "2019-12-09T19:33:28.273200Z"
    },
    "pycharm": {
     "is_executing": false,
     "name": "#%%\n"
    }
   },
   "outputs": [],
   "source": [
    "#setup\n",
    "survey_name = 'LSST'\n",
    "bands = ['y', 'z', 'i', 'r', 'g', 'u']\n",
    "catalog_name = \"/home/imendoza/deblend/galaxy-net/params/OneDegSq.fits\"\n",
    "table = astropy.table.Table.read(catalog_name)"
   ]
  },
  {
   "cell_type": "code",
   "execution_count": 13,
   "metadata": {
    "ExecuteTime": {
     "end_time": "2019-12-09T19:33:34.353351Z",
     "start_time": "2019-12-09T19:33:34.345796Z"
    }
   },
   "outputs": [
    {
     "data": {
      "text/plain": [
       "{'survey_name': 'LSST',\n",
       " 'catalog_name': '/home/imendoza/deblend/galaxy-net/params/OneDegSq.fits',\n",
       " 'bands': ['y', 'z', 'i', 'r', 'g', 'u']}"
      ]
     },
     "execution_count": 13,
     "metadata": {},
     "output_type": "execute_result"
    }
   ],
   "source": [
    "#get and display params. \n",
    "params = draw_catsim.get_default_params()\n",
    "params"
   ]
  },
  {
   "cell_type": "markdown",
   "metadata": {
    "heading_collapsed": true
   },
   "source": [
    "## Filter"
   ]
  },
  {
   "cell_type": "code",
   "execution_count": 110,
   "metadata": {
    "ExecuteTime": {
     "end_time": "2019-12-09T01:13:22.297847Z",
     "start_time": "2019-12-09T01:13:22.227682Z"
    },
    "hidden": true
   },
   "outputs": [],
   "source": [
    "obs = draw_galaxies.create_obs(params)\n",
    "sizes = get_size(table, 0.2, obs[2])\n",
    "table.add_column(sizes)"
   ]
  },
  {
   "cell_type": "code",
   "execution_count": 111,
   "metadata": {
    "ExecuteTime": {
     "end_time": "2019-12-09T01:13:24.039470Z",
     "start_time": "2019-12-09T01:13:23.580309Z"
    },
    "hidden": true
   },
   "outputs": [
    {
     "data": {
      "image/png": "[encoded data removed]",
      "text/plain": [
       "<Figure size 864x432 with 2 Axes>"
      ]
     },
     "metadata": {
      "needs_background": "light"
     },
     "output_type": "display_data"
    }
   ],
   "source": [
    "fig, axes = plt.subplots(nrows=1, ncols=2, figsize=(12,6))\n",
    "ax1,ax2 = axes.flatten()\n",
    "ax1.hist(table['i_ab'], bins=50);\n",
    "ax2.hist(table['size'], bins=50, range=(0,50));\n",
    "plt.tight_layout()"
   ]
  },
  {
   "cell_type": "code",
   "execution_count": 115,
   "metadata": {
    "ExecuteTime": {
     "end_time": "2019-12-09T01:13:34.364643Z",
     "start_time": "2019-12-09T01:13:34.310749Z"
    },
    "hidden": true
   },
   "outputs": [
    {
     "data": {
      "text/plain": [
       "27667"
      ]
     },
     "execution_count": 115,
     "metadata": {},
     "output_type": "execute_result"
    }
   ],
   "source": [
    "cond = (table['i_ab'] < 25.3) & (table['size'] > 15)\n",
    "ftable = table[cond] #default cut that Sowmya uses. \n",
    "len(ftable)"
   ]
  },
  {
   "cell_type": "markdown",
   "metadata": {
    "heading_collapsed": true
   },
   "source": [
    "## Can we draw an entry without a PSF ? "
   ]
  },
  {
   "cell_type": "code",
   "execution_count": 8,
   "metadata": {
    "ExecuteTime": {
     "end_time": "2019-12-09T00:37:16.078906Z",
     "start_time": "2019-12-09T00:37:15.710283Z"
    },
    "collapsed": true,
    "hidden": true
   },
   "outputs": [
    {
     "name": "stdout",
     "output_type": "stream",
     "text": [
      "0.0\n"
     ]
    },
    {
     "data": {
      "image/png": "[encoded data removed]",
      "text/plain": [
       "<Figure size 432x288 with 1 Axes>"
      ]
     },
     "metadata": {
      "needs_background": "light"
     },
     "output_type": "display_data"
    }
   ],
   "source": [
    "obs = draw_galaxies.create_obs(params)\n",
    "single_obs = obs[2]\n",
    "band = params['bands'][2]\n",
    "entry = np.array(np.random.choice(ftable), dtype=ftable.dtype)\n",
    "galaxy_builder = descwl.model.GalaxyBuilder(\n",
    "    single_obs, no_disk=False, no_bulge=False,\n",
    "    no_agn=False, verbose_model=False)\n",
    "galaxy = galaxy_builder.from_catalog(entry,\n",
    "                                     entry['ra'],\n",
    "                                     entry['dec'],\n",
    "                                     band)\n",
    "\n",
    "galaxy.model.drawImage(image=single_obs.image, method='phot').array\n",
    "plt.imshow(single_obs.image.array)\n",
    "print(single_obs.image.array.sum())"
   ]
  },
  {
   "cell_type": "markdown",
   "metadata": {},
   "source": [
    "# Final drawing procedure"
   ]
  },
  {
   "cell_type": "code",
   "execution_count": 90,
   "metadata": {
    "ExecuteTime": {
     "end_time": "2019-12-09T20:05:53.851337Z",
     "start_time": "2019-12-09T20:05:53.840083Z"
    }
   },
   "outputs": [
    {
     "data": {
      "text/plain": [
       "<module 'draw_catsim' from '/home/imendoza/deblend/galaxy-net/draw_catsim.py'>"
      ]
     },
     "execution_count": 90,
     "metadata": {},
     "output_type": "execute_result"
    }
   ],
   "source": [
    "reload(descwl)\n",
    "reload(descwl.render)\n",
    "reload(draw_catsim)"
   ]
  },
  {
   "cell_type": "code",
   "execution_count": null,
   "metadata": {},
   "outputs": [],
   "source": [
    "ftable"
   ]
  },
  {
   "cell_type": "code",
   "execution_count": 131,
   "metadata": {
    "ExecuteTime": {
     "end_time": "2019-12-09T01:14:06.191276Z",
     "start_time": "2019-12-09T01:14:04.984045Z"
    }
   },
   "outputs": [
    {
     "data": {
      "text/plain": [
       "<matplotlib.image.AxesImage at 0x7fb66ab63f50>"
      ]
     },
     "execution_count": 131,
     "metadata": {},
     "output_type": "execute_result"
    },
    {
     "data": {
      "image/png": "[encoded data removed]",
      "text/plain": [
       "<Figure size 720x720 with 4 Axes>"
      ]
     },
     "metadata": {
      "needs_background": "light"
     },
     "output_type": "display_data"
    }
   ],
   "source": [
    "#drawing in the i-band. \n",
    "fig, axes = plt.subplots(2,2,figsize=(10,10))\n",
    "ax1,ax2, ax3, ax4 = axes.flatten()\n",
    "obs = draw_galaxies.create_obs(params)\n",
    "entry = np.array(np.random.choice(ftable), dtype=ftable.dtype)\n",
    "\n",
    "image1 = draw_galaxies.single_band(entry, params['bands'][2], obs[2], params, no_psf=False, draw_method='auto' )\n",
    "image2 = draw_galaxies.single_band(entry, params['bands'][2], obs[2], params, no_psf=False, draw_method='auto', \n",
    "                                   snr=200)\n",
    "\n",
    "image3 = draw_galaxies.single_band(entry, params['bands'][2], obs[2], params, no_psf=False, draw_method='phot' )\n",
    "image4 = draw_galaxies.single_band(entry, params['bands'][2], obs[2], params, no_psf=True, draw_method='phot' )\n",
    "\n",
    "ax1.imshow(image1)\n",
    "ax2.imshow(image2)\n",
    "ax3.imshow(image3)\n",
    "ax4.imshow(image3)\n"
   ]
  },
  {
   "cell_type": "markdown",
   "metadata": {},
   "source": [
    "# Dataset sampling"
   ]
  },
  {
   "cell_type": "code",
   "execution_count": 356,
   "metadata": {
    "ExecuteTime": {
     "end_time": "2019-12-09T21:15:16.315600Z",
     "start_time": "2019-12-09T21:15:16.308332Z"
    }
   },
   "outputs": [],
   "source": [
    "reload(draw_catsim);\n",
    "reload(datasets);"
   ]
  },
  {
   "cell_type": "code",
   "execution_count": 357,
   "metadata": {
    "ExecuteTime": {
     "end_time": "2019-12-09T21:15:17.088562Z",
     "start_time": "2019-12-09T21:15:16.635235Z"
    }
   },
   "outputs": [
    {
     "data": {
      "text/plain": [
       "{'survey_name': 'LSST',\n",
       " 'bands': ['y', 'z', 'i', 'r', 'g', 'u'],\n",
       " 'stamp_size': 10,\n",
       " 'pixel_scale': 0.2,\n",
       " 'image_size': 50,\n",
       " 'snr': 200,\n",
       " 'min_snr': 0.05,\n",
       " 'truncate_radius': 30,\n",
       " 'no_psf': None,\n",
       " 'add_noise': True,\n",
       " 'galsim_draw_method': 'auto',\n",
       " 'preserve_flux': True,\n",
       " 'verbose': False}"
      ]
     },
     "execution_count": 357,
     "metadata": {},
     "output_type": "execute_result"
    }
   ],
   "source": [
    "ds = datasets.CatsimGalaxies(snr=200, add_noise=True, stamp_size=10, verbose=False)\n",
    "vars(ds.renderer)\n",
    "# single_obs = ds.renderer.get_obs()[2]\n",
    "# plt.imshow(ds.renderer.single_band(ds.cat[10], single_obs, 'i'))"
   ]
  },
  {
   "cell_type": "code",
   "execution_count": 408,
   "metadata": {
    "ExecuteTime": {
     "end_time": "2019-12-09T21:43:57.330077Z",
     "start_time": "2019-12-09T21:43:57.012787Z"
    }
   },
   "outputs": [
    {
     "data": {
      "text/plain": [
       "<matplotlib.image.AxesImage at 0x7fde00103890>"
      ]
     },
     "execution_count": 408,
     "metadata": {},
     "output_type": "execute_result"
    },
    {
     "data": {
      "image/png": "[encoded data removed]",
      "text/plain": [
       "<Figure size 432x288 with 1 Axes>"
      ]
     },
     "metadata": {
      "needs_background": "light"
     },
     "output_type": "display_data"
    }
   ],
   "source": [
    "plt.imshow(ds[np.random.choice(np.arange(len(ds)))]['image'][2])"
   ]
  },
  {
   "cell_type": "code",
   "execution_count": 355,
   "metadata": {
    "ExecuteTime": {
     "end_time": "2019-12-09T20:52:33.957853Z",
     "start_time": "2019-12-09T20:52:33.803270Z"
    }
   },
   "outputs": [
    {
     "data": {
      "text/plain": [
       "array([[  511.,   734., -1573., ...,  1329.,   931., -2051.],\n",
       "       [  650.,    18.,  -395., ..., -1343.,  -797.,   340.],\n",
       "       [ 1111., -1096., -1582., ...,  2823.,   439.,    87.],\n",
       "       ...,\n",
       "       [ -221., -1650., -1111., ..., -1059.,  -538.,  -704.],\n",
       "       [ -128., -1528., -1164., ..., -1265., -1724.,    62.],\n",
       "       [  -40.,  -789.,   668., ...,  -725.,  -931.,   372.]])"
      ]
     },
     "execution_count": 355,
     "metadata": {},
     "output_type": "execute_result"
    }
   ],
   "source": [
    "ds[np.random.choice(np.arange(len(ds)))][2] - "
   ]
  },
  {
   "cell_type": "code",
   "execution_count": 89,
   "metadata": {
    "ExecuteTime": {
     "end_time": "2019-12-09T20:05:25.964610Z",
     "start_time": "2019-12-09T20:05:25.718700Z"
    }
   },
   "outputs": [
    {
     "data": {
      "text/plain": [
       "<matplotlib.image.AxesImage at 0x7fde89344910>"
      ]
     },
     "execution_count": 89,
     "metadata": {},
     "output_type": "execute_result"
    },
    {
     "data": {
      "image/png": "[encoded data removed]",
      "text/plain": [
       "<Figure size 432x288 with 1 Axes>"
      ]
     },
     "metadata": {
      "needs_background": "light"
     },
     "output_type": "display_data"
    }
   ],
   "source": [
    "\n",
    "plt.imshow(ds[10][3])"
   ]
  },
  {
   "cell_type": "code",
   "execution_count": null,
   "metadata": {},
   "outputs": [],
   "source": []
  },
  {
   "cell_type": "code",
   "execution_count": null,
   "metadata": {},
   "outputs": [],
   "source": []
  },
  {
   "cell_type": "code",
   "execution_count": null,
   "metadata": {},
   "outputs": [],
   "source": []
  },
  {
   "cell_type": "code",
   "execution_count": null,
   "metadata": {},
   "outputs": [],
   "source": []
  },
  {
   "cell_type": "code",
   "execution_count": null,
   "metadata": {},
   "outputs": [],
   "source": []
  },
  {
   "cell_type": "code",
   "execution_count": null,
   "metadata": {},
   "outputs": [],
   "source": []
  },
  {
   "cell_type": "markdown",
   "metadata": {},
   "source": [
    "# Backup"
   ]
  },
  {
   "cell_type": "code",
   "execution_count": 22,
   "metadata": {
    "pycharm": {
     "is_executing": false,
     "name": "#%%\n"
    }
   },
   "outputs": [
    {
     "name": "stdout",
     "output_type": "stream",
     "text": [
      "\n",
      "Configurations:\n",
      "add_noise                      True\n",
      "bands                          ('u', 'g', 'r', 'i', 'z', 'y')\n",
      "batch_size                     5\n",
      "catalog_name                   /home/imendoza/deblend/galaxy-net/params/OneDegSq.fits\n",
      "max_number                     1\n",
      "min_snr                        0.05\n",
      "pixel_scale                    0.2\n",
      "seed                           0\n",
      "stamp_size                     24\n",
      "survey_name                    LSST\n",
      "verbose                        False\n",
      "\n",
      "\n"
     ]
    }
   ],
   "source": [
    "param = btk.config.Simulation_params(catalog_name, max_number=1, batch_size=5)\n",
    "catalog = btk.get_input_catalog.load_catalog(param)\n",
    "param.display()"
   ]
  },
  {
   "cell_type": "code",
   "execution_count": 9,
   "metadata": {
    "pycharm": {
     "is_executing": false,
     "name": "#%%\n"
    }
   },
   "outputs": [],
   "source": [
    "# obtain a survey object in each of the bands.\n",
    "for band in bands:\n",
    "\n",
    "    # dictionary of default values.\n",
    "    survey_dict = descwl.survey.Survey.get_defaults(\n",
    "        survey_name=survey_name, filter_band=band)\n",
    "\n",
    "    descwl_survey = descwl.survey.Survey(no_analysis=True,\n",
    "                                         survey_name=survey_name,\n",
    "                                         filter_band=band, **survey_dict)\n",
    "    obs_generator.append(descwl_survey)\n"
   ]
  },
  {
   "cell_type": "code",
   "execution_count": 10,
   "metadata": {
    "pycharm": {
     "is_executing": false,
     "name": "#%%\n"
    }
   },
   "outputs": [
    {
     "data": {
      "text/plain": [
       "{'survey_name': 'LSST',\n",
       " 'filter_band': 'y',\n",
       " 'atmospheric_psf_beta': 0.0,\n",
       " 'atmospheric_psf_e1': 0.0,\n",
       " 'atmospheric_psf_e2': 0.0,\n",
       " 'cosmic_shear_g1': 0.0,\n",
       " 'cosmic_shear_g2': 0.0,\n",
       " 'airmass': 1.2,\n",
       " 'mirror_diameter': 8.36,\n",
       " 'effective_area': 32.4,\n",
       " 'image_width': 4096,\n",
       " 'image_height': 4096,\n",
       " 'pixel_scale': 0.2,\n",
       " 'exposure_time': 5520.0,\n",
       " 'sky_brightness': 21.2,\n",
       " 'zenith_psf_fwhm': 0.7,\n",
       " 'zero_point': 43.7,\n",
       " 'extinction': 0.1}"
      ]
     },
     "execution_count": 10,
     "metadata": {},
     "output_type": "execute_result"
    }
   ],
   "source": [
    "# galaxy renderer to draw an individual galaxy\n",
    "survey1 = obs_generator[0]\n",
    "survey1.args"
   ]
  },
  {
   "cell_type": "code",
   "execution_count": 11,
   "metadata": {
    "pycharm": {
     "is_executing": false,
     "name": "#%%\n"
    }
   },
   "outputs": [],
   "source": [
    "iso_render_engine = descwl.render.Engine(\n",
    "        survey=survey1,\n",
    "        min_snr=0.05,\n",
    "        truncate_radius=30,\n",
    "        no_margin=False,\n",
    "        verbose_render=False)"
   ]
  },
  {
   "cell_type": "code",
   "execution_count": null,
   "metadata": {
    "pycharm": {
     "name": "#%%\n"
    }
   },
   "outputs": [],
   "source": [
    "\n"
   ]
  }
 ],
 "metadata": {
  "kernelspec": {
   "display_name": "Python 3",
   "language": "python",
   "name": "python3"
  },
  "language_info": {
   "codemirror_mode": {
    "name": "ipython",
    "version": 3
   },
   "file_extension": ".py",
   "mimetype": "text/x-python",
   "name": "python",
   "nbconvert_exporter": "python",
   "pygments_lexer": "ipython3",
   "version": "3.7.5"
  },
  "pycharm": {
   "stem_cell": {
    "cell_type": "raw",
    "metadata": {
     "collapsed": false
    },
    "source": []
   }
  },
  "toc": {
   "base_numbering": 1,
   "nav_menu": {},
   "number_sections": true,
   "sideBar": true,
   "skip_h1_title": false,
   "title_cell": "Table of Contents",
   "title_sidebar": "Contents",
   "toc_cell": false,
   "toc_position": {
    "height": "calc(100% - 180px)",
    "left": "10px",
    "top": "150px",
    "width": "193.212px"
   },
   "toc_section_display": true,
   "toc_window_display": true
  }
 },
 "nbformat": 4,
 "nbformat_minor": 1
}

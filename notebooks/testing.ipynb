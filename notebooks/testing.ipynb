{
 "cells": [
  {
   "cell_type": "code",
   "execution_count": 1,
   "metadata": {
    "ExecuteTime": {
     "end_time": "2019-11-10T15:42:44.546797Z",
     "start_time": "2019-11-10T15:42:43.704292Z"
    }
   },
   "outputs": [],
   "source": [
    "%matplotlib inline"
   ]
  },
  {
   "cell_type": "code",
   "execution_count": 2,
   "metadata": {
    "ExecuteTime": {
     "end_time": "2019-11-10T15:42:54.795284Z",
     "start_time": "2019-11-10T15:42:54.040420Z"
    }
   },
   "outputs": [],
   "source": [
    "import galsim\n",
    "import numpy as np \n",
    "import matplotlib.pyplot as plt "
   ]
  },
  {
   "cell_type": "markdown",
   "metadata": {},
   "source": [
    "# Draw with photons "
   ]
  },
  {
   "cell_type": "code",
   "execution_count": 41,
   "metadata": {
    "ExecuteTime": {
     "end_time": "2019-11-10T15:52:30.905431Z",
     "start_time": "2019-11-10T15:52:30.366748Z"
    }
   },
   "outputs": [
    {
     "data": {
      "text/plain": [
       "<matplotlib.image.AxesImage at 0x11d4db0d0>"
      ]
     },
     "execution_count": 41,
     "metadata": {},
     "output_type": "execute_result"
    },
    {
     "data": {
      "image/png": "[encoded data removed]",
      "text/plain": [
       "<Figure size 720x720 with 2 Axes>"
      ]
     },
     "metadata": {
      "needs_background": "light"
     },
     "output_type": "display_data"
    }
   ],
   "source": [
    "plt.figure(figsize=(10,10))\n",
    "gal = galsim.Gaussian(flux=700, sigma=0.30622648635153007)\n",
    "image = gal.drawImage(nx = 15, ny = 15, scale=0.2, method='phot',poisson_flux=True)\n",
    "\n",
    "plt.subplot(1,2,1)\n",
    "plt.imshow(image.array)\n",
    "\n",
    "gal_1 = gal.shear(g1=0.2, g2=0.2)\n",
    "im = gal_1.drawImage(nx = 15, ny = 15, scale=0.2, method='phot',poisson_flux=True).array\n",
    "plt.subplot(1,2,2)\n",
    "plt.imshow(im)"
   ]
  },
  {
   "cell_type": "markdown",
   "metadata": {},
   "source": [
    "# add noise "
   ]
  },
  {
   "cell_type": "code",
   "execution_count": 16,
   "metadata": {
    "ExecuteTime": {
     "end_time": "2019-11-10T15:47:06.558791Z",
     "start_time": "2019-11-10T15:47:06.553834Z"
    }
   },
   "outputs": [],
   "source": [
    "from copy import deepcopy "
   ]
  },
  {
   "cell_type": "code",
   "execution_count": 40,
   "metadata": {
    "ExecuteTime": {
     "end_time": "2019-11-10T15:51:49.085327Z",
     "start_time": "2019-11-10T15:51:48.622465Z"
    }
   },
   "outputs": [
    {
     "data": {
      "text/plain": [
       "<matplotlib.image.AxesImage at 0x11d2d9ed0>"
      ]
     },
     "execution_count": 40,
     "metadata": {},
     "output_type": "execute_result"
    },
    {
     "data": {
      "image/png": "[encoded data removed]",
      "text/plain": [
       "<Figure size 576x576 with 2 Axes>"
      ]
     },
     "metadata": {
      "needs_background": "light"
     },
     "output_type": "display_data"
    }
   ],
   "source": [
    "plt.figure(figsize=(8,8))\n",
    "#add noise. \n",
    "sky=300\n",
    "noisy_image = deepcopy(image)\n",
    "rng = galsim.BaseDeviate(0)\n",
    "noise = galsim.GaussianNoise(rng=rng)\n",
    "noise = galsim.PoissonNoise(rng = rng, sky_level = sky)\n",
    "snr=40\n",
    "variance_noise = noisy_image.addNoiseSNR(noise, snr, preserve_flux=True)\n",
    "\n",
    "plt.subplot(1,2, 1)\n",
    "plt.imshow(image.array)\n",
    "plt.subplot(1,2, 2)\n",
    "plt.imshow(noisy_image.array)"
   ]
  },
  {
   "cell_type": "code",
   "execution_count": null,
   "metadata": {},
   "outputs": [],
   "source": []
  }
 ],
 "metadata": {
  "kernelspec": {
   "display_name": "Python 3",
   "language": "python",
   "name": "python3"
  },
  "language_info": {
   "codemirror_mode": {
    "name": "ipython",
    "version": 3
   },
   "file_extension": ".py",
   "mimetype": "text/x-python",
   "name": "python",
   "nbconvert_exporter": "python",
   "pygments_lexer": "ipython3",
   "version": "3.7.4"
  },
  "latex_envs": {
   "LaTeX_envs_menu_present": true,
   "autoclose": false,
   "autocomplete": true,
   "bibliofile": "biblio.bib",
   "cite_by": "apalike",
   "current_citInitial": 1,
   "eqLabelWithNumbers": true,
   "eqNumInitial": 1,
   "hotkeys": {
    "equation": "meta-shift-y"
   },
   "labels_anchors": false,
   "latex_user_defs": false,
   "report_style_numbering": false,
   "user_envs_cfg": false
  },
  "toc": {
   "base_numbering": 1,
   "nav_menu": {},
   "number_sections": true,
   "sideBar": true,
   "skip_h1_title": false,
   "title_cell": "Table of Contents",
   "title_sidebar": "Contents",
   "toc_cell": false,
   "toc_position": {},
   "toc_section_display": true,
   "toc_window_display": true
  }
 },
 "nbformat": 4,
 "nbformat_minor": 2
}

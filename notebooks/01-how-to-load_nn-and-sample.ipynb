{
 "cells": [
  {
   "cell_type": "code",
   "execution_count": 6,
   "metadata": {
    "ExecuteTime": {
     "end_time": "2020-03-29T15:19:46.784619Z",
     "start_time": "2020-03-29T15:19:46.778840Z"
    },
    "pycharm": {
     "is_executing": false
    }
   },
   "outputs": [],
   "source": [
    "import torch\n",
    "import gmodel\n",
    "from gmodel.models import galaxy_net"
   ]
  },
  {
   "cell_type": "code",
   "execution_count": null,
   "metadata": {},
   "outputs": [],
   "source": []
  },
  {
   "cell_type": "code",
   "execution_count": 7,
   "metadata": {
    "ExecuteTime": {
     "end_time": "2020-03-29T15:19:51.093280Z",
     "start_time": "2020-03-29T15:19:50.920253Z"
    },
    "pycharm": {
     "is_executing": false,
     "name": "#%% \n"
    }
   },
   "outputs": [
    {
     "ename": "FileNotFoundError",
     "evalue": "[Errno 2] No such file or directory: '/home/imendoza/deblend/galaxy-net/reports/testing2/test1/params/vae_params_140.dat'",
     "output_type": "error",
     "traceback": [
      "\u001b[0;31m---------------------------------------------------------------------------\u001b[0m",
      "\u001b[0;31mFileNotFoundError\u001b[0m                         Traceback (most recent call last)",
      "\u001b[0;32m<ipython-input-7-01cafbfa39c5>\u001b[0m in \u001b[0;36m<module>\u001b[0;34m\u001b[0m\n\u001b[1;32m      7\u001b[0m \u001b[0;31m#dec = CenteredGalaxyDecoder(40)\u001b[0m\u001b[0;34m\u001b[0m\u001b[0;34m\u001b[0m\u001b[0;34m\u001b[0m\u001b[0m\n\u001b[1;32m      8\u001b[0m \u001b[0mvae\u001b[0m \u001b[0;34m=\u001b[0m \u001b[0mgalaxy_net\u001b[0m\u001b[0;34m.\u001b[0m\u001b[0mOneCenteredGalaxy\u001b[0m\u001b[0;34m(\u001b[0m\u001b[0;36m40\u001b[0m\u001b[0;34m,\u001b[0m \u001b[0mnum_bands\u001b[0m\u001b[0;34m=\u001b[0m\u001b[0;36m6\u001b[0m\u001b[0;34m,\u001b[0m \u001b[0mlatent_dim\u001b[0m\u001b[0;34m=\u001b[0m\u001b[0;36m8\u001b[0m\u001b[0;34m)\u001b[0m\u001b[0;34m\u001b[0m\u001b[0;34m\u001b[0m\u001b[0m\n\u001b[0;32m----> 9\u001b[0;31m \u001b[0mvae\u001b[0m\u001b[0;34m.\u001b[0m\u001b[0mload_state_dict\u001b[0m\u001b[0;34m(\u001b[0m\u001b[0mtorch\u001b[0m\u001b[0;34m.\u001b[0m\u001b[0mload\u001b[0m\u001b[0;34m(\u001b[0m\u001b[0;34m\"/home/imendoza/deblend/galaxy-net/reports/testing2/test1/params/vae_params_140.dat\"\u001b[0m\u001b[0;34m)\u001b[0m\u001b[0;34m)\u001b[0m\u001b[0;34m\u001b[0m\u001b[0;34m\u001b[0m\u001b[0m\n\u001b[0m",
      "\u001b[0;32m~/miniconda3/envs/deblend/lib/python3.7/site-packages/torch/serialization.py\u001b[0m in \u001b[0;36mload\u001b[0;34m(f, map_location, pickle_module, **pickle_load_args)\u001b[0m\n\u001b[1;32m    417\u001b[0m             \u001b[0;34m(\u001b[0m\u001b[0msys\u001b[0m\u001b[0;34m.\u001b[0m\u001b[0mversion_info\u001b[0m\u001b[0;34m[\u001b[0m\u001b[0;36m0\u001b[0m\u001b[0;34m]\u001b[0m \u001b[0;34m==\u001b[0m \u001b[0;36m2\u001b[0m \u001b[0;32mand\u001b[0m \u001b[0misinstance\u001b[0m\u001b[0;34m(\u001b[0m\u001b[0mf\u001b[0m\u001b[0;34m,\u001b[0m \u001b[0municode\u001b[0m\u001b[0;34m)\u001b[0m\u001b[0;34m)\u001b[0m\u001b[0;34m:\u001b[0m\u001b[0;34m\u001b[0m\u001b[0;34m\u001b[0m\u001b[0m\n\u001b[1;32m    418\u001b[0m         \u001b[0mnew_fd\u001b[0m \u001b[0;34m=\u001b[0m \u001b[0;32mTrue\u001b[0m\u001b[0;34m\u001b[0m\u001b[0;34m\u001b[0m\u001b[0m\n\u001b[0;32m--> 419\u001b[0;31m         \u001b[0mf\u001b[0m \u001b[0;34m=\u001b[0m \u001b[0mopen\u001b[0m\u001b[0;34m(\u001b[0m\u001b[0mf\u001b[0m\u001b[0;34m,\u001b[0m \u001b[0;34m'rb'\u001b[0m\u001b[0;34m)\u001b[0m\u001b[0;34m\u001b[0m\u001b[0;34m\u001b[0m\u001b[0m\n\u001b[0m\u001b[1;32m    420\u001b[0m     \u001b[0;32melif\u001b[0m \u001b[0;34m(\u001b[0m\u001b[0msys\u001b[0m\u001b[0;34m.\u001b[0m\u001b[0mversion_info\u001b[0m\u001b[0;34m[\u001b[0m\u001b[0;36m0\u001b[0m\u001b[0;34m]\u001b[0m \u001b[0;34m==\u001b[0m \u001b[0;36m3\u001b[0m \u001b[0;32mand\u001b[0m \u001b[0misinstance\u001b[0m\u001b[0;34m(\u001b[0m\u001b[0mf\u001b[0m\u001b[0;34m,\u001b[0m \u001b[0mpathlib\u001b[0m\u001b[0;34m.\u001b[0m\u001b[0mPath\u001b[0m\u001b[0;34m)\u001b[0m\u001b[0;34m)\u001b[0m\u001b[0;34m:\u001b[0m\u001b[0;34m\u001b[0m\u001b[0;34m\u001b[0m\u001b[0m\n\u001b[1;32m    421\u001b[0m         \u001b[0mnew_fd\u001b[0m \u001b[0;34m=\u001b[0m \u001b[0;32mTrue\u001b[0m\u001b[0;34m\u001b[0m\u001b[0;34m\u001b[0m\u001b[0m\n",
      "\u001b[0;31mFileNotFoundError\u001b[0m: [Errno 2] No such file or directory: '/home/imendoza/deblend/galaxy-net/reports/testing2/test1/params/vae_params_140.dat'"
     ]
    }
   ],
   "source": [
    "#For example we can look at the data/test8 where we \n",
    "#have an instance of galbasic with the following parameters.\n",
    "#slen = 30 \n",
    "# ds = datasets.GalBasic(30, min_galaxies=1, max_galaxies=1, mean_galaxies=1, \n",
    "#                        num_images=1, centered=True, sky=700)\n",
    "\n",
    "#dec = CenteredGalaxyDecoder(40)\n",
    "vae = galaxy_net.OneCenteredGalaxy(40, num_bands=6, latent_dim=8)\n",
    "vae.load_state_dict(torch.load(\"/home/imendoza/deblend/galaxy-net/reports/testing2/test1/params/vae_params_140.dat\"))\n"
   ]
  },
  {
   "cell_type": "code",
   "execution_count": 13,
   "metadata": {
    "ExecuteTime": {
     "end_time": "2020-03-29T15:20:59.913056Z",
     "start_time": "2020-03-29T15:20:59.903520Z"
    },
    "pycharm": {
     "is_executing": false,
     "name": "#%%\n"
    }
   },
   "outputs": [
    {
     "data": {
      "text/plain": [
       "torch.Size([10, 8, 1, 1])"
      ]
     },
     "execution_count": 13,
     "metadata": {},
     "output_type": "execute_result"
    }
   ],
   "source": [
    "from torch.distributions import Normal\n",
    "p_z = Normal(torch.zeros(1), torch.eye(1))\n",
    "z = p_z.rsample(torch.tensor([10, 8])).view(10, -1) \n",
    "z.shape\n",
    "# out, _ = vae.dec.forward(z)\n",
    "# print(z)\n",
    "# plt.imshow(out[0,0].detach().numpy())"
   ]
  },
  {
   "cell_type": "code",
   "execution_count": 37,
   "metadata": {
    "pycharm": {
     "is_executing": false,
     "name": "#%%\n"
    }
   },
   "outputs": [
    {
     "data": {
      "text/plain": [
       "tensor(8)"
      ]
     },
     "execution_count": 37,
     "metadata": {},
     "output_type": "execute_result"
    }
   ],
   "source": [
    "torch.tensor(8)\n"
   ]
  },
  {
   "cell_type": "code",
   "execution_count": 49,
   "metadata": {
    "pycharm": {
     "is_executing": false,
     "name": "#%%\n"
    }
   },
   "outputs": [
    {
     "name": "stdout",
     "output_type": "stream",
     "text": [
      "odict_keys(['zero', 'one', 'enc.features.0.weight', 'enc.features.0.bias', 'enc.features.2.weight', 'enc.features.2.bias', 'enc.features.4.weight', 'enc.features.4.bias', 'enc.features.7.weight', 'enc.features.7.bias', 'enc.features.9.weight', 'enc.features.9.bias', 'enc.features.10.weight', 'enc.features.10.bias', 'enc.features.13.weight', 'enc.features.13.bias', 'enc.features.15.weight', 'enc.features.15.bias', 'enc.fc_mean.weight', 'enc.fc_mean.bias', 'enc.fc_var.weight', 'enc.fc_var.bias', 'dec.fc.0.weight', 'dec.fc.0.bias', 'dec.fc.2.weight', 'dec.fc.2.bias', 'dec.deconv.0.weight', 'dec.deconv.0.bias', 'dec.deconv.2.weight', 'dec.deconv.2.bias', 'dec.deconv.4.weight', 'dec.deconv.4.bias', 'dec.deconv.6.weight', 'dec.deconv.6.bias', 'dec.deconv.7.weight', 'dec.deconv.7.bias'])\n",
      "odict_keys(['features.0.weight', 'features.0.bias', 'features.2.weight', 'features.2.bias', 'features.4.weight', 'features.4.bias', 'features.7.weight', 'features.7.bias', 'features.9.weight', 'features.9.bias', 'features.10.weight', 'features.10.bias', 'features.13.weight', 'features.13.bias', 'features.15.weight', 'features.15.bias', 'fc_mean.weight', 'fc_mean.bias', 'fc_var.weight', 'fc_var.bias'])\n"
     ]
    }
   ],
   "source": [
    "print(vae.state_dict().keys())\n",
    "print(vae.enc.state_dict().keys())\n"
   ]
  },
  {
   "cell_type": "code",
   "execution_count": 41,
   "metadata": {
    "pycharm": {
     "is_executing": false,
     "name": "#%%\n"
    }
   },
   "outputs": [
    {
     "data": {
      "text/plain": [
       "['__call__',\n",
       " '__class__',\n",
       " '__constants__',\n",
       " '__delattr__',\n",
       " '__dict__',\n",
       " '__dir__',\n",
       " '__doc__',\n",
       " '__eq__',\n",
       " '__format__',\n",
       " '__ge__',\n",
       " '__getattr__',\n",
       " '__getattribute__',\n",
       " '__gt__',\n",
       " '__hash__',\n",
       " '__init__',\n",
       " '__init_subclass__',\n",
       " '__le__',\n",
       " '__lt__',\n",
       " '__module__',\n",
       " '__ne__',\n",
       " '__new__',\n",
       " '__reduce__',\n",
       " '__reduce_ex__',\n",
       " '__repr__',\n",
       " '__setattr__',\n",
       " '__setstate__',\n",
       " '__sizeof__',\n",
       " '__str__',\n",
       " '__subclasshook__',\n",
       " '__weakref__',\n",
       " '_apply',\n",
       " '_backward_hooks',\n",
       " '_buffers',\n",
       " '_forward_hooks',\n",
       " '_forward_pre_hooks',\n",
       " '_get_name',\n",
       " '_load_from_state_dict',\n",
       " '_load_state_dict_pre_hooks',\n",
       " '_modules',\n",
       " '_named_members',\n",
       " '_parameters',\n",
       " '_register_load_state_dict_pre_hook',\n",
       " '_register_state_dict_hook',\n",
       " '_save_to_state_dict',\n",
       " '_slow_forward',\n",
       " '_state_dict_hooks',\n",
       " '_tracing_name',\n",
       " '_version',\n",
       " 'add_module',\n",
       " 'apply',\n",
       " 'bias',\n",
       " 'buffers',\n",
       " 'children',\n",
       " 'cpu',\n",
       " 'cuda',\n",
       " 'double',\n",
       " 'dump_patches',\n",
       " 'eval',\n",
       " 'extra_repr',\n",
       " 'float',\n",
       " 'forward',\n",
       " 'half',\n",
       " 'in_features',\n",
       " 'load_state_dict',\n",
       " 'modules',\n",
       " 'named_buffers',\n",
       " 'named_children',\n",
       " 'named_modules',\n",
       " 'named_parameters',\n",
       " 'out_features',\n",
       " 'parameters',\n",
       " 'register_backward_hook',\n",
       " 'register_buffer',\n",
       " 'register_forward_hook',\n",
       " 'register_forward_pre_hook',\n",
       " 'register_parameter',\n",
       " 'requires_grad_',\n",
       " 'reset_parameters',\n",
       " 'share_memory',\n",
       " 'state_dict',\n",
       " 'to',\n",
       " 'train',\n",
       " 'training',\n",
       " 'type',\n",
       " 'weight',\n",
       " 'zero_grad']"
      ]
     },
     "execution_count": 41,
     "metadata": {},
     "output_type": "execute_result"
    }
   ],
   "source": [
    "dir(vae.enc.features[13])"
   ]
  },
  {
   "cell_type": "code",
   "execution_count": 44,
   "metadata": {
    "pycharm": {
     "is_executing": false,
     "name": "#%%\n"
    }
   },
   "outputs": [
    {
     "data": {
      "text/plain": [
       "OrderedDict([('weight',\n",
       "              tensor([[-0.0361, -0.0599, -0.0417,  ..., -0.0333, -0.0577,  0.0041],\n",
       "                      [-0.0401,  0.0397, -0.0512,  ...,  0.0223, -0.0418,  0.0040],\n",
       "                      [-0.0011,  0.0267, -0.0614,  ..., -0.0550,  0.0552, -0.0094],\n",
       "                      ...,\n",
       "                      [-0.0441, -0.0181, -0.0270,  ..., -0.0400,  0.0237, -0.0022],\n",
       "                      [-0.0510,  0.0082,  0.0257,  ..., -0.0524, -0.0199,  0.0464],\n",
       "                      [-0.0264, -0.0578, -0.0389,  ..., -0.0219, -0.0613, -0.0116]])),\n",
       "             ('bias',\n",
       "              tensor([-0.0048, -0.0515,  0.0360,  0.0174, -0.0238, -0.0257, -0.0193, -0.0241,\n",
       "                       0.0208,  0.0110, -0.0232, -0.0116,  0.0383,  0.0123, -0.0590,  0.0108,\n",
       "                      -0.0084, -0.0096, -0.0441, -0.0207,  0.0410,  0.0152,  0.0247, -0.0101,\n",
       "                      -0.0552, -0.0325,  0.0485, -0.0054,  0.0621, -0.0581,  0.0237,  0.0402,\n",
       "                      -0.0138,  0.0103, -0.0587, -0.0382, -0.0229,  0.0460,  0.0163,  0.0067,\n",
       "                       0.0612, -0.0204, -0.0181, -0.0189,  0.0544, -0.0310, -0.0188, -0.0257,\n",
       "                      -0.0620, -0.0225, -0.0105,  0.0223, -0.0588, -0.0598,  0.0498, -0.0108,\n",
       "                       0.0566, -0.0061, -0.0235, -0.0265,  0.0367,  0.0459,  0.0099, -0.0052,\n",
       "                      -0.0590,  0.0434, -0.0187,  0.0091, -0.0240, -0.0057, -0.0465, -0.0082,\n",
       "                      -0.0355, -0.0465,  0.0415,  0.0077, -0.0469,  0.0322, -0.0179, -0.0473,\n",
       "                       0.0264, -0.0444,  0.0065,  0.0258,  0.0293,  0.0516,  0.0128, -0.0484,\n",
       "                      -0.0002,  0.0099, -0.0396,  0.0549,  0.0577,  0.0125,  0.0016,  0.0066,\n",
       "                      -0.0027,  0.0364, -0.0134,  0.0446,  0.0185,  0.0063, -0.0511, -0.0302,\n",
       "                      -0.0336,  0.0360,  0.0053,  0.0441,  0.0366,  0.0600, -0.0478, -0.0617,\n",
       "                       0.0567,  0.0184, -0.0400, -0.0349,  0.0216,  0.0017, -0.0054, -0.0428,\n",
       "                       0.0066, -0.0419, -0.0402, -0.0333, -0.0272,  0.0621,  0.0319, -0.0590,\n",
       "                       0.0045,  0.0060,  0.0062,  0.0215,  0.0338, -0.0495,  0.0171,  0.0579,\n",
       "                      -0.0439, -0.0542,  0.0095,  0.0511, -0.0043, -0.0033,  0.0066,  0.0181,\n",
       "                       0.0543,  0.0444, -0.0045,  0.0128, -0.0205, -0.0181, -0.0290, -0.0460,\n",
       "                      -0.0205,  0.0387,  0.0361,  0.0505,  0.0159, -0.0313, -0.0063, -0.0547,\n",
       "                      -0.0410, -0.0460,  0.0592, -0.0235,  0.0498, -0.0502, -0.0576,  0.0176,\n",
       "                       0.0618,  0.0382, -0.0229, -0.0306,  0.0288,  0.0027,  0.0276, -0.0289,\n",
       "                      -0.0618,  0.0621,  0.0021,  0.0226, -0.0018, -0.0281, -0.0412,  0.0210,\n",
       "                       0.0255,  0.0248,  0.0324, -0.0123, -0.0327,  0.0207,  0.0378,  0.0598,\n",
       "                       0.0277,  0.0417, -0.0122, -0.0200,  0.0189,  0.0618, -0.0575,  0.0469,\n",
       "                       0.0326,  0.0158,  0.0328, -0.0278,  0.0055,  0.0473, -0.0018, -0.0400,\n",
       "                       0.0065,  0.0528, -0.0188, -0.0080, -0.0186, -0.0122,  0.0486,  0.0190,\n",
       "                       0.0206,  0.0608,  0.0058, -0.0172, -0.0365,  0.0620,  0.0204, -0.0004,\n",
       "                      -0.0316, -0.0197, -0.0018, -0.0288,  0.0590,  0.0415, -0.0437,  0.0077,\n",
       "                      -0.0218, -0.0250,  0.0338, -0.0391, -0.0261,  0.0607, -0.0404,  0.0281,\n",
       "                      -0.0567,  0.0164,  0.0562,  0.0448, -0.0324,  0.0202,  0.0235,  0.0494,\n",
       "                      -0.0486, -0.0017,  0.0387, -0.0324, -0.0242,  0.0186,  0.0051, -0.0304]))])"
      ]
     },
     "execution_count": 44,
     "metadata": {},
     "output_type": "execute_result"
    }
   ],
   "source": [
    "vae.enc.features[13].state_dict()"
   ]
  },
  {
   "cell_type": "code",
   "execution_count": null,
   "metadata": {
    "pycharm": {
     "name": "#%%\n"
    }
   },
   "outputs": [],
   "source": [
    "\n"
   ]
  }
 ],
 "metadata": {
  "kernelspec": {
   "display_name": "Python 3",
   "language": "python",
   "name": "python3"
  },
  "language_info": {
   "codemirror_mode": {
    "name": "ipython",
    "version": 3
   },
   "file_extension": ".py",
   "mimetype": "text/x-python",
   "name": "python",
   "nbconvert_exporter": "python",
   "pygments_lexer": "ipython3",
   "version": "3.7.7"
  },
  "pycharm": {
   "stem_cell": {
    "cell_type": "raw",
    "metadata": {
     "collapsed": false
    },
    "source": []
   }
  },
  "toc": {
   "base_numbering": 1,
   "nav_menu": {},
   "number_sections": true,
   "sideBar": true,
   "skip_h1_title": false,
   "title_cell": "Table of Contents",
   "title_sidebar": "Contents",
   "toc_cell": false,
   "toc_position": {},
   "toc_section_display": true,
   "toc_window_display": true
  }
 },
 "nbformat": 4,
 "nbformat_minor": 1
}

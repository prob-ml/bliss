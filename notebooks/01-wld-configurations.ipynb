{
 "cells": [
  {
   "cell_type": "code",
   "execution_count": 14,
   "metadata": {
    "collapsed": true,
    "pycharm": {
     "is_executing": false
    }
   },
   "outputs": [
    {
     "data": {
      "text/plain": "<module 'WeakLensingDeblending.descwl' from '/home/imendoza/deblend/galaxy-net/WeakLensingDeblending/descwl/__init__.py'>"
     },
     "metadata": {},
     "output_type": "execute_result",
     "execution_count": 14
    }
   ],
   "source": [
    "import os\n",
    "os.chdir(\"/home/imendoza/deblend/galaxy-net\")\n",
    "import sys\n",
    "sys.path.insert(0, \"/home/imendoza/deblend/galaxy-net\")\n",
    "sys.path.insert(0, \"/home/imendoza/deblend/galaxy-net/WeakLensingDeblending\")\n",
    "sys.path.insert(0, \"/home/imendoza/deblend/galaxy-net/BlendingToolKit\")\n",
    "\n",
    "from WeakLensingDeblending import descwl\n",
    "import fitsio as fits\n",
    "from importlib import reload\n",
    "from BlendingToolKit import btk\n",
    "\n",
    "reload(descwl)"
   ]
  },
  {
   "cell_type": "code",
   "execution_count": 17,
   "outputs": [],
   "source": [
    "#setup\n",
    "survey_name = 'LSST'\n",
    "bands = ['y', 'z', 'i', 'r', 'g', 'u']\n",
    "obs_generator = []\n",
    "catalog_name = \"/home/imendoza/deblend/galaxy-net/params/OneDegSq.fits\"\n",
    "table = fits.read(catalog_name)"
   ],
   "metadata": {
    "collapsed": false,
    "pycharm": {
     "name": "#%%\n",
     "is_executing": false
    }
   }
  },
  {
   "cell_type": "code",
   "execution_count": 22,
   "outputs": [
    {
     "name": "stdout",
     "text": [
      "\nConfigurations:\nadd_noise                      True\nbands                          ('u', 'g', 'r', 'i', 'z', 'y')\nbatch_size                     5\ncatalog_name                   /home/imendoza/deblend/galaxy-net/params/OneDegSq.fits\nmax_number                     1\nmin_snr                        0.05\npixel_scale                    0.2\nseed                           0\nstamp_size                     24\nsurvey_name                    LSST\nverbose                        False\n\n\n"
     ],
     "output_type": "stream"
    }
   ],
   "source": [
    "param = btk.config.Simulation_params(catalog_name, max_number=1, batch_size=5)\n",
    "catalog = btk.get_input_catalog.load_catalog(param)\n",
    "param.display()"
   ],
   "metadata": {
    "collapsed": false,
    "pycharm": {
     "name": "#%%\n",
     "is_executing": false
    }
   }
  },
  {
   "cell_type": "code",
   "execution_count": null,
   "outputs": [],
   "source": [],
   "metadata": {
    "collapsed": false,
    "pycharm": {
     "name": "#%%\n"
    }
   }
  },
  {
   "cell_type": "code",
   "execution_count": 9,
   "outputs": [],
   "source": [
    "# obtain a survey object in each of the bands.\n",
    "for band in bands:\n",
    "\n",
    "    # dictionary of default values.\n",
    "    survey_dict = descwl.survey.Survey.get_defaults(\n",
    "        survey_name=survey_name, filter_band=band)\n",
    "\n",
    "    descwl_survey = descwl.survey.Survey(no_analysis=True,\n",
    "                                         survey_name=survey_name,\n",
    "                                         filter_band=band, **survey_dict)\n",
    "    obs_generator.append(descwl_survey)\n"
   ],
   "metadata": {
    "collapsed": false,
    "pycharm": {
     "name": "#%%\n",
     "is_executing": false
    }
   }
  },
  {
   "cell_type": "code",
   "execution_count": 10,
   "outputs": [
    {
     "data": {
      "text/plain": "{'survey_name': 'LSST',\n 'filter_band': 'y',\n 'atmospheric_psf_beta': 0.0,\n 'atmospheric_psf_e1': 0.0,\n 'atmospheric_psf_e2': 0.0,\n 'cosmic_shear_g1': 0.0,\n 'cosmic_shear_g2': 0.0,\n 'airmass': 1.2,\n 'mirror_diameter': 8.36,\n 'effective_area': 32.4,\n 'image_width': 4096,\n 'image_height': 4096,\n 'pixel_scale': 0.2,\n 'exposure_time': 5520.0,\n 'sky_brightness': 21.2,\n 'zenith_psf_fwhm': 0.7,\n 'zero_point': 43.7,\n 'extinction': 0.1}"
     },
     "metadata": {},
     "output_type": "execute_result",
     "execution_count": 10
    }
   ],
   "source": [
    "# galaxy renderer to draw an individual galaxy\n",
    "survey1 = obs_generator[0]\n",
    "survey1.args"
   ],
   "metadata": {
    "collapsed": false,
    "pycharm": {
     "name": "#%%\n",
     "is_executing": false
    }
   }
  },
  {
   "cell_type": "code",
   "execution_count": 11,
   "outputs": [],
   "source": [
    "iso_render_engine = descwl.render.Engine(\n",
    "        survey=survey1,\n",
    "        min_snr=0.05,\n",
    "        truncate_radius=30,\n",
    "        no_margin=False,\n",
    "        verbose_render=False)"
   ],
   "metadata": {
    "collapsed": false,
    "pycharm": {
     "name": "#%%\n",
     "is_executing": false
    }
   }
  },
  {
   "cell_type": "code",
   "execution_count": null,
   "outputs": [],
   "source": [
    "\n"
   ],
   "metadata": {
    "collapsed": false,
    "pycharm": {
     "name": "#%%\n"
    }
   }
  }
 ],
 "metadata": {
  "kernelspec": {
   "display_name": "Python 3",
   "language": "python",
   "name": "python3"
  },
  "language_info": {
   "codemirror_mode": {
    "name": "ipython",
    "version": 2
   },
   "file_extension": ".py",
   "mimetype": "text/x-python",
   "name": "python",
   "nbconvert_exporter": "python",
   "pygments_lexer": "ipython2",
   "version": "2.7.6"
  },
  "pycharm": {
   "stem_cell": {
    "cell_type": "raw",
    "source": [],
    "metadata": {
     "collapsed": false
    }
   }
  }
 },
 "nbformat": 4,
 "nbformat_minor": 0
}
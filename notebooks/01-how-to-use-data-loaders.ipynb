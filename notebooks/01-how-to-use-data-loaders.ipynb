{
 "cells": [
  {
   "cell_type": "code",
   "execution_count": 8,
   "metadata": {
    "collapsed": true,
    "pycharm": {
     "is_executing": false
    }
   },
   "outputs": [],
   "source": [
    "#Goal: To test the different data loader \n",
    "# settings and understand them."
   ]
  },
  {
   "cell_type": "code",
   "execution_count": 9,
   "outputs": [],
   "source": [
    "import os\n",
    "os.chdir('/home/imendoza/deblend/galaxy-net')\n",
    "import datasets\n",
    "from importlib import reload\n",
    "reload(datasets)\n",
    "\n",
    "from torch.utils.data import DataLoader\n",
    "from torch.utils.data.sampler import SubsetRandomSampler"
   ],
   "metadata": {
    "collapsed": false,
    "pycharm": {
     "name": "#%%\n",
     "is_executing": false
    }
   }
  },
  {
   "cell_type": "code",
   "execution_count": 10,
   "outputs": [
    {
     "name": "stdout",
     "text": [
      "858502\n"
     ],
     "output_type": "stream"
    }
   ],
   "source": [
    "ds = datasets.CatsimData()\n",
    "train_indices = range(0, int(len(ds)))\n",
    "train_loader = DataLoader(ds, batch_size=64,\n",
    "                               num_workers=2, pin_memory=True,\n",
    "                               sampler=SubsetRandomSampler(train_indices))\n",
    "print(len(train_loader.sampler))"
   ],
   "metadata": {
    "collapsed": false,
    "pycharm": {
     "name": "#%%\n",
     "is_executing": false
    }
   }
  },
  {
   "cell_type": "code",
   "execution_count": null,
   "outputs": [
    {
     "name": "stdout",
     "text": [
      "0 64\ntensor([[ 3.5969e+02, -1.8088e-01,  1.0195e+00,  ...,  2.4963e+01,\n          2.4341e+01,  2.4128e+01],\n        [ 1.3660e-01, -1.6944e-01,  2.4425e+00,  ...,  2.8095e+01,\n          2.8008e+01,  2.7864e+01],\n        [ 3.5956e+02, -2.0858e-01,  1.6099e+00,  ...,  2.6800e+01,\n          2.6491e+01,  2.6091e+01],\n        ...,\n        [ 2.4586e-01,  3.3656e-01,  7.9903e-01,  ...,  2.6518e+01,\n          2.6192e+01,  2.6051e+01],\n        [ 2.1715e-01, -4.6617e-01,  1.1189e+00,  ...,  2.2877e+01,\n          2.2266e+01,  2.2027e+01],\n        [ 4.0446e-02,  3.6188e-01,  1.5985e+00,  ...,  2.4408e+01,\n          2.4224e+01,  2.3896e+01]])\n1 64\ntensor([[ 3.3527e-01, -4.6878e-01,  8.0839e-01,  ...,  2.6039e+01,\n          2.5664e+01,  2.5490e+01],\n        [ 3.5986e+02, -4.9994e-01,  4.5647e-01,  ...,  2.2548e+01,\n          2.2337e+01,  2.2226e+01],\n        [ 4.0819e-01, -4.2666e-01,  2.6661e+00,  ...,  2.6585e+01,\n          2.6506e+01,  2.6225e+01],\n        ...,\n        [ 2.6564e-01, -1.8887e-01,  2.2421e+00,  ...,  2.7454e+01,\n          2.7240e+01,  2.7050e+01],\n        [ 3.5996e+02, -2.6181e-01,  1.0547e+00,  ...,  2.5294e+01,\n          2.4702e+01,  2.4486e+01],\n        [ 3.1857e-01,  2.9257e-01,  3.2694e+00,  ...,  2.6933e+01,\n          2.7015e+01,  2.7061e+01]])\n"
     ],
     "output_type": "stream"
    }
   ],
   "source": [
    "for i,sample in enumerate(train_loader): \n",
    "    if i==0 or i==1: \n",
    "        print(i, len(sample))\n",
    "        print(sample)\n",
    "    \n",
    "    \n",
    "        "
   ],
   "metadata": {
    "collapsed": false,
    "pycharm": {
     "name": "#%%\n",
     "is_executing": true
    }
   }
  },
  {
   "cell_type": "code",
   "execution_count": null,
   "outputs": [],
   "source": [
    "for i,sample in enumerate(train_loader): \n",
    "    if i==0 or i==1: \n",
    "        print(i, len(sample))\n",
    "        print(sample)\n",
    "    print(i)\n",
    "    \n",
    "    if i > 100: \n",
    "        break"
   ],
   "metadata": {
    "collapsed": false,
    "pycharm": {
     "name": "#%%\n",
     "is_executing": true
    }
   }
  },
  {
   "cell_type": "code",
   "execution_count": null,
   "outputs": [],
   "source": [
    "\"\"\"\n",
    "Notes: \n",
    "* The data loader will create enough batches to iterate through the whole data set, a break might\n",
    "be required to accomodate using a small number of batches\n",
    "* Everytime you iterate through the loader, a totally new set of batches is created. So the indices \n",
    "assigned for each of the batches in each batch_idx are random. \n",
    "\n",
    "\"\"\"\n"
   ],
   "metadata": {
    "collapsed": false,
    "pycharm": {
     "name": "#%%\n",
     "is_executing": true
    }
   }
  }
 ],
 "metadata": {
  "kernelspec": {
   "display_name": "Python 3",
   "language": "python",
   "name": "python3"
  },
  "language_info": {
   "codemirror_mode": {
    "name": "ipython",
    "version": 2
   },
   "file_extension": ".py",
   "mimetype": "text/x-python",
   "name": "python",
   "nbconvert_exporter": "python",
   "pygments_lexer": "ipython2",
   "version": "2.7.6"
  },
  "pycharm": {
   "stem_cell": {
    "cell_type": "raw",
    "source": [],
    "metadata": {
     "collapsed": false
    }
   }
  }
 },
 "nbformat": 4,
 "nbformat_minor": 0
}
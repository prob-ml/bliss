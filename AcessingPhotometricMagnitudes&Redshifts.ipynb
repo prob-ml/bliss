{
 "cells": [
  {
   "cell_type": "markdown",
   "id": "f325fe55",
   "metadata": {},
   "source": [
    "# Basic Access of Magnitudes & Redshifts"
   ]
  },
  {
   "cell_type": "markdown",
   "id": "76496dcb",
   "metadata": {},
   "source": [
    "Import necessary packages"
   ]
  },
  {
   "cell_type": "code",
   "execution_count": 1,
   "id": "e1dac215",
   "metadata": {},
   "outputs": [],
   "source": [
    "from astroquery.sdss import SDSS"
   ]
  },
  {
   "cell_type": "markdown",
   "id": "b3485363",
   "metadata": {},
   "source": [
    "We will use the `SDSS.query_photoobj` function. This requires you to specify a run, rerun, camcol, and field parameter, and then followed by the fields that you want to select. Here is a summary of the individual numbers:\n",
    "- `rerun` should always be 301 by default, no need to input this. If you visit https://dr17.sdss.org/sas/dr17/eboss/photoObj/, you see that `301` is the only option there anyway.\n",
    "- `run` can be one of many values, visible when you click `301` at the link above.\n",
    "- `camcol` can be one of the values `1,2,3,4,5,6`, again click through at the link above to see this.\n",
    "- `field` is a value between around `11` and `800` or so. \n",
    "\n",
    "Read more about these values briefly here: https://www.sdss3.org/dr10/imaging/imaging_basics.php.\n",
    "\n",
    "If you work at the granularity of each of these, you get a reasonable number of spectra. To illustrate, let's download one file for example. You could run\n",
    "\n",
    "`wget https://dr17.sdss.org/sas/dr17/eboss/photoObj/301/1896/6/photoObj-001896-6-0042.fits`\n",
    "\n",
    "to download the file corresponding to rerun 301, run 1896, camcol 6, field 42. This return information for about 1100 objects."
   ]
  },
  {
   "cell_type": "code",
   "execution_count": 2,
   "id": "73bda996",
   "metadata": {},
   "outputs": [
    {
     "ename": "FileNotFoundError",
     "evalue": "[Errno 2] No such file or directory: '/data/scratch/declan/scrphotoObj-001896-6-0042.fits'",
     "output_type": "error",
     "traceback": [
      "\u001b[0;31m---------------------------------------------------------------------------\u001b[0m",
      "\u001b[0;31mFileNotFoundError\u001b[0m                         Traceback (most recent call last)",
      "Cell \u001b[0;32mIn[2], line 2\u001b[0m\n\u001b[1;32m      1\u001b[0m \u001b[38;5;28;01mfrom\u001b[39;00m \u001b[38;5;21;01mastropy\u001b[39;00m\u001b[38;5;21;01m.\u001b[39;00m\u001b[38;5;21;01mio\u001b[39;00m \u001b[38;5;28;01mimport\u001b[39;00m fits\n\u001b[0;32m----> 2\u001b[0m f \u001b[38;5;241m=\u001b[39m \u001b[43mfits\u001b[49m\u001b[38;5;241;43m.\u001b[39;49m\u001b[43mopen\u001b[49m\u001b[43m(\u001b[49m\u001b[38;5;124;43m'\u001b[39;49m\u001b[38;5;124;43m/data/scratch/declan/scrphotoObj-001896-6-0042.fits\u001b[39;49m\u001b[38;5;124;43m'\u001b[39;49m\u001b[43m)\u001b[49m\n\u001b[1;32m      3\u001b[0m \u001b[38;5;28mlen\u001b[39m(f[\u001b[38;5;241m1\u001b[39m]\u001b[38;5;241m.\u001b[39mdata)\n",
      "File \u001b[0;32m~/bliss/venv/lib/python3.10/site-packages/astropy/io/fits/hdu/hdulist.py:214\u001b[0m, in \u001b[0;36mfitsopen\u001b[0;34m(name, mode, memmap, save_backup, cache, lazy_load_hdus, ignore_missing_simple, use_fsspec, fsspec_kwargs, **kwargs)\u001b[0m\n\u001b[1;32m    211\u001b[0m \u001b[38;5;28;01mif\u001b[39;00m \u001b[38;5;129;01mnot\u001b[39;00m name:\n\u001b[1;32m    212\u001b[0m     \u001b[38;5;28;01mraise\u001b[39;00m \u001b[38;5;167;01mValueError\u001b[39;00m(\u001b[38;5;124mf\u001b[39m\u001b[38;5;124m\"\u001b[39m\u001b[38;5;124mEmpty filename: \u001b[39m\u001b[38;5;132;01m{\u001b[39;00mname\u001b[38;5;132;01m!r}\u001b[39;00m\u001b[38;5;124m\"\u001b[39m)\n\u001b[0;32m--> 214\u001b[0m \u001b[38;5;28;01mreturn\u001b[39;00m \u001b[43mHDUList\u001b[49m\u001b[38;5;241;43m.\u001b[39;49m\u001b[43mfromfile\u001b[49m\u001b[43m(\u001b[49m\n\u001b[1;32m    215\u001b[0m \u001b[43m    \u001b[49m\u001b[43mname\u001b[49m\u001b[43m,\u001b[49m\n\u001b[1;32m    216\u001b[0m \u001b[43m    \u001b[49m\u001b[43mmode\u001b[49m\u001b[43m,\u001b[49m\n\u001b[1;32m    217\u001b[0m \u001b[43m    \u001b[49m\u001b[43mmemmap\u001b[49m\u001b[43m,\u001b[49m\n\u001b[1;32m    218\u001b[0m \u001b[43m    \u001b[49m\u001b[43msave_backup\u001b[49m\u001b[43m,\u001b[49m\n\u001b[1;32m    219\u001b[0m \u001b[43m    \u001b[49m\u001b[43mcache\u001b[49m\u001b[43m,\u001b[49m\n\u001b[1;32m    220\u001b[0m \u001b[43m    \u001b[49m\u001b[43mlazy_load_hdus\u001b[49m\u001b[43m,\u001b[49m\n\u001b[1;32m    221\u001b[0m \u001b[43m    \u001b[49m\u001b[43mignore_missing_simple\u001b[49m\u001b[43m,\u001b[49m\n\u001b[1;32m    222\u001b[0m \u001b[43m    \u001b[49m\u001b[43muse_fsspec\u001b[49m\u001b[38;5;241;43m=\u001b[39;49m\u001b[43muse_fsspec\u001b[49m\u001b[43m,\u001b[49m\n\u001b[1;32m    223\u001b[0m \u001b[43m    \u001b[49m\u001b[43mfsspec_kwargs\u001b[49m\u001b[38;5;241;43m=\u001b[39;49m\u001b[43mfsspec_kwargs\u001b[49m\u001b[43m,\u001b[49m\n\u001b[1;32m    224\u001b[0m \u001b[43m    \u001b[49m\u001b[38;5;241;43m*\u001b[39;49m\u001b[38;5;241;43m*\u001b[39;49m\u001b[43mkwargs\u001b[49m\u001b[43m,\u001b[49m\n\u001b[1;32m    225\u001b[0m \u001b[43m\u001b[49m\u001b[43m)\u001b[49m\n",
      "File \u001b[0;32m~/bliss/venv/lib/python3.10/site-packages/astropy/io/fits/hdu/hdulist.py:482\u001b[0m, in \u001b[0;36mHDUList.fromfile\u001b[0;34m(cls, fileobj, mode, memmap, save_backup, cache, lazy_load_hdus, ignore_missing_simple, **kwargs)\u001b[0m\n\u001b[1;32m    462\u001b[0m \u001b[38;5;129m@classmethod\u001b[39m\n\u001b[1;32m    463\u001b[0m \u001b[38;5;28;01mdef\u001b[39;00m \u001b[38;5;21mfromfile\u001b[39m(\n\u001b[1;32m    464\u001b[0m     \u001b[38;5;28mcls\u001b[39m,\n\u001b[0;32m   (...)\u001b[0m\n\u001b[1;32m    472\u001b[0m     \u001b[38;5;241m*\u001b[39m\u001b[38;5;241m*\u001b[39mkwargs,\n\u001b[1;32m    473\u001b[0m ):\n\u001b[1;32m    474\u001b[0m \u001b[38;5;250m    \u001b[39m\u001b[38;5;124;03m\"\"\"\u001b[39;00m\n\u001b[1;32m    475\u001b[0m \u001b[38;5;124;03m    Creates an `HDUList` instance from a file-like object.\u001b[39;00m\n\u001b[1;32m    476\u001b[0m \n\u001b[0;32m   (...)\u001b[0m\n\u001b[1;32m    479\u001b[0m \u001b[38;5;124;03m    documentation for details of the parameters accepted by this method).\u001b[39;00m\n\u001b[1;32m    480\u001b[0m \u001b[38;5;124;03m    \"\"\"\u001b[39;00m\n\u001b[0;32m--> 482\u001b[0m     \u001b[38;5;28;01mreturn\u001b[39;00m \u001b[38;5;28;43mcls\u001b[39;49m\u001b[38;5;241;43m.\u001b[39;49m\u001b[43m_readfrom\u001b[49m\u001b[43m(\u001b[49m\n\u001b[1;32m    483\u001b[0m \u001b[43m        \u001b[49m\u001b[43mfileobj\u001b[49m\u001b[38;5;241;43m=\u001b[39;49m\u001b[43mfileobj\u001b[49m\u001b[43m,\u001b[49m\n\u001b[1;32m    484\u001b[0m \u001b[43m        \u001b[49m\u001b[43mmode\u001b[49m\u001b[38;5;241;43m=\u001b[39;49m\u001b[43mmode\u001b[49m\u001b[43m,\u001b[49m\n\u001b[1;32m    485\u001b[0m \u001b[43m        \u001b[49m\u001b[43mmemmap\u001b[49m\u001b[38;5;241;43m=\u001b[39;49m\u001b[43mmemmap\u001b[49m\u001b[43m,\u001b[49m\n\u001b[1;32m    486\u001b[0m \u001b[43m        \u001b[49m\u001b[43msave_backup\u001b[49m\u001b[38;5;241;43m=\u001b[39;49m\u001b[43msave_backup\u001b[49m\u001b[43m,\u001b[49m\n\u001b[1;32m    487\u001b[0m \u001b[43m        \u001b[49m\u001b[43mcache\u001b[49m\u001b[38;5;241;43m=\u001b[39;49m\u001b[43mcache\u001b[49m\u001b[43m,\u001b[49m\n\u001b[1;32m    488\u001b[0m \u001b[43m        \u001b[49m\u001b[43mignore_missing_simple\u001b[49m\u001b[38;5;241;43m=\u001b[39;49m\u001b[43mignore_missing_simple\u001b[49m\u001b[43m,\u001b[49m\n\u001b[1;32m    489\u001b[0m \u001b[43m        \u001b[49m\u001b[43mlazy_load_hdus\u001b[49m\u001b[38;5;241;43m=\u001b[39;49m\u001b[43mlazy_load_hdus\u001b[49m\u001b[43m,\u001b[49m\n\u001b[1;32m    490\u001b[0m \u001b[43m        \u001b[49m\u001b[38;5;241;43m*\u001b[39;49m\u001b[38;5;241;43m*\u001b[39;49m\u001b[43mkwargs\u001b[49m\u001b[43m,\u001b[49m\n\u001b[1;32m    491\u001b[0m \u001b[43m    \u001b[49m\u001b[43m)\u001b[49m\n",
      "File \u001b[0;32m~/bliss/venv/lib/python3.10/site-packages/astropy/io/fits/hdu/hdulist.py:1170\u001b[0m, in \u001b[0;36mHDUList._readfrom\u001b[0;34m(cls, fileobj, data, mode, memmap, cache, lazy_load_hdus, ignore_missing_simple, use_fsspec, fsspec_kwargs, **kwargs)\u001b[0m\n\u001b[1;32m   1167\u001b[0m \u001b[38;5;28;01mif\u001b[39;00m fileobj \u001b[38;5;129;01mis\u001b[39;00m \u001b[38;5;129;01mnot\u001b[39;00m \u001b[38;5;28;01mNone\u001b[39;00m:\n\u001b[1;32m   1168\u001b[0m     \u001b[38;5;28;01mif\u001b[39;00m \u001b[38;5;129;01mnot\u001b[39;00m \u001b[38;5;28misinstance\u001b[39m(fileobj, _File):\n\u001b[1;32m   1169\u001b[0m         \u001b[38;5;66;03m# instantiate a FITS file object (ffo)\u001b[39;00m\n\u001b[0;32m-> 1170\u001b[0m         fileobj \u001b[38;5;241m=\u001b[39m \u001b[43m_File\u001b[49m\u001b[43m(\u001b[49m\n\u001b[1;32m   1171\u001b[0m \u001b[43m            \u001b[49m\u001b[43mfileobj\u001b[49m\u001b[43m,\u001b[49m\n\u001b[1;32m   1172\u001b[0m \u001b[43m            \u001b[49m\u001b[43mmode\u001b[49m\u001b[38;5;241;43m=\u001b[39;49m\u001b[43mmode\u001b[49m\u001b[43m,\u001b[49m\n\u001b[1;32m   1173\u001b[0m \u001b[43m            \u001b[49m\u001b[43mmemmap\u001b[49m\u001b[38;5;241;43m=\u001b[39;49m\u001b[43mmemmap\u001b[49m\u001b[43m,\u001b[49m\n\u001b[1;32m   1174\u001b[0m \u001b[43m            \u001b[49m\u001b[43mcache\u001b[49m\u001b[38;5;241;43m=\u001b[39;49m\u001b[43mcache\u001b[49m\u001b[43m,\u001b[49m\n\u001b[1;32m   1175\u001b[0m \u001b[43m            \u001b[49m\u001b[43muse_fsspec\u001b[49m\u001b[38;5;241;43m=\u001b[39;49m\u001b[43muse_fsspec\u001b[49m\u001b[43m,\u001b[49m\n\u001b[1;32m   1176\u001b[0m \u001b[43m            \u001b[49m\u001b[43mfsspec_kwargs\u001b[49m\u001b[38;5;241;43m=\u001b[39;49m\u001b[43mfsspec_kwargs\u001b[49m\u001b[43m,\u001b[49m\n\u001b[1;32m   1177\u001b[0m \u001b[43m        \u001b[49m\u001b[43m)\u001b[49m\n\u001b[1;32m   1178\u001b[0m     \u001b[38;5;66;03m# The Astropy mode is determined by the _File initializer if the\u001b[39;00m\n\u001b[1;32m   1179\u001b[0m     \u001b[38;5;66;03m# supplied mode was None\u001b[39;00m\n\u001b[1;32m   1180\u001b[0m     mode \u001b[38;5;241m=\u001b[39m fileobj\u001b[38;5;241m.\u001b[39mmode\n",
      "File \u001b[0;32m~/bliss/venv/lib/python3.10/site-packages/astropy/io/fits/file.py:218\u001b[0m, in \u001b[0;36m_File.__init__\u001b[0;34m(self, fileobj, mode, memmap, overwrite, cache, use_fsspec, fsspec_kwargs)\u001b[0m\n\u001b[1;32m    216\u001b[0m     \u001b[38;5;28mself\u001b[39m\u001b[38;5;241m.\u001b[39m_open_fileobj(fileobj, mode, overwrite)\n\u001b[1;32m    217\u001b[0m \u001b[38;5;28;01melif\u001b[39;00m \u001b[38;5;28misinstance\u001b[39m(fileobj, (\u001b[38;5;28mstr\u001b[39m, \u001b[38;5;28mbytes\u001b[39m)):\n\u001b[0;32m--> 218\u001b[0m     \u001b[38;5;28;43mself\u001b[39;49m\u001b[38;5;241;43m.\u001b[39;49m\u001b[43m_open_filename\u001b[49m\u001b[43m(\u001b[49m\u001b[43mfileobj\u001b[49m\u001b[43m,\u001b[49m\u001b[43m \u001b[49m\u001b[43mmode\u001b[49m\u001b[43m,\u001b[49m\u001b[43m \u001b[49m\u001b[43moverwrite\u001b[49m\u001b[43m)\u001b[49m\n\u001b[1;32m    219\u001b[0m \u001b[38;5;28;01melse\u001b[39;00m:\n\u001b[1;32m    220\u001b[0m     \u001b[38;5;28mself\u001b[39m\u001b[38;5;241m.\u001b[39m_open_filelike(fileobj, mode, overwrite)\n",
      "File \u001b[0;32m~/bliss/venv/lib/python3.10/site-packages/astropy/io/fits/file.py:636\u001b[0m, in \u001b[0;36m_File._open_filename\u001b[0;34m(self, filename, mode, overwrite)\u001b[0m\n\u001b[1;32m    633\u001b[0m ext \u001b[38;5;241m=\u001b[39m os\u001b[38;5;241m.\u001b[39mpath\u001b[38;5;241m.\u001b[39msplitext(\u001b[38;5;28mself\u001b[39m\u001b[38;5;241m.\u001b[39mname)[\u001b[38;5;241m1\u001b[39m]\n\u001b[1;32m    635\u001b[0m \u001b[38;5;28;01mif\u001b[39;00m \u001b[38;5;129;01mnot\u001b[39;00m \u001b[38;5;28mself\u001b[39m\u001b[38;5;241m.\u001b[39m_try_read_compressed(\u001b[38;5;28mself\u001b[39m\u001b[38;5;241m.\u001b[39mname, magic, mode, ext\u001b[38;5;241m=\u001b[39mext):\n\u001b[0;32m--> 636\u001b[0m     \u001b[38;5;28mself\u001b[39m\u001b[38;5;241m.\u001b[39m_file \u001b[38;5;241m=\u001b[39m \u001b[38;5;28;43mopen\u001b[39;49m\u001b[43m(\u001b[49m\u001b[38;5;28;43mself\u001b[39;49m\u001b[38;5;241;43m.\u001b[39;49m\u001b[43mname\u001b[49m\u001b[43m,\u001b[49m\u001b[43m \u001b[49m\u001b[43mIO_FITS_MODES\u001b[49m\u001b[43m[\u001b[49m\u001b[43mmode\u001b[49m\u001b[43m]\u001b[49m\u001b[43m)\u001b[49m\n\u001b[1;32m    637\u001b[0m     \u001b[38;5;28mself\u001b[39m\u001b[38;5;241m.\u001b[39mclose_on_error \u001b[38;5;241m=\u001b[39m \u001b[38;5;28;01mTrue\u001b[39;00m\n\u001b[1;32m    639\u001b[0m \u001b[38;5;66;03m# Make certain we're back at the beginning of the file\u001b[39;00m\n\u001b[1;32m    640\u001b[0m \u001b[38;5;66;03m# BZ2File does not support seek when the file is open for writing, but\u001b[39;00m\n\u001b[1;32m    641\u001b[0m \u001b[38;5;66;03m# when opening a file for write, bz2.BZ2File always truncates anyway.\u001b[39;00m\n",
      "\u001b[0;31mFileNotFoundError\u001b[0m: [Errno 2] No such file or directory: '/data/scratch/declan/scrphotoObj-001896-6-0042.fits'"
     ]
    }
   ],
   "source": [
    "from astropy.io import fits\n",
    "f = fits.open('/data/scratch/declan/scrphotoObj-001896-6-0042.fits')\n",
    "len(f[1].data)"
   ]
  },
  {
   "cell_type": "markdown",
   "id": "596f6f92",
   "metadata": {},
   "source": [
    "These files don't have the information we want really. The most important information they would have is the `RA` and `DEC` information that tell you where to find the actual images. We want the photometric magnitudes `u,g,r,i,z` for each \"good\" object. We can access this information using the function above."
   ]
  },
  {
   "cell_type": "code",
   "execution_count": 3,
   "id": "28b1d41e",
   "metadata": {},
   "outputs": [],
   "source": [
    "result = SDSS.query_photoobj(run=1896, camcol=6, field=42, fields=['run', 'camcol', 'objid', 'u', 'g', 'r', 'i', 'z'])"
   ]
  },
  {
   "cell_type": "code",
   "execution_count": 3,
   "id": "7a192a56",
   "metadata": {},
   "outputs": [],
   "source": [
    "result=SDSS.query_photoobj(299489677444933632)"
   ]
  },
  {
   "cell_type": "code",
   "execution_count": 8,
   "id": "52678369",
   "metadata": {},
   "outputs": [
    {
     "name": "stdout",
     "output_type": "stream",
     "text": [
      "None\n"
     ]
    }
   ],
   "source": [
    "print(result)"
   ]
  },
  {
   "cell_type": "markdown",
   "id": "661843aa",
   "metadata": {},
   "source": [
    "Unsurprisingly, the `run`, `camcol`, etc. fields aren't that useful, as they should be what we specified. "
   ]
  },
  {
   "cell_type": "code",
   "execution_count": 5,
   "id": "1c3eca2d",
   "metadata": {},
   "outputs": [
    {
     "data": {
      "text/plain": [
       "(<Column name='run' dtype='int64' length=10>\n",
       " 1896\n",
       " 1896\n",
       " 1896\n",
       " 1896\n",
       " 1896\n",
       " 1896\n",
       " 1896\n",
       " 1896\n",
       " 1896\n",
       " 1896,\n",
       " <Column name='camcol' dtype='int64' length=10>\n",
       " 6\n",
       " 6\n",
       " 6\n",
       " 6\n",
       " 6\n",
       " 6\n",
       " 6\n",
       " 6\n",
       " 6\n",
       " 6)"
      ]
     },
     "execution_count": 5,
     "metadata": {},
     "output_type": "execute_result"
    }
   ],
   "source": [
    "result['run'][:10], result['camcol'][:10]"
   ]
  },
  {
   "cell_type": "markdown",
   "id": "1c2af4b8",
   "metadata": {},
   "source": [
    "The other information is useful to us though. If you read the documentation at https://astroquery.readthedocs.io/en/latest/api/astroquery.sdss.SDSSClass.html#astroquery.sdss.SDSSClass.query_photoobj, you see this function queries a SQL table `photoObjALL` internal to SDSS. The fields available in this table should be visible here: https://skyserver.sdss.org/dr8/en/help/browser/description.asp?n=PhotoObjAll&t=U\n",
    "\n",
    "(this documentation is for Data Releast 8, but there's not reason to believe stuff has changed much)."
   ]
  },
  {
   "cell_type": "markdown",
   "id": "36118fd2",
   "metadata": {},
   "source": [
    "Let's do another query with more interesting features."
   ]
  },
  {
   "cell_type": "code",
   "execution_count": 6,
   "id": "5a64bfa4",
   "metadata": {},
   "outputs": [],
   "source": [
    "result = SDSS.query_photoobj(run=1896, camcol=6, field=42, \n",
    "                             fields=['specobjid', 'thingid', 'objid', 'clean', 'type',\n",
    "                                     'ra', 'dec',\n",
    "                                     'u', 'g', 'r', 'i', 'z'])"
   ]
  },
  {
   "cell_type": "code",
   "execution_count": 7,
   "id": "c6aacc77",
   "metadata": {},
   "outputs": [
    {
     "data": {
      "text/plain": [
       "1135"
      ]
     },
     "execution_count": 7,
     "metadata": {},
     "output_type": "execute_result"
    }
   ],
   "source": [
    "len(result)"
   ]
  },
  {
   "cell_type": "code",
   "execution_count": 8,
   "id": "44d63636",
   "metadata": {},
   "outputs": [
    {
     "data": {
      "text/html": [
       "<div><i>Table length=0</i>\n",
       "<table id=\"table140509473226416\" class=\"table-striped table-bordered table-condensed\">\n",
       "<thead><tr><th>specobjid</th><th>thingid</th><th>objid</th><th>clean</th><th>type</th><th>ra</th><th>dec</th><th>u</th><th>g</th><th>r</th><th>i</th><th>z</th></tr></thead>\n",
       "<thead><tr><th>int64</th><th>int64</th><th>int64</th><th>int64</th><th>int64</th><th>float64</th><th>float64</th><th>float64</th><th>float64</th><th>float64</th><th>float64</th><th>float64</th></tr></thead>\n",
       "</table></div>"
      ],
      "text/plain": [
       "<Table length=0>\n",
       "specobjid thingid objid clean  type    ra     dec      u       g       r       i       z   \n",
       "  int64    int64  int64 int64 int64 float64 float64 float64 float64 float64 float64 float64\n",
       "--------- ------- ----- ----- ----- ------- ------- ------- ------- ------- ------- -------"
      ]
     },
     "execution_count": 8,
     "metadata": {},
     "output_type": "execute_result"
    }
   ],
   "source": [
    "result[result['specobjid'] != 0]"
   ]
  },
  {
   "cell_type": "markdown",
   "id": "72816311",
   "metadata": {},
   "source": [
    "It appears that this particular combination did not yield any spectroscopic objects. In other words, we don't have redshift for any of these objects. Let's find a combination where we do have redshift values."
   ]
  },
  {
   "cell_type": "code",
   "execution_count": 13,
   "id": "9ceb5999",
   "metadata": {},
   "outputs": [
    {
     "ename": "TypeError",
     "evalue": "SDSSClass.query_photoobj_async() got an unexpected keyword argument 'objid'",
     "output_type": "error",
     "traceback": [
      "\u001b[0;31m---------------------------------------------------------------------------\u001b[0m",
      "\u001b[0;31mTypeError\u001b[0m                                 Traceback (most recent call last)",
      "Cell \u001b[0;32mIn[13], line 1\u001b[0m\n\u001b[0;32m----> 1\u001b[0m result \u001b[38;5;241m=\u001b[39m \u001b[43mSDSS\u001b[49m\u001b[38;5;241;43m.\u001b[39;49m\u001b[43mquery_photoobj\u001b[49m\u001b[43m(\u001b[49m\u001b[43mobjid\u001b[49m\u001b[38;5;241;43m=\u001b[39;49m\u001b[38;5;241;43m627287639241811968\u001b[39;49m\u001b[43m,\u001b[49m\n\u001b[1;32m      2\u001b[0m \u001b[43m                             \u001b[49m\u001b[43mfields\u001b[49m\u001b[38;5;241;43m=\u001b[39;49m\u001b[43m[\u001b[49m\u001b[38;5;124;43m'\u001b[39;49m\u001b[38;5;124;43mspecobjid\u001b[39;49m\u001b[38;5;124;43m'\u001b[39;49m\u001b[43m,\u001b[49m\u001b[43m \u001b[49m\u001b[38;5;124;43m'\u001b[39;49m\u001b[38;5;124;43mthingid\u001b[39;49m\u001b[38;5;124;43m'\u001b[39;49m\u001b[43m,\u001b[49m\u001b[43m \u001b[49m\u001b[38;5;124;43m'\u001b[39;49m\u001b[38;5;124;43mobjid\u001b[39;49m\u001b[38;5;124;43m'\u001b[39;49m\u001b[43m,\u001b[49m\u001b[43m \u001b[49m\u001b[38;5;124;43m'\u001b[39;49m\u001b[38;5;124;43mclean\u001b[39;49m\u001b[38;5;124;43m'\u001b[39;49m\u001b[43m,\u001b[49m\u001b[43m \u001b[49m\u001b[38;5;124;43m'\u001b[39;49m\u001b[38;5;124;43mtype\u001b[39;49m\u001b[38;5;124;43m'\u001b[39;49m\u001b[43m,\u001b[49m\n\u001b[1;32m      3\u001b[0m \u001b[43m                                     \u001b[49m\u001b[38;5;124;43m'\u001b[39;49m\u001b[38;5;124;43mra\u001b[39;49m\u001b[38;5;124;43m'\u001b[39;49m\u001b[43m,\u001b[49m\u001b[43m \u001b[49m\u001b[38;5;124;43m'\u001b[39;49m\u001b[38;5;124;43mdec\u001b[39;49m\u001b[38;5;124;43m'\u001b[39;49m\u001b[43m,\u001b[49m\n\u001b[1;32m      4\u001b[0m \u001b[43m                                     \u001b[49m\u001b[38;5;124;43m'\u001b[39;49m\u001b[38;5;124;43mu\u001b[39;49m\u001b[38;5;124;43m'\u001b[39;49m\u001b[43m,\u001b[49m\u001b[43m \u001b[49m\u001b[38;5;124;43m'\u001b[39;49m\u001b[38;5;124;43mg\u001b[39;49m\u001b[38;5;124;43m'\u001b[39;49m\u001b[43m,\u001b[49m\u001b[43m \u001b[49m\u001b[38;5;124;43m'\u001b[39;49m\u001b[38;5;124;43mr\u001b[39;49m\u001b[38;5;124;43m'\u001b[39;49m\u001b[43m,\u001b[49m\u001b[43m \u001b[49m\u001b[38;5;124;43m'\u001b[39;49m\u001b[38;5;124;43mi\u001b[39;49m\u001b[38;5;124;43m'\u001b[39;49m\u001b[43m,\u001b[49m\u001b[43m \u001b[49m\u001b[38;5;124;43m'\u001b[39;49m\u001b[38;5;124;43mz\u001b[39;49m\u001b[38;5;124;43m'\u001b[39;49m\u001b[43m]\u001b[49m\u001b[43m)\u001b[49m\n",
      "File \u001b[0;32m~/bliss/venv/lib/python3.10/site-packages/astroquery/utils/class_or_instance.py:25\u001b[0m, in \u001b[0;36mclass_or_instance.__get__.<locals>.f\u001b[0;34m(*args, **kwds)\u001b[0m\n\u001b[1;32m     23\u001b[0m \u001b[38;5;28;01mdef\u001b[39;00m \u001b[38;5;21mf\u001b[39m(\u001b[38;5;241m*\u001b[39margs, \u001b[38;5;241m*\u001b[39m\u001b[38;5;241m*\u001b[39mkwds):\n\u001b[1;32m     24\u001b[0m     \u001b[38;5;28;01mif\u001b[39;00m obj \u001b[38;5;129;01mis\u001b[39;00m \u001b[38;5;129;01mnot\u001b[39;00m \u001b[38;5;28;01mNone\u001b[39;00m:\n\u001b[0;32m---> 25\u001b[0m         \u001b[38;5;28;01mreturn\u001b[39;00m \u001b[38;5;28;43mself\u001b[39;49m\u001b[38;5;241;43m.\u001b[39;49m\u001b[43mfn\u001b[49m\u001b[43m(\u001b[49m\u001b[43mobj\u001b[49m\u001b[43m,\u001b[49m\u001b[43m \u001b[49m\u001b[38;5;241;43m*\u001b[39;49m\u001b[43margs\u001b[49m\u001b[43m,\u001b[49m\u001b[43m \u001b[49m\u001b[38;5;241;43m*\u001b[39;49m\u001b[38;5;241;43m*\u001b[39;49m\u001b[43mkwds\u001b[49m\u001b[43m)\u001b[49m\n\u001b[1;32m     26\u001b[0m     \u001b[38;5;28;01melse\u001b[39;00m:\n\u001b[1;32m     27\u001b[0m         \u001b[38;5;28;01mreturn\u001b[39;00m \u001b[38;5;28mself\u001b[39m\u001b[38;5;241m.\u001b[39mfn(\u001b[38;5;28mcls\u001b[39m, \u001b[38;5;241m*\u001b[39margs, \u001b[38;5;241m*\u001b[39m\u001b[38;5;241m*\u001b[39mkwds)\n",
      "File \u001b[0;32m~/bliss/venv/lib/python3.10/site-packages/astroquery/utils/process_asyncs.py:26\u001b[0m, in \u001b[0;36masync_to_sync.<locals>.create_method.<locals>.newmethod\u001b[0;34m(self, *args, **kwargs)\u001b[0m\n\u001b[1;32m     22\u001b[0m \u001b[38;5;129m@class_or_instance\u001b[39m\n\u001b[1;32m     23\u001b[0m \u001b[38;5;28;01mdef\u001b[39;00m \u001b[38;5;21mnewmethod\u001b[39m(\u001b[38;5;28mself\u001b[39m, \u001b[38;5;241m*\u001b[39margs, \u001b[38;5;241m*\u001b[39m\u001b[38;5;241m*\u001b[39mkwargs):\n\u001b[1;32m     24\u001b[0m     verbose \u001b[38;5;241m=\u001b[39m kwargs\u001b[38;5;241m.\u001b[39mpop(\u001b[38;5;124m'\u001b[39m\u001b[38;5;124mverbose\u001b[39m\u001b[38;5;124m'\u001b[39m, \u001b[38;5;28;01mFalse\u001b[39;00m)\n\u001b[0;32m---> 26\u001b[0m     response \u001b[38;5;241m=\u001b[39m \u001b[38;5;28;43mgetattr\u001b[39;49m\u001b[43m(\u001b[49m\u001b[38;5;28;43mself\u001b[39;49m\u001b[43m,\u001b[49m\u001b[43m \u001b[49m\u001b[43masync_method_name\u001b[49m\u001b[43m)\u001b[49m\u001b[43m(\u001b[49m\u001b[38;5;241;43m*\u001b[39;49m\u001b[43margs\u001b[49m\u001b[43m,\u001b[49m\u001b[43m \u001b[49m\u001b[38;5;241;43m*\u001b[39;49m\u001b[38;5;241;43m*\u001b[39;49m\u001b[43mkwargs\u001b[49m\u001b[43m)\u001b[49m\n\u001b[1;32m     27\u001b[0m     \u001b[38;5;28;01mif\u001b[39;00m kwargs\u001b[38;5;241m.\u001b[39mget(\u001b[38;5;124m'\u001b[39m\u001b[38;5;124mget_query_payload\u001b[39m\u001b[38;5;124m'\u001b[39m) \u001b[38;5;129;01mor\u001b[39;00m kwargs\u001b[38;5;241m.\u001b[39mget(\u001b[38;5;124m'\u001b[39m\u001b[38;5;124mfield_help\u001b[39m\u001b[38;5;124m'\u001b[39m):\n\u001b[1;32m     28\u001b[0m         \u001b[38;5;28;01mreturn\u001b[39;00m response\n",
      "\u001b[0;31mTypeError\u001b[0m: SDSSClass.query_photoobj_async() got an unexpected keyword argument 'objid'"
     ]
    }
   ],
   "source": [
    "result = SDSS.query_photoobj(objid=627287639241811968,\n",
    "                             fields=['specobjid', 'thingid', 'objid', 'clean', 'type',\n",
    "                                     'ra', 'dec',\n",
    "                                     'u', 'g', 'r', 'i', 'z'])"
   ]
  },
  {
   "cell_type": "code",
   "execution_count": 11,
   "id": "c10d5979",
   "metadata": {},
   "outputs": [
    {
     "ename": "TypeError",
     "evalue": "'NoneType' object is not subscriptable",
     "output_type": "error",
     "traceback": [
      "\u001b[0;31m---------------------------------------------------------------------------\u001b[0m",
      "\u001b[0;31mTypeError\u001b[0m                                 Traceback (most recent call last)",
      "Cell \u001b[0;32mIn[11], line 1\u001b[0m\n\u001b[0;32m----> 1\u001b[0m result[\u001b[43mresult\u001b[49m\u001b[43m[\u001b[49m\u001b[38;5;124;43m'\u001b[39;49m\u001b[38;5;124;43mspecobjid\u001b[39;49m\u001b[38;5;124;43m'\u001b[39;49m\u001b[43m]\u001b[49m \u001b[38;5;241m!=\u001b[39m \u001b[38;5;241m0\u001b[39m]\n",
      "\u001b[0;31mTypeError\u001b[0m: 'NoneType' object is not subscriptable"
     ]
    }
   ],
   "source": [
    "result[result['specobjid'] != 0]"
   ]
  },
  {
   "cell_type": "code",
   "execution_count": 9,
   "id": "eb125c45",
   "metadata": {},
   "outputs": [
    {
     "data": {
      "text/html": [
       "<div><i>Table length=1</i>\n",
       "<table id=\"table140509494304608\" class=\"table-striped table-bordered table-condensed\">\n",
       "<thead><tr><th>specobjid</th><th>thingid</th><th>objid</th><th>clean</th><th>type</th><th>ra</th><th>dec</th><th>u</th><th>g</th><th>r</th><th>i</th><th>z</th></tr></thead>\n",
       "<thead><tr><th>int64</th><th>int64</th><th>int64</th><th>int64</th><th>int64</th><th>float64</th><th>float64</th><th>float64</th><th>float64</th><th>float64</th><th>float64</th><th>float64</th></tr></thead>\n",
       "<tr><td>627287639241811968</td><td>517277208</td><td>1237653618005114976</td><td>1</td><td>3</td><td>148.906417527231</td><td>57.2878849881887</td><td>20.10997</td><td>18.25983</td><td>17.17231</td><td>16.7312</td><td>16.39058</td></tr>\n",
       "</table></div>"
      ],
      "text/plain": [
       "<Table length=1>\n",
       "    specobjid       thingid         objid        clean  type ...    u        g        r        i       z    \n",
       "      int64          int64          int64        int64 int64 ... float64  float64  float64  float64 float64 \n",
       "------------------ --------- ------------------- ----- ----- ... -------- -------- -------- ------- --------\n",
       "627287639241811968 517277208 1237653618005114976     1     3 ... 20.10997 18.25983 17.17231 16.7312 16.39058"
      ]
     },
     "execution_count": 9,
     "metadata": {},
     "output_type": "execute_result"
    }
   ],
   "source": [
    "result = SDSS.query_photoobj(run=1896, camcol=4, field=44, \n",
    "                             fields=['specobjid', 'thingid', 'objid', 'clean', 'type',\n",
    "                                     'ra', 'dec',\n",
    "                                     'u', 'g', 'r', 'i', 'z'])\n",
    "result[result['specobjid'] != 0]"
   ]
  },
  {
   "cell_type": "markdown",
   "id": "db8b4327",
   "metadata": {},
   "source": [
    "Here we have a specobjid. The `clean` flag is 1, indicating that the photometry is clean, and we have the 5 magnitudes here."
   ]
  },
  {
   "cell_type": "markdown",
   "id": "c2666de8",
   "metadata": {},
   "source": [
    "Your task: write scripts that crawl the photometry directories (https://dr17.sdss.org/sas/dr17/eboss/photoObj/301/) to find such spectrographic objects as above. Merge on `specobjid` field of `specObj-dr17.fits` file that you're used to, to pair up redshift and photometry magnitude values. Ideally, we would save these into a single large data file for later access."
   ]
  },
  {
   "cell_type": "markdown",
   "id": "e12ef539",
   "metadata": {},
   "source": [
    "You can get bigger chunks by increasing the granularity level. This will probably speed up your scripts. But you don't want to increase it too much or it may overload, e.g."
   ]
  },
  {
   "cell_type": "code",
   "execution_count": 60,
   "id": "dd744bc9",
   "metadata": {},
   "outputs": [
    {
     "data": {
      "text/html": [
       "<div><i>Table length=425</i>\n",
       "<table id=\"table140395233145232\" class=\"table-striped table-bordered table-condensed\">\n",
       "<thead><tr><th>specobjid</th><th>thingid</th><th>objid</th><th>clean</th><th>type</th><th>ra</th><th>dec</th><th>u</th><th>g</th><th>r</th><th>i</th><th>z</th></tr></thead>\n",
       "<thead><tr><th>int64</th><th>int64</th><th>int64</th><th>int64</th><th>int64</th><th>float64</th><th>float64</th><th>float64</th><th>float64</th><th>float64</th><th>float64</th><th>float64</th></tr></thead>\n",
       "<tr><td>9222493101293019136</td><td>516670228</td><td>1237653618004983854</td><td>0</td><td>6</td><td>148.663884107955</td><td>57.1556040396836</td><td>20.46411</td><td>20.24028</td><td>20.15152</td><td>19.70414</td><td>19.85128</td></tr>\n",
       "<tr><td>9222482106176741376</td><td>516669808</td><td>1237653618004984067</td><td>1</td><td>6</td><td>148.588091886485</td><td>57.2222552984393</td><td>22.14285</td><td>21.80387</td><td>21.53887</td><td>21.46236</td><td>21.85623</td></tr>\n",
       "<tr><td>9222477983008137216</td><td>516669964</td><td>1237653618004984080</td><td>1</td><td>6</td><td>148.394389214129</td><td>57.2140463979468</td><td>21.94235</td><td>21.62139</td><td>21.46745</td><td>21.30135</td><td>21.80009</td></tr>\n",
       "<tr><td>9222481831298834432</td><td>516669699</td><td>1237653618004984081</td><td>1</td><td>6</td><td>148.533048369095</td><td>57.0979404803191</td><td>22.31532</td><td>21.90552</td><td>21.58582</td><td>21.58495</td><td>21.22673</td></tr>\n",
       "<tr><td>9222479082519764992</td><td>516669966</td><td>1237653618004984091</td><td>0</td><td>6</td><td>148.4631591226</td><td>57.2338150493594</td><td>22.00823</td><td>21.78102</td><td>22.00979</td><td>21.65105</td><td>21.41146</td></tr>\n",
       "<tr><td>9222478532763951104</td><td>516670108</td><td>1237653618004984488</td><td>1</td><td>3</td><td>148.331869504307</td><td>57.2566399966046</td><td>23.92012</td><td>22.46631</td><td>21.0765</td><td>20.04347</td><td>19.10344</td></tr>\n",
       "<tr><td>7977137015694008320</td><td>516670012</td><td>1237653618004984240</td><td>1</td><td>3</td><td>148.424072702878</td><td>57.2039510894663</td><td>21.89005</td><td>21.79497</td><td>20.35818</td><td>19.60019</td><td>19.29862</td></tr>\n",
       "<tr><td>627279667782510592</td><td>516669797</td><td>1237653618004983999</td><td>1</td><td>3</td><td>148.612406012918</td><td>57.1948228763001</td><td>19.53458</td><td>17.78387</td><td>16.88759</td><td>16.46856</td><td>16.16714</td></tr>\n",
       "<tr><td>627277193881348096</td><td>516669950</td><td>1237653618004983997</td><td>1</td><td>3</td><td>148.568313473861</td><td>57.2032048184968</td><td>19.85847</td><td>18.00166</td><td>17.08681</td><td>16.66024</td><td>16.35817</td></tr>\n",
       "<tr><td>628315958565431296</td><td>516669943</td><td>1237653618004983983</td><td>1</td><td>3</td><td>148.477336730908</td><td>57.2559182487871</td><td>20.11591</td><td>18.01656</td><td>16.75756</td><td>16.26429</td><td>15.90924</td></tr>\n",
       "<tr><td>...</td><td>...</td><td>...</td><td>...</td><td>...</td><td>...</td><td>...</td><td>...</td><td>...</td><td>...</td><td>...</td><td>...</td></tr>\n",
       "<tr><td>872657403580016640</td><td>532630396</td><td>1237653618009571472</td><td>0</td><td>3</td><td>167.301663123</td><td>61.3962979698284</td><td>16.5722</td><td>15.49516</td><td>15.12978</td><td>14.95192</td><td>14.85464</td></tr>\n",
       "<tr><td>871598023975659520</td><td>532630425</td><td>1237653618009571549</td><td>0</td><td>3</td><td>167.25211394964</td><td>61.3984524885447</td><td>21.24559</td><td>19.60359</td><td>18.08568</td><td>17.50127</td><td>17.19138</td></tr>\n",
       "<tr><td>8004148993285136384</td><td>532630430</td><td>1237653618009571558</td><td>0</td><td>3</td><td>167.386542354112</td><td>61.4442207755661</td><td>21.69675</td><td>19.70154</td><td>18.21479</td><td>17.65651</td><td>17.25718</td></tr>\n",
       "<tr><td>8004146794261880832</td><td>532630512</td><td>1237653618009571737</td><td>1</td><td>3</td><td>167.30500922155</td><td>61.4271956010108</td><td>24.68234</td><td>21.22319</td><td>19.11401</td><td>18.43164</td><td>17.82973</td></tr>\n",
       "<tr><td>7997516189440909312</td><td>532483227</td><td>1237653618009506264</td><td>1</td><td>6</td><td>167.079493656795</td><td>61.3386782686341</td><td>22.18574</td><td>21.46783</td><td>21.37674</td><td>21.32316</td><td>20.87459</td></tr>\n",
       "<tr><td>7997527734313000960</td><td>532757322</td><td>1237653618009636991</td><td>0</td><td>3</td><td>167.561456759661</td><td>61.474513869292</td><td>22.0116</td><td>19.91779</td><td>18.48378</td><td>17.87035</td><td>17.52757</td></tr>\n",
       "<tr><td>871611492993099776</td><td>532630190</td><td>1237653618009571448</td><td>1</td><td>6</td><td>167.528933140503</td><td>61.422596306426</td><td>17.81301</td><td>17.72522</td><td>17.62373</td><td>17.6456</td><td>17.30041</td></tr>\n",
       "<tr><td>871597199341938688</td><td>532630208</td><td>1237653618009571581</td><td>1</td><td>6</td><td>167.461597591874</td><td>61.4213199972507</td><td>23.95532</td><td>21.69619</td><td>20.24655</td><td>18.44449</td><td>17.43622</td></tr>\n",
       "<tr><td>8004145694750253056</td><td>532630555</td><td>1237653618009571797</td><td>1</td><td>6</td><td>167.372164955614</td><td>61.3813775519682</td><td>22.17028</td><td>21.428</td><td>21.24818</td><td>21.19184</td><td>20.96019</td></tr>\n",
       "<tr><td>3747080735161425920</td><td>532757314</td><td>1237653618009636873</td><td>1</td><td>6</td><td>167.592823322462</td><td>61.4047685199438</td><td>17.57515</td><td>16.14453</td><td>15.53034</td><td>15.29655</td><td>15.17683</td></tr>\n",
       "<tr><td>8004147069139787776</td><td>532757329</td><td>1237653618009637058</td><td>1</td><td>6</td><td>167.573239183008</td><td>61.4216771114384</td><td>22.03657</td><td>21.43486</td><td>21.34575</td><td>21.16665</td><td>20.81721</td></tr>\n",
       "</table></div>"
      ],
      "text/plain": [
       "<Table length=425>\n",
       "     specobjid       thingid         objid        clean  type        ra        ...    u        g        r        i        z    \n",
       "       int64          int64          int64        int64 int64     float64      ... float64  float64  float64  float64  float64 \n",
       "------------------- --------- ------------------- ----- ----- ---------------- ... -------- -------- -------- -------- --------\n",
       "9222493101293019136 516670228 1237653618004983854     0     6 148.663884107955 ... 20.46411 20.24028 20.15152 19.70414 19.85128\n",
       "9222482106176741376 516669808 1237653618004984067     1     6 148.588091886485 ... 22.14285 21.80387 21.53887 21.46236 21.85623\n",
       "9222477983008137216 516669964 1237653618004984080     1     6 148.394389214129 ... 21.94235 21.62139 21.46745 21.30135 21.80009\n",
       "9222481831298834432 516669699 1237653618004984081     1     6 148.533048369095 ... 22.31532 21.90552 21.58582 21.58495 21.22673\n",
       "9222479082519764992 516669966 1237653618004984091     0     6   148.4631591226 ... 22.00823 21.78102 22.00979 21.65105 21.41146\n",
       "9222478532763951104 516670108 1237653618004984488     1     3 148.331869504307 ... 23.92012 22.46631  21.0765 20.04347 19.10344\n",
       "7977137015694008320 516670012 1237653618004984240     1     3 148.424072702878 ... 21.89005 21.79497 20.35818 19.60019 19.29862\n",
       " 627279667782510592 516669797 1237653618004983999     1     3 148.612406012918 ... 19.53458 17.78387 16.88759 16.46856 16.16714\n",
       " 627277193881348096 516669950 1237653618004983997     1     3 148.568313473861 ... 19.85847 18.00166 17.08681 16.66024 16.35817\n",
       " 628315958565431296 516669943 1237653618004983983     1     3 148.477336730908 ... 20.11591 18.01656 16.75756 16.26429 15.90924\n",
       "                ...       ...                 ...   ...   ...              ... ...      ...      ...      ...      ...      ...\n",
       " 872657403580016640 532630396 1237653618009571472     0     3    167.301663123 ...  16.5722 15.49516 15.12978 14.95192 14.85464\n",
       " 871598023975659520 532630425 1237653618009571549     0     3  167.25211394964 ... 21.24559 19.60359 18.08568 17.50127 17.19138\n",
       "8004148993285136384 532630430 1237653618009571558     0     3 167.386542354112 ... 21.69675 19.70154 18.21479 17.65651 17.25718\n",
       "8004146794261880832 532630512 1237653618009571737     1     3  167.30500922155 ... 24.68234 21.22319 19.11401 18.43164 17.82973\n",
       "7997516189440909312 532483227 1237653618009506264     1     6 167.079493656795 ... 22.18574 21.46783 21.37674 21.32316 20.87459\n",
       "7997527734313000960 532757322 1237653618009636991     0     3 167.561456759661 ...  22.0116 19.91779 18.48378 17.87035 17.52757\n",
       " 871611492993099776 532630190 1237653618009571448     1     6 167.528933140503 ... 17.81301 17.72522 17.62373  17.6456 17.30041\n",
       " 871597199341938688 532630208 1237653618009571581     1     6 167.461597591874 ... 23.95532 21.69619 20.24655 18.44449 17.43622\n",
       "8004145694750253056 532630555 1237653618009571797     1     6 167.372164955614 ... 22.17028   21.428 21.24818 21.19184 20.96019\n",
       "3747080735161425920 532757314 1237653618009636873     1     6 167.592823322462 ... 17.57515 16.14453 15.53034 15.29655 15.17683\n",
       "8004147069139787776 532757329 1237653618009637058     1     6 167.573239183008 ... 22.03657 21.43486 21.34575 21.16665 20.81721"
      ]
     },
     "execution_count": 60,
     "metadata": {},
     "output_type": "execute_result"
    }
   ],
   "source": [
    "result = SDSS.query_photoobj(run=1896, camcol=4, \n",
    "                             fields=['specobjid', 'thingid', 'objid', 'clean', 'type',\n",
    "                                     'ra', 'dec',\n",
    "                                     'u', 'g', 'r', 'i', 'z'])\n",
    "result[result['specobjid'] != 0]"
   ]
  },
  {
   "cell_type": "code",
   "execution_count": 61,
   "id": "145ad458",
   "metadata": {},
   "outputs": [
    {
     "data": {
      "text/html": [
       "<div><i>Table length=2422</i>\n",
       "<table id=\"table140395184641200\" class=\"table-striped table-bordered table-condensed\">\n",
       "<thead><tr><th>specobjid</th><th>thingid</th><th>objid</th><th>clean</th><th>type</th><th>ra</th><th>dec</th><th>u</th><th>g</th><th>r</th><th>i</th><th>z</th></tr></thead>\n",
       "<thead><tr><th>float64</th><th>int64</th><th>int64</th><th>int64</th><th>int64</th><th>float64</th><th>float64</th><th>float64</th><th>float64</th><th>float64</th><th>float64</th><th>float64</th></tr></thead>\n",
       "<tr><td>7.980573264945586e+18</td><td>522080002</td><td>1237653616396730692</td><td>1</td><td>3</td><td>158.475674921478</td><td>58.5977990964425</td><td>21.71715</td><td>20.50551</td><td>19.3521</td><td>18.90891</td><td>18.66907</td></tr>\n",
       "<tr><td>7.981541934756766e+18</td><td>522079936</td><td>1237653616396730438</td><td>1</td><td>3</td><td>158.639671673263</td><td>58.6254979222728</td><td>24.76101</td><td>20.34171</td><td>18.7709</td><td>18.14729</td><td>17.75275</td></tr>\n",
       "<tr><td>7.977135641304474e+18</td><td>516669883</td><td>1237653618004983824</td><td>1</td><td>3</td><td>148.411950447632</td><td>57.2833454177062</td><td>24.16409</td><td>20.67602</td><td>19.02488</td><td>18.44317</td><td>18.1202</td></tr>\n",
       "<tr><td>6.283129349084549e+17</td><td>516669684</td><td>1237653618004983893</td><td>1</td><td>3</td><td>148.477103122247</td><td>57.1369269017234</td><td>19.20603</td><td>17.16374</td><td>16.17346</td><td>15.70642</td><td>15.37886</td></tr>\n",
       "<tr><td>6.272785682708828e+17</td><td>516669897</td><td>1237653618004983895</td><td>0</td><td>3</td><td>148.424676726107</td><td>57.1876602826736</td><td>18.64097</td><td>17.15355</td><td>16.38933</td><td>15.94962</td><td>15.66741</td></tr>\n",
       "<tr><td>6.283151339317105e+17</td><td>516669898</td><td>1237653618004983898</td><td>1</td><td>3</td><td>148.452766972412</td><td>57.1735708737278</td><td>18.64733</td><td>16.62336</td><td>15.65729</td><td>15.2158</td><td>14.8937</td></tr>\n",
       "<tr><td>6.283145841758966e+17</td><td>516669899</td><td>1237653618004983899</td><td>1</td><td>3</td><td>148.481175332892</td><td>57.1783091888119</td><td>19.39235</td><td>17.3369</td><td>16.36613</td><td>15.90162</td><td>15.56297</td></tr>\n",
       "<tr><td>6.272769190034412e+17</td><td>516669900</td><td>1237653618004983900</td><td>0</td><td>3</td><td>148.466236781085</td><td>57.178576577917</td><td>19.54974</td><td>17.51906</td><td>16.35728</td><td>15.81327</td><td>15.37057</td></tr>\n",
       "<tr><td>6.283154088096174e+17</td><td>516669930</td><td>1237653618004983942</td><td>1</td><td>3</td><td>148.448625886292</td><td>57.1996967879486</td><td>20.21815</td><td>18.42245</td><td>17.53723</td><td>17.11058</td><td>16.78622</td></tr>\n",
       "<tr><td>6.272780185150689e+17</td><td>516669936</td><td>1237653618004983959</td><td>0</td><td>3</td><td>148.501122123353</td><td>57.1864800019574</td><td>20.02002</td><td>18.17532</td><td>17.24415</td><td>16.81719</td><td>16.49819</td></tr>\n",
       "<tr><td>...</td><td>...</td><td>...</td><td>...</td><td>...</td><td>...</td><td>...</td><td>...</td><td>...</td><td>...</td><td>...</td><td>...</td></tr>\n",
       "<tr><td>8.74866597737556e+17</td><td>533191724</td><td>1237653616938188872</td><td>1</td><td>3</td><td>178.76817441289</td><td>61.6459467437784</td><td>18.71917</td><td>17.71156</td><td>17.15743</td><td>16.79133</td><td>16.69416</td></tr>\n",
       "<tr><td>8.715947254407762e+17</td><td>533907873</td><td>1237653618546377412</td><td>1</td><td>3</td><td>166.855328316527</td><td>61.934268989495</td><td>23.92692</td><td>21.15257</td><td>19.40843</td><td>18.51143</td><td>18.01972</td></tr>\n",
       "<tr><td>8.004155315476996e+18</td><td>533907423</td><td>1237653618546377425</td><td>1</td><td>3</td><td>166.93636739391</td><td>61.8175585915333</td><td>24.01984</td><td>22.54669</td><td>21.01564</td><td>19.90452</td><td>19.4532</td></tr>\n",
       "<tr><td>8.004157514500252e+18</td><td>533907444</td><td>1237653618546377450</td><td>1</td><td>3</td><td>166.902685870229</td><td>61.9302418948476</td><td>25.69804</td><td>21.98299</td><td>20.21006</td><td>19.39289</td><td>18.96136</td></tr>\n",
       "<tr><td>8.001776798323941e+18</td><td>531171414</td><td>1237653616400728216</td><td>1</td><td>3</td><td>176.172607252624</td><td>61.1092202704537</td><td>22.20893</td><td>20.8287</td><td>19.06222</td><td>18.44708</td><td>18.09713</td></tr>\n",
       "<tr><td>9.22023250635939e+18</td><td>526927061</td><td>1237653618007474441</td><td>1</td><td>6</td><td>158.291390462516</td><td>59.8243033060346</td><td>21.36472</td><td>21.77448</td><td>21.44994</td><td>21.24635</td><td>21.21362</td></tr>\n",
       "<tr><td>8.737258544069612e+17</td><td>532248601</td><td>1237653616937271389</td><td>1</td><td>3</td><td>174.324811123915</td><td>61.3111033431704</td><td>19.98364</td><td>18.10287</td><td>17.10284</td><td>16.66128</td><td>16.26789</td></tr>\n",
       "<tr><td>8.737255795290542e+17</td><td>532248602</td><td>1237653616937271392</td><td>1</td><td>3</td><td>174.339012525523</td><td>61.3336653930681</td><td>19.26324</td><td>17.81808</td><td>16.87678</td><td>16.3478</td><td>16.1001</td></tr>\n",
       "<tr><td>8.001972786271592e+18</td><td>532248633</td><td>1237653616937271598</td><td>1</td><td>3</td><td>174.357768702947</td><td>61.2639974639377</td><td>25.18528</td><td>21.49787</td><td>20.30223</td><td>19.55839</td><td>19.94003</td></tr>\n",
       "<tr><td>3.7470535222486385e+18</td><td>529024392</td><td>1237653616399286397</td><td>1</td><td>6</td><td>169.601065308614</td><td>60.5498726294575</td><td>19.18464</td><td>17.78667</td><td>17.27044</td><td>17.07535</td><td>16.99619</td></tr>\n",
       "<tr><td>8.00308301723177e+18</td><td>529024826</td><td>1237653616399286490</td><td>1</td><td>6</td><td>169.525300402814</td><td>60.5424089805859</td><td>21.72672</td><td>21.00113</td><td>20.8066</td><td>20.62084</td><td>20.31681</td></tr>\n",
       "</table></div>"
      ],
      "text/plain": [
       "<Table length=2422>\n",
       "      specobjid         thingid         objid        clean  type        ra        ...    u        g        r        i        z    \n",
       "       float64           int64          int64        int64 int64     float64      ... float64  float64  float64  float64  float64 \n",
       "---------------------- --------- ------------------- ----- ----- ---------------- ... -------- -------- -------- -------- --------\n",
       " 7.980573264945586e+18 522080002 1237653616396730692     1     3 158.475674921478 ... 21.71715 20.50551  19.3521 18.90891 18.66907\n",
       " 7.981541934756766e+18 522079936 1237653616396730438     1     3 158.639671673263 ... 24.76101 20.34171  18.7709 18.14729 17.75275\n",
       " 7.977135641304474e+18 516669883 1237653618004983824     1     3 148.411950447632 ... 24.16409 20.67602 19.02488 18.44317  18.1202\n",
       " 6.283129349084549e+17 516669684 1237653618004983893     1     3 148.477103122247 ... 19.20603 17.16374 16.17346 15.70642 15.37886\n",
       " 6.272785682708828e+17 516669897 1237653618004983895     0     3 148.424676726107 ... 18.64097 17.15355 16.38933 15.94962 15.66741\n",
       " 6.283151339317105e+17 516669898 1237653618004983898     1     3 148.452766972412 ... 18.64733 16.62336 15.65729  15.2158  14.8937\n",
       " 6.283145841758966e+17 516669899 1237653618004983899     1     3 148.481175332892 ... 19.39235  17.3369 16.36613 15.90162 15.56297\n",
       " 6.272769190034412e+17 516669900 1237653618004983900     0     3 148.466236781085 ... 19.54974 17.51906 16.35728 15.81327 15.37057\n",
       " 6.283154088096174e+17 516669930 1237653618004983942     1     3 148.448625886292 ... 20.21815 18.42245 17.53723 17.11058 16.78622\n",
       " 6.272780185150689e+17 516669936 1237653618004983959     0     3 148.501122123353 ... 20.02002 18.17532 17.24415 16.81719 16.49819\n",
       "                   ...       ...                 ...   ...   ...              ... ...      ...      ...      ...      ...      ...\n",
       "  8.74866597737556e+17 533191724 1237653616938188872     1     3  178.76817441289 ... 18.71917 17.71156 17.15743 16.79133 16.69416\n",
       " 8.715947254407762e+17 533907873 1237653618546377412     1     3 166.855328316527 ... 23.92692 21.15257 19.40843 18.51143 18.01972\n",
       " 8.004155315476996e+18 533907423 1237653618546377425     1     3  166.93636739391 ... 24.01984 22.54669 21.01564 19.90452  19.4532\n",
       " 8.004157514500252e+18 533907444 1237653618546377450     1     3 166.902685870229 ... 25.69804 21.98299 20.21006 19.39289 18.96136\n",
       " 8.001776798323941e+18 531171414 1237653616400728216     1     3 176.172607252624 ... 22.20893  20.8287 19.06222 18.44708 18.09713\n",
       "  9.22023250635939e+18 526927061 1237653618007474441     1     6 158.291390462516 ... 21.36472 21.77448 21.44994 21.24635 21.21362\n",
       " 8.737258544069612e+17 532248601 1237653616937271389     1     3 174.324811123915 ... 19.98364 18.10287 17.10284 16.66128 16.26789\n",
       " 8.737255795290542e+17 532248602 1237653616937271392     1     3 174.339012525523 ... 19.26324 17.81808 16.87678  16.3478  16.1001\n",
       " 8.001972786271592e+18 532248633 1237653616937271598     1     3 174.357768702947 ... 25.18528 21.49787 20.30223 19.55839 19.94003\n",
       "3.7470535222486385e+18 529024392 1237653616399286397     1     6 169.601065308614 ... 19.18464 17.78667 17.27044 17.07535 16.99619\n",
       "  8.00308301723177e+18 529024826 1237653616399286490     1     6 169.525300402814 ... 21.72672 21.00113  20.8066 20.62084 20.31681"
      ]
     },
     "execution_count": 61,
     "metadata": {},
     "output_type": "execute_result"
    }
   ],
   "source": [
    "result = SDSS.query_photoobj(run=1896, \n",
    "                             fields=['specobjid', 'thingid', 'objid', 'clean', 'type',\n",
    "                                     'ra', 'dec',\n",
    "                                     'u', 'g', 'r', 'i', 'z'])\n",
    "result[result['specobjid'] != 0]"
   ]
  },
  {
   "cell_type": "markdown",
   "id": "441e2663",
   "metadata": {},
   "source": [
    "Remember to filter for clean = 1 as well. If you iterate over runs, you should end up with a sizable number of objects overall. "
   ]
  }
 ],
 "metadata": {
  "kernelspec": {
   "display_name": "Python 3 (ipykernel)",
   "language": "python",
   "name": "python3"
  },
  "language_info": {
   "codemirror_mode": {
    "name": "ipython",
    "version": 3
   },
   "file_extension": ".py",
   "mimetype": "text/x-python",
   "name": "python",
   "nbconvert_exporter": "python",
   "pygments_lexer": "ipython3",
   "version": "3.10.12"
  }
 },
 "nbformat": 4,
 "nbformat_minor": 5
}

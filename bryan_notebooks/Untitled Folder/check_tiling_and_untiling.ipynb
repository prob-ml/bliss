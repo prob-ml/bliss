{
 "cells": [
  {
   "cell_type": "code",
   "execution_count": 1,
   "metadata": {},
   "outputs": [],
   "source": [
    "import torch\n",
    "from pathlib import Path\n",
    "\n",
    "import numpy as np\n",
    "\n",
    "import matplotlib.pyplot as plt\n",
    "%matplotlib inline  \n"
   ]
  },
  {
   "cell_type": "code",
   "execution_count": 2,
   "metadata": {},
   "outputs": [
    {
     "name": "stdout",
     "output_type": "stream",
     "text": [
      "cuda\n",
      "True\n"
     ]
    }
   ],
   "source": [
    "import bliss\n",
    "\n",
    "from bliss.datasets.simulated import SimulatedDataset\n",
    "from bliss.models.encoder import ImageEncoder\n",
    "\n",
    "from bliss import device, use_cuda\n",
    "print(device)\n",
    "print(use_cuda)\n",
    "\n",
    "data_path = Path('../data/')"
   ]
  },
  {
   "cell_type": "code",
   "execution_count": 3,
   "metadata": {},
   "outputs": [],
   "source": [
    "torch.manual_seed(2342)\n",
    "np.random.seed(354)"
   ]
  },
  {
   "cell_type": "markdown",
   "metadata": {},
   "source": [
    "# Get data"
   ]
  },
  {
   "cell_type": "code",
   "execution_count": 4,
   "metadata": {},
   "outputs": [],
   "source": [
    "# create training dataset\n",
    "n_bands = 2\n",
    "slen = 50"
   ]
  },
  {
   "cell_type": "code",
   "execution_count": 5,
   "metadata": {},
   "outputs": [],
   "source": [
    "# set background\n",
    "background = torch.zeros(n_bands, slen, slen, device=device)\n",
    "background[:] = 686.0"
   ]
  },
  {
   "cell_type": "code",
   "execution_count": 6,
   "metadata": {},
   "outputs": [
    {
     "ename": "ValueError",
     "evalue": "Cannot load file containing pickled data when allow_pickle=False",
     "output_type": "error",
     "traceback": [
      "\u001b[0;31m---------------------------------------------------------------------------\u001b[0m",
      "\u001b[0;31mValueError\u001b[0m                                Traceback (most recent call last)",
      "\u001b[0;32m<ipython-input-6-29fc4830ad78>\u001b[0m in \u001b[0;36m<module>\u001b[0;34m\u001b[0m\n\u001b[1;32m      1\u001b[0m \u001b[0;31m# psf parameters\u001b[0m\u001b[0;34m\u001b[0m\u001b[0;34m\u001b[0m\u001b[0;34m\u001b[0m\u001b[0m\n\u001b[1;32m      2\u001b[0m \u001b[0mpsf_file\u001b[0m \u001b[0;34m=\u001b[0m \u001b[0mdata_path\u001b[0m\u001b[0;34m.\u001b[0m\u001b[0mjoinpath\u001b[0m\u001b[0;34m(\u001b[0m\u001b[0;34m\"fitted_powerlaw_psf_params.npy\"\u001b[0m\u001b[0;34m)\u001b[0m\u001b[0;34m\u001b[0m\u001b[0;34m\u001b[0m\u001b[0m\n\u001b[0;32m----> 3\u001b[0;31m \u001b[0mpsf_params\u001b[0m \u001b[0;34m=\u001b[0m \u001b[0mtorch\u001b[0m\u001b[0;34m.\u001b[0m\u001b[0mfrom_numpy\u001b[0m\u001b[0;34m(\u001b[0m\u001b[0mnp\u001b[0m\u001b[0;34m.\u001b[0m\u001b[0mload\u001b[0m\u001b[0;34m(\u001b[0m\u001b[0mpsf_file\u001b[0m\u001b[0;34m)\u001b[0m\u001b[0;34m)\u001b[0m\u001b[0;34m.\u001b[0m\u001b[0mto\u001b[0m\u001b[0;34m(\u001b[0m\u001b[0mdevice\u001b[0m\u001b[0;34m)\u001b[0m\u001b[0;34m\u001b[0m\u001b[0;34m\u001b[0m\u001b[0m\n\u001b[0m",
      "\u001b[0;32m~/anaconda3/envs/celeste_py/lib/python3.7/site-packages/numpy/lib/npyio.py\u001b[0m in \u001b[0;36mload\u001b[0;34m(file, mmap_mode, allow_pickle, fix_imports, encoding)\u001b[0m\n\u001b[1;32m    455\u001b[0m             \u001b[0;31m# Try a pickle\u001b[0m\u001b[0;34m\u001b[0m\u001b[0;34m\u001b[0m\u001b[0;34m\u001b[0m\u001b[0m\n\u001b[1;32m    456\u001b[0m             \u001b[0;32mif\u001b[0m \u001b[0;32mnot\u001b[0m \u001b[0mallow_pickle\u001b[0m\u001b[0;34m:\u001b[0m\u001b[0;34m\u001b[0m\u001b[0;34m\u001b[0m\u001b[0m\n\u001b[0;32m--> 457\u001b[0;31m                 raise ValueError(\"Cannot load file containing pickled data \"\n\u001b[0m\u001b[1;32m    458\u001b[0m                                  \"when allow_pickle=False\")\n\u001b[1;32m    459\u001b[0m             \u001b[0;32mtry\u001b[0m\u001b[0;34m:\u001b[0m\u001b[0;34m\u001b[0m\u001b[0;34m\u001b[0m\u001b[0m\n",
      "\u001b[0;31mValueError\u001b[0m: Cannot load file containing pickled data when allow_pickle=False"
     ]
    }
   ],
   "source": [
    "# psf parameters \n",
    "psf_file = data_path.joinpath(\"fitted_powerlaw_psf_params.npy\")\n",
    "psf_params = torch.from_numpy(np.load(psf_file)).to(device)"
   ]
  },
  {
   "cell_type": "code",
   "execution_count": null,
   "metadata": {},
   "outputs": [],
   "source": [
    "dec_args = (None, psf_params, background)\n",
    "\n",
    "decoder_kwargs = dict(n_bands=n_bands,\n",
    "                    slen=slen,\n",
    "                    prob_galaxy=0.0,\n",
    "                    max_sources=10,\n",
    "                    mean_sources=5,\n",
    "                    min_sources=5,\n",
    "                    loc_min=0.0,\n",
    "                    loc_max=1.0,\n",
    "                    f_min=1e4,\n",
    "                    f_max=1e6,\n",
    "                    alpha=0.5,\n",
    "                    add_noise=True)"
   ]
  },
  {
   "cell_type": "code",
   "execution_count": 8,
   "metadata": {},
   "outputs": [],
   "source": [
    "batchsize = 4\n",
    "dataset = SimulatedDataset(20, batchsize, dec_args, decoder_kwargs)"
   ]
  },
  {
   "cell_type": "code",
   "execution_count": 9,
   "metadata": {},
   "outputs": [],
   "source": [
    "batch_params = dataset.get_batch()"
   ]
  },
  {
   "cell_type": "code",
   "execution_count": null,
   "metadata": {},
   "outputs": [],
   "source": []
  },
  {
   "cell_type": "code",
   "execution_count": 10,
   "metadata": {},
   "outputs": [],
   "source": [
    "for i in range(batchsize): \n",
    "    plt.matshow(batch_params['images'][i, 0].detach().cpu())\n",
    "    plt.scatter(batch_params['locs'][i, :, 1].cpu() * (slen - 1), \n",
    "                batch_params['locs'][i, :, 0].cpu() * (slen - 1), \n",
    "               color = 'r', marker = 'x')"
   ]
  },
  {
   "cell_type": "code",
   "execution_count": null,
   "metadata": {},
   "outputs": [],
   "source": []
  },
  {
   "cell_type": "markdown",
   "metadata": {},
   "source": [
    "# Define encoder and get tiles"
   ]
  },
  {
   "cell_type": "markdown",
   "metadata": {},
   "source": [
    "We divide the 50 x 50 image into four tiles"
   ]
  },
  {
   "cell_type": "code",
   "execution_count": 11,
   "metadata": {},
   "outputs": [],
   "source": [
    "ptile_slen = 25\n",
    "encoder = ImageEncoder(slen=slen,\n",
    "                        ptile_slen=8,\n",
    "                        tile_slen=2,\n",
    "                        n_bands=n_bands,\n",
    "                        max_detections=2,\n",
    "                        n_galaxy_params=8,\n",
    "                        enc_conv_c=20,\n",
    "                        enc_kern=3,\n",
    "                        enc_hidden=256,\n",
    "                        momentum=0.5)"
   ]
  },
  {
   "cell_type": "code",
   "execution_count": 12,
   "metadata": {},
   "outputs": [],
   "source": [
    "true_locs = batch_params['locs']\n",
    "true_galaxy_params = batch_params['galaxy_params']\n",
    "true_log_fluxes = batch_params['log_fluxes']\n",
    "true_galaxy_bool = batch_params['galaxy_bool']"
   ]
  },
  {
   "cell_type": "code",
   "execution_count": 13,
   "metadata": {},
   "outputs": [],
   "source": [
    "(true_tile_n_sources,\n",
    "    true_tile_locs,\n",
    "    true_tile_galaxy_params,\n",
    "    true_tile_log_fluxes,\n",
    "    true_tile_galaxy_bool,\n",
    "    true_tile_is_on_array, \n",
    ") = encoder.get_params_in_tiles(\n",
    "    slen, true_locs, true_galaxy_params, true_log_fluxes, true_galaxy_bool\n",
    ")"
   ]
  },
  {
   "cell_type": "code",
   "execution_count": null,
   "metadata": {},
   "outputs": [],
   "source": []
  },
  {
   "cell_type": "markdown",
   "metadata": {},
   "source": [
    "# Plot the image tiles"
   ]
  },
  {
   "cell_type": "code",
   "execution_count": 14,
   "metadata": {},
   "outputs": [
    {
     "data": {
      "text/plain": [
       "torch.Size([4, 2, 50, 50])"
      ]
     },
     "execution_count": 14,
     "metadata": {},
     "output_type": "execute_result"
    }
   ],
   "source": [
    "batch_params['images'].shape"
   ]
  },
  {
   "cell_type": "code",
   "execution_count": 23,
   "metadata": {},
   "outputs": [],
   "source": [
    "image_tiles = encoder.get_images_in_tiles(batch_params['images'])"
   ]
  },
  {
   "cell_type": "code",
   "execution_count": 24,
   "metadata": {},
   "outputs": [],
   "source": [
    "n_tiles_per_image = encoder.tile_coords.shape[0]"
   ]
  },
  {
   "cell_type": "code",
   "execution_count": 29,
   "metadata": {},
   "outputs": [
    {
     "data": {
      "text/plain": [
       "torch.Size([1936, 2, 2])"
      ]
     },
     "execution_count": 29,
     "metadata": {},
     "output_type": "execute_result"
    }
   ],
   "source": [
    "true_tile_locs.shape"
   ]
  },
  {
   "cell_type": "code",
   "execution_count": null,
   "metadata": {
    "scrolled": false
   },
   "outputs": [
    {
     "name": "stderr",
     "output_type": "stream",
     "text": [
      "/home/runingli/anaconda3/envs/celeste_py/lib/python3.7/site-packages/ipykernel_launcher.py:2: RuntimeWarning: More than 20 figures have been opened. Figures created through the pyplot interface (`matplotlib.pyplot.figure`) are retained until explicitly closed and may consume too much memory. (To control this warning, see the rcParam `figure.max_open_warning`).\n",
      "  \n"
     ]
    }
   ],
   "source": [
    "for i in range(image_tiles.shape[0]): \n",
    "    fig, ax = plt.subplots(1, 2, figsize = (8, 8))\n",
    "    # get full image\n",
    "    indx = i // n_tiles_per_image\n",
    "    image = batch_params['images'][indx, 0]\n",
    "    \n",
    "    # plot image tile\n",
    "    n_src = int(true_tile_n_sources[i].cpu().numpy())\n",
    "    ax[0].matshow(image_tiles[i, 0].detach().cpu(), vmax = image.max(), vmin = image.min())\n",
    "    ax[0].set_title('image ' + str(i // n_tiles_per_image) + \n",
    "                    '; tile ' + str(i % n_tiles_per_image) + \n",
    "                    '; n_src ' + str(n_src) + '\\n')\n",
    "    \n",
    "#     # plot stars \n",
    "#     which_star = (true_tile_galaxy_bool[i] == 0) & (true_tile_is_on_array[i] == 1)\n",
    "#     ax[0].scatter(true_tile_locs[i, which_star, 1] * ptile_slen - 0.5, \n",
    "#                   true_tile_locs[i, which_star, 0] * ptile_slen - 0.5, \n",
    "#                   color = 'red', marker = 'x')\n",
    "    \n",
    "#     # plot full image\n",
    "#     ax[1].matshow(image)\n",
    "#     ax[1].set_title('image ' + str(i // n_tiles_per_image) + '\\n')\n",
    "#     ax[1].axvline(ptile_slen, color = 'white')\n",
    "#     ax[1].axhline(ptile_slen, color = 'white')\n",
    "    \n",
    "#     # plot galaxies\n",
    "#     ax[1].scatter(true_locs[indx, true_galaxy_bool[indx] == 1, 1] * (slen -1), \n",
    "#                   true_locs[indx, true_galaxy_bool[indx] == 1, 0] * (slen -1), \n",
    "#                   color = 'green', marker = 'x')\n",
    "    \n",
    "#     # plot stars \n",
    "#     ax[1].scatter(true_locs[indx, true_galaxy_bool[indx] == 0, 1] * (slen -1), \n",
    "#                   true_locs[indx, true_galaxy_bool[indx] == 0, 0] * (slen -1), \n",
    "#                   color = 'red', marker = 'x')\n"
   ]
  },
  {
   "cell_type": "code",
   "execution_count": null,
   "metadata": {},
   "outputs": [],
   "source": []
  },
  {
   "cell_type": "markdown",
   "metadata": {},
   "source": [
    "# Get reconstruction on each tile. Should be similar"
   ]
  },
  {
   "cell_type": "code",
   "execution_count": 18,
   "metadata": {},
   "outputs": [],
   "source": [
    "tile_background = torch.zeros(n_bands, ptile_slen, ptile_slen, device=device)\n",
    "tile_background[0] = 686.0  "
   ]
  },
  {
   "cell_type": "code",
   "execution_count": 19,
   "metadata": {},
   "outputs": [],
   "source": [
    "# simulator, but returns images of size ptile_slen\n",
    "tile_source_simulator = \\\n",
    "    simulated_datasets.SourceSimulator(\n",
    "            DecoderSamples(galaxy_slen, galaxy_decoder_file, n_bands=n_bands),\n",
    "            get_fitted_powerlaw_psf(psf_file)[0:n_bands],\n",
    "            tile_background, \n",
    "            slen = ptile_slen)"
   ]
  },
  {
   "cell_type": "code",
   "execution_count": 20,
   "metadata": {},
   "outputs": [],
   "source": [
    "# simulate single galaxies from tile galaxy params\n",
    "single_galaxies = tile_source_simulator.galaxy_decoder.dec(\n",
    "                    true_tile_galaxy_params.reshape(-1, encoder.n_galaxy_params))[0].detach()\n",
    "\n",
    "# reshape and apply galaxy booleon\n",
    "single_galaxies = single_galaxies.reshape(true_tile_galaxy_params.shape[0], \n",
    "                        -1, \n",
    "                        n_bands, \n",
    "                        tile_source_simulator.galaxy_slen, \n",
    "                        tile_source_simulator.galaxy_slen) * \\\n",
    "                        true_tile_galaxy_bool.unsqueeze(2).unsqueeze(3).unsqueeze(4)\n",
    "\n",
    "# trim single galaxies to be of smaller shape \n",
    "center_indx = (tile_source_simulator.galaxy_slen - 1) / 2\n",
    "\n",
    "r = np.floor(ptile_slen / 2)\n",
    "l_indx = int(center_indx - r)\n",
    "u_indx = int(center_indx + r + 1)\n",
    "\n",
    "single_galaxies = single_galaxies[:, :, :, l_indx:u_indx, l_indx:u_indx]"
   ]
  },
  {
   "cell_type": "code",
   "execution_count": 21,
   "metadata": {},
   "outputs": [],
   "source": [
    "# parameterization on tiles for locs is *slightly* different ... \n",
    "_true_tile_locs = (true_tile_locs * ptile_slen - 0.5) / (ptile_slen - 1)"
   ]
  },
  {
   "cell_type": "code",
   "execution_count": 22,
   "metadata": {},
   "outputs": [],
   "source": [
    "# reconstrct image on tiles\n",
    "recon_tile_images = tile_source_simulator._draw_image_from_params(true_tile_n_sources, \n",
    "                                            _true_tile_locs * true_tile_galaxy_bool.unsqueeze(-1), \n",
    "                                            _true_tile_locs * (1 - true_tile_galaxy_bool).unsqueeze(-1), \n",
    "                                            single_galaxies, \n",
    "                                            torch.exp(true_tile_log_fluxes.unsqueeze(-1))) + 686."
   ]
  },
  {
   "cell_type": "markdown",
   "metadata": {},
   "source": [
    "Qualitatively, the reconstructions look similar. But the galaxies have a wierd \"ring\" in the residuals. I *suspect* this is due to the differences in convoluting the single galaxy images on the smaller ptiles verses convoluting the singe galaxy images on the full image. "
   ]
  },
  {
   "cell_type": "code",
   "execution_count": 23,
   "metadata": {},
   "outputs": [
    {
     "data": {
      "image/png": "[encoded data removed]",
      "text/plain": [
       "<Figure size 1440x432 with 4 Axes>"
      ]
     },
     "metadata": {
      "needs_background": "light"
     },
     "output_type": "display_data"
    },
    {
     "data": {
      "image/png": "[encoded data removed]",
      "text/plain": [
       "<Figure size 1440x432 with 4 Axes>"
      ]
     },
     "metadata": {
      "needs_background": "light"
     },
     "output_type": "display_data"
    },
    {
     "data": {
      "image/png": "[encoded data removed]",
      "text/plain": [
       "<Figure size 1440x432 with 4 Axes>"
      ]
     },
     "metadata": {
      "needs_background": "light"
     },
     "output_type": "display_data"
    },
    {
     "data": {
      "image/png": "[encoded data removed]",
      "text/plain": [
       "<Figure size 1440x432 with 4 Axes>"
      ]
     },
     "metadata": {
      "needs_background": "light"
     },
     "output_type": "display_data"
    },
    {
     "data": {
      "image/png": "[encoded data removed]",
      "text/plain": [
       "<Figure size 1440x432 with 4 Axes>"
      ]
     },
     "metadata": {
      "needs_background": "light"
     },
     "output_type": "display_data"
    },
    {
     "data": {
      "image/png": "[encoded data removed]",
      "text/plain": [
       "<Figure size 1440x432 with 4 Axes>"
      ]
     },
     "metadata": {
      "needs_background": "light"
     },
     "output_type": "display_data"
    },
    {
     "data": {
      "image/png": "[encoded data removed]",
      "text/plain": [
       "<Figure size 1440x432 with 4 Axes>"
      ]
     },
     "metadata": {
      "needs_background": "light"
     },
     "output_type": "display_data"
    },
    {
     "data": {
      "image/png": "[encoded data removed]",
      "text/plain": [
       "<Figure size 1440x432 with 4 Axes>"
      ]
     },
     "metadata": {
      "needs_background": "light"
     },
     "output_type": "display_data"
    }
   ],
   "source": [
    "for i in range(image_tiles.shape[0]): \n",
    "    fig, ax = plt.subplots(1, 3, figsize = (20, 6))\n",
    "    # get full image\n",
    "    indx = i // n_tiles_per_image\n",
    "    image = batch_params['images'][indx, 0]\n",
    "    \n",
    "    # plot reconstructed image tile\n",
    "    n_src = int(true_tile_n_sources[i].numpy())\n",
    "    ax[0].matshow(recon_tile_images[i, 0], vmax = image.max(), vmin = image.min())\n",
    "    \n",
    "    # plot true image tile\n",
    "    ax[1].matshow(image_tiles[i, 0], vmax = image.max(), vmin = image.min())\n",
    "    \n",
    "    resid = image_tiles[i, 0] - recon_tile_images[i, 0]\n",
    "    im1 = ax[2].matshow(resid, \n",
    "                  vmax = resid.abs().max(), vmin = -resid.abs().max(), \n",
    "                  cmap = plt.get_cmap('bwr'))\n",
    "    fig.colorbar(im1, ax = ax[2])\n",
    "        \n",
    "    # plot galaxies\n",
    "    for k in range(2): \n",
    "        ax[k].scatter(true_tile_locs[i, true_tile_galaxy_bool[i] == 1, 1] * ptile_slen - 0.5, \n",
    "                      true_tile_locs[i, true_tile_galaxy_bool[i] == 1, 0] * ptile_slen - 0.5, \n",
    "                      color = 'green', marker = 'x')\n",
    "\n",
    "        # plot stars \n",
    "        which_star = (true_tile_galaxy_bool[i] == 0) & (true_tile_is_on_array[i] == 1)\n",
    "        ax[k].scatter(true_tile_locs[i, which_star, 1] * ptile_slen - 0.5, \n",
    "                      true_tile_locs[i, which_star, 0] * ptile_slen - 0.5, \n",
    "                      color = 'red', marker = 'x')"
   ]
  },
  {
   "cell_type": "markdown",
   "metadata": {},
   "source": [
    "# Go convert tile parameters back to full image"
   ]
  },
  {
   "cell_type": "code",
   "execution_count": 28,
   "metadata": {},
   "outputs": [],
   "source": [
    "# only look at first image\n",
    "(true_tile_n_sources,\n",
    "    true_tile_locs,\n",
    "    true_tile_galaxy_params,\n",
    "    true_tile_log_fluxes,\n",
    "    true_tile_galaxy_bool,\n",
    "    true_tile_is_on_array,\n",
    "    ) = encoder.get_params_in_tiles(\n",
    "            slen, true_locs[0:1], true_galaxy_params[0:1], true_log_fluxes[0:1], true_galaxy_bool[0:1]\n",
    "            )\n",
    "\n",
    "true_tile_log_fluxes = true_tile_log_fluxes.unsqueeze(-1)"
   ]
  },
  {
   "cell_type": "code",
   "execution_count": 29,
   "metadata": {},
   "outputs": [],
   "source": [
    "(n_sources, locs, galaxy_params, log_fluxes, galaxy_bool) = \\\n",
    "            encoder._get_full_params_from_sampled_params(\n",
    "            slen,\n",
    "            true_tile_is_on_array.unsqueeze(0),\n",
    "            true_tile_locs.unsqueeze(0),\n",
    "            true_tile_galaxy_params.unsqueeze(0),\n",
    "            true_tile_log_fluxes.unsqueeze(0),\n",
    "            true_tile_galaxy_bool.unsqueeze(0).unsqueeze(-1),\n",
    "        )"
   ]
  },
  {
   "cell_type": "code",
   "execution_count": 30,
   "metadata": {},
   "outputs": [
    {
     "name": "stdout",
     "output_type": "stream",
     "text": [
      "tensor([[0.4602, 0.7059],\n",
      "        [0.0398, 0.9872],\n",
      "        [0.7376, 0.7900],\n",
      "        [0.8253, 0.4658],\n",
      "        [0.9406, 0.1820]])\n",
      "tensor([[0.9406, 0.1820],\n",
      "        [0.0398, 0.9872],\n",
      "        [0.4602, 0.7059],\n",
      "        [0.7376, 0.7900],\n",
      "        [0.8253, 0.4658]])\n"
     ]
    }
   ],
   "source": [
    "# compare our untiled locs with the original locs\n",
    "# sort so they match up\n",
    "print(locs[0])\n",
    "print(true_locs[0])\n",
    "\n",
    "locs1 = locs[0, torch.argsort(locs[0, :, 0]), :]\n",
    "locs2 = true_locs[0, torch.argsort(true_locs[0, :, 0]), :]\n",
    "\n",
    "assert(torch.abs(locs1 - locs2).max() < 1e-6)"
   ]
  },
  {
   "cell_type": "code",
   "execution_count": 31,
   "metadata": {},
   "outputs": [],
   "source": [
    "# check pattern of galaxy params\n",
    "assert torch.all((galaxy_params * galaxy_bool) == galaxy_params)\n",
    "assert torch.all((galaxy_params * (1 - galaxy_bool)) == 0)"
   ]
  },
  {
   "cell_type": "code",
   "execution_count": 32,
   "metadata": {},
   "outputs": [
    {
     "name": "stdout",
     "output_type": "stream",
     "text": [
      "tensor([[ 0.0373, -0.8360,  0.3834, -2.0910, -0.2000,  0.5883, -0.2006,  1.0903],\n",
      "        [-1.1751, -1.3896,  1.4221,  0.8151,  1.0985, -1.2909, -0.3891,  1.1247],\n",
      "        [ 0.1772, -0.1311,  1.1044,  1.1177,  1.7602, -0.1053,  0.5716, -1.9422]])\n",
      "\n",
      "\n",
      "tensor([[-1.1751, -1.3896,  1.4221,  0.8151,  1.0985, -1.2909, -0.3891,  1.1247],\n",
      "        [ 0.0373, -0.8360,  0.3834, -2.0910, -0.2000,  0.5883, -0.2006,  1.0903],\n",
      "        [ 0.1772, -0.1311,  1.1044,  1.1177,  1.7602, -0.1053,  0.5716, -1.9422]])\n"
     ]
    }
   ],
   "source": [
    "gal_params1 = galaxy_params[0, galaxy_bool.squeeze() == 1, :]\n",
    "gal_params2 = true_galaxy_params[0, true_galaxy_bool[0] == 1, :]\n",
    "\n",
    "print(gal_params1)\n",
    "print('\\n')\n",
    "print(gal_params2)\n",
    "\n",
    "assert torch.all(torch.abs(gal_params1[torch.argsort(gal_params1[:, 0])] - \n",
    "                           gal_params2[torch.argsort(gal_params2[:, 0])]) < 1e-6)"
   ]
  },
  {
   "cell_type": "code",
   "execution_count": 33,
   "metadata": {},
   "outputs": [],
   "source": [
    "# check pattern of log-fluxes\n",
    "assert torch.all((log_fluxes * galaxy_bool) == 0)\n",
    "assert torch.all((log_fluxes * (1 - galaxy_bool)) == log_fluxes)"
   ]
  },
  {
   "cell_type": "code",
   "execution_count": 34,
   "metadata": {},
   "outputs": [
    {
     "name": "stdout",
     "output_type": "stream",
     "text": [
      "tensor([[9.6488],\n",
      "        [9.4390]])\n",
      "\n",
      "\n",
      "tensor([[9.4390],\n",
      "        [9.6488]])\n"
     ]
    }
   ],
   "source": [
    "flux_params1 = log_fluxes[0, galaxy_bool.squeeze() == 0, :]\n",
    "flux_params2 = true_log_fluxes[0, true_galaxy_bool[0] == 0, :]\n",
    "\n",
    "print(flux_params1)\n",
    "print('\\n')\n",
    "print(flux_params2)\n",
    "\n",
    "assert torch.all(torch.abs(flux_params1[torch.argsort(flux_params1[:, 0])] - \n",
    "                           flux_params2[torch.argsort(flux_params2[:, 0])]) < 1e-6)"
   ]
  },
  {
   "cell_type": "markdown",
   "metadata": {},
   "source": [
    "# Check reconstruction, just for completeness"
   ]
  },
  {
   "cell_type": "code",
   "execution_count": 35,
   "metadata": {},
   "outputs": [],
   "source": [
    "single_galaxies = dataset.simulator.galaxy_decoder.dec(\n",
    "                    galaxy_params.reshape(-1, encoder.n_galaxy_params))[0].detach()\n",
    "\n",
    "# reshape and apply galaxy booleon\n",
    "single_galaxies = single_galaxies.reshape(galaxy_params.shape[0], \n",
    "                        -1, \n",
    "                        n_bands, \n",
    "                        dataset.simulator.galaxy_slen, \n",
    "                        dataset.simulator.galaxy_slen) * \\\n",
    "                        galaxy_bool.unsqueeze(-1).unsqueeze(-1)"
   ]
  },
  {
   "cell_type": "code",
   "execution_count": 36,
   "metadata": {},
   "outputs": [],
   "source": [
    "# reconstrct image on tiles\n",
    "recon_image = dataset.simulator._draw_image_from_params(n_sources, \n",
    "                                            locs * galaxy_bool, \n",
    "                                            locs * (1 - galaxy_bool), \n",
    "                                            single_galaxies, \n",
    "                                            torch.exp(log_fluxes)) + 686."
   ]
  },
  {
   "cell_type": "code",
   "execution_count": 37,
   "metadata": {},
   "outputs": [
    {
     "data": {
      "text/plain": [
       "<matplotlib.image.AxesImage at 0x7f0f98594a90>"
      ]
     },
     "execution_count": 37,
     "metadata": {},
     "output_type": "execute_result"
    },
    {
     "data": {
      "image/png": "[encoded data removed]",
      "text/plain": [
       "<Figure size 1440x432 with 3 Axes>"
      ]
     },
     "metadata": {
      "needs_background": "light"
     },
     "output_type": "display_data"
    }
   ],
   "source": [
    "fig, ax = plt.subplots(1, 3, figsize = (20, 6))\n",
    "\n",
    "# plot reconstructed image \n",
    "ax[0].matshow(recon_image[0, 0])\n",
    "\n",
    "# plot original image\n",
    "ax[1].matshow(batch_params['images'][0, 0])\n",
    "\n",
    "ax[2].matshow(recon_image[0, 0] - batch_params['images'][0, 0])"
   ]
  },
  {
   "cell_type": "code",
   "execution_count": null,
   "metadata": {},
   "outputs": [],
   "source": []
  },
  {
   "cell_type": "code",
   "execution_count": null,
   "metadata": {},
   "outputs": [],
   "source": []
  },
  {
   "cell_type": "code",
   "execution_count": null,
   "metadata": {},
   "outputs": [],
   "source": []
  }
 ],
 "metadata": {
  "kernelspec": {
   "display_name": "celeste_py",
   "language": "python",
   "name": "celeste_py"
  },
  "language_info": {
   "codemirror_mode": {
    "name": "ipython",
    "version": 3
   },
   "file_extension": ".py",
   "mimetype": "text/x-python",
   "name": "python",
   "nbconvert_exporter": "python",
   "pygments_lexer": "ipython3",
   "version": "3.7.7"
  }
 },
 "nbformat": 4,
 "nbformat_minor": 2
}

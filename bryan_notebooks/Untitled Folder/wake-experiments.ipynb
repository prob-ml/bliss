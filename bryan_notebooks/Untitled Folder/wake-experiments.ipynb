{
 "cells": [
  {
   "cell_type": "code",
   "execution_count": 2,
   "metadata": {},
   "outputs": [
    {
     "name": "stdout",
     "output_type": "stream",
     "text": [
      "/Users/zhezhao/Desktop/research/celeste\n"
     ]
    }
   ],
   "source": [
    "import matplotlib.pyplot as plt\n",
    "import os\n",
    "import sys\n",
    "path = os.path.abspath('../..')  # points to celeste\n",
    "if path not in sys.path:\n",
    "    sys.path.insert(0, path)\n",
    "print(path)\n",
    "\n",
    "import numpy as np\n",
    "import pytest\n",
    "import torch\n",
    "\n",
    "from celeste import device, use_cuda\n",
    "from celeste import psf_transform\n",
    "from celeste import train\n",
    "from celeste import wake\n",
    "from celeste.datasets import simulated_datasets\n",
    "from celeste.models import sourcenet\n",
    "from celeste.datasets.simulated_datasets import get_fitted_powerlaw_psf\n",
    "from celeste.datasets.galaxy_datasets import DecoderSamples"
   ]
  },
  {
   "cell_type": "code",
   "execution_count": 14,
   "metadata": {},
   "outputs": [
    {
     "data": {
      "text/plain": [
       "<torch._C.Generator at 0x7fa463e1cf50>"
      ]
     },
     "execution_count": 14,
     "metadata": {},
     "output_type": "execute_result"
    }
   ],
   "source": [
    "torch.manual_seed(60)"
   ]
  },
  {
   "cell_type": "code",
   "execution_count": 3,
   "metadata": {},
   "outputs": [],
   "source": [
    "test_star = torch.load(os.path.abspath(\"../..\")+\"/data/3star_test_params\")\n",
    "test_image = test_star[\"images\"]"
   ]
  },
  {
   "cell_type": "code",
   "execution_count": 5,
   "metadata": {},
   "outputs": [
    {
     "data": {
      "text/plain": [
       "<matplotlib.collections.PathCollection at 0x7f90ad32bc50>"
      ]
     },
     "execution_count": 5,
     "metadata": {},
     "output_type": "execute_result"
    },
    {
     "data": {
      "image/png": "[encoded data removed]",
      "text/plain": [
       "<Figure size 432x288 with 1 Axes>"
      ]
     },
     "metadata": {
      "needs_background": "light"
     },
     "output_type": "display_data"
    }
   ],
   "source": [
    "plt.imshow(test_image[0,0])\n",
    "true_locs = test_star[\"locs\"]\n",
    "locs_x = true_locs[0][:,0].cpu().numpy() * (29)\n",
    "locs_y = true_locs[0][:,1].cpu().numpy() * (29)\n",
    "plt.scatter(locs_y, locs_x, marker='x', color='red')"
   ]
  },
  {
   "cell_type": "code",
   "execution_count": 6,
   "metadata": {},
   "outputs": [
    {
     "name": "stdout",
     "output_type": "stream",
     "text": [
      "tensor([[ -0.5396,   1.0622,   3.1312,   1.1505,  -2.1963, -16.2110],\n",
      "        [ -0.3799,   0.7378,  -0.4502,   3.1473,  -1.2203,  -5.6375]])\n",
      "tensor([[ -0.5396,   5.0622,   3.1312,   1.1505,  -2.1963, -16.2110],\n",
      "        [ -0.3799,   4.7378,  -0.4502,   3.1473,  -1.2203,  -5.6375]])\n"
     ]
    }
   ],
   "source": [
    "# create training dataset\n",
    "n_bands = 2\n",
    "max_stars = 20\n",
    "mean_stars = 10\n",
    "min_stars = 5\n",
    "f_min = 1e3\n",
    "slen = 50\n",
    "\n",
    "# set background\n",
    "background = torch.zeros(n_bands, slen, slen, device=device)\n",
    "background[0] = 686.0\n",
    "background[1] = 1123.0\n",
    "\n",
    "## initialize psf params, just add 4 to each sigmas\n",
    "psf_file = path + \"/data/fitted_powerlaw_psf_params.npy\"\n",
    "true_psf_params = torch.from_numpy(np.load(psf_file)).to(device)\n",
    "print(true_psf_params)\n",
    "true_psf = get_fitted_powerlaw_psf(psf_file)\n",
    "\n",
    "\n",
    "init_psf_params = true_psf_params.clone()\n",
    "init_psf_params[0, 1] += torch.tensor(4.0).to(device)\n",
    "init_psf_params[1, 1] += torch.tensor(4.0).to(device)\n",
    "init_psf = psf_transform.PowerLawPSF(init_psf_params).forward().detach()\n",
    "print(init_psf_params)\n",
    "\n",
    "galaxy_slen = 51\n",
    "galaxy_decoder_file = path + \"/data/decoder_params_100_single_band_i.dat\"\n",
    "single_band_galaxy_decoder = DecoderSamples(galaxy_slen, galaxy_decoder_file, n_bands=1)\n",
    "\n",
    "# simulate dataset\n",
    "n_images = 128*2\n",
    "simulator_args = (\n",
    "    single_band_galaxy_decoder,\n",
    "    true_psf,\n",
    "    background,\n",
    ")\n",
    "\n",
    "simulator_kwargs = dict(\n",
    "    slen=slen,\n",
    "    n_bands=n_bands,\n",
    "    max_sources=max_stars,\n",
    "    mean_sources=mean_stars,\n",
    "    min_sources=min_stars,\n",
    "    f_min=f_min,\n",
    "    star_prob=1.0,  # enforce only stars are created in the training images.\n",
    ")\n",
    "\n"
   ]
  },
  {
   "cell_type": "code",
   "execution_count": 57,
   "metadata": {},
   "outputs": [
    {
     "name": "stdout",
     "output_type": "stream",
     "text": [
      "0 loss: 2.3344; counter loss: 0.7629; locs loss: 0.0267; source_params loss: 1.5448 \t [0.6 seconds]\n",
      "1 loss: 1.2204; counter loss: 0.6591; locs loss: 0.0169; source_params loss: 0.5444 \t [0.6 seconds]\n",
      "2 loss: 0.9227; counter loss: 0.5840; locs loss: 0.0159; source_params loss: 0.3229 \t [0.6 seconds]\n",
      "3 loss: 0.7530; counter loss: 0.5248; locs loss: 0.0117; source_params loss: 0.2164 \t [0.6 seconds]\n",
      "4 loss: 0.6505; counter loss: 0.4637; locs loss: 0.0074; source_params loss: 0.1793 \t [0.6 seconds]\n",
      "5 loss: 0.5744; counter loss: 0.3985; locs loss: 0.0045; source_params loss: 0.1715 \t [0.6 seconds]\n",
      "6 loss: 0.5023; counter loss: 0.3423; locs loss: 0.0038; source_params loss: 0.1562 \t [0.6 seconds]\n",
      "7 loss: 0.4500; counter loss: 0.2958; locs loss: 0.0034; source_params loss: 0.1509 \t [0.6 seconds]\n",
      "8 loss: 0.4078; counter loss: 0.2563; locs loss: 0.0026; source_params loss: 0.1489 \t [0.6 seconds]\n",
      "9 loss: 0.3637; counter loss: 0.2231; locs loss: 0.0027; source_params loss: 0.1379 \t [0.6 seconds]\n",
      "10 loss: 0.3452; counter loss: 0.1966; locs loss: 0.0026; source_params loss: 0.1460 \t [0.6 seconds]\n",
      "11 loss: 0.3109; counter loss: 0.1741; locs loss: 0.0015; source_params loss: 0.1352 \t [0.6 seconds]\n",
      "12 loss: 0.2854; counter loss: 0.1540; locs loss: 0.0006; source_params loss: 0.1308 \t [0.6 seconds]\n",
      "13 loss: 0.2743; counter loss: 0.1375; locs loss: -0.0003; source_params loss: 0.1370 \t [0.6 seconds]\n",
      "14 loss: 0.2443; counter loss: 0.1235; locs loss: -0.0017; source_params loss: 0.1224 \t [0.6 seconds]\n",
      "15 loss: 0.2297; counter loss: 0.1110; locs loss: -0.0029; source_params loss: 0.1215 \t [0.6 seconds]\n",
      "16 loss: 0.2211; counter loss: 0.1009; locs loss: -0.0038; source_params loss: 0.1240 \t [0.6 seconds]\n",
      "17 loss: 0.2069; counter loss: 0.0917; locs loss: -0.0065; source_params loss: 0.1217 \t [0.6 seconds]\n",
      "18 loss: 0.1989; counter loss: 0.0843; locs loss: -0.0091; source_params loss: 0.1237 \t [0.6 seconds]\n",
      "19 loss: 0.1877; counter loss: 0.0780; locs loss: -0.0106; source_params loss: 0.1202 \t [0.6 seconds]\n",
      "20 loss: 0.1743; counter loss: 0.0721; locs loss: -0.0140; source_params loss: 0.1162 \t [0.6 seconds]\n",
      "21 loss: 0.1654; counter loss: 0.0667; locs loss: -0.0160; source_params loss: 0.1146 \t [0.6 seconds]\n",
      "22 loss: 0.1569; counter loss: 0.0621; locs loss: -0.0183; source_params loss: 0.1132 \t [0.6 seconds]\n",
      "23 loss: 0.1551; counter loss: 0.0588; locs loss: -0.0200; source_params loss: 0.1164 \t [0.6 seconds]\n",
      "24 loss: 0.1468; counter loss: 0.0548; locs loss: -0.0230; source_params loss: 0.1150 \t [0.6 seconds]\n",
      "25 loss: 0.1419; counter loss: 0.0521; locs loss: -0.0261; source_params loss: 0.1160 \t [0.6 seconds]\n",
      "26 loss: 0.1360; counter loss: 0.0492; locs loss: -0.0265; source_params loss: 0.1133 \t [0.6 seconds]\n",
      "27 loss: 0.1340; counter loss: 0.0464; locs loss: -0.0275; source_params loss: 0.1151 \t [0.6 seconds]\n",
      "28 loss: 0.1250; counter loss: 0.0437; locs loss: -0.0311; source_params loss: 0.1123 \t [0.6 seconds]\n",
      "29 loss: 0.1213; counter loss: 0.0412; locs loss: -0.0304; source_params loss: 0.1104 \t [0.6 seconds]\n",
      "30 loss: 0.1241; counter loss: 0.0408; locs loss: -0.0309; source_params loss: 0.1142 \t [0.6 seconds]\n",
      "31 loss: 0.1191; counter loss: 0.0391; locs loss: -0.0330; source_params loss: 0.1130 \t [0.6 seconds]\n",
      "32 loss: 0.1134; counter loss: 0.0374; locs loss: -0.0346; source_params loss: 0.1107 \t [0.6 seconds]\n",
      "33 loss: 0.1068; counter loss: 0.0354; locs loss: -0.0349; source_params loss: 0.1063 \t [0.6 seconds]\n",
      "34 loss: 0.1061; counter loss: 0.0341; locs loss: -0.0357; source_params loss: 0.1077 \t [0.6 seconds]\n",
      "35 loss: 0.1032; counter loss: 0.0330; locs loss: -0.0332; source_params loss: 0.1034 \t [0.6 seconds]\n",
      "36 loss: 0.0982; counter loss: 0.0322; locs loss: -0.0351; source_params loss: 0.1012 \t [0.6 seconds]\n",
      "37 loss: 0.0923; counter loss: 0.0310; locs loss: -0.0371; source_params loss: 0.0984 \t [0.6 seconds]\n",
      "38 loss: 0.0922; counter loss: 0.0304; locs loss: -0.0391; source_params loss: 0.1010 \t [0.6 seconds]\n",
      "39 loss: 0.0928; counter loss: 0.0298; locs loss: -0.0379; source_params loss: 0.1009 \t [0.6 seconds]\n",
      "40 loss: 0.0875; counter loss: 0.0293; locs loss: -0.0386; source_params loss: 0.0968 \t [0.6 seconds]\n",
      "41 loss: 0.0830; counter loss: 0.0280; locs loss: -0.0409; source_params loss: 0.0959 \t [0.6 seconds]\n",
      "42 loss: 0.0827; counter loss: 0.0276; locs loss: -0.0388; source_params loss: 0.0939 \t [0.6 seconds]\n",
      "43 loss: 0.0799; counter loss: 0.0275; locs loss: -0.0381; source_params loss: 0.0905 \t [0.6 seconds]\n",
      "44 loss: 0.0748; counter loss: 0.0264; locs loss: -0.0405; source_params loss: 0.0889 \t [0.6 seconds]\n",
      "45 loss: 0.0716; counter loss: 0.0262; locs loss: -0.0397; source_params loss: 0.0850 \t [0.6 seconds]\n",
      "46 loss: 0.0680; counter loss: 0.0259; locs loss: -0.0434; source_params loss: 0.0855 \t [0.6 seconds]\n",
      "47 loss: 0.0636; counter loss: 0.0250; locs loss: -0.0395; source_params loss: 0.0780 \t [0.6 seconds]\n",
      "48 loss: 0.0607; counter loss: 0.0248; locs loss: -0.0408; source_params loss: 0.0767 \t [0.6 seconds]\n",
      "49 loss: 0.0572; counter loss: 0.0245; locs loss: -0.0427; source_params loss: 0.0754 \t [0.6 seconds]\n",
      "50 loss: 0.0506; counter loss: 0.0231; locs loss: -0.0416; source_params loss: 0.0691 \t [0.6 seconds]\n",
      "51 loss: 0.0477; counter loss: 0.0237; locs loss: -0.0435; source_params loss: 0.0675 \t [0.6 seconds]\n",
      "52 loss: 0.0468; counter loss: 0.0240; locs loss: -0.0440; source_params loss: 0.0669 \t [0.6 seconds]\n",
      "53 loss: 0.0409; counter loss: 0.0229; locs loss: -0.0427; source_params loss: 0.0608 \t [0.6 seconds]\n",
      "54 loss: 0.0398; counter loss: 0.0231; locs loss: -0.0448; source_params loss: 0.0615 \t [0.6 seconds]\n",
      "55 loss: 0.0335; counter loss: 0.0222; locs loss: -0.0449; source_params loss: 0.0562 \t [0.6 seconds]\n",
      "56 loss: 0.0299; counter loss: 0.0222; locs loss: -0.0433; source_params loss: 0.0510 \t [0.6 seconds]\n",
      "57 loss: 0.0330; counter loss: 0.0225; locs loss: -0.0428; source_params loss: 0.0533 \t [0.6 seconds]\n",
      "58 loss: 0.0312; counter loss: 0.0223; locs loss: -0.0406; source_params loss: 0.0494 \t [0.6 seconds]\n",
      "59 loss: 0.0326; counter loss: 0.0227; locs loss: -0.0375; source_params loss: 0.0474 \t [0.6 seconds]\n",
      "60 loss: 0.0300; counter loss: 0.0217; locs loss: -0.0408; source_params loss: 0.0490 \t [0.6 seconds]\n",
      "61 loss: 0.0196; counter loss: 0.0208; locs loss: -0.0416; source_params loss: 0.0403 \t [0.6 seconds]\n",
      "62 loss: 0.0153; counter loss: 0.0210; locs loss: -0.0462; source_params loss: 0.0405 \t [0.6 seconds]\n",
      "63 loss: 0.0224; counter loss: 0.0213; locs loss: -0.0412; source_params loss: 0.0423 \t [0.6 seconds]\n",
      "64 loss: 0.0246; counter loss: 0.0213; locs loss: -0.0402; source_params loss: 0.0434 \t [0.6 seconds]\n",
      "65 loss: 0.0143; counter loss: 0.0209; locs loss: -0.0400; source_params loss: 0.0334 \t [0.6 seconds]\n",
      "66 loss: 0.0128; counter loss: 0.0199; locs loss: -0.0416; source_params loss: 0.0345 \t [0.6 seconds]\n",
      "67 loss: 0.0037; counter loss: 0.0194; locs loss: -0.0439; source_params loss: 0.0282 \t [0.6 seconds]\n",
      "68 loss: 0.0083; counter loss: 0.0199; locs loss: -0.0442; source_params loss: 0.0326 \t [0.6 seconds]\n",
      "69 loss: 0.0111; counter loss: 0.0200; locs loss: -0.0453; source_params loss: 0.0364 \t [0.6 seconds]\n",
      "70 loss: 0.0164; counter loss: 0.0202; locs loss: -0.0414; source_params loss: 0.0376 \t [0.6 seconds]\n",
      "71 loss: 0.0141; counter loss: 0.0196; locs loss: -0.0432; source_params loss: 0.0378 \t [0.6 seconds]\n",
      "72 loss: 0.0058; counter loss: 0.0185; locs loss: -0.0424; source_params loss: 0.0297 \t [0.6 seconds]\n",
      "73 loss: 0.0133; counter loss: 0.0183; locs loss: -0.0402; source_params loss: 0.0352 \t [0.6 seconds]\n",
      "74 loss: 0.0126; counter loss: 0.0182; locs loss: -0.0423; source_params loss: 0.0368 \t [0.6 seconds]\n",
      "75 loss: 0.0093; counter loss: 0.0178; locs loss: -0.0429; source_params loss: 0.0344 \t [0.6 seconds]\n",
      "76 loss: 0.0010; counter loss: 0.0167; locs loss: -0.0448; source_params loss: 0.0291 \t [0.6 seconds]\n",
      "77 loss: -0.0047; counter loss: 0.0177; locs loss: -0.0483; source_params loss: 0.0259 \t [0.6 seconds]\n",
      "78 loss: -0.0016; counter loss: 0.0183; locs loss: -0.0479; source_params loss: 0.0280 \t [0.6 seconds]\n",
      "79 loss: -0.0056; counter loss: 0.0169; locs loss: -0.0488; source_params loss: 0.0263 \t [0.6 seconds]\n",
      "80 loss: -0.0108; counter loss: 0.0173; locs loss: -0.0494; source_params loss: 0.0213 \t [0.6 seconds]\n",
      "81 loss: -0.0123; counter loss: 0.0163; locs loss: -0.0483; source_params loss: 0.0197 \t [0.6 seconds]\n",
      "82 loss: -0.0026; counter loss: 0.0174; locs loss: -0.0496; source_params loss: 0.0296 \t [0.6 seconds]\n",
      "83 loss: -0.0104; counter loss: 0.0169; locs loss: -0.0466; source_params loss: 0.0194 \t [0.6 seconds]\n",
      "84 loss: 0.0014; counter loss: 0.0166; locs loss: -0.0514; source_params loss: 0.0362 \t [0.6 seconds]\n",
      "85 loss: -0.0160; counter loss: 0.0158; locs loss: -0.0485; source_params loss: 0.0166 \t [0.6 seconds]\n",
      "86 loss: -0.0121; counter loss: 0.0164; locs loss: -0.0486; source_params loss: 0.0201 \t [0.6 seconds]\n",
      "87 loss: 0.0071; counter loss: 0.0169; locs loss: -0.0446; source_params loss: 0.0348 \t [0.6 seconds]\n",
      "88 loss: -0.0019; counter loss: 0.0179; locs loss: -0.0419; source_params loss: 0.0221 \t [0.6 seconds]\n",
      "89 loss: -0.0123; counter loss: 0.0163; locs loss: -0.0477; source_params loss: 0.0191 \t [0.6 seconds]\n",
      "90 loss: -0.0100; counter loss: 0.0159; locs loss: -0.0466; source_params loss: 0.0207 \t [0.5 seconds]\n",
      "91 loss: 0.0073; counter loss: 0.0152; locs loss: -0.0465; source_params loss: 0.0386 \t [0.6 seconds]\n",
      "92 loss: -0.0017; counter loss: 0.0162; locs loss: -0.0441; source_params loss: 0.0262 \t [0.6 seconds]\n",
      "93 loss: -0.0120; counter loss: 0.0147; locs loss: -0.0473; source_params loss: 0.0206 \t [0.6 seconds]\n",
      "94 loss: -0.0121; counter loss: 0.0161; locs loss: -0.0497; source_params loss: 0.0216 \t [0.6 seconds]\n",
      "95 loss: -0.0155; counter loss: 0.0155; locs loss: -0.0483; source_params loss: 0.0172 \t [0.6 seconds]\n",
      "96 loss: -0.0161; counter loss: 0.0151; locs loss: -0.0504; source_params loss: 0.0192 \t [0.6 seconds]\n",
      "97 loss: -0.0063; counter loss: 0.0149; locs loss: -0.0464; source_params loss: 0.0252 \t [0.6 seconds]\n",
      "98 loss: -0.0098; counter loss: 0.0149; locs loss: -0.0468; source_params loss: 0.0221 \t [0.6 seconds]\n",
      "99 loss: -0.0149; counter loss: 0.0150; locs loss: -0.0494; source_params loss: 0.0195 \t [0.6 seconds]\n",
      "100 loss: -0.0204; counter loss: 0.0144; locs loss: -0.0488; source_params loss: 0.0140 \t [0.6 seconds]\n",
      "101 loss: -0.0039; counter loss: 0.0154; locs loss: -0.0514; source_params loss: 0.0321 \t [0.6 seconds]\n",
      "102 loss: 0.0023; counter loss: 0.0156; locs loss: -0.0437; source_params loss: 0.0304 \t [0.6 seconds]\n",
      "103 loss: -0.0055; counter loss: 0.0158; locs loss: -0.0430; source_params loss: 0.0218 \t [0.6 seconds]\n",
      "104 loss: -0.0101; counter loss: 0.0148; locs loss: -0.0468; source_params loss: 0.0220 \t [0.6 seconds]\n",
      "105 loss: -0.0186; counter loss: 0.0153; locs loss: -0.0477; source_params loss: 0.0138 \t [0.6 seconds]\n",
      "106 loss: -0.0160; counter loss: 0.0151; locs loss: -0.0512; source_params loss: 0.0201 \t [0.6 seconds]\n",
      "107 loss: -0.0289; counter loss: 0.0141; locs loss: -0.0544; source_params loss: 0.0114 \t [0.6 seconds]\n",
      "108 loss: -0.0215; counter loss: 0.0156; locs loss: -0.0538; source_params loss: 0.0168 \t [0.6 seconds]\n",
      "109 loss: -0.0206; counter loss: 0.0132; locs loss: -0.0508; source_params loss: 0.0170 \t [0.6 seconds]\n",
      "110 loss: -0.0272; counter loss: 0.0133; locs loss: -0.0503; source_params loss: 0.0098 \t [0.6 seconds]\n",
      "111 loss: -0.0169; counter loss: 0.0141; locs loss: -0.0508; source_params loss: 0.0199 \t [0.6 seconds]\n",
      "112 loss: -0.0160; counter loss: 0.0145; locs loss: -0.0503; source_params loss: 0.0198 \t [0.6 seconds]\n",
      "113 loss: -0.0160; counter loss: 0.0129; locs loss: -0.0482; source_params loss: 0.0193 \t [0.7 seconds]\n",
      "114 loss: -0.0307; counter loss: 0.0134; locs loss: -0.0576; source_params loss: 0.0136 \t [0.6 seconds]\n",
      "115 loss: -0.0084; counter loss: 0.0143; locs loss: -0.0482; source_params loss: 0.0255 \t [0.6 seconds]\n",
      "116 loss: -0.0039; counter loss: 0.0152; locs loss: -0.0456; source_params loss: 0.0265 \t [0.6 seconds]\n",
      "117 loss: -0.0073; counter loss: 0.0140; locs loss: -0.0396; source_params loss: 0.0183 \t [0.6 seconds]\n",
      "118 loss: -0.0151; counter loss: 0.0134; locs loss: -0.0434; source_params loss: 0.0149 \t [0.6 seconds]\n",
      "119 loss: -0.0258; counter loss: 0.0134; locs loss: -0.0499; source_params loss: 0.0107 \t [0.6 seconds]\n",
      "120 loss: -0.0316; counter loss: 0.0134; locs loss: -0.0516; source_params loss: 0.0067 \t [0.6 seconds]\n",
      "121 loss: -0.0270; counter loss: 0.0135; locs loss: -0.0528; source_params loss: 0.0122 \t [0.6 seconds]\n",
      "122 loss: -0.0302; counter loss: 0.0140; locs loss: -0.0528; source_params loss: 0.0086 \t [0.6 seconds]\n",
      "123 loss: -0.0204; counter loss: 0.0133; locs loss: -0.0536; source_params loss: 0.0199 \t [0.6 seconds]\n",
      "124 loss: -0.0228; counter loss: 0.0129; locs loss: -0.0517; source_params loss: 0.0161 \t [0.6 seconds]\n",
      "125 loss: -0.0269; counter loss: 0.0133; locs loss: -0.0500; source_params loss: 0.0097 \t [0.6 seconds]\n",
      "126 loss: -0.0314; counter loss: 0.0126; locs loss: -0.0544; source_params loss: 0.0104 \t [0.6 seconds]\n",
      "127 loss: -0.0186; counter loss: 0.0138; locs loss: -0.0512; source_params loss: 0.0188 \t [0.6 seconds]\n",
      "128 loss: -0.0259; counter loss: 0.0133; locs loss: -0.0521; source_params loss: 0.0129 \t [0.6 seconds]\n",
      "129 loss: -0.0300; counter loss: 0.0131; locs loss: -0.0545; source_params loss: 0.0114 \t [0.6 seconds]\n",
      "130 loss: -0.0420; counter loss: 0.0126; locs loss: -0.0584; source_params loss: 0.0038 \t [0.6 seconds]\n",
      "131 loss: -0.0370; counter loss: 0.0128; locs loss: -0.0575; source_params loss: 0.0077 \t [0.6 seconds]\n",
      "132 loss: -0.0378; counter loss: 0.0124; locs loss: -0.0568; source_params loss: 0.0066 \t [0.6 seconds]\n",
      "133 loss: -0.0276; counter loss: 0.0123; locs loss: -0.0520; source_params loss: 0.0120 \t [0.6 seconds]\n",
      "134 loss: 0.0134; counter loss: 0.0129; locs loss: -0.0511; source_params loss: 0.0517 \t [0.6 seconds]\n",
      "135 loss: 0.0072; counter loss: 0.0144; locs loss: -0.0384; source_params loss: 0.0312 \t [0.6 seconds]\n",
      "136 loss: -0.0094; counter loss: 0.0153; locs loss: -0.0422; source_params loss: 0.0175 \t [0.6 seconds]\n",
      "137 loss: -0.0187; counter loss: 0.0132; locs loss: -0.0466; source_params loss: 0.0146 \t [0.6 seconds]\n",
      "138 loss: -0.0261; counter loss: 0.0126; locs loss: -0.0502; source_params loss: 0.0114 \t [0.6 seconds]\n",
      "139 loss: -0.0373; counter loss: 0.0124; locs loss: -0.0558; source_params loss: 0.0062 \t [0.6 seconds]\n",
      "140 loss: -0.0422; counter loss: 0.0116; locs loss: -0.0564; source_params loss: 0.0026 \t [0.6 seconds]\n",
      "141 loss: -0.0217; counter loss: 0.0134; locs loss: -0.0553; source_params loss: 0.0202 \t [0.6 seconds]\n",
      "142 loss: -0.0227; counter loss: 0.0122; locs loss: -0.0537; source_params loss: 0.0188 \t [0.6 seconds]\n",
      "143 loss: -0.0321; counter loss: 0.0126; locs loss: -0.0562; source_params loss: 0.0116 \t [0.6 seconds]\n",
      "144 loss: -0.0345; counter loss: 0.0130; locs loss: -0.0576; source_params loss: 0.0101 \t [0.6 seconds]\n",
      "145 loss: -0.0203; counter loss: 0.0130; locs loss: -0.0463; source_params loss: 0.0130 \t [0.6 seconds]\n",
      "146 loss: -0.0326; counter loss: 0.0129; locs loss: -0.0508; source_params loss: 0.0054 \t [0.6 seconds]\n",
      "147 loss: -0.0328; counter loss: 0.0120; locs loss: -0.0512; source_params loss: 0.0064 \t [0.6 seconds]\n",
      "148 loss: -0.0336; counter loss: 0.0127; locs loss: -0.0564; source_params loss: 0.0101 \t [0.6 seconds]\n",
      "149 loss: -0.0364; counter loss: 0.0119; locs loss: -0.0573; source_params loss: 0.0089 \t [0.6 seconds]\n"
     ]
    }
   ],
   "source": [
    "dataset = simulated_datasets.SourceDataset(\n",
    "    n_images, simulator_args, simulator_kwargs\n",
    ")\n",
    "\n",
    "# setup Star Encoder\n",
    "star_encoder = sourcenet.SourceEncoder(\n",
    "    slen=slen,\n",
    "    ptile_slen=8,\n",
    "    step=2,\n",
    "    edge_padding=3,\n",
    "    n_bands=n_bands,\n",
    "    max_detections=2,\n",
    "    n_source_params=n_bands,  # star has n_bands # fluxes\n",
    "    enc_conv_c=5,\n",
    "    enc_kern=3,\n",
    "    enc_hidden=32\n",
    ").to(device)\n",
    "\n",
    "# train encoder\n",
    "# training wrapper\n",
    "SleepTraining = train.SleepTraining(\n",
    "    model=star_encoder,\n",
    "    dataset=dataset,\n",
    "    slen=slen,\n",
    "    n_bands=n_bands,\n",
    "    n_source_params=n_bands,  # star has n_bands # fluxes\n",
    "    verbose=True,\n",
    "    batchsize=32,\n",
    ")\n",
    "\n",
    "n_epochs = 150 if use_cuda else 1\n",
    "SleepTraining.run(n_epochs=n_epochs)"
   ]
  },
  {
   "cell_type": "code",
   "execution_count": 59,
   "metadata": {},
   "outputs": [],
   "source": [
    "# get the estimated params\n",
    "est_locs, est_source_params, est_n_sources = star_encoder.sample_encoder(\n",
    "    test_image.to(device),\n",
    "    n_samples=1,\n",
    "    return_map_n_sources=True,\n",
    "    return_map_source_params=True,\n",
    "    training=False\n",
    ")\n",
    "\n",
    "# test that parameters match.\n",
    "assert est_n_sources == test_star[\"n_sources\"].to(device)\n",
    "\n",
    "# locs\n",
    "true_locs = test_star[\"locs\"].to(device)\n",
    "true_ind = true_locs.argsort(1)\n",
    "true_ind = true_ind[0, :, 0]\n",
    "\n",
    "est_locs = est_locs.to(device)\n",
    "est_ind = est_locs.to(device).argsort(1)\n",
    "est_ind = est_ind[0, :, 0]\n",
    "\n",
    "diff_locs = true_locs[:, true_ind, :] - est_locs[:, est_ind, :]\n",
    "diff_locs *= test_image.size(-1)\n",
    "assert diff_locs.abs().max() <= 0.5\n",
    "\n",
    "# fluxes\n",
    "true_source_params = test_star[\"log_fluxes\"][:, true_ind,].to(device)\n",
    "est_source_params = est_source_params[:, est_ind, :].to(device)\n",
    "diff = true_source_params - est_source_params\n",
    "assert (diff.abs() <= est_source_params.abs() * 0.10).all()\n",
    "assert (diff.abs() <= true_source_params.abs() * 0.10).all()"
   ]
  },
  {
   "cell_type": "code",
   "execution_count": 60,
   "metadata": {},
   "outputs": [],
   "source": [
    "# Initialization\n",
    "init_background_params = torch.zeros(2, 3, device=device)\n",
    "init_background_params[0, 0] = 686.0\n",
    "init_background_params[1, 0] = 1123.0\n",
    "\n",
    "## make sure test background equals the initialization\n",
    "init_background = wake.PlanarBackground(init_background_params, 30).forward()\n",
    "assert torch.all(init_background == test_star[\"background\"].to(device))"
   ]
  },
  {
   "cell_type": "code",
   "execution_count": 64,
   "metadata": {},
   "outputs": [
    {
     "name": "stdout",
     "output_type": "stream",
     "text": [
      "[10] loss: 12440196.0000 \t[0.3 seconds]\n",
      "[20] loss: 12303584.0000 \t[0.3 seconds]\n",
      "[30] loss: 12167514.0000 \t[0.3 seconds]\n",
      "[40] loss: 12032015.0000 \t[0.4 seconds]\n",
      "[50] loss: 11897257.0000 \t[0.3 seconds]\n",
      "[60] loss: 11762680.0000 \t[0.4 seconds]\n",
      "[70] loss: 11629023.0000 \t[0.3 seconds]\n",
      "[80] loss: 11495513.0000 \t[0.3 seconds]\n",
      "[90] loss: 11363204.0000 \t[0.3 seconds]\n",
      "[100] loss: 11231338.0000 \t[0.3 seconds]\n",
      "[110] loss: 11099977.0000 \t[0.3 seconds]\n",
      "[120] loss: 10969154.0000 \t[0.3 seconds]\n",
      "[130] loss: 10839162.0000 \t[0.3 seconds]\n",
      "[140] loss: 10709464.0000 \t[0.3 seconds]\n",
      "[150] loss: 10581193.0000 \t[0.3 seconds]\n",
      "[160] loss: 10453686.0000 \t[0.3 seconds]\n",
      "[170] loss: 10326987.0000 \t[0.3 seconds]\n",
      "[180] loss: 10201944.0000 \t[0.3 seconds]\n",
      "[190] loss: 10077730.0000 \t[0.3 seconds]\n",
      "[200] loss: 9954768.0000 \t[0.3 seconds]\n",
      "[210] loss: 9832230.0000 \t[0.3 seconds]\n",
      "[220] loss: 9710400.0000 \t[0.3 seconds]\n",
      "[230] loss: 9589492.0000 \t[0.3 seconds]\n",
      "[240] loss: 9469416.0000 \t[0.3 seconds]\n",
      "[250] loss: 9350776.0000 \t[0.3 seconds]\n",
      "[260] loss: 9233239.0000 \t[0.3 seconds]\n",
      "[270] loss: 9117670.0000 \t[0.4 seconds]\n",
      "[280] loss: 9002632.0000 \t[0.3 seconds]\n",
      "[290] loss: 8887615.0000 \t[0.4 seconds]\n",
      "[300] loss: 8773248.0000 \t[0.3 seconds]\n",
      "[310] loss: 8659943.0000 \t[0.3 seconds]\n",
      "[320] loss: 8547869.0000 \t[0.3 seconds]\n",
      "[330] loss: 8437304.0000 \t[0.3 seconds]\n",
      "[340] loss: 8328279.0000 \t[0.3 seconds]\n",
      "[350] loss: 8220775.0000 \t[0.3 seconds]\n",
      "[360] loss: 8114277.5000 \t[0.3 seconds]\n",
      "[370] loss: 8008890.0000 \t[0.3 seconds]\n",
      "[380] loss: 7904015.0000 \t[0.4 seconds]\n",
      "[390] loss: 7800608.0000 \t[0.3 seconds]\n",
      "[400] loss: 7698943.0000 \t[0.3 seconds]\n",
      "[410] loss: 7598065.5000 \t[0.3 seconds]\n",
      "[420] loss: 7498613.5000 \t[0.3 seconds]\n",
      "[430] loss: 7400280.0000 \t[0.3 seconds]\n",
      "[440] loss: 7302425.0000 \t[0.3 seconds]\n",
      "[450] loss: 7205650.0000 \t[0.3 seconds]\n",
      "[460] loss: 7110658.0000 \t[0.4 seconds]\n",
      "[470] loss: 7016895.0000 \t[0.3 seconds]\n",
      "[480] loss: 6924294.5000 \t[0.3 seconds]\n",
      "[490] loss: 6832744.0000 \t[0.3 seconds]\n",
      "[500] loss: 6742357.5000 \t[0.3 seconds]\n",
      "[510] loss: 6652555.0000 \t[0.3 seconds]\n",
      "[520] loss: 6563891.0000 \t[0.3 seconds]\n",
      "[530] loss: 6477505.0000 \t[0.3 seconds]\n",
      "[540] loss: 6391747.0000 \t[0.3 seconds]\n",
      "[550] loss: 6306559.0000 \t[0.3 seconds]\n",
      "[560] loss: 6222588.0000 \t[0.3 seconds]\n",
      "[570] loss: 6140288.0000 \t[0.3 seconds]\n",
      "[580] loss: 6059375.5000 \t[0.3 seconds]\n",
      "[590] loss: 5979287.5000 \t[0.3 seconds]\n",
      "[600] loss: 5900284.0000 \t[0.3 seconds]\n",
      "[610] loss: 5823299.0000 \t[0.3 seconds]\n",
      "[620] loss: 5746932.5000 \t[0.3 seconds]\n",
      "[630] loss: 5672542.0000 \t[0.3 seconds]\n",
      "[640] loss: 5599349.5000 \t[0.3 seconds]\n",
      "[650] loss: 5526197.0000 \t[0.3 seconds]\n",
      "[660] loss: 5454340.0000 \t[0.3 seconds]\n",
      "[670] loss: 5383868.0000 \t[0.3 seconds]\n",
      "[680] loss: 5314595.5000 \t[0.3 seconds]\n",
      "[690] loss: 5245968.0000 \t[0.3 seconds]\n",
      "[700] loss: 5178535.5000 \t[0.3 seconds]\n",
      "[710] loss: 5111945.0000 \t[0.3 seconds]\n",
      "[720] loss: 5046705.0000 \t[0.3 seconds]\n",
      "[730] loss: 4982039.0000 \t[0.3 seconds]\n",
      "[740] loss: 4918474.0000 \t[0.3 seconds]\n",
      "[750] loss: 4854689.0000 \t[0.3 seconds]\n",
      "[760] loss: 4793461.5000 \t[0.3 seconds]\n",
      "[770] loss: 4732797.0000 \t[0.3 seconds]\n",
      "[780] loss: 4672424.0000 \t[0.3 seconds]\n",
      "[790] loss: 4613684.0000 \t[0.3 seconds]\n",
      "[800] loss: 4555521.5000 \t[0.3 seconds]\n",
      "[810] loss: 4498369.0000 \t[0.3 seconds]\n",
      "[820] loss: 4442799.0000 \t[0.3 seconds]\n",
      "[830] loss: 4387500.5000 \t[0.3 seconds]\n",
      "[840] loss: 4333381.0000 \t[0.4 seconds]\n",
      "[850] loss: 4279631.0000 \t[0.4 seconds]\n",
      "[860] loss: 4227145.5000 \t[0.3 seconds]\n",
      "[870] loss: 4175416.2500 \t[0.3 seconds]\n",
      "[880] loss: 4124675.7500 \t[0.3 seconds]\n",
      "[890] loss: 4074499.7500 \t[0.3 seconds]\n",
      "[900] loss: 4025312.0000 \t[0.3 seconds]\n",
      "[910] loss: 3976987.2500 \t[0.4 seconds]\n",
      "[920] loss: 3929692.0000 \t[0.3 seconds]\n",
      "[930] loss: 3882393.5000 \t[0.4 seconds]\n",
      "[940] loss: 3835821.2500 \t[0.3 seconds]\n",
      "[950] loss: 3789826.0000 \t[0.3 seconds]\n",
      "[960] loss: 3745051.0000 \t[0.3 seconds]\n",
      "[970] loss: 3700922.5000 \t[0.3 seconds]\n",
      "[980] loss: 3657008.0000 \t[0.4 seconds]\n",
      "[990] loss: 3614370.5000 \t[0.3 seconds]\n",
      "[1000] loss: 3572968.0000 \t[0.3 seconds]\n",
      "[1010] loss: 3532836.2500 \t[0.3 seconds]\n",
      "[1020] loss: 3493068.0000 \t[0.3 seconds]\n",
      "[1030] loss: 3453517.5000 \t[0.3 seconds]\n",
      "[1040] loss: 3414136.2500 \t[0.3 seconds]\n",
      "[1050] loss: 3375638.0000 \t[0.3 seconds]\n",
      "[1060] loss: 3337461.0000 \t[0.3 seconds]\n",
      "[1070] loss: 3301120.0000 \t[0.3 seconds]\n",
      "[1080] loss: 3265237.0000 \t[0.3 seconds]\n",
      "[1090] loss: 3230519.2500 \t[0.3 seconds]\n",
      "[1100] loss: 3196082.5000 \t[0.3 seconds]\n",
      "[1110] loss: 3162273.0000 \t[0.3 seconds]\n",
      "[1120] loss: 3128550.7500 \t[0.3 seconds]\n",
      "[1130] loss: 3096024.0000 \t[0.3 seconds]\n",
      "[1140] loss: 3064123.7500 \t[0.3 seconds]\n",
      "[1150] loss: 3031749.5000 \t[0.3 seconds]\n",
      "[1160] loss: 2999475.0000 \t[0.3 seconds]\n",
      "[1170] loss: 2968482.2500 \t[0.4 seconds]\n",
      "[1180] loss: 2937522.5000 \t[0.3 seconds]\n",
      "[1190] loss: 2907311.7500 \t[0.3 seconds]\n",
      "[1200] loss: 2877034.0000 \t[0.3 seconds]\n",
      "[1210] loss: 2847458.0000 \t[0.3 seconds]\n",
      "[1220] loss: 2818236.7500 \t[0.3 seconds]\n",
      "[1230] loss: 2790598.0000 \t[0.3 seconds]\n",
      "[1240] loss: 2763024.7500 \t[0.3 seconds]\n",
      "[1250] loss: 2734657.2500 \t[0.3 seconds]\n",
      "[1260] loss: 2707620.0000 \t[0.3 seconds]\n",
      "[1270] loss: 2681797.0000 \t[0.3 seconds]\n",
      "[1280] loss: 2656540.5000 \t[0.3 seconds]\n",
      "[1290] loss: 2631243.0000 \t[0.3 seconds]\n",
      "[1300] loss: 2606335.0000 \t[0.3 seconds]\n",
      "[1310] loss: 2582788.0000 \t[0.3 seconds]\n",
      "[1320] loss: 2559466.0000 \t[0.3 seconds]\n",
      "[1330] loss: 2537164.2500 \t[0.3 seconds]\n",
      "[1340] loss: 2514297.5000 \t[0.3 seconds]\n",
      "[1350] loss: 2491762.2500 \t[0.3 seconds]\n",
      "[1360] loss: 2468925.5000 \t[0.3 seconds]\n",
      "[1370] loss: 2446492.5000 \t[0.3 seconds]\n",
      "[1380] loss: 2423074.2500 \t[0.3 seconds]\n",
      "[1390] loss: 2399942.7500 \t[0.3 seconds]\n",
      "[1400] loss: 2378769.5000 \t[0.3 seconds]\n",
      "[1410] loss: 2358765.7500 \t[0.3 seconds]\n",
      "[1420] loss: 2338058.5000 \t[0.3 seconds]\n",
      "[1430] loss: 2317364.5000 \t[0.3 seconds]\n",
      "[1440] loss: 2296351.2500 \t[0.4 seconds]\n",
      "[1450] loss: 2276119.0000 \t[0.3 seconds]\n",
      "[1460] loss: 2256647.5000 \t[0.3 seconds]\n",
      "[1470] loss: 2237071.5000 \t[0.3 seconds]\n",
      "[1480] loss: 2217940.2500 \t[0.3 seconds]\n",
      "[1490] loss: 2198606.0000 \t[0.3 seconds]\n",
      "[1500] loss: 2180118.0000 \t[0.3 seconds]\n"
     ]
    }
   ],
   "source": [
    "# run the wake-phase training\n",
    "n_epochs = 1500 if use_cuda else 1\n",
    "\n",
    "star_encoder.eval()\n",
    "estimate_params, map_loss = wake.run_wake(\n",
    "    test_image.to(device),\n",
    "    star_encoder,\n",
    "    init_psf_params,\n",
    "    init_background_params,\n",
    "    n_samples=100,\n",
    "    n_epochs=n_epochs,\n",
    "    lr=0.001,\n",
    "    print_every=10,\n",
    "    run_map=False,\n",
    ")"
   ]
  },
  {
   "cell_type": "code",
   "execution_count": 65,
   "metadata": {},
   "outputs": [
    {
     "name": "stdout",
     "output_type": "stream",
     "text": [
      "tensor([[ -0.5396,   1.0622,   3.1312,   1.1505,  -2.1963, -16.2110],\n",
      "        [ -0.3799,   0.7378,  -0.4502,   3.1473,  -1.2203,  -5.6375]],\n",
      "       device='cuda:0')\n",
      "tensor([[ -0.5396,   5.0622,   3.1312,   1.1505,  -2.1963, -16.2110],\n",
      "        [ -0.3799,   4.7378,  -0.4502,   3.1473,  -1.2203,  -5.6375]],\n",
      "       device='cuda:0')\n",
      "Parameter containing:\n",
      "tensor([[  0.1660,   3.9343,   2.0950,   2.0348,  -3.2571, -17.2433],\n",
      "        [  0.4386,   3.5245,   0.4301,   3.7356,  -2.4005,  -3.9934]],\n",
      "       device='cuda:0', requires_grad=True)\n"
     ]
    }
   ],
   "source": [
    "estimate_psf_params = list(estimate_params.power_law_psf.parameters())[0]\n",
    "print(true_psf_params)\n",
    "print(init_psf_params)\n",
    "print(estimate_psf_params)"
   ]
  },
  {
   "cell_type": "code",
   "execution_count": 66,
   "metadata": {},
   "outputs": [
    {
     "data": {
      "text/plain": [
       "tensor(True, device='cuda:0')"
      ]
     },
     "execution_count": 66,
     "metadata": {},
     "output_type": "execute_result"
    }
   ],
   "source": [
    "estimate_psf = psf_transform.PowerLawPSF(estimate_psf_params).forward().detach()\n",
    "torch.all(estimate_psf >= 0)"
   ]
  },
  {
   "cell_type": "code",
   "execution_count": 67,
   "metadata": {},
   "outputs": [
    {
     "name": "stdout",
     "output_type": "stream",
     "text": [
      "tensor(0.)\n"
     ]
    },
    {
     "data": {
      "text/plain": [
       "<matplotlib.colorbar.Colorbar at 0x7fa43c366990>"
      ]
     },
     "execution_count": 67,
     "metadata": {},
     "output_type": "execute_result"
    },
    {
     "data": {
      "image/png": "[encoded data removed]",
      "text/plain": [
       "<Figure size 432x288 with 2 Axes>"
      ]
     },
     "metadata": {
      "needs_background": "light"
     },
     "output_type": "display_data"
    }
   ],
   "source": [
    "true_psf = psf_transform.PowerLawPSF(true_psf_params).forward().detach()\n",
    "init_psf = psf_transform.PowerLawPSF(init_psf_params).forward().detach()\n",
    "print(true_psf.cpu().min())\n",
    "plt.imshow(true_psf.cpu()[0, 40:60, 40:60])\n",
    "plt.colorbar()"
   ]
  },
  {
   "cell_type": "code",
   "execution_count": 68,
   "metadata": {},
   "outputs": [
    {
     "data": {
      "text/plain": [
       "<matplotlib.colorbar.Colorbar at 0x7fa43c2a5a90>"
      ]
     },
     "execution_count": 68,
     "metadata": {},
     "output_type": "execute_result"
    },
    {
     "data": {
      "image/png": "[encoded data removed]",
      "text/plain": [
       "<Figure size 432x288 with 2 Axes>"
      ]
     },
     "metadata": {
      "needs_background": "light"
     },
     "output_type": "display_data"
    }
   ],
   "source": [
    "plt.imshow((estimate_psf).cpu()[0, 40:60, 40:60])\n",
    "plt.colorbar()"
   ]
  },
  {
   "cell_type": "code",
   "execution_count": 52,
   "metadata": {},
   "outputs": [
    {
     "name": "stdout",
     "output_type": "stream",
     "text": [
      "tensor(1.7630, device='cuda:0')\n",
      "tensor(3.3362, device='cuda:0')\n"
     ]
    },
    {
     "ename": "AssertionError",
     "evalue": "",
     "output_type": "error",
     "traceback": [
      "\u001b[0;31m---------------------------------------------------------------------------\u001b[0m",
      "\u001b[0;31mAssertionError\u001b[0m                            Traceback (most recent call last)",
      "\u001b[0;32m<ipython-input-52-3e5dc85291da>\u001b[0m in \u001b[0;36m<module>\u001b[0;34m\u001b[0m\n\u001b[1;32m      3\u001b[0m \u001b[0mprint\u001b[0m\u001b[0;34m(\u001b[0m\u001b[0mtrained_residual\u001b[0m\u001b[0;34m.\u001b[0m\u001b[0msum\u001b[0m\u001b[0;34m(\u001b[0m\u001b[0;34m)\u001b[0m\u001b[0;34m)\u001b[0m\u001b[0;34m\u001b[0m\u001b[0;34m\u001b[0m\u001b[0m\n\u001b[1;32m      4\u001b[0m \u001b[0mprint\u001b[0m\u001b[0;34m(\u001b[0m\u001b[0minit_residual\u001b[0m\u001b[0;34m.\u001b[0m\u001b[0msum\u001b[0m\u001b[0;34m(\u001b[0m\u001b[0;34m)\u001b[0m\u001b[0;34m)\u001b[0m\u001b[0;34m\u001b[0m\u001b[0;34m\u001b[0m\u001b[0m\n\u001b[0;32m----> 5\u001b[0;31m \u001b[0;32massert\u001b[0m \u001b[0mtrained_residual\u001b[0m\u001b[0;34m.\u001b[0m\u001b[0msum\u001b[0m\u001b[0;34m(\u001b[0m\u001b[0;34m)\u001b[0m \u001b[0;34m<=\u001b[0m \u001b[0minit_residual\u001b[0m\u001b[0;34m.\u001b[0m\u001b[0msum\u001b[0m\u001b[0;34m(\u001b[0m\u001b[0;34m)\u001b[0m \u001b[0;34m*\u001b[0m \u001b[0;36m0.10\u001b[0m\u001b[0;34m\u001b[0m\u001b[0;34m\u001b[0m\u001b[0m\n\u001b[0m",
      "\u001b[0;31mAssertionError\u001b[0m: "
     ]
    }
   ],
   "source": [
    "init_residual = (true_psf - init_psf).abs().to(device)\n",
    "trained_residual = (true_psf - estimate_psf).abs().to(device)\n",
    "print(trained_residual.sum())\n",
    "print(init_residual.sum())\n",
    "assert trained_residual.sum() <= init_residual.sum() * 0.10"
   ]
  }
 ],
 "metadata": {
  "kernelspec": {
   "display_name": "Python 3",
   "language": "python",
   "name": "python3"
  },
  "language_info": {
   "codemirror_mode": {
    "name": "ipython",
    "version": 3
   },
   "file_extension": ".py",
   "mimetype": "text/x-python",
   "name": "python",
   "nbconvert_exporter": "python",
   "pygments_lexer": "ipython3",
   "version": "3.6.5"
  }
 },
 "nbformat": 4,
 "nbformat_minor": 4
}

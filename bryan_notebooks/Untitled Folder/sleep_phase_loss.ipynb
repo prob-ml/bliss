{
 "cells": [
  {
   "cell_type": "code",
   "execution_count": 1,
   "metadata": {},
   "outputs": [],
   "source": [
    "import numpy as np"
   ]
  },
  {
   "cell_type": "code",
   "execution_count": 2,
   "metadata": {},
   "outputs": [],
   "source": [
    "import torch\n",
    "import pytest\n",
    "\n",
    "from celeste import device, use_cuda\n",
    "from celeste import train\n",
    "from celeste.datasets import simulated_datasets\n",
    "from celeste.models import sourcenet"
   ]
  },
  {
   "cell_type": "code",
   "execution_count": 3,
   "metadata": {},
   "outputs": [],
   "source": [
    "# data parameters\n",
    "n_bands = 2\n",
    "slen = 50\n",
    "n_galaxy_params = 8\n",
    "\n",
    "ptile_slen = 8\n",
    "\n",
    "max_detections = 4"
   ]
  },
  {
   "cell_type": "code",
   "execution_count": null,
   "metadata": {},
   "outputs": [],
   "source": []
  },
  {
   "cell_type": "markdown",
   "metadata": {},
   "source": [
    "# Mock true parameters"
   ]
  },
  {
   "cell_type": "code",
   "execution_count": 4,
   "metadata": {},
   "outputs": [],
   "source": [
    "# number of padded tiles\n",
    "n_ptiles = 100"
   ]
  },
  {
   "cell_type": "code",
   "execution_count": 5,
   "metadata": {},
   "outputs": [],
   "source": [
    "# simulate true number of sources. Just a vector of length n_ptiles (i.e. number of ptiles)\n",
    "true_n_sources = torch.from_numpy(np.random.choice(max_detections + 1, n_ptiles)) \n",
    "\n",
    "# boolean array of on/off sources\n",
    "true_is_on_array = simulated_datasets.get_is_on_from_n_sources(true_n_sources, max_detections)"
   ]
  },
  {
   "cell_type": "code",
   "execution_count": 6,
   "metadata": {},
   "outputs": [],
   "source": [
    "# true paramters. \n",
    "# remember that off sources should be filled with zeros, hence the multiplication by true_is_on_array\n",
    "\n",
    "# locations are in 0-1 \n",
    "true_locs = torch.rand(n_ptiles, max_detections, 2) * true_is_on_array.unsqueeze(2)\n",
    "\n",
    "# log fluxes are reals and galaxy parameters are reals\n",
    "true_log_fluxes = torch.randn(n_ptiles, max_detections, n_bands) * true_is_on_array.unsqueeze(2)\n",
    "true_galaxy_params = torch.randn(n_ptiles, max_detections, n_galaxy_params) * true_is_on_array.unsqueeze(2)"
   ]
  },
  {
   "cell_type": "code",
   "execution_count": 7,
   "metadata": {},
   "outputs": [],
   "source": [
    "# boolean indicating whether source is galaxy\n",
    "true_galaxy_bool = (torch.rand(n_ptiles, max_detections) > 0.5).float()"
   ]
  },
  {
   "cell_type": "code",
   "execution_count": null,
   "metadata": {},
   "outputs": [],
   "source": []
  },
  {
   "cell_type": "markdown",
   "metadata": {},
   "source": [
    "# Mock estimated sources"
   ]
  },
  {
   "cell_type": "code",
   "execution_count": 8,
   "metadata": {},
   "outputs": [],
   "source": [
    "# multiply by true_is_on_array since off-stars should return zeros\n",
    "loc_mean = torch.rand(true_locs.shape) * true_is_on_array.unsqueeze(2) \n",
    "loc_logvar = torch.randn(true_locs.shape) * true_is_on_array.unsqueeze(2)\n",
    "\n",
    "log_flux_mean = torch.randn(true_log_fluxes.shape) * true_is_on_array.unsqueeze(2)\n",
    "log_flux_logvar = torch.randn(true_log_fluxes.shape) * true_is_on_array.unsqueeze(2)\n",
    "\n",
    "galaxy_params_mean = torch.randn(true_galaxy_params.shape) * true_is_on_array.unsqueeze(2)\n",
    "galaxy_params_logvar = torch.randn(true_galaxy_params.shape) * true_is_on_array.unsqueeze(2)\n",
    "\n",
    "# for each detection, log-prob that it is a galaxy\n",
    "prob_galaxy = torch.rand(n_ptiles, max_detections)\n",
    "\n",
    "# log probability on the number of sources\n",
    "n_source_log_probs = torch.log(torch.rand(n_ptiles, max_detections + 1))"
   ]
  },
  {
   "cell_type": "code",
   "execution_count": 9,
   "metadata": {},
   "outputs": [],
   "source": [
    "import celeste.sleep as sleep"
   ]
  },
  {
   "cell_type": "code",
   "execution_count": 10,
   "metadata": {},
   "outputs": [],
   "source": [
    "locs_log_probs_all = sleep._get_params_logprob_all_combs(true_locs, loc_mean, loc_logvar)\n",
    "\n",
    "star_params_log_probs_all = sleep._get_params_logprob_all_combs(\n",
    "        true_log_fluxes, log_flux_mean, log_flux_logvar\n",
    "    )\n",
    "\n",
    "galaxy_params_log_probs_all = sleep._get_params_logprob_all_combs(\n",
    "    true_galaxy_params, galaxy_params_mean, galaxy_params_logvar\n",
    ")"
   ]
  },
  {
   "cell_type": "code",
   "execution_count": 11,
   "metadata": {},
   "outputs": [],
   "source": [
    "locs_loss_all_perm, star_params_loss_all_perm, \\\n",
    "    galaxy_params_loss_all_perm, galaxy_bool_loss_all_perm = sleep._get_log_probs_all_perms(\n",
    "            locs_log_probs_all,\n",
    "            star_params_log_probs_all,\n",
    "            galaxy_params_log_probs_all,\n",
    "            prob_galaxy,\n",
    "            true_is_on_array,\n",
    "            true_galaxy_bool,\n",
    "        )"
   ]
  },
  {
   "cell_type": "code",
   "execution_count": 12,
   "metadata": {},
   "outputs": [
    {
     "data": {
      "text/plain": [
       "torch.Size([100, 4])"
      ]
     },
     "execution_count": 12,
     "metadata": {},
     "output_type": "execute_result"
    }
   ],
   "source": [
    "prob_galaxy.shape"
   ]
  },
  {
   "cell_type": "code",
   "execution_count": 13,
   "metadata": {},
   "outputs": [
    {
     "data": {
      "text/plain": [
       "torch.Size([100, 4])"
      ]
     },
     "execution_count": 13,
     "metadata": {},
     "output_type": "execute_result"
    }
   ],
   "source": [
    "true_galaxy_bool.shape"
   ]
  },
  {
   "cell_type": "code",
   "execution_count": 14,
   "metadata": {},
   "outputs": [
    {
     "data": {
      "text/plain": [
       "torch.Size([100, 24])"
      ]
     },
     "execution_count": 14,
     "metadata": {},
     "output_type": "execute_result"
    }
   ],
   "source": [
    "galaxy_bool_loss_all_perm.shape"
   ]
  },
  {
   "cell_type": "code",
   "execution_count": 15,
   "metadata": {},
   "outputs": [
    {
     "data": {
      "text/plain": [
       "torch.Size([100, 24])"
      ]
     },
     "execution_count": 15,
     "metadata": {},
     "output_type": "execute_result"
    }
   ],
   "source": [
    "locs_loss_all_perm.shape"
   ]
  },
  {
   "cell_type": "code",
   "execution_count": 16,
   "metadata": {},
   "outputs": [
    {
     "data": {
      "text/plain": [
       "torch.Size([100, 24])"
      ]
     },
     "execution_count": 16,
     "metadata": {},
     "output_type": "execute_result"
    }
   ],
   "source": [
    "star_params_loss_all_perm.shape"
   ]
  },
  {
   "cell_type": "code",
   "execution_count": null,
   "metadata": {},
   "outputs": [],
   "source": []
  },
  {
   "cell_type": "code",
   "execution_count": 17,
   "metadata": {
    "scrolled": true
   },
   "outputs": [
    {
     "data": {
      "text/plain": [
       "(tensor(12.3114),\n",
       " tensor([5.6985, 2.3032, 0.8383, 0.0712, 0.7623, 1.5677, 0.5747, 0.2081, 0.9482,\n",
       "         0.6053, 2.5197, 1.8836, 1.6294, 0.4612, 0.8105, 0.9680, 0.1845, 1.2788,\n",
       "         1.7605, 0.1172, 0.1371, 0.2990, 0.4544, 1.4849, 0.0694, 0.1654, 0.6528,\n",
       "         0.2866, 0.9981, 0.1647, 0.1124, 0.3828, 0.6232, 0.0159, 0.6374, 1.9130,\n",
       "         0.4327, 0.0778, 1.0626, 0.9690, 0.1888, 0.0383, 0.8296, 0.1526, 0.5219,\n",
       "         0.6841, 1.4540, 0.2348, 1.2847, 0.3865, 0.8628, 0.1956, 1.4547, 1.3304,\n",
       "         0.8966, 0.1362, 1.7701, 0.0438, 0.1197, 1.0410, 2.8199, 1.0190, 2.4812,\n",
       "         0.2110, 0.3077, 1.5948, 1.8083, 1.0171, 0.1898, 1.2035, 3.3004, 1.6085,\n",
       "         0.8116, 0.1355, 0.4099, 1.2152, 0.0538, 0.0144, 0.0116, 2.4922, 0.8345,\n",
       "         0.4131, 0.8482, 0.0702, 2.5615, 0.6038, 0.1136, 0.9831, 1.2291, 0.4431,\n",
       "         2.0209, 0.1337, 0.6964, 0.4840, 0.2178, 1.4894, 0.2808, 1.3756, 0.7579,\n",
       "         1.2536]),\n",
       " tensor([ -5.8630, -17.7511, -24.3982,  -4.7383,  -3.0827, -17.0694, -18.1822,\n",
       "          -6.0694,  -2.1332,   0.0000,  -4.6105,  -4.4447,  -8.6940,  -2.4860,\n",
       "           0.0000,   0.0000,  -1.1780,  -3.3790,   0.0000, -16.1190,   0.0000,\n",
       "         -16.8339,   0.0000,  -7.8061,  -3.4516,  -2.2416,  -6.4552,  -7.0419,\n",
       "          -7.9706,  -1.9645, -19.6829, -17.8568,   0.0000,   0.0000,  -3.4730,\n",
       "          -9.5779,  -2.2311,  -3.0523,  -2.2808,   0.0000,   0.0000,  -5.4634,\n",
       "          -3.4229,   0.0000, -10.0982,   0.0000,  -4.0037,   0.0000,   0.0000,\n",
       "           0.0000,  -4.0133,  -9.4429,  -7.1935,  -4.3409, -10.7319,  -2.4140,\n",
       "          -8.2190,   0.0000, -35.2569,   0.0000,   0.0000,   0.0000,  -4.8103,\n",
       "           0.0000,  -3.7484, -15.3144,   0.0000,  -2.4370,   0.0000,   0.0000,\n",
       "          -7.2752, -12.4702,   0.0000,  -9.7605,  -4.3572,   0.0000,  -2.6761,\n",
       "           0.0000,  -4.1004,  -2.4617,   0.0000,   0.0000, -10.7035,   0.0000,\n",
       "           0.0000,  -2.0305,  -6.2255,  -9.0974,  -6.4177,  -2.8242, -11.7995,\n",
       "          -9.0545, -38.5897,  -7.1523, -10.8075,  -6.8170,   0.0000,   0.0000,\n",
       "           0.0000,  -4.2151]),\n",
       " tensor([ 5.7844,  3.2639,  7.8379,  4.4137,  3.9302,  8.1991,  3.8575,  5.1045,\n",
       "          4.3295,  3.6758,  1.5074,  6.0206,  4.1567,  6.1723,  1.8379,  3.6758,\n",
       "          3.0914,  4.2477,  3.6758,  4.4101,  1.8379,  3.9472, -0.0000,  8.2526,\n",
       "          6.1408,  4.8101,  3.8805,  2.5223,  4.2336,  5.4767,  5.4623,  6.7267,\n",
       "         -0.0000,  3.6758,  3.5867,  5.7658,  3.7372,  4.4538,  3.7782,  1.8379,\n",
       "          1.8379, 10.0607,  3.5592, -0.0000,  3.8085,  3.6758,  5.9542,  5.5137,\n",
       "          3.6758,  5.5137,  2.7385,  5.1800,  3.1970,  1.7244,  5.3131,  2.0147,\n",
       "          5.3423,  3.6758,  3.7980,  5.5137, -0.0000,  1.8379,  6.8903,  3.6758,\n",
       "          5.9448,  6.8843,  5.5137,  5.4157,  5.5137,  1.8379,  4.8008,  3.8982,\n",
       "          1.8379,  5.2352,  3.1619,  3.6758,  4.8088,  3.6758,  2.2574,  3.7547,\n",
       "          1.8379, -0.0000,  8.3952,  7.3515,  3.6758,  4.0978,  3.7659,  3.7828,\n",
       "          3.7833,  2.2630,  5.2105,  3.7414,  8.7410,  4.1890,  5.7327,  3.8799,\n",
       "          1.8379,  1.8379, -0.0000,  4.4856]),\n",
       " tensor([ 5.8630, 17.7511, 24.3982,  4.7383,  3.0827, 17.0694, 18.1822,  6.0694,\n",
       "          2.1332, -0.0000,  4.6105,  4.4447,  8.6940,  2.4860, -0.0000, -0.0000,\n",
       "          1.1780,  3.3790, -0.0000, 16.1190, -0.0000, 16.8339, -0.0000,  7.8061,\n",
       "          3.4516,  2.2416,  6.4552,  7.0419,  7.9706,  1.9645, 19.6829, 17.8568,\n",
       "         -0.0000, -0.0000,  3.4730,  9.5779,  2.2311,  3.0523,  2.2808, -0.0000,\n",
       "         -0.0000,  5.4634,  3.4229, -0.0000, 10.0982, -0.0000,  4.0037, -0.0000,\n",
       "         -0.0000, -0.0000,  4.0133,  9.4429,  7.1935,  4.3409, 10.7319,  2.4140,\n",
       "          8.2190, -0.0000, 35.2569, -0.0000, -0.0000, -0.0000,  4.8103, -0.0000,\n",
       "          3.7484, 15.3144, -0.0000,  2.4370, -0.0000, -0.0000,  7.2752, 12.4702,\n",
       "         -0.0000,  9.7605,  4.3572, -0.0000,  2.6761, -0.0000,  4.1004,  2.4617,\n",
       "         -0.0000, -0.0000, 10.7035, -0.0000, -0.0000,  2.0305,  6.2255,  9.0974,\n",
       "          6.4177,  2.8242, 11.7995,  9.0545, 38.5897,  7.1523, 10.8075,  6.8170,\n",
       "         -0.0000, -0.0000, -0.0000,  4.2151]),\n",
       " tensor([11.0382, -0.0000,  7.3515, -0.0000,  7.3515, -0.0000, -0.0000,  7.3515,\n",
       "          7.3515, 14.7031, -0.0000, 14.7031,  7.3515, 14.7031,  7.3515, 14.7031,\n",
       "         -0.0000,  7.3515, 14.7031, -0.0000,  7.3515, 10.7854, -0.0000, 14.7031,\n",
       "         14.7031,  7.3515,  7.3515, -0.0000,  7.3515, 14.7031, -0.0000, -0.0000,\n",
       "         -0.0000, 14.7031,  7.3515, -0.0000,  7.3515,  7.3515,  7.3515,  7.3515,\n",
       "          7.3515, 14.7031,  7.3515, -0.0000, -0.0000, 14.7031, 14.7031, 22.0546,\n",
       "         14.7031, 22.0546, -0.0000, -0.0000, -0.0000, -0.0000, -0.0000, -0.0000,\n",
       "         -0.0000, 14.7031, -0.0000, 22.0546, -0.0000,  7.3515, 14.7031, 14.7031,\n",
       "         14.7031,  7.3515, 22.0546, 14.7031, 22.0546,  7.3515, -0.0000,  7.3515,\n",
       "          7.3515, 10.9982, -0.0000, 14.7031, 14.7031, 14.7031, -0.0000,  7.3515,\n",
       "          7.3515, -0.0000, 14.7031, 29.4062, 14.7031,  7.3515, -0.0000, -0.0000,\n",
       "         -0.0000, -0.0000, -0.0000, -0.0000, -0.0000, -0.0000, 14.7031, -0.0000,\n",
       "          7.3515,  7.3515, -0.0000, -0.0000]),\n",
       " tensor([ 5,  1,  0,  2, 14, 19, 23,  6, 21,  7, 21,  1,  2,  5,  5,  7, 21,  5,\n",
       "         16, 21, 14, 16, 23,  1,  1, 14,  2,  1,  6,  2,  2,  1, 23,  7,  6,  1,\n",
       "          6,  5,  5, 14, 14,  7,  6, 23, 21, 23,  1, 21,  7,  5,  5,  1,  7, 21,\n",
       "         23, 21, 16,  7,  1, 21, 23, 21,  2,  7,  2,  0,  5,  1, 21, 14,  0,  1,\n",
       "         14, 21,  7,  7,  5, 23,  5, 14, 21, 23,  7, 23, 16,  2,  1,  1,  7, 21,\n",
       "         11,  2, 10, 14,  1, 16, 21, 14, 23,  7]))"
      ]
     },
     "execution_count": 17,
     "metadata": {},
     "output_type": "execute_result"
    }
   ],
   "source": [
    "sleep._get_params_loss(\n",
    "    loc_mean,\n",
    "    loc_logvar,\n",
    "    log_flux_mean,\n",
    "    log_flux_logvar,\n",
    "    galaxy_params_mean,\n",
    "    galaxy_params_logvar,\n",
    "    prob_galaxy,\n",
    "    n_source_log_probs,\n",
    "    true_locs,\n",
    "    true_log_fluxes,\n",
    "    true_galaxy_params,\n",
    "    true_is_on_array,\n",
    "    true_galaxy_bool,\n",
    ")"
   ]
  },
  {
   "cell_type": "code",
   "execution_count": null,
   "metadata": {},
   "outputs": [],
   "source": []
  },
  {
   "cell_type": "code",
   "execution_count": 18,
   "metadata": {},
   "outputs": [],
   "source": [
    "from torch.nn import functional"
   ]
  },
  {
   "cell_type": "code",
   "execution_count": 19,
   "metadata": {},
   "outputs": [],
   "source": [
    "true_n_sources = true_is_on_array.sum(1)\n",
    "one_hot_encoding = functional.one_hot(true_n_sources, n_source_log_probs.shape[1])"
   ]
  },
  {
   "cell_type": "code",
   "execution_count": 20,
   "metadata": {},
   "outputs": [
    {
     "data": {
      "text/plain": [
       "tensor([3, 4, 3, 4, 3, 4, 4, 2, 2, 0, 3, 2, 1, 1, 0, 0, 2, 1, 1, 3, 1, 1, 4, 2,\n",
       "        2, 3, 2, 4, 3, 1, 3, 4, 3, 0, 3, 4, 3, 2, 1, 1, 0, 2, 3, 4, 3, 0, 1, 0,\n",
       "        0, 0, 3, 4, 4, 4, 4, 3, 4, 2, 2, 0, 4, 0, 1, 0, 1, 3, 1, 2, 0, 1, 4, 1,\n",
       "        1, 2, 3, 0, 1, 0, 3, 2, 2, 2, 2, 0, 1, 3, 4, 3, 4, 4, 4, 4, 4, 4, 2, 4,\n",
       "        0, 2, 2, 2])"
      ]
     },
     "execution_count": 20,
     "metadata": {},
     "output_type": "execute_result"
    }
   ],
   "source": [
    "true_n_sources"
   ]
  },
  {
   "cell_type": "code",
   "execution_count": null,
   "metadata": {},
   "outputs": [],
   "source": []
  }
 ],
 "metadata": {
  "kernelspec": {
   "display_name": "celeste_py",
   "language": "python",
   "name": "celeste_py"
  },
  "language_info": {
   "codemirror_mode": {
    "name": "ipython",
    "version": 3
   },
   "file_extension": ".py",
   "mimetype": "text/x-python",
   "name": "python",
   "nbconvert_exporter": "python",
   "pygments_lexer": "ipython3",
   "version": "3.7.7"
  }
 },
 "nbformat": 4,
 "nbformat_minor": 2
}

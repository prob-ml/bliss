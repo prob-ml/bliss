{
 "cells": [
  {
   "cell_type": "code",
   "execution_count": 1,
   "metadata": {},
   "outputs": [
    {
     "name": "stdout",
     "output_type": "stream",
     "text": [
      "/home/runingli/astronomy/celeste\n"
     ]
    }
   ],
   "source": [
    "import matplotlib.pyplot as plt\n",
    "import os\n",
    "import sys\n",
    "path = os.path.abspath('../')  # points to celeste\n",
    "# if path not in sys.path:\n",
    "#     sys.path.insert(0, path)\n",
    "print(path)\n",
    "\n",
    "import numpy as np\n",
    "import pytest\n",
    "import torch\n",
    "\n",
    "from celeste import device, use_cuda\n",
    "from celeste import psf_transform\n",
    "from celeste import train\n",
    "from celeste import wake\n",
    "from celeste.datasets import simulated_datasets\n",
    "from celeste.models import sourcenet\n",
    "from celeste.datasets.simulated_datasets import get_fitted_powerlaw_psf\n",
    "from celeste.datasets.galaxy_datasets import DecoderSamples"
   ]
  },
  {
   "cell_type": "code",
   "execution_count": 2,
   "metadata": {},
   "outputs": [
    {
     "data": {
      "text/plain": [
       "<torch._C.Generator at 0x7f4a2dcd81b0>"
      ]
     },
     "execution_count": 2,
     "metadata": {},
     "output_type": "execute_result"
    }
   ],
   "source": [
    "torch.manual_seed(60)"
   ]
  },
  {
   "cell_type": "code",
   "execution_count": 3,
   "metadata": {},
   "outputs": [
    {
     "ename": "FileNotFoundError",
     "evalue": "[Errno 2] No such file or directory: '/home/runingli/astronomy/celeste/data/3star_test_params'",
     "output_type": "error",
     "traceback": [
      "\u001b[0;31m---------------------------------------------------------------------------\u001b[0m",
      "\u001b[0;31mFileNotFoundError\u001b[0m                         Traceback (most recent call last)",
      "\u001b[0;32m<ipython-input-3-25ff8f308c60>\u001b[0m in \u001b[0;36m<module>\u001b[0;34m\u001b[0m\n\u001b[0;32m----> 1\u001b[0;31m \u001b[0mtest_star\u001b[0m \u001b[0;34m=\u001b[0m \u001b[0mtorch\u001b[0m\u001b[0;34m.\u001b[0m\u001b[0mload\u001b[0m\u001b[0;34m(\u001b[0m\u001b[0mos\u001b[0m\u001b[0;34m.\u001b[0m\u001b[0mpath\u001b[0m\u001b[0;34m.\u001b[0m\u001b[0mabspath\u001b[0m\u001b[0;34m(\u001b[0m\u001b[0;34m\"./..\"\u001b[0m\u001b[0;34m)\u001b[0m\u001b[0;34m+\u001b[0m\u001b[0;34m\"/data/3star_test_params\"\u001b[0m\u001b[0;34m)\u001b[0m\u001b[0;34m\u001b[0m\u001b[0;34m\u001b[0m\u001b[0m\n\u001b[0m\u001b[1;32m      2\u001b[0m \u001b[0mtest_image\u001b[0m \u001b[0;34m=\u001b[0m \u001b[0mtest_star\u001b[0m\u001b[0;34m[\u001b[0m\u001b[0;34m\"images\"\u001b[0m\u001b[0;34m]\u001b[0m\u001b[0;34m\u001b[0m\u001b[0;34m\u001b[0m\u001b[0m\n",
      "\u001b[0;32m~/anaconda3/envs/celeste_py/lib/python3.7/site-packages/torch/serialization.py\u001b[0m in \u001b[0;36mload\u001b[0;34m(f, map_location, pickle_module, **pickle_load_args)\u001b[0m\n\u001b[1;32m    582\u001b[0m         \u001b[0mpickle_load_args\u001b[0m\u001b[0;34m[\u001b[0m\u001b[0;34m'encoding'\u001b[0m\u001b[0;34m]\u001b[0m \u001b[0;34m=\u001b[0m \u001b[0;34m'utf-8'\u001b[0m\u001b[0;34m\u001b[0m\u001b[0;34m\u001b[0m\u001b[0m\n\u001b[1;32m    583\u001b[0m \u001b[0;34m\u001b[0m\u001b[0m\n\u001b[0;32m--> 584\u001b[0;31m     \u001b[0;32mwith\u001b[0m \u001b[0m_open_file_like\u001b[0m\u001b[0;34m(\u001b[0m\u001b[0mf\u001b[0m\u001b[0;34m,\u001b[0m \u001b[0;34m'rb'\u001b[0m\u001b[0;34m)\u001b[0m \u001b[0;32mas\u001b[0m \u001b[0mopened_file\u001b[0m\u001b[0;34m:\u001b[0m\u001b[0;34m\u001b[0m\u001b[0;34m\u001b[0m\u001b[0m\n\u001b[0m\u001b[1;32m    585\u001b[0m         \u001b[0;32mif\u001b[0m \u001b[0m_is_zipfile\u001b[0m\u001b[0;34m(\u001b[0m\u001b[0mopened_file\u001b[0m\u001b[0;34m)\u001b[0m\u001b[0;34m:\u001b[0m\u001b[0;34m\u001b[0m\u001b[0;34m\u001b[0m\u001b[0m\n\u001b[1;32m    586\u001b[0m             \u001b[0;32mwith\u001b[0m \u001b[0m_open_zipfile_reader\u001b[0m\u001b[0;34m(\u001b[0m\u001b[0mf\u001b[0m\u001b[0;34m)\u001b[0m \u001b[0;32mas\u001b[0m \u001b[0mopened_zipfile\u001b[0m\u001b[0;34m:\u001b[0m\u001b[0;34m\u001b[0m\u001b[0;34m\u001b[0m\u001b[0m\n",
      "\u001b[0;32m~/anaconda3/envs/celeste_py/lib/python3.7/site-packages/torch/serialization.py\u001b[0m in \u001b[0;36m_open_file_like\u001b[0;34m(name_or_buffer, mode)\u001b[0m\n\u001b[1;32m    232\u001b[0m \u001b[0;32mdef\u001b[0m \u001b[0m_open_file_like\u001b[0m\u001b[0;34m(\u001b[0m\u001b[0mname_or_buffer\u001b[0m\u001b[0;34m,\u001b[0m \u001b[0mmode\u001b[0m\u001b[0;34m)\u001b[0m\u001b[0;34m:\u001b[0m\u001b[0;34m\u001b[0m\u001b[0;34m\u001b[0m\u001b[0m\n\u001b[1;32m    233\u001b[0m     \u001b[0;32mif\u001b[0m \u001b[0m_is_path\u001b[0m\u001b[0;34m(\u001b[0m\u001b[0mname_or_buffer\u001b[0m\u001b[0;34m)\u001b[0m\u001b[0;34m:\u001b[0m\u001b[0;34m\u001b[0m\u001b[0;34m\u001b[0m\u001b[0m\n\u001b[0;32m--> 234\u001b[0;31m         \u001b[0;32mreturn\u001b[0m \u001b[0m_open_file\u001b[0m\u001b[0;34m(\u001b[0m\u001b[0mname_or_buffer\u001b[0m\u001b[0;34m,\u001b[0m \u001b[0mmode\u001b[0m\u001b[0;34m)\u001b[0m\u001b[0;34m\u001b[0m\u001b[0;34m\u001b[0m\u001b[0m\n\u001b[0m\u001b[1;32m    235\u001b[0m     \u001b[0;32melse\u001b[0m\u001b[0;34m:\u001b[0m\u001b[0;34m\u001b[0m\u001b[0;34m\u001b[0m\u001b[0m\n\u001b[1;32m    236\u001b[0m         \u001b[0;32mif\u001b[0m \u001b[0;34m'w'\u001b[0m \u001b[0;32min\u001b[0m \u001b[0mmode\u001b[0m\u001b[0;34m:\u001b[0m\u001b[0;34m\u001b[0m\u001b[0;34m\u001b[0m\u001b[0m\n",
      "\u001b[0;32m~/anaconda3/envs/celeste_py/lib/python3.7/site-packages/torch/serialization.py\u001b[0m in \u001b[0;36m__init__\u001b[0;34m(self, name, mode)\u001b[0m\n\u001b[1;32m    213\u001b[0m \u001b[0;32mclass\u001b[0m \u001b[0m_open_file\u001b[0m\u001b[0;34m(\u001b[0m\u001b[0m_opener\u001b[0m\u001b[0;34m)\u001b[0m\u001b[0;34m:\u001b[0m\u001b[0;34m\u001b[0m\u001b[0;34m\u001b[0m\u001b[0m\n\u001b[1;32m    214\u001b[0m     \u001b[0;32mdef\u001b[0m \u001b[0m__init__\u001b[0m\u001b[0;34m(\u001b[0m\u001b[0mself\u001b[0m\u001b[0;34m,\u001b[0m \u001b[0mname\u001b[0m\u001b[0;34m,\u001b[0m \u001b[0mmode\u001b[0m\u001b[0;34m)\u001b[0m\u001b[0;34m:\u001b[0m\u001b[0;34m\u001b[0m\u001b[0;34m\u001b[0m\u001b[0m\n\u001b[0;32m--> 215\u001b[0;31m         \u001b[0msuper\u001b[0m\u001b[0;34m(\u001b[0m\u001b[0m_open_file\u001b[0m\u001b[0;34m,\u001b[0m \u001b[0mself\u001b[0m\u001b[0;34m)\u001b[0m\u001b[0;34m.\u001b[0m\u001b[0m__init__\u001b[0m\u001b[0;34m(\u001b[0m\u001b[0mopen\u001b[0m\u001b[0;34m(\u001b[0m\u001b[0mname\u001b[0m\u001b[0;34m,\u001b[0m \u001b[0mmode\u001b[0m\u001b[0;34m)\u001b[0m\u001b[0;34m)\u001b[0m\u001b[0;34m\u001b[0m\u001b[0;34m\u001b[0m\u001b[0m\n\u001b[0m\u001b[1;32m    216\u001b[0m \u001b[0;34m\u001b[0m\u001b[0m\n\u001b[1;32m    217\u001b[0m     \u001b[0;32mdef\u001b[0m \u001b[0m__exit__\u001b[0m\u001b[0;34m(\u001b[0m\u001b[0mself\u001b[0m\u001b[0;34m,\u001b[0m \u001b[0;34m*\u001b[0m\u001b[0margs\u001b[0m\u001b[0;34m)\u001b[0m\u001b[0;34m:\u001b[0m\u001b[0;34m\u001b[0m\u001b[0;34m\u001b[0m\u001b[0m\n",
      "\u001b[0;31mFileNotFoundError\u001b[0m: [Errno 2] No such file or directory: '/home/runingli/astronomy/celeste/data/3star_test_params'"
     ]
    }
   ],
   "source": [
    "test_star = torch.load(os.path.abspath(\"./..\")+\"/data/3star_test_params\")\n",
    "test_image = test_star[\"images\"]"
   ]
  },
  {
   "cell_type": "code",
   "execution_count": null,
   "metadata": {},
   "outputs": [],
   "source": [
    "plt.imshow(test_image[0,0])\n",
    "true_locs = test_star[\"locs\"]\n",
    "locs_x = true_locs[0][:,0].cpu().numpy() * (29)\n",
    "locs_y = true_locs[0][:,1].cpu().numpy() * (29)\n",
    "plt.scatter(locs_y, locs_x, marker='x', color='red')"
   ]
  },
  {
   "cell_type": "code",
   "execution_count": 4,
   "metadata": {},
   "outputs": [],
   "source": [
    "perturb_init_psf = True"
   ]
  },
  {
   "cell_type": "code",
   "execution_count": 6,
   "metadata": {},
   "outputs": [
    {
     "name": "stdout",
     "output_type": "stream",
     "text": [
      "tensor([[ -0.5396,   1.0622,   3.1312,   1.1505,  -2.1963, -16.2110],\n",
      "        [ -0.3799,   0.7378,  -0.4502,   3.1473,  -1.2203,  -5.6375]],\n",
      "       device='cuda:0')\n",
      "tensor([[  0.4604,   2.0622,   3.1312,   1.1505,  -2.1963, -16.2110],\n",
      "        [  0.6201,   1.7378,  -0.4502,   3.1473,  -1.2203,  -5.6375]],\n",
      "       device='cuda:0')\n"
     ]
    }
   ],
   "source": [
    "# create training dataset\n",
    "n_bands = 2\n",
    "max_stars = 20\n",
    "mean_stars = 10\n",
    "min_stars = 5\n",
    "f_min = 1e3\n",
    "slen = 50\n",
    "\n",
    "# set background\n",
    "background = torch.zeros(n_bands, slen, slen, device=device)\n",
    "background[0] = 686.0\n",
    "background[1] = 1123.0\n",
    "\n",
    "## initialize psf params, just add 4 to each sigmas\n",
    "psf_file = path + \"/data/fitted_powerlaw_psf_params.npy\"\n",
    "true_psf_params = torch.from_numpy(np.load(psf_file)).to(device)\n",
    "print(true_psf_params)\n",
    "true_psf = get_fitted_powerlaw_psf(psf_file)\n",
    "\n",
    "\n",
    "init_psf_params = true_psf_params.clone()\n",
    "if perturb_init_psf: \n",
    "    init_psf_params[0, 0] += torch.tensor(1.0).to(device)\n",
    "    init_psf_params[1, 0] += torch.tensor(1.0).to(device)\n",
    "    \n",
    "    init_psf_params[0, 1] += torch.tensor(1.0).to(device)\n",
    "    init_psf_params[1, 1] += torch.tensor(1.0).to(device)\n",
    "init_psf = psf_transform.PowerLawPSF(init_psf_params).forward().detach()\n",
    "print(init_psf_params)\n",
    "\n",
    "galaxy_slen = 51\n",
    "galaxy_decoder_file = path + \"/data/decoder_params_100_single_band_i.dat\"\n",
    "single_band_galaxy_decoder = DecoderSamples(galaxy_slen, galaxy_decoder_file, n_bands=1)\n",
    "\n",
    "# simulate dataset\n",
    "n_images = 128*2\n",
    "simulator_args = (\n",
    "    single_band_galaxy_decoder,\n",
    "    true_psf,\n",
    "    background,\n",
    ")\n",
    "\n",
    "simulator_kwargs = dict(\n",
    "    slen=slen,\n",
    "    n_bands=n_bands,\n",
    "    max_sources=max_stars,\n",
    "    mean_sources=mean_stars,\n",
    "    min_sources=min_stars,\n",
    "    f_min=f_min,\n",
    "    star_prob=1.0,  # enforce only stars are created in the training images.\n",
    ")\n",
    "\n"
   ]
  },
  {
   "cell_type": "markdown",
   "metadata": {},
   "source": [
    "# Run sleep"
   ]
  },
  {
   "cell_type": "code",
   "execution_count": 7,
   "metadata": {},
   "outputs": [
    {
     "name": "stderr",
     "output_type": "stream",
     "text": [
      "/home/runingli/anaconda3/envs/celeste_py/lib/python3.7/site-packages/celeste/datasets/simulated_datasets.py:365: UserWarning: Remove second part of this assertion once full star&galaxy transition is complete.\n",
      "  \"Remove second part of this assertion once full star&galaxy transition is \"\n",
      "/home/runingli/anaconda3/envs/celeste_py/lib/python3.7/site-packages/celeste/train.py:234: UserWarning: In transition to full galaxy & star implementation, so only star_prob==1 and star_prob==0 are supported.\n",
      "  \"In transition to full galaxy & star implementation, so only star_prob==1 \"\n"
     ]
    },
    {
     "name": "stdout",
     "output_type": "stream",
     "text": [
      "0 loss: 1.8242; counter loss: 1.0797; locs loss: 0.0379; source_params loss: 0.7066 \t [0.6 seconds]\n",
      "1 loss: 1.2724; counter loss: 0.9318; locs loss: 0.0365; source_params loss: 0.3041 \t [0.4 seconds]\n",
      "2 loss: 1.0391; counter loss: 0.8050; locs loss: 0.0338; source_params loss: 0.2003 \t [0.4 seconds]\n",
      "3 loss: 0.9006; counter loss: 0.6899; locs loss: 0.0317; source_params loss: 0.1791 \t [0.4 seconds]\n",
      "4 loss: 0.7799; counter loss: 0.5870; locs loss: 0.0281; source_params loss: 0.1648 \t [0.4 seconds]\n",
      "5 loss: 0.6744; counter loss: 0.4973; locs loss: 0.0251; source_params loss: 0.1519 \t [0.4 seconds]\n",
      "6 loss: 0.5898; counter loss: 0.4228; locs loss: 0.0205; source_params loss: 0.1464 \t [0.5 seconds]\n",
      "7 loss: 0.5162; counter loss: 0.3604; locs loss: 0.0171; source_params loss: 0.1387 \t [0.4 seconds]\n",
      "8 loss: 0.4593; counter loss: 0.3090; locs loss: 0.0144; source_params loss: 0.1359 \t [0.4 seconds]\n",
      "9 loss: 0.3975; counter loss: 0.2641; locs loss: 0.0107; source_params loss: 0.1227 \t [0.4 seconds]\n",
      "10 loss: 0.3610; counter loss: 0.2281; locs loss: 0.0087; source_params loss: 0.1242 \t [0.4 seconds]\n",
      "11 loss: 0.3281; counter loss: 0.1983; locs loss: 0.0071; source_params loss: 0.1227 \t [0.4 seconds]\n",
      "12 loss: 0.2985; counter loss: 0.1731; locs loss: 0.0057; source_params loss: 0.1197 \t [0.4 seconds]\n",
      "13 loss: 0.2751; counter loss: 0.1517; locs loss: 0.0043; source_params loss: 0.1192 \t [0.4 seconds]\n",
      "14 loss: 0.2481; counter loss: 0.1337; locs loss: 0.0030; source_params loss: 0.1114 \t [0.4 seconds]\n",
      "15 loss: 0.2405; counter loss: 0.1202; locs loss: 0.0022; source_params loss: 0.1182 \t [0.4 seconds]\n",
      "16 loss: 0.2175; counter loss: 0.1076; locs loss: 0.0009; source_params loss: 0.1090 \t [0.4 seconds]\n",
      "17 loss: 0.2115; counter loss: 0.0978; locs loss: -0.0010; source_params loss: 0.1148 \t [0.4 seconds]\n",
      "18 loss: 0.1980; counter loss: 0.0889; locs loss: -0.0026; source_params loss: 0.1118 \t [0.4 seconds]\n",
      "19 loss: 0.1862; counter loss: 0.0822; locs loss: -0.0053; source_params loss: 0.1093 \t [0.4 seconds]\n",
      "20 loss: 0.1744; counter loss: 0.0763; locs loss: -0.0086; source_params loss: 0.1067 \t [0.4 seconds]\n",
      "21 loss: 0.1686; counter loss: 0.0722; locs loss: -0.0133; source_params loss: 0.1096 \t [0.4 seconds]\n",
      "22 loss: 0.1530; counter loss: 0.0670; locs loss: -0.0174; source_params loss: 0.1033 \t [0.4 seconds]\n",
      "23 loss: 0.1452; counter loss: 0.0634; locs loss: -0.0228; source_params loss: 0.1046 \t [0.4 seconds]\n",
      "24 loss: 0.1389; counter loss: 0.0608; locs loss: -0.0273; source_params loss: 0.1055 \t [0.4 seconds]\n",
      "25 loss: 0.1270; counter loss: 0.0559; locs loss: -0.0261; source_params loss: 0.0972 \t [0.4 seconds]\n",
      "26 loss: 0.1236; counter loss: 0.0533; locs loss: -0.0272; source_params loss: 0.0975 \t [0.4 seconds]\n",
      "27 loss: 0.1144; counter loss: 0.0506; locs loss: -0.0304; source_params loss: 0.0941 \t [0.4 seconds]\n",
      "28 loss: 0.1069; counter loss: 0.0483; locs loss: -0.0317; source_params loss: 0.0903 \t [0.4 seconds]\n",
      "29 loss: 0.0981; counter loss: 0.0460; locs loss: -0.0349; source_params loss: 0.0870 \t [0.4 seconds]\n",
      "30 loss: 0.1019; counter loss: 0.0441; locs loss: -0.0307; source_params loss: 0.0885 \t [0.4 seconds]\n",
      "31 loss: 0.0955; counter loss: 0.0422; locs loss: -0.0330; source_params loss: 0.0863 \t [0.4 seconds]\n",
      "32 loss: 0.0841; counter loss: 0.0402; locs loss: -0.0362; source_params loss: 0.0801 \t [0.4 seconds]\n",
      "33 loss: 0.0839; counter loss: 0.0396; locs loss: -0.0388; source_params loss: 0.0831 \t [0.4 seconds]\n",
      "34 loss: 0.0760; counter loss: 0.0369; locs loss: -0.0373; source_params loss: 0.0764 \t [0.4 seconds]\n",
      "35 loss: 0.0730; counter loss: 0.0363; locs loss: -0.0388; source_params loss: 0.0755 \t [0.4 seconds]\n",
      "36 loss: 0.0653; counter loss: 0.0342; locs loss: -0.0387; source_params loss: 0.0697 \t [0.4 seconds]\n",
      "37 loss: 0.0668; counter loss: 0.0346; locs loss: -0.0399; source_params loss: 0.0721 \t [0.4 seconds]\n",
      "38 loss: 0.0576; counter loss: 0.0325; locs loss: -0.0407; source_params loss: 0.0658 \t [0.4 seconds]\n",
      "39 loss: 0.0497; counter loss: 0.0313; locs loss: -0.0399; source_params loss: 0.0583 \t [0.4 seconds]\n",
      "40 loss: 0.0522; counter loss: 0.0315; locs loss: -0.0417; source_params loss: 0.0624 \t [0.5 seconds]\n",
      "41 loss: 0.0479; counter loss: 0.0304; locs loss: -0.0416; source_params loss: 0.0590 \t [0.4 seconds]\n",
      "42 loss: 0.0433; counter loss: 0.0307; locs loss: -0.0431; source_params loss: 0.0558 \t [0.4 seconds]\n",
      "43 loss: 0.0355; counter loss: 0.0297; locs loss: -0.0455; source_params loss: 0.0512 \t [0.4 seconds]\n",
      "44 loss: 0.0294; counter loss: 0.0285; locs loss: -0.0444; source_params loss: 0.0453 \t [0.4 seconds]\n",
      "45 loss: 0.0311; counter loss: 0.0282; locs loss: -0.0441; source_params loss: 0.0470 \t [0.4 seconds]\n",
      "46 loss: 0.0357; counter loss: 0.0290; locs loss: -0.0375; source_params loss: 0.0442 \t [0.4 seconds]\n",
      "47 loss: 0.0250; counter loss: 0.0262; locs loss: -0.0400; source_params loss: 0.0388 \t [0.4 seconds]\n",
      "48 loss: 0.0165; counter loss: 0.0259; locs loss: -0.0439; source_params loss: 0.0345 \t [0.4 seconds]\n",
      "49 loss: 0.0134; counter loss: 0.0247; locs loss: -0.0472; source_params loss: 0.0359 \t [0.4 seconds]\n",
      "50 loss: 0.0161; counter loss: 0.0260; locs loss: -0.0422; source_params loss: 0.0323 \t [0.4 seconds]\n",
      "51 loss: 0.0120; counter loss: 0.0250; locs loss: -0.0442; source_params loss: 0.0311 \t [0.4 seconds]\n",
      "52 loss: 0.0106; counter loss: 0.0236; locs loss: -0.0431; source_params loss: 0.0301 \t [0.4 seconds]\n",
      "53 loss: 0.0098; counter loss: 0.0241; locs loss: -0.0441; source_params loss: 0.0298 \t [0.4 seconds]\n",
      "54 loss: 0.0124; counter loss: 0.0230; locs loss: -0.0440; source_params loss: 0.0335 \t [0.4 seconds]\n",
      "55 loss: 0.0055; counter loss: 0.0224; locs loss: -0.0436; source_params loss: 0.0267 \t [0.4 seconds]\n",
      "56 loss: 0.0007; counter loss: 0.0212; locs loss: -0.0434; source_params loss: 0.0230 \t [0.4 seconds]\n",
      "57 loss: -0.0012; counter loss: 0.0214; locs loss: -0.0453; source_params loss: 0.0228 \t [0.4 seconds]\n",
      "58 loss: -0.0063; counter loss: 0.0214; locs loss: -0.0483; source_params loss: 0.0207 \t [0.4 seconds]\n",
      "59 loss: -0.0107; counter loss: 0.0201; locs loss: -0.0481; source_params loss: 0.0173 \t [0.4 seconds]\n",
      "60 loss: -0.0054; counter loss: 0.0211; locs loss: -0.0457; source_params loss: 0.0191 \t [0.4 seconds]\n",
      "61 loss: -0.0083; counter loss: 0.0196; locs loss: -0.0496; source_params loss: 0.0218 \t [0.4 seconds]\n",
      "62 loss: -0.0096; counter loss: 0.0202; locs loss: -0.0429; source_params loss: 0.0131 \t [0.4 seconds]\n",
      "63 loss: -0.0144; counter loss: 0.0201; locs loss: -0.0470; source_params loss: 0.0125 \t [0.4 seconds]\n",
      "64 loss: -0.0014; counter loss: 0.0209; locs loss: -0.0454; source_params loss: 0.0232 \t [0.4 seconds]\n",
      "65 loss: -0.0016; counter loss: 0.0189; locs loss: -0.0439; source_params loss: 0.0234 \t [0.4 seconds]\n",
      "66 loss: -0.0019; counter loss: 0.0199; locs loss: -0.0438; source_params loss: 0.0220 \t [0.4 seconds]\n",
      "67 loss: -0.0070; counter loss: 0.0187; locs loss: -0.0459; source_params loss: 0.0202 \t [0.4 seconds]\n",
      "68 loss: -0.0203; counter loss: 0.0176; locs loss: -0.0501; source_params loss: 0.0122 \t [0.4 seconds]\n",
      "69 loss: -0.0154; counter loss: 0.0184; locs loss: -0.0538; source_params loss: 0.0199 \t [0.4 seconds]\n",
      "70 loss: -0.0063; counter loss: 0.0181; locs loss: -0.0465; source_params loss: 0.0221 \t [0.4 seconds]\n",
      "71 loss: -0.0110; counter loss: 0.0187; locs loss: -0.0462; source_params loss: 0.0165 \t [0.4 seconds]\n",
      "72 loss: -0.0152; counter loss: 0.0191; locs loss: -0.0491; source_params loss: 0.0148 \t [0.4 seconds]\n",
      "73 loss: -0.0058; counter loss: 0.0181; locs loss: -0.0483; source_params loss: 0.0244 \t [0.4 seconds]\n",
      "74 loss: -0.0161; counter loss: 0.0179; locs loss: -0.0467; source_params loss: 0.0127 \t [0.4 seconds]\n",
      "75 loss: -0.0159; counter loss: 0.0172; locs loss: -0.0481; source_params loss: 0.0151 \t [0.4 seconds]\n",
      "76 loss: -0.0059; counter loss: 0.0171; locs loss: -0.0455; source_params loss: 0.0225 \t [0.4 seconds]\n",
      "77 loss: -0.0022; counter loss: 0.0186; locs loss: -0.0428; source_params loss: 0.0221 \t [0.4 seconds]\n",
      "78 loss: -0.0116; counter loss: 0.0177; locs loss: -0.0452; source_params loss: 0.0159 \t [0.4 seconds]\n",
      "79 loss: -0.0196; counter loss: 0.0170; locs loss: -0.0495; source_params loss: 0.0129 \t [0.4 seconds]\n",
      "80 loss: -0.0246; counter loss: 0.0164; locs loss: -0.0546; source_params loss: 0.0137 \t [0.4 seconds]\n"
     ]
    },
    {
     "name": "stdout",
     "output_type": "stream",
     "text": [
      "81 loss: -0.0143; counter loss: 0.0169; locs loss: -0.0489; source_params loss: 0.0177 \t [0.4 seconds]\n",
      "82 loss: -0.0275; counter loss: 0.0164; locs loss: -0.0522; source_params loss: 0.0083 \t [0.4 seconds]\n",
      "83 loss: -0.0290; counter loss: 0.0158; locs loss: -0.0519; source_params loss: 0.0071 \t [0.4 seconds]\n",
      "84 loss: -0.0257; counter loss: 0.0154; locs loss: -0.0494; source_params loss: 0.0082 \t [0.4 seconds]\n",
      "85 loss: -0.0197; counter loss: 0.0151; locs loss: -0.0516; source_params loss: 0.0168 \t [0.4 seconds]\n",
      "86 loss: -0.0192; counter loss: 0.0155; locs loss: -0.0522; source_params loss: 0.0175 \t [0.4 seconds]\n",
      "87 loss: -0.0219; counter loss: 0.0159; locs loss: -0.0485; source_params loss: 0.0106 \t [0.4 seconds]\n",
      "88 loss: -0.0271; counter loss: 0.0147; locs loss: -0.0506; source_params loss: 0.0089 \t [0.4 seconds]\n",
      "89 loss: -0.0349; counter loss: 0.0154; locs loss: -0.0531; source_params loss: 0.0029 \t [0.4 seconds]\n",
      "90 loss: -0.0226; counter loss: 0.0155; locs loss: -0.0512; source_params loss: 0.0131 \t [0.4 seconds]\n",
      "91 loss: -0.0215; counter loss: 0.0156; locs loss: -0.0471; source_params loss: 0.0100 \t [0.4 seconds]\n",
      "92 loss: -0.0328; counter loss: 0.0148; locs loss: -0.0519; source_params loss: 0.0043 \t [0.4 seconds]\n",
      "93 loss: -0.0249; counter loss: 0.0162; locs loss: -0.0541; source_params loss: 0.0131 \t [0.4 seconds]\n",
      "94 loss: -0.0276; counter loss: 0.0146; locs loss: -0.0544; source_params loss: 0.0122 \t [0.4 seconds]\n",
      "95 loss: -0.0277; counter loss: 0.0151; locs loss: -0.0562; source_params loss: 0.0133 \t [0.4 seconds]\n",
      "96 loss: -0.0361; counter loss: 0.0144; locs loss: -0.0542; source_params loss: 0.0036 \t [0.4 seconds]\n",
      "97 loss: -0.0377; counter loss: 0.0144; locs loss: -0.0561; source_params loss: 0.0041 \t [0.4 seconds]\n",
      "98 loss: -0.0395; counter loss: 0.0139; locs loss: -0.0556; source_params loss: 0.0022 \t [0.4 seconds]\n",
      "99 loss: -0.0311; counter loss: 0.0144; locs loss: -0.0572; source_params loss: 0.0117 \t [0.5 seconds]\n",
      "100 loss: -0.0377; counter loss: 0.0141; locs loss: -0.0575; source_params loss: 0.0057 \t [0.4 seconds]\n",
      "101 loss: -0.0332; counter loss: 0.0145; locs loss: -0.0554; source_params loss: 0.0077 \t [0.5 seconds]\n",
      "102 loss: -0.0391; counter loss: 0.0142; locs loss: -0.0570; source_params loss: 0.0036 \t [0.4 seconds]\n",
      "103 loss: -0.0154; counter loss: 0.0135; locs loss: -0.0516; source_params loss: 0.0227 \t [0.4 seconds]\n",
      "104 loss: -0.0281; counter loss: 0.0148; locs loss: -0.0518; source_params loss: 0.0090 \t [0.4 seconds]\n",
      "105 loss: -0.0331; counter loss: 0.0141; locs loss: -0.0552; source_params loss: 0.0080 \t [0.4 seconds]\n",
      "106 loss: -0.0365; counter loss: 0.0147; locs loss: -0.0571; source_params loss: 0.0059 \t [0.5 seconds]\n",
      "107 loss: -0.0379; counter loss: 0.0143; locs loss: -0.0569; source_params loss: 0.0047 \t [0.4 seconds]\n",
      "108 loss: -0.0370; counter loss: 0.0136; locs loss: -0.0547; source_params loss: 0.0040 \t [0.4 seconds]\n",
      "109 loss: -0.0297; counter loss: 0.0135; locs loss: -0.0533; source_params loss: 0.0101 \t [0.4 seconds]\n",
      "110 loss: -0.0081; counter loss: 0.0152; locs loss: -0.0456; source_params loss: 0.0223 \t [0.4 seconds]\n",
      "111 loss: -0.0277; counter loss: 0.0131; locs loss: -0.0482; source_params loss: 0.0074 \t [0.5 seconds]\n",
      "112 loss: -0.0334; counter loss: 0.0142; locs loss: -0.0517; source_params loss: 0.0041 \t [0.4 seconds]\n",
      "113 loss: -0.0369; counter loss: 0.0137; locs loss: -0.0547; source_params loss: 0.0040 \t [0.4 seconds]\n",
      "114 loss: -0.0380; counter loss: 0.0135; locs loss: -0.0559; source_params loss: 0.0045 \t [0.4 seconds]\n",
      "115 loss: -0.0348; counter loss: 0.0130; locs loss: -0.0560; source_params loss: 0.0081 \t [0.4 seconds]\n",
      "116 loss: -0.0413; counter loss: 0.0135; locs loss: -0.0557; source_params loss: 0.0009 \t [0.4 seconds]\n",
      "117 loss: -0.0342; counter loss: 0.0143; locs loss: -0.0556; source_params loss: 0.0071 \t [0.4 seconds]\n",
      "118 loss: -0.0326; counter loss: 0.0129; locs loss: -0.0578; source_params loss: 0.0124 \t [0.4 seconds]\n",
      "119 loss: -0.0403; counter loss: 0.0132; locs loss: -0.0555; source_params loss: 0.0019 \t [0.4 seconds]\n",
      "120 loss: -0.0362; counter loss: 0.0122; locs loss: -0.0541; source_params loss: 0.0057 \t [0.4 seconds]\n",
      "121 loss: -0.0438; counter loss: 0.0121; locs loss: -0.0584; source_params loss: 0.0025 \t [0.4 seconds]\n",
      "122 loss: -0.0394; counter loss: 0.0127; locs loss: -0.0581; source_params loss: 0.0060 \t [0.4 seconds]\n",
      "123 loss: -0.0390; counter loss: 0.0125; locs loss: -0.0592; source_params loss: 0.0078 \t [0.4 seconds]\n",
      "124 loss: -0.0204; counter loss: 0.0131; locs loss: -0.0542; source_params loss: 0.0208 \t [0.4 seconds]\n",
      "125 loss: -0.0307; counter loss: 0.0126; locs loss: -0.0493; source_params loss: 0.0059 \t [0.4 seconds]\n",
      "126 loss: -0.0406; counter loss: 0.0122; locs loss: -0.0562; source_params loss: 0.0035 \t [0.4 seconds]\n",
      "127 loss: -0.0452; counter loss: 0.0132; locs loss: -0.0577; source_params loss: -0.0007 \t [0.4 seconds]\n",
      "128 loss: -0.0363; counter loss: 0.0118; locs loss: -0.0562; source_params loss: 0.0080 \t [0.4 seconds]\n",
      "129 loss: -0.0376; counter loss: 0.0133; locs loss: -0.0536; source_params loss: 0.0028 \t [0.4 seconds]\n",
      "130 loss: -0.0406; counter loss: 0.0124; locs loss: -0.0520; source_params loss: -0.0009 \t [0.4 seconds]\n",
      "131 loss: -0.0419; counter loss: 0.0123; locs loss: -0.0504; source_params loss: -0.0037 \t [0.4 seconds]\n",
      "132 loss: -0.0348; counter loss: 0.0126; locs loss: -0.0523; source_params loss: 0.0049 \t [0.4 seconds]\n",
      "133 loss: -0.0304; counter loss: 0.0122; locs loss: -0.0574; source_params loss: 0.0149 \t [0.4 seconds]\n",
      "134 loss: -0.0328; counter loss: 0.0136; locs loss: -0.0563; source_params loss: 0.0099 \t [0.4 seconds]\n",
      "135 loss: -0.0431; counter loss: 0.0115; locs loss: -0.0573; source_params loss: 0.0027 \t [0.4 seconds]\n",
      "136 loss: -0.0381; counter loss: 0.0126; locs loss: -0.0556; source_params loss: 0.0049 \t [0.4 seconds]\n",
      "137 loss: -0.0436; counter loss: 0.0124; locs loss: -0.0577; source_params loss: 0.0017 \t [0.4 seconds]\n",
      "138 loss: -0.0442; counter loss: 0.0131; locs loss: -0.0616; source_params loss: 0.0042 \t [0.4 seconds]\n",
      "139 loss: -0.0490; counter loss: 0.0124; locs loss: -0.0606; source_params loss: -0.0007 \t [0.4 seconds]\n",
      "140 loss: -0.0514; counter loss: 0.0119; locs loss: -0.0595; source_params loss: -0.0039 \t [0.4 seconds]\n",
      "141 loss: -0.0511; counter loss: 0.0111; locs loss: -0.0585; source_params loss: -0.0037 \t [0.4 seconds]\n",
      "142 loss: -0.0549; counter loss: 0.0120; locs loss: -0.0610; source_params loss: -0.0060 \t [0.4 seconds]\n",
      "143 loss: -0.0397; counter loss: 0.0118; locs loss: -0.0544; source_params loss: 0.0030 \t [0.4 seconds]\n",
      "144 loss: -0.0457; counter loss: 0.0123; locs loss: -0.0556; source_params loss: -0.0025 \t [0.4 seconds]\n",
      "145 loss: -0.0477; counter loss: 0.0119; locs loss: -0.0559; source_params loss: -0.0038 \t [0.4 seconds]\n",
      "146 loss: -0.0428; counter loss: 0.0121; locs loss: -0.0572; source_params loss: 0.0024 \t [0.4 seconds]\n",
      "147 loss: -0.0491; counter loss: 0.0120; locs loss: -0.0580; source_params loss: -0.0031 \t [0.4 seconds]\n",
      "148 loss: -0.0443; counter loss: 0.0116; locs loss: -0.0561; source_params loss: 0.0002 \t [0.4 seconds]\n",
      "149 loss: -0.0454; counter loss: 0.0124; locs loss: -0.0561; source_params loss: -0.0017 \t [0.4 seconds]\n"
     ]
    }
   ],
   "source": [
    "dataset = simulated_datasets.SourceDataset(\n",
    "    n_images, simulator_args, simulator_kwargs\n",
    ")\n",
    "\n",
    "# setup Star Encoder\n",
    "star_encoder = sourcenet.SourceEncoder(\n",
    "    slen=slen,\n",
    "    ptile_slen=8,\n",
    "    step=2,\n",
    "    edge_padding=3,\n",
    "    n_bands=n_bands,\n",
    "    max_detections=2,\n",
    "    n_source_params=n_bands,  # star has n_bands # fluxes\n",
    "    enc_conv_c=5,\n",
    "    enc_kern=3,\n",
    "    enc_hidden=32\n",
    ").to(device)\n",
    "\n",
    "# train encoder\n",
    "# training wrapper\n",
    "SleepTraining = train.SleepTraining(\n",
    "    model=star_encoder,\n",
    "    dataset=dataset,\n",
    "    slen=slen,\n",
    "    n_bands=n_bands,\n",
    "    n_source_params=n_bands,  # star has n_bands # fluxes\n",
    "    verbose=True,\n",
    "    batchsize=32,\n",
    ")\n",
    "\n",
    "n_epochs = 150 if use_cuda else 1\n",
    "SleepTraining.run(n_epochs=n_epochs)"
   ]
  },
  {
   "cell_type": "markdown",
   "metadata": {},
   "source": [
    "# Check sleep"
   ]
  },
  {
   "cell_type": "code",
   "execution_count": 8,
   "metadata": {},
   "outputs": [],
   "source": [
    "# get the estimated params\n",
    "est_locs, est_source_params, est_n_sources = star_encoder.sample_encoder(\n",
    "    test_image.to(device),\n",
    "    n_samples=1,\n",
    "    return_map_n_sources=True,\n",
    "    return_map_source_params=True,\n",
    "    training=False\n",
    ")\n",
    "\n",
    "# test that parameters match.\n",
    "assert est_n_sources == test_star[\"n_sources\"].to(device)\n",
    "\n",
    "# locs\n",
    "true_locs = test_star[\"locs\"].to(device)\n",
    "true_ind = true_locs.argsort(1)\n",
    "true_ind = true_ind[0, :, 0]\n",
    "\n",
    "est_locs = est_locs.to(device)\n",
    "est_ind = est_locs.to(device).argsort(1)\n",
    "est_ind = est_ind[0, :, 0]\n",
    "\n",
    "diff_locs = true_locs[:, true_ind, :] - est_locs[:, est_ind, :]\n",
    "diff_locs *= test_image.size(-1)\n",
    "assert diff_locs.abs().max() <= 0.5\n",
    "\n",
    "# fluxes\n",
    "true_source_params = test_star[\"log_fluxes\"][:, true_ind,].to(device)\n",
    "est_source_params = est_source_params[:, est_ind, :].to(device)\n",
    "diff = true_source_params - est_source_params\n",
    "assert (diff.abs() <= est_source_params.abs() * 0.10).all()\n",
    "assert (diff.abs() <= true_source_params.abs() * 0.10).all()"
   ]
  },
  {
   "cell_type": "code",
   "execution_count": 9,
   "metadata": {},
   "outputs": [],
   "source": [
    "# Initialization\n",
    "init_background_params = torch.zeros(2, 3, device=device)\n",
    "init_background_params[0, 0] = 686.0\n",
    "init_background_params[1, 0] = 1123.0\n",
    "\n",
    "## make sure test background equals the initialization\n",
    "init_background = wake.PlanarBackground(init_background_params, 30).forward()\n",
    "assert torch.all(init_background == test_star[\"background\"].to(device))"
   ]
  },
  {
   "cell_type": "markdown",
   "metadata": {},
   "source": [
    "## Check out initial residuals"
   ]
  },
  {
   "cell_type": "code",
   "execution_count": 10,
   "metadata": {},
   "outputs": [],
   "source": [
    "from celeste.wake import ModelParams, get_is_on_from_n_sources"
   ]
  },
  {
   "cell_type": "code",
   "execution_count": 11,
   "metadata": {},
   "outputs": [],
   "source": [
    "model_params = ModelParams(test_image.to(device), init_psf_params, init_background_params)"
   ]
  },
  {
   "cell_type": "code",
   "execution_count": 12,
   "metadata": {},
   "outputs": [],
   "source": [
    "locs_sampled, log_fluxes_sampled, n_stars_sampled = star_encoder.sample_encoder(\n",
    "        test_image.to(device),\n",
    "        n_samples=1,\n",
    "        return_map_n_sources=False,\n",
    "        return_map_source_params=False,\n",
    "    )[0:3]\n",
    "\n",
    "max_stars = n_stars_sampled.max()\n",
    "is_on_array = get_is_on_from_n_sources(n_stars_sampled, max_stars)\n",
    "is_on_array = is_on_array.unsqueeze(2).float()\n",
    "fluxes_sampled = log_fluxes_sampled.exp() * is_on_array\n",
    "\n",
    "recon_mean, loss = model_params.get_loss(\n",
    "    locs=locs_sampled.detach(),\n",
    "    fluxes=fluxes_sampled.detach(),\n",
    "    n_stars=n_stars_sampled.detach(),\n",
    ")"
   ]
  },
  {
   "cell_type": "code",
   "execution_count": 13,
   "metadata": {},
   "outputs": [
    {
     "data": {
      "text/plain": [
       "<matplotlib.colorbar.Colorbar at 0x7f14041acfd0>"
      ]
     },
     "execution_count": 13,
     "metadata": {},
     "output_type": "execute_result"
    },
    {
     "data": {
      "image/png": "[encoded data removed]",
      "text/plain": [
       "<Figure size 1080x288 with 6 Axes>"
      ]
     },
     "metadata": {
      "needs_background": "light"
     },
     "output_type": "display_data"
    }
   ],
   "source": [
    "fig, axarr = plt.subplots(1, 3, figsize=(15, 4))\n",
    "\n",
    "im0 = axarr[0].matshow(test_image[0, 0].cpu().detach())\n",
    "fig.colorbar(im0, ax = axarr[0])\n",
    "\n",
    "\n",
    "im1 = axarr[1].matshow(recon_mean[0, 0].cpu().detach())\n",
    "fig.colorbar(im1, ax = axarr[1])\n",
    "\n",
    "resid = test_image[0, 0] - recon_mean[0, 0].cpu().detach() \n",
    "im2 = axarr[2].matshow(resid, vmax = resid.abs().max(), vmin = -resid.abs().max(), cmap = plt.get_cmap('bwr'))\n",
    "fig.colorbar(im2, ax = axarr[2])"
   ]
  },
  {
   "cell_type": "code",
   "execution_count": null,
   "metadata": {},
   "outputs": [],
   "source": []
  },
  {
   "cell_type": "markdown",
   "metadata": {},
   "source": [
    "# Run wake"
   ]
  },
  {
   "cell_type": "code",
   "execution_count": 14,
   "metadata": {},
   "outputs": [],
   "source": [
    "true_psf = psf_transform.PowerLawPSF(true_psf_params).forward().detach()\n",
    "init_psf = psf_transform.PowerLawPSF(init_psf_params).forward().detach()"
   ]
  },
  {
   "cell_type": "code",
   "execution_count": 15,
   "metadata": {},
   "outputs": [],
   "source": [
    "def compare_psfs(psf1, psf2, fig, axarr, band = 0): \n",
    "    \n",
    "    psf1 = psf1.cpu()[band, 40:60, 40:60]\n",
    "    psf2 = psf2.cpu()[band, 40:60, 40:60]\n",
    "    \n",
    "    vmax = max(psf1.abs().max(), psf2.abs().max())\n",
    "    print(vmax)\n",
    "    \n",
    "    im0 = axarr[0].matshow(psf1, cmap=plt.cm.Blues, vmax = vmax, vmin = 0)\n",
    "    fig.colorbar(im0, ax = axarr[0])\n",
    "\n",
    "    im1 = axarr[1].matshow(psf2, cmap=plt.cm.Blues, vmax = None, vmin = 0)\n",
    "    fig.colorbar(im1, ax = axarr[1])\n",
    "\n",
    "    psf_resid = (psf1- psf2)\n",
    "    im2 = axarr[2].matshow(psf_resid, \n",
    "                           vmax = psf_resid.abs().max(), vmin = -psf_resid.abs().max(), \n",
    "                           cmap = plt.get_cmap('bwr'))\n",
    "    axarr[2].set_title('Diff')\n",
    "\n",
    "    fig.colorbar(im2, ax = axarr[2])"
   ]
  },
  {
   "cell_type": "code",
   "execution_count": 16,
   "metadata": {},
   "outputs": [
    {
     "name": "stdout",
     "output_type": "stream",
     "text": [
      "tensor(0.1955)\n"
     ]
    },
    {
     "data": {
      "text/plain": [
       "Text(0.5, 1.05, 'Init PSF')"
      ]
     },
     "execution_count": 16,
     "metadata": {},
     "output_type": "execute_result"
    },
    {
     "data": {
      "image/png": "[encoded data removed]",
      "text/plain": [
       "<Figure size 1080x288 with 6 Axes>"
      ]
     },
     "metadata": {
      "needs_background": "light"
     },
     "output_type": "display_data"
    }
   ],
   "source": [
    "fig, axarr = plt.subplots(1, 3, figsize=(15, 4))\n",
    "\n",
    "compare_psfs(true_psf, init_psf, fig, axarr)\n",
    "axarr[0].set_title('True PSF')\n",
    "axarr[1].set_title('Init PSF')"
   ]
  },
  {
   "cell_type": "code",
   "execution_count": null,
   "metadata": {},
   "outputs": [],
   "source": []
  },
  {
   "cell_type": "code",
   "execution_count": 17,
   "metadata": {},
   "outputs": [
    {
     "name": "stdout",
     "output_type": "stream",
     "text": [
      "[10] loss: 830108.1875 \t[1.0 seconds]\n",
      "[20] loss: 677506.6250 \t[1.0 seconds]\n",
      "[30] loss: 554476.3750 \t[1.0 seconds]\n",
      "[40] loss: 459295.4062 \t[1.0 seconds]\n",
      "[50] loss: 387217.6562 \t[1.1 seconds]\n",
      "[60] loss: 334614.5312 \t[1.1 seconds]\n",
      "[70] loss: 297752.1562 \t[1.0 seconds]\n",
      "[80] loss: 272925.4375 \t[1.1 seconds]\n",
      "[90] loss: 256692.8125 \t[1.0 seconds]\n",
      "[100] loss: 246544.2500 \t[1.0 seconds]\n",
      "[110] loss: 240354.5469 \t[1.0 seconds]\n",
      "[120] loss: 236710.5625 \t[1.0 seconds]\n",
      "[130] loss: 234675.0000 \t[1.0 seconds]\n",
      "[140] loss: 233610.9375 \t[1.0 seconds]\n",
      "[150] loss: 233078.9688 \t[1.0 seconds]\n",
      "[160] loss: 232850.4688 \t[1.0 seconds]\n",
      "[170] loss: 232777.0781 \t[1.0 seconds]\n",
      "[180] loss: 232745.4688 \t[1.1 seconds]\n",
      "[190] loss: 232714.6875 \t[1.0 seconds]\n",
      "[200] loss: 232678.4844 \t[1.0 seconds]\n",
      "[210] loss: 232654.6719 \t[1.0 seconds]\n",
      "[220] loss: 232637.4062 \t[1.0 seconds]\n",
      "[230] loss: 232625.7031 \t[1.0 seconds]\n",
      "[240] loss: 232611.2969 \t[1.0 seconds]\n",
      "[250] loss: 232595.9531 \t[1.0 seconds]\n",
      "[260] loss: 232582.2188 \t[1.0 seconds]\n",
      "[270] loss: 232563.0625 \t[1.1 seconds]\n",
      "[280] loss: 232545.7812 \t[1.0 seconds]\n",
      "[290] loss: 232549.3906 \t[1.1 seconds]\n",
      "[300] loss: 232594.7031 \t[1.1 seconds]\n",
      "[310] loss: 232695.2812 \t[1.1 seconds]\n",
      "[320] loss: 232843.4531 \t[1.0 seconds]\n",
      "[330] loss: 232987.9688 \t[1.0 seconds]\n",
      "[340] loss: 233107.4375 \t[1.0 seconds]\n",
      "[350] loss: 233090.7031 \t[1.0 seconds]\n",
      "[360] loss: 233031.0312 \t[1.0 seconds]\n",
      "[370] loss: 232912.0312 \t[1.1 seconds]\n",
      "[380] loss: 232790.4062 \t[1.0 seconds]\n",
      "[390] loss: 232719.0156 \t[1.0 seconds]\n",
      "[400] loss: 232697.1562 \t[1.0 seconds]\n"
     ]
    }
   ],
   "source": [
    "# run the wake-phase training\n",
    "n_epochs = 400 if use_cuda else 1\n",
    "\n",
    "star_encoder.eval()\n",
    "estimate_params, map_loss = wake.run_wake(\n",
    "    test_image.to(device),\n",
    "    star_encoder,\n",
    "    init_psf_params,\n",
    "    init_background_params,\n",
    "    n_samples=1000,\n",
    "    n_epochs=n_epochs,\n",
    "    lr=0.01,\n",
    "    print_every=10,\n",
    "    run_map=False,\n",
    ")"
   ]
  },
  {
   "cell_type": "code",
   "execution_count": 18,
   "metadata": {
    "scrolled": true
   },
   "outputs": [
    {
     "name": "stdout",
     "output_type": "stream",
     "text": [
      "tensor([[ -0.5396,   1.0622,   3.1312,   1.1505,  -2.1963, -16.2110],\n",
      "        [ -0.3799,   0.7378,  -0.4502,   3.1473,  -1.2203,  -5.6375]],\n",
      "       device='cuda:0')\n",
      "tensor([[  0.4604,   2.0622,   3.1312,   1.1505,  -2.1963, -16.2110],\n",
      "        [  0.6201,   1.7378,  -0.4502,   3.1473,  -1.2203,  -5.6375]],\n",
      "       device='cuda:0')\n",
      "Parameter containing:\n",
      "tensor([[ -0.4169,   1.3056,   2.9624,   2.9778,  -2.9474, -15.4065],\n",
      "        [ -0.1904,   0.8388,  -1.9503,   4.2251,  -2.0227,  -4.3870]],\n",
      "       device='cuda:0', requires_grad=True)\n"
     ]
    }
   ],
   "source": [
    "estimate_psf_params = list(estimate_params.power_law_psf.parameters())[0]\n",
    "print(true_psf_params)\n",
    "print(init_psf_params)\n",
    "print(estimate_psf_params)"
   ]
  },
  {
   "cell_type": "code",
   "execution_count": 19,
   "metadata": {},
   "outputs": [
    {
     "data": {
      "text/plain": [
       "tensor(True, device='cuda:0')"
      ]
     },
     "execution_count": 19,
     "metadata": {},
     "output_type": "execute_result"
    }
   ],
   "source": [
    "estimate_psf = psf_transform.PowerLawPSF(estimate_psf_params).forward().detach()\n",
    "torch.all(estimate_psf >= 0)"
   ]
  },
  {
   "cell_type": "code",
   "execution_count": null,
   "metadata": {},
   "outputs": [],
   "source": []
  },
  {
   "cell_type": "code",
   "execution_count": 20,
   "metadata": {},
   "outputs": [
    {
     "name": "stdout",
     "output_type": "stream",
     "text": [
      "tensor(0.1964)\n"
     ]
    },
    {
     "data": {
      "text/plain": [
       "Text(0.5, 1.05, 'Estimated PSF')"
      ]
     },
     "execution_count": 20,
     "metadata": {},
     "output_type": "execute_result"
    },
    {
     "data": {
      "image/png": "[encoded data removed]",
      "text/plain": [
       "<Figure size 1080x288 with 6 Axes>"
      ]
     },
     "metadata": {
      "needs_background": "light"
     },
     "output_type": "display_data"
    }
   ],
   "source": [
    "fig, axarr = plt.subplots(1, 3, figsize=(15, 4))\n",
    "\n",
    "compare_psfs(true_psf, estimate_psf, fig, axarr)\n",
    "axarr[0].set_title('True PSF')\n",
    "axarr[1].set_title('Estimated PSF')"
   ]
  },
  {
   "cell_type": "code",
   "execution_count": 21,
   "metadata": {},
   "outputs": [
    {
     "name": "stdout",
     "output_type": "stream",
     "text": [
      "tensor(0.1352, device='cuda:0')\n",
      "tensor(1.2146, device='cuda:0')\n"
     ]
    },
    {
     "ename": "AssertionError",
     "evalue": "",
     "output_type": "error",
     "traceback": [
      "\u001b[0;31m---------------------------------------------------------------------------\u001b[0m",
      "\u001b[0;31mAssertionError\u001b[0m                            Traceback (most recent call last)",
      "\u001b[0;32m<ipython-input-21-3e5dc85291da>\u001b[0m in \u001b[0;36m<module>\u001b[0;34m\u001b[0m\n\u001b[1;32m      3\u001b[0m \u001b[0mprint\u001b[0m\u001b[0;34m(\u001b[0m\u001b[0mtrained_residual\u001b[0m\u001b[0;34m.\u001b[0m\u001b[0msum\u001b[0m\u001b[0;34m(\u001b[0m\u001b[0;34m)\u001b[0m\u001b[0;34m)\u001b[0m\u001b[0;34m\u001b[0m\u001b[0;34m\u001b[0m\u001b[0m\n\u001b[1;32m      4\u001b[0m \u001b[0mprint\u001b[0m\u001b[0;34m(\u001b[0m\u001b[0minit_residual\u001b[0m\u001b[0;34m.\u001b[0m\u001b[0msum\u001b[0m\u001b[0;34m(\u001b[0m\u001b[0;34m)\u001b[0m\u001b[0;34m)\u001b[0m\u001b[0;34m\u001b[0m\u001b[0;34m\u001b[0m\u001b[0m\n\u001b[0;32m----> 5\u001b[0;31m \u001b[0;32massert\u001b[0m \u001b[0mtrained_residual\u001b[0m\u001b[0;34m.\u001b[0m\u001b[0msum\u001b[0m\u001b[0;34m(\u001b[0m\u001b[0;34m)\u001b[0m \u001b[0;34m<=\u001b[0m \u001b[0minit_residual\u001b[0m\u001b[0;34m.\u001b[0m\u001b[0msum\u001b[0m\u001b[0;34m(\u001b[0m\u001b[0;34m)\u001b[0m \u001b[0;34m*\u001b[0m \u001b[0;36m0.10\u001b[0m\u001b[0;34m\u001b[0m\u001b[0;34m\u001b[0m\u001b[0m\n\u001b[0m",
      "\u001b[0;31mAssertionError\u001b[0m: "
     ]
    }
   ],
   "source": [
    "init_residual = (true_psf - init_psf).abs().to(device)\n",
    "trained_residual = (true_psf - estimate_psf).abs().to(device)\n",
    "print(trained_residual.sum())\n",
    "print(init_residual.sum())\n",
    "assert trained_residual.sum() <= init_residual.sum() * 0.10"
   ]
  },
  {
   "cell_type": "code",
   "execution_count": null,
   "metadata": {},
   "outputs": [],
   "source": []
  }
 ],
 "metadata": {
  "kernelspec": {
   "display_name": "celeste_py",
   "language": "python",
   "name": "celeste_py"
  },
  "language_info": {
   "codemirror_mode": {
    "name": "ipython",
    "version": 3
   },
   "file_extension": ".py",
   "mimetype": "text/x-python",
   "name": "python",
   "nbconvert_exporter": "python",
   "pygments_lexer": "ipython3",
   "version": "3.7.7"
  }
 },
 "nbformat": 4,
 "nbformat_minor": 4
}

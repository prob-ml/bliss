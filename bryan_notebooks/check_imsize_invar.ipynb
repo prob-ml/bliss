{
 "cells": [
  {
   "cell_type": "code",
   "execution_count": 1,
   "metadata": {},
   "outputs": [],
   "source": [
    "import torch\n",
    "from pathlib import Path\n",
    "\n",
    "import numpy as np\n",
    "\n",
    "import matplotlib.pyplot as plt\n",
    "%matplotlib inline"
   ]
  },
  {
   "cell_type": "code",
   "execution_count": 2,
   "metadata": {},
   "outputs": [
    {
     "name": "stdout",
     "output_type": "stream",
     "text": [
      "cuda\n",
      "True\n"
     ]
    }
   ],
   "source": [
    "import bliss\n",
    "\n",
    "import bliss.models.encoder as encoder_lib\n",
    "from bliss.models.decoder import ImageDecoder\n",
    "from bliss.models import galaxy_net\n",
    "\n",
    "from bliss import device, use_cuda\n",
    "print(device)\n",
    "print(use_cuda)\n",
    "\n",
    "data_path = Path('../data/')"
   ]
  },
  {
   "cell_type": "code",
   "execution_count": 3,
   "metadata": {},
   "outputs": [],
   "source": [
    "torch.manual_seed(2342)\n",
    "np.random.seed(354)"
   ]
  },
  {
   "cell_type": "markdown",
   "metadata": {},
   "source": [
    "# Model parameters"
   ]
  },
  {
   "cell_type": "markdown",
   "metadata": {},
   "source": [
    "### PSF"
   ]
  },
  {
   "cell_type": "code",
   "execution_count": 4,
   "metadata": {},
   "outputs": [],
   "source": [
    "n_bands = 1"
   ]
  },
  {
   "cell_type": "code",
   "execution_count": 5,
   "metadata": {},
   "outputs": [],
   "source": [
    "# psf parameters \n",
    "psf_file = data_path.joinpath(\"fitted_powerlaw_psf_params.npy\")\n",
    "psf_params = torch.from_numpy(np.load(psf_file)).to(device)[0:n_bands]"
   ]
  },
  {
   "cell_type": "code",
   "execution_count": null,
   "metadata": {},
   "outputs": [],
   "source": []
  },
  {
   "cell_type": "markdown",
   "metadata": {},
   "source": [
    "### galaxy decoder"
   ]
  },
  {
   "cell_type": "code",
   "execution_count": 6,
   "metadata": {},
   "outputs": [],
   "source": [
    "include_galaxy = True\n",
    "if include_galaxy: \n",
    "    assert n_bands == 1, 'galaxy decoder only available for single band'\n",
    "    gal_slen = 51\n",
    "    latent_dim = 8\n",
    "    decoder_file = '../data/galaxy_decoder_1_band.dat'\n",
    "    dec = galaxy_net.CenteredGalaxyDecoder(gal_slen, latent_dim, n_bands=n_bands).to(device)\n",
    "    dec.load_state_dict(torch.load(decoder_file, map_location=device))\n",
    "    dec.eval()\n",
    "    prob_galaxy = 1.\n",
    "else: \n",
    "    dec = None\n",
    "    prob_galaxy = 0."
   ]
  },
  {
   "cell_type": "code",
   "execution_count": null,
   "metadata": {},
   "outputs": [],
   "source": []
  },
  {
   "cell_type": "markdown",
   "metadata": {},
   "source": [
    "# Define decoders"
   ]
  },
  {
   "cell_type": "markdown",
   "metadata": {},
   "source": [
    "We define two decoders with different `slen`"
   ]
  },
  {
   "cell_type": "code",
   "execution_count": 7,
   "metadata": {},
   "outputs": [],
   "source": [
    "# false for debugging\n",
    "add_noise = False"
   ]
  },
  {
   "cell_type": "code",
   "execution_count": 8,
   "metadata": {},
   "outputs": [],
   "source": [
    "slen1 = 40\n",
    "\n",
    "# background\n",
    "background = torch.zeros(n_bands, slen1, slen1, device=device)\n",
    "background[:] = 686."
   ]
  },
  {
   "cell_type": "code",
   "execution_count": 9,
   "metadata": {},
   "outputs": [],
   "source": [
    "# the first decoder\n",
    "image_decoder1 = ImageDecoder(dec,\n",
    "                        psf_params,\n",
    "                        background,\n",
    "                        n_bands=n_bands,\n",
    "                        slen=slen1,\n",
    "                        prob_galaxy=prob_galaxy,\n",
    "                        max_sources=1,\n",
    "                        mean_sources=1,\n",
    "                        min_sources=1,\n",
    "                        f_min=1e4,\n",
    "                        f_max=1e6,\n",
    "                        alpha=0.5,\n",
    "                        add_noise=add_noise)"
   ]
  },
  {
   "cell_type": "code",
   "execution_count": 10,
   "metadata": {},
   "outputs": [],
   "source": [
    "# the second decoder, with a different `slen`\n",
    "slen2 = slen1 * 2\n",
    "\n",
    "# background\n",
    "background2 = torch.zeros(n_bands, slen2, slen2, device=device)\n",
    "background2[:] = 686.\n",
    "\n",
    "image_decoder2 = ImageDecoder(dec,\n",
    "                        psf_params,\n",
    "                        background2,\n",
    "                        n_bands=n_bands,\n",
    "                        slen=slen2,\n",
    "                        prob_galaxy=prob_galaxy,\n",
    "                        max_sources=1,\n",
    "                        mean_sources=1,\n",
    "                        min_sources=1,\n",
    "                        f_min=1e4,\n",
    "                        f_max=1e6,\n",
    "                        alpha=0.5,\n",
    "                        add_noise=add_noise)"
   ]
  },
  {
   "cell_type": "code",
   "execution_count": null,
   "metadata": {},
   "outputs": [],
   "source": []
  },
  {
   "cell_type": "markdown",
   "metadata": {},
   "source": [
    "# Set parameters"
   ]
  },
  {
   "cell_type": "code",
   "execution_count": 11,
   "metadata": {},
   "outputs": [],
   "source": [
    "batch_size = 1"
   ]
  },
  {
   "cell_type": "code",
   "execution_count": 12,
   "metadata": {},
   "outputs": [],
   "source": [
    "params = image_decoder1.sample_parameters(batch_size)"
   ]
  },
  {
   "cell_type": "code",
   "execution_count": 13,
   "metadata": {},
   "outputs": [],
   "source": [
    "# specify location\n",
    "x0 = 20.5\n",
    "x1 = 20.5\n",
    "params['locs'][:, :, 0] =  x0 / slen1\n",
    "params['locs'][:, :, 1] =  x1 / slen1\n",
    "\n",
    "locs = params['locs']"
   ]
  },
  {
   "cell_type": "code",
   "execution_count": null,
   "metadata": {},
   "outputs": [],
   "source": []
  },
  {
   "cell_type": "markdown",
   "metadata": {},
   "source": [
    "# Render images"
   ]
  },
  {
   "cell_type": "code",
   "execution_count": 14,
   "metadata": {},
   "outputs": [],
   "source": [
    "image1 = image_decoder1.render_images(\n",
    "                            image_decoder1.max_sources,\n",
    "                            params['n_sources'],\n",
    "                            locs, \n",
    "                            params['galaxy_bool'],\n",
    "                            params['galaxy_params'],\n",
    "                            params['fluxes'])\n"
   ]
  },
  {
   "cell_type": "code",
   "execution_count": 15,
   "metadata": {},
   "outputs": [
    {
     "data": {
      "text/plain": [
       "41.0"
      ]
     },
     "execution_count": 15,
     "metadata": {},
     "output_type": "execute_result"
    }
   ],
   "source": [
    "np.sqrt(1681)"
   ]
  },
  {
   "cell_type": "code",
   "execution_count": null,
   "metadata": {},
   "outputs": [],
   "source": []
  },
  {
   "cell_type": "code",
   "execution_count": 16,
   "metadata": {},
   "outputs": [],
   "source": [
    "locs2 = locs * slen1 / slen2\n",
    "image2 = image_decoder2.render_images(\n",
    "                            image_decoder1.max_sources,\n",
    "                            params['n_sources'],\n",
    "                            locs2, \n",
    "                            params['galaxy_bool'],\n",
    "                            params['galaxy_params'],\n",
    "                            params['fluxes'])\n"
   ]
  },
  {
   "cell_type": "code",
   "execution_count": null,
   "metadata": {},
   "outputs": [],
   "source": []
  },
  {
   "cell_type": "markdown",
   "metadata": {},
   "source": [
    "### Plot"
   ]
  },
  {
   "cell_type": "code",
   "execution_count": 17,
   "metadata": {},
   "outputs": [],
   "source": [
    "batch = 0\n",
    "band = 0"
   ]
  },
  {
   "cell_type": "code",
   "execution_count": 18,
   "metadata": {},
   "outputs": [],
   "source": [
    "%matplotlib inline"
   ]
  },
  {
   "cell_type": "code",
   "execution_count": 19,
   "metadata": {},
   "outputs": [
    {
     "data": {
      "text/plain": [
       "<matplotlib.colorbar.Colorbar at 0x7fc2b8af1d90>"
      ]
     },
     "execution_count": 19,
     "metadata": {},
     "output_type": "execute_result"
    },
    {
     "data": {
      "image/png": "[encoded data removed]",
      "text/plain": [
       "<Figure size 1296x432 with 4 Axes>"
      ]
     },
     "metadata": {
      "needs_background": "light"
     },
     "output_type": "display_data"
    }
   ],
   "source": [
    "f, axarr = plt.subplots(1, 3, figsize=(18, 6))\n",
    "\n",
    "# plot images\n",
    "im1 = image1[batch, band].cpu().detach()\n",
    "im2 = image2[batch, band, 0:slen1, 0:slen1].cpu().detach()\n",
    "axarr[0].matshow(im1)\n",
    "axarr[1].matshow(im2)\n",
    "\n",
    "# plot locations \n",
    "axarr[0].scatter(x0 - 0.5, x1 - 0.5, color = 'red', marker = 'x')\n",
    "axarr[1].scatter(x0 - 0.5, x1 - 0.5, color = 'red', marker = 'x')\n",
    "\n",
    "# plto difference \n",
    "diff = (im1 - im2) / im1\n",
    "vmax = diff.max().abs()\n",
    "ax3 = axarr[2].matshow(diff, cmap = plt.get_cmap('bwr'), vmax = vmax, vmin = -vmax)\n",
    "f.colorbar(ax3, ax = axarr[2])"
   ]
  },
  {
   "cell_type": "code",
   "execution_count": null,
   "metadata": {},
   "outputs": [],
   "source": []
  },
  {
   "cell_type": "code",
   "execution_count": null,
   "metadata": {},
   "outputs": [],
   "source": []
  },
  {
   "cell_type": "code",
   "execution_count": null,
   "metadata": {},
   "outputs": [],
   "source": []
  }
 ],
 "metadata": {
  "kernelspec": {
   "display_name": "celeste_py",
   "language": "python",
   "name": "celeste_py"
  },
  "language_info": {
   "codemirror_mode": {
    "name": "ipython",
    "version": 3
   },
   "file_extension": ".py",
   "mimetype": "text/x-python",
   "name": "python",
   "nbconvert_exporter": "python",
   "pygments_lexer": "ipython3",
   "version": "3.7.7"
  }
 },
 "nbformat": 4,
 "nbformat_minor": 2
}

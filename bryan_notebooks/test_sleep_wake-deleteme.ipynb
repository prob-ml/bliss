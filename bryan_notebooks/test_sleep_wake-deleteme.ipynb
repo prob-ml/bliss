{
 "cells": [
  {
   "cell_type": "code",
   "execution_count": 1,
   "metadata": {},
   "outputs": [],
   "source": [
    "import pytest\n",
    "import torch"
   ]
  },
  {
   "cell_type": "code",
   "execution_count": 2,
   "metadata": {},
   "outputs": [],
   "source": [
    "import sys\n",
    "sys.path.insert(0, '../tests/')"
   ]
  },
  {
   "cell_type": "code",
   "execution_count": 3,
   "metadata": {},
   "outputs": [],
   "source": [
    "from conftest import *\n",
    "from pathlib import Path\n",
    "\n",
    "paths = dict(data = Path('../data/'))\n",
    "\n",
    "device = 'cuda:0'\n",
    "\n",
    "use_cuda = True"
   ]
  },
  {
   "cell_type": "code",
   "execution_count": 4,
   "metadata": {},
   "outputs": [],
   "source": [
    "import matplotlib.pyplot as plt\n",
    "%matplotlib inline"
   ]
  },
  {
   "cell_type": "code",
   "execution_count": 5,
   "metadata": {},
   "outputs": [],
   "source": [
    "%matplotlib inline"
   ]
  },
  {
   "cell_type": "code",
   "execution_count": null,
   "metadata": {},
   "outputs": [],
   "source": []
  },
  {
   "cell_type": "markdown",
   "metadata": {},
   "source": [
    "# Set up models"
   ]
  },
  {
   "cell_type": "raw",
   "metadata": {},
   "source": [
    "slen = 30\n",
    "tile_slen = 3"
   ]
  },
  {
   "cell_type": "raw",
   "metadata": {},
   "source": [
    "decoder_setup = DecoderSetup(paths, device)"
   ]
  },
  {
   "cell_type": "raw",
   "metadata": {},
   "source": [
    "psf_params = decoder_setup.get_fitted_psf_params()\n",
    "batch_size = 128 if use_cuda else 1\n",
    "n_images = 1280 if use_cuda else 1"
   ]
  },
  {
   "cell_type": "raw",
   "metadata": {},
   "source": [
    "star_dataset = decoder_setup.get_star_dataset(\n",
    "        psf_params, n_bands=1, \n",
    "        slen=slen, tile_slen = tile_slen, \n",
    "        max_sources_per_tile=2,\n",
    "        min_sources_per_tile=0,\n",
    "        # this is so that the avg. number of sources \n",
    "        # a 30 x 30 image is 3\n",
    "        mean_sources_per_tile=0.01,\n",
    "        batch_size=batch_size, n_images=n_images\n",
    "    )\n"
   ]
  },
  {
   "cell_type": "raw",
   "metadata": {},
   "source": [
    "params = star_dataset.get_batch()"
   ]
  },
  {
   "cell_type": "raw",
   "metadata": {},
   "source": [
    "plt.matshow(params['images'].detach().cpu()[0, 0])"
   ]
  },
  {
   "cell_type": "raw",
   "metadata": {},
   "source": [
    "params['n_sources'].float().mean()"
   ]
  },
  {
   "cell_type": "raw",
   "metadata": {},
   "source": []
  },
  {
   "cell_type": "raw",
   "metadata": {},
   "source": [
    "# set up encoder and train"
   ]
  },
  {
   "cell_type": "raw",
   "metadata": {},
   "source": [
    "encoder_setup = EncoderSetup(gpus = 1, device = device)"
   ]
  },
  {
   "cell_type": "raw",
   "metadata": {},
   "source": [
    "n_epochs = 120 if use_cuda else 1\n",
    "trained_encoder = encoder_setup.get_trained_encoder(star_dataset, \n",
    "                                                    n_epochs=n_epochs, \n",
    "                                                    ptile_slen=star_dataset.tile_slen,\n",
    "                                                    tile_slen=star_dataset.tile_slen,\n",
    "                                                    max_detections=star_dataset.max_sources_per_tile\n",
    "                                                   )"
   ]
  },
  {
   "cell_type": "raw",
   "metadata": {},
   "source": []
  },
  {
   "cell_type": "markdown",
   "metadata": {},
   "source": [
    "# Evaluate"
   ]
  },
  {
   "cell_type": "markdown",
   "metadata": {},
   "source": [
    "### Evaluate on saved test image"
   ]
  },
  {
   "cell_type": "code",
   "execution_count": 33,
   "metadata": {},
   "outputs": [],
   "source": [
    "test_star = torch.load(paths[\"data\"].joinpath(\"3_star_test.pt\"))\n",
    "test_image = test_star[\"images\"].to(device)"
   ]
  },
  {
   "cell_type": "code",
   "execution_count": 34,
   "metadata": {},
   "outputs": [
    {
     "data": {
      "text/plain": [
       "torch.Size([1, 1, 30, 30])"
      ]
     },
     "execution_count": 34,
     "metadata": {},
     "output_type": "execute_result"
    }
   ],
   "source": [
    "test_image.shape"
   ]
  },
  {
   "cell_type": "code",
   "execution_count": 35,
   "metadata": {},
   "outputs": [],
   "source": [
    "with torch.no_grad():\n",
    "    # get the estimated params\n",
    "    trained_encoder.eval()\n",
    "    (\n",
    "        n_sources_per_tile,\n",
    "        locs_per_tile,\n",
    "        galaxy_params_per_tile,\n",
    "        log_fluxes_per_tile,\n",
    "        galaxy_bool_per_tile,\n",
    "    ) = trained_encoder.map_estimate(test_image)\n",
    "    \n",
    "    (\n",
    "        n_sources,\n",
    "        locs,\n",
    "        galaxy_params,\n",
    "        log_fluxes,\n",
    "        galaxy_bool,\n",
    "    ) = trained_encoder.get_full_params_from_sampled_params(n_sources_per_tile,\n",
    "                                                            locs_per_tile,\n",
    "                                                            galaxy_params_per_tile,\n",
    "                                                            log_fluxes_per_tile,\n",
    "                                                            galaxy_bool_per_tile)"
   ]
  },
  {
   "cell_type": "code",
   "execution_count": 42,
   "metadata": {},
   "outputs": [],
   "source": [
    "torch.save(trained_encoder.state_dict(), 'star_encoder')"
   ]
  },
  {
   "cell_type": "code",
   "execution_count": 43,
   "metadata": {},
   "outputs": [
    {
     "data": {
      "text/plain": [
       "<All keys matched successfully>"
      ]
     },
     "execution_count": 43,
     "metadata": {},
     "output_type": "execute_result"
    }
   ],
   "source": [
    "trained_encoder.load_state_dict(torch.load('star_encoder'))"
   ]
  },
  {
   "cell_type": "code",
   "execution_count": null,
   "metadata": {},
   "outputs": [],
   "source": []
  },
  {
   "cell_type": "code",
   "execution_count": 36,
   "metadata": {},
   "outputs": [
    {
     "data": {
      "text/plain": [
       "<matplotlib.collections.PathCollection at 0x7fe24f154b50>"
      ]
     },
     "execution_count": 36,
     "metadata": {},
     "output_type": "execute_result"
    },
    {
     "data": {
      "image/png": "[encoded data removed]",
      "text/plain": [
       "<Figure size 288x288 with 1 Axes>"
      ]
     },
     "metadata": {
      "needs_background": "light"
     },
     "output_type": "display_data"
    }
   ],
   "source": [
    "plt.matshow(test_image[0, 0].cpu())\n",
    "plt.scatter(test_star['locs'][0, :, 1] * slen - 0.5, \n",
    "            test_star['locs'][0, :, 0] * slen - 0.5, color = 'blue')\n",
    "\n",
    "plt.scatter(locs.cpu()[0, :, 1] * slen - 0.5, \n",
    "            locs.cpu()[0, :, 0] * slen - 0.5, color = 'red', marker = 'x')\n"
   ]
  },
  {
   "cell_type": "code",
   "execution_count": 37,
   "metadata": {},
   "outputs": [],
   "source": [
    "# test n_sources and locs\n",
    "assert n_sources == test_star[\"n_sources\"].to(device)"
   ]
  },
  {
   "cell_type": "code",
   "execution_count": 38,
   "metadata": {},
   "outputs": [
    {
     "data": {
      "text/plain": [
       "tensor([3.], device='cuda:0')"
      ]
     },
     "execution_count": 38,
     "metadata": {},
     "output_type": "execute_result"
    }
   ],
   "source": [
    "n_sources"
   ]
  },
  {
   "cell_type": "code",
   "execution_count": 39,
   "metadata": {},
   "outputs": [
    {
     "name": "stdout",
     "output_type": "stream",
     "text": [
      "tensor([[[ 0.2251, -0.1218],\n",
      "         [ 0.4283,  0.0158],\n",
      "         [ 0.1610,  0.1760]]], device='cuda:0')\n"
     ]
    }
   ],
   "source": [
    "diff_locs = test_star[\"locs\"].sort(1)[0].to(device) - locs.sort(1)[0]\n",
    "diff_locs *= test_image.size(-1)\n",
    "print(diff_locs)\n",
    "assert diff_locs.abs().max() <= 0.5\n",
    "\n"
   ]
  },
  {
   "cell_type": "code",
   "execution_count": null,
   "metadata": {},
   "outputs": [],
   "source": []
  },
  {
   "cell_type": "code",
   "execution_count": 40,
   "metadata": {},
   "outputs": [],
   "source": [
    "# test fluxes\n",
    "diff = test_star[\"log_fluxes\"].sort(1)[0].to(device) - log_fluxes.sort(1)[0]\n",
    "assert torch.all(diff.abs() <= log_fluxes.sort(1)[0].abs() * 0.10)\n",
    "assert torch.all(\n",
    "    diff.abs() <= test_star[\"log_fluxes\"].sort(1)[0].abs().to(device) * 0.10\n",
    ")"
   ]
  },
  {
   "cell_type": "code",
   "execution_count": null,
   "metadata": {},
   "outputs": [],
   "source": []
  },
  {
   "cell_type": "code",
   "execution_count": null,
   "metadata": {},
   "outputs": [],
   "source": []
  },
  {
   "cell_type": "code",
   "execution_count": null,
   "metadata": {},
   "outputs": [],
   "source": []
  },
  {
   "cell_type": "code",
   "execution_count": null,
   "metadata": {},
   "outputs": [],
   "source": [
    "# class TestStarWakeNet:\n",
    "#     @pytest.fixture(scope=\"class\")\n",
    "#     def init_psf_setup(self, decoder_setup, device_setup):\n",
    "#         # initialize psf params, just add 1 to each sigmas\n",
    "#         fitted_psf_params = decoder_setup.get_fitted_psf_params()\n",
    "#         init_psf_params = fitted_psf_params.clone()[None, 0]\n",
    "#         init_psf_params[0, 1:3] += torch.tensor([1.0, 1.0]).to(device_setup.device)\n",
    "#         init_psf = PowerLawPSF(init_psf_params).forward().detach()\n",
    "#         return {\"init_psf_params\": init_psf_params, \"init_psf\": init_psf}\n",
    "\n",
    "#     def test_star_wake(\n",
    "#         self, trained_encoder, star_dataset, init_psf_setup, paths, device_setup\n",
    "#     ):\n",
    "#         # load the test image\n",
    "#         # 3-stars 30*30 pixels.\n",
    "#         test_star = torch.load(paths[\"data\"].joinpath(\"3_star_test.pt\"))\n",
    "#         test_image = test_star[\"images\"]\n",
    "#         test_slen = test_image.size(-1)\n",
    "\n",
    "#         # TODO: Reuse these when creating the background in the fixture\n",
    "#         # initialize background params, which will create the true background\n",
    "#         init_background_params = torch.zeros(1, 3, device=device_setup.device)\n",
    "#         init_background_params[0, 0] = 686.0\n",
    "\n",
    "#         n_samples = 1\n",
    "#         hparams = {\"n_samples\": n_samples, \"lr\": 0.001}\n",
    "#         image_decoder = star_dataset.image_decoder\n",
    "#         assert image_decoder.slen == test_slen\n",
    "#         wake_phase_model = wake.WakeNet(\n",
    "#             trained_encoder,\n",
    "#             image_decoder,\n",
    "#             test_image,\n",
    "#             init_background_params,\n",
    "#             hparams,\n",
    "#         )\n",
    "\n",
    "#         # run the wake-phase training\n",
    "#         n_epochs = 1\n",
    "\n",
    "#         wake_trainer = pl.Trainer(\n",
    "#             gpus=device_setup.gpus,\n",
    "#             profiler=None,\n",
    "#             logger=False,\n",
    "#             checkpoint_callback=False,\n",
    "#             min_epochs=n_epochs,\n",
    "#             max_epochs=n_epochs,\n",
    "#             reload_dataloaders_every_epoch=True,\n",
    "#         )\n",
    "\n",
    "#         wake_trainer.fit(wake_phase_model)\n"
   ]
  },
  {
   "cell_type": "code",
   "execution_count": null,
   "metadata": {},
   "outputs": [],
   "source": []
  },
  {
   "cell_type": "code",
   "execution_count": null,
   "metadata": {},
   "outputs": [],
   "source": []
  }
 ],
 "metadata": {
  "kernelspec": {
   "display_name": "celeste_py",
   "language": "python",
   "name": "celeste_py"
  },
  "language_info": {
   "codemirror_mode": {
    "name": "ipython",
    "version": 3
   },
   "file_extension": ".py",
   "mimetype": "text/x-python",
   "name": "python",
   "nbconvert_exporter": "python",
   "pygments_lexer": "ipython3",
   "version": "3.7.7"
  }
 },
 "nbformat": 4,
 "nbformat_minor": 2
}

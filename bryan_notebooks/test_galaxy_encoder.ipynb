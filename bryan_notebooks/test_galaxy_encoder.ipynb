{
 "cells": [
  {
   "cell_type": "code",
   "execution_count": 1,
   "metadata": {},
   "outputs": [],
   "source": [
    "import pytest\n",
    "import torch"
   ]
  },
  {
   "cell_type": "code",
   "execution_count": 2,
   "metadata": {},
   "outputs": [],
   "source": [
    "import sys\n",
    "sys.path.insert(0, '../tests/')"
   ]
  },
  {
   "cell_type": "code",
   "execution_count": 3,
   "metadata": {},
   "outputs": [],
   "source": [
    "from conftest import *\n",
    "from pathlib import Path\n",
    "\n",
    "paths = dict(data = Path('../data/'))\n",
    "\n",
    "device = 'cuda:0'\n",
    "\n",
    "use_cuda = True"
   ]
  },
  {
   "cell_type": "code",
   "execution_count": 4,
   "metadata": {},
   "outputs": [],
   "source": [
    "import matplotlib.pyplot as plt\n",
    "%matplotlib inline"
   ]
  },
  {
   "cell_type": "code",
   "execution_count": 5,
   "metadata": {},
   "outputs": [],
   "source": [
    "%matplotlib inline"
   ]
  },
  {
   "cell_type": "markdown",
   "metadata": {},
   "source": [
    "# Set up models"
   ]
  },
  {
   "cell_type": "code",
   "execution_count": null,
   "metadata": {},
   "outputs": [],
   "source": [
    "slen = 50\n",
    "tile_slen = slen"
   ]
  },
  {
   "cell_type": "code",
   "execution_count": null,
   "metadata": {},
   "outputs": [],
   "source": [
    "decoder_setup = DecoderSetup(paths, device)"
   ]
  },
  {
   "cell_type": "code",
   "execution_count": 8,
   "metadata": {},
   "outputs": [],
   "source": [
    "use_cuda = True\n",
    "\n",
    "n_epochs = 100 if use_cuda else 1\n",
    "\n",
    "# simulates either 1 or 2 galaxies in a 50 x 50 image\n",
    "# the input to the encoder is the 50 x 50 image\n",
    "slen = 50\n",
    "tile_slen = slen"
   ]
  },
  {
   "cell_type": "code",
   "execution_count": 9,
   "metadata": {},
   "outputs": [],
   "source": [
    "galaxy_dataset = decoder_setup.get_galaxy_dataset(\n",
    "            slen=slen,\n",
    "            tile_slen=tile_slen,\n",
    "            batch_size=64 if use_cuda else 2,\n",
    "            n_images=640 if use_cuda else 2,\n",
    "            max_sources_per_tile=2,\n",
    "            min_sources_per_tile=1,\n",
    "            # this is so that prob(n_source = 1) \\approx prob(n_source = 2) \\approx = 0.5\n",
    "            # under the poisson prior\n",
    "            mean_sources_per_tile=1.67\n",
    "        )"
   ]
  },
  {
   "cell_type": "code",
   "execution_count": 10,
   "metadata": {},
   "outputs": [],
   "source": [
    "params = galaxy_dataset.get_batch()"
   ]
  },
  {
   "cell_type": "code",
   "execution_count": 11,
   "metadata": {},
   "outputs": [
    {
     "data": {
      "text/plain": [
       "tensor(0.3281, device='cuda:0')"
      ]
     },
     "execution_count": 11,
     "metadata": {},
     "output_type": "execute_result"
    }
   ],
   "source": [
    "(params['n_sources'] == 1).float().mean()"
   ]
  },
  {
   "cell_type": "code",
   "execution_count": 12,
   "metadata": {},
   "outputs": [
    {
     "data": {
      "text/plain": [
       "<matplotlib.image.AxesImage at 0x7fd78501a910>"
      ]
     },
     "execution_count": 12,
     "metadata": {},
     "output_type": "execute_result"
    },
    {
     "data": {
      "image/png": "[encoded data removed]",
      "text/plain": [
       "<Figure size 288x288 with 1 Axes>"
      ]
     },
     "metadata": {
      "needs_background": "light"
     },
     "output_type": "display_data"
    }
   ],
   "source": [
    "plt.matshow(params['images'].detach().cpu()[0, 0])"
   ]
  },
  {
   "cell_type": "code",
   "execution_count": null,
   "metadata": {},
   "outputs": [],
   "source": []
  },
  {
   "cell_type": "markdown",
   "metadata": {},
   "source": [
    "# Train"
   ]
  },
  {
   "cell_type": "code",
   "execution_count": 13,
   "metadata": {},
   "outputs": [],
   "source": [
    "encoder_setup = EncoderSetup(gpus = 1, device = device)"
   ]
  },
  {
   "cell_type": "code",
   "execution_count": 14,
   "metadata": {},
   "outputs": [
    {
     "name": "stderr",
     "output_type": "stream",
     "text": [
      "GPU available: True, used: True\n",
      "TPU available: False, using: 0 TPU cores\n",
      "CUDA_VISIBLE_DEVICES: [0]\n",
      "\n",
      "  | Name          | Type         | Params\n",
      "-----------------------------------------------\n",
      "0 | image_encoder | ImageEncoder | 814 K \n",
      "/home/runingli/anaconda3/envs/celeste_py/lib/python3.7/site-packages/pytorch_lightning/utilities/distributed.py:25: UserWarning: The dataloader, val dataloader 0, does not have many workers which may be a bottleneck. Consider increasing the value of the `num_workers` argument` (try 64 which is the number of cpus on this machine) in the `DataLoader` init to improve performance.\n",
      "  warnings.warn(*args, **kwargs)\n"
     ]
    },
    {
     "name": "stdout",
     "output_type": "stream",
     "text": [
      "Training: 0it [00:00, ?it/s]"
     ]
    },
    {
     "name": "stderr",
     "output_type": "stream",
     "text": [
      "/home/runingli/anaconda3/envs/celeste_py/lib/python3.7/site-packages/pytorch_lightning/utilities/distributed.py:25: UserWarning: The dataloader, train dataloader, does not have many workers which may be a bottleneck. Consider increasing the value of the `num_workers` argument` (try 64 which is the number of cpus on this machine) in the `DataLoader` init to improve performance.\n",
      "  warnings.warn(*args, **kwargs)\n"
     ]
    },
    {
     "name": "stdout",
     "output_type": "stream",
     "text": [
      "Epoch 1: : 10it [00:02,  3.93it/s, loss=4.502]\n",
      "Validating: 0it [00:00, ?it/s]\n",
      "Epoch 1: : 13it [00:02,  4.90it/s, loss=4.502]\n",
      "Epoch 1: : 16it [00:02,  5.79it/s, loss=4.502]\n",
      "Epoch 1: : 20it [00:03,  5.97it/s, loss=4.502]\n",
      "Epoch 2: : 10it [00:02,  3.97it/s, loss=3.966]\n",
      "Epoch 2: : 12it [00:02,  4.64it/s, loss=3.966]\n",
      "Epoch 2: : 16it [00:02,  5.91it/s, loss=3.966]\n",
      "Epoch 2: : 20it [00:03,  5.92it/s, loss=3.966]\n",
      "Epoch 3: : 10it [00:02,  3.99it/s, loss=2.990]\n",
      "Epoch 3: : 12it [00:02,  4.67it/s, loss=2.990]\n",
      "Epoch 3: : 16it [00:02,  5.94it/s, loss=2.990]\n",
      "Epoch 3: : 20it [00:03,  6.05it/s, loss=2.990]\n",
      "Epoch 4: : 10it [00:02,  3.98it/s, loss=2.199]\n",
      "Epoch 4: : 12it [00:02,  4.65it/s, loss=2.199]\n",
      "Validating: 3it [00:00, 29.19it/s]\n",
      "Epoch 4: : 16it [00:02,  5.88it/s, loss=2.199]\n",
      "Epoch 4: : 20it [00:03,  6.00it/s, loss=2.199]\n",
      "Epoch 5: : 10it [00:02,  3.99it/s, loss=1.464]\n",
      "Epoch 5: : 12it [00:02,  4.67it/s, loss=1.464]\n",
      "Epoch 5: : 16it [00:02,  5.94it/s, loss=1.464]\n",
      "Epoch 5: : 20it [00:03,  5.90it/s, loss=1.464]\n",
      "Epoch 6: : 10it [00:02,  3.98it/s, loss=0.680]\n",
      "Epoch 6: : 12it [00:02,  4.65it/s, loss=0.680]\n",
      "Validating: 3it [00:00, 28.84it/s]\n",
      "Epoch 6: : 16it [00:02,  5.87it/s, loss=0.680]\n",
      "Epoch 6: : 20it [00:03,  5.97it/s, loss=0.680]\n",
      "Epoch 7: : 10it [00:02,  3.97it/s, loss=-0.070]\n",
      "Epoch 7: : 12it [00:02,  4.64it/s, loss=-0.070]\n",
      "Validating: 3it [00:00, 28.92it/s]\n",
      "Epoch 7: : 16it [00:02,  5.86it/s, loss=-0.070]\n",
      "Epoch 7: : 20it [00:03,  5.95it/s, loss=-0.070]\n",
      "Epoch 8: : 10it [00:02,  3.99it/s, loss=-0.741]\n",
      "Epoch 8: : 12it [00:02,  4.65it/s, loss=-0.741]\n",
      "Validating: 3it [00:00, 29.00it/s]\n",
      "Epoch 8: : 16it [00:02,  5.88it/s, loss=-0.741]\n",
      "Epoch 8: : 20it [00:03,  5.65it/s, loss=-0.741]\n",
      "Epoch 9: : 10it [00:02,  3.96it/s, loss=-1.373]\n",
      "Epoch 9: : 12it [00:02,  4.63it/s, loss=-1.373]\n",
      "Epoch 9: : 16it [00:02,  5.89it/s, loss=-1.373]\n",
      "Epoch 9: : 20it [00:03,  6.23it/s, loss=-1.373]\n",
      "Epoch 10: : 10it [00:02,  3.98it/s, loss=-1.890]\n",
      "Epoch 10: : 12it [00:02,  4.66it/s, loss=-1.890]\n",
      "Epoch 10: : 16it [00:02,  5.92it/s, loss=-1.890]\n",
      "Epoch 10: : 20it [00:03,  6.26it/s, loss=-1.890]\n",
      "Epoch 11: : 10it [00:02,  3.99it/s, loss=-2.085]\n",
      "Epoch 11: : 12it [00:02,  4.67it/s, loss=-2.085]\n",
      "Epoch 11: : 16it [00:02,  5.93it/s, loss=-2.085]\n",
      "Epoch 11: : 20it [00:03,  5.67it/s, loss=-2.085]\n",
      "Epoch 12: : 10it [00:02,  3.98it/s, loss=-2.313]\n",
      "Epoch 12: : 12it [00:02,  4.64it/s, loss=-2.313]\n",
      "Validating: 3it [00:00, 28.60it/s]\n",
      "Epoch 12: : 16it [00:02,  5.86it/s, loss=-2.313]\n",
      "Epoch 12: : 20it [00:03,  5.94it/s, loss=-2.313]\n",
      "Epoch 13: : 10it [00:02,  3.96it/s, loss=-2.575]\n",
      "Epoch 13: : 12it [00:02,  4.61it/s, loss=-2.575]\n",
      "Validating: 3it [00:00, 28.70it/s]\n",
      "Epoch 13: : 16it [00:02,  5.84it/s, loss=-2.575]\n",
      "Epoch 13: : 20it [00:03,  5.90it/s, loss=-2.575]\n",
      "Epoch 14: : 10it [00:02,  3.96it/s, loss=-2.753]\n",
      "Epoch 14: : 12it [00:02,  4.63it/s, loss=-2.753]\n",
      "Epoch 14: : 16it [00:02,  5.89it/s, loss=-2.753]\n",
      "Epoch 14: : 20it [00:03,  6.26it/s, loss=-2.753]\n",
      "Epoch 15: : 10it [00:02,  3.90it/s, loss=-2.832]\n",
      "Epoch 15: : 12it [00:02,  4.55it/s, loss=-2.832]\n",
      "Validating: 3it [00:00, 28.85it/s]\n",
      "Epoch 15: : 16it [00:02,  5.76it/s, loss=-2.832]\n",
      "Epoch 15: : 20it [00:03,  5.22it/s, loss=-2.832]\n",
      "Epoch 16: : 10it [00:02,  3.98it/s, loss=-2.782]\n",
      "Epoch 16: : 12it [00:02,  4.65it/s, loss=-2.782]\n",
      "Validating: 3it [00:00, 29.11it/s]\n",
      "Epoch 16: : 16it [00:02,  5.87it/s, loss=-2.782]\n",
      "Epoch 16: : 20it [00:03,  5.98it/s, loss=-2.782]\n",
      "Epoch 17: : 10it [00:02,  3.96it/s, loss=-3.093]\n",
      "Epoch 17: : 12it [00:02,  4.63it/s, loss=-3.093]\n",
      "Epoch 17: : 16it [00:02,  5.89it/s, loss=-3.093]\n",
      "Epoch 17: : 20it [00:03,  6.26it/s, loss=-3.093]\n",
      "Epoch 18: : 10it [00:02,  3.95it/s, loss=-3.373]\n",
      "Epoch 18: : 12it [00:02,  4.61it/s, loss=-3.373]\n",
      "Epoch 18: : 16it [00:02,  5.87it/s, loss=-3.373]\n",
      "Epoch 18: : 20it [00:03,  6.22it/s, loss=-3.373]\n",
      "Epoch 19: : 10it [00:02,  3.96it/s, loss=-3.473]\n",
      "Epoch 19: : 12it [00:02,  4.64it/s, loss=-3.473]\n",
      "Epoch 19: : 16it [00:02,  5.90it/s, loss=-3.473]\n",
      "Epoch 19: : 20it [00:03,  6.26it/s, loss=-3.473]\n",
      "Epoch 20: : 10it [00:02,  3.98it/s, loss=-3.527]\n",
      "Epoch 20: : 12it [00:02,  4.65it/s, loss=-3.527]\n",
      "Epoch 20: : 16it [00:02,  5.91it/s, loss=-3.527]\n",
      "Epoch 20: : 20it [00:03,  5.34it/s, loss=-3.527]\n",
      "Epoch 21: : 10it [00:02,  3.98it/s, loss=-3.480]\n",
      "Epoch 21: : 12it [00:02,  4.64it/s, loss=-3.480]\n",
      "Validating: 3it [00:00, 28.82it/s]\n",
      "Epoch 21: : 16it [00:02,  5.87it/s, loss=-3.480]\n",
      "Epoch 21: : 20it [00:03,  5.99it/s, loss=-3.480]\n",
      "Epoch 22: : 10it [00:02,  3.99it/s, loss=-3.502]\n",
      "Epoch 22: : 12it [00:02,  4.67it/s, loss=-3.502]\n",
      "Epoch 22: : 16it [00:02,  5.94it/s, loss=-3.502]\n",
      "Epoch 22: : 20it [00:03,  6.29it/s, loss=-3.502]\n",
      "Epoch 23: : 10it [00:02,  3.99it/s, loss=-3.514]\n",
      "Epoch 23: : 12it [00:02,  4.66it/s, loss=-3.514]\n",
      "Validating: 3it [00:00, 28.74it/s]\n",
      "Epoch 23: : 16it [00:02,  5.89it/s, loss=-3.514]\n",
      "Epoch 23: : 20it [00:03,  5.99it/s, loss=-3.514]\n",
      "Epoch 24: : 10it [00:02,  3.98it/s, loss=-3.591]\n",
      "Epoch 24: : 12it [00:02,  4.65it/s, loss=-3.591]\n",
      "Epoch 24: : 16it [00:02,  5.91it/s, loss=-3.591]\n",
      "Epoch 24: : 20it [00:03,  6.24it/s, loss=-3.591]\n",
      "Epoch 25: : 10it [00:02,  3.98it/s, loss=-3.703]\n",
      "Epoch 25: : 12it [00:02,  4.65it/s, loss=-3.703]\n",
      "Epoch 25: : 16it [00:02,  5.92it/s, loss=-3.703]\n",
      "Epoch 25: : 20it [00:03,  6.23it/s, loss=-3.703]\n",
      "Epoch 26: : 10it [00:02,  3.98it/s, loss=-3.802]\n",
      "Epoch 26: : 12it [00:02,  4.63it/s, loss=-3.802]\n",
      "Validating: 3it [00:00, 28.50it/s]\n",
      "Epoch 26: : 16it [00:02,  5.85it/s, loss=-3.802]\n",
      "Epoch 26: : 20it [00:04,  4.96it/s, loss=-3.802]\n",
      "Epoch 27: : 10it [00:02,  3.99it/s, loss=-3.950]\n",
      "Epoch 27: : 12it [00:02,  4.67it/s, loss=-3.950]\n",
      "Epoch 27: : 16it [00:02,  5.94it/s, loss=-3.950]\n",
      "Epoch 27: : 20it [00:03,  6.31it/s, loss=-3.950]\n",
      "Epoch 28: : 10it [00:02,  4.00it/s, loss=-3.980]\n",
      "Epoch 28: : 12it [00:02,  4.67it/s, loss=-3.980]\n",
      "Epoch 28: : 16it [00:02,  5.94it/s, loss=-3.980]\n",
      "Epoch 28: : 20it [00:03,  6.28it/s, loss=-3.980]\n",
      "Epoch 29: : 10it [00:02,  3.97it/s, loss=-3.864]\n",
      "Epoch 29: : 12it [00:02,  4.64it/s, loss=-3.864]\n",
      "Epoch 29: : 16it [00:02,  5.90it/s, loss=-3.864]\n",
      "Epoch 29: : 20it [00:03,  6.26it/s, loss=-3.864]\n",
      "Epoch 30: : 10it [00:02,  3.97it/s, loss=-3.753]\n",
      "Epoch 30: : 12it [00:02,  4.63it/s, loss=-3.753]\n",
      "Validating: 3it [00:00, 29.11it/s]\n",
      "Epoch 30: : 16it [00:02,  5.86it/s, loss=-3.753]\n",
      "Epoch 30: : 20it [00:03,  5.99it/s, loss=-3.753]\n",
      "Epoch 31: : 10it [00:02,  3.97it/s, loss=-3.694]\n",
      "Epoch 31: : 12it [00:02,  4.65it/s, loss=-3.694]\n",
      "Epoch 31: : 16it [00:02,  5.91it/s, loss=-3.694]\n",
      "Epoch 31: : 20it [00:03,  6.25it/s, loss=-3.694]\n",
      "Epoch 32: : 10it [00:02,  3.99it/s, loss=-3.847]\n",
      "Epoch 32: : 12it [00:02,  4.66it/s, loss=-3.847]\n",
      "Epoch 32: : 16it [00:02,  5.93it/s, loss=-3.847]\n",
      "Epoch 32: : 20it [00:03,  6.30it/s, loss=-3.847]\n",
      "Epoch 33: : 10it [00:02,  3.93it/s, loss=-4.097]\n",
      "Epoch 33: : 12it [00:02,  4.58it/s, loss=-4.097]\n",
      "Validating: 3it [00:00, 28.94it/s]\n",
      "Epoch 33: : 16it [00:02,  5.80it/s, loss=-4.097]\n",
      "Epoch 33: : 20it [00:04,  4.64it/s, loss=-4.097]\n",
      "Epoch 34: : 10it [00:02,  3.99it/s, loss=-4.133]\n",
      "Epoch 34: : 12it [00:02,  4.66it/s, loss=-4.133]\n",
      "Epoch 34: : 16it [00:02,  5.93it/s, loss=-4.133]\n",
      "Epoch 34: : 20it [00:03,  6.29it/s, loss=-4.133]\n",
      "Epoch 35: : 10it [00:02,  3.96it/s, loss=-4.123]\n",
      "Epoch 35: : 12it [00:02,  4.64it/s, loss=-4.123]\n",
      "Epoch 35: : 16it [00:02,  5.90it/s, loss=-4.123]\n",
      "Epoch 35: : 20it [00:03,  6.25it/s, loss=-4.123]\n",
      "Epoch 36: : 10it [00:02,  3.99it/s, loss=-4.046]\n",
      "Epoch 36: : 12it [00:02,  4.67it/s, loss=-4.046]\n",
      "Epoch 36: : 16it [00:02,  5.93it/s, loss=-4.046]\n",
      "Epoch 36: : 20it [00:03,  6.27it/s, loss=-4.046]\n",
      "Epoch 37: : 10it [00:02,  3.96it/s, loss=-4.056]\n",
      "Epoch 37: : 12it [00:02,  4.61it/s, loss=-4.056]\n",
      "Validating: 3it [00:00, 28.48it/s]\n",
      "Epoch 37: : 16it [00:02,  5.83it/s, loss=-4.056]\n",
      "Epoch 37: : 20it [00:03,  5.93it/s, loss=-4.056]\n",
      "Epoch 38: : 10it [00:02,  3.98it/s, loss=-4.154]\n",
      "Epoch 38: : 12it [00:02,  4.64it/s, loss=-4.154]\n",
      "Validating: 3it [00:00, 28.76it/s]\n",
      "Epoch 38: : 16it [00:02,  5.86it/s, loss=-4.154]\n",
      "Epoch 38: : 20it [00:03,  5.97it/s, loss=-4.154]\n",
      "Epoch 39: : 10it [00:02,  4.00it/s, loss=-4.273]\n",
      "Epoch 39: : 12it [00:02,  4.67it/s, loss=-4.273]\n",
      "Epoch 39: : 16it [00:02,  5.94it/s, loss=-4.273]\n",
      "Epoch 39: : 20it [00:03,  6.30it/s, loss=-4.273]\n",
      "Epoch 40: : 10it [00:02,  3.96it/s, loss=-4.407]\n",
      "Epoch 40: : 12it [00:02,  4.64it/s, loss=-4.407]\n",
      "Epoch 40: : 16it [00:02,  5.90it/s, loss=-4.407]\n",
      "Epoch 40: : 20it [00:03,  6.25it/s, loss=-4.407]\n",
      "Epoch 41: : 10it [00:02,  3.99it/s, loss=-4.366]\n",
      "Epoch 41: : 12it [00:02,  4.67it/s, loss=-4.366]\n",
      "Epoch 41: : 16it [00:02,  5.93it/s, loss=-4.366]\n",
      "Epoch 41: : 20it [00:03,  6.29it/s, loss=-4.366]\n",
      "Epoch 42: : 10it [00:02,  4.00it/s, loss=-4.337]\n",
      "Epoch 42: : 12it [00:02,  4.67it/s, loss=-4.337]\n",
      "Epoch 42: : 16it [00:02,  5.94it/s, loss=-4.337]\n",
      "Epoch 42: : 20it [00:03,  6.30it/s, loss=-4.337]\n",
      "Epoch 43: : 10it [00:02,  3.97it/s, loss=-4.310]\n",
      "Epoch 43: : 12it [00:02,  4.64it/s, loss=-4.310]\n",
      "Epoch 43: : 16it [00:02,  5.90it/s, loss=-4.310]\n",
      "Epoch 43: : 20it [00:04,  4.60it/s, loss=-4.310]\n",
      "Epoch 44: : 10it [00:02,  3.96it/s, loss=-4.347]\n",
      "Epoch 44: : 12it [00:02,  4.62it/s, loss=-4.347]\n",
      "Validating: 3it [00:00, 28.87it/s]\n",
      "Epoch 44: : 16it [00:02,  5.84it/s, loss=-4.347]\n",
      "Epoch 44: : 20it [00:03,  5.97it/s, loss=-4.347]\n",
      "Epoch 45: : 10it [00:02,  4.01it/s, loss=-4.465]\n",
      "Epoch 45: : 12it [00:02,  4.69it/s, loss=-4.465]\n",
      "Epoch 45: : 16it [00:02,  5.96it/s, loss=-4.465]\n",
      "Epoch 45: : 20it [00:03,  6.30it/s, loss=-4.465]\n",
      "Epoch 46: : 10it [00:02,  3.98it/s, loss=-4.453]\n",
      "Epoch 46: : 12it [00:02,  4.66it/s, loss=-4.453]\n",
      "Epoch 46: : 16it [00:02,  5.93it/s, loss=-4.453]\n",
      "Epoch 46: : 20it [00:03,  6.30it/s, loss=-4.453]\n",
      "Epoch 47: : 10it [00:02,  4.02it/s, loss=-4.500]\n",
      "Epoch 47: : 12it [00:02,  4.71it/s, loss=-4.500]\n",
      "Epoch 47: : 16it [00:02,  5.98it/s, loss=-4.500]\n",
      "Epoch 47: : 20it [00:03,  6.36it/s, loss=-4.500]\n",
      "Epoch 48: : 10it [00:02,  4.02it/s, loss=-4.607]\n",
      "Epoch 48: : 12it [00:02,  4.70it/s, loss=-4.607]\n",
      "Epoch 48: : 16it [00:02,  5.98it/s, loss=-4.607]\n",
      "Epoch 48: : 20it [00:03,  6.36it/s, loss=-4.607]\n",
      "Epoch 49: : 10it [00:02,  4.02it/s, loss=-4.646]\n",
      "Epoch 49: : 12it [00:02,  4.70it/s, loss=-4.646]\n",
      "Epoch 49: : 16it [00:02,  5.98it/s, loss=-4.646]\n",
      "Epoch 49: : 20it [00:03,  6.36it/s, loss=-4.646]\n",
      "Epoch 50: : 10it [00:02,  4.03it/s, loss=-4.465]\n",
      "Epoch 50: : 12it [00:02,  4.72it/s, loss=-4.465]\n",
      "Epoch 50: : 16it [00:02,  6.00it/s, loss=-4.465]\n",
      "Epoch 50: : 20it [00:03,  6.36it/s, loss=-4.465]\n",
      "Epoch 51: : 10it [00:02,  4.03it/s, loss=-4.297]\n",
      "Epoch 51: : 12it [00:02,  4.71it/s, loss=-4.297]\n",
      "Epoch 51: : 16it [00:02,  5.99it/s, loss=-4.297]\n",
      "Epoch 51: : 20it [00:03,  6.32it/s, loss=-4.297]\n",
      "Epoch 52: : 10it [00:02,  4.02it/s, loss=-4.479]\n",
      "Epoch 52: : 12it [00:02,  4.70it/s, loss=-4.479]\n",
      "Epoch 52: : 16it [00:02,  5.98it/s, loss=-4.479]\n",
      "Epoch 52: : 20it [00:03,  6.34it/s, loss=-4.479]\n",
      "Epoch 53: : 10it [00:02,  4.02it/s, loss=-4.438]\n",
      "Epoch 53: : 12it [00:02,  4.70it/s, loss=-4.438]\n",
      "Epoch 53: : 16it [00:02,  5.98it/s, loss=-4.438]\n",
      "Epoch 53: : 20it [00:03,  6.33it/s, loss=-4.438]\n",
      "Epoch 54: : 10it [00:02,  4.02it/s, loss=-4.447]\n",
      "Epoch 54: : 12it [00:02,  4.71it/s, loss=-4.447]\n",
      "Epoch 54: : 16it [00:02,  5.98it/s, loss=-4.447]\n",
      "Epoch 54: : 20it [00:04,  4.36it/s, loss=-4.447]\n",
      "Epoch 55: : 10it [00:02,  3.94it/s, loss=-4.593]\n",
      "Epoch 55: : 12it [00:02,  4.59it/s, loss=-4.593]\n",
      "Validating: 3it [00:00, 27.86it/s]\n",
      "Epoch 55: : 16it [00:02,  5.80it/s, loss=-4.593]\n",
      "Epoch 55: : 20it [00:03,  5.99it/s, loss=-4.593]\n",
      "Epoch 56: : 10it [00:02,  3.90it/s, loss=-4.560]\n",
      "Epoch 56: : 12it [00:02,  4.55it/s, loss=-4.560]\n",
      "Validating: 3it [00:00, 28.54it/s]\n",
      "Epoch 56: : 16it [00:02,  5.75it/s, loss=-4.560]\n",
      "Epoch 56: : 20it [00:03,  5.87it/s, loss=-4.560]\n",
      "Epoch 57: : 10it [00:02,  3.89it/s, loss=-4.736]\n",
      "Epoch 57: : 12it [00:02,  4.53it/s, loss=-4.736]\n",
      "Validating: 3it [00:00, 28.11it/s]\n",
      "Epoch 57: : 16it [00:02,  5.72it/s, loss=-4.736]\n",
      "Epoch 57: : 20it [00:03,  5.94it/s, loss=-4.736]\n",
      "Epoch 58: : 10it [00:02,  3.87it/s, loss=-4.867]\n",
      "Epoch 58: : 12it [00:02,  4.50it/s, loss=-4.867]\n",
      "Validating: 3it [00:00, 26.53it/s]\n",
      "Epoch 58: : 16it [00:02,  5.68it/s, loss=-4.867]\n",
      "Epoch 58: : 20it [00:03,  5.69it/s, loss=-4.867]\n",
      "Epoch 59: : 10it [00:02,  3.90it/s, loss=-4.783]\n",
      "Epoch 59: : 12it [00:02,  4.55it/s, loss=-4.783]\n",
      "Validating: 3it [00:00, 28.81it/s]\n",
      "Epoch 59: : 16it [00:02,  5.76it/s, loss=-4.783]\n",
      "Epoch 59: : 20it [00:03,  5.88it/s, loss=-4.783]\n",
      "Epoch 60: : 10it [00:02,  3.89it/s, loss=-4.833]\n",
      "Epoch 60: : 12it [00:02,  4.51it/s, loss=-4.833]\n",
      "Validating: 3it [00:00, 24.59it/s]\n",
      "Epoch 60: : 16it [00:02,  5.71it/s, loss=-4.833]\n",
      "Epoch 60: : 20it [00:03,  5.83it/s, loss=-4.833]\n",
      "Epoch 61: : 10it [00:02,  4.01it/s, loss=-4.545]\n",
      "Epoch 61: : 12it [00:02,  4.68it/s, loss=-4.545]\n",
      "Epoch 61: : 16it [00:02,  5.96it/s, loss=-4.545]\n",
      "Epoch 61: : 20it [00:03,  6.30it/s, loss=-4.545]\n",
      "Epoch 62: : 10it [00:02,  4.00it/s, loss=-4.290]\n",
      "Epoch 62: : 12it [00:02,  4.67it/s, loss=-4.290]\n",
      "Epoch 62: : 16it [00:02,  5.94it/s, loss=-4.290]\n",
      "Epoch 62: : 20it [00:03,  6.30it/s, loss=-4.290]\n",
      "Epoch 63: : 10it [00:02,  4.01it/s, loss=-4.598]\n",
      "Epoch 63: : 12it [00:02,  4.68it/s, loss=-4.598]\n",
      "Epoch 63: : 16it [00:02,  5.96it/s, loss=-4.598]\n",
      "Epoch 63: : 20it [00:03,  6.20it/s, loss=-4.598]\n",
      "Epoch 64: : 10it [00:02,  4.00it/s, loss=-4.744]\n",
      "Epoch 64: : 12it [00:02,  4.68it/s, loss=-4.744]\n",
      "Epoch 64: : 16it [00:02,  5.95it/s, loss=-4.744]\n",
      "Epoch 64: : 20it [00:03,  6.29it/s, loss=-4.744]\n",
      "Epoch 65: : 10it [00:02,  4.00it/s, loss=-4.869]\n",
      "Epoch 65: : 12it [00:02,  4.67it/s, loss=-4.869]\n",
      "Epoch 65: : 16it [00:02,  5.94it/s, loss=-4.869]\n",
      "Epoch 65: : 20it [00:03,  6.26it/s, loss=-4.869]\n",
      "Epoch 66: : 10it [00:02,  3.98it/s, loss=-4.890]\n",
      "Epoch 66: : 12it [00:02,  4.65it/s, loss=-4.890]\n",
      "Epoch 66: : 16it [00:02,  5.92it/s, loss=-4.890]\n",
      "Epoch 66: : 20it [00:03,  6.24it/s, loss=-4.890]\n",
      "Epoch 67: : 10it [00:02,  3.98it/s, loss=-4.682]\n",
      "Epoch 67: : 12it [00:02,  4.65it/s, loss=-4.682]\n",
      "Validating: 3it [00:00, 28.89it/s]\n",
      "Epoch 67: : 16it [00:02,  5.88it/s, loss=-4.682]\n",
      "Epoch 67: : 20it [00:03,  5.96it/s, loss=-4.682]\n",
      "Epoch 68: : 10it [00:02,  4.01it/s, loss=-4.430]\n",
      "Epoch 68: : 12it [00:02,  4.69it/s, loss=-4.430]\n",
      "Epoch 68: : 16it [00:02,  5.96it/s, loss=-4.430]\n",
      "Epoch 68: : 20it [00:03,  6.30it/s, loss=-4.430]\n",
      "Epoch 69: : 10it [00:02,  4.01it/s, loss=-4.499]\n",
      "Epoch 69: : 12it [00:02,  4.69it/s, loss=-4.499]\n",
      "Epoch 69: : 16it [00:02,  5.96it/s, loss=-4.499]\n",
      "Epoch 69: : 20it [00:04,  4.01it/s, loss=-4.499]\n",
      "Epoch 70: : 10it [00:02,  4.00it/s, loss=-4.677]\n",
      "Epoch 70: : 12it [00:02,  4.68it/s, loss=-4.677]\n",
      "Epoch 70: : 16it [00:02,  5.95it/s, loss=-4.677]\n",
      "Epoch 70: : 20it [00:03,  6.30it/s, loss=-4.677]\n",
      "Epoch 71: : 10it [00:02,  4.01it/s, loss=-4.640]\n",
      "Epoch 71: : 12it [00:02,  4.67it/s, loss=-4.640]\n",
      "Validating: 3it [00:00, 28.76it/s]\n",
      "Epoch 71: : 16it [00:02,  5.90it/s, loss=-4.640]\n",
      "Epoch 71: : 20it [00:03,  5.93it/s, loss=-4.640]\n",
      "Epoch 72: : 10it [00:02,  4.00it/s, loss=-4.663]\n",
      "Epoch 72: : 12it [00:02,  4.67it/s, loss=-4.663]\n",
      "Epoch 72: : 16it [00:02,  5.94it/s, loss=-4.663]\n",
      "Epoch 72: : 20it [00:03,  6.28it/s, loss=-4.663]\n",
      "Epoch 73: : 10it [00:02,  4.00it/s, loss=-4.719]\n",
      "Epoch 73: : 12it [00:02,  4.67it/s, loss=-4.719]\n",
      "Validating: 3it [00:00, 29.10it/s]\n",
      "Epoch 73: : 16it [00:02,  5.90it/s, loss=-4.719]\n",
      "Epoch 73: : 20it [00:03,  6.01it/s, loss=-4.719]\n",
      "Epoch 74: : 10it [00:02,  3.96it/s, loss=-4.844]\n",
      "Epoch 74: : 12it [00:02,  4.63it/s, loss=-4.844]\n",
      "Epoch 74: : 16it [00:02,  5.89it/s, loss=-4.844]\n",
      "Epoch 74: : 20it [00:03,  6.19it/s, loss=-4.844]\n",
      "Epoch 75: : 10it [00:02,  3.94it/s, loss=-4.777]\n",
      "Epoch 75: : 12it [00:02,  4.58it/s, loss=-4.777]\n",
      "Validating: 3it [00:00, 25.72it/s]\n",
      "Epoch 75: : 16it [00:02,  5.75it/s, loss=-4.777]\n",
      "Epoch 75: : 20it [00:03,  5.81it/s, loss=-4.777]\n",
      "Epoch 76: : 10it [00:02,  3.91it/s, loss=-4.915]\n",
      "Epoch 76: : 12it [00:02,  4.56it/s, loss=-4.915]\n",
      "Validating: 3it [00:00, 28.78it/s]\n",
      "Epoch 76: : 16it [00:02,  5.77it/s, loss=-4.915]\n",
      "Epoch 76: : 20it [00:03,  5.88it/s, loss=-4.915]\n",
      "Epoch 77: : 10it [00:02,  3.94it/s, loss=-5.047]\n",
      "Epoch 77: : 12it [00:02,  4.61it/s, loss=-5.047]\n",
      "Epoch 77: : 16it [00:02,  5.87it/s, loss=-5.047]\n",
      "Epoch 77: : 20it [00:03,  6.22it/s, loss=-5.047]\n",
      "Epoch 78: : 10it [00:02,  3.99it/s, loss=-4.870]\n",
      "Epoch 78: : 12it [00:02,  4.66it/s, loss=-4.870]\n",
      "Validating: 3it [00:00, 29.10it/s]\n",
      "Epoch 78: : 16it [00:02,  5.89it/s, loss=-4.870]\n",
      "Epoch 78: : 20it [00:03,  6.05it/s, loss=-4.870]\n",
      "Epoch 79: : 10it [00:02,  4.01it/s, loss=-4.845]\n",
      "Epoch 79: : 12it [00:02,  4.67it/s, loss=-4.845]\n",
      "Validating: 3it [00:00, 29.18it/s]\n",
      "Epoch 79: : 16it [00:02,  5.90it/s, loss=-4.845]\n",
      "Epoch 79: : 20it [00:03,  6.07it/s, loss=-4.845]\n",
      "Epoch 80: : 10it [00:02,  3.99it/s, loss=-4.780]\n",
      "Epoch 80: : 12it [00:02,  4.65it/s, loss=-4.780]\n",
      "Validating: 3it [00:00, 28.77it/s]\n",
      "Epoch 80: : 16it [00:02,  5.87it/s, loss=-4.780]\n",
      "Epoch 80: : 20it [00:03,  5.97it/s, loss=-4.780]\n",
      "Epoch 81: : 10it [00:02,  3.98it/s, loss=-4.726]\n",
      "Epoch 81: : 12it [00:02,  4.65it/s, loss=-4.726]\n",
      "Validating: 3it [00:00, 28.67it/s]\n",
      "Epoch 81: : 16it [00:02,  5.87it/s, loss=-4.726]\n",
      "Epoch 81: : 20it [00:03,  5.95it/s, loss=-4.726]\n",
      "Epoch 82: : 10it [00:02,  3.98it/s, loss=-4.687]\n",
      "Epoch 82: : 12it [00:02,  4.64it/s, loss=-4.687]\n",
      "Validating: 3it [00:00, 28.86it/s]\n",
      "Epoch 82: : 16it [00:02,  5.86it/s, loss=-4.687]\n",
      "Epoch 82: : 20it [00:03,  5.95it/s, loss=-4.687]\n",
      "Epoch 83: : 10it [00:02,  4.00it/s, loss=-4.672]\n",
      "Epoch 83: : 12it [00:02,  4.66it/s, loss=-4.672]\n",
      "Validating: 3it [00:00, 28.58it/s]\n",
      "Epoch 83: : 16it [00:02,  5.88it/s, loss=-4.672]\n",
      "Epoch 83: : 20it [00:03,  5.97it/s, loss=-4.672]\n",
      "Epoch 84: : 10it [00:02,  3.98it/s, loss=-4.759]\n",
      "Epoch 84: : 12it [00:02,  4.65it/s, loss=-4.759]\n",
      "Epoch 84: : 16it [00:02,  5.92it/s, loss=-4.759]\n",
      "Epoch 84: : 20it [00:03,  6.29it/s, loss=-4.759]\n",
      "Epoch 85: : 10it [00:02,  3.97it/s, loss=-5.039]\n",
      "Epoch 85: : 12it [00:02,  4.63it/s, loss=-5.039]\n",
      "Validating: 3it [00:00, 28.90it/s]\n",
      "Epoch 85: : 16it [00:02,  5.85it/s, loss=-5.039]\n",
      "Epoch 85: : 20it [00:03,  5.91it/s, loss=-5.039]\n",
      "Epoch 86: : 10it [00:02,  3.97it/s, loss=-5.203]\n",
      "Epoch 86: : 12it [00:02,  4.64it/s, loss=-5.203]\n",
      "Epoch 86: : 16it [00:02,  5.90it/s, loss=-5.203]\n",
      "Epoch 86: : 20it [00:03,  6.26it/s, loss=-5.203]\n",
      "Epoch 87: : 10it [00:02,  3.98it/s, loss=-4.955]\n",
      "Epoch 87: : 12it [00:02,  4.66it/s, loss=-4.955]\n",
      "Epoch 87: : 16it [00:02,  5.92it/s, loss=-4.955]\n",
      "Epoch 87: : 20it [00:05,  3.61it/s, loss=-4.955]\n",
      "Epoch 88: : 10it [00:02,  3.98it/s, loss=-4.866]\n",
      "Epoch 88: : 12it [00:02,  4.66it/s, loss=-4.866]\n",
      "Epoch 88: : 16it [00:02,  5.92it/s, loss=-4.866]\n",
      "Epoch 88: : 20it [00:03,  6.15it/s, loss=-4.866]\n",
      "Epoch 89: : 10it [00:02,  3.92it/s, loss=-5.065]\n",
      "Epoch 89: : 12it [00:02,  4.57it/s, loss=-5.065]\n",
      "Validating: 3it [00:00, 28.87it/s]\n",
      "Epoch 89: : 16it [00:02,  5.78it/s, loss=-5.065]\n",
      "Epoch 89: : 20it [00:03,  5.88it/s, loss=-5.065]\n",
      "Epoch 90: : 10it [00:02,  3.95it/s, loss=-4.941]\n",
      "Epoch 90: : 12it [00:02,  4.61it/s, loss=-4.941]\n",
      "Validating: 3it [00:00, 28.87it/s]\n",
      "Epoch 90: : 16it [00:02,  5.82it/s, loss=-4.941]\n",
      "Epoch 90: : 20it [00:03,  5.93it/s, loss=-4.941]\n",
      "Epoch 91: : 10it [00:02,  3.98it/s, loss=-4.911]\n",
      "Epoch 91: : 12it [00:02,  4.65it/s, loss=-4.911]\n",
      "Epoch 91: : 16it [00:02,  5.92it/s, loss=-4.911]\n",
      "Epoch 91: : 20it [00:03,  6.26it/s, loss=-4.911]\n",
      "Epoch 92: : 10it [00:02,  3.99it/s, loss=-5.249]\n",
      "Epoch 92: : 12it [00:02,  4.66it/s, loss=-5.249]\n",
      "Epoch 92: : 16it [00:02,  5.93it/s, loss=-5.249]\n",
      "Epoch 92: : 20it [00:03,  6.29it/s, loss=-5.249]\n",
      "Epoch 93: : 10it [00:02,  3.99it/s, loss=-5.375]\n",
      "Epoch 93: : 12it [00:02,  4.66it/s, loss=-5.375]\n",
      "Epoch 93: : 16it [00:02,  5.92it/s, loss=-5.375]\n",
      "Validating: 7it [00:00, 31.27it/s]\n",
      "Epoch 93: : 20it [00:03,  5.84it/s, loss=-5.375]\n",
      "Epoch 94: : 10it [00:02,  3.90it/s, loss=-5.158]\n",
      "Epoch 94: : 12it [00:02,  4.55it/s, loss=-5.158]\n",
      "Validating: 3it [00:00, 28.67it/s]\n",
      "Epoch 94: : 16it [00:02,  5.76it/s, loss=-5.158]\n",
      "Epoch 94: : 20it [00:03,  5.87it/s, loss=-5.158]\n",
      "Epoch 95: : 10it [00:02,  3.95it/s, loss=-4.894]\n",
      "Epoch 95: : 12it [00:02,  4.62it/s, loss=-4.894]\n",
      "Epoch 95: : 16it [00:02,  5.88it/s, loss=-4.894]\n",
      "Epoch 95: : 20it [00:03,  6.19it/s, loss=-4.894]\n",
      "Epoch 96: : 10it [00:02,  3.92it/s, loss=-4.879]\n",
      "Epoch 96: : 12it [00:02,  4.58it/s, loss=-4.879]\n",
      "Epoch 96: : 16it [00:02,  5.82it/s, loss=-4.879]\n",
      "Epoch 96: : 20it [00:03,  6.07it/s, loss=-4.879]\n",
      "Epoch 97: : 10it [00:02,  3.98it/s, loss=-4.908]\n",
      "Epoch 97: : 12it [00:02,  4.65it/s, loss=-4.908]\n",
      "Epoch 97: : 16it [00:02,  5.92it/s, loss=-4.908]\n",
      "Epoch 97: : 20it [00:03,  6.23it/s, loss=-4.908]\n",
      "Epoch 98: : 10it [00:02,  3.96it/s, loss=-5.026]\n",
      "Epoch 98: : 12it [00:02,  4.63it/s, loss=-5.026]\n",
      "Epoch 98: : 16it [00:02,  5.89it/s, loss=-5.026]\n",
      "Epoch 98: : 20it [00:03,  6.20it/s, loss=-5.026]\n",
      "Epoch 99: : 10it [00:02,  3.97it/s, loss=-5.023]\n",
      "Epoch 99: : 12it [00:02,  4.64it/s, loss=-5.023]\n",
      "Epoch 99: : 16it [00:02,  5.90it/s, loss=-5.023]\n",
      "Epoch 99: : 20it [00:03,  6.20it/s, loss=-5.023]\n",
      "Epoch 100: : 10it [00:02,  3.96it/s, loss=-4.915]\n",
      "Epoch 100: : 12it [00:02,  4.64it/s, loss=-4.915]\n",
      "Epoch 100: : 16it [00:02,  5.90it/s, loss=-4.915]\n",
      "Epoch 100: : 20it [00:03,  6.19it/s, loss=-4.915]\n",
      "Epoch 100: : 20it [00:03,  6.18it/s, loss=-4.915]\n"
     ]
    }
   ],
   "source": [
    "trained_encoder = encoder_setup.get_trained_encoder(\n",
    "    galaxy_dataset,\n",
    "    n_epochs=n_epochs,\n",
    "    max_detections=2,\n",
    "    ptile_slen=tile_slen,\n",
    "    tile_slen=tile_slen,\n",
    "    validation_plot_start=0,\n",
    ")"
   ]
  },
  {
   "cell_type": "markdown",
   "metadata": {},
   "source": [
    "# Evaluate"
   ]
  },
  {
   "cell_type": "markdown",
   "metadata": {},
   "source": [
    "### Evaluate on saved test image"
   ]
  },
  {
   "cell_type": "code",
   "execution_count": 15,
   "metadata": {},
   "outputs": [],
   "source": [
    "test_galaxy = torch.load('../data/2_galaxy_test.pt')\n",
    "test_image = test_galaxy['images']"
   ]
  },
  {
   "cell_type": "code",
   "execution_count": 24,
   "metadata": {},
   "outputs": [],
   "source": [
    "with torch.no_grad():\n",
    "    # get the estimated params\n",
    "    trained_encoder.eval()\n",
    "    (\n",
    "        n_sources,\n",
    "        locs,\n",
    "        galaxy_params,\n",
    "        log_fluxes,\n",
    "        galaxy_bool,\n",
    "    ) = trained_encoder.map_estimate(test_image.to(device))\n",
    "    \n",
    "    locs = locs.squeeze(1)"
   ]
  },
  {
   "cell_type": "code",
   "execution_count": 25,
   "metadata": {},
   "outputs": [],
   "source": [
    "%matplotlib inline  "
   ]
  },
  {
   "cell_type": "code",
   "execution_count": 26,
   "metadata": {},
   "outputs": [
    {
     "data": {
      "text/plain": [
       "<matplotlib.collections.PathCollection at 0x7fd614a80dd0>"
      ]
     },
     "execution_count": 26,
     "metadata": {},
     "output_type": "execute_result"
    },
    {
     "data": {
      "image/png": "[encoded data removed]",
      "text/plain": [
       "<Figure size 288x288 with 1 Axes>"
      ]
     },
     "metadata": {
      "needs_background": "light"
     },
     "output_type": "display_data"
    }
   ],
   "source": [
    "plt.matshow(test_image[0, 0])\n",
    "plt.scatter(test_galaxy['locs'][0, :, 1] * slen - 0.5, \n",
    "            test_galaxy['locs'][0, :, 0] * slen - 0.5, color = 'blue')\n",
    "\n",
    "plt.scatter(locs.detach().cpu()[0, :, 1] * slen - 0.5, \n",
    "            locs.detach().cpu()[0, :, 0] * slen - 0.5, color = 'red')"
   ]
  },
  {
   "cell_type": "code",
   "execution_count": 27,
   "metadata": {},
   "outputs": [
    {
     "data": {
      "text/plain": [
       "tensor([[[0.4880, 0.8101],\n",
       "         [0.5184, 0.4067]]], device='cuda:0')"
      ]
     },
     "execution_count": 27,
     "metadata": {},
     "output_type": "execute_result"
    }
   ],
   "source": [
    "locs"
   ]
  },
  {
   "cell_type": "code",
   "execution_count": 30,
   "metadata": {},
   "outputs": [
    {
     "data": {
      "text/plain": [
       "tensor([[[0.5220, 0.7711],\n",
       "         [0.5550, 0.3933]]])"
      ]
     },
     "execution_count": 30,
     "metadata": {},
     "output_type": "execute_result"
    }
   ],
   "source": [
    "test_galaxy[\"locs\"]"
   ]
  },
  {
   "cell_type": "code",
   "execution_count": 28,
   "metadata": {},
   "outputs": [],
   "source": [
    "diff_locs = test_galaxy[\"locs\"].sort(1)[0].to(device) - locs.sort(1)[0]\n",
    "diff_locs *= test_image.size(-1)"
   ]
  },
  {
   "cell_type": "code",
   "execution_count": 29,
   "metadata": {},
   "outputs": [
    {
     "data": {
      "text/plain": [
       "tensor([[[ 1.7038, -0.6686],\n",
       "         [ 1.8306, -1.9510]]], device='cuda:0')"
      ]
     },
     "execution_count": 29,
     "metadata": {},
     "output_type": "execute_result"
    }
   ],
   "source": [
    "diff_locs"
   ]
  },
  {
   "cell_type": "markdown",
   "metadata": {},
   "source": [
    "### Evalute on data from data-loader"
   ]
  },
  {
   "cell_type": "code",
   "execution_count": null,
   "metadata": {},
   "outputs": [],
   "source": []
  },
  {
   "cell_type": "code",
   "execution_count": null,
   "metadata": {},
   "outputs": [],
   "source": []
  }
 ],
 "metadata": {
  "kernelspec": {
   "display_name": "celeste_py",
   "language": "python",
   "name": "celeste_py"
  },
  "language_info": {
   "codemirror_mode": {
    "name": "ipython",
    "version": 3
   },
   "file_extension": ".py",
   "mimetype": "text/x-python",
   "name": "python",
   "nbconvert_exporter": "python",
   "pygments_lexer": "ipython3",
   "version": "3.7.7"
  }
 },
 "nbformat": 4,
 "nbformat_minor": 2
}

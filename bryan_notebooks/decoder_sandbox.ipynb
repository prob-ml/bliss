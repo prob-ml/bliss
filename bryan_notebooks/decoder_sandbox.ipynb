{
 "cells": [
  {
   "cell_type": "code",
   "execution_count": 1,
   "metadata": {},
   "outputs": [],
   "source": [
    "import torch\n",
    "from pathlib import Path\n",
    "\n",
    "import numpy as np\n",
    "\n",
    "import matplotlib.pyplot as plt\n",
    "%matplotlib inline"
   ]
  },
  {
   "cell_type": "code",
   "execution_count": 2,
   "metadata": {},
   "outputs": [
    {
     "name": "stdout",
     "output_type": "stream",
     "text": [
      "cuda\n",
      "True\n"
     ]
    }
   ],
   "source": [
    "import bliss\n",
    "\n",
    "import bliss.models.encoder as encoder_lib\n",
    "from bliss.models.decoder import ImageDecoder\n",
    "from bliss.models import galaxy_net\n",
    "\n",
    "from bliss import device, use_cuda\n",
    "print(device)\n",
    "print(use_cuda)\n",
    "\n",
    "data_path = Path('../data/')"
   ]
  },
  {
   "cell_type": "code",
   "execution_count": 3,
   "metadata": {},
   "outputs": [],
   "source": [
    "# torch.manual_seed(2342)\n",
    "# np.random.seed(354)"
   ]
  },
  {
   "cell_type": "markdown",
   "metadata": {},
   "source": [
    "# Model parameters"
   ]
  },
  {
   "cell_type": "code",
   "execution_count": 4,
   "metadata": {},
   "outputs": [],
   "source": [
    "# create training dataset\n",
    "n_bands = 1\n",
    "slen = 32\n",
    "\n",
    "tile_slen = 8"
   ]
  },
  {
   "cell_type": "code",
   "execution_count": 5,
   "metadata": {},
   "outputs": [],
   "source": [
    "# background\n",
    "background = torch.zeros(n_bands, slen, slen, device=device)\n",
    "background[:] = 686.0"
   ]
  },
  {
   "cell_type": "code",
   "execution_count": 6,
   "metadata": {},
   "outputs": [],
   "source": [
    "# psf parameters \n",
    "psf_file = data_path.joinpath(\"fitted_powerlaw_psf_params.npy\")\n",
    "psf_params = torch.from_numpy(np.load(psf_file)).to(device)[0:n_bands]"
   ]
  },
  {
   "cell_type": "markdown",
   "metadata": {},
   "source": [
    "### Get galaxy decoder"
   ]
  },
  {
   "cell_type": "code",
   "execution_count": 7,
   "metadata": {},
   "outputs": [],
   "source": [
    "include_galaxies = True\n",
    "if include_galaxies: \n",
    "    assert n_bands == 1, 'galaxy decoder only available for single band'\n",
    "    gal_slen = 51\n",
    "    latent_dim = 8\n",
    "    decoder_file = '../data/galaxy_decoder_1_band.dat'\n",
    "    dec = galaxy_net.CenteredGalaxyDecoder(gal_slen, latent_dim, n_bands=n_bands).to(device)\n",
    "    dec.load_state_dict(torch.load(decoder_file, map_location=device))\n",
    "    dec.eval()\n",
    "    prob_galaxy = 0.5\n",
    "else: \n",
    "    dec = None\n",
    "    prob_galaxy = 0."
   ]
  },
  {
   "cell_type": "markdown",
   "metadata": {},
   "source": [
    "# Define decoder"
   ]
  },
  {
   "cell_type": "code",
   "execution_count": 8,
   "metadata": {},
   "outputs": [],
   "source": [
    "# false for debugging\n",
    "add_noise = False"
   ]
  },
  {
   "cell_type": "code",
   "execution_count": 9,
   "metadata": {},
   "outputs": [
    {
     "data": {
      "text/plain": [
       "32"
      ]
     },
     "execution_count": 9,
     "metadata": {},
     "output_type": "execute_result"
    }
   ],
   "source": [
    "slen"
   ]
  },
  {
   "cell_type": "code",
   "execution_count": 10,
   "metadata": {},
   "outputs": [
    {
     "data": {
      "text/plain": [
       "8"
      ]
     },
     "execution_count": 10,
     "metadata": {},
     "output_type": "execute_result"
    }
   ],
   "source": [
    "tile_slen"
   ]
  },
  {
   "cell_type": "code",
   "execution_count": 11,
   "metadata": {},
   "outputs": [],
   "source": [
    "image_decoder = ImageDecoder(dec,\n",
    "                        psf_params,\n",
    "                        background,\n",
    "                        n_bands=n_bands,\n",
    "                        slen=slen,\n",
    "                        tile_slen=tile_slen,\n",
    "                        prob_galaxy=prob_galaxy,\n",
    "                        max_sources_per_tile=4,\n",
    "                        mean_sources_per_tile=0.8,\n",
    "                        min_sources_per_tile=0,\n",
    "                        f_min=1e4,\n",
    "                        f_max=1e6,\n",
    "                        alpha=0.5,\n",
    "                        add_noise=add_noise)"
   ]
  },
  {
   "cell_type": "markdown",
   "metadata": {},
   "source": [
    "# Sample parameters"
   ]
  },
  {
   "cell_type": "code",
   "execution_count": 12,
   "metadata": {},
   "outputs": [],
   "source": [
    "batch_size = 3"
   ]
  },
  {
   "cell_type": "code",
   "execution_count": 13,
   "metadata": {},
   "outputs": [],
   "source": [
    "params = image_decoder.sample_parameters(batch_size)"
   ]
  },
  {
   "cell_type": "code",
   "execution_count": 14,
   "metadata": {},
   "outputs": [
    {
     "data": {
      "text/plain": [
       "torch.Size([3, 16, 4, 1])"
      ]
     },
     "execution_count": 14,
     "metadata": {},
     "output_type": "execute_result"
    }
   ],
   "source": [
    "params['fluxes'].shape"
   ]
  },
  {
   "cell_type": "code",
   "execution_count": null,
   "metadata": {},
   "outputs": [],
   "source": []
  },
  {
   "cell_type": "markdown",
   "metadata": {},
   "source": [
    "### check patterns of parameters "
   ]
  },
  {
   "cell_type": "code",
   "execution_count": 15,
   "metadata": {},
   "outputs": [],
   "source": [
    "for i in range(params['n_sources'].shape[0]): \n",
    "    for j in range(params['n_sources'].shape[1]): \n",
    "        \n",
    "        n_sources_ij = params['n_sources'][i, j]\n",
    "        is_on_array_ij = torch.zeros(image_decoder.max_sources_per_tile).to(device)\n",
    "        is_on_array_ij[0:n_sources_ij] = 1\n",
    "        \n",
    "        # check locs\n",
    "        locs_ij = params['locs'][i, j]\n",
    "        assert torch.all(locs_ij[0:n_sources_ij] != 0)\n",
    "        assert torch.all(locs_ij[n_sources_ij:] == 0)\n",
    "        \n",
    "        # check fluxes\n",
    "        fluxes_ij = params['fluxes'][i, j]\n",
    "        is_star = (params['galaxy_bool'][i,j] == 0)\n",
    "        is_star = (is_on_array_ij == 1) & is_star\n",
    "        assert torch.all(fluxes_ij[is_star] != 0)\n",
    "        assert torch.all(fluxes_ij[~is_star] == 0)\n",
    "        \n",
    "        # check log-fluxes\n",
    "        log_fluxes_ij = params['log_fluxes'][i, j]\n",
    "        assert torch.all(log_fluxes_ij[is_star] != 0)\n",
    "        assert torch.all(log_fluxes_ij[~is_star] == 0)\n",
    "        \n",
    "        # check galaxy parameters\n",
    "        galaxy_params_ij = params[\"galaxy_params\"][i,j]\n",
    "        is_galaxy = (params['galaxy_bool'][i,j] == 1)\n",
    "        is_galaxy = (is_on_array_ij == 1) & is_galaxy\n",
    "        assert torch.all(galaxy_params_ij[is_galaxy] != 0)\n",
    "        assert torch.all(galaxy_params_ij[~is_galaxy] == 0)\n",
    "        \n",
    "        # check counts \n",
    "        assert params['n_stars'][i,j] == is_star.sum()\n",
    "        assert params['n_galaxies'][i,j] == is_galaxy.sum()"
   ]
  },
  {
   "cell_type": "markdown",
   "metadata": {},
   "source": [
    "# Construct p-tiles"
   ]
  },
  {
   "cell_type": "code",
   "execution_count": 16,
   "metadata": {},
   "outputs": [],
   "source": [
    "# this is just for debugging: \n",
    "# set to some easily visualize-able parameter values\n",
    "constant_flux = False\n",
    "if constant_flux: \n",
    "    params['fluxes'][params['fluxes'] != 0] = 1e5\n",
    "    \n",
    "constant_locations = False\n",
    "if constant_locations: \n",
    "    params['locs'][params['locs'] != 0] = 0.5 / tile_slen"
   ]
  },
  {
   "cell_type": "code",
   "execution_count": 17,
   "metadata": {},
   "outputs": [],
   "source": [
    "image_ptiles = image_decoder.render_ptiles(\n",
    "                            params['n_sources'],\n",
    "                            params['locs'],\n",
    "                            params['galaxy_bool'],\n",
    "                            params['galaxy_params'],\n",
    "                            params['fluxes'])\n"
   ]
  },
  {
   "cell_type": "code",
   "execution_count": 18,
   "metadata": {},
   "outputs": [
    {
     "data": {
      "text/plain": [
       "torch.Size([3, 16, 1, 40, 40])"
      ]
     },
     "execution_count": 18,
     "metadata": {},
     "output_type": "execute_result"
    }
   ],
   "source": [
    "# this is batchsize x n_tiles_per_image x n_bands x ptile_slen x ptile_slen\n",
    "image_ptiles.shape"
   ]
  },
  {
   "cell_type": "code",
   "execution_count": null,
   "metadata": {},
   "outputs": [],
   "source": []
  },
  {
   "cell_type": "markdown",
   "metadata": {},
   "source": [
    "### Plot tiles from one batch"
   ]
  },
  {
   "cell_type": "code",
   "execution_count": 19,
   "metadata": {},
   "outputs": [],
   "source": [
    "%matplotlib inline  "
   ]
  },
  {
   "cell_type": "code",
   "execution_count": 20,
   "metadata": {},
   "outputs": [],
   "source": [
    "batch = 1\n",
    "band = 0"
   ]
  },
  {
   "cell_type": "code",
   "execution_count": 21,
   "metadata": {},
   "outputs": [
    {
     "data": {
      "image/png": "[encoded data removed]",
      "text/plain": [
       "<Figure size 1152x1152 with 16 Axes>"
      ]
     },
     "metadata": {
      "needs_background": "light"
     },
     "output_type": "display_data"
    }
   ],
   "source": [
    "# for plotting \n",
    "padding = (image_decoder.ptile_slen - image_decoder.tile_slen) / 2 - 0.5\n",
    "\n",
    "n_tiles1 = int(slen / tile_slen)\n",
    "f, axarr = plt.subplots(n_tiles1, n_tiles1, figsize=(16, 16))\n",
    "\n",
    "\n",
    "vmax = image_ptiles[batch, :, band].abs().max()\n",
    "vmin = image_ptiles[batch, :, band].abs().min()\n",
    "\n",
    "for j in range(image_ptiles.shape[1]): \n",
    "    ax = axarr[j // n_tiles1, j % n_tiles1]\n",
    "    ax.matshow(image_ptiles[batch, j, band].detach().cpu(), \n",
    "               vmax = vmax, vmin = vmin)\n",
    "\n",
    "    # plot locations\n",
    "    n_sources = int(params[\"n_sources\"][batch, j])\n",
    "    if n_sources > 0:\n",
    "        galaxy_bool = params[\"galaxy_bool\"][batch, j]\n",
    "        is_on_bool = torch.arange(image_decoder.max_sources_per_tile) < n_sources\n",
    "\n",
    "        # plot stellar locations \n",
    "        is_star = (galaxy_bool == 0).cpu() & (is_on_bool == 1).cpu()\n",
    "        ax.scatter(params['locs'][batch, j, is_star, 1].cpu() * image_decoder.tile_slen + padding, \n",
    "                    params['locs'][batch, j, is_star, 0].cpu() * image_decoder.tile_slen + padding, \n",
    "                   color = 'r', marker = 'x')\n",
    "\n",
    "        # plot galaxy locations \n",
    "        is_galaxy = (galaxy_bool == 1).cpu() & (is_on_bool == 1).cpu()\n",
    "        ax.scatter(params['locs'][batch, j, is_galaxy, 1].cpu() * image_decoder.tile_slen + padding, \n",
    "                    params['locs'][batch, j, is_galaxy, 0].cpu() * image_decoder.tile_slen + padding, \n",
    "                   color = 'g', marker = 'x')\n",
    "        \n",
    "    # plot tile borders\n",
    "    ax.axvline(padding, color = 'white')\n",
    "    ax.axvline(padding + tile_slen, color = 'white')\n",
    "    ax.axhline(padding, color = 'white')\n",
    "    ax.axhline(padding + tile_slen, color = 'white')\n",
    "    "
   ]
  },
  {
   "cell_type": "code",
   "execution_count": null,
   "metadata": {},
   "outputs": [],
   "source": []
  },
  {
   "cell_type": "markdown",
   "metadata": {},
   "source": [
    "# Now construct the full image from the ptiles"
   ]
  },
  {
   "cell_type": "code",
   "execution_count": 22,
   "metadata": {},
   "outputs": [],
   "source": [
    "images = image_decoder.render_images(\n",
    "                            params['n_sources'],\n",
    "                            params['locs'],\n",
    "                            params['galaxy_bool'],\n",
    "                            params['galaxy_params'],\n",
    "                            params['fluxes'])\n"
   ]
  },
  {
   "cell_type": "code",
   "execution_count": 23,
   "metadata": {},
   "outputs": [],
   "source": [
    "# get full-image parameterization\n",
    "n_sources_full, locs_full, galaxy_bool_full, galaxy_params_full, fluxes_full = \\\n",
    "    encoder_lib._get_full_params_from_sampled_params(\n",
    "                                                    slen,\n",
    "                                                    tile_slen,\n",
    "                                                    params['n_sources'],\n",
    "                                                    params['locs'], \n",
    "                                                    params['galaxy_bool'].unsqueeze(-1), \n",
    "                                                    params['galaxy_params'], \n",
    "                                                    params['fluxes'])\n",
    "\n",
    "galaxy_bool_full = galaxy_bool_full.squeeze(-1)"
   ]
  },
  {
   "cell_type": "code",
   "execution_count": null,
   "metadata": {},
   "outputs": [],
   "source": []
  },
  {
   "cell_type": "markdown",
   "metadata": {},
   "source": [
    "### Plot full image!"
   ]
  },
  {
   "cell_type": "code",
   "execution_count": 24,
   "metadata": {},
   "outputs": [
    {
     "data": {
      "image/png": "[encoded data removed]",
      "text/plain": [
       "<Figure size 720x720 with 1 Axes>"
      ]
     },
     "metadata": {
      "needs_background": "light"
     },
     "output_type": "display_data"
    }
   ],
   "source": [
    "f, axarr = plt.subplots(1, 1, figsize=(10, 10))\n",
    "\n",
    "# plot image\n",
    "axarr.matshow(images[batch, band].cpu().detach())\n",
    "\n",
    "# plot locations for stars \n",
    "is_star = galaxy_bool_full[batch] == 0\n",
    "axarr.scatter(locs_full[batch, is_star, 1].cpu() * slen - 0.5, \n",
    "              locs_full[batch, is_star, 0].cpu() * slen - 0.5, \n",
    "              color = 'red', marker = 'x')\n",
    "\n",
    "# plot locations for galaxies\n",
    "is_galaxy = galaxy_bool_full[batch] == 1\n",
    "axarr.scatter(locs_full[batch, is_galaxy, 1].cpu() * slen - 0.5, \n",
    "              locs_full[batch, is_galaxy, 0].cpu() * slen - 0.5, \n",
    "              color = 'green', marker = 'x')\n",
    "\n",
    "# draw white lines\n",
    "for i in range(int(slen / tile_slen)): \n",
    "    axarr.axvline(tile_slen * i - 0.5, color = 'white')\n",
    "    axarr.axhline(tile_slen * i - 0.5, color = 'white')\n",
    "    "
   ]
  },
  {
   "cell_type": "code",
   "execution_count": null,
   "metadata": {},
   "outputs": [],
   "source": []
  },
  {
   "cell_type": "markdown",
   "metadata": {},
   "source": [
    "# One last check: \n",
    "\n",
    "Reconstruct the image with the full-parameterization and the full image equal to one tile. \n",
    "\n",
    "In other words, this decoder has `slen = tile_slen`, so the tile is the full image. \n",
    "\n",
    "We will pass in the full-image parameters to this encoder"
   ]
  },
  {
   "cell_type": "code",
   "execution_count": 25,
   "metadata": {},
   "outputs": [],
   "source": [
    "image_decoder2 = ImageDecoder(dec,\n",
    "                        psf_params,\n",
    "                        background,\n",
    "                        n_bands=n_bands,\n",
    "                        slen=slen,\n",
    "                        # note that tile_slen = slen\n",
    "                        tile_slen=slen,\n",
    "                        prob_galaxy=prob_galaxy,\n",
    "                        max_sources_per_tile=locs_full.shape[1],\n",
    "                        mean_sources_per_tile=0.8,\n",
    "                        min_sources_per_tile=0,\n",
    "                        f_min=1e4,\n",
    "                        f_max=1e6,\n",
    "                        alpha=0.5,\n",
    "                        add_noise=False,)"
   ]
  },
  {
   "cell_type": "code",
   "execution_count": 26,
   "metadata": {},
   "outputs": [
    {
     "data": {
      "text/plain": [
       "1"
      ]
     },
     "execution_count": 26,
     "metadata": {},
     "output_type": "execute_result"
    }
   ],
   "source": [
    "image_decoder2.n_tiles_per_image"
   ]
  },
  {
   "cell_type": "code",
   "execution_count": 27,
   "metadata": {},
   "outputs": [],
   "source": [
    "# reshape full image parameters appropriately \n",
    "\n",
    "_n_sources = n_sources_full.unsqueeze(1)\n",
    "_locs = locs_full.unsqueeze(1)\n",
    "_galaxy_bool = galaxy_bool_full.unsqueeze(1)\n",
    "_galaxy_params = galaxy_params_full.unsqueeze(1)\n",
    "_fluxes = fluxes_full.unsqueeze(1)\n",
    "\n",
    "image2 = image_decoder2.render_images(\n",
    "                            _n_sources,\n",
    "                            _locs,\n",
    "                            _galaxy_bool,\n",
    "                            _galaxy_params,\n",
    "                            _fluxes)"
   ]
  },
  {
   "cell_type": "code",
   "execution_count": 28,
   "metadata": {},
   "outputs": [
    {
     "data": {
      "text/plain": [
       "torch.Size([3, 1, 32, 32])"
      ]
     },
     "execution_count": 28,
     "metadata": {},
     "output_type": "execute_result"
    }
   ],
   "source": [
    "image2.shape"
   ]
  },
  {
   "cell_type": "code",
   "execution_count": 29,
   "metadata": {},
   "outputs": [
    {
     "data": {
      "text/plain": [
       "torch.Size([3, 11])"
      ]
     },
     "execution_count": 29,
     "metadata": {},
     "output_type": "execute_result"
    }
   ],
   "source": [
    "galaxy_bool_full.shape"
   ]
  },
  {
   "cell_type": "code",
   "execution_count": 30,
   "metadata": {},
   "outputs": [
    {
     "data": {
      "image/png": "[encoded data removed]",
      "text/plain": [
       "<Figure size 1080x288 with 6 Axes>"
      ]
     },
     "metadata": {
      "needs_background": "light"
     },
     "output_type": "display_data"
    }
   ],
   "source": [
    "f, axarr = plt.subplots(1, 3, figsize=(15, 4))\n",
    "\n",
    "# plot tile-constructed image\n",
    "ax0 = axarr[0].matshow(images[batch, band].cpu().detach())\n",
    "f.colorbar(ax0, ax = axarr[0])\n",
    "\n",
    "# plot image constructed from full parameterization\n",
    "ax1 = axarr[1].matshow(image2[batch, band].cpu().detach())\n",
    "f.colorbar(ax1, ax = axarr[1])\n",
    "\n",
    "# plot difference\n",
    "im1 = images[batch, band].cpu().detach()\n",
    "im2 =  image2[batch, band].cpu().detach()\n",
    "diff = (im1 - im2) / im1\n",
    "vmax = diff.abs().max()\n",
    "ax2 = axarr[2].matshow(diff, vmax = vmax, vmin = -vmax,\n",
    "                 cmap = plt.get_cmap('bwr'))\n",
    "f.colorbar(ax2, ax = axarr[2])\n",
    "\n",
    "# plot locations \n",
    "for i in range(2): \n",
    "    n = n_sources_full[batch].squeeze().long()\n",
    "    \n",
    "    # plot stars\n",
    "    galaxy_bool_i = galaxy_bool_full[batch].cpu()\n",
    "    is_star = (galaxy_bool_i == 0) & (torch.arange(len(galaxy_bool_i)) < n)\n",
    "    axarr[i].scatter(locs_full[batch, is_star, 1].cpu() * slen - 0.5, \n",
    "                  locs_full[batch, is_star, 0].cpu() * slen - 0.5, \n",
    "                  color = 'red', marker = 'x')\n",
    "    \n",
    "    # plot galaxies\n",
    "    is_galaxy = (galaxy_bool_i == 1) & (torch.arange(len(galaxy_bool_i)) < n)\n",
    "    axarr[i].scatter(locs_full[batch, is_galaxy, 1].cpu() * slen - 0.5, \n",
    "                  locs_full[batch, is_galaxy, 0].cpu() * slen - 0.5, \n",
    "                  color = 'green', marker = 'x')"
   ]
  },
  {
   "cell_type": "code",
   "execution_count": null,
   "metadata": {},
   "outputs": [],
   "source": []
  },
  {
   "cell_type": "code",
   "execution_count": null,
   "metadata": {},
   "outputs": [],
   "source": []
  },
  {
   "cell_type": "code",
   "execution_count": null,
   "metadata": {},
   "outputs": [],
   "source": []
  },
  {
   "cell_type": "raw",
   "metadata": {},
   "source": [
    "im1[10:15, 0:5]"
   ]
  },
  {
   "cell_type": "raw",
   "metadata": {},
   "source": [
    "im2[10:15, 0:5]"
   ]
  },
  {
   "cell_type": "raw",
   "metadata": {},
   "source": [
    "gal = image_decoder2.galaxy_decoder(params['galaxy_params'].reshape(-1, image_decoder2.latent_dim))[0]"
   ]
  },
  {
   "cell_type": "raw",
   "metadata": {},
   "source": [
    "plt.matshow(gal[0, 0, 10:20, 10:20].detach().cpu())"
   ]
  },
  {
   "cell_type": "raw",
   "metadata": {},
   "source": [
    "gal[0, 0, 10:20, 10:20]"
   ]
  },
  {
   "cell_type": "raw",
   "metadata": {},
   "source": [
    "gal.shape"
   ]
  },
  {
   "cell_type": "raw",
   "metadata": {},
   "source": []
  }
 ],
 "metadata": {
  "kernelspec": {
   "display_name": "celeste_py",
   "language": "python",
   "name": "celeste_py"
  },
  "language_info": {
   "codemirror_mode": {
    "name": "ipython",
    "version": 3
   },
   "file_extension": ".py",
   "mimetype": "text/x-python",
   "name": "python",
   "nbconvert_exporter": "python",
   "pygments_lexer": "ipython3",
   "version": "3.7.7"
  }
 },
 "nbformat": 4,
 "nbformat_minor": 2
}

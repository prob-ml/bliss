{
 "cells": [
  {
   "cell_type": "code",
   "execution_count": 1,
   "metadata": {},
   "outputs": [],
   "source": [
    "import pytest\n",
    "import torch"
   ]
  },
  {
   "cell_type": "code",
   "execution_count": 2,
   "metadata": {},
   "outputs": [],
   "source": [
    "import sys\n",
    "sys.path.insert(0, '../tests/')"
   ]
  },
  {
   "cell_type": "code",
   "execution_count": 3,
   "metadata": {},
   "outputs": [],
   "source": [
    "from conftest import *\n",
    "from pathlib import Path\n",
    "\n",
    "paths = dict(data = Path('../data/'))\n",
    "\n",
    "device = 'cuda:0'\n",
    "\n",
    "use_cuda = True"
   ]
  },
  {
   "cell_type": "code",
   "execution_count": 4,
   "metadata": {},
   "outputs": [],
   "source": [
    "import matplotlib.pyplot as plt\n",
    "%matplotlib inline"
   ]
  },
  {
   "cell_type": "code",
   "execution_count": 5,
   "metadata": {},
   "outputs": [],
   "source": [
    "%matplotlib inline"
   ]
  },
  {
   "cell_type": "markdown",
   "metadata": {},
   "source": [
    "# Set up models"
   ]
  },
  {
   "cell_type": "code",
   "execution_count": 6,
   "metadata": {},
   "outputs": [],
   "source": [
    "slen = 30\n",
    "tile_slen = 5"
   ]
  },
  {
   "cell_type": "code",
   "execution_count": 7,
   "metadata": {},
   "outputs": [],
   "source": [
    "decoder_setup = DecoderSetup(paths, device)"
   ]
  },
  {
   "cell_type": "code",
   "execution_count": 8,
   "metadata": {},
   "outputs": [],
   "source": [
    "psf_params = decoder_setup.get_fitted_psf_params()\n",
    "batch_size = 128 if use_cuda else 1\n",
    "n_images = 1280 if use_cuda else 1"
   ]
  },
  {
   "cell_type": "code",
   "execution_count": 9,
   "metadata": {},
   "outputs": [],
   "source": [
    "star_dataset = decoder_setup.get_star_dataset(\n",
    "        psf_params, n_bands=1, \n",
    "        slen=slen, tile_slen = tile_slen, \n",
    "        max_sources_per_tile=2,\n",
    "        min_sources_per_tile=0,\n",
    "        # this is so that the avg. number of sources \n",
    "        # a 30 x 30 image is 3\n",
    "        mean_sources_per_tile=0.0833,\n",
    "        batch_size=batch_size, n_images=n_images\n",
    "    )\n"
   ]
  },
  {
   "cell_type": "code",
   "execution_count": 10,
   "metadata": {},
   "outputs": [],
   "source": [
    "params = star_dataset.get_batch()"
   ]
  },
  {
   "cell_type": "code",
   "execution_count": 11,
   "metadata": {},
   "outputs": [
    {
     "data": {
      "text/plain": [
       "<matplotlib.image.AxesImage at 0x7fa43d5f4f10>"
      ]
     },
     "execution_count": 11,
     "metadata": {},
     "output_type": "execute_result"
    },
    {
     "data": {
      "image/png": "[encoded data removed]",
      "text/plain": [
       "<Figure size 288x288 with 1 Axes>"
      ]
     },
     "metadata": {
      "needs_background": "light"
     },
     "output_type": "display_data"
    }
   ],
   "source": [
    "plt.matshow(params['images'].detach().cpu()[0, 0])"
   ]
  },
  {
   "cell_type": "code",
   "execution_count": 12,
   "metadata": {},
   "outputs": [
    {
     "data": {
      "text/plain": [
       "tensor(0.0809, device='cuda:0')"
      ]
     },
     "execution_count": 12,
     "metadata": {},
     "output_type": "execute_result"
    }
   ],
   "source": [
    "params['n_sources'].float().mean()"
   ]
  },
  {
   "cell_type": "code",
   "execution_count": null,
   "metadata": {},
   "outputs": [],
   "source": []
  },
  {
   "cell_type": "markdown",
   "metadata": {},
   "source": [
    "# set up encoder and train"
   ]
  },
  {
   "cell_type": "code",
   "execution_count": 13,
   "metadata": {},
   "outputs": [],
   "source": [
    "encoder_setup = EncoderSetup(gpus = 1, device = device)"
   ]
  },
  {
   "cell_type": "code",
   "execution_count": 14,
   "metadata": {},
   "outputs": [
    {
     "name": "stderr",
     "output_type": "stream",
     "text": [
      "GPU available: True, used: True\n",
      "TPU available: False, using: 0 TPU cores\n",
      "CUDA_VISIBLE_DEVICES: [0]\n",
      "\n",
      "  | Name          | Type         | Params\n",
      "-----------------------------------------------\n",
      "0 | image_encoder | ImageEncoder | 22 K  \n",
      "/home/runingli/anaconda3/envs/celeste_py/lib/python3.7/site-packages/pytorch_lightning/utilities/distributed.py:25: UserWarning: The dataloader, val dataloader 0, does not have many workers which may be a bottleneck. Consider increasing the value of the `num_workers` argument` (try 64 which is the number of cpus on this machine) in the `DataLoader` init to improve performance.\n",
      "  warnings.warn(*args, **kwargs)\n"
     ]
    },
    {
     "name": "stdout",
     "output_type": "stream",
     "text": [
      "Training: 0it [00:00, ?it/s]"
     ]
    },
    {
     "name": "stderr",
     "output_type": "stream",
     "text": [
      "/home/runingli/anaconda3/envs/celeste_py/lib/python3.7/site-packages/pytorch_lightning/utilities/distributed.py:25: UserWarning: The dataloader, train dataloader, does not have many workers which may be a bottleneck. Consider increasing the value of the `num_workers` argument` (try 64 which is the number of cpus on this machine) in the `DataLoader` init to improve performance.\n",
      "  warnings.warn(*args, **kwargs)\n"
     ]
    },
    {
     "name": "stdout",
     "output_type": "stream",
     "text": [
      "Epoch 1: : 10it [00:00, 25.52it/s, loss=2.988]\n",
      "Epoch 1: : 15it [00:00, 31.62it/s, loss=2.988]\n",
      "Epoch 1: : 20it [00:00, 35.82it/s, loss=2.988]\n",
      "Epoch 2: : 10it [00:00, 28.45it/s, loss=2.162]\n",
      "Epoch 2: : 12it [00:00, 30.99it/s, loss=2.162]\n",
      "Epoch 2: : 20it [00:00, 38.74it/s, loss=2.162]\n",
      "Epoch 3: : 10it [00:00, 29.16it/s, loss=1.123]\n",
      "Epoch 3: : 14it [00:00, 34.27it/s, loss=1.123]\n",
      "Epoch 3: : 20it [00:00, 39.44it/s, loss=1.123]\n",
      "Epoch 4: : 10it [00:00, 25.79it/s, loss=0.803]\n",
      "Epoch 4: : 14it [00:00, 30.72it/s, loss=0.803]\n",
      "Epoch 4: : 20it [00:00, 35.63it/s, loss=0.803]\n",
      "Epoch 5: : 10it [00:00, 25.77it/s, loss=0.630]\n",
      "Epoch 5: : 14it [00:00, 30.73it/s, loss=0.630]\n",
      "Epoch 5: : 20it [00:00, 35.78it/s, loss=0.630]\n",
      "Epoch 6: : 10it [00:00, 26.31it/s, loss=0.505]\n",
      "Epoch 6: : 14it [00:00, 31.29it/s, loss=0.505]\n",
      "Epoch 6: : 20it [00:00, 36.30it/s, loss=0.505]\n",
      "Epoch 7: : 10it [00:00, 26.15it/s, loss=0.402]\n",
      "Epoch 7: : 14it [00:00, 31.13it/s, loss=0.402]\n",
      "Epoch 7: : 20it [00:00, 36.14it/s, loss=0.402]\n",
      "Epoch 8: : 10it [00:00, 26.17it/s, loss=0.331]\n",
      "Epoch 8: : 14it [00:00, 31.17it/s, loss=0.331]\n",
      "Epoch 8: : 20it [00:00, 36.54it/s, loss=0.331]\n",
      "Epoch 9: : 10it [00:00, 26.35it/s, loss=0.282]\n",
      "Epoch 9: : 14it [00:00, 31.38it/s, loss=0.282]\n",
      "Epoch 9: : 20it [00:00, 36.74it/s, loss=0.282]\n",
      "Epoch 10: : 10it [00:00, 26.69it/s, loss=0.242]\n",
      "Epoch 10: : 14it [00:00, 31.71it/s, loss=0.242]\n",
      "Epoch 10: : 20it [00:00, 37.06it/s, loss=0.242]\n",
      "Epoch 11: : 10it [00:00, 26.38it/s, loss=0.220]\n",
      "Epoch 11: : 14it [00:00, 31.31it/s, loss=0.220]\n",
      "Epoch 11: : 20it [00:00, 36.67it/s, loss=0.220]\n",
      "Epoch 12: : 10it [00:00, 26.27it/s, loss=0.200]\n",
      "Epoch 12: : 14it [00:00, 31.23it/s, loss=0.200]\n",
      "Epoch 12: : 20it [00:00, 36.58it/s, loss=0.200]\n",
      "Epoch 13: : 10it [00:00, 26.20it/s, loss=0.164]\n",
      "Epoch 13: : 14it [00:00, 31.19it/s, loss=0.164]\n",
      "Epoch 13: : 20it [00:00, 36.54it/s, loss=0.164]\n",
      "Epoch 14: : 10it [00:00, 26.12it/s, loss=0.141]\n",
      "Epoch 14: : 14it [00:00, 31.08it/s, loss=0.141]\n",
      "Epoch 14: : 20it [00:00, 36.48it/s, loss=0.141]\n",
      "Epoch 15: : 10it [00:00, 26.14it/s, loss=0.131]\n",
      "Epoch 15: : 14it [00:00, 31.14it/s, loss=0.131]\n",
      "Epoch 15: : 20it [00:00, 36.48it/s, loss=0.131]\n",
      "Epoch 16: : 10it [00:00, 26.17it/s, loss=0.126]\n",
      "Epoch 16: : 14it [00:00, 31.18it/s, loss=0.126]\n",
      "Epoch 16: : 20it [00:00, 36.54it/s, loss=0.126]\n",
      "Epoch 17: : 10it [00:00, 26.56it/s, loss=0.112]\n",
      "Epoch 17: : 14it [00:00, 31.53it/s, loss=0.112]\n",
      "Epoch 17: : 20it [00:00, 36.91it/s, loss=0.112]\n",
      "Epoch 18: : 10it [00:00, 26.17it/s, loss=0.091]\n",
      "Epoch 18: : 14it [00:00, 31.17it/s, loss=0.091]\n",
      "Epoch 18: : 20it [00:00, 36.53it/s, loss=0.091]\n",
      "Epoch 19: : 10it [00:00, 26.33it/s, loss=0.073]\n",
      "Epoch 19: : 14it [00:00, 31.30it/s, loss=0.073]\n",
      "Epoch 19: : 20it [00:00, 36.67it/s, loss=0.073]\n",
      "Epoch 20: : 10it [00:00, 26.35it/s, loss=0.060]\n",
      "Epoch 20: : 14it [00:00, 31.35it/s, loss=0.060]\n",
      "Epoch 20: : 20it [00:00, 36.66it/s, loss=0.060]\n",
      "Epoch 21: : 10it [00:00, 26.48it/s, loss=0.055]\n",
      "Epoch 21: : 14it [00:00, 31.48it/s, loss=0.055]\n",
      "Epoch 21: : 20it [00:00, 36.77it/s, loss=0.055]\n",
      "Epoch 22: : 10it [00:00, 26.26it/s, loss=0.041]\n",
      "Epoch 22: : 14it [00:00, 30.92it/s, loss=0.041]\n",
      "Epoch 22: : 20it [00:00, 35.92it/s, loss=0.041]\n",
      "Epoch 23: : 10it [00:00, 26.30it/s, loss=0.038]\n",
      "Epoch 23: : 14it [00:00, 31.27it/s, loss=0.038]\n",
      "Epoch 23: : 20it [00:00, 36.43it/s, loss=0.038]\n",
      "Epoch 24: : 10it [00:00, 26.40it/s, loss=0.038]\n",
      "Epoch 24: : 14it [00:00, 31.19it/s, loss=0.038]\n",
      "Epoch 24: : 20it [00:00, 36.49it/s, loss=0.038]\n",
      "Epoch 25: : 10it [00:00, 26.09it/s, loss=0.032]\n",
      "Epoch 25: : 14it [00:00, 31.15it/s, loss=0.032]\n",
      "Epoch 25: : 20it [00:00, 36.57it/s, loss=0.032]\n",
      "Epoch 26: : 10it [00:00, 28.72it/s, loss=0.022]\n",
      "Epoch 26: : 14it [00:00, 33.84it/s, loss=0.022]\n",
      "Epoch 26: : 20it [00:00, 39.13it/s, loss=0.022]\n",
      "Epoch 27: : 10it [00:00, 27.91it/s, loss=0.003]\n",
      "Epoch 27: : 14it [00:00, 32.63it/s, loss=0.003]\n",
      "Epoch 27: : 20it [00:00, 37.04it/s, loss=0.003]\n",
      "Epoch 28: : 10it [00:00, 25.32it/s, loss=-0.021]\n",
      "Epoch 28: : 14it [00:00, 29.95it/s, loss=-0.021]\n",
      "Epoch 28: : 20it [00:00, 34.88it/s, loss=-0.021]\n",
      "Epoch 29: : 10it [00:00, 25.13it/s, loss=-0.020]\n",
      "Epoch 29: : 14it [00:00, 29.78it/s, loss=-0.020]\n",
      "Epoch 29: : 20it [00:00, 34.76it/s, loss=-0.020]\n",
      "Epoch 30: : 10it [00:00, 25.21it/s, loss=-0.016]\n",
      "Epoch 30: : 14it [00:00, 29.59it/s, loss=-0.016]\n",
      "Epoch 30: : 20it [00:00, 34.59it/s, loss=-0.016]\n",
      "Epoch 31: : 10it [00:00, 25.69it/s, loss=-0.039]\n",
      "Epoch 31: : 14it [00:00, 30.36it/s, loss=-0.039]\n",
      "Epoch 31: : 20it [00:00, 35.33it/s, loss=-0.039]\n",
      "Epoch 32: : 10it [00:00, 25.69it/s, loss=-0.065]\n",
      "Epoch 32: : 14it [00:00, 30.59it/s, loss=-0.065]\n",
      "Epoch 32: : 20it [00:00, 35.83it/s, loss=-0.065]\n",
      "Epoch 33: : 10it [00:00, 26.35it/s, loss=-0.068]\n",
      "Epoch 33: : 14it [00:00, 31.40it/s, loss=-0.068]\n",
      "Epoch 33: : 20it [00:00, 36.42it/s, loss=-0.068]\n",
      "Epoch 34: : 10it [00:00, 26.65it/s, loss=-0.072]\n",
      "Epoch 34: : 14it [00:00, 31.42it/s, loss=-0.072]\n",
      "Epoch 34: : 20it [00:00, 36.80it/s, loss=-0.072]\n",
      "Epoch 35: : 10it [00:00, 26.44it/s, loss=-0.087]\n",
      "Epoch 35: : 14it [00:00, 31.20it/s, loss=-0.087]\n",
      "Epoch 35: : 20it [00:00, 36.59it/s, loss=-0.087]\n",
      "Epoch 36: : 10it [00:00, 26.49it/s, loss=-0.108]\n",
      "Epoch 36: : 14it [00:00, 31.49it/s, loss=-0.108]\n",
      "Epoch 36: : 20it [00:00, 36.86it/s, loss=-0.108]\n",
      "Epoch 37: : 10it [00:00, 25.58it/s, loss=-0.126]\n",
      "Epoch 37: : 14it [00:00, 30.16it/s, loss=-0.126]\n",
      "Epoch 37: : 20it [00:00, 35.06it/s, loss=-0.126]\n",
      "Epoch 38: : 10it [00:00, 24.95it/s, loss=-0.136]\n",
      "Epoch 38: : 14it [00:00, 29.54it/s, loss=-0.136]\n",
      "Epoch 38: : 20it [00:00, 34.46it/s, loss=-0.136]\n",
      "Epoch 39: : 10it [00:00, 24.90it/s, loss=-0.153]\n",
      "Epoch 39: : 14it [00:00, 29.56it/s, loss=-0.153]\n",
      "Epoch 39: : 20it [00:00, 34.56it/s, loss=-0.153]\n",
      "Epoch 40: : 8it [00:00, 24.78it/s, loss=-0.160]"
     ]
    },
    {
     "name": "stderr",
     "output_type": "stream",
     "text": [
      "/home/runingli/anaconda3/envs/celeste_py/lib/python3.7/site-packages/pytorch_lightning/utilities/distributed.py:25: UserWarning: Detected KeyboardInterrupt, attempting graceful shutdown...\n",
      "  warnings.warn(*args, **kwargs)\n"
     ]
    },
    {
     "name": "stdout",
     "output_type": "stream",
     "text": [
      "Epoch 40: : 8it [00:00, 23.27it/s, loss=-0.160]\n"
     ]
    }
   ],
   "source": [
    "n_epochs = 100 if use_cuda else 1\n",
    "trained_encoder = encoder_setup.get_trained_encoder(star_dataset, \n",
    "                                                    n_epochs=n_epochs, \n",
    "                                                    ptile_slen=star_dataset.tile_slen,\n",
    "                                                    tile_slen=star_dataset.tile_slen,\n",
    "                                                    max_detections=star_dataset.max_sources_per_tile\n",
    "                                                   )"
   ]
  },
  {
   "cell_type": "code",
   "execution_count": null,
   "metadata": {},
   "outputs": [],
   "source": []
  },
  {
   "cell_type": "markdown",
   "metadata": {},
   "source": [
    "# Evaluate"
   ]
  },
  {
   "cell_type": "markdown",
   "metadata": {},
   "source": [
    "### Evaluate on saved test image"
   ]
  },
  {
   "cell_type": "code",
   "execution_count": 33,
   "metadata": {},
   "outputs": [],
   "source": [
    "test_star = torch.load(paths[\"data\"].joinpath(\"1_star_test.pt\"))\n",
    "test_image = test_star[\"images\"].to(device)"
   ]
  },
  {
   "cell_type": "code",
   "execution_count": 34,
   "metadata": {},
   "outputs": [
    {
     "data": {
      "text/plain": [
       "torch.Size([1, 1, 30, 30])"
      ]
     },
     "execution_count": 34,
     "metadata": {},
     "output_type": "execute_result"
    }
   ],
   "source": [
    "test_image.shape"
   ]
  },
  {
   "cell_type": "code",
   "execution_count": 35,
   "metadata": {},
   "outputs": [],
   "source": [
    "with torch.no_grad():\n",
    "    # get the estimated params\n",
    "    trained_encoder.eval()\n",
    "    (\n",
    "        n_sources_per_tile,\n",
    "        locs_per_tile,\n",
    "        galaxy_params_per_tile,\n",
    "        log_fluxes_per_tile,\n",
    "        galaxy_bool_per_tile,\n",
    "    ) = trained_encoder.map_estimate(test_image)\n",
    "    \n",
    "    (\n",
    "        n_sources,\n",
    "        locs,\n",
    "        galaxy_params,\n",
    "        log_fluxes,\n",
    "        galaxy_bool,\n",
    "    ) = trained_encoder.get_full_params_from_sampled_params(n_sources_per_tile,\n",
    "                                                            locs_per_tile,\n",
    "                                                            galaxy_params_per_tile,\n",
    "                                                            log_fluxes_per_tile,\n",
    "                                                            galaxy_bool_per_tile)"
   ]
  },
  {
   "cell_type": "code",
   "execution_count": 36,
   "metadata": {},
   "outputs": [
    {
     "data": {
      "text/plain": [
       "<matplotlib.collections.PathCollection at 0x7fa4000e85d0>"
      ]
     },
     "execution_count": 36,
     "metadata": {},
     "output_type": "execute_result"
    },
    {
     "data": {
      "image/png": "[encoded data removed]",
      "text/plain": [
       "<Figure size 288x288 with 1 Axes>"
      ]
     },
     "metadata": {
      "needs_background": "light"
     },
     "output_type": "display_data"
    }
   ],
   "source": [
    "plt.matshow(test_image[0, 0].cpu())\n",
    "plt.scatter(test_star['locs'][0, :, 1] * slen - 0.5, \n",
    "            test_star['locs'][0, :, 0] * slen - 0.5, color = 'blue')\n",
    "\n",
    "plt.scatter(locs.cpu()[0, :, 1] * slen - 0.5, \n",
    "            locs.cpu()[0, :, 0] * slen - 0.5, color = 'red', marker = 'x')\n"
   ]
  },
  {
   "cell_type": "code",
   "execution_count": 37,
   "metadata": {},
   "outputs": [],
   "source": [
    "# test n_sources and locs\n",
    "assert n_sources == test_star[\"n_sources\"].to(device)"
   ]
  },
  {
   "cell_type": "code",
   "execution_count": 38,
   "metadata": {},
   "outputs": [
    {
     "data": {
      "text/plain": [
       "tensor([1.], device='cuda:0')"
      ]
     },
     "execution_count": 38,
     "metadata": {},
     "output_type": "execute_result"
    }
   ],
   "source": [
    "n_sources"
   ]
  },
  {
   "cell_type": "code",
   "execution_count": 39,
   "metadata": {},
   "outputs": [
    {
     "name": "stdout",
     "output_type": "stream",
     "text": [
      "tensor([[[-0.3545, -0.0414]]], device='cuda:0')\n"
     ]
    }
   ],
   "source": [
    "diff_locs = test_star[\"locs\"].sort(1)[0].to(device) - locs.sort(1)[0]\n",
    "diff_locs *= test_image.size(-1)\n",
    "print(diff_locs)\n",
    "assert diff_locs.abs().max() <= 0.5\n",
    "\n"
   ]
  },
  {
   "cell_type": "code",
   "execution_count": null,
   "metadata": {},
   "outputs": [],
   "source": []
  },
  {
   "cell_type": "code",
   "execution_count": 40,
   "metadata": {},
   "outputs": [],
   "source": [
    "# test fluxes\n",
    "diff = test_star[\"log_fluxes\"].sort(1)[0].to(device) - log_fluxes.sort(1)[0]\n",
    "assert torch.all(diff.abs() <= log_fluxes.sort(1)[0].abs() * 0.10)\n",
    "assert torch.all(\n",
    "    diff.abs() <= test_star[\"log_fluxes\"].sort(1)[0].abs().to(device) * 0.10\n",
    ")"
   ]
  },
  {
   "cell_type": "code",
   "execution_count": null,
   "metadata": {},
   "outputs": [],
   "source": []
  },
  {
   "cell_type": "code",
   "execution_count": null,
   "metadata": {},
   "outputs": [],
   "source": []
  }
 ],
 "metadata": {
  "kernelspec": {
   "display_name": "celeste_py",
   "language": "python",
   "name": "celeste_py"
  },
  "language_info": {
   "codemirror_mode": {
    "name": "ipython",
    "version": 3
   },
   "file_extension": ".py",
   "mimetype": "text/x-python",
   "name": "python",
   "nbconvert_exporter": "python",
   "pygments_lexer": "ipython3",
   "version": "3.7.7"
  }
 },
 "nbformat": 4,
 "nbformat_minor": 2
}

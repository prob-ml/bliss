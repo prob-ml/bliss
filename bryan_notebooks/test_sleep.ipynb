{
 "cells": [
  {
   "cell_type": "code",
   "execution_count": 1,
   "metadata": {},
   "outputs": [],
   "source": [
    "import torch\n",
    "import pytorch_lightning as pl\n",
    "\n",
    "from pathlib import Path\n",
    "\n",
    "import numpy as np\n",
    "\n",
    "import matplotlib.pyplot as plt\n",
    "%matplotlib inline  "
   ]
  },
  {
   "cell_type": "code",
   "execution_count": 2,
   "metadata": {},
   "outputs": [
    {
     "name": "stdout",
     "output_type": "stream",
     "text": [
      "cuda\n",
      "True\n"
     ]
    }
   ],
   "source": [
    "import bliss\n",
    "\n",
    "from bliss.datasets.simulated import SimulatedDataset\n",
    "import bliss.models.encoder as encoder\n",
    "from bliss.models.decoder import ImageDecoder\n",
    "from bliss import sleep\n",
    "from bliss import plotting\n",
    "\n",
    "from bliss import device, use_cuda\n",
    "print(device)\n",
    "print(use_cuda)\n",
    "\n",
    "data_path = Path('../data/')"
   ]
  },
  {
   "cell_type": "code",
   "execution_count": 3,
   "metadata": {},
   "outputs": [],
   "source": [
    "# torch.manual_seed(2342)\n",
    "# np.random.seed(354)"
   ]
  },
  {
   "cell_type": "markdown",
   "metadata": {},
   "source": [
    "# Model parameters"
   ]
  },
  {
   "cell_type": "code",
   "execution_count": 4,
   "metadata": {},
   "outputs": [],
   "source": [
    "# create training dataset\n",
    "n_bands = 2\n",
    "slen = 8\n",
    "\n",
    "tile_slen = 2"
   ]
  },
  {
   "cell_type": "code",
   "execution_count": 5,
   "metadata": {},
   "outputs": [],
   "source": [
    "# set background\n",
    "background = torch.zeros(n_bands, slen, slen, device=device)\n",
    "background[:] = 686.0"
   ]
  },
  {
   "cell_type": "code",
   "execution_count": 6,
   "metadata": {},
   "outputs": [],
   "source": [
    "# psf parameters \n",
    "psf_file = data_path.joinpath(\"fitted_powerlaw_psf_params.npy\")\n",
    "psf_params = torch.from_numpy(np.load(psf_file)).to(device)"
   ]
  },
  {
   "cell_type": "code",
   "execution_count": 7,
   "metadata": {},
   "outputs": [],
   "source": [
    "# None referes to no galaxies\n",
    "prob_galaxy = 0.\n",
    "dec_args = (None, psf_params, background)\n",
    "\n",
    "decoder_kwargs = dict(n_bands=n_bands,\n",
    "                        slen=slen,\n",
    "                        tile_slen=tile_slen,\n",
    "                        prob_galaxy=prob_galaxy,\n",
    "                        max_sources_per_tile=4,\n",
    "                        mean_sources_per_tile=0.8,\n",
    "                        min_sources_per_tile=0,\n",
    "                        f_min=1e4,\n",
    "                        f_max=1e6,\n",
    "                        alpha=0.5,\n",
    "                        add_noise=True)"
   ]
  },
  {
   "cell_type": "markdown",
   "metadata": {},
   "source": [
    "# Define dataset"
   ]
  },
  {
   "cell_type": "code",
   "execution_count": 8,
   "metadata": {},
   "outputs": [],
   "source": [
    "n_batches = 20\n",
    "batchsize = 2048\n",
    "dataset = SimulatedDataset(n_batches, batchsize, dec_args, decoder_kwargs)"
   ]
  },
  {
   "cell_type": "markdown",
   "metadata": {},
   "source": [
    "### a few example images"
   ]
  },
  {
   "cell_type": "code",
   "execution_count": 9,
   "metadata": {},
   "outputs": [],
   "source": [
    "data_sampled = dataset.get_batch()\n",
    "images = data_sampled['images']\n",
    "\n",
    "n_sources_full, locs_full = \\\n",
    "    encoder._get_full_params_from_sampled_params(\n",
    "                                                    slen,\n",
    "                                                    tile_slen,\n",
    "                                                    data_sampled['n_sources'],\n",
    "                                                    data_sampled['locs'])"
   ]
  },
  {
   "cell_type": "code",
   "execution_count": 10,
   "metadata": {},
   "outputs": [],
   "source": [
    "%matplotlib inline  "
   ]
  },
  {
   "cell_type": "code",
   "execution_count": 11,
   "metadata": {},
   "outputs": [
    {
     "data": {
      "image/png": "[encoded data removed]",
      "text/plain": [
       "<Figure size 432x432 with 1 Axes>"
      ]
     },
     "metadata": {
      "needs_background": "light"
     },
     "output_type": "display_data"
    }
   ],
   "source": [
    "f, axarr = plt.subplots(1, 1, figsize=(6, 6))\n",
    "\n",
    "batch = int(np.random.choice(batchsize))\n",
    "band = 0\n",
    "\n",
    "# plot image\n",
    "axarr.matshow(images[batch, band].cpu().detach())\n",
    "\n",
    "# plot locations \n",
    "n = int(n_sources_full[batch])\n",
    "axarr.scatter(locs_full[batch, 0:n, 1].cpu() * slen - 0.5, \n",
    "              locs_full[batch, 0:n, 0].cpu() * slen - 0.5, \n",
    "              color = 'red', marker = 'x')\n",
    "\n",
    "for i in range(int(slen / tile_slen)): \n",
    "    axarr.axvline(tile_slen * i - 0.5, color = 'white')\n",
    "    axarr.axhline(tile_slen * i - 0.5, color = 'white')\n",
    "    "
   ]
  },
  {
   "cell_type": "code",
   "execution_count": null,
   "metadata": {},
   "outputs": [],
   "source": []
  },
  {
   "cell_type": "code",
   "execution_count": null,
   "metadata": {},
   "outputs": [],
   "source": []
  },
  {
   "cell_type": "markdown",
   "metadata": {},
   "source": [
    "# Define encoder "
   ]
  },
  {
   "cell_type": "code",
   "execution_count": 12,
   "metadata": {},
   "outputs": [],
   "source": [
    "edge_padding = 3\n",
    "ptile_slen = tile_slen + 2 * edge_padding\n",
    "encoder_kwargs = dict(slen=slen,\n",
    "                        ptile_slen=ptile_slen,\n",
    "                        tile_slen=tile_slen,\n",
    "                        n_bands=n_bands,\n",
    "                        max_detections=dataset.image_decoder.max_sources_per_tile,\n",
    "                        n_galaxy_params=8,\n",
    "                        enc_conv_c=20,\n",
    "                        enc_kern=3,\n",
    "                        enc_hidden=256,\n",
    "                        momentum=0.5)"
   ]
  },
  {
   "cell_type": "code",
   "execution_count": 13,
   "metadata": {},
   "outputs": [],
   "source": [
    "sleep_net = sleep.SleepPhase(dataset, encoder_kwargs)\n",
    "sleep_net.to(device);"
   ]
  },
  {
   "cell_type": "code",
   "execution_count": 14,
   "metadata": {},
   "outputs": [
    {
     "data": {
      "text/plain": [
       "(tensor(123.0663, device='cuda:0', grad_fn=<MeanBackward0>),\n",
       " tensor([1.8705, 1.6038, 1.8693,  ..., 1.6244, 1.6254, 1.5584], device='cuda:0',\n",
       "        grad_fn=<NegBackward>),\n",
       " tensor([1.9986, 2.0551, 1.8727,  ..., 6.4579, -0.0000, 2.2516],\n",
       "        device='cuda:0', grad_fn=<MinBackward0>),\n",
       " tensor([-0., -0., -0.,  ..., -0., -0., -0.], device='cuda:0',\n",
       "        grad_fn=<NegBackward>),\n",
       " tensor([380.2423, 232.1406, 257.0397,  ..., 481.0904,  -0.0000, 193.6381],\n",
       "        device='cuda:0', grad_fn=<NegBackward>),\n",
       " tensor([0.4906, 0.3550, 0.4516,  ..., 2.2027, -0.0000, 0.7050],\n",
       "        device='cuda:0', grad_fn=<NegBackward>))"
      ]
     },
     "execution_count": 14,
     "metadata": {},
     "output_type": "execute_result"
    }
   ],
   "source": [
    "sleep_net.get_loss(dataset.get_batch())"
   ]
  },
  {
   "cell_type": "code",
   "execution_count": null,
   "metadata": {},
   "outputs": [],
   "source": []
  },
  {
   "cell_type": "markdown",
   "metadata": {},
   "source": [
    "# Train!"
   ]
  },
  {
   "cell_type": "code",
   "execution_count": 15,
   "metadata": {},
   "outputs": [],
   "source": [
    "n_epochs = 40"
   ]
  },
  {
   "cell_type": "code",
   "execution_count": 16,
   "metadata": {},
   "outputs": [
    {
     "name": "stderr",
     "output_type": "stream",
     "text": [
      "GPU available: True, used: True\n",
      "TPU available: False, using: 0 TPU cores\n",
      "CUDA_VISIBLE_DEVICES: [0]\n"
     ]
    }
   ],
   "source": [
    "sleep_trainer = pl.Trainer(\n",
    "            gpus = 1,\n",
    "            min_epochs=n_epochs,\n",
    "            max_epochs=n_epochs,\n",
    "            reload_dataloaders_every_epoch=True,\n",
    "            logger=False,\n",
    "            checkpoint_callback=False,\n",
    "        )"
   ]
  },
  {
   "cell_type": "code",
   "execution_count": 17,
   "metadata": {},
   "outputs": [
    {
     "name": "stderr",
     "output_type": "stream",
     "text": [
      "\n",
      "  | Name          | Type         | Params\n",
      "-----------------------------------------------\n",
      "0 | image_encoder | ImageEncoder | 537 K \n",
      "/home/runingli/anaconda3/envs/celeste_py/lib/python3.7/site-packages/pytorch_lightning/utilities/distributed.py:25: UserWarning: The dataloader, val dataloader 0, does not have many workers which may be a bottleneck. Consider increasing the value of the `num_workers` argument` (try 64 which is the number of cpus on this machine) in the `DataLoader` init to improve performance.\n",
      "  warnings.warn(*args, **kwargs)\n"
     ]
    },
    {
     "name": "stdout",
     "output_type": "stream",
     "text": [
      "Training: 0it [00:00, ?it/s]"
     ]
    },
    {
     "name": "stderr",
     "output_type": "stream",
     "text": [
      "/home/runingli/anaconda3/envs/celeste_py/lib/python3.7/site-packages/pytorch_lightning/utilities/distributed.py:25: UserWarning: The dataloader, train dataloader, does not have many workers which may be a bottleneck. Consider increasing the value of the `num_workers` argument` (try 64 which is the number of cpus on this machine) in the `DataLoader` init to improve performance.\n",
      "  warnings.warn(*args, **kwargs)\n"
     ]
    },
    {
     "name": "stdout",
     "output_type": "stream",
     "text": [
      "Epoch 1: : 20it [00:04,  4.96it/s, loss=43.006]\n",
      "Validating: 0it [00:00, ?it/s]\n",
      "Epoch 1: : 23it [00:04,  5.52it/s, loss=43.006]\n",
      "Epoch 1: : 26it [00:04,  6.05it/s, loss=43.006]\n",
      "Epoch 1: : 29it [00:04,  6.55it/s, loss=43.006]\n",
      "Epoch 1: : 32it [00:04,  7.02it/s, loss=43.006]\n",
      "Epoch 1: : 35it [00:04,  7.46it/s, loss=43.006]\n",
      "Epoch 1: : 40it [00:04,  8.14it/s, loss=43.006]\n",
      "Epoch 2: : 20it [00:03,  5.03it/s, loss=9.446]\n",
      "Epoch 2: : 21it [00:04,  5.21it/s, loss=9.446]\n",
      "Epoch 2: : 24it [00:04,  5.76it/s, loss=9.446]\n",
      "Validating: 5it [00:00, 20.63it/s]\n",
      "Epoch 2: : 27it [00:04,  6.24it/s, loss=9.446]\n",
      "Epoch 2: : 30it [00:04,  6.71it/s, loss=9.446]\n",
      "Epoch 2: : 33it [00:04,  7.13it/s, loss=9.446]\n",
      "Validating: 14it [00:00, 19.23it/s]\n",
      "Epoch 2: : 36it [00:04,  7.49it/s, loss=9.446]\n",
      "Epoch 2: : 39it [00:04,  7.85it/s, loss=9.446]\n",
      "Epoch 2: : 40it [00:05,  7.96it/s, loss=9.446]\n",
      "Epoch 3: : 20it [00:03,  5.08it/s, loss=7.121]\n",
      "Epoch 3: : 21it [00:03,  5.27it/s, loss=7.121]\n",
      "Epoch 3: : 24it [00:04,  5.83it/s, loss=7.121]\n",
      "Epoch 3: : 27it [00:04,  6.32it/s, loss=7.121]\n",
      "Epoch 3: : 30it [00:04,  6.82it/s, loss=7.121]\n",
      "Epoch 3: : 33it [00:04,  7.28it/s, loss=7.121]\n",
      "Epoch 3: : 36it [00:04,  7.72it/s, loss=7.121]\n",
      "Epoch 3: : 40it [00:04,  8.26it/s, loss=7.121]\n",
      "Epoch 4: : 20it [00:03,  5.11it/s, loss=6.618]\n",
      "Epoch 4: : 21it [00:03,  5.30it/s, loss=6.618]\n",
      "Validating: 2it [00:00, 18.85it/s]\n",
      "Epoch 4: : 24it [00:04,  5.80it/s, loss=6.618]\n",
      "Epoch 4: : 27it [00:04,  6.30it/s, loss=6.618]\n",
      "Epoch 4: : 30it [00:04,  6.79it/s, loss=6.618]\n",
      "Epoch 4: : 33it [00:04,  7.26it/s, loss=6.618]\n",
      "Epoch 4: : 36it [00:04,  7.70it/s, loss=6.618]\n",
      "Epoch 4: : 40it [00:04,  8.24it/s, loss=6.618]\n",
      "Epoch 5: : 20it [00:03,  5.05it/s, loss=6.370]\n",
      "Epoch 5: : 21it [00:04,  5.22it/s, loss=6.370]\n",
      "Validating: 2it [00:00, 17.35it/s]\n",
      "Epoch 5: : 24it [00:04,  5.73it/s, loss=6.370]\n",
      "Epoch 5: : 27it [00:04,  6.23it/s, loss=6.370]\n",
      "Epoch 5: : 30it [00:04,  6.70it/s, loss=6.370]\n",
      "Epoch 5: : 33it [00:04,  7.15it/s, loss=6.370]\n",
      "Epoch 5: : 36it [00:04,  7.59it/s, loss=6.370]\n",
      "Epoch 5: : 40it [00:04,  8.12it/s, loss=6.370]\n",
      "Epoch 6: : 20it [00:04,  4.98it/s, loss=6.223]\n",
      "Epoch 6: : 21it [00:04,  5.15it/s, loss=6.223]\n",
      "Validating: 2it [00:00, 17.32it/s]\n",
      "Epoch 6: : 24it [00:04,  5.65it/s, loss=6.223]\n",
      "Epoch 6: : 27it [00:04,  6.12it/s, loss=6.223]\n",
      "Epoch 6: : 30it [00:04,  6.57it/s, loss=6.223]\n",
      "Validating: 11it [00:00, 18.37it/s]\n",
      "Epoch 6: : 33it [00:04,  6.98it/s, loss=6.223]\n",
      "Epoch 6: : 36it [00:04,  7.37it/s, loss=6.223]\n",
      "Validating: 17it [00:00, 18.59it/s]\n",
      "Epoch 6: : 40it [00:05,  7.28it/s, loss=6.223]\n",
      "Epoch 7: : 20it [00:03,  5.03it/s, loss=6.060]\n",
      "Epoch 7: : 21it [00:04,  5.22it/s, loss=6.060]\n",
      "Epoch 7: : 24it [00:04,  5.77it/s, loss=6.060]\n",
      "Epoch 7: : 27it [00:04,  6.29it/s, loss=6.060]\n",
      "Epoch 7: : 30it [00:04,  6.78it/s, loss=6.060]\n",
      "Epoch 7: : 33it [00:04,  7.24it/s, loss=6.060]\n",
      "Epoch 7: : 36it [00:04,  7.68it/s, loss=6.060]\n",
      "Epoch 7: : 40it [00:05,  7.48it/s, loss=6.060]\n",
      "Epoch 8: : 20it [00:03,  5.06it/s, loss=5.927]\n",
      "Epoch 8: : 21it [00:04,  5.25it/s, loss=5.927]\n",
      "Validating: 2it [00:00, 19.21it/s]\n",
      "Epoch 8: : 24it [00:04,  5.75it/s, loss=5.927]\n",
      "Epoch 8: : 27it [00:04,  6.23it/s, loss=5.927]\n",
      "Validating: 8it [00:00, 18.46it/s]\n",
      "Epoch 8: : 30it [00:04,  6.68it/s, loss=5.927]\n",
      "Epoch 8: : 33it [00:04,  7.08it/s, loss=5.927]\n",
      "Validating: 14it [00:00, 18.46it/s]\n",
      "Epoch 8: : 36it [00:04,  7.46it/s, loss=5.927]\n",
      "Epoch 8: : 40it [00:05,  7.25it/s, loss=5.927]\n",
      "Epoch 9: : 20it [00:03,  5.02it/s, loss=5.732]\n",
      "Epoch 9: : 21it [00:04,  5.19it/s, loss=5.732]\n",
      "Validating: 2it [00:00, 19.87it/s]\n",
      "Epoch 9: : 24it [00:04,  5.71it/s, loss=5.732]\n",
      "Epoch 9: : 27it [00:04,  6.21it/s, loss=5.732]\n",
      "Epoch 9: : 30it [00:04,  6.65it/s, loss=5.732]\n",
      "Epoch 9: : 33it [00:04,  7.07it/s, loss=5.732]\n",
      "Epoch 9: : 36it [00:04,  7.48it/s, loss=5.732]\n",
      "Epoch 9: : 39it [00:04,  7.86it/s, loss=5.732]\n",
      "Epoch 9: : 40it [00:05,  7.41it/s, loss=5.732]\n",
      "Epoch 10: : 20it [00:03,  5.01it/s, loss=5.505]\n",
      "Epoch 10: : 21it [00:04,  5.18it/s, loss=5.505]\n",
      "Validating: 2it [00:00, 17.94it/s]\n",
      "Epoch 10: : 24it [00:04,  5.69it/s, loss=5.505]\n",
      "Epoch 10: : 27it [00:04,  6.18it/s, loss=5.505]\n",
      "Validating: 8it [00:00, 18.71it/s]\n",
      "Epoch 10: : 30it [00:04,  6.63it/s, loss=5.505]\n",
      "Epoch 10: : 33it [00:04,  7.05it/s, loss=5.505]\n",
      "Validating: 14it [00:00, 19.06it/s]\n",
      "Epoch 10: : 36it [00:04,  7.42it/s, loss=5.505]\n",
      "Epoch 10: : 39it [00:05,  7.79it/s, loss=5.505]\n",
      "Epoch 10: : 40it [00:05,  7.13it/s, loss=5.505]\n",
      "Epoch 11: : 20it [00:03,  5.05it/s, loss=5.215]\n",
      "Epoch 11: : 21it [00:04,  5.23it/s, loss=5.215]\n",
      "Epoch 11: : 24it [00:04,  5.77it/s, loss=5.215]\n",
      "Epoch 11: : 27it [00:04,  6.28it/s, loss=5.215]\n",
      "Epoch 11: : 30it [00:04,  6.75it/s, loss=5.215]\n",
      "Epoch 11: : 33it [00:04,  7.19it/s, loss=5.215]\n",
      "Epoch 11: : 36it [00:04,  7.62it/s, loss=5.215]\n",
      "Epoch 11: : 39it [00:04,  8.03it/s, loss=5.215]\n",
      "Epoch 11: : 40it [00:05,  7.60it/s, loss=5.215]\n",
      "Epoch 12: : 20it [00:03,  5.06it/s, loss=4.993]\n",
      "Epoch 12: : 21it [00:04,  5.24it/s, loss=4.993]\n",
      "Validating: 2it [00:00, 17.86it/s]\n",
      "Epoch 12: : 24it [00:04,  5.75it/s, loss=4.993]\n",
      "Epoch 12: : 27it [00:04,  6.23it/s, loss=4.993]\n",
      "Validating: 8it [00:00, 18.13it/s]\n",
      "Epoch 12: : 30it [00:04,  6.68it/s, loss=4.993]\n",
      "Epoch 12: : 33it [00:04,  7.09it/s, loss=4.993]\n",
      "Epoch 12: : 36it [00:04,  7.49it/s, loss=4.993]\n",
      "Epoch 12: : 39it [00:04,  7.86it/s, loss=4.993]\n",
      "Epoch 12: : 40it [00:05,  7.07it/s, loss=4.993]\n",
      "Epoch 13: : 20it [00:04,  4.96it/s, loss=4.724]\n",
      "Epoch 13: : 21it [00:04,  5.13it/s, loss=4.724]\n",
      "Epoch 13: : 24it [00:04,  5.68it/s, loss=4.724]\n",
      "Epoch 13: : 27it [00:04,  6.19it/s, loss=4.724]\n",
      "Validating: 8it [00:00, 20.65it/s]\n",
      "Epoch 13: : 30it [00:04,  6.62it/s, loss=4.724]\n",
      "Epoch 13: : 33it [00:04,  7.01it/s, loss=4.724]\n",
      "Validating: 14it [00:00, 17.92it/s]\n",
      "Epoch 13: : 36it [00:04,  7.37it/s, loss=4.724]\n",
      "Epoch 13: : 39it [00:05,  7.71it/s, loss=4.724]\n",
      "Epoch 13: : 40it [00:05,  7.24it/s, loss=4.724]\n",
      "Epoch 14: : 20it [00:04,  4.90it/s, loss=4.444]\n",
      "Epoch 14: : 21it [00:04,  5.08it/s, loss=4.444]\n",
      "Epoch 14: : 24it [00:04,  5.59it/s, loss=4.444]\n",
      "Validating: 5it [00:00, 18.09it/s]\n",
      "Epoch 14: : 27it [00:04,  6.07it/s, loss=4.444]\n",
      "Epoch 14: : 30it [00:04,  6.53it/s, loss=4.444]\n",
      "Epoch 14: : 33it [00:04,  6.98it/s, loss=4.444]\n",
      "Epoch 14: : 36it [00:04,  7.39it/s, loss=4.444]\n",
      "Epoch 14: : 40it [00:05,  7.08it/s, loss=4.444]\n",
      "Epoch 15: : 20it [00:03,  5.11it/s, loss=4.136]\n",
      "Epoch 15: : 21it [00:03,  5.30it/s, loss=4.136]\n",
      "Epoch 15: : 24it [00:04,  5.83it/s, loss=4.136]\n",
      "Epoch 15: : 27it [00:04,  6.32it/s, loss=4.136]\n",
      "Epoch 15: : 30it [00:04,  6.81it/s, loss=4.136]\n",
      "Epoch 15: : 33it [00:04,  7.26it/s, loss=4.136]\n",
      "Epoch 15: : 36it [00:04,  7.70it/s, loss=4.136]\n",
      "Epoch 15: : 39it [00:04,  8.13it/s, loss=4.136]\n",
      "Epoch 15: : 40it [00:05,  7.66it/s, loss=4.136]\n",
      "Epoch 16: : 20it [00:04,  4.98it/s, loss=3.810]\n",
      "Epoch 16: : 21it [00:04,  5.16it/s, loss=3.810]\n",
      "Epoch 16: : 24it [00:04,  5.69it/s, loss=3.810]\n",
      "Epoch 16: : 27it [00:04,  6.19it/s, loss=3.810]\n",
      "Epoch 16: : 30it [00:04,  6.66it/s, loss=3.810]\n",
      "Epoch 16: : 33it [00:04,  7.12it/s, loss=3.810]\n",
      "Epoch 16: : 36it [00:04,  7.57it/s, loss=3.810]\n",
      "Epoch 16: : 39it [00:04,  7.98it/s, loss=3.810]\n",
      "Epoch 16: : 40it [00:05,  7.51it/s, loss=3.810]\n",
      "Epoch 17: : 20it [00:03,  5.13it/s, loss=3.443]\n",
      "Epoch 17: : 21it [00:03,  5.30it/s, loss=3.443]\n",
      "Validating: 2it [00:00, 19.55it/s]\n",
      "Epoch 17: : 24it [00:04,  5.84it/s, loss=3.443]\n",
      "Epoch 17: : 27it [00:04,  6.32it/s, loss=3.443]\n",
      "Epoch 17: : 30it [00:04,  6.78it/s, loss=3.443]\n",
      "Validating: 11it [00:00, 19.33it/s]\n",
      "Epoch 17: : 33it [00:04,  7.21it/s, loss=3.443]\n",
      "Epoch 17: : 36it [00:04,  7.62it/s, loss=3.443]\n",
      "Epoch 17: : 39it [00:04,  8.00it/s, loss=3.443]\n",
      "Epoch 17: : 40it [00:05,  7.51it/s, loss=3.443]\n",
      "Epoch 18: : 20it [00:04,  4.97it/s, loss=3.137]\n",
      "Epoch 18: : 21it [00:04,  5.14it/s, loss=3.137]\n",
      "Epoch 18: : 24it [00:04,  5.66it/s, loss=3.137]\n",
      "Validating: 5it [00:00, 18.02it/s]\n",
      "Epoch 18: : 27it [00:04,  6.12it/s, loss=3.137]\n",
      "Epoch 18: : 30it [00:04,  6.55it/s, loss=3.137]\n",
      "Validating: 11it [00:00, 17.99it/s]\n",
      "Epoch 18: : 33it [00:04,  6.96it/s, loss=3.137]\n",
      "Epoch 18: : 36it [00:04,  7.39it/s, loss=3.137]\n",
      "Epoch 18: : 40it [00:05,  6.85it/s, loss=3.137]\n",
      "Epoch 19: : 20it [00:03,  5.10it/s, loss=2.818]\n",
      "Epoch 19: : 21it [00:03,  5.27it/s, loss=2.818]\n",
      "Validating: 2it [00:00, 17.42it/s]\n",
      "Epoch 19: : 24it [00:04,  5.77it/s, loss=2.818]\n",
      "Epoch 19: : 27it [00:04,  6.24it/s, loss=2.818]\n",
      "Epoch 19: : 30it [00:04,  6.72it/s, loss=2.818]\n",
      "Epoch 19: : 33it [00:04,  7.18it/s, loss=2.818]\n",
      "Validating: 14it [00:00, 19.87it/s]\n",
      "Epoch 19: : 36it [00:04,  7.56it/s, loss=2.818]\n",
      "Epoch 19: : 39it [00:04,  7.93it/s, loss=2.818]\n",
      "Epoch 19: : 40it [00:05,  7.46it/s, loss=2.818]\n",
      "Epoch 20: : 20it [00:04,  4.94it/s, loss=2.554]\n",
      "Epoch 20: : 21it [00:04,  5.12it/s, loss=2.554]\n",
      "Validating: 2it [00:00, 18.79it/s]\n",
      "Epoch 20: : 24it [00:04,  5.62it/s, loss=2.554]\n",
      "Epoch 20: : 27it [00:04,  6.09it/s, loss=2.554]\n",
      "Validating: 8it [00:00, 18.85it/s]\n",
      "Epoch 20: : 30it [00:04,  6.55it/s, loss=2.554]\n",
      "Epoch 20: : 33it [00:04,  6.96it/s, loss=2.554]\n",
      "Epoch 20: : 36it [00:04,  7.36it/s, loss=2.554]\n",
      "Epoch 20: : 39it [00:05,  7.74it/s, loss=2.554]\n",
      "Epoch 20: : 40it [00:05,  7.33it/s, loss=2.554]\n",
      "Epoch 21: : 20it [00:04,  4.99it/s, loss=2.305]\n",
      "Epoch 21: : 21it [00:04,  5.15it/s, loss=2.305]\n",
      "Validating: 2it [00:00, 16.06it/s]\n",
      "Epoch 21: : 24it [00:04,  5.66it/s, loss=2.305]\n",
      "Epoch 21: : 27it [00:04,  6.16it/s, loss=2.305]\n",
      "Epoch 21: : 30it [00:04,  6.61it/s, loss=2.305]\n",
      "Validating: 11it [00:00, 18.23it/s]\n",
      "Epoch 21: : 33it [00:04,  6.99it/s, loss=2.305]\n",
      "Epoch 21: : 36it [00:04,  7.38it/s, loss=2.305]\n",
      "Validating: 17it [00:00, 18.10it/s]\n",
      "Epoch 21: : 40it [00:05,  7.28it/s, loss=2.305]\n",
      "Epoch 22: : 20it [00:03,  5.01it/s, loss=2.080]\n",
      "Epoch 22: : 21it [00:04,  5.19it/s, loss=2.080]\n",
      "Epoch 22: : 24it [00:04,  5.75it/s, loss=2.080]\n",
      "Epoch 22: : 27it [00:04,  6.24it/s, loss=2.080]\n",
      "Epoch 22: : 30it [00:04,  6.73it/s, loss=2.080]\n",
      "Epoch 22: : 33it [00:04,  7.20it/s, loss=2.080]\n",
      "Epoch 22: : 36it [00:04,  7.65it/s, loss=2.080]\n",
      "Epoch 22: : 40it [00:05,  6.96it/s, loss=2.080]\n",
      "Epoch 23: : 20it [00:03,  5.08it/s, loss=1.863]\n",
      "Epoch 23: : 21it [00:03,  5.26it/s, loss=1.863]\n",
      "Validating: 2it [00:00, 17.86it/s]\n",
      "Epoch 23: : 24it [00:04,  5.78it/s, loss=1.863]\n",
      "Epoch 23: : 27it [00:04,  6.26it/s, loss=1.863]\n",
      "Epoch 23: : 30it [00:04,  6.76it/s, loss=1.863]\n",
      "Epoch 23: : 33it [00:04,  7.22it/s, loss=1.863]\n",
      "Epoch 23: : 36it [00:04,  7.66it/s, loss=1.863]\n",
      "Epoch 23: : 39it [00:04,  8.06it/s, loss=1.863]\n",
      "Epoch 23: : 40it [00:05,  7.61it/s, loss=1.863]\n",
      "Epoch 24: : 20it [00:03,  5.03it/s, loss=1.698]\n",
      "Epoch 24: : 21it [00:04,  5.20it/s, loss=1.698]\n",
      "Validating: 2it [00:00, 17.97it/s]\n",
      "Epoch 24: : 24it [00:04,  5.72it/s, loss=1.698]\n",
      "Epoch 24: : 27it [00:04,  6.20it/s, loss=1.698]\n",
      "Epoch 24: : 30it [00:04,  6.65it/s, loss=1.698]\n",
      "Validating: 11it [00:00, 18.55it/s]\n",
      "Epoch 24: : 33it [00:04,  7.06it/s, loss=1.698]\n",
      "Epoch 24: : 36it [00:04,  7.43it/s, loss=1.698]\n",
      "Validating: 17it [00:00, 18.08it/s]\n",
      "Epoch 24: : 40it [00:05,  7.30it/s, loss=1.698]\n",
      "Epoch 25: : 20it [00:04,  4.98it/s, loss=1.549]\n",
      "Epoch 25: : 21it [00:04,  5.15it/s, loss=1.549]\n",
      "Validating: 2it [00:00, 17.32it/s]\n",
      "Epoch 25: : 24it [00:04,  5.65it/s, loss=1.549]\n",
      "Epoch 25: : 27it [00:04,  6.13it/s, loss=1.549]\n",
      "Epoch 25: : 30it [00:04,  6.57it/s, loss=1.549]\n",
      "Validating: 11it [00:00, 17.62it/s]\n",
      "Epoch 25: : 33it [00:04,  6.93it/s, loss=1.549]\n",
      "Epoch 25: : 36it [00:04,  7.34it/s, loss=1.549]\n",
      "Validating: 17it [00:00, 18.06it/s]\n",
      "Epoch 25: : 40it [00:05,  7.18it/s, loss=1.549]\n",
      "Epoch 26: : 20it [00:04,  4.92it/s, loss=1.445]\n",
      "Epoch 26: : 21it [00:04,  5.09it/s, loss=1.445]\n",
      "Epoch 26: : 24it [00:04,  5.60it/s, loss=1.445]\n",
      "Validating: 5it [00:00, 19.26it/s]\n",
      "Epoch 26: : 27it [00:04,  6.10it/s, loss=1.445]\n",
      "Epoch 26: : 30it [00:04,  6.51it/s, loss=1.445]\n",
      "Validating: 11it [00:00, 18.05it/s]\n",
      "Epoch 26: : 33it [00:04,  6.90it/s, loss=1.445]\n",
      "Epoch 26: : 36it [00:04,  7.30it/s, loss=1.445]\n",
      "Epoch 26: : 39it [00:05,  7.65it/s, loss=1.445]\n",
      "Epoch 26: : 40it [00:05,  7.22it/s, loss=1.445]\n",
      "Epoch 27: : 20it [00:03,  5.07it/s, loss=1.317]\n",
      "Epoch 27: : 21it [00:04,  5.25it/s, loss=1.317]\n",
      "Epoch 27: : 24it [00:04,  5.81it/s, loss=1.317]\n",
      "Epoch 27: : 27it [00:04,  6.33it/s, loss=1.317]\n",
      "Epoch 27: : 30it [00:04,  6.82it/s, loss=1.317]\n",
      "Epoch 27: : 33it [00:04,  7.28it/s, loss=1.317]\n",
      "Epoch 27: : 36it [00:04,  7.72it/s, loss=1.317]\n",
      "Epoch 27: : 40it [00:05,  6.91it/s, loss=1.317]\n",
      "Epoch 28: : 20it [00:04,  4.88it/s, loss=1.324]\n",
      "Epoch 28: : 21it [00:04,  5.06it/s, loss=1.324]\n",
      "Epoch 28: : 24it [00:04,  5.58it/s, loss=1.324]\n",
      "Validating: 5it [00:00, 19.38it/s]\n",
      "Epoch 28: : 27it [00:04,  6.03it/s, loss=1.324]\n",
      "Epoch 28: : 30it [00:04,  6.46it/s, loss=1.324]\n",
      "Validating: 11it [00:00, 18.44it/s]\n",
      "Epoch 28: : 33it [00:04,  6.86it/s, loss=1.324]\n",
      "Epoch 28: : 36it [00:04,  7.23it/s, loss=1.324]\n",
      "Epoch 28: : 39it [00:05,  7.61it/s, loss=1.324]\n",
      "Epoch 28: : 40it [00:05,  7.20it/s, loss=1.324]\n",
      "Epoch 29: : 20it [00:03,  5.09it/s, loss=1.315]\n",
      "Epoch 29: : 21it [00:03,  5.28it/s, loss=1.315]\n",
      "Epoch 29: : 24it [00:04,  5.81it/s, loss=1.315]\n",
      "Epoch 29: : 27it [00:04,  6.31it/s, loss=1.315]\n",
      "Validating: 8it [00:00, 19.92it/s]\n",
      "Epoch 29: : 30it [00:04,  6.76it/s, loss=1.315]\n",
      "Epoch 29: : 33it [00:04,  7.18it/s, loss=1.315]\n",
      "Epoch 29: : 36it [00:04,  7.57it/s, loss=1.315]\n",
      "Validating: 17it [00:00, 19.22it/s]\n",
      "Epoch 29: : 40it [00:05,  7.46it/s, loss=1.315]\n",
      "Epoch 30: : 20it [00:03,  5.01it/s, loss=1.034]\n",
      "Epoch 30: : 21it [00:04,  5.20it/s, loss=1.034]\n",
      "Validating: 2it [00:00, 19.54it/s]\n",
      "Epoch 30: : 24it [00:04,  5.70it/s, loss=1.034]\n",
      "Epoch 30: : 27it [00:04,  6.21it/s, loss=1.034]\n",
      "Epoch 30: : 30it [00:04,  6.67it/s, loss=1.034]\n",
      "Epoch 30: : 33it [00:04,  7.11it/s, loss=1.034]\n",
      "Epoch 30: : 36it [00:04,  7.50it/s, loss=1.034]\n",
      "Epoch 30: : 39it [00:04,  7.89it/s, loss=1.034]\n",
      "Epoch 30: : 40it [00:05,  7.43it/s, loss=1.034]\n",
      "Epoch 31: : 20it [00:04,  4.95it/s, loss=0.976]\n",
      "Epoch 31: : 21it [00:04,  5.12it/s, loss=0.976]\n",
      "Validating: 2it [00:00, 17.58it/s]\n",
      "Epoch 31: : 24it [00:04,  5.60it/s, loss=0.976]\n",
      "Epoch 31: : 27it [00:04,  6.07it/s, loss=0.976]\n",
      "Validating: 8it [00:00, 17.36it/s]\n",
      "Epoch 31: : 30it [00:04,  6.49it/s, loss=0.976]\n",
      "Epoch 31: : 33it [00:04,  6.90it/s, loss=0.976]\n",
      "Epoch 31: : 36it [00:04,  7.27it/s, loss=0.976]\n",
      "Validating: 17it [00:00, 17.75it/s]\n",
      "Epoch 31: : 40it [00:05,  7.22it/s, loss=0.976]\n",
      "Epoch 32: : 20it [00:04,  4.94it/s, loss=0.943]\n",
      "Epoch 32: : 21it [00:04,  5.11it/s, loss=0.943]\n",
      "Validating: 2it [00:00, 16.81it/s]\n",
      "Epoch 32: : 24it [00:04,  5.60it/s, loss=0.943]\n",
      "Epoch 32: : 27it [00:04,  6.06it/s, loss=0.943]\n",
      "Validating: 8it [00:00, 17.64it/s]\n",
      "Epoch 32: : 30it [00:04,  6.49it/s, loss=0.943]\n",
      "Epoch 32: : 33it [00:04,  6.90it/s, loss=0.943]\n",
      "Validating: 14it [00:00, 17.94it/s]\n",
      "Epoch 32: : 36it [00:04,  7.29it/s, loss=0.943]\n",
      "Epoch 32: : 39it [00:05,  7.64it/s, loss=0.943]\n",
      "Epoch 32: : 40it [00:05,  7.16it/s, loss=0.943]\n",
      "Epoch 33: : 20it [00:04,  4.97it/s, loss=1.267]\n",
      "Epoch 33: : 21it [00:04,  5.16it/s, loss=1.267]\n",
      "Epoch 33: : 24it [00:04,  5.72it/s, loss=1.267]\n",
      "Epoch 33: : 27it [00:04,  6.26it/s, loss=1.267]\n",
      "Epoch 33: : 30it [00:04,  6.77it/s, loss=1.267]\n",
      "Epoch 33: : 33it [00:04,  7.25it/s, loss=1.267]\n",
      "Epoch 33: : 36it [00:04,  7.70it/s, loss=1.267]\n",
      "Epoch 33: : 40it [00:05,  6.79it/s, loss=1.267]\n",
      "Epoch 34: : 20it [00:03,  5.08it/s, loss=0.854]\n",
      "Epoch 34: : 21it [00:03,  5.28it/s, loss=0.854]\n",
      "Epoch 34: : 24it [00:04,  5.85it/s, loss=0.854]\n",
      "Epoch 34: : 27it [00:04,  6.39it/s, loss=0.854]\n",
      "Epoch 34: : 30it [00:04,  6.90it/s, loss=0.854]\n",
      "Epoch 34: : 33it [00:04,  7.39it/s, loss=0.854]\n",
      "Epoch 34: : 36it [00:04,  7.84it/s, loss=0.854]\n",
      "Epoch 34: : 40it [00:05,  7.86it/s, loss=0.854]\n",
      "Epoch 35: : 20it [00:03,  5.36it/s, loss=0.758]\n",
      "Epoch 35: : 21it [00:03,  5.55it/s, loss=0.758]\n",
      "Epoch 35: : 24it [00:03,  6.15it/s, loss=0.758]\n",
      "Epoch 35: : 27it [00:04,  6.69it/s, loss=0.758]\n",
      "Epoch 35: : 30it [00:04,  7.20it/s, loss=0.758]\n",
      "Epoch 35: : 33it [00:04,  7.69it/s, loss=0.758]\n",
      "Epoch 35: : 36it [00:04,  8.15it/s, loss=0.758]\n",
      "Epoch 35: : 40it [00:04,  8.10it/s, loss=0.758]\n",
      "Epoch 36: : 20it [00:03,  5.17it/s, loss=0.702]\n",
      "Epoch 36: : 21it [00:03,  5.37it/s, loss=0.702]\n",
      "Epoch 36: : 24it [00:04,  5.95it/s, loss=0.702]\n",
      "Epoch 36: : 27it [00:04,  6.49it/s, loss=0.702]\n",
      "Epoch 36: : 30it [00:04,  7.01it/s, loss=0.702]\n",
      "Epoch 36: : 33it [00:04,  7.49it/s, loss=0.702]\n",
      "Epoch 36: : 36it [00:04,  7.95it/s, loss=0.702]\n",
      "Epoch 36: : 40it [00:05,  7.94it/s, loss=0.702]\n",
      "Epoch 37: : 20it [00:03,  5.17it/s, loss=0.714]\n",
      "Epoch 37: : 21it [00:03,  5.36it/s, loss=0.714]\n",
      "Epoch 37: : 24it [00:04,  5.94it/s, loss=0.714]\n",
      "Epoch 37: : 27it [00:04,  6.49it/s, loss=0.714]\n",
      "Epoch 37: : 30it [00:04,  7.00it/s, loss=0.714]\n",
      "Epoch 37: : 33it [00:04,  7.48it/s, loss=0.714]\n",
      "Epoch 37: : 36it [00:04,  7.94it/s, loss=0.714]\n",
      "Epoch 37: : 40it [00:05,  7.94it/s, loss=0.714]\n",
      "Epoch 38: : 20it [00:03,  5.38it/s, loss=0.679]\n",
      "Epoch 38: : 21it [00:03,  5.57it/s, loss=0.679]\n",
      "Epoch 38: : 24it [00:03,  6.17it/s, loss=0.679]\n",
      "Epoch 38: : 27it [00:04,  6.72it/s, loss=0.679]\n",
      "Epoch 38: : 30it [00:04,  7.25it/s, loss=0.679]\n",
      "Epoch 38: : 33it [00:04,  7.75it/s, loss=0.679]\n",
      "Epoch 38: : 36it [00:04,  8.22it/s, loss=0.679]\n",
      "Epoch 38: : 40it [00:04,  8.20it/s, loss=0.679]\n",
      "Epoch 39: : 20it [00:03,  5.28it/s, loss=0.637]\n",
      "Epoch 39: : 21it [00:03,  5.49it/s, loss=0.637]\n",
      "Epoch 39: : 24it [00:03,  6.08it/s, loss=0.637]\n",
      "Epoch 39: : 27it [00:04,  6.63it/s, loss=0.637]\n",
      "Epoch 39: : 30it [00:04,  7.16it/s, loss=0.637]\n",
      "Epoch 39: : 33it [00:04,  7.65it/s, loss=0.637]\n",
      "Epoch 39: : 36it [00:04,  8.12it/s, loss=0.637]\n",
      "Epoch 39: : 40it [00:04,  8.11it/s, loss=0.637]\n",
      "Epoch 40: : 20it [00:03,  5.41it/s, loss=0.613]\n",
      "Epoch 40: : 21it [00:03,  5.62it/s, loss=0.613]\n",
      "Epoch 40: : 24it [00:03,  6.22it/s, loss=0.613]\n",
      "Epoch 40: : 27it [00:03,  6.78it/s, loss=0.613]\n",
      "Epoch 40: : 30it [00:04,  7.31it/s, loss=0.613]\n",
      "Epoch 40: : 33it [00:04,  7.81it/s, loss=0.613]\n",
      "Epoch 40: : 36it [00:04,  8.29it/s, loss=0.613]\n",
      "Epoch 40: : 40it [00:04,  8.25it/s, loss=0.613]\n",
      "Epoch 40: : 40it [00:04,  8.25it/s, loss=0.613]\n"
     ]
    },
    {
     "data": {
      "text/plain": [
       "1"
      ]
     },
     "execution_count": 17,
     "metadata": {},
     "output_type": "execute_result"
    }
   ],
   "source": [
    "sleep_trainer.fit(sleep_net)"
   ]
  },
  {
   "cell_type": "code",
   "execution_count": null,
   "metadata": {},
   "outputs": [],
   "source": []
  },
  {
   "cell_type": "markdown",
   "metadata": {},
   "source": [
    "# Check on test data"
   ]
  },
  {
   "cell_type": "code",
   "execution_count": 18,
   "metadata": {},
   "outputs": [],
   "source": [
    "test_data = dataset.get_batch()"
   ]
  },
  {
   "cell_type": "markdown",
   "metadata": {},
   "source": [
    "Copy-pasted / adapted from `make_validation_plots`"
   ]
  },
  {
   "cell_type": "code",
   "execution_count": 19,
   "metadata": {},
   "outputs": [],
   "source": [
    "outputs = [dict(log = test_data)]\n",
    "n_samples = min(5, len(outputs[-1][\"log\"][\"n_sources\"]))\n",
    "assert n_samples > 1\n",
    "\n",
    "#################\n",
    "# TRUE PARAMETERS\n",
    "#################\n",
    "# these are per tile\n",
    "true_n_sources_on_tiles = outputs[-1][\"log\"][\"n_sources\"][:n_samples]\n",
    "true_locs_on_tiles = outputs[-1][\"log\"][\"locs\"][:n_samples]\n",
    "\n",
    "# convert to full image \n",
    "true_n_sources, true_locs = \\\n",
    "    encoder._get_full_params_from_sampled_params(\n",
    "                                                    sleep_net.image_encoder.slen,\n",
    "                                                    sleep_net.image_encoder.tile_slen,\n",
    "                                                    true_n_sources_on_tiles,\n",
    "                                                    true_locs_on_tiles)"
   ]
  },
  {
   "cell_type": "code",
   "execution_count": 20,
   "metadata": {},
   "outputs": [
    {
     "data": {
      "image/png": "[encoded data removed]",
      "text/plain": [
       "<Figure size 1440x1440 with 30 Axes>"
      ]
     },
     "metadata": {
      "needs_background": "light"
     },
     "output_type": "display_data"
    }
   ],
   "source": [
    "images = outputs[-1][\"log\"][\"images\"][:n_samples]\n",
    "fig, axes = plt.subplots(\n",
    "    nrows=n_samples,\n",
    "    ncols=3,\n",
    "    figsize=(\n",
    "        20,\n",
    "        20,\n",
    "    ),\n",
    ")\n",
    "\n",
    "for i in range(n_samples):\n",
    "    true_ax = axes[i, 0]\n",
    "    recon_ax = axes[i, 1]\n",
    "    res_ax = axes[i, 2]\n",
    "\n",
    "    image = images[i]\n",
    "    true_loc = true_locs[i]\n",
    "    true_n_source = true_n_sources[i]\n",
    "\n",
    "    with torch.no_grad():\n",
    "        # get the estimated params: these are per tile\n",
    "        sleep_net.image_encoder.eval()\n",
    "        (\n",
    "            tile_n_sources,\n",
    "            tile_locs,\n",
    "            tile_galaxy_params,\n",
    "            tile_log_fluxes,\n",
    "            tile_galaxy_bool,\n",
    "        ) = sleep_net.image_encoder.map_estimate(image.unsqueeze(0))\n",
    "\n",
    "    # convert tile estimates to full parameterization\n",
    "    # for plotting\n",
    "    n_sources, locs, galaxy_params, log_fluxes, galaxy_bool = \\\n",
    "        sleep_net.image_encoder.get_full_params_from_sampled_params(tile_n_sources,\n",
    "        tile_locs,\n",
    "        tile_galaxy_params,\n",
    "        tile_log_fluxes,\n",
    "        tile_galaxy_bool)\n",
    "\n",
    "    # draw true image\n",
    "    assert len(image.shape) == 3\n",
    "    image = image[0].cpu().numpy()  # first band.\n",
    "    loc = locs[0].cpu().numpy()\n",
    "    true_loc = true_loc.cpu().numpy()\n",
    "    plotting.plot_image(fig, true_ax, image, true_loc, loc)\n",
    "    true_ax.set_xlabel(\n",
    "        f\"True num: {true_n_source.item()}; Est num: {n_sources.item()}\"\n",
    "    )\n",
    "\n",
    "    # only prediction/residual if at least 1 source.\n",
    "    max_sources = n_sources.max().int().item()\n",
    "    if max_sources > 0:\n",
    "        assert max_sources == locs.shape[1]\n",
    "\n",
    "        # draw reconstruction image.\n",
    "        recon_image = sleep_net.dataset.image_decoder.render_images(\n",
    "                tile_n_sources,\n",
    "                tile_locs,\n",
    "                tile_galaxy_bool,\n",
    "                tile_galaxy_params,\n",
    "                tile_log_fluxes\n",
    "            )\n",
    "        assert len(locs.shape) == 3 and locs.size(0) == 1\n",
    "        recon_image = recon_image[0, 0].cpu().numpy()\n",
    "        res_image = (image - recon_image) / np.sqrt(image)\n",
    "\n",
    "        # plot\n",
    "        plotting.plot_image(fig, recon_ax, recon_image, loc)\n",
    "        plotting.plot_image(fig, res_ax, res_image)\n",
    "\n",
    "    else:\n",
    "        slen = image.shape[0]\n",
    "        plotting.plot_image(fig, recon_ax, np.zeros((slen, slen)))\n",
    "        plotting.plot_image(fig, res_ax, np.zeros((slen, slen)))\n",
    "\n",
    "# plt.subplots_adjust(hspace=0.25, wspace=-0.2)\n",
    "# if self.logger:\n",
    "#     self.logger.experiment.add_figure(f\"Val Images {self.current_epoch}\", fig)\n"
   ]
  },
  {
   "cell_type": "code",
   "execution_count": 2,
   "metadata": {},
   "outputs": [],
   "source": [
    "import torch"
   ]
  },
  {
   "cell_type": "code",
   "execution_count": 6,
   "metadata": {},
   "outputs": [],
   "source": [
    "im = torch.load('../data/1_galaxy_test.pt')['images']"
   ]
  },
  {
   "cell_type": "code",
   "execution_count": 7,
   "metadata": {},
   "outputs": [
    {
     "ename": "NameError",
     "evalue": "name 'plt' is not defined",
     "output_type": "error",
     "traceback": [
      "\u001b[0;31m---------------------------------------------------------------------------\u001b[0m",
      "\u001b[0;31mNameError\u001b[0m                                 Traceback (most recent call last)",
      "\u001b[0;32m<ipython-input-7-b0fd70b03eab>\u001b[0m in \u001b[0;36m<module>\u001b[0;34m\u001b[0m\n\u001b[0;32m----> 1\u001b[0;31m \u001b[0mplt\u001b[0m\u001b[0;34m.\u001b[0m\u001b[0mmatshow\u001b[0m\u001b[0;34m(\u001b[0m\u001b[0mim\u001b[0m\u001b[0;34m)\u001b[0m\u001b[0;34m\u001b[0m\u001b[0;34m\u001b[0m\u001b[0m\n\u001b[0m",
      "\u001b[0;31mNameError\u001b[0m: name 'plt' is not defined"
     ]
    }
   ],
   "source": [
    "plt.matshow(im)"
   ]
  },
  {
   "cell_type": "code",
   "execution_count": null,
   "metadata": {},
   "outputs": [],
   "source": []
  }
 ],
 "metadata": {
  "kernelspec": {
   "display_name": "celeste_py",
   "language": "python",
   "name": "celeste_py"
  },
  "language_info": {
   "codemirror_mode": {
    "name": "ipython",
    "version": 3
   },
   "file_extension": ".py",
   "mimetype": "text/x-python",
   "name": "python",
   "nbconvert_exporter": "python",
   "pygments_lexer": "ipython3",
   "version": "3.7.7"
  }
 },
 "nbformat": 4,
 "nbformat_minor": 2
}

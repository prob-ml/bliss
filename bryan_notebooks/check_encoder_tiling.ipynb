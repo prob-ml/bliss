{
 "cells": [
  {
   "cell_type": "code",
   "execution_count": 1,
   "metadata": {},
   "outputs": [],
   "source": [
    "import torch\n",
    "from pathlib import Path\n",
    "\n",
    "import numpy as np\n",
    "\n",
    "import matplotlib.pyplot as plt\n",
    "%matplotlib inline  \n"
   ]
  },
  {
   "cell_type": "code",
   "execution_count": 2,
   "metadata": {},
   "outputs": [
    {
     "name": "stdout",
     "output_type": "stream",
     "text": [
      "cuda\n",
      "True\n"
     ]
    }
   ],
   "source": [
    "import bliss\n",
    "\n",
    "from bliss.datasets.simulated import SimulatedDataset\n",
    "import bliss.models.encoder as encoder_lib\n",
    "from bliss.models.decoder import ImageDecoder\n",
    "\n",
    "from bliss import device, use_cuda\n",
    "print(device)\n",
    "print(use_cuda)\n",
    "\n",
    "data_path = Path('../data/')"
   ]
  },
  {
   "cell_type": "code",
   "execution_count": 3,
   "metadata": {},
   "outputs": [],
   "source": [
    "# torch.manual_seed(2342)\n",
    "# np.random.seed(354)"
   ]
  },
  {
   "cell_type": "markdown",
   "metadata": {},
   "source": [
    "# Model parameters"
   ]
  },
  {
   "cell_type": "code",
   "execution_count": 4,
   "metadata": {},
   "outputs": [],
   "source": [
    "# create training dataset\n",
    "n_bands = 2\n",
    "slen = 12\n",
    "\n",
    "tile_slen = 4"
   ]
  },
  {
   "cell_type": "code",
   "execution_count": 5,
   "metadata": {},
   "outputs": [],
   "source": [
    "# set background\n",
    "background = torch.zeros(n_bands, slen, slen, device=device)\n",
    "background[:] = 686.0"
   ]
  },
  {
   "cell_type": "code",
   "execution_count": 6,
   "metadata": {},
   "outputs": [],
   "source": [
    "# psf parameters \n",
    "psf_file = data_path.joinpath(\"fitted_powerlaw_psf_params.npy\")\n",
    "psf_params = torch.from_numpy(np.load(psf_file)).to(device)"
   ]
  },
  {
   "cell_type": "code",
   "execution_count": 7,
   "metadata": {},
   "outputs": [],
   "source": [
    "# None referes to no galaxies\n",
    "prob_galaxy = 0.\n",
    "dec_args = (None, psf_params, background)\n",
    "\n",
    "decoder_kwargs = dict(n_bands=n_bands,\n",
    "                        slen=slen,\n",
    "                        tile_slen=tile_slen,\n",
    "                        prob_galaxy=prob_galaxy,\n",
    "                        max_sources_per_tile=4,\n",
    "                        mean_sources_per_tile=0.8,\n",
    "                        min_sources_per_tile=0,\n",
    "                        f_min=1e4,\n",
    "                        f_max=1e6,\n",
    "                        alpha=0.5,\n",
    "                        add_noise=True)"
   ]
  },
  {
   "cell_type": "markdown",
   "metadata": {},
   "source": [
    "# Define dataset"
   ]
  },
  {
   "cell_type": "code",
   "execution_count": 8,
   "metadata": {},
   "outputs": [],
   "source": [
    "batchsize = 2\n",
    "dataset = SimulatedDataset(20, batchsize, dec_args, decoder_kwargs)"
   ]
  },
  {
   "cell_type": "markdown",
   "metadata": {},
   "source": [
    "### Draw latent variables and image"
   ]
  },
  {
   "cell_type": "code",
   "execution_count": 9,
   "metadata": {},
   "outputs": [],
   "source": [
    "batch_params = dataset.get_batch()"
   ]
  },
  {
   "cell_type": "code",
   "execution_count": 10,
   "metadata": {},
   "outputs": [],
   "source": [
    "# get full-image parameterization\n",
    "tile_is_on_array = encoder_lib.get_is_on_from_n_sources(batch_params['n_sources'],\n",
    "                                                        dataset.image_decoder.max_sources_per_tile)\n",
    "\n",
    "n_sources_full, locs_full, galaxy_params_full, fluxes_full = \\\n",
    "    encoder_lib._get_full_params_from_sampled_params(\n",
    "                                                    slen,\n",
    "                                                    tile_slen,\n",
    "                                                    tile_is_on_array,\n",
    "                                                    batch_params['locs'], \n",
    "                                                    batch_params['galaxy_params'], \n",
    "                                                    batch_params['fluxes'])"
   ]
  },
  {
   "cell_type": "code",
   "execution_count": 11,
   "metadata": {},
   "outputs": [],
   "source": [
    "%matplotlib inline  "
   ]
  },
  {
   "cell_type": "code",
   "execution_count": 12,
   "metadata": {},
   "outputs": [
    {
     "data": {
      "image/png": "[encoded data removed]",
      "text/plain": [
       "<Figure size 288x288 with 1 Axes>"
      ]
     },
     "metadata": {
      "needs_background": "light"
     },
     "output_type": "display_data"
    },
    {
     "data": {
      "image/png": "[encoded data removed]",
      "text/plain": [
       "<Figure size 288x288 with 1 Axes>"
      ]
     },
     "metadata": {
      "needs_background": "light"
     },
     "output_type": "display_data"
    }
   ],
   "source": [
    "for batch in range(batchsize): \n",
    "    plt.matshow(batch_params['images'][batch, 0].detach().cpu())\n",
    "    plt.scatter(locs_full[batch, :, 1].cpu() * slen - 0.5, \n",
    "                  locs_full[batch, :, 0].cpu() * slen - 0.5, \n",
    "                  color = 'red', marker = 'x')\n"
   ]
  },
  {
   "cell_type": "code",
   "execution_count": null,
   "metadata": {},
   "outputs": [],
   "source": []
  },
  {
   "cell_type": "markdown",
   "metadata": {},
   "source": [
    "# Define encoder and get tiles"
   ]
  },
  {
   "cell_type": "code",
   "execution_count": 13,
   "metadata": {},
   "outputs": [],
   "source": [
    "edge_padding = 2\n",
    "ptile_slen = tile_slen + 2 * edge_padding\n",
    "encoder = encoder_lib.ImageEncoder(slen=slen,\n",
    "                        ptile_slen=ptile_slen,\n",
    "                        tile_slen=tile_slen,\n",
    "                        n_bands=n_bands,\n",
    "                        max_detections=dataset.image_decoder.max_sources_per_tile,\n",
    "                        n_galaxy_params=8,\n",
    "                        enc_conv_c=20,\n",
    "                        enc_kern=3,\n",
    "                        enc_hidden=256,\n",
    "                        momentum=0.5)"
   ]
  },
  {
   "cell_type": "code",
   "execution_count": null,
   "metadata": {},
   "outputs": [],
   "source": []
  },
  {
   "cell_type": "markdown",
   "metadata": {},
   "source": [
    "# Plot the image tiles"
   ]
  },
  {
   "cell_type": "code",
   "execution_count": 14,
   "metadata": {},
   "outputs": [],
   "source": [
    "image_tiles = encoder.get_images_in_tiles(batch_params['images'])"
   ]
  },
  {
   "cell_type": "code",
   "execution_count": 20,
   "metadata": {
    "scrolled": false
   },
   "outputs": [
    {
     "data": {
      "image/png": "[encoded data removed]",
      "text/plain": [
       "<Figure size 864x432 with 2 Axes>"
      ]
     },
     "metadata": {
      "needs_background": "light"
     },
     "output_type": "display_data"
    },
    {
     "data": {
      "image/png": "[encoded data removed]",
      "text/plain": [
       "<Figure size 864x432 with 2 Axes>"
      ]
     },
     "metadata": {
      "needs_background": "light"
     },
     "output_type": "display_data"
    },
    {
     "data": {
      "image/png": "[encoded data removed]",
      "text/plain": [
       "<Figure size 864x432 with 2 Axes>"
      ]
     },
     "metadata": {
      "needs_background": "light"
     },
     "output_type": "display_data"
    },
    {
     "data": {
      "image/png": "[encoded data removed]",
      "text/plain": [
       "<Figure size 864x432 with 2 Axes>"
      ]
     },
     "metadata": {
      "needs_background": "light"
     },
     "output_type": "display_data"
    },
    {
     "data": {
      "image/png": "[encoded data removed]",
      "text/plain": [
       "<Figure size 864x432 with 2 Axes>"
      ]
     },
     "metadata": {
      "needs_background": "light"
     },
     "output_type": "display_data"
    },
    {
     "data": {
      "image/png": "[encoded data removed]",
      "text/plain": [
       "<Figure size 864x432 with 2 Axes>"
      ]
     },
     "metadata": {
      "needs_background": "light"
     },
     "output_type": "display_data"
    },
    {
     "data": {
      "image/png": "[encoded data removed]",
      "text/plain": [
       "<Figure size 864x432 with 2 Axes>"
      ]
     },
     "metadata": {
      "needs_background": "light"
     },
     "output_type": "display_data"
    },
    {
     "data": {
      "image/png": "[encoded data removed]",
      "text/plain": [
       "<Figure size 864x432 with 2 Axes>"
      ]
     },
     "metadata": {
      "needs_background": "light"
     },
     "output_type": "display_data"
    },
    {
     "data": {
      "image/png": "[encoded data removed]",
      "text/plain": [
       "<Figure size 864x432 with 2 Axes>"
      ]
     },
     "metadata": {
      "needs_background": "light"
     },
     "output_type": "display_data"
    }
   ],
   "source": [
    "cmap = plt.cm.viridis\n",
    "cmap.set_under(color='black')    \n",
    "\n",
    "for i in range(encoder.n_tiles_per_image): \n",
    "    fig, ax = plt.subplots(1, 2, figsize = (12, 6))\n",
    "    #####################\n",
    "    # plot full image\n",
    "    #####################\n",
    "    # get full image\n",
    "    image = batch_params['images'][batch, 0].cpu().detach()\n",
    "\n",
    "    ax[1].matshow(image)\n",
    "    for k in range(int(slen / tile_slen)): \n",
    "        ax[1].axvline(tile_slen * k - 0.5, color = 'white')\n",
    "        ax[1].axhline(tile_slen * k - 0.5, color = 'white')\n",
    "    \n",
    "    \n",
    "    # plot stars on full image\n",
    "    n = int(n_sources_full[batch])\n",
    "    ax[1].scatter(locs_full[batch, 0:n, 1].cpu() * (slen -1), \n",
    "                  locs_full[batch, 0:n, 0].cpu() * (slen -1), \n",
    "                  color = 'red', marker = 'x')\n",
    "\n",
    "    #####################\n",
    "    # plot image tile\n",
    "    #####################\n",
    "    n_src = int(batch_params['n_sources'][batch][i].cpu().numpy())\n",
    "    tile_indx = i + batch * encoder.n_tiles_per_image\n",
    "    ax[0].matshow(image_tiles[tile_indx, 0].detach().cpu(), vmax = image.max() + 1e-2, vmin = image.min() - 1e-2)\n",
    "    ax[0].set_title('tile ' + str(i) + \n",
    "                    '; n_src ' + str(n_src) + '\\n')\n",
    "    \n",
    "    # plot stars on image tile\n",
    "    which_star = (batch_params['galaxy_bool'][batch, i] == 0).squeeze().cpu() & \\\n",
    "                    (torch.arange(encoder.max_detections) < n_src).bool()\n",
    "    locs = batch_params['locs'][batch, i, which_star].cpu()\n",
    "    locs = locs * tile_slen + edge_padding - 0.5\n",
    "    ax[0].scatter(locs[:, 1], locs[:, 0], \n",
    "                  color = 'red', marker = 'x')\n",
    "    ax[0].axvline(edge_padding - 0.5, color = 'white')\n",
    "    ax[0].axvline(tile_slen + edge_padding - 0.5, color = 'white')\n",
    "    ax[0].axhline(edge_padding - 0.5, color = 'white')\n",
    "    ax[0].axhline(tile_slen + edge_padding - 0.5, color = 'white')\n",
    "    \n"
   ]
  },
  {
   "cell_type": "code",
   "execution_count": null,
   "metadata": {},
   "outputs": [],
   "source": []
  },
  {
   "cell_type": "code",
   "execution_count": null,
   "metadata": {},
   "outputs": [],
   "source": []
  },
  {
   "cell_type": "code",
   "execution_count": null,
   "metadata": {},
   "outputs": [],
   "source": []
  },
  {
   "cell_type": "raw",
   "metadata": {},
   "source": [
    "# Get reconstruction on each tile. Should be similar"
   ]
  },
  {
   "cell_type": "raw",
   "metadata": {},
   "source": [
    "tile_background = torch.zeros(n_bands, ptile_slen, ptile_slen, device=device)\n",
    "tile_background[:] = 686.0  "
   ]
  },
  {
   "cell_type": "raw",
   "metadata": {},
   "source": [
    "# simulator, but returns images of size ptile_slen\n",
    "tile_source_simulator = \\\n",
    "    ImageDecoder(\n",
    "            None,\n",
    "            psf_params,\n",
    "            tile_background, \n",
    "            slen = ptile_slen, \n",
    "            n_bands = n_bands)"
   ]
  },
  {
   "cell_type": "raw",
   "metadata": {},
   "source": []
  },
  {
   "cell_type": "raw",
   "metadata": {},
   "source": [
    "# parameterization on tiles for locs is *slightly* different ... \n",
    "_true_tile_locs = (true_tile_locs * ptile_slen - 0.5) / (ptile_slen - 1)"
   ]
  },
  {
   "cell_type": "raw",
   "metadata": {},
   "source": [
    "# reconstrct image on tiles\n",
    "recon_tile_images = tile_source_simulator.render_images(encoder.max_detections, \n",
    "                                            true_tile_n_sources, \n",
    "                                            _true_tile_locs, \n",
    "                                            true_tile_galaxy_bool, true_tile_galaxy_params,\n",
    "                                            torch.exp(true_tile_log_fluxes))"
   ]
  },
  {
   "cell_type": "raw",
   "metadata": {},
   "source": []
  },
  {
   "cell_type": "raw",
   "metadata": {},
   "source": [
    "Qualitatively, the reconstructions look similar. But the galaxies have a wierd \"ring\" in the residuals. I *suspect* this is due to the differences in convoluting the single galaxy images on the smaller ptiles verses convoluting the singe galaxy images on the full image. "
   ]
  },
  {
   "cell_type": "raw",
   "metadata": {},
   "source": [
    "for i in range(image_tiles.shape[0]): \n",
    "    fig, ax = plt.subplots(1, 3, figsize = (20, 6))\n",
    "    # get full image\n",
    "    indx = i // n_tiles_per_image\n",
    "    image = batch_params['images'][indx, 0]\n",
    "    \n",
    "    # plot reconstructed image tile\n",
    "    n_src = int(true_tile_n_sources[i])\n",
    "    ax[0].matshow(recon_tile_images[i, 0].detach().cpu(), vmax = image.max(), vmin = image.min())\n",
    "    \n",
    "    # plot true image tile\n",
    "    ax[1].matshow(image_tiles[i, 0].detach().cpu(), vmax = image.max(), vmin = image.min())\n",
    "    \n",
    "    resid = image_tiles[i, 0] - recon_tile_images[i, 0]\n",
    "    im1 = ax[2].matshow(resid.detach().cpu(), \n",
    "                  vmax = resid.abs().max(), vmin = -resid.abs().max(), \n",
    "                  cmap = plt.get_cmap('bwr'))\n",
    "    fig.colorbar(im1, ax = ax[2])\n",
    "        \n",
    "    for k in range(2): \n",
    "        # plot stars \n",
    "        which_star = (true_tile_galaxy_bool[i] == 0).squeeze()\n",
    "        ax[k].scatter(true_tile_locs[i, which_star, 1].cpu() * ptile_slen - 0.5, \n",
    "                      true_tile_locs[i, which_star, 0].cpu() * ptile_slen - 0.5, \n",
    "                      color = 'red', marker = 'x')"
   ]
  },
  {
   "cell_type": "raw",
   "metadata": {},
   "source": []
  },
  {
   "cell_type": "raw",
   "metadata": {},
   "source": [
    "# Go convert tile parameters back to full image"
   ]
  },
  {
   "cell_type": "raw",
   "metadata": {},
   "source": [
    "# only look at first image\n",
    "(true_tile_n_sources,\n",
    "    true_tile_locs,\n",
    "    true_tile_galaxy_params,\n",
    "    true_tile_log_fluxes,\n",
    "    true_tile_galaxy_bool,\n",
    "    true_tile_is_on_array,\n",
    "    ) = encoder.get_params_in_tiles(\n",
    "            slen, true_locs[0:1], true_galaxy_params[0:1], true_log_fluxes[0:1], true_galaxy_bool[0:1]\n",
    "            )\n",
    "\n",
    "true_tile_log_fluxes = true_tile_log_fluxes.unsqueeze(-1)"
   ]
  },
  {
   "cell_type": "raw",
   "metadata": {},
   "source": [
    "(n_sources, locs, galaxy_params, log_fluxes, galaxy_bool) = \\\n",
    "            encoder._get_full_params_from_sampled_params(\n",
    "            slen,\n",
    "            true_tile_is_on_array.unsqueeze(0),\n",
    "            true_tile_locs.unsqueeze(0),\n",
    "            true_tile_galaxy_params.unsqueeze(0),\n",
    "            true_tile_log_fluxes.unsqueeze(0),\n",
    "            true_tile_galaxy_bool.unsqueeze(0).unsqueeze(-1),\n",
    "        )"
   ]
  },
  {
   "cell_type": "raw",
   "metadata": {},
   "source": [
    "# compare our untiled locs with the original locs\n",
    "# sort so they match up\n",
    "print(locs[0])\n",
    "print(true_locs[0])\n",
    "\n",
    "locs1 = locs[0, torch.argsort(locs[0, :, 0]), :]\n",
    "locs2 = true_locs[0, torch.argsort(true_locs[0, :, 0]), :]\n",
    "\n",
    "assert(torch.abs(locs1 - locs2).max() < 1e-6)"
   ]
  },
  {
   "cell_type": "raw",
   "metadata": {},
   "source": [
    "# check pattern of galaxy params\n",
    "assert torch.all((galaxy_params * galaxy_bool) == galaxy_params)\n",
    "assert torch.all((galaxy_params * (1 - galaxy_bool)) == 0)"
   ]
  },
  {
   "cell_type": "raw",
   "metadata": {},
   "source": [
    "gal_params1 = galaxy_params[0, galaxy_bool.squeeze() == 1, :]\n",
    "gal_params2 = true_galaxy_params[0, true_galaxy_bool[0] == 1, :]\n",
    "\n",
    "print(gal_params1)\n",
    "print('\\n')\n",
    "print(gal_params2)\n",
    "\n",
    "assert torch.all(torch.abs(gal_params1[torch.argsort(gal_params1[:, 0])] - \n",
    "                           gal_params2[torch.argsort(gal_params2[:, 0])]) < 1e-6)"
   ]
  },
  {
   "cell_type": "raw",
   "metadata": {},
   "source": [
    "# check pattern of log-fluxes\n",
    "assert torch.all((log_fluxes * galaxy_bool) == 0)\n",
    "assert torch.all((log_fluxes * (1 - galaxy_bool)) == log_fluxes)"
   ]
  },
  {
   "cell_type": "raw",
   "metadata": {},
   "source": [
    "flux_params1 = log_fluxes[0, galaxy_bool.squeeze() == 0, :]\n",
    "flux_params2 = true_log_fluxes[0, true_galaxy_bool[0] == 0, :]\n",
    "\n",
    "print(flux_params1)\n",
    "print('\\n')\n",
    "print(flux_params2)\n",
    "\n",
    "assert torch.all(torch.abs(flux_params1[torch.argsort(flux_params1[:, 0])] - \n",
    "                           flux_params2[torch.argsort(flux_params2[:, 0])]) < 1e-6)"
   ]
  },
  {
   "cell_type": "raw",
   "metadata": {},
   "source": [
    "# Check reconstruction, just for completeness"
   ]
  },
  {
   "cell_type": "raw",
   "metadata": {},
   "source": [
    "single_galaxies = dataset.simulator.galaxy_decoder.dec(\n",
    "                    galaxy_params.reshape(-1, encoder.n_galaxy_params))[0].detach()\n",
    "\n",
    "# reshape and apply galaxy booleon\n",
    "single_galaxies = single_galaxies.reshape(galaxy_params.shape[0], \n",
    "                        -1, \n",
    "                        n_bands, \n",
    "                        dataset.simulator.galaxy_slen, \n",
    "                        dataset.simulator.galaxy_slen) * \\\n",
    "                        galaxy_bool.unsqueeze(-1).unsqueeze(-1)"
   ]
  },
  {
   "cell_type": "raw",
   "metadata": {},
   "source": [
    "# reconstrct image on tiles\n",
    "recon_image = dataset.simulator._draw_image_from_params(n_sources, \n",
    "                                            locs * galaxy_bool, \n",
    "                                            locs * (1 - galaxy_bool), \n",
    "                                            single_galaxies, \n",
    "                                            torch.exp(log_fluxes)) + 686."
   ]
  },
  {
   "cell_type": "raw",
   "metadata": {},
   "source": [
    "fig, ax = plt.subplots(1, 3, figsize = (20, 6))\n",
    "\n",
    "# plot reconstructed image \n",
    "ax[0].matshow(recon_image[0, 0])\n",
    "\n",
    "# plot original image\n",
    "ax[1].matshow(batch_params['images'][0, 0])\n",
    "\n",
    "ax[2].matshow(recon_image[0, 0] - batch_params['images'][0, 0])"
   ]
  },
  {
   "cell_type": "raw",
   "metadata": {},
   "source": []
  },
  {
   "cell_type": "raw",
   "metadata": {},
   "source": []
  },
  {
   "cell_type": "raw",
   "metadata": {},
   "source": []
  }
 ],
 "metadata": {
  "kernelspec": {
   "display_name": "celeste_py",
   "language": "python",
   "name": "celeste_py"
  },
  "language_info": {
   "codemirror_mode": {
    "name": "ipython",
    "version": 3
   },
   "file_extension": ".py",
   "mimetype": "text/x-python",
   "name": "python",
   "nbconvert_exporter": "python",
   "pygments_lexer": "ipython3",
   "version": "3.7.7"
  }
 },
 "nbformat": 4,
 "nbformat_minor": 2
}

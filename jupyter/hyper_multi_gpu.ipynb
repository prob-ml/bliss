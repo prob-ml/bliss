{
 "cells": [
  {
   "cell_type": "code",
   "execution_count": null,
   "metadata": {},
   "outputs": [],
   "source": [
    "import os, sys\n",
    "path = os.path.abspath('..')\n",
    "if path not in sys.path: \n",
    "    sys.path.insert(0, path)\n",
    "print(path)\n",
    "import optuna\n",
    "import torch\n",
    "import numpy as np\n",
    "\n",
    "import multiprocessing as mp\n",
    "from multiprocessing import Manager\n",
    "from joblib import parallel_backend\n",
    "\n",
    "from pytorch_lightning import Callback\n",
    "\n",
    "from bliss.datasets.simulated import SimulatedDataset\n",
    "from bliss.hyperparameter import SleepObjective"
   ]
  },
  {
   "cell_type": "code",
   "execution_count": null,
   "metadata": {},
   "outputs": [],
   "source": [
    "class MetricsCallback(Callback):\n",
    "    \"\"\"PyTorch Lightning metric callback.\"\"\"\n",
    "\n",
    "    def __init__(self):\n",
    "        super().__init__()\n",
    "        self.metrics = []\n",
    "\n",
    "    def on_validation_end(self, trainer, pl_module):\n",
    "        self.metrics.append(trainer.callback_metrics)\n",
    "        \n",
    "metrics_callback = MetricsCallback()"
   ]
  },
  {
   "cell_type": "code",
   "execution_count": null,
   "metadata": {},
   "outputs": [],
   "source": [
    "model_dir = os.getcwd()\n",
    "data_path = path + \"/data\"\n",
    "\n",
    "# get psf\n",
    "psf_file = path + \"/data/fitted_powerlaw_psf_params.npy\"\n",
    "psf_params = torch.from_numpy(np.load(psf_file))\n",
    "psf_params = psf_params[range(1)]\n",
    "\n",
    "# background\n",
    "background = torch.zeros(1, 50, 50)\n",
    "background[0] = 686.0\n",
    "\n",
    "# decoder arguments\n",
    "dec_args = (None, psf_params, background)\n",
    "dec_kwargs = {}\n",
    "dec_kwargs.update({\"prob_galaxy\": 0.0, \"n_bands\": 1, \"slen\": 50})\n",
    "\n",
    "# set up encoder\n",
    "encoder_kwargs = dict(\n",
    "    enc_conv_c=(5, 25, 5),\n",
    "    enc_kern=3,\n",
    "    enc_hidden=(64, 128, 64),\n",
    "    ptile_slen=8,\n",
    "    max_detections=2,\n",
    "    slen=50,\n",
    "    n_bands=1,\n",
    "    n_galaxy_params=8,\n",
    ")\n",
    "\n",
    "monitor = \"val_loss\"\n",
    "\n",
    "sleepobjectiveargs= {\n",
    "    \"encoder_kwargs\": encoder_kwargs,\n",
    "    \"max_epochs\":100,\n",
    "    \"lr\": (1e-4, 1e-2),\n",
    "    \"weight_decay\": (1e-6, 1e-4),\n",
    "    \"model_dir\":model_dir,\n",
    "    \"metrics_callback\":metrics_callback,\n",
    "    \"monitor\":monitor,\n",
    "    \"n_batches\":4,\n",
    "    \"batch_size\":32,\n",
    "    \"dec_args\":dec_args,\n",
    "    \"dec_kwargs\":dec_kwargs,\n",
    "}"
   ]
  },
  {
   "cell_type": "code",
   "execution_count": null,
   "metadata": {},
   "outputs": [],
   "source": [
    "if __name__ == '__main__':\n",
    "    # grid search\n",
    "    search_space = {\n",
    "    'enc_conv_c': [5, 10],\n",
    "    'enc_hidden': [64, 128],\n",
    "    'learning rate': [0.001, 0.000492],\n",
    "    'weight_decay': [1e-6, 0.000003]\n",
    "    }\n",
    "    \n",
    "    pruner = optuna.pruners.MedianPruner(n_startup_trials=30)\n",
    "    study = optuna.create_study(storage=\"sqlite:///zz.db\", direction=\"minimize\",  \n",
    "                                sampler=optuna.samplers.GridSampler(search_space), \n",
    "                                pruner=pruner,)\n",
    "    processes = []\n",
    "    n_gpu=(1, 4, 6)\n",
    "\n",
    "    # set up queue of devices\n",
    "    mpspawn = mp.get_context('spawn')\n",
    "    gpu_queue = mpspawn.Manager().Queue()\n",
    "    for i in n_gpu:\n",
    "        gpu_queue.put(i)\n",
    "        \n",
    "    sleepobjectiveargs[\"gpu_queue\"] = gpu_queue\n",
    "    \n",
    "    study.optimize(SleepObjective(**sleepobjectiveargs), n_trials=100, n_jobs=len(n_gpu), timeout=600)"
   ]
  },
  {
   "cell_type": "code",
   "execution_count": null,
   "metadata": {},
   "outputs": [],
   "source": [
    "# Show results.\n",
    "study.trials_dataframe()"
   ]
  }
 ],
 "metadata": {
  "kernelspec": {
   "display_name": "Python 3",
   "language": "python",
   "name": "python3"
  },
  "language_info": {
   "codemirror_mode": {
    "name": "ipython",
    "version": 3
   },
   "file_extension": ".py",
   "mimetype": "text/x-python",
   "name": "python",
   "nbconvert_exporter": "python",
   "pygments_lexer": "ipython3",
   "version": "3.7.7"
  }
 },
 "nbformat": 4,
 "nbformat_minor": 4
}

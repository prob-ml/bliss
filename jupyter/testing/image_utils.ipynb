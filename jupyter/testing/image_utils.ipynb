{
 "cells": [
  {
   "cell_type": "markdown",
   "metadata": {},
   "source": [
    "# preamble"
   ]
  },
  {
   "cell_type": "code",
   "execution_count": null,
   "metadata": {},
   "outputs": [],
   "source": [
    "%load_ext autoreload\n",
    "%autoreload 2\n",
    "%aimport"
   ]
  },
  {
   "cell_type": "code",
   "execution_count": null,
   "metadata": {},
   "outputs": [],
   "source": [
    "import os \n",
    "import sys\n",
    "path = os.path.abspath('../..')\n",
    "if path not in sys.path: \n",
    "    sys.path.insert(0, path)\n",
    "sys.path[0]"
   ]
  },
  {
   "cell_type": "code",
   "execution_count": null,
   "metadata": {},
   "outputs": [],
   "source": [
    "import numpy as np\n",
    "\n",
    "import matplotlib.pyplot as plt\n",
    "\n",
    "import torch\n",
    "import torch.optim as optim\n",
    "\n",
    "import fitsio \n",
    "\n",
    "import json\n",
    "\n",
    "device = torch.device(\"cuda:0\" if torch.cuda.is_available() else \"cpu\")\n",
    "print('torch version: ', torch.__version__)\n",
    "print(device)"
   ]
  },
  {
   "cell_type": "code",
   "execution_count": null,
   "metadata": {},
   "outputs": [],
   "source": [
    "from celeste import psf_transform_lib\n",
    "from celeste.utils import const\n",
    "from celeste.data import simulated_datasets_lib\n",
    "from celeste import starnet_lib"
   ]
  },
  {
   "cell_type": "markdown",
   "metadata": {},
   "source": [
    "# try out some tests "
   ]
  },
  {
   "cell_type": "code",
   "execution_count": null,
   "metadata": {},
   "outputs": [],
   "source": [
    "from celeste.utils import image_utils"
   ]
  },
  {
   "cell_type": "code",
   "execution_count": null,
   "metadata": {},
   "outputs": [],
   "source": [
    "\n",
    "# define parameters in full image\n",
    "full_slen = 100\n",
    "subimage_slen = 10\n",
    "step = 9\n",
    "edge_padding = 0\n",
    "n_bands = 2\n",
    "\n",
    "# full image:\n",
    "full_images = torch.randn(5, n_bands, full_slen, full_slen)\n",
    "\n",
    "# batch image\n",
    "images_batched = image_utils.tile_images(full_images, subimage_slen, step)\n",
    "\n",
    "# get tile coordinates\n",
    "tile_coords = image_utils.get_tile_coords(\n",
    "    full_slen, full_slen, subimage_slen, step\n",
    ")\n",
    "\n",
    "n_patches = tile_coords.shape[0]\n",
    "\n",
    "for i in range(images_batched.shape[0]):\n",
    "\n",
    "    b = i // n_patches\n",
    "\n",
    "    x0 = tile_coords[i % n_patches, 0]\n",
    "    x1 = tile_coords[i % n_patches, 1]\n",
    "\n",
    "    foo = full_images[\n",
    "        b, :, x0 : (x0 + subimage_slen), x1 : (x1 + subimage_slen)\n",
    "    ]\n",
    "\n",
    "    assert torch.all(images_batched[i].squeeze() == foo)"
   ]
  },
  {
   "cell_type": "code",
   "execution_count": null,
   "metadata": {},
   "outputs": [],
   "source": [
    "images_batched[i] == foo"
   ]
  },
  {
   "cell_type": "code",
   "execution_count": null,
   "metadata": {},
   "outputs": [],
   "source": []
  }
 ],
 "metadata": {
  "kernelspec": {
   "display_name": "Python 3",
   "language": "python",
   "name": "python3"
  },
  "language_info": {
   "codemirror_mode": {
    "name": "ipython",
    "version": 3
   },
   "file_extension": ".py",
   "mimetype": "text/x-python",
   "name": "python",
   "nbconvert_exporter": "python",
   "pygments_lexer": "ipython3",
   "version": "3.7.7"
  },
  "toc": {
   "base_numbering": 1,
   "nav_menu": {},
   "number_sections": true,
   "sideBar": true,
   "skip_h1_title": false,
   "title_cell": "Table of Contents",
   "title_sidebar": "Contents",
   "toc_cell": false,
   "toc_position": {},
   "toc_section_display": true,
   "toc_window_display": true
  }
 },
 "nbformat": 4,
 "nbformat_minor": 4
}

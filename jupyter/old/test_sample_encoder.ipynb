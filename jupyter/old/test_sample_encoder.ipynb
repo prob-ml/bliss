{
 "cells": [
  {
   "cell_type": "code",
   "execution_count": null,
   "metadata": {},
   "outputs": [],
   "source": [
    "import numpy as np\n",
    "import timeit\n",
    "\n",
    "import matplotlib.pyplot as plt\n",
    "\n",
    "import torch\n",
    "import torch.optim as optim\n",
    "\n",
    "import fitsio \n",
    "\n",
    "import sys\n",
    "sys.path.insert(0, './../')\n",
    "import sdss_psf\n",
    "import simulated_datasets_lib\n",
    "import starnet_vae_lib\n",
    "import sdss_dataset_lib\n",
    "import plotting_utils\n",
    "import image_statistics_lib\n",
    "import utils\n",
    "\n",
    "import inv_kl_objective_lib as inv_kl_lib\n",
    "\n",
    "import image_utils\n",
    "\n",
    "import time\n",
    "\n",
    "import json\n",
    "\n",
    "device = torch.device(\"cuda:0\" if torch.cuda.is_available() else \"cpu\")\n",
    "\n",
    "print('torch version: ', torch.__version__)\n",
    "\n",
    "from copy import deepcopy"
   ]
  },
  {
   "cell_type": "code",
   "execution_count": null,
   "metadata": {},
   "outputs": [],
   "source": [
    "np.random.seed(22)\n",
    "_ = torch.manual_seed(22)"
   ]
  },
  {
   "cell_type": "markdown",
   "metadata": {},
   "source": [
    "# Draw data"
   ]
  },
  {
   "cell_type": "code",
   "execution_count": null,
   "metadata": {},
   "outputs": [],
   "source": [
    "# data parameters\n",
    "with open('../data/default_star_parameters.json', 'r') as fp:\n",
    "    data_params = json.load(fp)"
   ]
  },
  {
   "cell_type": "code",
   "execution_count": null,
   "metadata": {},
   "outputs": [],
   "source": [
    "data_params"
   ]
  },
  {
   "cell_type": "code",
   "execution_count": null,
   "metadata": {},
   "outputs": [],
   "source": [
    "psf_dir = '../data/'\n",
    "psf_r = fitsio.FITS(psf_dir + 'sdss-002583-2-0136-psf-r.fits')[0].read()\n",
    "psf_i = fitsio.FITS(psf_dir + 'sdss-002583-2-0136-psf-i.fits')[0].read()\n",
    "psf_og = np.array([psf_r, psf_i])\n",
    "\n",
    "n_bands = psf_og.shape[0]\n",
    "\n",
    "sky_intensity = torch.Tensor([686., 1123.])"
   ]
  },
  {
   "cell_type": "code",
   "execution_count": null,
   "metadata": {},
   "outputs": [],
   "source": [
    "# Draw from the same distribution I used int the sleep phase\n",
    "n_images = 1\n",
    "\n",
    "simulated_dataset = \\\n",
    "    simulated_datasets_lib.load_dataset_from_params(psf_og,\n",
    "                    data_params,\n",
    "                    sky_intensity = sky_intensity,\n",
    "                    n_images = n_images,\n",
    "                    add_noise = True)\n",
    "        \n",
    "images_full = simulated_dataset.images.detach()\n",
    "backgrounds_full = simulated_dataset.background.detach()\n",
    "        \n",
    "which_on = (simulated_dataset.fluxes > 0).any(2).squeeze()\n",
    "        \n",
    "true_full_locs = simulated_dataset.locs[:, which_on, :]\n",
    "true_full_fluxes = simulated_dataset.fluxes[:, which_on, :]\n",
    "        \n",
    "        \n",
    "simulator = simulated_dataset.simulator"
   ]
  },
  {
   "cell_type": "code",
   "execution_count": null,
   "metadata": {},
   "outputs": [],
   "source": [
    "simulated_dataset.n_stars"
   ]
  },
  {
   "cell_type": "code",
   "execution_count": null,
   "metadata": {},
   "outputs": [],
   "source": []
  },
  {
   "cell_type": "markdown",
   "metadata": {},
   "source": [
    "# Load VAE"
   ]
  },
  {
   "cell_type": "code",
   "execution_count": null,
   "metadata": {},
   "outputs": [],
   "source": [
    "star_encoder = starnet_vae_lib.StarEncoder(full_slen = data_params['slen'],\n",
    "                                            stamp_slen = 7,\n",
    "                                            step = 2,\n",
    "                                            edge_padding = 2, \n",
    "                                            n_bands = 2,\n",
    "                                            max_detections = 2)"
   ]
  },
  {
   "cell_type": "code",
   "execution_count": null,
   "metadata": {},
   "outputs": [],
   "source": [
    "star_encoder.load_state_dict(torch.load('../fits/results_11122019/starnet_ri',\n",
    "                               map_location=lambda storage, loc: storage))\n",
    "star_encoder.eval(); "
   ]
  },
  {
   "cell_type": "code",
   "execution_count": null,
   "metadata": {},
   "outputs": [],
   "source": []
  },
  {
   "cell_type": "markdown",
   "metadata": {},
   "source": [
    "# image stamps"
   ]
  },
  {
   "cell_type": "code",
   "execution_count": null,
   "metadata": {},
   "outputs": [],
   "source": [
    "image_stamps, true_subimage_locs, true_subimage_fluxes, \\\n",
    "    true_subimage_n_stars, true_is_on_array = \\\n",
    "        star_encoder.get_image_stamps(images_full, true_full_locs, true_full_fluxes, \n",
    "                                      trim_images = False, clip_max_stars = True)\n",
    "\n",
    "background_stamps = star_encoder.get_image_stamps(backgrounds_full, None, None, trim_images=False)[0]"
   ]
  },
  {
   "cell_type": "markdown",
   "metadata": {},
   "source": [
    "# first test with n_stars fixed"
   ]
  },
  {
   "cell_type": "code",
   "execution_count": null,
   "metadata": {},
   "outputs": [],
   "source": [
    "n_samples = 100"
   ]
  },
  {
   "cell_type": "code",
   "execution_count": null,
   "metadata": {},
   "outputs": [],
   "source": [
    "# sample! get full image parameters"
   ]
  },
  {
   "cell_type": "code",
   "execution_count": null,
   "metadata": {},
   "outputs": [],
   "source": [
    "locs_full_image, fluxes_full_image, n_stars_full, \\\n",
    "    log_q_locs, log_q_fluxes, log_q_n_stars = \\\n",
    "        star_encoder.sample_star_encoder(images_full,\n",
    "                                        backgrounds_full,\n",
    "                                        n_samples = n_samples, \n",
    "                                        n_stars = true_subimage_n_stars)"
   ]
  },
  {
   "cell_type": "code",
   "execution_count": null,
   "metadata": {},
   "outputs": [],
   "source": [
    "# convert sampled full image parameters to subimage parameters\n",
    "subimage_locs_sampled = torch.zeros((n_samples, star_encoder.tile_coords.shape[0], \n",
    "                                     star_encoder.max_detections, 2))\n",
    "\n",
    "subimage_fluxes_sampled = torch.zeros((n_samples, star_encoder.tile_coords.shape[0], \n",
    "                                     star_encoder.max_detections, star_encoder.n_bands))\n",
    "\n",
    "# doing this in one batch freezes my laptop ..\n",
    "for i in range(n_samples): \n",
    "    if (i % 20 == 0): \n",
    "        print(i)\n",
    "        \n",
    "    subimage_locs, subimage_fluxes, n_stars_patches, _ = \\\n",
    "        image_utils.get_params_in_patches(star_encoder.tile_coords, \n",
    "                                        locs_full_image[i:(i+1)], \n",
    "                                        fluxes_full_image[i:(i+1)], \n",
    "                                        star_encoder.full_slen, \n",
    "                                        star_encoder.stamp_slen, \n",
    "                                        star_encoder.edge_padding)\n",
    "    \n",
    "    subimage_locs_sampled[i] = subimage_locs\n",
    "    subimage_fluxes_sampled[i] = subimage_fluxes\n",
    "    \n",
    "    assert torch.all(true_subimage_n_stars == n_stars_patches)\n",
    "    "
   ]
  },
  {
   "cell_type": "code",
   "execution_count": null,
   "metadata": {},
   "outputs": [],
   "source": [
    "# get subimage variational parameters"
   ]
  },
  {
   "cell_type": "code",
   "execution_count": null,
   "metadata": {},
   "outputs": [],
   "source": [
    "logit_loc_mean, logit_loc_logvar, \\\n",
    "    log_flux_mean, log_flux_logvar, log_probs = \\\n",
    "        star_encoder(image_stamps, background_stamps, true_subimage_n_stars)"
   ]
  },
  {
   "cell_type": "code",
   "execution_count": null,
   "metadata": {},
   "outputs": [],
   "source": [
    "# check subimage parameters match a normal!!"
   ]
  },
  {
   "cell_type": "code",
   "execution_count": null,
   "metadata": {},
   "outputs": [],
   "source": [
    "from scipy import stats"
   ]
  },
  {
   "cell_type": "code",
   "execution_count": null,
   "metadata": {},
   "outputs": [],
   "source": [
    "# locations\n",
    "z_stats = \\\n",
    "    (utils._logit(subimage_locs_sampled).mean(0) - logit_loc_mean) * \\\n",
    "         true_is_on_array.float().unsqueeze(2) / torch.exp(0.5 * logit_loc_logvar)\n",
    "    \n",
    "z_stats = z_stats.detach()\n",
    "z_stats = z_stats.flatten()[z_stats.flatten() != 0]\n",
    "h = plt.hist(z_stats, bins = 50, density = 1);\n",
    "\n",
    "pdf = stats.norm.pdf(h[1], z_stats.mean(), z_stats.std())\n",
    "\n",
    "plt.plot(h[1], pdf)"
   ]
  },
  {
   "cell_type": "code",
   "execution_count": null,
   "metadata": {},
   "outputs": [],
   "source": [
    "# fluxes \n",
    "z_stats = \\\n",
    "    (torch.log(subimage_fluxes_sampled + 1e-18).mean(0) - log_flux_mean) * \\\n",
    "         true_is_on_array.float().unsqueeze(2) / torch.exp(0.5 * log_flux_logvar)\n",
    "    \n",
    "z_stats = z_stats.detach()\n",
    "z_stats = z_stats.flatten()[z_stats.flatten() != 0]\n",
    "h = plt.hist(z_stats, bins = 50, density = 1);\n",
    "\n",
    "pdf = stats.norm.pdf(h[1], z_stats.mean(), z_stats.std())\n",
    "\n",
    "plt.plot(h[1], pdf)"
   ]
  },
  {
   "cell_type": "code",
   "execution_count": null,
   "metadata": {},
   "outputs": [],
   "source": []
  },
  {
   "cell_type": "code",
   "execution_count": null,
   "metadata": {},
   "outputs": [],
   "source": []
  },
  {
   "cell_type": "markdown",
   "metadata": {},
   "source": [
    "# Visually inspect"
   ]
  },
  {
   "cell_type": "code",
   "execution_count": null,
   "metadata": {},
   "outputs": [],
   "source": [
    "simulator = simulated_datasets_lib.StarSimulator(psf=psf_og, \n",
    "                                                 slen = images_full.shape[-1], \n",
    "                                                 sky_intensity=sky_intensity)"
   ]
  },
  {
   "cell_type": "code",
   "execution_count": null,
   "metadata": {},
   "outputs": [],
   "source": [
    "# map locations and fluxes"
   ]
  },
  {
   "cell_type": "code",
   "execution_count": null,
   "metadata": {},
   "outputs": [],
   "source": [
    "map_locs_full_image, map_fluxes_full_image, map_n_stars_full, _, _, _ = \\\n",
    "    star_encoder.sample_star_encoder(images_full,\n",
    "                                        backgrounds_full,\n",
    "                                       n_samples = 1, return_map = True)"
   ]
  },
  {
   "cell_type": "code",
   "execution_count": null,
   "metadata": {},
   "outputs": [],
   "source": [
    "map_recon_mean = simulator.draw_image_from_params(locs = map_locs_full_image,\n",
    "                                                  fluxes = map_fluxes_full_image, \n",
    "                                                  n_stars = map_n_stars_full)"
   ]
  },
  {
   "cell_type": "code",
   "execution_count": null,
   "metadata": {},
   "outputs": [],
   "source": [
    "band = 0"
   ]
  },
  {
   "cell_type": "code",
   "execution_count": null,
   "metadata": {},
   "outputs": [],
   "source": [
    "fig, axarr = plt.subplots(1, 3, figsize=(15, 6))\n",
    "\n",
    "axarr[0].matshow(images_full[0, band])\n",
    "\n",
    "axarr[1].matshow(map_recon_mean[0, band].detach())\n",
    "\n",
    "_resid = (map_recon_mean[0, band].detach() - images_full[0, band]) / images_full[0, band]\n",
    "vmax = _resid.abs().max()\n",
    "im2 = axarr[2].matshow(_resid, vmax = vmax, vmin = -vmax, \n",
    "                       cmap=plt.get_cmap('bwr'))\n",
    "fig.colorbar(im2, ax=axarr[2])\n"
   ]
  },
  {
   "cell_type": "code",
   "execution_count": null,
   "metadata": {},
   "outputs": [],
   "source": [
    "n_samples = 10"
   ]
  },
  {
   "cell_type": "code",
   "execution_count": null,
   "metadata": {},
   "outputs": [],
   "source": [
    "locs_full_image, fluxes_full_image, n_stars_full, \\\n",
    "    log_q_locs, log_q_fluxes, log_q_n_stars = \\\n",
    "        star_encoder.sample_star_encoder(images_full,\n",
    "                                        backgrounds_full,\n",
    "                                        n_samples = n_samples, \n",
    "                                        n_stars = None)"
   ]
  },
  {
   "cell_type": "code",
   "execution_count": null,
   "metadata": {},
   "outputs": [],
   "source": [
    "sampled_recon_mean = simulator.draw_image_from_params(locs = locs_full_image,\n",
    "                                                  fluxes = fluxes_full_image, \n",
    "                                                  n_stars = n_stars_full, \n",
    "                                                    add_noise = False)\n"
   ]
  },
  {
   "cell_type": "code",
   "execution_count": null,
   "metadata": {},
   "outputs": [],
   "source": [
    "fig, axarr = plt.subplots(1, 3, figsize=(15, 6))\n",
    "\n",
    "axarr[0].matshow(images_full[0, band])\n",
    "\n",
    "axarr[1].matshow(map_recon_mean[0, band].detach())\n",
    "axarr[1].set_title('map reconstruction')\n",
    "\n",
    "_resid = (map_recon_mean[0, band].detach() - images_full[0, band])\n",
    "vmax = _resid.abs().max()\n",
    "im2 = axarr[2].matshow(_resid, vmax = vmax, vmin = -vmax, \n",
    "                       cmap=plt.get_cmap('bwr'))\n",
    "fig.colorbar(im2, ax=axarr[2])\n",
    "axarr[2].set_title('map residual')\n",
    "\n",
    "for i in range(n_samples): \n",
    "    fig, axarr = plt.subplots(1, 3, figsize=(15, 6))\n",
    "\n",
    "    axarr[0].matshow(images_full[0, band])\n",
    "    axarr[0].set_title('observed')\n",
    "\n",
    "    axarr[1].matshow(sampled_recon_mean[i, band].detach())\n",
    "    axarr[1].set_title('sample reconstruction '+ str(i))\n",
    "\n",
    "\n",
    "    _resid = sampled_recon_mean[i, band].detach() - images_full[0, band]\n",
    "    vmax = _resid.abs().max()\n",
    "    im2 = axarr[2].matshow(_resid, vmax = vmax, vmin = -vmax, \n",
    "                           cmap=plt.get_cmap('bwr'))\n",
    "    fig.colorbar(im2, ax=axarr[2])\n",
    "    axarr[2].set_title('sample residual ' + str(i))\n",
    "\n"
   ]
  },
  {
   "cell_type": "code",
   "execution_count": null,
   "metadata": {},
   "outputs": [],
   "source": [
    "x0 = 30\n",
    "x1 = 50\n",
    "subimage_slen = 10\n",
    "\n",
    "fig, axarr = plt.subplots(1, 3, figsize=(15, 6))\n",
    "\n",
    "plotting_utils.plot_subimage(axarr[0], images_full[0, band], \n",
    "                            map_locs_full_image.squeeze(), \n",
    "                            true_full_locs.squeeze(), \n",
    "                            x0, x1, subimage_slen, \n",
    "                            add_colorbar = True, \n",
    "                            global_fig = fig)\n",
    "axarr[0].set_title('observed')\n",
    "\n",
    "plotting_utils.plot_subimage(axarr[1], map_recon_mean[0, band], \n",
    "                            map_locs_full_image.squeeze(), \n",
    "                            None, \n",
    "                            x0, x1, subimage_slen, \n",
    "                            add_colorbar = True, \n",
    "                            global_fig = fig)\n",
    "axarr[1].set_title('map reconstruction')\n",
    "\n",
    "_resid = (map_recon_mean[0, band].detach() - images_full[0, band])\n",
    "plotting_utils.plot_subimage(axarr[2], _resid, \n",
    "                            map_locs_full_image.squeeze(), \n",
    "                            None, \n",
    "                            x0, x1, subimage_slen, \n",
    "                            add_colorbar = True, \n",
    "                            global_fig = fig, \n",
    "                            diverging_cmap = True)\n",
    "axarr[1].set_title('map residual')\n",
    "\n",
    "for i in range(n_samples): \n",
    "    fig, axarr = plt.subplots(1, 3, figsize=(15, 6))\n",
    "\n",
    "    plotting_utils.plot_subimage(axarr[0], images_full[0, band], \n",
    "                                locs_full_image[i].squeeze(), \n",
    "                                true_full_locs.squeeze(), \n",
    "                                x0, x1, subimage_slen, \n",
    "                                add_colorbar = True, \n",
    "                                global_fig = fig)\n",
    "    axarr[0].set_title('observed')\n",
    "\n",
    "    plotting_utils.plot_subimage(axarr[1], sampled_recon_mean[i, band].detach(), \n",
    "                                locs_full_image[i].squeeze(), \n",
    "                                None, \n",
    "                                x0, x1, subimage_slen, \n",
    "                                add_colorbar = True, \n",
    "                                global_fig = fig)\n",
    "    axarr[1].set_title('sampled reconstruction')\n",
    "\n",
    "    _resid = (sampled_recon_mean[i, band].detach() - images_full[0, band])\n",
    "    plotting_utils.plot_subimage(axarr[2], _resid.squeeze(), \n",
    "                                locs_full_image[i].squeeze(), \n",
    "                                None, \n",
    "                                x0, x1, subimage_slen, \n",
    "                                add_colorbar = True, \n",
    "                                global_fig = fig, \n",
    "                                diverging_cmap = True)\n",
    "    axarr[1].set_title('sampled residual')\n",
    "\n"
   ]
  }
 ],
 "metadata": {
  "kernelspec": {
   "display_name": "Python (pytorch_04)",
   "language": "python",
   "name": "pytorch_update"
  },
  "language_info": {
   "codemirror_mode": {
    "name": "ipython",
    "version": 3
   },
   "file_extension": ".py",
   "mimetype": "text/x-python",
   "name": "python",
   "nbconvert_exporter": "python",
   "pygments_lexer": "ipython3",
   "version": "3.6.8"
  }
 },
 "nbformat": 4,
 "nbformat_minor": 2
}

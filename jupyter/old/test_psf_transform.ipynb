{
 "cells": [
  {
   "cell_type": "code",
   "execution_count": null,
   "metadata": {},
   "outputs": [],
   "source": [
    "import torch\n",
    "\n",
    "import torch.nn as nn\n",
    "\n",
    "import matplotlib.pyplot as plt\n",
    "\n",
    "import fitsio\n",
    "\n",
    "import numpy as np"
   ]
  },
  {
   "cell_type": "code",
   "execution_count": null,
   "metadata": {},
   "outputs": [],
   "source": [
    "import sys\n",
    "sys.path.insert(0, '../')"
   ]
  },
  {
   "cell_type": "code",
   "execution_count": null,
   "metadata": {},
   "outputs": [],
   "source": [
    "from simulated_datasets_lib import StarSimulator\n",
    "from psf_transform_lib import PsfLocalTransform"
   ]
  },
  {
   "cell_type": "markdown",
   "metadata": {},
   "source": [
    "# load psf "
   ]
  },
  {
   "cell_type": "code",
   "execution_count": null,
   "metadata": {},
   "outputs": [],
   "source": [
    "psf_dir = '../../multiband_pcat/Data/idR-002583-2-0136/psfs/'\n",
    "psf_r = fitsio.FITS(psf_dir + 'sdss-002583-2-0136-psf-r.fits')[0].read()\n",
    "psf_i = fitsio.FITS(psf_dir + 'sdss-002583-2-0136-psf-i.fits')[0].read()\n",
    "\n",
    "psf_og = torch.Tensor(np.array([psf_r]))"
   ]
  },
  {
   "cell_type": "markdown",
   "metadata": {},
   "source": [
    "# get transform"
   ]
  },
  {
   "cell_type": "code",
   "execution_count": null,
   "metadata": {},
   "outputs": [],
   "source": [
    "m = PsfLocalTransform(psf_og)"
   ]
  },
  {
   "cell_type": "code",
   "execution_count": null,
   "metadata": {},
   "outputs": [],
   "source": [
    "psf_og.shape"
   ]
  },
  {
   "cell_type": "code",
   "execution_count": null,
   "metadata": {},
   "outputs": [],
   "source": [
    "m.psf_tiled.shape"
   ]
  },
  {
   "cell_type": "markdown",
   "metadata": {},
   "source": [
    "# check tiling"
   ]
  },
  {
   "cell_type": "code",
   "execution_count": null,
   "metadata": {},
   "outputs": [],
   "source": [
    "_foo = nn.functional.pad(psf_og, (1, 1, 1, 1))\n",
    "\n",
    "for i in range(m.psf_tiled.shape[0]): \n",
    "    \n",
    "    k = i // 25\n",
    "    j = i % 25\n",
    "    \n",
    "    for b in range(m.n_bands): \n",
    "        assert torch.all(m.psf_tiled[i, b] == _foo[b, k:(k + 3), j:(j + 3)].flatten())\n",
    "        assert torch.all(m.psf_tiled[i, b, 4] == _foo[b, (k + 1), (j + 1)])"
   ]
  },
  {
   "cell_type": "markdown",
   "metadata": {},
   "source": [
    "# Check identity map"
   ]
  },
  {
   "cell_type": "code",
   "execution_count": null,
   "metadata": {},
   "outputs": [],
   "source": [
    "w = torch.zeros(m.psf_slen ** 2, m.n_bands, m.kernel_size ** 2)\n",
    "w[:, :, 4] = 1."
   ]
  },
  {
   "cell_type": "code",
   "execution_count": null,
   "metadata": {},
   "outputs": [],
   "source": [
    "assert (m.apply_weights(w) == psf_og).all()"
   ]
  },
  {
   "cell_type": "markdown",
   "metadata": {},
   "source": [
    "# Check normalization"
   ]
  },
  {
   "cell_type": "code",
   "execution_count": null,
   "metadata": {},
   "outputs": [],
   "source": [
    "## with initial weights"
   ]
  },
  {
   "cell_type": "code",
   "execution_count": null,
   "metadata": {},
   "outputs": [],
   "source": [
    "psf_og.max()"
   ]
  },
  {
   "cell_type": "code",
   "execution_count": null,
   "metadata": {},
   "outputs": [],
   "source": [
    "psf0 = m.forward().detach()"
   ]
  },
  {
   "cell_type": "code",
   "execution_count": null,
   "metadata": {},
   "outputs": [],
   "source": [
    "for b in range(m.n_bands): \n",
    "    assert (psf_og[b].sum() - psf0[b].sum()).abs() < 1e-6"
   ]
  },
  {
   "cell_type": "code",
   "execution_count": null,
   "metadata": {},
   "outputs": [],
   "source": [
    "plt.matshow(psf0[0, 38:63, 38:63] - psf_og[0])\n",
    "plt.colorbar()"
   ]
  },
  {
   "cell_type": "code",
   "execution_count": null,
   "metadata": {},
   "outputs": [],
   "source": [
    "## with random weights"
   ]
  },
  {
   "cell_type": "code",
   "execution_count": null,
   "metadata": {},
   "outputs": [],
   "source": [
    "m.weight = nn.Parameter(torch.randn(m.weight.shape)) \n",
    "psf1 = m.forward()"
   ]
  },
  {
   "cell_type": "code",
   "execution_count": null,
   "metadata": {},
   "outputs": [],
   "source": [
    "for b in range(m.n_bands): \n",
    "    assert (psf_og[b].sum() - psf1[b].sum()).abs() < 1e-6"
   ]
  },
  {
   "cell_type": "code",
   "execution_count": null,
   "metadata": {},
   "outputs": [],
   "source": []
  },
  {
   "cell_type": "code",
   "execution_count": null,
   "metadata": {},
   "outputs": [],
   "source": []
  },
  {
   "cell_type": "markdown",
   "metadata": {},
   "source": [
    "# Checkout my training"
   ]
  },
  {
   "cell_type": "code",
   "execution_count": null,
   "metadata": {},
   "outputs": [],
   "source": [
    "import sys\n",
    "sys.path.insert(0, '../')"
   ]
  },
  {
   "cell_type": "code",
   "execution_count": null,
   "metadata": {},
   "outputs": [],
   "source": [
    "import numpy as np\n",
    "\n",
    "import torch\n",
    "import torch.optim as optim\n",
    "\n",
    "import sdss_dataset_lib\n",
    "import simulated_datasets_lib\n",
    "import starnet_vae_lib\n",
    "from psf_transform_lib import PsfLocalTransform, get_psf_loss\n",
    "\n",
    "import time\n",
    "\n",
    "device = torch.device(\"cuda:0\" if torch.cuda.is_available() else \"cpu\")\n",
    "print('device: ', device)\n",
    "\n",
    "print('torch version: ', torch.__version__)\n",
    "\n",
    "# set seed\n",
    "np.random.seed(4534)\n",
    "_ = torch.manual_seed(2534)\n",
    "torch.backends.cudnn.deterministic = True\n",
    "torch.backends.cudnn.benchmark = False\n"
   ]
  },
  {
   "cell_type": "code",
   "execution_count": null,
   "metadata": {},
   "outputs": [],
   "source": [
    "import fitsio"
   ]
  },
  {
   "cell_type": "code",
   "execution_count": null,
   "metadata": {},
   "outputs": [],
   "source": [
    "# get sdss data\n",
    "sdss_hubble_data = sdss_dataset_lib.SDSSHubbleData(bands = [2, 3])\n"
   ]
  },
  {
   "cell_type": "code",
   "execution_count": null,
   "metadata": {},
   "outputs": [],
   "source": [
    "# image\n",
    "full_image = sdss_hubble_data.sdss_image.unsqueeze(0).to(device)\n",
    "full_background = sdss_hubble_data.sdss_background.unsqueeze(0).to(device)\n"
   ]
  },
  {
   "cell_type": "code",
   "execution_count": null,
   "metadata": {},
   "outputs": [],
   "source": [
    "# true paramters\n",
    "true_full_locs = sdss_hubble_data.locs.unsqueeze(0).to(device)\n",
    "true_full_fluxes = sdss_hubble_data.fluxes.unsqueeze(0).to(device)"
   ]
  },
  {
   "cell_type": "code",
   "execution_count": null,
   "metadata": {},
   "outputs": [],
   "source": [
    "true_full_fluxes.shape"
   ]
  },
  {
   "cell_type": "code",
   "execution_count": null,
   "metadata": {},
   "outputs": [],
   "source": [
    "print(full_image.mean());\n",
    "print(full_background.mean());\n",
    "print(true_full_locs.mean());\n",
    "print(true_full_fluxes.mean());"
   ]
  },
  {
   "cell_type": "code",
   "execution_count": null,
   "metadata": {},
   "outputs": [],
   "source": [
    "true_full_fluxes"
   ]
  },
  {
   "cell_type": "code",
   "execution_count": null,
   "metadata": {},
   "outputs": [],
   "source": []
  },
  {
   "cell_type": "code",
   "execution_count": null,
   "metadata": {},
   "outputs": [],
   "source": [
    "# load psf\n",
    "psf_dir = '../../multiband_pcat/Data/idR-002583-2-0136/psfs/'\n",
    "psf_r = fitsio.FITS(psf_dir + 'sdss-002583-2-0136-psf-r.fits')[0].read()\n",
    "psf_i = fitsio.FITS(psf_dir + 'sdss-002583-2-0136-psf-i.fits')[0].read()\n",
    "\n",
    "psf_og = np.array([psf_r, psf_i])"
   ]
  },
  {
   "cell_type": "code",
   "execution_count": null,
   "metadata": {},
   "outputs": [],
   "source": [
    "# define transform\n",
    "psf_transform = PsfLocalTransform(torch.Tensor(psf_og).to(device),\n",
    "                                full_image.shape[-1],\n",
    "                                kernel_size = 3)\n"
   ]
  },
  {
   "cell_type": "code",
   "execution_count": null,
   "metadata": {},
   "outputs": [],
   "source": [
    "locs = true_full_locs\n",
    "fluxes = true_full_fluxes\n",
    "n_stars = torch.sum(true_full_fluxes[:, :, 0] > 0, dim = 1);\n",
    "\n",
    "psf_trained = psf_transform.forward()\n",
    "# psf_trained = torch.Tensor(simulated_datasets_lib._expand_psf(psf_og, 101))\n",
    "\n",
    "print((psf_trained**2).mean());\n",
    "print(full_image.mean());\n",
    "print(full_background.mean());\n",
    "print(locs.mean());\n",
    "print(fluxes.mean());\n",
    "print(n_stars);\n",
    "\n",
    "\n",
    "# get loss\n",
    "recon_mean, loss = get_psf_loss(full_image, full_background,\n",
    "                    locs, \n",
    "                    fluxes, \n",
    "                    n_stars,\n",
    "                    psf_trained,\n",
    "                    pad = 5,\n",
    "                    grid = None)"
   ]
  },
  {
   "cell_type": "code",
   "execution_count": null,
   "metadata": {},
   "outputs": [],
   "source": [
    "fig, axarr = plt.subplots(1, 2, figsize=(8, 4))\n",
    "\n",
    "for b in range(psf_transform.n_bands): \n",
    "    resid0 = ((recon_mean[0, b].detach() - full_image[0, b]) / full_image[0, b])[5:95, 5:95]\n",
    "    im0 = axarr[b].matshow(resid0, \n",
    "                     vmax = resid0.abs().max(), \n",
    "                     vmin = -resid0.abs().max(), \n",
    "                     cmap = plt.get_cmap('bwr'))\n",
    "\n",
    "    fig.colorbar(im0, ax = axarr[b])"
   ]
  },
  {
   "cell_type": "code",
   "execution_count": null,
   "metadata": {},
   "outputs": [],
   "source": [
    "print(loss)"
   ]
  },
  {
   "cell_type": "code",
   "execution_count": null,
   "metadata": {},
   "outputs": [],
   "source": []
  },
  {
   "cell_type": "code",
   "execution_count": null,
   "metadata": {},
   "outputs": [],
   "source": [
    "optimizer = optim.Adam([\n",
    "                    {'params': psf_transform.parameters(),\n",
    "                    'lr': 0.1}],\n",
    "                    weight_decay = 1e-5)\n"
   ]
  },
  {
   "cell_type": "code",
   "execution_count": null,
   "metadata": {},
   "outputs": [],
   "source": [
    "optimizer.zero_grad()"
   ]
  },
  {
   "cell_type": "code",
   "execution_count": null,
   "metadata": {},
   "outputs": [],
   "source": [
    "loss = (psf_transform.forward()**2).sum()"
   ]
  },
  {
   "cell_type": "code",
   "execution_count": null,
   "metadata": {},
   "outputs": [],
   "source": [
    "loss"
   ]
  },
  {
   "cell_type": "code",
   "execution_count": null,
   "metadata": {},
   "outputs": [],
   "source": [
    "loss.backward()"
   ]
  },
  {
   "cell_type": "code",
   "execution_count": null,
   "metadata": {},
   "outputs": [],
   "source": []
  },
  {
   "cell_type": "code",
   "execution_count": null,
   "metadata": {},
   "outputs": [],
   "source": []
  },
  {
   "cell_type": "raw",
   "metadata": {},
   "source": [
    "# Checkout out my training"
   ]
  },
  {
   "cell_type": "raw",
   "metadata": {},
   "source": [
    "import numpy as np\n",
    "\n",
    "import torch\n",
    "import torch.optim as optim\n",
    "\n",
    "import sdss_dataset_lib\n",
    "import simulated_datasets_lib\n",
    "import starnet_vae_lib\n",
    "import kl_objective_lib\n",
    "\n",
    "import time\n",
    "\n",
    "device = torch.device(\"cuda:0\" if torch.cuda.is_available() else \"cpu\")\n",
    "print('device: ', device)\n",
    "\n",
    "print('torch version: ', torch.__version__)\n"
   ]
  },
  {
   "cell_type": "raw",
   "metadata": {},
   "source": [
    "sdss_hubble_data = sdss_dataset_lib.SDSSHubbleData()"
   ]
  },
  {
   "cell_type": "raw",
   "metadata": {},
   "source": [
    "full_image = sdss_hubble_data.sdss_image.unsqueeze(0).to(device)\n",
    "full_background = sdss_hubble_data.sdss_background.unsqueeze(0).to(device)\n",
    "\n",
    "# true paramters\n",
    "true_full_locs = sdss_hubble_data.locs.unsqueeze(0)\n",
    "true_full_fluxes = sdss_hubble_data.fluxes.unsqueeze(0)\n"
   ]
  },
  {
   "cell_type": "raw",
   "metadata": {},
   "source": [
    "# simulator\n",
    "simulator = simulated_datasets_lib.StarSimulator(\n",
    "                    psf_fit_file=str(sdss_hubble_data.psf_file),\n",
    "                    slen = full_image.shape[-1],\n",
    "                    sky_intensity = 0.)\n"
   ]
  },
  {
   "cell_type": "raw",
   "metadata": {},
   "source": [
    "# define VAE\n",
    "star_encoder = starnet_vae_lib.StarEncoder(full_slen = full_image.shape[-1],\n",
    "                                           stamp_slen = 9,\n",
    "                                           step = 2,\n",
    "                                           edge_padding = 3,\n",
    "                                           n_bands = 1,\n",
    "                                           max_detections = 4)\n"
   ]
  },
  {
   "cell_type": "raw",
   "metadata": {},
   "source": [
    "# define transform\n",
    "psf_transform = PsfLocalTransform(torch.Tensor(simulator.psf_og),\n",
    "                                    simulator.slen,\n",
    "                                    kernel_size = 3)"
   ]
  },
  {
   "cell_type": "raw",
   "metadata": {},
   "source": [
    "# define optimizer\n",
    "learning_rate = 1e-3\n",
    "weight_decay = 1e-5\n",
    "optimizer = optim.Adam([\n",
    "                    {'params': psf_transform.parameters(),\n",
    "                    'lr': learning_rate}],\n",
    "                    weight_decay = weight_decay)\n"
   ]
  },
  {
   "cell_type": "raw",
   "metadata": {},
   "source": [
    "init = psf_transform.weight.clone()\n",
    "print(init)"
   ]
  },
  {
   "cell_type": "raw",
   "metadata": {},
   "source": [
    "optimizer.zero_grad()"
   ]
  },
  {
   "cell_type": "raw",
   "metadata": {},
   "source": [
    "true_full_locs.shape"
   ]
  },
  {
   "cell_type": "raw",
   "metadata": {},
   "source": [
    "_, subimage_locs, subimage_fluxes, _, _ = \\\n",
    "    star_encoder.get_image_stamps(full_image, true_full_locs, true_full_fluxes,\n",
    "                                    trim_images = False)"
   ]
  },
  {
   "cell_type": "raw",
   "metadata": {},
   "source": [
    "import psf_transform_lib"
   ]
  },
  {
   "cell_type": "raw",
   "metadata": {},
   "source": [
    "recon_mean, loss = psf_transform_lib.get_psf_transform_loss(full_image, full_background,\n",
    "                                subimage_locs,\n",
    "                                subimage_fluxes,\n",
    "                                star_encoder.tile_coords,\n",
    "                                star_encoder.stamp_slen,\n",
    "                                star_encoder.edge_padding,\n",
    "                                simulator,\n",
    "                                psf_transform)\n"
   ]
  },
  {
   "cell_type": "raw",
   "metadata": {},
   "source": [
    "plt.matshow(full_image.squeeze())"
   ]
  },
  {
   "cell_type": "raw",
   "metadata": {},
   "source": [
    "plt.matshow(recon_mean.detach().squeeze())"
   ]
  },
  {
   "cell_type": "raw",
   "metadata": {},
   "source": [
    "loss.mean().backward()"
   ]
  },
  {
   "cell_type": "raw",
   "metadata": {},
   "source": [
    "optimizer.step()"
   ]
  },
  {
   "cell_type": "raw",
   "metadata": {},
   "source": [
    "(init - psf_transform.weight).abs().max()"
   ]
  },
  {
   "cell_type": "raw",
   "metadata": {},
   "source": [
    "torch.any((init - psf_transform.weight) > 0.)"
   ]
  },
  {
   "cell_type": "raw",
   "metadata": {},
   "source": [
    "torch.save(psf_transform.state_dict(), './test_out')"
   ]
  },
  {
   "cell_type": "raw",
   "metadata": {},
   "source": [
    "psf_transform.weight"
   ]
  },
  {
   "cell_type": "raw",
   "metadata": {},
   "source": [
    "psf_transform2 = PsfLocalTransform(torch.Tensor(simulator.psf_og),\n",
    "                                    simulator.slen,\n",
    "                                    kernel_size = 3)"
   ]
  },
  {
   "cell_type": "raw",
   "metadata": {},
   "source": [
    "psf_transform2.weight"
   ]
  },
  {
   "cell_type": "raw",
   "metadata": {},
   "source": [
    "psf_transform2.load_state_dict(torch.load('./test_out', map_location=lambda storage, loc: storage))"
   ]
  },
  {
   "cell_type": "raw",
   "metadata": {},
   "source": [
    "psf_transform2.weight"
   ]
  },
  {
   "cell_type": "raw",
   "metadata": {},
   "source": []
  },
  {
   "cell_type": "raw",
   "metadata": {},
   "source": []
  },
  {
   "cell_type": "raw",
   "metadata": {},
   "source": []
  },
  {
   "cell_type": "raw",
   "metadata": {},
   "source": []
  },
  {
   "cell_type": "raw",
   "metadata": {},
   "source": [
    "(psf_transform.weight.grad).max()"
   ]
  },
  {
   "cell_type": "raw",
   "metadata": {},
   "source": []
  }
 ],
 "metadata": {
  "kernelspec": {
   "display_name": "Python (pytorch_04)",
   "language": "python",
   "name": "pytorch_update"
  },
  "language_info": {
   "codemirror_mode": {
    "name": "ipython",
    "version": 3
   },
   "file_extension": ".py",
   "mimetype": "text/x-python",
   "name": "python",
   "nbconvert_exporter": "python",
   "pygments_lexer": "ipython3",
   "version": "3.6.8"
  }
 },
 "nbformat": 4,
 "nbformat_minor": 2
}

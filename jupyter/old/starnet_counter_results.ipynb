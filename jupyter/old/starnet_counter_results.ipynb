{
 "cells": [
  {
   "cell_type": "code",
   "execution_count": null,
   "metadata": {},
   "outputs": [],
   "source": [
    "import numpy as np\n",
    "\n",
    "import matplotlib.pyplot as plt\n",
    "\n",
    "import torch\n",
    "\n",
    "import sys\n",
    "sys.path.insert(0, './../')\n",
    "\n",
    "import sdss_psf\n",
    "import simulated_datasets_lib\n",
    "import starnet_vae_lib\n",
    "\n",
    "import objectives_lib\n",
    "\n",
    "import json\n",
    "\n",
    "device = torch.device(\"cuda:0\" if torch.cuda.is_available() else \"cpu\")\n",
    "\n",
    "print('torch version: ', torch.__version__)\n"
   ]
  },
  {
   "cell_type": "code",
   "execution_count": null,
   "metadata": {},
   "outputs": [],
   "source": [
    "# load PSF\n",
    "psf_fit_file = '../../celeste_net/sdss_stage_dir/2566/6/65/psField-002566-6-0065.fit'\n",
    "print('psf file: \\n', psf_fit_file)"
   ]
  },
  {
   "cell_type": "code",
   "execution_count": null,
   "metadata": {},
   "outputs": [],
   "source": [
    "np.random.seed(43534)\n",
    "_ = torch.manual_seed(24534)"
   ]
  },
  {
   "cell_type": "markdown",
   "metadata": {},
   "source": [
    "# Draw data"
   ]
  },
  {
   "cell_type": "code",
   "execution_count": null,
   "metadata": {},
   "outputs": [],
   "source": [
    "# data parameters\n",
    "with open('../data/default_star_parameters.json', 'r') as fp:\n",
    "    data_params = json.load(fp)\n",
    "\n",
    "data_params['max_stars'] = 20\n",
    "\n",
    "print(data_params)\n"
   ]
  },
  {
   "cell_type": "code",
   "execution_count": null,
   "metadata": {},
   "outputs": [],
   "source": [
    "n_stars = 1024\n",
    "\n",
    "star_dataset = \\\n",
    "    simulated_datasets_lib.load_dataset_from_params(psf_fit_file,\n",
    "                            data_params,\n",
    "                            n_stars = n_stars,\n",
    "                            use_fresh_data = False, \n",
    "                            add_noise = True)"
   ]
  },
  {
   "cell_type": "code",
   "execution_count": null,
   "metadata": {},
   "outputs": [],
   "source": [
    "# true parameters\n",
    "batchsize = n_stars\n",
    "test_loader = torch.utils.data.DataLoader(\n",
    "                 dataset=star_dataset,\n",
    "                 batch_size=batchsize,\n",
    "                 shuffle=True)"
   ]
  },
  {
   "cell_type": "code",
   "execution_count": null,
   "metadata": {},
   "outputs": [],
   "source": [
    "for _, data in enumerate(test_loader):\n",
    "    true_fluxes = data['fluxes']\n",
    "    true_locs = data['locs']\n",
    "    true_n_stars = data['n_stars']\n",
    "    images = data['image']\n",
    "    backgrounds = data['background']\n",
    "    \n",
    "    break"
   ]
  },
  {
   "cell_type": "code",
   "execution_count": null,
   "metadata": {},
   "outputs": [],
   "source": [
    "plt.hist(true_fluxes[:, 0])"
   ]
  },
  {
   "cell_type": "code",
   "execution_count": null,
   "metadata": {},
   "outputs": [],
   "source": [
    "images.shape"
   ]
  },
  {
   "cell_type": "code",
   "execution_count": null,
   "metadata": {},
   "outputs": [],
   "source": [
    "_, axarr = plt.subplots(2, 5, figsize=(18, 8))\n",
    "for i in range(0, 10): \n",
    "    \n",
    "    i1 = int(np.floor(i / 5))\n",
    "    i2 = i % 5\n",
    "        \n",
    "    # image \n",
    "    axarr[i1, i2].matshow(images[i, 0, :, :])\n",
    "    axarr[i1, i2].set_title('n_stars: {}\\n'.format(true_n_stars[i]))\n",
    "    \n",
    "    # plot locations \n",
    "    locs_i = true_locs[i]\n",
    "    n_stars_i = true_n_stars[i]\n",
    "    locs_y = (locs_i[0:int(n_stars_i), 0]) * (images.shape[-1] - 1) \n",
    "    locs_x = (locs_i[0:int(n_stars_i), 1]) * (images.shape[-1] - 1)\n",
    "    axarr[i1, i2].scatter(x = locs_x, y = locs_y, c = 'b')\n"
   ]
  },
  {
   "cell_type": "markdown",
   "metadata": {},
   "source": [
    "# Load VAE"
   ]
  },
  {
   "cell_type": "code",
   "execution_count": null,
   "metadata": {},
   "outputs": [],
   "source": [
    "star_counter = starnet_vae_lib.StarCounter(data_params['slen'],\n",
    "                                                n_bands = 1, \n",
    "                                               max_detections = data_params['max_stars'])"
   ]
  },
  {
   "cell_type": "code",
   "execution_count": null,
   "metadata": {},
   "outputs": [],
   "source": [
    "star_counter.load_state_dict(torch.load('../fits/starnet_invKL_counter_twenty_stars_new_prior',\n",
    "                               map_location=lambda storage, loc: storage))\n",
    "star_counter.eval(); "
   ]
  },
  {
   "cell_type": "code",
   "execution_count": null,
   "metadata": {},
   "outputs": [],
   "source": [
    "log_probs = star_counter(images, backgrounds)"
   ]
  },
  {
   "cell_type": "markdown",
   "metadata": {},
   "source": [
    "# predictive accuracy"
   ]
  },
  {
   "cell_type": "code",
   "execution_count": null,
   "metadata": {},
   "outputs": [],
   "source": [
    "log_probs[:, 0]"
   ]
  },
  {
   "cell_type": "code",
   "execution_count": null,
   "metadata": {},
   "outputs": [],
   "source": [
    "map_n_stars = torch.argmax(log_probs, dim = 1)"
   ]
  },
  {
   "cell_type": "code",
   "execution_count": null,
   "metadata": {},
   "outputs": [],
   "source": [
    "(map_n_stars.type(torch.FloatTensor) == true_n_stars).float().mean()"
   ]
  },
  {
   "cell_type": "code",
   "execution_count": null,
   "metadata": {},
   "outputs": [],
   "source": [
    "# top three accuracy\n",
    "\n",
    "topk_n_stars = torch.topk(log_probs, k = 3, dim = 1)[1]\n",
    "\n",
    "((topk_n_stars.type(torch.FloatTensor)[:, 0] == true_n_stars) + \\\n",
    "(topk_n_stars.type(torch.FloatTensor)[:, 1] == true_n_stars) + \\\n",
    "(topk_n_stars.type(torch.FloatTensor)[:, 2] == true_n_stars)).float().mean()\n"
   ]
  },
  {
   "cell_type": "code",
   "execution_count": null,
   "metadata": {},
   "outputs": [],
   "source": [
    "for i in range(data_params['max_stars']): \n",
    "    error = (map_n_stars.type(torch.FloatTensor)[true_n_stars == i] == \\\n",
    "             true_n_stars[[true_n_stars == i]]).float().mean()\n",
    "    \n",
    "    print(error)"
   ]
  },
  {
   "cell_type": "code",
   "execution_count": null,
   "metadata": {},
   "outputs": [],
   "source": [
    "objectives_lib.eval_star_counter_loss(star_counter, test_loader, train = False)"
   ]
  },
  {
   "cell_type": "markdown",
   "metadata": {},
   "source": [
    "# plot individual images"
   ]
  },
  {
   "cell_type": "code",
   "execution_count": null,
   "metadata": {},
   "outputs": [],
   "source": [
    "def plot_categorical_probs(log_prob_vec, fig):\n",
    "    n_cat = len(log_prob_vec)\n",
    "    points = [(i, torch.exp(log_prob_vec[i])) for i in range(n_cat)] \n",
    "\n",
    "    for pt in points:\n",
    "        # plot (x,y) pairs.\n",
    "        # vertical line: 2 x,y pairs: (a,0) and (a,b)\n",
    "        plt.plot([pt[0],pt[0]], [0,pt[1]], color = 'blue')\n",
    "\n",
    "    fig.plot(np.arange(n_cat), \n",
    "             torch.exp(log_prob_vec).detach().numpy(), \n",
    "             'o', markersize = 5, color = 'blue')\n"
   ]
  },
  {
   "cell_type": "code",
   "execution_count": null,
   "metadata": {},
   "outputs": [],
   "source": [
    "for indx in range(0, 10): \n",
    "    f, axarr = plt.subplots(1, 2, figsize=(8, 4))\n",
    "    \n",
    "    axarr[0].matshow(images[indx].squeeze())\n",
    "    axarr[0].scatter(true_locs[indx, 0:int(true_n_stars[indx]), 1] * (images.shape[-1] - 1),\n",
    "                  true_locs[indx, 0:int(true_n_stars[indx]), 0] * (images.shape[-1] - 1), \n",
    "                  marker = 'o', color = 'blue')\n",
    "    \n",
    "    title = 'truth: {:.02f} \\n'.format(true_n_stars[indx]) + \\\n",
    "            'pred: {:.02f}'.format(map_n_stars[indx])\n",
    "    \n",
    "    axarr[0].set_title('truth: {:.02f} \\n'.format(true_n_stars[indx]))\n",
    "    \n",
    "    plot_categorical_probs(log_probs[indx, :], axarr[1])\n",
    "    axarr[1].set_title('pred: {:.02f}'.format(map_n_stars[indx]))"
   ]
  },
  {
   "cell_type": "markdown",
   "metadata": {},
   "source": [
    "# Look at only the ones that are wrong"
   ]
  },
  {
   "cell_type": "code",
   "execution_count": null,
   "metadata": {},
   "outputs": [],
   "source": [
    "i = 0\n",
    "for indx in range(100, 200): \n",
    "    if true_n_stars.long()[indx] == map_n_stars[indx]: \n",
    "        continue\n",
    "    \n",
    "    f, axarr = plt.subplots(1, 2, figsize=(8, 4))\n",
    "    \n",
    "    axarr[0].matshow(images[indx].squeeze())\n",
    "    axarr[0].scatter(true_locs[indx, 0:int(true_n_stars[indx]), 1] * (images.shape[-1] - 1),\n",
    "                  true_locs[indx, 0:int(true_n_stars[indx]), 0] * (images.shape[-1] - 1), \n",
    "                  marker = 'o', color = 'blue')\n",
    "    \n",
    "    title = 'truth: {:.02f} \\n'.format(true_n_stars[indx]) + \\\n",
    "            'pred: {:.02f}'.format(map_n_stars[indx])\n",
    "    \n",
    "    axarr[0].set_title('truth: {:.02f} \\n'.format(true_n_stars[indx]))\n",
    "    \n",
    "    plot_categorical_probs(log_probs[indx, :], axarr[1])\n",
    "    axarr[1].set_title('pred: {:.02f} \\n'.format(map_n_stars[indx]))\n",
    "    \n",
    "    i += 1\n",
    "    if i > 10: \n",
    "        break"
   ]
  },
  {
   "cell_type": "code",
   "execution_count": null,
   "metadata": {},
   "outputs": [],
   "source": []
  },
  {
   "cell_type": "code",
   "execution_count": null,
   "metadata": {},
   "outputs": [],
   "source": []
  },
  {
   "cell_type": "code",
   "execution_count": null,
   "metadata": {},
   "outputs": [],
   "source": []
  },
  {
   "cell_type": "code",
   "execution_count": null,
   "metadata": {},
   "outputs": [],
   "source": []
  },
  {
   "cell_type": "code",
   "execution_count": null,
   "metadata": {},
   "outputs": [],
   "source": []
  }
 ],
 "metadata": {
  "kernelspec": {
   "display_name": "Python (pytorch_04)",
   "language": "python",
   "name": "pytorch_update"
  },
  "language_info": {
   "codemirror_mode": {
    "name": "ipython",
    "version": 3
   },
   "file_extension": ".py",
   "mimetype": "text/x-python",
   "name": "python",
   "nbconvert_exporter": "python",
   "pygments_lexer": "ipython3",
   "version": "3.6.8"
  }
 },
 "nbformat": 4,
 "nbformat_minor": 2
}

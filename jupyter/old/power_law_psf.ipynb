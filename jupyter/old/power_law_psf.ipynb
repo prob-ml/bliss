{
 "cells": [
  {
   "cell_type": "code",
   "execution_count": null,
   "metadata": {},
   "outputs": [],
   "source": [
    "import numpy as np\n",
    "import pathlib \n",
    "\n",
    "import matplotlib.pyplot as plt\n",
    "\n",
    "import torch\n",
    "\n",
    "from torch import optim\n",
    "\n",
    "import sys\n",
    "sys.path.insert(0, '../')\n",
    "import sdss_dataset_lib\n",
    "import sdss_psf\n",
    "\n",
    "from astropy.io import fits\n",
    "from astropy.wcs import WCS\n",
    "\n",
    "device = torch.device(\"cuda:0\" if torch.cuda.is_available() else \"cpu\")\n",
    "\n",
    "import os\n",
    "\n",
    "from psf_transform_lib import get_psf_loss\n",
    "import psf_transform_lib2\n",
    "import fitsio"
   ]
  },
  {
   "cell_type": "code",
   "execution_count": null,
   "metadata": {},
   "outputs": [],
   "source": []
  },
  {
   "cell_type": "code",
   "execution_count": null,
   "metadata": {},
   "outputs": [],
   "source": [
    "# load data\n",
    "bands = [2, 3]\n",
    "x0 = 630\n",
    "x1 = 310\n",
    "sdss_hubble_data = sdss_dataset_lib.SDSSHubbleData(x0 = x0,\n",
    "                                                    x1 = x1, \n",
    "                                                    bands = bands)\n"
   ]
  },
  {
   "cell_type": "code",
   "execution_count": null,
   "metadata": {},
   "outputs": [],
   "source": [
    "sdss_hubble_data.nelec_per_nmgy.mean()"
   ]
  },
  {
   "cell_type": "code",
   "execution_count": null,
   "metadata": {},
   "outputs": [],
   "source": [
    "# the full image\n",
    "plt.matshow(sdss_hubble_data.sdss_image_full[0])"
   ]
  },
  {
   "cell_type": "code",
   "execution_count": null,
   "metadata": {},
   "outputs": [],
   "source": [
    "# check the hubble coordinates overlap with the globular cluster\n",
    "plt.matshow(sdss_hubble_data.sdss_image_full[0])\n",
    "plt.plot(sdss_hubble_data.locs_full_x1, \n",
    "         sdss_hubble_data.locs_full_x0, alpha = 0.2)"
   ]
  },
  {
   "cell_type": "code",
   "execution_count": null,
   "metadata": {},
   "outputs": [],
   "source": [
    "# check patch \n",
    "\n",
    "for i in range(len(bands)):\n",
    "    plt.matshow(sdss_hubble_data.sdss_image[i])\n",
    "    plt.colorbar()\n"
   ]
  },
  {
   "cell_type": "code",
   "execution_count": null,
   "metadata": {},
   "outputs": [],
   "source": [
    "# check alignment between bands \n",
    "\n",
    "if len(bands) > 1: \n",
    "    band_diff = (sdss_hubble_data.sdss_image[1]) - \\\n",
    "                (sdss_hubble_data.sdss_image[0])\n",
    "\n",
    "    plt.matshow(band_diff, vmax = band_diff.abs().max(), vmin = -band_diff.abs().max(), \n",
    "                cmap = plt.get_cmap('bwr'))\n",
    "\n",
    "    plt.colorbar()"
   ]
  },
  {
   "cell_type": "code",
   "execution_count": null,
   "metadata": {},
   "outputs": [],
   "source": []
  },
  {
   "cell_type": "markdown",
   "metadata": {},
   "source": [
    "# SDSS PSF"
   ]
  },
  {
   "cell_type": "code",
   "execution_count": null,
   "metadata": {},
   "outputs": [],
   "source": [
    "psf_dir = '../data/'\n",
    "psf_r = fitsio.FITS(psf_dir + 'sdss-002583-2-0136-psf-r.fits')[0].read()\n",
    "psf_i = fitsio.FITS(psf_dir + 'sdss-002583-2-0136-psf-i.fits')[0].read()"
   ]
  },
  {
   "cell_type": "code",
   "execution_count": null,
   "metadata": {},
   "outputs": [],
   "source": []
  },
  {
   "cell_type": "markdown",
   "metadata": {},
   "source": [
    "# Power law PSF"
   ]
  },
  {
   "cell_type": "code",
   "execution_count": null,
   "metadata": {},
   "outputs": [],
   "source": [
    "psfield_file = '../../celeste_net/sdss_stage_dir/2583/2/136/psField-002583-2-0136.fit'"
   ]
  },
  {
   "cell_type": "code",
   "execution_count": null,
   "metadata": {},
   "outputs": [],
   "source": [
    "init_psf_params = torch.zeros(len(bands), 6)\n",
    "for i in range(len(bands)): \n",
    "    init_psf_params[i] = psf_transform_lib2.get_psf_params(\n",
    "                                    psfield_file, \n",
    "                                    band = bands[i])"
   ]
  },
  {
   "cell_type": "code",
   "execution_count": null,
   "metadata": {},
   "outputs": [],
   "source": [
    "power_law_psf = psf_transform_lib2.PowerLawPSF(init_psf_params)"
   ]
  },
  {
   "cell_type": "code",
   "execution_count": null,
   "metadata": {},
   "outputs": [],
   "source": [
    "init_psf = power_law_psf.forward().detach()"
   ]
  },
  {
   "cell_type": "code",
   "execution_count": null,
   "metadata": {},
   "outputs": [],
   "source": [
    "plt.matshow(init_psf[0, 46:55, 46:55])\n",
    "plt.colorbar()"
   ]
  },
  {
   "cell_type": "markdown",
   "metadata": {},
   "source": [
    "# Get my simulator"
   ]
  },
  {
   "cell_type": "code",
   "execution_count": null,
   "metadata": {},
   "outputs": [],
   "source": [
    "import simulated_datasets_lib"
   ]
  },
  {
   "cell_type": "code",
   "execution_count": null,
   "metadata": {},
   "outputs": [],
   "source": [
    "sky_intensity = sdss_hubble_data.sdss_background.reshape(len(bands), -1).mean(1)\n",
    "\n",
    "simulator = simulated_datasets_lib.StarSimulator(psf = init_psf,\n",
    "                                    slen = sdss_hubble_data.slen, \n",
    "                                    transpose_psf = False, \n",
    "                                    background = sdss_hubble_data.sdss_background)"
   ]
  },
  {
   "cell_type": "markdown",
   "metadata": {},
   "source": [
    "# Check reconstruction with all of the stars"
   ]
  },
  {
   "cell_type": "code",
   "execution_count": null,
   "metadata": {
    "code_folding": []
   },
   "outputs": [],
   "source": [
    "_fluxes = sdss_hubble_data.fluxes.unsqueeze(0)\n",
    "_locs = sdss_hubble_data.locs.unsqueeze(0)\n",
    "_n_stars = torch.Tensor([len(sdss_hubble_data.locs)]).type(torch.LongTensor)\n",
    "                                                               \n",
    "recon_mean_dense = simulator.draw_image_from_params(locs = _locs, \n",
    "                                                fluxes = _fluxes, \n",
    "                                                n_stars = _n_stars, \n",
    "                                                add_noise = False) "
   ]
  },
  {
   "cell_type": "code",
   "execution_count": null,
   "metadata": {},
   "outputs": [],
   "source": [
    "for i in range(len(bands)): \n",
    "    f, axarr = plt.subplots(1, 3, figsize=(16, 4))\n",
    "\n",
    "    observed = sdss_hubble_data.sdss_image\n",
    "    im0 = axarr[0].matshow(observed[i])\n",
    "    f.colorbar(im0, ax=axarr[0])\n",
    "    axarr[0].set_title('observed, band = ' + str(bands[i]))\n",
    "\n",
    "\n",
    "    im1 = axarr[1].matshow(recon_mean_dense[0, i])\n",
    "    f.colorbar(im1, ax=axarr[1])\n",
    "    axarr[1].set_title('recon, band = ' + str(bands[i]))\n",
    "\n",
    "    residual = recon_mean_dense[0,i] - observed[i]\n",
    "    foo = (residual / observed[i])\n",
    "    im2 = axarr[2].matshow(foo, vmax = foo.abs().max(), vmin = - foo.abs().max(), cmap = plt.get_cmap('bwr'))\n",
    "    f.colorbar(im2, ax=axarr[2])\n",
    "    axarr[2].set_title('recon - obse, band = ' + str(bands[i]))"
   ]
  },
  {
   "cell_type": "markdown",
   "metadata": {},
   "source": [
    "# Reconstruction with only bright stars"
   ]
  },
  {
   "cell_type": "code",
   "execution_count": null,
   "metadata": {},
   "outputs": [],
   "source": [
    "fmin = 1000."
   ]
  },
  {
   "cell_type": "code",
   "execution_count": null,
   "metadata": {},
   "outputs": [],
   "source": [
    "which_bright = sdss_hubble_data.fluxes[:, 0] > fmin\n",
    "\n",
    "_locs = sdss_hubble_data.locs[which_bright].unsqueeze(0)\n",
    "_fluxes = sdss_hubble_data.fluxes[which_bright].unsqueeze(0)\n",
    "_n_stars = torch.Tensor([len(_locs[0])]).type(torch.LongTensor)\n",
    "\n",
    "recon_mean = simulator.draw_image_from_params(locs = _locs, \n",
    "                                                fluxes = _fluxes, \n",
    "                                                n_stars = _n_stars, \n",
    "                                                add_noise = False) "
   ]
  },
  {
   "cell_type": "code",
   "execution_count": null,
   "metadata": {},
   "outputs": [],
   "source": [
    "for i in range(len(bands)): \n",
    "    f, axarr = plt.subplots(1, 3, figsize=(16, 4))\n",
    "\n",
    "    observed = sdss_hubble_data.sdss_image\n",
    "    im0 = axarr[0].matshow(observed[i])\n",
    "    f.colorbar(im0, ax=axarr[0])\n",
    "    axarr[0].set_title('observed, band = ' + str(bands[i]))\n",
    "\n",
    "\n",
    "    im1 = axarr[1].matshow(recon_mean[0, i])\n",
    "    f.colorbar(im1, ax=axarr[1])\n",
    "    axarr[1].set_title('recon, band = ' + str(bands[i]))\n",
    "\n",
    "    residual = recon_mean[0,i] - observed[i]\n",
    "    foo = (residual / observed[i])\n",
    "    im2 = axarr[2].matshow(foo, vmax = foo.abs().max(), vmin = - foo.abs().max(), cmap = plt.get_cmap('bwr'))\n",
    "    f.colorbar(im2, ax=axarr[2])\n",
    "    axarr[2].set_title('recon - obse, band = ' + str(bands[i]))"
   ]
  },
  {
   "cell_type": "markdown",
   "metadata": {},
   "source": [
    "# Estimate the background"
   ]
  },
  {
   "cell_type": "code",
   "execution_count": null,
   "metadata": {},
   "outputs": [],
   "source": [
    "import wake_lib"
   ]
  },
  {
   "cell_type": "code",
   "execution_count": null,
   "metadata": {},
   "outputs": [],
   "source": [
    "estimator = wake_lib.EstimateModelParams(sdss_hubble_data.sdss_image.unsqueeze(0), \n",
    "                                            locs = _locs, \n",
    "                                            n_stars = _n_stars, \n",
    "                                            init_psf_params = init_psf_params, \n",
    "                                            init_background_params = None, \n",
    "                                            init_fluxes = _fluxes)"
   ]
  },
  {
   "cell_type": "code",
   "execution_count": null,
   "metadata": {},
   "outputs": [],
   "source": [
    "background_optimizer = optim.LBFGS(list(estimator.planar_background.parameters()), \n",
    "                            max_iter = 10, \n",
    "                            line_search_fn = 'strong_wolfe')"
   ]
  },
  {
   "cell_type": "code",
   "execution_count": null,
   "metadata": {},
   "outputs": [],
   "source": [
    "estimator._run_optimizer(background_optimizer, tol = 1e-3, use_cached_star_basis=True)"
   ]
  },
  {
   "cell_type": "code",
   "execution_count": null,
   "metadata": {},
   "outputs": [],
   "source": [
    "recon_mean1 = estimator.get_loss(use_cached_star_basis=True)[0].detach()"
   ]
  },
  {
   "cell_type": "code",
   "execution_count": null,
   "metadata": {},
   "outputs": [],
   "source": [
    "for i in range(len(bands)): \n",
    "    f, axarr = plt.subplots(1, 3, figsize=(16, 4))\n",
    "\n",
    "    observed = sdss_hubble_data.sdss_image\n",
    "    im0 = axarr[0].matshow(observed[i])\n",
    "    f.colorbar(im0, ax=axarr[0])\n",
    "    axarr[0].set_title('observed, band = ' + str(bands[i]))\n",
    "\n",
    "\n",
    "    im1 = axarr[1].matshow(recon_mean1[0, i])\n",
    "    f.colorbar(im1, ax=axarr[1])\n",
    "    axarr[1].set_title('recon, band = ' + str(bands[i]))\n",
    "\n",
    "    residual = recon_mean1[0,i] - observed[i]\n",
    "    foo = (residual / observed[i])\n",
    "    im2 = axarr[2].matshow(foo, vmax = foo.abs().max(), vmin = - foo.abs().max(), cmap = plt.get_cmap('bwr'))\n",
    "    f.colorbar(im2, ax=axarr[2])\n",
    "    axarr[2].set_title('recon - obse, band = ' + str(bands[i]))"
   ]
  },
  {
   "cell_type": "code",
   "execution_count": null,
   "metadata": {},
   "outputs": [],
   "source": [
    "plt.matshow(estimator.planar_background.forward().detach()[1])\n",
    "plt.colorbar()"
   ]
  },
  {
   "cell_type": "markdown",
   "metadata": {},
   "source": [
    "# Now estimate the PSF "
   ]
  },
  {
   "cell_type": "code",
   "execution_count": null,
   "metadata": {},
   "outputs": [],
   "source": [
    "psf_optimizer = optim.LBFGS(list(estimator.power_law_psf.parameters()), \n",
    "                            max_iter = 10, \n",
    "                            line_search_fn = 'strong_wolfe')"
   ]
  },
  {
   "cell_type": "code",
   "execution_count": null,
   "metadata": {},
   "outputs": [],
   "source": [
    "estimator._run_optimizer(psf_optimizer, tol = 1e-6, max_iter = 50, \n",
    "                         use_cached_star_basis = False, \n",
    "                         print_every = True)"
   ]
  },
  {
   "cell_type": "code",
   "execution_count": null,
   "metadata": {},
   "outputs": [],
   "source": [
    "recon_mean2 = estimator.get_loss(use_cached_star_basis=False)[0].detach()"
   ]
  },
  {
   "cell_type": "code",
   "execution_count": null,
   "metadata": {},
   "outputs": [],
   "source": [
    "for i in range(len(bands)): \n",
    "    f, axarr = plt.subplots(1, 3, figsize=(16, 4))\n",
    "\n",
    "    observed = sdss_hubble_data.sdss_image\n",
    "    im0 = axarr[0].matshow(observed[i])\n",
    "    f.colorbar(im0, ax=axarr[0])\n",
    "    axarr[0].set_title('observed, band = ' + str(bands[i]))\n",
    "\n",
    "\n",
    "    im1 = axarr[1].matshow(recon_mean2[0, i])\n",
    "    f.colorbar(im1, ax=axarr[1])\n",
    "    axarr[1].set_title('recon, band = ' + str(bands[i]))\n",
    "\n",
    "    residual = recon_mean2[0,i] - observed[i]\n",
    "    foo = (residual / observed[i])\n",
    "    im2 = axarr[2].matshow(foo, vmax = foo.abs().max(), vmin = - foo.abs().max(), cmap = plt.get_cmap('bwr'))\n",
    "    f.colorbar(im2, ax=axarr[2])\n",
    "    axarr[2].set_title('recon - obse, band = ' + str(bands[i]))"
   ]
  },
  {
   "cell_type": "code",
   "execution_count": null,
   "metadata": {},
   "outputs": [],
   "source": [
    "band = 1"
   ]
  },
  {
   "cell_type": "code",
   "execution_count": null,
   "metadata": {},
   "outputs": [],
   "source": [
    "plt.matshow(simulated_datasets_lib._trim_psf(init_psf, 15)[band]); \n",
    "plt.colorbar()"
   ]
  },
  {
   "cell_type": "code",
   "execution_count": null,
   "metadata": {},
   "outputs": [],
   "source": [
    "trained_psf = estimator.get_psf().detach()"
   ]
  },
  {
   "cell_type": "code",
   "execution_count": null,
   "metadata": {},
   "outputs": [],
   "source": [
    "plt.matshow(simulated_datasets_lib._trim_psf(trained_psf, 15)[band]); \n",
    "plt.colorbar()"
   ]
  },
  {
   "cell_type": "code",
   "execution_count": null,
   "metadata": {},
   "outputs": [],
   "source": [
    "estimator.state_dict()"
   ]
  },
  {
   "cell_type": "code",
   "execution_count": null,
   "metadata": {},
   "outputs": [],
   "source": [
    "np.save('../fits/results_2020-02-06/true_powerlaw_psf_params', \n",
    "        list(estimator.power_law_psf.parameters())[0].data.numpy())"
   ]
  },
  {
   "cell_type": "code",
   "execution_count": null,
   "metadata": {},
   "outputs": [],
   "source": [
    "np.save('../fits/results_2020-02-06/true_planarback_params', \n",
    "       list(estimator.planar_background.parameters())[0].data.numpy())"
   ]
  },
  {
   "cell_type": "code",
   "execution_count": null,
   "metadata": {},
   "outputs": [],
   "source": [
    "wake_lib.PlanarBackground()"
   ]
  },
  {
   "cell_type": "code",
   "execution_count": null,
   "metadata": {},
   "outputs": [],
   "source": [
    "sdss_hubble_data.sdss_background[0].mean()"
   ]
  },
  {
   "cell_type": "code",
   "execution_count": null,
   "metadata": {},
   "outputs": [],
   "source": []
  }
 ],
 "metadata": {
  "kernelspec": {
   "display_name": "pytorch_update",
   "language": "python",
   "name": "pytorch_update"
  },
  "language_info": {
   "codemirror_mode": {
    "name": "ipython",
    "version": 3
   },
   "file_extension": ".py",
   "mimetype": "text/x-python",
   "name": "python",
   "nbconvert_exporter": "python",
   "pygments_lexer": "ipython3",
   "version": "3.6.8"
  }
 },
 "nbformat": 4,
 "nbformat_minor": 2
}

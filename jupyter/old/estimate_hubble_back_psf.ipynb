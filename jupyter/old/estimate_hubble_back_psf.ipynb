{
 "cells": [
  {
   "cell_type": "code",
   "execution_count": null,
   "metadata": {},
   "outputs": [],
   "source": [
    "import numpy as np\n",
    "import pathlib \n",
    "\n",
    "import matplotlib.pyplot as plt\n",
    "\n",
    "import torch\n",
    "\n",
    "from torch.utils.data import Dataset\n",
    "\n",
    "import sys\n",
    "sys.path.insert(0, '../')\n",
    "import sdss_dataset_lib\n",
    "import sdss_psf\n",
    "\n",
    "import psf_transform_lib\n",
    "import wake_lib\n",
    "\n",
    "from astropy.io import fits\n",
    "from astropy.wcs import WCS\n",
    "\n",
    "device = torch.device(\"cuda:0\" if torch.cuda.is_available() else \"cpu\")\n",
    "\n",
    "import os"
   ]
  },
  {
   "cell_type": "code",
   "execution_count": null,
   "metadata": {},
   "outputs": [],
   "source": []
  },
  {
   "cell_type": "code",
   "execution_count": null,
   "metadata": {},
   "outputs": [],
   "source": [
    "# load data\n",
    "bands = [2, 3]\n",
    "x0 = 630\n",
    "x1 = 310\n",
    "sdss_hubble_data = sdss_dataset_lib.SDSSHubbleData(x0 = x0,\n",
    "                                                    x1 = x1, \n",
    "                                                    bands = bands)\n"
   ]
  },
  {
   "cell_type": "code",
   "execution_count": null,
   "metadata": {},
   "outputs": [],
   "source": []
  },
  {
   "cell_type": "code",
   "execution_count": null,
   "metadata": {},
   "outputs": [],
   "source": [
    "# the full image\n",
    "plt.matshow(sdss_hubble_data.sdss_image_full[0])"
   ]
  },
  {
   "cell_type": "code",
   "execution_count": null,
   "metadata": {},
   "outputs": [],
   "source": [
    "# check the hubble coordinates overlap with the globular cluster\n",
    "plt.matshow(sdss_hubble_data.sdss_image_full[0])\n",
    "plt.plot(sdss_hubble_data.locs_full_x1, \n",
    "         sdss_hubble_data.locs_full_x0, alpha = 0.2)"
   ]
  },
  {
   "cell_type": "code",
   "execution_count": null,
   "metadata": {},
   "outputs": [],
   "source": [
    "# check patch \n",
    "\n",
    "for i in range(len(bands)):\n",
    "    plt.matshow(sdss_hubble_data.sdss_image[i])\n",
    "    plt.colorbar()\n"
   ]
  },
  {
   "cell_type": "code",
   "execution_count": null,
   "metadata": {},
   "outputs": [],
   "source": [
    "# check alignment between bands \n",
    "\n",
    "if len(bands) > 1: \n",
    "    band_diff = (sdss_hubble_data.sdss_image[1]) - \\\n",
    "                (sdss_hubble_data.sdss_image[0])\n",
    "\n",
    "    plt.matshow(band_diff, vmax = band_diff.abs().max(), vmin = -band_diff.abs().max(), \n",
    "                cmap = plt.get_cmap('bwr'))\n",
    "\n",
    "    plt.colorbar()"
   ]
  },
  {
   "cell_type": "markdown",
   "metadata": {},
   "source": [
    "# Distribution of colors"
   ]
  },
  {
   "cell_type": "code",
   "execution_count": null,
   "metadata": {},
   "outputs": [],
   "source": [
    "if len(bands) > 1: \n",
    "    foo = (sdss_hubble_data.sdss_image[1]) / \\\n",
    "                (sdss_hubble_data.sdss_image[0])\n",
    "\n",
    "    foo = torch.log10(foo).flatten() * (2.5)\n",
    "    plt.hist(foo, bins = 100);\n",
    "\n",
    "    print(foo.mean())\n",
    "    print(foo.var().sqrt())"
   ]
  },
  {
   "cell_type": "code",
   "execution_count": null,
   "metadata": {},
   "outputs": [],
   "source": [
    "if len(bands) > 1: \n",
    "\n",
    "    foo = (sdss_hubble_data.fluxes[:, 1]) / \\\n",
    "                (sdss_hubble_data.fluxes[:, 0])\n",
    "\n",
    "    foo = torch.log10(foo).flatten() * (2.5)\n",
    "    plt.hist(foo, bins = 100);\n",
    "\n",
    "    print(foo.mean())\n",
    "    print(foo.var().sqrt())"
   ]
  },
  {
   "cell_type": "code",
   "execution_count": null,
   "metadata": {},
   "outputs": [],
   "source": []
  },
  {
   "cell_type": "markdown",
   "metadata": {},
   "source": [
    "# plot a few subimages"
   ]
  },
  {
   "cell_type": "code",
   "execution_count": null,
   "metadata": {},
   "outputs": [],
   "source": [
    "fmin = 500."
   ]
  },
  {
   "cell_type": "code",
   "execution_count": null,
   "metadata": {},
   "outputs": [],
   "source": [
    "import plotting_utils"
   ]
  },
  {
   "cell_type": "code",
   "execution_count": null,
   "metadata": {},
   "outputs": [],
   "source": [
    "x0_vec = np.arange(0, 100, 10)\n",
    "x1_vec = x0_vec"
   ]
  },
  {
   "cell_type": "code",
   "execution_count": null,
   "metadata": {},
   "outputs": [],
   "source": [
    "for i in range(6): \n",
    "    x0 = int(np.random.choice(x0_vec, 1))\n",
    "    x1 = int(np.random.choice(x1_vec, 1))\n",
    "    \n",
    "    which_bright = (sdss_hubble_data.fluxes > fmin)[:, 0]\n",
    "    \n",
    "    f, axarr = plt.subplots(1, 3, figsize=(16, 4))\n",
    "    plotting_utils.plot_subimage(axarr[0], \n",
    "                                sdss_hubble_data.sdss_image[0], \n",
    "                                None, \n",
    "                                sdss_hubble_data.locs[which_bright], \n",
    "                                x0, x1, \n",
    "                                subimage_slen = 10, \n",
    "                                add_colorbar = True, \n",
    "                                global_fig = f)\n",
    "    axarr[0].set_title('band ' + str(bands[0]))\n",
    "    \n",
    "    if len(bands) > 1: \n",
    "        plotting_utils.plot_subimage(axarr[1], \n",
    "                                    sdss_hubble_data.sdss_image[1], \n",
    "                                    None, \n",
    "                                    sdss_hubble_data.locs[which_bright], \n",
    "                                    x0, x1, \n",
    "                                    subimage_slen = 10, \n",
    "                                    add_colorbar = True, \n",
    "                                    global_fig = f)\n",
    "        axarr[1].set_title('band ' + str(bands[1]))\n",
    "\n",
    "        plotting_utils.plot_subimage(axarr[2], \n",
    "                                    (sdss_hubble_data.sdss_image[1]) - \\\n",
    "                                     (sdss_hubble_data.sdss_image[0]), \n",
    "                                    None, \n",
    "                                    sdss_hubble_data.locs[which_bright], \n",
    "                                    x0, x1, \n",
    "                                    subimage_slen = 10, \n",
    "                                    add_colorbar = True, \n",
    "                                    global_fig = f, \n",
    "                                    diverging_cmap = True)"
   ]
  },
  {
   "cell_type": "code",
   "execution_count": null,
   "metadata": {},
   "outputs": [],
   "source": []
  },
  {
   "cell_type": "markdown",
   "metadata": {},
   "source": [
    "# Get true parameters"
   ]
  },
  {
   "cell_type": "code",
   "execution_count": null,
   "metadata": {},
   "outputs": [],
   "source": [
    "filter_by_bright = True"
   ]
  },
  {
   "cell_type": "code",
   "execution_count": null,
   "metadata": {},
   "outputs": [],
   "source": [
    "if filter_by_bright: \n",
    "    \n",
    "    which_bright = sdss_hubble_data.fluxes[:, 0] > fmin\n",
    "    \n",
    "    true_locs = sdss_hubble_data.locs[which_bright].unsqueeze(0)\n",
    "    true_fluxes = sdss_hubble_data.fluxes[which_bright].unsqueeze(0)\n",
    "    true_n_stars = torch.Tensor([len(true_locs[0])]).type(torch.LongTensor)\n",
    "else: \n",
    "    true_fluxes = sdss_hubble_data.fluxes.unsqueeze(0)\n",
    "    true_locs = sdss_hubble_data.locs.unsqueeze(0)\n",
    "    true_n_stars = torch.Tensor([len(sdss_hubble_data.locs)]).type(torch.LongTensor)"
   ]
  },
  {
   "cell_type": "code",
   "execution_count": null,
   "metadata": {},
   "outputs": [],
   "source": [
    "plt.hist(torch.log10(true_fluxes[0, :, 0]))"
   ]
  },
  {
   "cell_type": "code",
   "execution_count": null,
   "metadata": {},
   "outputs": [],
   "source": [
    "if len(bands) > 0: \n",
    "    foo = (true_fluxes[0, :, 1]) / \\\n",
    "            (true_fluxes[0, :, 0])\n",
    "\n",
    "    foo = torch.log10(foo).flatten() * (2.5)\n",
    "    plt.hist(foo, bins = 100);\n",
    "\n",
    "    print(foo.mean())\n",
    "    print(foo.var().sqrt())"
   ]
  },
  {
   "cell_type": "markdown",
   "metadata": {},
   "source": [
    "# Load initial PSF and background"
   ]
  },
  {
   "cell_type": "code",
   "execution_count": null,
   "metadata": {},
   "outputs": [],
   "source": [
    "bands = [2, 3]\n",
    "psfield_file = '../../celeste_net/sdss_stage_dir/2583/2/136/psField-002583-2-0136.fit'\n",
    "init_psf_params = psf_transform_lib.get_psf_params(\n",
    "                                    psfield_file,\n",
    "                                    bands = bands)"
   ]
  },
  {
   "cell_type": "code",
   "execution_count": null,
   "metadata": {},
   "outputs": [],
   "source": [
    "init_background_params = torch.zeros(len(bands), 3).to(device)\n",
    "init_background_params[:, 0] = torch.Tensor([686., 1123.])\n"
   ]
  },
  {
   "cell_type": "code",
   "execution_count": null,
   "metadata": {},
   "outputs": [],
   "source": [
    "model_params = wake_lib.ModelParams(sdss_hubble_data.sdss_image.unsqueeze(0), \n",
    "                                    init_psf_params,\n",
    "                                    init_background_params)"
   ]
  },
  {
   "cell_type": "code",
   "execution_count": null,
   "metadata": {},
   "outputs": [],
   "source": []
  },
  {
   "cell_type": "markdown",
   "metadata": {},
   "source": [
    "# Check out reconstructions"
   ]
  },
  {
   "cell_type": "code",
   "execution_count": null,
   "metadata": {},
   "outputs": [],
   "source": [
    "init_recon = model_params.get_loss(locs = true_locs, \n",
    "                                   fluxes = true_fluxes, \n",
    "                                   n_stars = true_n_stars)[0].detach()"
   ]
  },
  {
   "cell_type": "code",
   "execution_count": null,
   "metadata": {},
   "outputs": [],
   "source": [
    "for i in range(len(bands)): \n",
    "    f, axarr = plt.subplots(1, 3, figsize=(16, 4))\n",
    "\n",
    "    observed = sdss_hubble_data.sdss_image\n",
    "    im0 = axarr[0].matshow(observed[i])\n",
    "    f.colorbar(im0, ax=axarr[0])\n",
    "    axarr[0].set_title('observed, band = ' + str(bands[i]))\n",
    "\n",
    "\n",
    "    im1 = axarr[1].matshow(init_recon[0, i])\n",
    "    f.colorbar(im1, ax=axarr[1])\n",
    "    axarr[1].set_title('recon, band = ' + str(bands[i]))\n",
    "\n",
    "    residual = 2.5 * (torch.log10(init_recon[0,i]) - torch.log10(observed[i]))\n",
    "    im2 = axarr[2].matshow(residual, vmax = residual.abs().max(), \n",
    "                           vmin = - residual.abs().max(), cmap = plt.get_cmap('bwr'))\n",
    "    f.colorbar(im2, ax=axarr[2])\n",
    "    axarr[2].set_title('recon - obse, band = ' + str(bands[i]))"
   ]
  },
  {
   "cell_type": "markdown",
   "metadata": {},
   "source": [
    "# Optimize background"
   ]
  },
  {
   "cell_type": "code",
   "execution_count": null,
   "metadata": {},
   "outputs": [],
   "source": [
    "model_params.get_loss(use_cached_stars=True)[1]"
   ]
  },
  {
   "cell_type": "code",
   "execution_count": null,
   "metadata": {},
   "outputs": [],
   "source": [
    "model_params._get_init_background()"
   ]
  },
  {
   "cell_type": "code",
   "execution_count": null,
   "metadata": {},
   "outputs": [],
   "source": [
    "model_params.get_loss(use_cached_stars=True)[1]"
   ]
  },
  {
   "cell_type": "code",
   "execution_count": null,
   "metadata": {},
   "outputs": [],
   "source": [
    "from torch import optim"
   ]
  },
  {
   "cell_type": "code",
   "execution_count": null,
   "metadata": {},
   "outputs": [],
   "source": [
    "background_optimizer = optim.LBFGS(model_params.planar_background.parameters(),\n",
    "                    max_iter = 20,\n",
    "                    line_search_fn = 'strong_wolfe')\n",
    "\n",
    "def back_closure(): \n",
    "    background_optimizer.zero_grad()\n",
    "    loss = model_params.get_loss(use_cached_stars=True)[1]\n",
    "    loss.backward()\n",
    "\n",
    "    return loss"
   ]
  },
  {
   "cell_type": "code",
   "execution_count": null,
   "metadata": {},
   "outputs": [],
   "source": [
    "for i in range(5): \n",
    "    loss = background_optimizer.step(back_closure)"
   ]
  },
  {
   "cell_type": "code",
   "execution_count": null,
   "metadata": {},
   "outputs": [],
   "source": [
    "list(model_params.planar_background.parameters())"
   ]
  },
  {
   "cell_type": "code",
   "execution_count": null,
   "metadata": {},
   "outputs": [],
   "source": [
    "recon1, loss = model_params.get_loss(use_cached_stars=True)\n",
    "print(loss)\n",
    "recon1 = recon1.detach()"
   ]
  },
  {
   "cell_type": "code",
   "execution_count": null,
   "metadata": {},
   "outputs": [],
   "source": [
    "for i in range(len(bands)): \n",
    "    f, axarr = plt.subplots(1, 3, figsize=(16, 4))\n",
    "\n",
    "    observed = sdss_hubble_data.sdss_image\n",
    "    im0 = axarr[0].matshow(observed[i])\n",
    "    f.colorbar(im0, ax=axarr[0])\n",
    "    axarr[0].set_title('observed, band = ' + str(bands[i]))\n",
    "\n",
    "\n",
    "    im1 = axarr[1].matshow(recon1[0, i])\n",
    "    f.colorbar(im1, ax=axarr[1])\n",
    "    axarr[1].set_title('recon, band = ' + str(bands[i]))\n",
    "\n",
    "    residual = 2.5 * (torch.log10(recon1[0,i]) - torch.log10(observed[i]))[5:95, 9:95]\n",
    "    im2 = axarr[2].matshow(residual, vmax = residual.abs().max(), \n",
    "                           vmin = - residual.abs().max(), cmap = plt.get_cmap('bwr'))\n",
    "    f.colorbar(im2, ax=axarr[2])\n",
    "    axarr[2].set_title('recon - obse, band = ' + str(bands[i]))"
   ]
  },
  {
   "cell_type": "code",
   "execution_count": null,
   "metadata": {},
   "outputs": [],
   "source": []
  },
  {
   "cell_type": "code",
   "execution_count": null,
   "metadata": {},
   "outputs": [],
   "source": []
  },
  {
   "cell_type": "markdown",
   "metadata": {},
   "source": [
    "# Optimize psf"
   ]
  },
  {
   "cell_type": "code",
   "execution_count": null,
   "metadata": {},
   "outputs": [],
   "source": [
    "psf_optimizer = optim.LBFGS(model_params.power_law_psf.parameters(),\n",
    "                    max_iter = 20,\n",
    "                    line_search_fn = 'strong_wolfe')\n",
    "\n",
    "def psf_closure(): \n",
    "    psf_optimizer.zero_grad()\n",
    "    loss = model_params.get_loss(locs = true_locs, \n",
    "                                   fluxes = true_fluxes, \n",
    "                                   n_stars = true_n_stars)[1]\n",
    "    loss.backward()\n",
    "\n",
    "    return loss"
   ]
  },
  {
   "cell_type": "code",
   "execution_count": null,
   "metadata": {},
   "outputs": [],
   "source": [
    "for i in range(1): \n",
    "    loss = psf_optimizer.step(psf_closure)"
   ]
  },
  {
   "cell_type": "code",
   "execution_count": null,
   "metadata": {},
   "outputs": [],
   "source": [
    "_, loss = model_params.get_loss(locs = true_locs, \n",
    "                                   fluxes = true_fluxes, \n",
    "                                   n_stars = true_n_stars)\n",
    "print(loss)"
   ]
  },
  {
   "cell_type": "code",
   "execution_count": null,
   "metadata": {},
   "outputs": [],
   "source": [
    "list(model_params.power_law_psf.parameters())"
   ]
  },
  {
   "cell_type": "code",
   "execution_count": null,
   "metadata": {},
   "outputs": [],
   "source": [
    "init_psf_params"
   ]
  },
  {
   "cell_type": "code",
   "execution_count": null,
   "metadata": {},
   "outputs": [],
   "source": [
    "from simulated_datasets_lib import _trim_psf"
   ]
  },
  {
   "cell_type": "code",
   "execution_count": null,
   "metadata": {},
   "outputs": [],
   "source": [
    "b = 0\n",
    "f, axarr = plt.subplots(1, 3, figsize=(16, 4))\n",
    "# original psf\n",
    "im0 = axarr[0].matshow(_trim_psf(model_params.init_psf, 15)[b])\n",
    "f.colorbar(im0, ax = axarr[0])\n",
    "\n",
    "# estimated psf\n",
    "im1 = axarr[1].matshow(_trim_psf(model_params.get_psf().detach(), 15)[b])\n",
    "f.colorbar(im1, ax = axarr[1])\n",
    "\n",
    "# difference\n",
    "im2 = axarr[2].matshow(_trim_psf(model_params.get_psf().detach() - model_params.init_psf, 15)[b])\n",
    "f.colorbar(im2, ax = axarr[2])"
   ]
  },
  {
   "cell_type": "markdown",
   "metadata": {},
   "source": [
    "# Run coordinate ascent "
   ]
  },
  {
   "cell_type": "code",
   "execution_count": null,
   "metadata": {},
   "outputs": [],
   "source": [
    "optimizer = optim.LBFGS(model_params.parameters(),\n",
    "                    max_iter = 20,\n",
    "                    line_search_fn = 'strong_wolfe')\n",
    "\n",
    "def closure(): \n",
    "    optimizer.zero_grad()\n",
    "    loss = model_params.get_loss(locs = true_locs, \n",
    "                                   fluxes = true_fluxes, \n",
    "                                   n_stars = true_n_stars)[1]\n",
    "    loss.backward()\n",
    "\n",
    "    return loss"
   ]
  },
  {
   "cell_type": "code",
   "execution_count": null,
   "metadata": {},
   "outputs": [],
   "source": [
    "for i in range(1): \n",
    "    _ = optimizer.step(closure)"
   ]
  },
  {
   "cell_type": "code",
   "execution_count": null,
   "metadata": {},
   "outputs": [],
   "source": [
    "recon2, loss = model_params.get_loss(locs = true_locs, \n",
    "                                   fluxes = true_fluxes, \n",
    "                                   n_stars = true_n_stars)\n",
    "print(loss)\n",
    "recon2 = recon2.detach()"
   ]
  },
  {
   "cell_type": "code",
   "execution_count": null,
   "metadata": {},
   "outputs": [],
   "source": [
    "for i in range(len(bands)): \n",
    "    f, axarr = plt.subplots(1, 3, figsize=(16, 4))\n",
    "\n",
    "    observed = sdss_hubble_data.sdss_image\n",
    "    im0 = axarr[0].matshow(observed[i])\n",
    "    f.colorbar(im0, ax=axarr[0])\n",
    "    axarr[0].set_title('observed, band = ' + str(bands[i]))\n",
    "\n",
    "\n",
    "    im1 = axarr[1].matshow(recon2[0, i])\n",
    "    f.colorbar(im1, ax=axarr[1])\n",
    "    axarr[1].set_title('recon, band = ' + str(bands[i]))\n",
    "\n",
    "    residual = 2.5 * (torch.log10(recon2[0,i]) - torch.log10(observed[i]))[5:95, 9:95]\n",
    "    im2 = axarr[2].matshow(residual, vmax = residual.abs().max(), \n",
    "                           vmin = - residual.abs().max(), cmap = plt.get_cmap('bwr'))\n",
    "    f.colorbar(im2, ax=axarr[2])\n",
    "    axarr[2].set_title('recon - obse, band = ' + str(bands[i]))"
   ]
  },
  {
   "cell_type": "code",
   "execution_count": null,
   "metadata": {},
   "outputs": [],
   "source": [
    "np.save('../data/fitted_powerlaw_psf_params', \n",
    "        list(model_params.power_law_psf.parameters())[0].detach().numpy())"
   ]
  },
  {
   "cell_type": "code",
   "execution_count": null,
   "metadata": {},
   "outputs": [],
   "source": [
    "np.save('../data/fitted_planar_backgrounds', \n",
    "        list(model_params.planar_background.parameters())[0].detach().numpy())"
   ]
  },
  {
   "cell_type": "code",
   "execution_count": null,
   "metadata": {},
   "outputs": [],
   "source": [
    "torch.Tensor(np.load('../data/fitted_powerlaw_psf_params.npy')).to(device)"
   ]
  },
  {
   "cell_type": "code",
   "execution_count": null,
   "metadata": {},
   "outputs": [],
   "source": [
    "torch.Tensor(np.load('../data/fitted_planar_backgrounds.npy')).to(device)"
   ]
  },
  {
   "cell_type": "code",
   "execution_count": null,
   "metadata": {},
   "outputs": [],
   "source": []
  }
 ],
 "metadata": {
  "kernelspec": {
   "display_name": "pytorch_update",
   "language": "python",
   "name": "pytorch_update"
  },
  "language_info": {
   "codemirror_mode": {
    "name": "ipython",
    "version": 3
   },
   "file_extension": ".py",
   "mimetype": "text/x-python",
   "name": "python",
   "nbconvert_exporter": "python",
   "pygments_lexer": "ipython3",
   "version": "3.6.8"
  }
 },
 "nbformat": 4,
 "nbformat_minor": 2
}

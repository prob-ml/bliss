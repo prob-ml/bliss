{
 "cells": [
  {
   "cell_type": "code",
   "execution_count": null,
   "metadata": {},
   "outputs": [],
   "source": [
    "import numpy as np\n",
    "\n",
    "import matplotlib.pyplot as plt\n",
    "\n",
    "import torch\n",
    "\n",
    "import sys\n",
    "sys.path.insert(0, './../')\n",
    "\n",
    "import sdss_psf\n",
    "import simulated_datasets_lib\n",
    "import sdss_dataset_lib\n",
    "import image_utils\n",
    "\n",
    "import json\n",
    "\n",
    "device = torch.device(\"cuda:0\" if torch.cuda.is_available() else \"cpu\")\n",
    "\n",
    "print('torch version: ', torch.__version__)"
   ]
  },
  {
   "cell_type": "code",
   "execution_count": null,
   "metadata": {},
   "outputs": [],
   "source": [
    "# load PSF\n",
    "psf_fit_file = '../../celeste_net/sdss_stage_dir/2566/6/65/psField-002566-6-0065.fit'\n",
    "print('psf file: \\n', psf_fit_file)"
   ]
  },
  {
   "cell_type": "code",
   "execution_count": null,
   "metadata": {},
   "outputs": [],
   "source": [
    "np.random.seed(43534)\n",
    "_ = torch.manual_seed(24534)"
   ]
  },
  {
   "cell_type": "markdown",
   "metadata": {},
   "source": [
    "# check psf"
   ]
  },
  {
   "cell_type": "code",
   "execution_count": null,
   "metadata": {},
   "outputs": [],
   "source": [
    "psf = sdss_psf.psf_at_points(0, 0, psf_fit_file=psf_fit_file)"
   ]
  },
  {
   "cell_type": "code",
   "execution_count": null,
   "metadata": {},
   "outputs": [],
   "source": [
    "plt.matshow(psf)"
   ]
  },
  {
   "cell_type": "code",
   "execution_count": null,
   "metadata": {},
   "outputs": [],
   "source": [
    "psf_expanded = simulated_datasets_lib._expand_psf(psf, 101)"
   ]
  },
  {
   "cell_type": "code",
   "execution_count": null,
   "metadata": {},
   "outputs": [],
   "source": [
    "plt.matshow(psf_expanded)"
   ]
  },
  {
   "cell_type": "code",
   "execution_count": null,
   "metadata": {},
   "outputs": [],
   "source": [
    "psf_expanded[50, 50]"
   ]
  },
  {
   "cell_type": "code",
   "execution_count": null,
   "metadata": {},
   "outputs": [],
   "source": [
    "psf[25, 25]"
   ]
  },
  {
   "cell_type": "code",
   "execution_count": null,
   "metadata": {},
   "outputs": [],
   "source": [
    "np.max(psf)"
   ]
  },
  {
   "cell_type": "markdown",
   "metadata": {},
   "source": [
    "# Check locations"
   ]
  },
  {
   "cell_type": "code",
   "execution_count": null,
   "metadata": {},
   "outputs": [],
   "source": [
    "simulator = simulated_datasets_lib.StarSimulator(psf_fit_file, slen = 11, sky_intensity=686)"
   ]
  },
  {
   "cell_type": "code",
   "execution_count": null,
   "metadata": {},
   "outputs": [],
   "source": [
    "locs = torch.Tensor([[[0/11, 5/11]]])\n",
    "n_stars = torch.Tensor([1]).type(torch.LongTensor)\n",
    "fluxes = torch.Tensor([[1000]])"
   ]
  },
  {
   "cell_type": "code",
   "execution_count": null,
   "metadata": {},
   "outputs": [],
   "source": [
    "mean = simulator.draw_image_from_params(locs, fluxes, n_stars, add_noise = False)\n",
    "plt.matshow(mean.squeeze())"
   ]
  },
  {
   "cell_type": "markdown",
   "metadata": {},
   "source": [
    "# Test tile images. \n",
    "\n",
    "Draw a full image, with sparse number of stars"
   ]
  },
  {
   "cell_type": "code",
   "execution_count": null,
   "metadata": {},
   "outputs": [],
   "source": [
    "# data parameters\n",
    "with open('../data/default_star_parameters.json', 'r') as fp:\n",
    "    data_params = json.load(fp)\n",
    "\n",
    "data_params['slen'] = 101\n",
    "data_params['min_stars'] = 10\n",
    "data_params['max_stars'] = 10\n",
    "data_params['alpha'] = 0.5\n",
    "\n",
    "print(data_params)\n"
   ]
  },
  {
   "cell_type": "code",
   "execution_count": null,
   "metadata": {},
   "outputs": [],
   "source": [
    "slen = data_params['slen']"
   ]
  },
  {
   "cell_type": "code",
   "execution_count": null,
   "metadata": {},
   "outputs": [],
   "source": [
    "simulated_dataset = simulated_datasets_lib.load_dataset_from_params(psf_fit_file, data_params, \n",
    "                                                n_images = 2,\n",
    "                                                # for testing, turn off noise\n",
    "                                                add_noise = False)"
   ]
  },
  {
   "cell_type": "code",
   "execution_count": null,
   "metadata": {},
   "outputs": [],
   "source": [
    "plt.matshow(simulated_dataset.images[0].squeeze())"
   ]
  },
  {
   "cell_type": "code",
   "execution_count": null,
   "metadata": {},
   "outputs": [],
   "source": [
    "plt.matshow(simulated_dataset.images[1].squeeze())"
   ]
  },
  {
   "cell_type": "code",
   "execution_count": null,
   "metadata": {},
   "outputs": [],
   "source": [
    "# save image parameters\n",
    "full_images = simulated_dataset.images\n",
    "full_locs = simulated_dataset.locs\n",
    "full_fluxes = simulated_dataset.fluxes"
   ]
  },
  {
   "cell_type": "markdown",
   "metadata": {},
   "source": [
    "### Parameters"
   ]
  },
  {
   "cell_type": "code",
   "execution_count": null,
   "metadata": {},
   "outputs": [],
   "source": [
    "full_slen = full_images.shape[-1]\n",
    "subimage_slen = 9\n",
    "step = 4\n",
    "edge_padding = 2"
   ]
  },
  {
   "cell_type": "markdown",
   "metadata": {},
   "source": [
    "### Get batch images"
   ]
  },
  {
   "cell_type": "code",
   "execution_count": null,
   "metadata": {},
   "outputs": [],
   "source": [
    "images_batched = image_utils.tile_images(full_images, subimage_slen, step)\n",
    "\n",
    "# get tile coordinates\n",
    "tile_coords = image_utils.get_tile_coords(full_slen, full_slen, subimage_slen, step)\n",
    "n_patches = tile_coords.shape[0]"
   ]
  },
  {
   "cell_type": "markdown",
   "metadata": {},
   "source": [
    "### Test tile coordinates "
   ]
  },
  {
   "cell_type": "code",
   "execution_count": null,
   "metadata": {},
   "outputs": [],
   "source": [
    "for i in range(images_batched.shape[0]):\n",
    "    \n",
    "    b = i // n_patches\n",
    "    \n",
    "    x0 = tile_coords[i % n_patches, 0]\n",
    "    x1 = tile_coords[i % n_patches, 1]\n",
    "    \n",
    "    foo = full_images[b].squeeze()[x0:(x0 + subimage_slen), x1:(x1 + subimage_slen)]\n",
    "\n",
    "    assert np.all(images_batched[i].squeeze() == foo)"
   ]
  },
  {
   "cell_type": "markdown",
   "metadata": {},
   "source": [
    "### Test extraction of parameters"
   ]
  },
  {
   "cell_type": "code",
   "execution_count": null,
   "metadata": {},
   "outputs": [],
   "source": [
    "# get reconstruction with the subimage parameters \n",
    "subimage_locs, subimage_fluxes, n_stars, is_on_array = \\\n",
    "    image_utils.get_params_in_patches(tile_coords,\n",
    "                                      full_locs,\n",
    "                                      full_fluxes,\n",
    "                                      full_slen,\n",
    "                                      subimage_slen,\n",
    "                                      edge_padding)\n",
    "\n",
    "patch_simulator = simulated_datasets_lib.StarSimulator(psf_fit_file, \n",
    "                                                       subimage_slen - 2 * edge_padding, \n",
    "                                                       data_params['sky_intensity'])\n",
    "\n",
    "_n_stars = (torch.ones(subimage_fluxes.shape[0]) * subimage_fluxes.shape[1]).type(torch.LongTensor)\n",
    "\n",
    "recon_means = patch_simulator.draw_image_from_params(subimage_locs, \n",
    "                                                subimage_fluxes, \n",
    "                                                _n_stars, \n",
    "                                                add_noise = False)"
   ]
  },
  {
   "cell_type": "code",
   "execution_count": null,
   "metadata": {},
   "outputs": [],
   "source": [
    "for indx in range(images_batched.shape[0]): \n",
    "    if n_stars[indx] == 0: \n",
    "        continue \n",
    "        \n",
    "    f, axarr = plt.subplots(1, 3, figsize=(16, 6))\n",
    "    \n",
    "    x0 = tile_coords[indx % n_patches, 0]\n",
    "    x1 = tile_coords[indx % n_patches, 1]\n",
    "    \n",
    "    which_nonzero = is_on_array[indx]\n",
    "    \n",
    "    \n",
    "    image_patch_indx = full_images[indx // n_patches, 0,\n",
    "                                       (x0 + edge_padding):(x0 - edge_padding + subimage_slen), \n",
    "                                       (x1 + edge_padding):(x1 - edge_padding + subimage_slen)]\n",
    "    im1 = axarr[0].matshow(image_patch_indx)\n",
    "    \n",
    "    axarr[0].scatter(subimage_locs[indx, which_nonzero == 1, 1] * (subimage_slen - 1 - 2 * edge_padding), \n",
    "                    subimage_locs[indx, which_nonzero == 1, 0] * (subimage_slen - 1 - 2 * edge_padding))\n",
    "    f.colorbar(im1, ax = axarr[0])\n",
    "    \n",
    "    axarr[0].set_title('n_stars: {}\\n'.format(n_stars[indx]))\n",
    "    \n",
    "    im2 = axarr[1].matshow(recon_means[indx].squeeze())\n",
    "    f.colorbar(im2, ax = axarr[1])\n",
    "    \n",
    "    residual = (image_patch_indx - recon_means[indx].squeeze()) / image_patch_indx\n",
    "    im3 = axarr[2].matshow(residual)\n",
    "    f.colorbar(im3, ax = axarr[2])\n",
    "    i += 1\n"
   ]
  },
  {
   "cell_type": "markdown",
   "metadata": {},
   "source": [
    "# Test the getting full image from patch parameters"
   ]
  },
  {
   "cell_type": "markdown",
   "metadata": {},
   "source": [
    "We draw a crowded starfield for this"
   ]
  },
  {
   "cell_type": "code",
   "execution_count": null,
   "metadata": {},
   "outputs": [],
   "source": [
    "# data parameters\n",
    "with open('../data/default_star_parameters.json', 'r') as fp:\n",
    "    data_params = json.load(fp)\n",
    "\n",
    "print(data_params)\n"
   ]
  },
  {
   "cell_type": "code",
   "execution_count": null,
   "metadata": {},
   "outputs": [],
   "source": [
    "n_images = 2\n",
    "\n",
    "simulated_dataset = simulated_datasets_lib.load_dataset_from_params(psf_fit_file, data_params, \n",
    "                                                n_images = n_images,\n",
    "                                                # for testing, turn off noise\n",
    "                                                add_noise = False)"
   ]
  },
  {
   "cell_type": "code",
   "execution_count": null,
   "metadata": {},
   "outputs": [],
   "source": [
    "plt.matshow(simulated_dataset.images[0].squeeze())"
   ]
  },
  {
   "cell_type": "code",
   "execution_count": null,
   "metadata": {},
   "outputs": [],
   "source": [
    "# save image parameters\n",
    "full_images = simulated_dataset.images\n",
    "full_locs = simulated_dataset.locs\n",
    "full_fluxes = simulated_dataset.fluxes\n",
    "\n",
    "# subimage parameters \n",
    "full_slen = full_images.shape[-1]\n",
    "subimage_slen = 9\n",
    "step = 4\n",
    "edge_padding = 2"
   ]
  },
  {
   "cell_type": "markdown",
   "metadata": {},
   "source": [
    "### Get batch images"
   ]
  },
  {
   "cell_type": "code",
   "execution_count": null,
   "metadata": {},
   "outputs": [],
   "source": [
    "images_batched = image_utils.tile_images(full_images, subimage_slen, step)\n",
    "\n",
    "# get tile coordinates\n",
    "tile_coords = image_utils.get_tile_coords(full_slen, full_slen, subimage_slen, step)\n",
    "n_patches = tile_coords.shape[0]"
   ]
  },
  {
   "cell_type": "code",
   "execution_count": null,
   "metadata": {},
   "outputs": [],
   "source": [
    "# get subimage parameters\n",
    "subimage_locs, subimage_fluxes, n_stars, is_on_array = \\\n",
    "    image_utils.get_params_in_patches(tile_coords,\n",
    "                                      full_locs,\n",
    "                                      full_fluxes,\n",
    "                                      full_slen,\n",
    "                                      subimage_slen,\n",
    "                                      edge_padding)\n"
   ]
  },
  {
   "cell_type": "markdown",
   "metadata": {},
   "source": [
    "### Now revert to full image parameters"
   ]
  },
  {
   "cell_type": "code",
   "execution_count": null,
   "metadata": {},
   "outputs": [],
   "source": [
    "locs_full_image, fluxes_full_image, _ = \\\n",
    "    image_utils.get_full_params_from_patch_params(subimage_locs, subimage_fluxes, \n",
    "                                            tile_coords, full_slen, subimage_slen, edge_padding, \n",
    "                                            batchsize = n_images)"
   ]
  },
  {
   "cell_type": "code",
   "execution_count": null,
   "metadata": {},
   "outputs": [],
   "source": [
    "recon_means = simulated_dataset.simulator.draw_image_from_params(locs = locs_full_image, \n",
    "                                                  fluxes = fluxes_full_image, \n",
    "                                                  n_stars = torch.sum(fluxes_full_image > 0, dim = 1), \n",
    "                                                  add_noise = False)"
   ]
  },
  {
   "cell_type": "code",
   "execution_count": null,
   "metadata": {},
   "outputs": [],
   "source": [
    "for i in range(n_images): \n",
    "    fig, axarr = plt.subplots(1, 3, figsize=(15, 4))\n",
    "    \n",
    "    im1 = axarr[0].matshow(simulated_dataset.images[i].squeeze())\n",
    "    fig.colorbar(im1, ax = axarr[0])\n",
    "    \n",
    "    im2 = axarr[1].matshow(recon_means[i].squeeze())\n",
    "    fig.colorbar(im2, ax = axarr[1])\n",
    "    \n",
    "    residual = (recon_means[i].squeeze() - simulated_dataset.images[i].squeeze())\n",
    "    im3 = axarr[2].matshow(residual)\n",
    "    fig.colorbar(im3, ax = axarr[2])"
   ]
  },
  {
   "cell_type": "raw",
   "metadata": {},
   "source": []
  },
  {
   "cell_type": "raw",
   "metadata": {},
   "source": []
  }
 ],
 "metadata": {
  "kernelspec": {
   "display_name": "Python (pytorch_04)",
   "language": "python",
   "name": "pytorch_update"
  },
  "language_info": {
   "codemirror_mode": {
    "name": "ipython",
    "version": 3
   },
   "file_extension": ".py",
   "mimetype": "text/x-python",
   "name": "python",
   "nbconvert_exporter": "python",
   "pygments_lexer": "ipython3",
   "version": "3.6.8"
  }
 },
 "nbformat": 4,
 "nbformat_minor": 2
}

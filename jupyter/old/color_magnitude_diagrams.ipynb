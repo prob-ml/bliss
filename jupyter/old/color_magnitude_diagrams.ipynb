{
 "cells": [
  {
   "cell_type": "code",
   "execution_count": null,
   "metadata": {},
   "outputs": [],
   "source": [
    "import numpy as np\n",
    "import torch\n",
    "\n",
    "import json\n",
    "\n",
    "import matplotlib.pyplot as plt\n",
    "\n",
    "import sys\n",
    "sys.path.insert(0, '../')\n",
    "import simulated_datasets_lib\n",
    "import sdss_dataset_lib\n",
    "import sdss_psf\n",
    "import image_utils \n",
    "import starnet_lib\n",
    "import inv_kl_objective_lib as inv_kl_lib\n",
    "import image_statistics_lib\n",
    "\n",
    "import plotting_utils\n",
    "\n",
    "np.random.seed(34534)"
   ]
  },
  {
   "cell_type": "markdown",
   "metadata": {},
   "source": [
    "# Load the data"
   ]
  },
  {
   "cell_type": "code",
   "execution_count": null,
   "metadata": {},
   "outputs": [],
   "source": [
    "fmin = 1000"
   ]
  },
  {
   "cell_type": "code",
   "execution_count": null,
   "metadata": {},
   "outputs": [],
   "source": [
    "bands = [2, 3]"
   ]
  },
  {
   "cell_type": "code",
   "execution_count": null,
   "metadata": {},
   "outputs": [],
   "source": [
    "sdss_hubble_data = sdss_dataset_lib.SDSSHubbleData(bands = bands)\n",
    "\n",
    "# image \n",
    "full_image = sdss_hubble_data.sdss_image\n",
    "full_background = sdss_hubble_data.sdss_background\n",
    "\n",
    "# true parameters\n",
    "which_bright = (sdss_hubble_data.fluxes[:, 0] > fmin)\n",
    "true_locs = sdss_hubble_data.locs[which_bright]\n",
    "true_fluxes = sdss_hubble_data.fluxes[which_bright]\n"
   ]
  },
  {
   "cell_type": "code",
   "execution_count": null,
   "metadata": {},
   "outputs": [],
   "source": [
    "plt.scatter(sdss_hubble_data.hubble_color, \n",
    "            sdss_hubble_data.hubble_rmag, \n",
    "            marker = 'x', alpha = 0.1)"
   ]
  },
  {
   "cell_type": "markdown",
   "metadata": {},
   "source": [
    "# Load Portillos results"
   ]
  },
  {
   "cell_type": "code",
   "execution_count": null,
   "metadata": {},
   "outputs": [],
   "source": [
    "results_dir = '../../multiband_pcat/pcat-lion-results/20191116-135326/'\n",
    "\n",
    "chain_results = np.load(results_dir + 'chain.npz')"
   ]
  },
  {
   "cell_type": "code",
   "execution_count": null,
   "metadata": {},
   "outputs": [],
   "source": [
    "# n bands \n",
    "chain_results['f'].shape"
   ]
  },
  {
   "cell_type": "code",
   "execution_count": null,
   "metadata": {},
   "outputs": [],
   "source": [
    "# fudge_factor = 1 / (1 - 0.83)\n",
    "fudge_factor = sdss_hubble_data.sdss_data[0]['gain'][0] "
   ]
  },
  {
   "cell_type": "code",
   "execution_count": null,
   "metadata": {},
   "outputs": [],
   "source": [
    "include_classical_catalogue = False\n",
    "\n",
    "if include_classical_catalogue: \n",
    "    pcat_catalog = np.loadtxt(results_dir + 'classical_catalog.txt')\n",
    "    \n",
    "    x1_loc = pcat_catalog[:, 0]\n",
    "    x0_loc = pcat_catalog[:, 2]\n",
    "        \n",
    "    fluxes = pcat_catalog[:, 4] * fudge_factor\n",
    "    \n",
    "    # remove na\n",
    "    is_na = (fluxes < fmin) | np.isnan(fluxes)\n",
    "    \n",
    "    x1_loc = x1_loc[~is_na]\n",
    "    x0_loc = x0_loc[~is_na]\n",
    "    fluxes = fluxes[~is_na]\n",
    "    \n",
    "    portillos_est_locs = torch.Tensor([x0_loc, x1_loc]).transpose(0,1) / (full_image.shape[-1] - 1)\n",
    "    portillos_est_fluxes = torch.Tensor(fluxes).unsqueeze(-1)\n",
    "    \n",
    "else: \n",
    "    # just take one sample \n",
    "    fluxes = chain_results['f'][:, -1, ].transpose() * fudge_factor\n",
    "    \n",
    "    x1_loc = chain_results['x'][-1, ].flatten()[fluxes[:, 0] > fmin]\n",
    "    x0_loc = chain_results['y'][-1, ].flatten()[fluxes[:, 0] > fmin]\n",
    "    \n",
    "    fluxes = fluxes[fluxes[:, 0] > fmin]\n",
    "        \n",
    "    portillos_est_locs = torch.Tensor([x0_loc, x1_loc]).transpose(0,1) / (full_image.shape[-1] - 1)\n",
    "    portillos_est_fluxes = torch.Tensor(fluxes) \n",
    "    \n",
    "\n",
    "# x1_loc_samples = chain_results['x'][-300:, ].flatten()\n",
    "# x0_loc_samples = chain_results['y'][-300:, ].flatten()\n",
    "\n",
    "# portillos_est_fluxes_sampled = torch.Tensor(chain_results['f'][0, -300:, ].flatten()) * fudge_factor\n",
    "# portillos_est_locs_sampled = torch.Tensor([x0_loc_samples, x1_loc_samples]).transpose(0,1) \\\n",
    "#                                 / (full_image.shape[-1] - 1)\n",
    "    \n",
    "# # filter by fmin\n",
    "# port_which_bright = portillos_est_fluxes_sampled > fmin\n",
    "# portillos_est_fluxes_sampled = portillos_est_fluxes_sampled[port_which_bright]\n",
    "# portillos_est_locs_sampled = portillos_est_locs_sampled[port_which_bright]"
   ]
  },
  {
   "cell_type": "code",
   "execution_count": null,
   "metadata": {},
   "outputs": [],
   "source": [
    "def convert_fluxes_to_mag(fluxes, nelect_per_nmgy, fudge_conversion): \n",
    "    fluxes_nmgy = fluxes / (nelect_per_nmgy * fudge_conversion)\n",
    "    return 22.5 - torch.log10(fluxes_nmgy) * 2.5 "
   ]
  },
  {
   "cell_type": "code",
   "execution_count": null,
   "metadata": {},
   "outputs": [],
   "source": [
    "portillos_mag = convert_fluxes_to_mag(portillos_est_fluxes, sdss_hubble_data.nelec_per_nmgy_full.mean(), \n",
    "                                     sdss_hubble_data.fudge_conversion)"
   ]
  },
  {
   "cell_type": "code",
   "execution_count": null,
   "metadata": {},
   "outputs": [],
   "source": [
    "plt.scatter(portillos_mag[:, 1] - portillos_mag[:, 0], \n",
    "           portillos_mag[:, 0], marker = 'x', alpha = 0.1)"
   ]
  },
  {
   "cell_type": "code",
   "execution_count": null,
   "metadata": {},
   "outputs": [],
   "source": [
    "plt.scatter(sdss_hubble_data.hubble_color[sdss_hubble_data.hubble_rmag < portillos_mag[:, 0].max()], \n",
    "            sdss_hubble_data.hubble_rmag[sdss_hubble_data.hubble_rmag < portillos_mag[:, 0].max()], \n",
    "            marker = 'x', alpha = 0.1)"
   ]
  },
  {
   "cell_type": "code",
   "execution_count": null,
   "metadata": {},
   "outputs": [],
   "source": []
  },
  {
   "cell_type": "markdown",
   "metadata": {},
   "source": [
    "# My starnet result"
   ]
  },
  {
   "cell_type": "code",
   "execution_count": null,
   "metadata": {},
   "outputs": [],
   "source": [
    "star_encoder1 = starnet_lib.StarEncoder(full_slen = 101,\n",
    "                                            stamp_slen = 7,\n",
    "                                            step = 2,\n",
    "                                            edge_padding = 2, \n",
    "                                            n_bands = len(bands),\n",
    "                                            max_detections = 2)"
   ]
  },
  {
   "cell_type": "code",
   "execution_count": null,
   "metadata": {},
   "outputs": [],
   "source": [
    "star_encoder1.load_state_dict(torch.load('../fits/results_11202019/starnet_ri', \n",
    "                               map_location=lambda storage, loc: storage))\n",
    "\n",
    "\n",
    "star_encoder1.eval(); \n"
   ]
  },
  {
   "cell_type": "code",
   "execution_count": null,
   "metadata": {},
   "outputs": [],
   "source": [
    "# get parameters on the full image \n",
    "# map_locs_full_image, map_fluxes_full_image, map_n_stars_full = \\\n",
    "#     star_encoder.get_results_on_full_image(full_image.unsqueeze(0).unsqueeze(0), \n",
    "#                                            full_background.unsqueeze(0).unsqueeze(0))\n",
    "\n",
    "map_locs_full_image, map_fluxes_full_image, map_n_stars_full = \\\n",
    "    star_encoder1.sample_star_encoder(full_image.unsqueeze(0), \n",
    "                                    full_background.unsqueeze(0), \n",
    "                                    return_map = True)[0:3]"
   ]
  },
  {
   "cell_type": "code",
   "execution_count": null,
   "metadata": {},
   "outputs": [],
   "source": [
    "my_mag = convert_fluxes_to_mag(map_fluxes_full_image.squeeze(0), sdss_hubble_data.nelec_per_nmgy_full.mean(), \n",
    "                                     sdss_hubble_data.fudge_conversion)"
   ]
  },
  {
   "cell_type": "code",
   "execution_count": null,
   "metadata": {},
   "outputs": [],
   "source": [
    "plt.scatter(my_mag[:, 1] - my_mag[:, 0], \n",
    "           my_mag[:, 0], marker = 'x', alpha = 0.1)"
   ]
  },
  {
   "cell_type": "code",
   "execution_count": null,
   "metadata": {},
   "outputs": [],
   "source": [
    "portillos_mag"
   ]
  },
  {
   "cell_type": "code",
   "execution_count": null,
   "metadata": {},
   "outputs": [],
   "source": [
    "plt.hist(my_mag[:, 0] - my_mag[:, 1])\n",
    "plt.hist(portillos_mag[:, 0] - portillos_mag[:, 1], alpha = 0.5)"
   ]
  },
  {
   "cell_type": "code",
   "execution_count": null,
   "metadata": {},
   "outputs": [],
   "source": []
  },
  {
   "cell_type": "code",
   "execution_count": null,
   "metadata": {},
   "outputs": [],
   "source": []
  }
 ],
 "metadata": {
  "kernelspec": {
   "display_name": "Python (pytorch_04)",
   "language": "python",
   "name": "pytorch_update"
  },
  "language_info": {
   "codemirror_mode": {
    "name": "ipython",
    "version": 3
   },
   "file_extension": ".py",
   "mimetype": "text/x-python",
   "name": "python",
   "nbconvert_exporter": "python",
   "pygments_lexer": "ipython3",
   "version": "3.6.8"
  }
 },
 "nbformat": 4,
 "nbformat_minor": 2
}

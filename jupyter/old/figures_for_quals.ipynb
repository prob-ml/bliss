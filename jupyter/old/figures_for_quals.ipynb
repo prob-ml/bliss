{
 "cells": [
  {
   "cell_type": "code",
   "execution_count": null,
   "metadata": {},
   "outputs": [],
   "source": [
    "import numpy as np\n",
    "import torch\n",
    "\n",
    "import json\n",
    "\n",
    "import matplotlib.pyplot as plt\n",
    "\n",
    "import sys\n",
    "sys.path.insert(0, '../')\n",
    "import simulated_datasets_lib\n",
    "import sdss_dataset_lib\n",
    "import sdss_psf\n",
    "import image_utils \n",
    "import starnet_vae_lib\n",
    "import inv_kl_objective_lib as inv_kl_lib\n",
    "\n",
    "\n",
    "import plotting_utils\n",
    "\n",
    "np.random.seed(34534)"
   ]
  },
  {
   "cell_type": "markdown",
   "metadata": {},
   "source": [
    "# Load the data"
   ]
  },
  {
   "cell_type": "code",
   "execution_count": null,
   "metadata": {},
   "outputs": [],
   "source": [
    "fmin = 1000"
   ]
  },
  {
   "cell_type": "code",
   "execution_count": null,
   "metadata": {},
   "outputs": [],
   "source": [
    "sdss_hubble_data = sdss_dataset_lib.SDSSHubbleData()\n",
    "\n",
    "# image \n",
    "full_image = sdss_hubble_data.sdss_image.squeeze()\n",
    "full_background = sdss_hubble_data.sdss_background.squeeze() \n",
    "\n",
    "# true parameters\n",
    "which_bright = (sdss_hubble_data.fluxes[:, 0] > fmin)\n",
    "true_locs = sdss_hubble_data.locs[which_bright]\n",
    "true_fluxes = sdss_hubble_data.fluxes[which_bright]\n"
   ]
  },
  {
   "cell_type": "code",
   "execution_count": null,
   "metadata": {},
   "outputs": [],
   "source": [
    "len(true_locs)"
   ]
  },
  {
   "cell_type": "code",
   "execution_count": null,
   "metadata": {},
   "outputs": [],
   "source": [
    "full_image = torch.Tensor(full_image)\n",
    "print(full_image.shape)"
   ]
  },
  {
   "cell_type": "code",
   "execution_count": null,
   "metadata": {},
   "outputs": [],
   "source": [
    "plt.matshow(full_image.squeeze())\n",
    "plt.colorbar()\n",
    "# plt.xticks([]); \n",
    "# plt.yticks([]); \n",
    "plt.savefig('../../qualifying_exam_slides/figures/sdss_image_port.png')"
   ]
  },
  {
   "cell_type": "code",
   "execution_count": null,
   "metadata": {},
   "outputs": [],
   "source": [
    "save_fig = False"
   ]
  },
  {
   "cell_type": "code",
   "execution_count": null,
   "metadata": {},
   "outputs": [],
   "source": [
    "plt.matshow(sdss_hubble_data.sdss_image_full[0])\n",
    "if save_fig: \n",
    "    plt.savefig('../../qualifying_exam_slides/figures/sdss_image_full.png')"
   ]
  },
  {
   "cell_type": "code",
   "execution_count": null,
   "metadata": {},
   "outputs": [],
   "source": [
    "sdss_hubble_data.sdss_image_full[0].shape\n"
   ]
  },
  {
   "cell_type": "code",
   "execution_count": null,
   "metadata": {},
   "outputs": [],
   "source": [
    "save_fig = True"
   ]
  },
  {
   "cell_type": "code",
   "execution_count": null,
   "metadata": {},
   "outputs": [],
   "source": [
    "plt.matshow(sdss_hubble_data.sdss_image_full[0])    \n",
    "    \n",
    "plt.axvline(x=310, ymax=1 - 630 / 1489, ymin=1 - 730 / 1489, color = 'red', linewidth = 2)\n",
    "plt.axvline(x=410, ymax=1 - 630 / 1489, ymin=1 - 730 / 1489, color = 'red', linewidth = 2)\n",
    "plt.axhline(y=630, xmin = 310 / 2048, xmax = 410 / 2048, color = 'red', linewidth = 2)\n",
    "plt.axhline(y=730, xmin = 310 / 2048, xmax = 410 / 2048, color = 'red', linewidth = 2)\n",
    "\n",
    "if save_fig: \n",
    "    plt.savefig('../../qualifying_exam_slides/figures/sdss_image_full_port_marked.png')\n"
   ]
  },
  {
   "cell_type": "code",
   "execution_count": null,
   "metadata": {},
   "outputs": [],
   "source": []
  },
  {
   "cell_type": "code",
   "execution_count": null,
   "metadata": {},
   "outputs": [],
   "source": [
    "# plt.matshow(sdss_hubble_data.sdss_image_full[0][720:1100, 20:410])\n",
    "# if save_fig: \n",
    "#     plt.savefig('../../qualifying_exam_slides/figures/sdss_m2_image2.png')"
   ]
  },
  {
   "cell_type": "code",
   "execution_count": null,
   "metadata": {},
   "outputs": [],
   "source": []
  },
  {
   "cell_type": "code",
   "execution_count": null,
   "metadata": {},
   "outputs": [],
   "source": [
    "plt.matshow(sdss_hubble_data.sdss_image_full[0][600:1200, 0:420])\n",
    "\n",
    "plt.axvline(x=310, ymax=1 - 30 / 600, ymin=1 - 130 / 600, color = 'red', linewidth = 2)\n",
    "plt.axvline(x=410, ymax=1 - 30 / 600, ymin=1 - 130 / 600, color = 'red', linewidth = 2)\n",
    "plt.axhline(y=30, xmin = 310 / 420, xmax = 410 / 420, color = 'red', linewidth = 2)\n",
    "plt.axhline(y=130, xmin = 310 / 420, xmax = 410 / 420, color = 'red', linewidth = 2)\n",
    "\n",
    "# plt.axhline(x=410, ymax=1 - 10 / 600, ymin=1 - 110 / 600, color = 'red', linewidth = 2)\n",
    "\n",
    "\n",
    "plt.axvline(x=120, ymax=1 - 50 / 600, ymin=1 - 150 / 600, color = 'blue', linewidth = 2)\n",
    "plt.axvline(x=220, ymax=1 - 50 / 600, ymin=1 - 150 / 600, color = 'blue', linewidth = 2)\n",
    "plt.axhline(y=50, xmin = 120 / 420, xmax = 220 / 420, color = 'blue', linewidth = 2)\n",
    "plt.axhline(y=150, xmin = 120 / 420, xmax = 220 / 420, color = 'blue', linewidth = 2)\n",
    "\n",
    "if save_fig:\n",
    "    plt.savefig('../../qualifying_exam_slides/figures/sdss_m2_image2_marked.png')"
   ]
  },
  {
   "cell_type": "code",
   "execution_count": null,
   "metadata": {},
   "outputs": [],
   "source": []
  },
  {
   "cell_type": "markdown",
   "metadata": {},
   "source": [
    "# Example 10x10 images"
   ]
  },
  {
   "cell_type": "code",
   "execution_count": null,
   "metadata": {},
   "outputs": [],
   "source": [
    "sdss_hubble_data2 = sdss_dataset_lib.SDSSHubbleData(x0 = 720, x1 = 20, slen=400)"
   ]
  },
  {
   "cell_type": "code",
   "execution_count": null,
   "metadata": {},
   "outputs": [],
   "source": [
    "fig, axarr = plt.subplots(2, 2, figsize = (10, 8))\n",
    "\n",
    "x0_vec = [26, 100, 150, 300]\n",
    "x1_vec = [25, 300, 100, 350]\n",
    "\n",
    "for i in range(4): \n",
    "    plotting_utils.plot_subimage(axarr[i // 2, i % 2], sdss_hubble_data2.sdss_image[0], \n",
    "                                 None,  \n",
    "                                 sdss_hubble_data2.locs[sdss_hubble_data2.fluxes[:, 0] > 3000], \n",
    "                                 x0 = x0_vec[i], \n",
    "                                 x1 = x1_vec[i], \n",
    "                                 subimage_slen = 10, \n",
    "                                add_colorbar = True, \n",
    "                                global_fig = fig)\n",
    "\n",
    "fig.tight_layout()\n",
    "\n",
    "if save_fig: \n",
    "    plt.savefig('../../qualifying_exam_slides/figures/example_subpatches.png')"
   ]
  },
  {
   "cell_type": "code",
   "execution_count": null,
   "metadata": {},
   "outputs": [],
   "source": [
    "plt.matshow(sdss_hubble_data2.sdss_image[0])\n",
    "k = sdss_hubble_data2.sdss_image.shape[-1] - 1\n",
    "for i in range(4): \n",
    "    plt.axhline(x0_vec[i], xmin= (x1_vec[i]) / k, xmax= (x1_vec[i] + 10) / k, color = 'red')\n",
    "    plt.axhline(x0_vec[i] + 11, xmin= (x1_vec[i]) / k, xmax= (x1_vec[i] + 10) / k, color = 'red')\n",
    "\n",
    "    plt.axvline(x1_vec[i], ymin = 1 - (x0_vec[i] + 10) / k, ymax = 1 - x0_vec[i] / k, color = 'red')\n",
    "    plt.axvline(x1_vec[i] + 11, ymin = 1 - (x0_vec[i] + 10) / k, ymax = 1 - x0_vec[i] / k, color = 'red')\n",
    "\n",
    "if save_fig: \n",
    "    plt.savefig('../../qualifying_exam_slides/figures/example_subpatches_full.png')"
   ]
  },
  {
   "cell_type": "code",
   "execution_count": null,
   "metadata": {},
   "outputs": [],
   "source": [
    "x0_vec = np.array([53, 41, 31, 32]) + 30\n"
   ]
  },
  {
   "cell_type": "code",
   "execution_count": null,
   "metadata": {},
   "outputs": [],
   "source": []
  },
  {
   "cell_type": "code",
   "execution_count": null,
   "metadata": {},
   "outputs": [],
   "source": []
  },
  {
   "cell_type": "code",
   "execution_count": null,
   "metadata": {},
   "outputs": [],
   "source": [
    "which = torch.nonzero(((sdss_hubble_data.locs[:, 0] > 0.8) & (sdss_hubble_data.locs[:, 0] < 0.9) & \\\n",
    "                  (sdss_hubble_data.locs[:, 1] > 0.55) & (sdss_hubble_data.locs[:, 1] < 0.65) & \\\n",
    "                (sdss_hubble_data.fluxes[:, 0] > 1000)).float()).squeeze()"
   ]
  },
  {
   "cell_type": "code",
   "execution_count": null,
   "metadata": {},
   "outputs": [],
   "source": [
    "torch.cat((sdss_hubble_data.locs[which][4:-1], sdss_hubble_data.locs[which][4:-1]))"
   ]
  },
  {
   "cell_type": "code",
   "execution_count": null,
   "metadata": {},
   "outputs": [],
   "source": [
    "fig, axarr = plt.subplots(1, 1, figsize = (5, 4))\n",
    "\n",
    "plotting_utils.plot_subimage(axarr, sdss_hubble_data.sdss_image[0], \n",
    "                                 torch.cat((sdss_hubble_data.locs[which][4:-1], \n",
    "                                            sdss_hubble_data.locs[which][2:3])),  \n",
    "                                 None, \n",
    "                                 x0 = 80, \n",
    "                                 x1 = 55, \n",
    "                                 subimage_slen = 10, \n",
    "                                add_colorbar = True, \n",
    "                                global_fig = fig)\n",
    "\n",
    "for j in range(5): \n",
    "    axarr.axhline(-0.5 + 2*j, color = 'white', linewidth = 2)\n",
    "    axarr.axvline(-0.5 + 2*j, color = 'white', linewidth = 2)\n",
    "\n",
    "if save_fig: \n",
    "    plt.savefig('../../qualifying_exam_slides/figures/example_tiled.png')"
   ]
  },
  {
   "cell_type": "code",
   "execution_count": null,
   "metadata": {},
   "outputs": [],
   "source": [
    "sdss_hubble_data.locs[which]"
   ]
  },
  {
   "cell_type": "code",
   "execution_count": null,
   "metadata": {},
   "outputs": [],
   "source": []
  },
  {
   "cell_type": "markdown",
   "metadata": {},
   "source": [
    "# Get simulator "
   ]
  },
  {
   "cell_type": "code",
   "execution_count": null,
   "metadata": {},
   "outputs": [],
   "source": [
    "import fitsio\n",
    "psf_dir = '../../multiband_pcat/Data/idR-002583-2-0136/psfs/'"
   ]
  },
  {
   "cell_type": "code",
   "execution_count": null,
   "metadata": {},
   "outputs": [],
   "source": [
    "psf = fitsio.FITS(psf_dir + 'sdss-002583-2-0136-psf-r.fits')[0].read()[None]"
   ]
  },
  {
   "cell_type": "code",
   "execution_count": null,
   "metadata": {},
   "outputs": [],
   "source": [
    "simulator = simulated_datasets_lib.StarSimulator(psf, \n",
    "                                                slen = full_image.shape[-1], \n",
    "                                                 transpose_psf = False, \n",
    "                                                sky_intensity = torch.Tensor([full_background.mean()]))\n",
    "\n"
   ]
  },
  {
   "cell_type": "markdown",
   "metadata": {},
   "source": [
    "# Simulation with ground truth"
   ]
  },
  {
   "cell_type": "code",
   "execution_count": null,
   "metadata": {},
   "outputs": [],
   "source": [
    "# truth_recon = simulator.draw_image_from_params(locs = true_locs.unsqueeze(0), \n",
    "#                                     fluxes = true_fluxes.unsqueeze(0),\n",
    "#                                      n_stars = torch.Tensor([len(true_locs)]).type(torch.LongTensor), \n",
    "#                                      add_noise = False).squeeze()\n",
    "\n",
    "truth_recon = simulator.draw_image_from_params(locs = sdss_hubble_data.locs.unsqueeze(0), \n",
    "                            fluxes = sdss_hubble_data.fluxes.unsqueeze(0),\n",
    "                            n_stars = torch.Tensor([len(sdss_hubble_data.fluxes[:, 0])]).type(torch.LongTensor), \n",
    "                            add_noise = False).squeeze()"
   ]
  },
  {
   "cell_type": "code",
   "execution_count": null,
   "metadata": {},
   "outputs": [],
   "source": [
    "foo = (truth_recon.squeeze() - full_image) / full_image\n",
    "plt.matshow(foo, vmax = foo.abs().max(), vmin = - foo.abs().max(), cmap = plt.get_cmap('bwr')) \n",
    "plt.colorbar()"
   ]
  },
  {
   "cell_type": "code",
   "execution_count": null,
   "metadata": {},
   "outputs": [],
   "source": [
    "for i in range(5): \n",
    "    f, axarr = plt.subplots(1, 1, figsize=(3, 3))\n",
    "    plotting_utils.plot_subimage(axarr, full_image.squeeze(),\n",
    "                                 true_locs, \n",
    "                                 None, \n",
    "                                 x0 = int(np.random.choice(100, 1)), \n",
    "                                 x1 = int(np.random.choice(100, 1)), \n",
    "                                 subimage_slen = 5)\n",
    "    axarr.set_xticks([]);\n",
    "    axarr.set_yticks([]);\n",
    "    \n",
    "    axarr.axvline(x=-0.49, color = 'w', linewidth = 10)\n",
    "    axarr.axvline(x= 4.49, color = 'w', linewidth = 10)\n",
    "    axarr.axhline(y= -0.49, color = 'w', linewidth = 10)\n",
    "    axarr.axhline(y= 4.49, color = 'w', linewidth = 10)"
   ]
  },
  {
   "cell_type": "code",
   "execution_count": null,
   "metadata": {},
   "outputs": [],
   "source": [
    "x0 = 48 # int(np.random.choice(100, 1))\n",
    "x1 = 59 # int(np.random.choice(100, 1))\n",
    "\n",
    "foo = true_locs * 100\n",
    "which_locs = (foo[:, 0] > x0 + 2) & (foo[:, 0] < x0 + 4) & \\\n",
    "                (foo[:, 1] > x1 + 2) & (foo[:, 1] < x1 + 4) \n",
    "\n",
    "print(which_locs.sum())\n",
    "print(true_locs[which_locs])\n",
    "\n",
    "f, axarr = plt.subplots(1, 1, figsize=(3, 3))\n",
    "plotting_utils.plot_subimage(axarr, full_image.squeeze(), \n",
    "                             true_locs[which_locs], \n",
    "                             None, \n",
    "                             x0 = x0, \n",
    "                             x1 = x1, \n",
    "                             subimage_slen = 6, color = 'r')\n",
    "\n",
    "axarr.axvline(x=1.5, ymin = 2/3, ymax = 1/3, color = 'white', linewidth = 5)\n",
    "axarr.axvline(x=3.5, ymin = 2/3, ymax = 1/3, color = 'white', linewidth = 5)\n",
    "axarr.axhline(y=1.5, xmin = 2/3, xmax = 1/3, color = 'white', linewidth = 5)\n",
    "axarr.axhline(y=3.5, xmin = 2/3, xmax = 1/3, color = 'white', linewidth = 5)\n",
    "\n",
    "\n",
    "axarr.axvline(x=1.5, color = 'white', linewidth = 1)\n",
    "axarr.axvline(x=3.5, color = 'white', linewidth = 1)\n",
    "axarr.axhline(y=1.5, color = 'white', linewidth = 1)\n",
    "axarr.axhline(y=3.5, color = 'white', linewidth = 1)\n"
   ]
  },
  {
   "cell_type": "code",
   "execution_count": null,
   "metadata": {},
   "outputs": [],
   "source": [
    "\n"
   ]
  },
  {
   "cell_type": "code",
   "execution_count": null,
   "metadata": {},
   "outputs": [],
   "source": [
    "# example of simulated images "
   ]
  },
  {
   "cell_type": "code",
   "execution_count": null,
   "metadata": {},
   "outputs": [],
   "source": [
    "simulator2 = simulated_datasets_lib.StarSimulator(psf, \n",
    "                                                slen = 11, \n",
    "                                                  transpose_psf = False, \n",
    "                                                sky_intensity = torch.Tensor([full_background.mean()]))\n",
    "\n"
   ]
  },
  {
   "cell_type": "code",
   "execution_count": null,
   "metadata": {},
   "outputs": [],
   "source": [
    "locs = torch.Tensor([[[0.2, 0.22], [0.32, 0.43], [0.71, 0.12], [0.83, 0.89]]])\n",
    "foo = simulator2.draw_image_from_params(locs=locs, \n",
    "                                 fluxes = torch.Tensor([[[2000], [4500], [3000], [2500]]]), \n",
    "                                 n_stars = torch.Tensor([4]).type(torch.long))"
   ]
  },
  {
   "cell_type": "code",
   "execution_count": null,
   "metadata": {},
   "outputs": [],
   "source": [
    "np.arange(-5, 5, step=1)"
   ]
  },
  {
   "cell_type": "code",
   "execution_count": null,
   "metadata": {},
   "outputs": [],
   "source": [
    "fig, ax = plt.subplots()\n",
    "\n",
    "im = ax.matshow(simulator2.psf.squeeze())\n",
    "fig.colorbar(im)\n",
    "\n",
    "plt.xticks(np.arange(1, 11, step = 2), np.arange(-4, 6, step=2));\n",
    "plt.yticks(np.arange(1, 11, step = 2), np.arange(4, -6, step=-2)); \n",
    "\n",
    "ax.xaxis.set_ticks_position('bottom')\n",
    "\n",
    "fig.tight_layout()\n",
    "\n",
    "plt.savefig('../../qualifying_exam_slides/figures/example_psf.png')"
   ]
  },
  {
   "cell_type": "code",
   "execution_count": null,
   "metadata": {},
   "outputs": [],
   "source": [
    "fig, ax = plt.subplots(1, 2, figsize = (10, 4))\n",
    "\n",
    "im0 = ax[1].matshow(foo.squeeze())\n",
    "fig.colorbar(im0, ax = ax[1])\n",
    "ax[1].scatter(locs[:, :, 1] * 10, \n",
    "            locs[:, :, 0] * 10, color = 'b')\n",
    "\n",
    "im1 = ax[0].matshow(simulator2.psf.squeeze())\n",
    "fig.colorbar(im, ax = ax[0])\n",
    "\n",
    "ax[0].set_xticks(np.arange(1, 11, step = 2))\n",
    "ax[0].set_xticklabels(np.arange(-4, 6, step=2));\n",
    "ax[0].xaxis.set_ticks_position('bottom')\n",
    "\n",
    "ax[0].set_yticks(np.arange(1, 11, step = 2),)\n",
    "ax[0].set_yticklabels(np.arange(4, -6, step=-2)); \n",
    "\n",
    "fig.tight_layout()\n",
    "\n",
    "\n",
    "plt.savefig('../../qualifying_exam_slides/figures/example_gen_model.png')"
   ]
  },
  {
   "cell_type": "code",
   "execution_count": null,
   "metadata": {},
   "outputs": [],
   "source": []
  },
  {
   "cell_type": "code",
   "execution_count": null,
   "metadata": {},
   "outputs": [],
   "source": []
  },
  {
   "cell_type": "code",
   "execution_count": null,
   "metadata": {},
   "outputs": [],
   "source": [
    "# example evaluating log lik."
   ]
  },
  {
   "cell_type": "code",
   "execution_count": null,
   "metadata": {},
   "outputs": [],
   "source": [
    "simulator3 = simulated_datasets_lib.StarSimulator(psf, \n",
    "                                                slen = 21, \n",
    "                                                transpose_psf = False, \n",
    "                                                sky_intensity = torch.Tensor([full_background.mean()]))"
   ]
  },
  {
   "cell_type": "code",
   "execution_count": null,
   "metadata": {},
   "outputs": [],
   "source": [
    "locs = torch.Tensor([[[0.3, 0.2], [0.7, 0.1], [0.8, 0.8]]])\n",
    "im = simulator3.draw_image_from_params(locs=locs, \n",
    "                                 fluxes = torch.Tensor([[[4500], [3000], [2500]]]), \n",
    "                                 n_stars = torch.Tensor([3]).type(torch.long))"
   ]
  },
  {
   "cell_type": "code",
   "execution_count": null,
   "metadata": {},
   "outputs": [],
   "source": [
    "# est_locs = torch.Tensor([[[0.1818, 0.1531],\n",
    "#          [0.6115, 0.1333],\n",
    "#          [0.7607, 0.8436]]])\n",
    "\n",
    "est_locs = torch.Tensor([[[0.2, 0.8], [0.3, 0.7], [0.1, 0.8]]])\n",
    "\n",
    "recon = simulator3.draw_image_from_params(locs=est_locs, \n",
    "                                 fluxes = torch.Tensor([[[4500], [3000], [2500]]]), \n",
    "                                 n_stars = torch.Tensor([3]).type(torch.long), \n",
    "                                add_noise = False)"
   ]
  },
  {
   "cell_type": "code",
   "execution_count": null,
   "metadata": {},
   "outputs": [],
   "source": [
    "plt.matshow(im.squeeze())\n",
    "plt.colorbar()\n",
    "plt.plot(locs[:, :, 1].squeeze().numpy() * 20, \n",
    "         locs[:, :, 0].squeeze().numpy() * 20, \n",
    "        'ob', label = 'truth')\n",
    "\n",
    "plt.plot(est_locs[:, :, 1].squeeze().numpy() * 20, \n",
    "         est_locs[:, :, 0].squeeze().numpy() * 20, \n",
    "        'xr', label = 'est.')\n",
    "\n",
    "plt.legend()\n",
    "plt.title('observed \\n')\n",
    "plt.savefig('../../qualifying_exam_slides/figures/loss_example2_observed.png')"
   ]
  },
  {
   "cell_type": "code",
   "execution_count": null,
   "metadata": {},
   "outputs": [],
   "source": [
    "recon = simulator3.draw_image_from_params(locs=est_locs, \n",
    "                                 fluxes = torch.Tensor([[[4500], [3000], [2500]]]), \n",
    "                                 n_stars = torch.Tensor([3]).type(torch.long), \n",
    "                                add_noise = False)\n",
    "\n",
    "plt.matshow(recon.squeeze())\n",
    "plt.colorbar()\n",
    "\n",
    "# plt.plot(locs[:, :, 1].squeeze() * 20, \n",
    "#          locs[:, :, 0].squeeze() * 20, \n",
    "#         'ob', label = 'truth')\n",
    "\n",
    "plt.plot(est_locs[:, :, 1].squeeze().numpy() * 20, \n",
    "         est_locs[:, :, 0].squeeze().numpy() * 20, \n",
    "        'xr', label = 'est.')\n",
    "\n",
    "plt.title('reconstructed \\n')\n",
    "\n",
    "plt.savefig('../../qualifying_exam_slides/figures/loss_example2_recon.png')\n"
   ]
  },
  {
   "cell_type": "code",
   "execution_count": null,
   "metadata": {},
   "outputs": [],
   "source": [
    "resid = (recon.squeeze() - im.squeeze())\n",
    "plt.matshow(resid, vmax = resid.abs().max(), vmin = -resid.abs().max(), cmap = plt.get_cmap('bwr'))\n",
    "plt.colorbar()\n",
    "\n",
    "# plt.plot(locs[:, :, 1].squeeze() * 20, \n",
    "#          locs[:, :, 0].squeeze() * 20, \n",
    "#         'ob', label = 'truth')\n",
    "\n",
    "# plt.plot(est_locs[:, :, 1].squeeze() * 20, \n",
    "#          est_locs[:, :, 0].squeeze() * 20, \n",
    "#         'xr', label = 'est.')\n",
    "\n",
    "plt.title('recon. - observed \\n')\n",
    "\n",
    "plt.savefig('../../qualifying_exam_slides/figures/loss_example2_resid.png')\n"
   ]
  },
  {
   "cell_type": "code",
   "execution_count": null,
   "metadata": {},
   "outputs": [],
   "source": []
  },
  {
   "cell_type": "code",
   "execution_count": null,
   "metadata": {},
   "outputs": [],
   "source": []
  }
 ],
 "metadata": {
  "kernelspec": {
   "display_name": "Python (pytorch_04)",
   "language": "python",
   "name": "pytorch_update"
  },
  "language_info": {
   "codemirror_mode": {
    "name": "ipython",
    "version": 3
   },
   "file_extension": ".py",
   "mimetype": "text/x-python",
   "name": "python",
   "nbconvert_exporter": "python",
   "pygments_lexer": "ipython3",
   "version": "3.6.8"
  }
 },
 "nbformat": 4,
 "nbformat_minor": 2
}

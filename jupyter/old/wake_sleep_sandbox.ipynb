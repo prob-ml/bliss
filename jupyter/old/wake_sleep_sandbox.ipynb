{
 "cells": [
  {
   "cell_type": "code",
   "execution_count": null,
   "metadata": {},
   "outputs": [],
   "source": [
    "import torch\n",
    "import torch.optim as optim\n",
    "\n",
    "import numpy as np\n",
    "\n",
    "import sys\n",
    "sys.path.insert(0, '../')\n",
    "import sdss_dataset_lib\n",
    "import residuals_vae_lib\n",
    "import simulated_datasets_lib\n",
    "import starnet_vae_lib\n",
    "\n",
    "import matplotlib.pyplot as plt\n",
    "\n",
    "import inv_KL_objective_lib as objectives_lib\n",
    "\n",
    "import time\n",
    "\n",
    "import json\n",
    "\n",
    "import plotting_utils\n",
    "\n",
    "device = torch.device(\"cuda:0\" if torch.cuda.is_available() else \"cpu\")\n",
    "print('device: ', device)\n",
    "\n",
    "print('torch version: ', torch.__version__)\n",
    "\n",
    "# set seed\n",
    "np.random.seed(43534)\n",
    "_ = torch.manual_seed(24534)\n",
    "\n"
   ]
  },
  {
   "cell_type": "markdown",
   "metadata": {},
   "source": [
    "# Get Hubble data"
   ]
  },
  {
   "cell_type": "code",
   "execution_count": null,
   "metadata": {},
   "outputs": [],
   "source": [
    "max_stars = 20\n",
    "\n",
    "hubble_cat_file='../hubble_data/NCG7078/hlsp_acsggct_hst_acs-wfc_ngc7078_r.rdviq.cal.adj.zpt.txt'\n",
    "sdss_hubble_data = \\\n",
    "    sdss_dataset_lib.SDSSHubbleData(hubble_cat_file=hubble_cat_file,\n",
    "                                    sdssdir = '../../celeste_net/sdss_stage_dir/',\n",
    "                                    slen = 11,\n",
    "                                    run = 2566,\n",
    "                                    camcol = 6,\n",
    "                                    field = 65,\n",
    "                                    max_detections = max_stars)\n",
    "batchsize = len(sdss_hubble_data)\n",
    "sdss_loader = torch.utils.data.DataLoader(\n",
    "                 dataset=sdss_hubble_data,\n",
    "                 batch_size=batchsize,\n",
    "                 shuffle=False)\n",
    "\n",
    "\n",
    "# record sky intensity\n",
    "sky_intensity = sdss_hubble_data.sdss_background_full.mean()"
   ]
  },
  {
   "cell_type": "markdown",
   "metadata": {},
   "source": [
    "# Get simulator"
   ]
  },
  {
   "cell_type": "code",
   "execution_count": null,
   "metadata": {},
   "outputs": [],
   "source": [
    "# data parameters\n",
    "with open('../data/default_star_parameters.json', 'r') as fp:\n",
    "    data_params = json.load(fp)\n",
    "\n",
    "data_params['min_stars'] = 0\n",
    "data_params['max_stars'] = max_stars\n",
    "data_params['sky_intensity'] = sky_intensity\n",
    "\n",
    "print(data_params)\n",
    "\n",
    "# dataset\n",
    "simulated_dataset = \\\n",
    "    simulated_datasets_lib.load_dataset_from_params(sdss_hubble_data.psf_file,\n",
    "                            data_params,\n",
    "                            n_stars = 1000,\n",
    "                            add_noise = True)\n",
    "\n",
    "batchsize = 1000\n",
    "simulated_loader = torch.utils.data.DataLoader(\n",
    "                                 dataset=simulated_dataset,\n",
    "                                 batch_size=batchsize,\n",
    "                                 shuffle=True)\n",
    "\n",
    "for _, data in enumerate(simulated_loader):\n",
    "    simulated_true_fluxes = data['fluxes']\n",
    "    simulated_true_locs = data['locs']\n",
    "    simulated_true_n_stars = data['n_stars']\n",
    "    _simulated_images = data['image']\n",
    "    simulated_backgrounds = data['background']\n",
    "    \n",
    "    break"
   ]
  },
  {
   "cell_type": "markdown",
   "metadata": {},
   "source": [
    "# Get generative model"
   ]
  },
  {
   "cell_type": "code",
   "execution_count": null,
   "metadata": {},
   "outputs": [],
   "source": [
    "cycle = 10"
   ]
  },
  {
   "cell_type": "code",
   "execution_count": null,
   "metadata": {
    "code_folding": []
   },
   "outputs": [],
   "source": [
    "if cycle == 0: \n",
    "    residual_vae = None\n",
    "else: \n",
    "    residual_vae = residuals_vae_lib.ResidualVAE(slen = sdss_hubble_data.slen,\n",
    "                                                n_bands = 1,\n",
    "                                                f_min = 200.)\n",
    "    residual_vae.load_state_dict(torch.load('../fits/residual_vae_wake' + str(cycle), \n",
    "                                   map_location=lambda storage, loc: storage))\n",
    "    residual_vae.eval(); \n",
    "    \n",
    "    "
   ]
  },
  {
   "cell_type": "code",
   "execution_count": null,
   "metadata": {},
   "outputs": [],
   "source": [
    "if cycle > 0: \n",
    "    eta = torch.randn(_simulated_images.shape[0], residual_vae.latent_dim).to(device)\n",
    "    residuals = residual_vae.decode(eta)[0] # just taking the mean ...\n",
    "\n",
    "    simulated_images = _simulated_images * residuals.detach() + _simulated_images\n",
    "else: \n",
    "    simulated_images = _simulated_images\n",
    "    residuals = _simulated_images * 0.0"
   ]
  },
  {
   "cell_type": "code",
   "execution_count": null,
   "metadata": {},
   "outputs": [],
   "source": [
    "_, axarr = plt.subplots(2, 5, figsize=(18, 8))\n",
    "for i in range(0, 10): \n",
    "    \n",
    "    i1 = int(np.floor(i / 5))\n",
    "    i2 = i % 5\n",
    "        \n",
    "    # image \n",
    "    axarr[i1, i2].matshow(residuals[i, 0, :, :].detach())"
   ]
  },
  {
   "cell_type": "code",
   "execution_count": null,
   "metadata": {},
   "outputs": [],
   "source": [
    "_, axarr = plt.subplots(2, 5, figsize=(18, 8))\n",
    "for i in range(0, 10): \n",
    "    \n",
    "    i1 = int(np.floor(i / 5))\n",
    "    i2 = i % 5\n",
    "        \n",
    "    # image \n",
    "    axarr[i1, i2].matshow(simulated_images[i, 0, :, :])\n",
    "    axarr[i1, i2].set_title('n_stars: {}\\n'.format(simulated_true_n_stars[i]))\n",
    "    \n",
    "    # plot locations \n",
    "    locs_i = simulated_true_locs[i]\n",
    "    n_stars_i = simulated_true_n_stars[i]\n",
    "    locs_y = (locs_i[0:int(n_stars_i), 0]) * (simulated_images.shape[-1] - 1) \n",
    "    locs_x = (locs_i[0:int(n_stars_i), 1]) * (simulated_images.shape[-1] - 1)\n",
    "    \n",
    "    axarr[i1, i2].scatter(x = locs_x, y = locs_y, color = 'b')\n"
   ]
  },
  {
   "cell_type": "code",
   "execution_count": null,
   "metadata": {},
   "outputs": [],
   "source": []
  },
  {
   "cell_type": "code",
   "execution_count": null,
   "metadata": {},
   "outputs": [],
   "source": []
  },
  {
   "cell_type": "code",
   "execution_count": null,
   "metadata": {},
   "outputs": [],
   "source": []
  },
  {
   "cell_type": "markdown",
   "metadata": {},
   "source": [
    "# Get VAE"
   ]
  },
  {
   "cell_type": "code",
   "execution_count": null,
   "metadata": {},
   "outputs": [],
   "source": [
    "star_encoder = starnet_vae_lib.StarEncoder(data_params['slen'],\n",
    "                                           n_bands = 1,\n",
    "                                          max_detections = max_stars)\n",
    "\n",
    "# load iteration 0 results: i.e. encoder trained on simulated data only\n",
    "encoder_init = '../fits/starnet_encoder_sleep' + str(cycle)\n",
    "print('loading encoder from: ', encoder_init)\n",
    "star_encoder.load_state_dict(torch.load(encoder_init,\n",
    "                               map_location=lambda storage, loc: storage))\n",
    "\n",
    "star_encoder.eval();"
   ]
  },
  {
   "cell_type": "code",
   "execution_count": null,
   "metadata": {},
   "outputs": [],
   "source": [
    "loss, counter_loss, locs_loss, fluxes_loss, perm = \\\n",
    "    objectives_lib.get_encoder_loss(star_encoder, simulated_images, simulated_backgrounds, \n",
    "                                    simulated_true_locs, simulated_true_fluxes, simulated_true_n_stars)\n",
    "    \n",
    "print(loss)"
   ]
  },
  {
   "cell_type": "markdown",
   "metadata": {},
   "source": [
    "# Check results on simulated data"
   ]
  },
  {
   "cell_type": "code",
   "execution_count": null,
   "metadata": {},
   "outputs": [],
   "source": [
    "indx = np.arange(0, 20)\n",
    "\n",
    "plotting_utils.print_results(star_encoder, \n",
    "                                simulated_images[indx], \n",
    "                                simulated_backgrounds[indx], \n",
    "                                simulated_dataset.simulator.psf, \n",
    "                                simulated_true_locs[indx], \n",
    "                                simulated_true_n_stars[indx],\n",
    "                                use_true_n_stars = False)"
   ]
  },
  {
   "cell_type": "code",
   "execution_count": null,
   "metadata": {},
   "outputs": [],
   "source": []
  },
  {
   "cell_type": "markdown",
   "metadata": {},
   "source": [
    "# Check results on sdss data"
   ]
  },
  {
   "cell_type": "code",
   "execution_count": null,
   "metadata": {},
   "outputs": [],
   "source": [
    "for _, data in enumerate(sdss_loader):\n",
    "    hubble_fluxes = data['fluxes']\n",
    "    hubble_locs = data['locs']\n",
    "    hubble_n_stars = data['n_stars']\n",
    "    sdss_images = data['image']\n",
    "    sdss_backgrounds = data['background']\n",
    "    \n",
    "    break"
   ]
  },
  {
   "cell_type": "code",
   "execution_count": null,
   "metadata": {},
   "outputs": [],
   "source": [
    "indx = np.arange(30, 40)\n",
    "plotting_utils.print_results(star_encoder, \n",
    "                                sdss_images[indx],\n",
    "                                sdss_backgrounds[indx],\n",
    "                                simulated_dataset.simulator.psf, \n",
    "                                hubble_locs[indx],\n",
    "                                hubble_n_stars[indx], \n",
    "                                use_true_n_stars = False, \n",
    "                                residual_clamp = 1e16)"
   ]
  },
  {
   "cell_type": "code",
   "execution_count": null,
   "metadata": {},
   "outputs": [],
   "source": [
    "indx = np.argwhere(hubble_n_stars <= 4).squeeze()[20:30]\n",
    "plotting_utils.print_results(star_encoder, \n",
    "                                sdss_images[indx],\n",
    "                                sdss_backgrounds[indx],\n",
    "                                simulated_dataset.simulator.psf, \n",
    "                                hubble_locs[indx],\n",
    "                                hubble_n_stars[indx], \n",
    "                                use_true_n_stars = False, \n",
    "                                residual_clamp = 200.)"
   ]
  },
  {
   "cell_type": "code",
   "execution_count": null,
   "metadata": {},
   "outputs": [],
   "source": [
    "map_n_stars, map_locs, map_fluxes, \\\n",
    "    logit_loc_mean, logit_loc_log_var, \\\n",
    "        log_flux_mean, log_flux_log_var, \\\n",
    "            log_probs, recon_mean = plotting_utils.get_variational_parameters(star_encoder, \n",
    "                        sdss_images[indx],\n",
    "                        sdss_backgrounds[indx], \n",
    "                        simulated_dataset.simulator.psf, \n",
    "                        true_n_stars = None)"
   ]
  },
  {
   "cell_type": "code",
   "execution_count": null,
   "metadata": {},
   "outputs": [],
   "source": [
    "fig, axarr = plt.subplots(2, 5, figsize=(15, 6))\n",
    "\n",
    "for i in range(10):\n",
    "    \n",
    "    image = sdss_images[indx[i]][0, :, :]\n",
    "    n_stars_i = hubble_n_stars[indx[i]]\n",
    "    locs_i = hubble_locs[indx[i]]\n",
    "    \n",
    "    plotting_utils.plot_image(axarr[int(np.floor(i / 5)), int(i % 5)], \n",
    "                            sdss_images[indx[i]][0, :, :], \n",
    "                            true_locs = locs_i[0:n_stars_i], \n",
    "                            estimated_locs = map_locs[i, 0:map_n_stars[i]])"
   ]
  },
  {
   "cell_type": "code",
   "execution_count": null,
   "metadata": {},
   "outputs": [],
   "source": []
  },
  {
   "cell_type": "code",
   "execution_count": null,
   "metadata": {},
   "outputs": [],
   "source": []
  },
  {
   "cell_type": "code",
   "execution_count": null,
   "metadata": {},
   "outputs": [],
   "source": []
  },
  {
   "cell_type": "code",
   "execution_count": null,
   "metadata": {},
   "outputs": [],
   "source": []
  },
  {
   "cell_type": "code",
   "execution_count": null,
   "metadata": {},
   "outputs": [],
   "source": []
  },
  {
   "cell_type": "code",
   "execution_count": null,
   "metadata": {},
   "outputs": [],
   "source": []
  },
  {
   "cell_type": "code",
   "execution_count": null,
   "metadata": {},
   "outputs": [],
   "source": []
  },
  {
   "cell_type": "code",
   "execution_count": null,
   "metadata": {},
   "outputs": [],
   "source": []
  },
  {
   "cell_type": "code",
   "execution_count": null,
   "metadata": {},
   "outputs": [],
   "source": []
  },
  {
   "cell_type": "code",
   "execution_count": null,
   "metadata": {},
   "outputs": [],
   "source": [
    "residual_vae.load_state_dict(torch.load('../fits/residual_vae_wake1', \n",
    "                               map_location=lambda storage, loc: storage))\n",
    "residual_vae.eval(); "
   ]
  },
  {
   "cell_type": "code",
   "execution_count": null,
   "metadata": {},
   "outputs": [],
   "source": [
    "eta = torch.randn(10, residual_vae.latent_dim)"
   ]
  },
  {
   "cell_type": "code",
   "execution_count": null,
   "metadata": {},
   "outputs": [],
   "source": [
    "recon_mean, recon_logvar = residual_vae.decode(eta)"
   ]
  },
  {
   "cell_type": "code",
   "execution_count": null,
   "metadata": {},
   "outputs": [],
   "source": [
    "for i in range(10): \n",
    "    vmax = torch.abs(recon_mean[i, 0, :, :]).max()\n",
    "    plt.matshow(recon_mean[i, 0, :, :].detach(), vmin = -vmax, vmax = vmax, cmap=plt.get_cmap('bwr'))\n",
    "    plt.colorbar()"
   ]
  },
  {
   "cell_type": "code",
   "execution_count": null,
   "metadata": {},
   "outputs": [],
   "source": []
  }
 ],
 "metadata": {
  "kernelspec": {
   "display_name": "Python (pytorch_04)",
   "language": "python",
   "name": "pytorch_update"
  },
  "language_info": {
   "codemirror_mode": {
    "name": "ipython",
    "version": 3
   },
   "file_extension": ".py",
   "mimetype": "text/x-python",
   "name": "python",
   "nbconvert_exporter": "python",
   "pygments_lexer": "ipython3",
   "version": "3.6.8"
  }
 },
 "nbformat": 4,
 "nbformat_minor": 2
}

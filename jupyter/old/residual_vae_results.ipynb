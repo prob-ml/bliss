{
 "cells": [
  {
   "cell_type": "code",
   "execution_count": null,
   "metadata": {},
   "outputs": [],
   "source": [
    "import torch \n",
    "import numpy as np\n",
    "\n",
    "import matplotlib.pyplot as plt\n",
    "\n",
    "import sys\n",
    "sys.path.insert(0, '../')\n",
    "\n",
    "import residuals_vae_lib\n",
    "import simulated_datasets_lib\n",
    "import sdss_dataset_lib\n",
    "\n",
    "import json\n",
    "\n",
    "device = torch.device(\"cuda:0\" if torch.cuda.is_available() else \"cpu\")\n"
   ]
  },
  {
   "cell_type": "markdown",
   "metadata": {},
   "source": [
    " # get hubble data"
   ]
  },
  {
   "cell_type": "code",
   "execution_count": null,
   "metadata": {},
   "outputs": [],
   "source": [
    "hubble_cat_file='../hubble_data/NCG7078/hlsp_acsggct_hst_acs-wfc_ngc7078_r.rdviq.cal.adj.zpt.txt'\n",
    "sdss_hubble_data = sdss_dataset_lib.SDSSHubbleData(hubble_cat_file=hubble_cat_file, \n",
    "                                                   slen = 11, \n",
    "                                                   run = 2566, \n",
    "                                                   camcol = 6, \n",
    "                                                   field = 65, \n",
    "                                                max_detections = 20)"
   ]
  },
  {
   "cell_type": "code",
   "execution_count": null,
   "metadata": {},
   "outputs": [],
   "source": [
    "len(sdss_hubble_data)"
   ]
  },
  {
   "cell_type": "code",
   "execution_count": null,
   "metadata": {},
   "outputs": [],
   "source": [
    "# get simulator \n",
    "sky_intensity = sdss_hubble_data.sdss_background_full.mean()\n",
    "\n",
    "simulator = simulated_datasets_lib.StarSimulator(psf_fit_file=sdss_hubble_data.psf_file, \n",
    "                                    slen = sdss_hubble_data.slen, \n",
    "                                    sky_intensity = sky_intensity)"
   ]
  },
  {
   "cell_type": "markdown",
   "metadata": {},
   "source": [
    "# Get loader\n"
   ]
  },
  {
   "cell_type": "code",
   "execution_count": null,
   "metadata": {},
   "outputs": [],
   "source": [
    "batchsize = len(sdss_hubble_data)\n",
    "loader = torch.utils.data.DataLoader(\n",
    "                 dataset=sdss_hubble_data,\n",
    "                 batch_size=batchsize,\n",
    "                 shuffle=True)\n"
   ]
  },
  {
   "cell_type": "markdown",
   "metadata": {},
   "source": [
    "# Define VAE"
   ]
  },
  {
   "cell_type": "code",
   "execution_count": null,
   "metadata": {},
   "outputs": [],
   "source": [
    "residual_vae = residuals_vae_lib.ResidualVAE(slen = sdss_hubble_data.slen,\n",
    "                                            n_bands = 1,\n",
    "                                            f_min = 2000)"
   ]
  },
  {
   "cell_type": "code",
   "execution_count": null,
   "metadata": {},
   "outputs": [],
   "source": [
    "residual_vae.load_state_dict(torch.load('../fits/residual_vae', \n",
    "                               map_location=lambda storage, loc: storage))\n",
    "residual_vae.eval(); "
   ]
  },
  {
   "cell_type": "code",
   "execution_count": null,
   "metadata": {},
   "outputs": [],
   "source": [
    "loss = residuals_vae_lib.eval_residual_vae(residual_vae, loader, simulator, train = False)"
   ]
  },
  {
   "cell_type": "code",
   "execution_count": null,
   "metadata": {},
   "outputs": [],
   "source": [
    "print('{:.6E}'.format(loss))"
   ]
  },
  {
   "cell_type": "markdown",
   "metadata": {},
   "source": [
    "# Check out residuals"
   ]
  },
  {
   "cell_type": "code",
   "execution_count": null,
   "metadata": {},
   "outputs": [],
   "source": [
    "return_unnormalized = True"
   ]
  },
  {
   "cell_type": "code",
   "execution_count": null,
   "metadata": {},
   "outputs": [],
   "source": [
    "for _, data in enumerate(loader):\n",
    "    # true parameters\n",
    "    true_fluxes = data['fluxes'].to(device).type(torch.float)\n",
    "    true_locs = data['locs'].to(device).type(torch.float)\n",
    "    true_n_stars = data['n_stars'].to(device)\n",
    "    images = data['image'].to(device)\n",
    "    backgrounds = data['background'].to(device)\n",
    "\n",
    "    # reconstruction\n",
    "    simulated_images = \\\n",
    "        simulator.draw_image_from_params(locs = true_locs,\n",
    "                                         fluxes = true_fluxes,\n",
    "                                         n_stars = true_n_stars,\n",
    "                                         add_noise = False)\n",
    "    \n",
    "    # reconstructed residuals \n",
    "    recon_residual, recon_logvar, eta_mean, eta_logvar, normalized_residual = \\\n",
    "        residual_vae(images, simulated_images, return_unnormalized = return_unnormalized)\n",
    "    \n",
    "    break"
   ]
  },
  {
   "cell_type": "code",
   "execution_count": null,
   "metadata": {},
   "outputs": [],
   "source": [
    "plt.hist(normalized_residual.flatten(), bins = 50);"
   ]
  },
  {
   "cell_type": "code",
   "execution_count": null,
   "metadata": {},
   "outputs": [],
   "source": [
    "for indx in range(16, 17): \n",
    "    \n",
    "    fig, axarr = plt.subplots(1, 4, figsize=(15, 4))\n",
    "    \n",
    "    image_i = images[indx].squeeze()\n",
    "    vmin = torch.min(image_i)\n",
    "    vmax = torch.max(image_i)\n",
    "    \n",
    "    locs_i = true_locs[indx, 0:int(true_n_stars[indx]), :]\n",
    "    \n",
    "    # plot observed image \n",
    "    foo = axarr[0].matshow(image_i, vmin=vmin, vmax=vmax)\n",
    "    axarr[0].plot(locs_i[:, 1] * (sdss_hubble_data.slen - 1), \n",
    "                 locs_i[:, 0] * (sdss_hubble_data.slen - 1), 'x', color = 'r')\n",
    "\n",
    "    axarr[0].set_title('observed \\n')\n",
    "    \n",
    "    simulated_image_i = simulated_images[indx].squeeze()\n",
    "    \n",
    "    axarr[1].matshow(simulated_image_i, vmin=vmin, vmax=vmax)\n",
    "    axarr[1].plot(locs_i[:, 1] * (sdss_hubble_data.slen - 1), \n",
    "                 locs_i[:, 0] * (sdss_hubble_data.slen - 1), 'x', color = 'r')\n",
    "\n",
    "    axarr[1].set_title('simulated \\n')\n",
    "    \n",
    "    fig.colorbar(foo, ax=[axarr[0], axarr[1]])\n",
    "    \n",
    "    residual_image_i = normalized_residual[indx].squeeze()\n",
    "    \n",
    "    vmax = torch.max(torch.max(residual_image_i))\n",
    "    foo2 = axarr[2].matshow(residual_image_i, vmin=-vmax, vmax=vmax, cmap=plt.get_cmap('bwr'))\n",
    "    axarr[2].set_title('residual')\n",
    "    \n",
    "    recon_residual_i = recon_residual[indx].squeeze().detach().numpy()\n",
    "    axarr[3].matshow(recon_residual_i, vmin=-vmax, vmax=vmax, cmap=plt.get_cmap('bwr'))\n",
    "    axarr[3].set_title('reconstructed residual')\n",
    "    \n",
    "    fig.colorbar(foo2, ax=[axarr[2], axarr[3]])\n"
   ]
  },
  {
   "cell_type": "code",
   "execution_count": null,
   "metadata": {},
   "outputs": [],
   "source": []
  },
  {
   "cell_type": "code",
   "execution_count": null,
   "metadata": {},
   "outputs": [],
   "source": []
  },
  {
   "cell_type": "markdown",
   "metadata": {},
   "source": [
    "# the generative model"
   ]
  },
  {
   "cell_type": "code",
   "execution_count": null,
   "metadata": {},
   "outputs": [],
   "source": [
    "eta = torch.randn(10, residual_vae.latent_dim)"
   ]
  },
  {
   "cell_type": "code",
   "execution_count": null,
   "metadata": {},
   "outputs": [],
   "source": [
    "recon_mean, recon_logvar = residual_vae.decode(eta)"
   ]
  },
  {
   "cell_type": "code",
   "execution_count": null,
   "metadata": {},
   "outputs": [],
   "source": [
    "for i in range(10): \n",
    "    plt.matshow(recon_mean[i, 0, :, :].detach())\n",
    "    plt.colorbar()"
   ]
  },
  {
   "cell_type": "code",
   "execution_count": null,
   "metadata": {},
   "outputs": [],
   "source": [
    "for i in range(10): \n",
    "    plt.matshow(recon_mean[i, 0, :, :].detach() + \\\n",
    "                torch.exp(recon_logvar[i, 0, :, :].detach() * 0.5) * torch.randn(11, 11))"
   ]
  },
  {
   "cell_type": "code",
   "execution_count": null,
   "metadata": {},
   "outputs": [],
   "source": []
  },
  {
   "cell_type": "code",
   "execution_count": null,
   "metadata": {},
   "outputs": [],
   "source": []
  },
  {
   "cell_type": "code",
   "execution_count": null,
   "metadata": {},
   "outputs": [],
   "source": []
  },
  {
   "cell_type": "code",
   "execution_count": null,
   "metadata": {},
   "outputs": [],
   "source": []
  },
  {
   "cell_type": "code",
   "execution_count": null,
   "metadata": {},
   "outputs": [],
   "source": []
  }
 ],
 "metadata": {
  "kernelspec": {
   "display_name": "Python (pytorch_04)",
   "language": "python",
   "name": "pytorch_update"
  },
  "language_info": {
   "codemirror_mode": {
    "name": "ipython",
    "version": 3
   },
   "file_extension": ".py",
   "mimetype": "text/x-python",
   "name": "python",
   "nbconvert_exporter": "python",
   "pygments_lexer": "ipython3",
   "version": "3.6.8"
  }
 },
 "nbformat": 4,
 "nbformat_minor": 2
}

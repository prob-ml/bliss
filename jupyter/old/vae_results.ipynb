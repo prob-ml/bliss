{
 "cells": [
  {
   "cell_type": "code",
   "execution_count": null,
   "metadata": {},
   "outputs": [],
   "source": [
    "import numpy as np\n",
    "import timeit\n",
    "\n",
    "import matplotlib.pyplot as plt\n",
    "\n",
    "import torch\n",
    "import torch.optim as optim\n",
    "\n",
    "import sys\n",
    "sys.path.insert(0, './../')\n",
    "import sdss_psf\n",
    "\n",
    "import sys\n",
    "sys.path.insert(0, './../')\n",
    "import star_datasets_lib\n",
    "import starnet_vae_lib\n",
    "\n",
    "import time\n",
    "\n",
    "import json\n",
    "\n",
    "device = torch.device(\"cuda:0\" if torch.cuda.is_available() else \"cpu\")\n",
    "\n",
    "print('torch version: ', torch.__version__)\n",
    "\n",
    "from copy import deepcopy"
   ]
  },
  {
   "cell_type": "code",
   "execution_count": null,
   "metadata": {},
   "outputs": [],
   "source": [
    "# load PSF\n",
    "psf_fit_file = '../../celeste_net/sdss_stage_dir/3900/6/269/psField-003900-6-0269.fit'\n",
    "print('psf file: \\n', psf_fit_file)"
   ]
  },
  {
   "cell_type": "code",
   "execution_count": null,
   "metadata": {},
   "outputs": [],
   "source": [
    "np.random.seed(43534)\n",
    "_ = torch.manual_seed(24534)"
   ]
  },
  {
   "cell_type": "markdown",
   "metadata": {},
   "source": [
    "# Draw data"
   ]
  },
  {
   "cell_type": "code",
   "execution_count": null,
   "metadata": {},
   "outputs": [],
   "source": [
    "# data parameters\n",
    "with open('../data/default_star_parameters.json', 'r') as fp:\n",
    "    data_params = json.load(fp)\n",
    "\n",
    "data_params['min_stars'] = 0\n",
    "data_params['max_stars'] = 4\n",
    "\n",
    "print(data_params)\n"
   ]
  },
  {
   "cell_type": "code",
   "execution_count": null,
   "metadata": {},
   "outputs": [],
   "source": [
    "max_stars = data_params['max_stars']"
   ]
  },
  {
   "cell_type": "code",
   "execution_count": null,
   "metadata": {},
   "outputs": [],
   "source": [
    "n_stars = 1024\n",
    "\n",
    "star_dataset = \\\n",
    "    star_datasets_lib.load_dataset_from_params(psf_fit_file,\n",
    "                            data_params,\n",
    "                            n_stars = n_stars,\n",
    "                            use_fresh_data = False, \n",
    "                            add_noise = True)\n",
    "\n",
    "num_unlabeled = star_dataset.fluxes.shape[0]\n",
    "print('num unlabeled', num_unlabeled)"
   ]
  },
  {
   "cell_type": "code",
   "execution_count": null,
   "metadata": {},
   "outputs": [],
   "source": [
    "# get loader \n",
    "batchsize = n_stars\n",
    "\n",
    "loader = torch.utils.data.DataLoader(\n",
    "                 dataset=star_dataset,\n",
    "                 batch_size=batchsize,\n",
    "                 shuffle=False)\n",
    "\n",
    "loader.dataset.set_params_and_images()"
   ]
  },
  {
   "cell_type": "code",
   "execution_count": null,
   "metadata": {},
   "outputs": [],
   "source": [
    "for _, data in enumerate(loader):\n",
    "    true_fluxes = data['fluxes']\n",
    "    true_locs = data['locs']\n",
    "    true_n_stars = data['n_stars']\n",
    "    images = data['image']\n",
    "    \n",
    "    break"
   ]
  },
  {
   "cell_type": "code",
   "execution_count": null,
   "metadata": {},
   "outputs": [],
   "source": [
    "i = np.random.choice(batchsize, 1)[0]"
   ]
  },
  {
   "cell_type": "code",
   "execution_count": null,
   "metadata": {},
   "outputs": [],
   "source": [
    "for i in range(10): \n",
    "    # observed image \n",
    "    plt.matshow(images[i, 0, :, :])\n",
    "\n",
    "    # plot locations \n",
    "    locs_i = true_locs[i]\n",
    "    n_stars_i = true_n_stars[i]\n",
    "    fluxes_i = true_fluxes[i]\n",
    "    locs_x = (locs_i[0:int(n_stars_i), 0]) * (images.shape[-1] - 1) \n",
    "    locs_y = (locs_i[0:int(n_stars_i), 1]) * (images.shape[-1] - 1)\n",
    "\n",
    "    plt.scatter(x = locs_x, y = locs_y, c = 'b')\n",
    "    \n",
    "    plt.title('Observed image; nstars {}\\n'.format(n_stars_i))\n"
   ]
  },
  {
   "cell_type": "markdown",
   "metadata": {},
   "source": [
    "# load VAE"
   ]
  },
  {
   "cell_type": "code",
   "execution_count": null,
   "metadata": {},
   "outputs": [],
   "source": [
    "star_rnn = starnet_vae_lib.StarRNN(n_bands=1, slen=data_params['slen'])"
   ]
  },
  {
   "cell_type": "code",
   "execution_count": null,
   "metadata": {},
   "outputs": [],
   "source": [
    "star_rnn.load_state_dict(torch.load('../fits/test_fit_one_detection', \\\n",
    "                               map_location=lambda storage, loc: storage))\n",
    "star_rnn.eval(); "
   ]
  },
  {
   "cell_type": "code",
   "execution_count": null,
   "metadata": {},
   "outputs": [],
   "source": [
    "import objectives_lib"
   ]
  },
  {
   "cell_type": "code",
   "execution_count": null,
   "metadata": {},
   "outputs": [],
   "source": [
    "loss, perm = objectives_lib.get_invKL_loss(star_rnn, images, true_fluxes, true_locs, true_n_stars)"
   ]
  },
  {
   "cell_type": "code",
   "execution_count": null,
   "metadata": {},
   "outputs": [],
   "source": [
    "loss.mean()"
   ]
  },
  {
   "cell_type": "code",
   "execution_count": null,
   "metadata": {},
   "outputs": [],
   "source": [
    "logit_locs_mean, logit_locs_logvar, \\\n",
    "            log_flux_mean, log_flux_logvar, prob_on = \\\n",
    "                star_rnn.forward_once(images, \\\n",
    "                                        h_i = torch.zeros(images.shape[0], 180))"
   ]
  },
  {
   "cell_type": "code",
   "execution_count": null,
   "metadata": {},
   "outputs": [],
   "source": [
    "for i in range(10): \n",
    "    # observed image \n",
    "    plt.matshow(images[i, 0, :, :])\n",
    "    n_stars_i = true_n_stars[i]\n",
    "\n",
    "    \n",
    "    # plot estimated locations\n",
    "    est_locs_i = torch.sigmoid(logit_locs_mean.detach()[i]) * (images.shape[-1] - 1) \n",
    "    plt.scatter(x = est_locs_i[0], y = est_locs_i[1], c = 'r')\n",
    "    \n",
    "    plt.scatter(x = torch.sigmoid(torch.randn(100) * torch.exp(0.5 * logit_locs_logvar.detach()[i, 0]) + \\\n",
    "                        logit_locs_mean.detach()[i][0]) * (images.shape[-1] - 1), \n",
    "                y = torch.sigmoid(torch.randn(100) * torch.exp(0.5 * logit_locs_logvar.detach()[i, 1]) + \\\n",
    "                        logit_locs_mean.detach()[i][1]) * (images.shape[-1] - 1), \n",
    "                color = 'red', marker = 'x')\n",
    "    \n",
    "    prob_on_i = np.round(prob_on[i].detach().numpy(), 5)\n",
    "    plt.title('Observed image; nstars {}; \\n prob on {}\\n'.format(n_stars_i, prob_on_i))\n",
    "    \n",
    "    # plot true locations \n",
    "    locs_i = true_locs[i]\n",
    "    fluxes_i = true_fluxes[i]\n",
    "    locs_x = (locs_i[0:int(n_stars_i), 0]) * (images.shape[-1] - 1) \n",
    "    locs_y = (locs_i[0:int(n_stars_i), 1]) * (images.shape[-1] - 1)\n",
    "\n",
    "    plt.scatter(x = locs_x, y = locs_y, c = 'b')\n"
   ]
  },
  {
   "cell_type": "code",
   "execution_count": null,
   "metadata": {},
   "outputs": [],
   "source": [
    "log_flux_mean"
   ]
  },
  {
   "cell_type": "code",
   "execution_count": null,
   "metadata": {},
   "outputs": [],
   "source": [
    "seq_tensor = torch.LongTensor([i for i in range(len(log_flux_mean))])"
   ]
  },
  {
   "cell_type": "code",
   "execution_count": null,
   "metadata": {},
   "outputs": [],
   "source": [
    "plt.scatter(x = log_flux_mean.detach(), \n",
    "            y = torch.log(true_fluxes[seq_tensor, perm]))\n",
    "plt.scatter(log_flux_mean.detach(), log_flux_mean.detach(), color = 'red')"
   ]
  },
  {
   "cell_type": "code",
   "execution_count": null,
   "metadata": {},
   "outputs": [],
   "source": [
    "log_flux_mean"
   ]
  },
  {
   "cell_type": "code",
   "execution_count": null,
   "metadata": {},
   "outputs": [],
   "source": [
    "torch.log(true_fluxes[seq_tensor, perm])"
   ]
  },
  {
   "cell_type": "code",
   "execution_count": null,
   "metadata": {},
   "outputs": [],
   "source": []
  },
  {
   "cell_type": "code",
   "execution_count": null,
   "metadata": {},
   "outputs": [],
   "source": []
  }
 ],
 "metadata": {
  "kernelspec": {
   "display_name": "Python (pytorch_04)",
   "language": "python",
   "name": "pytorch_update"
  },
  "language_info": {
   "codemirror_mode": {
    "name": "ipython",
    "version": 3
   },
   "file_extension": ".py",
   "mimetype": "text/x-python",
   "name": "python",
   "nbconvert_exporter": "python",
   "pygments_lexer": "ipython3",
   "version": "3.6.8"
  }
 },
 "nbformat": 4,
 "nbformat_minor": 2
}

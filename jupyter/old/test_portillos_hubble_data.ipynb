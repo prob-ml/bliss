{
 "cells": [
  {
   "cell_type": "code",
   "execution_count": null,
   "metadata": {},
   "outputs": [],
   "source": [
    "import numpy as np\n",
    "import pathlib \n",
    "\n",
    "import matplotlib.pyplot as plt\n",
    "\n",
    "import torch\n",
    "\n",
    "from torch.utils.data import Dataset\n",
    "\n",
    "import sys\n",
    "sys.path.insert(0, '../')\n",
    "import sdss_dataset_lib\n",
    "import sdss_psf\n",
    "\n",
    "from astropy.io import fits\n",
    "from astropy.wcs import WCS\n",
    "\n",
    "device = torch.device(\"cuda:0\" if torch.cuda.is_available() else \"cpu\")\n",
    "\n",
    "import os"
   ]
  },
  {
   "cell_type": "code",
   "execution_count": null,
   "metadata": {},
   "outputs": [],
   "source": [
    "# load data\n",
    "sdss_hubble_data = sdss_dataset_lib.SDSSHubbleData()"
   ]
  },
  {
   "cell_type": "code",
   "execution_count": null,
   "metadata": {},
   "outputs": [],
   "source": [
    "# the full image\n",
    "plt.matshow(sdss_hubble_data.sdss_image_full.squeeze())"
   ]
  },
  {
   "cell_type": "code",
   "execution_count": null,
   "metadata": {},
   "outputs": [],
   "source": [
    "sdss_hubble_data.sdss_image.shape"
   ]
  },
  {
   "cell_type": "code",
   "execution_count": null,
   "metadata": {},
   "outputs": [],
   "source": [
    "# the 100 x 100 subset in Portillos\n",
    "plt.matshow(sdss_hubble_data.sdss_image.squeeze())"
   ]
  },
  {
   "cell_type": "code",
   "execution_count": null,
   "metadata": {},
   "outputs": [],
   "source": []
  },
  {
   "cell_type": "code",
   "execution_count": null,
   "metadata": {},
   "outputs": [],
   "source": [
    "# check the hubble coordinates overlap with the globular cluster\n",
    "plt.matshow(sdss_hubble_data.sdss_image_full.squeeze())\n",
    "plt.plot(sdss_hubble_data.locs_full_x1, \n",
    "         sdss_hubble_data.locs_full_x0, alpha = 0.2)"
   ]
  },
  {
   "cell_type": "code",
   "execution_count": null,
   "metadata": {},
   "outputs": [],
   "source": []
  },
  {
   "cell_type": "markdown",
   "metadata": {},
   "source": [
    "# plot a few subimages"
   ]
  },
  {
   "cell_type": "code",
   "execution_count": null,
   "metadata": {},
   "outputs": [],
   "source": [
    "import plotting_utils"
   ]
  },
  {
   "cell_type": "code",
   "execution_count": null,
   "metadata": {},
   "outputs": [],
   "source": [
    "which_bright = sdss_hubble_data.fluxes[:, 0] > 1000."
   ]
  },
  {
   "cell_type": "code",
   "execution_count": null,
   "metadata": {},
   "outputs": [],
   "source": []
  },
  {
   "cell_type": "markdown",
   "metadata": {},
   "source": [
    "# The images shown in Portillos"
   ]
  },
  {
   "cell_type": "code",
   "execution_count": null,
   "metadata": {},
   "outputs": [],
   "source": [
    "f, axarr = plt.subplots(2, 2, figsize=(16, 12))\n",
    "\n",
    "# image 1\n",
    "x0 = 53\n",
    "x1 = 70\n",
    "\n",
    "plotting_utils.plot_subimage(axarr[0, 0], \n",
    "                            sdss_hubble_data.sdss_image.squeeze(), \n",
    "                            None, \n",
    "                            sdss_hubble_data.locs[which_bright], \n",
    "                            x0, x1, \n",
    "                            subimage_slen = 10, \n",
    "                            add_colorbar = True, \n",
    "                            global_fig = f)\n",
    "\n",
    "axarr[0, 0].invert_yaxis() \n",
    "\n",
    "\n",
    "# image 2\n",
    "x0 = 41\n",
    "x1 = 23\n",
    "\n",
    "plotting_utils.plot_subimage(axarr[0, 1], \n",
    "                            sdss_hubble_data.sdss_image.squeeze(), \n",
    "                            None, \n",
    "                            sdss_hubble_data.locs[which_bright], \n",
    "                            x0, x1, \n",
    "                            subimage_slen = 10, \n",
    "                            add_colorbar = True, \n",
    "                            global_fig = f)\n",
    "\n",
    "axarr[0, 1].invert_yaxis() \n",
    "\n",
    "\n",
    "# image 3\n",
    "x0 = 31\n",
    "x1 = 83\n",
    "\n",
    "plotting_utils.plot_subimage(axarr[1, 0], \n",
    "                            sdss_hubble_data.sdss_image.squeeze(), \n",
    "                            None, \n",
    "                            sdss_hubble_data.locs[which_bright], \n",
    "                            x0, x1, \n",
    "                            subimage_slen = 10, \n",
    "                            add_colorbar = True, \n",
    "                            global_fig = f)\n",
    "\n",
    "axarr[1, 0].invert_yaxis() \n",
    "\n",
    "# image 4\n",
    "x0 = 32\n",
    "x1 = 64\n",
    "\n",
    "plotting_utils.plot_subimage(axarr[1, 1], \n",
    "                            sdss_hubble_data.sdss_image.squeeze(), \n",
    "                            None, \n",
    "                            sdss_hubble_data.locs[which_bright], \n",
    "                            x0, x1, \n",
    "                            subimage_slen = 10, \n",
    "                            add_colorbar = True, \n",
    "                            global_fig = f)\n",
    "\n",
    "axarr[1, 1].invert_yaxis() "
   ]
  },
  {
   "cell_type": "code",
   "execution_count": null,
   "metadata": {},
   "outputs": [],
   "source": []
  },
  {
   "cell_type": "code",
   "execution_count": null,
   "metadata": {},
   "outputs": [],
   "source": []
  },
  {
   "cell_type": "code",
   "execution_count": null,
   "metadata": {},
   "outputs": [],
   "source": []
  }
 ],
 "metadata": {
  "kernelspec": {
   "display_name": "pytorch_update",
   "language": "python",
   "name": "pytorch_update"
  },
  "language_info": {
   "codemirror_mode": {
    "name": "ipython",
    "version": 3
   },
   "file_extension": ".py",
   "mimetype": "text/x-python",
   "name": "python",
   "nbconvert_exporter": "python",
   "pygments_lexer": "ipython3",
   "version": "3.6.8"
  }
 },
 "nbformat": 4,
 "nbformat_minor": 2
}

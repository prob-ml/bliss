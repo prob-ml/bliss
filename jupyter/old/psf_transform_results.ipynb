{
 "cells": [
  {
   "cell_type": "code",
   "execution_count": null,
   "metadata": {},
   "outputs": [],
   "source": [
    "import numpy as np\n",
    "\n",
    "import torch\n",
    "import torch.optim as optim\n",
    "import matplotlib.pyplot as plt\n",
    "\n",
    "import fitsio\n",
    "\n",
    "import sys\n",
    "sys.path.insert(0, '../')\n",
    "\n",
    "import sdss_psf\n",
    "import sdss_dataset_lib\n",
    "import simulated_datasets_lib\n",
    "import starnet_vae_lib\n",
    "\n",
    "from psf_transform_lib import PsfLocalTransform, get_psf_loss\n",
    "\n",
    "import time\n",
    "\n",
    "device = torch.device(\"cuda:0\" if torch.cuda.is_available() else \"cpu\")\n",
    "print('device: ', device)\n",
    "\n",
    "print('torch version: ', torch.__version__)\n"
   ]
  },
  {
   "cell_type": "markdown",
   "metadata": {},
   "source": [
    "# Load data"
   ]
  },
  {
   "cell_type": "code",
   "execution_count": null,
   "metadata": {},
   "outputs": [],
   "source": [
    "sdss_hubble_data = sdss_dataset_lib.SDSSHubbleData(bands = [2])"
   ]
  },
  {
   "cell_type": "code",
   "execution_count": null,
   "metadata": {},
   "outputs": [],
   "source": [
    "# image\n",
    "full_image = sdss_hubble_data.sdss_image.unsqueeze(0).to(device)\n",
    "full_background = sdss_hubble_data.sdss_background.unsqueeze(0).to(device) \n",
    "\n",
    "# true parameters\n",
    "true_full_locs = sdss_hubble_data.locs.unsqueeze(0).to(device)\n",
    "true_full_fluxes = sdss_hubble_data.fluxes.unsqueeze(0).to(device)\n"
   ]
  },
  {
   "cell_type": "code",
   "execution_count": null,
   "metadata": {},
   "outputs": [],
   "source": [
    "true_full_fluxes.shape"
   ]
  },
  {
   "cell_type": "code",
   "execution_count": null,
   "metadata": {},
   "outputs": [],
   "source": [
    "# load psf\n",
    "psf_dir = '../data/'\n",
    "psf_r = fitsio.FITS(psf_dir + 'sdss-002583-2-0136-psf-r.fits')[0].read()\n",
    "psf_i = fitsio.FITS(psf_dir + 'sdss-002583-2-0136-psf-i.fits')[0].read()\n",
    "\n",
    "psf_og = np.array([psf_r])\n"
   ]
  },
  {
   "cell_type": "code",
   "execution_count": null,
   "metadata": {},
   "outputs": [],
   "source": [
    "# define transform\n",
    "psf_transform = PsfLocalTransform(torch.Tensor(psf_og),\n",
    "                                    full_image.shape[-1],\n",
    "                                    kernel_size = 3)"
   ]
  },
  {
   "cell_type": "code",
   "execution_count": null,
   "metadata": {},
   "outputs": [],
   "source": [
    "w = torch.zeros(psf_transform.psf_slen ** 2, psf_transform.n_bands, psf_transform.kernel_size ** 2)\n",
    "w[:, :, 4] = 100.\n",
    "\n",
    "psf_transform.weights = w.to(device)\n"
   ]
  },
  {
   "cell_type": "code",
   "execution_count": null,
   "metadata": {},
   "outputs": [],
   "source": [
    "psf_init = psf_transform.forward().detach()"
   ]
  },
  {
   "cell_type": "code",
   "execution_count": null,
   "metadata": {},
   "outputs": [],
   "source": [
    "psf_transform.weight.shape"
   ]
  },
  {
   "cell_type": "code",
   "execution_count": null,
   "metadata": {},
   "outputs": [],
   "source": [
    "# load trained transform\n",
    "psf_transform.load_state_dict(torch.load('../fits/results_11202019/identity_psf', \n",
    "                                         map_location=lambda storage, loc: storage))\n"
   ]
  },
  {
   "cell_type": "code",
   "execution_count": null,
   "metadata": {},
   "outputs": [],
   "source": [
    "foo = psf_transform.forward()"
   ]
  },
  {
   "cell_type": "code",
   "execution_count": null,
   "metadata": {},
   "outputs": [],
   "source": [
    "np.abs(simulated_datasets_lib._trim_psf(foo, 25).detach().numpy() - psf_og).max()"
   ]
  },
  {
   "cell_type": "code",
   "execution_count": null,
   "metadata": {},
   "outputs": [],
   "source": []
  },
  {
   "cell_type": "code",
   "execution_count": null,
   "metadata": {},
   "outputs": [],
   "source": []
  },
  {
   "cell_type": "code",
   "execution_count": null,
   "metadata": {},
   "outputs": [],
   "source": [
    "import numpy as np"
   ]
  },
  {
   "cell_type": "code",
   "execution_count": null,
   "metadata": {},
   "outputs": [],
   "source": [
    "psf_trained = psf_transform.forward().detach()\n",
    "psf_trained.shape"
   ]
  },
  {
   "cell_type": "raw",
   "metadata": {},
   "source": []
  },
  {
   "cell_type": "code",
   "execution_count": null,
   "metadata": {},
   "outputs": [],
   "source": [
    "# get variational parameters \n",
    "locs = true_full_locs\n",
    "fluxes = true_full_fluxes\n",
    "n_stars = torch.sum(true_full_fluxes[:, :, 0] > 0, dim = 1).type(torch.LongTensor)"
   ]
  },
  {
   "cell_type": "code",
   "execution_count": null,
   "metadata": {},
   "outputs": [],
   "source": [
    "n_stars"
   ]
  },
  {
   "cell_type": "code",
   "execution_count": null,
   "metadata": {},
   "outputs": [],
   "source": [
    "# get original recon mean\n",
    "recon_means1, loss1 = get_psf_loss(full_image, full_background,\n",
    "                    locs, fluxes, n_stars,\n",
    "                    torch.Tensor(psf_init),\n",
    "                    pad = 5)\n",
    "print(loss1)"
   ]
  },
  {
   "cell_type": "code",
   "execution_count": null,
   "metadata": {},
   "outputs": [],
   "source": [
    "# get original recon mean\n",
    "recon_means2, loss2 = get_psf_loss(full_image, full_background,\n",
    "                    locs, fluxes, n_stars,\n",
    "                    psf_trained,\n",
    "                    pad = 5)\n",
    "\n",
    "print(loss2)"
   ]
  },
  {
   "cell_type": "code",
   "execution_count": null,
   "metadata": {},
   "outputs": [],
   "source": [
    "band = 1"
   ]
  },
  {
   "cell_type": "code",
   "execution_count": null,
   "metadata": {},
   "outputs": [],
   "source": [
    "foo = (psf_trained - psf_init)[band, 40:60, 40:60].detach()\n",
    "plt.matshow(foo, vmax = foo.abs().max(), vmin = -foo.abs().max(), cmap = plt.get_cmap('bwr'))\n",
    "plt.colorbar()"
   ]
  },
  {
   "cell_type": "code",
   "execution_count": null,
   "metadata": {},
   "outputs": [],
   "source": [
    "residual1 = torch.log10(recon_means1 / full_image)[0, band, 5:95, 5:95]\n",
    "residual2 = torch.log10(recon_means2 / full_image).detach()[0, band, 5:95, 5:95]"
   ]
  },
  {
   "cell_type": "code",
   "execution_count": null,
   "metadata": {},
   "outputs": [],
   "source": [
    "fig, axarr = plt.subplots(1, 3, figsize=(15, 4))\n",
    "\n",
    "vmax = residual1.abs().max()\n",
    "im0 = axarr[0].matshow(residual1.squeeze(), \n",
    "                      vmax = vmax, vmin = -vmax, cmap=plt.get_cmap('bwr'))\n",
    "fig.colorbar(im0, ax=axarr[0])\n",
    "\n",
    "# vmax = residual2.abs().max()\n",
    "im1 = axarr[1].matshow(residual2.squeeze(), \n",
    "                      vmax = vmax, vmin = -vmax, cmap=plt.get_cmap('bwr'))\n",
    "fig.colorbar(im1, ax=axarr[1])\n",
    "\n",
    "axarr[2].matshow(full_image[0, band, 5:95, 5:95])"
   ]
  },
  {
   "cell_type": "code",
   "execution_count": null,
   "metadata": {},
   "outputs": [],
   "source": [
    "plt.hist(residual2.flatten(), bins = 100);"
   ]
  },
  {
   "cell_type": "code",
   "execution_count": null,
   "metadata": {},
   "outputs": [],
   "source": [
    "import plotting_utils"
   ]
  },
  {
   "cell_type": "code",
   "execution_count": null,
   "metadata": {},
   "outputs": [],
   "source": [
    "fig, axarr = plt.subplots(2, 3, figsize = (20, 12))\n",
    "\n",
    "x0 = 10\n",
    "x1 = 50\n",
    "slen = 30\n",
    "\n",
    "#################\n",
    "# ORIGINAL PSF\n",
    "#################\n",
    "plotting_utils.plot_subimage(axarr[0, 0], torch.log10(full_image.squeeze()), \n",
    "                                None, \n",
    "                                true_full_locs.squeeze(), \n",
    "                                x0, x1, subimage_slen = slen, \n",
    "                                add_colorbar = True, global_fig = fig)\n",
    "axarr[0, 0].set_title('observed')\n",
    "\n",
    "plotting_utils.plot_subimage(axarr[0, 1], recon_means1.squeeze(), \n",
    "                                None, \n",
    "                                true_full_locs.squeeze(), \n",
    "                                x0, x1, subimage_slen = slen, \n",
    "                                add_colorbar = True, global_fig = fig)\n",
    "axarr[0, 1].set_title('simulated, original PSF')\n",
    "\n",
    "_resid = torch.log(recon_means1.squeeze() / full_image.squeeze())\n",
    "vmax = _resid[x0:(x0 + slen), x1:(x1 + slen)].abs().max()\n",
    "plotting_utils.plot_subimage(axarr[0, 2], _resid, \n",
    "                                None, \n",
    "                                true_full_locs.squeeze(), \n",
    "                                x0, x1, subimage_slen = slen, \n",
    "                                vmin = -vmax, vmax = vmax, \n",
    "                                diverging_cmap = True, \n",
    "                                add_colorbar = True, global_fig = fig)\n",
    "axarr[0, 2].set_title('residual, original PSF')\n",
    "\n",
    "#################\n",
    "# TRANSFORMED PSF\n",
    "#################\n",
    "plotting_utils.plot_subimage(axarr[1, 0], torch.log10(full_image.squeeze()), \n",
    "                                None,\n",
    "                                true_full_locs.squeeze(), \n",
    "                                x0, x1, subimage_slen = slen, \n",
    "                                add_colorbar = True, global_fig = fig)\n",
    "axarr[1, 0].set_title('observed')\n",
    "\n",
    "plotting_utils.plot_subimage(axarr[1, 1], recon_means2.squeeze().detach(), \n",
    "                                None, \n",
    "                                true_full_locs.squeeze(), \n",
    "                                x0, x1, subimage_slen = slen, \n",
    "                                add_colorbar = True, global_fig = fig)\n",
    "axarr[1, 1].set_title('simulated, original PSF')\n",
    "\n",
    "_resid2 = torch.log(recon_means2.squeeze().detach() / full_image.squeeze())\n",
    "vmax = _resid[x0:(x0 + slen), x1:(x1 + slen)].abs().max()\n",
    "plotting_utils.plot_subimage(axarr[1, 2], _resid2, \n",
    "                                None, \n",
    "                                true_full_locs.squeeze(), \n",
    "                                x0, x1, subimage_slen = slen, \n",
    "                                vmin = -vmax, vmax = vmax, \n",
    "                                diverging_cmap = True, \n",
    "                                add_colorbar = True, global_fig = fig)\n",
    "axarr[1, 2].set_title('residual, original PSF')\n"
   ]
  },
  {
   "cell_type": "code",
   "execution_count": null,
   "metadata": {},
   "outputs": [],
   "source": []
  },
  {
   "cell_type": "code",
   "execution_count": null,
   "metadata": {},
   "outputs": [],
   "source": []
  },
  {
   "cell_type": "code",
   "execution_count": null,
   "metadata": {},
   "outputs": [],
   "source": []
  },
  {
   "cell_type": "code",
   "execution_count": null,
   "metadata": {},
   "outputs": [],
   "source": []
  },
  {
   "cell_type": "code",
   "execution_count": null,
   "metadata": {},
   "outputs": [],
   "source": [
    "# fig, axarr = plt.subplots(1, 3, figsize=(15, 4))\n",
    "\n",
    "# im0 = axarr[0].matshow(full_image.squeeze())\n",
    "# fig.colorbar(im0, ax=axarr[0])\n",
    "# axarr[0].set_title('observed sdss image\\n')\n",
    "\n",
    "# im1 = axarr[1].matshow(recon_means1.squeeze())\n",
    "# fig.colorbar(im1, ax=axarr[1])\n",
    "# axarr[1].set_title('simulated image\\n')\n",
    "\n",
    "\n",
    "# im2 = axarr[2].matshow(residual1.squeeze(), \n",
    "#                 vmax = vmax, vmin = -vmax, cmap=plt.get_cmap('bwr'))\n",
    "# fig.colorbar(im2, ax=axarr[2])\n",
    "# axarr[2].set_title('residual: (observed - simulated)/observed \\n')\n",
    "\n",
    "\n"
   ]
  },
  {
   "cell_type": "code",
   "execution_count": null,
   "metadata": {},
   "outputs": [],
   "source": [
    "# fig, axarr = plt.subplots(1, 2, figsize=(10, 4))\n",
    "\n",
    "\n",
    "# vmax = residual1.abs().max()\n",
    "# im0 = axarr[0].matshow(residual1.squeeze(), \n",
    "#                       vmax = vmax, vmin = -vmax, cmap=plt.get_cmap('bwr'))\n",
    "# fig.colorbar(im0, ax=axarr[0])\n",
    "\n",
    "# vmax = residual2.abs().max()\n",
    "# im1 = axarr[1].matshow(residual2.squeeze(), \n",
    "#                       vmax = vmax, vmin = -vmax, cmap=plt.get_cmap('bwr'))\n",
    "# fig.colorbar(im1, ax=axarr[1])\n",
    "\n",
    "# # axarr[2].matshow(full_image.squeeze()[5:95, 5:95])"
   ]
  },
  {
   "cell_type": "code",
   "execution_count": null,
   "metadata": {},
   "outputs": [],
   "source": []
  }
 ],
 "metadata": {
  "kernelspec": {
   "display_name": "Python (pytorch_04)",
   "language": "python",
   "name": "pytorch_update"
  },
  "language_info": {
   "codemirror_mode": {
    "name": "ipython",
    "version": 3
   },
   "file_extension": ".py",
   "mimetype": "text/x-python",
   "name": "python",
   "nbconvert_exporter": "python",
   "pygments_lexer": "ipython3",
   "version": "3.6.8"
  }
 },
 "nbformat": 4,
 "nbformat_minor": 2
}

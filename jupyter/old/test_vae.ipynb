{
 "cells": [
  {
   "cell_type": "code",
   "execution_count": null,
   "metadata": {},
   "outputs": [],
   "source": [
    "import numpy as np\n",
    "\n",
    "import matplotlib.pyplot as plt\n",
    "\n",
    "import torch\n",
    "\n",
    "import fitsio\n",
    "\n",
    "import sys\n",
    "sys.path.insert(0, './../')\n",
    "import sdss_psf\n",
    "import simulated_datasets_lib\n",
    "import starnet_vae_lib\n",
    "import inv_kl_objective_lib as inv_kl_objective_lib\n",
    "\n",
    "import utils\n",
    "\n",
    "import json\n",
    "\n",
    "device = torch.device(\"cuda:0\" if torch.cuda.is_available() else \"cpu\")\n",
    "\n",
    "print('torch version: ', torch.__version__)"
   ]
  },
  {
   "cell_type": "code",
   "execution_count": null,
   "metadata": {},
   "outputs": [],
   "source": [
    "# load PSF\n",
    "psf_dir = '../../multiband_pcat/Data/idR-002583-2-0136/psfs/'\n",
    "psf_r = fitsio.FITS(psf_dir + 'sdss-002583-2-0136-psf-r.fits')[0].read()\n",
    "psf_g = fitsio.FITS(psf_dir + 'sdss-002583-2-0136-psf-g.fits')[0].read()\n",
    "psf_og = np.array([psf_r, psf_g])\n",
    "\n",
    "n_bands = psf_og.shape[0]"
   ]
  },
  {
   "cell_type": "code",
   "execution_count": null,
   "metadata": {},
   "outputs": [],
   "source": [
    "np.random.seed(43534)\n",
    "_ = torch.manual_seed(24534)"
   ]
  },
  {
   "cell_type": "markdown",
   "metadata": {},
   "source": [
    "# Draw data"
   ]
  },
  {
   "cell_type": "code",
   "execution_count": null,
   "metadata": {},
   "outputs": [],
   "source": [
    "# data parameters\n",
    "with open('../data/default_star_parameters.json', 'r') as fp:\n",
    "    data_params = json.load(fp)\n",
    "\n",
    "\n",
    "data_params['f_max'] = 1e5\n",
    "\n",
    "print(data_params)\n"
   ]
  },
  {
   "cell_type": "code",
   "execution_count": null,
   "metadata": {},
   "outputs": [],
   "source": []
  },
  {
   "cell_type": "code",
   "execution_count": null,
   "metadata": {},
   "outputs": [],
   "source": [
    "max_stars = data_params['max_stars']"
   ]
  },
  {
   "cell_type": "code",
   "execution_count": null,
   "metadata": {},
   "outputs": [],
   "source": [
    "n_images = 4\n",
    "\n",
    "star_dataset = \\\n",
    "    simulated_datasets_lib.load_dataset_from_params(psf_og,\n",
    "                            data_params,\n",
    "                            n_images = n_images,\n",
    "                            sky_intensity = torch.Tensor([686, 1000]),\n",
    "                            add_noise = True)"
   ]
  },
  {
   "cell_type": "code",
   "execution_count": null,
   "metadata": {},
   "outputs": [],
   "source": []
  },
  {
   "cell_type": "code",
   "execution_count": null,
   "metadata": {},
   "outputs": [],
   "source": [
    "# get loader \n",
    "batchsize = n_images\n",
    "\n",
    "loader = torch.utils.data.DataLoader(\n",
    "                 dataset=star_dataset,\n",
    "                 batch_size=batchsize,\n",
    "                 shuffle=False)\n",
    "\n",
    "loader.dataset.set_params_and_images()"
   ]
  },
  {
   "cell_type": "code",
   "execution_count": null,
   "metadata": {},
   "outputs": [],
   "source": []
  },
  {
   "cell_type": "code",
   "execution_count": null,
   "metadata": {},
   "outputs": [],
   "source": [
    "for _, data in enumerate(loader):\n",
    "    true_full_fluxes = data['fluxes']\n",
    "    true_full_locs = data['locs']\n",
    "    full_images = data['image']\n",
    "    full_backgrounds = data['background']\n",
    "        \n",
    "    break"
   ]
  },
  {
   "cell_type": "code",
   "execution_count": null,
   "metadata": {},
   "outputs": [],
   "source": [
    "data['n_stars']"
   ]
  },
  {
   "cell_type": "code",
   "execution_count": null,
   "metadata": {},
   "outputs": [],
   "source": [
    "for i in range(4): \n",
    "    plt.matshow(full_images[i, 0, :, :] - full_backgrounds[i, 0, :, :])\n",
    "    plt.colorbar()\n",
    "    print((full_images[i, 0, :, :] - full_backgrounds[i, 0, :, :]).min())"
   ]
  },
  {
   "cell_type": "code",
   "execution_count": null,
   "metadata": {},
   "outputs": [],
   "source": []
  },
  {
   "cell_type": "code",
   "execution_count": null,
   "metadata": {},
   "outputs": [],
   "source": []
  },
  {
   "cell_type": "code",
   "execution_count": null,
   "metadata": {},
   "outputs": [],
   "source": []
  },
  {
   "cell_type": "markdown",
   "metadata": {},
   "source": [
    "# Define VAE"
   ]
  },
  {
   "cell_type": "code",
   "execution_count": null,
   "metadata": {},
   "outputs": [],
   "source": [
    "star_encoder = starnet_vae_lib.StarEncoder(full_slen = data_params['slen'],\n",
    "                                           stamp_slen = 7,\n",
    "                                           step = 2,\n",
    "                                           edge_padding = 2,\n",
    "                                           n_bands = n_bands,\n",
    "                                           max_detections = 2)"
   ]
  },
  {
   "cell_type": "markdown",
   "metadata": {},
   "source": [
    "# Check my extraction of subimages"
   ]
  },
  {
   "cell_type": "code",
   "execution_count": null,
   "metadata": {},
   "outputs": [],
   "source": [
    "image_stamps, subimage_locs, subimage_fluxes, n_stars, is_on_array = \\\n",
    "    star_encoder.get_image_stamps(full_images, true_full_locs, true_full_fluxes, trim_images=False)"
   ]
  },
  {
   "cell_type": "code",
   "execution_count": null,
   "metadata": {},
   "outputs": [],
   "source": [
    "plt.hist(n_stars, bins = np.arange(min(n_stars), max(n_stars) + 2))"
   ]
  },
  {
   "cell_type": "code",
   "execution_count": null,
   "metadata": {},
   "outputs": [],
   "source": [
    "# check these two quantities match \n",
    "is_on_array2 = utils.get_is_on_from_n_stars(n_stars, max(n_stars))\n",
    "assert torch.all(is_on_array2 == is_on_array)"
   ]
  },
  {
   "cell_type": "markdown",
   "metadata": {},
   "source": [
    "# check total number of stars"
   ]
  },
  {
   "cell_type": "markdown",
   "metadata": {},
   "source": [
    "This asserts that we indeed have a covering of stars"
   ]
  },
  {
   "cell_type": "code",
   "execution_count": null,
   "metadata": {},
   "outputs": [],
   "source": [
    "for i in range(n_images):\n",
    "    _true_locs = true_full_locs[i] * (data_params['slen'] - 1) \n",
    "\n",
    "    pad = np.float(star_encoder.edge_padding)\n",
    "\n",
    "    n_true_stars = torch.sum((_true_locs[:, 0] > pad) & (_true_locs[:, 1] > pad) & \\\n",
    "                (_true_locs[:, 0] < (data_params['slen'] - pad - 1))& \\\n",
    "                (_true_locs[:, 1] < (data_params['slen']  - pad - 1)))\n",
    "    \n",
    "    n_stamps_per_batch = star_encoder.tile_coords.shape[0]\n",
    "    \n",
    "    # check subimage n_stars add up\n",
    "    assert torch.sum(n_stars[(i * n_stamps_per_batch):((i + 1) * n_stamps_per_batch)]) == n_true_stars\n",
    "    \n",
    "    # check number of nonzero fluxes add up\n",
    "    assert (subimage_fluxes[(i * n_stamps_per_batch):((i + 1) * n_stamps_per_batch), :, 0] > 0).sum() == \\\n",
    "                n_true_stars\n",
    "    assert (subimage_fluxes[(i * n_stamps_per_batch):((i + 1) * n_stamps_per_batch), :, 1] > 0).sum() == \\\n",
    "                n_true_stars\n",
    "    \n",
    "    # check number of nonzero locs add up\n",
    "    assert (subimage_locs[(i * n_stamps_per_batch):((i + 1) * n_stamps_per_batch)] > 0).sum() == \\\n",
    "                (n_true_stars * 2)"
   ]
  },
  {
   "cell_type": "code",
   "execution_count": null,
   "metadata": {},
   "outputs": [],
   "source": []
  },
  {
   "cell_type": "markdown",
   "metadata": {},
   "source": [
    "### assert we have correct number and pattern of nonzero entries"
   ]
  },
  {
   "cell_type": "code",
   "execution_count": null,
   "metadata": {},
   "outputs": [],
   "source": [
    "assert torch.all((subimage_locs * is_on_array.unsqueeze(2).float()) == subimage_locs)\n",
    "assert torch.all((subimage_fluxes * is_on_array.unsqueeze(2).float()) == subimage_fluxes)"
   ]
  },
  {
   "cell_type": "code",
   "execution_count": null,
   "metadata": {},
   "outputs": [],
   "source": [
    "assert torch.all((subimage_locs != 0).view(subimage_locs.shape[0], -1).float().sum(1) == \\\n",
    "                     n_stars.float() * 2)\n",
    "assert torch.all((subimage_fluxes != 0).view(subimage_locs.shape[0], -1).float().sum(1) ==\\\n",
    "                     n_stars.float() * n_bands)"
   ]
  },
  {
   "cell_type": "code",
   "execution_count": null,
   "metadata": {},
   "outputs": [],
   "source": []
  },
  {
   "cell_type": "markdown",
   "metadata": {},
   "source": [
    "### this is what the NN sees"
   ]
  },
  {
   "cell_type": "code",
   "execution_count": null,
   "metadata": {},
   "outputs": [],
   "source": [
    "for i in range(10): \n",
    "    f, axarr = plt.subplots(1, 3, figsize=(12, 6))\n",
    "    indx = int(np.random.choice(image_stamps.shape[0], 1))\n",
    "    \n",
    "    which_nonzero = is_on_array[indx].type(torch.bool)\n",
    "    \n",
    "    # Plot my image patch and subimage locs\n",
    "    im1 = axarr[0].matshow(image_stamps[indx, 0].squeeze())\n",
    "    patch_slen = star_encoder.stamp_slen - 2 * star_encoder.edge_padding\n",
    "    axarr[0].scatter(subimage_locs[indx, which_nonzero, 1] * (patch_slen - 1) + star_encoder.edge_padding, \n",
    "                    subimage_locs[indx, which_nonzero, 0] * (patch_slen - 1) + star_encoder.edge_padding, \n",
    "                    color = 'b')\n",
    "    \n",
    "    # plot subset of full image and subst of full locs; They should match. \n",
    "    x0 = star_encoder.tile_coords[indx % star_encoder.tile_coords.shape[0], 0]\n",
    "    x1 = star_encoder.tile_coords[indx % star_encoder.tile_coords.shape[0], 1]\n",
    "\n",
    "    image_full_i = full_images[indx // star_encoder.tile_coords.shape[0]]\n",
    "    image_patch_i = image_full_i[:, x0:(x0 + star_encoder.stamp_slen), \n",
    "                                         x1:(x1 + star_encoder.stamp_slen)]\n",
    "    axarr[1].matshow(image_patch_i[0])\n",
    "    \n",
    "    # check images match\n",
    "    assert torch.all((image_stamps[indx].squeeze() - image_patch_i) == 0)\n",
    "    \n",
    "    locs_i = true_full_locs[indx // star_encoder.tile_coords.shape[0]] * (star_encoder.full_slen - 1)\n",
    "    \n",
    "    which_locs = ((locs_i[:, 0] > x0.float()) & (locs_i[:, 1] > x1.float())) & \\\n",
    "                    (locs_i[:, 0] < (x0 + star_encoder.stamp_slen).float() - 1) & \\\n",
    "                    (locs_i[:, 1] < (x1 + star_encoder.stamp_slen).float() - 1)\n",
    "            \n",
    "    axarr[1].scatter(locs_i[which_locs, 1] - x1, \n",
    "               locs_i[which_locs, 0] - x0, \n",
    "               marker = 'o', color = 'b')\n",
    "\n",
    "    axarr[1].axvline(x=star_encoder.edge_padding, color = 'r')\n",
    "    axarr[1].axvline(x=star_encoder.stamp_slen - star_encoder.edge_padding - 1, color = 'r')\n",
    "    axarr[1].axhline(y=star_encoder.edge_padding, color = 'r')\n",
    "    axarr[1].axhline(y=star_encoder.stamp_slen - star_encoder.edge_padding - 1, color = 'r')\n",
    "    \n",
    "        \n",
    "    axarr[0].axvline(x=star_encoder.edge_padding, color = 'r')\n",
    "    axarr[0].axvline(x=star_encoder.stamp_slen - star_encoder.edge_padding - 1, color = 'r')\n",
    "    axarr[0].axhline(y=star_encoder.edge_padding, color = 'r')\n",
    "    axarr[0].axhline(y=star_encoder.stamp_slen - star_encoder.edge_padding - 1, color = 'r')\n",
    "    \n",
    "    \n",
    "    #####\n",
    "    # experimentation\n",
    "#     foo = skimage.exposure.equalize_hist(image_full_i.squeeze().numpy())\n",
    "#     im2 = axarr[2].matshow(foo[x0:(x0 + star_encoder.stamp_slen), \n",
    "#                         x1:(x1 + star_encoder.stamp_slen)])\n",
    "#     f.colorbar(im2, ax = axarr[2])"
   ]
  },
  {
   "cell_type": "code",
   "execution_count": null,
   "metadata": {},
   "outputs": [],
   "source": []
  },
  {
   "cell_type": "markdown",
   "metadata": {},
   "source": [
    "# Check my output parameters"
   ]
  },
  {
   "cell_type": "code",
   "execution_count": null,
   "metadata": {},
   "outputs": [],
   "source": [
    "image_stamps, subimage_locs, subimage_fluxes, n_stars, is_on_array = \\\n",
    "    star_encoder.get_image_stamps(full_images, true_full_locs, true_full_fluxes, \n",
    "                                  trim_images=False, clip_max_stars = True)"
   ]
  },
  {
   "cell_type": "code",
   "execution_count": null,
   "metadata": {},
   "outputs": [],
   "source": [
    "background_stamps = full_backgrounds.mean() # TODO"
   ]
  },
  {
   "cell_type": "code",
   "execution_count": null,
   "metadata": {},
   "outputs": [],
   "source": [
    "logit_loc_mean, logit_loc_log_var, \\\n",
    "    log_flux_mean, log_flux_log_var, log_probs = \\\n",
    "        star_encoder(image_stamps, background_stamps, n_stars)"
   ]
  },
  {
   "cell_type": "code",
   "execution_count": null,
   "metadata": {},
   "outputs": [],
   "source": [
    "star_encoder.locs_mean_indx_mat"
   ]
  },
  {
   "cell_type": "code",
   "execution_count": null,
   "metadata": {},
   "outputs": [],
   "source": [
    "star_encoder.locs_var_indx_mat"
   ]
  },
  {
   "cell_type": "code",
   "execution_count": null,
   "metadata": {},
   "outputs": [],
   "source": [
    "star_encoder.fluxes_mean_indx_mat"
   ]
  },
  {
   "cell_type": "code",
   "execution_count": null,
   "metadata": {},
   "outputs": [],
   "source": [
    "star_encoder.fluxes_var_indx_mat"
   ]
  },
  {
   "cell_type": "code",
   "execution_count": null,
   "metadata": {},
   "outputs": [],
   "source": []
  },
  {
   "cell_type": "code",
   "execution_count": null,
   "metadata": {},
   "outputs": [],
   "source": []
  },
  {
   "cell_type": "code",
   "execution_count": null,
   "metadata": {},
   "outputs": [],
   "source": []
  },
  {
   "cell_type": "markdown",
   "metadata": {},
   "source": [
    "### Check we have the correct number (and pattern) of nonzero entries"
   ]
  },
  {
   "cell_type": "code",
   "execution_count": null,
   "metadata": {},
   "outputs": [],
   "source": [
    "assert torch.all((logit_loc_mean * is_on_array.unsqueeze(2).float()) == logit_loc_mean)\n",
    "assert torch.all((logit_loc_log_var * is_on_array.unsqueeze(2).float()) == logit_loc_log_var)\n",
    "\n",
    "\n",
    "assert torch.all((log_flux_mean * is_on_array.unsqueeze(2).float()) == log_flux_mean)\n",
    "assert torch.all((log_flux_log_var * is_on_array.unsqueeze(2).float()) == log_flux_log_var)"
   ]
  },
  {
   "cell_type": "code",
   "execution_count": null,
   "metadata": {},
   "outputs": [],
   "source": [
    "assert torch.all((logit_loc_mean != 0).view(logit_loc_mean.shape[0], -1).float().sum(1) == \\\n",
    "                     n_stars.float() * 2)\n",
    "assert torch.all((logit_loc_log_var != 0).view(logit_loc_log_var.shape[0], -1).float().sum(1) == \\\n",
    "                     n_stars.float() * 2)\n",
    "\n",
    "# assert torch.all((log_flux_mean != 0).float().sum(1) == n_stars.float())\n",
    "# assert torch.all((log_flux_log_var != 0).float().sum(1) == n_stars.float())"
   ]
  },
  {
   "cell_type": "code",
   "execution_count": null,
   "metadata": {},
   "outputs": [],
   "source": []
  },
  {
   "cell_type": "code",
   "execution_count": null,
   "metadata": {},
   "outputs": [],
   "source": [
    "# check sample star encoder"
   ]
  },
  {
   "cell_type": "code",
   "execution_count": null,
   "metadata": {
    "code_folding": []
   },
   "outputs": [],
   "source": [
    "locs_full_image, fluxes_full_image, n_stars_full, \\\n",
    "    log_q_locs, log_q_fluxes, log_q_n_stars = \\\n",
    "        star_encoder.sample_star_encoder(full_images[0:1], full_backgrounds[0:1], \n",
    "                                 return_log_q=True, return_map = False, n_samples = 3)"
   ]
  }
 ],
 "metadata": {
  "kernelspec": {
   "display_name": "Python (pytorch_04)",
   "language": "python",
   "name": "pytorch_update"
  },
  "language_info": {
   "codemirror_mode": {
    "name": "ipython",
    "version": 3
   },
   "file_extension": ".py",
   "mimetype": "text/x-python",
   "name": "python",
   "nbconvert_exporter": "python",
   "pygments_lexer": "ipython3",
   "version": "3.6.8"
  }
 },
 "nbformat": 4,
 "nbformat_minor": 2
}

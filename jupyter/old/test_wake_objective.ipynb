{
 "cells": [
  {
   "cell_type": "code",
   "execution_count": null,
   "metadata": {},
   "outputs": [],
   "source": [
    "import numpy as np\n",
    "\n",
    "import matplotlib.pyplot as plt\n",
    "\n",
    "import torch\n",
    "\n",
    "import sys\n",
    "sys.path.insert(0, './../')\n",
    "import sdss_psf\n",
    "import simulated_datasets_lib\n",
    "import sdss_dataset_lib\n",
    "import starnet_vae_lib\n",
    "import psf_transform_lib\n",
    "\n",
    "import utils\n",
    "\n",
    "import json\n",
    "\n",
    "device = torch.device(\"cuda:0\" if torch.cuda.is_available() else \"cpu\")\n",
    "\n",
    "print('torch version: ', torch.__version__)"
   ]
  },
  {
   "cell_type": "code",
   "execution_count": null,
   "metadata": {},
   "outputs": [],
   "source": [
    "np.random.seed(43534)\n",
    "_ = torch.manual_seed(24534)"
   ]
  },
  {
   "cell_type": "markdown",
   "metadata": {},
   "source": [
    "# Load data"
   ]
  },
  {
   "cell_type": "code",
   "execution_count": null,
   "metadata": {},
   "outputs": [],
   "source": [
    "sdss_hubble_data = sdss_dataset_lib.SDSSHubbleData()"
   ]
  },
  {
   "cell_type": "code",
   "execution_count": null,
   "metadata": {},
   "outputs": [],
   "source": [
    "full_image = sdss_hubble_data.sdss_image.unsqueeze(0).to(device)\n",
    "full_background = sdss_hubble_data.sdss_background.unsqueeze(0).to(device)"
   ]
  },
  {
   "cell_type": "code",
   "execution_count": null,
   "metadata": {},
   "outputs": [],
   "source": []
  },
  {
   "cell_type": "markdown",
   "metadata": {},
   "source": [
    "# Define VAE"
   ]
  },
  {
   "cell_type": "code",
   "execution_count": null,
   "metadata": {},
   "outputs": [],
   "source": [
    "star_encoder = starnet_vae_lib.StarEncoder(full_slen = full_image.shape[-1],\n",
    "                                           stamp_slen = 9,\n",
    "                                           step = 2,\n",
    "                                           edge_padding = 3,\n",
    "                                           n_bands = 1,\n",
    "                                           max_detections = 2)"
   ]
  },
  {
   "cell_type": "code",
   "execution_count": null,
   "metadata": {},
   "outputs": [],
   "source": [
    "star_encoder.load_state_dict(torch.load('../fits/starnet-10162019-reweighted', \n",
    "                                       map_location=lambda storage, loc: storage))\n",
    "star_encoder.eval(); "
   ]
  },
  {
   "cell_type": "markdown",
   "metadata": {},
   "source": [
    "# Sample parameters"
   ]
  },
  {
   "cell_type": "code",
   "execution_count": null,
   "metadata": {},
   "outputs": [],
   "source": [
    "n_samples = 10"
   ]
  },
  {
   "cell_type": "code",
   "execution_count": null,
   "metadata": {},
   "outputs": [],
   "source": [
    "# sample variational parameters\n",
    "sampled_locs_full_image, sampled_fluxes_full_image, sampled_n_stars_full, \\\n",
    "    log_q_locs, log_q_fluxes, log_q_n_stars = \\\n",
    "        star_encoder.sample_star_encoder(full_image, full_background,\n",
    "                                n_samples, return_map = False,\n",
    "                                return_log_q = True)\n"
   ]
  },
  {
   "cell_type": "code",
   "execution_count": null,
   "metadata": {},
   "outputs": [],
   "source": []
  },
  {
   "cell_type": "markdown",
   "metadata": {},
   "source": [
    "# Get loss and reconstruction "
   ]
  },
  {
   "cell_type": "code",
   "execution_count": null,
   "metadata": {},
   "outputs": [],
   "source": [
    "psf_fit_file = str(sdss_hubble_data.psf_file)"
   ]
  },
  {
   "cell_type": "code",
   "execution_count": null,
   "metadata": {},
   "outputs": [],
   "source": [
    "psf_og = sdss_psf.psf_at_points(0, 0, psf_fit_file = psf_fit_file)"
   ]
  },
  {
   "cell_type": "code",
   "execution_count": null,
   "metadata": {},
   "outputs": [],
   "source": [
    "psf = torch.Tensor(simulated_datasets_lib._expand_psf(psf_og, full_image.shape[-1])).to(device)"
   ]
  },
  {
   "cell_type": "code",
   "execution_count": null,
   "metadata": {},
   "outputs": [],
   "source": [
    "recon_means, neg_logprob = psf_transform_lib.get_psf_loss(full_image, full_background,\n",
    "                                            sampled_locs_full_image,\n",
    "                                            sampled_fluxes_full_image,\n",
    "                                            n_stars = sampled_n_stars_full,\n",
    "                                            psf = psf,\n",
    "                                            pad = 5)"
   ]
  },
  {
   "cell_type": "code",
   "execution_count": null,
   "metadata": {},
   "outputs": [],
   "source": []
  },
  {
   "cell_type": "code",
   "execution_count": null,
   "metadata": {},
   "outputs": [],
   "source": [
    "for i in range(n_samples): \n",
    "    fig, axarr = plt.subplots(1, 3, figsize=(15, 6))\n",
    "\n",
    "    axarr[0].matshow(full_image.squeeze())\n",
    "    axarr[0].set_title('observed')\n",
    "\n",
    "    axarr[1].matshow(recon_means[i].squeeze().detach())\n",
    "    axarr[1].set_title('sample reconstruction '+ str(i))\n",
    "\n",
    "\n",
    "    _resid = recon_means[i].squeeze().detach() - full_image.squeeze()\n",
    "    vmax = _resid.abs().max()\n",
    "    im2 = axarr[2].matshow(_resid, vmax = vmax, vmin = -vmax, \n",
    "                           cmap=plt.get_cmap('bwr'))\n",
    "    fig.colorbar(im2, ax=axarr[2])\n",
    "    axarr[2].set_title('sample residual ' + str(i))\n",
    "\n"
   ]
  },
  {
   "cell_type": "markdown",
   "metadata": {},
   "source": [
    "# Check losses match"
   ]
  },
  {
   "cell_type": "code",
   "execution_count": null,
   "metadata": {},
   "outputs": [],
   "source": [
    "i = 0"
   ]
  },
  {
   "cell_type": "code",
   "execution_count": null,
   "metadata": {},
   "outputs": [],
   "source": [
    "pad = 5\n",
    "slen = full_image.shape[-1]\n",
    "\n",
    "for i in range(n_samples): \n",
    "    _full_image = full_image.squeeze()[pad:(slen - pad), pad:(slen - pad)]\n",
    "    _recon_means = recon_means[i, 0, pad:(slen - pad), pad:(slen - pad)].clamp(min = 100)\n",
    "\n",
    "    foo = -utils.eval_normal_logprob(_full_image,\n",
    "                    _recon_means,\n",
    "                    torch.log(_recon_means)).sum()\n",
    "\n",
    "    assert foo == neg_logprob[i]"
   ]
  },
  {
   "cell_type": "code",
   "execution_count": null,
   "metadata": {},
   "outputs": [],
   "source": []
  },
  {
   "cell_type": "markdown",
   "metadata": {},
   "source": [
    "# Check loss at map value"
   ]
  },
  {
   "cell_type": "code",
   "execution_count": null,
   "metadata": {},
   "outputs": [],
   "source": [
    "# sample variational parameters\n",
    "map_locs_full_image, map_fluxes_full_image, map_n_stars_full, \\\n",
    "    log_q_locs, log_q_fluxes, log_q_n_stars = \\\n",
    "        star_encoder.sample_star_encoder(full_image, full_background,\n",
    "                                n_samples = 1, return_map = True,\n",
    "                                return_log_q = True)"
   ]
  },
  {
   "cell_type": "code",
   "execution_count": null,
   "metadata": {},
   "outputs": [],
   "source": [
    "map_recon_mean, map_neg_logprob = psf_transform_lib.get_psf_loss(full_image, full_background,\n",
    "                                            map_locs_full_image,\n",
    "                                            map_fluxes_full_image,\n",
    "                                            n_stars = map_n_stars_full,\n",
    "                                            psf = psf,\n",
    "                                            pad = 5)"
   ]
  },
  {
   "cell_type": "code",
   "execution_count": null,
   "metadata": {},
   "outputs": [],
   "source": [
    "map_neg_logprob"
   ]
  },
  {
   "cell_type": "code",
   "execution_count": null,
   "metadata": {},
   "outputs": [],
   "source": [
    "neg_logprob"
   ]
  },
  {
   "cell_type": "markdown",
   "metadata": {},
   "source": [
    "# Check loss at true value"
   ]
  },
  {
   "cell_type": "code",
   "execution_count": null,
   "metadata": {},
   "outputs": [],
   "source": [
    "true_n_stars = (sdss_hubble_data.fluxes > 0).sum()"
   ]
  },
  {
   "cell_type": "code",
   "execution_count": null,
   "metadata": {},
   "outputs": [],
   "source": [
    "true_recon_mean, true_neg_logprob = psf_transform_lib.get_psf_loss(full_image, full_background,\n",
    "                                            sdss_hubble_data.locs.unsqueeze(0),\n",
    "                                            sdss_hubble_data.fluxes.unsqueeze(0),\n",
    "                                            n_stars = torch.Tensor([true_n_stars]).type(torch.long),\n",
    "                                            psf = psf,\n",
    "                                            pad = 5)"
   ]
  },
  {
   "cell_type": "code",
   "execution_count": null,
   "metadata": {},
   "outputs": [],
   "source": [
    "    fig, axarr = plt.subplots(1, 3, figsize=(15, 6))\n",
    "\n",
    "    axarr[0].matshow(full_image.squeeze())\n",
    "    axarr[0].set_title('observed')\n",
    "\n",
    "    axarr[1].matshow(true_recon_mean.squeeze().detach())\n",
    "    axarr[1].set_title('sample reconstruction '+ str(i))\n",
    "\n",
    "\n",
    "    _resid = true_recon_mean.squeeze().detach() - full_image.squeeze()\n",
    "    vmax = _resid.abs().max()\n",
    "    im2 = axarr[2].matshow(_resid, vmax = vmax, vmin = -vmax, \n",
    "                           cmap=plt.get_cmap('bwr'))\n",
    "    fig.colorbar(im2, ax=axarr[2])\n",
    "    axarr[2].set_title('sample residual ' + str(i))\n",
    "\n"
   ]
  },
  {
   "cell_type": "code",
   "execution_count": null,
   "metadata": {},
   "outputs": [],
   "source": [
    "true_neg_logprob"
   ]
  },
  {
   "cell_type": "code",
   "execution_count": null,
   "metadata": {},
   "outputs": [],
   "source": []
  },
  {
   "cell_type": "code",
   "execution_count": null,
   "metadata": {},
   "outputs": [],
   "source": []
  }
 ],
 "metadata": {
  "kernelspec": {
   "display_name": "Python (pytorch_04)",
   "language": "python",
   "name": "pytorch_update"
  },
  "language_info": {
   "codemirror_mode": {
    "name": "ipython",
    "version": 3
   },
   "file_extension": ".py",
   "mimetype": "text/x-python",
   "name": "python",
   "nbconvert_exporter": "python",
   "pygments_lexer": "ipython3",
   "version": "3.6.8"
  }
 },
 "nbformat": 4,
 "nbformat_minor": 2
}

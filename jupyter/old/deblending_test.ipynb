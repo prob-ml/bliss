{
 "cells": [
  {
   "cell_type": "code",
   "execution_count": null,
   "metadata": {},
   "outputs": [],
   "source": [
    "import numpy as np\n",
    "import torch\n",
    "\n",
    "import json\n",
    "\n",
    "import matplotlib.pyplot as plt\n",
    "\n",
    "import sys\n",
    "sys.path.insert(0, '../')\n",
    "import simulated_datasets_lib\n",
    "import sdss_dataset_lib\n",
    "import sdss_psf\n",
    "import image_utils \n",
    "\n",
    "import starnet_lib\n",
    "import inv_kl_objective_lib as inv_kl_lib\n",
    "import plotting_utils\n",
    "import wake_sleep_lib\n",
    "\n",
    "import psf_transform_lib\n",
    "import image_statistics_lib\n",
    "\n",
    "np.random.seed(34534)"
   ]
  },
  {
   "cell_type": "code",
   "execution_count": null,
   "metadata": {},
   "outputs": [],
   "source": []
  },
  {
   "cell_type": "code",
   "execution_count": null,
   "metadata": {},
   "outputs": [],
   "source": []
  },
  {
   "cell_type": "markdown",
   "metadata": {},
   "source": [
    "# Load the data"
   ]
  },
  {
   "cell_type": "code",
   "execution_count": null,
   "metadata": {},
   "outputs": [],
   "source": [
    "f_min = 1000."
   ]
  },
  {
   "cell_type": "code",
   "execution_count": null,
   "metadata": {},
   "outputs": [],
   "source": [
    "bands = [2]"
   ]
  },
  {
   "cell_type": "code",
   "execution_count": null,
   "metadata": {},
   "outputs": [],
   "source": [
    "sdss_hubble_data = sdss_dataset_lib.SDSSHubbleData(bands = bands)\n",
    "\n",
    "# image \n",
    "full_image = sdss_hubble_data.sdss_image.unsqueeze(0)\n",
    "full_background = sdss_hubble_data.sdss_background.unsqueeze(0)\n",
    "\n",
    "# true parameters\n",
    "which_bright = (sdss_hubble_data.fluxes[:, 0] > f_min)\n",
    "true_locs = sdss_hubble_data.locs[which_bright]\n",
    "true_fluxes = sdss_hubble_data.fluxes[which_bright]\n"
   ]
  },
  {
   "cell_type": "code",
   "execution_count": null,
   "metadata": {},
   "outputs": [],
   "source": [
    "plt.matshow(full_image[0, 0])\n",
    "plt.colorbar()"
   ]
  },
  {
   "cell_type": "markdown",
   "metadata": {},
   "source": [
    "# Load SDSS PSF"
   ]
  },
  {
   "cell_type": "code",
   "execution_count": null,
   "metadata": {},
   "outputs": [],
   "source": [
    "import fitsio"
   ]
  },
  {
   "cell_type": "code",
   "execution_count": null,
   "metadata": {},
   "outputs": [],
   "source": [
    "psf_dir = '../../multiband_pcat/Data/idR-002583-2-0136/psfs/'\n",
    "psf_r = fitsio.FITS(psf_dir + 'sdss-002583-2-0136-psf-r.fits')[0].read()\n",
    "psf_i = fitsio.FITS(psf_dir + 'sdss-002583-2-0136-psf-i.fits')[0].read()\n",
    "\n",
    "psf_og = np.array([psf_r])\n",
    "# psf_og = np.loadtxt('../data/my_r_psf.txt')[None]\n"
   ]
  },
  {
   "cell_type": "code",
   "execution_count": null,
   "metadata": {},
   "outputs": [],
   "source": [
    "psf_init = torch.Tensor(simulated_datasets_lib._expand_psf(psf_og, full_image.shape[-1]))"
   ]
  },
  {
   "cell_type": "code",
   "execution_count": null,
   "metadata": {},
   "outputs": [],
   "source": []
  },
  {
   "cell_type": "markdown",
   "metadata": {},
   "source": [
    "# True PSF "
   ]
  },
  {
   "cell_type": "code",
   "execution_count": null,
   "metadata": {},
   "outputs": [],
   "source": [
    "psf_transform = psf_transform_lib.PsfLocalTransform(torch.Tensor(psf_og),\n",
    "                                    full_image.shape[-1], \n",
    "                                    kernel_size = 3)"
   ]
  },
  {
   "cell_type": "code",
   "execution_count": null,
   "metadata": {},
   "outputs": [],
   "source": [
    "psf_transform.load_state_dict(torch.load('../fits/results_11202019/true_psf_transform_630x310_r',\n",
    "                                             map_location=lambda storage, loc: storage))\n",
    "    \n",
    "psf_truth = psf_transform.forward().detach()"
   ]
  },
  {
   "cell_type": "code",
   "execution_count": null,
   "metadata": {},
   "outputs": [],
   "source": [
    "# Check losses to make sure it was loaded correctly \n",
    "\n",
    "recon_mean_init, init_loss = \\\n",
    "        psf_transform_lib.get_psf_loss(full_image, \n",
    "                                        full_background,\n",
    "                                        sdss_hubble_data.locs.unsqueeze(0), \n",
    "                                        sdss_hubble_data.fluxes.unsqueeze(0), \n",
    "                                        n_stars = torch.Tensor([len(sdss_hubble_data.fluxes)]).type(torch.long), \n",
    "                                        psf = psf_init,\n",
    "                                        pad = 5)\n",
    "recon_mean_truth, truth_loss = \\\n",
    "        psf_transform_lib.get_psf_loss(full_image, \n",
    "                                        full_background,\n",
    "                                        sdss_hubble_data.locs.unsqueeze(0), \n",
    "                                        sdss_hubble_data.fluxes.unsqueeze(0), \n",
    "                                        n_stars = torch.Tensor([len(sdss_hubble_data.fluxes)]).type(torch.long), \n",
    "                                        psf = psf_truth,\n",
    "                                        pad = 5)"
   ]
  },
  {
   "cell_type": "code",
   "execution_count": null,
   "metadata": {},
   "outputs": [],
   "source": [
    "print('init loss: ', init_loss)\n",
    "print('truth loss: ', truth_loss)"
   ]
  },
  {
   "cell_type": "code",
   "execution_count": null,
   "metadata": {},
   "outputs": [],
   "source": [
    "band = 0"
   ]
  },
  {
   "cell_type": "code",
   "execution_count": null,
   "metadata": {},
   "outputs": [],
   "source": [
    "fig, axarr = plt.subplots(1, 2, figsize=(15, 4))\n",
    "\n",
    "residual_init = ((recon_mean_init[0, band] - full_image[0, band]) / full_image[0, band])\n",
    "vmax = residual_init.abs().max()\n",
    "im0 = axarr[0].matshow(residual_init, vmin = -vmax, vmax = vmax, cmap=plt.get_cmap('bwr'))\n",
    "fig.colorbar(im0, ax = axarr[0])\n",
    "\n",
    "residual_truth = ((recon_mean_truth[0, band] - full_image[0, band]) / full_image[0, band])\n",
    "vmax = residual_truth.abs().max()\n",
    "im0 = axarr[1].matshow(residual_truth, vmin = -vmax, vmax = vmax, cmap=plt.get_cmap('bwr'))\n",
    "fig.colorbar(im0, ax = axarr[1])"
   ]
  },
  {
   "cell_type": "code",
   "execution_count": null,
   "metadata": {},
   "outputs": [],
   "source": []
  },
  {
   "cell_type": "code",
   "execution_count": null,
   "metadata": {},
   "outputs": [],
   "source": []
  },
  {
   "cell_type": "markdown",
   "metadata": {},
   "source": [
    "# Our simulator"
   ]
  },
  {
   "cell_type": "code",
   "execution_count": null,
   "metadata": {},
   "outputs": [],
   "source": [
    "sky_intensity = full_background.reshape(full_background.shape[1], -1).mean(1)\n",
    "\n",
    "simulator = simulated_datasets_lib.StarSimulator(psf_truth, \n",
    "                                                 slen=full_image.shape[-1], \n",
    "                                                 transpose_psf = False, \n",
    "                                                 sky_intensity = sky_intensity)"
   ]
  },
  {
   "cell_type": "code",
   "execution_count": null,
   "metadata": {},
   "outputs": [],
   "source": [
    "# check again \n",
    "_recon_mean_truth = simulator.draw_image_from_params(sdss_hubble_data.locs.unsqueeze(0), \n",
    "                                sdss_hubble_data.fluxes.unsqueeze(0), \n",
    "                                n_stars = torch.Tensor([len(sdss_hubble_data.fluxes)]).type(torch.long), \n",
    "                                add_noise = False)"
   ]
  },
  {
   "cell_type": "code",
   "execution_count": null,
   "metadata": {},
   "outputs": [],
   "source": [
    "_residual_truth = ((_recon_mean_truth[0, band] - full_image[0, band]) / full_image[0, band])\n",
    "vmax = residual_truth.abs().max()\n",
    "plt.matshow(_residual_truth, vmin = -vmax, vmax = vmax, cmap=plt.get_cmap('bwr'))\n",
    "plt.colorbar()"
   ]
  },
  {
   "cell_type": "markdown",
   "metadata": {},
   "source": [
    "# define VAEs"
   ]
  },
  {
   "cell_type": "code",
   "execution_count": null,
   "metadata": {},
   "outputs": [],
   "source": [
    "star_encoder1 = starnet_lib.StarEncoder(full_slen = full_image.shape[-1],\n",
    "                                           stamp_slen = 7,\n",
    "                                           step = 2,\n",
    "                                           edge_padding = 2,\n",
    "                                           n_bands = len(bands),\n",
    "                                           max_detections = 2)"
   ]
  },
  {
   "cell_type": "code",
   "execution_count": null,
   "metadata": {},
   "outputs": [],
   "source": [
    "star_encoder1.load_state_dict(torch.load('../fits/results_11202019/starnet_r', \n",
    "                                       map_location=lambda storage, loc: storage))"
   ]
  },
  {
   "cell_type": "code",
   "execution_count": null,
   "metadata": {},
   "outputs": [],
   "source": [
    "star_encoder1.eval();"
   ]
  },
  {
   "cell_type": "code",
   "execution_count": null,
   "metadata": {},
   "outputs": [],
   "source": [
    "star_encoder2 = starnet_lib.StarEncoder(full_slen = full_image.shape[-1],\n",
    "                                           stamp_slen = 7,\n",
    "                                           step = 2,\n",
    "                                           edge_padding = 2,\n",
    "                                           n_bands = len(bands),\n",
    "                                           max_detections = 2)"
   ]
  },
  {
   "cell_type": "code",
   "execution_count": null,
   "metadata": {},
   "outputs": [],
   "source": [
    "star_encoder2.load_state_dict(torch.load('../fits/results_11202019/wake-sleep_630x310_r-encoder-iter6', \n",
    "                                       map_location=lambda storage, loc: storage))"
   ]
  },
  {
   "cell_type": "code",
   "execution_count": null,
   "metadata": {},
   "outputs": [],
   "source": [
    "star_encoder2.eval();"
   ]
  },
  {
   "cell_type": "markdown",
   "metadata": {},
   "source": [
    "# Draw image patches"
   ]
  },
  {
   "cell_type": "code",
   "execution_count": null,
   "metadata": {},
   "outputs": [],
   "source": [
    "n_tests = 100\n",
    "locs = torch.ones((n_tests, 2, 2))\n",
    "# location of first star\n",
    "locs[:, 0, 0] = 49.2 / 100\n",
    "locs[:, 0, 1] = 49.2 / 100\n",
    "\n",
    "locs[:, 1, 0] = 50.8 / 100\n",
    "locs[:, 1, 1] = 50.8 / 100\n",
    "\n",
    "fluxes = torch.ones((n_tests, 2, 1)) * 1e4\n",
    "\n",
    "n_stars = (torch.ones(n_tests) * 2).type(torch.long)"
   ]
  },
  {
   "cell_type": "code",
   "execution_count": null,
   "metadata": {},
   "outputs": [],
   "source": [
    "image_patches = simulator.draw_image_from_params(locs, fluxes, n_stars, add_noise = True)[:, :, 47:54, 47:54]"
   ]
  },
  {
   "cell_type": "code",
   "execution_count": null,
   "metadata": {},
   "outputs": [],
   "source": [
    "plt.matshow(image_patches[0, 0])"
   ]
  },
  {
   "cell_type": "code",
   "execution_count": null,
   "metadata": {},
   "outputs": [],
   "source": []
  },
  {
   "cell_type": "code",
   "execution_count": null,
   "metadata": {},
   "outputs": [],
   "source": []
  },
  {
   "cell_type": "code",
   "execution_count": null,
   "metadata": {},
   "outputs": [],
   "source": []
  },
  {
   "cell_type": "code",
   "execution_count": null,
   "metadata": {},
   "outputs": [],
   "source": [
    "background_stamps = torch.ones(image_patches.shape) * full_background.mean()\n",
    "probs = star_encoder1(image_patches, background_stamps)[4]"
   ]
  },
  {
   "cell_type": "code",
   "execution_count": null,
   "metadata": {},
   "outputs": [],
   "source": [
    "probs.argmax(1)"
   ]
  },
  {
   "cell_type": "code",
   "execution_count": null,
   "metadata": {},
   "outputs": [],
   "source": [
    "probs = star_encoder2(image_patches, background_stamps)[4]"
   ]
  },
  {
   "cell_type": "code",
   "execution_count": null,
   "metadata": {},
   "outputs": [],
   "source": []
  },
  {
   "cell_type": "code",
   "execution_count": null,
   "metadata": {},
   "outputs": [],
   "source": [
    "n_tests = 100\n",
    "locs = torch.ones((n_tests, 2, 2))\n",
    "\n",
    "delta = np.arange(0.0, 1.7, 0.1)\n",
    "\n",
    "probs1_vec = np.zeros(len(delta))\n",
    "probs2_vec = np.zeros(len(delta))\n",
    "\n",
    "for i in range(len(delta)): \n",
    "    # location of first star\n",
    "    locs[:, 0, 0] = 49.2 / 100\n",
    "    locs[:, 0, 1] = 49.2 / 100\n",
    "    \n",
    "    # location of second star\n",
    "    locs[:, 1, 0] = (49.2 + delta[i]) / 100\n",
    "    locs[:, 1, 1] = (49.2 + delta[i]) / 100\n",
    "    \n",
    "    # set fluxes\n",
    "    fluxes = torch.ones((n_tests, 2, 1))\n",
    "    fluxes[:, 0, :] = 1e4\n",
    "    fluxes[:, 1, :] = 1e4\n",
    "    \n",
    "    # number of stars\n",
    "    n_stars = (torch.ones(n_tests) * 2).type(torch.long)\n",
    "    \n",
    "    # draw image \n",
    "    image_patches = simulator.draw_image_from_params(locs, fluxes, n_stars, add_noise = True)[:, :, 47:54, 47:54]\n",
    "    background_stamps = torch.ones(image_patches.shape) * full_background.mean()\n",
    "\n",
    "    # infer\n",
    "    log_probs1 = star_encoder1(image_patches, background_stamps)[4]\n",
    "    log_probs2 = star_encoder2(image_patches, background_stamps)[4]\n",
    "    \n",
    "#     probs1_vec[i] = torch.exp(log_probs1[:, 2]).mean()\n",
    "#     probs2_vec[i] = torch.exp(log_probs2[:, 2]).mean()\n",
    "    probs1_vec[i] = (log_probs1.argmax(1) == 2).float().mean()\n",
    "    probs2_vec[i] = (log_probs2.argmax(1) == 2).float().mean()\n",
    "    "
   ]
  },
  {
   "cell_type": "code",
   "execution_count": null,
   "metadata": {},
   "outputs": [],
   "source": [
    "save_fig = False"
   ]
  },
  {
   "cell_type": "code",
   "execution_count": null,
   "metadata": {},
   "outputs": [],
   "source": [
    "plt.plot(delta * np.sqrt(2), probs1_vec, '-x', color = 'orange', label = 'sleep-only')\n",
    "plt.plot(delta * np.sqrt(2), probs2_vec, '-x', color = 'red', label = 'wake-sleep')\n",
    "\n",
    "plt.xlabel('Separation, $\\delta$', size = 16)\n",
    "plt.ylabel('True positive rate', size = 16)\n",
    "plt.legend()\n",
    "\n",
    "if save_fig: \n",
    "    plt.savefig('../../qualifying_exam_slides/figures/deblending_test.png')"
   ]
  },
  {
   "cell_type": "code",
   "execution_count": null,
   "metadata": {},
   "outputs": [],
   "source": [
    "# Example for paper\n",
    "n_tests = 100\n",
    "locs = torch.ones((n_tests, 2, 2))\n",
    "# location of first star\n",
    "locs[:, 0, 0] = 49.2 / 100\n",
    "locs[:, 0, 1] = 49.2 / 100\n",
    "\n",
    "locs[:, 1, 0] = 50.0 / 100\n",
    "locs[:, 1, 1] = 50.0 / 100\n",
    "\n",
    "fluxes = torch.ones((n_tests, 2, 1)) \n",
    "fluxes[:, 0, :] = 2.3e4\n",
    "fluxes[:, 1, :] = 1e4\n",
    "\n",
    "\n",
    "n_stars = (torch.ones(n_tests) * 2).type(torch.long)"
   ]
  },
  {
   "cell_type": "code",
   "execution_count": null,
   "metadata": {},
   "outputs": [],
   "source": [
    "image_patches = simulator.draw_image_from_params(locs, fluxes, n_stars, add_noise = True)[:, :, 47:54, 47:54]"
   ]
  },
  {
   "cell_type": "code",
   "execution_count": null,
   "metadata": {},
   "outputs": [],
   "source": [
    "plt.matshow(image_patches[0, 0, 0:6, 0:6])\n",
    "plt.scatter(locs[0, :, 1] * 100 - 47, locs[0, :, 0] * 100 - 47, color = 'blue')\n",
    "plt.arrow(locs[0, 0, 1] * 100 - 47 + 0.05, \n",
    "      locs[0, 0, 1] * 100 - 47 + 0.05, \n",
    "      0.7, 0.7, length_includes_head = True, color = 'red')\n",
    "\n",
    "plt.text(2.8, 2.7, '$\\delta$', color = 'red', size = 16)\n",
    "\n",
    "if save_fig: \n",
    "    plt.savefig('../../qualifying_exam_slides/figures/deblending_test_ex.png')"
   ]
  },
  {
   "cell_type": "code",
   "execution_count": null,
   "metadata": {},
   "outputs": [],
   "source": []
  },
  {
   "cell_type": "markdown",
   "metadata": {},
   "source": [
    "# Test of one star"
   ]
  },
  {
   "cell_type": "code",
   "execution_count": null,
   "metadata": {},
   "outputs": [],
   "source": [
    "n_tests = 100\n",
    "locs = torch.ones((n_tests, 2, 2))\n",
    "# location of first star\n",
    "locs[:, 0, 0] = 50. / 100\n",
    "locs[:, 0, 1] = 50.9 / 100\n",
    "\n",
    "locs[:, 1, 0] = 0\n",
    "locs[:, 1, 1] = 0\n",
    "\n",
    "fluxes = torch.ones((n_tests, 2, 1)) * 1e4\n",
    "\n",
    "n_stars = (torch.ones(n_tests)).type(torch.long)"
   ]
  },
  {
   "cell_type": "code",
   "execution_count": null,
   "metadata": {},
   "outputs": [],
   "source": [
    "full_image = simulator.draw_image_from_params(locs, fluxes, n_stars, add_noise = True)\n",
    "image_patches1 = full_image[:, :, 47:54, 47:54]\n",
    "image_patches2 = full_image[:, :, 47:54, 49:56]\n",
    "\n"
   ]
  },
  {
   "cell_type": "code",
   "execution_count": null,
   "metadata": {},
   "outputs": [],
   "source": [
    "plt.matshow(image_patches1[0, 0].numpy())\n",
    "plt.axvline(x=2, color = 'r')\n",
    "plt.axvline(x=4, color = 'r')\n",
    "plt.axhline(y=2, color = 'r')\n",
    "plt.axhline(y=4, color = 'r')\n",
    "\n",
    "plt.axvline(x=2, color = 'r')\n",
    "plt.axvline(x=4, color = 'r')\n",
    "plt.axhline(y=2, color = 'r')\n",
    "plt.axhline(y=4, color = 'r')"
   ]
  },
  {
   "cell_type": "code",
   "execution_count": null,
   "metadata": {},
   "outputs": [],
   "source": [
    "plt.matshow(image_patches2[0, 0].numpy())\n",
    "plt.axvline(x=2, color = 'r')\n",
    "plt.axvline(x=4, color = 'r')\n",
    "plt.axhline(y=2, color = 'r')\n",
    "plt.axhline(y=4, color = 'r')\n",
    "\n",
    "plt.axvline(x=2, color = 'r')\n",
    "plt.axvline(x=4, color = 'r')\n",
    "plt.axhline(y=2, color = 'r')\n",
    "plt.axhline(y=4, color = 'r')"
   ]
  },
  {
   "cell_type": "code",
   "execution_count": null,
   "metadata": {},
   "outputs": [],
   "source": [
    "background_stamps = torch.ones(image_patches.shape) * full_background.mean()"
   ]
  },
  {
   "cell_type": "code",
   "execution_count": null,
   "metadata": {},
   "outputs": [],
   "source": [
    "probs_patch_truth = star_encoder2(image_patches1, background_stamps)[4]\n",
    "probs_patch_neighbor = star_encoder2(image_patches2, background_stamps)[4]"
   ]
  },
  {
   "cell_type": "code",
   "execution_count": null,
   "metadata": {},
   "outputs": [],
   "source": [
    "1 - torch.exp(probs_patch_truth)[:, 0].mean()"
   ]
  },
  {
   "cell_type": "code",
   "execution_count": null,
   "metadata": {},
   "outputs": [],
   "source": [
    "1 - torch.exp(probs_patch_neighbor)[:, 0].mean()"
   ]
  },
  {
   "cell_type": "code",
   "execution_count": null,
   "metadata": {},
   "outputs": [],
   "source": []
  },
  {
   "cell_type": "code",
   "execution_count": null,
   "metadata": {},
   "outputs": [],
   "source": []
  },
  {
   "cell_type": "code",
   "execution_count": null,
   "metadata": {},
   "outputs": [],
   "source": [
    "n_tests = 100\n",
    "locs = torch.ones((n_tests, 2, 2))\n",
    "# location of first star\n",
    "locs[:, 0, 0] = 50. / 100\n",
    "locs[:, 0, 1] = 50.9 / 100\n",
    "\n",
    "locs[:, 1, 0] = 0\n",
    "locs[:, 1, 1] = 0\n",
    "\n",
    "fluxes = torch.ones((n_tests, 2, 1)) * 1e4\n",
    "\n",
    "n_stars = (torch.ones(n_tests)).type(torch.long)"
   ]
  },
  {
   "cell_type": "code",
   "execution_count": null,
   "metadata": {},
   "outputs": [],
   "source": [
    "full_image = simulator.draw_image_from_params(locs, fluxes, n_stars, add_noise = True)\n",
    "image_patches1 = full_image[:, :, 47:54, 47:54]\n",
    "image_patches2 = full_image[:, :, 47:54, 49:56]"
   ]
  },
  {
   "cell_type": "code",
   "execution_count": null,
   "metadata": {},
   "outputs": [],
   "source": [
    "plt.matshow(image_patches1[0, 0].numpy())\n",
    "plt.axvline(x=2, color = 'r')\n",
    "plt.axvline(x=4, color = 'r')\n",
    "plt.axhline(y=2, color = 'r')\n",
    "plt.axhline(y=4, color = 'r')\n",
    "\n",
    "plt.axvline(x=2, color = 'r')\n",
    "plt.axvline(x=4, color = 'r')\n",
    "plt.axhline(y=2, color = 'r')\n",
    "plt.axhline(y=4, color = 'r')"
   ]
  },
  {
   "cell_type": "code",
   "execution_count": null,
   "metadata": {},
   "outputs": [],
   "source": [
    "plt.matshow(image_patches2[0, 0].numpy())\n",
    "plt.axvline(x=2, color = 'r')\n",
    "plt.axvline(x=4, color = 'r')\n",
    "plt.axhline(y=2, color = 'r')\n",
    "plt.axhline(y=4, color = 'r')\n",
    "\n",
    "plt.axvline(x=2, color = 'r')\n",
    "plt.axvline(x=4, color = 'r')\n",
    "plt.axhline(y=2, color = 'r')\n",
    "plt.axhline(y=4, color = 'r')"
   ]
  },
  {
   "cell_type": "code",
   "execution_count": null,
   "metadata": {},
   "outputs": [],
   "source": [
    "background_stamps = torch.ones(image_patches.shape) * full_background.mean()"
   ]
  },
  {
   "cell_type": "code",
   "execution_count": null,
   "metadata": {},
   "outputs": [],
   "source": [
    "probs_patch_truth = star_encoder2(image_patches1, background_stamps)[4]\n",
    "probs_patch_neighbor = star_encoder2(image_patches2, background_stamps)[4]"
   ]
  },
  {
   "cell_type": "code",
   "execution_count": null,
   "metadata": {},
   "outputs": [],
   "source": [
    "1 - torch.exp(probs_patch_truth)[:, 0].mean()"
   ]
  },
  {
   "cell_type": "code",
   "execution_count": null,
   "metadata": {},
   "outputs": [],
   "source": [
    "1 - torch.exp(probs_patch_neighbor)[:, 0].mean()"
   ]
  },
  {
   "cell_type": "code",
   "execution_count": null,
   "metadata": {},
   "outputs": [],
   "source": []
  },
  {
   "cell_type": "code",
   "execution_count": null,
   "metadata": {},
   "outputs": [],
   "source": [
    "delta_vec = np.linspace(-0.4, 0.4, 20)\n",
    "\n",
    "probs_on_truth_vec = torch.ones(len(delta_vec))\n",
    "probs_on_neighbor_vec = torch.ones(len(delta_vec))\n",
    "\n",
    "for i in range(len(delta_vec)): \n",
    "    n_tests = 100\n",
    "    locs = torch.ones((n_tests, 2, 2))\n",
    "    # location of first star\n",
    "    locs[:, 0, 0] = 50. / 100\n",
    "    locs[:, 0, 1] = (51. + delta_vec[i]) / 100\n",
    "\n",
    "    locs[:, 1, 0] = 0\n",
    "    locs[:, 1, 1] = 0\n",
    "\n",
    "    fluxes = torch.ones((n_tests, 2, 1)) * 1e4\n",
    "\n",
    "    n_stars = (torch.ones(n_tests)).type(torch.long)\n",
    "\n",
    "    full_image = simulator.draw_image_from_params(locs, fluxes, n_stars, add_noise = True)\n",
    "    image_patches1 = full_image[:, :, 47:54, 47:54]\n",
    "    image_patches2 = full_image[:, :, 47:54, 49:56]\n",
    "\n",
    "    probs_patch_truth = star_encoder2(image_patches1, background_stamps)[4]\n",
    "    probs_patch_neighbor = star_encoder2(image_patches2, background_stamps)[4]\n",
    "\n",
    "    probs_on_truth_vec[i] = 1 - torch.exp(probs_patch_truth)[:, 0].mean()\n",
    "    probs_on_neighbor_vec[i] = 1 - torch.exp(probs_patch_neighbor)[:, 0].mean()"
   ]
  },
  {
   "cell_type": "code",
   "execution_count": null,
   "metadata": {},
   "outputs": [],
   "source": [
    "probs_on_truth_vec"
   ]
  },
  {
   "cell_type": "code",
   "execution_count": null,
   "metadata": {},
   "outputs": [],
   "source": []
  },
  {
   "cell_type": "code",
   "execution_count": null,
   "metadata": {},
   "outputs": [],
   "source": [
    "plt.plot(delta_vec, probs_on_truth_vec.detach().numpy(), '-x')\n",
    "plt.plot(delta_vec, probs_on_neighbor_vec.detach().numpy(), '-x')\n"
   ]
  },
  {
   "cell_type": "code",
   "execution_count": null,
   "metadata": {},
   "outputs": [],
   "source": []
  },
  {
   "cell_type": "code",
   "execution_count": null,
   "metadata": {},
   "outputs": [],
   "source": []
  },
  {
   "cell_type": "code",
   "execution_count": null,
   "metadata": {},
   "outputs": [],
   "source": [
    "plt.matshow(image_patches1[0, 0].numpy())"
   ]
  },
  {
   "cell_type": "code",
   "execution_count": null,
   "metadata": {},
   "outputs": [],
   "source": [
    "plt.matshow(image_patches2[0, 0].numpy())"
   ]
  },
  {
   "cell_type": "code",
   "execution_count": null,
   "metadata": {},
   "outputs": [],
   "source": [
    "plt.matshow(image_patches1[0, 0].numpy() - image_patches2[0, 0].numpy())\n",
    "plt.colorbar()"
   ]
  },
  {
   "cell_type": "code",
   "execution_count": null,
   "metadata": {},
   "outputs": [],
   "source": [
    "plt.matshow(psf_og[0])"
   ]
  },
  {
   "cell_type": "code",
   "execution_count": null,
   "metadata": {},
   "outputs": [],
   "source": []
  },
  {
   "cell_type": "code",
   "execution_count": null,
   "metadata": {},
   "outputs": [],
   "source": []
  },
  {
   "cell_type": "code",
   "execution_count": null,
   "metadata": {},
   "outputs": [],
   "source": [
    "plt.matshow(psf_og[0] - np.flip(psf_og[0], 0))\n",
    "plt.colorbar()"
   ]
  },
  {
   "cell_type": "code",
   "execution_count": null,
   "metadata": {},
   "outputs": [],
   "source": [
    "plt.matshow((psf_og[0] - np.flip(psf_og[0], 1)))\n",
    "plt.colorbar()"
   ]
  },
  {
   "cell_type": "code",
   "execution_count": null,
   "metadata": {},
   "outputs": [],
   "source": []
  },
  {
   "cell_type": "code",
   "execution_count": null,
   "metadata": {},
   "outputs": [],
   "source": []
  },
  {
   "cell_type": "markdown",
   "metadata": {},
   "source": [
    "# Check what happens on whole image"
   ]
  },
  {
   "cell_type": "code",
   "execution_count": null,
   "metadata": {},
   "outputs": [],
   "source": [
    "n_tests = 1\n",
    "locs = torch.rand((n_tests, 5, 2))\n",
    "# location of first star\n",
    "# locs[:, 0, 0] = 51. / 100 # torch.rand(n_tests)\n",
    "# locs[:, 0, 1] = 49.8 / 100 # torch.rand(n_tests)\n",
    "\n",
    "# locs[:, 1, 0] = 0.\n",
    "# locs[:, 1, 1] = 0.\n",
    "\n",
    "fluxes = torch.ones((n_tests, 5, 1)) * 1e4\n",
    "\n",
    "n_stars = (torch.ones(n_tests) * 5).type(torch.long)"
   ]
  },
  {
   "cell_type": "code",
   "execution_count": null,
   "metadata": {},
   "outputs": [],
   "source": [
    "images = simulator.draw_image_from_params(locs, fluxes, n_stars, add_noise = True)\n",
    "backgrounds = torch.ones(images.shape) * simulator.sky_intensity"
   ]
  },
  {
   "cell_type": "code",
   "execution_count": null,
   "metadata": {},
   "outputs": [],
   "source": [
    "plt.matshow(images[0, 0])"
   ]
  },
  {
   "cell_type": "code",
   "execution_count": null,
   "metadata": {},
   "outputs": [],
   "source": [
    "map_locs, map_fluxes, map_nstars = \\\n",
    "    star_encoder2.sample_star_encoder(images, \n",
    "                                         backgrounds, \n",
    "                                         return_map = True)[0:3]"
   ]
  },
  {
   "cell_type": "code",
   "execution_count": null,
   "metadata": {},
   "outputs": [],
   "source": [
    "star_encoder2.tile_coords[1224]"
   ]
  },
  {
   "cell_type": "code",
   "execution_count": null,
   "metadata": {},
   "outputs": [],
   "source": [
    "plt.matshow(images[0, 0])\n",
    "plt.scatter(map_locs[0, :, 1] * 100, \n",
    "           map_locs[0, :, 0] * 100, \n",
    "            color = 'r', marker = 'x', alpha = 0.8)\n",
    "\n",
    "plt.savefig('../../qualifying_exam_slides/figures/sparse_field_test_simulated.png')"
   ]
  },
  {
   "cell_type": "code",
   "execution_count": null,
   "metadata": {},
   "outputs": [],
   "source": []
  },
  {
   "cell_type": "code",
   "execution_count": null,
   "metadata": {},
   "outputs": [],
   "source": []
  },
  {
   "cell_type": "code",
   "execution_count": null,
   "metadata": {},
   "outputs": [],
   "source": []
  },
  {
   "cell_type": "code",
   "execution_count": null,
   "metadata": {},
   "outputs": [],
   "source": []
  },
  {
   "cell_type": "code",
   "execution_count": null,
   "metadata": {},
   "outputs": [],
   "source": []
  }
 ],
 "metadata": {
  "kernelspec": {
   "display_name": "Python (pytorch_04)",
   "language": "python",
   "name": "pytorch_update"
  },
  "language_info": {
   "codemirror_mode": {
    "name": "ipython",
    "version": 3
   },
   "file_extension": ".py",
   "mimetype": "text/x-python",
   "name": "python",
   "nbconvert_exporter": "python",
   "pygments_lexer": "ipython3",
   "version": "3.6.8"
  }
 },
 "nbformat": 4,
 "nbformat_minor": 2
}

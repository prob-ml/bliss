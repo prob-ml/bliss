{
 "cells": [
  {
   "cell_type": "code",
   "execution_count": null,
   "metadata": {},
   "outputs": [],
   "source": [
    "import numpy as np\n",
    "import torch\n",
    "\n",
    "import json\n",
    "\n",
    "import matplotlib.pyplot as plt\n",
    "\n",
    "import fitsio\n",
    "\n",
    "import sys\n",
    "sys.path.insert(0, '../')\n",
    "import simulated_datasets_lib\n",
    "import sdss_dataset_lib\n",
    "import sdss_psf\n",
    "import image_utils \n",
    "import psf_transform_lib\n",
    "import wake_lib \n",
    "\n",
    "import starnet_lib\n",
    "import sleep_lib\n",
    "import plotting_utils\n",
    "\n",
    "np.random.seed(34534)"
   ]
  },
  {
   "cell_type": "code",
   "execution_count": null,
   "metadata": {},
   "outputs": [],
   "source": [
    "device = torch.device(\"cuda:0\" if torch.cuda.is_available() else \"cpu\")\n"
   ]
  },
  {
   "cell_type": "markdown",
   "metadata": {},
   "source": [
    "# Data parameters"
   ]
  },
  {
   "cell_type": "code",
   "execution_count": null,
   "metadata": {},
   "outputs": [],
   "source": [
    "# data parameters\n",
    "with open('../data/default_star_parameters.json', 'r') as fp:\n",
    "    data_params = json.load(fp)"
   ]
  },
  {
   "cell_type": "code",
   "execution_count": null,
   "metadata": {},
   "outputs": [],
   "source": [
    "data_params"
   ]
  },
  {
   "cell_type": "markdown",
   "metadata": {},
   "source": [
    "# PSF"
   ]
  },
  {
   "cell_type": "code",
   "execution_count": null,
   "metadata": {},
   "outputs": [],
   "source": [
    "# psfield_file = './../celeste_net/sdss_stage_dir/2583/2/136/psField-002583-2-0136.fit'\n",
    "# init_psf_params = psf_transform_lib.get_psf_params(\n",
    "#                                     psfield_file,\n",
    "#                                     bands = bands)\n",
    "init_psf_params = torch.Tensor(np.load('../data/fitted_powerlaw_psf_params.npy'))\n",
    "power_law_psf = psf_transform_lib.PowerLawPSF(init_psf_params.to(device))\n",
    "psf_og = power_law_psf.forward().detach()\n"
   ]
  },
  {
   "cell_type": "markdown",
   "metadata": {},
   "source": [
    "# Background"
   ]
  },
  {
   "cell_type": "code",
   "execution_count": null,
   "metadata": {},
   "outputs": [],
   "source": [
    "# init_background_params = torch.zeros(len(bands), 3).to(device)\n",
    "# init_background_params[:, 0] = torch.Tensor([686., 1123.])\n",
    "init_background_params = torch.Tensor(np.load('../data/fitted_planar_backgrounds.npy'))\n",
    "planar_background = wake_lib.PlanarBackground(image_slen = data_params['slen'],\n",
    "                            init_background_params = init_background_params.to(device))\n",
    "background = planar_background.forward().detach()\n"
   ]
  },
  {
   "cell_type": "code",
   "execution_count": null,
   "metadata": {},
   "outputs": [],
   "source": [
    "simulator = simulated_datasets_lib.StarSimulator(psf_og, data_params['slen'], background, transpose_psf = False)"
   ]
  },
  {
   "cell_type": "markdown",
   "metadata": {},
   "source": [
    "# Get Data"
   ]
  },
  {
   "cell_type": "code",
   "execution_count": null,
   "metadata": {},
   "outputs": [],
   "source": [
    "use_real_data = True"
   ]
  },
  {
   "cell_type": "code",
   "execution_count": null,
   "metadata": {},
   "outputs": [],
   "source": [
    "bands = [2, 3]"
   ]
  },
  {
   "cell_type": "code",
   "execution_count": null,
   "metadata": {},
   "outputs": [],
   "source": [
    "if use_real_data: \n",
    "    x0 = 630\n",
    "    x1 = 310\n",
    "    sdss_hubble_data = sdss_dataset_lib.SDSSHubbleData(x0 = x0,\n",
    "                                                        x1 = x1, \n",
    "                                                        bands = bands)\n",
    "\n",
    "    # image \n",
    "    full_image = sdss_hubble_data.sdss_image.unsqueeze(0)\n",
    "    full_background = sdss_hubble_data.sdss_background.unsqueeze(0)\n",
    "\n",
    "    # true parameters\n",
    "    which_bright = (sdss_hubble_data.fluxes[:, 0] > data_params['f_min'])\n",
    "    true_locs = sdss_hubble_data.locs[which_bright]\n",
    "    true_fluxes = sdss_hubble_data.fluxes[which_bright]\n",
    "\n",
    "else:    \n",
    "    # draw data\n",
    "    n_images = 1\n",
    "    star_dataset = \\\n",
    "        simulated_datasets_lib.load_dataset_from_params(psf_og,\n",
    "                                data_params,\n",
    "                                background = background,\n",
    "                                n_images = n_images,\n",
    "                                transpose_psf = False,\n",
    "                                add_noise = True)\n",
    "\n",
    "    full_image = star_dataset.images\n",
    "    full_background = background.unsqueeze(0)\n",
    "\n",
    "    true_locs = star_dataset.locs.squeeze(0)[0:int(star_dataset.n_stars)]\n",
    "    true_fluxes = star_dataset.fluxes.squeeze(0)[0:int(star_dataset.n_stars)]\n"
   ]
  },
  {
   "cell_type": "code",
   "execution_count": null,
   "metadata": {},
   "outputs": [],
   "source": [
    "plt.matshow(full_image[0, 0])\n",
    "plt.colorbar()"
   ]
  },
  {
   "cell_type": "code",
   "execution_count": null,
   "metadata": {},
   "outputs": [],
   "source": []
  },
  {
   "cell_type": "markdown",
   "metadata": {},
   "source": [
    "# First set of results "
   ]
  },
  {
   "cell_type": "code",
   "execution_count": null,
   "metadata": {},
   "outputs": [],
   "source": [
    "star_encoder1 = starnet_lib.StarEncoder(full_slen = data_params['slen'],\n",
    "                                           stamp_slen = 7,\n",
    "                                           step = 2,\n",
    "                                           edge_padding = 2,\n",
    "                                           n_bands = len(bands), \n",
    "                                           max_detections = 2,\n",
    "                                           estimate_flux = True)"
   ]
  },
  {
   "cell_type": "code",
   "execution_count": null,
   "metadata": {},
   "outputs": [],
   "source": [
    "star_encoder1.load_state_dict(torch.load('../fits/results_2020-02-17/starnet_ri',\n",
    "                               map_location=lambda storage, loc: storage))\n",
    "star_encoder1.eval(); "
   ]
  },
  {
   "cell_type": "code",
   "execution_count": null,
   "metadata": {},
   "outputs": [],
   "source": [
    "# get parameters on the full image \n",
    "map_locs_full_image1, map_fluxes_full_image1, map_n_stars_full1 = \\\n",
    "    star_encoder1.sample_star_encoder(full_image, \n",
    "                                        full_background, \n",
    "                                        n_stars = None,\n",
    "                                        return_map_n_stars = True,\n",
    "                                        return_map_star_params = True)[0:3]"
   ]
  },
  {
   "cell_type": "code",
   "execution_count": null,
   "metadata": {},
   "outputs": [],
   "source": [
    "bins = plt.hist(torch.log10(map_fluxes_full_image1.flatten()), bins = 100);\n",
    "plt.hist(torch.log10(true_fluxes.flatten()), bins = bins[1], alpha = 0.5);"
   ]
  },
  {
   "cell_type": "code",
   "execution_count": null,
   "metadata": {},
   "outputs": [],
   "source": [
    "# get reconstructed mean\n",
    "vae_recon_mean1 = simulator.draw_image_from_params(map_locs_full_image1, \n",
    "                                                    map_fluxes_full_image1,\n",
    "                                                    map_n_stars_full1, \n",
    "                                                    add_noise = False)"
   ]
  },
  {
   "cell_type": "markdown",
   "metadata": {},
   "source": [
    "# Second set of results"
   ]
  },
  {
   "cell_type": "code",
   "execution_count": null,
   "metadata": {},
   "outputs": [],
   "source": [
    "star_encoder2 = starnet_lib.StarEncoder(full_slen = data_params['slen'],\n",
    "                                           stamp_slen = 7,\n",
    "                                           step = 2,\n",
    "                                           edge_padding = 2,\n",
    "                                           n_bands = len(bands), \n",
    "                                           max_detections = 2,\n",
    "                                           estimate_flux = True)\n"
   ]
  },
  {
   "cell_type": "code",
   "execution_count": null,
   "metadata": {},
   "outputs": [],
   "source": [
    "star_encoder2.load_state_dict(torch.load('../fits/results_2020-02-17/starnet_ri_fitted-back-psf',\n",
    "                               map_location=lambda storage, loc: storage))\n",
    "star_encoder2.eval(); "
   ]
  },
  {
   "cell_type": "code",
   "execution_count": null,
   "metadata": {},
   "outputs": [],
   "source": [
    "# get parameters on the full image \n",
    "map_locs_full_image2, map_fluxes_full_image2, map_n_stars_full2 = \\\n",
    "    star_encoder2.sample_star_encoder(full_image, \n",
    "                                        full_background, \n",
    "                                        n_stars = None,\n",
    "                                        return_map_n_stars = True,\n",
    "                                        return_map_star_params = True)[0:3]"
   ]
  },
  {
   "cell_type": "code",
   "execution_count": null,
   "metadata": {},
   "outputs": [],
   "source": [
    "bins = plt.hist(torch.log10(map_fluxes_full_image2.flatten()), bins = 100);\n",
    "plt.hist(torch.log10(true_fluxes.flatten()), bins = bins[1], alpha = 0.5);"
   ]
  },
  {
   "cell_type": "code",
   "execution_count": null,
   "metadata": {},
   "outputs": [],
   "source": [
    "# get reconstructed mean\n",
    "vae_recon_mean2 = simulator.draw_image_from_params(map_locs_full_image2, \n",
    "                                                    map_fluxes_full_image2,\n",
    "                                                    map_n_stars_full2, \n",
    "                                                    add_noise = False)"
   ]
  },
  {
   "cell_type": "markdown",
   "metadata": {},
   "source": [
    "# Check reconstructions"
   ]
  },
  {
   "cell_type": "code",
   "execution_count": null,
   "metadata": {},
   "outputs": [],
   "source": [
    "band = 0"
   ]
  },
  {
   "cell_type": "code",
   "execution_count": null,
   "metadata": {},
   "outputs": [],
   "source": [
    "fig, axarr = plt.subplots(1, 3, figsize=(15, 4))\n",
    "im0 = axarr[0].matshow(full_image[0, band][5:95, 5:95])\n",
    "fig.colorbar(im0, ax = axarr[0])\n",
    "\n",
    "im1 = axarr[1].matshow(vae_recon_mean1[0, band][5:95, 5:95])\n",
    "fig.colorbar(im1, ax = axarr[1])\n",
    "\n",
    "residual = torch.log10(vae_recon_mean1[0, band]) - torch.log10(full_image[0, band])\n",
    "_residual = (residual * 2.5)[5:95, 5:95]\n",
    "# (torch.log(vae_recon_mean.squeeze()) - torch.log(images_full.squeeze()))[10:90, 10:90]\n",
    "vmax = _residual.abs().max()\n",
    "im2 = axarr[2].matshow(_residual, vmax = vmax, vmin = -vmax, cmap=plt.get_cmap('bwr'))\n",
    "fig.colorbar(im2, ax = axarr[2])"
   ]
  },
  {
   "cell_type": "code",
   "execution_count": null,
   "metadata": {},
   "outputs": [],
   "source": [
    "fig, axarr = plt.subplots(1, 3, figsize=(15, 4))\n",
    "im0 = axarr[0].matshow(full_image[0, band][5:95, 5:95])\n",
    "fig.colorbar(im0, ax = axarr[0])\n",
    "\n",
    "im1 = axarr[1].matshow(vae_recon_mean2[0, band][5:95, 5:95])\n",
    "fig.colorbar(im1, ax = axarr[1])\n",
    "\n",
    "residual = torch.log10(vae_recon_mean2[0, band]) - torch.log10(full_image[0, band])\n",
    "_residual = (residual * 2.5)[5:95, 5:95]\n",
    "# (torch.log(vae_recon_mean.squeeze()) - torch.log(images_full.squeeze()))[10:90, 10:90]\n",
    "vmax = _residual.abs().max()\n",
    "im2 = axarr[2].matshow(_residual, vmax = vmax, vmin = -vmax, cmap=plt.get_cmap('bwr'))\n",
    "fig.colorbar(im2, ax = axarr[2])"
   ]
  },
  {
   "cell_type": "markdown",
   "metadata": {},
   "source": [
    "# Summary statistics"
   ]
  },
  {
   "cell_type": "code",
   "execution_count": null,
   "metadata": {},
   "outputs": [],
   "source": [
    "map_n_stars_full1"
   ]
  },
  {
   "cell_type": "code",
   "execution_count": null,
   "metadata": {},
   "outputs": [],
   "source": [
    "map_n_stars_full2"
   ]
  },
  {
   "cell_type": "code",
   "execution_count": null,
   "metadata": {},
   "outputs": [],
   "source": [
    "import image_statistics_lib"
   ]
  },
  {
   "cell_type": "code",
   "execution_count": null,
   "metadata": {},
   "outputs": [],
   "source": [
    "n_elect_per_nmgy = 856."
   ]
  },
  {
   "cell_type": "code",
   "execution_count": null,
   "metadata": {},
   "outputs": [],
   "source": [
    "# completeness and tpr \n",
    "completeness1, tpr1, _, _ = \\\n",
    "    image_statistics_lib.get_summary_stats(map_locs_full_image1.squeeze(), \n",
    "                                           true_locs.squeeze(), \n",
    "                                           star_encoder1.full_slen, \n",
    "                                           map_fluxes_full_image1.squeeze(0)[:, 0], \n",
    "                                           true_fluxes.squeeze(0)[:, 0], \n",
    "                                          n_elect_per_nmgy)\n",
    "print('completeness: {:0.3f}'.format(completeness1))\n",
    "print('true positive rate: {:0.3f}'.format(tpr1))"
   ]
  },
  {
   "cell_type": "code",
   "execution_count": null,
   "metadata": {},
   "outputs": [],
   "source": [
    "# completeness and tpr \n",
    "completeness2, tpr2, _, _ = \\\n",
    "    image_statistics_lib.get_summary_stats(map_locs_full_image2.squeeze(), \n",
    "                                           true_locs.squeeze(), \n",
    "                                           star_encoder2.full_slen, \n",
    "                                           map_fluxes_full_image2.squeeze(0)[:, 0], \n",
    "                                          true_fluxes.squeeze(0)[:, 0], \n",
    "                                          n_elect_per_nmgy)\n",
    "    \n",
    "print('completeness: {:0.3f}'.format(completeness2))\n",
    "print('true positive rate: {:0.3f}'.format(tpr2))"
   ]
  },
  {
   "cell_type": "code",
   "execution_count": null,
   "metadata": {},
   "outputs": [],
   "source": [
    "completeness_vec1, mag_vec1 = \\\n",
    "    image_statistics_lib.get_completeness_vec(map_locs_full_image1.squeeze(), \n",
    "                                           true_locs.squeeze(), \n",
    "                                           star_encoder1.full_slen, \n",
    "                                           map_fluxes_full_image1.squeeze(0)[:, 0], \n",
    "                                           true_fluxes.squeeze(0)[:, 0], \n",
    "                                             n_elect_per_nmgy)[0:2]\n",
    "\n",
    "plt.plot(mag_vec1[0:-1], completeness_vec1, '--x', label = 'starnet1')\n",
    "\n",
    "completeness_vec2, mag_vec2 = \\\n",
    "    image_statistics_lib.get_completeness_vec(map_locs_full_image2.squeeze(), \n",
    "                                           true_locs.squeeze(), \n",
    "                                           star_encoder2.full_slen, \n",
    "                                           map_fluxes_full_image2.squeeze(0)[:, 0], \n",
    "                                           true_fluxes.squeeze(0)[:, 0], \n",
    "                                             n_elect_per_nmgy)[0:2]\n",
    "\n",
    "plt.plot(mag_vec2[0:-1], completeness_vec2, '--x', label = 'starnet2')\n",
    "\n",
    "plt.legend()\n",
    "plt.xlabel('true log flux')\n",
    "plt.ylabel('completeness')"
   ]
  },
  {
   "cell_type": "code",
   "execution_count": null,
   "metadata": {},
   "outputs": [],
   "source": [
    "tpr_vec1, mag_vec1 = \\\n",
    "    image_statistics_lib.get_tpr_vec(map_locs_full_image1.squeeze(), \n",
    "                                           true_locs.squeeze(), \n",
    "                                           star_encoder1.full_slen, \n",
    "                                           map_fluxes_full_image1.squeeze(0)[:, 0], \n",
    "                                           true_fluxes.squeeze(0)[:, 0], \n",
    "                                             n_elect_per_nmgy)[0:2]\n",
    "\n",
    "plt.plot(mag_vec1[0:-1], tpr_vec1, '--x', label = 'starnet1')\n",
    "\n",
    "tpr_vec2, mag_vec2 = \\\n",
    "    image_statistics_lib.get_tpr_vec(map_locs_full_image2.squeeze(), \n",
    "                                           true_locs.squeeze(), \n",
    "                                           star_encoder2.full_slen, \n",
    "                                           map_fluxes_full_image2.squeeze(0)[:, 0], \n",
    "                                           true_fluxes.squeeze(0)[:, 0], \n",
    "                                             n_elect_per_nmgy)[0:2]\n",
    "\n",
    "plt.plot(mag_vec2[0:-1], tpr_vec2, '--x', label = 'starnet2')\n",
    "\n",
    "plt.legend()\n",
    "plt.xlabel('est magnitude')\n",
    "plt.ylabel('tpr')"
   ]
  },
  {
   "cell_type": "code",
   "execution_count": null,
   "metadata": {},
   "outputs": [],
   "source": []
  },
  {
   "cell_type": "markdown",
   "metadata": {},
   "source": [
    "# Check image patches"
   ]
  },
  {
   "cell_type": "code",
   "execution_count": null,
   "metadata": {},
   "outputs": [],
   "source": [
    "f, axarr = plt.subplots(2, 3, figsize=(16, 8))\n",
    "\n",
    "indx = int(np.random.choice(star_encoder1.tile_coords.shape[0], 1))\n",
    "\n",
    "\n",
    "########################\n",
    "# First set of results\n",
    "#######################\n",
    "_ = plotting_utils.plot_subimage(axarr[0, 0], full_image[0, band],\n",
    "                            map_locs_full_image1.squeeze(), \n",
    "                            true_locs.squeeze(), \n",
    "                            int(star_encoder1.tile_coords[indx, 0]), \n",
    "                            int(star_encoder1.tile_coords[indx, 1]), \n",
    "                            subimage_slen = star_encoder1.stamp_slen, \n",
    "                            add_colorbar = True, \n",
    "                            global_fig = f)\n",
    "\n",
    "_ = plotting_utils.plot_subimage(axarr[0, 1], vae_recon_mean1[0, band],\n",
    "                            map_locs_full_image1.squeeze(), \n",
    "                            None, \n",
    "                            int(star_encoder1.tile_coords[indx, 0]), \n",
    "                            int(star_encoder1.tile_coords[indx, 1]), \n",
    "                            subimage_slen = star_encoder1.stamp_slen, \n",
    "                            add_colorbar = True, \n",
    "                            global_fig = f)\n",
    "\n",
    "foo = torch.log10(vae_recon_mean1[0, band]) - torch.log10(full_image[0, band])\n",
    "_ = plotting_utils.plot_subimage(axarr[0, 2], foo * 2.5, \n",
    "                            map_locs_full_image1.squeeze(), \n",
    "                            None, \n",
    "                            int(star_encoder1.tile_coords[indx, 0]), \n",
    "                            int(star_encoder1.tile_coords[indx, 1]), \n",
    "                            subimage_slen = star_encoder1.stamp_slen, \n",
    "                            add_colorbar = True, \n",
    "                            global_fig = f, \n",
    "                            diverging_cmap = True)\n",
    "\n",
    "###################\n",
    "# Second set of results \n",
    "###################\n",
    "_ = plotting_utils.plot_subimage(axarr[1, 0], full_image[0, band],\n",
    "                            map_locs_full_image2.squeeze(), \n",
    "                            true_locs.squeeze(), \n",
    "                            int(star_encoder2.tile_coords[indx, 0]), \n",
    "                            int(star_encoder2.tile_coords[indx, 1]), \n",
    "                            subimage_slen = star_encoder2.stamp_slen, \n",
    "                            add_colorbar = True, \n",
    "                            global_fig = f)\n",
    "\n",
    "_ = plotting_utils.plot_subimage(axarr[1, 1], vae_recon_mean2[0, band],\n",
    "                            map_locs_full_image2.squeeze(), \n",
    "                            None, \n",
    "                            int(star_encoder2.tile_coords[indx, 0]), \n",
    "                            int(star_encoder2.tile_coords[indx, 1]), \n",
    "                            subimage_slen = star_encoder2.stamp_slen, \n",
    "                            add_colorbar = True, \n",
    "                            global_fig = f)\n",
    "\n",
    "foo = torch.log10(vae_recon_mean2[0, band]) - torch.log10(full_image[0, band])\n",
    "_ = plotting_utils.plot_subimage(axarr[1, 2], foo * 2.5, \n",
    "                            map_locs_full_image2.squeeze(), \n",
    "                            None, \n",
    "                            int(star_encoder2.tile_coords[indx, 0]), \n",
    "                            int(star_encoder2.tile_coords[indx, 1]), \n",
    "                            subimage_slen = star_encoder2.stamp_slen, \n",
    "                            add_colorbar = True, \n",
    "                            global_fig = f, \n",
    "                            diverging_cmap = True)\n",
    "\n",
    "# axarr[0].axvline(x=2, color = 'r')\n",
    "# axarr[0].axvline(x=4, color = 'r')\n",
    "# axarr[0].axhline(y=2, color = 'r')\n",
    "# axarr[0].axhline(y=4, color = 'r')\n",
    "\n",
    "# axarr[1].axvline(x=2, color = 'r')\n",
    "# axarr[1].axvline(x=4, color = 'r')\n",
    "# axarr[1].axhline(y=2, color = 'r')\n",
    "# axarr[1].axhline(y=4, color = 'r')"
   ]
  },
  {
   "cell_type": "code",
   "execution_count": null,
   "metadata": {},
   "outputs": [],
   "source": []
  }
 ],
 "metadata": {
  "kernelspec": {
   "display_name": "pytorch_update",
   "language": "python",
   "name": "pytorch_update"
  },
  "language_info": {
   "codemirror_mode": {
    "name": "ipython",
    "version": 3
   },
   "file_extension": ".py",
   "mimetype": "text/x-python",
   "name": "python",
   "nbconvert_exporter": "python",
   "pygments_lexer": "ipython3",
   "version": "3.6.8"
  }
 },
 "nbformat": 4,
 "nbformat_minor": 2
}

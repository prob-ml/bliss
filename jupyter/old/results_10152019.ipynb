{
 "cells": [
  {
   "cell_type": "code",
   "execution_count": null,
   "metadata": {},
   "outputs": [],
   "source": [
    "import numpy as np\n",
    "import torch\n",
    "\n",
    "import json\n",
    "\n",
    "import matplotlib.pyplot as plt\n",
    "\n",
    "import sys\n",
    "sys.path.insert(0, '../')\n",
    "import simulated_datasets_lib\n",
    "import sdss_dataset_lib\n",
    "import sdss_psf\n",
    "import image_utils \n",
    "\n",
    "import inv_kl_objective_lib as inv_kl_lib\n",
    "\n",
    "import starnet_vae_lib\n",
    "\n",
    "import plotting_utils\n",
    "\n",
    "np.random.seed(34534)"
   ]
  },
  {
   "cell_type": "markdown",
   "metadata": {},
   "source": [
    "# Load the data"
   ]
  },
  {
   "cell_type": "code",
   "execution_count": null,
   "metadata": {},
   "outputs": [],
   "source": [
    "sdss_hubble_data = sdss_dataset_lib.SDSSHubbleData()\n",
    "\n",
    "# psf file \n",
    "psf_fit_file = str(sdss_hubble_data.psf_file)\n",
    "\n",
    "# image \n",
    "full_image = sdss_hubble_data.sdss_image.squeeze()\n",
    "full_background = sdss_hubble_data.sdss_background.squeeze()\n",
    "\n",
    "# true parameters\n",
    "which_bright = (sdss_hubble_data.fluxes > 1300.)\n",
    "true_locs = sdss_hubble_data.locs[which_bright]\n",
    "true_fluxes = sdss_hubble_data.fluxes[which_bright]"
   ]
  },
  {
   "cell_type": "code",
   "execution_count": null,
   "metadata": {},
   "outputs": [],
   "source": [
    "full_image = torch.Tensor(full_image)\n",
    "print(full_image.shape)"
   ]
  },
  {
   "cell_type": "markdown",
   "metadata": {},
   "source": [
    "# the data"
   ]
  },
  {
   "cell_type": "code",
   "execution_count": null,
   "metadata": {},
   "outputs": [],
   "source": [
    "plt.matshow(sdss_hubble_data.sdss_image_full.squeeze()[626:1175, 0:414])\n",
    "plt.vlines(x=310, ymin=4, ymax=104, color = 'red')\n",
    "plt.vlines(x=410, ymin=4, ymax=104, color = 'red')\n",
    "plt.hlines(y=4, xmin=310, xmax = 410, color = 'red')\n",
    "plt.hlines(y=104, xmin=310, xmax = 410, color = 'red')"
   ]
  },
  {
   "cell_type": "code",
   "execution_count": null,
   "metadata": {},
   "outputs": [],
   "source": [
    "plt.matshow(full_image.squeeze())\n",
    "# plt.colorbar()"
   ]
  },
  {
   "cell_type": "code",
   "execution_count": null,
   "metadata": {},
   "outputs": [],
   "source": [
    "subimage_slen = 10\n",
    "\n",
    "# possible coordinates\n",
    "x0_vec = np.arange(10, 90, subimage_slen)\n",
    "x1_vec = np.arange(10, 90, subimage_slen)"
   ]
  },
  {
   "cell_type": "code",
   "execution_count": null,
   "metadata": {},
   "outputs": [],
   "source": [
    "fig, axarr = plt.subplots(2, 2, figsize=(8, 8))\n",
    "\n",
    "for i in range(4):\n",
    "    x0 = int(np.random.choice(x0_vec, 1))\n",
    "    x1 = int(np.random.choice(x1_vec, 1))\n",
    "    plotting_utils.plot_subimage(axarr[i // 2, i % 2], full_image, \n",
    "                             None, \n",
    "                             true_locs, \n",
    "                             x0, x1, subimage_slen)"
   ]
  },
  {
   "cell_type": "markdown",
   "metadata": {},
   "source": [
    "# Load neural network "
   ]
  },
  {
   "cell_type": "code",
   "execution_count": null,
   "metadata": {},
   "outputs": [],
   "source": [
    "star_encoder = starnet_vae_lib.StarEncoder(full_slen = 101,\n",
    "                                            stamp_slen = 9,\n",
    "                                            step = 2,\n",
    "                                            edge_padding = 3, \n",
    "                                            n_bands = 1,\n",
    "                                            max_detections = 4)"
   ]
  },
  {
   "cell_type": "markdown",
   "metadata": {},
   "source": [
    "# This is what the neural network sees"
   ]
  },
  {
   "cell_type": "code",
   "execution_count": null,
   "metadata": {},
   "outputs": [],
   "source": [
    "image_stamps, subimage_locs, subimage_fluxes, n_stars, is_on_array = \\\n",
    "    star_encoder.get_image_stamps(full_image.unsqueeze(0).unsqueeze(0), \n",
    "                                  true_locs.unsqueeze(0), true_fluxes.unsqueeze(0), trim_images=False)"
   ]
  },
  {
   "cell_type": "code",
   "execution_count": null,
   "metadata": {},
   "outputs": [],
   "source": [
    "plt.matshow(full_image[0:9, 0:14].abs())"
   ]
  },
  {
   "cell_type": "code",
   "execution_count": null,
   "metadata": {},
   "outputs": [],
   "source": [
    "vmax = full_image[0:9, 0:14].abs().max()\n",
    "vmin = full_image[0:9, 0:14].abs().min()"
   ]
  },
  {
   "cell_type": "code",
   "execution_count": null,
   "metadata": {},
   "outputs": [],
   "source": [
    "f, axarr = plt.subplots(1, 4, figsize=(16, 8))\n",
    "\n",
    "for i in range(4): \n",
    "    indx = i # int(np.random.choice(image_stamps.shape[0], 1))\n",
    "\n",
    "    which_nonzero = is_on_array[indx].type(torch.bool)\n",
    "\n",
    "    # Plot my image patch. \n",
    "    # plot subset of full image. They should match. \n",
    "    x0 = star_encoder.tile_coords[indx, 0]\n",
    "    x1 = star_encoder.tile_coords[indx, 1]\n",
    "\n",
    "    axarr[i].matshow(image_stamps[indx].squeeze(), vmin = vmin, vmax = vmax)\n",
    "\n",
    "\n",
    "    _true_locs = true_locs * (star_encoder.full_slen - 1)\n",
    "\n",
    "    which_locs = ((_true_locs[:, 0] > x0.float()) & (_true_locs[:, 1] > x1.float())) & \\\n",
    "                    (_true_locs[:, 0] < (x0 + star_encoder.stamp_slen).float() - 1) & \\\n",
    "                    (_true_locs[:, 1] < (x1 + star_encoder.stamp_slen).float() - 1)\n",
    "\n",
    "    axarr[i].scatter(_true_locs[which_locs, 1] - x1, \n",
    "               _true_locs[which_locs, 0] - x0, \n",
    "               marker = 'o', color = 'b')\n",
    "    \n",
    "    \n",
    "    axarr[i].axvline(x=star_encoder.edge_padding, color = 'r')\n",
    "    axarr[i].axvline(x=star_encoder.stamp_slen - star_encoder.edge_padding - 1, color = 'r')\n",
    "    axarr[i].axhline(y=star_encoder.edge_padding, color = 'r')\n",
    "    axarr[i].axhline(y=star_encoder.stamp_slen - star_encoder.edge_padding - 1, color = 'r')\n",
    "    \n",
    "\n",
    "    plt.sca(axarr[i]); \n",
    "    plt.xticks(range(9), np.arange(x1, x1 + star_encoder.stamp_slen)); \n"
   ]
  },
  {
   "cell_type": "code",
   "execution_count": null,
   "metadata": {},
   "outputs": [],
   "source": []
  },
  {
   "cell_type": "code",
   "execution_count": null,
   "metadata": {},
   "outputs": [],
   "source": []
  },
  {
   "cell_type": "markdown",
   "metadata": {},
   "source": [
    "# Load Portillos results"
   ]
  },
  {
   "cell_type": "code",
   "execution_count": null,
   "metadata": {},
   "outputs": [],
   "source": [
    "results_dir = '../../multiband_pcat/pcat-lion-results/20191007-115851/'\n",
    "\n",
    "chain_results = np.load(results_dir + 'chain.npz')"
   ]
  },
  {
   "cell_type": "code",
   "execution_count": null,
   "metadata": {},
   "outputs": [],
   "source": [
    "include_classical_catalogue = True\n",
    "\n",
    "if include_classical_catalogue: \n",
    "    pcat_catalog = np.loadtxt(results_dir + 'classical_catalog.txt')\n",
    "    \n",
    "    x1_loc = pcat_catalog[:, 0]\n",
    "    x0_loc = pcat_catalog[:, 2]\n",
    "        \n",
    "    fluxes = pcat_catalog[:, 4]\n",
    "    \n",
    "    # remove na\n",
    "    is_na = np.isnan(x1_loc) | np.isnan(x1_loc) | np.isnan(fluxes)\n",
    "    \n",
    "    x1_loc = x1_loc[~is_na]\n",
    "    x0_loc = x0_loc[~is_na]\n",
    "    fluxes = fluxes[~is_na]\n",
    "    \n",
    "    portillos_est_locs = torch.Tensor([x0_loc, x1_loc]).transpose(0,1) / (full_image.shape[-1] - 1)\n",
    "    portillos_est_fluxes = torch.Tensor(fluxes)\n",
    "    \n",
    "x1_loc_samples = chain_results['x'][-300:, ].flatten()\n",
    "x0_loc_samples = chain_results['y'][-300:, ].flatten()\n",
    "\n",
    "portillos_est_fluxes_sampled = torch.Tensor(chain_results['f'][0, -300:, ].flatten()) \n",
    "portillos_est_locs_sampled = torch.Tensor([x0_loc_samples, x1_loc_samples]).transpose(0,1) \\\n",
    "                                / (full_image.shape[-1] - 1)"
   ]
  },
  {
   "cell_type": "code",
   "execution_count": null,
   "metadata": {},
   "outputs": [],
   "source": [
    "# TODO: this was chosen empirically looking at image residuals! \n",
    "# Need to figure out the correct conversion ... \n",
    "fudge_factor = 1 / (1 - 0.83)\n",
    "portillos_est_fluxes_sampled = portillos_est_fluxes_sampled * fudge_factor\n",
    "portillos_est_fluxes = portillos_est_fluxes * fudge_factor"
   ]
  },
  {
   "cell_type": "markdown",
   "metadata": {},
   "source": [
    "### get reconstruction mean "
   ]
  },
  {
   "cell_type": "code",
   "execution_count": null,
   "metadata": {},
   "outputs": [],
   "source": [
    "simulator = simulated_datasets_lib.StarSimulator(psf_fit_file=psf_fit_file, \n",
    "                                                slen = full_image.shape[-1], \n",
    "                                                sky_intensity = 686.)\n",
    "\n",
    "# only works if we have the classical catalogue\n",
    "if include_classical_catalogue: \n",
    "    _locs = portillos_est_locs.unsqueeze(0) \n",
    "    _fluxes = torch.Tensor(portillos_est_fluxes).unsqueeze(0)\n",
    "    _n_stars = torch.Tensor([len(x0_loc)]).type(torch.LongTensor)\n",
    "    \n",
    "    portillos_recon_mean = simulator.draw_image_from_params(locs = _locs, \n",
    "                                                fluxes = _fluxes,\n",
    "                                                 n_stars = _n_stars,  \n",
    "                                                 add_noise = False).squeeze()\n",
    "    \n",
    "    plt.matshow(portillos_recon_mean); \n",
    "    plt.colorbar()\n",
    "    \n",
    "portillos_residuals = portillos_recon_mean.squeeze() - full_image"
   ]
  },
  {
   "cell_type": "code",
   "execution_count": null,
   "metadata": {},
   "outputs": [],
   "source": []
  },
  {
   "cell_type": "markdown",
   "metadata": {},
   "source": [
    "# Load sleep phase 1 NN results"
   ]
  },
  {
   "cell_type": "code",
   "execution_count": null,
   "metadata": {},
   "outputs": [],
   "source": [
    "star_encoder.load_state_dict(torch.load('../fits/starnet_invKL_encoder-10092019-reweighted_samples', \n",
    "                               map_location=lambda storage, loc: storage))\n",
    "star_encoder.eval(); "
   ]
  },
  {
   "cell_type": "code",
   "execution_count": null,
   "metadata": {},
   "outputs": [],
   "source": [
    "# get parameters on the full image \n",
    "map_locs_full_image, map_fluxes_full_image, map_n_stars_full = \\\n",
    "    star_encoder.get_results_on_full_image(full_image.unsqueeze(0).unsqueeze(0), \n",
    "                                           full_background.unsqueeze(0).unsqueeze(0))"
   ]
  },
  {
   "cell_type": "code",
   "execution_count": null,
   "metadata": {},
   "outputs": [],
   "source": [
    "vae_recon_mean = simulator.draw_image_from_params(locs = map_locs_full_image, \n",
    "                                                fluxes = map_fluxes_full_image,\n",
    "                                                 n_stars = map_n_stars_full, \n",
    "                                                 add_noise = False).squeeze()\n",
    "\n",
    "vae_residuals = vae_recon_mean - full_image "
   ]
  },
  {
   "cell_type": "code",
   "execution_count": null,
   "metadata": {},
   "outputs": [],
   "source": [
    "my_est_locs = map_locs_full_image.squeeze() \n",
    "my_est_fluxes = map_fluxes_full_image.squeeze()"
   ]
  },
  {
   "cell_type": "markdown",
   "metadata": {},
   "source": [
    "# Compare"
   ]
  },
  {
   "cell_type": "code",
   "execution_count": null,
   "metadata": {},
   "outputs": [],
   "source": [
    "fig, axarr = plt.subplots(2, 3, figsize=(15, 12))\n",
    "\n",
    "x0 = int(np.random.choice(x0_vec, 1))\n",
    "x1 = int(np.random.choice(x1_vec, 1))\n",
    "\n",
    "###################\n",
    "# Plot catalogs\n",
    "##################\n",
    "# my catalog\n",
    "for j in range(2):\n",
    "    plotting_utils.plot_subimage(axarr[j, 0], full_image, my_est_locs, true_locs, x0, x1, subimage_slen, \n",
    "                                add_colorbar = True, global_fig = fig)\n",
    "    axarr[j, 0].set_title('observed; coords: {}\\n'.format([x0, x1]));\n",
    "\n",
    "    # portillos catalogue\n",
    "    _portillos_est_locs = portillos_est_locs * (full_image.shape[-1] - 1)\n",
    "    which_locs = (_portillos_est_locs[:, 0] > x0) & \\\n",
    "                    (_portillos_est_locs[:, 0] < (x0 + subimage_slen - 1)) & \\\n",
    "                    (_portillos_est_locs[:, 1] > x1) & \\\n",
    "                    (_portillos_est_locs[:, 1] < (x1 + subimage_slen - 1))\n",
    "    portillos_locs = (_portillos_est_locs[which_locs, :] - torch.Tensor([[x0, x1]])) \n",
    "    axarr[j, 0].scatter(portillos_locs[:, 1], portillos_locs[:, 0], color = 'c', marker = 'x')\n",
    "\n",
    "#######################\n",
    "# Reconstructions \n",
    "#######################\n",
    "# my reconstruction\n",
    "plotting_utils.plot_subimage(axarr[0, 1], vae_recon_mean, my_est_locs, None, x0, x1, subimage_slen, \n",
    "                            add_colorbar = True, global_fig = fig)\n",
    "axarr[0, 1].set_title('starnet reconstructed\\n');\n",
    "\n",
    "# Portillos reconstruction\n",
    "plotting_utils.plot_subimage(axarr[1, 1], portillos_recon_mean, portillos_est_locs, None, x0, x1, subimage_slen, \n",
    "                            add_colorbar = True, global_fig = fig, \n",
    "                            color = 'c', marker = 'x')\n",
    "axarr[1, 1].set_title('portillos reconstructed\\n');\n",
    "\n",
    "######################\n",
    "# residuals\n",
    "######################\n",
    "vmax1 = torch.abs((vae_residuals / full_image)[x0:(x0 + subimage_slen), x1:(x1 + subimage_slen)]).max()\n",
    "vmax2 = torch.abs((portillos_residuals / full_image)[x0:(x0 + subimage_slen), x1:(x1 + subimage_slen)]).max()\n",
    "\n",
    "vmax = torch.max(torch.Tensor([vmax1, vmax2]))\n",
    "\n",
    "# my residuals\n",
    "plotting_utils.plot_subimage(axarr[0, 2], vae_residuals / full_image, \n",
    "                            my_est_locs, None, x0, x1, subimage_slen, \n",
    "                            add_colorbar = True, global_fig = fig,\n",
    "                            diverging_cmap = True, \n",
    "                            vmax = vmax, vmin = -vmax)\n",
    "\n",
    "axarr[0, 2].set_title('starnet residuals\\n');\n",
    "\n",
    "\n",
    "\n",
    "# portillos residuals\n",
    "plotting_utils.plot_subimage(axarr[1, 2], portillos_residuals / full_image, \n",
    "                            portillos_est_locs, None, x0, x1, subimage_slen, \n",
    "                            add_colorbar = True, global_fig = fig,\n",
    "                            diverging_cmap = True, \n",
    "                            vmax = vmax, vmin = -vmax, \n",
    "                            color = 'c', marker = 'x')\n",
    "\n",
    "axarr[1, 2].set_title('portillos residuals\\n');"
   ]
  },
  {
   "cell_type": "markdown",
   "metadata": {},
   "source": [
    "# Checkout some summary statistics"
   ]
  },
  {
   "cell_type": "code",
   "execution_count": null,
   "metadata": {},
   "outputs": [],
   "source": [
    "# we only look at locations within 10-90; \n",
    "# Portillos doesn't detect on the edge\n",
    "\n",
    "def filter_params(locs, fluxes, slen): \n",
    "    assert len(locs.shape) == 2\n",
    "    assert len(fluxes.shape) == 1\n",
    "    \n",
    "    _locs = locs * (slen - 1)\n",
    "    which_params = (_locs[:, 0] > 10) & (_locs[:, 0] < 90) & \\\n",
    "                        (_locs[:, 1] > 10) & (_locs[:, 1] < 90) \n",
    "        \n",
    "    \n",
    "    return locs[which_params], fluxes[which_params]\n"
   ]
  },
  {
   "cell_type": "code",
   "execution_count": null,
   "metadata": {},
   "outputs": [],
   "source": [
    "my_est_locs, my_est_fluxes = filter_params(my_est_locs, my_est_fluxes, full_image.shape[-1])\n",
    "\n",
    "portillos_est_locs, portillos_est_fluxes = filter_params(portillos_est_locs, portillos_est_fluxes, \n",
    "                                                         full_image.shape[-1])\n",
    "\n",
    "true_locs, true_fluxes = filter_params(true_locs, true_fluxes, \n",
    "                                       full_image.shape[-1])"
   ]
  },
  {
   "cell_type": "markdown",
   "metadata": {},
   "source": [
    "These are rather coarse measures. My completeness does not take into account the fact that several true stars might be matched with just one estimated star (so not all the true stars were detected); conversely my true positive rate does not take into account that several estimated stars might be matched with just one true star (so only one estimated star is a true positive). \n",
    "\n",
    "I tried the Hungarian algorithm to find a minimal matching, but this gave weird results because we're searching for a permutation that minimizes the **global** cost of the matching. "
   ]
  },
  {
   "cell_type": "code",
   "execution_count": null,
   "metadata": {},
   "outputs": [],
   "source": [
    "import image_statistics_lib"
   ]
  },
  {
   "cell_type": "code",
   "execution_count": null,
   "metadata": {},
   "outputs": [],
   "source": [
    "my_completeness_vec, my_mag_vec, my_counts = \\\n",
    "    image_statistics_lib.get_completeness_vec(my_est_locs, true_locs, full_image.shape[-1],\n",
    "                                              my_est_fluxes, true_fluxes)\n",
    "\n",
    "portillos_completeness_vec, portillos_mag_vec, portillos_counts = \\\n",
    "    image_statistics_lib.get_completeness_vec(portillos_est_locs, true_locs, full_image.shape[-1],\n",
    "                                              portillos_est_fluxes, true_fluxes)\n",
    "\n",
    "plt.plot(my_mag_vec[0:-1], my_completeness_vec, '--x', color = 'b', label = 'Starnet')\n",
    "sd =  np.sqrt(my_completeness_vec * (1 - my_completeness_vec) / my_counts)\n",
    "plt.errorbar(my_mag_vec[0:-1], my_completeness_vec, \n",
    "             yerr = 3 * sd, \n",
    "             marker = 'x', linestyle = '--', color = 'b', alpha = 0.7)\n",
    "plt.ylim(0.3, 1.01)\n",
    "\n",
    "\n",
    "\n",
    "plt.plot(portillos_mag_vec[0:-1], portillos_completeness_vec, \n",
    "         '--x', color = 'r', label = 'Portillos')\n",
    "sd = np.sqrt(portillos_completeness_vec * (1 - portillos_completeness_vec) / portillos_counts)\n",
    "plt.errorbar(portillos_mag_vec[0:-1], portillos_completeness_vec, \n",
    "             yerr = 3 * sd, \n",
    "             marker = 'x', linestyle = '--', color = 'r', alpha = 0.7)\n",
    "\n",
    "plt.legend(loc = 'lower right')\n",
    "plt.xlabel('true log flux')\n",
    "plt.ylabel('completeness')"
   ]
  },
  {
   "cell_type": "code",
   "execution_count": null,
   "metadata": {},
   "outputs": [],
   "source": []
  },
  {
   "cell_type": "code",
   "execution_count": null,
   "metadata": {},
   "outputs": [],
   "source": [
    "my_tpr_vec, my_mag_vec, my_counts = \\\n",
    "    image_statistics_lib.get_tpr_vec(my_est_locs, true_locs, full_image.shape[-1],\n",
    "                                              my_est_fluxes, true_fluxes)\n",
    "\n",
    "portillos_tpr_vec, portillos_mag_vec, portillos_counts = \\\n",
    "    image_statistics_lib.get_tpr_vec(portillos_est_locs, true_locs, full_image.shape[-1],\n",
    "                                              portillos_est_fluxes, true_fluxes)\n",
    "\n",
    "plt.plot(my_mag_vec[0:-1], my_tpr_vec, '--x', color = 'blue', label = 'Starnet')\n",
    "sd =  np.sqrt(my_tpr_vec * (1 - my_tpr_vec) / my_counts)\n",
    "plt.errorbar(my_mag_vec[0:-1], my_tpr_vec, \n",
    "             yerr = 3 * sd, \n",
    "             marker = 'x', linestyle = '--', color = 'b', alpha = 0.7)\n",
    "\n",
    "\n",
    "\n",
    "plt.plot(portillos_mag_vec[0:-1], portillos_tpr_vec, '--x', color = 'r', label = 'Portillos')\n",
    "sd =  np.sqrt(portillos_tpr_vec * (1 - portillos_tpr_vec) / portillos_counts)\n",
    "plt.errorbar(portillos_mag_vec[0:-1], portillos_tpr_vec, \n",
    "             yerr = 3 * sd, \n",
    "             marker = 'x', linestyle = '--', color = 'r', alpha = 0.7)\n",
    "\n",
    "plt.legend(loc = 'lower right')\n",
    "plt.xlabel('estimated log flux')\n",
    "plt.ylabel('true positive rate')\n",
    "plt.ylim(0.3, 1.01)\n"
   ]
  },
  {
   "cell_type": "code",
   "execution_count": null,
   "metadata": {},
   "outputs": [],
   "source": []
  },
  {
   "cell_type": "markdown",
   "metadata": {},
   "source": [
    "# Examining PSF transforms"
   ]
  },
  {
   "cell_type": "code",
   "execution_count": null,
   "metadata": {},
   "outputs": [],
   "source": [
    "# This is the original psf and its residuals\n",
    "full_image_sim = simulator.draw_image_from_params(locs = sdss_hubble_data.locs.unsqueeze(0), \n",
    "                        fluxes = sdss_hubble_data.fluxes.unsqueeze(0), \n",
    "                        n_stars = torch.Tensor([len(sdss_hubble_data.locs)]).type(torch.LongTensor), \n",
    "                        add_noise = True) - simulator.sky_intensity + \\\n",
    "                        sdss_hubble_data.sdss_background.unsqueeze(0)"
   ]
  },
  {
   "cell_type": "code",
   "execution_count": null,
   "metadata": {},
   "outputs": [],
   "source": [
    "resid = (full_image_sim.squeeze() - full_image) / full_image\n",
    "vmax = resid.abs().max()\n",
    "plt.matshow(resid, vmax = vmax, vmin = -vmax, \n",
    "           cmap=plt.get_cmap('bwr'))\n",
    "\n",
    "plt.colorbar()"
   ]
  },
  {
   "cell_type": "code",
   "execution_count": null,
   "metadata": {},
   "outputs": [],
   "source": []
  },
  {
   "cell_type": "markdown",
   "metadata": {},
   "source": [
    "# Wake-sleep results"
   ]
  },
  {
   "cell_type": "code",
   "execution_count": null,
   "metadata": {},
   "outputs": [],
   "source": [
    "completeness_all = np.zeros(4)\n",
    "tpr_all = np.zeros(4)\n",
    "\n",
    "fig, axarr = plt.subplots(1, 2, figsize=(15, 4))\n",
    "\n",
    "\n",
    "for i in range(0, 4): \n",
    "    if i == 0: \n",
    "        star_encoder.load_state_dict(torch.load('../fits/starnet_invKL_encoder-10092019-reweighted_samples', \n",
    "                                       map_location=lambda storage, loc: storage))\n",
    "        \n",
    "    else: \n",
    "        star_encoder.load_state_dict(torch.load('../fits/wake_sleep-portm2-101420129-encoder-iter' + str(i), \n",
    "                                       map_location=lambda storage, loc: storage))\n",
    "    star_encoder.eval(); \n",
    "    \n",
    "    if (i > 0) & (i < 3): \n",
    "        continue\n",
    "        \n",
    "    # get parameters\n",
    "    map_locs_full_image, map_fluxes_full_image, map_n_stars_full = \\\n",
    "        star_encoder.get_results_on_full_image(full_image.unsqueeze(0).unsqueeze(0), \n",
    "                                               full_background.unsqueeze(0).unsqueeze(0))\n",
    "    \n",
    "    est_locs, est_fluxes = filter_params(map_locs_full_image.squeeze(), \n",
    "                                           map_fluxes_full_image.squeeze(), \n",
    "                                           full_image.shape[-1])\n",
    "\n",
    "    # take into account fluxes\n",
    "    completeness, tpr, completeness1_bool, tpr1_bool = \\\n",
    "        image_statistics_lib.get_summary_stats(est_locs, true_locs, \n",
    "                                               full_image.shape[-1], \n",
    "                                               est_fluxes, true_fluxes)\n",
    "    completeness_all[i] = completeness\n",
    "    tpr_all[i] = tpr\n",
    "    \n",
    "    \n",
    "    # get completeness as a function of magnitude  \n",
    "    completeness1_vec, mag_vec1, _ = \\\n",
    "        image_statistics_lib.get_completeness_vec(est_locs, true_locs, full_image.shape[-1],\n",
    "                                                  est_fluxes, true_fluxes)\n",
    "\n",
    "    axarr[0].plot(mag_vec1[:-1], completeness1_vec, '--x', label = 'starnet_iter' + str(i))\n",
    "        \n",
    "    tpr_vec, mag_vec, _ = \\\n",
    "        image_statistics_lib.get_tpr_vec(est_locs, true_locs, full_image.shape[-1],\n",
    "                                        est_fluxes, true_fluxes)\n",
    "\n",
    "    axarr[1].plot(mag_vec[0:-1], tpr_vec, '--x', label = 'starnet_iter' + str(i))\n",
    "    \n",
    "    \n",
    "    \n",
    "# RECALL PORTILLOS RESULTS\n",
    "portillos_completeness_vec, portillos_mag_vec, portillos_counts = \\\n",
    "    image_statistics_lib.get_completeness_vec(portillos_est_locs, true_locs, full_image.shape[-1],\n",
    "                                              portillos_est_fluxes, true_fluxes)\n",
    "axarr[0].plot(portillos_mag_vec[0:-1], portillos_completeness_vec, '-x', label = 'Portillos')\n",
    "\n",
    "portillos_tpr_vec, portillos_mag_vec, portillos_counts = \\\n",
    "    image_statistics_lib.get_tpr_vec(portillos_est_locs, true_locs, full_image.shape[-1],\n",
    "                                              portillos_est_fluxes, true_fluxes)\n",
    "axarr[1].plot(portillos_mag_vec[0:-1], portillos_tpr_vec, '-x', label = 'Portillos')\n",
    "\n",
    "    \n",
    "axarr[0].legend()\n",
    "axarr[0].set_xlabel('true log10 flux')\n",
    "axarr[0].set_ylabel('completeness')\n",
    "\n",
    "axarr[1].legend()\n",
    "axarr[1].set_xlabel('estimated log10 flux')\n",
    "axarr[1].set_ylabel('tpr')\n",
    "\n",
    "\n"
   ]
  },
  {
   "cell_type": "markdown",
   "metadata": {},
   "source": [
    "# Checkout trained psf"
   ]
  },
  {
   "cell_type": "code",
   "execution_count": null,
   "metadata": {},
   "outputs": [],
   "source": [
    "# reset simulator\n",
    "simulator = simulated_datasets_lib.StarSimulator(psf_fit_file=psf_fit_file, \n",
    "                                                slen = full_image.shape[-1], \n",
    "                                                sky_intensity = 686.)"
   ]
  },
  {
   "cell_type": "code",
   "execution_count": null,
   "metadata": {},
   "outputs": [],
   "source": [
    "recon_mean_init = simulator.draw_image_from_params(locs = sdss_hubble_data.locs.unsqueeze(0), \n",
    "                        fluxes = sdss_hubble_data.fluxes.unsqueeze(0), \n",
    "                        n_stars = torch.Tensor([len(sdss_hubble_data.locs)]).type(torch.LongTensor), \n",
    "                        add_noise = False) - simulator.sky_intensity + \\\n",
    "                        sdss_hubble_data.sdss_background.unsqueeze(0)"
   ]
  },
  {
   "cell_type": "code",
   "execution_count": null,
   "metadata": {},
   "outputs": [],
   "source": []
  },
  {
   "cell_type": "code",
   "execution_count": null,
   "metadata": {},
   "outputs": [],
   "source": [
    "import psf_transform_lib"
   ]
  },
  {
   "cell_type": "code",
   "execution_count": null,
   "metadata": {},
   "outputs": [],
   "source": [
    "psf_transform = psf_transform_lib.PsfLocalTransform(torch.Tensor(simulator.psf_og),\n",
    "                                    simulator.slen,\n",
    "                                    kernel_size = 3)"
   ]
  },
  {
   "cell_type": "code",
   "execution_count": null,
   "metadata": {},
   "outputs": [],
   "source": [
    "psf_transform.load_state_dict(torch.load('../fits/wake_sleep-portm2-101420129-psf_transform-iter2', \n",
    "                                             map_location=lambda storage, loc: storage))"
   ]
  },
  {
   "cell_type": "code",
   "execution_count": null,
   "metadata": {},
   "outputs": [],
   "source": [
    "init_psf = simulator.psf\n",
    "trained_psf = psf_transform.forward()\n",
    "\n",
    "fig, axarr = plt.subplots(1, 3, figsize=(15, 4))\n",
    "\n",
    "im0 = axarr[0].matshow(init_psf[45:56, 45:56])\n",
    "axarr[0].set_title('initial sdss psf \\n')\n",
    "fig.colorbar(im0, ax = axarr[0])\n",
    "\n",
    "im1 = axarr[1].matshow(trained_psf[45:56, 45:56].detach())\n",
    "axarr[1].set_title('wake-sleep trained psf \\n')\n",
    "fig.colorbar(im1, ax = axarr[1])\n",
    "\n",
    "diff = trained_psf[45:56, 45:56].detach() - init_psf[45:56, 45:56]\n",
    "im2 = axarr[2].matshow(diff, vmax = diff.abs().max(), vmin = -diff.abs().max(), cmap=plt.get_cmap('bwr'))\n",
    "axarr[2].set_title('diff \\n')\n",
    "fig.colorbar(im2, ax = axarr[2])"
   ]
  },
  {
   "cell_type": "code",
   "execution_count": null,
   "metadata": {},
   "outputs": [],
   "source": [
    "simulator.psf = trained_psf"
   ]
  },
  {
   "cell_type": "code",
   "execution_count": null,
   "metadata": {},
   "outputs": [],
   "source": [
    "recon_mean_trained = simulator.draw_image_from_params(locs = sdss_hubble_data.locs.unsqueeze(0), \n",
    "                        fluxes = sdss_hubble_data.fluxes.unsqueeze(0), \n",
    "                        n_stars = torch.Tensor([len(sdss_hubble_data.locs)]).type(torch.LongTensor), \n",
    "                        add_noise = False) - simulator.sky_intensity + \\\n",
    "                        sdss_hubble_data.sdss_background.unsqueeze(0)"
   ]
  },
  {
   "cell_type": "code",
   "execution_count": null,
   "metadata": {},
   "outputs": [],
   "source": [
    "fig, axarr = plt.subplots(1, 2, figsize=(10, 4))\n",
    "\n",
    "resid = ((recon_mean_init.detach().squeeze() - full_image) / full_image)[10:90, 10:90]\n",
    "vmax = resid.abs().max()\n",
    "im0 = axarr[0].matshow(resid, vmax = vmax, vmin = -vmax, \n",
    "           cmap=plt.get_cmap('bwr'))\n",
    "fig.colorbar(im0, ax=axarr[0])\n",
    "\n",
    "\n",
    "resid = ((recon_mean_trained.detach().squeeze() - full_image) / full_image)[10:90, 10:90]\n",
    "vmax = resid.abs().max()\n",
    "im1 = axarr[1].matshow(resid, vmax = vmax, vmin = -vmax, \n",
    "           cmap=plt.get_cmap('bwr'))\n",
    "fig.colorbar(im1, ax=axarr[1])\n"
   ]
  },
  {
   "cell_type": "code",
   "execution_count": null,
   "metadata": {},
   "outputs": [],
   "source": []
  },
  {
   "cell_type": "code",
   "execution_count": null,
   "metadata": {},
   "outputs": [],
   "source": []
  },
  {
   "cell_type": "code",
   "execution_count": null,
   "metadata": {},
   "outputs": [],
   "source": []
  }
 ],
 "metadata": {
  "kernelspec": {
   "display_name": "Python (pytorch_04)",
   "language": "python",
   "name": "pytorch_update"
  },
  "language_info": {
   "codemirror_mode": {
    "name": "ipython",
    "version": 3
   },
   "file_extension": ".py",
   "mimetype": "text/x-python",
   "name": "python",
   "nbconvert_exporter": "python",
   "pygments_lexer": "ipython3",
   "version": "3.6.8"
  }
 },
 "nbformat": 4,
 "nbformat_minor": 2
}

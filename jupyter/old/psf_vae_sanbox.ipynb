{
 "cells": [
  {
   "cell_type": "code",
   "execution_count": null,
   "metadata": {},
   "outputs": [],
   "source": [
    "import numpy as np\n",
    "import timeit\n",
    "\n",
    "import matplotlib.pyplot as plt\n",
    "\n",
    "import torch\n",
    "import torch.optim as optim\n",
    "\n",
    "import sys\n",
    "sys.path.insert(0, './../')\n",
    "import sdss_psf\n",
    "import simulated_datasets_lib\n",
    "import starnet_vae_lib\n",
    "import sdss_dataset_lib\n",
    "import plotting_utils\n",
    "import image_statistics_lib\n",
    "\n",
    "import inv_kl_objective_lib as inv_kl_lib\n",
    "\n",
    "import image_utils\n",
    "\n",
    "import time\n",
    "\n",
    "import json\n",
    "\n",
    "device = torch.device(\"cuda:0\" if torch.cuda.is_available() else \"cpu\")\n",
    "\n",
    "print('torch version: ', torch.__version__)\n",
    "\n",
    "from copy import deepcopy"
   ]
  },
  {
   "cell_type": "code",
   "execution_count": null,
   "metadata": {},
   "outputs": [],
   "source": [
    "# load PSF\n",
    "psf_fit_file = '../../celeste_net/sdss_stage_dir/2583/2/136/psField-002583-2-0136.fit'\n",
    "print('psf file: \\n', psf_fit_file)"
   ]
  },
  {
   "cell_type": "code",
   "execution_count": null,
   "metadata": {},
   "outputs": [],
   "source": [
    "np.random.seed(22)\n",
    "_ = torch.manual_seed(22)"
   ]
  },
  {
   "cell_type": "markdown",
   "metadata": {},
   "source": [
    "# Compare true SDSS image with simulated SDSS image"
   ]
  },
  {
   "cell_type": "code",
   "execution_count": null,
   "metadata": {},
   "outputs": [],
   "source": [
    "sdss_hubble_data = sdss_dataset_lib.SDSSHubbleData()"
   ]
  },
  {
   "cell_type": "code",
   "execution_count": null,
   "metadata": {},
   "outputs": [],
   "source": [
    "simulator = simulated_datasets_lib.StarSimulator(psf_fit_file=str(sdss_hubble_data.psf_file), \n",
    "                                                            slen = sdss_hubble_data.slen, \n",
    "                                                            sky_intensity = 686.)"
   ]
  },
  {
   "cell_type": "code",
   "execution_count": null,
   "metadata": {},
   "outputs": [],
   "source": [
    "# simulate data using hubble parameters\n",
    "sim_images_full = simulator.draw_image_from_params(locs = sdss_hubble_data.locs.unsqueeze(0), \n",
    "                        fluxes = sdss_hubble_data.fluxes.unsqueeze(0), \n",
    "                        n_stars = torch.Tensor([len(sdss_hubble_data.locs)]).type(torch.LongTensor), \n",
    "                        add_noise = True) - simulator.sky_intensity + \\\n",
    "                        sdss_hubble_data.sdss_background.unsqueeze(0)\n",
    "\n",
    "# the oberved data \n",
    "sdss_images_full = sdss_hubble_data.sdss_image.unsqueeze(0)\n",
    "\n",
    "# get true parameters\n",
    "backgrounds_full = sdss_hubble_data.sdss_background.unsqueeze(0)\n",
    "\n",
    "which_bright = sdss_hubble_data.fluxes > 1300\n",
    "true_full_locs = sdss_hubble_data.locs[which_bright].unsqueeze(0)\n",
    "true_full_fluxes = sdss_hubble_data.fluxes[which_bright].unsqueeze(0)"
   ]
  },
  {
   "cell_type": "markdown",
   "metadata": {},
   "source": [
    "# Check out residuals"
   ]
  },
  {
   "cell_type": "code",
   "execution_count": null,
   "metadata": {},
   "outputs": [],
   "source": [
    "f, axarr = plt.subplots(1, 3, figsize=(16, 6))\n",
    "\n",
    "im0 = axarr[0].matshow(sdss_images_full.squeeze()); \n",
    "f.colorbar(im0, ax = axarr[0])\n",
    "axarr[0].set_title('simulated sdss image')\n",
    "\n",
    "im1 = axarr[1].matshow(sim_images_full.squeeze()); \n",
    "f.colorbar(im1, ax = axarr[1])\n",
    "axarr[1].set_title('true sdss image')\n",
    "\n",
    "\n",
    "# residual = (sim_images_full.squeeze() - sdss_images_full.squeeze()) / sdss_images_full.squeeze()\n",
    "residual = torch.log10(sim_images_full.squeeze()) - torch.log10(sdss_images_full.squeeze())\n",
    "vmax = residual[10:90, 10:90].abs().max()\n",
    "im2 = axarr[2].matshow(residual, vmax = vmax, vmin = -vmax, cmap=plt.get_cmap('bwr')); \n",
    "f.colorbar(im2, ax = axarr[2])\n",
    "axarr[2].set_title('residual')"
   ]
  },
  {
   "cell_type": "code",
   "execution_count": null,
   "metadata": {},
   "outputs": [],
   "source": [
    "f, axarr = plt.subplots(1, 3, figsize=(16, 6))\n",
    "\n",
    "x0 = 0\n",
    "x1 = 20\n",
    "\n",
    "plotting_utils.plot_subimage(axarr[0], sdss_images_full.squeeze(), \n",
    "                            None, \n",
    "                            true_full_locs.squeeze(), \n",
    "                            x0 = x0,\n",
    "                            x1 = x1, \n",
    "                            subimage_slen = 20, \n",
    "                            add_colorbar = True, \n",
    "                            global_fig = f)\n",
    "\n",
    "plotting_utils.plot_subimage(axarr[1], sim_images_full.squeeze(), \n",
    "                            None, \n",
    "                            true_full_locs.squeeze(), \n",
    "                            x0 = x0,\n",
    "                            x1 = x1, \n",
    "                            subimage_slen = 20, \n",
    "                            add_colorbar = True, \n",
    "                            global_fig = f)\n",
    "\n",
    "plotting_utils.plot_subimage(axarr[2], residual, \n",
    "                            None, \n",
    "                            true_full_locs.squeeze(), \n",
    "                            x0 = x0,\n",
    "                            x1 = x1, \n",
    "                            subimage_slen = 20, \n",
    "                            add_colorbar = True, \n",
    "                            global_fig = f, \n",
    "                            diverging_cmap = True)"
   ]
  },
  {
   "cell_type": "code",
   "execution_count": null,
   "metadata": {},
   "outputs": [],
   "source": [
    "plt.matshow(sdss_hubble_data.sdss_image_full.squeeze())"
   ]
  },
  {
   "cell_type": "code",
   "execution_count": null,
   "metadata": {},
   "outputs": [],
   "source": [
    "one_star_img = sdss_hubble_data.sdss_image_full.squeeze()[200:301, 1450:1551]\n",
    "one_star_back = sdss_hubble_data.sdss_background_full.squeeze()[200:301, 1450:1551]\n",
    "plt.matshow(one_star_img)"
   ]
  },
  {
   "cell_type": "code",
   "execution_count": null,
   "metadata": {},
   "outputs": [],
   "source": [
    "star_encoder = starnet_vae_lib.StarEncoder(full_slen = 101,\n",
    "                                            stamp_slen = 9,\n",
    "                                            step = 2,\n",
    "                                            edge_padding = 3, \n",
    "                                            n_bands = 1,\n",
    "                                            max_detections = 4)"
   ]
  },
  {
   "cell_type": "code",
   "execution_count": null,
   "metadata": {},
   "outputs": [],
   "source": [
    "star_encoder.load_state_dict(torch.load('../fits/starnet_invKL_encoder-10072019',\n",
    "                               map_location=lambda storage, loc: storage))\n",
    "star_encoder.eval(); "
   ]
  },
  {
   "cell_type": "code",
   "execution_count": null,
   "metadata": {},
   "outputs": [],
   "source": [
    "map_locs_full_image, map_fluxes_full_image, map_n_stars_full = \\\n",
    "    star_encoder.get_results_on_full_image(torch.Tensor(one_star_img).unsqueeze(0).unsqueeze(0), \n",
    "                                           torch.Tensor(one_star_back).unsqueeze(0).unsqueeze(0))"
   ]
  },
  {
   "cell_type": "code",
   "execution_count": null,
   "metadata": {},
   "outputs": [],
   "source": [
    "# get reconstructed mean\n",
    "vae_recon_mean = simulator.draw_image_from_params(locs = map_locs_full_image, \n",
    "                                                fluxes = map_fluxes_full_image,\n",
    "                                                 n_stars = map_n_stars_full, \n",
    "                                                 add_noise = False).squeeze()"
   ]
  },
  {
   "cell_type": "code",
   "execution_count": null,
   "metadata": {},
   "outputs": [],
   "source": [
    "f, axarr = plt.subplots(1, 3, figsize=(16, 6))\n",
    "\n",
    "im0 = axarr[0].matshow(one_star_img.squeeze()); \n",
    "f.colorbar(im0, ax = axarr[0])\n",
    "\n",
    "im1 = axarr[1].matshow(vae_recon_mean.squeeze()); \n",
    "f.colorbar(im1, ax = axarr[1])\n",
    "\n",
    "residual = torch.log10(torch.Tensor(one_star_img).squeeze()) - torch.log10(vae_recon_mean.squeeze())\n",
    "vmax = residual[10:90, 10:90].abs().max()\n",
    "im2 = axarr[2].matshow(residual, vmax = vmax, vmin = -vmax, cmap=plt.get_cmap('bwr')); \n",
    "f.colorbar(im2, ax = axarr[2])\n",
    "axarr[2].set_title('residual')"
   ]
  }
 ],
 "metadata": {
  "kernelspec": {
   "display_name": "Python (pytorch_04)",
   "language": "python",
   "name": "pytorch_update"
  },
  "language_info": {
   "codemirror_mode": {
    "name": "ipython",
    "version": 3
   },
   "file_extension": ".py",
   "mimetype": "text/x-python",
   "name": "python",
   "nbconvert_exporter": "python",
   "pygments_lexer": "ipython3",
   "version": "3.6.8"
  }
 },
 "nbformat": 4,
 "nbformat_minor": 2
}

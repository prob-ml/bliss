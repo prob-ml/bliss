{
 "cells": [
  {
   "cell_type": "code",
   "execution_count": null,
   "metadata": {},
   "outputs": [],
   "source": [
    "import numpy as np\n",
    "import pathlib \n",
    "\n",
    "import matplotlib.pyplot as plt\n",
    "\n",
    "import torch\n",
    "\n",
    "from torch.utils.data import Dataset\n",
    "from torch import optim\n",
    "\n",
    "import sys\n",
    "sys.path.insert(0, '../')\n",
    "import sdss_dataset_lib\n",
    "import sdss_psf\n",
    "import simulated_datasets_lib\n",
    "\n",
    "import wake_lib\n",
    "from wake_lib import EstimateModelParams, PlanarBackground\n",
    "\n",
    "\n",
    "from astropy.io import fits\n",
    "from astropy.wcs import WCS\n",
    "\n",
    "\n",
    "device = torch.device(\"cuda:0\" if torch.cuda.is_available() else \"cpu\")\n",
    "\n",
    "import json \n",
    "import os"
   ]
  },
  {
   "cell_type": "code",
   "execution_count": null,
   "metadata": {},
   "outputs": [],
   "source": []
  },
  {
   "cell_type": "code",
   "execution_count": null,
   "metadata": {},
   "outputs": [],
   "source": [
    "# data parameters\n",
    "with open('../data/default_star_parameters.json', 'r') as fp:\n",
    "    data_params = json.load(fp)"
   ]
  },
  {
   "cell_type": "markdown",
   "metadata": {},
   "source": [
    "# Psf"
   ]
  },
  {
   "cell_type": "code",
   "execution_count": null,
   "metadata": {},
   "outputs": [],
   "source": [
    "import psf_transform_lib2"
   ]
  },
  {
   "cell_type": "code",
   "execution_count": null,
   "metadata": {},
   "outputs": [],
   "source": [
    "bands = [2, 3]\n",
    "psfield_file = '../../celeste_net/sdss_stage_dir/2583/2/136/psField-002583-2-0136.fit'\n",
    "true_psf_params = torch.zeros(len(bands), 6)\n",
    "for i in range(len(bands)):\n",
    "    true_psf_params[i] = psf_transform_lib2.get_psf_params(\n",
    "                                    psfield_file,\n",
    "                                    band = bands[i])\n",
    "power_law_psf = psf_transform_lib2.PowerLawPSF(true_psf_params)\n",
    "psf_og = power_law_psf.forward().detach()"
   ]
  },
  {
   "cell_type": "code",
   "execution_count": null,
   "metadata": {},
   "outputs": [],
   "source": [
    "plt.matshow(simulated_datasets_lib._trim_psf(psf_og, 15)[0])\n",
    "plt.colorbar()"
   ]
  },
  {
   "cell_type": "markdown",
   "metadata": {},
   "source": [
    "# Draw data"
   ]
  },
  {
   "cell_type": "code",
   "execution_count": null,
   "metadata": {},
   "outputs": [],
   "source": [
    "true_background_params = torch.Tensor([[1157, -64, 118],\n",
    "                                       [1706, -94, 147]])\n",
    "true_background = PlanarBackground(init_background_params = true_background_params)"
   ]
  },
  {
   "cell_type": "code",
   "execution_count": null,
   "metadata": {},
   "outputs": [],
   "source": [
    "n_images = 1\n",
    "\n",
    "simulated_dataset = \\\n",
    "    simulated_datasets_lib.load_dataset_from_params(psf_og,\n",
    "                    data_params,\n",
    "                    background = true_background.forward().detach(), \n",
    "                    n_images = n_images,\n",
    "                    transpose_psf = False, \n",
    "                    add_noise = True)\n",
    "\n",
    "full_image = simulated_dataset.images.detach()\n",
    "full_background = simulated_dataset.background.detach()\n",
    "\n",
    "true_n_stars = simulated_dataset.n_stars\n",
    "true_locs = simulated_dataset.locs\n",
    "true_fluxes = simulated_dataset.fluxes\n",
    "        \n",
    "simulator = simulated_dataset.simulator"
   ]
  },
  {
   "cell_type": "code",
   "execution_count": null,
   "metadata": {},
   "outputs": [],
   "source": []
  },
  {
   "cell_type": "code",
   "execution_count": null,
   "metadata": {},
   "outputs": [],
   "source": [
    "for i in range(len(bands)): \n",
    "    plt.matshow(full_image[0, i])\n",
    "    plt.colorbar()"
   ]
  },
  {
   "cell_type": "code",
   "execution_count": null,
   "metadata": {},
   "outputs": [],
   "source": [
    "recon_mean_truth = simulator.draw_image_from_params(locs = true_locs, \n",
    "                            fluxes = true_fluxes, \n",
    "                            n_stars = true_n_stars, \n",
    "                            add_noise = False)"
   ]
  },
  {
   "cell_type": "code",
   "execution_count": null,
   "metadata": {},
   "outputs": [],
   "source": [
    "for i in range(len(bands)): \n",
    "    foo = ((recon_mean_truth[0, i] - full_image[0, i]) / full_image[0, i])[5:95, 5:95]\n",
    "    plt.matshow(foo, vmax = foo.abs().max(), vmin = - foo.abs().max(), cmap = plt.get_cmap('bwr')) \n",
    "    plt.colorbar()"
   ]
  },
  {
   "cell_type": "markdown",
   "metadata": {},
   "source": [
    "# Check estimation of fluxes"
   ]
  },
  {
   "cell_type": "code",
   "execution_count": null,
   "metadata": {},
   "outputs": [],
   "source": [
    "estimator = EstimateModelParams(full_image, true_locs, true_n_stars, \n",
    "                              init_psf_params = true_psf_params, \n",
    "                            init_background_params = true_background_params, \n",
    "                            init_fluxes = None)"
   ]
  },
  {
   "cell_type": "code",
   "execution_count": null,
   "metadata": {},
   "outputs": [],
   "source": [
    "recon0 = estimator.get_loss()[0].detach()\n",
    "for i in range(len(bands)): \n",
    "    foo = ((recon0[0, i] - full_image[0, i]) / full_image[0, i])[5:95, 5:95]\n",
    "    plt.matshow(foo, vmax = foo.abs().max(), vmin = - foo.abs().max(), cmap = plt.get_cmap('bwr')) \n",
    "    plt.colorbar()"
   ]
  },
  {
   "cell_type": "code",
   "execution_count": null,
   "metadata": {},
   "outputs": [],
   "source": []
  },
  {
   "cell_type": "code",
   "execution_count": null,
   "metadata": {},
   "outputs": [],
   "source": [
    "optimizer = optim.LBFGS(list(estimator.flux_params_class.parameters()), \n",
    "                            max_iter = 10, \n",
    "                            line_search_fn = 'strong_wolfe')"
   ]
  },
  {
   "cell_type": "code",
   "execution_count": null,
   "metadata": {},
   "outputs": [],
   "source": [
    "estimator._run_optimizer(optimizer, tol = 1e-3, max_iter = 20, \n",
    "                         print_every = True, \n",
    "                        use_cached_star_basis = True)"
   ]
  },
  {
   "cell_type": "code",
   "execution_count": null,
   "metadata": {},
   "outputs": [],
   "source": [
    "est = torch.log10(estimator.get_fluxes()[0, 0:true_n_stars].detach())\n",
    "truth = torch.log10(true_fluxes[0, 0:true_n_stars])"
   ]
  },
  {
   "cell_type": "code",
   "execution_count": null,
   "metadata": {},
   "outputs": [],
   "source": [
    "plt.plot(est.flatten(), truth.flatten(), '+')\n",
    "plt.plot(est.flatten(), est.flatten())"
   ]
  },
  {
   "cell_type": "code",
   "execution_count": null,
   "metadata": {},
   "outputs": [],
   "source": [
    "recon1 = estimator.get_loss()[0].detach()\n",
    "for i in range(len(bands)): \n",
    "    foo = ((recon1[0, i] - full_image[0, i]) / full_image[0, i])[5:95, 5:95]\n",
    "    plt.matshow(foo, vmax = foo.abs().max(), vmin = - foo.abs().max(), cmap = plt.get_cmap('bwr')) \n",
    "    plt.colorbar()"
   ]
  },
  {
   "cell_type": "markdown",
   "metadata": {},
   "source": [
    "# Check estimation of background "
   ]
  },
  {
   "cell_type": "code",
   "execution_count": null,
   "metadata": {},
   "outputs": [],
   "source": [
    "estimator = EstimateModelParams(full_image, true_locs, true_n_stars, \n",
    "                          init_psf_params = true_psf_params, \n",
    "                        init_background_params = None, \n",
    "                        init_fluxes = true_fluxes)"
   ]
  },
  {
   "cell_type": "code",
   "execution_count": null,
   "metadata": {},
   "outputs": [],
   "source": [
    "list(estimator.planar_background.parameters())"
   ]
  },
  {
   "cell_type": "code",
   "execution_count": null,
   "metadata": {},
   "outputs": [],
   "source": [
    "recon0 = estimator.get_loss()[0].detach()\n",
    "for i in range(len(bands)): \n",
    "    foo = ((recon0[0, i] - full_image[0, i]) / full_image[0, i])[5:95, 5:95]\n",
    "    plt.matshow(foo, vmax = foo.abs().max(), vmin = - foo.abs().max(), cmap = plt.get_cmap('bwr')) \n",
    "    plt.colorbar()"
   ]
  },
  {
   "cell_type": "code",
   "execution_count": null,
   "metadata": {},
   "outputs": [],
   "source": []
  },
  {
   "cell_type": "code",
   "execution_count": null,
   "metadata": {},
   "outputs": [],
   "source": [
    "optimizer = optim.LBFGS(list(estimator.planar_background.parameters()), \n",
    "                            max_iter = 10, \n",
    "                            line_search_fn = 'strong_wolfe')"
   ]
  },
  {
   "cell_type": "code",
   "execution_count": null,
   "metadata": {},
   "outputs": [],
   "source": [
    "estimator._run_optimizer(optimizer, tol = 1e-3, max_iter = 50, \n",
    "                         use_cached_star_basis = True, print_every = True)"
   ]
  },
  {
   "cell_type": "code",
   "execution_count": null,
   "metadata": {},
   "outputs": [],
   "source": [
    "recon1 = estimator.get_loss()[0].detach()\n",
    "for i in range(len(bands)): \n",
    "    foo = ((recon1[0, i] - full_image[0, i]) / full_image[0, i])[5:95, 5:95]\n",
    "    plt.matshow(foo, vmax = foo.abs().max(), vmin = - foo.abs().max(), cmap = plt.get_cmap('bwr')) \n",
    "    plt.colorbar()"
   ]
  },
  {
   "cell_type": "code",
   "execution_count": null,
   "metadata": {},
   "outputs": [],
   "source": [
    "list(estimator.planar_background.parameters())"
   ]
  },
  {
   "cell_type": "code",
   "execution_count": null,
   "metadata": {},
   "outputs": [],
   "source": [
    "true_background_params"
   ]
  },
  {
   "cell_type": "markdown",
   "metadata": {},
   "source": [
    "# Check estimation of PSF"
   ]
  },
  {
   "cell_type": "code",
   "execution_count": null,
   "metadata": {},
   "outputs": [],
   "source": [
    "false_psf_params = true_psf_params * torch.exp(torch.randn(true_psf_params.shape))"
   ]
  },
  {
   "cell_type": "code",
   "execution_count": null,
   "metadata": {},
   "outputs": [],
   "source": [
    "false_psf_params"
   ]
  },
  {
   "cell_type": "code",
   "execution_count": null,
   "metadata": {},
   "outputs": [],
   "source": [
    "estimator = EstimateModelParams(full_image, true_locs, true_n_stars, \n",
    "                          init_psf_params = false_psf_params, \n",
    "                        init_background_params = true_background_params, \n",
    "                        init_fluxes = true_fluxes)"
   ]
  },
  {
   "cell_type": "code",
   "execution_count": null,
   "metadata": {},
   "outputs": [],
   "source": [
    "recon0 = estimator.get_loss()[0].detach()\n",
    "for i in range(len(bands)): \n",
    "    foo = ((recon0[0, i] - full_image[0, i]) / full_image[0, i])[5:95, 5:95]\n",
    "    plt.matshow(foo, vmax = foo.abs().max(), vmin = - foo.abs().max(), cmap = plt.get_cmap('bwr')) \n",
    "    plt.colorbar()"
   ]
  },
  {
   "cell_type": "code",
   "execution_count": null,
   "metadata": {},
   "outputs": [],
   "source": []
  },
  {
   "cell_type": "code",
   "execution_count": null,
   "metadata": {},
   "outputs": [],
   "source": [
    "optimizer = optim.LBFGS(list(estimator.power_law_psf.parameters()), \n",
    "                            max_iter = 1, \n",
    "                            line_search_fn = 'strong_wolfe')"
   ]
  },
  {
   "cell_type": "code",
   "execution_count": null,
   "metadata": {},
   "outputs": [],
   "source": [
    "estimator._run_optimizer(optimizer, tol = 1e-6, max_iter = 50, \n",
    "                         use_cached_star_basis = False, print_every = True)"
   ]
  },
  {
   "cell_type": "code",
   "execution_count": null,
   "metadata": {},
   "outputs": [],
   "source": []
  },
  {
   "cell_type": "code",
   "execution_count": null,
   "metadata": {},
   "outputs": [],
   "source": [
    "recon1 = estimator.get_loss()[0].detach()\n",
    "for i in range(len(bands)): \n",
    "    foo = ((recon1[0, i] - full_image[0, i]) / full_image[0, i])[5:95, 5:95]\n",
    "    plt.matshow(foo, vmax = foo.abs().max(), vmin = - foo.abs().max(), cmap = plt.get_cmap('bwr')) \n",
    "    plt.colorbar()"
   ]
  },
  {
   "cell_type": "code",
   "execution_count": null,
   "metadata": {},
   "outputs": [],
   "source": []
  },
  {
   "cell_type": "markdown",
   "metadata": {},
   "source": [
    "# OK lets jointly estimated the background and flux"
   ]
  },
  {
   "cell_type": "code",
   "execution_count": null,
   "metadata": {},
   "outputs": [],
   "source": [
    "estimator = EstimateModelParams(full_image, true_locs, true_n_stars, \n",
    "                          init_psf_params = true_psf_params, \n",
    "                        init_background_params = None, \n",
    "                        init_fluxes = None)"
   ]
  },
  {
   "cell_type": "code",
   "execution_count": null,
   "metadata": {},
   "outputs": [],
   "source": [
    "recon0 = estimator.get_loss()[0].detach()\n",
    "for i in range(len(bands)): \n",
    "    foo = ((recon0[0, i] - full_image[0, i]) / full_image[0, i])[5:95, 5:95]\n",
    "    plt.matshow(foo, vmax = foo.abs().max(), vmin = - foo.abs().max(), cmap = plt.get_cmap('bwr')) \n",
    "    plt.colorbar()"
   ]
  },
  {
   "cell_type": "code",
   "execution_count": null,
   "metadata": {},
   "outputs": [],
   "source": [
    "optimizer = optim.LBFGS(list(estimator.flux_params_class.parameters()) + \n",
    "                             list(estimator.planar_background.parameters()),\n",
    "                    max_iter = 20, \n",
    "                    line_search_fn = 'strong_wolfe')\n",
    "\n",
    "estimator._run_optimizer(optimizer, tol = 1e-3, max_iter = 10, \n",
    "                             print_every = True, \n",
    "                            use_cached_star_basis = True)"
   ]
  },
  {
   "cell_type": "code",
   "execution_count": null,
   "metadata": {},
   "outputs": [],
   "source": [
    "recon1 = estimator.get_loss()[0].detach()\n",
    "for i in range(len(bands)): \n",
    "    foo = ((recon1[0, i] - full_image[0, i]) / full_image[0, i])[5:95, 5:95]\n",
    "    plt.matshow(foo, vmax = foo.abs().max(), vmin = - foo.abs().max(), cmap = plt.get_cmap('bwr')) \n",
    "    plt.colorbar()"
   ]
  },
  {
   "cell_type": "code",
   "execution_count": null,
   "metadata": {},
   "outputs": [],
   "source": [
    "list(estimator.planar_background.parameters())"
   ]
  },
  {
   "cell_type": "code",
   "execution_count": null,
   "metadata": {},
   "outputs": [],
   "source": [
    "true_background_params"
   ]
  },
  {
   "cell_type": "code",
   "execution_count": null,
   "metadata": {},
   "outputs": [],
   "source": [
    "nelec_per_nmgy = 856.\n",
    "is_on_bool = true_fluxes[0, :, 0] > 0\n",
    "est = sdss_dataset_lib.convert_nmgy_to_mag(estimator.get_fluxes().detach()[0, is_on_bool, :] / nelec_per_nmgy)\n",
    "truth = sdss_dataset_lib.convert_nmgy_to_mag(true_fluxes[0, is_on_bool, :] / nelec_per_nmgy)\n"
   ]
  },
  {
   "cell_type": "code",
   "execution_count": null,
   "metadata": {},
   "outputs": [],
   "source": [
    "plt.plot(est[:, 0], truth[:, 0], '+')\n",
    "plt.plot(truth[:, 0], truth[:, 0], '-')"
   ]
  },
  {
   "cell_type": "code",
   "execution_count": null,
   "metadata": {},
   "outputs": [],
   "source": [
    "plt.plot(est[:, 1], truth[:, 1], '+')\n",
    "plt.plot(truth[:, 1], truth[:, 1], '-')"
   ]
  },
  {
   "cell_type": "code",
   "execution_count": null,
   "metadata": {},
   "outputs": [],
   "source": [
    "import image_statistics_lib"
   ]
  },
  {
   "cell_type": "code",
   "execution_count": null,
   "metadata": {},
   "outputs": [],
   "source": [
    "image_statistics_lib.get_summary_stats(true_locs[0, is_on_bool], \n",
    "                                      true_locs[0, is_on_bool], \n",
    "                                      slen = 101, \n",
    "                                      est_fluxes = estimator.get_fluxes().detach()[0, is_on_bool, 0], \n",
    "                                      true_fluxes = true_fluxes[0, is_on_bool, 0],\n",
    "                                      nelec_per_nmgy = nelec_per_nmgy)[0:2]"
   ]
  },
  {
   "cell_type": "code",
   "execution_count": null,
   "metadata": {},
   "outputs": [],
   "source": []
  },
  {
   "cell_type": "markdown",
   "metadata": {},
   "source": [
    "# Now lets see if coordinate ascent works"
   ]
  },
  {
   "cell_type": "code",
   "execution_count": null,
   "metadata": {},
   "outputs": [],
   "source": [
    "false_psf_params = true_psf_params * torch.exp(torch.randn(true_psf_params.shape) * 0.1)"
   ]
  },
  {
   "cell_type": "code",
   "execution_count": null,
   "metadata": {},
   "outputs": [],
   "source": [
    "estimator = EstimateModelParams(full_image, true_locs, true_n_stars, \n",
    "                          init_psf_params = false_psf_params, \n",
    "                            init_background_params = None, \n",
    "                            init_fluxes = None)"
   ]
  },
  {
   "cell_type": "code",
   "execution_count": null,
   "metadata": {},
   "outputs": [],
   "source": [
    "recon0 = estimator.get_loss()[0].detach()\n",
    "for i in range(len(bands)): \n",
    "    foo = ((recon0[0, i] - full_image[0, i]) / full_image[0, i])[5:95, 5:95]\n",
    "    plt.matshow(foo, vmax = foo.abs().max(), vmin = - foo.abs().max(), cmap = plt.get_cmap('bwr')) \n",
    "    plt.colorbar()"
   ]
  },
  {
   "cell_type": "code",
   "execution_count": null,
   "metadata": {},
   "outputs": [],
   "source": [
    "estimator.run_coordinate_ascent()"
   ]
  },
  {
   "cell_type": "code",
   "execution_count": null,
   "metadata": {},
   "outputs": [],
   "source": []
  },
  {
   "cell_type": "code",
   "execution_count": null,
   "metadata": {},
   "outputs": [],
   "source": [
    "recon1 = estimator.get_loss()[0].detach()\n",
    "for i in range(len(bands)): \n",
    "    foo = ((recon1[0, i] - full_image[0, i]) / full_image[0, i])[5:95, 5:95]\n",
    "    plt.matshow(foo, vmax = foo.abs().max(), vmin = - foo.abs().max(), cmap = plt.get_cmap('bwr')) \n",
    "    plt.colorbar()"
   ]
  },
  {
   "cell_type": "code",
   "execution_count": null,
   "metadata": {},
   "outputs": [],
   "source": [
    "list(estimator.planar_background.parameters())"
   ]
  },
  {
   "cell_type": "code",
   "execution_count": null,
   "metadata": {},
   "outputs": [],
   "source": [
    "true_background_params"
   ]
  },
  {
   "cell_type": "code",
   "execution_count": null,
   "metadata": {},
   "outputs": [],
   "source": [
    "nelec_per_nmgy = 856.\n",
    "is_on_bool = true_fluxes[0, :, 0] > 0\n",
    "est = sdss_dataset_lib.convert_nmgy_to_mag(estimator.get_fluxes().detach()[0, is_on_bool, :] / nelec_per_nmgy)\n",
    "truth = sdss_dataset_lib.convert_nmgy_to_mag(true_fluxes[0, is_on_bool, :] / nelec_per_nmgy)\n"
   ]
  },
  {
   "cell_type": "code",
   "execution_count": null,
   "metadata": {},
   "outputs": [],
   "source": [
    "plt.plot(est[:, 0], truth[:, 0], '+')\n",
    "plt.plot(truth[:, 0], truth[:, 0], '-')"
   ]
  },
  {
   "cell_type": "code",
   "execution_count": null,
   "metadata": {},
   "outputs": [],
   "source": [
    "plt.plot(est[:, 1], truth[:, 1], '+')\n",
    "plt.plot(truth[:, 1], truth[:, 1], '-')"
   ]
  },
  {
   "cell_type": "code",
   "execution_count": null,
   "metadata": {},
   "outputs": [],
   "source": [
    "import image_statistics_lib"
   ]
  },
  {
   "cell_type": "code",
   "execution_count": null,
   "metadata": {},
   "outputs": [],
   "source": [
    "image_statistics_lib.get_summary_stats(true_locs[0, is_on_bool], \n",
    "                                      true_locs[0, is_on_bool], \n",
    "                                      slen = 101, \n",
    "                                      est_fluxes = estimator.get_fluxes().detach()[0, is_on_bool, 0], \n",
    "                                      true_fluxes = true_fluxes[0, is_on_bool, 0],\n",
    "                                      nelec_per_nmgy = nelec_per_nmgy)[0:2]"
   ]
  },
  {
   "cell_type": "code",
   "execution_count": null,
   "metadata": {},
   "outputs": [],
   "source": [
    "estimator.get_background().shape"
   ]
  },
  {
   "cell_type": "code",
   "execution_count": null,
   "metadata": {},
   "outputs": [],
   "source": [
    "estimator.get_psf().shape"
   ]
  },
  {
   "cell_type": "code",
   "execution_count": null,
   "metadata": {},
   "outputs": [],
   "source": []
  }
 ],
 "metadata": {
  "kernelspec": {
   "display_name": "pytorch_update",
   "language": "python",
   "name": "pytorch_update"
  },
  "language_info": {
   "codemirror_mode": {
    "name": "ipython",
    "version": 3
   },
   "file_extension": ".py",
   "mimetype": "text/x-python",
   "name": "python",
   "nbconvert_exporter": "python",
   "pygments_lexer": "ipython3",
   "version": "3.6.8"
  }
 },
 "nbformat": 4,
 "nbformat_minor": 2
}

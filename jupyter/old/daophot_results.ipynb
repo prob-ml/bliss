{
 "cells": [
  {
   "cell_type": "code",
   "execution_count": null,
   "metadata": {},
   "outputs": [],
   "source": [
    "import numpy as np\n",
    "import torch\n",
    "\n",
    "import json\n",
    "\n",
    "import matplotlib.pyplot as plt\n",
    "\n",
    "import sys\n",
    "sys.path.insert(0, '../')\n",
    "import simulated_datasets_lib\n",
    "import sdss_dataset_lib\n",
    "import sdss_psf\n",
    "import image_utils \n",
    "import starnet_lib\n",
    "import inv_kl_objective_lib as inv_kl_lib\n",
    "import image_statistics_lib\n",
    "\n",
    "import plotting_utils\n",
    "\n",
    "np.random.seed(34534)"
   ]
  },
  {
   "cell_type": "markdown",
   "metadata": {},
   "source": [
    "\n",
    "# Load the data"
   ]
  },
  {
   "cell_type": "code",
   "execution_count": null,
   "metadata": {},
   "outputs": [],
   "source": [
    "fmin = 1000"
   ]
  },
  {
   "cell_type": "code",
   "execution_count": null,
   "metadata": {},
   "outputs": [],
   "source": [
    "bands = [2, 3]"
   ]
  },
  {
   "cell_type": "code",
   "execution_count": null,
   "metadata": {},
   "outputs": [],
   "source": [
    "if len(bands) == 2: \n",
    "    background_bias = torch.Tensor([168., 222.])\n",
    "elif len(bands) == 1: \n",
    "    background_bias = torch.Tensor([168.])\n",
    "else: \n",
    "    assert 1 == 2, 'not implemented error'\n",
    "    "
   ]
  },
  {
   "cell_type": "code",
   "execution_count": null,
   "metadata": {},
   "outputs": [],
   "source": [
    "sdss_hubble_data = sdss_dataset_lib.SDSSHubbleData(bands = bands, \n",
    "                                                  background_bias = background_bias)\n",
    "\n",
    "# image \n",
    "full_image = sdss_hubble_data.sdss_image\n",
    "full_background = sdss_hubble_data.sdss_background \n",
    "\n",
    "# true parameters\n",
    "which_bright = (sdss_hubble_data.fluxes[:, 0] > fmin)\n",
    "true_locs = sdss_hubble_data.locs[which_bright]\n",
    "true_fluxes = sdss_hubble_data.fluxes[which_bright]\n"
   ]
  },
  {
   "cell_type": "code",
   "execution_count": null,
   "metadata": {},
   "outputs": [],
   "source": []
  },
  {
   "cell_type": "code",
   "execution_count": null,
   "metadata": {},
   "outputs": [],
   "source": []
  },
  {
   "cell_type": "markdown",
   "metadata": {},
   "source": [
    "# Simulator"
   ]
  },
  {
   "cell_type": "code",
   "execution_count": null,
   "metadata": {},
   "outputs": [],
   "source": [
    "import fitsio"
   ]
  },
  {
   "cell_type": "code",
   "execution_count": null,
   "metadata": {},
   "outputs": [],
   "source": [
    "psf_dir = '../data/'\n",
    "psf_r = fitsio.FITS(psf_dir + 'sdss-002583-2-0136-psf-r.fits')[0].read()\n",
    "psf_i = fitsio.FITS(psf_dir + 'sdss-002583-2-0136-psf-i.fits')[0].read()\n",
    "\n",
    "if len(bands) == 2: \n",
    "    psf_og = np.array([psf_r, psf_i])\n",
    "elif len(bands) == 1: \n",
    "    psf_og = np.array([psf_r])\n",
    "else: \n",
    "    assert 1 == 2, 'not implemented error'\n",
    "    \n",
    "sky_intensity = full_background.reshape(full_background.shape[0], -1).mean(1)\n"
   ]
  },
  {
   "cell_type": "code",
   "execution_count": null,
   "metadata": {},
   "outputs": [],
   "source": [
    "simulator = simulated_datasets_lib.StarSimulator(psf=psf_og, \n",
    "                                                slen = full_image.shape[-1], \n",
    "                                                transpose_psf = False,\n",
    "                                                sky_intensity = sky_intensity)\n",
    "\n"
   ]
  },
  {
   "cell_type": "markdown",
   "metadata": {},
   "source": [
    "# Load and clean DAOPHOT results"
   ]
  },
  {
   "cell_type": "code",
   "execution_count": null,
   "metadata": {},
   "outputs": [],
   "source": [
    "def load_daophot_results(data_file, sdss_hubble_data, include_i_band = False): \n",
    "    \n",
    "    x0 = sdss_hubble_data.x0\n",
    "    x1 = sdss_hubble_data.x1 \n",
    "    \n",
    "    daophot_file = np.loadtxt(data_file)\n",
    "    \n",
    "    # load desired quantities\n",
    "    daophot_ra = daophot_file[:, 4]\n",
    "    daophot_decl = daophot_file[:, 5]\n",
    "    daophot_mags = daophot_file[:, 22]\n",
    "    \n",
    "    # get pixel coordinates\n",
    "    pix_coords = sdss_hubble_data.wcs.wcs_world2pix(daophot_ra, daophot_decl, 0, ra_dec_order = True)\n",
    "    \n",
    "    # get locations inside our square\n",
    "    which_locs = (pix_coords[1] > x0) & (pix_coords[1] < (x0 + sdss_hubble_data.slen - 1)) & \\\n",
    "                        (pix_coords[0] > x1) & (pix_coords[0] < (x1 + sdss_hubble_data.slen - 1))\n",
    "    \n",
    "    # scale between zero and ones\n",
    "    daophot_locs0 = (pix_coords[1][which_locs] - x0) / (sdss_hubble_data.slen - 1)\n",
    "    daophot_locs1 = (pix_coords[0][which_locs] - x1) / (sdss_hubble_data.slen - 1)\n",
    "    daophot_locs = torch.Tensor(np.array([daophot_locs0, daophot_locs1]).transpose())\n",
    "    \n",
    "    # get fluxes\n",
    "    daophot_fluxes = sdss_dataset_lib.convert_mag_to_nmgy(daophot_mags[which_locs]) * \\\n",
    "                        sdss_hubble_data.nelec_per_nmgy_full.mean() * \\\n",
    "                        sdss_hubble_data.fudge_conversion\n",
    "    \n",
    "    if include_i_band: \n",
    "        daophot_i_mags = daophot_file[:, 29]\n",
    "        daophot_i_fluxes = sdss_dataset_lib.convert_mag_to_nmgy(daophot_i_mags[which_locs]) * \\\n",
    "                        sdss_hubble_data.nelec_per_nmgy_full.mean() * \\\n",
    "                        sdss_hubble_data.fudge_conversion\n",
    "        daophot_fluxes = torch.Tensor([daophot_fluxes, daophot_i_fluxes]).transpose(0, 1)\n",
    "    \n",
    "    else: \n",
    "        daophot_fluxes = torch.Tensor(daophot_fluxes).unsqueeze(1)\n",
    "    \n",
    "    return daophot_locs, daophot_fluxes"
   ]
  },
  {
   "cell_type": "code",
   "execution_count": null,
   "metadata": {},
   "outputs": [],
   "source": [
    "def align_daophot_locs(daophot_locs, daophot_fluxes, true_locs, slen): \n",
    "    \n",
    "    perm = image_statistics_lib.get_locs_error(daophot_locs, true_locs).argmin(0)\n",
    "    which_brightest = torch.nonzero(torch.log10(daophot_fluxes).squeeze() > 4.5).squeeze()\n",
    "    locs_err = (daophot_locs[which_brightest] - true_locs[perm][which_brightest]) * (slen - 1)\n",
    "    \n",
    "    bias_x1 = locs_err[:, 1].median() / (slen - 1)\n",
    "    bias_x0 = locs_err[:, 0].median() / (slen - 1)\n",
    "    \n",
    "    return bias_x0, bias_x1"
   ]
  },
  {
   "cell_type": "code",
   "execution_count": null,
   "metadata": {},
   "outputs": [],
   "source": [
    "daophot_locs, daophot_fluxes = load_daophot_results('../daophot_results/m2_2583.phot.txt', \n",
    "                                                    sdss_hubble_data, include_i_band = True)\n",
    "\n",
    "bias_x0, bias_x1 = align_daophot_locs(daophot_locs, daophot_fluxes[:, 0], true_locs, sdss_hubble_data.slen)\n",
    "\n",
    "daophot_locs[:, 0] -= bias_x0\n",
    "daophot_locs[:, 1] -= bias_x1\n",
    "\n",
    "# after filtering, some locs are less than 0 or\n",
    "which_filter = (daophot_locs[:, 0] > 0) & (daophot_locs[:, 0] < 1) & \\\n",
    "                (daophot_locs[:, 1] > 0) & (daophot_locs[:, 1] < 1)\n",
    "    \n",
    "daophot_locs = daophot_locs[which_filter]\n",
    "daophot_fluxes = daophot_fluxes[which_filter]"
   ]
  },
  {
   "cell_type": "markdown",
   "metadata": {},
   "source": [
    "# Get DAOPHOT reconstruction"
   ]
  },
  {
   "cell_type": "code",
   "execution_count": null,
   "metadata": {},
   "outputs": [],
   "source": [
    "daophot_recon = simulator.draw_image_from_params(locs = daophot_locs.unsqueeze(0), \n",
    "                                fluxes = daophot_fluxes.unsqueeze(0), \n",
    "                                n_stars = torch.Tensor([len(daophot_fluxes)]).type(torch.long), \n",
    "                                add_noise = False)"
   ]
  },
  {
   "cell_type": "code",
   "execution_count": null,
   "metadata": {},
   "outputs": [],
   "source": [
    "plt.matshow(sdss_hubble_data.sdss_image[0])"
   ]
  },
  {
   "cell_type": "code",
   "execution_count": null,
   "metadata": {},
   "outputs": [],
   "source": [
    "for i in range(len(bands)): \n",
    "    plt.matshow(daophot_recon[0, i])\n",
    "    plt.colorbar()"
   ]
  },
  {
   "cell_type": "code",
   "execution_count": null,
   "metadata": {},
   "outputs": [],
   "source": [
    "for i in range(len(bands)): \n",
    "    foo = (daophot_recon[0, i].squeeze() - sdss_hubble_data.sdss_image[i]) / sdss_hubble_data.sdss_image[i]\n",
    "    plt.matshow(foo, vmax = foo.abs().max(), vmin = - foo.abs().max(), cmap = plt.get_cmap('bwr')) \n",
    "    plt.colorbar()"
   ]
  },
  {
   "cell_type": "code",
   "execution_count": null,
   "metadata": {},
   "outputs": [],
   "source": []
  },
  {
   "cell_type": "code",
   "execution_count": null,
   "metadata": {},
   "outputs": [],
   "source": [
    "fig, axarr = plt.subplots(1, 3, figsize=(12, 3))\n",
    "\n",
    "np.random.seed(23423)\n",
    "for i in range(3): \n",
    "\n",
    "    x0 = int(np.random.choice(100, 1))\n",
    "    x1 = int(np.random.choice(100, 1))\n",
    "    plotting_utils.plot_subimage(axarr[i], sdss_hubble_data.sdss_image[0],\n",
    "                                         daophot_locs,\n",
    "                                         sdss_hubble_data.locs[sdss_hubble_data.fluxes[:, 0] > 1000], \n",
    "                                         x0, x1, subimage_slen = 10, \n",
    "                                        add_colorbar = True, \n",
    "                                         global_fig = fig)\n",
    "    \n",
    "\n",
    "fig.tight_layout()\n",
    "\n",
    "# plt.savefig('../../qualifying_exam_slides/figures/daophot_results.png')"
   ]
  },
  {
   "cell_type": "code",
   "execution_count": null,
   "metadata": {},
   "outputs": [],
   "source": [
    "for i in range(3): \n",
    "    fig, axarr = plt.subplots(1, 2, figsize=(12, 6))\n",
    "\n",
    "    x0 = int(np.random.choice(100, 1))\n",
    "    x1 = int(np.random.choice(100, 1))\n",
    "    plotting_utils.plot_subimage(axarr[0], sdss_hubble_data.sdss_image[0],\n",
    "                                         daophot_locs,\n",
    "                                         sdss_hubble_data.locs[sdss_hubble_data.fluxes[:, 0] > 1000], \n",
    "                                         x0, x1, subimage_slen = 10, \n",
    "                                        add_colorbar = True, \n",
    "                                         global_fig = fig)\n",
    "    \n",
    "    plotting_utils.plot_subimage(axarr[1], foo,\n",
    "                                         daophot_locs,\n",
    "                                         sdss_hubble_data.locs[sdss_hubble_data.fluxes[:, 0] > 1000], \n",
    "                                         x0, x1, subimage_slen = 10, \n",
    "                                        add_colorbar = True, \n",
    "                                         diverging_cmap = True, \n",
    "                                         global_fig = fig)"
   ]
  },
  {
   "cell_type": "code",
   "execution_count": null,
   "metadata": {},
   "outputs": [],
   "source": [
    "filter_daophot_min = true_fluxes[:, 0] > daophot_fluxes[:, 0].min()\n",
    "\n",
    "completeness, tpr, _, _ = \\\n",
    "    image_statistics_lib.get_summary_stats(daophot_locs, \n",
    "                                           true_locs[filter_daophot_min, :], \n",
    "                                           101, \n",
    "                                           daophot_fluxes[:, 0], \n",
    "                                           true_fluxes[filter_daophot_min, 0], pad = 0, slack = 0.5)"
   ]
  },
  {
   "cell_type": "code",
   "execution_count": null,
   "metadata": {},
   "outputs": [],
   "source": [
    "(completeness, tpr)"
   ]
  },
  {
   "cell_type": "markdown",
   "metadata": {},
   "source": [
    "# Color magnitude diagram on subset of M2"
   ]
  },
  {
   "cell_type": "code",
   "execution_count": null,
   "metadata": {},
   "outputs": [],
   "source": [
    "daophot_mag = sdss_dataset_lib.convert_nmgy_to_mag(daophot_fluxes[:, 0] /\\\n",
    "                                                       sdss_hubble_data.nelec_per_nmgy_full.mean())\n",
    "\n",
    "daophot_i_mag = sdss_dataset_lib.convert_nmgy_to_mag(daophot_fluxes[:, 1] /\\\n",
    "                                                       sdss_hubble_data.nelec_per_nmgy_full.mean())"
   ]
  },
  {
   "cell_type": "code",
   "execution_count": null,
   "metadata": {},
   "outputs": [],
   "source": [
    "plt.hist(daophot_mag);"
   ]
  },
  {
   "cell_type": "code",
   "execution_count": null,
   "metadata": {},
   "outputs": [],
   "source": [
    "plt.hist(daophot_mag - daophot_i_mag);"
   ]
  },
  {
   "cell_type": "code",
   "execution_count": null,
   "metadata": {},
   "outputs": [],
   "source": [
    "plt.plot(daophot_mag - daophot_i_mag, -daophot_mag, '+')"
   ]
  },
  {
   "cell_type": "code",
   "execution_count": null,
   "metadata": {},
   "outputs": [],
   "source": []
  },
  {
   "cell_type": "markdown",
   "metadata": {},
   "source": [
    "# Color magnitude diagram on full M2"
   ]
  },
  {
   "cell_type": "code",
   "execution_count": null,
   "metadata": {},
   "outputs": [],
   "source": [
    "daophot_txt = np.loadtxt('../daophot_results/m2_2583.phot.txt')"
   ]
  },
  {
   "cell_type": "code",
   "execution_count": null,
   "metadata": {},
   "outputs": [],
   "source": [
    "daophot_mag_full = daophot_txt[:, 22]\n",
    "daophot_i_mag_full = daophot_txt[:, 29]\n",
    "\n",
    "which_keep = (daophot_mag_full < 99) & (daophot_i_mag_full < 99)\n",
    "\n",
    "daophot_mag_full = daophot_mag_full[which_keep]\n",
    "daophot_i_mag_full = daophot_i_mag_full[which_keep]"
   ]
  },
  {
   "cell_type": "code",
   "execution_count": null,
   "metadata": {},
   "outputs": [],
   "source": [
    "plt.hist(daophot_mag_full);"
   ]
  },
  {
   "cell_type": "code",
   "execution_count": null,
   "metadata": {},
   "outputs": [],
   "source": [
    "plt.hist(daophot_mag_full - daophot_i_mag_full);"
   ]
  },
  {
   "cell_type": "code",
   "execution_count": null,
   "metadata": {},
   "outputs": [],
   "source": [
    "fic_sequence = np.loadtxt('../daophot_results/an_table_28.txt')"
   ]
  },
  {
   "cell_type": "code",
   "execution_count": null,
   "metadata": {},
   "outputs": [],
   "source": [
    "plt.plot(daophot_mag_full - daophot_i_mag_full, -daophot_mag_full, '+', alpha = 0.5)\n",
    "plt.plot(fic_sequence[:, 3] - fic_sequence[:, 2], -fic_sequence[:, 0], color = 'red')"
   ]
  },
  {
   "cell_type": "code",
   "execution_count": null,
   "metadata": {},
   "outputs": [],
   "source": []
  },
  {
   "cell_type": "code",
   "execution_count": null,
   "metadata": {},
   "outputs": [],
   "source": []
  },
  {
   "cell_type": "code",
   "execution_count": null,
   "metadata": {},
   "outputs": [],
   "source": []
  },
  {
   "cell_type": "raw",
   "metadata": {},
   "source": [
    "len0 = sdss_hubble_data.sdss_image_full.shape[1]\n",
    "len1 = sdss_hubble_data.sdss_image_full.shape[2]"
   ]
  },
  {
   "cell_type": "raw",
   "metadata": {},
   "source": [
    "daophot_file = np.loadtxt('../daophot_results/m2_2583.phot.txt')"
   ]
  },
  {
   "cell_type": "raw",
   "metadata": {},
   "source": [
    "daophot_ra = daophot_file[:, 4]\n",
    "daophot_decl = daophot_file[:, 5]\n",
    "daophot_mags = daophot_file[:, 22]"
   ]
  },
  {
   "cell_type": "raw",
   "metadata": {},
   "source": [
    "pix_coords = sdss_hubble_data.wcs.wcs_world2pix(daophot_ra, daophot_decl, 0, ra_dec_order = True)\n",
    "# pix_coords = (daophot_file[:, 21], daophot_file[:, 20])\n",
    "\n",
    "pix_coords[1] = pix_coords[1] - 0.38\n",
    "pix_coords[0] = pix_coords[0] - 0.56"
   ]
  },
  {
   "cell_type": "raw",
   "metadata": {},
   "source": [
    "x0 = 630\n",
    "x1 = 310"
   ]
  },
  {
   "cell_type": "raw",
   "metadata": {},
   "source": [
    "which_locs = (pix_coords[1] > x0) & (pix_coords[1] < (x0 + sdss_hubble_data.slen - 1)) & \\\n",
    "                        (pix_coords[0] > x1) & (pix_coords[0] < (x1 + sdss_hubble_data.slen - 1))"
   ]
  },
  {
   "cell_type": "raw",
   "metadata": {},
   "source": [
    "which_locs.sum()"
   ]
  },
  {
   "cell_type": "raw",
   "metadata": {},
   "source": [
    "daophot_locs0 = (pix_coords[1][which_locs] - x0) / (sdss_hubble_data.slen - 1)\n",
    "daophot_locs1 = (pix_coords[0][which_locs] - x1) / (sdss_hubble_data.slen - 1)"
   ]
  },
  {
   "cell_type": "raw",
   "metadata": {},
   "source": [
    "daophot_locs = torch.Tensor(np.array([daophot_locs0, daophot_locs1]).transpose())"
   ]
  },
  {
   "cell_type": "raw",
   "metadata": {},
   "source": [
    "daophot_locs.max()"
   ]
  },
  {
   "cell_type": "raw",
   "metadata": {},
   "source": [
    "daophot_locs.min()"
   ]
  },
  {
   "cell_type": "raw",
   "metadata": {},
   "source": [
    "daophot_fluxes = sdss_dataset_lib.convert_mag_to_nmgy(daophot_mags[which_locs]) * \\\n",
    "                    sdss_hubble_data.nelec_per_nmgy_full.mean() * \\\n",
    "                    sdss_hubble_data.fudge_conversion\n",
    "        \n",
    "daophot_fluxes = torch.Tensor(daophot_fluxes).unsqueeze(1)"
   ]
  },
  {
   "cell_type": "raw",
   "metadata": {},
   "source": [
    "perm = image_statistics_lib.get_locs_error(daophot_locs, true_locs).argmin(0)"
   ]
  },
  {
   "cell_type": "raw",
   "metadata": {},
   "source": [
    "which_brightest = torch.nonzero(torch.log10(daophot_fluxes).squeeze() > 4.5).squeeze()"
   ]
  },
  {
   "cell_type": "raw",
   "metadata": {},
   "source": [
    "locs_err = (daophot_locs[which_brightest] - true_locs[perm][which_brightest]) * 100."
   ]
  },
  {
   "cell_type": "raw",
   "metadata": {},
   "source": [
    "locs_err[:, 1].median()"
   ]
  },
  {
   "cell_type": "raw",
   "metadata": {},
   "source": [
    "locs_err[:, 0].median()"
   ]
  },
  {
   "cell_type": "raw",
   "metadata": {},
   "source": []
  }
 ],
 "metadata": {
  "kernelspec": {
   "display_name": "pytorch_update",
   "language": "python",
   "name": "pytorch_update"
  },
  "language_info": {
   "codemirror_mode": {
    "name": "ipython",
    "version": 3
   },
   "file_extension": ".py",
   "mimetype": "text/x-python",
   "name": "python",
   "nbconvert_exporter": "python",
   "pygments_lexer": "ipython3",
   "version": "3.6.8"
  }
 },
 "nbformat": 4,
 "nbformat_minor": 2
}

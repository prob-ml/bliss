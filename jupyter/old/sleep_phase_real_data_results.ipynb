{
 "cells": [
  {
   "cell_type": "code",
   "execution_count": null,
   "metadata": {},
   "outputs": [],
   "source": [
    "import numpy as np\n",
    "import timeit\n",
    "\n",
    "import matplotlib.pyplot as plt\n",
    "\n",
    "import torch\n",
    "import torch.optim as optim\n",
    "\n",
    "import fitsio \n",
    "\n",
    "import sys\n",
    "sys.path.insert(0, './../')\n",
    "import sdss_psf\n",
    "import simulated_datasets_lib\n",
    "import starnet_lib\n",
    "import sdss_dataset_lib\n",
    "import plotting_utils\n",
    "import image_statistics_lib\n",
    "import utils\n",
    "import psf_transform_lib\n",
    "import sleep_lib\n",
    "\n",
    "import image_utils\n",
    "\n",
    "import time\n",
    "\n",
    "import json\n",
    "\n",
    "device = torch.device(\"cuda:0\" if torch.cuda.is_available() else \"cpu\")\n",
    "\n",
    "print('torch version: ', torch.__version__)\n",
    "\n",
    "from copy import deepcopy"
   ]
  },
  {
   "cell_type": "code",
   "execution_count": null,
   "metadata": {},
   "outputs": [],
   "source": [
    "np.random.seed(22)\n",
    "_ = torch.manual_seed(22)"
   ]
  },
  {
   "cell_type": "markdown",
   "metadata": {},
   "source": [
    "# Load data"
   ]
  },
  {
   "cell_type": "code",
   "execution_count": null,
   "metadata": {},
   "outputs": [],
   "source": [
    "sdss_hubble_data = sdss_dataset_lib.SDSSHubbleData(bands = [2, 3])"
   ]
  },
  {
   "cell_type": "code",
   "execution_count": null,
   "metadata": {},
   "outputs": [],
   "source": [
    "f_min = 1000.\n",
    "n_elect_per_nmgy = sdss_hubble_data.nelec_per_nmgy.mean()"
   ]
  },
  {
   "cell_type": "code",
   "execution_count": null,
   "metadata": {},
   "outputs": [],
   "source": [
    "# the oberved data \n",
    "sdss_images_full = sdss_hubble_data.sdss_image.unsqueeze(0)\n",
    "\n",
    "# get true parameters\n",
    "backgrounds_full = sdss_hubble_data.sdss_background.unsqueeze(0)\n",
    "\n",
    "which_bright = sdss_hubble_data.fluxes[:, 0] > f_min\n",
    "true_full_locs = sdss_hubble_data.locs[which_bright].unsqueeze(0)\n",
    "true_full_fluxes = sdss_hubble_data.fluxes[which_bright].unsqueeze(0)"
   ]
  },
  {
   "cell_type": "code",
   "execution_count": null,
   "metadata": {},
   "outputs": [],
   "source": [
    "# get PSFs \n",
    "bands = [2, 3]\n",
    "psfield_file = '../../celeste_net/sdss_stage_dir/2583/2/136/psField-002583-2-0136.fit'\n",
    "init_psf_params = psf_transform_lib.get_psf_params(\n",
    "                                    psfield_file,\n",
    "                                    bands = bands)\n",
    "power_law_psf = psf_transform_lib.PowerLawPSF(init_psf_params.to(device))\n",
    "psf_og = power_law_psf.forward().detach()"
   ]
  },
  {
   "cell_type": "code",
   "execution_count": null,
   "metadata": {},
   "outputs": [],
   "source": [
    "# default background\n",
    "import wake_lib\n",
    "init_background_params = torch.zeros(len(bands), 3).to(device)\n",
    "init_background_params[:, 0] = torch.Tensor([686., 1123.])\n",
    "planar_background = wake_lib.PlanarBackground(image_slen = sdss_images_full.shape[-1], \n",
    "                            init_background_params = init_background_params.to(device))\n",
    "background = planar_background.forward().detach()\n"
   ]
  },
  {
   "cell_type": "code",
   "execution_count": null,
   "metadata": {},
   "outputs": [],
   "source": [
    "simulator = simulated_datasets_lib.StarSimulator(psf_og, sdss_images_full.shape[-1], \n",
    "                                                 background, \n",
    "                                                 transpose_psf = False)"
   ]
  },
  {
   "cell_type": "code",
   "execution_count": null,
   "metadata": {},
   "outputs": [],
   "source": []
  },
  {
   "cell_type": "markdown",
   "metadata": {},
   "source": [
    "# Load VAE"
   ]
  },
  {
   "cell_type": "code",
   "execution_count": null,
   "metadata": {},
   "outputs": [],
   "source": [
    "star_encoder = starnet_lib.StarEncoder(full_slen = sdss_images_full.shape[-1], \n",
    "                                            stamp_slen = 7,\n",
    "                                            step = 2,\n",
    "                                            edge_padding = 2, \n",
    "                                            n_bands = 2,\n",
    "                                            max_detections = 2, \n",
    "                                          estimate_flux = True)"
   ]
  },
  {
   "cell_type": "code",
   "execution_count": null,
   "metadata": {},
   "outputs": [],
   "source": [
    "star_encoder.load_state_dict(torch.load('../fits/results_2020-02-17/starnet_ri',\n",
    "                               map_location=lambda storage, loc: storage))\n",
    "star_encoder.eval(); "
   ]
  },
  {
   "cell_type": "markdown",
   "metadata": {},
   "source": [
    "# OK first, let us check results on data simulated using hubble parameters"
   ]
  },
  {
   "cell_type": "code",
   "execution_count": null,
   "metadata": {},
   "outputs": [],
   "source": [
    "# simulate data using hubble parameters\n",
    "# two options for here: can either draw from bright stars only or all the stars\n",
    "\n",
    "draw_all_stars = False\n",
    "if draw_all_stars: \n",
    "    sim_images_full = simulator.draw_image_from_params(locs = sdss_hubble_data.locs.unsqueeze(0), \n",
    "                            fluxes = sdss_hubble_data.fluxes.unsqueeze(0), \n",
    "                            n_stars = torch.Tensor([len(sdss_hubble_data.locs)]).type(torch.LongTensor), \n",
    "                            add_noise = True) \n",
    "else: \n",
    "    sim_images_full = simulator.draw_image_from_params(locs = true_full_locs,\n",
    "                            fluxes = true_full_fluxes,\n",
    "                            n_stars = torch.Tensor([true_full_locs.shape[1]]).type(torch.LongTensor), \n",
    "                            add_noise = True) "
   ]
  },
  {
   "cell_type": "markdown",
   "metadata": {},
   "source": [
    "### check residuals between simulated image and true image"
   ]
  },
  {
   "cell_type": "code",
   "execution_count": null,
   "metadata": {},
   "outputs": [],
   "source": [
    "band = 0"
   ]
  },
  {
   "cell_type": "code",
   "execution_count": null,
   "metadata": {},
   "outputs": [],
   "source": [
    "f, axarr = plt.subplots(1, 3, figsize=(16, 6))\n",
    "\n",
    "im0 = axarr[0].matshow(sdss_images_full[0, band]); \n",
    "f.colorbar(im0, ax = axarr[0])\n",
    "axarr[0].set_title('true sdss image')\n",
    "\n",
    "im1 = axarr[1].matshow(sim_images_full[0, band]); \n",
    "f.colorbar(im1, ax = axarr[1])\n",
    "axarr[1].set_title('simulated sdss image')\n",
    "\n",
    "\n",
    "residual = torch.log10(sim_images_full[0, band]) - torch.log10(sdss_images_full[0, band])\n",
    "vmax = residual[10:90, 10:90].abs().max()\n",
    "im2 = axarr[2].matshow(residual[10:90, 10:90], vmax = vmax, vmin = -vmax, cmap=plt.get_cmap('bwr')); \n",
    "f.colorbar(im2, ax = axarr[2])\n",
    "axarr[2].set_title('residual')"
   ]
  },
  {
   "cell_type": "markdown",
   "metadata": {},
   "source": [
    "## Check loss"
   ]
  },
  {
   "cell_type": "code",
   "execution_count": null,
   "metadata": {},
   "outputs": [],
   "source": [
    "# check loss \n",
    "loss, counter_loss, locs_loss, fluxes_loss, perm_indx = \\\n",
    "    sleep_lib.get_encoder_loss(star_encoder, sim_images_full, backgrounds_full, \n",
    "                                true_full_locs, true_full_fluxes)[0:5]"
   ]
  },
  {
   "cell_type": "code",
   "execution_count": null,
   "metadata": {},
   "outputs": [],
   "source": [
    "print('loss: {:06f}'.format(loss))"
   ]
  },
  {
   "cell_type": "code",
   "execution_count": null,
   "metadata": {},
   "outputs": [],
   "source": [
    "print(counter_loss.mean())\n",
    "print(locs_loss.mean())\n",
    "print(fluxes_loss.mean())"
   ]
  },
  {
   "cell_type": "markdown",
   "metadata": {},
   "source": [
    "## Check reconstructions"
   ]
  },
  {
   "cell_type": "code",
   "execution_count": null,
   "metadata": {},
   "outputs": [],
   "source": [
    "# get parameters on the simulated image \n",
    "map_locs_sim_image, map_fluxes_sim_image, map_n_stars_sim_image = \\\n",
    "        star_encoder.sample_star_encoder(sim_images_full, backgrounds_full, \n",
    "                                        return_map_n_stars = True, \n",
    "                                        return_map_star_params = True)[0:3]"
   ]
  },
  {
   "cell_type": "code",
   "execution_count": null,
   "metadata": {},
   "outputs": [],
   "source": [
    "# get reconstructed mean\n",
    "vae_recon_mean = simulator.draw_image_from_params(locs = map_locs_sim_image, \n",
    "                                                fluxes = map_fluxes_sim_image,\n",
    "                                                 n_stars = map_n_stars_sim_image, \n",
    "                                                 add_noise = False).detach()"
   ]
  },
  {
   "cell_type": "code",
   "execution_count": null,
   "metadata": {},
   "outputs": [],
   "source": [
    "band"
   ]
  },
  {
   "cell_type": "code",
   "execution_count": null,
   "metadata": {},
   "outputs": [],
   "source": [
    "fig, axarr = plt.subplots(1, 3, figsize=(15, 4))\n",
    "im0 = axarr[0].matshow(sim_images_full[0, band][5:95, 5:95])\n",
    "fig.colorbar(im0, ax = axarr[0])\n",
    "\n",
    "im1 = axarr[1].matshow(vae_recon_mean[0, band][5:95, 5:95])\n",
    "fig.colorbar(im1, ax = axarr[1])\n",
    "\n",
    "residual = torch.log10(vae_recon_mean[0, band]) - torch.log10(sim_images_full[0, band])\n",
    "_residual = (residual * 2.5)[5:95, 5:95]\n",
    "# (torch.log(vae_recon_mean.squeeze()) - torch.log(images_full.squeeze()))[10:90, 10:90]\n",
    "vmax = _residual.abs().max()\n",
    "im2 = axarr[2].matshow(_residual, vmax = vmax, vmin = -vmax, cmap=plt.get_cmap('bwr'))\n",
    "fig.colorbar(im2, ax = axarr[2])"
   ]
  },
  {
   "cell_type": "code",
   "execution_count": null,
   "metadata": {},
   "outputs": [],
   "source": [
    "def get_which_tile(x0, x1, tile_coords, edge_padding, stamp_slen): \n",
    "    coords = tile_coords + edge_padding\n",
    "    \n",
    "    view_slen = stamp_slen - 2 * edge_padding\n",
    "    \n",
    "    indx = torch.where((x0 > coords[:, 0]) & \\\n",
    "                       (x0 < coords[:, 0] + view_slen) & \\\n",
    "                       (x1 > coords[:, 1]) & \\\n",
    "                       (x1 < coords[:, 1] + view_slen))\n",
    "        \n",
    "    return tile_coords[indx], indx"
   ]
  },
  {
   "cell_type": "code",
   "execution_count": null,
   "metadata": {},
   "outputs": [],
   "source": [
    "get_which_tile(77, 67, star_encoder.tile_coords, star_encoder.edge_padding, star_encoder.stamp_slen)"
   ]
  },
  {
   "cell_type": "code",
   "execution_count": null,
   "metadata": {},
   "outputs": [],
   "source": [
    "f, axarr = plt.subplots(1, 3, figsize=(16, 4))\n",
    "\n",
    "indx = 1808 # int(np.random.choice(star_encoder.tile_coords.shape[0], 1))\n",
    "\n",
    "results = plotting_utils.plot_subimage(axarr[0], sim_images_full[0, band],\n",
    "                            map_locs_sim_image.squeeze(), \n",
    "                            true_full_locs.squeeze(), \n",
    "                            int(star_encoder.tile_coords[indx, 0]), \n",
    "                            int(star_encoder.tile_coords[indx, 1]), \n",
    "                            subimage_slen = star_encoder.stamp_slen, \n",
    "                            add_colorbar = True, \n",
    "                            global_fig = f)\n",
    "\n",
    "plotting_utils.plot_subimage(axarr[1], vae_recon_mean[0, band],\n",
    "                            map_locs_sim_image.squeeze(), \n",
    "                            None, \n",
    "                            int(star_encoder.tile_coords[indx, 0]), \n",
    "                            int(star_encoder.tile_coords[indx, 1]), \n",
    "                            subimage_slen = star_encoder.stamp_slen, \n",
    "                            add_colorbar = True, \n",
    "                            global_fig = f)\n",
    "\n",
    "foo = torch.log10(vae_recon_mean[0, band]) - torch.log10(sim_images_full[0, band])\n",
    "plotting_utils.plot_subimage(axarr[2], foo * 2.5, \n",
    "                            map_locs_sim_image.squeeze(), \n",
    "                            None, \n",
    "                            int(star_encoder.tile_coords[indx, 0]), \n",
    "                            int(star_encoder.tile_coords[indx, 1]), \n",
    "                            subimage_slen = star_encoder.stamp_slen, \n",
    "                            add_colorbar = True, \n",
    "                            global_fig = f, \n",
    "                            diverging_cmap = True)\n",
    "\n",
    "axarr[0].axvline(x=2, color = 'r')\n",
    "axarr[0].axvline(x=4, color = 'r')\n",
    "axarr[0].axhline(y=2, color = 'r')\n",
    "axarr[0].axhline(y=4, color = 'r')\n",
    "\n",
    "axarr[1].axvline(x=2, color = 'r')\n",
    "axarr[1].axvline(x=4, color = 'r')\n",
    "axarr[1].axhline(y=2, color = 'r')\n",
    "axarr[1].axhline(y=4, color = 'r')"
   ]
  },
  {
   "cell_type": "markdown",
   "metadata": {},
   "source": [
    "## Check summary statistics"
   ]
  },
  {
   "cell_type": "code",
   "execution_count": null,
   "metadata": {},
   "outputs": [],
   "source": [
    "pad = 0"
   ]
  },
  {
   "cell_type": "code",
   "execution_count": null,
   "metadata": {},
   "outputs": [],
   "source": [
    "completeness, tpr, completeness_bool, tpr_bool = \\\n",
    "    image_statistics_lib.get_summary_stats(map_locs_sim_image.squeeze(), \n",
    "                                           true_full_locs.squeeze(), \n",
    "                                           star_encoder.full_slen, \n",
    "                                           map_fluxes_sim_image.squeeze(0)[:, 0], \n",
    "                                           true_full_fluxes.squeeze(0)[:, 0], \n",
    "                                          n_elect_per_nmgy, pad = 0)\n",
    "    \n",
    "print('completeness: {:0.3f}'.format(completeness))\n",
    "print('true positive rate: {:0.3f}'.format(tpr))"
   ]
  },
  {
   "cell_type": "code",
   "execution_count": null,
   "metadata": {},
   "outputs": [],
   "source": []
  },
  {
   "cell_type": "code",
   "execution_count": null,
   "metadata": {},
   "outputs": [],
   "source": [
    "completeness_vec, mag_vec_c, counts = \\\n",
    "    image_statistics_lib.get_completeness_vec(map_locs_sim_image.squeeze(), \n",
    "                                           true_full_locs.squeeze(), \n",
    "                                           star_encoder.full_slen, \n",
    "                                           map_fluxes_sim_image.squeeze(0)[:, 0], \n",
    "                                           true_full_fluxes.squeeze(0)[:, 0], \n",
    "                                             n_elect_per_nmgy)\n",
    "\n",
    "plt.plot(mag_vec_c[0:-1], completeness_vec, '--x', label = 'sim')\n",
    "plt.xlabel('true log flux')\n",
    "plt.ylabel('completeness')\n"
   ]
  },
  {
   "cell_type": "code",
   "execution_count": null,
   "metadata": {},
   "outputs": [],
   "source": [
    "counts"
   ]
  },
  {
   "cell_type": "code",
   "execution_count": null,
   "metadata": {},
   "outputs": [],
   "source": [
    "true_mags = sdss_dataset_lib.convert_nmgy_to_mag(true_full_fluxes.squeeze(0)[:, 0] / n_elect_per_nmgy)\n",
    "est_mags = sdss_dataset_lib.convert_nmgy_to_mag(map_fluxes_sim_image.squeeze(0)[:, 0] / n_elect_per_nmgy)"
   ]
  },
  {
   "cell_type": "code",
   "execution_count": null,
   "metadata": {},
   "outputs": [],
   "source": [
    "indx = (completeness_bool == 0) & (true_mags < 16)\n",
    "true_full_locs.squeeze()[indx]"
   ]
  },
  {
   "cell_type": "code",
   "execution_count": null,
   "metadata": {},
   "outputs": [],
   "source": []
  },
  {
   "cell_type": "code",
   "execution_count": null,
   "metadata": {},
   "outputs": [],
   "source": []
  },
  {
   "cell_type": "code",
   "execution_count": null,
   "metadata": {},
   "outputs": [],
   "source": [
    "tpr_vec, mag_vec_t, counts = \\\n",
    "    image_statistics_lib.get_tpr_vec(map_locs_sim_image.squeeze(), \n",
    "                                           true_full_locs.squeeze(), \n",
    "                                           star_encoder.full_slen, \n",
    "                                           map_fluxes_sim_image.squeeze(0)[:, 0], \n",
    "                                           true_full_fluxes.squeeze(0)[:, 0], \n",
    "                                    n_elect_per_nmgy)\n"
   ]
  },
  {
   "cell_type": "code",
   "execution_count": null,
   "metadata": {},
   "outputs": [],
   "source": [
    "counts"
   ]
  },
  {
   "cell_type": "code",
   "execution_count": null,
   "metadata": {},
   "outputs": [],
   "source": [
    "plt.plot(mag_vec_t[0:-1], tpr_vec, '--x', label = 'sim')\n",
    "plt.xlabel('est magnitude')\n",
    "plt.ylabel('tpr')\n"
   ]
  },
  {
   "cell_type": "code",
   "execution_count": null,
   "metadata": {},
   "outputs": [],
   "source": []
  },
  {
   "cell_type": "markdown",
   "metadata": {},
   "source": [
    "# Now compare against results on the true image"
   ]
  },
  {
   "cell_type": "code",
   "execution_count": null,
   "metadata": {},
   "outputs": [],
   "source": [
    "# get parameters on the simulated image \n",
    "map_locs_sdss_image, map_fluxes_sdss_image, map_n_stars_sdss_image = \\\n",
    "        star_encoder.sample_star_encoder(sdss_images_full, backgrounds_full, \n",
    "                                        return_map_n_stars = True, \n",
    "                                        return_map_star_params = True)[0:3]"
   ]
  },
  {
   "cell_type": "markdown",
   "metadata": {},
   "source": [
    "### Compare losses"
   ]
  },
  {
   "cell_type": "code",
   "execution_count": null,
   "metadata": {},
   "outputs": [],
   "source": [
    "loss, counter_loss, locs_loss, fluxes_loss, perm_indx = \\\n",
    "    sleep_lib.get_encoder_loss(star_encoder, sim_images_full, backgrounds_full, \n",
    "                                true_full_locs, true_full_fluxes, \n",
    "                               use_l2_loss = True)[0:5]\n",
    "\n",
    "print('loss: {:06f}'.format(loss))\n",
    "print(counter_loss.mean())\n",
    "print(locs_loss.mean())\n",
    "print(fluxes_loss.mean())"
   ]
  },
  {
   "cell_type": "code",
   "execution_count": null,
   "metadata": {},
   "outputs": [],
   "source": [
    "loss, counter_loss, locs_loss, fluxes_loss, perm_indx = \\\n",
    "    sleep_lib.get_encoder_loss(star_encoder, sdss_images_full, backgrounds_full, \n",
    "                                true_full_locs, true_full_fluxes, \n",
    "                               use_l2_loss = True)[0:5]\n",
    "\n",
    "print('loss: {:06f}'.format(loss))\n",
    "print(counter_loss.mean())\n",
    "print(locs_loss.mean())\n",
    "print(fluxes_loss.mean())"
   ]
  },
  {
   "cell_type": "code",
   "execution_count": null,
   "metadata": {},
   "outputs": [],
   "source": [
    "completeness2, tpr2, completeness2_bool, tpr2_bool = \\\n",
    "    image_statistics_lib.get_summary_stats(map_locs_sdss_image.squeeze(), \n",
    "                                           true_full_locs.squeeze(), \n",
    "                                           star_encoder.full_slen, \n",
    "                                           map_fluxes_sdss_image.squeeze(0)[:, 0], \n",
    "                                           true_full_fluxes.squeeze(0)[:, 0], \n",
    "                                          n_elect_per_nmgy)\n",
    "    \n",
    "print('completeness: {:0.3f}'.format(completeness2))\n",
    "print('true positive rate: {:0.3f}'.format(tpr2))"
   ]
  },
  {
   "cell_type": "code",
   "execution_count": null,
   "metadata": {},
   "outputs": [],
   "source": [
    "completeness2_vec, mag2_vec_c = \\\n",
    "    image_statistics_lib.get_completeness_vec(map_locs_sdss_image.squeeze(), \n",
    "                                           true_full_locs.squeeze(), \n",
    "                                           star_encoder.full_slen, \n",
    "                                           map_fluxes_sdss_image.squeeze(0)[:, 0], \n",
    "                                           true_full_fluxes.squeeze(0)[:, 0], \n",
    "                                             n_elect_per_nmgy)[0:2]\n",
    "\n",
    "plt.plot(mag_vec_c[0:-1], completeness_vec, '--x', label = 'sim')\n",
    "plt.plot(mag2_vec_c[0:-1], completeness2_vec, '--x', label = 'sdss')\n",
    "plt.legend()\n",
    "plt.xlabel('true log flux')\n",
    "plt.ylabel('completeness')\n"
   ]
  },
  {
   "cell_type": "code",
   "execution_count": null,
   "metadata": {},
   "outputs": [],
   "source": [
    "tpr2_vec, mag2_vec_t = \\\n",
    "    image_statistics_lib.get_tpr_vec(map_locs_sdss_image.squeeze(), \n",
    "                                           true_full_locs.squeeze(), \n",
    "                                           star_encoder.full_slen, \n",
    "                                           map_fluxes_sdss_image.squeeze(0)[:, 0], \n",
    "                                           true_full_fluxes.squeeze(0)[:, 0], \n",
    "                                    n_elect_per_nmgy)[0:2]\n",
    "\n",
    "plt.plot(mag_vec_t[0:-1], tpr_vec, '--x', label = 'sim')\n",
    "plt.plot(mag2_vec_t[0:-1], tpr2_vec, '--x', label = 'sdss')\n",
    "\n",
    "plt.legend()\n",
    "plt.xlabel('est magnitude')\n",
    "plt.ylabel('tpr')\n"
   ]
  },
  {
   "cell_type": "markdown",
   "metadata": {},
   "source": [
    "## Compare reconstructions"
   ]
  },
  {
   "cell_type": "code",
   "execution_count": null,
   "metadata": {},
   "outputs": [],
   "source": [
    "vae_recon_mean2 = simulator.draw_image_from_params(locs = map_locs_sdss_image, \n",
    "                                                fluxes = map_fluxes_sdss_image,\n",
    "                                                 n_stars = map_n_stars_sdss_image, \n",
    "                                                 add_noise = False).detach()"
   ]
  },
  {
   "cell_type": "code",
   "execution_count": null,
   "metadata": {},
   "outputs": [],
   "source": [
    "# reconstruted simulated\n",
    "fig, axarr = plt.subplots(1, 3, figsize=(15, 4))\n",
    "im0 = axarr[0].matshow(sim_images_full[0, band][5:95, 5:95])\n",
    "fig.colorbar(im0, ax = axarr[0])\n",
    "\n",
    "im1 = axarr[1].matshow(vae_recon_mean[0, band][5:95, 5:95])\n",
    "fig.colorbar(im1, ax = axarr[1])\n",
    "\n",
    "residual = torch.log10(vae_recon_mean[0, band]) - torch.log10(sim_images_full[0, band])\n",
    "_residual = (residual * 2.5)[5:95, 5:95]\n",
    "# (torch.log(vae_recon_mean.squeeze()) - torch.log(images_full.squeeze()))[10:90, 10:90]\n",
    "vmax = _residual.abs().max()\n",
    "im2 = axarr[2].matshow(_residual, vmax = vmax, vmin = -vmax, cmap=plt.get_cmap('bwr'))\n",
    "fig.colorbar(im2, ax = axarr[2])"
   ]
  },
  {
   "cell_type": "code",
   "execution_count": null,
   "metadata": {},
   "outputs": [],
   "source": [
    "# reconstructed real\n",
    "fig, axarr = plt.subplots(1, 3, figsize=(15, 4))\n",
    "im0 = axarr[0].matshow(sdss_images_full[0, band][5:95, 5:95])\n",
    "fig.colorbar(im0, ax = axarr[0])\n",
    "\n",
    "im1 = axarr[1].matshow(vae_recon_mean2[0, band][5:95, 5:95])\n",
    "fig.colorbar(im1, ax = axarr[1])\n",
    "\n",
    "residual = torch.log10(vae_recon_mean2[0, band]) - torch.log10(sdss_images_full[0, band])\n",
    "_residual = (residual * 2.5)[5:95, 5:95]\n",
    "# (torch.log(vae_recon_mean.squeeze()) - torch.log(images_full.squeeze()))[10:90, 10:90]\n",
    "vmax = _residual.abs().max()\n",
    "im2 = axarr[2].matshow(_residual, vmax = vmax, vmin = -vmax, cmap=plt.get_cmap('bwr'))\n",
    "fig.colorbar(im2, ax = axarr[2])"
   ]
  },
  {
   "cell_type": "code",
   "execution_count": null,
   "metadata": {},
   "outputs": [],
   "source": []
  },
  {
   "cell_type": "code",
   "execution_count": null,
   "metadata": {},
   "outputs": [],
   "source": [
    "f, axarr = plt.subplots(2, 3, figsize=(16, 8))\n",
    "\n",
    "indx = int(np.random.choice(star_encoder.tile_coords.shape[0], 1))\n",
    "\n",
    "###############\n",
    "# simulated data results\n",
    "plotting_utils.plot_subimage(axarr[0, 0], sim_images_full[0, band],\n",
    "                            map_locs_sim_image.squeeze(), \n",
    "                            true_full_locs.squeeze(), \n",
    "                            int(star_encoder.tile_coords[indx, 0]), \n",
    "                            int(star_encoder.tile_coords[indx, 1]), \n",
    "                            subimage_slen = star_encoder.stamp_slen, \n",
    "                            add_colorbar = True, \n",
    "                            global_fig = f)\n",
    "\n",
    "plotting_utils.plot_subimage(axarr[0, 1], vae_recon_mean[0, band],\n",
    "                            map_locs_sim_image.squeeze(), \n",
    "                            None, \n",
    "                            int(star_encoder.tile_coords[indx, 0]), \n",
    "                            int(star_encoder.tile_coords[indx, 1]), \n",
    "                            subimage_slen = star_encoder.stamp_slen, \n",
    "                            add_colorbar = True, \n",
    "                            global_fig = f)\n",
    "\n",
    "foo = torch.log10(vae_recon_mean[0, band]) - torch.log10(sim_images_full[0, band])\n",
    "plotting_utils.plot_subimage(axarr[0, 2], foo * 2.5, \n",
    "                            map_locs_sim_image.squeeze(), \n",
    "                            None, \n",
    "                            int(star_encoder.tile_coords[indx, 0]), \n",
    "                            int(star_encoder.tile_coords[indx, 1]), \n",
    "                            subimage_slen = star_encoder.stamp_slen, \n",
    "                            add_colorbar = True, \n",
    "                            global_fig = f, \n",
    "                            diverging_cmap = True)\n",
    "\n",
    "\n",
    "###############\n",
    "# real data results\n",
    "plotting_utils.plot_subimage(axarr[1, 0], sdss_images_full[0, band],\n",
    "                            map_locs_sdss_image.squeeze(), \n",
    "                            true_full_locs.squeeze(), \n",
    "                            int(star_encoder.tile_coords[indx, 0]), \n",
    "                            int(star_encoder.tile_coords[indx, 1]), \n",
    "                            subimage_slen = star_encoder.stamp_slen, \n",
    "                            add_colorbar = True, \n",
    "                            global_fig = f)\n",
    "\n",
    "plotting_utils.plot_subimage(axarr[1, 1], vae_recon_mean2[0, band],\n",
    "                            map_locs_sdss_image.squeeze(), \n",
    "                            None, \n",
    "                            int(star_encoder.tile_coords[indx, 0]), \n",
    "                            int(star_encoder.tile_coords[indx, 1]), \n",
    "                            subimage_slen = star_encoder.stamp_slen, \n",
    "                            add_colorbar = True, \n",
    "                            global_fig = f)\n",
    "\n",
    "foo = torch.log10(vae_recon_mean2[0, band]) - torch.log10(sdss_images_full[0, band])\n",
    "plotting_utils.plot_subimage(axarr[1, 2], foo * 2.5, \n",
    "                            map_locs_sdss_image.squeeze(), \n",
    "                            None, \n",
    "                            int(star_encoder.tile_coords[indx, 0]), \n",
    "                            int(star_encoder.tile_coords[indx, 1]), \n",
    "                            subimage_slen = star_encoder.stamp_slen, \n",
    "                            add_colorbar = True, \n",
    "                            global_fig = f, \n",
    "                            diverging_cmap = True)\n",
    "\n",
    "\n",
    "for i in range(2): \n",
    "    axarr[i, 0].axvline(x=2, color = 'r')\n",
    "    axarr[i, 0].axvline(x=4, color = 'r')\n",
    "    axarr[i, 0].axhline(y=2, color = 'r')\n",
    "    axarr[i, 0].axhline(y=4, color = 'r')\n",
    "\n",
    "    axarr[i, 1].axvline(x=2, color = 'r')\n",
    "    axarr[i, 1].axvline(x=4, color = 'r')\n",
    "    axarr[i, 1].axhline(y=2, color = 'r')\n",
    "    axarr[i, 1].axhline(y=4, color = 'r')"
   ]
  },
  {
   "cell_type": "code",
   "execution_count": null,
   "metadata": {},
   "outputs": [],
   "source": []
  },
  {
   "cell_type": "code",
   "execution_count": null,
   "metadata": {},
   "outputs": [],
   "source": []
  }
 ],
 "metadata": {
  "kernelspec": {
   "display_name": "pytorch_update",
   "language": "python",
   "name": "pytorch_update"
  },
  "language_info": {
   "codemirror_mode": {
    "name": "ipython",
    "version": 3
   },
   "file_extension": ".py",
   "mimetype": "text/x-python",
   "name": "python",
   "nbconvert_exporter": "python",
   "pygments_lexer": "ipython3",
   "version": "3.6.8"
  }
 },
 "nbformat": 4,
 "nbformat_minor": 2
}

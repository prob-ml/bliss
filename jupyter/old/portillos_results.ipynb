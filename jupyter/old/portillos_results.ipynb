{
 "cells": [
  {
   "cell_type": "code",
   "execution_count": null,
   "metadata": {},
   "outputs": [],
   "source": [
    "import numpy as np\n",
    "import torch\n",
    "\n",
    "import json\n",
    "\n",
    "import matplotlib.pyplot as plt\n",
    "\n",
    "import sys\n",
    "sys.path.insert(0, '../')\n",
    "import simulated_datasets_lib\n",
    "import sdss_dataset_lib\n",
    "import sdss_psf\n",
    "import image_utils \n",
    "import starnet_lib\n",
    "import sleep_lib\n",
    "import image_statistics_lib\n",
    "\n",
    "import plotting_utils\n",
    "\n",
    "device = torch.device(\"cuda:0\" if torch.cuda.is_available() else \"cpu\")\n",
    "\n",
    "np.random.seed(34534)"
   ]
  },
  {
   "cell_type": "markdown",
   "metadata": {},
   "source": [
    "# Load the data"
   ]
  },
  {
   "cell_type": "code",
   "execution_count": null,
   "metadata": {},
   "outputs": [],
   "source": [
    "fmin = 1000"
   ]
  },
  {
   "cell_type": "code",
   "execution_count": null,
   "metadata": {},
   "outputs": [],
   "source": [
    "bands = [2, 3]"
   ]
  },
  {
   "cell_type": "code",
   "execution_count": null,
   "metadata": {},
   "outputs": [],
   "source": [
    "x0 = 630\n",
    "x1 = 310\n",
    "sdss_hubble_data = sdss_dataset_lib.SDSSHubbleData(x0 = x0,\n",
    "                                                    x1 = x1, \n",
    "                                                    bands = bands)\n",
    "\n",
    "# image \n",
    "image = sdss_hubble_data.sdss_image \n",
    "\n",
    "# true parameters\n",
    "which_bright = (sdss_hubble_data.fluxes[:, 0] > fmin)\n",
    "true_locs = sdss_hubble_data.locs[which_bright]\n",
    "true_fluxes = sdss_hubble_data.fluxes[which_bright]\n"
   ]
  },
  {
   "cell_type": "code",
   "execution_count": null,
   "metadata": {},
   "outputs": [],
   "source": [
    "true_locs.shape"
   ]
  },
  {
   "cell_type": "code",
   "execution_count": null,
   "metadata": {},
   "outputs": [],
   "source": [
    "image = torch.Tensor(image)\n",
    "print(image.shape)"
   ]
  },
  {
   "cell_type": "code",
   "execution_count": null,
   "metadata": {},
   "outputs": [],
   "source": [
    "plt.matshow(image[0])\n",
    "plt.colorbar()"
   ]
  },
  {
   "cell_type": "code",
   "execution_count": null,
   "metadata": {},
   "outputs": [],
   "source": [
    "sdss_hubble_data.nelec_per_nmgy.mean()"
   ]
  },
  {
   "cell_type": "markdown",
   "metadata": {},
   "source": [
    "# Get simulator "
   ]
  },
  {
   "cell_type": "code",
   "execution_count": null,
   "metadata": {},
   "outputs": [],
   "source": [
    "import psf_transform_lib\n",
    "import wake_lib"
   ]
  },
  {
   "cell_type": "code",
   "execution_count": null,
   "metadata": {},
   "outputs": [],
   "source": [
    "# psf fitted with ground truth\n",
    "init_psf_params = torch.Tensor(np.load('../data/fitted_powerlaw_psf_params.npy'))\n",
    "power_law_psf = psf_transform_lib.PowerLawPSF(init_psf_params.to(device))\n",
    "psf_og = power_law_psf.forward().detach()"
   ]
  },
  {
   "cell_type": "code",
   "execution_count": null,
   "metadata": {},
   "outputs": [],
   "source": [
    "# background fitted with ground truth \n",
    "init_background_params = torch.Tensor(np.load('../data/fitted_planar_backgrounds.npy'))\n",
    "planar_background = wake_lib.PlanarBackground(image_slen = image.shape[-1], \n",
    "                            init_background_params = init_background_params.to(device))\n",
    "background = planar_background.forward().detach()\n"
   ]
  },
  {
   "cell_type": "code",
   "execution_count": null,
   "metadata": {},
   "outputs": [],
   "source": [
    "simulator = simulated_datasets_lib.StarSimulator(psf_og, \n",
    "                                                slen = image.shape[-1], \n",
    "                                                transpose_psf = False, \n",
    "                                                background = background)\n"
   ]
  },
  {
   "cell_type": "markdown",
   "metadata": {},
   "source": [
    "# Simulation with ground truth"
   ]
  },
  {
   "cell_type": "code",
   "execution_count": null,
   "metadata": {},
   "outputs": [],
   "source": [
    "truth_recon = simulator.draw_image_from_params(locs = sdss_hubble_data.locs.unsqueeze(0), \n",
    "                            fluxes = sdss_hubble_data.fluxes.unsqueeze(0),\n",
    "                            n_stars = torch.Tensor([len(sdss_hubble_data.fluxes)]).type(torch.LongTensor), \n",
    "                            add_noise = False).squeeze(0)"
   ]
  },
  {
   "cell_type": "code",
   "execution_count": null,
   "metadata": {},
   "outputs": [],
   "source": [
    "for i in range(len(sdss_hubble_data.bands)): \n",
    "    foo = (truth_recon[i] - image[i]) / image[i]\n",
    "    plt.matshow(foo, vmax = foo.abs().max(), vmin = - foo.abs().max(), cmap = plt.get_cmap('bwr')) \n",
    "    plt.colorbar()"
   ]
  },
  {
   "cell_type": "code",
   "execution_count": null,
   "metadata": {},
   "outputs": [],
   "source": []
  },
  {
   "cell_type": "code",
   "execution_count": null,
   "metadata": {},
   "outputs": [],
   "source": [
    "f, axarr = plt.subplots(1, 5, figsize=(12, 6))\n",
    "\n",
    "for i in range(5): \n",
    "    plotting_utils.plot_subimage(axarr[i], image[0],\n",
    "                                 true_locs, \n",
    "                                 None, \n",
    "                                 x0 = int(np.random.choice(100, 1)), \n",
    "                                 x1 = int(np.random.choice(100, 1)), \n",
    "                                 patch_slen = 7)\n",
    "    axarr[i].set_xticks([]);\n",
    "    axarr[i].set_yticks([]);\n",
    "    \n"
   ]
  },
  {
   "cell_type": "code",
   "execution_count": null,
   "metadata": {},
   "outputs": [],
   "source": []
  },
  {
   "cell_type": "code",
   "execution_count": null,
   "metadata": {},
   "outputs": [],
   "source": []
  },
  {
   "cell_type": "markdown",
   "metadata": {},
   "source": [
    "# Load results"
   ]
  },
  {
   "cell_type": "code",
   "execution_count": null,
   "metadata": {},
   "outputs": [],
   "source": [
    "results_dir = '../pcat_results/20200123-122354/'\n",
    "\n",
    "chain_results = np.load(results_dir + 'chain.npz')"
   ]
  },
  {
   "cell_type": "code",
   "execution_count": null,
   "metadata": {},
   "outputs": [],
   "source": [
    "# n bands \n",
    "chain_results['f'].shape"
   ]
  },
  {
   "cell_type": "code",
   "execution_count": null,
   "metadata": {},
   "outputs": [],
   "source": []
  },
  {
   "cell_type": "code",
   "execution_count": null,
   "metadata": {},
   "outputs": [],
   "source": [
    "fudge_factor = sdss_hubble_data.sdss_data[0]['gain'][0] "
   ]
  },
  {
   "cell_type": "code",
   "execution_count": null,
   "metadata": {},
   "outputs": [],
   "source": [
    "include_classical_catalogue = False\n",
    "\n",
    "if include_classical_catalogue: \n",
    "    pcat_catalog = np.loadtxt(results_dir + 'classical_catalog.txt')\n",
    "    \n",
    "    x1_loc = pcat_catalog[:, 0]\n",
    "    x0_loc = pcat_catalog[:, 2]\n",
    "        \n",
    "    fluxes = pcat_catalog[:, 4] * fudge_factor\n",
    "    \n",
    "    # remove na\n",
    "    is_na = np.isnan(x1_loc) | np.isnan(x1_loc) | np.isnan(fluxes) | (fluxes < fmin)\n",
    "    \n",
    "    x1_loc = x1_loc[~is_na]\n",
    "    x0_loc = x0_loc[~is_na]\n",
    "    fluxes = fluxes[~is_na]\n",
    "    \n",
    "    portillos_est_locs = torch.Tensor([x0_loc, x1_loc]).transpose(0,1) / (image.shape[-1] - 1)\n",
    "    portillos_est_fluxes = torch.Tensor(fluxes).unsqueeze(1)\n",
    "else: \n",
    "    # just take one sample \n",
    "    fluxes = chain_results['f'][:, -1, ].transpose() * fudge_factor\n",
    "    \n",
    "    x1_loc = chain_results['x'][-1, ].flatten()[fluxes[:, 0] > fmin]\n",
    "    x0_loc = chain_results['y'][-1, ].flatten()[fluxes[:, 0] > fmin]\n",
    "    \n",
    "    fluxes = fluxes[fluxes[:, 0] > fmin]\n",
    "        \n",
    "    portillos_est_locs = torch.Tensor([x0_loc, x1_loc]).transpose(0,1) / (image.shape[-1] - 1)\n",
    "    portillos_est_fluxes = torch.Tensor(fluxes) \n",
    "    \n",
    "\n",
    "# x1_loc_samples = chain_results['x'][-300:, ].flatten()\n",
    "# x0_loc_samples = chain_results['y'][-300:, ].flatten()\n",
    "\n",
    "# portillos_est_fluxes_sampled = torch.Tensor(chain_results['f'][0, -300:, ].flatten()) * fudge_factor\n",
    "# portillos_est_locs_sampled = torch.Tensor([x0_loc_samples, x1_loc_samples]).transpose(0,1) \\\n",
    "#                                 / (image.shape[-1] - 1)\n",
    "    \n",
    "# # filter by fmin\n",
    "# port_which_bright = portillos_est_fluxes_sampled > fmin\n",
    "# portillos_est_fluxes_sampled = portillos_est_fluxes_sampled[port_which_bright]\n",
    "# portillos_est_locs_sampled = portillos_est_locs_sampled[port_which_bright]"
   ]
  },
  {
   "cell_type": "markdown",
   "metadata": {},
   "source": [
    "# get reconstruction mean "
   ]
  },
  {
   "cell_type": "code",
   "execution_count": null,
   "metadata": {},
   "outputs": [],
   "source": [
    "_locs = portillos_est_locs.unsqueeze(0) \n",
    "_fluxes = portillos_est_fluxes.unsqueeze(0)\n",
    "_n_stars = torch.Tensor([len(x0_loc)]).type(torch.LongTensor)\n",
    "\n",
    "portillos_recon_mean = simulator.draw_image_from_params(locs = _locs, \n",
    "                                            fluxes = _fluxes,\n",
    "                                             n_stars = _n_stars,  \n",
    "                                             add_noise = False).squeeze(0)\n",
    "\n",
    "plt.matshow(portillos_recon_mean[0]); \n",
    "plt.colorbar()"
   ]
  },
  {
   "cell_type": "code",
   "execution_count": null,
   "metadata": {},
   "outputs": [],
   "source": [
    "portillos_residuals = portillos_recon_mean - image\n",
    "\n",
    "for i in range(portillos_recon_mean.shape[0]): \n",
    "    foo = (portillos_residuals[i] / image[i])[5:95, 5:95]\n",
    "    plt.matshow(foo, vmax = foo.abs().max(), vmin = -foo.abs().max(), cmap = plt.get_cmap('bwr'))\n",
    "    plt.colorbar()"
   ]
  },
  {
   "cell_type": "code",
   "execution_count": null,
   "metadata": {},
   "outputs": [],
   "source": []
  },
  {
   "cell_type": "markdown",
   "metadata": {},
   "source": [
    "# Plot subimages"
   ]
  },
  {
   "cell_type": "code",
   "execution_count": null,
   "metadata": {},
   "outputs": [],
   "source": [
    "band = 0"
   ]
  },
  {
   "cell_type": "code",
   "execution_count": null,
   "metadata": {},
   "outputs": [],
   "source": [
    "subimage_slen = 10\n",
    "\n",
    "# possible coordinates\n",
    "x0_vec = np.arange(10, 90, subimage_slen)\n",
    "x1_vec = np.arange(10, 90, subimage_slen)"
   ]
  },
  {
   "cell_type": "code",
   "execution_count": null,
   "metadata": {},
   "outputs": [],
   "source": [
    "x0 = int(np.random.choice(x0_vec, 1))\n",
    "x1 = int(np.random.choice(x1_vec, 1))\n",
    "\n",
    "fig, axarr = plt.subplots(1, 4, figsize=(15, 4))\n",
    "\n",
    "# posterior samples\n",
    "# plotting_utils.plot_subimage(axarr[0], image[band], \n",
    "#                              portillos_est_locs_sampled, \n",
    "#                              true_locs, \n",
    "#                              x0, x1, subimage_slen)\n",
    "# axarr[0].set_title('observed; coords: {}\\n'.format([x0, x1]));\n",
    "\n",
    "# condensed catalog\n",
    "plotting_utils.plot_subimage(axarr[1], image[band],\n",
    "                             portillos_est_locs, \n",
    "                             true_locs, \n",
    "                             x0, x1, subimage_slen, \n",
    "                            add_colorbar = True, global_fig = fig)\n",
    "axarr[1].set_title('observed; coords: {}\\n'.format([x0, x1]));\n",
    "\n",
    "# reconstruction\n",
    "plotting_utils.plot_subimage(axarr[2], portillos_recon_mean[band],\n",
    "                             portillos_est_locs, \n",
    "                             None, \n",
    "                             x0, x1, subimage_slen, \n",
    "                            add_colorbar = True, global_fig = fig)\n",
    "axarr[2].set_title('reconstructed\\n');\n",
    "\n",
    "# residuals\n",
    "plotting_utils.plot_subimage(axarr[3], portillos_residuals[band] / image[band], \n",
    "                            portillos_est_locs, \n",
    "                             None, \n",
    "                             x0, x1, subimage_slen, \n",
    "                            add_colorbar = True, global_fig = fig,\n",
    "                            diverging_cmap = True)\n",
    "\n",
    "axarr[3].set_title('reconstructed\\n');\n",
    "\n"
   ]
  },
  {
   "cell_type": "code",
   "execution_count": null,
   "metadata": {},
   "outputs": [],
   "source": []
  },
  {
   "cell_type": "code",
   "execution_count": null,
   "metadata": {},
   "outputs": [],
   "source": []
  },
  {
   "cell_type": "code",
   "execution_count": null,
   "metadata": {},
   "outputs": [],
   "source": []
  },
  {
   "cell_type": "markdown",
   "metadata": {},
   "source": [
    "# Compare with my NN "
   ]
  },
  {
   "cell_type": "code",
   "execution_count": null,
   "metadata": {},
   "outputs": [],
   "source": [
    "star_encoder = starnet_lib.StarEncoder(slen = 100,\n",
    "                                            patch_slen = 8,\n",
    "                                            step = 2,\n",
    "                                            edge_padding = 3, \n",
    "                                            n_bands = len(bands),\n",
    "                                            max_detections = 2)"
   ]
  },
  {
   "cell_type": "code",
   "execution_count": null,
   "metadata": {},
   "outputs": [],
   "source": [
    "star_encoder.load_state_dict(torch.load('../fits/results_2020-02-27/starnet_ri', \n",
    "                               map_location=lambda storage, loc: storage))\n",
    "\n",
    "\n",
    "star_encoder.eval(); \n"
   ]
  },
  {
   "cell_type": "code",
   "execution_count": null,
   "metadata": {},
   "outputs": [],
   "source": []
  },
  {
   "cell_type": "code",
   "execution_count": null,
   "metadata": {},
   "outputs": [],
   "source": [
    "# get parameters on the full image \n",
    "# map_locs_image, map_fluxes_image, map_n_stars_full = \\\n",
    "#     star_encoder.get_results_on_image(image.unsqueeze(0).unsqueeze(0), \n",
    "#                                            full_background.unsqueeze(0).unsqueeze(0))\n",
    "\n",
    "map_locs_image, map_fluxes_image, map_n_stars = \\\n",
    "    star_encoder.sample_star_encoder(image.unsqueeze(0), \n",
    "                                    return_map_n_stars = True, \n",
    "                                    return_map_star_params = True)[0:3]"
   ]
  },
  {
   "cell_type": "code",
   "execution_count": null,
   "metadata": {},
   "outputs": [],
   "source": [
    "vae_recon_mean = simulator.draw_image_from_params(locs = map_locs_image, \n",
    "                                                fluxes = map_fluxes_image,\n",
    "                                                 n_stars = map_n_stars, \n",
    "                                                 add_noise = False).squeeze(0)\n",
    "\n",
    "vae_residuals = vae_recon_mean - image"
   ]
  },
  {
   "cell_type": "code",
   "execution_count": null,
   "metadata": {},
   "outputs": [],
   "source": [
    "my_est_locs = map_locs_image.squeeze(0) \n",
    "my_est_fluxes = map_fluxes_image.squeeze(0)"
   ]
  },
  {
   "cell_type": "code",
   "execution_count": null,
   "metadata": {},
   "outputs": [],
   "source": [
    "band = 0"
   ]
  },
  {
   "cell_type": "code",
   "execution_count": null,
   "metadata": {},
   "outputs": [],
   "source": [
    "image.shape"
   ]
  },
  {
   "cell_type": "code",
   "execution_count": null,
   "metadata": {},
   "outputs": [],
   "source": [
    "vae_recon_mean"
   ]
  },
  {
   "cell_type": "code",
   "execution_count": null,
   "metadata": {},
   "outputs": [],
   "source": [
    "x0 = int(np.random.choice(x0_vec, 1))\n",
    "x1 = int(np.random.choice(x1_vec, 1))\n",
    "\n",
    "fig, axarr = plt.subplots(1, 3, figsize=(15, 4))\n",
    "\n",
    "# my catalog\n",
    "plotting_utils.plot_subimage(axarr[0], image[band], my_est_locs, true_locs, x0, x1, subimage_slen, \n",
    "                            add_colorbar = True, global_fig = fig)\n",
    "axarr[0].set_title('observed; coords: {}\\n'.format([x0, x1]));\n",
    "\n",
    "# reconstruction\n",
    "plotting_utils.plot_subimage(axarr[1], vae_recon_mean[band], my_est_locs, None, x0, x1, subimage_slen, \n",
    "                            add_colorbar = True, global_fig = fig)\n",
    "axarr[1].set_title('reconstructed\\n');\n",
    "\n",
    "# residuals\n",
    "vmax = torch.abs((vae_residuals / image)[band, x0:(x0 + subimage_slen), x1:(x1 + subimage_slen)]).max()\n",
    "plotting_utils.plot_subimage(axarr[2], (vae_residuals / image)[band], \n",
    "                            my_est_locs, None, x0, x1, subimage_slen, \n",
    "                            add_colorbar = True, global_fig = fig,\n",
    "                            diverging_cmap = True, \n",
    "                            vmax = vmax, vmin = -vmax)\n",
    "\n",
    "axarr[2].set_title('residuals\\n');\n",
    "\n"
   ]
  },
  {
   "cell_type": "code",
   "execution_count": null,
   "metadata": {},
   "outputs": [],
   "source": []
  },
  {
   "cell_type": "code",
   "execution_count": null,
   "metadata": {},
   "outputs": [],
   "source": []
  },
  {
   "cell_type": "markdown",
   "metadata": {},
   "source": [
    "# Checkout MSEs"
   ]
  },
  {
   "cell_type": "code",
   "execution_count": null,
   "metadata": {},
   "outputs": [],
   "source": [
    "len(my_est_fluxes)"
   ]
  },
  {
   "cell_type": "code",
   "execution_count": null,
   "metadata": {},
   "outputs": [],
   "source": [
    "len(portillos_est_fluxes)"
   ]
  },
  {
   "cell_type": "code",
   "execution_count": null,
   "metadata": {},
   "outputs": [],
   "source": [
    "len(true_fluxes)"
   ]
  },
  {
   "cell_type": "code",
   "execution_count": null,
   "metadata": {},
   "outputs": [],
   "source": [
    "# reconstructions \n",
    "fig, axarr = plt.subplots(1, 3, figsize=(15, 12))\n",
    "\n",
    "axarr[0].matshow(vae_recon_mean[band])\n",
    "axarr[1].matshow(portillos_recon_mean[band])\n",
    "axarr[2].matshow(truth_recon[band])"
   ]
  },
  {
   "cell_type": "code",
   "execution_count": null,
   "metadata": {},
   "outputs": [],
   "source": [
    "band = 1"
   ]
  },
  {
   "cell_type": "code",
   "execution_count": null,
   "metadata": {},
   "outputs": [],
   "source": [
    "# check out MSEs\n",
    "_image = image[band, 10:90, 10:90] \n",
    "\n",
    "_my_residual = (vae_recon_mean[band, 10:90, 10:90] - _image) / _image\n",
    "_portillos_residual = (portillos_recon_mean[band, 10:90, 10:90] - _image) / _image\n",
    "_true_residual = (truth_recon[band, 10:90, 10:90] - _image) / _image\n",
    "\n",
    "print('my_mse: ', torch.mean(_my_residual.abs()))\n",
    "print('portillos_mse: ', torch.mean(_portillos_residual.abs()))\n",
    "print('truth_mse: ', torch.mean(_true_residual.abs()))\n",
    "\n",
    "fig, axarr = plt.subplots(1, 3, figsize=(15, 6))\n",
    "\n",
    "im1 = axarr[0].matshow(_my_residual, \n",
    "                       vmin = -_my_residual.abs().max(), \n",
    "                       vmax = _my_residual.abs().max(), \n",
    "                      cmap=plt.get_cmap('bwr'))\n",
    "im2 = axarr[1].matshow(_portillos_residual, \n",
    "                       vmin = -_portillos_residual.abs().max(), \n",
    "                       vmax = _portillos_residual.abs().max(), \n",
    "                      cmap=plt.get_cmap('bwr'))\n",
    "im3 = axarr[2].matshow(_true_residual,\n",
    "                       vmin = -_true_residual.abs().max(), \n",
    "                       vmax = _true_residual.abs().max(), \n",
    "                      cmap=plt.get_cmap('bwr'))\n",
    "\n",
    "fig.colorbar(im1, ax = axarr[0])\n",
    "fig.colorbar(im2, ax = axarr[1])\n",
    "fig.colorbar(im3, ax = axarr[2])"
   ]
  },
  {
   "cell_type": "code",
   "execution_count": null,
   "metadata": {},
   "outputs": [],
   "source": [
    "fig, axarr = plt.subplots(1, 3, figsize=(20, 5))\n",
    "\n",
    "axarr[0].hist((_my_residual / _image).flatten(), bins = 100);\n",
    "\n",
    "axarr[1].hist((_portillos_residual / _image).flatten(), bins = 100);\n",
    "\n",
    "axarr[2].hist((_true_residual / _image).flatten(), bins = 100);"
   ]
  },
  {
   "cell_type": "markdown",
   "metadata": {},
   "source": [
    "# Compare"
   ]
  },
  {
   "cell_type": "code",
   "execution_count": null,
   "metadata": {},
   "outputs": [],
   "source": [
    "fig, axarr = plt.subplots(2, 3, figsize=(15, 12))\n",
    "\n",
    "x0 = int(np.random.choice(x0_vec, 1))\n",
    "x1 = int(np.random.choice(x1_vec, 1))\n",
    "\n",
    "###################\n",
    "# Plot catalogs\n",
    "##################\n",
    "# my catalog\n",
    "for j in range(2):\n",
    "    plotting_utils.plot_subimage(axarr[j, 0], image[band], my_est_locs, true_locs, x0, x1, subimage_slen, \n",
    "                                add_colorbar = True, global_fig = fig)\n",
    "    axarr[j, 0].set_title('observed; coords: {}\\n'.format([x0, x1]));\n",
    "\n",
    "    # portillos catalogue\n",
    "    _portillos_est_locs = portillos_est_locs * (image.shape[-1] - 1)\n",
    "    which_locs = (_portillos_est_locs[:, 0] > x0) & \\\n",
    "                    (_portillos_est_locs[:, 0] < (x0 + subimage_slen - 1)) & \\\n",
    "                    (_portillos_est_locs[:, 1] > x1) & \\\n",
    "                    (_portillos_est_locs[:, 1] < (x1 + subimage_slen - 1))\n",
    "    portillos_locs = (_portillos_est_locs[which_locs, :] - torch.Tensor([[x0, x1]])) \n",
    "    axarr[j, 0].scatter(portillos_locs[:, 1], portillos_locs[:, 0], color = 'c', marker = 'x')\n",
    "\n",
    "#######################\n",
    "# Reconstructions \n",
    "#######################\n",
    "# my reconstruction\n",
    "plotting_utils.plot_subimage(axarr[0, 1], vae_recon_mean[band], my_est_locs, None, x0, x1, subimage_slen, \n",
    "                            add_colorbar = True, global_fig = fig)\n",
    "axarr[0, 1].set_title('vae reconstructed\\n');\n",
    "\n",
    "# Portillos reconstruction\n",
    "plotting_utils.plot_subimage(axarr[1, 1], portillos_recon_mean[band], \n",
    "                             portillos_est_locs, None, x0, x1, subimage_slen, \n",
    "                            add_colorbar = True, global_fig = fig, \n",
    "                            color = 'c', marker = 'x')\n",
    "axarr[1, 1].set_title('portillos reconstructed\\n');\n",
    "\n",
    "######################\n",
    "# residuals\n",
    "######################\n",
    "# my residuals\n",
    "plotting_utils.plot_subimage(axarr[0, 2], (vae_residuals / image)[band], \n",
    "                            my_est_locs, None, x0, x1, subimage_slen, \n",
    "                            add_colorbar = True, global_fig = fig,\n",
    "                            diverging_cmap = True)\n",
    "\n",
    "axarr[0, 2].set_title('vae residuals\\n');\n",
    "\n",
    "\n",
    "\n",
    "# portillos residuals\n",
    "plotting_utils.plot_subimage(axarr[1, 2], (portillos_residuals / image)[band], \n",
    "                            portillos_est_locs, None, x0, x1, subimage_slen, \n",
    "                            add_colorbar = True, global_fig = fig,\n",
    "                            diverging_cmap = True, \n",
    "                            color = 'c', marker = 'x')\n",
    "\n",
    "axarr[1, 2].set_title('portillos residuals\\n');"
   ]
  },
  {
   "cell_type": "code",
   "execution_count": null,
   "metadata": {},
   "outputs": [],
   "source": []
  },
  {
   "cell_type": "raw",
   "metadata": {},
   "source": [
    "# Checkout some summary statistics"
   ]
  },
  {
   "cell_type": "raw",
   "metadata": {},
   "source": [
    "# we only look at locations within 10-90; \n",
    "# Portillos doesn't detect on the edge\n",
    "\n",
    "def filter_params(locs, fluxes, slen): \n",
    "    assert len(locs.shape) == 2\n",
    "    assert len(fluxes.shape) == 1\n",
    "    \n",
    "    _locs = locs * (slen - 1)\n",
    "    which_params = (_locs[:, 0] > 5) & (_locs[:, 0] < 95) & \\\n",
    "                        (_locs[:, 1] > 5) & (_locs[:, 1] < 95) \n",
    "        \n",
    "    \n",
    "    return locs[which_params], fluxes[which_params]\n"
   ]
  },
  {
   "cell_type": "raw",
   "metadata": {},
   "source": [
    "my_est_locs, my_est_fluxes = filter_params(my_est_locs, my_est_fluxes[:, band], image.shape[-1])\n",
    "\n",
    "portillos_est_locs, portillos_est_fluxes = filter_params(portillos_est_locs,\n",
    "                                                         portillos_est_fluxes[:, band], \n",
    "                                                         image.shape[-1])\n",
    "\n",
    "true_locs, true_fluxes = filter_params(true_locs, true_fluxes[:, band], \n",
    "                                       image.shape[-1])"
   ]
  },
  {
   "cell_type": "raw",
   "metadata": {},
   "source": [
    "print('my n_stars: ', len(my_est_locs))\n",
    "print('portillos n_stars: ', len(portillos_est_locs))\n",
    "print('true n_stars: ', len(true_locs))"
   ]
  },
  {
   "cell_type": "raw",
   "metadata": {},
   "source": []
  },
  {
   "cell_type": "code",
   "execution_count": null,
   "metadata": {},
   "outputs": [],
   "source": []
  },
  {
   "cell_type": "markdown",
   "metadata": {},
   "source": [
    "# Get summary statistics"
   ]
  },
  {
   "cell_type": "markdown",
   "metadata": {},
   "source": [
    "These are rather coarse measures. My tpr does not take into account the fact that several true stars might be matched with just one estimated star (so not all the true stars were detected); conversely my true positive rate does not take into account that several estimated stars might be matched with just one true star (so only one estimated star is a true positive). \n",
    "\n",
    "I tried the Hungarian algorithm to find a minimal matching, but this gave weird results because we're searching for a permutation that minimizes the **global** cost of the matching. "
   ]
  },
  {
   "cell_type": "code",
   "execution_count": null,
   "metadata": {},
   "outputs": [],
   "source": [
    "# tpr and ppv using locations only\n",
    "# my_tpr, my_ppv, _, _ = \\\n",
    "#     image_statistics_lib.get_summary_stats(my_est_locs, true_locs, \n",
    "#                                            image.shape[-1], None, None)\n",
    "# portillos_tpr, portillos_ppv, _, _ = \\\n",
    "#     image_statistics_lib.get_summary_stats(portillos_est_locs, true_locs, \n",
    "#                                            image.shape[-1], None, None)\n",
    "\n",
    "    \n",
    "# print('my tpr: {:0.3f}'.format(my_tpr))\n",
    "# print('portillos tpr: {:0.3f}\\n'.format(portillos_tpr))\n",
    "\n",
    "# print('my true positive rate: {:0.3f}'.format(my_ppv))\n",
    "# print('portillos true positive rate: {:0.3f}'.format(portillos_ppv))"
   ]
  },
  {
   "cell_type": "code",
   "execution_count": null,
   "metadata": {},
   "outputs": [],
   "source": [
    "# take into account fluxes\n",
    "my_tpr, my_ppv = \\\n",
    "    image_statistics_lib.get_summary_stats(my_est_locs, \n",
    "                                           true_locs, \n",
    "                                           star_encoder.slen, \n",
    "                                           my_est_fluxes[:, 0], \n",
    "                                           true_fluxes[:, 0], \n",
    "                                        sdss_hubble_data.nelec_per_nmgy.mean())[0:2]\n",
    "    \n",
    "portillos_tpr, portillos_ppv, portillos_complete_bool, portillos_ppv_bool = \\\n",
    "    image_statistics_lib.get_summary_stats(portillos_est_locs, \n",
    "                                           true_locs, \n",
    "                                           image.shape[-1], \n",
    "                                           portillos_est_fluxes[:, 0], \n",
    "                                           true_fluxes[:, 0], \n",
    "                                          sdss_hubble_data.nelec_per_nmgy.mean())\n",
    "\n",
    "    \n",
    "print('my tpr: {:0.3f}'.format(my_tpr))\n",
    "print('portillos tpr: {:0.3f}\\n'.format(portillos_tpr))\n",
    "\n",
    "print('my ppv: {:0.3f}'.format(my_ppv))\n",
    "print('portillos ppv: {:0.3f}'.format(portillos_ppv))"
   ]
  },
  {
   "cell_type": "code",
   "execution_count": null,
   "metadata": {},
   "outputs": [],
   "source": [
    "import numpy as np"
   ]
  },
  {
   "cell_type": "code",
   "execution_count": null,
   "metadata": {},
   "outputs": [],
   "source": [
    "nelec_per_nmgy = sdss_hubble_data.nelec_per_nmgy.mean()"
   ]
  },
  {
   "cell_type": "code",
   "execution_count": null,
   "metadata": {},
   "outputs": [],
   "source": [
    "true_mags = sdss_dataset_lib.convert_nmgy_to_mag(true_fluxes[:, 0] / nelec_per_nmgy)\n",
    "percentiles = np.linspace(0, 1, 10) * 100\n",
    "mag_vec = np.percentile(true_mags, percentiles)\n",
    "\n",
    "my_tpr_vec, my_mag_vec,  = \\\n",
    "    image_statistics_lib.get_tpr_vec(my_est_locs, \n",
    "                                              true_locs, \n",
    "                                              image.shape[-1],\n",
    "                                              my_est_fluxes[:, 0], \n",
    "                                              true_fluxes[:, 0], \n",
    "                                             sdss_hubble_data.nelec_per_nmgy.mean(), \n",
    "                                             mag_vec = mag_vec)[0:2]\n",
    "\n",
    "portillos_tpr_vec, portillos_mag_vec = \\\n",
    "    image_statistics_lib.get_tpr_vec(portillos_est_locs, \n",
    "                                              true_locs, \n",
    "                                              image.shape[-1],\n",
    "                                              portillos_est_fluxes[:, 0], \n",
    "                                              true_fluxes[:, 0], \n",
    "                                             sdss_hubble_data.nelec_per_nmgy.mean(), \n",
    "                                             mag_vec = mag_vec)[0:2]\n",
    "\n",
    "# plt.plot(my_mag_vec[0:-1], my_tpr_vec, '--x', label = 'Starnet')\n",
    "# plt.plot(portillos_mag_vec[0:-1], portillos_tpr_vec, '--x', label = 'Portillos')\n",
    "plt.plot(percentiles[:-1], my_tpr_vec, '--x', label = 'Starnet')\n",
    "plt.plot(percentiles[:-1], portillos_tpr_vec, '--x', label = 'Portillos')\n",
    "\n",
    "plt.legend()\n",
    "plt.xlabel('true log flux')\n",
    "plt.ylabel('tpr')"
   ]
  },
  {
   "cell_type": "code",
   "execution_count": null,
   "metadata": {},
   "outputs": [],
   "source": [
    "my_mags = sdss_dataset_lib.convert_nmgy_to_mag(my_est_fluxes[:, 0] / nelec_per_nmgy)\n",
    "portillos_mags = sdss_dataset_lib.convert_nmgy_to_mag(portillos_est_fluxes[:, 0] / nelec_per_nmgy)\n",
    "\n",
    "my_ppv_vec, my_mag_vec, my_counts = \\\n",
    "    image_statistics_lib.get_ppv_vec(my_est_locs, \n",
    "                                              true_locs, \n",
    "                                              image.shape[-1],\n",
    "                                              my_est_fluxes[:, 0], \n",
    "                                              true_fluxes[:, 0], \n",
    "                                    sdss_hubble_data.nelec_per_nmgy.mean(), \n",
    "                                    mag_vec = np.percentile(my_mags, percentiles))\n",
    "\n",
    "portillos_ppv_vec, portillos_mag_vec, portillos_counts = \\\n",
    "    image_statistics_lib.get_ppv_vec(portillos_est_locs, \n",
    "                                              true_locs, \n",
    "                                              image.shape[-1],\n",
    "                                              portillos_est_fluxes[:, 0], \n",
    "                                              true_fluxes[:, 0], \n",
    "                                    sdss_hubble_data.nelec_per_nmgy.mean(), \n",
    "                                    mag_vec = np.percentile(portillos_mags, percentiles))\n",
    "\n",
    "# plt.plot(my_mag_vec[0:-1], my_ppv_vec, '--x', label = 'Starnet')\n",
    "# plt.plot(portillos_mag_vec[0:-1], portillos_ppv_vec, '--x', label = 'Portillos')\n",
    "plt.plot(percentiles[0:-1], my_ppv_vec, '--x', label = 'Starnet')\n",
    "plt.plot(percentiles[0:-1], portillos_ppv_vec, '--x', label = 'Portillos')\n",
    "\n",
    "plt.legend()\n",
    "plt.xlabel('estimated log flux')\n",
    "plt.ylabel('ppv')"
   ]
  },
  {
   "cell_type": "code",
   "execution_count": null,
   "metadata": {},
   "outputs": [],
   "source": []
  },
  {
   "cell_type": "code",
   "execution_count": null,
   "metadata": {},
   "outputs": [],
   "source": []
  },
  {
   "cell_type": "code",
   "execution_count": null,
   "metadata": {},
   "outputs": [],
   "source": [
    "fig, axarr = plt.subplots(3, 2, figsize=(16, 24))\n",
    "\n",
    "x0 = int(np.random.choice(x0_vec, 1))\n",
    "x1 = int(np.random.choice(x1_vec, 1))\n",
    "subimage_slen = 10\n",
    "\n",
    "##########################\n",
    "# PLOT STARS CAUGHT BY ME\n",
    "##########################\n",
    "plotting_utils.plot_subimage(axarr[0, 0], image[band], \n",
    "                             my_est_locs, \n",
    "                             true_locs, \n",
    "                             x0, x1, subimage_slen, \n",
    "                            add_colorbar = True, \n",
    "                             global_fig = fig, \n",
    "                            color = 'b')\n",
    "axarr[0, 0].set_title('my results; coords: {}\\n'.format([x0, x1]));\n",
    "\n",
    "# true locations that I missed\n",
    "_locs = true_locs[my_complete_bool == 0] * (image.shape[-1] - 1)\n",
    "which_locs = (_locs[:, 0] > x0) & \\\n",
    "                (_locs[:, 0] < (x0 + subimage_slen - 1)) & \\\n",
    "                (_locs[:, 1] > x1) & \\\n",
    "                (_locs[:, 1] < (x1 + subimage_slen - 1))\n",
    "__locs = (_locs[which_locs, :] - torch.Tensor([[x0, x1]])) \n",
    "axarr[0, 0].scatter(__locs[:, 1], __locs[:, 0], color = 'orange', marker = 'o')\n",
    "\n",
    "# estimated locations that were false\n",
    "_locs = my_est_locs[my_ppv_bool == 0] * (image.shape[-1] - 1)\n",
    "which_locs = (_locs[:, 0] > x0) & \\\n",
    "                (_locs[:, 0] < (x0 + subimage_slen - 1)) & \\\n",
    "                (_locs[:, 1] > x1) & \\\n",
    "                (_locs[:, 1] < (x1 + subimage_slen - 1))\n",
    "__locs = (_locs[which_locs, :] - torch.Tensor([[x0, x1]])) \n",
    "axarr[0, 0].scatter(__locs[:, 1], __locs[:, 0], color = 'orange', marker = 'x')\n",
    "\n",
    "#####################\n",
    "# PLOT STARS CAUGHT BY PORTILLOS\n",
    "####################\n",
    "plotting_utils.plot_subimage(axarr[0, 1], image[band], \n",
    "                             portillos_est_locs, \n",
    "                             true_locs, \n",
    "                             x0, x1, subimage_slen, \n",
    "                            add_colorbar = True, \n",
    "                             global_fig = fig, \n",
    "                            color = 'b')\n",
    "axarr[0, 1].set_title('portillos results; coords: {}\\n'.format([x0, x1]));\n",
    "\n",
    "# true locations that I missed\n",
    "_locs = true_locs[portillos_complete_bool == 0] * (image.shape[-1] - 1)\n",
    "which_locs = (_locs[:, 0] > x0) & \\\n",
    "                (_locs[:, 0] < (x0 + subimage_slen - 1)) & \\\n",
    "                (_locs[:, 1] > x1) & \\\n",
    "                (_locs[:, 1] < (x1 + subimage_slen - 1))\n",
    "__locs = (_locs[which_locs, :] - torch.Tensor([[x0, x1]])) \n",
    "axarr[0, 1].scatter(__locs[:, 1], __locs[:, 0], color = 'orange', marker = 'o')\n",
    "\n",
    "# estimated locations that were false\n",
    "_locs = portillos_est_locs[portillos_ppv_bool == 0] * (image.shape[-1] - 1)\n",
    "which_locs = (_locs[:, 0] > x0) & \\\n",
    "                (_locs[:, 0] < (x0 + subimage_slen - 1)) & \\\n",
    "                (_locs[:, 1] > x1) & \\\n",
    "                (_locs[:, 1] < (x1 + subimage_slen - 1))\n",
    "__locs = (_locs[which_locs, :] - torch.Tensor([[x0, x1]])) \n",
    "axarr[0, 1].scatter(__locs[:, 1], __locs[:, 0], color = 'orange', marker = 'x')\n",
    "\n",
    "##########################\n",
    "# PLOT STARS CAUGHT BY ONLY ME\n",
    "##########################\n",
    "plotting_utils.plot_subimage(axarr[1, 0], image[band], \n",
    "                             my_est_locs, \n",
    "                             true_locs[(my_complete_bool == 1) & (portillos_complete_bool == 0)], \n",
    "                             x0, x1, subimage_slen, \n",
    "                            add_colorbar = True, \n",
    "                            global_fig = fig)\n",
    "\n",
    "\n",
    "\n",
    "##########################\n",
    "# PLOT STARS CAUGHT BY Portillos\n",
    "##########################\n",
    "plotting_utils.plot_subimage(axarr[1, 1], image[band], \n",
    "                             portillos_est_locs, \n",
    "                             true_locs[(my_complete_bool == 0) & (portillos_complete_bool == 1)], \n",
    "                             x0, x1, subimage_slen, \n",
    "                            add_colorbar = True, \n",
    "                            global_fig = fig)\n",
    "\n",
    "##########################\n",
    "# RECONSTRUCTIONS\n",
    "##########################\n",
    "plotting_utils.plot_subimage(axarr[2, 0], vae_recon_mean[band], \n",
    "                             my_est_locs, \n",
    "                             None, \n",
    "                             x0, x1, subimage_slen, \n",
    "                            add_colorbar = True, \n",
    "                            global_fig = fig)\n",
    "axarr[2, 0].set_title('my reconstruction')\n",
    "plotting_utils.plot_subimage(axarr[2, 1], portillos_recon_mean[band], \n",
    "                             portillos_est_locs, \n",
    "                             None, \n",
    "                             x0, x1, subimage_slen, \n",
    "                            add_colorbar = True, \n",
    "                            global_fig = fig)\n",
    "axarr[2, 0].set_title('portillos reconstruction')\n",
    "\n",
    "\n",
    "##########################\n",
    "# RESIDUALS\n",
    "##########################\n",
    "# _resid = torch.log(vae_recon_mean / image)\n",
    "# _resid = (vae_recon_mean - image)/image\n",
    "# vmax = torch.abs(_resid[x0:(x0 + subimage_slen), x1:(x1 + subimage_slen)]).max()\n",
    "# plotting_utils.plot_subimage(axarr[2, 0], _resid, \n",
    "#                             my_est_locs, None, x0, x1, subimage_slen, \n",
    "#                             add_colorbar = True, global_fig = fig,\n",
    "#                             diverging_cmap = True, \n",
    "#                             vmax = vmax, vmin = -vmax)\n",
    "\n",
    "# axarr[2, 0].set_title('my residuals\\n');\n",
    "\n",
    "# # _resid = torch.log(portillos_recon_mean / image)\n",
    "# _resid = (portillos_recon_mean - image)/image\n",
    "# vmax = torch.abs(_resid[x0:(x0 + subimage_slen), x1:(x1 + subimage_slen)]).max()\n",
    "# plotting_utils.plot_subimage(axarr[2, 1], _resid, \n",
    "#                             portillos_est_locs, None, x0, x1, subimage_slen, \n",
    "#                             add_colorbar = True, global_fig = fig,\n",
    "#                             diverging_cmap = True, \n",
    "#                             vmax = vmax, vmin = -vmax)\n",
    "\n",
    "# axarr[2, 1].set_title('Portillos residuals\\n');\n"
   ]
  },
  {
   "cell_type": "code",
   "execution_count": null,
   "metadata": {},
   "outputs": [],
   "source": []
  },
  {
   "cell_type": "code",
   "execution_count": null,
   "metadata": {},
   "outputs": [],
   "source": []
  },
  {
   "cell_type": "code",
   "execution_count": null,
   "metadata": {},
   "outputs": [],
   "source": []
  },
  {
   "cell_type": "code",
   "execution_count": null,
   "metadata": {},
   "outputs": [],
   "source": []
  }
 ],
 "metadata": {
  "kernelspec": {
   "display_name": "pytorch_update",
   "language": "python",
   "name": "pytorch_update"
  },
  "language_info": {
   "codemirror_mode": {
    "name": "ipython",
    "version": 3
   },
   "file_extension": ".py",
   "mimetype": "text/x-python",
   "name": "python",
   "nbconvert_exporter": "python",
   "pygments_lexer": "ipython3",
   "version": "3.6.8"
  }
 },
 "nbformat": 4,
 "nbformat_minor": 2
}

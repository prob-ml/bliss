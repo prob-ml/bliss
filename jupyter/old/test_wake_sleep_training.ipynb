{
 "cells": [
  {
   "cell_type": "code",
   "execution_count": null,
   "metadata": {},
   "outputs": [],
   "source": [
    "import sys\n",
    "sys.path.insert(0, '../')"
   ]
  },
  {
   "cell_type": "code",
   "execution_count": null,
   "metadata": {},
   "outputs": [],
   "source": [
    "import numpy as np\n",
    "\n",
    "import torch\n",
    "import torch.optim as optim\n",
    "\n",
    "import sdss_dataset_lib\n",
    "\n",
    "import simulated_datasets_lib\n",
    "import starnet_vae_lib\n",
    "import inv_kl_objective_lib as inv_kl_lib\n",
    "\n",
    "from wake_sleep_lib import run_joint_wake, run_wake, run_sleep\n",
    "\n",
    "import psf_transform_lib\n",
    "\n",
    "import time\n",
    "import fitsio\n",
    "\n",
    "import json\n",
    "\n"
   ]
  },
  {
   "cell_type": "code",
   "execution_count": null,
   "metadata": {},
   "outputs": [],
   "source": [
    "device = torch.device(\"cuda:0\" if torch.cuda.is_available() else \"cpu\")\n",
    "print('device: ', device)\n",
    "\n",
    "print('torch version: ', torch.__version__)\n",
    "\n"
   ]
  },
  {
   "cell_type": "code",
   "execution_count": null,
   "metadata": {},
   "outputs": [],
   "source": [
    "# set seed\n",
    "np.random.seed(4534)\n",
    "_ = torch.manual_seed(2534)\n",
    "torch.backends.cudnn.deterministic = True\n",
    "torch.backends.cudnn.benchmark = False\n",
    "\n"
   ]
  },
  {
   "cell_type": "code",
   "execution_count": null,
   "metadata": {},
   "outputs": [],
   "source": [
    "# get sdss data\n",
    "sdss_hubble_data = sdss_dataset_lib.SDSSHubbleData(sdssdir='../../celeste_net/sdss_stage_dir/',\n",
    "                                       hubble_cat_file = '../hubble_data/NCG7089/' + \\\n",
    "                                        'hlsp_acsggct_hst_acs-wfc_ngc7089_r.rdviq.cal.adj.zpt.txt',\n",
    "                                        bands = [2, 3])\n",
    "\n"
   ]
  },
  {
   "cell_type": "code",
   "execution_count": null,
   "metadata": {},
   "outputs": [],
   "source": [
    "# sdss image\n",
    "full_image = sdss_hubble_data.sdss_image.unsqueeze(0).to(device)\n",
    "full_background = sdss_hubble_data.sdss_background.unsqueeze(0).to(device)\n"
   ]
  },
  {
   "cell_type": "code",
   "execution_count": null,
   "metadata": {},
   "outputs": [],
   "source": [
    "# simulated data parameters\n",
    "with open('../data/default_star_parameters.json', 'r') as fp:\n",
    "    data_params = json.load(fp)\n",
    "\n",
    "print(data_params)\n"
   ]
  },
  {
   "cell_type": "code",
   "execution_count": null,
   "metadata": {},
   "outputs": [],
   "source": [
    "sky_intensity = full_background.reshape(full_background.shape[1], -1).mean(1)"
   ]
  },
  {
   "cell_type": "code",
   "execution_count": null,
   "metadata": {},
   "outputs": [],
   "source": [
    "# load psf\n",
    "psf_dir = '../data/'\n",
    "psf_r = fitsio.FITS(psf_dir + 'sdss-002583-2-0136-psf-r.fits')[0].read()\n",
    "psf_i = fitsio.FITS(psf_dir + 'sdss-002583-2-0136-psf-i.fits')[0].read()\n",
    "\n",
    "psf_og = np.array([psf_r, psf_i])\n"
   ]
  },
  {
   "cell_type": "code",
   "execution_count": null,
   "metadata": {},
   "outputs": [],
   "source": [
    "# draw data\n",
    "print('generating data: ')\n",
    "n_images = 6\n",
    "t0 = time.time()\n",
    "star_dataset = \\\n",
    "    simulated_datasets_lib.load_dataset_from_params(psf_og,\n",
    "                            data_params,\n",
    "                            n_images = n_images,\n",
    "                            sky_intensity = sky_intensity,\n",
    "                            add_noise = True)\n",
    "\n",
    "print('data generation time: {:.3f}secs'.format(time.time() - t0))\n",
    "# get loader\n",
    "batchsize = 2\n",
    "\n",
    "loader = torch.utils.data.DataLoader(\n",
    "                 dataset=star_dataset,\n",
    "                 batch_size=batchsize,\n",
    "                 shuffle=True)\n"
   ]
  },
  {
   "cell_type": "code",
   "execution_count": null,
   "metadata": {},
   "outputs": [],
   "source": [
    "# define VAE\n",
    "star_encoder = starnet_vae_lib.StarEncoder(full_slen = data_params['slen'],\n",
    "                                           stamp_slen = 7,\n",
    "                                           step = 2,\n",
    "                                           edge_padding = 2,\n",
    "                                           n_bands = 2,\n",
    "                                           max_detections = 2)\n"
   ]
  },
  {
   "cell_type": "code",
   "execution_count": null,
   "metadata": {},
   "outputs": [],
   "source": [
    "# define psf transform\n",
    "psf_transform = psf_transform_lib.PsfLocalTransform(torch.Tensor(psf_og).to(device),\n",
    "                                    data_params['slen'],\n",
    "                                    kernel_size = 3)\n"
   ]
  },
  {
   "cell_type": "code",
   "execution_count": null,
   "metadata": {},
   "outputs": [],
   "source": [
    "filename = '../fits/results_11122019/wake_sleep_ri-loc630x310'\n",
    "init_encoder = '../fits/results_11122019/starnet_ri'\n",
    "\n",
    "# optimzers\n",
    "psf_lr = 0.1\n",
    "wake_optimizer = optim.Adam([\n",
    "                    {'params': psf_transform.parameters(),\n",
    "                    'lr': psf_lr}],\n",
    "                    weight_decay = 1e-5)\n",
    "\n",
    "sleep_optimizer = optim.Adam([\n",
    "                    {'params': star_encoder.parameters(),\n",
    "                    'lr': 5e-5}],\n",
    "                    weight_decay = 1e-5)\n"
   ]
  },
  {
   "cell_type": "code",
   "execution_count": null,
   "metadata": {},
   "outputs": [],
   "source": [
    "# run wake"
   ]
  },
  {
   "cell_type": "code",
   "execution_count": null,
   "metadata": {},
   "outputs": [],
   "source": [
    "encoder_file = init_encoder\n",
    "\n",
    "# load encoder\n",
    "print('loading encoder from: ', encoder_file)\n",
    "star_encoder.load_state_dict(torch.load(encoder_file,\n",
    "                               map_location=lambda storage, loc: storage));\n",
    "star_encoder.to(device);\n",
    "star_encoder.eval();\n"
   ]
  },
  {
   "cell_type": "code",
   "execution_count": null,
   "metadata": {},
   "outputs": [],
   "source": [
    "run_wake(full_image, full_background, star_encoder, psf_transform,\n",
    "                optimizer = wake_optimizer,\n",
    "                n_epochs = 4,\n",
    "                n_samples = 2,\n",
    "                out_filename = filename + '-psf_transform',\n",
    "                iteration = 0,\n",
    "                use_iwae = True)"
   ]
  },
  {
   "cell_type": "code",
   "execution_count": null,
   "metadata": {},
   "outputs": [],
   "source": [
    "# run sleep "
   ]
  },
  {
   "cell_type": "code",
   "execution_count": null,
   "metadata": {},
   "outputs": [],
   "source": [
    "star_encoder.load_state_dict(torch.load(encoder_file,\n",
    "                                   map_location=lambda storage, loc: storage));\n",
    "star_encoder.to(device)\n",
    "\n",
    "# load trained transform\n",
    "psf_transform_file = filename + '-psf_transform' + '-iter' + str(0)\n",
    "print('loading psf_transform from: ', psf_transform_file)\n",
    "psf_transform.load_state_dict(torch.load(psf_transform_file,\n",
    "                            map_location=lambda storage, loc: storage));\n",
    "psf_transform.to(device)\n",
    "loader.dataset.simulator.psf = psf_transform.forward().detach()"
   ]
  },
  {
   "cell_type": "code",
   "execution_count": null,
   "metadata": {},
   "outputs": [],
   "source": [
    "run_sleep(star_encoder,\n",
    "            loader,\n",
    "            sleep_optimizer,\n",
    "            n_epochs = 2,\n",
    "            out_filename = filename + '-encoder',\n",
    "            iteration = 1)"
   ]
  },
  {
   "cell_type": "code",
   "execution_count": null,
   "metadata": {},
   "outputs": [],
   "source": []
  },
  {
   "cell_type": "code",
   "execution_count": null,
   "metadata": {},
   "outputs": [],
   "source": [
    "# Look at wake phase in more detail"
   ]
  },
  {
   "cell_type": "code",
   "execution_count": null,
   "metadata": {},
   "outputs": [],
   "source": [
    "sampled_locs_full_image, sampled_fluxes_full_image, sampled_n_stars_full, \\\n",
    "    log_q_locs, log_q_fluxes, log_q_n_stars = \\\n",
    "        star_encoder.sample_star_encoder(full_image, full_background,\n",
    "                                n_samples = 10, return_map = False,\n",
    "                                return_log_q = True,\n",
    "                                training = False)\n"
   ]
  },
  {
   "cell_type": "code",
   "execution_count": null,
   "metadata": {},
   "outputs": [],
   "source": [
    "sampled_fluxes_full_image.shape"
   ]
  },
  {
   "cell_type": "code",
   "execution_count": null,
   "metadata": {},
   "outputs": [],
   "source": []
  }
 ],
 "metadata": {
  "kernelspec": {
   "display_name": "Python (pytorch_04)",
   "language": "python",
   "name": "pytorch_update"
  },
  "language_info": {
   "codemirror_mode": {
    "name": "ipython",
    "version": 3
   },
   "file_extension": ".py",
   "mimetype": "text/x-python",
   "name": "python",
   "nbconvert_exporter": "python",
   "pygments_lexer": "ipython3",
   "version": "3.6.8"
  }
 },
 "nbformat": 4,
 "nbformat_minor": 2
}

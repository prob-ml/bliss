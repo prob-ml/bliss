{
 "cells": [
  {
   "cell_type": "code",
   "execution_count": null,
   "metadata": {},
   "outputs": [],
   "source": [
    "import numpy as np\n",
    "import timeit\n",
    "\n",
    "import matplotlib.pyplot as plt\n",
    "\n",
    "import torch\n",
    "import torch.optim as optim\n",
    "\n",
    "import fitsio \n",
    "\n",
    "import sys\n",
    "sys.path.insert(0, './../')\n",
    "import sdss_psf\n",
    "import simulated_datasets_lib\n",
    "import starnet_vae_lib\n",
    "import sdss_dataset_lib\n",
    "import plotting_utils\n",
    "import image_statistics_lib\n",
    "import utils\n",
    "\n",
    "import inv_kl_objective_lib as inv_kl_lib\n",
    "\n",
    "import image_utils\n",
    "\n",
    "import time\n",
    "\n",
    "import json\n",
    "\n",
    "device = torch.device(\"cuda:0\" if torch.cuda.is_available() else \"cpu\")\n",
    "\n",
    "print('torch version: ', torch.__version__)\n",
    "\n",
    "from copy import deepcopy"
   ]
  },
  {
   "cell_type": "code",
   "execution_count": null,
   "metadata": {},
   "outputs": [],
   "source": [
    "np.random.seed(22)\n",
    "_ = torch.manual_seed(22)"
   ]
  },
  {
   "cell_type": "markdown",
   "metadata": {},
   "source": [
    "# Draw data"
   ]
  },
  {
   "cell_type": "code",
   "execution_count": null,
   "metadata": {},
   "outputs": [],
   "source": [
    "# data parameters\n",
    "with open('../data/default_star_parameters.json', 'r') as fp:\n",
    "    data_params = json.load(fp)"
   ]
  },
  {
   "cell_type": "code",
   "execution_count": null,
   "metadata": {},
   "outputs": [],
   "source": [
    "data_params"
   ]
  },
  {
   "cell_type": "code",
   "execution_count": null,
   "metadata": {},
   "outputs": [],
   "source": [
    "n_bands = 1"
   ]
  },
  {
   "cell_type": "code",
   "execution_count": null,
   "metadata": {},
   "outputs": [],
   "source": [
    "psf_dir = '../data/'\n",
    "psf_r = fitsio.FITS(psf_dir + 'sdss-002583-2-0136-psf-r.fits')[0].read()\n",
    "psf_i = fitsio.FITS(psf_dir + 'sdss-002583-2-0136-psf-i.fits')[0].read()\n",
    "\n",
    "# just for simplicity ... \n",
    "if n_bands == 1: \n",
    "    psf_og = np.array([psf_r])\n",
    "    sky_intensity = torch.Tensor([686.])\n",
    "elif n_bands == 2: \n",
    "    psf_og = np.array([psf_r, psf_i])\n",
    "    sky_intensity = torch.Tensor([686., 1123.])\n",
    "else: \n",
    "    assert 1 == 2\n"
   ]
  },
  {
   "cell_type": "code",
   "execution_count": null,
   "metadata": {},
   "outputs": [],
   "source": [
    "psf_og.shape"
   ]
  },
  {
   "cell_type": "code",
   "execution_count": null,
   "metadata": {},
   "outputs": [],
   "source": [
    "# Draw from the same distribution I used int the sleep phase\n",
    "n_images = 1\n",
    "\n",
    "simulated_dataset = \\\n",
    "    simulated_datasets_lib.load_dataset_from_params(psf_og,\n",
    "                    data_params,\n",
    "                    sky_intensity = sky_intensity,\n",
    "                    n_images = n_images,\n",
    "                    transpose_psf = False, \n",
    "                    add_noise = True)\n",
    "        \n",
    "images_full = simulated_dataset.images.detach()\n",
    "backgrounds_full = simulated_dataset.background.detach()\n",
    "        \n",
    "which_on = (simulated_dataset.fluxes > 0).any(2).squeeze()\n",
    "        \n",
    "true_full_locs = simulated_dataset.locs[:, which_on, :]\n",
    "true_full_fluxes = simulated_dataset.fluxes[:, which_on, :]\n",
    "        \n",
    "        \n",
    "simulator = simulated_dataset.simulator"
   ]
  },
  {
   "cell_type": "code",
   "execution_count": null,
   "metadata": {},
   "outputs": [],
   "source": [
    "true_full_locs.shape"
   ]
  },
  {
   "cell_type": "code",
   "execution_count": null,
   "metadata": {},
   "outputs": [],
   "source": [
    "# histogram of fluxes\n",
    "for i in range(n_bands): \n",
    "    plt.hist(np.log10(true_full_fluxes[:, :, i].numpy().flatten()), bins = 100);"
   ]
  },
  {
   "cell_type": "code",
   "execution_count": null,
   "metadata": {},
   "outputs": [],
   "source": [
    "if n_bands > 1: \n",
    "    # histogram of colors\n",
    "    colors = np.log10(true_full_fluxes[:, :, 0].numpy().flatten() / \\\n",
    "                      true_full_fluxes[:, :, 1].numpy().flatten())\n",
    "    plt.hist(colors, bins = 50);"
   ]
  },
  {
   "cell_type": "code",
   "execution_count": null,
   "metadata": {},
   "outputs": [],
   "source": [
    "# color x flux\n",
    "if n_bands > 1: \n",
    "    plt.scatter(colors, np.log10(true_full_fluxes[:, :, 0].numpy().flatten()), marker = 'x', alpha = 0.5)"
   ]
  },
  {
   "cell_type": "code",
   "execution_count": null,
   "metadata": {},
   "outputs": [],
   "source": [
    "images_full.min()"
   ]
  },
  {
   "cell_type": "code",
   "execution_count": null,
   "metadata": {},
   "outputs": [],
   "source": [
    "true_full_fluxes.min()"
   ]
  },
  {
   "cell_type": "markdown",
   "metadata": {},
   "source": [
    "# Load VAE"
   ]
  },
  {
   "cell_type": "code",
   "execution_count": null,
   "metadata": {},
   "outputs": [],
   "source": [
    "star_encoder = starnet_vae_lib.StarEncoder(full_slen = data_params['slen'],\n",
    "                                            stamp_slen = 7,\n",
    "                                            step = 2,\n",
    "                                            edge_padding = 2, \n",
    "                                            n_bands = n_bands,\n",
    "                                            max_detections = 2)"
   ]
  },
  {
   "cell_type": "code",
   "execution_count": null,
   "metadata": {},
   "outputs": [],
   "source": [
    "star_encoder.load_state_dict(torch.load('../fits/results_2020-01-21/starnet_r',\n",
    "                               map_location=lambda storage, loc: storage))\n",
    "star_encoder.eval(); "
   ]
  },
  {
   "cell_type": "code",
   "execution_count": null,
   "metadata": {},
   "outputs": [],
   "source": [
    "# check loss \n",
    "loss, counter_loss, locs_loss, fluxes_loss, perm_indx = \\\n",
    "    inv_kl_lib.get_encoder_loss(star_encoder, images_full, backgrounds_full, \n",
    "                                true_full_locs, true_full_fluxes)[0:5]"
   ]
  },
  {
   "cell_type": "code",
   "execution_count": null,
   "metadata": {},
   "outputs": [],
   "source": [
    "print('loss: {:06f}'.format(loss))"
   ]
  },
  {
   "cell_type": "code",
   "execution_count": null,
   "metadata": {},
   "outputs": [],
   "source": [
    "print(counter_loss.mean())\n",
    "print(locs_loss.mean())\n",
    "print(fluxes_loss.mean())"
   ]
  },
  {
   "cell_type": "markdown",
   "metadata": {},
   "source": [
    "# Get image stamps"
   ]
  },
  {
   "cell_type": "code",
   "execution_count": null,
   "metadata": {},
   "outputs": [],
   "source": [
    "# get image stamps\n",
    "image_stamps, true_subimage_locs, true_subimage_fluxes, \\\n",
    "    true_subimage_n_stars, true_is_on_array = \\\n",
    "        star_encoder.get_image_stamps(images_full, true_full_locs, true_full_fluxes, \n",
    "                                      trim_images = False, clip_max_stars = True)\n",
    "    \n",
    "background_stamps = star_encoder.get_image_stamps(backgrounds_full, None, None, \n",
    "                                      trim_images = False)[0]"
   ]
  },
  {
   "cell_type": "code",
   "execution_count": null,
   "metadata": {},
   "outputs": [],
   "source": [
    "foo = plt.hist(true_subimage_n_stars, bins=np.arange(max(true_subimage_n_stars) + 2))[0]\n",
    "# plt.plot(foo[0] / star_encoder.weights, 'x')"
   ]
  },
  {
   "cell_type": "code",
   "execution_count": null,
   "metadata": {},
   "outputs": [],
   "source": [
    "plt.hist(locs_loss.detach()[locs_loss != 0], bins = 100);"
   ]
  },
  {
   "cell_type": "markdown",
   "metadata": {},
   "source": [
    "\n",
    "# get inferred parameters on stamps"
   ]
  },
  {
   "cell_type": "code",
   "execution_count": null,
   "metadata": {},
   "outputs": [],
   "source": [
    "# Note that these variational parameters are estimated using the true number of stars!\n",
    "stamp_logit_loc_mean, stamp_logit_loc_log_var, \\\n",
    "    stamp_log_flux_mean, stamp_log_flux_log_var, stamp_log_probs = \\\n",
    "        star_encoder(image_stamps, background_stamps, true_subimage_n_stars)"
   ]
  },
  {
   "cell_type": "code",
   "execution_count": null,
   "metadata": {},
   "outputs": [],
   "source": [
    "map_n_stars_stamps = torch.argmax(stamp_log_probs, dim = 1).detach()"
   ]
  },
  {
   "cell_type": "code",
   "execution_count": null,
   "metadata": {},
   "outputs": [],
   "source": [
    "(map_n_stars_stamps == true_subimage_n_stars).float().mean()"
   ]
  },
  {
   "cell_type": "code",
   "execution_count": null,
   "metadata": {},
   "outputs": [],
   "source": [
    "plt.hist(map_n_stars_stamps, bins = np.arange(star_encoder.max_detections + 2))"
   ]
  },
  {
   "cell_type": "code",
   "execution_count": null,
   "metadata": {},
   "outputs": [],
   "source": [
    "from itertools import permutations"
   ]
  },
  {
   "cell_type": "code",
   "execution_count": null,
   "metadata": {},
   "outputs": [],
   "source": [
    "perm_list = []\n",
    "for perm in permutations(range(star_encoder.max_detections)):\n",
    "    perm_list.append(perm)"
   ]
  },
  {
   "cell_type": "code",
   "execution_count": null,
   "metadata": {},
   "outputs": [],
   "source": [
    "perm = np.zeros((image_stamps.shape[0], star_encoder.max_detections))\n",
    "for i in range(image_stamps.shape[0]): \n",
    "    perm[i, :] = perm_list[perm_indx[i]]"
   ]
  },
  {
   "cell_type": "markdown",
   "metadata": {},
   "source": [
    "### check parameters"
   ]
  },
  {
   "cell_type": "code",
   "execution_count": null,
   "metadata": {},
   "outputs": [],
   "source": [
    "# permute true parameters \n",
    "def permute_params(locs, fluxes, perm): \n",
    "    batchsize = perm.shape[0]\n",
    "    max_stars = perm.shape[1]\n",
    "    \n",
    "    n_bands = fluxes.shape[-1]\n",
    "\n",
    "    locs_perm = torch.zeros((batchsize, max_stars, 2))\n",
    "    fluxes_perm = torch.zeros((batchsize, max_stars, n_bands))\n",
    "    seq_tensor = torch.LongTensor([i for i in range(batchsize)])\n",
    "\n",
    "    for i in range(max_stars):\n",
    "        locs_perm[:, i, :] = locs[seq_tensor, perm[:, i], :]\n",
    "        fluxes_perm[:, i, :] = fluxes[seq_tensor, perm[:, i], :]\n",
    "        \n",
    "    return locs_perm, fluxes_perm"
   ]
  },
  {
   "cell_type": "code",
   "execution_count": null,
   "metadata": {},
   "outputs": [],
   "source": [
    "locs_perm, fluxes_perm = permute_params(stamp_logit_loc_mean, stamp_log_flux_mean, perm)"
   ]
  },
  {
   "cell_type": "code",
   "execution_count": null,
   "metadata": {},
   "outputs": [],
   "source": [
    "map_subimage_locs = (torch.sigmoid(locs_perm) * true_is_on_array.unsqueeze(2).float()).detach()\n",
    "map_subimage_fluxes = (torch.exp(fluxes_perm) * true_is_on_array.unsqueeze(2).float()).detach()"
   ]
  },
  {
   "cell_type": "code",
   "execution_count": null,
   "metadata": {},
   "outputs": [],
   "source": [
    "plt.plot(map_subimage_locs.flatten()[map_subimage_locs.flatten() > 0].detach(), \n",
    "         true_subimage_locs.flatten()[true_subimage_locs.flatten() > 0], '+')\n",
    "\n",
    "plt.plot(map_subimage_locs.flatten()[map_subimage_locs.flatten() > 0].detach(), \n",
    "         map_subimage_locs.flatten()[map_subimage_locs.flatten() > 0].detach(), '-')\n",
    "\n",
    "plt.xlabel('estimated')\n",
    "plt.ylabel('truth')"
   ]
  },
  {
   "cell_type": "code",
   "execution_count": null,
   "metadata": {},
   "outputs": [],
   "source": [
    "plt.plot(torch.log(true_subimage_fluxes.flatten()[true_subimage_fluxes.flatten() > 0]), \n",
    "         torch.log(map_subimage_fluxes.flatten()[map_subimage_fluxes.flatten() > 0].detach()), '+')\n",
    "\n",
    "plt.plot(torch.log(map_subimage_fluxes.flatten()[map_subimage_fluxes.flatten() > 0].detach()), \n",
    "         torch.log(map_subimage_fluxes.flatten()[map_subimage_fluxes.flatten() > 0].detach()), '-')\n",
    "\n",
    "plt.xlabel('truth')\n",
    "plt.ylabel('estimated')"
   ]
  },
  {
   "cell_type": "code",
   "execution_count": null,
   "metadata": {},
   "outputs": [],
   "source": [
    "plt.hist(torch.log10(map_subimage_fluxes.flatten()[map_subimage_fluxes.flatten() > 0]).detach() - \\\n",
    "         torch.log10(true_subimage_fluxes.flatten()[true_subimage_fluxes.flatten() > 0]), \n",
    "        bins = 100);"
   ]
  },
  {
   "cell_type": "code",
   "execution_count": null,
   "metadata": {},
   "outputs": [],
   "source": [
    "# Not just fluxes, but also color?\n",
    "\n",
    "if n_bands > 1: \n",
    "    map_color = torch.log10(map_subimage_fluxes[:, :, 1].flatten()[map_subimage_fluxes[:, :, 1].flatten() > 0] / \\\n",
    "                            map_subimage_fluxes[:, :, 0].flatten()[map_subimage_fluxes[:, :, 0].flatten() > 0])\n",
    "\n",
    "    true_color = torch.log10(true_subimage_fluxes[:, :, 1].flatten()[true_subimage_fluxes[:, :, 1].flatten() > 0] / \\\n",
    "                            true_subimage_fluxes[:, :, 0].flatten()[true_subimage_fluxes[:, :, 0].flatten() > 0])\n",
    "\n",
    "    plt.plot(map_color, true_color, 'x')\n",
    "    plt.plot(map_color, map_color, '-')"
   ]
  },
  {
   "cell_type": "code",
   "execution_count": null,
   "metadata": {},
   "outputs": [],
   "source": [
    "\n",
    "if n_bands > 1: \n",
    "    fig, axarr = plt.subplots(1, 2, figsize=(7, 4))\n",
    "\n",
    "    axarr[0].scatter(true_color, \n",
    "                     true_subimage_fluxes[:, :, 1].flatten()[true_subimage_fluxes[:, :, 1].flatten() > 0])\n",
    "\n",
    "    axarr[0].scatter(map_color, \n",
    "                     map_subimage_fluxes[:, :, 1].flatten()[true_subimage_fluxes[:, :, 1].flatten() > 0], )"
   ]
  },
  {
   "cell_type": "code",
   "execution_count": null,
   "metadata": {},
   "outputs": [],
   "source": []
  },
  {
   "cell_type": "code",
   "execution_count": null,
   "metadata": {},
   "outputs": [],
   "source": []
  },
  {
   "cell_type": "code",
   "execution_count": null,
   "metadata": {},
   "outputs": [],
   "source": []
  },
  {
   "cell_type": "markdown",
   "metadata": {},
   "source": [
    "# Check reconstructions "
   ]
  },
  {
   "cell_type": "code",
   "execution_count": null,
   "metadata": {},
   "outputs": [],
   "source": [
    "use_true_n_stars = False\n",
    "if use_true_n_stars: \n",
    "    _n_stars = true_subimage_n_stars\n",
    "else: \n",
    "    _n_stars = None\n",
    "\n",
    "# get parameters on the full image \n",
    "map_locs_full_image, map_fluxes_full_image, map_n_stars_full = \\\n",
    "    star_encoder.sample_star_encoder(images_full, backgrounds_full, \n",
    "                                     return_map=True, n_stars = _n_stars)[0:3]\n",
    "    \n",
    "if _n_stars is not None: \n",
    "    assert map_n_stars_full == torch.sum(_n_stars)\n",
    "\n",
    "assert map_n_stars_full == map_locs_full_image.shape[1]\n",
    "assert map_n_stars_full == map_fluxes_full_image.shape[1]"
   ]
  },
  {
   "cell_type": "code",
   "execution_count": null,
   "metadata": {},
   "outputs": [],
   "source": [
    "foo = plt.hist(torch.log10(true_full_fluxes).flatten())[1]; \n",
    "plt.hist(torch.log10(map_fluxes_full_image.flatten()), bins = foo, alpha = 0.5)"
   ]
  },
  {
   "cell_type": "code",
   "execution_count": null,
   "metadata": {},
   "outputs": [],
   "source": [
    "# get reconstructed mean\n",
    "vae_recon_mean = simulator.draw_image_from_params(locs = map_locs_full_image, \n",
    "                                                fluxes = map_fluxes_full_image,\n",
    "                                                 n_stars = map_n_stars_full, \n",
    "                                                 add_noise = False).detach()"
   ]
  },
  {
   "cell_type": "code",
   "execution_count": null,
   "metadata": {},
   "outputs": [],
   "source": [
    "band = 0"
   ]
  },
  {
   "cell_type": "code",
   "execution_count": null,
   "metadata": {},
   "outputs": [],
   "source": [
    "fig, axarr = plt.subplots(1, 3, figsize=(15, 4))\n",
    "im0 = axarr[0].matshow(images_full[0, band])\n",
    "fig.colorbar(im0, ax = axarr[0])\n",
    "\n",
    "im1 = axarr[1].matshow(vae_recon_mean[0, band])\n",
    "fig.colorbar(im1, ax = axarr[1])\n",
    "\n",
    "residual = vae_recon_mean[0, band] - images_full[0, band]\n",
    "_residual = (residual / images_full[0, band])[5:95, 5:95]\n",
    "# (torch.log(vae_recon_mean.squeeze()) - torch.log(images_full.squeeze()))[10:90, 10:90]\n",
    "vmax = _residual.abs().max()\n",
    "im2 = axarr[2].matshow(_residual, vmax = vmax, vmin = -vmax, cmap=plt.get_cmap('bwr'))\n",
    "fig.colorbar(im2, ax = axarr[2])"
   ]
  },
  {
   "cell_type": "code",
   "execution_count": null,
   "metadata": {},
   "outputs": [],
   "source": []
  },
  {
   "cell_type": "code",
   "execution_count": null,
   "metadata": {},
   "outputs": [],
   "source": []
  },
  {
   "cell_type": "code",
   "execution_count": null,
   "metadata": {},
   "outputs": [],
   "source": [
    "def get_which_tile(x0, x1, tile_coords, edge_padding, stamp_slen): \n",
    "    coords = tile_coords + edge_padding\n",
    "    \n",
    "    view_slen = stamp_slen - 2 * edge_padding\n",
    "    \n",
    "    indx = torch.where((x0 > coords[:, 0]) & \\\n",
    "                       (x0 < coords[:, 0] + view_slen) & \\\n",
    "                       (x1 > coords[:, 1]) & \\\n",
    "                       (x1 < coords[:, 1] + view_slen))\n",
    "        \n",
    "    return tile_coords[indx], indx"
   ]
  },
  {
   "cell_type": "code",
   "execution_count": null,
   "metadata": {},
   "outputs": [],
   "source": []
  },
  {
   "cell_type": "markdown",
   "metadata": {},
   "source": [
    "# check image patches"
   ]
  },
  {
   "cell_type": "code",
   "execution_count": null,
   "metadata": {},
   "outputs": [],
   "source": [
    "f, axarr = plt.subplots(1, 3, figsize=(16, 6))\n",
    "\n",
    "indx = int(np.random.choice(image_stamps.shape[0], 1))\n",
    "# indx = int(np.random.choice(torch.where(true_subimage_n_stars == 2)[0].numpy(), 1))\n",
    "\n",
    "plotting_utils.plot_subimage(axarr[0], images_full[0, band],\n",
    "                            map_locs_full_image.squeeze(), \n",
    "                            true_full_locs.squeeze(), \n",
    "                            int(star_encoder.tile_coords[indx, 0]), \n",
    "                            int(star_encoder.tile_coords[indx, 1]), \n",
    "                            subimage_slen = star_encoder.stamp_slen, \n",
    "                            add_colorbar = True, \n",
    "                            global_fig = f)\n",
    "\n",
    "plotting_utils.plot_subimage(axarr[1], vae_recon_mean[0, band],\n",
    "                            map_locs_full_image.squeeze(), \n",
    "                            None, \n",
    "                            int(star_encoder.tile_coords[indx, 0]), \n",
    "                            int(star_encoder.tile_coords[indx, 1]), \n",
    "                            subimage_slen = star_encoder.stamp_slen, \n",
    "                            add_colorbar = True, \n",
    "                            global_fig = f)\n",
    "\n",
    "foo = vae_recon_mean[0, band] - images_full[0, band]\n",
    "plotting_utils.plot_subimage(axarr[2], foo, \n",
    "                            map_locs_full_image.squeeze(), \n",
    "                            None, \n",
    "                            int(star_encoder.tile_coords[indx, 0]), \n",
    "                            int(star_encoder.tile_coords[indx, 1]), \n",
    "                            subimage_slen = star_encoder.stamp_slen, \n",
    "                            add_colorbar = True, \n",
    "                            global_fig = f, \n",
    "                            diverging_cmap = True)\n",
    "\n",
    "axarr[0].axvline(x=2, color = 'r')\n",
    "axarr[0].axvline(x=4, color = 'r')\n",
    "axarr[0].axhline(y=2, color = 'r')\n",
    "axarr[0].axhline(y=4, color = 'r')\n",
    "\n",
    "axarr[1].axvline(x=2, color = 'r')\n",
    "axarr[1].axvline(x=4, color = 'r')\n",
    "axarr[1].axhline(y=2, color = 'r')\n",
    "axarr[1].axhline(y=4, color = 'r')"
   ]
  },
  {
   "cell_type": "code",
   "execution_count": null,
   "metadata": {},
   "outputs": [],
   "source": []
  },
  {
   "cell_type": "code",
   "execution_count": null,
   "metadata": {},
   "outputs": [],
   "source": []
  },
  {
   "cell_type": "code",
   "execution_count": null,
   "metadata": {},
   "outputs": [],
   "source": []
  },
  {
   "cell_type": "code",
   "execution_count": null,
   "metadata": {},
   "outputs": [],
   "source": []
  },
  {
   "cell_type": "markdown",
   "metadata": {},
   "source": [
    "# On any arbitrary patch of the image "
   ]
  },
  {
   "cell_type": "code",
   "execution_count": null,
   "metadata": {},
   "outputs": [],
   "source": [
    "w = 9\n",
    "x0_vec = np.arange(star_encoder.edge_padding, \n",
    "                   star_encoder.full_slen - star_encoder.edge_padding - w, \n",
    "                  w)\n",
    "\n",
    "x1_vec = x0_vec"
   ]
  },
  {
   "cell_type": "code",
   "execution_count": null,
   "metadata": {},
   "outputs": [],
   "source": [
    "x0_vec"
   ]
  },
  {
   "cell_type": "code",
   "execution_count": null,
   "metadata": {},
   "outputs": [],
   "source": [
    "f, axarr = plt.subplots(1, 3, figsize=(16, 6))\n",
    "\n",
    "x0 = int(np.random.choice(x0_vec, 1))\n",
    "x1 = int(np.random.choice(x1_vec, 1))\n",
    "\n",
    "plotting_utils.plot_subimage(axarr[0], images_full[0, band],\n",
    "                            map_locs_full_image.squeeze(), \n",
    "                            true_full_locs.squeeze(), \n",
    "                            x0, x1, \n",
    "                            subimage_slen = w, \n",
    "                            add_colorbar = True, \n",
    "                            global_fig = fig)\n",
    "\n",
    "axarr[0].set_title('observed; coords = {}'.format([x0, x1]));\n",
    "\n",
    "plotting_utils.plot_subimage(axarr[1], vae_recon_mean[0, band],\n",
    "                            map_locs_full_image.squeeze(), \n",
    "                            None,  \n",
    "                            x0, x1, \n",
    "                            subimage_slen = w, \n",
    "                            add_colorbar = True, \n",
    "                            global_fig = fig)\n",
    "\n",
    "axarr[1].set_title('reconstructed; coords = {}'.format([x0, x1]));\n",
    "\n",
    "\n",
    "residual = (vae_recon_mean[0, band] - images_full[0, band])\n",
    "plotting_utils.plot_subimage(axarr[2], residual, \n",
    "                            map_locs_full_image.squeeze(), \n",
    "                            None,  \n",
    "                            x0, x1, \n",
    "                            subimage_slen = w, \n",
    "                            add_colorbar = True, \n",
    "                            global_fig = fig, diverging_cmap = True)\n",
    "\n",
    "axarr[2].set_title('residual; coords = {}'.format([x0, x1]));\n"
   ]
  },
  {
   "cell_type": "markdown",
   "metadata": {},
   "source": [
    "# Check out some summary statistics "
   ]
  },
  {
   "cell_type": "code",
   "execution_count": null,
   "metadata": {},
   "outputs": [],
   "source": [
    "def filter_params(locs, fluxes, slen, pad): \n",
    "    assert len(locs.shape) == 2\n",
    "    assert len(fluxes.shape) == 1\n",
    "    \n",
    "    _locs = locs * (slen - 1)\n",
    "    which_params = (_locs[:, 0] > pad) & (_locs[:, 0] < (slen - pad - 1)) & \\\n",
    "                        (_locs[:, 1] > pad) & (_locs[:, 1] < (slen - pad - 1))\n",
    "        \n",
    "    \n",
    "    return locs[which_params], fluxes[which_params]"
   ]
  },
  {
   "cell_type": "code",
   "execution_count": null,
   "metadata": {},
   "outputs": [],
   "source": [
    "true_locs, true_fluxes = filter_params(true_full_locs.squeeze(), \n",
    "                                          true_full_fluxes.squeeze(0)[:, 0], \n",
    "                                          slen = star_encoder.full_slen,\n",
    "                                          pad = star_encoder.edge_padding)\n",
    "\n",
    "est_locs, est_fluxes = filter_params(map_locs_full_image.squeeze(), \n",
    "                                          map_fluxes_full_image.squeeze(0)[:, 0], \n",
    "                                          slen = star_encoder.full_slen,\n",
    "                                          pad = star_encoder.edge_padding)"
   ]
  },
  {
   "cell_type": "code",
   "execution_count": null,
   "metadata": {},
   "outputs": [],
   "source": [
    "# _recon_mean = simulator.draw_image_from_params(\n",
    "#                                 locs = est_locs.unsqueeze(0), \n",
    "#                                 fluxes = est_fluxes.unsqueeze(0),\n",
    "#                                 n_stars = torch.Tensor([est_locs.shape[0]]).type(torch.LongTensor), \n",
    "#                                 add_noise = False).squeeze()\n",
    "\n",
    "# _recon_truth = \\\n",
    "#     simulator.draw_image_from_params(locs = true_locs.unsqueeze(0), \n",
    "#                                     fluxes = true_fluxes.unsqueeze(0),\n",
    "#                                      n_stars = torch.Tensor([len(true_locs)]).type(torch.LongTensor), \n",
    "#                                      add_noise = False).squeeze()\n",
    "\n",
    "\n",
    "# fig, axarr = plt.subplots(1, 4, figsize=(15, 6))\n",
    "\n",
    "# axarr[0].matshow(_recon_mean)\n",
    "# axarr[2].matshow(_recon_truth)\n",
    "\n",
    "# axarr[1].matshow((vae_recon_mean - images_full.squeeze()))\n",
    "\n",
    "# axarr[3].matshow((_recon_truth - images_full.squeeze()))\n"
   ]
  },
  {
   "cell_type": "code",
   "execution_count": null,
   "metadata": {},
   "outputs": [],
   "source": []
  },
  {
   "cell_type": "code",
   "execution_count": null,
   "metadata": {},
   "outputs": [],
   "source": [
    "# completeness and tpr using locations only\n",
    "completeness, tpr = \\\n",
    "    image_statistics_lib.get_summary_stats(est_locs, true_locs, star_encoder.full_slen, None, None)[0:2]\n",
    "    \n",
    "print('completeness: {:0.3f}'.format(completeness))\n",
    "print('true positive rate: {:0.3f}'.format(tpr))"
   ]
  },
  {
   "cell_type": "code",
   "execution_count": null,
   "metadata": {},
   "outputs": [],
   "source": [
    "# completeness and tpr incorporating fluxes\n",
    "completeness, tpr = \\\n",
    "    image_statistics_lib.get_summary_stats(est_locs, true_locs, star_encoder.full_slen, est_fluxes, true_fluxes)[0:2]\n",
    "    \n",
    "print('completeness: {:0.3f}'.format(completeness))\n",
    "print('true positive rate: {:0.3f}'.format(tpr))"
   ]
  },
  {
   "cell_type": "code",
   "execution_count": null,
   "metadata": {},
   "outputs": [],
   "source": [
    "completeness_vec, mag_vec = \\\n",
    "    image_statistics_lib.get_completeness_vec(est_locs, true_locs, star_encoder.full_slen,\n",
    "                                              est_fluxes, true_fluxes)[0:2]\n",
    "plt.plot(mag_vec[0:-1], completeness_vec, '--x')\n",
    "plt.xlabel('true log flux')\n",
    "plt.ylabel('completeness')"
   ]
  },
  {
   "cell_type": "code",
   "execution_count": null,
   "metadata": {},
   "outputs": [],
   "source": [
    "tpr_vec, mag_vec = \\\n",
    "    image_statistics_lib.get_tpr_vec(est_locs, true_locs, star_encoder.full_slen,\n",
    "                                              est_fluxes, true_fluxes)[0:2]\n",
    "\n",
    "plt.plot(mag_vec[0:-1], tpr_vec, '--x')\n",
    "plt.xlabel('estimated log flux')\n",
    "plt.ylabel('tpr')"
   ]
  },
  {
   "cell_type": "code",
   "execution_count": null,
   "metadata": {},
   "outputs": [],
   "source": []
  },
  {
   "cell_type": "markdown",
   "metadata": {},
   "source": [
    "# Compare true SDSS image with simulated SDSS image"
   ]
  },
  {
   "cell_type": "code",
   "execution_count": null,
   "metadata": {},
   "outputs": [],
   "source": [
    "sdss_hubble_data = sdss_dataset_lib.SDSSHubbleData(bands = [2, 3])"
   ]
  },
  {
   "cell_type": "code",
   "execution_count": null,
   "metadata": {},
   "outputs": [],
   "source": [
    "# simulate data using hubble parameters\n",
    "sim_images_full = simulator.draw_image_from_params(locs = sdss_hubble_data.locs.unsqueeze(0), \n",
    "                        fluxes = sdss_hubble_data.fluxes.unsqueeze(0), \n",
    "                        n_stars = torch.Tensor([len(sdss_hubble_data.locs)]).type(torch.LongTensor), \n",
    "                        add_noise = True) \n",
    "\n",
    "# the oberved data \n",
    "sdss_images_full = sdss_hubble_data.sdss_image.unsqueeze(0)\n",
    "\n",
    "# get true parameters\n",
    "backgrounds_full = sdss_hubble_data.sdss_background.unsqueeze(0)\n",
    "\n",
    "which_bright = sdss_hubble_data.fluxes[:, 0] > data_params['f_min']\n",
    "true_full_locs = sdss_hubble_data.locs[which_bright].unsqueeze(0)\n",
    "true_full_fluxes = sdss_hubble_data.fluxes[which_bright].unsqueeze(0)"
   ]
  },
  {
   "cell_type": "code",
   "execution_count": null,
   "metadata": {},
   "outputs": [],
   "source": [
    "band = 1"
   ]
  },
  {
   "cell_type": "code",
   "execution_count": null,
   "metadata": {},
   "outputs": [],
   "source": [
    "f, axarr = plt.subplots(1, 3, figsize=(16, 6))\n",
    "\n",
    "im0 = axarr[0].matshow(sdss_images_full[0, band]); \n",
    "f.colorbar(im0, ax = axarr[0])\n",
    "axarr[0].set_title('true sdss image')\n",
    "\n",
    "im1 = axarr[1].matshow(sim_images_full[0, band]); \n",
    "f.colorbar(im1, ax = axarr[1])\n",
    "axarr[1].set_title('observed sdss image')\n",
    "\n",
    "\n",
    "residual = torch.log10(sim_images_full[0, band]) - torch.log10(sdss_images_full[0, band])\n",
    "vmax = residual[10:90, 10:90].abs().max()\n",
    "im2 = axarr[2].matshow(residual[10:90, 10:90], vmax = vmax, vmin = -vmax, cmap=plt.get_cmap('bwr')); \n",
    "f.colorbar(im2, ax = axarr[2])\n",
    "axarr[2].set_title('residual')"
   ]
  },
  {
   "cell_type": "code",
   "execution_count": null,
   "metadata": {},
   "outputs": [],
   "source": []
  },
  {
   "cell_type": "code",
   "execution_count": null,
   "metadata": {},
   "outputs": [],
   "source": [
    "sdss_image_stamps, true_subimage_locs, true_subimage_fluxes, true_subimage_n_stars, true_is_on_array = \\\n",
    "        star_encoder.get_image_stamps(sdss_images_full, true_full_locs, true_full_fluxes, \n",
    "                                      trim_images = False)\n",
    "\n",
    "background_stamps = \\\n",
    "        star_encoder.get_image_stamps(backgrounds_full, true_full_locs, true_full_fluxes, \n",
    "                                      trim_images = False)[0]"
   ]
  },
  {
   "cell_type": "code",
   "execution_count": null,
   "metadata": {},
   "outputs": [],
   "source": [
    "logit_loc_mean, logit_loc_log_var, \\\n",
    "        log_flux_mean, log_flux_log_var, log_probs = \\\n",
    "            star_encoder(sdss_image_stamps, background_stamps)\n",
    "(log_probs.argmax(1) == true_subimage_n_stars).float().mean()"
   ]
  },
  {
   "cell_type": "code",
   "execution_count": null,
   "metadata": {},
   "outputs": [],
   "source": [
    "sim_image_stamps, true_subimage_locs, true_subimage_fluxes, true_subimage_n_stars, true_is_on_array = \\\n",
    "        star_encoder.get_image_stamps(sim_images_full, true_full_locs, true_full_fluxes, \n",
    "                                      trim_images = False)\n",
    "    \n",
    "logit_loc_mean, logit_loc_log_var, \\\n",
    "        log_flux_mean, log_flux_log_var, log_probs = \\\n",
    "            star_encoder(sim_image_stamps, background_stamps)\n",
    "(log_probs.argmax(1) == true_subimage_n_stars).float().mean()"
   ]
  },
  {
   "cell_type": "code",
   "execution_count": null,
   "metadata": {},
   "outputs": [],
   "source": []
  },
  {
   "cell_type": "code",
   "execution_count": null,
   "metadata": {},
   "outputs": [],
   "source": [
    "# get parameters on the simulated image \n",
    "map_locs_sim_image, map_fluxes_sim_image, map_n_stars_sim_image = \\\n",
    "        star_encoder.sample_star_encoder(sim_images_full, backgrounds_full, \n",
    "                                               return_map = True)[0:3]"
   ]
  },
  {
   "cell_type": "code",
   "execution_count": null,
   "metadata": {},
   "outputs": [],
   "source": [
    "# get parameters on the sdss image \n",
    "map_locs_sdss_image, map_fluxes_sdss_image, map_n_stars_sdss_image = \\\n",
    "        star_encoder.sample_star_encoder(sdss_images_full, backgrounds_full, \n",
    "                                               return_map = True)[0:3]"
   ]
  },
  {
   "cell_type": "markdown",
   "metadata": {},
   "source": [
    "## Check out losses"
   ]
  },
  {
   "cell_type": "code",
   "execution_count": null,
   "metadata": {},
   "outputs": [],
   "source": [
    "loss, counter_loss, locs_loss, fluxes_loss, perm = \\\n",
    "    inv_kl_lib.get_encoder_loss(star_encoder, sim_images_full, backgrounds_full, \n",
    "                                true_full_locs, true_full_fluxes)\n",
    "    \n",
    "print(loss)"
   ]
  },
  {
   "cell_type": "code",
   "execution_count": null,
   "metadata": {},
   "outputs": [],
   "source": [
    "loss, counter_loss, locs_loss, fluxes_loss, perm = \\\n",
    "    inv_kl_lib.get_encoder_loss(star_encoder, sdss_images_full, backgrounds_full, \n",
    "                                true_full_locs, true_full_fluxes)\n",
    "    \n",
    "print(loss)"
   ]
  },
  {
   "cell_type": "markdown",
   "metadata": {},
   "source": [
    "### OK more interpretable ... lets look at l2 loss"
   ]
  },
  {
   "cell_type": "code",
   "execution_count": null,
   "metadata": {},
   "outputs": [],
   "source": [
    "loss, counter_loss_sim, locs_loss_sim, fluxes_loss_sim, _ = \\\n",
    "    inv_kl_lib.get_encoder_loss(star_encoder, sim_images_full, backgrounds_full, \n",
    "                                true_full_locs, true_full_fluxes, use_l2_loss = True)\n",
    "    \n",
    "print(loss)"
   ]
  },
  {
   "cell_type": "code",
   "execution_count": null,
   "metadata": {},
   "outputs": [],
   "source": [
    "loss, counter_loss_sdss, locs_loss_sdss, fluxes_loss_sdss, perm = \\\n",
    "    inv_kl_lib.get_encoder_loss(star_encoder, sdss_images_full, backgrounds_full, \n",
    "                                true_full_locs, true_full_fluxes, use_l2_loss = True)\n",
    "\n",
    "print(loss)"
   ]
  },
  {
   "cell_type": "code",
   "execution_count": null,
   "metadata": {},
   "outputs": [],
   "source": [
    "plt.plot(counter_loss_sim.detach(), \n",
    "         counter_loss_sdss.detach(), '+')\n",
    "plt.plot(counter_loss_sim.detach(), \n",
    "         counter_loss_sim.detach(), '-')\n",
    "plt.xlabel('sim')\n",
    "plt.ylabel('sdss')"
   ]
  },
  {
   "cell_type": "code",
   "execution_count": null,
   "metadata": {},
   "outputs": [],
   "source": [
    "(counter_loss_sim < counter_loss_sdss).float().mean()"
   ]
  },
  {
   "cell_type": "code",
   "execution_count": null,
   "metadata": {},
   "outputs": [],
   "source": [
    "plt.plot(locs_loss_sim.detach(), \n",
    "         locs_loss_sdss.detach(), '+')\n",
    "plt.plot(locs_loss_sim.detach(), \n",
    "         locs_loss_sim.detach(), '-')\n",
    "plt.xlabel('sim')\n",
    "plt.ylabel('sdss')"
   ]
  },
  {
   "cell_type": "code",
   "execution_count": null,
   "metadata": {},
   "outputs": [],
   "source": [
    "(locs_loss_sim[locs_loss_sim > 0] < locs_loss_sdss[locs_loss_sim > 0]).float().mean()"
   ]
  },
  {
   "cell_type": "code",
   "execution_count": null,
   "metadata": {},
   "outputs": [],
   "source": [
    "plt.plot(fluxes_loss_sim.detach(), \n",
    "         fluxes_loss_sdss.detach(), '+')\n",
    "plt.plot(fluxes_loss_sim.detach(), \n",
    "         fluxes_loss_sim.detach(), '-')\n",
    "plt.xlabel('sim')\n",
    "plt.ylabel('sdss')"
   ]
  },
  {
   "cell_type": "code",
   "execution_count": null,
   "metadata": {},
   "outputs": [],
   "source": []
  },
  {
   "cell_type": "code",
   "execution_count": null,
   "metadata": {},
   "outputs": [],
   "source": []
  },
  {
   "cell_type": "code",
   "execution_count": null,
   "metadata": {},
   "outputs": [],
   "source": [
    "indx = int(np.random.choice(star_encoder.tile_coords.shape[0], 1))\n",
    "x0 = int(star_encoder.tile_coords[indx, 0])\n",
    "x1 = int(star_encoder.tile_coords[indx, 1])\n",
    "\n",
    "f, axarr = plt.subplots(1, 3, figsize=(16, 6))\n",
    "\n",
    "plotting_utils.plot_subimage(axarr[0], sdss_images_full[0, band],\n",
    "                            map_locs_sdss_image.squeeze(),  \n",
    "                            true_full_locs.squeeze(),  \n",
    "                            x0, x1, \n",
    "                            subimage_slen = star_encoder.stamp_slen)\n",
    "\n",
    "axarr[0].axvline(x=3, color = 'r')\n",
    "axarr[0].axvline(x=5, color = 'r')\n",
    "axarr[0].axhline(y=3, color = 'r')\n",
    "axarr[0].axhline(y=5, color = 'r')\n",
    "axarr[0].set_title('sdss')\n",
    "\n",
    "plotting_utils.plot_subimage(axarr[1], sim_images_full[0, band],\n",
    "                            map_locs_sim_image.squeeze(),  \n",
    "                            true_full_locs.squeeze(),  \n",
    "                            x0, x1, \n",
    "                            subimage_slen = star_encoder.stamp_slen)\n",
    "\n",
    "axarr[1].axvline(x=3, color = 'r')\n",
    "axarr[1].axvline(x=5, color = 'r')\n",
    "axarr[1].axhline(y=3, color = 'r')\n",
    "axarr[1].axhline(y=5, color = 'r')\n",
    "axarr[1].set_title('simulated')\n",
    "\n",
    "foo = torch.log(sim_images_full[0, band]) - torch.log(sdss_images_full[0, band])\n",
    "plotting_utils.plot_subimage(axarr[2], foo,\n",
    "                            None, \n",
    "                            true_full_locs.squeeze(),  \n",
    "                            x0, x1, \n",
    "                            subimage_slen = star_encoder.stamp_slen, \n",
    "                            global_fig = f, add_colorbar = True)\n"
   ]
  },
  {
   "cell_type": "markdown",
   "metadata": {},
   "source": [
    "# compare summary statistics "
   ]
  },
  {
   "cell_type": "code",
   "execution_count": null,
   "metadata": {},
   "outputs": [],
   "source": [
    "true_locs, true_fluxes = filter_params(true_full_locs.squeeze(), \n",
    "                                          true_full_fluxes[0, :, 0], \n",
    "                                          slen = star_encoder.full_slen,\n",
    "                                          pad = star_encoder.edge_padding)\n",
    "\n",
    "est_locs_sim, est_fluxes_sim = filter_params(map_locs_sim_image.squeeze(), \n",
    "                                        map_fluxes_sim_image.squeeze()[:, 0], \n",
    "                                        slen = star_encoder.full_slen,\n",
    "                                        pad = star_encoder.edge_padding)\n",
    "est_locs_sdss, est_fluxes_sdss = filter_params(map_locs_sdss_image.squeeze(), \n",
    "                                        map_fluxes_sdss_image.squeeze()[:, 0], \n",
    "                                        slen = star_encoder.full_slen,\n",
    "                                        pad = star_encoder.edge_padding)\n",
    "\n",
    "completeness_vec, mag_vec = \\\n",
    "    image_statistics_lib.get_completeness_vec(est_locs_sim, true_locs, star_encoder.full_slen,\n",
    "                                              est_fluxes_sim, true_fluxes)[0:2]\n",
    "    \n",
    "completeness_vec2, mag_vec2 = \\\n",
    "    image_statistics_lib.get_completeness_vec(est_locs_sdss, true_locs, star_encoder.full_slen,\n",
    "                                              est_fluxes_sdss, true_fluxes)[0:2]\n",
    "\n",
    "    \n",
    "plt.plot(mag_vec[0:-1], completeness_vec, '--x', label = 'sim')\n",
    "plt.plot(mag_vec2[0:-1], completeness_vec2, '--x', label = 'sdss')\n",
    "\n",
    "plt.legend()\n",
    "plt.xlabel('true log flux')\n",
    "plt.ylabel('completeness')\n"
   ]
  },
  {
   "cell_type": "code",
   "execution_count": null,
   "metadata": {},
   "outputs": [],
   "source": [
    "tpr_vec, mag_vec = \\\n",
    "    image_statistics_lib.get_tpr_vec(est_locs_sim, true_locs, star_encoder.full_slen,\n",
    "                                              est_fluxes_sim, true_fluxes)[0:2]\n",
    "    \n",
    "tpr_vec2, mag_vec2 = \\\n",
    "    image_statistics_lib.get_tpr_vec(est_locs_sdss, true_locs, star_encoder.full_slen,\n",
    "                                              est_fluxes_sdss, true_fluxes)[0:2]\n",
    "\n",
    "    \n",
    "plt.plot(mag_vec[0:-1], tpr_vec, '--x', label = 'sim')\n",
    "plt.plot(mag_vec2[0:-1], tpr_vec2, '--x', label = 'sdss')\n",
    "\n",
    "plt.legend()\n",
    "plt.xlabel('true log flux')\n",
    "plt.ylabel('tpr')\n"
   ]
  },
  {
   "cell_type": "code",
   "execution_count": null,
   "metadata": {},
   "outputs": [],
   "source": []
  },
  {
   "cell_type": "code",
   "execution_count": null,
   "metadata": {},
   "outputs": [],
   "source": []
  },
  {
   "cell_type": "code",
   "execution_count": null,
   "metadata": {},
   "outputs": [],
   "source": []
  },
  {
   "cell_type": "code",
   "execution_count": null,
   "metadata": {},
   "outputs": [],
   "source": []
  },
  {
   "cell_type": "code",
   "execution_count": null,
   "metadata": {},
   "outputs": [],
   "source": []
  },
  {
   "cell_type": "markdown",
   "metadata": {},
   "source": [
    "# Look at image patches"
   ]
  },
  {
   "cell_type": "raw",
   "metadata": {},
   "source": [
    "w = 9\n",
    "x0_vec = np.arange(star_encoder.edge_padding, \n",
    "                   star_encoder.full_slen - star_encoder.edge_padding - w, \n",
    "                  w)\n",
    "\n",
    "x1_vec = x0_vec"
   ]
  },
  {
   "cell_type": "raw",
   "metadata": {},
   "source": [
    "fig, axarr = plt.subplots(2, 2, figsize=(16, 12))\n",
    "\n",
    "x0 = int(np.random.choice(x0_vec, 1))\n",
    "x1 = int(np.random.choice(x1_vec, 1))\n",
    "\n",
    "#### simulated image ####\n",
    "plotting_utils.plot_subimage(axarr[0, 0], \n",
    "                            sim_images_full.squeeze(),\n",
    "                            map_locs_sim_image.squeeze(), \n",
    "                            true_full_locs.squeeze(), \n",
    "                            x0, x1, \n",
    "                            subimage_slen = w, \n",
    "                            add_colorbar = True, \n",
    "                            global_fig = fig)\n",
    "axarr[0, 0].set_title('simulated image')\n",
    "\n",
    "#### sdss image ####\n",
    "plotting_utils.plot_subimage(axarr[0, 1], \n",
    "                            sdss_images_full.squeeze(),\n",
    "                            map_locs_sdss_image.squeeze(), \n",
    "                            true_full_locs.squeeze(), \n",
    "                            x0, x1, \n",
    "                            subimage_slen = w, \n",
    "                            add_colorbar = True, \n",
    "                            global_fig = fig)\n",
    "axarr[0, 1].set_title('sdss image')\n",
    "\n",
    "#############\n",
    "# Posterior samples\n",
    "#############\n",
    "\n",
    "#### simulated image ####\n",
    "plotting_utils.plot_subimage(axarr[1, 0], \n",
    "                            sim_images_full.squeeze(),\n",
    "                            locs_sampled_sim_image.squeeze().detach(), \n",
    "                            true_full_locs.squeeze(), \n",
    "                            x0, x1, \n",
    "                            subimage_slen = w, \n",
    "                            add_colorbar = True, \n",
    "                            global_fig = fig, alpha = 0.5)\n",
    "axarr[1, 0].set_title('simulated image')\n",
    "\n",
    "#### sdss image ####\n",
    "plotting_utils.plot_subimage(axarr[1, 1], \n",
    "                            sdss_images_full.squeeze(),\n",
    "                            locs_sampled_sdss_image.squeeze().detach(), \n",
    "                            true_full_locs.squeeze(), \n",
    "                            x0, x1, \n",
    "                            subimage_slen = w, \n",
    "                            add_colorbar = True, \n",
    "                            global_fig = fig, alpha = 0.5)\n",
    "\n",
    "axarr[1, 1].set_title('sdss image')\n"
   ]
  },
  {
   "cell_type": "raw",
   "metadata": {},
   "source": [
    "# fig, axarr = plt.subplots(1, 3, figsize=(16, 6))\n",
    "\n",
    "# plotting_utils.plot_subimage(axarr[2], \n",
    "#                             sim_images_full.squeeze() - sdss_images_full.squeeze(),\n",
    "#                             map_locs_sdss_image.squeeze(), \n",
    "#                             true_full_locs.squeeze(), \n",
    "#                             x0, x1, \n",
    "#                             subimage_slen = 10, \n",
    "#                             add_colorbar = True, \n",
    "#                             global_fig = fig)\n",
    "\n",
    "# plotting_utils.plot_subimage(axarr[2], \n",
    "#                             sim_images_full.squeeze() - sdss_images_full.squeeze(),\n",
    "#                             None, \n",
    "#                             true_full_locs.squeeze(), \n",
    "#                             x0, x1, \n",
    "#                             subimage_slen = 10, \n",
    "#                             add_colorbar = True, \n",
    "#                             global_fig = fig)\n",
    "# axarr[2].set_title('sim image - sdss image')\n"
   ]
  },
  {
   "cell_type": "raw",
   "metadata": {},
   "source": [
    "f, axarr = plt.subplots(1, 3, figsize=(16, 6))\n",
    "\n"
   ]
  },
  {
   "cell_type": "raw",
   "metadata": {},
   "source": []
  },
  {
   "cell_type": "raw",
   "metadata": {},
   "source": []
  },
  {
   "cell_type": "code",
   "execution_count": null,
   "metadata": {},
   "outputs": [],
   "source": []
  },
  {
   "cell_type": "code",
   "execution_count": null,
   "metadata": {},
   "outputs": [],
   "source": []
  },
  {
   "cell_type": "code",
   "execution_count": null,
   "metadata": {},
   "outputs": [],
   "source": [
    "# for i in range(1): \n",
    "#     fig, axarr = plt.subplots(1, 3, figsize=(16, 6))\n",
    "#     indx = 1609 # int(np.random.choice(image_stamps.shape[0], 1))\n",
    "#     # indx = np.random.choice(torch.where(true_subimage_n_stars > 3)[0].numpy(), 1)\n",
    "    \n",
    "#     x0 = int(star_encoder.tile_coords[indx, 0])\n",
    "#     x1 = int(star_encoder.tile_coords[indx, 1]) \n",
    "    \n",
    "#     # plot image stamp\n",
    "#     im0 = axarr[0].matshow(image_stamps[indx].squeeze())\n",
    "#     im0 = fig.colorbar(im0, ax=axarr[0])\n",
    "    \n",
    "#     # plot true locations      \n",
    "#     patch_slen = (star_encoder.stamp_slen - 2 * star_encoder.edge_padding)\n",
    "#     axarr[0].scatter(true_subimage_locs[indx, 0:true_subimage_n_stars[indx], 1] * (patch_slen - 1) + \\\n",
    "#                          star_encoder.edge_padding, \n",
    "#                     true_subimage_locs[indx, 0:true_subimage_n_stars[indx], 0] * (patch_slen - 1) + \\\n",
    "#                          star_encoder.edge_padding, \n",
    "#                     color = 'b')\n",
    "    \n",
    "#     axarr[0].scatter(map_subimage_locs[indx, 0:map_n_stars_stamps[indx], 1] * (patch_slen - 1) + \\\n",
    "#                          star_encoder.edge_padding, \n",
    "#                     map_subimage_locs[indx, 0:map_n_stars_stamps[indx], 0] * (patch_slen - 1) + \\\n",
    "#                          star_encoder.edge_padding, \n",
    "#                     color = 'r', marker = 'x')\n",
    "    \n",
    "    \n",
    "#     axarr[0].axvline(x=3, color = 'r')\n",
    "#     axarr[0].axvline(x=5, color = 'r')\n",
    "#     axarr[0].axhline(y=3, color = 'r')\n",
    "#     axarr[0].axhline(y=5, color = 'r')\n",
    "    \n",
    "#     axarr[0].set_title('observed; coords {}\\n'.format([x0, x1]))\n",
    "    \n",
    "#     # plot reconstruction\n",
    "#     recon_patch = vae_recon_mean[x0:(x0+star_encoder.stamp_slen), \n",
    "#                                    x1:(x1+star_encoder.stamp_slen)]\n",
    "#     im1 = axarr[1].matshow(recon_patch)\n",
    "    \n",
    "#     axarr[1].axvline(x=3, color = 'r')\n",
    "#     axarr[1].axvline(x=5, color = 'r')\n",
    "#     axarr[1].axhline(y=3, color = 'r')\n",
    "#     axarr[1].axhline(y=5, color = 'r')\n",
    "    \n",
    "#     axarr[1].scatter(map_subimage_locs[indx, 0:map_n_stars_stamps[indx], 1] * (patch_slen - 1) + \\\n",
    "#                          star_encoder.edge_padding, \n",
    "#                     map_subimage_locs[indx, 0:map_n_stars_stamps[indx], 0] * (patch_slen - 1) + \\\n",
    "#                          star_encoder.edge_padding, \n",
    "#                     color = 'r', marker = 'x')\n",
    "#     fig.colorbar(im1, ax=axarr[1])\n",
    "    \n",
    "    \n",
    "#     # plot residual\n",
    "#     im2 = axarr[2].matshow(((recon_patch - image_stamps[indx].squeeze()))/image_stamps[indx].squeeze())\n",
    "#     fig.colorbar(im2, ax=axarr[2])"
   ]
  },
  {
   "cell_type": "raw",
   "metadata": {},
   "source": [
    "# get completeness as a function of magnitude\n",
    "\n",
    "# true_mag = torch.log10(true_fluxes)\n",
    "\n",
    "# max_mag = torch.ceil(true_mag.max())\n",
    "# min_mag = torch.floor(true_mag.min())\n",
    "\n",
    "# mag_vec = np.arange(min_mag, max_mag, 0.5)\n",
    "\n",
    "# completeness_vec = np.zeros(len(mag_vec) - 1)\n",
    "\n",
    "# for i in range(len(mag_vec) - 1): \n",
    "#     which_true = (true_mag > mag_vec[i]) & (true_mag < mag_vec[i + 1])\n",
    "    \n",
    "#     fluxes_error = get_fluxes_error(est_fluxes, true_fluxes[which_true])\n",
    "    \n",
    "#     locs_error = get_locs_error(est_locs * (star_encoder.full_slen - 1), \n",
    "#                                 true_locs[which_true] * (star_encoder.full_slen - 1))\n",
    "    \n",
    "#     completeness_vec[i] = \\\n",
    "#         torch.any((locs_error < 0.5), dim = 1).float().mean()\n",
    "    \n",
    "# #     completeness_vec[i] = \\\n",
    "# #         torch.any((locs_error < 0.5) * (fluxes_error < 0.5), dim = 1).float().mean()"
   ]
  },
  {
   "cell_type": "raw",
   "metadata": {},
   "source": [
    "plt.plot(mag_vec[0:-1], completeness_vec, '--x')\n",
    "plt.xlabel('true log flux')\n",
    "plt.ylabel('completeness')"
   ]
  },
  {
   "cell_type": "raw",
   "metadata": {},
   "source": [
    "# true positive rate\n",
    "\n",
    "est_mag = torch.log10(est_fluxes)\n",
    "\n",
    "max_mag = torch.ceil(true_mag.max())\n",
    "min_mag = torch.floor(true_mag.min())\n",
    "\n",
    "mag_vec = np.arange(min_mag, max_mag, 0.5)\n",
    "\n",
    "tpr_vec = np.zeros(len(mag_vec) - 1)\n",
    "\n",
    "for i in range(len(mag_vec) - 1): \n",
    "    which_est = (est_mag > mag_vec[i]) & (est_mag < mag_vec[i + 1])\n",
    "    \n",
    "    fluxes_error = get_fluxes_error(est_fluxes[which_est], true_fluxes)\n",
    "    \n",
    "    locs_error = get_locs_error(est_locs[which_est] * (star_encoder.full_slen - 1), \n",
    "                                true_locs * (star_encoder.full_slen - 1))\n",
    "    \n",
    "    tpr_vec[i] = \\\n",
    "        torch.any(locs_error < 0.5, dim = 0).float().mean()\n",
    "    \n",
    "#     completeness_vec[i] = \\\n",
    "#         torch.any((locs_error < 0.5) * (fluxes_error < 0.5), dim = 1).float().mean()\n",
    "\n",
    "plt.plot(mag_vec[0:-1], tpr_vec, '--x')\n",
    "plt.xlabel('estimated log flux')\n",
    "plt.ylabel('tpr')"
   ]
  },
  {
   "cell_type": "code",
   "execution_count": null,
   "metadata": {},
   "outputs": [],
   "source": [
    "def get_weights_from_n_stars(n_stars): \n",
    "    counts = torch.zeros(max(n_stars) + 1)\n",
    "    \n",
    "    for i in range(max(n_stars) + 1): \n",
    "        counts[i] = torch.sum(n_stars == i)\n",
    "        \n",
    "    weights = torch.zeros(len(n_stars))\n",
    "\n",
    "    for i in range(max(n_stars) + 1): \n",
    "        weights = weights + len(n_stars) / counts[i] * (n_stars == i).float()\n",
    "        \n",
    "    return weights / weights.min()"
   ]
  },
  {
   "cell_type": "code",
   "execution_count": null,
   "metadata": {},
   "outputs": [],
   "source": [
    "weights = get_weights_from_n_stars(true_subimage_n_stars)"
   ]
  },
  {
   "cell_type": "code",
   "execution_count": null,
   "metadata": {},
   "outputs": [],
   "source": [
    "torch.unique(weights)"
   ]
  },
  {
   "cell_type": "code",
   "execution_count": null,
   "metadata": {},
   "outputs": [],
   "source": [
    "torch.unique(weights[true_subimage_n_stars == 0])"
   ]
  },
  {
   "cell_type": "code",
   "execution_count": null,
   "metadata": {},
   "outputs": [],
   "source": [
    "torch.unique(weights[true_subimage_n_stars == 4])"
   ]
  },
  {
   "cell_type": "code",
   "execution_count": null,
   "metadata": {},
   "outputs": [],
   "source": [
    "(true_subimage_n_stars == 0).float().sum() / (true_subimage_n_stars == 4).float().sum()"
   ]
  },
  {
   "cell_type": "code",
   "execution_count": null,
   "metadata": {},
   "outputs": [],
   "source": []
  },
  {
   "cell_type": "code",
   "execution_count": null,
   "metadata": {},
   "outputs": [],
   "source": [
    "true_n_stars = true_subimage_n_stars.clone()"
   ]
  },
  {
   "cell_type": "code",
   "execution_count": null,
   "metadata": {},
   "outputs": [],
   "source": [
    "counts = torch.zeros(max(true_n_stars) + 1)"
   ]
  },
  {
   "cell_type": "code",
   "execution_count": null,
   "metadata": {},
   "outputs": [],
   "source": [
    "for i in range(max(true_n_stars) + 1): \n",
    "    counts[i] = torch.sum(true_n_stars == i)"
   ]
  },
  {
   "cell_type": "code",
   "execution_count": null,
   "metadata": {},
   "outputs": [],
   "source": [
    "weights = torch.zeros(len(true_n_stars))\n",
    "\n",
    "for i in range(max(true_n_stars) + 1): \n",
    "    weights = weights + len(true_n_stars) / counts[i] * (true_n_stars == i).float()"
   ]
  },
  {
   "cell_type": "code",
   "execution_count": null,
   "metadata": {},
   "outputs": [],
   "source": [
    "weights = weights / weights.min()"
   ]
  },
  {
   "cell_type": "code",
   "execution_count": null,
   "metadata": {},
   "outputs": [],
   "source": [
    "true_n_stars"
   ]
  },
  {
   "cell_type": "code",
   "execution_count": null,
   "metadata": {},
   "outputs": [],
   "source": []
  },
  {
   "cell_type": "code",
   "execution_count": null,
   "metadata": {},
   "outputs": [],
   "source": []
  },
  {
   "cell_type": "code",
   "execution_count": null,
   "metadata": {},
   "outputs": [],
   "source": []
  },
  {
   "cell_type": "code",
   "execution_count": null,
   "metadata": {},
   "outputs": [],
   "source": [
    "torch.histc(true_subimage_n_stars)"
   ]
  },
  {
   "cell_type": "code",
   "execution_count": null,
   "metadata": {},
   "outputs": [],
   "source": []
  },
  {
   "cell_type": "code",
   "execution_count": null,
   "metadata": {},
   "outputs": [],
   "source": []
  },
  {
   "cell_type": "code",
   "execution_count": null,
   "metadata": {},
   "outputs": [],
   "source": []
  },
  {
   "cell_type": "raw",
   "metadata": {},
   "source": [
    "# get map estimates for image patches\n",
    "use_true_n_stars = False\n",
    "if use_true_n_stars: \n",
    "    map_n_stars = _true_n_stars # torch.argmax(log_probs, dim = 1)\n",
    "else: \n",
    "    map_n_stars = torch.argmax(log_probs, dim = 1)\n",
    "    \n",
    "is_on_array = inv_kl_lib.get_is_on_from_n_stars(map_n_stars, star_encoder.max_detections)\n",
    "\n",
    "map_locs = torch.sigmoid(logit_loc_mean).detach() * is_on_array.unsqueeze(2).float()\n",
    "map_fluxes = torch.exp(log_flux_mean).detach() * is_on_array.float()"
   ]
  },
  {
   "cell_type": "raw",
   "metadata": {},
   "source": [
    "# convert patch parameters to parameters on the full image \n",
    "map_locs_full_image, map_fluxes_full_image, n_stars = \\\n",
    "    image_utils.get_full_params_from_patch_params(map_locs, \n",
    "                                                  map_fluxes,\n",
    "                                                    star_encoder.tile_coords,\n",
    "                                                    star_encoder.full_slen,\n",
    "                                                    star_encoder.stamp_slen,\n",
    "                                                    star_encoder.edge_padding,\n",
    "                                                    star_encoder.batchsize)"
   ]
  },
  {
   "cell_type": "raw",
   "metadata": {},
   "source": [
    "_psf = simulated_datasets_lib._trim_psf(simulated_dataset.simulator.psf, \n",
    "                                        star_encoder.stamp_slen - 2 * star_encoder.edge_padding)"
   ]
  },
  {
   "cell_type": "raw",
   "metadata": {},
   "source": [
    "indx = np.arange(0, 20)\n",
    "# indx = torch.where(torch.abs(map_locs - true_subimage_locs).sum(-1).sum(-1) > 0.5)[0]\n",
    "# indx = true_n_stars == 2\n",
    "\n",
    "plotting_utils.print_results(star_encoder, \n",
    "                                image_stamps[indx], \n",
    "                                _backgrounds[indx], \n",
    "                                _psf, \n",
    "                                true_subimage_locs[indx], \n",
    "                                is_on_array[indx],\n",
    "                                use_true_n_stars = False)"
   ]
  },
  {
   "cell_type": "raw",
   "metadata": {},
   "source": [
    "indx = np.arange(20, 40)\n",
    "plotting_utils.print_results(star_encoder, \n",
    "                                image_stamps[indx], \n",
    "                                _backgrounds[indx], \n",
    "                                _psf, \n",
    "                                true_subimage_locs[indx], \n",
    "                                is_on_array[indx],\n",
    "                                use_true_n_stars = False)"
   ]
  },
  {
   "cell_type": "raw",
   "metadata": {},
   "source": []
  },
  {
   "cell_type": "raw",
   "metadata": {},
   "source": []
  },
  {
   "cell_type": "raw",
   "metadata": {},
   "source": []
  },
  {
   "cell_type": "raw",
   "metadata": {},
   "source": []
  },
  {
   "cell_type": "raw",
   "metadata": {},
   "source": [
    "# look at one image in detail"
   ]
  },
  {
   "cell_type": "raw",
   "metadata": {},
   "source": [
    "indx = 35 # int(np.random.choice(image_stamps.shape[0], 1))"
   ]
  },
  {
   "cell_type": "raw",
   "metadata": {},
   "source": [
    "image_i = image_stamps[indx].unsqueeze(0)\n",
    "true_n_stars_i = true_n_stars[indx]\n",
    "true_locs_i = true_subimage_locs[indx]\n",
    "\n",
    "print('true n_stars: ', true_n_stars_i)"
   ]
  },
  {
   "cell_type": "raw",
   "metadata": {},
   "source": [
    "n_stars_i = torch.Tensor([true_n_stars_i]).type(torch.LongTensor)\n",
    "\n",
    "logit_loc_mean, logit_loc_log_var, \\\n",
    "    log_flux_mean, log_flux_log_var, log_probs = \\\n",
    "        star_encoder(image_i, data_params['sky_intensity'], n_stars_i)"
   ]
  },
  {
   "cell_type": "raw",
   "metadata": {},
   "source": [
    "plotting_utils.plot_categorical_probs(log_probs[0], plt)"
   ]
  },
  {
   "cell_type": "raw",
   "metadata": {},
   "source": [
    "_images = image_utils.trim_images(image_i, star_encoder.edge_padding)\n",
    "plt.matshow(_images.squeeze())\n",
    "plt.scatter(true_locs_i[is_on_array[indx], 1] * (star_encoder.stamp_slen - 1 - 2 * star_encoder.edge_padding), \n",
    "           true_locs_i[is_on_array[indx], 0] * (star_encoder.stamp_slen - 1 - 2 * star_encoder.edge_padding))\n",
    "\n",
    "map_locs = torch.sigmoid(logit_loc_mean).detach()\n",
    "\n",
    "plt.scatter(map_locs[0, 0:n_stars_i, 1] * (star_encoder.stamp_slen - 1 - 2 * star_encoder.edge_padding), \n",
    "           map_locs[0, 0:n_stars_i, 0] * (star_encoder.stamp_slen - 1 - 2 * star_encoder.edge_padding), \n",
    "           color = 'red', marker = 'x')"
   ]
  },
  {
   "cell_type": "raw",
   "metadata": {},
   "source": []
  },
  {
   "cell_type": "raw",
   "metadata": {},
   "source": []
  },
  {
   "cell_type": "raw",
   "metadata": {},
   "source": [
    "# check out deblending properties"
   ]
  },
  {
   "cell_type": "raw",
   "metadata": {},
   "source": [
    "n_trials = 10\n",
    "\n",
    "_n_stars = (torch.ones(n_trials) * 2).type(torch.LongTensor)\n",
    "_fluxes = torch.ones(n_trials, max_stars) * simulated_dataset.f_min * 100\n",
    "\n",
    "_locs = torch.rand(n_trials, max_stars, 2)\n",
    "\n",
    "dist = 0.0\n",
    "incr = 0.01\n",
    "for i in range(_locs.shape[0]):\n",
    "    dist = dist + incr\n",
    "    _locs[i, 0, :] = 0.5 + dist\n",
    "    _locs[i, 1,:] = 0.5 - dist"
   ]
  },
  {
   "cell_type": "raw",
   "metadata": {},
   "source": [
    "_images = simulated_dataset.simulator.draw_image_from_params(_locs, _fluxes, _n_stars,\n",
    "                                                             add_noise = False)\n",
    "\n",
    "_backgrounds = torch.ones(10, 1, 1, 1) * simulated_dataset.sky_intensity"
   ]
  },
  {
   "cell_type": "raw",
   "metadata": {},
   "source": [
    "plotting_utils.print_results(star_encoder, \n",
    "                            _images, \n",
    "                            _backgrounds, \n",
    "                            simulated_dataset.simulator.psf, \n",
    "                            _locs,\n",
    "                            _n_stars, \n",
    "                            use_true_n_stars = False)"
   ]
  },
  {
   "cell_type": "raw",
   "metadata": {},
   "source": []
  },
  {
   "cell_type": "raw",
   "metadata": {},
   "source": [
    "import sdss_dataset_lib"
   ]
  },
  {
   "cell_type": "raw",
   "metadata": {},
   "source": [
    "hubble_cat_file='../hubble_data/NCG7078/hlsp_acsggct_hst_acs-wfc_ngc7078_r.rdviq.cal.adj.zpt.txt'\n",
    "sdss_hubble_data = sdss_dataset_lib.SDSSHubbleData(hubble_cat_file=hubble_cat_file, \n",
    "                                                   slen = 11, \n",
    "                                                   run = 2566, \n",
    "                                                   camcol = 6, \n",
    "                                                   field = 65, \n",
    "                                                max_detections = max_stars)"
   ]
  },
  {
   "cell_type": "raw",
   "metadata": {},
   "source": [
    "len(sdss_hubble_data)"
   ]
  },
  {
   "cell_type": "raw",
   "metadata": {},
   "source": [
    "# true parameters\n",
    "hubble_loader = torch.utils.data.DataLoader(\n",
    "                 dataset=sdss_hubble_data,\n",
    "                 batch_size=len(sdss_hubble_data),\n",
    "                 shuffle=False)\n",
    "\n",
    "for _, data in enumerate(hubble_loader):\n",
    "    hubble_fluxes = data['fluxes'].type(torch.float)\n",
    "    hubble_locs = data['locs'].type(torch.float)\n",
    "    hubble_n_stars = data['n_stars']\n",
    "    sdss_images = data['image']\n",
    "    sdss_backgrounds = data['background']\n",
    "    \n",
    "    break"
   ]
  },
  {
   "cell_type": "raw",
   "metadata": {},
   "source": [
    "plt.hist(torch.log10(images - simulated_dataset.sky_intensity).flatten());"
   ]
  },
  {
   "cell_type": "raw",
   "metadata": {},
   "source": [
    "plt.hist(torch.log10(sdss_images - sdss_backgrounds).flatten());"
   ]
  },
  {
   "cell_type": "raw",
   "metadata": {},
   "source": [
    "indx = np.arange(0, 10)\n",
    "plotting_utils.print_results(star_encoder, \n",
    "                                sdss_images[indx],\n",
    "                                sdss_backgrounds[indx],\n",
    "                                simulated_dataset.simulator.psf, \n",
    "                                hubble_locs[indx],\n",
    "                                hubble_n_stars[indx], \n",
    "                                use_true_n_stars = False, \n",
    "                                residual_clamp = 1e16)"
   ]
  },
  {
   "cell_type": "raw",
   "metadata": {},
   "source": []
  },
  {
   "cell_type": "code",
   "execution_count": null,
   "metadata": {},
   "outputs": [],
   "source": []
  },
  {
   "cell_type": "code",
   "execution_count": null,
   "metadata": {},
   "outputs": [],
   "source": []
  },
  {
   "cell_type": "code",
   "execution_count": null,
   "metadata": {},
   "outputs": [],
   "source": []
  },
  {
   "cell_type": "raw",
   "metadata": {},
   "source": [
    "# get variational parameters\n",
    "logit_loc_mean, logit_loc_log_var, \\\n",
    "        log_flux_mean, log_flux_log_var, log_probs = star_encoder(images, backgrounds, true_n_stars)"
   ]
  },
  {
   "cell_type": "raw",
   "metadata": {},
   "source": [
    "foo = log_flux_log_var.flatten().detach().numpy()\n",
    "plt.hist(foo[foo != 0], bins = 100);"
   ]
  },
  {
   "cell_type": "raw",
   "metadata": {},
   "source": [
    "foo = logit_loc_log_var.flatten().detach().numpy()\n",
    "plt.hist(foo[foo != 0], bins = 100);"
   ]
  },
  {
   "cell_type": "raw",
   "metadata": {},
   "source": []
  },
  {
   "cell_type": "raw",
   "metadata": {},
   "source": [
    "map_locs = torch.sigmoid(logit_loc_mean)\n",
    "map_fluxes = torch.exp(log_flux_mean)"
   ]
  },
  {
   "cell_type": "raw",
   "metadata": {
    "code_folding": []
   },
   "source": [
    "# error in locs\n",
    "for i in range(max_stars): \n",
    "    \n",
    "    is_on_i = true_is_on[:, i]\n",
    "    \n",
    "    \n",
    "    plt.plot(map_locs[is_on_i == 1, i, 0].detach().numpy(), \n",
    "                locs_perm[is_on_i == 1, i, 0].detach().numpy(), '+', color = 'blue')\n",
    "    plt.plot(map_locs[is_on_i == 1, i, 0].detach().numpy(), \n",
    "                 map_locs[is_on_i == 1, i, 0].detach().numpy(), color = 'red')\n",
    "    plt.xlabel('Estimated x coordinate', fontsize = 16)\n",
    "    plt.ylabel('True x coordinate', fontsize = 16)\n"
   ]
  },
  {
   "cell_type": "raw",
   "metadata": {},
   "source": [
    "# error in locs\n",
    "for i in range(max_stars): \n",
    "    \n",
    "    is_on_i = true_is_on[:, i]\n",
    "    \n",
    "    \n",
    "    plt.plot(map_locs[is_on_i == 1, i, 1].detach().numpy(), \n",
    "                locs_perm[is_on_i == 1, i, 1].detach().numpy(), '+', color = 'blue')\n",
    "    plt.plot(map_locs[is_on_i == 1, i, 1].detach().numpy(), \n",
    "                 map_locs[is_on_i == 1, i, 1].detach().numpy(), color = 'red')\n",
    "    plt.xlabel('Estimated y coordinate', fontsize = 16)\n",
    "    plt.ylabel('True y coordinate', fontsize = 16)\n",
    "\n"
   ]
  },
  {
   "cell_type": "raw",
   "metadata": {},
   "source": [
    "for i in range(max_stars): \n",
    "   \n",
    "    is_on_i = true_is_on[:, i]\n",
    "#     plt.figure()\n",
    "    \n",
    "    plt.plot(np.log(map_fluxes[is_on_i == 1, i].detach().numpy()), \n",
    "             np.log(fluxes_perm[is_on_i == 1, i].detach().numpy()), '+', color = 'blue')\n",
    "    \n",
    "    plt.plot(np.log(map_fluxes[is_on_i == 1, i].detach().numpy()), \n",
    "             np.log(map_fluxes[is_on_i == 1, i].detach().numpy()), color = 'red')\n",
    "    \n",
    "    plt.xlabel('Estimated flux', fontsize = 16)\n",
    "    plt.ylabel('True flux', fontsize = 16)\n",
    "    \n",
    "\n"
   ]
  },
  {
   "cell_type": "raw",
   "metadata": {},
   "source": []
  },
  {
   "cell_type": "raw",
   "metadata": {},
   "source": [
    "# _true_n_stars = true_n_stars.clone()\n",
    "# _true_n_stars[true_n_stars > star_encoder.max_detections] = star_encoder.max_detections\n",
    "# probs = objectives_lib.get_one_hot_encoding_from_int(_true_n_stars, star_encoder.max_detections + 1) + 0.1\n",
    "\n",
    "# probs = probs / probs.sum(dim = 1).unsqueeze(1)\n",
    "\n",
    "# log_probs = torch.log(probs)\n",
    "\n",
    "# is_on_array = objectives_lib.get_is_on_from_n_stars(log_probs.argmax(1), star_encoder.max_detections)\n",
    "\n",
    "# logit_loc_mean = objectives_lib._logit(true_subimage_locs[:, 0:star_encoder.max_detections, :]) * \\\n",
    "#                     is_on_array.unsqueeze(2).float()\n",
    "    \n",
    "# logit_loc_log_var = -5 * torch.ones(logit_loc_mean.shape) * is_on_array.unsqueeze(2).float()\n",
    "\n",
    "# log_flux_mean = torch.log(true_subimage_fluxes[:, 0:star_encoder.max_detections].clamp(min = 0.1)) * \\\n",
    "#                     is_on_array.float()\n",
    "\n",
    "# log_flux_log_var = -5 * torch.ones(log_flux_mean.shape) * is_on_array.float()\n",
    "\n",
    "# loss, counter_loss, locs_loss, fluxes_loss, perm = \\\n",
    "#     objectives_lib.get_params_loss(logit_loc_mean, logit_loc_log_var, \\\n",
    "#                         log_flux_mean, log_flux_log_var, log_probs,\n",
    "#                         true_subimage_locs, true_subimage_fluxes, _true_n_stars)"
   ]
  }
 ],
 "metadata": {
  "kernelspec": {
   "display_name": "pytorch_update",
   "language": "python",
   "name": "pytorch_update"
  },
  "language_info": {
   "codemirror_mode": {
    "name": "ipython",
    "version": 3
   },
   "file_extension": ".py",
   "mimetype": "text/x-python",
   "name": "python",
   "nbconvert_exporter": "python",
   "pygments_lexer": "ipython3",
   "version": "3.6.8"
  }
 },
 "nbformat": 4,
 "nbformat_minor": 2
}

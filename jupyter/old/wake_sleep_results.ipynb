{
 "cells": [
  {
   "cell_type": "code",
   "execution_count": null,
   "metadata": {},
   "outputs": [],
   "source": [
    "import numpy as np\n",
    "import torch\n",
    "\n",
    "import json\n",
    "\n",
    "import matplotlib.pyplot as plt\n",
    "\n",
    "import sys\n",
    "sys.path.insert(0, '../')\n",
    "import simulated_datasets_lib\n",
    "import sdss_dataset_lib\n",
    "import sdss_psf\n",
    "import image_utils \n",
    "\n",
    "import starnet_lib\n",
    "import sleep_lib\n",
    "import wake_lib\n",
    "import plotting_utils\n",
    "\n",
    "import psf_transform_lib\n",
    "import image_statistics_lib\n",
    "\n",
    "np.random.seed(34534)"
   ]
  },
  {
   "cell_type": "code",
   "execution_count": null,
   "metadata": {},
   "outputs": [],
   "source": [
    "device = torch.device(\"cuda:0\" if torch.cuda.is_available() else \"cpu\")\n"
   ]
  },
  {
   "cell_type": "markdown",
   "metadata": {},
   "source": [
    "# Load the data"
   ]
  },
  {
   "cell_type": "code",
   "execution_count": null,
   "metadata": {},
   "outputs": [],
   "source": [
    "f_min = 1000."
   ]
  },
  {
   "cell_type": "code",
   "execution_count": null,
   "metadata": {},
   "outputs": [],
   "source": [
    "bands = [2, 3]\n",
    "sdss_hubble_data = sdss_dataset_lib.SDSSHubbleData(sdssdir='../../celeste_net/sdss_stage_dir/',\n",
    "                                       hubble_cat_file = '../hubble_data/NCG7089/' + \\\n",
    "                                        'hlsp_acsggct_hst_acs-wfc_ngc7089_r.rdviq.cal.adj.zpt.txt',\n",
    "                                        bands = bands)\n",
    "\n",
    "full_image = sdss_hubble_data.sdss_image.unsqueeze(0).to(device)\n",
    "full_background = sdss_hubble_data.sdss_background.unsqueeze(0) \n",
    "\n",
    "# true parameters\n",
    "which_bright = (sdss_hubble_data.fluxes[:, 0] > f_min)\n",
    "true_locs = sdss_hubble_data.locs[which_bright].unsqueeze(0)\n",
    "true_fluxes = sdss_hubble_data.fluxes[which_bright].unsqueeze(0)\n",
    "true_nstars = torch.Tensor([which_bright.sum()]).type(torch.LongTensor)"
   ]
  },
  {
   "cell_type": "code",
   "execution_count": null,
   "metadata": {},
   "outputs": [],
   "source": [
    "plt.matshow(full_image[0, 0])\n",
    "plt.colorbar()\n",
    "\n",
    "# plt.scatter(true_locs[:, 1] * 100, \n",
    "#            true_locs[:, 0] * 100)"
   ]
  },
  {
   "cell_type": "markdown",
   "metadata": {},
   "source": [
    "# Load SDSS PSF"
   ]
  },
  {
   "cell_type": "code",
   "execution_count": null,
   "metadata": {},
   "outputs": [],
   "source": [
    "psfield_file = '../../celeste_net/sdss_stage_dir/2583/2/136/psField-002583-2-0136.fit'\n",
    "init_psf_params = psf_transform_lib.get_psf_params(\n",
    "                                    psfield_file,\n",
    "                                    bands = bands).to(device)\n",
    "power_law_psf = psf_transform_lib.PowerLawPSF(init_psf_params.to(device))\n",
    "psf_og = power_law_psf.forward().detach()\n"
   ]
  },
  {
   "cell_type": "code",
   "execution_count": null,
   "metadata": {},
   "outputs": [],
   "source": [
    "init_background_params = torch.zeros(len(bands), 3).to(device)\n",
    "init_background_params[:, 0] = torch.Tensor([686., 1123.])\n",
    "planar_background = wake_lib.PlanarBackground(image_slen = full_image.shape[-1],\n",
    "                            init_background_params = init_background_params.to(device))\n",
    "background = planar_background.forward().detach()\n"
   ]
  },
  {
   "cell_type": "code",
   "execution_count": null,
   "metadata": {},
   "outputs": [],
   "source": []
  },
  {
   "cell_type": "markdown",
   "metadata": {},
   "source": [
    "# define VAE"
   ]
  },
  {
   "cell_type": "code",
   "execution_count": null,
   "metadata": {},
   "outputs": [],
   "source": [
    "star_encoder = starnet_lib.StarEncoder(slen = full_image.shape[-1],\n",
    "                                           patch_slen = 8,\n",
    "                                           step = 2,\n",
    "                                           edge_padding = 3,\n",
    "                                           n_bands = len(bands),\n",
    "                                           max_detections = 2, \n",
    "                                          estimate_flux = True)"
   ]
  },
  {
   "cell_type": "code",
   "execution_count": null,
   "metadata": {},
   "outputs": [],
   "source": []
  },
  {
   "cell_type": "markdown",
   "metadata": {},
   "source": [
    "# Examine encoder losses"
   ]
  },
  {
   "cell_type": "code",
   "execution_count": null,
   "metadata": {},
   "outputs": [],
   "source": [
    "init_encoder = '../fits/results_2020-02-27/starnet_ri'"
   ]
  },
  {
   "cell_type": "code",
   "execution_count": null,
   "metadata": {},
   "outputs": [],
   "source": [
    "outfolder = '../fits/results_2020-02-27/'"
   ]
  },
  {
   "cell_type": "code",
   "execution_count": null,
   "metadata": {},
   "outputs": [],
   "source": [
    "n_iter = 6"
   ]
  },
  {
   "cell_type": "code",
   "execution_count": null,
   "metadata": {},
   "outputs": [],
   "source": [
    "losses = []\n",
    "for i in range(0, n_iter + 1): \n",
    "    print(i)\n",
    "    losses_iter = np.loadtxt(outfolder + 'wake-sleep-encoder-iter' + str(i) + '-test_losses')[0]\n",
    "    losses = np.concatenate((losses, losses_iter))\n",
    "    \n",
    "plt.plot(losses, '-x')\n",
    "\n",
    "for i in range(4): \n",
    "    plt.vlines(x = i * 11, ymin = losses.min(), ymax = losses.max(), \n",
    "              color = 'r', linestyle = ':')"
   ]
  },
  {
   "cell_type": "code",
   "execution_count": null,
   "metadata": {},
   "outputs": [],
   "source": [
    "losses = []\n",
    "for i in range(0, n_iter): \n",
    "    print(i)\n",
    "    losses_iter = np.loadtxt(outfolder + 'iter' + str(i) + '-wake_losses')\n",
    "    losses = np.concatenate((losses, losses_iter))\n",
    "        \n",
    "plt.plot(losses, '-x')\n",
    "\n",
    "for i in range(n_iter): \n",
    "    plt.vlines(x = i * 5, ymin = losses.min(), ymax = losses.max(), \n",
    "              color = 'r', linestyle = ':')"
   ]
  },
  {
   "cell_type": "code",
   "execution_count": null,
   "metadata": {},
   "outputs": [],
   "source": []
  },
  {
   "cell_type": "markdown",
   "metadata": {},
   "source": [
    "# Check psf/background -- with true star parameters"
   ]
  },
  {
   "cell_type": "code",
   "execution_count": null,
   "metadata": {},
   "outputs": [],
   "source": [
    "band = 1"
   ]
  },
  {
   "cell_type": "code",
   "execution_count": null,
   "metadata": {
    "code_folding": []
   },
   "outputs": [],
   "source": [
    "psf_loss_vec = np.zeros(n_iter + 1)\n",
    "\n",
    "for i in range(n_iter + 1): \n",
    "    if i > 0: \n",
    "        powerlaw_psf_params = \\\n",
    "            torch.Tensor(np.load(outfolder + 'iter' + str(i - 1) +\\\n",
    "                                    '-powerlaw_psf_params.npy')).to(device)\n",
    "        \n",
    "        planar_background_params = \\\n",
    "            torch.Tensor(np.load(outfolder + 'iter' + str(i - 1) +\\\n",
    "                                    '-planarback_params.npy')).to(device)\n",
    "    else: \n",
    "        powerlaw_psf_params = init_psf_params\n",
    "        planar_background_params = None\n",
    "        \n",
    "    \n",
    "    model_params = wake_lib.ModelParams(full_image,\n",
    "                                powerlaw_psf_params,\n",
    "                                planar_background_params)\n",
    "    \n",
    "    recon_mean, psf_loss_vec[i] = model_params.get_loss(use_cached_stars = False, \n",
    "                                                       locs = true_locs,\n",
    "                                                        fluxes = true_fluxes, \n",
    "                                                        n_stars = true_nstars)\n",
    "    recon_mean = recon_mean.detach()\n",
    "    psf_trained = model_params.get_psf().detach()\n",
    "    \n",
    "    fig, axarr = plt.subplots(1, 2, figsize=(15, 4))\n",
    "\n",
    "    residual = (torch.log10(recon_mean[0, band]) - torch.log10(full_image[0, band]))[5:95, 5:95] * 2.5\n",
    "    vmax = residual.abs().max()\n",
    "    im0 = axarr[0].matshow(residual, vmin = -vmax, vmax = vmax, cmap=plt.get_cmap('bwr'))\n",
    "    fig.colorbar(im0, ax = axarr[0])\n",
    "    \n",
    "    foo = (psf_trained- psf_og)[band, 40:60, 40:60]\n",
    "    im1 = axarr[1].matshow(foo, vmax = foo.abs().max(), vmin = -foo.abs().max(), \n",
    "                           cmap = plt.get_cmap('bwr'))\n",
    "    fig.colorbar(im1, ax = axarr[1])\n",
    "    axarr[1].set_title('iter = {}'.format(i - 1))"
   ]
  },
  {
   "cell_type": "code",
   "execution_count": null,
   "metadata": {},
   "outputs": [],
   "source": [
    "plt.plot(psf_loss_vec, '-x')"
   ]
  },
  {
   "cell_type": "code",
   "execution_count": null,
   "metadata": {},
   "outputs": [],
   "source": [
    "for i in range(n_iter + 1): \n",
    "    if i > 0: \n",
    "        powerlaw_psf_params = \\\n",
    "            torch.Tensor(np.load(outfolder + 'iter' + str(i - 1) +\\\n",
    "                                    '-powerlaw_psf_params.npy')).to(device)\n",
    "        \n",
    "        planar_background_params = \\\n",
    "            torch.Tensor(np.load(outfolder + 'iter' + str(i - 1) +\\\n",
    "                                    '-planarback_params.npy')).to(device)\n",
    "    else: \n",
    "        powerlaw_psf_params = init_psf_params\n",
    "        planar_background_params = None\n",
    "        \n",
    "    \n",
    "    model_params = wake_lib.ModelParams(full_image,\n",
    "                                powerlaw_psf_params,\n",
    "                                planar_background_params)\n",
    "    \n",
    "    print(model_params.planar_background.params)\n",
    "    \n",
    "    old_back = model_params.get_background()\n"
   ]
  },
  {
   "cell_type": "code",
   "execution_count": null,
   "metadata": {},
   "outputs": [],
   "source": [
    "model_params = wake_lib.ModelParams(full_image,\n",
    "                                init_psf_params,\n",
    "                                None)"
   ]
  },
  {
   "cell_type": "code",
   "execution_count": null,
   "metadata": {},
   "outputs": [],
   "source": [
    "np.load('../data/fitted_planar_backgrounds.npy')"
   ]
  },
  {
   "cell_type": "code",
   "execution_count": null,
   "metadata": {},
   "outputs": [],
   "source": [
    "model_params.planar_background.params"
   ]
  },
  {
   "cell_type": "markdown",
   "metadata": {},
   "source": [
    "# Check out summary statistics"
   ]
  },
  {
   "cell_type": "code",
   "execution_count": null,
   "metadata": {},
   "outputs": [],
   "source": [
    "n_elect_per_nmgy = sdss_hubble_data.nelec_per_nmgy.mean()"
   ]
  },
  {
   "cell_type": "code",
   "execution_count": null,
   "metadata": {},
   "outputs": [],
   "source": [
    "tpr_all = np.zeros(n_iter + 2)\n",
    "ppv_all = np.zeros(n_iter + 2)\n",
    "\n",
    "fig, axarr = plt.subplots(1, 2, figsize=(15, 4))\n",
    "\n",
    "\n",
    "for i in range(-1, n_iter + 1):     \n",
    "    if i == -1:\n",
    "        encoder_file = init_encoder\n",
    "    else: \n",
    "        encoder_file = outfolder + 'wake-sleep-encoder-iter' + str(i)\n",
    "\n",
    "        \n",
    "    star_encoder.load_state_dict(torch.load(encoder_file, \n",
    "                                   map_location=lambda storage, loc: storage))\n",
    "    star_encoder.eval(); \n",
    "    \n",
    "    # get parameters\n",
    "    map_locs_full_image, map_fluxes_full_image, map_n_stars_full = \\\n",
    "        star_encoder.sample_star_encoder(full_image, \n",
    "                                        return_map_n_stars = True, \n",
    "                                        return_map_star_params = True)[0:3]\n",
    "    print(map_n_stars_full)\n",
    "    \n",
    "    \n",
    "    # get summary statistics \n",
    "    tpr, ppv, _, _ = \\\n",
    "        image_statistics_lib.get_summary_stats(map_locs_full_image.squeeze(), \n",
    "                                               true_locs.squeeze(), \n",
    "                                               star_encoder.slen, \n",
    "                                               map_fluxes_full_image.squeeze(0)[:, 0], \n",
    "                                               true_fluxes.squeeze(0)[:, 0], \n",
    "                                              n_elect_per_nmgy)\n",
    "    \n",
    "    tpr_all[i+1] = tpr\n",
    "    ppv_all[i+1] = ppv\n",
    "    \n",
    "    \n",
    "    # get tpr as a function of magnitude  \n",
    "    tpr_vec, mag_vec = \\\n",
    "        image_statistics_lib.get_tpr_vec(map_locs_full_image.squeeze(), \n",
    "                                               true_locs.squeeze(), \n",
    "                                               star_encoder.slen, \n",
    "                                               map_fluxes_full_image.squeeze(0)[:, 0], \n",
    "                                               true_fluxes.squeeze(0)[:, 0], \n",
    "                                              n_elect_per_nmgy)[0:2]\n",
    "\n",
    "\n",
    "    axarr[0].plot(mag_vec[:-1], tpr_vec, '--x', label = 'starnet_iter' + str(i))\n",
    "        \n",
    "    ppv_vec, mag_vec = \\\n",
    "        image_statistics_lib.get_ppv_vec(map_locs_full_image.squeeze(), \n",
    "                                               true_locs.squeeze(), \n",
    "                                               star_encoder.slen, \n",
    "                                               map_fluxes_full_image.squeeze(0)[:, 0], \n",
    "                                               true_fluxes.squeeze(0)[:, 0], \n",
    "                                              n_elect_per_nmgy)[0:2]\n",
    "\n",
    "    axarr[1].plot(mag_vec[0:-1], ppv_vec, '--x', label = 'starnet_iter' + str(i))\n",
    "    \n",
    "axarr[0].legend()\n",
    "axarr[0].set_xlabel('true mag')\n",
    "axarr[0].set_ylabel('tpr')\n",
    "\n",
    "axarr[1].legend()\n",
    "axarr[1].set_xlabel('estimated mag')\n",
    "axarr[1].set_ylabel('ppv')"
   ]
  },
  {
   "cell_type": "code",
   "execution_count": null,
   "metadata": {},
   "outputs": [],
   "source": [
    "ppv_all"
   ]
  },
  {
   "cell_type": "code",
   "execution_count": null,
   "metadata": {},
   "outputs": [],
   "source": [
    "tpr_all"
   ]
  },
  {
   "cell_type": "code",
   "execution_count": null,
   "metadata": {},
   "outputs": [],
   "source": [
    "f1_score = 2 * ppv_all * tpr_all / (ppv_all + tpr_all)\n",
    "f1_score"
   ]
  },
  {
   "cell_type": "code",
   "execution_count": null,
   "metadata": {},
   "outputs": [],
   "source": []
  },
  {
   "cell_type": "markdown",
   "metadata": {},
   "source": [
    "# PSF loss on inferred parameters"
   ]
  },
  {
   "cell_type": "code",
   "execution_count": null,
   "metadata": {},
   "outputs": [],
   "source": [
    "band = 0"
   ]
  },
  {
   "cell_type": "code",
   "execution_count": null,
   "metadata": {},
   "outputs": [],
   "source": [
    "init_encoder"
   ]
  },
  {
   "cell_type": "code",
   "execution_count": null,
   "metadata": {},
   "outputs": [],
   "source": [
    "wake_losses = torch.zeros(n_iter)\n",
    "for i in range(0, n_iter):     \n",
    "    encoder_file = outfolder + 'wake-sleep-encoder-iter' + str(i)\n",
    "        \n",
    "    powerlaw_psf_params = \\\n",
    "        torch.Tensor(np.load(outfolder + 'iter' + str(i) +\\\n",
    "                                '-powerlaw_psf_params.npy')).to(device)\n",
    "        \n",
    "    planar_background_params = \\\n",
    "        torch.Tensor(np.load(outfolder + 'iter' + str(i) +\\\n",
    "                                '-planarback_params.npy')).to(device)\n",
    "\n",
    "        \n",
    "    star_encoder.load_state_dict(torch.load(encoder_file, \n",
    "                                   map_location=lambda storage, loc: storage))\n",
    "    star_encoder.eval(); \n",
    "    \n",
    "    # get parameters\n",
    "    map_locs_full_image, map_fluxes_full_image, map_n_stars_full = \\\n",
    "        star_encoder.sample_star_encoder(full_image, \n",
    "                                        full_background,\n",
    "                                        return_map_n_stars = True, \n",
    "                                        return_map_star_params = True)[0:3]\n",
    "    \n",
    "    # get reconstruction\n",
    "    model_params = wake_lib.ModelParams(full_image,\n",
    "                                powerlaw_psf_params,\n",
    "                                planar_background_params)\n",
    "    \n",
    "    recon_mean, wake_losses[i] = model_params.get_loss(use_cached_stars = False, \n",
    "                                                       locs = map_locs_full_image,\n",
    "                                                        fluxes = map_fluxes_full_image, \n",
    "                                                        n_stars = map_n_stars_full)\n",
    "    \n",
    "    residual = (torch.log10(recon_mean[0, band].detach()) - torch.log10(full_image[0, band]))[5:95, 5:95] * 2.5\n",
    "    vmax = residual.abs().max()\n",
    "    plt.matshow(residual, vmin = -vmax, vmax = vmax, cmap=plt.get_cmap('bwr'))\n",
    "    plt.colorbar()\n",
    "    "
   ]
  },
  {
   "cell_type": "code",
   "execution_count": null,
   "metadata": {},
   "outputs": [],
   "source": [
    "np.load('../fits/results_2020-02-18/map_losses.npy') "
   ]
  },
  {
   "cell_type": "code",
   "execution_count": null,
   "metadata": {},
   "outputs": [],
   "source": [
    "wake_losses.detach().numpy()"
   ]
  },
  {
   "cell_type": "code",
   "execution_count": null,
   "metadata": {},
   "outputs": [],
   "source": [
    "map_locs_full_image, map_fluxes_full_image, map_n_stars_full = \\\n",
    "        star_encoder.sample_star_encoder(full_image, \n",
    "                                        full_background,\n",
    "                                        return_map_n_stars = False, \n",
    "                                        return_map_star_params = False, \n",
    "                                        n_samples = 5)[0:3]"
   ]
  },
  {
   "cell_type": "code",
   "execution_count": null,
   "metadata": {},
   "outputs": [],
   "source": [
    "model_params = wake_lib.ModelParams(full_image,\n",
    "                                powerlaw_psf_params,\n",
    "                                planar_background_params)\n",
    "    \n",
    "recon_mean, loss = model_params.get_loss(use_cached_stars = False, \n",
    "                                                   locs = map_locs_full_image.detach(),\n",
    "                                                    fluxes = map_fluxes_full_image.detach(), \n",
    "                                                    n_stars = map_n_stars_full.detach())"
   ]
  },
  {
   "cell_type": "code",
   "execution_count": null,
   "metadata": {},
   "outputs": [],
   "source": [
    "residual = (torch.log10(recon_mean[0, band].detach()) - torch.log10(full_image[0, band]))[5:95, 5:95] * 2.5\n",
    "vmax = residual.abs().max()\n",
    "plt.matshow(residual, vmin = -vmax, vmax = vmax, cmap=plt.get_cmap('bwr'))\n",
    "plt.colorbar()\n"
   ]
  },
  {
   "cell_type": "code",
   "execution_count": null,
   "metadata": {},
   "outputs": [],
   "source": [
    "model_params.planar_background.params.grad"
   ]
  },
  {
   "cell_type": "code",
   "execution_count": null,
   "metadata": {},
   "outputs": [],
   "source": [
    "loss.mean().backward()"
   ]
  },
  {
   "cell_type": "code",
   "execution_count": null,
   "metadata": {},
   "outputs": [],
   "source": [
    "model_params.planar_background.params.grad"
   ]
  },
  {
   "cell_type": "code",
   "execution_count": null,
   "metadata": {},
   "outputs": [],
   "source": [
    "loss"
   ]
  },
  {
   "cell_type": "code",
   "execution_count": null,
   "metadata": {},
   "outputs": [],
   "source": [
    "model_params.power_law_psf.params.grad"
   ]
  },
  {
   "cell_type": "code",
   "execution_count": null,
   "metadata": {},
   "outputs": [],
   "source": []
  },
  {
   "cell_type": "code",
   "execution_count": null,
   "metadata": {},
   "outputs": [],
   "source": [
    "np.load('../data/fitted_planar_backgrounds.npy')"
   ]
  },
  {
   "cell_type": "code",
   "execution_count": null,
   "metadata": {},
   "outputs": [],
   "source": []
  }
 ],
 "metadata": {
  "kernelspec": {
   "display_name": "pytorch_update",
   "language": "python",
   "name": "pytorch_update"
  },
  "language_info": {
   "codemirror_mode": {
    "name": "ipython",
    "version": 3
   },
   "file_extension": ".py",
   "mimetype": "text/x-python",
   "name": "python",
   "nbconvert_exporter": "python",
   "pygments_lexer": "ipython3",
   "version": "3.6.8"
  }
 },
 "nbformat": 4,
 "nbformat_minor": 2
}

{
 "cells": [
  {
   "cell_type": "code",
   "execution_count": null,
   "metadata": {},
   "outputs": [],
   "source": [
    "import numpy as np\n",
    "import torch\n",
    "\n",
    "import json\n",
    "\n",
    "import matplotlib.pyplot as plt\n",
    "\n",
    "import sys\n",
    "sys.path.insert(0, '../')\n",
    "import simulated_datasets_lib\n",
    "import sdss_dataset_lib\n",
    "import sdss_psf\n",
    "import image_utils \n",
    "\n",
    "import starnet_vae_lib\n",
    "import inv_kl_objective_lib as inv_kl_lib\n",
    "import kl_objective_lib as kl_lib\n",
    "import plotting_utils\n",
    "import wake_sleep_lib\n",
    "\n",
    "import psf_transform_lib\n",
    "import image_statistics_lib\n",
    "\n",
    "np.random.seed(34534)\n",
    "\n",
    "device = torch.device(\"cuda:0\" if torch.cuda.is_available() else \"cpu\")"
   ]
  },
  {
   "cell_type": "markdown",
   "metadata": {},
   "source": [
    "# Load the data"
   ]
  },
  {
   "cell_type": "code",
   "execution_count": null,
   "metadata": {},
   "outputs": [],
   "source": [
    "sdss_hubble_data = sdss_dataset_lib.SDSSHubbleData(x0 = 650, x1 = 120)\n",
    "\n",
    "# psf file \n",
    "psf_fit_file = str(sdss_hubble_data.psf_file)\n",
    "\n",
    "# image \n",
    "full_image = sdss_hubble_data.sdss_image.squeeze()\n",
    "full_background = sdss_hubble_data.sdss_background.squeeze()\n",
    "\n",
    "# true parameters\n",
    "which_bright = (sdss_hubble_data.fluxes > 1000.)\n",
    "true_locs = sdss_hubble_data.locs[which_bright]\n",
    "true_fluxes = sdss_hubble_data.fluxes[which_bright]\n"
   ]
  },
  {
   "cell_type": "code",
   "execution_count": null,
   "metadata": {},
   "outputs": [],
   "source": [
    "plt.matshow(full_image.squeeze())\n",
    "plt.colorbar()\n",
    "\n",
    "# plt.scatter(true_locs[:, 1] * 100, \n",
    "#            true_locs[:, 0] * 100)"
   ]
  },
  {
   "cell_type": "markdown",
   "metadata": {},
   "source": [
    "# Our simulator"
   ]
  },
  {
   "cell_type": "code",
   "execution_count": null,
   "metadata": {},
   "outputs": [],
   "source": [
    "from copy import deepcopy\n",
    "psf_og = sdss_psf.psf_at_points(0, 0, psf_fit_file = str(sdss_hubble_data.psf_file))\n",
    "\n",
    "psf_init = torch.Tensor(simulated_datasets_lib._expand_psf(psf_og, full_image.shape[-1]))\n",
    "\n",
    "psf_init.shape"
   ]
  },
  {
   "cell_type": "markdown",
   "metadata": {},
   "source": [
    "# define VAE"
   ]
  },
  {
   "cell_type": "code",
   "execution_count": null,
   "metadata": {},
   "outputs": [],
   "source": [
    "star_encoder = starnet_vae_lib.StarEncoder(full_slen = full_image.shape[-1],\n",
    "                                           stamp_slen = 9,\n",
    "                                           step = 2,\n",
    "                                           edge_padding = 3,\n",
    "                                           n_bands = 1,\n",
    "                                           max_detections = 2)"
   ]
  },
  {
   "cell_type": "markdown",
   "metadata": {},
   "source": [
    "# load vae"
   ]
  },
  {
   "cell_type": "code",
   "execution_count": null,
   "metadata": {},
   "outputs": [],
   "source": [
    "star_encoder.load_state_dict(torch.load('../fits/starnet-10162019-reweighted', \n",
    "                                       map_location=lambda storage, loc: storage))\n",
    "star_encoder.eval(); "
   ]
  },
  {
   "cell_type": "code",
   "execution_count": null,
   "metadata": {},
   "outputs": [],
   "source": []
  },
  {
   "cell_type": "code",
   "execution_count": null,
   "metadata": {},
   "outputs": [],
   "source": []
  },
  {
   "cell_type": "markdown",
   "metadata": {},
   "source": [
    "# Check out map estimates"
   ]
  },
  {
   "cell_type": "code",
   "execution_count": null,
   "metadata": {},
   "outputs": [],
   "source": [
    "map_locs_full_image, map_fluxes_full_image, map_n_stars_full, _, _, _ = \\\n",
    "    star_encoder.sample_star_encoder(full_image.unsqueeze(0).unsqueeze(0), \n",
    "                                       full_background.unsqueeze(0).unsqueeze(0),\n",
    "                                       n_samples = 1, return_map = True)"
   ]
  },
  {
   "cell_type": "code",
   "execution_count": null,
   "metadata": {},
   "outputs": [],
   "source": [
    "map_recon_mean = simulated_datasets_lib.plot_multiple_stars(full_image.shape[-1], \n",
    "                                                         map_locs_full_image, \n",
    "                                                         map_n_stars_full, \n",
    "                                                         map_fluxes_full_image, psf_init) + \\\n",
    "                                            full_background.unsqueeze(0).unsqueeze(0)"
   ]
  },
  {
   "cell_type": "code",
   "execution_count": null,
   "metadata": {},
   "outputs": [],
   "source": []
  },
  {
   "cell_type": "code",
   "execution_count": null,
   "metadata": {},
   "outputs": [],
   "source": [
    "map_resid = map_recon_mean.squeeze().detach() - full_image"
   ]
  },
  {
   "cell_type": "code",
   "execution_count": null,
   "metadata": {},
   "outputs": [],
   "source": [
    "fig, axarr = plt.subplots(1, 3, figsize=(15, 6))\n",
    "\n",
    "axarr[0].matshow(full_image.squeeze())\n",
    "\n",
    "axarr[1].matshow(map_recon_mean.squeeze().detach())\n",
    "\n",
    "_resid = map_resid / full_image\n",
    "vmax = _resid.abs().max()\n",
    "im2 = axarr[2].matshow(_resid, vmax = vmax, vmin = -vmax, \n",
    "                       cmap=plt.get_cmap('bwr'))\n",
    "fig.colorbar(im2, ax=axarr[2])\n"
   ]
  },
  {
   "cell_type": "code",
   "execution_count": null,
   "metadata": {},
   "outputs": [],
   "source": []
  },
  {
   "cell_type": "code",
   "execution_count": null,
   "metadata": {},
   "outputs": [],
   "source": []
  },
  {
   "cell_type": "markdown",
   "metadata": {},
   "source": [
    "# check sampling of variational parameters"
   ]
  },
  {
   "cell_type": "code",
   "execution_count": null,
   "metadata": {},
   "outputs": [],
   "source": [
    "n_samples = 10"
   ]
  },
  {
   "cell_type": "code",
   "execution_count": null,
   "metadata": {},
   "outputs": [],
   "source": [
    "sampled_locs_full_image, sampled_fluxes_full_image, sampled_n_stars_full, _, _, _ = \\\n",
    "    star_encoder.sample_star_encoder(full_image.unsqueeze(0).unsqueeze(0), \n",
    "                                       full_background.unsqueeze(0).unsqueeze(0),\n",
    "                                       n_samples = n_samples, return_map = False)"
   ]
  },
  {
   "cell_type": "code",
   "execution_count": null,
   "metadata": {},
   "outputs": [],
   "source": [
    "sampled_n_stars_full"
   ]
  },
  {
   "cell_type": "code",
   "execution_count": null,
   "metadata": {},
   "outputs": [],
   "source": [
    "recon_means = simulated_datasets_lib.plot_multiple_stars(full_image.shape[-1], \n",
    "                                                         sampled_locs_full_image, \n",
    "                                                         sampled_n_stars_full, \n",
    "                                                         sampled_fluxes_full_image, psf_init) + \\\n",
    "                                            full_background.unsqueeze(0).unsqueeze(0)"
   ]
  },
  {
   "cell_type": "code",
   "execution_count": null,
   "metadata": {},
   "outputs": [],
   "source": []
  },
  {
   "cell_type": "code",
   "execution_count": null,
   "metadata": {},
   "outputs": [],
   "source": [
    "fig, axarr = plt.subplots(1, 3, figsize=(15, 6))\n",
    "\n",
    "axarr[0].matshow(full_image.squeeze())\n",
    "\n",
    "axarr[1].matshow(map_recon_mean.squeeze().detach())\n",
    "axarr[1].set_title('map reconstruction')\n",
    "\n",
    "_resid = (map_recon_mean.squeeze().detach() - full_image.squeeze())\n",
    "vmax = _resid.abs().max()\n",
    "im2 = axarr[2].matshow(_resid, vmax = vmax, vmin = -vmax, \n",
    "                       cmap=plt.get_cmap('bwr'))\n",
    "fig.colorbar(im2, ax=axarr[2])\n",
    "axarr[2].set_title('map residual')\n",
    "\n",
    "for i in range(n_samples): \n",
    "    fig, axarr = plt.subplots(1, 3, figsize=(15, 6))\n",
    "\n",
    "    axarr[0].matshow(full_image.squeeze())\n",
    "    axarr[0].set_title('observed')\n",
    "\n",
    "    axarr[1].matshow(recon_means[i].squeeze().detach())\n",
    "    axarr[1].set_title('sample reconstruction '+ str(i))\n",
    "\n",
    "\n",
    "    _resid = recon_means[i].squeeze().detach() - full_image.squeeze()\n",
    "    vmax = _resid.abs().max()\n",
    "    im2 = axarr[2].matshow(_resid, vmax = vmax, vmin = -vmax, \n",
    "                           cmap=plt.get_cmap('bwr'))\n",
    "    fig.colorbar(im2, ax=axarr[2])\n",
    "    axarr[2].set_title('sample residual ' + str(i))\n",
    "\n"
   ]
  },
  {
   "cell_type": "code",
   "execution_count": null,
   "metadata": {},
   "outputs": [],
   "source": []
  },
  {
   "cell_type": "code",
   "execution_count": null,
   "metadata": {},
   "outputs": [],
   "source": []
  },
  {
   "cell_type": "code",
   "execution_count": null,
   "metadata": {},
   "outputs": [],
   "source": []
  },
  {
   "cell_type": "code",
   "execution_count": null,
   "metadata": {},
   "outputs": [],
   "source": [
    "x0 = 30\n",
    "x1 = 50\n",
    "subimage_slen = 10\n",
    "\n",
    "fig, axarr = plt.subplots(1, 3, figsize=(15, 6))\n",
    "\n",
    "plotting_utils.plot_subimage(axarr[0], full_image.squeeze(), \n",
    "                            map_locs_full_image.squeeze(), \n",
    "                            true_locs.squeeze(), \n",
    "                            x0, x1, subimage_slen, \n",
    "                            add_colorbar = True, \n",
    "                            global_fig = fig)\n",
    "axarr[0].set_title('observed')\n",
    "\n",
    "plotting_utils.plot_subimage(axarr[1], map_recon_mean.squeeze(), \n",
    "                            map_locs_full_image.squeeze(), \n",
    "                            None, \n",
    "                            x0, x1, subimage_slen, \n",
    "                            add_colorbar = True, \n",
    "                            global_fig = fig)\n",
    "axarr[1].set_title('map reconstruction')\n",
    "\n",
    "_resid = (map_recon_mean.squeeze().detach() - full_image.squeeze())\n",
    "plotting_utils.plot_subimage(axarr[2], _resid.squeeze(), \n",
    "                            map_locs_full_image.squeeze(), \n",
    "                            None, \n",
    "                            x0, x1, subimage_slen, \n",
    "                            add_colorbar = True, \n",
    "                            global_fig = fig, \n",
    "                            diverging_cmap = True)\n",
    "axarr[1].set_title('map residual')\n",
    "\n",
    "for i in range(n_samples): \n",
    "    fig, axarr = plt.subplots(1, 3, figsize=(15, 6))\n",
    "\n",
    "    plotting_utils.plot_subimage(axarr[0], full_image.squeeze(), \n",
    "                                sampled_locs_full_image[i].squeeze(), \n",
    "                                true_locs.squeeze(), \n",
    "                                x0, x1, subimage_slen, \n",
    "                                add_colorbar = True, \n",
    "                                global_fig = fig)\n",
    "    axarr[0].set_title('observed')\n",
    "\n",
    "    plotting_utils.plot_subimage(axarr[1], recon_means[i].squeeze().detach(), \n",
    "                                sampled_locs_full_image[i].squeeze(), \n",
    "                                None, \n",
    "                                x0, x1, subimage_slen, \n",
    "                                add_colorbar = True, \n",
    "                                global_fig = fig)\n",
    "    axarr[1].set_title('sampled reconstruction')\n",
    "\n",
    "    _resid = (recon_means[i].squeeze().detach() - full_image.squeeze())\n",
    "    plotting_utils.plot_subimage(axarr[2], _resid.squeeze(), \n",
    "                                sampled_locs_full_image[i].squeeze(), \n",
    "                                None, \n",
    "                                x0, x1, subimage_slen, \n",
    "                                add_colorbar = True, \n",
    "                                global_fig = fig, \n",
    "                                diverging_cmap = True)\n",
    "    axarr[1].set_title('sampled residual')\n",
    "\n"
   ]
  },
  {
   "cell_type": "code",
   "execution_count": null,
   "metadata": {},
   "outputs": [],
   "source": [
    "fig, axarr = plt.subplots(1, 3, figsize=(15, 6))\n",
    "\n",
    "axarr[0].matshow(full_image.squeeze()[40:60, 40:60])\n",
    "axarr[0].set_title('observed')\n",
    "\n",
    "axarr[1].matshow(map_recon_mean.squeeze().detach()[40:60, 40:60])\n",
    "axarr[1].set_title('map reconstruction')\n",
    "\n",
    "_resid = (map_recon_mean.squeeze().detach() - full_image.squeeze())[40:60, 40:60]\n",
    "vmax = _resid.abs().max()\n",
    "im2 = axarr[2].matshow(_resid, vmax = vmax, vmin = -vmax, \n",
    "                       cmap=plt.get_cmap('bwr'))\n",
    "fig.colorbar(im2, ax=axarr[2])\n",
    "axarr[2].set_title('map residual')\n",
    "\n",
    "\n",
    "for i in range(n_samples): \n",
    "    fig, axarr = plt.subplots(1, 3, figsize=(15, 6))\n",
    "\n",
    "    axarr[0].matshow(full_image.squeeze()[40:60, 40:60])\n",
    "    axarr[0].set_title('observed')\n",
    "\n",
    "    axarr[1].matshow(recon_means[i].squeeze().detach()[40:60, 40:60])\n",
    "\n",
    "    _resid = (recon_means[i].squeeze().detach() - full_image.squeeze())[40:60, 40:60]\n",
    "    vmax = _resid.abs().max()\n",
    "    im2 = axarr[2].matshow(_resid, vmax = vmax, vmin = -vmax, \n",
    "                           cmap=plt.get_cmap('bwr'))\n",
    "    fig.colorbar(im2, ax=axarr[2])\n"
   ]
  },
  {
   "cell_type": "code",
   "execution_count": null,
   "metadata": {},
   "outputs": [],
   "source": []
  },
  {
   "cell_type": "code",
   "execution_count": null,
   "metadata": {},
   "outputs": [],
   "source": []
  },
  {
   "cell_type": "code",
   "execution_count": null,
   "metadata": {},
   "outputs": [],
   "source": []
  },
  {
   "cell_type": "code",
   "execution_count": null,
   "metadata": {},
   "outputs": [],
   "source": []
  },
  {
   "cell_type": "code",
   "execution_count": null,
   "metadata": {},
   "outputs": [],
   "source": []
  }
 ],
 "metadata": {
  "kernelspec": {
   "display_name": "Python (pytorch_04)",
   "language": "python",
   "name": "pytorch_update"
  },
  "language_info": {
   "codemirror_mode": {
    "name": "ipython",
    "version": 3
   },
   "file_extension": ".py",
   "mimetype": "text/x-python",
   "name": "python",
   "nbconvert_exporter": "python",
   "pygments_lexer": "ipython3",
   "version": "3.6.8"
  }
 },
 "nbformat": 4,
 "nbformat_minor": 2
}

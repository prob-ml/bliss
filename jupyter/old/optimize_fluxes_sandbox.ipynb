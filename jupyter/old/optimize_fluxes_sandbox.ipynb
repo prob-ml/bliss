{
 "cells": [
  {
   "cell_type": "code",
   "execution_count": null,
   "metadata": {},
   "outputs": [],
   "source": [
    "import numpy as np\n",
    "import timeit\n",
    "\n",
    "import matplotlib.pyplot as plt\n",
    "\n",
    "import torch\n",
    "import torch.optim as optim\n",
    "\n",
    "import fitsio \n",
    "\n",
    "import sys\n",
    "sys.path.insert(0, './../')\n",
    "import sdss_psf\n",
    "import simulated_datasets_lib\n",
    "import starnet_vae_lib\n",
    "import sdss_dataset_lib\n",
    "import plotting_utils\n",
    "import image_statistics_lib\n",
    "import utils\n",
    "\n",
    "import inv_kl_objective_lib as inv_kl_lib\n",
    "\n",
    "import image_utils\n",
    "\n",
    "import time\n",
    "\n",
    "import json\n",
    "\n",
    "device = torch.device(\"cuda:0\" if torch.cuda.is_available() else \"cpu\")\n",
    "\n",
    "print('torch version: ', torch.__version__)\n",
    "\n",
    "from copy import deepcopy\n",
    "\n",
    "import flux_utils"
   ]
  },
  {
   "cell_type": "code",
   "execution_count": null,
   "metadata": {},
   "outputs": [],
   "source": [
    "np.random.seed(453453)\n",
    "_ = torch.manual_seed(456456)"
   ]
  },
  {
   "cell_type": "markdown",
   "metadata": {},
   "source": [
    "# Load data"
   ]
  },
  {
   "cell_type": "code",
   "execution_count": null,
   "metadata": {},
   "outputs": [],
   "source": [
    "# data parameters\n",
    "with open('../data/default_star_parameters.json', 'r') as fp:\n",
    "    data_params = json.load(fp)"
   ]
  },
  {
   "cell_type": "code",
   "execution_count": null,
   "metadata": {},
   "outputs": [],
   "source": [
    "data_params['max_stars'] = 1300"
   ]
  },
  {
   "cell_type": "code",
   "execution_count": null,
   "metadata": {},
   "outputs": [],
   "source": []
  },
  {
   "cell_type": "code",
   "execution_count": null,
   "metadata": {},
   "outputs": [],
   "source": [
    "psf_dir = '../data/'\n",
    "psf_r = fitsio.FITS(psf_dir + 'sdss-002583-2-0136-psf-r.fits')[0].read()\n",
    "psf_i = fitsio.FITS(psf_dir + 'sdss-002583-2-0136-psf-i.fits')[0].read()\n",
    "\n",
    "psf_og = torch.Tensor(np.array([psf_r, psf_i]))\n",
    "\n",
    "n_bands = psf_og.shape[0]\n",
    "\n",
    "background = torch.zeros(n_bands, data_params['slen'], data_params['slen']) * \\\n",
    "                    torch.Tensor([854., 1345.])[:, None, None]\n"
   ]
  },
  {
   "cell_type": "code",
   "execution_count": null,
   "metadata": {},
   "outputs": [],
   "source": [
    "# Draw from the same distribution I used int the sleep phase\n",
    "n_images = 4\n",
    "\n",
    "simulated_dataset = \\\n",
    "    simulated_datasets_lib.load_dataset_from_params(psf_og,\n",
    "                    data_params,\n",
    "                    background = background,\n",
    "                    n_images = n_images,\n",
    "                    transpose_psf = False, \n",
    "                    add_noise = True)\n",
    "\n",
    "images_full = simulated_dataset.images.detach()\n",
    "backgrounds_full = simulated_dataset.background.detach()\n",
    "\n",
    "true_n_stars = simulated_dataset.n_stars\n",
    "true_full_locs = simulated_dataset.locs\n",
    "true_full_fluxes = simulated_dataset.fluxes\n",
    "        \n",
    "simulator = simulated_dataset.simulator"
   ]
  },
  {
   "cell_type": "code",
   "execution_count": null,
   "metadata": {},
   "outputs": [],
   "source": []
  },
  {
   "cell_type": "markdown",
   "metadata": {},
   "source": [
    "# define optimizer"
   ]
  },
  {
   "cell_type": "code",
   "execution_count": null,
   "metadata": {},
   "outputs": [],
   "source": [
    "psf_og.shape"
   ]
  },
  {
   "cell_type": "code",
   "execution_count": null,
   "metadata": {},
   "outputs": [],
   "source": [
    "flux_estimator = flux_utils.EstimateFluxes(images_full, true_full_locs, true_n_stars,\n",
    "                               simulator.psf, background.unsqueeze(0), pad = 5,\n",
    "                                fmin = data_params['f_min'],\n",
    "                                init_fluxes = None)"
   ]
  },
  {
   "cell_type": "code",
   "execution_count": null,
   "metadata": {},
   "outputs": [],
   "source": []
  },
  {
   "cell_type": "markdown",
   "metadata": {},
   "source": [
    "## Check out initialization"
   ]
  },
  {
   "cell_type": "code",
   "execution_count": null,
   "metadata": {},
   "outputs": [],
   "source": [
    "init_recon = flux_estimator.forward().detach()"
   ]
  },
  {
   "cell_type": "code",
   "execution_count": null,
   "metadata": {},
   "outputs": [],
   "source": [
    "band = 0"
   ]
  },
  {
   "cell_type": "code",
   "execution_count": null,
   "metadata": {},
   "outputs": [],
   "source": [
    "for i in range(images_full.shape[0]): \n",
    "    f, axarr = plt.subplots(1, 3, figsize=(16, 6))\n",
    "\n",
    "    im0 = axarr[0].matshow(images_full[i, band]); \n",
    "    f.colorbar(im0, ax = axarr[0])\n",
    "    axarr[0].set_title('true sdss image')\n",
    "\n",
    "    im1 = axarr[1].matshow(init_recon[i, band]); \n",
    "    f.colorbar(im1, ax = axarr[1])\n",
    "    axarr[1].set_title('simulated sdss image')\n",
    "\n",
    "\n",
    "    residual = torch.log10(images_full[i, band]) - torch.log10(init_recon[i, band])\n",
    "    vmax = residual[10:90, 10:90].abs().max()\n",
    "    im2 = axarr[2].matshow(residual[10:90, 10:90], vmax = vmax, vmin = -vmax, cmap=plt.get_cmap('bwr')); \n",
    "    f.colorbar(im2, ax = axarr[2])\n",
    "    axarr[2].set_title('residual')"
   ]
  },
  {
   "cell_type": "code",
   "execution_count": null,
   "metadata": {},
   "outputs": [],
   "source": [
    "plt.hist(torch.log10(true_full_fluxes[:, :, 0].flatten()[true_full_fluxes[:, :, 0].flatten() > 0]), \n",
    "        bins = 100);\n",
    "plt.hist(torch.log10(flux_estimator.return_fluxes()[:, :, 0].flatten()[\\\n",
    "                                    true_full_fluxes[:, :, 0].flatten() > 0]), alpha = 0.5, bins = 100);"
   ]
  },
  {
   "cell_type": "code",
   "execution_count": null,
   "metadata": {},
   "outputs": [],
   "source": []
  },
  {
   "cell_type": "markdown",
   "metadata": {},
   "source": [
    "# Optimize"
   ]
  },
  {
   "cell_type": "code",
   "execution_count": null,
   "metadata": {},
   "outputs": [],
   "source": [
    "flux_estimator.optimize(print_every = True)"
   ]
  },
  {
   "cell_type": "code",
   "execution_count": null,
   "metadata": {},
   "outputs": [],
   "source": [
    "print(flux_estimator.get_loss())"
   ]
  },
  {
   "cell_type": "code",
   "execution_count": null,
   "metadata": {},
   "outputs": [],
   "source": [
    "recon = flux_estimator.forward().detach()\n",
    "\n",
    "for i in range(images_full.shape[0]): \n",
    "    f, axarr = plt.subplots(1, 3, figsize=(16, 6))\n",
    "\n",
    "    im0 = axarr[0].matshow(images_full[i, band]); \n",
    "    f.colorbar(im0, ax = axarr[0])\n",
    "    axarr[0].set_title('true sdss image')\n",
    "\n",
    "    im1 = axarr[1].matshow(recon[i, band]); \n",
    "    f.colorbar(im1, ax = axarr[1])\n",
    "    axarr[1].set_title('simulated sdss image')\n",
    "\n",
    "\n",
    "    residual = torch.log10(images_full[i, band]) - torch.log10(recon[i, band])\n",
    "    vmax = residual[10:90, 10:90].abs().max()\n",
    "    im2 = axarr[2].matshow(residual[10:90, 10:90], vmax = vmax, vmin = -vmax, cmap=plt.get_cmap('bwr')); \n",
    "    f.colorbar(im2, ax = axarr[2])\n",
    "    axarr[2].set_title('residual')"
   ]
  },
  {
   "cell_type": "code",
   "execution_count": null,
   "metadata": {},
   "outputs": [],
   "source": []
  },
  {
   "cell_type": "code",
   "execution_count": null,
   "metadata": {},
   "outputs": [],
   "source": [
    "plt.hist(torch.log10(true_full_fluxes[:, :, 0].flatten()[true_full_fluxes[:, :, 0].flatten() > 0]), \n",
    "        bins = 100);\n",
    "\n",
    "plt.hist(torch.log10(flux_estimator.return_fluxes()[:, :, 0].flatten()[\\\n",
    "                                    true_full_fluxes[:, :, 0].flatten() > 0]), \n",
    "               bins = 100, alpha = 0.5);\n",
    "\n"
   ]
  },
  {
   "cell_type": "code",
   "execution_count": null,
   "metadata": {},
   "outputs": [],
   "source": []
  },
  {
   "cell_type": "code",
   "execution_count": null,
   "metadata": {},
   "outputs": [],
   "source": []
  }
 ],
 "metadata": {
  "kernelspec": {
   "display_name": "pytorch_update",
   "language": "python",
   "name": "pytorch_update"
  },
  "language_info": {
   "codemirror_mode": {
    "name": "ipython",
    "version": 3
   },
   "file_extension": ".py",
   "mimetype": "text/x-python",
   "name": "python",
   "nbconvert_exporter": "python",
   "pygments_lexer": "ipython3",
   "version": "3.6.8"
  }
 },
 "nbformat": 4,
 "nbformat_minor": 2
}

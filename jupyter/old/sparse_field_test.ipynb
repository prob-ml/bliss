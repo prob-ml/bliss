{
 "cells": [
  {
   "cell_type": "code",
   "execution_count": null,
   "metadata": {},
   "outputs": [],
   "source": [
    "import numpy as np\n",
    "import torch\n",
    "\n",
    "import json\n",
    "\n",
    "import matplotlib.pyplot as plt\n",
    "\n",
    "import sys\n",
    "sys.path.insert(0, '../')\n",
    "import simulated_datasets_lib\n",
    "import sdss_dataset_lib\n",
    "import sdss_psf\n",
    "import image_utils \n",
    "\n",
    "import starnet_vae_lib\n",
    "import inv_kl_objective_lib as inv_kl_lib\n",
    "import plotting_utils\n",
    "import wake_sleep_lib\n",
    "\n",
    "import psf_transform_lib\n",
    "import image_statistics_lib\n",
    "\n",
    "np.random.seed(34534)"
   ]
  },
  {
   "cell_type": "code",
   "execution_count": null,
   "metadata": {},
   "outputs": [],
   "source": []
  },
  {
   "cell_type": "code",
   "execution_count": null,
   "metadata": {},
   "outputs": [],
   "source": []
  },
  {
   "cell_type": "markdown",
   "metadata": {},
   "source": [
    "# Load the data"
   ]
  },
  {
   "cell_type": "code",
   "execution_count": null,
   "metadata": {},
   "outputs": [],
   "source": [
    "f_min = 1000."
   ]
  },
  {
   "cell_type": "code",
   "execution_count": null,
   "metadata": {},
   "outputs": [],
   "source": [
    "bands = [2]\n",
    "run = 94\n",
    "camcol = 1\n",
    "field = 12"
   ]
  },
  {
   "cell_type": "code",
   "execution_count": null,
   "metadata": {},
   "outputs": [],
   "source": [
    "sdss_data = sdss_dataset_lib.SloanDigitalSkySurvey(sdssdir = '../../celeste_net/sdss_stage_dir/', \n",
    "                                      run = run, camcol = camcol, field = field)"
   ]
  },
  {
   "cell_type": "code",
   "execution_count": null,
   "metadata": {},
   "outputs": [],
   "source": [
    "x0 = 400\n",
    "x1 = 300\n",
    "slen = 101"
   ]
  },
  {
   "cell_type": "code",
   "execution_count": null,
   "metadata": {},
   "outputs": [],
   "source": [
    "image = torch.Tensor(sdss_data[0]['image'][0, x0:(x0 + slen), x1:(x1 + slen)])"
   ]
  },
  {
   "cell_type": "code",
   "execution_count": null,
   "metadata": {},
   "outputs": [],
   "source": [
    "background = torch.Tensor(sdss_data[0]['background'][0, x0:(x0 + slen), x1:(x1 + slen)])"
   ]
  },
  {
   "cell_type": "code",
   "execution_count": null,
   "metadata": {},
   "outputs": [],
   "source": [
    "plt.matshow(image)\n",
    "plt.colorbar()"
   ]
  },
  {
   "cell_type": "code",
   "execution_count": null,
   "metadata": {},
   "outputs": [],
   "source": []
  },
  {
   "cell_type": "code",
   "execution_count": null,
   "metadata": {},
   "outputs": [],
   "source": []
  },
  {
   "cell_type": "markdown",
   "metadata": {},
   "source": [
    "# define VAEs"
   ]
  },
  {
   "cell_type": "code",
   "execution_count": null,
   "metadata": {},
   "outputs": [],
   "source": [
    "star_encoder1 = starnet_vae_lib.StarEncoder(full_slen = image.shape[-1],\n",
    "                                           stamp_slen = 7,\n",
    "                                           step = 2,\n",
    "                                           edge_padding = 2,\n",
    "                                           n_bands = len(bands),\n",
    "                                           max_detections = 2)"
   ]
  },
  {
   "cell_type": "code",
   "execution_count": null,
   "metadata": {},
   "outputs": [],
   "source": [
    "star_encoder1.load_state_dict(torch.load('../fits/results_11202019/starnet_r', \n",
    "                                       map_location=lambda storage, loc: storage))"
   ]
  },
  {
   "cell_type": "code",
   "execution_count": null,
   "metadata": {},
   "outputs": [],
   "source": [
    "star_encoder1.eval();"
   ]
  },
  {
   "cell_type": "code",
   "execution_count": null,
   "metadata": {},
   "outputs": [],
   "source": [
    "star_encoder2 = starnet_vae_lib.StarEncoder(full_slen = image.shape[-1],\n",
    "                                           stamp_slen = 7,\n",
    "                                           step = 2,\n",
    "                                           edge_padding = 2,\n",
    "                                           n_bands = len(bands),\n",
    "                                           max_detections = 2)"
   ]
  },
  {
   "cell_type": "code",
   "execution_count": null,
   "metadata": {},
   "outputs": [],
   "source": [
    "star_encoder2.load_state_dict(torch.load('../fits/results_11202019/wake-sleep_630x310_r-encoder-iter6', \n",
    "                                       map_location=lambda storage, loc: storage))"
   ]
  },
  {
   "cell_type": "code",
   "execution_count": null,
   "metadata": {},
   "outputs": [],
   "source": [
    "star_encoder2.eval();"
   ]
  },
  {
   "cell_type": "code",
   "execution_count": null,
   "metadata": {},
   "outputs": [],
   "source": []
  },
  {
   "cell_type": "code",
   "execution_count": null,
   "metadata": {},
   "outputs": [],
   "source": [
    "map_locs, map_fluxes, map_nstars = \\\n",
    "    star_encoder2.sample_star_encoder(image.unsqueeze(0).unsqueeze(0), \n",
    "                                 background.unsqueeze(0).unsqueeze(0), \n",
    "                                 return_map = True)[0:3]"
   ]
  },
  {
   "cell_type": "code",
   "execution_count": null,
   "metadata": {},
   "outputs": [],
   "source": [
    "plt.matshow(image)\n",
    "plt.scatter(map_locs.squeeze()[:, 1] * slen, \n",
    "            map_locs.squeeze()[:, 0] * slen, \n",
    "            color = 'r', marker = 'x')"
   ]
  },
  {
   "cell_type": "code",
   "execution_count": null,
   "metadata": {},
   "outputs": [],
   "source": [
    "fig, axarr = plt.subplots(2, 2, figsize=(8, 6.5))\n",
    "\n",
    "for i in range(4): \n",
    "    _x0 = int(np.random.choice(slen, 1))\n",
    "    _x1 = int(np.random.choice(slen, 1))\n",
    "    subimage_slen = 50\n",
    "    \n",
    "    plotting_utils.plot_subimage(axarr[i // 2, i % 2], image, \n",
    "                                         map_locs.squeeze(), \n",
    "                                         None, \n",
    "                                         _x0, \n",
    "                                         _x1, subimage_slen = 10, \n",
    "                                        add_colorbar = True, \n",
    "                                         global_fig = fig)"
   ]
  },
  {
   "cell_type": "code",
   "execution_count": null,
   "metadata": {},
   "outputs": [],
   "source": [
    "import fitsio"
   ]
  },
  {
   "cell_type": "code",
   "execution_count": null,
   "metadata": {},
   "outputs": [],
   "source": [
    "photo_name = \"photoObj-{:06d}-{:d}-{:04d}.fits\".format(run, camcol, field)"
   ]
  },
  {
   "cell_type": "code",
   "execution_count": null,
   "metadata": {},
   "outputs": [],
   "source": [
    "use_truth = True"
   ]
  },
  {
   "cell_type": "code",
   "execution_count": null,
   "metadata": {
    "code_folding": []
   },
   "outputs": [],
   "source": [
    "if use_truth: \n",
    "    fits_file = fitsio.FITS('coadd_field_catalog_runjing_liu_0.fit')[1]\n",
    "    ra = fits_file['ra'][:]\n",
    "    decl = fits_file['dec'][:]\n",
    "    \n",
    "    flux_r = fits_file['psfmag_r'][:]\n",
    "    flux_i = fits_file['psfmag_i'][:]\n",
    "    \n",
    "    which_stars = np.argwhere((fits_file['probpsf'][:] == 1) & (flux_r < 22.5)).squeeze()\n",
    "    which_galx = np.argwhere(fits_file['probpsf'][:] == 0).squeeze()\n",
    "        \n",
    "else: \n",
    "    fits_file = fitsio.FITS('../../celeste_net/sdss_stage_dir/' + \n",
    "                            str(run) + '/' + str(camcol) + '/' + str(field) + \n",
    "                            '/' + photo_name)[1]\n",
    "    \n",
    "    ra = fits_file['RA'][:]\n",
    "    decl = fits_file['DEC'][:]\n",
    "    \n",
    "    # see https://www.sdss.org/dr12/algorithms/classify/\n",
    "    which_stars = np.argwhere(fits_file['OBJC_TYPE'][:] == 6).squeeze()\n",
    "    which_galx = np.argwhere(fits_file['OBJC_TYPE'][:] == 3).squeeze()"
   ]
  },
  {
   "cell_type": "code",
   "execution_count": null,
   "metadata": {},
   "outputs": [],
   "source": [
    "(ra.max(), ra.min())"
   ]
  },
  {
   "cell_type": "code",
   "execution_count": null,
   "metadata": {},
   "outputs": [],
   "source": [
    "(decl.max(), decl.min())"
   ]
  },
  {
   "cell_type": "code",
   "execution_count": null,
   "metadata": {},
   "outputs": [],
   "source": [
    "from astropy.io import fits\n",
    "from astropy.wcs import WCS"
   ]
  },
  {
   "cell_type": "code",
   "execution_count": null,
   "metadata": {},
   "outputs": [],
   "source": [
    "frame_name = \"frame-{}-{:06d}-{:d}-{:04d}.fits\".format('r', run, camcol, field)"
   ]
  },
  {
   "cell_type": "code",
   "execution_count": null,
   "metadata": {},
   "outputs": [],
   "source": [
    "hdulist = fits.open('../../celeste_net/sdss_stage_dir/' + str(run) + '/' + str(camcol) + '/' + str(field) + \\\n",
    "                        '/' + frame_name)\n",
    "wcs = WCS(hdulist['primary'].header)"
   ]
  },
  {
   "cell_type": "code",
   "execution_count": null,
   "metadata": {},
   "outputs": [],
   "source": []
  },
  {
   "cell_type": "code",
   "execution_count": null,
   "metadata": {},
   "outputs": [],
   "source": [
    "pix_coordinates = wcs.wcs_world2pix(ra, decl, 0, ra_dec_order = True)"
   ]
  },
  {
   "cell_type": "code",
   "execution_count": null,
   "metadata": {},
   "outputs": [],
   "source": [
    "_x0 = pix_coordinates[1]\n",
    "_x1 = pix_coordinates[0]\n",
    "\n",
    "def get_locs(_x0, _x1): \n",
    "    which_locs = (_x0 > x0) & (_x0 < (x0 + slen - 1)) & \\\n",
    "                (_x1 > x1) & (_x1 < (x1 + slen - 1))\n",
    "\n",
    "    _x0 = _x0[which_locs] - x0\n",
    "    _x1 = _x1[which_locs] - x1\n",
    "\n",
    "    return torch.Tensor([_x0, _x1]).transpose(0, 1) / (slen - 1)\n",
    "\n",
    "star_locs = get_locs(_x0[which_stars], _x1[which_stars])\n",
    "galaxy_locs = get_locs(_x0[which_galx], _x1[which_galx])"
   ]
  },
  {
   "cell_type": "code",
   "execution_count": null,
   "metadata": {},
   "outputs": [],
   "source": [
    "save_fig = True"
   ]
  },
  {
   "cell_type": "code",
   "execution_count": null,
   "metadata": {},
   "outputs": [],
   "source": [
    "fig, axarr = plt.subplots(1, 1, figsize=(6, 5))\n",
    "\n",
    "im = axarr.matshow(image)\n",
    "fig.colorbar(im);\n",
    "\n",
    "\n",
    "\n",
    "axarr.scatter(map_locs.squeeze()[:, 1] * slen, \n",
    "            map_locs.squeeze()[:, 0] * slen, \n",
    "            color = 'r', marker = 'x')\n",
    "\n",
    "\n",
    "axarr.scatter(star_locs[:, 1] * slen, \n",
    "            star_locs[:, 0] * slen, \n",
    "            color = 'w', marker = 'o', alpha = 0.9)\n",
    "\n",
    "axarr.scatter(galaxy_locs[:, 1] * slen, \n",
    "            galaxy_locs[:, 0] * slen, \n",
    "            color = 'g', marker = 'x')\n",
    "\n",
    "fig.tight_layout()\n",
    "\n",
    "\n",
    "if save_fig: \n",
    "    plt.savefig('../../qualifying_exam_slides/figures/sparse_field_test.png')"
   ]
  },
  {
   "cell_type": "code",
   "execution_count": null,
   "metadata": {},
   "outputs": [],
   "source": [
    "fig, axarr = plt.subplots(1, 1, figsize=(4, 5 * .75))\n",
    "\n",
    "_x0 = 15 #  int(np.random.choice(slen, 1))\n",
    "_x1 = 33 # int(np.random.choice(slen, 1))\n",
    "subimage_slen = 10\n",
    "    \n",
    "plotting_utils.plot_subimage(axarr, image, \n",
    "                                     map_locs.squeeze(), \n",
    "                                     None, \n",
    "                                     _x0, \n",
    "                                     _x1, subimage_slen = subimage_slen, \n",
    "                                    add_colorbar = True, \n",
    "                                     global_fig = fig)\n",
    "\n",
    "fig.tight_layout()\n",
    "if save_fig: \n",
    "    plt.savefig('../../qualifying_exam_slides/figures/sparse_field_test_zoomed.png')"
   ]
  },
  {
   "cell_type": "code",
   "execution_count": null,
   "metadata": {},
   "outputs": [],
   "source": [
    "psf_sparse = sdss_psf.psf_at_points(0, 0, '../../celeste_net/sdss_stage_dir/94/1/12/psField-000094-1-0012.fit')\n",
    "psf_crowded = sdss_psf.psf_at_points(0, 0, '../../celeste_net/sdss_stage_dir/2583/2/136/psField-002583-2-0136.fit')\n",
    "\n",
    "fig, axarr = plt.subplots(1, 2, figsize=(8, 4))\n",
    "\n",
    "axarr[0].matshow(psf_sparse[20:31, 20:31])\n",
    "axarr[0].set_title('PSF in sparse field (94, 1, 12)\\n')\n",
    "\n",
    "axarr[1].matshow(psf_crowded[20:31, 20:31])\n",
    "axarr[1].set_title('PSF in crowded field (2583, 2, 136)\\n')\n",
    "\n",
    "fig.tight_layout()\n",
    "\n",
    "if save_fig: \n",
    "    plt.savefig('../../qualifying_exam_slides/figures/sparse_field_test_psfs.png')"
   ]
  },
  {
   "cell_type": "code",
   "execution_count": null,
   "metadata": {},
   "outputs": [],
   "source": []
  },
  {
   "cell_type": "code",
   "execution_count": null,
   "metadata": {},
   "outputs": [],
   "source": []
  },
  {
   "cell_type": "code",
   "execution_count": null,
   "metadata": {},
   "outputs": [],
   "source": [
    "fig, axarr = plt.subplots(1, 3, figsize=(24, 6))\n",
    "\n",
    "_x0 = 40 #  int(np.random.choice(slen, 1))\n",
    "_x1 = 50 # int(np.random.choice(slen, 1))\n",
    "subimage_slen = 10\n",
    "    \n",
    "plotting_utils.plot_subimage(axarr[0], image, \n",
    "                                     map_locs.squeeze(), \n",
    "                                     star_locs, \n",
    "                                     _x0, \n",
    "                                     _x1, subimage_slen = subimage_slen, \n",
    "                                    add_colorbar = True, \n",
    "                                     global_fig = fig)\n",
    "\n",
    "\n",
    "plotting_utils.plot_subimage(axarr[1], image, \n",
    "                                     map_locs.squeeze(), \n",
    "                                     galaxy_locs, \n",
    "                                     _x0, \n",
    "                                     _x1, subimage_slen = subimage_slen, \n",
    "                                    add_colorbar = True, \n",
    "                                     global_fig = fig)\n"
   ]
  },
  {
   "cell_type": "code",
   "execution_count": null,
   "metadata": {},
   "outputs": [],
   "source": [
    "fig, axarr = plt.subplots(1, 3, figsize=(24, 6))\n",
    "\n",
    "_x0 = 15 #  int(np.random.choice(slen, 1))\n",
    "_x1 = 33 # int(np.random.choice(slen, 1))\n",
    "subimage_slen = 10\n",
    "    \n",
    "plotting_utils.plot_subimage(axarr[0], image, \n",
    "                                     map_locs.squeeze(), \n",
    "                                     star_locs, \n",
    "                                     _x0, \n",
    "                                     _x1, subimage_slen = subimage_slen, \n",
    "                                    add_colorbar = True, \n",
    "                                     global_fig = fig)\n",
    "\n",
    "\n",
    "plotting_utils.plot_subimage(axarr[1], image, \n",
    "                                     map_locs.squeeze(), \n",
    "                                     galaxy_locs, \n",
    "                                     _x0, \n",
    "                                     _x1, subimage_slen = subimage_slen, \n",
    "                                    add_colorbar = True, \n",
    "                                     global_fig = fig)\n",
    "\n"
   ]
  },
  {
   "cell_type": "code",
   "execution_count": null,
   "metadata": {},
   "outputs": [],
   "source": []
  },
  {
   "cell_type": "code",
   "execution_count": null,
   "metadata": {},
   "outputs": [],
   "source": []
  },
  {
   "cell_type": "code",
   "execution_count": null,
   "metadata": {},
   "outputs": [],
   "source": []
  },
  {
   "cell_type": "code",
   "execution_count": null,
   "metadata": {},
   "outputs": [],
   "source": [
    "psf = sdss_psf.psf_at_points(0, 0, '../../celeste_net/sdss_stage_dir/94/1/12/psField-000094-1-0012.fit')"
   ]
  },
  {
   "cell_type": "code",
   "execution_count": null,
   "metadata": {},
   "outputs": [],
   "source": [
    "plt.matshow(psf)"
   ]
  },
  {
   "cell_type": "code",
   "execution_count": null,
   "metadata": {},
   "outputs": [],
   "source": []
  },
  {
   "cell_type": "markdown",
   "metadata": {},
   "source": [
    "# why dont we do the PSF EDA on this sparse field?"
   ]
  },
  {
   "cell_type": "code",
   "execution_count": null,
   "metadata": {},
   "outputs": [],
   "source": [
    "sdss_image = torch.Tensor(sdss_data[0]['image'])"
   ]
  },
  {
   "cell_type": "code",
   "execution_count": null,
   "metadata": {},
   "outputs": [],
   "source": [
    "pix_coordinates = wcs.wcs_world2pix(ra, decl, 0, ra_dec_order = True)"
   ]
  },
  {
   "cell_type": "code",
   "execution_count": null,
   "metadata": {},
   "outputs": [],
   "source": [
    "star_locs0 = pix_coordinates[1][which_stars] / sdss_image.shape[1]\n",
    "star_locs1 = pix_coordinates[0][which_stars] / sdss_image.shape[2]\n",
    "\n",
    "which_keep = (star_locs0 > 0) & (star_locs0 < 1) & (star_locs1 > 0) & (star_locs1 < 1)\n",
    "\n",
    "star_locs = torch.Tensor(np.array([star_locs0, star_locs1]).transpose()[which_keep])\n",
    "\n",
    "flux_r = flux_r[torch.nonzero(torch.Tensor(which_keep)).squeeze()]\n",
    "flux_i = flux_i[torch.nonzero(torch.Tensor(which_keep)).squeeze()]"
   ]
  },
  {
   "cell_type": "code",
   "execution_count": null,
   "metadata": {},
   "outputs": [],
   "source": []
  },
  {
   "cell_type": "code",
   "execution_count": null,
   "metadata": {},
   "outputs": [],
   "source": [
    "plt.matshow(sdss_image[0])\n",
    "plt.scatter(star_locs[:, 1] * sdss_image.shape[2], \n",
    "            star_locs[:, 0] * sdss_image.shape[1])"
   ]
  },
  {
   "cell_type": "code",
   "execution_count": null,
   "metadata": {},
   "outputs": [],
   "source": []
  },
  {
   "cell_type": "code",
   "execution_count": null,
   "metadata": {},
   "outputs": [],
   "source": [
    "def get_star_patches(full_image, true_locs, which_stars, subimage_slen):\n",
    "    \n",
    "    assert len(full_image.shape) == 4\n",
    "    assert (true_locs >= 0).all() & (true_locs <= 1).all()\n",
    "    \n",
    "    slen0 = full_image.shape[-2]\n",
    "    slen1 = full_image.shape[-1]\n",
    "    \n",
    "    which_locs = true_locs[which_stars]\n",
    "    \n",
    "    star_patches = torch.zeros(which_locs.shape[0], subimage_slen, subimage_slen)\n",
    "    patch_coords = torch.zeros(which_locs.shape[0], 2)\n",
    "    \n",
    "    is_blended = torch.zeros(which_locs.shape[0])\n",
    "    \n",
    "    for i in range(which_stars.shape[0]):\n",
    "        loc_i = which_locs[i] * torch.Tensor([slen0 - 1., slen1 - 1.])\n",
    "\n",
    "        which_pix = loc_i.round().type(torch.long)\n",
    "\n",
    "        x0 = int(which_pix[0] - (subimage_slen - 1) / 2)\n",
    "        x1 = int(which_pix[1] - (subimage_slen - 1) / 2)\n",
    "        \n",
    "        assert x0 > 0\n",
    "        assert x1 > 0\n",
    "        assert (x0 + subimage_slen) < slen0\n",
    "        assert (x1 + subimage_slen) < slen1\n",
    "        \n",
    "        star_patches[i] = full_image[0, 0, x0:(x0 + subimage_slen), x1:(x1 + subimage_slen)]\n",
    "        patch_coords[i] = torch.Tensor([x0, x1])\n",
    "        \n",
    "        if (star_patches[i, int((subimage_slen - 1) / 2), \n",
    "                            int((subimage_slen - 1) / 2)]) < star_patches[i].max(): \n",
    "            is_blended[i] = 1\n",
    "        \n",
    "        \n",
    "    return star_patches, patch_coords, is_blended"
   ]
  },
  {
   "cell_type": "markdown",
   "metadata": {},
   "source": [
    "### Brighter fatter effect"
   ]
  },
  {
   "cell_type": "code",
   "execution_count": null,
   "metadata": {},
   "outputs": [],
   "source": [
    "plt.hist(flux_r)"
   ]
  },
  {
   "cell_type": "code",
   "execution_count": null,
   "metadata": {},
   "outputs": [],
   "source": [
    "thresh = np.median(flux_r)"
   ]
  },
  {
   "cell_type": "code",
   "execution_count": null,
   "metadata": {},
   "outputs": [],
   "source": [
    "thresh"
   ]
  },
  {
   "cell_type": "code",
   "execution_count": null,
   "metadata": {},
   "outputs": [],
   "source": [
    "which_stars = torch.nonzero((flux_r.squeeze() > thresh) & \n",
    "                           (star_locs[:, 0] < 0.95) & (star_locs[:, 1] < 0.95) & \n",
    "                           (star_locs[:, 0] > 0.05) & (star_locs[:, 1] > 0.05)).squeeze()\n",
    "\n",
    "\n",
    "print(len(which_stars))\n",
    "\n",
    "subimage_slen = 9\n",
    "\n",
    "star_patches, patch_coords, is_blended = \\\n",
    "    get_star_patches(sdss_image.unsqueeze(0), star_locs, which_stars, subimage_slen)\n",
    "\n",
    "star_patches = star_patches[is_blended == 0]\n",
    "    \n",
    "# normalize\n",
    "star_patches_normalized = \\\n",
    "    star_patches / star_patches.view(star_patches.shape[0], -1).sum(1).unsqueeze(-1).unsqueeze(-1)\n",
    "\n",
    "plt.matshow(star_patches_normalized.mean(0))\n",
    "plt.colorbar()"
   ]
  },
  {
   "cell_type": "code",
   "execution_count": null,
   "metadata": {},
   "outputs": [],
   "source": []
  },
  {
   "cell_type": "code",
   "execution_count": null,
   "metadata": {},
   "outputs": [],
   "source": [
    "which_stars = torch.nonzero((flux_r.squeeze() < thresh) & \n",
    "                           (star_locs[:, 0] < 0.95) & (star_locs[:, 1] < 0.95) & \n",
    "                           (star_locs[:, 0] > 0.05) & (star_locs[:, 1] > 0.05)).squeeze()\n",
    "\n",
    "\n",
    "print(len(which_stars))\n",
    "\n",
    "subimage_slen = 9\n",
    "\n",
    "star_patches, patch_coords, is_blended = \\\n",
    "    get_star_patches(sdss_image.unsqueeze(0), star_locs, which_stars, subimage_slen)\n",
    "\n",
    "star_patches = star_patches[is_blended == 0]\n",
    "    \n",
    "# normalize\n",
    "star_patches_normalized2 = \\\n",
    "    star_patches / star_patches.view(star_patches.shape[0], -1).sum(1).unsqueeze(-1).unsqueeze(-1)\n",
    "\n",
    "plt.matshow(star_patches_normalized2.mean(0))\n",
    "plt.colorbar()"
   ]
  },
  {
   "cell_type": "code",
   "execution_count": null,
   "metadata": {},
   "outputs": [],
   "source": [
    "star_patches_normalized.mean()"
   ]
  },
  {
   "cell_type": "code",
   "execution_count": null,
   "metadata": {},
   "outputs": [],
   "source": [
    "star_patches_normalized2.mean()"
   ]
  },
  {
   "cell_type": "code",
   "execution_count": null,
   "metadata": {},
   "outputs": [],
   "source": [
    "# figure for paper\n",
    "fig, axarr = plt.subplots(1, 3, figsize=(15, 4))\n",
    "\n",
    "# vmax = max(star_patches_normalized.mean(0).max(), star_patches_normalized2.mean(0).max())\n",
    "# vmin = min(star_patches_normalized.mean(0).min(), star_patches_normalized2.mean(0).min())\n",
    "\n",
    "im0 = axarr[0].matshow(star_patches_normalized.mean(0))\n",
    "fig.colorbar(im0, ax = axarr[0])\n",
    "axarr[0].set_title('\\nOverlayed Stars with mag > 21.1', fontsize = 16)\n",
    "\n",
    "im1 = axarr[1].matshow(star_patches_normalized2.mean(0))\n",
    "fig.colorbar(im1, ax = axarr[1])\n",
    "axarr[1].set_title('\\nOverlayed Stars with mag <  21.1', fontsize = 16)\n",
    "\n",
    "diff = star_patches_normalized2.mean(0) - star_patches_normalized.mean(0)\n",
    "im2 = axarr[2].matshow(diff, vmax = diff.abs().max(), vmin = -diff.abs().max(), \n",
    "                       cmap = plt.get_cmap('bwr'))\n",
    "fig.colorbar(im2, ax = axarr[2])\n",
    "axarr[2].set_title('\\nDifference', fontsize = 16)\n",
    "\n",
    "for i in range(3): \n",
    "    axarr[i].set_xticks([])\n",
    "    axarr[i].set_yticks([])\n",
    "\n",
    "fig.tight_layout()\n",
    "fig.savefig('../../qualifying_exam_slides/figures/psf_by_mag.png')"
   ]
  },
  {
   "cell_type": "code",
   "execution_count": null,
   "metadata": {},
   "outputs": [],
   "source": [
    "diff.sum()"
   ]
  },
  {
   "cell_type": "code",
   "execution_count": null,
   "metadata": {},
   "outputs": [],
   "source": []
  },
  {
   "cell_type": "markdown",
   "metadata": {},
   "source": [
    "### The effect of color"
   ]
  },
  {
   "cell_type": "code",
   "execution_count": null,
   "metadata": {},
   "outputs": [],
   "source": [
    "plt.hist(flux_r - flux_i)"
   ]
  },
  {
   "cell_type": "code",
   "execution_count": null,
   "metadata": {},
   "outputs": [],
   "source": [
    "plt.plot(flux_r.numpy(), \n",
    "         (flux_r - flux_i).numpy(), 'x')"
   ]
  },
  {
   "cell_type": "code",
   "execution_count": null,
   "metadata": {},
   "outputs": [],
   "source": [
    "thresh = np.median(flux_r - flux_i)"
   ]
  },
  {
   "cell_type": "code",
   "execution_count": null,
   "metadata": {},
   "outputs": [],
   "source": [
    "thresh"
   ]
  },
  {
   "cell_type": "code",
   "execution_count": null,
   "metadata": {},
   "outputs": [],
   "source": [
    "which_stars = torch.nonzero(((flux_r - flux_i).squeeze() > thresh) & \n",
    "                           (star_locs[:, 0] < 0.95) & (star_locs[:, 1] < 0.95) & \n",
    "                           (star_locs[:, 0] > 0.05) & (star_locs[:, 1] > 0.05)).squeeze()\n",
    "\n",
    "\n",
    "print(len(which_stars))\n",
    "\n",
    "subimage_slen = 9\n",
    "\n",
    "star_patches, patch_coords, is_blended = \\\n",
    "    get_star_patches(sdss_image.unsqueeze(0), star_locs, which_stars, subimage_slen)\n",
    "\n",
    "star_patches = star_patches[is_blended == 0]\n",
    "    \n",
    "# normalize\n",
    "star_patches_normalized = \\\n",
    "    star_patches / star_patches.view(star_patches.shape[0], -1).sum(1).unsqueeze(-1).unsqueeze(-1)\n",
    "\n",
    "plt.matshow(star_patches_normalized.mean(0))\n",
    "plt.colorbar()"
   ]
  },
  {
   "cell_type": "code",
   "execution_count": null,
   "metadata": {},
   "outputs": [],
   "source": []
  },
  {
   "cell_type": "code",
   "execution_count": null,
   "metadata": {},
   "outputs": [],
   "source": [
    "which_stars = torch.nonzero(((flux_r - flux_i).squeeze() < thresh) & \n",
    "                           (star_locs[:, 0] < 0.95) & (star_locs[:, 1] < 0.95) & \n",
    "                           (star_locs[:, 0] > 0.05) & (star_locs[:, 1] > 0.05)).squeeze()\n",
    "\n",
    "\n",
    "print(len(which_stars))\n",
    "\n",
    "subimage_slen = 9\n",
    "\n",
    "star_patches, patch_coords, is_blended = \\\n",
    "    get_star_patches(sdss_image.unsqueeze(0), star_locs, which_stars, subimage_slen)\n",
    "\n",
    "star_patches = star_patches[is_blended == 0]\n",
    "    \n",
    "# normalize\n",
    "star_patches_normalized2 = \\\n",
    "    star_patches / star_patches.view(star_patches.shape[0], -1).sum(1).unsqueeze(-1).unsqueeze(-1)\n",
    "\n",
    "plt.matshow(star_patches_normalized2.mean(0))\n",
    "plt.colorbar()"
   ]
  },
  {
   "cell_type": "code",
   "execution_count": null,
   "metadata": {},
   "outputs": [],
   "source": [
    "star_patches_normalized.mean()"
   ]
  },
  {
   "cell_type": "code",
   "execution_count": null,
   "metadata": {},
   "outputs": [],
   "source": [
    "star_patches_normalized2.mean()"
   ]
  },
  {
   "cell_type": "code",
   "execution_count": null,
   "metadata": {},
   "outputs": [],
   "source": [
    "# figure for paper\n",
    "fig, axarr = plt.subplots(1, 3, figsize=(15, 4))\n",
    "\n",
    "# vmax = max(star_patches_normalized.mean(0).max(), star_patches_normalized2.mean(0).max())\n",
    "# vmin = min(star_patches_normalized.mean(0).min(), star_patches_normalized2.mean(0).min())\n",
    "\n",
    "im0 = axarr[0].matshow(star_patches_normalized.mean(0))\n",
    "fig.colorbar(im0, ax = axarr[0])\n",
    "axarr[0].set_title('\\nOverlayed Stars with mag > 21.1', fontsize = 16)\n",
    "\n",
    "im1 = axarr[1].matshow(star_patches_normalized2.mean(0))\n",
    "fig.colorbar(im1, ax = axarr[1])\n",
    "axarr[1].set_title('\\nOverlayed Stars with mag <  21.1', fontsize = 16)\n",
    "\n",
    "diff = star_patches_normalized2.mean(0) - star_patches_normalized.mean(0)\n",
    "im2 = axarr[2].matshow(diff, vmax = diff.abs().max(), vmin = -diff.abs().max(), \n",
    "                       cmap = plt.get_cmap('bwr'))\n",
    "fig.colorbar(im2, ax = axarr[2])\n",
    "axarr[2].set_title('\\nDifference', fontsize = 16)\n",
    "\n",
    "for i in range(3): \n",
    "    axarr[i].set_xticks([])\n",
    "    axarr[i].set_yticks([])\n",
    "\n",
    "fig.tight_layout()\n",
    "# fig.savefig('../../qualifying_exam_slides/figures/psf_by_mag.png')"
   ]
  },
  {
   "cell_type": "code",
   "execution_count": null,
   "metadata": {},
   "outputs": [],
   "source": [
    "diff.sum()"
   ]
  },
  {
   "cell_type": "code",
   "execution_count": null,
   "metadata": {},
   "outputs": [],
   "source": []
  },
  {
   "cell_type": "code",
   "execution_count": null,
   "metadata": {},
   "outputs": [],
   "source": []
  },
  {
   "cell_type": "code",
   "execution_count": null,
   "metadata": {},
   "outputs": [],
   "source": []
  },
  {
   "cell_type": "code",
   "execution_count": null,
   "metadata": {},
   "outputs": [],
   "source": []
  }
 ],
 "metadata": {
  "kernelspec": {
   "display_name": "Python (pytorch_04)",
   "language": "python",
   "name": "pytorch_update"
  },
  "language_info": {
   "codemirror_mode": {
    "name": "ipython",
    "version": 3
   },
   "file_extension": ".py",
   "mimetype": "text/x-python",
   "name": "python",
   "nbconvert_exporter": "python",
   "pygments_lexer": "ipython3",
   "version": "3.6.8"
  }
 },
 "nbformat": 4,
 "nbformat_minor": 2
}

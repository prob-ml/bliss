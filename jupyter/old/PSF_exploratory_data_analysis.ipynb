{
 "cells": [
  {
   "cell_type": "code",
   "execution_count": null,
   "metadata": {},
   "outputs": [],
   "source": [
    "import numpy as np\n",
    "import torch\n",
    "\n",
    "import json\n",
    "\n",
    "import matplotlib.pyplot as plt\n",
    "\n",
    "import sys\n",
    "sys.path.insert(0, '../')\n",
    "import simulated_datasets_lib\n",
    "import sdss_dataset_lib\n",
    "import sdss_psf\n",
    "import image_utils \n",
    "\n",
    "import starnet_lib\n",
    "import inv_kl_objective_lib as inv_kl_lib\n",
    "import plotting_utils\n",
    "import wake_sleep_lib\n",
    "\n",
    "import psf_transform_lib\n",
    "import image_statistics_lib\n",
    "\n",
    "np.random.seed(34534)"
   ]
  },
  {
   "cell_type": "code",
   "execution_count": null,
   "metadata": {},
   "outputs": [],
   "source": [
    "bands = [2]"
   ]
  },
  {
   "cell_type": "code",
   "execution_count": null,
   "metadata": {},
   "outputs": [],
   "source": [
    "sdss_hubble_data = sdss_dataset_lib.SDSSHubbleData(x0 = 600, x1 = 0, slen = 801, \n",
    "                                                   bands = bands, fudge_conversion=1.0)\n",
    "\n",
    "# image \n",
    "full_image = sdss_hubble_data.sdss_image.unsqueeze(0)\n",
    "full_background = sdss_hubble_data.sdss_background.unsqueeze(0) \n",
    "\n",
    "# true parameters\n",
    "true_locs = sdss_hubble_data.locs\n",
    "true_fluxes = sdss_hubble_data.fluxes\n"
   ]
  },
  {
   "cell_type": "code",
   "execution_count": null,
   "metadata": {},
   "outputs": [],
   "source": [
    "slen0 = full_image.shape[2]\n",
    "slen1 = full_image.shape[3]"
   ]
  },
  {
   "cell_type": "code",
   "execution_count": null,
   "metadata": {},
   "outputs": [],
   "source": [
    "plt.matshow(full_image.squeeze())"
   ]
  },
  {
   "cell_type": "code",
   "execution_count": null,
   "metadata": {},
   "outputs": [],
   "source": [
    "plt.hist(sdss_hubble_data.hubble_color.clamp(max = 5.0), bins = 100);"
   ]
  },
  {
   "cell_type": "code",
   "execution_count": null,
   "metadata": {},
   "outputs": [],
   "source": [
    "plt.scatter(torch.log10(sdss_hubble_data.fluxes.squeeze()),\n",
    "           sdss_hubble_data.hubble_color.clamp(max = 10))"
   ]
  },
  {
   "cell_type": "code",
   "execution_count": null,
   "metadata": {},
   "outputs": [],
   "source": [
    "plt.scatter(torch.log10(sdss_hubble_data.fluxes.squeeze())[torch.log10(true_fluxes.squeeze()) > 5.0],\n",
    "           sdss_hubble_data.hubble_color.clamp(max = 10)[torch.log10(true_fluxes.squeeze()) > 5.0])"
   ]
  },
  {
   "cell_type": "code",
   "execution_count": null,
   "metadata": {},
   "outputs": [],
   "source": [
    "plt.hist(sdss_hubble_data.hubble_color.clamp(max = 5.0)[(torch.log10(true_fluxes.squeeze()) > 5.0) & \n",
    "                                                       (torch.log10(true_fluxes.squeeze()) < 6.0)], bins = 100);"
   ]
  },
  {
   "cell_type": "code",
   "execution_count": null,
   "metadata": {},
   "outputs": [],
   "source": []
  },
  {
   "cell_type": "code",
   "execution_count": null,
   "metadata": {},
   "outputs": [],
   "source": [
    "sdss_hubble_data.hubble_color.clamp(max = 5.0)[torch.log10(true_fluxes.squeeze()) > 5.0].median()"
   ]
  },
  {
   "cell_type": "markdown",
   "metadata": {},
   "source": [
    "# Get reconstruction"
   ]
  },
  {
   "cell_type": "code",
   "execution_count": null,
   "metadata": {},
   "outputs": [],
   "source": [
    "import fitsio\n",
    "\n",
    "psf_dir = '../data/'\n",
    "psf_r = fitsio.FITS(psf_dir + 'sdss-002583-2-0136-psf-r.fits')[0].read()\n",
    "\n",
    "psf_og = np.array([psf_r])\n"
   ]
  },
  {
   "cell_type": "code",
   "execution_count": null,
   "metadata": {},
   "outputs": [],
   "source": [
    "truth_recon = torch.Tensor(np.loadtxt('truth_recon')).unsqueeze(0).unsqueeze(0)"
   ]
  },
  {
   "cell_type": "code",
   "execution_count": null,
   "metadata": {},
   "outputs": [],
   "source": [
    "plt.matshow(truth_recon.squeeze())"
   ]
  },
  {
   "cell_type": "code",
   "execution_count": null,
   "metadata": {},
   "outputs": [],
   "source": [
    "residual = (truth_recon - full_image) / full_image"
   ]
  },
  {
   "cell_type": "code",
   "execution_count": null,
   "metadata": {},
   "outputs": [],
   "source": [
    "plt.matshow(residual.squeeze())"
   ]
  },
  {
   "cell_type": "code",
   "execution_count": null,
   "metadata": {},
   "outputs": [],
   "source": []
  },
  {
   "cell_type": "code",
   "execution_count": null,
   "metadata": {},
   "outputs": [],
   "source": [
    "plt.hist(torch.log10(true_fluxes.squeeze()), bins = 100);"
   ]
  },
  {
   "cell_type": "code",
   "execution_count": null,
   "metadata": {},
   "outputs": [],
   "source": [
    "def get_star_patches(full_image, true_locs, which_stars, subimage_slen):\n",
    "    \n",
    "    assert len(full_image.shape) == 4\n",
    "    assert (true_locs >= 0).all() & (true_locs <= 1).all()\n",
    "    \n",
    "    slen0 = full_image.shape[-2]\n",
    "    slen1 = full_image.shape[-1]\n",
    "    \n",
    "    which_locs = true_locs[which_stars]\n",
    "    \n",
    "    star_patches = torch.zeros(which_locs.shape[0], subimage_slen, subimage_slen)\n",
    "    patch_coords = torch.zeros(which_locs.shape[0], 2)\n",
    "    \n",
    "    is_blended = torch.zeros(which_locs.shape[0])\n",
    "    \n",
    "    for i in range(which_stars.shape[0]):\n",
    "        loc_i = which_locs[i] * torch.Tensor([slen0 - 1., slen1 - 1.])\n",
    "\n",
    "        which_pix = loc_i.round().type(torch.long)\n",
    "\n",
    "        x0 = int(which_pix[0] - (subimage_slen - 1) / 2)\n",
    "        x1 = int(which_pix[1] - (subimage_slen - 1) / 2)\n",
    "        \n",
    "        assert x0 > 0\n",
    "        assert x1 > 0\n",
    "        assert (x0 + subimage_slen) < slen0\n",
    "        assert (x1 + subimage_slen) < slen1\n",
    "        \n",
    "        star_patches[i] = full_image[0, 0, x0:(x0 + subimage_slen), x1:(x1 + subimage_slen)]\n",
    "        patch_coords[i] = torch.Tensor([x0, x1])\n",
    "        \n",
    "        if (star_patches[i, int((subimage_slen - 1) / 2), \n",
    "                            int((subimage_slen - 1) / 2)]) < star_patches[i].max(): \n",
    "            is_blended[i] = 1\n",
    "        \n",
    "        \n",
    "    return star_patches, patch_coords, is_blended"
   ]
  },
  {
   "cell_type": "markdown",
   "metadata": {},
   "source": [
    "# The effect of color"
   ]
  },
  {
   "cell_type": "code",
   "execution_count": null,
   "metadata": {},
   "outputs": [],
   "source": [
    "which_stars = torch.nonzero((sdss_hubble_data.hubble_color > 0.5) & \n",
    "                            (torch.log10(true_fluxes.squeeze()) > 5.0) & \n",
    "                            (torch.log10(true_fluxes.squeeze()) < 6.0) & \n",
    "                           (true_locs[:, 0] < 0.95) & (true_locs[:, 1] < 0.95) & \n",
    "                           (true_locs[:, 0] > 0.05) & (true_locs[:, 1] > 0.05)).squeeze()\n",
    "\n",
    "\n",
    "print(len(which_stars))\n",
    "\n",
    "subimage_slen = 7\n",
    "\n",
    "star_patches, patch_coords, is_blended = \\\n",
    "    get_star_patches(full_image, true_locs, which_stars, subimage_slen)\n",
    "\n",
    "star_patches = star_patches[is_blended == 0]\n",
    "    \n",
    "# normalize\n",
    "star_patches_normalized = \\\n",
    "    star_patches / star_patches.view(star_patches.shape[0], -1).sum(1).unsqueeze(-1).unsqueeze(-1)\n",
    "\n",
    "plt.matshow(star_patches_normalized.mean(0))\n",
    "plt.colorbar()"
   ]
  },
  {
   "cell_type": "code",
   "execution_count": null,
   "metadata": {},
   "outputs": [],
   "source": [
    "star_patches_normalized.mean(0).sum()"
   ]
  },
  {
   "cell_type": "code",
   "execution_count": null,
   "metadata": {},
   "outputs": [],
   "source": [
    "for i in range(10): \n",
    "    plt.matshow(star_patches[i])"
   ]
  },
  {
   "cell_type": "code",
   "execution_count": null,
   "metadata": {},
   "outputs": [],
   "source": [
    "which_stars = torch.nonzero((sdss_hubble_data.hubble_color < 0.5) & \n",
    "                            (torch.log10(true_fluxes.squeeze()) > 5.0) & \n",
    "                            (torch.log10(true_fluxes.squeeze()) < 6.0) & \n",
    "                           (true_locs[:, 0] < 0.95) & (true_locs[:, 1] < 0.95) & \n",
    "                           (true_locs[:, 0] > 0.05) & (true_locs[:, 1] > 0.05)).squeeze()\n",
    "\n",
    "\n",
    "print(len(which_stars))\n",
    "\n",
    "subimage_slen = 7\n",
    "\n",
    "star_patches2, patch_coords, is_blended = \\\n",
    "    get_star_patches(full_image, true_locs, which_stars, subimage_slen)\n",
    "\n",
    "star_patches2 = star_patches2[is_blended == 0]\n",
    "\n",
    "# normalize\n",
    "star_patches_normalized2 = \\\n",
    "    star_patches2 / star_patches2.view(star_patches2.shape[0], -1).sum(1).unsqueeze(-1).unsqueeze(-1)\n",
    "\n",
    "plt.matshow(star_patches_normalized2.mean(0))\n",
    "plt.colorbar()"
   ]
  },
  {
   "cell_type": "code",
   "execution_count": null,
   "metadata": {},
   "outputs": [],
   "source": [
    "star_patches_normalized2.mean(0).sum()"
   ]
  },
  {
   "cell_type": "code",
   "execution_count": null,
   "metadata": {},
   "outputs": [],
   "source": [
    "for i in range(10): \n",
    "    plt.matshow(star_patches2[i])"
   ]
  },
  {
   "cell_type": "code",
   "execution_count": null,
   "metadata": {},
   "outputs": [],
   "source": [
    "foo = star_patches_normalized2.mean(0) - star_patches_normalized.mean(0)\n",
    "plt.matshow(foo, vmax = foo.abs().max(), vmin = -foo.abs().max(), cmap = plt.get_cmap('bwr'))\n",
    "plt.colorbar()"
   ]
  },
  {
   "cell_type": "code",
   "execution_count": null,
   "metadata": {},
   "outputs": [],
   "source": [
    "max(3, 2)"
   ]
  },
  {
   "cell_type": "code",
   "execution_count": null,
   "metadata": {},
   "outputs": [],
   "source": [
    "# figure for paper\n",
    "fig, axarr = plt.subplots(1, 3, figsize=(15, 4))\n",
    "\n",
    "vmax = max(star_patches_normalized.mean(0).max(), star_patches_normalized2.mean(0).max())\n",
    "vmin = min(star_patches_normalized.mean(0).min(), star_patches_normalized2.mean(0).min())\n",
    "\n",
    "im0 = axarr[0].matshow(star_patches_normalized.mean(0), vmax = vmax, vmin = vmin)\n",
    "fig.colorbar(im0, ax = axarr[0])\n",
    "axarr[0].set_title('\\nOverlayed Stars with V-I > 0.5', fontsize = 16)\n",
    "\n",
    "im1 = axarr[1].matshow(star_patches_normalized2.mean(0), vmax = vmax, vmin = vmin)\n",
    "fig.colorbar(im1, ax = axarr[1])\n",
    "axarr[1].set_title('\\nOverlayed Stars with V-I < 0.5', fontsize = 16)\n",
    "\n",
    "diff = star_patches_normalized2.mean(0) - star_patches_normalized.mean(0)\n",
    "im2 = axarr[2].matshow(diff, vmax = diff.abs().max(), vmin = -diff.abs().max(), \n",
    "                       cmap = plt.get_cmap('bwr'))\n",
    "fig.colorbar(im2, ax = axarr[2])\n",
    "axarr[2].set_title('\\nDifference', fontsize = 16)\n",
    "\n",
    "for i in range(3): \n",
    "    axarr[i].set_xticks([])\n",
    "    axarr[i].set_yticks([])\n",
    "\n",
    "fig.tight_layout()\n",
    "fig.savefig('../../qualifying_exam_slides/figures/psf_by_color.png')"
   ]
  },
  {
   "cell_type": "code",
   "execution_count": null,
   "metadata": {},
   "outputs": [],
   "source": [
    "profile0_1 = star_patches_normalized.mean(0).sum(0)\n",
    "profile0_2 = star_patches_normalized2.mean(0).sum(0)\n",
    "\n",
    "profile1_1 = star_patches_normalized.mean(0).sum(1)\n",
    "profile1_2 = star_patches_normalized2.mean(0).sum(1)"
   ]
  },
  {
   "cell_type": "code",
   "execution_count": null,
   "metadata": {},
   "outputs": [],
   "source": [
    "from scipy.interpolate import interp1d"
   ]
  },
  {
   "cell_type": "code",
   "execution_count": null,
   "metadata": {},
   "outputs": [],
   "source": [
    "_x = np.arange(- (subimage_slen - 1) / 2, (subimage_slen + 1) / 2)\n",
    "f0_1 = interp1d(_x, profile0_1.numpy(), kind = 'cubic')\n",
    "f0_2 = interp1d(_x, profile0_2.numpy(), kind = 'cubic')\n",
    "\n",
    "f1_1 = interp1d(_x, profile1_1.numpy(), kind = 'cubic')\n",
    "f1_2 = interp1d(_x, profile1_2.numpy(), kind = 'cubic')"
   ]
  },
  {
   "cell_type": "code",
   "execution_count": null,
   "metadata": {},
   "outputs": [],
   "source": [
    "x = np.linspace(- (subimage_slen - 1) / 2, (subimage_slen - 1) / 2, 100)"
   ]
  },
  {
   "cell_type": "code",
   "execution_count": null,
   "metadata": {},
   "outputs": [],
   "source": [
    "fig, axarr = plt.subplots(1, 2, figsize=(12, 4))\n",
    "axarr[0].scatter(_x, profile1_1.numpy(), color = 'b', marker = 'x', label = 'V-I > 0.5')\n",
    "axarr[0].scatter(_x, profile1_2.numpy(), color = 'r', marker = 'x', label = 'V-I < 0.5')\n",
    "\n",
    "axarr[0].plot(x, f1_1(x), color = 'b', alpha = 0.5)\n",
    "axarr[0].plot(x, f1_2(x), color = 'r', alpha = 0.5)\n",
    "\n",
    "axarr[0].legend()\n",
    "axarr[0].set_title('x-coordinate star profile', fontsize = 16)\n",
    "\n",
    "axarr[1].scatter(_x, profile0_1.numpy(), color = 'b', marker = 'x', label = 'V-I > 0.5')\n",
    "axarr[1].scatter(_x, profile0_2.numpy(), color = 'r', marker = 'x', label = 'V-I < 0.5')\n",
    "\n",
    "axarr[1].plot(x, f0_1(x), color = 'b', alpha = 0.5)\n",
    "axarr[1].plot(x, f0_2(x), color = 'r', alpha = 0.5)\n",
    "\n",
    "axarr[1].legend()\n",
    "axarr[1].set_title('y-coordinate star profile', fontsize = 16)\n",
    "\n",
    "\n",
    "for i in range(2): \n",
    "    axarr[i].set_xlabel('pixel coordinate', fontsize = 14)\n",
    "    axarr[i].set_ylabel('normalized brightness', fontsize = 14)\n",
    "\n",
    "fig.tight_layout()\n",
    "fig.savefig('../../qualifying_exam_slides/figures/psf_profile_by_color.png')"
   ]
  },
  {
   "cell_type": "code",
   "execution_count": null,
   "metadata": {},
   "outputs": [],
   "source": []
  },
  {
   "cell_type": "code",
   "execution_count": null,
   "metadata": {},
   "outputs": [],
   "source": [
    "plt.matshow(sdss_hubble_data.sdss_image_full.squeeze()[1100:1120, 410:430])\n",
    "plt.savefig('../../qualifying_exam_slides/figures/saturation_ex.png')"
   ]
  },
  {
   "cell_type": "code",
   "execution_count": null,
   "metadata": {},
   "outputs": [],
   "source": [
    "plt.matshow(sdss_hubble_data.sdss_image.squeeze()[280:300, 200:220])\n",
    "plt.savefig('../../qualifying_exam_slides/figures/bleed_train_ex.png')"
   ]
  },
  {
   "cell_type": "code",
   "execution_count": null,
   "metadata": {},
   "outputs": [],
   "source": []
  }
 ],
 "metadata": {
  "kernelspec": {
   "display_name": "Python (pytorch_04)",
   "language": "python",
   "name": "pytorch_update"
  },
  "language_info": {
   "codemirror_mode": {
    "name": "ipython",
    "version": 3
   },
   "file_extension": ".py",
   "mimetype": "text/x-python",
   "name": "python",
   "nbconvert_exporter": "python",
   "pygments_lexer": "ipython3",
   "version": "3.6.8"
  }
 },
 "nbformat": 4,
 "nbformat_minor": 2
}

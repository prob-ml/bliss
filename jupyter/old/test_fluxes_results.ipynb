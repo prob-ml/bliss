{
 "cells": [
  {
   "cell_type": "code",
   "execution_count": null,
   "metadata": {},
   "outputs": [],
   "source": [
    "import numpy as np\n",
    "\n",
    "import torch\n",
    "import torch.optim as optim\n",
    "\n",
    "import json\n",
    "\n",
    "import sys\n",
    "sys.path.insert(0, '../')\n",
    "import sdss_dataset_lib\n",
    "import sdss_psf\n",
    "import simulated_datasets_lib\n",
    "import starnet_vae_lib\n",
    "from psf_transform_lib import PsfLocalTransform, get_psf_loss\n",
    "\n",
    "import time\n",
    "\n",
    "device = torch.device(\"cuda:0\" if torch.cuda.is_available() else \"cpu\")\n",
    "print('device: ', device)\n",
    "\n",
    "print('torch version: ', torch.__version__)"
   ]
  },
  {
   "cell_type": "code",
   "execution_count": null,
   "metadata": {},
   "outputs": [],
   "source": [
    "# set seed\n",
    "np.random.seed(4534)\n",
    "_ = torch.manual_seed(2534)\n",
    "torch.backends.cudnn.deterministic = True\n",
    "torch.backends.cudnn.benchmark = False"
   ]
  },
  {
   "cell_type": "code",
   "execution_count": null,
   "metadata": {},
   "outputs": [],
   "source": []
  },
  {
   "cell_type": "code",
   "execution_count": null,
   "metadata": {},
   "outputs": [],
   "source": [
    "# data parameters\n",
    "with open('../data/default_star_parameters.json', 'r') as fp:\n",
    "    data_params = json.load(fp)\n",
    "\n",
    "use_real_data = True\n",
    "if use_real_data:\n",
    "\t# get sdss data\n",
    "\tsdss_hubble_data = sdss_dataset_lib.SDSSHubbleData(sdssdir='../../celeste_net/sdss_stage_dir/',\n",
    "\t\t\t\t\t\thubble_cat_file = '../hubble_data/NCG7089/' + \\\n",
    "\t                                        'hlsp_acsggct_hst_acs-wfc_ngc7089_r.rdviq.cal.adj.zpt.txt')\n",
    "\n",
    "\t# load psf\n",
    "\tpsf_og = sdss_psf.psf_at_points(0, 0, psf_fit_file = str(sdss_hubble_data.psf_file))\n",
    "\n",
    "\tpsf = torch.Tensor(simulated_datasets_lib._expand_psf(psf_og, sdss_hubble_data.slen)).to(device)\n",
    "\n",
    "\t# image\n",
    "\tsdss_image = sdss_hubble_data.sdss_image.unsqueeze(0).to(device)\n",
    "\tsdss_background = sdss_hubble_data.sdss_background.unsqueeze(0).to(device) * 0.0 + 179.\n",
    "\n",
    "else:\n",
    "\tprint('simulating data; data params: ')\n",
    "\tprint(data_params)\n",
    "\tpsf_fit_file = './../celeste_net/sdss_stage_dir/2583/2/136/psField-002583-2-0136.fit'\n",
    "\n",
    "\tn_images = 20\n",
    "\tstar_dataset = \\\n",
    "\t    simulated_datasets_lib.load_dataset_from_params(psf_fit_file,\n",
    "\t                            data_params,\n",
    "\t                            n_images = n_images,\n",
    "\t                            add_noise = True)\n",
    "\n",
    "\tpsf = star_dataset.simulator.psf.to(device)"
   ]
  },
  {
   "cell_type": "code",
   "execution_count": null,
   "metadata": {},
   "outputs": [],
   "source": [
    "# define encoder\n",
    "star_encoder = starnet_vae_lib.StarEncoder(full_slen = data_params['slen'],\n",
    "                                            stamp_slen = 7,\n",
    "                                            step = 2,\n",
    "                                            edge_padding = 2,\n",
    "                                            n_bands = 1,\n",
    "                                            max_detections = 2)\n",
    "\n",
    "star_encoder.load_state_dict(torch.load('../fits/results_11042019/starnet_testing-11042019',\n",
    "                               map_location=lambda storage, loc: storage))\n",
    "\n",
    "star_encoder.to(device)\n",
    "# define optimizer\n",
    "weight_decay = 1e-5\n",
    "optimizer = optim.Adam([\n",
    "                    {'params': star_encoder.enc_final.parameters(),\n",
    "                    'lr': 5e-5}],\n",
    "                    weight_decay = weight_decay)"
   ]
  },
  {
   "cell_type": "code",
   "execution_count": null,
   "metadata": {},
   "outputs": [],
   "source": [
    "def set_bn_eval(m):\n",
    "    classname = m.__class__.__name__\n",
    "    if classname.find('BatchNorm') != -1:\n",
    "      m.eval()\n",
    "\n",
    "star_encoder.apply(set_bn_eval)\n",
    "\n"
   ]
  },
  {
   "cell_type": "code",
   "execution_count": null,
   "metadata": {},
   "outputs": [],
   "source": [
    "cached_grid = simulated_datasets_lib._get_mgrid(star_encoder.full_slen).to(device)"
   ]
  },
  {
   "cell_type": "code",
   "execution_count": null,
   "metadata": {},
   "outputs": [],
   "source": [
    "if use_real_data:\n",
    "    full_image = sdss_image\n",
    "    full_background = sdss_background\n",
    "else:\n",
    "    star_dataset.set_params_and_images()\n",
    "    full_image = star_dataset.images\n",
    "    full_background = torch.ones(star_dataset.images.shape).to(device) * star_dataset.sky_intensity\n"
   ]
  },
  {
   "cell_type": "code",
   "execution_count": null,
   "metadata": {},
   "outputs": [],
   "source": [
    "locs, fluxes, n_stars = \\\n",
    "    star_encoder.sample_star_encoder(full_image,\n",
    "                                        full_background,\n",
    "                                        n_samples = 10,\n",
    "                                        return_map = False,\n",
    "                                        return_log_q = False,\n",
    "                                        training = True)[0:3]"
   ]
  },
  {
   "cell_type": "code",
   "execution_count": null,
   "metadata": {},
   "outputs": [],
   "source": [
    "# get loss\n",
    "loss = get_psf_loss(full_image, full_background,\n",
    "                    locs.detach(), fluxes, n_stars.detach(),\n",
    "                    psf,\n",
    "                    pad = 5,\n",
    "                    grid = cached_grid)[1]\n"
   ]
  },
  {
   "cell_type": "code",
   "execution_count": null,
   "metadata": {},
   "outputs": [],
   "source": []
  },
  {
   "cell_type": "code",
   "execution_count": null,
   "metadata": {},
   "outputs": [],
   "source": []
  },
  {
   "cell_type": "code",
   "execution_count": null,
   "metadata": {},
   "outputs": [],
   "source": [
    "loss"
   ]
  },
  {
   "cell_type": "code",
   "execution_count": null,
   "metadata": {},
   "outputs": [],
   "source": [
    "loss.mean()"
   ]
  },
  {
   "cell_type": "code",
   "execution_count": null,
   "metadata": {},
   "outputs": [],
   "source": []
  },
  {
   "cell_type": "code",
   "execution_count": null,
   "metadata": {},
   "outputs": [],
   "source": []
  },
  {
   "cell_type": "code",
   "execution_count": null,
   "metadata": {},
   "outputs": [],
   "source": [
    "\n",
    "locs, fluxes, n_stars = \\\n",
    "    star_encoder.sample_star_encoder(full_image,\n",
    "                                        full_background,\n",
    "                                        n_samples = 1,\n",
    "                                        return_map = True,\n",
    "                                        return_log_q = False,\n",
    "                                        training = True)[0:3]\n",
    "print(locs.mean())\n",
    "print(fluxes.mean())\n",
    "print(n_stars.float().mean())\n"
   ]
  },
  {
   "cell_type": "code",
   "execution_count": null,
   "metadata": {},
   "outputs": [],
   "source": [
    "# get loss\n",
    "loss = get_psf_loss(full_image, full_background,\n",
    "                    locs.detach(), fluxes, n_stars.detach(),\n",
    "                    psf,\n",
    "                    pad = 5,\n",
    "                    grid = cached_grid)[1]\n"
   ]
  },
  {
   "cell_type": "code",
   "execution_count": null,
   "metadata": {},
   "outputs": [],
   "source": [
    "loss\n"
   ]
  },
  {
   "cell_type": "code",
   "execution_count": null,
   "metadata": {},
   "outputs": [],
   "source": []
  }
 ],
 "metadata": {
  "kernelspec": {
   "display_name": "pytorch_update",
   "language": "python",
   "name": "pytorch_update"
  },
  "language_info": {
   "codemirror_mode": {
    "name": "ipython",
    "version": 3
   },
   "file_extension": ".py",
   "mimetype": "text/x-python",
   "name": "python",
   "nbconvert_exporter": "python",
   "pygments_lexer": "ipython3",
   "version": "3.6.8"
  }
 },
 "nbformat": 4,
 "nbformat_minor": 2
}

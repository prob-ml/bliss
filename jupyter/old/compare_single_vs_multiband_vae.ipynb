{
 "cells": [
  {
   "cell_type": "code",
   "execution_count": null,
   "metadata": {},
   "outputs": [],
   "source": [
    "import numpy as np\n",
    "import torch\n",
    "\n",
    "import json\n",
    "\n",
    "import matplotlib.pyplot as plt\n",
    "\n",
    "import fitsio\n",
    "\n",
    "import sys\n",
    "sys.path.insert(0, '../')\n",
    "import simulated_datasets_lib\n",
    "import sdss_dataset_lib\n",
    "import sdss_psf\n",
    "import image_utils \n",
    "\n",
    "import starnet_vae_lib\n",
    "import inv_kl_objective_lib as inv_kl_lib\n",
    "import plotting_utils\n",
    "\n",
    "np.random.seed(34534)"
   ]
  },
  {
   "cell_type": "markdown",
   "metadata": {},
   "source": [
    "# Load the data"
   ]
  },
  {
   "cell_type": "code",
   "execution_count": null,
   "metadata": {},
   "outputs": [],
   "source": [
    "# data parameters\n",
    "with open('../data/default_star_parameters.json', 'r') as fp:\n",
    "    data_params = json.load(fp)"
   ]
  },
  {
   "cell_type": "code",
   "execution_count": null,
   "metadata": {},
   "outputs": [],
   "source": [
    "# load psf\n",
    "psf_dir = '../../multiband_pcat/Data/idR-002583-2-0136/psfs/'\n",
    "psf_r = fitsio.FITS(psf_dir + 'sdss-002583-2-0136-psf-r.fits')[0].read()\n",
    "psf_i = fitsio.FITS(psf_dir + 'sdss-002583-2-0136-psf-i.fits')[0].read()\n",
    "psf_og = np.array([psf_r, psf_i])"
   ]
  },
  {
   "cell_type": "code",
   "execution_count": null,
   "metadata": {},
   "outputs": [],
   "source": [
    "# sky intensity: for the r and i band\n",
    "sky_intensity = torch.Tensor([686., 1123.])\n"
   ]
  },
  {
   "cell_type": "code",
   "execution_count": null,
   "metadata": {},
   "outputs": [],
   "source": [
    "use_simulated_data = True\n",
    "\n",
    "if use_simulated_data: \n",
    "   \n",
    "    n_images = 1\n",
    "\n",
    "    simulated_dataset = \\\n",
    "        simulated_datasets_lib.load_dataset_from_params(psf_og,\n",
    "                                data_params,\n",
    "                                n_images = n_images,\n",
    "                                sky_intensity = sky_intensity,\n",
    "                                add_noise = True)\n",
    "\n",
    "    full_image = simulated_dataset.images\n",
    "    full_background = simulated_dataset.background\n",
    "\n",
    "    true_locs = simulated_dataset.locs\n",
    "    true_fluxes = simulated_dataset.fluxes\n",
    "    true_n_stars = simulated_dataset.n_stars\n",
    "    \n",
    "else: \n",
    "    sdss_hubble_data = sdss_dataset_lib.SDSSHubbleData(bands = [2, 3])\n",
    "    \n",
    "    # image \n",
    "    full_image = sdss_hubble_data.sdss_image.unsqueeze(0)\n",
    "    full_background = sdss_hubble_data.sdss_background.unsqueeze(0)\n",
    "    \n",
    "    # true parameters\n",
    "    which_bright = (sdss_hubble_data.fluxes[:, 0] > data_params['f_min'])\n",
    "    true_locs = sdss_hubble_data.locs[which_bright].unsqueeze(0)\n",
    "    true_fluxes = sdss_hubble_data.fluxes[which_bright].unsqueeze(0)\n"
   ]
  },
  {
   "cell_type": "code",
   "execution_count": null,
   "metadata": {},
   "outputs": [],
   "source": [
    "plt.matshow(full_image[0, 0])\n",
    "plt.colorbar()\n",
    "\n",
    "# plt.scatter(true_locs[:, 1] * 100, \n",
    "#            true_locs[:, 0] * 100)"
   ]
  },
  {
   "cell_type": "markdown",
   "metadata": {},
   "source": [
    "# Our simulator"
   ]
  },
  {
   "cell_type": "code",
   "execution_count": null,
   "metadata": {},
   "outputs": [],
   "source": [
    "# simulator for one band only\n",
    "simulator1 = simulated_datasets_lib.StarSimulator(psf=psf_og[0:1], \n",
    "                                                slen = full_image.shape[-1], \n",
    "                                                sky_intensity = sky_intensity[0:1])\n"
   ]
  },
  {
   "cell_type": "code",
   "execution_count": null,
   "metadata": {},
   "outputs": [],
   "source": [
    "simulator = simulated_datasets_lib.StarSimulator(psf=psf_og, \n",
    "                                                slen = full_image.shape[-1], \n",
    "                                                sky_intensity = sky_intensity)\n"
   ]
  },
  {
   "cell_type": "markdown",
   "metadata": {},
   "source": [
    "# First set of results "
   ]
  },
  {
   "cell_type": "code",
   "execution_count": null,
   "metadata": {},
   "outputs": [],
   "source": [
    "star_encoder1 = starnet_vae_lib.StarEncoder(full_slen = 101,\n",
    "                                           stamp_slen = 7,\n",
    "                                           step = 2,\n",
    "                                           edge_padding = 2,\n",
    "                                           n_bands = 1,\n",
    "                                           max_detections = 2)\n"
   ]
  },
  {
   "cell_type": "code",
   "execution_count": null,
   "metadata": {},
   "outputs": [],
   "source": [
    "star_encoder1.load_state_dict(torch.load('../fits/results_11052019/starnet3', \n",
    "                               map_location=lambda storage, loc: storage))\n",
    "star_encoder1.eval(); "
   ]
  },
  {
   "cell_type": "code",
   "execution_count": null,
   "metadata": {},
   "outputs": [],
   "source": [
    "true_fluxes[:, :, 0:1]"
   ]
  },
  {
   "cell_type": "code",
   "execution_count": null,
   "metadata": {},
   "outputs": [],
   "source": [
    "# get image stamps\n",
    "image_stamps, true_subimage_locs, true_subimage_fluxes, \\\n",
    "    true_subimage_n_stars, true_is_on_array = \\\n",
    "        star_encoder1.get_image_stamps(full_image[0:1, 0:1], \n",
    "                                       true_locs, \n",
    "                                       true_fluxes[:, :, 0:1], \n",
    "                                      trim_images = False)\n",
    "\n",
    "use_true_n_stars = False\n",
    "if use_true_n_stars: \n",
    "    _n_stars = true_subimage_n_stars.clamp(max = star_encoder1.max_detections)\n",
    "else: \n",
    "    _n_stars = None\n"
   ]
  },
  {
   "cell_type": "code",
   "execution_count": null,
   "metadata": {},
   "outputs": [],
   "source": [
    "# images_sim = simulator.draw_image_from_params(locs = sdss_hubble_data.locs.unsqueeze(0), \n",
    "#                                 fluxes = sdss_hubble_data.fluxes.unsqueeze(0), \n",
    "#                                 n_stars = torch.Tensor([len(sdss_hubble_data.locs)]).type(torch.LongTensor), \n",
    "#                                 add_noise = False) - simulator.sky_intensity + full_background\n",
    "        \n",
    "# backgrounds_sim = torch.ones(images_sim.shape) * data_params['sky_intensity']\n",
    "        \n",
    "# # get parameters on the full image \n",
    "# map_locs_full_image1, map_fluxes_full_image1, map_n_stars_full1 = \\\n",
    "#     star_encoder1.get_results_on_full_image(images_sim, \n",
    "#                                            backgrounds_sim)\n",
    "\n",
    "# plt.matshow((images_sim.squeeze() - full_image.squeeze()) / full_image.squeeze(), \n",
    "#            cmap=plt.get_cmap('bwr'))\n",
    "# plt.colorbar()\n",
    "\n",
    "# get parameters on the full image \n",
    "map_locs_full_image1, map_fluxes_full_image1, map_n_stars_full1 = \\\n",
    "    star_encoder1.sample_star_encoder(full_image[0:1, 0:1], \n",
    "                                       full_background[0:1, 0:1], \n",
    "                                       n_stars = _n_stars, return_map = True)[0:3]"
   ]
  },
  {
   "cell_type": "code",
   "execution_count": null,
   "metadata": {},
   "outputs": [],
   "source": [
    "# get reconstruction means\n",
    "recon_mean1 = simulator1.draw_image_from_params(locs = map_locs_full_image1, \n",
    "                                                fluxes = map_fluxes_full_image1,\n",
    "                                                 n_stars = map_n_stars_full1, \n",
    "                                                 add_noise = False)\n",
    "\n",
    "residuals1 = recon_mean1[0, 0] - full_image[0, 0]"
   ]
  },
  {
   "cell_type": "markdown",
   "metadata": {},
   "source": [
    "# Second set of results"
   ]
  },
  {
   "cell_type": "code",
   "execution_count": null,
   "metadata": {},
   "outputs": [],
   "source": [
    "star_encoder2 = starnet_vae_lib.StarEncoder(full_slen = 101,\n",
    "                                            stamp_slen = 7,\n",
    "                                            step = 2,\n",
    "                                            edge_padding = 2, \n",
    "                                            n_bands = 2,\n",
    "                                            max_detections = 2)"
   ]
  },
  {
   "cell_type": "code",
   "execution_count": null,
   "metadata": {},
   "outputs": [],
   "source": [
    "star_encoder2.load_state_dict(torch.load('../fits/results_11122019/starnet_ri', \n",
    "                               map_location=lambda storage, loc: storage))\n",
    "star_encoder2.eval(); "
   ]
  },
  {
   "cell_type": "code",
   "execution_count": null,
   "metadata": {},
   "outputs": [],
   "source": [
    "# get parameters on the full image \n",
    "map_locs_full_image2, map_fluxes_full_image2, map_n_stars_full2 = \\\n",
    "    star_encoder2.sample_star_encoder(full_image, \n",
    "                                       full_background, \n",
    "                                       n_stars = _n_stars, return_map = True)[0:3]"
   ]
  },
  {
   "cell_type": "code",
   "execution_count": null,
   "metadata": {},
   "outputs": [],
   "source": [
    "# reconstruction means\n",
    "recon_mean2 = simulator.draw_image_from_params(locs = map_locs_full_image2, \n",
    "                                                fluxes = map_fluxes_full_image2,\n",
    "                                                 n_stars = map_n_stars_full2, \n",
    "                                                 add_noise = False)\n",
    "\n",
    "residuals2 = recon_mean2 - full_image "
   ]
  },
  {
   "cell_type": "code",
   "execution_count": null,
   "metadata": {},
   "outputs": [],
   "source": [
    "n_stars2 = star_encoder2.get_image_stamps(full_image, \n",
    "                               map_locs_full_image2, map_fluxes_full_image2)[3]"
   ]
  },
  {
   "cell_type": "code",
   "execution_count": null,
   "metadata": {},
   "outputs": [],
   "source": []
  },
  {
   "cell_type": "markdown",
   "metadata": {},
   "source": [
    "# CHeck out losses"
   ]
  },
  {
   "cell_type": "code",
   "execution_count": null,
   "metadata": {},
   "outputs": [],
   "source": [
    "loss1, counter_loss1, locs_loss1, fluxes_loss1, _ = \\\n",
    "    inv_kl_lib.get_encoder_loss(star_encoder1, full_image[0:1, 0:1], \n",
    "                                full_background[0:1, 0:1], \n",
    "                                true_locs, \n",
    "                                true_fluxes[:, :, 0:1], \n",
    "                               use_l2_loss = True)\n",
    "    \n",
    "print(loss1)"
   ]
  },
  {
   "cell_type": "code",
   "execution_count": null,
   "metadata": {},
   "outputs": [],
   "source": [
    "loss2, counter_loss2, locs_loss2, fluxes_loss2, _ = \\\n",
    "    inv_kl_lib.get_encoder_loss(star_encoder2, full_image, \n",
    "                                full_background,\n",
    "                                true_locs, \n",
    "                                true_fluxes, \n",
    "                               use_l2_loss = True)\n",
    "\n",
    "print(loss2)"
   ]
  },
  {
   "cell_type": "code",
   "execution_count": null,
   "metadata": {},
   "outputs": [],
   "source": [
    "plt.plot(locs_loss1.detach(), locs_loss2.detach(), 'x')\n",
    "plt.plot(locs_loss1.detach(), locs_loss1.detach(), '-')\n",
    "\n",
    "assert torch.all((locs_loss1 > 0) == (locs_loss2 > 0))\n",
    "\n",
    "print(locs_loss1[locs_loss1 > 0].mean())\n",
    "print(locs_loss2[locs_loss1 > 0].mean())\n",
    "print('\\n')\n",
    "print((locs_loss2 < locs_loss1)[locs_loss1 > 0].float().mean())"
   ]
  },
  {
   "cell_type": "code",
   "execution_count": null,
   "metadata": {},
   "outputs": [],
   "source": [
    "plt.plot(fluxes_loss1.detach(), fluxes_loss2.detach(), 'x')\n",
    "plt.plot(fluxes_loss1.detach(), fluxes_loss1.detach(), '-')\n",
    "\n",
    "assert torch.all((fluxes_loss1 > 0) == (fluxes_loss2 > 0))\n",
    "\n",
    "print(fluxes_loss1[fluxes_loss1 > 0].mean())\n",
    "print(fluxes_loss2[fluxes_loss1 > 0].mean())\n",
    "print('\\n')\n",
    "print((fluxes_loss2 < fluxes_loss1)[fluxes_loss1 > 0].float().mean())"
   ]
  },
  {
   "cell_type": "code",
   "execution_count": null,
   "metadata": {},
   "outputs": [],
   "source": [
    "plt.plot(counter_loss1.detach(), counter_loss2.detach(), 'x')\n",
    "plt.plot(counter_loss1.detach(), counter_loss1.detach(), '-')\n",
    "\n",
    "print(counter_loss1.mean())\n",
    "print(counter_loss2.mean())\n",
    "print('\\n')\n",
    "print((counter_loss2 < counter_loss1).float().mean())"
   ]
  },
  {
   "cell_type": "markdown",
   "metadata": {},
   "source": [
    "# Compare"
   ]
  },
  {
   "cell_type": "code",
   "execution_count": null,
   "metadata": {},
   "outputs": [],
   "source": [
    "subimage_slen = 9\n",
    "\n",
    "# possible coordinates\n",
    "x0_vec = np.arange(10, 90, subimage_slen)\n",
    "x1_vec = np.arange(10, 90, subimage_slen)"
   ]
  },
  {
   "cell_type": "code",
   "execution_count": null,
   "metadata": {},
   "outputs": [],
   "source": [
    "residuals1.shape"
   ]
  },
  {
   "cell_type": "code",
   "execution_count": null,
   "metadata": {},
   "outputs": [],
   "source": [
    "residuals2.shape"
   ]
  },
  {
   "cell_type": "code",
   "execution_count": null,
   "metadata": {},
   "outputs": [],
   "source": [
    "map_locs_full_image1.squeeze()"
   ]
  },
  {
   "cell_type": "code",
   "execution_count": null,
   "metadata": {},
   "outputs": [],
   "source": [
    "fig, axarr = plt.subplots(2, 3, figsize=(15, 12))\n",
    "\n",
    "x0 = int(np.random.choice(x0_vec, 1))\n",
    "x1 = int(np.random.choice(x1_vec, 1))\n",
    "\n",
    "###################\n",
    "# Plot catalogs\n",
    "##################\n",
    "for j in range(2):\n",
    "    # first catalog\n",
    "    plotting_utils.plot_subimage(axarr[j, 0], full_image[0, 0], \n",
    "                                 map_locs_full_image1.squeeze(), \n",
    "                                 true_locs.squeeze(), \n",
    "                                 x0, x1, subimage_slen, \n",
    "                                add_colorbar = True, \n",
    "                                 global_fig = fig)\n",
    "    axarr[j, 0].set_title('observed; coords: {}\\n'.format([x0, x1]));\n",
    "    \n",
    "    # second catalog\n",
    "    _est_locs = map_locs_full_image2.squeeze() * (full_image.shape[-1] - 1)\n",
    "    which_locs = (_est_locs[:, 0] > x0) & \\\n",
    "                    (_est_locs[:, 0] < (x0 + subimage_slen - 1)) & \\\n",
    "                    (_est_locs[:, 1] > x1) & \\\n",
    "                    (_est_locs[:, 1] < (x1 + subimage_slen - 1))\n",
    "    est_locs = (_est_locs[which_locs, :] - torch.Tensor([[x0, x1]])) \n",
    "    axarr[j, 0].scatter(est_locs[:, 1], est_locs[:, 0], color = 'c', marker = 'x')\n",
    "\n",
    "#######################\n",
    "# Reconstructions \n",
    "#######################\n",
    "# first reconstruction\n",
    "plotting_utils.plot_subimage(axarr[0, 1], recon_mean1[0, 0], \n",
    "                             map_locs_full_image1.squeeze(), \n",
    "                             None, x0, x1, subimage_slen, \n",
    "                            add_colorbar = True, global_fig = fig)\n",
    "axarr[0, 1].set_title('reconstruction 1 \\n');\n",
    "\n",
    "# second reconstruction\n",
    "plotting_utils.plot_subimage(axarr[1, 1], recon_mean2[0, 0], \n",
    "                             map_locs_full_image2.squeeze(), \n",
    "                             None, \n",
    "                             x0, x1, subimage_slen, \n",
    "                            add_colorbar = True, global_fig = fig, \n",
    "                            color = 'c', marker = 'x')\n",
    "axarr[1, 1].set_title('reconstruction 2 \\n');\n",
    "\n",
    "# ######################\n",
    "# # residuals\n",
    "# ######################\n",
    "vmax1 = torch.abs((residuals1 / full_image[0, 0])[x0:(x0 + subimage_slen), x1:(x1 + subimage_slen)]).max()\n",
    "vmax2 = torch.abs((residuals2 / full_image)[0, 0, x0:(x0 + subimage_slen), x1:(x1 + subimage_slen)]).max()\n",
    "\n",
    "vmax = torch.max(torch.Tensor([vmax1, vmax2]))\n",
    "\n",
    "# first residuals\n",
    "plotting_utils.plot_subimage(axarr[0, 2], residuals1 / full_image[0, 0], \n",
    "                            map_locs_full_image1.squeeze(), \n",
    "                             true_locs.squeeze(), \n",
    "                             x0, x1, subimage_slen, \n",
    "                            add_colorbar = True, global_fig = fig,\n",
    "                            diverging_cmap = True, \n",
    "                            vmax = vmax, vmin = -vmax)\n",
    "\n",
    "axarr[0, 2].set_title('residuals 1\\n');\n",
    "\n",
    "\n",
    "\n",
    "# second residuals\n",
    "plotting_utils.plot_subimage(axarr[1, 2], residuals2[0, 0] / full_image[0, 0], \n",
    "                            map_locs_full_image2.squeeze(), \n",
    "                             true_locs.squeeze(), \n",
    "                             x0, x1, subimage_slen, \n",
    "                            add_colorbar = True, global_fig = fig,\n",
    "                            diverging_cmap = True, \n",
    "                            vmax = vmax, vmin = -vmax, \n",
    "                            color = 'c')\n",
    "\n",
    "axarr[1, 2].set_title('residuals 2\\n');\n"
   ]
  },
  {
   "cell_type": "markdown",
   "metadata": {},
   "source": [
    "\n",
    "# Checkout some summary statistics"
   ]
  },
  {
   "cell_type": "code",
   "execution_count": null,
   "metadata": {},
   "outputs": [],
   "source": [
    "# we only look at locations within 10-90; \n",
    "# Portillos doesn't detect on the edge\n",
    "\n",
    "def filter_params(locs, fluxes, slen): \n",
    "    assert len(locs.shape) == 2\n",
    "    assert len(fluxes.shape) == 1\n",
    "    \n",
    "    _locs = locs * (slen - 1)\n",
    "    which_params = (_locs[:, 0] > 10) & (_locs[:, 0] < 90) & \\\n",
    "                        (_locs[:, 1] > 10) & (_locs[:, 1] < 90) \n",
    "        \n",
    "    \n",
    "    return locs[which_params], fluxes[which_params]\n"
   ]
  },
  {
   "cell_type": "code",
   "execution_count": null,
   "metadata": {},
   "outputs": [],
   "source": [
    "true_fluxes.shape"
   ]
  },
  {
   "cell_type": "code",
   "execution_count": null,
   "metadata": {},
   "outputs": [],
   "source": [
    "est_locs1, est_fluxes1 = filter_params(map_locs_full_image1.squeeze(), \n",
    "                                           map_fluxes_full_image1.squeeze(), \n",
    "                                           full_image.shape[-1])\n",
    "\n",
    "est_locs2, est_fluxes2 = filter_params(map_locs_full_image2.squeeze(), \n",
    "                                           map_fluxes_full_image2[0, :, 0], \n",
    "                                           full_image.shape[-1])\n",
    "\n",
    "true_locs, true_fluxes = filter_params(true_locs.squeeze(), true_fluxes[0, :, 0], \n",
    "                                       full_image.shape[-1])"
   ]
  },
  {
   "cell_type": "code",
   "execution_count": null,
   "metadata": {},
   "outputs": [],
   "source": [
    "print('n_stars 1: ', len(est_locs1))\n",
    "print('n_stars 2: ', len(est_locs2))\n",
    "print('true n_stars: ', len(true_locs))"
   ]
  },
  {
   "cell_type": "code",
   "execution_count": null,
   "metadata": {},
   "outputs": [],
   "source": [
    "# _recon1 = simulator.draw_image_from_params(locs = est_locs1.unsqueeze(0), \n",
    "#                                     fluxes = est_fluxes1.unsqueeze(0),\n",
    "#                                      n_stars = torch.Tensor([len(est_fluxes1)]).type(torch.LongTensor), \n",
    "#                                      add_noise = False).squeeze()\n",
    "\n",
    "# _recon2 = \\\n",
    "#     simulator.draw_image_from_params(locs = est_locs2.unsqueeze(0), \n",
    "#                                     fluxes = est_fluxes2.unsqueeze(0),\n",
    "#                                      n_stars = torch.Tensor([len(est_fluxes2)]).type(torch.LongTensor), \n",
    "#                                      add_noise = False).squeeze()\n",
    "\n",
    "# _recon_truth = \\\n",
    "#     simulator.draw_image_from_params(locs = true_locs.unsqueeze(0), \n",
    "#                                     fluxes = true_fluxes.unsqueeze(0),\n",
    "#                                      n_stars = torch.Tensor([len(true_locs)]).type(torch.LongTensor), \n",
    "#                                      add_noise = False).squeeze()\n",
    "\n",
    "\n",
    "# fig, axarr = plt.subplots(1, 3, figsize=(15, 6))\n",
    "\n",
    "# axarr[0].matshow(_recon1)\n",
    "# axarr[1].matshow(_recon2)\n",
    "# axarr[2].matshow(_recon_truth)"
   ]
  },
  {
   "cell_type": "code",
   "execution_count": null,
   "metadata": {},
   "outputs": [],
   "source": [
    "# # check out MSEs\n",
    "\n",
    "# _image = full_image[10:90, 10:90] \n",
    "\n",
    "# _residual1 = (_recon1[10:90, 10:90] - _image)\n",
    "# _residual2 = (_recon2[10:90, 10:90] - _image)\n",
    "# _true_residual = _recon_truth[10:90, 10:90] - _image\n",
    "\n",
    "# print('mse 1: ', torch.mean(_residual1**2))\n",
    "# print('mse 2: ', torch.mean(_residual2**2))\n",
    "# print('truth_mse: ', torch.mean(_true_residual**2))\n",
    "\n",
    "# fig, axarr = plt.subplots(1, 3, figsize=(15, 6))\n",
    "\n",
    "# vmax = (_residual2 / _image).abs().max()\n",
    "\n",
    "# im1 = axarr[0].matshow(_residual1 / _image, vmin = -vmax, vmax = vmax, cmap = plt.get_cmap('bwr'))\n",
    "# im2 = axarr[1].matshow(_residual2 / _image, vmin = -vmax, vmax = vmax, cmap = plt.get_cmap('bwr'))\n",
    "# im3 = axarr[2].matshow(_true_residual / _image, vmin = -vmax, vmax = vmax, cmap = plt.get_cmap('bwr'))\n",
    "\n",
    "# fig.colorbar(im1, ax = axarr[0])\n",
    "# fig.colorbar(im2, ax = axarr[1])\n",
    "# fig.colorbar(im3, ax = axarr[2])"
   ]
  },
  {
   "cell_type": "code",
   "execution_count": null,
   "metadata": {},
   "outputs": [],
   "source": [
    "# fig, axarr = plt.subplots(1, 3, figsize=(20, 5))\n",
    "\n",
    "# axarr[0].hist((_residual1 / _image).flatten(), bins = 100);\n",
    "\n",
    "# axarr[1].hist((_residual2 / _image).flatten(), bins = 100);\n",
    "\n",
    "# axarr[2].hist((_true_residual / _image).flatten(), bins = 100);"
   ]
  },
  {
   "cell_type": "code",
   "execution_count": null,
   "metadata": {},
   "outputs": [],
   "source": [
    "\n"
   ]
  },
  {
   "cell_type": "markdown",
   "metadata": {},
   "source": [
    "# Get summary statistics"
   ]
  },
  {
   "cell_type": "markdown",
   "metadata": {},
   "source": [
    "These are rather coarse measures. My completeness does not take into account the fact that several true stars might be matched with just one estimated star (so not all the true stars were detected); conversely my true positive rate does not take into account that several estimated stars might be matched with just one true star (so only one estimated star is a true positive). \n",
    "\n",
    "I tried the Hungarian algorithm to find a minimal matching, but this gave weird results because we're searching for a permutation that minimizes the **global** cost of the matching. "
   ]
  },
  {
   "cell_type": "code",
   "execution_count": null,
   "metadata": {},
   "outputs": [],
   "source": [
    "import image_statistics_lib"
   ]
  },
  {
   "cell_type": "code",
   "execution_count": null,
   "metadata": {},
   "outputs": [],
   "source": [
    "# completeness and tpr using locations only\n",
    "completeness1, tpr1, completeness1_bool, _ = \\\n",
    "    image_statistics_lib.get_summary_stats(est_locs1, true_locs, \n",
    "                                           full_image.shape[-1], None, None)\n",
    "completeness2, tpr2, completeness2_bool, _ = \\\n",
    "    image_statistics_lib.get_summary_stats(est_locs2, true_locs, \n",
    "                                           full_image.shape[-1], None, None)\n",
    "\n",
    "    \n",
    "print('completeness 1: {:0.3f}'.format(completeness1))\n",
    "print('completeness 2: {:0.3f}\\n'.format(completeness2))\n",
    "\n",
    "print('true positive rate 1: {:0.3f}'.format(tpr1))\n",
    "print('true positive rate 2: {:0.3f}'.format(tpr2))"
   ]
  },
  {
   "cell_type": "code",
   "execution_count": null,
   "metadata": {},
   "outputs": [],
   "source": [
    "# take into account fluxes\n",
    "completeness1, tpr1, completeness1_bool, tpr1_bool = \\\n",
    "    image_statistics_lib.get_summary_stats(est_locs1, true_locs, \n",
    "                                           full_image.shape[-1], \n",
    "                                           est_fluxes1, true_fluxes)\n",
    "    \n",
    "completeness2, tpr2, completeness2_bool, tpr2_bool = \\\n",
    "    image_statistics_lib.get_summary_stats(est_locs2, true_locs, \n",
    "                                           full_image.shape[-1], \n",
    "                                           est_fluxes2, true_fluxes)\n",
    "\n",
    "    \n",
    "print('completeness1: {:0.3f}'.format(completeness1))\n",
    "print('completeness2: {:0.3f}\\n'.format(completeness2))\n",
    "\n",
    "print('true positive rate 1 : {:0.3f}'.format(tpr1))\n",
    "print('true positive rate 2: {:0.3f}'.format(tpr2))"
   ]
  },
  {
   "cell_type": "code",
   "execution_count": null,
   "metadata": {},
   "outputs": [],
   "source": [
    "completeness1_vec, mag_vec1 = \\\n",
    "    image_statistics_lib.get_completeness_vec(est_locs1, true_locs, full_image.shape[-1],\n",
    "                                              est_fluxes1, true_fluxes)[0:2]\n",
    "\n",
    "completeness2_vec, mag_vec2 = \\\n",
    "    image_statistics_lib.get_completeness_vec(est_locs2, true_locs, full_image.shape[-1],\n",
    "                                              est_fluxes2, true_fluxes)[0:2]\n",
    "\n",
    "plt.plot(mag_vec1[0:-1], completeness1_vec, '--x', label = '1')\n",
    "plt.plot(mag_vec2[0:-1], completeness2_vec, '--x', label = '2')\n",
    "\n",
    "plt.legend()\n",
    "plt.xlabel('true log flux')\n",
    "plt.ylabel('completeness')"
   ]
  },
  {
   "cell_type": "code",
   "execution_count": null,
   "metadata": {},
   "outputs": [],
   "source": [
    "tpr1_vec, mag_vec1 = \\\n",
    "    image_statistics_lib.get_tpr_vec(est_locs1, true_locs, full_image.shape[-1],\n",
    "                                    est_fluxes1, true_fluxes)[0:2]\n",
    "\n",
    "tpr2_vec, mag_vec2 = \\\n",
    "    image_statistics_lib.get_tpr_vec(est_locs2, true_locs, full_image.shape[-1],\n",
    "                                    est_fluxes2, true_fluxes)[0:2]\n",
    "\n",
    "plt.plot(mag_vec1[0:-1], tpr1_vec, '--x', label = '1')\n",
    "plt.plot(mag_vec2[0:-1], tpr2_vec, '--x', label = '2')\n",
    "\n",
    "plt.legend()\n",
    "plt.xlabel('estimated log flux')\n",
    "plt.ylabel('true positive rate')"
   ]
  },
  {
   "cell_type": "code",
   "execution_count": null,
   "metadata": {},
   "outputs": [],
   "source": [
    "(torch.log10(true_fluxes) > 5.0).sum()"
   ]
  },
  {
   "cell_type": "code",
   "execution_count": null,
   "metadata": {},
   "outputs": [],
   "source": [
    "which = torch.where((completeness1_bool == 1) & \\\n",
    "                    (torch.log10(true_fluxes) > 5.0) & \\\n",
    "                    (completeness2_bool == 0))"
   ]
  },
  {
   "cell_type": "code",
   "execution_count": null,
   "metadata": {},
   "outputs": [],
   "source": [
    "which"
   ]
  },
  {
   "cell_type": "code",
   "execution_count": null,
   "metadata": {},
   "outputs": [],
   "source": [
    "true_locs[620]"
   ]
  },
  {
   "cell_type": "code",
   "execution_count": null,
   "metadata": {},
   "outputs": [],
   "source": []
  },
  {
   "cell_type": "code",
   "execution_count": null,
   "metadata": {},
   "outputs": [],
   "source": [
    "fig, axarr = plt.subplots(3, 2, figsize=(16, 24))\n",
    "\n",
    "x0 = 80 # int(np.random.choice(x0_vec, 1)) \n",
    "x1 = 15 # int(np.random.choice(x1_vec, 1))\n",
    "\n",
    "\n",
    "##########################\n",
    "# PLOT STARS CAUGHT BY ENCODER 1\n",
    "##########################\n",
    "plotting_utils.plot_subimage(axarr[0, 0], full_image[0, 0], \n",
    "                             est_locs1, \n",
    "                             true_locs, \n",
    "                             x0, x1, subimage_slen, \n",
    "                            add_colorbar = True, \n",
    "                             global_fig = fig, \n",
    "                            color = 'b')\n",
    "axarr[0, 0].set_title('encoder 1; coords: {}\\n'.format([x0, x1]));\n",
    "\n",
    "# true locations that I missed\n",
    "_locs = true_locs[completeness1_bool == 0] * (full_image.shape[-1] - 1)\n",
    "which_locs = (_locs[:, 0] > x0) & \\\n",
    "                (_locs[:, 0] < (x0 + subimage_slen - 1)) & \\\n",
    "                (_locs[:, 1] > x1) & \\\n",
    "                (_locs[:, 1] < (x1 + subimage_slen - 1))\n",
    "__locs = (_locs[which_locs, :] - torch.Tensor([[x0, x1]])) \n",
    "axarr[0, 0].scatter(__locs[:, 1], __locs[:, 0], color = 'orange', marker = 'o')\n",
    "\n",
    "# estimated locations that were false\n",
    "_locs = est_locs1[tpr1_bool == 0] * (full_image.shape[-1] - 1)\n",
    "which_locs = (_locs[:, 0] > x0) & \\\n",
    "                (_locs[:, 0] < (x0 + subimage_slen - 1)) & \\\n",
    "                (_locs[:, 1] > x1) & \\\n",
    "                (_locs[:, 1] < (x1 + subimage_slen - 1))\n",
    "__locs = (_locs[which_locs, :] - torch.Tensor([[x0, x1]])) \n",
    "axarr[0, 0].scatter(__locs[:, 1], __locs[:, 0], color = 'orange', marker = 'x')\n",
    "\n",
    "#####################\n",
    "# PLOT STARS CAUGHT BY ENCODER 2\n",
    "####################\n",
    "plotting_utils.plot_subimage(axarr[0, 1], full_image[0, 0], \n",
    "                             est_locs2, \n",
    "                             true_locs, \n",
    "                             x0, x1, subimage_slen, \n",
    "                            add_colorbar = True, \n",
    "                             global_fig = fig, \n",
    "                            color = 'b')\n",
    "axarr[0, 1].set_title('encoder 2; coords: {}\\n'.format([x0, x1]));\n",
    "\n",
    "# true locations that I missed\n",
    "_locs = true_locs[completeness2_bool == 0] * (full_image.shape[-1] - 1)\n",
    "which_locs = (_locs[:, 0] > x0) & \\\n",
    "                (_locs[:, 0] < (x0 + subimage_slen - 1)) & \\\n",
    "                (_locs[:, 1] > x1) & \\\n",
    "                (_locs[:, 1] < (x1 + subimage_slen - 1))\n",
    "__locs = (_locs[which_locs, :] - torch.Tensor([[x0, x1]])) \n",
    "axarr[0, 1].scatter(__locs[:, 1], __locs[:, 0], color = 'orange', marker = 'o')\n",
    "\n",
    "# estimated locations that were false\n",
    "_locs = est_locs2[tpr2_bool == 0] * (full_image.shape[-1] - 1)\n",
    "which_locs = (_locs[:, 0] > x0) & \\\n",
    "                (_locs[:, 0] < (x0 + subimage_slen - 1)) & \\\n",
    "                (_locs[:, 1] > x1) & \\\n",
    "                (_locs[:, 1] < (x1 + subimage_slen - 1))\n",
    "__locs = (_locs[which_locs, :] - torch.Tensor([[x0, x1]])) \n",
    "axarr[0, 1].scatter(__locs[:, 1], __locs[:, 0], color = 'orange', marker = 'x')\n",
    "\n",
    "##########################\n",
    "# PLOT STARS CAUGHT BY ONLY ME\n",
    "##########################\n",
    "plotting_utils.plot_subimage(axarr[1, 0], full_image[0, 0], \n",
    "                             est_locs1, \n",
    "                             true_locs[(completeness1_bool == 1) & (completeness2_bool == 0)], \n",
    "                             x0, x1, subimage_slen, \n",
    "                            add_colorbar = True, \n",
    "                            global_fig = fig)\n",
    "\n",
    "\n",
    "\n",
    "##########################\n",
    "# PLOT STARS CAUGHT BY Portillos\n",
    "##########################\n",
    "plotting_utils.plot_subimage(axarr[1, 1], full_image[0, 0], \n",
    "                             est_locs2, \n",
    "                             true_locs[(completeness2_bool == 1) & (completeness1_bool == 0)], \n",
    "                             x0, x1, subimage_slen, \n",
    "                            add_colorbar = True, \n",
    "                            global_fig = fig)\n",
    "\n",
    "\n",
    "##########################\n",
    "# RESIDUALS\n",
    "##########################\n",
    "# _resid = (recon_mean1 - full_image).squeeze()\n",
    "# vmax = torch.abs(_resid[x0:(x0 + subimage_slen), x1:(x1 + subimage_slen)]).max()\n",
    "# plotting_utils.plot_subimage(axarr[2, 0], _resid, \n",
    "#                             est_locs1, None, x0, x1, subimage_slen, \n",
    "#                             add_colorbar = True, global_fig = fig,\n",
    "#                             diverging_cmap = True, \n",
    "#                             vmax = vmax, vmin = -vmax)\n",
    "\n",
    "# # axarr[2, 0].set_title('my residuals\\n');\n",
    "\n",
    "# _resid = (recon_mean2 - full_image).squeeze()\n",
    "# vmax = torch.abs(_resid[x0:(x0 + subimage_slen), x1:(x1 + subimage_slen)]).max()\n",
    "# plotting_utils.plot_subimage(axarr[2, 1], _resid, \n",
    "#                             est_locs2, None, x0, x1, subimage_slen, \n",
    "#                             add_colorbar = True, global_fig = fig,\n",
    "#                             diverging_cmap = True, \n",
    "#                             vmax = vmax, vmin = -vmax)\n",
    "\n",
    "# # axarr[2, 1].set_title('my residuals\\n');\n"
   ]
  },
  {
   "cell_type": "code",
   "execution_count": null,
   "metadata": {},
   "outputs": [],
   "source": [
    "foo = est_locs2 * (full_image.shape[-1] - 1)\n",
    "\n",
    "which_locs = (foo[:, 0] > x0) & \\\n",
    "                (foo[:, 0] < (x0 + subimage_slen - 1)) & \\\n",
    "                (foo[:, 1] > x1) & \\\n",
    "                (foo[:, 1] < (x1 + subimage_slen - 1))\n"
   ]
  },
  {
   "cell_type": "code",
   "execution_count": null,
   "metadata": {},
   "outputs": [],
   "source": [
    "torch.log10(est_fluxes2[which_locs])"
   ]
  },
  {
   "cell_type": "code",
   "execution_count": null,
   "metadata": {},
   "outputs": [],
   "source": [
    "10**(4.22)"
   ]
  },
  {
   "cell_type": "code",
   "execution_count": null,
   "metadata": {},
   "outputs": [],
   "source": [
    "np.log10(70000.)"
   ]
  },
  {
   "cell_type": "code",
   "execution_count": null,
   "metadata": {},
   "outputs": [],
   "source": []
  },
  {
   "cell_type": "code",
   "execution_count": null,
   "metadata": {},
   "outputs": [],
   "source": [
    "est_fluxes2[which_locs]"
   ]
  },
  {
   "cell_type": "code",
   "execution_count": null,
   "metadata": {},
   "outputs": [],
   "source": []
  },
  {
   "cell_type": "code",
   "execution_count": null,
   "metadata": {},
   "outputs": [],
   "source": []
  },
  {
   "cell_type": "code",
   "execution_count": null,
   "metadata": {},
   "outputs": [],
   "source": []
  },
  {
   "cell_type": "raw",
   "metadata": {},
   "source": [
    "import itertools"
   ]
  },
  {
   "cell_type": "raw",
   "metadata": {},
   "source": [
    "itertools.permutations(range(4))"
   ]
  },
  {
   "cell_type": "raw",
   "metadata": {},
   "source": [
    "for perm in itertools.permutations(range(4)): \n",
    "    print(foo[:, perm])"
   ]
  },
  {
   "cell_type": "raw",
   "metadata": {},
   "source": [
    "foo = torch.rand(100, 5)"
   ]
  },
  {
   "cell_type": "raw",
   "metadata": {},
   "source": [
    "import numpy as np\n",
    "import math"
   ]
  },
  {
   "cell_type": "raw",
   "metadata": {},
   "source": [
    "math.factorial(4)"
   ]
  },
  {
   "cell_type": "raw",
   "metadata": {},
   "source": []
  },
  {
   "cell_type": "raw",
   "metadata": {},
   "source": [
    "fig, axarr = plt.subplots(1, 3, figsize=(20, 6))\n",
    "\n",
    "x0 = int(np.random.choice(x0_vec, 1))\n",
    "x1 = int(np.random.choice(x1_vec, 1))\n",
    "\n",
    "############################\n",
    "# PLOT ALL TRUE STARS\n",
    "############################\n",
    "# first catalog\n",
    "plotting_utils.plot_subimage(axarr[0], full_image, \n",
    "                             map_locs_full_image1.squeeze(), \n",
    "                             true_locs, \n",
    "                             x0, x1, subimage_slen, \n",
    "                            add_colorbar = True, \n",
    "                             global_fig = fig)\n",
    "axarr[0].set_title('observed; coords: {}\\n'.format([x0, x1]));\n",
    "\n",
    "# second catalog\n",
    "_est_locs = map_locs_full_image2.squeeze() * (full_image.shape[-1] - 1)\n",
    "which_locs = (_est_locs[:, 0] > x0) & \\\n",
    "                (_est_locs[:, 0] < (x0 + subimage_slen - 1)) & \\\n",
    "                (_est_locs[:, 1] > x1) & \\\n",
    "                (_est_locs[:, 1] < (x1 + subimage_slen - 1))\n",
    "est_locs = (_est_locs[which_locs, :] - torch.Tensor([[x0, x1]])) \n",
    "axarr[0].scatter(est_locs[:, 1], est_locs[:, 0], color = 'c', marker = 'x')\n",
    "\n",
    "##########################\n",
    "# PLOT ONLY STARS CAUGHT BY ENCODER 1\n",
    "##########################\n",
    "\n",
    "# first catalog\n",
    "plotting_utils.plot_subimage(axarr[1], full_image, \n",
    "                             map_locs_full_image1.squeeze(), \n",
    "                             true_locs[which_encoder1], \n",
    "                             x0, x1, subimage_slen, \n",
    "                            add_colorbar = True, \n",
    "                             global_fig = fig)\n",
    "axarr[1].set_title('observed; coords: {}\\n'.format([x0, x1]));\n",
    "\n",
    "# second catalog\n",
    "_est_locs = map_locs_full_image2.squeeze() * (full_image.shape[-1] - 1)\n",
    "which_locs = (_est_locs[:, 0] > x0) & \\\n",
    "                (_est_locs[:, 0] < (x0 + subimage_slen - 1)) & \\\n",
    "                (_est_locs[:, 1] > x1) & \\\n",
    "                (_est_locs[:, 1] < (x1 + subimage_slen - 1))\n",
    "est_locs = (_est_locs[which_locs, :] - torch.Tensor([[x0, x1]])) \n",
    "axarr[1].scatter(est_locs[:, 1], est_locs[:, 0], color = 'c', marker = 'x')\n",
    "\n",
    "\n",
    "##########################\n",
    "# PLOT ONLY STARS CAUGHT BY ENCODER 2\n",
    "##########################\n",
    "# first catalog\n",
    "plotting_utils.plot_subimage(axarr[2], full_image, \n",
    "                             map_locs_full_image1.squeeze(), \n",
    "                             true_locs[which_encoder2], \n",
    "                             x0, x1, subimage_slen, \n",
    "                            add_colorbar = True, \n",
    "                             global_fig = fig)\n",
    "axarr[2].set_title('observed; coords: {}\\n'.format([x0, x1]));\n",
    "\n",
    "# second catalog\n",
    "_est_locs = map_locs_full_image2.squeeze() * (full_image.shape[-1] - 1)\n",
    "which_locs = (_est_locs[:, 0] > x0) & \\\n",
    "                (_est_locs[:, 0] < (x0 + subimage_slen - 1)) & \\\n",
    "                (_est_locs[:, 1] > x1) & \\\n",
    "                (_est_locs[:, 1] < (x1 + subimage_slen - 1))\n",
    "est_locs = (_est_locs[which_locs, :] - torch.Tensor([[x0, x1]])) \n",
    "axarr[2].scatter(est_locs[:, 1], est_locs[:, 0], color = 'c', marker = 'x')\n"
   ]
  },
  {
   "cell_type": "raw",
   "metadata": {},
   "source": []
  },
  {
   "cell_type": "raw",
   "metadata": {},
   "source": []
  },
  {
   "cell_type": "raw",
   "metadata": {},
   "source": []
  }
 ],
 "metadata": {
  "kernelspec": {
   "display_name": "Python (pytorch_04)",
   "language": "python",
   "name": "pytorch_update"
  },
  "language_info": {
   "codemirror_mode": {
    "name": "ipython",
    "version": 3
   },
   "file_extension": ".py",
   "mimetype": "text/x-python",
   "name": "python",
   "nbconvert_exporter": "python",
   "pygments_lexer": "ipython3",
   "version": "3.6.8"
  }
 },
 "nbformat": 4,
 "nbformat_minor": 2
}

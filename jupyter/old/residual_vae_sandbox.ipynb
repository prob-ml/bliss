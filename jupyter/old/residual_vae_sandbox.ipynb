{
 "cells": [
  {
   "cell_type": "code",
   "execution_count": null,
   "metadata": {},
   "outputs": [],
   "source": [
    "import torch \n",
    "import numpy as np\n",
    "\n",
    "import matplotlib.pyplot as plt\n",
    "\n",
    "import sys\n",
    "sys.path.insert(0, '../')\n",
    "\n",
    "import residuals_vae_lib\n",
    "import simulated_datasets_lib\n",
    "import sdss_dataset_lib\n",
    "\n",
    "import json\n",
    "\n",
    "device = torch.device(\"cuda:0\" if torch.cuda.is_available() else \"cpu\")\n"
   ]
  },
  {
   "cell_type": "markdown",
   "metadata": {},
   "source": [
    " # get hubble data"
   ]
  },
  {
   "cell_type": "code",
   "execution_count": null,
   "metadata": {},
   "outputs": [],
   "source": [
    "hubble_cat_file='../hubble_data/NCG7078/hlsp_acsggct_hst_acs-wfc_ngc7078_r.rdviq.cal.adj.zpt.txt'\n",
    "sdss_hubble_data = sdss_dataset_lib.SDSSHubbleData(hubble_cat_file=hubble_cat_file, \n",
    "                                                   slen = 11, \n",
    "                                                   run = 2566, \n",
    "                                                   camcol = 6, \n",
    "                                                   field = 65, \n",
    "                                                max_detections = 20)"
   ]
  },
  {
   "cell_type": "code",
   "execution_count": null,
   "metadata": {},
   "outputs": [],
   "source": [
    "len(sdss_hubble_data)"
   ]
  },
  {
   "cell_type": "code",
   "execution_count": null,
   "metadata": {},
   "outputs": [],
   "source": [
    "# get simulator \n",
    "sky_intensity = sdss_hubble_data.sdss_background_full.mean()\n",
    "\n",
    "simulator = simulated_datasets_lib.StarSimulator(psf_fit_file=sdss_hubble_data.psf_file, \n",
    "                                    slen = sdss_hubble_data.slen, \n",
    "                                    sky_intensity = sky_intensity)"
   ]
  },
  {
   "cell_type": "markdown",
   "metadata": {},
   "source": [
    "# Check out \"truth\" residuals"
   ]
  },
  {
   "cell_type": "code",
   "execution_count": null,
   "metadata": {},
   "outputs": [],
   "source": [
    "for i in range(0, 10): \n",
    "    \n",
    "    indx = np.random.choice(len(sdss_hubble_data), 1)\n",
    "        \n",
    "    data = sdss_hubble_data[indx]\n",
    "        \n",
    "    fig, axarr = plt.subplots(1, 3, figsize=(15, 4))\n",
    "    \n",
    "    true_image = data['image'].squeeze()\n",
    "    vmin = np.min(true_image)\n",
    "    vmax = np.max(true_image)\n",
    "        \n",
    "    # plot observed image \n",
    "    foo = axarr[0].matshow(true_image, vmin=vmin, vmax=vmax)\n",
    "    axarr[0].plot(data['locs'][0:data['n_stars'], 1] * (sdss_hubble_data.slen - 1), \n",
    "                 data['locs'][0:data['n_stars'], 0] * (sdss_hubble_data.slen - 1), 'x', color = 'r')\n",
    "\n",
    "    axarr[0].set_title('observed; n_stars = {}; indx = {}\\n'.format(data['n_stars'], indx))\n",
    "    \n",
    "    # use parameters, simulate image \n",
    "    simulated_image = \\\n",
    "        simulator.draw_image_from_params(locs = torch.Tensor(data['locs']).unsqueeze(0), \n",
    "                                         fluxes = torch.Tensor(data['fluxes']).unsqueeze(0), \n",
    "                                         n_stars = torch.Tensor([data['n_stars']]), \n",
    "                                         add_noise = False)\n",
    "        \n",
    "    simulated_image = simulated_image.squeeze().numpy() \n",
    "    axarr[1].matshow(simulated_image, vmin=vmin, vmax=vmax)\n",
    "    axarr[1].plot(data['locs'][0:data['n_stars'], 1] * (sdss_hubble_data.slen - 1), \n",
    "                 data['locs'][0:data['n_stars'], 0] * (sdss_hubble_data.slen - 1), 'x', color = 'r')\n",
    "    axarr[1].set_title('simulated; flux rat = {:06f}\\n'.format(vmax / np.max(simulated_image)))\n",
    "    \n",
    "    fig.colorbar(foo, ax=[axarr[0], axarr[1]])\n",
    "    \n",
    "    foo2 = axarr[2].matshow(true_image - simulated_image)\n",
    "    fig.colorbar(foo2, ax=[axarr[2]])"
   ]
  },
  {
   "cell_type": "markdown",
   "metadata": {},
   "source": [
    "# Define VAE"
   ]
  },
  {
   "cell_type": "code",
   "execution_count": null,
   "metadata": {},
   "outputs": [],
   "source": [
    "residual_vae = residuals_vae_lib.ResidualVAE(slen = 11, n_bands = 1, f_min = 1300.)"
   ]
  },
  {
   "cell_type": "markdown",
   "metadata": {},
   "source": [
    "# create dataset"
   ]
  },
  {
   "cell_type": "code",
   "execution_count": null,
   "metadata": {},
   "outputs": [],
   "source": [
    "batchsize = 64\n",
    "loader = torch.utils.data.DataLoader(\n",
    "                 dataset=sdss_hubble_data,\n",
    "                 batch_size=batchsize,\n",
    "                 shuffle=False)"
   ]
  },
  {
   "cell_type": "code",
   "execution_count": null,
   "metadata": {},
   "outputs": [],
   "source": [
    "for _, data in enumerate(loader):\n",
    "    true_fluxes = data['fluxes'].to(device).type(torch.float)\n",
    "    true_locs = data['locs'].to(device).type(torch.float)\n",
    "    true_n_stars = data['n_stars'].to(device)\n",
    "    images = data['image'].to(device)\n",
    "    backgrounds = data['background'].to(device)\n",
    "    \n",
    "    \n",
    "    simulated_images = \\\n",
    "        simulator.draw_image_from_params(locs = true_locs, \n",
    "                                         fluxes = true_fluxes,\n",
    "                                         n_stars = true_n_stars,\n",
    "                                         add_noise = False)\n",
    "    \n",
    "    residual_image = images - simulated_images\n",
    "    \n",
    "    loss = residuals_vae_lib.get_residual_vae_loss(residual_image, residual_vae)\n",
    "    \n",
    "    break"
   ]
  },
  {
   "cell_type": "code",
   "execution_count": null,
   "metadata": {},
   "outputs": [],
   "source": [
    "recon_mean, recon_logvar, eta_mean, eta_logvar = residual_vae(residual_image, sample = True)"
   ]
  },
  {
   "cell_type": "code",
   "execution_count": null,
   "metadata": {},
   "outputs": [],
   "source": [
    "plt.hist(recon_logvar.flatten().detach().numpy())"
   ]
  },
  {
   "cell_type": "code",
   "execution_count": null,
   "metadata": {},
   "outputs": [],
   "source": [
    "residuals_vae_lib.eval_residual_vae(residual_vae, loader, simulator)"
   ]
  },
  {
   "cell_type": "code",
   "execution_count": null,
   "metadata": {},
   "outputs": [],
   "source": []
  },
  {
   "cell_type": "code",
   "execution_count": null,
   "metadata": {},
   "outputs": [],
   "source": []
  },
  {
   "cell_type": "code",
   "execution_count": null,
   "metadata": {},
   "outputs": [],
   "source": []
  }
 ],
 "metadata": {
  "kernelspec": {
   "display_name": "Python (pytorch_04)",
   "language": "python",
   "name": "pytorch_update"
  },
  "language_info": {
   "codemirror_mode": {
    "name": "ipython",
    "version": 3
   },
   "file_extension": ".py",
   "mimetype": "text/x-python",
   "name": "python",
   "nbconvert_exporter": "python",
   "pygments_lexer": "ipython3",
   "version": "3.6.8"
  }
 },
 "nbformat": 4,
 "nbformat_minor": 2
}

{
 "cells": [
  {
   "cell_type": "code",
   "execution_count": null,
   "metadata": {},
   "outputs": [],
   "source": [
    "import numpy as np\n",
    "import torch\n",
    "\n",
    "import json\n",
    "\n",
    "import matplotlib.pyplot as plt\n",
    "\n",
    "import sys\n",
    "sys.path.insert(0, '../')\n",
    "import simulated_datasets_lib\n",
    "import sdss_dataset_lib\n",
    "import sdss_psf\n",
    "import image_utils \n",
    "\n",
    "import starnet_vae_lib\n",
    "import inv_kl_objective_lib as inv_kl_lib\n",
    "import kl_objective_lib as kl_lib\n",
    "import plotting_utils\n",
    "\n",
    "np.random.seed(34534)"
   ]
  },
  {
   "cell_type": "markdown",
   "metadata": {},
   "source": [
    "# Load the data"
   ]
  },
  {
   "cell_type": "code",
   "execution_count": null,
   "metadata": {},
   "outputs": [],
   "source": [
    "# data parameters\n",
    "with open('../data/default_star_parameters.json', 'r') as fp:\n",
    "    data_params = json.load(fp)\n",
    "\n",
    "data_params['slen'] = 101\n",
    "data_params['min_stars'] = 2000\n",
    "data_params['max_stars'] = 2000\n",
    "data_params['alpha'] = 0.5\n"
   ]
  },
  {
   "cell_type": "code",
   "execution_count": null,
   "metadata": {},
   "outputs": [],
   "source": [
    "use_simulated_data = True\n",
    "\n",
    "if use_simulated_data: \n",
    "    psf_fit_file = '../../celeste_net/sdss_stage_dir/2583/2/136/psField-002583-2-0136.fit'\n",
    "    \n",
    "    n_images = 1\n",
    "\n",
    "    simulated_dataset = \\\n",
    "        simulated_datasets_lib.load_dataset_from_params(psf_fit_file,\n",
    "                                data_params,\n",
    "                                n_images = n_images,\n",
    "                                add_noise = True)\n",
    "\n",
    "    full_image = simulated_dataset.images.squeeze()\n",
    "    full_background = torch.ones(full_image.shape) * 686.\n",
    "\n",
    "    true_locs = simulated_dataset.locs.squeeze()\n",
    "    true_fluxes = simulated_dataset.fluxes.squeeze()\n",
    "    \n",
    "else: \n",
    "    sdss_hubble_data = sdss_dataset_lib.SDSSHubbleData()\n",
    "    \n",
    "    # psf file \n",
    "    psf_fit_file = str(sdss_hubble_data.psf_file)\n",
    "    \n",
    "    # image \n",
    "    full_image = sdss_hubble_data.sdss_image.squeeze()\n",
    "    full_background = sdss_hubble_data.sdss_background.squeeze()\n",
    "    \n",
    "    # true parameters\n",
    "    which_bright = (sdss_hubble_data.fluxes > 1300.)\n",
    "    true_locs = sdss_hubble_data.locs[which_bright]\n",
    "    true_fluxes = sdss_hubble_data.fluxes[which_bright]\n"
   ]
  },
  {
   "cell_type": "code",
   "execution_count": null,
   "metadata": {},
   "outputs": [],
   "source": [
    "plt.matshow(full_image.squeeze())\n",
    "plt.colorbar()"
   ]
  },
  {
   "cell_type": "markdown",
   "metadata": {},
   "source": [
    "# Our simulator"
   ]
  },
  {
   "cell_type": "code",
   "execution_count": null,
   "metadata": {},
   "outputs": [],
   "source": [
    "simulator = simulated_datasets_lib.StarSimulator(psf_fit_file=psf_fit_file, \n",
    "                                                slen = full_image.shape[-1], \n",
    "                                                sky_intensity = 0.)\n"
   ]
  },
  {
   "cell_type": "code",
   "execution_count": null,
   "metadata": {},
   "outputs": [],
   "source": []
  },
  {
   "cell_type": "markdown",
   "metadata": {},
   "source": [
    "# Encoder trained on KL "
   ]
  },
  {
   "cell_type": "code",
   "execution_count": null,
   "metadata": {},
   "outputs": [],
   "source": [
    "star_encoder_kl = starnet_vae_lib.StarEncoder(full_slen = 101,\n",
    "                                            stamp_slen = 9,\n",
    "                                            step = 2,\n",
    "                                            edge_padding = 3, \n",
    "                                            n_bands = 1,\n",
    "                                            max_detections = 4)"
   ]
  },
  {
   "cell_type": "code",
   "execution_count": null,
   "metadata": {},
   "outputs": [],
   "source": [
    "star_encoder_kl.load_state_dict(torch.load('../fits/starnet_invKL_encoder-10092019-reweighted_samples', \n",
    "                               map_location=lambda storage, loc: storage))\n",
    "star_encoder_kl.eval(); "
   ]
  },
  {
   "cell_type": "code",
   "execution_count": null,
   "metadata": {},
   "outputs": [],
   "source": [
    "kl_lib.get_kl_loss(star_encoder_kl,\n",
    "                    full_image.unsqueeze(0).unsqueeze(0),\n",
    "                    full_background.unsqueeze(0).unsqueeze(0),\n",
    "                    simulator)[0]"
   ]
  },
  {
   "cell_type": "code",
   "execution_count": null,
   "metadata": {},
   "outputs": [],
   "source": [
    "# get parameters on the full image \n",
    "map_locs_full_image_kl, map_fluxes_full_image_kl, map_n_stars_full_kl = \\\n",
    "    star_encoder_kl.get_results_on_full_image(full_image.unsqueeze(0).unsqueeze(0), \n",
    "                                           full_background.unsqueeze(0).unsqueeze(0))"
   ]
  },
  {
   "cell_type": "code",
   "execution_count": null,
   "metadata": {},
   "outputs": [],
   "source": [
    "kl_recon_mean = simulator.draw_image_from_params(locs = map_locs_full_image_kl, \n",
    "                                                fluxes = map_fluxes_full_image_kl,\n",
    "                                                 n_stars = map_n_stars_full_kl, \n",
    "                                                 add_noise = False).squeeze()\n",
    "\n",
    "kl_residuals = kl_recon_mean - (full_image - full_background)"
   ]
  },
  {
   "cell_type": "code",
   "execution_count": null,
   "metadata": {},
   "outputs": [],
   "source": []
  },
  {
   "cell_type": "markdown",
   "metadata": {},
   "source": [
    "# encoder trained on inv. KL"
   ]
  },
  {
   "cell_type": "code",
   "execution_count": null,
   "metadata": {},
   "outputs": [],
   "source": [
    "star_encoder_invkl = starnet_vae_lib.StarEncoder(full_slen = 101,\n",
    "                                            stamp_slen = 9,\n",
    "                                            step = 2,\n",
    "                                            edge_padding = 3, \n",
    "                                            n_bands = 1,\n",
    "                                            max_detections = 4)"
   ]
  },
  {
   "cell_type": "code",
   "execution_count": null,
   "metadata": {},
   "outputs": [],
   "source": [
    "star_encoder_invkl.load_state_dict(torch.load('../fits/starnet_invKL_encoder-10072019', \n",
    "                               map_location=lambda storage, loc: storage))\n",
    "star_encoder_invkl.eval(); "
   ]
  },
  {
   "cell_type": "code",
   "execution_count": null,
   "metadata": {},
   "outputs": [],
   "source": [
    "kl_lib.get_kl_loss(star_encoder_invkl,\n",
    "                    full_image.unsqueeze(0).unsqueeze(0),\n",
    "                    full_background.unsqueeze(0).unsqueeze(0),\n",
    "                    simulator)[0]"
   ]
  },
  {
   "cell_type": "code",
   "execution_count": null,
   "metadata": {},
   "outputs": [],
   "source": [
    "# get parameters on the full image \n",
    "map_locs_full_image_invkl, map_fluxes_full_image_invkl, map_n_stars_full_invkl = \\\n",
    "    star_encoder_invkl.get_results_on_full_image(full_image.unsqueeze(0).unsqueeze(0), \n",
    "                                           full_background.unsqueeze(0).unsqueeze(0))"
   ]
  },
  {
   "cell_type": "code",
   "execution_count": null,
   "metadata": {},
   "outputs": [],
   "source": []
  },
  {
   "cell_type": "code",
   "execution_count": null,
   "metadata": {},
   "outputs": [],
   "source": [
    "invkl_recon_mean = simulator.draw_image_from_params(locs = map_locs_full_image_invkl, \n",
    "                                                fluxes = map_fluxes_full_image_invkl,\n",
    "                                                 n_stars = map_n_stars_full_invkl, \n",
    "                                                 add_noise = False).squeeze()\n",
    "\n",
    "invkl_residuals = invkl_recon_mean - (full_image - full_background)"
   ]
  },
  {
   "cell_type": "code",
   "execution_count": null,
   "metadata": {},
   "outputs": [],
   "source": []
  },
  {
   "cell_type": "markdown",
   "metadata": {},
   "source": [
    "# Compare"
   ]
  },
  {
   "cell_type": "code",
   "execution_count": null,
   "metadata": {},
   "outputs": [],
   "source": [
    "subimage_slen = 10\n",
    "\n",
    "# possible coordinates\n",
    "x0_vec = np.arange(10, 90, subimage_slen)\n",
    "x1_vec = np.arange(10, 90, subimage_slen)"
   ]
  },
  {
   "cell_type": "code",
   "execution_count": null,
   "metadata": {},
   "outputs": [],
   "source": [
    "map_locs_full_image_invkl"
   ]
  },
  {
   "cell_type": "code",
   "execution_count": null,
   "metadata": {},
   "outputs": [],
   "source": [
    "fig, axarr = plt.subplots(2, 3, figsize=(15, 12))\n",
    "\n",
    "x0 = int(np.random.choice(x0_vec, 1))\n",
    "x1 = int(np.random.choice(x1_vec, 1))\n",
    "\n",
    "###################\n",
    "# Plot catalogs\n",
    "##################\n",
    "# my catalog\n",
    "for j in range(2):\n",
    "    plotting_utils.plot_subimage(axarr[j, 0], full_image, \n",
    "                                 map_locs_full_image_invkl.squeeze(), \n",
    "                                 true_locs, \n",
    "                                 x0, x1, subimage_slen, \n",
    "                                add_colorbar = True, \n",
    "                                 global_fig = fig)\n",
    "    axarr[j, 0].set_title('observed; coords: {}\\n'.format([x0, x1]));\n",
    "\n",
    "    # portillos catalogue\n",
    "    _est_locs = map_locs_full_image_kl.squeeze() * (full_image.shape[-1] - 1)\n",
    "    which_locs = (_est_locs[:, 0] > x0) & \\\n",
    "                    (_est_locs[:, 0] < (x0 + subimage_slen - 1)) & \\\n",
    "                    (_est_locs[:, 1] > x1) & \\\n",
    "                    (_est_locs[:, 1] < (x1 + subimage_slen - 1))\n",
    "    est_locs = (_est_locs[which_locs, :] - torch.Tensor([[x0, x1]])) \n",
    "    axarr[j, 0].scatter(est_locs[:, 1], est_locs[:, 0], color = 'c', marker = 'x')\n",
    "\n",
    "#######################\n",
    "# Reconstructions \n",
    "#######################\n",
    "# my reconstruction\n",
    "plotting_utils.plot_subimage(axarr[0, 1], invkl_recon_mean, \n",
    "                             map_locs_full_image_invkl.squeeze(), \n",
    "                             None, x0, x1, subimage_slen, \n",
    "                            add_colorbar = True, global_fig = fig)\n",
    "axarr[0, 1].set_title('inv kl reconstruction \\n');\n",
    "\n",
    "# Portillos reconstruction\n",
    "plotting_utils.plot_subimage(axarr[1, 1], kl_recon_mean, \n",
    "                             map_locs_full_image_kl.squeeze(), \n",
    "                             None, \n",
    "                             x0, x1, subimage_slen, \n",
    "                            add_colorbar = True, global_fig = fig, \n",
    "                            color = 'c', marker = 'x')\n",
    "axarr[1, 1].set_title('kl reconstruction \\n');\n",
    "\n",
    "# ######################\n",
    "# # residuals\n",
    "# ######################\n",
    "vmax1 = torch.abs((kl_residuals / full_image)[x0:(x0 + subimage_slen), x1:(x1 + subimage_slen)]).max()\n",
    "vmax2 = torch.abs((invkl_residuals / full_image)[x0:(x0 + subimage_slen), x1:(x1 + subimage_slen)]).max()\n",
    "\n",
    "vmax = torch.max(torch.Tensor([vmax1, vmax2]))\n",
    "\n",
    "# my residuals\n",
    "plotting_utils.plot_subimage(axarr[0, 2], invkl_residuals / full_image, \n",
    "                            map_locs_full_image_invkl.squeeze(), \n",
    "                             true_locs, \n",
    "                             x0, x1, subimage_slen, \n",
    "                            add_colorbar = True, global_fig = fig,\n",
    "                            diverging_cmap = True, \n",
    "                            vmax = vmax, vmin = -vmax)\n",
    "\n",
    "axarr[0, 2].set_title('inv residuals\\n');\n",
    "\n",
    "\n",
    "\n",
    "# my residuals\n",
    "plotting_utils.plot_subimage(axarr[1, 2], kl_residuals / full_image, \n",
    "                            map_locs_full_image_kl.squeeze(), \n",
    "                             true_locs, \n",
    "                             x0, x1, subimage_slen, \n",
    "                            add_colorbar = True, global_fig = fig,\n",
    "                            diverging_cmap = True, \n",
    "                            vmax = vmax, vmin = -vmax, \n",
    "                            color = 'c')\n",
    "\n",
    "axarr[1, 2].set_title('kl residuals\\n');\n"
   ]
  },
  {
   "cell_type": "markdown",
   "metadata": {},
   "source": [
    "# Checkout some summary statistics"
   ]
  },
  {
   "cell_type": "code",
   "execution_count": null,
   "metadata": {},
   "outputs": [],
   "source": [
    "# we only look at locations within 10-90; \n",
    "# Portillos doesn't detect on the edge\n",
    "\n",
    "def filter_params(locs, fluxes, slen): \n",
    "    assert len(locs.shape) == 2\n",
    "    assert len(fluxes.shape) == 1\n",
    "    \n",
    "    _locs = locs * (slen - 1)\n",
    "    which_params = (_locs[:, 0] > 10) & (_locs[:, 0] < 90) & \\\n",
    "                        (_locs[:, 1] > 10) & (_locs[:, 1] < 90) \n",
    "        \n",
    "    \n",
    "    return locs[which_params], fluxes[which_params]\n"
   ]
  },
  {
   "cell_type": "code",
   "execution_count": null,
   "metadata": {},
   "outputs": [],
   "source": [
    "kl_est_locs, kl_est_fluxes = filter_params(map_locs_full_image_kl.squeeze(), \n",
    "                                           map_fluxes_full_image_kl.squeeze(), \n",
    "                                           full_image.shape[-1])\n",
    "\n",
    "invkl_est_locs, invkl_est_fluxes = filter_params(map_locs_full_image_invkl.squeeze(), \n",
    "                                           map_fluxes_full_image_invkl.squeeze(), \n",
    "                                           full_image.shape[-1])\n",
    "\n",
    "true_locs, true_fluxes = filter_params(true_locs, true_fluxes, \n",
    "                                       full_image.shape[-1])"
   ]
  },
  {
   "cell_type": "code",
   "execution_count": null,
   "metadata": {},
   "outputs": [],
   "source": [
    "print('kl n_stars: ', len(kl_est_locs))\n",
    "print('invkl n_stars: ', len(invkl_est_locs))\n",
    "print('true n_stars: ', len(true_locs))"
   ]
  },
  {
   "cell_type": "code",
   "execution_count": null,
   "metadata": {},
   "outputs": [],
   "source": [
    "_recon_kl = simulator.draw_image_from_params(locs = kl_est_locs.unsqueeze(0), \n",
    "                                    fluxes = kl_est_fluxes.unsqueeze(0),\n",
    "                                     n_stars = torch.Tensor([len(kl_est_fluxes)]).type(torch.LongTensor), \n",
    "                                     add_noise = False).squeeze()\n",
    "\n",
    "_recon_invkl = \\\n",
    "    simulator.draw_image_from_params(locs = invkl_est_locs.unsqueeze(0), \n",
    "                                    fluxes = invkl_est_fluxes.unsqueeze(0),\n",
    "                                     n_stars = torch.Tensor([len(invkl_est_fluxes)]).type(torch.LongTensor), \n",
    "                                     add_noise = False).squeeze()\n",
    "\n",
    "_recon_truth = \\\n",
    "    simulator.draw_image_from_params(locs = true_locs.unsqueeze(0), \n",
    "                                    fluxes = true_fluxes.unsqueeze(0),\n",
    "                                     n_stars = torch.Tensor([len(true_locs)]).type(torch.LongTensor), \n",
    "                                     add_noise = False).squeeze()\n",
    "\n",
    "\n",
    "fig, axarr = plt.subplots(1, 3, figsize=(15, 6))\n",
    "\n",
    "axarr[0].matshow(_recon_kl)\n",
    "axarr[1].matshow(_recon_invkl)\n",
    "axarr[2].matshow(_recon_truth)"
   ]
  },
  {
   "cell_type": "code",
   "execution_count": null,
   "metadata": {},
   "outputs": [],
   "source": [
    "# check out MSEs\n",
    "\n",
    "_image = full_image[10:90, 10:90] - full_background[10:90, 10:90]\n",
    "\n",
    "_kl_residual = _recon_kl[10:90, 10:90] - _image\n",
    "_invkl_residual = _recon_invkl[10:90, 10:90] - _image\n",
    "_true_residual = _recon_truth[10:90, 10:90] - _image\n",
    "\n",
    "print('kl_mse: ', torch.mean(_kl_residual**2))\n",
    "print('invkl_mse: ', torch.mean(_invkl_residual**2))\n",
    "print('truth_mse: ', torch.mean(_true_residual**2))\n",
    "\n",
    "fig, axarr = plt.subplots(1, 3, figsize=(15, 6))\n",
    "\n",
    "im1 = axarr[0].matshow(_kl_residual)\n",
    "im2 = axarr[1].matshow(_invkl_residual)\n",
    "im3 = axarr[2].matshow(_true_residual)\n",
    "\n",
    "fig.colorbar(im1, ax = axarr[0])\n",
    "fig.colorbar(im2, ax = axarr[1])\n",
    "fig.colorbar(im3, ax = axarr[2])"
   ]
  },
  {
   "cell_type": "code",
   "execution_count": null,
   "metadata": {},
   "outputs": [],
   "source": [
    "fig, axarr = plt.subplots(1, 3, figsize=(20, 5))\n",
    "\n",
    "axarr[0].hist((_kl_residual / _image).flatten(), bins = 100);\n",
    "\n",
    "axarr[1].hist((_invkl_residual / _image).flatten(), bins = 100);\n",
    "\n",
    "axarr[2].hist((_true_residual / _image).flatten(), bins = 100);"
   ]
  },
  {
   "cell_type": "code",
   "execution_count": null,
   "metadata": {},
   "outputs": [],
   "source": []
  },
  {
   "cell_type": "markdown",
   "metadata": {},
   "source": [
    "# Get summary statistics"
   ]
  },
  {
   "cell_type": "markdown",
   "metadata": {},
   "source": [
    "These are rather coarse measures. My completeness does not take into account the fact that several true stars might be matched with just one estimated star (so not all the true stars were detected); conversely my true positive rate does not take into account that several estimated stars might be matched with just one true star (so only one estimated star is a true positive). \n",
    "\n",
    "I tried the Hungarian algorithm to find a minimal matching, but this gave weird results because we're searching for a permutation that minimizes the **global** cost of the matching. "
   ]
  },
  {
   "cell_type": "code",
   "execution_count": null,
   "metadata": {},
   "outputs": [],
   "source": [
    "import image_statistics_lib"
   ]
  },
  {
   "cell_type": "code",
   "execution_count": null,
   "metadata": {},
   "outputs": [],
   "source": [
    "# completeness and tpr using locations only\n",
    "kl_completeness, kl_tpr = \\\n",
    "    image_statistics_lib.get_summary_stats(kl_est_locs, true_locs, \n",
    "                                           full_image.shape[-1], None, None)\n",
    "invkl_completeness, invkl_tpr = \\\n",
    "    image_statistics_lib.get_summary_stats(invkl_est_locs, true_locs, \n",
    "                                           full_image.shape[-1], None, None)\n",
    "\n",
    "    \n",
    "print('kl completeness: {:0.3f}'.format(kl_completeness))\n",
    "print('invkl completeness: {:0.3f}\\n'.format(invkl_completeness))\n",
    "\n",
    "print('kl positive rate: {:0.3f}'.format(kl_tpr))\n",
    "print('invkl true positive rate: {:0.3f}'.format(invkl_tpr))"
   ]
  },
  {
   "cell_type": "code",
   "execution_count": null,
   "metadata": {},
   "outputs": [],
   "source": [
    "# take into account fluxes\n",
    "kl_completeness, kl_tpr = \\\n",
    "    image_statistics_lib.get_summary_stats(kl_est_locs, true_locs, \n",
    "                                           full_image.shape[-1], \n",
    "                                           kl_est_fluxes, true_fluxes)\n",
    "    \n",
    "invkl_completeness, invkl_tpr = \\\n",
    "    image_statistics_lib.get_summary_stats(invkl_est_locs, true_locs, \n",
    "                                           full_image.shape[-1], \n",
    "                                           invkl_est_fluxes, true_fluxes)\n",
    "\n",
    "    \n",
    "print('kl completeness: {:0.3f}'.format(kl_completeness))\n",
    "print('invkl completeness: {:0.3f}\\n'.format(invkl_completeness))\n",
    "\n",
    "print('kl positive rate: {:0.3f}'.format(kl_tpr))\n",
    "print('invkl true positive rate: {:0.3f}'.format(invkl_tpr))"
   ]
  },
  {
   "cell_type": "code",
   "execution_count": null,
   "metadata": {},
   "outputs": [],
   "source": [
    "kl_completeness_vec, kl_mag_vec = \\\n",
    "    image_statistics_lib.get_completeness_vec(kl_est_locs, true_locs, full_image.shape[-1],\n",
    "                                              kl_est_fluxes, true_fluxes)\n",
    "\n",
    "invkl_completeness_vec, invkl_mag_vec = \\\n",
    "    image_statistics_lib.get_completeness_vec(invkl_est_locs, true_locs, full_image.shape[-1],\n",
    "                                              invkl_est_fluxes, true_fluxes)\n",
    "\n",
    "plt.plot(kl_mag_vec[0:-1], kl_completeness_vec, '--x', label = 'kl')\n",
    "plt.plot(invkl_mag_vec[0:-1], invkl_completeness_vec, '--x', label = 'inv kl')\n",
    "\n",
    "plt.legend()\n",
    "plt.xlabel('true log flux')\n",
    "plt.ylabel('completeness')"
   ]
  },
  {
   "cell_type": "code",
   "execution_count": null,
   "metadata": {},
   "outputs": [],
   "source": [
    "kl_tpr_vec, kl_mag_vec = \\\n",
    "    image_statistics_lib.get_tpr_vec(kl_est_locs, true_locs, full_image.shape[-1],\n",
    "                                    kl_est_fluxes, true_fluxes)\n",
    "\n",
    "invkl_tpr_vec, invkl_mag_vec = \\\n",
    "    image_statistics_lib.get_tpr_vec(invkl_est_locs, true_locs, full_image.shape[-1],\n",
    "                                    invkl_est_fluxes, true_fluxes)\n",
    "\n",
    "plt.plot(kl_mag_vec[0:-1], kl_tpr_vec, '--x', label = 'kl')\n",
    "plt.plot(invkl_mag_vec[0:-1], invkl_tpr_vec, '--x', label = 'invkl')\n",
    "\n",
    "plt.legend()\n",
    "plt.xlabel('estimated log flux')\n",
    "plt.ylabel('true positive rate')"
   ]
  },
  {
   "cell_type": "code",
   "execution_count": null,
   "metadata": {},
   "outputs": [],
   "source": []
  },
  {
   "cell_type": "code",
   "execution_count": null,
   "metadata": {},
   "outputs": [],
   "source": []
  }
 ],
 "metadata": {
  "kernelspec": {
   "display_name": "Python (pytorch_04)",
   "language": "python",
   "name": "pytorch_update"
  },
  "language_info": {
   "codemirror_mode": {
    "name": "ipython",
    "version": 3
   },
   "file_extension": ".py",
   "mimetype": "text/x-python",
   "name": "python",
   "nbconvert_exporter": "python",
   "pygments_lexer": "ipython3",
   "version": "3.6.8"
  }
 },
 "nbformat": 4,
 "nbformat_minor": 2
}

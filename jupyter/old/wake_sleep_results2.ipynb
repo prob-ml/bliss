{
 "cells": [
  {
   "cell_type": "code",
   "execution_count": null,
   "metadata": {},
   "outputs": [],
   "source": [
    "import numpy as np\n",
    "import torch\n",
    "\n",
    "import json\n",
    "\n",
    "import matplotlib.pyplot as plt\n",
    "\n",
    "import sys\n",
    "sys.path.insert(0, '../')\n",
    "import simulated_datasets_lib\n",
    "import sdss_dataset_lib\n",
    "import sdss_psf\n",
    "import image_utils \n",
    "import wake_lib\n",
    "\n",
    "import starnet_vae_lib\n",
    "import inv_kl_objective_lib as inv_kl_lib\n",
    "import plotting_utils\n",
    "import wake_sleep_lib\n",
    "\n",
    "import psf_transform_lib2\n",
    "import image_statistics_lib\n",
    "\n",
    "np.random.seed(34534)"
   ]
  },
  {
   "cell_type": "code",
   "execution_count": null,
   "metadata": {},
   "outputs": [],
   "source": []
  },
  {
   "cell_type": "markdown",
   "metadata": {},
   "source": [
    "# Load the data"
   ]
  },
  {
   "cell_type": "code",
   "execution_count": null,
   "metadata": {},
   "outputs": [],
   "source": [
    "f_min = 1000."
   ]
  },
  {
   "cell_type": "code",
   "execution_count": null,
   "metadata": {},
   "outputs": [],
   "source": [
    "bands = [2, 3]\n",
    "sdss_hubble_data = sdss_dataset_lib.SDSSHubbleData(sdssdir='../../celeste_net/sdss_stage_dir/',\n",
    "                                       hubble_cat_file = '../hubble_data/NCG7089/' + \\\n",
    "                                        'hlsp_acsggct_hst_acs-wfc_ngc7089_r.rdviq.cal.adj.zpt.txt',\n",
    "                                        bands = bands)\n",
    "\n",
    "full_image = sdss_hubble_data.sdss_image.unsqueeze(0)\n",
    "\n",
    "n_elect_per_nmgy = sdss_hubble_data.nelec_per_nmgy.mean()"
   ]
  },
  {
   "cell_type": "code",
   "execution_count": null,
   "metadata": {},
   "outputs": [],
   "source": [
    "plt.matshow(full_image[0, 0])\n",
    "plt.colorbar()"
   ]
  },
  {
   "cell_type": "code",
   "execution_count": null,
   "metadata": {},
   "outputs": [],
   "source": [
    "# true parameters\n",
    "which_bright = sdss_hubble_data.fluxes[:, 0] > f_min\n",
    "\n",
    "true_locs = sdss_hubble_data.locs[which_bright].unsqueeze(0)\n",
    "true_fluxes = sdss_hubble_data.fluxes[which_bright].unsqueeze(0)\n",
    "true_n_stars = torch.Tensor([len(true_locs[0])]).type(torch.LongTensor)"
   ]
  },
  {
   "cell_type": "markdown",
   "metadata": {},
   "source": [
    "# the encoder"
   ]
  },
  {
   "cell_type": "code",
   "execution_count": null,
   "metadata": {},
   "outputs": [],
   "source": [
    "star_encoder = starnet_vae_lib.StarEncoder(full_slen = full_image.shape[-1], \n",
    "                                           stamp_slen = 7,\n",
    "                                           step = 2,\n",
    "                                           edge_padding = 2,\n",
    "                                           n_bands = len(bands),\n",
    "                                           max_detections = 2,\n",
    "                                           estimate_flux = False)"
   ]
  },
  {
   "cell_type": "markdown",
   "metadata": {},
   "source": [
    "# Check residuals"
   ]
  },
  {
   "cell_type": "code",
   "execution_count": null,
   "metadata": {},
   "outputs": [],
   "source": [
    "init_encoder = '../fits/results_2020-02-06/starnet_ri'\n",
    "filename = '../fits/results_2020-02-06/wake-sleep_630x310_ri'"
   ]
  },
  {
   "cell_type": "code",
   "execution_count": null,
   "metadata": {},
   "outputs": [],
   "source": [
    "band = 0"
   ]
  },
  {
   "cell_type": "markdown",
   "metadata": {},
   "source": [
    "### Initial residuals -- before having trained PSF"
   ]
  },
  {
   "cell_type": "code",
   "execution_count": null,
   "metadata": {},
   "outputs": [],
   "source": [
    "# load encoder\n",
    "star_encoder.load_state_dict(torch.load(init_encoder,\n",
    "                                   map_location=lambda storage, loc: storage))\n",
    "star_encoder.eval();"
   ]
  },
  {
   "cell_type": "code",
   "execution_count": null,
   "metadata": {},
   "outputs": [],
   "source": [
    "# get initial parameters\n",
    "map_locs_full_image, _, map_n_stars_full = \\\n",
    "        star_encoder.sample_star_encoder(full_image,\n",
    "                                            torch.ones(full_image.shape),\n",
    "                                            return_map_n_stars = True,\n",
    "                                            return_map_star_params = True)[0:3]"
   ]
  },
  {
   "cell_type": "code",
   "execution_count": null,
   "metadata": {},
   "outputs": [],
   "source": [
    "# load initial psf\n",
    "psfield_file = '../../celeste_net/sdss_stage_dir/2583/2/136/psField-002583-2-0136.fit'\n",
    "powerlaw_psf_params = torch.zeros(len(bands), 6)\n",
    "for i in range(len(bands)):\n",
    "    powerlaw_psf_params[i] = psf_transform_lib2.get_psf_params(\n",
    "                                    psfield_file,\n",
    "                                    band = bands[i])\n",
    "\n",
    "\n",
    "# initial backgrounds\n",
    "planar_background_params = torch.zeros(len(bands), 3)\n",
    "planar_background_params[:, 0] = torch.Tensor([686., 1123.])\n",
    "\n",
    "\n",
    "estimator0 = wake_lib.EstimateModelParams(full_image,\n",
    "                                            map_locs_full_image,\n",
    "                                            map_n_stars_full,\n",
    "                                            init_psf_params = powerlaw_psf_params,\n",
    "                                            init_background_params = None,\n",
    "                                            init_fluxes = None,\n",
    "                                            fmin = f_min)\n",
    "\n",
    "# estimate fluxes\n",
    "estimator0.optimize_fluxes_background(max_iter=20)"
   ]
  },
  {
   "cell_type": "code",
   "execution_count": null,
   "metadata": {},
   "outputs": [],
   "source": [
    "recon_mean0, init_loss = estimator0.get_loss()\n",
    "\n",
    "fig, axarr = plt.subplots(1, 2, figsize=(15, 4))\n",
    "\n",
    "resid = (torch.log10(recon_mean0.detach()) - torch.log10(full_image))[0, band, 5:95, 5:95] * 2.5\n",
    "im = axarr[0].matshow(resid, vmax = resid.abs().max(), vmin = -resid.abs().max(), \n",
    "                      cmap = plt.get_cmap('bwr'))\n",
    "fig.colorbar(im, ax = axarr[0])\n",
    "\n",
    "init_psf = estimator0.get_psf().detach()\n",
    "im1 = axarr[1].matshow(simulated_datasets_lib._trim_psf(init_psf, 15)[band])\n",
    "fig.colorbar(im1, ax = axarr[1])"
   ]
  },
  {
   "cell_type": "code",
   "execution_count": null,
   "metadata": {},
   "outputs": [],
   "source": [
    "init_loss"
   ]
  },
  {
   "cell_type": "code",
   "execution_count": null,
   "metadata": {},
   "outputs": [],
   "source": [
    "completeness, tpr, _, _ = \\\n",
    "        image_statistics_lib.get_summary_stats(map_locs_full_image.squeeze(), \n",
    "                                               true_locs.squeeze(0), \n",
    "                                               star_encoder.full_slen, \n",
    "                                               estimator0.get_fluxes().detach()[0, :, 0], \n",
    "                                               true_fluxes[0, :, 0], \n",
    "                                            n_elect_per_nmgy)\n",
    "\n",
    "completeness, tpr"
   ]
  },
  {
   "cell_type": "code",
   "execution_count": null,
   "metadata": {},
   "outputs": [],
   "source": []
  },
  {
   "cell_type": "markdown",
   "metadata": {},
   "source": [
    "### residuals after training"
   ]
  },
  {
   "cell_type": "code",
   "execution_count": null,
   "metadata": {},
   "outputs": [],
   "source": [
    "n_iter = 6\n",
    "loss_vec = torch.zeros(n_iter)"
   ]
  },
  {
   "cell_type": "code",
   "execution_count": null,
   "metadata": {},
   "outputs": [],
   "source": [
    "band = 0"
   ]
  },
  {
   "cell_type": "code",
   "execution_count": null,
   "metadata": {},
   "outputs": [],
   "source": [
    "for iteration in range(6): \n",
    "    if iteration == 0:\n",
    "        encoder_file = init_encoder\n",
    "    else:\n",
    "        encoder_file = filename + '-encoder-iter' + str(iteration)\n",
    "        \n",
    "    star_encoder.load_state_dict(torch.load(encoder_file,\n",
    "                                   map_location=lambda storage, loc: storage))\n",
    "    star_encoder.eval();\n",
    "    \n",
    "    map_locs_full_image, _, map_n_stars_full = \\\n",
    "        star_encoder.sample_star_encoder(full_image,\n",
    "                                            torch.ones(full_image.shape),\n",
    "                                            return_map_n_stars = True,\n",
    "                                            return_map_star_params = True)[0:3]\n",
    "    \n",
    "    # load psf\n",
    "    powerlaw_psf_params = \\\n",
    "            torch.Tensor(np.load('../fits/results_2020-02-06/powerlaw_psf_params-iter' + \\\n",
    "                                    str(iteration) + '.npy'))\n",
    "    \n",
    "    # load fluxes\n",
    "    planar_background_params = \\\n",
    "        torch.Tensor(np.load('../fits/results_2020-02-06/planarback_params-iter' + \\\n",
    "                                str(iteration) + '.npy'))\n",
    "    \n",
    "    # the fluxes\n",
    "    map_fluxes_full_image = \\\n",
    "        torch.Tensor(np.load('../fits/results_2020-02-06/fluxes-iter' + \\\n",
    "                                str(iteration) + '.npy'))\n",
    "        \n",
    "    estimator = wake_lib.EstimateModelParams(full_image,\n",
    "                                            map_locs_full_image,\n",
    "                                            map_n_stars_full,\n",
    "                                            init_psf_params = powerlaw_psf_params,\n",
    "                                            init_background_params = planar_background_params,\n",
    "                                            init_fluxes = map_fluxes_full_image,\n",
    "                                            fmin = f_min)\n",
    "    \n",
    "    fig, axarr = plt.subplots(1, 2, figsize=(15, 4))\n",
    "    \n",
    "    recon_mean, loss_vec[iteration] = estimator.get_loss()\n",
    "    \n",
    "    resid = (torch.log10(recon_mean.detach()) - torch.log10(full_image))[0, band, 5:95, 5:95] * 2.5\n",
    "    im = axarr[0].matshow(resid, vmax = resid.abs().max(), vmin = -resid.abs().max(), \n",
    "                          cmap = plt.get_cmap('bwr'))\n",
    "    fig.colorbar(im, ax = axarr[0])\n",
    "    \n",
    "    psf_diff = simulated_datasets_lib._trim_psf(\n",
    "                        estimator.get_psf().detach() - init_psf, 15)\n",
    "    im1 = axarr[1].matshow(psf_diff[band], vmax = psf_diff.abs().max(), vmin = -psf_diff.abs().max(), \n",
    "                    cmap = plt.get_cmap('bwr'))\n",
    "    fig.colorbar(im1, ax = axarr[1])\n",
    "    \n",
    "#     print('\\n')\n",
    "#     print(map_n_stars_full)\n",
    "#     print((map_locs_full_image**2).mean())\n",
    "#     print('**final loss**', estimator.get_loss()[1])"
   ]
  },
  {
   "cell_type": "code",
   "execution_count": null,
   "metadata": {},
   "outputs": [],
   "source": [
    "loss_vec"
   ]
  },
  {
   "cell_type": "markdown",
   "metadata": {},
   "source": [
    "# Check psfs -- with true parameters"
   ]
  },
  {
   "cell_type": "code",
   "execution_count": null,
   "metadata": {},
   "outputs": [],
   "source": [
    "band = 0"
   ]
  },
  {
   "cell_type": "code",
   "execution_count": null,
   "metadata": {},
   "outputs": [],
   "source": [
    "true_n_stars"
   ]
  },
  {
   "cell_type": "code",
   "execution_count": null,
   "metadata": {
    "code_folding": []
   },
   "outputs": [],
   "source": [
    "for iteration in range(6):     \n",
    "    # load psf\n",
    "    powerlaw_psf_params = \\\n",
    "            torch.Tensor(np.load('../fits/results_2020-02-06/powerlaw_psf_params-iter' + \\\n",
    "                                    str(iteration) + '.npy'))\n",
    "    \n",
    "    # load background\n",
    "    planar_background_params = \\\n",
    "        torch.Tensor(np.load('../fits/results_2020-02-06/planarback_params-iter' + \\\n",
    "                                str(iteration) + '.npy'))\n",
    "        \n",
    "    estimator = wake_lib.EstimateModelParams(full_image,\n",
    "                                            true_locs,\n",
    "                                            true_n_stars,\n",
    "                                            init_psf_params = powerlaw_psf_params,\n",
    "                                            init_background_params = planar_background_params,\n",
    "                                            init_fluxes = true_fluxes,\n",
    "                                            fmin = f_min)\n",
    "    \n",
    "    fig, axarr = plt.subplots(1, 2, figsize=(15, 4))\n",
    "    \n",
    "    recon_mean, loss_vec[iteration] = estimator.get_loss()\n",
    "    \n",
    "    resid = (torch.log10(recon_mean.detach()) - torch.log10(full_image))[0, band, 5:95, 5:95] * 2.5\n",
    "    im = axarr[0].matshow(resid, vmax = resid.abs().max(), vmin = -resid.abs().max(), \n",
    "                          cmap = plt.get_cmap('bwr'))\n",
    "    fig.colorbar(im, ax = axarr[0])\n",
    "    \n",
    "    psf_diff = simulated_datasets_lib._trim_psf(\n",
    "                        estimator.get_psf().detach() - init_psf, 15)\n",
    "    im1 = axarr[1].matshow(psf_diff[band], vmax = psf_diff.abs().max(), vmin = -psf_diff.abs().max(), \n",
    "                    cmap = plt.get_cmap('bwr'))\n",
    "    fig.colorbar(im1, ax = axarr[1])"
   ]
  },
  {
   "cell_type": "code",
   "execution_count": null,
   "metadata": {},
   "outputs": [],
   "source": [
    "plt.plot(loss_vec.detach())"
   ]
  },
  {
   "cell_type": "code",
   "execution_count": null,
   "metadata": {},
   "outputs": [],
   "source": []
  },
  {
   "cell_type": "markdown",
   "metadata": {},
   "source": [
    "# Check out summary statistics"
   ]
  },
  {
   "cell_type": "code",
   "execution_count": null,
   "metadata": {},
   "outputs": [],
   "source": [
    "n_iter = 6"
   ]
  },
  {
   "cell_type": "code",
   "execution_count": null,
   "metadata": {},
   "outputs": [],
   "source": [
    "completeness_all = np.zeros(n_iter + 1)\n",
    "tpr_all = np.zeros(n_iter + 1)\n",
    "\n",
    "fig, axarr = plt.subplots(1, 2, figsize=(15, 4))\n",
    "\n",
    "\n",
    "for iteration in range(0, n_iter): \n",
    "        \n",
    "    if iteration == 0:\n",
    "        encoder_file = init_encoder\n",
    "    else:\n",
    "        encoder_file = filename + '-encoder-iter' + str(iteration)\n",
    "\n",
    "    \n",
    "    star_encoder.load_state_dict(torch.load(encoder_file,\n",
    "                                   map_location=lambda storage, loc: storage))\n",
    "    star_encoder.eval();\n",
    "    \n",
    "    # get parameters\n",
    "    map_locs_full_image, _, map_n_stars_full = \\\n",
    "        star_encoder.sample_star_encoder(full_image, \n",
    "                                        torch.zeros(full_image.shape),\n",
    "                                        return_map_n_stars = True, \n",
    "                                        return_map_star_params = True)[0:3]\n",
    "    \n",
    "    \n",
    "    map_fluxes_full_image = \\\n",
    "        torch.Tensor(np.load('../fits/results_2020-02-06/fluxes-iter' + \\\n",
    "                                str(iteration) + '.npy'))\n",
    "    \n",
    "    \n",
    "    # get summary statistics \n",
    "    completeness, tpr, _, _ = \\\n",
    "        image_statistics_lib.get_summary_stats(map_locs_full_image.squeeze(), \n",
    "                                               true_locs.squeeze(0), \n",
    "                                               star_encoder.full_slen, \n",
    "                                               map_fluxes_full_image.squeeze(0)[:, 0], \n",
    "                                               true_fluxes[0, :, 0], \n",
    "                                              n_elect_per_nmgy)\n",
    "    \n",
    "    completeness_all[iteration] = completeness\n",
    "    tpr_all[iteration] = tpr\n",
    "    \n",
    "    \n",
    "    # get completeness as a function of magnitude  \n",
    "    completeness_vec, mag_vec = \\\n",
    "        image_statistics_lib.get_completeness_vec(map_locs_full_image.squeeze(), \n",
    "                                               true_locs.squeeze(0), \n",
    "                                               star_encoder.full_slen, \n",
    "                                               map_fluxes_full_image.squeeze(0)[:, 0], \n",
    "                                               true_fluxes[0, :, 0], \n",
    "                                              n_elect_per_nmgy)[0:2]\n",
    "\n",
    "\n",
    "    axarr[0].plot(mag_vec[:-1], completeness_vec, '--x', label = 'starnet_iter' + str(iteration))\n",
    "        \n",
    "    tpr_vec, mag_vec = \\\n",
    "        image_statistics_lib.get_tpr_vec(map_locs_full_image.squeeze(), \n",
    "                                               true_locs.squeeze(0), \n",
    "                                               star_encoder.full_slen, \n",
    "                                               map_fluxes_full_image.squeeze(0)[:, 0], \n",
    "                                               true_fluxes[0, :, 0], \n",
    "                                              n_elect_per_nmgy)[0:2]\n",
    "\n",
    "    axarr[1].plot(mag_vec[0:-1], tpr_vec, '--x', label = 'starnet_iter' + str(iteration))\n",
    "    \n",
    "    \n",
    "    print((map_fluxes_full_image**2).mean())\n",
    "    print((map_locs_full_image**2).mean())\n",
    "    \n",
    "axarr[0].legend()\n",
    "axarr[0].set_xlabel('true mag')\n",
    "axarr[0].set_ylabel('completeness')\n",
    "\n",
    "axarr[1].legend()\n",
    "axarr[1].set_xlabel('estimated mag')\n",
    "axarr[1].set_ylabel('tpr')"
   ]
  },
  {
   "cell_type": "code",
   "execution_count": null,
   "metadata": {},
   "outputs": [],
   "source": [
    "map_fluxes_full_image"
   ]
  },
  {
   "cell_type": "code",
   "execution_count": null,
   "metadata": {},
   "outputs": [],
   "source": [
    "(true_fluxes**2).mean()"
   ]
  },
  {
   "cell_type": "code",
   "execution_count": null,
   "metadata": {},
   "outputs": [],
   "source": [
    "completeness_all"
   ]
  },
  {
   "cell_type": "code",
   "execution_count": null,
   "metadata": {},
   "outputs": [],
   "source": [
    "tpr_all"
   ]
  },
  {
   "cell_type": "code",
   "execution_count": null,
   "metadata": {},
   "outputs": [],
   "source": []
  },
  {
   "cell_type": "code",
   "execution_count": null,
   "metadata": {},
   "outputs": [],
   "source": []
  },
  {
   "cell_type": "code",
   "execution_count": null,
   "metadata": {},
   "outputs": [],
   "source": []
  },
  {
   "cell_type": "code",
   "execution_count": null,
   "metadata": {},
   "outputs": [],
   "source": []
  },
  {
   "cell_type": "code",
   "execution_count": null,
   "metadata": {},
   "outputs": [],
   "source": []
  }
 ],
 "metadata": {
  "kernelspec": {
   "display_name": "pytorch_update",
   "language": "python",
   "name": "pytorch_update"
  },
  "language_info": {
   "codemirror_mode": {
    "name": "ipython",
    "version": 3
   },
   "file_extension": ".py",
   "mimetype": "text/x-python",
   "name": "python",
   "nbconvert_exporter": "python",
   "pygments_lexer": "ipython3",
   "version": "3.6.8"
  }
 },
 "nbformat": 4,
 "nbformat_minor": 2
}

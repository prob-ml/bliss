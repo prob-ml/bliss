{
 "cells": [
  {
   "cell_type": "code",
   "execution_count": null,
   "metadata": {},
   "outputs": [],
   "source": [
    "import numpy as np\n",
    "import pathlib \n",
    "\n",
    "import matplotlib.pyplot as plt\n",
    "\n",
    "import torch\n",
    "\n",
    "from torch.utils.data import Dataset\n",
    "\n",
    "import sys\n",
    "sys.path.insert(0, '../')\n",
    "import sdss_dataset_lib\n",
    "import sdss_psf\n",
    "\n",
    "from astropy.io import fits\n",
    "from astropy.wcs import WCS\n",
    "\n",
    "device = torch.device(\"cuda:0\" if torch.cuda.is_available() else \"cpu\")\n",
    "\n",
    "import os"
   ]
  },
  {
   "cell_type": "code",
   "execution_count": null,
   "metadata": {},
   "outputs": [],
   "source": []
  },
  {
   "cell_type": "code",
   "execution_count": null,
   "metadata": {},
   "outputs": [],
   "source": [
    "# load data\n",
    "bands = [2, 3]\n",
    "x0 = 630\n",
    "x1 = 310\n",
    "sdss_hubble_data = sdss_dataset_lib.SDSSHubbleData(x0 = x0,\n",
    "                                                    x1 = x1, \n",
    "                                                    bands = bands, \n",
    "                                                    background_bias = torch.Tensor([167., 222.]))\n"
   ]
  },
  {
   "cell_type": "code",
   "execution_count": null,
   "metadata": {},
   "outputs": [],
   "source": []
  },
  {
   "cell_type": "code",
   "execution_count": null,
   "metadata": {},
   "outputs": [],
   "source": [
    "# the full image\n",
    "plt.matshow(sdss_hubble_data.sdss_image_full[0])"
   ]
  },
  {
   "cell_type": "code",
   "execution_count": null,
   "metadata": {},
   "outputs": [],
   "source": [
    "# check the hubble coordinates overlap with the globular cluster\n",
    "plt.matshow(sdss_hubble_data.sdss_image_full[0])\n",
    "plt.plot(sdss_hubble_data.locs_full_x1, \n",
    "         sdss_hubble_data.locs_full_x0, alpha = 0.2)"
   ]
  },
  {
   "cell_type": "code",
   "execution_count": null,
   "metadata": {},
   "outputs": [],
   "source": [
    "# check patch \n",
    "\n",
    "for i in range(len(bands)):\n",
    "    plt.matshow(sdss_hubble_data.sdss_image[i])\n",
    "    plt.colorbar()\n"
   ]
  },
  {
   "cell_type": "code",
   "execution_count": null,
   "metadata": {},
   "outputs": [],
   "source": [
    "# check alignment between bands \n",
    "\n",
    "if len(bands) > 1: \n",
    "    band_diff = (sdss_hubble_data.sdss_image[1]) - \\\n",
    "                (sdss_hubble_data.sdss_image[0])\n",
    "\n",
    "    plt.matshow(band_diff, vmax = band_diff.abs().max(), vmin = -band_diff.abs().max(), \n",
    "                cmap = plt.get_cmap('bwr'))\n",
    "\n",
    "    plt.colorbar()"
   ]
  },
  {
   "cell_type": "markdown",
   "metadata": {},
   "source": [
    "# Distribution of colors"
   ]
  },
  {
   "cell_type": "code",
   "execution_count": null,
   "metadata": {},
   "outputs": [],
   "source": [
    "if len(bands) > 1: \n",
    "    foo = (sdss_hubble_data.sdss_image[1]) / \\\n",
    "                (sdss_hubble_data.sdss_image[0])\n",
    "\n",
    "    foo = torch.log10(foo).flatten() * (2.5)\n",
    "    plt.hist(foo, bins = 100);\n",
    "\n",
    "    print(foo.mean())\n",
    "    print(foo.var().sqrt())"
   ]
  },
  {
   "cell_type": "code",
   "execution_count": null,
   "metadata": {},
   "outputs": [],
   "source": [
    "if len(bands) > 1: \n",
    "\n",
    "    foo = (sdss_hubble_data.fluxes[:, 1]) / \\\n",
    "                (sdss_hubble_data.fluxes[:, 0])\n",
    "\n",
    "    foo = torch.log10(foo).flatten() * (2.5)\n",
    "    plt.hist(foo, bins = 100);\n",
    "\n",
    "    print(foo.mean())\n",
    "    print(foo.var().sqrt())"
   ]
  },
  {
   "cell_type": "code",
   "execution_count": null,
   "metadata": {},
   "outputs": [],
   "source": []
  },
  {
   "cell_type": "markdown",
   "metadata": {},
   "source": [
    "# plot a few subimages"
   ]
  },
  {
   "cell_type": "code",
   "execution_count": null,
   "metadata": {},
   "outputs": [],
   "source": [
    "fmin = 500."
   ]
  },
  {
   "cell_type": "code",
   "execution_count": null,
   "metadata": {},
   "outputs": [],
   "source": [
    "import plotting_utils"
   ]
  },
  {
   "cell_type": "code",
   "execution_count": null,
   "metadata": {},
   "outputs": [],
   "source": [
    "x0_vec = np.arange(0, 100, 10)\n",
    "x1_vec = x0_vec"
   ]
  },
  {
   "cell_type": "code",
   "execution_count": null,
   "metadata": {},
   "outputs": [],
   "source": [
    "for i in range(6): \n",
    "    x0 = int(np.random.choice(x0_vec, 1))\n",
    "    x1 = int(np.random.choice(x1_vec, 1))\n",
    "    \n",
    "    which_bright = (sdss_hubble_data.fluxes > fmin)[:, 0]\n",
    "    \n",
    "    f, axarr = plt.subplots(1, 3, figsize=(16, 4))\n",
    "    plotting_utils.plot_subimage(axarr[0], \n",
    "                                sdss_hubble_data.sdss_image[0], \n",
    "                                None, \n",
    "                                sdss_hubble_data.locs[which_bright], \n",
    "                                x0, x1, \n",
    "                                subimage_slen = 10, \n",
    "                                add_colorbar = True, \n",
    "                                global_fig = f)\n",
    "    axarr[0].set_title('band ' + str(bands[0]))\n",
    "    \n",
    "    if len(bands) > 1: \n",
    "        plotting_utils.plot_subimage(axarr[1], \n",
    "                                    sdss_hubble_data.sdss_image[1], \n",
    "                                    None, \n",
    "                                    sdss_hubble_data.locs[which_bright], \n",
    "                                    x0, x1, \n",
    "                                    subimage_slen = 10, \n",
    "                                    add_colorbar = True, \n",
    "                                    global_fig = f)\n",
    "        axarr[1].set_title('band ' + str(bands[1]))\n",
    "\n",
    "        plotting_utils.plot_subimage(axarr[2], \n",
    "                                    (sdss_hubble_data.sdss_image[1]) - \\\n",
    "                                     (sdss_hubble_data.sdss_image[0]), \n",
    "                                    None, \n",
    "                                    sdss_hubble_data.locs[which_bright], \n",
    "                                    x0, x1, \n",
    "                                    subimage_slen = 10, \n",
    "                                    add_colorbar = True, \n",
    "                                    global_fig = f, \n",
    "                                    diverging_cmap = True)"
   ]
  },
  {
   "cell_type": "code",
   "execution_count": null,
   "metadata": {},
   "outputs": [],
   "source": []
  },
  {
   "cell_type": "code",
   "execution_count": null,
   "metadata": {},
   "outputs": [],
   "source": []
  },
  {
   "cell_type": "markdown",
   "metadata": {},
   "source": [
    "# Test my simulator"
   ]
  },
  {
   "cell_type": "code",
   "execution_count": null,
   "metadata": {},
   "outputs": [],
   "source": [
    "import simulated_datasets_lib\n",
    "import fitsio"
   ]
  },
  {
   "cell_type": "code",
   "execution_count": null,
   "metadata": {},
   "outputs": [],
   "source": [
    "# load psf \n",
    "psf_dir = '../data/'\n",
    "psf_r = fitsio.FITS(psf_dir + 'sdss-002583-2-0136-psf-r.fits')[0].read()\n",
    "psf_i = fitsio.FITS(psf_dir + 'sdss-002583-2-0136-psf-i.fits')[0].read()\n",
    "psf_og = np.array([psf_r, psf_i])\n"
   ]
  },
  {
   "cell_type": "code",
   "execution_count": null,
   "metadata": {},
   "outputs": [],
   "source": [
    "sky_intensity = sdss_hubble_data.sdss_background.reshape(len(bands), -1).mean(1)\n",
    "\n",
    "# background_bias = torch.Tensor([168., 222.])\n",
    "# sky_intensity = sky_intensity + background_bias\n",
    "\n",
    "simulator = simulated_datasets_lib.StarSimulator(psf = torch.Tensor(psf_og),\n",
    "                                    slen = sdss_hubble_data.slen, \n",
    "                                    transpose_psf = False, \n",
    "                                    sky_intensity = sky_intensity)"
   ]
  },
  {
   "cell_type": "code",
   "execution_count": null,
   "metadata": {},
   "outputs": [],
   "source": [
    "simulator.sky_intensity"
   ]
  },
  {
   "cell_type": "code",
   "execution_count": null,
   "metadata": {},
   "outputs": [],
   "source": [
    "filter_by_bright = False"
   ]
  },
  {
   "cell_type": "code",
   "execution_count": null,
   "metadata": {},
   "outputs": [],
   "source": [
    "if filter_by_bright: \n",
    "    \n",
    "    which_bright = sdss_hubble_data.fluxes[:, 0] > fmin\n",
    "    \n",
    "    _locs = sdss_hubble_data.locs[which_bright].unsqueeze(0)\n",
    "    _fluxes = sdss_hubble_data.fluxes[which_bright].unsqueeze(0)\n",
    "    _n_stars = torch.Tensor([len(_locs[0])]).type(torch.LongTensor)\n",
    "else: \n",
    "    _fluxes = sdss_hubble_data.fluxes.unsqueeze(0)\n",
    "    _locs = sdss_hubble_data.locs.unsqueeze(0)\n",
    "    _n_stars = torch.Tensor([len(sdss_hubble_data.locs)]).type(torch.LongTensor)"
   ]
  },
  {
   "cell_type": "code",
   "execution_count": null,
   "metadata": {},
   "outputs": [],
   "source": [
    "_n_stars"
   ]
  },
  {
   "cell_type": "code",
   "execution_count": null,
   "metadata": {},
   "outputs": [],
   "source": [
    "plt.hist(sdss_dataset_lib.convert_nmgy_to_mag(_fluxes.flatten() / \n",
    "                                              sdss_hubble_data.nelec_per_nmgy.mean()), bins = 100);"
   ]
  },
  {
   "cell_type": "code",
   "execution_count": null,
   "metadata": {
    "code_folding": []
   },
   "outputs": [],
   "source": [
    "recon_mean = simulator.draw_image_from_params(locs = _locs, \n",
    "                                                fluxes = _fluxes, \n",
    "                                                n_stars = _n_stars, \n",
    "                                                add_noise = False) "
   ]
  },
  {
   "cell_type": "code",
   "execution_count": null,
   "metadata": {},
   "outputs": [],
   "source": [
    "for i in range(len(bands)): \n",
    "    f, axarr = plt.subplots(1, 3, figsize=(16, 4))\n",
    "\n",
    "    observed = sdss_hubble_data.sdss_image\n",
    "    im0 = axarr[0].matshow(observed[i])\n",
    "    f.colorbar(im0, ax=axarr[0])\n",
    "    axarr[0].set_title('observed, band = ' + str(bands[i]))\n",
    "\n",
    "\n",
    "    im1 = axarr[1].matshow(recon_mean[0, i])\n",
    "    f.colorbar(im1, ax=axarr[1])\n",
    "    axarr[1].set_title('recon, band = ' + str(bands[i]))\n",
    "\n",
    "    residual = recon_mean[0,i] - observed[i]\n",
    "    foo = (residual / observed[i])\n",
    "    im2 = axarr[2].matshow(foo, vmax = foo.abs().max(), vmin = - foo.abs().max(), cmap = plt.get_cmap('bwr'))\n",
    "    f.colorbar(im2, ax=axarr[2])\n",
    "    axarr[2].set_title('recon - obse, band = ' + str(bands[i]))"
   ]
  },
  {
   "cell_type": "code",
   "execution_count": null,
   "metadata": {},
   "outputs": [],
   "source": [
    "residual = (recon_mean[0,0] - observed[0])"
   ]
  },
  {
   "cell_type": "code",
   "execution_count": null,
   "metadata": {},
   "outputs": [],
   "source": [
    "residual[5:95, 5:95].median()"
   ]
  },
  {
   "cell_type": "code",
   "execution_count": null,
   "metadata": {},
   "outputs": [],
   "source": [
    "sdss_hubble_data.sdss_background.reshape(2, -1).mean(1)"
   ]
  },
  {
   "cell_type": "code",
   "execution_count": null,
   "metadata": {},
   "outputs": [],
   "source": [
    "plt.hist(residual.flatten().clamp(min = -2000), bins = 100);"
   ]
  },
  {
   "cell_type": "code",
   "execution_count": null,
   "metadata": {},
   "outputs": [],
   "source": []
  },
  {
   "cell_type": "code",
   "execution_count": null,
   "metadata": {},
   "outputs": [],
   "source": [
    "### plot some subimages \n",
    "f, axarr = plt.subplots(1, 3, figsize=(16, 4))\n",
    "\n",
    "x0_vec = np.arange(0, 100, 10)\n",
    "x1_vec = x0_vec\n",
    "\n",
    "x0 = int(np.random.choice(x0_vec, 1))\n",
    "x1 = int(np.random.choice(x1_vec, 1))\n",
    "\n",
    "print([x0, x1])\n",
    "\n",
    "plotting_utils.plot_subimage(axarr[0], \n",
    "                            observed[0], \n",
    "                            None, \n",
    "                            sdss_hubble_data.locs[which_bright], \n",
    "                            x0, x1, \n",
    "                            subimage_slen = 10, \n",
    "                            add_colorbar = True, \n",
    "                            global_fig = f)\n",
    "\n",
    "\n",
    "plotting_utils.plot_subimage(axarr[1], \n",
    "                            recon_mean[0, 0], \n",
    "                            None, \n",
    "                            sdss_hubble_data.locs[which_bright], \n",
    "                            x0, x1, \n",
    "                            subimage_slen = 10, \n",
    "                            add_colorbar = True, \n",
    "                            global_fig = f)\n",
    "\n",
    "plotting_utils.plot_subimage(axarr[2], \n",
    "                            (recon_mean[0, 0] - observed[0]) / observed[0], \n",
    "                            None, \n",
    "                            sdss_hubble_data.locs[which_bright], \n",
    "                            x0, x1, \n",
    "                            subimage_slen = 10, \n",
    "                            add_colorbar = True, \n",
    "                            global_fig = f, \n",
    "                            diverging_cmap = True)"
   ]
  },
  {
   "cell_type": "code",
   "execution_count": null,
   "metadata": {},
   "outputs": [],
   "source": []
  },
  {
   "cell_type": "markdown",
   "metadata": {},
   "source": [
    " # Estimate background"
   ]
  },
  {
   "cell_type": "code",
   "execution_count": null,
   "metadata": {},
   "outputs": [],
   "source": [
    "band = 1"
   ]
  },
  {
   "cell_type": "code",
   "execution_count": null,
   "metadata": {},
   "outputs": [],
   "source": [
    "obs = sdss_hubble_data.sdss_image.numpy()[band, 5:95, 5:95]\n",
    "recon = recon_mean.squeeze(0)[band, 5:95, 5:95].numpy()"
   ]
  },
  {
   "cell_type": "code",
   "execution_count": null,
   "metadata": {},
   "outputs": [],
   "source": [
    "objective_fun = lambda background_bias : ((obs - (recon + background_bias))**2 / (recon + background_bias)).sum()"
   ]
  },
  {
   "cell_type": "code",
   "execution_count": null,
   "metadata": {},
   "outputs": [],
   "source": [
    "from scipy.optimize import minimize"
   ]
  },
  {
   "cell_type": "code",
   "execution_count": null,
   "metadata": {},
   "outputs": [],
   "source": [
    "import autograd"
   ]
  },
  {
   "cell_type": "code",
   "execution_count": null,
   "metadata": {},
   "outputs": [],
   "source": [
    "x0 = np.zeros(1)"
   ]
  },
  {
   "cell_type": "code",
   "execution_count": null,
   "metadata": {},
   "outputs": [],
   "source": [
    "estimate_background = True\n",
    "if estimate_background: \n",
    "    out = minimize(fun = objective_fun, \n",
    "        x0 = x0, \n",
    "        jac = autograd.jacobian(objective_fun), \n",
    "        method = 'BFGS')"
   ]
  },
  {
   "cell_type": "code",
   "execution_count": null,
   "metadata": {},
   "outputs": [],
   "source": [
    "out"
   ]
  },
  {
   "cell_type": "code",
   "execution_count": null,
   "metadata": {},
   "outputs": [],
   "source": [
    "sky_intensity[band].numpy() + out.x"
   ]
  },
  {
   "cell_type": "code",
   "execution_count": null,
   "metadata": {},
   "outputs": [],
   "source": []
  },
  {
   "cell_type": "code",
   "execution_count": null,
   "metadata": {},
   "outputs": [],
   "source": []
  },
  {
   "cell_type": "markdown",
   "metadata": {},
   "source": [
    "# Estimate power law"
   ]
  },
  {
   "cell_type": "code",
   "execution_count": null,
   "metadata": {},
   "outputs": [],
   "source": [
    "import autograd.numpy as anp"
   ]
  },
  {
   "cell_type": "code",
   "execution_count": null,
   "metadata": {},
   "outputs": [],
   "source": [
    "fluxes = sdss_hubble_data.fluxes.squeeze()[sdss_hubble_data.fluxes.squeeze() > 1e3].numpy()"
   ]
  },
  {
   "cell_type": "code",
   "execution_count": null,
   "metadata": {},
   "outputs": [],
   "source": [
    "negloglik = lambda log_alpha : - (log_alpha + anp.exp(log_alpha) * anp.log(1e3) - \\\n",
    "                                  (anp.exp(log_alpha) + 1) * anp.log(fluxes)).sum()"
   ]
  },
  {
   "cell_type": "code",
   "execution_count": null,
   "metadata": {},
   "outputs": [],
   "source": [
    "minimize(fun = negloglik, \n",
    "        x0 = np.log([0.5]), \n",
    "        jac = autograd.jacobian(negloglik), \n",
    "        method = 'BFGS')"
   ]
  },
  {
   "cell_type": "code",
   "execution_count": null,
   "metadata": {},
   "outputs": [],
   "source": [
    "np.exp(-0.27348425)"
   ]
  },
  {
   "cell_type": "code",
   "execution_count": null,
   "metadata": {},
   "outputs": [],
   "source": [
    "sim_fluxes = simulated_datasets_lib._draw_pareto(alpha = 0.5, f_min = 1e3, shape = (1000, ))"
   ]
  },
  {
   "cell_type": "code",
   "execution_count": null,
   "metadata": {},
   "outputs": [],
   "source": [
    "bins = plt.hist(np.log(fluxes));\n",
    "plt.hist(np.log(sim_fluxes), alpha = 0.76, bins = bins[1]);"
   ]
  },
  {
   "cell_type": "code",
   "execution_count": null,
   "metadata": {},
   "outputs": [],
   "source": []
  },
  {
   "cell_type": "markdown",
   "metadata": {},
   "source": [
    "# Check distribution on image stamps"
   ]
  },
  {
   "cell_type": "code",
   "execution_count": null,
   "metadata": {},
   "outputs": [],
   "source": [
    "import image_utils"
   ]
  },
  {
   "cell_type": "code",
   "execution_count": null,
   "metadata": {},
   "outputs": [],
   "source": [
    "sdss_hubble_data.sdss_image.shape"
   ]
  },
  {
   "cell_type": "code",
   "execution_count": null,
   "metadata": {},
   "outputs": [],
   "source": [
    "image_stamps = \\\n",
    "    image_utils.tile_images(sdss_hubble_data.sdss_image.unsqueeze(0),\n",
    "                            subimage_slen = 9,\n",
    "                            step = 2)"
   ]
  },
  {
   "cell_type": "code",
   "execution_count": null,
   "metadata": {},
   "outputs": [],
   "source": [
    "image_stamps.shape"
   ]
  },
  {
   "cell_type": "code",
   "execution_count": null,
   "metadata": {},
   "outputs": [],
   "source": [
    "tile_coords = image_utils.get_tile_coords(sdss_hubble_data.sdss_image.shape[-1], \n",
    "                                          sdss_hubble_data.sdss_image.shape[-1],\n",
    "                                        subimage_slen = 9, \n",
    "                                          step = 2);"
   ]
  },
  {
   "cell_type": "code",
   "execution_count": null,
   "metadata": {},
   "outputs": [],
   "source": [
    "sdss_hubble_data.fluxes.shape"
   ]
  },
  {
   "cell_type": "code",
   "execution_count": null,
   "metadata": {},
   "outputs": [],
   "source": [
    "subimage_locs, subimage_fluxes, n_stars, is_on_array = \\\n",
    "    image_utils.get_params_in_patches(tile_coords,\n",
    "                                      sdss_hubble_data.locs[sdss_hubble_data.fluxes[:, 0] > fmin].unsqueeze(0),\n",
    "                                      sdss_hubble_data.fluxes[sdss_hubble_data.fluxes[:, 0] > fmin].unsqueeze(0),\n",
    "                                      sdss_hubble_data.sdss_image.shape[-1],\n",
    "                                      subimage_slen = 9,\n",
    "                                      edge_padding = 3)"
   ]
  },
  {
   "cell_type": "code",
   "execution_count": null,
   "metadata": {},
   "outputs": [],
   "source": [
    "from torch.distributions.poisson import Poisson"
   ]
  },
  {
   "cell_type": "code",
   "execution_count": null,
   "metadata": {},
   "outputs": [],
   "source": [
    "poisson_distr = Poisson(rate = 0.4)"
   ]
  },
  {
   "cell_type": "code",
   "execution_count": null,
   "metadata": {},
   "outputs": [],
   "source": [
    "x = np.arange(0, 7)\n",
    "h = plt.hist(n_stars, x)\n",
    "\n",
    "plt.plot(torch.Tensor(h[1]), \n",
    "            h[0].sum() * torch.exp(poisson_distr.log_prob(torch.Tensor(h[1]))), \n",
    "           marker = 'x', color = 'red')"
   ]
  },
  {
   "cell_type": "code",
   "execution_count": null,
   "metadata": {},
   "outputs": [],
   "source": []
  },
  {
   "cell_type": "code",
   "execution_count": null,
   "metadata": {},
   "outputs": [],
   "source": []
  },
  {
   "cell_type": "code",
   "execution_count": null,
   "metadata": {},
   "outputs": [],
   "source": []
  },
  {
   "cell_type": "code",
   "execution_count": null,
   "metadata": {},
   "outputs": [],
   "source": []
  }
 ],
 "metadata": {
  "kernelspec": {
   "display_name": "pytorch_update",
   "language": "python",
   "name": "pytorch_update"
  },
  "language_info": {
   "codemirror_mode": {
    "name": "ipython",
    "version": 3
   },
   "file_extension": ".py",
   "mimetype": "text/x-python",
   "name": "python",
   "nbconvert_exporter": "python",
   "pygments_lexer": "ipython3",
   "version": "3.6.8"
  }
 },
 "nbformat": 4,
 "nbformat_minor": 2
}

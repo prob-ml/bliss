{
 "cells": [
  {
   "cell_type": "code",
   "execution_count": null,
   "metadata": {},
   "outputs": [],
   "source": [
    "import numpy as np\n",
    "\n",
    "import matplotlib.pyplot as plt\n",
    "\n",
    "import torch\n",
    "import torch.optim as optim\n",
    "\n",
    "import fitsio \n",
    "\n",
    "import sys\n",
    "sys.path.insert(0, './../')\n",
    "import sdss_psf\n",
    "import simulated_datasets_lib\n",
    "import starnet_lib\n",
    "import sdss_dataset_lib\n",
    "import plotting_utils\n",
    "import image_statistics_lib\n",
    "import psf_transform_lib\n",
    "import utils\n",
    "\n",
    "import sleep_lib\n",
    "\n",
    "import image_utils\n",
    "\n",
    "import time\n",
    "\n",
    "import json\n",
    "\n",
    "device = torch.device(\"cuda:0\" if torch.cuda.is_available() else \"cpu\")\n",
    "\n",
    "print('torch version: ', torch.__version__)\n",
    "\n",
    "from copy import deepcopy"
   ]
  },
  {
   "cell_type": "code",
   "execution_count": null,
   "metadata": {},
   "outputs": [],
   "source": [
    "import fitsio"
   ]
  },
  {
   "cell_type": "code",
   "execution_count": null,
   "metadata": {},
   "outputs": [],
   "source": [
    "np.random.seed(453)\n",
    "_ = torch.manual_seed(786)"
   ]
  },
  {
   "cell_type": "markdown",
   "metadata": {},
   "source": [
    "# Data parameters"
   ]
  },
  {
   "cell_type": "code",
   "execution_count": null,
   "metadata": {},
   "outputs": [],
   "source": [
    "# data parameters\n",
    "with open('../data/default_star_parameters.json', 'r') as fp:\n",
    "    data_params = json.load(fp)"
   ]
  },
  {
   "cell_type": "code",
   "execution_count": null,
   "metadata": {},
   "outputs": [],
   "source": [
    "data_params"
   ]
  },
  {
   "cell_type": "markdown",
   "metadata": {},
   "source": [
    "# The PSF"
   ]
  },
  {
   "cell_type": "code",
   "execution_count": null,
   "metadata": {},
   "outputs": [],
   "source": [
    "bands = [2, 3]\n",
    "psfield_file = '../../celeste_net/sdss_stage_dir/2583/2/136/psField-002583-2-0136.fit'\n",
    "init_psf_params = psf_transform_lib.get_psf_params(\n",
    "                                    psfield_file,\n",
    "                                    bands = bands)\n",
    "# init_psf_params = torch.Tensor(np.load('../data/fitted_powerlaw_psf_params.npy'))\n",
    "power_law_psf = psf_transform_lib.PowerLawPSF(init_psf_params.to(device))\n",
    "psf_og = power_law_psf.forward().detach()\n"
   ]
  },
  {
   "cell_type": "code",
   "execution_count": null,
   "metadata": {},
   "outputs": [],
   "source": [
    "plt.matshow(simulated_datasets_lib._trim_psf(psf_og, 15)[0])"
   ]
  },
  {
   "cell_type": "code",
   "execution_count": null,
   "metadata": {},
   "outputs": [],
   "source": [
    "psf_og.shape"
   ]
  },
  {
   "cell_type": "code",
   "execution_count": null,
   "metadata": {},
   "outputs": [],
   "source": [
    "n_elect_per_nmgy = 856."
   ]
  },
  {
   "cell_type": "markdown",
   "metadata": {},
   "source": [
    "# Draw data"
   ]
  },
  {
   "cell_type": "code",
   "execution_count": null,
   "metadata": {},
   "outputs": [],
   "source": [
    "import wake_lib\n",
    "# init_background_params = torch.zeros(len(bands), 3).to(device)\n",
    "# init_background_params[:, 0] = torch.Tensor([686., 1123.])\n",
    "init_background_params = torch.Tensor(np.load('../data/fitted_planar_backgrounds.npy'))\n",
    "planar_background = wake_lib.PlanarBackground(image_slen = data_params['slen'],\n",
    "                            init_background_params = init_background_params.to(device))\n",
    "background = planar_background.forward().detach()\n"
   ]
  },
  {
   "cell_type": "code",
   "execution_count": null,
   "metadata": {},
   "outputs": [],
   "source": [
    "# Draw from the same distribution I used in the sleep phase\n",
    "n_images = 1\n",
    "\n",
    "simulated_dataset = \\\n",
    "    simulated_datasets_lib.load_dataset_from_params(psf_og,\n",
    "                    data_params,\n",
    "                    background = background,\n",
    "                    n_images = n_images,\n",
    "                    transpose_psf = False, \n",
    "                    add_noise = True)\n",
    "\n",
    "images = simulated_dataset.images.detach()\n",
    "backgrounds = simulated_dataset.background.detach()\n",
    "        \n",
    "which_on = (simulated_dataset.fluxes > 0).any(2).squeeze()\n",
    "        \n",
    "true_locs = simulated_dataset.locs[:, which_on, :]\n",
    "true_fluxes = simulated_dataset.fluxes[:, which_on, :]\n",
    "        \n",
    "simulator = simulated_dataset.simulator"
   ]
  },
  {
   "cell_type": "code",
   "execution_count": null,
   "metadata": {},
   "outputs": [],
   "source": [
    "b = 0\n",
    "plt.matshow(images[0, b])"
   ]
  },
  {
   "cell_type": "code",
   "execution_count": null,
   "metadata": {},
   "outputs": [],
   "source": [
    "f, axarr = plt.subplots(1, 3, figsize=(16, 4))\n",
    "\n",
    "for i in range(3): \n",
    "    x0 = int(np.random.choice(images.shape[-1] - 10, 1))\n",
    "    x1 = int(np.random.choice(images.shape[-1] - 10, 1))\n",
    "\n",
    "    plotting_utils.plot_subimage(axarr[i], images[0, b],\n",
    "                                None, \n",
    "                                true_locs.squeeze(), \n",
    "                                x0, x1, \n",
    "                                patch_slen = 10, \n",
    "                                add_colorbar = True, \n",
    "                                global_fig = f)\n"
   ]
  },
  {
   "cell_type": "code",
   "execution_count": null,
   "metadata": {},
   "outputs": [],
   "source": [
    "images.min()"
   ]
  },
  {
   "cell_type": "code",
   "execution_count": null,
   "metadata": {},
   "outputs": [],
   "source": [
    "true_fluxes.shape"
   ]
  },
  {
   "cell_type": "code",
   "execution_count": null,
   "metadata": {},
   "outputs": [],
   "source": [
    "true_locs.shape"
   ]
  },
  {
   "cell_type": "code",
   "execution_count": null,
   "metadata": {},
   "outputs": [],
   "source": [
    "# histogram of fluxes\n",
    "for i in range(psf_og.shape[0]): \n",
    "    plt.hist(np.log10(true_fluxes[:, :, i].numpy().flatten()), bins = 50);"
   ]
  },
  {
   "cell_type": "code",
   "execution_count": null,
   "metadata": {},
   "outputs": [],
   "source": [
    "n_bands = len(bands)"
   ]
  },
  {
   "cell_type": "code",
   "execution_count": null,
   "metadata": {},
   "outputs": [],
   "source": [
    "if n_bands > 1: \n",
    "    # histogram of colors\n",
    "    colors = -2.5 * np.log10(true_fluxes[:, :, 1].numpy().flatten() / \\\n",
    "                      true_fluxes[:, :, 0].numpy().flatten())\n",
    "    plt.hist(colors, bins = 50);"
   ]
  },
  {
   "cell_type": "code",
   "execution_count": null,
   "metadata": {},
   "outputs": [],
   "source": [
    "# color x flux\n",
    "if n_bands > 1: \n",
    "    plt.scatter(colors, np.log10(true_fluxes[:, :, 0].numpy().flatten()), marker = 'x', alpha = 0.5)"
   ]
  },
  {
   "cell_type": "code",
   "execution_count": null,
   "metadata": {},
   "outputs": [],
   "source": [
    "images.min()"
   ]
  },
  {
   "cell_type": "code",
   "execution_count": null,
   "metadata": {},
   "outputs": [],
   "source": [
    "true_fluxes.min()"
   ]
  },
  {
   "cell_type": "markdown",
   "metadata": {},
   "source": [
    "# Load VAE"
   ]
  },
  {
   "cell_type": "code",
   "execution_count": null,
   "metadata": {},
   "outputs": [],
   "source": [
    "star_encoder = starnet_lib.StarEncoder(slen = data_params['slen'],\n",
    "                                            patch_slen = 8,\n",
    "                                            step = 2,\n",
    "                                            edge_padding = 3, \n",
    "                                            n_bands = n_bands,\n",
    "                                            max_detections = 2)"
   ]
  },
  {
   "cell_type": "code",
   "execution_count": null,
   "metadata": {},
   "outputs": [],
   "source": [
    "star_encoder.load_state_dict(torch.load('../fits/results_2020-02-27/starnet_ri',\n",
    "                               map_location=lambda storage, loc: storage))\n",
    "star_encoder.eval(); "
   ]
  },
  {
   "cell_type": "code",
   "execution_count": null,
   "metadata": {},
   "outputs": [],
   "source": [
    "# check loss \n",
    "loss, counter_loss, locs_loss, fluxes_loss, perm_indx = \\\n",
    "    sleep_lib.get_inv_kl_loss(star_encoder, images, backgrounds, \n",
    "                                true_locs, true_fluxes)[0:5]"
   ]
  },
  {
   "cell_type": "code",
   "execution_count": null,
   "metadata": {},
   "outputs": [],
   "source": [
    "print('loss: {:06f}'.format(loss))"
   ]
  },
  {
   "cell_type": "code",
   "execution_count": null,
   "metadata": {},
   "outputs": [],
   "source": [
    "print(counter_loss.mean())\n",
    "print(locs_loss.mean())\n",
    "print(fluxes_loss.mean())"
   ]
  },
  {
   "cell_type": "code",
   "execution_count": null,
   "metadata": {},
   "outputs": [],
   "source": []
  },
  {
   "cell_type": "markdown",
   "metadata": {},
   "source": [
    "# Get image patches"
   ]
  },
  {
   "cell_type": "code",
   "execution_count": null,
   "metadata": {},
   "outputs": [],
   "source": [
    "# get image patches\n",
    "image_patches, true_patch_locs, true_patch_fluxes, \\\n",
    "    true_patch_n_stars, true_is_on_array = \\\n",
    "        star_encoder.get_image_patches(images, true_locs, true_fluxes, \n",
    "                                      clip_max_stars = True)"
   ]
  },
  {
   "cell_type": "code",
   "execution_count": null,
   "metadata": {},
   "outputs": [],
   "source": [
    "foo = plt.hist(true_patch_n_stars, bins=np.arange(max(true_patch_n_stars) + 2))[0]\n",
    "# plt.plot(foo[0] / star_encoder.weights, 'x')"
   ]
  },
  {
   "cell_type": "code",
   "execution_count": null,
   "metadata": {},
   "outputs": [],
   "source": [
    "plt.hist(locs_loss.detach()[locs_loss != 0], bins = 100);"
   ]
  },
  {
   "cell_type": "markdown",
   "metadata": {},
   "source": [
    "\n",
    "# get inferred parameters on patches"
   ]
  },
  {
   "cell_type": "code",
   "execution_count": null,
   "metadata": {},
   "outputs": [],
   "source": [
    "# Note that these variational parameters are estimated using the true number of stars!\n",
    "patch_loc_mean, patch_loc_log_var, \\\n",
    "    patch_log_flux_mean, patch_log_flux_log_var, patch_log_probs = \\\n",
    "        star_encoder(image_patches, true_patch_n_stars)"
   ]
  },
  {
   "cell_type": "code",
   "execution_count": null,
   "metadata": {},
   "outputs": [],
   "source": [
    "map_n_stars_patches = torch.argmax(patch_log_probs, dim = 1).detach()"
   ]
  },
  {
   "cell_type": "code",
   "execution_count": null,
   "metadata": {},
   "outputs": [],
   "source": [
    "(map_n_stars_patches == true_patch_n_stars).float().mean()"
   ]
  },
  {
   "cell_type": "code",
   "execution_count": null,
   "metadata": {},
   "outputs": [],
   "source": [
    "plt.hist(map_n_stars_patches, bins = np.arange(star_encoder.max_detections + 2))\n",
    "plt.hist(true_patch_n_stars, bins = np.arange(star_encoder.max_detections + 2), alpha = 0.2)"
   ]
  },
  {
   "cell_type": "code",
   "execution_count": null,
   "metadata": {},
   "outputs": [],
   "source": []
  },
  {
   "cell_type": "code",
   "execution_count": null,
   "metadata": {},
   "outputs": [],
   "source": [
    "from itertools import permutations"
   ]
  },
  {
   "cell_type": "code",
   "execution_count": null,
   "metadata": {},
   "outputs": [],
   "source": [
    "perm_list = []\n",
    "for perm in permutations(range(star_encoder.max_detections)):\n",
    "    perm_list.append(perm)"
   ]
  },
  {
   "cell_type": "code",
   "execution_count": null,
   "metadata": {},
   "outputs": [],
   "source": [
    "perm = np.zeros((image_patches.shape[0], star_encoder.max_detections))\n",
    "for i in range(image_patches.shape[0]): \n",
    "    perm[i, :] = perm_list[perm_indx[i]]"
   ]
  },
  {
   "cell_type": "markdown",
   "metadata": {},
   "source": [
    "### check parameters"
   ]
  },
  {
   "cell_type": "code",
   "execution_count": null,
   "metadata": {},
   "outputs": [],
   "source": [
    "# permute true parameters \n",
    "def permute_params(locs, fluxes, perm): \n",
    "    batchsize = perm.shape[0]\n",
    "    max_stars = perm.shape[1]\n",
    "    \n",
    "    n_bands = fluxes.shape[-1]\n",
    "\n",
    "    locs_perm = torch.zeros((batchsize, max_stars, 2))\n",
    "    fluxes_perm = torch.zeros((batchsize, max_stars, n_bands))\n",
    "    seq_tensor = torch.LongTensor([i for i in range(batchsize)])\n",
    "\n",
    "    for i in range(max_stars):\n",
    "        locs_perm[:, i, :] = locs[seq_tensor, perm[:, i], :]\n",
    "        fluxes_perm[:, i, :] = fluxes[seq_tensor, perm[:, i], :]\n",
    "        \n",
    "    return locs_perm, fluxes_perm"
   ]
  },
  {
   "cell_type": "code",
   "execution_count": null,
   "metadata": {},
   "outputs": [],
   "source": [
    "locs_perm, log_fluxes_perm = permute_params(patch_loc_mean, patch_log_flux_mean, perm)\n",
    "log_var_locs_perm, log_var_log_fluxes_perm = \\\n",
    "    permute_params(patch_loc_log_var, patch_log_flux_log_var, perm)"
   ]
  },
  {
   "cell_type": "code",
   "execution_count": null,
   "metadata": {},
   "outputs": [],
   "source": [
    "map_patch_locs = (locs_perm * \\\n",
    "                     true_is_on_array.unsqueeze(2).float()).detach()\n",
    "map_patch_fluxes = \\\n",
    "    (torch.exp(log_fluxes_perm) * \\\n",
    "                           true_is_on_array.unsqueeze(2).float()).detach()"
   ]
  },
  {
   "cell_type": "code",
   "execution_count": null,
   "metadata": {},
   "outputs": [],
   "source": [
    "plt.plot(map_patch_locs.flatten()[map_patch_locs.flatten() > 0].detach(), \n",
    "         true_patch_locs.flatten()[true_patch_locs.flatten() > 0], '+')\n",
    "\n",
    "plt.plot(map_patch_locs.flatten()[map_patch_locs.flatten() > 0].detach(), \n",
    "         map_patch_locs.flatten()[map_patch_locs.flatten() > 0].detach(), '-')\n",
    "\n",
    "plt.xlabel('estimated')\n",
    "plt.ylabel('truth')"
   ]
  },
  {
   "cell_type": "code",
   "execution_count": null,
   "metadata": {},
   "outputs": [],
   "source": [
    "plt.plot(torch.log10(true_patch_fluxes.flatten()[true_patch_fluxes.flatten() > 0]), \n",
    "         torch.log10(map_patch_fluxes.flatten()[map_patch_fluxes.flatten() > 0].detach()), '+')\n",
    "\n",
    "plt.plot(torch.log10(map_patch_fluxes.flatten()[map_patch_fluxes.flatten() > 0].detach()), \n",
    "         torch.log10(map_patch_fluxes.flatten()[map_patch_fluxes.flatten() > 0].detach()), '-')\n",
    "\n",
    "plt.plot(torch.log10(map_patch_fluxes.flatten()[map_patch_fluxes.flatten() > 0].detach()), \n",
    "         torch.log10(map_patch_fluxes.flatten()[map_patch_fluxes.flatten() > 0].detach()) + 0.4, 'r:')\n",
    "\n",
    "plt.plot(torch.log10(map_patch_fluxes.flatten()[map_patch_fluxes.flatten() > 0].detach()), \n",
    "     torch.log10(map_patch_fluxes.flatten()[map_patch_fluxes.flatten() > 0].detach()) - 0.4, 'r:')\n",
    "\n",
    "plt.xlabel('truth')\n",
    "plt.ylabel('estimated')"
   ]
  },
  {
   "cell_type": "code",
   "execution_count": null,
   "metadata": {},
   "outputs": [],
   "source": [
    "est = log_fluxes_perm[true_patch_fluxes > 0]\n",
    "truth = torch.log(true_patch_fluxes[true_patch_fluxes > 0])\n",
    "\n",
    "est_sd = torch.exp(0.5 * log_var_log_fluxes_perm[true_patch_fluxes > 0])\n",
    "\n",
    "zscore = (est - truth) / est_sd\n",
    "\n",
    "plt.hist(zscore.detach(), bins = 50); "
   ]
  },
  {
   "cell_type": "code",
   "execution_count": null,
   "metadata": {},
   "outputs": [],
   "source": [
    "est = locs_perm[true_patch_locs > 0]\n",
    "truth = true_patch_locs[true_patch_locs > 0]\n",
    "\n",
    "est_sd = torch.exp(0.5 * log_var_locs_perm[true_patch_locs > 0])\n",
    "\n",
    "zscore = (est - truth) / est_sd\n",
    "\n",
    "plt.hist(zscore.detach(), bins = 50); "
   ]
  },
  {
   "cell_type": "code",
   "execution_count": null,
   "metadata": {},
   "outputs": [],
   "source": [
    "zscore.mean()"
   ]
  },
  {
   "cell_type": "code",
   "execution_count": null,
   "metadata": {},
   "outputs": [],
   "source": [
    "zscore.var()"
   ]
  },
  {
   "cell_type": "code",
   "execution_count": null,
   "metadata": {},
   "outputs": [],
   "source": []
  },
  {
   "cell_type": "code",
   "execution_count": null,
   "metadata": {},
   "outputs": [],
   "source": [
    "# Not just fluxes, but also color?\n",
    "if n_bands > 1: \n",
    "    map_color = \\\n",
    "        torch.log10(map_patch_fluxes[:, :, 1].flatten()[map_patch_fluxes[:, :, 1].flatten() > 0] / \\\n",
    "                            map_patch_fluxes[:, :, 0].flatten()[map_patch_fluxes[:, :, 0].flatten() > 0])\n",
    "\n",
    "    true_color = \\\n",
    "        torch.log10(true_patch_fluxes[:, :, 1].flatten()[true_patch_fluxes[:, :, 1].flatten() > 0] / \\\n",
    "                            true_patch_fluxes[:, :, 0].flatten()[true_patch_fluxes[:, :, 0].flatten() > 0])\n",
    "\n",
    "    plt.plot(map_color, true_color, 'x')\n",
    "    plt.plot(map_color, map_color, '-')"
   ]
  },
  {
   "cell_type": "code",
   "execution_count": null,
   "metadata": {},
   "outputs": [],
   "source": [
    "if n_bands > 1: \n",
    "    fig, axarr = plt.subplots(1, 2, figsize=(7, 4))\n",
    "\n",
    "    axarr[0].scatter(true_color, \n",
    "                     true_patch_fluxes[:, :, 1].flatten()[true_patch_fluxes[:, :, 1].flatten() > 0])\n",
    "\n",
    "    axarr[0].scatter(map_color, \n",
    "                     map_patch_fluxes[:, :, 1].flatten()[true_patch_fluxes[:, :, 1].flatten() > 0], )"
   ]
  },
  {
   "cell_type": "code",
   "execution_count": null,
   "metadata": {},
   "outputs": [],
   "source": []
  },
  {
   "cell_type": "code",
   "execution_count": null,
   "metadata": {},
   "outputs": [],
   "source": []
  },
  {
   "cell_type": "code",
   "execution_count": null,
   "metadata": {},
   "outputs": [],
   "source": []
  },
  {
   "cell_type": "markdown",
   "metadata": {},
   "source": [
    "# Check reconstructions "
   ]
  },
  {
   "cell_type": "code",
   "execution_count": null,
   "metadata": {},
   "outputs": [],
   "source": [
    "use_true_n_stars = False\n",
    "if use_true_n_stars: \n",
    "    _n_stars = true_patch_n_stars\n",
    "else: \n",
    "    _n_stars = None\n",
    "\n",
    "# get parameters on the full image \n",
    "map_locs, map_fluxes, map_n_stars = \\\n",
    "    star_encoder.sample_star_encoder(images, \n",
    "                                     return_map_n_stars = True,\n",
    "                                     return_map_star_params = True, \n",
    "                                     patch_n_stars = _n_stars)[0:3]\n",
    "    \n",
    "if _n_stars is not None: \n",
    "    assert map_n_stars == torch.sum(_n_stars)\n",
    "\n",
    "assert map_n_stars == map_locs.shape[1]\n",
    "assert map_n_stars == map_fluxes.shape[1]"
   ]
  },
  {
   "cell_type": "code",
   "execution_count": null,
   "metadata": {},
   "outputs": [],
   "source": [
    "plt.hist(torch.log10(map_fluxes.flatten()), bins = 100)\n",
    "foo = plt.hist(torch.log10(true_fluxes).flatten(), alpha = 0.5, bins = 100)[1]; "
   ]
  },
  {
   "cell_type": "code",
   "execution_count": null,
   "metadata": {},
   "outputs": [],
   "source": [
    "# get reconstructed mean\n",
    "vae_recon_mean = simulator.draw_image_from_params(locs = map_locs, \n",
    "                                                fluxes = map_fluxes,\n",
    "                                                 n_stars = map_n_stars, \n",
    "                                                 add_noise = False).detach()"
   ]
  },
  {
   "cell_type": "code",
   "execution_count": null,
   "metadata": {},
   "outputs": [],
   "source": [
    "band = 0"
   ]
  },
  {
   "cell_type": "code",
   "execution_count": null,
   "metadata": {},
   "outputs": [],
   "source": [
    "fig, axarr = plt.subplots(1, 3, figsize=(15, 4))\n",
    "im0 = axarr[0].matshow(images[0, band][5:95, 5:95])\n",
    "fig.colorbar(im0, ax = axarr[0])\n",
    "\n",
    "im1 = axarr[1].matshow(vae_recon_mean[0, band][5:95, 5:95])\n",
    "fig.colorbar(im1, ax = axarr[1])\n",
    "\n",
    "residual = torch.log10(vae_recon_mean[0, band]) - torch.log10(images[0, band])\n",
    "_residual = (residual * 2.5)[5:95, 5:95]\n",
    "# (torch.log(vae_recon_mean.squeeze()) - torch.log(images.squeeze()))[10:90, 10:90]\n",
    "vmax = _residual.abs().max()\n",
    "im2 = axarr[2].matshow(_residual, vmax = vmax, vmin = -vmax, cmap=plt.get_cmap('bwr'))\n",
    "fig.colorbar(im2, ax = axarr[2])"
   ]
  },
  {
   "cell_type": "code",
   "execution_count": null,
   "metadata": {},
   "outputs": [],
   "source": [
    "plt.hist(_residual.flatten())"
   ]
  },
  {
   "cell_type": "code",
   "execution_count": null,
   "metadata": {},
   "outputs": [],
   "source": [
    "torch.where(_residual < -2.5)"
   ]
  },
  {
   "cell_type": "code",
   "execution_count": null,
   "metadata": {},
   "outputs": [],
   "source": [
    "plt.matshow(_residual[40:50, 10:20]); \n",
    "plt.colorbar()"
   ]
  },
  {
   "cell_type": "code",
   "execution_count": null,
   "metadata": {},
   "outputs": [],
   "source": [
    "def get_which_tile(x0, x1, tile_coords, edge_padding, patch_slen): \n",
    "    coords = tile_coords + edge_padding\n",
    "    \n",
    "    view_slen = patch_slen - 2 * edge_padding\n",
    "    \n",
    "    indx = torch.where((x0 > coords[:, 0]) & \\\n",
    "                       (x0 < coords[:, 0] + view_slen) & \\\n",
    "                       (x1 > coords[:, 1]) & \\\n",
    "                       (x1 < coords[:, 1] + view_slen))\n",
    "        \n",
    "    return tile_coords[indx], indx"
   ]
  },
  {
   "cell_type": "code",
   "execution_count": null,
   "metadata": {},
   "outputs": [],
   "source": [
    "get_which_tile(21, 67, star_encoder.tile_coords, star_encoder.edge_padding, star_encoder.patch_slen)"
   ]
  },
  {
   "cell_type": "code",
   "execution_count": null,
   "metadata": {},
   "outputs": [],
   "source": []
  },
  {
   "cell_type": "markdown",
   "metadata": {},
   "source": [
    "# check image patches"
   ]
  },
  {
   "cell_type": "code",
   "execution_count": null,
   "metadata": {},
   "outputs": [],
   "source": [
    "f, axarr = plt.subplots(1, 3, figsize=(16, 4))\n",
    "\n",
    "indx = int(np.random.choice(image_patches.shape[0], 1))\n",
    "# indx = int(np.random.choice(torch.where(true_patch_n_stars == 2)[0].numpy(), 1))\n",
    "\n",
    "boo = plotting_utils.plot_subimage(axarr[0], images[0, band],\n",
    "                            map_locs.squeeze(), \n",
    "                            true_locs.squeeze(), \n",
    "                            int(star_encoder.tile_coords[indx, 0]), \n",
    "                            int(star_encoder.tile_coords[indx, 1]), \n",
    "                            patch_slen = star_encoder.patch_slen, \n",
    "                            add_colorbar = True, \n",
    "                            global_fig = f)\n",
    "\n",
    "plotting_utils.plot_subimage(axarr[1], vae_recon_mean[0, band],\n",
    "                            map_locs.squeeze(), \n",
    "                            None, \n",
    "                            int(star_encoder.tile_coords[indx, 0]), \n",
    "                            int(star_encoder.tile_coords[indx, 1]), \n",
    "                            patch_slen = star_encoder.patch_slen, \n",
    "                            add_colorbar = True, \n",
    "                            global_fig = f)\n",
    "\n",
    "foo = torch.log10(vae_recon_mean[0, band]) - torch.log10(images[0, band])\n",
    "plotting_utils.plot_subimage(axarr[2], foo * 2.5, \n",
    "                            map_locs.squeeze(), \n",
    "                            None, \n",
    "                            int(star_encoder.tile_coords[indx, 0]), \n",
    "                            int(star_encoder.tile_coords[indx, 1]), \n",
    "                            patch_slen = star_encoder.patch_slen, \n",
    "                            add_colorbar = True, \n",
    "                            global_fig = f, \n",
    "                            diverging_cmap = True)\n",
    "\n",
    "axarr[0].axvline(x=2.5, color = 'r')\n",
    "axarr[0].axvline(x=4.5, color = 'r')\n",
    "axarr[0].axhline(y=2.5, color = 'r')\n",
    "axarr[0].axhline(y=4.5, color = 'r')\n",
    "\n",
    "axarr[1].axvline(x=2.5, color = 'r')\n",
    "axarr[1].axvline(x=4.5, color = 'r')\n",
    "axarr[1].axhline(y=2.5, color = 'r')\n",
    "axarr[1].axhline(y=4.5, color = 'r')"
   ]
  },
  {
   "cell_type": "code",
   "execution_count": null,
   "metadata": {},
   "outputs": [],
   "source": [
    "sdss_dataset_lib.convert_nmgy_to_mag(true_fluxes[0, boo[0], :] / n_elect_per_nmgy)"
   ]
  },
  {
   "cell_type": "code",
   "execution_count": null,
   "metadata": {},
   "outputs": [],
   "source": [
    "sdss_dataset_lib.convert_nmgy_to_mag(map_fluxes[0, boo[1], :] / n_elect_per_nmgy)"
   ]
  },
  {
   "cell_type": "code",
   "execution_count": null,
   "metadata": {},
   "outputs": [],
   "source": [
    "true_locs[0, boo[0], :]"
   ]
  },
  {
   "cell_type": "code",
   "execution_count": null,
   "metadata": {},
   "outputs": [],
   "source": [
    "map_locs[0, boo[1], :]"
   ]
  },
  {
   "cell_type": "code",
   "execution_count": null,
   "metadata": {},
   "outputs": [],
   "source": []
  },
  {
   "cell_type": "markdown",
   "metadata": {},
   "source": [
    "# Check out some summary statistics "
   ]
  },
  {
   "cell_type": "code",
   "execution_count": null,
   "metadata": {},
   "outputs": [],
   "source": [
    "pad = 5"
   ]
  },
  {
   "cell_type": "code",
   "execution_count": null,
   "metadata": {},
   "outputs": [],
   "source": [
    "# tpr and ppv \n",
    "tpr, ppv, tpr_bool, ppv_bool = \\\n",
    "    image_statistics_lib.get_summary_stats(map_locs.squeeze(), \n",
    "                                           true_locs.squeeze(), \n",
    "                                           star_encoder.slen, \n",
    "                                           map_fluxes.squeeze(0)[:, 0], \n",
    "                                           true_fluxes.squeeze(0)[:, 0], \n",
    "                                          n_elect_per_nmgy, pad = pad)\n",
    "    \n",
    "print('tpr: {:0.3f}'.format(tpr))\n",
    "print('ppv: {:0.3f}'.format(ppv))"
   ]
  },
  {
   "cell_type": "code",
   "execution_count": null,
   "metadata": {},
   "outputs": [],
   "source": [
    "tpr_vec, mag_vec, counts = \\\n",
    "    image_statistics_lib.get_tpr_vec(map_locs.squeeze(), \n",
    "                                           true_locs.squeeze(), \n",
    "                                           star_encoder.slen, \n",
    "                                           map_fluxes.squeeze(0)[:, 0], \n",
    "                                           true_fluxes.squeeze(0)[:, 0], \n",
    "                                             n_elect_per_nmgy, pad = pad)\n",
    "\n",
    "plt.plot(mag_vec[0:-1], tpr_vec, '--x')\n",
    "plt.xlabel('true log flux')\n",
    "plt.ylabel('tpr')"
   ]
  },
  {
   "cell_type": "code",
   "execution_count": null,
   "metadata": {},
   "outputs": [],
   "source": [
    "ppv_vec, mag_vec = \\\n",
    "    image_statistics_lib.get_ppv_vec(map_locs.squeeze(), \n",
    "                                        true_locs.squeeze(), \n",
    "                                        star_encoder.slen, \n",
    "                                        map_fluxes.squeeze(0)[:, 0], \n",
    "                                        true_fluxes.squeeze(0)[:, 0], \n",
    "                                        n_elect_per_nmgy, pad = pad)[0:2]\n",
    "\n",
    "plt.plot(mag_vec[0:-1], ppv_vec, '--x')\n",
    "plt.xlabel('estimated log flux')\n",
    "plt.ylabel('ppv')"
   ]
  },
  {
   "cell_type": "code",
   "execution_count": null,
   "metadata": {},
   "outputs": [],
   "source": []
  },
  {
   "cell_type": "code",
   "execution_count": null,
   "metadata": {},
   "outputs": [],
   "source": []
  },
  {
   "cell_type": "markdown",
   "metadata": {},
   "source": [
    "# Posterior samples"
   ]
  },
  {
   "cell_type": "code",
   "execution_count": null,
   "metadata": {},
   "outputs": [],
   "source": [
    "n_samples = 5"
   ]
  },
  {
   "cell_type": "code",
   "execution_count": null,
   "metadata": {},
   "outputs": [],
   "source": [
    "sampled_locs, sampled_fluxes, sampled_n_stars = \\\n",
    "    star_encoder.sample_star_encoder(images,  \n",
    "                                     patch_n_stars = None, \n",
    "                                    return_map_n_stars = False,\n",
    "                                    return_map_star_params = False, \n",
    "                                    n_samples = n_samples)[0:3]"
   ]
  },
  {
   "cell_type": "code",
   "execution_count": null,
   "metadata": {},
   "outputs": [],
   "source": [
    "sampled_n_stars"
   ]
  },
  {
   "cell_type": "code",
   "execution_count": null,
   "metadata": {},
   "outputs": [],
   "source": [
    "sampled_fluxes.shape"
   ]
  },
  {
   "cell_type": "code",
   "execution_count": null,
   "metadata": {},
   "outputs": [],
   "source": [
    "tpr_sampled = torch.zeros(n_samples)\n",
    "ppv_sampled = torch.zeros(n_samples)\n",
    "for i in range(n_samples): \n",
    "    # tpr and ppv\n",
    "    n_stars_i = sampled_n_stars[i]\n",
    "    tpr_sampled[i], ppv_sampled[i] = \\\n",
    "        image_statistics_lib.get_summary_stats(sampled_locs[i][0:n_stars_i], \n",
    "                                               true_locs.squeeze(), \n",
    "                                               star_encoder.slen, \n",
    "                                               sampled_fluxes[i][0:n_stars_i, 0], \n",
    "                                               true_fluxes.squeeze(0)[:, 0], \n",
    "                                              n_elect_per_nmgy)[0:2]\n",
    "\n",
    "print('tpr: {:0.3f}'.format(tpr_sampled.mean()))\n",
    "print('true positive rate: {:0.3f}'.format(ppv_sampled.mean()))"
   ]
  },
  {
   "cell_type": "code",
   "execution_count": null,
   "metadata": {},
   "outputs": [],
   "source": [
    "# get reconstructed mean\n",
    "recon_sampled = simulator.draw_image_from_params(locs = sampled_locs, \n",
    "                                                fluxes = sampled_fluxes,\n",
    "                                                 n_stars = sampled_n_stars, \n",
    "                                                 add_noise = False).detach()"
   ]
  },
  {
   "cell_type": "code",
   "execution_count": null,
   "metadata": {},
   "outputs": [],
   "source": [
    "recon_sampled.shape"
   ]
  },
  {
   "cell_type": "code",
   "execution_count": null,
   "metadata": {},
   "outputs": [],
   "source": [
    "for i in range(n_samples): \n",
    "    fig, axarr = plt.subplots(1, 3, figsize=(15, 4))\n",
    "    im0 = axarr[0].matshow(images[0, band][5:95, 5:95])\n",
    "    fig.colorbar(im0, ax = axarr[0])\n",
    "\n",
    "    im1 = axarr[1].matshow(recon_sampled[i, band][5:95, 5:95])\n",
    "    fig.colorbar(im1, ax = axarr[1])\n",
    "\n",
    "    residual = torch.log10(recon_sampled[i, band]) - torch.log10(images[0, band])\n",
    "    _residual = (residual * 2.5)[5:95, 5:95]\n",
    "    # (torch.log(vae_recon_mean.squeeze()) - torch.log(images.squeeze()))[10:90, 10:90]\n",
    "    vmax = _residual.abs().max()\n",
    "    im2 = axarr[2].matshow(_residual, vmax = vmax, vmin = -vmax, cmap=plt.get_cmap('bwr'))\n",
    "    fig.colorbar(im2, ax = axarr[2])"
   ]
  },
  {
   "cell_type": "code",
   "execution_count": null,
   "metadata": {},
   "outputs": [],
   "source": [
    "indx = 1483 # int(np.random.choice(image_patches.shape[0], 1))\n",
    "\n",
    "f, axarr = plt.subplots(1, 3, figsize=(16, 4))\n",
    "plotting_utils.plot_subimage(axarr[0], images[0, band],\n",
    "                            map_locs.squeeze(), \n",
    "                            true_locs.squeeze(), \n",
    "                            int(star_encoder.tile_coords[indx, 0]), \n",
    "                            int(star_encoder.tile_coords[indx, 1]), \n",
    "                            patch_slen = star_encoder.patch_slen, \n",
    "                            add_colorbar = True, \n",
    "                            global_fig = f)\n",
    "\n",
    "plotting_utils.plot_subimage(axarr[1], vae_recon_mean[0, band],\n",
    "                            map_locs.squeeze(), \n",
    "                            None, \n",
    "                            int(star_encoder.tile_coords[indx, 0]), \n",
    "                            int(star_encoder.tile_coords[indx, 1]), \n",
    "                            patch_slen = star_encoder.patch_slen, \n",
    "                            add_colorbar = True, \n",
    "                            global_fig = f)\n",
    "\n",
    "foo = torch.log10(vae_recon_mean[0, band] / images[0, band])\n",
    "plotting_utils.plot_subimage(axarr[2], foo, \n",
    "                            map_locs.squeeze(), \n",
    "                            None, \n",
    "                            int(star_encoder.tile_coords[indx, 0]), \n",
    "                            int(star_encoder.tile_coords[indx, 1]), \n",
    "                            patch_slen = star_encoder.patch_slen, \n",
    "                            add_colorbar = True, \n",
    "                            global_fig = f, \n",
    "                            diverging_cmap = True)\n",
    "\n",
    "axarr[0].axvline(x=2, color = 'r')\n",
    "axarr[0].axvline(x=4, color = 'r')\n",
    "axarr[0].axhline(y=2, color = 'r')\n",
    "axarr[0].axhline(y=4, color = 'r')\n",
    "\n",
    "axarr[1].axvline(x=2, color = 'r')\n",
    "axarr[1].axvline(x=4, color = 'r')\n",
    "axarr[1].axhline(y=2, color = 'r')\n",
    "axarr[1].axhline(y=4, color = 'r')\n",
    "\n",
    "for i in range(n_samples): \n",
    "    f, axarr = plt.subplots(1, 3, figsize=(16, 4))\n",
    "\n",
    "    plotting_utils.plot_subimage(axarr[0], images[0, band],\n",
    "                                sampled_locs[i], \n",
    "                                true_locs.squeeze(), \n",
    "                                int(star_encoder.tile_coords[indx, 0]), \n",
    "                                int(star_encoder.tile_coords[indx, 1]), \n",
    "                                patch_slen = star_encoder.patch_slen, \n",
    "                                add_colorbar = True, \n",
    "                                global_fig = f)\n",
    "\n",
    "    plotting_utils.plot_subimage(axarr[1], recon_sampled[i, band],\n",
    "                                sampled_locs[i], \n",
    "                                None, \n",
    "                                int(star_encoder.tile_coords[indx, 0]), \n",
    "                                int(star_encoder.tile_coords[indx, 1]), \n",
    "                                patch_slen = star_encoder.patch_slen, \n",
    "                                add_colorbar = True, \n",
    "                                global_fig = f)\n",
    "\n",
    "    foo = torch.log10(recon_sampled[i, band] / images[0, band])\n",
    "    plotting_utils.plot_subimage(axarr[2], foo, \n",
    "                                sampled_locs[i], \n",
    "                                None, \n",
    "                                int(star_encoder.tile_coords[indx, 0]), \n",
    "                                int(star_encoder.tile_coords[indx, 1]), \n",
    "                                patch_slen = star_encoder.patch_slen, \n",
    "                                add_colorbar = True, \n",
    "                                global_fig = f, \n",
    "                                diverging_cmap = True)\n",
    "\n",
    "    axarr[0].axvline(x=2, color = 'r')\n",
    "    axarr[0].axvline(x=4, color = 'r')\n",
    "    axarr[0].axhline(y=2, color = 'r')\n",
    "    axarr[0].axhline(y=4, color = 'r')\n",
    "\n",
    "    axarr[1].axvline(x=2, color = 'r')\n",
    "    axarr[1].axvline(x=4, color = 'r')\n",
    "    axarr[1].axhline(y=2, color = 'r')\n",
    "    axarr[1].axhline(y=4, color = 'r')"
   ]
  },
  {
   "cell_type": "code",
   "execution_count": null,
   "metadata": {},
   "outputs": [],
   "source": []
  },
  {
   "cell_type": "code",
   "execution_count": null,
   "metadata": {},
   "outputs": [],
   "source": []
  },
  {
   "cell_type": "code",
   "execution_count": null,
   "metadata": {},
   "outputs": [],
   "source": [
    "sampled_locs_full_image, _, sampled_n_stars_full = \\\n",
    "    star_encoder.sample_star_encoder(images, \n",
    "                                     patch_n_stars = None, \n",
    "                                    return_map_n_stars = False,\n",
    "                                    return_map_star_params = False, \n",
    "                                    n_samples = 100)[0:3]"
   ]
  },
  {
   "cell_type": "code",
   "execution_count": null,
   "metadata": {},
   "outputs": [],
   "source": [
    "f, axarr = plt.subplots(1, 1, figsize=(4, 4))\n",
    "\n",
    "foo = sampled_locs_full_image.view(-1, 2)\n",
    "\n",
    "indx = int(np.random.choice(image_patches.shape[0], 1))\n",
    "\n",
    "plotting_utils.plot_subimage(axarr, images[0, band],\n",
    "                            foo[foo[:, 0] > 0], # map_locs.squeeze(), \n",
    "                            true_locs.squeeze(), \n",
    "                            int(star_encoder.tile_coords[indx, 0]), \n",
    "                            int(star_encoder.tile_coords[indx, 1]), \n",
    "                            patch_slen = star_encoder.patch_slen, \n",
    "                            add_colorbar = True, \n",
    "                            global_fig = f, alpha = 0.2)\n"
   ]
  },
  {
   "cell_type": "code",
   "execution_count": null,
   "metadata": {},
   "outputs": [],
   "source": []
  },
  {
   "cell_type": "code",
   "execution_count": null,
   "metadata": {},
   "outputs": [],
   "source": []
  }
 ],
 "metadata": {
  "kernelspec": {
   "display_name": "pytorch_update",
   "language": "python",
   "name": "pytorch_update"
  },
  "language_info": {
   "codemirror_mode": {
    "name": "ipython",
    "version": 3
   },
   "file_extension": ".py",
   "mimetype": "text/x-python",
   "name": "python",
   "nbconvert_exporter": "python",
   "pygments_lexer": "ipython3",
   "version": "3.6.8"
  }
 },
 "nbformat": 4,
 "nbformat_minor": 2
}

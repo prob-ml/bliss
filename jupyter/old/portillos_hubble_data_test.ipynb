{
 "cells": [
  {
   "cell_type": "code",
   "execution_count": null,
   "metadata": {},
   "outputs": [],
   "source": [
    "import numpy as np\n",
    "import pathlib \n",
    "\n",
    "import matplotlib.pyplot as plt\n",
    "\n",
    "import torch\n",
    "\n",
    "from torch.utils.data import Dataset\n",
    "\n",
    "import sys\n",
    "sys.path.insert(0, '../')\n",
    "import sdss_dataset_lib\n",
    "import sdss_psf\n",
    "\n",
    "from astropy.io import fits\n",
    "from astropy.wcs import WCS\n",
    "\n",
    "device = torch.device(\"cuda:0\" if torch.cuda.is_available() else \"cpu\")\n",
    "\n",
    "import os"
   ]
  },
  {
   "cell_type": "code",
   "execution_count": null,
   "metadata": {},
   "outputs": [],
   "source": [
    "# load data\n",
    "sdss_hubble_data = sdss_dataset_lib.SDSSHubbleData()"
   ]
  },
  {
   "cell_type": "code",
   "execution_count": null,
   "metadata": {},
   "outputs": [],
   "source": [
    "# the full image\n",
    "plt.matshow(sdss_hubble_data.sdss_image_full.squeeze())"
   ]
  },
  {
   "cell_type": "code",
   "execution_count": null,
   "metadata": {},
   "outputs": [],
   "source": [
    "# the 100 x 100 subset in Portillos\n",
    "plt.matshow(sdss_hubble_data.sdss_image.squeeze())"
   ]
  },
  {
   "cell_type": "code",
   "execution_count": null,
   "metadata": {},
   "outputs": [],
   "source": []
  },
  {
   "cell_type": "code",
   "execution_count": null,
   "metadata": {},
   "outputs": [],
   "source": [
    "# check the hubble coordinates overlap with the globular cluster\n",
    "plt.matshow(sdss_hubble_data.sdss_image_full.squeeze())\n",
    "plt.plot(sdss_hubble_data.locs_full_x1, \n",
    "         sdss_hubble_data.locs_full_x0, alpha = 0.2)"
   ]
  },
  {
   "cell_type": "code",
   "execution_count": null,
   "metadata": {},
   "outputs": [],
   "source": [
    "sdss_hubble_data.nelec_per_nmgy"
   ]
  },
  {
   "cell_type": "code",
   "execution_count": null,
   "metadata": {},
   "outputs": [],
   "source": []
  },
  {
   "cell_type": "markdown",
   "metadata": {},
   "source": [
    "# plot a few subimages"
   ]
  },
  {
   "cell_type": "code",
   "execution_count": null,
   "metadata": {},
   "outputs": [],
   "source": [
    "import plotting_utils"
   ]
  },
  {
   "cell_type": "code",
   "execution_count": null,
   "metadata": {},
   "outputs": [],
   "source": [
    "x0_vec = np.arange(0, 100, 10)\n",
    "x1_vec = x0_vec"
   ]
  },
  {
   "cell_type": "code",
   "execution_count": null,
   "metadata": {},
   "outputs": [],
   "source": [
    "plt.hist(sdss_hubble_data.locs.flatten())"
   ]
  },
  {
   "cell_type": "code",
   "execution_count": null,
   "metadata": {},
   "outputs": [],
   "source": [
    "f, axarr = plt.subplots(2, 3, figsize=(16, 12))\n",
    "\n",
    "for i in range(6): \n",
    "    x0 = int(np.random.choice(x0_vec, 1))\n",
    "    x1 = int(np.random.choice(x1_vec, 1))\n",
    "    \n",
    "    which_bright = sdss_hubble_data.fluxes > 1300.\n",
    "\n",
    "    plotting_utils.plot_subimage(axarr[i // 3, i % 3], \n",
    "                                sdss_hubble_data.sdss_image.squeeze(), \n",
    "                                None, \n",
    "                                sdss_hubble_data.locs[which_bright], \n",
    "                                x0, x1, \n",
    "                                subimage_slen = 10, \n",
    "                                add_colorbar = True, \n",
    "                                global_fig = f)"
   ]
  },
  {
   "cell_type": "markdown",
   "metadata": {},
   "source": [
    "# The images shown in Portillos"
   ]
  },
  {
   "cell_type": "code",
   "execution_count": null,
   "metadata": {},
   "outputs": [],
   "source": [
    "f, axarr = plt.subplots(2, 2, figsize=(16, 12))\n",
    "\n",
    "# image 1\n",
    "x0 = 53\n",
    "x1 = 70\n",
    "\n",
    "plotting_utils.plot_subimage(axarr[0, 0], \n",
    "                            sdss_hubble_data.sdss_image.squeeze(), \n",
    "                            None, \n",
    "                            sdss_hubble_data.locs[which_bright], \n",
    "                            x0, x1, \n",
    "                            subimage_slen = 10, \n",
    "                            add_colorbar = True, \n",
    "                            global_fig = f)\n",
    "\n",
    "axarr[0, 0].invert_yaxis() \n",
    "\n",
    "\n",
    "# image 2\n",
    "x0 = 41\n",
    "x1 = 23\n",
    "\n",
    "plotting_utils.plot_subimage(axarr[0, 1], \n",
    "                            sdss_hubble_data.sdss_image.squeeze(), \n",
    "                            None, \n",
    "                            sdss_hubble_data.locs[which_bright], \n",
    "                            x0, x1, \n",
    "                            subimage_slen = 10, \n",
    "                            add_colorbar = True, \n",
    "                            global_fig = f)\n",
    "\n",
    "axarr[0, 1].invert_yaxis() \n",
    "\n",
    "\n",
    "# image 3\n",
    "x0 = 31\n",
    "x1 = 83\n",
    "\n",
    "plotting_utils.plot_subimage(axarr[1, 0], \n",
    "                            sdss_hubble_data.sdss_image.squeeze(), \n",
    "                            None, \n",
    "                            sdss_hubble_data.locs[which_bright], \n",
    "                            x0, x1, \n",
    "                            subimage_slen = 10, \n",
    "                            add_colorbar = True, \n",
    "                            global_fig = f)\n",
    "\n",
    "axarr[1, 0].invert_yaxis() \n",
    "\n",
    "# image 4\n",
    "x0 = 32\n",
    "x1 = 64\n",
    "\n",
    "plotting_utils.plot_subimage(axarr[1, 1], \n",
    "                            sdss_hubble_data.sdss_image.squeeze(), \n",
    "                            None, \n",
    "                            sdss_hubble_data.locs[which_bright], \n",
    "                            x0, x1, \n",
    "                            subimage_slen = 10, \n",
    "                            add_colorbar = True, \n",
    "                            global_fig = f)\n",
    "\n",
    "axarr[1, 1].invert_yaxis() "
   ]
  },
  {
   "cell_type": "code",
   "execution_count": null,
   "metadata": {},
   "outputs": [],
   "source": []
  },
  {
   "cell_type": "code",
   "execution_count": null,
   "metadata": {},
   "outputs": [],
   "source": []
  },
  {
   "cell_type": "markdown",
   "metadata": {},
   "source": [
    "# Test my simulator"
   ]
  },
  {
   "cell_type": "code",
   "execution_count": null,
   "metadata": {},
   "outputs": [],
   "source": [
    "import simulated_datasets_lib"
   ]
  },
  {
   "cell_type": "code",
   "execution_count": null,
   "metadata": {},
   "outputs": [],
   "source": [
    "simulator = simulated_datasets_lib.StarSimulator(psf_fit_file=str(sdss_hubble_data.psf_file), \n",
    "                                    slen = sdss_hubble_data.slen, \n",
    "                                    sky_intensity = 0.)"
   ]
  },
  {
   "cell_type": "code",
   "execution_count": null,
   "metadata": {
    "code_folding": []
   },
   "outputs": [],
   "source": [
    "recon_mean = simulator.draw_image_from_params(locs = sdss_hubble_data.locs.unsqueeze(0), \n",
    "                                fluxes = sdss_hubble_data.fluxes.unsqueeze(0), \n",
    "                                n_stars = torch.Tensor([len(sdss_hubble_data.locs)]).type(torch.LongTensor), \n",
    "                                add_noise = False)"
   ]
  },
  {
   "cell_type": "code",
   "execution_count": null,
   "metadata": {},
   "outputs": [],
   "source": [
    "f, axarr = plt.subplots(1, 3, figsize=(16, 4))\n",
    "\n",
    "observed = sdss_hubble_data.sdss_image.squeeze() - sdss_hubble_data.sdss_background.squeeze()\n",
    "im0 = axarr[0].matshow(observed)\n",
    "f.colorbar(im0, ax=axarr[0])\n",
    "\n",
    "im1 = axarr[1].matshow(recon_mean.squeeze())\n",
    "f.colorbar(im1, ax=axarr[1])\n",
    "\n",
    "residual = recon_mean.squeeze() - observed\n",
    "im2 = axarr[2].matshow(residual / observed)\n",
    "f.colorbar(im2, ax=axarr[2])"
   ]
  },
  {
   "cell_type": "code",
   "execution_count": null,
   "metadata": {},
   "outputs": [],
   "source": [
    "### plot some subimages \n",
    "f, axarr = plt.subplots(1, 3, figsize=(16, 4))\n",
    "\n",
    "x0_vec = np.arange(0, 100, 10)\n",
    "x1_vec = x0_vec\n",
    "\n",
    "x0 = int(np.random.choice(x0_vec, 1))\n",
    "x1 = int(np.random.choice(x1_vec, 1))\n",
    "\n",
    "print([x0, x1])\n",
    "\n",
    "plotting_utils.plot_subimage(axarr[0], \n",
    "                            observed, \n",
    "                            None, \n",
    "                            sdss_hubble_data.locs[which_bright], \n",
    "                            x0, x1, \n",
    "                            subimage_slen = 10, \n",
    "                            add_colorbar = True, \n",
    "                            global_fig = f)\n",
    "\n",
    "\n",
    "plotting_utils.plot_subimage(axarr[1], \n",
    "                            recon_mean.squeeze(), \n",
    "                            None, \n",
    "                            sdss_hubble_data.locs[which_bright], \n",
    "                            x0, x1, \n",
    "                            subimage_slen = 10, \n",
    "                            add_colorbar = True, \n",
    "                            global_fig = f)\n",
    "\n",
    "plotting_utils.plot_subimage(axarr[2], \n",
    "                            residual/observed, \n",
    "                            None, \n",
    "                            sdss_hubble_data.locs[which_bright], \n",
    "                            x0, x1, \n",
    "                            subimage_slen = 10, \n",
    "                            add_colorbar = True, \n",
    "                            global_fig = f)"
   ]
  },
  {
   "cell_type": "code",
   "execution_count": null,
   "metadata": {},
   "outputs": [],
   "source": [
    "plt.hist((residual / observed).flatten(), bins = 100);"
   ]
  },
  {
   "cell_type": "code",
   "execution_count": null,
   "metadata": {},
   "outputs": [],
   "source": []
  },
  {
   "cell_type": "code",
   "execution_count": null,
   "metadata": {},
   "outputs": [],
   "source": []
  },
  {
   "cell_type": "code",
   "execution_count": null,
   "metadata": {},
   "outputs": [],
   "source": [
    "simulator.psf.max()"
   ]
  },
  {
   "cell_type": "code",
   "execution_count": null,
   "metadata": {},
   "outputs": [],
   "source": [
    "sdss_hubble_data.sdss_data[0]['calibration'] "
   ]
  },
  {
   "cell_type": "code",
   "execution_count": null,
   "metadata": {},
   "outputs": [],
   "source": []
  },
  {
   "cell_type": "code",
   "execution_count": null,
   "metadata": {},
   "outputs": [],
   "source": []
  },
  {
   "cell_type": "raw",
   "metadata": {},
   "source": [
    "sdss_hubble_data.plot_image_patch(x0 = 630 + 53, \n",
    "                                  x1 = 309 + 70, \n",
    "                                  slen = 10,\n",
    "                                  flip_y = True)"
   ]
  },
  {
   "cell_type": "raw",
   "metadata": {},
   "source": [
    "sdss_hubble_data.plot_image_patch(x0 = 630 + 41, \n",
    "                                  x1 = 309 + 23, \n",
    "                                  slen = 10,\n",
    "                                  flip_y = True)"
   ]
  },
  {
   "cell_type": "raw",
   "metadata": {},
   "source": [
    "sdss_hubble_data.plot_image_patch(x0 = 630 + 31, \n",
    "                                  x1 = 309 + 83, \n",
    "                                  slen = 10,\n",
    "                                  flip_y = True)"
   ]
  },
  {
   "cell_type": "raw",
   "metadata": {},
   "source": [
    "sdss_hubble_data.plot_image_patch(x0 = 630 + 32, \n",
    "                                  x1 = 309 + 64, \n",
    "                                  slen = 10,\n",
    "                                  flip_y = True)"
   ]
  },
  {
   "cell_type": "code",
   "execution_count": null,
   "metadata": {},
   "outputs": [],
   "source": []
  },
  {
   "cell_type": "code",
   "execution_count": null,
   "metadata": {},
   "outputs": [],
   "source": []
  },
  {
   "cell_type": "code",
   "execution_count": null,
   "metadata": {},
   "outputs": [],
   "source": []
  },
  {
   "cell_type": "raw",
   "metadata": {},
   "source": [
    "# Check out pcat results"
   ]
  },
  {
   "cell_type": "raw",
   "metadata": {},
   "source": [
    "sdss_hubble_data.plot_image_patch(x0 = 630 + 53, \n",
    "                                  x1 = 309 + 70, \n",
    "                                  slen = 10,\n",
    "                                  flip_y = True)"
   ]
  },
  {
   "cell_type": "raw",
   "metadata": {},
   "source": [
    "chain_results = np.load('../../multiband_pcat/pcat-lion-results/20190920-152141/chain.npz')"
   ]
  },
  {
   "cell_type": "raw",
   "metadata": {},
   "source": [
    "pcat_catalog = np.loadtxt('../../multiband_pcat/pcat-lion-results/20190920-152141/classical_catalog.txt')"
   ]
  },
  {
   "cell_type": "raw",
   "metadata": {},
   "source": [
    "pcat_catalog.shape"
   ]
  },
  {
   "cell_type": "raw",
   "metadata": {},
   "source": [
    "use_classical_catalogue = False\n",
    "\n",
    "if use_classical_catalogue: \n",
    "    x1_loc = pcat_catalog[:, 0]\n",
    "    x0_loc = pcat_catalog[:, 2]\n",
    "else: \n",
    "    x1_loc = chain_results['x'][-300:, ]\n",
    "    x0_loc = chain_results['y'][-300:, ]"
   ]
  },
  {
   "cell_type": "raw",
   "metadata": {},
   "source": [
    "plt.matshow(sdss_hubble_data.sdss_image_full[630:730, 309:409])"
   ]
  },
  {
   "cell_type": "raw",
   "metadata": {},
   "source": [
    "pcat_image = np.loadtxt('../../multiband_pcat/Data/idR-002583-2-0136/cts/idR-002583-2-0136-ctsr.txt')"
   ]
  },
  {
   "cell_type": "raw",
   "metadata": {},
   "source": [
    "plt.matshow(pcat_image)"
   ]
  },
  {
   "cell_type": "raw",
   "metadata": {},
   "source": [
    "foo = sdss_hubble_data.sdss_image_full[630:730, 309:409]"
   ]
  },
  {
   "cell_type": "raw",
   "metadata": {},
   "source": [
    "plt.matshow(foo[0:10, 0:10] / pcat_image[0:10, 0:10])\n",
    "plt.colorbar()"
   ]
  },
  {
   "cell_type": "raw",
   "metadata": {},
   "source": []
  },
  {
   "cell_type": "raw",
   "metadata": {},
   "source": []
  },
  {
   "cell_type": "raw",
   "metadata": {},
   "source": [
    "plt.matshow(pcat_image[0:10, 0:10])"
   ]
  },
  {
   "cell_type": "raw",
   "metadata": {},
   "source": [
    "plt.matshow(sdss_hubble_data.sdss_image_full[630:640, 309:319])"
   ]
  },
  {
   "cell_type": "raw",
   "metadata": {},
   "source": [
    "x0 = 32\n",
    "x1 = 64\n",
    "slen = 10\n",
    "\n",
    "which_pixels = (x0_loc > x0 - 0.5) & \\\n",
    "                    (x0_loc < (x0 + slen - 0.5)) & \\\n",
    "                (x1_loc > x1 - 0.5) & \\\n",
    "                    (x1_loc < (x1 + slen - 0.5))\n",
    "\n",
    "\n",
    "sdss_hubble_data.plot_image_patch(x0 = 630 + x0, \n",
    "                                  x1 = 309 + x1, \n",
    "                                  slen = 10,\n",
    "                                  flip_y = False)\n",
    "\n",
    "plt.scatter(x1_loc[which_pixels] - x1, \n",
    "            x0_loc[which_pixels] - x0, \n",
    "            color = 'r', marker = 'x', alpha = 0.01)"
   ]
  },
  {
   "cell_type": "raw",
   "metadata": {},
   "source": [
    "# Check results on my simulated data"
   ]
  },
  {
   "cell_type": "raw",
   "metadata": {},
   "source": [
    "simulated_image = np.loadtxt('../../multiband_pcat/Data/sdss_simulated/cts/sdss_simulated-ctsr.txt')"
   ]
  },
  {
   "cell_type": "raw",
   "metadata": {},
   "source": [
    "plt.matshow(simulated_image)"
   ]
  },
  {
   "cell_type": "raw",
   "metadata": {},
   "source": [
    "chain_results_sim = np.load('../../multiband_pcat/pcat-lion-results/20190924-111329/chain.npz')"
   ]
  },
  {
   "cell_type": "raw",
   "metadata": {},
   "source": [
    "x1_loc = chain_results_sim['x'][-300:, ]\n",
    "x0_loc = chain_results_sim['y'][-300:, ]"
   ]
  },
  {
   "cell_type": "raw",
   "metadata": {},
   "source": [
    "plt.matshow(simulated_image)"
   ]
  },
  {
   "cell_type": "raw",
   "metadata": {},
   "source": [
    "x0 = 40\n",
    "x1 = 10\n",
    "slen = 10\n",
    "\n",
    "which_pixels = (x0_loc > x0 - 0.5) & \\\n",
    "                    (x0_loc < (x0 + slen - 0.5)) & \\\n",
    "                (x1_loc > x1 - 0.5) & \\\n",
    "                    (x1_loc < (x1 + slen - 0.5))\n",
    "\n",
    "plt.matshow(simulated_image[x0:(x0+slen), x1:(x1+slen)])\n",
    "            \n",
    "plt.scatter((x1_loc[which_pixels] - x1).flatten(), \n",
    "            (x0_loc[which_pixels] - x0).flatten(), \n",
    "            color = 'r', marker = 'x', alpha = 0.01)"
   ]
  },
  {
   "cell_type": "raw",
   "metadata": {},
   "source": []
  },
  {
   "cell_type": "code",
   "execution_count": null,
   "metadata": {},
   "outputs": [],
   "source": []
  },
  {
   "cell_type": "code",
   "execution_count": null,
   "metadata": {},
   "outputs": [],
   "source": []
  },
  {
   "cell_type": "code",
   "execution_count": null,
   "metadata": {},
   "outputs": [],
   "source": []
  },
  {
   "cell_type": "code",
   "execution_count": null,
   "metadata": {},
   "outputs": [],
   "source": [
    "x1_loc[which_pixels]"
   ]
  },
  {
   "cell_type": "code",
   "execution_count": null,
   "metadata": {},
   "outputs": [],
   "source": []
  },
  {
   "cell_type": "raw",
   "metadata": {},
   "source": [
    "# Understanding the input to multiband pcat"
   ]
  },
  {
   "cell_type": "raw",
   "metadata": {},
   "source": [
    "pcat_image = np.loadtxt('../../multiband_pcat/Data/idR-002583-2-0136/cts/idR-002583-2-0136-ctsr.txt')"
   ]
  },
  {
   "cell_type": "raw",
   "metadata": {},
   "source": [
    "np.min(pcat_image)"
   ]
  },
  {
   "cell_type": "raw",
   "metadata": {},
   "source": [
    "psf_pcat = np.loadtxt('../../multiband_pcat/Data/idR-002583-2-0136/psfs/idR-002583-2-0136-psfr.txt', skiprows=1)"
   ]
  },
  {
   "cell_type": "raw",
   "metadata": {},
   "source": [
    "plt.matshow(psf_pcat)"
   ]
  },
  {
   "cell_type": "raw",
   "metadata": {},
   "source": [
    "np.max(psf_pcat)"
   ]
  },
  {
   "cell_type": "raw",
   "metadata": {},
   "source": [
    "psf = sdss_psf.psf_at_points(0, 0, psf_fit_file = sdss_hubble_data.psf_file)"
   ]
  },
  {
   "cell_type": "raw",
   "metadata": {},
   "source": [
    "plt.matshow(psf)"
   ]
  },
  {
   "cell_type": "raw",
   "metadata": {},
   "source": [
    "np.max(psf)"
   ]
  },
  {
   "cell_type": "raw",
   "metadata": {},
   "source": []
  },
  {
   "cell_type": "raw",
   "metadata": {},
   "source": []
  },
  {
   "cell_type": "raw",
   "metadata": {},
   "source": [
    "g = open('../../multiband_pcat/Data/idR-002583-2-0136/pixs/idR-002583-2-0136-pixr.txt')"
   ]
  },
  {
   "cell_type": "raw",
   "metadata": {},
   "source": [
    "nmgy_per_count = []"
   ]
  },
  {
   "cell_type": "raw",
   "metadata": {},
   "source": [
    "w, h, nb = [np.int32(i) for i in g.readline().split()]\n",
    "bias, gain = [np.float32(i) for i in g.readline().split()]\n",
    "if True:\n",
    "    a = np.float32(g.readline().split())\n",
    "\n",
    "    nmgy_per_count.append(a[0])\n",
    "\n",
    "    biases.append(bias)\n",
    "    \n",
    "gains.append(gain)\n",
    "g.close()\n"
   ]
  },
  {
   "cell_type": "raw",
   "metadata": {},
   "source": [
    "chain_results.keys()"
   ]
  },
  {
   "cell_type": "raw",
   "metadata": {},
   "source": [
    "chain_results['back']"
   ]
  }
 ],
 "metadata": {
  "kernelspec": {
   "display_name": "Python (pytorch_04)",
   "language": "python",
   "name": "pytorch_update"
  },
  "language_info": {
   "codemirror_mode": {
    "name": "ipython",
    "version": 3
   },
   "file_extension": ".py",
   "mimetype": "text/x-python",
   "name": "python",
   "nbconvert_exporter": "python",
   "pygments_lexer": "ipython3",
   "version": "3.6.8"
  }
 },
 "nbformat": 4,
 "nbformat_minor": 2
}

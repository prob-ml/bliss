{
 "cells": [
  {
   "cell_type": "code",
   "execution_count": null,
   "metadata": {},
   "outputs": [],
   "source": [
    "import numpy as np\n",
    "\n",
    "import pyfits as pyf\n",
    "\n",
    "import matplotlib.pyplot as plt\n",
    "\n",
    "import fitsio"
   ]
  },
  {
   "cell_type": "code",
   "execution_count": null,
   "metadata": {},
   "outputs": [],
   "source": [
    "import sys\n",
    "sys.path.insert(0, '../')\n",
    "\n",
    "import sdss_dataset_lib\n",
    "\n"
   ]
  },
  {
   "cell_type": "code",
   "execution_count": null,
   "metadata": {},
   "outputs": [],
   "source": [
    "sdss_hubble_data = sdss_dataset_lib.SDSSHubbleData()"
   ]
  },
  {
   "cell_type": "code",
   "execution_count": null,
   "metadata": {},
   "outputs": [],
   "source": []
  },
  {
   "cell_type": "code",
   "execution_count": null,
   "metadata": {},
   "outputs": [],
   "source": []
  },
  {
   "cell_type": "code",
   "execution_count": null,
   "metadata": {},
   "outputs": [],
   "source": [
    "portillos_image = np.loadtxt('../../multiband_pcat/Data/idR-002583-2-0136/cts/idR-002583-2-0136-ctsr.txt')"
   ]
  },
  {
   "cell_type": "code",
   "execution_count": null,
   "metadata": {},
   "outputs": [],
   "source": [
    "my_image = sdss_hubble_data.sdss_image.squeeze()"
   ]
  },
  {
   "cell_type": "code",
   "execution_count": null,
   "metadata": {},
   "outputs": [],
   "source": [
    "plt.matshow((my_image[0:100, 0:100].numpy() - (portillos_image - 1044.)) / (portillos_image - 1044.))\n",
    "plt.colorbar()"
   ]
  },
  {
   "cell_type": "code",
   "execution_count": null,
   "metadata": {},
   "outputs": [],
   "source": [
    "import simulated_datasets_lib"
   ]
  },
  {
   "cell_type": "code",
   "execution_count": null,
   "metadata": {},
   "outputs": [],
   "source": [
    "simulator = simulated_datasets_lib.StarSimulator(psf_fit_file=str(sdss_hubble_data.psf_file), \n",
    "                                    slen = sdss_hubble_data.slen, \n",
    "                                    sky_intensity = 179.)"
   ]
  },
  {
   "cell_type": "code",
   "execution_count": null,
   "metadata": {},
   "outputs": [],
   "source": [
    "sdss_hubble_data.psf_file"
   ]
  },
  {
   "cell_type": "code",
   "execution_count": null,
   "metadata": {},
   "outputs": [],
   "source": [
    "import torch"
   ]
  },
  {
   "cell_type": "code",
   "execution_count": null,
   "metadata": {},
   "outputs": [],
   "source": [
    "recon_mean = simulator.draw_image_from_params(locs = sdss_hubble_data.locs.unsqueeze(0), \n",
    "                                fluxes = sdss_hubble_data.fluxes.unsqueeze(0), \n",
    "                                n_stars = torch.Tensor([len(sdss_hubble_data.locs)]).type(torch.LongTensor), \n",
    "                                add_noise = False) "
   ]
  },
  {
   "cell_type": "code",
   "execution_count": null,
   "metadata": {},
   "outputs": [],
   "source": [
    "plt.matshow(sdss_hubble_data.sdss_image.squeeze())\n",
    "plt.colorbar()"
   ]
  },
  {
   "cell_type": "code",
   "execution_count": null,
   "metadata": {},
   "outputs": [],
   "source": [
    "plt.matshow(recon_mean.squeeze())\n",
    "plt.colorbar()"
   ]
  },
  {
   "cell_type": "code",
   "execution_count": null,
   "metadata": {},
   "outputs": [],
   "source": []
  },
  {
   "cell_type": "code",
   "execution_count": null,
   "metadata": {},
   "outputs": [],
   "source": [
    "import plotting_utils"
   ]
  },
  {
   "cell_type": "code",
   "execution_count": null,
   "metadata": {},
   "outputs": [],
   "source": [
    "which_bright = sdss_hubble_data.fluxes > 1000."
   ]
  },
  {
   "cell_type": "code",
   "execution_count": null,
   "metadata": {},
   "outputs": [],
   "source": [
    "### plot some subimages \n",
    "f, axarr = plt.subplots(1, 3, figsize=(16, 4))\n",
    "\n",
    "x0_vec = np.arange(0, 100, 10)\n",
    "x1_vec = x0_vec\n",
    "\n",
    "x0 = int(np.random.choice(x0_vec, 1))\n",
    "x1 = int(np.random.choice(x1_vec, 1))\n",
    "\n",
    "print([x0, x1])\n",
    "\n",
    "plotting_utils.plot_subimage(axarr[0], \n",
    "                            my_image, \n",
    "                            None, \n",
    "                            sdss_hubble_data.locs[which_bright], \n",
    "                            x0, x1, \n",
    "                            subimage_slen = 10, \n",
    "                            add_colorbar = True, \n",
    "                            global_fig = f)\n",
    "\n",
    "\n",
    "plotting_utils.plot_subimage(axarr[1], \n",
    "                            recon_mean.squeeze(), \n",
    "                            None, \n",
    "                            sdss_hubble_data.locs[which_bright], \n",
    "                            x0, x1, \n",
    "                            subimage_slen = 10, \n",
    "                            add_colorbar = True, \n",
    "                            global_fig = f)\n",
    "\n",
    "residual = my_image - recon_mean.squeeze()\n",
    "plotting_utils.plot_subimage(axarr[2], \n",
    "                            residual / my_image, \n",
    "                            None, \n",
    "                            sdss_hubble_data.locs[which_bright], \n",
    "                            x0, x1, \n",
    "                            subimage_slen = 10, \n",
    "                            add_colorbar = True, \n",
    "                            global_fig = f, \n",
    "                            diverging_cmap = True)"
   ]
  },
  {
   "cell_type": "code",
   "execution_count": null,
   "metadata": {},
   "outputs": [],
   "source": [
    "plt.hist((residual / my_image).flatten(), bins = 100);"
   ]
  },
  {
   "cell_type": "code",
   "execution_count": null,
   "metadata": {},
   "outputs": [],
   "source": []
  },
  {
   "cell_type": "markdown",
   "metadata": {},
   "source": [
    "# Check out portillos flux units"
   ]
  },
  {
   "cell_type": "code",
   "execution_count": null,
   "metadata": {},
   "outputs": [],
   "source": [
    "results_dir = '../../multiband_pcat/pcat-lion-results/20191017-113443/'"
   ]
  },
  {
   "cell_type": "code",
   "execution_count": null,
   "metadata": {},
   "outputs": [],
   "source": [
    "pcat_catalog = np.loadtxt(results_dir + 'classical_catalog.txt')\n",
    "    \n",
    "x1_loc = pcat_catalog[:, 0]\n",
    "x0_loc = pcat_catalog[:, 2]\n",
    "\n",
    "fluxes = pcat_catalog[:, 4]\n",
    "\n",
    "# remove na\n",
    "is_na = np.isnan(x1_loc) | np.isnan(x1_loc) | np.isnan(fluxes)\n",
    "\n",
    "x1_loc = x1_loc[~is_na]\n",
    "x0_loc = x0_loc[~is_na]\n",
    "fluxes = fluxes[~is_na]\n",
    "\n",
    "portillos_est_locs = torch.Tensor([x0_loc, x1_loc]).transpose(0,1) / (sdss_hubble_data.slen - 1)\n",
    "portillos_est_fluxes = torch.Tensor(fluxes)"
   ]
  },
  {
   "cell_type": "code",
   "execution_count": null,
   "metadata": {},
   "outputs": [],
   "source": [
    "# only works if we have the classical catalogue\n",
    "_locs = portillos_est_locs.unsqueeze(0) \n",
    "_fluxes = torch.Tensor(portillos_est_fluxes).unsqueeze(0)\n",
    "_n_stars = torch.Tensor([len(x0_loc)]).type(torch.LongTensor)\n",
    "    \n",
    "portillos_recon_mean = simulator.draw_image_from_params(locs = _locs, \n",
    "                                            fluxes = _fluxes,\n",
    "                                             n_stars = _n_stars,  \n",
    "                                             add_noise = False) + sdss_hubble_data.sdss_background\n",
    "\n",
    "plt.matshow(portillos_recon_mean.squeeze()); \n",
    "plt.colorbar()"
   ]
  },
  {
   "cell_type": "code",
   "execution_count": null,
   "metadata": {},
   "outputs": [],
   "source": [
    "foo = (portillos_image - 1044.) / "
   ]
  },
  {
   "cell_type": "code",
   "execution_count": null,
   "metadata": {},
   "outputs": [],
   "source": [
    "### plot some subimages \n",
    "f, axarr = plt.subplots(1, 3, figsize=(16, 4))\n",
    "\n",
    "x0_vec = np.arange(0, 100, 10)\n",
    "x1_vec = x0_vec\n",
    "\n",
    "x0 = int(np.random.choice(x0_vec, 1))\n",
    "x1 = int(np.random.choice(x1_vec, 1))\n",
    "\n",
    "print([x0, x1])\n",
    "\n",
    "plotting_utils.plot_subimage(axarr[0], \n",
    "                            observed, \n",
    "                            None, \n",
    "                            sdss_hubble_data.locs[which_bright], \n",
    "                            x0, x1, \n",
    "                            subimage_slen = 10, \n",
    "                            add_colorbar = True, \n",
    "                            global_fig = f)\n",
    "\n",
    "\n",
    "plotting_utils.plot_subimage(axarr[1], \n",
    "                            portillos_recon_mean.squeeze(), \n",
    "                            None, \n",
    "                            sdss_hubble_data.locs[which_bright], \n",
    "                            x0, x1, \n",
    "                            subimage_slen = 10, \n",
    "                            add_colorbar = True, \n",
    "                            global_fig = f)\n",
    "\n",
    "residual = observed - portillos_recon_mean.squeeze()\n",
    "plotting_utils.plot_subimage(axarr[2], \n",
    "                            residual / observed, \n",
    "                            None, \n",
    "                            sdss_hubble_data.locs[which_bright], \n",
    "                            x0, x1, \n",
    "                            subimage_slen = 10, \n",
    "                            add_colorbar = True, \n",
    "                            global_fig = f, \n",
    "                            diverging_cmap = True)"
   ]
  },
  {
   "cell_type": "code",
   "execution_count": null,
   "metadata": {},
   "outputs": [],
   "source": [
    "residual / observed"
   ]
  },
  {
   "cell_type": "code",
   "execution_count": null,
   "metadata": {},
   "outputs": [],
   "source": [
    "plt.hist((residual / observed).flatten(), bins = 100);"
   ]
  },
  {
   "cell_type": "code",
   "execution_count": null,
   "metadata": {},
   "outputs": [],
   "source": [
    "plt.hist(torch.log10(sdss_hubble_data.sdss_image.flatten()), bins = 100);"
   ]
  },
  {
   "cell_type": "code",
   "execution_count": null,
   "metadata": {},
   "outputs": [],
   "source": []
  },
  {
   "cell_type": "code",
   "execution_count": null,
   "metadata": {},
   "outputs": [],
   "source": []
  },
  {
   "cell_type": "code",
   "execution_count": null,
   "metadata": {},
   "outputs": [],
   "source": [
    "simulator.psf.max()"
   ]
  },
  {
   "cell_type": "code",
   "execution_count": null,
   "metadata": {},
   "outputs": [],
   "source": [
    "simulator.psf.mean()"
   ]
  },
  {
   "cell_type": "code",
   "execution_count": null,
   "metadata": {},
   "outputs": [],
   "source": []
  },
  {
   "cell_type": "code",
   "execution_count": null,
   "metadata": {},
   "outputs": [],
   "source": [
    "portillos_psf = np.loadtxt('../../multiband_pcat/Data/idR-002583-2-0136/psfs/idR-002583-2-0136-psfr.txt', skiprows=1)"
   ]
  },
  {
   "cell_type": "code",
   "execution_count": null,
   "metadata": {},
   "outputs": [],
   "source": [
    "portillos_psf.max()"
   ]
  },
  {
   "cell_type": "code",
   "execution_count": null,
   "metadata": {},
   "outputs": [],
   "source": [
    "portillos_psf.mean()"
   ]
  },
  {
   "cell_type": "code",
   "execution_count": null,
   "metadata": {},
   "outputs": [],
   "source": [
    "plt.matshow(simulator.psf_og)"
   ]
  },
  {
   "cell_type": "code",
   "execution_count": null,
   "metadata": {},
   "outputs": [],
   "source": [
    "plt.matshow(portillos_psf)"
   ]
  }
 ],
 "metadata": {
  "kernelspec": {
   "display_name": "Python (pytorch_04)",
   "language": "python",
   "name": "pytorch_update"
  },
  "language_info": {
   "codemirror_mode": {
    "name": "ipython",
    "version": 3
   },
   "file_extension": ".py",
   "mimetype": "text/x-python",
   "name": "python",
   "nbconvert_exporter": "python",
   "pygments_lexer": "ipython3",
   "version": "3.6.8"
  }
 },
 "nbformat": 4,
 "nbformat_minor": 2
}

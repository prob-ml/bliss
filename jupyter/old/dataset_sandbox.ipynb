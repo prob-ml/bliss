{
 "cells": [
  {
   "cell_type": "code",
   "execution_count": null,
   "metadata": {},
   "outputs": [],
   "source": [
    "import numpy as np\n",
    "\n",
    "import matplotlib.pyplot as plt\n",
    "\n",
    "import torch\n",
    "\n",
    "import sys\n",
    "sys.path.insert(0, './../')\n",
    "\n",
    "import sdss_psf\n",
    "import simulated_datasets_lib\n",
    "import sdss_dataset_lib\n",
    "\n",
    "import json\n",
    "\n",
    "device = torch.device(\"cuda:0\" if torch.cuda.is_available() else \"cpu\")\n",
    "\n",
    "print('torch version: ', torch.__version__)"
   ]
  },
  {
   "cell_type": "code",
   "execution_count": null,
   "metadata": {},
   "outputs": [],
   "source": [
    "# load PSF\n",
    "psf_fit_file = '../../celeste_net/sdss_stage_dir/2566/6/65/psField-002566-6-0065.fit'\n",
    "print('psf file: \\n', psf_fit_file)"
   ]
  },
  {
   "cell_type": "code",
   "execution_count": null,
   "metadata": {},
   "outputs": [],
   "source": [
    "np.random.seed(43534)\n",
    "_ = torch.manual_seed(24534)"
   ]
  },
  {
   "cell_type": "markdown",
   "metadata": {},
   "source": [
    "# Draw data"
   ]
  },
  {
   "cell_type": "code",
   "execution_count": null,
   "metadata": {},
   "outputs": [],
   "source": []
  },
  {
   "cell_type": "code",
   "execution_count": null,
   "metadata": {},
   "outputs": [],
   "source": [
    "simulated_datasets_lib.StarSimulator(psf_fit_file=psf_fit_file, \n",
    "                                    )"
   ]
  },
  {
   "cell_type": "code",
   "execution_count": null,
   "metadata": {},
   "outputs": [],
   "source": []
  },
  {
   "cell_type": "code",
   "execution_count": null,
   "metadata": {},
   "outputs": [],
   "source": []
  },
  {
   "cell_type": "code",
   "execution_count": null,
   "metadata": {},
   "outputs": [],
   "source": []
  },
  {
   "cell_type": "code",
   "execution_count": null,
   "metadata": {},
   "outputs": [],
   "source": [
    "# data parameters\n",
    "with open('../data/default_star_parameters.json', 'r') as fp:\n",
    "    data_params = json.load(fp)\n",
    "\n",
    "data_params['slen'] = 11\n",
    "data_params['min_stars'] = 0\n",
    "data_params['max_stars'] = 6\n",
    "data_params['alpha'] = 0.5\n",
    "\n",
    "print(data_params)\n"
   ]
  },
  {
   "cell_type": "code",
   "execution_count": null,
   "metadata": {},
   "outputs": [],
   "source": [
    "max_stars = data_params['max_stars']"
   ]
  },
  {
   "cell_type": "code",
   "execution_count": null,
   "metadata": {},
   "outputs": [],
   "source": [
    "n_images = 1024\n",
    "\n",
    "simulated_dataset = \\\n",
    "    simulated_datasets_lib.load_dataset_from_params(psf_fit_file,\n",
    "                            data_params,\n",
    "                            n_images = n_images,\n",
    "                            add_noise = True)"
   ]
  },
  {
   "cell_type": "code",
   "execution_count": null,
   "metadata": {},
   "outputs": [],
   "source": [
    "_, axarr = plt.subplots(2, 5, figsize=(18, 8))\n",
    "for i in range(0, 10): \n",
    "    \n",
    "    i1 = int(np.floor(i / 5))\n",
    "    i2 = i % 5\n",
    "    \n",
    "    indx = int(np.random.choice(n_images, 1))\n",
    "    data = simulated_dataset[indx]\n",
    "        \n",
    "    # image \n",
    "    axarr[i1, i2].matshow(data['image'][0, :, :] - data['background'][0, :, :])\n",
    "    axarr[i1, i2].set_title('n_stars: {}\\n'.format(data['n_stars']))\n",
    "    \n",
    "    # plot locations \n",
    "    locs_i = data['locs']\n",
    "    n_stars_i = data['n_stars']\n",
    "    locs_y = (locs_i[0:int(n_stars_i), 0]) * (simulated_dataset.slen - 1) \n",
    "    locs_x = (locs_i[0:int(n_stars_i), 1]) * (simulated_dataset.slen - 1)\n",
    "    \n",
    "    axarr[i1, i2].scatter(x = locs_x, y = locs_y, color = 'b')\n"
   ]
  },
  {
   "cell_type": "code",
   "execution_count": null,
   "metadata": {},
   "outputs": [],
   "source": []
  },
  {
   "cell_type": "code",
   "execution_count": null,
   "metadata": {},
   "outputs": [],
   "source": []
  },
  {
   "cell_type": "code",
   "execution_count": null,
   "metadata": {},
   "outputs": [],
   "source": []
  },
  {
   "cell_type": "code",
   "execution_count": null,
   "metadata": {},
   "outputs": [],
   "source": []
  },
  {
   "cell_type": "markdown",
   "metadata": {},
   "source": [
    "# check psf"
   ]
  },
  {
   "cell_type": "code",
   "execution_count": null,
   "metadata": {},
   "outputs": [],
   "source": [
    "plt.matshow(np.log(simulated_dataset.simulator.psf_full))"
   ]
  },
  {
   "cell_type": "code",
   "execution_count": null,
   "metadata": {},
   "outputs": [],
   "source": [
    "plt.matshow(simulated_dataset.simulator.psf, vmin = 0., vmax = 0.1)"
   ]
  },
  {
   "cell_type": "code",
   "execution_count": null,
   "metadata": {},
   "outputs": [],
   "source": [
    "n_trials = 10\n",
    "\n",
    "_n_stars = (torch.ones(n_trials) * 1).type(torch.LongTensor)\n",
    "_fluxes = torch.ones(n_trials, max_stars) * simulated_dataset.f_min * 100\n",
    "\n",
    "_locs = torch.zeros(n_trials, max_stars, 2) + 0.5\n",
    "\n",
    "diff = -1/11\n",
    "for i in range(n_trials): \n",
    "    _locs[i, :, 0] = 0.5 + diff\n",
    "    _locs[i, :, 1] = 0.5 + diff\n",
    "    \n",
    "    diff += 1/33"
   ]
  },
  {
   "cell_type": "code",
   "execution_count": null,
   "metadata": {},
   "outputs": [],
   "source": [
    "_images = simulated_dataset.simulator.draw_image_from_params(_locs, _fluxes, _n_stars, add_noise = False)"
   ]
  },
  {
   "cell_type": "code",
   "execution_count": null,
   "metadata": {},
   "outputs": [],
   "source": [
    "fig, axarr = plt.subplots(2, 5, figsize=(16, 8))\n",
    "\n",
    "for i in range(n_trials): \n",
    "    axarr[i // 5, i % 5].matshow(_images[i, 0, :, :])\n",
    "    axarr[i // 5, i % 5].scatter(_locs[i, 0, 1] * (_images.shape[-1] - 1), \n",
    "                _locs[i, 0, 0] * (_images.shape[-1] - 1))\n",
    "    \n",
    "    axarr[i // 5, i % 5].set_title('loc: {}\\n'.format(_locs[i, 0]))\n",
    "    \n",
    "fig.tight_layout()"
   ]
  },
  {
   "cell_type": "code",
   "execution_count": null,
   "metadata": {},
   "outputs": [],
   "source": [
    "_images[0, 0, :, :] - _images[1, 0, :, :]"
   ]
  },
  {
   "cell_type": "code",
   "execution_count": null,
   "metadata": {},
   "outputs": [],
   "source": []
  },
  {
   "cell_type": "markdown",
   "metadata": {},
   "source": [
    "# check out edge effects"
   ]
  },
  {
   "cell_type": "raw",
   "metadata": {},
   "source": [
    "edge_effect, edge_mean = \\\n",
    "    simulated_dataset.get_edge_effect(5)"
   ]
  },
  {
   "cell_type": "raw",
   "metadata": {},
   "source": [
    "for i in range(5): \n",
    "    _, axarr = plt.subplots(1, 2, figsize=(8, 4))\n",
    "    axarr[0].matshow(edge_effect[i, 0, :, :])\n",
    "    axarr[1].matshow(edge_mean[i, 0, :, :])"
   ]
  },
  {
   "cell_type": "raw",
   "metadata": {},
   "source": []
  },
  {
   "cell_type": "raw",
   "metadata": {},
   "source": []
  },
  {
   "cell_type": "raw",
   "metadata": {},
   "source": []
  },
  {
   "cell_type": "markdown",
   "metadata": {},
   "source": [
    "# Compare with Hubble data"
   ]
  },
  {
   "cell_type": "code",
   "execution_count": null,
   "metadata": {},
   "outputs": [],
   "source": [
    "hubble_cat_file='../hubble_data/NCG7078/hlsp_acsggct_hst_acs-wfc_ngc7078_r.rdviq.cal.adj.zpt.txt'\n",
    "sdss_hubble_data = sdss_dataset_lib.SDSSHubbleData(hubble_cat_file=hubble_cat_file, \n",
    "                                                   slen = 11, \n",
    "                                                   run = 2566, \n",
    "                                                   camcol = 6, \n",
    "                                                   field = 65, \n",
    "                                                max_detections = 20)"
   ]
  },
  {
   "cell_type": "code",
   "execution_count": null,
   "metadata": {},
   "outputs": [],
   "source": []
  },
  {
   "cell_type": "markdown",
   "metadata": {},
   "source": [
    "## Check full image"
   ]
  },
  {
   "cell_type": "code",
   "execution_count": null,
   "metadata": {
    "code_folding": []
   },
   "outputs": [],
   "source": [
    "# check the hubble coordinates overlap with the globular cluster\n",
    "plt.matshow(sdss_hubble_data.sdss_image_full.squeeze())\n",
    "plt.plot(sdss_hubble_data.locs_x1, sdss_hubble_data.locs_x0, alpha = 0.2)"
   ]
  },
  {
   "cell_type": "code",
   "execution_count": null,
   "metadata": {},
   "outputs": [],
   "source": [
    "# check the counts matrix\n",
    "plt.matshow(sdss_hubble_data.counts_mat)\n",
    "plt.colorbar()"
   ]
  },
  {
   "cell_type": "code",
   "execution_count": null,
   "metadata": {},
   "outputs": [],
   "source": [
    "# these are the tiles we kept\n",
    "plt.matshow((sdss_hubble_data.counts_mat > 0) & \n",
    "            (sdss_hubble_data.counts_mat < sdss_hubble_data.max_detections))"
   ]
  },
  {
   "cell_type": "code",
   "execution_count": null,
   "metadata": {},
   "outputs": [],
   "source": [
    "plt.matshow(sdss_hubble_data.sdss_image_full.squeeze()[0:(45 * 11), (94 * 11):(150 * 11)])"
   ]
  },
  {
   "cell_type": "code",
   "execution_count": null,
   "metadata": {},
   "outputs": [],
   "source": [
    "bool_mat = (sdss_hubble_data.counts_mat > 0) & \\\n",
    "            (sdss_hubble_data.counts_mat < sdss_hubble_data.max_detections)\n",
    "    \n",
    "plt.matshow(bool_mat[0:45, 94:150])"
   ]
  },
  {
   "cell_type": "code",
   "execution_count": null,
   "metadata": {},
   "outputs": [],
   "source": [
    "27 * 11"
   ]
  },
  {
   "cell_type": "code",
   "execution_count": null,
   "metadata": {},
   "outputs": [],
   "source": [
    "138 * 11"
   ]
  },
  {
   "cell_type": "markdown",
   "metadata": {},
   "source": [
    "### Check out some sample images"
   ]
  },
  {
   "cell_type": "code",
   "execution_count": null,
   "metadata": {},
   "outputs": [],
   "source": [
    "for i in range(0, 10): \n",
    "    \n",
    "    indx = np.random.choice(len(sdss_hubble_data), 1)\n",
    "        \n",
    "    data = sdss_hubble_data[indx]\n",
    "        \n",
    "    fig, axarr = plt.subplots(1, 3, figsize=(15, 4))\n",
    "    \n",
    "    true_image = data['image'].squeeze() - data['background'].squeeze()\n",
    "    vmin = np.min(true_image)\n",
    "    vmax = np.max(true_image)\n",
    "    \n",
    "    # get dim stars as well ... \n",
    "    x0 = sdss_hubble_data.tile_coords[indx, 0]\n",
    "    x1 = sdss_hubble_data.tile_coords[indx, 1]\n",
    "    \n",
    "    _, _, _, _, locs_dim, fluxes_dim = \\\n",
    "            sdss_hubble_data._get_hubble_params_in_patch(x0, x1, sdss_hubble_data.slen, \n",
    "                                                        return_dim_stars = True)\n",
    "    \n",
    "    # plot observed image \n",
    "    foo = axarr[0].matshow(true_image, vmin=vmin, vmax=vmax)\n",
    "    axarr[0].plot(data['locs'][0:data['n_stars'], 1] * (sdss_hubble_data.slen - 1), \n",
    "                 data['locs'][0:data['n_stars'], 0] * (sdss_hubble_data.slen - 1), 'x', color = 'r')\n",
    "    border_filter = data['fluxes_border'] > 0\n",
    "\n",
    "    axarr[0].plot(data['locs_border'][border_filter, 1] * (sdss_hubble_data.slen - 1), \n",
    "                 data['locs_border'][border_filter, 0] * (sdss_hubble_data.slen - 1), '.', color = 'r')\n",
    "    axarr[0].plot(locs_dim[:, 1] * (sdss_hubble_data.slen - 1), \n",
    "                 locs_dim[:, 0] * (sdss_hubble_data.slen - 1), '.', color = 'g')\n",
    "\n",
    "    axarr[0].set_title('observed; n_stars = {}; indx = {}\\n'.format(data['n_stars'], indx))\n",
    "    \n",
    "    # use parameters, simulate image \n",
    "    simulated_image = \\\n",
    "        simulated_dataset.draw_image_from_params(locs = torch.Tensor(data['locs']).unsqueeze(0), \n",
    "                                                 fluxes = torch.Tensor(data['fluxes']).unsqueeze(0), \n",
    "                                                 n_stars = torch.Tensor([data['n_stars']]), \n",
    "                                                 add_noise = False)\n",
    "        \n",
    "    simulated_image = simulated_image.squeeze().numpy() - simulated_dataset.sky_intensity\n",
    "    axarr[1].matshow(simulated_image, vmin=vmin, vmax=vmax)\n",
    "    axarr[1].plot(data['locs'][0:data['n_stars'], 1] * (sdss_hubble_data.slen - 1), \n",
    "                 data['locs'][0:data['n_stars'], 0] * (sdss_hubble_data.slen - 1), 'x', color = 'r')\n",
    "    axarr[1].set_title('simulated; flux rat = {:06f}\\n'.format(vmax / np.max(simulated_image)))\n",
    "    \n",
    "    fig.colorbar(foo, ax=[axarr[0], axarr[1]])\n",
    "    \n",
    "    foo2 = axarr[2].matshow(((true_image - simulated_image) > 0) * 1)\n",
    "    fig.colorbar(foo2, ax=[axarr[2]])"
   ]
  },
  {
   "cell_type": "code",
   "execution_count": null,
   "metadata": {},
   "outputs": [],
   "source": []
  },
  {
   "cell_type": "code",
   "execution_count": null,
   "metadata": {},
   "outputs": [],
   "source": []
  },
  {
   "cell_type": "code",
   "execution_count": null,
   "metadata": {},
   "outputs": [],
   "source": []
  },
  {
   "cell_type": "code",
   "execution_count": null,
   "metadata": {},
   "outputs": [],
   "source": []
  },
  {
   "cell_type": "code",
   "execution_count": null,
   "metadata": {},
   "outputs": [],
   "source": []
  },
  {
   "cell_type": "code",
   "execution_count": null,
   "metadata": {},
   "outputs": [],
   "source": []
  },
  {
   "cell_type": "code",
   "execution_count": null,
   "metadata": {},
   "outputs": [],
   "source": []
  },
  {
   "cell_type": "code",
   "execution_count": null,
   "metadata": {},
   "outputs": [],
   "source": []
  },
  {
   "cell_type": "markdown",
   "metadata": {},
   "source": [
    "# understanding flux distributions"
   ]
  },
  {
   "cell_type": "code",
   "execution_count": null,
   "metadata": {},
   "outputs": [],
   "source": [
    "true_fluxes = sdss_hubble_data.fluxes[sdss_hubble_data.which_bright]"
   ]
  },
  {
   "cell_type": "code",
   "execution_count": null,
   "metadata": {},
   "outputs": [],
   "source": [
    "plt.hist(np.log10(sdss_hubble_data.fluxes), bins = 100);"
   ]
  },
  {
   "cell_type": "code",
   "execution_count": null,
   "metadata": {},
   "outputs": [],
   "source": [
    "plt.hist(np.log10(true_fluxes))"
   ]
  },
  {
   "cell_type": "code",
   "execution_count": null,
   "metadata": {},
   "outputs": [],
   "source": [
    "min(true_fluxes)"
   ]
  },
  {
   "cell_type": "code",
   "execution_count": null,
   "metadata": {},
   "outputs": [],
   "source": [
    "foo = simulated_datasets_lib._draw_pareto_maxed(1300, 1e6, alpha = 0.5, shape = (len(true_fluxes), ))"
   ]
  },
  {
   "cell_type": "code",
   "execution_count": null,
   "metadata": {},
   "outputs": [],
   "source": [
    "plt.hist(np.log10(foo), alpha = 0.5); \n",
    "plt.hist(np.log10(true_fluxes), alpha = 0.5);"
   ]
  },
  {
   "cell_type": "code",
   "execution_count": null,
   "metadata": {},
   "outputs": [],
   "source": []
  },
  {
   "cell_type": "code",
   "execution_count": null,
   "metadata": {},
   "outputs": [],
   "source": []
  },
  {
   "cell_type": "code",
   "execution_count": null,
   "metadata": {},
   "outputs": [],
   "source": [
    "hubble_cat_file='../hubble_data/NCG7078/hlsp_acsggct_hst_acs-wfc_ngc7078_r.rdviq.cal.adj.zpt.txt'\n",
    "sdss_hubble_data = sdss_dataset_lib.SDSSHubbleData(hubble_cat_file=hubble_cat_file, \n",
    "                                                   slen = 30, \n",
    "                                                   run = 2566, \n",
    "                                                   camcol = 6, \n",
    "                                                   field = 65, \n",
    "                                                    max_detections = 200)"
   ]
  },
  {
   "cell_type": "code",
   "execution_count": null,
   "metadata": {},
   "outputs": [],
   "source": [
    "for i in range(0, 10): \n",
    "    \n",
    "    indx = np.random.choice(len(sdss_hubble_data), 1)\n",
    "        \n",
    "    data = sdss_hubble_data[indx]\n",
    "        \n",
    "    fig, axarr = plt.subplots(1, 2, figsize=(12, 6))\n",
    "    \n",
    "    true_image = data['image'].squeeze() - data['background'].squeeze()\n",
    "    vmin = np.min(true_image)\n",
    "    vmax = np.max(true_image)\n",
    "    \n",
    "    # plot observed image \n",
    "    foo = axarr[0].matshow(true_image, vmin=vmin, vmax=vmax)\n",
    "    axarr[0].plot(data['locs'][0:data['n_stars'], 1] * (sdss_hubble_data.slen - 1), \n",
    "                 data['locs'][0:data['n_stars'], 0] * (sdss_hubble_data.slen - 1), 'x', color = 'r')\n",
    "    axarr[0].plot(data['locs_border'][:, 1] * (sdss_hubble_data.slen - 1), \n",
    "                 data['locs_border'][:, 0] * (sdss_hubble_data.slen - 1), '.', color = 'r')\n",
    "\n",
    "    axarr[0].set_title('observed image; n_stars = {}; indx = {}'.format(data['n_stars'], indx))\n",
    "    \n",
    "#     # use parameters, simulate image \n",
    "#     simulated_image = \\\n",
    "#         simulated_dataset.draw_image_from_params(locs = torch.Tensor(data['locs']).unsqueeze(0), \n",
    "#                                                  fluxes = torch.Tensor(data['fluxes']).unsqueeze(0), \n",
    "#                                                  n_stars = torch.Tensor([data['n_stars']]), \n",
    "#                                                  add_noise = False)\n",
    "    \n",
    "#     simulated_image = simulated_image.squeeze().numpy() - data['background'].squeeze()\n",
    "#     axarr[1].matshow(simulated_image, vmin=vmin, vmax=vmax)\n",
    "#     axarr[1].plot(data['locs'][0:data['n_stars'], 1] * (sdss_hubble_data.slen - 1), \n",
    "#                  data['locs'][0:data['n_stars'], 0] * (sdss_hubble_data.slen - 1), 'x', color = 'r')\n",
    "#     axarr[1].set_title('simulated image; flux rat = {:06f}'.format(vmax / np.max(simulated_image)))\n",
    "    \n",
    "#     fig.colorbar(foo, ax=axarr.ravel().tolist())\n"
   ]
  },
  {
   "cell_type": "code",
   "execution_count": null,
   "metadata": {},
   "outputs": [],
   "source": []
  }
 ],
 "metadata": {
  "kernelspec": {
   "display_name": "Python (pytorch_04)",
   "language": "python",
   "name": "pytorch_update"
  },
  "language_info": {
   "codemirror_mode": {
    "name": "ipython",
    "version": 3
   },
   "file_extension": ".py",
   "mimetype": "text/x-python",
   "name": "python",
   "nbconvert_exporter": "python",
   "pygments_lexer": "ipython3",
   "version": "3.6.8"
  }
 },
 "nbformat": 4,
 "nbformat_minor": 2
}
